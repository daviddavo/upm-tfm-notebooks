{
 "cells": [
  {
   "cell_type": "code",
   "execution_count": 1,
   "id": "8ae1b30b-4d94-476c-ac67-a053ca130246",
   "metadata": {},
   "outputs": [],
   "source": [
    "from typing import List,Tuple\n",
    "\n",
    "from pathlib import Path\n",
    "import sys\n",
    "import datetime as dt\n",
    "\n",
    "import pandas as pd\n",
    "import numpy as np\n",
    "import seaborn as sns\n",
    "import matplotlib.pyplot as plt\n",
    "\n",
    "sns.set_theme()\n",
    "\n",
    "from src import paths, baseline\n",
    "from src.utils.notebooks import download_matplotlib"
   ]
  },
  {
   "cell_type": "code",
   "execution_count": 2,
   "id": "e0b5decf-fb3b-482e-8621-4cd3f0632040",
   "metadata": {},
   "outputs": [],
   "source": [
    "LAST_FOLDS = 10 # Used for asserts\n",
    "MAX_CUTOFF = '2023-07-29'\n",
    "SPLITS_NORMALIZE = True # Wether or not to move everything to 00:00\n",
    "\n",
    "# COPIED from 31_run_all.ipynb\n",
    "# Train, Cutoff date, Platform(s), Org Name\n",
    "# If the platform is none, it will be ALL PLATFORMS\n",
    "# If the cutoff date is none, it will use last 10 folds\n",
    "ORGS: List[Tuple[bool, str, str, str, str]] = [\n",
    "    # The first one, used to test if everything goes fine\n",
    "    (True, 'W-THU',   MAX_CUTOFF, 'snapshot', 'Decentraland'),\n",
    "    # ('snapshot', '9K DAO'), # SPAM DAO, says so on snapshot\n",
    "    # Las propuestas duran 3-4 días\n",
    "    (False,   '3d',         None, 'snapshot', 'Balancer'),\n",
    "    # Las propuestas duran 2 días\n",
    "    # DAO muerta, probando con folds antiguos\n",
    "    (True,    '2d', '2021-11-28', 'daohaus',  'DEAD FoundationsDAO'),\n",
    "    # La clásica\n",
    "    # Las propuestas duran 5 días\n",
    "    (False,   '5d',         None, 'daostack', 'dxDAO - xDXdao'),\n",
    "    # ('snapshot', 'gm DAO'), # SPAM DAO, says so on snapshot\n",
    "    # Las propuestas duran 3 días\n",
    "    (False,   '3d',         None, 'snapshot', 'HUWA-DAO'),\n",
    "    # Las propuestas duran 2 días\n",
    "    (False,   '2d',         None, 'snapshot', 'Index Coop'),\n",
    "    # Vamos a probar a ver que tal\n",
    "    (True, 'W-THU', '2020-11-06', ['daohaus', 'snapshot'], 'MetaCartel - MetaCartel Ventures'),\n",
    "    # Las propuestas duran 3 días\n",
    "    (True,    '3d', '2023-07-01', 'snapshot', 'PancakeSwap'),\n",
    "    # La super tocha (ya se entrenará luego)\n",
    "    (True,    '5d',   MAX_CUTOFF, 'snapshot', 'Aave - Aavegotchi'),\n",
    "    # ('snapshot', 'WEALTHDAO'), # SPAM DAO, says so on snapshot\n",
    "]"
   ]
  },
  {
   "cell_type": "code",
   "execution_count": 3,
   "id": "3761b4ba-85ed-4c8d-a6e8-4c7ae067190d",
   "metadata": {},
   "outputs": [
    {
     "name": "stdout",
     "output_type": "stream",
     "text": [
      "Evaluating: Decentraland, DEAD FoundationsDAO, MetaCartel - MetaCartel Ventures, PancakeSwap, Aave - Aavegotchi\n"
     ]
    }
   ],
   "source": [
    "RESULT_ORGS = [ { \n",
    "    'freq': f, \n",
    "    'cutoff_date': dt.datetime.fromisoformat(c),\n",
    "    'platform': p if isinstance(p, str) else \",\".join(p),\n",
    "    'dao': n } \n",
    "for t, f, c, p, n in ORGS if t ]\n",
    "print(\"Evaluating:\", \", \".join( r['dao'] for r in RESULT_ORGS ))"
   ]
  },
  {
   "cell_type": "markdown",
   "id": "fbe80c2d-0a47-4500-a7d9-a95c939eb47d",
   "metadata": {},
   "source": [
    "# Loading data and checking some things"
   ]
  },
  {
   "cell_type": "code",
   "execution_count": 4,
   "id": "7dc57b39-628d-4c61-b7c4-20beacca6d97",
   "metadata": {},
   "outputs": [
    {
     "name": "stderr",
     "output_type": "stream",
     "text": [
      "WARNING: File './data/hybrid/results_Aave - Aavegotchi_5d_normalize-cutoff_date=2023-07-29 00:00:00.csv' does not exist\n"
     ]
    },
    {
     "data": {
      "text/html": [
       "<div>\n",
       "<style scoped>\n",
       "    .dataframe tbody tr th:only-of-type {\n",
       "        vertical-align: middle;\n",
       "    }\n",
       "\n",
       "    .dataframe tbody tr th {\n",
       "        vertical-align: top;\n",
       "    }\n",
       "\n",
       "    .dataframe thead th {\n",
       "        text-align: right;\n",
       "    }\n",
       "</style>\n",
       "<table border=\"1\" class=\"dataframe\">\n",
       "  <thead>\n",
       "    <tr style=\"text-align: right;\">\n",
       "      <th></th>\n",
       "      <th>t</th>\n",
       "      <th>merge</th>\n",
       "      <th>map@10</th>\n",
       "      <th>map@5</th>\n",
       "      <th>ndcg@10</th>\n",
       "      <th>ndcg@5</th>\n",
       "      <th>precision@10</th>\n",
       "      <th>precision@5</th>\n",
       "      <th>recall@10</th>\n",
       "      <th>recall@5</th>\n",
       "      <th>model</th>\n",
       "      <th>freq</th>\n",
       "      <th>cutoff_date</th>\n",
       "      <th>platform</th>\n",
       "      <th>dao</th>\n",
       "      <th>modelId</th>\n",
       "    </tr>\n",
       "  </thead>\n",
       "  <tbody>\n",
       "    <tr>\n",
       "      <th>0</th>\n",
       "      <td>2023-05-11</td>\n",
       "      <td>avg</td>\n",
       "      <td>0.436576</td>\n",
       "      <td>0.398682</td>\n",
       "      <td>0.532979</td>\n",
       "      <td>0.480288</td>\n",
       "      <td>0.190647</td>\n",
       "      <td>0.256115</td>\n",
       "      <td>0.753254</td>\n",
       "      <td>0.548902</td>\n",
       "      <td>hybrid</td>\n",
       "      <td>W-THU</td>\n",
       "      <td>2023-07-29</td>\n",
       "      <td>snapshot</td>\n",
       "      <td>Decentraland</td>\n",
       "      <td>hybrid-avg</td>\n",
       "    </tr>\n",
       "    <tr>\n",
       "      <th>1</th>\n",
       "      <td>2023-05-18</td>\n",
       "      <td>avg</td>\n",
       "      <td>0.313372</td>\n",
       "      <td>0.255105</td>\n",
       "      <td>0.440396</td>\n",
       "      <td>0.417213</td>\n",
       "      <td>0.289941</td>\n",
       "      <td>0.347929</td>\n",
       "      <td>0.563779</td>\n",
       "      <td>0.371812</td>\n",
       "      <td>hybrid</td>\n",
       "      <td>W-THU</td>\n",
       "      <td>2023-07-29</td>\n",
       "      <td>snapshot</td>\n",
       "      <td>Decentraland</td>\n",
       "      <td>hybrid-avg</td>\n",
       "    </tr>\n",
       "    <tr>\n",
       "      <th>2</th>\n",
       "      <td>2023-05-25</td>\n",
       "      <td>avg</td>\n",
       "      <td>0.385478</td>\n",
       "      <td>0.332697</td>\n",
       "      <td>0.497991</td>\n",
       "      <td>0.437551</td>\n",
       "      <td>0.195082</td>\n",
       "      <td>0.260656</td>\n",
       "      <td>0.726992</td>\n",
       "      <td>0.528450</td>\n",
       "      <td>hybrid</td>\n",
       "      <td>W-THU</td>\n",
       "      <td>2023-07-29</td>\n",
       "      <td>snapshot</td>\n",
       "      <td>Decentraland</td>\n",
       "      <td>hybrid-avg</td>\n",
       "    </tr>\n",
       "    <tr>\n",
       "      <th>3</th>\n",
       "      <td>2023-06-01</td>\n",
       "      <td>avg</td>\n",
       "      <td>0.507858</td>\n",
       "      <td>0.438749</td>\n",
       "      <td>0.612250</td>\n",
       "      <td>0.543638</td>\n",
       "      <td>0.257426</td>\n",
       "      <td>0.368317</td>\n",
       "      <td>0.852505</td>\n",
       "      <td>0.622952</td>\n",
       "      <td>hybrid</td>\n",
       "      <td>W-THU</td>\n",
       "      <td>2023-07-29</td>\n",
       "      <td>snapshot</td>\n",
       "      <td>Decentraland</td>\n",
       "      <td>hybrid-avg</td>\n",
       "    </tr>\n",
       "    <tr>\n",
       "      <th>4</th>\n",
       "      <td>2023-06-08</td>\n",
       "      <td>avg</td>\n",
       "      <td>0.552511</td>\n",
       "      <td>0.429311</td>\n",
       "      <td>0.650247</td>\n",
       "      <td>0.524039</td>\n",
       "      <td>0.251695</td>\n",
       "      <td>0.315254</td>\n",
       "      <td>0.859463</td>\n",
       "      <td>0.581487</td>\n",
       "      <td>hybrid</td>\n",
       "      <td>W-THU</td>\n",
       "      <td>2023-07-29</td>\n",
       "      <td>snapshot</td>\n",
       "      <td>Decentraland</td>\n",
       "      <td>hybrid-avg</td>\n",
       "    </tr>\n",
       "    <tr>\n",
       "      <th>...</th>\n",
       "      <td>...</td>\n",
       "      <td>...</td>\n",
       "      <td>...</td>\n",
       "      <td>...</td>\n",
       "      <td>...</td>\n",
       "      <td>...</td>\n",
       "      <td>...</td>\n",
       "      <td>...</td>\n",
       "      <td>...</td>\n",
       "      <td>...</td>\n",
       "      <td>...</td>\n",
       "      <td>...</td>\n",
       "      <td>...</td>\n",
       "      <td>...</td>\n",
       "      <td>...</td>\n",
       "      <td>...</td>\n",
       "    </tr>\n",
       "    <tr>\n",
       "      <th>55</th>\n",
       "      <td>2023-06-15</td>\n",
       "      <td>-</td>\n",
       "      <td>0.330340</td>\n",
       "      <td>0.326051</td>\n",
       "      <td>0.352136</td>\n",
       "      <td>0.342374</td>\n",
       "      <td>0.052143</td>\n",
       "      <td>0.087857</td>\n",
       "      <td>0.389971</td>\n",
       "      <td>0.365118</td>\n",
       "      <td>gnn</td>\n",
       "      <td>3d</td>\n",
       "      <td>2023-07-01</td>\n",
       "      <td>snapshot</td>\n",
       "      <td>PancakeSwap</td>\n",
       "      <td>gnn</td>\n",
       "    </tr>\n",
       "    <tr>\n",
       "      <th>56</th>\n",
       "      <td>2023-06-18</td>\n",
       "      <td>-</td>\n",
       "      <td>0.045473</td>\n",
       "      <td>0.042076</td>\n",
       "      <td>0.082444</td>\n",
       "      <td>0.077054</td>\n",
       "      <td>0.030952</td>\n",
       "      <td>0.044444</td>\n",
       "      <td>0.145989</td>\n",
       "      <td>0.124992</td>\n",
       "      <td>gnn</td>\n",
       "      <td>3d</td>\n",
       "      <td>2023-07-01</td>\n",
       "      <td>snapshot</td>\n",
       "      <td>PancakeSwap</td>\n",
       "      <td>gnn</td>\n",
       "    </tr>\n",
       "    <tr>\n",
       "      <th>57</th>\n",
       "      <td>2023-06-21</td>\n",
       "      <td>-</td>\n",
       "      <td>0.026709</td>\n",
       "      <td>0.022158</td>\n",
       "      <td>0.048009</td>\n",
       "      <td>0.036915</td>\n",
       "      <td>0.021854</td>\n",
       "      <td>0.021192</td>\n",
       "      <td>0.061167</td>\n",
       "      <td>0.032066</td>\n",
       "      <td>gnn</td>\n",
       "      <td>3d</td>\n",
       "      <td>2023-07-01</td>\n",
       "      <td>snapshot</td>\n",
       "      <td>PancakeSwap</td>\n",
       "      <td>gnn</td>\n",
       "    </tr>\n",
       "    <tr>\n",
       "      <th>58</th>\n",
       "      <td>2023-06-24</td>\n",
       "      <td>-</td>\n",
       "      <td>0.322930</td>\n",
       "      <td>0.318693</td>\n",
       "      <td>0.353871</td>\n",
       "      <td>0.346686</td>\n",
       "      <td>0.076109</td>\n",
       "      <td>0.135154</td>\n",
       "      <td>0.406987</td>\n",
       "      <td>0.385619</td>\n",
       "      <td>gnn</td>\n",
       "      <td>3d</td>\n",
       "      <td>2023-07-01</td>\n",
       "      <td>snapshot</td>\n",
       "      <td>PancakeSwap</td>\n",
       "      <td>gnn</td>\n",
       "    </tr>\n",
       "    <tr>\n",
       "      <th>59</th>\n",
       "      <td>2023-06-27</td>\n",
       "      <td>-</td>\n",
       "      <td>0.102507</td>\n",
       "      <td>0.070646</td>\n",
       "      <td>0.199777</td>\n",
       "      <td>0.135943</td>\n",
       "      <td>0.082258</td>\n",
       "      <td>0.080645</td>\n",
       "      <td>0.379666</td>\n",
       "      <td>0.190572</td>\n",
       "      <td>gnn</td>\n",
       "      <td>3d</td>\n",
       "      <td>2023-07-01</td>\n",
       "      <td>snapshot</td>\n",
       "      <td>PancakeSwap</td>\n",
       "      <td>gnn</td>\n",
       "    </tr>\n",
       "  </tbody>\n",
       "</table>\n",
       "<p>240 rows × 16 columns</p>\n",
       "</div>"
      ],
      "text/plain": [
       "             t merge    map@10     map@5   ndcg@10    ndcg@5  precision@10  \\\n",
       "0   2023-05-11   avg  0.436576  0.398682  0.532979  0.480288      0.190647   \n",
       "1   2023-05-18   avg  0.313372  0.255105  0.440396  0.417213      0.289941   \n",
       "2   2023-05-25   avg  0.385478  0.332697  0.497991  0.437551      0.195082   \n",
       "3   2023-06-01   avg  0.507858  0.438749  0.612250  0.543638      0.257426   \n",
       "4   2023-06-08   avg  0.552511  0.429311  0.650247  0.524039      0.251695   \n",
       "..         ...   ...       ...       ...       ...       ...           ...   \n",
       "55  2023-06-15     -  0.330340  0.326051  0.352136  0.342374      0.052143   \n",
       "56  2023-06-18     -  0.045473  0.042076  0.082444  0.077054      0.030952   \n",
       "57  2023-06-21     -  0.026709  0.022158  0.048009  0.036915      0.021854   \n",
       "58  2023-06-24     -  0.322930  0.318693  0.353871  0.346686      0.076109   \n",
       "59  2023-06-27     -  0.102507  0.070646  0.199777  0.135943      0.082258   \n",
       "\n",
       "    precision@5  recall@10  recall@5   model   freq cutoff_date  platform  \\\n",
       "0      0.256115   0.753254  0.548902  hybrid  W-THU  2023-07-29  snapshot   \n",
       "1      0.347929   0.563779  0.371812  hybrid  W-THU  2023-07-29  snapshot   \n",
       "2      0.260656   0.726992  0.528450  hybrid  W-THU  2023-07-29  snapshot   \n",
       "3      0.368317   0.852505  0.622952  hybrid  W-THU  2023-07-29  snapshot   \n",
       "4      0.315254   0.859463  0.581487  hybrid  W-THU  2023-07-29  snapshot   \n",
       "..          ...        ...       ...     ...    ...         ...       ...   \n",
       "55     0.087857   0.389971  0.365118     gnn     3d  2023-07-01  snapshot   \n",
       "56     0.044444   0.145989  0.124992     gnn     3d  2023-07-01  snapshot   \n",
       "57     0.021192   0.061167  0.032066     gnn     3d  2023-07-01  snapshot   \n",
       "58     0.135154   0.406987  0.385619     gnn     3d  2023-07-01  snapshot   \n",
       "59     0.080645   0.379666  0.190572     gnn     3d  2023-07-01  snapshot   \n",
       "\n",
       "             dao     modelId  \n",
       "0   Decentraland  hybrid-avg  \n",
       "1   Decentraland  hybrid-avg  \n",
       "2   Decentraland  hybrid-avg  \n",
       "3   Decentraland  hybrid-avg  \n",
       "4   Decentraland  hybrid-avg  \n",
       "..           ...         ...  \n",
       "55   PancakeSwap         gnn  \n",
       "56   PancakeSwap         gnn  \n",
       "57   PancakeSwap         gnn  \n",
       "58   PancakeSwap         gnn  \n",
       "59   PancakeSwap         gnn  \n",
       "\n",
       "[240 rows x 16 columns]"
      ]
     },
     "execution_count": 4,
     "metadata": {},
     "output_type": "execute_result"
    }
   ],
   "source": [
    "def _modelId(row):\n",
    "    if row['merge'] == '-':\n",
    "        return row['model']\n",
    "    else:\n",
    "        return row['model'] + '-' + row['merge']\n",
    "\n",
    "_results = []\n",
    "DO_ORGS = []\n",
    "for r in RESULT_ORGS:\n",
    "    p = paths.hybrid_results(r['dao'], r['freq'], SPLITS_NORMALIZE, cutoff_date=r['cutoff_date'])\n",
    "    if p.exists():\n",
    "        _results.append(pd.read_csv(p).assign(\n",
    "            **r\n",
    "        ))\n",
    "        DO_ORGS.append(r)\n",
    "    else:\n",
    "        print(f\"WARNING: File './{p}' does not exist\", file=sys.stderr)\n",
    "\n",
    "dfr = pd.concat(_results)\n",
    "dfr['modelId'] = dfr.apply(_modelId, axis=1)\n",
    "dfr"
   ]
  },
  {
   "cell_type": "code",
   "execution_count": 5,
   "id": "dea886f2-8637-4d5b-b32d-c6b7a7683266",
   "metadata": {},
   "outputs": [
    {
     "name": "stdout",
     "output_type": "stream",
     "text": [
      "Analyzing results from 4 DAOs: ['Decentraland' 'DEAD FoundationsDAO' 'MetaCartel - MetaCartel Ventures'\n",
      " 'PancakeSwap']\n",
      "Used 6 models: ['hybrid-avg' 'hybrid-avg_all' 'hybrid-naive' 'hybrid-prioritize' 'nlp'\n",
      " 'gnn']\n"
     ]
    }
   ],
   "source": [
    "models = dfr['modelId'].unique()\n",
    "daos = dfr['dao'].unique()\n",
    "\n",
    "print(f\"Analyzing results from {len(daos)} DAOs:\", daos)\n",
    "print(f\"Used {len(models)} models:\", models)\n",
    "\n",
    "assert all(dfr.groupby('dao').size() == len(models) * LAST_FOLDS)\n",
    "assert all(dfr.groupby('modelId').size() == len(daos) * LAST_FOLDS)"
   ]
  },
  {
   "cell_type": "markdown",
   "id": "1fc88679-4dc0-460f-b6a0-3cf020654f28",
   "metadata": {},
   "source": [
    "## Appending baseline"
   ]
  },
  {
   "cell_type": "code",
   "execution_count": 6,
   "id": "62daa38c-5713-40c8-a7fd-4e1320347481",
   "metadata": {},
   "outputs": [
    {
     "data": {
      "text/html": [
       "<div>\n",
       "<style scoped>\n",
       "    .dataframe tbody tr th:only-of-type {\n",
       "        vertical-align: middle;\n",
       "    }\n",
       "\n",
       "    .dataframe tbody tr th {\n",
       "        vertical-align: top;\n",
       "    }\n",
       "\n",
       "    .dataframe thead th {\n",
       "        text-align: right;\n",
       "    }\n",
       "</style>\n",
       "<table border=\"1\" class=\"dataframe\">\n",
       "  <thead>\n",
       "    <tr style=\"text-align: right;\">\n",
       "      <th></th>\n",
       "      <th>t</th>\n",
       "      <th>merge</th>\n",
       "      <th>map@10</th>\n",
       "      <th>map@5</th>\n",
       "      <th>ndcg@10</th>\n",
       "      <th>ndcg@5</th>\n",
       "      <th>precision@10</th>\n",
       "      <th>precision@5</th>\n",
       "      <th>recall@10</th>\n",
       "      <th>recall@5</th>\n",
       "      <th>model</th>\n",
       "      <th>freq</th>\n",
       "      <th>cutoff_date</th>\n",
       "      <th>platform</th>\n",
       "      <th>dao</th>\n",
       "      <th>modelId</th>\n",
       "      <th>precision@15</th>\n",
       "      <th>ndcg@15</th>\n",
       "      <th>map@15</th>\n",
       "      <th>recall@15</th>\n",
       "    </tr>\n",
       "  </thead>\n",
       "  <tbody>\n",
       "    <tr>\n",
       "      <th>0</th>\n",
       "      <td>2023-05-11</td>\n",
       "      <td>avg</td>\n",
       "      <td>0.436576</td>\n",
       "      <td>0.398682</td>\n",
       "      <td>0.532979</td>\n",
       "      <td>0.480288</td>\n",
       "      <td>0.190647</td>\n",
       "      <td>0.256115</td>\n",
       "      <td>0.753254</td>\n",
       "      <td>0.548902</td>\n",
       "      <td>hybrid</td>\n",
       "      <td>W-THU</td>\n",
       "      <td>2023-07-29</td>\n",
       "      <td>snapshot</td>\n",
       "      <td>Decentraland</td>\n",
       "      <td>hybrid-avg</td>\n",
       "      <td>NaN</td>\n",
       "      <td>NaN</td>\n",
       "      <td>NaN</td>\n",
       "      <td>NaN</td>\n",
       "    </tr>\n",
       "    <tr>\n",
       "      <th>1</th>\n",
       "      <td>2023-05-18</td>\n",
       "      <td>avg</td>\n",
       "      <td>0.313372</td>\n",
       "      <td>0.255105</td>\n",
       "      <td>0.440396</td>\n",
       "      <td>0.417213</td>\n",
       "      <td>0.289941</td>\n",
       "      <td>0.347929</td>\n",
       "      <td>0.563779</td>\n",
       "      <td>0.371812</td>\n",
       "      <td>hybrid</td>\n",
       "      <td>W-THU</td>\n",
       "      <td>2023-07-29</td>\n",
       "      <td>snapshot</td>\n",
       "      <td>Decentraland</td>\n",
       "      <td>hybrid-avg</td>\n",
       "      <td>NaN</td>\n",
       "      <td>NaN</td>\n",
       "      <td>NaN</td>\n",
       "      <td>NaN</td>\n",
       "    </tr>\n",
       "    <tr>\n",
       "      <th>2</th>\n",
       "      <td>2023-05-25</td>\n",
       "      <td>avg</td>\n",
       "      <td>0.385478</td>\n",
       "      <td>0.332697</td>\n",
       "      <td>0.497991</td>\n",
       "      <td>0.437551</td>\n",
       "      <td>0.195082</td>\n",
       "      <td>0.260656</td>\n",
       "      <td>0.726992</td>\n",
       "      <td>0.528450</td>\n",
       "      <td>hybrid</td>\n",
       "      <td>W-THU</td>\n",
       "      <td>2023-07-29</td>\n",
       "      <td>snapshot</td>\n",
       "      <td>Decentraland</td>\n",
       "      <td>hybrid-avg</td>\n",
       "      <td>NaN</td>\n",
       "      <td>NaN</td>\n",
       "      <td>NaN</td>\n",
       "      <td>NaN</td>\n",
       "    </tr>\n",
       "    <tr>\n",
       "      <th>3</th>\n",
       "      <td>2023-06-01</td>\n",
       "      <td>avg</td>\n",
       "      <td>0.507858</td>\n",
       "      <td>0.438749</td>\n",
       "      <td>0.612250</td>\n",
       "      <td>0.543638</td>\n",
       "      <td>0.257426</td>\n",
       "      <td>0.368317</td>\n",
       "      <td>0.852505</td>\n",
       "      <td>0.622952</td>\n",
       "      <td>hybrid</td>\n",
       "      <td>W-THU</td>\n",
       "      <td>2023-07-29</td>\n",
       "      <td>snapshot</td>\n",
       "      <td>Decentraland</td>\n",
       "      <td>hybrid-avg</td>\n",
       "      <td>NaN</td>\n",
       "      <td>NaN</td>\n",
       "      <td>NaN</td>\n",
       "      <td>NaN</td>\n",
       "    </tr>\n",
       "    <tr>\n",
       "      <th>4</th>\n",
       "      <td>2023-06-08</td>\n",
       "      <td>avg</td>\n",
       "      <td>0.552511</td>\n",
       "      <td>0.429311</td>\n",
       "      <td>0.650247</td>\n",
       "      <td>0.524039</td>\n",
       "      <td>0.251695</td>\n",
       "      <td>0.315254</td>\n",
       "      <td>0.859463</td>\n",
       "      <td>0.581487</td>\n",
       "      <td>hybrid</td>\n",
       "      <td>W-THU</td>\n",
       "      <td>2023-07-29</td>\n",
       "      <td>snapshot</td>\n",
       "      <td>Decentraland</td>\n",
       "      <td>hybrid-avg</td>\n",
       "      <td>NaN</td>\n",
       "      <td>NaN</td>\n",
       "      <td>NaN</td>\n",
       "      <td>NaN</td>\n",
       "    </tr>\n",
       "    <tr>\n",
       "      <th>...</th>\n",
       "      <td>...</td>\n",
       "      <td>...</td>\n",
       "      <td>...</td>\n",
       "      <td>...</td>\n",
       "      <td>...</td>\n",
       "      <td>...</td>\n",
       "      <td>...</td>\n",
       "      <td>...</td>\n",
       "      <td>...</td>\n",
       "      <td>...</td>\n",
       "      <td>...</td>\n",
       "      <td>...</td>\n",
       "      <td>...</td>\n",
       "      <td>...</td>\n",
       "      <td>...</td>\n",
       "      <td>...</td>\n",
       "      <td>...</td>\n",
       "      <td>...</td>\n",
       "      <td>...</td>\n",
       "      <td>...</td>\n",
       "    </tr>\n",
       "    <tr>\n",
       "      <th>5</th>\n",
       "      <td>2023-06-17 23:49:44</td>\n",
       "      <td>-</td>\n",
       "      <td>0.018561</td>\n",
       "      <td>0.015414</td>\n",
       "      <td>0.033327</td>\n",
       "      <td>0.025878</td>\n",
       "      <td>0.014762</td>\n",
       "      <td>0.015238</td>\n",
       "      <td>0.045535</td>\n",
       "      <td>0.024958</td>\n",
       "      <td>baseline</td>\n",
       "      <td>3d</td>\n",
       "      <td>2023-07-01</td>\n",
       "      <td>snapshot</td>\n",
       "      <td>PancakeSwap</td>\n",
       "      <td>baseline</td>\n",
       "      <td>0.018413</td>\n",
       "      <td>0.048997</td>\n",
       "      <td>0.023429</td>\n",
       "      <td>0.095110</td>\n",
       "    </tr>\n",
       "    <tr>\n",
       "      <th>6</th>\n",
       "      <td>2023-06-20 23:20:15</td>\n",
       "      <td>-</td>\n",
       "      <td>0.017181</td>\n",
       "      <td>0.013877</td>\n",
       "      <td>0.032777</td>\n",
       "      <td>0.025549</td>\n",
       "      <td>0.015812</td>\n",
       "      <td>0.017094</td>\n",
       "      <td>0.046501</td>\n",
       "      <td>0.025631</td>\n",
       "      <td>baseline</td>\n",
       "      <td>3d</td>\n",
       "      <td>2023-07-01</td>\n",
       "      <td>snapshot</td>\n",
       "      <td>PancakeSwap</td>\n",
       "      <td>baseline</td>\n",
       "      <td>0.019943</td>\n",
       "      <td>0.049570</td>\n",
       "      <td>0.022559</td>\n",
       "      <td>0.098297</td>\n",
       "    </tr>\n",
       "    <tr>\n",
       "      <th>7</th>\n",
       "      <td>2023-06-23 23:57:05</td>\n",
       "      <td>-</td>\n",
       "      <td>0.385905</td>\n",
       "      <td>0.380219</td>\n",
       "      <td>0.415198</td>\n",
       "      <td>0.402482</td>\n",
       "      <td>0.086436</td>\n",
       "      <td>0.155851</td>\n",
       "      <td>0.462912</td>\n",
       "      <td>0.428426</td>\n",
       "      <td>baseline</td>\n",
       "      <td>3d</td>\n",
       "      <td>2023-07-01</td>\n",
       "      <td>snapshot</td>\n",
       "      <td>PancakeSwap</td>\n",
       "      <td>baseline</td>\n",
       "      <td>0.060461</td>\n",
       "      <td>0.418682</td>\n",
       "      <td>0.387149</td>\n",
       "      <td>0.473889</td>\n",
       "    </tr>\n",
       "    <tr>\n",
       "      <th>8</th>\n",
       "      <td>2023-06-26 23:34:01</td>\n",
       "      <td>-</td>\n",
       "      <td>0.065913</td>\n",
       "      <td>0.056769</td>\n",
       "      <td>0.110307</td>\n",
       "      <td>0.089688</td>\n",
       "      <td>0.038816</td>\n",
       "      <td>0.047368</td>\n",
       "      <td>0.179195</td>\n",
       "      <td>0.109432</td>\n",
       "      <td>baseline</td>\n",
       "      <td>3d</td>\n",
       "      <td>2023-07-01</td>\n",
       "      <td>snapshot</td>\n",
       "      <td>PancakeSwap</td>\n",
       "      <td>baseline</td>\n",
       "      <td>0.035088</td>\n",
       "      <td>0.121175</td>\n",
       "      <td>0.070175</td>\n",
       "      <td>0.207174</td>\n",
       "    </tr>\n",
       "    <tr>\n",
       "      <th>9</th>\n",
       "      <td>2023-06-29 21:55:12</td>\n",
       "      <td>-</td>\n",
       "      <td>0.062560</td>\n",
       "      <td>0.059996</td>\n",
       "      <td>0.090025</td>\n",
       "      <td>0.082685</td>\n",
       "      <td>0.022835</td>\n",
       "      <td>0.036220</td>\n",
       "      <td>0.140026</td>\n",
       "      <td>0.120341</td>\n",
       "      <td>baseline</td>\n",
       "      <td>3d</td>\n",
       "      <td>2023-07-01</td>\n",
       "      <td>snapshot</td>\n",
       "      <td>PancakeSwap</td>\n",
       "      <td>baseline</td>\n",
       "      <td>0.027297</td>\n",
       "      <td>0.121899</td>\n",
       "      <td>0.071489</td>\n",
       "      <td>0.251575</td>\n",
       "    </tr>\n",
       "  </tbody>\n",
       "</table>\n",
       "<p>280 rows × 20 columns</p>\n",
       "</div>"
      ],
      "text/plain": [
       "                      t merge    map@10     map@5   ndcg@10    ndcg@5  \\\n",
       "0            2023-05-11   avg  0.436576  0.398682  0.532979  0.480288   \n",
       "1            2023-05-18   avg  0.313372  0.255105  0.440396  0.417213   \n",
       "2            2023-05-25   avg  0.385478  0.332697  0.497991  0.437551   \n",
       "3            2023-06-01   avg  0.507858  0.438749  0.612250  0.543638   \n",
       "4            2023-06-08   avg  0.552511  0.429311  0.650247  0.524039   \n",
       "..                  ...   ...       ...       ...       ...       ...   \n",
       "5   2023-06-17 23:49:44     -  0.018561  0.015414  0.033327  0.025878   \n",
       "6   2023-06-20 23:20:15     -  0.017181  0.013877  0.032777  0.025549   \n",
       "7   2023-06-23 23:57:05     -  0.385905  0.380219  0.415198  0.402482   \n",
       "8   2023-06-26 23:34:01     -  0.065913  0.056769  0.110307  0.089688   \n",
       "9   2023-06-29 21:55:12     -  0.062560  0.059996  0.090025  0.082685   \n",
       "\n",
       "    precision@10  precision@5  recall@10  recall@5     model   freq  \\\n",
       "0       0.190647     0.256115   0.753254  0.548902    hybrid  W-THU   \n",
       "1       0.289941     0.347929   0.563779  0.371812    hybrid  W-THU   \n",
       "2       0.195082     0.260656   0.726992  0.528450    hybrid  W-THU   \n",
       "3       0.257426     0.368317   0.852505  0.622952    hybrid  W-THU   \n",
       "4       0.251695     0.315254   0.859463  0.581487    hybrid  W-THU   \n",
       "..           ...          ...        ...       ...       ...    ...   \n",
       "5       0.014762     0.015238   0.045535  0.024958  baseline     3d   \n",
       "6       0.015812     0.017094   0.046501  0.025631  baseline     3d   \n",
       "7       0.086436     0.155851   0.462912  0.428426  baseline     3d   \n",
       "8       0.038816     0.047368   0.179195  0.109432  baseline     3d   \n",
       "9       0.022835     0.036220   0.140026  0.120341  baseline     3d   \n",
       "\n",
       "   cutoff_date  platform           dao     modelId  precision@15   ndcg@15  \\\n",
       "0   2023-07-29  snapshot  Decentraland  hybrid-avg           NaN       NaN   \n",
       "1   2023-07-29  snapshot  Decentraland  hybrid-avg           NaN       NaN   \n",
       "2   2023-07-29  snapshot  Decentraland  hybrid-avg           NaN       NaN   \n",
       "3   2023-07-29  snapshot  Decentraland  hybrid-avg           NaN       NaN   \n",
       "4   2023-07-29  snapshot  Decentraland  hybrid-avg           NaN       NaN   \n",
       "..         ...       ...           ...         ...           ...       ...   \n",
       "5   2023-07-01  snapshot   PancakeSwap    baseline      0.018413  0.048997   \n",
       "6   2023-07-01  snapshot   PancakeSwap    baseline      0.019943  0.049570   \n",
       "7   2023-07-01  snapshot   PancakeSwap    baseline      0.060461  0.418682   \n",
       "8   2023-07-01  snapshot   PancakeSwap    baseline      0.035088  0.121175   \n",
       "9   2023-07-01  snapshot   PancakeSwap    baseline      0.027297  0.121899   \n",
       "\n",
       "      map@15  recall@15  \n",
       "0        NaN        NaN  \n",
       "1        NaN        NaN  \n",
       "2        NaN        NaN  \n",
       "3        NaN        NaN  \n",
       "4        NaN        NaN  \n",
       "..       ...        ...  \n",
       "5   0.023429   0.095110  \n",
       "6   0.022559   0.098297  \n",
       "7   0.387149   0.473889  \n",
       "8   0.070175   0.207174  \n",
       "9   0.071489   0.251575  \n",
       "\n",
       "[280 rows x 20 columns]"
      ]
     },
     "execution_count": 6,
     "metadata": {},
     "output_type": "execute_result"
    }
   ],
   "source": [
    "_baselines = []\n",
    "for dao in DO_ORGS:\n",
    "    _baselines.append(baseline\n",
    "    .read_metrics_baseline(dao['dao'], dao['freq'], SPLITS_NORMALIZE, cutoff_date=dao['cutoff_date'])[-LAST_FOLDS:]\n",
    "    .reset_index()\n",
    "    .assign(model='baseline', merge='-', modelId='baseline', **dao)\n",
    "    )\n",
    "\n",
    "dfrb = pd.concat([dfr] + _baselines)\n",
    "dfrb"
   ]
  },
  {
   "cell_type": "code",
   "execution_count": 7,
   "id": "498ae06d-8092-4221-8100-c4bfbe8e6092",
   "metadata": {},
   "outputs": [
    {
     "data": {
      "text/html": [
       "<div>\n",
       "<style scoped>\n",
       "    .dataframe tbody tr th:only-of-type {\n",
       "        vertical-align: middle;\n",
       "    }\n",
       "\n",
       "    .dataframe tbody tr th {\n",
       "        vertical-align: top;\n",
       "    }\n",
       "\n",
       "    .dataframe thead th {\n",
       "        text-align: right;\n",
       "    }\n",
       "</style>\n",
       "<table border=\"1\" class=\"dataframe\">\n",
       "  <thead>\n",
       "    <tr style=\"text-align: right;\">\n",
       "      <th></th>\n",
       "      <th>t</th>\n",
       "      <th>merge</th>\n",
       "      <th>map@10</th>\n",
       "      <th>map@5</th>\n",
       "      <th>ndcg@10</th>\n",
       "      <th>ndcg@5</th>\n",
       "      <th>precision@10</th>\n",
       "      <th>precision@5</th>\n",
       "      <th>recall@10</th>\n",
       "      <th>recall@5</th>\n",
       "      <th>model</th>\n",
       "      <th>freq</th>\n",
       "      <th>cutoff_date</th>\n",
       "      <th>platform</th>\n",
       "      <th>dao</th>\n",
       "      <th>modelId</th>\n",
       "      <th>precision@15</th>\n",
       "      <th>ndcg@15</th>\n",
       "      <th>map@15</th>\n",
       "      <th>recall@15</th>\n",
       "    </tr>\n",
       "  </thead>\n",
       "  <tbody>\n",
       "    <tr>\n",
       "      <th>0</th>\n",
       "      <td>2023-05-11</td>\n",
       "      <td>avg</td>\n",
       "      <td>0.436576</td>\n",
       "      <td>0.398682</td>\n",
       "      <td>0.532979</td>\n",
       "      <td>0.480288</td>\n",
       "      <td>0.190647</td>\n",
       "      <td>0.256115</td>\n",
       "      <td>0.753254</td>\n",
       "      <td>0.548902</td>\n",
       "      <td>hybrid</td>\n",
       "      <td>W-THU</td>\n",
       "      <td>2023-07-29</td>\n",
       "      <td>snapshot</td>\n",
       "      <td>Decentraland</td>\n",
       "      <td>hybrid-avg</td>\n",
       "      <td>NaN</td>\n",
       "      <td>NaN</td>\n",
       "      <td>NaN</td>\n",
       "      <td>NaN</td>\n",
       "    </tr>\n",
       "    <tr>\n",
       "      <th>1</th>\n",
       "      <td>2023-05-18</td>\n",
       "      <td>avg</td>\n",
       "      <td>0.313372</td>\n",
       "      <td>0.255105</td>\n",
       "      <td>0.440396</td>\n",
       "      <td>0.417213</td>\n",
       "      <td>0.289941</td>\n",
       "      <td>0.347929</td>\n",
       "      <td>0.563779</td>\n",
       "      <td>0.371812</td>\n",
       "      <td>hybrid</td>\n",
       "      <td>W-THU</td>\n",
       "      <td>2023-07-29</td>\n",
       "      <td>snapshot</td>\n",
       "      <td>Decentraland</td>\n",
       "      <td>hybrid-avg</td>\n",
       "      <td>NaN</td>\n",
       "      <td>NaN</td>\n",
       "      <td>NaN</td>\n",
       "      <td>NaN</td>\n",
       "    </tr>\n",
       "    <tr>\n",
       "      <th>2</th>\n",
       "      <td>2023-05-25</td>\n",
       "      <td>avg</td>\n",
       "      <td>0.385478</td>\n",
       "      <td>0.332697</td>\n",
       "      <td>0.497991</td>\n",
       "      <td>0.437551</td>\n",
       "      <td>0.195082</td>\n",
       "      <td>0.260656</td>\n",
       "      <td>0.726992</td>\n",
       "      <td>0.528450</td>\n",
       "      <td>hybrid</td>\n",
       "      <td>W-THU</td>\n",
       "      <td>2023-07-29</td>\n",
       "      <td>snapshot</td>\n",
       "      <td>Decentraland</td>\n",
       "      <td>hybrid-avg</td>\n",
       "      <td>NaN</td>\n",
       "      <td>NaN</td>\n",
       "      <td>NaN</td>\n",
       "      <td>NaN</td>\n",
       "    </tr>\n",
       "    <tr>\n",
       "      <th>3</th>\n",
       "      <td>2023-06-01</td>\n",
       "      <td>avg</td>\n",
       "      <td>0.507858</td>\n",
       "      <td>0.438749</td>\n",
       "      <td>0.612250</td>\n",
       "      <td>0.543638</td>\n",
       "      <td>0.257426</td>\n",
       "      <td>0.368317</td>\n",
       "      <td>0.852505</td>\n",
       "      <td>0.622952</td>\n",
       "      <td>hybrid</td>\n",
       "      <td>W-THU</td>\n",
       "      <td>2023-07-29</td>\n",
       "      <td>snapshot</td>\n",
       "      <td>Decentraland</td>\n",
       "      <td>hybrid-avg</td>\n",
       "      <td>NaN</td>\n",
       "      <td>NaN</td>\n",
       "      <td>NaN</td>\n",
       "      <td>NaN</td>\n",
       "    </tr>\n",
       "    <tr>\n",
       "      <th>4</th>\n",
       "      <td>2023-06-08</td>\n",
       "      <td>avg</td>\n",
       "      <td>0.552511</td>\n",
       "      <td>0.429311</td>\n",
       "      <td>0.650247</td>\n",
       "      <td>0.524039</td>\n",
       "      <td>0.251695</td>\n",
       "      <td>0.315254</td>\n",
       "      <td>0.859463</td>\n",
       "      <td>0.581487</td>\n",
       "      <td>hybrid</td>\n",
       "      <td>W-THU</td>\n",
       "      <td>2023-07-29</td>\n",
       "      <td>snapshot</td>\n",
       "      <td>Decentraland</td>\n",
       "      <td>hybrid-avg</td>\n",
       "      <td>NaN</td>\n",
       "      <td>NaN</td>\n",
       "      <td>NaN</td>\n",
       "      <td>NaN</td>\n",
       "    </tr>\n",
       "    <tr>\n",
       "      <th>...</th>\n",
       "      <td>...</td>\n",
       "      <td>...</td>\n",
       "      <td>...</td>\n",
       "      <td>...</td>\n",
       "      <td>...</td>\n",
       "      <td>...</td>\n",
       "      <td>...</td>\n",
       "      <td>...</td>\n",
       "      <td>...</td>\n",
       "      <td>...</td>\n",
       "      <td>...</td>\n",
       "      <td>...</td>\n",
       "      <td>...</td>\n",
       "      <td>...</td>\n",
       "      <td>...</td>\n",
       "      <td>...</td>\n",
       "      <td>...</td>\n",
       "      <td>...</td>\n",
       "      <td>...</td>\n",
       "      <td>...</td>\n",
       "    </tr>\n",
       "    <tr>\n",
       "      <th>5</th>\n",
       "      <td>2023-06-17 23:49:44</td>\n",
       "      <td>-</td>\n",
       "      <td>0.992330</td>\n",
       "      <td>0.976985</td>\n",
       "      <td>1.000000</td>\n",
       "      <td>1.000000</td>\n",
       "      <td>0.215714</td>\n",
       "      <td>0.400000</td>\n",
       "      <td>0.992330</td>\n",
       "      <td>0.976985</td>\n",
       "      <td>perfect</td>\n",
       "      <td>3d</td>\n",
       "      <td>2023-07-01</td>\n",
       "      <td>snapshot</td>\n",
       "      <td>PancakeSwap</td>\n",
       "      <td>perfect</td>\n",
       "      <td>0.148571</td>\n",
       "      <td>1.0</td>\n",
       "      <td>0.995637</td>\n",
       "      <td>0.995637</td>\n",
       "    </tr>\n",
       "    <tr>\n",
       "      <th>6</th>\n",
       "      <td>2023-06-20 23:20:15</td>\n",
       "      <td>-</td>\n",
       "      <td>0.988482</td>\n",
       "      <td>0.947266</td>\n",
       "      <td>1.000000</td>\n",
       "      <td>1.000000</td>\n",
       "      <td>0.266667</td>\n",
       "      <td>0.452991</td>\n",
       "      <td>0.988482</td>\n",
       "      <td>0.947266</td>\n",
       "      <td>perfect</td>\n",
       "      <td>3d</td>\n",
       "      <td>2023-07-01</td>\n",
       "      <td>snapshot</td>\n",
       "      <td>PancakeSwap</td>\n",
       "      <td>perfect</td>\n",
       "      <td>0.185755</td>\n",
       "      <td>1.0</td>\n",
       "      <td>0.995344</td>\n",
       "      <td>0.995344</td>\n",
       "    </tr>\n",
       "    <tr>\n",
       "      <th>7</th>\n",
       "      <td>2023-06-23 23:57:05</td>\n",
       "      <td>-</td>\n",
       "      <td>0.995267</td>\n",
       "      <td>0.978547</td>\n",
       "      <td>1.000000</td>\n",
       "      <td>1.000000</td>\n",
       "      <td>0.209840</td>\n",
       "      <td>0.386702</td>\n",
       "      <td>0.995267</td>\n",
       "      <td>0.978547</td>\n",
       "      <td>perfect</td>\n",
       "      <td>3d</td>\n",
       "      <td>2023-07-01</td>\n",
       "      <td>snapshot</td>\n",
       "      <td>PancakeSwap</td>\n",
       "      <td>perfect</td>\n",
       "      <td>0.142908</td>\n",
       "      <td>1.0</td>\n",
       "      <td>0.997554</td>\n",
       "      <td>0.997554</td>\n",
       "    </tr>\n",
       "    <tr>\n",
       "      <th>8</th>\n",
       "      <td>2023-06-26 23:34:01</td>\n",
       "      <td>-</td>\n",
       "      <td>0.995301</td>\n",
       "      <td>0.975029</td>\n",
       "      <td>1.000000</td>\n",
       "      <td>1.000000</td>\n",
       "      <td>0.219079</td>\n",
       "      <td>0.400000</td>\n",
       "      <td>0.995301</td>\n",
       "      <td>0.975029</td>\n",
       "      <td>perfect</td>\n",
       "      <td>3d</td>\n",
       "      <td>2023-07-01</td>\n",
       "      <td>snapshot</td>\n",
       "      <td>PancakeSwap</td>\n",
       "      <td>perfect</td>\n",
       "      <td>0.148246</td>\n",
       "      <td>1.0</td>\n",
       "      <td>0.996241</td>\n",
       "      <td>0.996241</td>\n",
       "    </tr>\n",
       "    <tr>\n",
       "      <th>9</th>\n",
       "      <td>2023-06-29 21:55:12</td>\n",
       "      <td>-</td>\n",
       "      <td>1.000000</td>\n",
       "      <td>0.994751</td>\n",
       "      <td>1.000000</td>\n",
       "      <td>1.000000</td>\n",
       "      <td>0.192913</td>\n",
       "      <td>0.379528</td>\n",
       "      <td>1.000000</td>\n",
       "      <td>0.994751</td>\n",
       "      <td>perfect</td>\n",
       "      <td>3d</td>\n",
       "      <td>2023-07-01</td>\n",
       "      <td>snapshot</td>\n",
       "      <td>PancakeSwap</td>\n",
       "      <td>perfect</td>\n",
       "      <td>0.128609</td>\n",
       "      <td>1.0</td>\n",
       "      <td>1.000000</td>\n",
       "      <td>1.000000</td>\n",
       "    </tr>\n",
       "  </tbody>\n",
       "</table>\n",
       "<p>320 rows × 20 columns</p>\n",
       "</div>"
      ],
      "text/plain": [
       "                      t merge    map@10     map@5   ndcg@10    ndcg@5  \\\n",
       "0            2023-05-11   avg  0.436576  0.398682  0.532979  0.480288   \n",
       "1            2023-05-18   avg  0.313372  0.255105  0.440396  0.417213   \n",
       "2            2023-05-25   avg  0.385478  0.332697  0.497991  0.437551   \n",
       "3            2023-06-01   avg  0.507858  0.438749  0.612250  0.543638   \n",
       "4            2023-06-08   avg  0.552511  0.429311  0.650247  0.524039   \n",
       "..                  ...   ...       ...       ...       ...       ...   \n",
       "5   2023-06-17 23:49:44     -  0.992330  0.976985  1.000000  1.000000   \n",
       "6   2023-06-20 23:20:15     -  0.988482  0.947266  1.000000  1.000000   \n",
       "7   2023-06-23 23:57:05     -  0.995267  0.978547  1.000000  1.000000   \n",
       "8   2023-06-26 23:34:01     -  0.995301  0.975029  1.000000  1.000000   \n",
       "9   2023-06-29 21:55:12     -  1.000000  0.994751  1.000000  1.000000   \n",
       "\n",
       "    precision@10  precision@5  recall@10  recall@5    model   freq  \\\n",
       "0       0.190647     0.256115   0.753254  0.548902   hybrid  W-THU   \n",
       "1       0.289941     0.347929   0.563779  0.371812   hybrid  W-THU   \n",
       "2       0.195082     0.260656   0.726992  0.528450   hybrid  W-THU   \n",
       "3       0.257426     0.368317   0.852505  0.622952   hybrid  W-THU   \n",
       "4       0.251695     0.315254   0.859463  0.581487   hybrid  W-THU   \n",
       "..           ...          ...        ...       ...      ...    ...   \n",
       "5       0.215714     0.400000   0.992330  0.976985  perfect     3d   \n",
       "6       0.266667     0.452991   0.988482  0.947266  perfect     3d   \n",
       "7       0.209840     0.386702   0.995267  0.978547  perfect     3d   \n",
       "8       0.219079     0.400000   0.995301  0.975029  perfect     3d   \n",
       "9       0.192913     0.379528   1.000000  0.994751  perfect     3d   \n",
       "\n",
       "   cutoff_date  platform           dao     modelId  precision@15  ndcg@15  \\\n",
       "0   2023-07-29  snapshot  Decentraland  hybrid-avg           NaN      NaN   \n",
       "1   2023-07-29  snapshot  Decentraland  hybrid-avg           NaN      NaN   \n",
       "2   2023-07-29  snapshot  Decentraland  hybrid-avg           NaN      NaN   \n",
       "3   2023-07-29  snapshot  Decentraland  hybrid-avg           NaN      NaN   \n",
       "4   2023-07-29  snapshot  Decentraland  hybrid-avg           NaN      NaN   \n",
       "..         ...       ...           ...         ...           ...      ...   \n",
       "5   2023-07-01  snapshot   PancakeSwap     perfect      0.148571      1.0   \n",
       "6   2023-07-01  snapshot   PancakeSwap     perfect      0.185755      1.0   \n",
       "7   2023-07-01  snapshot   PancakeSwap     perfect      0.142908      1.0   \n",
       "8   2023-07-01  snapshot   PancakeSwap     perfect      0.148246      1.0   \n",
       "9   2023-07-01  snapshot   PancakeSwap     perfect      0.128609      1.0   \n",
       "\n",
       "      map@15  recall@15  \n",
       "0        NaN        NaN  \n",
       "1        NaN        NaN  \n",
       "2        NaN        NaN  \n",
       "3        NaN        NaN  \n",
       "4        NaN        NaN  \n",
       "..       ...        ...  \n",
       "5   0.995637   0.995637  \n",
       "6   0.995344   0.995344  \n",
       "7   0.997554   0.997554  \n",
       "8   0.996241   0.996241  \n",
       "9   1.000000   1.000000  \n",
       "\n",
       "[320 rows x 20 columns]"
      ]
     },
     "execution_count": 7,
     "metadata": {},
     "output_type": "execute_result"
    }
   ],
   "source": [
    "_perfect = []\n",
    "for dao in DO_ORGS:\n",
    "    _perfect.append(baseline\n",
    "    .read_metrics_perfect(dao['dao'], dao['freq'], SPLITS_NORMALIZE, cutoff_date=dao['cutoff_date'])[-LAST_FOLDS:]\n",
    "    .reset_index()\n",
    "    .assign(model='perfect', merge='-', modelId='perfect', **dao)\n",
    "    )\n",
    "\n",
    "dfrbp = pd.concat([dfrb] + _perfect)\n",
    "dfrbp"
   ]
  },
  {
   "cell_type": "markdown",
   "id": "4eeaa78c-1e23-44fc-97e2-c5654775ed34",
   "metadata": {},
   "source": [
    "# Making some graphs"
   ]
  },
  {
   "cell_type": "code",
   "execution_count": 8,
   "id": "1c3a6d00-584c-4815-b094-8264cd561f68",
   "metadata": {},
   "outputs": [],
   "source": [
    "# TODO: Make a function that, given a metric,\n",
    "# plots a graph bar of all the daos and its average\n",
    "# resuls over the different models\n",
    "\n",
    "# Perhaps each color is each dao and different\n",
    "# bars are the different models, or each color\n",
    "# is each model, and each bar is each dao\n",
    "# If you do it with seaborn it should be easy to change"
   ]
  },
  {
   "cell_type": "code",
   "execution_count": 9,
   "id": "2c063115-a37c-4c8c-8b1d-c503367c09cf",
   "metadata": {},
   "outputs": [
    {
     "data": {
      "text/plain": [
       "<Axes: xlabel='dao', ylabel='precision@5'>"
      ]
     },
     "execution_count": 9,
     "metadata": {},
     "output_type": "execute_result"
    },
    {
     "data": {
      "image/png": "[encoded data removed]",
      "text/plain": [
       "<Figure size 640x480 with 1 Axes>"
      ]
     },
     "metadata": {},
     "output_type": "display_data"
    }
   ],
   "source": [
    "def plot_all_daos_metric(metric):\n",
    "    _id_vars = ['t', 'dao', 'modelId']\n",
    "    # _metrics = [ c for c in dfr.columns if '@' in c ]\n",
    "    # _toplot = dfr.melt(id_vars=_id_vars, value_vars=_metrics)\n",
    "    _toplot = dfrbp[_id_vars + [metric]]\n",
    "    return sns.barplot(_toplot, x='dao', y=metric, hue='modelId')\n",
    "\n",
    "plot_all_daos_metric('precision@5')"
   ]
  },
  {
   "cell_type": "code",
   "execution_count": 10,
   "id": "a4a8f3ba-c6e9-4803-8647-b425b31694ae",
   "metadata": {},
   "outputs": [
    {
     "data": {
      "text/plain": [
       "<Axes: xlabel='dao', ylabel='ndcg@10'>"
      ]
     },
     "execution_count": 10,
     "metadata": {},
     "output_type": "execute_result"
    },
    {
     "data": {
      "image/png": "[encoded data removed]",
      "text/plain": [
       "<Figure size 640x480 with 1 Axes>"
      ]
     },
     "metadata": {},
     "output_type": "display_data"
    }
   ],
   "source": [
    "plot_all_daos_metric('ndcg@10')"
   ]
  },
  {
   "cell_type": "markdown",
   "id": "3dcf6459-74f2-4673-a842-3aa1a2016355",
   "metadata": {},
   "source": [
    "## Now different graphs"
   ]
  },
  {
   "cell_type": "code",
   "execution_count": 11,
   "id": "52d8acb3-f09b-464d-82d6-3171fea5f8a7",
   "metadata": {},
   "outputs": [
    {
     "data": {
      "image/png": "[encoded data removed]",
      "text/plain": [
       "<Figure size 640x480 with 1 Axes>"
      ]
     },
     "execution_count": 11,
     "metadata": {},
     "output_type": "execute_result"
    },
    {
     "data": {
      "image/png": "[encoded data removed]",
      "text/plain": [
       "<Figure size 640x480 with 1 Axes>"
      ]
     },
     "metadata": {},
     "output_type": "display_data"
    }
   ],
   "source": [
    "def plot_one_dao_metric(daoName, metric):\n",
    "    _toplot = dfrbp[(dfrbp['dao'] == daoName) & (dfrbp['modelId'] != 'perfect')]\n",
    "    fig = sns.barplot(_toplot, x='modelId', y=metric, hue='modelId', width=1)\n",
    "    plt.xticks(rotation=30, ha='right')\n",
    "    plt.xlabel(\"\")\n",
    "    return fig.figure\n",
    "\n",
    "plot_one_dao_metric('PancakeSwap', 'ndcg@10')"
   ]
  },
  {
   "cell_type": "code",
   "execution_count": 12,
   "id": "1a75e769-3c99-4e2f-884f-3298148e0cc8",
   "metadata": {},
   "outputs": [
    {
     "data": {
      "image/png": "[encoded data removed]",
      "text/plain": [
       "<Figure size 300x250 with 1 Axes>"
      ]
     },
     "metadata": {},
     "output_type": "display_data"
    },
    {
     "data": {
      "application/vnd.jupyter.widget-view+json": {
       "model_id": "1641a521f50e47449ce65e899089fbd8",
       "version_major": 2,
       "version_minor": 0
      },
      "text/html": [
       "Cannot show widget. You probably want to rerun the code cell above (<i>Click in the code cell, and press Shift+Enter <kbd>⇧</kbd>+<kbd>↩</kbd></i>)."
      ],
      "text/plain": [
       "Cannot show ipywidgets in text"
      ]
     },
     "metadata": {},
     "output_type": "display_data"
    },
    {
     "data": {
      "image/png": "[encoded data removed]",
      "text/plain": [
       "<Figure size 300x250 with 1 Axes>"
      ]
     },
     "metadata": {},
     "output_type": "display_data"
    },
    {
     "data": {
      "application/vnd.jupyter.widget-view+json": {
       "model_id": "a67bf774ac9f446bace0b23091e6fcfc",
       "version_major": 2,
       "version_minor": 0
      },
      "text/html": [
       "Cannot show widget. You probably want to rerun the code cell above (<i>Click in the code cell, and press Shift+Enter <kbd>⇧</kbd>+<kbd>↩</kbd></i>)."
      ],
      "text/plain": [
       "Cannot show ipywidgets in text"
      ]
     },
     "metadata": {},
     "output_type": "display_data"
    },
    {
     "data": {
      "image/png": "[encoded data removed]",
      "text/plain": [
       "<Figure size 300x250 with 1 Axes>"
      ]
     },
     "metadata": {},
     "output_type": "display_data"
    },
    {
     "data": {
      "application/vnd.jupyter.widget-view+json": {
       "model_id": "265c9fab03da490c8840c4a816000a41",
       "version_major": 2,
       "version_minor": 0
      },
      "text/html": [
       "Cannot show widget. You probably want to rerun the code cell above (<i>Click in the code cell, and press Shift+Enter <kbd>⇧</kbd>+<kbd>↩</kbd></i>)."
      ],
      "text/plain": [
       "Cannot show ipywidgets in text"
      ]
     },
     "metadata": {},
     "output_type": "display_data"
    },
    {
     "data": {
      "image/png": "[encoded data removed]",
      "text/plain": [
       "<Figure size 300x250 with 1 Axes>"
      ]
     },
     "metadata": {},
     "output_type": "display_data"
    },
    {
     "data": {
      "application/vnd.jupyter.widget-view+json": {
       "model_id": "02a922d5751e4ae7a6145c613f4a9d8f",
       "version_major": 2,
       "version_minor": 0
      },
      "text/html": [
       "Cannot show widget. You probably want to rerun the code cell above (<i>Click in the code cell, and press Shift+Enter <kbd>⇧</kbd>+<kbd>↩</kbd></i>)."
      ],
      "text/plain": [
       "Cannot show ipywidgets in text"
      ]
     },
     "metadata": {},
     "output_type": "display_data"
    },
    {
     "data": {
      "text/plain": [
       "[<Figure size 300x250 with 1 Axes>,\n",
       " <Figure size 300x250 with 1 Axes>,\n",
       " <Figure size 300x250 with 1 Axes>,\n",
       " <Figure size 300x250 with 1 Axes>]"
      ]
     },
     "execution_count": 12,
     "metadata": {},
     "output_type": "execute_result"
    }
   ],
   "source": [
    "def plot_all_daos_metric_figs(metric):\n",
    "    figs = []\n",
    "    for dao in DO_ORGS:\n",
    "        plt.figure(figsize=(3,2.5))\n",
    "        fig = plot_one_dao_metric(dao['dao'], metric)\n",
    "        display(fig)\n",
    "        display(download_matplotlib(fig, f'7_all-metrics-{dao[\"dao\"]}-{metric}.pdf'))\n",
    "        plt.close()\n",
    "        figs.append(fig)\n",
    "    return figs\n",
    "\n",
    "plot_all_daos_metric_figs('ndcg@10')"
   ]
  },
  {
   "cell_type": "code",
   "execution_count": 13,
   "id": "4db31069-6e1d-4f4d-a075-e50baeb16514",
   "metadata": {},
   "outputs": [
    {
     "data": {
      "image/png": "[encoded data removed]",
      "text/plain": [
       "<Figure size 300x250 with 1 Axes>"
      ]
     },
     "metadata": {},
     "output_type": "display_data"
    },
    {
     "data": {
      "application/vnd.jupyter.widget-view+json": {
       "model_id": "a041a06919d94c308fbc6af09cfcf325",
       "version_major": 2,
       "version_minor": 0
      },
      "text/html": [
       "Cannot show widget. You probably want to rerun the code cell above (<i>Click in the code cell, and press Shift+Enter <kbd>⇧</kbd>+<kbd>↩</kbd></i>)."
      ],
      "text/plain": [
       "Cannot show ipywidgets in text"
      ]
     },
     "metadata": {},
     "output_type": "display_data"
    },
    {
     "data": {
      "image/png": "[encoded data removed]",
      "text/plain": [
       "<Figure size 300x250 with 1 Axes>"
      ]
     },
     "metadata": {},
     "output_type": "display_data"
    },
    {
     "data": {
      "application/vnd.jupyter.widget-view+json": {
       "model_id": "f6a850862a6948e1a145bbae2f020e9c",
       "version_major": 2,
       "version_minor": 0
      },
      "text/html": [
       "Cannot show widget. You probably want to rerun the code cell above (<i>Click in the code cell, and press Shift+Enter <kbd>⇧</kbd>+<kbd>↩</kbd></i>)."
      ],
      "text/plain": [
       "Cannot show ipywidgets in text"
      ]
     },
     "metadata": {},
     "output_type": "display_data"
    },
    {
     "data": {
      "image/png": "[encoded data removed]",
      "text/plain": [
       "<Figure size 300x250 with 1 Axes>"
      ]
     },
     "metadata": {},
     "output_type": "display_data"
    },
    {
     "data": {
      "application/vnd.jupyter.widget-view+json": {
       "model_id": "dae11463bd2f4ebdaf102ddbaea02bfe",
       "version_major": 2,
       "version_minor": 0
      },
      "text/html": [
       "Cannot show widget. You probably want to rerun the code cell above (<i>Click in the code cell, and press Shift+Enter <kbd>⇧</kbd>+<kbd>↩</kbd></i>)."
      ],
      "text/plain": [
       "Cannot show ipywidgets in text"
      ]
     },
     "metadata": {},
     "output_type": "display_data"
    },
    {
     "data": {
      "image/png": "[encoded data removed]",
      "text/plain": [
       "<Figure size 300x250 with 1 Axes>"
      ]
     },
     "metadata": {},
     "output_type": "display_data"
    },
    {
     "data": {
      "application/vnd.jupyter.widget-view+json": {
       "model_id": "feae3b8ac22f4775b0e36e5370d65aed",
       "version_major": 2,
       "version_minor": 0
      },
      "text/html": [
       "Cannot show widget. You probably want to rerun the code cell above (<i>Click in the code cell, and press Shift+Enter <kbd>⇧</kbd>+<kbd>↩</kbd></i>)."
      ],
      "text/plain": [
       "Cannot show ipywidgets in text"
      ]
     },
     "metadata": {},
     "output_type": "display_data"
    },
    {
     "data": {
      "text/plain": [
       "[<Figure size 300x250 with 1 Axes>,\n",
       " <Figure size 300x250 with 1 Axes>,\n",
       " <Figure size 300x250 with 1 Axes>,\n",
       " <Figure size 300x250 with 1 Axes>]"
      ]
     },
     "execution_count": 13,
     "metadata": {},
     "output_type": "execute_result"
    }
   ],
   "source": [
    "plot_all_daos_metric_figs('precision@5')"
   ]
  }
 ],
 "metadata": {
  "kernelspec": {
   "display_name": "Python 3 (ipykernel)",
   "language": "python",
   "name": "python3"
  },
  "language_info": {
   "codemirror_mode": {
    "name": "ipython",
    "version": 3
   },
   "file_extension": ".py",
   "mimetype": "text/x-python",
   "name": "python",
   "nbconvert_exporter": "python",
   "pygments_lexer": "ipython3",
   "version": "3.9.18"
  },
  "widgets": {
   "application/vnd.jupyter.widget-state+json": {
    "state": {
     "0188cd7b21714729b8621c394572c203": {
      "model_module": "@jupyter-widgets/base",
      "model_module_version": "2.0.0",
      "model_name": "LayoutModel",
      "state": {}
     },
     "02a922d5751e4ae7a6145c613f4a9d8f": {
      "model_module": "@jupyter-widgets/controls",
      "model_module_version": "2.0.0",
      "model_name": "VBoxModel",
      "state": {
       "_view_count": 1,
       "children": [
        "IPY_MODEL_dffc59a4d6d0407e8bff989ada9b5240"
       ],
       "layout": "IPY_MODEL_748271e76a97422e9ab42b1e17c025aa"
      }
     },
     "0afbc6056a4d45058a4be830d6103a4b": {
      "model_module": "jupyter-vuetify",
      "model_module_version": "^1.8.5",
      "model_name": "RowModel",
      "state": {
       "_events": [],
       "_jupyter_vue": "IPY_MODEL_e79ec6e61d7f49c681da793a8553ef1e",
       "attributes": {},
       "children": [
        "IPY_MODEL_6e828145cd1446efb9f21360a26c83c6"
       ],
       "class_": "solara-content-main",
       "layout": null,
       "no_gutters": false,
       "v_slots": []
      }
     },
     "1215ac24d3404b4daa2186258d914329": {
      "model_module": "jupyter-vuetify",
      "model_module_version": "^1.8.10",
      "model_name": "ThemeColorsModel",
      "state": {
       "_model_module_version": "^1.8.10",
       "_theme_name": "light",
       "_view_module": null,
       "_view_module_version": "^1.8.10",
       "accent": "#82B1FF",
       "error": "#FF5252",
       "info": "#2196F3",
       "primary": "#1976D2",
       "secondary": "#424242",
       "success": "#4CAF50",
       "warning": "#FB8C00"
      }
     },
     "12a7f19a72c5410ca79f53df1b21a169": {
      "model_module": "jupyter-vuetify",
      "model_module_version": "^1.8.5",
      "model_name": "BtnModel",
      "state": {
       "_events": [
        "click"
       ],
       "_jupyter_vue": "IPY_MODEL_e79ec6e61d7f49c681da793a8553ef1e",
       "attributes": {},
       "children": [
        "IPY_MODEL_4fcb71982af54c858dbff6e2000e5864",
        "Download: 7_all-metrics-DEAD FoundationsDAO-precision@5.pdf"
       ],
       "class_": "",
       "disabled": false,
       "elevation": null,
       "height": null,
       "href": null,
       "layout": null,
       "loading": false,
       "max_height": null,
       "max_width": null,
       "min_height": null,
       "min_width": null,
       "outlined": false,
       "ripple": null,
       "style_": "",
       "text": false,
       "to": null,
       "v_slots": [],
       "width": null
      }
     },
     "133b74a63b7341a6b41577eb210906f0": {
      "model_module": "jupyter-vuetify",
      "model_module_version": "^1.8.5",
      "model_name": "IconModel",
      "state": {
       "_events": [],
       "_jupyter_vue": "IPY_MODEL_e79ec6e61d7f49c681da793a8553ef1e",
       "attributes": {},
       "children": [
        "mdi-cloud-download-outline"
       ],
       "layout": null,
       "left": true,
       "size": null,
       "v_slots": []
      }
     },
     "1641a521f50e47449ce65e899089fbd8": {
      "model_module": "@jupyter-widgets/controls",
      "model_module_version": "2.0.0",
      "model_name": "VBoxModel",
      "state": {
       "_view_count": 1,
       "children": [
        "IPY_MODEL_e1e141570fc24c7095a239b799af7092"
       ],
       "layout": "IPY_MODEL_5f8946bfb59d4a8abc74be7e19924f9d"
      }
     },
     "1b6a320786f64d01af45688d5f30b4b3": {
      "model_module": "@jupyter-widgets/base",
      "model_module_version": "2.0.0",
      "model_name": "LayoutModel",
      "state": {}
     },
     "1c00142f79ee426799ca33e7766cf24a": {
      "model_module": "@jupyter-widgets/base",
      "model_module_version": "2.0.0",
      "model_name": "LayoutModel",
      "state": {}
     },
     "21359423e9824e2fa02ecc243bc21d1b": {
      "model_module": "jupyter-vuetify",
      "model_module_version": "^1.8.5",
      "model_name": "BtnModel",
      "state": {
       "_events": [
        "click"
       ],
       "_jupyter_vue": "IPY_MODEL_e79ec6e61d7f49c681da793a8553ef1e",
       "attributes": {},
       "children": [
        "IPY_MODEL_5e54a48b34dc419887e0a7aa227de6e6",
        "Download: 7_all-metrics-Decentraland-ndcg@10.pdf"
       ],
       "class_": "",
       "disabled": false,
       "elevation": null,
       "height": null,
       "href": null,
       "layout": null,
       "loading": false,
       "max_height": null,
       "max_width": null,
       "min_height": null,
       "min_width": null,
       "outlined": false,
       "ripple": null,
       "style_": "",
       "text": false,
       "to": null,
       "v_slots": [],
       "width": null
      }
     },
     "250113c9f1b24096a6fc8cb2967402dc": {
      "model_module": "jupyter-vuetify",
      "model_module_version": "^1.8.5",
      "model_name": "RowModel",
      "state": {
       "_events": [],
       "_jupyter_vue": "IPY_MODEL_e79ec6e61d7f49c681da793a8553ef1e",
       "attributes": {},
       "children": [
        "IPY_MODEL_6f05248b9192411b84e8679766fc5003"
       ],
       "class_": "solara-content-main",
       "layout": null,
       "no_gutters": false,
       "v_slots": []
      }
     },
     "265c9fab03da490c8840c4a816000a41": {
      "model_module": "@jupyter-widgets/controls",
      "model_module_version": "2.0.0",
      "model_name": "VBoxModel",
      "state": {
       "_view_count": 1,
       "children": [
        "IPY_MODEL_32668eee8f5f4d02a7558b997a307c17"
       ],
       "layout": "IPY_MODEL_1b6a320786f64d01af45688d5f30b4b3"
      }
     },
     "28b04a4133c2419b9caa32df1afe5881": {
      "model_module": "@jupyter-widgets/base",
      "model_module_version": "2.0.0",
      "model_name": "LayoutModel",
      "state": {}
     },
     "2902e30b29f345dfba9b90eaf6a7ac95": {
      "model_module": "jupyter-vuetify",
      "model_module_version": "^1.8.5",
      "model_name": "RowModel",
      "state": {
       "_events": [],
       "_jupyter_vue": "IPY_MODEL_e79ec6e61d7f49c681da793a8553ef1e",
       "attributes": {},
       "children": [
        "IPY_MODEL_dd6ba724f3df431cac570a4aefc0d622"
       ],
       "class_": "solara-content-main",
       "layout": null,
       "no_gutters": false,
       "v_slots": []
      }
     },
     "2e1bc039f71b45f48cc7d2f12c28625e": {
      "model_module": "@jupyter-widgets/base",
      "model_module_version": "2.0.0",
      "model_name": "LayoutModel",
      "state": {}
     },
     "2e6019c21d3b46d592250f1596a570f1": {
      "model_module": "jupyter-vuetify",
      "model_module_version": "^1.8.5",
      "model_name": "IconModel",
      "state": {
       "_events": [],
       "_jupyter_vue": "IPY_MODEL_e79ec6e61d7f49c681da793a8553ef1e",
       "attributes": {},
       "children": [
        "mdi-cloud-download-outline"
       ],
       "layout": null,
       "left": true,
       "size": null,
       "v_slots": []
      }
     },
     "2e66c215ea9d44c8983b19072ef88402": {
      "model_module": "jupyter-vuetify",
      "model_module_version": "^1.8.10",
      "model_name": "VuetifyTemplateModel",
      "state": {
       "_component_instances": [],
       "_jupyter_vue": "IPY_MODEL_e79ec6e61d7f49c681da793a8553ef1e",
       "_model_module_version": "^1.8.10",
       "_view_module_version": "^1.8.10",
       "bytes": null,
       "children": [
        "IPY_MODEL_7d5985bf44f04f70bd15ca47fa997ba3"
       ],
       "components": null,
       "events": [],
       "filename": "7_all-metrics-PancakeSwap-precision@5.pdf",
       "layout": "IPY_MODEL_81df228822664e77ac6f3644a85aa1f9",
       "mime_type": "application/octet-stream",
       "request_download": false,
       "template": "IPY_MODEL_efaf49bde6ce4c72a34d989c8c91fb01"
      }
     },
     "32668eee8f5f4d02a7558b997a307c17": {
      "model_module": "jupyter-vuetify",
      "model_module_version": "^1.8.10",
      "model_name": "HtmlModel",
      "state": {
       "_events": [],
       "_jupyter_vue": "IPY_MODEL_e79ec6e61d7f49c681da793a8553ef1e",
       "_model_module_version": "^1.8.10",
       "_view_module_version": "^1.8.10",
       "attributes": {},
       "children": [
        "IPY_MODEL_5eee4f760e354e69b68b50135153cdc4"
       ],
       "layout": null,
       "tag": "div",
       "v_slots": []
      }
     },
     "33b40aecf042470bb95f1afe85c29acc": {
      "model_module": "jupyter-vuetify",
      "model_module_version": "^1.8.10",
      "model_name": "VuetifyTemplateModel",
      "state": {
       "_component_instances": [],
       "_jupyter_vue": "IPY_MODEL_e79ec6e61d7f49c681da793a8553ef1e",
       "_model_module_version": "^1.8.10",
       "_view_module_version": "^1.8.10",
       "bytes": null,
       "children": [
        "IPY_MODEL_fc291bacee5a436395cd421c1a25bdfd"
       ],
       "components": null,
       "events": [],
       "filename": "7_all-metrics-MetaCartel - MetaCartel Ventures-precision@5.pdf",
       "layout": "IPY_MODEL_f51ab4c42770475fa57d88dd2d700653",
       "mime_type": "application/octet-stream",
       "request_download": false,
       "template": "IPY_MODEL_efaf49bde6ce4c72a34d989c8c91fb01"
      }
     },
     "3d2096f68740488f81e349f1061d8099": {
      "model_module": "jupyter-vuetify",
      "model_module_version": "^1.8.5",
      "model_name": "ColModel",
      "state": {
       "_events": [],
       "_jupyter_vue": "IPY_MODEL_e79ec6e61d7f49c681da793a8553ef1e",
       "attributes": {},
       "children": [
        "IPY_MODEL_2e66c215ea9d44c8983b19072ef88402"
       ],
       "cols": 12,
       "layout": null,
       "lg": null,
       "md": null,
       "offset": null,
       "offset_lg": null,
       "offset_md": null,
       "offset_sm": null,
       "offset_xl": null,
       "order": null,
       "order_lg": null,
       "order_md": null,
       "order_sm": null,
       "order_xl": null,
       "sm": null,
       "v_slots": [],
       "xl": null
      }
     },
     "40a30d3cb67d46398b8a567ddeedbac6": {
      "model_module": "jupyter-vuetify",
      "model_module_version": "^1.8.5",
      "model_name": "ColModel",
      "state": {
       "_events": [],
       "_jupyter_vue": "IPY_MODEL_e79ec6e61d7f49c681da793a8553ef1e",
       "attributes": {},
       "children": [
        "IPY_MODEL_d7a11c3327054b4ea04b008b99b64bc4"
       ],
       "cols": 12,
       "layout": null,
       "lg": null,
       "md": null,
       "offset": null,
       "offset_lg": null,
       "offset_md": null,
       "offset_sm": null,
       "offset_xl": null,
       "order": null,
       "order_lg": null,
       "order_md": null,
       "order_sm": null,
       "order_xl": null,
       "sm": null,
       "v_slots": [],
       "xl": null
      }
     },
     "4fcb71982af54c858dbff6e2000e5864": {
      "model_module": "jupyter-vuetify",
      "model_module_version": "^1.8.5",
      "model_name": "IconModel",
      "state": {
       "_events": [],
       "_jupyter_vue": "IPY_MODEL_e79ec6e61d7f49c681da793a8553ef1e",
       "attributes": {},
       "children": [
        "mdi-cloud-download-outline"
       ],
       "layout": null,
       "left": true,
       "size": null,
       "v_slots": []
      }
     },
     "532651cf62bd4fdca2a4b3b562c1f3ef": {
      "model_module": "jupyter-vuetify",
      "model_module_version": "^1.8.5",
      "model_name": "RowModel",
      "state": {
       "_events": [],
       "_jupyter_vue": "IPY_MODEL_e79ec6e61d7f49c681da793a8553ef1e",
       "attributes": {},
       "children": [
        "IPY_MODEL_90d710a29baa47499c5ec68e0ad30bed"
       ],
       "class_": "solara-content-main",
       "layout": null,
       "no_gutters": false,
       "v_slots": []
      }
     },
     "53dee4183ee3498dba582160a1aa5dc4": {
      "model_module": "jupyter-vuetify",
      "model_module_version": "^1.8.10",
      "model_name": "VuetifyTemplateModel",
      "state": {
       "_component_instances": [],
       "_jupyter_vue": "IPY_MODEL_e79ec6e61d7f49c681da793a8553ef1e",
       "_model_module_version": "^1.8.10",
       "_view_module_version": "^1.8.10",
       "bytes": null,
       "children": [
        "IPY_MODEL_21359423e9824e2fa02ecc243bc21d1b"
       ],
       "components": null,
       "events": [],
       "filename": "7_all-metrics-Decentraland-ndcg@10.pdf",
       "layout": "IPY_MODEL_c62867a7526d4e64bffd33cd74da7abc",
       "mime_type": "application/octet-stream",
       "request_download": false,
       "template": "IPY_MODEL_efaf49bde6ce4c72a34d989c8c91fb01"
      }
     },
     "5551d6d2a5734c85ae85df4fcfe4c60e": {
      "model_module": "jupyter-vuetify",
      "model_module_version": "^1.8.5",
      "model_name": "RowModel",
      "state": {
       "_events": [],
       "_jupyter_vue": "IPY_MODEL_e79ec6e61d7f49c681da793a8553ef1e",
       "attributes": {},
       "children": [
        "IPY_MODEL_3d2096f68740488f81e349f1061d8099"
       ],
       "class_": "solara-content-main",
       "layout": null,
       "no_gutters": false,
       "v_slots": []
      }
     },
     "556861d9d3c245edb05712ce258c9179": {
      "model_module": "@jupyter-widgets/base",
      "model_module_version": "2.0.0",
      "model_name": "LayoutModel",
      "state": {}
     },
     "5e2f232794ce4b3db11580d74a73dc36": {
      "model_module": "jupyter-vuetify",
      "model_module_version": "^1.8.10",
      "model_name": "HtmlModel",
      "state": {
       "_events": [],
       "_jupyter_vue": "IPY_MODEL_e79ec6e61d7f49c681da793a8553ef1e",
       "_model_module_version": "^1.8.10",
       "_view_module_version": "^1.8.10",
       "attributes": {},
       "children": [
        "IPY_MODEL_7ad92685369a4688a33a9069e3cc4d68"
       ],
       "layout": null,
       "tag": "div",
       "v_slots": []
      }
     },
     "5e54a48b34dc419887e0a7aa227de6e6": {
      "model_module": "jupyter-vuetify",
      "model_module_version": "^1.8.5",
      "model_name": "IconModel",
      "state": {
       "_events": [],
       "_jupyter_vue": "IPY_MODEL_e79ec6e61d7f49c681da793a8553ef1e",
       "attributes": {},
       "children": [
        "mdi-cloud-download-outline"
       ],
       "layout": null,
       "left": true,
       "size": null,
       "v_slots": []
      }
     },
     "5eee4f760e354e69b68b50135153cdc4": {
      "model_module": "jupyter-vuetify",
      "model_module_version": "^1.8.5",
      "model_name": "RowModel",
      "state": {
       "_events": [],
       "_jupyter_vue": "IPY_MODEL_e79ec6e61d7f49c681da793a8553ef1e",
       "attributes": {},
       "children": [
        "IPY_MODEL_40a30d3cb67d46398b8a567ddeedbac6"
       ],
       "class_": "solara-content-main",
       "layout": null,
       "no_gutters": false,
       "v_slots": []
      }
     },
     "5f8946bfb59d4a8abc74be7e19924f9d": {
      "model_module": "@jupyter-widgets/base",
      "model_module_version": "2.0.0",
      "model_name": "LayoutModel",
      "state": {}
     },
     "61b396e5ec7944aea94d992f8414b496": {
      "model_module": "@jupyter-widgets/base",
      "model_module_version": "2.0.0",
      "model_name": "LayoutModel",
      "state": {}
     },
     "62d70a67a370481f9b086c9439dc0001": {
      "model_module": "jupyter-vuetify",
      "model_module_version": "^1.8.10",
      "model_name": "VuetifyTemplateModel",
      "state": {
       "_component_instances": [],
       "_jupyter_vue": "IPY_MODEL_e79ec6e61d7f49c681da793a8553ef1e",
       "_model_module_version": "^1.8.10",
       "_view_module_version": "^1.8.10",
       "bytes": null,
       "children": [
        "IPY_MODEL_12a7f19a72c5410ca79f53df1b21a169"
       ],
       "components": null,
       "events": [],
       "filename": "7_all-metrics-DEAD FoundationsDAO-precision@5.pdf",
       "layout": "IPY_MODEL_6ebfaf7f4a0e46e4beaf44b02ed7d865",
       "mime_type": "application/octet-stream",
       "request_download": false,
       "template": "IPY_MODEL_efaf49bde6ce4c72a34d989c8c91fb01"
      }
     },
     "66944664c07e4a1e946abfe6947ffd5d": {
      "model_module": "@jupyter-widgets/base",
      "model_module_version": "2.0.0",
      "model_name": "LayoutModel",
      "state": {}
     },
     "66d67cd8ad954d6ab94467ed20e35b24": {
      "model_module": "jupyter-vuetify",
      "model_module_version": "^1.8.10",
      "model_name": "HtmlModel",
      "state": {
       "_events": [],
       "_jupyter_vue": "IPY_MODEL_e79ec6e61d7f49c681da793a8553ef1e",
       "_model_module_version": "^1.8.10",
       "_view_module_version": "^1.8.10",
       "attributes": {},
       "children": [
        "IPY_MODEL_250113c9f1b24096a6fc8cb2967402dc"
       ],
       "layout": null,
       "tag": "div",
       "v_slots": []
      }
     },
     "6e828145cd1446efb9f21360a26c83c6": {
      "model_module": "jupyter-vuetify",
      "model_module_version": "^1.8.5",
      "model_name": "ColModel",
      "state": {
       "_events": [],
       "_jupyter_vue": "IPY_MODEL_e79ec6e61d7f49c681da793a8553ef1e",
       "attributes": {},
       "children": [
        "IPY_MODEL_e6700535f2774ad2a093af68cc16807f"
       ],
       "cols": 12,
       "layout": null,
       "lg": null,
       "md": null,
       "offset": null,
       "offset_lg": null,
       "offset_md": null,
       "offset_sm": null,
       "offset_xl": null,
       "order": null,
       "order_lg": null,
       "order_md": null,
       "order_sm": null,
       "order_xl": null,
       "sm": null,
       "v_slots": [],
       "xl": null
      }
     },
     "6ebfaf7f4a0e46e4beaf44b02ed7d865": {
      "model_module": "@jupyter-widgets/base",
      "model_module_version": "2.0.0",
      "model_name": "LayoutModel",
      "state": {}
     },
     "6f05248b9192411b84e8679766fc5003": {
      "model_module": "jupyter-vuetify",
      "model_module_version": "^1.8.5",
      "model_name": "ColModel",
      "state": {
       "_events": [],
       "_jupyter_vue": "IPY_MODEL_e79ec6e61d7f49c681da793a8553ef1e",
       "attributes": {},
       "children": [
        "IPY_MODEL_62d70a67a370481f9b086c9439dc0001"
       ],
       "cols": 12,
       "layout": null,
       "lg": null,
       "md": null,
       "offset": null,
       "offset_lg": null,
       "offset_md": null,
       "offset_sm": null,
       "offset_xl": null,
       "order": null,
       "order_lg": null,
       "order_md": null,
       "order_sm": null,
       "order_xl": null,
       "sm": null,
       "v_slots": [],
       "xl": null
      }
     },
     "748271e76a97422e9ab42b1e17c025aa": {
      "model_module": "@jupyter-widgets/base",
      "model_module_version": "2.0.0",
      "model_name": "LayoutModel",
      "state": {}
     },
     "7ad92685369a4688a33a9069e3cc4d68": {
      "model_module": "jupyter-vuetify",
      "model_module_version": "^1.8.5",
      "model_name": "RowModel",
      "state": {
       "_events": [],
       "_jupyter_vue": "IPY_MODEL_e79ec6e61d7f49c681da793a8553ef1e",
       "attributes": {},
       "children": [
        "IPY_MODEL_f8473c9a8e7246599a8d68473baf1268"
       ],
       "class_": "solara-content-main",
       "layout": null,
       "no_gutters": false,
       "v_slots": []
      }
     },
     "7d5985bf44f04f70bd15ca47fa997ba3": {
      "model_module": "jupyter-vuetify",
      "model_module_version": "^1.8.5",
      "model_name": "BtnModel",
      "state": {
       "_events": [
        "click"
       ],
       "_jupyter_vue": "IPY_MODEL_e79ec6e61d7f49c681da793a8553ef1e",
       "attributes": {},
       "children": [
        "IPY_MODEL_9ef8a6a208d24fdb9c9def3488266c94",
        "Download: 7_all-metrics-PancakeSwap-precision@5.pdf"
       ],
       "class_": "",
       "disabled": false,
       "elevation": null,
       "height": null,
       "href": null,
       "layout": null,
       "loading": false,
       "max_height": null,
       "max_width": null,
       "min_height": null,
       "min_width": null,
       "outlined": false,
       "ripple": null,
       "style_": "",
       "text": false,
       "to": null,
       "v_slots": [],
       "width": null
      }
     },
     "7d71f589f3e84dbcadfcd3fea940281a": {
      "model_module": "jupyter-vuetify",
      "model_module_version": "^1.8.5",
      "model_name": "BtnModel",
      "state": {
       "_events": [
        "click"
       ],
       "_jupyter_vue": "IPY_MODEL_e79ec6e61d7f49c681da793a8553ef1e",
       "attributes": {},
       "children": [
        "IPY_MODEL_facd6526f670469398a356e3074d3d87",
        "Download: 7_all-metrics-Decentraland-precision@5.pdf"
       ],
       "class_": "",
       "disabled": false,
       "elevation": null,
       "height": null,
       "href": null,
       "layout": null,
       "loading": false,
       "max_height": null,
       "max_width": null,
       "min_height": null,
       "min_width": null,
       "outlined": false,
       "ripple": null,
       "style_": "",
       "text": false,
       "to": null,
       "v_slots": [],
       "width": null
      }
     },
     "81df228822664e77ac6f3644a85aa1f9": {
      "model_module": "@jupyter-widgets/base",
      "model_module_version": "2.0.0",
      "model_name": "LayoutModel",
      "state": {}
     },
     "844f582d6c7c4eeba5b4d1b016b8e54c": {
      "model_module": "jupyter-vuetify",
      "model_module_version": "^1.8.5",
      "model_name": "BtnModel",
      "state": {
       "_events": [
        "click"
       ],
       "_jupyter_vue": "IPY_MODEL_e79ec6e61d7f49c681da793a8553ef1e",
       "attributes": {},
       "children": [
        "IPY_MODEL_2e6019c21d3b46d592250f1596a570f1",
        "Download: 7_all-metrics-PancakeSwap-ndcg@10.pdf"
       ],
       "class_": "",
       "disabled": false,
       "elevation": null,
       "height": null,
       "href": null,
       "layout": null,
       "loading": false,
       "max_height": null,
       "max_width": null,
       "min_height": null,
       "min_width": null,
       "outlined": false,
       "ripple": null,
       "style_": "",
       "text": false,
       "to": null,
       "v_slots": [],
       "width": null
      }
     },
     "8a6ff605aa78433e9f3c1c8b21f74edd": {
      "model_module": "@jupyter-widgets/base",
      "model_module_version": "2.0.0",
      "model_name": "LayoutModel",
      "state": {}
     },
     "8ae78fb20cda43c5b909d25846a2b551": {
      "model_module": "jupyter-vuetify",
      "model_module_version": "^1.8.10",
      "model_name": "VuetifyTemplateModel",
      "state": {
       "_component_instances": [],
       "_jupyter_vue": "IPY_MODEL_e79ec6e61d7f49c681da793a8553ef1e",
       "_model_module_version": "^1.8.10",
       "_view_module_version": "^1.8.10",
       "bytes": null,
       "children": [
        "IPY_MODEL_844f582d6c7c4eeba5b4d1b016b8e54c"
       ],
       "components": null,
       "events": [],
       "filename": "7_all-metrics-PancakeSwap-ndcg@10.pdf",
       "layout": "IPY_MODEL_d5bd22b49d874d21b214b335f5282521",
       "mime_type": "application/octet-stream",
       "request_download": false,
       "template": "IPY_MODEL_efaf49bde6ce4c72a34d989c8c91fb01"
      }
     },
     "8e9d8ea8d9cd432c91cae36e2ecbadc4": {
      "model_module": "jupyter-vuetify",
      "model_module_version": "^1.8.5",
      "model_name": "IconModel",
      "state": {
       "_events": [],
       "_jupyter_vue": "IPY_MODEL_e79ec6e61d7f49c681da793a8553ef1e",
       "attributes": {},
       "children": [
        "mdi-cloud-download-outline"
       ],
       "layout": null,
       "left": true,
       "size": null,
       "v_slots": []
      }
     },
     "903395ef2bb04157baedc35928837c76": {
      "model_module": "jupyter-vuetify",
      "model_module_version": "^1.8.10",
      "model_name": "ThemeColorsModel",
      "state": {
       "_model_module_version": "^1.8.10",
       "_theme_name": "dark",
       "_view_module": null,
       "_view_module_version": "^1.8.10",
       "accent": "#FF4081",
       "error": "#FF5252",
       "info": "#2196F3",
       "primary": "#2196F3",
       "secondary": "#424242",
       "success": "#4CAF50",
       "warning": "#FB8C00"
      }
     },
     "9076aea7ccf64e089da4945eb5cab9bb": {
      "model_module": "jupyter-vuetify",
      "model_module_version": "^1.8.10",
      "model_name": "HtmlModel",
      "state": {
       "_events": [],
       "_jupyter_vue": "IPY_MODEL_e79ec6e61d7f49c681da793a8553ef1e",
       "_model_module_version": "^1.8.10",
       "_view_module_version": "^1.8.10",
       "attributes": {},
       "children": [
        "IPY_MODEL_5551d6d2a5734c85ae85df4fcfe4c60e"
       ],
       "layout": null,
       "tag": "div",
       "v_slots": []
      }
     },
     "90d710a29baa47499c5ec68e0ad30bed": {
      "model_module": "jupyter-vuetify",
      "model_module_version": "^1.8.5",
      "model_name": "ColModel",
      "state": {
       "_events": [],
       "_jupyter_vue": "IPY_MODEL_e79ec6e61d7f49c681da793a8553ef1e",
       "attributes": {},
       "children": [
        "IPY_MODEL_33b40aecf042470bb95f1afe85c29acc"
       ],
       "cols": 12,
       "layout": null,
       "lg": null,
       "md": null,
       "offset": null,
       "offset_lg": null,
       "offset_md": null,
       "offset_sm": null,
       "offset_xl": null,
       "order": null,
       "order_lg": null,
       "order_md": null,
       "order_sm": null,
       "order_xl": null,
       "sm": null,
       "v_slots": [],
       "xl": null
      }
     },
     "9ef8a6a208d24fdb9c9def3488266c94": {
      "model_module": "jupyter-vuetify",
      "model_module_version": "^1.8.5",
      "model_name": "IconModel",
      "state": {
       "_events": [],
       "_jupyter_vue": "IPY_MODEL_e79ec6e61d7f49c681da793a8553ef1e",
       "attributes": {},
       "children": [
        "mdi-cloud-download-outline"
       ],
       "layout": null,
       "left": true,
       "size": null,
       "v_slots": []
      }
     },
     "a041a06919d94c308fbc6af09cfcf325": {
      "model_module": "@jupyter-widgets/controls",
      "model_module_version": "2.0.0",
      "model_name": "VBoxModel",
      "state": {
       "_view_count": 1,
       "children": [
        "IPY_MODEL_5e2f232794ce4b3db11580d74a73dc36"
       ],
       "layout": "IPY_MODEL_8a6ff605aa78433e9f3c1c8b21f74edd"
      }
     },
     "a4bd35b759a143b9a2fa210eaea10548": {
      "model_module": "jupyter-vuetify",
      "model_module_version": "^1.8.5",
      "model_name": "IconModel",
      "state": {
       "_events": [],
       "_jupyter_vue": "IPY_MODEL_e79ec6e61d7f49c681da793a8553ef1e",
       "attributes": {},
       "children": [
        "mdi-cloud-download-outline"
       ],
       "layout": null,
       "left": true,
       "size": null,
       "v_slots": []
      }
     },
     "a67bf774ac9f446bace0b23091e6fcfc": {
      "model_module": "@jupyter-widgets/controls",
      "model_module_version": "2.0.0",
      "model_name": "VBoxModel",
      "state": {
       "_view_count": 1,
       "children": [
        "IPY_MODEL_e3af77089c074d3dab2d3efc761a817f"
       ],
       "layout": "IPY_MODEL_2e1bc039f71b45f48cc7d2f12c28625e"
      }
     },
     "bb293335f96149409efcb6cfe6e17ce6": {
      "model_module": "jupyter-vuetify",
      "model_module_version": "^1.8.10",
      "model_name": "ThemeModel",
      "state": {
       "_model_module_version": "^1.8.10",
       "_view_module": null,
       "_view_module_version": "^1.8.10"
      }
     },
     "c62867a7526d4e64bffd33cd74da7abc": {
      "model_module": "@jupyter-widgets/base",
      "model_module_version": "2.0.0",
      "model_name": "LayoutModel",
      "state": {}
     },
     "c9fe88c3ce3a404d979b71ca9f9540e2": {
      "model_module": "jupyter-vuetify",
      "model_module_version": "^1.8.10",
      "model_name": "VuetifyTemplateModel",
      "state": {
       "_component_instances": [],
       "_jupyter_vue": "IPY_MODEL_e79ec6e61d7f49c681da793a8553ef1e",
       "_model_module_version": "^1.8.10",
       "_view_module_version": "^1.8.10",
       "bytes": null,
       "children": [
        "IPY_MODEL_7d71f589f3e84dbcadfcd3fea940281a"
       ],
       "components": null,
       "events": [],
       "filename": "7_all-metrics-Decentraland-precision@5.pdf",
       "layout": "IPY_MODEL_28b04a4133c2419b9caa32df1afe5881",
       "mime_type": "application/octet-stream",
       "request_download": false,
       "template": "IPY_MODEL_efaf49bde6ce4c72a34d989c8c91fb01"
      }
     },
     "cae046ed656a4c65aa7a96f4a0858216": {
      "model_module": "jupyter-vuetify",
      "model_module_version": "^1.8.5",
      "model_name": "BtnModel",
      "state": {
       "_events": [
        "click"
       ],
       "_jupyter_vue": "IPY_MODEL_e79ec6e61d7f49c681da793a8553ef1e",
       "attributes": {},
       "children": [
        "IPY_MODEL_a4bd35b759a143b9a2fa210eaea10548",
        "Download: 7_all-metrics-MetaCartel - MetaCartel Ventures-ndcg@10.pdf"
       ],
       "class_": "",
       "disabled": false,
       "elevation": null,
       "height": null,
       "href": null,
       "layout": null,
       "loading": false,
       "max_height": null,
       "max_width": null,
       "min_height": null,
       "min_width": null,
       "outlined": false,
       "ripple": null,
       "style_": "",
       "text": false,
       "to": null,
       "v_slots": [],
       "width": null
      }
     },
     "d377b920eb4f4c9c8639ddc19b8db6cd": {
      "model_module": "jupyter-vuetify",
      "model_module_version": "^1.8.5",
      "model_name": "ColModel",
      "state": {
       "_events": [],
       "_jupyter_vue": "IPY_MODEL_e79ec6e61d7f49c681da793a8553ef1e",
       "attributes": {},
       "children": [
        "IPY_MODEL_8ae78fb20cda43c5b909d25846a2b551"
       ],
       "cols": 12,
       "layout": null,
       "lg": null,
       "md": null,
       "offset": null,
       "offset_lg": null,
       "offset_md": null,
       "offset_sm": null,
       "offset_xl": null,
       "order": null,
       "order_lg": null,
       "order_md": null,
       "order_sm": null,
       "order_xl": null,
       "sm": null,
       "v_slots": [],
       "xl": null
      }
     },
     "d5bd22b49d874d21b214b335f5282521": {
      "model_module": "@jupyter-widgets/base",
      "model_module_version": "2.0.0",
      "model_name": "LayoutModel",
      "state": {}
     },
     "d7a11c3327054b4ea04b008b99b64bc4": {
      "model_module": "jupyter-vuetify",
      "model_module_version": "^1.8.10",
      "model_name": "VuetifyTemplateModel",
      "state": {
       "_component_instances": [],
       "_jupyter_vue": "IPY_MODEL_e79ec6e61d7f49c681da793a8553ef1e",
       "_model_module_version": "^1.8.10",
       "_view_module_version": "^1.8.10",
       "bytes": null,
       "children": [
        "IPY_MODEL_cae046ed656a4c65aa7a96f4a0858216"
       ],
       "components": null,
       "events": [],
       "filename": "7_all-metrics-MetaCartel - MetaCartel Ventures-ndcg@10.pdf",
       "layout": "IPY_MODEL_61b396e5ec7944aea94d992f8414b496",
       "mime_type": "application/octet-stream",
       "request_download": false,
       "template": "IPY_MODEL_efaf49bde6ce4c72a34d989c8c91fb01"
      }
     },
     "dae11463bd2f4ebdaf102ddbaea02bfe": {
      "model_module": "@jupyter-widgets/controls",
      "model_module_version": "2.0.0",
      "model_name": "VBoxModel",
      "state": {
       "_view_count": 1,
       "children": [
        "IPY_MODEL_fe0e17f05e9c4bc4b17c7a800b822b18"
       ],
       "layout": "IPY_MODEL_1c00142f79ee426799ca33e7766cf24a"
      }
     },
     "dccec8cf946449119c38a4d26a2c0cf1": {
      "model_module": "jupyter-vuetify",
      "model_module_version": "^1.8.5",
      "model_name": "RowModel",
      "state": {
       "_events": [],
       "_jupyter_vue": "IPY_MODEL_e79ec6e61d7f49c681da793a8553ef1e",
       "attributes": {},
       "children": [
        "IPY_MODEL_d377b920eb4f4c9c8639ddc19b8db6cd"
       ],
       "class_": "solara-content-main",
       "layout": null,
       "no_gutters": false,
       "v_slots": []
      }
     },
     "dd6ba724f3df431cac570a4aefc0d622": {
      "model_module": "jupyter-vuetify",
      "model_module_version": "^1.8.5",
      "model_name": "ColModel",
      "state": {
       "_events": [],
       "_jupyter_vue": "IPY_MODEL_e79ec6e61d7f49c681da793a8553ef1e",
       "attributes": {},
       "children": [
        "IPY_MODEL_53dee4183ee3498dba582160a1aa5dc4"
       ],
       "cols": 12,
       "layout": null,
       "lg": null,
       "md": null,
       "offset": null,
       "offset_lg": null,
       "offset_md": null,
       "offset_sm": null,
       "offset_xl": null,
       "order": null,
       "order_lg": null,
       "order_md": null,
       "order_sm": null,
       "order_xl": null,
       "sm": null,
       "v_slots": [],
       "xl": null
      }
     },
     "dffc59a4d6d0407e8bff989ada9b5240": {
      "model_module": "jupyter-vuetify",
      "model_module_version": "^1.8.10",
      "model_name": "HtmlModel",
      "state": {
       "_events": [],
       "_jupyter_vue": "IPY_MODEL_e79ec6e61d7f49c681da793a8553ef1e",
       "_model_module_version": "^1.8.10",
       "_view_module_version": "^1.8.10",
       "attributes": {},
       "children": [
        "IPY_MODEL_dccec8cf946449119c38a4d26a2c0cf1"
       ],
       "layout": null,
       "tag": "div",
       "v_slots": []
      }
     },
     "e1e141570fc24c7095a239b799af7092": {
      "model_module": "jupyter-vuetify",
      "model_module_version": "^1.8.10",
      "model_name": "HtmlModel",
      "state": {
       "_events": [],
       "_jupyter_vue": "IPY_MODEL_e79ec6e61d7f49c681da793a8553ef1e",
       "_model_module_version": "^1.8.10",
       "_view_module_version": "^1.8.10",
       "attributes": {},
       "children": [
        "IPY_MODEL_2902e30b29f345dfba9b90eaf6a7ac95"
       ],
       "layout": null,
       "tag": "div",
       "v_slots": []
      }
     },
     "e3af77089c074d3dab2d3efc761a817f": {
      "model_module": "jupyter-vuetify",
      "model_module_version": "^1.8.10",
      "model_name": "HtmlModel",
      "state": {
       "_events": [],
       "_jupyter_vue": "IPY_MODEL_e79ec6e61d7f49c681da793a8553ef1e",
       "_model_module_version": "^1.8.10",
       "_view_module_version": "^1.8.10",
       "attributes": {},
       "children": [
        "IPY_MODEL_0afbc6056a4d45058a4be830d6103a4b"
       ],
       "layout": null,
       "tag": "div",
       "v_slots": []
      }
     },
     "e6700535f2774ad2a093af68cc16807f": {
      "model_module": "jupyter-vuetify",
      "model_module_version": "^1.8.10",
      "model_name": "VuetifyTemplateModel",
      "state": {
       "_component_instances": [],
       "_jupyter_vue": "IPY_MODEL_e79ec6e61d7f49c681da793a8553ef1e",
       "_model_module_version": "^1.8.10",
       "_view_module_version": "^1.8.10",
       "bytes": null,
       "children": [
        "IPY_MODEL_ead033dc570c452abaa82e7d9bfbe0fd"
       ],
       "components": null,
       "events": [],
       "filename": "7_all-metrics-DEAD FoundationsDAO-ndcg@10.pdf",
       "layout": "IPY_MODEL_556861d9d3c245edb05712ce258c9179",
       "mime_type": "application/octet-stream",
       "request_download": false,
       "template": "IPY_MODEL_efaf49bde6ce4c72a34d989c8c91fb01"
      }
     },
     "e79ec6e61d7f49c681da793a8553ef1e": {
      "model_module": "jupyter-vue",
      "model_module_version": "^1.10.1",
      "model_name": "ForceLoadModel",
      "state": {
       "_model_module_version": "^1.10.1",
       "_view_module": null,
       "_view_module_version": "",
       "layout": "IPY_MODEL_0188cd7b21714729b8621c394572c203"
      }
     },
     "ead033dc570c452abaa82e7d9bfbe0fd": {
      "model_module": "jupyter-vuetify",
      "model_module_version": "^1.8.5",
      "model_name": "BtnModel",
      "state": {
       "_events": [
        "click"
       ],
       "_jupyter_vue": "IPY_MODEL_e79ec6e61d7f49c681da793a8553ef1e",
       "attributes": {},
       "children": [
        "IPY_MODEL_133b74a63b7341a6b41577eb210906f0",
        "Download: 7_all-metrics-DEAD FoundationsDAO-ndcg@10.pdf"
       ],
       "class_": "",
       "disabled": false,
       "elevation": null,
       "height": null,
       "href": null,
       "layout": null,
       "loading": false,
       "max_height": null,
       "max_width": null,
       "min_height": null,
       "min_width": null,
       "outlined": false,
       "ripple": null,
       "style_": "",
       "text": false,
       "to": null,
       "v_slots": [],
       "width": null
      }
     },
     "ebafe2fa47084126820c7ebf330fd022": {
      "model_module": "@jupyter-widgets/base",
      "model_module_version": "2.0.0",
      "model_name": "LayoutModel",
      "state": {}
     },
     "efaf49bde6ce4c72a34d989c8c91fb01": {
      "model_module": "jupyter-vue",
      "model_module_version": "^1.10.1",
      "model_name": "TemplateModel",
      "state": {
       "_model_module": "jupyter-vue",
       "_model_module_version": "^1.10.1",
       "_view_module": null,
       "_view_module_version": "",
       "template": "<template>\n    <div @click=\"request_download = true\" class=\"solara-file-download-container\">\n        <jupyter-widget v-for=\"child in children\" :key=\"child\" :widget=\"child\"></jupyter-widget>\n    </div>\n</template>\n\n<script>\nmodule.exports = {\n    watch: {\n        bytes(value) {\n            if (this.request_download) {\n                const a = document.createElement('a');\n                a.download = this.filename;\n                const blob = new Blob([this.bytes], { type: this.mime_type });\n                const blobUrl = window.URL.createObjectURL(blob);\n                a.href = blobUrl;\n                document.body.appendChild(a);\n                a.click();\n                document.body.removeChild(a);\n                setTimeout(() => {\n                    // Make sure we clean up\n                    window.URL.revokeObjectURL(blobUrl);\n                }, 1000);\n                this.request_download = false;\n            }\n        }\n    }\n}\n</script>\n\n<style id=\"solara-file-download\">\n.solara-file-download-container {\n    cursor: pointer;\n}\n</style>\n"
      }
     },
     "f51ab4c42770475fa57d88dd2d700653": {
      "model_module": "@jupyter-widgets/base",
      "model_module_version": "2.0.0",
      "model_name": "LayoutModel",
      "state": {}
     },
     "f6a850862a6948e1a145bbae2f020e9c": {
      "model_module": "@jupyter-widgets/controls",
      "model_module_version": "2.0.0",
      "model_name": "VBoxModel",
      "state": {
       "_view_count": 1,
       "children": [
        "IPY_MODEL_66d67cd8ad954d6ab94467ed20e35b24"
       ],
       "layout": "IPY_MODEL_66944664c07e4a1e946abfe6947ffd5d"
      }
     },
     "f8473c9a8e7246599a8d68473baf1268": {
      "model_module": "jupyter-vuetify",
      "model_module_version": "^1.8.5",
      "model_name": "ColModel",
      "state": {
       "_events": [],
       "_jupyter_vue": "IPY_MODEL_e79ec6e61d7f49c681da793a8553ef1e",
       "attributes": {},
       "children": [
        "IPY_MODEL_c9fe88c3ce3a404d979b71ca9f9540e2"
       ],
       "cols": 12,
       "layout": null,
       "lg": null,
       "md": null,
       "offset": null,
       "offset_lg": null,
       "offset_md": null,
       "offset_sm": null,
       "offset_xl": null,
       "order": null,
       "order_lg": null,
       "order_md": null,
       "order_sm": null,
       "order_xl": null,
       "sm": null,
       "v_slots": [],
       "xl": null
      }
     },
     "facd6526f670469398a356e3074d3d87": {
      "model_module": "jupyter-vuetify",
      "model_module_version": "^1.8.5",
      "model_name": "IconModel",
      "state": {
       "_events": [],
       "_jupyter_vue": "IPY_MODEL_e79ec6e61d7f49c681da793a8553ef1e",
       "attributes": {},
       "children": [
        "mdi-cloud-download-outline"
       ],
       "layout": null,
       "left": true,
       "size": null,
       "v_slots": []
      }
     },
     "fc291bacee5a436395cd421c1a25bdfd": {
      "model_module": "jupyter-vuetify",
      "model_module_version": "^1.8.5",
      "model_name": "BtnModel",
      "state": {
       "_events": [
        "click"
       ],
       "_jupyter_vue": "IPY_MODEL_e79ec6e61d7f49c681da793a8553ef1e",
       "attributes": {},
       "children": [
        "IPY_MODEL_8e9d8ea8d9cd432c91cae36e2ecbadc4",
        "Download: 7_all-metrics-MetaCartel - MetaCartel Ventures-precision@5.pdf"
       ],
       "class_": "",
       "disabled": false,
       "elevation": null,
       "height": null,
       "href": null,
       "layout": null,
       "loading": false,
       "max_height": null,
       "max_width": null,
       "min_height": null,
       "min_width": null,
       "outlined": false,
       "ripple": null,
       "style_": "",
       "text": false,
       "to": null,
       "v_slots": [],
       "width": null
      }
     },
     "fe0e17f05e9c4bc4b17c7a800b822b18": {
      "model_module": "jupyter-vuetify",
      "model_module_version": "^1.8.10",
      "model_name": "HtmlModel",
      "state": {
       "_events": [],
       "_jupyter_vue": "IPY_MODEL_e79ec6e61d7f49c681da793a8553ef1e",
       "_model_module_version": "^1.8.10",
       "_view_module_version": "^1.8.10",
       "attributes": {},
       "children": [
        "IPY_MODEL_532651cf62bd4fdca2a4b3b562c1f3ef"
       ],
       "layout": null,
       "tag": "div",
       "v_slots": []
      }
     },
     "feae3b8ac22f4775b0e36e5370d65aed": {
      "model_module": "@jupyter-widgets/controls",
      "model_module_version": "2.0.0",
      "model_name": "VBoxModel",
      "state": {
       "_view_count": 1,
       "children": [
        "IPY_MODEL_9076aea7ccf64e089da4945eb5cab9bb"
       ],
       "layout": "IPY_MODEL_ebafe2fa47084126820c7ebf330fd022"
      }
     }
    },
    "version_major": 2,
    "version_minor": 0
   }
  }
 },
 "nbformat": 4,
 "nbformat_minor": 5
}
