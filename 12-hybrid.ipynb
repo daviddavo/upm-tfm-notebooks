{
 "cells": [
  {
   "cell_type": "markdown",
   "id": "e573a972-a2ae-46e6-a1e8-8c49a93ec478",
   "metadata": {},
   "source": [
    "Vamos a hacer un _mixed_ recommendation system, en el que simplemente se hacen $k$ recomendaciones de cada uno, y se combinan las dos listas para obtener $k$ recomendaciones.\n",
    "\n",
    "- Si un item está en las dos listas, se escoge sí o sí (sin importar su posición en la lista)\n",
    "- Los huecos restantes se rellenan con un item de cada lista alternativamente\n",
    "\n",
    "Es decir, si R1 recomienda {A,B,C,D,E} y R2 recomienda {A,D,F,G,H,I}, el recomendador mixto recomendaría {A,D,B,F,C}. A y D se recomiendan porque están en ambas, y luego se recomendaría el restante de cada uno."
   ]
  },
  {
   "cell_type": "code",
   "execution_count": 2,
   "id": "08afbc6f-1298-474a-842a-04d23a8bd190",
   "metadata": {},
   "outputs": [],
   "source": [
    "class HybridRecommendation:\n",
    "    def __init__(self, train, test, *, lightgcn_hparams=None, nlp_hparams=None):\n",
    "        self.train = train\n",
    "        self.test = test\n",
    "        self.lightgcn = self._prepare_lightgcn(lightgcn_hparams)\n",
    "        self.nlp = self._prepare_nlp(nlp_hparams)\n",
    "\n",
    "    def _prepare_lightgcn(self, hparams):\n",
    "        dataloader = ImplicitCF(train=self.train, test=self.test, seed=SEED)\n",
    "        return LightGCNCustom(data=dataloader, hparams=hparams)\n",
    "\n",
    "    def _prepare_nlp(self, hparams):\n",
    "        return ...\n",
    "\n",
    "    def fit():\n",
    "        self.lightgcn.fit()\n",
    "        self.nlp.fit()\n",
    "    \n",
    "    def recommend_k_items(\n",
    "        self, test, top_k=10, sort_top_k=True, remove_seen=True, use_id=False, recommend_from=None,\n",
    "    ):\n",
    "        ..."
   ]
  }
 ],
 "metadata": {
  "kernelspec": {
   "display_name": "Python 3 (ipykernel)",
   "language": "python",
   "name": "python3"
  },
  "language_info": {
   "codemirror_mode": {
    "name": "ipython",
    "version": 3
   },
   "file_extension": ".py",
   "mimetype": "text/x-python",
   "name": "python",
   "nbconvert_exporter": "python",
   "pygments_lexer": "ipython3",
   "version": "3.9.18"
  },
  "widgets": {
   "application/vnd.jupyter.widget-state+json": {
    "state": {},
    "version_major": 2,
    "version_minor": 0
   }
  }
 },
 "nbformat": 4,
 "nbformat_minor": 5
}
