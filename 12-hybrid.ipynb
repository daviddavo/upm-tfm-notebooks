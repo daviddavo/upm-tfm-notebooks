{
 "cells": [
  {
   "cell_type": "markdown",
   "id": "e573a972-a2ae-46e6-a1e8-8c49a93ec478",
   "metadata": {},
   "source": [
    "Vamos a hacer un _mixed_ recommendation system, en el que simplemente se hacen $k$ recomendaciones de cada uno, y se combinan las dos listas para obtener $k$ recomendaciones.\n",
    "\n",
    "- Si un item está en las dos listas, se escoge sí o sí (sin importar su posición en la lista)\n",
    "- Los huecos restantes se rellenan con un item de cada lista alternativamente\n",
    "\n",
    "Es decir, si R1 recomienda {A,B,C,D,E} y R2 recomienda {A,D,F,G,H,I}, el recomendador mixto recomendaría {A,D,B,F,C}. A y D se recomiendan porque están en ambas, y luego se recomendaría el restante de cada uno."
   ]
  },
  {
   "cell_type": "code",
   "execution_count": 1,
   "id": "280f65da-f569-4c85-9b0a-c0e951640ded",
   "metadata": {
    "execution": {
     "iopub.execute_input": "2023-11-29T18:13:54.100047Z",
     "iopub.status.busy": "2023-11-29T18:13:54.099790Z",
     "iopub.status.idle": "2023-11-29T18:13:59.189392Z",
     "shell.execute_reply": "2023-11-29T18:13:59.188956Z",
     "shell.execute_reply.started": "2023-11-29T18:13:54.100029Z"
    },
    "scrolled": true
   },
   "outputs": [
    {
     "name": "stderr",
     "output_type": "stream",
     "text": [
      "2023-11-29 19:13:56.604277: E tensorflow/compiler/xla/stream_executor/cuda/cuda_dnn.cc:9342] Unable to register cuDNN factory: Attempting to register factory for plugin cuDNN when one has already been registered\n",
      "2023-11-29 19:13:56.604326: E tensorflow/compiler/xla/stream_executor/cuda/cuda_fft.cc:609] Unable to register cuFFT factory: Attempting to register factory for plugin cuFFT when one has already been registered\n",
      "2023-11-29 19:13:56.605219: E tensorflow/compiler/xla/stream_executor/cuda/cuda_blas.cc:1518] Unable to register cuBLAS factory: Attempting to register factory for plugin cuBLAS when one has already been registered\n"
     ]
    }
   ],
   "source": [
    "import pandas as pd\n",
    "import numpy as np\n",
    "\n",
    "from src.datasets import daocensus, to_microsoft\n",
    "from src.models.nlp import NLPModel, NLPSimilarity\n",
    "\n",
    "%load_ext autoreload\n",
    "%autoreload 2"
   ]
  },
  {
   "cell_type": "code",
   "execution_count": 2,
   "id": "1923bb75-434f-47f6-9845-9fb55eef6de7",
   "metadata": {
    "execution": {
     "iopub.execute_input": "2023-11-29T18:13:59.190652Z",
     "iopub.status.busy": "2023-11-29T18:13:59.190335Z",
     "iopub.status.idle": "2023-11-29T18:13:59.223180Z",
     "shell.execute_reply": "2023-11-29T18:13:59.222687Z",
     "shell.execute_reply.started": "2023-11-29T18:13:59.190635Z"
    }
   },
   "outputs": [],
   "source": [
    "ORG_NAME = 'Decentraland'\n",
    "SEED: int = 42"
   ]
  },
  {
   "cell_type": "markdown",
   "id": "6f045dfb-64f9-486b-908b-b50cf8815507",
   "metadata": {},
   "source": [
    "# Reading the dataset"
   ]
  },
  {
   "cell_type": "code",
   "execution_count": 3,
   "id": "3d6ea56b-6213-4b70-a3c2-652b56367e4a",
   "metadata": {
    "execution": {
     "iopub.execute_input": "2023-11-29T18:13:59.223911Z",
     "iopub.status.busy": "2023-11-29T18:13:59.223721Z",
     "iopub.status.idle": "2023-11-29T18:14:09.870961Z",
     "shell.execute_reply": "2023-11-29T18:14:09.870456Z",
     "shell.execute_reply.started": "2023-11-29T18:13:59.223896Z"
    }
   },
   "outputs": [
    {
     "name": "stdout",
     "output_type": "stream",
     "text": [
      "<class 'pandas.core.frame.DataFrame'>\n",
      "RangeIndex: 116560 entries, 0 to 116559\n",
      "Data columns (total 10 columns):\n",
      " #   Column         Non-Null Count   Dtype         \n",
      "---  ------         --------------   -----         \n",
      " 0   platform       116560 non-null  object        \n",
      " 1   name           116560 non-null  object        \n",
      " 2   id             116560 non-null  object        \n",
      " 3   proposal       116560 non-null  category      \n",
      " 4   deployment     116560 non-null  object        \n",
      " 5   platform_vote  116560 non-null  object        \n",
      " 6   voter          116560 non-null  object        \n",
      " 7   date           116560 non-null  datetime64[ns]\n",
      " 8   choice         116560 non-null  object        \n",
      " 9   weight         116560 non-null  float64       \n",
      "dtypes: category(1), datetime64[ns](1), float64(1), object(7)\n",
      "memory usage: 8.3+ MB\n",
      "None\n",
      "<class 'pandas.core.frame.DataFrame'>\n",
      "CategoricalIndex: 1942 entries, 1e570406-6963-530d-8f67-0a7686449f64 to 19a58960-27e4-54d2-b0ae-87e258c741c3\n",
      "Data columns (total 13 columns):\n",
      " #   Column               Non-Null Count  Dtype         \n",
      "---  ------               --------------  -----         \n",
      " 0   platform             1942 non-null   object        \n",
      " 1   name                 1942 non-null   object        \n",
      " 2   platform_deployment  1942 non-null   object        \n",
      " 3   deployment           1942 non-null   object        \n",
      " 4   platform_proposal    1942 non-null   object        \n",
      " 5   author               1942 non-null   category      \n",
      " 6   date                 1942 non-null   datetime64[ns]\n",
      " 7   votes_count          1942 non-null   int64         \n",
      " 8   proposal_id          1942 non-null   object        \n",
      " 9   title                1942 non-null   object        \n",
      " 10  description          1942 non-null   object        \n",
      " 11  start                1942 non-null   datetime64[ns]\n",
      " 12  end                  1942 non-null   datetime64[ns]\n",
      "dtypes: category(1), datetime64[ns](3), int64(1), object(8)\n",
      "memory usage: 584.2+ KB\n",
      "None\n"
     ]
    }
   ],
   "source": [
    "dfptext = pd.read_csv('./snapshot_proposals.csv')[['proposal_id', 'title', 'description', 'start', 'end']]\n",
    "dfv, dfp = daocensus.get(\"./data/daos-census\", ORG_NAME, 'snapshot')\n",
    "dfv['voter'] = dfv['voter'].astype('str')\n",
    "dfp = dfp.merge(dfptext, how='left', left_on='platform_proposal', right_on='proposal_id')\n",
    "dfp[['start', 'end']] = dfp[['start', 'end']].astype('datetime64')\n",
    "dfp = dfp.set_index('id')\n",
    "print(dfv.info())\n",
    "print(dfp.info())"
   ]
  },
  {
   "cell_type": "code",
   "execution_count": 4,
   "id": "22d6ad0f-f3ca-4969-95c1-d0130e47a6d5",
   "metadata": {
    "execution": {
     "iopub.execute_input": "2023-11-29T18:14:09.871861Z",
     "iopub.status.busy": "2023-11-29T18:14:09.871628Z",
     "iopub.status.idle": "2023-11-29T18:14:10.167980Z",
     "shell.execute_reply": "2023-11-29T18:14:10.167542Z",
     "shell.execute_reply.started": "2023-11-29T18:14:09.871838Z"
    },
    "scrolled": true
   },
   "outputs": [
    {
     "data": {
      "text/html": [
       "<div>\n",
       "<style scoped>\n",
       "    .dataframe tbody tr th:only-of-type {\n",
       "        vertical-align: middle;\n",
       "    }\n",
       "\n",
       "    .dataframe tbody tr th {\n",
       "        vertical-align: top;\n",
       "    }\n",
       "\n",
       "    .dataframe thead th {\n",
       "        text-align: right;\n",
       "    }\n",
       "</style>\n",
       "<table border=\"1\" class=\"dataframe\">\n",
       "  <thead>\n",
       "    <tr style=\"text-align: right;\">\n",
       "      <th></th>\n",
       "      <th>userID</th>\n",
       "      <th>itemID</th>\n",
       "      <th>timestamp</th>\n",
       "      <th>rating</th>\n",
       "    </tr>\n",
       "  </thead>\n",
       "  <tbody>\n",
       "    <tr>\n",
       "      <th>7634</th>\n",
       "      <td>0x30b1f4bd5476906f38385b891f2c09973196b742</td>\n",
       "      <td>bc3ec30e-b7f7-5de5-aa8e-8acf9d430887</td>\n",
       "      <td>2021-05-31 14:01:44</td>\n",
       "      <td>1</td>\n",
       "    </tr>\n",
       "    <tr>\n",
       "      <th>7635</th>\n",
       "      <td>0x29d5cea7d511810f3ff754886b898fce16a6d8fd</td>\n",
       "      <td>bc3ec30e-b7f7-5de5-aa8e-8acf9d430887</td>\n",
       "      <td>2021-05-31 06:08:00</td>\n",
       "      <td>1</td>\n",
       "    </tr>\n",
       "    <tr>\n",
       "      <th>7636</th>\n",
       "      <td>0x361b9fbf20ed8de4b62cd5b0ccdf36face38bdc4</td>\n",
       "      <td>bc3ec30e-b7f7-5de5-aa8e-8acf9d430887</td>\n",
       "      <td>2021-05-30 11:35:12</td>\n",
       "      <td>1</td>\n",
       "    </tr>\n",
       "    <tr>\n",
       "      <th>7637</th>\n",
       "      <td>0xd4a08cf067c83d1b2cc1d26831569b7850804be7</td>\n",
       "      <td>bc3ec30e-b7f7-5de5-aa8e-8acf9d430887</td>\n",
       "      <td>2021-05-30 09:35:44</td>\n",
       "      <td>1</td>\n",
       "    </tr>\n",
       "    <tr>\n",
       "      <th>7638</th>\n",
       "      <td>0x4d29b7f953ba471fb650fc5842127b05e35949b5</td>\n",
       "      <td>bc3ec30e-b7f7-5de5-aa8e-8acf9d430887</td>\n",
       "      <td>2021-05-30 08:26:26</td>\n",
       "      <td>1</td>\n",
       "    </tr>\n",
       "    <tr>\n",
       "      <th>...</th>\n",
       "      <td>...</td>\n",
       "      <td>...</td>\n",
       "      <td>...</td>\n",
       "      <td>...</td>\n",
       "    </tr>\n",
       "    <tr>\n",
       "      <th>108180</th>\n",
       "      <td>0xe2b6024873d218b2e83b462d3658d8d7c3f55a18</td>\n",
       "      <td>954eac50-670b-5b29-b2a9-f97bfbfab26b</td>\n",
       "      <td>2021-05-24 17:40:40</td>\n",
       "      <td>1</td>\n",
       "    </tr>\n",
       "    <tr>\n",
       "      <th>108181</th>\n",
       "      <td>0xd210dc1dd26751503cbf1b8c9154224707820da8</td>\n",
       "      <td>954eac50-670b-5b29-b2a9-f97bfbfab26b</td>\n",
       "      <td>2021-05-24 17:37:43</td>\n",
       "      <td>1</td>\n",
       "    </tr>\n",
       "    <tr>\n",
       "      <th>108182</th>\n",
       "      <td>0x9982b469910c2ee2ea566dcfcc250cdd34056397</td>\n",
       "      <td>954eac50-670b-5b29-b2a9-f97bfbfab26b</td>\n",
       "      <td>2021-05-24 17:05:54</td>\n",
       "      <td>1</td>\n",
       "    </tr>\n",
       "    <tr>\n",
       "      <th>110957</th>\n",
       "      <td>0xd210dc1dd26751503cbf1b8c9154224707820da8</td>\n",
       "      <td>91b9847d-4873-5ca7-b997-72f668c27a98</td>\n",
       "      <td>2021-05-31 00:43:58</td>\n",
       "      <td>1</td>\n",
       "    </tr>\n",
       "    <tr>\n",
       "      <th>110958</th>\n",
       "      <td>0xd2d950cea649feef4d6111c18adbd9a37b3a9f63</td>\n",
       "      <td>91b9847d-4873-5ca7-b997-72f668c27a98</td>\n",
       "      <td>2021-05-30 16:07:11</td>\n",
       "      <td>1</td>\n",
       "    </tr>\n",
       "  </tbody>\n",
       "</table>\n",
       "<p>713 rows × 4 columns</p>\n",
       "</div>"
      ],
      "text/plain": [
       "                                            userID  \\\n",
       "7634    0x30b1f4bd5476906f38385b891f2c09973196b742   \n",
       "7635    0x29d5cea7d511810f3ff754886b898fce16a6d8fd   \n",
       "7636    0x361b9fbf20ed8de4b62cd5b0ccdf36face38bdc4   \n",
       "7637    0xd4a08cf067c83d1b2cc1d26831569b7850804be7   \n",
       "7638    0x4d29b7f953ba471fb650fc5842127b05e35949b5   \n",
       "...                                            ...   \n",
       "108180  0xe2b6024873d218b2e83b462d3658d8d7c3f55a18   \n",
       "108181  0xd210dc1dd26751503cbf1b8c9154224707820da8   \n",
       "108182  0x9982b469910c2ee2ea566dcfcc250cdd34056397   \n",
       "110957  0xd210dc1dd26751503cbf1b8c9154224707820da8   \n",
       "110958  0xd2d950cea649feef4d6111c18adbd9a37b3a9f63   \n",
       "\n",
       "                                      itemID           timestamp  rating  \n",
       "7634    bc3ec30e-b7f7-5de5-aa8e-8acf9d430887 2021-05-31 14:01:44       1  \n",
       "7635    bc3ec30e-b7f7-5de5-aa8e-8acf9d430887 2021-05-31 06:08:00       1  \n",
       "7636    bc3ec30e-b7f7-5de5-aa8e-8acf9d430887 2021-05-30 11:35:12       1  \n",
       "7637    bc3ec30e-b7f7-5de5-aa8e-8acf9d430887 2021-05-30 09:35:44       1  \n",
       "7638    bc3ec30e-b7f7-5de5-aa8e-8acf9d430887 2021-05-30 08:26:26       1  \n",
       "...                                      ...                 ...     ...  \n",
       "108180  954eac50-670b-5b29-b2a9-f97bfbfab26b 2021-05-24 17:40:40       1  \n",
       "108181  954eac50-670b-5b29-b2a9-f97bfbfab26b 2021-05-24 17:37:43       1  \n",
       "108182  954eac50-670b-5b29-b2a9-f97bfbfab26b 2021-05-24 17:05:54       1  \n",
       "110957  91b9847d-4873-5ca7-b997-72f668c27a98 2021-05-31 00:43:58       1  \n",
       "110958  91b9847d-4873-5ca7-b997-72f668c27a98 2021-05-30 16:07:11       1  \n",
       "\n",
       "[713 rows x 4 columns]"
      ]
     },
     "execution_count": 4,
     "metadata": {},
     "output_type": "execute_result"
    }
   ],
   "source": [
    "from src.model_selection import timeFreqSplitCurrent\n",
    "\n",
    "df = to_microsoft(dfv)\n",
    "folds = list(timeFreqSplitCurrent(df, '1M', dfp.reset_index(), return_open=True, remove_not_in_train_col='userID'))\n",
    "f = folds[0][0]\n",
    "f"
   ]
  },
  {
   "cell_type": "markdown",
   "id": "1d6fb888-d335-4a01-81e3-56722221f91a",
   "metadata": {},
   "source": [
    "# Creating the model"
   ]
  },
  {
   "cell_type": "code",
   "execution_count": 30,
   "id": "08afbc6f-1298-474a-842a-04d23a8bd190",
   "metadata": {
    "execution": {
     "iopub.execute_input": "2023-11-29T18:28:46.910888Z",
     "iopub.status.busy": "2023-11-29T18:28:46.910348Z",
     "iopub.status.idle": "2023-11-29T18:28:48.327340Z",
     "shell.execute_reply": "2023-11-29T18:28:48.326692Z",
     "shell.execute_reply.started": "2023-11-29T18:28:46.910840Z"
    }
   },
   "outputs": [
    {
     "name": "stderr",
     "output_type": "stream",
     "text": [
      "/home/davo/Documents/MUIA/upm-tfm-notebooks/.direnv/python-3.9/lib/python3.9/site-packages/recommenders/models/deeprec/DataModel/ImplicitCF.py:73: FutureWarning: The frame.append method is deprecated and will be removed from pandas in a future version. Use pandas.concat instead.\n",
      "  df = train if test is None else train.append(test)\n"
     ]
    },
    {
     "name": "stdout",
     "output_type": "stream",
     "text": [
      "Already create adjacency matrix.\n",
      "Already normalize adjacency matrix.\n",
      "Using xavier initialization.\n"
     ]
    },
    {
     "data": {
      "text/plain": [
       "<src.models.hybrid.HybridRecommendation at 0x7f2fc4561040>"
      ]
     },
     "execution_count": 30,
     "metadata": {},
     "output_type": "execute_result"
    }
   ],
   "source": [
    "from src.models.hybrid import HybridRecommendation\n",
    "\n",
    "lightgcn_config = dict(\n",
    "    n_layers=3,\n",
    "    batch_size=512,\n",
    "    embed_size=64,\n",
    "    epochs=2,\n",
    "    learning_rate=0.001,\n",
    "    decay=0.00001,\n",
    "    metrics=[],\n",
    "    eval_epoch=2,\n",
    "    top_k=5,\n",
    "    save_model=False,\n",
    "    MODEL_DIR='',\n",
    "    cf_seed=SEED,\n",
    ")\n",
    "\n",
    "nlp_config = dict(\n",
    "    filter_window='12M',\n",
    ")\n",
    "\n",
    "hr = HybridRecommendation(folds[0][0], folds[0][1], dfp, lightgcn_config=lightgcn_config, nlp_config=nlp_config)\n",
    "hr"
   ]
  },
  {
   "cell_type": "code",
   "execution_count": 19,
   "id": "7a44dd04-78de-4fe8-b42a-5bb79c17d2b2",
   "metadata": {
    "execution": {
     "iopub.execute_input": "2023-11-29T18:25:03.837982Z",
     "iopub.status.busy": "2023-11-29T18:25:03.837596Z",
     "iopub.status.idle": "2023-11-29T18:25:03.980885Z",
     "shell.execute_reply": "2023-11-29T18:25:03.980443Z",
     "shell.execute_reply.started": "2023-11-29T18:25:03.837954Z"
    }
   },
   "outputs": [
    {
     "name": "stdout",
     "output_type": "stream",
     "text": [
      "Epoch 1 (train)0.1s: train loss = 0.68022 = (mf)0.68021 + (embed)0.00002\n",
      "Epoch 2 (train)0.0s + (eval)0.0s: train loss = 0.67887 = (mf)0.67885 + (embed)0.00002, \n",
      "All embeddings are already calculated\n"
     ]
    }
   ],
   "source": [
    "hr.fit()"
   ]
  },
  {
   "cell_type": "code",
   "execution_count": 20,
   "id": "d2446ccd-f4e7-426d-9c1e-6e503f0fda10",
   "metadata": {
    "execution": {
     "iopub.execute_input": "2023-11-29T18:25:03.981703Z",
     "iopub.status.busy": "2023-11-29T18:25:03.981500Z",
     "iopub.status.idle": "2023-11-29T18:25:04.068197Z",
     "shell.execute_reply": "2023-11-29T18:25:04.067582Z",
     "shell.execute_reply.started": "2023-11-29T18:25:03.981681Z"
    }
   },
   "outputs": [
    {
     "data": {
      "text/html": [
       "<div>\n",
       "<style scoped>\n",
       "    .dataframe tbody tr th:only-of-type {\n",
       "        vertical-align: middle;\n",
       "    }\n",
       "\n",
       "    .dataframe tbody tr th {\n",
       "        vertical-align: top;\n",
       "    }\n",
       "\n",
       "    .dataframe thead th {\n",
       "        text-align: right;\n",
       "    }\n",
       "</style>\n",
       "<table border=\"1\" class=\"dataframe\">\n",
       "  <thead>\n",
       "    <tr style=\"text-align: right;\">\n",
       "      <th></th>\n",
       "      <th>userID</th>\n",
       "      <th>itemID</th>\n",
       "      <th>prediction</th>\n",
       "      <th>rec</th>\n",
       "    </tr>\n",
       "  </thead>\n",
       "  <tbody>\n",
       "    <tr>\n",
       "      <th>0</th>\n",
       "      <td>0x29d5cea7d511810f3ff754886b898fce16a6d8fd</td>\n",
       "      <td>8a1ceac1-bde7-5953-8810-9d92f14bc767</td>\n",
       "      <td>2.167689</td>\n",
       "      <td>nlp</td>\n",
       "    </tr>\n",
       "    <tr>\n",
       "      <th>1</th>\n",
       "      <td>0x29d5cea7d511810f3ff754886b898fce16a6d8fd</td>\n",
       "      <td>2a032d97-1c20-5307-af60-a2a43f1b1215</td>\n",
       "      <td>0.018846</td>\n",
       "      <td>gnn</td>\n",
       "    </tr>\n",
       "    <tr>\n",
       "      <th>2</th>\n",
       "      <td>0x29d5cea7d511810f3ff754886b898fce16a6d8fd</td>\n",
       "      <td>12e24fcd-65a0-5065-b2f0-7907d54b32a9</td>\n",
       "      <td>2.147544</td>\n",
       "      <td>nlp</td>\n",
       "    </tr>\n",
       "    <tr>\n",
       "      <th>3</th>\n",
       "      <td>0x29d5cea7d511810f3ff754886b898fce16a6d8fd</td>\n",
       "      <td>325bd14a-ef4c-5168-89b8-bf23aabd6d77</td>\n",
       "      <td>0.017913</td>\n",
       "      <td>gnn</td>\n",
       "    </tr>\n",
       "    <tr>\n",
       "      <th>4</th>\n",
       "      <td>0x29d5cea7d511810f3ff754886b898fce16a6d8fd</td>\n",
       "      <td>eb1556de-de48-5830-98ea-9f44f63e5fdd</td>\n",
       "      <td>2.141963</td>\n",
       "      <td>nlp</td>\n",
       "    </tr>\n",
       "    <tr>\n",
       "      <th>5</th>\n",
       "      <td>0x30b1f4bd5476906f38385b891f2c09973196b742</td>\n",
       "      <td>0a179f47-918b-5116-a453-bba13ecc477f</td>\n",
       "      <td>10.449469</td>\n",
       "      <td>nlp</td>\n",
       "    </tr>\n",
       "    <tr>\n",
       "      <th>6</th>\n",
       "      <td>0x30b1f4bd5476906f38385b891f2c09973196b742</td>\n",
       "      <td>e0367d20-22bc-5967-ad36-beb91a7d6525</td>\n",
       "      <td>0.018970</td>\n",
       "      <td>gnn</td>\n",
       "    </tr>\n",
       "    <tr>\n",
       "      <th>7</th>\n",
       "      <td>0x30b1f4bd5476906f38385b891f2c09973196b742</td>\n",
       "      <td>1c4da6f2-8c41-5850-9f8d-95d55da14651</td>\n",
       "      <td>10.322516</td>\n",
       "      <td>nlp</td>\n",
       "    </tr>\n",
       "    <tr>\n",
       "      <th>8</th>\n",
       "      <td>0x30b1f4bd5476906f38385b891f2c09973196b742</td>\n",
       "      <td>8bc92601-5cd5-5a1f-94c7-e0ede6574b4b</td>\n",
       "      <td>0.018682</td>\n",
       "      <td>gnn</td>\n",
       "    </tr>\n",
       "    <tr>\n",
       "      <th>9</th>\n",
       "      <td>0x30b1f4bd5476906f38385b891f2c09973196b742</td>\n",
       "      <td>afd31758-ab40-59cc-9c51-b3b9b31a541f</td>\n",
       "      <td>10.308725</td>\n",
       "      <td>nlp</td>\n",
       "    </tr>\n",
       "  </tbody>\n",
       "</table>\n",
       "</div>"
      ],
      "text/plain": [
       "                                       userID  \\\n",
       "0  0x29d5cea7d511810f3ff754886b898fce16a6d8fd   \n",
       "1  0x29d5cea7d511810f3ff754886b898fce16a6d8fd   \n",
       "2  0x29d5cea7d511810f3ff754886b898fce16a6d8fd   \n",
       "3  0x29d5cea7d511810f3ff754886b898fce16a6d8fd   \n",
       "4  0x29d5cea7d511810f3ff754886b898fce16a6d8fd   \n",
       "5  0x30b1f4bd5476906f38385b891f2c09973196b742   \n",
       "6  0x30b1f4bd5476906f38385b891f2c09973196b742   \n",
       "7  0x30b1f4bd5476906f38385b891f2c09973196b742   \n",
       "8  0x30b1f4bd5476906f38385b891f2c09973196b742   \n",
       "9  0x30b1f4bd5476906f38385b891f2c09973196b742   \n",
       "\n",
       "                                 itemID  prediction  rec  \n",
       "0  8a1ceac1-bde7-5953-8810-9d92f14bc767    2.167689  nlp  \n",
       "1  2a032d97-1c20-5307-af60-a2a43f1b1215    0.018846  gnn  \n",
       "2  12e24fcd-65a0-5065-b2f0-7907d54b32a9    2.147544  nlp  \n",
       "3  325bd14a-ef4c-5168-89b8-bf23aabd6d77    0.017913  gnn  \n",
       "4  eb1556de-de48-5830-98ea-9f44f63e5fdd    2.141963  nlp  \n",
       "5  0a179f47-918b-5116-a453-bba13ecc477f   10.449469  nlp  \n",
       "6  e0367d20-22bc-5967-ad36-beb91a7d6525    0.018970  gnn  \n",
       "7  1c4da6f2-8c41-5850-9f8d-95d55da14651   10.322516  nlp  \n",
       "8  8bc92601-5cd5-5a1f-94c7-e0ede6574b4b    0.018682  gnn  \n",
       "9  afd31758-ab40-59cc-9c51-b3b9b31a541f   10.308725  nlp  "
      ]
     },
     "execution_count": 20,
     "metadata": {},
     "output_type": "execute_result"
    }
   ],
   "source": [
    "hr.recommend_k_items(['0x29d5cea7d511810f3ff754886b898fce16a6d8fd', '0x30b1f4bd5476906f38385b891f2c09973196b742'], top_k=3)"
   ]
  },
  {
   "cell_type": "markdown",
   "id": "e1f45398-bbe2-4597-9cbe-aaa0cd5856c0",
   "metadata": {},
   "source": [
    "# Tuning the model"
   ]
  },
  {
   "cell_type": "code",
   "execution_count": null,
   "id": "5e81caa5-6841-4c31-b697-64d94fa7b991",
   "metadata": {},
   "outputs": [],
   "source": [
    "class TrainerHybrid(tune.Trainable):\n",
    "    def setup(\n",
    "        self,\n",
    "        config,\n",
    "        data,\n",
    "    ):\n",
    "        self.config = config\n",
    "\n",
    "        train, test, self.t, self.open_proposals = data\n",
    "\n",
    "    "
   ]
  }
 ],
 "metadata": {
  "kernelspec": {
   "display_name": "Python 3 (ipykernel)",
   "language": "python",
   "name": "python3"
  },
  "language_info": {
   "codemirror_mode": {
    "name": "ipython",
    "version": 3
   },
   "file_extension": ".py",
   "mimetype": "text/x-python",
   "name": "python",
   "nbconvert_exporter": "python",
   "pygments_lexer": "ipython3",
   "version": "3.9.18"
  },
  "widgets": {
   "application/vnd.jupyter.widget-state+json": {
    "state": {},
    "version_major": 2,
    "version_minor": 0
   }
  }
 },
 "nbformat": 4,
 "nbformat_minor": 5
}
