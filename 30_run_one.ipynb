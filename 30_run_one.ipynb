{
 "cells": [
  {
   "cell_type": "code",
   "execution_count": 1,
   "id": "dc7786d9-d6d8-4795-944d-bb0aec99e1a3",
   "metadata": {
    "editable": true,
    "slideshow": {
     "slide_type": ""
    },
    "tags": []
   },
   "outputs": [],
   "source": [
    "from pathlib import Path\n",
    "from IPython.display import Markdown\n",
    "import re\n",
    "\n",
    "import papermill as pm\n",
    "\n",
    "from src import paths"
   ]
  },
  {
   "cell_type": "code",
   "execution_count": 2,
   "id": "4ad146e0-81ac-449b-98cf-5a73dc25b09a",
   "metadata": {
    "editable": true,
    "slideshow": {
     "slide_type": ""
    },
    "tags": [
     "parameters"
    ]
   },
   "outputs": [],
   "source": [
    "ORG_NAME = 'Decentraland'\n",
    "ORG_PLATFORM = 'snapshot'\n",
    "SPLITS_FREQ: str = 'W-THU' # split weekly\n",
    "SPLITS_NORMALIZE = True # Wether or not to move everything to 00:00\n",
    "LAST_SPLITS = 10 # Use just last 10 splits"
   ]
  },
  {
   "cell_type": "code",
   "execution_count": 3,
   "id": "cfac4b5c-ec42-4f16-9ba7-318f6a3480cc",
   "metadata": {
    "editable": true,
    "slideshow": {
     "slide_type": ""
    },
    "tags": []
   },
   "outputs": [
    {
     "data": {
      "text/markdown": [
       "```mermaid\n",
       "graph LR\n",
       "10_baseline --> 20_results\n",
       "\n",
       "10_baseline --> 11_pln-tune -.-> 12_hybrid\n",
       "07_microsoft_tuning --> 09_analyze_results --> 12_hybrid\n",
       "12_hybrid --> 20_results\n",
       "10_baseline --> 09_analyze_results\n",
       "```"
      ],
      "text/plain": [
       "<IPython.core.display.Markdown object>"
      ]
     },
     "execution_count": 3,
     "metadata": {},
     "output_type": "execute_result"
    }
   ],
   "source": [
    "# Display the diagram from the README.md\n",
    "\n",
    "README = Path('./README.md')\n",
    "\n",
    "with open(README, 'r') as f:\n",
    "    diagrams = re.findall(r'```mermaid[\\s\\S]*```', f.read())\n",
    "\n",
    "Markdown(\"\\n\".join(diagrams))"
   ]
  },
  {
   "cell_type": "markdown",
   "id": "aa7c0382-7d7e-45bb-bb72-a6d0d52a6b54",
   "metadata": {
    "editable": true,
    "slideshow": {
     "slide_type": ""
    },
    "tags": []
   },
   "source": [
    "## Define some common things"
   ]
  },
  {
   "cell_type": "code",
   "execution_count": 27,
   "id": "bea30b95-7f15-49c6-a0e4-951b2b60e26e",
   "metadata": {
    "editable": true,
    "slideshow": {
     "slide_type": ""
    },
    "tags": []
   },
   "outputs": [],
   "source": [
    "def run_notebook(name):\n",
    "    assert Path(name).exists(), f\"No existe el fichero {name}\"\n",
    "    \n",
    "    outpath = Path(f'./nbout/{ORG_NAME}')\n",
    "    outpath.mkdir(parents=True, exist_ok=True)\n",
    "\n",
    "    params = pm.inspect_notebook(name)\n",
    "    for p in ['ORG_NAME', 'ORG_PLATFORM', 'SPLITS_FREQ', 'SPLITS_NORMALIZE', 'LAST_SPLITS']:\n",
    "        assert p in params, f'{p} is not in notebook params'\n",
    "    \n",
    "    return pm.execute_notebook(\n",
    "        name, \n",
    "        outpath/name,\n",
    "        autosave_cell_every=60,\n",
    "        parameters=dict(\n",
    "            ORG_NAME = ORG_NAME,\n",
    "            ORG_PLATFORM = ORG_PLATFORM,\n",
    "            SPLITS_FREQ = SPLITS_FREQ,\n",
    "            SPLITS_NORMALIZE = SPLITS_NORMALIZE,\n",
    "            LAST_SPLITS = LAST_SPLITS,\n",
    "        ),\n",
    "    )\n",
    "\n",
    "# run_notebook('11_pln-tune.ipynb', 'snapshot', 'Decentraland')"
   ]
  },
  {
   "cell_type": "code",
   "execution_count": 17,
   "id": "f30ef62e-ce8c-4caf-9e1e-ac40c2383068",
   "metadata": {
    "editable": true,
    "slideshow": {
     "slide_type": ""
    },
    "tags": []
   },
   "outputs": [
    {
     "data": {
      "text/plain": [
       "{'name': 'MDF_FILE',\n",
       " 'inferred_type_name': 'None',\n",
       " 'default': 'paths.pln_mdf(ORG_NAME, SPLITS_FREQ, SPLITS_NORMALIZE)',\n",
       " 'help': ''}"
      ]
     },
     "execution_count": 17,
     "metadata": {},
     "output_type": "execute_result"
    }
   ],
   "source": [
    "pm.inspect_notebook('11_pln-tune.ipynb')['MDF_FILE']"
   ]
  },
  {
   "cell_type": "markdown",
   "id": "8aef0f68-2a8c-4896-ba90-728060074715",
   "metadata": {
    "editable": true,
    "slideshow": {
     "slide_type": ""
    },
    "tags": []
   },
   "source": [
    "## Run baseline"
   ]
  },
  {
   "cell_type": "code",
   "execution_count": 18,
   "id": "abc14ace-3f95-4392-b6c2-9d0f125974de",
   "metadata": {
    "editable": true,
    "slideshow": {
     "slide_type": ""
    },
    "tags": []
   },
   "outputs": [
    {
     "data": {
      "application/vnd.jupyter.widget-view+json": {
       "model_id": "72f883eb6b74463687aa81ea17c628e4",
       "version_major": 2,
       "version_minor": 0
      },
      "text/plain": [
       "Executing:   0%|          | 0/47 [00:00<?, ?cell/s]"
      ]
     },
     "metadata": {},
     "output_type": "display_data"
    }
   ],
   "source": [
    "#papermill_description=Baseline\n",
    "run_notebook('10_baseline_mp.ipynb')"
   ]
  },
  {
   "cell_type": "markdown",
   "id": "78d51e15-69d2-41f8-bb9c-0cd18a288b3a",
   "metadata": {
    "editable": true,
    "slideshow": {
     "slide_type": ""
    },
    "tags": []
   },
   "source": [
    "## Run pln_tune"
   ]
  },
  {
   "cell_type": "code",
   "execution_count": 19,
   "id": "7372d911-aec8-41ae-bd91-8ede877c9a37",
   "metadata": {
    "editable": true,
    "slideshow": {
     "slide_type": ""
    },
    "tags": []
   },
   "outputs": [
    {
     "data": {
      "application/vnd.jupyter.widget-view+json": {
       "model_id": "ef6f52ba672446aab7f04ff902b3111e",
       "version_major": 2,
       "version_minor": 0
      },
      "text/plain": [
       "Executing:   0%|          | 0/59 [00:00<?, ?cell/s]"
      ]
     },
     "metadata": {},
     "output_type": "display_data"
    },
    {
     "name": "stderr",
     "output_type": "stream",
     "text": [
      "2024-02-28 11:02:00.147035: E tensorflow/compiler/xla/stream_executor/cuda/cuda_dnn.cc:9342] Unable to register cuDNN factory: Attempting to register factory for plugin cuDNN when one has already been registered\n",
      "2024-02-28 11:02:00.147057: E tensorflow/compiler/xla/stream_executor/cuda/cuda_fft.cc:609] Unable to register cuFFT factory: Attempting to register factory for plugin cuFFT when one has already been registered\n",
      "2024-02-28 11:02:00.147074: E tensorflow/compiler/xla/stream_executor/cuda/cuda_blas.cc:1518] Unable to register cuBLAS factory: Attempting to register factory for plugin cuBLAS when one has already been registered\n"
     ]
    }
   ],
   "source": [
    "#papermill_description=pln_tune\n",
    "# if paths.pln_mdf(ORG_NAME, SPLITS_FREQ, SPLITS_NORMALIZE).exists():\n",
    "#     print(f\"Skipping {ORG_NAME} because it has been done\")    \n",
    "run_notebook('11_pln-tune.ipynb')"
   ]
  },
  {
   "cell_type": "markdown",
   "id": "3c84bcf4-17c0-4282-8bd0-28aa9e997bbd",
   "metadata": {
    "editable": true,
    "slideshow": {
     "slide_type": ""
    },
    "tags": []
   },
   "source": [
    "## Run microsoft_tuning"
   ]
  },
  {
   "cell_type": "code",
   "execution_count": 8,
   "id": "ca56c9f7-d77d-4741-8064-13efe089b0de",
   "metadata": {
    "editable": true,
    "slideshow": {
     "slide_type": ""
    },
    "tags": []
   },
   "outputs": [
    {
     "data": {
      "application/vnd.jupyter.widget-view+json": {
       "model_id": "b5207429c39948189b6d7d9ed166dc39",
       "version_major": 2,
       "version_minor": 0
      },
      "text/plain": [
       "Executing:   0%|          | 0/26 [00:00<?, ?cell/s]"
      ]
     },
     "metadata": {},
     "output_type": "display_data"
    },
    {
     "name": "stderr",
     "output_type": "stream",
     "text": [
      "2024-02-28 10:46:36.367498: E tensorflow/compiler/xla/stream_executor/cuda/cuda_dnn.cc:9342] Unable to register cuDNN factory: Attempting to register factory for plugin cuDNN when one has already been registered\n",
      "2024-02-28 10:46:36.367521: E tensorflow/compiler/xla/stream_executor/cuda/cuda_fft.cc:609] Unable to register cuFFT factory: Attempting to register factory for plugin cuFFT when one has already been registered\n",
      "2024-02-28 10:46:36.367537: E tensorflow/compiler/xla/stream_executor/cuda/cuda_blas.cc:1518] Unable to register cuBLAS factory: Attempting to register factory for plugin cuBLAS when one has already been registered\n",
      "*** SIGTERM received at time=1709117220 on cpu 16 ***\n",
      "PC: @     0x7f1b01216e2e  (unknown)  epoll_wait\n",
      "    @     0x7f1b01133520  1013368720  (unknown)\n",
      "    @     0x7f1b00d3922c  (unknown)  (unknown)\n",
      "[2024-02-28 10:47:00,347 E 95718 95718] logging.cc:361: *** SIGTERM received at time=1709117220 on cpu 16 ***\n",
      "[2024-02-28 10:47:00,347 E 95718 95718] logging.cc:361: PC: @     0x7f1b01216e2e  (unknown)  epoll_wait\n",
      "[2024-02-28 10:47:00,349 E 95718 95718] logging.cc:361:     @     0x7f1b01133520  1013368720  (unknown)\n",
      "[2024-02-28 10:47:00,350 E 95718 95718] logging.cc:361:     @     0x7f1b00d3922c  (unknown)  (unknown)\n"
     ]
    }
   ],
   "source": [
    "#papermill_description=microsoft\n",
    "run_notebook('07_microsoft_tuning.ipynb')"
   ]
  },
  {
   "cell_type": "markdown",
   "id": "4f63d888-57d4-4a76-9565-bc382ea442e7",
   "metadata": {
    "editable": true,
    "slideshow": {
     "slide_type": ""
    },
    "tags": []
   },
   "source": [
    "## Run analyze_results"
   ]
  },
  {
   "cell_type": "code",
   "execution_count": 28,
   "id": "4d107b93-08e5-411a-8925-c6784c711709",
   "metadata": {
    "editable": true,
    "slideshow": {
     "slide_type": ""
    },
    "tags": []
   },
   "outputs": [
    {
     "data": {
      "application/vnd.jupyter.widget-view+json": {
       "model_id": "a75814fcf71f47c798b311de3852a115",
       "version_major": 2,
       "version_minor": 0
      },
      "text/plain": [
       "Executing:   0%|          | 0/41 [00:00<?, ?cell/s]"
      ]
     },
     "metadata": {},
     "output_type": "display_data"
    }
   ],
   "source": [
    "#papermill_description=analyze\n",
    "nb = run_notebook('09_analyze_results.ipynb')"
   ]
  },
  {
   "cell_type": "markdown",
   "id": "53ff9453-531a-40da-8e03-870c77e30504",
   "metadata": {
    "editable": true,
    "slideshow": {
     "slide_type": ""
    },
    "tags": []
   },
   "source": [
    "## Run hybrid"
   ]
  },
  {
   "cell_type": "code",
   "execution_count": 10,
   "id": "a7705d51-3dd1-41ed-92a9-995a8cd263e4",
   "metadata": {
    "editable": true,
    "slideshow": {
     "slide_type": ""
    },
    "tags": []
   },
   "outputs": [
    {
     "data": {
      "application/vnd.jupyter.widget-view+json": {
       "model_id": "16e6ddd3534c4a98b064a1e405296532",
       "version_major": 2,
       "version_minor": 0
      },
      "text/plain": [
       "Executing:   0%|          | 0/39 [00:00<?, ?cell/s]"
      ]
     },
     "metadata": {},
     "output_type": "display_data"
    },
    {
     "name": "stderr",
     "output_type": "stream",
     "text": [
      "2024-02-28 10:47:12.241700: E tensorflow/compiler/xla/stream_executor/cuda/cuda_dnn.cc:9342] Unable to register cuDNN factory: Attempting to register factory for plugin cuDNN when one has already been registered\n",
      "2024-02-28 10:47:12.241723: E tensorflow/compiler/xla/stream_executor/cuda/cuda_fft.cc:609] Unable to register cuFFT factory: Attempting to register factory for plugin cuFFT when one has already been registered\n",
      "2024-02-28 10:47:12.241737: E tensorflow/compiler/xla/stream_executor/cuda/cuda_blas.cc:1518] Unable to register cuBLAS factory: Attempting to register factory for plugin cuBLAS when one has already been registered\n"
     ]
    }
   ],
   "source": [
    "#papermill_description=hybrid\n",
    "run_notebook('12_hybrid.ipynb')"
   ]
  }
 ],
 "metadata": {
  "kernelspec": {
   "display_name": "Python 3 (ipykernel)",
   "language": "python",
   "name": "python3"
  },
  "language_info": {
   "codemirror_mode": {
    "name": "ipython",
    "version": 3
   },
   "file_extension": ".py",
   "mimetype": "text/x-python",
   "name": "python",
   "nbconvert_exporter": "python",
   "pygments_lexer": "ipython3",
   "version": "3.9.18"
  },
  "widgets": {
   "application/vnd.jupyter.widget-state+json": {
    "state": {
     "0534ec9015604054a75f899977fae3ef": {
      "model_module": "@jupyter-widgets/controls",
      "model_module_version": "2.0.0",
      "model_name": "HTMLStyleModel",
      "state": {
       "description_width": "",
       "font_size": null,
       "text_color": null
      }
     },
     "05399c54a2d34471adf53b4159a38328": {
      "model_module": "@jupyter-widgets/controls",
      "model_module_version": "2.0.0",
      "model_name": "FloatProgressModel",
      "state": {
       "bar_style": "success",
       "layout": "IPY_MODEL_1c786dc0d1ed4bd1accb84caa620dc40",
       "max": 41,
       "style": "IPY_MODEL_6f5fa3c8dbdc4688878def0701c2b04a",
       "value": 41
      }
     },
     "06132ea7b38048f6a98c569990b4ecd7": {
      "model_module": "@jupyter-widgets/controls",
      "model_module_version": "2.0.0",
      "model_name": "HTMLStyleModel",
      "state": {
       "description_width": "",
       "font_size": null,
       "text_color": null
      }
     },
     "06a70437c4a44485884f7f9748f50118": {
      "model_module": "@jupyter-widgets/controls",
      "model_module_version": "2.0.0",
      "model_name": "HBoxModel",
      "state": {
       "children": [
        "IPY_MODEL_dd61428450a84d518ff918d4b8535c74",
        "IPY_MODEL_c207e7ac298b44bb8490608d4620880f",
        "IPY_MODEL_e902ec1d1fda4b278171a38c1f09a6a3"
       ],
       "layout": "IPY_MODEL_fa3bfedfe9e44c079d9d3f6c959759f3"
      }
     },
     "09f1acb07a744604898d88647caf4693": {
      "model_module": "@jupyter-widgets/base",
      "model_module_version": "2.0.0",
      "model_name": "LayoutModel",
      "state": {}
     },
     "0f2092e4d516483ca5b4966f4fcb2318": {
      "model_module": "@jupyter-widgets/controls",
      "model_module_version": "2.0.0",
      "model_name": "HTMLStyleModel",
      "state": {
       "description_width": "",
       "font_size": null,
       "text_color": null
      }
     },
     "15df54736cbb4d6b843f51c9fd111bdf": {
      "model_module": "@jupyter-widgets/controls",
      "model_module_version": "2.0.0",
      "model_name": "FloatProgressModel",
      "state": {
       "bar_style": "success",
       "layout": "IPY_MODEL_7273070657bc44858c436b462c8e088b",
       "max": 59,
       "style": "IPY_MODEL_a2da3daf0ee444af9805b4586c5afe27",
       "value": 59
      }
     },
     "16e6ddd3534c4a98b064a1e405296532": {
      "model_module": "@jupyter-widgets/controls",
      "model_module_version": "2.0.0",
      "model_name": "HBoxModel",
      "state": {
       "children": [
        "IPY_MODEL_f8dc58cfcfd541bd8b3dff19f8fb6299",
        "IPY_MODEL_c8633b575cab4690b238da16468fbbd9",
        "IPY_MODEL_b19a7b3b132d46bca6479b4367724987"
       ],
       "layout": "IPY_MODEL_ed3b7ec2034d4933aad2490a63697d2f"
      }
     },
     "1b62665a4276476597ff0af226c445df": {
      "model_module": "@jupyter-widgets/base",
      "model_module_version": "2.0.0",
      "model_name": "LayoutModel",
      "state": {}
     },
     "1bd64b571399425d802f02b76609020c": {
      "model_module": "@jupyter-widgets/controls",
      "model_module_version": "2.0.0",
      "model_name": "HTMLModel",
      "state": {
       "layout": "IPY_MODEL_5181905852424825b8af2a3b4f7881fc",
       "style": "IPY_MODEL_b405a6e71f3b46898bc2cb25f60e0ba2",
       "value": "Executing: 100%"
      }
     },
     "1c786dc0d1ed4bd1accb84caa620dc40": {
      "model_module": "@jupyter-widgets/base",
      "model_module_version": "2.0.0",
      "model_name": "LayoutModel",
      "state": {}
     },
     "1dc69f003fcd4e94b2fde0155c4dd153": {
      "model_module": "@jupyter-widgets/controls",
      "model_module_version": "2.0.0",
      "model_name": "HTMLModel",
      "state": {
       "layout": "IPY_MODEL_529e9cf169bd428ba20e50c694217855",
       "style": "IPY_MODEL_65e09871202742178230bc0e7bfa90a9",
       "value": "Executing: 100%"
      }
     },
     "21ad0c97cf7a4d4caf718cf2cbb24418": {
      "model_module": "@jupyter-widgets/controls",
      "model_module_version": "2.0.0",
      "model_name": "FloatProgressModel",
      "state": {
       "bar_style": "success",
       "layout": "IPY_MODEL_dbaa3ded67e74b52a2d18421b122c10b",
       "max": 47,
       "style": "IPY_MODEL_910c69905bd645f586ee3769ca843d3d",
       "value": 47
      }
     },
     "21becc3b57e54bfbaddf55a67cf0eb03": {
      "model_module": "@jupyter-widgets/controls",
      "model_module_version": "2.0.0",
      "model_name": "FloatProgressModel",
      "state": {
       "bar_style": "success",
       "layout": "IPY_MODEL_cec457842a764a58805f0bb4304924cc",
       "max": 41,
       "style": "IPY_MODEL_7e8288b11b9e44a694e71969f8aaa641",
       "value": 41
      }
     },
     "2b780355032648c89e6f8dc92b4bafdc": {
      "model_module": "@jupyter-widgets/controls",
      "model_module_version": "2.0.0",
      "model_name": "HTMLModel",
      "state": {
       "layout": "IPY_MODEL_5f40521ea49e48ec86a14296534373b5",
       "style": "IPY_MODEL_91a2958c1b884cf6bbc311389e5f2415",
       "value": " 41/41 [00:06&lt;00:00, 11.23cell/s]"
      }
     },
     "2e4f138bf6234cd6bed904509147920e": {
      "model_module": "@jupyter-widgets/base",
      "model_module_version": "2.0.0",
      "model_name": "LayoutModel",
      "state": {}
     },
     "3212eba8cee345dbae398e5044811907": {
      "model_module": "@jupyter-widgets/controls",
      "model_module_version": "2.0.0",
      "model_name": "ProgressStyleModel",
      "state": {
       "description_width": ""
      }
     },
     "34fc9ad520ca4f498c41eef1b661dd43": {
      "model_module": "@jupyter-widgets/controls",
      "model_module_version": "2.0.0",
      "model_name": "ProgressStyleModel",
      "state": {
       "description_width": ""
      }
     },
     "35d485e968d142b39eb15e6cc002f97d": {
      "model_module": "@jupyter-widgets/base",
      "model_module_version": "2.0.0",
      "model_name": "LayoutModel",
      "state": {}
     },
     "37400c839f92489e939727e058eb5301": {
      "model_module": "@jupyter-widgets/base",
      "model_module_version": "2.0.0",
      "model_name": "LayoutModel",
      "state": {}
     },
     "3b193f326a49495a803b13e79a203b30": {
      "model_module": "@jupyter-widgets/base",
      "model_module_version": "2.0.0",
      "model_name": "LayoutModel",
      "state": {}
     },
     "414d20ef8f154aeabf7b3a899be8a70a": {
      "model_module": "@jupyter-widgets/controls",
      "model_module_version": "2.0.0",
      "model_name": "HBoxModel",
      "state": {
       "children": [
        "IPY_MODEL_587cc0254e3a4fa78bb80319d7cb7b00",
        "IPY_MODEL_05399c54a2d34471adf53b4159a38328",
        "IPY_MODEL_2b780355032648c89e6f8dc92b4bafdc"
       ],
       "layout": "IPY_MODEL_bca0e0005aa740ed896466868b763608"
      }
     },
     "4529330ba0074ea3a1386382de0f14ef": {
      "model_module": "@jupyter-widgets/base",
      "model_module_version": "2.0.0",
      "model_name": "LayoutModel",
      "state": {}
     },
     "45df3c969f3648e0a2bc75effd1b77e6": {
      "model_module": "@jupyter-widgets/controls",
      "model_module_version": "2.0.0",
      "model_name": "HTMLStyleModel",
      "state": {
       "description_width": "",
       "font_size": null,
       "text_color": null
      }
     },
     "466519a3763c4361bd7a94d205f94e1f": {
      "model_module": "@jupyter-widgets/base",
      "model_module_version": "2.0.0",
      "model_name": "LayoutModel",
      "state": {}
     },
     "4b7b4a5be6d94a64a7da11bc82064552": {
      "model_module": "@jupyter-widgets/controls",
      "model_module_version": "2.0.0",
      "model_name": "HTMLModel",
      "state": {
       "layout": "IPY_MODEL_94d03580a391427c9ffa63d45fc806b2",
       "style": "IPY_MODEL_0534ec9015604054a75f899977fae3ef",
       "value": " 47/47 [01:08&lt;00:00,  1.28cell/s]"
      }
     },
     "4f763518f97649fcade059a0f2c454ae": {
      "model_module": "@jupyter-widgets/controls",
      "model_module_version": "2.0.0",
      "model_name": "HBoxModel",
      "state": {
       "children": [
        "IPY_MODEL_7fedcd886ce1433787eccb10922b33cf",
        "IPY_MODEL_d7f4eab0ebce49389a1734d8a07bf2d7",
        "IPY_MODEL_4b7b4a5be6d94a64a7da11bc82064552"
       ],
       "layout": "IPY_MODEL_3b193f326a49495a803b13e79a203b30"
      }
     },
     "50f61f3e73814b68b9f093db311f36cf": {
      "model_module": "@jupyter-widgets/base",
      "model_module_version": "2.0.0",
      "model_name": "LayoutModel",
      "state": {}
     },
     "5181905852424825b8af2a3b4f7881fc": {
      "model_module": "@jupyter-widgets/base",
      "model_module_version": "2.0.0",
      "model_name": "LayoutModel",
      "state": {}
     },
     "529e9cf169bd428ba20e50c694217855": {
      "model_module": "@jupyter-widgets/base",
      "model_module_version": "2.0.0",
      "model_name": "LayoutModel",
      "state": {}
     },
     "587cc0254e3a4fa78bb80319d7cb7b00": {
      "model_module": "@jupyter-widgets/controls",
      "model_module_version": "2.0.0",
      "model_name": "HTMLModel",
      "state": {
       "layout": "IPY_MODEL_4529330ba0074ea3a1386382de0f14ef",
       "style": "IPY_MODEL_6ab2d33b8495496bb652f38127711372",
       "value": "Executing: 100%"
      }
     },
     "5a65e56745684f1db3e73fb98b89d10b": {
      "model_module": "@jupyter-widgets/base",
      "model_module_version": "2.0.0",
      "model_name": "LayoutModel",
      "state": {}
     },
     "5f40521ea49e48ec86a14296534373b5": {
      "model_module": "@jupyter-widgets/base",
      "model_module_version": "2.0.0",
      "model_name": "LayoutModel",
      "state": {}
     },
     "61109c8927db4ade9495e053cdc77af8": {
      "model_module": "@jupyter-widgets/controls",
      "model_module_version": "2.0.0",
      "model_name": "HTMLStyleModel",
      "state": {
       "description_width": "",
       "font_size": null,
       "text_color": null
      }
     },
     "63857bf206db49a48c01db89bc364bf5": {
      "model_module": "@jupyter-widgets/base",
      "model_module_version": "2.0.0",
      "model_name": "LayoutModel",
      "state": {}
     },
     "6552dc0f6e974e14bf1e0bf76c334746": {
      "model_module": "@jupyter-widgets/controls",
      "model_module_version": "2.0.0",
      "model_name": "HTMLStyleModel",
      "state": {
       "description_width": "",
       "font_size": null,
       "text_color": null
      }
     },
     "65e09871202742178230bc0e7bfa90a9": {
      "model_module": "@jupyter-widgets/controls",
      "model_module_version": "2.0.0",
      "model_name": "HTMLStyleModel",
      "state": {
       "description_width": "",
       "font_size": null,
       "text_color": null
      }
     },
     "6617bb16cef745a2b511d87d4a07b8b8": {
      "model_module": "@jupyter-widgets/controls",
      "model_module_version": "2.0.0",
      "model_name": "HTMLModel",
      "state": {
       "layout": "IPY_MODEL_ff39dc87b40a44aca1bead032878ac06",
       "style": "IPY_MODEL_45df3c969f3648e0a2bc75effd1b77e6",
       "value": " 41/41 [00:06&lt;00:00, 11.43cell/s]"
      }
     },
     "6863d0e918fa44b08a318ded96d755c0": {
      "model_module": "@jupyter-widgets/controls",
      "model_module_version": "2.0.0",
      "model_name": "HTMLModel",
      "state": {
       "layout": "IPY_MODEL_b34f647b5cc042c0b8139d6008d17b07",
       "style": "IPY_MODEL_84ca4aa1128942cf86ccf308f416e929",
       "value": " 26/26 [00:27&lt;00:00,  1.01s/cell]"
      }
     },
     "68d6f0cbe0f24f1abd65f5b066afcd8d": {
      "model_module": "@jupyter-widgets/controls",
      "model_module_version": "2.0.0",
      "model_name": "HTMLStyleModel",
      "state": {
       "description_width": "",
       "font_size": null,
       "text_color": null
      }
     },
     "6ab2d33b8495496bb652f38127711372": {
      "model_module": "@jupyter-widgets/controls",
      "model_module_version": "2.0.0",
      "model_name": "HTMLStyleModel",
      "state": {
       "description_width": "",
       "font_size": null,
       "text_color": null
      }
     },
     "6ab9e9b82f4143ceb53e6ab3f01aa351": {
      "model_module": "@jupyter-widgets/base",
      "model_module_version": "2.0.0",
      "model_name": "LayoutModel",
      "state": {}
     },
     "6ccc5bd27ad2411f8962f54a9b8bb9fb": {
      "model_module": "@jupyter-widgets/controls",
      "model_module_version": "2.0.0",
      "model_name": "ProgressStyleModel",
      "state": {
       "description_width": ""
      }
     },
     "6f5fa3c8dbdc4688878def0701c2b04a": {
      "model_module": "@jupyter-widgets/controls",
      "model_module_version": "2.0.0",
      "model_name": "ProgressStyleModel",
      "state": {
       "description_width": ""
      }
     },
     "7273070657bc44858c436b462c8e088b": {
      "model_module": "@jupyter-widgets/base",
      "model_module_version": "2.0.0",
      "model_name": "LayoutModel",
      "state": {}
     },
     "72f883eb6b74463687aa81ea17c628e4": {
      "model_module": "@jupyter-widgets/controls",
      "model_module_version": "2.0.0",
      "model_name": "HBoxModel",
      "state": {
       "children": [
        "IPY_MODEL_90f5ce8f736e4379859c8042023f936b",
        "IPY_MODEL_edc91ee4ae114de1b91b8648664e1874",
        "IPY_MODEL_a46ff850b04c40349a8fdb2b26ee8cc3"
       ],
       "layout": "IPY_MODEL_e99d16df1d564a39bb5ca2f63cc2875e"
      }
     },
     "73c7de49b2b845abbae2540dac19c7f0": {
      "model_module": "@jupyter-widgets/controls",
      "model_module_version": "2.0.0",
      "model_name": "HTMLModel",
      "state": {
       "layout": "IPY_MODEL_c190b9dd99b140f89d5c27c69fc4cef8",
       "style": "IPY_MODEL_c8b02cc6fc254f6bb6853549b6e235d6",
       "value": " 41/41 [00:06&lt;00:00, 10.72cell/s]"
      }
     },
     "7560c2f8796d49f197bbe2bd031ad351": {
      "model_module": "@jupyter-widgets/base",
      "model_module_version": "2.0.0",
      "model_name": "LayoutModel",
      "state": {}
     },
     "77f8601b33ba4b1fae9d510b7abff3ae": {
      "model_module": "@jupyter-widgets/base",
      "model_module_version": "2.0.0",
      "model_name": "LayoutModel",
      "state": {}
     },
     "784a3df92ab44a3cbb812bb7e76ee8b0": {
      "model_module": "@jupyter-widgets/base",
      "model_module_version": "2.0.0",
      "model_name": "LayoutModel",
      "state": {}
     },
     "7b145be722bb467287acec8121dd2a2f": {
      "model_module": "@jupyter-widgets/controls",
      "model_module_version": "2.0.0",
      "model_name": "HTMLStyleModel",
      "state": {
       "description_width": "",
       "font_size": null,
       "text_color": null
      }
     },
     "7c48465f259d4c1b9e5afdd74a21aeff": {
      "model_module": "@jupyter-widgets/controls",
      "model_module_version": "2.0.0",
      "model_name": "HTMLModel",
      "state": {
       "layout": "IPY_MODEL_50f61f3e73814b68b9f093db311f36cf",
       "style": "IPY_MODEL_0f2092e4d516483ca5b4966f4fcb2318",
       "value": "Executing: 100%"
      }
     },
     "7e8288b11b9e44a694e71969f8aaa641": {
      "model_module": "@jupyter-widgets/controls",
      "model_module_version": "2.0.0",
      "model_name": "ProgressStyleModel",
      "state": {
       "description_width": ""
      }
     },
     "7fb0dbbb59ad410e8190e9b358634d1a": {
      "model_module": "@jupyter-widgets/controls",
      "model_module_version": "2.0.0",
      "model_name": "HTMLStyleModel",
      "state": {
       "description_width": "",
       "font_size": null,
       "text_color": null
      }
     },
     "7fedcd886ce1433787eccb10922b33cf": {
      "model_module": "@jupyter-widgets/controls",
      "model_module_version": "2.0.0",
      "model_name": "HTMLModel",
      "state": {
       "layout": "IPY_MODEL_ceedf0826e494bc996b2c502dfdc1e09",
       "style": "IPY_MODEL_68d6f0cbe0f24f1abd65f5b066afcd8d",
       "value": "Executing: 100%"
      }
     },
     "8270b760635f4c7b80609b4e169b7707": {
      "model_module": "@jupyter-widgets/base",
      "model_module_version": "2.0.0",
      "model_name": "LayoutModel",
      "state": {}
     },
     "84ca4aa1128942cf86ccf308f416e929": {
      "model_module": "@jupyter-widgets/controls",
      "model_module_version": "2.0.0",
      "model_name": "HTMLStyleModel",
      "state": {
       "description_width": "",
       "font_size": null,
       "text_color": null
      }
     },
     "85d915638a5e45e183498d0453cc22fb": {
      "model_module": "@jupyter-widgets/base",
      "model_module_version": "2.0.0",
      "model_name": "LayoutModel",
      "state": {}
     },
     "889bfb3338d347eba51face862e3c975": {
      "model_module": "@jupyter-widgets/base",
      "model_module_version": "2.0.0",
      "model_name": "LayoutModel",
      "state": {}
     },
     "9059f7a4c92f463588db387e7c17fb34": {
      "model_module": "@jupyter-widgets/controls",
      "model_module_version": "2.0.0",
      "model_name": "HTMLModel",
      "state": {
       "layout": "IPY_MODEL_d8f8297e4ac449378b33961ef9050bdc",
       "style": "IPY_MODEL_6552dc0f6e974e14bf1e0bf76c334746",
       "value": "Executing: 100%"
      }
     },
     "90f5ce8f736e4379859c8042023f936b": {
      "model_module": "@jupyter-widgets/controls",
      "model_module_version": "2.0.0",
      "model_name": "HTMLModel",
      "state": {
       "layout": "IPY_MODEL_2e4f138bf6234cd6bed904509147920e",
       "style": "IPY_MODEL_c4054cacfc9c4f8fbc055e640287ac4f",
       "value": "Executing: 100%"
      }
     },
     "910c69905bd645f586ee3769ca843d3d": {
      "model_module": "@jupyter-widgets/controls",
      "model_module_version": "2.0.0",
      "model_name": "ProgressStyleModel",
      "state": {
       "description_width": ""
      }
     },
     "911964b4b9c64c3ebb0da4d2f12ff195": {
      "model_module": "@jupyter-widgets/controls",
      "model_module_version": "2.0.0",
      "model_name": "HTMLModel",
      "state": {
       "layout": "IPY_MODEL_fa27f122179d4f35bac1d54a4f58e3e4",
       "style": "IPY_MODEL_ba4c1e9cea394c5ca05b66883bfb0b31",
       "value": "Executing: 100%"
      }
     },
     "91a2958c1b884cf6bbc311389e5f2415": {
      "model_module": "@jupyter-widgets/controls",
      "model_module_version": "2.0.0",
      "model_name": "HTMLStyleModel",
      "state": {
       "description_width": "",
       "font_size": null,
       "text_color": null
      }
     },
     "94d03580a391427c9ffa63d45fc806b2": {
      "model_module": "@jupyter-widgets/base",
      "model_module_version": "2.0.0",
      "model_name": "LayoutModel",
      "state": {}
     },
     "975a0f65ad444b64914b2f5a43aa2267": {
      "model_module": "@jupyter-widgets/controls",
      "model_module_version": "2.0.0",
      "model_name": "HTMLModel",
      "state": {
       "layout": "IPY_MODEL_466519a3763c4361bd7a94d205f94e1f",
       "style": "IPY_MODEL_fbd4d4f3809d4e22b9d566c6a2c8a20e",
       "value": " 59/59 [00:37&lt;00:00,  3.36cell/s]"
      }
     },
     "993c59643e3844dd80809fc119757ce6": {
      "model_module": "@jupyter-widgets/base",
      "model_module_version": "2.0.0",
      "model_name": "LayoutModel",
      "state": {}
     },
     "a2da3daf0ee444af9805b4586c5afe27": {
      "model_module": "@jupyter-widgets/controls",
      "model_module_version": "2.0.0",
      "model_name": "ProgressStyleModel",
      "state": {
       "description_width": ""
      }
     },
     "a313bc55a4784989b1e6a1d73dbac774": {
      "model_module": "@jupyter-widgets/controls",
      "model_module_version": "2.0.0",
      "model_name": "HTMLStyleModel",
      "state": {
       "description_width": "",
       "font_size": null,
       "text_color": null
      }
     },
     "a46ff850b04c40349a8fdb2b26ee8cc3": {
      "model_module": "@jupyter-widgets/controls",
      "model_module_version": "2.0.0",
      "model_name": "HTMLModel",
      "state": {
       "layout": "IPY_MODEL_ad847826b48c4de9bc0ef27650701714",
       "style": "IPY_MODEL_c1b29d90aeb14547a3dd3fa9672a989e",
       "value": " 47/47 [01:09&lt;00:00,  1.28cell/s]"
      }
     },
     "a50b1ef805c84a3bb6c924e20fe70f6d": {
      "model_module": "@jupyter-widgets/controls",
      "model_module_version": "2.0.0",
      "model_name": "HTMLStyleModel",
      "state": {
       "description_width": "",
       "font_size": null,
       "text_color": null
      }
     },
     "a75814fcf71f47c798b311de3852a115": {
      "model_module": "@jupyter-widgets/controls",
      "model_module_version": "2.0.0",
      "model_name": "HBoxModel",
      "state": {
       "children": [
        "IPY_MODEL_7c48465f259d4c1b9e5afdd74a21aeff",
        "IPY_MODEL_ee9b41ee17c148a1856ff1f8c5002256",
        "IPY_MODEL_6617bb16cef745a2b511d87d4a07b8b8"
       ],
       "layout": "IPY_MODEL_6ab9e9b82f4143ceb53e6ab3f01aa351"
      }
     },
     "a806e948e5e24c02a7471685b9d425d5": {
      "model_module": "@jupyter-widgets/controls",
      "model_module_version": "2.0.0",
      "model_name": "FloatProgressModel",
      "state": {
       "bar_style": "success",
       "layout": "IPY_MODEL_f958530776a94dab858fd21486937f5d",
       "max": 59,
       "style": "IPY_MODEL_34fc9ad520ca4f498c41eef1b661dd43",
       "value": 59
      }
     },
     "aab087ecf8d94cb4b7debe22c94fae30": {
      "model_module": "@jupyter-widgets/controls",
      "model_module_version": "2.0.0",
      "model_name": "HTMLModel",
      "state": {
       "layout": "IPY_MODEL_5a65e56745684f1db3e73fb98b89d10b",
       "style": "IPY_MODEL_7b145be722bb467287acec8121dd2a2f",
       "value": " 47/47 [01:09&lt;00:00,  1.27cell/s]"
      }
     },
     "aadcbc1718f141379d37aa0d94ffd98b": {
      "model_module": "@jupyter-widgets/controls",
      "model_module_version": "2.0.0",
      "model_name": "ProgressStyleModel",
      "state": {
       "description_width": ""
      }
     },
     "ab1a6210c12a429a85c347e411553a36": {
      "model_module": "@jupyter-widgets/base",
      "model_module_version": "2.0.0",
      "model_name": "LayoutModel",
      "state": {}
     },
     "ad847826b48c4de9bc0ef27650701714": {
      "model_module": "@jupyter-widgets/base",
      "model_module_version": "2.0.0",
      "model_name": "LayoutModel",
      "state": {}
     },
     "ae160e1cc54649a696e0d454d6fd34d9": {
      "model_module": "@jupyter-widgets/controls",
      "model_module_version": "2.0.0",
      "model_name": "ProgressStyleModel",
      "state": {
       "description_width": ""
      }
     },
     "af74959574f546e99f57cd6915b18d99": {
      "model_module": "@jupyter-widgets/base",
      "model_module_version": "2.0.0",
      "model_name": "LayoutModel",
      "state": {}
     },
     "b013a39bd98c45fa9cbca1cae773034d": {
      "model_module": "@jupyter-widgets/base",
      "model_module_version": "2.0.0",
      "model_name": "LayoutModel",
      "state": {}
     },
     "b19a7b3b132d46bca6479b4367724987": {
      "model_module": "@jupyter-widgets/controls",
      "model_module_version": "2.0.0",
      "model_name": "HTMLModel",
      "state": {
       "layout": "IPY_MODEL_85d915638a5e45e183498d0453cc22fb",
       "style": "IPY_MODEL_61109c8927db4ade9495e053cdc77af8",
       "value": " 39/39 [05:58&lt;00:00,  1.08s/cell]"
      }
     },
     "b34f647b5cc042c0b8139d6008d17b07": {
      "model_module": "@jupyter-widgets/base",
      "model_module_version": "2.0.0",
      "model_name": "LayoutModel",
      "state": {}
     },
     "b405a6e71f3b46898bc2cb25f60e0ba2": {
      "model_module": "@jupyter-widgets/controls",
      "model_module_version": "2.0.0",
      "model_name": "HTMLStyleModel",
      "state": {
       "description_width": "",
       "font_size": null,
       "text_color": null
      }
     },
     "b5207429c39948189b6d7d9ed166dc39": {
      "model_module": "@jupyter-widgets/controls",
      "model_module_version": "2.0.0",
      "model_name": "HBoxModel",
      "state": {
       "children": [
        "IPY_MODEL_911964b4b9c64c3ebb0da4d2f12ff195",
        "IPY_MODEL_e5d1acf7978d415a82eb68d26ab786a2",
        "IPY_MODEL_6863d0e918fa44b08a318ded96d755c0"
       ],
       "layout": "IPY_MODEL_b013a39bd98c45fa9cbca1cae773034d"
      }
     },
     "b675febc38364964a49aabe2a66062cf": {
      "model_module": "@jupyter-widgets/controls",
      "model_module_version": "2.0.0",
      "model_name": "HTMLModel",
      "state": {
       "layout": "IPY_MODEL_993c59643e3844dd80809fc119757ce6",
       "style": "IPY_MODEL_e102c23291364b109c37f33042eb8334",
       "value": "Executing: 100%"
      }
     },
     "b70511503cf0434c974ae786e0e1c121": {
      "model_module": "@jupyter-widgets/controls",
      "model_module_version": "2.0.0",
      "model_name": "FloatProgressModel",
      "state": {
       "bar_style": "success",
       "layout": "IPY_MODEL_8270b760635f4c7b80609b4e169b7707",
       "max": 59,
       "style": "IPY_MODEL_c86aabb56fe44e7f9919d1ce6b99954d",
       "value": 59
      }
     },
     "ba4c1e9cea394c5ca05b66883bfb0b31": {
      "model_module": "@jupyter-widgets/controls",
      "model_module_version": "2.0.0",
      "model_name": "HTMLStyleModel",
      "state": {
       "description_width": "",
       "font_size": null,
       "text_color": null
      }
     },
     "bb433da8610c49b4829a33085f9015aa": {
      "model_module": "@jupyter-widgets/base",
      "model_module_version": "2.0.0",
      "model_name": "LayoutModel",
      "state": {}
     },
     "bca0e0005aa740ed896466868b763608": {
      "model_module": "@jupyter-widgets/base",
      "model_module_version": "2.0.0",
      "model_name": "LayoutModel",
      "state": {}
     },
     "c04b5c048f974163b7ecf9b01845a073": {
      "model_module": "@jupyter-widgets/controls",
      "model_module_version": "2.0.0",
      "model_name": "HTMLStyleModel",
      "state": {
       "description_width": "",
       "font_size": null,
       "text_color": null
      }
     },
     "c105fafaeb1446d58f4aa8eb3ddac18b": {
      "model_module": "@jupyter-widgets/base",
      "model_module_version": "2.0.0",
      "model_name": "LayoutModel",
      "state": {}
     },
     "c190b9dd99b140f89d5c27c69fc4cef8": {
      "model_module": "@jupyter-widgets/base",
      "model_module_version": "2.0.0",
      "model_name": "LayoutModel",
      "state": {}
     },
     "c1b29d90aeb14547a3dd3fa9672a989e": {
      "model_module": "@jupyter-widgets/controls",
      "model_module_version": "2.0.0",
      "model_name": "HTMLStyleModel",
      "state": {
       "description_width": "",
       "font_size": null,
       "text_color": null
      }
     },
     "c207e7ac298b44bb8490608d4620880f": {
      "model_module": "@jupyter-widgets/controls",
      "model_module_version": "2.0.0",
      "model_name": "FloatProgressModel",
      "state": {
       "bar_style": "success",
       "layout": "IPY_MODEL_ca0d12bef2034fcc8edbf020fc606e11",
       "max": 41,
       "style": "IPY_MODEL_c2a544a9a72943eab33492d94484bdd9",
       "value": 41
      }
     },
     "c2a544a9a72943eab33492d94484bdd9": {
      "model_module": "@jupyter-widgets/controls",
      "model_module_version": "2.0.0",
      "model_name": "ProgressStyleModel",
      "state": {
       "description_width": ""
      }
     },
     "c39d75c2ec664086ac6f657aaa2fa948": {
      "model_module": "@jupyter-widgets/base",
      "model_module_version": "2.0.0",
      "model_name": "LayoutModel",
      "state": {}
     },
     "c4054cacfc9c4f8fbc055e640287ac4f": {
      "model_module": "@jupyter-widgets/controls",
      "model_module_version": "2.0.0",
      "model_name": "HTMLStyleModel",
      "state": {
       "description_width": "",
       "font_size": null,
       "text_color": null
      }
     },
     "c6b3eb1966314102bae8094d1d5ebbfd": {
      "model_module": "@jupyter-widgets/controls",
      "model_module_version": "2.0.0",
      "model_name": "HTMLModel",
      "state": {
       "layout": "IPY_MODEL_784a3df92ab44a3cbb812bb7e76ee8b0",
       "style": "IPY_MODEL_c04b5c048f974163b7ecf9b01845a073",
       "value": "Executing: 100%"
      }
     },
     "c8633b575cab4690b238da16468fbbd9": {
      "model_module": "@jupyter-widgets/controls",
      "model_module_version": "2.0.0",
      "model_name": "FloatProgressModel",
      "state": {
       "bar_style": "success",
       "layout": "IPY_MODEL_c39d75c2ec664086ac6f657aaa2fa948",
       "max": 39,
       "style": "IPY_MODEL_3212eba8cee345dbae398e5044811907",
       "value": 39
      }
     },
     "c86aabb56fe44e7f9919d1ce6b99954d": {
      "model_module": "@jupyter-widgets/controls",
      "model_module_version": "2.0.0",
      "model_name": "ProgressStyleModel",
      "state": {
       "description_width": ""
      }
     },
     "c8b02cc6fc254f6bb6853549b6e235d6": {
      "model_module": "@jupyter-widgets/controls",
      "model_module_version": "2.0.0",
      "model_name": "HTMLStyleModel",
      "state": {
       "description_width": "",
       "font_size": null,
       "text_color": null
      }
     },
     "ca0d12bef2034fcc8edbf020fc606e11": {
      "model_module": "@jupyter-widgets/base",
      "model_module_version": "2.0.0",
      "model_name": "LayoutModel",
      "state": {}
     },
     "ca5b0627d164442888b56c1e8e2aaca2": {
      "model_module": "@jupyter-widgets/controls",
      "model_module_version": "2.0.0",
      "model_name": "HTMLModel",
      "state": {
       "layout": "IPY_MODEL_09f1acb07a744604898d88647caf4693",
       "style": "IPY_MODEL_7fb0dbbb59ad410e8190e9b358634d1a",
       "value": " 59/59 [00:37&lt;00:00,  3.34cell/s]"
      }
     },
     "cec457842a764a58805f0bb4304924cc": {
      "model_module": "@jupyter-widgets/base",
      "model_module_version": "2.0.0",
      "model_name": "LayoutModel",
      "state": {}
     },
     "ceedf0826e494bc996b2c502dfdc1e09": {
      "model_module": "@jupyter-widgets/base",
      "model_module_version": "2.0.0",
      "model_name": "LayoutModel",
      "state": {}
     },
     "d732c9da098645bbbdf3ef7412712351": {
      "model_module": "@jupyter-widgets/controls",
      "model_module_version": "2.0.0",
      "model_name": "HTMLStyleModel",
      "state": {
       "description_width": "",
       "font_size": null,
       "text_color": null
      }
     },
     "d7d22f3df4d54597a24c11903bfa26d4": {
      "model_module": "@jupyter-widgets/base",
      "model_module_version": "2.0.0",
      "model_name": "LayoutModel",
      "state": {}
     },
     "d7ddce4d75df4522853ce6c6ed126065": {
      "model_module": "@jupyter-widgets/controls",
      "model_module_version": "2.0.0",
      "model_name": "HBoxModel",
      "state": {
       "children": [
        "IPY_MODEL_c6b3eb1966314102bae8094d1d5ebbfd",
        "IPY_MODEL_b70511503cf0434c974ae786e0e1c121",
        "IPY_MODEL_975a0f65ad444b64914b2f5a43aa2267"
       ],
       "layout": "IPY_MODEL_63857bf206db49a48c01db89bc364bf5"
      }
     },
     "d7f4eab0ebce49389a1734d8a07bf2d7": {
      "model_module": "@jupyter-widgets/controls",
      "model_module_version": "2.0.0",
      "model_name": "FloatProgressModel",
      "state": {
       "bar_style": "success",
       "layout": "IPY_MODEL_eff577b4b8ff4b5bb16049af88ef6cf2",
       "max": 47,
       "style": "IPY_MODEL_aadcbc1718f141379d37aa0d94ffd98b",
       "value": 47
      }
     },
     "d8f8297e4ac449378b33961ef9050bdc": {
      "model_module": "@jupyter-widgets/base",
      "model_module_version": "2.0.0",
      "model_name": "LayoutModel",
      "state": {}
     },
     "dbaa3ded67e74b52a2d18421b122c10b": {
      "model_module": "@jupyter-widgets/base",
      "model_module_version": "2.0.0",
      "model_name": "LayoutModel",
      "state": {}
     },
     "dd61428450a84d518ff918d4b8535c74": {
      "model_module": "@jupyter-widgets/controls",
      "model_module_version": "2.0.0",
      "model_name": "HTMLModel",
      "state": {
       "layout": "IPY_MODEL_bb433da8610c49b4829a33085f9015aa",
       "style": "IPY_MODEL_d732c9da098645bbbdf3ef7412712351",
       "value": "Executing: 100%"
      }
     },
     "e09fd338aaba4ac8896c9f9fa6c8a1c9": {
      "model_module": "@jupyter-widgets/controls",
      "model_module_version": "2.0.0",
      "model_name": "HBoxModel",
      "state": {
       "children": [
        "IPY_MODEL_9059f7a4c92f463588db387e7c17fb34",
        "IPY_MODEL_21ad0c97cf7a4d4caf718cf2cbb24418",
        "IPY_MODEL_aab087ecf8d94cb4b7debe22c94fae30"
       ],
       "layout": "IPY_MODEL_c105fafaeb1446d58f4aa8eb3ddac18b"
      }
     },
     "e102c23291364b109c37f33042eb8334": {
      "model_module": "@jupyter-widgets/controls",
      "model_module_version": "2.0.0",
      "model_name": "HTMLStyleModel",
      "state": {
       "description_width": "",
       "font_size": null,
       "text_color": null
      }
     },
     "e5d1acf7978d415a82eb68d26ab786a2": {
      "model_module": "@jupyter-widgets/controls",
      "model_module_version": "2.0.0",
      "model_name": "FloatProgressModel",
      "state": {
       "bar_style": "success",
       "layout": "IPY_MODEL_37400c839f92489e939727e058eb5301",
       "max": 26,
       "style": "IPY_MODEL_6ccc5bd27ad2411f8962f54a9b8bb9fb",
       "value": 26
      }
     },
     "e902ec1d1fda4b278171a38c1f09a6a3": {
      "model_module": "@jupyter-widgets/controls",
      "model_module_version": "2.0.0",
      "model_name": "HTMLModel",
      "state": {
       "layout": "IPY_MODEL_889bfb3338d347eba51face862e3c975",
       "style": "IPY_MODEL_a313bc55a4784989b1e6a1d73dbac774",
       "value": " 41/41 [00:06&lt;00:00, 10.67cell/s]"
      }
     },
     "e99d16df1d564a39bb5ca2f63cc2875e": {
      "model_module": "@jupyter-widgets/base",
      "model_module_version": "2.0.0",
      "model_name": "LayoutModel",
      "state": {}
     },
     "ea1e777518024fb4be8b0df3e1bdaa7a": {
      "model_module": "@jupyter-widgets/controls",
      "model_module_version": "2.0.0",
      "model_name": "ProgressStyleModel",
      "state": {
       "description_width": ""
      }
     },
     "ea4bafbe26a142fbaa81202a0c831d9e": {
      "model_module": "@jupyter-widgets/controls",
      "model_module_version": "2.0.0",
      "model_name": "HBoxModel",
      "state": {
       "children": [
        "IPY_MODEL_1bd64b571399425d802f02b76609020c",
        "IPY_MODEL_21becc3b57e54bfbaddf55a67cf0eb03",
        "IPY_MODEL_73c7de49b2b845abbae2540dac19c7f0"
       ],
       "layout": "IPY_MODEL_d7d22f3df4d54597a24c11903bfa26d4"
      }
     },
     "ed3b7ec2034d4933aad2490a63697d2f": {
      "model_module": "@jupyter-widgets/base",
      "model_module_version": "2.0.0",
      "model_name": "LayoutModel",
      "state": {}
     },
     "edc91ee4ae114de1b91b8648664e1874": {
      "model_module": "@jupyter-widgets/controls",
      "model_module_version": "2.0.0",
      "model_name": "FloatProgressModel",
      "state": {
       "bar_style": "success",
       "layout": "IPY_MODEL_35d485e968d142b39eb15e6cc002f97d",
       "max": 47,
       "style": "IPY_MODEL_ae160e1cc54649a696e0d454d6fd34d9",
       "value": 47
      }
     },
     "ee9b41ee17c148a1856ff1f8c5002256": {
      "model_module": "@jupyter-widgets/controls",
      "model_module_version": "2.0.0",
      "model_name": "FloatProgressModel",
      "state": {
       "bar_style": "success",
       "layout": "IPY_MODEL_77f8601b33ba4b1fae9d510b7abff3ae",
       "max": 41,
       "style": "IPY_MODEL_ea1e777518024fb4be8b0df3e1bdaa7a",
       "value": 41
      }
     },
     "ef6f52ba672446aab7f04ff902b3111e": {
      "model_module": "@jupyter-widgets/controls",
      "model_module_version": "2.0.0",
      "model_name": "HBoxModel",
      "state": {
       "children": [
        "IPY_MODEL_1dc69f003fcd4e94b2fde0155c4dd153",
        "IPY_MODEL_15df54736cbb4d6b843f51c9fd111bdf",
        "IPY_MODEL_ff439a22ece6494788b7da72bbfa99f2"
       ],
       "layout": "IPY_MODEL_ab1a6210c12a429a85c347e411553a36"
      }
     },
     "efd4d8e8153d4f8e8eb0dcee5027fdc7": {
      "model_module": "@jupyter-widgets/controls",
      "model_module_version": "2.0.0",
      "model_name": "HBoxModel",
      "state": {
       "children": [
        "IPY_MODEL_b675febc38364964a49aabe2a66062cf",
        "IPY_MODEL_a806e948e5e24c02a7471685b9d425d5",
        "IPY_MODEL_ca5b0627d164442888b56c1e8e2aaca2"
       ],
       "layout": "IPY_MODEL_1b62665a4276476597ff0af226c445df"
      }
     },
     "eff577b4b8ff4b5bb16049af88ef6cf2": {
      "model_module": "@jupyter-widgets/base",
      "model_module_version": "2.0.0",
      "model_name": "LayoutModel",
      "state": {}
     },
     "f8dc58cfcfd541bd8b3dff19f8fb6299": {
      "model_module": "@jupyter-widgets/controls",
      "model_module_version": "2.0.0",
      "model_name": "HTMLModel",
      "state": {
       "layout": "IPY_MODEL_7560c2f8796d49f197bbe2bd031ad351",
       "style": "IPY_MODEL_06132ea7b38048f6a98c569990b4ecd7",
       "value": "Executing: 100%"
      }
     },
     "f958530776a94dab858fd21486937f5d": {
      "model_module": "@jupyter-widgets/base",
      "model_module_version": "2.0.0",
      "model_name": "LayoutModel",
      "state": {}
     },
     "fa27f122179d4f35bac1d54a4f58e3e4": {
      "model_module": "@jupyter-widgets/base",
      "model_module_version": "2.0.0",
      "model_name": "LayoutModel",
      "state": {}
     },
     "fa3bfedfe9e44c079d9d3f6c959759f3": {
      "model_module": "@jupyter-widgets/base",
      "model_module_version": "2.0.0",
      "model_name": "LayoutModel",
      "state": {}
     },
     "fbd4d4f3809d4e22b9d566c6a2c8a20e": {
      "model_module": "@jupyter-widgets/controls",
      "model_module_version": "2.0.0",
      "model_name": "HTMLStyleModel",
      "state": {
       "description_width": "",
       "font_size": null,
       "text_color": null
      }
     },
     "ff39dc87b40a44aca1bead032878ac06": {
      "model_module": "@jupyter-widgets/base",
      "model_module_version": "2.0.0",
      "model_name": "LayoutModel",
      "state": {}
     },
     "ff439a22ece6494788b7da72bbfa99f2": {
      "model_module": "@jupyter-widgets/controls",
      "model_module_version": "2.0.0",
      "model_name": "HTMLModel",
      "state": {
       "layout": "IPY_MODEL_af74959574f546e99f57cd6915b18d99",
       "style": "IPY_MODEL_a50b1ef805c84a3bb6c924e20fe70f6d",
       "value": " 59/59 [00:38&lt;00:00,  3.31cell/s]"
      }
     }
    },
    "version_major": 2,
    "version_minor": 0
   }
  }
 },
 "nbformat": 4,
 "nbformat_minor": 5
}
