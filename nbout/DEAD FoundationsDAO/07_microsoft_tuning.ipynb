{
 "cells": [
  {
   "cell_type": "code",
   "execution_count": 1,
   "id": "cf98a9e1-f3e0-4c0a-96c1-30f305901246",
   "metadata": {
    "editable": true,
    "execution": {
     "iopub.execute_input": "2024-03-09T07:48:01.247199Z",
     "iopub.status.busy": "2024-03-09T07:48:01.246584Z",
     "iopub.status.idle": "2024-03-09T07:48:03.694830Z",
     "shell.execute_reply": "2024-03-09T07:48:03.694485Z"
    },
    "papermill": {
     "duration": 2.459812,
     "end_time": "2024-03-09T07:48:03.695704",
     "exception": false,
     "start_time": "2024-03-09T07:48:01.235892",
     "status": "completed"
    },
    "slideshow": {
     "slide_type": ""
    },
    "tags": []
   },
   "outputs": [
    {
     "name": "stdout",
     "output_type": "stream",
     "text": [
      "Python version 3.9.18 (main, Oct 24 2023, 09:18:18) \n",
      "[GCC 11.4.0]\n"
     ]
    },
    {
     "name": "stderr",
     "output_type": "stream",
     "text": [
      "2024-03-09 07:48:01.576021: E tensorflow/compiler/xla/stream_executor/cuda/cuda_dnn.cc:9342] Unable to register cuDNN factory: Attempting to register factory for plugin cuDNN when one has already been registered\n",
      "2024-03-09 07:48:01.576045: E tensorflow/compiler/xla/stream_executor/cuda/cuda_fft.cc:609] Unable to register cuFFT factory: Attempting to register factory for plugin cuFFT when one has already been registered\n",
      "2024-03-09 07:48:01.576058: E tensorflow/compiler/xla/stream_executor/cuda/cuda_blas.cc:1518] Unable to register cuBLAS factory: Attempting to register factory for plugin cuBLAS when one has already been registered\n"
     ]
    },
    {
     "name": "stdout",
     "output_type": "stream",
     "text": [
      "11.8 8\n",
      "Ray version: 2.9.1\n"
     ]
    }
   ],
   "source": [
    "from typing import Dict, List, Tuple, Union, Any, Optional\n",
    "\n",
    "import os\n",
    "import sys\n",
    "import time\n",
    "print(\"Python version\", sys.version)\n",
    "\n",
    "# Ignore pandas warnings\n",
    "import warnings\n",
    "warnings.simplefilter(action='ignore', category=FutureWarning)\n",
    "\n",
    "from pathlib import Path\n",
    "\n",
    "import pandas as pd\n",
    "import numpy as np\n",
    "import tensorflow as tf\n",
    "import datetime as dt\n",
    "\n",
    "from tqdm.autonotebook import tqdm\n",
    "\n",
    "import ray\n",
    "from ray import train, tune\n",
    "\n",
    "from src.datasets import daocensus_text\n",
    "\n",
    "%load_ext autoreload\n",
    "%autoreload 2\n",
    "\n",
    "tf.get_logger().setLevel('WARNING')\n",
    "\n",
    "tf.config.list_physical_devices(\"GPU\")\n",
    "sys_details = tf.sysconfig.get_build_info()\n",
    "cuda = sys_details.get(\"cuda_version\", -1)\n",
    "cudnn = sys_details.get(\"cudnn_version\", -1)\n",
    "print(cuda, cudnn)\n",
    "print('Ray version:', ray.__version__)"
   ]
  },
  {
   "cell_type": "code",
   "execution_count": 2,
   "id": "798161a7-5414-4626-9dfb-6d71823bf4c7",
   "metadata": {
    "editable": true,
    "execution": {
     "iopub.execute_input": "2024-03-09T07:48:03.701865Z",
     "iopub.status.busy": "2024-03-09T07:48:03.701630Z",
     "iopub.status.idle": "2024-03-09T07:48:03.724535Z",
     "shell.execute_reply": "2024-03-09T07:48:03.724276Z"
    },
    "papermill": {
     "duration": 0.026574,
     "end_time": "2024-03-09T07:48:03.725318",
     "exception": false,
     "start_time": "2024-03-09T07:48:03.698744",
     "status": "completed"
    },
    "slideshow": {
     "slide_type": ""
    },
    "tags": [
     "parameters"
    ]
   },
   "outputs": [],
   "source": [
    "# Others config\n",
    "SEED: int = 57\n",
    "RAY_RESULTS_PATH: Path = Path('~/ray_results').expanduser()\n",
    "\n",
    "# Dataset config\n",
    "ORG_NAME = 'Decentraland'\n",
    "ORG_PLATFORM = 'snapshot'\n",
    "USE_ORG_NAMES: bool = False\n",
    "CUTOFF_DATE_STR: str = None\n",
    "\n",
    "# Dataset splits config\n",
    "SPLITS_FREQ = 'W-THU' # Split weekly\n",
    "LAST_SPLITS = 10 # Use just last 10 splits\n",
    "SPLITS_NORMALIZE = True\n",
    "\n",
    "# Training config\n",
    "MAX_EPOCHS: int = 200\n",
    "EPOCHS_PER_ITER: int = 5\n",
    "SAMPLES_PER_SPLIT: int = 100\n",
    "OPTIM_METRIC: str = 'map@10'\n",
    "\n",
    "# Eval config\n",
    "TOP_K: List[int] = [5, 10]\n",
    "METRICS: List[str] = [\"recall\", \"ndcg\", \"precision\", \"map\"]"
   ]
  },
  {
   "cell_type": "code",
   "execution_count": 3,
   "id": "def1e869",
   "metadata": {
    "execution": {
     "iopub.execute_input": "2024-03-09T07:48:03.730676Z",
     "iopub.status.busy": "2024-03-09T07:48:03.730544Z",
     "iopub.status.idle": "2024-03-09T07:48:03.750701Z",
     "shell.execute_reply": "2024-03-09T07:48:03.750488Z"
    },
    "papermill": {
     "duration": 0.023979,
     "end_time": "2024-03-09T07:48:03.751466",
     "exception": false,
     "start_time": "2024-03-09T07:48:03.727487",
     "status": "completed"
    },
    "tags": [
     "injected-parameters"
    ]
   },
   "outputs": [],
   "source": [
    "# Parameters\n",
    "ORG_NAME = \"DEAD FoundationsDAO\"\n",
    "ORG_PLATFORM = \"daohaus\"\n",
    "SPLITS_FREQ = \"2d\"\n",
    "SPLITS_NORMALIZE = True\n",
    "LAST_SPLITS = 10\n",
    "USE_ORG_NAMES = True\n",
    "EXECUTION_ID = \"2024-03-08 10:00\"\n",
    "CUTOFF_DATE_STR = \"2021-11-28\"\n"
   ]
  },
  {
   "cell_type": "code",
   "execution_count": 4,
   "id": "cb3db761-9d3b-4a8b-9164-1008f2e8bab5",
   "metadata": {
    "execution": {
     "iopub.execute_input": "2024-03-09T07:48:03.756241Z",
     "iopub.status.busy": "2024-03-09T07:48:03.756118Z",
     "iopub.status.idle": "2024-03-09T07:48:03.773760Z",
     "shell.execute_reply": "2024-03-09T07:48:03.773447Z"
    },
    "papermill": {
     "duration": 0.020818,
     "end_time": "2024-03-09T07:48:03.774425",
     "exception": false,
     "start_time": "2024-03-09T07:48:03.753607",
     "status": "completed"
    },
    "tags": []
   },
   "outputs": [],
   "source": [
    "CUTOFF_DATE = dt.datetime.fromisoformat(CUTOFF_DATE_STR) if CUTOFF_DATE_STR else None"
   ]
  },
  {
   "cell_type": "markdown",
   "id": "ab0ff2f2-bdaa-46eb-87d1-c4481734b8c0",
   "metadata": {
    "papermill": {
     "duration": 0.002215,
     "end_time": "2024-03-09T07:48:03.778831",
     "exception": false,
     "start_time": "2024-03-09T07:48:03.776616",
     "status": "completed"
    },
    "tags": []
   },
   "source": [
    "# Load data"
   ]
  },
  {
   "cell_type": "code",
   "execution_count": 5,
   "id": "765a4892-6a85-40ab-a65d-c0d76b0569b2",
   "metadata": {
    "editable": true,
    "execution": {
     "iopub.execute_input": "2024-03-09T07:48:03.783781Z",
     "iopub.status.busy": "2024-03-09T07:48:03.783564Z",
     "iopub.status.idle": "2024-03-09T07:48:05.819735Z",
     "shell.execute_reply": "2024-03-09T07:48:05.819356Z"
    },
    "papermill": {
     "duration": 2.039688,
     "end_time": "2024-03-09T07:48:05.820612",
     "exception": false,
     "start_time": "2024-03-09T07:48:03.780924",
     "status": "completed"
    },
    "scrolled": true,
    "slideshow": {
     "slide_type": ""
    },
    "tags": []
   },
   "outputs": [
    {
     "data": {
      "text/html": [
       "<div>\n",
       "<style scoped>\n",
       "    .dataframe tbody tr th:only-of-type {\n",
       "        vertical-align: middle;\n",
       "    }\n",
       "\n",
       "    .dataframe tbody tr th {\n",
       "        vertical-align: top;\n",
       "    }\n",
       "\n",
       "    .dataframe thead th {\n",
       "        text-align: right;\n",
       "    }\n",
       "</style>\n",
       "<table border=\"1\" class=\"dataframe\">\n",
       "  <thead>\n",
       "    <tr style=\"text-align: right;\">\n",
       "      <th></th>\n",
       "      <th>platform</th>\n",
       "      <th>name</th>\n",
       "      <th>id</th>\n",
       "      <th>proposal</th>\n",
       "      <th>deployment</th>\n",
       "      <th>platform_vote</th>\n",
       "      <th>voter</th>\n",
       "      <th>date</th>\n",
       "      <th>choice</th>\n",
       "      <th>weight</th>\n",
       "    </tr>\n",
       "  </thead>\n",
       "  <tbody>\n",
       "    <tr>\n",
       "      <th>0</th>\n",
       "      <td>daohaus</td>\n",
       "      <td>DEAD FoundationsDAO</td>\n",
       "      <td>eff6e807-bff7-518c-82e4-6c388182a5fc</td>\n",
       "      <td>3447c17e-1b31-5f05-afb7-bf4f7b93292a</td>\n",
       "      <td>c37abcdd-a36b-51fc-8fa6-2c3ecb780df0</td>\n",
       "      <td>0x1b975a9daf25e7b01e0a6c72d657ff74925327a8-mem...</td>\n",
       "      <td>0x0000000813b34008a225de08a6a61835508c71f9</td>\n",
       "      <td>2021-11-17 19:14:10</td>\n",
       "      <td>1</td>\n",
       "      <td>1.0</td>\n",
       "    </tr>\n",
       "    <tr>\n",
       "      <th>1</th>\n",
       "      <td>daohaus</td>\n",
       "      <td>DEAD FoundationsDAO</td>\n",
       "      <td>1d9222d9-598c-5beb-92e2-8896a0142bdb</td>\n",
       "      <td>58a6ac3d-5b72-5db9-b3af-84118704d120</td>\n",
       "      <td>c37abcdd-a36b-51fc-8fa6-2c3ecb780df0</td>\n",
       "      <td>0x1b975a9daf25e7b01e0a6c72d657ff74925327a8-mem...</td>\n",
       "      <td>0x0000000813b34008a225de08a6a61835508c71f9</td>\n",
       "      <td>2021-11-17 19:14:02</td>\n",
       "      <td>1</td>\n",
       "      <td>1.0</td>\n",
       "    </tr>\n",
       "    <tr>\n",
       "      <th>2</th>\n",
       "      <td>daohaus</td>\n",
       "      <td>DEAD FoundationsDAO</td>\n",
       "      <td>d1fd6dad-5d3e-5178-8007-6e1e9e380a3a</td>\n",
       "      <td>d607ecf5-04f8-53b9-8518-33c2bb09e990</td>\n",
       "      <td>c37abcdd-a36b-51fc-8fa6-2c3ecb780df0</td>\n",
       "      <td>0x1b975a9daf25e7b01e0a6c72d657ff74925327a8-mem...</td>\n",
       "      <td>0x0000000813b34008a225de08a6a61835508c71f9</td>\n",
       "      <td>2021-11-17 19:15:20</td>\n",
       "      <td>1</td>\n",
       "      <td>1.0</td>\n",
       "    </tr>\n",
       "    <tr>\n",
       "      <th>3</th>\n",
       "      <td>daohaus</td>\n",
       "      <td>DEAD FoundationsDAO</td>\n",
       "      <td>92e59584-ff6c-5e1b-8dd7-c9aabf55abbc</td>\n",
       "      <td>94dc6060-d66d-52fe-9c5d-8c7e43979569</td>\n",
       "      <td>c37abcdd-a36b-51fc-8fa6-2c3ecb780df0</td>\n",
       "      <td>0x1b975a9daf25e7b01e0a6c72d657ff74925327a8-mem...</td>\n",
       "      <td>0x001be549fa377710b9e59d57bbdf593ce1e379ca</td>\n",
       "      <td>2021-11-03 21:24:45</td>\n",
       "      <td>1</td>\n",
       "      <td>1.0</td>\n",
       "    </tr>\n",
       "    <tr>\n",
       "      <th>4</th>\n",
       "      <td>daohaus</td>\n",
       "      <td>DEAD FoundationsDAO</td>\n",
       "      <td>28f9d7b6-0656-5038-a99b-9db7201acddd</td>\n",
       "      <td>470cf9e2-b994-5279-8096-87a475e28c44</td>\n",
       "      <td>c37abcdd-a36b-51fc-8fa6-2c3ecb780df0</td>\n",
       "      <td>0x1b975a9daf25e7b01e0a6c72d657ff74925327a8-mem...</td>\n",
       "      <td>0x001be549fa377710b9e59d57bbdf593ce1e379ca</td>\n",
       "      <td>2021-11-03 21:26:15</td>\n",
       "      <td>1</td>\n",
       "      <td>1.0</td>\n",
       "    </tr>\n",
       "    <tr>\n",
       "      <th>...</th>\n",
       "      <td>...</td>\n",
       "      <td>...</td>\n",
       "      <td>...</td>\n",
       "      <td>...</td>\n",
       "      <td>...</td>\n",
       "      <td>...</td>\n",
       "      <td>...</td>\n",
       "      <td>...</td>\n",
       "      <td>...</td>\n",
       "      <td>...</td>\n",
       "    </tr>\n",
       "    <tr>\n",
       "      <th>16596</th>\n",
       "      <td>daohaus</td>\n",
       "      <td>DEAD FoundationsDAO</td>\n",
       "      <td>3e2965f7-21e0-59a7-aa3f-92eca216d8b2</td>\n",
       "      <td>58d065d0-4a9f-53ff-82ed-89d793f9ab1e</td>\n",
       "      <td>c37abcdd-a36b-51fc-8fa6-2c3ecb780df0</td>\n",
       "      <td>0x1b975a9daf25e7b01e0a6c72d657ff74925327a8-mem...</td>\n",
       "      <td>0xffefdcfff613c9bbb9928f6ff44f07c7b562bfdf</td>\n",
       "      <td>2021-07-16 18:53:50</td>\n",
       "      <td>1</td>\n",
       "      <td>1.0</td>\n",
       "    </tr>\n",
       "    <tr>\n",
       "      <th>16597</th>\n",
       "      <td>daohaus</td>\n",
       "      <td>DEAD FoundationsDAO</td>\n",
       "      <td>162eccbd-8397-59b4-95cb-26e997a66a52</td>\n",
       "      <td>02078479-8fb8-5ce7-99cd-8af351f02331</td>\n",
       "      <td>c37abcdd-a36b-51fc-8fa6-2c3ecb780df0</td>\n",
       "      <td>0x1b975a9daf25e7b01e0a6c72d657ff74925327a8-mem...</td>\n",
       "      <td>0xffefdcfff613c9bbb9928f6ff44f07c7b562bfdf</td>\n",
       "      <td>2021-07-17 02:19:45</td>\n",
       "      <td>1</td>\n",
       "      <td>1.0</td>\n",
       "    </tr>\n",
       "    <tr>\n",
       "      <th>16598</th>\n",
       "      <td>daohaus</td>\n",
       "      <td>DEAD FoundationsDAO</td>\n",
       "      <td>d41c87a7-f6cb-5bd8-8f60-cc98535ff7e5</td>\n",
       "      <td>af846563-cee6-5f41-9e33-8f0bdab8ddb2</td>\n",
       "      <td>c37abcdd-a36b-51fc-8fa6-2c3ecb780df0</td>\n",
       "      <td>0x1b975a9daf25e7b01e0a6c72d657ff74925327a8-mem...</td>\n",
       "      <td>0xffefdcfff613c9bbb9928f6ff44f07c7b562bfdf</td>\n",
       "      <td>2021-07-19 01:23:10</td>\n",
       "      <td>1</td>\n",
       "      <td>1.0</td>\n",
       "    </tr>\n",
       "    <tr>\n",
       "      <th>16599</th>\n",
       "      <td>daohaus</td>\n",
       "      <td>DEAD FoundationsDAO</td>\n",
       "      <td>61cc5a24-1a11-537c-869b-19545560a363</td>\n",
       "      <td>313f146b-6064-538c-904f-a791a8293cd0</td>\n",
       "      <td>c37abcdd-a36b-51fc-8fa6-2c3ecb780df0</td>\n",
       "      <td>0x1b975a9daf25e7b01e0a6c72d657ff74925327a8-mem...</td>\n",
       "      <td>0xffefdcfff613c9bbb9928f6ff44f07c7b562bfdf</td>\n",
       "      <td>2021-07-23 01:51:35</td>\n",
       "      <td>1</td>\n",
       "      <td>1.0</td>\n",
       "    </tr>\n",
       "    <tr>\n",
       "      <th>16600</th>\n",
       "      <td>daohaus</td>\n",
       "      <td>DEAD FoundationsDAO</td>\n",
       "      <td>343763d8-cd25-51a2-9c8c-62a56ce9966e</td>\n",
       "      <td>8b432411-a95a-5064-8498-297221194962</td>\n",
       "      <td>c37abcdd-a36b-51fc-8fa6-2c3ecb780df0</td>\n",
       "      <td>0x1b975a9daf25e7b01e0a6c72d657ff74925327a8-mem...</td>\n",
       "      <td>0xffefdcfff613c9bbb9928f6ff44f07c7b562bfdf</td>\n",
       "      <td>2021-07-23 01:51:55</td>\n",
       "      <td>1</td>\n",
       "      <td>1.0</td>\n",
       "    </tr>\n",
       "  </tbody>\n",
       "</table>\n",
       "<p>16601 rows × 10 columns</p>\n",
       "</div>"
      ],
      "text/plain": [
       "      platform                 name                                    id  \\\n",
       "0      daohaus  DEAD FoundationsDAO  eff6e807-bff7-518c-82e4-6c388182a5fc   \n",
       "1      daohaus  DEAD FoundationsDAO  1d9222d9-598c-5beb-92e2-8896a0142bdb   \n",
       "2      daohaus  DEAD FoundationsDAO  d1fd6dad-5d3e-5178-8007-6e1e9e380a3a   \n",
       "3      daohaus  DEAD FoundationsDAO  92e59584-ff6c-5e1b-8dd7-c9aabf55abbc   \n",
       "4      daohaus  DEAD FoundationsDAO  28f9d7b6-0656-5038-a99b-9db7201acddd   \n",
       "...        ...                  ...                                   ...   \n",
       "16596  daohaus  DEAD FoundationsDAO  3e2965f7-21e0-59a7-aa3f-92eca216d8b2   \n",
       "16597  daohaus  DEAD FoundationsDAO  162eccbd-8397-59b4-95cb-26e997a66a52   \n",
       "16598  daohaus  DEAD FoundationsDAO  d41c87a7-f6cb-5bd8-8f60-cc98535ff7e5   \n",
       "16599  daohaus  DEAD FoundationsDAO  61cc5a24-1a11-537c-869b-19545560a363   \n",
       "16600  daohaus  DEAD FoundationsDAO  343763d8-cd25-51a2-9c8c-62a56ce9966e   \n",
       "\n",
       "                                   proposal  \\\n",
       "0      3447c17e-1b31-5f05-afb7-bf4f7b93292a   \n",
       "1      58a6ac3d-5b72-5db9-b3af-84118704d120   \n",
       "2      d607ecf5-04f8-53b9-8518-33c2bb09e990   \n",
       "3      94dc6060-d66d-52fe-9c5d-8c7e43979569   \n",
       "4      470cf9e2-b994-5279-8096-87a475e28c44   \n",
       "...                                     ...   \n",
       "16596  58d065d0-4a9f-53ff-82ed-89d793f9ab1e   \n",
       "16597  02078479-8fb8-5ce7-99cd-8af351f02331   \n",
       "16598  af846563-cee6-5f41-9e33-8f0bdab8ddb2   \n",
       "16599  313f146b-6064-538c-904f-a791a8293cd0   \n",
       "16600  8b432411-a95a-5064-8498-297221194962   \n",
       "\n",
       "                                 deployment  \\\n",
       "0      c37abcdd-a36b-51fc-8fa6-2c3ecb780df0   \n",
       "1      c37abcdd-a36b-51fc-8fa6-2c3ecb780df0   \n",
       "2      c37abcdd-a36b-51fc-8fa6-2c3ecb780df0   \n",
       "3      c37abcdd-a36b-51fc-8fa6-2c3ecb780df0   \n",
       "4      c37abcdd-a36b-51fc-8fa6-2c3ecb780df0   \n",
       "...                                     ...   \n",
       "16596  c37abcdd-a36b-51fc-8fa6-2c3ecb780df0   \n",
       "16597  c37abcdd-a36b-51fc-8fa6-2c3ecb780df0   \n",
       "16598  c37abcdd-a36b-51fc-8fa6-2c3ecb780df0   \n",
       "16599  c37abcdd-a36b-51fc-8fa6-2c3ecb780df0   \n",
       "16600  c37abcdd-a36b-51fc-8fa6-2c3ecb780df0   \n",
       "\n",
       "                                           platform_vote  \\\n",
       "0      0x1b975a9daf25e7b01e0a6c72d657ff74925327a8-mem...   \n",
       "1      0x1b975a9daf25e7b01e0a6c72d657ff74925327a8-mem...   \n",
       "2      0x1b975a9daf25e7b01e0a6c72d657ff74925327a8-mem...   \n",
       "3      0x1b975a9daf25e7b01e0a6c72d657ff74925327a8-mem...   \n",
       "4      0x1b975a9daf25e7b01e0a6c72d657ff74925327a8-mem...   \n",
       "...                                                  ...   \n",
       "16596  0x1b975a9daf25e7b01e0a6c72d657ff74925327a8-mem...   \n",
       "16597  0x1b975a9daf25e7b01e0a6c72d657ff74925327a8-mem...   \n",
       "16598  0x1b975a9daf25e7b01e0a6c72d657ff74925327a8-mem...   \n",
       "16599  0x1b975a9daf25e7b01e0a6c72d657ff74925327a8-mem...   \n",
       "16600  0x1b975a9daf25e7b01e0a6c72d657ff74925327a8-mem...   \n",
       "\n",
       "                                            voter                date choice  \\\n",
       "0      0x0000000813b34008a225de08a6a61835508c71f9 2021-11-17 19:14:10      1   \n",
       "1      0x0000000813b34008a225de08a6a61835508c71f9 2021-11-17 19:14:02      1   \n",
       "2      0x0000000813b34008a225de08a6a61835508c71f9 2021-11-17 19:15:20      1   \n",
       "3      0x001be549fa377710b9e59d57bbdf593ce1e379ca 2021-11-03 21:24:45      1   \n",
       "4      0x001be549fa377710b9e59d57bbdf593ce1e379ca 2021-11-03 21:26:15      1   \n",
       "...                                           ...                 ...    ...   \n",
       "16596  0xffefdcfff613c9bbb9928f6ff44f07c7b562bfdf 2021-07-16 18:53:50      1   \n",
       "16597  0xffefdcfff613c9bbb9928f6ff44f07c7b562bfdf 2021-07-17 02:19:45      1   \n",
       "16598  0xffefdcfff613c9bbb9928f6ff44f07c7b562bfdf 2021-07-19 01:23:10      1   \n",
       "16599  0xffefdcfff613c9bbb9928f6ff44f07c7b562bfdf 2021-07-23 01:51:35      1   \n",
       "16600  0xffefdcfff613c9bbb9928f6ff44f07c7b562bfdf 2021-07-23 01:51:55      1   \n",
       "\n",
       "       weight  \n",
       "0         1.0  \n",
       "1         1.0  \n",
       "2         1.0  \n",
       "3         1.0  \n",
       "4         1.0  \n",
       "...       ...  \n",
       "16596     1.0  \n",
       "16597     1.0  \n",
       "16598     1.0  \n",
       "16599     1.0  \n",
       "16600     1.0  \n",
       "\n",
       "[16601 rows x 10 columns]"
      ]
     },
     "metadata": {},
     "output_type": "display_data"
    },
    {
     "name": "stdout",
     "output_type": "stream",
     "text": [
      "Warning, removing 16601 votes without proposal\n",
      "<class 'pandas.core.frame.DataFrame'>\n",
      "Int64Index: 16601 entries, 0 to 16600\n",
      "Data columns (total 10 columns):\n",
      " #   Column         Non-Null Count  Dtype         \n",
      "---  ------         --------------  -----         \n",
      " 0   platform       16601 non-null  object        \n",
      " 1   name           16601 non-null  object        \n",
      " 2   id             16601 non-null  object        \n",
      " 3   proposal       16601 non-null  category      \n",
      " 4   deployment     16601 non-null  object        \n",
      " 5   platform_vote  16601 non-null  object        \n",
      " 6   voter          16601 non-null  category      \n",
      " 7   date           16601 non-null  datetime64[ns]\n",
      " 8   choice         16601 non-null  object        \n",
      " 9   weight         16601 non-null  float64       \n",
      "dtypes: category(2), datetime64[ns](1), float64(1), object(6)\n",
      "memory usage: 1.3+ MB\n",
      "None\n",
      "<class 'pandas.core.frame.DataFrame'>\n",
      "Int64Index: 5034 entries, 0 to 5033\n",
      "Data columns (total 13 columns):\n",
      " #   Column               Non-Null Count  Dtype         \n",
      "---  ------               --------------  -----         \n",
      " 0   platform             5034 non-null   object        \n",
      " 1   name                 5034 non-null   object        \n",
      " 2   platform_deployment  5034 non-null   object        \n",
      " 3   id                   5034 non-null   category      \n",
      " 4   deployment           5034 non-null   object        \n",
      " 5   platform_proposal    5034 non-null   object        \n",
      " 6   author               5034 non-null   category      \n",
      " 7   date                 5034 non-null   datetime64[ns]\n",
      " 8   title                5034 non-null   object        \n",
      " 9   description          752 non-null    object        \n",
      " 10  start                5034 non-null   datetime64[ns]\n",
      " 11  end                  5034 non-null   datetime64[ns]\n",
      " 12  votes_count          5034 non-null   int64         \n",
      "dtypes: category(2), datetime64[ns](3), int64(1), object(7)\n",
      "memory usage: 562.5+ KB\n",
      "None\n"
     ]
    }
   ],
   "source": [
    "# dfptext = pd.read_csv('./snapshot_proposals.csv')[['proposal_id', 'title', 'description', 'start', 'end']]\n",
    "# dfv, dfp = daocensus.get(\"./data/daos-census\", ORG_NAME, 'snapshot')\n",
    "# dfv['voter'] = dfv['voter'].astype('str')\n",
    "# dfp = dfp.merge(dfptext, how='left', left_on='platform_proposal', right_on='proposal_id')\n",
    "# dfp[['start', 'end']] = dfp[['start', 'end']].astype('datetime64')\n",
    "\n",
    "dfv, dfp = daocensus_text.get(\"./data/daos-census-text\", ORG_NAME, ORG_PLATFORM, use_org_names=USE_ORG_NAMES, cutoff_date=CUTOFF_DATE)\n",
    "print(dfv.info())\n",
    "print(dfp.info())"
   ]
  },
  {
   "cell_type": "markdown",
   "id": "df339c08-4f99-4933-886c-6ab774f09e63",
   "metadata": {
    "papermill": {
     "duration": 0.002935,
     "end_time": "2024-03-09T07:48:05.826400",
     "exception": false,
     "start_time": "2024-03-09T07:48:05.823465",
     "status": "completed"
    },
    "tags": []
   },
   "source": [
    "## Transform data"
   ]
  },
  {
   "cell_type": "code",
   "execution_count": 6,
   "id": "4b003927-cfab-4f9a-91f8-1376f038f82e",
   "metadata": {
    "execution": {
     "iopub.execute_input": "2024-03-09T07:48:05.831645Z",
     "iopub.status.busy": "2024-03-09T07:48:05.831539Z",
     "iopub.status.idle": "2024-03-09T07:48:05.859151Z",
     "shell.execute_reply": "2024-03-09T07:48:05.858908Z"
    },
    "papermill": {
     "duration": 0.031149,
     "end_time": "2024-03-09T07:48:05.859847",
     "exception": false,
     "start_time": "2024-03-09T07:48:05.828698",
     "status": "completed"
    },
    "tags": []
   },
   "outputs": [
    {
     "data": {
      "text/html": [
       "<div>\n",
       "<style scoped>\n",
       "    .dataframe tbody tr th:only-of-type {\n",
       "        vertical-align: middle;\n",
       "    }\n",
       "\n",
       "    .dataframe tbody tr th {\n",
       "        vertical-align: top;\n",
       "    }\n",
       "\n",
       "    .dataframe thead th {\n",
       "        text-align: right;\n",
       "    }\n",
       "</style>\n",
       "<table border=\"1\" class=\"dataframe\">\n",
       "  <thead>\n",
       "    <tr style=\"text-align: right;\">\n",
       "      <th></th>\n",
       "      <th>userID</th>\n",
       "      <th>itemID</th>\n",
       "      <th>timestamp</th>\n",
       "      <th>rating</th>\n",
       "    </tr>\n",
       "  </thead>\n",
       "  <tbody>\n",
       "    <tr>\n",
       "      <th>0</th>\n",
       "      <td>0x0000000813b34008a225de08a6a61835508c71f9</td>\n",
       "      <td>3447c17e-1b31-5f05-afb7-bf4f7b93292a</td>\n",
       "      <td>2021-11-17 19:14:10</td>\n",
       "      <td>1</td>\n",
       "    </tr>\n",
       "    <tr>\n",
       "      <th>1</th>\n",
       "      <td>0x0000000813b34008a225de08a6a61835508c71f9</td>\n",
       "      <td>58a6ac3d-5b72-5db9-b3af-84118704d120</td>\n",
       "      <td>2021-11-17 19:14:02</td>\n",
       "      <td>1</td>\n",
       "    </tr>\n",
       "    <tr>\n",
       "      <th>2</th>\n",
       "      <td>0x0000000813b34008a225de08a6a61835508c71f9</td>\n",
       "      <td>d607ecf5-04f8-53b9-8518-33c2bb09e990</td>\n",
       "      <td>2021-11-17 19:15:20</td>\n",
       "      <td>1</td>\n",
       "    </tr>\n",
       "    <tr>\n",
       "      <th>3</th>\n",
       "      <td>0x001be549fa377710b9e59d57bbdf593ce1e379ca</td>\n",
       "      <td>94dc6060-d66d-52fe-9c5d-8c7e43979569</td>\n",
       "      <td>2021-11-03 21:24:45</td>\n",
       "      <td>1</td>\n",
       "    </tr>\n",
       "    <tr>\n",
       "      <th>4</th>\n",
       "      <td>0x001be549fa377710b9e59d57bbdf593ce1e379ca</td>\n",
       "      <td>470cf9e2-b994-5279-8096-87a475e28c44</td>\n",
       "      <td>2021-11-03 21:26:15</td>\n",
       "      <td>1</td>\n",
       "    </tr>\n",
       "  </tbody>\n",
       "</table>\n",
       "</div>"
      ],
      "text/plain": [
       "                                       userID  \\\n",
       "0  0x0000000813b34008a225de08a6a61835508c71f9   \n",
       "1  0x0000000813b34008a225de08a6a61835508c71f9   \n",
       "2  0x0000000813b34008a225de08a6a61835508c71f9   \n",
       "3  0x001be549fa377710b9e59d57bbdf593ce1e379ca   \n",
       "4  0x001be549fa377710b9e59d57bbdf593ce1e379ca   \n",
       "\n",
       "                                 itemID           timestamp  rating  \n",
       "0  3447c17e-1b31-5f05-afb7-bf4f7b93292a 2021-11-17 19:14:10       1  \n",
       "1  58a6ac3d-5b72-5db9-b3af-84118704d120 2021-11-17 19:14:02       1  \n",
       "2  d607ecf5-04f8-53b9-8518-33c2bb09e990 2021-11-17 19:15:20       1  \n",
       "3  94dc6060-d66d-52fe-9c5d-8c7e43979569 2021-11-03 21:24:45       1  \n",
       "4  470cf9e2-b994-5279-8096-87a475e28c44 2021-11-03 21:26:15       1  "
      ]
     },
     "execution_count": 6,
     "metadata": {},
     "output_type": "execute_result"
    }
   ],
   "source": [
    "def to_microsoft(dfv):\n",
    "    df = dfv[['voter', 'proposal', 'date']].rename(columns={\n",
    "        'voter': 'userID',\n",
    "        'proposal': 'itemID',\n",
    "        'date': 'timestamp',\n",
    "    })\n",
    "    df['itemID'] = df['itemID'].astype('str')\n",
    "    df['rating'] = 1\n",
    "    return df\n",
    "\n",
    "df = to_microsoft(dfv)\n",
    "df.head()"
   ]
  },
  {
   "cell_type": "markdown",
   "id": "8faab8dc-8192-47b5-96df-7458bd890ffb",
   "metadata": {
    "papermill": {
     "duration": 0.002436,
     "end_time": "2024-03-09T07:48:05.864780",
     "exception": false,
     "start_time": "2024-03-09T07:48:05.862344",
     "status": "completed"
    },
    "tags": []
   },
   "source": [
    "# Split data\n",
    "\n",
    "Each proposal remains open for a few days, our environment is different of a movies recommender system. For this reason, we will use a TimeSeriesSplit instead of a K-Fold to cross-validate the model.\n",
    "\n",
    "![](https://scikit-learn.org/stable/_images/sphx_glr_plot_cv_indices_013.png)\n",
    "\n",
    "El TimeSeriesSplit de scikit-learn no nos vale porque el número de elementos en cada split es el mismo, pero el tamaño del intervalo, no. Como queremos simular un comportamiento realista, haremos el split dividiendo por intervalos de igual longitud."
   ]
  },
  {
   "cell_type": "code",
   "execution_count": 7,
   "id": "3f661ac7-df23-49ad-9671-cfa65d4b44d6",
   "metadata": {
    "execution": {
     "iopub.execute_input": "2024-03-09T07:48:05.870085Z",
     "iopub.status.busy": "2024-03-09T07:48:05.869982Z",
     "iopub.status.idle": "2024-03-09T07:48:06.046655Z",
     "shell.execute_reply": "2024-03-09T07:48:06.046226Z"
    },
    "papermill": {
     "duration": 0.180724,
     "end_time": "2024-03-09T07:48:06.047812",
     "exception": false,
     "start_time": "2024-03-09T07:48:05.867088",
     "status": "completed"
    },
    "tags": []
   },
   "outputs": [],
   "source": [
    "from recommenders.evaluation.python_evaluation import metrics as metrics_dict"
   ]
  },
  {
   "cell_type": "code",
   "execution_count": 8,
   "id": "445d9909-609a-4cf3-8e24-6fa36946a375",
   "metadata": {
    "editable": true,
    "execution": {
     "iopub.execute_input": "2024-03-09T07:48:06.054432Z",
     "iopub.status.busy": "2024-03-09T07:48:06.054277Z",
     "iopub.status.idle": "2024-03-09T07:48:06.892501Z",
     "shell.execute_reply": "2024-03-09T07:48:06.892164Z"
    },
    "papermill": {
     "duration": 0.84248,
     "end_time": "2024-03-09T07:48:06.893369",
     "exception": false,
     "start_time": "2024-03-09T07:48:06.050889",
     "status": "completed"
    },
    "slideshow": {
     "slide_type": ""
    },
    "tags": []
   },
   "outputs": [
    {
     "name": "stdout",
     "output_type": "stream",
     "text": [
      "Split 0, train from: 2020-11-25 to 2021-11-05, test from: 2021-11-06 to 2021-11-06\n",
      "  t: 2021-11-06 00:00:00\n",
      "  len(train): 9194, len(test): 11\n",
      "  users(train): 1631, users(test): 7\n",
      "\n",
      "  highest possible recall@5:\t1.0000\n",
      "  highest possible ndcg@5:\t1.0000\n",
      "  highest possible precision@5:\t0.3143\n",
      "  highest possible map@5:\t1.0000\n",
      "------------------------------\n",
      "Split 1, train from: 2020-11-25 to 2021-11-07, test from: 2021-11-08 to 2021-11-09\n",
      "  t: 2021-11-08 00:00:00\n",
      "  len(train): 9485, len(test): 65\n",
      "  users(train): 1676, users(test): 17\n",
      "\n",
      "  highest possible recall@5:\t0.9398\n",
      "  highest possible ndcg@5:\t1.0000\n",
      "  highest possible precision@5:\t0.4000\n",
      "  highest possible map@5:\t0.9398\n",
      "------------------------------\n",
      "Split 2, train from: 2020-11-25 to 2021-11-09, test from: 2021-11-10 to 2021-11-11\n",
      "  t: 2021-11-10 00:00:00\n",
      "  len(train): 9763, len(test): 66\n",
      "  users(train): 1726, users(test): 13\n",
      "\n",
      "  highest possible recall@5:\t0.9028\n",
      "  highest possible ndcg@5:\t1.0000\n",
      "  highest possible precision@5:\t0.3538\n",
      "  highest possible map@5:\t0.9028\n",
      "------------------------------\n",
      "Split 3, train from: 2020-11-25 to 2021-11-11, test from: 2021-11-12 to 2021-11-13\n",
      "  t: 2021-11-12 00:00:00\n",
      "  len(train): 10162, len(test): 73\n",
      "  users(train): 1795, users(test): 20\n",
      "\n",
      "  highest possible recall@5:\t0.9262\n",
      "  highest possible ndcg@5:\t1.0000\n",
      "  highest possible precision@5:\t0.3400\n",
      "  highest possible map@5:\t0.9262\n",
      "------------------------------\n",
      "Split 4, train from: 2020-11-25 to 2021-11-13, test from: 2021-11-14 to 2021-11-15\n",
      "  t: 2021-11-14 00:00:00\n",
      "  len(train): 10945, len(test): 203\n",
      "  users(train): 1902, users(test): 27\n",
      "\n"
     ]
    },
    {
     "name": "stdout",
     "output_type": "stream",
     "text": [
      "  highest possible recall@5:\t0.9115\n",
      "  highest possible ndcg@5:\t1.0000\n",
      "  highest possible precision@5:\t0.3630\n",
      "  highest possible map@5:\t0.9115\n",
      "------------------------------\n",
      "Split 5, train from: 2020-11-25 to 2021-11-15, test from: 2021-11-16 to 2021-11-17\n",
      "  t: 2021-11-16 00:00:00\n",
      "  len(train): 12013, len(test): 93\n",
      "  users(train): 2113, users(test): 26\n",
      "\n",
      "  highest possible recall@5:\t0.9647\n",
      "  highest possible ndcg@5:\t1.0000\n",
      "  highest possible precision@5:\t0.2923\n",
      "  highest possible map@5:\t0.9647\n",
      "------------------------------\n",
      "Split 6, train from: 2020-11-25 to 2021-11-17, test from: 2021-11-18 to 2021-11-19\n",
      "  t: 2021-11-18 00:00:00\n",
      "  len(train): 12705, len(test): 118\n",
      "  users(train): 2251, users(test): 32\n",
      "\n",
      "  highest possible recall@5:\t0.9337\n",
      "  highest possible ndcg@5:\t1.0000\n",
      "  highest possible precision@5:\t0.3812\n",
      "  highest possible map@5:\t0.9337\n",
      "------------------------------\n",
      "Split 7, train from: 2020-11-25 to 2021-11-19, test from: 2021-11-20 to 2021-11-21\n",
      "  t: 2021-11-20 00:00:00\n",
      "  len(train): 13774, len(test): 38\n",
      "  users(train): 2476, users(test): 16\n",
      "\n",
      "  highest possible recall@5:\t0.9549\n",
      "  highest possible ndcg@5:\t1.0000\n",
      "  highest possible precision@5:\t0.3125\n",
      "  highest possible map@5:\t0.9549\n",
      "------------------------------\n",
      "Split 8, train from: 2020-11-25 to 2021-11-21, test from: 2021-11-22 to 2021-11-23\n",
      "  t: 2021-11-22 00:00:00\n",
      "  len(train): 14692, len(test): 63\n",
      "  users(train): 2679, users(test): 27\n",
      "\n"
     ]
    },
    {
     "name": "stdout",
     "output_type": "stream",
     "text": [
      "  highest possible recall@5:\t0.9693\n",
      "  highest possible ndcg@5:\t1.0000\n",
      "  highest possible precision@5:\t0.2889\n",
      "  highest possible map@5:\t0.9693\n",
      "------------------------------\n",
      "Split 9, train from: 2020-11-25 to 2021-11-23, test from: 2021-11-24 to 2021-11-25\n",
      "  t: 2021-11-24 00:00:00\n",
      "  len(train): 15538, len(test): 27\n",
      "  users(train): 2888, users(test): 18\n",
      "\n",
      "  highest possible recall@5:\t1.0000\n",
      "  highest possible ndcg@5:\t1.0000\n",
      "  highest possible precision@5:\t0.3000\n",
      "  highest possible map@5:\t1.0000\n",
      "------------------------------\n"
     ]
    }
   ],
   "source": [
    "from src.model_selection import timeFreqSplitCurrent, timeIntervalSplitCurrent\n",
    "\n",
    "# max_train_prev = df['timestamp'].min().date()\n",
    "# N_SPLITS = 10; SKIP_SPLIT = 0\n",
    "# folds = list(timeIntervalSplitCurrent(df, N_SPLITS, dfp, skip=SKIP_SPLIT, remove_not_in_train_col='userID', return_open=True))\n",
    "folds = list(timeFreqSplitCurrent(df, SPLITS_FREQ, dfp, return_open=True, remove_not_in_train_col='userID'))[-LAST_SPLITS:]\n",
    "for i, (dftrain, dftest, t, open_proposals) in enumerate(folds):\n",
    "    min_train = dftrain['timestamp'].min().date()\n",
    "    max_train = dftrain['timestamp'].max().date()\n",
    "    min_test  = dftest['timestamp'].min().date()\n",
    "    max_test  = dftest['timestamp'].max().date()\n",
    "\n",
    "    train_users = len(set(dftrain['userID']))\n",
    "    test_users = len(set(dftest['userID']))\n",
    "    \n",
    "    print(f\"Split {i}, train from: {min_train} to {max_train}, test from: {min_test} to {max_test}\")\n",
    "    print(f\"  t: {t}\")\n",
    "    print(f\"  len(train): {len(dftrain)}, len(test): {len(dftest)}\")\n",
    "    print(f\"  users(train): {train_users}, users(test): {test_users}\")\n",
    "\n",
    "    print()\n",
    "    dftest['prediction'] = 1\n",
    "    for m in METRICS:\n",
    "        f = metrics_dict[f'{m}_at_k']\n",
    "        print(f\"  highest possible {m}@{TOP_K[0]}:\\t{f(dftest, dftest, k=TOP_K[0], relevancy_method='top_k'):.4f}\")\n",
    "\n",
    "    print(\"-\"*30)"
   ]
  },
  {
   "cell_type": "markdown",
   "id": "5c881c43-d308-40ff-b6b4-d54458e1bc32",
   "metadata": {
    "papermill": {
     "duration": 0.002881,
     "end_time": "2024-03-09T07:48:06.899227",
     "exception": false,
     "start_time": "2024-03-09T07:48:06.896346",
     "status": "completed"
    },
    "tags": []
   },
   "source": [
    "# Defining training"
   ]
  },
  {
   "cell_type": "code",
   "execution_count": 9,
   "id": "9a502e2d-3398-405f-9029-d3abc69033dc",
   "metadata": {
    "execution": {
     "iopub.execute_input": "2024-03-09T07:48:06.904876Z",
     "iopub.status.busy": "2024-03-09T07:48:06.904715Z",
     "iopub.status.idle": "2024-03-09T07:48:07.078895Z",
     "shell.execute_reply": "2024-03-09T07:48:07.078597Z"
    },
    "papermill": {
     "duration": 0.17829,
     "end_time": "2024-03-09T07:48:07.079995",
     "exception": false,
     "start_time": "2024-03-09T07:48:06.901705",
     "status": "completed"
    },
    "tags": []
   },
   "outputs": [],
   "source": [
    "# from recommenders.models.deeprec.models.graphrec.lightgcn import LightGCN\n",
    "from src.models import LightGCNCustom\n",
    "from recommenders.utils.python_utils import get_top_k_scored_items"
   ]
  },
  {
   "cell_type": "markdown",
   "id": "923adb82-9733-4e21-a378-7263c5532353",
   "metadata": {
    "papermill": {
     "duration": 0.002996,
     "end_time": "2024-03-09T07:48:07.086035",
     "exception": false,
     "start_time": "2024-03-09T07:48:07.083039",
     "status": "completed"
    },
    "tags": []
   },
   "source": [
    "## Small test of `LightGCNCustom`"
   ]
  },
  {
   "cell_type": "code",
   "execution_count": 10,
   "id": "41d1cf90-bd11-4a87-b0aa-bf0e25d559af",
   "metadata": {
    "execution": {
     "iopub.execute_input": "2024-03-09T07:48:07.091723Z",
     "iopub.status.busy": "2024-03-09T07:48:07.091596Z",
     "iopub.status.idle": "2024-03-09T07:48:07.118313Z",
     "shell.execute_reply": "2024-03-09T07:48:07.118070Z"
    },
    "papermill": {
     "duration": 0.030604,
     "end_time": "2024-03-09T07:48:07.119145",
     "exception": false,
     "start_time": "2024-03-09T07:48:07.088541",
     "status": "completed"
    },
    "tags": []
   },
   "outputs": [],
   "source": [
    "from recommenders.models.deeprec.DataModel.ImplicitCF import ImplicitCF\n",
    "from recommenders.models.deeprec.deeprec_utils import prepare_hparams"
   ]
  },
  {
   "cell_type": "code",
   "execution_count": 11,
   "id": "0e57c58e-3091-4357-969a-c7bafedd29c1",
   "metadata": {
    "execution": {
     "iopub.execute_input": "2024-03-09T07:48:07.124869Z",
     "iopub.status.busy": "2024-03-09T07:48:07.124724Z",
     "iopub.status.idle": "2024-03-09T07:48:08.096405Z",
     "shell.execute_reply": "2024-03-09T07:48:08.095982Z"
    },
    "papermill": {
     "duration": 0.975822,
     "end_time": "2024-03-09T07:48:08.097494",
     "exception": false,
     "start_time": "2024-03-09T07:48:07.121672",
     "status": "completed"
    },
    "tags": []
   },
   "outputs": [
    {
     "name": "stdout",
     "output_type": "stream",
     "text": [
      "items: 4942 user: 2888\n"
     ]
    },
    {
     "name": "stdout",
     "output_type": "stream",
     "text": [
      "Already create adjacency matrix.\n",
      "Already normalize adjacency matrix.\n",
      "Using xavier initialization.\n"
     ]
    }
   ],
   "source": [
    "hparams = prepare_hparams(\n",
    "    model_type='lightgcn',\n",
    "    n_layers=3,\n",
    "    batch_size=512,\n",
    "    embed_size=64,\n",
    "    epochs=2,\n",
    "    learning_rate=0.001,\n",
    "    decay=0.001,\n",
    "    metrics=[\"recall\", \"ndcg\", \"precision\", \"map\"],\n",
    "    eval_epoch=2,\n",
    "    top_k=TOP_K[0],\n",
    "    save_model=False,\n",
    "    MODEL_DIR='./data/model/lightgcn/',\n",
    ")\n",
    "dataloader = ImplicitCF(train=folds[-1][0], test=folds[-1][1], seed=SEED)\n",
    "print(\"items:\", dataloader.n_items, \"user:\", dataloader.n_users)\n",
    "model = LightGCNCustom(data=dataloader, hparams=hparams)"
   ]
  },
  {
   "cell_type": "code",
   "execution_count": 12,
   "id": "3fe49e83-f291-4383-97c2-167a706ae717",
   "metadata": {
    "execution": {
     "iopub.execute_input": "2024-03-09T07:48:08.104668Z",
     "iopub.status.busy": "2024-03-09T07:48:08.104479Z",
     "iopub.status.idle": "2024-03-09T07:48:08.909861Z",
     "shell.execute_reply": "2024-03-09T07:48:08.909488Z"
    },
    "papermill": {
     "duration": 0.809871,
     "end_time": "2024-03-09T07:48:08.910764",
     "exception": false,
     "start_time": "2024-03-09T07:48:08.100893",
     "status": "completed"
    },
    "tags": []
   },
   "outputs": [
    {
     "name": "stdout",
     "output_type": "stream",
     "text": [
      "Epoch 1 (train)0.2s: train loss = 0.68901 = (mf)0.68895 + (embed)0.00006\n"
     ]
    },
    {
     "name": "stdout",
     "output_type": "stream",
     "text": [
      "Epoch 2 (train)0.1s + (eval)0.5s: train loss = 0.66749 = (mf)0.66736 + (embed)0.00013, recall = 0.05556, ndcg = 0.05556, precision = 0.01111, map = 0.05556\n"
     ]
    }
   ],
   "source": [
    "model.fit()"
   ]
  },
  {
   "cell_type": "code",
   "execution_count": 13,
   "id": "a12ab695-94f8-431e-8a7f-03bf17f2fa1e",
   "metadata": {
    "execution": {
     "iopub.execute_input": "2024-03-09T07:48:08.917729Z",
     "iopub.status.busy": "2024-03-09T07:48:08.917580Z",
     "iopub.status.idle": "2024-03-09T07:48:08.955257Z",
     "shell.execute_reply": "2024-03-09T07:48:08.955009Z"
    },
    "papermill": {
     "duration": 0.041954,
     "end_time": "2024-03-09T07:48:08.956089",
     "exception": false,
     "start_time": "2024-03-09T07:48:08.914135",
     "status": "completed"
    },
    "tags": []
   },
   "outputs": [
    {
     "data": {
      "text/plain": [
       "[0.05555555555555555,\n",
       " 0.05555555555555555,\n",
       " 0.011111111111111112,\n",
       " 0.05555555555555555]"
      ]
     },
     "execution_count": 13,
     "metadata": {},
     "output_type": "execute_result"
    }
   ],
   "source": [
    "model.run_eval()"
   ]
  },
  {
   "cell_type": "code",
   "execution_count": 14,
   "id": "2b131c2d-6df2-4292-8f12-caaf409562ab",
   "metadata": {
    "execution": {
     "iopub.execute_input": "2024-03-09T07:48:08.962459Z",
     "iopub.status.busy": "2024-03-09T07:48:08.962352Z",
     "iopub.status.idle": "2024-03-09T07:48:08.993724Z",
     "shell.execute_reply": "2024-03-09T07:48:08.993478Z"
    },
    "papermill": {
     "duration": 0.035607,
     "end_time": "2024-03-09T07:48:08.994597",
     "exception": false,
     "start_time": "2024-03-09T07:48:08.958990",
     "status": "completed"
    },
    "tags": []
   },
   "outputs": [
    {
     "data": {
      "text/html": [
       "<div>\n",
       "<style scoped>\n",
       "    .dataframe tbody tr th:only-of-type {\n",
       "        vertical-align: middle;\n",
       "    }\n",
       "\n",
       "    .dataframe tbody tr th {\n",
       "        vertical-align: top;\n",
       "    }\n",
       "\n",
       "    .dataframe thead th {\n",
       "        text-align: right;\n",
       "    }\n",
       "</style>\n",
       "<table border=\"1\" class=\"dataframe\">\n",
       "  <thead>\n",
       "    <tr style=\"text-align: right;\">\n",
       "      <th></th>\n",
       "      <th>userID</th>\n",
       "      <th>itemID</th>\n",
       "      <th>prediction</th>\n",
       "    </tr>\n",
       "  </thead>\n",
       "  <tbody>\n",
       "    <tr>\n",
       "      <th>0</th>\n",
       "      <td>74</td>\n",
       "      <td>1355</td>\n",
       "      <td>0.119852</td>\n",
       "    </tr>\n",
       "    <tr>\n",
       "      <th>1</th>\n",
       "      <td>74</td>\n",
       "      <td>86</td>\n",
       "      <td>0.109300</td>\n",
       "    </tr>\n",
       "    <tr>\n",
       "      <th>2</th>\n",
       "      <td>74</td>\n",
       "      <td>1220</td>\n",
       "      <td>0.095787</td>\n",
       "    </tr>\n",
       "    <tr>\n",
       "      <th>3</th>\n",
       "      <td>921</td>\n",
       "      <td>201</td>\n",
       "      <td>0.434024</td>\n",
       "    </tr>\n",
       "    <tr>\n",
       "      <th>4</th>\n",
       "      <td>921</td>\n",
       "      <td>1272</td>\n",
       "      <td>0.279984</td>\n",
       "    </tr>\n",
       "    <tr>\n",
       "      <th>5</th>\n",
       "      <td>921</td>\n",
       "      <td>125</td>\n",
       "      <td>0.210201</td>\n",
       "    </tr>\n",
       "    <tr>\n",
       "      <th>6</th>\n",
       "      <td>1061</td>\n",
       "      <td>65</td>\n",
       "      <td>0.264007</td>\n",
       "    </tr>\n",
       "    <tr>\n",
       "      <th>7</th>\n",
       "      <td>1061</td>\n",
       "      <td>201</td>\n",
       "      <td>0.263679</td>\n",
       "    </tr>\n",
       "    <tr>\n",
       "      <th>8</th>\n",
       "      <td>1061</td>\n",
       "      <td>64</td>\n",
       "      <td>0.238756</td>\n",
       "    </tr>\n",
       "    <tr>\n",
       "      <th>9</th>\n",
       "      <td>1165</td>\n",
       "      <td>201</td>\n",
       "      <td>0.356522</td>\n",
       "    </tr>\n",
       "    <tr>\n",
       "      <th>10</th>\n",
       "      <td>1165</td>\n",
       "      <td>1272</td>\n",
       "      <td>0.237893</td>\n",
       "    </tr>\n",
       "    <tr>\n",
       "      <th>11</th>\n",
       "      <td>1165</td>\n",
       "      <td>125</td>\n",
       "      <td>0.173761</td>\n",
       "    </tr>\n",
       "    <tr>\n",
       "      <th>12</th>\n",
       "      <td>1455</td>\n",
       "      <td>47</td>\n",
       "      <td>0.029766</td>\n",
       "    </tr>\n",
       "    <tr>\n",
       "      <th>13</th>\n",
       "      <td>1455</td>\n",
       "      <td>1220</td>\n",
       "      <td>0.023072</td>\n",
       "    </tr>\n",
       "    <tr>\n",
       "      <th>14</th>\n",
       "      <td>1455</td>\n",
       "      <td>87</td>\n",
       "      <td>0.021635</td>\n",
       "    </tr>\n",
       "    <tr>\n",
       "      <th>15</th>\n",
       "      <td>1650</td>\n",
       "      <td>4709</td>\n",
       "      <td>0.019806</td>\n",
       "    </tr>\n",
       "    <tr>\n",
       "      <th>16</th>\n",
       "      <td>1650</td>\n",
       "      <td>4668</td>\n",
       "      <td>0.016332</td>\n",
       "    </tr>\n",
       "    <tr>\n",
       "      <th>17</th>\n",
       "      <td>1650</td>\n",
       "      <td>1570</td>\n",
       "      <td>0.013323</td>\n",
       "    </tr>\n",
       "    <tr>\n",
       "      <th>18</th>\n",
       "      <td>1813</td>\n",
       "      <td>1557</td>\n",
       "      <td>0.024107</td>\n",
       "    </tr>\n",
       "    <tr>\n",
       "      <th>19</th>\n",
       "      <td>1813</td>\n",
       "      <td>1763</td>\n",
       "      <td>0.018994</td>\n",
       "    </tr>\n",
       "    <tr>\n",
       "      <th>20</th>\n",
       "      <td>1813</td>\n",
       "      <td>1220</td>\n",
       "      <td>0.015837</td>\n",
       "    </tr>\n",
       "    <tr>\n",
       "      <th>21</th>\n",
       "      <td>1823</td>\n",
       "      <td>1220</td>\n",
       "      <td>0.109972</td>\n",
       "    </tr>\n",
       "    <tr>\n",
       "      <th>22</th>\n",
       "      <td>1823</td>\n",
       "      <td>47</td>\n",
       "      <td>0.109339</td>\n",
       "    </tr>\n",
       "    <tr>\n",
       "      <th>23</th>\n",
       "      <td>1823</td>\n",
       "      <td>87</td>\n",
       "      <td>0.090938</td>\n",
       "    </tr>\n",
       "    <tr>\n",
       "      <th>24</th>\n",
       "      <td>1996</td>\n",
       "      <td>65</td>\n",
       "      <td>0.025843</td>\n",
       "    </tr>\n",
       "    <tr>\n",
       "      <th>25</th>\n",
       "      <td>1996</td>\n",
       "      <td>1557</td>\n",
       "      <td>0.022063</td>\n",
       "    </tr>\n",
       "    <tr>\n",
       "      <th>26</th>\n",
       "      <td>1996</td>\n",
       "      <td>1220</td>\n",
       "      <td>0.019761</td>\n",
       "    </tr>\n",
       "    <tr>\n",
       "      <th>27</th>\n",
       "      <td>2004</td>\n",
       "      <td>65</td>\n",
       "      <td>0.230532</td>\n",
       "    </tr>\n",
       "    <tr>\n",
       "      <th>28</th>\n",
       "      <td>2004</td>\n",
       "      <td>201</td>\n",
       "      <td>0.223101</td>\n",
       "    </tr>\n",
       "    <tr>\n",
       "      <th>29</th>\n",
       "      <td>2004</td>\n",
       "      <td>64</td>\n",
       "      <td>0.204543</td>\n",
       "    </tr>\n",
       "    <tr>\n",
       "      <th>30</th>\n",
       "      <td>2006</td>\n",
       "      <td>201</td>\n",
       "      <td>0.102964</td>\n",
       "    </tr>\n",
       "    <tr>\n",
       "      <th>31</th>\n",
       "      <td>2006</td>\n",
       "      <td>65</td>\n",
       "      <td>0.097775</td>\n",
       "    </tr>\n",
       "    <tr>\n",
       "      <th>32</th>\n",
       "      <td>2006</td>\n",
       "      <td>64</td>\n",
       "      <td>0.093729</td>\n",
       "    </tr>\n",
       "    <tr>\n",
       "      <th>33</th>\n",
       "      <td>2161</td>\n",
       "      <td>47</td>\n",
       "      <td>0.126746</td>\n",
       "    </tr>\n",
       "    <tr>\n",
       "      <th>34</th>\n",
       "      <td>2161</td>\n",
       "      <td>1220</td>\n",
       "      <td>0.124897</td>\n",
       "    </tr>\n",
       "    <tr>\n",
       "      <th>35</th>\n",
       "      <td>2161</td>\n",
       "      <td>48</td>\n",
       "      <td>0.101140</td>\n",
       "    </tr>\n",
       "    <tr>\n",
       "      <th>36</th>\n",
       "      <td>2231</td>\n",
       "      <td>1220</td>\n",
       "      <td>0.162766</td>\n",
       "    </tr>\n",
       "    <tr>\n",
       "      <th>37</th>\n",
       "      <td>2231</td>\n",
       "      <td>48</td>\n",
       "      <td>0.129838</td>\n",
       "    </tr>\n",
       "    <tr>\n",
       "      <th>38</th>\n",
       "      <td>2231</td>\n",
       "      <td>86</td>\n",
       "      <td>0.111750</td>\n",
       "    </tr>\n",
       "    <tr>\n",
       "      <th>39</th>\n",
       "      <td>2266</td>\n",
       "      <td>190</td>\n",
       "      <td>0.052267</td>\n",
       "    </tr>\n",
       "    <tr>\n",
       "      <th>40</th>\n",
       "      <td>2266</td>\n",
       "      <td>1355</td>\n",
       "      <td>0.046318</td>\n",
       "    </tr>\n",
       "    <tr>\n",
       "      <th>41</th>\n",
       "      <td>2266</td>\n",
       "      <td>201</td>\n",
       "      <td>0.041657</td>\n",
       "    </tr>\n",
       "    <tr>\n",
       "      <th>42</th>\n",
       "      <td>2274</td>\n",
       "      <td>1697</td>\n",
       "      <td>0.021213</td>\n",
       "    </tr>\n",
       "    <tr>\n",
       "      <th>43</th>\n",
       "      <td>2274</td>\n",
       "      <td>2761</td>\n",
       "      <td>0.013601</td>\n",
       "    </tr>\n",
       "    <tr>\n",
       "      <th>44</th>\n",
       "      <td>2274</td>\n",
       "      <td>131</td>\n",
       "      <td>0.012695</td>\n",
       "    </tr>\n",
       "    <tr>\n",
       "      <th>45</th>\n",
       "      <td>2542</td>\n",
       "      <td>2756</td>\n",
       "      <td>0.032990</td>\n",
       "    </tr>\n",
       "    <tr>\n",
       "      <th>46</th>\n",
       "      <td>2542</td>\n",
       "      <td>1429</td>\n",
       "      <td>0.031129</td>\n",
       "    </tr>\n",
       "    <tr>\n",
       "      <th>47</th>\n",
       "      <td>2542</td>\n",
       "      <td>1430</td>\n",
       "      <td>0.029990</td>\n",
       "    </tr>\n",
       "    <tr>\n",
       "      <th>48</th>\n",
       "      <td>2684</td>\n",
       "      <td>1272</td>\n",
       "      <td>0.262422</td>\n",
       "    </tr>\n",
       "    <tr>\n",
       "      <th>49</th>\n",
       "      <td>2684</td>\n",
       "      <td>125</td>\n",
       "      <td>0.194176</td>\n",
       "    </tr>\n",
       "    <tr>\n",
       "      <th>50</th>\n",
       "      <td>2684</td>\n",
       "      <td>159</td>\n",
       "      <td>0.187445</td>\n",
       "    </tr>\n",
       "    <tr>\n",
       "      <th>51</th>\n",
       "      <td>2788</td>\n",
       "      <td>4434</td>\n",
       "      <td>0.010678</td>\n",
       "    </tr>\n",
       "    <tr>\n",
       "      <th>52</th>\n",
       "      <td>2788</td>\n",
       "      <td>2654</td>\n",
       "      <td>0.009519</td>\n",
       "    </tr>\n",
       "    <tr>\n",
       "      <th>53</th>\n",
       "      <td>2788</td>\n",
       "      <td>4668</td>\n",
       "      <td>0.008042</td>\n",
       "    </tr>\n",
       "  </tbody>\n",
       "</table>\n",
       "</div>"
      ],
      "text/plain": [
       "    userID  itemID  prediction\n",
       "0       74    1355    0.119852\n",
       "1       74      86    0.109300\n",
       "2       74    1220    0.095787\n",
       "3      921     201    0.434024\n",
       "4      921    1272    0.279984\n",
       "5      921     125    0.210201\n",
       "6     1061      65    0.264007\n",
       "7     1061     201    0.263679\n",
       "8     1061      64    0.238756\n",
       "9     1165     201    0.356522\n",
       "10    1165    1272    0.237893\n",
       "11    1165     125    0.173761\n",
       "12    1455      47    0.029766\n",
       "13    1455    1220    0.023072\n",
       "14    1455      87    0.021635\n",
       "15    1650    4709    0.019806\n",
       "16    1650    4668    0.016332\n",
       "17    1650    1570    0.013323\n",
       "18    1813    1557    0.024107\n",
       "19    1813    1763    0.018994\n",
       "20    1813    1220    0.015837\n",
       "21    1823    1220    0.109972\n",
       "22    1823      47    0.109339\n",
       "23    1823      87    0.090938\n",
       "24    1996      65    0.025843\n",
       "25    1996    1557    0.022063\n",
       "26    1996    1220    0.019761\n",
       "27    2004      65    0.230532\n",
       "28    2004     201    0.223101\n",
       "29    2004      64    0.204543\n",
       "30    2006     201    0.102964\n",
       "31    2006      65    0.097775\n",
       "32    2006      64    0.093729\n",
       "33    2161      47    0.126746\n",
       "34    2161    1220    0.124897\n",
       "35    2161      48    0.101140\n",
       "36    2231    1220    0.162766\n",
       "37    2231      48    0.129838\n",
       "38    2231      86    0.111750\n",
       "39    2266     190    0.052267\n",
       "40    2266    1355    0.046318\n",
       "41    2266     201    0.041657\n",
       "42    2274    1697    0.021213\n",
       "43    2274    2761    0.013601\n",
       "44    2274     131    0.012695\n",
       "45    2542    2756    0.032990\n",
       "46    2542    1429    0.031129\n",
       "47    2542    1430    0.029990\n",
       "48    2684    1272    0.262422\n",
       "49    2684     125    0.194176\n",
       "50    2684     159    0.187445\n",
       "51    2788    4434    0.010678\n",
       "52    2788    2654    0.009519\n",
       "53    2788    4668    0.008042"
      ]
     },
     "execution_count": 14,
     "metadata": {},
     "output_type": "execute_result"
    }
   ],
   "source": [
    "model.recommend_k_items(\n",
    "    dataloader.test, \n",
    "    top_k=3, \n",
    "    use_id=True, \n",
    "    remove_seen=True, \n",
    "    recommend_from=folds[-1][3]\n",
    ")"
   ]
  },
  {
   "cell_type": "code",
   "execution_count": 15,
   "id": "ef766f48-b9b1-4ec6-b2ba-9c3d5b54d40b",
   "metadata": {
    "execution": {
     "iopub.execute_input": "2024-03-09T07:48:09.001380Z",
     "iopub.status.busy": "2024-03-09T07:48:09.001251Z",
     "iopub.status.idle": "2024-03-09T07:48:09.025203Z",
     "shell.execute_reply": "2024-03-09T07:48:09.024975Z"
    },
    "papermill": {
     "duration": 0.028353,
     "end_time": "2024-03-09T07:48:09.026118",
     "exception": false,
     "start_time": "2024-03-09T07:48:08.997765",
     "status": "completed"
    },
    "tags": []
   },
   "outputs": [],
   "source": [
    "# problem_prop = 'b926a2eb-e2c7-5d0d-bbec-015efe30edde'\n",
    "\n",
    "# tr, te, t, open_proposals = folds[-1]\n",
    "# print(\"t:\", t)\n",
    "# print(\"In open?: \", problem_prop in set(open_proposals))\n",
    "# print(\"In Train?:\", any(tr['itemID'] == problem_prop))\n",
    "# print(\"In Test?: \", any(te['itemID'] == problem_prop))\n",
    "# print(\"In dfv?:  \", in_dfv := any(dfv['proposal'] == problem_prop))\n",
    "# if in_dfv:\n",
    "#     display(dfv[dfv['proposal'] == problem_prop])\n",
    "\n",
    "# dfp.set_index('id').loc[problem_prop]"
   ]
  },
  {
   "cell_type": "code",
   "execution_count": 16,
   "id": "799a41c8-6c27-40c7-af22-0f9eb46f8a59",
   "metadata": {
    "execution": {
     "iopub.execute_input": "2024-03-09T07:48:09.033540Z",
     "iopub.status.busy": "2024-03-09T07:48:09.033256Z",
     "iopub.status.idle": "2024-03-09T07:48:09.059498Z",
     "shell.execute_reply": "2024-03-09T07:48:09.059178Z"
    },
    "papermill": {
     "duration": 0.030878,
     "end_time": "2024-03-09T07:48:09.060380",
     "exception": false,
     "start_time": "2024-03-09T07:48:09.029502",
     "status": "completed"
    },
    "tags": []
   },
   "outputs": [],
   "source": [
    "# Free the resources\n",
    "del model\n",
    "del dataloader"
   ]
  },
  {
   "cell_type": "markdown",
   "id": "d994a5dd-efe5-47bf-a8a1-803316d9fc75",
   "metadata": {
    "papermill": {
     "duration": 0.002931,
     "end_time": "2024-03-09T07:48:09.066264",
     "exception": false,
     "start_time": "2024-03-09T07:48:09.063333",
     "status": "completed"
    },
    "tags": []
   },
   "source": [
    "# Defining trainer"
   ]
  },
  {
   "cell_type": "code",
   "execution_count": 17,
   "id": "a5d010bf-3a9c-4931-9d02-6589b3164438",
   "metadata": {
    "execution": {
     "iopub.execute_input": "2024-03-09T07:48:09.072658Z",
     "iopub.status.busy": "2024-03-09T07:48:09.072513Z",
     "iopub.status.idle": "2024-03-09T07:48:09.099672Z",
     "shell.execute_reply": "2024-03-09T07:48:09.099431Z"
    },
    "papermill": {
     "duration": 0.031459,
     "end_time": "2024-03-09T07:48:09.100533",
     "exception": false,
     "start_time": "2024-03-09T07:48:09.069074",
     "status": "completed"
    },
    "scrolled": true,
    "tags": []
   },
   "outputs": [],
   "source": [
    "from recommenders.evaluation.python_evaluation import map_at_k, ndcg_at_k, precision_at_k, recall_at_k\n",
    "\n",
    "class TrainLightGCN(tune.Trainable):\n",
    "    def setup(\n",
    "        self,\n",
    "        config: Dict[str, Any],\n",
    "        data,\n",
    "    ):\n",
    "        self.config = config\n",
    "\n",
    "        self.hparams = prepare_hparams(\n",
    "            model_type='lightgcn',\n",
    "            n_layers=config['conv_layers'],\n",
    "            batch_size=2**config['batch_size'],\n",
    "            embed_size=config['embedding_dim'],\n",
    "            epochs=EPOCHS_PER_ITER,\n",
    "            learning_rate=config['learning_rate'],\n",
    "            decay=config['l2'],\n",
    "            metrics=METRICS,\n",
    "            eval_epoch=-1,\n",
    "            top_k=TOP_K[0],\n",
    "            save_model=False,\n",
    "            MODEL_DIR='./data/model/lightgcn/',\n",
    "        )\n",
    "\n",
    "        train, test, self.t, self.open_proposals = data\n",
    "        self.dataloader = ImplicitCF(train=train, test=test, seed=SEED)\n",
    "        self.model = LightGCNCustom(self.hparams, self.dataloader, seed=SEED)\n",
    "        self.total_train = 0\n",
    "        self.total_eval = 0\n",
    "\n",
    "    @property\n",
    "    def iteration(self):\n",
    "        return self.model.epochs_done\n",
    "\n",
    "    @property\n",
    "    def training_iteration(self):\n",
    "        return self.model.epochs_done\n",
    "\n",
    "    def step(self):\n",
    "        \"\"\"\n",
    "        As a rule of thumb, the execution time of step should be large enough to avoid overheads \n",
    "        (i.e. more than a few seconds), but short enough to report progress periodically \n",
    "        (i.e. at most a few minutes).\n",
    "        \"\"\"\n",
    "        assert EPOCHS_PER_ITER > 0\n",
    "\n",
    "        train_start = time.time()\n",
    "        for _ in range(EPOCHS_PER_ITER):\n",
    "            ret = self.model.fit_epoch()\n",
    "        eval_start = train_end = time.time()\n",
    "\n",
    "        eval_dict = {'model_'+k:v for k,v in zip(self.model.metrics, self.model.run_eval())}\n",
    "        for k in TOP_K:\n",
    "            recs = self.model.recommend_k_items(\n",
    "                self.dataloader.test, \n",
    "                top_k=k,\n",
    "                use_id=True, \n",
    "                remove_seen=True, \n",
    "                recommend_from=self.open_proposals,\n",
    "            )\n",
    "            \n",
    "            eval_dict[f'precision@{k}'] = precision_at_k(self.dataloader.test, recs, k=k)\n",
    "            eval_dict[f'ndcg@{k}'] = ndcg_at_k(self.dataloader.test, recs, k=k)\n",
    "            eval_dict[f'recall@{k}'] = recall_at_k(self.dataloader.test, recs, k=k)\n",
    "            eval_dict[f'map@{k}'] = map_at_k(self.dataloader.test, recs, k=k)\n",
    "\n",
    "        eval_end = time.time()\n",
    "\n",
    "        self.total_train += train_end - train_start\n",
    "        self.total_eval += eval_end - eval_start\n",
    "        \n",
    "        return {\n",
    "            'iteration': self.iteration,\n",
    "            'loss': ret[0],\n",
    "            'mf_loss': ret[1],\n",
    "            'emb_loss': ret[2],\n",
    "            **eval_dict,\n",
    "            'time_train': train_end-train_start,\n",
    "            'time_test': eval_end-eval_start,\n",
    "            'time_total_train': self.total_train,\n",
    "            'time_total_test': self.total_eval,\n",
    "        }\n",
    "\n",
    "    def save_checkpoint(self, checkpoint_dir):\n",
    "        checkpoint_path = os.path.join(checkpoint_dir, \"model\")\n",
    "        self.model.saver.save(\n",
    "            sess=self.model.sess,\n",
    "            save_path=checkpoint_path,\n",
    "        )\n",
    "        return checkpoint_dir\n",
    "\n",
    "    def load_checkpoint(self, checkpoint_path):\n",
    "        self.model.load(checkpoint_path)"
   ]
  },
  {
   "cell_type": "markdown",
   "id": "16276fe4-d63d-4e7a-bcc8-38d8f5be299c",
   "metadata": {
    "papermill": {
     "duration": 0.003064,
     "end_time": "2024-03-09T07:48:09.106541",
     "exception": false,
     "start_time": "2024-03-09T07:48:09.103477",
     "status": "completed"
    },
    "tags": []
   },
   "source": [
    "# Big experiment"
   ]
  },
  {
   "cell_type": "code",
   "execution_count": 18,
   "id": "427c4b72-593a-41ff-9fd6-991e8e3a0445",
   "metadata": {
    "execution": {
     "iopub.execute_input": "2024-03-09T07:48:09.112981Z",
     "iopub.status.busy": "2024-03-09T07:48:09.112837Z",
     "iopub.status.idle": "2024-03-09T07:48:09.136336Z",
     "shell.execute_reply": "2024-03-09T07:48:09.136118Z"
    },
    "papermill": {
     "duration": 0.027747,
     "end_time": "2024-03-09T07:48:09.137149",
     "exception": false,
     "start_time": "2024-03-09T07:48:09.109402",
     "status": "completed"
    },
    "tags": []
   },
   "outputs": [
    {
     "data": {
      "text/plain": [
       "PosixPath('/home/daviddavo/ray_results')"
      ]
     },
     "execution_count": 18,
     "metadata": {},
     "output_type": "execute_result"
    }
   ],
   "source": [
    "RAY_RESULTS_PATH"
   ]
  },
  {
   "cell_type": "code",
   "execution_count": 19,
   "id": "8c3e4842-eaee-431a-a4ee-6145c1c18ca1",
   "metadata": {
    "execution": {
     "iopub.execute_input": "2024-03-09T07:48:09.144557Z",
     "iopub.status.busy": "2024-03-09T07:48:09.144346Z",
     "iopub.status.idle": "2024-03-09T07:48:09.166994Z",
     "shell.execute_reply": "2024-03-09T07:48:09.166770Z"
    },
    "papermill": {
     "duration": 0.027123,
     "end_time": "2024-03-09T07:48:09.167728",
     "exception": false,
     "start_time": "2024-03-09T07:48:09.140605",
     "status": "completed"
    },
    "tags": []
   },
   "outputs": [
    {
     "name": "stdout",
     "output_type": "stream",
     "text": [
      "lamarck\n",
      "{'cpu': 1, 'gpu': 0.05}\n"
     ]
    }
   ],
   "source": [
    "print(os.uname().nodename)\n",
    "\n",
    "### SET TRAINING RESOURCES\n",
    "if os.uname().nodename == 'lamarck':\n",
    "    # assert torch.cuda.is_available()\n",
    "    if ORG_NAME in ['PancakeSwap']:\n",
    "        # It seems that this model takes more resources, so we run less instances\n",
    "        gpu_resources = 1/6\n",
    "    elif ORG_NAME in ['DEAD FoundationsDAO']:\n",
    "        gpu_resources = 1/20\n",
    "    else:\n",
    "        # GPU has 25GiB, and each run might take up to 2GiB (torch version was lighter)\n",
    "        # so each run might take up to 1/12th of the GPU\n",
    "        # I use 1/16th so I don't take all the resources in the machine\n",
    "        gpu_resources = 1/16\n",
    "    \n",
    "    NUM_SAMPLES = SAMPLES_PER_SPLIT\n",
    "    # Every run takes approx half a gig of vram (no optimizations)\n",
    "    # The RTX 4090 has 24GB so we can run the model about 48 times\n",
    "    resources_per_trial={\n",
    "        'cpu': 1,\n",
    "        'gpu': gpu_resources,\n",
    "    }\n",
    "else:\n",
    "    NUM_SAMPLES = 1\n",
    "    resources_per_trial={\n",
    "        'cpu': 1,\n",
    "        # It takes about 1.5 GiB with full training data, but I put a bit more because\n",
    "        # this notebook also takes a bit of memory\n",
    "        'memory': 2e9,\n",
    "    }\n",
    "print(resources_per_trial)"
   ]
  },
  {
   "cell_type": "code",
   "execution_count": 20,
   "id": "a5ad6f33-effe-4f48-850e-8044af3a88dc",
   "metadata": {
    "editable": true,
    "execution": {
     "iopub.execute_input": "2024-03-09T07:48:09.174726Z",
     "iopub.status.busy": "2024-03-09T07:48:09.174605Z",
     "iopub.status.idle": "2024-03-09T07:48:09.248724Z",
     "shell.execute_reply": "2024-03-09T07:48:09.248357Z"
    },
    "papermill": {
     "duration": 0.078959,
     "end_time": "2024-03-09T07:48:09.249809",
     "exception": false,
     "start_time": "2024-03-09T07:48:09.170850",
     "status": "completed"
    },
    "slideshow": {
     "slide_type": ""
    },
    "tags": []
   },
   "outputs": [],
   "source": [
    "from ray.tune.search.hyperopt import HyperOptSearch\n",
    "import datetime as dt\n",
    "from src import paths\n",
    "\n",
    "def getTunerOnFold(f, points_to_evaluate = None):\n",
    "    name = f'LightGCN_optim={OPTIM_METRIC},dao={ORG_NAME},freq={SPLITS_FREQ},normalize={SPLITS_NORMALIZE},cutoff_date={CUTOFF_DATE.isoformat()},fold={f}'\n",
    "    paths = list(RAY_RESULTS_PATH.glob(f'{name}_*'))\n",
    "    last_experiment = max(paths, key=lambda x: x.stat().st_ctime) if paths else None\n",
    "\n",
    "    dftrain,dftest,t,open_proposals = folds[f]\n",
    "    param_space = dict(\n",
    "        fold=f,\n",
    "        batch_size=tune.randint(6,10), # 64 - 1024\n",
    "        embedding_dim=tune.lograndint(1, 1024, base=2),\n",
    "        conv_layers=tune.randint(1,6),\n",
    "        learning_rate=tune.qloguniform(1e-4, 1, 1e-4),\n",
    "        l2=tune.loguniform(1e-7, 1e-2, 1e-7),\n",
    "    )\n",
    "    \n",
    "    ### RESTORE EXPERIMENT OR CREATE A NEW ONE\n",
    "    if last_experiment and tune.Tuner.can_restore(last_experiment):\n",
    "        print(f\"Restoring last experiment: {last_experiment}\")\n",
    "        tuner = tune.Tuner.restore(\n",
    "            str(last_experiment),\n",
    "            trainable=tune.with_resources(\n",
    "                # tune.with_parameters(TrainLightGCN,  train=dftrain, test=dftest, open_proposals=open_proposals),\n",
    "                tune.with_parameters(TrainLightGCN, data=folds[f]),\n",
    "                resources_per_trial,\n",
    "            ),\n",
    "            restart_errored=True,\n",
    "            param_space=param_space,\n",
    "        )\n",
    "    else:\n",
    "        print(f\"No experiment found for fold {f}, creating new tuner with {NUM_SAMPLES} samples\")\n",
    "        search_alg = None\n",
    "        search_alg = HyperOptSearch(\n",
    "            # points_to_evaluate=[{\n",
    "            #     'batch_size': 8, # 2**8 = 256\n",
    "            #     'learning_rate': 10e-2,\n",
    "            #     'l2': 10e-6,\n",
    "            #     'embedding_dim': 100,\n",
    "            #     'conv_layers': 3,\n",
    "            # }],\n",
    "            points_to_evaluate = points_to_evaluate,\n",
    "            random_state_seed=SEED,\n",
    "        )\n",
    "        # search_alg = tune.search.Repeater(search_alg, N_SPLITS-SKIP_SPLIT)\n",
    "        \n",
    "        tuner = tune.Tuner(\n",
    "            tune.with_resources(\n",
    "                # tune.with_parameters(TrainLightGCN,  train=dftrain, test=dftest, open_proposals=open_proposals),\n",
    "                tune.with_parameters(TrainLightGCN, data=folds[f]),\n",
    "                resources_per_trial,\n",
    "            ),\n",
    "            run_config=train.RunConfig(\n",
    "                stop={'training_iteration': MAX_EPOCHS/EPOCHS_PER_ITER, 'time_total_train': 300},\n",
    "                name=name + f'_{dt.datetime.now().isoformat()}',\n",
    "                storage_path=RAY_RESULTS_PATH,\n",
    "                failure_config=train.FailureConfig(fail_fast='raise'),\n",
    "            ),\n",
    "            param_space=param_space,\n",
    "            tune_config=tune.TuneConfig(\n",
    "                search_alg=search_alg,\n",
    "                num_samples=NUM_SAMPLES,\n",
    "                metric=OPTIM_METRIC,\n",
    "                mode='max',\n",
    "            )\n",
    "        )\n",
    "\n",
    "    return tuner"
   ]
  },
  {
   "cell_type": "code",
   "execution_count": 21,
   "id": "c968ecd5-d62c-4d57-846f-4bb7202a97c1",
   "metadata": {
    "execution": {
     "iopub.execute_input": "2024-03-09T07:48:09.256934Z",
     "iopub.status.busy": "2024-03-09T07:48:09.256816Z",
     "iopub.status.idle": "2024-03-09T08:02:00.426078Z",
     "shell.execute_reply": "2024-03-09T08:02:00.425388Z"
    },
    "papermill": {
     "duration": 831.173968,
     "end_time": "2024-03-09T08:02:00.427043",
     "exception": false,
     "start_time": "2024-03-09T07:48:09.253075",
     "status": "completed"
    },
    "tags": []
   },
   "outputs": [
    {
     "data": {
      "text/html": [
       "<div class=\"tuneStatus\">\n",
       "  <div style=\"display: flex;flex-direction: row\">\n",
       "    <div style=\"display: flex;flex-direction: column;\">\n",
       "      <h3>Tune Status</h3>\n",
       "      <table>\n",
       "<tbody>\n",
       "<tr><td>Current time:</td><td>2024-03-09 08:02:00</td></tr>\n",
       "<tr><td>Running for: </td><td>00:13:42.35        </td></tr>\n",
       "<tr><td>Memory:      </td><td>8.5/125.6 GiB      </td></tr>\n",
       "</tbody>\n",
       "</table>\n",
       "    </div>\n",
       "    <div class=\"vDivider\"></div>\n",
       "    <div class=\"systemInfo\">\n",
       "      <h3>System Info</h3>\n",
       "      Using FIFO scheduling algorithm.<br>Logical resource usage: 1.0/24 CPUs, 0.05/1 GPUs (0.0/1.0 accelerator_type:G)\n",
       "    </div>\n",
       "    \n",
       "  </div>\n",
       "  <div class=\"hDivider\"></div>\n",
       "  <div class=\"trialStatus\">\n",
       "    <h3>Trial Status</h3>\n",
       "    <table>\n",
       "<thead>\n",
       "<tr><th>Trial name            </th><th>status    </th><th>loc                  </th><th style=\"text-align: right;\">  batch_size</th><th style=\"text-align: right;\">  conv_layers</th><th style=\"text-align: right;\">  embedding_dim</th><th style=\"text-align: right;\">  fold</th><th style=\"text-align: right;\">         l2</th><th style=\"text-align: right;\">  learning_rate</th><th style=\"text-align: right;\">  iter</th><th style=\"text-align: right;\">  total time (s)</th><th style=\"text-align: right;\">  iteration</th><th style=\"text-align: right;\">        loss</th><th style=\"text-align: right;\">    mf_loss</th></tr>\n",
       "</thead>\n",
       "<tbody>\n",
       "<tr><td>TrainLightGCN_0f936309</td><td>TERMINATED</td><td>147.96.81.131:3360311</td><td style=\"text-align: right;\">           6</td><td style=\"text-align: right;\">            3</td><td style=\"text-align: right;\">              2</td><td style=\"text-align: right;\">     9</td><td style=\"text-align: right;\">5.75975e-07</td><td style=\"text-align: right;\">         0.0126</td><td style=\"text-align: right;\">    13</td><td style=\"text-align: right;\">        313.37  </td><td style=\"text-align: right;\">         65</td><td style=\"text-align: right;\"> 0.0712053  </td><td style=\"text-align: right;\">0.0711965  </td></tr>\n",
       "<tr><td>TrainLightGCN_427ef446</td><td>TERMINATED</td><td>147.96.81.131:3185094</td><td style=\"text-align: right;\">           8</td><td style=\"text-align: right;\">            5</td><td style=\"text-align: right;\">             11</td><td style=\"text-align: right;\">     9</td><td style=\"text-align: right;\">3.87278e-07</td><td style=\"text-align: right;\">         0.9885</td><td style=\"text-align: right;\">    40</td><td style=\"text-align: right;\">        242.63  </td><td style=\"text-align: right;\">        200</td><td style=\"text-align: right;\"> 2.04702    </td><td style=\"text-align: right;\">2.02384    </td></tr>\n",
       "<tr><td>TrainLightGCN_ac5b0c32</td><td>TERMINATED</td><td>147.96.81.131:3360312</td><td style=\"text-align: right;\">           6</td><td style=\"text-align: right;\">            1</td><td style=\"text-align: right;\">            146</td><td style=\"text-align: right;\">     9</td><td style=\"text-align: right;\">1.05111e-06</td><td style=\"text-align: right;\">         0.0008</td><td style=\"text-align: right;\">    13</td><td style=\"text-align: right;\">        316.83  </td><td style=\"text-align: right;\">         65</td><td style=\"text-align: right;\"> 0.00161877 </td><td style=\"text-align: right;\">0.00159832 </td></tr>\n",
       "<tr><td>TrainLightGCN_0b93c740</td><td>TERMINATED</td><td>147.96.81.131:3360316</td><td style=\"text-align: right;\">           9</td><td style=\"text-align: right;\">            4</td><td style=\"text-align: right;\">             34</td><td style=\"text-align: right;\">     9</td><td style=\"text-align: right;\">0.000326489</td><td style=\"text-align: right;\">         0.0022</td><td style=\"text-align: right;\">    40</td><td style=\"text-align: right;\">        158.454 </td><td style=\"text-align: right;\">        200</td><td style=\"text-align: right;\"> 0.0103552  </td><td style=\"text-align: right;\">0.00414979 </td></tr>\n",
       "<tr><td>TrainLightGCN_4433bbee</td><td>TERMINATED</td><td>147.96.81.131:3360317</td><td style=\"text-align: right;\">           9</td><td style=\"text-align: right;\">            5</td><td style=\"text-align: right;\">            641</td><td style=\"text-align: right;\">     9</td><td style=\"text-align: right;\">2.94385e-05</td><td style=\"text-align: right;\">         0.0384</td><td style=\"text-align: right;\">    40</td><td style=\"text-align: right;\">        158.335 </td><td style=\"text-align: right;\">        200</td><td style=\"text-align: right;\"> 0.0845272  </td><td style=\"text-align: right;\">0.0437971  </td></tr>\n",
       "<tr><td>TrainLightGCN_c7404e88</td><td>TERMINATED</td><td>147.96.81.131:3360363</td><td style=\"text-align: right;\">           7</td><td style=\"text-align: right;\">            5</td><td style=\"text-align: right;\">            252</td><td style=\"text-align: right;\">     9</td><td style=\"text-align: right;\">2.46418e-05</td><td style=\"text-align: right;\">         0.0027</td><td style=\"text-align: right;\">    25</td><td style=\"text-align: right;\">        311.647 </td><td style=\"text-align: right;\">        125</td><td style=\"text-align: right;\"> 0.0015838  </td><td style=\"text-align: right;\">0.000554821</td></tr>\n",
       "<tr><td>TrainLightGCN_5b8ec183</td><td>TERMINATED</td><td>147.96.81.131:3360410</td><td style=\"text-align: right;\">           8</td><td style=\"text-align: right;\">            4</td><td style=\"text-align: right;\">             61</td><td style=\"text-align: right;\">     9</td><td style=\"text-align: right;\">0.000111582</td><td style=\"text-align: right;\">         0.0096</td><td style=\"text-align: right;\">    40</td><td style=\"text-align: right;\">        267.248 </td><td style=\"text-align: right;\">        200</td><td style=\"text-align: right;\"> 0.00370531 </td><td style=\"text-align: right;\">0.000616603</td></tr>\n",
       "<tr><td>TrainLightGCN_35ba720b</td><td>TERMINATED</td><td>147.96.81.131:3360469</td><td style=\"text-align: right;\">           8</td><td style=\"text-align: right;\">            5</td><td style=\"text-align: right;\">            999</td><td style=\"text-align: right;\">     9</td><td style=\"text-align: right;\">0.000901688</td><td style=\"text-align: right;\">         0.1191</td><td style=\"text-align: right;\">    40</td><td style=\"text-align: right;\">        300.198 </td><td style=\"text-align: right;\">        200</td><td style=\"text-align: right;\"> 1.721      </td><td style=\"text-align: right;\">0.213212   </td></tr>\n",
       "<tr><td>TrainLightGCN_b2a79698</td><td>TERMINATED</td><td>147.96.81.131:3183322</td><td style=\"text-align: right;\">           6</td><td style=\"text-align: right;\">            5</td><td style=\"text-align: right;\">            372</td><td style=\"text-align: right;\">     9</td><td style=\"text-align: right;\">9.46725e-07</td><td style=\"text-align: right;\">         0.0043</td><td style=\"text-align: right;\">    13</td><td style=\"text-align: right;\">        304.982 </td><td style=\"text-align: right;\">         65</td><td style=\"text-align: right;\"> 0.000609461</td><td style=\"text-align: right;\">0.000527356</td></tr>\n",
       "<tr><td>TrainLightGCN_ff926038</td><td>TERMINATED</td><td>147.96.81.131:3360528</td><td style=\"text-align: right;\">           7</td><td style=\"text-align: right;\">            1</td><td style=\"text-align: right;\">              7</td><td style=\"text-align: right;\">     9</td><td style=\"text-align: right;\">1.32226e-07</td><td style=\"text-align: right;\">         0.0001</td><td style=\"text-align: right;\">    24</td><td style=\"text-align: right;\">        305.606 </td><td style=\"text-align: right;\">        120</td><td style=\"text-align: right;\"> 0.329298   </td><td style=\"text-align: right;\">0.329298   </td></tr>\n",
       "<tr><td>TrainLightGCN_8bfca41c</td><td>TERMINATED</td><td>147.96.81.131:3360576</td><td style=\"text-align: right;\">           8</td><td style=\"text-align: right;\">            2</td><td style=\"text-align: right;\">            504</td><td style=\"text-align: right;\">     9</td><td style=\"text-align: right;\">6.37761e-05</td><td style=\"text-align: right;\">         0.0002</td><td style=\"text-align: right;\">    40</td><td style=\"text-align: right;\">        268.241 </td><td style=\"text-align: right;\">        200</td><td style=\"text-align: right;\"> 0.00211799 </td><td style=\"text-align: right;\">0.00103855 </td></tr>\n",
       "<tr><td>TrainLightGCN_2d989d71</td><td>TERMINATED</td><td>147.96.81.131:3360648</td><td style=\"text-align: right;\">           8</td><td style=\"text-align: right;\">            5</td><td style=\"text-align: right;\">             14</td><td style=\"text-align: right;\">     9</td><td style=\"text-align: right;\">2.10125e-07</td><td style=\"text-align: right;\">         0.1804</td><td style=\"text-align: right;\">    40</td><td style=\"text-align: right;\">        268.619 </td><td style=\"text-align: right;\">        200</td><td style=\"text-align: right;\"> 0.0824634  </td><td style=\"text-align: right;\">0.0819062  </td></tr>\n",
       "<tr><td>TrainLightGCN_3325b477</td><td>TERMINATED</td><td>147.96.81.131:3360696</td><td style=\"text-align: right;\">           7</td><td style=\"text-align: right;\">            1</td><td style=\"text-align: right;\">             31</td><td style=\"text-align: right;\">     9</td><td style=\"text-align: right;\">0.00960017 </td><td style=\"text-align: right;\">         0.6699</td><td style=\"text-align: right;\">    25</td><td style=\"text-align: right;\">        312.289 </td><td style=\"text-align: right;\">        125</td><td style=\"text-align: right;\">18.2619     </td><td style=\"text-align: right;\">1.77872    </td></tr>\n",
       "<tr><td>TrainLightGCN_1a5135c8</td><td>TERMINATED</td><td>147.96.81.131:3360756</td><td style=\"text-align: right;\">           7</td><td style=\"text-align: right;\">            2</td><td style=\"text-align: right;\">              4</td><td style=\"text-align: right;\">     9</td><td style=\"text-align: right;\">1.69046e-06</td><td style=\"text-align: right;\">         0.288 </td><td style=\"text-align: right;\">    24</td><td style=\"text-align: right;\">        305.537 </td><td style=\"text-align: right;\">        120</td><td style=\"text-align: right;\"> 1.17354    </td><td style=\"text-align: right;\">1.1717     </td></tr>\n",
       "<tr><td>TrainLightGCN_ae2b84e3</td><td>TERMINATED</td><td>147.96.81.131:3360770</td><td style=\"text-align: right;\">           7</td><td style=\"text-align: right;\">            3</td><td style=\"text-align: right;\">             60</td><td style=\"text-align: right;\">     9</td><td style=\"text-align: right;\">0.00186564 </td><td style=\"text-align: right;\">         0.4669</td><td style=\"text-align: right;\">    25</td><td style=\"text-align: right;\">        311.344 </td><td style=\"text-align: right;\">        125</td><td style=\"text-align: right;\"> 4.1085     </td><td style=\"text-align: right;\">0.351467   </td></tr>\n",
       "<tr><td>TrainLightGCN_e8dd9eff</td><td>TERMINATED</td><td>147.96.81.131:3360816</td><td style=\"text-align: right;\">           7</td><td style=\"text-align: right;\">            4</td><td style=\"text-align: right;\">            101</td><td style=\"text-align: right;\">     9</td><td style=\"text-align: right;\">9.02542e-06</td><td style=\"text-align: right;\">         0.0349</td><td style=\"text-align: right;\">    25</td><td style=\"text-align: right;\">        311.644 </td><td style=\"text-align: right;\">        125</td><td style=\"text-align: right;\"> 0.0120633  </td><td style=\"text-align: right;\">0.00820665 </td></tr>\n",
       "<tr><td>TrainLightGCN_8adc274b</td><td>TERMINATED</td><td>147.96.81.131:3360888</td><td style=\"text-align: right;\">           6</td><td style=\"text-align: right;\">            1</td><td style=\"text-align: right;\">            204</td><td style=\"text-align: right;\">     9</td><td style=\"text-align: right;\">1.78642e-06</td><td style=\"text-align: right;\">         0.0133</td><td style=\"text-align: right;\">    13</td><td style=\"text-align: right;\">        315.806 </td><td style=\"text-align: right;\">         65</td><td style=\"text-align: right;\"> 0.00105834 </td><td style=\"text-align: right;\">0.000802971</td></tr>\n",
       "<tr><td>TrainLightGCN_9ffb0df8</td><td>TERMINATED</td><td>147.96.81.131:3360938</td><td style=\"text-align: right;\">           6</td><td style=\"text-align: right;\">            2</td><td style=\"text-align: right;\">            290</td><td style=\"text-align: right;\">     9</td><td style=\"text-align: right;\">5.87181e-07</td><td style=\"text-align: right;\">         0.0005</td><td style=\"text-align: right;\">    13</td><td style=\"text-align: right;\">        316.024 </td><td style=\"text-align: right;\">         65</td><td style=\"text-align: right;\"> 0.00252994 </td><td style=\"text-align: right;\">0.00251792 </td></tr>\n",
       "<tr><td>TrainLightGCN_bf44fab9</td><td>TERMINATED</td><td>147.96.81.131:3184550</td><td style=\"text-align: right;\">           8</td><td style=\"text-align: right;\">            3</td><td style=\"text-align: right;\">              3</td><td style=\"text-align: right;\">     9</td><td style=\"text-align: right;\">3.97353e-05</td><td style=\"text-align: right;\">         0.2425</td><td style=\"text-align: right;\">    40</td><td style=\"text-align: right;\">        243.887 </td><td style=\"text-align: right;\">        200</td><td style=\"text-align: right;\"> 0.248918   </td><td style=\"text-align: right;\">0.239926   </td></tr>\n",
       "<tr><td>TrainLightGCN_b1182dec</td><td>TERMINATED</td><td>147.96.81.131:3186668</td><td style=\"text-align: right;\">           9</td><td style=\"text-align: right;\">            3</td><td style=\"text-align: right;\">             43</td><td style=\"text-align: right;\">     9</td><td style=\"text-align: right;\">0.00305165 </td><td style=\"text-align: right;\">         0.066 </td><td style=\"text-align: right;\">    40</td><td style=\"text-align: right;\">        118.668 </td><td style=\"text-align: right;\">        200</td><td style=\"text-align: right;\"> 0.0559446  </td><td style=\"text-align: right;\">0.010295   </td></tr>\n",
       "<tr><td>TrainLightGCN_632685a6</td><td>TERMINATED</td><td>147.96.81.131:3184212</td><td style=\"text-align: right;\">           8</td><td style=\"text-align: right;\">            4</td><td style=\"text-align: right;\">             72</td><td style=\"text-align: right;\">     9</td><td style=\"text-align: right;\">2.91776e-06</td><td style=\"text-align: right;\">         0.0902</td><td style=\"text-align: right;\">    40</td><td style=\"text-align: right;\">        245.485 </td><td style=\"text-align: right;\">        200</td><td style=\"text-align: right;\"> 0.0788211  </td><td style=\"text-align: right;\">0.0704401  </td></tr>\n",
       "<tr><td>TrainLightGCN_359cf843</td><td>TERMINATED</td><td>147.96.81.131:3183681</td><td style=\"text-align: right;\">           8</td><td style=\"text-align: right;\">            4</td><td style=\"text-align: right;\">             41</td><td style=\"text-align: right;\">     9</td><td style=\"text-align: right;\">9.21296e-05</td><td style=\"text-align: right;\">         0.1492</td><td style=\"text-align: right;\">    40</td><td style=\"text-align: right;\">        244.654 </td><td style=\"text-align: right;\">        200</td><td style=\"text-align: right;\"> 0.141704   </td><td style=\"text-align: right;\">0.0524645  </td></tr>\n",
       "<tr><td>TrainLightGCN_d3220e1d</td><td>TERMINATED</td><td>147.96.81.131:3183173</td><td style=\"text-align: right;\">           8</td><td style=\"text-align: right;\">            4</td><td style=\"text-align: right;\">            154</td><td style=\"text-align: right;\">     9</td><td style=\"text-align: right;\">5.83486e-06</td><td style=\"text-align: right;\">         0.3209</td><td style=\"text-align: right;\">    40</td><td style=\"text-align: right;\">        240.472 </td><td style=\"text-align: right;\">        200</td><td style=\"text-align: right;\"> 0.408666   </td><td style=\"text-align: right;\">0.0719818  </td></tr>\n",
       "<tr><td>TrainLightGCN_53f88861</td><td>TERMINATED</td><td>147.96.81.131:3185778</td><td style=\"text-align: right;\">           9</td><td style=\"text-align: right;\">            3</td><td style=\"text-align: right;\">            488</td><td style=\"text-align: right;\">     9</td><td style=\"text-align: right;\">0.000498693</td><td style=\"text-align: right;\">         0.0066</td><td style=\"text-align: right;\">    40</td><td style=\"text-align: right;\">        130.32  </td><td style=\"text-align: right;\">        200</td><td style=\"text-align: right;\"> 0.0117142  </td><td style=\"text-align: right;\">0.00220796 </td></tr>\n",
       "<tr><td>TrainLightGCN_9bb7d957</td><td>TERMINATED</td><td>147.96.81.131:3185261</td><td style=\"text-align: right;\">           9</td><td style=\"text-align: right;\">            4</td><td style=\"text-align: right;\">             21</td><td style=\"text-align: right;\">     9</td><td style=\"text-align: right;\">0.000247244</td><td style=\"text-align: right;\">         0.7391</td><td style=\"text-align: right;\">    40</td><td style=\"text-align: right;\">        131.305 </td><td style=\"text-align: right;\">        200</td><td style=\"text-align: right;\"> 1.98311    </td><td style=\"text-align: right;\">0.545461   </td></tr>\n",
       "<tr><td>TrainLightGCN_28be3215</td><td>TERMINATED</td><td>147.96.81.131:3184730</td><td style=\"text-align: right;\">           9</td><td style=\"text-align: right;\">            5</td><td style=\"text-align: right;\">            140</td><td style=\"text-align: right;\">     9</td><td style=\"text-align: right;\">1.03603e-07</td><td style=\"text-align: right;\">         0.3611</td><td style=\"text-align: right;\">    40</td><td style=\"text-align: right;\">        133.878 </td><td style=\"text-align: right;\">        200</td><td style=\"text-align: right;\"> 1.21445    </td><td style=\"text-align: right;\">1.20733    </td></tr>\n",
       "<tr><td>TrainLightGCN_de431cf0</td><td>TERMINATED</td><td>147.96.81.131:3181810</td><td style=\"text-align: right;\">           6</td><td style=\"text-align: right;\">            2</td><td style=\"text-align: right;\">              2</td><td style=\"text-align: right;\">     9</td><td style=\"text-align: right;\">0.000185198</td><td style=\"text-align: right;\">         0.0035</td><td style=\"text-align: right;\">    14</td><td style=\"text-align: right;\">        321.178 </td><td style=\"text-align: right;\">         70</td><td style=\"text-align: right;\"> 0.0790853  </td><td style=\"text-align: right;\">0.0774053  </td></tr>\n",
       "<tr><td>TrainLightGCN_d9b18bb1</td><td>TERMINATED</td><td>147.96.81.131:3184386</td><td style=\"text-align: right;\">           9</td><td style=\"text-align: right;\">            4</td><td style=\"text-align: right;\">             26</td><td style=\"text-align: right;\">     9</td><td style=\"text-align: right;\">8.03128e-06</td><td style=\"text-align: right;\">         0.6472</td><td style=\"text-align: right;\">    40</td><td style=\"text-align: right;\">        136.994 </td><td style=\"text-align: right;\">        200</td><td style=\"text-align: right;\"> 0.71944    </td><td style=\"text-align: right;\">0.446255   </td></tr>\n",
       "<tr><td>TrainLightGCN_92cbca1e</td><td>TERMINATED</td><td>147.96.81.131:3184031</td><td style=\"text-align: right;\">           9</td><td style=\"text-align: right;\">            5</td><td style=\"text-align: right;\">            630</td><td style=\"text-align: right;\">     9</td><td style=\"text-align: right;\">2.78154e-05</td><td style=\"text-align: right;\">         0.0367</td><td style=\"text-align: right;\">    40</td><td style=\"text-align: right;\">        140.772 </td><td style=\"text-align: right;\">        200</td><td style=\"text-align: right;\"> 0.0453621  </td><td style=\"text-align: right;\">0.0109095  </td></tr>\n",
       "<tr><td>TrainLightGCN_c52c8e56</td><td>TERMINATED</td><td>147.96.81.131:3182190</td><td style=\"text-align: right;\">           8</td><td style=\"text-align: right;\">            5</td><td style=\"text-align: right;\">            803</td><td style=\"text-align: right;\">     9</td><td style=\"text-align: right;\">1.56497e-05</td><td style=\"text-align: right;\">         0.0243</td><td style=\"text-align: right;\">    40</td><td style=\"text-align: right;\">        291.049 </td><td style=\"text-align: right;\">        200</td><td style=\"text-align: right;\"> 0.023297   </td><td style=\"text-align: right;\">0.00422946 </td></tr>\n",
       "<tr><td>TrainLightGCN_be525b96</td><td>TERMINATED</td><td>147.96.81.131:3183494</td><td style=\"text-align: right;\">           9</td><td style=\"text-align: right;\">            5</td><td style=\"text-align: right;\">            733</td><td style=\"text-align: right;\">     9</td><td style=\"text-align: right;\">1.308e-05  </td><td style=\"text-align: right;\">         0.0197</td><td style=\"text-align: right;\">    40</td><td style=\"text-align: right;\">        136.14  </td><td style=\"text-align: right;\">        200</td><td style=\"text-align: right;\"> 0.00805656 </td><td style=\"text-align: right;\">0.000994549</td></tr>\n",
       "<tr><td>TrainLightGCN_cc2da739</td><td>TERMINATED</td><td>147.96.81.131:3181988</td><td style=\"text-align: right;\">           8</td><td style=\"text-align: right;\">            5</td><td style=\"text-align: right;\">             19</td><td style=\"text-align: right;\">     9</td><td style=\"text-align: right;\">0.009903   </td><td style=\"text-align: right;\">         0.0015</td><td style=\"text-align: right;\">    40</td><td style=\"text-align: right;\">        228.028 </td><td style=\"text-align: right;\">        200</td><td style=\"text-align: right;\"> 0.122476   </td><td style=\"text-align: right;\">0.0387041  </td></tr>\n",
       "<tr><td>TrainLightGCN_ea304d0c</td><td>TERMINATED</td><td>147.96.81.131:3180807</td><td style=\"text-align: right;\">           7</td><td style=\"text-align: right;\">            2</td><td style=\"text-align: right;\">            338</td><td style=\"text-align: right;\">     9</td><td style=\"text-align: right;\">1.08811e-07</td><td style=\"text-align: right;\">         0.0005</td><td style=\"text-align: right;\">    30</td><td style=\"text-align: right;\">        305.933 </td><td style=\"text-align: right;\">        150</td><td style=\"text-align: right;\"> 0.000843215</td><td style=\"text-align: right;\">0.00084069 </td></tr>\n",
       "<tr><td>TrainLightGCN_536e195e</td><td>TERMINATED</td><td>147.96.81.131:3180475</td><td style=\"text-align: right;\">           7</td><td style=\"text-align: right;\">            3</td><td style=\"text-align: right;\">             31</td><td style=\"text-align: right;\">     9</td><td style=\"text-align: right;\">0.00138468 </td><td style=\"text-align: right;\">         0.4767</td><td style=\"text-align: right;\">    31</td><td style=\"text-align: right;\">        310.059 </td><td style=\"text-align: right;\">        155</td><td style=\"text-align: right;\"> 2.46976    </td><td style=\"text-align: right;\">0.26671    </td></tr>\n",
       "<tr><td>TrainLightGCN_a194939d</td><td>TERMINATED</td><td>147.96.81.131:3180307</td><td style=\"text-align: right;\">           7</td><td style=\"text-align: right;\">            4</td><td style=\"text-align: right;\">             11</td><td style=\"text-align: right;\">     9</td><td style=\"text-align: right;\">3.54222e-06</td><td style=\"text-align: right;\">         0.0011</td><td style=\"text-align: right;\">    31</td><td style=\"text-align: right;\">        305.363 </td><td style=\"text-align: right;\">        155</td><td style=\"text-align: right;\"> 0.012262   </td><td style=\"text-align: right;\">0.0121971  </td></tr>\n",
       "<tr><td>TrainLightGCN_a95e4be3</td><td>TERMINATED</td><td>147.96.81.131:3182856</td><td style=\"text-align: right;\">           9</td><td style=\"text-align: right;\">            5</td><td style=\"text-align: right;\">             13</td><td style=\"text-align: right;\">     9</td><td style=\"text-align: right;\">1.81845e-05</td><td style=\"text-align: right;\">         0.0561</td><td style=\"text-align: right;\">    40</td><td style=\"text-align: right;\">        118.147 </td><td style=\"text-align: right;\">        200</td><td style=\"text-align: right;\"> 0.00544892 </td><td style=\"text-align: right;\">0.00303271 </td></tr>\n",
       "<tr><td>TrainLightGCN_d5c7bcff</td><td>TERMINATED</td><td>147.96.81.131:3179468</td><td style=\"text-align: right;\">           7</td><td style=\"text-align: right;\">            4</td><td style=\"text-align: right;\">             42</td><td style=\"text-align: right;\">     9</td><td style=\"text-align: right;\">0.000414829</td><td style=\"text-align: right;\">         0.0012</td><td style=\"text-align: right;\">    34</td><td style=\"text-align: right;\">        311.896 </td><td style=\"text-align: right;\">        170</td><td style=\"text-align: right;\"> 0.0105679  </td><td style=\"text-align: right;\">0.00322883 </td></tr>\n",
       "<tr><td>TrainLightGCN_c7e70e6d</td><td>TERMINATED</td><td>147.96.81.131:3182669</td><td style=\"text-align: right;\">           9</td><td style=\"text-align: right;\">            5</td><td style=\"text-align: right;\">             21</td><td style=\"text-align: right;\">     9</td><td style=\"text-align: right;\">1.43603e-06</td><td style=\"text-align: right;\">         0.908 </td><td style=\"text-align: right;\">    40</td><td style=\"text-align: right;\">        118.471 </td><td style=\"text-align: right;\">        200</td><td style=\"text-align: right;\"> 0.807366   </td><td style=\"text-align: right;\">0.717185   </td></tr>\n",
       "<tr><td>TrainLightGCN_cbfb5d12</td><td>TERMINATED</td><td>147.96.81.131:3179306</td><td style=\"text-align: right;\">           7</td><td style=\"text-align: right;\">            3</td><td style=\"text-align: right;\">              5</td><td style=\"text-align: right;\">     9</td><td style=\"text-align: right;\">0.00605521 </td><td style=\"text-align: right;\">         0.2019</td><td style=\"text-align: right;\">    35</td><td style=\"text-align: right;\">        315.672 </td><td style=\"text-align: right;\">        175</td><td style=\"text-align: right;\"> 0.217165   </td><td style=\"text-align: right;\">0.0660341  </td></tr>\n",
       "<tr><td>TrainLightGCN_ef6fc7ef</td><td>TERMINATED</td><td>147.96.81.131:3179633</td><td style=\"text-align: right;\">           7</td><td style=\"text-align: right;\">            4</td><td style=\"text-align: right;\">              6</td><td style=\"text-align: right;\">     9</td><td style=\"text-align: right;\">2.66572e-07</td><td style=\"text-align: right;\">         0.4766</td><td style=\"text-align: right;\">    33</td><td style=\"text-align: right;\">        305.117 </td><td style=\"text-align: right;\">        165</td><td style=\"text-align: right;\"> 1.10832    </td><td style=\"text-align: right;\">1.10623    </td></tr>\n",
       "<tr><td>TrainLightGCN_87b79782</td><td>TERMINATED</td><td>147.96.81.131:3178970</td><td style=\"text-align: right;\">           6</td><td style=\"text-align: right;\">            1</td><td style=\"text-align: right;\">            206</td><td style=\"text-align: right;\">     9</td><td style=\"text-align: right;\">6.80694e-06</td><td style=\"text-align: right;\">         0.0085</td><td style=\"text-align: right;\">    18</td><td style=\"text-align: right;\">        304.197 </td><td style=\"text-align: right;\">         90</td><td style=\"text-align: right;\"> 0.00110965 </td><td style=\"text-align: right;\">0.00076568 </td></tr>\n",
       "<tr><td>TrainLightGCN_7dedff0a</td><td>TERMINATED</td><td>147.96.81.131:3178642</td><td style=\"text-align: right;\">           7</td><td style=\"text-align: right;\">            3</td><td style=\"text-align: right;\">              4</td><td style=\"text-align: right;\">     9</td><td style=\"text-align: right;\">0.0011209  </td><td style=\"text-align: right;\">         0.0002</td><td style=\"text-align: right;\">    38</td><td style=\"text-align: right;\">        311.784 </td><td style=\"text-align: right;\">        190</td><td style=\"text-align: right;\"> 0.121799   </td><td style=\"text-align: right;\">0.114801   </td></tr>\n",
       "<tr><td>TrainLightGCN_fbe7cdc1</td><td>TERMINATED</td><td>147.96.81.131:3178479</td><td style=\"text-align: right;\">           7</td><td style=\"text-align: right;\">            4</td><td style=\"text-align: right;\">              7</td><td style=\"text-align: right;\">     9</td><td style=\"text-align: right;\">0.00397996 </td><td style=\"text-align: right;\">         0.0038</td><td style=\"text-align: right;\">    39</td><td style=\"text-align: right;\">        308.553 </td><td style=\"text-align: right;\">        195</td><td style=\"text-align: right;\"> 0.0648911  </td><td style=\"text-align: right;\">0.0230398  </td></tr>\n",
       "<tr><td>TrainLightGCN_e0392cb5</td><td>TERMINATED</td><td>147.96.81.131:3182419</td><td style=\"text-align: right;\">           9</td><td style=\"text-align: right;\">            5</td><td style=\"text-align: right;\">             53</td><td style=\"text-align: right;\">     9</td><td style=\"text-align: right;\">3.29764e-06</td><td style=\"text-align: right;\">         0.0826</td><td style=\"text-align: right;\">    40</td><td style=\"text-align: right;\">        117.614 </td><td style=\"text-align: right;\">        200</td><td style=\"text-align: right;\"> 0.0251138  </td><td style=\"text-align: right;\">0.0211077  </td></tr>\n",
       "<tr><td>TrainLightGCN_2265b6bb</td><td>TERMINATED</td><td>147.96.81.131:3178317</td><td style=\"text-align: right;\">           7</td><td style=\"text-align: right;\">            3</td><td style=\"text-align: right;\">            217</td><td style=\"text-align: right;\">     9</td><td style=\"text-align: right;\">2.79193e-05</td><td style=\"text-align: right;\">         0.0005</td><td style=\"text-align: right;\">    40</td><td style=\"text-align: right;\">        303.325 </td><td style=\"text-align: right;\">        200</td><td style=\"text-align: right;\"> 0.00164324 </td><td style=\"text-align: right;\">0.000993452</td></tr>\n",
       "<tr><td>TrainLightGCN_e0fd27d5</td><td>TERMINATED</td><td>147.96.81.131:3181362</td><td style=\"text-align: right;\">           8</td><td style=\"text-align: right;\">            1</td><td style=\"text-align: right;\">              1</td><td style=\"text-align: right;\">     9</td><td style=\"text-align: right;\">0.000154008</td><td style=\"text-align: right;\">         0.1171</td><td style=\"text-align: right;\">    40</td><td style=\"text-align: right;\">        202.282 </td><td style=\"text-align: right;\">        200</td><td style=\"text-align: right;\"> 0.21391    </td><td style=\"text-align: right;\">0.211147   </td></tr>\n",
       "<tr><td>TrainLightGCN_12680f75</td><td>TERMINATED</td><td>147.96.81.131:3181668</td><td style=\"text-align: right;\">           9</td><td style=\"text-align: right;\">            5</td><td style=\"text-align: right;\">            798</td><td style=\"text-align: right;\">     9</td><td style=\"text-align: right;\">1.59958e-05</td><td style=\"text-align: right;\">         0.0248</td><td style=\"text-align: right;\">    40</td><td style=\"text-align: right;\">        140.693 </td><td style=\"text-align: right;\">        200</td><td style=\"text-align: right;\"> 0.0364656  </td><td style=\"text-align: right;\">0.0214336  </td></tr>\n",
       "<tr><td>TrainLightGCN_989c7c46</td><td>TERMINATED</td><td>147.96.81.131:3178156</td><td style=\"text-align: right;\">           7</td><td style=\"text-align: right;\">            4</td><td style=\"text-align: right;\">            306</td><td style=\"text-align: right;\">     9</td><td style=\"text-align: right;\">8.92312e-07</td><td style=\"text-align: right;\">         0.0065</td><td style=\"text-align: right;\">    40</td><td style=\"text-align: right;\">        288.98  </td><td style=\"text-align: right;\">        200</td><td style=\"text-align: right;\"> 0.00957283 </td><td style=\"text-align: right;\">0.00943982 </td></tr>\n",
       "<tr><td>TrainLightGCN_b6bf7552</td><td>TERMINATED</td><td>147.96.81.131:3180975</td><td style=\"text-align: right;\">           8</td><td style=\"text-align: right;\">            5</td><td style=\"text-align: right;\">             19</td><td style=\"text-align: right;\">     9</td><td style=\"text-align: right;\">7.50718e-05</td><td style=\"text-align: right;\">         0.0492</td><td style=\"text-align: right;\">    40</td><td style=\"text-align: right;\">        199.834 </td><td style=\"text-align: right;\">        200</td><td style=\"text-align: right;\"> 0.00994472 </td><td style=\"text-align: right;\">0.00388586 </td></tr>\n",
       "<tr><td>TrainLightGCN_aa422a6c</td><td>TERMINATED</td><td>147.96.81.131:3179965</td><td style=\"text-align: right;\">           8</td><td style=\"text-align: right;\">            5</td><td style=\"text-align: right;\">             75</td><td style=\"text-align: right;\">     9</td><td style=\"text-align: right;\">1.39754e-06</td><td style=\"text-align: right;\">         0.0003</td><td style=\"text-align: right;\">    40</td><td style=\"text-align: right;\">        179.952 </td><td style=\"text-align: right;\">        200</td><td style=\"text-align: right;\"> 0.0101938  </td><td style=\"text-align: right;\">0.0101666  </td></tr>\n",
       "<tr><td>TrainLightGCN_113d45d0</td><td>TERMINATED</td><td>147.96.81.131:3179799</td><td style=\"text-align: right;\">           8</td><td style=\"text-align: right;\">            4</td><td style=\"text-align: right;\">             87</td><td style=\"text-align: right;\">     9</td><td style=\"text-align: right;\">2.59656e-07</td><td style=\"text-align: right;\">         0.0004</td><td style=\"text-align: right;\">    40</td><td style=\"text-align: right;\">        175.258 </td><td style=\"text-align: right;\">        200</td><td style=\"text-align: right;\"> 0.00471981 </td><td style=\"text-align: right;\">0.00471463 </td></tr>\n",
       "<tr><td>TrainLightGCN_805b250c</td><td>TERMINATED</td><td>147.96.81.131:3181142</td><td style=\"text-align: right;\">           9</td><td style=\"text-align: right;\">            2</td><td style=\"text-align: right;\">              1</td><td style=\"text-align: right;\">     9</td><td style=\"text-align: right;\">4.84995e-05</td><td style=\"text-align: right;\">         0.9794</td><td style=\"text-align: right;\">    40</td><td style=\"text-align: right;\">         98.6765</td><td style=\"text-align: right;\">        200</td><td style=\"text-align: right;\"> 0.679597   </td><td style=\"text-align: right;\">0.677145   </td></tr>\n",
       "<tr><td>TrainLightGCN_eac570e6</td><td>TERMINATED</td><td>147.96.81.131:3180639</td><td style=\"text-align: right;\">           9</td><td style=\"text-align: right;\">            4</td><td style=\"text-align: right;\">             47</td><td style=\"text-align: right;\">     9</td><td style=\"text-align: right;\">4.37236e-06</td><td style=\"text-align: right;\">         0.0763</td><td style=\"text-align: right;\">    40</td><td style=\"text-align: right;\">         92.6179</td><td style=\"text-align: right;\">        200</td><td style=\"text-align: right;\"> 0.0133813  </td><td style=\"text-align: right;\">0.00931692 </td></tr>\n",
       "<tr><td>TrainLightGCN_47fcd6bd</td><td>TERMINATED</td><td>147.96.81.131:3178804</td><td style=\"text-align: right;\">           8</td><td style=\"text-align: right;\">            4</td><td style=\"text-align: right;\">            412</td><td style=\"text-align: right;\">     9</td><td style=\"text-align: right;\">0.00406073 </td><td style=\"text-align: right;\">         0.0014</td><td style=\"text-align: right;\">    40</td><td style=\"text-align: right;\">        141.589 </td><td style=\"text-align: right;\">        200</td><td style=\"text-align: right;\"> 0.0566752  </td><td style=\"text-align: right;\">0.0137583  </td></tr>\n",
       "<tr><td>TrainLightGCN_458114ee</td><td>TERMINATED</td><td>147.96.81.131:3180140</td><td style=\"text-align: right;\">           9</td><td style=\"text-align: right;\">            2</td><td style=\"text-align: right;\">              8</td><td style=\"text-align: right;\">     9</td><td style=\"text-align: right;\">0.00100612 </td><td style=\"text-align: right;\">         0.0201</td><td style=\"text-align: right;\">    40</td><td style=\"text-align: right;\">         88.8869</td><td style=\"text-align: right;\">        200</td><td style=\"text-align: right;\"> 0.022193   </td><td style=\"text-align: right;\">0.00790139 </td></tr>\n",
       "<tr><td>TrainLightGCN_e36b472d</td><td>TERMINATED</td><td>147.96.81.131:3177696</td><td style=\"text-align: right;\">           7</td><td style=\"text-align: right;\">            3</td><td style=\"text-align: right;\">              4</td><td style=\"text-align: right;\">     9</td><td style=\"text-align: right;\">0.00208423 </td><td style=\"text-align: right;\">         0.0068</td><td style=\"text-align: right;\">    40</td><td style=\"text-align: right;\">        159.808 </td><td style=\"text-align: right;\">        200</td><td style=\"text-align: right;\"> 0.0514219  </td><td style=\"text-align: right;\">0.0268672  </td></tr>\n",
       "<tr><td>TrainLightGCN_421d883d</td><td>TERMINATED</td><td>147.96.81.131:3179135</td><td style=\"text-align: right;\">           9</td><td style=\"text-align: right;\">            4</td><td style=\"text-align: right;\">            114</td><td style=\"text-align: right;\">     9</td><td style=\"text-align: right;\">0.000527247</td><td style=\"text-align: right;\">         0.0001</td><td style=\"text-align: right;\">    40</td><td style=\"text-align: right;\">         71.1194</td><td style=\"text-align: right;\">        200</td><td style=\"text-align: right;\"> 0.0495308  </td><td style=\"text-align: right;\">0.0446755  </td></tr>\n",
       "<tr><td>TrainLightGCN_1c20ab83</td><td>TERMINATED</td><td>147.96.81.131:3177832</td><td style=\"text-align: right;\">           8</td><td style=\"text-align: right;\">            5</td><td style=\"text-align: right;\">             29</td><td style=\"text-align: right;\">     9</td><td style=\"text-align: right;\">2.8606e-05 </td><td style=\"text-align: right;\">         0.2347</td><td style=\"text-align: right;\">    40</td><td style=\"text-align: right;\">         57.8867</td><td style=\"text-align: right;\">        200</td><td style=\"text-align: right;\"> 0.181849   </td><td style=\"text-align: right;\">0.0677632  </td></tr>\n",
       "<tr><td>TrainLightGCN_22bfe769</td><td>TERMINATED</td><td>147.96.81.131:3177994</td><td style=\"text-align: right;\">           9</td><td style=\"text-align: right;\">            3</td><td style=\"text-align: right;\">              5</td><td style=\"text-align: right;\">     9</td><td style=\"text-align: right;\">5.24282e-05</td><td style=\"text-align: right;\">         0.22  </td><td style=\"text-align: right;\">    40</td><td style=\"text-align: right;\">         28.885 </td><td style=\"text-align: right;\">        200</td><td style=\"text-align: right;\"> 0.245011   </td><td style=\"text-align: right;\">0.224198   </td></tr>\n",
       "<tr><td>TrainLightGCN_d48f58cd</td><td>TERMINATED</td><td>147.96.81.131:3360965</td><td style=\"text-align: right;\">           6</td><td style=\"text-align: right;\">            2</td><td style=\"text-align: right;\">              9</td><td style=\"text-align: right;\">     9</td><td style=\"text-align: right;\">0.00507553 </td><td style=\"text-align: right;\">         0.4786</td><td style=\"text-align: right;\">    13</td><td style=\"text-align: right;\">        316.136 </td><td style=\"text-align: right;\">         65</td><td style=\"text-align: right;\"> 3.50594    </td><td style=\"text-align: right;\">0.767845   </td></tr>\n",
       "<tr><td>TrainLightGCN_c05a126a</td><td>TERMINATED</td><td>147.96.81.131:3361026</td><td style=\"text-align: right;\">           9</td><td style=\"text-align: right;\">            5</td><td style=\"text-align: right;\">            910</td><td style=\"text-align: right;\">     9</td><td style=\"text-align: right;\">0.000741313</td><td style=\"text-align: right;\">         0.0258</td><td style=\"text-align: right;\">    40</td><td style=\"text-align: right;\">        186.117 </td><td style=\"text-align: right;\">        200</td><td style=\"text-align: right;\"> 0.0402828  </td><td style=\"text-align: right;\">0.00701745 </td></tr>\n",
       "<tr><td>TrainLightGCN_c3690edb</td><td>TERMINATED</td><td>147.96.81.131:3361028</td><td style=\"text-align: right;\">           9</td><td style=\"text-align: right;\">            4</td><td style=\"text-align: right;\">            602</td><td style=\"text-align: right;\">     9</td><td style=\"text-align: right;\">0.000127228</td><td style=\"text-align: right;\">         0.0175</td><td style=\"text-align: right;\">    40</td><td style=\"text-align: right;\">        161.279 </td><td style=\"text-align: right;\">        200</td><td style=\"text-align: right;\"> 0.0202357  </td><td style=\"text-align: right;\">0.00632935 </td></tr>\n",
       "<tr><td>TrainLightGCN_6aab08fd</td><td>TERMINATED</td><td>147.96.81.131:3363134</td><td style=\"text-align: right;\">           7</td><td style=\"text-align: right;\">            2</td><td style=\"text-align: right;\">            206</td><td style=\"text-align: right;\">     9</td><td style=\"text-align: right;\">2.88293e-06</td><td style=\"text-align: right;\">         0.0002</td><td style=\"text-align: right;\">    25</td><td style=\"text-align: right;\">        308.452 </td><td style=\"text-align: right;\">        125</td><td style=\"text-align: right;\"> 0.00394175 </td><td style=\"text-align: right;\">0.00389598 </td></tr>\n",
       "<tr><td>TrainLightGCN_3f0e8a66</td><td>TERMINATED</td><td>147.96.81.131:3363829</td><td style=\"text-align: right;\">           6</td><td style=\"text-align: right;\">            3</td><td style=\"text-align: right;\">            109</td><td style=\"text-align: right;\">     9</td><td style=\"text-align: right;\">2.04973e-07</td><td style=\"text-align: right;\">         0.0048</td><td style=\"text-align: right;\">    18</td><td style=\"text-align: right;\">        315.09  </td><td style=\"text-align: right;\">         90</td><td style=\"text-align: right;\"> 0.000207199</td><td style=\"text-align: right;\">0.000196229</td></tr>\n",
       "<tr><td>TrainLightGCN_c7218dbd</td><td>TERMINATED</td><td>147.96.81.131:3363978</td><td style=\"text-align: right;\">           6</td><td style=\"text-align: right;\">            1</td><td style=\"text-align: right;\">            367</td><td style=\"text-align: right;\">     9</td><td style=\"text-align: right;\">1.06654e-07</td><td style=\"text-align: right;\">         0.0007</td><td style=\"text-align: right;\">    18</td><td style=\"text-align: right;\">        312.969 </td><td style=\"text-align: right;\">         90</td><td style=\"text-align: right;\"> 0.000365287</td><td style=\"text-align: right;\">0.000362699</td></tr>\n",
       "<tr><td>TrainLightGCN_f08da354</td><td>TERMINATED</td><td>147.96.81.131:3364144</td><td style=\"text-align: right;\">           9</td><td style=\"text-align: right;\">            5</td><td style=\"text-align: right;\">             16</td><td style=\"text-align: right;\">     9</td><td style=\"text-align: right;\">4.98075e-06</td><td style=\"text-align: right;\">         0.082 </td><td style=\"text-align: right;\">    40</td><td style=\"text-align: right;\">        118.756 </td><td style=\"text-align: right;\">        200</td><td style=\"text-align: right;\"> 0.00812369 </td><td style=\"text-align: right;\">0.00615385 </td></tr>\n",
       "<tr><td>TrainLightGCN_2e16129d</td><td>TERMINATED</td><td>147.96.81.131:3364382</td><td style=\"text-align: right;\">           9</td><td style=\"text-align: right;\">            5</td><td style=\"text-align: right;\">              5</td><td style=\"text-align: right;\">     9</td><td style=\"text-align: right;\">1.16533e-05</td><td style=\"text-align: right;\">         0.1122</td><td style=\"text-align: right;\">    40</td><td style=\"text-align: right;\">        112.752 </td><td style=\"text-align: right;\">        200</td><td style=\"text-align: right;\"> 0.0386438  </td><td style=\"text-align: right;\">0.0366261  </td></tr>\n",
       "<tr><td>TrainLightGCN_14088999</td><td>TERMINATED</td><td>147.96.81.131:3364794</td><td style=\"text-align: right;\">           6</td><td style=\"text-align: right;\">            4</td><td style=\"text-align: right;\">             22</td><td style=\"text-align: right;\">     9</td><td style=\"text-align: right;\">7.05124e-07</td><td style=\"text-align: right;\">         0.0046</td><td style=\"text-align: right;\">    18</td><td style=\"text-align: right;\">        309.645 </td><td style=\"text-align: right;\">         90</td><td style=\"text-align: right;\"> 0.00271467 </td><td style=\"text-align: right;\">0.00268914 </td></tr>\n",
       "<tr><td>TrainLightGCN_4b0f4bf7</td><td>TERMINATED</td><td>147.96.81.131:3364948</td><td style=\"text-align: right;\">           7</td><td style=\"text-align: right;\">            2</td><td style=\"text-align: right;\">            442</td><td style=\"text-align: right;\">     9</td><td style=\"text-align: right;\">7.19453e-05</td><td style=\"text-align: right;\">         0.0002</td><td style=\"text-align: right;\">    36</td><td style=\"text-align: right;\">        314.496 </td><td style=\"text-align: right;\">        180</td><td style=\"text-align: right;\"> 0.00208425 </td><td style=\"text-align: right;\">0.000829438</td></tr>\n",
       "<tr><td>TrainLightGCN_c4b5bff5</td><td>TERMINATED</td><td>147.96.81.131:3365113</td><td style=\"text-align: right;\">           8</td><td style=\"text-align: right;\">            2</td><td style=\"text-align: right;\">              2</td><td style=\"text-align: right;\">     9</td><td style=\"text-align: right;\">7.04356e-05</td><td style=\"text-align: right;\">         0.0018</td><td style=\"text-align: right;\">    40</td><td style=\"text-align: right;\">        160.065 </td><td style=\"text-align: right;\">        200</td><td style=\"text-align: right;\"> 0.0786205  </td><td style=\"text-align: right;\">0.0780201  </td></tr>\n",
       "<tr><td>TrainLightGCN_192bb632</td><td>TERMINATED</td><td>147.96.81.131:3365355</td><td style=\"text-align: right;\">           9</td><td style=\"text-align: right;\">            1</td><td style=\"text-align: right;\">            496</td><td style=\"text-align: right;\">     9</td><td style=\"text-align: right;\">2.28089e-06</td><td style=\"text-align: right;\">         0.0003</td><td style=\"text-align: right;\">    40</td><td style=\"text-align: right;\">         73.8698</td><td style=\"text-align: right;\">        200</td><td style=\"text-align: right;\"> 0.00173179 </td><td style=\"text-align: right;\">0.00169752 </td></tr>\n",
       "<tr><td>TrainLightGCN_cef2999b</td><td>TERMINATED</td><td>147.96.81.131:3365504</td><td style=\"text-align: right;\">           8</td><td style=\"text-align: right;\">            2</td><td style=\"text-align: right;\">            248</td><td style=\"text-align: right;\">     9</td><td style=\"text-align: right;\">2.14547e-05</td><td style=\"text-align: right;\">         0.0123</td><td style=\"text-align: right;\">    40</td><td style=\"text-align: right;\">        158.985 </td><td style=\"text-align: right;\">        200</td><td style=\"text-align: right;\"> 0.00176648 </td><td style=\"text-align: right;\">0.000112798</td></tr>\n",
       "<tr><td>TrainLightGCN_d0839242</td><td>TERMINATED</td><td>147.96.81.131:3365693</td><td style=\"text-align: right;\">           8</td><td style=\"text-align: right;\">            3</td><td style=\"text-align: right;\">            581</td><td style=\"text-align: right;\">     9</td><td style=\"text-align: right;\">3.70095e-05</td><td style=\"text-align: right;\">         0.0001</td><td style=\"text-align: right;\">    40</td><td style=\"text-align: right;\">        162.304 </td><td style=\"text-align: right;\">        200</td><td style=\"text-align: right;\"> 0.0047451  </td><td style=\"text-align: right;\">0.00411425 </td></tr>\n",
       "<tr><td>TrainLightGCN_60a10ca3</td><td>TERMINATED</td><td>147.96.81.131:3365894</td><td style=\"text-align: right;\">           8</td><td style=\"text-align: right;\">            2</td><td style=\"text-align: right;\">            173</td><td style=\"text-align: right;\">     9</td><td style=\"text-align: right;\">0.000174607</td><td style=\"text-align: right;\">         0.0427</td><td style=\"text-align: right;\">    40</td><td style=\"text-align: right;\">        162.264 </td><td style=\"text-align: right;\">        200</td><td style=\"text-align: right;\"> 0.0450731  </td><td style=\"text-align: right;\">0.00902179 </td></tr>\n",
       "<tr><td>TrainLightGCN_1576debe</td><td>TERMINATED</td><td>147.96.81.131:3366090</td><td style=\"text-align: right;\">           9</td><td style=\"text-align: right;\">            1</td><td style=\"text-align: right;\">              3</td><td style=\"text-align: right;\">     9</td><td style=\"text-align: right;\">6.86265e-06</td><td style=\"text-align: right;\">         0.8676</td><td style=\"text-align: right;\">    40</td><td style=\"text-align: right;\">         81.7427</td><td style=\"text-align: right;\">        200</td><td style=\"text-align: right;\"> 5.0173     </td><td style=\"text-align: right;\">4.99812    </td></tr>\n",
       "<tr><td>TrainLightGCN_65c68914</td><td>TERMINATED</td><td>147.96.81.131:3366261</td><td style=\"text-align: right;\">           8</td><td style=\"text-align: right;\">            1</td><td style=\"text-align: right;\">             26</td><td style=\"text-align: right;\">     9</td><td style=\"text-align: right;\">9.951e-06  </td><td style=\"text-align: right;\">         0.0008</td><td style=\"text-align: right;\">    40</td><td style=\"text-align: right;\">        169.591 </td><td style=\"text-align: right;\">        200</td><td style=\"text-align: right;\"> 0.00299156 </td><td style=\"text-align: right;\">0.00285081 </td></tr>\n",
       "<tr><td>TrainLightGCN_0fca4491</td><td>TERMINATED</td><td>147.96.81.131:3366426</td><td style=\"text-align: right;\">           7</td><td style=\"text-align: right;\">            1</td><td style=\"text-align: right;\">             84</td><td style=\"text-align: right;\">     9</td><td style=\"text-align: right;\">4.961e-05  </td><td style=\"text-align: right;\">         0.001 </td><td style=\"text-align: right;\">    32</td><td style=\"text-align: right;\">        307.205 </td><td style=\"text-align: right;\">        160</td><td style=\"text-align: right;\"> 0.00118078 </td><td style=\"text-align: right;\">0.000366521</td></tr>\n",
       "<tr><td>TrainLightGCN_990f40da</td><td>TERMINATED</td><td>147.96.81.131:3366587</td><td style=\"text-align: right;\">           6</td><td style=\"text-align: right;\">            3</td><td style=\"text-align: right;\">             36</td><td style=\"text-align: right;\">     9</td><td style=\"text-align: right;\">0.000324839</td><td style=\"text-align: right;\">         0.0003</td><td style=\"text-align: right;\">    16</td><td style=\"text-align: right;\">        312.618 </td><td style=\"text-align: right;\">         80</td><td style=\"text-align: right;\"> 0.0223864  </td><td style=\"text-align: right;\">0.0182936  </td></tr>\n",
       "<tr><td>TrainLightGCN_d21046f2</td><td>TERMINATED</td><td>147.96.81.131:3366749</td><td style=\"text-align: right;\">           6</td><td style=\"text-align: right;\">            3</td><td style=\"text-align: right;\">            130</td><td style=\"text-align: right;\">     9</td><td style=\"text-align: right;\">0.0015005  </td><td style=\"text-align: right;\">         0.0074</td><td style=\"text-align: right;\">    16</td><td style=\"text-align: right;\">        313.321 </td><td style=\"text-align: right;\">         80</td><td style=\"text-align: right;\"> 0.0279138  </td><td style=\"text-align: right;\">0.00636229 </td></tr>\n",
       "<tr><td>TrainLightGCN_44c5e2cd</td><td>TERMINATED</td><td>147.96.81.131:3366919</td><td style=\"text-align: right;\">           7</td><td style=\"text-align: right;\">            2</td><td style=\"text-align: right;\">            198</td><td style=\"text-align: right;\">     9</td><td style=\"text-align: right;\">0.000689718</td><td style=\"text-align: right;\">         0.0032</td><td style=\"text-align: right;\">    31</td><td style=\"text-align: right;\">        309.57  </td><td style=\"text-align: right;\">        155</td><td style=\"text-align: right;\"> 0.0111821  </td><td style=\"text-align: right;\">0.00227108 </td></tr>\n",
       "<tr><td>TrainLightGCN_ddccd067</td><td>TERMINATED</td><td>147.96.81.131:3367083</td><td style=\"text-align: right;\">           6</td><td style=\"text-align: right;\">            2</td><td style=\"text-align: right;\">            304</td><td style=\"text-align: right;\">     9</td><td style=\"text-align: right;\">0.00285646 </td><td style=\"text-align: right;\">         0.0055</td><td style=\"text-align: right;\">    16</td><td style=\"text-align: right;\">        320.151 </td><td style=\"text-align: right;\">         80</td><td style=\"text-align: right;\"> 0.0394335  </td><td style=\"text-align: right;\">0.00787738 </td></tr>\n",
       "<tr><td>TrainLightGCN_1814965f</td><td>TERMINATED</td><td>147.96.81.131:3367258</td><td style=\"text-align: right;\">           6</td><td style=\"text-align: right;\">            1</td><td style=\"text-align: right;\">            416</td><td style=\"text-align: right;\">     9</td><td style=\"text-align: right;\">4.16797e-07</td><td style=\"text-align: right;\">         0.0014</td><td style=\"text-align: right;\">    16</td><td style=\"text-align: right;\">        322.2   </td><td style=\"text-align: right;\">         80</td><td style=\"text-align: right;\"> 0.000210837</td><td style=\"text-align: right;\">0.000198704</td></tr>\n",
       "<tr><td>TrainLightGCN_cad4d469</td><td>TERMINATED</td><td>147.96.81.131:3367422</td><td style=\"text-align: right;\">           6</td><td style=\"text-align: right;\">            1</td><td style=\"text-align: right;\">            356</td><td style=\"text-align: right;\">     9</td><td style=\"text-align: right;\">9.38214e-07</td><td style=\"text-align: right;\">         0.0107</td><td style=\"text-align: right;\">    15</td><td style=\"text-align: right;\">        303.535 </td><td style=\"text-align: right;\">         75</td><td style=\"text-align: right;\"> 0.00509416 </td><td style=\"text-align: right;\">0.00491881 </td></tr>\n",
       "<tr><td>TrainLightGCN_1088e88f</td><td>TERMINATED</td><td>147.96.81.131:3367590</td><td style=\"text-align: right;\">           8</td><td style=\"text-align: right;\">            5</td><td style=\"text-align: right;\">             14</td><td style=\"text-align: right;\">     9</td><td style=\"text-align: right;\">2.1067e-07 </td><td style=\"text-align: right;\">         0.167 </td><td style=\"text-align: right;\">    40</td><td style=\"text-align: right;\">        194.673 </td><td style=\"text-align: right;\">        200</td><td style=\"text-align: right;\"> 0.0563783  </td><td style=\"text-align: right;\">0.0558637  </td></tr>\n",
       "<tr><td>TrainLightGCN_29fbe4f8</td><td>TERMINATED</td><td>147.96.81.131:3367762</td><td style=\"text-align: right;\">           8</td><td style=\"text-align: right;\">            4</td><td style=\"text-align: right;\">             10</td><td style=\"text-align: right;\">     9</td><td style=\"text-align: right;\">1.4884e-07 </td><td style=\"text-align: right;\">         0.205 </td><td style=\"text-align: right;\">    40</td><td style=\"text-align: right;\">        196.334 </td><td style=\"text-align: right;\">        200</td><td style=\"text-align: right;\"> 0.103007   </td><td style=\"text-align: right;\">0.102652   </td></tr>\n",
       "<tr><td>TrainLightGCN_05a1c1e5</td><td>TERMINATED</td><td>147.96.81.131:3367935</td><td style=\"text-align: right;\">           8</td><td style=\"text-align: right;\">            1</td><td style=\"text-align: right;\">              6</td><td style=\"text-align: right;\">     9</td><td style=\"text-align: right;\">1.67615e-06</td><td style=\"text-align: right;\">         0.0003</td><td style=\"text-align: right;\">    40</td><td style=\"text-align: right;\">        197.913 </td><td style=\"text-align: right;\">        200</td><td style=\"text-align: right;\"> 0.0640873  </td><td style=\"text-align: right;\">0.0640768  </td></tr>\n",
       "<tr><td>TrainLightGCN_0c83cdd8</td><td>TERMINATED</td><td>147.96.81.131:3368206</td><td style=\"text-align: right;\">           8</td><td style=\"text-align: right;\">            2</td><td style=\"text-align: right;\">              1</td><td style=\"text-align: right;\">     9</td><td style=\"text-align: right;\">2.54559e-06</td><td style=\"text-align: right;\">         0.0002</td><td style=\"text-align: right;\">    40</td><td style=\"text-align: right;\">        204.114 </td><td style=\"text-align: right;\">        200</td><td style=\"text-align: right;\"> 0.366642   </td><td style=\"text-align: right;\">0.366638   </td></tr>\n",
       "<tr><td>TrainLightGCN_aef2927e</td><td>TERMINATED</td><td>147.96.81.131:3368490</td><td style=\"text-align: right;\">           8</td><td style=\"text-align: right;\">            1</td><td style=\"text-align: right;\">              3</td><td style=\"text-align: right;\">     9</td><td style=\"text-align: right;\">4.38954e-07</td><td style=\"text-align: right;\">         0.0001</td><td style=\"text-align: right;\">    40</td><td style=\"text-align: right;\">        218.176 </td><td style=\"text-align: right;\">        200</td><td style=\"text-align: right;\"> 0.410477   </td><td style=\"text-align: right;\">0.410476   </td></tr>\n",
       "<tr><td>TrainLightGCN_5a6aa49f</td><td>TERMINATED</td><td>147.96.81.131:3368715</td><td style=\"text-align: right;\">           8</td><td style=\"text-align: right;\">            1</td><td style=\"text-align: right;\">            534</td><td style=\"text-align: right;\">     9</td><td style=\"text-align: right;\">3.4686e-07 </td><td style=\"text-align: right;\">         0.0004</td><td style=\"text-align: right;\">    40</td><td style=\"text-align: right;\">        221.296 </td><td style=\"text-align: right;\">        200</td><td style=\"text-align: right;\"> 0.000186076</td><td style=\"text-align: right;\">0.000179169</td></tr>\n",
       "<tr><td>TrainLightGCN_788cc57f</td><td>TERMINATED</td><td>147.96.81.131:3368899</td><td style=\"text-align: right;\">           8</td><td style=\"text-align: right;\">            2</td><td style=\"text-align: right;\">            923</td><td style=\"text-align: right;\">     9</td><td style=\"text-align: right;\">0.00112208 </td><td style=\"text-align: right;\">         0.0001</td><td style=\"text-align: right;\">    40</td><td style=\"text-align: right;\">        214.008 </td><td style=\"text-align: right;\">        200</td><td style=\"text-align: right;\"> 0.0161813  </td><td style=\"text-align: right;\">0.00348431 </td></tr>\n",
       "<tr><td>TrainLightGCN_06468eb6</td><td>TERMINATED</td><td>147.96.81.131:3369063</td><td style=\"text-align: right;\">           7</td><td style=\"text-align: right;\">            1</td><td style=\"text-align: right;\">            158</td><td style=\"text-align: right;\">     9</td><td style=\"text-align: right;\">3.94018e-06</td><td style=\"text-align: right;\">         0.0006</td><td style=\"text-align: right;\">    39</td><td style=\"text-align: right;\">        308.425 </td><td style=\"text-align: right;\">        195</td><td style=\"text-align: right;\"> 0.000336446</td><td style=\"text-align: right;\">0.000254126</td></tr>\n",
       "<tr><td>TrainLightGCN_8a912d06</td><td>TERMINATED</td><td>147.96.81.131:3369231</td><td style=\"text-align: right;\">           7</td><td style=\"text-align: right;\">            2</td><td style=\"text-align: right;\">            688</td><td style=\"text-align: right;\">     9</td><td style=\"text-align: right;\">2.27584e-06</td><td style=\"text-align: right;\">         0.0002</td><td style=\"text-align: right;\">    40</td><td style=\"text-align: right;\">        308.533 </td><td style=\"text-align: right;\">        200</td><td style=\"text-align: right;\"> 0.000403901</td><td style=\"text-align: right;\">0.000353346</td></tr>\n",
       "<tr><td>TrainLightGCN_c7307fc1</td><td>TERMINATED</td><td>147.96.81.131:3369400</td><td style=\"text-align: right;\">           7</td><td style=\"text-align: right;\">            2</td><td style=\"text-align: right;\">            833</td><td style=\"text-align: right;\">     9</td><td style=\"text-align: right;\">1.18908e-06</td><td style=\"text-align: right;\">         0.0003</td><td style=\"text-align: right;\">    40</td><td style=\"text-align: right;\">        302.233 </td><td style=\"text-align: right;\">        200</td><td style=\"text-align: right;\"> 0.000224035</td><td style=\"text-align: right;\">0.000194125</td></tr>\n",
       "<tr><td>TrainLightGCN_8a177164</td><td>TERMINATED</td><td>147.96.81.131:3369581</td><td style=\"text-align: right;\">           7</td><td style=\"text-align: right;\">            3</td><td style=\"text-align: right;\">            109</td><td style=\"text-align: right;\">     9</td><td style=\"text-align: right;\">8.70169e-06</td><td style=\"text-align: right;\">         0.016 </td><td style=\"text-align: right;\">    40</td><td style=\"text-align: right;\">        298.443 </td><td style=\"text-align: right;\">        200</td><td style=\"text-align: right;\"> 0.0250196  </td><td style=\"text-align: right;\">0.0237799  </td></tr>\n",
       "<tr><td>TrainLightGCN_e0905e1e</td><td>TERMINATED</td><td>147.96.81.131:3369982</td><td style=\"text-align: right;\">           7</td><td style=\"text-align: right;\">            3</td><td style=\"text-align: right;\">             97</td><td style=\"text-align: right;\">     9</td><td style=\"text-align: right;\">1.38173e-05</td><td style=\"text-align: right;\">         0.0023</td><td style=\"text-align: right;\">    40</td><td style=\"text-align: right;\">        239.167 </td><td style=\"text-align: right;\">        200</td><td style=\"text-align: right;\"> 0.00104892 </td><td style=\"text-align: right;\">0.00062642 </td></tr>\n",
       "<tr><td>TrainLightGCN_98d5a5f0</td><td>TERMINATED</td><td>147.96.81.131:3370163</td><td style=\"text-align: right;\">           7</td><td style=\"text-align: right;\">            2</td><td style=\"text-align: right;\">            252</td><td style=\"text-align: right;\">     9</td><td style=\"text-align: right;\">2.08067e-05</td><td style=\"text-align: right;\">         0.0004</td><td style=\"text-align: right;\">    40</td><td style=\"text-align: right;\">        231.88  </td><td style=\"text-align: right;\">        200</td><td style=\"text-align: right;\"> 0.000818605</td><td style=\"text-align: right;\">0.000396288</td></tr>\n",
       "<tr><td>TrainLightGCN_f5c17ecd</td><td>TERMINATED</td><td>147.96.81.131:3370312</td><td style=\"text-align: right;\">           9</td><td style=\"text-align: right;\">            1</td><td style=\"text-align: right;\">            468</td><td style=\"text-align: right;\">     9</td><td style=\"text-align: right;\">5.59579e-06</td><td style=\"text-align: right;\">         0.0304</td><td style=\"text-align: right;\">    40</td><td style=\"text-align: right;\">        118.908 </td><td style=\"text-align: right;\">        200</td><td style=\"text-align: right;\"> 0.01395    </td><td style=\"text-align: right;\">0.00664042 </td></tr>\n",
       "<tr><td>TrainLightGCN_f7106607</td><td>TERMINATED</td><td>147.96.81.131:3370488</td><td style=\"text-align: right;\">           9</td><td style=\"text-align: right;\">            1</td><td style=\"text-align: right;\">            777</td><td style=\"text-align: right;\">     9</td><td style=\"text-align: right;\">8.93499e-05</td><td style=\"text-align: right;\">         0.0001</td><td style=\"text-align: right;\">    40</td><td style=\"text-align: right;\">        116.499 </td><td style=\"text-align: right;\">        200</td><td style=\"text-align: right;\"> 0.00569582 </td><td style=\"text-align: right;\">0.00466349 </td></tr>\n",
       "<tr><td>TrainLightGCN_be16ce21</td><td>TERMINATED</td><td>147.96.81.131:3370663</td><td style=\"text-align: right;\">           8</td><td style=\"text-align: right;\">            4</td><td style=\"text-align: right;\">             66</td><td style=\"text-align: right;\">     9</td><td style=\"text-align: right;\">0.000110878</td><td style=\"text-align: right;\">         0.0001</td><td style=\"text-align: right;\">    40</td><td style=\"text-align: right;\">        161.707 </td><td style=\"text-align: right;\">        200</td><td style=\"text-align: right;\"> 0.0401017  </td><td style=\"text-align: right;\">0.0389297  </td></tr>\n",
       "<tr><td>TrainLightGCN_4428c7ee</td><td>TERMINATED</td><td>147.96.81.131:3370911</td><td style=\"text-align: right;\">           9</td><td style=\"text-align: right;\">            1</td><td style=\"text-align: right;\">           1010</td><td style=\"text-align: right;\">     9</td><td style=\"text-align: right;\">3.42718e-05</td><td style=\"text-align: right;\">         0.0654</td><td style=\"text-align: right;\">    40</td><td style=\"text-align: right;\">        101.346 </td><td style=\"text-align: right;\">        200</td><td style=\"text-align: right;\"> 0.44636    </td><td style=\"text-align: right;\">0.174308   </td></tr>\n",
       "</tbody>\n",
       "</table>\n",
       "  </div>\n",
       "</div>\n",
       "<style>\n",
       ".tuneStatus {\n",
       "  color: var(--jp-ui-font-color1);\n",
       "}\n",
       ".tuneStatus .systemInfo {\n",
       "  display: flex;\n",
       "  flex-direction: column;\n",
       "}\n",
       ".tuneStatus td {\n",
       "  white-space: nowrap;\n",
       "}\n",
       ".tuneStatus .trialStatus {\n",
       "  display: flex;\n",
       "  flex-direction: column;\n",
       "}\n",
       ".tuneStatus h3 {\n",
       "  font-weight: bold;\n",
       "}\n",
       ".tuneStatus .hDivider {\n",
       "  border-bottom-width: var(--jp-border-width);\n",
       "  border-bottom-color: var(--jp-border-color0);\n",
       "  border-bottom-style: solid;\n",
       "}\n",
       ".tuneStatus .vDivider {\n",
       "  border-left-width: var(--jp-border-width);\n",
       "  border-left-color: var(--jp-border-color0);\n",
       "  border-left-style: solid;\n",
       "  margin: 0.5em 1em 0.5em 1em;\n",
       "}\n",
       "</style>\n"
      ],
      "text/plain": [
       "<IPython.core.display.HTML object>"
      ]
     },
     "metadata": {},
     "output_type": "display_data"
    },
    {
     "name": "stderr",
     "output_type": "stream",
     "text": [
      "/home/daviddavo/upm-tfm-notebooks/.direnv/python-3.9/lib/python3.9/site-packages/ray/tune/execution/tune_controller.py:190: UserWarning: fail_fast='raise' detected. Be careful when using this mode as resources (such as Ray processes, file descriptors, and temporary files) may not be cleaned up properly. To use a safer mode, use fail_fast=True.\n",
      "  warnings.warn(\n",
      "2024-03-09 07:48:17,858\tINFO experiment_state.py:404 -- A local experiment checkpoint was found and will be used to restore the previous experiment state.\n"
     ]
    },
    {
     "name": "stderr",
     "output_type": "stream",
     "text": [
      "2024-03-09 07:48:17,859\tWARNING tune_controller.py:400 -- Attempting to resume experiment from /home/daviddavo/ray_results/LightGCN_optim=map@10,dao=DEAD FoundationsDAO,freq=2d,normalize=True,cutoff_date=2021-11-28T00:00:00,fold=9_2024-03-08T15:49:07.362912. This will ignore any new changes to the specification.\n"
     ]
    },
    {
     "name": "stderr",
     "output_type": "stream",
     "text": [
      "2024-03-09 07:48:17,859\tINFO tune_controller.py:404 -- Using the newest experiment state file found within the experiment directory: experiment_state-2024-03-08_15-49-07.json\n"
     ]
    },
    {
     "name": "stderr",
     "output_type": "stream",
     "text": [
      "\u001b[36m(pid=3360311)\u001b[0m 2024-03-09 07:48:19.236620: E tensorflow/compiler/xla/stream_executor/cuda/cuda_dnn.cc:9342] Unable to register cuDNN factory: Attempting to register factory for plugin cuDNN when one has already been registered\n",
      "\u001b[36m(pid=3360311)\u001b[0m 2024-03-09 07:48:19.236652: E tensorflow/compiler/xla/stream_executor/cuda/cuda_fft.cc:609] Unable to register cuFFT factory: Attempting to register factory for plugin cuFFT when one has already been registered\n",
      "\u001b[36m(pid=3360311)\u001b[0m 2024-03-09 07:48:19.236670: E tensorflow/compiler/xla/stream_executor/cuda/cuda_blas.cc:1518] Unable to register cuBLAS factory: Attempting to register factory for plugin cuBLAS when one has already been registered\n"
     ]
    },
    {
     "name": "stderr",
     "output_type": "stream",
     "text": [
      "\u001b[36m(TrainLightGCN pid=3360311)\u001b[0m /home/daviddavo/upm-tfm-notebooks/.direnv/python-3.9/lib/python3.9/site-packages/recommenders/models/deeprec/DataModel/ImplicitCF.py:73: FutureWarning: The frame.append method is deprecated and will be removed from pandas in a future version. Use pandas.concat instead.\n",
      "\u001b[36m(TrainLightGCN pid=3360311)\u001b[0m   df = train if test is None else train.append(test)\n"
     ]
    },
    {
     "name": "stdout",
     "output_type": "stream",
     "text": [
      "\u001b[36m(TrainLightGCN pid=3360311)\u001b[0m Already create adjacency matrix.\n",
      "\u001b[36m(TrainLightGCN pid=3360311)\u001b[0m Already normalize adjacency matrix.\n",
      "\u001b[36m(TrainLightGCN pid=3360311)\u001b[0m Using xavier initialization.\n"
     ]
    },
    {
     "name": "stderr",
     "output_type": "stream",
     "text": [
      "\u001b[36m(pid=3361026)\u001b[0m 2024-03-09 07:48:21.788496: E tensorflow/compiler/xla/stream_executor/cuda/cuda_dnn.cc:9342] Unable to register cuDNN factory: Attempting to register factory for plugin cuDNN when one has already been registered\u001b[32m [repeated 18x across cluster] (Ray deduplicates logs by default. Set RAY_DEDUP_LOGS=0 to disable log deduplication, or see https://docs.ray.io/en/master/ray-observability/ray-logging.html#log-deduplication for more options.)\u001b[0m\n",
      "\u001b[36m(pid=3361026)\u001b[0m 2024-03-09 07:48:21.788530: E tensorflow/compiler/xla/stream_executor/cuda/cuda_fft.cc:609] Unable to register cuFFT factory: Attempting to register factory for plugin cuFFT when one has already been registered\u001b[32m [repeated 18x across cluster]\u001b[0m\n",
      "\u001b[36m(pid=3361026)\u001b[0m 2024-03-09 07:48:21.788548: E tensorflow/compiler/xla/stream_executor/cuda/cuda_blas.cc:1518] Unable to register cuBLAS factory: Attempting to register factory for plugin cuBLAS when one has already been registered\u001b[32m [repeated 18x across cluster]\u001b[0m\n"
     ]
    },
    {
     "name": "stderr",
     "output_type": "stream",
     "text": [
      "\u001b[36m(TrainLightGCN pid=3360888)\u001b[0m /home/daviddavo/upm-tfm-notebooks/.direnv/python-3.9/lib/python3.9/site-packages/recommenders/models/deeprec/DataModel/ImplicitCF.py:73: FutureWarning: The frame.append method is deprecated and will be removed from pandas in a future version. Use pandas.concat instead.\u001b[32m [repeated 18x across cluster]\u001b[0m\n",
      "\u001b[36m(TrainLightGCN pid=3360888)\u001b[0m   df = train if test is None else train.append(test)\u001b[32m [repeated 18x across cluster]\u001b[0m\n"
     ]
    },
    {
     "name": "stderr",
     "output_type": "stream",
     "text": [
      "\u001b[36m(pid=3363134)\u001b[0m 2024-03-09 07:48:29.250645: E tensorflow/compiler/xla/stream_executor/cuda/cuda_dnn.cc:9342] Unable to register cuDNN factory: Attempting to register factory for plugin cuDNN when one has already been registered\n",
      "\u001b[36m(pid=3363134)\u001b[0m 2024-03-09 07:48:29.250679: E tensorflow/compiler/xla/stream_executor/cuda/cuda_fft.cc:609] Unable to register cuFFT factory: Attempting to register factory for plugin cuFFT when one has already been registered\n",
      "\u001b[36m(pid=3363134)\u001b[0m 2024-03-09 07:48:29.250692: E tensorflow/compiler/xla/stream_executor/cuda/cuda_blas.cc:1518] Unable to register cuBLAS factory: Attempting to register factory for plugin cuBLAS when one has already been registered\n"
     ]
    },
    {
     "name": "stdout",
     "output_type": "stream",
     "text": [
      "\u001b[36m(TrainLightGCN pid=3363134)\u001b[0m Already create adjacency matrix.\u001b[32m [repeated 19x across cluster]\u001b[0m\n",
      "\u001b[36m(TrainLightGCN pid=3363134)\u001b[0m Already normalize adjacency matrix.\u001b[32m [repeated 19x across cluster]\u001b[0m\n",
      "\u001b[36m(TrainLightGCN pid=3363134)\u001b[0m Using xavier initialization.\u001b[32m [repeated 19x across cluster]\u001b[0m\n"
     ]
    },
    {
     "name": "stderr",
     "output_type": "stream",
     "text": [
      "\u001b[36m(TrainLightGCN pid=3360316)\u001b[0m Checkpoint successfully created at: Checkpoint(filesystem=local, path=/home/daviddavo/ray_results/LightGCN_optim=map@10,dao=DEAD FoundationsDAO,freq=2d,normalize=True,cutoff_date=2021-11-28T00:00:00,fold=9_2024-03-08T15:49:07.362912/TrainLightGCN_0b93c740_54_batch_size=9,conv_layers=4,embedding_dim=34,fold=9,l2=0.0003,learning_rate=0.0022_2024-03-08_15-57-36/checkpoint_000000)\n",
      "\u001b[36m(TrainLightGCN pid=3363134)\u001b[0m /home/daviddavo/upm-tfm-notebooks/.direnv/python-3.9/lib/python3.9/site-packages/recommenders/models/deeprec/DataModel/ImplicitCF.py:73: FutureWarning: The frame.append method is deprecated and will be removed from pandas in a future version. Use pandas.concat instead.\n",
      "\u001b[36m(TrainLightGCN pid=3363134)\u001b[0m   df = train if test is None else train.append(test)\n"
     ]
    },
    {
     "name": "stderr",
     "output_type": "stream",
     "text": [
      "\u001b[36m(pid=3363829)\u001b[0m 2024-03-09 07:51:04.721883: E tensorflow/compiler/xla/stream_executor/cuda/cuda_dnn.cc:9342] Unable to register cuDNN factory: Attempting to register factory for plugin cuDNN when one has already been registered\n",
      "\u001b[36m(pid=3363829)\u001b[0m 2024-03-09 07:51:04.721921: E tensorflow/compiler/xla/stream_executor/cuda/cuda_fft.cc:609] Unable to register cuFFT factory: Attempting to register factory for plugin cuFFT when one has already been registered\n",
      "\u001b[36m(pid=3363829)\u001b[0m 2024-03-09 07:51:04.721937: E tensorflow/compiler/xla/stream_executor/cuda/cuda_blas.cc:1518] Unable to register cuBLAS factory: Attempting to register factory for plugin cuBLAS when one has already been registered\n"
     ]
    },
    {
     "name": "stderr",
     "output_type": "stream",
     "text": [
      "\u001b[36m(TrainLightGCN pid=3363829)\u001b[0m /home/daviddavo/upm-tfm-notebooks/.direnv/python-3.9/lib/python3.9/site-packages/recommenders/models/deeprec/DataModel/ImplicitCF.py:73: FutureWarning: The frame.append method is deprecated and will be removed from pandas in a future version. Use pandas.concat instead.\n",
      "\u001b[36m(TrainLightGCN pid=3363829)\u001b[0m   df = train if test is None else train.append(test)\n"
     ]
    },
    {
     "name": "stdout",
     "output_type": "stream",
     "text": [
      "\u001b[36m(TrainLightGCN pid=3363829)\u001b[0m Already create adjacency matrix.\n",
      "\u001b[36m(TrainLightGCN pid=3363829)\u001b[0m Already normalize adjacency matrix.\n",
      "\u001b[36m(TrainLightGCN pid=3363829)\u001b[0m Using xavier initialization.\n"
     ]
    },
    {
     "name": "stderr",
     "output_type": "stream",
     "text": [
      "\u001b[36m(TrainLightGCN pid=3361028)\u001b[0m Checkpoint successfully created at: Checkpoint(filesystem=local, path=/home/daviddavo/ray_results/LightGCN_optim=map@10,dao=DEAD FoundationsDAO,freq=2d,normalize=True,cutoff_date=2021-11-28T00:00:00,fold=9_2024-03-08T15:49:07.362912/TrainLightGCN_c3690edb_62_batch_size=9,conv_layers=4,embedding_dim=602,fold=9,l2=0.0001,learning_rate=0.0175_2024-03-08_15-59-27/checkpoint_000000)\u001b[32m [repeated 2x across cluster]\u001b[0m\n"
     ]
    },
    {
     "name": "stderr",
     "output_type": "stream",
     "text": [
      "\u001b[36m(pid=3363978)\u001b[0m 2024-03-09 07:51:10.713791: E tensorflow/compiler/xla/stream_executor/cuda/cuda_dnn.cc:9342] Unable to register cuDNN factory: Attempting to register factory for plugin cuDNN when one has already been registered\n",
      "\u001b[36m(pid=3363978)\u001b[0m 2024-03-09 07:51:10.713837: E tensorflow/compiler/xla/stream_executor/cuda/cuda_fft.cc:609] Unable to register cuFFT factory: Attempting to register factory for plugin cuFFT when one has already been registered\n",
      "\u001b[36m(pid=3363978)\u001b[0m 2024-03-09 07:51:10.713857: E tensorflow/compiler/xla/stream_executor/cuda/cuda_blas.cc:1518] Unable to register cuBLAS factory: Attempting to register factory for plugin cuBLAS when one has already been registered\n"
     ]
    },
    {
     "name": "stderr",
     "output_type": "stream",
     "text": [
      "\u001b[36m(TrainLightGCN pid=3363978)\u001b[0m /home/daviddavo/upm-tfm-notebooks/.direnv/python-3.9/lib/python3.9/site-packages/recommenders/models/deeprec/DataModel/ImplicitCF.py:73: FutureWarning: The frame.append method is deprecated and will be removed from pandas in a future version. Use pandas.concat instead.\n",
      "\u001b[36m(TrainLightGCN pid=3363978)\u001b[0m   df = train if test is None else train.append(test)\n"
     ]
    },
    {
     "name": "stdout",
     "output_type": "stream",
     "text": [
      "\u001b[36m(TrainLightGCN pid=3363978)\u001b[0m Already create adjacency matrix.\n",
      "\u001b[36m(TrainLightGCN pid=3363978)\u001b[0m Already normalize adjacency matrix.\n",
      "\u001b[36m(TrainLightGCN pid=3363978)\u001b[0m Using xavier initialization.\n"
     ]
    },
    {
     "name": "stderr",
     "output_type": "stream",
     "text": [
      "\u001b[36m(pid=3364144)\u001b[0m 2024-03-09 07:51:16.958690: E tensorflow/compiler/xla/stream_executor/cuda/cuda_dnn.cc:9342] Unable to register cuDNN factory: Attempting to register factory for plugin cuDNN when one has already been registered\n",
      "\u001b[36m(pid=3364144)\u001b[0m 2024-03-09 07:51:16.958745: E tensorflow/compiler/xla/stream_executor/cuda/cuda_fft.cc:609] Unable to register cuFFT factory: Attempting to register factory for plugin cuFFT when one has already been registered\n",
      "\u001b[36m(pid=3364144)\u001b[0m 2024-03-09 07:51:16.958767: E tensorflow/compiler/xla/stream_executor/cuda/cuda_blas.cc:1518] Unable to register cuBLAS factory: Attempting to register factory for plugin cuBLAS when one has already been registered\n"
     ]
    },
    {
     "name": "stderr",
     "output_type": "stream",
     "text": [
      "\u001b[36m(TrainLightGCN pid=3364144)\u001b[0m /home/daviddavo/upm-tfm-notebooks/.direnv/python-3.9/lib/python3.9/site-packages/recommenders/models/deeprec/DataModel/ImplicitCF.py:73: FutureWarning: The frame.append method is deprecated and will be removed from pandas in a future version. Use pandas.concat instead.\n",
      "\u001b[36m(TrainLightGCN pid=3364144)\u001b[0m   df = train if test is None else train.append(test)\n"
     ]
    },
    {
     "name": "stdout",
     "output_type": "stream",
     "text": [
      "\u001b[36m(TrainLightGCN pid=3364144)\u001b[0m Already create adjacency matrix.\n",
      "\u001b[36m(TrainLightGCN pid=3364144)\u001b[0m Already normalize adjacency matrix.\n"
     ]
    },
    {
     "name": "stdout",
     "output_type": "stream",
     "text": [
      "\u001b[36m(TrainLightGCN pid=3364144)\u001b[0m Using xavier initialization.\n"
     ]
    },
    {
     "name": "stderr",
     "output_type": "stream",
     "text": [
      "\u001b[36m(TrainLightGCN pid=3361026)\u001b[0m Checkpoint successfully created at: Checkpoint(filesystem=local, path=/home/daviddavo/ray_results/LightGCN_optim=map@10,dao=DEAD FoundationsDAO,freq=2d,normalize=True,cutoff_date=2021-11-28T00:00:00,fold=9_2024-03-08T15:49:07.362912/TrainLightGCN_c05a126a_61_batch_size=9,conv_layers=5,embedding_dim=910,fold=9,l2=0.0007,learning_rate=0.0258_2024-03-08_15-59-21/checkpoint_000000)\n"
     ]
    },
    {
     "name": "stderr",
     "output_type": "stream",
     "text": [
      "\u001b[36m(pid=3364382)\u001b[0m 2024-03-09 07:51:34.775929: E tensorflow/compiler/xla/stream_executor/cuda/cuda_dnn.cc:9342] Unable to register cuDNN factory: Attempting to register factory for plugin cuDNN when one has already been registered\n",
      "\u001b[36m(pid=3364382)\u001b[0m 2024-03-09 07:51:34.775972: E tensorflow/compiler/xla/stream_executor/cuda/cuda_fft.cc:609] Unable to register cuFFT factory: Attempting to register factory for plugin cuFFT when one has already been registered\n",
      "\u001b[36m(pid=3364382)\u001b[0m 2024-03-09 07:51:34.775994: E tensorflow/compiler/xla/stream_executor/cuda/cuda_blas.cc:1518] Unable to register cuBLAS factory: Attempting to register factory for plugin cuBLAS when one has already been registered\n"
     ]
    },
    {
     "name": "stderr",
     "output_type": "stream",
     "text": [
      "\u001b[36m(TrainLightGCN pid=3364382)\u001b[0m /home/daviddavo/upm-tfm-notebooks/.direnv/python-3.9/lib/python3.9/site-packages/recommenders/models/deeprec/DataModel/ImplicitCF.py:73: FutureWarning: The frame.append method is deprecated and will be removed from pandas in a future version. Use pandas.concat instead.\n",
      "\u001b[36m(TrainLightGCN pid=3364382)\u001b[0m   df = train if test is None else train.append(test)\n"
     ]
    },
    {
     "name": "stdout",
     "output_type": "stream",
     "text": [
      "\u001b[36m(TrainLightGCN pid=3364382)\u001b[0m Already create adjacency matrix.\n",
      "\u001b[36m(TrainLightGCN pid=3364382)\u001b[0m Already normalize adjacency matrix.\n",
      "\u001b[36m(TrainLightGCN pid=3364382)\u001b[0m Using xavier initialization.\n"
     ]
    },
    {
     "name": "stderr",
     "output_type": "stream",
     "text": [
      "\u001b[36m(TrainLightGCN pid=3360410)\u001b[0m Checkpoint successfully created at: Checkpoint(filesystem=local, path=/home/daviddavo/ray_results/LightGCN_optim=map@10,dao=DEAD FoundationsDAO,freq=2d,normalize=True,cutoff_date=2021-11-28T00:00:00,fold=9_2024-03-08T15:49:07.362912/TrainLightGCN_5b8ec183_49_batch_size=8,conv_layers=4,embedding_dim=61,fold=9,l2=0.0001,learning_rate=0.0096_2024-03-08_15-56-08/checkpoint_000000)\n"
     ]
    },
    {
     "name": "stderr",
     "output_type": "stream",
     "text": [
      "\u001b[36m(pid=3364794)\u001b[0m 2024-03-09 07:52:53.918196: E tensorflow/compiler/xla/stream_executor/cuda/cuda_dnn.cc:9342] Unable to register cuDNN factory: Attempting to register factory for plugin cuDNN when one has already been registered\n",
      "\u001b[36m(pid=3364794)\u001b[0m 2024-03-09 07:52:53.918335: E tensorflow/compiler/xla/stream_executor/cuda/cuda_fft.cc:609] Unable to register cuFFT factory: Attempting to register factory for plugin cuFFT when one has already been registered\n",
      "\u001b[36m(pid=3364794)\u001b[0m 2024-03-09 07:52:53.918355: E tensorflow/compiler/xla/stream_executor/cuda/cuda_blas.cc:1518] Unable to register cuBLAS factory: Attempting to register factory for plugin cuBLAS when one has already been registered\n"
     ]
    },
    {
     "name": "stderr",
     "output_type": "stream",
     "text": [
      "\u001b[36m(TrainLightGCN pid=3360576)\u001b[0m Checkpoint successfully created at: Checkpoint(filesystem=local, path=/home/daviddavo/ray_results/LightGCN_optim=map@10,dao=DEAD FoundationsDAO,freq=2d,normalize=True,cutoff_date=2021-11-28T00:00:00,fold=9_2024-03-08T15:49:07.362912/TrainLightGCN_8bfca41c_55_batch_size=8,conv_layers=2,embedding_dim=504,fold=9,l2=0.0001,learning_rate=0.0002_2024-03-08_15-57-43/checkpoint_000000)\n"
     ]
    },
    {
     "name": "stderr",
     "output_type": "stream",
     "text": [
      "\u001b[36m(TrainLightGCN pid=3364794)\u001b[0m /home/daviddavo/upm-tfm-notebooks/.direnv/python-3.9/lib/python3.9/site-packages/recommenders/models/deeprec/DataModel/ImplicitCF.py:73: FutureWarning: The frame.append method is deprecated and will be removed from pandas in a future version. Use pandas.concat instead.\n",
      "\u001b[36m(TrainLightGCN pid=3364794)\u001b[0m   df = train if test is None else train.append(test)\n"
     ]
    },
    {
     "name": "stdout",
     "output_type": "stream",
     "text": [
      "\u001b[36m(TrainLightGCN pid=3364794)\u001b[0m Using xavier initialization.\n",
      "\u001b[36m(TrainLightGCN pid=3364794)\u001b[0m Already create adjacency matrix.\n",
      "\u001b[36m(TrainLightGCN pid=3364794)\u001b[0m Already normalize adjacency matrix.\n"
     ]
    },
    {
     "name": "stderr",
     "output_type": "stream",
     "text": [
      "\u001b[36m(pid=3364948)\u001b[0m 2024-03-09 07:52:59.685201: E tensorflow/compiler/xla/stream_executor/cuda/cuda_dnn.cc:9342] Unable to register cuDNN factory: Attempting to register factory for plugin cuDNN when one has already been registered\n",
      "\u001b[36m(pid=3364948)\u001b[0m 2024-03-09 07:52:59.685239: E tensorflow/compiler/xla/stream_executor/cuda/cuda_fft.cc:609] Unable to register cuFFT factory: Attempting to register factory for plugin cuFFT when one has already been registered\n",
      "\u001b[36m(pid=3364948)\u001b[0m 2024-03-09 07:52:59.685255: E tensorflow/compiler/xla/stream_executor/cuda/cuda_blas.cc:1518] Unable to register cuBLAS factory: Attempting to register factory for plugin cuBLAS when one has already been registered\n"
     ]
    },
    {
     "name": "stderr",
     "output_type": "stream",
     "text": [
      "\u001b[36m(TrainLightGCN pid=3360648)\u001b[0m Checkpoint successfully created at: Checkpoint(filesystem=local, path=/home/daviddavo/ray_results/LightGCN_optim=map@10,dao=DEAD FoundationsDAO,freq=2d,normalize=True,cutoff_date=2021-11-28T00:00:00,fold=9_2024-03-08T15:49:07.362912/TrainLightGCN_2d989d71_44_batch_size=8,conv_layers=5,embedding_dim=14,fold=9,l2=0.0000,learning_rate=0.1804_2024-03-08_15-55-36/checkpoint_000000)\n",
      "\u001b[36m(TrainLightGCN pid=3364948)\u001b[0m /home/daviddavo/upm-tfm-notebooks/.direnv/python-3.9/lib/python3.9/site-packages/recommenders/models/deeprec/DataModel/ImplicitCF.py:73: FutureWarning: The frame.append method is deprecated and will be removed from pandas in a future version. Use pandas.concat instead.\n",
      "\u001b[36m(TrainLightGCN pid=3364948)\u001b[0m   df = train if test is None else train.append(test)\n"
     ]
    },
    {
     "name": "stdout",
     "output_type": "stream",
     "text": [
      "\u001b[36m(TrainLightGCN pid=3364948)\u001b[0m Already create adjacency matrix.\n",
      "\u001b[36m(TrainLightGCN pid=3364948)\u001b[0m Already normalize adjacency matrix.\n",
      "\u001b[36m(TrainLightGCN pid=3364948)\u001b[0m Using xavier initialization.\n"
     ]
    },
    {
     "name": "stderr",
     "output_type": "stream",
     "text": [
      "\u001b[36m(pid=3365113)\u001b[0m 2024-03-09 07:53:05.529478: E tensorflow/compiler/xla/stream_executor/cuda/cuda_dnn.cc:9342] Unable to register cuDNN factory: Attempting to register factory for plugin cuDNN when one has already been registered\n",
      "\u001b[36m(pid=3365113)\u001b[0m 2024-03-09 07:53:05.529516: E tensorflow/compiler/xla/stream_executor/cuda/cuda_fft.cc:609] Unable to register cuFFT factory: Attempting to register factory for plugin cuFFT when one has already been registered\n",
      "\u001b[36m(pid=3365113)\u001b[0m 2024-03-09 07:53:05.529535: E tensorflow/compiler/xla/stream_executor/cuda/cuda_blas.cc:1518] Unable to register cuBLAS factory: Attempting to register factory for plugin cuBLAS when one has already been registered\n"
     ]
    },
    {
     "name": "stderr",
     "output_type": "stream",
     "text": [
      "\u001b[36m(TrainLightGCN pid=3365113)\u001b[0m /home/daviddavo/upm-tfm-notebooks/.direnv/python-3.9/lib/python3.9/site-packages/recommenders/models/deeprec/DataModel/ImplicitCF.py:73: FutureWarning: The frame.append method is deprecated and will be removed from pandas in a future version. Use pandas.concat instead.\n",
      "\u001b[36m(TrainLightGCN pid=3365113)\u001b[0m   df = train if test is None else train.append(test)\n"
     ]
    },
    {
     "name": "stdout",
     "output_type": "stream",
     "text": [
      "\u001b[36m(TrainLightGCN pid=3365113)\u001b[0m Already create adjacency matrix.\n",
      "\u001b[36m(TrainLightGCN pid=3365113)\u001b[0m Already normalize adjacency matrix.\n",
      "\u001b[36m(TrainLightGCN pid=3365113)\u001b[0m Using xavier initialization.\n"
     ]
    },
    {
     "name": "stderr",
     "output_type": "stream",
     "text": [
      "\u001b[36m(TrainLightGCN pid=3364144)\u001b[0m Checkpoint successfully created at: Checkpoint(filesystem=local, path=/home/daviddavo/ray_results/LightGCN_optim=map@10,dao=DEAD FoundationsDAO,freq=2d,normalize=True,cutoff_date=2021-11-28T00:00:00,fold=9_2024-03-08T15:49:07.362912/TrainLightGCN_f08da354_66_batch_size=9,conv_layers=5,embedding_dim=16,fold=9,l2=0.0000,learning_rate=0.0820_2024-03-09_07-51-15/checkpoint_000000)\n"
     ]
    },
    {
     "name": "stderr",
     "output_type": "stream",
     "text": [
      "\u001b[36m(pid=3365355)\u001b[0m 2024-03-09 07:53:22.749720: E tensorflow/compiler/xla/stream_executor/cuda/cuda_dnn.cc:9342] Unable to register cuDNN factory: Attempting to register factory for plugin cuDNN when one has already been registered\n",
      "\u001b[36m(pid=3365355)\u001b[0m 2024-03-09 07:53:22.749850: E tensorflow/compiler/xla/stream_executor/cuda/cuda_fft.cc:609] Unable to register cuFFT factory: Attempting to register factory for plugin cuFFT when one has already been registered\n",
      "\u001b[36m(pid=3365355)\u001b[0m 2024-03-09 07:53:22.749871: E tensorflow/compiler/xla/stream_executor/cuda/cuda_blas.cc:1518] Unable to register cuBLAS factory: Attempting to register factory for plugin cuBLAS when one has already been registered\n"
     ]
    },
    {
     "name": "stderr",
     "output_type": "stream",
     "text": [
      "\u001b[36m(TrainLightGCN pid=3365355)\u001b[0m /home/daviddavo/upm-tfm-notebooks/.direnv/python-3.9/lib/python3.9/site-packages/recommenders/models/deeprec/DataModel/ImplicitCF.py:73: FutureWarning: The frame.append method is deprecated and will be removed from pandas in a future version. Use pandas.concat instead.\n",
      "\u001b[36m(TrainLightGCN pid=3365355)\u001b[0m   df = train if test is None else train.append(test)\n",
      "\u001b[36m(TrainLightGCN pid=3360469)\u001b[0m Checkpoint successfully created at: Checkpoint(filesystem=local, path=/home/daviddavo/ray_results/LightGCN_optim=map@10,dao=DEAD FoundationsDAO,freq=2d,normalize=True,cutoff_date=2021-11-28T00:00:00,fold=9_2024-03-08T15:49:07.362912/TrainLightGCN_35ba720b_52_batch_size=8,conv_layers=5,embedding_dim=999,fold=9,l2=0.0009,learning_rate=0.1191_2024-03-08_15-57-23/checkpoint_000000)\n"
     ]
    },
    {
     "name": "stdout",
     "output_type": "stream",
     "text": [
      "\u001b[36m(TrainLightGCN pid=3365355)\u001b[0m Already create adjacency matrix.\n",
      "\u001b[36m(TrainLightGCN pid=3365355)\u001b[0m Already normalize adjacency matrix.\n",
      "\u001b[36m(TrainLightGCN pid=3365355)\u001b[0m Using xavier initialization.\n"
     ]
    },
    {
     "name": "stderr",
     "output_type": "stream",
     "text": [
      "\u001b[36m(pid=3365504)\u001b[0m 2024-03-09 07:53:29.374096: E tensorflow/compiler/xla/stream_executor/cuda/cuda_dnn.cc:9342] Unable to register cuDNN factory: Attempting to register factory for plugin cuDNN when one has already been registered\n",
      "\u001b[36m(pid=3365504)\u001b[0m 2024-03-09 07:53:29.374138: E tensorflow/compiler/xla/stream_executor/cuda/cuda_fft.cc:609] Unable to register cuFFT factory: Attempting to register factory for plugin cuFFT when one has already been registered\n",
      "\u001b[36m(pid=3365504)\u001b[0m 2024-03-09 07:53:29.374157: E tensorflow/compiler/xla/stream_executor/cuda/cuda_blas.cc:1518] Unable to register cuBLAS factory: Attempting to register factory for plugin cuBLAS when one has already been registered\n"
     ]
    },
    {
     "name": "stderr",
     "output_type": "stream",
     "text": [
      "\u001b[36m(TrainLightGCN pid=3360528)\u001b[0m Checkpoint successfully created at: Checkpoint(filesystem=local, path=/home/daviddavo/ray_results/LightGCN_optim=map@10,dao=DEAD FoundationsDAO,freq=2d,normalize=True,cutoff_date=2021-11-28T00:00:00,fold=9_2024-03-08T15:49:07.362912/TrainLightGCN_ff926038_51_batch_size=7,conv_layers=1,embedding_dim=7,fold=9,l2=0.0000,learning_rate=0.0001_2024-03-08_15-57-15/checkpoint_000000)\n"
     ]
    },
    {
     "name": "stderr",
     "output_type": "stream",
     "text": [
      "\u001b[36m(TrainLightGCN pid=3365504)\u001b[0m /home/daviddavo/upm-tfm-notebooks/.direnv/python-3.9/lib/python3.9/site-packages/recommenders/models/deeprec/DataModel/ImplicitCF.py:73: FutureWarning: The frame.append method is deprecated and will be removed from pandas in a future version. Use pandas.concat instead.\n",
      "\u001b[36m(TrainLightGCN pid=3365504)\u001b[0m   df = train if test is None else train.append(test)\n"
     ]
    },
    {
     "name": "stdout",
     "output_type": "stream",
     "text": [
      "\u001b[36m(TrainLightGCN pid=3365504)\u001b[0m Already create adjacency matrix.\n",
      "\u001b[36m(TrainLightGCN pid=3365504)\u001b[0m Already normalize adjacency matrix.\n",
      "\u001b[36m(TrainLightGCN pid=3365504)\u001b[0m Using xavier initialization.\n"
     ]
    },
    {
     "name": "stderr",
     "output_type": "stream",
     "text": [
      "\u001b[36m(pid=3365693)\u001b[0m 2024-03-09 07:53:35.410739: E tensorflow/compiler/xla/stream_executor/cuda/cuda_dnn.cc:9342] Unable to register cuDNN factory: Attempting to register factory for plugin cuDNN when one has already been registered\n",
      "\u001b[36m(pid=3365693)\u001b[0m 2024-03-09 07:53:35.410775: E tensorflow/compiler/xla/stream_executor/cuda/cuda_fft.cc:609] Unable to register cuFFT factory: Attempting to register factory for plugin cuFFT when one has already been registered\n",
      "\u001b[36m(pid=3365693)\u001b[0m 2024-03-09 07:53:35.410793: E tensorflow/compiler/xla/stream_executor/cuda/cuda_blas.cc:1518] Unable to register cuBLAS factory: Attempting to register factory for plugin cuBLAS when one has already been registered\n"
     ]
    },
    {
     "name": "stderr",
     "output_type": "stream",
     "text": [
      "\u001b[36m(TrainLightGCN pid=3360363)\u001b[0m Checkpoint successfully created at: Checkpoint(filesystem=local, path=/home/daviddavo/ray_results/LightGCN_optim=map@10,dao=DEAD FoundationsDAO,freq=2d,normalize=True,cutoff_date=2021-11-28T00:00:00,fold=9_2024-03-08T15:49:07.362912/TrainLightGCN_c7404e88_48_batch_size=7,conv_layers=5,embedding_dim=252,fold=9,l2=0.0000,learning_rate=0.0027_2024-03-08_15-56-01/checkpoint_000000)\u001b[32m [repeated 3x across cluster]\u001b[0m\n"
     ]
    },
    {
     "name": "stderr",
     "output_type": "stream",
     "text": [
      "\u001b[36m(TrainLightGCN pid=3365693)\u001b[0m /home/daviddavo/upm-tfm-notebooks/.direnv/python-3.9/lib/python3.9/site-packages/recommenders/models/deeprec/DataModel/ImplicitCF.py:73: FutureWarning: The frame.append method is deprecated and will be removed from pandas in a future version. Use pandas.concat instead.\n",
      "\u001b[36m(TrainLightGCN pid=3365693)\u001b[0m   df = train if test is None else train.append(test)\n"
     ]
    },
    {
     "name": "stdout",
     "output_type": "stream",
     "text": [
      "\u001b[36m(TrainLightGCN pid=3365693)\u001b[0m Already create adjacency matrix.\n",
      "\u001b[36m(TrainLightGCN pid=3365693)\u001b[0m Already normalize adjacency matrix.\n",
      "\u001b[36m(TrainLightGCN pid=3365693)\u001b[0m Using xavier initialization.\n"
     ]
    },
    {
     "name": "stderr",
     "output_type": "stream",
     "text": [
      "\u001b[36m(pid=3365894)\u001b[0m 2024-03-09 07:53:40.688046: E tensorflow/compiler/xla/stream_executor/cuda/cuda_dnn.cc:9342] Unable to register cuDNN factory: Attempting to register factory for plugin cuDNN when one has already been registered\n",
      "\u001b[36m(pid=3365894)\u001b[0m 2024-03-09 07:53:40.688084: E tensorflow/compiler/xla/stream_executor/cuda/cuda_fft.cc:609] Unable to register cuFFT factory: Attempting to register factory for plugin cuFFT when one has already been registered\n",
      "\u001b[36m(pid=3365894)\u001b[0m 2024-03-09 07:53:40.688100: E tensorflow/compiler/xla/stream_executor/cuda/cuda_blas.cc:1518] Unable to register cuBLAS factory: Attempting to register factory for plugin cuBLAS when one has already been registered\n"
     ]
    },
    {
     "name": "stderr",
     "output_type": "stream",
     "text": [
      "\u001b[36m(TrainLightGCN pid=3360312)\u001b[0m Checkpoint successfully created at: Checkpoint(filesystem=local, path=/home/daviddavo/ray_results/LightGCN_optim=map@10,dao=DEAD FoundationsDAO,freq=2d,normalize=True,cutoff_date=2021-11-28T00:00:00,fold=9_2024-03-08T15:49:07.362912/TrainLightGCN_ac5b0c32_53_batch_size=6,conv_layers=1,embedding_dim=146,fold=9,l2=0.0000,learning_rate=0.0008_2024-03-08_15-57-29/checkpoint_000000)\u001b[32m [repeated 5x across cluster]\u001b[0m\n"
     ]
    },
    {
     "name": "stderr",
     "output_type": "stream",
     "text": [
      "\u001b[36m(TrainLightGCN pid=3365894)\u001b[0m /home/daviddavo/upm-tfm-notebooks/.direnv/python-3.9/lib/python3.9/site-packages/recommenders/models/deeprec/DataModel/ImplicitCF.py:73: FutureWarning: The frame.append method is deprecated and will be removed from pandas in a future version. Use pandas.concat instead.\n",
      "\u001b[36m(TrainLightGCN pid=3365894)\u001b[0m   df = train if test is None else train.append(test)\n"
     ]
    },
    {
     "name": "stdout",
     "output_type": "stream",
     "text": [
      "\u001b[36m(TrainLightGCN pid=3365894)\u001b[0m Already create adjacency matrix.\n",
      "\u001b[36m(TrainLightGCN pid=3365894)\u001b[0m Already normalize adjacency matrix.\n",
      "\u001b[36m(TrainLightGCN pid=3365894)\u001b[0m Using xavier initialization.\n"
     ]
    },
    {
     "name": "stderr",
     "output_type": "stream",
     "text": [
      "\u001b[36m(pid=3366090)\u001b[0m 2024-03-09 07:53:45.496400: E tensorflow/compiler/xla/stream_executor/cuda/cuda_dnn.cc:9342] Unable to register cuDNN factory: Attempting to register factory for plugin cuDNN when one has already been registered\n",
      "\u001b[36m(pid=3366090)\u001b[0m 2024-03-09 07:53:45.496436: E tensorflow/compiler/xla/stream_executor/cuda/cuda_fft.cc:609] Unable to register cuFFT factory: Attempting to register factory for plugin cuFFT when one has already been registered\n",
      "\u001b[36m(pid=3366090)\u001b[0m 2024-03-09 07:53:45.496452: E tensorflow/compiler/xla/stream_executor/cuda/cuda_blas.cc:1518] Unable to register cuBLAS factory: Attempting to register factory for plugin cuBLAS when one has already been registered\n"
     ]
    },
    {
     "name": "stderr",
     "output_type": "stream",
     "text": [
      "\u001b[36m(TrainLightGCN pid=3360888)\u001b[0m Checkpoint successfully created at: Checkpoint(filesystem=local, path=/home/daviddavo/ray_results/LightGCN_optim=map@10,dao=DEAD FoundationsDAO,freq=2d,normalize=True,cutoff_date=2021-11-28T00:00:00,fold=9_2024-03-08T15:49:07.362912/TrainLightGCN_8adc274b_41_batch_size=6,conv_layers=1,embedding_dim=204,fold=9,l2=0.0000,learning_rate=0.0133_2024-03-08_15-55-17/checkpoint_000000)\u001b[32m [repeated 4x across cluster]\u001b[0m\n"
     ]
    },
    {
     "name": "stdout",
     "output_type": "stream",
     "text": [
      "\u001b[36m(TrainLightGCN pid=3366090)\u001b[0m Already create adjacency matrix.\n",
      "\u001b[36m(TrainLightGCN pid=3366090)\u001b[0m Already normalize adjacency matrix.\n",
      "\u001b[36m(TrainLightGCN pid=3366090)\u001b[0m Using xavier initialization.\n"
     ]
    },
    {
     "name": "stderr",
     "output_type": "stream",
     "text": [
      "\u001b[36m(TrainLightGCN pid=3366090)\u001b[0m /home/daviddavo/upm-tfm-notebooks/.direnv/python-3.9/lib/python3.9/site-packages/recommenders/models/deeprec/DataModel/ImplicitCF.py:73: FutureWarning: The frame.append method is deprecated and will be removed from pandas in a future version. Use pandas.concat instead.\n",
      "\u001b[36m(TrainLightGCN pid=3366090)\u001b[0m   df = train if test is None else train.append(test)\n",
      "\u001b[36m(pid=3366261)\u001b[0m 2024-03-09 07:53:50.511372: E tensorflow/compiler/xla/stream_executor/cuda/cuda_dnn.cc:9342] Unable to register cuDNN factory: Attempting to register factory for plugin cuDNN when one has already been registered\n",
      "\u001b[36m(pid=3366261)\u001b[0m 2024-03-09 07:53:50.511412: E tensorflow/compiler/xla/stream_executor/cuda/cuda_fft.cc:609] Unable to register cuFFT factory: Attempting to register factory for plugin cuFFT when one has already been registered\n",
      "\u001b[36m(pid=3366261)\u001b[0m 2024-03-09 07:53:50.511427: E tensorflow/compiler/xla/stream_executor/cuda/cuda_blas.cc:1518] Unable to register cuBLAS factory: Attempting to register factory for plugin cuBLAS when one has already been registered\n"
     ]
    },
    {
     "name": "stderr",
     "output_type": "stream",
     "text": [
      "\u001b[36m(TrainLightGCN pid=3366261)\u001b[0m /home/daviddavo/upm-tfm-notebooks/.direnv/python-3.9/lib/python3.9/site-packages/recommenders/models/deeprec/DataModel/ImplicitCF.py:73: FutureWarning: The frame.append method is deprecated and will be removed from pandas in a future version. Use pandas.concat instead.\n",
      "\u001b[36m(TrainLightGCN pid=3366261)\u001b[0m   df = train if test is None else train.append(test)\n"
     ]
    },
    {
     "name": "stdout",
     "output_type": "stream",
     "text": [
      "\u001b[36m(TrainLightGCN pid=3366261)\u001b[0m Already create adjacency matrix.\n",
      "\u001b[36m(TrainLightGCN pid=3366261)\u001b[0m Already normalize adjacency matrix.\n",
      "\u001b[36m(TrainLightGCN pid=3366261)\u001b[0m Using xavier initialization.\n"
     ]
    },
    {
     "name": "stderr",
     "output_type": "stream",
     "text": [
      "\u001b[36m(pid=3366426)\u001b[0m 2024-03-09 07:53:55.532835: E tensorflow/compiler/xla/stream_executor/cuda/cuda_dnn.cc:9342] Unable to register cuDNN factory: Attempting to register factory for plugin cuDNN when one has already been registered\n",
      "\u001b[36m(pid=3366426)\u001b[0m 2024-03-09 07:53:55.532874: E tensorflow/compiler/xla/stream_executor/cuda/cuda_fft.cc:609] Unable to register cuFFT factory: Attempting to register factory for plugin cuFFT when one has already been registered\n",
      "\u001b[36m(pid=3366426)\u001b[0m 2024-03-09 07:53:55.532891: E tensorflow/compiler/xla/stream_executor/cuda/cuda_blas.cc:1518] Unable to register cuBLAS factory: Attempting to register factory for plugin cuBLAS when one has already been registered\n"
     ]
    },
    {
     "name": "stderr",
     "output_type": "stream",
     "text": [
      "\u001b[36m(TrainLightGCN pid=3366426)\u001b[0m /home/daviddavo/upm-tfm-notebooks/.direnv/python-3.9/lib/python3.9/site-packages/recommenders/models/deeprec/DataModel/ImplicitCF.py:73: FutureWarning: The frame.append method is deprecated and will be removed from pandas in a future version. Use pandas.concat instead.\n",
      "\u001b[36m(TrainLightGCN pid=3366426)\u001b[0m   df = train if test is None else train.append(test)\n"
     ]
    },
    {
     "name": "stdout",
     "output_type": "stream",
     "text": [
      "\u001b[36m(TrainLightGCN pid=3366426)\u001b[0m Already create adjacency matrix.\n",
      "\u001b[36m(TrainLightGCN pid=3366426)\u001b[0m Already normalize adjacency matrix.\n",
      "\u001b[36m(TrainLightGCN pid=3366426)\u001b[0m Using xavier initialization.\n"
     ]
    },
    {
     "name": "stderr",
     "output_type": "stream",
     "text": [
      "\u001b[36m(pid=3366587)\u001b[0m 2024-03-09 07:54:00.680030: E tensorflow/compiler/xla/stream_executor/cuda/cuda_dnn.cc:9342] Unable to register cuDNN factory: Attempting to register factory for plugin cuDNN when one has already been registered\n",
      "\u001b[36m(pid=3366587)\u001b[0m 2024-03-09 07:54:00.680070: E tensorflow/compiler/xla/stream_executor/cuda/cuda_fft.cc:609] Unable to register cuFFT factory: Attempting to register factory for plugin cuFFT when one has already been registered\n",
      "\u001b[36m(pid=3366587)\u001b[0m 2024-03-09 07:54:00.680088: E tensorflow/compiler/xla/stream_executor/cuda/cuda_blas.cc:1518] Unable to register cuBLAS factory: Attempting to register factory for plugin cuBLAS when one has already been registered\n"
     ]
    },
    {
     "name": "stderr",
     "output_type": "stream",
     "text": [
      "\u001b[36m(TrainLightGCN pid=3366587)\u001b[0m /home/daviddavo/upm-tfm-notebooks/.direnv/python-3.9/lib/python3.9/site-packages/recommenders/models/deeprec/DataModel/ImplicitCF.py:73: FutureWarning: The frame.append method is deprecated and will be removed from pandas in a future version. Use pandas.concat instead.\n",
      "\u001b[36m(TrainLightGCN pid=3366587)\u001b[0m   df = train if test is None else train.append(test)\n"
     ]
    },
    {
     "name": "stdout",
     "output_type": "stream",
     "text": [
      "\u001b[36m(TrainLightGCN pid=3366587)\u001b[0m Already create adjacency matrix.\n",
      "\u001b[36m(TrainLightGCN pid=3366587)\u001b[0m Already normalize adjacency matrix.\n",
      "\u001b[36m(TrainLightGCN pid=3366587)\u001b[0m Using xavier initialization.\n"
     ]
    },
    {
     "name": "stderr",
     "output_type": "stream",
     "text": [
      "\u001b[36m(pid=3366749)\u001b[0m 2024-03-09 07:54:05.708313: E tensorflow/compiler/xla/stream_executor/cuda/cuda_dnn.cc:9342] Unable to register cuDNN factory: Attempting to register factory for plugin cuDNN when one has already been registered\n",
      "\u001b[36m(pid=3366749)\u001b[0m 2024-03-09 07:54:05.708351: E tensorflow/compiler/xla/stream_executor/cuda/cuda_fft.cc:609] Unable to register cuFFT factory: Attempting to register factory for plugin cuFFT when one has already been registered\n",
      "\u001b[36m(pid=3366749)\u001b[0m 2024-03-09 07:54:05.708369: E tensorflow/compiler/xla/stream_executor/cuda/cuda_blas.cc:1518] Unable to register cuBLAS factory: Attempting to register factory for plugin cuBLAS when one has already been registered\n"
     ]
    },
    {
     "name": "stderr",
     "output_type": "stream",
     "text": [
      "\u001b[36m(TrainLightGCN pid=3366749)\u001b[0m /home/daviddavo/upm-tfm-notebooks/.direnv/python-3.9/lib/python3.9/site-packages/recommenders/models/deeprec/DataModel/ImplicitCF.py:73: FutureWarning: The frame.append method is deprecated and will be removed from pandas in a future version. Use pandas.concat instead.\n",
      "\u001b[36m(TrainLightGCN pid=3366749)\u001b[0m   df = train if test is None else train.append(test)\n"
     ]
    },
    {
     "name": "stdout",
     "output_type": "stream",
     "text": [
      "\u001b[36m(TrainLightGCN pid=3366749)\u001b[0m Already create adjacency matrix.\n",
      "\u001b[36m(TrainLightGCN pid=3366749)\u001b[0m Already normalize adjacency matrix.\n",
      "\u001b[36m(TrainLightGCN pid=3366749)\u001b[0m Using xavier initialization.\n"
     ]
    },
    {
     "name": "stderr",
     "output_type": "stream",
     "text": [
      "\u001b[36m(pid=3366919)\u001b[0m 2024-03-09 07:54:11.230624: E tensorflow/compiler/xla/stream_executor/cuda/cuda_dnn.cc:9342] Unable to register cuDNN factory: Attempting to register factory for plugin cuDNN when one has already been registered\n",
      "\u001b[36m(pid=3366919)\u001b[0m 2024-03-09 07:54:11.230660: E tensorflow/compiler/xla/stream_executor/cuda/cuda_fft.cc:609] Unable to register cuFFT factory: Attempting to register factory for plugin cuFFT when one has already been registered\n",
      "\u001b[36m(pid=3366919)\u001b[0m 2024-03-09 07:54:11.230677: E tensorflow/compiler/xla/stream_executor/cuda/cuda_blas.cc:1518] Unable to register cuBLAS factory: Attempting to register factory for plugin cuBLAS when one has already been registered\n"
     ]
    },
    {
     "name": "stderr",
     "output_type": "stream",
     "text": [
      "\u001b[36m(TrainLightGCN pid=3366919)\u001b[0m /home/daviddavo/upm-tfm-notebooks/.direnv/python-3.9/lib/python3.9/site-packages/recommenders/models/deeprec/DataModel/ImplicitCF.py:73: FutureWarning: The frame.append method is deprecated and will be removed from pandas in a future version. Use pandas.concat instead.\n",
      "\u001b[36m(TrainLightGCN pid=3366919)\u001b[0m   df = train if test is None else train.append(test)\n"
     ]
    },
    {
     "name": "stdout",
     "output_type": "stream",
     "text": [
      "\u001b[36m(TrainLightGCN pid=3366919)\u001b[0m Already normalize adjacency matrix.\n",
      "\u001b[36m(TrainLightGCN pid=3366919)\u001b[0m Using xavier initialization.\n",
      "\u001b[36m(TrainLightGCN pid=3366919)\u001b[0m Already create adjacency matrix.\n"
     ]
    },
    {
     "name": "stderr",
     "output_type": "stream",
     "text": [
      "\u001b[36m(pid=3367083)\u001b[0m 2024-03-09 07:54:16.622465: E tensorflow/compiler/xla/stream_executor/cuda/cuda_dnn.cc:9342] Unable to register cuDNN factory: Attempting to register factory for plugin cuDNN when one has already been registered\n",
      "\u001b[36m(pid=3367083)\u001b[0m 2024-03-09 07:54:16.622508: E tensorflow/compiler/xla/stream_executor/cuda/cuda_fft.cc:609] Unable to register cuFFT factory: Attempting to register factory for plugin cuFFT when one has already been registered\n",
      "\u001b[36m(pid=3367083)\u001b[0m 2024-03-09 07:54:16.622524: E tensorflow/compiler/xla/stream_executor/cuda/cuda_blas.cc:1518] Unable to register cuBLAS factory: Attempting to register factory for plugin cuBLAS when one has already been registered\n"
     ]
    },
    {
     "name": "stderr",
     "output_type": "stream",
     "text": [
      "\u001b[36m(TrainLightGCN pid=3367083)\u001b[0m /home/daviddavo/upm-tfm-notebooks/.direnv/python-3.9/lib/python3.9/site-packages/recommenders/models/deeprec/DataModel/ImplicitCF.py:73: FutureWarning: The frame.append method is deprecated and will be removed from pandas in a future version. Use pandas.concat instead.\n",
      "\u001b[36m(TrainLightGCN pid=3367083)\u001b[0m   df = train if test is None else train.append(test)\n"
     ]
    },
    {
     "name": "stdout",
     "output_type": "stream",
     "text": [
      "\u001b[36m(TrainLightGCN pid=3367083)\u001b[0m Already create adjacency matrix.\n",
      "\u001b[36m(TrainLightGCN pid=3367083)\u001b[0m Already normalize adjacency matrix.\n",
      "\u001b[36m(TrainLightGCN pid=3367083)\u001b[0m Using xavier initialization.\n"
     ]
    },
    {
     "name": "stderr",
     "output_type": "stream",
     "text": [
      "\u001b[36m(pid=3367258)\u001b[0m 2024-03-09 07:54:22.100046: E tensorflow/compiler/xla/stream_executor/cuda/cuda_dnn.cc:9342] Unable to register cuDNN factory: Attempting to register factory for plugin cuDNN when one has already been registered\n",
      "\u001b[36m(pid=3367258)\u001b[0m 2024-03-09 07:54:22.100093: E tensorflow/compiler/xla/stream_executor/cuda/cuda_fft.cc:609] Unable to register cuFFT factory: Attempting to register factory for plugin cuFFT when one has already been registered\n",
      "\u001b[36m(pid=3367258)\u001b[0m 2024-03-09 07:54:22.100114: E tensorflow/compiler/xla/stream_executor/cuda/cuda_blas.cc:1518] Unable to register cuBLAS factory: Attempting to register factory for plugin cuBLAS when one has already been registered\n"
     ]
    },
    {
     "name": "stderr",
     "output_type": "stream",
     "text": [
      "\u001b[36m(TrainLightGCN pid=3367258)\u001b[0m /home/daviddavo/upm-tfm-notebooks/.direnv/python-3.9/lib/python3.9/site-packages/recommenders/models/deeprec/DataModel/ImplicitCF.py:73: FutureWarning: The frame.append method is deprecated and will be removed from pandas in a future version. Use pandas.concat instead.\n",
      "\u001b[36m(TrainLightGCN pid=3367258)\u001b[0m   df = train if test is None else train.append(test)\n"
     ]
    },
    {
     "name": "stdout",
     "output_type": "stream",
     "text": [
      "\u001b[36m(TrainLightGCN pid=3367258)\u001b[0m Already create adjacency matrix.\n",
      "\u001b[36m(TrainLightGCN pid=3367258)\u001b[0m Already normalize adjacency matrix.\n",
      "\u001b[36m(TrainLightGCN pid=3367258)\u001b[0m Using xavier initialization.\n"
     ]
    },
    {
     "name": "stderr",
     "output_type": "stream",
     "text": [
      "\u001b[36m(pid=3367422)\u001b[0m 2024-03-09 07:54:27.564143: E tensorflow/compiler/xla/stream_executor/cuda/cuda_dnn.cc:9342] Unable to register cuDNN factory: Attempting to register factory for plugin cuDNN when one has already been registered\n",
      "\u001b[36m(pid=3367422)\u001b[0m 2024-03-09 07:54:27.564184: E tensorflow/compiler/xla/stream_executor/cuda/cuda_fft.cc:609] Unable to register cuFFT factory: Attempting to register factory for plugin cuFFT when one has already been registered\n",
      "\u001b[36m(pid=3367422)\u001b[0m 2024-03-09 07:54:27.564198: E tensorflow/compiler/xla/stream_executor/cuda/cuda_blas.cc:1518] Unable to register cuBLAS factory: Attempting to register factory for plugin cuBLAS when one has already been registered\n"
     ]
    },
    {
     "name": "stderr",
     "output_type": "stream",
     "text": [
      "\u001b[36m(TrainLightGCN pid=3367422)\u001b[0m /home/daviddavo/upm-tfm-notebooks/.direnv/python-3.9/lib/python3.9/site-packages/recommenders/models/deeprec/DataModel/ImplicitCF.py:73: FutureWarning: The frame.append method is deprecated and will be removed from pandas in a future version. Use pandas.concat instead.\n",
      "\u001b[36m(TrainLightGCN pid=3367422)\u001b[0m   df = train if test is None else train.append(test)\n"
     ]
    },
    {
     "name": "stdout",
     "output_type": "stream",
     "text": [
      "\u001b[36m(TrainLightGCN pid=3367422)\u001b[0m Already create adjacency matrix.\n",
      "\u001b[36m(TrainLightGCN pid=3367422)\u001b[0m Already normalize adjacency matrix.\n",
      "\u001b[36m(TrainLightGCN pid=3367422)\u001b[0m Using xavier initialization.\n"
     ]
    },
    {
     "name": "stderr",
     "output_type": "stream",
     "text": [
      "\u001b[36m(pid=3367590)\u001b[0m 2024-03-09 07:54:33.627894: E tensorflow/compiler/xla/stream_executor/cuda/cuda_dnn.cc:9342] Unable to register cuDNN factory: Attempting to register factory for plugin cuDNN when one has already been registered\n",
      "\u001b[36m(pid=3367590)\u001b[0m 2024-03-09 07:54:33.627935: E tensorflow/compiler/xla/stream_executor/cuda/cuda_fft.cc:609] Unable to register cuFFT factory: Attempting to register factory for plugin cuFFT when one has already been registered\n",
      "\u001b[36m(pid=3367590)\u001b[0m 2024-03-09 07:54:33.627949: E tensorflow/compiler/xla/stream_executor/cuda/cuda_blas.cc:1518] Unable to register cuBLAS factory: Attempting to register factory for plugin cuBLAS when one has already been registered\n"
     ]
    },
    {
     "name": "stderr",
     "output_type": "stream",
     "text": [
      "\u001b[36m(TrainLightGCN pid=3367590)\u001b[0m /home/daviddavo/upm-tfm-notebooks/.direnv/python-3.9/lib/python3.9/site-packages/recommenders/models/deeprec/DataModel/ImplicitCF.py:73: FutureWarning: The frame.append method is deprecated and will be removed from pandas in a future version. Use pandas.concat instead.\n",
      "\u001b[36m(TrainLightGCN pid=3367590)\u001b[0m   df = train if test is None else train.append(test)\n"
     ]
    },
    {
     "name": "stdout",
     "output_type": "stream",
     "text": [
      "\u001b[36m(TrainLightGCN pid=3367590)\u001b[0m Using xavier initialization.\n",
      "\u001b[36m(TrainLightGCN pid=3367590)\u001b[0m Already create adjacency matrix.\n",
      "\u001b[36m(TrainLightGCN pid=3367590)\u001b[0m Already normalize adjacency matrix.\n"
     ]
    },
    {
     "name": "stderr",
     "output_type": "stream",
     "text": [
      "\u001b[36m(pid=3367762)\u001b[0m 2024-03-09 07:54:39.933867: E tensorflow/compiler/xla/stream_executor/cuda/cuda_dnn.cc:9342] Unable to register cuDNN factory: Attempting to register factory for plugin cuDNN when one has already been registered\n",
      "\u001b[36m(pid=3367762)\u001b[0m 2024-03-09 07:54:39.933905: E tensorflow/compiler/xla/stream_executor/cuda/cuda_fft.cc:609] Unable to register cuFFT factory: Attempting to register factory for plugin cuFFT when one has already been registered\n",
      "\u001b[36m(pid=3367762)\u001b[0m 2024-03-09 07:54:39.933922: E tensorflow/compiler/xla/stream_executor/cuda/cuda_blas.cc:1518] Unable to register cuBLAS factory: Attempting to register factory for plugin cuBLAS when one has already been registered\n"
     ]
    },
    {
     "name": "stderr",
     "output_type": "stream",
     "text": [
      "\u001b[36m(TrainLightGCN pid=3365355)\u001b[0m Checkpoint successfully created at: Checkpoint(filesystem=local, path=/home/daviddavo/ray_results/LightGCN_optim=map@10,dao=DEAD FoundationsDAO,freq=2d,normalize=True,cutoff_date=2021-11-28T00:00:00,fold=9_2024-03-08T15:49:07.362912/TrainLightGCN_192bb632_71_batch_size=9,conv_layers=1,embedding_dim=496,fold=9,l2=0.0000,learning_rate=0.0003_2024-03-09_07-53-10/checkpoint_000000)\n"
     ]
    },
    {
     "name": "stderr",
     "output_type": "stream",
     "text": [
      "\u001b[36m(TrainLightGCN pid=3367762)\u001b[0m /home/daviddavo/upm-tfm-notebooks/.direnv/python-3.9/lib/python3.9/site-packages/recommenders/models/deeprec/DataModel/ImplicitCF.py:73: FutureWarning: The frame.append method is deprecated and will be removed from pandas in a future version. Use pandas.concat instead.\n",
      "\u001b[36m(TrainLightGCN pid=3367762)\u001b[0m   df = train if test is None else train.append(test)\n"
     ]
    },
    {
     "name": "stdout",
     "output_type": "stream",
     "text": [
      "\u001b[36m(TrainLightGCN pid=3367762)\u001b[0m Already create adjacency matrix.\n",
      "\u001b[36m(TrainLightGCN pid=3367762)\u001b[0m Already normalize adjacency matrix.\n",
      "\u001b[36m(TrainLightGCN pid=3367762)\u001b[0m Using xavier initialization.\n"
     ]
    },
    {
     "name": "stderr",
     "output_type": "stream",
     "text": [
      "\u001b[36m(pid=3367935)\u001b[0m 2024-03-09 07:54:45.530548: E tensorflow/compiler/xla/stream_executor/cuda/cuda_dnn.cc:9342] Unable to register cuDNN factory: Attempting to register factory for plugin cuDNN when one has already been registered\n",
      "\u001b[36m(pid=3367935)\u001b[0m 2024-03-09 07:54:45.530583: E tensorflow/compiler/xla/stream_executor/cuda/cuda_fft.cc:609] Unable to register cuFFT factory: Attempting to register factory for plugin cuFFT when one has already been registered\n",
      "\u001b[36m(pid=3367935)\u001b[0m 2024-03-09 07:54:45.530600: E tensorflow/compiler/xla/stream_executor/cuda/cuda_blas.cc:1518] Unable to register cuBLAS factory: Attempting to register factory for plugin cuBLAS when one has already been registered\n"
     ]
    },
    {
     "name": "stderr",
     "output_type": "stream",
     "text": [
      "\u001b[36m(TrainLightGCN pid=3367935)\u001b[0m /home/daviddavo/upm-tfm-notebooks/.direnv/python-3.9/lib/python3.9/site-packages/recommenders/models/deeprec/DataModel/ImplicitCF.py:73: FutureWarning: The frame.append method is deprecated and will be removed from pandas in a future version. Use pandas.concat instead.\n",
      "\u001b[36m(TrainLightGCN pid=3367935)\u001b[0m   df = train if test is None else train.append(test)\n"
     ]
    },
    {
     "name": "stdout",
     "output_type": "stream",
     "text": [
      "\u001b[36m(TrainLightGCN pid=3367935)\u001b[0m Using xavier initialization.\n",
      "\u001b[36m(TrainLightGCN pid=3367935)\u001b[0m Already create adjacency matrix.\n",
      "\u001b[36m(TrainLightGCN pid=3367935)\u001b[0m Already normalize adjacency matrix.\n"
     ]
    },
    {
     "name": "stderr",
     "output_type": "stream",
     "text": [
      "\u001b[36m(TrainLightGCN pid=3366090)\u001b[0m Checkpoint successfully created at: Checkpoint(filesystem=local, path=/home/daviddavo/ray_results/LightGCN_optim=map@10,dao=DEAD FoundationsDAO,freq=2d,normalize=True,cutoff_date=2021-11-28T00:00:00,fold=9_2024-03-08T15:49:07.362912/TrainLightGCN_1576debe_75_batch_size=9,conv_layers=1,embedding_dim=3,fold=9,l2=0.0000,learning_rate=0.8676_2024-03-09_07-53-44/checkpoint_000000)\n"
     ]
    },
    {
     "name": "stderr",
     "output_type": "stream",
     "text": [
      "\u001b[36m(pid=3368206)\u001b[0m 2024-03-09 07:55:12.838205: E tensorflow/compiler/xla/stream_executor/cuda/cuda_dnn.cc:9342] Unable to register cuDNN factory: Attempting to register factory for plugin cuDNN when one has already been registered\n",
      "\u001b[36m(pid=3368206)\u001b[0m 2024-03-09 07:55:12.838250: E tensorflow/compiler/xla/stream_executor/cuda/cuda_fft.cc:609] Unable to register cuFFT factory: Attempting to register factory for plugin cuFFT when one has already been registered\n",
      "\u001b[36m(pid=3368206)\u001b[0m 2024-03-09 07:55:12.838273: E tensorflow/compiler/xla/stream_executor/cuda/cuda_blas.cc:1518] Unable to register cuBLAS factory: Attempting to register factory for plugin cuBLAS when one has already been registered\n"
     ]
    },
    {
     "name": "stderr",
     "output_type": "stream",
     "text": [
      "\u001b[36m(TrainLightGCN pid=3368206)\u001b[0m /home/daviddavo/upm-tfm-notebooks/.direnv/python-3.9/lib/python3.9/site-packages/recommenders/models/deeprec/DataModel/ImplicitCF.py:73: FutureWarning: The frame.append method is deprecated and will be removed from pandas in a future version. Use pandas.concat instead.\n",
      "\u001b[36m(TrainLightGCN pid=3368206)\u001b[0m   df = train if test is None else train.append(test)\n"
     ]
    },
    {
     "name": "stdout",
     "output_type": "stream",
     "text": [
      "\u001b[36m(TrainLightGCN pid=3368206)\u001b[0m Already create adjacency matrix.\n",
      "\u001b[36m(TrainLightGCN pid=3368206)\u001b[0m Already normalize adjacency matrix.\n",
      "\u001b[36m(TrainLightGCN pid=3368206)\u001b[0m Using xavier initialization.\n"
     ]
    },
    {
     "name": "stderr",
     "output_type": "stream",
     "text": [
      "\u001b[36m(TrainLightGCN pid=3365113)\u001b[0m Checkpoint successfully created at: Checkpoint(filesystem=local, path=/home/daviddavo/ray_results/LightGCN_optim=map@10,dao=DEAD FoundationsDAO,freq=2d,normalize=True,cutoff_date=2021-11-28T00:00:00,fold=9_2024-03-08T15:49:07.362912/TrainLightGCN_c4b5bff5_70_batch_size=8,conv_layers=2,embedding_dim=2,fold=9,l2=0.0001,learning_rate=0.0018_2024-03-09_07-53-04/checkpoint_000000)\n"
     ]
    },
    {
     "name": "stderr",
     "output_type": "stream",
     "text": [
      "\u001b[36m(pid=3368490)\u001b[0m 2024-03-09 07:55:52.153188: E tensorflow/compiler/xla/stream_executor/cuda/cuda_dnn.cc:9342] Unable to register cuDNN factory: Attempting to register factory for plugin cuDNN when one has already been registered\n",
      "\u001b[36m(pid=3368490)\u001b[0m 2024-03-09 07:55:52.153243: E tensorflow/compiler/xla/stream_executor/cuda/cuda_fft.cc:609] Unable to register cuFFT factory: Attempting to register factory for plugin cuFFT when one has already been registered\n",
      "\u001b[36m(pid=3368490)\u001b[0m 2024-03-09 07:55:52.153280: E tensorflow/compiler/xla/stream_executor/cuda/cuda_blas.cc:1518] Unable to register cuBLAS factory: Attempting to register factory for plugin cuBLAS when one has already been registered\n"
     ]
    },
    {
     "name": "stderr",
     "output_type": "stream",
     "text": [
      "\u001b[36m(TrainLightGCN pid=3368490)\u001b[0m /home/daviddavo/upm-tfm-notebooks/.direnv/python-3.9/lib/python3.9/site-packages/recommenders/models/deeprec/DataModel/ImplicitCF.py:73: FutureWarning: The frame.append method is deprecated and will be removed from pandas in a future version. Use pandas.concat instead.\n",
      "\u001b[36m(TrainLightGCN pid=3368490)\u001b[0m   df = train if test is None else train.append(test)\n"
     ]
    },
    {
     "name": "stdout",
     "output_type": "stream",
     "text": [
      "\u001b[36m(TrainLightGCN pid=3368490)\u001b[0m Already create adjacency matrix.\n",
      "\u001b[36m(TrainLightGCN pid=3368490)\u001b[0m Already normalize adjacency matrix.\n",
      "\u001b[36m(TrainLightGCN pid=3368490)\u001b[0m Using xavier initialization.\n"
     ]
    },
    {
     "name": "stderr",
     "output_type": "stream",
     "text": [
      "\u001b[36m(TrainLightGCN pid=3365504)\u001b[0m Checkpoint successfully created at: Checkpoint(filesystem=local, path=/home/daviddavo/ray_results/LightGCN_optim=map@10,dao=DEAD FoundationsDAO,freq=2d,normalize=True,cutoff_date=2021-11-28T00:00:00,fold=9_2024-03-08T15:49:07.362912/TrainLightGCN_cef2999b_72_batch_size=8,conv_layers=2,embedding_dim=248,fold=9,l2=0.0000,learning_rate=0.0123_2024-03-09_07-53-27/checkpoint_000000)\n"
     ]
    },
    {
     "name": "stderr",
     "output_type": "stream",
     "text": [
      "\u001b[36m(pid=3368715)\u001b[0m 2024-03-09 07:56:15.062424: E tensorflow/compiler/xla/stream_executor/cuda/cuda_dnn.cc:9342] Unable to register cuDNN factory: Attempting to register factory for plugin cuDNN when one has already been registered\n",
      "\u001b[36m(pid=3368715)\u001b[0m 2024-03-09 07:56:15.062469: E tensorflow/compiler/xla/stream_executor/cuda/cuda_fft.cc:609] Unable to register cuFFT factory: Attempting to register factory for plugin cuFFT when one has already been registered\n",
      "\u001b[36m(pid=3368715)\u001b[0m 2024-03-09 07:56:15.062492: E tensorflow/compiler/xla/stream_executor/cuda/cuda_blas.cc:1518] Unable to register cuBLAS factory: Attempting to register factory for plugin cuBLAS when one has already been registered\n"
     ]
    },
    {
     "name": "stderr",
     "output_type": "stream",
     "text": [
      "\u001b[36m(TrainLightGCN pid=3368715)\u001b[0m /home/daviddavo/upm-tfm-notebooks/.direnv/python-3.9/lib/python3.9/site-packages/recommenders/models/deeprec/DataModel/ImplicitCF.py:73: FutureWarning: The frame.append method is deprecated and will be removed from pandas in a future version. Use pandas.concat instead.\n",
      "\u001b[36m(TrainLightGCN pid=3368715)\u001b[0m   df = train if test is None else train.append(test)\n"
     ]
    },
    {
     "name": "stdout",
     "output_type": "stream",
     "text": [
      "\u001b[36m(TrainLightGCN pid=3368715)\u001b[0m Already create adjacency matrix.\n",
      "\u001b[36m(TrainLightGCN pid=3368715)\u001b[0m Already normalize adjacency matrix.\n",
      "\u001b[36m(TrainLightGCN pid=3368715)\u001b[0m Using xavier initialization.\n"
     ]
    },
    {
     "name": "stderr",
     "output_type": "stream",
     "text": [
      "\u001b[36m(TrainLightGCN pid=3365693)\u001b[0m Checkpoint successfully created at: Checkpoint(filesystem=local, path=/home/daviddavo/ray_results/LightGCN_optim=map@10,dao=DEAD FoundationsDAO,freq=2d,normalize=True,cutoff_date=2021-11-28T00:00:00,fold=9_2024-03-08T15:49:07.362912/TrainLightGCN_d0839242_73_batch_size=8,conv_layers=3,embedding_dim=581,fold=9,l2=0.0000,learning_rate=0.0001_2024-03-09_07-53-33/checkpoint_000000)\n"
     ]
    },
    {
     "name": "stderr",
     "output_type": "stream",
     "text": [
      "\u001b[36m(pid=3368899)\u001b[0m 2024-03-09 07:56:24.150111: E tensorflow/compiler/xla/stream_executor/cuda/cuda_dnn.cc:9342] Unable to register cuDNN factory: Attempting to register factory for plugin cuDNN when one has already been registered\n",
      "\u001b[36m(pid=3368899)\u001b[0m 2024-03-09 07:56:24.150149: E tensorflow/compiler/xla/stream_executor/cuda/cuda_fft.cc:609] Unable to register cuFFT factory: Attempting to register factory for plugin cuFFT when one has already been registered\n",
      "\u001b[36m(pid=3368899)\u001b[0m 2024-03-09 07:56:24.150163: E tensorflow/compiler/xla/stream_executor/cuda/cuda_blas.cc:1518] Unable to register cuBLAS factory: Attempting to register factory for plugin cuBLAS when one has already been registered\n"
     ]
    },
    {
     "name": "stderr",
     "output_type": "stream",
     "text": [
      "\u001b[36m(TrainLightGCN pid=3363829)\u001b[0m Checkpoint successfully created at: Checkpoint(filesystem=local, path=/home/daviddavo/ray_results/LightGCN_optim=map@10,dao=DEAD FoundationsDAO,freq=2d,normalize=True,cutoff_date=2021-11-28T00:00:00,fold=9_2024-03-08T15:49:07.362912/TrainLightGCN_3f0e8a66_64_batch_size=6,conv_layers=3,embedding_dim=109,fold=9,l2=0.0000,learning_rate=0.0048_2024-03-09_07-48-33/checkpoint_000000)\n"
     ]
    },
    {
     "name": "stderr",
     "output_type": "stream",
     "text": [
      "\u001b[36m(TrainLightGCN pid=3368899)\u001b[0m /home/daviddavo/upm-tfm-notebooks/.direnv/python-3.9/lib/python3.9/site-packages/recommenders/models/deeprec/DataModel/ImplicitCF.py:73: FutureWarning: The frame.append method is deprecated and will be removed from pandas in a future version. Use pandas.concat instead.\n",
      "\u001b[36m(TrainLightGCN pid=3368899)\u001b[0m   df = train if test is None else train.append(test)\n"
     ]
    },
    {
     "name": "stdout",
     "output_type": "stream",
     "text": [
      "\u001b[36m(TrainLightGCN pid=3368899)\u001b[0m Using xavier initialization.\n",
      "\u001b[36m(TrainLightGCN pid=3368899)\u001b[0m Already create adjacency matrix.\n",
      "\u001b[36m(TrainLightGCN pid=3368899)\u001b[0m Already normalize adjacency matrix.\n"
     ]
    },
    {
     "name": "stderr",
     "output_type": "stream",
     "text": [
      "\u001b[36m(pid=3369063)\u001b[0m 2024-03-09 07:56:30.113026: E tensorflow/compiler/xla/stream_executor/cuda/cuda_dnn.cc:9342] Unable to register cuDNN factory: Attempting to register factory for plugin cuDNN when one has already been registered\n",
      "\u001b[36m(pid=3369063)\u001b[0m 2024-03-09 07:56:30.113069: E tensorflow/compiler/xla/stream_executor/cuda/cuda_fft.cc:609] Unable to register cuFFT factory: Attempting to register factory for plugin cuFFT when one has already been registered\n",
      "\u001b[36m(pid=3369063)\u001b[0m 2024-03-09 07:56:30.113086: E tensorflow/compiler/xla/stream_executor/cuda/cuda_blas.cc:1518] Unable to register cuBLAS factory: Attempting to register factory for plugin cuBLAS when one has already been registered\n",
      "\u001b[36m(TrainLightGCN pid=3363978)\u001b[0m Checkpoint successfully created at: Checkpoint(filesystem=local, path=/home/daviddavo/ray_results/LightGCN_optim=map@10,dao=DEAD FoundationsDAO,freq=2d,normalize=True,cutoff_date=2021-11-28T00:00:00,fold=9_2024-03-08T15:49:07.362912/TrainLightGCN_c7218dbd_65_batch_size=6,conv_layers=1,embedding_dim=367,fold=9,l2=0.0000,learning_rate=0.0007_2024-03-09_07-51-09/checkpoint_000000)\u001b[32m [repeated 2x across cluster]\u001b[0m\n"
     ]
    },
    {
     "name": "stderr",
     "output_type": "stream",
     "text": [
      "\u001b[36m(TrainLightGCN pid=3369063)\u001b[0m /home/daviddavo/upm-tfm-notebooks/.direnv/python-3.9/lib/python3.9/site-packages/recommenders/models/deeprec/DataModel/ImplicitCF.py:73: FutureWarning: The frame.append method is deprecated and will be removed from pandas in a future version. Use pandas.concat instead.\n",
      "\u001b[36m(TrainLightGCN pid=3369063)\u001b[0m   df = train if test is None else train.append(test)\n"
     ]
    },
    {
     "name": "stdout",
     "output_type": "stream",
     "text": [
      "\u001b[36m(TrainLightGCN pid=3369063)\u001b[0m Already create adjacency matrix.\n",
      "\u001b[36m(TrainLightGCN pid=3369063)\u001b[0m Already normalize adjacency matrix.\n",
      "\u001b[36m(TrainLightGCN pid=3369063)\u001b[0m Using xavier initialization.\n"
     ]
    },
    {
     "name": "stderr",
     "output_type": "stream",
     "text": [
      "\u001b[36m(pid=3369231)\u001b[0m 2024-03-09 07:56:35.767994: E tensorflow/compiler/xla/stream_executor/cuda/cuda_dnn.cc:9342] Unable to register cuDNN factory: Attempting to register factory for plugin cuDNN when one has already been registered\n",
      "\u001b[36m(pid=3369231)\u001b[0m 2024-03-09 07:56:35.768025: E tensorflow/compiler/xla/stream_executor/cuda/cuda_fft.cc:609] Unable to register cuFFT factory: Attempting to register factory for plugin cuFFT when one has already been registered\n",
      "\u001b[36m(pid=3369231)\u001b[0m 2024-03-09 07:56:35.768038: E tensorflow/compiler/xla/stream_executor/cuda/cuda_blas.cc:1518] Unable to register cuBLAS factory: Attempting to register factory for plugin cuBLAS when one has already been registered\n"
     ]
    },
    {
     "name": "stderr",
     "output_type": "stream",
     "text": [
      "\u001b[36m(TrainLightGCN pid=3369231)\u001b[0m /home/daviddavo/upm-tfm-notebooks/.direnv/python-3.9/lib/python3.9/site-packages/recommenders/models/deeprec/DataModel/ImplicitCF.py:73: FutureWarning: The frame.append method is deprecated and will be removed from pandas in a future version. Use pandas.concat instead.\n",
      "\u001b[36m(TrainLightGCN pid=3369231)\u001b[0m   df = train if test is None else train.append(test)\n"
     ]
    },
    {
     "name": "stdout",
     "output_type": "stream",
     "text": [
      "\u001b[36m(TrainLightGCN pid=3369231)\u001b[0m Already create adjacency matrix.\n",
      "\u001b[36m(TrainLightGCN pid=3369231)\u001b[0m Already normalize adjacency matrix.\n",
      "\u001b[36m(TrainLightGCN pid=3369231)\u001b[0m Using xavier initialization.\n"
     ]
    },
    {
     "name": "stderr",
     "output_type": "stream",
     "text": [
      "\u001b[36m(pid=3369400)\u001b[0m 2024-03-09 07:56:41.445750: E tensorflow/compiler/xla/stream_executor/cuda/cuda_dnn.cc:9342] Unable to register cuDNN factory: Attempting to register factory for plugin cuDNN when one has already been registered\n",
      "\u001b[36m(pid=3369400)\u001b[0m 2024-03-09 07:56:41.445797: E tensorflow/compiler/xla/stream_executor/cuda/cuda_fft.cc:609] Unable to register cuFFT factory: Attempting to register factory for plugin cuFFT when one has already been registered\n",
      "\u001b[36m(pid=3369400)\u001b[0m 2024-03-09 07:56:41.445812: E tensorflow/compiler/xla/stream_executor/cuda/cuda_blas.cc:1518] Unable to register cuBLAS factory: Attempting to register factory for plugin cuBLAS when one has already been registered\n"
     ]
    },
    {
     "name": "stderr",
     "output_type": "stream",
     "text": [
      "\u001b[36m(TrainLightGCN pid=3369400)\u001b[0m /home/daviddavo/upm-tfm-notebooks/.direnv/python-3.9/lib/python3.9/site-packages/recommenders/models/deeprec/DataModel/ImplicitCF.py:73: FutureWarning: The frame.append method is deprecated and will be removed from pandas in a future version. Use pandas.concat instead.\n",
      "\u001b[36m(TrainLightGCN pid=3369400)\u001b[0m   df = train if test is None else train.append(test)\n"
     ]
    },
    {
     "name": "stderr",
     "output_type": "stream",
     "text": [
      "\u001b[36m(TrainLightGCN pid=3366261)\u001b[0m Checkpoint successfully created at: Checkpoint(filesystem=local, path=/home/daviddavo/ray_results/LightGCN_optim=map@10,dao=DEAD FoundationsDAO,freq=2d,normalize=True,cutoff_date=2021-11-28T00:00:00,fold=9_2024-03-08T15:49:07.362912/TrainLightGCN_65c68914_76_batch_size=8,conv_layers=1,embedding_dim=26,fold=9,l2=0.0000,learning_rate=0.0008_2024-03-09_07-53-49/checkpoint_000000)\n"
     ]
    },
    {
     "name": "stdout",
     "output_type": "stream",
     "text": [
      "\u001b[36m(TrainLightGCN pid=3369400)\u001b[0m Already create adjacency matrix.\n",
      "\u001b[36m(TrainLightGCN pid=3369400)\u001b[0m Already normalize adjacency matrix.\n",
      "\u001b[36m(TrainLightGCN pid=3369400)\u001b[0m Using xavier initialization.\n"
     ]
    },
    {
     "name": "stderr",
     "output_type": "stream",
     "text": [
      "\u001b[36m(pid=3369581)\u001b[0m 2024-03-09 07:56:47.690238: E tensorflow/compiler/xla/stream_executor/cuda/cuda_dnn.cc:9342] Unable to register cuDNN factory: Attempting to register factory for plugin cuDNN when one has already been registered\n",
      "\u001b[36m(pid=3369581)\u001b[0m 2024-03-09 07:56:47.690278: E tensorflow/compiler/xla/stream_executor/cuda/cuda_fft.cc:609] Unable to register cuFFT factory: Attempting to register factory for plugin cuFFT when one has already been registered\n",
      "\u001b[36m(pid=3369581)\u001b[0m 2024-03-09 07:56:47.690293: E tensorflow/compiler/xla/stream_executor/cuda/cuda_blas.cc:1518] Unable to register cuBLAS factory: Attempting to register factory for plugin cuBLAS when one has already been registered\n"
     ]
    },
    {
     "name": "stderr",
     "output_type": "stream",
     "text": [
      "\u001b[36m(TrainLightGCN pid=3369581)\u001b[0m /home/daviddavo/upm-tfm-notebooks/.direnv/python-3.9/lib/python3.9/site-packages/recommenders/models/deeprec/DataModel/ImplicitCF.py:73: FutureWarning: The frame.append method is deprecated and will be removed from pandas in a future version. Use pandas.concat instead.\n",
      "\u001b[36m(TrainLightGCN pid=3369581)\u001b[0m   df = train if test is None else train.append(test)\n"
     ]
    },
    {
     "name": "stdout",
     "output_type": "stream",
     "text": [
      "\u001b[36m(TrainLightGCN pid=3369581)\u001b[0m Already create adjacency matrix.\n",
      "\u001b[36m(TrainLightGCN pid=3369581)\u001b[0m Already normalize adjacency matrix.\n",
      "\u001b[36m(TrainLightGCN pid=3369581)\u001b[0m Using xavier initialization.\n"
     ]
    },
    {
     "name": "stderr",
     "output_type": "stream",
     "text": [
      "\u001b[36m(TrainLightGCN pid=3367590)\u001b[0m Checkpoint successfully created at: Checkpoint(filesystem=local, path=/home/daviddavo/ray_results/LightGCN_optim=map@10,dao=DEAD FoundationsDAO,freq=2d,normalize=True,cutoff_date=2021-11-28T00:00:00,fold=9_2024-03-08T15:49:07.362912/TrainLightGCN_1088e88f_84_batch_size=8,conv_layers=5,embedding_dim=14,fold=9,l2=0.0000,learning_rate=0.1670_2024-03-09_07-54-32/checkpoint_000000)\n"
     ]
    },
    {
     "name": "stderr",
     "output_type": "stream",
     "text": [
      "\u001b[36m(pid=3369982)\u001b[0m 2024-03-09 07:57:54.910767: E tensorflow/compiler/xla/stream_executor/cuda/cuda_dnn.cc:9342] Unable to register cuDNN factory: Attempting to register factory for plugin cuDNN when one has already been registered\n",
      "\u001b[36m(pid=3369982)\u001b[0m 2024-03-09 07:57:54.910815: E tensorflow/compiler/xla/stream_executor/cuda/cuda_fft.cc:609] Unable to register cuFFT factory: Attempting to register factory for plugin cuFFT when one has already been registered\n",
      "\u001b[36m(pid=3369982)\u001b[0m 2024-03-09 07:57:54.910840: E tensorflow/compiler/xla/stream_executor/cuda/cuda_blas.cc:1518] Unable to register cuBLAS factory: Attempting to register factory for plugin cuBLAS when one has already been registered\n"
     ]
    },
    {
     "name": "stderr",
     "output_type": "stream",
     "text": [
      "\u001b[36m(TrainLightGCN pid=3369982)\u001b[0m /home/daviddavo/upm-tfm-notebooks/.direnv/python-3.9/lib/python3.9/site-packages/recommenders/models/deeprec/DataModel/ImplicitCF.py:73: FutureWarning: The frame.append method is deprecated and will be removed from pandas in a future version. Use pandas.concat instead.\n",
      "\u001b[36m(TrainLightGCN pid=3369982)\u001b[0m   df = train if test is None else train.append(test)\n"
     ]
    },
    {
     "name": "stdout",
     "output_type": "stream",
     "text": [
      "\u001b[36m(TrainLightGCN pid=3369982)\u001b[0m Already create adjacency matrix.\n",
      "\u001b[36m(TrainLightGCN pid=3369982)\u001b[0m Already normalize adjacency matrix.\n",
      "\u001b[36m(TrainLightGCN pid=3369982)\u001b[0m Using xavier initialization.\n"
     ]
    },
    {
     "name": "stderr",
     "output_type": "stream",
     "text": [
      "\u001b[36m(TrainLightGCN pid=3367762)\u001b[0m Checkpoint successfully created at: Checkpoint(filesystem=local, path=/home/daviddavo/ray_results/LightGCN_optim=map@10,dao=DEAD FoundationsDAO,freq=2d,normalize=True,cutoff_date=2021-11-28T00:00:00,fold=9_2024-03-08T15:49:07.362912/TrainLightGCN_29fbe4f8_85_batch_size=8,conv_layers=4,embedding_dim=10,fold=9,l2=0.0000,learning_rate=0.2050_2024-03-09_07-54-38/checkpoint_000000)\n"
     ]
    },
    {
     "name": "stderr",
     "output_type": "stream",
     "text": [
      "\u001b[36m(pid=3370163)\u001b[0m 2024-03-09 07:58:02.959034: E tensorflow/compiler/xla/stream_executor/cuda/cuda_dnn.cc:9342] Unable to register cuDNN factory: Attempting to register factory for plugin cuDNN when one has already been registered\n",
      "\u001b[36m(pid=3370163)\u001b[0m 2024-03-09 07:58:02.959083: E tensorflow/compiler/xla/stream_executor/cuda/cuda_fft.cc:609] Unable to register cuFFT factory: Attempting to register factory for plugin cuFFT when one has already been registered\n",
      "\u001b[36m(pid=3370163)\u001b[0m 2024-03-09 07:58:02.959106: E tensorflow/compiler/xla/stream_executor/cuda/cuda_blas.cc:1518] Unable to register cuBLAS factory: Attempting to register factory for plugin cuBLAS when one has already been registered\n"
     ]
    },
    {
     "name": "stderr",
     "output_type": "stream",
     "text": [
      "\u001b[36m(TrainLightGCN pid=3370163)\u001b[0m /home/daviddavo/upm-tfm-notebooks/.direnv/python-3.9/lib/python3.9/site-packages/recommenders/models/deeprec/DataModel/ImplicitCF.py:73: FutureWarning: The frame.append method is deprecated and will be removed from pandas in a future version. Use pandas.concat instead.\n",
      "\u001b[36m(TrainLightGCN pid=3370163)\u001b[0m   df = train if test is None else train.append(test)\n"
     ]
    },
    {
     "name": "stdout",
     "output_type": "stream",
     "text": [
      "\u001b[36m(TrainLightGCN pid=3370163)\u001b[0m Already create adjacency matrix.\n",
      "\u001b[36m(TrainLightGCN pid=3370163)\u001b[0m Already normalize adjacency matrix.\n",
      "\u001b[36m(TrainLightGCN pid=3370163)\u001b[0m Using xavier initialization.\n"
     ]
    },
    {
     "name": "stderr",
     "output_type": "stream",
     "text": [
      "\u001b[36m(TrainLightGCN pid=3367935)\u001b[0m Checkpoint successfully created at: Checkpoint(filesystem=local, path=/home/daviddavo/ray_results/LightGCN_optim=map@10,dao=DEAD FoundationsDAO,freq=2d,normalize=True,cutoff_date=2021-11-28T00:00:00,fold=9_2024-03-08T15:49:07.362912/TrainLightGCN_05a1c1e5_86_batch_size=8,conv_layers=1,embedding_dim=6,fold=9,l2=0.0000,learning_rate=0.0003_2024-03-09_07-54-44/checkpoint_000000)\n"
     ]
    },
    {
     "name": "stderr",
     "output_type": "stream",
     "text": [
      "\u001b[36m(pid=3370312)\u001b[0m 2024-03-09 07:58:09.897396: E tensorflow/compiler/xla/stream_executor/cuda/cuda_dnn.cc:9342] Unable to register cuDNN factory: Attempting to register factory for plugin cuDNN when one has already been registered\n",
      "\u001b[36m(pid=3370312)\u001b[0m 2024-03-09 07:58:09.897444: E tensorflow/compiler/xla/stream_executor/cuda/cuda_fft.cc:609] Unable to register cuFFT factory: Attempting to register factory for plugin cuFFT when one has already been registered\n",
      "\u001b[36m(pid=3370312)\u001b[0m 2024-03-09 07:58:09.897466: E tensorflow/compiler/xla/stream_executor/cuda/cuda_blas.cc:1518] Unable to register cuBLAS factory: Attempting to register factory for plugin cuBLAS when one has already been registered\n"
     ]
    },
    {
     "name": "stderr",
     "output_type": "stream",
     "text": [
      "\u001b[36m(TrainLightGCN pid=3370312)\u001b[0m /home/daviddavo/upm-tfm-notebooks/.direnv/python-3.9/lib/python3.9/site-packages/recommenders/models/deeprec/DataModel/ImplicitCF.py:73: FutureWarning: The frame.append method is deprecated and will be removed from pandas in a future version. Use pandas.concat instead.\n",
      "\u001b[36m(TrainLightGCN pid=3370312)\u001b[0m   df = train if test is None else train.append(test)\n",
      "\u001b[36m(TrainLightGCN pid=3364794)\u001b[0m Checkpoint successfully created at: Checkpoint(filesystem=local, path=/home/daviddavo/ray_results/LightGCN_optim=map@10,dao=DEAD FoundationsDAO,freq=2d,normalize=True,cutoff_date=2021-11-28T00:00:00,fold=9_2024-03-08T15:49:07.362912/TrainLightGCN_14088999_68_batch_size=6,conv_layers=4,embedding_dim=22,fold=9,l2=0.0000,learning_rate=0.0046_2024-03-09_07-51-39/checkpoint_000000)\n"
     ]
    },
    {
     "name": "stdout",
     "output_type": "stream",
     "text": [
      "\u001b[36m(TrainLightGCN pid=3370312)\u001b[0m Already create adjacency matrix.\n",
      "\u001b[36m(TrainLightGCN pid=3370312)\u001b[0m Already normalize adjacency matrix.\n",
      "\u001b[36m(TrainLightGCN pid=3370312)\u001b[0m Using xavier initialization.\n"
     ]
    },
    {
     "name": "stderr",
     "output_type": "stream",
     "text": [
      "\u001b[36m(pid=3370488)\u001b[0m 2024-03-09 07:58:16.581524: E tensorflow/compiler/xla/stream_executor/cuda/cuda_dnn.cc:9342] Unable to register cuDNN factory: Attempting to register factory for plugin cuDNN when one has already been registered\n",
      "\u001b[36m(pid=3370488)\u001b[0m 2024-03-09 07:58:16.581571: E tensorflow/compiler/xla/stream_executor/cuda/cuda_fft.cc:609] Unable to register cuFFT factory: Attempting to register factory for plugin cuFFT when one has already been registered\n",
      "\u001b[36m(pid=3370488)\u001b[0m 2024-03-09 07:58:16.581588: E tensorflow/compiler/xla/stream_executor/cuda/cuda_blas.cc:1518] Unable to register cuBLAS factory: Attempting to register factory for plugin cuBLAS when one has already been registered\n"
     ]
    },
    {
     "name": "stderr",
     "output_type": "stream",
     "text": [
      "\u001b[36m(TrainLightGCN pid=3364948)\u001b[0m Checkpoint successfully created at: Checkpoint(filesystem=local, path=/home/daviddavo/ray_results/LightGCN_optim=map@10,dao=DEAD FoundationsDAO,freq=2d,normalize=True,cutoff_date=2021-11-28T00:00:00,fold=9_2024-03-08T15:49:07.362912/TrainLightGCN_4b0f4bf7_69_batch_size=7,conv_layers=2,embedding_dim=442,fold=9,l2=0.0001,learning_rate=0.0002_2024-03-09_07-52-58/checkpoint_000000)\n"
     ]
    },
    {
     "name": "stderr",
     "output_type": "stream",
     "text": [
      "\u001b[36m(TrainLightGCN pid=3370488)\u001b[0m /home/daviddavo/upm-tfm-notebooks/.direnv/python-3.9/lib/python3.9/site-packages/recommenders/models/deeprec/DataModel/ImplicitCF.py:73: FutureWarning: The frame.append method is deprecated and will be removed from pandas in a future version. Use pandas.concat instead.\n",
      "\u001b[36m(TrainLightGCN pid=3370488)\u001b[0m   df = train if test is None else train.append(test)\n"
     ]
    },
    {
     "name": "stdout",
     "output_type": "stream",
     "text": [
      "\u001b[36m(TrainLightGCN pid=3370488)\u001b[0m Already create adjacency matrix.\n",
      "\u001b[36m(TrainLightGCN pid=3370488)\u001b[0m Already normalize adjacency matrix.\n",
      "\u001b[36m(TrainLightGCN pid=3370488)\u001b[0m Using xavier initialization.\n"
     ]
    },
    {
     "name": "stderr",
     "output_type": "stream",
     "text": [
      "\u001b[36m(pid=3370663)\u001b[0m 2024-03-09 07:58:22.398538: E tensorflow/compiler/xla/stream_executor/cuda/cuda_dnn.cc:9342] Unable to register cuDNN factory: Attempting to register factory for plugin cuDNN when one has already been registered\n",
      "\u001b[36m(pid=3370663)\u001b[0m 2024-03-09 07:58:22.398577: E tensorflow/compiler/xla/stream_executor/cuda/cuda_fft.cc:609] Unable to register cuFFT factory: Attempting to register factory for plugin cuFFT when one has already been registered\n",
      "\u001b[36m(pid=3370663)\u001b[0m 2024-03-09 07:58:22.398591: E tensorflow/compiler/xla/stream_executor/cuda/cuda_blas.cc:1518] Unable to register cuBLAS factory: Attempting to register factory for plugin cuBLAS when one has already been registered\n"
     ]
    },
    {
     "name": "stderr",
     "output_type": "stream",
     "text": [
      "\u001b[36m(TrainLightGCN pid=3370663)\u001b[0m /home/daviddavo/upm-tfm-notebooks/.direnv/python-3.9/lib/python3.9/site-packages/recommenders/models/deeprec/DataModel/ImplicitCF.py:73: FutureWarning: The frame.append method is deprecated and will be removed from pandas in a future version. Use pandas.concat instead.\n",
      "\u001b[36m(TrainLightGCN pid=3370663)\u001b[0m   df = train if test is None else train.append(test)\n"
     ]
    },
    {
     "name": "stdout",
     "output_type": "stream",
     "text": [
      "\u001b[36m(TrainLightGCN pid=3370663)\u001b[0m Already create adjacency matrix.\n",
      "\u001b[36m(TrainLightGCN pid=3370663)\u001b[0m Already normalize adjacency matrix.\n",
      "\u001b[36m(TrainLightGCN pid=3370663)\u001b[0m Using xavier initialization.\n"
     ]
    },
    {
     "name": "stderr",
     "output_type": "stream",
     "text": [
      "\u001b[36m(TrainLightGCN pid=3368206)\u001b[0m Checkpoint successfully created at: Checkpoint(filesystem=local, path=/home/daviddavo/ray_results/LightGCN_optim=map@10,dao=DEAD FoundationsDAO,freq=2d,normalize=True,cutoff_date=2021-11-28T00:00:00,fold=9_2024-03-08T15:49:07.362912/TrainLightGCN_0c83cdd8_87_batch_size=8,conv_layers=2,embedding_dim=1,fold=9,l2=0.0000,learning_rate=0.0002_2024-03-09_07-54-49/checkpoint_000000)\n"
     ]
    },
    {
     "name": "stderr",
     "output_type": "stream",
     "text": [
      "\u001b[36m(pid=3370911)\u001b[0m 2024-03-09 07:58:43.747055: E tensorflow/compiler/xla/stream_executor/cuda/cuda_dnn.cc:9342] Unable to register cuDNN factory: Attempting to register factory for plugin cuDNN when one has already been registered\n",
      "\u001b[36m(pid=3370911)\u001b[0m 2024-03-09 07:58:43.747233: E tensorflow/compiler/xla/stream_executor/cuda/cuda_fft.cc:609] Unable to register cuFFT factory: Attempting to register factory for plugin cuFFT when one has already been registered\n",
      "\u001b[36m(pid=3370911)\u001b[0m 2024-03-09 07:58:43.747260: E tensorflow/compiler/xla/stream_executor/cuda/cuda_blas.cc:1518] Unable to register cuBLAS factory: Attempting to register factory for plugin cuBLAS when one has already been registered\n"
     ]
    },
    {
     "name": "stderr",
     "output_type": "stream",
     "text": [
      "\u001b[36m(TrainLightGCN pid=3370911)\u001b[0m /home/daviddavo/upm-tfm-notebooks/.direnv/python-3.9/lib/python3.9/site-packages/recommenders/models/deeprec/DataModel/ImplicitCF.py:73: FutureWarning: The frame.append method is deprecated and will be removed from pandas in a future version. Use pandas.concat instead.\n",
      "\u001b[36m(TrainLightGCN pid=3370911)\u001b[0m   df = train if test is None else train.append(test)\n"
     ]
    },
    {
     "name": "stdout",
     "output_type": "stream",
     "text": [
      "\u001b[36m(TrainLightGCN pid=3370911)\u001b[0m Using xavier initialization.\n",
      "\u001b[36m(TrainLightGCN pid=3370911)\u001b[0m Already create adjacency matrix.\n",
      "\u001b[36m(TrainLightGCN pid=3370911)\u001b[0m Already normalize adjacency matrix.\n"
     ]
    },
    {
     "name": "stderr",
     "output_type": "stream",
     "text": [
      "\u001b[36m(TrainLightGCN pid=3366426)\u001b[0m Checkpoint successfully created at: Checkpoint(filesystem=local, path=/home/daviddavo/ray_results/LightGCN_optim=map@10,dao=DEAD FoundationsDAO,freq=2d,normalize=True,cutoff_date=2021-11-28T00:00:00,fold=9_2024-03-08T15:49:07.362912/TrainLightGCN_0fca4491_77_batch_size=7,conv_layers=1,embedding_dim=84,fold=9,l2=0.0000,learning_rate=0.0010_2024-03-09_07-53-54/checkpoint_000000)\n"
     ]
    },
    {
     "name": "stderr",
     "output_type": "stream",
     "text": [
      "\u001b[36m(TrainLightGCN pid=3366587)\u001b[0m Checkpoint successfully created at: Checkpoint(filesystem=local, path=/home/daviddavo/ray_results/LightGCN_optim=map@10,dao=DEAD FoundationsDAO,freq=2d,normalize=True,cutoff_date=2021-11-28T00:00:00,fold=9_2024-03-08T15:49:07.362912/TrainLightGCN_990f40da_78_batch_size=6,conv_layers=3,embedding_dim=36,fold=9,l2=0.0003,learning_rate=0.0003_2024-03-09_07-53-59/checkpoint_000000)\n"
     ]
    },
    {
     "name": "stderr",
     "output_type": "stream",
     "text": [
      "\u001b[36m(TrainLightGCN pid=3366749)\u001b[0m Checkpoint successfully created at: Checkpoint(filesystem=local, path=/home/daviddavo/ray_results/LightGCN_optim=map@10,dao=DEAD FoundationsDAO,freq=2d,normalize=True,cutoff_date=2021-11-28T00:00:00,fold=9_2024-03-08T15:49:07.362912/TrainLightGCN_d21046f2_79_batch_size=6,conv_layers=3,embedding_dim=130,fold=9,l2=0.0015,learning_rate=0.0074_2024-03-09_07-54-04/checkpoint_000000)\n"
     ]
    },
    {
     "name": "stderr",
     "output_type": "stream",
     "text": [
      "\u001b[36m(TrainLightGCN pid=3366919)\u001b[0m Checkpoint successfully created at: Checkpoint(filesystem=local, path=/home/daviddavo/ray_results/LightGCN_optim=map@10,dao=DEAD FoundationsDAO,freq=2d,normalize=True,cutoff_date=2021-11-28T00:00:00,fold=9_2024-03-08T15:49:07.362912/TrainLightGCN_44c5e2cd_80_batch_size=7,conv_layers=2,embedding_dim=198,fold=9,l2=0.0007,learning_rate=0.0032_2024-03-09_07-54-09/checkpoint_000000)\n"
     ]
    },
    {
     "name": "stderr",
     "output_type": "stream",
     "text": [
      "\u001b[36m(TrainLightGCN pid=3368490)\u001b[0m Checkpoint successfully created at: Checkpoint(filesystem=local, path=/home/daviddavo/ray_results/LightGCN_optim=map@10,dao=DEAD FoundationsDAO,freq=2d,normalize=True,cutoff_date=2021-11-28T00:00:00,fold=9_2024-03-08T15:49:07.362912/TrainLightGCN_aef2927e_88_batch_size=8,conv_layers=1,embedding_dim=3,fold=9,l2=0.0000,learning_rate=0.0001_2024-03-09_07-55-17/checkpoint_000000)\n"
     ]
    },
    {
     "name": "stderr",
     "output_type": "stream",
     "text": [
      "\u001b[36m(TrainLightGCN pid=3367422)\u001b[0m Checkpoint successfully created at: Checkpoint(filesystem=local, path=/home/daviddavo/ray_results/LightGCN_optim=map@10,dao=DEAD FoundationsDAO,freq=2d,normalize=True,cutoff_date=2021-11-28T00:00:00,fold=9_2024-03-08T15:49:07.362912/TrainLightGCN_cad4d469_83_batch_size=6,conv_layers=1,embedding_dim=356,fold=9,l2=0.0000,learning_rate=0.0107_2024-03-09_07-54-26/checkpoint_000000)\n"
     ]
    },
    {
     "name": "stderr",
     "output_type": "stream",
     "text": [
      "\u001b[36m(TrainLightGCN pid=3367083)\u001b[0m Checkpoint successfully created at: Checkpoint(filesystem=local, path=/home/daviddavo/ray_results/LightGCN_optim=map@10,dao=DEAD FoundationsDAO,freq=2d,normalize=True,cutoff_date=2021-11-28T00:00:00,fold=9_2024-03-08T15:49:07.362912/TrainLightGCN_ddccd067_81_batch_size=6,conv_layers=2,embedding_dim=304,fold=9,l2=0.0029,learning_rate=0.0055_2024-03-09_07-54-15/checkpoint_000000)\n"
     ]
    },
    {
     "name": "stderr",
     "output_type": "stream",
     "text": [
      "\u001b[36m(TrainLightGCN pid=3367258)\u001b[0m Checkpoint successfully created at: Checkpoint(filesystem=local, path=/home/daviddavo/ray_results/LightGCN_optim=map@10,dao=DEAD FoundationsDAO,freq=2d,normalize=True,cutoff_date=2021-11-28T00:00:00,fold=9_2024-03-08T15:49:07.362912/TrainLightGCN_1814965f_82_batch_size=6,conv_layers=1,embedding_dim=416,fold=9,l2=0.0000,learning_rate=0.0014_2024-03-09_07-54-20/checkpoint_000000)\n"
     ]
    },
    {
     "name": "stderr",
     "output_type": "stream",
     "text": [
      "\u001b[36m(TrainLightGCN pid=3368715)\u001b[0m Checkpoint successfully created at: Checkpoint(filesystem=local, path=/home/daviddavo/ray_results/LightGCN_optim=map@10,dao=DEAD FoundationsDAO,freq=2d,normalize=True,cutoff_date=2021-11-28T00:00:00,fold=9_2024-03-08T15:49:07.362912/TrainLightGCN_5a6aa49f_89_batch_size=8,conv_layers=1,embedding_dim=534,fold=9,l2=0.0000,learning_rate=0.0004_2024-03-09_07-55-57/checkpoint_000000)\n"
     ]
    },
    {
     "name": "stderr",
     "output_type": "stream",
     "text": [
      "\u001b[36m(TrainLightGCN pid=3368899)\u001b[0m Checkpoint successfully created at: Checkpoint(filesystem=local, path=/home/daviddavo/ray_results/LightGCN_optim=map@10,dao=DEAD FoundationsDAO,freq=2d,normalize=True,cutoff_date=2021-11-28T00:00:00,fold=9_2024-03-08T15:49:07.362912/TrainLightGCN_788cc57f_90_batch_size=8,conv_layers=2,embedding_dim=923,fold=9,l2=0.0011,learning_rate=0.0001_2024-03-09_07-56-19/checkpoint_000000)\n"
     ]
    },
    {
     "name": "stderr",
     "output_type": "stream",
     "text": [
      "\u001b[36m(TrainLightGCN pid=3370312)\u001b[0m Checkpoint successfully created at: Checkpoint(filesystem=local, path=/home/daviddavo/ray_results/LightGCN_optim=map@10,dao=DEAD FoundationsDAO,freq=2d,normalize=True,cutoff_date=2021-11-28T00:00:00,fold=9_2024-03-08T15:49:07.362912/TrainLightGCN_f5c17ecd_97_batch_size=9,conv_layers=1,embedding_dim=468,fold=9,l2=0.0000,learning_rate=0.0304_2024-03-09_07-58-08/checkpoint_000000)\n"
     ]
    },
    {
     "name": "stderr",
     "output_type": "stream",
     "text": [
      "\u001b[36m(TrainLightGCN pid=3370488)\u001b[0m Checkpoint successfully created at: Checkpoint(filesystem=local, path=/home/daviddavo/ray_results/LightGCN_optim=map@10,dao=DEAD FoundationsDAO,freq=2d,normalize=True,cutoff_date=2021-11-28T00:00:00,fold=9_2024-03-08T15:49:07.362912/TrainLightGCN_f7106607_98_batch_size=9,conv_layers=1,embedding_dim=777,fold=9,l2=0.0001,learning_rate=0.0001_2024-03-09_07-58-15/checkpoint_000000)\n"
     ]
    },
    {
     "name": "stderr",
     "output_type": "stream",
     "text": [
      "\u001b[36m(TrainLightGCN pid=3370911)\u001b[0m Checkpoint successfully created at: Checkpoint(filesystem=local, path=/home/daviddavo/ray_results/LightGCN_optim=map@10,dao=DEAD FoundationsDAO,freq=2d,normalize=True,cutoff_date=2021-11-28T00:00:00,fold=9_2024-03-08T15:49:07.362912/TrainLightGCN_4428c7ee_100_batch_size=9,conv_layers=1,embedding_dim=1010,fold=9,l2=0.0000,learning_rate=0.0654_2024-03-09_07-58-27/checkpoint_000000)\n"
     ]
    },
    {
     "name": "stderr",
     "output_type": "stream",
     "text": [
      "\u001b[36m(TrainLightGCN pid=3370663)\u001b[0m Checkpoint successfully created at: Checkpoint(filesystem=local, path=/home/daviddavo/ray_results/LightGCN_optim=map@10,dao=DEAD FoundationsDAO,freq=2d,normalize=True,cutoff_date=2021-11-28T00:00:00,fold=9_2024-03-08T15:49:07.362912/TrainLightGCN_be16ce21_99_batch_size=8,conv_layers=4,embedding_dim=66,fold=9,l2=0.0001,learning_rate=0.0001_2024-03-09_07-58-21/checkpoint_000000)\n"
     ]
    },
    {
     "name": "stderr",
     "output_type": "stream",
     "text": [
      "\u001b[36m(TrainLightGCN pid=3369063)\u001b[0m Checkpoint successfully created at: Checkpoint(filesystem=local, path=/home/daviddavo/ray_results/LightGCN_optim=map@10,dao=DEAD FoundationsDAO,freq=2d,normalize=True,cutoff_date=2021-11-28T00:00:00,fold=9_2024-03-08T15:49:07.362912/TrainLightGCN_06468eb6_91_batch_size=7,conv_layers=1,embedding_dim=158,fold=9,l2=0.0000,learning_rate=0.0006_2024-03-09_07-56-28/checkpoint_000000)\n"
     ]
    },
    {
     "name": "stderr",
     "output_type": "stream",
     "text": [
      "\u001b[36m(TrainLightGCN pid=3369400)\u001b[0m Checkpoint successfully created at: Checkpoint(filesystem=local, path=/home/daviddavo/ray_results/LightGCN_optim=map@10,dao=DEAD FoundationsDAO,freq=2d,normalize=True,cutoff_date=2021-11-28T00:00:00,fold=9_2024-03-08T15:49:07.362912/TrainLightGCN_c7307fc1_93_batch_size=7,conv_layers=2,embedding_dim=833,fold=9,l2=0.0000,learning_rate=0.0003_2024-03-09_07-56-40/checkpoint_000000)\n"
     ]
    },
    {
     "name": "stderr",
     "output_type": "stream",
     "text": [
      "\u001b[36m(TrainLightGCN pid=3369982)\u001b[0m Checkpoint successfully created at: Checkpoint(filesystem=local, path=/home/daviddavo/ray_results/LightGCN_optim=map@10,dao=DEAD FoundationsDAO,freq=2d,normalize=True,cutoff_date=2021-11-28T00:00:00,fold=9_2024-03-08T15:49:07.362912/TrainLightGCN_e0905e1e_95_batch_size=7,conv_layers=3,embedding_dim=97,fold=9,l2=0.0000,learning_rate=0.0023_2024-03-09_07-56-52/checkpoint_000000)\u001b[32m [repeated 3x across cluster]\u001b[0m\n"
     ]
    },
    {
     "name": "stderr",
     "output_type": "stream",
     "text": [
      "2024-03-09 08:02:00,292\tINFO tune.py:1042 -- Total run time: 822.44 seconds (822.34 seconds for the tuning loop).\n"
     ]
    },
    {
     "name": "stdout",
     "output_type": "stream",
     "text": [
      "{'fold': 9, 'batch_size': 7, 'embedding_dim': 4, 'conv_layers': 3, 'learning_rate': 0.0002, 'l2': 0.001120904693873806} [True, True, True, False, False]\n",
      "{'fold': 9, 'batch_size': 7, 'embedding_dim': 4, 'conv_layers': 3, 'learning_rate': 0.0002, 'l2': 0.001120904693873806} [True, True, True, False, False]\n"
     ]
    }
   ],
   "source": [
    "import logging\n",
    "\n",
    "def findConfig(rg):\n",
    "    for r in rg:\n",
    "        if r.config:\n",
    "            msk = [r.config[k] == v for k, v in last_best_result.config.items() if k != 'fold']\n",
    "            if all(msk):\n",
    "                return r\n",
    "            elif sum(msk) >= 3:\n",
    "                print(r.config, msk)\n",
    "\n",
    "    return None\n",
    "\n",
    "tuners = []\n",
    "results = []\n",
    "last_best_result = None\n",
    "for f in range(LAST_SPLITS):\n",
    "    best_prev_config = None\n",
    "    if last_best_result is not None:\n",
    "        best_prev_config = last_best_result.config.copy()\n",
    "        best_prev_config['fold'] += 1\n",
    "        best_prev_config = [best_prev_config]\n",
    "    \n",
    "    t = getTunerOnFold(f, best_prev_config)\n",
    "    tuners.append(t)\n",
    "\n",
    "    rg = t.fit()\n",
    "    assert rg.num_errors == 0, f\"There are {rg.num_errors} errors\"\n",
    "    assert rg.num_terminated == NUM_SAMPLES, f'Some samples are not terminated ({rg.num_terminated} != {NUM_SAMPLES})'\n",
    "    results.append(rg)\n",
    "\n",
    "    # Assert that the prev config has been tried\n",
    "    if last_best_result is not None:\n",
    "        # if not any( \n",
    "        #     all((r.config[k] == v for k, v in last_best_result.config.items() if k != 'fold'))\n",
    "        #     for r in rg if r.config\n",
    "        # ):\n",
    "        if not findConfig(rg):\n",
    "            print(\"Best config:\", last_best_result.config)\n",
    "            assert False, f\"The best config from previous fold has not been tested in fold {f}\"\n",
    "        else:\n",
    "            logging.info(f'Fold {f}. Best prev result was {last_best_result.path} and config has been found {findConfig(rg).path}')\n",
    "    \n",
    "    last_best_result = rg.get_best_result()"
   ]
  },
  {
   "cell_type": "code",
   "execution_count": 22,
   "id": "d5bc38c5-05b3-41d0-9eb6-98168aede6ba",
   "metadata": {
    "execution": {
     "iopub.execute_input": "2024-03-09T08:02:00.443625Z",
     "iopub.status.busy": "2024-03-09T08:02:00.443277Z",
     "iopub.status.idle": "2024-03-09T08:02:00.473153Z",
     "shell.execute_reply": "2024-03-09T08:02:00.472674Z"
    },
    "papermill": {
     "duration": 0.038927,
     "end_time": "2024-03-09T08:02:00.474041",
     "exception": false,
     "start_time": "2024-03-09T08:02:00.435114",
     "status": "completed"
    },
    "tags": []
   },
   "outputs": [
    {
     "name": "stdout",
     "output_type": "stream",
     "text": [
      "All finished!\n"
     ]
    }
   ],
   "source": [
    "# This is needed for papermill to run the whole notebook and not stop above\n",
    "# because ray tune catches the exception\n",
    "\n",
    "print(\"All finished!\")"
   ]
  }
 ],
 "metadata": {
  "kernelspec": {
   "display_name": "Python 3 (ipykernel)",
   "language": "python",
   "name": "python3"
  },
  "language_info": {
   "codemirror_mode": {
    "name": "ipython",
    "version": 3
   },
   "file_extension": ".py",
   "mimetype": "text/x-python",
   "name": "python",
   "nbconvert_exporter": "python",
   "pygments_lexer": "ipython3",
   "version": "3.9.18"
  },
  "papermill": {
   "default_parameters": {},
   "duration": 844.997718,
   "end_time": "2024-03-09T08:02:05.707730",
   "environment_variables": {},
   "exception": null,
   "input_path": "07_microsoft_tuning.ipynb",
   "output_path": "nbout/DEAD FoundationsDAO/07_microsoft_tuning.ipynb",
   "parameters": {
    "CUTOFF_DATE_STR": "2021-11-28",
    "EXECUTION_ID": "2024-03-08 10:00",
    "LAST_SPLITS": 10,
    "ORG_NAME": "DEAD FoundationsDAO",
    "ORG_PLATFORM": "daohaus",
    "SPLITS_FREQ": "2d",
    "SPLITS_NORMALIZE": true,
    "USE_ORG_NAMES": true
   },
   "start_time": "2024-03-09T07:48:00.710012",
   "version": "2.5.0"
  },
  "widgets": {
   "application/vnd.jupyter.widget-state+json": {
    "state": {},
    "version_major": 2,
    "version_minor": 0
   }
  }
 },
 "nbformat": 4,
 "nbformat_minor": 5
}