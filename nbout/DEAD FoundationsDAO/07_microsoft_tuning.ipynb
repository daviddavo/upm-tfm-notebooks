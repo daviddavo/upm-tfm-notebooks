{
 "cells": [
  {
   "cell_type": "code",
   "execution_count": 1,
   "id": "cf98a9e1-f3e0-4c0a-96c1-30f305901246",
   "metadata": {
    "editable": true,
    "execution": {
     "iopub.execute_input": "2024-03-21T22:11:05.938613Z",
     "iopub.status.busy": "2024-03-21T22:11:05.938038Z",
     "iopub.status.idle": "2024-03-21T22:11:08.394120Z",
     "shell.execute_reply": "2024-03-21T22:11:08.393603Z"
    },
    "papermill": {
     "duration": 2.465332,
     "end_time": "2024-03-21T22:11:08.394992",
     "exception": false,
     "start_time": "2024-03-21T22:11:05.929660",
     "status": "completed"
    },
    "slideshow": {
     "slide_type": ""
    },
    "tags": []
   },
   "outputs": [
    {
     "name": "stdout",
     "output_type": "stream",
     "text": [
      "Python version 3.9.18 (main, Oct 24 2023, 09:18:18) \n",
      "[GCC 11.4.0]\n"
     ]
    },
    {
     "name": "stderr",
     "output_type": "stream",
     "text": [
      "2024-03-21 22:11:06.285878: E tensorflow/compiler/xla/stream_executor/cuda/cuda_dnn.cc:9342] Unable to register cuDNN factory: Attempting to register factory for plugin cuDNN when one has already been registered\n",
      "2024-03-21 22:11:06.285903: E tensorflow/compiler/xla/stream_executor/cuda/cuda_fft.cc:609] Unable to register cuFFT factory: Attempting to register factory for plugin cuFFT when one has already been registered\n",
      "2024-03-21 22:11:06.285917: E tensorflow/compiler/xla/stream_executor/cuda/cuda_blas.cc:1518] Unable to register cuBLAS factory: Attempting to register factory for plugin cuBLAS when one has already been registered\n"
     ]
    },
    {
     "name": "stdout",
     "output_type": "stream",
     "text": [
      "11.8 8\n",
      "Ray version: 2.9.1\n"
     ]
    }
   ],
   "source": [
    "from typing import Dict, List, Tuple, Union, Any, Optional\n",
    "\n",
    "import os\n",
    "import sys\n",
    "import time\n",
    "print(\"Python version\", sys.version)\n",
    "\n",
    "# Ignore pandas warnings\n",
    "import warnings\n",
    "warnings.simplefilter(action='ignore', category=FutureWarning)\n",
    "\n",
    "from pathlib import Path\n",
    "\n",
    "import pandas as pd\n",
    "import numpy as np\n",
    "import tensorflow as tf\n",
    "import datetime as dt\n",
    "\n",
    "from tqdm.autonotebook import tqdm\n",
    "\n",
    "import ray\n",
    "from ray import train, tune\n",
    "\n",
    "from src.datasets import daocensus_text\n",
    "\n",
    "%load_ext autoreload\n",
    "%autoreload 2\n",
    "\n",
    "tf.get_logger().setLevel('WARNING')\n",
    "\n",
    "tf.config.list_physical_devices(\"GPU\")\n",
    "sys_details = tf.sysconfig.get_build_info()\n",
    "cuda = sys_details.get(\"cuda_version\", -1)\n",
    "cudnn = sys_details.get(\"cudnn_version\", -1)\n",
    "print(cuda, cudnn)\n",
    "print('Ray version:', ray.__version__)"
   ]
  },
  {
   "cell_type": "code",
   "execution_count": 2,
   "id": "798161a7-5414-4626-9dfb-6d71823bf4c7",
   "metadata": {
    "editable": true,
    "execution": {
     "iopub.execute_input": "2024-03-21T22:11:08.401215Z",
     "iopub.status.busy": "2024-03-21T22:11:08.400956Z",
     "iopub.status.idle": "2024-03-21T22:11:08.423158Z",
     "shell.execute_reply": "2024-03-21T22:11:08.422929Z"
    },
    "papermill": {
     "duration": 0.026031,
     "end_time": "2024-03-21T22:11:08.423854",
     "exception": false,
     "start_time": "2024-03-21T22:11:08.397823",
     "status": "completed"
    },
    "slideshow": {
     "slide_type": ""
    },
    "tags": [
     "parameters"
    ]
   },
   "outputs": [],
   "source": [
    "# Others config\n",
    "SEED: int = 57\n",
    "RAY_RESULTS_PATH: Path = Path('~/ray_results').expanduser()\n",
    "\n",
    "# Dataset config\n",
    "ORG_NAME = 'Decentraland'\n",
    "ORG_PLATFORM = 'snapshot'\n",
    "USE_ORG_NAMES: bool = False\n",
    "CUTOFF_DATE_STR: str = None\n",
    "\n",
    "# Dataset splits config\n",
    "SPLITS_FREQ = 'W-THU' # Split weekly\n",
    "LAST_SPLITS = 10 # Use just last 10 splits\n",
    "SPLITS_NORMALIZE = True\n",
    "\n",
    "# Training config\n",
    "MAX_EPOCHS: int = 200\n",
    "EPOCHS_PER_ITER: int = 5\n",
    "SAMPLES_PER_SPLIT: int = 100\n",
    "OPTIM_METRIC: str = 'map@10'\n",
    "\n",
    "# Eval config\n",
    "TOP_K: List[int] = [5, 10]\n",
    "METRICS: List[str] = [\"recall\", \"ndcg\", \"precision\", \"map\"]"
   ]
  },
  {
   "cell_type": "code",
   "execution_count": 3,
   "id": "e9a395ef",
   "metadata": {
    "execution": {
     "iopub.execute_input": "2024-03-21T22:11:08.428885Z",
     "iopub.status.busy": "2024-03-21T22:11:08.428774Z",
     "iopub.status.idle": "2024-03-21T22:11:08.449594Z",
     "shell.execute_reply": "2024-03-21T22:11:08.449339Z"
    },
    "papermill": {
     "duration": 0.024266,
     "end_time": "2024-03-21T22:11:08.450359",
     "exception": false,
     "start_time": "2024-03-21T22:11:08.426093",
     "status": "completed"
    },
    "tags": [
     "injected-parameters"
    ]
   },
   "outputs": [],
   "source": [
    "# Parameters\n",
    "ORG_NAME = \"DEAD FoundationsDAO\"\n",
    "ORG_PLATFORM = \"daohaus\"\n",
    "SPLITS_FREQ = \"2d\"\n",
    "SPLITS_NORMALIZE = True\n",
    "LAST_SPLITS = 10\n",
    "USE_ORG_NAMES = True\n",
    "EXECUTION_ID = \"2024-03-21\"\n",
    "CUTOFF_DATE_STR = \"2021-11-28\"\n"
   ]
  },
  {
   "cell_type": "code",
   "execution_count": 4,
   "id": "cb3db761-9d3b-4a8b-9164-1008f2e8bab5",
   "metadata": {
    "execution": {
     "iopub.execute_input": "2024-03-21T22:11:08.455255Z",
     "iopub.status.busy": "2024-03-21T22:11:08.455122Z",
     "iopub.status.idle": "2024-03-21T22:11:08.472817Z",
     "shell.execute_reply": "2024-03-21T22:11:08.472592Z"
    },
    "papermill": {
     "duration": 0.021075,
     "end_time": "2024-03-21T22:11:08.473613",
     "exception": false,
     "start_time": "2024-03-21T22:11:08.452538",
     "status": "completed"
    },
    "tags": []
   },
   "outputs": [],
   "source": [
    "CUTOFF_DATE = dt.datetime.fromisoformat(CUTOFF_DATE_STR) if CUTOFF_DATE_STR else None"
   ]
  },
  {
   "cell_type": "markdown",
   "id": "ab0ff2f2-bdaa-46eb-87d1-c4481734b8c0",
   "metadata": {
    "papermill": {
     "duration": 0.002266,
     "end_time": "2024-03-21T22:11:08.478072",
     "exception": false,
     "start_time": "2024-03-21T22:11:08.475806",
     "status": "completed"
    },
    "tags": []
   },
   "source": [
    "# Load data"
   ]
  },
  {
   "cell_type": "code",
   "execution_count": 5,
   "id": "765a4892-6a85-40ab-a65d-c0d76b0569b2",
   "metadata": {
    "editable": true,
    "execution": {
     "iopub.execute_input": "2024-03-21T22:11:08.482889Z",
     "iopub.status.busy": "2024-03-21T22:11:08.482760Z",
     "iopub.status.idle": "2024-03-21T22:11:10.517388Z",
     "shell.execute_reply": "2024-03-21T22:11:10.517012Z"
    },
    "papermill": {
     "duration": 2.037994,
     "end_time": "2024-03-21T22:11:10.518174",
     "exception": false,
     "start_time": "2024-03-21T22:11:08.480180",
     "status": "completed"
    },
    "scrolled": true,
    "slideshow": {
     "slide_type": ""
    },
    "tags": []
   },
   "outputs": [
    {
     "name": "stdout",
     "output_type": "stream",
     "text": [
      "Warning, removing 16601 votes without proposal\n",
      "<class 'pandas.core.frame.DataFrame'>\n",
      "Int64Index: 16601 entries, 0 to 16600\n",
      "Data columns (total 10 columns):\n",
      " #   Column         Non-Null Count  Dtype         \n",
      "---  ------         --------------  -----         \n",
      " 0   platform       16601 non-null  object        \n",
      " 1   name           16601 non-null  object        \n",
      " 2   id             16601 non-null  object        \n",
      " 3   proposal       16601 non-null  category      \n",
      " 4   deployment     16601 non-null  object        \n",
      " 5   platform_vote  16601 non-null  object        \n",
      " 6   voter          16601 non-null  category      \n",
      " 7   date           16601 non-null  datetime64[ns]\n",
      " 8   choice         16601 non-null  object        \n",
      " 9   weight         16601 non-null  float64       \n",
      "dtypes: category(2), datetime64[ns](1), float64(1), object(6)\n",
      "memory usage: 1.3+ MB\n",
      "None\n",
      "<class 'pandas.core.frame.DataFrame'>\n",
      "Int64Index: 5034 entries, 0 to 5033\n",
      "Data columns (total 13 columns):\n",
      " #   Column               Non-Null Count  Dtype         \n",
      "---  ------               --------------  -----         \n",
      " 0   platform             5034 non-null   object        \n",
      " 1   name                 5034 non-null   object        \n",
      " 2   platform_deployment  5034 non-null   object        \n",
      " 3   id                   5034 non-null   category      \n",
      " 4   deployment           5034 non-null   object        \n",
      " 5   platform_proposal    5034 non-null   object        \n",
      " 6   author               5034 non-null   category      \n",
      " 7   date                 5034 non-null   datetime64[ns]\n",
      " 8   title                5034 non-null   object        \n",
      " 9   description          752 non-null    object        \n",
      " 10  start                5034 non-null   datetime64[ns]\n",
      " 11  end                  5034 non-null   datetime64[ns]\n",
      " 12  votes_count          5034 non-null   int64         \n",
      "dtypes: category(2), datetime64[ns](3), int64(1), object(7)\n",
      "memory usage: 562.5+ KB\n",
      "None\n"
     ]
    }
   ],
   "source": [
    "# dfptext = pd.read_csv('./snapshot_proposals.csv')[['proposal_id', 'title', 'description', 'start', 'end']]\n",
    "# dfv, dfp = daocensus.get(\"./data/daos-census\", ORG_NAME, 'snapshot')\n",
    "# dfv['voter'] = dfv['voter'].astype('str')\n",
    "# dfp = dfp.merge(dfptext, how='left', left_on='platform_proposal', right_on='proposal_id')\n",
    "# dfp[['start', 'end']] = dfp[['start', 'end']].astype('datetime64')\n",
    "\n",
    "dfv, dfp = daocensus_text.get(\"./data/daos-census-text\", ORG_NAME, ORG_PLATFORM, use_org_names=USE_ORG_NAMES, cutoff_date=CUTOFF_DATE)\n",
    "print(dfv.info())\n",
    "print(dfp.info())"
   ]
  },
  {
   "cell_type": "markdown",
   "id": "df339c08-4f99-4933-886c-6ab774f09e63",
   "metadata": {
    "papermill": {
     "duration": 0.002531,
     "end_time": "2024-03-21T22:11:10.523720",
     "exception": false,
     "start_time": "2024-03-21T22:11:10.521189",
     "status": "completed"
    },
    "tags": []
   },
   "source": [
    "## Transform data"
   ]
  },
  {
   "cell_type": "code",
   "execution_count": 6,
   "id": "4b003927-cfab-4f9a-91f8-1376f038f82e",
   "metadata": {
    "execution": {
     "iopub.execute_input": "2024-03-21T22:11:10.528849Z",
     "iopub.status.busy": "2024-03-21T22:11:10.528605Z",
     "iopub.status.idle": "2024-03-21T22:11:10.557589Z",
     "shell.execute_reply": "2024-03-21T22:11:10.557341Z"
    },
    "papermill": {
     "duration": 0.032376,
     "end_time": "2024-03-21T22:11:10.558369",
     "exception": false,
     "start_time": "2024-03-21T22:11:10.525993",
     "status": "completed"
    },
    "tags": []
   },
   "outputs": [
    {
     "data": {
      "text/html": [
       "<div>\n",
       "<style scoped>\n",
       "    .dataframe tbody tr th:only-of-type {\n",
       "        vertical-align: middle;\n",
       "    }\n",
       "\n",
       "    .dataframe tbody tr th {\n",
       "        vertical-align: top;\n",
       "    }\n",
       "\n",
       "    .dataframe thead th {\n",
       "        text-align: right;\n",
       "    }\n",
       "</style>\n",
       "<table border=\"1\" class=\"dataframe\">\n",
       "  <thead>\n",
       "    <tr style=\"text-align: right;\">\n",
       "      <th></th>\n",
       "      <th>userID</th>\n",
       "      <th>itemID</th>\n",
       "      <th>timestamp</th>\n",
       "      <th>rating</th>\n",
       "    </tr>\n",
       "  </thead>\n",
       "  <tbody>\n",
       "    <tr>\n",
       "      <th>0</th>\n",
       "      <td>0x0000000813b34008a225de08a6a61835508c71f9</td>\n",
       "      <td>3447c17e-1b31-5f05-afb7-bf4f7b93292a</td>\n",
       "      <td>2021-11-17 19:14:10</td>\n",
       "      <td>1</td>\n",
       "    </tr>\n",
       "    <tr>\n",
       "      <th>1</th>\n",
       "      <td>0x0000000813b34008a225de08a6a61835508c71f9</td>\n",
       "      <td>58a6ac3d-5b72-5db9-b3af-84118704d120</td>\n",
       "      <td>2021-11-17 19:14:02</td>\n",
       "      <td>1</td>\n",
       "    </tr>\n",
       "    <tr>\n",
       "      <th>2</th>\n",
       "      <td>0x0000000813b34008a225de08a6a61835508c71f9</td>\n",
       "      <td>d607ecf5-04f8-53b9-8518-33c2bb09e990</td>\n",
       "      <td>2021-11-17 19:15:20</td>\n",
       "      <td>1</td>\n",
       "    </tr>\n",
       "    <tr>\n",
       "      <th>3</th>\n",
       "      <td>0x001be549fa377710b9e59d57bbdf593ce1e379ca</td>\n",
       "      <td>94dc6060-d66d-52fe-9c5d-8c7e43979569</td>\n",
       "      <td>2021-11-03 21:24:45</td>\n",
       "      <td>1</td>\n",
       "    </tr>\n",
       "    <tr>\n",
       "      <th>4</th>\n",
       "      <td>0x001be549fa377710b9e59d57bbdf593ce1e379ca</td>\n",
       "      <td>470cf9e2-b994-5279-8096-87a475e28c44</td>\n",
       "      <td>2021-11-03 21:26:15</td>\n",
       "      <td>1</td>\n",
       "    </tr>\n",
       "  </tbody>\n",
       "</table>\n",
       "</div>"
      ],
      "text/plain": [
       "                                       userID  \\\n",
       "0  0x0000000813b34008a225de08a6a61835508c71f9   \n",
       "1  0x0000000813b34008a225de08a6a61835508c71f9   \n",
       "2  0x0000000813b34008a225de08a6a61835508c71f9   \n",
       "3  0x001be549fa377710b9e59d57bbdf593ce1e379ca   \n",
       "4  0x001be549fa377710b9e59d57bbdf593ce1e379ca   \n",
       "\n",
       "                                 itemID           timestamp  rating  \n",
       "0  3447c17e-1b31-5f05-afb7-bf4f7b93292a 2021-11-17 19:14:10       1  \n",
       "1  58a6ac3d-5b72-5db9-b3af-84118704d120 2021-11-17 19:14:02       1  \n",
       "2  d607ecf5-04f8-53b9-8518-33c2bb09e990 2021-11-17 19:15:20       1  \n",
       "3  94dc6060-d66d-52fe-9c5d-8c7e43979569 2021-11-03 21:24:45       1  \n",
       "4  470cf9e2-b994-5279-8096-87a475e28c44 2021-11-03 21:26:15       1  "
      ]
     },
     "execution_count": 6,
     "metadata": {},
     "output_type": "execute_result"
    }
   ],
   "source": [
    "def to_microsoft(dfv):\n",
    "    df = dfv[['voter', 'proposal', 'date']].rename(columns={\n",
    "        'voter': 'userID',\n",
    "        'proposal': 'itemID',\n",
    "        'date': 'timestamp',\n",
    "    })\n",
    "    df['itemID'] = df['itemID'].astype('str')\n",
    "    df['rating'] = 1\n",
    "    return df\n",
    "\n",
    "df = to_microsoft(dfv)\n",
    "df.head()"
   ]
  },
  {
   "cell_type": "markdown",
   "id": "8faab8dc-8192-47b5-96df-7458bd890ffb",
   "metadata": {
    "papermill": {
     "duration": 0.002376,
     "end_time": "2024-03-21T22:11:10.563052",
     "exception": false,
     "start_time": "2024-03-21T22:11:10.560676",
     "status": "completed"
    },
    "tags": []
   },
   "source": [
    "# Split data\n",
    "\n",
    "Each proposal remains open for a few days, our environment is different of a movies recommender system. For this reason, we will use a TimeSeriesSplit instead of a K-Fold to cross-validate the model.\n",
    "\n",
    "![](https://scikit-learn.org/stable/_images/sphx_glr_plot_cv_indices_013.png)\n",
    "\n",
    "El TimeSeriesSplit de scikit-learn no nos vale porque el número de elementos en cada split es el mismo, pero el tamaño del intervalo, no. Como queremos simular un comportamiento realista, haremos el split dividiendo por intervalos de igual longitud."
   ]
  },
  {
   "cell_type": "code",
   "execution_count": 7,
   "id": "3f661ac7-df23-49ad-9671-cfa65d4b44d6",
   "metadata": {
    "execution": {
     "iopub.execute_input": "2024-03-21T22:11:10.568136Z",
     "iopub.status.busy": "2024-03-21T22:11:10.568024Z",
     "iopub.status.idle": "2024-03-21T22:11:10.746451Z",
     "shell.execute_reply": "2024-03-21T22:11:10.746016Z"
    },
    "papermill": {
     "duration": 0.182339,
     "end_time": "2024-03-21T22:11:10.747595",
     "exception": false,
     "start_time": "2024-03-21T22:11:10.565256",
     "status": "completed"
    },
    "tags": []
   },
   "outputs": [],
   "source": [
    "from recommenders.evaluation.python_evaluation import metrics as metrics_dict"
   ]
  },
  {
   "cell_type": "code",
   "execution_count": 8,
   "id": "445d9909-609a-4cf3-8e24-6fa36946a375",
   "metadata": {
    "editable": true,
    "execution": {
     "iopub.execute_input": "2024-03-21T22:11:10.753929Z",
     "iopub.status.busy": "2024-03-21T22:11:10.753801Z",
     "iopub.status.idle": "2024-03-21T22:11:11.697696Z",
     "shell.execute_reply": "2024-03-21T22:11:11.697346Z"
    },
    "papermill": {
     "duration": 0.948054,
     "end_time": "2024-03-21T22:11:11.698521",
     "exception": false,
     "start_time": "2024-03-21T22:11:10.750467",
     "status": "completed"
    },
    "slideshow": {
     "slide_type": ""
    },
    "tags": []
   },
   "outputs": [
    {
     "name": "stdout",
     "output_type": "stream",
     "text": [
      "Split 0, train from: 2020-11-25 to 2021-11-05, test from: 2021-11-06 to 2021-11-26\n",
      "  t: 2021-11-06 00:00:00\n",
      "  len(train): 9194, len(test): 27\n",
      "  users(train): 1631, users(test): 13\n",
      "\n",
      "  highest possible recall@5:\t0.9872\n",
      "  highest possible ndcg@5:\t1.0000\n",
      "  highest possible precision@5:\t0.4000\n",
      "  highest possible map@5:\t0.9872\n",
      "------------------------------\n",
      "Split 1, train from: 2020-11-25 to 2021-11-07, test from: 2021-11-08 to 2021-11-26\n",
      "  t: 2021-11-08 00:00:00\n",
      "  len(train): 9485, len(test): 170\n",
      "  users(train): 1676, users(test): 50\n",
      "\n",
      "  highest possible recall@5:\t0.9777\n",
      "  highest possible ndcg@5:\t1.0000\n",
      "  highest possible precision@5:\t0.3200\n",
      "  highest possible map@5:\t0.9777\n",
      "------------------------------\n",
      "Split 2, train from: 2020-11-25 to 2021-11-09, test from: 2021-11-10 to 2021-11-26\n",
      "  t: 2021-11-10 00:00:00\n",
      "  len(train): 9763, len(test): 189\n",
      "  users(train): 1726, users(test): 48\n",
      "\n",
      "  highest possible recall@5:\t0.9688\n",
      "  highest possible ndcg@5:\t1.0000\n",
      "  highest possible precision@5:\t0.3167\n",
      "  highest possible map@5:\t0.9688\n",
      "------------------------------\n",
      "Split 3, train from: 2020-11-25 to 2021-11-11, test from: 2021-11-12 to 2021-11-26\n",
      "  t: 2021-11-12 00:00:00\n",
      "  len(train): 10162, len(test): 202\n",
      "  users(train): 1795, users(test): 47\n",
      "\n",
      "  highest possible recall@5:\t0.9556\n",
      "  highest possible ndcg@5:\t1.0000\n",
      "  highest possible precision@5:\t0.3277\n"
     ]
    },
    {
     "name": "stdout",
     "output_type": "stream",
     "text": [
      "  highest possible map@5:\t0.9556\n",
      "------------------------------\n",
      "Split 4, train from: 2020-11-25 to 2021-11-13, test from: 2021-11-14 to 2021-11-26\n",
      "  t: 2021-11-14 00:00:00\n",
      "  len(train): 10945, len(test): 341\n",
      "  users(train): 1902, users(test): 55\n",
      "\n",
      "  highest possible recall@5:\t0.9470\n",
      "  highest possible ndcg@5:\t1.0000\n",
      "  highest possible precision@5:\t0.3418\n",
      "  highest possible map@5:\t0.9470\n",
      "------------------------------\n",
      "Split 5, train from: 2020-11-25 to 2021-11-15, test from: 2021-11-16 to 2021-11-26\n",
      "  t: 2021-11-16 00:00:00\n",
      "  len(train): 12013, len(test): 211\n",
      "  users(train): 2113, users(test): 55\n",
      "\n",
      "  highest possible recall@5:\t0.9611\n",
      "  highest possible ndcg@5:\t1.0000\n",
      "  highest possible precision@5:\t0.3273\n",
      "  highest possible map@5:\t0.9611\n",
      "------------------------------\n",
      "Split 6, train from: 2020-11-25 to 2021-11-17, test from: 2021-11-18 to 2021-11-26\n",
      "  t: 2021-11-18 00:00:00\n",
      "  len(train): 12705, len(test): 165\n",
      "  users(train): 2251, users(test): 52\n",
      "\n",
      "  highest possible recall@5:\t0.9561\n",
      "  highest possible ndcg@5:\t1.0000\n",
      "  highest possible precision@5:\t0.3231\n",
      "  highest possible map@5:\t0.9561\n",
      "------------------------------\n",
      "Split 7, train from: 2020-11-25 to 2021-11-19, test from: 2021-11-20 to 2021-11-26\n",
      "  t: 2021-11-20 00:00:00\n",
      "  len(train): 13774, len(test): 80\n",
      "  users(train): 2476, users(test): 38\n",
      "\n",
      "  highest possible recall@5:\t0.9778\n",
      "  highest possible ndcg@5:\t1.0000\n",
      "  highest possible precision@5:\t0.2789\n"
     ]
    },
    {
     "name": "stdout",
     "output_type": "stream",
     "text": [
      "  highest possible map@5:\t0.9778\n",
      "------------------------------\n",
      "Split 8, train from: 2020-11-25 to 2021-11-21, test from: 2021-11-22 to 2021-11-26\n",
      "  t: 2021-11-22 00:00:00\n",
      "  len(train): 14692, len(test): 73\n",
      "  users(train): 2679, users(test): 34\n",
      "\n",
      "  highest possible recall@5:\t0.9757\n",
      "  highest possible ndcg@5:\t1.0000\n",
      "  highest possible precision@5:\t0.2882\n",
      "  highest possible map@5:\t0.9757\n",
      "------------------------------\n",
      "Split 9, train from: 2020-11-25 to 2021-11-23, test from: 2021-11-24 to 2021-11-27\n",
      "  t: 2021-11-24 00:00:00\n",
      "  len(train): 15538, len(test): 29\n",
      "  users(train): 2888, users(test): 19\n",
      "\n",
      "  highest possible recall@5:\t1.0000\n",
      "  highest possible ndcg@5:\t1.0000\n",
      "  highest possible precision@5:\t0.3053\n",
      "  highest possible map@5:\t1.0000\n",
      "------------------------------\n"
     ]
    }
   ],
   "source": [
    "from src.model_selection import timeFreqSplitCurrent, timeIntervalSplitCurrent\n",
    "\n",
    "# max_train_prev = df['timestamp'].min().date()\n",
    "# N_SPLITS = 10; SKIP_SPLIT = 0\n",
    "# folds = list(timeIntervalSplitCurrent(df, N_SPLITS, dfp, skip=SKIP_SPLIT, remove_not_in_train_col='userID', return_open=True))\n",
    "folds = list(timeFreqSplitCurrent(df, SPLITS_FREQ, dfp, return_open=True, remove_not_in_train_col='userID'))[-LAST_SPLITS:]\n",
    "for i, (dftrain, dftest, t, open_proposals) in enumerate(folds):\n",
    "    min_train = dftrain['timestamp'].min().date()\n",
    "    max_train = dftrain['timestamp'].max().date()\n",
    "    min_test  = dftest['timestamp'].min().date()\n",
    "    max_test  = dftest['timestamp'].max().date()\n",
    "\n",
    "    train_users = len(set(dftrain['userID']))\n",
    "    test_users = len(set(dftest['userID']))\n",
    "    \n",
    "    print(f\"Split {i}, train from: {min_train} to {max_train}, test from: {min_test} to {max_test}\")\n",
    "    print(f\"  t: {t}\")\n",
    "    print(f\"  len(train): {len(dftrain)}, len(test): {len(dftest)}\")\n",
    "    print(f\"  users(train): {train_users}, users(test): {test_users}\")\n",
    "\n",
    "    print()\n",
    "    dftest['prediction'] = 1\n",
    "    for m in METRICS:\n",
    "        f = metrics_dict[f'{m}_at_k']\n",
    "        print(f\"  highest possible {m}@{TOP_K[0]}:\\t{f(dftest, dftest, k=TOP_K[0], relevancy_method='top_k'):.4f}\")\n",
    "\n",
    "    print(\"-\"*30)"
   ]
  },
  {
   "cell_type": "markdown",
   "id": "5c881c43-d308-40ff-b6b4-d54458e1bc32",
   "metadata": {
    "papermill": {
     "duration": 0.002789,
     "end_time": "2024-03-21T22:11:11.704306",
     "exception": false,
     "start_time": "2024-03-21T22:11:11.701517",
     "status": "completed"
    },
    "tags": []
   },
   "source": [
    "# Defining training"
   ]
  },
  {
   "cell_type": "code",
   "execution_count": 9,
   "id": "9a502e2d-3398-405f-9029-d3abc69033dc",
   "metadata": {
    "execution": {
     "iopub.execute_input": "2024-03-21T22:11:11.709763Z",
     "iopub.status.busy": "2024-03-21T22:11:11.709643Z",
     "iopub.status.idle": "2024-03-21T22:11:11.883810Z",
     "shell.execute_reply": "2024-03-21T22:11:11.883427Z"
    },
    "papermill": {
     "duration": 0.178334,
     "end_time": "2024-03-21T22:11:11.885019",
     "exception": false,
     "start_time": "2024-03-21T22:11:11.706685",
     "status": "completed"
    },
    "tags": []
   },
   "outputs": [],
   "source": [
    "# from recommenders.models.deeprec.models.graphrec.lightgcn import LightGCN\n",
    "from src.models import LightGCNCustom\n",
    "from recommenders.utils.python_utils import get_top_k_scored_items"
   ]
  },
  {
   "cell_type": "markdown",
   "id": "923adb82-9733-4e21-a378-7263c5532353",
   "metadata": {
    "papermill": {
     "duration": 0.002817,
     "end_time": "2024-03-21T22:11:11.890787",
     "exception": false,
     "start_time": "2024-03-21T22:11:11.887970",
     "status": "completed"
    },
    "tags": []
   },
   "source": [
    "## Small test of `LightGCNCustom`"
   ]
  },
  {
   "cell_type": "code",
   "execution_count": 10,
   "id": "41d1cf90-bd11-4a87-b0aa-bf0e25d559af",
   "metadata": {
    "execution": {
     "iopub.execute_input": "2024-03-21T22:11:11.896408Z",
     "iopub.status.busy": "2024-03-21T22:11:11.896247Z",
     "iopub.status.idle": "2024-03-21T22:11:11.922286Z",
     "shell.execute_reply": "2024-03-21T22:11:11.922045Z"
    },
    "papermill": {
     "duration": 0.02995,
     "end_time": "2024-03-21T22:11:11.923141",
     "exception": false,
     "start_time": "2024-03-21T22:11:11.893191",
     "status": "completed"
    },
    "tags": []
   },
   "outputs": [],
   "source": [
    "from recommenders.models.deeprec.DataModel.ImplicitCF import ImplicitCF\n",
    "from recommenders.models.deeprec.deeprec_utils import prepare_hparams"
   ]
  },
  {
   "cell_type": "code",
   "execution_count": 11,
   "id": "0e57c58e-3091-4357-969a-c7bafedd29c1",
   "metadata": {
    "execution": {
     "iopub.execute_input": "2024-03-21T22:11:11.928698Z",
     "iopub.status.busy": "2024-03-21T22:11:11.928553Z",
     "iopub.status.idle": "2024-03-21T22:11:12.924074Z",
     "shell.execute_reply": "2024-03-21T22:11:12.923649Z"
    },
    "papermill": {
     "duration": 0.999549,
     "end_time": "2024-03-21T22:11:12.925134",
     "exception": false,
     "start_time": "2024-03-21T22:11:11.925585",
     "status": "completed"
    },
    "tags": []
   },
   "outputs": [
    {
     "name": "stdout",
     "output_type": "stream",
     "text": [
      "items: 4944 user: 2888\n"
     ]
    },
    {
     "name": "stdout",
     "output_type": "stream",
     "text": [
      "Already create adjacency matrix.\n",
      "Already normalize adjacency matrix.\n",
      "Using xavier initialization.\n"
     ]
    }
   ],
   "source": [
    "hparams = prepare_hparams(\n",
    "    model_type='lightgcn',\n",
    "    n_layers=3,\n",
    "    batch_size=512,\n",
    "    embed_size=64,\n",
    "    epochs=2,\n",
    "    learning_rate=0.001,\n",
    "    decay=0.001,\n",
    "    metrics=[\"recall\", \"ndcg\", \"precision\", \"map\"],\n",
    "    eval_epoch=2,\n",
    "    top_k=TOP_K[0],\n",
    "    save_model=False,\n",
    "    MODEL_DIR='./data/model/lightgcn/',\n",
    ")\n",
    "dataloader = ImplicitCF(train=folds[-1][0], test=folds[-1][1], seed=SEED)\n",
    "print(\"items:\", dataloader.n_items, \"user:\", dataloader.n_users)\n",
    "model = LightGCNCustom(data=dataloader, hparams=hparams)"
   ]
  },
  {
   "cell_type": "code",
   "execution_count": 12,
   "id": "3fe49e83-f291-4383-97c2-167a706ae717",
   "metadata": {
    "execution": {
     "iopub.execute_input": "2024-03-21T22:11:12.932043Z",
     "iopub.status.busy": "2024-03-21T22:11:12.931902Z",
     "iopub.status.idle": "2024-03-21T22:11:13.728289Z",
     "shell.execute_reply": "2024-03-21T22:11:13.727906Z"
    },
    "papermill": {
     "duration": 0.80065,
     "end_time": "2024-03-21T22:11:13.729063",
     "exception": false,
     "start_time": "2024-03-21T22:11:12.928413",
     "status": "completed"
    },
    "tags": []
   },
   "outputs": [
    {
     "name": "stdout",
     "output_type": "stream",
     "text": [
      "Epoch 1 (train)0.2s: train loss = 0.68898 = (mf)0.68892 + (embed)0.00006\n"
     ]
    },
    {
     "name": "stdout",
     "output_type": "stream",
     "text": [
      "Epoch 2 (train)0.1s + (eval)0.5s: train loss = 0.66771 = (mf)0.66758 + (embed)0.00013, recall = 0.05263, ndcg = 0.05263, precision = 0.01053, map = 0.05263\n"
     ]
    }
   ],
   "source": [
    "model.fit()"
   ]
  },
  {
   "cell_type": "code",
   "execution_count": 13,
   "id": "a12ab695-94f8-431e-8a7f-03bf17f2fa1e",
   "metadata": {
    "execution": {
     "iopub.execute_input": "2024-03-21T22:11:13.736145Z",
     "iopub.status.busy": "2024-03-21T22:11:13.735900Z",
     "iopub.status.idle": "2024-03-21T22:11:13.775912Z",
     "shell.execute_reply": "2024-03-21T22:11:13.775565Z"
    },
    "papermill": {
     "duration": 0.044805,
     "end_time": "2024-03-21T22:11:13.777048",
     "exception": false,
     "start_time": "2024-03-21T22:11:13.732243",
     "status": "completed"
    },
    "tags": []
   },
   "outputs": [
    {
     "data": {
      "text/plain": [
       "[0.05263157894736842,\n",
       " 0.05263157894736842,\n",
       " 0.010526315789473684,\n",
       " 0.05263157894736842]"
      ]
     },
     "execution_count": 13,
     "metadata": {},
     "output_type": "execute_result"
    }
   ],
   "source": [
    "model.run_eval()"
   ]
  },
  {
   "cell_type": "code",
   "execution_count": 14,
   "id": "2b131c2d-6df2-4292-8f12-caaf409562ab",
   "metadata": {
    "execution": {
     "iopub.execute_input": "2024-03-21T22:11:13.784873Z",
     "iopub.status.busy": "2024-03-21T22:11:13.784762Z",
     "iopub.status.idle": "2024-03-21T22:11:13.816915Z",
     "shell.execute_reply": "2024-03-21T22:11:13.816630Z"
    },
    "papermill": {
     "duration": 0.036528,
     "end_time": "2024-03-21T22:11:13.817747",
     "exception": false,
     "start_time": "2024-03-21T22:11:13.781219",
     "status": "completed"
    },
    "tags": []
   },
   "outputs": [
    {
     "data": {
      "text/html": [
       "<div>\n",
       "<style scoped>\n",
       "    .dataframe tbody tr th:only-of-type {\n",
       "        vertical-align: middle;\n",
       "    }\n",
       "\n",
       "    .dataframe tbody tr th {\n",
       "        vertical-align: top;\n",
       "    }\n",
       "\n",
       "    .dataframe thead th {\n",
       "        text-align: right;\n",
       "    }\n",
       "</style>\n",
       "<table border=\"1\" class=\"dataframe\">\n",
       "  <thead>\n",
       "    <tr style=\"text-align: right;\">\n",
       "      <th></th>\n",
       "      <th>userID</th>\n",
       "      <th>itemID</th>\n",
       "      <th>prediction</th>\n",
       "    </tr>\n",
       "  </thead>\n",
       "  <tbody>\n",
       "    <tr>\n",
       "      <th>0</th>\n",
       "      <td>74</td>\n",
       "      <td>1355</td>\n",
       "      <td>0.107130</td>\n",
       "    </tr>\n",
       "    <tr>\n",
       "      <th>1</th>\n",
       "      <td>74</td>\n",
       "      <td>86</td>\n",
       "      <td>0.104715</td>\n",
       "    </tr>\n",
       "    <tr>\n",
       "      <th>2</th>\n",
       "      <td>74</td>\n",
       "      <td>1220</td>\n",
       "      <td>0.084403</td>\n",
       "    </tr>\n",
       "    <tr>\n",
       "      <th>3</th>\n",
       "      <td>921</td>\n",
       "      <td>201</td>\n",
       "      <td>0.362648</td>\n",
       "    </tr>\n",
       "    <tr>\n",
       "      <th>4</th>\n",
       "      <td>921</td>\n",
       "      <td>1272</td>\n",
       "      <td>0.212354</td>\n",
       "    </tr>\n",
       "    <tr>\n",
       "      <th>5</th>\n",
       "      <td>921</td>\n",
       "      <td>125</td>\n",
       "      <td>0.188648</td>\n",
       "    </tr>\n",
       "    <tr>\n",
       "      <th>6</th>\n",
       "      <td>934</td>\n",
       "      <td>65</td>\n",
       "      <td>0.022732</td>\n",
       "    </tr>\n",
       "    <tr>\n",
       "      <th>7</th>\n",
       "      <td>934</td>\n",
       "      <td>201</td>\n",
       "      <td>0.021898</td>\n",
       "    </tr>\n",
       "    <tr>\n",
       "      <th>8</th>\n",
       "      <td>934</td>\n",
       "      <td>1376</td>\n",
       "      <td>0.019903</td>\n",
       "    </tr>\n",
       "    <tr>\n",
       "      <th>9</th>\n",
       "      <td>1061</td>\n",
       "      <td>65</td>\n",
       "      <td>0.209589</td>\n",
       "    </tr>\n",
       "    <tr>\n",
       "      <th>10</th>\n",
       "      <td>1061</td>\n",
       "      <td>201</td>\n",
       "      <td>0.208156</td>\n",
       "    </tr>\n",
       "    <tr>\n",
       "      <th>11</th>\n",
       "      <td>1061</td>\n",
       "      <td>64</td>\n",
       "      <td>0.187689</td>\n",
       "    </tr>\n",
       "    <tr>\n",
       "      <th>12</th>\n",
       "      <td>1165</td>\n",
       "      <td>201</td>\n",
       "      <td>0.330745</td>\n",
       "    </tr>\n",
       "    <tr>\n",
       "      <th>13</th>\n",
       "      <td>1165</td>\n",
       "      <td>1272</td>\n",
       "      <td>0.207670</td>\n",
       "    </tr>\n",
       "    <tr>\n",
       "      <th>14</th>\n",
       "      <td>1165</td>\n",
       "      <td>125</td>\n",
       "      <td>0.176471</td>\n",
       "    </tr>\n",
       "    <tr>\n",
       "      <th>15</th>\n",
       "      <td>1455</td>\n",
       "      <td>2652</td>\n",
       "      <td>0.012737</td>\n",
       "    </tr>\n",
       "    <tr>\n",
       "      <th>16</th>\n",
       "      <td>1455</td>\n",
       "      <td>946</td>\n",
       "      <td>0.011760</td>\n",
       "    </tr>\n",
       "    <tr>\n",
       "      <th>17</th>\n",
       "      <td>1455</td>\n",
       "      <td>1271</td>\n",
       "      <td>0.011291</td>\n",
       "    </tr>\n",
       "    <tr>\n",
       "      <th>18</th>\n",
       "      <td>1650</td>\n",
       "      <td>2654</td>\n",
       "      <td>0.026622</td>\n",
       "    </tr>\n",
       "    <tr>\n",
       "      <th>19</th>\n",
       "      <td>1650</td>\n",
       "      <td>2761</td>\n",
       "      <td>0.020060</td>\n",
       "    </tr>\n",
       "    <tr>\n",
       "      <th>20</th>\n",
       "      <td>1650</td>\n",
       "      <td>4668</td>\n",
       "      <td>0.018277</td>\n",
       "    </tr>\n",
       "    <tr>\n",
       "      <th>21</th>\n",
       "      <td>1813</td>\n",
       "      <td>86</td>\n",
       "      <td>0.015218</td>\n",
       "    </tr>\n",
       "    <tr>\n",
       "      <th>22</th>\n",
       "      <td>1813</td>\n",
       "      <td>87</td>\n",
       "      <td>0.013617</td>\n",
       "    </tr>\n",
       "    <tr>\n",
       "      <th>23</th>\n",
       "      <td>1813</td>\n",
       "      <td>1220</td>\n",
       "      <td>0.012871</td>\n",
       "    </tr>\n",
       "    <tr>\n",
       "      <th>24</th>\n",
       "      <td>1823</td>\n",
       "      <td>47</td>\n",
       "      <td>0.111083</td>\n",
       "    </tr>\n",
       "    <tr>\n",
       "      <th>25</th>\n",
       "      <td>1823</td>\n",
       "      <td>1220</td>\n",
       "      <td>0.104588</td>\n",
       "    </tr>\n",
       "    <tr>\n",
       "      <th>26</th>\n",
       "      <td>1823</td>\n",
       "      <td>201</td>\n",
       "      <td>0.094563</td>\n",
       "    </tr>\n",
       "    <tr>\n",
       "      <th>27</th>\n",
       "      <td>1996</td>\n",
       "      <td>65</td>\n",
       "      <td>0.020401</td>\n",
       "    </tr>\n",
       "    <tr>\n",
       "      <th>28</th>\n",
       "      <td>1996</td>\n",
       "      <td>64</td>\n",
       "      <td>0.017076</td>\n",
       "    </tr>\n",
       "    <tr>\n",
       "      <th>29</th>\n",
       "      <td>1996</td>\n",
       "      <td>201</td>\n",
       "      <td>0.015286</td>\n",
       "    </tr>\n",
       "    <tr>\n",
       "      <th>30</th>\n",
       "      <td>2004</td>\n",
       "      <td>65</td>\n",
       "      <td>0.210870</td>\n",
       "    </tr>\n",
       "    <tr>\n",
       "      <th>31</th>\n",
       "      <td>2004</td>\n",
       "      <td>201</td>\n",
       "      <td>0.198051</td>\n",
       "    </tr>\n",
       "    <tr>\n",
       "      <th>32</th>\n",
       "      <td>2004</td>\n",
       "      <td>64</td>\n",
       "      <td>0.181046</td>\n",
       "    </tr>\n",
       "    <tr>\n",
       "      <th>33</th>\n",
       "      <td>2006</td>\n",
       "      <td>2257</td>\n",
       "      <td>0.014742</td>\n",
       "    </tr>\n",
       "    <tr>\n",
       "      <th>34</th>\n",
       "      <td>2006</td>\n",
       "      <td>1472</td>\n",
       "      <td>0.011360</td>\n",
       "    </tr>\n",
       "    <tr>\n",
       "      <th>35</th>\n",
       "      <td>2006</td>\n",
       "      <td>2671</td>\n",
       "      <td>0.010657</td>\n",
       "    </tr>\n",
       "    <tr>\n",
       "      <th>36</th>\n",
       "      <td>2161</td>\n",
       "      <td>47</td>\n",
       "      <td>0.134720</td>\n",
       "    </tr>\n",
       "    <tr>\n",
       "      <th>37</th>\n",
       "      <td>2161</td>\n",
       "      <td>1220</td>\n",
       "      <td>0.132276</td>\n",
       "    </tr>\n",
       "    <tr>\n",
       "      <th>38</th>\n",
       "      <td>2161</td>\n",
       "      <td>86</td>\n",
       "      <td>0.106077</td>\n",
       "    </tr>\n",
       "    <tr>\n",
       "      <th>39</th>\n",
       "      <td>2231</td>\n",
       "      <td>1220</td>\n",
       "      <td>0.162664</td>\n",
       "    </tr>\n",
       "    <tr>\n",
       "      <th>40</th>\n",
       "      <td>2231</td>\n",
       "      <td>48</td>\n",
       "      <td>0.130421</td>\n",
       "    </tr>\n",
       "    <tr>\n",
       "      <th>41</th>\n",
       "      <td>2231</td>\n",
       "      <td>86</td>\n",
       "      <td>0.121756</td>\n",
       "    </tr>\n",
       "    <tr>\n",
       "      <th>42</th>\n",
       "      <td>2266</td>\n",
       "      <td>201</td>\n",
       "      <td>0.036657</td>\n",
       "    </tr>\n",
       "    <tr>\n",
       "      <th>43</th>\n",
       "      <td>2266</td>\n",
       "      <td>64</td>\n",
       "      <td>0.036135</td>\n",
       "    </tr>\n",
       "    <tr>\n",
       "      <th>44</th>\n",
       "      <td>2266</td>\n",
       "      <td>65</td>\n",
       "      <td>0.030039</td>\n",
       "    </tr>\n",
       "    <tr>\n",
       "      <th>45</th>\n",
       "      <td>2274</td>\n",
       "      <td>1697</td>\n",
       "      <td>0.022339</td>\n",
       "    </tr>\n",
       "    <tr>\n",
       "      <th>46</th>\n",
       "      <td>2274</td>\n",
       "      <td>4423</td>\n",
       "      <td>0.012328</td>\n",
       "    </tr>\n",
       "    <tr>\n",
       "      <th>47</th>\n",
       "      <td>2274</td>\n",
       "      <td>1131</td>\n",
       "      <td>0.012302</td>\n",
       "    </tr>\n",
       "    <tr>\n",
       "      <th>48</th>\n",
       "      <td>2542</td>\n",
       "      <td>201</td>\n",
       "      <td>0.042211</td>\n",
       "    </tr>\n",
       "    <tr>\n",
       "      <th>49</th>\n",
       "      <td>2542</td>\n",
       "      <td>64</td>\n",
       "      <td>0.036369</td>\n",
       "    </tr>\n",
       "    <tr>\n",
       "      <th>50</th>\n",
       "      <td>2542</td>\n",
       "      <td>2756</td>\n",
       "      <td>0.028859</td>\n",
       "    </tr>\n",
       "    <tr>\n",
       "      <th>51</th>\n",
       "      <td>2684</td>\n",
       "      <td>1272</td>\n",
       "      <td>0.231021</td>\n",
       "    </tr>\n",
       "    <tr>\n",
       "      <th>52</th>\n",
       "      <td>2684</td>\n",
       "      <td>125</td>\n",
       "      <td>0.197926</td>\n",
       "    </tr>\n",
       "    <tr>\n",
       "      <th>53</th>\n",
       "      <td>2684</td>\n",
       "      <td>159</td>\n",
       "      <td>0.167387</td>\n",
       "    </tr>\n",
       "    <tr>\n",
       "      <th>54</th>\n",
       "      <td>2788</td>\n",
       "      <td>1272</td>\n",
       "      <td>0.016559</td>\n",
       "    </tr>\n",
       "    <tr>\n",
       "      <th>55</th>\n",
       "      <td>2788</td>\n",
       "      <td>65</td>\n",
       "      <td>0.008636</td>\n",
       "    </tr>\n",
       "    <tr>\n",
       "      <th>56</th>\n",
       "      <td>2788</td>\n",
       "      <td>4714</td>\n",
       "      <td>0.007699</td>\n",
       "    </tr>\n",
       "  </tbody>\n",
       "</table>\n",
       "</div>"
      ],
      "text/plain": [
       "    userID  itemID  prediction\n",
       "0       74    1355    0.107130\n",
       "1       74      86    0.104715\n",
       "2       74    1220    0.084403\n",
       "3      921     201    0.362648\n",
       "4      921    1272    0.212354\n",
       "5      921     125    0.188648\n",
       "6      934      65    0.022732\n",
       "7      934     201    0.021898\n",
       "8      934    1376    0.019903\n",
       "9     1061      65    0.209589\n",
       "10    1061     201    0.208156\n",
       "11    1061      64    0.187689\n",
       "12    1165     201    0.330745\n",
       "13    1165    1272    0.207670\n",
       "14    1165     125    0.176471\n",
       "15    1455    2652    0.012737\n",
       "16    1455     946    0.011760\n",
       "17    1455    1271    0.011291\n",
       "18    1650    2654    0.026622\n",
       "19    1650    2761    0.020060\n",
       "20    1650    4668    0.018277\n",
       "21    1813      86    0.015218\n",
       "22    1813      87    0.013617\n",
       "23    1813    1220    0.012871\n",
       "24    1823      47    0.111083\n",
       "25    1823    1220    0.104588\n",
       "26    1823     201    0.094563\n",
       "27    1996      65    0.020401\n",
       "28    1996      64    0.017076\n",
       "29    1996     201    0.015286\n",
       "30    2004      65    0.210870\n",
       "31    2004     201    0.198051\n",
       "32    2004      64    0.181046\n",
       "33    2006    2257    0.014742\n",
       "34    2006    1472    0.011360\n",
       "35    2006    2671    0.010657\n",
       "36    2161      47    0.134720\n",
       "37    2161    1220    0.132276\n",
       "38    2161      86    0.106077\n",
       "39    2231    1220    0.162664\n",
       "40    2231      48    0.130421\n",
       "41    2231      86    0.121756\n",
       "42    2266     201    0.036657\n",
       "43    2266      64    0.036135\n",
       "44    2266      65    0.030039\n",
       "45    2274    1697    0.022339\n",
       "46    2274    4423    0.012328\n",
       "47    2274    1131    0.012302\n",
       "48    2542     201    0.042211\n",
       "49    2542      64    0.036369\n",
       "50    2542    2756    0.028859\n",
       "51    2684    1272    0.231021\n",
       "52    2684     125    0.197926\n",
       "53    2684     159    0.167387\n",
       "54    2788    1272    0.016559\n",
       "55    2788      65    0.008636\n",
       "56    2788    4714    0.007699"
      ]
     },
     "execution_count": 14,
     "metadata": {},
     "output_type": "execute_result"
    }
   ],
   "source": [
    "model.recommend_k_items(\n",
    "    dataloader.test, \n",
    "    top_k=3, \n",
    "    use_id=True, \n",
    "    remove_seen=True, \n",
    "    recommend_from=folds[-1][3]\n",
    ")"
   ]
  },
  {
   "cell_type": "code",
   "execution_count": 15,
   "id": "ef766f48-b9b1-4ec6-b2ba-9c3d5b54d40b",
   "metadata": {
    "execution": {
     "iopub.execute_input": "2024-03-21T22:11:13.824440Z",
     "iopub.status.busy": "2024-03-21T22:11:13.824303Z",
     "iopub.status.idle": "2024-03-21T22:11:13.848385Z",
     "shell.execute_reply": "2024-03-21T22:11:13.848057Z"
    },
    "papermill": {
     "duration": 0.028357,
     "end_time": "2024-03-21T22:11:13.849203",
     "exception": false,
     "start_time": "2024-03-21T22:11:13.820846",
     "status": "completed"
    },
    "tags": []
   },
   "outputs": [],
   "source": [
    "# problem_prop = 'b926a2eb-e2c7-5d0d-bbec-015efe30edde'\n",
    "\n",
    "# tr, te, t, open_proposals = folds[-1]\n",
    "# print(\"t:\", t)\n",
    "# print(\"In open?: \", problem_prop in set(open_proposals))\n",
    "# print(\"In Train?:\", any(tr['itemID'] == problem_prop))\n",
    "# print(\"In Test?: \", any(te['itemID'] == problem_prop))\n",
    "# print(\"In dfv?:  \", in_dfv := any(dfv['proposal'] == problem_prop))\n",
    "# if in_dfv:\n",
    "#     display(dfv[dfv['proposal'] == problem_prop])\n",
    "\n",
    "# dfp.set_index('id').loc[problem_prop]"
   ]
  },
  {
   "cell_type": "code",
   "execution_count": 16,
   "id": "799a41c8-6c27-40c7-af22-0f9eb46f8a59",
   "metadata": {
    "execution": {
     "iopub.execute_input": "2024-03-21T22:11:13.856109Z",
     "iopub.status.busy": "2024-03-21T22:11:13.855892Z",
     "iopub.status.idle": "2024-03-21T22:11:13.882304Z",
     "shell.execute_reply": "2024-03-21T22:11:13.882036Z"
    },
    "papermill": {
     "duration": 0.030762,
     "end_time": "2024-03-21T22:11:13.883109",
     "exception": false,
     "start_time": "2024-03-21T22:11:13.852347",
     "status": "completed"
    },
    "tags": []
   },
   "outputs": [],
   "source": [
    "# Free the resources\n",
    "del model\n",
    "del dataloader"
   ]
  },
  {
   "cell_type": "markdown",
   "id": "d994a5dd-efe5-47bf-a8a1-803316d9fc75",
   "metadata": {
    "papermill": {
     "duration": 0.003,
     "end_time": "2024-03-21T22:11:13.889132",
     "exception": false,
     "start_time": "2024-03-21T22:11:13.886132",
     "status": "completed"
    },
    "tags": []
   },
   "source": [
    "# Defining trainer"
   ]
  },
  {
   "cell_type": "code",
   "execution_count": 17,
   "id": "a5d010bf-3a9c-4931-9d02-6589b3164438",
   "metadata": {
    "execution": {
     "iopub.execute_input": "2024-03-21T22:11:13.895583Z",
     "iopub.status.busy": "2024-03-21T22:11:13.895367Z",
     "iopub.status.idle": "2024-03-21T22:11:13.922146Z",
     "shell.execute_reply": "2024-03-21T22:11:13.921904Z"
    },
    "papermill": {
     "duration": 0.031,
     "end_time": "2024-03-21T22:11:13.922960",
     "exception": false,
     "start_time": "2024-03-21T22:11:13.891960",
     "status": "completed"
    },
    "scrolled": true,
    "tags": []
   },
   "outputs": [],
   "source": [
    "from recommenders.evaluation.python_evaluation import map_at_k, ndcg_at_k, precision_at_k, recall_at_k\n",
    "\n",
    "class TrainLightGCN(tune.Trainable):\n",
    "    def setup(\n",
    "        self,\n",
    "        config: Dict[str, Any],\n",
    "        data,\n",
    "    ):\n",
    "        self.config = config\n",
    "\n",
    "        self.hparams = prepare_hparams(\n",
    "            model_type='lightgcn',\n",
    "            n_layers=config['conv_layers'],\n",
    "            batch_size=2**config['batch_size'],\n",
    "            embed_size=config['embedding_dim'],\n",
    "            epochs=EPOCHS_PER_ITER,\n",
    "            learning_rate=config['learning_rate'],\n",
    "            decay=config['l2'],\n",
    "            metrics=METRICS,\n",
    "            eval_epoch=-1,\n",
    "            top_k=TOP_K[0],\n",
    "            save_model=False,\n",
    "            MODEL_DIR='./data/model/lightgcn/',\n",
    "        )\n",
    "\n",
    "        train, test, self.t, self.open_proposals = data\n",
    "        self.dataloader = ImplicitCF(train=train, test=test, seed=SEED)\n",
    "        self.model = LightGCNCustom(self.hparams, self.dataloader, seed=SEED)\n",
    "        self.total_train = 0\n",
    "        self.total_eval = 0\n",
    "\n",
    "    @property\n",
    "    def iteration(self):\n",
    "        return self.model.epochs_done\n",
    "\n",
    "    @property\n",
    "    def training_iteration(self):\n",
    "        return self.model.epochs_done\n",
    "\n",
    "    def step(self):\n",
    "        \"\"\"\n",
    "        As a rule of thumb, the execution time of step should be large enough to avoid overheads \n",
    "        (i.e. more than a few seconds), but short enough to report progress periodically \n",
    "        (i.e. at most a few minutes).\n",
    "        \"\"\"\n",
    "        assert EPOCHS_PER_ITER > 0\n",
    "\n",
    "        train_start = time.time()\n",
    "        for _ in range(EPOCHS_PER_ITER):\n",
    "            ret = self.model.fit_epoch()\n",
    "        eval_start = train_end = time.time()\n",
    "\n",
    "        eval_dict = {'model_'+k:v for k,v in zip(self.model.metrics, self.model.run_eval())}\n",
    "        for k in TOP_K:\n",
    "            recs = self.model.recommend_k_items(\n",
    "                self.dataloader.test, \n",
    "                top_k=k,\n",
    "                use_id=True, \n",
    "                remove_seen=True, \n",
    "                recommend_from=self.open_proposals,\n",
    "            )\n",
    "            \n",
    "            eval_dict[f'precision@{k}'] = precision_at_k(self.dataloader.test, recs, k=k)\n",
    "            eval_dict[f'ndcg@{k}'] = ndcg_at_k(self.dataloader.test, recs, k=k)\n",
    "            eval_dict[f'recall@{k}'] = recall_at_k(self.dataloader.test, recs, k=k)\n",
    "            eval_dict[f'map@{k}'] = map_at_k(self.dataloader.test, recs, k=k)\n",
    "\n",
    "        eval_end = time.time()\n",
    "\n",
    "        self.total_train += train_end - train_start\n",
    "        self.total_eval += eval_end - eval_start\n",
    "        \n",
    "        return {\n",
    "            'iteration': self.iteration,\n",
    "            'loss': ret[0],\n",
    "            'mf_loss': ret[1],\n",
    "            'emb_loss': ret[2],\n",
    "            **eval_dict,\n",
    "            'time_train': train_end-train_start,\n",
    "            'time_test': eval_end-eval_start,\n",
    "            'time_total_train': self.total_train,\n",
    "            'time_total_test': self.total_eval,\n",
    "        }\n",
    "\n",
    "    def save_checkpoint(self, checkpoint_dir):\n",
    "        checkpoint_path = os.path.join(checkpoint_dir, \"model\")\n",
    "        self.model.saver.save(\n",
    "            sess=self.model.sess,\n",
    "            save_path=checkpoint_path,\n",
    "        )\n",
    "        return checkpoint_dir\n",
    "\n",
    "    def load_checkpoint(self, checkpoint_path):\n",
    "        self.model.load(checkpoint_path)"
   ]
  },
  {
   "cell_type": "markdown",
   "id": "16276fe4-d63d-4e7a-bcc8-38d8f5be299c",
   "metadata": {
    "papermill": {
     "duration": 0.003061,
     "end_time": "2024-03-21T22:11:13.928968",
     "exception": false,
     "start_time": "2024-03-21T22:11:13.925907",
     "status": "completed"
    },
    "tags": []
   },
   "source": [
    "# Big experiment"
   ]
  },
  {
   "cell_type": "code",
   "execution_count": 18,
   "id": "427c4b72-593a-41ff-9fd6-991e8e3a0445",
   "metadata": {
    "execution": {
     "iopub.execute_input": "2024-03-21T22:11:13.935424Z",
     "iopub.status.busy": "2024-03-21T22:11:13.935308Z",
     "iopub.status.idle": "2024-03-21T22:11:13.959449Z",
     "shell.execute_reply": "2024-03-21T22:11:13.959221Z"
    },
    "papermill": {
     "duration": 0.028423,
     "end_time": "2024-03-21T22:11:13.960228",
     "exception": false,
     "start_time": "2024-03-21T22:11:13.931805",
     "status": "completed"
    },
    "tags": []
   },
   "outputs": [
    {
     "data": {
      "text/plain": [
       "PosixPath('/home/daviddavo/ray_results')"
      ]
     },
     "execution_count": 18,
     "metadata": {},
     "output_type": "execute_result"
    }
   ],
   "source": [
    "RAY_RESULTS_PATH"
   ]
  },
  {
   "cell_type": "code",
   "execution_count": 19,
   "id": "d3cc56a8-9add-4c1d-a15b-99593e11c686",
   "metadata": {
    "execution": {
     "iopub.execute_input": "2024-03-21T22:11:13.967324Z",
     "iopub.status.busy": "2024-03-21T22:11:13.967188Z",
     "iopub.status.idle": "2024-03-21T22:11:13.990910Z",
     "shell.execute_reply": "2024-03-21T22:11:13.990668Z"
    },
    "papermill": {
     "duration": 0.028028,
     "end_time": "2024-03-21T22:11:13.991592",
     "exception": false,
     "start_time": "2024-03-21T22:11:13.963564",
     "status": "completed"
    },
    "tags": []
   },
   "outputs": [],
   "source": [
    "MAX_EMBEDDING_DIM = 1024\n",
    "MAX_BATCH_SIZE = 10 # 2**10\n",
    "MIN_LR = 1e-4\n",
    "GPUS = 16\n",
    "\n",
    "if ORG_NAME in ['PancakeSwap', 'Aave - Aavegotchi']:\n",
    "    MAX_EMBEDDING_DIM = 256\n",
    "    MAX_BATCH_SIZE = 14\n",
    "    GPUS = 4\n",
    "    MIN_LR = 1e-2\n",
    "elif ORG_NAME in ['DEAD FoundationsDAO']:\n",
    "    GPUS = 20"
   ]
  },
  {
   "cell_type": "code",
   "execution_count": 20,
   "id": "019cecb8-4733-4947-9425-f7f9a690cd92",
   "metadata": {
    "execution": {
     "iopub.execute_input": "2024-03-21T22:11:13.998276Z",
     "iopub.status.busy": "2024-03-21T22:11:13.998145Z",
     "iopub.status.idle": "2024-03-21T22:11:14.020870Z",
     "shell.execute_reply": "2024-03-21T22:11:14.020630Z"
    },
    "papermill": {
     "duration": 0.026997,
     "end_time": "2024-03-21T22:11:14.021629",
     "exception": false,
     "start_time": "2024-03-21T22:11:13.994632",
     "status": "completed"
    },
    "tags": []
   },
   "outputs": [
    {
     "name": "stdout",
     "output_type": "stream",
     "text": [
      "lamarck\n",
      "{'cpu': 1, 'gpu': 0.05}\n"
     ]
    }
   ],
   "source": [
    "print(os.uname().nodename)\n",
    "\n",
    "### SET TRAINING RESOURCES\n",
    "if os.uname().nodename == 'lamarck':\n",
    "    # assert torch.cuda.is_available()\n",
    "\n",
    "    NUM_SAMPLES = SAMPLES_PER_SPLIT\n",
    "    # Every run takes approx half a gig of vram (no optimizations)\n",
    "    # The RTX 4090 has 24GB so we can run the model about 48 times\n",
    "    resources_per_trial={\n",
    "        'cpu': 1,\n",
    "        'gpu': 1 / GPUS,\n",
    "    }\n",
    "else:\n",
    "    NUM_SAMPLES = 1\n",
    "    resources_per_trial={\n",
    "        'cpu': 1,\n",
    "        # It takes about 1.5 GiB with full training data, but I put a bit more because\n",
    "        # this notebook also takes a bit of memory\n",
    "        'memory': 2e9,\n",
    "    }\n",
    "print(resources_per_trial)"
   ]
  },
  {
   "cell_type": "code",
   "execution_count": 21,
   "id": "a5ad6f33-effe-4f48-850e-8044af3a88dc",
   "metadata": {
    "editable": true,
    "execution": {
     "iopub.execute_input": "2024-03-21T22:11:14.028246Z",
     "iopub.status.busy": "2024-03-21T22:11:14.028106Z",
     "iopub.status.idle": "2024-03-21T22:11:14.100760Z",
     "shell.execute_reply": "2024-03-21T22:11:14.100387Z"
    },
    "papermill": {
     "duration": 0.077191,
     "end_time": "2024-03-21T22:11:14.101776",
     "exception": false,
     "start_time": "2024-03-21T22:11:14.024585",
     "status": "completed"
    },
    "slideshow": {
     "slide_type": ""
    },
    "tags": []
   },
   "outputs": [],
   "source": [
    "from ray.tune.search.hyperopt import HyperOptSearch\n",
    "import datetime as dt\n",
    "from src import paths\n",
    "\n",
    "def getTunerOnFold(f, points_to_evaluate = None):\n",
    "    name = f'LightGCN_optim={OPTIM_METRIC},dao={ORG_NAME},freq={SPLITS_FREQ},normalize={SPLITS_NORMALIZE},cutoff_date={CUTOFF_DATE.isoformat()},fold={f}'\n",
    "    paths = list(RAY_RESULTS_PATH.glob(f'{name}_*'))\n",
    "    last_experiment = max(paths, key=lambda x: x.stat().st_ctime) if paths else None\n",
    "\n",
    "    dftrain,dftest,t,open_proposals = folds[f]\n",
    "    param_space = dict(\n",
    "        fold=f,\n",
    "        batch_size=tune.randint(6, MAX_BATCH_SIZE), # 64 - 1024\n",
    "        embedding_dim=tune.lograndint(1, MAX_EMBEDDING_DIM, base=2),\n",
    "        conv_layers=tune.randint(1,6),\n",
    "        learning_rate=tune.qloguniform(MIN_LR, 1, 1e-4),\n",
    "        l2=tune.loguniform(1e-7, 1e-2, 1e-7),\n",
    "    )\n",
    "    \n",
    "    ### RESTORE EXPERIMENT OR CREATE A NEW ONE\n",
    "    if last_experiment and tune.Tuner.can_restore(last_experiment):\n",
    "        print(f\"Restoring last experiment: {last_experiment}\")\n",
    "        tuner = tune.Tuner.restore(\n",
    "            str(last_experiment),\n",
    "            trainable=tune.with_resources(\n",
    "                # tune.with_parameters(TrainLightGCN,  train=dftrain, test=dftest, open_proposals=open_proposals),\n",
    "                tune.with_parameters(TrainLightGCN, data=folds[f]),\n",
    "                resources_per_trial,\n",
    "            ),\n",
    "            restart_errored=True,\n",
    "            param_space=param_space,\n",
    "        )\n",
    "    else:\n",
    "        print(f\"No experiment found for fold {f}, creating new tuner with {NUM_SAMPLES} samples\")\n",
    "        search_alg = None\n",
    "        search_alg = HyperOptSearch(\n",
    "            # points_to_evaluate=[{\n",
    "            #     'batch_size': 8, # 2**8 = 256\n",
    "            #     'learning_rate': 10e-2,\n",
    "            #     'l2': 10e-6,\n",
    "            #     'embedding_dim': 100,\n",
    "            #     'conv_layers': 3,\n",
    "            # }],\n",
    "            points_to_evaluate = points_to_evaluate,\n",
    "            random_state_seed=SEED,\n",
    "        )\n",
    "        # search_alg = tune.search.Repeater(search_alg, N_SPLITS-SKIP_SPLIT)\n",
    "        \n",
    "        tuner = tune.Tuner(\n",
    "            tune.with_resources(\n",
    "                # tune.with_parameters(TrainLightGCN,  train=dftrain, test=dftest, open_proposals=open_proposals),\n",
    "                tune.with_parameters(TrainLightGCN, data=folds[f]),\n",
    "                resources_per_trial,\n",
    "            ),\n",
    "            run_config=train.RunConfig(\n",
    "                stop={'training_iteration': MAX_EPOCHS/EPOCHS_PER_ITER, 'time_total_train': 300},\n",
    "                name=name + f'_{dt.datetime.now().isoformat()}',\n",
    "                storage_path=RAY_RESULTS_PATH,\n",
    "                # failure_config=train.FailureConfig(fail_fast='raise'),\n",
    "                failure_config=train.FailureConfig(max_failures=3),\n",
    "            ),\n",
    "            param_space=param_space,\n",
    "            tune_config=tune.TuneConfig(\n",
    "                search_alg=search_alg,\n",
    "                num_samples=NUM_SAMPLES,\n",
    "                metric=OPTIM_METRIC,\n",
    "                mode='max',\n",
    "            )\n",
    "        )\n",
    "\n",
    "    return tuner"
   ]
  },
  {
   "cell_type": "code",
   "execution_count": 22,
   "id": "c968ecd5-d62c-4d57-846f-4bb7202a97c1",
   "metadata": {
    "execution": {
     "iopub.execute_input": "2024-03-21T22:11:14.109363Z",
     "iopub.status.busy": "2024-03-21T22:11:14.109241Z",
     "iopub.status.idle": "2024-03-22T00:36:03.995072Z",
     "shell.execute_reply": "2024-03-22T00:36:03.994752Z"
    },
    "papermill": {
     "duration": 8689.890459,
     "end_time": "2024-03-22T00:36:03.995889",
     "exception": false,
     "start_time": "2024-03-21T22:11:14.105430",
     "status": "completed"
    },
    "tags": []
   },
   "outputs": [
    {
     "data": {
      "text/html": [
       "<div class=\"tuneStatus\">\n",
       "  <div style=\"display: flex;flex-direction: row\">\n",
       "    <div style=\"display: flex;flex-direction: column;\">\n",
       "      <h3>Tune Status</h3>\n",
       "      <table>\n",
       "<tbody>\n",
       "<tr><td>Current time:</td><td>2024-03-22 00:36:03</td></tr>\n",
       "<tr><td>Running for: </td><td>00:23:09.93        </td></tr>\n",
       "<tr><td>Memory:      </td><td>11.5/125.6 GiB     </td></tr>\n",
       "</tbody>\n",
       "</table>\n",
       "    </div>\n",
       "    <div class=\"vDivider\"></div>\n",
       "    <div class=\"systemInfo\">\n",
       "      <h3>System Info</h3>\n",
       "      Using FIFO scheduling algorithm.<br>Logical resource usage: 1.0/24 CPUs, 0.05/1 GPUs (0.0/1.0 accelerator_type:G)\n",
       "    </div>\n",
       "    \n",
       "  </div>\n",
       "  <div class=\"hDivider\"></div>\n",
       "  <div class=\"trialStatus\">\n",
       "    <h3>Trial Status</h3>\n",
       "    <table>\n",
       "<thead>\n",
       "<tr><th>Trial name            </th><th>status    </th><th>loc                  </th><th style=\"text-align: right;\">  batch_size</th><th style=\"text-align: right;\">  conv_layers</th><th style=\"text-align: right;\">  embedding_dim</th><th style=\"text-align: right;\">  fold</th><th style=\"text-align: right;\">         l2</th><th style=\"text-align: right;\">  learning_rate</th><th style=\"text-align: right;\">  iter</th><th style=\"text-align: right;\">  total time (s)</th><th style=\"text-align: right;\">  iteration</th><th style=\"text-align: right;\">        loss</th><th style=\"text-align: right;\">     mf_loss</th></tr>\n",
       "</thead>\n",
       "<tbody>\n",
       "<tr><td>TrainLightGCN_e459318c</td><td>TERMINATED</td><td>147.96.81.131:3702350</td><td style=\"text-align: right;\">           8</td><td style=\"text-align: right;\">            2</td><td style=\"text-align: right;\">              1</td><td style=\"text-align: right;\">     9</td><td style=\"text-align: right;\">0.000305938</td><td style=\"text-align: right;\">         0.047 </td><td style=\"text-align: right;\">    40</td><td style=\"text-align: right;\">         36.0163</td><td style=\"text-align: right;\">        200</td><td style=\"text-align: right;\"> 0.204117   </td><td style=\"text-align: right;\"> 0.199567   </td></tr>\n",
       "<tr><td>TrainLightGCN_7e0b2828</td><td>TERMINATED</td><td>147.96.81.131:3702482</td><td style=\"text-align: right;\">           8</td><td style=\"text-align: right;\">            5</td><td style=\"text-align: right;\">             29</td><td style=\"text-align: right;\">     9</td><td style=\"text-align: right;\">2.8606e-05 </td><td style=\"text-align: right;\">         0.2347</td><td style=\"text-align: right;\">    40</td><td style=\"text-align: right;\">         53.7699</td><td style=\"text-align: right;\">        200</td><td style=\"text-align: right;\"> 0.217755   </td><td style=\"text-align: right;\"> 0.110124   </td></tr>\n",
       "<tr><td>TrainLightGCN_242aa62a</td><td>TERMINATED</td><td>147.96.81.131:3702643</td><td style=\"text-align: right;\">           9</td><td style=\"text-align: right;\">            3</td><td style=\"text-align: right;\">              5</td><td style=\"text-align: right;\">     9</td><td style=\"text-align: right;\">5.24282e-05</td><td style=\"text-align: right;\">         0.22  </td><td style=\"text-align: right;\">    40</td><td style=\"text-align: right;\">         28.0772</td><td style=\"text-align: right;\">        200</td><td style=\"text-align: right;\"> 0.204813   </td><td style=\"text-align: right;\"> 0.18469    </td></tr>\n",
       "<tr><td>TrainLightGCN_6659a6bf</td><td>TERMINATED</td><td>147.96.81.131:3702804</td><td style=\"text-align: right;\">           7</td><td style=\"text-align: right;\">            4</td><td style=\"text-align: right;\">            306</td><td style=\"text-align: right;\">     9</td><td style=\"text-align: right;\">8.92312e-07</td><td style=\"text-align: right;\">         0.0065</td><td style=\"text-align: right;\">    40</td><td style=\"text-align: right;\">        303.946 </td><td style=\"text-align: right;\">        200</td><td style=\"text-align: right;\"> 0.000315523</td><td style=\"text-align: right;\"> 0.000173652</td></tr>\n",
       "<tr><td>TrainLightGCN_c3eff8f9</td><td>TERMINATED</td><td>147.96.81.131:3702966</td><td style=\"text-align: right;\">           7</td><td style=\"text-align: right;\">            3</td><td style=\"text-align: right;\">            217</td><td style=\"text-align: right;\">     9</td><td style=\"text-align: right;\">2.79193e-05</td><td style=\"text-align: right;\">         0.0005</td><td style=\"text-align: right;\">    39</td><td style=\"text-align: right;\">        314.66  </td><td style=\"text-align: right;\">        195</td><td style=\"text-align: right;\"> 0.00271969 </td><td style=\"text-align: right;\"> 0.00207039 </td></tr>\n",
       "<tr><td>TrainLightGCN_d3fe4f9a</td><td>TERMINATED</td><td>147.96.81.131:3703131</td><td style=\"text-align: right;\">           7</td><td style=\"text-align: right;\">            4</td><td style=\"text-align: right;\">              7</td><td style=\"text-align: right;\">     9</td><td style=\"text-align: right;\">0.00397996 </td><td style=\"text-align: right;\">         0.0038</td><td style=\"text-align: right;\">    37</td><td style=\"text-align: right;\">        311.283 </td><td style=\"text-align: right;\">        185</td><td style=\"text-align: right;\"> 0.0641216  </td><td style=\"text-align: right;\"> 0.0222822  </td></tr>\n",
       "<tr><td>TrainLightGCN_cc8914c9</td><td>TERMINATED</td><td>147.96.81.131:3703290</td><td style=\"text-align: right;\">           7</td><td style=\"text-align: right;\">            3</td><td style=\"text-align: right;\">              4</td><td style=\"text-align: right;\">     9</td><td style=\"text-align: right;\">0.0011209  </td><td style=\"text-align: right;\">         0.0002</td><td style=\"text-align: right;\">    36</td><td style=\"text-align: right;\">        313.433 </td><td style=\"text-align: right;\">        180</td><td style=\"text-align: right;\"> 0.128032   </td><td style=\"text-align: right;\"> 0.12121    </td></tr>\n",
       "<tr><td>TrainLightGCN_3a123f3b</td><td>TERMINATED</td><td>147.96.81.131:3703451</td><td style=\"text-align: right;\">           8</td><td style=\"text-align: right;\">            4</td><td style=\"text-align: right;\">            412</td><td style=\"text-align: right;\">     9</td><td style=\"text-align: right;\">0.00406073 </td><td style=\"text-align: right;\">         0.0014</td><td style=\"text-align: right;\">    40</td><td style=\"text-align: right;\">        146.763 </td><td style=\"text-align: right;\">        200</td><td style=\"text-align: right;\"> 0.0560773  </td><td style=\"text-align: right;\"> 0.0131979  </td></tr>\n",
       "<tr><td>TrainLightGCN_a600005d</td><td>TERMINATED</td><td>147.96.81.131:3703617</td><td style=\"text-align: right;\">           6</td><td style=\"text-align: right;\">            1</td><td style=\"text-align: right;\">            206</td><td style=\"text-align: right;\">     9</td><td style=\"text-align: right;\">6.80694e-06</td><td style=\"text-align: right;\">         0.0085</td><td style=\"text-align: right;\">    17</td><td style=\"text-align: right;\">        309.878 </td><td style=\"text-align: right;\">         85</td><td style=\"text-align: right;\"> 0.00161602 </td><td style=\"text-align: right;\"> 0.00119741 </td></tr>\n",
       "<tr><td>TrainLightGCN_4ce5e617</td><td>TERMINATED</td><td>147.96.81.131:3703780</td><td style=\"text-align: right;\">           9</td><td style=\"text-align: right;\">            4</td><td style=\"text-align: right;\">            114</td><td style=\"text-align: right;\">     9</td><td style=\"text-align: right;\">0.000527247</td><td style=\"text-align: right;\">         0.0001</td><td style=\"text-align: right;\">    40</td><td style=\"text-align: right;\">         66.6469</td><td style=\"text-align: right;\">        200</td><td style=\"text-align: right;\"> 0.0511481  </td><td style=\"text-align: right;\"> 0.0462787  </td></tr>\n",
       "<tr><td>TrainLightGCN_2229413d</td><td>TERMINATED</td><td>147.96.81.131:3703957</td><td style=\"text-align: right;\">           7</td><td style=\"text-align: right;\">            3</td><td style=\"text-align: right;\">              5</td><td style=\"text-align: right;\">     9</td><td style=\"text-align: right;\">0.00605521 </td><td style=\"text-align: right;\">         0.2019</td><td style=\"text-align: right;\">    32</td><td style=\"text-align: right;\">        313.436 </td><td style=\"text-align: right;\">        160</td><td style=\"text-align: right;\"> 0.20938    </td><td style=\"text-align: right;\"> 0.063151   </td></tr>\n",
       "<tr><td>TrainLightGCN_479e750f</td><td>TERMINATED</td><td>147.96.81.131:3704124</td><td style=\"text-align: right;\">           7</td><td style=\"text-align: right;\">            4</td><td style=\"text-align: right;\">             42</td><td style=\"text-align: right;\">     9</td><td style=\"text-align: right;\">0.000414829</td><td style=\"text-align: right;\">         0.0012</td><td style=\"text-align: right;\">    31</td><td style=\"text-align: right;\">        306.128 </td><td style=\"text-align: right;\">        155</td><td style=\"text-align: right;\"> 0.0117154  </td><td style=\"text-align: right;\"> 0.00442449 </td></tr>\n",
       "<tr><td>TrainLightGCN_fafb91e0</td><td>TERMINATED</td><td>147.96.81.131:3704283</td><td style=\"text-align: right;\">           7</td><td style=\"text-align: right;\">            4</td><td style=\"text-align: right;\">              6</td><td style=\"text-align: right;\">     9</td><td style=\"text-align: right;\">2.66572e-07</td><td style=\"text-align: right;\">         0.4766</td><td style=\"text-align: right;\">    31</td><td style=\"text-align: right;\">        314.629 </td><td style=\"text-align: right;\">        155</td><td style=\"text-align: right;\"> 2.0142     </td><td style=\"text-align: right;\"> 2.01221    </td></tr>\n",
       "<tr><td>TrainLightGCN_3cc67d7b</td><td>TERMINATED</td><td>147.96.81.131:3704446</td><td style=\"text-align: right;\">           8</td><td style=\"text-align: right;\">            4</td><td style=\"text-align: right;\">             87</td><td style=\"text-align: right;\">     9</td><td style=\"text-align: right;\">2.59656e-07</td><td style=\"text-align: right;\">         0.0004</td><td style=\"text-align: right;\">    40</td><td style=\"text-align: right;\">        187.17  </td><td style=\"text-align: right;\">        200</td><td style=\"text-align: right;\"> 0.005552   </td><td style=\"text-align: right;\"> 0.00554684 </td></tr>\n",
       "<tr><td>TrainLightGCN_1e0b38ee</td><td>TERMINATED</td><td>147.96.81.131:3704621</td><td style=\"text-align: right;\">           8</td><td style=\"text-align: right;\">            5</td><td style=\"text-align: right;\">             75</td><td style=\"text-align: right;\">     9</td><td style=\"text-align: right;\">1.39754e-06</td><td style=\"text-align: right;\">         0.0003</td><td style=\"text-align: right;\">    40</td><td style=\"text-align: right;\">        195.17  </td><td style=\"text-align: right;\">        200</td><td style=\"text-align: right;\"> 0.0104724  </td><td style=\"text-align: right;\"> 0.0104453  </td></tr>\n",
       "<tr><td>TrainLightGCN_792e6423</td><td>TERMINATED</td><td>147.96.81.131:3704789</td><td style=\"text-align: right;\">           9</td><td style=\"text-align: right;\">            2</td><td style=\"text-align: right;\">              8</td><td style=\"text-align: right;\">     9</td><td style=\"text-align: right;\">0.00100612 </td><td style=\"text-align: right;\">         0.0201</td><td style=\"text-align: right;\">    40</td><td style=\"text-align: right;\">         93.3941</td><td style=\"text-align: right;\">        200</td><td style=\"text-align: right;\"> 0.0228469  </td><td style=\"text-align: right;\"> 0.00859798 </td></tr>\n",
       "<tr><td>TrainLightGCN_29295200</td><td>TERMINATED</td><td>147.96.81.131:3704954</td><td style=\"text-align: right;\">           7</td><td style=\"text-align: right;\">            4</td><td style=\"text-align: right;\">             11</td><td style=\"text-align: right;\">     9</td><td style=\"text-align: right;\">3.54222e-06</td><td style=\"text-align: right;\">         0.0011</td><td style=\"text-align: right;\">    29</td><td style=\"text-align: right;\">        317.819 </td><td style=\"text-align: right;\">        145</td><td style=\"text-align: right;\"> 0.0136072  </td><td style=\"text-align: right;\"> 0.0135444  </td></tr>\n",
       "<tr><td>TrainLightGCN_64258497</td><td>TERMINATED</td><td>147.96.81.131:3705119</td><td style=\"text-align: right;\">           7</td><td style=\"text-align: right;\">            3</td><td style=\"text-align: right;\">             31</td><td style=\"text-align: right;\">     9</td><td style=\"text-align: right;\">0.00138468 </td><td style=\"text-align: right;\">         0.4767</td><td style=\"text-align: right;\">    28</td><td style=\"text-align: right;\">        312.798 </td><td style=\"text-align: right;\">        140</td><td style=\"text-align: right;\"> 2.82495    </td><td style=\"text-align: right;\"> 0.260778   </td></tr>\n",
       "<tr><td>TrainLightGCN_4de7687b</td><td>TERMINATED</td><td>147.96.81.131:3705287</td><td style=\"text-align: right;\">           9</td><td style=\"text-align: right;\">            4</td><td style=\"text-align: right;\">             47</td><td style=\"text-align: right;\">     9</td><td style=\"text-align: right;\">4.37236e-06</td><td style=\"text-align: right;\">         0.0763</td><td style=\"text-align: right;\">    40</td><td style=\"text-align: right;\">        102.739 </td><td style=\"text-align: right;\">        200</td><td style=\"text-align: right;\"> 0.00623353 </td><td style=\"text-align: right;\"> 0.00204481 </td></tr>\n",
       "<tr><td>TrainLightGCN_d35c1d35</td><td>TERMINATED</td><td>147.96.81.131:3705451</td><td style=\"text-align: right;\">           7</td><td style=\"text-align: right;\">            2</td><td style=\"text-align: right;\">            338</td><td style=\"text-align: right;\">     9</td><td style=\"text-align: right;\">1.08811e-07</td><td style=\"text-align: right;\">         0.0005</td><td style=\"text-align: right;\">    27</td><td style=\"text-align: right;\">        308.581 </td><td style=\"text-align: right;\">        135</td><td style=\"text-align: right;\"> 0.000858629</td><td style=\"text-align: right;\"> 0.000856163</td></tr>\n",
       "<tr><td>TrainLightGCN_b0959527</td><td>TERMINATED</td><td>147.96.81.131:3705620</td><td style=\"text-align: right;\">           9</td><td style=\"text-align: right;\">            5</td><td style=\"text-align: right;\">             19</td><td style=\"text-align: right;\">     9</td><td style=\"text-align: right;\">7.50718e-05</td><td style=\"text-align: right;\">         0.145 </td><td style=\"text-align: right;\">    40</td><td style=\"text-align: right;\">        108.45  </td><td style=\"text-align: right;\">        200</td><td style=\"text-align: right;\"> 0.0916309  </td><td style=\"text-align: right;\"> 0.0577607  </td></tr>\n",
       "<tr><td>TrainLightGCN_465525ab</td><td>TERMINATED</td><td>147.96.81.131:3705786</td><td style=\"text-align: right;\">           8</td><td style=\"text-align: right;\">            1</td><td style=\"text-align: right;\">              2</td><td style=\"text-align: right;\">     9</td><td style=\"text-align: right;\">4.84995e-05</td><td style=\"text-align: right;\">         0.9794</td><td style=\"text-align: right;\">    40</td><td style=\"text-align: right;\">        226.463 </td><td style=\"text-align: right;\">        200</td><td style=\"text-align: right;\"> 5.62607    </td><td style=\"text-align: right;\"> 5.50337    </td></tr>\n",
       "<tr><td>TrainLightGCN_8e197d31</td><td>TERMINATED</td><td>147.96.81.131:3705953</td><td style=\"text-align: right;\">           9</td><td style=\"text-align: right;\">            5</td><td style=\"text-align: right;\">              2</td><td style=\"text-align: right;\">     9</td><td style=\"text-align: right;\">1.52848e-05</td><td style=\"text-align: right;\">         0.0282</td><td style=\"text-align: right;\">    40</td><td style=\"text-align: right;\">        111.332 </td><td style=\"text-align: right;\">        200</td><td style=\"text-align: right;\"> 0.0718535  </td><td style=\"text-align: right;\"> 0.0713871  </td></tr>\n",
       "<tr><td>TrainLightGCN_cd80eca8</td><td>TERMINATED</td><td>147.96.81.131:3706131</td><td style=\"text-align: right;\">           6</td><td style=\"text-align: right;\">            5</td><td style=\"text-align: right;\">            798</td><td style=\"text-align: right;\">     9</td><td style=\"text-align: right;\">0.000140187</td><td style=\"text-align: right;\">         0.0001</td><td style=\"text-align: right;\">    11</td><td style=\"text-align: right;\">        324.919 </td><td style=\"text-align: right;\">         55</td><td style=\"text-align: right;\"> 0.0202042  </td><td style=\"text-align: right;\"> 0.0177131  </td></tr>\n",
       "<tr><td>TrainLightGCN_5bfc49b1</td><td>TERMINATED</td><td>147.96.81.131:3706469</td><td style=\"text-align: right;\">           9</td><td style=\"text-align: right;\">            5</td><td style=\"text-align: right;\">            110</td><td style=\"text-align: right;\">     9</td><td style=\"text-align: right;\">0.000192569</td><td style=\"text-align: right;\">         0.0001</td><td style=\"text-align: right;\">    40</td><td style=\"text-align: right;\">        126.831 </td><td style=\"text-align: right;\">        200</td><td style=\"text-align: right;\"> 0.0577041  </td><td style=\"text-align: right;\"> 0.0557673  </td></tr>\n",
       "<tr><td>TrainLightGCN_5432557e</td><td>TERMINATED</td><td>147.96.81.131:3706665</td><td style=\"text-align: right;\">           8</td><td style=\"text-align: right;\">            5</td><td style=\"text-align: right;\">             19</td><td style=\"text-align: right;\">     9</td><td style=\"text-align: right;\">1.22203e-05</td><td style=\"text-align: right;\">         0.0172</td><td style=\"text-align: right;\">    40</td><td style=\"text-align: right;\">        258.951 </td><td style=\"text-align: right;\">        200</td><td style=\"text-align: right;\"> 0.00116532 </td><td style=\"text-align: right;\"> 0.000380249</td></tr>\n",
       "<tr><td>TrainLightGCN_02bd14b3</td><td>TERMINATED</td><td>147.96.81.131:3706860</td><td style=\"text-align: right;\">           8</td><td style=\"text-align: right;\">            5</td><td style=\"text-align: right;\">            803</td><td style=\"text-align: right;\">     9</td><td style=\"text-align: right;\">1.96301e-06</td><td style=\"text-align: right;\">         0.003 </td><td style=\"text-align: right;\">    40</td><td style=\"text-align: right;\">        311.561 </td><td style=\"text-align: right;\">        200</td><td style=\"text-align: right;\"> 0.000291903</td><td style=\"text-align: right;\"> 0.000135372</td></tr>\n",
       "<tr><td>TrainLightGCN_bf312ce0</td><td>TERMINATED</td><td>147.96.81.131:3707066</td><td style=\"text-align: right;\">           8</td><td style=\"text-align: right;\">            5</td><td style=\"text-align: right;\">            497</td><td style=\"text-align: right;\">     9</td><td style=\"text-align: right;\">0.00236422 </td><td style=\"text-align: right;\">         0.0015</td><td style=\"text-align: right;\">    40</td><td style=\"text-align: right;\">        263.906 </td><td style=\"text-align: right;\">        200</td><td style=\"text-align: right;\"> 0.0423639  </td><td style=\"text-align: right;\"> 0.00987402 </td></tr>\n",
       "<tr><td>TrainLightGCN_7e00681e</td><td>TERMINATED</td><td>147.96.81.131:3707268</td><td style=\"text-align: right;\">           8</td><td style=\"text-align: right;\">            4</td><td style=\"text-align: right;\">             18</td><td style=\"text-align: right;\">     9</td><td style=\"text-align: right;\">0.000114877</td><td style=\"text-align: right;\">         0.0417</td><td style=\"text-align: right;\">    40</td><td style=\"text-align: right;\">        260.314 </td><td style=\"text-align: right;\">        200</td><td style=\"text-align: right;\"> 0.00656743 </td><td style=\"text-align: right;\"> 0.000995892</td></tr>\n",
       "<tr><td>TrainLightGCN_66e9ba36</td><td>TERMINATED</td><td>147.96.81.131:3707498</td><td style=\"text-align: right;\">           8</td><td style=\"text-align: right;\">            5</td><td style=\"text-align: right;\">             60</td><td style=\"text-align: right;\">     9</td><td style=\"text-align: right;\">0.00846426 </td><td style=\"text-align: right;\">         0.0023</td><td style=\"text-align: right;\">    40</td><td style=\"text-align: right;\">        257.249 </td><td style=\"text-align: right;\">        200</td><td style=\"text-align: right;\"> 0.107769   </td><td style=\"text-align: right;\"> 0.0309754  </td></tr>\n",
       "<tr><td>TrainLightGCN_2c3af67e</td><td>TERMINATED</td><td>147.96.81.131:3707694</td><td style=\"text-align: right;\">           8</td><td style=\"text-align: right;\">            4</td><td style=\"text-align: right;\">             29</td><td style=\"text-align: right;\">     9</td><td style=\"text-align: right;\">0.000251559</td><td style=\"text-align: right;\">         0.0962</td><td style=\"text-align: right;\">    40</td><td style=\"text-align: right;\">        254.744 </td><td style=\"text-align: right;\">        200</td><td style=\"text-align: right;\"> 0.0477366  </td><td style=\"text-align: right;\"> 0.0108849  </td></tr>\n",
       "<tr><td>TrainLightGCN_93ec2ff5</td><td>TERMINATED</td><td>147.96.81.131:3707959</td><td style=\"text-align: right;\">           8</td><td style=\"text-align: right;\">            3</td><td style=\"text-align: right;\">            158</td><td style=\"text-align: right;\">     9</td><td style=\"text-align: right;\">2.20901e-05</td><td style=\"text-align: right;\">         0.0141</td><td style=\"text-align: right;\">    40</td><td style=\"text-align: right;\">        252.563 </td><td style=\"text-align: right;\">        200</td><td style=\"text-align: right;\"> 0.00241128 </td><td style=\"text-align: right;\"> 0.000649504</td></tr>\n",
       "<tr><td>TrainLightGCN_075dd000</td><td>TERMINATED</td><td>147.96.81.131:3708172</td><td style=\"text-align: right;\">           9</td><td style=\"text-align: right;\">            5</td><td style=\"text-align: right;\">            581</td><td style=\"text-align: right;\">     9</td><td style=\"text-align: right;\">4.69793e-05</td><td style=\"text-align: right;\">         0.004 </td><td style=\"text-align: right;\">    40</td><td style=\"text-align: right;\">        143.516 </td><td style=\"text-align: right;\">        200</td><td style=\"text-align: right;\"> 0.00393068 </td><td style=\"text-align: right;\"> 0.00199442 </td></tr>\n",
       "<tr><td>TrainLightGCN_401e95ba</td><td>TERMINATED</td><td>147.96.81.131:3708381</td><td style=\"text-align: right;\">           6</td><td style=\"text-align: right;\">            3</td><td style=\"text-align: right;\">            254</td><td style=\"text-align: right;\">     9</td><td style=\"text-align: right;\">7.85682e-07</td><td style=\"text-align: right;\">         0.0066</td><td style=\"text-align: right;\">    13</td><td style=\"text-align: right;\">        313.599 </td><td style=\"text-align: right;\">         65</td><td style=\"text-align: right;\"> 0.00122151 </td><td style=\"text-align: right;\"> 0.0011518  </td></tr>\n",
       "<tr><td>TrainLightGCN_50a5a6dc</td><td>TERMINATED</td><td>147.96.81.131:3708530</td><td style=\"text-align: right;\">           6</td><td style=\"text-align: right;\">            4</td><td style=\"text-align: right;\">             10</td><td style=\"text-align: right;\">     9</td><td style=\"text-align: right;\">5.75975e-07</td><td style=\"text-align: right;\">         0.4534</td><td style=\"text-align: right;\">    13</td><td style=\"text-align: right;\">        313.245 </td><td style=\"text-align: right;\">         65</td><td style=\"text-align: right;\"> 1.38025    </td><td style=\"text-align: right;\"> 1.3735     </td></tr>\n",
       "<tr><td>TrainLightGCN_dbc65eed</td><td>TERMINATED</td><td>147.96.81.131:3708704</td><td style=\"text-align: right;\">           6</td><td style=\"text-align: right;\">            2</td><td style=\"text-align: right;\">              1</td><td style=\"text-align: right;\">     9</td><td style=\"text-align: right;\">1.21436e-07</td><td style=\"text-align: right;\">         0.0058</td><td style=\"text-align: right;\">    13</td><td style=\"text-align: right;\">        314.159 </td><td style=\"text-align: right;\">         65</td><td style=\"text-align: right;\"> 0.190388   </td><td style=\"text-align: right;\"> 0.190388   </td></tr>\n",
       "<tr><td>TrainLightGCN_f2e0bfbc</td><td>TERMINATED</td><td>147.96.81.131:3708876</td><td style=\"text-align: right;\">           7</td><td style=\"text-align: right;\">            4</td><td style=\"text-align: right;\">             14</td><td style=\"text-align: right;\">     9</td><td style=\"text-align: right;\">5.69793e-06</td><td style=\"text-align: right;\">         0.0459</td><td style=\"text-align: right;\">    26</td><td style=\"text-align: right;\">        314.361 </td><td style=\"text-align: right;\">        130</td><td style=\"text-align: right;\"> 0.00501675 </td><td style=\"text-align: right;\"> 0.00390477 </td></tr>\n",
       "<tr><td>TrainLightGCN_83db614f</td><td>TERMINATED</td><td>147.96.81.131:3709049</td><td style=\"text-align: right;\">           6</td><td style=\"text-align: right;\">            1</td><td style=\"text-align: right;\">            184</td><td style=\"text-align: right;\">     9</td><td style=\"text-align: right;\">8.61079e-06</td><td style=\"text-align: right;\">         0.0109</td><td style=\"text-align: right;\">    13</td><td style=\"text-align: right;\">        309.83  </td><td style=\"text-align: right;\">         65</td><td style=\"text-align: right;\"> 0.00461609 </td><td style=\"text-align: right;\"> 0.00403258 </td></tr>\n",
       "<tr><td>TrainLightGCN_4180776c</td><td>TERMINATED</td><td>147.96.81.131:3709221</td><td style=\"text-align: right;\">           7</td><td style=\"text-align: right;\">            3</td><td style=\"text-align: right;\">              3</td><td style=\"text-align: right;\">     9</td><td style=\"text-align: right;\">1.56873e-06</td><td style=\"text-align: right;\">         0.928 </td><td style=\"text-align: right;\">    25</td><td style=\"text-align: right;\">        305.322 </td><td style=\"text-align: right;\">        125</td><td style=\"text-align: right;\"> 6.29033    </td><td style=\"text-align: right;\"> 6.28099    </td></tr>\n",
       "<tr><td>TrainLightGCN_46271938</td><td>TERMINATED</td><td>147.96.81.131:3709387</td><td style=\"text-align: right;\">           7</td><td style=\"text-align: right;\">            5</td><td style=\"text-align: right;\">            307</td><td style=\"text-align: right;\">     9</td><td style=\"text-align: right;\">3.4672e-07 </td><td style=\"text-align: right;\">         0.078 </td><td style=\"text-align: right;\">    26</td><td style=\"text-align: right;\">        311.762 </td><td style=\"text-align: right;\">        130</td><td style=\"text-align: right;\"> 0.0640003  </td><td style=\"text-align: right;\"> 0.0595675  </td></tr>\n",
       "<tr><td>TrainLightGCN_0fb901e6</td><td>TERMINATED</td><td>147.96.81.131:3709561</td><td style=\"text-align: right;\">           7</td><td style=\"text-align: right;\">            4</td><td style=\"text-align: right;\">            125</td><td style=\"text-align: right;\">     9</td><td style=\"text-align: right;\">3.12416e-06</td><td style=\"text-align: right;\">         0.0008</td><td style=\"text-align: right;\">    26</td><td style=\"text-align: right;\">        309.905 </td><td style=\"text-align: right;\">        130</td><td style=\"text-align: right;\"> 0.0024818  </td><td style=\"text-align: right;\"> 0.00239965 </td></tr>\n",
       "<tr><td>TrainLightGCN_b7424a64</td><td>TERMINATED</td><td>147.96.81.131:3709806</td><td style=\"text-align: right;\">           7</td><td style=\"text-align: right;\">            3</td><td style=\"text-align: right;\">             54</td><td style=\"text-align: right;\">     9</td><td style=\"text-align: right;\">9.40582e-07</td><td style=\"text-align: right;\">         0.2757</td><td style=\"text-align: right;\">    27</td><td style=\"text-align: right;\">        314.086 </td><td style=\"text-align: right;\">        135</td><td style=\"text-align: right;\"> 0.208748   </td><td style=\"text-align: right;\"> 0.179074   </td></tr>\n",
       "<tr><td>TrainLightGCN_3d378ee8</td><td>TERMINATED</td><td>147.96.81.131:3709956</td><td style=\"text-align: right;\">           6</td><td style=\"text-align: right;\">            1</td><td style=\"text-align: right;\">              1</td><td style=\"text-align: right;\">     9</td><td style=\"text-align: right;\">0.00110556 </td><td style=\"text-align: right;\">         0.0002</td><td style=\"text-align: right;\">    14</td><td style=\"text-align: right;\">        319.61  </td><td style=\"text-align: right;\">         70</td><td style=\"text-align: right;\"> 0.480326   </td><td style=\"text-align: right;\"> 0.479191   </td></tr>\n",
       "<tr><td>TrainLightGCN_b12e5df6</td><td>TERMINATED</td><td>147.96.81.131:3710129</td><td style=\"text-align: right;\">           8</td><td style=\"text-align: right;\">            2</td><td style=\"text-align: right;\">            380</td><td style=\"text-align: right;\">     9</td><td style=\"text-align: right;\">1.13333e-07</td><td style=\"text-align: right;\">         0.0002</td><td style=\"text-align: right;\">    40</td><td style=\"text-align: right;\">        239.6   </td><td style=\"text-align: right;\">        200</td><td style=\"text-align: right;\"> 0.00150459 </td><td style=\"text-align: right;\"> 0.00150261 </td></tr>\n",
       "<tr><td>TrainLightGCN_0ab9dfb1</td><td>TERMINATED</td><td>147.96.81.131:3710419</td><td style=\"text-align: right;\">           7</td><td style=\"text-align: right;\">            2</td><td style=\"text-align: right;\">             26</td><td style=\"text-align: right;\">     9</td><td style=\"text-align: right;\">0.000451393</td><td style=\"text-align: right;\">         0.0005</td><td style=\"text-align: right;\">    28</td><td style=\"text-align: right;\">        311.889 </td><td style=\"text-align: right;\">        140</td><td style=\"text-align: right;\"> 0.0118112  </td><td style=\"text-align: right;\"> 0.00626941 </td></tr>\n",
       "<tr><td>TrainLightGCN_3aa8738e</td><td>TERMINATED</td><td>147.96.81.131:3710568</td><td style=\"text-align: right;\">           8</td><td style=\"text-align: right;\">            4</td><td style=\"text-align: right;\">             68</td><td style=\"text-align: right;\">     9</td><td style=\"text-align: right;\">2.78479e-05</td><td style=\"text-align: right;\">         0.0299</td><td style=\"text-align: right;\">    40</td><td style=\"text-align: right;\">        231.32  </td><td style=\"text-align: right;\">        200</td><td style=\"text-align: right;\"> 0.00430282 </td><td style=\"text-align: right;\"> 0.000932835</td></tr>\n",
       "<tr><td>TrainLightGCN_c53f9ee2</td><td>TERMINATED</td><td>147.96.81.131:3710805</td><td style=\"text-align: right;\">           7</td><td style=\"text-align: right;\">            4</td><td style=\"text-align: right;\">             37</td><td style=\"text-align: right;\">     9</td><td style=\"text-align: right;\">3.5763e-07 </td><td style=\"text-align: right;\">         0.1284</td><td style=\"text-align: right;\">    29</td><td style=\"text-align: right;\">        312.665 </td><td style=\"text-align: right;\">        145</td><td style=\"text-align: right;\"> 1.02818    </td><td style=\"text-align: right;\"> 1.02638    </td></tr>\n",
       "<tr><td>TrainLightGCN_295a29cc</td><td>TERMINATED</td><td>147.96.81.131:3710994</td><td style=\"text-align: right;\">           7</td><td style=\"text-align: right;\">            5</td><td style=\"text-align: right;\">              4</td><td style=\"text-align: right;\">     9</td><td style=\"text-align: right;\">2.13022e-06</td><td style=\"text-align: right;\">         0.0089</td><td style=\"text-align: right;\">    28</td><td style=\"text-align: right;\">        305.07  </td><td style=\"text-align: right;\">        140</td><td style=\"text-align: right;\"> 0.023543   </td><td style=\"text-align: right;\"> 0.0234777  </td></tr>\n",
       "<tr><td>TrainLightGCN_3abf7dea</td><td>TERMINATED</td><td>147.96.81.131:3711181</td><td style=\"text-align: right;\">           8</td><td style=\"text-align: right;\">            3</td><td style=\"text-align: right;\">           1023</td><td style=\"text-align: right;\">     9</td><td style=\"text-align: right;\">1.61447e-05</td><td style=\"text-align: right;\">         0.2813</td><td style=\"text-align: right;\">    40</td><td style=\"text-align: right;\">        214.382 </td><td style=\"text-align: right;\">        200</td><td style=\"text-align: right;\"> 4.07354    </td><td style=\"text-align: right;\"> 0.697642   </td></tr>\n",
       "<tr><td>TrainLightGCN_8983b1d7</td><td>TERMINATED</td><td>147.96.81.131:3711398</td><td style=\"text-align: right;\">           9</td><td style=\"text-align: right;\">            5</td><td style=\"text-align: right;\">            498</td><td style=\"text-align: right;\">     9</td><td style=\"text-align: right;\">6.04443e-05</td><td style=\"text-align: right;\">         0.0038</td><td style=\"text-align: right;\">    40</td><td style=\"text-align: right;\">        127.303 </td><td style=\"text-align: right;\">        200</td><td style=\"text-align: right;\"> 0.00284503 </td><td style=\"text-align: right;\"> 0.000658089</td></tr>\n",
       "<tr><td>TrainLightGCN_3954947c</td><td>TERMINATED</td><td>147.96.81.131:3711550</td><td style=\"text-align: right;\">           9</td><td style=\"text-align: right;\">            5</td><td style=\"text-align: right;\">             91</td><td style=\"text-align: right;\">     9</td><td style=\"text-align: right;\">9.28924e-06</td><td style=\"text-align: right;\">         0.0029</td><td style=\"text-align: right;\">    40</td><td style=\"text-align: right;\">        126.139 </td><td style=\"text-align: right;\">        200</td><td style=\"text-align: right;\"> 0.00208379 </td><td style=\"text-align: right;\"> 0.0017484  </td></tr>\n",
       "<tr><td>TrainLightGCN_4a6b8582</td><td>TERMINATED</td><td>147.96.81.131:3711729</td><td style=\"text-align: right;\">           6</td><td style=\"text-align: right;\">            4</td><td style=\"text-align: right;\">            160</td><td style=\"text-align: right;\">     9</td><td style=\"text-align: right;\">5.54311e-07</td><td style=\"text-align: right;\">         0.0226</td><td style=\"text-align: right;\">    15</td><td style=\"text-align: right;\">        326.228 </td><td style=\"text-align: right;\">         75</td><td style=\"text-align: right;\"> 0.000301611</td><td style=\"text-align: right;\"> 1.92564e-07</td></tr>\n",
       "<tr><td>TrainLightGCN_a697a8ff</td><td>TERMINATED</td><td>147.96.81.131:3712012</td><td style=\"text-align: right;\">           7</td><td style=\"text-align: right;\">            4</td><td style=\"text-align: right;\">              8</td><td style=\"text-align: right;\">     9</td><td style=\"text-align: right;\">1.63141e-07</td><td style=\"text-align: right;\">         0.6849</td><td style=\"text-align: right;\">    28</td><td style=\"text-align: right;\">        307.674 </td><td style=\"text-align: right;\">        140</td><td style=\"text-align: right;\"> 3.84476    </td><td style=\"text-align: right;\"> 3.84103    </td></tr>\n",
       "<tr><td>TrainLightGCN_6a6aba15</td><td>TERMINATED</td><td>147.96.81.131:3712428</td><td style=\"text-align: right;\">           8</td><td style=\"text-align: right;\">            5</td><td style=\"text-align: right;\">            863</td><td style=\"text-align: right;\">     9</td><td style=\"text-align: right;\">9.32687e-05</td><td style=\"text-align: right;\">         0.0023</td><td style=\"text-align: right;\">    40</td><td style=\"text-align: right;\">        262.938 </td><td style=\"text-align: right;\">        200</td><td style=\"text-align: right;\"> 0.00357986 </td><td style=\"text-align: right;\"> 0.000556489</td></tr>\n",
       "<tr><td>TrainLightGCN_dc573311</td><td>TERMINATED</td><td>147.96.81.131:3712577</td><td style=\"text-align: right;\">           8</td><td style=\"text-align: right;\">            2</td><td style=\"text-align: right;\">             40</td><td style=\"text-align: right;\">     9</td><td style=\"text-align: right;\">0.00324433 </td><td style=\"text-align: right;\">         0.0055</td><td style=\"text-align: right;\">    40</td><td style=\"text-align: right;\">        219.379 </td><td style=\"text-align: right;\">        200</td><td style=\"text-align: right;\"> 0.0364963  </td><td style=\"text-align: right;\"> 0.0073938  </td></tr>\n",
       "<tr><td>TrainLightGCN_8339f477</td><td>TERMINATED</td><td>147.96.81.131:3712760</td><td style=\"text-align: right;\">           9</td><td style=\"text-align: right;\">            1</td><td style=\"text-align: right;\">            480</td><td style=\"text-align: right;\">     9</td><td style=\"text-align: right;\">3.63813e-05</td><td style=\"text-align: right;\">         0.0137</td><td style=\"text-align: right;\">    40</td><td style=\"text-align: right;\">        108.762 </td><td style=\"text-align: right;\">        200</td><td style=\"text-align: right;\"> 0.00628728 </td><td style=\"text-align: right;\"> 0.00123759 </td></tr>\n",
       "<tr><td>TrainLightGCN_de3fed52</td><td>TERMINATED</td><td>147.96.81.131:3712931</td><td style=\"text-align: right;\">           6</td><td style=\"text-align: right;\">            2</td><td style=\"text-align: right;\">            633</td><td style=\"text-align: right;\">     9</td><td style=\"text-align: right;\">0.000824177</td><td style=\"text-align: right;\">         0.0007</td><td style=\"text-align: right;\">    15</td><td style=\"text-align: right;\">        309.551 </td><td style=\"text-align: right;\">         75</td><td style=\"text-align: right;\"> 0.0121455  </td><td style=\"text-align: right;\"> 0.00238036 </td></tr>\n",
       "<tr><td>TrainLightGCN_def31f9a</td><td>TERMINATED</td><td>147.96.81.131:3713110</td><td style=\"text-align: right;\">           6</td><td style=\"text-align: right;\">            2</td><td style=\"text-align: right;\">            254</td><td style=\"text-align: right;\">     9</td><td style=\"text-align: right;\">2.04278e-07</td><td style=\"text-align: right;\">         0.0003</td><td style=\"text-align: right;\">    15</td><td style=\"text-align: right;\">        308.391 </td><td style=\"text-align: right;\">         75</td><td style=\"text-align: right;\"> 0.00191558 </td><td style=\"text-align: right;\"> 0.00191181 </td></tr>\n",
       "<tr><td>TrainLightGCN_9b95f42c</td><td>TERMINATED</td><td>147.96.81.131:3713299</td><td style=\"text-align: right;\">           7</td><td style=\"text-align: right;\">            3</td><td style=\"text-align: right;\">              3</td><td style=\"text-align: right;\">     9</td><td style=\"text-align: right;\">0.00710023 </td><td style=\"text-align: right;\">         0.8812</td><td style=\"text-align: right;\">    30</td><td style=\"text-align: right;\">        311.002 </td><td style=\"text-align: right;\">        150</td><td style=\"text-align: right;\"> 2.3428     </td><td style=\"text-align: right;\"> 0.930841   </td></tr>\n",
       "<tr><td>TrainLightGCN_f2dd6421</td><td>TERMINATED</td><td>147.96.81.131:3713465</td><td style=\"text-align: right;\">           7</td><td style=\"text-align: right;\">            3</td><td style=\"text-align: right;\">              2</td><td style=\"text-align: right;\">     9</td><td style=\"text-align: right;\">1.48796e-06</td><td style=\"text-align: right;\">         0.3764</td><td style=\"text-align: right;\">    30</td><td style=\"text-align: right;\">        308.802 </td><td style=\"text-align: right;\">        150</td><td style=\"text-align: right;\"> 0.645294   </td><td style=\"text-align: right;\"> 0.644625   </td></tr>\n",
       "<tr><td>TrainLightGCN_da230006</td><td>TERMINATED</td><td>147.96.81.131:3713637</td><td style=\"text-align: right;\">           7</td><td style=\"text-align: right;\">            3</td><td style=\"text-align: right;\">              3</td><td style=\"text-align: right;\">     9</td><td style=\"text-align: right;\">0.00160312 </td><td style=\"text-align: right;\">         0.6408</td><td style=\"text-align: right;\">    30</td><td style=\"text-align: right;\">        309.402 </td><td style=\"text-align: right;\">        150</td><td style=\"text-align: right;\"> 2.03279    </td><td style=\"text-align: right;\"> 1.37952    </td></tr>\n",
       "<tr><td>TrainLightGCN_89145625</td><td>TERMINATED</td><td>147.96.81.131:3713816</td><td style=\"text-align: right;\">           6</td><td style=\"text-align: right;\">            2</td><td style=\"text-align: right;\">              1</td><td style=\"text-align: right;\">     9</td><td style=\"text-align: right;\">2.80314e-06</td><td style=\"text-align: right;\">         0.0001</td><td style=\"text-align: right;\">    15</td><td style=\"text-align: right;\">        307.332 </td><td style=\"text-align: right;\">         75</td><td style=\"text-align: right;\"> 0.576803   </td><td style=\"text-align: right;\"> 0.576802   </td></tr>\n",
       "<tr><td>TrainLightGCN_256f64cb</td><td>TERMINATED</td><td>147.96.81.131:3713985</td><td style=\"text-align: right;\">           7</td><td style=\"text-align: right;\">            1</td><td style=\"text-align: right;\">              6</td><td style=\"text-align: right;\">     9</td><td style=\"text-align: right;\">1.15205e-06</td><td style=\"text-align: right;\">         0.0017</td><td style=\"text-align: right;\">    30</td><td style=\"text-align: right;\">        308.03  </td><td style=\"text-align: right;\">        150</td><td style=\"text-align: right;\"> 0.016155   </td><td style=\"text-align: right;\"> 0.0161409  </td></tr>\n",
       "<tr><td>TrainLightGCN_040c4d4d</td><td>TERMINATED</td><td>147.96.81.131:3714154</td><td style=\"text-align: right;\">           6</td><td style=\"text-align: right;\">            3</td><td style=\"text-align: right;\">             14</td><td style=\"text-align: right;\">     9</td><td style=\"text-align: right;\">4.87368e-06</td><td style=\"text-align: right;\">         0.0535</td><td style=\"text-align: right;\">    15</td><td style=\"text-align: right;\">        306.278 </td><td style=\"text-align: right;\">         75</td><td style=\"text-align: right;\"> 0.0116751  </td><td style=\"text-align: right;\"> 0.0104122  </td></tr>\n",
       "<tr><td>TrainLightGCN_3a64a1d6</td><td>TERMINATED</td><td>147.96.81.131:3714329</td><td style=\"text-align: right;\">           8</td><td style=\"text-align: right;\">            3</td><td style=\"text-align: right;\">            143</td><td style=\"text-align: right;\">     9</td><td style=\"text-align: right;\">2.67984e-05</td><td style=\"text-align: right;\">         0.1938</td><td style=\"text-align: right;\">    40</td><td style=\"text-align: right;\">        215.153 </td><td style=\"text-align: right;\">        200</td><td style=\"text-align: right;\"> 0.453486   </td><td style=\"text-align: right;\"> 0.0623166  </td></tr>\n",
       "<tr><td>TrainLightGCN_cc38be63</td><td>TERMINATED</td><td>147.96.81.131:3714503</td><td style=\"text-align: right;\">           7</td><td style=\"text-align: right;\">            4</td><td style=\"text-align: right;\">             14</td><td style=\"text-align: right;\">     9</td><td style=\"text-align: right;\">5.7399e-06 </td><td style=\"text-align: right;\">         0.0455</td><td style=\"text-align: right;\">    30</td><td style=\"text-align: right;\">        309.102 </td><td style=\"text-align: right;\">        150</td><td style=\"text-align: right;\"> 0.0107996  </td><td style=\"text-align: right;\"> 0.00954967 </td></tr>\n",
       "<tr><td>TrainLightGCN_9292ca21</td><td>TERMINATED</td><td>147.96.81.131:3714671</td><td style=\"text-align: right;\">           7</td><td style=\"text-align: right;\">            4</td><td style=\"text-align: right;\">             23</td><td style=\"text-align: right;\">     9</td><td style=\"text-align: right;\">4.42526e-05</td><td style=\"text-align: right;\">         0.0039</td><td style=\"text-align: right;\">    29</td><td style=\"text-align: right;\">        305.179 </td><td style=\"text-align: right;\">        145</td><td style=\"text-align: right;\"> 0.0030998  </td><td style=\"text-align: right;\"> 0.00181329 </td></tr>\n",
       "<tr><td>TrainLightGCN_da98d0ba</td><td>TERMINATED</td><td>147.96.81.131:3714846</td><td style=\"text-align: right;\">           6</td><td style=\"text-align: right;\">            3</td><td style=\"text-align: right;\">            213</td><td style=\"text-align: right;\">     9</td><td style=\"text-align: right;\">6.2424e-07 </td><td style=\"text-align: right;\">         0.0704</td><td style=\"text-align: right;\">    15</td><td style=\"text-align: right;\">        305.87  </td><td style=\"text-align: right;\">         75</td><td style=\"text-align: right;\"> 0.0428501  </td><td style=\"text-align: right;\"> 0.0376464  </td></tr>\n",
       "<tr><td>TrainLightGCN_81280218</td><td>TERMINATED</td><td>147.96.81.131:3715131</td><td style=\"text-align: right;\">           6</td><td style=\"text-align: right;\">            3</td><td style=\"text-align: right;\">            321</td><td style=\"text-align: right;\">     9</td><td style=\"text-align: right;\">3.01124e-07</td><td style=\"text-align: right;\">         0.0323</td><td style=\"text-align: right;\">    16</td><td style=\"text-align: right;\">        315.94  </td><td style=\"text-align: right;\">         80</td><td style=\"text-align: right;\"> 0.0236328  </td><td style=\"text-align: right;\"> 0.022849   </td></tr>\n",
       "<tr><td>TrainLightGCN_b80a70dc</td><td>TERMINATED</td><td>147.96.81.131:3715311</td><td style=\"text-align: right;\">           9</td><td style=\"text-align: right;\">            5</td><td style=\"text-align: right;\">            731</td><td style=\"text-align: right;\">     9</td><td style=\"text-align: right;\">6.67559e-05</td><td style=\"text-align: right;\">         0.0011</td><td style=\"text-align: right;\">    40</td><td style=\"text-align: right;\">        127.453 </td><td style=\"text-align: right;\">        200</td><td style=\"text-align: right;\"> 0.00423724 </td><td style=\"text-align: right;\"> 0.00217042 </td></tr>\n",
       "<tr><td>TrainLightGCN_81082e74</td><td>TERMINATED</td><td>147.96.81.131:3715509</td><td style=\"text-align: right;\">           7</td><td style=\"text-align: right;\">            3</td><td style=\"text-align: right;\">             10</td><td style=\"text-align: right;\">     9</td><td style=\"text-align: right;\">1.74329e-06</td><td style=\"text-align: right;\">         0.1393</td><td style=\"text-align: right;\">    32</td><td style=\"text-align: right;\">        309.226 </td><td style=\"text-align: right;\">        160</td><td style=\"text-align: right;\"> 0.176967   </td><td style=\"text-align: right;\"> 0.174506   </td></tr>\n",
       "<tr><td>TrainLightGCN_15adc99f</td><td>TERMINATED</td><td>147.96.81.131:3715662</td><td style=\"text-align: right;\">           8</td><td style=\"text-align: right;\">            3</td><td style=\"text-align: right;\">             39</td><td style=\"text-align: right;\">     9</td><td style=\"text-align: right;\">4.27103e-07</td><td style=\"text-align: right;\">         0.1628</td><td style=\"text-align: right;\">    40</td><td style=\"text-align: right;\">        213.433 </td><td style=\"text-align: right;\">        200</td><td style=\"text-align: right;\"> 0.185363   </td><td style=\"text-align: right;\"> 0.182643   </td></tr>\n",
       "<tr><td>TrainLightGCN_74c59d77</td><td>TERMINATED</td><td>147.96.81.131:3716034</td><td style=\"text-align: right;\">           7</td><td style=\"text-align: right;\">            3</td><td style=\"text-align: right;\">             78</td><td style=\"text-align: right;\">     9</td><td style=\"text-align: right;\">1.53812e-05</td><td style=\"text-align: right;\">         0.0995</td><td style=\"text-align: right;\">    36</td><td style=\"text-align: right;\">        308.628 </td><td style=\"text-align: right;\">        180</td><td style=\"text-align: right;\"> 0.279849   </td><td style=\"text-align: right;\"> 0.230918   </td></tr>\n",
       "<tr><td>TrainLightGCN_dd4e7bdf</td><td>TERMINATED</td><td>147.96.81.131:3716231</td><td style=\"text-align: right;\">           7</td><td style=\"text-align: right;\">            4</td><td style=\"text-align: right;\">              4</td><td style=\"text-align: right;\">     9</td><td style=\"text-align: right;\">9.69946e-07</td><td style=\"text-align: right;\">         0.2756</td><td style=\"text-align: right;\">    37</td><td style=\"text-align: right;\">        309.21  </td><td style=\"text-align: right;\">        185</td><td style=\"text-align: right;\"> 0.531186   </td><td style=\"text-align: right;\"> 0.53009    </td></tr>\n",
       "<tr><td>TrainLightGCN_75e96f53</td><td>TERMINATED</td><td>147.96.81.131:3716380</td><td style=\"text-align: right;\">           7</td><td style=\"text-align: right;\">            4</td><td style=\"text-align: right;\">             15</td><td style=\"text-align: right;\">     9</td><td style=\"text-align: right;\">2.44206e-06</td><td style=\"text-align: right;\">         0.1177</td><td style=\"text-align: right;\">    37</td><td style=\"text-align: right;\">        306.895 </td><td style=\"text-align: right;\">        185</td><td style=\"text-align: right;\"> 0.0582287  </td><td style=\"text-align: right;\"> 0.0537856  </td></tr>\n",
       "<tr><td>TrainLightGCN_a192006e</td><td>TERMINATED</td><td>147.96.81.131:3716644</td><td style=\"text-align: right;\">           8</td><td style=\"text-align: right;\">            3</td><td style=\"text-align: right;\">            100</td><td style=\"text-align: right;\">     9</td><td style=\"text-align: right;\">5.42706e-07</td><td style=\"text-align: right;\">         0.024 </td><td style=\"text-align: right;\">    40</td><td style=\"text-align: right;\">        180.662 </td><td style=\"text-align: right;\">        200</td><td style=\"text-align: right;\"> 0.000429825</td><td style=\"text-align: right;\"> 0.000241114</td></tr>\n",
       "<tr><td>TrainLightGCN_0cdb77bf</td><td>TERMINATED</td><td>147.96.81.131:3716825</td><td style=\"text-align: right;\">           9</td><td style=\"text-align: right;\">            2</td><td style=\"text-align: right;\">            424</td><td style=\"text-align: right;\">     9</td><td style=\"text-align: right;\">0.000161921</td><td style=\"text-align: right;\">         0.0152</td><td style=\"text-align: right;\">    40</td><td style=\"text-align: right;\">        103.848 </td><td style=\"text-align: right;\">        200</td><td style=\"text-align: right;\"> 0.0116776  </td><td style=\"text-align: right;\"> 0.00412588 </td></tr>\n",
       "<tr><td>TrainLightGCN_ba72d811</td><td>TERMINATED</td><td>147.96.81.131:3717043</td><td style=\"text-align: right;\">           9</td><td style=\"text-align: right;\">            5</td><td style=\"text-align: right;\">            978</td><td style=\"text-align: right;\">     9</td><td style=\"text-align: right;\">8.41065e-06</td><td style=\"text-align: right;\">         0.0019</td><td style=\"text-align: right;\">    40</td><td style=\"text-align: right;\">        123.669 </td><td style=\"text-align: right;\">        200</td><td style=\"text-align: right;\"> 0.000878326</td><td style=\"text-align: right;\"> 0.000478626</td></tr>\n",
       "<tr><td>TrainLightGCN_56b2ab14</td><td>TERMINATED</td><td>147.96.81.131:3717334</td><td style=\"text-align: right;\">           9</td><td style=\"text-align: right;\">            5</td><td style=\"text-align: right;\">              1</td><td style=\"text-align: right;\">     9</td><td style=\"text-align: right;\">1.05753e-05</td><td style=\"text-align: right;\">         0.0026</td><td style=\"text-align: right;\">    40</td><td style=\"text-align: right;\">         96.7875</td><td style=\"text-align: right;\">        200</td><td style=\"text-align: right;\"> 0.193096   </td><td style=\"text-align: right;\"> 0.193008   </td></tr>\n",
       "<tr><td>TrainLightGCN_386be8b0</td><td>TERMINATED</td><td>147.96.81.131:3717483</td><td style=\"text-align: right;\">           6</td><td style=\"text-align: right;\">            1</td><td style=\"text-align: right;\">            270</td><td style=\"text-align: right;\">     9</td><td style=\"text-align: right;\">2.04325e-07</td><td style=\"text-align: right;\">         0.6784</td><td style=\"text-align: right;\">    25</td><td style=\"text-align: right;\">        311.358 </td><td style=\"text-align: right;\">        125</td><td style=\"text-align: right;\">13.8283     </td><td style=\"text-align: right;\">13.6341     </td></tr>\n",
       "<tr><td>TrainLightGCN_331bde1d</td><td>TERMINATED</td><td>147.96.81.131:3717686</td><td style=\"text-align: right;\">           6</td><td style=\"text-align: right;\">            2</td><td style=\"text-align: right;\">            250</td><td style=\"text-align: right;\">     9</td><td style=\"text-align: right;\">1.68734e-07</td><td style=\"text-align: right;\">         0.3706</td><td style=\"text-align: right;\">    25</td><td style=\"text-align: right;\">        306.326 </td><td style=\"text-align: right;\">        125</td><td style=\"text-align: right;\"> 0.867513   </td><td style=\"text-align: right;\"> 0.808477   </td></tr>\n",
       "<tr><td>TrainLightGCN_ad8fa17a</td><td>TERMINATED</td><td>147.96.81.131:3717835</td><td style=\"text-align: right;\">           6</td><td style=\"text-align: right;\">            4</td><td style=\"text-align: right;\">            138</td><td style=\"text-align: right;\">     9</td><td style=\"text-align: right;\">4.24592e-06</td><td style=\"text-align: right;\">         0.0008</td><td style=\"text-align: right;\">    26</td><td style=\"text-align: right;\">        308.897 </td><td style=\"text-align: right;\">        130</td><td style=\"text-align: right;\"> 0.00143082 </td><td style=\"text-align: right;\"> 0.00129977 </td></tr>\n",
       "<tr><td>TrainLightGCN_d75d6300</td><td>TERMINATED</td><td>147.96.81.131:3718011</td><td style=\"text-align: right;\">           8</td><td style=\"text-align: right;\">            5</td><td style=\"text-align: right;\">            115</td><td style=\"text-align: right;\">     9</td><td style=\"text-align: right;\">2.96546e-06</td><td style=\"text-align: right;\">         0.0007</td><td style=\"text-align: right;\">    40</td><td style=\"text-align: right;\">        156.665 </td><td style=\"text-align: right;\">        200</td><td style=\"text-align: right;\"> 0.00340518 </td><td style=\"text-align: right;\"> 0.00332379 </td></tr>\n",
       "<tr><td>TrainLightGCN_6b1c99de</td><td>TERMINATED</td><td>147.96.81.131:3718185</td><td style=\"text-align: right;\">           7</td><td style=\"text-align: right;\">            2</td><td style=\"text-align: right;\">              3</td><td style=\"text-align: right;\">     9</td><td style=\"text-align: right;\">1.27995e-06</td><td style=\"text-align: right;\">         0.9842</td><td style=\"text-align: right;\">    40</td><td style=\"text-align: right;\">        257.139 </td><td style=\"text-align: right;\">        200</td><td style=\"text-align: right;\">11.0146     </td><td style=\"text-align: right;\">11.0021     </td></tr>\n",
       "<tr><td>TrainLightGCN_636d7ace</td><td>TERMINATED</td><td>147.96.81.131:3718374</td><td style=\"text-align: right;\">           6</td><td style=\"text-align: right;\">            3</td><td style=\"text-align: right;\">             56</td><td style=\"text-align: right;\">     9</td><td style=\"text-align: right;\">4.58658e-06</td><td style=\"text-align: right;\">         0.2522</td><td style=\"text-align: right;\">    28</td><td style=\"text-align: right;\">        304.741 </td><td style=\"text-align: right;\">        140</td><td style=\"text-align: right;\"> 0.41504    </td><td style=\"text-align: right;\"> 0.267417   </td></tr>\n",
       "<tr><td>TrainLightGCN_b74ef2c0</td><td>TERMINATED</td><td>147.96.81.131:3718553</td><td style=\"text-align: right;\">           8</td><td style=\"text-align: right;\">            3</td><td style=\"text-align: right;\">              5</td><td style=\"text-align: right;\">     9</td><td style=\"text-align: right;\">2.86657e-05</td><td style=\"text-align: right;\">         0.0669</td><td style=\"text-align: right;\">    40</td><td style=\"text-align: right;\">        150.671 </td><td style=\"text-align: right;\">        200</td><td style=\"text-align: right;\"> 0.0403942  </td><td style=\"text-align: right;\"> 0.0379391  </td></tr>\n",
       "<tr><td>TrainLightGCN_ec37016c</td><td>TERMINATED</td><td>147.96.81.131:3718722</td><td style=\"text-align: right;\">           8</td><td style=\"text-align: right;\">            3</td><td style=\"text-align: right;\">              2</td><td style=\"text-align: right;\">     9</td><td style=\"text-align: right;\">1.74419e-05</td><td style=\"text-align: right;\">         0.192 </td><td style=\"text-align: right;\">    40</td><td style=\"text-align: right;\">        149.677 </td><td style=\"text-align: right;\">        200</td><td style=\"text-align: right;\"> 0.143363   </td><td style=\"text-align: right;\"> 0.142029   </td></tr>\n",
       "<tr><td>TrainLightGCN_79c822ee</td><td>TERMINATED</td><td>147.96.81.131:3718902</td><td style=\"text-align: right;\">           8</td><td style=\"text-align: right;\">            3</td><td style=\"text-align: right;\">             11</td><td style=\"text-align: right;\">     9</td><td style=\"text-align: right;\">0.00032359 </td><td style=\"text-align: right;\">         0.0071</td><td style=\"text-align: right;\">    40</td><td style=\"text-align: right;\">        147.93  </td><td style=\"text-align: right;\">        200</td><td style=\"text-align: right;\"> 0.00935506 </td><td style=\"text-align: right;\"> 0.0031522  </td></tr>\n",
       "<tr><td>TrainLightGCN_cfd7af4f</td><td>TERMINATED</td><td>147.96.81.131:3719079</td><td style=\"text-align: right;\">           6</td><td style=\"text-align: right;\">            2</td><td style=\"text-align: right;\">              7</td><td style=\"text-align: right;\">     9</td><td style=\"text-align: right;\">0.000110368</td><td style=\"text-align: right;\">         0.0111</td><td style=\"text-align: right;\">    33</td><td style=\"text-align: right;\">        304.65  </td><td style=\"text-align: right;\">        165</td><td style=\"text-align: right;\"> 0.00915466 </td><td style=\"text-align: right;\"> 0.0064044  </td></tr>\n",
       "<tr><td>TrainLightGCN_49ec6213</td><td>TERMINATED</td><td>147.96.81.131:3719255</td><td style=\"text-align: right;\">           6</td><td style=\"text-align: right;\">            2</td><td style=\"text-align: right;\">              1</td><td style=\"text-align: right;\">     9</td><td style=\"text-align: right;\">6.83862e-06</td><td style=\"text-align: right;\">         0.0049</td><td style=\"text-align: right;\">    37</td><td style=\"text-align: right;\">        305.982 </td><td style=\"text-align: right;\">        185</td><td style=\"text-align: right;\"> 0.179484   </td><td style=\"text-align: right;\"> 0.179422   </td></tr>\n",
       "<tr><td>TrainLightGCN_0d8d73a9</td><td>TERMINATED</td><td>147.96.81.131:3719434</td><td style=\"text-align: right;\">           9</td><td style=\"text-align: right;\">            1</td><td style=\"text-align: right;\">              6</td><td style=\"text-align: right;\">     9</td><td style=\"text-align: right;\">2.1853e-05 </td><td style=\"text-align: right;\">         0.0187</td><td style=\"text-align: right;\">    40</td><td style=\"text-align: right;\">         81.6635</td><td style=\"text-align: right;\">        200</td><td style=\"text-align: right;\"> 0.0132626  </td><td style=\"text-align: right;\"> 0.0127556  </td></tr>\n",
       "<tr><td>TrainLightGCN_715788dc</td><td>TERMINATED</td><td>147.96.81.131:3719615</td><td style=\"text-align: right;\">           8</td><td style=\"text-align: right;\">            4</td><td style=\"text-align: right;\">             69</td><td style=\"text-align: right;\">     9</td><td style=\"text-align: right;\">0.000235925</td><td style=\"text-align: right;\">         0.0604</td><td style=\"text-align: right;\">    40</td><td style=\"text-align: right;\">        140.02  </td><td style=\"text-align: right;\">        200</td><td style=\"text-align: right;\"> 0.0308001  </td><td style=\"text-align: right;\"> 0.0059268  </td></tr>\n",
       "<tr><td>TrainLightGCN_e6037dcc</td><td>TERMINATED</td><td>147.96.81.131:3719859</td><td style=\"text-align: right;\">           8</td><td style=\"text-align: right;\">            4</td><td style=\"text-align: right;\">             22</td><td style=\"text-align: right;\">     9</td><td style=\"text-align: right;\">1.3292e-05 </td><td style=\"text-align: right;\">         0.0418</td><td style=\"text-align: right;\">    40</td><td style=\"text-align: right;\">        134.694 </td><td style=\"text-align: right;\">        200</td><td style=\"text-align: right;\"> 0.00258397 </td><td style=\"text-align: right;\"> 0.000350234</td></tr>\n",
       "<tr><td>TrainLightGCN_2e64fe6f</td><td>TERMINATED</td><td>147.96.81.131:3720014</td><td style=\"text-align: right;\">           7</td><td style=\"text-align: right;\">            4</td><td style=\"text-align: right;\">             46</td><td style=\"text-align: right;\">     9</td><td style=\"text-align: right;\">3.42781e-07</td><td style=\"text-align: right;\">         0.0542</td><td style=\"text-align: right;\">    40</td><td style=\"text-align: right;\">        218.528 </td><td style=\"text-align: right;\">        200</td><td style=\"text-align: right;\"> 0.00193973 </td><td style=\"text-align: right;\"> 0.00144756 </td></tr>\n",
       "<tr><td>TrainLightGCN_551dc9c4</td><td>TERMINATED</td><td>147.96.81.131:3720189</td><td style=\"text-align: right;\">           6</td><td style=\"text-align: right;\">            4</td><td style=\"text-align: right;\">             33</td><td style=\"text-align: right;\">     9</td><td style=\"text-align: right;\">1.7698e-06 </td><td style=\"text-align: right;\">         0.5368</td><td style=\"text-align: right;\">    40</td><td style=\"text-align: right;\">        274.456 </td><td style=\"text-align: right;\">        200</td><td style=\"text-align: right;\"> 0.970284   </td><td style=\"text-align: right;\"> 0.77012    </td></tr>\n",
       "<tr><td>TrainLightGCN_ce7cc1e6</td><td>TERMINATED</td><td>147.96.81.131:3720366</td><td style=\"text-align: right;\">           6</td><td style=\"text-align: right;\">            3</td><td style=\"text-align: right;\">              2</td><td style=\"text-align: right;\">     9</td><td style=\"text-align: right;\">6.78195e-07</td><td style=\"text-align: right;\">         0.0314</td><td style=\"text-align: right;\">    40</td><td style=\"text-align: right;\">        268.45  </td><td style=\"text-align: right;\">        200</td><td style=\"text-align: right;\"> 0.0784593  </td><td style=\"text-align: right;\"> 0.0784356  </td></tr>\n",
       "<tr><td>TrainLightGCN_715f49a8</td><td>TERMINATED</td><td>147.96.81.131:3720669</td><td style=\"text-align: right;\">           6</td><td style=\"text-align: right;\">            3</td><td style=\"text-align: right;\">             17</td><td style=\"text-align: right;\">     9</td><td style=\"text-align: right;\">4.53841e-07</td><td style=\"text-align: right;\">         0.0367</td><td style=\"text-align: right;\">    40</td><td style=\"text-align: right;\">        234.431 </td><td style=\"text-align: right;\">        200</td><td style=\"text-align: right;\"> 0.00740065 </td><td style=\"text-align: right;\"> 0.00724061 </td></tr>\n",
       "<tr><td>TrainLightGCN_f5c1b708</td><td>TERMINATED</td><td>147.96.81.131:3720898</td><td style=\"text-align: right;\">           8</td><td style=\"text-align: right;\">            3</td><td style=\"text-align: right;\">              9</td><td style=\"text-align: right;\">     9</td><td style=\"text-align: right;\">3.98321e-06</td><td style=\"text-align: right;\">         0.3341</td><td style=\"text-align: right;\">    40</td><td style=\"text-align: right;\">        109.908 </td><td style=\"text-align: right;\">        200</td><td style=\"text-align: right;\"> 0.546035   </td><td style=\"text-align: right;\"> 0.526703   </td></tr>\n",
       "<tr><td>TrainLightGCN_9c4460fe</td><td>TERMINATED</td><td>147.96.81.131:3721063</td><td style=\"text-align: right;\">           8</td><td style=\"text-align: right;\">            3</td><td style=\"text-align: right;\">             12</td><td style=\"text-align: right;\">     9</td><td style=\"text-align: right;\">3.85427e-05</td><td style=\"text-align: right;\">         0.0925</td><td style=\"text-align: right;\">    40</td><td style=\"text-align: right;\">        109.042 </td><td style=\"text-align: right;\">        200</td><td style=\"text-align: right;\"> 0.0415266  </td><td style=\"text-align: right;\"> 0.0273216  </td></tr>\n",
       "<tr><td>TrainLightGCN_97e311ac</td><td>TERMINATED</td><td>147.96.81.131:3721227</td><td style=\"text-align: right;\">           7</td><td style=\"text-align: right;\">            1</td><td style=\"text-align: right;\">              5</td><td style=\"text-align: right;\">     9</td><td style=\"text-align: right;\">5.65429e-05</td><td style=\"text-align: right;\">         0.0049</td><td style=\"text-align: right;\">    40</td><td style=\"text-align: right;\">        156.852 </td><td style=\"text-align: right;\">        200</td><td style=\"text-align: right;\"> 0.0158115  </td><td style=\"text-align: right;\"> 0.0149009  </td></tr>\n",
       "</tbody>\n",
       "</table>\n",
       "  </div>\n",
       "</div>\n",
       "<style>\n",
       ".tuneStatus {\n",
       "  color: var(--jp-ui-font-color1);\n",
       "}\n",
       ".tuneStatus .systemInfo {\n",
       "  display: flex;\n",
       "  flex-direction: column;\n",
       "}\n",
       ".tuneStatus td {\n",
       "  white-space: nowrap;\n",
       "}\n",
       ".tuneStatus .trialStatus {\n",
       "  display: flex;\n",
       "  flex-direction: column;\n",
       "}\n",
       ".tuneStatus h3 {\n",
       "  font-weight: bold;\n",
       "}\n",
       ".tuneStatus .hDivider {\n",
       "  border-bottom-width: var(--jp-border-width);\n",
       "  border-bottom-color: var(--jp-border-color0);\n",
       "  border-bottom-style: solid;\n",
       "}\n",
       ".tuneStatus .vDivider {\n",
       "  border-left-width: var(--jp-border-width);\n",
       "  border-left-color: var(--jp-border-color0);\n",
       "  border-left-style: solid;\n",
       "  margin: 0.5em 1em 0.5em 1em;\n",
       "}\n",
       "</style>\n"
      ],
      "text/plain": [
       "<IPython.core.display.HTML object>"
      ]
     },
     "metadata": {},
     "output_type": "display_data"
    },
    {
     "name": "stderr",
     "output_type": "stream",
     "text": [
      "\u001b[36m(pid=3702350)\u001b[0m 2024-03-22 00:12:54.913349: E tensorflow/compiler/xla/stream_executor/cuda/cuda_dnn.cc:9342] Unable to register cuDNN factory: Attempting to register factory for plugin cuDNN when one has already been registered\n",
      "\u001b[36m(pid=3702350)\u001b[0m 2024-03-22 00:12:54.913379: E tensorflow/compiler/xla/stream_executor/cuda/cuda_fft.cc:609] Unable to register cuFFT factory: Attempting to register factory for plugin cuFFT when one has already been registered\n",
      "\u001b[36m(pid=3702350)\u001b[0m 2024-03-22 00:12:54.913395: E tensorflow/compiler/xla/stream_executor/cuda/cuda_blas.cc:1518] Unable to register cuBLAS factory: Attempting to register factory for plugin cuBLAS when one has already been registered\n"
     ]
    },
    {
     "name": "stderr",
     "output_type": "stream",
     "text": [
      "\u001b[36m(TrainLightGCN pid=3702350)\u001b[0m /home/daviddavo/upm-tfm-notebooks/.direnv/python-3.9/lib/python3.9/site-packages/recommenders/models/deeprec/DataModel/ImplicitCF.py:73: FutureWarning: The frame.append method is deprecated and will be removed from pandas in a future version. Use pandas.concat instead.\n",
      "\u001b[36m(TrainLightGCN pid=3702350)\u001b[0m   df = train if test is None else train.append(test)\n"
     ]
    },
    {
     "name": "stdout",
     "output_type": "stream",
     "text": [
      "\u001b[36m(TrainLightGCN pid=3702350)\u001b[0m Already create adjacency matrix.\n",
      "\u001b[36m(TrainLightGCN pid=3702350)\u001b[0m Already normalize adjacency matrix.\n",
      "\u001b[36m(TrainLightGCN pid=3702350)\u001b[0m Using xavier initialization.\n"
     ]
    },
    {
     "name": "stderr",
     "output_type": "stream",
     "text": [
      "\u001b[36m(pid=3702482)\u001b[0m 2024-03-22 00:12:58.721357: E tensorflow/compiler/xla/stream_executor/cuda/cuda_dnn.cc:9342] Unable to register cuDNN factory: Attempting to register factory for plugin cuDNN when one has already been registered\n",
      "\u001b[36m(pid=3702482)\u001b[0m 2024-03-22 00:12:58.721392: E tensorflow/compiler/xla/stream_executor/cuda/cuda_fft.cc:609] Unable to register cuFFT factory: Attempting to register factory for plugin cuFFT when one has already been registered\n",
      "\u001b[36m(pid=3702482)\u001b[0m 2024-03-22 00:12:58.721406: E tensorflow/compiler/xla/stream_executor/cuda/cuda_blas.cc:1518] Unable to register cuBLAS factory: Attempting to register factory for plugin cuBLAS when one has already been registered\n"
     ]
    },
    {
     "name": "stderr",
     "output_type": "stream",
     "text": [
      "\u001b[36m(pid=3702643)\u001b[0m 2024-03-22 00:13:02.674287: E tensorflow/compiler/xla/stream_executor/cuda/cuda_dnn.cc:9342] Unable to register cuDNN factory: Attempting to register factory for plugin cuDNN when one has already been registered\n",
      "\u001b[36m(pid=3702643)\u001b[0m 2024-03-22 00:13:02.674323: E tensorflow/compiler/xla/stream_executor/cuda/cuda_fft.cc:609] Unable to register cuFFT factory: Attempting to register factory for plugin cuFFT when one has already been registered\n",
      "\u001b[36m(pid=3702643)\u001b[0m 2024-03-22 00:13:02.674339: E tensorflow/compiler/xla/stream_executor/cuda/cuda_blas.cc:1518] Unable to register cuBLAS factory: Attempting to register factory for plugin cuBLAS when one has already been registered\n",
      "\u001b[36m(TrainLightGCN pid=3702482)\u001b[0m /home/daviddavo/upm-tfm-notebooks/.direnv/python-3.9/lib/python3.9/site-packages/recommenders/models/deeprec/DataModel/ImplicitCF.py:73: FutureWarning: The frame.append method is deprecated and will be removed from pandas in a future version. Use pandas.concat instead.\n",
      "\u001b[36m(TrainLightGCN pid=3702482)\u001b[0m   df = train if test is None else train.append(test)\n"
     ]
    },
    {
     "name": "stderr",
     "output_type": "stream",
     "text": [
      "\u001b[36m(TrainLightGCN pid=3702643)\u001b[0m /home/daviddavo/upm-tfm-notebooks/.direnv/python-3.9/lib/python3.9/site-packages/recommenders/models/deeprec/DataModel/ImplicitCF.py:73: FutureWarning: The frame.append method is deprecated and will be removed from pandas in a future version. Use pandas.concat instead.\n",
      "\u001b[36m(TrainLightGCN pid=3702643)\u001b[0m   df = train if test is None else train.append(test)\n"
     ]
    },
    {
     "name": "stdout",
     "output_type": "stream",
     "text": [
      "\u001b[36m(TrainLightGCN pid=3702643)\u001b[0m Already create adjacency matrix.\u001b[32m [repeated 2x across cluster]\u001b[0m\n",
      "\u001b[36m(TrainLightGCN pid=3702643)\u001b[0m Already normalize adjacency matrix.\u001b[32m [repeated 2x across cluster]\u001b[0m\n",
      "\u001b[36m(TrainLightGCN pid=3702643)\u001b[0m Using xavier initialization.\u001b[32m [repeated 2x across cluster]\u001b[0m\n"
     ]
    },
    {
     "name": "stderr",
     "output_type": "stream",
     "text": [
      "\u001b[36m(pid=3702804)\u001b[0m 2024-03-22 00:13:06.682051: E tensorflow/compiler/xla/stream_executor/cuda/cuda_dnn.cc:9342] Unable to register cuDNN factory: Attempting to register factory for plugin cuDNN when one has already been registered\n",
      "\u001b[36m(pid=3702804)\u001b[0m 2024-03-22 00:13:06.682088: E tensorflow/compiler/xla/stream_executor/cuda/cuda_fft.cc:609] Unable to register cuFFT factory: Attempting to register factory for plugin cuFFT when one has already been registered\n",
      "\u001b[36m(pid=3702804)\u001b[0m 2024-03-22 00:13:06.682106: E tensorflow/compiler/xla/stream_executor/cuda/cuda_blas.cc:1518] Unable to register cuBLAS factory: Attempting to register factory for plugin cuBLAS when one has already been registered\n"
     ]
    },
    {
     "name": "stderr",
     "output_type": "stream",
     "text": [
      "\u001b[36m(pid=3702966)\u001b[0m 2024-03-22 00:13:10.806964: E tensorflow/compiler/xla/stream_executor/cuda/cuda_dnn.cc:9342] Unable to register cuDNN factory: Attempting to register factory for plugin cuDNN when one has already been registered\n",
      "\u001b[36m(pid=3702966)\u001b[0m 2024-03-22 00:13:10.807000: E tensorflow/compiler/xla/stream_executor/cuda/cuda_fft.cc:609] Unable to register cuFFT factory: Attempting to register factory for plugin cuFFT when one has already been registered\n",
      "\u001b[36m(pid=3702966)\u001b[0m 2024-03-22 00:13:10.807016: E tensorflow/compiler/xla/stream_executor/cuda/cuda_blas.cc:1518] Unable to register cuBLAS factory: Attempting to register factory for plugin cuBLAS when one has already been registered\n",
      "\u001b[36m(TrainLightGCN pid=3702804)\u001b[0m /home/daviddavo/upm-tfm-notebooks/.direnv/python-3.9/lib/python3.9/site-packages/recommenders/models/deeprec/DataModel/ImplicitCF.py:73: FutureWarning: The frame.append method is deprecated and will be removed from pandas in a future version. Use pandas.concat instead.\n",
      "\u001b[36m(TrainLightGCN pid=3702804)\u001b[0m   df = train if test is None else train.append(test)\n"
     ]
    },
    {
     "name": "stderr",
     "output_type": "stream",
     "text": [
      "\u001b[36m(TrainLightGCN pid=3702966)\u001b[0m /home/daviddavo/upm-tfm-notebooks/.direnv/python-3.9/lib/python3.9/site-packages/recommenders/models/deeprec/DataModel/ImplicitCF.py:73: FutureWarning: The frame.append method is deprecated and will be removed from pandas in a future version. Use pandas.concat instead.\n",
      "\u001b[36m(TrainLightGCN pid=3702966)\u001b[0m   df = train if test is None else train.append(test)\n"
     ]
    },
    {
     "name": "stdout",
     "output_type": "stream",
     "text": [
      "\u001b[36m(TrainLightGCN pid=3702966)\u001b[0m Already create adjacency matrix.\u001b[32m [repeated 2x across cluster]\u001b[0m\n",
      "\u001b[36m(TrainLightGCN pid=3702966)\u001b[0m Already normalize adjacency matrix.\u001b[32m [repeated 2x across cluster]\u001b[0m\n",
      "\u001b[36m(TrainLightGCN pid=3702966)\u001b[0m Using xavier initialization.\u001b[32m [repeated 2x across cluster]\u001b[0m\n"
     ]
    },
    {
     "name": "stderr",
     "output_type": "stream",
     "text": [
      "\u001b[36m(pid=3703131)\u001b[0m 2024-03-22 00:13:15.160542: E tensorflow/compiler/xla/stream_executor/cuda/cuda_dnn.cc:9342] Unable to register cuDNN factory: Attempting to register factory for plugin cuDNN when one has already been registered\n",
      "\u001b[36m(pid=3703131)\u001b[0m 2024-03-22 00:13:15.160579: E tensorflow/compiler/xla/stream_executor/cuda/cuda_fft.cc:609] Unable to register cuFFT factory: Attempting to register factory for plugin cuFFT when one has already been registered\n",
      "\u001b[36m(pid=3703131)\u001b[0m 2024-03-22 00:13:15.160596: E tensorflow/compiler/xla/stream_executor/cuda/cuda_blas.cc:1518] Unable to register cuBLAS factory: Attempting to register factory for plugin cuBLAS when one has already been registered\n"
     ]
    },
    {
     "name": "stderr",
     "output_type": "stream",
     "text": [
      "\u001b[36m(pid=3703290)\u001b[0m 2024-03-22 00:13:19.499335: E tensorflow/compiler/xla/stream_executor/cuda/cuda_dnn.cc:9342] Unable to register cuDNN factory: Attempting to register factory for plugin cuDNN when one has already been registered\n",
      "\u001b[36m(pid=3703290)\u001b[0m 2024-03-22 00:13:19.499372: E tensorflow/compiler/xla/stream_executor/cuda/cuda_fft.cc:609] Unable to register cuFFT factory: Attempting to register factory for plugin cuFFT when one has already been registered\n",
      "\u001b[36m(pid=3703290)\u001b[0m 2024-03-22 00:13:19.499386: E tensorflow/compiler/xla/stream_executor/cuda/cuda_blas.cc:1518] Unable to register cuBLAS factory: Attempting to register factory for plugin cuBLAS when one has already been registered\n",
      "\u001b[36m(TrainLightGCN pid=3703131)\u001b[0m /home/daviddavo/upm-tfm-notebooks/.direnv/python-3.9/lib/python3.9/site-packages/recommenders/models/deeprec/DataModel/ImplicitCF.py:73: FutureWarning: The frame.append method is deprecated and will be removed from pandas in a future version. Use pandas.concat instead.\n",
      "\u001b[36m(TrainLightGCN pid=3703131)\u001b[0m   df = train if test is None else train.append(test)\n"
     ]
    },
    {
     "name": "stderr",
     "output_type": "stream",
     "text": [
      "\u001b[36m(TrainLightGCN pid=3703290)\u001b[0m /home/daviddavo/upm-tfm-notebooks/.direnv/python-3.9/lib/python3.9/site-packages/recommenders/models/deeprec/DataModel/ImplicitCF.py:73: FutureWarning: The frame.append method is deprecated and will be removed from pandas in a future version. Use pandas.concat instead.\n",
      "\u001b[36m(TrainLightGCN pid=3703290)\u001b[0m   df = train if test is None else train.append(test)\n"
     ]
    },
    {
     "name": "stdout",
     "output_type": "stream",
     "text": [
      "\u001b[36m(TrainLightGCN pid=3703290)\u001b[0m Already create adjacency matrix.\u001b[32m [repeated 2x across cluster]\u001b[0m\n",
      "\u001b[36m(TrainLightGCN pid=3703290)\u001b[0m Already normalize adjacency matrix.\u001b[32m [repeated 2x across cluster]\u001b[0m\n",
      "\u001b[36m(TrainLightGCN pid=3703290)\u001b[0m Using xavier initialization.\u001b[32m [repeated 2x across cluster]\u001b[0m\n"
     ]
    },
    {
     "name": "stderr",
     "output_type": "stream",
     "text": [
      "\u001b[36m(pid=3703451)\u001b[0m 2024-03-22 00:13:23.927381: E tensorflow/compiler/xla/stream_executor/cuda/cuda_dnn.cc:9342] Unable to register cuDNN factory: Attempting to register factory for plugin cuDNN when one has already been registered\n",
      "\u001b[36m(pid=3703451)\u001b[0m 2024-03-22 00:13:23.927422: E tensorflow/compiler/xla/stream_executor/cuda/cuda_fft.cc:609] Unable to register cuFFT factory: Attempting to register factory for plugin cuFFT when one has already been registered\n",
      "\u001b[36m(pid=3703451)\u001b[0m 2024-03-22 00:13:23.927439: E tensorflow/compiler/xla/stream_executor/cuda/cuda_blas.cc:1518] Unable to register cuBLAS factory: Attempting to register factory for plugin cuBLAS when one has already been registered\n"
     ]
    },
    {
     "name": "stderr",
     "output_type": "stream",
     "text": [
      "\u001b[36m(pid=3703617)\u001b[0m 2024-03-22 00:13:29.142997: E tensorflow/compiler/xla/stream_executor/cuda/cuda_dnn.cc:9342] Unable to register cuDNN factory: Attempting to register factory for plugin cuDNN when one has already been registered\n",
      "\u001b[36m(pid=3703617)\u001b[0m 2024-03-22 00:13:29.143041: E tensorflow/compiler/xla/stream_executor/cuda/cuda_fft.cc:609] Unable to register cuFFT factory: Attempting to register factory for plugin cuFFT when one has already been registered\n",
      "\u001b[36m(pid=3703617)\u001b[0m 2024-03-22 00:13:29.143058: E tensorflow/compiler/xla/stream_executor/cuda/cuda_blas.cc:1518] Unable to register cuBLAS factory: Attempting to register factory for plugin cuBLAS when one has already been registered\n",
      "\u001b[36m(TrainLightGCN pid=3703451)\u001b[0m /home/daviddavo/upm-tfm-notebooks/.direnv/python-3.9/lib/python3.9/site-packages/recommenders/models/deeprec/DataModel/ImplicitCF.py:73: FutureWarning: The frame.append method is deprecated and will be removed from pandas in a future version. Use pandas.concat instead.\n",
      "\u001b[36m(TrainLightGCN pid=3703451)\u001b[0m   df = train if test is None else train.append(test)\n"
     ]
    },
    {
     "name": "stderr",
     "output_type": "stream",
     "text": [
      "\u001b[36m(TrainLightGCN pid=3703617)\u001b[0m /home/daviddavo/upm-tfm-notebooks/.direnv/python-3.9/lib/python3.9/site-packages/recommenders/models/deeprec/DataModel/ImplicitCF.py:73: FutureWarning: The frame.append method is deprecated and will be removed from pandas in a future version. Use pandas.concat instead.\n",
      "\u001b[36m(TrainLightGCN pid=3703617)\u001b[0m   df = train if test is None else train.append(test)\n"
     ]
    },
    {
     "name": "stdout",
     "output_type": "stream",
     "text": [
      "\u001b[36m(TrainLightGCN pid=3703617)\u001b[0m Already create adjacency matrix.\u001b[32m [repeated 2x across cluster]\u001b[0m\n",
      "\u001b[36m(TrainLightGCN pid=3703617)\u001b[0m Already normalize adjacency matrix.\u001b[32m [repeated 2x across cluster]\u001b[0m\n",
      "\u001b[36m(TrainLightGCN pid=3703617)\u001b[0m Using xavier initialization.\u001b[32m [repeated 2x across cluster]\u001b[0m\n"
     ]
    },
    {
     "name": "stderr",
     "output_type": "stream",
     "text": [
      "\u001b[36m(TrainLightGCN pid=3702350)\u001b[0m Checkpoint successfully created at: Checkpoint(filesystem=local, path=/home/daviddavo/ray_results/LightGCN_optim=map@10,dao=DEAD FoundationsDAO,freq=2d,normalize=True,cutoff_date=2021-11-28T00:00:00,fold=9_2024-03-22T00:12:53.923224/TrainLightGCN_e459318c_1_batch_size=8,conv_layers=2,embedding_dim=1,fold=9,l2=0.0003,learning_rate=0.0470_2024-03-22_00-12-53/checkpoint_000000)\n"
     ]
    },
    {
     "name": "stderr",
     "output_type": "stream",
     "text": [
      "\u001b[36m(pid=3703780)\u001b[0m 2024-03-22 00:13:33.874195: E tensorflow/compiler/xla/stream_executor/cuda/cuda_dnn.cc:9342] Unable to register cuDNN factory: Attempting to register factory for plugin cuDNN when one has already been registered\n",
      "\u001b[36m(pid=3703780)\u001b[0m 2024-03-22 00:13:33.874219: E tensorflow/compiler/xla/stream_executor/cuda/cuda_fft.cc:609] Unable to register cuFFT factory: Attempting to register factory for plugin cuFFT when one has already been registered\n",
      "\u001b[36m(pid=3703780)\u001b[0m 2024-03-22 00:13:33.874236: E tensorflow/compiler/xla/stream_executor/cuda/cuda_blas.cc:1518] Unable to register cuBLAS factory: Attempting to register factory for plugin cuBLAS when one has already been registered\n"
     ]
    },
    {
     "name": "stderr",
     "output_type": "stream",
     "text": [
      "\u001b[36m(pid=3703957)\u001b[0m 2024-03-22 00:13:38.577965: E tensorflow/compiler/xla/stream_executor/cuda/cuda_dnn.cc:9342] Unable to register cuDNN factory: Attempting to register factory for plugin cuDNN when one has already been registered\n",
      "\u001b[36m(pid=3703957)\u001b[0m 2024-03-22 00:13:38.578003: E tensorflow/compiler/xla/stream_executor/cuda/cuda_fft.cc:609] Unable to register cuFFT factory: Attempting to register factory for plugin cuFFT when one has already been registered\n",
      "\u001b[36m(pid=3703957)\u001b[0m 2024-03-22 00:13:38.578018: E tensorflow/compiler/xla/stream_executor/cuda/cuda_blas.cc:1518] Unable to register cuBLAS factory: Attempting to register factory for plugin cuBLAS when one has already been registered\n",
      "\u001b[36m(TrainLightGCN pid=3703780)\u001b[0m /home/daviddavo/upm-tfm-notebooks/.direnv/python-3.9/lib/python3.9/site-packages/recommenders/models/deeprec/DataModel/ImplicitCF.py:73: FutureWarning: The frame.append method is deprecated and will be removed from pandas in a future version. Use pandas.concat instead.\n",
      "\u001b[36m(TrainLightGCN pid=3703780)\u001b[0m   df = train if test is None else train.append(test)\n"
     ]
    },
    {
     "name": "stderr",
     "output_type": "stream",
     "text": [
      "\u001b[36m(TrainLightGCN pid=3703957)\u001b[0m /home/daviddavo/upm-tfm-notebooks/.direnv/python-3.9/lib/python3.9/site-packages/recommenders/models/deeprec/DataModel/ImplicitCF.py:73: FutureWarning: The frame.append method is deprecated and will be removed from pandas in a future version. Use pandas.concat instead.\n",
      "\u001b[36m(TrainLightGCN pid=3703957)\u001b[0m   df = train if test is None else train.append(test)\n",
      "\u001b[36m(TrainLightGCN pid=3702643)\u001b[0m Checkpoint successfully created at: Checkpoint(filesystem=local, path=/home/daviddavo/ray_results/LightGCN_optim=map@10,dao=DEAD FoundationsDAO,freq=2d,normalize=True,cutoff_date=2021-11-28T00:00:00,fold=9_2024-03-22T00:12:53.923224/TrainLightGCN_242aa62a_3_batch_size=9,conv_layers=3,embedding_dim=5,fold=9,l2=0.0001,learning_rate=0.2200_2024-03-22_00-13-01/checkpoint_000000)\n"
     ]
    },
    {
     "name": "stdout",
     "output_type": "stream",
     "text": [
      "\u001b[36m(TrainLightGCN pid=3703957)\u001b[0m Already create adjacency matrix.\u001b[32m [repeated 2x across cluster]\u001b[0m\n",
      "\u001b[36m(TrainLightGCN pid=3703957)\u001b[0m Already normalize adjacency matrix.\u001b[32m [repeated 2x across cluster]\u001b[0m\n",
      "\u001b[36m(TrainLightGCN pid=3703957)\u001b[0m Using xavier initialization.\u001b[32m [repeated 2x across cluster]\u001b[0m\n"
     ]
    },
    {
     "name": "stderr",
     "output_type": "stream",
     "text": [
      "\u001b[36m(pid=3704124)\u001b[0m 2024-03-22 00:13:43.324154: E tensorflow/compiler/xla/stream_executor/cuda/cuda_dnn.cc:9342] Unable to register cuDNN factory: Attempting to register factory for plugin cuDNN when one has already been registered\n",
      "\u001b[36m(pid=3704124)\u001b[0m 2024-03-22 00:13:43.324200: E tensorflow/compiler/xla/stream_executor/cuda/cuda_fft.cc:609] Unable to register cuFFT factory: Attempting to register factory for plugin cuFFT when one has already been registered\n",
      "\u001b[36m(pid=3704124)\u001b[0m 2024-03-22 00:13:43.324220: E tensorflow/compiler/xla/stream_executor/cuda/cuda_blas.cc:1518] Unable to register cuBLAS factory: Attempting to register factory for plugin cuBLAS when one has already been registered\n"
     ]
    },
    {
     "name": "stderr",
     "output_type": "stream",
     "text": [
      "\u001b[36m(pid=3704283)\u001b[0m 2024-03-22 00:13:48.334885: E tensorflow/compiler/xla/stream_executor/cuda/cuda_dnn.cc:9342] Unable to register cuDNN factory: Attempting to register factory for plugin cuDNN when one has already been registered\n",
      "\u001b[36m(pid=3704283)\u001b[0m 2024-03-22 00:13:48.334927: E tensorflow/compiler/xla/stream_executor/cuda/cuda_fft.cc:609] Unable to register cuFFT factory: Attempting to register factory for plugin cuFFT when one has already been registered\n",
      "\u001b[36m(pid=3704283)\u001b[0m 2024-03-22 00:13:48.334941: E tensorflow/compiler/xla/stream_executor/cuda/cuda_blas.cc:1518] Unable to register cuBLAS factory: Attempting to register factory for plugin cuBLAS when one has already been registered\n",
      "\u001b[36m(TrainLightGCN pid=3704124)\u001b[0m /home/daviddavo/upm-tfm-notebooks/.direnv/python-3.9/lib/python3.9/site-packages/recommenders/models/deeprec/DataModel/ImplicitCF.py:73: FutureWarning: The frame.append method is deprecated and will be removed from pandas in a future version. Use pandas.concat instead.\n",
      "\u001b[36m(TrainLightGCN pid=3704124)\u001b[0m   df = train if test is None else train.append(test)\n"
     ]
    },
    {
     "name": "stderr",
     "output_type": "stream",
     "text": [
      "\u001b[36m(TrainLightGCN pid=3704283)\u001b[0m /home/daviddavo/upm-tfm-notebooks/.direnv/python-3.9/lib/python3.9/site-packages/recommenders/models/deeprec/DataModel/ImplicitCF.py:73: FutureWarning: The frame.append method is deprecated and will be removed from pandas in a future version. Use pandas.concat instead.\n",
      "\u001b[36m(TrainLightGCN pid=3704283)\u001b[0m   df = train if test is None else train.append(test)\n"
     ]
    },
    {
     "name": "stdout",
     "output_type": "stream",
     "text": [
      "\u001b[36m(TrainLightGCN pid=3704283)\u001b[0m Already create adjacency matrix.\u001b[32m [repeated 2x across cluster]\u001b[0m\n",
      "\u001b[36m(TrainLightGCN pid=3704283)\u001b[0m Already normalize adjacency matrix.\u001b[32m [repeated 2x across cluster]\u001b[0m\n",
      "\u001b[36m(TrainLightGCN pid=3704283)\u001b[0m Using xavier initialization.\u001b[32m [repeated 2x across cluster]\u001b[0m\n"
     ]
    },
    {
     "name": "stderr",
     "output_type": "stream",
     "text": [
      "\u001b[36m(pid=3704446)\u001b[0m 2024-03-22 00:13:53.100149: E tensorflow/compiler/xla/stream_executor/cuda/cuda_dnn.cc:9342] Unable to register cuDNN factory: Attempting to register factory for plugin cuDNN when one has already been registered\n",
      "\u001b[36m(pid=3704446)\u001b[0m 2024-03-22 00:13:53.100188: E tensorflow/compiler/xla/stream_executor/cuda/cuda_fft.cc:609] Unable to register cuFFT factory: Attempting to register factory for plugin cuFFT when one has already been registered\n",
      "\u001b[36m(pid=3704446)\u001b[0m 2024-03-22 00:13:53.100205: E tensorflow/compiler/xla/stream_executor/cuda/cuda_blas.cc:1518] Unable to register cuBLAS factory: Attempting to register factory for plugin cuBLAS when one has already been registered\n",
      "\u001b[36m(TrainLightGCN pid=3702482)\u001b[0m Checkpoint successfully created at: Checkpoint(filesystem=local, path=/home/daviddavo/ray_results/LightGCN_optim=map@10,dao=DEAD FoundationsDAO,freq=2d,normalize=True,cutoff_date=2021-11-28T00:00:00,fold=9_2024-03-22T00:12:53.923224/TrainLightGCN_7e0b2828_2_batch_size=8,conv_layers=5,embedding_dim=29,fold=9,l2=0.0000,learning_rate=0.2347_2024-03-22_00-12-57/checkpoint_000000)\n"
     ]
    },
    {
     "name": "stderr",
     "output_type": "stream",
     "text": [
      "\u001b[36m(pid=3704621)\u001b[0m 2024-03-22 00:13:58.293074: E tensorflow/compiler/xla/stream_executor/cuda/cuda_dnn.cc:9342] Unable to register cuDNN factory: Attempting to register factory for plugin cuDNN when one has already been registered\n",
      "\u001b[36m(pid=3704621)\u001b[0m 2024-03-22 00:13:58.293130: E tensorflow/compiler/xla/stream_executor/cuda/cuda_fft.cc:609] Unable to register cuFFT factory: Attempting to register factory for plugin cuFFT when one has already been registered\n",
      "\u001b[36m(pid=3704621)\u001b[0m 2024-03-22 00:13:58.293158: E tensorflow/compiler/xla/stream_executor/cuda/cuda_blas.cc:1518] Unable to register cuBLAS factory: Attempting to register factory for plugin cuBLAS when one has already been registered\n",
      "\u001b[36m(TrainLightGCN pid=3704446)\u001b[0m /home/daviddavo/upm-tfm-notebooks/.direnv/python-3.9/lib/python3.9/site-packages/recommenders/models/deeprec/DataModel/ImplicitCF.py:73: FutureWarning: The frame.append method is deprecated and will be removed from pandas in a future version. Use pandas.concat instead.\n",
      "\u001b[36m(TrainLightGCN pid=3704446)\u001b[0m   df = train if test is None else train.append(test)\n"
     ]
    },
    {
     "name": "stderr",
     "output_type": "stream",
     "text": [
      "\u001b[36m(TrainLightGCN pid=3704621)\u001b[0m /home/daviddavo/upm-tfm-notebooks/.direnv/python-3.9/lib/python3.9/site-packages/recommenders/models/deeprec/DataModel/ImplicitCF.py:73: FutureWarning: The frame.append method is deprecated and will be removed from pandas in a future version. Use pandas.concat instead.\n",
      "\u001b[36m(TrainLightGCN pid=3704621)\u001b[0m   df = train if test is None else train.append(test)\n"
     ]
    },
    {
     "name": "stdout",
     "output_type": "stream",
     "text": [
      "\u001b[36m(TrainLightGCN pid=3704621)\u001b[0m Already create adjacency matrix.\u001b[32m [repeated 2x across cluster]\u001b[0m\n",
      "\u001b[36m(TrainLightGCN pid=3704621)\u001b[0m Already normalize adjacency matrix.\u001b[32m [repeated 2x across cluster]\u001b[0m\n",
      "\u001b[36m(TrainLightGCN pid=3704621)\u001b[0m Using xavier initialization.\u001b[32m [repeated 2x across cluster]\u001b[0m\n"
     ]
    },
    {
     "name": "stderr",
     "output_type": "stream",
     "text": [
      "\u001b[36m(pid=3704789)\u001b[0m 2024-03-22 00:14:04.010532: E tensorflow/compiler/xla/stream_executor/cuda/cuda_dnn.cc:9342] Unable to register cuDNN factory: Attempting to register factory for plugin cuDNN when one has already been registered\n",
      "\u001b[36m(pid=3704789)\u001b[0m 2024-03-22 00:14:04.010565: E tensorflow/compiler/xla/stream_executor/cuda/cuda_fft.cc:609] Unable to register cuFFT factory: Attempting to register factory for plugin cuFFT when one has already been registered\n",
      "\u001b[36m(pid=3704789)\u001b[0m 2024-03-22 00:14:04.010580: E tensorflow/compiler/xla/stream_executor/cuda/cuda_blas.cc:1518] Unable to register cuBLAS factory: Attempting to register factory for plugin cuBLAS when one has already been registered\n"
     ]
    },
    {
     "name": "stderr",
     "output_type": "stream",
     "text": [
      "\u001b[36m(TrainLightGCN pid=3704789)\u001b[0m /home/daviddavo/upm-tfm-notebooks/.direnv/python-3.9/lib/python3.9/site-packages/recommenders/models/deeprec/DataModel/ImplicitCF.py:73: FutureWarning: The frame.append method is deprecated and will be removed from pandas in a future version. Use pandas.concat instead.\n",
      "\u001b[36m(TrainLightGCN pid=3704789)\u001b[0m   df = train if test is None else train.append(test)\n"
     ]
    },
    {
     "name": "stdout",
     "output_type": "stream",
     "text": [
      "\u001b[36m(TrainLightGCN pid=3704789)\u001b[0m Already create adjacency matrix.\n",
      "\u001b[36m(TrainLightGCN pid=3704789)\u001b[0m Already normalize adjacency matrix.\n",
      "\u001b[36m(TrainLightGCN pid=3704789)\u001b[0m Using xavier initialization.\n"
     ]
    },
    {
     "name": "stderr",
     "output_type": "stream",
     "text": [
      "\u001b[36m(pid=3704954)\u001b[0m 2024-03-22 00:14:09.356796: E tensorflow/compiler/xla/stream_executor/cuda/cuda_dnn.cc:9342] Unable to register cuDNN factory: Attempting to register factory for plugin cuDNN when one has already been registered\n",
      "\u001b[36m(pid=3704954)\u001b[0m 2024-03-22 00:14:09.356847: E tensorflow/compiler/xla/stream_executor/cuda/cuda_fft.cc:609] Unable to register cuFFT factory: Attempting to register factory for plugin cuFFT when one has already been registered\n",
      "\u001b[36m(pid=3704954)\u001b[0m 2024-03-22 00:14:09.356870: E tensorflow/compiler/xla/stream_executor/cuda/cuda_blas.cc:1518] Unable to register cuBLAS factory: Attempting to register factory for plugin cuBLAS when one has already been registered\n"
     ]
    },
    {
     "name": "stderr",
     "output_type": "stream",
     "text": [
      "\u001b[36m(TrainLightGCN pid=3704954)\u001b[0m /home/daviddavo/upm-tfm-notebooks/.direnv/python-3.9/lib/python3.9/site-packages/recommenders/models/deeprec/DataModel/ImplicitCF.py:73: FutureWarning: The frame.append method is deprecated and will be removed from pandas in a future version. Use pandas.concat instead.\n",
      "\u001b[36m(TrainLightGCN pid=3704954)\u001b[0m   df = train if test is None else train.append(test)\n"
     ]
    },
    {
     "name": "stdout",
     "output_type": "stream",
     "text": [
      "\u001b[36m(TrainLightGCN pid=3704954)\u001b[0m Already create adjacency matrix.\n",
      "\u001b[36m(TrainLightGCN pid=3704954)\u001b[0m Already normalize adjacency matrix.\n",
      "\u001b[36m(TrainLightGCN pid=3704954)\u001b[0m Using xavier initialization.\n"
     ]
    },
    {
     "name": "stderr",
     "output_type": "stream",
     "text": [
      "\u001b[36m(pid=3705119)\u001b[0m 2024-03-22 00:14:15.394967: E tensorflow/compiler/xla/stream_executor/cuda/cuda_dnn.cc:9342] Unable to register cuDNN factory: Attempting to register factory for plugin cuDNN when one has already been registered\n",
      "\u001b[36m(pid=3705119)\u001b[0m 2024-03-22 00:14:15.395006: E tensorflow/compiler/xla/stream_executor/cuda/cuda_fft.cc:609] Unable to register cuFFT factory: Attempting to register factory for plugin cuFFT when one has already been registered\n",
      "\u001b[36m(pid=3705119)\u001b[0m 2024-03-22 00:14:15.395020: E tensorflow/compiler/xla/stream_executor/cuda/cuda_blas.cc:1518] Unable to register cuBLAS factory: Attempting to register factory for plugin cuBLAS when one has already been registered\n"
     ]
    },
    {
     "name": "stderr",
     "output_type": "stream",
     "text": [
      "\u001b[36m(TrainLightGCN pid=3705119)\u001b[0m /home/daviddavo/upm-tfm-notebooks/.direnv/python-3.9/lib/python3.9/site-packages/recommenders/models/deeprec/DataModel/ImplicitCF.py:73: FutureWarning: The frame.append method is deprecated and will be removed from pandas in a future version. Use pandas.concat instead.\n",
      "\u001b[36m(TrainLightGCN pid=3705119)\u001b[0m   df = train if test is None else train.append(test)\n"
     ]
    },
    {
     "name": "stdout",
     "output_type": "stream",
     "text": [
      "\u001b[36m(TrainLightGCN pid=3705119)\u001b[0m Using xavier initialization.\n",
      "\u001b[36m(TrainLightGCN pid=3705119)\u001b[0m Already create adjacency matrix.\n",
      "\u001b[36m(TrainLightGCN pid=3705119)\u001b[0m Already normalize adjacency matrix.\n"
     ]
    },
    {
     "name": "stderr",
     "output_type": "stream",
     "text": [
      "\u001b[36m(pid=3705287)\u001b[0m 2024-03-22 00:14:20.844927: E tensorflow/compiler/xla/stream_executor/cuda/cuda_dnn.cc:9342] Unable to register cuDNN factory: Attempting to register factory for plugin cuDNN when one has already been registered\n",
      "\u001b[36m(pid=3705287)\u001b[0m 2024-03-22 00:14:20.844970: E tensorflow/compiler/xla/stream_executor/cuda/cuda_fft.cc:609] Unable to register cuFFT factory: Attempting to register factory for plugin cuFFT when one has already been registered\n",
      "\u001b[36m(pid=3705287)\u001b[0m 2024-03-22 00:14:20.844991: E tensorflow/compiler/xla/stream_executor/cuda/cuda_blas.cc:1518] Unable to register cuBLAS factory: Attempting to register factory for plugin cuBLAS when one has already been registered\n"
     ]
    },
    {
     "name": "stderr",
     "output_type": "stream",
     "text": [
      "\u001b[36m(TrainLightGCN pid=3705287)\u001b[0m /home/daviddavo/upm-tfm-notebooks/.direnv/python-3.9/lib/python3.9/site-packages/recommenders/models/deeprec/DataModel/ImplicitCF.py:73: FutureWarning: The frame.append method is deprecated and will be removed from pandas in a future version. Use pandas.concat instead.\n",
      "\u001b[36m(TrainLightGCN pid=3705287)\u001b[0m   df = train if test is None else train.append(test)\n"
     ]
    },
    {
     "name": "stdout",
     "output_type": "stream",
     "text": [
      "\u001b[36m(TrainLightGCN pid=3705287)\u001b[0m Already create adjacency matrix.\n",
      "\u001b[36m(TrainLightGCN pid=3705287)\u001b[0m Already normalize adjacency matrix.\n",
      "\u001b[36m(TrainLightGCN pid=3705287)\u001b[0m Using xavier initialization.\n"
     ]
    },
    {
     "name": "stderr",
     "output_type": "stream",
     "text": [
      "\u001b[36m(pid=3705451)\u001b[0m 2024-03-22 00:14:26.546581: E tensorflow/compiler/xla/stream_executor/cuda/cuda_dnn.cc:9342] Unable to register cuDNN factory: Attempting to register factory for plugin cuDNN when one has already been registered\n",
      "\u001b[36m(pid=3705451)\u001b[0m 2024-03-22 00:14:26.546627: E tensorflow/compiler/xla/stream_executor/cuda/cuda_fft.cc:609] Unable to register cuFFT factory: Attempting to register factory for plugin cuFFT when one has already been registered\n",
      "\u001b[36m(pid=3705451)\u001b[0m 2024-03-22 00:14:26.546651: E tensorflow/compiler/xla/stream_executor/cuda/cuda_blas.cc:1518] Unable to register cuBLAS factory: Attempting to register factory for plugin cuBLAS when one has already been registered\n"
     ]
    },
    {
     "name": "stderr",
     "output_type": "stream",
     "text": [
      "\u001b[36m(TrainLightGCN pid=3705451)\u001b[0m /home/daviddavo/upm-tfm-notebooks/.direnv/python-3.9/lib/python3.9/site-packages/recommenders/models/deeprec/DataModel/ImplicitCF.py:73: FutureWarning: The frame.append method is deprecated and will be removed from pandas in a future version. Use pandas.concat instead.\n",
      "\u001b[36m(TrainLightGCN pid=3705451)\u001b[0m   df = train if test is None else train.append(test)\n"
     ]
    },
    {
     "name": "stdout",
     "output_type": "stream",
     "text": [
      "\u001b[36m(TrainLightGCN pid=3705451)\u001b[0m Using xavier initialization.\n",
      "\u001b[36m(TrainLightGCN pid=3705451)\u001b[0m Already create adjacency matrix.\n",
      "\u001b[36m(TrainLightGCN pid=3705451)\u001b[0m Already normalize adjacency matrix.\n"
     ]
    },
    {
     "name": "stderr",
     "output_type": "stream",
     "text": [
      "\u001b[36m(pid=3705620)\u001b[0m 2024-03-22 00:14:32.381908: E tensorflow/compiler/xla/stream_executor/cuda/cuda_dnn.cc:9342] Unable to register cuDNN factory: Attempting to register factory for plugin cuDNN when one has already been registered\n",
      "\u001b[36m(pid=3705620)\u001b[0m 2024-03-22 00:14:32.381947: E tensorflow/compiler/xla/stream_executor/cuda/cuda_fft.cc:609] Unable to register cuFFT factory: Attempting to register factory for plugin cuFFT when one has already been registered\n",
      "\u001b[36m(pid=3705620)\u001b[0m 2024-03-22 00:14:32.381963: E tensorflow/compiler/xla/stream_executor/cuda/cuda_blas.cc:1518] Unable to register cuBLAS factory: Attempting to register factory for plugin cuBLAS when one has already been registered\n"
     ]
    },
    {
     "name": "stderr",
     "output_type": "stream",
     "text": [
      "\u001b[36m(TrainLightGCN pid=3705620)\u001b[0m /home/daviddavo/upm-tfm-notebooks/.direnv/python-3.9/lib/python3.9/site-packages/recommenders/models/deeprec/DataModel/ImplicitCF.py:73: FutureWarning: The frame.append method is deprecated and will be removed from pandas in a future version. Use pandas.concat instead.\n",
      "\u001b[36m(TrainLightGCN pid=3705620)\u001b[0m   df = train if test is None else train.append(test)\n"
     ]
    },
    {
     "name": "stdout",
     "output_type": "stream",
     "text": [
      "\u001b[36m(TrainLightGCN pid=3705620)\u001b[0m Already create adjacency matrix.\n",
      "\u001b[36m(TrainLightGCN pid=3705620)\u001b[0m Already normalize adjacency matrix.\n",
      "\u001b[36m(TrainLightGCN pid=3705620)\u001b[0m Using xavier initialization.\n"
     ]
    },
    {
     "name": "stderr",
     "output_type": "stream",
     "text": [
      "\u001b[36m(pid=3705786)\u001b[0m 2024-03-22 00:14:37.958967: E tensorflow/compiler/xla/stream_executor/cuda/cuda_dnn.cc:9342] Unable to register cuDNN factory: Attempting to register factory for plugin cuDNN when one has already been registered\n",
      "\u001b[36m(pid=3705786)\u001b[0m 2024-03-22 00:14:37.959007: E tensorflow/compiler/xla/stream_executor/cuda/cuda_fft.cc:609] Unable to register cuFFT factory: Attempting to register factory for plugin cuFFT when one has already been registered\n",
      "\u001b[36m(pid=3705786)\u001b[0m 2024-03-22 00:14:37.959021: E tensorflow/compiler/xla/stream_executor/cuda/cuda_blas.cc:1518] Unable to register cuBLAS factory: Attempting to register factory for plugin cuBLAS when one has already been registered\n"
     ]
    },
    {
     "name": "stderr",
     "output_type": "stream",
     "text": [
      "\u001b[36m(TrainLightGCN pid=3705786)\u001b[0m /home/daviddavo/upm-tfm-notebooks/.direnv/python-3.9/lib/python3.9/site-packages/recommenders/models/deeprec/DataModel/ImplicitCF.py:73: FutureWarning: The frame.append method is deprecated and will be removed from pandas in a future version. Use pandas.concat instead.\n",
      "\u001b[36m(TrainLightGCN pid=3705786)\u001b[0m   df = train if test is None else train.append(test)\n"
     ]
    },
    {
     "name": "stdout",
     "output_type": "stream",
     "text": [
      "\u001b[36m(TrainLightGCN pid=3705786)\u001b[0m Already create adjacency matrix.\n",
      "\u001b[36m(TrainLightGCN pid=3705786)\u001b[0m Already normalize adjacency matrix.\n",
      "\u001b[36m(TrainLightGCN pid=3705786)\u001b[0m Using xavier initialization.\n"
     ]
    },
    {
     "name": "stderr",
     "output_type": "stream",
     "text": [
      "\u001b[36m(pid=3705953)\u001b[0m 2024-03-22 00:14:43.694303: E tensorflow/compiler/xla/stream_executor/cuda/cuda_dnn.cc:9342] Unable to register cuDNN factory: Attempting to register factory for plugin cuDNN when one has already been registered\n",
      "\u001b[36m(pid=3705953)\u001b[0m 2024-03-22 00:14:43.694351: E tensorflow/compiler/xla/stream_executor/cuda/cuda_fft.cc:609] Unable to register cuFFT factory: Attempting to register factory for plugin cuFFT when one has already been registered\n",
      "\u001b[36m(pid=3705953)\u001b[0m 2024-03-22 00:14:43.694376: E tensorflow/compiler/xla/stream_executor/cuda/cuda_blas.cc:1518] Unable to register cuBLAS factory: Attempting to register factory for plugin cuBLAS when one has already been registered\n"
     ]
    },
    {
     "name": "stderr",
     "output_type": "stream",
     "text": [
      "\u001b[36m(TrainLightGCN pid=3703780)\u001b[0m Checkpoint successfully created at: Checkpoint(filesystem=local, path=/home/daviddavo/ray_results/LightGCN_optim=map@10,dao=DEAD FoundationsDAO,freq=2d,normalize=True,cutoff_date=2021-11-28T00:00:00,fold=9_2024-03-22T00:12:53.923224/TrainLightGCN_4ce5e617_10_batch_size=9,conv_layers=4,embedding_dim=114,fold=9,l2=0.0005,learning_rate=0.0001_2024-03-22_00-13-32/checkpoint_000000)\n"
     ]
    },
    {
     "name": "stderr",
     "output_type": "stream",
     "text": [
      "\u001b[36m(TrainLightGCN pid=3705953)\u001b[0m /home/daviddavo/upm-tfm-notebooks/.direnv/python-3.9/lib/python3.9/site-packages/recommenders/models/deeprec/DataModel/ImplicitCF.py:73: FutureWarning: The frame.append method is deprecated and will be removed from pandas in a future version. Use pandas.concat instead.\n",
      "\u001b[36m(TrainLightGCN pid=3705953)\u001b[0m   df = train if test is None else train.append(test)\n"
     ]
    },
    {
     "name": "stdout",
     "output_type": "stream",
     "text": [
      "\u001b[36m(TrainLightGCN pid=3705953)\u001b[0m Already create adjacency matrix.\n",
      "\u001b[36m(TrainLightGCN pid=3705953)\u001b[0m Already normalize adjacency matrix.\n",
      "\u001b[36m(TrainLightGCN pid=3705953)\u001b[0m Using xavier initialization.\n"
     ]
    },
    {
     "name": "stderr",
     "output_type": "stream",
     "text": [
      "\u001b[36m(pid=3706131)\u001b[0m 2024-03-22 00:14:49.899021: E tensorflow/compiler/xla/stream_executor/cuda/cuda_dnn.cc:9342] Unable to register cuDNN factory: Attempting to register factory for plugin cuDNN when one has already been registered\n",
      "\u001b[36m(pid=3706131)\u001b[0m 2024-03-22 00:14:49.899064: E tensorflow/compiler/xla/stream_executor/cuda/cuda_fft.cc:609] Unable to register cuFFT factory: Attempting to register factory for plugin cuFFT when one has already been registered\n",
      "\u001b[36m(pid=3706131)\u001b[0m 2024-03-22 00:14:49.899082: E tensorflow/compiler/xla/stream_executor/cuda/cuda_blas.cc:1518] Unable to register cuBLAS factory: Attempting to register factory for plugin cuBLAS when one has already been registered\n"
     ]
    },
    {
     "name": "stderr",
     "output_type": "stream",
     "text": [
      "\u001b[36m(TrainLightGCN pid=3706131)\u001b[0m /home/daviddavo/upm-tfm-notebooks/.direnv/python-3.9/lib/python3.9/site-packages/recommenders/models/deeprec/DataModel/ImplicitCF.py:73: FutureWarning: The frame.append method is deprecated and will be removed from pandas in a future version. Use pandas.concat instead.\n",
      "\u001b[36m(TrainLightGCN pid=3706131)\u001b[0m   df = train if test is None else train.append(test)\n"
     ]
    },
    {
     "name": "stdout",
     "output_type": "stream",
     "text": [
      "\u001b[36m(TrainLightGCN pid=3706131)\u001b[0m Already create adjacency matrix.\n",
      "\u001b[36m(TrainLightGCN pid=3706131)\u001b[0m Already normalize adjacency matrix.\n",
      "\u001b[36m(TrainLightGCN pid=3706131)\u001b[0m Using xavier initialization.\n"
     ]
    },
    {
     "name": "stderr",
     "output_type": "stream",
     "text": [
      "\u001b[36m(TrainLightGCN pid=3704789)\u001b[0m Checkpoint successfully created at: Checkpoint(filesystem=local, path=/home/daviddavo/ray_results/LightGCN_optim=map@10,dao=DEAD FoundationsDAO,freq=2d,normalize=True,cutoff_date=2021-11-28T00:00:00,fold=9_2024-03-22T00:12:53.923224/TrainLightGCN_792e6423_16_batch_size=9,conv_layers=2,embedding_dim=8,fold=9,l2=0.0010,learning_rate=0.0201_2024-03-22_00-14-02/checkpoint_000000)\n"
     ]
    },
    {
     "name": "stderr",
     "output_type": "stream",
     "text": [
      "\u001b[36m(pid=3706469)\u001b[0m 2024-03-22 00:15:43.705614: E tensorflow/compiler/xla/stream_executor/cuda/cuda_dnn.cc:9342] Unable to register cuDNN factory: Attempting to register factory for plugin cuDNN when one has already been registered\n",
      "\u001b[36m(pid=3706469)\u001b[0m 2024-03-22 00:15:43.705655: E tensorflow/compiler/xla/stream_executor/cuda/cuda_fft.cc:609] Unable to register cuFFT factory: Attempting to register factory for plugin cuFFT when one has already been registered\n",
      "\u001b[36m(pid=3706469)\u001b[0m 2024-03-22 00:15:43.705674: E tensorflow/compiler/xla/stream_executor/cuda/cuda_blas.cc:1518] Unable to register cuBLAS factory: Attempting to register factory for plugin cuBLAS when one has already been registered\n"
     ]
    },
    {
     "name": "stderr",
     "output_type": "stream",
     "text": [
      "\u001b[36m(TrainLightGCN pid=3706469)\u001b[0m /home/daviddavo/upm-tfm-notebooks/.direnv/python-3.9/lib/python3.9/site-packages/recommenders/models/deeprec/DataModel/ImplicitCF.py:73: FutureWarning: The frame.append method is deprecated and will be removed from pandas in a future version. Use pandas.concat instead.\n",
      "\u001b[36m(TrainLightGCN pid=3706469)\u001b[0m   df = train if test is None else train.append(test)\n"
     ]
    },
    {
     "name": "stdout",
     "output_type": "stream",
     "text": [
      "\u001b[36m(TrainLightGCN pid=3706469)\u001b[0m Already create adjacency matrix.\n",
      "\u001b[36m(TrainLightGCN pid=3706469)\u001b[0m Already normalize adjacency matrix.\n",
      "\u001b[36m(TrainLightGCN pid=3706469)\u001b[0m Using xavier initialization.\n"
     ]
    },
    {
     "name": "stderr",
     "output_type": "stream",
     "text": [
      "\u001b[36m(TrainLightGCN pid=3703451)\u001b[0m Checkpoint successfully created at: Checkpoint(filesystem=local, path=/home/daviddavo/ray_results/LightGCN_optim=map@10,dao=DEAD FoundationsDAO,freq=2d,normalize=True,cutoff_date=2021-11-28T00:00:00,fold=9_2024-03-22T00:12:53.923224/TrainLightGCN_3a123f3b_8_batch_size=8,conv_layers=4,embedding_dim=412,fold=9,l2=0.0041,learning_rate=0.0014_2024-03-22_00-13-22/checkpoint_000000)\n"
     ]
    },
    {
     "name": "stderr",
     "output_type": "stream",
     "text": [
      "\u001b[36m(pid=3706665)\u001b[0m 2024-03-22 00:15:57.140679: E tensorflow/compiler/xla/stream_executor/cuda/cuda_dnn.cc:9342] Unable to register cuDNN factory: Attempting to register factory for plugin cuDNN when one has already been registered\n",
      "\u001b[36m(pid=3706665)\u001b[0m 2024-03-22 00:15:57.140720: E tensorflow/compiler/xla/stream_executor/cuda/cuda_fft.cc:609] Unable to register cuFFT factory: Attempting to register factory for plugin cuFFT when one has already been registered\n",
      "\u001b[36m(pid=3706665)\u001b[0m 2024-03-22 00:15:57.140736: E tensorflow/compiler/xla/stream_executor/cuda/cuda_blas.cc:1518] Unable to register cuBLAS factory: Attempting to register factory for plugin cuBLAS when one has already been registered\n"
     ]
    },
    {
     "name": "stderr",
     "output_type": "stream",
     "text": [
      "\u001b[36m(TrainLightGCN pid=3706665)\u001b[0m /home/daviddavo/upm-tfm-notebooks/.direnv/python-3.9/lib/python3.9/site-packages/recommenders/models/deeprec/DataModel/ImplicitCF.py:73: FutureWarning: The frame.append method is deprecated and will be removed from pandas in a future version. Use pandas.concat instead.\n",
      "\u001b[36m(TrainLightGCN pid=3706665)\u001b[0m   df = train if test is None else train.append(test)\n"
     ]
    },
    {
     "name": "stdout",
     "output_type": "stream",
     "text": [
      "\u001b[36m(TrainLightGCN pid=3706665)\u001b[0m Already create adjacency matrix.\n",
      "\u001b[36m(TrainLightGCN pid=3706665)\u001b[0m Already normalize adjacency matrix.\n",
      "\u001b[36m(TrainLightGCN pid=3706665)\u001b[0m Using xavier initialization.\n"
     ]
    },
    {
     "name": "stderr",
     "output_type": "stream",
     "text": [
      "\u001b[36m(TrainLightGCN pid=3705287)\u001b[0m Checkpoint successfully created at: Checkpoint(filesystem=local, path=/home/daviddavo/ray_results/LightGCN_optim=map@10,dao=DEAD FoundationsDAO,freq=2d,normalize=True,cutoff_date=2021-11-28T00:00:00,fold=9_2024-03-22T00:12:53.923224/TrainLightGCN_4de7687b_19_batch_size=9,conv_layers=4,embedding_dim=47,fold=9,l2=0.0000,learning_rate=0.0763_2024-03-22_00-14-19/checkpoint_000000)\n"
     ]
    },
    {
     "name": "stderr",
     "output_type": "stream",
     "text": [
      "\u001b[36m(pid=3706860)\u001b[0m 2024-03-22 00:16:10.046608: E tensorflow/compiler/xla/stream_executor/cuda/cuda_dnn.cc:9342] Unable to register cuDNN factory: Attempting to register factory for plugin cuDNN when one has already been registered\n",
      "\u001b[36m(pid=3706860)\u001b[0m 2024-03-22 00:16:10.046658: E tensorflow/compiler/xla/stream_executor/cuda/cuda_fft.cc:609] Unable to register cuFFT factory: Attempting to register factory for plugin cuFFT when one has already been registered\n",
      "\u001b[36m(pid=3706860)\u001b[0m 2024-03-22 00:16:10.046679: E tensorflow/compiler/xla/stream_executor/cuda/cuda_blas.cc:1518] Unable to register cuBLAS factory: Attempting to register factory for plugin cuBLAS when one has already been registered\n"
     ]
    },
    {
     "name": "stderr",
     "output_type": "stream",
     "text": [
      "\u001b[36m(TrainLightGCN pid=3706860)\u001b[0m /home/daviddavo/upm-tfm-notebooks/.direnv/python-3.9/lib/python3.9/site-packages/recommenders/models/deeprec/DataModel/ImplicitCF.py:73: FutureWarning: The frame.append method is deprecated and will be removed from pandas in a future version. Use pandas.concat instead.\n",
      "\u001b[36m(TrainLightGCN pid=3706860)\u001b[0m   df = train if test is None else train.append(test)\n"
     ]
    },
    {
     "name": "stdout",
     "output_type": "stream",
     "text": [
      "\u001b[36m(TrainLightGCN pid=3706860)\u001b[0m Already create adjacency matrix.\n",
      "\u001b[36m(TrainLightGCN pid=3706860)\u001b[0m Already normalize adjacency matrix.\n",
      "\u001b[36m(TrainLightGCN pid=3706860)\u001b[0m Using xavier initialization.\n"
     ]
    },
    {
     "name": "stderr",
     "output_type": "stream",
     "text": [
      "\u001b[36m(TrainLightGCN pid=3705620)\u001b[0m Checkpoint successfully created at: Checkpoint(filesystem=local, path=/home/daviddavo/ray_results/LightGCN_optim=map@10,dao=DEAD FoundationsDAO,freq=2d,normalize=True,cutoff_date=2021-11-28T00:00:00,fold=9_2024-03-22T00:12:53.923224/TrainLightGCN_b0959527_21_batch_size=9,conv_layers=5,embedding_dim=19,fold=9,l2=0.0001,learning_rate=0.1450_2024-03-22_00-14-31/checkpoint_000000)\n"
     ]
    },
    {
     "name": "stderr",
     "output_type": "stream",
     "text": [
      "\u001b[36m(pid=3707066)\u001b[0m 2024-03-22 00:16:26.861055: E tensorflow/compiler/xla/stream_executor/cuda/cuda_dnn.cc:9342] Unable to register cuDNN factory: Attempting to register factory for plugin cuDNN when one has already been registered\n",
      "\u001b[36m(pid=3707066)\u001b[0m 2024-03-22 00:16:26.861105: E tensorflow/compiler/xla/stream_executor/cuda/cuda_fft.cc:609] Unable to register cuFFT factory: Attempting to register factory for plugin cuFFT when one has already been registered\n",
      "\u001b[36m(pid=3707066)\u001b[0m 2024-03-22 00:16:26.861131: E tensorflow/compiler/xla/stream_executor/cuda/cuda_blas.cc:1518] Unable to register cuBLAS factory: Attempting to register factory for plugin cuBLAS when one has already been registered\n"
     ]
    },
    {
     "name": "stderr",
     "output_type": "stream",
     "text": [
      "\u001b[36m(TrainLightGCN pid=3707066)\u001b[0m /home/daviddavo/upm-tfm-notebooks/.direnv/python-3.9/lib/python3.9/site-packages/recommenders/models/deeprec/DataModel/ImplicitCF.py:73: FutureWarning: The frame.append method is deprecated and will be removed from pandas in a future version. Use pandas.concat instead.\n",
      "\u001b[36m(TrainLightGCN pid=3707066)\u001b[0m   df = train if test is None else train.append(test)\n"
     ]
    },
    {
     "name": "stdout",
     "output_type": "stream",
     "text": [
      "\u001b[36m(TrainLightGCN pid=3707066)\u001b[0m Already create adjacency matrix.\n",
      "\u001b[36m(TrainLightGCN pid=3707066)\u001b[0m Already normalize adjacency matrix.\n",
      "\u001b[36m(TrainLightGCN pid=3707066)\u001b[0m Using xavier initialization.\n"
     ]
    },
    {
     "name": "stderr",
     "output_type": "stream",
     "text": [
      "\u001b[36m(TrainLightGCN pid=3705953)\u001b[0m Checkpoint successfully created at: Checkpoint(filesystem=local, path=/home/daviddavo/ray_results/LightGCN_optim=map@10,dao=DEAD FoundationsDAO,freq=2d,normalize=True,cutoff_date=2021-11-28T00:00:00,fold=9_2024-03-22T00:12:53.923224/TrainLightGCN_8e197d31_23_batch_size=9,conv_layers=5,embedding_dim=2,fold=9,l2=0.0000,learning_rate=0.0282_2024-03-22_00-14-42/checkpoint_000000)\n"
     ]
    },
    {
     "name": "stderr",
     "output_type": "stream",
     "text": [
      "\u001b[36m(pid=3707268)\u001b[0m 2024-03-22 00:16:41.730956: E tensorflow/compiler/xla/stream_executor/cuda/cuda_dnn.cc:9342] Unable to register cuDNN factory: Attempting to register factory for plugin cuDNN when one has already been registered\n",
      "\u001b[36m(pid=3707268)\u001b[0m 2024-03-22 00:16:41.731002: E tensorflow/compiler/xla/stream_executor/cuda/cuda_fft.cc:609] Unable to register cuFFT factory: Attempting to register factory for plugin cuFFT when one has already been registered\n",
      "\u001b[36m(pid=3707268)\u001b[0m 2024-03-22 00:16:41.731027: E tensorflow/compiler/xla/stream_executor/cuda/cuda_blas.cc:1518] Unable to register cuBLAS factory: Attempting to register factory for plugin cuBLAS when one has already been registered\n"
     ]
    },
    {
     "name": "stderr",
     "output_type": "stream",
     "text": [
      "\u001b[36m(TrainLightGCN pid=3707268)\u001b[0m /home/daviddavo/upm-tfm-notebooks/.direnv/python-3.9/lib/python3.9/site-packages/recommenders/models/deeprec/DataModel/ImplicitCF.py:73: FutureWarning: The frame.append method is deprecated and will be removed from pandas in a future version. Use pandas.concat instead.\n",
      "\u001b[36m(TrainLightGCN pid=3707268)\u001b[0m   df = train if test is None else train.append(test)\n"
     ]
    },
    {
     "name": "stdout",
     "output_type": "stream",
     "text": [
      "\u001b[36m(TrainLightGCN pid=3707268)\u001b[0m Already create adjacency matrix.\n",
      "\u001b[36m(TrainLightGCN pid=3707268)\u001b[0m Already normalize adjacency matrix.\n",
      "\u001b[36m(TrainLightGCN pid=3707268)\u001b[0m Using xavier initialization.\n"
     ]
    },
    {
     "name": "stderr",
     "output_type": "stream",
     "text": [
      "\u001b[36m(TrainLightGCN pid=3704446)\u001b[0m Checkpoint successfully created at: Checkpoint(filesystem=local, path=/home/daviddavo/ray_results/LightGCN_optim=map@10,dao=DEAD FoundationsDAO,freq=2d,normalize=True,cutoff_date=2021-11-28T00:00:00,fold=9_2024-03-22T00:12:53.923224/TrainLightGCN_3cc67d7b_14_batch_size=8,conv_layers=4,embedding_dim=87,fold=9,l2=0.0000,learning_rate=0.0004_2024-03-22_00-13-51/checkpoint_000000)\n"
     ]
    },
    {
     "name": "stderr",
     "output_type": "stream",
     "text": [
      "\u001b[36m(pid=3707498)\u001b[0m 2024-03-22 00:17:05.862927: E tensorflow/compiler/xla/stream_executor/cuda/cuda_dnn.cc:9342] Unable to register cuDNN factory: Attempting to register factory for plugin cuDNN when one has already been registered\n",
      "\u001b[36m(pid=3707498)\u001b[0m 2024-03-22 00:17:05.862965: E tensorflow/compiler/xla/stream_executor/cuda/cuda_fft.cc:609] Unable to register cuFFT factory: Attempting to register factory for plugin cuFFT when one has already been registered\n",
      "\u001b[36m(pid=3707498)\u001b[0m 2024-03-22 00:17:05.862981: E tensorflow/compiler/xla/stream_executor/cuda/cuda_blas.cc:1518] Unable to register cuBLAS factory: Attempting to register factory for plugin cuBLAS when one has already been registered\n"
     ]
    },
    {
     "name": "stderr",
     "output_type": "stream",
     "text": [
      "\u001b[36m(TrainLightGCN pid=3707498)\u001b[0m /home/daviddavo/upm-tfm-notebooks/.direnv/python-3.9/lib/python3.9/site-packages/recommenders/models/deeprec/DataModel/ImplicitCF.py:73: FutureWarning: The frame.append method is deprecated and will be removed from pandas in a future version. Use pandas.concat instead.\n",
      "\u001b[36m(TrainLightGCN pid=3707498)\u001b[0m   df = train if test is None else train.append(test)\n"
     ]
    },
    {
     "name": "stdout",
     "output_type": "stream",
     "text": [
      "\u001b[36m(TrainLightGCN pid=3707498)\u001b[0m Already create adjacency matrix.\n",
      "\u001b[36m(TrainLightGCN pid=3707498)\u001b[0m Already normalize adjacency matrix.\n",
      "\u001b[36m(TrainLightGCN pid=3707498)\u001b[0m Using xavier initialization.\n"
     ]
    },
    {
     "name": "stderr",
     "output_type": "stream",
     "text": [
      "\u001b[36m(TrainLightGCN pid=3704621)\u001b[0m Checkpoint successfully created at: Checkpoint(filesystem=local, path=/home/daviddavo/ray_results/LightGCN_optim=map@10,dao=DEAD FoundationsDAO,freq=2d,normalize=True,cutoff_date=2021-11-28T00:00:00,fold=9_2024-03-22T00:12:53.923224/TrainLightGCN_1e0b38ee_15_batch_size=8,conv_layers=5,embedding_dim=75,fold=9,l2=0.0000,learning_rate=0.0003_2024-03-22_00-13-56/checkpoint_000000)\n"
     ]
    },
    {
     "name": "stderr",
     "output_type": "stream",
     "text": [
      "\u001b[36m(pid=3707694)\u001b[0m 2024-03-22 00:17:20.058388: E tensorflow/compiler/xla/stream_executor/cuda/cuda_dnn.cc:9342] Unable to register cuDNN factory: Attempting to register factory for plugin cuDNN when one has already been registered\n",
      "\u001b[36m(pid=3707694)\u001b[0m 2024-03-22 00:17:20.058425: E tensorflow/compiler/xla/stream_executor/cuda/cuda_fft.cc:609] Unable to register cuFFT factory: Attempting to register factory for plugin cuFFT when one has already been registered\n",
      "\u001b[36m(pid=3707694)\u001b[0m 2024-03-22 00:17:20.058442: E tensorflow/compiler/xla/stream_executor/cuda/cuda_blas.cc:1518] Unable to register cuBLAS factory: Attempting to register factory for plugin cuBLAS when one has already been registered\n"
     ]
    },
    {
     "name": "stderr",
     "output_type": "stream",
     "text": [
      "\u001b[36m(TrainLightGCN pid=3707694)\u001b[0m /home/daviddavo/upm-tfm-notebooks/.direnv/python-3.9/lib/python3.9/site-packages/recommenders/models/deeprec/DataModel/ImplicitCF.py:73: FutureWarning: The frame.append method is deprecated and will be removed from pandas in a future version. Use pandas.concat instead.\n",
      "\u001b[36m(TrainLightGCN pid=3707694)\u001b[0m   df = train if test is None else train.append(test)\n"
     ]
    },
    {
     "name": "stdout",
     "output_type": "stream",
     "text": [
      "\u001b[36m(TrainLightGCN pid=3707694)\u001b[0m Already create adjacency matrix.\n",
      "\u001b[36m(TrainLightGCN pid=3707694)\u001b[0m Already normalize adjacency matrix.\n",
      "\u001b[36m(TrainLightGCN pid=3707694)\u001b[0m Using xavier initialization.\n"
     ]
    },
    {
     "name": "stderr",
     "output_type": "stream",
     "text": [
      "\u001b[36m(TrainLightGCN pid=3706469)\u001b[0m Checkpoint successfully created at: Checkpoint(filesystem=local, path=/home/daviddavo/ray_results/LightGCN_optim=map@10,dao=DEAD FoundationsDAO,freq=2d,normalize=True,cutoff_date=2021-11-28T00:00:00,fold=9_2024-03-22T00:12:53.923224/TrainLightGCN_5bfc49b1_25_batch_size=9,conv_layers=5,embedding_dim=110,fold=9,l2=0.0002,learning_rate=0.0001_2024-03-22_00-14-55/checkpoint_000000)\n"
     ]
    },
    {
     "name": "stderr",
     "output_type": "stream",
     "text": [
      "\u001b[36m(pid=3707959)\u001b[0m 2024-03-22 00:17:57.056703: E tensorflow/compiler/xla/stream_executor/cuda/cuda_dnn.cc:9342] Unable to register cuDNN factory: Attempting to register factory for plugin cuDNN when one has already been registered\n",
      "\u001b[36m(pid=3707959)\u001b[0m 2024-03-22 00:17:57.056756: E tensorflow/compiler/xla/stream_executor/cuda/cuda_fft.cc:609] Unable to register cuFFT factory: Attempting to register factory for plugin cuFFT when one has already been registered\n",
      "\u001b[36m(pid=3707959)\u001b[0m 2024-03-22 00:17:57.056780: E tensorflow/compiler/xla/stream_executor/cuda/cuda_blas.cc:1518] Unable to register cuBLAS factory: Attempting to register factory for plugin cuBLAS when one has already been registered\n"
     ]
    },
    {
     "name": "stderr",
     "output_type": "stream",
     "text": [
      "\u001b[36m(TrainLightGCN pid=3707959)\u001b[0m /home/daviddavo/upm-tfm-notebooks/.direnv/python-3.9/lib/python3.9/site-packages/recommenders/models/deeprec/DataModel/ImplicitCF.py:73: FutureWarning: The frame.append method is deprecated and will be removed from pandas in a future version. Use pandas.concat instead.\n",
      "\u001b[36m(TrainLightGCN pid=3707959)\u001b[0m   df = train if test is None else train.append(test)\n"
     ]
    },
    {
     "name": "stdout",
     "output_type": "stream",
     "text": [
      "\u001b[36m(TrainLightGCN pid=3707959)\u001b[0m Already create adjacency matrix.\n",
      "\u001b[36m(TrainLightGCN pid=3707959)\u001b[0m Already normalize adjacency matrix.\n",
      "\u001b[36m(TrainLightGCN pid=3707959)\u001b[0m Using xavier initialization.\n"
     ]
    },
    {
     "name": "stderr",
     "output_type": "stream",
     "text": [
      "\u001b[36m(TrainLightGCN pid=3702804)\u001b[0m Checkpoint successfully created at: Checkpoint(filesystem=local, path=/home/daviddavo/ray_results/LightGCN_optim=map@10,dao=DEAD FoundationsDAO,freq=2d,normalize=True,cutoff_date=2021-11-28T00:00:00,fold=9_2024-03-22T00:12:53.923224/TrainLightGCN_6659a6bf_4_batch_size=7,conv_layers=4,embedding_dim=306,fold=9,l2=0.0000,learning_rate=0.0065_2024-03-22_00-13-05/checkpoint_000000)\n"
     ]
    },
    {
     "name": "stderr",
     "output_type": "stream",
     "text": [
      "\u001b[36m(pid=3708172)\u001b[0m 2024-03-22 00:18:16.083054: E tensorflow/compiler/xla/stream_executor/cuda/cuda_dnn.cc:9342] Unable to register cuDNN factory: Attempting to register factory for plugin cuDNN when one has already been registered\n",
      "\u001b[36m(pid=3708172)\u001b[0m 2024-03-22 00:18:16.083106: E tensorflow/compiler/xla/stream_executor/cuda/cuda_fft.cc:609] Unable to register cuFFT factory: Attempting to register factory for plugin cuFFT when one has already been registered\n",
      "\u001b[36m(pid=3708172)\u001b[0m 2024-03-22 00:18:16.083131: E tensorflow/compiler/xla/stream_executor/cuda/cuda_blas.cc:1518] Unable to register cuBLAS factory: Attempting to register factory for plugin cuBLAS when one has already been registered\n"
     ]
    },
    {
     "name": "stderr",
     "output_type": "stream",
     "text": [
      "\u001b[36m(TrainLightGCN pid=3708172)\u001b[0m /home/daviddavo/upm-tfm-notebooks/.direnv/python-3.9/lib/python3.9/site-packages/recommenders/models/deeprec/DataModel/ImplicitCF.py:73: FutureWarning: The frame.append method is deprecated and will be removed from pandas in a future version. Use pandas.concat instead.\n",
      "\u001b[36m(TrainLightGCN pid=3708172)\u001b[0m   df = train if test is None else train.append(test)\n"
     ]
    },
    {
     "name": "stdout",
     "output_type": "stream",
     "text": [
      "\u001b[36m(TrainLightGCN pid=3708172)\u001b[0m Already create adjacency matrix.\n",
      "\u001b[36m(TrainLightGCN pid=3708172)\u001b[0m Already normalize adjacency matrix.\n",
      "\u001b[36m(TrainLightGCN pid=3708172)\u001b[0m Using xavier initialization.\n"
     ]
    },
    {
     "name": "stderr",
     "output_type": "stream",
     "text": [
      "\u001b[36m(TrainLightGCN pid=3702966)\u001b[0m Checkpoint successfully created at: Checkpoint(filesystem=local, path=/home/daviddavo/ray_results/LightGCN_optim=map@10,dao=DEAD FoundationsDAO,freq=2d,normalize=True,cutoff_date=2021-11-28T00:00:00,fold=9_2024-03-22T00:12:53.923224/TrainLightGCN_c3eff8f9_5_batch_size=7,conv_layers=3,embedding_dim=217,fold=9,l2=0.0000,learning_rate=0.0005_2024-03-22_00-13-09/checkpoint_000000)\n"
     ]
    },
    {
     "name": "stderr",
     "output_type": "stream",
     "text": [
      "\u001b[36m(pid=3708381)\u001b[0m 2024-03-22 00:18:30.995668: E tensorflow/compiler/xla/stream_executor/cuda/cuda_dnn.cc:9342] Unable to register cuDNN factory: Attempting to register factory for plugin cuDNN when one has already been registered\n",
      "\u001b[36m(pid=3708381)\u001b[0m 2024-03-22 00:18:30.995710: E tensorflow/compiler/xla/stream_executor/cuda/cuda_fft.cc:609] Unable to register cuFFT factory: Attempting to register factory for plugin cuFFT when one has already been registered\n",
      "\u001b[36m(pid=3708381)\u001b[0m 2024-03-22 00:18:30.995732: E tensorflow/compiler/xla/stream_executor/cuda/cuda_blas.cc:1518] Unable to register cuBLAS factory: Attempting to register factory for plugin cuBLAS when one has already been registered\n"
     ]
    },
    {
     "name": "stderr",
     "output_type": "stream",
     "text": [
      "\u001b[36m(TrainLightGCN pid=3708381)\u001b[0m /home/daviddavo/upm-tfm-notebooks/.direnv/python-3.9/lib/python3.9/site-packages/recommenders/models/deeprec/DataModel/ImplicitCF.py:73: FutureWarning: The frame.append method is deprecated and will be removed from pandas in a future version. Use pandas.concat instead.\n",
      "\u001b[36m(TrainLightGCN pid=3708381)\u001b[0m   df = train if test is None else train.append(test)\n"
     ]
    },
    {
     "name": "stdout",
     "output_type": "stream",
     "text": [
      "\u001b[36m(TrainLightGCN pid=3708381)\u001b[0m Using xavier initialization.\n",
      "\u001b[36m(TrainLightGCN pid=3708381)\u001b[0m Already create adjacency matrix.\n",
      "\u001b[36m(TrainLightGCN pid=3708381)\u001b[0m Already normalize adjacency matrix.\n"
     ]
    },
    {
     "name": "stderr",
     "output_type": "stream",
     "text": [
      "\u001b[36m(TrainLightGCN pid=3703290)\u001b[0m Checkpoint successfully created at: Checkpoint(filesystem=local, path=/home/daviddavo/ray_results/LightGCN_optim=map@10,dao=DEAD FoundationsDAO,freq=2d,normalize=True,cutoff_date=2021-11-28T00:00:00,fold=9_2024-03-22T00:12:53.923224/TrainLightGCN_cc8914c9_7_batch_size=7,conv_layers=3,embedding_dim=4,fold=9,l2=0.0011,learning_rate=0.0002_2024-03-22_00-13-18/checkpoint_000000)\u001b[32m [repeated 3x across cluster]\u001b[0m\n"
     ]
    },
    {
     "name": "stderr",
     "output_type": "stream",
     "text": [
      "\u001b[36m(pid=3708530)\u001b[0m 2024-03-22 00:18:37.066364: E tensorflow/compiler/xla/stream_executor/cuda/cuda_dnn.cc:9342] Unable to register cuDNN factory: Attempting to register factory for plugin cuDNN when one has already been registered\n",
      "\u001b[36m(pid=3708530)\u001b[0m 2024-03-22 00:18:37.066406: E tensorflow/compiler/xla/stream_executor/cuda/cuda_fft.cc:609] Unable to register cuFFT factory: Attempting to register factory for plugin cuFFT when one has already been registered\n",
      "\u001b[36m(pid=3708530)\u001b[0m 2024-03-22 00:18:37.066424: E tensorflow/compiler/xla/stream_executor/cuda/cuda_blas.cc:1518] Unable to register cuBLAS factory: Attempting to register factory for plugin cuBLAS when one has already been registered\n"
     ]
    },
    {
     "name": "stderr",
     "output_type": "stream",
     "text": [
      "\u001b[36m(TrainLightGCN pid=3708530)\u001b[0m /home/daviddavo/upm-tfm-notebooks/.direnv/python-3.9/lib/python3.9/site-packages/recommenders/models/deeprec/DataModel/ImplicitCF.py:73: FutureWarning: The frame.append method is deprecated and will be removed from pandas in a future version. Use pandas.concat instead.\n",
      "\u001b[36m(TrainLightGCN pid=3708530)\u001b[0m   df = train if test is None else train.append(test)\n"
     ]
    },
    {
     "name": "stdout",
     "output_type": "stream",
     "text": [
      "\u001b[36m(TrainLightGCN pid=3708530)\u001b[0m Already create adjacency matrix.\n",
      "\u001b[36m(TrainLightGCN pid=3708530)\u001b[0m Already normalize adjacency matrix.\n",
      "\u001b[36m(TrainLightGCN pid=3708530)\u001b[0m Using xavier initialization.\n"
     ]
    },
    {
     "name": "stderr",
     "output_type": "stream",
     "text": [
      "\u001b[36m(TrainLightGCN pid=3703617)\u001b[0m Checkpoint successfully created at: Checkpoint(filesystem=local, path=/home/daviddavo/ray_results/LightGCN_optim=map@10,dao=DEAD FoundationsDAO,freq=2d,normalize=True,cutoff_date=2021-11-28T00:00:00,fold=9_2024-03-22T00:12:53.923224/TrainLightGCN_a600005d_9_batch_size=6,conv_layers=1,embedding_dim=206,fold=9,l2=0.0000,learning_rate=0.0085_2024-03-22_00-13-27/checkpoint_000000)\n"
     ]
    },
    {
     "name": "stderr",
     "output_type": "stream",
     "text": [
      "\u001b[36m(pid=3708704)\u001b[0m 2024-03-22 00:18:43.037152: E tensorflow/compiler/xla/stream_executor/cuda/cuda_dnn.cc:9342] Unable to register cuDNN factory: Attempting to register factory for plugin cuDNN when one has already been registered\n",
      "\u001b[36m(pid=3708704)\u001b[0m 2024-03-22 00:18:43.037187: E tensorflow/compiler/xla/stream_executor/cuda/cuda_fft.cc:609] Unable to register cuFFT factory: Attempting to register factory for plugin cuFFT when one has already been registered\n",
      "\u001b[36m(pid=3708704)\u001b[0m 2024-03-22 00:18:43.037205: E tensorflow/compiler/xla/stream_executor/cuda/cuda_blas.cc:1518] Unable to register cuBLAS factory: Attempting to register factory for plugin cuBLAS when one has already been registered\n"
     ]
    },
    {
     "name": "stderr",
     "output_type": "stream",
     "text": [
      "\u001b[36m(TrainLightGCN pid=3708704)\u001b[0m /home/daviddavo/upm-tfm-notebooks/.direnv/python-3.9/lib/python3.9/site-packages/recommenders/models/deeprec/DataModel/ImplicitCF.py:73: FutureWarning: The frame.append method is deprecated and will be removed from pandas in a future version. Use pandas.concat instead.\n",
      "\u001b[36m(TrainLightGCN pid=3708704)\u001b[0m   df = train if test is None else train.append(test)\n"
     ]
    },
    {
     "name": "stdout",
     "output_type": "stream",
     "text": [
      "\u001b[36m(TrainLightGCN pid=3708704)\u001b[0m Already create adjacency matrix.\n",
      "\u001b[36m(TrainLightGCN pid=3708704)\u001b[0m Already normalize adjacency matrix.\n",
      "\u001b[36m(TrainLightGCN pid=3708704)\u001b[0m Using xavier initialization.\n"
     ]
    },
    {
     "name": "stderr",
     "output_type": "stream",
     "text": [
      "\u001b[36m(pid=3708876)\u001b[0m 2024-03-22 00:18:49.066117: E tensorflow/compiler/xla/stream_executor/cuda/cuda_dnn.cc:9342] Unable to register cuDNN factory: Attempting to register factory for plugin cuDNN when one has already been registered\n",
      "\u001b[36m(pid=3708876)\u001b[0m 2024-03-22 00:18:49.066156: E tensorflow/compiler/xla/stream_executor/cuda/cuda_fft.cc:609] Unable to register cuFFT factory: Attempting to register factory for plugin cuFFT when one has already been registered\n",
      "\u001b[36m(pid=3708876)\u001b[0m 2024-03-22 00:18:49.066171: E tensorflow/compiler/xla/stream_executor/cuda/cuda_blas.cc:1518] Unable to register cuBLAS factory: Attempting to register factory for plugin cuBLAS when one has already been registered\n"
     ]
    },
    {
     "name": "stderr",
     "output_type": "stream",
     "text": [
      "\u001b[36m(TrainLightGCN pid=3708876)\u001b[0m /home/daviddavo/upm-tfm-notebooks/.direnv/python-3.9/lib/python3.9/site-packages/recommenders/models/deeprec/DataModel/ImplicitCF.py:73: FutureWarning: The frame.append method is deprecated and will be removed from pandas in a future version. Use pandas.concat instead.\n",
      "\u001b[36m(TrainLightGCN pid=3708876)\u001b[0m   df = train if test is None else train.append(test)\n"
     ]
    },
    {
     "name": "stdout",
     "output_type": "stream",
     "text": [
      "\u001b[36m(TrainLightGCN pid=3708876)\u001b[0m Already create adjacency matrix.\n",
      "\u001b[36m(TrainLightGCN pid=3708876)\u001b[0m Already normalize adjacency matrix.\n",
      "\u001b[36m(TrainLightGCN pid=3708876)\u001b[0m Using xavier initialization.\n"
     ]
    },
    {
     "name": "stderr",
     "output_type": "stream",
     "text": [
      "\u001b[36m(TrainLightGCN pid=3704124)\u001b[0m Checkpoint successfully created at: Checkpoint(filesystem=local, path=/home/daviddavo/ray_results/LightGCN_optim=map@10,dao=DEAD FoundationsDAO,freq=2d,normalize=True,cutoff_date=2021-11-28T00:00:00,fold=9_2024-03-22T00:12:53.923224/TrainLightGCN_479e750f_12_batch_size=7,conv_layers=4,embedding_dim=42,fold=9,l2=0.0004,learning_rate=0.0012_2024-03-22_00-13-42/checkpoint_000000)\n"
     ]
    },
    {
     "name": "stderr",
     "output_type": "stream",
     "text": [
      "\u001b[36m(pid=3709049)\u001b[0m 2024-03-22 00:18:55.067299: E tensorflow/compiler/xla/stream_executor/cuda/cuda_dnn.cc:9342] Unable to register cuDNN factory: Attempting to register factory for plugin cuDNN when one has already been registered\n",
      "\u001b[36m(pid=3709049)\u001b[0m 2024-03-22 00:18:55.067341: E tensorflow/compiler/xla/stream_executor/cuda/cuda_fft.cc:609] Unable to register cuFFT factory: Attempting to register factory for plugin cuFFT when one has already been registered\n",
      "\u001b[36m(pid=3709049)\u001b[0m 2024-03-22 00:18:55.067363: E tensorflow/compiler/xla/stream_executor/cuda/cuda_blas.cc:1518] Unable to register cuBLAS factory: Attempting to register factory for plugin cuBLAS when one has already been registered\n"
     ]
    },
    {
     "name": "stderr",
     "output_type": "stream",
     "text": [
      "\u001b[36m(TrainLightGCN pid=3709049)\u001b[0m /home/daviddavo/upm-tfm-notebooks/.direnv/python-3.9/lib/python3.9/site-packages/recommenders/models/deeprec/DataModel/ImplicitCF.py:73: FutureWarning: The frame.append method is deprecated and will be removed from pandas in a future version. Use pandas.concat instead.\n",
      "\u001b[36m(TrainLightGCN pid=3709049)\u001b[0m   df = train if test is None else train.append(test)\n"
     ]
    },
    {
     "name": "stdout",
     "output_type": "stream",
     "text": [
      "\u001b[36m(TrainLightGCN pid=3709049)\u001b[0m Already create adjacency matrix.\n",
      "\u001b[36m(TrainLightGCN pid=3709049)\u001b[0m Already normalize adjacency matrix.\n",
      "\u001b[36m(TrainLightGCN pid=3709049)\u001b[0m Using xavier initialization.\n"
     ]
    },
    {
     "name": "stderr",
     "output_type": "stream",
     "text": [
      "\u001b[36m(TrainLightGCN pid=3703957)\u001b[0m Checkpoint successfully created at: Checkpoint(filesystem=local, path=/home/daviddavo/ray_results/LightGCN_optim=map@10,dao=DEAD FoundationsDAO,freq=2d,normalize=True,cutoff_date=2021-11-28T00:00:00,fold=9_2024-03-22T00:12:53.923224/TrainLightGCN_2229413d_11_batch_size=7,conv_layers=3,embedding_dim=5,fold=9,l2=0.0061,learning_rate=0.2019_2024-03-22_00-13-37/checkpoint_000000)\n",
      "\u001b[36m(pid=3709221)\u001b[0m 2024-03-22 00:19:01.214286: E tensorflow/compiler/xla/stream_executor/cuda/cuda_dnn.cc:9342] Unable to register cuDNN factory: Attempting to register factory for plugin cuDNN when one has already been registered\n",
      "\u001b[36m(pid=3709221)\u001b[0m 2024-03-22 00:19:01.214323: E tensorflow/compiler/xla/stream_executor/cuda/cuda_fft.cc:609] Unable to register cuFFT factory: Attempting to register factory for plugin cuFFT when one has already been registered\n",
      "\u001b[36m(pid=3709221)\u001b[0m 2024-03-22 00:19:01.214339: E tensorflow/compiler/xla/stream_executor/cuda/cuda_blas.cc:1518] Unable to register cuBLAS factory: Attempting to register factory for plugin cuBLAS when one has already been registered\n"
     ]
    },
    {
     "name": "stderr",
     "output_type": "stream",
     "text": [
      "\u001b[36m(TrainLightGCN pid=3709221)\u001b[0m /home/daviddavo/upm-tfm-notebooks/.direnv/python-3.9/lib/python3.9/site-packages/recommenders/models/deeprec/DataModel/ImplicitCF.py:73: FutureWarning: The frame.append method is deprecated and will be removed from pandas in a future version. Use pandas.concat instead.\n",
      "\u001b[36m(TrainLightGCN pid=3709221)\u001b[0m   df = train if test is None else train.append(test)\n"
     ]
    },
    {
     "name": "stdout",
     "output_type": "stream",
     "text": [
      "\u001b[36m(TrainLightGCN pid=3709221)\u001b[0m Already create adjacency matrix.\n",
      "\u001b[36m(TrainLightGCN pid=3709221)\u001b[0m Already normalize adjacency matrix.\n",
      "\u001b[36m(TrainLightGCN pid=3709221)\u001b[0m Using xavier initialization.\n"
     ]
    },
    {
     "name": "stderr",
     "output_type": "stream",
     "text": [
      "\u001b[36m(TrainLightGCN pid=3704283)\u001b[0m Checkpoint successfully created at: Checkpoint(filesystem=local, path=/home/daviddavo/ray_results/LightGCN_optim=map@10,dao=DEAD FoundationsDAO,freq=2d,normalize=True,cutoff_date=2021-11-28T00:00:00,fold=9_2024-03-22T00:12:53.923224/TrainLightGCN_fafb91e0_13_batch_size=7,conv_layers=4,embedding_dim=6,fold=9,l2=0.0000,learning_rate=0.4766_2024-03-22_00-13-46/checkpoint_000000)\n"
     ]
    },
    {
     "name": "stderr",
     "output_type": "stream",
     "text": [
      "\u001b[36m(pid=3709387)\u001b[0m 2024-03-22 00:19:07.227101: E tensorflow/compiler/xla/stream_executor/cuda/cuda_dnn.cc:9342] Unable to register cuDNN factory: Attempting to register factory for plugin cuDNN when one has already been registered\n",
      "\u001b[36m(pid=3709387)\u001b[0m 2024-03-22 00:19:07.227136: E tensorflow/compiler/xla/stream_executor/cuda/cuda_fft.cc:609] Unable to register cuFFT factory: Attempting to register factory for plugin cuFFT when one has already been registered\n",
      "\u001b[36m(pid=3709387)\u001b[0m 2024-03-22 00:19:07.227151: E tensorflow/compiler/xla/stream_executor/cuda/cuda_blas.cc:1518] Unable to register cuBLAS factory: Attempting to register factory for plugin cuBLAS when one has already been registered\n"
     ]
    },
    {
     "name": "stderr",
     "output_type": "stream",
     "text": [
      "\u001b[36m(TrainLightGCN pid=3709387)\u001b[0m /home/daviddavo/upm-tfm-notebooks/.direnv/python-3.9/lib/python3.9/site-packages/recommenders/models/deeprec/DataModel/ImplicitCF.py:73: FutureWarning: The frame.append method is deprecated and will be removed from pandas in a future version. Use pandas.concat instead.\n",
      "\u001b[36m(TrainLightGCN pid=3709387)\u001b[0m   df = train if test is None else train.append(test)\n"
     ]
    },
    {
     "name": "stdout",
     "output_type": "stream",
     "text": [
      "\u001b[36m(TrainLightGCN pid=3709387)\u001b[0m Already create adjacency matrix.\n",
      "\u001b[36m(TrainLightGCN pid=3709387)\u001b[0m Already normalize adjacency matrix.\n",
      "\u001b[36m(TrainLightGCN pid=3709387)\u001b[0m Using xavier initialization.\n"
     ]
    },
    {
     "name": "stderr",
     "output_type": "stream",
     "text": [
      "\u001b[36m(pid=3709561)\u001b[0m 2024-03-22 00:19:13.287629: E tensorflow/compiler/xla/stream_executor/cuda/cuda_dnn.cc:9342] Unable to register cuDNN factory: Attempting to register factory for plugin cuDNN when one has already been registered\n",
      "\u001b[36m(pid=3709561)\u001b[0m 2024-03-22 00:19:13.287663: E tensorflow/compiler/xla/stream_executor/cuda/cuda_fft.cc:609] Unable to register cuFFT factory: Attempting to register factory for plugin cuFFT when one has already been registered\n",
      "\u001b[36m(pid=3709561)\u001b[0m 2024-03-22 00:19:13.287678: E tensorflow/compiler/xla/stream_executor/cuda/cuda_blas.cc:1518] Unable to register cuBLAS factory: Attempting to register factory for plugin cuBLAS when one has already been registered\n"
     ]
    },
    {
     "name": "stderr",
     "output_type": "stream",
     "text": [
      "\u001b[36m(TrainLightGCN pid=3709561)\u001b[0m /home/daviddavo/upm-tfm-notebooks/.direnv/python-3.9/lib/python3.9/site-packages/recommenders/models/deeprec/DataModel/ImplicitCF.py:73: FutureWarning: The frame.append method is deprecated and will be removed from pandas in a future version. Use pandas.concat instead.\n",
      "\u001b[36m(TrainLightGCN pid=3709561)\u001b[0m   df = train if test is None else train.append(test)\n"
     ]
    },
    {
     "name": "stdout",
     "output_type": "stream",
     "text": [
      "\u001b[36m(TrainLightGCN pid=3709561)\u001b[0m Already create adjacency matrix.\n",
      "\u001b[36m(TrainLightGCN pid=3709561)\u001b[0m Already normalize adjacency matrix.\n",
      "\u001b[36m(TrainLightGCN pid=3709561)\u001b[0m Using xavier initialization.\n"
     ]
    },
    {
     "name": "stderr",
     "output_type": "stream",
     "text": [
      "\u001b[36m(TrainLightGCN pid=3704954)\u001b[0m Checkpoint successfully created at: Checkpoint(filesystem=local, path=/home/daviddavo/ray_results/LightGCN_optim=map@10,dao=DEAD FoundationsDAO,freq=2d,normalize=True,cutoff_date=2021-11-28T00:00:00,fold=9_2024-03-22T00:12:53.923224/TrainLightGCN_29295200_17_batch_size=7,conv_layers=4,embedding_dim=11,fold=9,l2=0.0000,learning_rate=0.0011_2024-03-22_00-14-07/checkpoint_000000)\n"
     ]
    },
    {
     "name": "stderr",
     "output_type": "stream",
     "text": [
      "\u001b[36m(pid=3709806)\u001b[0m 2024-03-22 00:19:33.744364: E tensorflow/compiler/xla/stream_executor/cuda/cuda_dnn.cc:9342] Unable to register cuDNN factory: Attempting to register factory for plugin cuDNN when one has already been registered\n",
      "\u001b[36m(pid=3709806)\u001b[0m 2024-03-22 00:19:33.744401: E tensorflow/compiler/xla/stream_executor/cuda/cuda_fft.cc:609] Unable to register cuFFT factory: Attempting to register factory for plugin cuFFT when one has already been registered\n",
      "\u001b[36m(pid=3709806)\u001b[0m 2024-03-22 00:19:33.744417: E tensorflow/compiler/xla/stream_executor/cuda/cuda_blas.cc:1518] Unable to register cuBLAS factory: Attempting to register factory for plugin cuBLAS when one has already been registered\n"
     ]
    },
    {
     "name": "stderr",
     "output_type": "stream",
     "text": [
      "\u001b[36m(TrainLightGCN pid=3709806)\u001b[0m /home/daviddavo/upm-tfm-notebooks/.direnv/python-3.9/lib/python3.9/site-packages/recommenders/models/deeprec/DataModel/ImplicitCF.py:73: FutureWarning: The frame.append method is deprecated and will be removed from pandas in a future version. Use pandas.concat instead.\n",
      "\u001b[36m(TrainLightGCN pid=3709806)\u001b[0m   df = train if test is None else train.append(test)\n"
     ]
    },
    {
     "name": "stdout",
     "output_type": "stream",
     "text": [
      "\u001b[36m(TrainLightGCN pid=3709806)\u001b[0m Already create adjacency matrix.\n",
      "\u001b[36m(TrainLightGCN pid=3709806)\u001b[0m Already normalize adjacency matrix.\n",
      "\u001b[36m(TrainLightGCN pid=3709806)\u001b[0m Using xavier initialization.\n"
     ]
    },
    {
     "name": "stderr",
     "output_type": "stream",
     "text": [
      "\u001b[36m(TrainLightGCN pid=3705119)\u001b[0m Checkpoint successfully created at: Checkpoint(filesystem=local, path=/home/daviddavo/ray_results/LightGCN_optim=map@10,dao=DEAD FoundationsDAO,freq=2d,normalize=True,cutoff_date=2021-11-28T00:00:00,fold=9_2024-03-22T00:12:53.923224/TrainLightGCN_64258497_18_batch_size=7,conv_layers=3,embedding_dim=31,fold=9,l2=0.0014,learning_rate=0.4767_2024-03-22_00-14-13/checkpoint_000000)\n",
      "\u001b[36m(pid=3709956)\u001b[0m 2024-03-22 00:19:39.800660: E tensorflow/compiler/xla/stream_executor/cuda/cuda_dnn.cc:9342] Unable to register cuDNN factory: Attempting to register factory for plugin cuDNN when one has already been registered\n",
      "\u001b[36m(pid=3709956)\u001b[0m 2024-03-22 00:19:39.800700: E tensorflow/compiler/xla/stream_executor/cuda/cuda_fft.cc:609] Unable to register cuFFT factory: Attempting to register factory for plugin cuFFT when one has already been registered\n",
      "\u001b[36m(pid=3709956)\u001b[0m 2024-03-22 00:19:39.800716: E tensorflow/compiler/xla/stream_executor/cuda/cuda_blas.cc:1518] Unable to register cuBLAS factory: Attempting to register factory for plugin cuBLAS when one has already been registered\n"
     ]
    },
    {
     "name": "stderr",
     "output_type": "stream",
     "text": [
      "\u001b[36m(TrainLightGCN pid=3705451)\u001b[0m Checkpoint successfully created at: Checkpoint(filesystem=local, path=/home/daviddavo/ray_results/LightGCN_optim=map@10,dao=DEAD FoundationsDAO,freq=2d,normalize=True,cutoff_date=2021-11-28T00:00:00,fold=9_2024-03-22T00:12:53.923224/TrainLightGCN_d35c1d35_20_batch_size=7,conv_layers=2,embedding_dim=338,fold=9,l2=0.0000,learning_rate=0.0005_2024-03-22_00-14-24/checkpoint_000000)\n"
     ]
    },
    {
     "name": "stderr",
     "output_type": "stream",
     "text": [
      "\u001b[36m(TrainLightGCN pid=3709956)\u001b[0m /home/daviddavo/upm-tfm-notebooks/.direnv/python-3.9/lib/python3.9/site-packages/recommenders/models/deeprec/DataModel/ImplicitCF.py:73: FutureWarning: The frame.append method is deprecated and will be removed from pandas in a future version. Use pandas.concat instead.\n",
      "\u001b[36m(TrainLightGCN pid=3709956)\u001b[0m   df = train if test is None else train.append(test)\n"
     ]
    },
    {
     "name": "stdout",
     "output_type": "stream",
     "text": [
      "\u001b[36m(TrainLightGCN pid=3709956)\u001b[0m Already create adjacency matrix.\n",
      "\u001b[36m(TrainLightGCN pid=3709956)\u001b[0m Already normalize adjacency matrix.\n",
      "\u001b[36m(TrainLightGCN pid=3709956)\u001b[0m Using xavier initialization.\n"
     ]
    },
    {
     "name": "stderr",
     "output_type": "stream",
     "text": [
      "\u001b[36m(pid=3710129)\u001b[0m 2024-03-22 00:19:45.784859: E tensorflow/compiler/xla/stream_executor/cuda/cuda_dnn.cc:9342] Unable to register cuDNN factory: Attempting to register factory for plugin cuDNN when one has already been registered\n",
      "\u001b[36m(pid=3710129)\u001b[0m 2024-03-22 00:19:45.784895: E tensorflow/compiler/xla/stream_executor/cuda/cuda_fft.cc:609] Unable to register cuFFT factory: Attempting to register factory for plugin cuFFT when one has already been registered\n",
      "\u001b[36m(pid=3710129)\u001b[0m 2024-03-22 00:19:45.784910: E tensorflow/compiler/xla/stream_executor/cuda/cuda_blas.cc:1518] Unable to register cuBLAS factory: Attempting to register factory for plugin cuBLAS when one has already been registered\n"
     ]
    },
    {
     "name": "stderr",
     "output_type": "stream",
     "text": [
      "\u001b[36m(TrainLightGCN pid=3710129)\u001b[0m /home/daviddavo/upm-tfm-notebooks/.direnv/python-3.9/lib/python3.9/site-packages/recommenders/models/deeprec/DataModel/ImplicitCF.py:73: FutureWarning: The frame.append method is deprecated and will be removed from pandas in a future version. Use pandas.concat instead.\n",
      "\u001b[36m(TrainLightGCN pid=3710129)\u001b[0m   df = train if test is None else train.append(test)\n"
     ]
    },
    {
     "name": "stdout",
     "output_type": "stream",
     "text": [
      "\u001b[36m(TrainLightGCN pid=3710129)\u001b[0m Already create adjacency matrix.\n",
      "\u001b[36m(TrainLightGCN pid=3710129)\u001b[0m Already normalize adjacency matrix.\n",
      "\u001b[36m(TrainLightGCN pid=3710129)\u001b[0m Using xavier initialization.\n"
     ]
    },
    {
     "name": "stderr",
     "output_type": "stream",
     "text": [
      "\u001b[36m(TrainLightGCN pid=3706131)\u001b[0m Checkpoint successfully created at: Checkpoint(filesystem=local, path=/home/daviddavo/ray_results/LightGCN_optim=map@10,dao=DEAD FoundationsDAO,freq=2d,normalize=True,cutoff_date=2021-11-28T00:00:00,fold=9_2024-03-22T00:12:53.923224/TrainLightGCN_cd80eca8_24_batch_size=6,conv_layers=5,embedding_dim=798,fold=9,l2=0.0001,learning_rate=0.0001_2024-03-22_00-14-48/checkpoint_000000)\n"
     ]
    },
    {
     "name": "stderr",
     "output_type": "stream",
     "text": [
      "\u001b[36m(pid=3710419)\u001b[0m 2024-03-22 00:20:21.807922: E tensorflow/compiler/xla/stream_executor/cuda/cuda_dnn.cc:9342] Unable to register cuDNN factory: Attempting to register factory for plugin cuDNN when one has already been registered\n",
      "\u001b[36m(pid=3710419)\u001b[0m 2024-03-22 00:20:21.807964: E tensorflow/compiler/xla/stream_executor/cuda/cuda_fft.cc:609] Unable to register cuFFT factory: Attempting to register factory for plugin cuFFT when one has already been registered\n",
      "\u001b[36m(pid=3710419)\u001b[0m 2024-03-22 00:20:21.807986: E tensorflow/compiler/xla/stream_executor/cuda/cuda_blas.cc:1518] Unable to register cuBLAS factory: Attempting to register factory for plugin cuBLAS when one has already been registered\n"
     ]
    },
    {
     "name": "stderr",
     "output_type": "stream",
     "text": [
      "\u001b[36m(TrainLightGCN pid=3710419)\u001b[0m /home/daviddavo/upm-tfm-notebooks/.direnv/python-3.9/lib/python3.9/site-packages/recommenders/models/deeprec/DataModel/ImplicitCF.py:73: FutureWarning: The frame.append method is deprecated and will be removed from pandas in a future version. Use pandas.concat instead.\n",
      "\u001b[36m(TrainLightGCN pid=3710419)\u001b[0m   df = train if test is None else train.append(test)\n",
      "\u001b[36m(TrainLightGCN pid=3706665)\u001b[0m Checkpoint successfully created at: Checkpoint(filesystem=local, path=/home/daviddavo/ray_results/LightGCN_optim=map@10,dao=DEAD FoundationsDAO,freq=2d,normalize=True,cutoff_date=2021-11-28T00:00:00,fold=9_2024-03-22T00:12:53.923224/TrainLightGCN_5432557e_26_batch_size=8,conv_layers=5,embedding_dim=19,fold=9,l2=0.0000,learning_rate=0.0172_2024-03-22_00-15-48/checkpoint_000000)\n"
     ]
    },
    {
     "name": "stdout",
     "output_type": "stream",
     "text": [
      "\u001b[36m(TrainLightGCN pid=3710419)\u001b[0m Already create adjacency matrix.\n",
      "\u001b[36m(TrainLightGCN pid=3710419)\u001b[0m Already normalize adjacency matrix.\n",
      "\u001b[36m(TrainLightGCN pid=3710419)\u001b[0m Using xavier initialization.\n"
     ]
    },
    {
     "name": "stderr",
     "output_type": "stream",
     "text": [
      "\u001b[36m(pid=3710568)\u001b[0m 2024-03-22 00:20:29.092532: E tensorflow/compiler/xla/stream_executor/cuda/cuda_dnn.cc:9342] Unable to register cuDNN factory: Attempting to register factory for plugin cuDNN when one has already been registered\n",
      "\u001b[36m(pid=3710568)\u001b[0m 2024-03-22 00:20:29.092568: E tensorflow/compiler/xla/stream_executor/cuda/cuda_fft.cc:609] Unable to register cuFFT factory: Attempting to register factory for plugin cuFFT when one has already been registered\n",
      "\u001b[36m(pid=3710568)\u001b[0m 2024-03-22 00:20:29.092585: E tensorflow/compiler/xla/stream_executor/cuda/cuda_blas.cc:1518] Unable to register cuBLAS factory: Attempting to register factory for plugin cuBLAS when one has already been registered\n"
     ]
    },
    {
     "name": "stderr",
     "output_type": "stream",
     "text": [
      "\u001b[36m(TrainLightGCN pid=3710568)\u001b[0m /home/daviddavo/upm-tfm-notebooks/.direnv/python-3.9/lib/python3.9/site-packages/recommenders/models/deeprec/DataModel/ImplicitCF.py:73: FutureWarning: The frame.append method is deprecated and will be removed from pandas in a future version. Use pandas.concat instead.\n",
      "\u001b[36m(TrainLightGCN pid=3710568)\u001b[0m   df = train if test is None else train.append(test)\n"
     ]
    },
    {
     "name": "stdout",
     "output_type": "stream",
     "text": [
      "\u001b[36m(TrainLightGCN pid=3710568)\u001b[0m Already create adjacency matrix.\n",
      "\u001b[36m(TrainLightGCN pid=3710568)\u001b[0m Already normalize adjacency matrix.\n",
      "\u001b[36m(TrainLightGCN pid=3710568)\u001b[0m Using xavier initialization.\n"
     ]
    },
    {
     "name": "stderr",
     "output_type": "stream",
     "text": [
      "\u001b[36m(TrainLightGCN pid=3708172)\u001b[0m Checkpoint successfully created at: Checkpoint(filesystem=local, path=/home/daviddavo/ray_results/LightGCN_optim=map@10,dao=DEAD FoundationsDAO,freq=2d,normalize=True,cutoff_date=2021-11-28T00:00:00,fold=9_2024-03-22T00:12:53.923224/TrainLightGCN_075dd000_33_batch_size=9,conv_layers=5,embedding_dim=581,fold=9,l2=0.0000,learning_rate=0.0040_2024-03-22_00-18-01/checkpoint_000000)\n"
     ]
    },
    {
     "name": "stderr",
     "output_type": "stream",
     "text": [
      "\u001b[36m(pid=3710805)\u001b[0m 2024-03-22 00:20:46.956869: E tensorflow/compiler/xla/stream_executor/cuda/cuda_dnn.cc:9342] Unable to register cuDNN factory: Attempting to register factory for plugin cuDNN when one has already been registered\n",
      "\u001b[36m(pid=3710805)\u001b[0m 2024-03-22 00:20:46.956916: E tensorflow/compiler/xla/stream_executor/cuda/cuda_fft.cc:609] Unable to register cuFFT factory: Attempting to register factory for plugin cuFFT when one has already been registered\n",
      "\u001b[36m(pid=3710805)\u001b[0m 2024-03-22 00:20:46.956934: E tensorflow/compiler/xla/stream_executor/cuda/cuda_blas.cc:1518] Unable to register cuBLAS factory: Attempting to register factory for plugin cuBLAS when one has already been registered\n"
     ]
    },
    {
     "name": "stderr",
     "output_type": "stream",
     "text": [
      "\u001b[36m(TrainLightGCN pid=3710805)\u001b[0m /home/daviddavo/upm-tfm-notebooks/.direnv/python-3.9/lib/python3.9/site-packages/recommenders/models/deeprec/DataModel/ImplicitCF.py:73: FutureWarning: The frame.append method is deprecated and will be removed from pandas in a future version. Use pandas.concat instead.\n",
      "\u001b[36m(TrainLightGCN pid=3710805)\u001b[0m   df = train if test is None else train.append(test)\n"
     ]
    },
    {
     "name": "stdout",
     "output_type": "stream",
     "text": [
      "\u001b[36m(TrainLightGCN pid=3710805)\u001b[0m Already create adjacency matrix.\n",
      "\u001b[36m(TrainLightGCN pid=3710805)\u001b[0m Already normalize adjacency matrix.\n",
      "\u001b[36m(TrainLightGCN pid=3710805)\u001b[0m Using xavier initialization.\n"
     ]
    },
    {
     "name": "stderr",
     "output_type": "stream",
     "text": [
      "\u001b[36m(TrainLightGCN pid=3707066)\u001b[0m Checkpoint successfully created at: Checkpoint(filesystem=local, path=/home/daviddavo/ray_results/LightGCN_optim=map@10,dao=DEAD FoundationsDAO,freq=2d,normalize=True,cutoff_date=2021-11-28T00:00:00,fold=9_2024-03-22T00:12:53.923224/TrainLightGCN_bf312ce0_28_batch_size=8,conv_layers=5,embedding_dim=497,fold=9,l2=0.0024,learning_rate=0.0015_2024-03-22_00-16-14/checkpoint_000000)\n"
     ]
    },
    {
     "name": "stderr",
     "output_type": "stream",
     "text": [
      "\u001b[36m(pid=3710994)\u001b[0m 2024-03-22 00:20:58.222480: E tensorflow/compiler/xla/stream_executor/cuda/cuda_dnn.cc:9342] Unable to register cuDNN factory: Attempting to register factory for plugin cuDNN when one has already been registered\n",
      "\u001b[36m(pid=3710994)\u001b[0m 2024-03-22 00:20:58.222675: E tensorflow/compiler/xla/stream_executor/cuda/cuda_fft.cc:609] Unable to register cuFFT factory: Attempting to register factory for plugin cuFFT when one has already been registered\n",
      "\u001b[36m(pid=3710994)\u001b[0m 2024-03-22 00:20:58.222708: E tensorflow/compiler/xla/stream_executor/cuda/cuda_blas.cc:1518] Unable to register cuBLAS factory: Attempting to register factory for plugin cuBLAS when one has already been registered\n"
     ]
    },
    {
     "name": "stderr",
     "output_type": "stream",
     "text": [
      "\u001b[36m(TrainLightGCN pid=3710994)\u001b[0m /home/daviddavo/upm-tfm-notebooks/.direnv/python-3.9/lib/python3.9/site-packages/recommenders/models/deeprec/DataModel/ImplicitCF.py:73: FutureWarning: The frame.append method is deprecated and will be removed from pandas in a future version. Use pandas.concat instead.\n",
      "\u001b[36m(TrainLightGCN pid=3710994)\u001b[0m   df = train if test is None else train.append(test)\n"
     ]
    },
    {
     "name": "stdout",
     "output_type": "stream",
     "text": [
      "\u001b[36m(TrainLightGCN pid=3710994)\u001b[0m Already create adjacency matrix.\n",
      "\u001b[36m(TrainLightGCN pid=3710994)\u001b[0m Already normalize adjacency matrix.\n",
      "\u001b[36m(TrainLightGCN pid=3710994)\u001b[0m Using xavier initialization.\n"
     ]
    },
    {
     "name": "stderr",
     "output_type": "stream",
     "text": [
      "\u001b[36m(TrainLightGCN pid=3707268)\u001b[0m Checkpoint successfully created at: Checkpoint(filesystem=local, path=/home/daviddavo/ray_results/LightGCN_optim=map@10,dao=DEAD FoundationsDAO,freq=2d,normalize=True,cutoff_date=2021-11-28T00:00:00,fold=9_2024-03-22T00:12:53.923224/TrainLightGCN_7e00681e_29_batch_size=8,conv_layers=4,embedding_dim=18,fold=9,l2=0.0001,learning_rate=0.0417_2024-03-22_00-16-32/checkpoint_000000)\n"
     ]
    },
    {
     "name": "stderr",
     "output_type": "stream",
     "text": [
      "\u001b[36m(pid=3711181)\u001b[0m 2024-03-22 00:21:08.915708: E tensorflow/compiler/xla/stream_executor/cuda/cuda_dnn.cc:9342] Unable to register cuDNN factory: Attempting to register factory for plugin cuDNN when one has already been registered\n",
      "\u001b[36m(pid=3711181)\u001b[0m 2024-03-22 00:21:08.915758: E tensorflow/compiler/xla/stream_executor/cuda/cuda_fft.cc:609] Unable to register cuFFT factory: Attempting to register factory for plugin cuFFT when one has already been registered\n",
      "\u001b[36m(pid=3711181)\u001b[0m 2024-03-22 00:21:08.915782: E tensorflow/compiler/xla/stream_executor/cuda/cuda_blas.cc:1518] Unable to register cuBLAS factory: Attempting to register factory for plugin cuBLAS when one has already been registered\n"
     ]
    },
    {
     "name": "stderr",
     "output_type": "stream",
     "text": [
      "\u001b[36m(TrainLightGCN pid=3711181)\u001b[0m /home/daviddavo/upm-tfm-notebooks/.direnv/python-3.9/lib/python3.9/site-packages/recommenders/models/deeprec/DataModel/ImplicitCF.py:73: FutureWarning: The frame.append method is deprecated and will be removed from pandas in a future version. Use pandas.concat instead.\n",
      "\u001b[36m(TrainLightGCN pid=3711181)\u001b[0m   df = train if test is None else train.append(test)\n"
     ]
    },
    {
     "name": "stdout",
     "output_type": "stream",
     "text": [
      "\u001b[36m(TrainLightGCN pid=3711181)\u001b[0m Already create adjacency matrix.\n",
      "\u001b[36m(TrainLightGCN pid=3711181)\u001b[0m Already normalize adjacency matrix.\n",
      "\u001b[36m(TrainLightGCN pid=3711181)\u001b[0m Using xavier initialization.\n"
     ]
    },
    {
     "name": "stderr",
     "output_type": "stream",
     "text": [
      "\u001b[36m(TrainLightGCN pid=3706860)\u001b[0m Checkpoint successfully created at: Checkpoint(filesystem=local, path=/home/daviddavo/ray_results/LightGCN_optim=map@10,dao=DEAD FoundationsDAO,freq=2d,normalize=True,cutoff_date=2021-11-28T00:00:00,fold=9_2024-03-22T00:12:53.923224/TrainLightGCN_02bd14b3_27_batch_size=8,conv_layers=5,embedding_dim=803,fold=9,l2=0.0000,learning_rate=0.0030_2024-03-22_00-16-02/checkpoint_000000)\n"
     ]
    },
    {
     "name": "stderr",
     "output_type": "stream",
     "text": [
      "\u001b[36m(TrainLightGCN pid=3707498)\u001b[0m Checkpoint successfully created at: Checkpoint(filesystem=local, path=/home/daviddavo/ray_results/LightGCN_optim=map@10,dao=DEAD FoundationsDAO,freq=2d,normalize=True,cutoff_date=2021-11-28T00:00:00,fold=9_2024-03-22T00:12:53.923224/TrainLightGCN_66e9ba36_30_batch_size=8,conv_layers=5,embedding_dim=60,fold=9,l2=0.0085,learning_rate=0.0023_2024-03-22_00-16-46/checkpoint_000000)\n"
     ]
    },
    {
     "name": "stderr",
     "output_type": "stream",
     "text": [
      "\u001b[36m(pid=3711398)\u001b[0m 2024-03-22 00:21:28.838619: E tensorflow/compiler/xla/stream_executor/cuda/cuda_dnn.cc:9342] Unable to register cuDNN factory: Attempting to register factory for plugin cuDNN when one has already been registered\n",
      "\u001b[36m(pid=3711398)\u001b[0m 2024-03-22 00:21:28.838657: E tensorflow/compiler/xla/stream_executor/cuda/cuda_fft.cc:609] Unable to register cuFFT factory: Attempting to register factory for plugin cuFFT when one has already been registered\n",
      "\u001b[36m(pid=3711398)\u001b[0m 2024-03-22 00:21:28.838673: E tensorflow/compiler/xla/stream_executor/cuda/cuda_blas.cc:1518] Unable to register cuBLAS factory: Attempting to register factory for plugin cuBLAS when one has already been registered\n"
     ]
    },
    {
     "name": "stderr",
     "output_type": "stream",
     "text": [
      "\u001b[36m(TrainLightGCN pid=3711398)\u001b[0m /home/daviddavo/upm-tfm-notebooks/.direnv/python-3.9/lib/python3.9/site-packages/recommenders/models/deeprec/DataModel/ImplicitCF.py:73: FutureWarning: The frame.append method is deprecated and will be removed from pandas in a future version. Use pandas.concat instead.\n",
      "\u001b[36m(TrainLightGCN pid=3711398)\u001b[0m   df = train if test is None else train.append(test)\n"
     ]
    },
    {
     "name": "stdout",
     "output_type": "stream",
     "text": [
      "\u001b[36m(TrainLightGCN pid=3711398)\u001b[0m Already create adjacency matrix.\n",
      "\u001b[36m(TrainLightGCN pid=3711398)\u001b[0m Already normalize adjacency matrix.\n",
      "\u001b[36m(TrainLightGCN pid=3711398)\u001b[0m Using xavier initialization.\n"
     ]
    },
    {
     "name": "stderr",
     "output_type": "stream",
     "text": [
      "\u001b[36m(pid=3711550)\u001b[0m 2024-03-22 00:21:35.908593: E tensorflow/compiler/xla/stream_executor/cuda/cuda_dnn.cc:9342] Unable to register cuDNN factory: Attempting to register factory for plugin cuDNN when one has already been registered\n",
      "\u001b[36m(pid=3711550)\u001b[0m 2024-03-22 00:21:35.908629: E tensorflow/compiler/xla/stream_executor/cuda/cuda_fft.cc:609] Unable to register cuFFT factory: Attempting to register factory for plugin cuFFT when one has already been registered\n",
      "\u001b[36m(pid=3711550)\u001b[0m 2024-03-22 00:21:35.908647: E tensorflow/compiler/xla/stream_executor/cuda/cuda_blas.cc:1518] Unable to register cuBLAS factory: Attempting to register factory for plugin cuBLAS when one has already been registered\n"
     ]
    },
    {
     "name": "stderr",
     "output_type": "stream",
     "text": [
      "\u001b[36m(TrainLightGCN pid=3711550)\u001b[0m /home/daviddavo/upm-tfm-notebooks/.direnv/python-3.9/lib/python3.9/site-packages/recommenders/models/deeprec/DataModel/ImplicitCF.py:73: FutureWarning: The frame.append method is deprecated and will be removed from pandas in a future version. Use pandas.concat instead.\n",
      "\u001b[36m(TrainLightGCN pid=3711550)\u001b[0m   df = train if test is None else train.append(test)\n"
     ]
    },
    {
     "name": "stdout",
     "output_type": "stream",
     "text": [
      "\u001b[36m(TrainLightGCN pid=3711550)\u001b[0m Already create adjacency matrix.\n",
      "\u001b[36m(TrainLightGCN pid=3711550)\u001b[0m Already normalize adjacency matrix.\n",
      "\u001b[36m(TrainLightGCN pid=3711550)\u001b[0m Using xavier initialization.\n"
     ]
    },
    {
     "name": "stderr",
     "output_type": "stream",
     "text": [
      "\u001b[36m(TrainLightGCN pid=3707694)\u001b[0m Checkpoint successfully created at: Checkpoint(filesystem=local, path=/home/daviddavo/ray_results/LightGCN_optim=map@10,dao=DEAD FoundationsDAO,freq=2d,normalize=True,cutoff_date=2021-11-28T00:00:00,fold=9_2024-03-22T00:12:53.923224/TrainLightGCN_2c3af67e_31_batch_size=8,conv_layers=4,embedding_dim=29,fold=9,l2=0.0003,learning_rate=0.0962_2024-03-22_00-17-10/checkpoint_000000)\n"
     ]
    },
    {
     "name": "stderr",
     "output_type": "stream",
     "text": [
      "\u001b[36m(pid=3711729)\u001b[0m 2024-03-22 00:21:42.891642: E tensorflow/compiler/xla/stream_executor/cuda/cuda_dnn.cc:9342] Unable to register cuDNN factory: Attempting to register factory for plugin cuDNN when one has already been registered\n",
      "\u001b[36m(pid=3711729)\u001b[0m 2024-03-22 00:21:42.891695: E tensorflow/compiler/xla/stream_executor/cuda/cuda_fft.cc:609] Unable to register cuFFT factory: Attempting to register factory for plugin cuFFT when one has already been registered\n",
      "\u001b[36m(pid=3711729)\u001b[0m 2024-03-22 00:21:42.891724: E tensorflow/compiler/xla/stream_executor/cuda/cuda_blas.cc:1518] Unable to register cuBLAS factory: Attempting to register factory for plugin cuBLAS when one has already been registered\n"
     ]
    },
    {
     "name": "stderr",
     "output_type": "stream",
     "text": [
      "\u001b[36m(TrainLightGCN pid=3711729)\u001b[0m /home/daviddavo/upm-tfm-notebooks/.direnv/python-3.9/lib/python3.9/site-packages/recommenders/models/deeprec/DataModel/ImplicitCF.py:73: FutureWarning: The frame.append method is deprecated and will be removed from pandas in a future version. Use pandas.concat instead.\n",
      "\u001b[36m(TrainLightGCN pid=3711729)\u001b[0m   df = train if test is None else train.append(test)\n"
     ]
    },
    {
     "name": "stdout",
     "output_type": "stream",
     "text": [
      "\u001b[36m(TrainLightGCN pid=3711729)\u001b[0m Already create adjacency matrix.\n",
      "\u001b[36m(TrainLightGCN pid=3711729)\u001b[0m Already normalize adjacency matrix.\n",
      "\u001b[36m(TrainLightGCN pid=3711729)\u001b[0m Using xavier initialization.\n"
     ]
    },
    {
     "name": "stderr",
     "output_type": "stream",
     "text": [
      "\u001b[36m(TrainLightGCN pid=3707959)\u001b[0m Checkpoint successfully created at: Checkpoint(filesystem=local, path=/home/daviddavo/ray_results/LightGCN_optim=map@10,dao=DEAD FoundationsDAO,freq=2d,normalize=True,cutoff_date=2021-11-28T00:00:00,fold=9_2024-03-22T00:12:53.923224/TrainLightGCN_93ec2ff5_32_batch_size=8,conv_layers=3,embedding_dim=158,fold=9,l2=0.0000,learning_rate=0.0141_2024-03-22_00-17-26/checkpoint_000000)\n"
     ]
    },
    {
     "name": "stderr",
     "output_type": "stream",
     "text": [
      "\u001b[36m(pid=3712012)\u001b[0m 2024-03-22 00:22:16.709886: E tensorflow/compiler/xla/stream_executor/cuda/cuda_dnn.cc:9342] Unable to register cuDNN factory: Attempting to register factory for plugin cuDNN when one has already been registered\n",
      "\u001b[36m(pid=3712012)\u001b[0m 2024-03-22 00:22:16.709924: E tensorflow/compiler/xla/stream_executor/cuda/cuda_fft.cc:609] Unable to register cuFFT factory: Attempting to register factory for plugin cuFFT when one has already been registered\n",
      "\u001b[36m(pid=3712012)\u001b[0m 2024-03-22 00:22:16.709940: E tensorflow/compiler/xla/stream_executor/cuda/cuda_blas.cc:1518] Unable to register cuBLAS factory: Attempting to register factory for plugin cuBLAS when one has already been registered\n"
     ]
    },
    {
     "name": "stderr",
     "output_type": "stream",
     "text": [
      "\u001b[36m(TrainLightGCN pid=3712012)\u001b[0m /home/daviddavo/upm-tfm-notebooks/.direnv/python-3.9/lib/python3.9/site-packages/recommenders/models/deeprec/DataModel/ImplicitCF.py:73: FutureWarning: The frame.append method is deprecated and will be removed from pandas in a future version. Use pandas.concat instead.\n",
      "\u001b[36m(TrainLightGCN pid=3712012)\u001b[0m   df = train if test is None else train.append(test)\n"
     ]
    },
    {
     "name": "stdout",
     "output_type": "stream",
     "text": [
      "\u001b[36m(TrainLightGCN pid=3712012)\u001b[0m Already create adjacency matrix.\n",
      "\u001b[36m(TrainLightGCN pid=3712012)\u001b[0m Already normalize adjacency matrix.\n",
      "\u001b[36m(TrainLightGCN pid=3712012)\u001b[0m Using xavier initialization.\n"
     ]
    },
    {
     "name": "stderr",
     "output_type": "stream",
     "text": [
      "\u001b[36m(TrainLightGCN pid=3711398)\u001b[0m Checkpoint successfully created at: Checkpoint(filesystem=local, path=/home/daviddavo/ray_results/LightGCN_optim=map@10,dao=DEAD FoundationsDAO,freq=2d,normalize=True,cutoff_date=2021-11-28T00:00:00,fold=9_2024-03-22T00:12:53.923224/TrainLightGCN_8983b1d7_50_batch_size=9,conv_layers=5,embedding_dim=498,fold=9,l2=0.0001,learning_rate=0.0038_2024-03-22_00-21-14/checkpoint_000000)\n"
     ]
    },
    {
     "name": "stderr",
     "output_type": "stream",
     "text": [
      "\u001b[36m(pid=3712428)\u001b[0m 2024-03-22 00:23:43.778638: E tensorflow/compiler/xla/stream_executor/cuda/cuda_dnn.cc:9342] Unable to register cuDNN factory: Attempting to register factory for plugin cuDNN when one has already been registered\n",
      "\u001b[36m(pid=3712428)\u001b[0m 2024-03-22 00:23:43.778687: E tensorflow/compiler/xla/stream_executor/cuda/cuda_fft.cc:609] Unable to register cuFFT factory: Attempting to register factory for plugin cuFFT when one has already been registered\n",
      "\u001b[36m(pid=3712428)\u001b[0m 2024-03-22 00:23:43.778706: E tensorflow/compiler/xla/stream_executor/cuda/cuda_blas.cc:1518] Unable to register cuBLAS factory: Attempting to register factory for plugin cuBLAS when one has already been registered\n"
     ]
    },
    {
     "name": "stderr",
     "output_type": "stream",
     "text": [
      "\u001b[36m(TrainLightGCN pid=3712428)\u001b[0m /home/daviddavo/upm-tfm-notebooks/.direnv/python-3.9/lib/python3.9/site-packages/recommenders/models/deeprec/DataModel/ImplicitCF.py:73: FutureWarning: The frame.append method is deprecated and will be removed from pandas in a future version. Use pandas.concat instead.\n",
      "\u001b[36m(TrainLightGCN pid=3712428)\u001b[0m   df = train if test is None else train.append(test)\n"
     ]
    },
    {
     "name": "stdout",
     "output_type": "stream",
     "text": [
      "\u001b[36m(TrainLightGCN pid=3712428)\u001b[0m Already create adjacency matrix.\n",
      "\u001b[36m(TrainLightGCN pid=3712428)\u001b[0m Already normalize adjacency matrix.\n",
      "\u001b[36m(TrainLightGCN pid=3712428)\u001b[0m Using xavier initialization.\n"
     ]
    },
    {
     "name": "stderr",
     "output_type": "stream",
     "text": [
      "\u001b[36m(TrainLightGCN pid=3711550)\u001b[0m Checkpoint successfully created at: Checkpoint(filesystem=local, path=/home/daviddavo/ray_results/LightGCN_optim=map@10,dao=DEAD FoundationsDAO,freq=2d,normalize=True,cutoff_date=2021-11-28T00:00:00,fold=9_2024-03-22T00:12:53.923224/TrainLightGCN_3954947c_51_batch_size=9,conv_layers=5,embedding_dim=91,fold=9,l2=0.0000,learning_rate=0.0029_2024-03-22_00-21-34/checkpoint_000000)\n"
     ]
    },
    {
     "name": "stderr",
     "output_type": "stream",
     "text": [
      "\u001b[36m(TrainLightGCN pid=3708381)\u001b[0m Checkpoint successfully created at: Checkpoint(filesystem=local, path=/home/daviddavo/ray_results/LightGCN_optim=map@10,dao=DEAD FoundationsDAO,freq=2d,normalize=True,cutoff_date=2021-11-28T00:00:00,fold=9_2024-03-22T00:12:53.923224/TrainLightGCN_401e95ba_34_batch_size=6,conv_layers=3,embedding_dim=254,fold=9,l2=0.0000,learning_rate=0.0066_2024-03-22_00-18-21/checkpoint_000000)\n"
     ]
    },
    {
     "name": "stderr",
     "output_type": "stream",
     "text": [
      "\u001b[36m(pid=3712577)\u001b[0m 2024-03-22 00:23:50.191154: E tensorflow/compiler/xla/stream_executor/cuda/cuda_dnn.cc:9342] Unable to register cuDNN factory: Attempting to register factory for plugin cuDNN when one has already been registered\n",
      "\u001b[36m(pid=3712577)\u001b[0m 2024-03-22 00:23:50.191187: E tensorflow/compiler/xla/stream_executor/cuda/cuda_fft.cc:609] Unable to register cuFFT factory: Attempting to register factory for plugin cuFFT when one has already been registered\n",
      "\u001b[36m(pid=3712577)\u001b[0m 2024-03-22 00:23:50.191209: E tensorflow/compiler/xla/stream_executor/cuda/cuda_blas.cc:1518] Unable to register cuBLAS factory: Attempting to register factory for plugin cuBLAS when one has already been registered\n"
     ]
    },
    {
     "name": "stderr",
     "output_type": "stream",
     "text": [
      "\u001b[36m(TrainLightGCN pid=3712577)\u001b[0m /home/daviddavo/upm-tfm-notebooks/.direnv/python-3.9/lib/python3.9/site-packages/recommenders/models/deeprec/DataModel/ImplicitCF.py:73: FutureWarning: The frame.append method is deprecated and will be removed from pandas in a future version. Use pandas.concat instead.\n",
      "\u001b[36m(TrainLightGCN pid=3712577)\u001b[0m   df = train if test is None else train.append(test)\n"
     ]
    },
    {
     "name": "stdout",
     "output_type": "stream",
     "text": [
      "\u001b[36m(TrainLightGCN pid=3712577)\u001b[0m Already create adjacency matrix.\n",
      "\u001b[36m(TrainLightGCN pid=3712577)\u001b[0m Already normalize adjacency matrix.\n",
      "\u001b[36m(TrainLightGCN pid=3712577)\u001b[0m Using xavier initialization.\n"
     ]
    },
    {
     "name": "stderr",
     "output_type": "stream",
     "text": [
      "\u001b[36m(TrainLightGCN pid=3708530)\u001b[0m Checkpoint successfully created at: Checkpoint(filesystem=local, path=/home/daviddavo/ray_results/LightGCN_optim=map@10,dao=DEAD FoundationsDAO,freq=2d,normalize=True,cutoff_date=2021-11-28T00:00:00,fold=9_2024-03-22T00:12:53.923224/TrainLightGCN_50a5a6dc_35_batch_size=6,conv_layers=4,embedding_dim=10,fold=9,l2=0.0000,learning_rate=0.4534_2024-03-22_00-18-35/checkpoint_000000)\u001b[32m [repeated 2x across cluster]\u001b[0m\n"
     ]
    },
    {
     "name": "stderr",
     "output_type": "stream",
     "text": [
      "\u001b[36m(pid=3712760)\u001b[0m 2024-03-22 00:23:55.964439: E tensorflow/compiler/xla/stream_executor/cuda/cuda_dnn.cc:9342] Unable to register cuDNN factory: Attempting to register factory for plugin cuDNN when one has already been registered\n",
      "\u001b[36m(pid=3712760)\u001b[0m 2024-03-22 00:23:55.964484: E tensorflow/compiler/xla/stream_executor/cuda/cuda_fft.cc:609] Unable to register cuFFT factory: Attempting to register factory for plugin cuFFT when one has already been registered\n",
      "\u001b[36m(pid=3712760)\u001b[0m 2024-03-22 00:23:55.964502: E tensorflow/compiler/xla/stream_executor/cuda/cuda_blas.cc:1518] Unable to register cuBLAS factory: Attempting to register factory for plugin cuBLAS when one has already been registered\n"
     ]
    },
    {
     "name": "stderr",
     "output_type": "stream",
     "text": [
      "\u001b[36m(TrainLightGCN pid=3712760)\u001b[0m /home/daviddavo/upm-tfm-notebooks/.direnv/python-3.9/lib/python3.9/site-packages/recommenders/models/deeprec/DataModel/ImplicitCF.py:73: FutureWarning: The frame.append method is deprecated and will be removed from pandas in a future version. Use pandas.concat instead.\n",
      "\u001b[36m(TrainLightGCN pid=3712760)\u001b[0m   df = train if test is None else train.append(test)\n"
     ]
    },
    {
     "name": "stdout",
     "output_type": "stream",
     "text": [
      "\u001b[36m(TrainLightGCN pid=3712760)\u001b[0m Already create adjacency matrix.\n",
      "\u001b[36m(TrainLightGCN pid=3712760)\u001b[0m Already normalize adjacency matrix.\n",
      "\u001b[36m(TrainLightGCN pid=3712760)\u001b[0m Using xavier initialization.\n"
     ]
    },
    {
     "name": "stderr",
     "output_type": "stream",
     "text": [
      "\u001b[36m(TrainLightGCN pid=3708704)\u001b[0m Checkpoint successfully created at: Checkpoint(filesystem=local, path=/home/daviddavo/ray_results/LightGCN_optim=map@10,dao=DEAD FoundationsDAO,freq=2d,normalize=True,cutoff_date=2021-11-28T00:00:00,fold=9_2024-03-22T00:12:53.923224/TrainLightGCN_dbc65eed_36_batch_size=6,conv_layers=2,embedding_dim=1,fold=9,l2=0.0000,learning_rate=0.0058_2024-03-22_00-18-41/checkpoint_000000)\n",
      "\u001b[36m(pid=3712931)\u001b[0m 2024-03-22 00:24:01.925020: E tensorflow/compiler/xla/stream_executor/cuda/cuda_dnn.cc:9342] Unable to register cuDNN factory: Attempting to register factory for plugin cuDNN when one has already been registered\n",
      "\u001b[36m(pid=3712931)\u001b[0m 2024-03-22 00:24:01.925056: E tensorflow/compiler/xla/stream_executor/cuda/cuda_fft.cc:609] Unable to register cuFFT factory: Attempting to register factory for plugin cuFFT when one has already been registered\n",
      "\u001b[36m(pid=3712931)\u001b[0m 2024-03-22 00:24:01.925070: E tensorflow/compiler/xla/stream_executor/cuda/cuda_blas.cc:1518] Unable to register cuBLAS factory: Attempting to register factory for plugin cuBLAS when one has already been registered\n"
     ]
    },
    {
     "name": "stderr",
     "output_type": "stream",
     "text": [
      "\u001b[36m(TrainLightGCN pid=3712931)\u001b[0m /home/daviddavo/upm-tfm-notebooks/.direnv/python-3.9/lib/python3.9/site-packages/recommenders/models/deeprec/DataModel/ImplicitCF.py:73: FutureWarning: The frame.append method is deprecated and will be removed from pandas in a future version. Use pandas.concat instead.\n",
      "\u001b[36m(TrainLightGCN pid=3712931)\u001b[0m   df = train if test is None else train.append(test)\n"
     ]
    },
    {
     "name": "stdout",
     "output_type": "stream",
     "text": [
      "\u001b[36m(TrainLightGCN pid=3712931)\u001b[0m Already create adjacency matrix.\n",
      "\u001b[36m(TrainLightGCN pid=3712931)\u001b[0m Already normalize adjacency matrix.\n",
      "\u001b[36m(TrainLightGCN pid=3712931)\u001b[0m Using xavier initialization.\n"
     ]
    },
    {
     "name": "stderr",
     "output_type": "stream",
     "text": [
      "\u001b[36m(TrainLightGCN pid=3708876)\u001b[0m Checkpoint successfully created at: Checkpoint(filesystem=local, path=/home/daviddavo/ray_results/LightGCN_optim=map@10,dao=DEAD FoundationsDAO,freq=2d,normalize=True,cutoff_date=2021-11-28T00:00:00,fold=9_2024-03-22T00:12:53.923224/TrainLightGCN_f2e0bfbc_37_batch_size=7,conv_layers=4,embedding_dim=14,fold=9,l2=0.0000,learning_rate=0.0459_2024-03-22_00-18-47/checkpoint_000000)\n"
     ]
    },
    {
     "name": "stderr",
     "output_type": "stream",
     "text": [
      "\u001b[36m(pid=3713110)\u001b[0m 2024-03-22 00:24:08.834065: E tensorflow/compiler/xla/stream_executor/cuda/cuda_dnn.cc:9342] Unable to register cuDNN factory: Attempting to register factory for plugin cuDNN when one has already been registered\n",
      "\u001b[36m(pid=3713110)\u001b[0m 2024-03-22 00:24:08.834113: E tensorflow/compiler/xla/stream_executor/cuda/cuda_fft.cc:609] Unable to register cuFFT factory: Attempting to register factory for plugin cuFFT when one has already been registered\n",
      "\u001b[36m(pid=3713110)\u001b[0m 2024-03-22 00:24:08.834135: E tensorflow/compiler/xla/stream_executor/cuda/cuda_blas.cc:1518] Unable to register cuBLAS factory: Attempting to register factory for plugin cuBLAS when one has already been registered\n"
     ]
    },
    {
     "name": "stderr",
     "output_type": "stream",
     "text": [
      "\u001b[36m(TrainLightGCN pid=3713110)\u001b[0m /home/daviddavo/upm-tfm-notebooks/.direnv/python-3.9/lib/python3.9/site-packages/recommenders/models/deeprec/DataModel/ImplicitCF.py:73: FutureWarning: The frame.append method is deprecated and will be removed from pandas in a future version. Use pandas.concat instead.\n",
      "\u001b[36m(TrainLightGCN pid=3713110)\u001b[0m   df = train if test is None else train.append(test)\n"
     ]
    },
    {
     "name": "stdout",
     "output_type": "stream",
     "text": [
      "\u001b[36m(TrainLightGCN pid=3713110)\u001b[0m Already create adjacency matrix.\n",
      "\u001b[36m(TrainLightGCN pid=3713110)\u001b[0m Already normalize adjacency matrix.\n",
      "\u001b[36m(TrainLightGCN pid=3713110)\u001b[0m Using xavier initialization.\n"
     ]
    },
    {
     "name": "stderr",
     "output_type": "stream",
     "text": [
      "\u001b[36m(TrainLightGCN pid=3709221)\u001b[0m Checkpoint successfully created at: Checkpoint(filesystem=local, path=/home/daviddavo/ray_results/LightGCN_optim=map@10,dao=DEAD FoundationsDAO,freq=2d,normalize=True,cutoff_date=2021-11-28T00:00:00,fold=9_2024-03-22T00:12:53.923224/TrainLightGCN_4180776c_39_batch_size=7,conv_layers=3,embedding_dim=3,fold=9,l2=0.0000,learning_rate=0.9280_2024-03-22_00-19-00/checkpoint_000000)\u001b[32m [repeated 2x across cluster]\u001b[0m\n",
      "\u001b[36m(pid=3713299)\u001b[0m 2024-03-22 00:24:15.563642: E tensorflow/compiler/xla/stream_executor/cuda/cuda_dnn.cc:9342] Unable to register cuDNN factory: Attempting to register factory for plugin cuDNN when one has already been registered\n",
      "\u001b[36m(pid=3713299)\u001b[0m 2024-03-22 00:24:15.563683: E tensorflow/compiler/xla/stream_executor/cuda/cuda_fft.cc:609] Unable to register cuFFT factory: Attempting to register factory for plugin cuFFT when one has already been registered\n",
      "\u001b[36m(pid=3713299)\u001b[0m 2024-03-22 00:24:15.563702: E tensorflow/compiler/xla/stream_executor/cuda/cuda_blas.cc:1518] Unable to register cuBLAS factory: Attempting to register factory for plugin cuBLAS when one has already been registered\n"
     ]
    },
    {
     "name": "stderr",
     "output_type": "stream",
     "text": [
      "\u001b[36m(TrainLightGCN pid=3713299)\u001b[0m /home/daviddavo/upm-tfm-notebooks/.direnv/python-3.9/lib/python3.9/site-packages/recommenders/models/deeprec/DataModel/ImplicitCF.py:73: FutureWarning: The frame.append method is deprecated and will be removed from pandas in a future version. Use pandas.concat instead.\n",
      "\u001b[36m(TrainLightGCN pid=3713299)\u001b[0m   df = train if test is None else train.append(test)\n"
     ]
    },
    {
     "name": "stdout",
     "output_type": "stream",
     "text": [
      "\u001b[36m(TrainLightGCN pid=3713299)\u001b[0m Already create adjacency matrix.\n",
      "\u001b[36m(TrainLightGCN pid=3713299)\u001b[0m Already normalize adjacency matrix.\n",
      "\u001b[36m(TrainLightGCN pid=3713299)\u001b[0m Using xavier initialization.\n"
     ]
    },
    {
     "name": "stderr",
     "output_type": "stream",
     "text": [
      "\u001b[36m(pid=3713465)\u001b[0m 2024-03-22 00:24:21.480733: E tensorflow/compiler/xla/stream_executor/cuda/cuda_dnn.cc:9342] Unable to register cuDNN factory: Attempting to register factory for plugin cuDNN when one has already been registered\n",
      "\u001b[36m(pid=3713465)\u001b[0m 2024-03-22 00:24:21.480768: E tensorflow/compiler/xla/stream_executor/cuda/cuda_fft.cc:609] Unable to register cuFFT factory: Attempting to register factory for plugin cuFFT when one has already been registered\n",
      "\u001b[36m(pid=3713465)\u001b[0m 2024-03-22 00:24:21.480781: E tensorflow/compiler/xla/stream_executor/cuda/cuda_blas.cc:1518] Unable to register cuBLAS factory: Attempting to register factory for plugin cuBLAS when one has already been registered\n"
     ]
    },
    {
     "name": "stderr",
     "output_type": "stream",
     "text": [
      "\u001b[36m(TrainLightGCN pid=3713465)\u001b[0m /home/daviddavo/upm-tfm-notebooks/.direnv/python-3.9/lib/python3.9/site-packages/recommenders/models/deeprec/DataModel/ImplicitCF.py:73: FutureWarning: The frame.append method is deprecated and will be removed from pandas in a future version. Use pandas.concat instead.\n",
      "\u001b[36m(TrainLightGCN pid=3713465)\u001b[0m   df = train if test is None else train.append(test)\n",
      "\u001b[36m(TrainLightGCN pid=3709387)\u001b[0m Checkpoint successfully created at: Checkpoint(filesystem=local, path=/home/daviddavo/ray_results/LightGCN_optim=map@10,dao=DEAD FoundationsDAO,freq=2d,normalize=True,cutoff_date=2021-11-28T00:00:00,fold=9_2024-03-22T00:12:53.923224/TrainLightGCN_46271938_40_batch_size=7,conv_layers=5,embedding_dim=307,fold=9,l2=0.0000,learning_rate=0.0780_2024-03-22_00-19-05/checkpoint_000000)\n"
     ]
    },
    {
     "name": "stdout",
     "output_type": "stream",
     "text": [
      "\u001b[36m(TrainLightGCN pid=3713465)\u001b[0m Already create adjacency matrix.\n",
      "\u001b[36m(TrainLightGCN pid=3713465)\u001b[0m Already normalize adjacency matrix.\n",
      "\u001b[36m(TrainLightGCN pid=3713465)\u001b[0m Using xavier initialization.\n"
     ]
    },
    {
     "name": "stderr",
     "output_type": "stream",
     "text": [
      "\u001b[36m(pid=3713637)\u001b[0m 2024-03-22 00:24:27.349882: E tensorflow/compiler/xla/stream_executor/cuda/cuda_dnn.cc:9342] Unable to register cuDNN factory: Attempting to register factory for plugin cuDNN when one has already been registered\n",
      "\u001b[36m(pid=3713637)\u001b[0m 2024-03-22 00:24:27.349925: E tensorflow/compiler/xla/stream_executor/cuda/cuda_fft.cc:609] Unable to register cuFFT factory: Attempting to register factory for plugin cuFFT when one has already been registered\n",
      "\u001b[36m(pid=3713637)\u001b[0m 2024-03-22 00:24:27.349946: E tensorflow/compiler/xla/stream_executor/cuda/cuda_blas.cc:1518] Unable to register cuBLAS factory: Attempting to register factory for plugin cuBLAS when one has already been registered\n"
     ]
    },
    {
     "name": "stderr",
     "output_type": "stream",
     "text": [
      "\u001b[36m(TrainLightGCN pid=3713637)\u001b[0m /home/daviddavo/upm-tfm-notebooks/.direnv/python-3.9/lib/python3.9/site-packages/recommenders/models/deeprec/DataModel/ImplicitCF.py:73: FutureWarning: The frame.append method is deprecated and will be removed from pandas in a future version. Use pandas.concat instead.\n",
      "\u001b[36m(TrainLightGCN pid=3713637)\u001b[0m   df = train if test is None else train.append(test)\n",
      "\u001b[36m(TrainLightGCN pid=3709561)\u001b[0m Checkpoint successfully created at: Checkpoint(filesystem=local, path=/home/daviddavo/ray_results/LightGCN_optim=map@10,dao=DEAD FoundationsDAO,freq=2d,normalize=True,cutoff_date=2021-11-28T00:00:00,fold=9_2024-03-22T00:12:53.923224/TrainLightGCN_0fb901e6_41_batch_size=7,conv_layers=4,embedding_dim=125,fold=9,l2=0.0000,learning_rate=0.0008_2024-03-22_00-19-12/checkpoint_000000)\u001b[32m [repeated 2x across cluster]\u001b[0m\n"
     ]
    },
    {
     "name": "stdout",
     "output_type": "stream",
     "text": [
      "\u001b[36m(TrainLightGCN pid=3713637)\u001b[0m Already create adjacency matrix.\n",
      "\u001b[36m(TrainLightGCN pid=3713637)\u001b[0m Already normalize adjacency matrix.\n",
      "\u001b[36m(TrainLightGCN pid=3713637)\u001b[0m Using xavier initialization.\n"
     ]
    },
    {
     "name": "stderr",
     "output_type": "stream",
     "text": [
      "\u001b[36m(pid=3713816)\u001b[0m 2024-03-22 00:24:32.896569: E tensorflow/compiler/xla/stream_executor/cuda/cuda_dnn.cc:9342] Unable to register cuDNN factory: Attempting to register factory for plugin cuDNN when one has already been registered\n",
      "\u001b[36m(pid=3713816)\u001b[0m 2024-03-22 00:24:32.896608: E tensorflow/compiler/xla/stream_executor/cuda/cuda_fft.cc:609] Unable to register cuFFT factory: Attempting to register factory for plugin cuFFT when one has already been registered\n",
      "\u001b[36m(pid=3713816)\u001b[0m 2024-03-22 00:24:32.896623: E tensorflow/compiler/xla/stream_executor/cuda/cuda_blas.cc:1518] Unable to register cuBLAS factory: Attempting to register factory for plugin cuBLAS when one has already been registered\n"
     ]
    },
    {
     "name": "stderr",
     "output_type": "stream",
     "text": [
      "\u001b[36m(TrainLightGCN pid=3713816)\u001b[0m /home/daviddavo/upm-tfm-notebooks/.direnv/python-3.9/lib/python3.9/site-packages/recommenders/models/deeprec/DataModel/ImplicitCF.py:73: FutureWarning: The frame.append method is deprecated and will be removed from pandas in a future version. Use pandas.concat instead.\n",
      "\u001b[36m(TrainLightGCN pid=3713816)\u001b[0m   df = train if test is None else train.append(test)\n"
     ]
    },
    {
     "name": "stdout",
     "output_type": "stream",
     "text": [
      "\u001b[36m(TrainLightGCN pid=3713816)\u001b[0m Already normalize adjacency matrix.\n",
      "\u001b[36m(TrainLightGCN pid=3713816)\u001b[0m Using xavier initialization.\n",
      "\u001b[36m(TrainLightGCN pid=3713816)\u001b[0m Already create adjacency matrix.\n"
     ]
    },
    {
     "name": "stderr",
     "output_type": "stream",
     "text": [
      "\u001b[36m(pid=3713985)\u001b[0m 2024-03-22 00:24:38.668545: E tensorflow/compiler/xla/stream_executor/cuda/cuda_dnn.cc:9342] Unable to register cuDNN factory: Attempting to register factory for plugin cuDNN when one has already been registered\n",
      "\u001b[36m(pid=3713985)\u001b[0m 2024-03-22 00:24:38.668595: E tensorflow/compiler/xla/stream_executor/cuda/cuda_fft.cc:609] Unable to register cuFFT factory: Attempting to register factory for plugin cuFFT when one has already been registered\n",
      "\u001b[36m(pid=3713985)\u001b[0m 2024-03-22 00:24:38.668619: E tensorflow/compiler/xla/stream_executor/cuda/cuda_blas.cc:1518] Unable to register cuBLAS factory: Attempting to register factory for plugin cuBLAS when one has already been registered\n"
     ]
    },
    {
     "name": "stderr",
     "output_type": "stream",
     "text": [
      "\u001b[36m(TrainLightGCN pid=3713985)\u001b[0m /home/daviddavo/upm-tfm-notebooks/.direnv/python-3.9/lib/python3.9/site-packages/recommenders/models/deeprec/DataModel/ImplicitCF.py:73: FutureWarning: The frame.append method is deprecated and will be removed from pandas in a future version. Use pandas.concat instead.\n",
      "\u001b[36m(TrainLightGCN pid=3713985)\u001b[0m   df = train if test is None else train.append(test)\n"
     ]
    },
    {
     "name": "stdout",
     "output_type": "stream",
     "text": [
      "\u001b[36m(TrainLightGCN pid=3713985)\u001b[0m Already create adjacency matrix.\n",
      "\u001b[36m(TrainLightGCN pid=3713985)\u001b[0m Already normalize adjacency matrix.\n",
      "\u001b[36m(TrainLightGCN pid=3713985)\u001b[0m Using xavier initialization.\n"
     ]
    },
    {
     "name": "stderr",
     "output_type": "stream",
     "text": [
      "\u001b[36m(pid=3714154)\u001b[0m 2024-03-22 00:24:44.976336: E tensorflow/compiler/xla/stream_executor/cuda/cuda_dnn.cc:9342] Unable to register cuDNN factory: Attempting to register factory for plugin cuDNN when one has already been registered\n",
      "\u001b[36m(pid=3714154)\u001b[0m 2024-03-22 00:24:44.976383: E tensorflow/compiler/xla/stream_executor/cuda/cuda_fft.cc:609] Unable to register cuFFT factory: Attempting to register factory for plugin cuFFT when one has already been registered\n",
      "\u001b[36m(pid=3714154)\u001b[0m 2024-03-22 00:24:44.976408: E tensorflow/compiler/xla/stream_executor/cuda/cuda_blas.cc:1518] Unable to register cuBLAS factory: Attempting to register factory for plugin cuBLAS when one has already been registered\n"
     ]
    },
    {
     "name": "stderr",
     "output_type": "stream",
     "text": [
      "\u001b[36m(TrainLightGCN pid=3714154)\u001b[0m /home/daviddavo/upm-tfm-notebooks/.direnv/python-3.9/lib/python3.9/site-packages/recommenders/models/deeprec/DataModel/ImplicitCF.py:73: FutureWarning: The frame.append method is deprecated and will be removed from pandas in a future version. Use pandas.concat instead.\n",
      "\u001b[36m(TrainLightGCN pid=3714154)\u001b[0m   df = train if test is None else train.append(test)\n"
     ]
    },
    {
     "name": "stdout",
     "output_type": "stream",
     "text": [
      "\u001b[36m(TrainLightGCN pid=3714154)\u001b[0m Already normalize adjacency matrix.\n",
      "\u001b[36m(TrainLightGCN pid=3714154)\u001b[0m Using xavier initialization.\n",
      "\u001b[36m(TrainLightGCN pid=3714154)\u001b[0m Already create adjacency matrix.\n"
     ]
    },
    {
     "name": "stderr",
     "output_type": "stream",
     "text": [
      "\u001b[36m(TrainLightGCN pid=3711181)\u001b[0m Checkpoint successfully created at: Checkpoint(filesystem=local, path=/home/daviddavo/ray_results/LightGCN_optim=map@10,dao=DEAD FoundationsDAO,freq=2d,normalize=True,cutoff_date=2021-11-28T00:00:00,fold=9_2024-03-22T00:12:53.923224/TrainLightGCN_3abf7dea_49_batch_size=8,conv_layers=3,embedding_dim=1023,fold=9,l2=0.0000,learning_rate=0.2813_2024-03-22_00-21-03/checkpoint_000000)\n"
     ]
    },
    {
     "name": "stderr",
     "output_type": "stream",
     "text": [
      "\u001b[36m(pid=3714329)\u001b[0m 2024-03-22 00:24:51.136539: E tensorflow/compiler/xla/stream_executor/cuda/cuda_dnn.cc:9342] Unable to register cuDNN factory: Attempting to register factory for plugin cuDNN when one has already been registered\n",
      "\u001b[36m(pid=3714329)\u001b[0m 2024-03-22 00:24:51.136580: E tensorflow/compiler/xla/stream_executor/cuda/cuda_fft.cc:609] Unable to register cuFFT factory: Attempting to register factory for plugin cuFFT when one has already been registered\n",
      "\u001b[36m(pid=3714329)\u001b[0m 2024-03-22 00:24:51.136594: E tensorflow/compiler/xla/stream_executor/cuda/cuda_blas.cc:1518] Unable to register cuBLAS factory: Attempting to register factory for plugin cuBLAS when one has already been registered\n"
     ]
    },
    {
     "name": "stderr",
     "output_type": "stream",
     "text": [
      "\u001b[36m(TrainLightGCN pid=3714329)\u001b[0m /home/daviddavo/upm-tfm-notebooks/.direnv/python-3.9/lib/python3.9/site-packages/recommenders/models/deeprec/DataModel/ImplicitCF.py:73: FutureWarning: The frame.append method is deprecated and will be removed from pandas in a future version. Use pandas.concat instead.\n",
      "\u001b[36m(TrainLightGCN pid=3714329)\u001b[0m   df = train if test is None else train.append(test)\n"
     ]
    },
    {
     "name": "stdout",
     "output_type": "stream",
     "text": [
      "\u001b[36m(TrainLightGCN pid=3714329)\u001b[0m Already create adjacency matrix.\n",
      "\u001b[36m(TrainLightGCN pid=3714329)\u001b[0m Already normalize adjacency matrix.\n",
      "\u001b[36m(TrainLightGCN pid=3714329)\u001b[0m Using xavier initialization.\n"
     ]
    },
    {
     "name": "stderr",
     "output_type": "stream",
     "text": [
      "\u001b[36m(pid=3714503)\u001b[0m 2024-03-22 00:24:56.769385: E tensorflow/compiler/xla/stream_executor/cuda/cuda_dnn.cc:9342] Unable to register cuDNN factory: Attempting to register factory for plugin cuDNN when one has already been registered\n",
      "\u001b[36m(pid=3714503)\u001b[0m 2024-03-22 00:24:56.769417: E tensorflow/compiler/xla/stream_executor/cuda/cuda_fft.cc:609] Unable to register cuFFT factory: Attempting to register factory for plugin cuFFT when one has already been registered\n",
      "\u001b[36m(pid=3714503)\u001b[0m 2024-03-22 00:24:56.769433: E tensorflow/compiler/xla/stream_executor/cuda/cuda_blas.cc:1518] Unable to register cuBLAS factory: Attempting to register factory for plugin cuBLAS when one has already been registered\n",
      "\u001b[36m(TrainLightGCN pid=3709806)\u001b[0m Checkpoint successfully created at: Checkpoint(filesystem=local, path=/home/daviddavo/ray_results/LightGCN_optim=map@10,dao=DEAD FoundationsDAO,freq=2d,normalize=True,cutoff_date=2021-11-28T00:00:00,fold=9_2024-03-22T00:12:53.923224/TrainLightGCN_b7424a64_42_batch_size=7,conv_layers=3,embedding_dim=54,fold=9,l2=0.0000,learning_rate=0.2757_2024-03-22_00-19-18/checkpoint_000000)\n"
     ]
    },
    {
     "name": "stderr",
     "output_type": "stream",
     "text": [
      "\u001b[36m(TrainLightGCN pid=3714503)\u001b[0m /home/daviddavo/upm-tfm-notebooks/.direnv/python-3.9/lib/python3.9/site-packages/recommenders/models/deeprec/DataModel/ImplicitCF.py:73: FutureWarning: The frame.append method is deprecated and will be removed from pandas in a future version. Use pandas.concat instead.\n",
      "\u001b[36m(TrainLightGCN pid=3714503)\u001b[0m   df = train if test is None else train.append(test)\n"
     ]
    },
    {
     "name": "stdout",
     "output_type": "stream",
     "text": [
      "\u001b[36m(TrainLightGCN pid=3714503)\u001b[0m Already normalize adjacency matrix.\n",
      "\u001b[36m(TrainLightGCN pid=3714503)\u001b[0m Using xavier initialization.\n",
      "\u001b[36m(TrainLightGCN pid=3714503)\u001b[0m Already create adjacency matrix.\n"
     ]
    },
    {
     "name": "stderr",
     "output_type": "stream",
     "text": [
      "\u001b[36m(pid=3714671)\u001b[0m 2024-03-22 00:25:02.446102: E tensorflow/compiler/xla/stream_executor/cuda/cuda_dnn.cc:9342] Unable to register cuDNN factory: Attempting to register factory for plugin cuDNN when one has already been registered\n",
      "\u001b[36m(pid=3714671)\u001b[0m 2024-03-22 00:25:02.446142: E tensorflow/compiler/xla/stream_executor/cuda/cuda_fft.cc:609] Unable to register cuFFT factory: Attempting to register factory for plugin cuFFT when one has already been registered\n",
      "\u001b[36m(pid=3714671)\u001b[0m 2024-03-22 00:25:02.446160: E tensorflow/compiler/xla/stream_executor/cuda/cuda_blas.cc:1518] Unable to register cuBLAS factory: Attempting to register factory for plugin cuBLAS when one has already been registered\n"
     ]
    },
    {
     "name": "stderr",
     "output_type": "stream",
     "text": [
      "\u001b[36m(TrainLightGCN pid=3709956)\u001b[0m Checkpoint successfully created at: Checkpoint(filesystem=local, path=/home/daviddavo/ray_results/LightGCN_optim=map@10,dao=DEAD FoundationsDAO,freq=2d,normalize=True,cutoff_date=2021-11-28T00:00:00,fold=9_2024-03-22T00:12:53.923224/TrainLightGCN_3d378ee8_43_batch_size=6,conv_layers=1,embedding_dim=1,fold=9,l2=0.0011,learning_rate=0.0002_2024-03-22_00-19-38/checkpoint_000000)\n"
     ]
    },
    {
     "name": "stderr",
     "output_type": "stream",
     "text": [
      "\u001b[36m(TrainLightGCN pid=3714671)\u001b[0m /home/daviddavo/upm-tfm-notebooks/.direnv/python-3.9/lib/python3.9/site-packages/recommenders/models/deeprec/DataModel/ImplicitCF.py:73: FutureWarning: The frame.append method is deprecated and will be removed from pandas in a future version. Use pandas.concat instead.\n",
      "\u001b[36m(TrainLightGCN pid=3714671)\u001b[0m   df = train if test is None else train.append(test)\n"
     ]
    },
    {
     "name": "stdout",
     "output_type": "stream",
     "text": [
      "\u001b[36m(TrainLightGCN pid=3714671)\u001b[0m Already create adjacency matrix.\n",
      "\u001b[36m(TrainLightGCN pid=3714671)\u001b[0m Already normalize adjacency matrix.\n",
      "\u001b[36m(TrainLightGCN pid=3714671)\u001b[0m Using xavier initialization.\n"
     ]
    },
    {
     "name": "stderr",
     "output_type": "stream",
     "text": [
      "\u001b[36m(pid=3714846)\u001b[0m 2024-03-22 00:25:09.015692: E tensorflow/compiler/xla/stream_executor/cuda/cuda_dnn.cc:9342] Unable to register cuDNN factory: Attempting to register factory for plugin cuDNN when one has already been registered\n",
      "\u001b[36m(pid=3714846)\u001b[0m 2024-03-22 00:25:09.015733: E tensorflow/compiler/xla/stream_executor/cuda/cuda_fft.cc:609] Unable to register cuFFT factory: Attempting to register factory for plugin cuFFT when one has already been registered\n",
      "\u001b[36m(pid=3714846)\u001b[0m 2024-03-22 00:25:09.015747: E tensorflow/compiler/xla/stream_executor/cuda/cuda_blas.cc:1518] Unable to register cuBLAS factory: Attempting to register factory for plugin cuBLAS when one has already been registered\n"
     ]
    },
    {
     "name": "stderr",
     "output_type": "stream",
     "text": [
      "\u001b[36m(TrainLightGCN pid=3714846)\u001b[0m /home/daviddavo/upm-tfm-notebooks/.direnv/python-3.9/lib/python3.9/site-packages/recommenders/models/deeprec/DataModel/ImplicitCF.py:73: FutureWarning: The frame.append method is deprecated and will be removed from pandas in a future version. Use pandas.concat instead.\n",
      "\u001b[36m(TrainLightGCN pid=3714846)\u001b[0m   df = train if test is None else train.append(test)\n"
     ]
    },
    {
     "name": "stdout",
     "output_type": "stream",
     "text": [
      "\u001b[36m(TrainLightGCN pid=3714846)\u001b[0m Already normalize adjacency matrix.\n",
      "\u001b[36m(TrainLightGCN pid=3714846)\u001b[0m Using xavier initialization.\n",
      "\u001b[36m(TrainLightGCN pid=3714846)\u001b[0m Already create adjacency matrix.\n"
     ]
    },
    {
     "name": "stderr",
     "output_type": "stream",
     "text": [
      "\u001b[36m(TrainLightGCN pid=3710419)\u001b[0m Checkpoint successfully created at: Checkpoint(filesystem=local, path=/home/daviddavo/ray_results/LightGCN_optim=map@10,dao=DEAD FoundationsDAO,freq=2d,normalize=True,cutoff_date=2021-11-28T00:00:00,fold=9_2024-03-22T00:12:53.923224/TrainLightGCN_0ab9dfb1_45_batch_size=7,conv_layers=2,embedding_dim=26,fold=9,l2=0.0005,learning_rate=0.0005_2024-03-22_00-19-50/checkpoint_000000)\n"
     ]
    },
    {
     "name": "stderr",
     "output_type": "stream",
     "text": [
      "\u001b[36m(pid=3715131)\u001b[0m 2024-03-22 00:25:42.158455: E tensorflow/compiler/xla/stream_executor/cuda/cuda_dnn.cc:9342] Unable to register cuDNN factory: Attempting to register factory for plugin cuDNN when one has already been registered\n",
      "\u001b[36m(pid=3715131)\u001b[0m 2024-03-22 00:25:42.158499: E tensorflow/compiler/xla/stream_executor/cuda/cuda_fft.cc:609] Unable to register cuFFT factory: Attempting to register factory for plugin cuFFT when one has already been registered\n",
      "\u001b[36m(pid=3715131)\u001b[0m 2024-03-22 00:25:42.158522: E tensorflow/compiler/xla/stream_executor/cuda/cuda_blas.cc:1518] Unable to register cuBLAS factory: Attempting to register factory for plugin cuBLAS when one has already been registered\n"
     ]
    },
    {
     "name": "stderr",
     "output_type": "stream",
     "text": [
      "\u001b[36m(TrainLightGCN pid=3715131)\u001b[0m /home/daviddavo/upm-tfm-notebooks/.direnv/python-3.9/lib/python3.9/site-packages/recommenders/models/deeprec/DataModel/ImplicitCF.py:73: FutureWarning: The frame.append method is deprecated and will be removed from pandas in a future version. Use pandas.concat instead.\n",
      "\u001b[36m(TrainLightGCN pid=3715131)\u001b[0m   df = train if test is None else train.append(test)\n"
     ]
    },
    {
     "name": "stdout",
     "output_type": "stream",
     "text": [
      "\u001b[36m(TrainLightGCN pid=3715131)\u001b[0m Already create adjacency matrix.\n",
      "\u001b[36m(TrainLightGCN pid=3715131)\u001b[0m Already normalize adjacency matrix.\n",
      "\u001b[36m(TrainLightGCN pid=3715131)\u001b[0m Using xavier initialization.\n"
     ]
    },
    {
     "name": "stderr",
     "output_type": "stream",
     "text": [
      "\u001b[36m(TrainLightGCN pid=3712760)\u001b[0m Checkpoint successfully created at: Checkpoint(filesystem=local, path=/home/daviddavo/ray_results/LightGCN_optim=map@10,dao=DEAD FoundationsDAO,freq=2d,normalize=True,cutoff_date=2021-11-28T00:00:00,fold=9_2024-03-22T00:12:53.923224/TrainLightGCN_8339f477_56_batch_size=9,conv_layers=1,embedding_dim=480,fold=9,l2=0.0000,learning_rate=0.0137_2024-03-22_00-23-54/checkpoint_000000)\n"
     ]
    },
    {
     "name": "stderr",
     "output_type": "stream",
     "text": [
      "\u001b[36m(pid=3715311)\u001b[0m 2024-03-22 00:25:50.814584: E tensorflow/compiler/xla/stream_executor/cuda/cuda_dnn.cc:9342] Unable to register cuDNN factory: Attempting to register factory for plugin cuDNN when one has already been registered\n",
      "\u001b[36m(pid=3715311)\u001b[0m 2024-03-22 00:25:50.814621: E tensorflow/compiler/xla/stream_executor/cuda/cuda_fft.cc:609] Unable to register cuFFT factory: Attempting to register factory for plugin cuFFT when one has already been registered\n",
      "\u001b[36m(pid=3715311)\u001b[0m 2024-03-22 00:25:50.814636: E tensorflow/compiler/xla/stream_executor/cuda/cuda_blas.cc:1518] Unable to register cuBLAS factory: Attempting to register factory for plugin cuBLAS when one has already been registered\n"
     ]
    },
    {
     "name": "stderr",
     "output_type": "stream",
     "text": [
      "\u001b[36m(TrainLightGCN pid=3715311)\u001b[0m /home/daviddavo/upm-tfm-notebooks/.direnv/python-3.9/lib/python3.9/site-packages/recommenders/models/deeprec/DataModel/ImplicitCF.py:73: FutureWarning: The frame.append method is deprecated and will be removed from pandas in a future version. Use pandas.concat instead.\n",
      "\u001b[36m(TrainLightGCN pid=3715311)\u001b[0m   df = train if test is None else train.append(test)\n"
     ]
    },
    {
     "name": "stdout",
     "output_type": "stream",
     "text": [
      "\u001b[36m(TrainLightGCN pid=3715311)\u001b[0m Already normalize adjacency matrix.\n",
      "\u001b[36m(TrainLightGCN pid=3715311)\u001b[0m Already create adjacency matrix.\n",
      "\u001b[36m(TrainLightGCN pid=3715311)\u001b[0m Using xavier initialization.\n"
     ]
    },
    {
     "name": "stderr",
     "output_type": "stream",
     "text": [
      "\u001b[36m(TrainLightGCN pid=3710805)\u001b[0m Checkpoint successfully created at: Checkpoint(filesystem=local, path=/home/daviddavo/ray_results/LightGCN_optim=map@10,dao=DEAD FoundationsDAO,freq=2d,normalize=True,cutoff_date=2021-11-28T00:00:00,fold=9_2024-03-22T00:12:53.923224/TrainLightGCN_c53f9ee2_47_batch_size=7,conv_layers=4,embedding_dim=37,fold=9,l2=0.0000,learning_rate=0.1284_2024-03-22_00-20-34/checkpoint_000000)\n"
     ]
    },
    {
     "name": "stderr",
     "output_type": "stream",
     "text": [
      "\u001b[36m(pid=3715509)\u001b[0m 2024-03-22 00:26:06.069678: E tensorflow/compiler/xla/stream_executor/cuda/cuda_dnn.cc:9342] Unable to register cuDNN factory: Attempting to register factory for plugin cuDNN when one has already been registered\n",
      "\u001b[36m(pid=3715509)\u001b[0m 2024-03-22 00:26:06.069733: E tensorflow/compiler/xla/stream_executor/cuda/cuda_fft.cc:609] Unable to register cuFFT factory: Attempting to register factory for plugin cuFFT when one has already been registered\n",
      "\u001b[36m(pid=3715509)\u001b[0m 2024-03-22 00:26:06.069760: E tensorflow/compiler/xla/stream_executor/cuda/cuda_blas.cc:1518] Unable to register cuBLAS factory: Attempting to register factory for plugin cuBLAS when one has already been registered\n"
     ]
    },
    {
     "name": "stderr",
     "output_type": "stream",
     "text": [
      "\u001b[36m(TrainLightGCN pid=3715509)\u001b[0m /home/daviddavo/upm-tfm-notebooks/.direnv/python-3.9/lib/python3.9/site-packages/recommenders/models/deeprec/DataModel/ImplicitCF.py:73: FutureWarning: The frame.append method is deprecated and will be removed from pandas in a future version. Use pandas.concat instead.\n",
      "\u001b[36m(TrainLightGCN pid=3715509)\u001b[0m   df = train if test is None else train.append(test)\n",
      "\u001b[36m(TrainLightGCN pid=3710994)\u001b[0m Checkpoint successfully created at: Checkpoint(filesystem=local, path=/home/daviddavo/ray_results/LightGCN_optim=map@10,dao=DEAD FoundationsDAO,freq=2d,normalize=True,cutoff_date=2021-11-28T00:00:00,fold=9_2024-03-22T00:12:53.923224/TrainLightGCN_295a29cc_48_batch_size=7,conv_layers=5,embedding_dim=4,fold=9,l2=0.0000,learning_rate=0.0089_2024-03-22_00-20-51/checkpoint_000000)\n"
     ]
    },
    {
     "name": "stdout",
     "output_type": "stream",
     "text": [
      "\u001b[36m(TrainLightGCN pid=3715509)\u001b[0m Already create adjacency matrix.\n",
      "\u001b[36m(TrainLightGCN pid=3715509)\u001b[0m Using xavier initialization.\n",
      "\u001b[36m(TrainLightGCN pid=3715509)\u001b[0m Already normalize adjacency matrix.\n"
     ]
    },
    {
     "name": "stderr",
     "output_type": "stream",
     "text": [
      "\u001b[36m(pid=3715662)\u001b[0m 2024-03-22 00:26:12.885558: E tensorflow/compiler/xla/stream_executor/cuda/cuda_dnn.cc:9342] Unable to register cuDNN factory: Attempting to register factory for plugin cuDNN when one has already been registered\n",
      "\u001b[36m(pid=3715662)\u001b[0m 2024-03-22 00:26:12.885598: E tensorflow/compiler/xla/stream_executor/cuda/cuda_fft.cc:609] Unable to register cuFFT factory: Attempting to register factory for plugin cuFFT when one has already been registered\n",
      "\u001b[36m(pid=3715662)\u001b[0m 2024-03-22 00:26:12.885615: E tensorflow/compiler/xla/stream_executor/cuda/cuda_blas.cc:1518] Unable to register cuBLAS factory: Attempting to register factory for plugin cuBLAS when one has already been registered\n"
     ]
    },
    {
     "name": "stderr",
     "output_type": "stream",
     "text": [
      "\u001b[36m(TrainLightGCN pid=3715662)\u001b[0m /home/daviddavo/upm-tfm-notebooks/.direnv/python-3.9/lib/python3.9/site-packages/recommenders/models/deeprec/DataModel/ImplicitCF.py:73: FutureWarning: The frame.append method is deprecated and will be removed from pandas in a future version. Use pandas.concat instead.\n",
      "\u001b[36m(TrainLightGCN pid=3715662)\u001b[0m   df = train if test is None else train.append(test)\n"
     ]
    },
    {
     "name": "stdout",
     "output_type": "stream",
     "text": [
      "\u001b[36m(TrainLightGCN pid=3715662)\u001b[0m Already normalize adjacency matrix.\n",
      "\u001b[36m(TrainLightGCN pid=3715662)\u001b[0m Already create adjacency matrix.\n",
      "\u001b[36m(TrainLightGCN pid=3715662)\u001b[0m Using xavier initialization.\n"
     ]
    },
    {
     "name": "stderr",
     "output_type": "stream",
     "text": [
      "\u001b[36m(TrainLightGCN pid=3711729)\u001b[0m Checkpoint successfully created at: Checkpoint(filesystem=local, path=/home/daviddavo/ray_results/LightGCN_optim=map@10,dao=DEAD FoundationsDAO,freq=2d,normalize=True,cutoff_date=2021-11-28T00:00:00,fold=9_2024-03-22T00:12:53.923224/TrainLightGCN_4a6b8582_52_batch_size=6,conv_layers=4,embedding_dim=160,fold=9,l2=0.0000,learning_rate=0.0226_2024-03-22_00-21-41/checkpoint_000000)\n"
     ]
    },
    {
     "name": "stderr",
     "output_type": "stream",
     "text": [
      "\u001b[36m(pid=3716034)\u001b[0m 2024-03-22 00:27:16.876097: E tensorflow/compiler/xla/stream_executor/cuda/cuda_dnn.cc:9342] Unable to register cuDNN factory: Attempting to register factory for plugin cuDNN when one has already been registered\n",
      "\u001b[36m(pid=3716034)\u001b[0m 2024-03-22 00:27:16.876151: E tensorflow/compiler/xla/stream_executor/cuda/cuda_fft.cc:609] Unable to register cuFFT factory: Attempting to register factory for plugin cuFFT when one has already been registered\n",
      "\u001b[36m(pid=3716034)\u001b[0m 2024-03-22 00:27:16.876179: E tensorflow/compiler/xla/stream_executor/cuda/cuda_blas.cc:1518] Unable to register cuBLAS factory: Attempting to register factory for plugin cuBLAS when one has already been registered\n"
     ]
    },
    {
     "name": "stderr",
     "output_type": "stream",
     "text": [
      "\u001b[36m(TrainLightGCN pid=3716034)\u001b[0m /home/daviddavo/upm-tfm-notebooks/.direnv/python-3.9/lib/python3.9/site-packages/recommenders/models/deeprec/DataModel/ImplicitCF.py:73: FutureWarning: The frame.append method is deprecated and will be removed from pandas in a future version. Use pandas.concat instead.\n",
      "\u001b[36m(TrainLightGCN pid=3716034)\u001b[0m   df = train if test is None else train.append(test)\n"
     ]
    },
    {
     "name": "stdout",
     "output_type": "stream",
     "text": [
      "\u001b[36m(TrainLightGCN pid=3716034)\u001b[0m Already create adjacency matrix.\n",
      "\u001b[36m(TrainLightGCN pid=3716034)\u001b[0m Using xavier initialization.\n",
      "\u001b[36m(TrainLightGCN pid=3716034)\u001b[0m Already normalize adjacency matrix.\n"
     ]
    },
    {
     "name": "stderr",
     "output_type": "stream",
     "text": [
      "\u001b[36m(TrainLightGCN pid=3712012)\u001b[0m Checkpoint successfully created at: Checkpoint(filesystem=local, path=/home/daviddavo/ray_results/LightGCN_optim=map@10,dao=DEAD FoundationsDAO,freq=2d,normalize=True,cutoff_date=2021-11-28T00:00:00,fold=9_2024-03-22T00:12:53.923224/TrainLightGCN_a697a8ff_53_batch_size=7,conv_layers=4,embedding_dim=8,fold=9,l2=0.0000,learning_rate=0.6849_2024-03-22_00-21-48/checkpoint_000000)\n"
     ]
    },
    {
     "name": "stderr",
     "output_type": "stream",
     "text": [
      "\u001b[36m(pid=3716231)\u001b[0m 2024-03-22 00:27:30.758950: E tensorflow/compiler/xla/stream_executor/cuda/cuda_dnn.cc:9342] Unable to register cuDNN factory: Attempting to register factory for plugin cuDNN when one has already been registered\n",
      "\u001b[36m(pid=3716231)\u001b[0m 2024-03-22 00:27:30.758991: E tensorflow/compiler/xla/stream_executor/cuda/cuda_fft.cc:609] Unable to register cuFFT factory: Attempting to register factory for plugin cuFFT when one has already been registered\n",
      "\u001b[36m(pid=3716231)\u001b[0m 2024-03-22 00:27:30.759006: E tensorflow/compiler/xla/stream_executor/cuda/cuda_blas.cc:1518] Unable to register cuBLAS factory: Attempting to register factory for plugin cuBLAS when one has already been registered\n"
     ]
    },
    {
     "name": "stderr",
     "output_type": "stream",
     "text": [
      "\u001b[36m(TrainLightGCN pid=3716231)\u001b[0m /home/daviddavo/upm-tfm-notebooks/.direnv/python-3.9/lib/python3.9/site-packages/recommenders/models/deeprec/DataModel/ImplicitCF.py:73: FutureWarning: The frame.append method is deprecated and will be removed from pandas in a future version. Use pandas.concat instead.\n",
      "\u001b[36m(TrainLightGCN pid=3716231)\u001b[0m   df = train if test is None else train.append(test)\n"
     ]
    },
    {
     "name": "stdout",
     "output_type": "stream",
     "text": [
      "\u001b[36m(TrainLightGCN pid=3716231)\u001b[0m Already normalize adjacency matrix.\n",
      "\u001b[36m(TrainLightGCN pid=3716231)\u001b[0m Already create adjacency matrix.\n",
      "\u001b[36m(TrainLightGCN pid=3716231)\u001b[0m Using xavier initialization.\n"
     ]
    },
    {
     "name": "stderr",
     "output_type": "stream",
     "text": [
      "\u001b[36m(TrainLightGCN pid=3712577)\u001b[0m Checkpoint successfully created at: Checkpoint(filesystem=local, path=/home/daviddavo/ray_results/LightGCN_optim=map@10,dao=DEAD FoundationsDAO,freq=2d,normalize=True,cutoff_date=2021-11-28T00:00:00,fold=9_2024-03-22T00:12:53.923224/TrainLightGCN_dc573311_55_batch_size=8,conv_layers=2,embedding_dim=40,fold=9,l2=0.0032,learning_rate=0.0055_2024-03-22_00-23-48/checkpoint_000000)\n"
     ]
    },
    {
     "name": "stderr",
     "output_type": "stream",
     "text": [
      "\u001b[36m(pid=3716380)\u001b[0m 2024-03-22 00:27:37.001883: E tensorflow/compiler/xla/stream_executor/cuda/cuda_dnn.cc:9342] Unable to register cuDNN factory: Attempting to register factory for plugin cuDNN when one has already been registered\n",
      "\u001b[36m(pid=3716380)\u001b[0m 2024-03-22 00:27:37.001923: E tensorflow/compiler/xla/stream_executor/cuda/cuda_fft.cc:609] Unable to register cuFFT factory: Attempting to register factory for plugin cuFFT when one has already been registered\n",
      "\u001b[36m(pid=3716380)\u001b[0m 2024-03-22 00:27:37.001938: E tensorflow/compiler/xla/stream_executor/cuda/cuda_blas.cc:1518] Unable to register cuBLAS factory: Attempting to register factory for plugin cuBLAS when one has already been registered\n"
     ]
    },
    {
     "name": "stderr",
     "output_type": "stream",
     "text": [
      "\u001b[36m(TrainLightGCN pid=3716380)\u001b[0m /home/daviddavo/upm-tfm-notebooks/.direnv/python-3.9/lib/python3.9/site-packages/recommenders/models/deeprec/DataModel/ImplicitCF.py:73: FutureWarning: The frame.append method is deprecated and will be removed from pandas in a future version. Use pandas.concat instead.\n",
      "\u001b[36m(TrainLightGCN pid=3716380)\u001b[0m   df = train if test is None else train.append(test)\n"
     ]
    },
    {
     "name": "stdout",
     "output_type": "stream",
     "text": [
      "\u001b[36m(TrainLightGCN pid=3716380)\u001b[0m Already create adjacency matrix.\n",
      "\u001b[36m(TrainLightGCN pid=3716380)\u001b[0m Using xavier initialization.\n",
      "\u001b[36m(TrainLightGCN pid=3716380)\u001b[0m Already normalize adjacency matrix.\n"
     ]
    },
    {
     "name": "stderr",
     "output_type": "stream",
     "text": [
      "\u001b[36m(TrainLightGCN pid=3715311)\u001b[0m Checkpoint successfully created at: Checkpoint(filesystem=local, path=/home/daviddavo/ray_results/LightGCN_optim=map@10,dao=DEAD FoundationsDAO,freq=2d,normalize=True,cutoff_date=2021-11-28T00:00:00,fold=9_2024-03-22T00:12:53.923224/TrainLightGCN_b80a70dc_70_batch_size=9,conv_layers=5,embedding_dim=731,fold=9,l2=0.0001,learning_rate=0.0011_2024-03-22_00-25-46/checkpoint_000000)\n"
     ]
    },
    {
     "name": "stderr",
     "output_type": "stream",
     "text": [
      "\u001b[36m(pid=3716644)\u001b[0m 2024-03-22 00:28:04.962841: E tensorflow/compiler/xla/stream_executor/cuda/cuda_dnn.cc:9342] Unable to register cuDNN factory: Attempting to register factory for plugin cuDNN when one has already been registered\n",
      "\u001b[36m(pid=3716644)\u001b[0m 2024-03-22 00:28:04.962878: E tensorflow/compiler/xla/stream_executor/cuda/cuda_fft.cc:609] Unable to register cuFFT factory: Attempting to register factory for plugin cuFFT when one has already been registered\n",
      "\u001b[36m(pid=3716644)\u001b[0m 2024-03-22 00:28:04.962896: E tensorflow/compiler/xla/stream_executor/cuda/cuda_blas.cc:1518] Unable to register cuBLAS factory: Attempting to register factory for plugin cuBLAS when one has already been registered\n"
     ]
    },
    {
     "name": "stderr",
     "output_type": "stream",
     "text": [
      "\u001b[36m(TrainLightGCN pid=3716644)\u001b[0m /home/daviddavo/upm-tfm-notebooks/.direnv/python-3.9/lib/python3.9/site-packages/recommenders/models/deeprec/DataModel/ImplicitCF.py:73: FutureWarning: The frame.append method is deprecated and will be removed from pandas in a future version. Use pandas.concat instead.\n",
      "\u001b[36m(TrainLightGCN pid=3716644)\u001b[0m   df = train if test is None else train.append(test)\n"
     ]
    },
    {
     "name": "stdout",
     "output_type": "stream",
     "text": [
      "\u001b[36m(TrainLightGCN pid=3716644)\u001b[0m Already normalize adjacency matrix.\n",
      "\u001b[36m(TrainLightGCN pid=3716644)\u001b[0m Already create adjacency matrix.\n",
      "\u001b[36m(TrainLightGCN pid=3716644)\u001b[0m Using xavier initialization.\n"
     ]
    },
    {
     "name": "stderr",
     "output_type": "stream",
     "text": [
      "\u001b[36m(TrainLightGCN pid=3712428)\u001b[0m Checkpoint successfully created at: Checkpoint(filesystem=local, path=/home/daviddavo/ray_results/LightGCN_optim=map@10,dao=DEAD FoundationsDAO,freq=2d,normalize=True,cutoff_date=2021-11-28T00:00:00,fold=9_2024-03-22T00:12:53.923224/TrainLightGCN_6a6aba15_54_batch_size=8,conv_layers=5,embedding_dim=863,fold=9,l2=0.0001,learning_rate=0.0023_2024-03-22_00-22-21/checkpoint_000000)\n"
     ]
    },
    {
     "name": "stderr",
     "output_type": "stream",
     "text": [
      "\u001b[36m(pid=3716825)\u001b[0m 2024-03-22 00:28:13.822345: E tensorflow/compiler/xla/stream_executor/cuda/cuda_dnn.cc:9342] Unable to register cuDNN factory: Attempting to register factory for plugin cuDNN when one has already been registered\n",
      "\u001b[36m(pid=3716825)\u001b[0m 2024-03-22 00:28:13.822391: E tensorflow/compiler/xla/stream_executor/cuda/cuda_fft.cc:609] Unable to register cuFFT factory: Attempting to register factory for plugin cuFFT when one has already been registered\n",
      "\u001b[36m(pid=3716825)\u001b[0m 2024-03-22 00:28:13.822414: E tensorflow/compiler/xla/stream_executor/cuda/cuda_blas.cc:1518] Unable to register cuBLAS factory: Attempting to register factory for plugin cuBLAS when one has already been registered\n"
     ]
    },
    {
     "name": "stderr",
     "output_type": "stream",
     "text": [
      "\u001b[36m(TrainLightGCN pid=3716825)\u001b[0m /home/daviddavo/upm-tfm-notebooks/.direnv/python-3.9/lib/python3.9/site-packages/recommenders/models/deeprec/DataModel/ImplicitCF.py:73: FutureWarning: The frame.append method is deprecated and will be removed from pandas in a future version. Use pandas.concat instead.\n",
      "\u001b[36m(TrainLightGCN pid=3716825)\u001b[0m   df = train if test is None else train.append(test)\n"
     ]
    },
    {
     "name": "stdout",
     "output_type": "stream",
     "text": [
      "\u001b[36m(TrainLightGCN pid=3716825)\u001b[0m Already create adjacency matrix.\n",
      "\u001b[36m(TrainLightGCN pid=3716825)\u001b[0m Using xavier initialization.\n",
      "\u001b[36m(TrainLightGCN pid=3716825)\u001b[0m Already normalize adjacency matrix.\n"
     ]
    },
    {
     "name": "stderr",
     "output_type": "stream",
     "text": [
      "\u001b[36m(TrainLightGCN pid=3714329)\u001b[0m Checkpoint successfully created at: Checkpoint(filesystem=local, path=/home/daviddavo/ray_results/LightGCN_optim=map@10,dao=DEAD FoundationsDAO,freq=2d,normalize=True,cutoff_date=2021-11-28T00:00:00,fold=9_2024-03-22T00:12:53.923224/TrainLightGCN_3a64a1d6_65_batch_size=8,conv_layers=3,embedding_dim=143,fold=9,l2=0.0000,learning_rate=0.1938_2024-03-22_00-24-49/checkpoint_000000)\n"
     ]
    },
    {
     "name": "stderr",
     "output_type": "stream",
     "text": [
      "\u001b[36m(pid=3717043)\u001b[0m 2024-03-22 00:28:32.782419: E tensorflow/compiler/xla/stream_executor/cuda/cuda_dnn.cc:9342] Unable to register cuDNN factory: Attempting to register factory for plugin cuDNN when one has already been registered\n",
      "\u001b[36m(pid=3717043)\u001b[0m 2024-03-22 00:28:32.782454: E tensorflow/compiler/xla/stream_executor/cuda/cuda_fft.cc:609] Unable to register cuFFT factory: Attempting to register factory for plugin cuFFT when one has already been registered\n",
      "\u001b[36m(pid=3717043)\u001b[0m 2024-03-22 00:28:32.782468: E tensorflow/compiler/xla/stream_executor/cuda/cuda_blas.cc:1518] Unable to register cuBLAS factory: Attempting to register factory for plugin cuBLAS when one has already been registered\n"
     ]
    },
    {
     "name": "stderr",
     "output_type": "stream",
     "text": [
      "\u001b[36m(TrainLightGCN pid=3717043)\u001b[0m /home/daviddavo/upm-tfm-notebooks/.direnv/python-3.9/lib/python3.9/site-packages/recommenders/models/deeprec/DataModel/ImplicitCF.py:73: FutureWarning: The frame.append method is deprecated and will be removed from pandas in a future version. Use pandas.concat instead.\n",
      "\u001b[36m(TrainLightGCN pid=3717043)\u001b[0m   df = train if test is None else train.append(test)\n"
     ]
    },
    {
     "name": "stdout",
     "output_type": "stream",
     "text": [
      "\u001b[36m(TrainLightGCN pid=3717043)\u001b[0m Already normalize adjacency matrix.\n",
      "\u001b[36m(TrainLightGCN pid=3717043)\u001b[0m Already create adjacency matrix.\n",
      "\u001b[36m(TrainLightGCN pid=3717043)\u001b[0m Using xavier initialization.\n"
     ]
    },
    {
     "name": "stderr",
     "output_type": "stream",
     "text": [
      "\u001b[36m(TrainLightGCN pid=3712931)\u001b[0m Checkpoint successfully created at: Checkpoint(filesystem=local, path=/home/daviddavo/ray_results/LightGCN_optim=map@10,dao=DEAD FoundationsDAO,freq=2d,normalize=True,cutoff_date=2021-11-28T00:00:00,fold=9_2024-03-22T00:12:53.923224/TrainLightGCN_de3fed52_57_batch_size=6,conv_layers=2,embedding_dim=633,fold=9,l2=0.0008,learning_rate=0.0007_2024-03-22_00-24-00/checkpoint_000000)\n"
     ]
    },
    {
     "name": "stderr",
     "output_type": "stream",
     "text": [
      "\u001b[36m(pid=3717334)\u001b[0m 2024-03-22 00:29:19.160619: E tensorflow/compiler/xla/stream_executor/cuda/cuda_dnn.cc:9342] Unable to register cuDNN factory: Attempting to register factory for plugin cuDNN when one has already been registered\n",
      "\u001b[36m(pid=3717334)\u001b[0m 2024-03-22 00:29:19.160657: E tensorflow/compiler/xla/stream_executor/cuda/cuda_fft.cc:609] Unable to register cuFFT factory: Attempting to register factory for plugin cuFFT when one has already been registered\n",
      "\u001b[36m(pid=3717334)\u001b[0m 2024-03-22 00:29:19.160672: E tensorflow/compiler/xla/stream_executor/cuda/cuda_blas.cc:1518] Unable to register cuBLAS factory: Attempting to register factory for plugin cuBLAS when one has already been registered\n"
     ]
    },
    {
     "name": "stderr",
     "output_type": "stream",
     "text": [
      "\u001b[36m(TrainLightGCN pid=3717334)\u001b[0m /home/daviddavo/upm-tfm-notebooks/.direnv/python-3.9/lib/python3.9/site-packages/recommenders/models/deeprec/DataModel/ImplicitCF.py:73: FutureWarning: The frame.append method is deprecated and will be removed from pandas in a future version. Use pandas.concat instead.\n",
      "\u001b[36m(TrainLightGCN pid=3717334)\u001b[0m   df = train if test is None else train.append(test)\n"
     ]
    },
    {
     "name": "stdout",
     "output_type": "stream",
     "text": [
      "\u001b[36m(TrainLightGCN pid=3717334)\u001b[0m Already create adjacency matrix.\n",
      "\u001b[36m(TrainLightGCN pid=3717334)\u001b[0m Already normalize adjacency matrix.\n",
      "\u001b[36m(TrainLightGCN pid=3717334)\u001b[0m Using xavier initialization.\n"
     ]
    },
    {
     "name": "stderr",
     "output_type": "stream",
     "text": [
      "\u001b[36m(TrainLightGCN pid=3713110)\u001b[0m Checkpoint successfully created at: Checkpoint(filesystem=local, path=/home/daviddavo/ray_results/LightGCN_optim=map@10,dao=DEAD FoundationsDAO,freq=2d,normalize=True,cutoff_date=2021-11-28T00:00:00,fold=9_2024-03-22T00:12:53.923224/TrainLightGCN_def31f9a_58_batch_size=6,conv_layers=2,embedding_dim=254,fold=9,l2=0.0000,learning_rate=0.0003_2024-03-22_00-24-07/checkpoint_000000)\n"
     ]
    },
    {
     "name": "stderr",
     "output_type": "stream",
     "text": [
      "\u001b[36m(pid=3717483)\u001b[0m 2024-03-22 00:29:25.569852: E tensorflow/compiler/xla/stream_executor/cuda/cuda_dnn.cc:9342] Unable to register cuDNN factory: Attempting to register factory for plugin cuDNN when one has already been registered\n",
      "\u001b[36m(pid=3717483)\u001b[0m 2024-03-22 00:29:25.569911: E tensorflow/compiler/xla/stream_executor/cuda/cuda_fft.cc:609] Unable to register cuFFT factory: Attempting to register factory for plugin cuFFT when one has already been registered\n",
      "\u001b[36m(pid=3717483)\u001b[0m 2024-03-22 00:29:25.569940: E tensorflow/compiler/xla/stream_executor/cuda/cuda_blas.cc:1518] Unable to register cuBLAS factory: Attempting to register factory for plugin cuBLAS when one has already been registered\n"
     ]
    },
    {
     "name": "stderr",
     "output_type": "stream",
     "text": [
      "\u001b[36m(TrainLightGCN pid=3717483)\u001b[0m /home/daviddavo/upm-tfm-notebooks/.direnv/python-3.9/lib/python3.9/site-packages/recommenders/models/deeprec/DataModel/ImplicitCF.py:73: FutureWarning: The frame.append method is deprecated and will be removed from pandas in a future version. Use pandas.concat instead.\n",
      "\u001b[36m(TrainLightGCN pid=3717483)\u001b[0m   df = train if test is None else train.append(test)\n"
     ]
    },
    {
     "name": "stdout",
     "output_type": "stream",
     "text": [
      "\u001b[36m(TrainLightGCN pid=3717483)\u001b[0m Already normalize adjacency matrix.\n",
      "\u001b[36m(TrainLightGCN pid=3717483)\u001b[0m Using xavier initialization.\n",
      "\u001b[36m(TrainLightGCN pid=3717483)\u001b[0m Already create adjacency matrix.\n"
     ]
    },
    {
     "name": "stderr",
     "output_type": "stream",
     "text": [
      "\u001b[36m(TrainLightGCN pid=3713299)\u001b[0m Checkpoint successfully created at: Checkpoint(filesystem=local, path=/home/daviddavo/ray_results/LightGCN_optim=map@10,dao=DEAD FoundationsDAO,freq=2d,normalize=True,cutoff_date=2021-11-28T00:00:00,fold=9_2024-03-22T00:12:53.923224/TrainLightGCN_9b95f42c_59_batch_size=7,conv_layers=3,embedding_dim=3,fold=9,l2=0.0071,learning_rate=0.8812_2024-03-22_00-24-14/checkpoint_000000)\n"
     ]
    },
    {
     "name": "stderr",
     "output_type": "stream",
     "text": [
      "\u001b[36m(pid=3717686)\u001b[0m 2024-03-22 00:29:32.811171: E tensorflow/compiler/xla/stream_executor/cuda/cuda_dnn.cc:9342] Unable to register cuDNN factory: Attempting to register factory for plugin cuDNN when one has already been registered\n",
      "\u001b[36m(pid=3717686)\u001b[0m 2024-03-22 00:29:32.811204: E tensorflow/compiler/xla/stream_executor/cuda/cuda_fft.cc:609] Unable to register cuFFT factory: Attempting to register factory for plugin cuFFT when one has already been registered\n",
      "\u001b[36m(pid=3717686)\u001b[0m 2024-03-22 00:29:32.811219: E tensorflow/compiler/xla/stream_executor/cuda/cuda_blas.cc:1518] Unable to register cuBLAS factory: Attempting to register factory for plugin cuBLAS when one has already been registered\n"
     ]
    },
    {
     "name": "stderr",
     "output_type": "stream",
     "text": [
      "\u001b[36m(TrainLightGCN pid=3717686)\u001b[0m /home/daviddavo/upm-tfm-notebooks/.direnv/python-3.9/lib/python3.9/site-packages/recommenders/models/deeprec/DataModel/ImplicitCF.py:73: FutureWarning: The frame.append method is deprecated and will be removed from pandas in a future version. Use pandas.concat instead.\n",
      "\u001b[36m(TrainLightGCN pid=3717686)\u001b[0m   df = train if test is None else train.append(test)\n"
     ]
    },
    {
     "name": "stdout",
     "output_type": "stream",
     "text": [
      "\u001b[36m(TrainLightGCN pid=3717686)\u001b[0m Already create adjacency matrix.\n",
      "\u001b[36m(TrainLightGCN pid=3717686)\u001b[0m Already normalize adjacency matrix.\n",
      "\u001b[36m(TrainLightGCN pid=3717686)\u001b[0m Using xavier initialization.\n"
     ]
    },
    {
     "name": "stderr",
     "output_type": "stream",
     "text": [
      "\u001b[36m(TrainLightGCN pid=3713465)\u001b[0m Checkpoint successfully created at: Checkpoint(filesystem=local, path=/home/daviddavo/ray_results/LightGCN_optim=map@10,dao=DEAD FoundationsDAO,freq=2d,normalize=True,cutoff_date=2021-11-28T00:00:00,fold=9_2024-03-22T00:12:53.923224/TrainLightGCN_f2dd6421_60_batch_size=7,conv_layers=3,embedding_dim=2,fold=9,l2=0.0000,learning_rate=0.3764_2024-03-22_00-24-20/checkpoint_000000)\n",
      "\u001b[36m(pid=3717835)\u001b[0m 2024-03-22 00:29:39.076199: E tensorflow/compiler/xla/stream_executor/cuda/cuda_dnn.cc:9342] Unable to register cuDNN factory: Attempting to register factory for plugin cuDNN when one has already been registered\n",
      "\u001b[36m(pid=3717835)\u001b[0m 2024-03-22 00:29:39.076247: E tensorflow/compiler/xla/stream_executor/cuda/cuda_fft.cc:609] Unable to register cuFFT factory: Attempting to register factory for plugin cuFFT when one has already been registered\n",
      "\u001b[36m(pid=3717835)\u001b[0m 2024-03-22 00:29:39.076269: E tensorflow/compiler/xla/stream_executor/cuda/cuda_blas.cc:1518] Unable to register cuBLAS factory: Attempting to register factory for plugin cuBLAS when one has already been registered\n"
     ]
    },
    {
     "name": "stderr",
     "output_type": "stream",
     "text": [
      "\u001b[36m(TrainLightGCN pid=3713637)\u001b[0m Checkpoint successfully created at: Checkpoint(filesystem=local, path=/home/daviddavo/ray_results/LightGCN_optim=map@10,dao=DEAD FoundationsDAO,freq=2d,normalize=True,cutoff_date=2021-11-28T00:00:00,fold=9_2024-03-22T00:12:53.923224/TrainLightGCN_da230006_61_batch_size=7,conv_layers=3,embedding_dim=3,fold=9,l2=0.0016,learning_rate=0.6408_2024-03-22_00-24-26/checkpoint_000000)\n"
     ]
    },
    {
     "name": "stderr",
     "output_type": "stream",
     "text": [
      "\u001b[36m(TrainLightGCN pid=3717835)\u001b[0m /home/daviddavo/upm-tfm-notebooks/.direnv/python-3.9/lib/python3.9/site-packages/recommenders/models/deeprec/DataModel/ImplicitCF.py:73: FutureWarning: The frame.append method is deprecated and will be removed from pandas in a future version. Use pandas.concat instead.\n",
      "\u001b[36m(TrainLightGCN pid=3717835)\u001b[0m   df = train if test is None else train.append(test)\n"
     ]
    },
    {
     "name": "stdout",
     "output_type": "stream",
     "text": [
      "\u001b[36m(TrainLightGCN pid=3717835)\u001b[0m Already normalize adjacency matrix.\n",
      "\u001b[36m(TrainLightGCN pid=3717835)\u001b[0m Already create adjacency matrix.\n",
      "\u001b[36m(TrainLightGCN pid=3717835)\u001b[0m Using xavier initialization.\n"
     ]
    },
    {
     "name": "stderr",
     "output_type": "stream",
     "text": [
      "\u001b[36m(pid=3718011)\u001b[0m 2024-03-22 00:29:45.194464: E tensorflow/compiler/xla/stream_executor/cuda/cuda_dnn.cc:9342] Unable to register cuDNN factory: Attempting to register factory for plugin cuDNN when one has already been registered\n",
      "\u001b[36m(pid=3718011)\u001b[0m 2024-03-22 00:29:45.194502: E tensorflow/compiler/xla/stream_executor/cuda/cuda_fft.cc:609] Unable to register cuFFT factory: Attempting to register factory for plugin cuFFT when one has already been registered\n",
      "\u001b[36m(pid=3718011)\u001b[0m 2024-03-22 00:29:45.194518: E tensorflow/compiler/xla/stream_executor/cuda/cuda_blas.cc:1518] Unable to register cuBLAS factory: Attempting to register factory for plugin cuBLAS when one has already been registered\n"
     ]
    },
    {
     "name": "stderr",
     "output_type": "stream",
     "text": [
      "\u001b[36m(TrainLightGCN pid=3713816)\u001b[0m Checkpoint successfully created at: Checkpoint(filesystem=local, path=/home/daviddavo/ray_results/LightGCN_optim=map@10,dao=DEAD FoundationsDAO,freq=2d,normalize=True,cutoff_date=2021-11-28T00:00:00,fold=9_2024-03-22T00:12:53.923224/TrainLightGCN_89145625_62_batch_size=6,conv_layers=2,embedding_dim=1,fold=9,l2=0.0000,learning_rate=0.0001_2024-03-22_00-24-31/checkpoint_000000)\n",
      "\u001b[36m(TrainLightGCN pid=3718011)\u001b[0m /home/daviddavo/upm-tfm-notebooks/.direnv/python-3.9/lib/python3.9/site-packages/recommenders/models/deeprec/DataModel/ImplicitCF.py:73: FutureWarning: The frame.append method is deprecated and will be removed from pandas in a future version. Use pandas.concat instead.\n",
      "\u001b[36m(TrainLightGCN pid=3718011)\u001b[0m   df = train if test is None else train.append(test)\n"
     ]
    },
    {
     "name": "stdout",
     "output_type": "stream",
     "text": [
      "\u001b[36m(TrainLightGCN pid=3718011)\u001b[0m Already create adjacency matrix.\n",
      "\u001b[36m(TrainLightGCN pid=3718011)\u001b[0m Already normalize adjacency matrix.\n",
      "\u001b[36m(TrainLightGCN pid=3718011)\u001b[0m Using xavier initialization.\n"
     ]
    },
    {
     "name": "stderr",
     "output_type": "stream",
     "text": [
      "\u001b[36m(TrainLightGCN pid=3715662)\u001b[0m Checkpoint successfully created at: Checkpoint(filesystem=local, path=/home/daviddavo/ray_results/LightGCN_optim=map@10,dao=DEAD FoundationsDAO,freq=2d,normalize=True,cutoff_date=2021-11-28T00:00:00,fold=9_2024-03-22T00:12:53.923224/TrainLightGCN_15adc99f_72_batch_size=8,conv_layers=3,embedding_dim=39,fold=9,l2=0.0000,learning_rate=0.1628_2024-03-22_00-26-11/checkpoint_000000)\n"
     ]
    },
    {
     "name": "stderr",
     "output_type": "stream",
     "text": [
      "\u001b[36m(pid=3718185)\u001b[0m 2024-03-22 00:29:51.818036: E tensorflow/compiler/xla/stream_executor/cuda/cuda_dnn.cc:9342] Unable to register cuDNN factory: Attempting to register factory for plugin cuDNN when one has already been registered\n",
      "\u001b[36m(pid=3718185)\u001b[0m 2024-03-22 00:29:51.818090: E tensorflow/compiler/xla/stream_executor/cuda/cuda_fft.cc:609] Unable to register cuFFT factory: Attempting to register factory for plugin cuFFT when one has already been registered\n",
      "\u001b[36m(pid=3718185)\u001b[0m 2024-03-22 00:29:51.818118: E tensorflow/compiler/xla/stream_executor/cuda/cuda_blas.cc:1518] Unable to register cuBLAS factory: Attempting to register factory for plugin cuBLAS when one has already been registered\n"
     ]
    },
    {
     "name": "stderr",
     "output_type": "stream",
     "text": [
      "\u001b[36m(TrainLightGCN pid=3718185)\u001b[0m /home/daviddavo/upm-tfm-notebooks/.direnv/python-3.9/lib/python3.9/site-packages/recommenders/models/deeprec/DataModel/ImplicitCF.py:73: FutureWarning: The frame.append method is deprecated and will be removed from pandas in a future version. Use pandas.concat instead.\n",
      "\u001b[36m(TrainLightGCN pid=3718185)\u001b[0m   df = train if test is None else train.append(test)\n"
     ]
    },
    {
     "name": "stdout",
     "output_type": "stream",
     "text": [
      "\u001b[36m(TrainLightGCN pid=3718185)\u001b[0m Already normalize adjacency matrix.\n",
      "\u001b[36m(TrainLightGCN pid=3718185)\u001b[0m Using xavier initialization.\n",
      "\u001b[36m(TrainLightGCN pid=3718185)\u001b[0m Already create adjacency matrix.\n"
     ]
    },
    {
     "name": "stderr",
     "output_type": "stream",
     "text": [
      "\u001b[36m(TrainLightGCN pid=3714154)\u001b[0m Checkpoint successfully created at: Checkpoint(filesystem=local, path=/home/daviddavo/ray_results/LightGCN_optim=map@10,dao=DEAD FoundationsDAO,freq=2d,normalize=True,cutoff_date=2021-11-28T00:00:00,fold=9_2024-03-22T00:12:53.923224/TrainLightGCN_040c4d4d_64_batch_size=6,conv_layers=3,embedding_dim=14,fold=9,l2=0.0000,learning_rate=0.0535_2024-03-22_00-24-43/checkpoint_000000)\u001b[32m [repeated 2x across cluster]\u001b[0m\n",
      "\u001b[36m(pid=3718374)\u001b[0m 2024-03-22 00:29:58.002087: E tensorflow/compiler/xla/stream_executor/cuda/cuda_dnn.cc:9342] Unable to register cuDNN factory: Attempting to register factory for plugin cuDNN when one has already been registered\n",
      "\u001b[36m(pid=3718374)\u001b[0m 2024-03-22 00:29:58.002126: E tensorflow/compiler/xla/stream_executor/cuda/cuda_fft.cc:609] Unable to register cuFFT factory: Attempting to register factory for plugin cuFFT when one has already been registered\n",
      "\u001b[36m(pid=3718374)\u001b[0m 2024-03-22 00:29:58.002141: E tensorflow/compiler/xla/stream_executor/cuda/cuda_blas.cc:1518] Unable to register cuBLAS factory: Attempting to register factory for plugin cuBLAS when one has already been registered\n"
     ]
    },
    {
     "name": "stderr",
     "output_type": "stream",
     "text": [
      "\u001b[36m(TrainLightGCN pid=3718374)\u001b[0m /home/daviddavo/upm-tfm-notebooks/.direnv/python-3.9/lib/python3.9/site-packages/recommenders/models/deeprec/DataModel/ImplicitCF.py:73: FutureWarning: The frame.append method is deprecated and will be removed from pandas in a future version. Use pandas.concat instead.\n",
      "\u001b[36m(TrainLightGCN pid=3718374)\u001b[0m   df = train if test is None else train.append(test)\n"
     ]
    },
    {
     "name": "stdout",
     "output_type": "stream",
     "text": [
      "\u001b[36m(TrainLightGCN pid=3718374)\u001b[0m Already create adjacency matrix.\n",
      "\u001b[36m(TrainLightGCN pid=3718374)\u001b[0m Already normalize adjacency matrix.\n",
      "\u001b[36m(TrainLightGCN pid=3718374)\u001b[0m Using xavier initialization.\n"
     ]
    },
    {
     "name": "stderr",
     "output_type": "stream",
     "text": [
      "\u001b[36m(pid=3718553)\u001b[0m 2024-03-22 00:30:04.353940: E tensorflow/compiler/xla/stream_executor/cuda/cuda_dnn.cc:9342] Unable to register cuDNN factory: Attempting to register factory for plugin cuDNN when one has already been registered\n",
      "\u001b[36m(pid=3718553)\u001b[0m 2024-03-22 00:30:04.353979: E tensorflow/compiler/xla/stream_executor/cuda/cuda_fft.cc:609] Unable to register cuFFT factory: Attempting to register factory for plugin cuFFT when one has already been registered\n",
      "\u001b[36m(pid=3718553)\u001b[0m 2024-03-22 00:30:04.353997: E tensorflow/compiler/xla/stream_executor/cuda/cuda_blas.cc:1518] Unable to register cuBLAS factory: Attempting to register factory for plugin cuBLAS when one has already been registered\n",
      "\u001b[36m(TrainLightGCN pid=3716825)\u001b[0m Checkpoint successfully created at: Checkpoint(filesystem=local, path=/home/daviddavo/ray_results/LightGCN_optim=map@10,dao=DEAD FoundationsDAO,freq=2d,normalize=True,cutoff_date=2021-11-28T00:00:00,fold=9_2024-03-22T00:12:53.923224/TrainLightGCN_0cdb77bf_77_batch_size=9,conv_layers=2,embedding_dim=424,fold=9,l2=0.0002,learning_rate=0.0152_2024-03-22_00-28-09/checkpoint_000000)\n"
     ]
    },
    {
     "name": "stderr",
     "output_type": "stream",
     "text": [
      "\u001b[36m(TrainLightGCN pid=3718553)\u001b[0m /home/daviddavo/upm-tfm-notebooks/.direnv/python-3.9/lib/python3.9/site-packages/recommenders/models/deeprec/DataModel/ImplicitCF.py:73: FutureWarning: The frame.append method is deprecated and will be removed from pandas in a future version. Use pandas.concat instead.\n",
      "\u001b[36m(TrainLightGCN pid=3718553)\u001b[0m   df = train if test is None else train.append(test)\n"
     ]
    },
    {
     "name": "stdout",
     "output_type": "stream",
     "text": [
      "\u001b[36m(TrainLightGCN pid=3718553)\u001b[0m Already normalize adjacency matrix.\n",
      "\u001b[36m(TrainLightGCN pid=3718553)\u001b[0m Using xavier initialization.\n",
      "\u001b[36m(TrainLightGCN pid=3718553)\u001b[0m Already create adjacency matrix.\n"
     ]
    },
    {
     "name": "stderr",
     "output_type": "stream",
     "text": [
      "\u001b[36m(pid=3718722)\u001b[0m 2024-03-22 00:30:09.982217: E tensorflow/compiler/xla/stream_executor/cuda/cuda_dnn.cc:9342] Unable to register cuDNN factory: Attempting to register factory for plugin cuDNN when one has already been registered\n",
      "\u001b[36m(pid=3718722)\u001b[0m 2024-03-22 00:30:09.982255: E tensorflow/compiler/xla/stream_executor/cuda/cuda_fft.cc:609] Unable to register cuFFT factory: Attempting to register factory for plugin cuFFT when one has already been registered\n",
      "\u001b[36m(pid=3718722)\u001b[0m 2024-03-22 00:30:09.982269: E tensorflow/compiler/xla/stream_executor/cuda/cuda_blas.cc:1518] Unable to register cuBLAS factory: Attempting to register factory for plugin cuBLAS when one has already been registered\n"
     ]
    },
    {
     "name": "stderr",
     "output_type": "stream",
     "text": [
      "\u001b[36m(TrainLightGCN pid=3714503)\u001b[0m Checkpoint successfully created at: Checkpoint(filesystem=local, path=/home/daviddavo/ray_results/LightGCN_optim=map@10,dao=DEAD FoundationsDAO,freq=2d,normalize=True,cutoff_date=2021-11-28T00:00:00,fold=9_2024-03-22T00:12:53.923224/TrainLightGCN_cc38be63_66_batch_size=7,conv_layers=4,embedding_dim=14,fold=9,l2=0.0000,learning_rate=0.0455_2024-03-22_00-24-55/checkpoint_000000)\n"
     ]
    },
    {
     "name": "stderr",
     "output_type": "stream",
     "text": [
      "\u001b[36m(TrainLightGCN pid=3718722)\u001b[0m /home/daviddavo/upm-tfm-notebooks/.direnv/python-3.9/lib/python3.9/site-packages/recommenders/models/deeprec/DataModel/ImplicitCF.py:73: FutureWarning: The frame.append method is deprecated and will be removed from pandas in a future version. Use pandas.concat instead.\n",
      "\u001b[36m(TrainLightGCN pid=3718722)\u001b[0m   df = train if test is None else train.append(test)\n"
     ]
    },
    {
     "name": "stdout",
     "output_type": "stream",
     "text": [
      "\u001b[36m(TrainLightGCN pid=3718722)\u001b[0m Already create adjacency matrix.\n",
      "\u001b[36m(TrainLightGCN pid=3718722)\u001b[0m Already normalize adjacency matrix.\n",
      "\u001b[36m(TrainLightGCN pid=3718722)\u001b[0m Using xavier initialization.\n"
     ]
    },
    {
     "name": "stderr",
     "output_type": "stream",
     "text": [
      "\u001b[36m(pid=3718902)\u001b[0m 2024-03-22 00:30:17.099246: E tensorflow/compiler/xla/stream_executor/cuda/cuda_dnn.cc:9342] Unable to register cuDNN factory: Attempting to register factory for plugin cuDNN when one has already been registered\n",
      "\u001b[36m(pid=3718902)\u001b[0m 2024-03-22 00:30:17.099292: E tensorflow/compiler/xla/stream_executor/cuda/cuda_fft.cc:609] Unable to register cuFFT factory: Attempting to register factory for plugin cuFFT when one has already been registered\n",
      "\u001b[36m(pid=3718902)\u001b[0m 2024-03-22 00:30:17.099313: E tensorflow/compiler/xla/stream_executor/cuda/cuda_blas.cc:1518] Unable to register cuBLAS factory: Attempting to register factory for plugin cuBLAS when one has already been registered\n",
      "\u001b[36m(TrainLightGCN pid=3714671)\u001b[0m Checkpoint successfully created at: Checkpoint(filesystem=local, path=/home/daviddavo/ray_results/LightGCN_optim=map@10,dao=DEAD FoundationsDAO,freq=2d,normalize=True,cutoff_date=2021-11-28T00:00:00,fold=9_2024-03-22T00:12:53.923224/TrainLightGCN_9292ca21_67_batch_size=7,conv_layers=4,embedding_dim=23,fold=9,l2=0.0000,learning_rate=0.0039_2024-03-22_00-25-01/checkpoint_000000)\n"
     ]
    },
    {
     "name": "stderr",
     "output_type": "stream",
     "text": [
      "\u001b[36m(TrainLightGCN pid=3714846)\u001b[0m Checkpoint successfully created at: Checkpoint(filesystem=local, path=/home/daviddavo/ray_results/LightGCN_optim=map@10,dao=DEAD FoundationsDAO,freq=2d,normalize=True,cutoff_date=2021-11-28T00:00:00,fold=9_2024-03-22T00:12:53.923224/TrainLightGCN_da98d0ba_68_batch_size=6,conv_layers=3,embedding_dim=213,fold=9,l2=0.0000,learning_rate=0.0704_2024-03-22_00-25-07/checkpoint_000000)\n",
      "\u001b[36m(TrainLightGCN pid=3718902)\u001b[0m /home/daviddavo/upm-tfm-notebooks/.direnv/python-3.9/lib/python3.9/site-packages/recommenders/models/deeprec/DataModel/ImplicitCF.py:73: FutureWarning: The frame.append method is deprecated and will be removed from pandas in a future version. Use pandas.concat instead.\n",
      "\u001b[36m(TrainLightGCN pid=3718902)\u001b[0m   df = train if test is None else train.append(test)\n"
     ]
    },
    {
     "name": "stdout",
     "output_type": "stream",
     "text": [
      "\u001b[36m(TrainLightGCN pid=3718902)\u001b[0m Already normalize adjacency matrix.\n",
      "\u001b[36m(TrainLightGCN pid=3718902)\u001b[0m Already create adjacency matrix.\n",
      "\u001b[36m(TrainLightGCN pid=3718902)\u001b[0m Using xavier initialization.\n"
     ]
    },
    {
     "name": "stderr",
     "output_type": "stream",
     "text": [
      "\u001b[36m(pid=3719079)\u001b[0m 2024-03-22 00:30:22.791047: E tensorflow/compiler/xla/stream_executor/cuda/cuda_dnn.cc:9342] Unable to register cuDNN factory: Attempting to register factory for plugin cuDNN when one has already been registered\n",
      "\u001b[36m(pid=3719079)\u001b[0m 2024-03-22 00:30:22.791099: E tensorflow/compiler/xla/stream_executor/cuda/cuda_fft.cc:609] Unable to register cuFFT factory: Attempting to register factory for plugin cuFFT when one has already been registered\n",
      "\u001b[36m(pid=3719079)\u001b[0m 2024-03-22 00:30:22.791125: E tensorflow/compiler/xla/stream_executor/cuda/cuda_blas.cc:1518] Unable to register cuBLAS factory: Attempting to register factory for plugin cuBLAS when one has already been registered\n"
     ]
    },
    {
     "name": "stderr",
     "output_type": "stream",
     "text": [
      "\u001b[36m(TrainLightGCN pid=3719079)\u001b[0m /home/daviddavo/upm-tfm-notebooks/.direnv/python-3.9/lib/python3.9/site-packages/recommenders/models/deeprec/DataModel/ImplicitCF.py:73: FutureWarning: The frame.append method is deprecated and will be removed from pandas in a future version. Use pandas.concat instead.\n",
      "\u001b[36m(TrainLightGCN pid=3719079)\u001b[0m   df = train if test is None else train.append(test)\n"
     ]
    },
    {
     "name": "stdout",
     "output_type": "stream",
     "text": [
      "\u001b[36m(TrainLightGCN pid=3719079)\u001b[0m Already create adjacency matrix.\n",
      "\u001b[36m(TrainLightGCN pid=3719079)\u001b[0m Using xavier initialization.\n",
      "\u001b[36m(TrainLightGCN pid=3719079)\u001b[0m Already normalize adjacency matrix.\n"
     ]
    },
    {
     "name": "stderr",
     "output_type": "stream",
     "text": [
      "\u001b[36m(pid=3719255)\u001b[0m 2024-03-22 00:30:30.075991: E tensorflow/compiler/xla/stream_executor/cuda/cuda_dnn.cc:9342] Unable to register cuDNN factory: Attempting to register factory for plugin cuDNN when one has already been registered\n",
      "\u001b[36m(pid=3719255)\u001b[0m 2024-03-22 00:30:30.076029: E tensorflow/compiler/xla/stream_executor/cuda/cuda_fft.cc:609] Unable to register cuFFT factory: Attempting to register factory for plugin cuFFT when one has already been registered\n",
      "\u001b[36m(pid=3719255)\u001b[0m 2024-03-22 00:30:30.076046: E tensorflow/compiler/xla/stream_executor/cuda/cuda_blas.cc:1518] Unable to register cuBLAS factory: Attempting to register factory for plugin cuBLAS when one has already been registered\n"
     ]
    },
    {
     "name": "stderr",
     "output_type": "stream",
     "text": [
      "\u001b[36m(TrainLightGCN pid=3719255)\u001b[0m /home/daviddavo/upm-tfm-notebooks/.direnv/python-3.9/lib/python3.9/site-packages/recommenders/models/deeprec/DataModel/ImplicitCF.py:73: FutureWarning: The frame.append method is deprecated and will be removed from pandas in a future version. Use pandas.concat instead.\n",
      "\u001b[36m(TrainLightGCN pid=3719255)\u001b[0m   df = train if test is None else train.append(test)\n"
     ]
    },
    {
     "name": "stdout",
     "output_type": "stream",
     "text": [
      "\u001b[36m(TrainLightGCN pid=3719255)\u001b[0m Already normalize adjacency matrix.\n",
      "\u001b[36m(TrainLightGCN pid=3719255)\u001b[0m Already create adjacency matrix.\n",
      "\u001b[36m(TrainLightGCN pid=3719255)\u001b[0m Using xavier initialization.\n"
     ]
    },
    {
     "name": "stderr",
     "output_type": "stream",
     "text": [
      "\u001b[36m(pid=3719434)\u001b[0m 2024-03-22 00:30:36.063365: E tensorflow/compiler/xla/stream_executor/cuda/cuda_dnn.cc:9342] Unable to register cuDNN factory: Attempting to register factory for plugin cuDNN when one has already been registered\n",
      "\u001b[36m(pid=3719434)\u001b[0m 2024-03-22 00:30:36.063409: E tensorflow/compiler/xla/stream_executor/cuda/cuda_fft.cc:609] Unable to register cuFFT factory: Attempting to register factory for plugin cuFFT when one has already been registered\n",
      "\u001b[36m(pid=3719434)\u001b[0m 2024-03-22 00:30:36.063426: E tensorflow/compiler/xla/stream_executor/cuda/cuda_blas.cc:1518] Unable to register cuBLAS factory: Attempting to register factory for plugin cuBLAS when one has already been registered\n"
     ]
    },
    {
     "name": "stderr",
     "output_type": "stream",
     "text": [
      "\u001b[36m(TrainLightGCN pid=3719434)\u001b[0m /home/daviddavo/upm-tfm-notebooks/.direnv/python-3.9/lib/python3.9/site-packages/recommenders/models/deeprec/DataModel/ImplicitCF.py:73: FutureWarning: The frame.append method is deprecated and will be removed from pandas in a future version. Use pandas.concat instead.\n",
      "\u001b[36m(TrainLightGCN pid=3719434)\u001b[0m   df = train if test is None else train.append(test)\n"
     ]
    },
    {
     "name": "stdout",
     "output_type": "stream",
     "text": [
      "\u001b[36m(TrainLightGCN pid=3719434)\u001b[0m Already create adjacency matrix.\n",
      "\u001b[36m(TrainLightGCN pid=3719434)\u001b[0m Using xavier initialization.\n",
      "\u001b[36m(TrainLightGCN pid=3719434)\u001b[0m Already normalize adjacency matrix.\n"
     ]
    },
    {
     "name": "stderr",
     "output_type": "stream",
     "text": [
      "\u001b[36m(TrainLightGCN pid=3717043)\u001b[0m Checkpoint successfully created at: Checkpoint(filesystem=local, path=/home/daviddavo/ray_results/LightGCN_optim=map@10,dao=DEAD FoundationsDAO,freq=2d,normalize=True,cutoff_date=2021-11-28T00:00:00,fold=9_2024-03-22T00:12:53.923224/TrainLightGCN_ba72d811_78_batch_size=9,conv_layers=5,embedding_dim=978,fold=9,l2=0.0000,learning_rate=0.0019_2024-03-22_00-28-18/checkpoint_000000)\n"
     ]
    },
    {
     "name": "stderr",
     "output_type": "stream",
     "text": [
      "\u001b[36m(pid=3719615)\u001b[0m 2024-03-22 00:30:42.923743: E tensorflow/compiler/xla/stream_executor/cuda/cuda_dnn.cc:9342] Unable to register cuDNN factory: Attempting to register factory for plugin cuDNN when one has already been registered\n",
      "\u001b[36m(pid=3719615)\u001b[0m 2024-03-22 00:30:42.923787: E tensorflow/compiler/xla/stream_executor/cuda/cuda_fft.cc:609] Unable to register cuFFT factory: Attempting to register factory for plugin cuFFT when one has already been registered\n",
      "\u001b[36m(pid=3719615)\u001b[0m 2024-03-22 00:30:42.923807: E tensorflow/compiler/xla/stream_executor/cuda/cuda_blas.cc:1518] Unable to register cuBLAS factory: Attempting to register factory for plugin cuBLAS when one has already been registered\n"
     ]
    },
    {
     "name": "stderr",
     "output_type": "stream",
     "text": [
      "\u001b[36m(TrainLightGCN pid=3719615)\u001b[0m /home/daviddavo/upm-tfm-notebooks/.direnv/python-3.9/lib/python3.9/site-packages/recommenders/models/deeprec/DataModel/ImplicitCF.py:73: FutureWarning: The frame.append method is deprecated and will be removed from pandas in a future version. Use pandas.concat instead.\n",
      "\u001b[36m(TrainLightGCN pid=3719615)\u001b[0m   df = train if test is None else train.append(test)\n"
     ]
    },
    {
     "name": "stdout",
     "output_type": "stream",
     "text": [
      "\u001b[36m(TrainLightGCN pid=3719615)\u001b[0m Already normalize adjacency matrix.\n",
      "\u001b[36m(TrainLightGCN pid=3719615)\u001b[0m Already create adjacency matrix.\n",
      "\u001b[36m(TrainLightGCN pid=3719615)\u001b[0m Using xavier initialization.\n"
     ]
    },
    {
     "name": "stderr",
     "output_type": "stream",
     "text": [
      "\u001b[36m(TrainLightGCN pid=3717334)\u001b[0m Checkpoint successfully created at: Checkpoint(filesystem=local, path=/home/daviddavo/ray_results/LightGCN_optim=map@10,dao=DEAD FoundationsDAO,freq=2d,normalize=True,cutoff_date=2021-11-28T00:00:00,fold=9_2024-03-22T00:12:53.923224/TrainLightGCN_56b2ab14_79_batch_size=9,conv_layers=5,embedding_dim=1,fold=9,l2=0.0000,learning_rate=0.0026_2024-03-22_00-28-37/checkpoint_000000)\n"
     ]
    },
    {
     "name": "stderr",
     "output_type": "stream",
     "text": [
      "\u001b[36m(pid=3719859)\u001b[0m 2024-03-22 00:31:03.283874: E tensorflow/compiler/xla/stream_executor/cuda/cuda_dnn.cc:9342] Unable to register cuDNN factory: Attempting to register factory for plugin cuDNN when one has already been registered\n",
      "\u001b[36m(pid=3719859)\u001b[0m 2024-03-22 00:31:03.283925: E tensorflow/compiler/xla/stream_executor/cuda/cuda_fft.cc:609] Unable to register cuFFT factory: Attempting to register factory for plugin cuFFT when one has already been registered\n",
      "\u001b[36m(pid=3719859)\u001b[0m 2024-03-22 00:31:03.283948: E tensorflow/compiler/xla/stream_executor/cuda/cuda_blas.cc:1518] Unable to register cuBLAS factory: Attempting to register factory for plugin cuBLAS when one has already been registered\n"
     ]
    },
    {
     "name": "stderr",
     "output_type": "stream",
     "text": [
      "\u001b[36m(TrainLightGCN pid=3719859)\u001b[0m /home/daviddavo/upm-tfm-notebooks/.direnv/python-3.9/lib/python3.9/site-packages/recommenders/models/deeprec/DataModel/ImplicitCF.py:73: FutureWarning: The frame.append method is deprecated and will be removed from pandas in a future version. Use pandas.concat instead.\n",
      "\u001b[36m(TrainLightGCN pid=3719859)\u001b[0m   df = train if test is None else train.append(test)\n",
      "\u001b[36m(TrainLightGCN pid=3715131)\u001b[0m Checkpoint successfully created at: Checkpoint(filesystem=local, path=/home/daviddavo/ray_results/LightGCN_optim=map@10,dao=DEAD FoundationsDAO,freq=2d,normalize=True,cutoff_date=2021-11-28T00:00:00,fold=9_2024-03-22T00:12:53.923224/TrainLightGCN_81280218_69_batch_size=6,conv_layers=3,embedding_dim=321,fold=9,l2=0.0000,learning_rate=0.0323_2024-03-22_00-25-13/checkpoint_000000)\n"
     ]
    },
    {
     "name": "stdout",
     "output_type": "stream",
     "text": [
      "\u001b[36m(TrainLightGCN pid=3719859)\u001b[0m Already create adjacency matrix.\n",
      "\u001b[36m(TrainLightGCN pid=3719859)\u001b[0m Using xavier initialization.\n",
      "\u001b[36m(TrainLightGCN pid=3719859)\u001b[0m Already normalize adjacency matrix.\n"
     ]
    },
    {
     "name": "stderr",
     "output_type": "stream",
     "text": [
      "\u001b[36m(TrainLightGCN pid=3716644)\u001b[0m Checkpoint successfully created at: Checkpoint(filesystem=local, path=/home/daviddavo/ray_results/LightGCN_optim=map@10,dao=DEAD FoundationsDAO,freq=2d,normalize=True,cutoff_date=2021-11-28T00:00:00,fold=9_2024-03-22T00:12:53.923224/TrainLightGCN_a192006e_76_batch_size=8,conv_layers=3,embedding_dim=100,fold=9,l2=0.0000,learning_rate=0.0240_2024-03-22_00-27-42/checkpoint_000000)\n"
     ]
    },
    {
     "name": "stderr",
     "output_type": "stream",
     "text": [
      "\u001b[36m(pid=3720014)\u001b[0m 2024-03-22 00:31:11.162797: E tensorflow/compiler/xla/stream_executor/cuda/cuda_dnn.cc:9342] Unable to register cuDNN factory: Attempting to register factory for plugin cuDNN when one has already been registered\n",
      "\u001b[36m(pid=3720014)\u001b[0m 2024-03-22 00:31:11.162847: E tensorflow/compiler/xla/stream_executor/cuda/cuda_fft.cc:609] Unable to register cuFFT factory: Attempting to register factory for plugin cuFFT when one has already been registered\n",
      "\u001b[36m(pid=3720014)\u001b[0m 2024-03-22 00:31:11.162872: E tensorflow/compiler/xla/stream_executor/cuda/cuda_blas.cc:1518] Unable to register cuBLAS factory: Attempting to register factory for plugin cuBLAS when one has already been registered\n"
     ]
    },
    {
     "name": "stderr",
     "output_type": "stream",
     "text": [
      "\u001b[36m(TrainLightGCN pid=3720014)\u001b[0m /home/daviddavo/upm-tfm-notebooks/.direnv/python-3.9/lib/python3.9/site-packages/recommenders/models/deeprec/DataModel/ImplicitCF.py:73: FutureWarning: The frame.append method is deprecated and will be removed from pandas in a future version. Use pandas.concat instead.\n",
      "\u001b[36m(TrainLightGCN pid=3720014)\u001b[0m   df = train if test is None else train.append(test)\n"
     ]
    },
    {
     "name": "stdout",
     "output_type": "stream",
     "text": [
      "\u001b[36m(TrainLightGCN pid=3720014)\u001b[0m Already normalize adjacency matrix.\n",
      "\u001b[36m(TrainLightGCN pid=3720014)\u001b[0m Already create adjacency matrix.\n",
      "\u001b[36m(TrainLightGCN pid=3720014)\u001b[0m Using xavier initialization.\n"
     ]
    },
    {
     "name": "stderr",
     "output_type": "stream",
     "text": [
      "\u001b[36m(pid=3720189)\u001b[0m 2024-03-22 00:31:17.540851: E tensorflow/compiler/xla/stream_executor/cuda/cuda_dnn.cc:9342] Unable to register cuDNN factory: Attempting to register factory for plugin cuDNN when one has already been registered\n",
      "\u001b[36m(pid=3720189)\u001b[0m 2024-03-22 00:31:17.540911: E tensorflow/compiler/xla/stream_executor/cuda/cuda_fft.cc:609] Unable to register cuFFT factory: Attempting to register factory for plugin cuFFT when one has already been registered\n",
      "\u001b[36m(pid=3720189)\u001b[0m 2024-03-22 00:31:17.540942: E tensorflow/compiler/xla/stream_executor/cuda/cuda_blas.cc:1518] Unable to register cuBLAS factory: Attempting to register factory for plugin cuBLAS when one has already been registered\n"
     ]
    },
    {
     "name": "stderr",
     "output_type": "stream",
     "text": [
      "\u001b[36m(TrainLightGCN pid=3720189)\u001b[0m /home/daviddavo/upm-tfm-notebooks/.direnv/python-3.9/lib/python3.9/site-packages/recommenders/models/deeprec/DataModel/ImplicitCF.py:73: FutureWarning: The frame.append method is deprecated and will be removed from pandas in a future version. Use pandas.concat instead.\n",
      "\u001b[36m(TrainLightGCN pid=3720189)\u001b[0m   df = train if test is None else train.append(test)\n"
     ]
    },
    {
     "name": "stderr",
     "output_type": "stream",
     "text": [
      "\u001b[36m(TrainLightGCN pid=3715509)\u001b[0m Checkpoint successfully created at: Checkpoint(filesystem=local, path=/home/daviddavo/ray_results/LightGCN_optim=map@10,dao=DEAD FoundationsDAO,freq=2d,normalize=True,cutoff_date=2021-11-28T00:00:00,fold=9_2024-03-22T00:12:53.923224/TrainLightGCN_81082e74_71_batch_size=7,conv_layers=3,embedding_dim=10,fold=9,l2=0.0000,learning_rate=0.1393_2024-03-22_00-25-55/checkpoint_000000)\n"
     ]
    },
    {
     "name": "stdout",
     "output_type": "stream",
     "text": [
      "\u001b[36m(TrainLightGCN pid=3720189)\u001b[0m Already create adjacency matrix.\n",
      "\u001b[36m(TrainLightGCN pid=3720189)\u001b[0m Using xavier initialization.\n",
      "\u001b[36m(TrainLightGCN pid=3720189)\u001b[0m Already normalize adjacency matrix.\n"
     ]
    },
    {
     "name": "stderr",
     "output_type": "stream",
     "text": [
      "\u001b[36m(pid=3720366)\u001b[0m 2024-03-22 00:31:24.277163: E tensorflow/compiler/xla/stream_executor/cuda/cuda_dnn.cc:9342] Unable to register cuDNN factory: Attempting to register factory for plugin cuDNN when one has already been registered\n",
      "\u001b[36m(pid=3720366)\u001b[0m 2024-03-22 00:31:24.277355: E tensorflow/compiler/xla/stream_executor/cuda/cuda_fft.cc:609] Unable to register cuFFT factory: Attempting to register factory for plugin cuFFT when one has already been registered\n",
      "\u001b[36m(pid=3720366)\u001b[0m 2024-03-22 00:31:24.277391: E tensorflow/compiler/xla/stream_executor/cuda/cuda_blas.cc:1518] Unable to register cuBLAS factory: Attempting to register factory for plugin cuBLAS when one has already been registered\n"
     ]
    },
    {
     "name": "stderr",
     "output_type": "stream",
     "text": [
      "\u001b[36m(TrainLightGCN pid=3720366)\u001b[0m /home/daviddavo/upm-tfm-notebooks/.direnv/python-3.9/lib/python3.9/site-packages/recommenders/models/deeprec/DataModel/ImplicitCF.py:73: FutureWarning: The frame.append method is deprecated and will be removed from pandas in a future version. Use pandas.concat instead.\n",
      "\u001b[36m(TrainLightGCN pid=3720366)\u001b[0m   df = train if test is None else train.append(test)\n"
     ]
    },
    {
     "name": "stdout",
     "output_type": "stream",
     "text": [
      "\u001b[36m(TrainLightGCN pid=3720366)\u001b[0m Already normalize adjacency matrix.\n",
      "\u001b[36m(TrainLightGCN pid=3720366)\u001b[0m Already create adjacency matrix.\n",
      "\u001b[36m(TrainLightGCN pid=3720366)\u001b[0m Using xavier initialization.\n"
     ]
    },
    {
     "name": "stderr",
     "output_type": "stream",
     "text": [
      "\u001b[36m(TrainLightGCN pid=3719434)\u001b[0m Checkpoint successfully created at: Checkpoint(filesystem=local, path=/home/daviddavo/ray_results/LightGCN_optim=map@10,dao=DEAD FoundationsDAO,freq=2d,normalize=True,cutoff_date=2021-11-28T00:00:00,fold=9_2024-03-22T00:12:53.923224/TrainLightGCN_0d8d73a9_91_batch_size=9,conv_layers=1,embedding_dim=6,fold=9,l2=0.0000,learning_rate=0.0187_2024-03-22_00-30-34/checkpoint_000000)\n"
     ]
    },
    {
     "name": "stderr",
     "output_type": "stream",
     "text": [
      "\u001b[36m(pid=3720669)\u001b[0m 2024-03-22 00:32:04.818209: E tensorflow/compiler/xla/stream_executor/cuda/cuda_dnn.cc:9342] Unable to register cuDNN factory: Attempting to register factory for plugin cuDNN when one has already been registered\n",
      "\u001b[36m(pid=3720669)\u001b[0m 2024-03-22 00:32:04.818252: E tensorflow/compiler/xla/stream_executor/cuda/cuda_fft.cc:609] Unable to register cuFFT factory: Attempting to register factory for plugin cuFFT when one has already been registered\n",
      "\u001b[36m(pid=3720669)\u001b[0m 2024-03-22 00:32:04.818271: E tensorflow/compiler/xla/stream_executor/cuda/cuda_blas.cc:1518] Unable to register cuBLAS factory: Attempting to register factory for plugin cuBLAS when one has already been registered\n"
     ]
    },
    {
     "name": "stderr",
     "output_type": "stream",
     "text": [
      "\u001b[36m(TrainLightGCN pid=3720669)\u001b[0m /home/daviddavo/upm-tfm-notebooks/.direnv/python-3.9/lib/python3.9/site-packages/recommenders/models/deeprec/DataModel/ImplicitCF.py:73: FutureWarning: The frame.append method is deprecated and will be removed from pandas in a future version. Use pandas.concat instead.\n",
      "\u001b[36m(TrainLightGCN pid=3720669)\u001b[0m   df = train if test is None else train.append(test)\n"
     ]
    },
    {
     "name": "stdout",
     "output_type": "stream",
     "text": [
      "\u001b[36m(TrainLightGCN pid=3720669)\u001b[0m Already create adjacency matrix.\n",
      "\u001b[36m(TrainLightGCN pid=3720669)\u001b[0m Already normalize adjacency matrix.\n",
      "\u001b[36m(TrainLightGCN pid=3720669)\u001b[0m Using xavier initialization.\n"
     ]
    },
    {
     "name": "stderr",
     "output_type": "stream",
     "text": [
      "\u001b[36m(TrainLightGCN pid=3718011)\u001b[0m Checkpoint successfully created at: Checkpoint(filesystem=local, path=/home/daviddavo/ray_results/LightGCN_optim=map@10,dao=DEAD FoundationsDAO,freq=2d,normalize=True,cutoff_date=2021-11-28T00:00:00,fold=9_2024-03-22T00:12:53.923224/TrainLightGCN_d75d6300_83_batch_size=8,conv_layers=5,embedding_dim=115,fold=9,l2=0.0000,learning_rate=0.0007_2024-03-22_00-29-43/checkpoint_000000)\n"
     ]
    },
    {
     "name": "stderr",
     "output_type": "stream",
     "text": [
      "\u001b[36m(pid=3720898)\u001b[0m 2024-03-22 00:32:29.280562: E tensorflow/compiler/xla/stream_executor/cuda/cuda_dnn.cc:9342] Unable to register cuDNN factory: Attempting to register factory for plugin cuDNN when one has already been registered\n",
      "\u001b[36m(pid=3720898)\u001b[0m 2024-03-22 00:32:29.280615: E tensorflow/compiler/xla/stream_executor/cuda/cuda_fft.cc:609] Unable to register cuFFT factory: Attempting to register factory for plugin cuFFT when one has already been registered\n",
      "\u001b[36m(pid=3720898)\u001b[0m 2024-03-22 00:32:29.280639: E tensorflow/compiler/xla/stream_executor/cuda/cuda_blas.cc:1518] Unable to register cuBLAS factory: Attempting to register factory for plugin cuBLAS when one has already been registered\n"
     ]
    },
    {
     "name": "stderr",
     "output_type": "stream",
     "text": [
      "\u001b[36m(TrainLightGCN pid=3716034)\u001b[0m Checkpoint successfully created at: Checkpoint(filesystem=local, path=/home/daviddavo/ray_results/LightGCN_optim=map@10,dao=DEAD FoundationsDAO,freq=2d,normalize=True,cutoff_date=2021-11-28T00:00:00,fold=9_2024-03-22T00:12:53.923224/TrainLightGCN_74c59d77_73_batch_size=7,conv_layers=3,embedding_dim=78,fold=9,l2=0.0000,learning_rate=0.0995_2024-03-22_00-26-17/checkpoint_000000)\n"
     ]
    },
    {
     "name": "stderr",
     "output_type": "stream",
     "text": [
      "\u001b[36m(TrainLightGCN pid=3720898)\u001b[0m /home/daviddavo/upm-tfm-notebooks/.direnv/python-3.9/lib/python3.9/site-packages/recommenders/models/deeprec/DataModel/ImplicitCF.py:73: FutureWarning: The frame.append method is deprecated and will be removed from pandas in a future version. Use pandas.concat instead.\n",
      "\u001b[36m(TrainLightGCN pid=3720898)\u001b[0m   df = train if test is None else train.append(test)\n"
     ]
    },
    {
     "name": "stdout",
     "output_type": "stream",
     "text": [
      "\u001b[36m(TrainLightGCN pid=3720898)\u001b[0m Already create adjacency matrix.\n",
      "\u001b[36m(TrainLightGCN pid=3720898)\u001b[0m Already normalize adjacency matrix.\n",
      "\u001b[36m(TrainLightGCN pid=3720898)\u001b[0m Using xavier initialization.\n"
     ]
    },
    {
     "name": "stderr",
     "output_type": "stream",
     "text": [
      "\u001b[36m(pid=3721063)\u001b[0m 2024-03-22 00:32:37.028429: E tensorflow/compiler/xla/stream_executor/cuda/cuda_dnn.cc:9342] Unable to register cuDNN factory: Attempting to register factory for plugin cuDNN when one has already been registered\n",
      "\u001b[36m(pid=3721063)\u001b[0m 2024-03-22 00:32:37.028486: E tensorflow/compiler/xla/stream_executor/cuda/cuda_fft.cc:609] Unable to register cuFFT factory: Attempting to register factory for plugin cuFFT when one has already been registered\n",
      "\u001b[36m(pid=3721063)\u001b[0m 2024-03-22 00:32:37.028517: E tensorflow/compiler/xla/stream_executor/cuda/cuda_blas.cc:1518] Unable to register cuBLAS factory: Attempting to register factory for plugin cuBLAS when one has already been registered\n"
     ]
    },
    {
     "name": "stderr",
     "output_type": "stream",
     "text": [
      "\u001b[36m(TrainLightGCN pid=3718553)\u001b[0m Checkpoint successfully created at: Checkpoint(filesystem=local, path=/home/daviddavo/ray_results/LightGCN_optim=map@10,dao=DEAD FoundationsDAO,freq=2d,normalize=True,cutoff_date=2021-11-28T00:00:00,fold=9_2024-03-22T00:12:53.923224/TrainLightGCN_b74ef2c0_86_batch_size=8,conv_layers=3,embedding_dim=5,fold=9,l2=0.0000,learning_rate=0.0669_2024-03-22_00-30-03/checkpoint_000000)\n",
      "\u001b[36m(TrainLightGCN pid=3721063)\u001b[0m /home/daviddavo/upm-tfm-notebooks/.direnv/python-3.9/lib/python3.9/site-packages/recommenders/models/deeprec/DataModel/ImplicitCF.py:73: FutureWarning: The frame.append method is deprecated and will be removed from pandas in a future version. Use pandas.concat instead.\n",
      "\u001b[36m(TrainLightGCN pid=3721063)\u001b[0m   df = train if test is None else train.append(test)\n"
     ]
    },
    {
     "name": "stdout",
     "output_type": "stream",
     "text": [
      "\u001b[36m(TrainLightGCN pid=3721063)\u001b[0m Already create adjacency matrix.\n",
      "\u001b[36m(TrainLightGCN pid=3721063)\u001b[0m Already normalize adjacency matrix.\n",
      "\u001b[36m(TrainLightGCN pid=3721063)\u001b[0m Using xavier initialization.\n"
     ]
    },
    {
     "name": "stderr",
     "output_type": "stream",
     "text": [
      "\u001b[36m(pid=3721227)\u001b[0m 2024-03-22 00:32:42.788367: E tensorflow/compiler/xla/stream_executor/cuda/cuda_dnn.cc:9342] Unable to register cuDNN factory: Attempting to register factory for plugin cuDNN when one has already been registered\n",
      "\u001b[36m(pid=3721227)\u001b[0m 2024-03-22 00:32:42.788408: E tensorflow/compiler/xla/stream_executor/cuda/cuda_fft.cc:609] Unable to register cuFFT factory: Attempting to register factory for plugin cuFFT when one has already been registered\n",
      "\u001b[36m(pid=3721227)\u001b[0m 2024-03-22 00:32:42.788427: E tensorflow/compiler/xla/stream_executor/cuda/cuda_blas.cc:1518] Unable to register cuBLAS factory: Attempting to register factory for plugin cuBLAS when one has already been registered\n"
     ]
    },
    {
     "name": "stderr",
     "output_type": "stream",
     "text": [
      "\u001b[36m(TrainLightGCN pid=3716231)\u001b[0m Checkpoint successfully created at: Checkpoint(filesystem=local, path=/home/daviddavo/ray_results/LightGCN_optim=map@10,dao=DEAD FoundationsDAO,freq=2d,normalize=True,cutoff_date=2021-11-28T00:00:00,fold=9_2024-03-22T00:12:53.923224/TrainLightGCN_dd4e7bdf_74_batch_size=7,conv_layers=4,embedding_dim=4,fold=9,l2=0.0000,learning_rate=0.2756_2024-03-22_00-27-21/checkpoint_000000)\n"
     ]
    },
    {
     "name": "stderr",
     "output_type": "stream",
     "text": [
      "\u001b[36m(TrainLightGCN pid=3718722)\u001b[0m Checkpoint successfully created at: Checkpoint(filesystem=local, path=/home/daviddavo/ray_results/LightGCN_optim=map@10,dao=DEAD FoundationsDAO,freq=2d,normalize=True,cutoff_date=2021-11-28T00:00:00,fold=9_2024-03-22T00:12:53.923224/TrainLightGCN_ec37016c_87_batch_size=8,conv_layers=3,embedding_dim=2,fold=9,l2=0.0000,learning_rate=0.1920_2024-03-22_00-30-08/checkpoint_000000)\n",
      "\u001b[36m(TrainLightGCN pid=3721227)\u001b[0m /home/daviddavo/upm-tfm-notebooks/.direnv/python-3.9/lib/python3.9/site-packages/recommenders/models/deeprec/DataModel/ImplicitCF.py:73: FutureWarning: The frame.append method is deprecated and will be removed from pandas in a future version. Use pandas.concat instead.\n",
      "\u001b[36m(TrainLightGCN pid=3721227)\u001b[0m   df = train if test is None else train.append(test)\n"
     ]
    },
    {
     "name": "stdout",
     "output_type": "stream",
     "text": [
      "\u001b[36m(TrainLightGCN pid=3721227)\u001b[0m Already normalize adjacency matrix.\n",
      "\u001b[36m(TrainLightGCN pid=3721227)\u001b[0m Using xavier initialization.\n",
      "\u001b[36m(TrainLightGCN pid=3721227)\u001b[0m Already create adjacency matrix.\n"
     ]
    },
    {
     "name": "stderr",
     "output_type": "stream",
     "text": [
      "\u001b[36m(TrainLightGCN pid=3719615)\u001b[0m Checkpoint successfully created at: Checkpoint(filesystem=local, path=/home/daviddavo/ray_results/LightGCN_optim=map@10,dao=DEAD FoundationsDAO,freq=2d,normalize=True,cutoff_date=2021-11-28T00:00:00,fold=9_2024-03-22T00:12:53.923224/TrainLightGCN_715788dc_92_batch_size=8,conv_layers=4,embedding_dim=69,fold=9,l2=0.0002,learning_rate=0.0604_2024-03-22_00-30-41/checkpoint_000000)\u001b[32m [repeated 3x across cluster]\u001b[0m\n"
     ]
    },
    {
     "name": "stderr",
     "output_type": "stream",
     "text": [
      "\u001b[36m(TrainLightGCN pid=3719859)\u001b[0m Checkpoint successfully created at: Checkpoint(filesystem=local, path=/home/daviddavo/ray_results/LightGCN_optim=map@10,dao=DEAD FoundationsDAO,freq=2d,normalize=True,cutoff_date=2021-11-28T00:00:00,fold=9_2024-03-22T00:12:53.923224/TrainLightGCN_e6037dcc_93_batch_size=8,conv_layers=4,embedding_dim=22,fold=9,l2=0.0000,learning_rate=0.0418_2024-03-22_00-30-48/checkpoint_000000)\n"
     ]
    },
    {
     "name": "stderr",
     "output_type": "stream",
     "text": [
      "\u001b[36m(TrainLightGCN pid=3718185)\u001b[0m Checkpoint successfully created at: Checkpoint(filesystem=local, path=/home/daviddavo/ray_results/LightGCN_optim=map@10,dao=DEAD FoundationsDAO,freq=2d,normalize=True,cutoff_date=2021-11-28T00:00:00,fold=9_2024-03-22T00:12:53.923224/TrainLightGCN_6b1c99de_84_batch_size=7,conv_layers=2,embedding_dim=3,fold=9,l2=0.0000,learning_rate=0.9842_2024-03-22_00-29-50/checkpoint_000000)\n"
     ]
    },
    {
     "name": "stderr",
     "output_type": "stream",
     "text": [
      "\u001b[36m(TrainLightGCN pid=3720898)\u001b[0m Checkpoint successfully created at: Checkpoint(filesystem=local, path=/home/daviddavo/ray_results/LightGCN_optim=map@10,dao=DEAD FoundationsDAO,freq=2d,normalize=True,cutoff_date=2021-11-28T00:00:00,fold=9_2024-03-22T00:12:53.923224/TrainLightGCN_f5c1b708_98_batch_size=8,conv_layers=3,embedding_dim=9,fold=9,l2=0.0000,learning_rate=0.3341_2024-03-22_00-32-09/checkpoint_000000)\n"
     ]
    },
    {
     "name": "stderr",
     "output_type": "stream",
     "text": [
      "\u001b[36m(TrainLightGCN pid=3721063)\u001b[0m Checkpoint successfully created at: Checkpoint(filesystem=local, path=/home/daviddavo/ray_results/LightGCN_optim=map@10,dao=DEAD FoundationsDAO,freq=2d,normalize=True,cutoff_date=2021-11-28T00:00:00,fold=9_2024-03-22T00:12:53.923224/TrainLightGCN_9c4460fe_99_batch_size=8,conv_layers=3,embedding_dim=12,fold=9,l2=0.0000,learning_rate=0.0925_2024-03-22_00-32-35/checkpoint_000000)\n"
     ]
    },
    {
     "name": "stderr",
     "output_type": "stream",
     "text": [
      "\u001b[36m(TrainLightGCN pid=3717483)\u001b[0m Checkpoint successfully created at: Checkpoint(filesystem=local, path=/home/daviddavo/ray_results/LightGCN_optim=map@10,dao=DEAD FoundationsDAO,freq=2d,normalize=True,cutoff_date=2021-11-28T00:00:00,fold=9_2024-03-22T00:12:53.923224/TrainLightGCN_386be8b0_80_batch_size=6,conv_layers=1,embedding_dim=270,fold=9,l2=0.0000,learning_rate=0.6784_2024-03-22_00-29-23/checkpoint_000000)\n"
     ]
    },
    {
     "name": "stderr",
     "output_type": "stream",
     "text": [
      "\u001b[36m(TrainLightGCN pid=3717686)\u001b[0m Checkpoint successfully created at: Checkpoint(filesystem=local, path=/home/daviddavo/ray_results/LightGCN_optim=map@10,dao=DEAD FoundationsDAO,freq=2d,normalize=True,cutoff_date=2021-11-28T00:00:00,fold=9_2024-03-22T00:12:53.923224/TrainLightGCN_331bde1d_81_batch_size=6,conv_layers=2,embedding_dim=250,fold=9,l2=0.0000,learning_rate=0.3706_2024-03-22_00-29-30/checkpoint_000000)\n"
     ]
    },
    {
     "name": "stderr",
     "output_type": "stream",
     "text": [
      "\u001b[36m(TrainLightGCN pid=3717835)\u001b[0m Checkpoint successfully created at: Checkpoint(filesystem=local, path=/home/daviddavo/ray_results/LightGCN_optim=map@10,dao=DEAD FoundationsDAO,freq=2d,normalize=True,cutoff_date=2021-11-28T00:00:00,fold=9_2024-03-22T00:12:53.923224/TrainLightGCN_ad8fa17a_82_batch_size=6,conv_layers=4,embedding_dim=138,fold=9,l2=0.0000,learning_rate=0.0008_2024-03-22_00-29-37/checkpoint_000000)\n"
     ]
    },
    {
     "name": "stderr",
     "output_type": "stream",
     "text": [
      "\u001b[36m(TrainLightGCN pid=3720014)\u001b[0m Checkpoint successfully created at: Checkpoint(filesystem=local, path=/home/daviddavo/ray_results/LightGCN_optim=map@10,dao=DEAD FoundationsDAO,freq=2d,normalize=True,cutoff_date=2021-11-28T00:00:00,fold=9_2024-03-22T00:12:53.923224/TrainLightGCN_2e64fe6f_94_batch_size=7,conv_layers=4,embedding_dim=46,fold=9,l2=0.0000,learning_rate=0.0542_2024-03-22_00-31-09/checkpoint_000000)\n"
     ]
    },
    {
     "name": "stderr",
     "output_type": "stream",
     "text": [
      "\u001b[36m(TrainLightGCN pid=3718374)\u001b[0m Checkpoint successfully created at: Checkpoint(filesystem=local, path=/home/daviddavo/ray_results/LightGCN_optim=map@10,dao=DEAD FoundationsDAO,freq=2d,normalize=True,cutoff_date=2021-11-28T00:00:00,fold=9_2024-03-22T00:12:53.923224/TrainLightGCN_636d7ace_85_batch_size=6,conv_layers=3,embedding_dim=56,fold=9,l2=0.0000,learning_rate=0.2522_2024-03-22_00-29-56/checkpoint_000000)\n"
     ]
    },
    {
     "name": "stderr",
     "output_type": "stream",
     "text": [
      "\u001b[36m(TrainLightGCN pid=3721227)\u001b[0m Checkpoint successfully created at: Checkpoint(filesystem=local, path=/home/daviddavo/ray_results/LightGCN_optim=map@10,dao=DEAD FoundationsDAO,freq=2d,normalize=True,cutoff_date=2021-11-28T00:00:00,fold=9_2024-03-22T00:12:53.923224/TrainLightGCN_97e311ac_100_batch_size=7,conv_layers=1,embedding_dim=5,fold=9,l2=0.0001,learning_rate=0.0049_2024-03-22_00-32-41/checkpoint_000000)\n"
     ]
    },
    {
     "name": "stderr",
     "output_type": "stream",
     "text": [
      "\u001b[36m(TrainLightGCN pid=3719079)\u001b[0m Checkpoint successfully created at: Checkpoint(filesystem=local, path=/home/daviddavo/ray_results/LightGCN_optim=map@10,dao=DEAD FoundationsDAO,freq=2d,normalize=True,cutoff_date=2021-11-28T00:00:00,fold=9_2024-03-22T00:12:53.923224/TrainLightGCN_cfd7af4f_89_batch_size=6,conv_layers=2,embedding_dim=7,fold=9,l2=0.0001,learning_rate=0.0111_2024-03-22_00-30-21/checkpoint_000000)\n"
     ]
    },
    {
     "name": "stderr",
     "output_type": "stream",
     "text": [
      "\u001b[36m(TrainLightGCN pid=3719255)\u001b[0m Checkpoint successfully created at: Checkpoint(filesystem=local, path=/home/daviddavo/ray_results/LightGCN_optim=map@10,dao=DEAD FoundationsDAO,freq=2d,normalize=True,cutoff_date=2021-11-28T00:00:00,fold=9_2024-03-22T00:12:53.923224/TrainLightGCN_49ec6213_90_batch_size=6,conv_layers=2,embedding_dim=1,fold=9,l2=0.0000,learning_rate=0.0049_2024-03-22_00-30-28/checkpoint_000000)\n"
     ]
    },
    {
     "name": "stderr",
     "output_type": "stream",
     "text": [
      "\u001b[36m(TrainLightGCN pid=3720189)\u001b[0m Checkpoint successfully created at: Checkpoint(filesystem=local, path=/home/daviddavo/ray_results/LightGCN_optim=map@10,dao=DEAD FoundationsDAO,freq=2d,normalize=True,cutoff_date=2021-11-28T00:00:00,fold=9_2024-03-22T00:12:53.923224/TrainLightGCN_551dc9c4_95_batch_size=6,conv_layers=4,embedding_dim=33,fold=9,l2=0.0000,learning_rate=0.5368_2024-03-22_00-31-15/checkpoint_000000)\n"
     ]
    },
    {
     "name": "stderr",
     "output_type": "stream",
     "text": [
      "\u001b[36m(TrainLightGCN pid=3720366)\u001b[0m Checkpoint successfully created at: Checkpoint(filesystem=local, path=/home/daviddavo/ray_results/LightGCN_optim=map@10,dao=DEAD FoundationsDAO,freq=2d,normalize=True,cutoff_date=2021-11-28T00:00:00,fold=9_2024-03-22T00:12:53.923224/TrainLightGCN_ce7cc1e6_96_batch_size=6,conv_layers=3,embedding_dim=2,fold=9,l2=0.0000,learning_rate=0.0314_2024-03-22_00-31-22/checkpoint_000000)\n"
     ]
    },
    {
     "name": "stderr",
     "output_type": "stream",
     "text": [
      "2024-03-22 00:36:03,869\tINFO tune.py:1042 -- Total run time: 1389.95 seconds (1389.91 seconds for the tuning loop).\n"
     ]
    },
    {
     "name": "stderr",
     "output_type": "stream",
     "text": [
      "\u001b[36m(TrainLightGCN pid=3720669)\u001b[0m Checkpoint successfully created at: Checkpoint(filesystem=local, path=/home/daviddavo/ray_results/LightGCN_optim=map@10,dao=DEAD FoundationsDAO,freq=2d,normalize=True,cutoff_date=2021-11-28T00:00:00,fold=9_2024-03-22T00:12:53.923224/TrainLightGCN_715f49a8_97_batch_size=6,conv_layers=3,embedding_dim=17,fold=9,l2=0.0000,learning_rate=0.0367_2024-03-22_00-31-29/checkpoint_000000)\n"
     ]
    }
   ],
   "source": [
    "import logging\n",
    "\n",
    "def findConfig(rg):\n",
    "    for r in rg:\n",
    "        if r.config:\n",
    "            msk = [r.config[k] == v for k, v in last_best_result.config.items() if k != 'fold']\n",
    "            if all(msk):\n",
    "                return r\n",
    "            elif sum(msk) >= 3:\n",
    "                print(r.config, msk)\n",
    "\n",
    "    return None\n",
    "\n",
    "tuners = []\n",
    "results = []\n",
    "last_best_result = None\n",
    "for f in range(LAST_SPLITS):\n",
    "    best_prev_config = None\n",
    "    if last_best_result is not None:\n",
    "        best_prev_config = last_best_result.config.copy()\n",
    "        best_prev_config['fold'] += 1\n",
    "        best_prev_config = [best_prev_config]\n",
    "    \n",
    "    t = getTunerOnFold(f, best_prev_config)\n",
    "    tuners.append(t)\n",
    "\n",
    "    rg = t.fit()\n",
    "    assert rg.num_errors == 0, f\"There are {rg.num_errors} errors\"\n",
    "    assert rg.num_terminated == NUM_SAMPLES, f'Some samples are not terminated ({rg.num_terminated} != {NUM_SAMPLES})'\n",
    "    results.append(rg)\n",
    "\n",
    "    # Assert that the prev config has been tried\n",
    "    if last_best_result is not None:\n",
    "        # if not any( \n",
    "        #     all((r.config[k] == v for k, v in last_best_result.config.items() if k != 'fold'))\n",
    "        #     for r in rg if r.config\n",
    "        # ):\n",
    "        if not findConfig(rg):\n",
    "            print(\"Best config:\", last_best_result.config)\n",
    "            assert False, f\"The best config from previous fold has not been tested in fold {f}\"\n",
    "        else:\n",
    "            logging.info(f'Fold {f}. Best prev result was {last_best_result.path} and config has been found {findConfig(rg).path}')\n",
    "    \n",
    "    last_best_result = rg.get_best_result()"
   ]
  },
  {
   "cell_type": "code",
   "execution_count": 23,
   "id": "d5bc38c5-05b3-41d0-9eb6-98168aede6ba",
   "metadata": {
    "execution": {
     "iopub.execute_input": "2024-03-22T00:36:04.023439Z",
     "iopub.status.busy": "2024-03-22T00:36:04.023061Z",
     "iopub.status.idle": "2024-03-22T00:36:04.053444Z",
     "shell.execute_reply": "2024-03-22T00:36:04.053104Z"
    },
    "papermill": {
     "duration": 0.044742,
     "end_time": "2024-03-22T00:36:04.054310",
     "exception": false,
     "start_time": "2024-03-22T00:36:04.009568",
     "status": "completed"
    },
    "tags": []
   },
   "outputs": [
    {
     "name": "stdout",
     "output_type": "stream",
     "text": [
      "All finished!\n"
     ]
    }
   ],
   "source": [
    "# This is needed for papermill to run the whole notebook and not stop above\n",
    "# because ray tune catches the exception\n",
    "\n",
    "print(\"All finished!\")"
   ]
  }
 ],
 "metadata": {
  "kernelspec": {
   "display_name": "Python 3 (ipykernel)",
   "language": "python",
   "name": "python3"
  },
  "language_info": {
   "codemirror_mode": {
    "name": "ipython",
    "version": 3
   },
   "file_extension": ".py",
   "mimetype": "text/x-python",
   "name": "python",
   "nbconvert_exporter": "python",
   "pygments_lexer": "ipython3",
   "version": "3.9.18"
  },
  "papermill": {
   "default_parameters": {},
   "duration": 8704.026721,
   "end_time": "2024-03-22T00:36:09.297061",
   "environment_variables": {},
   "exception": null,
   "input_path": "07_microsoft_tuning.ipynb",
   "output_path": "nbout/DEAD FoundationsDAO/07_microsoft_tuning.ipynb",
   "parameters": {
    "CUTOFF_DATE_STR": "2021-11-28",
    "EXECUTION_ID": "2024-03-21",
    "LAST_SPLITS": 10,
    "ORG_NAME": "DEAD FoundationsDAO",
    "ORG_PLATFORM": "daohaus",
    "SPLITS_FREQ": "2d",
    "SPLITS_NORMALIZE": true,
    "USE_ORG_NAMES": true
   },
   "start_time": "2024-03-21T22:11:05.270340",
   "version": "2.5.0"
  },
  "widgets": {
   "application/vnd.jupyter.widget-state+json": {
    "state": {},
    "version_major": 2,
    "version_minor": 0
   }
  }
 },
 "nbformat": 4,
 "nbformat_minor": 5
}