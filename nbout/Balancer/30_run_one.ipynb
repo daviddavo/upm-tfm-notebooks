{
 "cells": [
  {
   "cell_type": "code",
   "execution_count": 1,
   "id": "dc7786d9-d6d8-4795-944d-bb0aec99e1a3",
   "metadata": {
    "editable": true,
    "execution": {
     "iopub.execute_input": "2024-03-01T11:35:56.374449Z",
     "iopub.status.busy": "2024-03-01T11:35:56.373612Z",
     "iopub.status.idle": "2024-03-01T11:35:56.703239Z",
     "shell.execute_reply": "2024-03-01T11:35:56.702878Z"
    },
    "papermill": {
     "duration": 0.340777,
     "end_time": "2024-03-01T11:35:56.704461",
     "exception": false,
     "start_time": "2024-03-01T11:35:56.363684",
     "status": "completed"
    },
    "slideshow": {
     "slide_type": ""
    },
    "tags": []
   },
   "outputs": [],
   "source": [
    "from pathlib import Path\n",
    "from IPython.display import Markdown\n",
    "import re\n",
    "\n",
    "import papermill as pm\n",
    "\n",
    "from src import paths\n",
    "\n",
    "import datetime as dt"
   ]
  },
  {
   "cell_type": "code",
   "execution_count": 2,
   "id": "4ad146e0-81ac-449b-98cf-5a73dc25b09a",
   "metadata": {
    "editable": true,
    "execution": {
     "iopub.execute_input": "2024-03-01T11:35:56.710827Z",
     "iopub.status.busy": "2024-03-01T11:35:56.710659Z",
     "iopub.status.idle": "2024-03-01T11:35:56.712882Z",
     "shell.execute_reply": "2024-03-01T11:35:56.712664Z"
    },
    "papermill": {
     "duration": 0.005956,
     "end_time": "2024-03-01T11:35:56.713609",
     "exception": false,
     "start_time": "2024-03-01T11:35:56.707653",
     "status": "completed"
    },
    "slideshow": {
     "slide_type": ""
    },
    "tags": [
     "parameters"
    ]
   },
   "outputs": [],
   "source": [
    "ORG_NAME = 'Decentraland'\n",
    "ORG_PLATFORM = 'snapshot'\n",
    "SPLITS_FREQ: str = 'W-THU' # split weekly\n",
    "SPLITS_NORMALIZE = True # Wether or not to move everything to 00:00\n",
    "LAST_SPLITS = 10 # Use just last 10 splits\n",
    "USE_ORG_NAMES = False # See load_pandas_df\n",
    "\n",
    "EXECUTION_ID: bool = dt.datetime.utcnow().isoformat() # Used to see wether to skip completed notebooks"
   ]
  },
  {
   "cell_type": "code",
   "execution_count": 3,
   "id": "9ae558b5",
   "metadata": {
    "execution": {
     "iopub.execute_input": "2024-03-01T11:35:56.718491Z",
     "iopub.status.busy": "2024-03-01T11:35:56.718387Z",
     "iopub.status.idle": "2024-03-01T11:35:56.720212Z",
     "shell.execute_reply": "2024-03-01T11:35:56.720012Z"
    },
    "papermill": {
     "duration": 0.005148,
     "end_time": "2024-03-01T11:35:56.720920",
     "exception": false,
     "start_time": "2024-03-01T11:35:56.715772",
     "status": "completed"
    },
    "tags": [
     "injected-parameters"
    ]
   },
   "outputs": [],
   "source": [
    "# Parameters\n",
    "ORG_NAME = \"Balancer\"\n",
    "ORG_PLATFORM = \"snapshot\"\n",
    "SPLITS_FREQ = \"W-THU\"\n",
    "SPLITS_NORMALIZE = True\n",
    "LAST_SPLITS = 10\n",
    "USE_ORG_NAMES = True\n",
    "EXECUTION_ID = \"2024-03-01 12s:00\"\n"
   ]
  },
  {
   "cell_type": "code",
   "execution_count": 4,
   "id": "cfac4b5c-ec42-4f16-9ba7-318f6a3480cc",
   "metadata": {
    "editable": true,
    "execution": {
     "iopub.execute_input": "2024-03-01T11:35:56.725777Z",
     "iopub.status.busy": "2024-03-01T11:35:56.725597Z",
     "iopub.status.idle": "2024-03-01T11:35:56.729087Z",
     "shell.execute_reply": "2024-03-01T11:35:56.728895Z"
    },
    "papermill": {
     "duration": 0.006622,
     "end_time": "2024-03-01T11:35:56.729712",
     "exception": false,
     "start_time": "2024-03-01T11:35:56.723090",
     "status": "completed"
    },
    "slideshow": {
     "slide_type": ""
    },
    "tags": []
   },
   "outputs": [
    {
     "data": {
      "text/markdown": [
       "```mermaid\n",
       "graph LR\n",
       "10_baseline --> 20_results\n",
       "\n",
       "10_baseline --> 11_pln-tune -.-> 12_hybrid\n",
       "07_microsoft_tuning --> 09_analyze_results --> 12_hybrid\n",
       "12_hybrid --> 20_results\n",
       "10_baseline --> 09_analyze_results\n",
       "```"
      ],
      "text/plain": [
       "<IPython.core.display.Markdown object>"
      ]
     },
     "execution_count": 4,
     "metadata": {},
     "output_type": "execute_result"
    }
   ],
   "source": [
    "# Display the diagram from the README.md\n",
    "\n",
    "README = Path('./README.md')\n",
    "\n",
    "with open(README, 'r') as f:\n",
    "    diagrams = re.findall(r'```mermaid[\\s\\S]*```', f.read())\n",
    "\n",
    "Markdown(\"\\n\".join(diagrams))"
   ]
  },
  {
   "cell_type": "markdown",
   "id": "aa7c0382-7d7e-45bb-bb72-a6d0d52a6b54",
   "metadata": {
    "editable": true,
    "papermill": {
     "duration": 0.002279,
     "end_time": "2024-03-01T11:35:56.734233",
     "exception": false,
     "start_time": "2024-03-01T11:35:56.731954",
     "status": "completed"
    },
    "slideshow": {
     "slide_type": ""
    },
    "tags": []
   },
   "source": [
    "## Define some common things"
   ]
  },
  {
   "cell_type": "code",
   "execution_count": 5,
   "id": "f30ef62e-ce8c-4caf-9e1e-ac40c2383068",
   "metadata": {
    "editable": true,
    "execution": {
     "iopub.execute_input": "2024-03-01T11:35:56.739192Z",
     "iopub.status.busy": "2024-03-01T11:35:56.739049Z",
     "iopub.status.idle": "2024-03-01T11:35:56.741427Z",
     "shell.execute_reply": "2024-03-01T11:35:56.741217Z"
    },
    "papermill": {
     "duration": 0.005735,
     "end_time": "2024-03-01T11:35:56.742142",
     "exception": false,
     "start_time": "2024-03-01T11:35:56.736407",
     "status": "completed"
    },
    "slideshow": {
     "slide_type": ""
    },
    "tags": []
   },
   "outputs": [],
   "source": [
    "import nbformat\n",
    "\n",
    "def is_increasing(l):\n",
    "    return (not l) or all(x<y for x,y in zip(l, l[1:]))\n",
    "\n",
    "def isCompleted(fname):\n",
    "    nb = nbformat.read(fname, as_version=4)\n",
    "    execution_counts = [c['execution_count'] for c in nb['cells'] if c['cell_type'] == 'code']\n",
    "    \n",
    "    return all((x is not None for x in execution_counts)) and is_increasing(execution_counts)\n",
    "\n",
    "# print(isCompleted('nbout/Decentraland/04c_dao-census-onedao.ipynb'))\n",
    "# print(isCompleted('nbout/Decentraland/10_baseline_mp.ipynb'))\n",
    "# print(isCompleted('nbout/Decentraland/30_run_one.ipynb'))"
   ]
  },
  {
   "cell_type": "code",
   "execution_count": 6,
   "id": "2060e67c-c685-4c3c-82f9-e348bb89fcda",
   "metadata": {
    "editable": true,
    "execution": {
     "iopub.execute_input": "2024-03-01T11:35:56.747202Z",
     "iopub.status.busy": "2024-03-01T11:35:56.747068Z",
     "iopub.status.idle": "2024-03-01T11:35:56.748863Z",
     "shell.execute_reply": "2024-03-01T11:35:56.748662Z"
    },
    "papermill": {
     "duration": 0.005201,
     "end_time": "2024-03-01T11:35:56.749581",
     "exception": false,
     "start_time": "2024-03-01T11:35:56.744380",
     "status": "completed"
    },
    "slideshow": {
     "slide_type": ""
    },
    "tags": []
   },
   "outputs": [],
   "source": [
    "def isSameExec(fname):\n",
    "    nb = nbformat.read(fname, as_version=4)\n",
    "    params = nb.metadata['papermill']['parameters']\n",
    "    return 'EXECUTION_ID' in params and params['EXECUTION_ID'] == EXECUTION_ID\n",
    "\n",
    "# isSameExec(fname = 'nbout/Decentraland/04c_dao-census-onedao.ipynb')"
   ]
  },
  {
   "cell_type": "code",
   "execution_count": 7,
   "id": "bea30b95-7f15-49c6-a0e4-951b2b60e26e",
   "metadata": {
    "editable": true,
    "execution": {
     "iopub.execute_input": "2024-03-01T11:35:56.754685Z",
     "iopub.status.busy": "2024-03-01T11:35:56.754503Z",
     "iopub.status.idle": "2024-03-01T11:35:56.757299Z",
     "shell.execute_reply": "2024-03-01T11:35:56.757091Z"
    },
    "papermill": {
     "duration": 0.006233,
     "end_time": "2024-03-01T11:35:56.758062",
     "exception": false,
     "start_time": "2024-03-01T11:35:56.751829",
     "status": "completed"
    },
    "slideshow": {
     "slide_type": ""
    },
    "tags": []
   },
   "outputs": [],
   "source": [
    "def run_notebook(name):\n",
    "    assert Path(name).exists(), f\"No existe el fichero {name}\"\n",
    "    \n",
    "    outpath = Path(f'./nbout/{ORG_NAME.replace(\" / \", \"_\")}')\n",
    "    outpath.mkdir(parents=True, exist_ok=True)\n",
    "    outfile = outpath/name\n",
    "\n",
    "    params = pm.inspect_notebook(name)\n",
    "    for p in ['ORG_NAME', 'ORG_PLATFORM', 'SPLITS_FREQ', 'SPLITS_NORMALIZE', 'LAST_SPLITS', 'USE_ORG_NAMES']:\n",
    "        assert p in params, f'{p} is not in notebook params'\n",
    "\n",
    "    if outfile.exists() and EXECUTION_ID and isSameExec(outfile) and isCompleted(outfile):\n",
    "        print(f\"Skipping {outfile} with EXECUTION_ID {EXECUTION_ID}\")\n",
    "        return\n",
    "    \n",
    "    pm.execute_notebook(\n",
    "        name, \n",
    "        outfile,\n",
    "        autosave_cell_every=10,\n",
    "        parameters=dict(\n",
    "            ORG_NAME = ORG_NAME,\n",
    "            ORG_PLATFORM = ORG_PLATFORM,\n",
    "            SPLITS_FREQ = SPLITS_FREQ,\n",
    "            SPLITS_NORMALIZE = SPLITS_NORMALIZE,\n",
    "            LAST_SPLITS = LAST_SPLITS,\n",
    "            USE_ORG_NAMES = USE_ORG_NAMES,\n",
    "            EXECUTION_ID = EXECUTION_ID,\n",
    "        ),\n",
    "    )\n",
    "# run_notebook('11_pln-tune.ipynb', 'snapshot', 'Decentraland')"
   ]
  },
  {
   "cell_type": "markdown",
   "id": "e626cf81-65e9-4f6e-8271-574428439839",
   "metadata": {
    "editable": true,
    "papermill": {
     "duration": 0.002418,
     "end_time": "2024-03-01T11:35:56.762745",
     "exception": false,
     "start_time": "2024-03-01T11:35:56.760327",
     "status": "completed"
    },
    "slideshow": {
     "slide_type": ""
    },
    "tags": []
   },
   "source": [
    "## Run data from dao"
   ]
  },
  {
   "cell_type": "code",
   "execution_count": 8,
   "id": "74e51fce-f006-4861-be7b-5cd7124bb3d7",
   "metadata": {
    "editable": true,
    "execution": {
     "iopub.execute_input": "2024-03-01T11:35:56.768229Z",
     "iopub.status.busy": "2024-03-01T11:35:56.768085Z",
     "iopub.status.idle": "2024-03-01T11:35:56.833530Z",
     "shell.execute_reply": "2024-03-01T11:35:56.833071Z"
    },
    "papermill": {
     "duration": 0.069449,
     "end_time": "2024-03-01T11:35:56.834412",
     "exception": false,
     "start_time": "2024-03-01T11:35:56.764963",
     "status": "completed"
    },
    "slideshow": {
     "slide_type": ""
    },
    "tags": []
   },
   "outputs": [
    {
     "name": "stdout",
     "output_type": "stream",
     "text": [
      "Skipping nbout/Balancer/04c_dao-census-onedao.ipynb with EXECUTION_ID 2024-03-01 12s:00\n"
     ]
    }
   ],
   "source": [
    "#papermill_description=dao-census\n",
    "run_notebook('04c_dao-census-onedao.ipynb')"
   ]
  },
  {
   "cell_type": "markdown",
   "id": "8aef0f68-2a8c-4896-ba90-728060074715",
   "metadata": {
    "editable": true,
    "papermill": {
     "duration": 0.03336,
     "end_time": "2024-03-01T11:35:56.870514",
     "exception": false,
     "start_time": "2024-03-01T11:35:56.837154",
     "status": "completed"
    },
    "slideshow": {
     "slide_type": ""
    },
    "tags": []
   },
   "source": [
    "## Run baseline"
   ]
  },
  {
   "cell_type": "code",
   "execution_count": 9,
   "id": "abc14ace-3f95-4392-b6c2-9d0f125974de",
   "metadata": {
    "editable": true,
    "execution": {
     "iopub.execute_input": "2024-03-01T11:35:56.877144Z",
     "iopub.status.busy": "2024-03-01T11:35:56.876696Z",
     "iopub.status.idle": "2024-03-01T11:37:09.062231Z",
     "shell.execute_reply": "2024-03-01T11:37:09.061898Z"
    },
    "papermill": {
     "duration": 72.190237,
     "end_time": "2024-03-01T11:37:09.063140",
     "exception": false,
     "start_time": "2024-03-01T11:35:56.872903",
     "status": "completed"
    },
    "slideshow": {
     "slide_type": ""
    },
    "tags": []
   },
   "outputs": [
    {
     "name": "stderr",
     "output_type": "stream",
     "text": [
      "Passed unknown parameter: EXECUTION_ID\n"
     ]
    },
    {
     "data": {
      "application/vnd.jupyter.widget-view+json": {
       "model_id": "6fed8bee9295455c8a076a038d64b2dd",
       "version_major": 2,
       "version_minor": 0
      },
      "text/plain": [
       "Executing:   0%|          | 0/54 [00:00<?, ?cell/s]"
      ]
     },
     "metadata": {},
     "output_type": "display_data"
    }
   ],
   "source": [
    "#papermill_description=stop\n",
    "run_notebook('10_baseline_mp.ipynb')"
   ]
  },
  {
   "cell_type": "code",
   "execution_count": 10,
   "id": "537f43d0-fc8c-4dc5-b106-f7e936b90e2c",
   "metadata": {
    "editable": true,
    "execution": {
     "iopub.execute_input": "2024-03-01T11:37:09.069637Z",
     "iopub.status.busy": "2024-03-01T11:37:09.069522Z",
     "iopub.status.idle": "2024-03-01T11:37:09.072826Z",
     "shell.execute_reply": "2024-03-01T11:37:09.072401Z"
    },
    "papermill": {
     "duration": 0.007274,
     "end_time": "2024-03-01T11:37:09.073420",
     "exception": true,
     "start_time": "2024-03-01T11:37:09.066146",
     "status": "failed"
    },
    "slideshow": {
     "slide_type": ""
    },
    "tags": []
   },
   "outputs": [
    {
     "ename": "SystemExit",
     "evalue": "0",
     "output_type": "error",
     "traceback": [
      "An exception has occurred, use %tb to see the full traceback.\n",
      "\u001b[0;31mSystemExit\u001b[0m\u001b[0;31m:\u001b[0m 0\n"
     ]
    },
    {
     "name": "stderr",
     "output_type": "stream",
     "text": [
      "/home/daviddavo/upm-tfm-notebooks/.direnv/python-3.9/lib/python3.9/site-packages/IPython/core/interactiveshell.py:3534: UserWarning: To exit: use 'exit', 'quit', or Ctrl-D.\n",
      "  warn(\"To exit: use 'exit', 'quit', or Ctrl-D.\", stacklevel=1)\n"
     ]
    }
   ],
   "source": [
    "#papermill_description=cause fail\n",
    "import sys\n",
    "sys.exit(0)"
   ]
  },
  {
   "cell_type": "markdown",
   "id": "78d51e15-69d2-41f8-bb9c-0cd18a288b3a",
   "metadata": {
    "editable": true,
    "papermill": {
     "duration": null,
     "end_time": null,
     "exception": null,
     "start_time": null,
     "status": "pending"
    },
    "slideshow": {
     "slide_type": ""
    },
    "tags": []
   },
   "source": [
    "## Run pln_tune"
   ]
  },
  {
   "cell_type": "code",
   "execution_count": null,
   "id": "7372d911-aec8-41ae-bd91-8ede877c9a37",
   "metadata": {
    "editable": true,
    "papermill": {
     "duration": null,
     "end_time": null,
     "exception": null,
     "start_time": null,
     "status": "pending"
    },
    "slideshow": {
     "slide_type": ""
    },
    "tags": []
   },
   "outputs": [],
   "source": [
    "#papermill_description=pln_tune\n",
    "# if paths.pln_mdf(ORG_NAME, SPLITS_FREQ, SPLITS_NORMALIZE).exists():\n",
    "#     print(f\"Skipping {ORG_NAME} because it has been done\")    \n",
    "run_notebook('11_pln-tune.ipynb')"
   ]
  },
  {
   "cell_type": "markdown",
   "id": "3c84bcf4-17c0-4282-8bd0-28aa9e997bbd",
   "metadata": {
    "editable": true,
    "papermill": {
     "duration": null,
     "end_time": null,
     "exception": null,
     "start_time": null,
     "status": "pending"
    },
    "slideshow": {
     "slide_type": ""
    },
    "tags": []
   },
   "source": [
    "## Run microsoft_tuning"
   ]
  },
  {
   "cell_type": "code",
   "execution_count": null,
   "id": "ca56c9f7-d77d-4741-8064-13efe089b0de",
   "metadata": {
    "editable": true,
    "papermill": {
     "duration": null,
     "end_time": null,
     "exception": null,
     "start_time": null,
     "status": "pending"
    },
    "slideshow": {
     "slide_type": ""
    },
    "tags": []
   },
   "outputs": [],
   "source": [
    "#papermill_description=microsoft\n",
    "run_notebook('07_microsoft_tuning.ipynb')"
   ]
  },
  {
   "cell_type": "markdown",
   "id": "4f63d888-57d4-4a76-9565-bc382ea442e7",
   "metadata": {
    "editable": true,
    "papermill": {
     "duration": null,
     "end_time": null,
     "exception": null,
     "start_time": null,
     "status": "pending"
    },
    "slideshow": {
     "slide_type": ""
    },
    "tags": []
   },
   "source": [
    "## Run analyze_results"
   ]
  },
  {
   "cell_type": "code",
   "execution_count": null,
   "id": "4d107b93-08e5-411a-8925-c6784c711709",
   "metadata": {
    "editable": true,
    "papermill": {
     "duration": null,
     "end_time": null,
     "exception": null,
     "start_time": null,
     "status": "pending"
    },
    "slideshow": {
     "slide_type": ""
    },
    "tags": []
   },
   "outputs": [],
   "source": [
    "#papermill_description=analyze\n",
    "nb = run_notebook('09_analyze_results.ipynb')"
   ]
  },
  {
   "cell_type": "markdown",
   "id": "53ff9453-531a-40da-8e03-870c77e30504",
   "metadata": {
    "editable": true,
    "papermill": {
     "duration": null,
     "end_time": null,
     "exception": null,
     "start_time": null,
     "status": "pending"
    },
    "slideshow": {
     "slide_type": ""
    },
    "tags": []
   },
   "source": [
    "## Run hybrid"
   ]
  },
  {
   "cell_type": "code",
   "execution_count": null,
   "id": "a7705d51-3dd1-41ed-92a9-995a8cd263e4",
   "metadata": {
    "editable": true,
    "papermill": {
     "duration": null,
     "end_time": null,
     "exception": null,
     "start_time": null,
     "status": "pending"
    },
    "slideshow": {
     "slide_type": ""
    },
    "tags": []
   },
   "outputs": [],
   "source": [
    "#papermill_description=hybrid\n",
    "run_notebook('12_hybrid.ipynb')"
   ]
  }
 ],
 "metadata": {
  "kernelspec": {
   "display_name": "Python 3 (ipykernel)",
   "language": "python",
   "name": "python3"
  },
  "language_info": {
   "codemirror_mode": {
    "name": "ipython",
    "version": 3
   },
   "file_extension": ".py",
   "mimetype": "text/x-python",
   "name": "python",
   "nbconvert_exporter": "python",
   "pygments_lexer": "ipython3",
   "version": "3.9.18"
  },
  "papermill": {
   "default_parameters": {},
   "duration": 73.461242,
   "end_time": "2024-03-01T11:37:09.295558",
   "environment_variables": {},
   "exception": true,
   "input_path": "30_run_one.ipynb",
   "output_path": "nbout/Balancer/30_run_one.ipynb",
   "parameters": {
    "EXECUTION_ID": "2024-03-01 12s:00",
    "LAST_SPLITS": 10,
    "ORG_NAME": "Balancer",
    "ORG_PLATFORM": "snapshot",
    "SPLITS_FREQ": "W-THU",
    "SPLITS_NORMALIZE": true,
    "USE_ORG_NAMES": true
   },
   "start_time": "2024-03-01T11:35:55.834316",
   "version": "2.5.0"
  },
  "widgets": {
   "application/vnd.jupyter.widget-state+json": {
    "state": {
     "1e32e1b16f4e41ceba336c7ad7c900c7": {
      "model_module": "@jupyter-widgets/base",
      "model_module_version": "2.0.0",
      "model_name": "LayoutModel",
      "state": {
       "_model_module": "@jupyter-widgets/base",
       "_model_module_version": "2.0.0",
       "_model_name": "LayoutModel",
       "_view_count": null,
       "_view_module": "@jupyter-widgets/base",
       "_view_module_version": "2.0.0",
       "_view_name": "LayoutView",
       "align_content": null,
       "align_items": null,
       "align_self": null,
       "border_bottom": null,
       "border_left": null,
       "border_right": null,
       "border_top": null,
       "bottom": null,
       "display": null,
       "flex": null,
       "flex_flow": null,
       "grid_area": null,
       "grid_auto_columns": null,
       "grid_auto_flow": null,
       "grid_auto_rows": null,
       "grid_column": null,
       "grid_gap": null,
       "grid_row": null,
       "grid_template_areas": null,
       "grid_template_columns": null,
       "grid_template_rows": null,
       "height": null,
       "justify_content": null,
       "justify_items": null,
       "left": null,
       "margin": null,
       "max_height": null,
       "max_width": null,
       "min_height": null,
       "min_width": null,
       "object_fit": null,
       "object_position": null,
       "order": null,
       "overflow": null,
       "padding": null,
       "right": null,
       "top": null,
       "visibility": null,
       "width": null
      }
     },
     "355f48c1b47c427ab62c175c8d523145": {
      "model_module": "@jupyter-widgets/controls",
      "model_module_version": "2.0.0",
      "model_name": "ProgressStyleModel",
      "state": {
       "_model_module": "@jupyter-widgets/controls",
       "_model_module_version": "2.0.0",
       "_model_name": "ProgressStyleModel",
       "_view_count": null,
       "_view_module": "@jupyter-widgets/base",
       "_view_module_version": "2.0.0",
       "_view_name": "StyleView",
       "bar_color": null,
       "description_width": ""
      }
     },
     "370a41bbdb1b4e8a8d8f0d61397b3467": {
      "model_module": "@jupyter-widgets/controls",
      "model_module_version": "2.0.0",
      "model_name": "HTMLStyleModel",
      "state": {
       "_model_module": "@jupyter-widgets/controls",
       "_model_module_version": "2.0.0",
       "_model_name": "HTMLStyleModel",
       "_view_count": null,
       "_view_module": "@jupyter-widgets/base",
       "_view_module_version": "2.0.0",
       "_view_name": "StyleView",
       "background": null,
       "description_width": "",
       "font_size": null,
       "text_color": null
      }
     },
     "4e534187f98e4b3c826de1e3fd56eaa9": {
      "model_module": "@jupyter-widgets/base",
      "model_module_version": "2.0.0",
      "model_name": "LayoutModel",
      "state": {
       "_model_module": "@jupyter-widgets/base",
       "_model_module_version": "2.0.0",
       "_model_name": "LayoutModel",
       "_view_count": null,
       "_view_module": "@jupyter-widgets/base",
       "_view_module_version": "2.0.0",
       "_view_name": "LayoutView",
       "align_content": null,
       "align_items": null,
       "align_self": null,
       "border_bottom": null,
       "border_left": null,
       "border_right": null,
       "border_top": null,
       "bottom": null,
       "display": null,
       "flex": null,
       "flex_flow": null,
       "grid_area": null,
       "grid_auto_columns": null,
       "grid_auto_flow": null,
       "grid_auto_rows": null,
       "grid_column": null,
       "grid_gap": null,
       "grid_row": null,
       "grid_template_areas": null,
       "grid_template_columns": null,
       "grid_template_rows": null,
       "height": null,
       "justify_content": null,
       "justify_items": null,
       "left": null,
       "margin": null,
       "max_height": null,
       "max_width": null,
       "min_height": null,
       "min_width": null,
       "object_fit": null,
       "object_position": null,
       "order": null,
       "overflow": null,
       "padding": null,
       "right": null,
       "top": null,
       "visibility": null,
       "width": null
      }
     },
     "6fed8bee9295455c8a076a038d64b2dd": {
      "model_module": "@jupyter-widgets/controls",
      "model_module_version": "2.0.0",
      "model_name": "HBoxModel",
      "state": {
       "_dom_classes": [],
       "_model_module": "@jupyter-widgets/controls",
       "_model_module_version": "2.0.0",
       "_model_name": "HBoxModel",
       "_view_count": null,
       "_view_module": "@jupyter-widgets/controls",
       "_view_module_version": "2.0.0",
       "_view_name": "HBoxView",
       "box_style": "",
       "children": [
        "IPY_MODEL_751e0fe5e91742599f75b5ac68542881",
        "IPY_MODEL_f134d781fc074ac298ce8d5ece256587",
        "IPY_MODEL_e062566cb102470b9e81c24d9f78f8b6"
       ],
       "layout": "IPY_MODEL_4e534187f98e4b3c826de1e3fd56eaa9",
       "tabbable": null,
       "tooltip": null
      }
     },
     "751e0fe5e91742599f75b5ac68542881": {
      "model_module": "@jupyter-widgets/controls",
      "model_module_version": "2.0.0",
      "model_name": "HTMLModel",
      "state": {
       "_dom_classes": [],
       "_model_module": "@jupyter-widgets/controls",
       "_model_module_version": "2.0.0",
       "_model_name": "HTMLModel",
       "_view_count": null,
       "_view_module": "@jupyter-widgets/controls",
       "_view_module_version": "2.0.0",
       "_view_name": "HTMLView",
       "description": "",
       "description_allow_html": false,
       "layout": "IPY_MODEL_a98f44711ea04e92979a936011599905",
       "placeholder": "​",
       "style": "IPY_MODEL_8a32567a909847d3a6a4d8a633aabf01",
       "tabbable": null,
       "tooltip": null,
       "value": "Executing: 100%"
      }
     },
     "8a32567a909847d3a6a4d8a633aabf01": {
      "model_module": "@jupyter-widgets/controls",
      "model_module_version": "2.0.0",
      "model_name": "HTMLStyleModel",
      "state": {
       "_model_module": "@jupyter-widgets/controls",
       "_model_module_version": "2.0.0",
       "_model_name": "HTMLStyleModel",
       "_view_count": null,
       "_view_module": "@jupyter-widgets/base",
       "_view_module_version": "2.0.0",
       "_view_name": "StyleView",
       "background": null,
       "description_width": "",
       "font_size": null,
       "text_color": null
      }
     },
     "8d94c5d59c9a4a418dc0e199d9223c72": {
      "model_module": "@jupyter-widgets/base",
      "model_module_version": "2.0.0",
      "model_name": "LayoutModel",
      "state": {
       "_model_module": "@jupyter-widgets/base",
       "_model_module_version": "2.0.0",
       "_model_name": "LayoutModel",
       "_view_count": null,
       "_view_module": "@jupyter-widgets/base",
       "_view_module_version": "2.0.0",
       "_view_name": "LayoutView",
       "align_content": null,
       "align_items": null,
       "align_self": null,
       "border_bottom": null,
       "border_left": null,
       "border_right": null,
       "border_top": null,
       "bottom": null,
       "display": null,
       "flex": null,
       "flex_flow": null,
       "grid_area": null,
       "grid_auto_columns": null,
       "grid_auto_flow": null,
       "grid_auto_rows": null,
       "grid_column": null,
       "grid_gap": null,
       "grid_row": null,
       "grid_template_areas": null,
       "grid_template_columns": null,
       "grid_template_rows": null,
       "height": null,
       "justify_content": null,
       "justify_items": null,
       "left": null,
       "margin": null,
       "max_height": null,
       "max_width": null,
       "min_height": null,
       "min_width": null,
       "object_fit": null,
       "object_position": null,
       "order": null,
       "overflow": null,
       "padding": null,
       "right": null,
       "top": null,
       "visibility": null,
       "width": null
      }
     },
     "a98f44711ea04e92979a936011599905": {
      "model_module": "@jupyter-widgets/base",
      "model_module_version": "2.0.0",
      "model_name": "LayoutModel",
      "state": {
       "_model_module": "@jupyter-widgets/base",
       "_model_module_version": "2.0.0",
       "_model_name": "LayoutModel",
       "_view_count": null,
       "_view_module": "@jupyter-widgets/base",
       "_view_module_version": "2.0.0",
       "_view_name": "LayoutView",
       "align_content": null,
       "align_items": null,
       "align_self": null,
       "border_bottom": null,
       "border_left": null,
       "border_right": null,
       "border_top": null,
       "bottom": null,
       "display": null,
       "flex": null,
       "flex_flow": null,
       "grid_area": null,
       "grid_auto_columns": null,
       "grid_auto_flow": null,
       "grid_auto_rows": null,
       "grid_column": null,
       "grid_gap": null,
       "grid_row": null,
       "grid_template_areas": null,
       "grid_template_columns": null,
       "grid_template_rows": null,
       "height": null,
       "justify_content": null,
       "justify_items": null,
       "left": null,
       "margin": null,
       "max_height": null,
       "max_width": null,
       "min_height": null,
       "min_width": null,
       "object_fit": null,
       "object_position": null,
       "order": null,
       "overflow": null,
       "padding": null,
       "right": null,
       "top": null,
       "visibility": null,
       "width": null
      }
     },
     "e062566cb102470b9e81c24d9f78f8b6": {
      "model_module": "@jupyter-widgets/controls",
      "model_module_version": "2.0.0",
      "model_name": "HTMLModel",
      "state": {
       "_dom_classes": [],
       "_model_module": "@jupyter-widgets/controls",
       "_model_module_version": "2.0.0",
       "_model_name": "HTMLModel",
       "_view_count": null,
       "_view_module": "@jupyter-widgets/controls",
       "_view_module_version": "2.0.0",
       "_view_name": "HTMLView",
       "description": "",
       "description_allow_html": false,
       "layout": "IPY_MODEL_1e32e1b16f4e41ceba336c7ad7c900c7",
       "placeholder": "​",
       "style": "IPY_MODEL_370a41bbdb1b4e8a8d8f0d61397b3467",
       "tabbable": null,
       "tooltip": null,
       "value": " 54/54 [01:12&lt;00:00,  1.97cell/s]"
      }
     },
     "f134d781fc074ac298ce8d5ece256587": {
      "model_module": "@jupyter-widgets/controls",
      "model_module_version": "2.0.0",
      "model_name": "FloatProgressModel",
      "state": {
       "_dom_classes": [],
       "_model_module": "@jupyter-widgets/controls",
       "_model_module_version": "2.0.0",
       "_model_name": "FloatProgressModel",
       "_view_count": null,
       "_view_module": "@jupyter-widgets/controls",
       "_view_module_version": "2.0.0",
       "_view_name": "ProgressView",
       "bar_style": "success",
       "description": "",
       "description_allow_html": false,
       "layout": "IPY_MODEL_8d94c5d59c9a4a418dc0e199d9223c72",
       "max": 54.0,
       "min": 0.0,
       "orientation": "horizontal",
       "style": "IPY_MODEL_355f48c1b47c427ab62c175c8d523145",
       "tabbable": null,
       "tooltip": null,
       "value": 54.0
      }
     }
    },
    "version_major": 2,
    "version_minor": 0
   }
  }
 },
 "nbformat": 4,
 "nbformat_minor": 5
}