{
 "cells": [
  {
   "cell_type": "code",
   "execution_count": 1,
   "id": "cf98a9e1-f3e0-4c0a-96c1-30f305901246",
   "metadata": {
    "editable": true,
    "execution": {
     "iopub.execute_input": "2024-03-08T09:45:52.226157Z",
     "iopub.status.busy": "2024-03-08T09:45:52.225584Z",
     "iopub.status.idle": "2024-03-08T09:45:54.674573Z",
     "shell.execute_reply": "2024-03-08T09:45:54.674190Z"
    },
    "papermill": {
     "duration": 2.458459,
     "end_time": "2024-03-08T09:45:54.675376",
     "exception": false,
     "start_time": "2024-03-08T09:45:52.216917",
     "status": "completed"
    },
    "slideshow": {
     "slide_type": ""
    },
    "tags": []
   },
   "outputs": [
    {
     "name": "stdout",
     "output_type": "stream",
     "text": [
      "Python version 3.9.18 (main, Oct 24 2023, 09:18:18) \n",
      "[GCC 11.4.0]\n"
     ]
    },
    {
     "name": "stderr",
     "output_type": "stream",
     "text": [
      "2024-03-08 09:45:52.549112: E tensorflow/compiler/xla/stream_executor/cuda/cuda_dnn.cc:9342] Unable to register cuDNN factory: Attempting to register factory for plugin cuDNN when one has already been registered\n",
      "2024-03-08 09:45:52.549135: E tensorflow/compiler/xla/stream_executor/cuda/cuda_fft.cc:609] Unable to register cuFFT factory: Attempting to register factory for plugin cuFFT when one has already been registered\n",
      "2024-03-08 09:45:52.549147: E tensorflow/compiler/xla/stream_executor/cuda/cuda_blas.cc:1518] Unable to register cuBLAS factory: Attempting to register factory for plugin cuBLAS when one has already been registered\n"
     ]
    },
    {
     "name": "stdout",
     "output_type": "stream",
     "text": [
      "11.8 8\n",
      "Ray version: 2.9.1\n"
     ]
    }
   ],
   "source": [
    "from typing import Dict, List, Tuple, Union, Any, Optional\n",
    "\n",
    "import os\n",
    "import sys\n",
    "import time\n",
    "print(\"Python version\", sys.version)\n",
    "\n",
    "# Ignore pandas warnings\n",
    "import warnings\n",
    "warnings.simplefilter(action='ignore', category=FutureWarning)\n",
    "\n",
    "from pathlib import Path\n",
    "\n",
    "import pandas as pd\n",
    "import numpy as np\n",
    "import tensorflow as tf\n",
    "import datetime as dt\n",
    "\n",
    "from tqdm.autonotebook import tqdm\n",
    "\n",
    "import ray\n",
    "from ray import train, tune\n",
    "\n",
    "from src.datasets import daocensus_text\n",
    "\n",
    "%load_ext autoreload\n",
    "%autoreload 2\n",
    "\n",
    "tf.get_logger().setLevel('WARNING')\n",
    "\n",
    "tf.config.list_physical_devices(\"GPU\")\n",
    "sys_details = tf.sysconfig.get_build_info()\n",
    "cuda = sys_details.get(\"cuda_version\", -1)\n",
    "cudnn = sys_details.get(\"cudnn_version\", -1)\n",
    "print(cuda, cudnn)\n",
    "print('Ray version:', ray.__version__)"
   ]
  },
  {
   "cell_type": "code",
   "execution_count": 2,
   "id": "798161a7-5414-4626-9dfb-6d71823bf4c7",
   "metadata": {
    "editable": true,
    "execution": {
     "iopub.execute_input": "2024-03-08T09:45:54.681274Z",
     "iopub.status.busy": "2024-03-08T09:45:54.681041Z",
     "iopub.status.idle": "2024-03-08T09:45:54.703682Z",
     "shell.execute_reply": "2024-03-08T09:45:54.703449Z"
    },
    "papermill": {
     "duration": 0.026384,
     "end_time": "2024-03-08T09:45:54.704560",
     "exception": false,
     "start_time": "2024-03-08T09:45:54.678176",
     "status": "completed"
    },
    "slideshow": {
     "slide_type": ""
    },
    "tags": [
     "parameters"
    ]
   },
   "outputs": [],
   "source": [
    "# Others config\n",
    "SEED: int = 57\n",
    "RAY_RESULTS_PATH: Path = Path('~/ray_results').expanduser()\n",
    "\n",
    "# Dataset config\n",
    "ORG_NAME = 'Decentraland'\n",
    "ORG_PLATFORM = 'snapshot'\n",
    "USE_ORG_NAMES: bool = False\n",
    "CUTOFF_DATE_STR: str = None\n",
    "\n",
    "# Dataset splits config\n",
    "SPLITS_FREQ = 'W-THU' # Split weekly\n",
    "LAST_SPLITS = 10 # Use just last 10 splits\n",
    "SPLITS_NORMALIZE = True\n",
    "\n",
    "# Training config\n",
    "MAX_EPOCHS: int = 200\n",
    "EPOCHS_PER_ITER: int = 5\n",
    "SAMPLES_PER_SPLIT: int = 100\n",
    "OPTIM_METRIC: str = 'map@10'\n",
    "\n",
    "# Eval config\n",
    "TOP_K: List[int] = [5, 10]\n",
    "METRICS: List[str] = [\"recall\", \"ndcg\", \"precision\", \"map\"]"
   ]
  },
  {
   "cell_type": "code",
   "execution_count": 3,
   "id": "e4f9ab8a",
   "metadata": {
    "execution": {
     "iopub.execute_input": "2024-03-08T09:45:54.709569Z",
     "iopub.status.busy": "2024-03-08T09:45:54.709441Z",
     "iopub.status.idle": "2024-03-08T09:45:54.729886Z",
     "shell.execute_reply": "2024-03-08T09:45:54.729669Z"
    },
    "papermill": {
     "duration": 0.023954,
     "end_time": "2024-03-08T09:45:54.730703",
     "exception": false,
     "start_time": "2024-03-08T09:45:54.706749",
     "status": "completed"
    },
    "tags": [
     "injected-parameters"
    ]
   },
   "outputs": [],
   "source": [
    "# Parameters\n",
    "ORG_NAME = \"Decentraland\"\n",
    "ORG_PLATFORM = \"snapshot\"\n",
    "SPLITS_FREQ = \"W-THU\"\n",
    "SPLITS_NORMALIZE = True\n",
    "LAST_SPLITS = 10\n",
    "USE_ORG_NAMES = True\n",
    "EXECUTION_ID = \"2024-03-08 10:00\"\n",
    "CUTOFF_DATE_STR = \"2023-07-29\"\n"
   ]
  },
  {
   "cell_type": "code",
   "execution_count": 4,
   "id": "cb3db761-9d3b-4a8b-9164-1008f2e8bab5",
   "metadata": {
    "execution": {
     "iopub.execute_input": "2024-03-08T09:45:54.735492Z",
     "iopub.status.busy": "2024-03-08T09:45:54.735363Z",
     "iopub.status.idle": "2024-03-08T09:45:54.752601Z",
     "shell.execute_reply": "2024-03-08T09:45:54.752385Z"
    },
    "papermill": {
     "duration": 0.020638,
     "end_time": "2024-03-08T09:45:54.753420",
     "exception": false,
     "start_time": "2024-03-08T09:45:54.732782",
     "status": "completed"
    },
    "tags": []
   },
   "outputs": [],
   "source": [
    "CUTOFF_DATE = dt.datetime.fromisoformat(CUTOFF_DATE_STR) if CUTOFF_DATE_STR else None"
   ]
  },
  {
   "cell_type": "markdown",
   "id": "ab0ff2f2-bdaa-46eb-87d1-c4481734b8c0",
   "metadata": {
    "papermill": {
     "duration": 0.002277,
     "end_time": "2024-03-08T09:45:54.757827",
     "exception": false,
     "start_time": "2024-03-08T09:45:54.755550",
     "status": "completed"
    },
    "tags": []
   },
   "source": [
    "# Load data"
   ]
  },
  {
   "cell_type": "code",
   "execution_count": 5,
   "id": "765a4892-6a85-40ab-a65d-c0d76b0569b2",
   "metadata": {
    "editable": true,
    "execution": {
     "iopub.execute_input": "2024-03-08T09:45:54.762619Z",
     "iopub.status.busy": "2024-03-08T09:45:54.762494Z",
     "iopub.status.idle": "2024-03-08T09:46:01.225673Z",
     "shell.execute_reply": "2024-03-08T09:46:01.225282Z"
    },
    "papermill": {
     "duration": 6.466674,
     "end_time": "2024-03-08T09:46:01.226580",
     "exception": false,
     "start_time": "2024-03-08T09:45:54.759906",
     "status": "completed"
    },
    "scrolled": true,
    "slideshow": {
     "slide_type": ""
    },
    "tags": []
   },
   "outputs": [
    {
     "data": {
      "text/html": [
       "<div>\n",
       "<style scoped>\n",
       "    .dataframe tbody tr th:only-of-type {\n",
       "        vertical-align: middle;\n",
       "    }\n",
       "\n",
       "    .dataframe tbody tr th {\n",
       "        vertical-align: top;\n",
       "    }\n",
       "\n",
       "    .dataframe thead th {\n",
       "        text-align: right;\n",
       "    }\n",
       "</style>\n",
       "<table border=\"1\" class=\"dataframe\">\n",
       "  <thead>\n",
       "    <tr style=\"text-align: right;\">\n",
       "      <th></th>\n",
       "      <th>platform</th>\n",
       "      <th>name</th>\n",
       "      <th>id</th>\n",
       "      <th>proposal</th>\n",
       "      <th>deployment</th>\n",
       "      <th>platform_vote</th>\n",
       "      <th>voter</th>\n",
       "      <th>date</th>\n",
       "      <th>choice</th>\n",
       "      <th>weight</th>\n",
       "    </tr>\n",
       "  </thead>\n",
       "  <tbody>\n",
       "    <tr>\n",
       "      <th>0</th>\n",
       "      <td>snapshot</td>\n",
       "      <td>Decentraland</td>\n",
       "      <td>60d57e3c-772a-55c6-b5bf-dc248cfc21f4</td>\n",
       "      <td>b86aa059-3d31-5d41-a472-70962816f779</td>\n",
       "      <td>41fd8de5-f8e2-5023-86a3-825c49e9ad7f</td>\n",
       "      <td>0xd39e5cc83a1c5cf8590badbda6ec50fc35e9c8f34c2e...</td>\n",
       "      <td>0xe7af1c70f8f089c4c3bd71999692c6c5a15d9e2a</td>\n",
       "      <td>2021-12-17 12:28:01</td>\n",
       "      <td>[0, 0, 0, 193.18689615308116, 0, 0]</td>\n",
       "      <td>193.0</td>\n",
       "    </tr>\n",
       "    <tr>\n",
       "      <th>1</th>\n",
       "      <td>snapshot</td>\n",
       "      <td>Decentraland</td>\n",
       "      <td>bd60a83f-2a23-5035-802b-7d3ecff9d4e2</td>\n",
       "      <td>b86aa059-3d31-5d41-a472-70962816f779</td>\n",
       "      <td>41fd8de5-f8e2-5023-86a3-825c49e9ad7f</td>\n",
       "      <td>0x414089deabab4681c3c3b679b8f231182ed8d8a1b7c8...</td>\n",
       "      <td>0xc54a6c3778016b06cbd126ccc3b5bc06c5f666fb</td>\n",
       "      <td>2021-12-17 02:16:23</td>\n",
       "      <td>[0, 0, 0, 188.71532546843463, 0, 0]</td>\n",
       "      <td>188.0</td>\n",
       "    </tr>\n",
       "    <tr>\n",
       "      <th>2</th>\n",
       "      <td>snapshot</td>\n",
       "      <td>Decentraland</td>\n",
       "      <td>0f868cb1-b4b7-58a0-bf74-26573db45465</td>\n",
       "      <td>b86aa059-3d31-5d41-a472-70962816f779</td>\n",
       "      <td>41fd8de5-f8e2-5023-86a3-825c49e9ad7f</td>\n",
       "      <td>QmRqNordvsSWx7zCWENSEhiZV8J89DNuTijGr2rQ6n85Vj</td>\n",
       "      <td>0xd82d005e8f8d5385db40ba23884a5c967bb1e8af</td>\n",
       "      <td>2021-12-17 00:38:22</td>\n",
       "      <td>[0, 0, 4000, 399.825, 300, 0]</td>\n",
       "      <td>4699.0</td>\n",
       "    </tr>\n",
       "    <tr>\n",
       "      <th>3</th>\n",
       "      <td>snapshot</td>\n",
       "      <td>Decentraland</td>\n",
       "      <td>f50f9e59-f5cc-5a82-9cac-36f7cedce08c</td>\n",
       "      <td>b86aa059-3d31-5d41-a472-70962816f779</td>\n",
       "      <td>41fd8de5-f8e2-5023-86a3-825c49e9ad7f</td>\n",
       "      <td>QmWvJrnW98XkSCpvkmathKn5bDjfrGtS3LWTQgztgUqK5L</td>\n",
       "      <td>0xf4c64db66ffb301985f5ecd85c8f3f9c02f2659d</td>\n",
       "      <td>2021-12-16 18:47:08</td>\n",
       "      <td>[0, 2000, 0, 0, 100, 0]</td>\n",
       "      <td>2100.0</td>\n",
       "    </tr>\n",
       "    <tr>\n",
       "      <th>4</th>\n",
       "      <td>snapshot</td>\n",
       "      <td>Decentraland</td>\n",
       "      <td>feb2353c-9314-5373-9d07-0ff2dc0de59d</td>\n",
       "      <td>b86aa059-3d31-5d41-a472-70962816f779</td>\n",
       "      <td>41fd8de5-f8e2-5023-86a3-825c49e9ad7f</td>\n",
       "      <td>QmRGjFe5621Zb3i59c1sbLBnaxfkdp7nbHbvJowA23SunG</td>\n",
       "      <td>0xd5e9ef1cedad0d135d543d286a2c190b16cbb89e</td>\n",
       "      <td>2021-12-16 18:32:15</td>\n",
       "      <td>[0, 0, 48000, 344.575, 300, 152688.025]</td>\n",
       "      <td>201332.0</td>\n",
       "    </tr>\n",
       "    <tr>\n",
       "      <th>...</th>\n",
       "      <td>...</td>\n",
       "      <td>...</td>\n",
       "      <td>...</td>\n",
       "      <td>...</td>\n",
       "      <td>...</td>\n",
       "      <td>...</td>\n",
       "      <td>...</td>\n",
       "      <td>...</td>\n",
       "      <td>...</td>\n",
       "      <td>...</td>\n",
       "    </tr>\n",
       "    <tr>\n",
       "      <th>116555</th>\n",
       "      <td>snapshot</td>\n",
       "      <td>Decentraland</td>\n",
       "      <td>1234ccfe-7691-53d8-a783-f45bbfb58e9d</td>\n",
       "      <td>d083109e-4819-54b9-a01c-67bd5a770f65</td>\n",
       "      <td>41fd8de5-f8e2-5023-86a3-825c49e9ad7f</td>\n",
       "      <td>bafkreidxyivqx42pvaxoqtwqpifroeem5x3ftr33yudp3...</td>\n",
       "      <td>0x1156bf625b37623a86d004e66e0a01ec4b17e051</td>\n",
       "      <td>2022-09-06 18:47:54</td>\n",
       "      <td>[0, 2000, 12000, 11398.326305277713, 700, 0]</td>\n",
       "      <td>26098.0</td>\n",
       "    </tr>\n",
       "    <tr>\n",
       "      <th>116556</th>\n",
       "      <td>snapshot</td>\n",
       "      <td>Decentraland</td>\n",
       "      <td>391cd10b-3bca-5d98-a063-c00f00457315</td>\n",
       "      <td>d083109e-4819-54b9-a01c-67bd5a770f65</td>\n",
       "      <td>41fd8de5-f8e2-5023-86a3-825c49e9ad7f</td>\n",
       "      <td>bafkreicqzstsslmg4uhnhhe2qwjbve5p3l7m2wj4wylbo...</td>\n",
       "      <td>0xbd03add5da0e173c67c9c1073ffba017147c42d4</td>\n",
       "      <td>2022-09-06 18:44:04</td>\n",
       "      <td>[0, 0, 0, 0, 100, 0]</td>\n",
       "      <td>100.0</td>\n",
       "    </tr>\n",
       "    <tr>\n",
       "      <th>116557</th>\n",
       "      <td>snapshot</td>\n",
       "      <td>Decentraland</td>\n",
       "      <td>926887f7-57b8-558c-873e-d945a45fe1e0</td>\n",
       "      <td>d083109e-4819-54b9-a01c-67bd5a770f65</td>\n",
       "      <td>41fd8de5-f8e2-5023-86a3-825c49e9ad7f</td>\n",
       "      <td>bafkreid7ieokukccz37ujdkvc33pt62wfj3svcxce5kym...</td>\n",
       "      <td>0x4da03f669dd9609dc49ca6f3451ba22d3b792395</td>\n",
       "      <td>2022-09-06 18:21:14</td>\n",
       "      <td>[0, 0, 0, 61.1561783615148, 100, 0]</td>\n",
       "      <td>161.0</td>\n",
       "    </tr>\n",
       "    <tr>\n",
       "      <th>116558</th>\n",
       "      <td>snapshot</td>\n",
       "      <td>Decentraland</td>\n",
       "      <td>95f06927-8a0f-5c26-b689-7deb11ddc7a6</td>\n",
       "      <td>d083109e-4819-54b9-a01c-67bd5a770f65</td>\n",
       "      <td>41fd8de5-f8e2-5023-86a3-825c49e9ad7f</td>\n",
       "      <td>bafkreidp7ftbonpcdjjew3i62q54yfczs3jw6hjxmdpfn...</td>\n",
       "      <td>0xd6e62a97a55537cd04847bb73e22208bd20106aa</td>\n",
       "      <td>2022-09-06 18:14:10</td>\n",
       "      <td>[0, 0, 0, 0, 400, 406.78]</td>\n",
       "      <td>806.0</td>\n",
       "    </tr>\n",
       "    <tr>\n",
       "      <th>116559</th>\n",
       "      <td>snapshot</td>\n",
       "      <td>Decentraland</td>\n",
       "      <td>6cbf2672-6029-5489-a4cc-ebedde0c011b</td>\n",
       "      <td>d083109e-4819-54b9-a01c-67bd5a770f65</td>\n",
       "      <td>41fd8de5-f8e2-5023-86a3-825c49e9ad7f</td>\n",
       "      <td>0x7d6ab20a6fb304d4c421b1e07c15ea68c19e0ec73e9a...</td>\n",
       "      <td>0x9a70a6e429c4ede5fcb0562f5bcc0c0d992493f4</td>\n",
       "      <td>2022-09-06 18:12:51</td>\n",
       "      <td>[0, 0, 0, 395.06, 0, 0]</td>\n",
       "      <td>395.0</td>\n",
       "    </tr>\n",
       "  </tbody>\n",
       "</table>\n",
       "<p>116560 rows × 10 columns</p>\n",
       "</div>"
      ],
      "text/plain": [
       "        platform          name                                    id  \\\n",
       "0       snapshot  Decentraland  60d57e3c-772a-55c6-b5bf-dc248cfc21f4   \n",
       "1       snapshot  Decentraland  bd60a83f-2a23-5035-802b-7d3ecff9d4e2   \n",
       "2       snapshot  Decentraland  0f868cb1-b4b7-58a0-bf74-26573db45465   \n",
       "3       snapshot  Decentraland  f50f9e59-f5cc-5a82-9cac-36f7cedce08c   \n",
       "4       snapshot  Decentraland  feb2353c-9314-5373-9d07-0ff2dc0de59d   \n",
       "...          ...           ...                                   ...   \n",
       "116555  snapshot  Decentraland  1234ccfe-7691-53d8-a783-f45bbfb58e9d   \n",
       "116556  snapshot  Decentraland  391cd10b-3bca-5d98-a063-c00f00457315   \n",
       "116557  snapshot  Decentraland  926887f7-57b8-558c-873e-d945a45fe1e0   \n",
       "116558  snapshot  Decentraland  95f06927-8a0f-5c26-b689-7deb11ddc7a6   \n",
       "116559  snapshot  Decentraland  6cbf2672-6029-5489-a4cc-ebedde0c011b   \n",
       "\n",
       "                                    proposal  \\\n",
       "0       b86aa059-3d31-5d41-a472-70962816f779   \n",
       "1       b86aa059-3d31-5d41-a472-70962816f779   \n",
       "2       b86aa059-3d31-5d41-a472-70962816f779   \n",
       "3       b86aa059-3d31-5d41-a472-70962816f779   \n",
       "4       b86aa059-3d31-5d41-a472-70962816f779   \n",
       "...                                      ...   \n",
       "116555  d083109e-4819-54b9-a01c-67bd5a770f65   \n",
       "116556  d083109e-4819-54b9-a01c-67bd5a770f65   \n",
       "116557  d083109e-4819-54b9-a01c-67bd5a770f65   \n",
       "116558  d083109e-4819-54b9-a01c-67bd5a770f65   \n",
       "116559  d083109e-4819-54b9-a01c-67bd5a770f65   \n",
       "\n",
       "                                  deployment  \\\n",
       "0       41fd8de5-f8e2-5023-86a3-825c49e9ad7f   \n",
       "1       41fd8de5-f8e2-5023-86a3-825c49e9ad7f   \n",
       "2       41fd8de5-f8e2-5023-86a3-825c49e9ad7f   \n",
       "3       41fd8de5-f8e2-5023-86a3-825c49e9ad7f   \n",
       "4       41fd8de5-f8e2-5023-86a3-825c49e9ad7f   \n",
       "...                                      ...   \n",
       "116555  41fd8de5-f8e2-5023-86a3-825c49e9ad7f   \n",
       "116556  41fd8de5-f8e2-5023-86a3-825c49e9ad7f   \n",
       "116557  41fd8de5-f8e2-5023-86a3-825c49e9ad7f   \n",
       "116558  41fd8de5-f8e2-5023-86a3-825c49e9ad7f   \n",
       "116559  41fd8de5-f8e2-5023-86a3-825c49e9ad7f   \n",
       "\n",
       "                                            platform_vote  \\\n",
       "0       0xd39e5cc83a1c5cf8590badbda6ec50fc35e9c8f34c2e...   \n",
       "1       0x414089deabab4681c3c3b679b8f231182ed8d8a1b7c8...   \n",
       "2          QmRqNordvsSWx7zCWENSEhiZV8J89DNuTijGr2rQ6n85Vj   \n",
       "3          QmWvJrnW98XkSCpvkmathKn5bDjfrGtS3LWTQgztgUqK5L   \n",
       "4          QmRGjFe5621Zb3i59c1sbLBnaxfkdp7nbHbvJowA23SunG   \n",
       "...                                                   ...   \n",
       "116555  bafkreidxyivqx42pvaxoqtwqpifroeem5x3ftr33yudp3...   \n",
       "116556  bafkreicqzstsslmg4uhnhhe2qwjbve5p3l7m2wj4wylbo...   \n",
       "116557  bafkreid7ieokukccz37ujdkvc33pt62wfj3svcxce5kym...   \n",
       "116558  bafkreidp7ftbonpcdjjew3i62q54yfczs3jw6hjxmdpfn...   \n",
       "116559  0x7d6ab20a6fb304d4c421b1e07c15ea68c19e0ec73e9a...   \n",
       "\n",
       "                                             voter                date  \\\n",
       "0       0xe7af1c70f8f089c4c3bd71999692c6c5a15d9e2a 2021-12-17 12:28:01   \n",
       "1       0xc54a6c3778016b06cbd126ccc3b5bc06c5f666fb 2021-12-17 02:16:23   \n",
       "2       0xd82d005e8f8d5385db40ba23884a5c967bb1e8af 2021-12-17 00:38:22   \n",
       "3       0xf4c64db66ffb301985f5ecd85c8f3f9c02f2659d 2021-12-16 18:47:08   \n",
       "4       0xd5e9ef1cedad0d135d543d286a2c190b16cbb89e 2021-12-16 18:32:15   \n",
       "...                                            ...                 ...   \n",
       "116555  0x1156bf625b37623a86d004e66e0a01ec4b17e051 2022-09-06 18:47:54   \n",
       "116556  0xbd03add5da0e173c67c9c1073ffba017147c42d4 2022-09-06 18:44:04   \n",
       "116557  0x4da03f669dd9609dc49ca6f3451ba22d3b792395 2022-09-06 18:21:14   \n",
       "116558  0xd6e62a97a55537cd04847bb73e22208bd20106aa 2022-09-06 18:14:10   \n",
       "116559  0x9a70a6e429c4ede5fcb0562f5bcc0c0d992493f4 2022-09-06 18:12:51   \n",
       "\n",
       "                                              choice    weight  \n",
       "0                [0, 0, 0, 193.18689615308116, 0, 0]     193.0  \n",
       "1                [0, 0, 0, 188.71532546843463, 0, 0]     188.0  \n",
       "2                      [0, 0, 4000, 399.825, 300, 0]    4699.0  \n",
       "3                            [0, 2000, 0, 0, 100, 0]    2100.0  \n",
       "4            [0, 0, 48000, 344.575, 300, 152688.025]  201332.0  \n",
       "...                                              ...       ...  \n",
       "116555  [0, 2000, 12000, 11398.326305277713, 700, 0]   26098.0  \n",
       "116556                          [0, 0, 0, 0, 100, 0]     100.0  \n",
       "116557           [0, 0, 0, 61.1561783615148, 100, 0]     161.0  \n",
       "116558                     [0, 0, 0, 0, 400, 406.78]     806.0  \n",
       "116559                       [0, 0, 0, 395.06, 0, 0]     395.0  \n",
       "\n",
       "[116560 rows x 10 columns]"
      ]
     },
     "metadata": {},
     "output_type": "display_data"
    },
    {
     "name": "stdout",
     "output_type": "stream",
     "text": [
      "Warning, removing 116560 votes without proposal\n",
      "<class 'pandas.core.frame.DataFrame'>\n",
      "Int64Index: 116560 entries, 0 to 116559\n",
      "Data columns (total 10 columns):\n",
      " #   Column         Non-Null Count   Dtype         \n",
      "---  ------         --------------   -----         \n",
      " 0   platform       116560 non-null  object        \n",
      " 1   name           116560 non-null  object        \n",
      " 2   id             116560 non-null  object        \n",
      " 3   proposal       116560 non-null  category      \n",
      " 4   deployment     116560 non-null  object        \n",
      " 5   platform_vote  116560 non-null  object        \n",
      " 6   voter          116560 non-null  category      \n",
      " 7   date           116560 non-null  datetime64[ns]\n",
      " 8   choice         116560 non-null  object        \n",
      " 9   weight         116560 non-null  float64       \n",
      "dtypes: category(2), datetime64[ns](1), float64(1), object(6)\n",
      "memory usage: 8.5+ MB\n",
      "None\n",
      "<class 'pandas.core.frame.DataFrame'>\n",
      "Int64Index: 1942 entries, 0 to 1941\n",
      "Data columns (total 13 columns):\n",
      " #   Column               Non-Null Count  Dtype         \n",
      "---  ------               --------------  -----         \n",
      " 0   platform             1942 non-null   object        \n",
      " 1   name                 1942 non-null   object        \n",
      " 2   platform_deployment  1942 non-null   object        \n",
      " 3   id                   1942 non-null   category      \n",
      " 4   deployment           1942 non-null   object        \n",
      " 5   platform_proposal    1942 non-null   object        \n",
      " 6   author               1942 non-null   category      \n",
      " 7   date                 1942 non-null   datetime64[ns]\n",
      " 8   title                1942 non-null   object        \n",
      " 9   description          1942 non-null   object        \n",
      " 10  start                1942 non-null   datetime64[ns]\n",
      " 11  end                  1942 non-null   datetime64[ns]\n",
      " 12  votes_count          1942 non-null   int64         \n",
      "dtypes: category(2), datetime64[ns](3), int64(1), object(7)\n",
      "memory usage: 202.9+ KB\n",
      "None\n"
     ]
    }
   ],
   "source": [
    "# dfptext = pd.read_csv('./snapshot_proposals.csv')[['proposal_id', 'title', 'description', 'start', 'end']]\n",
    "# dfv, dfp = daocensus.get(\"./data/daos-census\", ORG_NAME, 'snapshot')\n",
    "# dfv['voter'] = dfv['voter'].astype('str')\n",
    "# dfp = dfp.merge(dfptext, how='left', left_on='platform_proposal', right_on='proposal_id')\n",
    "# dfp[['start', 'end']] = dfp[['start', 'end']].astype('datetime64')\n",
    "\n",
    "dfv, dfp = daocensus_text.get(\"./data/daos-census-text\", ORG_NAME, ORG_PLATFORM, use_org_names=USE_ORG_NAMES, cutoff_date=CUTOFF_DATE)\n",
    "print(dfv.info())\n",
    "print(dfp.info())"
   ]
  },
  {
   "cell_type": "markdown",
   "id": "df339c08-4f99-4933-886c-6ab774f09e63",
   "metadata": {
    "papermill": {
     "duration": 0.002804,
     "end_time": "2024-03-08T09:46:01.232303",
     "exception": false,
     "start_time": "2024-03-08T09:46:01.229499",
     "status": "completed"
    },
    "tags": []
   },
   "source": [
    "## Transform data"
   ]
  },
  {
   "cell_type": "code",
   "execution_count": 6,
   "id": "4b003927-cfab-4f9a-91f8-1376f038f82e",
   "metadata": {
    "execution": {
     "iopub.execute_input": "2024-03-08T09:46:01.237591Z",
     "iopub.status.busy": "2024-03-08T09:46:01.237473Z",
     "iopub.status.idle": "2024-03-08T09:46:01.280898Z",
     "shell.execute_reply": "2024-03-08T09:46:01.280538Z"
    },
    "papermill": {
     "duration": 0.047179,
     "end_time": "2024-03-08T09:46:01.281808",
     "exception": false,
     "start_time": "2024-03-08T09:46:01.234629",
     "status": "completed"
    },
    "tags": []
   },
   "outputs": [
    {
     "data": {
      "text/html": [
       "<div>\n",
       "<style scoped>\n",
       "    .dataframe tbody tr th:only-of-type {\n",
       "        vertical-align: middle;\n",
       "    }\n",
       "\n",
       "    .dataframe tbody tr th {\n",
       "        vertical-align: top;\n",
       "    }\n",
       "\n",
       "    .dataframe thead th {\n",
       "        text-align: right;\n",
       "    }\n",
       "</style>\n",
       "<table border=\"1\" class=\"dataframe\">\n",
       "  <thead>\n",
       "    <tr style=\"text-align: right;\">\n",
       "      <th></th>\n",
       "      <th>userID</th>\n",
       "      <th>itemID</th>\n",
       "      <th>timestamp</th>\n",
       "      <th>rating</th>\n",
       "    </tr>\n",
       "  </thead>\n",
       "  <tbody>\n",
       "    <tr>\n",
       "      <th>0</th>\n",
       "      <td>0xe7af1c70f8f089c4c3bd71999692c6c5a15d9e2a</td>\n",
       "      <td>b86aa059-3d31-5d41-a472-70962816f779</td>\n",
       "      <td>2021-12-17 12:28:01</td>\n",
       "      <td>1</td>\n",
       "    </tr>\n",
       "    <tr>\n",
       "      <th>1</th>\n",
       "      <td>0xc54a6c3778016b06cbd126ccc3b5bc06c5f666fb</td>\n",
       "      <td>b86aa059-3d31-5d41-a472-70962816f779</td>\n",
       "      <td>2021-12-17 02:16:23</td>\n",
       "      <td>1</td>\n",
       "    </tr>\n",
       "    <tr>\n",
       "      <th>2</th>\n",
       "      <td>0xd82d005e8f8d5385db40ba23884a5c967bb1e8af</td>\n",
       "      <td>b86aa059-3d31-5d41-a472-70962816f779</td>\n",
       "      <td>2021-12-17 00:38:22</td>\n",
       "      <td>1</td>\n",
       "    </tr>\n",
       "    <tr>\n",
       "      <th>3</th>\n",
       "      <td>0xf4c64db66ffb301985f5ecd85c8f3f9c02f2659d</td>\n",
       "      <td>b86aa059-3d31-5d41-a472-70962816f779</td>\n",
       "      <td>2021-12-16 18:47:08</td>\n",
       "      <td>1</td>\n",
       "    </tr>\n",
       "    <tr>\n",
       "      <th>4</th>\n",
       "      <td>0xd5e9ef1cedad0d135d543d286a2c190b16cbb89e</td>\n",
       "      <td>b86aa059-3d31-5d41-a472-70962816f779</td>\n",
       "      <td>2021-12-16 18:32:15</td>\n",
       "      <td>1</td>\n",
       "    </tr>\n",
       "  </tbody>\n",
       "</table>\n",
       "</div>"
      ],
      "text/plain": [
       "                                       userID  \\\n",
       "0  0xe7af1c70f8f089c4c3bd71999692c6c5a15d9e2a   \n",
       "1  0xc54a6c3778016b06cbd126ccc3b5bc06c5f666fb   \n",
       "2  0xd82d005e8f8d5385db40ba23884a5c967bb1e8af   \n",
       "3  0xf4c64db66ffb301985f5ecd85c8f3f9c02f2659d   \n",
       "4  0xd5e9ef1cedad0d135d543d286a2c190b16cbb89e   \n",
       "\n",
       "                                 itemID           timestamp  rating  \n",
       "0  b86aa059-3d31-5d41-a472-70962816f779 2021-12-17 12:28:01       1  \n",
       "1  b86aa059-3d31-5d41-a472-70962816f779 2021-12-17 02:16:23       1  \n",
       "2  b86aa059-3d31-5d41-a472-70962816f779 2021-12-17 00:38:22       1  \n",
       "3  b86aa059-3d31-5d41-a472-70962816f779 2021-12-16 18:47:08       1  \n",
       "4  b86aa059-3d31-5d41-a472-70962816f779 2021-12-16 18:32:15       1  "
      ]
     },
     "execution_count": 6,
     "metadata": {},
     "output_type": "execute_result"
    }
   ],
   "source": [
    "def to_microsoft(dfv):\n",
    "    df = dfv[['voter', 'proposal', 'date']].rename(columns={\n",
    "        'voter': 'userID',\n",
    "        'proposal': 'itemID',\n",
    "        'date': 'timestamp',\n",
    "    })\n",
    "    df['itemID'] = df['itemID'].astype('str')\n",
    "    df['rating'] = 1\n",
    "    return df\n",
    "\n",
    "df = to_microsoft(dfv)\n",
    "df.head()"
   ]
  },
  {
   "cell_type": "markdown",
   "id": "8faab8dc-8192-47b5-96df-7458bd890ffb",
   "metadata": {
    "papermill": {
     "duration": 0.002576,
     "end_time": "2024-03-08T09:46:01.286946",
     "exception": false,
     "start_time": "2024-03-08T09:46:01.284370",
     "status": "completed"
    },
    "tags": []
   },
   "source": [
    "# Split data\n",
    "\n",
    "Each proposal remains open for a few days, our environment is different of a movies recommender system. For this reason, we will use a TimeSeriesSplit instead of a K-Fold to cross-validate the model.\n",
    "\n",
    "![](https://scikit-learn.org/stable/_images/sphx_glr_plot_cv_indices_013.png)\n",
    "\n",
    "El TimeSeriesSplit de scikit-learn no nos vale porque el número de elementos en cada split es el mismo, pero el tamaño del intervalo, no. Como queremos simular un comportamiento realista, haremos el split dividiendo por intervalos de igual longitud."
   ]
  },
  {
   "cell_type": "code",
   "execution_count": 7,
   "id": "3f661ac7-df23-49ad-9671-cfa65d4b44d6",
   "metadata": {
    "execution": {
     "iopub.execute_input": "2024-03-08T09:46:01.292442Z",
     "iopub.status.busy": "2024-03-08T09:46:01.292280Z",
     "iopub.status.idle": "2024-03-08T09:46:01.475157Z",
     "shell.execute_reply": "2024-03-08T09:46:01.474801Z"
    },
    "papermill": {
     "duration": 0.187087,
     "end_time": "2024-03-08T09:46:01.476351",
     "exception": false,
     "start_time": "2024-03-08T09:46:01.289264",
     "status": "completed"
    },
    "tags": []
   },
   "outputs": [],
   "source": [
    "from recommenders.evaluation.python_evaluation import metrics as metrics_dict"
   ]
  },
  {
   "cell_type": "code",
   "execution_count": 8,
   "id": "445d9909-609a-4cf3-8e24-6fa36946a375",
   "metadata": {
    "editable": true,
    "execution": {
     "iopub.execute_input": "2024-03-08T09:46:01.483073Z",
     "iopub.status.busy": "2024-03-08T09:46:01.482951Z",
     "iopub.status.idle": "2024-03-08T09:46:04.111206Z",
     "shell.execute_reply": "2024-03-08T09:46:04.110941Z"
    },
    "papermill": {
     "duration": 2.632667,
     "end_time": "2024-03-08T09:46:04.112085",
     "exception": false,
     "start_time": "2024-03-08T09:46:01.479418",
     "status": "completed"
    },
    "slideshow": {
     "slide_type": ""
    },
    "tags": []
   },
   "outputs": [
    {
     "name": "stdout",
     "output_type": "stream",
     "text": [
      "Split 0, train from: 2021-05-24 to 2023-05-10, test from: 2023-05-11 to 2023-05-17\n",
      "  t: 2023-05-11 00:00:00\n",
      "  len(train): 106129, len(test): 322\n",
      "  users(train): 6863, users(test): 130\n",
      "\n",
      "  highest possible recall@5:\t0.9628\n",
      "  highest possible ndcg@5:\t1.0000\n",
      "  highest possible precision@5:\t0.4292\n",
      "  highest possible map@5:\t0.9628\n",
      "------------------------------\n",
      "Split 1, train from: 2021-05-24 to 2023-05-17, test from: 2023-05-18 to 2023-05-24\n",
      "  t: 2023-05-18 00:00:00\n",
      "  len(train): 107387, len(test): 713\n",
      "  users(train): 6886, users(test): 147\n",
      "\n",
      "  highest possible recall@5:\t0.8555\n",
      "  highest possible ndcg@5:\t1.0000\n",
      "  highest possible precision@5:\t0.5973\n",
      "  highest possible map@5:\t0.8555\n",
      "------------------------------\n",
      "Split 2, train from: 2021-05-24 to 2023-05-24, test from: 2023-05-25 to 2023-05-31\n",
      "  t: 2023-05-25 00:00:00\n",
      "  len(train): 108802, len(test): 296\n",
      "  users(train): 6910, users(test): 108\n",
      "\n",
      "  highest possible recall@5:\t0.9461\n"
     ]
    },
    {
     "name": "stdout",
     "output_type": "stream",
     "text": [
      "  highest possible ndcg@5:\t1.0000\n",
      "  highest possible precision@5:\t0.4370\n",
      "  highest possible map@5:\t0.9461\n",
      "------------------------------\n",
      "Split 3, train from: 2021-05-24 to 2023-05-31, test from: 2023-06-01 to 2023-06-07\n",
      "  t: 2023-06-01 00:00:00\n",
      "  len(train): 109556, len(test): 267\n",
      "  users(train): 6920, users(test): 89\n",
      "\n",
      "  highest possible recall@5:\t0.9734\n",
      "  highest possible ndcg@5:\t1.0000\n",
      "  highest possible precision@5:\t0.5528\n",
      "  highest possible map@5:\t0.9734\n",
      "------------------------------\n",
      "Split 4, train from: 2021-05-24 to 2023-06-07, test from: 2023-06-08 to 2023-06-14\n",
      "  t: 2023-06-08 00:00:00\n",
      "  len(train): 110250, len(test): 291\n",
      "  users(train): 6937, users(test): 94\n",
      "\n",
      "  highest possible recall@5:\t0.9479\n",
      "  highest possible ndcg@5:\t1.0000\n",
      "  highest possible precision@5:\t0.5277\n"
     ]
    },
    {
     "name": "stdout",
     "output_type": "stream",
     "text": [
      "  highest possible map@5:\t0.9479\n",
      "------------------------------\n",
      "Split 5, train from: 2021-05-24 to 2023-06-14, test from: 2023-06-15 to 2023-06-21\n",
      "  t: 2023-06-15 00:00:00\n",
      "  len(train): 111195, len(test): 326\n",
      "  users(train): 6955, users(test): 110\n",
      "\n",
      "  highest possible recall@5:\t0.9481\n",
      "  highest possible ndcg@5:\t1.0000\n",
      "  highest possible precision@5:\t0.5091\n",
      "  highest possible map@5:\t0.9481\n",
      "------------------------------\n",
      "Split 6, train from: 2021-05-24 to 2023-06-21, test from: 2023-06-22 to 2023-06-28\n",
      "  t: 2023-06-22 00:00:00\n",
      "  len(train): 112105, len(test): 331\n",
      "  users(train): 6987, users(test): 127\n",
      "\n",
      "  highest possible recall@5:\t0.9641\n",
      "  highest possible ndcg@5:\t1.0000\n",
      "  highest possible precision@5:\t0.4488\n",
      "  highest possible map@5:\t0.9641\n",
      "------------------------------\n",
      "Split 7, train from: 2021-05-24 to 2023-06-28, test from: 2023-06-29 to 2023-07-05\n",
      "  t: 2023-06-29 00:00:00\n",
      "  len(train): 112925, len(test): 204\n",
      "  users(train): 7042, users(test): 92\n",
      "\n",
      "  highest possible recall@5:\t0.9933\n"
     ]
    },
    {
     "name": "stdout",
     "output_type": "stream",
     "text": [
      "  highest possible ndcg@5:\t1.0000\n",
      "  highest possible precision@5:\t0.4348\n",
      "  highest possible map@5:\t0.9933\n",
      "------------------------------\n",
      "Split 8, train from: 2021-05-24 to 2023-07-05, test from: 2023-07-06 to 2023-07-12\n",
      "  t: 2023-07-06 00:00:00\n",
      "  len(train): 114417, len(test): 683\n",
      "  users(train): 7129, users(test): 198\n",
      "\n",
      "  highest possible recall@5:\t0.9159\n",
      "  highest possible ndcg@5:\t1.0000\n",
      "  highest possible precision@5:\t0.4626\n",
      "  highest possible map@5:\t0.9159\n",
      "------------------------------\n",
      "Split 9, train from: 2021-05-24 to 2023-07-12, test from: 2023-07-13 to 2023-07-19\n",
      "  t: 2023-07-13 00:00:00\n",
      "  len(train): 115984, len(test): 382\n",
      "  users(train): 7234, users(test): 141\n",
      "\n",
      "  highest possible recall@5:\t0.9576\n",
      "  highest possible ndcg@5:\t1.0000\n",
      "  highest possible precision@5:\t0.4369\n"
     ]
    },
    {
     "name": "stdout",
     "output_type": "stream",
     "text": [
      "  highest possible map@5:\t0.9576\n",
      "------------------------------\n"
     ]
    }
   ],
   "source": [
    "from src.model_selection import timeFreqSplitCurrent, timeIntervalSplitCurrent\n",
    "\n",
    "# max_train_prev = df['timestamp'].min().date()\n",
    "# N_SPLITS = 10; SKIP_SPLIT = 0\n",
    "# folds = list(timeIntervalSplitCurrent(df, N_SPLITS, dfp, skip=SKIP_SPLIT, remove_not_in_train_col='userID', return_open=True))\n",
    "folds = list(timeFreqSplitCurrent(df, SPLITS_FREQ, dfp, return_open=True, remove_not_in_train_col='userID'))[-LAST_SPLITS:]\n",
    "for i, (dftrain, dftest, t, open_proposals) in enumerate(folds):\n",
    "    min_train = dftrain['timestamp'].min().date()\n",
    "    max_train = dftrain['timestamp'].max().date()\n",
    "    min_test  = dftest['timestamp'].min().date()\n",
    "    max_test  = dftest['timestamp'].max().date()\n",
    "\n",
    "    train_users = len(set(dftrain['userID']))\n",
    "    test_users = len(set(dftest['userID']))\n",
    "    \n",
    "    print(f\"Split {i}, train from: {min_train} to {max_train}, test from: {min_test} to {max_test}\")\n",
    "    print(f\"  t: {t}\")\n",
    "    print(f\"  len(train): {len(dftrain)}, len(test): {len(dftest)}\")\n",
    "    print(f\"  users(train): {train_users}, users(test): {test_users}\")\n",
    "\n",
    "    print()\n",
    "    dftest['prediction'] = 1\n",
    "    for m in METRICS:\n",
    "        f = metrics_dict[f'{m}_at_k']\n",
    "        print(f\"  highest possible {m}@{TOP_K[0]}:\\t{f(dftest, dftest, k=TOP_K[0], relevancy_method='top_k'):.4f}\")\n",
    "\n",
    "    print(\"-\"*30)"
   ]
  },
  {
   "cell_type": "markdown",
   "id": "5c881c43-d308-40ff-b6b4-d54458e1bc32",
   "metadata": {
    "papermill": {
     "duration": 0.002954,
     "end_time": "2024-03-08T09:46:04.118255",
     "exception": false,
     "start_time": "2024-03-08T09:46:04.115301",
     "status": "completed"
    },
    "tags": []
   },
   "source": [
    "# Defining training"
   ]
  },
  {
   "cell_type": "code",
   "execution_count": 9,
   "id": "9a502e2d-3398-405f-9029-d3abc69033dc",
   "metadata": {
    "execution": {
     "iopub.execute_input": "2024-03-08T09:46:04.124301Z",
     "iopub.status.busy": "2024-03-08T09:46:04.124175Z",
     "iopub.status.idle": "2024-03-08T09:46:04.295967Z",
     "shell.execute_reply": "2024-03-08T09:46:04.295593Z"
    },
    "papermill": {
     "duration": 0.176283,
     "end_time": "2024-03-08T09:46:04.297135",
     "exception": false,
     "start_time": "2024-03-08T09:46:04.120852",
     "status": "completed"
    },
    "tags": []
   },
   "outputs": [],
   "source": [
    "# from recommenders.models.deeprec.models.graphrec.lightgcn import LightGCN\n",
    "from src.models import LightGCNCustom\n",
    "from recommenders.utils.python_utils import get_top_k_scored_items"
   ]
  },
  {
   "cell_type": "markdown",
   "id": "923adb82-9733-4e21-a378-7263c5532353",
   "metadata": {
    "papermill": {
     "duration": 0.002962,
     "end_time": "2024-03-08T09:46:04.303242",
     "exception": false,
     "start_time": "2024-03-08T09:46:04.300280",
     "status": "completed"
    },
    "tags": []
   },
   "source": [
    "## Small test of `LightGCNCustom`"
   ]
  },
  {
   "cell_type": "code",
   "execution_count": 10,
   "id": "41d1cf90-bd11-4a87-b0aa-bf0e25d559af",
   "metadata": {
    "execution": {
     "iopub.execute_input": "2024-03-08T09:46:04.309420Z",
     "iopub.status.busy": "2024-03-08T09:46:04.309261Z",
     "iopub.status.idle": "2024-03-08T09:46:04.336733Z",
     "shell.execute_reply": "2024-03-08T09:46:04.336410Z"
    },
    "papermill": {
     "duration": 0.03175,
     "end_time": "2024-03-08T09:46:04.337695",
     "exception": false,
     "start_time": "2024-03-08T09:46:04.305945",
     "status": "completed"
    },
    "tags": []
   },
   "outputs": [],
   "source": [
    "from recommenders.models.deeprec.DataModel.ImplicitCF import ImplicitCF\n",
    "from recommenders.models.deeprec.deeprec_utils import prepare_hparams"
   ]
  },
  {
   "cell_type": "code",
   "execution_count": 11,
   "id": "0e57c58e-3091-4357-969a-c7bafedd29c1",
   "metadata": {
    "execution": {
     "iopub.execute_input": "2024-03-08T09:46:04.343711Z",
     "iopub.status.busy": "2024-03-08T09:46:04.343567Z",
     "iopub.status.idle": "2024-03-08T09:46:05.585502Z",
     "shell.execute_reply": "2024-03-08T09:46:05.585146Z"
    },
    "papermill": {
     "duration": 1.246189,
     "end_time": "2024-03-08T09:46:05.586581",
     "exception": false,
     "start_time": "2024-03-08T09:46:04.340392",
     "status": "completed"
    },
    "tags": []
   },
   "outputs": [
    {
     "name": "stdout",
     "output_type": "stream",
     "text": [
      "items: 1941 user: 7234\n"
     ]
    },
    {
     "name": "stdout",
     "output_type": "stream",
     "text": [
      "Already create adjacency matrix.\n",
      "Already normalize adjacency matrix.\n",
      "Using xavier initialization.\n"
     ]
    }
   ],
   "source": [
    "hparams = prepare_hparams(\n",
    "    model_type='lightgcn',\n",
    "    n_layers=3,\n",
    "    batch_size=512,\n",
    "    embed_size=64,\n",
    "    epochs=2,\n",
    "    learning_rate=0.001,\n",
    "    decay=0.001,\n",
    "    metrics=[\"recall\", \"ndcg\", \"precision\", \"map\"],\n",
    "    eval_epoch=2,\n",
    "    top_k=TOP_K[0],\n",
    "    save_model=False,\n",
    "    MODEL_DIR='./data/model/lightgcn/',\n",
    ")\n",
    "dataloader = ImplicitCF(train=folds[-1][0], test=folds[-1][1], seed=SEED)\n",
    "print(\"items:\", dataloader.n_items, \"user:\", dataloader.n_users)\n",
    "model = LightGCNCustom(data=dataloader, hparams=hparams)"
   ]
  },
  {
   "cell_type": "code",
   "execution_count": 12,
   "id": "3fe49e83-f291-4383-97c2-167a706ae717",
   "metadata": {
    "execution": {
     "iopub.execute_input": "2024-03-08T09:46:05.593910Z",
     "iopub.status.busy": "2024-03-08T09:46:05.593728Z",
     "iopub.status.idle": "2024-03-08T09:46:07.473451Z",
     "shell.execute_reply": "2024-03-08T09:46:07.473042Z"
    },
    "papermill": {
     "duration": 1.884266,
     "end_time": "2024-03-08T09:46:07.474295",
     "exception": false,
     "start_time": "2024-03-08T09:46:05.590029",
     "status": "completed"
    },
    "tags": []
   },
   "outputs": [
    {
     "name": "stdout",
     "output_type": "stream",
     "text": [
      "Epoch 1 (train)0.8s: train loss = 0.59165 = (mf)0.59080 + (embed)0.00085\n"
     ]
    },
    {
     "name": "stdout",
     "output_type": "stream",
     "text": [
      "Epoch 2 (train)0.5s + (eval)0.6s: train loss = 0.34034 = (mf)0.33605 + (embed)0.00429, recall = 0.00709, ndcg = 0.00355, precision = 0.00142, map = 0.00236\n"
     ]
    }
   ],
   "source": [
    "model.fit()"
   ]
  },
  {
   "cell_type": "code",
   "execution_count": 13,
   "id": "a12ab695-94f8-431e-8a7f-03bf17f2fa1e",
   "metadata": {
    "execution": {
     "iopub.execute_input": "2024-03-08T09:46:07.481383Z",
     "iopub.status.busy": "2024-03-08T09:46:07.481273Z",
     "iopub.status.idle": "2024-03-08T09:46:07.530548Z",
     "shell.execute_reply": "2024-03-08T09:46:07.530167Z"
    },
    "papermill": {
     "duration": 0.053873,
     "end_time": "2024-03-08T09:46:07.531494",
     "exception": false,
     "start_time": "2024-03-08T09:46:07.477621",
     "status": "completed"
    },
    "tags": []
   },
   "outputs": [
    {
     "data": {
      "text/plain": [
       "[0.0070921985815602835,\n",
       " 0.0035460992907801418,\n",
       " 0.0014184397163120568,\n",
       " 0.002364066193853428]"
      ]
     },
     "execution_count": 13,
     "metadata": {},
     "output_type": "execute_result"
    }
   ],
   "source": [
    "model.run_eval()"
   ]
  },
  {
   "cell_type": "code",
   "execution_count": 14,
   "id": "2b131c2d-6df2-4292-8f12-caaf409562ab",
   "metadata": {
    "execution": {
     "iopub.execute_input": "2024-03-08T09:46:07.538159Z",
     "iopub.status.busy": "2024-03-08T09:46:07.537992Z",
     "iopub.status.idle": "2024-03-08T09:46:07.577696Z",
     "shell.execute_reply": "2024-03-08T09:46:07.577337Z"
    },
    "papermill": {
     "duration": 0.044104,
     "end_time": "2024-03-08T09:46:07.578593",
     "exception": false,
     "start_time": "2024-03-08T09:46:07.534489",
     "status": "completed"
    },
    "tags": []
   },
   "outputs": [
    {
     "data": {
      "text/html": [
       "<div>\n",
       "<style scoped>\n",
       "    .dataframe tbody tr th:only-of-type {\n",
       "        vertical-align: middle;\n",
       "    }\n",
       "\n",
       "    .dataframe tbody tr th {\n",
       "        vertical-align: top;\n",
       "    }\n",
       "\n",
       "    .dataframe thead th {\n",
       "        text-align: right;\n",
       "    }\n",
       "</style>\n",
       "<table border=\"1\" class=\"dataframe\">\n",
       "  <thead>\n",
       "    <tr style=\"text-align: right;\">\n",
       "      <th></th>\n",
       "      <th>userID</th>\n",
       "      <th>itemID</th>\n",
       "      <th>prediction</th>\n",
       "    </tr>\n",
       "  </thead>\n",
       "  <tbody>\n",
       "    <tr>\n",
       "      <th>0</th>\n",
       "      <td>405</td>\n",
       "      <td>1920</td>\n",
       "      <td>2.419715</td>\n",
       "    </tr>\n",
       "    <tr>\n",
       "      <th>1</th>\n",
       "      <td>405</td>\n",
       "      <td>1107</td>\n",
       "      <td>2.367207</td>\n",
       "    </tr>\n",
       "    <tr>\n",
       "      <th>2</th>\n",
       "      <td>405</td>\n",
       "      <td>926</td>\n",
       "      <td>2.346516</td>\n",
       "    </tr>\n",
       "    <tr>\n",
       "      <th>3</th>\n",
       "      <td>266</td>\n",
       "      <td>926</td>\n",
       "      <td>10.763823</td>\n",
       "    </tr>\n",
       "    <tr>\n",
       "      <th>4</th>\n",
       "      <td>266</td>\n",
       "      <td>1920</td>\n",
       "      <td>10.733365</td>\n",
       "    </tr>\n",
       "    <tr>\n",
       "      <th>...</th>\n",
       "      <td>...</td>\n",
       "      <td>...</td>\n",
       "      <td>...</td>\n",
       "    </tr>\n",
       "    <tr>\n",
       "      <th>418</th>\n",
       "      <td>3973</td>\n",
       "      <td>1920</td>\n",
       "      <td>1.243634</td>\n",
       "    </tr>\n",
       "    <tr>\n",
       "      <th>419</th>\n",
       "      <td>3973</td>\n",
       "      <td>1107</td>\n",
       "      <td>1.213669</td>\n",
       "    </tr>\n",
       "    <tr>\n",
       "      <th>420</th>\n",
       "      <td>3203</td>\n",
       "      <td>425</td>\n",
       "      <td>1.953507</td>\n",
       "    </tr>\n",
       "    <tr>\n",
       "      <th>421</th>\n",
       "      <td>3203</td>\n",
       "      <td>1920</td>\n",
       "      <td>1.707571</td>\n",
       "    </tr>\n",
       "    <tr>\n",
       "      <th>422</th>\n",
       "      <td>3203</td>\n",
       "      <td>1107</td>\n",
       "      <td>1.668818</td>\n",
       "    </tr>\n",
       "  </tbody>\n",
       "</table>\n",
       "<p>418 rows × 3 columns</p>\n",
       "</div>"
      ],
      "text/plain": [
       "     userID  itemID  prediction\n",
       "0       405    1920    2.419715\n",
       "1       405    1107    2.367207\n",
       "2       405     926    2.346516\n",
       "3       266     926   10.763823\n",
       "4       266    1920   10.733365\n",
       "..      ...     ...         ...\n",
       "418    3973    1920    1.243634\n",
       "419    3973    1107    1.213669\n",
       "420    3203     425    1.953507\n",
       "421    3203    1920    1.707571\n",
       "422    3203    1107    1.668818\n",
       "\n",
       "[418 rows x 3 columns]"
      ]
     },
     "execution_count": 14,
     "metadata": {},
     "output_type": "execute_result"
    }
   ],
   "source": [
    "model.recommend_k_items(\n",
    "    dataloader.test, \n",
    "    top_k=3, \n",
    "    use_id=True, \n",
    "    remove_seen=True, \n",
    "    recommend_from=folds[-1][3]\n",
    ")"
   ]
  },
  {
   "cell_type": "code",
   "execution_count": 15,
   "id": "ef766f48-b9b1-4ec6-b2ba-9c3d5b54d40b",
   "metadata": {
    "execution": {
     "iopub.execute_input": "2024-03-08T09:46:07.586055Z",
     "iopub.status.busy": "2024-03-08T09:46:07.585927Z",
     "iopub.status.idle": "2024-03-08T09:46:07.610969Z",
     "shell.execute_reply": "2024-03-08T09:46:07.610716Z"
    },
    "papermill": {
     "duration": 0.029694,
     "end_time": "2024-03-08T09:46:07.611804",
     "exception": false,
     "start_time": "2024-03-08T09:46:07.582110",
     "status": "completed"
    },
    "tags": []
   },
   "outputs": [],
   "source": [
    "# problem_prop = 'b926a2eb-e2c7-5d0d-bbec-015efe30edde'\n",
    "\n",
    "# tr, te, t, open_proposals = folds[-1]\n",
    "# print(\"t:\", t)\n",
    "# print(\"In open?: \", problem_prop in set(open_proposals))\n",
    "# print(\"In Train?:\", any(tr['itemID'] == problem_prop))\n",
    "# print(\"In Test?: \", any(te['itemID'] == problem_prop))\n",
    "# print(\"In dfv?:  \", in_dfv := any(dfv['proposal'] == problem_prop))\n",
    "# if in_dfv:\n",
    "#     display(dfv[dfv['proposal'] == problem_prop])\n",
    "\n",
    "# dfp.set_index('id').loc[problem_prop]"
   ]
  },
  {
   "cell_type": "code",
   "execution_count": 16,
   "id": "799a41c8-6c27-40c7-af22-0f9eb46f8a59",
   "metadata": {
    "execution": {
     "iopub.execute_input": "2024-03-08T09:46:07.618465Z",
     "iopub.status.busy": "2024-03-08T09:46:07.618322Z",
     "iopub.status.idle": "2024-03-08T09:46:07.650325Z",
     "shell.execute_reply": "2024-03-08T09:46:07.650035Z"
    },
    "papermill": {
     "duration": 0.036467,
     "end_time": "2024-03-08T09:46:07.651252",
     "exception": false,
     "start_time": "2024-03-08T09:46:07.614785",
     "status": "completed"
    },
    "tags": []
   },
   "outputs": [],
   "source": [
    "# Free the resources\n",
    "del model\n",
    "del dataloader"
   ]
  },
  {
   "cell_type": "markdown",
   "id": "d994a5dd-efe5-47bf-a8a1-803316d9fc75",
   "metadata": {
    "papermill": {
     "duration": 0.002865,
     "end_time": "2024-03-08T09:46:07.657117",
     "exception": false,
     "start_time": "2024-03-08T09:46:07.654252",
     "status": "completed"
    },
    "tags": []
   },
   "source": [
    "# Defining trainer"
   ]
  },
  {
   "cell_type": "code",
   "execution_count": 17,
   "id": "a5d010bf-3a9c-4931-9d02-6589b3164438",
   "metadata": {
    "execution": {
     "iopub.execute_input": "2024-03-08T09:46:07.663462Z",
     "iopub.status.busy": "2024-03-08T09:46:07.663312Z",
     "iopub.status.idle": "2024-03-08T09:46:07.691365Z",
     "shell.execute_reply": "2024-03-08T09:46:07.691117Z"
    },
    "papermill": {
     "duration": 0.032127,
     "end_time": "2024-03-08T09:46:07.692097",
     "exception": false,
     "start_time": "2024-03-08T09:46:07.659970",
     "status": "completed"
    },
    "scrolled": true,
    "tags": []
   },
   "outputs": [],
   "source": [
    "from recommenders.evaluation.python_evaluation import map_at_k, ndcg_at_k, precision_at_k, recall_at_k\n",
    "\n",
    "class TrainLightGCN(tune.Trainable):\n",
    "    def setup(\n",
    "        self,\n",
    "        config: Dict[str, Any],\n",
    "        data,\n",
    "    ):\n",
    "        self.config = config\n",
    "\n",
    "        self.hparams = prepare_hparams(\n",
    "            model_type='lightgcn',\n",
    "            n_layers=config['conv_layers'],\n",
    "            batch_size=2**config['batch_size'],\n",
    "            embed_size=config['embedding_dim'],\n",
    "            epochs=EPOCHS_PER_ITER,\n",
    "            learning_rate=config['learning_rate'],\n",
    "            decay=config['l2'],\n",
    "            metrics=METRICS,\n",
    "            eval_epoch=-1,\n",
    "            top_k=TOP_K[0],\n",
    "            save_model=False,\n",
    "            MODEL_DIR='./data/model/lightgcn/',\n",
    "        )\n",
    "\n",
    "        train, test, self.t, self.open_proposals = data\n",
    "        self.dataloader = ImplicitCF(train=train, test=test, seed=SEED)\n",
    "        self.model = LightGCNCustom(self.hparams, self.dataloader, seed=SEED)\n",
    "        self.total_train = 0\n",
    "        self.total_eval = 0\n",
    "\n",
    "    @property\n",
    "    def iteration(self):\n",
    "        return self.model.epochs_done\n",
    "\n",
    "    @property\n",
    "    def training_iteration(self):\n",
    "        return self.model.epochs_done\n",
    "\n",
    "    def step(self):\n",
    "        \"\"\"\n",
    "        As a rule of thumb, the execution time of step should be large enough to avoid overheads \n",
    "        (i.e. more than a few seconds), but short enough to report progress periodically \n",
    "        (i.e. at most a few minutes).\n",
    "        \"\"\"\n",
    "        assert EPOCHS_PER_ITER > 0\n",
    "\n",
    "        train_start = time.time()\n",
    "        for _ in range(EPOCHS_PER_ITER):\n",
    "            ret = self.model.fit_epoch()\n",
    "        eval_start = train_end = time.time()\n",
    "\n",
    "        eval_dict = {'model_'+k:v for k,v in zip(self.model.metrics, self.model.run_eval())}\n",
    "        for k in TOP_K:\n",
    "            recs = self.model.recommend_k_items(\n",
    "                self.dataloader.test, \n",
    "                top_k=k,\n",
    "                use_id=True, \n",
    "                remove_seen=True, \n",
    "                recommend_from=self.open_proposals,\n",
    "            )\n",
    "            \n",
    "            eval_dict[f'precision@{k}'] = precision_at_k(self.dataloader.test, recs, k=k)\n",
    "            eval_dict[f'ndcg@{k}'] = ndcg_at_k(self.dataloader.test, recs, k=k)\n",
    "            eval_dict[f'recall@{k}'] = recall_at_k(self.dataloader.test, recs, k=k)\n",
    "            eval_dict[f'map@{k}'] = map_at_k(self.dataloader.test, recs, k=k)\n",
    "\n",
    "        eval_end = time.time()\n",
    "\n",
    "        self.total_train += train_end - train_start\n",
    "        self.total_eval += eval_end - eval_start\n",
    "        \n",
    "        return {\n",
    "            'iteration': self.iteration,\n",
    "            'loss': ret[0],\n",
    "            'mf_loss': ret[1],\n",
    "            'emb_loss': ret[2],\n",
    "            **eval_dict,\n",
    "            'time_train': train_end-train_start,\n",
    "            'time_test': eval_end-eval_start,\n",
    "            'time_total_train': self.total_train,\n",
    "            'time_total_test': self.total_eval,\n",
    "        }\n",
    "\n",
    "    def save_checkpoint(self, checkpoint_dir):\n",
    "        checkpoint_path = os.path.join(checkpoint_dir, \"model\")\n",
    "        self.model.saver.save(\n",
    "            sess=self.model.sess,\n",
    "            save_path=checkpoint_path,\n",
    "        )\n",
    "        return checkpoint_dir\n",
    "\n",
    "    def load_checkpoint(self, checkpoint_path):\n",
    "        self.model.load(checkpoint_path)"
   ]
  },
  {
   "cell_type": "markdown",
   "id": "16276fe4-d63d-4e7a-bcc8-38d8f5be299c",
   "metadata": {
    "papermill": {
     "duration": 0.00325,
     "end_time": "2024-03-08T09:46:07.698568",
     "exception": false,
     "start_time": "2024-03-08T09:46:07.695318",
     "status": "completed"
    },
    "tags": []
   },
   "source": [
    "# Big experiment"
   ]
  },
  {
   "cell_type": "code",
   "execution_count": 18,
   "id": "427c4b72-593a-41ff-9fd6-991e8e3a0445",
   "metadata": {
    "execution": {
     "iopub.execute_input": "2024-03-08T09:46:07.710282Z",
     "iopub.status.busy": "2024-03-08T09:46:07.710139Z",
     "iopub.status.idle": "2024-03-08T09:46:07.733900Z",
     "shell.execute_reply": "2024-03-08T09:46:07.733665Z"
    },
    "papermill": {
     "duration": 0.031522,
     "end_time": "2024-03-08T09:46:07.734798",
     "exception": false,
     "start_time": "2024-03-08T09:46:07.703276",
     "status": "completed"
    },
    "tags": []
   },
   "outputs": [
    {
     "data": {
      "text/plain": [
       "PosixPath('/home/daviddavo/ray_results')"
      ]
     },
     "execution_count": 18,
     "metadata": {},
     "output_type": "execute_result"
    }
   ],
   "source": [
    "RAY_RESULTS_PATH"
   ]
  },
  {
   "cell_type": "code",
   "execution_count": 19,
   "id": "8c3e4842-eaee-431a-a4ee-6145c1c18ca1",
   "metadata": {
    "execution": {
     "iopub.execute_input": "2024-03-08T09:46:07.747564Z",
     "iopub.status.busy": "2024-03-08T09:46:07.747369Z",
     "iopub.status.idle": "2024-03-08T09:46:07.770290Z",
     "shell.execute_reply": "2024-03-08T09:46:07.770043Z"
    },
    "papermill": {
     "duration": 0.029665,
     "end_time": "2024-03-08T09:46:07.771064",
     "exception": false,
     "start_time": "2024-03-08T09:46:07.741399",
     "status": "completed"
    },
    "tags": []
   },
   "outputs": [
    {
     "name": "stdout",
     "output_type": "stream",
     "text": [
      "lamarck\n",
      "{'cpu': 1, 'gpu': 0.0625}\n"
     ]
    }
   ],
   "source": [
    "print(os.uname().nodename)\n",
    "\n",
    "### SET TRAINING RESOURCES\n",
    "if os.uname().nodename == 'lamarck':\n",
    "    # assert torch.cuda.is_available()\n",
    "    if ORG_NAME in ['PancakeSwap']:\n",
    "        # It seems that this model takes more resources, so we run less instances\n",
    "        gpu_resources = 1/6\n",
    "    else:\n",
    "        # GPU has 25GiB, and each run might take up to 2GiB (torch version was lighter)\n",
    "        # so each run might take up to 1/12th of the GPU\n",
    "        # I use 1/16th so I don't take all the resources in the machine\n",
    "        gpu_resources = 1/16\n",
    "    \n",
    "    NUM_SAMPLES = SAMPLES_PER_SPLIT\n",
    "    # Every run takes approx half a gig of vram (no optimizations)\n",
    "    # The RTX 4090 has 24GB so we can run the model about 48 times\n",
    "    resources_per_trial={\n",
    "        'cpu': 1,\n",
    "        'gpu': gpu_resources,\n",
    "    }\n",
    "else:\n",
    "    NUM_SAMPLES = 1\n",
    "    resources_per_trial={\n",
    "        'cpu': 1,\n",
    "        # It takes about 1.5 GiB with full training data, but I put a bit more because\n",
    "        # this notebook also takes a bit of memory\n",
    "        'memory': 2e9,\n",
    "    }\n",
    "print(resources_per_trial)"
   ]
  },
  {
   "cell_type": "code",
   "execution_count": 20,
   "id": "a5ad6f33-effe-4f48-850e-8044af3a88dc",
   "metadata": {
    "editable": true,
    "execution": {
     "iopub.execute_input": "2024-03-08T09:46:07.778166Z",
     "iopub.status.busy": "2024-03-08T09:46:07.777997Z",
     "iopub.status.idle": "2024-03-08T09:46:07.854406Z",
     "shell.execute_reply": "2024-03-08T09:46:07.854098Z"
    },
    "papermill": {
     "duration": 0.08118,
     "end_time": "2024-03-08T09:46:07.855440",
     "exception": false,
     "start_time": "2024-03-08T09:46:07.774260",
     "status": "completed"
    },
    "slideshow": {
     "slide_type": ""
    },
    "tags": []
   },
   "outputs": [],
   "source": [
    "import ray\n",
    "from ray.tune.search.hyperopt import HyperOptSearch\n",
    "import datetime as dt\n",
    "from src import paths\n",
    "\n",
    "def getTunerOnFold(f, points_to_evaluate = None):\n",
    "    name = f'LightGCN_optim={OPTIM_METRIC},dao={ORG_NAME},freq={SPLITS_FREQ},normalize={SPLITS_NORMALIZE},cutoff_date={CUTOFF_DATE.isoformat()},fold={f}'\n",
    "    paths = list(RAY_RESULTS_PATH.glob(f'{name}_*'))\n",
    "    last_experiment = max(paths, key=lambda x: x.stat().st_ctime) if paths else None\n",
    "\n",
    "    dftrain,dftest,t,open_proposals = folds[f]\n",
    "    param_space = dict(\n",
    "        fold=f,\n",
    "        batch_size=tune.randint(6,10), # 64 - 1024\n",
    "        embedding_dim=tune.lograndint(1, 1024, base=2),\n",
    "        conv_layers=tune.randint(1,6),\n",
    "        learning_rate=tune.qloguniform(1e-4, 1, 1e-4),\n",
    "        l2=tune.loguniform(1e-7, 1e-2),\n",
    "    )\n",
    "    \n",
    "    ### RESTORE EXPERIMENT OR CREATE A NEW ONE\n",
    "    if last_experiment and tune.Tuner.can_restore(last_experiment):\n",
    "        print(f\"Restoring last experiment: {last_experiment}\")\n",
    "        tuner = tune.Tuner.restore(\n",
    "            str(last_experiment),\n",
    "            trainable=tune.with_resources(\n",
    "                # tune.with_parameters(TrainLightGCN,  train=dftrain, test=dftest, open_proposals=open_proposals),\n",
    "                tune.with_parameters(TrainLightGCN, data=folds[f]),\n",
    "                resources_per_trial,\n",
    "            ),\n",
    "            restart_errored=True,\n",
    "            param_space=param_space,\n",
    "        )\n",
    "    else:\n",
    "        print(f\"No experiment found for fold {f}, creating new tuner with {NUM_SAMPLES} samples\")\n",
    "        search_alg = None\n",
    "        search_alg = HyperOptSearch(\n",
    "            # points_to_evaluate=[{\n",
    "            #     'batch_size': 8, # 2**8 = 256\n",
    "            #     'learning_rate': 10e-2,\n",
    "            #     'l2': 10e-6,\n",
    "            #     'embedding_dim': 100,\n",
    "            #     'conv_layers': 3,\n",
    "            # }],\n",
    "            points_to_evaluate = points_to_evaluate,\n",
    "            random_state_seed=SEED,\n",
    "        )\n",
    "        # search_alg = tune.search.Repeater(search_alg, N_SPLITS-SKIP_SPLIT)\n",
    "        \n",
    "        tuner = tune.Tuner(\n",
    "            tune.with_resources(\n",
    "                # tune.with_parameters(TrainLightGCN,  train=dftrain, test=dftest, open_proposals=open_proposals),\n",
    "                tune.with_parameters(TrainLightGCN, data=folds[f]),\n",
    "                resources_per_trial,\n",
    "            ),\n",
    "            run_config=train.RunConfig(\n",
    "                stop={'training_iteration': MAX_EPOCHS/EPOCHS_PER_ITER, 'time_total_train': 300},\n",
    "                name=name + f'_{dt.datetime.now().isoformat()}',\n",
    "                storage_path=RAY_RESULTS_PATH,\n",
    "                failure_config=train.FailureConfig(fail_fast='raise'),\n",
    "            ),\n",
    "            param_space=param_space,\n",
    "            tune_config=tune.TuneConfig(\n",
    "                search_alg=search_alg,\n",
    "                num_samples=NUM_SAMPLES,\n",
    "                metric=OPTIM_METRIC,\n",
    "                mode='max',\n",
    "            )\n",
    "        )\n",
    "\n",
    "    return tuner"
   ]
  },
  {
   "cell_type": "code",
   "execution_count": 21,
   "id": "c968ecd5-d62c-4d57-846f-4bb7202a97c1",
   "metadata": {
    "execution": {
     "iopub.execute_input": "2024-03-08T09:46:07.863132Z",
     "iopub.status.busy": "2024-03-08T09:46:07.863030Z",
     "iopub.status.idle": "2024-03-08T09:46:14.824991Z",
     "shell.execute_reply": "2024-03-08T09:46:14.824675Z"
    },
    "papermill": {
     "duration": 6.966827,
     "end_time": "2024-03-08T09:46:14.825985",
     "exception": false,
     "start_time": "2024-03-08T09:46:07.859158",
     "status": "completed"
    },
    "tags": []
   },
   "outputs": [
    {
     "data": {
      "text/html": [
       "<div class=\"tuneStatus\">\n",
       "  <div style=\"display: flex;flex-direction: row\">\n",
       "    <div style=\"display: flex;flex-direction: column;\">\n",
       "      <h3>Tune Status</h3>\n",
       "      <table>\n",
       "<tbody>\n",
       "<tr><td>Current time:</td><td>2024-03-08 09:46:14</td></tr>\n",
       "<tr><td>Running for: </td><td>00:00:00.16        </td></tr>\n",
       "<tr><td>Memory:      </td><td>7.3/125.6 GiB      </td></tr>\n",
       "</tbody>\n",
       "</table>\n",
       "    </div>\n",
       "    <div class=\"vDivider\"></div>\n",
       "    <div class=\"systemInfo\">\n",
       "      <h3>System Info</h3>\n",
       "      Using FIFO scheduling algorithm.<br>Logical resource usage: 0/24 CPUs, 0/1 GPUs (0.0/1.0 accelerator_type:G)\n",
       "    </div>\n",
       "    \n",
       "  </div>\n",
       "  <div class=\"hDivider\"></div>\n",
       "  <div class=\"trialStatus\">\n",
       "    <h3>Trial Status</h3>\n",
       "    <table>\n",
       "<thead>\n",
       "<tr><th>Trial name            </th><th>status    </th><th>loc                  </th><th style=\"text-align: right;\">  batch_size</th><th style=\"text-align: right;\">  conv_layers</th><th style=\"text-align: right;\">  embedding_dim</th><th style=\"text-align: right;\">  fold</th><th style=\"text-align: right;\">         l2</th><th style=\"text-align: right;\">  learning_rate</th><th style=\"text-align: right;\">  iter</th><th style=\"text-align: right;\">  total time (s)</th><th style=\"text-align: right;\">  iteration</th><th style=\"text-align: right;\">        loss</th><th style=\"text-align: right;\">    mf_loss</th></tr>\n",
       "</thead>\n",
       "<tbody>\n",
       "<tr><td>TrainLightGCN_38f050a0</td><td>TERMINATED</td><td>147.96.81.131:2242238</td><td style=\"text-align: right;\">           8</td><td style=\"text-align: right;\">            4</td><td style=\"text-align: right;\">             19</td><td style=\"text-align: right;\">     9</td><td style=\"text-align: right;\">2.90663e-06</td><td style=\"text-align: right;\">         0.0002</td><td style=\"text-align: right;\">    27</td><td style=\"text-align: right;\">         308.487</td><td style=\"text-align: right;\">        135</td><td style=\"text-align: right;\">  0.0859015 </td><td style=\"text-align: right;\"> 0.0858262 </td></tr>\n",
       "<tr><td>TrainLightGCN_6a36bdf1</td><td>TERMINATED</td><td>147.96.81.131:2242084</td><td style=\"text-align: right;\">           8</td><td style=\"text-align: right;\">            4</td><td style=\"text-align: right;\">             10</td><td style=\"text-align: right;\">     9</td><td style=\"text-align: right;\">9.00698e-05</td><td style=\"text-align: right;\">         0.0047</td><td style=\"text-align: right;\">    25</td><td style=\"text-align: right;\">         306.485</td><td style=\"text-align: right;\">        125</td><td style=\"text-align: right;\">  0.0290303 </td><td style=\"text-align: right;\"> 0.0233727 </td></tr>\n",
       "<tr><td>TrainLightGCN_9ac08380</td><td>TERMINATED</td><td>147.96.81.131:2242370</td><td style=\"text-align: right;\">           9</td><td style=\"text-align: right;\">            3</td><td style=\"text-align: right;\">              8</td><td style=\"text-align: right;\">     9</td><td style=\"text-align: right;\">2.82489e-05</td><td style=\"text-align: right;\">         0.0001</td><td style=\"text-align: right;\">    40</td><td style=\"text-align: right;\">         289.6  </td><td style=\"text-align: right;\">        200</td><td style=\"text-align: right;\">  0.152447  </td><td style=\"text-align: right;\"> 0.152075  </td></tr>\n",
       "<tr><td>TrainLightGCN_e36d7276</td><td>TERMINATED</td><td>147.96.81.131:2241923</td><td style=\"text-align: right;\">           8</td><td style=\"text-align: right;\">            4</td><td style=\"text-align: right;\">             17</td><td style=\"text-align: right;\">     9</td><td style=\"text-align: right;\">7.912e-06  </td><td style=\"text-align: right;\">         0.0073</td><td style=\"text-align: right;\">    22</td><td style=\"text-align: right;\">         308.686</td><td style=\"text-align: right;\">        110</td><td style=\"text-align: right;\">  0.0132862 </td><td style=\"text-align: right;\"> 0.01234   </td></tr>\n",
       "<tr><td>TrainLightGCN_e6c14d6a</td><td>TERMINATED</td><td>147.96.81.131:2241767</td><td style=\"text-align: right;\">           8</td><td style=\"text-align: right;\">            3</td><td style=\"text-align: right;\">              3</td><td style=\"text-align: right;\">     9</td><td style=\"text-align: right;\">1.35481e-05</td><td style=\"text-align: right;\">         0.0424</td><td style=\"text-align: right;\">    20</td><td style=\"text-align: right;\">         306.53 </td><td style=\"text-align: right;\">        100</td><td style=\"text-align: right;\">  0.0932261 </td><td style=\"text-align: right;\"> 0.0917591 </td></tr>\n",
       "<tr><td>TrainLightGCN_1441c48f</td><td>TERMINATED</td><td>147.96.81.131:2241605</td><td style=\"text-align: right;\">           8</td><td style=\"text-align: right;\">            4</td><td style=\"text-align: right;\">              6</td><td style=\"text-align: right;\">     9</td><td style=\"text-align: right;\">5.67861e-06</td><td style=\"text-align: right;\">         0.0012</td><td style=\"text-align: right;\">    18</td><td style=\"text-align: right;\">         305.627</td><td style=\"text-align: right;\">         90</td><td style=\"text-align: right;\">  0.0607897 </td><td style=\"text-align: right;\"> 0.0605895 </td></tr>\n",
       "<tr><td>TrainLightGCN_cda08290</td><td>TERMINATED</td><td>147.96.81.131:2241449</td><td style=\"text-align: right;\">           8</td><td style=\"text-align: right;\">            3</td><td style=\"text-align: right;\">              2</td><td style=\"text-align: right;\">     9</td><td style=\"text-align: right;\">0.000607757</td><td style=\"text-align: right;\">         0.0148</td><td style=\"text-align: right;\">    18</td><td style=\"text-align: right;\">         311.921</td><td style=\"text-align: right;\">         90</td><td style=\"text-align: right;\">  0.153528  </td><td style=\"text-align: right;\"> 0.139678  </td></tr>\n",
       "<tr><td>TrainLightGCN_37a7a404</td><td>TERMINATED</td><td>147.96.81.131:2241285</td><td style=\"text-align: right;\">           8</td><td style=\"text-align: right;\">            2</td><td style=\"text-align: right;\">             14</td><td style=\"text-align: right;\">     9</td><td style=\"text-align: right;\">2.44156e-05</td><td style=\"text-align: right;\">         0.001 </td><td style=\"text-align: right;\">    14</td><td style=\"text-align: right;\">         313.894</td><td style=\"text-align: right;\">         70</td><td style=\"text-align: right;\">  0.0320744 </td><td style=\"text-align: right;\"> 0.031395  </td></tr>\n",
       "<tr><td>TrainLightGCN_5356924c</td><td>TERMINATED</td><td>147.96.81.131:2241113</td><td style=\"text-align: right;\">           9</td><td style=\"text-align: right;\">            5</td><td style=\"text-align: right;\">             53</td><td style=\"text-align: right;\">     9</td><td style=\"text-align: right;\">6.53466e-05</td><td style=\"text-align: right;\">         0.0006</td><td style=\"text-align: right;\">    17</td><td style=\"text-align: right;\">         309.791</td><td style=\"text-align: right;\">         85</td><td style=\"text-align: right;\">  0.0522684 </td><td style=\"text-align: right;\"> 0.0492185 </td></tr>\n",
       "<tr><td>TrainLightGCN_d3daede3</td><td>TERMINATED</td><td>147.96.81.131:2240925</td><td style=\"text-align: right;\">           9</td><td style=\"text-align: right;\">            4</td><td style=\"text-align: right;\">             97</td><td style=\"text-align: right;\">     9</td><td style=\"text-align: right;\">0.00013278 </td><td style=\"text-align: right;\">         0.0015</td><td style=\"text-align: right;\">    15</td><td style=\"text-align: right;\">         310.948</td><td style=\"text-align: right;\">         75</td><td style=\"text-align: right;\">  0.0229716 </td><td style=\"text-align: right;\"> 0.0152894 </td></tr>\n",
       "<tr><td>TrainLightGCN_993b3c8a</td><td>TERMINATED</td><td>147.96.81.131:2240794</td><td style=\"text-align: right;\">           9</td><td style=\"text-align: right;\">            5</td><td style=\"text-align: right;\">             27</td><td style=\"text-align: right;\">     9</td><td style=\"text-align: right;\">1.14246e-06</td><td style=\"text-align: right;\">         0.0001</td><td style=\"text-align: right;\">    14</td><td style=\"text-align: right;\">         306.722</td><td style=\"text-align: right;\">         70</td><td style=\"text-align: right;\">  0.251217  </td><td style=\"text-align: right;\"> 0.251205  </td></tr>\n",
       "<tr><td>TrainLightGCN_b1457626</td><td>TERMINATED</td><td>147.96.81.131:2240617</td><td style=\"text-align: right;\">           9</td><td style=\"text-align: right;\">            4</td><td style=\"text-align: right;\">             17</td><td style=\"text-align: right;\">     9</td><td style=\"text-align: right;\">3.16257e-05</td><td style=\"text-align: right;\">         0.3352</td><td style=\"text-align: right;\">    14</td><td style=\"text-align: right;\">         311.561</td><td style=\"text-align: right;\">         70</td><td style=\"text-align: right;\">  0.879707  </td><td style=\"text-align: right;\"> 0.729653  </td></tr>\n",
       "<tr><td>TrainLightGCN_e9e1c240</td><td>TERMINATED</td><td>147.96.81.131:2240486</td><td style=\"text-align: right;\">           9</td><td style=\"text-align: right;\">            5</td><td style=\"text-align: right;\">             66</td><td style=\"text-align: right;\">     9</td><td style=\"text-align: right;\">4.97053e-05</td><td style=\"text-align: right;\">         0.0038</td><td style=\"text-align: right;\">    13</td><td style=\"text-align: right;\">         305.627</td><td style=\"text-align: right;\">         65</td><td style=\"text-align: right;\">  0.0161661 </td><td style=\"text-align: right;\"> 0.0111617 </td></tr>\n",
       "<tr><td>TrainLightGCN_9ad9025d</td><td>TERMINATED</td><td>147.96.81.131:2239670</td><td style=\"text-align: right;\">           6</td><td style=\"text-align: right;\">            5</td><td style=\"text-align: right;\">            689</td><td style=\"text-align: right;\">     9</td><td style=\"text-align: right;\">1.87961e-05</td><td style=\"text-align: right;\">         0.0002</td><td style=\"text-align: right;\">     1</td><td style=\"text-align: right;\">         413.715</td><td style=\"text-align: right;\">          5</td><td style=\"text-align: right;\">  0.150548  </td><td style=\"text-align: right;\"> 0.150148  </td></tr>\n",
       "<tr><td>TrainLightGCN_c9cca1be</td><td>TERMINATED</td><td>147.96.81.131:2240320</td><td style=\"text-align: right;\">           9</td><td style=\"text-align: right;\">            5</td><td style=\"text-align: right;\">            334</td><td style=\"text-align: right;\">     9</td><td style=\"text-align: right;\">3.98823e-07</td><td style=\"text-align: right;\">         0.0003</td><td style=\"text-align: right;\">    11</td><td style=\"text-align: right;\">         305.733</td><td style=\"text-align: right;\">         55</td><td style=\"text-align: right;\">  0.0527337 </td><td style=\"text-align: right;\"> 0.0527146 </td></tr>\n",
       "<tr><td>TrainLightGCN_2e1445fd</td><td>TERMINATED</td><td>147.96.81.131:2239328</td><td style=\"text-align: right;\">           6</td><td style=\"text-align: right;\">            4</td><td style=\"text-align: right;\">              9</td><td style=\"text-align: right;\">     9</td><td style=\"text-align: right;\">3.79606e-05</td><td style=\"text-align: right;\">         0.0027</td><td style=\"text-align: right;\">     2</td><td style=\"text-align: right;\">         429.623</td><td style=\"text-align: right;\">         10</td><td style=\"text-align: right;\">  0.0730902 </td><td style=\"text-align: right;\"> 0.0719858 </td></tr>\n",
       "<tr><td>TrainLightGCN_c19c62dd</td><td>TERMINATED</td><td>147.96.81.131:2240150</td><td style=\"text-align: right;\">           9</td><td style=\"text-align: right;\">            5</td><td style=\"text-align: right;\">              4</td><td style=\"text-align: right;\">     9</td><td style=\"text-align: right;\">7.63972e-07</td><td style=\"text-align: right;\">         0.0004</td><td style=\"text-align: right;\">    11</td><td style=\"text-align: right;\">         310.024</td><td style=\"text-align: right;\">         55</td><td style=\"text-align: right;\">  0.266857  </td><td style=\"text-align: right;\"> 0.266849  </td></tr>\n",
       "<tr><td>TrainLightGCN_d30bb063</td><td>TERMINATED</td><td>147.96.81.131:2239987</td><td style=\"text-align: right;\">           9</td><td style=\"text-align: right;\">            5</td><td style=\"text-align: right;\">            140</td><td style=\"text-align: right;\">     9</td><td style=\"text-align: right;\">3.85671e-06</td><td style=\"text-align: right;\">         0.0006</td><td style=\"text-align: right;\">    11</td><td style=\"text-align: right;\">         312.266</td><td style=\"text-align: right;\">         55</td><td style=\"text-align: right;\">  0.0436246 </td><td style=\"text-align: right;\"> 0.0434143 </td></tr>\n",
       "<tr><td>TrainLightGCN_13e03a3c</td><td>TERMINATED</td><td>147.96.81.131:2239833</td><td style=\"text-align: right;\">           9</td><td style=\"text-align: right;\">            5</td><td style=\"text-align: right;\">             50</td><td style=\"text-align: right;\">     9</td><td style=\"text-align: right;\">1.63835e-06</td><td style=\"text-align: right;\">         0.1452</td><td style=\"text-align: right;\">    11</td><td style=\"text-align: right;\">         313.569</td><td style=\"text-align: right;\">         55</td><td style=\"text-align: right;\">  0.20071   </td><td style=\"text-align: right;\"> 0.187708  </td></tr>\n",
       "<tr><td>TrainLightGCN_b6a675eb</td><td>TERMINATED</td><td>147.96.81.131:2239514</td><td style=\"text-align: right;\">           8</td><td style=\"text-align: right;\">            5</td><td style=\"text-align: right;\">            175</td><td style=\"text-align: right;\">     9</td><td style=\"text-align: right;\">9.17476e-06</td><td style=\"text-align: right;\">         0.0001</td><td style=\"text-align: right;\">     6</td><td style=\"text-align: right;\">         342.338</td><td style=\"text-align: right;\">         30</td><td style=\"text-align: right;\">  0.18191   </td><td style=\"text-align: right;\"> 0.181751  </td></tr>\n",
       "<tr><td>TrainLightGCN_71cdb3ac</td><td>TERMINATED</td><td>147.96.81.131:2238711</td><td style=\"text-align: right;\">           6</td><td style=\"text-align: right;\">            4</td><td style=\"text-align: right;\">             84</td><td style=\"text-align: right;\">     9</td><td style=\"text-align: right;\">0.000211378</td><td style=\"text-align: right;\">         0.0019</td><td style=\"text-align: right;\">     2</td><td style=\"text-align: right;\">         453.637</td><td style=\"text-align: right;\">         10</td><td style=\"text-align: right;\">  0.0424841 </td><td style=\"text-align: right;\"> 0.0339024 </td></tr>\n",
       "<tr><td>TrainLightGCN_8a077c30</td><td>TERMINATED</td><td>147.96.81.131:2239173</td><td style=\"text-align: right;\">           7</td><td style=\"text-align: right;\">            3</td><td style=\"text-align: right;\">             31</td><td style=\"text-align: right;\">     9</td><td style=\"text-align: right;\">0.00035715 </td><td style=\"text-align: right;\">         0.0056</td><td style=\"text-align: right;\">     3</td><td style=\"text-align: right;\">         338.94 </td><td style=\"text-align: right;\">         15</td><td style=\"text-align: right;\">  0.0321134 </td><td style=\"text-align: right;\"> 0.0197934 </td></tr>\n",
       "<tr><td>TrainLightGCN_7bbbde7d</td><td>TERMINATED</td><td>147.96.81.131:2239042</td><td style=\"text-align: right;\">           7</td><td style=\"text-align: right;\">            5</td><td style=\"text-align: right;\">             44</td><td style=\"text-align: right;\">     9</td><td style=\"text-align: right;\">0.000973632</td><td style=\"text-align: right;\">         0.0087</td><td style=\"text-align: right;\">     3</td><td style=\"text-align: right;\">         337.373</td><td style=\"text-align: right;\">         15</td><td style=\"text-align: right;\">  0.066458  </td><td style=\"text-align: right;\"> 0.0306178 </td></tr>\n",
       "<tr><td>TrainLightGCN_8d6525a5</td><td>TERMINATED</td><td>147.96.81.131:2238875</td><td style=\"text-align: right;\">           8</td><td style=\"text-align: right;\">            3</td><td style=\"text-align: right;\">             22</td><td style=\"text-align: right;\">     9</td><td style=\"text-align: right;\">3.45337e-06</td><td style=\"text-align: right;\">         0.0009</td><td style=\"text-align: right;\">     6</td><td style=\"text-align: right;\">         344.258</td><td style=\"text-align: right;\">         30</td><td style=\"text-align: right;\">  0.0634414 </td><td style=\"text-align: right;\"> 0.0633538 </td></tr>\n",
       "<tr><td>TrainLightGCN_d9fc66ed</td><td>TERMINATED</td><td>147.96.81.131:2238518</td><td style=\"text-align: right;\">           8</td><td style=\"text-align: right;\">            4</td><td style=\"text-align: right;\">             16</td><td style=\"text-align: right;\">     9</td><td style=\"text-align: right;\">2.53811e-05</td><td style=\"text-align: right;\">         0.0011</td><td style=\"text-align: right;\">     6</td><td style=\"text-align: right;\">         350.647</td><td style=\"text-align: right;\">         30</td><td style=\"text-align: right;\">  0.0836388 </td><td style=\"text-align: right;\"> 0.0829534 </td></tr>\n",
       "<tr><td>TrainLightGCN_ff0dfdb1</td><td>TERMINATED</td><td>147.96.81.131:2238069</td><td style=\"text-align: right;\">           8</td><td style=\"text-align: right;\">            4</td><td style=\"text-align: right;\">             40</td><td style=\"text-align: right;\">     9</td><td style=\"text-align: right;\">0.000103345</td><td style=\"text-align: right;\">         0.0024</td><td style=\"text-align: right;\">     6</td><td style=\"text-align: right;\">         352.312</td><td style=\"text-align: right;\">         30</td><td style=\"text-align: right;\">  0.0321608 </td><td style=\"text-align: right;\"> 0.0270234 </td></tr>\n",
       "<tr><td>TrainLightGCN_7175be9a</td><td>TERMINATED</td><td>147.96.81.131:2238387</td><td style=\"text-align: right;\">           9</td><td style=\"text-align: right;\">            5</td><td style=\"text-align: right;\">            246</td><td style=\"text-align: right;\">     9</td><td style=\"text-align: right;\">6.22812e-05</td><td style=\"text-align: right;\">         0.0006</td><td style=\"text-align: right;\">    11</td><td style=\"text-align: right;\">         327.606</td><td style=\"text-align: right;\">         55</td><td style=\"text-align: right;\">  0.0378372 </td><td style=\"text-align: right;\"> 0.0341267 </td></tr>\n",
       "<tr><td>TrainLightGCN_559e5980</td><td>TERMINATED</td><td>147.96.81.131:2238231</td><td style=\"text-align: right;\">           9</td><td style=\"text-align: right;\">            5</td><td style=\"text-align: right;\">            204</td><td style=\"text-align: right;\">     9</td><td style=\"text-align: right;\">0.00162313 </td><td style=\"text-align: right;\">         0.0001</td><td style=\"text-align: right;\">    11</td><td style=\"text-align: right;\">         327.249</td><td style=\"text-align: right;\">         55</td><td style=\"text-align: right;\">  0.176514  </td><td style=\"text-align: right;\"> 0.152428  </td></tr>\n",
       "<tr><td>TrainLightGCN_82d3c8df</td><td>TERMINATED</td><td>147.96.81.131:2237913</td><td style=\"text-align: right;\">           8</td><td style=\"text-align: right;\">            4</td><td style=\"text-align: right;\">             57</td><td style=\"text-align: right;\">     9</td><td style=\"text-align: right;\">0.000668406</td><td style=\"text-align: right;\">         0.0014</td><td style=\"text-align: right;\">     6</td><td style=\"text-align: right;\">         349.085</td><td style=\"text-align: right;\">         30</td><td style=\"text-align: right;\">  0.0594007 </td><td style=\"text-align: right;\"> 0.0396565 </td></tr>\n",
       "<tr><td>TrainLightGCN_8e991bf7</td><td>TERMINATED</td><td>147.96.81.131:2237751</td><td style=\"text-align: right;\">           9</td><td style=\"text-align: right;\">            5</td><td style=\"text-align: right;\">            141</td><td style=\"text-align: right;\">     9</td><td style=\"text-align: right;\">0.000163762</td><td style=\"text-align: right;\">         0.0002</td><td style=\"text-align: right;\">    11</td><td style=\"text-align: right;\">         320.17 </td><td style=\"text-align: right;\">         55</td><td style=\"text-align: right;\">  0.111555  </td><td style=\"text-align: right;\"> 0.107371  </td></tr>\n",
       "<tr><td>TrainLightGCN_8f4b21e7</td><td>TERMINATED</td><td>147.96.81.131:2237560</td><td style=\"text-align: right;\">           9</td><td style=\"text-align: right;\">            5</td><td style=\"text-align: right;\">            101</td><td style=\"text-align: right;\">     9</td><td style=\"text-align: right;\">9.52244e-06</td><td style=\"text-align: right;\">         0.0039</td><td style=\"text-align: right;\">    11</td><td style=\"text-align: right;\">         316.851</td><td style=\"text-align: right;\">         55</td><td style=\"text-align: right;\">  0.0113846 </td><td style=\"text-align: right;\"> 0.010075  </td></tr>\n",
       "<tr><td>TrainLightGCN_ec138fa4</td><td>TERMINATED</td><td>147.96.81.131:2237429</td><td style=\"text-align: right;\">           9</td><td style=\"text-align: right;\">            5</td><td style=\"text-align: right;\">             72</td><td style=\"text-align: right;\">     9</td><td style=\"text-align: right;\">1.67558e-05</td><td style=\"text-align: right;\">         0.0004</td><td style=\"text-align: right;\">    11</td><td style=\"text-align: right;\">         316.091</td><td style=\"text-align: right;\">         55</td><td style=\"text-align: right;\">  0.0838332 </td><td style=\"text-align: right;\"> 0.083278  </td></tr>\n",
       "<tr><td>TrainLightGCN_6987637a</td><td>TERMINATED</td><td>147.96.81.131:2237110</td><td style=\"text-align: right;\">           7</td><td style=\"text-align: right;\">            4</td><td style=\"text-align: right;\">            285</td><td style=\"text-align: right;\">     9</td><td style=\"text-align: right;\">4.08115e-05</td><td style=\"text-align: right;\">         0.0003</td><td style=\"text-align: right;\">     3</td><td style=\"text-align: right;\">         345.084</td><td style=\"text-align: right;\">         15</td><td style=\"text-align: right;\">  0.0780174 </td><td style=\"text-align: right;\"> 0.0768493 </td></tr>\n",
       "<tr><td>TrainLightGCN_cc0c91a3</td><td>TERMINATED</td><td>147.96.81.131:2237246</td><td style=\"text-align: right;\">           9</td><td style=\"text-align: right;\">            5</td><td style=\"text-align: right;\">             50</td><td style=\"text-align: right;\">     9</td><td style=\"text-align: right;\">4.91247e-05</td><td style=\"text-align: right;\">         0.0007</td><td style=\"text-align: right;\">    11</td><td style=\"text-align: right;\">         318.328</td><td style=\"text-align: right;\">         55</td><td style=\"text-align: right;\">  0.0656212 </td><td style=\"text-align: right;\"> 0.0636411 </td></tr>\n",
       "<tr><td>TrainLightGCN_c1a6bf46</td><td>TERMINATED</td><td>147.96.81.131:2236608</td><td style=\"text-align: right;\">           6</td><td style=\"text-align: right;\">            5</td><td style=\"text-align: right;\">             21</td><td style=\"text-align: right;\">     9</td><td style=\"text-align: right;\">1.0962e-05 </td><td style=\"text-align: right;\">         0.0004</td><td style=\"text-align: right;\">     2</td><td style=\"text-align: right;\">         459.611</td><td style=\"text-align: right;\">         10</td><td style=\"text-align: right;\">  0.199202  </td><td style=\"text-align: right;\"> 0.199036  </td></tr>\n",
       "<tr><td>TrainLightGCN_344f9bee</td><td>TERMINATED</td><td>147.96.81.131:2236940</td><td style=\"text-align: right;\">           7</td><td style=\"text-align: right;\">            3</td><td style=\"text-align: right;\">            474</td><td style=\"text-align: right;\">     9</td><td style=\"text-align: right;\">0.000398002</td><td style=\"text-align: right;\">         0.0009</td><td style=\"text-align: right;\">     3</td><td style=\"text-align: right;\">         353.798</td><td style=\"text-align: right;\">         15</td><td style=\"text-align: right;\">  0.0342312 </td><td style=\"text-align: right;\"> 0.0214475 </td></tr>\n",
       "<tr><td>TrainLightGCN_e9abfb7c</td><td>TERMINATED</td><td>147.96.81.131:2236448</td><td style=\"text-align: right;\">           6</td><td style=\"text-align: right;\">            4</td><td style=\"text-align: right;\">            113</td><td style=\"text-align: right;\">     9</td><td style=\"text-align: right;\">5.41657e-06</td><td style=\"text-align: right;\">         0.0031</td><td style=\"text-align: right;\">     2</td><td style=\"text-align: right;\">         462.141</td><td style=\"text-align: right;\">         10</td><td style=\"text-align: right;\">  0.0193707 </td><td style=\"text-align: right;\"> 0.0189515 </td></tr>\n",
       "<tr><td>TrainLightGCN_425d7570</td><td>TERMINATED</td><td>147.96.81.131:2236784</td><td style=\"text-align: right;\">           8</td><td style=\"text-align: right;\">            5</td><td style=\"text-align: right;\">             30</td><td style=\"text-align: right;\">     9</td><td style=\"text-align: right;\">0.000101478</td><td style=\"text-align: right;\">         0.0067</td><td style=\"text-align: right;\">     6</td><td style=\"text-align: right;\">         353.378</td><td style=\"text-align: right;\">         30</td><td style=\"text-align: right;\">  0.0257057 </td><td style=\"text-align: right;\"> 0.0177845 </td></tr>\n",
       "<tr><td>TrainLightGCN_f1a1331f</td><td>TERMINATED</td><td>147.96.81.131:2236126</td><td style=\"text-align: right;\">           6</td><td style=\"text-align: right;\">            4</td><td style=\"text-align: right;\">            159</td><td style=\"text-align: right;\">     9</td><td style=\"text-align: right;\">0.000232394</td><td style=\"text-align: right;\">         0.0152</td><td style=\"text-align: right;\">     2</td><td style=\"text-align: right;\">         462.021</td><td style=\"text-align: right;\">         10</td><td style=\"text-align: right;\">  0.0369546 </td><td style=\"text-align: right;\"> 0.0140834 </td></tr>\n",
       "<tr><td>TrainLightGCN_3e2b45f2</td><td>TERMINATED</td><td>147.96.81.131:2235784</td><td style=\"text-align: right;\">           6</td><td style=\"text-align: right;\">            4</td><td style=\"text-align: right;\">             95</td><td style=\"text-align: right;\">     9</td><td style=\"text-align: right;\">0.00260913 </td><td style=\"text-align: right;\">         0.0007</td><td style=\"text-align: right;\">     2</td><td style=\"text-align: right;\">         457.891</td><td style=\"text-align: right;\">         10</td><td style=\"text-align: right;\">  0.121285  </td><td style=\"text-align: right;\"> 0.080978  </td></tr>\n",
       "<tr><td>TrainLightGCN_0a051927</td><td>TERMINATED</td><td>147.96.81.131:2235491</td><td style=\"text-align: right;\">           6</td><td style=\"text-align: right;\">            4</td><td style=\"text-align: right;\">             37</td><td style=\"text-align: right;\">     9</td><td style=\"text-align: right;\">0.0008118  </td><td style=\"text-align: right;\">         0.0653</td><td style=\"text-align: right;\">     2</td><td style=\"text-align: right;\">         456.713</td><td style=\"text-align: right;\">         10</td><td style=\"text-align: right;\">  0.133381  </td><td style=\"text-align: right;\"> 0.0430224 </td></tr>\n",
       "<tr><td>TrainLightGCN_89c9249a</td><td>TERMINATED</td><td>147.96.81.131:2235337</td><td style=\"text-align: right;\">           6</td><td style=\"text-align: right;\">            5</td><td style=\"text-align: right;\">              5</td><td style=\"text-align: right;\">     9</td><td style=\"text-align: right;\">0.00121275 </td><td style=\"text-align: right;\">         0.0317</td><td style=\"text-align: right;\">     2</td><td style=\"text-align: right;\">         459.571</td><td style=\"text-align: right;\">         10</td><td style=\"text-align: right;\">  0.117975  </td><td style=\"text-align: right;\"> 0.0814366 </td></tr>\n",
       "<tr><td>TrainLightGCN_f19bd598</td><td>TERMINATED</td><td>147.96.81.131:2236288</td><td style=\"text-align: right;\">           8</td><td style=\"text-align: right;\">            5</td><td style=\"text-align: right;\">             13</td><td style=\"text-align: right;\">     9</td><td style=\"text-align: right;\">2.19158e-06</td><td style=\"text-align: right;\">         0.2237</td><td style=\"text-align: right;\">     6</td><td style=\"text-align: right;\">         344.289</td><td style=\"text-align: right;\">         30</td><td style=\"text-align: right;\">  0.370865  </td><td style=\"text-align: right;\"> 0.365574  </td></tr>\n",
       "<tr><td>TrainLightGCN_8383643b</td><td>TERMINATED</td><td>147.96.81.131:2234844</td><td style=\"text-align: right;\">           6</td><td style=\"text-align: right;\">            4</td><td style=\"text-align: right;\">            122</td><td style=\"text-align: right;\">     9</td><td style=\"text-align: right;\">5.15824e-07</td><td style=\"text-align: right;\">         0.0001</td><td style=\"text-align: right;\">     2</td><td style=\"text-align: right;\">         460.738</td><td style=\"text-align: right;\">         10</td><td style=\"text-align: right;\">  0.227608  </td><td style=\"text-align: right;\"> 0.227602  </td></tr>\n",
       "<tr><td>TrainLightGCN_d6268e2c</td><td>TERMINATED</td><td>147.96.81.131:2234552</td><td style=\"text-align: right;\">           6</td><td style=\"text-align: right;\">            2</td><td style=\"text-align: right;\">              8</td><td style=\"text-align: right;\">     9</td><td style=\"text-align: right;\">1.51347e-07</td><td style=\"text-align: right;\">         0.0023</td><td style=\"text-align: right;\">     2</td><td style=\"text-align: right;\">         466.83 </td><td style=\"text-align: right;\">         10</td><td style=\"text-align: right;\">  0.0631191 </td><td style=\"text-align: right;\"> 0.0631162 </td></tr>\n",
       "<tr><td>TrainLightGCN_d01192b8</td><td>TERMINATED</td><td>147.96.81.131:2235969</td><td style=\"text-align: right;\">           6</td><td style=\"text-align: right;\">            5</td><td style=\"text-align: right;\">            380</td><td style=\"text-align: right;\">     9</td><td style=\"text-align: right;\">2.13551e-05</td><td style=\"text-align: right;\">         0.0016</td><td style=\"text-align: right;\">     1</td><td style=\"text-align: right;\">         348.394</td><td style=\"text-align: right;\">          5</td><td style=\"text-align: right;\">  0.0451484 </td><td style=\"text-align: right;\"> 0.043918  </td></tr>\n",
       "<tr><td>TrainLightGCN_ecb61f15</td><td>TERMINATED</td><td>147.96.81.131:2235653</td><td style=\"text-align: right;\">           9</td><td style=\"text-align: right;\">            5</td><td style=\"text-align: right;\">             66</td><td style=\"text-align: right;\">     9</td><td style=\"text-align: right;\">5.18238e-05</td><td style=\"text-align: right;\">         0.0002</td><td style=\"text-align: right;\">    11</td><td style=\"text-align: right;\">         325.859</td><td style=\"text-align: right;\">         55</td><td style=\"text-align: right;\">  0.144419  </td><td style=\"text-align: right;\"> 0.143351  </td></tr>\n",
       "<tr><td>TrainLightGCN_2f52c9e4</td><td>TERMINATED</td><td>147.96.81.131:2235023</td><td style=\"text-align: right;\">           7</td><td style=\"text-align: right;\">            3</td><td style=\"text-align: right;\">            969</td><td style=\"text-align: right;\">     9</td><td style=\"text-align: right;\">0.00503358 </td><td style=\"text-align: right;\">         0.6555</td><td style=\"text-align: right;\">     2</td><td style=\"text-align: right;\">         370.708</td><td style=\"text-align: right;\">         10</td><td style=\"text-align: right;\">152.906     </td><td style=\"text-align: right;\">10.1489    </td></tr>\n",
       "<tr><td>TrainLightGCN_f9e354b9</td><td>TERMINATED</td><td>147.96.81.131:2234713</td><td style=\"text-align: right;\">           7</td><td style=\"text-align: right;\">            4</td><td style=\"text-align: right;\">             26</td><td style=\"text-align: right;\">     9</td><td style=\"text-align: right;\">0.000107077</td><td style=\"text-align: right;\">         0.0005</td><td style=\"text-align: right;\">     3</td><td style=\"text-align: right;\">         349.269</td><td style=\"text-align: right;\">         15</td><td style=\"text-align: right;\">  0.158374  </td><td style=\"text-align: right;\"> 0.156644  </td></tr>\n",
       "<tr><td>TrainLightGCN_e171bf2e</td><td>TERMINATED</td><td>147.96.81.131:2235156</td><td style=\"text-align: right;\">           9</td><td style=\"text-align: right;\">            5</td><td style=\"text-align: right;\">             88</td><td style=\"text-align: right;\">     9</td><td style=\"text-align: right;\">4.89636e-05</td><td style=\"text-align: right;\">         0.0007</td><td style=\"text-align: right;\">    11</td><td style=\"text-align: right;\">         325.318</td><td style=\"text-align: right;\">         55</td><td style=\"text-align: right;\">  0.0507767 </td><td style=\"text-align: right;\"> 0.0483984 </td></tr>\n",
       "<tr><td>TrainLightGCN_24fbe2af</td><td>TERMINATED</td><td>147.96.81.131:2234390</td><td style=\"text-align: right;\">           7</td><td style=\"text-align: right;\">            1</td><td style=\"text-align: right;\">             12</td><td style=\"text-align: right;\">     9</td><td style=\"text-align: right;\">0.000475625</td><td style=\"text-align: right;\">         0.0012</td><td style=\"text-align: right;\">     3</td><td style=\"text-align: right;\">         342.402</td><td style=\"text-align: right;\">         15</td><td style=\"text-align: right;\">  0.0623773 </td><td style=\"text-align: right;\"> 0.0555188 </td></tr>\n",
       "<tr><td>TrainLightGCN_34fe506b</td><td>TERMINATED</td><td>147.96.81.131:2234229</td><td style=\"text-align: right;\">           8</td><td style=\"text-align: right;\">            4</td><td style=\"text-align: right;\">            169</td><td style=\"text-align: right;\">     9</td><td style=\"text-align: right;\">0.000265958</td><td style=\"text-align: right;\">         0.0085</td><td style=\"text-align: right;\">     6</td><td style=\"text-align: right;\">         342.929</td><td style=\"text-align: right;\">         30</td><td style=\"text-align: right;\">  0.0262034 </td><td style=\"text-align: right;\"> 0.00995274</td></tr>\n",
       "<tr><td>TrainLightGCN_8b23ff90</td><td>TERMINATED</td><td>147.96.81.131:2233715</td><td style=\"text-align: right;\">           6</td><td style=\"text-align: right;\">            2</td><td style=\"text-align: right;\">             38</td><td style=\"text-align: right;\">     9</td><td style=\"text-align: right;\">3.43895e-05</td><td style=\"text-align: right;\">         0.0001</td><td style=\"text-align: right;\">     2</td><td style=\"text-align: right;\">         473.95 </td><td style=\"text-align: right;\">         10</td><td style=\"text-align: right;\">  0.277539  </td><td style=\"text-align: right;\"> 0.277322  </td></tr>\n",
       "<tr><td>TrainLightGCN_8a8eabe9</td><td>TERMINATED</td><td>147.96.81.131:2234055</td><td style=\"text-align: right;\">           7</td><td style=\"text-align: right;\">            3</td><td style=\"text-align: right;\">            640</td><td style=\"text-align: right;\">     9</td><td style=\"text-align: right;\">7.15148e-06</td><td style=\"text-align: right;\">         0.0003</td><td style=\"text-align: right;\">     2</td><td style=\"text-align: right;\">         348.618</td><td style=\"text-align: right;\">         10</td><td style=\"text-align: right;\">  0.0584519 </td><td style=\"text-align: right;\"> 0.0582502 </td></tr>\n",
       "<tr><td>TrainLightGCN_9b450a75</td><td>TERMINATED</td><td>147.96.81.131:2232912</td><td style=\"text-align: right;\">           6</td><td style=\"text-align: right;\">            1</td><td style=\"text-align: right;\">            123</td><td style=\"text-align: right;\">     9</td><td style=\"text-align: right;\">0.000742095</td><td style=\"text-align: right;\">         0.0119</td><td style=\"text-align: right;\">     2</td><td style=\"text-align: right;\">         469.06 </td><td style=\"text-align: right;\">         10</td><td style=\"text-align: right;\">  0.054709  </td><td style=\"text-align: right;\"> 0.0199131 </td></tr>\n",
       "<tr><td>TrainLightGCN_fa45eb83</td><td>TERMINATED</td><td>147.96.81.131:2232289</td><td style=\"text-align: right;\">           6</td><td style=\"text-align: right;\">            5</td><td style=\"text-align: right;\">             20</td><td style=\"text-align: right;\">     9</td><td style=\"text-align: right;\">6.59012e-06</td><td style=\"text-align: right;\">         0.0051</td><td style=\"text-align: right;\">     2</td><td style=\"text-align: right;\">         463.621</td><td style=\"text-align: right;\">         10</td><td style=\"text-align: right;\">  0.0371154 </td><td style=\"text-align: right;\"> 0.0366786 </td></tr>\n",
       "<tr><td>TrainLightGCN_c32a6872</td><td>TERMINATED</td><td>147.96.81.131:2233882</td><td style=\"text-align: right;\">           9</td><td style=\"text-align: right;\">            3</td><td style=\"text-align: right;\">            246</td><td style=\"text-align: right;\">     9</td><td style=\"text-align: right;\">0.00919779 </td><td style=\"text-align: right;\">         0.1021</td><td style=\"text-align: right;\">    11</td><td style=\"text-align: right;\">         329.047</td><td style=\"text-align: right;\">         55</td><td style=\"text-align: right;\">  0.333095  </td><td style=\"text-align: right;\"> 0.0706209 </td></tr>\n",
       "<tr><td>TrainLightGCN_375698fc</td><td>TERMINATED</td><td>147.96.81.131:2233537</td><td style=\"text-align: right;\">           7</td><td style=\"text-align: right;\">            4</td><td style=\"text-align: right;\">            410</td><td style=\"text-align: right;\">     9</td><td style=\"text-align: right;\">6.29705e-07</td><td style=\"text-align: right;\">         0.0045</td><td style=\"text-align: right;\">     3</td><td style=\"text-align: right;\">         360.646</td><td style=\"text-align: right;\">         15</td><td style=\"text-align: right;\">  0.00813916</td><td style=\"text-align: right;\"> 0.00802722</td></tr>\n",
       "<tr><td>TrainLightGCN_38b5bb75</td><td>TERMINATED</td><td>147.96.81.131:2233404</td><td style=\"text-align: right;\">           8</td><td style=\"text-align: right;\">            5</td><td style=\"text-align: right;\">             81</td><td style=\"text-align: right;\">     9</td><td style=\"text-align: right;\">7.5967e-05 </td><td style=\"text-align: right;\">         0.002 </td><td style=\"text-align: right;\">     6</td><td style=\"text-align: right;\">         360.723</td><td style=\"text-align: right;\">         30</td><td style=\"text-align: right;\">  0.0320046 </td><td style=\"text-align: right;\"> 0.0269527 </td></tr>\n",
       "<tr><td>TrainLightGCN_aac108ad</td><td>TERMINATED</td><td>147.96.81.131:2233218</td><td style=\"text-align: right;\">           7</td><td style=\"text-align: right;\">            4</td><td style=\"text-align: right;\">              3</td><td style=\"text-align: right;\">     9</td><td style=\"text-align: right;\">2.63023e-06</td><td style=\"text-align: right;\">         0.0008</td><td style=\"text-align: right;\">     3</td><td style=\"text-align: right;\">         359.311</td><td style=\"text-align: right;\">         15</td><td style=\"text-align: right;\">  0.22044   </td><td style=\"text-align: right;\"> 0.220409  </td></tr>\n",
       "<tr><td>TrainLightGCN_866e2ef3</td><td>TERMINATED</td><td>147.96.81.131:2233068</td><td style=\"text-align: right;\">           8</td><td style=\"text-align: right;\">            3</td><td style=\"text-align: right;\">            292</td><td style=\"text-align: right;\">     9</td><td style=\"text-align: right;\">0.000187836</td><td style=\"text-align: right;\">         0.0003</td><td style=\"text-align: right;\">     6</td><td style=\"text-align: right;\">         356.082</td><td style=\"text-align: right;\">         30</td><td style=\"text-align: right;\">  0.0497784 </td><td style=\"text-align: right;\"> 0.044322  </td></tr>\n",
       "<tr><td>TrainLightGCN_1ed6a278</td><td>TERMINATED</td><td>147.96.81.131:2231667</td><td style=\"text-align: right;\">           6</td><td style=\"text-align: right;\">            4</td><td style=\"text-align: right;\">            111</td><td style=\"text-align: right;\">     9</td><td style=\"text-align: right;\">4.58514e-05</td><td style=\"text-align: right;\">         0.0007</td><td style=\"text-align: right;\">     2</td><td style=\"text-align: right;\">         460.698</td><td style=\"text-align: right;\">         10</td><td style=\"text-align: right;\">  0.0650948 </td><td style=\"text-align: right;\"> 0.0636634 </td></tr>\n",
       "<tr><td>TrainLightGCN_4748266a</td><td>TERMINATED</td><td>147.96.81.131:2232746</td><td style=\"text-align: right;\">           7</td><td style=\"text-align: right;\">            4</td><td style=\"text-align: right;\">             11</td><td style=\"text-align: right;\">     9</td><td style=\"text-align: right;\">0.00333643 </td><td style=\"text-align: right;\">         0.0116</td><td style=\"text-align: right;\">     3</td><td style=\"text-align: right;\">         353.087</td><td style=\"text-align: right;\">         15</td><td style=\"text-align: right;\">  0.116295  </td><td style=\"text-align: right;\"> 0.056871  </td></tr>\n",
       "<tr><td>TrainLightGCN_3eee6eb0</td><td>TERMINATED</td><td>147.96.81.131:2232593</td><td style=\"text-align: right;\">           7</td><td style=\"text-align: right;\">            3</td><td style=\"text-align: right;\">             37</td><td style=\"text-align: right;\">     9</td><td style=\"text-align: right;\">0.00185208 </td><td style=\"text-align: right;\">         0.0002</td><td style=\"text-align: right;\">     3</td><td style=\"text-align: right;\">         351.579</td><td style=\"text-align: right;\">         15</td><td style=\"text-align: right;\">  0.218404  </td><td style=\"text-align: right;\"> 0.201648  </td></tr>\n",
       "<tr><td>TrainLightGCN_d521e4b7</td><td>TERMINATED</td><td>147.96.81.131:2232439</td><td style=\"text-align: right;\">           8</td><td style=\"text-align: right;\">            4</td><td style=\"text-align: right;\">             62</td><td style=\"text-align: right;\">     9</td><td style=\"text-align: right;\">1.2374e-05 </td><td style=\"text-align: right;\">         0.0001</td><td style=\"text-align: right;\">     6</td><td style=\"text-align: right;\">         353.024</td><td style=\"text-align: right;\">         30</td><td style=\"text-align: right;\">  0.223389  </td><td style=\"text-align: right;\"> 0.223249  </td></tr>\n",
       "<tr><td>TrainLightGCN_ec931c2d</td><td>TERMINATED</td><td>147.96.81.131:2232148</td><td style=\"text-align: right;\">           7</td><td style=\"text-align: right;\">            2</td><td style=\"text-align: right;\">            218</td><td style=\"text-align: right;\">     9</td><td style=\"text-align: right;\">7.08435e-05</td><td style=\"text-align: right;\">         0.002 </td><td style=\"text-align: right;\">     3</td><td style=\"text-align: right;\">         351.106</td><td style=\"text-align: right;\">         15</td><td style=\"text-align: right;\">  0.0140251 </td><td style=\"text-align: right;\"> 0.0109763 </td></tr>\n",
       "<tr><td>TrainLightGCN_881de50d</td><td>TERMINATED</td><td>147.96.81.131:2231954</td><td style=\"text-align: right;\">           7</td><td style=\"text-align: right;\">            3</td><td style=\"text-align: right;\">              2</td><td style=\"text-align: right;\">     9</td><td style=\"text-align: right;\">0.000486085</td><td style=\"text-align: right;\">         0.0422</td><td style=\"text-align: right;\">     3</td><td style=\"text-align: right;\">         357.022</td><td style=\"text-align: right;\">         15</td><td style=\"text-align: right;\">  0.181333  </td><td style=\"text-align: right;\"> 0.169469  </td></tr>\n",
       "<tr><td>TrainLightGCN_e707a535</td><td>TERMINATED</td><td>147.96.81.131:2231822</td><td style=\"text-align: right;\">           7</td><td style=\"text-align: right;\">            4</td><td style=\"text-align: right;\">            569</td><td style=\"text-align: right;\">     9</td><td style=\"text-align: right;\">2.27146e-05</td><td style=\"text-align: right;\">         0.0064</td><td style=\"text-align: right;\">     2</td><td style=\"text-align: right;\">         354.607</td><td style=\"text-align: right;\">         10</td><td style=\"text-align: right;\">  0.0130284 </td><td style=\"text-align: right;\"> 0.0089748 </td></tr>\n",
       "<tr><td>TrainLightGCN_303d0b18</td><td>TERMINATED</td><td>147.96.81.131:2230347</td><td style=\"text-align: right;\">           6</td><td style=\"text-align: right;\">            5</td><td style=\"text-align: right;\">           1010</td><td style=\"text-align: right;\">     9</td><td style=\"text-align: right;\">0.00872426 </td><td style=\"text-align: right;\">         0.0032</td><td style=\"text-align: right;\">     1</td><td style=\"text-align: right;\">         539.703</td><td style=\"text-align: right;\">          5</td><td style=\"text-align: right;\">  0.22506   </td><td style=\"text-align: right;\"> 0.103576  </td></tr>\n",
       "<tr><td>TrainLightGCN_15ff1876</td><td>TERMINATED</td><td>147.96.81.131:2230814</td><td style=\"text-align: right;\">           6</td><td style=\"text-align: right;\">            5</td><td style=\"text-align: right;\">             54</td><td style=\"text-align: right;\">     9</td><td style=\"text-align: right;\">0.000301029</td><td style=\"text-align: right;\">         0.0005</td><td style=\"text-align: right;\">     2</td><td style=\"text-align: right;\">         460.907</td><td style=\"text-align: right;\">         10</td><td style=\"text-align: right;\">  0.134899  </td><td style=\"text-align: right;\"> 0.128628  </td></tr>\n",
       "<tr><td>TrainLightGCN_899c2dd2</td><td>TERMINATED</td><td>147.96.81.131:2230191</td><td style=\"text-align: right;\">           6</td><td style=\"text-align: right;\">            1</td><td style=\"text-align: right;\">              1</td><td style=\"text-align: right;\">     9</td><td style=\"text-align: right;\">0.000134214</td><td style=\"text-align: right;\">         0.024 </td><td style=\"text-align: right;\">     2</td><td style=\"text-align: right;\">         446.594</td><td style=\"text-align: right;\">         10</td><td style=\"text-align: right;\">  0.316817  </td><td style=\"text-align: right;\"> 0.315735  </td></tr>\n",
       "<tr><td>TrainLightGCN_70238a76</td><td>TERMINATED</td><td>147.96.81.131:2230041</td><td style=\"text-align: right;\">           6</td><td style=\"text-align: right;\">            3</td><td style=\"text-align: right;\">             16</td><td style=\"text-align: right;\">     9</td><td style=\"text-align: right;\">0.000150311</td><td style=\"text-align: right;\">         0.0001</td><td style=\"text-align: right;\">     2</td><td style=\"text-align: right;\">         443.257</td><td style=\"text-align: right;\">         10</td><td style=\"text-align: right;\">  0.367482  </td><td style=\"text-align: right;\"> 0.366822  </td></tr>\n",
       "<tr><td>TrainLightGCN_07a48764</td><td>TERMINATED</td><td>147.96.81.131:2229884</td><td style=\"text-align: right;\">           6</td><td style=\"text-align: right;\">            2</td><td style=\"text-align: right;\">              2</td><td style=\"text-align: right;\">     9</td><td style=\"text-align: right;\">1.34226e-05</td><td style=\"text-align: right;\">         0.0034</td><td style=\"text-align: right;\">     2</td><td style=\"text-align: right;\">         445.947</td><td style=\"text-align: right;\">         10</td><td style=\"text-align: right;\">  0.17116   </td><td style=\"text-align: right;\"> 0.171018  </td></tr>\n",
       "<tr><td>TrainLightGCN_d97ccaf1</td><td>TERMINATED</td><td>147.96.81.131:2231434</td><td style=\"text-align: right;\">           8</td><td style=\"text-align: right;\">            3</td><td style=\"text-align: right;\">             48</td><td style=\"text-align: right;\">     9</td><td style=\"text-align: right;\">0.00218981 </td><td style=\"text-align: right;\">         0.0016</td><td style=\"text-align: right;\">     6</td><td style=\"text-align: right;\">         350.647</td><td style=\"text-align: right;\">         30</td><td style=\"text-align: right;\">  0.0758697 </td><td style=\"text-align: right;\"> 0.040032  </td></tr>\n",
       "<tr><td>TrainLightGCN_b2531304</td><td>TERMINATED</td><td>147.96.81.131:2231287</td><td style=\"text-align: right;\">           8</td><td style=\"text-align: right;\">            5</td><td style=\"text-align: right;\">             24</td><td style=\"text-align: right;\">     9</td><td style=\"text-align: right;\">1.42252e-06</td><td style=\"text-align: right;\">         0.0002</td><td style=\"text-align: right;\">     6</td><td style=\"text-align: right;\">         351.288</td><td style=\"text-align: right;\">         30</td><td style=\"text-align: right;\">  0.228217  </td><td style=\"text-align: right;\"> 0.228198  </td></tr>\n",
       "<tr><td>TrainLightGCN_d1a78c6b</td><td>TERMINATED</td><td>147.96.81.131:2231140</td><td style=\"text-align: right;\">           7</td><td style=\"text-align: right;\">            5</td><td style=\"text-align: right;\">             17</td><td style=\"text-align: right;\">     9</td><td style=\"text-align: right;\">7.62529e-05</td><td style=\"text-align: right;\">         0.0008</td><td style=\"text-align: right;\">     3</td><td style=\"text-align: right;\">         351.279</td><td style=\"text-align: right;\">         15</td><td style=\"text-align: right;\">  0.146388  </td><td style=\"text-align: right;\"> 0.144803  </td></tr>\n",
       "<tr><td>TrainLightGCN_72a1d62b</td><td>TERMINATED</td><td>147.96.81.131:2230979</td><td style=\"text-align: right;\">           8</td><td style=\"text-align: right;\">            3</td><td style=\"text-align: right;\">            193</td><td style=\"text-align: right;\">     9</td><td style=\"text-align: right;\">2.84911e-05</td><td style=\"text-align: right;\">         0.0189</td><td style=\"text-align: right;\">     6</td><td style=\"text-align: right;\">         353.191</td><td style=\"text-align: right;\">         30</td><td style=\"text-align: right;\">  0.0233669 </td><td style=\"text-align: right;\"> 0.0123752 </td></tr>\n",
       "<tr><td>TrainLightGCN_44d4134f</td><td>TERMINATED</td><td>147.96.81.131:2229240</td><td style=\"text-align: right;\">           7</td><td style=\"text-align: right;\">            3</td><td style=\"text-align: right;\">             31</td><td style=\"text-align: right;\">     9</td><td style=\"text-align: right;\">0.00138468 </td><td style=\"text-align: right;\">         0.4767</td><td style=\"text-align: right;\">     4</td><td style=\"text-align: right;\">         412.693</td><td style=\"text-align: right;\">         20</td><td style=\"text-align: right;\">  6.07391   </td><td style=\"text-align: right;\"> 1.78729   </td></tr>\n",
       "<tr><td>TrainLightGCN_ce1fc30f</td><td>TERMINATED</td><td>147.96.81.131:2230664</td><td style=\"text-align: right;\">           7</td><td style=\"text-align: right;\">            2</td><td style=\"text-align: right;\">            571</td><td style=\"text-align: right;\">     9</td><td style=\"text-align: right;\">1.56497e-05</td><td style=\"text-align: right;\">         0.0002</td><td style=\"text-align: right;\">     3</td><td style=\"text-align: right;\">         350.327</td><td style=\"text-align: right;\">         15</td><td style=\"text-align: right;\">  0.0418115 </td><td style=\"text-align: right;\"> 0.0414064 </td></tr>\n",
       "<tr><td>TrainLightGCN_69543369</td><td>TERMINATED</td><td>147.96.81.131:2230515</td><td style=\"text-align: right;\">           7</td><td style=\"text-align: right;\">            3</td><td style=\"text-align: right;\">            154</td><td style=\"text-align: right;\">     9</td><td style=\"text-align: right;\">0.000316249</td><td style=\"text-align: right;\">         0.0011</td><td style=\"text-align: right;\">     3</td><td style=\"text-align: right;\">         351.286</td><td style=\"text-align: right;\">         15</td><td style=\"text-align: right;\">  0.0388297 </td><td style=\"text-align: right;\"> 0.0290643 </td></tr>\n",
       "<tr><td>TrainLightGCN_cf1cfab8</td><td>TERMINATED</td><td>147.96.81.131:2229109</td><td style=\"text-align: right;\">           7</td><td style=\"text-align: right;\">            4</td><td style=\"text-align: right;\">             11</td><td style=\"text-align: right;\">     9</td><td style=\"text-align: right;\">3.54222e-06</td><td style=\"text-align: right;\">         0.0011</td><td style=\"text-align: right;\">     4</td><td style=\"text-align: right;\">         405.956</td><td style=\"text-align: right;\">         20</td><td style=\"text-align: right;\">  0.0965698 </td><td style=\"text-align: right;\"> 0.0964868 </td></tr>\n",
       "<tr><td>TrainLightGCN_7ec6dd22</td><td>TERMINATED</td><td>147.96.81.131:2229727</td><td style=\"text-align: right;\">           6</td><td style=\"text-align: right;\">            2</td><td style=\"text-align: right;\">            806</td><td style=\"text-align: right;\">     9</td><td style=\"text-align: right;\">0.000138014</td><td style=\"text-align: right;\">         0.0027</td><td style=\"text-align: right;\">     1</td><td style=\"text-align: right;\">         318.603</td><td style=\"text-align: right;\">          5</td><td style=\"text-align: right;\">  0.0200946 </td><td style=\"text-align: right;\"> 0.0130364 </td></tr>\n",
       "<tr><td>TrainLightGCN_23015f49</td><td>TERMINATED</td><td>147.96.81.131:2229559</td><td style=\"text-align: right;\">           7</td><td style=\"text-align: right;\">            2</td><td style=\"text-align: right;\">            338</td><td style=\"text-align: right;\">     9</td><td style=\"text-align: right;\">1.08811e-07</td><td style=\"text-align: right;\">         0.0005</td><td style=\"text-align: right;\">     3</td><td style=\"text-align: right;\">         318.758</td><td style=\"text-align: right;\">         15</td><td style=\"text-align: right;\">  0.0253995 </td><td style=\"text-align: right;\"> 0.0253961 </td></tr>\n",
       "<tr><td>TrainLightGCN_4954a58f</td><td>TERMINATED</td><td>147.96.81.131:2229408</td><td style=\"text-align: right;\">           9</td><td style=\"text-align: right;\">            4</td><td style=\"text-align: right;\">             47</td><td style=\"text-align: right;\">     9</td><td style=\"text-align: right;\">4.37236e-06</td><td style=\"text-align: right;\">         0.0763</td><td style=\"text-align: right;\">    12</td><td style=\"text-align: right;\">         316.708</td><td style=\"text-align: right;\">         60</td><td style=\"text-align: right;\">  0.0708692 </td><td style=\"text-align: right;\"> 0.0621928 </td></tr>\n",
       "<tr><td>TrainLightGCN_bc67335b</td><td>TERMINATED</td><td>147.96.81.131:2228699</td><td style=\"text-align: right;\">           8</td><td style=\"text-align: right;\">            5</td><td style=\"text-align: right;\">             75</td><td style=\"text-align: right;\">     9</td><td style=\"text-align: right;\">1.39754e-06</td><td style=\"text-align: right;\">         0.0003</td><td style=\"text-align: right;\">     8</td><td style=\"text-align: right;\">         335.159</td><td style=\"text-align: right;\">         40</td><td style=\"text-align: right;\">  0.097016  </td><td style=\"text-align: right;\"> 0.0969747 </td></tr>\n",
       "<tr><td>TrainLightGCN_15a8324c</td><td>TERMINATED</td><td>147.96.81.131:2228849</td><td style=\"text-align: right;\">           9</td><td style=\"text-align: right;\">            2</td><td style=\"text-align: right;\">              8</td><td style=\"text-align: right;\">     9</td><td style=\"text-align: right;\">0.00100612 </td><td style=\"text-align: right;\">         0.0201</td><td style=\"text-align: right;\">    15</td><td style=\"text-align: right;\">         320.59 </td><td style=\"text-align: right;\">         75</td><td style=\"text-align: right;\">  0.0578713 </td><td style=\"text-align: right;\"> 0.0368287 </td></tr>\n",
       "<tr><td>TrainLightGCN_db76d8f3</td><td>TERMINATED</td><td>147.96.81.131:2228548</td><td style=\"text-align: right;\">           8</td><td style=\"text-align: right;\">            4</td><td style=\"text-align: right;\">             87</td><td style=\"text-align: right;\">     9</td><td style=\"text-align: right;\">2.59656e-07</td><td style=\"text-align: right;\">         0.0004</td><td style=\"text-align: right;\">     8</td><td style=\"text-align: right;\">         332.119</td><td style=\"text-align: right;\">         40</td><td style=\"text-align: right;\">  0.0599813 </td><td style=\"text-align: right;\"> 0.0599725 </td></tr>\n",
       "<tr><td>TrainLightGCN_cdd14475</td><td>TERMINATED</td><td>147.96.81.131:2228402</td><td style=\"text-align: right;\">           7</td><td style=\"text-align: right;\">            4</td><td style=\"text-align: right;\">              6</td><td style=\"text-align: right;\">     9</td><td style=\"text-align: right;\">2.66572e-07</td><td style=\"text-align: right;\">         0.4766</td><td style=\"text-align: right;\">     4</td><td style=\"text-align: right;\">         324.476</td><td style=\"text-align: right;\">         20</td><td style=\"text-align: right;\">  1.93663   </td><td style=\"text-align: right;\"> 1.93584   </td></tr>\n",
       "<tr><td>TrainLightGCN_1b5d400b</td><td>TERMINATED</td><td>147.96.81.131:2228253</td><td style=\"text-align: right;\">           7</td><td style=\"text-align: right;\">            4</td><td style=\"text-align: right;\">             42</td><td style=\"text-align: right;\">     9</td><td style=\"text-align: right;\">0.000414829</td><td style=\"text-align: right;\">         0.0012</td><td style=\"text-align: right;\">     4</td><td style=\"text-align: right;\">         325.141</td><td style=\"text-align: right;\">         20</td><td style=\"text-align: right;\">  0.0626227 </td><td style=\"text-align: right;\"> 0.0503432 </td></tr>\n",
       "<tr><td>TrainLightGCN_8b737026</td><td>TERMINATED</td><td>147.96.81.131:2228099</td><td style=\"text-align: right;\">           7</td><td style=\"text-align: right;\">            3</td><td style=\"text-align: right;\">              5</td><td style=\"text-align: right;\">     9</td><td style=\"text-align: right;\">0.00605521 </td><td style=\"text-align: right;\">         0.2019</td><td style=\"text-align: right;\">     4</td><td style=\"text-align: right;\">         326.512</td><td style=\"text-align: right;\">         20</td><td style=\"text-align: right;\">  0.324705  </td><td style=\"text-align: right;\"> 0.156765  </td></tr>\n",
       "<tr><td>TrainLightGCN_2001c40c</td><td>TERMINATED</td><td>147.96.81.131:2227795</td><td style=\"text-align: right;\">           6</td><td style=\"text-align: right;\">            1</td><td style=\"text-align: right;\">            206</td><td style=\"text-align: right;\">     9</td><td style=\"text-align: right;\">6.80694e-06</td><td style=\"text-align: right;\">         0.0085</td><td style=\"text-align: right;\">     2</td><td style=\"text-align: right;\">         324.21 </td><td style=\"text-align: right;\">         10</td><td style=\"text-align: right;\">  0.021966  </td><td style=\"text-align: right;\"> 0.0206773 </td></tr>\n",
       "<tr><td>TrainLightGCN_c4eccdfe</td><td>TERMINATED</td><td>147.96.81.131:2227501</td><td style=\"text-align: right;\">           7</td><td style=\"text-align: right;\">            3</td><td style=\"text-align: right;\">              4</td><td style=\"text-align: right;\">     9</td><td style=\"text-align: right;\">0.0011209  </td><td style=\"text-align: right;\">         0.0002</td><td style=\"text-align: right;\">     4</td><td style=\"text-align: right;\">         326.998</td><td style=\"text-align: right;\">         20</td><td style=\"text-align: right;\">  0.328032  </td><td style=\"text-align: right;\"> 0.321848  </td></tr>\n",
       "<tr><td>TrainLightGCN_eff070a0</td><td>TERMINATED</td><td>147.96.81.131:2227948</td><td style=\"text-align: right;\">           9</td><td style=\"text-align: right;\">            4</td><td style=\"text-align: right;\">            114</td><td style=\"text-align: right;\">     9</td><td style=\"text-align: right;\">0.000527247</td><td style=\"text-align: right;\">         0.0001</td><td style=\"text-align: right;\">    14</td><td style=\"text-align: right;\">         308.53 </td><td style=\"text-align: right;\">         70</td><td style=\"text-align: right;\">  0.144093  </td><td style=\"text-align: right;\"> 0.135474  </td></tr>\n",
       "<tr><td>TrainLightGCN_c4e1d6d4</td><td>TERMINATED</td><td>147.96.81.131:2227352</td><td style=\"text-align: right;\">           7</td><td style=\"text-align: right;\">            4</td><td style=\"text-align: right;\">              7</td><td style=\"text-align: right;\">     9</td><td style=\"text-align: right;\">0.00397996 </td><td style=\"text-align: right;\">         0.0038</td><td style=\"text-align: right;\">     4</td><td style=\"text-align: right;\">         326.51 </td><td style=\"text-align: right;\">         20</td><td style=\"text-align: right;\">  0.135671  </td><td style=\"text-align: right;\"> 0.0794369 </td></tr>\n",
       "<tr><td>TrainLightGCN_6c13eaba</td><td>TERMINATED</td><td>147.96.81.131:2227198</td><td style=\"text-align: right;\">           7</td><td style=\"text-align: right;\">            3</td><td style=\"text-align: right;\">            217</td><td style=\"text-align: right;\">     9</td><td style=\"text-align: right;\">2.79193e-05</td><td style=\"text-align: right;\">         0.0005</td><td style=\"text-align: right;\">     4</td><td style=\"text-align: right;\">         324.376</td><td style=\"text-align: right;\">         20</td><td style=\"text-align: right;\">  0.0368954 </td><td style=\"text-align: right;\"> 0.035918  </td></tr>\n",
       "<tr><td>TrainLightGCN_eec1a6ff</td><td>TERMINATED</td><td>147.96.81.131:2227649</td><td style=\"text-align: right;\">           8</td><td style=\"text-align: right;\">            4</td><td style=\"text-align: right;\">            412</td><td style=\"text-align: right;\">     9</td><td style=\"text-align: right;\">0.00406073 </td><td style=\"text-align: right;\">         0.0014</td><td style=\"text-align: right;\">     7</td><td style=\"text-align: right;\">         308.267</td><td style=\"text-align: right;\">         35</td><td style=\"text-align: right;\">  0.119313  </td><td style=\"text-align: right;\"> 0.050653  </td></tr>\n",
       "<tr><td>TrainLightGCN_01f4f11a</td><td>TERMINATED</td><td>147.96.81.131:2226746</td><td style=\"text-align: right;\">           8</td><td style=\"text-align: right;\">            5</td><td style=\"text-align: right;\">             29</td><td style=\"text-align: right;\">     9</td><td style=\"text-align: right;\">2.8606e-05 </td><td style=\"text-align: right;\">         0.2347</td><td style=\"text-align: right;\">    10</td><td style=\"text-align: right;\">         333.825</td><td style=\"text-align: right;\">         50</td><td style=\"text-align: right;\">  0.657101  </td><td style=\"text-align: right;\"> 0.465747  </td></tr>\n",
       "<tr><td>TrainLightGCN_f8ce6bb3</td><td>TERMINATED</td><td>147.96.81.131:2226896</td><td style=\"text-align: right;\">           9</td><td style=\"text-align: right;\">            3</td><td style=\"text-align: right;\">              5</td><td style=\"text-align: right;\">     9</td><td style=\"text-align: right;\">5.24282e-05</td><td style=\"text-align: right;\">         0.22  </td><td style=\"text-align: right;\">    17</td><td style=\"text-align: right;\">         321.589</td><td style=\"text-align: right;\">         85</td><td style=\"text-align: right;\">  0.195171  </td><td style=\"text-align: right;\"> 0.184903  </td></tr>\n",
       "<tr><td>TrainLightGCN_1ccda827</td><td>TERMINATED</td><td>147.96.81.131:2227047</td><td style=\"text-align: right;\">           7</td><td style=\"text-align: right;\">            4</td><td style=\"text-align: right;\">            306</td><td style=\"text-align: right;\">     9</td><td style=\"text-align: right;\">8.92312e-07</td><td style=\"text-align: right;\">         0.0065</td><td style=\"text-align: right;\">     4</td><td style=\"text-align: right;\">         316.325</td><td style=\"text-align: right;\">         20</td><td style=\"text-align: right;\">  0.00647752</td><td style=\"text-align: right;\"> 0.00624604</td></tr>\n",
       "<tr><td>TrainLightGCN_b4fd97b0</td><td>TERMINATED</td><td>147.96.81.131:2226623</td><td style=\"text-align: right;\">           8</td><td style=\"text-align: right;\">            5</td><td style=\"text-align: right;\">              4</td><td style=\"text-align: right;\">     9</td><td style=\"text-align: right;\">3.63313e-05</td><td style=\"text-align: right;\">         0.0234</td><td style=\"text-align: right;\">    11</td><td style=\"text-align: right;\">         329.702</td><td style=\"text-align: right;\">         55</td><td style=\"text-align: right;\">  0.0693795 </td><td style=\"text-align: right;\"> 0.0660004 </td></tr>\n",
       "</tbody>\n",
       "</table>\n",
       "  </div>\n",
       "</div>\n",
       "<style>\n",
       ".tuneStatus {\n",
       "  color: var(--jp-ui-font-color1);\n",
       "}\n",
       ".tuneStatus .systemInfo {\n",
       "  display: flex;\n",
       "  flex-direction: column;\n",
       "}\n",
       ".tuneStatus td {\n",
       "  white-space: nowrap;\n",
       "}\n",
       ".tuneStatus .trialStatus {\n",
       "  display: flex;\n",
       "  flex-direction: column;\n",
       "}\n",
       ".tuneStatus h3 {\n",
       "  font-weight: bold;\n",
       "}\n",
       ".tuneStatus .hDivider {\n",
       "  border-bottom-width: var(--jp-border-width);\n",
       "  border-bottom-color: var(--jp-border-color0);\n",
       "  border-bottom-style: solid;\n",
       "}\n",
       ".tuneStatus .vDivider {\n",
       "  border-left-width: var(--jp-border-width);\n",
       "  border-left-color: var(--jp-border-color0);\n",
       "  border-left-style: solid;\n",
       "  margin: 0.5em 1em 0.5em 1em;\n",
       "}\n",
       "</style>\n"
      ],
      "text/plain": [
       "<IPython.core.display.HTML object>"
      ]
     },
     "metadata": {},
     "output_type": "display_data"
    },
    {
     "name": "stderr",
     "output_type": "stream",
     "text": [
      "2024-03-08 09:46:14,465\tINFO experiment_state.py:404 -- A local experiment checkpoint was found and will be used to restore the previous experiment state.\n"
     ]
    },
    {
     "name": "stderr",
     "output_type": "stream",
     "text": [
      "2024-03-08 09:46:14,466\tWARNING tune_controller.py:400 -- Attempting to resume experiment from /home/daviddavo/ray_results/LightGCN_optim=map@10,dao=Decentraland,freq=W-THU,normalize=True,cutoff_date=2023-07-29T00:00:00,fold=9_2024-03-07T21:14:03.325667. This will ignore any new changes to the specification.\n"
     ]
    },
    {
     "name": "stderr",
     "output_type": "stream",
     "text": [
      "2024-03-08 09:46:14,466\tINFO tune_controller.py:404 -- Using the newest experiment state file found within the experiment directory: experiment_state-2024-03-07_21-14-03.json\n"
     ]
    },
    {
     "name": "stderr",
     "output_type": "stream",
     "text": [
      "2024-03-08 09:46:14,750\tINFO tune.py:1042 -- Total run time: 0.29 seconds (0.00 seconds for the tuning loop).\n"
     ]
    }
   ],
   "source": [
    "import logging\n",
    "\n",
    "def findConfig(rg):\n",
    "    for r in rg:\n",
    "        if r.config:\n",
    "            if all((r.config[k] == v for k, v in last_best_result.config.items() if k != 'fold')):\n",
    "                return r\n",
    "\n",
    "    return None\n",
    "\n",
    "tuners = []\n",
    "results = []\n",
    "last_best_result = None\n",
    "for f in range(LAST_SPLITS):\n",
    "    best_prev_config = None\n",
    "    if last_best_result is not None:\n",
    "        best_prev_config = last_best_result.config.copy()\n",
    "        best_prev_config['fold'] += 1\n",
    "        best_prev_config = [best_prev_config]\n",
    "    \n",
    "    t = getTunerOnFold(f, best_prev_config)\n",
    "    tuners.append(t)\n",
    "\n",
    "    rg = t.fit()\n",
    "    assert rg.num_errors == 0, f\"There are {rg.num_errors} errors\"\n",
    "    assert rg.num_terminated == NUM_SAMPLES, f'Some samples are not terminated ({rg.num_terminated} != {NUM_SAMPLES})'\n",
    "    results.append(rg)\n",
    "\n",
    "    # Assert that the prev config has been tried\n",
    "    if last_best_result is not None:\n",
    "        # if not any( \n",
    "        #     all((r.config[k] == v for k, v in last_best_result.config.items() if k != 'fold'))\n",
    "        #     for r in rg if r.config\n",
    "        # ):\n",
    "        if not findConfig(rg):\n",
    "            print(\"Best config:\", last_best_result.config)\n",
    "            assert False, f\"The best config from previous fold has not been tested in fold {f}\"    \n",
    "        else:\n",
    "            logging.info(f'Fold {f}. Best prev result was {last_best_result.path} and config has been found {findConfig(rg).path}')\n",
    "    \n",
    "    last_best_result = rg.get_best_result()"
   ]
  },
  {
   "cell_type": "code",
   "execution_count": 22,
   "id": "d5bc38c5-05b3-41d0-9eb6-98168aede6ba",
   "metadata": {
    "execution": {
     "iopub.execute_input": "2024-03-08T09:46:14.834549Z",
     "iopub.status.busy": "2024-03-08T09:46:14.834167Z",
     "iopub.status.idle": "2024-03-08T09:46:14.864139Z",
     "shell.execute_reply": "2024-03-08T09:46:14.863882Z"
    },
    "papermill": {
     "duration": 0.034936,
     "end_time": "2024-03-08T09:46:14.864920",
     "exception": false,
     "start_time": "2024-03-08T09:46:14.829984",
     "status": "completed"
    },
    "tags": []
   },
   "outputs": [
    {
     "name": "stdout",
     "output_type": "stream",
     "text": [
      "All finished!\n"
     ]
    }
   ],
   "source": [
    "# This is needed for papermill to run the whole notebook and not stop above\n",
    "# because ray tune catches the exception\n",
    "\n",
    "print(\"All finished!\")"
   ]
  }
 ],
 "metadata": {
  "kernelspec": {
   "display_name": "Python 3 (ipykernel)",
   "language": "python",
   "name": "python3"
  },
  "language_info": {
   "codemirror_mode": {
    "name": "ipython",
    "version": 3
   },
   "file_extension": ".py",
   "mimetype": "text/x-python",
   "name": "python",
   "nbconvert_exporter": "python",
   "pygments_lexer": "ipython3",
   "version": "3.9.18"
  },
  "papermill": {
   "default_parameters": {},
   "duration": 28.535951,
   "end_time": "2024-03-08T09:46:20.090605",
   "environment_variables": {},
   "exception": null,
   "input_path": "07_microsoft_tuning.ipynb",
   "output_path": "nbout/Decentraland/07_microsoft_tuning.ipynb",
   "parameters": {
    "CUTOFF_DATE_STR": "2023-07-29",
    "EXECUTION_ID": "2024-03-08 10:00",
    "LAST_SPLITS": 10,
    "ORG_NAME": "Decentraland",
    "ORG_PLATFORM": "snapshot",
    "SPLITS_FREQ": "W-THU",
    "SPLITS_NORMALIZE": true,
    "USE_ORG_NAMES": true
   },
   "start_time": "2024-03-08T09:45:51.554654",
   "version": "2.5.0"
  },
  "widgets": {
   "application/vnd.jupyter.widget-state+json": {
    "state": {},
    "version_major": 2,
    "version_minor": 0
   }
  }
 },
 "nbformat": 4,
 "nbformat_minor": 5
}