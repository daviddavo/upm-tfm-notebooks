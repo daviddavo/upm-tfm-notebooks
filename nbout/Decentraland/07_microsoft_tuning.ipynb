{
 "cells": [
  {
   "cell_type": "code",
   "execution_count": 1,
   "id": "cf98a9e1-f3e0-4c0a-96c1-30f305901246",
   "metadata": {
    "editable": true,
    "execution": {
     "iopub.execute_input": "2024-03-21T15:03:55.171390Z",
     "iopub.status.busy": "2024-03-21T15:03:55.170814Z",
     "iopub.status.idle": "2024-03-21T15:03:57.641520Z",
     "shell.execute_reply": "2024-03-21T15:03:57.641001Z"
    },
    "papermill": {
     "duration": 2.480639,
     "end_time": "2024-03-21T15:03:57.642479",
     "exception": false,
     "start_time": "2024-03-21T15:03:55.161840",
     "status": "completed"
    },
    "slideshow": {
     "slide_type": ""
    },
    "tags": []
   },
   "outputs": [
    {
     "name": "stdout",
     "output_type": "stream",
     "text": [
      "Python version 3.9.18 (main, Oct 24 2023, 09:18:18) \n",
      "[GCC 11.4.0]\n"
     ]
    },
    {
     "name": "stderr",
     "output_type": "stream",
     "text": [
      "2024-03-21 15:03:55.516483: E tensorflow/compiler/xla/stream_executor/cuda/cuda_dnn.cc:9342] Unable to register cuDNN factory: Attempting to register factory for plugin cuDNN when one has already been registered\n",
      "2024-03-21 15:03:55.516505: E tensorflow/compiler/xla/stream_executor/cuda/cuda_fft.cc:609] Unable to register cuFFT factory: Attempting to register factory for plugin cuFFT when one has already been registered\n",
      "2024-03-21 15:03:55.516518: E tensorflow/compiler/xla/stream_executor/cuda/cuda_blas.cc:1518] Unable to register cuBLAS factory: Attempting to register factory for plugin cuBLAS when one has already been registered\n"
     ]
    },
    {
     "name": "stdout",
     "output_type": "stream",
     "text": [
      "11.8 8\n",
      "Ray version: 2.9.1\n"
     ]
    }
   ],
   "source": [
    "from typing import Dict, List, Tuple, Union, Any, Optional\n",
    "\n",
    "import os\n",
    "import sys\n",
    "import time\n",
    "print(\"Python version\", sys.version)\n",
    "\n",
    "# Ignore pandas warnings\n",
    "import warnings\n",
    "warnings.simplefilter(action='ignore', category=FutureWarning)\n",
    "\n",
    "from pathlib import Path\n",
    "\n",
    "import pandas as pd\n",
    "import numpy as np\n",
    "import tensorflow as tf\n",
    "import datetime as dt\n",
    "\n",
    "from tqdm.autonotebook import tqdm\n",
    "\n",
    "import ray\n",
    "from ray import train, tune\n",
    "\n",
    "from src.datasets import daocensus_text\n",
    "\n",
    "%load_ext autoreload\n",
    "%autoreload 2\n",
    "\n",
    "tf.get_logger().setLevel('WARNING')\n",
    "\n",
    "tf.config.list_physical_devices(\"GPU\")\n",
    "sys_details = tf.sysconfig.get_build_info()\n",
    "cuda = sys_details.get(\"cuda_version\", -1)\n",
    "cudnn = sys_details.get(\"cudnn_version\", -1)\n",
    "print(cuda, cudnn)\n",
    "print('Ray version:', ray.__version__)"
   ]
  },
  {
   "cell_type": "code",
   "execution_count": 2,
   "id": "798161a7-5414-4626-9dfb-6d71823bf4c7",
   "metadata": {
    "editable": true,
    "execution": {
     "iopub.execute_input": "2024-03-21T15:03:57.648844Z",
     "iopub.status.busy": "2024-03-21T15:03:57.648594Z",
     "iopub.status.idle": "2024-03-21T15:03:57.670944Z",
     "shell.execute_reply": "2024-03-21T15:03:57.670675Z"
    },
    "papermill": {
     "duration": 0.026381,
     "end_time": "2024-03-21T15:03:57.671810",
     "exception": false,
     "start_time": "2024-03-21T15:03:57.645429",
     "status": "completed"
    },
    "slideshow": {
     "slide_type": ""
    },
    "tags": [
     "parameters"
    ]
   },
   "outputs": [],
   "source": [
    "# Others config\n",
    "SEED: int = 57\n",
    "RAY_RESULTS_PATH: Path = Path('~/ray_results').expanduser()\n",
    "\n",
    "# Dataset config\n",
    "ORG_NAME = 'Decentraland'\n",
    "ORG_PLATFORM = 'snapshot'\n",
    "USE_ORG_NAMES: bool = False\n",
    "CUTOFF_DATE_STR: str = None\n",
    "\n",
    "# Dataset splits config\n",
    "SPLITS_FREQ = 'W-THU' # Split weekly\n",
    "LAST_SPLITS = 10 # Use just last 10 splits\n",
    "SPLITS_NORMALIZE = True\n",
    "\n",
    "# Training config\n",
    "MAX_EPOCHS: int = 200\n",
    "EPOCHS_PER_ITER: int = 5\n",
    "SAMPLES_PER_SPLIT: int = 100\n",
    "OPTIM_METRIC: str = 'map@10'\n",
    "\n",
    "# Eval config\n",
    "TOP_K: List[int] = [5, 10]\n",
    "METRICS: List[str] = [\"recall\", \"ndcg\", \"precision\", \"map\"]"
   ]
  },
  {
   "cell_type": "code",
   "execution_count": 3,
   "id": "e54fcdd8",
   "metadata": {
    "execution": {
     "iopub.execute_input": "2024-03-21T15:03:57.676844Z",
     "iopub.status.busy": "2024-03-21T15:03:57.676666Z",
     "iopub.status.idle": "2024-03-21T15:03:57.696939Z",
     "shell.execute_reply": "2024-03-21T15:03:57.696690Z"
    },
    "papermill": {
     "duration": 0.023839,
     "end_time": "2024-03-21T15:03:57.697790",
     "exception": false,
     "start_time": "2024-03-21T15:03:57.673951",
     "status": "completed"
    },
    "tags": [
     "injected-parameters"
    ]
   },
   "outputs": [],
   "source": [
    "# Parameters\n",
    "ORG_NAME = \"Decentraland\"\n",
    "ORG_PLATFORM = \"snapshot\"\n",
    "SPLITS_FREQ = \"W-THU\"\n",
    "SPLITS_NORMALIZE = True\n",
    "LAST_SPLITS = 10\n",
    "USE_ORG_NAMES = True\n",
    "EXECUTION_ID = \"2024-03-21\"\n",
    "CUTOFF_DATE_STR = \"2023-07-29\"\n"
   ]
  },
  {
   "cell_type": "code",
   "execution_count": 4,
   "id": "cb3db761-9d3b-4a8b-9164-1008f2e8bab5",
   "metadata": {
    "execution": {
     "iopub.execute_input": "2024-03-21T15:03:57.702726Z",
     "iopub.status.busy": "2024-03-21T15:03:57.702586Z",
     "iopub.status.idle": "2024-03-21T15:03:57.720141Z",
     "shell.execute_reply": "2024-03-21T15:03:57.719928Z"
    },
    "papermill": {
     "duration": 0.021102,
     "end_time": "2024-03-21T15:03:57.721006",
     "exception": false,
     "start_time": "2024-03-21T15:03:57.699904",
     "status": "completed"
    },
    "tags": []
   },
   "outputs": [],
   "source": [
    "CUTOFF_DATE = dt.datetime.fromisoformat(CUTOFF_DATE_STR) if CUTOFF_DATE_STR else None"
   ]
  },
  {
   "cell_type": "markdown",
   "id": "ab0ff2f2-bdaa-46eb-87d1-c4481734b8c0",
   "metadata": {
    "papermill": {
     "duration": 0.002325,
     "end_time": "2024-03-21T15:03:57.725545",
     "exception": false,
     "start_time": "2024-03-21T15:03:57.723220",
     "status": "completed"
    },
    "tags": []
   },
   "source": [
    "# Load data"
   ]
  },
  {
   "cell_type": "code",
   "execution_count": 5,
   "id": "765a4892-6a85-40ab-a65d-c0d76b0569b2",
   "metadata": {
    "editable": true,
    "execution": {
     "iopub.execute_input": "2024-03-21T15:03:57.730609Z",
     "iopub.status.busy": "2024-03-21T15:03:57.730424Z",
     "iopub.status.idle": "2024-03-21T15:04:04.248304Z",
     "shell.execute_reply": "2024-03-21T15:04:04.247901Z"
    },
    "papermill": {
     "duration": 6.521456,
     "end_time": "2024-03-21T15:04:04.249130",
     "exception": false,
     "start_time": "2024-03-21T15:03:57.727674",
     "status": "completed"
    },
    "scrolled": true,
    "slideshow": {
     "slide_type": ""
    },
    "tags": []
   },
   "outputs": [
    {
     "name": "stdout",
     "output_type": "stream",
     "text": [
      "Warning, removing 116560 votes without proposal\n",
      "<class 'pandas.core.frame.DataFrame'>\n",
      "Int64Index: 116560 entries, 0 to 116559\n",
      "Data columns (total 10 columns):\n",
      " #   Column         Non-Null Count   Dtype         \n",
      "---  ------         --------------   -----         \n",
      " 0   platform       116560 non-null  object        \n",
      " 1   name           116560 non-null  object        \n",
      " 2   id             116560 non-null  object        \n",
      " 3   proposal       116560 non-null  category      \n",
      " 4   deployment     116560 non-null  object        \n",
      " 5   platform_vote  116560 non-null  object        \n",
      " 6   voter          116560 non-null  category      \n",
      " 7   date           116560 non-null  datetime64[ns]\n",
      " 8   choice         116560 non-null  object        \n",
      " 9   weight         116560 non-null  float64       \n",
      "dtypes: category(2), datetime64[ns](1), float64(1), object(6)\n",
      "memory usage: 8.5+ MB\n",
      "None\n",
      "<class 'pandas.core.frame.DataFrame'>\n",
      "Int64Index: 1942 entries, 0 to 1941\n",
      "Data columns (total 13 columns):\n",
      " #   Column               Non-Null Count  Dtype         \n",
      "---  ------               --------------  -----         \n",
      " 0   platform             1942 non-null   object        \n",
      " 1   name                 1942 non-null   object        \n",
      " 2   platform_deployment  1942 non-null   object        \n",
      " 3   id                   1942 non-null   category      \n",
      " 4   deployment           1942 non-null   object        \n",
      " 5   platform_proposal    1942 non-null   object        \n",
      " 6   author               1942 non-null   category      \n",
      " 7   date                 1942 non-null   datetime64[ns]\n",
      " 8   title                1942 non-null   object        \n",
      " 9   description          1942 non-null   object        \n",
      " 10  start                1942 non-null   datetime64[ns]\n",
      " 11  end                  1942 non-null   datetime64[ns]\n",
      " 12  votes_count          1942 non-null   int64         \n",
      "dtypes: category(2), datetime64[ns](3), int64(1), object(7)\n",
      "memory usage: 202.9+ KB\n",
      "None\n"
     ]
    }
   ],
   "source": [
    "# dfptext = pd.read_csv('./snapshot_proposals.csv')[['proposal_id', 'title', 'description', 'start', 'end']]\n",
    "# dfv, dfp = daocensus.get(\"./data/daos-census\", ORG_NAME, 'snapshot')\n",
    "# dfv['voter'] = dfv['voter'].astype('str')\n",
    "# dfp = dfp.merge(dfptext, how='left', left_on='platform_proposal', right_on='proposal_id')\n",
    "# dfp[['start', 'end']] = dfp[['start', 'end']].astype('datetime64')\n",
    "\n",
    "dfv, dfp = daocensus_text.get(\"./data/daos-census-text\", ORG_NAME, ORG_PLATFORM, use_org_names=USE_ORG_NAMES, cutoff_date=CUTOFF_DATE)\n",
    "print(dfv.info())\n",
    "print(dfp.info())"
   ]
  },
  {
   "cell_type": "markdown",
   "id": "df339c08-4f99-4933-886c-6ab774f09e63",
   "metadata": {
    "papermill": {
     "duration": 0.002707,
     "end_time": "2024-03-21T15:04:04.254745",
     "exception": false,
     "start_time": "2024-03-21T15:04:04.252038",
     "status": "completed"
    },
    "tags": []
   },
   "source": [
    "## Transform data"
   ]
  },
  {
   "cell_type": "code",
   "execution_count": 6,
   "id": "4b003927-cfab-4f9a-91f8-1376f038f82e",
   "metadata": {
    "execution": {
     "iopub.execute_input": "2024-03-21T15:04:04.260022Z",
     "iopub.status.busy": "2024-03-21T15:04:04.259866Z",
     "iopub.status.idle": "2024-03-21T15:04:04.304993Z",
     "shell.execute_reply": "2024-03-21T15:04:04.304676Z"
    },
    "papermill": {
     "duration": 0.048811,
     "end_time": "2024-03-21T15:04:04.305829",
     "exception": false,
     "start_time": "2024-03-21T15:04:04.257018",
     "status": "completed"
    },
    "tags": []
   },
   "outputs": [
    {
     "data": {
      "text/html": [
       "<div>\n",
       "<style scoped>\n",
       "    .dataframe tbody tr th:only-of-type {\n",
       "        vertical-align: middle;\n",
       "    }\n",
       "\n",
       "    .dataframe tbody tr th {\n",
       "        vertical-align: top;\n",
       "    }\n",
       "\n",
       "    .dataframe thead th {\n",
       "        text-align: right;\n",
       "    }\n",
       "</style>\n",
       "<table border=\"1\" class=\"dataframe\">\n",
       "  <thead>\n",
       "    <tr style=\"text-align: right;\">\n",
       "      <th></th>\n",
       "      <th>userID</th>\n",
       "      <th>itemID</th>\n",
       "      <th>timestamp</th>\n",
       "      <th>rating</th>\n",
       "    </tr>\n",
       "  </thead>\n",
       "  <tbody>\n",
       "    <tr>\n",
       "      <th>0</th>\n",
       "      <td>0xe7af1c70f8f089c4c3bd71999692c6c5a15d9e2a</td>\n",
       "      <td>b86aa059-3d31-5d41-a472-70962816f779</td>\n",
       "      <td>2021-12-17 12:28:01</td>\n",
       "      <td>1</td>\n",
       "    </tr>\n",
       "    <tr>\n",
       "      <th>1</th>\n",
       "      <td>0xc54a6c3778016b06cbd126ccc3b5bc06c5f666fb</td>\n",
       "      <td>b86aa059-3d31-5d41-a472-70962816f779</td>\n",
       "      <td>2021-12-17 02:16:23</td>\n",
       "      <td>1</td>\n",
       "    </tr>\n",
       "    <tr>\n",
       "      <th>2</th>\n",
       "      <td>0xd82d005e8f8d5385db40ba23884a5c967bb1e8af</td>\n",
       "      <td>b86aa059-3d31-5d41-a472-70962816f779</td>\n",
       "      <td>2021-12-17 00:38:22</td>\n",
       "      <td>1</td>\n",
       "    </tr>\n",
       "    <tr>\n",
       "      <th>3</th>\n",
       "      <td>0xf4c64db66ffb301985f5ecd85c8f3f9c02f2659d</td>\n",
       "      <td>b86aa059-3d31-5d41-a472-70962816f779</td>\n",
       "      <td>2021-12-16 18:47:08</td>\n",
       "      <td>1</td>\n",
       "    </tr>\n",
       "    <tr>\n",
       "      <th>4</th>\n",
       "      <td>0xd5e9ef1cedad0d135d543d286a2c190b16cbb89e</td>\n",
       "      <td>b86aa059-3d31-5d41-a472-70962816f779</td>\n",
       "      <td>2021-12-16 18:32:15</td>\n",
       "      <td>1</td>\n",
       "    </tr>\n",
       "  </tbody>\n",
       "</table>\n",
       "</div>"
      ],
      "text/plain": [
       "                                       userID  \\\n",
       "0  0xe7af1c70f8f089c4c3bd71999692c6c5a15d9e2a   \n",
       "1  0xc54a6c3778016b06cbd126ccc3b5bc06c5f666fb   \n",
       "2  0xd82d005e8f8d5385db40ba23884a5c967bb1e8af   \n",
       "3  0xf4c64db66ffb301985f5ecd85c8f3f9c02f2659d   \n",
       "4  0xd5e9ef1cedad0d135d543d286a2c190b16cbb89e   \n",
       "\n",
       "                                 itemID           timestamp  rating  \n",
       "0  b86aa059-3d31-5d41-a472-70962816f779 2021-12-17 12:28:01       1  \n",
       "1  b86aa059-3d31-5d41-a472-70962816f779 2021-12-17 02:16:23       1  \n",
       "2  b86aa059-3d31-5d41-a472-70962816f779 2021-12-17 00:38:22       1  \n",
       "3  b86aa059-3d31-5d41-a472-70962816f779 2021-12-16 18:47:08       1  \n",
       "4  b86aa059-3d31-5d41-a472-70962816f779 2021-12-16 18:32:15       1  "
      ]
     },
     "execution_count": 6,
     "metadata": {},
     "output_type": "execute_result"
    }
   ],
   "source": [
    "def to_microsoft(dfv):\n",
    "    df = dfv[['voter', 'proposal', 'date']].rename(columns={\n",
    "        'voter': 'userID',\n",
    "        'proposal': 'itemID',\n",
    "        'date': 'timestamp',\n",
    "    })\n",
    "    df['itemID'] = df['itemID'].astype('str')\n",
    "    df['rating'] = 1\n",
    "    return df\n",
    "\n",
    "df = to_microsoft(dfv)\n",
    "df.head()"
   ]
  },
  {
   "cell_type": "markdown",
   "id": "8faab8dc-8192-47b5-96df-7458bd890ffb",
   "metadata": {
    "papermill": {
     "duration": 0.002583,
     "end_time": "2024-03-21T15:04:04.310979",
     "exception": false,
     "start_time": "2024-03-21T15:04:04.308396",
     "status": "completed"
    },
    "tags": []
   },
   "source": [
    "# Split data\n",
    "\n",
    "Each proposal remains open for a few days, our environment is different of a movies recommender system. For this reason, we will use a TimeSeriesSplit instead of a K-Fold to cross-validate the model.\n",
    "\n",
    "![](https://scikit-learn.org/stable/_images/sphx_glr_plot_cv_indices_013.png)\n",
    "\n",
    "El TimeSeriesSplit de scikit-learn no nos vale porque el número de elementos en cada split es el mismo, pero el tamaño del intervalo, no. Como queremos simular un comportamiento realista, haremos el split dividiendo por intervalos de igual longitud."
   ]
  },
  {
   "cell_type": "code",
   "execution_count": 7,
   "id": "3f661ac7-df23-49ad-9671-cfa65d4b44d6",
   "metadata": {
    "execution": {
     "iopub.execute_input": "2024-03-21T15:04:04.316438Z",
     "iopub.status.busy": "2024-03-21T15:04:04.316282Z",
     "iopub.status.idle": "2024-03-21T15:04:04.500417Z",
     "shell.execute_reply": "2024-03-21T15:04:04.499978Z"
    },
    "papermill": {
     "duration": 0.188323,
     "end_time": "2024-03-21T15:04:04.501630",
     "exception": false,
     "start_time": "2024-03-21T15:04:04.313307",
     "status": "completed"
    },
    "tags": []
   },
   "outputs": [],
   "source": [
    "from recommenders.evaluation.python_evaluation import metrics as metrics_dict"
   ]
  },
  {
   "cell_type": "code",
   "execution_count": 8,
   "id": "445d9909-609a-4cf3-8e24-6fa36946a375",
   "metadata": {
    "editable": true,
    "execution": {
     "iopub.execute_input": "2024-03-21T15:04:04.508405Z",
     "iopub.status.busy": "2024-03-21T15:04:04.508232Z",
     "iopub.status.idle": "2024-03-21T15:04:08.071528Z",
     "shell.execute_reply": "2024-03-21T15:04:08.071263Z"
    },
    "papermill": {
     "duration": 3.567848,
     "end_time": "2024-03-21T15:04:08.072420",
     "exception": false,
     "start_time": "2024-03-21T15:04:04.504572",
     "status": "completed"
    },
    "slideshow": {
     "slide_type": ""
    },
    "tags": []
   },
   "outputs": [
    {
     "name": "stdout",
     "output_type": "stream",
     "text": [
      "Split 0, train from: 2021-05-24 to 2023-05-10, test from: 2023-05-11 to 2023-05-22\n",
      "  t: 2023-05-11 00:00:00\n",
      "  len(train): 106129, len(test): 354\n",
      "  users(train): 6863, users(test): 139\n",
      "\n",
      "  highest possible recall@5:\t0.9631\n",
      "  highest possible ndcg@5:\t1.0000\n",
      "  highest possible precision@5:\t0.4432\n",
      "  highest possible map@5:\t0.9631\n",
      "------------------------------\n",
      "Split 1, train from: 2021-05-24 to 2023-05-17, test from: 2023-05-18 to 2023-05-31\n",
      "  t: 2023-05-18 00:00:00\n",
      "  len(train): 107387, len(test): 811\n",
      "  users(train): 6886, users(test): 169\n",
      "\n",
      "  highest possible recall@5:\t0.8565\n",
      "  highest possible ndcg@5:\t1.0000\n",
      "  highest possible precision@5:\t0.5953\n",
      "  highest possible map@5:\t0.8565\n",
      "------------------------------\n",
      "Split 2, train from: 2021-05-24 to 2023-05-24, test from: 2023-05-25 to 2023-06-07\n",
      "  t: 2023-05-25 00:00:00\n",
      "  len(train): 108802, len(test): 332\n",
      "  users(train): 6910, users(test): 122\n",
      "\n",
      "  highest possible recall@5:\t0.9475\n"
     ]
    },
    {
     "name": "stdout",
     "output_type": "stream",
     "text": [
      "  highest possible ndcg@5:\t1.0000\n",
      "  highest possible precision@5:\t0.4311\n",
      "  highest possible map@5:\t0.9475\n",
      "------------------------------\n",
      "Split 3, train from: 2021-05-24 to 2023-05-31, test from: 2023-06-01 to 2023-06-13\n",
      "  t: 2023-06-01 00:00:00\n",
      "  len(train): 109556, len(test): 289\n",
      "  users(train): 6920, users(test): 101\n",
      "\n",
      "  highest possible recall@5:\t0.9743\n",
      "  highest possible ndcg@5:\t1.0000\n",
      "  highest possible precision@5:\t0.5228\n",
      "  highest possible map@5:\t0.9743\n",
      "------------------------------\n",
      "Split 4, train from: 2021-05-24 to 2023-06-07, test from: 2023-06-08 to 2023-06-21\n",
      "  t: 2023-06-08 00:00:00\n",
      "  len(train): 110250, len(test): 341\n",
      "  users(train): 6937, users(test): 118\n",
      "\n",
      "  highest possible recall@5:\t0.9538\n",
      "  highest possible ndcg@5:\t1.0000\n",
      "  highest possible precision@5:\t0.4966\n"
     ]
    },
    {
     "name": "stdout",
     "output_type": "stream",
     "text": [
      "  highest possible map@5:\t0.9538\n",
      "------------------------------\n",
      "Split 5, train from: 2021-05-24 to 2023-06-14, test from: 2023-06-15 to 2023-06-27\n",
      "  t: 2023-06-15 00:00:00\n",
      "  len(train): 111195, len(test): 391\n",
      "  users(train): 6955, users(test): 132\n",
      "\n",
      "  highest possible recall@5:\t0.9506\n",
      "  highest possible ndcg@5:\t1.0000\n",
      "  highest possible precision@5:\t0.5061\n",
      "  highest possible map@5:\t0.9506\n",
      "------------------------------\n",
      "Split 6, train from: 2021-05-24 to 2023-06-21, test from: 2023-06-22 to 2023-07-04\n",
      "  t: 2023-06-22 00:00:00\n",
      "  len(train): 112105, len(test): 360\n",
      "  users(train): 6987, users(test): 148\n",
      "\n",
      "  highest possible recall@5:\t0.9676\n",
      "  highest possible ndcg@5:\t1.0000\n",
      "  highest possible precision@5:\t0.4216\n",
      "  highest possible map@5:\t0.9676\n",
      "------------------------------\n",
      "Split 7, train from: 2021-05-24 to 2023-06-28, test from: 2023-06-29 to 2023-07-11\n",
      "  t: 2023-06-29 00:00:00\n",
      "  len(train): 112925, len(test): 239\n",
      "  users(train): 7042, users(test): 107\n",
      "\n",
      "  highest possible recall@5:\t0.9942\n"
     ]
    },
    {
     "name": "stdout",
     "output_type": "stream",
     "text": [
      "  highest possible ndcg@5:\t1.0000\n",
      "  highest possible precision@5:\t0.4393\n",
      "  highest possible map@5:\t0.9942\n",
      "------------------------------\n",
      "Split 8, train from: 2021-05-24 to 2023-07-05, test from: 2023-07-06 to 2023-07-18\n",
      "  t: 2023-07-06 00:00:00\n",
      "  len(train): 114417, len(test): 890\n",
      "  users(train): 7129, users(test): 249\n",
      "\n",
      "  highest possible recall@5:\t0.9112\n",
      "  highest possible ndcg@5:\t1.0000\n",
      "  highest possible precision@5:\t0.4916\n",
      "  highest possible map@5:\t0.9112\n",
      "------------------------------\n",
      "Split 9, train from: 2021-05-24 to 2023-07-12, test from: 2023-07-13 to 2023-07-20\n",
      "  t: 2023-07-13 00:00:00\n",
      "  len(train): 115984, len(test): 384\n",
      "  users(train): 7234, users(test): 142\n",
      "\n",
      "  highest possible recall@5:\t0.9579\n",
      "  highest possible ndcg@5:\t1.0000\n",
      "  highest possible precision@5:\t0.4366\n"
     ]
    },
    {
     "name": "stdout",
     "output_type": "stream",
     "text": [
      "  highest possible map@5:\t0.9579\n",
      "------------------------------\n"
     ]
    }
   ],
   "source": [
    "from src.model_selection import timeFreqSplitCurrent, timeIntervalSplitCurrent\n",
    "\n",
    "# max_train_prev = df['timestamp'].min().date()\n",
    "# N_SPLITS = 10; SKIP_SPLIT = 0\n",
    "# folds = list(timeIntervalSplitCurrent(df, N_SPLITS, dfp, skip=SKIP_SPLIT, remove_not_in_train_col='userID', return_open=True))\n",
    "folds = list(timeFreqSplitCurrent(df, SPLITS_FREQ, dfp, return_open=True, remove_not_in_train_col='userID'))[-LAST_SPLITS:]\n",
    "for i, (dftrain, dftest, t, open_proposals) in enumerate(folds):\n",
    "    min_train = dftrain['timestamp'].min().date()\n",
    "    max_train = dftrain['timestamp'].max().date()\n",
    "    min_test  = dftest['timestamp'].min().date()\n",
    "    max_test  = dftest['timestamp'].max().date()\n",
    "\n",
    "    train_users = len(set(dftrain['userID']))\n",
    "    test_users = len(set(dftest['userID']))\n",
    "    \n",
    "    print(f\"Split {i}, train from: {min_train} to {max_train}, test from: {min_test} to {max_test}\")\n",
    "    print(f\"  t: {t}\")\n",
    "    print(f\"  len(train): {len(dftrain)}, len(test): {len(dftest)}\")\n",
    "    print(f\"  users(train): {train_users}, users(test): {test_users}\")\n",
    "\n",
    "    print()\n",
    "    dftest['prediction'] = 1\n",
    "    for m in METRICS:\n",
    "        f = metrics_dict[f'{m}_at_k']\n",
    "        print(f\"  highest possible {m}@{TOP_K[0]}:\\t{f(dftest, dftest, k=TOP_K[0], relevancy_method='top_k'):.4f}\")\n",
    "\n",
    "    print(\"-\"*30)"
   ]
  },
  {
   "cell_type": "markdown",
   "id": "5c881c43-d308-40ff-b6b4-d54458e1bc32",
   "metadata": {
    "papermill": {
     "duration": 0.002933,
     "end_time": "2024-03-21T15:04:08.078530",
     "exception": false,
     "start_time": "2024-03-21T15:04:08.075597",
     "status": "completed"
    },
    "tags": []
   },
   "source": [
    "# Defining training"
   ]
  },
  {
   "cell_type": "code",
   "execution_count": 9,
   "id": "9a502e2d-3398-405f-9029-d3abc69033dc",
   "metadata": {
    "execution": {
     "iopub.execute_input": "2024-03-21T15:04:08.084422Z",
     "iopub.status.busy": "2024-03-21T15:04:08.084264Z",
     "iopub.status.idle": "2024-03-21T15:04:08.258269Z",
     "shell.execute_reply": "2024-03-21T15:04:08.257845Z"
    },
    "papermill": {
     "duration": 0.178291,
     "end_time": "2024-03-21T15:04:08.259474",
     "exception": false,
     "start_time": "2024-03-21T15:04:08.081183",
     "status": "completed"
    },
    "tags": []
   },
   "outputs": [],
   "source": [
    "# from recommenders.models.deeprec.models.graphrec.lightgcn import LightGCN\n",
    "from src.models import LightGCNCustom\n",
    "from recommenders.utils.python_utils import get_top_k_scored_items"
   ]
  },
  {
   "cell_type": "markdown",
   "id": "923adb82-9733-4e21-a378-7263c5532353",
   "metadata": {
    "papermill": {
     "duration": 0.002895,
     "end_time": "2024-03-21T15:04:08.265680",
     "exception": false,
     "start_time": "2024-03-21T15:04:08.262785",
     "status": "completed"
    },
    "tags": []
   },
   "source": [
    "## Small test of `LightGCNCustom`"
   ]
  },
  {
   "cell_type": "code",
   "execution_count": 10,
   "id": "41d1cf90-bd11-4a87-b0aa-bf0e25d559af",
   "metadata": {
    "execution": {
     "iopub.execute_input": "2024-03-21T15:04:08.271508Z",
     "iopub.status.busy": "2024-03-21T15:04:08.271317Z",
     "iopub.status.idle": "2024-03-21T15:04:08.298075Z",
     "shell.execute_reply": "2024-03-21T15:04:08.297830Z"
    },
    "papermill": {
     "duration": 0.030747,
     "end_time": "2024-03-21T15:04:08.298944",
     "exception": false,
     "start_time": "2024-03-21T15:04:08.268197",
     "status": "completed"
    },
    "tags": []
   },
   "outputs": [],
   "source": [
    "from recommenders.models.deeprec.DataModel.ImplicitCF import ImplicitCF\n",
    "from recommenders.models.deeprec.deeprec_utils import prepare_hparams"
   ]
  },
  {
   "cell_type": "code",
   "execution_count": 11,
   "id": "0e57c58e-3091-4357-969a-c7bafedd29c1",
   "metadata": {
    "execution": {
     "iopub.execute_input": "2024-03-21T15:04:08.305033Z",
     "iopub.status.busy": "2024-03-21T15:04:08.304877Z",
     "iopub.status.idle": "2024-03-21T15:04:09.557127Z",
     "shell.execute_reply": "2024-03-21T15:04:09.556708Z"
    },
    "papermill": {
     "duration": 1.256728,
     "end_time": "2024-03-21T15:04:09.558343",
     "exception": false,
     "start_time": "2024-03-21T15:04:08.301615",
     "status": "completed"
    },
    "tags": []
   },
   "outputs": [
    {
     "name": "stdout",
     "output_type": "stream",
     "text": [
      "items: 1941 user: 7234\n"
     ]
    },
    {
     "name": "stdout",
     "output_type": "stream",
     "text": [
      "Already create adjacency matrix.\n",
      "Already normalize adjacency matrix.\n",
      "Using xavier initialization.\n"
     ]
    }
   ],
   "source": [
    "hparams = prepare_hparams(\n",
    "    model_type='lightgcn',\n",
    "    n_layers=3,\n",
    "    batch_size=512,\n",
    "    embed_size=64,\n",
    "    epochs=2,\n",
    "    learning_rate=0.001,\n",
    "    decay=0.001,\n",
    "    metrics=[\"recall\", \"ndcg\", \"precision\", \"map\"],\n",
    "    eval_epoch=2,\n",
    "    top_k=TOP_K[0],\n",
    "    save_model=False,\n",
    "    MODEL_DIR='./data/model/lightgcn/',\n",
    ")\n",
    "dataloader = ImplicitCF(train=folds[-1][0], test=folds[-1][1], seed=SEED)\n",
    "print(\"items:\", dataloader.n_items, \"user:\", dataloader.n_users)\n",
    "model = LightGCNCustom(data=dataloader, hparams=hparams)"
   ]
  },
  {
   "cell_type": "code",
   "execution_count": 12,
   "id": "3fe49e83-f291-4383-97c2-167a706ae717",
   "metadata": {
    "execution": {
     "iopub.execute_input": "2024-03-21T15:04:09.565379Z",
     "iopub.status.busy": "2024-03-21T15:04:09.565199Z",
     "iopub.status.idle": "2024-03-21T15:04:11.452887Z",
     "shell.execute_reply": "2024-03-21T15:04:11.452473Z"
    },
    "papermill": {
     "duration": 1.892193,
     "end_time": "2024-03-21T15:04:11.453842",
     "exception": false,
     "start_time": "2024-03-21T15:04:09.561649",
     "status": "completed"
    },
    "tags": []
   },
   "outputs": [
    {
     "name": "stdout",
     "output_type": "stream",
     "text": [
      "Epoch 1 (train)0.8s: train loss = 0.59301 = (mf)0.59217 + (embed)0.00084\n"
     ]
    },
    {
     "name": "stdout",
     "output_type": "stream",
     "text": [
      "Epoch 2 (train)0.5s + (eval)0.6s: train loss = 0.34032 = (mf)0.33601 + (embed)0.00431, recall = 0.00704, ndcg = 0.00352, precision = 0.00141, map = 0.00235\n"
     ]
    }
   ],
   "source": [
    "model.fit()"
   ]
  },
  {
   "cell_type": "code",
   "execution_count": 13,
   "id": "a12ab695-94f8-431e-8a7f-03bf17f2fa1e",
   "metadata": {
    "execution": {
     "iopub.execute_input": "2024-03-21T15:04:11.461224Z",
     "iopub.status.busy": "2024-03-21T15:04:11.461072Z",
     "iopub.status.idle": "2024-03-21T15:04:11.512974Z",
     "shell.execute_reply": "2024-03-21T15:04:11.512657Z"
    },
    "papermill": {
     "duration": 0.056425,
     "end_time": "2024-03-21T15:04:11.513857",
     "exception": false,
     "start_time": "2024-03-21T15:04:11.457432",
     "status": "completed"
    },
    "tags": []
   },
   "outputs": [
    {
     "data": {
      "text/plain": [
       "[0.007042253521126761,\n",
       " 0.0035211267605633804,\n",
       " 0.0014084507042253522,\n",
       " 0.002347417840375587]"
      ]
     },
     "execution_count": 13,
     "metadata": {},
     "output_type": "execute_result"
    }
   ],
   "source": [
    "model.run_eval()"
   ]
  },
  {
   "cell_type": "code",
   "execution_count": 14,
   "id": "2b131c2d-6df2-4292-8f12-caaf409562ab",
   "metadata": {
    "execution": {
     "iopub.execute_input": "2024-03-21T15:04:11.520476Z",
     "iopub.status.busy": "2024-03-21T15:04:11.520349Z",
     "iopub.status.idle": "2024-03-21T15:04:11.560995Z",
     "shell.execute_reply": "2024-03-21T15:04:11.560701Z"
    },
    "papermill": {
     "duration": 0.045605,
     "end_time": "2024-03-21T15:04:11.562408",
     "exception": false,
     "start_time": "2024-03-21T15:04:11.516803",
     "status": "completed"
    },
    "tags": []
   },
   "outputs": [
    {
     "data": {
      "text/html": [
       "<div>\n",
       "<style scoped>\n",
       "    .dataframe tbody tr th:only-of-type {\n",
       "        vertical-align: middle;\n",
       "    }\n",
       "\n",
       "    .dataframe tbody tr th {\n",
       "        vertical-align: top;\n",
       "    }\n",
       "\n",
       "    .dataframe thead th {\n",
       "        text-align: right;\n",
       "    }\n",
       "</style>\n",
       "<table border=\"1\" class=\"dataframe\">\n",
       "  <thead>\n",
       "    <tr style=\"text-align: right;\">\n",
       "      <th></th>\n",
       "      <th>userID</th>\n",
       "      <th>itemID</th>\n",
       "      <th>prediction</th>\n",
       "    </tr>\n",
       "  </thead>\n",
       "  <tbody>\n",
       "    <tr>\n",
       "      <th>0</th>\n",
       "      <td>405</td>\n",
       "      <td>1789</td>\n",
       "      <td>2.622111</td>\n",
       "    </tr>\n",
       "    <tr>\n",
       "      <th>1</th>\n",
       "      <td>405</td>\n",
       "      <td>1920</td>\n",
       "      <td>2.546778</td>\n",
       "    </tr>\n",
       "    <tr>\n",
       "      <th>2</th>\n",
       "      <td>405</td>\n",
       "      <td>1107</td>\n",
       "      <td>2.510177</td>\n",
       "    </tr>\n",
       "    <tr>\n",
       "      <th>3</th>\n",
       "      <td>266</td>\n",
       "      <td>1920</td>\n",
       "      <td>11.071714</td>\n",
       "    </tr>\n",
       "    <tr>\n",
       "      <th>4</th>\n",
       "      <td>266</td>\n",
       "      <td>926</td>\n",
       "      <td>10.846996</td>\n",
       "    </tr>\n",
       "    <tr>\n",
       "      <th>...</th>\n",
       "      <td>...</td>\n",
       "      <td>...</td>\n",
       "      <td>...</td>\n",
       "    </tr>\n",
       "    <tr>\n",
       "      <th>421</th>\n",
       "      <td>3973</td>\n",
       "      <td>1920</td>\n",
       "      <td>1.330261</td>\n",
       "    </tr>\n",
       "    <tr>\n",
       "      <th>422</th>\n",
       "      <td>3973</td>\n",
       "      <td>1107</td>\n",
       "      <td>1.297826</td>\n",
       "    </tr>\n",
       "    <tr>\n",
       "      <th>423</th>\n",
       "      <td>3203</td>\n",
       "      <td>425</td>\n",
       "      <td>1.970642</td>\n",
       "    </tr>\n",
       "    <tr>\n",
       "      <th>424</th>\n",
       "      <td>3203</td>\n",
       "      <td>1920</td>\n",
       "      <td>1.783917</td>\n",
       "    </tr>\n",
       "    <tr>\n",
       "      <th>425</th>\n",
       "      <td>3203</td>\n",
       "      <td>1107</td>\n",
       "      <td>1.756407</td>\n",
       "    </tr>\n",
       "  </tbody>\n",
       "</table>\n",
       "<p>421 rows × 3 columns</p>\n",
       "</div>"
      ],
      "text/plain": [
       "     userID  itemID  prediction\n",
       "0       405    1789    2.622111\n",
       "1       405    1920    2.546778\n",
       "2       405    1107    2.510177\n",
       "3       266    1920   11.071714\n",
       "4       266     926   10.846996\n",
       "..      ...     ...         ...\n",
       "421    3973    1920    1.330261\n",
       "422    3973    1107    1.297826\n",
       "423    3203     425    1.970642\n",
       "424    3203    1920    1.783917\n",
       "425    3203    1107    1.756407\n",
       "\n",
       "[421 rows x 3 columns]"
      ]
     },
     "execution_count": 14,
     "metadata": {},
     "output_type": "execute_result"
    }
   ],
   "source": [
    "model.recommend_k_items(\n",
    "    dataloader.test, \n",
    "    top_k=3, \n",
    "    use_id=True, \n",
    "    remove_seen=True, \n",
    "    recommend_from=folds[-1][3]\n",
    ")"
   ]
  },
  {
   "cell_type": "code",
   "execution_count": 15,
   "id": "ef766f48-b9b1-4ec6-b2ba-9c3d5b54d40b",
   "metadata": {
    "execution": {
     "iopub.execute_input": "2024-03-21T15:04:11.569840Z",
     "iopub.status.busy": "2024-03-21T15:04:11.569676Z",
     "iopub.status.idle": "2024-03-21T15:04:11.594770Z",
     "shell.execute_reply": "2024-03-21T15:04:11.594527Z"
    },
    "papermill": {
     "duration": 0.030322,
     "end_time": "2024-03-21T15:04:11.596134",
     "exception": false,
     "start_time": "2024-03-21T15:04:11.565812",
     "status": "completed"
    },
    "tags": []
   },
   "outputs": [],
   "source": [
    "# problem_prop = 'b926a2eb-e2c7-5d0d-bbec-015efe30edde'\n",
    "\n",
    "# tr, te, t, open_proposals = folds[-1]\n",
    "# print(\"t:\", t)\n",
    "# print(\"In open?: \", problem_prop in set(open_proposals))\n",
    "# print(\"In Train?:\", any(tr['itemID'] == problem_prop))\n",
    "# print(\"In Test?: \", any(te['itemID'] == problem_prop))\n",
    "# print(\"In dfv?:  \", in_dfv := any(dfv['proposal'] == problem_prop))\n",
    "# if in_dfv:\n",
    "#     display(dfv[dfv['proposal'] == problem_prop])\n",
    "\n",
    "# dfp.set_index('id').loc[problem_prop]"
   ]
  },
  {
   "cell_type": "code",
   "execution_count": 16,
   "id": "799a41c8-6c27-40c7-af22-0f9eb46f8a59",
   "metadata": {
    "execution": {
     "iopub.execute_input": "2024-03-21T15:04:11.602769Z",
     "iopub.status.busy": "2024-03-21T15:04:11.602569Z",
     "iopub.status.idle": "2024-03-21T15:04:11.633915Z",
     "shell.execute_reply": "2024-03-21T15:04:11.633547Z"
    },
    "papermill": {
     "duration": 0.036351,
     "end_time": "2024-03-21T15:04:11.635422",
     "exception": false,
     "start_time": "2024-03-21T15:04:11.599071",
     "status": "completed"
    },
    "tags": []
   },
   "outputs": [],
   "source": [
    "# Free the resources\n",
    "del model\n",
    "del dataloader"
   ]
  },
  {
   "cell_type": "markdown",
   "id": "d994a5dd-efe5-47bf-a8a1-803316d9fc75",
   "metadata": {
    "papermill": {
     "duration": 0.003213,
     "end_time": "2024-03-21T15:04:11.641736",
     "exception": false,
     "start_time": "2024-03-21T15:04:11.638523",
     "status": "completed"
    },
    "tags": []
   },
   "source": [
    "# Defining trainer"
   ]
  },
  {
   "cell_type": "code",
   "execution_count": 17,
   "id": "a5d010bf-3a9c-4931-9d02-6589b3164438",
   "metadata": {
    "execution": {
     "iopub.execute_input": "2024-03-21T15:04:11.648418Z",
     "iopub.status.busy": "2024-03-21T15:04:11.648263Z",
     "iopub.status.idle": "2024-03-21T15:04:11.677199Z",
     "shell.execute_reply": "2024-03-21T15:04:11.676845Z"
    },
    "papermill": {
     "duration": 0.033515,
     "end_time": "2024-03-21T15:04:11.678093",
     "exception": false,
     "start_time": "2024-03-21T15:04:11.644578",
     "status": "completed"
    },
    "scrolled": true,
    "tags": []
   },
   "outputs": [],
   "source": [
    "from recommenders.evaluation.python_evaluation import map_at_k, ndcg_at_k, precision_at_k, recall_at_k\n",
    "\n",
    "class TrainLightGCN(tune.Trainable):\n",
    "    def setup(\n",
    "        self,\n",
    "        config: Dict[str, Any],\n",
    "        data,\n",
    "    ):\n",
    "        self.config = config\n",
    "\n",
    "        self.hparams = prepare_hparams(\n",
    "            model_type='lightgcn',\n",
    "            n_layers=config['conv_layers'],\n",
    "            batch_size=2**config['batch_size'],\n",
    "            embed_size=config['embedding_dim'],\n",
    "            epochs=EPOCHS_PER_ITER,\n",
    "            learning_rate=config['learning_rate'],\n",
    "            decay=config['l2'],\n",
    "            metrics=METRICS,\n",
    "            eval_epoch=-1,\n",
    "            top_k=TOP_K[0],\n",
    "            save_model=False,\n",
    "            MODEL_DIR='./data/model/lightgcn/',\n",
    "        )\n",
    "\n",
    "        train, test, self.t, self.open_proposals = data\n",
    "        self.dataloader = ImplicitCF(train=train, test=test, seed=SEED)\n",
    "        self.model = LightGCNCustom(self.hparams, self.dataloader, seed=SEED)\n",
    "        self.total_train = 0\n",
    "        self.total_eval = 0\n",
    "\n",
    "    @property\n",
    "    def iteration(self):\n",
    "        return self.model.epochs_done\n",
    "\n",
    "    @property\n",
    "    def training_iteration(self):\n",
    "        return self.model.epochs_done\n",
    "\n",
    "    def step(self):\n",
    "        \"\"\"\n",
    "        As a rule of thumb, the execution time of step should be large enough to avoid overheads \n",
    "        (i.e. more than a few seconds), but short enough to report progress periodically \n",
    "        (i.e. at most a few minutes).\n",
    "        \"\"\"\n",
    "        assert EPOCHS_PER_ITER > 0\n",
    "\n",
    "        train_start = time.time()\n",
    "        for _ in range(EPOCHS_PER_ITER):\n",
    "            ret = self.model.fit_epoch()\n",
    "        eval_start = train_end = time.time()\n",
    "\n",
    "        eval_dict = {'model_'+k:v for k,v in zip(self.model.metrics, self.model.run_eval())}\n",
    "        for k in TOP_K:\n",
    "            recs = self.model.recommend_k_items(\n",
    "                self.dataloader.test, \n",
    "                top_k=k,\n",
    "                use_id=True, \n",
    "                remove_seen=True, \n",
    "                recommend_from=self.open_proposals,\n",
    "            )\n",
    "            \n",
    "            eval_dict[f'precision@{k}'] = precision_at_k(self.dataloader.test, recs, k=k)\n",
    "            eval_dict[f'ndcg@{k}'] = ndcg_at_k(self.dataloader.test, recs, k=k)\n",
    "            eval_dict[f'recall@{k}'] = recall_at_k(self.dataloader.test, recs, k=k)\n",
    "            eval_dict[f'map@{k}'] = map_at_k(self.dataloader.test, recs, k=k)\n",
    "\n",
    "        eval_end = time.time()\n",
    "\n",
    "        self.total_train += train_end - train_start\n",
    "        self.total_eval += eval_end - eval_start\n",
    "        \n",
    "        return {\n",
    "            'iteration': self.iteration,\n",
    "            'loss': ret[0],\n",
    "            'mf_loss': ret[1],\n",
    "            'emb_loss': ret[2],\n",
    "            **eval_dict,\n",
    "            'time_train': train_end-train_start,\n",
    "            'time_test': eval_end-eval_start,\n",
    "            'time_total_train': self.total_train,\n",
    "            'time_total_test': self.total_eval,\n",
    "        }\n",
    "\n",
    "    def save_checkpoint(self, checkpoint_dir):\n",
    "        checkpoint_path = os.path.join(checkpoint_dir, \"model\")\n",
    "        self.model.saver.save(\n",
    "            sess=self.model.sess,\n",
    "            save_path=checkpoint_path,\n",
    "        )\n",
    "        return checkpoint_dir\n",
    "\n",
    "    def load_checkpoint(self, checkpoint_path):\n",
    "        self.model.load(checkpoint_path)"
   ]
  },
  {
   "cell_type": "markdown",
   "id": "16276fe4-d63d-4e7a-bcc8-38d8f5be299c",
   "metadata": {
    "papermill": {
     "duration": 0.003056,
     "end_time": "2024-03-21T15:04:11.684542",
     "exception": false,
     "start_time": "2024-03-21T15:04:11.681486",
     "status": "completed"
    },
    "tags": []
   },
   "source": [
    "# Big experiment"
   ]
  },
  {
   "cell_type": "code",
   "execution_count": 18,
   "id": "427c4b72-593a-41ff-9fd6-991e8e3a0445",
   "metadata": {
    "execution": {
     "iopub.execute_input": "2024-03-21T15:04:11.691315Z",
     "iopub.status.busy": "2024-03-21T15:04:11.691034Z",
     "iopub.status.idle": "2024-03-21T15:04:11.715303Z",
     "shell.execute_reply": "2024-03-21T15:04:11.714967Z"
    },
    "papermill": {
     "duration": 0.02912,
     "end_time": "2024-03-21T15:04:11.716635",
     "exception": false,
     "start_time": "2024-03-21T15:04:11.687515",
     "status": "completed"
    },
    "tags": []
   },
   "outputs": [
    {
     "data": {
      "text/plain": [
       "PosixPath('/home/daviddavo/ray_results')"
      ]
     },
     "execution_count": 18,
     "metadata": {},
     "output_type": "execute_result"
    }
   ],
   "source": [
    "RAY_RESULTS_PATH"
   ]
  },
  {
   "cell_type": "code",
   "execution_count": 19,
   "id": "d3cc56a8-9add-4c1d-a15b-99593e11c686",
   "metadata": {
    "execution": {
     "iopub.execute_input": "2024-03-21T15:04:11.723288Z",
     "iopub.status.busy": "2024-03-21T15:04:11.723154Z",
     "iopub.status.idle": "2024-03-21T15:04:11.745451Z",
     "shell.execute_reply": "2024-03-21T15:04:11.745213Z"
    },
    "papermill": {
     "duration": 0.026637,
     "end_time": "2024-03-21T15:04:11.746212",
     "exception": false,
     "start_time": "2024-03-21T15:04:11.719575",
     "status": "completed"
    },
    "tags": []
   },
   "outputs": [],
   "source": [
    "MAX_EMBEDDING_DIM = 1024\n",
    "MAX_BATCH_SIZE = 10 # 2**10\n",
    "MIN_LR = 1e-4\n",
    "GPUS = 16\n",
    "\n",
    "if ORG_NAME in ['PancakeSwap', 'Aave - Aavegotchi']:\n",
    "    MAX_EMBEDDING_DIM = 256\n",
    "    MAX_BATCH_SIZE = 14\n",
    "    GPUS = 4\n",
    "    MIN_LR = 1e-2\n",
    "elif ORG_NAME in ['DEAD FoundationsDAO']:\n",
    "    GPUS = 20"
   ]
  },
  {
   "cell_type": "code",
   "execution_count": 20,
   "id": "019cecb8-4733-4947-9425-f7f9a690cd92",
   "metadata": {
    "execution": {
     "iopub.execute_input": "2024-03-21T15:04:11.752835Z",
     "iopub.status.busy": "2024-03-21T15:04:11.752549Z",
     "iopub.status.idle": "2024-03-21T15:04:11.775087Z",
     "shell.execute_reply": "2024-03-21T15:04:11.774852Z"
    },
    "papermill": {
     "duration": 0.026619,
     "end_time": "2024-03-21T15:04:11.775804",
     "exception": false,
     "start_time": "2024-03-21T15:04:11.749185",
     "status": "completed"
    },
    "tags": []
   },
   "outputs": [
    {
     "name": "stdout",
     "output_type": "stream",
     "text": [
      "lamarck\n",
      "{'cpu': 1, 'gpu': 0.0625}\n"
     ]
    }
   ],
   "source": [
    "print(os.uname().nodename)\n",
    "\n",
    "### SET TRAINING RESOURCES\n",
    "if os.uname().nodename == 'lamarck':\n",
    "    # assert torch.cuda.is_available()\n",
    "\n",
    "    NUM_SAMPLES = SAMPLES_PER_SPLIT\n",
    "    # Every run takes approx half a gig of vram (no optimizations)\n",
    "    # The RTX 4090 has 24GB so we can run the model about 48 times\n",
    "    resources_per_trial={\n",
    "        'cpu': 1,\n",
    "        'gpu': 1 / GPUS,\n",
    "    }\n",
    "else:\n",
    "    NUM_SAMPLES = 1\n",
    "    resources_per_trial={\n",
    "        'cpu': 1,\n",
    "        # It takes about 1.5 GiB with full training data, but I put a bit more because\n",
    "        # this notebook also takes a bit of memory\n",
    "        'memory': 2e9,\n",
    "    }\n",
    "print(resources_per_trial)"
   ]
  },
  {
   "cell_type": "code",
   "execution_count": 21,
   "id": "a5ad6f33-effe-4f48-850e-8044af3a88dc",
   "metadata": {
    "editable": true,
    "execution": {
     "iopub.execute_input": "2024-03-21T15:04:11.782525Z",
     "iopub.status.busy": "2024-03-21T15:04:11.782422Z",
     "iopub.status.idle": "2024-03-21T15:04:11.855048Z",
     "shell.execute_reply": "2024-03-21T15:04:11.854756Z"
    },
    "papermill": {
     "duration": 0.077254,
     "end_time": "2024-03-21T15:04:11.856102",
     "exception": false,
     "start_time": "2024-03-21T15:04:11.778848",
     "status": "completed"
    },
    "slideshow": {
     "slide_type": ""
    },
    "tags": []
   },
   "outputs": [],
   "source": [
    "from ray.tune.search.hyperopt import HyperOptSearch\n",
    "import datetime as dt\n",
    "from src import paths\n",
    "\n",
    "def getTunerOnFold(f, points_to_evaluate = None):\n",
    "    name = f'LightGCN_optim={OPTIM_METRIC},dao={ORG_NAME},freq={SPLITS_FREQ},normalize={SPLITS_NORMALIZE},cutoff_date={CUTOFF_DATE.isoformat()},fold={f}'\n",
    "    paths = list(RAY_RESULTS_PATH.glob(f'{name}_*'))\n",
    "    last_experiment = max(paths, key=lambda x: x.stat().st_ctime) if paths else None\n",
    "\n",
    "    dftrain,dftest,t,open_proposals = folds[f]\n",
    "    param_space = dict(\n",
    "        fold=f,\n",
    "        batch_size=tune.randint(6, MAX_BATCH_SIZE), # 64 - 1024\n",
    "        embedding_dim=tune.lograndint(1, MAX_EMBEDDING_DIM, base=2),\n",
    "        conv_layers=tune.randint(1,6),\n",
    "        learning_rate=tune.qloguniform(MIN_LR, 1, 1e-4),\n",
    "        l2=tune.loguniform(1e-7, 1e-2, 1e-7),\n",
    "    )\n",
    "    \n",
    "    ### RESTORE EXPERIMENT OR CREATE A NEW ONE\n",
    "    if last_experiment and tune.Tuner.can_restore(last_experiment):\n",
    "        print(f\"Restoring last experiment: {last_experiment}\")\n",
    "        tuner = tune.Tuner.restore(\n",
    "            str(last_experiment),\n",
    "            trainable=tune.with_resources(\n",
    "                # tune.with_parameters(TrainLightGCN,  train=dftrain, test=dftest, open_proposals=open_proposals),\n",
    "                tune.with_parameters(TrainLightGCN, data=folds[f]),\n",
    "                resources_per_trial,\n",
    "            ),\n",
    "            restart_errored=True,\n",
    "            param_space=param_space,\n",
    "        )\n",
    "    else:\n",
    "        print(f\"No experiment found for fold {f}, creating new tuner with {NUM_SAMPLES} samples\")\n",
    "        search_alg = None\n",
    "        search_alg = HyperOptSearch(\n",
    "            # points_to_evaluate=[{\n",
    "            #     'batch_size': 8, # 2**8 = 256\n",
    "            #     'learning_rate': 10e-2,\n",
    "            #     'l2': 10e-6,\n",
    "            #     'embedding_dim': 100,\n",
    "            #     'conv_layers': 3,\n",
    "            # }],\n",
    "            points_to_evaluate = points_to_evaluate,\n",
    "            random_state_seed=SEED,\n",
    "        )\n",
    "        # search_alg = tune.search.Repeater(search_alg, N_SPLITS-SKIP_SPLIT)\n",
    "        \n",
    "        tuner = tune.Tuner(\n",
    "            tune.with_resources(\n",
    "                # tune.with_parameters(TrainLightGCN,  train=dftrain, test=dftest, open_proposals=open_proposals),\n",
    "                tune.with_parameters(TrainLightGCN, data=folds[f]),\n",
    "                resources_per_trial,\n",
    "            ),\n",
    "            run_config=train.RunConfig(\n",
    "                stop={'training_iteration': MAX_EPOCHS/EPOCHS_PER_ITER, 'time_total_train': 300},\n",
    "                name=name + f'_{dt.datetime.now().isoformat()}',\n",
    "                storage_path=RAY_RESULTS_PATH,\n",
    "                # failure_config=train.FailureConfig(fail_fast='raise'),\n",
    "                failure_config=train.FailureConfig(max_failures=3),\n",
    "            ),\n",
    "            param_space=param_space,\n",
    "            tune_config=tune.TuneConfig(\n",
    "                search_alg=search_alg,\n",
    "                num_samples=NUM_SAMPLES,\n",
    "                metric=OPTIM_METRIC,\n",
    "                mode='max',\n",
    "            )\n",
    "        )\n",
    "\n",
    "    return tuner"
   ]
  },
  {
   "cell_type": "code",
   "execution_count": 22,
   "id": "c968ecd5-d62c-4d57-846f-4bb7202a97c1",
   "metadata": {
    "execution": {
     "iopub.execute_input": "2024-03-21T15:04:11.863804Z",
     "iopub.status.busy": "2024-03-21T15:04:11.863645Z",
     "iopub.status.idle": "2024-03-21T21:42:13.814278Z",
     "shell.execute_reply": "2024-03-21T21:42:13.813802Z"
    },
    "papermill": {
     "duration": 23881.955664,
     "end_time": "2024-03-21T21:42:13.815277",
     "exception": false,
     "start_time": "2024-03-21T15:04:11.859613",
     "status": "completed"
    },
    "tags": []
   },
   "outputs": [
    {
     "data": {
      "text/html": [
       "<div class=\"tuneStatus\">\n",
       "  <div style=\"display: flex;flex-direction: row\">\n",
       "    <div style=\"display: flex;flex-direction: column;\">\n",
       "      <h3>Tune Status</h3>\n",
       "      <table>\n",
       "<tbody>\n",
       "<tr><td>Current time:</td><td>2024-03-21 21:42:13</td></tr>\n",
       "<tr><td>Running for: </td><td>00:42:52.81        </td></tr>\n",
       "<tr><td>Memory:      </td><td>11.9/125.6 GiB     </td></tr>\n",
       "</tbody>\n",
       "</table>\n",
       "    </div>\n",
       "    <div class=\"vDivider\"></div>\n",
       "    <div class=\"systemInfo\">\n",
       "      <h3>System Info</h3>\n",
       "      Using FIFO scheduling algorithm.<br>Logical resource usage: 1.0/24 CPUs, 0.0625/1 GPUs (0.0/1.0 accelerator_type:G)\n",
       "    </div>\n",
       "    \n",
       "  </div>\n",
       "  <div class=\"hDivider\"></div>\n",
       "  <div class=\"trialStatus\">\n",
       "    <h3>Trial Status</h3>\n",
       "    <table>\n",
       "<thead>\n",
       "<tr><th>Trial name            </th><th>status    </th><th>loc                  </th><th style=\"text-align: right;\">  batch_size</th><th style=\"text-align: right;\">  conv_layers</th><th style=\"text-align: right;\">  embedding_dim</th><th style=\"text-align: right;\">  fold</th><th style=\"text-align: right;\">         l2</th><th style=\"text-align: right;\">  learning_rate</th><th style=\"text-align: right;\">  iter</th><th style=\"text-align: right;\">  total time (s)</th><th style=\"text-align: right;\">  iteration</th><th style=\"text-align: right;\">        loss</th><th style=\"text-align: right;\">     mf_loss</th></tr>\n",
       "</thead>\n",
       "<tbody>\n",
       "<tr><td>TrainLightGCN_6055b45b</td><td>TERMINATED</td><td>147.96.81.131:3507204</td><td style=\"text-align: right;\">           8</td><td style=\"text-align: right;\">            2</td><td style=\"text-align: right;\">             10</td><td style=\"text-align: right;\">     9</td><td style=\"text-align: right;\">3.94977e-06</td><td style=\"text-align: right;\">         0.0019</td><td style=\"text-align: right;\">    11</td><td style=\"text-align: right;\">         327.578</td><td style=\"text-align: right;\">         55</td><td style=\"text-align: right;\">  0.0339127 </td><td style=\"text-align: right;\">  0.0337963 </td></tr>\n",
       "<tr><td>TrainLightGCN_d6e64601</td><td>TERMINATED</td><td>147.96.81.131:3507343</td><td style=\"text-align: right;\">           8</td><td style=\"text-align: right;\">            5</td><td style=\"text-align: right;\">             29</td><td style=\"text-align: right;\">     9</td><td style=\"text-align: right;\">2.8606e-05 </td><td style=\"text-align: right;\">         0.2347</td><td style=\"text-align: right;\">    10</td><td style=\"text-align: right;\">         329.724</td><td style=\"text-align: right;\">         50</td><td style=\"text-align: right;\">  0.657063  </td><td style=\"text-align: right;\">  0.466804  </td></tr>\n",
       "<tr><td>TrainLightGCN_9bf6ebb2</td><td>TERMINATED</td><td>147.96.81.131:3507505</td><td style=\"text-align: right;\">           9</td><td style=\"text-align: right;\">            3</td><td style=\"text-align: right;\">              5</td><td style=\"text-align: right;\">     9</td><td style=\"text-align: right;\">5.24282e-05</td><td style=\"text-align: right;\">         0.22  </td><td style=\"text-align: right;\">    17</td><td style=\"text-align: right;\">         317.783</td><td style=\"text-align: right;\">         85</td><td style=\"text-align: right;\">  0.190394  </td><td style=\"text-align: right;\">  0.180266  </td></tr>\n",
       "<tr><td>TrainLightGCN_9936e2de</td><td>TERMINATED</td><td>147.96.81.131:3507667</td><td style=\"text-align: right;\">           7</td><td style=\"text-align: right;\">            4</td><td style=\"text-align: right;\">            306</td><td style=\"text-align: right;\">     9</td><td style=\"text-align: right;\">8.92312e-07</td><td style=\"text-align: right;\">         0.0065</td><td style=\"text-align: right;\">     4</td><td style=\"text-align: right;\">         313.629</td><td style=\"text-align: right;\">         20</td><td style=\"text-align: right;\">  0.00647752</td><td style=\"text-align: right;\">  0.00624604</td></tr>\n",
       "<tr><td>TrainLightGCN_7b432d71</td><td>TERMINATED</td><td>147.96.81.131:3507828</td><td style=\"text-align: right;\">           7</td><td style=\"text-align: right;\">            3</td><td style=\"text-align: right;\">            217</td><td style=\"text-align: right;\">     9</td><td style=\"text-align: right;\">2.79193e-05</td><td style=\"text-align: right;\">         0.0005</td><td style=\"text-align: right;\">     4</td><td style=\"text-align: right;\">         322.447</td><td style=\"text-align: right;\">         20</td><td style=\"text-align: right;\">  0.0368954 </td><td style=\"text-align: right;\">  0.035918  </td></tr>\n",
       "<tr><td>TrainLightGCN_fc9f86ed</td><td>TERMINATED</td><td>147.96.81.131:3507996</td><td style=\"text-align: right;\">           7</td><td style=\"text-align: right;\">            4</td><td style=\"text-align: right;\">              7</td><td style=\"text-align: right;\">     9</td><td style=\"text-align: right;\">0.00397996 </td><td style=\"text-align: right;\">         0.0038</td><td style=\"text-align: right;\">     4</td><td style=\"text-align: right;\">         324.689</td><td style=\"text-align: right;\">         20</td><td style=\"text-align: right;\">  0.135671  </td><td style=\"text-align: right;\">  0.0794369 </td></tr>\n",
       "<tr><td>TrainLightGCN_b449068c</td><td>TERMINATED</td><td>147.96.81.131:3508157</td><td style=\"text-align: right;\">           7</td><td style=\"text-align: right;\">            3</td><td style=\"text-align: right;\">              4</td><td style=\"text-align: right;\">     9</td><td style=\"text-align: right;\">0.0011209  </td><td style=\"text-align: right;\">         0.0002</td><td style=\"text-align: right;\">     4</td><td style=\"text-align: right;\">         326.46 </td><td style=\"text-align: right;\">         20</td><td style=\"text-align: right;\">  0.328032  </td><td style=\"text-align: right;\">  0.321848  </td></tr>\n",
       "<tr><td>TrainLightGCN_35f02042</td><td>TERMINATED</td><td>147.96.81.131:3508320</td><td style=\"text-align: right;\">           8</td><td style=\"text-align: right;\">            4</td><td style=\"text-align: right;\">            412</td><td style=\"text-align: right;\">     9</td><td style=\"text-align: right;\">0.00406073 </td><td style=\"text-align: right;\">         0.0014</td><td style=\"text-align: right;\">     7</td><td style=\"text-align: right;\">         306.107</td><td style=\"text-align: right;\">         35</td><td style=\"text-align: right;\">  0.119313  </td><td style=\"text-align: right;\">  0.050653  </td></tr>\n",
       "<tr><td>TrainLightGCN_7e4d39dc</td><td>TERMINATED</td><td>147.96.81.131:3508486</td><td style=\"text-align: right;\">           6</td><td style=\"text-align: right;\">            1</td><td style=\"text-align: right;\">            206</td><td style=\"text-align: right;\">     9</td><td style=\"text-align: right;\">6.80694e-06</td><td style=\"text-align: right;\">         0.0085</td><td style=\"text-align: right;\">     2</td><td style=\"text-align: right;\">         325.319</td><td style=\"text-align: right;\">         10</td><td style=\"text-align: right;\">  0.021966  </td><td style=\"text-align: right;\">  0.0206773 </td></tr>\n",
       "<tr><td>TrainLightGCN_b439491f</td><td>TERMINATED</td><td>147.96.81.131:3508647</td><td style=\"text-align: right;\">           9</td><td style=\"text-align: right;\">            4</td><td style=\"text-align: right;\">            114</td><td style=\"text-align: right;\">     9</td><td style=\"text-align: right;\">0.000527247</td><td style=\"text-align: right;\">         0.0001</td><td style=\"text-align: right;\">    14</td><td style=\"text-align: right;\">         306.459</td><td style=\"text-align: right;\">         70</td><td style=\"text-align: right;\">  0.144093  </td><td style=\"text-align: right;\">  0.135474  </td></tr>\n",
       "<tr><td>TrainLightGCN_50f8d99a</td><td>TERMINATED</td><td>147.96.81.131:3508813</td><td style=\"text-align: right;\">           7</td><td style=\"text-align: right;\">            3</td><td style=\"text-align: right;\">              5</td><td style=\"text-align: right;\">     9</td><td style=\"text-align: right;\">0.00605521 </td><td style=\"text-align: right;\">         0.2019</td><td style=\"text-align: right;\">     4</td><td style=\"text-align: right;\">         327.429</td><td style=\"text-align: right;\">         20</td><td style=\"text-align: right;\">  0.322786  </td><td style=\"text-align: right;\">  0.155343  </td></tr>\n",
       "<tr><td>TrainLightGCN_9d892dfa</td><td>TERMINATED</td><td>147.96.81.131:3508980</td><td style=\"text-align: right;\">           7</td><td style=\"text-align: right;\">            4</td><td style=\"text-align: right;\">             42</td><td style=\"text-align: right;\">     9</td><td style=\"text-align: right;\">0.000414829</td><td style=\"text-align: right;\">         0.0012</td><td style=\"text-align: right;\">     4</td><td style=\"text-align: right;\">         331.219</td><td style=\"text-align: right;\">         20</td><td style=\"text-align: right;\">  0.0626227 </td><td style=\"text-align: right;\">  0.0503432 </td></tr>\n",
       "<tr><td>TrainLightGCN_864d4242</td><td>TERMINATED</td><td>147.96.81.131:3509145</td><td style=\"text-align: right;\">           7</td><td style=\"text-align: right;\">            4</td><td style=\"text-align: right;\">              6</td><td style=\"text-align: right;\">     9</td><td style=\"text-align: right;\">2.66572e-07</td><td style=\"text-align: right;\">         0.4766</td><td style=\"text-align: right;\">     4</td><td style=\"text-align: right;\">         337.139</td><td style=\"text-align: right;\">         20</td><td style=\"text-align: right;\">  1.95134   </td><td style=\"text-align: right;\">  1.95055   </td></tr>\n",
       "<tr><td>TrainLightGCN_05ee3695</td><td>TERMINATED</td><td>147.96.81.131:3509310</td><td style=\"text-align: right;\">           8</td><td style=\"text-align: right;\">            4</td><td style=\"text-align: right;\">             87</td><td style=\"text-align: right;\">     9</td><td style=\"text-align: right;\">2.59656e-07</td><td style=\"text-align: right;\">         0.0004</td><td style=\"text-align: right;\">     8</td><td style=\"text-align: right;\">         348.915</td><td style=\"text-align: right;\">         40</td><td style=\"text-align: right;\">  0.0599813 </td><td style=\"text-align: right;\">  0.0599725 </td></tr>\n",
       "<tr><td>TrainLightGCN_8b22b0ef</td><td>TERMINATED</td><td>147.96.81.131:3509481</td><td style=\"text-align: right;\">           8</td><td style=\"text-align: right;\">            5</td><td style=\"text-align: right;\">             75</td><td style=\"text-align: right;\">     9</td><td style=\"text-align: right;\">1.39754e-06</td><td style=\"text-align: right;\">         0.0003</td><td style=\"text-align: right;\">     8</td><td style=\"text-align: right;\">         353.424</td><td style=\"text-align: right;\">         40</td><td style=\"text-align: right;\">  0.097016  </td><td style=\"text-align: right;\">  0.0969747 </td></tr>\n",
       "<tr><td>TrainLightGCN_8024ab35</td><td>TERMINATED</td><td>147.96.81.131:3509652</td><td style=\"text-align: right;\">           9</td><td style=\"text-align: right;\">            2</td><td style=\"text-align: right;\">              8</td><td style=\"text-align: right;\">     9</td><td style=\"text-align: right;\">0.00100612 </td><td style=\"text-align: right;\">         0.0201</td><td style=\"text-align: right;\">    15</td><td style=\"text-align: right;\">         333.271</td><td style=\"text-align: right;\">         75</td><td style=\"text-align: right;\">  0.0578713 </td><td style=\"text-align: right;\">  0.0368287 </td></tr>\n",
       "<tr><td>TrainLightGCN_f378db3a</td><td>TERMINATED</td><td>147.96.81.131:3510576</td><td style=\"text-align: right;\">           7</td><td style=\"text-align: right;\">            4</td><td style=\"text-align: right;\">             11</td><td style=\"text-align: right;\">     9</td><td style=\"text-align: right;\">3.54222e-06</td><td style=\"text-align: right;\">         0.0011</td><td style=\"text-align: right;\">     3</td><td style=\"text-align: right;\">         327.199</td><td style=\"text-align: right;\">         15</td><td style=\"text-align: right;\">  0.119624  </td><td style=\"text-align: right;\">  0.119553  </td></tr>\n",
       "<tr><td>TrainLightGCN_d2456a1c</td><td>TERMINATED</td><td>147.96.81.131:3510732</td><td style=\"text-align: right;\">           7</td><td style=\"text-align: right;\">            3</td><td style=\"text-align: right;\">             31</td><td style=\"text-align: right;\">     9</td><td style=\"text-align: right;\">0.00138468 </td><td style=\"text-align: right;\">         0.4767</td><td style=\"text-align: right;\">     3</td><td style=\"text-align: right;\">         333.378</td><td style=\"text-align: right;\">         15</td><td style=\"text-align: right;\">  6.00857   </td><td style=\"text-align: right;\">  1.79646   </td></tr>\n",
       "<tr><td>TrainLightGCN_037a5994</td><td>TERMINATED</td><td>147.96.81.131:3510905</td><td style=\"text-align: right;\">           9</td><td style=\"text-align: right;\">            4</td><td style=\"text-align: right;\">             47</td><td style=\"text-align: right;\">     9</td><td style=\"text-align: right;\">4.37236e-06</td><td style=\"text-align: right;\">         0.0763</td><td style=\"text-align: right;\">    11</td><td style=\"text-align: right;\">         317.286</td><td style=\"text-align: right;\">         55</td><td style=\"text-align: right;\">  0.0736117 </td><td style=\"text-align: right;\">  0.0653858 </td></tr>\n",
       "<tr><td>TrainLightGCN_08cd9eb3</td><td>TERMINATED</td><td>147.96.81.131:3511085</td><td style=\"text-align: right;\">           7</td><td style=\"text-align: right;\">            2</td><td style=\"text-align: right;\">            338</td><td style=\"text-align: right;\">     9</td><td style=\"text-align: right;\">1.08811e-07</td><td style=\"text-align: right;\">         0.0005</td><td style=\"text-align: right;\">     3</td><td style=\"text-align: right;\">         358.863</td><td style=\"text-align: right;\">         15</td><td style=\"text-align: right;\">  0.0253995 </td><td style=\"text-align: right;\">  0.0253961 </td></tr>\n",
       "<tr><td>TrainLightGCN_338395b3</td><td>TERMINATED</td><td>147.96.81.131:3511268</td><td style=\"text-align: right;\">           6</td><td style=\"text-align: right;\">            5</td><td style=\"text-align: right;\">            806</td><td style=\"text-align: right;\">     9</td><td style=\"text-align: right;\">0.000105655</td><td style=\"text-align: right;\">         0.0251</td><td style=\"text-align: right;\">     1</td><td style=\"text-align: right;\">         499.027</td><td style=\"text-align: right;\">          5</td><td style=\"text-align: right;\">  0.165999  </td><td style=\"text-align: right;\">  0.0614255 </td></tr>\n",
       "<tr><td>TrainLightGCN_090ad08d</td><td>TERMINATED</td><td>147.96.81.131:3511441</td><td style=\"text-align: right;\">           6</td><td style=\"text-align: right;\">            2</td><td style=\"text-align: right;\">              2</td><td style=\"text-align: right;\">     9</td><td style=\"text-align: right;\">1.38285e-05</td><td style=\"text-align: right;\">         0.0034</td><td style=\"text-align: right;\">     2</td><td style=\"text-align: right;\">         514.187</td><td style=\"text-align: right;\">         10</td><td style=\"text-align: right;\">  0.171164  </td><td style=\"text-align: right;\">  0.171017  </td></tr>\n",
       "<tr><td>TrainLightGCN_a386ed48</td><td>TERMINATED</td><td>147.96.81.131:3511609</td><td style=\"text-align: right;\">           6</td><td style=\"text-align: right;\">            3</td><td style=\"text-align: right;\">              2</td><td style=\"text-align: right;\">     9</td><td style=\"text-align: right;\">0.000150311</td><td style=\"text-align: right;\">         0.0001</td><td style=\"text-align: right;\">     2</td><td style=\"text-align: right;\">         518.582</td><td style=\"text-align: right;\">         10</td><td style=\"text-align: right;\">  0.565788  </td><td style=\"text-align: right;\">  0.565641  </td></tr>\n",
       "<tr><td>TrainLightGCN_b211ade6</td><td>TERMINATED</td><td>147.96.81.131:3511781</td><td style=\"text-align: right;\">           6</td><td style=\"text-align: right;\">            1</td><td style=\"text-align: right;\">             16</td><td style=\"text-align: right;\">     9</td><td style=\"text-align: right;\">0.000136822</td><td style=\"text-align: right;\">         0.0043</td><td style=\"text-align: right;\">     2</td><td style=\"text-align: right;\">         521.411</td><td style=\"text-align: right;\">         10</td><td style=\"text-align: right;\">  0.0295336 </td><td style=\"text-align: right;\">  0.0264016 </td></tr>\n",
       "<tr><td>TrainLightGCN_db5affde</td><td>TERMINATED</td><td>147.96.81.131:3511951</td><td style=\"text-align: right;\">           6</td><td style=\"text-align: right;\">            5</td><td style=\"text-align: right;\">           1010</td><td style=\"text-align: right;\">     9</td><td style=\"text-align: right;\">2.29099e-05</td><td style=\"text-align: right;\">         0.017 </td><td style=\"text-align: right;\">     1</td><td style=\"text-align: right;\">         616.886</td><td style=\"text-align: right;\">          5</td><td style=\"text-align: right;\">  0.0739037 </td><td style=\"text-align: right;\">  0.0460449 </td></tr>\n",
       "<tr><td>TrainLightGCN_7844acc4</td><td>TERMINATED</td><td>147.96.81.131:3512125</td><td style=\"text-align: right;\">           7</td><td style=\"text-align: right;\">            3</td><td style=\"text-align: right;\">              1</td><td style=\"text-align: right;\">     9</td><td style=\"text-align: right;\">0.00995391 </td><td style=\"text-align: right;\">         0.0007</td><td style=\"text-align: right;\">     3</td><td style=\"text-align: right;\">         399.98 </td><td style=\"text-align: right;\">         15</td><td style=\"text-align: right;\">  0.38215   </td><td style=\"text-align: right;\">  0.347327  </td></tr>\n",
       "<tr><td>TrainLightGCN_3f26d43f</td><td>TERMINATED</td><td>147.96.81.131:3512297</td><td style=\"text-align: right;\">           7</td><td style=\"text-align: right;\">            2</td><td style=\"text-align: right;\">            571</td><td style=\"text-align: right;\">     9</td><td style=\"text-align: right;\">0.000287927</td><td style=\"text-align: right;\">         0.0002</td><td style=\"text-align: right;\">     3</td><td style=\"text-align: right;\">         399.918</td><td style=\"text-align: right;\">         15</td><td style=\"text-align: right;\">  0.0488974 </td><td style=\"text-align: right;\">  0.0422893 </td></tr>\n",
       "<tr><td>TrainLightGCN_31fc4a29</td><td>TERMINATED</td><td>147.96.81.131:3512469</td><td style=\"text-align: right;\">           6</td><td style=\"text-align: right;\">            5</td><td style=\"text-align: right;\">            127</td><td style=\"text-align: right;\">     9</td><td style=\"text-align: right;\">0.000301029</td><td style=\"text-align: right;\">         0.0017</td><td style=\"text-align: right;\">     2</td><td style=\"text-align: right;\">         532.205</td><td style=\"text-align: right;\">         10</td><td style=\"text-align: right;\">  0.0520417 </td><td style=\"text-align: right;\">  0.0386528 </td></tr>\n",
       "<tr><td>TrainLightGCN_8455a51d</td><td>TERMINATED</td><td>147.96.81.131:3512650</td><td style=\"text-align: right;\">           8</td><td style=\"text-align: right;\">            3</td><td style=\"text-align: right;\">            193</td><td style=\"text-align: right;\">     9</td><td style=\"text-align: right;\">9.81934e-06</td><td style=\"text-align: right;\">         0.0002</td><td style=\"text-align: right;\">     5</td><td style=\"text-align: right;\">         331.342</td><td style=\"text-align: right;\">         25</td><td style=\"text-align: right;\">  0.0848283 </td><td style=\"text-align: right;\">  0.084617  </td></tr>\n",
       "<tr><td>TrainLightGCN_97a74f50</td><td>TERMINATED</td><td>147.96.81.131:3512866</td><td style=\"text-align: right;\">           7</td><td style=\"text-align: right;\">            1</td><td style=\"text-align: right;\">             17</td><td style=\"text-align: right;\">     9</td><td style=\"text-align: right;\">7.62529e-05</td><td style=\"text-align: right;\">         0.0008</td><td style=\"text-align: right;\">     3</td><td style=\"text-align: right;\">         409.552</td><td style=\"text-align: right;\">         15</td><td style=\"text-align: right;\">  0.0594446 </td><td style=\"text-align: right;\">  0.0582715 </td></tr>\n",
       "<tr><td>TrainLightGCN_8623dd25</td><td>TERMINATED</td><td>147.96.81.131:3513021</td><td style=\"text-align: right;\">           8</td><td style=\"text-align: right;\">            2</td><td style=\"text-align: right;\">             43</td><td style=\"text-align: right;\">     9</td><td style=\"text-align: right;\">3.72579e-05</td><td style=\"text-align: right;\">         0.0025</td><td style=\"text-align: right;\">     5</td><td style=\"text-align: right;\">         335.368</td><td style=\"text-align: right;\">         25</td><td style=\"text-align: right;\">  0.0177954 </td><td style=\"text-align: right;\">  0.0164283 </td></tr>\n",
       "<tr><td>TrainLightGCN_c67452ee</td><td>TERMINATED</td><td>147.96.81.131:3513199</td><td style=\"text-align: right;\">           8</td><td style=\"text-align: right;\">            5</td><td style=\"text-align: right;\">             54</td><td style=\"text-align: right;\">     9</td><td style=\"text-align: right;\">0.00218981 </td><td style=\"text-align: right;\">         0.0001</td><td style=\"text-align: right;\">     5</td><td style=\"text-align: right;\">         334.901</td><td style=\"text-align: right;\">         25</td><td style=\"text-align: right;\">  0.290874  </td><td style=\"text-align: right;\">  0.272467  </td></tr>\n",
       "<tr><td>TrainLightGCN_db59c9fa</td><td>TERMINATED</td><td>147.96.81.131:3514061</td><td style=\"text-align: right;\">           6</td><td style=\"text-align: right;\">            3</td><td style=\"text-align: right;\">             22</td><td style=\"text-align: right;\">     9</td><td style=\"text-align: right;\">0.000432288</td><td style=\"text-align: right;\">         0.0021</td><td style=\"text-align: right;\">     2</td><td style=\"text-align: right;\">         521.564</td><td style=\"text-align: right;\">         10</td><td style=\"text-align: right;\">  0.0587648 </td><td style=\"text-align: right;\">  0.0485411 </td></tr>\n",
       "<tr><td>TrainLightGCN_f8ac8003</td><td>TERMINATED</td><td>147.96.81.131:3514211</td><td style=\"text-align: right;\">           7</td><td style=\"text-align: right;\">            4</td><td style=\"text-align: right;\">            188</td><td style=\"text-align: right;\">     9</td><td style=\"text-align: right;\">2.27146e-05</td><td style=\"text-align: right;\">         0.0064</td><td style=\"text-align: right;\">     3</td><td style=\"text-align: right;\">         409.562</td><td style=\"text-align: right;\">         15</td><td style=\"text-align: right;\">  0.0119645 </td><td style=\"text-align: right;\">  0.00894569</td></tr>\n",
       "<tr><td>TrainLightGCN_9d626441</td><td>TERMINATED</td><td>147.96.81.131:3514385</td><td style=\"text-align: right;\">           7</td><td style=\"text-align: right;\">            3</td><td style=\"text-align: right;\">            528</td><td style=\"text-align: right;\">     9</td><td style=\"text-align: right;\">1.70847e-06</td><td style=\"text-align: right;\">         0.0422</td><td style=\"text-align: right;\">     3</td><td style=\"text-align: right;\">         408.74 </td><td style=\"text-align: right;\">         15</td><td style=\"text-align: right;\">  0.241665  </td><td style=\"text-align: right;\">  0.226375  </td></tr>\n",
       "<tr><td>TrainLightGCN_615a1d06</td><td>TERMINATED</td><td>147.96.81.131:3514675</td><td style=\"text-align: right;\">           7</td><td style=\"text-align: right;\">            4</td><td style=\"text-align: right;\">             67</td><td style=\"text-align: right;\">     9</td><td style=\"text-align: right;\">4.85494e-05</td><td style=\"text-align: right;\">         0.0011</td><td style=\"text-align: right;\">     3</td><td style=\"text-align: right;\">         400.65 </td><td style=\"text-align: right;\">         15</td><td style=\"text-align: right;\">  0.0550343 </td><td style=\"text-align: right;\">  0.0533199 </td></tr>\n",
       "<tr><td>TrainLightGCN_995a28c4</td><td>TERMINATED</td><td>147.96.81.131:3514923</td><td style=\"text-align: right;\">           6</td><td style=\"text-align: right;\">            5</td><td style=\"text-align: right;\">            128</td><td style=\"text-align: right;\">     9</td><td style=\"text-align: right;\">0.000262975</td><td style=\"text-align: right;\">         0.0003</td><td style=\"text-align: right;\">     2</td><td style=\"text-align: right;\">         512.624</td><td style=\"text-align: right;\">         10</td><td style=\"text-align: right;\">  0.141127  </td><td style=\"text-align: right;\">  0.135734  </td></tr>\n",
       "<tr><td>TrainLightGCN_accfc34f</td><td>TERMINATED</td><td>147.96.81.131:3515150</td><td style=\"text-align: right;\">           8</td><td style=\"text-align: right;\">            4</td><td style=\"text-align: right;\">            282</td><td style=\"text-align: right;\">     9</td><td style=\"text-align: right;\">0.000605402</td><td style=\"text-align: right;\">         0.0006</td><td style=\"text-align: right;\">     5</td><td style=\"text-align: right;\">         333.107</td><td style=\"text-align: right;\">         25</td><td style=\"text-align: right;\">  0.0597613 </td><td style=\"text-align: right;\">  0.0414779 </td></tr>\n",
       "<tr><td>TrainLightGCN_d9a639e8</td><td>TERMINATED</td><td>147.96.81.131:3515305</td><td style=\"text-align: right;\">           7</td><td style=\"text-align: right;\">            3</td><td style=\"text-align: right;\">             37</td><td style=\"text-align: right;\">     9</td><td style=\"text-align: right;\">0.00185208 </td><td style=\"text-align: right;\">         0.0059</td><td style=\"text-align: right;\">     3</td><td style=\"text-align: right;\">         383.938</td><td style=\"text-align: right;\">         15</td><td style=\"text-align: right;\">  0.0658477 </td><td style=\"text-align: right;\">  0.0293689 </td></tr>\n",
       "<tr><td>TrainLightGCN_0e85bf66</td><td>TERMINATED</td><td>147.96.81.131:3515526</td><td style=\"text-align: right;\">           7</td><td style=\"text-align: right;\">            4</td><td style=\"text-align: right;\">             11</td><td style=\"text-align: right;\">     9</td><td style=\"text-align: right;\">0.00333643 </td><td style=\"text-align: right;\">         0.0116</td><td style=\"text-align: right;\">     3</td><td style=\"text-align: right;\">         382.412</td><td style=\"text-align: right;\">         15</td><td style=\"text-align: right;\">  0.116295  </td><td style=\"text-align: right;\">  0.056871  </td></tr>\n",
       "<tr><td>TrainLightGCN_6fa541ec</td><td>TERMINATED</td><td>147.96.81.131:3515678</td><td style=\"text-align: right;\">           6</td><td style=\"text-align: right;\">            2</td><td style=\"text-align: right;\">             27</td><td style=\"text-align: right;\">     9</td><td style=\"text-align: right;\">1.41476e-05</td><td style=\"text-align: right;\">         0.0026</td><td style=\"text-align: right;\">     2</td><td style=\"text-align: right;\">         499.77 </td><td style=\"text-align: right;\">         10</td><td style=\"text-align: right;\">  0.029112  </td><td style=\"text-align: right;\">  0.0286999 </td></tr>\n",
       "<tr><td>TrainLightGCN_211e621b</td><td>TERMINATED</td><td>147.96.81.131:3515974</td><td style=\"text-align: right;\">           8</td><td style=\"text-align: right;\">            3</td><td style=\"text-align: right;\">             99</td><td style=\"text-align: right;\">     9</td><td style=\"text-align: right;\">6.81492e-07</td><td style=\"text-align: right;\">         0.0002</td><td style=\"text-align: right;\">     5</td><td style=\"text-align: right;\">         316.184</td><td style=\"text-align: right;\">         25</td><td style=\"text-align: right;\">  0.111447  </td><td style=\"text-align: right;\">  0.111435  </td></tr>\n",
       "<tr><td>TrainLightGCN_9276d5bb</td><td>TERMINATED</td><td>147.96.81.131:3516193</td><td style=\"text-align: right;\">           7</td><td style=\"text-align: right;\">            5</td><td style=\"text-align: right;\">              3</td><td style=\"text-align: right;\">     9</td><td style=\"text-align: right;\">7.03202e-05</td><td style=\"text-align: right;\">         0.0001</td><td style=\"text-align: right;\">     3</td><td style=\"text-align: right;\">         376.903</td><td style=\"text-align: right;\">         15</td><td style=\"text-align: right;\">  0.501492  </td><td style=\"text-align: right;\">  0.501353  </td></tr>\n",
       "<tr><td>TrainLightGCN_35c3a205</td><td>TERMINATED</td><td>147.96.81.131:3516417</td><td style=\"text-align: right;\">           8</td><td style=\"text-align: right;\">            4</td><td style=\"text-align: right;\">            153</td><td style=\"text-align: right;\">     9</td><td style=\"text-align: right;\">0.00953071 </td><td style=\"text-align: right;\">         0.001 </td><td style=\"text-align: right;\">     5</td><td style=\"text-align: right;\">         314.82 </td><td style=\"text-align: right;\">         25</td><td style=\"text-align: right;\">  0.191928  </td><td style=\"text-align: right;\">  0.0941445 </td></tr>\n",
       "<tr><td>TrainLightGCN_a9c3b340</td><td>TERMINATED</td><td>147.96.81.131:3516597</td><td style=\"text-align: right;\">           7</td><td style=\"text-align: right;\">            1</td><td style=\"text-align: right;\">            703</td><td style=\"text-align: right;\">     9</td><td style=\"text-align: right;\">3.70029e-06</td><td style=\"text-align: right;\">         0.0003</td><td style=\"text-align: right;\">     3</td><td style=\"text-align: right;\">         369.235</td><td style=\"text-align: right;\">         15</td><td style=\"text-align: right;\">  0.0164431 </td><td style=\"text-align: right;\">  0.0163344 </td></tr>\n",
       "<tr><td>TrainLightGCN_7d44a864</td><td>TERMINATED</td><td>147.96.81.131:3516777</td><td style=\"text-align: right;\">           6</td><td style=\"text-align: right;\">            4</td><td style=\"text-align: right;\">             68</td><td style=\"text-align: right;\">     9</td><td style=\"text-align: right;\">0.000870424</td><td style=\"text-align: right;\">         0.0098</td><td style=\"text-align: right;\">     2</td><td style=\"text-align: right;\">         476.333</td><td style=\"text-align: right;\">         10</td><td style=\"text-align: right;\">  0.0558088 </td><td style=\"text-align: right;\">  0.0233307 </td></tr>\n",
       "<tr><td>TrainLightGCN_2b798651</td><td>TERMINATED</td><td>147.96.81.131:3517048</td><td style=\"text-align: right;\">           9</td><td style=\"text-align: right;\">            3</td><td style=\"text-align: right;\">            279</td><td style=\"text-align: right;\">     9</td><td style=\"text-align: right;\">6.89178e-06</td><td style=\"text-align: right;\">         0.1021</td><td style=\"text-align: right;\">    10</td><td style=\"text-align: right;\">         314.081</td><td style=\"text-align: right;\">         50</td><td style=\"text-align: right;\">  0.443128  </td><td style=\"text-align: right;\">  0.291045  </td></tr>\n",
       "<tr><td>TrainLightGCN_4fd0b093</td><td>TERMINATED</td><td>147.96.81.131:3517394</td><td style=\"text-align: right;\">           7</td><td style=\"text-align: right;\">            4</td><td style=\"text-align: right;\">            367</td><td style=\"text-align: right;\">     9</td><td style=\"text-align: right;\">1.9171e-06 </td><td style=\"text-align: right;\">         0.0004</td><td style=\"text-align: right;\">     3</td><td style=\"text-align: right;\">         353.381</td><td style=\"text-align: right;\">         15</td><td style=\"text-align: right;\">  0.054982  </td><td style=\"text-align: right;\">  0.0549114 </td></tr>\n",
       "<tr><td>TrainLightGCN_20a5a051</td><td>TERMINATED</td><td>147.96.81.131:3517810</td><td style=\"text-align: right;\">           8</td><td style=\"text-align: right;\">            3</td><td style=\"text-align: right;\">            241</td><td style=\"text-align: right;\">     9</td><td style=\"text-align: right;\">5.02711e-07</td><td style=\"text-align: right;\">         0.0014</td><td style=\"text-align: right;\">     6</td><td style=\"text-align: right;\">         332.108</td><td style=\"text-align: right;\">         30</td><td style=\"text-align: right;\">  0.0124185 </td><td style=\"text-align: right;\">  0.0123855 </td></tr>\n",
       "<tr><td>TrainLightGCN_3d2ab1af</td><td>TERMINATED</td><td>147.96.81.131:3517959</td><td style=\"text-align: right;\">           7</td><td style=\"text-align: right;\">            2</td><td style=\"text-align: right;\">            444</td><td style=\"text-align: right;\">     9</td><td style=\"text-align: right;\">0.00583625 </td><td style=\"text-align: right;\">         0.0035</td><td style=\"text-align: right;\">     3</td><td style=\"text-align: right;\">         329.283</td><td style=\"text-align: right;\">         15</td><td style=\"text-align: right;\">  0.110255  </td><td style=\"text-align: right;\">  0.0375418 </td></tr>\n",
       "<tr><td>TrainLightGCN_4b0ac0e2</td><td>TERMINATED</td><td>147.96.81.131:3518188</td><td style=\"text-align: right;\">           6</td><td style=\"text-align: right;\">            4</td><td style=\"text-align: right;\">             15</td><td style=\"text-align: right;\">     9</td><td style=\"text-align: right;\">0.000195905</td><td style=\"text-align: right;\">         0.035 </td><td style=\"text-align: right;\">     2</td><td style=\"text-align: right;\">         407.046</td><td style=\"text-align: right;\">         10</td><td style=\"text-align: right;\">  0.0518697 </td><td style=\"text-align: right;\">  0.0351426 </td></tr>\n",
       "<tr><td>TrainLightGCN_1072b4b0</td><td>TERMINATED</td><td>147.96.81.131:3518373</td><td style=\"text-align: right;\">           7</td><td style=\"text-align: right;\">            5</td><td style=\"text-align: right;\">             24</td><td style=\"text-align: right;\">     9</td><td style=\"text-align: right;\">3.23249e-05</td><td style=\"text-align: right;\">         0.0133</td><td style=\"text-align: right;\">     3</td><td style=\"text-align: right;\">         321.47 </td><td style=\"text-align: right;\">         15</td><td style=\"text-align: right;\">  0.0217576 </td><td style=\"text-align: right;\">  0.0180853 </td></tr>\n",
       "<tr><td>TrainLightGCN_638251f4</td><td>TERMINATED</td><td>147.96.81.131:3518651</td><td style=\"text-align: right;\">           6</td><td style=\"text-align: right;\">            3</td><td style=\"text-align: right;\">              9</td><td style=\"text-align: right;\">     9</td><td style=\"text-align: right;\">8.93664e-05</td><td style=\"text-align: right;\">         0.0002</td><td style=\"text-align: right;\">     2</td><td style=\"text-align: right;\">         400.608</td><td style=\"text-align: right;\">         10</td><td style=\"text-align: right;\">  0.308331  </td><td style=\"text-align: right;\">  0.307771  </td></tr>\n",
       "<tr><td>TrainLightGCN_0f09cd3c</td><td>TERMINATED</td><td>147.96.81.131:3518803</td><td style=\"text-align: right;\">           7</td><td style=\"text-align: right;\">            2</td><td style=\"text-align: right;\">            969</td><td style=\"text-align: right;\">     9</td><td style=\"text-align: right;\">1.05314e-07</td><td style=\"text-align: right;\">         0.6555</td><td style=\"text-align: right;\">     3</td><td style=\"text-align: right;\">         417.444</td><td style=\"text-align: right;\">         15</td><td style=\"text-align: right;\">166.5       </td><td style=\"text-align: right;\">166.065     </td></tr>\n",
       "<tr><td>TrainLightGCN_9132d004</td><td>TERMINATED</td><td>147.96.81.131:3519021</td><td style=\"text-align: right;\">           6</td><td style=\"text-align: right;\">            4</td><td style=\"text-align: right;\">             88</td><td style=\"text-align: right;\">     9</td><td style=\"text-align: right;\">0.000793377</td><td style=\"text-align: right;\">         0.0053</td><td style=\"text-align: right;\">     2</td><td style=\"text-align: right;\">         393.819</td><td style=\"text-align: right;\">         10</td><td style=\"text-align: right;\">  0.0516971 </td><td style=\"text-align: right;\">  0.024364  </td></tr>\n",
       "<tr><td>TrainLightGCN_537f1096</td><td>TERMINATED</td><td>147.96.81.131:3519204</td><td style=\"text-align: right;\">           8</td><td style=\"text-align: right;\">            5</td><td style=\"text-align: right;\">            157</td><td style=\"text-align: right;\">     9</td><td style=\"text-align: right;\">3.13366e-07</td><td style=\"text-align: right;\">         0.0005</td><td style=\"text-align: right;\">     6</td><td style=\"text-align: right;\">         308.199</td><td style=\"text-align: right;\">         30</td><td style=\"text-align: right;\">  0.062223  </td><td style=\"text-align: right;\">  0.0622095 </td></tr>\n",
       "<tr><td>TrainLightGCN_9a74b544</td><td>TERMINATED</td><td>147.96.81.131:3519391</td><td style=\"text-align: right;\">           7</td><td style=\"text-align: right;\">            2</td><td style=\"text-align: right;\">             61</td><td style=\"text-align: right;\">     9</td><td style=\"text-align: right;\">1.73006e-05</td><td style=\"text-align: right;\">         0.0016</td><td style=\"text-align: right;\">     4</td><td style=\"text-align: right;\">         387.268</td><td style=\"text-align: right;\">         20</td><td style=\"text-align: right;\">  0.0191748 </td><td style=\"text-align: right;\">  0.0185626 </td></tr>\n",
       "<tr><td>TrainLightGCN_da9afb86</td><td>TERMINATED</td><td>147.96.81.131:3519667</td><td style=\"text-align: right;\">           9</td><td style=\"text-align: right;\">            3</td><td style=\"text-align: right;\">              6</td><td style=\"text-align: right;\">     9</td><td style=\"text-align: right;\">6.08832e-06</td><td style=\"text-align: right;\">         0.0001</td><td style=\"text-align: right;\">    13</td><td style=\"text-align: right;\">         322.345</td><td style=\"text-align: right;\">         65</td><td style=\"text-align: right;\">  0.314777  </td><td style=\"text-align: right;\">  0.314747  </td></tr>\n",
       "<tr><td>TrainLightGCN_8762de57</td><td>TERMINATED</td><td>147.96.81.131:3519874</td><td style=\"text-align: right;\">           8</td><td style=\"text-align: right;\">            4</td><td style=\"text-align: right;\">             36</td><td style=\"text-align: right;\">     9</td><td style=\"text-align: right;\">5.24149e-05</td><td style=\"text-align: right;\">         0.0078</td><td style=\"text-align: right;\">     7</td><td style=\"text-align: right;\">         330.467</td><td style=\"text-align: right;\">         35</td><td style=\"text-align: right;\">  0.0154119 </td><td style=\"text-align: right;\">  0.0109158 </td></tr>\n",
       "<tr><td>TrainLightGCN_c7e85b67</td><td>TERMINATED</td><td>147.96.81.131:3520031</td><td style=\"text-align: right;\">           6</td><td style=\"text-align: right;\">            3</td><td style=\"text-align: right;\">              3</td><td style=\"text-align: right;\">     9</td><td style=\"text-align: right;\">0.000407472</td><td style=\"text-align: right;\">         0.0003</td><td style=\"text-align: right;\">     2</td><td style=\"text-align: right;\">         367.941</td><td style=\"text-align: right;\">         10</td><td style=\"text-align: right;\">  0.342085  </td><td style=\"text-align: right;\">  0.339935  </td></tr>\n",
       "<tr><td>TrainLightGCN_7e198026</td><td>TERMINATED</td><td>147.96.81.131:3520199</td><td style=\"text-align: right;\">           7</td><td style=\"text-align: right;\">            5</td><td style=\"text-align: right;\">             19</td><td style=\"text-align: right;\">     9</td><td style=\"text-align: right;\">2.43199e-06</td><td style=\"text-align: right;\">         0.0008</td><td style=\"text-align: right;\">     4</td><td style=\"text-align: right;\">         365.085</td><td style=\"text-align: right;\">         20</td><td style=\"text-align: right;\">  0.115672  </td><td style=\"text-align: right;\">  0.11561   </td></tr>\n",
       "<tr><td>TrainLightGCN_aa8cf4b1</td><td>TERMINATED</td><td>147.96.81.131:3520477</td><td style=\"text-align: right;\">           7</td><td style=\"text-align: right;\">            1</td><td style=\"text-align: right;\">             13</td><td style=\"text-align: right;\">     9</td><td style=\"text-align: right;\">0.000171846</td><td style=\"text-align: right;\">         0.1598</td><td style=\"text-align: right;\">     4</td><td style=\"text-align: right;\">         362.866</td><td style=\"text-align: right;\">         20</td><td style=\"text-align: right;\">  2.17159   </td><td style=\"text-align: right;\">  1.91774   </td></tr>\n",
       "<tr><td>TrainLightGCN_ef01d217</td><td>TERMINATED</td><td>147.96.81.131:3520806</td><td style=\"text-align: right;\">           6</td><td style=\"text-align: right;\">            4</td><td style=\"text-align: right;\">             50</td><td style=\"text-align: right;\">     9</td><td style=\"text-align: right;\">1.118e-06  </td><td style=\"text-align: right;\">         0.0001</td><td style=\"text-align: right;\">     2</td><td style=\"text-align: right;\">         357.652</td><td style=\"text-align: right;\">         10</td><td style=\"text-align: right;\">  0.294942  </td><td style=\"text-align: right;\">  0.294933  </td></tr>\n",
       "<tr><td>TrainLightGCN_cf0d86b7</td><td>TERMINATED</td><td>147.96.81.131:3521021</td><td style=\"text-align: right;\">           7</td><td style=\"text-align: right;\">            5</td><td style=\"text-align: right;\">            107</td><td style=\"text-align: right;\">     9</td><td style=\"text-align: right;\">0.000117183</td><td style=\"text-align: right;\">         0.0022</td><td style=\"text-align: right;\">     4</td><td style=\"text-align: right;\">         364.693</td><td style=\"text-align: right;\">         20</td><td style=\"text-align: right;\">  0.0313943 </td><td style=\"text-align: right;\">  0.0236436 </td></tr>\n",
       "<tr><td>TrainLightGCN_85832d71</td><td>TERMINATED</td><td>147.96.81.131:3521303</td><td style=\"text-align: right;\">           6</td><td style=\"text-align: right;\">            5</td><td style=\"text-align: right;\">              1</td><td style=\"text-align: right;\">     9</td><td style=\"text-align: right;\">0.00281155 </td><td style=\"text-align: right;\">         0.0548</td><td style=\"text-align: right;\">     2</td><td style=\"text-align: right;\">         374.487</td><td style=\"text-align: right;\">         10</td><td style=\"text-align: right;\">  0.326014  </td><td style=\"text-align: right;\">  0.294757  </td></tr>\n",
       "<tr><td>TrainLightGCN_7fb49f41</td><td>TERMINATED</td><td>147.96.81.131:3521452</td><td style=\"text-align: right;\">           6</td><td style=\"text-align: right;\">            4</td><td style=\"text-align: right;\">            152</td><td style=\"text-align: right;\">     9</td><td style=\"text-align: right;\">0.00116941 </td><td style=\"text-align: right;\">         0.0226</td><td style=\"text-align: right;\">     2</td><td style=\"text-align: right;\">         375.677</td><td style=\"text-align: right;\">         10</td><td style=\"text-align: right;\">  0.0912247 </td><td style=\"text-align: right;\">  0.0274954 </td></tr>\n",
       "<tr><td>TrainLightGCN_fe238654</td><td>TERMINATED</td><td>147.96.81.131:3521685</td><td style=\"text-align: right;\">           6</td><td style=\"text-align: right;\">            4</td><td style=\"text-align: right;\">             73</td><td style=\"text-align: right;\">     9</td><td style=\"text-align: right;\">0.00522227 </td><td style=\"text-align: right;\">         0.0088</td><td style=\"text-align: right;\">     2</td><td style=\"text-align: right;\">         384.845</td><td style=\"text-align: right;\">         10</td><td style=\"text-align: right;\">  0.149365  </td><td style=\"text-align: right;\">  0.0617304 </td></tr>\n",
       "<tr><td>TrainLightGCN_51dc8f41</td><td>TERMINATED</td><td>147.96.81.131:3522012</td><td style=\"text-align: right;\">           6</td><td style=\"text-align: right;\">            4</td><td style=\"text-align: right;\">            228</td><td style=\"text-align: right;\">     9</td><td style=\"text-align: right;\">0.000833001</td><td style=\"text-align: right;\">         0.0158</td><td style=\"text-align: right;\">     2</td><td style=\"text-align: right;\">         414.633</td><td style=\"text-align: right;\">         10</td><td style=\"text-align: right;\">  0.0717138 </td><td style=\"text-align: right;\">  0.0223158 </td></tr>\n",
       "<tr><td>TrainLightGCN_db2d8c25</td><td>TERMINATED</td><td>147.96.81.131:3522220</td><td style=\"text-align: right;\">           9</td><td style=\"text-align: right;\">            5</td><td style=\"text-align: right;\">             41</td><td style=\"text-align: right;\">     9</td><td style=\"text-align: right;\">1.81475e-07</td><td style=\"text-align: right;\">         0.0046</td><td style=\"text-align: right;\">    12</td><td style=\"text-align: right;\">         305.806</td><td style=\"text-align: right;\">         60</td><td style=\"text-align: right;\">  0.0123534 </td><td style=\"text-align: right;\">  0.0123305 </td></tr>\n",
       "<tr><td>TrainLightGCN_9009cc90</td><td>TERMINATED</td><td>147.96.81.131:3522508</td><td style=\"text-align: right;\">           9</td><td style=\"text-align: right;\">            5</td><td style=\"text-align: right;\">             32</td><td style=\"text-align: right;\">     9</td><td style=\"text-align: right;\">0.00137338 </td><td style=\"text-align: right;\">         0.0028</td><td style=\"text-align: right;\">    12</td><td style=\"text-align: right;\">         322.735</td><td style=\"text-align: right;\">         60</td><td style=\"text-align: right;\">  0.0783918 </td><td style=\"text-align: right;\">  0.0400116 </td></tr>\n",
       "<tr><td>TrainLightGCN_f8622291</td><td>TERMINATED</td><td>147.96.81.131:3522657</td><td style=\"text-align: right;\">           8</td><td style=\"text-align: right;\">            5</td><td style=\"text-align: right;\">             89</td><td style=\"text-align: right;\">     9</td><td style=\"text-align: right;\">0.00204943 </td><td style=\"text-align: right;\">         0.0005</td><td style=\"text-align: right;\">     6</td><td style=\"text-align: right;\">         321.269</td><td style=\"text-align: right;\">         30</td><td style=\"text-align: right;\">  0.128731  </td><td style=\"text-align: right;\">  0.090936  </td></tr>\n",
       "<tr><td>TrainLightGCN_75cd12b3</td><td>TERMINATED</td><td>147.96.81.131:3522839</td><td style=\"text-align: right;\">           8</td><td style=\"text-align: right;\">            5</td><td style=\"text-align: right;\">             57</td><td style=\"text-align: right;\">     9</td><td style=\"text-align: right;\">0.00770615 </td><td style=\"text-align: right;\">         0.0013</td><td style=\"text-align: right;\">     6</td><td style=\"text-align: right;\">         323.283</td><td style=\"text-align: right;\">         30</td><td style=\"text-align: right;\">  0.197061  </td><td style=\"text-align: right;\">  0.106425  </td></tr>\n",
       "<tr><td>TrainLightGCN_569b1e88</td><td>TERMINATED</td><td>147.96.81.131:3523047</td><td style=\"text-align: right;\">           8</td><td style=\"text-align: right;\">            5</td><td style=\"text-align: right;\">             73</td><td style=\"text-align: right;\">     9</td><td style=\"text-align: right;\">0.000588322</td><td style=\"text-align: right;\">         0.0371</td><td style=\"text-align: right;\">     6</td><td style=\"text-align: right;\">         331.242</td><td style=\"text-align: right;\">         30</td><td style=\"text-align: right;\">  0.0628169 </td><td style=\"text-align: right;\">  0.0206697 </td></tr>\n",
       "<tr><td>TrainLightGCN_d2203a6d</td><td>TERMINATED</td><td>147.96.81.131:3523203</td><td style=\"text-align: right;\">           9</td><td style=\"text-align: right;\">            4</td><td style=\"text-align: right;\">            134</td><td style=\"text-align: right;\">     9</td><td style=\"text-align: right;\">0.000348115</td><td style=\"text-align: right;\">         0.2748</td><td style=\"text-align: right;\">    11</td><td style=\"text-align: right;\">         306.743</td><td style=\"text-align: right;\">         55</td><td style=\"text-align: right;\">  1.97221   </td><td style=\"text-align: right;\">  0.416357  </td></tr>\n",
       "<tr><td>TrainLightGCN_74ebaaff</td><td>TERMINATED</td><td>147.96.81.131:3523371</td><td style=\"text-align: right;\">           8</td><td style=\"text-align: right;\">            5</td><td style=\"text-align: right;\">            170</td><td style=\"text-align: right;\">     9</td><td style=\"text-align: right;\">0.000221196</td><td style=\"text-align: right;\">         0.0263</td><td style=\"text-align: right;\">     6</td><td style=\"text-align: right;\">         342.86 </td><td style=\"text-align: right;\">         30</td><td style=\"text-align: right;\">  0.0406157 </td><td style=\"text-align: right;\">  0.012511  </td></tr>\n",
       "<tr><td>TrainLightGCN_349d7449</td><td>TERMINATED</td><td>147.96.81.131:3523661</td><td style=\"text-align: right;\">           8</td><td style=\"text-align: right;\">            4</td><td style=\"text-align: right;\">             21</td><td style=\"text-align: right;\">     9</td><td style=\"text-align: right;\">0.00436482 </td><td style=\"text-align: right;\">         0.001 </td><td style=\"text-align: right;\">     6</td><td style=\"text-align: right;\">         368.471</td><td style=\"text-align: right;\">         30</td><td style=\"text-align: right;\">  0.148931  </td><td style=\"text-align: right;\">  0.0944233 </td></tr>\n",
       "<tr><td>TrainLightGCN_d85c7ab6</td><td>TERMINATED</td><td>147.96.81.131:3523811</td><td style=\"text-align: right;\">           8</td><td style=\"text-align: right;\">            4</td><td style=\"text-align: right;\">             28</td><td style=\"text-align: right;\">     9</td><td style=\"text-align: right;\">3.38306e-07</td><td style=\"text-align: right;\">         0.0688</td><td style=\"text-align: right;\">     6</td><td style=\"text-align: right;\">         371.223</td><td style=\"text-align: right;\">         30</td><td style=\"text-align: right;\">  0.0688281 </td><td style=\"text-align: right;\">  0.0685044 </td></tr>\n",
       "<tr><td>TrainLightGCN_515037f0</td><td>TERMINATED</td><td>147.96.81.131:3524075</td><td style=\"text-align: right;\">           9</td><td style=\"text-align: right;\">            5</td><td style=\"text-align: right;\">            530</td><td style=\"text-align: right;\">     9</td><td style=\"text-align: right;\">0.000746525</td><td style=\"text-align: right;\">         0.0004</td><td style=\"text-align: right;\">     7</td><td style=\"text-align: right;\">         337.134</td><td style=\"text-align: right;\">         35</td><td style=\"text-align: right;\">  0.0785366 </td><td style=\"text-align: right;\">  0.0552591 </td></tr>\n",
       "<tr><td>TrainLightGCN_9ced905f</td><td>TERMINATED</td><td>147.96.81.131:3524389</td><td style=\"text-align: right;\">           8</td><td style=\"text-align: right;\">            5</td><td style=\"text-align: right;\">             45</td><td style=\"text-align: right;\">     9</td><td style=\"text-align: right;\">1.54745e-07</td><td style=\"text-align: right;\">         0.0103</td><td style=\"text-align: right;\">     5</td><td style=\"text-align: right;\">         338.848</td><td style=\"text-align: right;\">         25</td><td style=\"text-align: right;\">  0.0113877 </td><td style=\"text-align: right;\">  0.0113629 </td></tr>\n",
       "<tr><td>TrainLightGCN_c2ca075e</td><td>TERMINATED</td><td>147.96.81.131:3524634</td><td style=\"text-align: right;\">           8</td><td style=\"text-align: right;\">            4</td><td style=\"text-align: right;\">            308</td><td style=\"text-align: right;\">     9</td><td style=\"text-align: right;\">0.00272028 </td><td style=\"text-align: right;\">         0.0007</td><td style=\"text-align: right;\">     5</td><td style=\"text-align: right;\">         357.498</td><td style=\"text-align: right;\">         25</td><td style=\"text-align: right;\">  0.10135   </td><td style=\"text-align: right;\">  0.052814  </td></tr>\n",
       "<tr><td>TrainLightGCN_77820785</td><td>TERMINATED</td><td>147.96.81.131:3524938</td><td style=\"text-align: right;\">           9</td><td style=\"text-align: right;\">            5</td><td style=\"text-align: right;\">            430</td><td style=\"text-align: right;\">     9</td><td style=\"text-align: right;\">0.00149623 </td><td style=\"text-align: right;\">         0.0019</td><td style=\"text-align: right;\">     6</td><td style=\"text-align: right;\">         340.44 </td><td style=\"text-align: right;\">         30</td><td style=\"text-align: right;\">  0.0799038 </td><td style=\"text-align: right;\">  0.0366727 </td></tr>\n",
       "<tr><td>TrainLightGCN_2c7772f1</td><td>TERMINATED</td><td>147.96.81.131:3525090</td><td style=\"text-align: right;\">           6</td><td style=\"text-align: right;\">            4</td><td style=\"text-align: right;\">            116</td><td style=\"text-align: right;\">     9</td><td style=\"text-align: right;\">0.00126259 </td><td style=\"text-align: right;\">         0.0265</td><td style=\"text-align: right;\">     2</td><td style=\"text-align: right;\">         661.504</td><td style=\"text-align: right;\">         10</td><td style=\"text-align: right;\">  0.0959942 </td><td style=\"text-align: right;\">  0.0288229 </td></tr>\n",
       "<tr><td>TrainLightGCN_a7cd6c73</td><td>TERMINATED</td><td>147.96.81.131:3525344</td><td style=\"text-align: right;\">           6</td><td style=\"text-align: right;\">            4</td><td style=\"text-align: right;\">             12</td><td style=\"text-align: right;\">     9</td><td style=\"text-align: right;\">0.00104061 </td><td style=\"text-align: right;\">         0.0918</td><td style=\"text-align: right;\">     1</td><td style=\"text-align: right;\">         307.222</td><td style=\"text-align: right;\">          5</td><td style=\"text-align: right;\">  0.155037  </td><td style=\"text-align: right;\">  0.0759966 </td></tr>\n",
       "<tr><td>TrainLightGCN_71845f68</td><td>TERMINATED</td><td>147.96.81.131:3525496</td><td style=\"text-align: right;\">           6</td><td style=\"text-align: right;\">            4</td><td style=\"text-align: right;\">              8</td><td style=\"text-align: right;\">     9</td><td style=\"text-align: right;\">0.000414272</td><td style=\"text-align: right;\">         0.1472</td><td style=\"text-align: right;\">     1</td><td style=\"text-align: right;\">         309.598</td><td style=\"text-align: right;\">          5</td><td style=\"text-align: right;\">  0.291354  </td><td style=\"text-align: right;\">  0.210931  </td></tr>\n",
       "<tr><td>TrainLightGCN_149ffbfa</td><td>TERMINATED</td><td>147.96.81.131:3525830</td><td style=\"text-align: right;\">           6</td><td style=\"text-align: right;\">            3</td><td style=\"text-align: right;\">             82</td><td style=\"text-align: right;\">     9</td><td style=\"text-align: right;\">6.85606e-05</td><td style=\"text-align: right;\">         0.0202</td><td style=\"text-align: right;\">     1</td><td style=\"text-align: right;\">         348.646</td><td style=\"text-align: right;\">          5</td><td style=\"text-align: right;\">  0.0341161 </td><td style=\"text-align: right;\">  0.0231906 </td></tr>\n",
       "<tr><td>TrainLightGCN_78c23fd2</td><td>TERMINATED</td><td>147.96.81.131:3525985</td><td style=\"text-align: right;\">           6</td><td style=\"text-align: right;\">            3</td><td style=\"text-align: right;\">            644</td><td style=\"text-align: right;\">     9</td><td style=\"text-align: right;\">0.00727965 </td><td style=\"text-align: right;\">         0.3812</td><td style=\"text-align: right;\">     1</td><td style=\"text-align: right;\">         530.294</td><td style=\"text-align: right;\">          5</td><td style=\"text-align: right;\"> 59.9729    </td><td style=\"text-align: right;\">  3.57242   </td></tr>\n",
       "<tr><td>TrainLightGCN_343349ef</td><td>TERMINATED</td><td>147.96.81.131:3526181</td><td style=\"text-align: right;\">           6</td><td style=\"text-align: right;\">            4</td><td style=\"text-align: right;\">            199</td><td style=\"text-align: right;\">     9</td><td style=\"text-align: right;\">0.000561225</td><td style=\"text-align: right;\">         0.0501</td><td style=\"text-align: right;\">     1</td><td style=\"text-align: right;\">         361.1  </td><td style=\"text-align: right;\">          5</td><td style=\"text-align: right;\">  0.247291  </td><td style=\"text-align: right;\">  0.054476  </td></tr>\n",
       "<tr><td>TrainLightGCN_0d4ef2b4</td><td>TERMINATED</td><td>147.96.81.131:3526336</td><td style=\"text-align: right;\">           6</td><td style=\"text-align: right;\">            4</td><td style=\"text-align: right;\">            258</td><td style=\"text-align: right;\">     9</td><td style=\"text-align: right;\">0.000132823</td><td style=\"text-align: right;\">         0.8807</td><td style=\"text-align: right;\">     1</td><td style=\"text-align: right;\">         365.084</td><td style=\"text-align: right;\">          5</td><td style=\"text-align: right;\">102.185     </td><td style=\"text-align: right;\"> 43.0788    </td></tr>\n",
       "<tr><td>TrainLightGCN_429f4a09</td><td>TERMINATED</td><td>147.96.81.131:3526543</td><td style=\"text-align: right;\">           6</td><td style=\"text-align: right;\">            3</td><td style=\"text-align: right;\">             64</td><td style=\"text-align: right;\">     9</td><td style=\"text-align: right;\">0.000250308</td><td style=\"text-align: right;\">         0.0074</td><td style=\"text-align: right;\">     1</td><td style=\"text-align: right;\">         369.836</td><td style=\"text-align: right;\">          5</td><td style=\"text-align: right;\">  0.0329707 </td><td style=\"text-align: right;\">  0.0222133 </td></tr>\n",
       "<tr><td>TrainLightGCN_1087479b</td><td>TERMINATED</td><td>147.96.81.131:3526698</td><td style=\"text-align: right;\">           6</td><td style=\"text-align: right;\">            4</td><td style=\"text-align: right;\">             34</td><td style=\"text-align: right;\">     9</td><td style=\"text-align: right;\">9.73984e-05</td><td style=\"text-align: right;\">         0.004 </td><td style=\"text-align: right;\">     1</td><td style=\"text-align: right;\">         373.986</td><td style=\"text-align: right;\">          5</td><td style=\"text-align: right;\">  0.054748  </td><td style=\"text-align: right;\">  0.0511724 </td></tr>\n",
       "<tr><td>TrainLightGCN_1172fc5a</td><td>TERMINATED</td><td>147.96.81.131:3526930</td><td style=\"text-align: right;\">           6</td><td style=\"text-align: right;\">            4</td><td style=\"text-align: right;\">            851</td><td style=\"text-align: right;\">     9</td><td style=\"text-align: right;\">0.00430162 </td><td style=\"text-align: right;\">         0.0193</td><td style=\"text-align: right;\">     1</td><td style=\"text-align: right;\">         594.903</td><td style=\"text-align: right;\">          5</td><td style=\"text-align: right;\">  0.231485  </td><td style=\"text-align: right;\">  0.0583442 </td></tr>\n",
       "<tr><td>TrainLightGCN_259c47e7</td><td>TERMINATED</td><td>147.96.81.131:3527262</td><td style=\"text-align: right;\">           7</td><td style=\"text-align: right;\">            3</td><td style=\"text-align: right;\">             24</td><td style=\"text-align: right;\">     9</td><td style=\"text-align: right;\">3.99676e-05</td><td style=\"text-align: right;\">         0.0032</td><td style=\"text-align: right;\">     2</td><td style=\"text-align: right;\">         387.814</td><td style=\"text-align: right;\">         10</td><td style=\"text-align: right;\">  0.043164  </td><td style=\"text-align: right;\">  0.0419086 </td></tr>\n",
       "<tr><td>TrainLightGCN_e61e6a21</td><td>TERMINATED</td><td>147.96.81.131:3527417</td><td style=\"text-align: right;\">           9</td><td style=\"text-align: right;\">            5</td><td style=\"text-align: right;\">            569</td><td style=\"text-align: right;\">     9</td><td style=\"text-align: right;\">0.00297492 </td><td style=\"text-align: right;\">         0.0004</td><td style=\"text-align: right;\">     4</td><td style=\"text-align: right;\">         306.647</td><td style=\"text-align: right;\">         20</td><td style=\"text-align: right;\">  0.143938  </td><td style=\"text-align: right;\">  0.0960798 </td></tr>\n",
       "<tr><td>TrainLightGCN_9ee0a2f6</td><td>TERMINATED</td><td>147.96.81.131:3527587</td><td style=\"text-align: right;\">           9</td><td style=\"text-align: right;\">            5</td><td style=\"text-align: right;\">            321</td><td style=\"text-align: right;\">     9</td><td style=\"text-align: right;\">0.00164073 </td><td style=\"text-align: right;\">         0.0002</td><td style=\"text-align: right;\">     6</td><td style=\"text-align: right;\">         308.19 </td><td style=\"text-align: right;\">         30</td><td style=\"text-align: right;\">  0.150078  </td><td style=\"text-align: right;\">  0.12154   </td></tr>\n",
       "<tr><td>TrainLightGCN_df63bfd6</td><td>TERMINATED</td><td>147.96.81.131:3527897</td><td style=\"text-align: right;\">           7</td><td style=\"text-align: right;\">            5</td><td style=\"text-align: right;\">            505</td><td style=\"text-align: right;\">     9</td><td style=\"text-align: right;\">0.000667768</td><td style=\"text-align: right;\">         0.0127</td><td style=\"text-align: right;\">     2</td><td style=\"text-align: right;\">         473.29 </td><td style=\"text-align: right;\">         10</td><td style=\"text-align: right;\">  0.0688388 </td><td style=\"text-align: right;\">  0.0222416 </td></tr>\n",
       "<tr><td>TrainLightGCN_08540956</td><td>TERMINATED</td><td>147.96.81.131:3528192</td><td style=\"text-align: right;\">           9</td><td style=\"text-align: right;\">            5</td><td style=\"text-align: right;\">            380</td><td style=\"text-align: right;\">     9</td><td style=\"text-align: right;\">0.000160068</td><td style=\"text-align: right;\">         0.0001</td><td style=\"text-align: right;\">     5</td><td style=\"text-align: right;\">         352.063</td><td style=\"text-align: right;\">         25</td><td style=\"text-align: right;\">  0.193556  </td><td style=\"text-align: right;\">  0.191074  </td></tr>\n",
       "<tr><td>TrainLightGCN_2b3ae0d5</td><td>TERMINATED</td><td>147.96.81.131:3528445</td><td style=\"text-align: right;\">           7</td><td style=\"text-align: right;\">            5</td><td style=\"text-align: right;\">            731</td><td style=\"text-align: right;\">     9</td><td style=\"text-align: right;\">0.000299631</td><td style=\"text-align: right;\">         0.0054</td><td style=\"text-align: right;\">     1</td><td style=\"text-align: right;\">         347.246</td><td style=\"text-align: right;\">          5</td><td style=\"text-align: right;\">  0.0428984 </td><td style=\"text-align: right;\">  0.0219095 </td></tr>\n",
       "<tr><td>TrainLightGCN_3852f46f</td><td>TERMINATED</td><td>147.96.81.131:3528600</td><td style=\"text-align: right;\">           7</td><td style=\"text-align: right;\">            5</td><td style=\"text-align: right;\">            950</td><td style=\"text-align: right;\">     9</td><td style=\"text-align: right;\">0.00235779 </td><td style=\"text-align: right;\">         0.0004</td><td style=\"text-align: right;\">     1</td><td style=\"text-align: right;\">         376.208</td><td style=\"text-align: right;\">          5</td><td style=\"text-align: right;\">  0.153857  </td><td style=\"text-align: right;\">  0.11597   </td></tr>\n",
       "<tr><td>TrainLightGCN_39126830</td><td>TERMINATED</td><td>147.96.81.131:3528776</td><td style=\"text-align: right;\">           7</td><td style=\"text-align: right;\">            2</td><td style=\"text-align: right;\">            480</td><td style=\"text-align: right;\">     9</td><td style=\"text-align: right;\">2.26589e-05</td><td style=\"text-align: right;\">         0.0002</td><td style=\"text-align: right;\">     2</td><td style=\"text-align: right;\">         343.453</td><td style=\"text-align: right;\">         10</td><td style=\"text-align: right;\">  0.0667196 </td><td style=\"text-align: right;\">  0.0662592 </td></tr>\n",
       "<tr><td>TrainLightGCN_f6e980e2</td><td>TERMINATED</td><td>147.96.81.131:3529215</td><td style=\"text-align: right;\">           7</td><td style=\"text-align: right;\">            3</td><td style=\"text-align: right;\">            151</td><td style=\"text-align: right;\">     9</td><td style=\"text-align: right;\">0.000483403</td><td style=\"text-align: right;\">         0.0001</td><td style=\"text-align: right;\">     3</td><td style=\"text-align: right;\">         307.004</td><td style=\"text-align: right;\">         15</td><td style=\"text-align: right;\">  0.185933  </td><td style=\"text-align: right;\">  0.180231  </td></tr>\n",
       "</tbody>\n",
       "</table>\n",
       "  </div>\n",
       "</div>\n",
       "<style>\n",
       ".tuneStatus {\n",
       "  color: var(--jp-ui-font-color1);\n",
       "}\n",
       ".tuneStatus .systemInfo {\n",
       "  display: flex;\n",
       "  flex-direction: column;\n",
       "}\n",
       ".tuneStatus td {\n",
       "  white-space: nowrap;\n",
       "}\n",
       ".tuneStatus .trialStatus {\n",
       "  display: flex;\n",
       "  flex-direction: column;\n",
       "}\n",
       ".tuneStatus h3 {\n",
       "  font-weight: bold;\n",
       "}\n",
       ".tuneStatus .hDivider {\n",
       "  border-bottom-width: var(--jp-border-width);\n",
       "  border-bottom-color: var(--jp-border-color0);\n",
       "  border-bottom-style: solid;\n",
       "}\n",
       ".tuneStatus .vDivider {\n",
       "  border-left-width: var(--jp-border-width);\n",
       "  border-left-color: var(--jp-border-color0);\n",
       "  border-left-style: solid;\n",
       "  margin: 0.5em 1em 0.5em 1em;\n",
       "}\n",
       "</style>\n"
      ],
      "text/plain": [
       "<IPython.core.display.HTML object>"
      ]
     },
     "metadata": {},
     "output_type": "display_data"
    },
    {
     "name": "stderr",
     "output_type": "stream",
     "text": [
      "\u001b[36m(pid=3507204)\u001b[0m 2024-03-21 20:59:21.973019: E tensorflow/compiler/xla/stream_executor/cuda/cuda_dnn.cc:9342] Unable to register cuDNN factory: Attempting to register factory for plugin cuDNN when one has already been registered\n",
      "\u001b[36m(pid=3507204)\u001b[0m 2024-03-21 20:59:21.973052: E tensorflow/compiler/xla/stream_executor/cuda/cuda_fft.cc:609] Unable to register cuFFT factory: Attempting to register factory for plugin cuFFT when one has already been registered\n",
      "\u001b[36m(pid=3507204)\u001b[0m 2024-03-21 20:59:21.973067: E tensorflow/compiler/xla/stream_executor/cuda/cuda_blas.cc:1518] Unable to register cuBLAS factory: Attempting to register factory for plugin cuBLAS when one has already been registered\n"
     ]
    },
    {
     "name": "stderr",
     "output_type": "stream",
     "text": [
      "\u001b[36m(TrainLightGCN pid=3507204)\u001b[0m /home/daviddavo/upm-tfm-notebooks/.direnv/python-3.9/lib/python3.9/site-packages/recommenders/models/deeprec/DataModel/ImplicitCF.py:73: FutureWarning: The frame.append method is deprecated and will be removed from pandas in a future version. Use pandas.concat instead.\n",
      "\u001b[36m(TrainLightGCN pid=3507204)\u001b[0m   df = train if test is None else train.append(test)\n"
     ]
    },
    {
     "name": "stdout",
     "output_type": "stream",
     "text": [
      "\u001b[36m(TrainLightGCN pid=3507204)\u001b[0m Already create adjacency matrix.\n",
      "\u001b[36m(TrainLightGCN pid=3507204)\u001b[0m Already normalize adjacency matrix.\n",
      "\u001b[36m(TrainLightGCN pid=3507204)\u001b[0m Using xavier initialization.\n"
     ]
    },
    {
     "name": "stderr",
     "output_type": "stream",
     "text": [
      "\u001b[36m(TrainLightGCN pid=3505649)\u001b[0m Checkpoint successfully created at: Checkpoint(filesystem=local, path=/home/daviddavo/ray_results/LightGCN_optim=map@10,dao=Decentraland,freq=W-THU,normalize=True,cutoff_date=2023-07-29T00:00:00,fold=8_2024-03-21T20:20:07.995401/TrainLightGCN_77462f2e_98_batch_size=7,conv_layers=2,embedding_dim=92,fold=8,l2=0.0000,learning_rate=0.0132_2024-03-21_20-53-54/checkpoint_000000)\u001b[32m [repeated 2x across cluster]\u001b[0m\n"
     ]
    },
    {
     "name": "stderr",
     "output_type": "stream",
     "text": [
      "\u001b[36m(pid=3507343)\u001b[0m 2024-03-21 20:59:26.350818: E tensorflow/compiler/xla/stream_executor/cuda/cuda_dnn.cc:9342] Unable to register cuDNN factory: Attempting to register factory for plugin cuDNN when one has already been registered\n",
      "\u001b[36m(pid=3507343)\u001b[0m 2024-03-21 20:59:26.350853: E tensorflow/compiler/xla/stream_executor/cuda/cuda_fft.cc:609] Unable to register cuFFT factory: Attempting to register factory for plugin cuFFT when one has already been registered\n",
      "\u001b[36m(pid=3507343)\u001b[0m 2024-03-21 20:59:26.350869: E tensorflow/compiler/xla/stream_executor/cuda/cuda_blas.cc:1518] Unable to register cuBLAS factory: Attempting to register factory for plugin cuBLAS when one has already been registered\n"
     ]
    },
    {
     "name": "stdout",
     "output_type": "stream",
     "text": [
      "\u001b[36m(TrainLightGCN pid=3507343)\u001b[0m Already normalize adjacency matrix.\n"
     ]
    },
    {
     "name": "stderr",
     "output_type": "stream",
     "text": [
      "\u001b[36m(pid=3507505)\u001b[0m 2024-03-21 20:59:30.783953: E tensorflow/compiler/xla/stream_executor/cuda/cuda_dnn.cc:9342] Unable to register cuDNN factory: Attempting to register factory for plugin cuDNN when one has already been registered\n",
      "\u001b[36m(pid=3507505)\u001b[0m 2024-03-21 20:59:30.783989: E tensorflow/compiler/xla/stream_executor/cuda/cuda_fft.cc:609] Unable to register cuFFT factory: Attempting to register factory for plugin cuFFT when one has already been registered\n",
      "\u001b[36m(pid=3507505)\u001b[0m 2024-03-21 20:59:30.784003: E tensorflow/compiler/xla/stream_executor/cuda/cuda_blas.cc:1518] Unable to register cuBLAS factory: Attempting to register factory for plugin cuBLAS when one has already been registered\n",
      "\u001b[36m(TrainLightGCN pid=3507343)\u001b[0m /home/daviddavo/upm-tfm-notebooks/.direnv/python-3.9/lib/python3.9/site-packages/recommenders/models/deeprec/DataModel/ImplicitCF.py:73: FutureWarning: The frame.append method is deprecated and will be removed from pandas in a future version. Use pandas.concat instead.\n",
      "\u001b[36m(TrainLightGCN pid=3507343)\u001b[0m   df = train if test is None else train.append(test)\n"
     ]
    },
    {
     "name": "stderr",
     "output_type": "stream",
     "text": [
      "\u001b[36m(TrainLightGCN pid=3507505)\u001b[0m /home/daviddavo/upm-tfm-notebooks/.direnv/python-3.9/lib/python3.9/site-packages/recommenders/models/deeprec/DataModel/ImplicitCF.py:73: FutureWarning: The frame.append method is deprecated and will be removed from pandas in a future version. Use pandas.concat instead.\n",
      "\u001b[36m(TrainLightGCN pid=3507505)\u001b[0m   df = train if test is None else train.append(test)\n"
     ]
    },
    {
     "name": "stdout",
     "output_type": "stream",
     "text": [
      "\u001b[36m(TrainLightGCN pid=3507505)\u001b[0m Already create adjacency matrix.\u001b[32m [repeated 2x across cluster]\u001b[0m\n",
      "\u001b[36m(TrainLightGCN pid=3507343)\u001b[0m Using xavier initialization.\n",
      "\u001b[36m(TrainLightGCN pid=3507505)\u001b[0m Using xavier initialization.\n"
     ]
    },
    {
     "name": "stderr",
     "output_type": "stream",
     "text": [
      "\u001b[36m(pid=3507667)\u001b[0m 2024-03-21 20:59:35.346971: E tensorflow/compiler/xla/stream_executor/cuda/cuda_dnn.cc:9342] Unable to register cuDNN factory: Attempting to register factory for plugin cuDNN when one has already been registered\n",
      "\u001b[36m(pid=3507667)\u001b[0m 2024-03-21 20:59:35.347008: E tensorflow/compiler/xla/stream_executor/cuda/cuda_fft.cc:609] Unable to register cuFFT factory: Attempting to register factory for plugin cuFFT when one has already been registered\n",
      "\u001b[36m(pid=3507667)\u001b[0m 2024-03-21 20:59:35.347023: E tensorflow/compiler/xla/stream_executor/cuda/cuda_blas.cc:1518] Unable to register cuBLAS factory: Attempting to register factory for plugin cuBLAS when one has already been registered\n"
     ]
    },
    {
     "name": "stdout",
     "output_type": "stream",
     "text": [
      "\u001b[36m(TrainLightGCN pid=3507505)\u001b[0m Already normalize adjacency matrix.\n",
      "\u001b[36m(TrainLightGCN pid=3507667)\u001b[0m Already normalize adjacency matrix.\n"
     ]
    },
    {
     "name": "stderr",
     "output_type": "stream",
     "text": [
      "\u001b[36m(pid=3507828)\u001b[0m 2024-03-21 20:59:39.994310: E tensorflow/compiler/xla/stream_executor/cuda/cuda_dnn.cc:9342] Unable to register cuDNN factory: Attempting to register factory for plugin cuDNN when one has already been registered\n",
      "\u001b[36m(pid=3507828)\u001b[0m 2024-03-21 20:59:39.994347: E tensorflow/compiler/xla/stream_executor/cuda/cuda_fft.cc:609] Unable to register cuFFT factory: Attempting to register factory for plugin cuFFT when one has already been registered\n",
      "\u001b[36m(pid=3507828)\u001b[0m 2024-03-21 20:59:39.994361: E tensorflow/compiler/xla/stream_executor/cuda/cuda_blas.cc:1518] Unable to register cuBLAS factory: Attempting to register factory for plugin cuBLAS when one has already been registered\n",
      "\u001b[36m(TrainLightGCN pid=3507667)\u001b[0m /home/daviddavo/upm-tfm-notebooks/.direnv/python-3.9/lib/python3.9/site-packages/recommenders/models/deeprec/DataModel/ImplicitCF.py:73: FutureWarning: The frame.append method is deprecated and will be removed from pandas in a future version. Use pandas.concat instead.\n",
      "\u001b[36m(TrainLightGCN pid=3507667)\u001b[0m   df = train if test is None else train.append(test)\n"
     ]
    },
    {
     "name": "stderr",
     "output_type": "stream",
     "text": [
      "\u001b[36m(TrainLightGCN pid=3507828)\u001b[0m /home/daviddavo/upm-tfm-notebooks/.direnv/python-3.9/lib/python3.9/site-packages/recommenders/models/deeprec/DataModel/ImplicitCF.py:73: FutureWarning: The frame.append method is deprecated and will be removed from pandas in a future version. Use pandas.concat instead.\n",
      "\u001b[36m(TrainLightGCN pid=3507828)\u001b[0m   df = train if test is None else train.append(test)\n"
     ]
    },
    {
     "name": "stdout",
     "output_type": "stream",
     "text": [
      "\u001b[36m(TrainLightGCN pid=3507828)\u001b[0m Already create adjacency matrix.\u001b[32m [repeated 2x across cluster]\u001b[0m\n",
      "\u001b[36m(TrainLightGCN pid=3507667)\u001b[0m Using xavier initialization.\n",
      "\u001b[36m(TrainLightGCN pid=3507828)\u001b[0m Using xavier initialization.\n"
     ]
    },
    {
     "name": "stderr",
     "output_type": "stream",
     "text": [
      "\u001b[36m(pid=3507996)\u001b[0m 2024-03-21 20:59:44.871607: E tensorflow/compiler/xla/stream_executor/cuda/cuda_dnn.cc:9342] Unable to register cuDNN factory: Attempting to register factory for plugin cuDNN when one has already been registered\n",
      "\u001b[36m(pid=3507996)\u001b[0m 2024-03-21 20:59:44.871644: E tensorflow/compiler/xla/stream_executor/cuda/cuda_fft.cc:609] Unable to register cuFFT factory: Attempting to register factory for plugin cuFFT when one has already been registered\n",
      "\u001b[36m(pid=3507996)\u001b[0m 2024-03-21 20:59:44.871660: E tensorflow/compiler/xla/stream_executor/cuda/cuda_blas.cc:1518] Unable to register cuBLAS factory: Attempting to register factory for plugin cuBLAS when one has already been registered\n"
     ]
    },
    {
     "name": "stdout",
     "output_type": "stream",
     "text": [
      "\u001b[36m(TrainLightGCN pid=3507996)\u001b[0m Already normalize adjacency matrix.\u001b[32m [repeated 2x across cluster]\u001b[0m\n"
     ]
    },
    {
     "name": "stderr",
     "output_type": "stream",
     "text": [
      "\u001b[36m(pid=3508157)\u001b[0m 2024-03-21 20:59:49.952562: E tensorflow/compiler/xla/stream_executor/cuda/cuda_dnn.cc:9342] Unable to register cuDNN factory: Attempting to register factory for plugin cuDNN when one has already been registered\n",
      "\u001b[36m(pid=3508157)\u001b[0m 2024-03-21 20:59:49.952595: E tensorflow/compiler/xla/stream_executor/cuda/cuda_fft.cc:609] Unable to register cuFFT factory: Attempting to register factory for plugin cuFFT when one has already been registered\n",
      "\u001b[36m(pid=3508157)\u001b[0m 2024-03-21 20:59:49.952609: E tensorflow/compiler/xla/stream_executor/cuda/cuda_blas.cc:1518] Unable to register cuBLAS factory: Attempting to register factory for plugin cuBLAS when one has already been registered\n",
      "\u001b[36m(TrainLightGCN pid=3507996)\u001b[0m /home/daviddavo/upm-tfm-notebooks/.direnv/python-3.9/lib/python3.9/site-packages/recommenders/models/deeprec/DataModel/ImplicitCF.py:73: FutureWarning: The frame.append method is deprecated and will be removed from pandas in a future version. Use pandas.concat instead.\n",
      "\u001b[36m(TrainLightGCN pid=3507996)\u001b[0m   df = train if test is None else train.append(test)\n"
     ]
    },
    {
     "name": "stderr",
     "output_type": "stream",
     "text": [
      "\u001b[36m(TrainLightGCN pid=3508157)\u001b[0m /home/daviddavo/upm-tfm-notebooks/.direnv/python-3.9/lib/python3.9/site-packages/recommenders/models/deeprec/DataModel/ImplicitCF.py:73: FutureWarning: The frame.append method is deprecated and will be removed from pandas in a future version. Use pandas.concat instead.\n",
      "\u001b[36m(TrainLightGCN pid=3508157)\u001b[0m   df = train if test is None else train.append(test)\n"
     ]
    },
    {
     "name": "stdout",
     "output_type": "stream",
     "text": [
      "\u001b[36m(TrainLightGCN pid=3508157)\u001b[0m Already create adjacency matrix.\u001b[32m [repeated 2x across cluster]\u001b[0m\n",
      "\u001b[36m(TrainLightGCN pid=3507996)\u001b[0m Using xavier initialization.\n",
      "\u001b[36m(TrainLightGCN pid=3508157)\u001b[0m Already normalize adjacency matrix.\n",
      "\u001b[36m(TrainLightGCN pid=3508157)\u001b[0m Using xavier initialization.\n"
     ]
    },
    {
     "name": "stderr",
     "output_type": "stream",
     "text": [
      "\u001b[36m(pid=3508320)\u001b[0m 2024-03-21 20:59:54.976656: E tensorflow/compiler/xla/stream_executor/cuda/cuda_dnn.cc:9342] Unable to register cuDNN factory: Attempting to register factory for plugin cuDNN when one has already been registered\n",
      "\u001b[36m(pid=3508320)\u001b[0m 2024-03-21 20:59:54.976703: E tensorflow/compiler/xla/stream_executor/cuda/cuda_fft.cc:609] Unable to register cuFFT factory: Attempting to register factory for plugin cuFFT when one has already been registered\n",
      "\u001b[36m(pid=3508320)\u001b[0m 2024-03-21 20:59:54.976718: E tensorflow/compiler/xla/stream_executor/cuda/cuda_blas.cc:1518] Unable to register cuBLAS factory: Attempting to register factory for plugin cuBLAS when one has already been registered\n",
      "\u001b[36m(TrainLightGCN pid=3508320)\u001b[0m /home/daviddavo/upm-tfm-notebooks/.direnv/python-3.9/lib/python3.9/site-packages/recommenders/models/deeprec/DataModel/ImplicitCF.py:73: FutureWarning: The frame.append method is deprecated and will be removed from pandas in a future version. Use pandas.concat instead.\n",
      "\u001b[36m(TrainLightGCN pid=3508320)\u001b[0m   df = train if test is None else train.append(test)\n"
     ]
    },
    {
     "name": "stdout",
     "output_type": "stream",
     "text": [
      "\u001b[36m(TrainLightGCN pid=3508320)\u001b[0m Already create adjacency matrix.\n",
      "\u001b[36m(TrainLightGCN pid=3508320)\u001b[0m Already normalize adjacency matrix.\n",
      "\u001b[36m(TrainLightGCN pid=3508320)\u001b[0m Using xavier initialization.\n"
     ]
    },
    {
     "name": "stderr",
     "output_type": "stream",
     "text": [
      "\u001b[36m(pid=3508486)\u001b[0m 2024-03-21 21:00:00.153221: E tensorflow/compiler/xla/stream_executor/cuda/cuda_dnn.cc:9342] Unable to register cuDNN factory: Attempting to register factory for plugin cuDNN when one has already been registered\n",
      "\u001b[36m(pid=3508486)\u001b[0m 2024-03-21 21:00:00.153253: E tensorflow/compiler/xla/stream_executor/cuda/cuda_fft.cc:609] Unable to register cuFFT factory: Attempting to register factory for plugin cuFFT when one has already been registered\n",
      "\u001b[36m(pid=3508486)\u001b[0m 2024-03-21 21:00:00.153269: E tensorflow/compiler/xla/stream_executor/cuda/cuda_blas.cc:1518] Unable to register cuBLAS factory: Attempting to register factory for plugin cuBLAS when one has already been registered\n"
     ]
    },
    {
     "name": "stderr",
     "output_type": "stream",
     "text": [
      "\u001b[36m(TrainLightGCN pid=3508486)\u001b[0m /home/daviddavo/upm-tfm-notebooks/.direnv/python-3.9/lib/python3.9/site-packages/recommenders/models/deeprec/DataModel/ImplicitCF.py:73: FutureWarning: The frame.append method is deprecated and will be removed from pandas in a future version. Use pandas.concat instead.\n",
      "\u001b[36m(TrainLightGCN pid=3508486)\u001b[0m   df = train if test is None else train.append(test)\n"
     ]
    },
    {
     "name": "stdout",
     "output_type": "stream",
     "text": [
      "\u001b[36m(TrainLightGCN pid=3508486)\u001b[0m Already create adjacency matrix.\n",
      "\u001b[36m(TrainLightGCN pid=3508486)\u001b[0m Already normalize adjacency matrix.\n",
      "\u001b[36m(TrainLightGCN pid=3508486)\u001b[0m Using xavier initialization.\n"
     ]
    },
    {
     "name": "stderr",
     "output_type": "stream",
     "text": [
      "\u001b[36m(pid=3508647)\u001b[0m 2024-03-21 21:00:05.413037: E tensorflow/compiler/xla/stream_executor/cuda/cuda_dnn.cc:9342] Unable to register cuDNN factory: Attempting to register factory for plugin cuDNN when one has already been registered\n",
      "\u001b[36m(pid=3508647)\u001b[0m 2024-03-21 21:00:05.413076: E tensorflow/compiler/xla/stream_executor/cuda/cuda_fft.cc:609] Unable to register cuFFT factory: Attempting to register factory for plugin cuFFT when one has already been registered\n",
      "\u001b[36m(pid=3508647)\u001b[0m 2024-03-21 21:00:05.413090: E tensorflow/compiler/xla/stream_executor/cuda/cuda_blas.cc:1518] Unable to register cuBLAS factory: Attempting to register factory for plugin cuBLAS when one has already been registered\n"
     ]
    },
    {
     "name": "stderr",
     "output_type": "stream",
     "text": [
      "\u001b[36m(TrainLightGCN pid=3508647)\u001b[0m /home/daviddavo/upm-tfm-notebooks/.direnv/python-3.9/lib/python3.9/site-packages/recommenders/models/deeprec/DataModel/ImplicitCF.py:73: FutureWarning: The frame.append method is deprecated and will be removed from pandas in a future version. Use pandas.concat instead.\n",
      "\u001b[36m(TrainLightGCN pid=3508647)\u001b[0m   df = train if test is None else train.append(test)\n"
     ]
    },
    {
     "name": "stdout",
     "output_type": "stream",
     "text": [
      "\u001b[36m(TrainLightGCN pid=3508647)\u001b[0m Already create adjacency matrix.\n",
      "\u001b[36m(TrainLightGCN pid=3508647)\u001b[0m Already normalize adjacency matrix.\n",
      "\u001b[36m(TrainLightGCN pid=3508647)\u001b[0m Using xavier initialization.\n"
     ]
    },
    {
     "name": "stderr",
     "output_type": "stream",
     "text": [
      "\u001b[36m(pid=3508813)\u001b[0m 2024-03-21 21:00:11.300158: E tensorflow/compiler/xla/stream_executor/cuda/cuda_dnn.cc:9342] Unable to register cuDNN factory: Attempting to register factory for plugin cuDNN when one has already been registered\n",
      "\u001b[36m(pid=3508813)\u001b[0m 2024-03-21 21:00:11.300194: E tensorflow/compiler/xla/stream_executor/cuda/cuda_fft.cc:609] Unable to register cuFFT factory: Attempting to register factory for plugin cuFFT when one has already been registered\n",
      "\u001b[36m(pid=3508813)\u001b[0m 2024-03-21 21:00:11.300209: E tensorflow/compiler/xla/stream_executor/cuda/cuda_blas.cc:1518] Unable to register cuBLAS factory: Attempting to register factory for plugin cuBLAS when one has already been registered\n"
     ]
    },
    {
     "name": "stderr",
     "output_type": "stream",
     "text": [
      "\u001b[36m(TrainLightGCN pid=3508813)\u001b[0m /home/daviddavo/upm-tfm-notebooks/.direnv/python-3.9/lib/python3.9/site-packages/recommenders/models/deeprec/DataModel/ImplicitCF.py:73: FutureWarning: The frame.append method is deprecated and will be removed from pandas in a future version. Use pandas.concat instead.\n",
      "\u001b[36m(TrainLightGCN pid=3508813)\u001b[0m   df = train if test is None else train.append(test)\n"
     ]
    },
    {
     "name": "stdout",
     "output_type": "stream",
     "text": [
      "\u001b[36m(TrainLightGCN pid=3508813)\u001b[0m Already create adjacency matrix.\n",
      "\u001b[36m(TrainLightGCN pid=3508813)\u001b[0m Already normalize adjacency matrix.\n",
      "\u001b[36m(TrainLightGCN pid=3508813)\u001b[0m Using xavier initialization.\n"
     ]
    },
    {
     "name": "stderr",
     "output_type": "stream",
     "text": [
      "\u001b[36m(pid=3508980)\u001b[0m 2024-03-21 21:00:17.610422: E tensorflow/compiler/xla/stream_executor/cuda/cuda_dnn.cc:9342] Unable to register cuDNN factory: Attempting to register factory for plugin cuDNN when one has already been registered\n",
      "\u001b[36m(pid=3508980)\u001b[0m 2024-03-21 21:00:17.610460: E tensorflow/compiler/xla/stream_executor/cuda/cuda_fft.cc:609] Unable to register cuFFT factory: Attempting to register factory for plugin cuFFT when one has already been registered\n",
      "\u001b[36m(pid=3508980)\u001b[0m 2024-03-21 21:00:17.610476: E tensorflow/compiler/xla/stream_executor/cuda/cuda_blas.cc:1518] Unable to register cuBLAS factory: Attempting to register factory for plugin cuBLAS when one has already been registered\n"
     ]
    },
    {
     "name": "stderr",
     "output_type": "stream",
     "text": [
      "\u001b[36m(TrainLightGCN pid=3508980)\u001b[0m /home/daviddavo/upm-tfm-notebooks/.direnv/python-3.9/lib/python3.9/site-packages/recommenders/models/deeprec/DataModel/ImplicitCF.py:73: FutureWarning: The frame.append method is deprecated and will be removed from pandas in a future version. Use pandas.concat instead.\n",
      "\u001b[36m(TrainLightGCN pid=3508980)\u001b[0m   df = train if test is None else train.append(test)\n"
     ]
    },
    {
     "name": "stdout",
     "output_type": "stream",
     "text": [
      "\u001b[36m(TrainLightGCN pid=3508980)\u001b[0m Already create adjacency matrix.\n",
      "\u001b[36m(TrainLightGCN pid=3508980)\u001b[0m Already normalize adjacency matrix.\n",
      "\u001b[36m(TrainLightGCN pid=3508980)\u001b[0m Using xavier initialization.\n"
     ]
    },
    {
     "name": "stderr",
     "output_type": "stream",
     "text": [
      "\u001b[36m(pid=3509145)\u001b[0m 2024-03-21 21:00:23.395863: E tensorflow/compiler/xla/stream_executor/cuda/cuda_dnn.cc:9342] Unable to register cuDNN factory: Attempting to register factory for plugin cuDNN when one has already been registered\n",
      "\u001b[36m(pid=3509145)\u001b[0m 2024-03-21 21:00:23.395897: E tensorflow/compiler/xla/stream_executor/cuda/cuda_fft.cc:609] Unable to register cuFFT factory: Attempting to register factory for plugin cuFFT when one has already been registered\n",
      "\u001b[36m(pid=3509145)\u001b[0m 2024-03-21 21:00:23.395910: E tensorflow/compiler/xla/stream_executor/cuda/cuda_blas.cc:1518] Unable to register cuBLAS factory: Attempting to register factory for plugin cuBLAS when one has already been registered\n"
     ]
    },
    {
     "name": "stderr",
     "output_type": "stream",
     "text": [
      "\u001b[36m(TrainLightGCN pid=3509145)\u001b[0m /home/daviddavo/upm-tfm-notebooks/.direnv/python-3.9/lib/python3.9/site-packages/recommenders/models/deeprec/DataModel/ImplicitCF.py:73: FutureWarning: The frame.append method is deprecated and will be removed from pandas in a future version. Use pandas.concat instead.\n",
      "\u001b[36m(TrainLightGCN pid=3509145)\u001b[0m   df = train if test is None else train.append(test)\n"
     ]
    },
    {
     "name": "stdout",
     "output_type": "stream",
     "text": [
      "\u001b[36m(TrainLightGCN pid=3509145)\u001b[0m Already create adjacency matrix.\n",
      "\u001b[36m(TrainLightGCN pid=3509145)\u001b[0m Already normalize adjacency matrix.\n",
      "\u001b[36m(TrainLightGCN pid=3509145)\u001b[0m Using xavier initialization.\n"
     ]
    },
    {
     "name": "stderr",
     "output_type": "stream",
     "text": [
      "\u001b[36m(pid=3509310)\u001b[0m 2024-03-21 21:00:29.956610: E tensorflow/compiler/xla/stream_executor/cuda/cuda_dnn.cc:9342] Unable to register cuDNN factory: Attempting to register factory for plugin cuDNN when one has already been registered\n",
      "\u001b[36m(pid=3509310)\u001b[0m 2024-03-21 21:00:29.956660: E tensorflow/compiler/xla/stream_executor/cuda/cuda_fft.cc:609] Unable to register cuFFT factory: Attempting to register factory for plugin cuFFT when one has already been registered\n",
      "\u001b[36m(pid=3509310)\u001b[0m 2024-03-21 21:00:29.956690: E tensorflow/compiler/xla/stream_executor/cuda/cuda_blas.cc:1518] Unable to register cuBLAS factory: Attempting to register factory for plugin cuBLAS when one has already been registered\n"
     ]
    },
    {
     "name": "stderr",
     "output_type": "stream",
     "text": [
      "\u001b[36m(TrainLightGCN pid=3509310)\u001b[0m /home/daviddavo/upm-tfm-notebooks/.direnv/python-3.9/lib/python3.9/site-packages/recommenders/models/deeprec/DataModel/ImplicitCF.py:73: FutureWarning: The frame.append method is deprecated and will be removed from pandas in a future version. Use pandas.concat instead.\n",
      "\u001b[36m(TrainLightGCN pid=3509310)\u001b[0m   df = train if test is None else train.append(test)\n"
     ]
    },
    {
     "name": "stdout",
     "output_type": "stream",
     "text": [
      "\u001b[36m(TrainLightGCN pid=3509310)\u001b[0m Already create adjacency matrix.\n",
      "\u001b[36m(TrainLightGCN pid=3509310)\u001b[0m Already normalize adjacency matrix.\n",
      "\u001b[36m(TrainLightGCN pid=3509310)\u001b[0m Using xavier initialization.\n"
     ]
    },
    {
     "name": "stderr",
     "output_type": "stream",
     "text": [
      "\u001b[36m(pid=3509481)\u001b[0m 2024-03-21 21:00:37.178427: E tensorflow/compiler/xla/stream_executor/cuda/cuda_dnn.cc:9342] Unable to register cuDNN factory: Attempting to register factory for plugin cuDNN when one has already been registered\n",
      "\u001b[36m(pid=3509481)\u001b[0m 2024-03-21 21:00:37.178461: E tensorflow/compiler/xla/stream_executor/cuda/cuda_fft.cc:609] Unable to register cuFFT factory: Attempting to register factory for plugin cuFFT when one has already been registered\n",
      "\u001b[36m(pid=3509481)\u001b[0m 2024-03-21 21:00:37.178476: E tensorflow/compiler/xla/stream_executor/cuda/cuda_blas.cc:1518] Unable to register cuBLAS factory: Attempting to register factory for plugin cuBLAS when one has already been registered\n"
     ]
    },
    {
     "name": "stderr",
     "output_type": "stream",
     "text": [
      "\u001b[36m(TrainLightGCN pid=3509481)\u001b[0m /home/daviddavo/upm-tfm-notebooks/.direnv/python-3.9/lib/python3.9/site-packages/recommenders/models/deeprec/DataModel/ImplicitCF.py:73: FutureWarning: The frame.append method is deprecated and will be removed from pandas in a future version. Use pandas.concat instead.\n",
      "\u001b[36m(TrainLightGCN pid=3509481)\u001b[0m   df = train if test is None else train.append(test)\n"
     ]
    },
    {
     "name": "stdout",
     "output_type": "stream",
     "text": [
      "\u001b[36m(TrainLightGCN pid=3509481)\u001b[0m Already create adjacency matrix.\n",
      "\u001b[36m(TrainLightGCN pid=3509481)\u001b[0m Already normalize adjacency matrix.\n",
      "\u001b[36m(TrainLightGCN pid=3509481)\u001b[0m Using xavier initialization.\n"
     ]
    },
    {
     "name": "stderr",
     "output_type": "stream",
     "text": [
      "\u001b[36m(pid=3509652)\u001b[0m 2024-03-21 21:00:44.035548: E tensorflow/compiler/xla/stream_executor/cuda/cuda_dnn.cc:9342] Unable to register cuDNN factory: Attempting to register factory for plugin cuDNN when one has already been registered\n",
      "\u001b[36m(pid=3509652)\u001b[0m 2024-03-21 21:00:44.035585: E tensorflow/compiler/xla/stream_executor/cuda/cuda_fft.cc:609] Unable to register cuFFT factory: Attempting to register factory for plugin cuFFT when one has already been registered\n",
      "\u001b[36m(pid=3509652)\u001b[0m 2024-03-21 21:00:44.035601: E tensorflow/compiler/xla/stream_executor/cuda/cuda_blas.cc:1518] Unable to register cuBLAS factory: Attempting to register factory for plugin cuBLAS when one has already been registered\n"
     ]
    },
    {
     "name": "stderr",
     "output_type": "stream",
     "text": [
      "\u001b[36m(TrainLightGCN pid=3509652)\u001b[0m /home/daviddavo/upm-tfm-notebooks/.direnv/python-3.9/lib/python3.9/site-packages/recommenders/models/deeprec/DataModel/ImplicitCF.py:73: FutureWarning: The frame.append method is deprecated and will be removed from pandas in a future version. Use pandas.concat instead.\n",
      "\u001b[36m(TrainLightGCN pid=3509652)\u001b[0m   df = train if test is None else train.append(test)\n"
     ]
    },
    {
     "name": "stdout",
     "output_type": "stream",
     "text": [
      "\u001b[36m(TrainLightGCN pid=3509652)\u001b[0m Already create adjacency matrix.\n",
      "\u001b[36m(TrainLightGCN pid=3509652)\u001b[0m Already normalize adjacency matrix.\n",
      "\u001b[36m(TrainLightGCN pid=3509652)\u001b[0m Using xavier initialization.\n"
     ]
    },
    {
     "name": "stderr",
     "output_type": "stream",
     "text": [
      "\u001b[36m(TrainLightGCN pid=3507505)\u001b[0m Checkpoint successfully created at: Checkpoint(filesystem=local, path=/home/daviddavo/ray_results/LightGCN_optim=map@10,dao=Decentraland,freq=W-THU,normalize=True,cutoff_date=2023-07-29T00:00:00,fold=9_2024-03-21T20:59:20.911809/TrainLightGCN_9bf6ebb2_3_batch_size=9,conv_layers=3,embedding_dim=5,fold=9,l2=0.0001,learning_rate=0.2200_2024-03-21_20-59-29/checkpoint_000000)\n"
     ]
    },
    {
     "name": "stderr",
     "output_type": "stream",
     "text": [
      "\u001b[36m(pid=3510576)\u001b[0m 2024-03-21 21:04:53.464288: E tensorflow/compiler/xla/stream_executor/cuda/cuda_dnn.cc:9342] Unable to register cuDNN factory: Attempting to register factory for plugin cuDNN when one has already been registered\n",
      "\u001b[36m(pid=3510576)\u001b[0m 2024-03-21 21:04:53.464327: E tensorflow/compiler/xla/stream_executor/cuda/cuda_fft.cc:609] Unable to register cuFFT factory: Attempting to register factory for plugin cuFFT when one has already been registered\n",
      "\u001b[36m(pid=3510576)\u001b[0m 2024-03-21 21:04:53.464344: E tensorflow/compiler/xla/stream_executor/cuda/cuda_blas.cc:1518] Unable to register cuBLAS factory: Attempting to register factory for plugin cuBLAS when one has already been registered\n"
     ]
    },
    {
     "name": "stderr",
     "output_type": "stream",
     "text": [
      "\u001b[36m(TrainLightGCN pid=3510576)\u001b[0m /home/daviddavo/upm-tfm-notebooks/.direnv/python-3.9/lib/python3.9/site-packages/recommenders/models/deeprec/DataModel/ImplicitCF.py:73: FutureWarning: The frame.append method is deprecated and will be removed from pandas in a future version. Use pandas.concat instead.\n",
      "\u001b[36m(TrainLightGCN pid=3510576)\u001b[0m   df = train if test is None else train.append(test)\n"
     ]
    },
    {
     "name": "stdout",
     "output_type": "stream",
     "text": [
      "\u001b[36m(TrainLightGCN pid=3510576)\u001b[0m Already create adjacency matrix.\n",
      "\u001b[36m(TrainLightGCN pid=3510576)\u001b[0m Already normalize adjacency matrix.\n",
      "\u001b[36m(TrainLightGCN pid=3510576)\u001b[0m Using xavier initialization.\n"
     ]
    },
    {
     "name": "stderr",
     "output_type": "stream",
     "text": [
      "\u001b[36m(TrainLightGCN pid=3507343)\u001b[0m Checkpoint successfully created at: Checkpoint(filesystem=local, path=/home/daviddavo/ray_results/LightGCN_optim=map@10,dao=Decentraland,freq=W-THU,normalize=True,cutoff_date=2023-07-29T00:00:00,fold=9_2024-03-21T20:59:20.911809/TrainLightGCN_d6e64601_2_batch_size=8,conv_layers=5,embedding_dim=29,fold=9,l2=0.0000,learning_rate=0.2347_2024-03-21_20-59-25/checkpoint_000000)\u001b[32m [repeated 3x across cluster]\u001b[0m\n",
      "\u001b[36m(pid=3510732)\u001b[0m 2024-03-21 21:04:59.541858: E tensorflow/compiler/xla/stream_executor/cuda/cuda_dnn.cc:9342] Unable to register cuDNN factory: Attempting to register factory for plugin cuDNN when one has already been registered\n",
      "\u001b[36m(pid=3510732)\u001b[0m 2024-03-21 21:04:59.541897: E tensorflow/compiler/xla/stream_executor/cuda/cuda_fft.cc:609] Unable to register cuFFT factory: Attempting to register factory for plugin cuFFT when one has already been registered\n",
      "\u001b[36m(pid=3510732)\u001b[0m 2024-03-21 21:04:59.541918: E tensorflow/compiler/xla/stream_executor/cuda/cuda_blas.cc:1518] Unable to register cuBLAS factory: Attempting to register factory for plugin cuBLAS when one has already been registered\n"
     ]
    },
    {
     "name": "stderr",
     "output_type": "stream",
     "text": [
      "\u001b[36m(TrainLightGCN pid=3510732)\u001b[0m /home/daviddavo/upm-tfm-notebooks/.direnv/python-3.9/lib/python3.9/site-packages/recommenders/models/deeprec/DataModel/ImplicitCF.py:73: FutureWarning: The frame.append method is deprecated and will be removed from pandas in a future version. Use pandas.concat instead.\n",
      "\u001b[36m(TrainLightGCN pid=3510732)\u001b[0m   df = train if test is None else train.append(test)\n"
     ]
    },
    {
     "name": "stdout",
     "output_type": "stream",
     "text": [
      "\u001b[36m(TrainLightGCN pid=3510732)\u001b[0m Already normalize adjacency matrix.\n",
      "\u001b[36m(TrainLightGCN pid=3510732)\u001b[0m Already create adjacency matrix.\n",
      "\u001b[36m(TrainLightGCN pid=3510732)\u001b[0m Using xavier initialization.\n"
     ]
    },
    {
     "name": "stderr",
     "output_type": "stream",
     "text": [
      "\u001b[36m(TrainLightGCN pid=3508320)\u001b[0m Checkpoint successfully created at: Checkpoint(filesystem=local, path=/home/daviddavo/ray_results/LightGCN_optim=map@10,dao=Decentraland,freq=W-THU,normalize=True,cutoff_date=2023-07-29T00:00:00,fold=9_2024-03-21T20:59:20.911809/TrainLightGCN_35f02042_8_batch_size=8,conv_layers=4,embedding_dim=412,fold=9,l2=0.0041,learning_rate=0.0014_2024-03-21_20-59-53/checkpoint_000000)\n"
     ]
    },
    {
     "name": "stderr",
     "output_type": "stream",
     "text": [
      "\u001b[36m(TrainLightGCN pid=3507828)\u001b[0m Checkpoint successfully created at: Checkpoint(filesystem=local, path=/home/daviddavo/ray_results/LightGCN_optim=map@10,dao=Decentraland,freq=W-THU,normalize=True,cutoff_date=2023-07-29T00:00:00,fold=9_2024-03-21T20:59:20.911809/TrainLightGCN_7b432d71_5_batch_size=7,conv_layers=3,embedding_dim=217,fold=9,l2=0.0000,learning_rate=0.0005_2024-03-21_20-59-38/checkpoint_000000)\n",
      "\u001b[36m(pid=3510905)\u001b[0m 2024-03-21 21:05:06.467568: E tensorflow/compiler/xla/stream_executor/cuda/cuda_dnn.cc:9342] Unable to register cuDNN factory: Attempting to register factory for plugin cuDNN when one has already been registered\n",
      "\u001b[36m(pid=3510905)\u001b[0m 2024-03-21 21:05:06.467611: E tensorflow/compiler/xla/stream_executor/cuda/cuda_fft.cc:609] Unable to register cuFFT factory: Attempting to register factory for plugin cuFFT when one has already been registered\n",
      "\u001b[36m(pid=3510905)\u001b[0m 2024-03-21 21:05:06.467626: E tensorflow/compiler/xla/stream_executor/cuda/cuda_blas.cc:1518] Unable to register cuBLAS factory: Attempting to register factory for plugin cuBLAS when one has already been registered\n"
     ]
    },
    {
     "name": "stderr",
     "output_type": "stream",
     "text": [
      "\u001b[36m(TrainLightGCN pid=3510905)\u001b[0m /home/daviddavo/upm-tfm-notebooks/.direnv/python-3.9/lib/python3.9/site-packages/recommenders/models/deeprec/DataModel/ImplicitCF.py:73: FutureWarning: The frame.append method is deprecated and will be removed from pandas in a future version. Use pandas.concat instead.\n",
      "\u001b[36m(TrainLightGCN pid=3510905)\u001b[0m   df = train if test is None else train.append(test)\n"
     ]
    },
    {
     "name": "stdout",
     "output_type": "stream",
     "text": [
      "\u001b[36m(TrainLightGCN pid=3510905)\u001b[0m Already create adjacency matrix.\n",
      "\u001b[36m(TrainLightGCN pid=3510905)\u001b[0m Already normalize adjacency matrix.\n",
      "\u001b[36m(TrainLightGCN pid=3510905)\u001b[0m Using xavier initialization.\n"
     ]
    },
    {
     "name": "stderr",
     "output_type": "stream",
     "text": [
      "\u001b[36m(pid=3511085)\u001b[0m 2024-03-21 21:05:12.253836: E tensorflow/compiler/xla/stream_executor/cuda/cuda_dnn.cc:9342] Unable to register cuDNN factory: Attempting to register factory for plugin cuDNN when one has already been registered\n",
      "\u001b[36m(pid=3511085)\u001b[0m 2024-03-21 21:05:12.253874: E tensorflow/compiler/xla/stream_executor/cuda/cuda_fft.cc:609] Unable to register cuFFT factory: Attempting to register factory for plugin cuFFT when one has already been registered\n",
      "\u001b[36m(pid=3511085)\u001b[0m 2024-03-21 21:05:12.253889: E tensorflow/compiler/xla/stream_executor/cuda/cuda_blas.cc:1518] Unable to register cuBLAS factory: Attempting to register factory for plugin cuBLAS when one has already been registered\n"
     ]
    },
    {
     "name": "stderr",
     "output_type": "stream",
     "text": [
      "\u001b[36m(TrainLightGCN pid=3507996)\u001b[0m Checkpoint successfully created at: Checkpoint(filesystem=local, path=/home/daviddavo/ray_results/LightGCN_optim=map@10,dao=Decentraland,freq=W-THU,normalize=True,cutoff_date=2023-07-29T00:00:00,fold=9_2024-03-21T20:59:20.911809/TrainLightGCN_fc9f86ed_6_batch_size=7,conv_layers=4,embedding_dim=7,fold=9,l2=0.0040,learning_rate=0.0038_2024-03-21_20-59-43/checkpoint_000000)\n"
     ]
    },
    {
     "name": "stderr",
     "output_type": "stream",
     "text": [
      "\u001b[36m(TrainLightGCN pid=3511085)\u001b[0m /home/daviddavo/upm-tfm-notebooks/.direnv/python-3.9/lib/python3.9/site-packages/recommenders/models/deeprec/DataModel/ImplicitCF.py:73: FutureWarning: The frame.append method is deprecated and will be removed from pandas in a future version. Use pandas.concat instead.\n",
      "\u001b[36m(TrainLightGCN pid=3511085)\u001b[0m   df = train if test is None else train.append(test)\n"
     ]
    },
    {
     "name": "stdout",
     "output_type": "stream",
     "text": [
      "\u001b[36m(TrainLightGCN pid=3511085)\u001b[0m Already create adjacency matrix.\n",
      "\u001b[36m(TrainLightGCN pid=3511085)\u001b[0m Already normalize adjacency matrix.\n",
      "\u001b[36m(TrainLightGCN pid=3511085)\u001b[0m Using xavier initialization.\n"
     ]
    },
    {
     "name": "stderr",
     "output_type": "stream",
     "text": [
      "\u001b[36m(pid=3511268)\u001b[0m 2024-03-21 21:05:18.098677: E tensorflow/compiler/xla/stream_executor/cuda/cuda_dnn.cc:9342] Unable to register cuDNN factory: Attempting to register factory for plugin cuDNN when one has already been registered\n",
      "\u001b[36m(pid=3511268)\u001b[0m 2024-03-21 21:05:18.098714: E tensorflow/compiler/xla/stream_executor/cuda/cuda_fft.cc:609] Unable to register cuFFT factory: Attempting to register factory for plugin cuFFT when one has already been registered\n",
      "\u001b[36m(pid=3511268)\u001b[0m 2024-03-21 21:05:18.098731: E tensorflow/compiler/xla/stream_executor/cuda/cuda_blas.cc:1518] Unable to register cuBLAS factory: Attempting to register factory for plugin cuBLAS when one has already been registered\n"
     ]
    },
    {
     "name": "stderr",
     "output_type": "stream",
     "text": [
      "\u001b[36m(TrainLightGCN pid=3508157)\u001b[0m Checkpoint successfully created at: Checkpoint(filesystem=local, path=/home/daviddavo/ray_results/LightGCN_optim=map@10,dao=Decentraland,freq=W-THU,normalize=True,cutoff_date=2023-07-29T00:00:00,fold=9_2024-03-21T20:59:20.911809/TrainLightGCN_b449068c_7_batch_size=7,conv_layers=3,embedding_dim=4,fold=9,l2=0.0011,learning_rate=0.0002_2024-03-21_20-59-48/checkpoint_000000)\u001b[32m [repeated 2x across cluster]\u001b[0m\n",
      "\u001b[36m(TrainLightGCN pid=3511268)\u001b[0m /home/daviddavo/upm-tfm-notebooks/.direnv/python-3.9/lib/python3.9/site-packages/recommenders/models/deeprec/DataModel/ImplicitCF.py:73: FutureWarning: The frame.append method is deprecated and will be removed from pandas in a future version. Use pandas.concat instead.\n",
      "\u001b[36m(TrainLightGCN pid=3511268)\u001b[0m   df = train if test is None else train.append(test)\n"
     ]
    },
    {
     "name": "stdout",
     "output_type": "stream",
     "text": [
      "\u001b[36m(TrainLightGCN pid=3511268)\u001b[0m Already create adjacency matrix.\n",
      "\u001b[36m(TrainLightGCN pid=3511268)\u001b[0m Already normalize adjacency matrix.\n",
      "\u001b[36m(TrainLightGCN pid=3511268)\u001b[0m Using xavier initialization.\n"
     ]
    },
    {
     "name": "stderr",
     "output_type": "stream",
     "text": [
      "\u001b[36m(pid=3511441)\u001b[0m 2024-03-21 21:05:24.006461: E tensorflow/compiler/xla/stream_executor/cuda/cuda_dnn.cc:9342] Unable to register cuDNN factory: Attempting to register factory for plugin cuDNN when one has already been registered\n",
      "\u001b[36m(pid=3511441)\u001b[0m 2024-03-21 21:05:24.006513: E tensorflow/compiler/xla/stream_executor/cuda/cuda_fft.cc:609] Unable to register cuFFT factory: Attempting to register factory for plugin cuFFT when one has already been registered\n",
      "\u001b[36m(pid=3511441)\u001b[0m 2024-03-21 21:05:24.006540: E tensorflow/compiler/xla/stream_executor/cuda/cuda_blas.cc:1518] Unable to register cuBLAS factory: Attempting to register factory for plugin cuBLAS when one has already been registered\n"
     ]
    },
    {
     "name": "stderr",
     "output_type": "stream",
     "text": [
      "\u001b[36m(TrainLightGCN pid=3511441)\u001b[0m /home/daviddavo/upm-tfm-notebooks/.direnv/python-3.9/lib/python3.9/site-packages/recommenders/models/deeprec/DataModel/ImplicitCF.py:73: FutureWarning: The frame.append method is deprecated and will be removed from pandas in a future version. Use pandas.concat instead.\n",
      "\u001b[36m(TrainLightGCN pid=3511441)\u001b[0m   df = train if test is None else train.append(test)\n"
     ]
    },
    {
     "name": "stdout",
     "output_type": "stream",
     "text": [
      "\u001b[36m(TrainLightGCN pid=3511441)\u001b[0m Already normalize adjacency matrix.\n",
      "\u001b[36m(TrainLightGCN pid=3511441)\u001b[0m Already create adjacency matrix.\n",
      "\u001b[36m(TrainLightGCN pid=3511441)\u001b[0m Using xavier initialization.\n"
     ]
    },
    {
     "name": "stderr",
     "output_type": "stream",
     "text": [
      "\u001b[36m(TrainLightGCN pid=3508486)\u001b[0m Checkpoint successfully created at: Checkpoint(filesystem=local, path=/home/daviddavo/ray_results/LightGCN_optim=map@10,dao=Decentraland,freq=W-THU,normalize=True,cutoff_date=2023-07-29T00:00:00,fold=9_2024-03-21T20:59:20.911809/TrainLightGCN_7e4d39dc_9_batch_size=6,conv_layers=1,embedding_dim=206,fold=9,l2=0.0000,learning_rate=0.0085_2024-03-21_20-59-59/checkpoint_000000)\n"
     ]
    },
    {
     "name": "stderr",
     "output_type": "stream",
     "text": [
      "\u001b[36m(pid=3511609)\u001b[0m 2024-03-21 21:05:30.314782: E tensorflow/compiler/xla/stream_executor/cuda/cuda_dnn.cc:9342] Unable to register cuDNN factory: Attempting to register factory for plugin cuDNN when one has already been registered\n",
      "\u001b[36m(pid=3511609)\u001b[0m 2024-03-21 21:05:30.314822: E tensorflow/compiler/xla/stream_executor/cuda/cuda_fft.cc:609] Unable to register cuFFT factory: Attempting to register factory for plugin cuFFT when one has already been registered\n",
      "\u001b[36m(pid=3511609)\u001b[0m 2024-03-21 21:05:30.314836: E tensorflow/compiler/xla/stream_executor/cuda/cuda_blas.cc:1518] Unable to register cuBLAS factory: Attempting to register factory for plugin cuBLAS when one has already been registered\n"
     ]
    },
    {
     "name": "stderr",
     "output_type": "stream",
     "text": [
      "\u001b[36m(TrainLightGCN pid=3511609)\u001b[0m /home/daviddavo/upm-tfm-notebooks/.direnv/python-3.9/lib/python3.9/site-packages/recommenders/models/deeprec/DataModel/ImplicitCF.py:73: FutureWarning: The frame.append method is deprecated and will be removed from pandas in a future version. Use pandas.concat instead.\n",
      "\u001b[36m(TrainLightGCN pid=3511609)\u001b[0m   df = train if test is None else train.append(test)\n"
     ]
    },
    {
     "name": "stdout",
     "output_type": "stream",
     "text": [
      "\u001b[36m(TrainLightGCN pid=3511609)\u001b[0m Already create adjacency matrix.\n",
      "\u001b[36m(TrainLightGCN pid=3511609)\u001b[0m Already normalize adjacency matrix.\n",
      "\u001b[36m(TrainLightGCN pid=3511609)\u001b[0m Using xavier initialization.\n"
     ]
    },
    {
     "name": "stderr",
     "output_type": "stream",
     "text": [
      "\u001b[36m(pid=3511781)\u001b[0m 2024-03-21 21:05:36.450156: E tensorflow/compiler/xla/stream_executor/cuda/cuda_dnn.cc:9342] Unable to register cuDNN factory: Attempting to register factory for plugin cuDNN when one has already been registered\n",
      "\u001b[36m(pid=3511781)\u001b[0m 2024-03-21 21:05:36.450192: E tensorflow/compiler/xla/stream_executor/cuda/cuda_fft.cc:609] Unable to register cuFFT factory: Attempting to register factory for plugin cuFFT when one has already been registered\n",
      "\u001b[36m(pid=3511781)\u001b[0m 2024-03-21 21:05:36.450210: E tensorflow/compiler/xla/stream_executor/cuda/cuda_blas.cc:1518] Unable to register cuBLAS factory: Attempting to register factory for plugin cuBLAS when one has already been registered\n"
     ]
    },
    {
     "name": "stderr",
     "output_type": "stream",
     "text": [
      "\u001b[36m(TrainLightGCN pid=3511781)\u001b[0m /home/daviddavo/upm-tfm-notebooks/.direnv/python-3.9/lib/python3.9/site-packages/recommenders/models/deeprec/DataModel/ImplicitCF.py:73: FutureWarning: The frame.append method is deprecated and will be removed from pandas in a future version. Use pandas.concat instead.\n",
      "\u001b[36m(TrainLightGCN pid=3511781)\u001b[0m   df = train if test is None else train.append(test)\n"
     ]
    },
    {
     "name": "stdout",
     "output_type": "stream",
     "text": [
      "\u001b[36m(TrainLightGCN pid=3511781)\u001b[0m Already create adjacency matrix.\n"
     ]
    },
    {
     "name": "stdout",
     "output_type": "stream",
     "text": [
      "\u001b[36m(TrainLightGCN pid=3511781)\u001b[0m Already normalize adjacency matrix.\n",
      "\u001b[36m(TrainLightGCN pid=3511781)\u001b[0m Using xavier initialization.\n"
     ]
    },
    {
     "name": "stderr",
     "output_type": "stream",
     "text": [
      "\u001b[36m(pid=3511951)\u001b[0m 2024-03-21 21:05:42.557343: E tensorflow/compiler/xla/stream_executor/cuda/cuda_dnn.cc:9342] Unable to register cuDNN factory: Attempting to register factory for plugin cuDNN when one has already been registered\n",
      "\u001b[36m(pid=3511951)\u001b[0m 2024-03-21 21:05:42.557383: E tensorflow/compiler/xla/stream_executor/cuda/cuda_fft.cc:609] Unable to register cuFFT factory: Attempting to register factory for plugin cuFFT when one has already been registered\n",
      "\u001b[36m(pid=3511951)\u001b[0m 2024-03-21 21:05:42.557398: E tensorflow/compiler/xla/stream_executor/cuda/cuda_blas.cc:1518] Unable to register cuBLAS factory: Attempting to register factory for plugin cuBLAS when one has already been registered\n"
     ]
    },
    {
     "name": "stderr",
     "output_type": "stream",
     "text": [
      "\u001b[36m(TrainLightGCN pid=3508813)\u001b[0m Checkpoint successfully created at: Checkpoint(filesystem=local, path=/home/daviddavo/ray_results/LightGCN_optim=map@10,dao=Decentraland,freq=W-THU,normalize=True,cutoff_date=2023-07-29T00:00:00,fold=9_2024-03-21T20:59:20.911809/TrainLightGCN_50f8d99a_11_batch_size=7,conv_layers=3,embedding_dim=5,fold=9,l2=0.0061,learning_rate=0.2019_2024-03-21_21-00-09/checkpoint_000000)\n"
     ]
    },
    {
     "name": "stderr",
     "output_type": "stream",
     "text": [
      "\u001b[36m(TrainLightGCN pid=3511951)\u001b[0m /home/daviddavo/upm-tfm-notebooks/.direnv/python-3.9/lib/python3.9/site-packages/recommenders/models/deeprec/DataModel/ImplicitCF.py:73: FutureWarning: The frame.append method is deprecated and will be removed from pandas in a future version. Use pandas.concat instead.\n",
      "\u001b[36m(TrainLightGCN pid=3511951)\u001b[0m   df = train if test is None else train.append(test)\n"
     ]
    },
    {
     "name": "stdout",
     "output_type": "stream",
     "text": [
      "\u001b[36m(TrainLightGCN pid=3511951)\u001b[0m Already create adjacency matrix.\n",
      "\u001b[36m(TrainLightGCN pid=3511951)\u001b[0m Already normalize adjacency matrix.\n",
      "\u001b[36m(TrainLightGCN pid=3511951)\u001b[0m Using xavier initialization.\n"
     ]
    },
    {
     "name": "stderr",
     "output_type": "stream",
     "text": [
      "\u001b[36m(pid=3512125)\u001b[0m 2024-03-21 21:05:49.020459: E tensorflow/compiler/xla/stream_executor/cuda/cuda_dnn.cc:9342] Unable to register cuDNN factory: Attempting to register factory for plugin cuDNN when one has already been registered\n",
      "\u001b[36m(pid=3512125)\u001b[0m 2024-03-21 21:05:49.020496: E tensorflow/compiler/xla/stream_executor/cuda/cuda_fft.cc:609] Unable to register cuFFT factory: Attempting to register factory for plugin cuFFT when one has already been registered\n",
      "\u001b[36m(pid=3512125)\u001b[0m 2024-03-21 21:05:49.020511: E tensorflow/compiler/xla/stream_executor/cuda/cuda_blas.cc:1518] Unable to register cuBLAS factory: Attempting to register factory for plugin cuBLAS when one has already been registered\n"
     ]
    },
    {
     "name": "stderr",
     "output_type": "stream",
     "text": [
      "\u001b[36m(TrainLightGCN pid=3512125)\u001b[0m /home/daviddavo/upm-tfm-notebooks/.direnv/python-3.9/lib/python3.9/site-packages/recommenders/models/deeprec/DataModel/ImplicitCF.py:73: FutureWarning: The frame.append method is deprecated and will be removed from pandas in a future version. Use pandas.concat instead.\n",
      "\u001b[36m(TrainLightGCN pid=3512125)\u001b[0m   df = train if test is None else train.append(test)\n"
     ]
    },
    {
     "name": "stdout",
     "output_type": "stream",
     "text": [
      "\u001b[36m(TrainLightGCN pid=3512125)\u001b[0m Already create adjacency matrix.\n",
      "\u001b[36m(TrainLightGCN pid=3512125)\u001b[0m Already normalize adjacency matrix.\n",
      "\u001b[36m(TrainLightGCN pid=3512125)\u001b[0m Using xavier initialization.\n"
     ]
    },
    {
     "name": "stderr",
     "output_type": "stream",
     "text": [
      "\u001b[36m(TrainLightGCN pid=3508980)\u001b[0m Checkpoint successfully created at: Checkpoint(filesystem=local, path=/home/daviddavo/ray_results/LightGCN_optim=map@10,dao=Decentraland,freq=W-THU,normalize=True,cutoff_date=2023-07-29T00:00:00,fold=9_2024-03-21T20:59:20.911809/TrainLightGCN_9d892dfa_12_batch_size=7,conv_layers=4,embedding_dim=42,fold=9,l2=0.0004,learning_rate=0.0012_2024-03-21_21-00-16/checkpoint_000000)\n"
     ]
    },
    {
     "name": "stderr",
     "output_type": "stream",
     "text": [
      "\u001b[36m(pid=3512297)\u001b[0m 2024-03-21 21:05:55.379014: E tensorflow/compiler/xla/stream_executor/cuda/cuda_dnn.cc:9342] Unable to register cuDNN factory: Attempting to register factory for plugin cuDNN when one has already been registered\n",
      "\u001b[36m(pid=3512297)\u001b[0m 2024-03-21 21:05:55.379148: E tensorflow/compiler/xla/stream_executor/cuda/cuda_fft.cc:609] Unable to register cuFFT factory: Attempting to register factory for plugin cuFFT when one has already been registered\n",
      "\u001b[36m(pid=3512297)\u001b[0m 2024-03-21 21:05:55.379171: E tensorflow/compiler/xla/stream_executor/cuda/cuda_blas.cc:1518] Unable to register cuBLAS factory: Attempting to register factory for plugin cuBLAS when one has already been registered\n"
     ]
    },
    {
     "name": "stderr",
     "output_type": "stream",
     "text": [
      "\u001b[36m(TrainLightGCN pid=3512297)\u001b[0m /home/daviddavo/upm-tfm-notebooks/.direnv/python-3.9/lib/python3.9/site-packages/recommenders/models/deeprec/DataModel/ImplicitCF.py:73: FutureWarning: The frame.append method is deprecated and will be removed from pandas in a future version. Use pandas.concat instead.\n",
      "\u001b[36m(TrainLightGCN pid=3512297)\u001b[0m   df = train if test is None else train.append(test)\n"
     ]
    },
    {
     "name": "stdout",
     "output_type": "stream",
     "text": [
      "\u001b[36m(TrainLightGCN pid=3512297)\u001b[0m Already create adjacency matrix.\n"
     ]
    },
    {
     "name": "stdout",
     "output_type": "stream",
     "text": [
      "\u001b[36m(TrainLightGCN pid=3512297)\u001b[0m Already normalize adjacency matrix.\n"
     ]
    },
    {
     "name": "stdout",
     "output_type": "stream",
     "text": [
      "\u001b[36m(TrainLightGCN pid=3512297)\u001b[0m Using xavier initialization.\n"
     ]
    },
    {
     "name": "stderr",
     "output_type": "stream",
     "text": [
      "\u001b[36m(pid=3512469)\u001b[0m 2024-03-21 21:06:03.383622: E tensorflow/compiler/xla/stream_executor/cuda/cuda_dnn.cc:9342] Unable to register cuDNN factory: Attempting to register factory for plugin cuDNN when one has already been registered\n",
      "\u001b[36m(pid=3512469)\u001b[0m 2024-03-21 21:06:03.383663: E tensorflow/compiler/xla/stream_executor/cuda/cuda_fft.cc:609] Unable to register cuFFT factory: Attempting to register factory for plugin cuFFT when one has already been registered\n",
      "\u001b[36m(pid=3512469)\u001b[0m 2024-03-21 21:06:03.383689: E tensorflow/compiler/xla/stream_executor/cuda/cuda_blas.cc:1518] Unable to register cuBLAS factory: Attempting to register factory for plugin cuBLAS when one has already been registered\n"
     ]
    },
    {
     "name": "stderr",
     "output_type": "stream",
     "text": [
      "\u001b[36m(TrainLightGCN pid=3509145)\u001b[0m Checkpoint successfully created at: Checkpoint(filesystem=local, path=/home/daviddavo/ray_results/LightGCN_optim=map@10,dao=Decentraland,freq=W-THU,normalize=True,cutoff_date=2023-07-29T00:00:00,fold=9_2024-03-21T20:59:20.911809/TrainLightGCN_864d4242_13_batch_size=7,conv_layers=4,embedding_dim=6,fold=9,l2=0.0000,learning_rate=0.4766_2024-03-21_21-00-22/checkpoint_000000)\n"
     ]
    },
    {
     "name": "stderr",
     "output_type": "stream",
     "text": [
      "\u001b[36m(TrainLightGCN pid=3512469)\u001b[0m /home/daviddavo/upm-tfm-notebooks/.direnv/python-3.9/lib/python3.9/site-packages/recommenders/models/deeprec/DataModel/ImplicitCF.py:73: FutureWarning: The frame.append method is deprecated and will be removed from pandas in a future version. Use pandas.concat instead.\n",
      "\u001b[36m(TrainLightGCN pid=3512469)\u001b[0m   df = train if test is None else train.append(test)\n"
     ]
    },
    {
     "name": "stdout",
     "output_type": "stream",
     "text": [
      "\u001b[36m(TrainLightGCN pid=3512469)\u001b[0m Already create adjacency matrix.\n",
      "\u001b[36m(TrainLightGCN pid=3512469)\u001b[0m Already normalize adjacency matrix.\n",
      "\u001b[36m(TrainLightGCN pid=3512469)\u001b[0m Using xavier initialization.\n"
     ]
    },
    {
     "name": "stderr",
     "output_type": "stream",
     "text": [
      "\u001b[36m(pid=3512650)\u001b[0m 2024-03-21 21:06:11.196192: E tensorflow/compiler/xla/stream_executor/cuda/cuda_dnn.cc:9342] Unable to register cuDNN factory: Attempting to register factory for plugin cuDNN when one has already been registered\n",
      "\u001b[36m(pid=3512650)\u001b[0m 2024-03-21 21:06:11.196234: E tensorflow/compiler/xla/stream_executor/cuda/cuda_fft.cc:609] Unable to register cuFFT factory: Attempting to register factory for plugin cuFFT when one has already been registered\n",
      "\u001b[36m(pid=3512650)\u001b[0m 2024-03-21 21:06:11.196251: E tensorflow/compiler/xla/stream_executor/cuda/cuda_blas.cc:1518] Unable to register cuBLAS factory: Attempting to register factory for plugin cuBLAS when one has already been registered\n"
     ]
    },
    {
     "name": "stderr",
     "output_type": "stream",
     "text": [
      "\u001b[36m(TrainLightGCN pid=3512650)\u001b[0m /home/daviddavo/upm-tfm-notebooks/.direnv/python-3.9/lib/python3.9/site-packages/recommenders/models/deeprec/DataModel/ImplicitCF.py:73: FutureWarning: The frame.append method is deprecated and will be removed from pandas in a future version. Use pandas.concat instead.\n",
      "\u001b[36m(TrainLightGCN pid=3512650)\u001b[0m   df = train if test is None else train.append(test)\n"
     ]
    },
    {
     "name": "stdout",
     "output_type": "stream",
     "text": [
      "\u001b[36m(TrainLightGCN pid=3512650)\u001b[0m Already create adjacency matrix.\n",
      "\u001b[36m(TrainLightGCN pid=3512650)\u001b[0m Already normalize adjacency matrix.\n",
      "\u001b[36m(TrainLightGCN pid=3512650)\u001b[0m Using xavier initialization.\n"
     ]
    },
    {
     "name": "stderr",
     "output_type": "stream",
     "text": [
      "\u001b[36m(TrainLightGCN pid=3509652)\u001b[0m Checkpoint successfully created at: Checkpoint(filesystem=local, path=/home/daviddavo/ray_results/LightGCN_optim=map@10,dao=Decentraland,freq=W-THU,normalize=True,cutoff_date=2023-07-29T00:00:00,fold=9_2024-03-21T20:59:20.911809/TrainLightGCN_8024ab35_16_batch_size=9,conv_layers=2,embedding_dim=8,fold=9,l2=0.0010,learning_rate=0.0201_2024-03-21_21-00-42/checkpoint_000000)\n"
     ]
    },
    {
     "name": "stderr",
     "output_type": "stream",
     "text": [
      "\u001b[36m(pid=3512866)\u001b[0m 2024-03-21 21:06:24.717221: E tensorflow/compiler/xla/stream_executor/cuda/cuda_dnn.cc:9342] Unable to register cuDNN factory: Attempting to register factory for plugin cuDNN when one has already been registered\n",
      "\u001b[36m(pid=3512866)\u001b[0m 2024-03-21 21:06:24.717270: E tensorflow/compiler/xla/stream_executor/cuda/cuda_fft.cc:609] Unable to register cuFFT factory: Attempting to register factory for plugin cuFFT when one has already been registered\n",
      "\u001b[36m(pid=3512866)\u001b[0m 2024-03-21 21:06:24.717295: E tensorflow/compiler/xla/stream_executor/cuda/cuda_blas.cc:1518] Unable to register cuBLAS factory: Attempting to register factory for plugin cuBLAS when one has already been registered\n"
     ]
    },
    {
     "name": "stderr",
     "output_type": "stream",
     "text": [
      "\u001b[36m(TrainLightGCN pid=3512866)\u001b[0m /home/daviddavo/upm-tfm-notebooks/.direnv/python-3.9/lib/python3.9/site-packages/recommenders/models/deeprec/DataModel/ImplicitCF.py:73: FutureWarning: The frame.append method is deprecated and will be removed from pandas in a future version. Use pandas.concat instead.\n",
      "\u001b[36m(TrainLightGCN pid=3512866)\u001b[0m   df = train if test is None else train.append(test)\n",
      "\u001b[36m(TrainLightGCN pid=3509310)\u001b[0m Checkpoint successfully created at: Checkpoint(filesystem=local, path=/home/daviddavo/ray_results/LightGCN_optim=map@10,dao=Decentraland,freq=W-THU,normalize=True,cutoff_date=2023-07-29T00:00:00,fold=9_2024-03-21T20:59:20.911809/TrainLightGCN_05ee3695_14_batch_size=8,conv_layers=4,embedding_dim=87,fold=9,l2=0.0000,learning_rate=0.0004_2024-03-21_21-00-28/checkpoint_000000)\n"
     ]
    },
    {
     "name": "stdout",
     "output_type": "stream",
     "text": [
      "\u001b[36m(TrainLightGCN pid=3512866)\u001b[0m Already create adjacency matrix.\n",
      "\u001b[36m(TrainLightGCN pid=3512866)\u001b[0m Already normalize adjacency matrix.\n",
      "\u001b[36m(TrainLightGCN pid=3512866)\u001b[0m Using xavier initialization.\n"
     ]
    },
    {
     "name": "stderr",
     "output_type": "stream",
     "text": [
      "\u001b[36m(pid=3513021)\u001b[0m 2024-03-21 21:06:31.947984: E tensorflow/compiler/xla/stream_executor/cuda/cuda_dnn.cc:9342] Unable to register cuDNN factory: Attempting to register factory for plugin cuDNN when one has already been registered\n",
      "\u001b[36m(pid=3513021)\u001b[0m 2024-03-21 21:06:31.948021: E tensorflow/compiler/xla/stream_executor/cuda/cuda_fft.cc:609] Unable to register cuFFT factory: Attempting to register factory for plugin cuFFT when one has already been registered\n",
      "\u001b[36m(pid=3513021)\u001b[0m 2024-03-21 21:06:31.948038: E tensorflow/compiler/xla/stream_executor/cuda/cuda_blas.cc:1518] Unable to register cuBLAS factory: Attempting to register factory for plugin cuBLAS when one has already been registered\n"
     ]
    },
    {
     "name": "stderr",
     "output_type": "stream",
     "text": [
      "\u001b[36m(TrainLightGCN pid=3513021)\u001b[0m /home/daviddavo/upm-tfm-notebooks/.direnv/python-3.9/lib/python3.9/site-packages/recommenders/models/deeprec/DataModel/ImplicitCF.py:73: FutureWarning: The frame.append method is deprecated and will be removed from pandas in a future version. Use pandas.concat instead.\n",
      "\u001b[36m(TrainLightGCN pid=3513021)\u001b[0m   df = train if test is None else train.append(test)\n"
     ]
    },
    {
     "name": "stdout",
     "output_type": "stream",
     "text": [
      "\u001b[36m(TrainLightGCN pid=3513021)\u001b[0m Already create adjacency matrix.\n",
      "\u001b[36m(TrainLightGCN pid=3513021)\u001b[0m Already normalize adjacency matrix.\n",
      "\u001b[36m(TrainLightGCN pid=3513021)\u001b[0m Using xavier initialization.\n"
     ]
    },
    {
     "name": "stderr",
     "output_type": "stream",
     "text": [
      "\u001b[36m(TrainLightGCN pid=3509481)\u001b[0m Checkpoint successfully created at: Checkpoint(filesystem=local, path=/home/daviddavo/ray_results/LightGCN_optim=map@10,dao=Decentraland,freq=W-THU,normalize=True,cutoff_date=2023-07-29T00:00:00,fold=9_2024-03-21T20:59:20.911809/TrainLightGCN_8b22b0ef_15_batch_size=8,conv_layers=5,embedding_dim=75,fold=9,l2=0.0000,learning_rate=0.0003_2024-03-21_21-00-35/checkpoint_000000)\n"
     ]
    },
    {
     "name": "stderr",
     "output_type": "stream",
     "text": [
      "\u001b[36m(pid=3513199)\u001b[0m 2024-03-21 21:06:38.708745: E tensorflow/compiler/xla/stream_executor/cuda/cuda_dnn.cc:9342] Unable to register cuDNN factory: Attempting to register factory for plugin cuDNN when one has already been registered\n",
      "\u001b[36m(pid=3513199)\u001b[0m 2024-03-21 21:06:38.708776: E tensorflow/compiler/xla/stream_executor/cuda/cuda_fft.cc:609] Unable to register cuFFT factory: Attempting to register factory for plugin cuFFT when one has already been registered\n",
      "\u001b[36m(pid=3513199)\u001b[0m 2024-03-21 21:06:38.708792: E tensorflow/compiler/xla/stream_executor/cuda/cuda_blas.cc:1518] Unable to register cuBLAS factory: Attempting to register factory for plugin cuBLAS when one has already been registered\n"
     ]
    },
    {
     "name": "stderr",
     "output_type": "stream",
     "text": [
      "\u001b[36m(TrainLightGCN pid=3513199)\u001b[0m /home/daviddavo/upm-tfm-notebooks/.direnv/python-3.9/lib/python3.9/site-packages/recommenders/models/deeprec/DataModel/ImplicitCF.py:73: FutureWarning: The frame.append method is deprecated and will be removed from pandas in a future version. Use pandas.concat instead.\n",
      "\u001b[36m(TrainLightGCN pid=3513199)\u001b[0m   df = train if test is None else train.append(test)\n"
     ]
    },
    {
     "name": "stdout",
     "output_type": "stream",
     "text": [
      "\u001b[36m(TrainLightGCN pid=3513199)\u001b[0m Already create adjacency matrix.\n",
      "\u001b[36m(TrainLightGCN pid=3513199)\u001b[0m Already normalize adjacency matrix.\n",
      "\u001b[36m(TrainLightGCN pid=3513199)\u001b[0m Using xavier initialization.\n"
     ]
    },
    {
     "name": "stderr",
     "output_type": "stream",
     "text": [
      "\u001b[36m(TrainLightGCN pid=3510576)\u001b[0m Checkpoint successfully created at: Checkpoint(filesystem=local, path=/home/daviddavo/ray_results/LightGCN_optim=map@10,dao=Decentraland,freq=W-THU,normalize=True,cutoff_date=2023-07-29T00:00:00,fold=9_2024-03-21T20:59:20.911809/TrainLightGCN_f378db3a_17_batch_size=7,conv_layers=4,embedding_dim=11,fold=9,l2=0.0000,learning_rate=0.0011_2024-03-21_21-00-49/checkpoint_000000)\n"
     ]
    },
    {
     "name": "stderr",
     "output_type": "stream",
     "text": [
      "\u001b[36m(pid=3514061)\u001b[0m 2024-03-21 21:10:27.422378: E tensorflow/compiler/xla/stream_executor/cuda/cuda_dnn.cc:9342] Unable to register cuDNN factory: Attempting to register factory for plugin cuDNN when one has already been registered\n",
      "\u001b[36m(pid=3514061)\u001b[0m 2024-03-21 21:10:27.422414: E tensorflow/compiler/xla/stream_executor/cuda/cuda_fft.cc:609] Unable to register cuFFT factory: Attempting to register factory for plugin cuFFT when one has already been registered\n",
      "\u001b[36m(pid=3514061)\u001b[0m 2024-03-21 21:10:27.422428: E tensorflow/compiler/xla/stream_executor/cuda/cuda_blas.cc:1518] Unable to register cuBLAS factory: Attempting to register factory for plugin cuBLAS when one has already been registered\n"
     ]
    },
    {
     "name": "stderr",
     "output_type": "stream",
     "text": [
      "\u001b[36m(TrainLightGCN pid=3510905)\u001b[0m Checkpoint successfully created at: Checkpoint(filesystem=local, path=/home/daviddavo/ray_results/LightGCN_optim=map@10,dao=Decentraland,freq=W-THU,normalize=True,cutoff_date=2023-07-29T00:00:00,fold=9_2024-03-21T20:59:20.911809/TrainLightGCN_037a5994_19_batch_size=9,conv_layers=4,embedding_dim=47,fold=9,l2=0.0000,learning_rate=0.0763_2024-03-21_21-05-04/checkpoint_000000)\n"
     ]
    },
    {
     "name": "stderr",
     "output_type": "stream",
     "text": [
      "\u001b[36m(TrainLightGCN pid=3514061)\u001b[0m /home/daviddavo/upm-tfm-notebooks/.direnv/python-3.9/lib/python3.9/site-packages/recommenders/models/deeprec/DataModel/ImplicitCF.py:73: FutureWarning: The frame.append method is deprecated and will be removed from pandas in a future version. Use pandas.concat instead.\n",
      "\u001b[36m(TrainLightGCN pid=3514061)\u001b[0m   df = train if test is None else train.append(test)\n"
     ]
    },
    {
     "name": "stdout",
     "output_type": "stream",
     "text": [
      "\u001b[36m(TrainLightGCN pid=3514061)\u001b[0m Already create adjacency matrix.\n",
      "\u001b[36m(TrainLightGCN pid=3514061)\u001b[0m Already normalize adjacency matrix.\n",
      "\u001b[36m(TrainLightGCN pid=3514061)\u001b[0m Using xavier initialization.\n"
     ]
    },
    {
     "name": "stderr",
     "output_type": "stream",
     "text": [
      "\u001b[36m(pid=3514211)\u001b[0m 2024-03-21 21:10:34.194116: E tensorflow/compiler/xla/stream_executor/cuda/cuda_dnn.cc:9342] Unable to register cuDNN factory: Attempting to register factory for plugin cuDNN when one has already been registered\n",
      "\u001b[36m(pid=3514211)\u001b[0m 2024-03-21 21:10:34.194151: E tensorflow/compiler/xla/stream_executor/cuda/cuda_fft.cc:609] Unable to register cuFFT factory: Attempting to register factory for plugin cuFFT when one has already been registered\n",
      "\u001b[36m(pid=3514211)\u001b[0m 2024-03-21 21:10:34.194167: E tensorflow/compiler/xla/stream_executor/cuda/cuda_blas.cc:1518] Unable to register cuBLAS factory: Attempting to register factory for plugin cuBLAS when one has already been registered\n"
     ]
    },
    {
     "name": "stderr",
     "output_type": "stream",
     "text": [
      "\u001b[36m(TrainLightGCN pid=3514211)\u001b[0m /home/daviddavo/upm-tfm-notebooks/.direnv/python-3.9/lib/python3.9/site-packages/recommenders/models/deeprec/DataModel/ImplicitCF.py:73: FutureWarning: The frame.append method is deprecated and will be removed from pandas in a future version. Use pandas.concat instead.\n",
      "\u001b[36m(TrainLightGCN pid=3514211)\u001b[0m   df = train if test is None else train.append(test)\n"
     ]
    },
    {
     "name": "stdout",
     "output_type": "stream",
     "text": [
      "\u001b[36m(TrainLightGCN pid=3514211)\u001b[0m Already create adjacency matrix.\n",
      "\u001b[36m(TrainLightGCN pid=3514211)\u001b[0m Already normalize adjacency matrix.\n",
      "\u001b[36m(TrainLightGCN pid=3514211)\u001b[0m Using xavier initialization.\n"
     ]
    },
    {
     "name": "stderr",
     "output_type": "stream",
     "text": [
      "\u001b[36m(TrainLightGCN pid=3510732)\u001b[0m Checkpoint successfully created at: Checkpoint(filesystem=local, path=/home/daviddavo/ray_results/LightGCN_optim=map@10,dao=Decentraland,freq=W-THU,normalize=True,cutoff_date=2023-07-29T00:00:00,fold=9_2024-03-21T20:59:20.911809/TrainLightGCN_d2456a1c_18_batch_size=7,conv_layers=3,embedding_dim=31,fold=9,l2=0.0014,learning_rate=0.4767_2024-03-21_21-04-58/checkpoint_000000)\n"
     ]
    },
    {
     "name": "stderr",
     "output_type": "stream",
     "text": [
      "\u001b[36m(pid=3514385)\u001b[0m 2024-03-21 21:10:41.113573: E tensorflow/compiler/xla/stream_executor/cuda/cuda_dnn.cc:9342] Unable to register cuDNN factory: Attempting to register factory for plugin cuDNN when one has already been registered\n",
      "\u001b[36m(pid=3514385)\u001b[0m 2024-03-21 21:10:41.113609: E tensorflow/compiler/xla/stream_executor/cuda/cuda_fft.cc:609] Unable to register cuFFT factory: Attempting to register factory for plugin cuFFT when one has already been registered\n",
      "\u001b[36m(pid=3514385)\u001b[0m 2024-03-21 21:10:41.113625: E tensorflow/compiler/xla/stream_executor/cuda/cuda_blas.cc:1518] Unable to register cuBLAS factory: Attempting to register factory for plugin cuBLAS when one has already been registered\n"
     ]
    },
    {
     "name": "stderr",
     "output_type": "stream",
     "text": [
      "\u001b[36m(TrainLightGCN pid=3514385)\u001b[0m /home/daviddavo/upm-tfm-notebooks/.direnv/python-3.9/lib/python3.9/site-packages/recommenders/models/deeprec/DataModel/ImplicitCF.py:73: FutureWarning: The frame.append method is deprecated and will be removed from pandas in a future version. Use pandas.concat instead.\n",
      "\u001b[36m(TrainLightGCN pid=3514385)\u001b[0m   df = train if test is None else train.append(test)\n"
     ]
    },
    {
     "name": "stdout",
     "output_type": "stream",
     "text": [
      "\u001b[36m(TrainLightGCN pid=3514385)\u001b[0m Already create adjacency matrix.\n",
      "\u001b[36m(TrainLightGCN pid=3514385)\u001b[0m Already normalize adjacency matrix.\n",
      "\u001b[36m(TrainLightGCN pid=3514385)\u001b[0m Using xavier initialization.\n"
     ]
    },
    {
     "name": "stderr",
     "output_type": "stream",
     "text": [
      "\u001b[36m(TrainLightGCN pid=3511085)\u001b[0m Checkpoint successfully created at: Checkpoint(filesystem=local, path=/home/daviddavo/ray_results/LightGCN_optim=map@10,dao=Decentraland,freq=W-THU,normalize=True,cutoff_date=2023-07-29T00:00:00,fold=9_2024-03-21T20:59:20.911809/TrainLightGCN_08cd9eb3_20_batch_size=7,conv_layers=2,embedding_dim=338,fold=9,l2=0.0000,learning_rate=0.0005_2024-03-21_21-05-10/checkpoint_000000)\n"
     ]
    },
    {
     "name": "stderr",
     "output_type": "stream",
     "text": [
      "\u001b[36m(pid=3514675)\u001b[0m 2024-03-21 21:11:17.375232: E tensorflow/compiler/xla/stream_executor/cuda/cuda_dnn.cc:9342] Unable to register cuDNN factory: Attempting to register factory for plugin cuDNN when one has already been registered\n",
      "\u001b[36m(pid=3514675)\u001b[0m 2024-03-21 21:11:17.375263: E tensorflow/compiler/xla/stream_executor/cuda/cuda_fft.cc:609] Unable to register cuFFT factory: Attempting to register factory for plugin cuFFT when one has already been registered\n",
      "\u001b[36m(pid=3514675)\u001b[0m 2024-03-21 21:11:17.375280: E tensorflow/compiler/xla/stream_executor/cuda/cuda_blas.cc:1518] Unable to register cuBLAS factory: Attempting to register factory for plugin cuBLAS when one has already been registered\n"
     ]
    },
    {
     "name": "stderr",
     "output_type": "stream",
     "text": [
      "\u001b[36m(TrainLightGCN pid=3514675)\u001b[0m /home/daviddavo/upm-tfm-notebooks/.direnv/python-3.9/lib/python3.9/site-packages/recommenders/models/deeprec/DataModel/ImplicitCF.py:73: FutureWarning: The frame.append method is deprecated and will be removed from pandas in a future version. Use pandas.concat instead.\n",
      "\u001b[36m(TrainLightGCN pid=3514675)\u001b[0m   df = train if test is None else train.append(test)\n"
     ]
    },
    {
     "name": "stdout",
     "output_type": "stream",
     "text": [
      "\u001b[36m(TrainLightGCN pid=3514675)\u001b[0m Already create adjacency matrix.\n",
      "\u001b[36m(TrainLightGCN pid=3514675)\u001b[0m Already normalize adjacency matrix.\n",
      "\u001b[36m(TrainLightGCN pid=3514675)\u001b[0m Using xavier initialization.\n"
     ]
    },
    {
     "name": "stderr",
     "output_type": "stream",
     "text": [
      "\u001b[36m(TrainLightGCN pid=3512650)\u001b[0m Checkpoint successfully created at: Checkpoint(filesystem=local, path=/home/daviddavo/ray_results/LightGCN_optim=map@10,dao=Decentraland,freq=W-THU,normalize=True,cutoff_date=2023-07-29T00:00:00,fold=9_2024-03-21T20:59:20.911809/TrainLightGCN_8455a51d_29_batch_size=8,conv_layers=3,embedding_dim=193,fold=9,l2=0.0000,learning_rate=0.0002_2024-03-21_21-06-09/checkpoint_000000)\n"
     ]
    },
    {
     "name": "stderr",
     "output_type": "stream",
     "text": [
      "\u001b[36m(pid=3514923)\u001b[0m 2024-03-21 21:11:49.775093: E tensorflow/compiler/xla/stream_executor/cuda/cuda_dnn.cc:9342] Unable to register cuDNN factory: Attempting to register factory for plugin cuDNN when one has already been registered\n",
      "\u001b[36m(pid=3514923)\u001b[0m 2024-03-21 21:11:49.775140: E tensorflow/compiler/xla/stream_executor/cuda/cuda_fft.cc:609] Unable to register cuFFT factory: Attempting to register factory for plugin cuFFT when one has already been registered\n",
      "\u001b[36m(pid=3514923)\u001b[0m 2024-03-21 21:11:49.775162: E tensorflow/compiler/xla/stream_executor/cuda/cuda_blas.cc:1518] Unable to register cuBLAS factory: Attempting to register factory for plugin cuBLAS when one has already been registered\n"
     ]
    },
    {
     "name": "stderr",
     "output_type": "stream",
     "text": [
      "\u001b[36m(TrainLightGCN pid=3514923)\u001b[0m /home/daviddavo/upm-tfm-notebooks/.direnv/python-3.9/lib/python3.9/site-packages/recommenders/models/deeprec/DataModel/ImplicitCF.py:73: FutureWarning: The frame.append method is deprecated and will be removed from pandas in a future version. Use pandas.concat instead.\n",
      "\u001b[36m(TrainLightGCN pid=3514923)\u001b[0m   df = train if test is None else train.append(test)\n"
     ]
    },
    {
     "name": "stdout",
     "output_type": "stream",
     "text": [
      "\u001b[36m(TrainLightGCN pid=3514923)\u001b[0m Already create adjacency matrix.\n",
      "\u001b[36m(TrainLightGCN pid=3514923)\u001b[0m Already normalize adjacency matrix.\n",
      "\u001b[36m(TrainLightGCN pid=3514923)\u001b[0m Using xavier initialization.\n"
     ]
    },
    {
     "name": "stderr",
     "output_type": "stream",
     "text": [
      "\u001b[36m(TrainLightGCN pid=3513021)\u001b[0m Checkpoint successfully created at: Checkpoint(filesystem=local, path=/home/daviddavo/ray_results/LightGCN_optim=map@10,dao=Decentraland,freq=W-THU,normalize=True,cutoff_date=2023-07-29T00:00:00,fold=9_2024-03-21T20:59:20.911809/TrainLightGCN_8623dd25_31_batch_size=8,conv_layers=2,embedding_dim=43,fold=9,l2=0.0000,learning_rate=0.0025_2024-03-21_21-06-30/checkpoint_000000)\n"
     ]
    },
    {
     "name": "stderr",
     "output_type": "stream",
     "text": [
      "\u001b[36m(pid=3515150)\u001b[0m 2024-03-21 21:12:14.619759: E tensorflow/compiler/xla/stream_executor/cuda/cuda_dnn.cc:9342] Unable to register cuDNN factory: Attempting to register factory for plugin cuDNN when one has already been registered\n",
      "\u001b[36m(pid=3515150)\u001b[0m 2024-03-21 21:12:14.619796: E tensorflow/compiler/xla/stream_executor/cuda/cuda_fft.cc:609] Unable to register cuFFT factory: Attempting to register factory for plugin cuFFT when one has already been registered\n",
      "\u001b[36m(pid=3515150)\u001b[0m 2024-03-21 21:12:14.619811: E tensorflow/compiler/xla/stream_executor/cuda/cuda_blas.cc:1518] Unable to register cuBLAS factory: Attempting to register factory for plugin cuBLAS when one has already been registered\n"
     ]
    },
    {
     "name": "stderr",
     "output_type": "stream",
     "text": [
      "\u001b[36m(TrainLightGCN pid=3515150)\u001b[0m /home/daviddavo/upm-tfm-notebooks/.direnv/python-3.9/lib/python3.9/site-packages/recommenders/models/deeprec/DataModel/ImplicitCF.py:73: FutureWarning: The frame.append method is deprecated and will be removed from pandas in a future version. Use pandas.concat instead.\n",
      "\u001b[36m(TrainLightGCN pid=3515150)\u001b[0m   df = train if test is None else train.append(test)\n"
     ]
    },
    {
     "name": "stdout",
     "output_type": "stream",
     "text": [
      "\u001b[36m(TrainLightGCN pid=3515150)\u001b[0m Already create adjacency matrix.\n"
     ]
    },
    {
     "name": "stdout",
     "output_type": "stream",
     "text": [
      "\u001b[36m(TrainLightGCN pid=3515150)\u001b[0m Already normalize adjacency matrix.\n",
      "\u001b[36m(TrainLightGCN pid=3515150)\u001b[0m Using xavier initialization.\n"
     ]
    },
    {
     "name": "stderr",
     "output_type": "stream",
     "text": [
      "\u001b[36m(TrainLightGCN pid=3513199)\u001b[0m Checkpoint successfully created at: Checkpoint(filesystem=local, path=/home/daviddavo/ray_results/LightGCN_optim=map@10,dao=Decentraland,freq=W-THU,normalize=True,cutoff_date=2023-07-29T00:00:00,fold=9_2024-03-21T20:59:20.911809/TrainLightGCN_c67452ee_32_batch_size=8,conv_layers=5,embedding_dim=54,fold=9,l2=0.0022,learning_rate=0.0001_2024-03-21_21-06-37/checkpoint_000000)\n"
     ]
    },
    {
     "name": "stderr",
     "output_type": "stream",
     "text": [
      "\u001b[36m(pid=3515305)\u001b[0m 2024-03-21 21:12:21.757131: E tensorflow/compiler/xla/stream_executor/cuda/cuda_dnn.cc:9342] Unable to register cuDNN factory: Attempting to register factory for plugin cuDNN when one has already been registered\n",
      "\u001b[36m(pid=3515305)\u001b[0m 2024-03-21 21:12:21.757164: E tensorflow/compiler/xla/stream_executor/cuda/cuda_fft.cc:609] Unable to register cuFFT factory: Attempting to register factory for plugin cuFFT when one has already been registered\n",
      "\u001b[36m(pid=3515305)\u001b[0m 2024-03-21 21:12:21.757180: E tensorflow/compiler/xla/stream_executor/cuda/cuda_blas.cc:1518] Unable to register cuBLAS factory: Attempting to register factory for plugin cuBLAS when one has already been registered\n"
     ]
    },
    {
     "name": "stderr",
     "output_type": "stream",
     "text": [
      "\u001b[36m(TrainLightGCN pid=3515305)\u001b[0m /home/daviddavo/upm-tfm-notebooks/.direnv/python-3.9/lib/python3.9/site-packages/recommenders/models/deeprec/DataModel/ImplicitCF.py:73: FutureWarning: The frame.append method is deprecated and will be removed from pandas in a future version. Use pandas.concat instead.\n",
      "\u001b[36m(TrainLightGCN pid=3515305)\u001b[0m   df = train if test is None else train.append(test)\n"
     ]
    },
    {
     "name": "stdout",
     "output_type": "stream",
     "text": [
      "\u001b[36m(TrainLightGCN pid=3515305)\u001b[0m Already create adjacency matrix.\n",
      "\u001b[36m(TrainLightGCN pid=3515305)\u001b[0m Already normalize adjacency matrix.\n",
      "\u001b[36m(TrainLightGCN pid=3515305)\u001b[0m Using xavier initialization.\n"
     ]
    },
    {
     "name": "stderr",
     "output_type": "stream",
     "text": [
      "\u001b[36m(TrainLightGCN pid=3512125)\u001b[0m Checkpoint successfully created at: Checkpoint(filesystem=local, path=/home/daviddavo/ray_results/LightGCN_optim=map@10,dao=Decentraland,freq=W-THU,normalize=True,cutoff_date=2023-07-29T00:00:00,fold=9_2024-03-21T20:59:20.911809/TrainLightGCN_7844acc4_26_batch_size=7,conv_layers=3,embedding_dim=1,fold=9,l2=0.0100,learning_rate=0.0007_2024-03-21_21-05-47/checkpoint_000000)\n"
     ]
    },
    {
     "name": "stderr",
     "output_type": "stream",
     "text": [
      "\u001b[36m(pid=3515526)\u001b[0m 2024-03-21 21:12:36.405800: E tensorflow/compiler/xla/stream_executor/cuda/cuda_dnn.cc:9342] Unable to register cuDNN factory: Attempting to register factory for plugin cuDNN when one has already been registered\n",
      "\u001b[36m(pid=3515526)\u001b[0m 2024-03-21 21:12:36.405838: E tensorflow/compiler/xla/stream_executor/cuda/cuda_fft.cc:609] Unable to register cuFFT factory: Attempting to register factory for plugin cuFFT when one has already been registered\n",
      "\u001b[36m(pid=3515526)\u001b[0m 2024-03-21 21:12:36.405854: E tensorflow/compiler/xla/stream_executor/cuda/cuda_blas.cc:1518] Unable to register cuBLAS factory: Attempting to register factory for plugin cuBLAS when one has already been registered\n"
     ]
    },
    {
     "name": "stderr",
     "output_type": "stream",
     "text": [
      "\u001b[36m(TrainLightGCN pid=3515526)\u001b[0m /home/daviddavo/upm-tfm-notebooks/.direnv/python-3.9/lib/python3.9/site-packages/recommenders/models/deeprec/DataModel/ImplicitCF.py:73: FutureWarning: The frame.append method is deprecated and will be removed from pandas in a future version. Use pandas.concat instead.\n",
      "\u001b[36m(TrainLightGCN pid=3515526)\u001b[0m   df = train if test is None else train.append(test)\n"
     ]
    },
    {
     "name": "stdout",
     "output_type": "stream",
     "text": [
      "\u001b[36m(TrainLightGCN pid=3515526)\u001b[0m Already create adjacency matrix.\n",
      "\u001b[36m(TrainLightGCN pid=3515526)\u001b[0m Already normalize adjacency matrix.\n",
      "\u001b[36m(TrainLightGCN pid=3515526)\u001b[0m Using xavier initialization.\n"
     ]
    },
    {
     "name": "stderr",
     "output_type": "stream",
     "text": [
      "\u001b[36m(TrainLightGCN pid=3512297)\u001b[0m Checkpoint successfully created at: Checkpoint(filesystem=local, path=/home/daviddavo/ray_results/LightGCN_optim=map@10,dao=Decentraland,freq=W-THU,normalize=True,cutoff_date=2023-07-29T00:00:00,fold=9_2024-03-21T20:59:20.911809/TrainLightGCN_3f26d43f_27_batch_size=7,conv_layers=2,embedding_dim=571,fold=9,l2=0.0003,learning_rate=0.0002_2024-03-21_21-05-54/checkpoint_000000)\n"
     ]
    },
    {
     "name": "stderr",
     "output_type": "stream",
     "text": [
      "\u001b[36m(pid=3515678)\u001b[0m 2024-03-21 21:12:43.398788: E tensorflow/compiler/xla/stream_executor/cuda/cuda_dnn.cc:9342] Unable to register cuDNN factory: Attempting to register factory for plugin cuDNN when one has already been registered\n",
      "\u001b[36m(pid=3515678)\u001b[0m 2024-03-21 21:12:43.398826: E tensorflow/compiler/xla/stream_executor/cuda/cuda_fft.cc:609] Unable to register cuFFT factory: Attempting to register factory for plugin cuFFT when one has already been registered\n",
      "\u001b[36m(pid=3515678)\u001b[0m 2024-03-21 21:12:43.398843: E tensorflow/compiler/xla/stream_executor/cuda/cuda_blas.cc:1518] Unable to register cuBLAS factory: Attempting to register factory for plugin cuBLAS when one has already been registered\n"
     ]
    },
    {
     "name": "stderr",
     "output_type": "stream",
     "text": [
      "\u001b[36m(TrainLightGCN pid=3515678)\u001b[0m /home/daviddavo/upm-tfm-notebooks/.direnv/python-3.9/lib/python3.9/site-packages/recommenders/models/deeprec/DataModel/ImplicitCF.py:73: FutureWarning: The frame.append method is deprecated and will be removed from pandas in a future version. Use pandas.concat instead.\n",
      "\u001b[36m(TrainLightGCN pid=3515678)\u001b[0m   df = train if test is None else train.append(test)\n"
     ]
    },
    {
     "name": "stdout",
     "output_type": "stream",
     "text": [
      "\u001b[36m(TrainLightGCN pid=3515678)\u001b[0m Already create adjacency matrix.\n",
      "\u001b[36m(TrainLightGCN pid=3515678)\u001b[0m Already normalize adjacency matrix.\n",
      "\u001b[36m(TrainLightGCN pid=3515678)\u001b[0m Using xavier initialization.\n"
     ]
    },
    {
     "name": "stderr",
     "output_type": "stream",
     "text": [
      "\u001b[36m(TrainLightGCN pid=3512866)\u001b[0m Checkpoint successfully created at: Checkpoint(filesystem=local, path=/home/daviddavo/ray_results/LightGCN_optim=map@10,dao=Decentraland,freq=W-THU,normalize=True,cutoff_date=2023-07-29T00:00:00,fold=9_2024-03-21T20:59:20.911809/TrainLightGCN_97a74f50_30_batch_size=7,conv_layers=1,embedding_dim=17,fold=9,l2=0.0001,learning_rate=0.0008_2024-03-21_21-06-16/checkpoint_000000)\n"
     ]
    },
    {
     "name": "stderr",
     "output_type": "stream",
     "text": [
      "\u001b[36m(pid=3515974)\u001b[0m 2024-03-21 21:13:22.529714: E tensorflow/compiler/xla/stream_executor/cuda/cuda_dnn.cc:9342] Unable to register cuDNN factory: Attempting to register factory for plugin cuDNN when one has already been registered\n",
      "\u001b[36m(pid=3515974)\u001b[0m 2024-03-21 21:13:22.529748: E tensorflow/compiler/xla/stream_executor/cuda/cuda_fft.cc:609] Unable to register cuFFT factory: Attempting to register factory for plugin cuFFT when one has already been registered\n",
      "\u001b[36m(pid=3515974)\u001b[0m 2024-03-21 21:13:22.529764: E tensorflow/compiler/xla/stream_executor/cuda/cuda_blas.cc:1518] Unable to register cuBLAS factory: Attempting to register factory for plugin cuBLAS when one has already been registered\n"
     ]
    },
    {
     "name": "stderr",
     "output_type": "stream",
     "text": [
      "\u001b[36m(TrainLightGCN pid=3515974)\u001b[0m /home/daviddavo/upm-tfm-notebooks/.direnv/python-3.9/lib/python3.9/site-packages/recommenders/models/deeprec/DataModel/ImplicitCF.py:73: FutureWarning: The frame.append method is deprecated and will be removed from pandas in a future version. Use pandas.concat instead.\n",
      "\u001b[36m(TrainLightGCN pid=3515974)\u001b[0m   df = train if test is None else train.append(test)\n"
     ]
    },
    {
     "name": "stdout",
     "output_type": "stream",
     "text": [
      "\u001b[36m(TrainLightGCN pid=3515974)\u001b[0m Already create adjacency matrix.\n",
      "\u001b[36m(TrainLightGCN pid=3515974)\u001b[0m Already normalize adjacency matrix.\n",
      "\u001b[36m(TrainLightGCN pid=3515974)\u001b[0m Using xavier initialization.\n"
     ]
    },
    {
     "name": "stderr",
     "output_type": "stream",
     "text": [
      "\u001b[36m(TrainLightGCN pid=3511268)\u001b[0m Checkpoint successfully created at: Checkpoint(filesystem=local, path=/home/daviddavo/ray_results/LightGCN_optim=map@10,dao=Decentraland,freq=W-THU,normalize=True,cutoff_date=2023-07-29T00:00:00,fold=9_2024-03-21T20:59:20.911809/TrainLightGCN_338395b3_21_batch_size=6,conv_layers=5,embedding_dim=806,fold=9,l2=0.0001,learning_rate=0.0251_2024-03-21_21-05-16/checkpoint_000000)\n"
     ]
    },
    {
     "name": "stderr",
     "output_type": "stream",
     "text": [
      "\u001b[36m(pid=3516193)\u001b[0m 2024-03-21 21:13:43.555341: E tensorflow/compiler/xla/stream_executor/cuda/cuda_dnn.cc:9342] Unable to register cuDNN factory: Attempting to register factory for plugin cuDNN when one has already been registered\n",
      "\u001b[36m(pid=3516193)\u001b[0m 2024-03-21 21:13:43.555380: E tensorflow/compiler/xla/stream_executor/cuda/cuda_fft.cc:609] Unable to register cuFFT factory: Attempting to register factory for plugin cuFFT when one has already been registered\n",
      "\u001b[36m(pid=3516193)\u001b[0m 2024-03-21 21:13:43.555395: E tensorflow/compiler/xla/stream_executor/cuda/cuda_blas.cc:1518] Unable to register cuBLAS factory: Attempting to register factory for plugin cuBLAS when one has already been registered\n"
     ]
    },
    {
     "name": "stderr",
     "output_type": "stream",
     "text": [
      "\u001b[36m(TrainLightGCN pid=3516193)\u001b[0m /home/daviddavo/upm-tfm-notebooks/.direnv/python-3.9/lib/python3.9/site-packages/recommenders/models/deeprec/DataModel/ImplicitCF.py:73: FutureWarning: The frame.append method is deprecated and will be removed from pandas in a future version. Use pandas.concat instead.\n",
      "\u001b[36m(TrainLightGCN pid=3516193)\u001b[0m   df = train if test is None else train.append(test)\n"
     ]
    },
    {
     "name": "stdout",
     "output_type": "stream",
     "text": [
      "\u001b[36m(TrainLightGCN pid=3516193)\u001b[0m Already create adjacency matrix.\n",
      "\u001b[36m(TrainLightGCN pid=3516193)\u001b[0m Already normalize adjacency matrix.\n",
      "\u001b[36m(TrainLightGCN pid=3516193)\u001b[0m Using xavier initialization.\n"
     ]
    },
    {
     "name": "stderr",
     "output_type": "stream",
     "text": [
      "\u001b[36m(TrainLightGCN pid=3511441)\u001b[0m Checkpoint successfully created at: Checkpoint(filesystem=local, path=/home/daviddavo/ray_results/LightGCN_optim=map@10,dao=Decentraland,freq=W-THU,normalize=True,cutoff_date=2023-07-29T00:00:00,fold=9_2024-03-21T20:59:20.911809/TrainLightGCN_090ad08d_22_batch_size=6,conv_layers=2,embedding_dim=2,fold=9,l2=0.0000,learning_rate=0.0034_2024-03-21_21-05-22/checkpoint_000000)\n"
     ]
    },
    {
     "name": "stderr",
     "output_type": "stream",
     "text": [
      "\u001b[36m(pid=3516417)\u001b[0m 2024-03-21 21:14:05.700146: E tensorflow/compiler/xla/stream_executor/cuda/cuda_dnn.cc:9342] Unable to register cuDNN factory: Attempting to register factory for plugin cuDNN when one has already been registered\n",
      "\u001b[36m(pid=3516417)\u001b[0m 2024-03-21 21:14:05.700176: E tensorflow/compiler/xla/stream_executor/cuda/cuda_fft.cc:609] Unable to register cuFFT factory: Attempting to register factory for plugin cuFFT when one has already been registered\n",
      "\u001b[36m(pid=3516417)\u001b[0m 2024-03-21 21:14:05.700193: E tensorflow/compiler/xla/stream_executor/cuda/cuda_blas.cc:1518] Unable to register cuBLAS factory: Attempting to register factory for plugin cuBLAS when one has already been registered\n"
     ]
    },
    {
     "name": "stderr",
     "output_type": "stream",
     "text": [
      "\u001b[36m(TrainLightGCN pid=3516417)\u001b[0m /home/daviddavo/upm-tfm-notebooks/.direnv/python-3.9/lib/python3.9/site-packages/recommenders/models/deeprec/DataModel/ImplicitCF.py:73: FutureWarning: The frame.append method is deprecated and will be removed from pandas in a future version. Use pandas.concat instead.\n",
      "\u001b[36m(TrainLightGCN pid=3516417)\u001b[0m   df = train if test is None else train.append(test)\n"
     ]
    },
    {
     "name": "stdout",
     "output_type": "stream",
     "text": [
      "\u001b[36m(TrainLightGCN pid=3516417)\u001b[0m Already create adjacency matrix.\n",
      "\u001b[36m(TrainLightGCN pid=3516417)\u001b[0m Already normalize adjacency matrix.\n",
      "\u001b[36m(TrainLightGCN pid=3516417)\u001b[0m Using xavier initialization.\n"
     ]
    },
    {
     "name": "stderr",
     "output_type": "stream",
     "text": [
      "\u001b[36m(TrainLightGCN pid=3511609)\u001b[0m Checkpoint successfully created at: Checkpoint(filesystem=local, path=/home/daviddavo/ray_results/LightGCN_optim=map@10,dao=Decentraland,freq=W-THU,normalize=True,cutoff_date=2023-07-29T00:00:00,fold=9_2024-03-21T20:59:20.911809/TrainLightGCN_a386ed48_23_batch_size=6,conv_layers=3,embedding_dim=2,fold=9,l2=0.0002,learning_rate=0.0001_2024-03-21_21-05-29/checkpoint_000000)\n"
     ]
    },
    {
     "name": "stderr",
     "output_type": "stream",
     "text": [
      "\u001b[36m(pid=3516597)\u001b[0m 2024-03-21 21:14:15.548120: E tensorflow/compiler/xla/stream_executor/cuda/cuda_dnn.cc:9342] Unable to register cuDNN factory: Attempting to register factory for plugin cuDNN when one has already been registered\n",
      "\u001b[36m(pid=3516597)\u001b[0m 2024-03-21 21:14:15.548191: E tensorflow/compiler/xla/stream_executor/cuda/cuda_fft.cc:609] Unable to register cuFFT factory: Attempting to register factory for plugin cuFFT when one has already been registered\n",
      "\u001b[36m(pid=3516597)\u001b[0m 2024-03-21 21:14:15.548218: E tensorflow/compiler/xla/stream_executor/cuda/cuda_blas.cc:1518] Unable to register cuBLAS factory: Attempting to register factory for plugin cuBLAS when one has already been registered\n"
     ]
    },
    {
     "name": "stderr",
     "output_type": "stream",
     "text": [
      "\u001b[36m(TrainLightGCN pid=3516597)\u001b[0m /home/daviddavo/upm-tfm-notebooks/.direnv/python-3.9/lib/python3.9/site-packages/recommenders/models/deeprec/DataModel/ImplicitCF.py:73: FutureWarning: The frame.append method is deprecated and will be removed from pandas in a future version. Use pandas.concat instead.\n",
      "\u001b[36m(TrainLightGCN pid=3516597)\u001b[0m   df = train if test is None else train.append(test)\n"
     ]
    },
    {
     "name": "stdout",
     "output_type": "stream",
     "text": [
      "\u001b[36m(TrainLightGCN pid=3516597)\u001b[0m Already create adjacency matrix.\n",
      "\u001b[36m(TrainLightGCN pid=3516597)\u001b[0m Already normalize adjacency matrix.\n",
      "\u001b[36m(TrainLightGCN pid=3516597)\u001b[0m Using xavier initialization.\n"
     ]
    },
    {
     "name": "stderr",
     "output_type": "stream",
     "text": [
      "\u001b[36m(TrainLightGCN pid=3511781)\u001b[0m Checkpoint successfully created at: Checkpoint(filesystem=local, path=/home/daviddavo/ray_results/LightGCN_optim=map@10,dao=Decentraland,freq=W-THU,normalize=True,cutoff_date=2023-07-29T00:00:00,fold=9_2024-03-21T20:59:20.911809/TrainLightGCN_b211ade6_24_batch_size=6,conv_layers=1,embedding_dim=16,fold=9,l2=0.0001,learning_rate=0.0043_2024-03-21_21-05-35/checkpoint_000000)\n"
     ]
    },
    {
     "name": "stderr",
     "output_type": "stream",
     "text": [
      "\u001b[36m(pid=3516777)\u001b[0m 2024-03-21 21:14:24.386095: E tensorflow/compiler/xla/stream_executor/cuda/cuda_dnn.cc:9342] Unable to register cuDNN factory: Attempting to register factory for plugin cuDNN when one has already been registered\n",
      "\u001b[36m(pid=3516777)\u001b[0m 2024-03-21 21:14:24.386130: E tensorflow/compiler/xla/stream_executor/cuda/cuda_fft.cc:609] Unable to register cuFFT factory: Attempting to register factory for plugin cuFFT when one has already been registered\n",
      "\u001b[36m(pid=3516777)\u001b[0m 2024-03-21 21:14:24.386146: E tensorflow/compiler/xla/stream_executor/cuda/cuda_blas.cc:1518] Unable to register cuBLAS factory: Attempting to register factory for plugin cuBLAS when one has already been registered\n"
     ]
    },
    {
     "name": "stderr",
     "output_type": "stream",
     "text": [
      "\u001b[36m(TrainLightGCN pid=3516777)\u001b[0m /home/daviddavo/upm-tfm-notebooks/.direnv/python-3.9/lib/python3.9/site-packages/recommenders/models/deeprec/DataModel/ImplicitCF.py:73: FutureWarning: The frame.append method is deprecated and will be removed from pandas in a future version. Use pandas.concat instead.\n",
      "\u001b[36m(TrainLightGCN pid=3516777)\u001b[0m   df = train if test is None else train.append(test)\n"
     ]
    },
    {
     "name": "stdout",
     "output_type": "stream",
     "text": [
      "\u001b[36m(TrainLightGCN pid=3516777)\u001b[0m Already create adjacency matrix.\n",
      "\u001b[36m(TrainLightGCN pid=3516777)\u001b[0m Already normalize adjacency matrix.\n",
      "\u001b[36m(TrainLightGCN pid=3516777)\u001b[0m Using xavier initialization.\n"
     ]
    },
    {
     "name": "stderr",
     "output_type": "stream",
     "text": [
      "\u001b[36m(TrainLightGCN pid=3512469)\u001b[0m Checkpoint successfully created at: Checkpoint(filesystem=local, path=/home/daviddavo/ray_results/LightGCN_optim=map@10,dao=Decentraland,freq=W-THU,normalize=True,cutoff_date=2023-07-29T00:00:00,fold=9_2024-03-21T20:59:20.911809/TrainLightGCN_31fc4a29_28_batch_size=6,conv_layers=5,embedding_dim=127,fold=9,l2=0.0003,learning_rate=0.0017_2024-03-21_21-06-01/checkpoint_000000)\n"
     ]
    },
    {
     "name": "stderr",
     "output_type": "stream",
     "text": [
      "\u001b[36m(pid=3517048)\u001b[0m 2024-03-21 21:15:03.671878: E tensorflow/compiler/xla/stream_executor/cuda/cuda_dnn.cc:9342] Unable to register cuDNN factory: Attempting to register factory for plugin cuDNN when one has already been registered\n",
      "\u001b[36m(pid=3517048)\u001b[0m 2024-03-21 21:15:03.671924: E tensorflow/compiler/xla/stream_executor/cuda/cuda_fft.cc:609] Unable to register cuFFT factory: Attempting to register factory for plugin cuFFT when one has already been registered\n",
      "\u001b[36m(pid=3517048)\u001b[0m 2024-03-21 21:15:03.671944: E tensorflow/compiler/xla/stream_executor/cuda/cuda_blas.cc:1518] Unable to register cuBLAS factory: Attempting to register factory for plugin cuBLAS when one has already been registered\n"
     ]
    },
    {
     "name": "stderr",
     "output_type": "stream",
     "text": [
      "\u001b[36m(TrainLightGCN pid=3517048)\u001b[0m /home/daviddavo/upm-tfm-notebooks/.direnv/python-3.9/lib/python3.9/site-packages/recommenders/models/deeprec/DataModel/ImplicitCF.py:73: FutureWarning: The frame.append method is deprecated and will be removed from pandas in a future version. Use pandas.concat instead.\n",
      "\u001b[36m(TrainLightGCN pid=3517048)\u001b[0m   df = train if test is None else train.append(test)\n"
     ]
    },
    {
     "name": "stdout",
     "output_type": "stream",
     "text": [
      "\u001b[36m(TrainLightGCN pid=3517048)\u001b[0m Already create adjacency matrix.\n",
      "\u001b[36m(TrainLightGCN pid=3517048)\u001b[0m Already normalize adjacency matrix.\n",
      "\u001b[36m(TrainLightGCN pid=3517048)\u001b[0m Using xavier initialization.\n"
     ]
    },
    {
     "name": "stderr",
     "output_type": "stream",
     "text": [
      "\u001b[36m(TrainLightGCN pid=3511951)\u001b[0m Checkpoint successfully created at: Checkpoint(filesystem=local, path=/home/daviddavo/ray_results/LightGCN_optim=map@10,dao=Decentraland,freq=W-THU,normalize=True,cutoff_date=2023-07-29T00:00:00,fold=9_2024-03-21T20:59:20.911809/TrainLightGCN_db5affde_25_batch_size=6,conv_layers=5,embedding_dim=1010,fold=9,l2=0.0000,learning_rate=0.0170_2024-03-21_21-05-41/checkpoint_000000)\n"
     ]
    },
    {
     "name": "stderr",
     "output_type": "stream",
     "text": [
      "\u001b[36m(pid=3517394)\u001b[0m 2024-03-21 21:16:06.677736: E tensorflow/compiler/xla/stream_executor/cuda/cuda_dnn.cc:9342] Unable to register cuDNN factory: Attempting to register factory for plugin cuDNN when one has already been registered\n",
      "\u001b[36m(pid=3517394)\u001b[0m 2024-03-21 21:16:06.677772: E tensorflow/compiler/xla/stream_executor/cuda/cuda_fft.cc:609] Unable to register cuFFT factory: Attempting to register factory for plugin cuFFT when one has already been registered\n",
      "\u001b[36m(pid=3517394)\u001b[0m 2024-03-21 21:16:06.677786: E tensorflow/compiler/xla/stream_executor/cuda/cuda_blas.cc:1518] Unable to register cuBLAS factory: Attempting to register factory for plugin cuBLAS when one has already been registered\n"
     ]
    },
    {
     "name": "stderr",
     "output_type": "stream",
     "text": [
      "\u001b[36m(TrainLightGCN pid=3517394)\u001b[0m /home/daviddavo/upm-tfm-notebooks/.direnv/python-3.9/lib/python3.9/site-packages/recommenders/models/deeprec/DataModel/ImplicitCF.py:73: FutureWarning: The frame.append method is deprecated and will be removed from pandas in a future version. Use pandas.concat instead.\n",
      "\u001b[36m(TrainLightGCN pid=3517394)\u001b[0m   df = train if test is None else train.append(test)\n"
     ]
    },
    {
     "name": "stdout",
     "output_type": "stream",
     "text": [
      "\u001b[36m(TrainLightGCN pid=3517394)\u001b[0m Already create adjacency matrix.\n",
      "\u001b[36m(TrainLightGCN pid=3517394)\u001b[0m Already normalize adjacency matrix.\n",
      "\u001b[36m(TrainLightGCN pid=3517394)\u001b[0m Using xavier initialization.\n"
     ]
    },
    {
     "name": "stderr",
     "output_type": "stream",
     "text": [
      "\u001b[36m(TrainLightGCN pid=3514211)\u001b[0m Checkpoint successfully created at: Checkpoint(filesystem=local, path=/home/daviddavo/ray_results/LightGCN_optim=map@10,dao=Decentraland,freq=W-THU,normalize=True,cutoff_date=2023-07-29T00:00:00,fold=9_2024-03-21T20:59:20.911809/TrainLightGCN_f8ac8003_34_batch_size=7,conv_layers=4,embedding_dim=188,fold=9,l2=0.0000,learning_rate=0.0064_2024-03-21_21-10-33/checkpoint_000000)\n"
     ]
    },
    {
     "name": "stderr",
     "output_type": "stream",
     "text": [
      "\u001b[36m(pid=3517810)\u001b[0m 2024-03-21 21:17:31.500952: E tensorflow/compiler/xla/stream_executor/cuda/cuda_dnn.cc:9342] Unable to register cuDNN factory: Attempting to register factory for plugin cuDNN when one has already been registered\n",
      "\u001b[36m(pid=3517810)\u001b[0m 2024-03-21 21:17:31.500990: E tensorflow/compiler/xla/stream_executor/cuda/cuda_fft.cc:609] Unable to register cuFFT factory: Attempting to register factory for plugin cuFFT when one has already been registered\n",
      "\u001b[36m(pid=3517810)\u001b[0m 2024-03-21 21:17:31.501006: E tensorflow/compiler/xla/stream_executor/cuda/cuda_blas.cc:1518] Unable to register cuBLAS factory: Attempting to register factory for plugin cuBLAS when one has already been registered\n"
     ]
    },
    {
     "name": "stderr",
     "output_type": "stream",
     "text": [
      "\u001b[36m(TrainLightGCN pid=3517810)\u001b[0m /home/daviddavo/upm-tfm-notebooks/.direnv/python-3.9/lib/python3.9/site-packages/recommenders/models/deeprec/DataModel/ImplicitCF.py:73: FutureWarning: The frame.append method is deprecated and will be removed from pandas in a future version. Use pandas.concat instead.\n",
      "\u001b[36m(TrainLightGCN pid=3517810)\u001b[0m   df = train if test is None else train.append(test)\n"
     ]
    },
    {
     "name": "stdout",
     "output_type": "stream",
     "text": [
      "\u001b[36m(TrainLightGCN pid=3517810)\u001b[0m Already create adjacency matrix.\n",
      "\u001b[36m(TrainLightGCN pid=3517810)\u001b[0m Already normalize adjacency matrix.\n",
      "\u001b[36m(TrainLightGCN pid=3517810)\u001b[0m Using xavier initialization.\n"
     ]
    },
    {
     "name": "stderr",
     "output_type": "stream",
     "text": [
      "\u001b[36m(TrainLightGCN pid=3514385)\u001b[0m Checkpoint successfully created at: Checkpoint(filesystem=local, path=/home/daviddavo/ray_results/LightGCN_optim=map@10,dao=Decentraland,freq=W-THU,normalize=True,cutoff_date=2023-07-29T00:00:00,fold=9_2024-03-21T20:59:20.911809/TrainLightGCN_9d626441_35_batch_size=7,conv_layers=3,embedding_dim=528,fold=9,l2=0.0000,learning_rate=0.0422_2024-03-21_21-10-39/checkpoint_000000)\n"
     ]
    },
    {
     "name": "stderr",
     "output_type": "stream",
     "text": [
      "\u001b[36m(pid=3517959)\u001b[0m 2024-03-21 21:17:38.041501: E tensorflow/compiler/xla/stream_executor/cuda/cuda_dnn.cc:9342] Unable to register cuDNN factory: Attempting to register factory for plugin cuDNN when one has already been registered\n",
      "\u001b[36m(pid=3517959)\u001b[0m 2024-03-21 21:17:38.041539: E tensorflow/compiler/xla/stream_executor/cuda/cuda_fft.cc:609] Unable to register cuFFT factory: Attempting to register factory for plugin cuFFT when one has already been registered\n",
      "\u001b[36m(pid=3517959)\u001b[0m 2024-03-21 21:17:38.041556: E tensorflow/compiler/xla/stream_executor/cuda/cuda_blas.cc:1518] Unable to register cuBLAS factory: Attempting to register factory for plugin cuBLAS when one has already been registered\n"
     ]
    },
    {
     "name": "stderr",
     "output_type": "stream",
     "text": [
      "\u001b[36m(TrainLightGCN pid=3517959)\u001b[0m /home/daviddavo/upm-tfm-notebooks/.direnv/python-3.9/lib/python3.9/site-packages/recommenders/models/deeprec/DataModel/ImplicitCF.py:73: FutureWarning: The frame.append method is deprecated and will be removed from pandas in a future version. Use pandas.concat instead.\n",
      "\u001b[36m(TrainLightGCN pid=3517959)\u001b[0m   df = train if test is None else train.append(test)\n"
     ]
    },
    {
     "name": "stdout",
     "output_type": "stream",
     "text": [
      "\u001b[36m(TrainLightGCN pid=3517959)\u001b[0m Already create adjacency matrix.\n",
      "\u001b[36m(TrainLightGCN pid=3517959)\u001b[0m Already normalize adjacency matrix.\n",
      "\u001b[36m(TrainLightGCN pid=3517959)\u001b[0m Using xavier initialization.\n"
     ]
    },
    {
     "name": "stderr",
     "output_type": "stream",
     "text": [
      "\u001b[36m(TrainLightGCN pid=3515150)\u001b[0m Checkpoint successfully created at: Checkpoint(filesystem=local, path=/home/daviddavo/ray_results/LightGCN_optim=map@10,dao=Decentraland,freq=W-THU,normalize=True,cutoff_date=2023-07-29T00:00:00,fold=9_2024-03-21T20:59:20.911809/TrainLightGCN_accfc34f_38_batch_size=8,conv_layers=4,embedding_dim=282,fold=9,l2=0.0006,learning_rate=0.0006_2024-03-21_21-11-55/checkpoint_000000)\n"
     ]
    },
    {
     "name": "stderr",
     "output_type": "stream",
     "text": [
      "\u001b[36m(pid=3518188)\u001b[0m 2024-03-21 21:17:55.468021: E tensorflow/compiler/xla/stream_executor/cuda/cuda_dnn.cc:9342] Unable to register cuDNN factory: Attempting to register factory for plugin cuDNN when one has already been registered\n",
      "\u001b[36m(pid=3518188)\u001b[0m 2024-03-21 21:17:55.468183: E tensorflow/compiler/xla/stream_executor/cuda/cuda_fft.cc:609] Unable to register cuFFT factory: Attempting to register factory for plugin cuFFT when one has already been registered\n",
      "\u001b[36m(pid=3518188)\u001b[0m 2024-03-21 21:17:55.468202: E tensorflow/compiler/xla/stream_executor/cuda/cuda_blas.cc:1518] Unable to register cuBLAS factory: Attempting to register factory for plugin cuBLAS when one has already been registered\n"
     ]
    },
    {
     "name": "stderr",
     "output_type": "stream",
     "text": [
      "\u001b[36m(TrainLightGCN pid=3518188)\u001b[0m /home/daviddavo/upm-tfm-notebooks/.direnv/python-3.9/lib/python3.9/site-packages/recommenders/models/deeprec/DataModel/ImplicitCF.py:73: FutureWarning: The frame.append method is deprecated and will be removed from pandas in a future version. Use pandas.concat instead.\n",
      "\u001b[36m(TrainLightGCN pid=3518188)\u001b[0m   df = train if test is None else train.append(test)\n"
     ]
    },
    {
     "name": "stdout",
     "output_type": "stream",
     "text": [
      "\u001b[36m(TrainLightGCN pid=3518188)\u001b[0m Already create adjacency matrix.\n",
      "\u001b[36m(TrainLightGCN pid=3518188)\u001b[0m Already normalize adjacency matrix.\n",
      "\u001b[36m(TrainLightGCN pid=3518188)\u001b[0m Using xavier initialization.\n"
     ]
    },
    {
     "name": "stderr",
     "output_type": "stream",
     "text": [
      "\u001b[36m(TrainLightGCN pid=3514675)\u001b[0m Checkpoint successfully created at: Checkpoint(filesystem=local, path=/home/daviddavo/ray_results/LightGCN_optim=map@10,dao=Decentraland,freq=W-THU,normalize=True,cutoff_date=2023-07-29T00:00:00,fold=9_2024-03-21T20:59:20.911809/TrainLightGCN_615a1d06_36_batch_size=7,conv_layers=4,embedding_dim=67,fold=9,l2=0.0000,learning_rate=0.0011_2024-03-21_21-10-46/checkpoint_000000)\n"
     ]
    },
    {
     "name": "stderr",
     "output_type": "stream",
     "text": [
      "\u001b[36m(pid=3518373)\u001b[0m 2024-03-21 21:18:05.523852: E tensorflow/compiler/xla/stream_executor/cuda/cuda_dnn.cc:9342] Unable to register cuDNN factory: Attempting to register factory for plugin cuDNN when one has already been registered\n",
      "\u001b[36m(pid=3518373)\u001b[0m 2024-03-21 21:18:05.523959: E tensorflow/compiler/xla/stream_executor/cuda/cuda_fft.cc:609] Unable to register cuFFT factory: Attempting to register factory for plugin cuFFT when one has already been registered\n",
      "\u001b[36m(pid=3518373)\u001b[0m 2024-03-21 21:18:05.523978: E tensorflow/compiler/xla/stream_executor/cuda/cuda_blas.cc:1518] Unable to register cuBLAS factory: Attempting to register factory for plugin cuBLAS when one has already been registered\n"
     ]
    },
    {
     "name": "stderr",
     "output_type": "stream",
     "text": [
      "\u001b[36m(TrainLightGCN pid=3518373)\u001b[0m /home/daviddavo/upm-tfm-notebooks/.direnv/python-3.9/lib/python3.9/site-packages/recommenders/models/deeprec/DataModel/ImplicitCF.py:73: FutureWarning: The frame.append method is deprecated and will be removed from pandas in a future version. Use pandas.concat instead.\n",
      "\u001b[36m(TrainLightGCN pid=3518373)\u001b[0m   df = train if test is None else train.append(test)\n"
     ]
    },
    {
     "name": "stdout",
     "output_type": "stream",
     "text": [
      "\u001b[36m(TrainLightGCN pid=3518373)\u001b[0m Already create adjacency matrix.\n",
      "\u001b[36m(TrainLightGCN pid=3518373)\u001b[0m Already normalize adjacency matrix.\n",
      "\u001b[36m(TrainLightGCN pid=3518373)\u001b[0m Using xavier initialization.\n"
     ]
    },
    {
     "name": "stderr",
     "output_type": "stream",
     "text": [
      "\u001b[36m(TrainLightGCN pid=3515974)\u001b[0m Checkpoint successfully created at: Checkpoint(filesystem=local, path=/home/daviddavo/ray_results/LightGCN_optim=map@10,dao=Decentraland,freq=W-THU,normalize=True,cutoff_date=2023-07-29T00:00:00,fold=9_2024-03-21T20:59:20.911809/TrainLightGCN_211e621b_42_batch_size=8,conv_layers=3,embedding_dim=99,fold=9,l2=0.0000,learning_rate=0.0002_2024-03-21_21-12-49/checkpoint_000000)\n"
     ]
    },
    {
     "name": "stderr",
     "output_type": "stream",
     "text": [
      "\u001b[36m(pid=3518651)\u001b[0m 2024-03-21 21:18:46.512563: E tensorflow/compiler/xla/stream_executor/cuda/cuda_dnn.cc:9342] Unable to register cuDNN factory: Attempting to register factory for plugin cuDNN when one has already been registered\n",
      "\u001b[36m(pid=3518651)\u001b[0m 2024-03-21 21:18:46.512598: E tensorflow/compiler/xla/stream_executor/cuda/cuda_fft.cc:609] Unable to register cuFFT factory: Attempting to register factory for plugin cuFFT when one has already been registered\n",
      "\u001b[36m(pid=3518651)\u001b[0m 2024-03-21 21:18:46.512614: E tensorflow/compiler/xla/stream_executor/cuda/cuda_blas.cc:1518] Unable to register cuBLAS factory: Attempting to register factory for plugin cuBLAS when one has already been registered\n"
     ]
    },
    {
     "name": "stderr",
     "output_type": "stream",
     "text": [
      "\u001b[36m(TrainLightGCN pid=3518651)\u001b[0m /home/daviddavo/upm-tfm-notebooks/.direnv/python-3.9/lib/python3.9/site-packages/recommenders/models/deeprec/DataModel/ImplicitCF.py:73: FutureWarning: The frame.append method is deprecated and will be removed from pandas in a future version. Use pandas.concat instead.\n",
      "\u001b[36m(TrainLightGCN pid=3518651)\u001b[0m   df = train if test is None else train.append(test)\n"
     ]
    },
    {
     "name": "stdout",
     "output_type": "stream",
     "text": [
      "\u001b[36m(TrainLightGCN pid=3518651)\u001b[0m Already create adjacency matrix.\n",
      "\u001b[36m(TrainLightGCN pid=3518651)\u001b[0m Already normalize adjacency matrix.\n",
      "\u001b[36m(TrainLightGCN pid=3518651)\u001b[0m Using xavier initialization.\n"
     ]
    },
    {
     "name": "stderr",
     "output_type": "stream",
     "text": [
      "\u001b[36m(TrainLightGCN pid=3515305)\u001b[0m Checkpoint successfully created at: Checkpoint(filesystem=local, path=/home/daviddavo/ray_results/LightGCN_optim=map@10,dao=Decentraland,freq=W-THU,normalize=True,cutoff_date=2023-07-29T00:00:00,fold=9_2024-03-21T20:59:20.911809/TrainLightGCN_d9a639e8_39_batch_size=7,conv_layers=3,embedding_dim=37,fold=9,l2=0.0019,learning_rate=0.0059_2024-03-21_21-12-20/checkpoint_000000)\n"
     ]
    },
    {
     "name": "stderr",
     "output_type": "stream",
     "text": [
      "\u001b[36m(pid=3518803)\u001b[0m 2024-03-21 21:18:53.926151: E tensorflow/compiler/xla/stream_executor/cuda/cuda_dnn.cc:9342] Unable to register cuDNN factory: Attempting to register factory for plugin cuDNN when one has already been registered\n",
      "\u001b[36m(pid=3518803)\u001b[0m 2024-03-21 21:18:53.926182: E tensorflow/compiler/xla/stream_executor/cuda/cuda_fft.cc:609] Unable to register cuFFT factory: Attempting to register factory for plugin cuFFT when one has already been registered\n",
      "\u001b[36m(pid=3518803)\u001b[0m 2024-03-21 21:18:53.926195: E tensorflow/compiler/xla/stream_executor/cuda/cuda_blas.cc:1518] Unable to register cuBLAS factory: Attempting to register factory for plugin cuBLAS when one has already been registered\n"
     ]
    },
    {
     "name": "stderr",
     "output_type": "stream",
     "text": [
      "\u001b[36m(TrainLightGCN pid=3518803)\u001b[0m /home/daviddavo/upm-tfm-notebooks/.direnv/python-3.9/lib/python3.9/site-packages/recommenders/models/deeprec/DataModel/ImplicitCF.py:73: FutureWarning: The frame.append method is deprecated and will be removed from pandas in a future version. Use pandas.concat instead.\n",
      "\u001b[36m(TrainLightGCN pid=3518803)\u001b[0m   df = train if test is None else train.append(test)\n"
     ]
    },
    {
     "name": "stdout",
     "output_type": "stream",
     "text": [
      "\u001b[36m(TrainLightGCN pid=3518803)\u001b[0m Already create adjacency matrix.\n"
     ]
    },
    {
     "name": "stdout",
     "output_type": "stream",
     "text": [
      "\u001b[36m(TrainLightGCN pid=3518803)\u001b[0m Already normalize adjacency matrix.\n",
      "\u001b[36m(TrainLightGCN pid=3518803)\u001b[0m Using xavier initialization.\n"
     ]
    },
    {
     "name": "stderr",
     "output_type": "stream",
     "text": [
      "\u001b[36m(TrainLightGCN pid=3515526)\u001b[0m Checkpoint successfully created at: Checkpoint(filesystem=local, path=/home/daviddavo/ray_results/LightGCN_optim=map@10,dao=Decentraland,freq=W-THU,normalize=True,cutoff_date=2023-07-29T00:00:00,fold=9_2024-03-21T20:59:20.911809/TrainLightGCN_0e85bf66_40_batch_size=7,conv_layers=4,embedding_dim=11,fold=9,l2=0.0033,learning_rate=0.0116_2024-03-21_21-12-27/checkpoint_000000)\n"
     ]
    },
    {
     "name": "stderr",
     "output_type": "stream",
     "text": [
      "\u001b[36m(pid=3519021)\u001b[0m 2024-03-21 21:19:06.468294: E tensorflow/compiler/xla/stream_executor/cuda/cuda_dnn.cc:9342] Unable to register cuDNN factory: Attempting to register factory for plugin cuDNN when one has already been registered\n",
      "\u001b[36m(pid=3519021)\u001b[0m 2024-03-21 21:19:06.468330: E tensorflow/compiler/xla/stream_executor/cuda/cuda_fft.cc:609] Unable to register cuFFT factory: Attempting to register factory for plugin cuFFT when one has already been registered\n",
      "\u001b[36m(pid=3519021)\u001b[0m 2024-03-21 21:19:06.468344: E tensorflow/compiler/xla/stream_executor/cuda/cuda_blas.cc:1518] Unable to register cuBLAS factory: Attempting to register factory for plugin cuBLAS when one has already been registered\n"
     ]
    },
    {
     "name": "stderr",
     "output_type": "stream",
     "text": [
      "\u001b[36m(TrainLightGCN pid=3519021)\u001b[0m /home/daviddavo/upm-tfm-notebooks/.direnv/python-3.9/lib/python3.9/site-packages/recommenders/models/deeprec/DataModel/ImplicitCF.py:73: FutureWarning: The frame.append method is deprecated and will be removed from pandas in a future version. Use pandas.concat instead.\n",
      "\u001b[36m(TrainLightGCN pid=3519021)\u001b[0m   df = train if test is None else train.append(test)\n"
     ]
    },
    {
     "name": "stdout",
     "output_type": "stream",
     "text": [
      "\u001b[36m(TrainLightGCN pid=3519021)\u001b[0m Already create adjacency matrix.\n",
      "\u001b[36m(TrainLightGCN pid=3519021)\u001b[0m Already normalize adjacency matrix.\n",
      "\u001b[36m(TrainLightGCN pid=3519021)\u001b[0m Using xavier initialization.\n"
     ]
    },
    {
     "name": "stderr",
     "output_type": "stream",
     "text": [
      "\u001b[36m(TrainLightGCN pid=3514061)\u001b[0m Checkpoint successfully created at: Checkpoint(filesystem=local, path=/home/daviddavo/ray_results/LightGCN_optim=map@10,dao=Decentraland,freq=W-THU,normalize=True,cutoff_date=2023-07-29T00:00:00,fold=9_2024-03-21T20:59:20.911809/TrainLightGCN_db59c9fa_33_batch_size=6,conv_layers=3,embedding_dim=22,fold=9,l2=0.0004,learning_rate=0.0021_2024-03-21_21-06-44/checkpoint_000000)\n"
     ]
    },
    {
     "name": "stderr",
     "output_type": "stream",
     "text": [
      "\u001b[36m(pid=3519204)\u001b[0m 2024-03-21 21:19:16.530357: E tensorflow/compiler/xla/stream_executor/cuda/cuda_dnn.cc:9342] Unable to register cuDNN factory: Attempting to register factory for plugin cuDNN when one has already been registered\n",
      "\u001b[36m(pid=3519204)\u001b[0m 2024-03-21 21:19:16.530392: E tensorflow/compiler/xla/stream_executor/cuda/cuda_fft.cc:609] Unable to register cuFFT factory: Attempting to register factory for plugin cuFFT when one has already been registered\n",
      "\u001b[36m(pid=3519204)\u001b[0m 2024-03-21 21:19:16.530406: E tensorflow/compiler/xla/stream_executor/cuda/cuda_blas.cc:1518] Unable to register cuBLAS factory: Attempting to register factory for plugin cuBLAS when one has already been registered\n"
     ]
    },
    {
     "name": "stderr",
     "output_type": "stream",
     "text": [
      "\u001b[36m(TrainLightGCN pid=3519204)\u001b[0m /home/daviddavo/upm-tfm-notebooks/.direnv/python-3.9/lib/python3.9/site-packages/recommenders/models/deeprec/DataModel/ImplicitCF.py:73: FutureWarning: The frame.append method is deprecated and will be removed from pandas in a future version. Use pandas.concat instead.\n",
      "\u001b[36m(TrainLightGCN pid=3519204)\u001b[0m   df = train if test is None else train.append(test)\n"
     ]
    },
    {
     "name": "stdout",
     "output_type": "stream",
     "text": [
      "\u001b[36m(TrainLightGCN pid=3519204)\u001b[0m Already create adjacency matrix.\n",
      "\u001b[36m(TrainLightGCN pid=3519204)\u001b[0m Already normalize adjacency matrix.\n",
      "\u001b[36m(TrainLightGCN pid=3519204)\u001b[0m Using xavier initialization.\n"
     ]
    },
    {
     "name": "stderr",
     "output_type": "stream",
     "text": [
      "\u001b[36m(TrainLightGCN pid=3516417)\u001b[0m Checkpoint successfully created at: Checkpoint(filesystem=local, path=/home/daviddavo/ray_results/LightGCN_optim=map@10,dao=Decentraland,freq=W-THU,normalize=True,cutoff_date=2023-07-29T00:00:00,fold=9_2024-03-21T20:59:20.911809/TrainLightGCN_35c3a205_44_batch_size=8,conv_layers=4,embedding_dim=153,fold=9,l2=0.0095,learning_rate=0.0010_2024-03-21_21-13-48/checkpoint_000000)\n"
     ]
    },
    {
     "name": "stderr",
     "output_type": "stream",
     "text": [
      "\u001b[36m(pid=3519391)\u001b[0m 2024-03-21 21:19:27.736909: E tensorflow/compiler/xla/stream_executor/cuda/cuda_dnn.cc:9342] Unable to register cuDNN factory: Attempting to register factory for plugin cuDNN when one has already been registered\n",
      "\u001b[36m(pid=3519391)\u001b[0m 2024-03-21 21:19:27.736946: E tensorflow/compiler/xla/stream_executor/cuda/cuda_fft.cc:609] Unable to register cuFFT factory: Attempting to register factory for plugin cuFFT when one has already been registered\n",
      "\u001b[36m(pid=3519391)\u001b[0m 2024-03-21 21:19:27.736960: E tensorflow/compiler/xla/stream_executor/cuda/cuda_blas.cc:1518] Unable to register cuBLAS factory: Attempting to register factory for plugin cuBLAS when one has already been registered\n"
     ]
    },
    {
     "name": "stderr",
     "output_type": "stream",
     "text": [
      "\u001b[36m(TrainLightGCN pid=3519391)\u001b[0m /home/daviddavo/upm-tfm-notebooks/.direnv/python-3.9/lib/python3.9/site-packages/recommenders/models/deeprec/DataModel/ImplicitCF.py:73: FutureWarning: The frame.append method is deprecated and will be removed from pandas in a future version. Use pandas.concat instead.\n",
      "\u001b[36m(TrainLightGCN pid=3519391)\u001b[0m   df = train if test is None else train.append(test)\n"
     ]
    },
    {
     "name": "stdout",
     "output_type": "stream",
     "text": [
      "\u001b[36m(TrainLightGCN pid=3519391)\u001b[0m Already create adjacency matrix.\n",
      "\u001b[36m(TrainLightGCN pid=3519391)\u001b[0m Already normalize adjacency matrix.\n",
      "\u001b[36m(TrainLightGCN pid=3519391)\u001b[0m Using xavier initialization.\n"
     ]
    },
    {
     "name": "stderr",
     "output_type": "stream",
     "text": [
      "\u001b[36m(TrainLightGCN pid=3516193)\u001b[0m Checkpoint successfully created at: Checkpoint(filesystem=local, path=/home/daviddavo/ray_results/LightGCN_optim=map@10,dao=Decentraland,freq=W-THU,normalize=True,cutoff_date=2023-07-29T00:00:00,fold=9_2024-03-21T20:59:20.911809/TrainLightGCN_9276d5bb_43_batch_size=7,conv_layers=5,embedding_dim=3,fold=9,l2=0.0001,learning_rate=0.0001_2024-03-21_21-13-28/checkpoint_000000)\n"
     ]
    },
    {
     "name": "stderr",
     "output_type": "stream",
     "text": [
      "\u001b[36m(pid=3519667)\u001b[0m 2024-03-21 21:20:07.690875: E tensorflow/compiler/xla/stream_executor/cuda/cuda_dnn.cc:9342] Unable to register cuDNN factory: Attempting to register factory for plugin cuDNN when one has already been registered\n",
      "\u001b[36m(pid=3519667)\u001b[0m 2024-03-21 21:20:07.690914: E tensorflow/compiler/xla/stream_executor/cuda/cuda_fft.cc:609] Unable to register cuFFT factory: Attempting to register factory for plugin cuFFT when one has already been registered\n",
      "\u001b[36m(pid=3519667)\u001b[0m 2024-03-21 21:20:07.690929: E tensorflow/compiler/xla/stream_executor/cuda/cuda_blas.cc:1518] Unable to register cuBLAS factory: Attempting to register factory for plugin cuBLAS when one has already been registered\n"
     ]
    },
    {
     "name": "stderr",
     "output_type": "stream",
     "text": [
      "\u001b[36m(TrainLightGCN pid=3519667)\u001b[0m /home/daviddavo/upm-tfm-notebooks/.direnv/python-3.9/lib/python3.9/site-packages/recommenders/models/deeprec/DataModel/ImplicitCF.py:73: FutureWarning: The frame.append method is deprecated and will be removed from pandas in a future version. Use pandas.concat instead.\n",
      "\u001b[36m(TrainLightGCN pid=3519667)\u001b[0m   df = train if test is None else train.append(test)\n"
     ]
    },
    {
     "name": "stdout",
     "output_type": "stream",
     "text": [
      "\u001b[36m(TrainLightGCN pid=3519667)\u001b[0m Already create adjacency matrix.\n",
      "\u001b[36m(TrainLightGCN pid=3519667)\u001b[0m Already normalize adjacency matrix.\n",
      "\u001b[36m(TrainLightGCN pid=3519667)\u001b[0m Using xavier initialization.\n"
     ]
    },
    {
     "name": "stderr",
     "output_type": "stream",
     "text": [
      "\u001b[36m(TrainLightGCN pid=3517048)\u001b[0m Checkpoint successfully created at: Checkpoint(filesystem=local, path=/home/daviddavo/ray_results/LightGCN_optim=map@10,dao=Decentraland,freq=W-THU,normalize=True,cutoff_date=2023-07-29T00:00:00,fold=9_2024-03-21T20:59:20.911809/TrainLightGCN_2b798651_47_batch_size=9,conv_layers=3,embedding_dim=279,fold=9,l2=0.0000,learning_rate=0.1021_2024-03-21_21-14-30/checkpoint_000000)\n"
     ]
    },
    {
     "name": "stderr",
     "output_type": "stream",
     "text": [
      "\u001b[36m(pid=3519874)\u001b[0m 2024-03-21 21:20:25.611795: E tensorflow/compiler/xla/stream_executor/cuda/cuda_dnn.cc:9342] Unable to register cuDNN factory: Attempting to register factory for plugin cuDNN when one has already been registered\n",
      "\u001b[36m(pid=3519874)\u001b[0m 2024-03-21 21:20:25.611833: E tensorflow/compiler/xla/stream_executor/cuda/cuda_fft.cc:609] Unable to register cuFFT factory: Attempting to register factory for plugin cuFFT when one has already been registered\n",
      "\u001b[36m(pid=3519874)\u001b[0m 2024-03-21 21:20:25.611849: E tensorflow/compiler/xla/stream_executor/cuda/cuda_blas.cc:1518] Unable to register cuBLAS factory: Attempting to register factory for plugin cuBLAS when one has already been registered\n"
     ]
    },
    {
     "name": "stderr",
     "output_type": "stream",
     "text": [
      "\u001b[36m(TrainLightGCN pid=3519874)\u001b[0m /home/daviddavo/upm-tfm-notebooks/.direnv/python-3.9/lib/python3.9/site-packages/recommenders/models/deeprec/DataModel/ImplicitCF.py:73: FutureWarning: The frame.append method is deprecated and will be removed from pandas in a future version. Use pandas.concat instead.\n",
      "\u001b[36m(TrainLightGCN pid=3519874)\u001b[0m   df = train if test is None else train.append(test)\n"
     ]
    },
    {
     "name": "stderr",
     "output_type": "stream",
     "text": [
      "\u001b[36m(TrainLightGCN pid=3514923)\u001b[0m Checkpoint successfully created at: Checkpoint(filesystem=local, path=/home/daviddavo/ray_results/LightGCN_optim=map@10,dao=Decentraland,freq=W-THU,normalize=True,cutoff_date=2023-07-29T00:00:00,fold=9_2024-03-21T20:59:20.911809/TrainLightGCN_995a28c4_37_batch_size=6,conv_layers=5,embedding_dim=128,fold=9,l2=0.0003,learning_rate=0.0003_2024-03-21_21-11-23/checkpoint_000000)\n"
     ]
    },
    {
     "name": "stdout",
     "output_type": "stream",
     "text": [
      "\u001b[36m(TrainLightGCN pid=3519874)\u001b[0m Already create adjacency matrix.\n",
      "\u001b[36m(TrainLightGCN pid=3519874)\u001b[0m Already normalize adjacency matrix.\n",
      "\u001b[36m(TrainLightGCN pid=3519874)\u001b[0m Using xavier initialization.\n"
     ]
    },
    {
     "name": "stderr",
     "output_type": "stream",
     "text": [
      "\u001b[36m(pid=3520031)\u001b[0m 2024-03-21 21:20:32.069235: E tensorflow/compiler/xla/stream_executor/cuda/cuda_dnn.cc:9342] Unable to register cuDNN factory: Attempting to register factory for plugin cuDNN when one has already been registered\n",
      "\u001b[36m(pid=3520031)\u001b[0m 2024-03-21 21:20:32.069371: E tensorflow/compiler/xla/stream_executor/cuda/cuda_fft.cc:609] Unable to register cuFFT factory: Attempting to register factory for plugin cuFFT when one has already been registered\n",
      "\u001b[36m(pid=3520031)\u001b[0m 2024-03-21 21:20:32.069389: E tensorflow/compiler/xla/stream_executor/cuda/cuda_blas.cc:1518] Unable to register cuBLAS factory: Attempting to register factory for plugin cuBLAS when one has already been registered\n"
     ]
    },
    {
     "name": "stderr",
     "output_type": "stream",
     "text": [
      "\u001b[36m(TrainLightGCN pid=3520031)\u001b[0m /home/daviddavo/upm-tfm-notebooks/.direnv/python-3.9/lib/python3.9/site-packages/recommenders/models/deeprec/DataModel/ImplicitCF.py:73: FutureWarning: The frame.append method is deprecated and will be removed from pandas in a future version. Use pandas.concat instead.\n",
      "\u001b[36m(TrainLightGCN pid=3520031)\u001b[0m   df = train if test is None else train.append(test)\n",
      "\u001b[36m(TrainLightGCN pid=3516597)\u001b[0m Checkpoint successfully created at: Checkpoint(filesystem=local, path=/home/daviddavo/ray_results/LightGCN_optim=map@10,dao=Decentraland,freq=W-THU,normalize=True,cutoff_date=2023-07-29T00:00:00,fold=9_2024-03-21T20:59:20.911809/TrainLightGCN_a9c3b340_45_batch_size=7,conv_layers=1,embedding_dim=703,fold=9,l2=0.0000,learning_rate=0.0003_2024-03-21_21-14-11/checkpoint_000000)\n"
     ]
    },
    {
     "name": "stdout",
     "output_type": "stream",
     "text": [
      "\u001b[36m(TrainLightGCN pid=3520031)\u001b[0m Already create adjacency matrix.\n",
      "\u001b[36m(TrainLightGCN pid=3520031)\u001b[0m Already normalize adjacency matrix.\n",
      "\u001b[36m(TrainLightGCN pid=3520031)\u001b[0m Using xavier initialization.\n"
     ]
    },
    {
     "name": "stderr",
     "output_type": "stream",
     "text": [
      "\u001b[36m(pid=3520199)\u001b[0m 2024-03-21 21:20:38.441910: E tensorflow/compiler/xla/stream_executor/cuda/cuda_dnn.cc:9342] Unable to register cuDNN factory: Attempting to register factory for plugin cuDNN when one has already been registered\n",
      "\u001b[36m(pid=3520199)\u001b[0m 2024-03-21 21:20:38.441946: E tensorflow/compiler/xla/stream_executor/cuda/cuda_fft.cc:609] Unable to register cuFFT factory: Attempting to register factory for plugin cuFFT when one has already been registered\n",
      "\u001b[36m(pid=3520199)\u001b[0m 2024-03-21 21:20:38.441962: E tensorflow/compiler/xla/stream_executor/cuda/cuda_blas.cc:1518] Unable to register cuBLAS factory: Attempting to register factory for plugin cuBLAS when one has already been registered\n"
     ]
    },
    {
     "name": "stderr",
     "output_type": "stream",
     "text": [
      "\u001b[36m(TrainLightGCN pid=3520199)\u001b[0m /home/daviddavo/upm-tfm-notebooks/.direnv/python-3.9/lib/python3.9/site-packages/recommenders/models/deeprec/DataModel/ImplicitCF.py:73: FutureWarning: The frame.append method is deprecated and will be removed from pandas in a future version. Use pandas.concat instead.\n",
      "\u001b[36m(TrainLightGCN pid=3520199)\u001b[0m   df = train if test is None else train.append(test)\n"
     ]
    },
    {
     "name": "stdout",
     "output_type": "stream",
     "text": [
      "\u001b[36m(TrainLightGCN pid=3520199)\u001b[0m Already create adjacency matrix.\n",
      "\u001b[36m(TrainLightGCN pid=3520199)\u001b[0m Already normalize adjacency matrix.\n",
      "\u001b[36m(TrainLightGCN pid=3520199)\u001b[0m Using xavier initialization.\n"
     ]
    },
    {
     "name": "stderr",
     "output_type": "stream",
     "text": [
      "\u001b[36m(TrainLightGCN pid=3515678)\u001b[0m Checkpoint successfully created at: Checkpoint(filesystem=local, path=/home/daviddavo/ray_results/LightGCN_optim=map@10,dao=Decentraland,freq=W-THU,normalize=True,cutoff_date=2023-07-29T00:00:00,fold=9_2024-03-21T20:59:20.911809/TrainLightGCN_6fa541ec_41_batch_size=6,conv_layers=2,embedding_dim=27,fold=9,l2=0.0000,learning_rate=0.0026_2024-03-21_21-12-42/checkpoint_000000)\n"
     ]
    },
    {
     "name": "stderr",
     "output_type": "stream",
     "text": [
      "\u001b[36m(pid=3520477)\u001b[0m 2024-03-21 21:21:10.490623: E tensorflow/compiler/xla/stream_executor/cuda/cuda_dnn.cc:9342] Unable to register cuDNN factory: Attempting to register factory for plugin cuDNN when one has already been registered\n",
      "\u001b[36m(pid=3520477)\u001b[0m 2024-03-21 21:21:10.490662: E tensorflow/compiler/xla/stream_executor/cuda/cuda_fft.cc:609] Unable to register cuFFT factory: Attempting to register factory for plugin cuFFT when one has already been registered\n",
      "\u001b[36m(pid=3520477)\u001b[0m 2024-03-21 21:21:10.490678: E tensorflow/compiler/xla/stream_executor/cuda/cuda_blas.cc:1518] Unable to register cuBLAS factory: Attempting to register factory for plugin cuBLAS when one has already been registered\n"
     ]
    },
    {
     "name": "stderr",
     "output_type": "stream",
     "text": [
      "\u001b[36m(TrainLightGCN pid=3520477)\u001b[0m /home/daviddavo/upm-tfm-notebooks/.direnv/python-3.9/lib/python3.9/site-packages/recommenders/models/deeprec/DataModel/ImplicitCF.py:73: FutureWarning: The frame.append method is deprecated and will be removed from pandas in a future version. Use pandas.concat instead.\n",
      "\u001b[36m(TrainLightGCN pid=3520477)\u001b[0m   df = train if test is None else train.append(test)\n"
     ]
    },
    {
     "name": "stdout",
     "output_type": "stream",
     "text": [
      "\u001b[36m(TrainLightGCN pid=3520477)\u001b[0m Already create adjacency matrix.\n",
      "\u001b[36m(TrainLightGCN pid=3520477)\u001b[0m Already normalize adjacency matrix.\n",
      "\u001b[36m(TrainLightGCN pid=3520477)\u001b[0m Using xavier initialization.\n"
     ]
    },
    {
     "name": "stderr",
     "output_type": "stream",
     "text": [
      "\u001b[36m(TrainLightGCN pid=3517394)\u001b[0m Checkpoint successfully created at: Checkpoint(filesystem=local, path=/home/daviddavo/ray_results/LightGCN_optim=map@10,dao=Decentraland,freq=W-THU,normalize=True,cutoff_date=2023-07-29T00:00:00,fold=9_2024-03-21T20:59:20.911809/TrainLightGCN_4fd0b093_48_batch_size=7,conv_layers=4,embedding_dim=367,fold=9,l2=0.0000,learning_rate=0.0004_2024-03-21_21-15-09/checkpoint_000000)\n"
     ]
    },
    {
     "name": "stderr",
     "output_type": "stream",
     "text": [
      "\u001b[36m(pid=3520806)\u001b[0m 2024-03-21 21:22:07.865153: E tensorflow/compiler/xla/stream_executor/cuda/cuda_dnn.cc:9342] Unable to register cuDNN factory: Attempting to register factory for plugin cuDNN when one has already been registered\n",
      "\u001b[36m(pid=3520806)\u001b[0m 2024-03-21 21:22:07.865202: E tensorflow/compiler/xla/stream_executor/cuda/cuda_fft.cc:609] Unable to register cuFFT factory: Attempting to register factory for plugin cuFFT when one has already been registered\n",
      "\u001b[36m(pid=3520806)\u001b[0m 2024-03-21 21:22:07.865225: E tensorflow/compiler/xla/stream_executor/cuda/cuda_blas.cc:1518] Unable to register cuBLAS factory: Attempting to register factory for plugin cuBLAS when one has already been registered\n"
     ]
    },
    {
     "name": "stderr",
     "output_type": "stream",
     "text": [
      "\u001b[36m(TrainLightGCN pid=3520806)\u001b[0m /home/daviddavo/upm-tfm-notebooks/.direnv/python-3.9/lib/python3.9/site-packages/recommenders/models/deeprec/DataModel/ImplicitCF.py:73: FutureWarning: The frame.append method is deprecated and will be removed from pandas in a future version. Use pandas.concat instead.\n",
      "\u001b[36m(TrainLightGCN pid=3520806)\u001b[0m   df = train if test is None else train.append(test)\n"
     ]
    },
    {
     "name": "stdout",
     "output_type": "stream",
     "text": [
      "\u001b[36m(TrainLightGCN pid=3520806)\u001b[0m Already create adjacency matrix.\n",
      "\u001b[36m(TrainLightGCN pid=3520806)\u001b[0m Already normalize adjacency matrix.\n",
      "\u001b[36m(TrainLightGCN pid=3520806)\u001b[0m Using xavier initialization.\n"
     ]
    },
    {
     "name": "stderr",
     "output_type": "stream",
     "text": [
      "\u001b[36m(TrainLightGCN pid=3516777)\u001b[0m Checkpoint successfully created at: Checkpoint(filesystem=local, path=/home/daviddavo/ray_results/LightGCN_optim=map@10,dao=Decentraland,freq=W-THU,normalize=True,cutoff_date=2023-07-29T00:00:00,fold=9_2024-03-21T20:59:20.911809/TrainLightGCN_7d44a864_46_batch_size=6,conv_layers=4,embedding_dim=68,fold=9,l2=0.0009,learning_rate=0.0098_2024-03-21_21-14-21/checkpoint_000000)\n"
     ]
    },
    {
     "name": "stderr",
     "output_type": "stream",
     "text": [
      "\u001b[36m(pid=3521021)\u001b[0m 2024-03-21 21:22:28.943352: E tensorflow/compiler/xla/stream_executor/cuda/cuda_dnn.cc:9342] Unable to register cuDNN factory: Attempting to register factory for plugin cuDNN when one has already been registered\n",
      "\u001b[36m(pid=3521021)\u001b[0m 2024-03-21 21:22:28.943400: E tensorflow/compiler/xla/stream_executor/cuda/cuda_fft.cc:609] Unable to register cuFFT factory: Attempting to register factory for plugin cuFFT when one has already been registered\n",
      "\u001b[36m(pid=3521021)\u001b[0m 2024-03-21 21:22:28.943425: E tensorflow/compiler/xla/stream_executor/cuda/cuda_blas.cc:1518] Unable to register cuBLAS factory: Attempting to register factory for plugin cuBLAS when one has already been registered\n"
     ]
    },
    {
     "name": "stderr",
     "output_type": "stream",
     "text": [
      "\u001b[36m(TrainLightGCN pid=3521021)\u001b[0m /home/daviddavo/upm-tfm-notebooks/.direnv/python-3.9/lib/python3.9/site-packages/recommenders/models/deeprec/DataModel/ImplicitCF.py:73: FutureWarning: The frame.append method is deprecated and will be removed from pandas in a future version. Use pandas.concat instead.\n",
      "\u001b[36m(TrainLightGCN pid=3521021)\u001b[0m   df = train if test is None else train.append(test)\n"
     ]
    },
    {
     "name": "stdout",
     "output_type": "stream",
     "text": [
      "\u001b[36m(TrainLightGCN pid=3521021)\u001b[0m Already create adjacency matrix.\n",
      "\u001b[36m(TrainLightGCN pid=3521021)\u001b[0m Already normalize adjacency matrix.\n",
      "\u001b[36m(TrainLightGCN pid=3521021)\u001b[0m Using xavier initialization.\n"
     ]
    },
    {
     "name": "stderr",
     "output_type": "stream",
     "text": [
      "\u001b[36m(TrainLightGCN pid=3517810)\u001b[0m Checkpoint successfully created at: Checkpoint(filesystem=local, path=/home/daviddavo/ray_results/LightGCN_optim=map@10,dao=Decentraland,freq=W-THU,normalize=True,cutoff_date=2023-07-29T00:00:00,fold=9_2024-03-21T20:59:20.911809/TrainLightGCN_20a5a051_49_batch_size=8,conv_layers=3,embedding_dim=241,fold=9,l2=0.0000,learning_rate=0.0014_2024-03-21_21-16-12/checkpoint_000000)\n"
     ]
    },
    {
     "name": "stderr",
     "output_type": "stream",
     "text": [
      "\u001b[36m(pid=3521303)\u001b[0m 2024-03-21 21:23:10.660058: E tensorflow/compiler/xla/stream_executor/cuda/cuda_dnn.cc:9342] Unable to register cuDNN factory: Attempting to register factory for plugin cuDNN when one has already been registered\n",
      "\u001b[36m(pid=3521303)\u001b[0m 2024-03-21 21:23:10.660100: E tensorflow/compiler/xla/stream_executor/cuda/cuda_fft.cc:609] Unable to register cuFFT factory: Attempting to register factory for plugin cuFFT when one has already been registered\n",
      "\u001b[36m(pid=3521303)\u001b[0m 2024-03-21 21:23:10.660115: E tensorflow/compiler/xla/stream_executor/cuda/cuda_blas.cc:1518] Unable to register cuBLAS factory: Attempting to register factory for plugin cuBLAS when one has already been registered\n"
     ]
    },
    {
     "name": "stderr",
     "output_type": "stream",
     "text": [
      "\u001b[36m(TrainLightGCN pid=3521303)\u001b[0m /home/daviddavo/upm-tfm-notebooks/.direnv/python-3.9/lib/python3.9/site-packages/recommenders/models/deeprec/DataModel/ImplicitCF.py:73: FutureWarning: The frame.append method is deprecated and will be removed from pandas in a future version. Use pandas.concat instead.\n",
      "\u001b[36m(TrainLightGCN pid=3521303)\u001b[0m   df = train if test is None else train.append(test)\n"
     ]
    },
    {
     "name": "stdout",
     "output_type": "stream",
     "text": [
      "\u001b[36m(TrainLightGCN pid=3521303)\u001b[0m Already create adjacency matrix.\n",
      "\u001b[36m(TrainLightGCN pid=3521303)\u001b[0m Already normalize adjacency matrix.\n",
      "\u001b[36m(TrainLightGCN pid=3521303)\u001b[0m Using xavier initialization.\n"
     ]
    },
    {
     "name": "stderr",
     "output_type": "stream",
     "text": [
      "\u001b[36m(TrainLightGCN pid=3517959)\u001b[0m Checkpoint successfully created at: Checkpoint(filesystem=local, path=/home/daviddavo/ray_results/LightGCN_optim=map@10,dao=Decentraland,freq=W-THU,normalize=True,cutoff_date=2023-07-29T00:00:00,fold=9_2024-03-21T20:59:20.911809/TrainLightGCN_3d2ab1af_50_batch_size=7,conv_layers=2,embedding_dim=444,fold=9,l2=0.0058,learning_rate=0.0035_2024-03-21_21-17-36/checkpoint_000000)\n",
      "\u001b[36m(pid=3521452)\u001b[0m 2024-03-21 21:23:17.125338: E tensorflow/compiler/xla/stream_executor/cuda/cuda_dnn.cc:9342] Unable to register cuDNN factory: Attempting to register factory for plugin cuDNN when one has already been registered\n",
      "\u001b[36m(pid=3521452)\u001b[0m 2024-03-21 21:23:17.125372: E tensorflow/compiler/xla/stream_executor/cuda/cuda_fft.cc:609] Unable to register cuFFT factory: Attempting to register factory for plugin cuFFT when one has already been registered\n",
      "\u001b[36m(pid=3521452)\u001b[0m 2024-03-21 21:23:17.125387: E tensorflow/compiler/xla/stream_executor/cuda/cuda_blas.cc:1518] Unable to register cuBLAS factory: Attempting to register factory for plugin cuBLAS when one has already been registered\n"
     ]
    },
    {
     "name": "stderr",
     "output_type": "stream",
     "text": [
      "\u001b[36m(TrainLightGCN pid=3521452)\u001b[0m /home/daviddavo/upm-tfm-notebooks/.direnv/python-3.9/lib/python3.9/site-packages/recommenders/models/deeprec/DataModel/ImplicitCF.py:73: FutureWarning: The frame.append method is deprecated and will be removed from pandas in a future version. Use pandas.concat instead.\n",
      "\u001b[36m(TrainLightGCN pid=3521452)\u001b[0m   df = train if test is None else train.append(test)\n"
     ]
    },
    {
     "name": "stdout",
     "output_type": "stream",
     "text": [
      "\u001b[36m(TrainLightGCN pid=3521452)\u001b[0m Already create adjacency matrix.\n",
      "\u001b[36m(TrainLightGCN pid=3521452)\u001b[0m Already normalize adjacency matrix.\n",
      "\u001b[36m(TrainLightGCN pid=3521452)\u001b[0m Using xavier initialization.\n"
     ]
    },
    {
     "name": "stderr",
     "output_type": "stream",
     "text": [
      "\u001b[36m(TrainLightGCN pid=3518373)\u001b[0m Checkpoint successfully created at: Checkpoint(filesystem=local, path=/home/daviddavo/ray_results/LightGCN_optim=map@10,dao=Decentraland,freq=W-THU,normalize=True,cutoff_date=2023-07-29T00:00:00,fold=9_2024-03-21T20:59:20.911809/TrainLightGCN_1072b4b0_52_batch_size=7,conv_layers=5,embedding_dim=24,fold=9,l2=0.0000,learning_rate=0.0133_2024-03-21_21-18-00/checkpoint_000000)\n"
     ]
    },
    {
     "name": "stderr",
     "output_type": "stream",
     "text": [
      "\u001b[36m(pid=3521685)\u001b[0m 2024-03-21 21:23:34.586761: E tensorflow/compiler/xla/stream_executor/cuda/cuda_dnn.cc:9342] Unable to register cuDNN factory: Attempting to register factory for plugin cuDNN when one has already been registered\n",
      "\u001b[36m(pid=3521685)\u001b[0m 2024-03-21 21:23:34.586950: E tensorflow/compiler/xla/stream_executor/cuda/cuda_fft.cc:609] Unable to register cuFFT factory: Attempting to register factory for plugin cuFFT when one has already been registered\n",
      "\u001b[36m(pid=3521685)\u001b[0m 2024-03-21 21:23:34.586976: E tensorflow/compiler/xla/stream_executor/cuda/cuda_blas.cc:1518] Unable to register cuBLAS factory: Attempting to register factory for plugin cuBLAS when one has already been registered\n"
     ]
    },
    {
     "name": "stderr",
     "output_type": "stream",
     "text": [
      "\u001b[36m(TrainLightGCN pid=3521685)\u001b[0m /home/daviddavo/upm-tfm-notebooks/.direnv/python-3.9/lib/python3.9/site-packages/recommenders/models/deeprec/DataModel/ImplicitCF.py:73: FutureWarning: The frame.append method is deprecated and will be removed from pandas in a future version. Use pandas.concat instead.\n",
      "\u001b[36m(TrainLightGCN pid=3521685)\u001b[0m   df = train if test is None else train.append(test)\n"
     ]
    },
    {
     "name": "stdout",
     "output_type": "stream",
     "text": [
      "\u001b[36m(TrainLightGCN pid=3521685)\u001b[0m Already create adjacency matrix.\n",
      "\u001b[36m(TrainLightGCN pid=3521685)\u001b[0m Already normalize adjacency matrix.\n",
      "\u001b[36m(TrainLightGCN pid=3521685)\u001b[0m Using xavier initialization.\n"
     ]
    },
    {
     "name": "stderr",
     "output_type": "stream",
     "text": [
      "\u001b[36m(TrainLightGCN pid=3519204)\u001b[0m Checkpoint successfully created at: Checkpoint(filesystem=local, path=/home/daviddavo/ray_results/LightGCN_optim=map@10,dao=Decentraland,freq=W-THU,normalize=True,cutoff_date=2023-07-29T00:00:00,fold=9_2024-03-21T20:59:20.911809/TrainLightGCN_537f1096_56_batch_size=8,conv_layers=5,embedding_dim=157,fold=9,l2=0.0000,learning_rate=0.0005_2024-03-21_21-19-12/checkpoint_000000)\n"
     ]
    },
    {
     "name": "stderr",
     "output_type": "stream",
     "text": [
      "\u001b[36m(pid=3522012)\u001b[0m 2024-03-21 21:24:32.841128: E tensorflow/compiler/xla/stream_executor/cuda/cuda_dnn.cc:9342] Unable to register cuDNN factory: Attempting to register factory for plugin cuDNN when one has already been registered\n",
      "\u001b[36m(pid=3522012)\u001b[0m 2024-03-21 21:24:32.841180: E tensorflow/compiler/xla/stream_executor/cuda/cuda_fft.cc:609] Unable to register cuFFT factory: Attempting to register factory for plugin cuFFT when one has already been registered\n",
      "\u001b[36m(pid=3522012)\u001b[0m 2024-03-21 21:24:32.841202: E tensorflow/compiler/xla/stream_executor/cuda/cuda_blas.cc:1518] Unable to register cuBLAS factory: Attempting to register factory for plugin cuBLAS when one has already been registered\n"
     ]
    },
    {
     "name": "stderr",
     "output_type": "stream",
     "text": [
      "\u001b[36m(TrainLightGCN pid=3522012)\u001b[0m /home/daviddavo/upm-tfm-notebooks/.direnv/python-3.9/lib/python3.9/site-packages/recommenders/models/deeprec/DataModel/ImplicitCF.py:73: FutureWarning: The frame.append method is deprecated and will be removed from pandas in a future version. Use pandas.concat instead.\n",
      "\u001b[36m(TrainLightGCN pid=3522012)\u001b[0m   df = train if test is None else train.append(test)\n"
     ]
    },
    {
     "name": "stdout",
     "output_type": "stream",
     "text": [
      "\u001b[36m(TrainLightGCN pid=3522012)\u001b[0m Already create adjacency matrix.\n",
      "\u001b[36m(TrainLightGCN pid=3522012)\u001b[0m Already normalize adjacency matrix.\n",
      "\u001b[36m(TrainLightGCN pid=3522012)\u001b[0m Using xavier initialization.\n"
     ]
    },
    {
     "name": "stderr",
     "output_type": "stream",
     "text": [
      "\u001b[36m(TrainLightGCN pid=3518188)\u001b[0m Checkpoint successfully created at: Checkpoint(filesystem=local, path=/home/daviddavo/ray_results/LightGCN_optim=map@10,dao=Decentraland,freq=W-THU,normalize=True,cutoff_date=2023-07-29T00:00:00,fold=9_2024-03-21T20:59:20.911809/TrainLightGCN_4b0ac0e2_51_batch_size=6,conv_layers=4,embedding_dim=15,fold=9,l2=0.0002,learning_rate=0.0350_2024-03-21_21-17-43/checkpoint_000000)\n"
     ]
    },
    {
     "name": "stderr",
     "output_type": "stream",
     "text": [
      "\u001b[36m(pid=3522220)\u001b[0m 2024-03-21 21:24:49.694818: E tensorflow/compiler/xla/stream_executor/cuda/cuda_dnn.cc:9342] Unable to register cuDNN factory: Attempting to register factory for plugin cuDNN when one has already been registered\n",
      "\u001b[36m(pid=3522220)\u001b[0m 2024-03-21 21:24:49.694948: E tensorflow/compiler/xla/stream_executor/cuda/cuda_fft.cc:609] Unable to register cuFFT factory: Attempting to register factory for plugin cuFFT when one has already been registered\n",
      "\u001b[36m(pid=3522220)\u001b[0m 2024-03-21 21:24:49.694978: E tensorflow/compiler/xla/stream_executor/cuda/cuda_blas.cc:1518] Unable to register cuBLAS factory: Attempting to register factory for plugin cuBLAS when one has already been registered\n"
     ]
    },
    {
     "name": "stderr",
     "output_type": "stream",
     "text": [
      "\u001b[36m(TrainLightGCN pid=3522220)\u001b[0m /home/daviddavo/upm-tfm-notebooks/.direnv/python-3.9/lib/python3.9/site-packages/recommenders/models/deeprec/DataModel/ImplicitCF.py:73: FutureWarning: The frame.append method is deprecated and will be removed from pandas in a future version. Use pandas.concat instead.\n",
      "\u001b[36m(TrainLightGCN pid=3522220)\u001b[0m   df = train if test is None else train.append(test)\n"
     ]
    },
    {
     "name": "stdout",
     "output_type": "stream",
     "text": [
      "\u001b[36m(TrainLightGCN pid=3522220)\u001b[0m Already create adjacency matrix.\n",
      "\u001b[36m(TrainLightGCN pid=3522220)\u001b[0m Already normalize adjacency matrix.\n",
      "\u001b[36m(TrainLightGCN pid=3522220)\u001b[0m Using xavier initialization.\n"
     ]
    },
    {
     "name": "stderr",
     "output_type": "stream",
     "text": [
      "\u001b[36m(TrainLightGCN pid=3518651)\u001b[0m Checkpoint successfully created at: Checkpoint(filesystem=local, path=/home/daviddavo/ray_results/LightGCN_optim=map@10,dao=Decentraland,freq=W-THU,normalize=True,cutoff_date=2023-07-29T00:00:00,fold=9_2024-03-21T20:59:20.911809/TrainLightGCN_638251f4_53_batch_size=6,conv_layers=3,embedding_dim=9,fold=9,l2=0.0001,learning_rate=0.0002_2024-03-21_21-18-10/checkpoint_000000)\n"
     ]
    },
    {
     "name": "stderr",
     "output_type": "stream",
     "text": [
      "\u001b[36m(pid=3522508)\u001b[0m 2024-03-21 21:25:34.548870: E tensorflow/compiler/xla/stream_executor/cuda/cuda_dnn.cc:9342] Unable to register cuDNN factory: Attempting to register factory for plugin cuDNN when one has already been registered\n",
      "\u001b[36m(pid=3522508)\u001b[0m 2024-03-21 21:25:34.548906: E tensorflow/compiler/xla/stream_executor/cuda/cuda_fft.cc:609] Unable to register cuFFT factory: Attempting to register factory for plugin cuFFT when one has already been registered\n",
      "\u001b[36m(pid=3522508)\u001b[0m 2024-03-21 21:25:34.548923: E tensorflow/compiler/xla/stream_executor/cuda/cuda_blas.cc:1518] Unable to register cuBLAS factory: Attempting to register factory for plugin cuBLAS when one has already been registered\n"
     ]
    },
    {
     "name": "stderr",
     "output_type": "stream",
     "text": [
      "\u001b[36m(TrainLightGCN pid=3522508)\u001b[0m /home/daviddavo/upm-tfm-notebooks/.direnv/python-3.9/lib/python3.9/site-packages/recommenders/models/deeprec/DataModel/ImplicitCF.py:73: FutureWarning: The frame.append method is deprecated and will be removed from pandas in a future version. Use pandas.concat instead.\n",
      "\u001b[36m(TrainLightGCN pid=3522508)\u001b[0m   df = train if test is None else train.append(test)\n"
     ]
    },
    {
     "name": "stdout",
     "output_type": "stream",
     "text": [
      "\u001b[36m(TrainLightGCN pid=3522508)\u001b[0m Already create adjacency matrix.\n",
      "\u001b[36m(TrainLightGCN pid=3522508)\u001b[0m Already normalize adjacency matrix.\n",
      "\u001b[36m(TrainLightGCN pid=3522508)\u001b[0m Using xavier initialization.\n"
     ]
    },
    {
     "name": "stderr",
     "output_type": "stream",
     "text": [
      "\u001b[36m(TrainLightGCN pid=3519667)\u001b[0m Checkpoint successfully created at: Checkpoint(filesystem=local, path=/home/daviddavo/ray_results/LightGCN_optim=map@10,dao=Decentraland,freq=W-THU,normalize=True,cutoff_date=2023-07-29T00:00:00,fold=9_2024-03-21T20:59:20.911809/TrainLightGCN_da9afb86_58_batch_size=9,conv_layers=3,embedding_dim=6,fold=9,l2=0.0000,learning_rate=0.0001_2024-03-21_21-19-33/checkpoint_000000)\n",
      "\u001b[36m(pid=3522657)\u001b[0m 2024-03-21 21:25:41.126947: E tensorflow/compiler/xla/stream_executor/cuda/cuda_dnn.cc:9342] Unable to register cuDNN factory: Attempting to register factory for plugin cuDNN when one has already been registered\n",
      "\u001b[36m(pid=3522657)\u001b[0m 2024-03-21 21:25:41.127000: E tensorflow/compiler/xla/stream_executor/cuda/cuda_fft.cc:609] Unable to register cuFFT factory: Attempting to register factory for plugin cuFFT when one has already been registered\n",
      "\u001b[36m(pid=3522657)\u001b[0m 2024-03-21 21:25:41.127025: E tensorflow/compiler/xla/stream_executor/cuda/cuda_blas.cc:1518] Unable to register cuBLAS factory: Attempting to register factory for plugin cuBLAS when one has already been registered\n"
     ]
    },
    {
     "name": "stderr",
     "output_type": "stream",
     "text": [
      "\u001b[36m(TrainLightGCN pid=3522657)\u001b[0m /home/daviddavo/upm-tfm-notebooks/.direnv/python-3.9/lib/python3.9/site-packages/recommenders/models/deeprec/DataModel/ImplicitCF.py:73: FutureWarning: The frame.append method is deprecated and will be removed from pandas in a future version. Use pandas.concat instead.\n",
      "\u001b[36m(TrainLightGCN pid=3522657)\u001b[0m   df = train if test is None else train.append(test)\n"
     ]
    },
    {
     "name": "stdout",
     "output_type": "stream",
     "text": [
      "\u001b[36m(TrainLightGCN pid=3522657)\u001b[0m Already create adjacency matrix.\n",
      "\u001b[36m(TrainLightGCN pid=3522657)\u001b[0m Already normalize adjacency matrix.\n",
      "\u001b[36m(TrainLightGCN pid=3522657)\u001b[0m Using xavier initialization.\n"
     ]
    },
    {
     "name": "stderr",
     "output_type": "stream",
     "text": [
      "\u001b[36m(TrainLightGCN pid=3519021)\u001b[0m Checkpoint successfully created at: Checkpoint(filesystem=local, path=/home/daviddavo/ray_results/LightGCN_optim=map@10,dao=Decentraland,freq=W-THU,normalize=True,cutoff_date=2023-07-29T00:00:00,fold=9_2024-03-21T20:59:20.911809/TrainLightGCN_9132d004_55_batch_size=6,conv_layers=4,embedding_dim=88,fold=9,l2=0.0008,learning_rate=0.0053_2024-03-21_21-18-59/checkpoint_000000)\n"
     ]
    },
    {
     "name": "stderr",
     "output_type": "stream",
     "text": [
      "\u001b[36m(pid=3522839)\u001b[0m 2024-03-21 21:25:47.652673: E tensorflow/compiler/xla/stream_executor/cuda/cuda_dnn.cc:9342] Unable to register cuDNN factory: Attempting to register factory for plugin cuDNN when one has already been registered\n",
      "\u001b[36m(pid=3522839)\u001b[0m 2024-03-21 21:25:47.652719: E tensorflow/compiler/xla/stream_executor/cuda/cuda_fft.cc:609] Unable to register cuFFT factory: Attempting to register factory for plugin cuFFT when one has already been registered\n",
      "\u001b[36m(pid=3522839)\u001b[0m 2024-03-21 21:25:47.652732: E tensorflow/compiler/xla/stream_executor/cuda/cuda_blas.cc:1518] Unable to register cuBLAS factory: Attempting to register factory for plugin cuBLAS when one has already been registered\n"
     ]
    },
    {
     "name": "stderr",
     "output_type": "stream",
     "text": [
      "\u001b[36m(TrainLightGCN pid=3522839)\u001b[0m /home/daviddavo/upm-tfm-notebooks/.direnv/python-3.9/lib/python3.9/site-packages/recommenders/models/deeprec/DataModel/ImplicitCF.py:73: FutureWarning: The frame.append method is deprecated and will be removed from pandas in a future version. Use pandas.concat instead.\n",
      "\u001b[36m(TrainLightGCN pid=3522839)\u001b[0m   df = train if test is None else train.append(test)\n"
     ]
    },
    {
     "name": "stdout",
     "output_type": "stream",
     "text": [
      "\u001b[36m(TrainLightGCN pid=3522839)\u001b[0m Already create adjacency matrix.\n",
      "\u001b[36m(TrainLightGCN pid=3522839)\u001b[0m Already normalize adjacency matrix.\n",
      "\u001b[36m(TrainLightGCN pid=3522839)\u001b[0m Using xavier initialization.\n"
     ]
    },
    {
     "name": "stderr",
     "output_type": "stream",
     "text": [
      "\u001b[36m(TrainLightGCN pid=3518803)\u001b[0m Checkpoint successfully created at: Checkpoint(filesystem=local, path=/home/daviddavo/ray_results/LightGCN_optim=map@10,dao=Decentraland,freq=W-THU,normalize=True,cutoff_date=2023-07-29T00:00:00,fold=9_2024-03-21T20:59:20.911809/TrainLightGCN_0f09cd3c_54_batch_size=7,conv_layers=2,embedding_dim=969,fold=9,l2=0.0000,learning_rate=0.6555_2024-03-21_21-18-52/checkpoint_000000)\n"
     ]
    },
    {
     "name": "stderr",
     "output_type": "stream",
     "text": [
      "\u001b[36m(pid=3523047)\u001b[0m 2024-03-21 21:25:58.624106: E tensorflow/compiler/xla/stream_executor/cuda/cuda_dnn.cc:9342] Unable to register cuDNN factory: Attempting to register factory for plugin cuDNN when one has already been registered\n",
      "\u001b[36m(pid=3523047)\u001b[0m 2024-03-21 21:25:58.624141: E tensorflow/compiler/xla/stream_executor/cuda/cuda_fft.cc:609] Unable to register cuFFT factory: Attempting to register factory for plugin cuFFT when one has already been registered\n",
      "\u001b[36m(pid=3523047)\u001b[0m 2024-03-21 21:25:58.624155: E tensorflow/compiler/xla/stream_executor/cuda/cuda_blas.cc:1518] Unable to register cuBLAS factory: Attempting to register factory for plugin cuBLAS when one has already been registered\n"
     ]
    },
    {
     "name": "stderr",
     "output_type": "stream",
     "text": [
      "\u001b[36m(TrainLightGCN pid=3519391)\u001b[0m Checkpoint successfully created at: Checkpoint(filesystem=local, path=/home/daviddavo/ray_results/LightGCN_optim=map@10,dao=Decentraland,freq=W-THU,normalize=True,cutoff_date=2023-07-29T00:00:00,fold=9_2024-03-21T20:59:20.911809/TrainLightGCN_9a74b544_57_batch_size=7,conv_layers=2,embedding_dim=61,fold=9,l2=0.0000,learning_rate=0.0016_2024-03-21_21-19-22/checkpoint_000000)\n"
     ]
    },
    {
     "name": "stderr",
     "output_type": "stream",
     "text": [
      "\u001b[36m(TrainLightGCN pid=3523047)\u001b[0m /home/daviddavo/upm-tfm-notebooks/.direnv/python-3.9/lib/python3.9/site-packages/recommenders/models/deeprec/DataModel/ImplicitCF.py:73: FutureWarning: The frame.append method is deprecated and will be removed from pandas in a future version. Use pandas.concat instead.\n",
      "\u001b[36m(TrainLightGCN pid=3523047)\u001b[0m   df = train if test is None else train.append(test)\n"
     ]
    },
    {
     "name": "stdout",
     "output_type": "stream",
     "text": [
      "\u001b[36m(TrainLightGCN pid=3523047)\u001b[0m Already create adjacency matrix.\n",
      "\u001b[36m(TrainLightGCN pid=3523047)\u001b[0m Already normalize adjacency matrix.\n",
      "\u001b[36m(TrainLightGCN pid=3523047)\u001b[0m Using xavier initialization.\n"
     ]
    },
    {
     "name": "stderr",
     "output_type": "stream",
     "text": [
      "\u001b[36m(pid=3523203)\u001b[0m 2024-03-21 21:26:04.693536: E tensorflow/compiler/xla/stream_executor/cuda/cuda_dnn.cc:9342] Unable to register cuDNN factory: Attempting to register factory for plugin cuDNN when one has already been registered\n",
      "\u001b[36m(pid=3523203)\u001b[0m 2024-03-21 21:26:04.693575: E tensorflow/compiler/xla/stream_executor/cuda/cuda_fft.cc:609] Unable to register cuFFT factory: Attempting to register factory for plugin cuFFT when one has already been registered\n",
      "\u001b[36m(pid=3523203)\u001b[0m 2024-03-21 21:26:04.693588: E tensorflow/compiler/xla/stream_executor/cuda/cuda_blas.cc:1518] Unable to register cuBLAS factory: Attempting to register factory for plugin cuBLAS when one has already been registered\n"
     ]
    },
    {
     "name": "stderr",
     "output_type": "stream",
     "text": [
      "\u001b[36m(TrainLightGCN pid=3519874)\u001b[0m Checkpoint successfully created at: Checkpoint(filesystem=local, path=/home/daviddavo/ray_results/LightGCN_optim=map@10,dao=Decentraland,freq=W-THU,normalize=True,cutoff_date=2023-07-29T00:00:00,fold=9_2024-03-21T20:59:20.911809/TrainLightGCN_8762de57_59_batch_size=8,conv_layers=4,embedding_dim=36,fold=9,l2=0.0001,learning_rate=0.0078_2024-03-21_21-20-13/checkpoint_000000)\n",
      "\u001b[36m(TrainLightGCN pid=3523203)\u001b[0m /home/daviddavo/upm-tfm-notebooks/.direnv/python-3.9/lib/python3.9/site-packages/recommenders/models/deeprec/DataModel/ImplicitCF.py:73: FutureWarning: The frame.append method is deprecated and will be removed from pandas in a future version. Use pandas.concat instead.\n",
      "\u001b[36m(TrainLightGCN pid=3523203)\u001b[0m   df = train if test is None else train.append(test)\n"
     ]
    },
    {
     "name": "stdout",
     "output_type": "stream",
     "text": [
      "\u001b[36m(TrainLightGCN pid=3523203)\u001b[0m Already create adjacency matrix.\n",
      "\u001b[36m(TrainLightGCN pid=3523203)\u001b[0m Already normalize adjacency matrix.\n",
      "\u001b[36m(TrainLightGCN pid=3523203)\u001b[0m Using xavier initialization.\n"
     ]
    },
    {
     "name": "stderr",
     "output_type": "stream",
     "text": [
      "\u001b[36m(pid=3523371)\u001b[0m 2024-03-21 21:26:10.925204: E tensorflow/compiler/xla/stream_executor/cuda/cuda_dnn.cc:9342] Unable to register cuDNN factory: Attempting to register factory for plugin cuDNN when one has already been registered\n",
      "\u001b[36m(pid=3523371)\u001b[0m 2024-03-21 21:26:10.925244: E tensorflow/compiler/xla/stream_executor/cuda/cuda_fft.cc:609] Unable to register cuFFT factory: Attempting to register factory for plugin cuFFT when one has already been registered\n",
      "\u001b[36m(pid=3523371)\u001b[0m 2024-03-21 21:26:10.925260: E tensorflow/compiler/xla/stream_executor/cuda/cuda_blas.cc:1518] Unable to register cuBLAS factory: Attempting to register factory for plugin cuBLAS when one has already been registered\n"
     ]
    },
    {
     "name": "stderr",
     "output_type": "stream",
     "text": [
      "\u001b[36m(TrainLightGCN pid=3523371)\u001b[0m /home/daviddavo/upm-tfm-notebooks/.direnv/python-3.9/lib/python3.9/site-packages/recommenders/models/deeprec/DataModel/ImplicitCF.py:73: FutureWarning: The frame.append method is deprecated and will be removed from pandas in a future version. Use pandas.concat instead.\n",
      "\u001b[36m(TrainLightGCN pid=3523371)\u001b[0m   df = train if test is None else train.append(test)\n"
     ]
    },
    {
     "name": "stdout",
     "output_type": "stream",
     "text": [
      "\u001b[36m(TrainLightGCN pid=3523371)\u001b[0m Already create adjacency matrix.\n",
      "\u001b[36m(TrainLightGCN pid=3523371)\u001b[0m Already normalize adjacency matrix.\n",
      "\u001b[36m(TrainLightGCN pid=3523371)\u001b[0m Using xavier initialization.\n"
     ]
    },
    {
     "name": "stderr",
     "output_type": "stream",
     "text": [
      "\u001b[36m(TrainLightGCN pid=3520031)\u001b[0m Checkpoint successfully created at: Checkpoint(filesystem=local, path=/home/daviddavo/ray_results/LightGCN_optim=map@10,dao=Decentraland,freq=W-THU,normalize=True,cutoff_date=2023-07-29T00:00:00,fold=9_2024-03-21T20:59:20.911809/TrainLightGCN_c7e85b67_60_batch_size=6,conv_layers=3,embedding_dim=3,fold=9,l2=0.0004,learning_rate=0.0003_2024-03-21_21-20-30/checkpoint_000000)\n"
     ]
    },
    {
     "name": "stderr",
     "output_type": "stream",
     "text": [
      "\u001b[36m(pid=3523661)\u001b[0m 2024-03-21 21:26:46.702084: E tensorflow/compiler/xla/stream_executor/cuda/cuda_dnn.cc:9342] Unable to register cuDNN factory: Attempting to register factory for plugin cuDNN when one has already been registered\n",
      "\u001b[36m(pid=3523661)\u001b[0m 2024-03-21 21:26:46.702123: E tensorflow/compiler/xla/stream_executor/cuda/cuda_fft.cc:609] Unable to register cuFFT factory: Attempting to register factory for plugin cuFFT when one has already been registered\n",
      "\u001b[36m(pid=3523661)\u001b[0m 2024-03-21 21:26:46.702138: E tensorflow/compiler/xla/stream_executor/cuda/cuda_blas.cc:1518] Unable to register cuBLAS factory: Attempting to register factory for plugin cuBLAS when one has already been registered\n"
     ]
    },
    {
     "name": "stderr",
     "output_type": "stream",
     "text": [
      "\u001b[36m(TrainLightGCN pid=3523661)\u001b[0m /home/daviddavo/upm-tfm-notebooks/.direnv/python-3.9/lib/python3.9/site-packages/recommenders/models/deeprec/DataModel/ImplicitCF.py:73: FutureWarning: The frame.append method is deprecated and will be removed from pandas in a future version. Use pandas.concat instead.\n",
      "\u001b[36m(TrainLightGCN pid=3523661)\u001b[0m   df = train if test is None else train.append(test)\n"
     ]
    },
    {
     "name": "stdout",
     "output_type": "stream",
     "text": [
      "\u001b[36m(TrainLightGCN pid=3523661)\u001b[0m Already create adjacency matrix.\n",
      "\u001b[36m(TrainLightGCN pid=3523661)\u001b[0m Already normalize adjacency matrix.\n",
      "\u001b[36m(TrainLightGCN pid=3523661)\u001b[0m Using xavier initialization.\n"
     ]
    },
    {
     "name": "stderr",
     "output_type": "stream",
     "text": [
      "\u001b[36m(TrainLightGCN pid=3520199)\u001b[0m Checkpoint successfully created at: Checkpoint(filesystem=local, path=/home/daviddavo/ray_results/LightGCN_optim=map@10,dao=Decentraland,freq=W-THU,normalize=True,cutoff_date=2023-07-29T00:00:00,fold=9_2024-03-21T20:59:20.911809/TrainLightGCN_7e198026_61_batch_size=7,conv_layers=5,embedding_dim=19,fold=9,l2=0.0000,learning_rate=0.0008_2024-03-21_21-20-37/checkpoint_000000)\n",
      "\u001b[36m(pid=3523811)\u001b[0m 2024-03-21 21:26:52.994259: E tensorflow/compiler/xla/stream_executor/cuda/cuda_dnn.cc:9342] Unable to register cuDNN factory: Attempting to register factory for plugin cuDNN when one has already been registered\n",
      "\u001b[36m(pid=3523811)\u001b[0m 2024-03-21 21:26:52.994297: E tensorflow/compiler/xla/stream_executor/cuda/cuda_fft.cc:609] Unable to register cuFFT factory: Attempting to register factory for plugin cuFFT when one has already been registered\n",
      "\u001b[36m(pid=3523811)\u001b[0m 2024-03-21 21:26:52.994312: E tensorflow/compiler/xla/stream_executor/cuda/cuda_blas.cc:1518] Unable to register cuBLAS factory: Attempting to register factory for plugin cuBLAS when one has already been registered\n"
     ]
    },
    {
     "name": "stderr",
     "output_type": "stream",
     "text": [
      "\u001b[36m(TrainLightGCN pid=3523811)\u001b[0m /home/daviddavo/upm-tfm-notebooks/.direnv/python-3.9/lib/python3.9/site-packages/recommenders/models/deeprec/DataModel/ImplicitCF.py:73: FutureWarning: The frame.append method is deprecated and will be removed from pandas in a future version. Use pandas.concat instead.\n",
      "\u001b[36m(TrainLightGCN pid=3523811)\u001b[0m   df = train if test is None else train.append(test)\n"
     ]
    },
    {
     "name": "stdout",
     "output_type": "stream",
     "text": [
      "\u001b[36m(TrainLightGCN pid=3523811)\u001b[0m Already create adjacency matrix.\n",
      "\u001b[36m(TrainLightGCN pid=3523811)\u001b[0m Already normalize adjacency matrix.\n",
      "\u001b[36m(TrainLightGCN pid=3523811)\u001b[0m Using xavier initialization.\n"
     ]
    },
    {
     "name": "stderr",
     "output_type": "stream",
     "text": [
      "\u001b[36m(TrainLightGCN pid=3520477)\u001b[0m Checkpoint successfully created at: Checkpoint(filesystem=local, path=/home/daviddavo/ray_results/LightGCN_optim=map@10,dao=Decentraland,freq=W-THU,normalize=True,cutoff_date=2023-07-29T00:00:00,fold=9_2024-03-21T20:59:20.911809/TrainLightGCN_aa8cf4b1_62_batch_size=7,conv_layers=1,embedding_dim=13,fold=9,l2=0.0002,learning_rate=0.1598_2024-03-21_21-20-43/checkpoint_000000)\n"
     ]
    },
    {
     "name": "stderr",
     "output_type": "stream",
     "text": [
      "\u001b[36m(pid=3524075)\u001b[0m 2024-03-21 21:27:20.959593: E tensorflow/compiler/xla/stream_executor/cuda/cuda_dnn.cc:9342] Unable to register cuDNN factory: Attempting to register factory for plugin cuDNN when one has already been registered\n",
      "\u001b[36m(pid=3524075)\u001b[0m 2024-03-21 21:27:20.959643: E tensorflow/compiler/xla/stream_executor/cuda/cuda_fft.cc:609] Unable to register cuFFT factory: Attempting to register factory for plugin cuFFT when one has already been registered\n",
      "\u001b[36m(pid=3524075)\u001b[0m 2024-03-21 21:27:20.959667: E tensorflow/compiler/xla/stream_executor/cuda/cuda_blas.cc:1518] Unable to register cuBLAS factory: Attempting to register factory for plugin cuBLAS when one has already been registered\n"
     ]
    },
    {
     "name": "stderr",
     "output_type": "stream",
     "text": [
      "\u001b[36m(TrainLightGCN pid=3524075)\u001b[0m /home/daviddavo/upm-tfm-notebooks/.direnv/python-3.9/lib/python3.9/site-packages/recommenders/models/deeprec/DataModel/ImplicitCF.py:73: FutureWarning: The frame.append method is deprecated and will be removed from pandas in a future version. Use pandas.concat instead.\n",
      "\u001b[36m(TrainLightGCN pid=3524075)\u001b[0m   df = train if test is None else train.append(test)\n"
     ]
    },
    {
     "name": "stdout",
     "output_type": "stream",
     "text": [
      "\u001b[36m(TrainLightGCN pid=3524075)\u001b[0m Already create adjacency matrix.\n",
      "\u001b[36m(TrainLightGCN pid=3524075)\u001b[0m Already normalize adjacency matrix.\n",
      "\u001b[36m(TrainLightGCN pid=3524075)\u001b[0m Using xavier initialization.\n"
     ]
    },
    {
     "name": "stderr",
     "output_type": "stream",
     "text": [
      "\u001b[36m(TrainLightGCN pid=3520806)\u001b[0m Checkpoint successfully created at: Checkpoint(filesystem=local, path=/home/daviddavo/ray_results/LightGCN_optim=map@10,dao=Decentraland,freq=W-THU,normalize=True,cutoff_date=2023-07-29T00:00:00,fold=9_2024-03-21T20:59:20.911809/TrainLightGCN_ef01d217_63_batch_size=6,conv_layers=4,embedding_dim=50,fold=9,l2=0.0000,learning_rate=0.0001_2024-03-21_21-21-15/checkpoint_000000)\n"
     ]
    },
    {
     "name": "stderr",
     "output_type": "stream",
     "text": [
      "\u001b[36m(pid=3524389)\u001b[0m 2024-03-21 21:28:12.681430: E tensorflow/compiler/xla/stream_executor/cuda/cuda_dnn.cc:9342] Unable to register cuDNN factory: Attempting to register factory for plugin cuDNN when one has already been registered\n",
      "\u001b[36m(pid=3524389)\u001b[0m 2024-03-21 21:28:12.681475: E tensorflow/compiler/xla/stream_executor/cuda/cuda_fft.cc:609] Unable to register cuFFT factory: Attempting to register factory for plugin cuFFT when one has already been registered\n",
      "\u001b[36m(pid=3524389)\u001b[0m 2024-03-21 21:28:12.681493: E tensorflow/compiler/xla/stream_executor/cuda/cuda_blas.cc:1518] Unable to register cuBLAS factory: Attempting to register factory for plugin cuBLAS when one has already been registered\n"
     ]
    },
    {
     "name": "stderr",
     "output_type": "stream",
     "text": [
      "\u001b[36m(TrainLightGCN pid=3524389)\u001b[0m /home/daviddavo/upm-tfm-notebooks/.direnv/python-3.9/lib/python3.9/site-packages/recommenders/models/deeprec/DataModel/ImplicitCF.py:73: FutureWarning: The frame.append method is deprecated and will be removed from pandas in a future version. Use pandas.concat instead.\n",
      "\u001b[36m(TrainLightGCN pid=3524389)\u001b[0m   df = train if test is None else train.append(test)\n"
     ]
    },
    {
     "name": "stdout",
     "output_type": "stream",
     "text": [
      "\u001b[36m(TrainLightGCN pid=3524389)\u001b[0m Already create adjacency matrix.\n",
      "\u001b[36m(TrainLightGCN pid=3524389)\u001b[0m Already normalize adjacency matrix.\n",
      "\u001b[36m(TrainLightGCN pid=3524389)\u001b[0m Using xavier initialization.\n"
     ]
    },
    {
     "name": "stderr",
     "output_type": "stream",
     "text": [
      "\u001b[36m(TrainLightGCN pid=3521021)\u001b[0m Checkpoint successfully created at: Checkpoint(filesystem=local, path=/home/daviddavo/ray_results/LightGCN_optim=map@10,dao=Decentraland,freq=W-THU,normalize=True,cutoff_date=2023-07-29T00:00:00,fold=9_2024-03-21T20:59:20.911809/TrainLightGCN_cf0d86b7_64_batch_size=7,conv_layers=5,embedding_dim=107,fold=9,l2=0.0001,learning_rate=0.0022_2024-03-21_21-22-13/checkpoint_000000)\n"
     ]
    },
    {
     "name": "stderr",
     "output_type": "stream",
     "text": [
      "\u001b[36m(pid=3524634)\u001b[0m 2024-03-21 21:28:41.601415: E tensorflow/compiler/xla/stream_executor/cuda/cuda_dnn.cc:9342] Unable to register cuDNN factory: Attempting to register factory for plugin cuDNN when one has already been registered\n",
      "\u001b[36m(pid=3524634)\u001b[0m 2024-03-21 21:28:41.601449: E tensorflow/compiler/xla/stream_executor/cuda/cuda_fft.cc:609] Unable to register cuFFT factory: Attempting to register factory for plugin cuFFT when one has already been registered\n",
      "\u001b[36m(pid=3524634)\u001b[0m 2024-03-21 21:28:41.601463: E tensorflow/compiler/xla/stream_executor/cuda/cuda_blas.cc:1518] Unable to register cuBLAS factory: Attempting to register factory for plugin cuBLAS when one has already been registered\n"
     ]
    },
    {
     "name": "stderr",
     "output_type": "stream",
     "text": [
      "\u001b[36m(TrainLightGCN pid=3524634)\u001b[0m /home/daviddavo/upm-tfm-notebooks/.direnv/python-3.9/lib/python3.9/site-packages/recommenders/models/deeprec/DataModel/ImplicitCF.py:73: FutureWarning: The frame.append method is deprecated and will be removed from pandas in a future version. Use pandas.concat instead.\n",
      "\u001b[36m(TrainLightGCN pid=3524634)\u001b[0m   df = train if test is None else train.append(test)\n"
     ]
    },
    {
     "name": "stdout",
     "output_type": "stream",
     "text": [
      "\u001b[36m(TrainLightGCN pid=3524634)\u001b[0m Already create adjacency matrix.\n",
      "\u001b[36m(TrainLightGCN pid=3524634)\u001b[0m Already normalize adjacency matrix.\n",
      "\u001b[36m(TrainLightGCN pid=3524634)\u001b[0m Using xavier initialization.\n"
     ]
    },
    {
     "name": "stderr",
     "output_type": "stream",
     "text": [
      "\u001b[36m(TrainLightGCN pid=3521303)\u001b[0m Checkpoint successfully created at: Checkpoint(filesystem=local, path=/home/daviddavo/ray_results/LightGCN_optim=map@10,dao=Decentraland,freq=W-THU,normalize=True,cutoff_date=2023-07-29T00:00:00,fold=9_2024-03-21T20:59:20.911809/TrainLightGCN_85832d71_65_batch_size=6,conv_layers=5,embedding_dim=1,fold=9,l2=0.0028,learning_rate=0.0548_2024-03-21_21-22-34/checkpoint_000000)\n"
     ]
    },
    {
     "name": "stderr",
     "output_type": "stream",
     "text": [
      "\u001b[36m(pid=3524938)\u001b[0m 2024-03-21 21:29:31.938157: E tensorflow/compiler/xla/stream_executor/cuda/cuda_dnn.cc:9342] Unable to register cuDNN factory: Attempting to register factory for plugin cuDNN when one has already been registered\n",
      "\u001b[36m(pid=3524938)\u001b[0m 2024-03-21 21:29:31.938205: E tensorflow/compiler/xla/stream_executor/cuda/cuda_fft.cc:609] Unable to register cuFFT factory: Attempting to register factory for plugin cuFFT when one has already been registered\n",
      "\u001b[36m(pid=3524938)\u001b[0m 2024-03-21 21:29:31.938230: E tensorflow/compiler/xla/stream_executor/cuda/cuda_blas.cc:1518] Unable to register cuBLAS factory: Attempting to register factory for plugin cuBLAS when one has already been registered\n"
     ]
    },
    {
     "name": "stderr",
     "output_type": "stream",
     "text": [
      "\u001b[36m(TrainLightGCN pid=3524938)\u001b[0m /home/daviddavo/upm-tfm-notebooks/.direnv/python-3.9/lib/python3.9/site-packages/recommenders/models/deeprec/DataModel/ImplicitCF.py:73: FutureWarning: The frame.append method is deprecated and will be removed from pandas in a future version. Use pandas.concat instead.\n",
      "\u001b[36m(TrainLightGCN pid=3524938)\u001b[0m   df = train if test is None else train.append(test)\n"
     ]
    },
    {
     "name": "stdout",
     "output_type": "stream",
     "text": [
      "\u001b[36m(TrainLightGCN pid=3524938)\u001b[0m Already create adjacency matrix.\n",
      "\u001b[36m(TrainLightGCN pid=3524938)\u001b[0m Already normalize adjacency matrix.\n",
      "\u001b[36m(TrainLightGCN pid=3524938)\u001b[0m Using xavier initialization.\n"
     ]
    },
    {
     "name": "stderr",
     "output_type": "stream",
     "text": [
      "\u001b[36m(TrainLightGCN pid=3521452)\u001b[0m Checkpoint successfully created at: Checkpoint(filesystem=local, path=/home/daviddavo/ray_results/LightGCN_optim=map@10,dao=Decentraland,freq=W-THU,normalize=True,cutoff_date=2023-07-29T00:00:00,fold=9_2024-03-21T20:59:20.911809/TrainLightGCN_7fb49f41_66_batch_size=6,conv_layers=4,embedding_dim=152,fold=9,l2=0.0012,learning_rate=0.0226_2024-03-21_21-23-15/checkpoint_000000)\n"
     ]
    },
    {
     "name": "stderr",
     "output_type": "stream",
     "text": [
      "\u001b[36m(pid=3525090)\u001b[0m 2024-03-21 21:29:39.205632: E tensorflow/compiler/xla/stream_executor/cuda/cuda_dnn.cc:9342] Unable to register cuDNN factory: Attempting to register factory for plugin cuDNN when one has already been registered\n",
      "\u001b[36m(pid=3525090)\u001b[0m 2024-03-21 21:29:39.205672: E tensorflow/compiler/xla/stream_executor/cuda/cuda_fft.cc:609] Unable to register cuFFT factory: Attempting to register factory for plugin cuFFT when one has already been registered\n",
      "\u001b[36m(pid=3525090)\u001b[0m 2024-03-21 21:29:39.205693: E tensorflow/compiler/xla/stream_executor/cuda/cuda_blas.cc:1518] Unable to register cuBLAS factory: Attempting to register factory for plugin cuBLAS when one has already been registered\n"
     ]
    },
    {
     "name": "stderr",
     "output_type": "stream",
     "text": [
      "\u001b[36m(TrainLightGCN pid=3525090)\u001b[0m /home/daviddavo/upm-tfm-notebooks/.direnv/python-3.9/lib/python3.9/site-packages/recommenders/models/deeprec/DataModel/ImplicitCF.py:73: FutureWarning: The frame.append method is deprecated and will be removed from pandas in a future version. Use pandas.concat instead.\n",
      "\u001b[36m(TrainLightGCN pid=3525090)\u001b[0m   df = train if test is None else train.append(test)\n"
     ]
    },
    {
     "name": "stdout",
     "output_type": "stream",
     "text": [
      "\u001b[36m(TrainLightGCN pid=3525090)\u001b[0m Already create adjacency matrix.\n",
      "\u001b[36m(TrainLightGCN pid=3525090)\u001b[0m Already normalize adjacency matrix.\n"
     ]
    },
    {
     "name": "stdout",
     "output_type": "stream",
     "text": [
      "\u001b[36m(TrainLightGCN pid=3525090)\u001b[0m Using xavier initialization.\n"
     ]
    },
    {
     "name": "stderr",
     "output_type": "stream",
     "text": [
      "\u001b[36m(TrainLightGCN pid=3522220)\u001b[0m Checkpoint successfully created at: Checkpoint(filesystem=local, path=/home/daviddavo/ray_results/LightGCN_optim=map@10,dao=Decentraland,freq=W-THU,normalize=True,cutoff_date=2023-07-29T00:00:00,fold=9_2024-03-21T20:59:20.911809/TrainLightGCN_db2d8c25_69_batch_size=9,conv_layers=5,embedding_dim=41,fold=9,l2=0.0000,learning_rate=0.0046_2024-03-21_21-24-38/checkpoint_000000)\n"
     ]
    },
    {
     "name": "stderr",
     "output_type": "stream",
     "text": [
      "\u001b[36m(pid=3525344)\u001b[0m 2024-03-21 21:30:03.558766: E tensorflow/compiler/xla/stream_executor/cuda/cuda_dnn.cc:9342] Unable to register cuDNN factory: Attempting to register factory for plugin cuDNN when one has already been registered\n",
      "\u001b[36m(pid=3525344)\u001b[0m 2024-03-21 21:30:03.558880: E tensorflow/compiler/xla/stream_executor/cuda/cuda_fft.cc:609] Unable to register cuFFT factory: Attempting to register factory for plugin cuFFT when one has already been registered\n",
      "\u001b[36m(pid=3525344)\u001b[0m 2024-03-21 21:30:03.558898: E tensorflow/compiler/xla/stream_executor/cuda/cuda_blas.cc:1518] Unable to register cuBLAS factory: Attempting to register factory for plugin cuBLAS when one has already been registered\n"
     ]
    },
    {
     "name": "stderr",
     "output_type": "stream",
     "text": [
      "\u001b[36m(TrainLightGCN pid=3525344)\u001b[0m /home/daviddavo/upm-tfm-notebooks/.direnv/python-3.9/lib/python3.9/site-packages/recommenders/models/deeprec/DataModel/ImplicitCF.py:73: FutureWarning: The frame.append method is deprecated and will be removed from pandas in a future version. Use pandas.concat instead.\n",
      "\u001b[36m(TrainLightGCN pid=3525344)\u001b[0m   df = train if test is None else train.append(test)\n"
     ]
    },
    {
     "name": "stdout",
     "output_type": "stream",
     "text": [
      "\u001b[36m(TrainLightGCN pid=3525344)\u001b[0m Already create adjacency matrix.\n",
      "\u001b[36m(TrainLightGCN pid=3525344)\u001b[0m Already normalize adjacency matrix.\n",
      "\u001b[36m(TrainLightGCN pid=3525344)\u001b[0m Using xavier initialization.\n"
     ]
    },
    {
     "name": "stderr",
     "output_type": "stream",
     "text": [
      "\u001b[36m(TrainLightGCN pid=3521685)\u001b[0m Checkpoint successfully created at: Checkpoint(filesystem=local, path=/home/daviddavo/ray_results/LightGCN_optim=map@10,dao=Decentraland,freq=W-THU,normalize=True,cutoff_date=2023-07-29T00:00:00,fold=9_2024-03-21T20:59:20.911809/TrainLightGCN_fe238654_67_batch_size=6,conv_layers=4,embedding_dim=73,fold=9,l2=0.0052,learning_rate=0.0088_2024-03-21_21-23-22/checkpoint_000000)\n",
      "\u001b[36m(pid=3525496)\u001b[0m 2024-03-21 21:30:10.685914: E tensorflow/compiler/xla/stream_executor/cuda/cuda_dnn.cc:9342] Unable to register cuDNN factory: Attempting to register factory for plugin cuDNN when one has already been registered\n",
      "\u001b[36m(pid=3525496)\u001b[0m 2024-03-21 21:30:10.685961: E tensorflow/compiler/xla/stream_executor/cuda/cuda_fft.cc:609] Unable to register cuFFT factory: Attempting to register factory for plugin cuFFT when one has already been registered\n",
      "\u001b[36m(pid=3525496)\u001b[0m 2024-03-21 21:30:10.685990: E tensorflow/compiler/xla/stream_executor/cuda/cuda_blas.cc:1518] Unable to register cuBLAS factory: Attempting to register factory for plugin cuBLAS when one has already been registered\n"
     ]
    },
    {
     "name": "stderr",
     "output_type": "stream",
     "text": [
      "\u001b[36m(TrainLightGCN pid=3525496)\u001b[0m /home/daviddavo/upm-tfm-notebooks/.direnv/python-3.9/lib/python3.9/site-packages/recommenders/models/deeprec/DataModel/ImplicitCF.py:73: FutureWarning: The frame.append method is deprecated and will be removed from pandas in a future version. Use pandas.concat instead.\n",
      "\u001b[36m(TrainLightGCN pid=3525496)\u001b[0m   df = train if test is None else train.append(test)\n"
     ]
    },
    {
     "name": "stdout",
     "output_type": "stream",
     "text": [
      "\u001b[36m(TrainLightGCN pid=3525496)\u001b[0m Already normalize adjacency matrix.\n",
      "\u001b[36m(TrainLightGCN pid=3525496)\u001b[0m Already create adjacency matrix.\n",
      "\u001b[36m(TrainLightGCN pid=3525496)\u001b[0m Using xavier initialization.\n"
     ]
    },
    {
     "name": "stderr",
     "output_type": "stream",
     "text": [
      "\u001b[36m(TrainLightGCN pid=3522508)\u001b[0m Checkpoint successfully created at: Checkpoint(filesystem=local, path=/home/daviddavo/ray_results/LightGCN_optim=map@10,dao=Decentraland,freq=W-THU,normalize=True,cutoff_date=2023-07-29T00:00:00,fold=9_2024-03-21T20:59:20.911809/TrainLightGCN_9009cc90_70_batch_size=9,conv_layers=5,embedding_dim=32,fold=9,l2=0.0014,learning_rate=0.0028_2024-03-21_21-24-55/checkpoint_000000)\n"
     ]
    },
    {
     "name": "stderr",
     "output_type": "stream",
     "text": [
      "\u001b[36m(pid=3525830)\u001b[0m 2024-03-21 21:31:03.558897: E tensorflow/compiler/xla/stream_executor/cuda/cuda_dnn.cc:9342] Unable to register cuDNN factory: Attempting to register factory for plugin cuDNN when one has already been registered\n",
      "\u001b[36m(pid=3525830)\u001b[0m 2024-03-21 21:31:03.558936: E tensorflow/compiler/xla/stream_executor/cuda/cuda_fft.cc:609] Unable to register cuFFT factory: Attempting to register factory for plugin cuFFT when one has already been registered\n",
      "\u001b[36m(pid=3525830)\u001b[0m 2024-03-21 21:31:03.558956: E tensorflow/compiler/xla/stream_executor/cuda/cuda_blas.cc:1518] Unable to register cuBLAS factory: Attempting to register factory for plugin cuBLAS when one has already been registered\n"
     ]
    },
    {
     "name": "stderr",
     "output_type": "stream",
     "text": [
      "\u001b[36m(TrainLightGCN pid=3525830)\u001b[0m /home/daviddavo/upm-tfm-notebooks/.direnv/python-3.9/lib/python3.9/site-packages/recommenders/models/deeprec/DataModel/ImplicitCF.py:73: FutureWarning: The frame.append method is deprecated and will be removed from pandas in a future version. Use pandas.concat instead.\n",
      "\u001b[36m(TrainLightGCN pid=3525830)\u001b[0m   df = train if test is None else train.append(test)\n"
     ]
    },
    {
     "name": "stdout",
     "output_type": "stream",
     "text": [
      "\u001b[36m(TrainLightGCN pid=3525830)\u001b[0m Already create adjacency matrix.\n",
      "\u001b[36m(TrainLightGCN pid=3525830)\u001b[0m Already normalize adjacency matrix.\n",
      "\u001b[36m(TrainLightGCN pid=3525830)\u001b[0m Using xavier initialization.\n"
     ]
    },
    {
     "name": "stderr",
     "output_type": "stream",
     "text": [
      "\u001b[36m(TrainLightGCN pid=3522657)\u001b[0m Checkpoint successfully created at: Checkpoint(filesystem=local, path=/home/daviddavo/ray_results/LightGCN_optim=map@10,dao=Decentraland,freq=W-THU,normalize=True,cutoff_date=2023-07-29T00:00:00,fold=9_2024-03-21T20:59:20.911809/TrainLightGCN_f8622291_71_batch_size=8,conv_layers=5,embedding_dim=89,fold=9,l2=0.0020,learning_rate=0.0005_2024-03-21_21-25-39/checkpoint_000000)\n"
     ]
    },
    {
     "name": "stderr",
     "output_type": "stream",
     "text": [
      "\u001b[36m(pid=3525985)\u001b[0m 2024-03-21 21:31:10.472533: E tensorflow/compiler/xla/stream_executor/cuda/cuda_dnn.cc:9342] Unable to register cuDNN factory: Attempting to register factory for plugin cuDNN when one has already been registered\n",
      "\u001b[36m(pid=3525985)\u001b[0m 2024-03-21 21:31:10.472570: E tensorflow/compiler/xla/stream_executor/cuda/cuda_fft.cc:609] Unable to register cuFFT factory: Attempting to register factory for plugin cuFFT when one has already been registered\n",
      "\u001b[36m(pid=3525985)\u001b[0m 2024-03-21 21:31:10.472584: E tensorflow/compiler/xla/stream_executor/cuda/cuda_blas.cc:1518] Unable to register cuBLAS factory: Attempting to register factory for plugin cuBLAS when one has already been registered\n"
     ]
    },
    {
     "name": "stderr",
     "output_type": "stream",
     "text": [
      "\u001b[36m(TrainLightGCN pid=3525985)\u001b[0m /home/daviddavo/upm-tfm-notebooks/.direnv/python-3.9/lib/python3.9/site-packages/recommenders/models/deeprec/DataModel/ImplicitCF.py:73: FutureWarning: The frame.append method is deprecated and will be removed from pandas in a future version. Use pandas.concat instead.\n",
      "\u001b[36m(TrainLightGCN pid=3525985)\u001b[0m   df = train if test is None else train.append(test)\n"
     ]
    },
    {
     "name": "stdout",
     "output_type": "stream",
     "text": [
      "\u001b[36m(TrainLightGCN pid=3525985)\u001b[0m Already create adjacency matrix.\n",
      "\u001b[36m(TrainLightGCN pid=3525985)\u001b[0m Already normalize adjacency matrix.\n",
      "\u001b[36m(TrainLightGCN pid=3525985)\u001b[0m Using xavier initialization.\n"
     ]
    },
    {
     "name": "stderr",
     "output_type": "stream",
     "text": [
      "\u001b[36m(TrainLightGCN pid=3522839)\u001b[0m Checkpoint successfully created at: Checkpoint(filesystem=local, path=/home/daviddavo/ray_results/LightGCN_optim=map@10,dao=Decentraland,freq=W-THU,normalize=True,cutoff_date=2023-07-29T00:00:00,fold=9_2024-03-21T20:59:20.911809/TrainLightGCN_75cd12b3_72_batch_size=8,conv_layers=5,embedding_dim=57,fold=9,l2=0.0077,learning_rate=0.0013_2024-03-21_21-25-46/checkpoint_000000)\n"
     ]
    },
    {
     "name": "stderr",
     "output_type": "stream",
     "text": [
      "\u001b[36m(pid=3526181)\u001b[0m 2024-03-21 21:31:17.816772: E tensorflow/compiler/xla/stream_executor/cuda/cuda_dnn.cc:9342] Unable to register cuDNN factory: Attempting to register factory for plugin cuDNN when one has already been registered\n",
      "\u001b[36m(pid=3526181)\u001b[0m 2024-03-21 21:31:17.816803: E tensorflow/compiler/xla/stream_executor/cuda/cuda_fft.cc:609] Unable to register cuFFT factory: Attempting to register factory for plugin cuFFT when one has already been registered\n",
      "\u001b[36m(pid=3526181)\u001b[0m 2024-03-21 21:31:17.816819: E tensorflow/compiler/xla/stream_executor/cuda/cuda_blas.cc:1518] Unable to register cuBLAS factory: Attempting to register factory for plugin cuBLAS when one has already been registered\n"
     ]
    },
    {
     "name": "stderr",
     "output_type": "stream",
     "text": [
      "\u001b[36m(TrainLightGCN pid=3526181)\u001b[0m /home/daviddavo/upm-tfm-notebooks/.direnv/python-3.9/lib/python3.9/site-packages/recommenders/models/deeprec/DataModel/ImplicitCF.py:73: FutureWarning: The frame.append method is deprecated and will be removed from pandas in a future version. Use pandas.concat instead.\n",
      "\u001b[36m(TrainLightGCN pid=3526181)\u001b[0m   df = train if test is None else train.append(test)\n"
     ]
    },
    {
     "name": "stdout",
     "output_type": "stream",
     "text": [
      "\u001b[36m(TrainLightGCN pid=3526181)\u001b[0m Already create adjacency matrix.\n",
      "\u001b[36m(TrainLightGCN pid=3526181)\u001b[0m Already normalize adjacency matrix.\n",
      "\u001b[36m(TrainLightGCN pid=3526181)\u001b[0m Using xavier initialization.\n"
     ]
    },
    {
     "name": "stderr",
     "output_type": "stream",
     "text": [
      "\u001b[36m(TrainLightGCN pid=3523203)\u001b[0m Checkpoint successfully created at: Checkpoint(filesystem=local, path=/home/daviddavo/ray_results/LightGCN_optim=map@10,dao=Decentraland,freq=W-THU,normalize=True,cutoff_date=2023-07-29T00:00:00,fold=9_2024-03-21T20:59:20.911809/TrainLightGCN_d2203a6d_74_batch_size=9,conv_layers=4,embedding_dim=134,fold=9,l2=0.0003,learning_rate=0.2748_2024-03-21_21-26-03/checkpoint_000000)\n",
      "\u001b[36m(pid=3526336)\u001b[0m 2024-03-21 21:31:24.819176: E tensorflow/compiler/xla/stream_executor/cuda/cuda_dnn.cc:9342] Unable to register cuDNN factory: Attempting to register factory for plugin cuDNN when one has already been registered\n",
      "\u001b[36m(pid=3526336)\u001b[0m 2024-03-21 21:31:24.819216: E tensorflow/compiler/xla/stream_executor/cuda/cuda_fft.cc:609] Unable to register cuFFT factory: Attempting to register factory for plugin cuFFT when one has already been registered\n",
      "\u001b[36m(pid=3526336)\u001b[0m 2024-03-21 21:31:24.819237: E tensorflow/compiler/xla/stream_executor/cuda/cuda_blas.cc:1518] Unable to register cuBLAS factory: Attempting to register factory for plugin cuBLAS when one has already been registered\n"
     ]
    },
    {
     "name": "stderr",
     "output_type": "stream",
     "text": [
      "\u001b[36m(TrainLightGCN pid=3526336)\u001b[0m /home/daviddavo/upm-tfm-notebooks/.direnv/python-3.9/lib/python3.9/site-packages/recommenders/models/deeprec/DataModel/ImplicitCF.py:73: FutureWarning: The frame.append method is deprecated and will be removed from pandas in a future version. Use pandas.concat instead.\n",
      "\u001b[36m(TrainLightGCN pid=3526336)\u001b[0m   df = train if test is None else train.append(test)\n"
     ]
    },
    {
     "name": "stdout",
     "output_type": "stream",
     "text": [
      "\u001b[36m(TrainLightGCN pid=3526336)\u001b[0m Already create adjacency matrix.\n",
      "\u001b[36m(TrainLightGCN pid=3526336)\u001b[0m Already normalize adjacency matrix.\n",
      "\u001b[36m(TrainLightGCN pid=3526336)\u001b[0m Using xavier initialization.\n"
     ]
    },
    {
     "name": "stderr",
     "output_type": "stream",
     "text": [
      "\u001b[36m(TrainLightGCN pid=3522012)\u001b[0m Checkpoint successfully created at: Checkpoint(filesystem=local, path=/home/daviddavo/ray_results/LightGCN_optim=map@10,dao=Decentraland,freq=W-THU,normalize=True,cutoff_date=2023-07-29T00:00:00,fold=9_2024-03-21T20:59:20.911809/TrainLightGCN_51dc8f41_68_batch_size=6,conv_layers=4,embedding_dim=228,fold=9,l2=0.0008,learning_rate=0.0158_2024-03-21_21-23-39/checkpoint_000000)\n"
     ]
    },
    {
     "name": "stderr",
     "output_type": "stream",
     "text": [
      "\u001b[36m(pid=3526543)\u001b[0m 2024-03-21 21:31:34.731556: E tensorflow/compiler/xla/stream_executor/cuda/cuda_dnn.cc:9342] Unable to register cuDNN factory: Attempting to register factory for plugin cuDNN when one has already been registered\n",
      "\u001b[36m(pid=3526543)\u001b[0m 2024-03-21 21:31:34.731606: E tensorflow/compiler/xla/stream_executor/cuda/cuda_fft.cc:609] Unable to register cuFFT factory: Attempting to register factory for plugin cuFFT when one has already been registered\n",
      "\u001b[36m(pid=3526543)\u001b[0m 2024-03-21 21:31:34.731635: E tensorflow/compiler/xla/stream_executor/cuda/cuda_blas.cc:1518] Unable to register cuBLAS factory: Attempting to register factory for plugin cuBLAS when one has already been registered\n"
     ]
    },
    {
     "name": "stderr",
     "output_type": "stream",
     "text": [
      "\u001b[36m(TrainLightGCN pid=3526543)\u001b[0m /home/daviddavo/upm-tfm-notebooks/.direnv/python-3.9/lib/python3.9/site-packages/recommenders/models/deeprec/DataModel/ImplicitCF.py:73: FutureWarning: The frame.append method is deprecated and will be removed from pandas in a future version. Use pandas.concat instead.\n",
      "\u001b[36m(TrainLightGCN pid=3526543)\u001b[0m   df = train if test is None else train.append(test)\n"
     ]
    },
    {
     "name": "stdout",
     "output_type": "stream",
     "text": [
      "\u001b[36m(TrainLightGCN pid=3526543)\u001b[0m Already create adjacency matrix.\n",
      "\u001b[36m(TrainLightGCN pid=3526543)\u001b[0m Already normalize adjacency matrix.\n",
      "\u001b[36m(TrainLightGCN pid=3526543)\u001b[0m Using xavier initialization.\n"
     ]
    },
    {
     "name": "stderr",
     "output_type": "stream",
     "text": [
      "\u001b[36m(TrainLightGCN pid=3523047)\u001b[0m Checkpoint successfully created at: Checkpoint(filesystem=local, path=/home/daviddavo/ray_results/LightGCN_optim=map@10,dao=Decentraland,freq=W-THU,normalize=True,cutoff_date=2023-07-29T00:00:00,fold=9_2024-03-21T20:59:20.911809/TrainLightGCN_569b1e88_73_batch_size=8,conv_layers=5,embedding_dim=73,fold=9,l2=0.0006,learning_rate=0.0371_2024-03-21_21-25-52/checkpoint_000000)\n",
      "\u001b[36m(pid=3526698)\u001b[0m 2024-03-21 21:31:42.209365: E tensorflow/compiler/xla/stream_executor/cuda/cuda_dnn.cc:9342] Unable to register cuDNN factory: Attempting to register factory for plugin cuDNN when one has already been registered\n",
      "\u001b[36m(pid=3526698)\u001b[0m 2024-03-21 21:31:42.209413: E tensorflow/compiler/xla/stream_executor/cuda/cuda_fft.cc:609] Unable to register cuFFT factory: Attempting to register factory for plugin cuFFT when one has already been registered\n",
      "\u001b[36m(pid=3526698)\u001b[0m 2024-03-21 21:31:42.209435: E tensorflow/compiler/xla/stream_executor/cuda/cuda_blas.cc:1518] Unable to register cuBLAS factory: Attempting to register factory for plugin cuBLAS when one has already been registered\n"
     ]
    },
    {
     "name": "stderr",
     "output_type": "stream",
     "text": [
      "\u001b[36m(TrainLightGCN pid=3526698)\u001b[0m /home/daviddavo/upm-tfm-notebooks/.direnv/python-3.9/lib/python3.9/site-packages/recommenders/models/deeprec/DataModel/ImplicitCF.py:73: FutureWarning: The frame.append method is deprecated and will be removed from pandas in a future version. Use pandas.concat instead.\n",
      "\u001b[36m(TrainLightGCN pid=3526698)\u001b[0m   df = train if test is None else train.append(test)\n"
     ]
    },
    {
     "name": "stdout",
     "output_type": "stream",
     "text": [
      "\u001b[36m(TrainLightGCN pid=3526698)\u001b[0m Already create adjacency matrix.\n",
      "\u001b[36m(TrainLightGCN pid=3526698)\u001b[0m Already normalize adjacency matrix.\n",
      "\u001b[36m(TrainLightGCN pid=3526698)\u001b[0m Using xavier initialization.\n"
     ]
    },
    {
     "name": "stderr",
     "output_type": "stream",
     "text": [
      "\u001b[36m(TrainLightGCN pid=3523371)\u001b[0m Checkpoint successfully created at: Checkpoint(filesystem=local, path=/home/daviddavo/ray_results/LightGCN_optim=map@10,dao=Decentraland,freq=W-THU,normalize=True,cutoff_date=2023-07-29T00:00:00,fold=9_2024-03-21T20:59:20.911809/TrainLightGCN_74ebaaff_75_batch_size=8,conv_layers=5,embedding_dim=170,fold=9,l2=0.0002,learning_rate=0.0263_2024-03-21_21-26-09/checkpoint_000000)\n"
     ]
    },
    {
     "name": "stderr",
     "output_type": "stream",
     "text": [
      "\u001b[36m(pid=3526930)\u001b[0m 2024-03-21 21:32:00.558482: E tensorflow/compiler/xla/stream_executor/cuda/cuda_dnn.cc:9342] Unable to register cuDNN factory: Attempting to register factory for plugin cuDNN when one has already been registered\n",
      "\u001b[36m(pid=3526930)\u001b[0m 2024-03-21 21:32:00.558611: E tensorflow/compiler/xla/stream_executor/cuda/cuda_fft.cc:609] Unable to register cuFFT factory: Attempting to register factory for plugin cuFFT when one has already been registered\n",
      "\u001b[36m(pid=3526930)\u001b[0m 2024-03-21 21:32:00.558631: E tensorflow/compiler/xla/stream_executor/cuda/cuda_blas.cc:1518] Unable to register cuBLAS factory: Attempting to register factory for plugin cuBLAS when one has already been registered\n"
     ]
    },
    {
     "name": "stderr",
     "output_type": "stream",
     "text": [
      "\u001b[36m(TrainLightGCN pid=3526930)\u001b[0m /home/daviddavo/upm-tfm-notebooks/.direnv/python-3.9/lib/python3.9/site-packages/recommenders/models/deeprec/DataModel/ImplicitCF.py:73: FutureWarning: The frame.append method is deprecated and will be removed from pandas in a future version. Use pandas.concat instead.\n",
      "\u001b[36m(TrainLightGCN pid=3526930)\u001b[0m   df = train if test is None else train.append(test)\n"
     ]
    },
    {
     "name": "stdout",
     "output_type": "stream",
     "text": [
      "\u001b[36m(TrainLightGCN pid=3526930)\u001b[0m Already create adjacency matrix.\n",
      "\u001b[36m(TrainLightGCN pid=3526930)\u001b[0m Already normalize adjacency matrix.\n",
      "\u001b[36m(TrainLightGCN pid=3526930)\u001b[0m Using xavier initialization.\n"
     ]
    },
    {
     "name": "stderr",
     "output_type": "stream",
     "text": [
      "\u001b[36m(TrainLightGCN pid=3523661)\u001b[0m Checkpoint successfully created at: Checkpoint(filesystem=local, path=/home/daviddavo/ray_results/LightGCN_optim=map@10,dao=Decentraland,freq=W-THU,normalize=True,cutoff_date=2023-07-29T00:00:00,fold=9_2024-03-21T20:59:20.911809/TrainLightGCN_349d7449_76_batch_size=8,conv_layers=4,embedding_dim=21,fold=9,l2=0.0044,learning_rate=0.0010_2024-03-21_21-26-15/checkpoint_000000)\n"
     ]
    },
    {
     "name": "stderr",
     "output_type": "stream",
     "text": [
      "\u001b[36m(pid=3527262)\u001b[0m 2024-03-21 21:33:01.878056: E tensorflow/compiler/xla/stream_executor/cuda/cuda_dnn.cc:9342] Unable to register cuDNN factory: Attempting to register factory for plugin cuDNN when one has already been registered\n",
      "\u001b[36m(pid=3527262)\u001b[0m 2024-03-21 21:33:01.878207: E tensorflow/compiler/xla/stream_executor/cuda/cuda_fft.cc:609] Unable to register cuFFT factory: Attempting to register factory for plugin cuFFT when one has already been registered\n",
      "\u001b[36m(pid=3527262)\u001b[0m 2024-03-21 21:33:01.878226: E tensorflow/compiler/xla/stream_executor/cuda/cuda_blas.cc:1518] Unable to register cuBLAS factory: Attempting to register factory for plugin cuBLAS when one has already been registered\n"
     ]
    },
    {
     "name": "stderr",
     "output_type": "stream",
     "text": [
      "\u001b[36m(TrainLightGCN pid=3527262)\u001b[0m /home/daviddavo/upm-tfm-notebooks/.direnv/python-3.9/lib/python3.9/site-packages/recommenders/models/deeprec/DataModel/ImplicitCF.py:73: FutureWarning: The frame.append method is deprecated and will be removed from pandas in a future version. Use pandas.concat instead.\n",
      "\u001b[36m(TrainLightGCN pid=3527262)\u001b[0m   df = train if test is None else train.append(test)\n"
     ]
    },
    {
     "name": "stderr",
     "output_type": "stream",
     "text": [
      "\u001b[36m(TrainLightGCN pid=3524075)\u001b[0m Checkpoint successfully created at: Checkpoint(filesystem=local, path=/home/daviddavo/ray_results/LightGCN_optim=map@10,dao=Decentraland,freq=W-THU,normalize=True,cutoff_date=2023-07-29T00:00:00,fold=9_2024-03-21T20:59:20.911809/TrainLightGCN_515037f0_78_batch_size=9,conv_layers=5,embedding_dim=530,fold=9,l2=0.0007,learning_rate=0.0004_2024-03-21_21-26-58/checkpoint_000000)\n"
     ]
    },
    {
     "name": "stdout",
     "output_type": "stream",
     "text": [
      "\u001b[36m(TrainLightGCN pid=3527262)\u001b[0m Already normalize adjacency matrix.\n",
      "\u001b[36m(TrainLightGCN pid=3527262)\u001b[0m Already create adjacency matrix.\n",
      "\u001b[36m(TrainLightGCN pid=3527262)\u001b[0m Using xavier initialization.\n"
     ]
    },
    {
     "name": "stderr",
     "output_type": "stream",
     "text": [
      "\u001b[36m(pid=3527417)\u001b[0m 2024-03-21 21:33:08.672015: E tensorflow/compiler/xla/stream_executor/cuda/cuda_dnn.cc:9342] Unable to register cuDNN factory: Attempting to register factory for plugin cuDNN when one has already been registered\n",
      "\u001b[36m(pid=3527417)\u001b[0m 2024-03-21 21:33:08.672055: E tensorflow/compiler/xla/stream_executor/cuda/cuda_fft.cc:609] Unable to register cuFFT factory: Attempting to register factory for plugin cuFFT when one has already been registered\n",
      "\u001b[36m(pid=3527417)\u001b[0m 2024-03-21 21:33:08.672076: E tensorflow/compiler/xla/stream_executor/cuda/cuda_blas.cc:1518] Unable to register cuBLAS factory: Attempting to register factory for plugin cuBLAS when one has already been registered\n"
     ]
    },
    {
     "name": "stderr",
     "output_type": "stream",
     "text": [
      "\u001b[36m(TrainLightGCN pid=3527417)\u001b[0m /home/daviddavo/upm-tfm-notebooks/.direnv/python-3.9/lib/python3.9/site-packages/recommenders/models/deeprec/DataModel/ImplicitCF.py:73: FutureWarning: The frame.append method is deprecated and will be removed from pandas in a future version. Use pandas.concat instead.\n",
      "\u001b[36m(TrainLightGCN pid=3527417)\u001b[0m   df = train if test is None else train.append(test)\n",
      "\u001b[36m(TrainLightGCN pid=3523811)\u001b[0m Checkpoint successfully created at: Checkpoint(filesystem=local, path=/home/daviddavo/ray_results/LightGCN_optim=map@10,dao=Decentraland,freq=W-THU,normalize=True,cutoff_date=2023-07-29T00:00:00,fold=9_2024-03-21T20:59:20.911809/TrainLightGCN_d85c7ab6_77_batch_size=8,conv_layers=4,embedding_dim=28,fold=9,l2=0.0000,learning_rate=0.0688_2024-03-21_21-26-51/checkpoint_000000)\n"
     ]
    },
    {
     "name": "stdout",
     "output_type": "stream",
     "text": [
      "\u001b[36m(TrainLightGCN pid=3527417)\u001b[0m Already create adjacency matrix.\n",
      "\u001b[36m(TrainLightGCN pid=3527417)\u001b[0m Already normalize adjacency matrix.\n",
      "\u001b[36m(TrainLightGCN pid=3527417)\u001b[0m Using xavier initialization.\n"
     ]
    },
    {
     "name": "stderr",
     "output_type": "stream",
     "text": [
      "\u001b[36m(pid=3527587)\u001b[0m 2024-03-21 21:33:15.492946: E tensorflow/compiler/xla/stream_executor/cuda/cuda_dnn.cc:9342] Unable to register cuDNN factory: Attempting to register factory for plugin cuDNN when one has already been registered\n",
      "\u001b[36m(pid=3527587)\u001b[0m 2024-03-21 21:33:15.492979: E tensorflow/compiler/xla/stream_executor/cuda/cuda_fft.cc:609] Unable to register cuFFT factory: Attempting to register factory for plugin cuFFT when one has already been registered\n",
      "\u001b[36m(pid=3527587)\u001b[0m 2024-03-21 21:33:15.492993: E tensorflow/compiler/xla/stream_executor/cuda/cuda_blas.cc:1518] Unable to register cuBLAS factory: Attempting to register factory for plugin cuBLAS when one has already been registered\n"
     ]
    },
    {
     "name": "stderr",
     "output_type": "stream",
     "text": [
      "\u001b[36m(TrainLightGCN pid=3527587)\u001b[0m /home/daviddavo/upm-tfm-notebooks/.direnv/python-3.9/lib/python3.9/site-packages/recommenders/models/deeprec/DataModel/ImplicitCF.py:73: FutureWarning: The frame.append method is deprecated and will be removed from pandas in a future version. Use pandas.concat instead.\n",
      "\u001b[36m(TrainLightGCN pid=3527587)\u001b[0m   df = train if test is None else train.append(test)\n"
     ]
    },
    {
     "name": "stdout",
     "output_type": "stream",
     "text": [
      "\u001b[36m(TrainLightGCN pid=3527587)\u001b[0m Already create adjacency matrix.\n",
      "\u001b[36m(TrainLightGCN pid=3527587)\u001b[0m Already normalize adjacency matrix.\n",
      "\u001b[36m(TrainLightGCN pid=3527587)\u001b[0m Using xavier initialization.\n"
     ]
    },
    {
     "name": "stderr",
     "output_type": "stream",
     "text": [
      "\u001b[36m(TrainLightGCN pid=3524389)\u001b[0m Checkpoint successfully created at: Checkpoint(filesystem=local, path=/home/daviddavo/ray_results/LightGCN_optim=map@10,dao=Decentraland,freq=W-THU,normalize=True,cutoff_date=2023-07-29T00:00:00,fold=9_2024-03-21T20:59:20.911809/TrainLightGCN_9ced905f_79_batch_size=8,conv_layers=5,embedding_dim=45,fold=9,l2=0.0000,learning_rate=0.0103_2024-03-21_21-27-27/checkpoint_000000)\n"
     ]
    },
    {
     "name": "stderr",
     "output_type": "stream",
     "text": [
      "\u001b[36m(pid=3527897)\u001b[0m 2024-03-21 21:33:58.545030: E tensorflow/compiler/xla/stream_executor/cuda/cuda_dnn.cc:9342] Unable to register cuDNN factory: Attempting to register factory for plugin cuDNN when one has already been registered\n",
      "\u001b[36m(pid=3527897)\u001b[0m 2024-03-21 21:33:58.545063: E tensorflow/compiler/xla/stream_executor/cuda/cuda_fft.cc:609] Unable to register cuFFT factory: Attempting to register factory for plugin cuFFT when one has already been registered\n",
      "\u001b[36m(pid=3527897)\u001b[0m 2024-03-21 21:33:58.545079: E tensorflow/compiler/xla/stream_executor/cuda/cuda_blas.cc:1518] Unable to register cuBLAS factory: Attempting to register factory for plugin cuBLAS when one has already been registered\n"
     ]
    },
    {
     "name": "stderr",
     "output_type": "stream",
     "text": [
      "\u001b[36m(TrainLightGCN pid=3527897)\u001b[0m /home/daviddavo/upm-tfm-notebooks/.direnv/python-3.9/lib/python3.9/site-packages/recommenders/models/deeprec/DataModel/ImplicitCF.py:73: FutureWarning: The frame.append method is deprecated and will be removed from pandas in a future version. Use pandas.concat instead.\n",
      "\u001b[36m(TrainLightGCN pid=3527897)\u001b[0m   df = train if test is None else train.append(test)\n"
     ]
    },
    {
     "name": "stdout",
     "output_type": "stream",
     "text": [
      "\u001b[36m(TrainLightGCN pid=3527897)\u001b[0m Already create adjacency matrix.\n",
      "\u001b[36m(TrainLightGCN pid=3527897)\u001b[0m Already normalize adjacency matrix.\n",
      "\u001b[36m(TrainLightGCN pid=3527897)\u001b[0m Using xavier initialization.\n"
     ]
    },
    {
     "name": "stderr",
     "output_type": "stream",
     "text": [
      "\u001b[36m(TrainLightGCN pid=3524634)\u001b[0m Checkpoint successfully created at: Checkpoint(filesystem=local, path=/home/daviddavo/ray_results/LightGCN_optim=map@10,dao=Decentraland,freq=W-THU,normalize=True,cutoff_date=2023-07-29T00:00:00,fold=9_2024-03-21T20:59:20.911809/TrainLightGCN_c2ca075e_80_batch_size=8,conv_layers=4,embedding_dim=308,fold=9,l2=0.0027,learning_rate=0.0007_2024-03-21_21-28-18/checkpoint_000000)\n"
     ]
    },
    {
     "name": "stderr",
     "output_type": "stream",
     "text": [
      "\u001b[36m(pid=3528192)\u001b[0m 2024-03-21 21:34:45.557225: E tensorflow/compiler/xla/stream_executor/cuda/cuda_dnn.cc:9342] Unable to register cuDNN factory: Attempting to register factory for plugin cuDNN when one has already been registered\n",
      "\u001b[36m(pid=3528192)\u001b[0m 2024-03-21 21:34:45.557258: E tensorflow/compiler/xla/stream_executor/cuda/cuda_fft.cc:609] Unable to register cuFFT factory: Attempting to register factory for plugin cuFFT when one has already been registered\n",
      "\u001b[36m(pid=3528192)\u001b[0m 2024-03-21 21:34:45.557274: E tensorflow/compiler/xla/stream_executor/cuda/cuda_blas.cc:1518] Unable to register cuBLAS factory: Attempting to register factory for plugin cuBLAS when one has already been registered\n"
     ]
    },
    {
     "name": "stderr",
     "output_type": "stream",
     "text": [
      "\u001b[36m(TrainLightGCN pid=3528192)\u001b[0m /home/daviddavo/upm-tfm-notebooks/.direnv/python-3.9/lib/python3.9/site-packages/recommenders/models/deeprec/DataModel/ImplicitCF.py:73: FutureWarning: The frame.append method is deprecated and will be removed from pandas in a future version. Use pandas.concat instead.\n",
      "\u001b[36m(TrainLightGCN pid=3528192)\u001b[0m   df = train if test is None else train.append(test)\n"
     ]
    },
    {
     "name": "stdout",
     "output_type": "stream",
     "text": [
      "\u001b[36m(TrainLightGCN pid=3528192)\u001b[0m Already create adjacency matrix.\n",
      "\u001b[36m(TrainLightGCN pid=3528192)\u001b[0m Already normalize adjacency matrix.\n",
      "\u001b[36m(TrainLightGCN pid=3528192)\u001b[0m Using xavier initialization.\n"
     ]
    },
    {
     "name": "stderr",
     "output_type": "stream",
     "text": [
      "\u001b[36m(TrainLightGCN pid=3525344)\u001b[0m Checkpoint successfully created at: Checkpoint(filesystem=local, path=/home/daviddavo/ray_results/LightGCN_optim=map@10,dao=Decentraland,freq=W-THU,normalize=True,cutoff_date=2023-07-29T00:00:00,fold=9_2024-03-21T20:59:20.911809/TrainLightGCN_a7cd6c73_83_batch_size=6,conv_layers=4,embedding_dim=12,fold=9,l2=0.0010,learning_rate=0.0918_2024-03-21_21-29-45/checkpoint_000000)\n"
     ]
    },
    {
     "name": "stderr",
     "output_type": "stream",
     "text": [
      "\u001b[36m(pid=3528445)\u001b[0m 2024-03-21 21:35:18.574106: E tensorflow/compiler/xla/stream_executor/cuda/cuda_dnn.cc:9342] Unable to register cuDNN factory: Attempting to register factory for plugin cuDNN when one has already been registered\n",
      "\u001b[36m(pid=3528445)\u001b[0m 2024-03-21 21:35:18.574137: E tensorflow/compiler/xla/stream_executor/cuda/cuda_fft.cc:609] Unable to register cuFFT factory: Attempting to register factory for plugin cuFFT when one has already been registered\n",
      "\u001b[36m(pid=3528445)\u001b[0m 2024-03-21 21:35:18.574151: E tensorflow/compiler/xla/stream_executor/cuda/cuda_blas.cc:1518] Unable to register cuBLAS factory: Attempting to register factory for plugin cuBLAS when one has already been registered\n"
     ]
    },
    {
     "name": "stderr",
     "output_type": "stream",
     "text": [
      "\u001b[36m(TrainLightGCN pid=3528445)\u001b[0m /home/daviddavo/upm-tfm-notebooks/.direnv/python-3.9/lib/python3.9/site-packages/recommenders/models/deeprec/DataModel/ImplicitCF.py:73: FutureWarning: The frame.append method is deprecated and will be removed from pandas in a future version. Use pandas.concat instead.\n",
      "\u001b[36m(TrainLightGCN pid=3528445)\u001b[0m   df = train if test is None else train.append(test)\n"
     ]
    },
    {
     "name": "stdout",
     "output_type": "stream",
     "text": [
      "\u001b[36m(TrainLightGCN pid=3528445)\u001b[0m Already create adjacency matrix.\n",
      "\u001b[36m(TrainLightGCN pid=3528445)\u001b[0m Already normalize adjacency matrix.\n",
      "\u001b[36m(TrainLightGCN pid=3528445)\u001b[0m Using xavier initialization.\n"
     ]
    },
    {
     "name": "stderr",
     "output_type": "stream",
     "text": [
      "\u001b[36m(TrainLightGCN pid=3524938)\u001b[0m Checkpoint successfully created at: Checkpoint(filesystem=local, path=/home/daviddavo/ray_results/LightGCN_optim=map@10,dao=Decentraland,freq=W-THU,normalize=True,cutoff_date=2023-07-29T00:00:00,fold=9_2024-03-21T20:59:20.911809/TrainLightGCN_77820785_81_batch_size=9,conv_layers=5,embedding_dim=430,fold=9,l2=0.0015,learning_rate=0.0019_2024-03-21_21-28-46/checkpoint_000000)\n",
      "\u001b[36m(pid=3528600)\u001b[0m 2024-03-21 21:35:26.024768: E tensorflow/compiler/xla/stream_executor/cuda/cuda_dnn.cc:9342] Unable to register cuDNN factory: Attempting to register factory for plugin cuDNN when one has already been registered\n",
      "\u001b[36m(pid=3528600)\u001b[0m 2024-03-21 21:35:26.024810: E tensorflow/compiler/xla/stream_executor/cuda/cuda_fft.cc:609] Unable to register cuFFT factory: Attempting to register factory for plugin cuFFT when one has already been registered\n",
      "\u001b[36m(pid=3528600)\u001b[0m 2024-03-21 21:35:26.024827: E tensorflow/compiler/xla/stream_executor/cuda/cuda_blas.cc:1518] Unable to register cuBLAS factory: Attempting to register factory for plugin cuBLAS when one has already been registered\n"
     ]
    },
    {
     "name": "stderr",
     "output_type": "stream",
     "text": [
      "\u001b[36m(TrainLightGCN pid=3525496)\u001b[0m Checkpoint successfully created at: Checkpoint(filesystem=local, path=/home/daviddavo/ray_results/LightGCN_optim=map@10,dao=Decentraland,freq=W-THU,normalize=True,cutoff_date=2023-07-29T00:00:00,fold=9_2024-03-21T20:59:20.911809/TrainLightGCN_71845f68_84_batch_size=6,conv_layers=4,embedding_dim=8,fold=9,l2=0.0004,learning_rate=0.1472_2024-03-21_21-30-09/checkpoint_000000)\n"
     ]
    },
    {
     "name": "stderr",
     "output_type": "stream",
     "text": [
      "\u001b[36m(TrainLightGCN pid=3528600)\u001b[0m /home/daviddavo/upm-tfm-notebooks/.direnv/python-3.9/lib/python3.9/site-packages/recommenders/models/deeprec/DataModel/ImplicitCF.py:73: FutureWarning: The frame.append method is deprecated and will be removed from pandas in a future version. Use pandas.concat instead.\n",
      "\u001b[36m(TrainLightGCN pid=3528600)\u001b[0m   df = train if test is None else train.append(test)\n"
     ]
    },
    {
     "name": "stdout",
     "output_type": "stream",
     "text": [
      "\u001b[36m(TrainLightGCN pid=3528600)\u001b[0m Already create adjacency matrix.\n",
      "\u001b[36m(TrainLightGCN pid=3528600)\u001b[0m Already normalize adjacency matrix.\n",
      "\u001b[36m(TrainLightGCN pid=3528600)\u001b[0m Using xavier initialization.\n"
     ]
    },
    {
     "name": "stderr",
     "output_type": "stream",
     "text": [
      "\u001b[36m(pid=3528776)\u001b[0m 2024-03-21 21:35:33.667485: E tensorflow/compiler/xla/stream_executor/cuda/cuda_dnn.cc:9342] Unable to register cuDNN factory: Attempting to register factory for plugin cuDNN when one has already been registered\n",
      "\u001b[36m(pid=3528776)\u001b[0m 2024-03-21 21:35:33.667522: E tensorflow/compiler/xla/stream_executor/cuda/cuda_fft.cc:609] Unable to register cuFFT factory: Attempting to register factory for plugin cuFFT when one has already been registered\n",
      "\u001b[36m(pid=3528776)\u001b[0m 2024-03-21 21:35:33.667538: E tensorflow/compiler/xla/stream_executor/cuda/cuda_blas.cc:1518] Unable to register cuBLAS factory: Attempting to register factory for plugin cuBLAS when one has already been registered\n"
     ]
    },
    {
     "name": "stderr",
     "output_type": "stream",
     "text": [
      "\u001b[36m(TrainLightGCN pid=3528776)\u001b[0m /home/daviddavo/upm-tfm-notebooks/.direnv/python-3.9/lib/python3.9/site-packages/recommenders/models/deeprec/DataModel/ImplicitCF.py:73: FutureWarning: The frame.append method is deprecated and will be removed from pandas in a future version. Use pandas.concat instead.\n",
      "\u001b[36m(TrainLightGCN pid=3528776)\u001b[0m   df = train if test is None else train.append(test)\n"
     ]
    },
    {
     "name": "stdout",
     "output_type": "stream",
     "text": [
      "\u001b[36m(TrainLightGCN pid=3528776)\u001b[0m Already create adjacency matrix.\n",
      "\u001b[36m(TrainLightGCN pid=3528776)\u001b[0m Already normalize adjacency matrix.\n",
      "\u001b[36m(TrainLightGCN pid=3528776)\u001b[0m Using xavier initialization.\n"
     ]
    },
    {
     "name": "stderr",
     "output_type": "stream",
     "text": [
      "\u001b[36m(TrainLightGCN pid=3525830)\u001b[0m Checkpoint successfully created at: Checkpoint(filesystem=local, path=/home/daviddavo/ray_results/LightGCN_optim=map@10,dao=Decentraland,freq=W-THU,normalize=True,cutoff_date=2023-07-29T00:00:00,fold=9_2024-03-21T20:59:20.911809/TrainLightGCN_149ffbfa_85_batch_size=6,conv_layers=3,embedding_dim=82,fold=9,l2=0.0001,learning_rate=0.0202_2024-03-21_21-30-16/checkpoint_000000)\n"
     ]
    },
    {
     "name": "stderr",
     "output_type": "stream",
     "text": [
      "\u001b[36m(pid=3529215)\u001b[0m 2024-03-21 21:36:59.626148: E tensorflow/compiler/xla/stream_executor/cuda/cuda_dnn.cc:9342] Unable to register cuDNN factory: Attempting to register factory for plugin cuDNN when one has already been registered\n",
      "\u001b[36m(pid=3529215)\u001b[0m 2024-03-21 21:36:59.626183: E tensorflow/compiler/xla/stream_executor/cuda/cuda_fft.cc:609] Unable to register cuFFT factory: Attempting to register factory for plugin cuFFT when one has already been registered\n",
      "\u001b[36m(pid=3529215)\u001b[0m 2024-03-21 21:36:59.626198: E tensorflow/compiler/xla/stream_executor/cuda/cuda_blas.cc:1518] Unable to register cuBLAS factory: Attempting to register factory for plugin cuBLAS when one has already been registered\n"
     ]
    },
    {
     "name": "stderr",
     "output_type": "stream",
     "text": [
      "\u001b[36m(TrainLightGCN pid=3529215)\u001b[0m /home/daviddavo/upm-tfm-notebooks/.direnv/python-3.9/lib/python3.9/site-packages/recommenders/models/deeprec/DataModel/ImplicitCF.py:73: FutureWarning: The frame.append method is deprecated and will be removed from pandas in a future version. Use pandas.concat instead.\n",
      "\u001b[36m(TrainLightGCN pid=3529215)\u001b[0m   df = train if test is None else train.append(test)\n"
     ]
    },
    {
     "name": "stdout",
     "output_type": "stream",
     "text": [
      "\u001b[36m(TrainLightGCN pid=3529215)\u001b[0m Already create adjacency matrix.\n",
      "\u001b[36m(TrainLightGCN pid=3529215)\u001b[0m Already normalize adjacency matrix.\n",
      "\u001b[36m(TrainLightGCN pid=3529215)\u001b[0m Using xavier initialization.\n"
     ]
    },
    {
     "name": "stderr",
     "output_type": "stream",
     "text": [
      "\u001b[36m(TrainLightGCN pid=3526181)\u001b[0m Checkpoint successfully created at: Checkpoint(filesystem=local, path=/home/daviddavo/ray_results/LightGCN_optim=map@10,dao=Decentraland,freq=W-THU,normalize=True,cutoff_date=2023-07-29T00:00:00,fold=9_2024-03-21T20:59:20.911809/TrainLightGCN_343349ef_87_batch_size=6,conv_layers=4,embedding_dim=199,fold=9,l2=0.0006,learning_rate=0.0501_2024-03-21_21-31-16/checkpoint_000000)\n"
     ]
    },
    {
     "name": "stderr",
     "output_type": "stream",
     "text": [
      "\u001b[36m(TrainLightGCN pid=3526336)\u001b[0m Checkpoint successfully created at: Checkpoint(filesystem=local, path=/home/daviddavo/ray_results/LightGCN_optim=map@10,dao=Decentraland,freq=W-THU,normalize=True,cutoff_date=2023-07-29T00:00:00,fold=9_2024-03-21T20:59:20.911809/TrainLightGCN_0d4ef2b4_88_batch_size=6,conv_layers=4,embedding_dim=258,fold=9,l2=0.0001,learning_rate=0.8807_2024-03-21_21-31-23/checkpoint_000000)\n"
     ]
    },
    {
     "name": "stderr",
     "output_type": "stream",
     "text": [
      "\u001b[36m(TrainLightGCN pid=3526543)\u001b[0m Checkpoint successfully created at: Checkpoint(filesystem=local, path=/home/daviddavo/ray_results/LightGCN_optim=map@10,dao=Decentraland,freq=W-THU,normalize=True,cutoff_date=2023-07-29T00:00:00,fold=9_2024-03-21T20:59:20.911809/TrainLightGCN_429f4a09_89_batch_size=6,conv_layers=3,embedding_dim=64,fold=9,l2=0.0003,learning_rate=0.0074_2024-03-21_21-31-30/checkpoint_000000)\n"
     ]
    },
    {
     "name": "stderr",
     "output_type": "stream",
     "text": [
      "\u001b[36m(TrainLightGCN pid=3526698)\u001b[0m Checkpoint successfully created at: Checkpoint(filesystem=local, path=/home/daviddavo/ray_results/LightGCN_optim=map@10,dao=Decentraland,freq=W-THU,normalize=True,cutoff_date=2023-07-29T00:00:00,fold=9_2024-03-21T20:59:20.911809/TrainLightGCN_1087479b_90_batch_size=6,conv_layers=4,embedding_dim=34,fold=9,l2=0.0001,learning_rate=0.0040_2024-03-21_21-31-40/checkpoint_000000)\n"
     ]
    },
    {
     "name": "stderr",
     "output_type": "stream",
     "text": [
      "\u001b[36m(TrainLightGCN pid=3527417)\u001b[0m Checkpoint successfully created at: Checkpoint(filesystem=local, path=/home/daviddavo/ray_results/LightGCN_optim=map@10,dao=Decentraland,freq=W-THU,normalize=True,cutoff_date=2023-07-29T00:00:00,fold=9_2024-03-21T20:59:20.911809/TrainLightGCN_e61e6a21_93_batch_size=9,conv_layers=5,embedding_dim=569,fold=9,l2=0.0030,learning_rate=0.0004_2024-03-21_21-33-07/checkpoint_000000)\n"
     ]
    },
    {
     "name": "stderr",
     "output_type": "stream",
     "text": [
      "\u001b[36m(TrainLightGCN pid=3527587)\u001b[0m Checkpoint successfully created at: Checkpoint(filesystem=local, path=/home/daviddavo/ray_results/LightGCN_optim=map@10,dao=Decentraland,freq=W-THU,normalize=True,cutoff_date=2023-07-29T00:00:00,fold=9_2024-03-21T20:59:20.911809/TrainLightGCN_9ee0a2f6_94_batch_size=9,conv_layers=5,embedding_dim=321,fold=9,l2=0.0016,learning_rate=0.0002_2024-03-21_21-33-14/checkpoint_000000)\n"
     ]
    },
    {
     "name": "stderr",
     "output_type": "stream",
     "text": [
      "\u001b[36m(TrainLightGCN pid=3527262)\u001b[0m Checkpoint successfully created at: Checkpoint(filesystem=local, path=/home/daviddavo/ray_results/LightGCN_optim=map@10,dao=Decentraland,freq=W-THU,normalize=True,cutoff_date=2023-07-29T00:00:00,fold=9_2024-03-21T20:59:20.911809/TrainLightGCN_259c47e7_92_batch_size=7,conv_layers=3,embedding_dim=24,fold=9,l2=0.0000,learning_rate=0.0032_2024-03-21_21-32-06/checkpoint_000000)\n"
     ]
    },
    {
     "name": "stderr",
     "output_type": "stream",
     "text": [
      "\u001b[36m(TrainLightGCN pid=3525985)\u001b[0m Checkpoint successfully created at: Checkpoint(filesystem=local, path=/home/daviddavo/ray_results/LightGCN_optim=map@10,dao=Decentraland,freq=W-THU,normalize=True,cutoff_date=2023-07-29T00:00:00,fold=9_2024-03-21T20:59:20.911809/TrainLightGCN_78c23fd2_86_batch_size=6,conv_layers=3,embedding_dim=644,fold=9,l2=0.0073,learning_rate=0.3812_2024-03-21_21-31-09/checkpoint_000000)\n"
     ]
    },
    {
     "name": "stderr",
     "output_type": "stream",
     "text": [
      "\u001b[36m(TrainLightGCN pid=3528192)\u001b[0m Checkpoint successfully created at: Checkpoint(filesystem=local, path=/home/daviddavo/ray_results/LightGCN_optim=map@10,dao=Decentraland,freq=W-THU,normalize=True,cutoff_date=2023-07-29T00:00:00,fold=9_2024-03-21T20:59:20.911809/TrainLightGCN_08540956_96_batch_size=9,conv_layers=5,embedding_dim=380,fold=9,l2=0.0002,learning_rate=0.0001_2024-03-21_21-34-05/checkpoint_000000)\n"
     ]
    },
    {
     "name": "stderr",
     "output_type": "stream",
     "text": [
      "\u001b[36m(TrainLightGCN pid=3525090)\u001b[0m Checkpoint successfully created at: Checkpoint(filesystem=local, path=/home/daviddavo/ray_results/LightGCN_optim=map@10,dao=Decentraland,freq=W-THU,normalize=True,cutoff_date=2023-07-29T00:00:00,fold=9_2024-03-21T20:59:20.911809/TrainLightGCN_2c7772f1_82_batch_size=6,conv_layers=4,embedding_dim=116,fold=9,l2=0.0013,learning_rate=0.0265_2024-03-21_21-29-38/checkpoint_000000)\n"
     ]
    },
    {
     "name": "stderr",
     "output_type": "stream",
     "text": [
      "\u001b[36m(TrainLightGCN pid=3528445)\u001b[0m Checkpoint successfully created at: Checkpoint(filesystem=local, path=/home/daviddavo/ray_results/LightGCN_optim=map@10,dao=Decentraland,freq=W-THU,normalize=True,cutoff_date=2023-07-29T00:00:00,fold=9_2024-03-21T20:59:20.911809/TrainLightGCN_2b3ae0d5_97_batch_size=7,conv_layers=5,embedding_dim=731,fold=9,l2=0.0003,learning_rate=0.0054_2024-03-21_21-34-52/checkpoint_000000)\n"
     ]
    },
    {
     "name": "stderr",
     "output_type": "stream",
     "text": [
      "\u001b[36m(TrainLightGCN pid=3528776)\u001b[0m Checkpoint successfully created at: Checkpoint(filesystem=local, path=/home/daviddavo/ray_results/LightGCN_optim=map@10,dao=Decentraland,freq=W-THU,normalize=True,cutoff_date=2023-07-29T00:00:00,fold=9_2024-03-21T20:59:20.911809/TrainLightGCN_39126830_99_batch_size=7,conv_layers=2,embedding_dim=480,fold=9,l2=0.0000,learning_rate=0.0002_2024-03-21_21-35-32/checkpoint_000000)\n"
     ]
    },
    {
     "name": "stderr",
     "output_type": "stream",
     "text": [
      "\u001b[36m(TrainLightGCN pid=3528600)\u001b[0m Checkpoint successfully created at: Checkpoint(filesystem=local, path=/home/daviddavo/ray_results/LightGCN_optim=map@10,dao=Decentraland,freq=W-THU,normalize=True,cutoff_date=2023-07-29T00:00:00,fold=9_2024-03-21T20:59:20.911809/TrainLightGCN_3852f46f_98_batch_size=7,conv_layers=5,embedding_dim=950,fold=9,l2=0.0024,learning_rate=0.0004_2024-03-21_21-35-24/checkpoint_000000)\n"
     ]
    },
    {
     "name": "stderr",
     "output_type": "stream",
     "text": [
      "\u001b[36m(TrainLightGCN pid=3527897)\u001b[0m Checkpoint successfully created at: Checkpoint(filesystem=local, path=/home/daviddavo/ray_results/LightGCN_optim=map@10,dao=Decentraland,freq=W-THU,normalize=True,cutoff_date=2023-07-29T00:00:00,fold=9_2024-03-21T20:59:20.911809/TrainLightGCN_df63bfd6_95_batch_size=7,conv_layers=5,embedding_dim=505,fold=9,l2=0.0007,learning_rate=0.0127_2024-03-21_21-33-21/checkpoint_000000)\n"
     ]
    },
    {
     "name": "stderr",
     "output_type": "stream",
     "text": [
      "\u001b[36m(TrainLightGCN pid=3529215)\u001b[0m Checkpoint successfully created at: Checkpoint(filesystem=local, path=/home/daviddavo/ray_results/LightGCN_optim=map@10,dao=Decentraland,freq=W-THU,normalize=True,cutoff_date=2023-07-29T00:00:00,fold=9_2024-03-21T20:59:20.911809/TrainLightGCN_f6e980e2_100_batch_size=7,conv_layers=3,embedding_dim=151,fold=9,l2=0.0005,learning_rate=0.0001_2024-03-21_21-35-40/checkpoint_000000)\u001b[32m [repeated 2x across cluster]\u001b[0m\n"
     ]
    },
    {
     "name": "stderr",
     "output_type": "stream",
     "text": [
      "2024-03-21 21:42:13,745\tINFO tune.py:1042 -- Total run time: 2572.83 seconds (2572.80 seconds for the tuning loop).\n"
     ]
    }
   ],
   "source": [
    "import logging\n",
    "\n",
    "def findConfig(rg):\n",
    "    for r in rg:\n",
    "        if r.config:\n",
    "            msk = [r.config[k] == v for k, v in last_best_result.config.items() if k != 'fold']\n",
    "            if all(msk):\n",
    "                return r\n",
    "            elif sum(msk) >= 3:\n",
    "                print(r.config, msk)\n",
    "\n",
    "    return None\n",
    "\n",
    "tuners = []\n",
    "results = []\n",
    "last_best_result = None\n",
    "for f in range(LAST_SPLITS):\n",
    "    best_prev_config = None\n",
    "    if last_best_result is not None:\n",
    "        best_prev_config = last_best_result.config.copy()\n",
    "        best_prev_config['fold'] += 1\n",
    "        best_prev_config = [best_prev_config]\n",
    "    \n",
    "    t = getTunerOnFold(f, best_prev_config)\n",
    "    tuners.append(t)\n",
    "\n",
    "    rg = t.fit()\n",
    "    assert rg.num_errors == 0, f\"There are {rg.num_errors} errors\"\n",
    "    assert rg.num_terminated == NUM_SAMPLES, f'Some samples are not terminated ({rg.num_terminated} != {NUM_SAMPLES})'\n",
    "    results.append(rg)\n",
    "\n",
    "    # Assert that the prev config has been tried\n",
    "    if last_best_result is not None:\n",
    "        # if not any( \n",
    "        #     all((r.config[k] == v for k, v in last_best_result.config.items() if k != 'fold'))\n",
    "        #     for r in rg if r.config\n",
    "        # ):\n",
    "        if not findConfig(rg):\n",
    "            print(\"Best config:\", last_best_result.config)\n",
    "            assert False, f\"The best config from previous fold has not been tested in fold {f}\"\n",
    "        else:\n",
    "            logging.info(f'Fold {f}. Best prev result was {last_best_result.path} and config has been found {findConfig(rg).path}')\n",
    "    \n",
    "    last_best_result = rg.get_best_result()"
   ]
  },
  {
   "cell_type": "code",
   "execution_count": 23,
   "id": "d5bc38c5-05b3-41d0-9eb6-98168aede6ba",
   "metadata": {
    "execution": {
     "iopub.execute_input": "2024-03-21T21:42:13.843755Z",
     "iopub.status.busy": "2024-03-21T21:42:13.843313Z",
     "iopub.status.idle": "2024-03-21T21:42:13.874050Z",
     "shell.execute_reply": "2024-03-21T21:42:13.873524Z"
    },
    "papermill": {
     "duration": 0.045624,
     "end_time": "2024-03-21T21:42:13.875027",
     "exception": false,
     "start_time": "2024-03-21T21:42:13.829403",
     "status": "completed"
    },
    "tags": []
   },
   "outputs": [
    {
     "name": "stdout",
     "output_type": "stream",
     "text": [
      "All finished!\n"
     ]
    }
   ],
   "source": [
    "# This is needed for papermill to run the whole notebook and not stop above\n",
    "# because ray tune catches the exception\n",
    "\n",
    "print(\"All finished!\")"
   ]
  }
 ],
 "metadata": {
  "kernelspec": {
   "display_name": "Python 3 (ipykernel)",
   "language": "python",
   "name": "python3"
  },
  "language_info": {
   "codemirror_mode": {
    "name": "ipython",
    "version": 3
   },
   "file_extension": ".py",
   "mimetype": "text/x-python",
   "name": "python",
   "nbconvert_exporter": "python",
   "pygments_lexer": "ipython3",
   "version": "3.9.18"
  },
  "papermill": {
   "default_parameters": {},
   "duration": 23904.703585,
   "end_time": "2024-03-21T21:42:19.128969",
   "environment_variables": {},
   "exception": null,
   "input_path": "07_microsoft_tuning.ipynb",
   "output_path": "nbout/Decentraland/07_microsoft_tuning.ipynb",
   "parameters": {
    "CUTOFF_DATE_STR": "2023-07-29",
    "EXECUTION_ID": "2024-03-21",
    "LAST_SPLITS": 10,
    "ORG_NAME": "Decentraland",
    "ORG_PLATFORM": "snapshot",
    "SPLITS_FREQ": "W-THU",
    "SPLITS_NORMALIZE": true,
    "USE_ORG_NAMES": true
   },
   "start_time": "2024-03-21T15:03:54.425384",
   "version": "2.5.0"
  },
  "widgets": {
   "application/vnd.jupyter.widget-state+json": {
    "state": {},
    "version_major": 2,
    "version_minor": 0
   }
  }
 },
 "nbformat": 4,
 "nbformat_minor": 5
}