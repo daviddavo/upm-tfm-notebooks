{
 "cells": [
  {
   "cell_type": "code",
   "execution_count": 1,
   "id": "dc7786d9-d6d8-4795-944d-bb0aec99e1a3",
   "metadata": {
    "editable": true,
    "execution": {
     "iopub.execute_input": "2024-03-11T17:25:06.509400Z",
     "iopub.status.busy": "2024-03-11T17:25:06.509029Z",
     "iopub.status.idle": "2024-03-11T17:25:06.838127Z",
     "shell.execute_reply": "2024-03-11T17:25:06.837765Z"
    },
    "papermill": {
     "duration": 0.339982,
     "end_time": "2024-03-11T17:25:06.839406",
     "exception": false,
     "start_time": "2024-03-11T17:25:06.499424",
     "status": "completed"
    },
    "slideshow": {
     "slide_type": ""
    },
    "tags": []
   },
   "outputs": [],
   "source": [
    "from pathlib import Path\n",
    "from IPython.display import Markdown\n",
    "import re\n",
    "\n",
    "import papermill as pm\n",
    "\n",
    "from src import paths\n",
    "\n",
    "import datetime as dt"
   ]
  },
  {
   "cell_type": "code",
   "execution_count": 2,
   "id": "4ad146e0-81ac-449b-98cf-5a73dc25b09a",
   "metadata": {
    "editable": true,
    "execution": {
     "iopub.execute_input": "2024-03-11T17:25:06.849859Z",
     "iopub.status.busy": "2024-03-11T17:25:06.849704Z",
     "iopub.status.idle": "2024-03-11T17:25:06.852068Z",
     "shell.execute_reply": "2024-03-11T17:25:06.851848Z"
    },
    "papermill": {
     "duration": 0.007681,
     "end_time": "2024-03-11T17:25:06.852776",
     "exception": false,
     "start_time": "2024-03-11T17:25:06.845095",
     "status": "completed"
    },
    "slideshow": {
     "slide_type": ""
    },
    "tags": [
     "parameters"
    ]
   },
   "outputs": [],
   "source": [
    "# Parameters that will be passed to the other notebooks\n",
    "\n",
    "ORG_NAME = 'Decentraland'\n",
    "ORG_PLATFORM = 'snapshot'\n",
    "SPLITS_FREQ: str = 'W-THU' # split weekly\n",
    "SPLITS_NORMALIZE = True # Wether or not to move everything to 00:00\n",
    "LAST_SPLITS = 10 # Use just last 10 splits\n",
    "USE_ORG_NAMES = False # See load_pandas_df\n",
    "\n",
    "# Parameters of this notebook\n",
    "DO_TRAIN = True\n",
    "EXECUTION_ID: bool = dt.datetime.utcnow().isoformat() # Used to see wether to skip completed notebooks\n",
    "CUTOFF_DATE_STR: str = None # Cutoff date for the dataset"
   ]
  },
  {
   "cell_type": "code",
   "execution_count": 3,
   "id": "d1585eba",
   "metadata": {
    "execution": {
     "iopub.execute_input": "2024-03-11T17:25:06.857182Z",
     "iopub.status.busy": "2024-03-11T17:25:06.857052Z",
     "iopub.status.idle": "2024-03-11T17:25:06.858883Z",
     "shell.execute_reply": "2024-03-11T17:25:06.858680Z"
    },
    "papermill": {
     "duration": 0.0046,
     "end_time": "2024-03-11T17:25:06.859498",
     "exception": false,
     "start_time": "2024-03-11T17:25:06.854898",
     "status": "completed"
    },
    "tags": [
     "injected-parameters"
    ]
   },
   "outputs": [],
   "source": [
    "# Parameters\n",
    "ORG_NAME = \"Decentraland\"\n",
    "ORG_PLATFORM = \"snapshot\"\n",
    "SPLITS_FREQ = \"W-THU\"\n",
    "SPLITS_NORMALIZE = True\n",
    "LAST_SPLITS = 10\n",
    "USE_ORG_NAMES = True\n",
    "EXECUTION_ID = \"2024-03-08 10:00\"\n",
    "DO_TRAIN = True\n",
    "CUTOFF_DATE_STR = \"2023-07-29\"\n"
   ]
  },
  {
   "cell_type": "code",
   "execution_count": 4,
   "id": "cfac4b5c-ec42-4f16-9ba7-318f6a3480cc",
   "metadata": {
    "editable": true,
    "execution": {
     "iopub.execute_input": "2024-03-11T17:25:06.864206Z",
     "iopub.status.busy": "2024-03-11T17:25:06.864034Z",
     "iopub.status.idle": "2024-03-11T17:25:06.868486Z",
     "shell.execute_reply": "2024-03-11T17:25:06.868269Z"
    },
    "papermill": {
     "duration": 0.007944,
     "end_time": "2024-03-11T17:25:06.869340",
     "exception": false,
     "start_time": "2024-03-11T17:25:06.861396",
     "status": "completed"
    },
    "slideshow": {
     "slide_type": ""
    },
    "tags": []
   },
   "outputs": [
    {
     "data": {
      "text/markdown": [
       "```mermaid\n",
       "graph LR\n",
       "10_baseline --> 20_results\n",
       "\n",
       "10_baseline --> 11_pln-tune -.-> 12_hybrid\n",
       "07_microsoft_tuning --> 09_analyze_results --> 12_hybrid\n",
       "12_hybrid --> 20_results\n",
       "10_baseline --> 09_analyze_results\n",
       "```"
      ],
      "text/plain": [
       "<IPython.core.display.Markdown object>"
      ]
     },
     "execution_count": 4,
     "metadata": {},
     "output_type": "execute_result"
    }
   ],
   "source": [
    "# Display the diagram from the README.md\n",
    "\n",
    "README = Path('./README.md')\n",
    "\n",
    "with open(README, 'r') as f:\n",
    "    diagrams = re.findall(r'```mermaid[\\s\\S]*```', f.read())\n",
    "\n",
    "Markdown(\"\\n\".join(diagrams))"
   ]
  },
  {
   "cell_type": "markdown",
   "id": "aa7c0382-7d7e-45bb-bb72-a6d0d52a6b54",
   "metadata": {
    "editable": true,
    "papermill": {
     "duration": 0.002962,
     "end_time": "2024-03-11T17:25:06.874678",
     "exception": false,
     "start_time": "2024-03-11T17:25:06.871716",
     "status": "completed"
    },
    "slideshow": {
     "slide_type": ""
    },
    "tags": []
   },
   "source": [
    "## Define some common things"
   ]
  },
  {
   "cell_type": "code",
   "execution_count": 5,
   "id": "f30ef62e-ce8c-4caf-9e1e-ac40c2383068",
   "metadata": {
    "editable": true,
    "execution": {
     "iopub.execute_input": "2024-03-11T17:25:06.880101Z",
     "iopub.status.busy": "2024-03-11T17:25:06.879977Z",
     "iopub.status.idle": "2024-03-11T17:25:06.882614Z",
     "shell.execute_reply": "2024-03-11T17:25:06.882360Z"
    },
    "papermill": {
     "duration": 0.006222,
     "end_time": "2024-03-11T17:25:06.883572",
     "exception": false,
     "start_time": "2024-03-11T17:25:06.877350",
     "status": "completed"
    },
    "slideshow": {
     "slide_type": ""
    },
    "tags": []
   },
   "outputs": [],
   "source": [
    "import nbformat\n",
    "\n",
    "def is_increasing(l):\n",
    "    return (not l) or all(x<y for x,y in zip(l, l[1:]))\n",
    "\n",
    "def isCompleted(fname):\n",
    "    nb = nbformat.read(fname, as_version=4)\n",
    "    execution_counts = [c['execution_count'] for c in nb['cells'] if c['cell_type'] == 'code' and c['source'].strip()]\n",
    "    \n",
    "    return all((x is not None for x in execution_counts)) and is_increasing(execution_counts)\n",
    "\n",
    "# print(isCompleted('nbout/Decentraland/04c_dao-census-onedao.ipynb'))\n",
    "# print(isCompleted('nbout/Balancer/10_baseline_mp.ipynb'))"
   ]
  },
  {
   "cell_type": "code",
   "execution_count": 6,
   "id": "2060e67c-c685-4c3c-82f9-e348bb89fcda",
   "metadata": {
    "editable": true,
    "execution": {
     "iopub.execute_input": "2024-03-11T17:25:06.889709Z",
     "iopub.status.busy": "2024-03-11T17:25:06.889407Z",
     "iopub.status.idle": "2024-03-11T17:25:06.891730Z",
     "shell.execute_reply": "2024-03-11T17:25:06.891440Z"
    },
    "papermill": {
     "duration": 0.006683,
     "end_time": "2024-03-11T17:25:06.892772",
     "exception": false,
     "start_time": "2024-03-11T17:25:06.886089",
     "status": "completed"
    },
    "slideshow": {
     "slide_type": ""
    },
    "tags": []
   },
   "outputs": [],
   "source": [
    "def getOldExec(fname):\n",
    "    nb = nbformat.read(fname, as_version=4)\n",
    "    return nb.metadata['papermill']['parameters'].get('EXECUTION_ID')\n",
    "\n",
    "# isSameExec(fname = 'nbout/Decentraland/04c_dao-census-onedao.ipynb')"
   ]
  },
  {
   "cell_type": "code",
   "execution_count": 7,
   "id": "bea30b95-7f15-49c6-a0e4-951b2b60e26e",
   "metadata": {
    "editable": true,
    "execution": {
     "iopub.execute_input": "2024-03-11T17:25:06.898184Z",
     "iopub.status.busy": "2024-03-11T17:25:06.898004Z",
     "iopub.status.idle": "2024-03-11T17:25:06.901144Z",
     "shell.execute_reply": "2024-03-11T17:25:06.900937Z"
    },
    "papermill": {
     "duration": 0.006453,
     "end_time": "2024-03-11T17:25:06.901904",
     "exception": false,
     "start_time": "2024-03-11T17:25:06.895451",
     "status": "completed"
    },
    "slideshow": {
     "slide_type": ""
    },
    "tags": []
   },
   "outputs": [],
   "source": [
    "def run_notebook(name):\n",
    "    assert Path(name).exists(), f\"No existe el fichero {name}\"\n",
    "    \n",
    "    outpath = Path(f'./nbout/{ORG_NAME.replace(\" / \", \"_\")}')\n",
    "    outpath.mkdir(parents=True, exist_ok=True)\n",
    "    outfile = outpath/name\n",
    "\n",
    "    params = pm.inspect_notebook(name)\n",
    "    for p in ['ORG_NAME', 'ORG_PLATFORM', 'SPLITS_FREQ', 'SPLITS_NORMALIZE', 'LAST_SPLITS', 'USE_ORG_NAMES', 'CUTOFF_DATE_STR']:\n",
    "        assert p in params, f'{p} is not in notebook params'\n",
    "\n",
    "    if outfile.exists() and EXECUTION_ID:\n",
    "        oldExec = getOldExec(outfile)\n",
    "        \n",
    "        if oldExec == EXECUTION_ID and isCompleted(outfile):\n",
    "            print(f\"Skipping {outfile} with EXECUTION_ID {EXECUTION_ID}\")\n",
    "            return\n",
    "        elif oldExec != EXECUTION_ID:\n",
    "            print(f\"Different exec, re-running ({oldExec} != {EXECUTION_ID})\")\n",
    "        else:\n",
    "            print(f\"Was not complete, re-running\")\n",
    "    \n",
    "    pm.execute_notebook(\n",
    "        name, \n",
    "        outfile,\n",
    "        autosave_cell_every=30,\n",
    "        parameters=dict(\n",
    "            ORG_NAME = ORG_NAME,\n",
    "            ORG_PLATFORM = ORG_PLATFORM,\n",
    "            SPLITS_FREQ = SPLITS_FREQ,\n",
    "            SPLITS_NORMALIZE = SPLITS_NORMALIZE,\n",
    "            LAST_SPLITS = LAST_SPLITS,\n",
    "            USE_ORG_NAMES = USE_ORG_NAMES,\n",
    "            EXECUTION_ID = EXECUTION_ID,\n",
    "            CUTOFF_DATE_STR = CUTOFF_DATE_STR,\n",
    "        ),\n",
    "    )\n",
    "# run_notebook('11_pln-tune.ipynb', 'snapshot', 'Decentraland')"
   ]
  },
  {
   "cell_type": "markdown",
   "id": "e626cf81-65e9-4f6e-8271-574428439839",
   "metadata": {
    "editable": true,
    "papermill": {
     "duration": 0.001969,
     "end_time": "2024-03-11T17:25:06.905759",
     "exception": false,
     "start_time": "2024-03-11T17:25:06.903790",
     "status": "completed"
    },
    "slideshow": {
     "slide_type": ""
    },
    "tags": []
   },
   "source": [
    "## Run data from dao"
   ]
  },
  {
   "cell_type": "code",
   "execution_count": 8,
   "id": "74e51fce-f006-4861-be7b-5cd7124bb3d7",
   "metadata": {
    "editable": true,
    "execution": {
     "iopub.execute_input": "2024-03-11T17:25:06.910605Z",
     "iopub.status.busy": "2024-03-11T17:25:06.910469Z",
     "iopub.status.idle": "2024-03-11T17:25:06.976487Z",
     "shell.execute_reply": "2024-03-11T17:25:06.976139Z"
    },
    "papermill": {
     "duration": 0.07015,
     "end_time": "2024-03-11T17:25:06.977758",
     "exception": false,
     "start_time": "2024-03-11T17:25:06.907608",
     "status": "completed"
    },
    "slideshow": {
     "slide_type": ""
    },
    "tags": []
   },
   "outputs": [
    {
     "name": "stdout",
     "output_type": "stream",
     "text": [
      "Skipping nbout/Decentraland/04c_dao-census-onedao.ipynb with EXECUTION_ID 2024-03-08 10:00\n"
     ]
    }
   ],
   "source": [
    "#papermill_description=dao-census\n",
    "run_notebook('04c_dao-census-onedao.ipynb')"
   ]
  },
  {
   "cell_type": "markdown",
   "id": "8aef0f68-2a8c-4896-ba90-728060074715",
   "metadata": {
    "editable": true,
    "papermill": {
     "duration": 0.002322,
     "end_time": "2024-03-11T17:25:06.982540",
     "exception": false,
     "start_time": "2024-03-11T17:25:06.980218",
     "status": "completed"
    },
    "slideshow": {
     "slide_type": ""
    },
    "tags": []
   },
   "source": [
    "## Run baseline"
   ]
  },
  {
   "cell_type": "code",
   "execution_count": 9,
   "id": "abc14ace-3f95-4392-b6c2-9d0f125974de",
   "metadata": {
    "editable": true,
    "execution": {
     "iopub.execute_input": "2024-03-11T17:25:06.987449Z",
     "iopub.status.busy": "2024-03-11T17:25:06.987319Z",
     "iopub.status.idle": "2024-03-11T17:25:07.006066Z",
     "shell.execute_reply": "2024-03-11T17:25:07.005806Z"
    },
    "papermill": {
     "duration": 0.022266,
     "end_time": "2024-03-11T17:25:07.006847",
     "exception": false,
     "start_time": "2024-03-11T17:25:06.984581",
     "status": "completed"
    },
    "slideshow": {
     "slide_type": ""
    },
    "tags": []
   },
   "outputs": [
    {
     "name": "stdout",
     "output_type": "stream",
     "text": [
      "Skipping nbout/Decentraland/10_baseline_mp.ipynb with EXECUTION_ID 2024-03-08 10:00\n"
     ]
    }
   ],
   "source": [
    "#papermill_description=baseline\n",
    "run_notebook('10_baseline_mp.ipynb')"
   ]
  },
  {
   "cell_type": "code",
   "execution_count": 10,
   "id": "537f43d0-fc8c-4dc5-b106-f7e936b90e2c",
   "metadata": {
    "editable": true,
    "execution": {
     "iopub.execute_input": "2024-03-11T17:25:07.012121Z",
     "iopub.status.busy": "2024-03-11T17:25:07.011971Z",
     "iopub.status.idle": "2024-03-11T17:25:07.013733Z",
     "shell.execute_reply": "2024-03-11T17:25:07.013509Z"
    },
    "papermill": {
     "duration": 0.005512,
     "end_time": "2024-03-11T17:25:07.014457",
     "exception": false,
     "start_time": "2024-03-11T17:25:07.008945",
     "status": "completed"
    },
    "slideshow": {
     "slide_type": ""
    },
    "tags": []
   },
   "outputs": [],
   "source": [
    "#papermill_description=check_train\n",
    "import sys\n",
    "if not DO_TRAIN: \n",
    "    sys.exit(0)"
   ]
  },
  {
   "cell_type": "markdown",
   "id": "78d51e15-69d2-41f8-bb9c-0cd18a288b3a",
   "metadata": {
    "editable": true,
    "papermill": {
     "duration": 0.002761,
     "end_time": "2024-03-11T17:25:07.019561",
     "exception": false,
     "start_time": "2024-03-11T17:25:07.016800",
     "status": "completed"
    },
    "slideshow": {
     "slide_type": ""
    },
    "tags": []
   },
   "source": [
    "## Run pln_tune"
   ]
  },
  {
   "cell_type": "code",
   "execution_count": 11,
   "id": "7372d911-aec8-41ae-bd91-8ede877c9a37",
   "metadata": {
    "editable": true,
    "execution": {
     "iopub.execute_input": "2024-03-11T17:25:07.024761Z",
     "iopub.status.busy": "2024-03-11T17:25:07.024629Z",
     "iopub.status.idle": "2024-03-11T17:25:07.077929Z",
     "shell.execute_reply": "2024-03-11T17:25:07.077652Z"
    },
    "papermill": {
     "duration": 0.056865,
     "end_time": "2024-03-11T17:25:07.078720",
     "exception": false,
     "start_time": "2024-03-11T17:25:07.021855",
     "status": "completed"
    },
    "slideshow": {
     "slide_type": ""
    },
    "tags": []
   },
   "outputs": [
    {
     "name": "stdout",
     "output_type": "stream",
     "text": [
      "Skipping nbout/Decentraland/11_pln-tune.ipynb with EXECUTION_ID 2024-03-08 10:00\n"
     ]
    }
   ],
   "source": [
    "#papermill_description=pln_tune\n",
    "# if paths.pln_mdf(ORG_NAME, SPLITS_FREQ, SPLITS_NORMALIZE).exists():\n",
    "#     print(f\"Skipping {ORG_NAME} because it has been done\")    \n",
    "run_notebook('11_pln-tune.ipynb')"
   ]
  },
  {
   "cell_type": "markdown",
   "id": "3c84bcf4-17c0-4282-8bd0-28aa9e997bbd",
   "metadata": {
    "editable": true,
    "papermill": {
     "duration": 0.002458,
     "end_time": "2024-03-11T17:25:07.083704",
     "exception": false,
     "start_time": "2024-03-11T17:25:07.081246",
     "status": "completed"
    },
    "slideshow": {
     "slide_type": ""
    },
    "tags": []
   },
   "source": [
    "## Run microsoft_tuning"
   ]
  },
  {
   "cell_type": "code",
   "execution_count": 12,
   "id": "ca56c9f7-d77d-4741-8064-13efe089b0de",
   "metadata": {
    "editable": true,
    "execution": {
     "iopub.execute_input": "2024-03-11T17:25:07.089288Z",
     "iopub.status.busy": "2024-03-11T17:25:07.088956Z",
     "iopub.status.idle": "2024-03-11T17:25:07.095655Z",
     "shell.execute_reply": "2024-03-11T17:25:07.095420Z"
    },
    "papermill": {
     "duration": 0.010492,
     "end_time": "2024-03-11T17:25:07.096263",
     "exception": false,
     "start_time": "2024-03-11T17:25:07.085771",
     "status": "completed"
    },
    "slideshow": {
     "slide_type": ""
    },
    "tags": []
   },
   "outputs": [
    {
     "name": "stdout",
     "output_type": "stream",
     "text": [
      "Skipping nbout/Decentraland/07_microsoft_tuning.ipynb with EXECUTION_ID 2024-03-08 10:00\n"
     ]
    }
   ],
   "source": [
    "#papermill_description=microsoft\n",
    "run_notebook('07_microsoft_tuning.ipynb')"
   ]
  },
  {
   "cell_type": "markdown",
   "id": "4f63d888-57d4-4a76-9565-bc382ea442e7",
   "metadata": {
    "editable": true,
    "papermill": {
     "duration": 0.002038,
     "end_time": "2024-03-11T17:25:07.100400",
     "exception": false,
     "start_time": "2024-03-11T17:25:07.098362",
     "status": "completed"
    },
    "slideshow": {
     "slide_type": ""
    },
    "tags": []
   },
   "source": [
    "## Run analyze_results"
   ]
  },
  {
   "cell_type": "code",
   "execution_count": 13,
   "id": "4d107b93-08e5-411a-8925-c6784c711709",
   "metadata": {
    "editable": true,
    "execution": {
     "iopub.execute_input": "2024-03-11T17:25:07.105769Z",
     "iopub.status.busy": "2024-03-11T17:25:07.105428Z",
     "iopub.status.idle": "2024-03-11T17:25:07.230880Z",
     "shell.execute_reply": "2024-03-11T17:25:07.230515Z"
    },
    "papermill": {
     "duration": 0.12937,
     "end_time": "2024-03-11T17:25:07.231854",
     "exception": false,
     "start_time": "2024-03-11T17:25:07.102484",
     "status": "completed"
    },
    "slideshow": {
     "slide_type": ""
    },
    "tags": []
   },
   "outputs": [
    {
     "name": "stdout",
     "output_type": "stream",
     "text": [
      "Skipping nbout/Decentraland/09_analyze_results.ipynb with EXECUTION_ID 2024-03-08 10:00\n"
     ]
    }
   ],
   "source": [
    "#papermill_description=analyze\n",
    "nb = run_notebook('09_analyze_results.ipynb')"
   ]
  },
  {
   "cell_type": "markdown",
   "id": "53ff9453-531a-40da-8e03-870c77e30504",
   "metadata": {
    "editable": true,
    "papermill": {
     "duration": 0.002127,
     "end_time": "2024-03-11T17:25:07.236248",
     "exception": false,
     "start_time": "2024-03-11T17:25:07.234121",
     "status": "completed"
    },
    "slideshow": {
     "slide_type": ""
    },
    "tags": []
   },
   "source": [
    "## Run hybrid"
   ]
  },
  {
   "cell_type": "code",
   "execution_count": 14,
   "id": "a7705d51-3dd1-41ed-92a9-995a8cd263e4",
   "metadata": {
    "editable": true,
    "execution": {
     "iopub.execute_input": "2024-03-11T17:25:07.241822Z",
     "iopub.status.busy": "2024-03-11T17:25:07.241563Z",
     "iopub.status.idle": "2024-03-11T17:25:07.291403Z",
     "shell.execute_reply": "2024-03-11T17:25:07.291069Z"
    },
    "papermill": {
     "duration": 0.05369,
     "end_time": "2024-03-11T17:25:07.292314",
     "exception": false,
     "start_time": "2024-03-11T17:25:07.238624",
     "status": "completed"
    },
    "slideshow": {
     "slide_type": ""
    },
    "tags": []
   },
   "outputs": [
    {
     "name": "stdout",
     "output_type": "stream",
     "text": [
      "Skipping nbout/Decentraland/12_hybrid.ipynb with EXECUTION_ID 2024-03-08 10:00\n"
     ]
    }
   ],
   "source": [
    "#papermill_description=hybrid\n",
    "run_notebook('12_hybrid.ipynb')"
   ]
  },
  {
   "cell_type": "markdown",
   "id": "da0e9e21-fb45-4ced-a82e-2b06529f082a",
   "metadata": {
    "papermill": {
     "duration": 0.002225,
     "end_time": "2024-03-11T17:25:07.296882",
     "exception": false,
     "start_time": "2024-03-11T17:25:07.294657",
     "status": "completed"
    },
    "tags": []
   },
   "source": [
    "## Run results"
   ]
  },
  {
   "cell_type": "code",
   "execution_count": 15,
   "id": "27450d01-bbd9-47d1-9827-dd415209bd74",
   "metadata": {
    "execution": {
     "iopub.execute_input": "2024-03-11T17:25:07.302361Z",
     "iopub.status.busy": "2024-03-11T17:25:07.302211Z",
     "iopub.status.idle": "2024-03-11T17:25:07.308295Z",
     "shell.execute_reply": "2024-03-11T17:25:07.308062Z"
    },
    "papermill": {
     "duration": 0.010021,
     "end_time": "2024-03-11T17:25:07.309001",
     "exception": false,
     "start_time": "2024-03-11T17:25:07.298980",
     "status": "completed"
    },
    "tags": []
   },
   "outputs": [
    {
     "name": "stdout",
     "output_type": "stream",
     "text": [
      "Skipping nbout/Decentraland/20_results.ipynb with EXECUTION_ID 2024-03-08 10:00\n"
     ]
    }
   ],
   "source": [
    "#papermill_description=results\n",
    "run_notebook('20_results.ipynb')"
   ]
  }
 ],
 "metadata": {
  "kernelspec": {
   "display_name": "Python 3 (ipykernel)",
   "language": "python",
   "name": "python3"
  },
  "language_info": {
   "codemirror_mode": {
    "name": "ipython",
    "version": 3
   },
   "file_extension": ".py",
   "mimetype": "text/x-python",
   "name": "python",
   "nbconvert_exporter": "python",
   "pygments_lexer": "ipython3",
   "version": "3.9.18"
  },
  "papermill": {
   "default_parameters": {},
   "duration": 1.56569,
   "end_time": "2024-03-11T17:25:07.531217",
   "environment_variables": {},
   "exception": null,
   "input_path": "30_run_one.ipynb",
   "output_path": "nbout/Decentraland/30_run_one.ipynb",
   "parameters": {
    "CUTOFF_DATE_STR": "2023-07-29",
    "DO_TRAIN": true,
    "EXECUTION_ID": "2024-03-08 10:00",
    "LAST_SPLITS": 10,
    "ORG_NAME": "Decentraland",
    "ORG_PLATFORM": "snapshot",
    "SPLITS_FREQ": "W-THU",
    "SPLITS_NORMALIZE": true,
    "USE_ORG_NAMES": true
   },
   "start_time": "2024-03-11T17:25:05.965527",
   "version": "2.5.0"
  },
  "widgets": {
   "application/vnd.jupyter.widget-state+json": {
    "state": {},
    "version_major": 2,
    "version_minor": 0
   }
  }
 },
 "nbformat": 4,
 "nbformat_minor": 5
}