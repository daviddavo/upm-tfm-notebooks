{
 "cells": [
  {
   "cell_type": "markdown",
   "id": "b79f1dcd-4e1c-4470-80dd-d5e0b200d60f",
   "metadata": {
    "editable": true,
    "papermill": {
     "duration": 0.010684,
     "end_time": "2024-03-01T13:17:57.690274",
     "exception": false,
     "start_time": "2024-03-01T13:17:57.679590",
     "status": "completed"
    },
    "slideshow": {
     "slide_type": ""
    },
    "tags": []
   },
   "source": [
    "El objetivo de este notebook es crear un recomendador muy sencillo, que sirva de línea base y con el que poder comparar"
   ]
  },
  {
   "cell_type": "code",
   "execution_count": 1,
   "id": "d9b3f843-7372-4267-8270-c05f3fb62417",
   "metadata": {
    "execution": {
     "iopub.execute_input": "2024-03-01T13:17:57.733761Z",
     "iopub.status.busy": "2024-03-01T13:17:57.733594Z",
     "iopub.status.idle": "2024-03-01T13:17:59.169639Z",
     "shell.execute_reply": "2024-03-01T13:17:59.169288Z"
    },
    "papermill": {
     "duration": 1.474722,
     "end_time": "2024-03-01T13:17:59.170773",
     "exception": false,
     "start_time": "2024-03-01T13:17:57.696051",
     "status": "completed"
    },
    "tags": []
   },
   "outputs": [
    {
     "name": "stdout",
     "output_type": "stream",
     "text": [
      "Python version 3.9.18 (main, Oct 24 2023, 09:18:18) \n",
      "[GCC 11.4.0]\n"
     ]
    },
    {
     "name": "stderr",
     "output_type": "stream",
     "text": [
      "/tmp/ipykernel_190731/804985562.py:14: TqdmExperimentalWarning: Using `tqdm.autonotebook.tqdm` in notebook mode. Use `tqdm.tqdm` instead to force console mode (e.g. in jupyter console)\n",
      "  from tqdm.autonotebook import tqdm\n"
     ]
    }
   ],
   "source": [
    "from typing import Dict, List, Tuple, Union, Any, Optional\n",
    "\n",
    "import os\n",
    "import sys\n",
    "print(\"Python version\", sys.version)\n",
    "\n",
    "import numpy as np\n",
    "import pandas as pd\n",
    "import itertools as it\n",
    "\n",
    "import matplotlib.pyplot as plt\n",
    "import seaborn as sns\n",
    "\n",
    "from tqdm.autonotebook import tqdm\n",
    "\n",
    "from src.datasets import daocensus_text, to_microsoft\n",
    "from src.model_selection import timeIntervalSplit, timeFreqSplitCurrent\n",
    "from src.utils import notebooks as nbutils\n",
    "\n",
    "sns.set_theme()"
   ]
  },
  {
   "cell_type": "code",
   "execution_count": 2,
   "id": "99ab97d6-90c6-4f4d-b3b5-1e26f7d90386",
   "metadata": {
    "editable": true,
    "execution": {
     "iopub.execute_input": "2024-03-01T13:17:59.182929Z",
     "iopub.status.busy": "2024-03-01T13:17:59.182732Z",
     "iopub.status.idle": "2024-03-01T13:17:59.185168Z",
     "shell.execute_reply": "2024-03-01T13:17:59.184946Z"
    },
    "papermill": {
     "duration": 0.009388,
     "end_time": "2024-03-01T13:17:59.185894",
     "exception": false,
     "start_time": "2024-03-01T13:17:59.176506",
     "status": "completed"
    },
    "slideshow": {
     "slide_type": ""
    },
    "tags": [
     "parameters"
    ]
   },
   "outputs": [],
   "source": [
    "# Dataset splits config\n",
    "N_SPLITS: int = 10\n",
    "\n",
    "# Always 0, just skip the first rows in the CSV to compare with others\n",
    "SKIP_SPLIT: int = 0\n",
    "\n",
    "# the second way of making splits\n",
    "SPLITS_FREQ: str = 'W-THU'\n",
    "SPLITS_NORMALIZE: bool = True\n",
    "LAST_SPLITS: int = 10 # Only used to generate baseline graph\n",
    "\n",
    "K_RECOMMENDATIONS: List[int] = [5, 10, 15]\n",
    "\n",
    "ORG_NAME: str = 'dxDAO - xDXdao'\n",
    "ORG_PLATFORM: str = None\n",
    "USE_ORG_NAMES: bool = True"
   ]
  },
  {
   "cell_type": "code",
   "execution_count": 3,
   "id": "d3efd8d1",
   "metadata": {
    "execution": {
     "iopub.execute_input": "2024-03-01T13:17:59.196330Z",
     "iopub.status.busy": "2024-03-01T13:17:59.196229Z",
     "iopub.status.idle": "2024-03-01T13:17:59.198063Z",
     "shell.execute_reply": "2024-03-01T13:17:59.197856Z"
    },
    "papermill": {
     "duration": 0.007757,
     "end_time": "2024-03-01T13:17:59.198657",
     "exception": false,
     "start_time": "2024-03-01T13:17:59.190900",
     "status": "completed"
    },
    "tags": [
     "injected-parameters"
    ]
   },
   "outputs": [],
   "source": [
    "# Parameters\n",
    "ORG_NAME = \"Decentraland\"\n",
    "ORG_PLATFORM = \"snapshot\"\n",
    "SPLITS_FREQ = \"W-THU\"\n",
    "SPLITS_NORMALIZE = True\n",
    "LAST_SPLITS = 10\n",
    "USE_ORG_NAMES = True\n",
    "EXECUTION_ID = \"2024-03-01 12s:00\"\n"
   ]
  },
  {
   "cell_type": "markdown",
   "id": "1f26b5d3-cc45-49db-ac1b-a86475e0ab99",
   "metadata": {
    "papermill": {
     "duration": 0.005077,
     "end_time": "2024-03-01T13:17:59.208731",
     "exception": false,
     "start_time": "2024-03-01T13:17:59.203654",
     "status": "completed"
    },
    "tags": []
   },
   "source": [
    "# Load data"
   ]
  },
  {
   "cell_type": "code",
   "execution_count": 4,
   "id": "2627c23b-d70a-4204-9c51-581bad72f511",
   "metadata": {
    "editable": true,
    "execution": {
     "iopub.execute_input": "2024-03-01T13:17:59.219346Z",
     "iopub.status.busy": "2024-03-01T13:17:59.219209Z",
     "iopub.status.idle": "2024-03-01T13:18:05.544460Z",
     "shell.execute_reply": "2024-03-01T13:18:05.544090Z"
    },
    "papermill": {
     "duration": 6.331712,
     "end_time": "2024-03-01T13:18:05.545442",
     "exception": false,
     "start_time": "2024-03-01T13:17:59.213730",
     "status": "completed"
    },
    "slideshow": {
     "slide_type": ""
    },
    "tags": []
   },
   "outputs": [
    {
     "name": "stdout",
     "output_type": "stream",
     "text": [
      "Warning, removing 116560 votes without proposal\n",
      "<class 'pandas.core.frame.DataFrame'>\n",
      "Int64Index: 116560 entries, 0 to 116559\n",
      "Data columns (total 10 columns):\n",
      " #   Column         Non-Null Count   Dtype         \n",
      "---  ------         --------------   -----         \n",
      " 0   platform       116560 non-null  object        \n",
      " 1   name           116560 non-null  object        \n",
      " 2   id             116560 non-null  object        \n",
      " 3   proposal       116560 non-null  category      \n",
      " 4   deployment     116560 non-null  object        \n",
      " 5   platform_vote  116560 non-null  object        \n",
      " 6   voter          116560 non-null  category      \n",
      " 7   date           116560 non-null  datetime64[ns]\n",
      " 8   choice         116560 non-null  object        \n",
      " 9   weight         116560 non-null  float64       \n",
      "dtypes: category(2), datetime64[ns](1), float64(1), object(6)\n",
      "memory usage: 8.5+ MB\n",
      "None\n",
      "<class 'pandas.core.frame.DataFrame'>\n",
      "Int64Index: 1943 entries, 0 to 2193\n",
      "Data columns (total 13 columns):\n",
      " #   Column               Non-Null Count  Dtype         \n",
      "---  ------               --------------  -----         \n",
      " 0   platform             1943 non-null   object        \n",
      " 1   name                 1943 non-null   object        \n",
      " 2   platform_deployment  1943 non-null   object        \n",
      " 3   id                   1943 non-null   category      \n",
      " 4   deployment           1943 non-null   object        \n",
      " 5   platform_proposal    1943 non-null   object        \n",
      " 6   author               1943 non-null   category      \n",
      " 7   date                 1943 non-null   datetime64[ns]\n",
      " 8   votes_count          1943 non-null   int64         \n",
      " 9   title                1943 non-null   object        \n",
      " 10  description          1943 non-null   object        \n",
      " 11  start                1943 non-null   datetime64[ns]\n",
      " 12  end                  1943 non-null   datetime64[ns]\n",
      "dtypes: category(2), datetime64[ns](3), int64(1), object(7)\n",
      "memory usage: 203.0+ KB\n",
      "None\n"
     ]
    }
   ],
   "source": [
    "# dfv, dfp = daocensus.get(\"./data/daos-census\", ORG_NAME, 'snapshot')\n",
    "# dfptime = pd.read_csv('./snapshot_proposals.csv')[['proposal_id', 'title', 'description', 'start', 'end']]\n",
    "# dfp = dfp.merge(dfptime, how='left', left_on='platform_proposal', right_on='proposal_id')\n",
    "# dfp[['start', 'end']] = dfp[['start', 'end']].astype('datetime64')\n",
    "\n",
    "dfv, dfp = daocensus_text.get(\"./data/daos-census-text\", ORG_NAME, ORG_PLATFORM, use_org_names=USE_ORG_NAMES)\n",
    "print(dfv.info())\n",
    "print(dfp.info())"
   ]
  },
  {
   "cell_type": "code",
   "execution_count": 5,
   "id": "80ea20b0-88f7-4a21-a371-84382ebbe5a5",
   "metadata": {
    "execution": {
     "iopub.execute_input": "2024-03-01T13:18:05.557309Z",
     "iopub.status.busy": "2024-03-01T13:18:05.557137Z",
     "iopub.status.idle": "2024-03-01T13:18:05.600073Z",
     "shell.execute_reply": "2024-03-01T13:18:05.599815Z"
    },
    "papermill": {
     "duration": 0.049773,
     "end_time": "2024-03-01T13:18:05.600883",
     "exception": false,
     "start_time": "2024-03-01T13:18:05.551110",
     "status": "completed"
    },
    "tags": []
   },
   "outputs": [
    {
     "data": {
      "text/html": [
       "<div>\n",
       "<style scoped>\n",
       "    .dataframe tbody tr th:only-of-type {\n",
       "        vertical-align: middle;\n",
       "    }\n",
       "\n",
       "    .dataframe tbody tr th {\n",
       "        vertical-align: top;\n",
       "    }\n",
       "\n",
       "    .dataframe thead th {\n",
       "        text-align: right;\n",
       "    }\n",
       "</style>\n",
       "<table border=\"1\" class=\"dataframe\">\n",
       "  <thead>\n",
       "    <tr style=\"text-align: right;\">\n",
       "      <th></th>\n",
       "      <th>userID</th>\n",
       "      <th>itemID</th>\n",
       "      <th>timestamp</th>\n",
       "      <th>rating</th>\n",
       "    </tr>\n",
       "  </thead>\n",
       "  <tbody>\n",
       "    <tr>\n",
       "      <th>0</th>\n",
       "      <td>0xe7af1c70f8f089c4c3bd71999692c6c5a15d9e2a</td>\n",
       "      <td>b86aa059-3d31-5d41-a472-70962816f779</td>\n",
       "      <td>2021-12-17 12:28:01</td>\n",
       "      <td>1</td>\n",
       "    </tr>\n",
       "    <tr>\n",
       "      <th>1</th>\n",
       "      <td>0xc54a6c3778016b06cbd126ccc3b5bc06c5f666fb</td>\n",
       "      <td>b86aa059-3d31-5d41-a472-70962816f779</td>\n",
       "      <td>2021-12-17 02:16:23</td>\n",
       "      <td>1</td>\n",
       "    </tr>\n",
       "    <tr>\n",
       "      <th>2</th>\n",
       "      <td>0xd82d005e8f8d5385db40ba23884a5c967bb1e8af</td>\n",
       "      <td>b86aa059-3d31-5d41-a472-70962816f779</td>\n",
       "      <td>2021-12-17 00:38:22</td>\n",
       "      <td>1</td>\n",
       "    </tr>\n",
       "    <tr>\n",
       "      <th>3</th>\n",
       "      <td>0xf4c64db66ffb301985f5ecd85c8f3f9c02f2659d</td>\n",
       "      <td>b86aa059-3d31-5d41-a472-70962816f779</td>\n",
       "      <td>2021-12-16 18:47:08</td>\n",
       "      <td>1</td>\n",
       "    </tr>\n",
       "    <tr>\n",
       "      <th>4</th>\n",
       "      <td>0xd5e9ef1cedad0d135d543d286a2c190b16cbb89e</td>\n",
       "      <td>b86aa059-3d31-5d41-a472-70962816f779</td>\n",
       "      <td>2021-12-16 18:32:15</td>\n",
       "      <td>1</td>\n",
       "    </tr>\n",
       "  </tbody>\n",
       "</table>\n",
       "</div>"
      ],
      "text/plain": [
       "                                       userID  \\\n",
       "0  0xe7af1c70f8f089c4c3bd71999692c6c5a15d9e2a   \n",
       "1  0xc54a6c3778016b06cbd126ccc3b5bc06c5f666fb   \n",
       "2  0xd82d005e8f8d5385db40ba23884a5c967bb1e8af   \n",
       "3  0xf4c64db66ffb301985f5ecd85c8f3f9c02f2659d   \n",
       "4  0xd5e9ef1cedad0d135d543d286a2c190b16cbb89e   \n",
       "\n",
       "                                 itemID           timestamp  rating  \n",
       "0  b86aa059-3d31-5d41-a472-70962816f779 2021-12-17 12:28:01       1  \n",
       "1  b86aa059-3d31-5d41-a472-70962816f779 2021-12-17 02:16:23       1  \n",
       "2  b86aa059-3d31-5d41-a472-70962816f779 2021-12-17 00:38:22       1  \n",
       "3  b86aa059-3d31-5d41-a472-70962816f779 2021-12-16 18:47:08       1  \n",
       "4  b86aa059-3d31-5d41-a472-70962816f779 2021-12-16 18:32:15       1  "
      ]
     },
     "execution_count": 5,
     "metadata": {},
     "output_type": "execute_result"
    }
   ],
   "source": [
    "df = to_microsoft(dfv)\n",
    "df.head()"
   ]
  },
  {
   "cell_type": "markdown",
   "id": "5cfc8ff7-06e2-491b-98ce-0eac7bee37c5",
   "metadata": {
    "papermill": {
     "duration": 0.005198,
     "end_time": "2024-03-01T13:18:05.611816",
     "exception": false,
     "start_time": "2024-03-01T13:18:05.606618",
     "status": "completed"
    },
    "tags": []
   },
   "source": [
    "# Exploring data"
   ]
  },
  {
   "cell_type": "markdown",
   "id": "6732055d-8315-478c-b093-946b66268e4b",
   "metadata": {
    "papermill": {
     "duration": 0.005119,
     "end_time": "2024-03-01T13:18:05.621846",
     "exception": false,
     "start_time": "2024-03-01T13:18:05.616727",
     "status": "completed"
    },
    "tags": []
   },
   "source": [
    "## How much time does each proposal take\n",
    "\n",
    "Most proposals take a week, but there are a few that take less than 7 days."
   ]
  },
  {
   "cell_type": "code",
   "execution_count": 6,
   "id": "9b773d0a-3eac-4892-b23f-988ddfd1fc1f",
   "metadata": {
    "execution": {
     "iopub.execute_input": "2024-03-01T13:18:05.632550Z",
     "iopub.status.busy": "2024-03-01T13:18:05.632422Z",
     "iopub.status.idle": "2024-03-01T13:18:05.750779Z",
     "shell.execute_reply": "2024-03-01T13:18:05.750513Z"
    },
    "papermill": {
     "duration": 0.124828,
     "end_time": "2024-03-01T13:18:05.751583",
     "exception": false,
     "start_time": "2024-03-01T13:18:05.626755",
     "status": "completed"
    },
    "tags": []
   },
   "outputs": [
    {
     "data": {
      "text/plain": [
       "count                         1943\n",
       "mean     8 days 02:38:36.006176016\n",
       "std      3 days 01:17:27.822183473\n",
       "min                5 days 00:00:00\n",
       "25%                7 days 00:00:00\n",
       "50%                7 days 00:00:00\n",
       "75%                7 days 00:00:00\n",
       "max               14 days 00:00:00\n",
       "dtype: object"
      ]
     },
     "execution_count": 6,
     "metadata": {},
     "output_type": "execute_result"
    },
    {
     "data": {
      "image/png": "[encoded data removed]",
      "text/plain": [
       "<Figure size 640x480 with 1 Axes>"
      ]
     },
     "metadata": {},
     "output_type": "display_data"
    }
   ],
   "source": [
    "delta = dfp['end'] - dfp['start']\n",
    "delta.dt.days.hist(bins=14)\n",
    "delta.describe()"
   ]
  },
  {
   "cell_type": "markdown",
   "id": "b4f0ad60-31c1-43f0-91fb-e9e9d75bf02a",
   "metadata": {
    "papermill": {
     "duration": 0.005676,
     "end_time": "2024-03-01T13:18:05.763059",
     "exception": false,
     "start_time": "2024-03-01T13:18:05.757383",
     "status": "completed"
    },
    "tags": []
   },
   "source": [
    "### Just for MetaCartel, avg proposal length in time"
   ]
  },
  {
   "cell_type": "code",
   "execution_count": 7,
   "id": "9a2df54f-943c-4d46-ac03-2cc0226e9b3a",
   "metadata": {
    "execution": {
     "iopub.execute_input": "2024-03-01T13:18:05.774241Z",
     "iopub.status.busy": "2024-03-01T13:18:05.774124Z",
     "iopub.status.idle": "2024-03-01T13:18:05.954408Z",
     "shell.execute_reply": "2024-03-01T13:18:05.954145Z"
    },
    "papermill": {
     "duration": 0.18692,
     "end_time": "2024-03-01T13:18:05.955235",
     "exception": false,
     "start_time": "2024-03-01T13:18:05.768315",
     "status": "completed"
    },
    "tags": []
   },
   "outputs": [
    {
     "data": {
      "text/plain": [
       "<Axes: xlabel='date'>"
      ]
     },
     "execution_count": 7,
     "metadata": {},
     "output_type": "execute_result"
    },
    {
     "data": {
      "image/png": "[encoded data removed]",
      "text/plain": [
       "<Figure size 640x480 with 1 Axes>"
      ]
     },
     "metadata": {},
     "output_type": "display_data"
    }
   ],
   "source": [
    "# TODO\n",
    "_delta = dfp.assign(delta=delta).set_index('date').sort_index()['delta'].dt.days\n",
    "_delta.rolling('7D').mean().plot()"
   ]
  },
  {
   "cell_type": "markdown",
   "id": "539eee67-27b6-4ee7-8ee6-dd0d5c723be8",
   "metadata": {
    "papermill": {
     "duration": 0.005636,
     "end_time": "2024-03-01T13:18:05.966795",
     "exception": false,
     "start_time": "2024-03-01T13:18:05.961159",
     "status": "completed"
    },
    "tags": []
   },
   "source": [
    "## What day or the week are proposals created"
   ]
  },
  {
   "cell_type": "code",
   "execution_count": 8,
   "id": "46b42ba8-f37a-4570-a728-01700953a933",
   "metadata": {
    "execution": {
     "iopub.execute_input": "2024-03-01T13:18:05.978172Z",
     "iopub.status.busy": "2024-03-01T13:18:05.978056Z",
     "iopub.status.idle": "2024-03-01T13:18:06.076822Z",
     "shell.execute_reply": "2024-03-01T13:18:06.076361Z"
    },
    "papermill": {
     "duration": 0.10573,
     "end_time": "2024-03-01T13:18:06.077912",
     "exception": false,
     "start_time": "2024-03-01T13:18:05.972182",
     "status": "completed"
    },
    "tags": []
   },
   "outputs": [
    {
     "data": {
      "text/plain": [
       "Monday       346\n",
       "Tuesday      326\n",
       "Wednesday    324\n",
       "Thursday     305\n",
       "Friday       258\n",
       "Saturday     199\n",
       "Sunday       185\n",
       "Name: start, dtype: int64"
      ]
     },
     "execution_count": 8,
     "metadata": {},
     "output_type": "execute_result"
    },
    {
     "data": {
      "image/png": "[encoded data removed]",
      "text/plain": [
       "<Figure size 640x480 with 1 Axes>"
      ]
     },
     "metadata": {},
     "output_type": "display_data"
    }
   ],
   "source": [
    "import seaborn as sns\n",
    "\n",
    "ax = sns.countplot(x=dfp['start'].dt.day_name(), order=['Monday', 'Tuesday', 'Wednesday', 'Thursday', 'Friday', 'Saturday', 'Sunday'])\n",
    "ax.set_title(f'Número de propuestas por día de la semana en {ORG_NAME}')\n",
    "dfp['start'].dt.day_name().value_counts()"
   ]
  },
  {
   "cell_type": "code",
   "execution_count": 9,
   "id": "fba448ea-7b55-4612-9359-424259b6c705",
   "metadata": {
    "execution": {
     "iopub.execute_input": "2024-03-01T13:18:06.090070Z",
     "iopub.status.busy": "2024-03-01T13:18:06.089900Z",
     "iopub.status.idle": "2024-03-01T13:18:06.300846Z",
     "shell.execute_reply": "2024-03-01T13:18:06.300593Z"
    },
    "papermill": {
     "duration": 0.218609,
     "end_time": "2024-03-01T13:18:06.302307",
     "exception": false,
     "start_time": "2024-03-01T13:18:06.083698",
     "status": "completed"
    },
    "tags": []
   },
   "outputs": [
    {
     "data": {
      "text/plain": [
       "Tuesday      17573\n",
       "Friday       17101\n",
       "Monday       17059\n",
       "Thursday     16952\n",
       "Wednesday    16784\n",
       "Saturday     16496\n",
       "Sunday       14595\n",
       "Name: date, dtype: int64"
      ]
     },
     "execution_count": 9,
     "metadata": {},
     "output_type": "execute_result"
    },
    {
     "data": {
      "image/png": "[encoded data removed]",
      "text/plain": [
       "<Figure size 640x480 with 1 Axes>"
      ]
     },
     "metadata": {},
     "output_type": "display_data"
    }
   ],
   "source": [
    "ax = sns.countplot(x=dfv['date'].dt.day_name(), order=['Monday', 'Tuesday', 'Wednesday', 'Thursday', 'Friday', 'Saturday', 'Sunday'])\n",
    "ax.set_title(f'Número de votos por día de la semana en {ORG_NAME}')\n",
    "dfv['date'].dt.day_name().value_counts()"
   ]
  },
  {
   "cell_type": "markdown",
   "id": "601887ff-b440-4aab-bee7-3806b4b6060b",
   "metadata": {
    "papermill": {
     "duration": 0.006015,
     "end_time": "2024-03-01T13:18:06.314383",
     "exception": false,
     "start_time": "2024-03-01T13:18:06.308368",
     "status": "completed"
    },
    "tags": []
   },
   "source": [
    "## Ahora en porcentaje acumulado"
   ]
  },
  {
   "cell_type": "code",
   "execution_count": 10,
   "id": "fbc4ac00-729e-4cac-a11f-220f882e99f9",
   "metadata": {
    "execution": {
     "iopub.execute_input": "2024-03-01T13:18:06.326918Z",
     "iopub.status.busy": "2024-03-01T13:18:06.326799Z",
     "iopub.status.idle": "2024-03-01T13:18:06.471018Z",
     "shell.execute_reply": "2024-03-01T13:18:06.470732Z"
    },
    "papermill": {
     "duration": 0.152251,
     "end_time": "2024-03-01T13:18:06.472470",
     "exception": false,
     "start_time": "2024-03-01T13:18:06.320219",
     "status": "completed"
    },
    "tags": []
   },
   "outputs": [
    {
     "data": {
      "text/plain": [
       "<Axes: xlabel='rel_day', ylabel='proposals'>"
      ]
     },
     "execution_count": 10,
     "metadata": {},
     "output_type": "execute_result"
    },
    {
     "data": {
      "image/png": "[encoded data removed]",
      "text/plain": [
       "<Figure size 640x480 with 1 Axes>"
      ]
     },
     "metadata": {},
     "output_type": "display_data"
    }
   ],
   "source": [
    "# ax = sns.countplot(x=dfp['start'].dt.day_name(), order=['Monday', 'Tuesday', 'Wednesday', 'Thursday', 'Friday', 'Saturday', 'Sunday'])\n",
    "# ax.set_title(f'Número de propuestas por día de la semana en {ORG_NAME}')\n",
    "# dfp['start'].dt.day_name().value_counts()\n",
    "\n",
    "start_from = 2\n",
    "\n",
    "vc = dfp['start'].dt.day_name().value_counts()\n",
    "vc = vc / vc.sum()\n",
    "series = []\n",
    "for i, d in enumerate(vc.index):\n",
    "    newindex = vc.index[i:].union(vc.index[:i], sort=False)\n",
    "    assert len(newindex) == 7\n",
    "    assert newindex[0] == d\n",
    "    \n",
    "    s = vc.reindex(newindex) \\\n",
    "        .cumsum() \\\n",
    "        .to_frame(name='proposals') \\\n",
    "        .reset_index().rename(columns={'index': 'day'}) \\\n",
    "        .reset_index().rename(columns={'index': 'rel_day'})\n",
    "    s['start_day'] = d\n",
    "    series.append(s)\n",
    "\n",
    "sns.lineplot(pd.concat(series), x='rel_day', y='proposals', hue='start_day')"
   ]
  },
  {
   "cell_type": "markdown",
   "id": "359f5200-33dc-4b2f-8316-c075a1358619",
   "metadata": {
    "papermill": {
     "duration": 0.006113,
     "end_time": "2024-03-01T13:18:06.485035",
     "exception": false,
     "start_time": "2024-03-01T13:18:06.478922",
     "status": "completed"
    },
    "tags": []
   },
   "source": [
    "### Same with votes"
   ]
  },
  {
   "cell_type": "code",
   "execution_count": 11,
   "id": "4f5d50ef-9243-4340-9b1c-bb6b7474c0b9",
   "metadata": {
    "execution": {
     "iopub.execute_input": "2024-03-01T13:18:06.497919Z",
     "iopub.status.busy": "2024-03-01T13:18:06.497800Z",
     "iopub.status.idle": "2024-03-01T13:18:06.655605Z",
     "shell.execute_reply": "2024-03-01T13:18:06.655140Z"
    },
    "papermill": {
     "duration": 0.165907,
     "end_time": "2024-03-01T13:18:06.657051",
     "exception": false,
     "start_time": "2024-03-01T13:18:06.491144",
     "status": "completed"
    },
    "tags": []
   },
   "outputs": [
    {
     "data": {
      "text/plain": [
       "<Axes: xlabel='rel_day', ylabel='votes'>"
      ]
     },
     "execution_count": 11,
     "metadata": {},
     "output_type": "execute_result"
    },
    {
     "data": {
      "image/png": "[encoded data removed]",
      "text/plain": [
       "<Figure size 640x480 with 1 Axes>"
      ]
     },
     "metadata": {},
     "output_type": "display_data"
    }
   ],
   "source": [
    "# ax = sns.countplot(x=dfp['start'].dt.day_name(), order=['Monday', 'Tuesday', 'Wednesday', 'Thursday', 'Friday', 'Saturday', 'Sunday'])\n",
    "# ax.set_title(f'Número de propuestas por día de la semana en {ORG_NAME}')\n",
    "# dfp['start'].dt.day_name().value_counts()\n",
    "\n",
    "start_from = 2\n",
    "\n",
    "vc = dfv['date'].dt.day_name().value_counts()\n",
    "vc = vc / vc.sum()\n",
    "series = []\n",
    "for i, d in enumerate(vc.index):\n",
    "    newindex = vc.index[i:].union(vc.index[:i], sort=False)\n",
    "    assert len(newindex) == 7\n",
    "    assert newindex[0] == d\n",
    "    \n",
    "    s = vc.reindex(newindex) \\\n",
    "        .cumsum() \\\n",
    "        .to_frame(name='votes') \\\n",
    "        .reset_index().rename(columns={'index': 'day'}) \\\n",
    "        .reset_index().rename(columns={'index': 'rel_day'})\n",
    "    s['start_day'] = d\n",
    "    series.append(s)\n",
    "\n",
    "sns.lineplot(pd.concat(series), x='rel_day', y='votes', hue='start_day')"
   ]
  },
  {
   "cell_type": "markdown",
   "id": "c938dae6-0805-4a52-99ab-c303c9d06bba",
   "metadata": {
    "papermill": {
     "duration": 0.006569,
     "end_time": "2024-03-01T13:18:06.670369",
     "exception": false,
     "start_time": "2024-03-01T13:18:06.663800",
     "status": "completed"
    },
    "tags": []
   },
   "source": [
    "## How many proposals are created per week\n",
    "\n",
    "As we can see, there are peaks of over 70 proposals created in a week, using a recommendator can help the users know which proposals to chose."
   ]
  },
  {
   "cell_type": "code",
   "execution_count": 12,
   "id": "f22ec907-dccc-4737-9447-9ced95e5cbc4",
   "metadata": {
    "execution": {
     "iopub.execute_input": "2024-03-01T13:18:06.683957Z",
     "iopub.status.busy": "2024-03-01T13:18:06.683816Z",
     "iopub.status.idle": "2024-03-01T13:18:06.860340Z",
     "shell.execute_reply": "2024-03-01T13:18:06.859882Z"
    },
    "papermill": {
     "duration": 0.184787,
     "end_time": "2024-03-01T13:18:06.861616",
     "exception": false,
     "start_time": "2024-03-01T13:18:06.676829",
     "status": "completed"
    },
    "tags": []
   },
   "outputs": [
    {
     "data": {
      "text/plain": [
       "<Axes: xlabel='start'>"
      ]
     },
     "execution_count": 12,
     "metadata": {},
     "output_type": "execute_result"
    },
    {
     "data": {
      "image/png": "[encoded data removed]",
      "text/plain": [
       "<Figure size 640x480 with 1 Axes>"
      ]
     },
     "metadata": {},
     "output_type": "display_data"
    }
   ],
   "source": [
    "dfp.set_index('start').sort_index().rolling('7d')['id'].count().plot()"
   ]
  },
  {
   "cell_type": "markdown",
   "id": "0d4862fa-a271-427b-bdcb-cb3efb0a9ea3",
   "metadata": {
    "papermill": {
     "duration": 0.006462,
     "end_time": "2024-03-01T13:18:06.874853",
     "exception": false,
     "start_time": "2024-03-01T13:18:06.868391",
     "status": "completed"
    },
    "tags": []
   },
   "source": [
    "## VPP in test per recommendator"
   ]
  },
  {
   "cell_type": "code",
   "execution_count": 13,
   "id": "39c57e3f-3efe-40cf-96b0-cd5eef7f33d9",
   "metadata": {
    "execution": {
     "iopub.execute_input": "2024-03-01T13:18:06.889171Z",
     "iopub.status.busy": "2024-03-01T13:18:06.889031Z",
     "iopub.status.idle": "2024-03-01T13:18:11.028169Z",
     "shell.execute_reply": "2024-03-01T13:18:11.027909Z"
    },
    "papermill": {
     "duration": 4.148105,
     "end_time": "2024-03-01T13:18:11.029597",
     "exception": false,
     "start_time": "2024-03-01T13:18:06.881492",
     "status": "completed"
    },
    "tags": []
   },
   "outputs": [
    {
     "data": {
      "application/vnd.jupyter.widget-view+json": {
       "model_id": "5d461cbee9004794be3f94a542e47d8a",
       "version_major": 2,
       "version_minor": 0
      },
      "text/plain": [
       "  0%|          | 0/6 [00:00<?, ?it/s]"
      ]
     },
     "metadata": {},
     "output_type": "display_data"
    },
    {
     "data": {
      "text/html": [
       "<div>\n",
       "<style scoped>\n",
       "    .dataframe tbody tr th:only-of-type {\n",
       "        vertical-align: middle;\n",
       "    }\n",
       "\n",
       "    .dataframe tbody tr th {\n",
       "        vertical-align: top;\n",
       "    }\n",
       "\n",
       "    .dataframe thead th {\n",
       "        text-align: right;\n",
       "    }\n",
       "</style>\n",
       "<table border=\"1\" class=\"dataframe\">\n",
       "  <thead>\n",
       "    <tr style=\"text-align: right;\">\n",
       "      <th></th>\n",
       "      <th>f</th>\n",
       "      <th>W-SUN</th>\n",
       "      <th>W-MON</th>\n",
       "      <th>W-TUE</th>\n",
       "      <th>W-WED</th>\n",
       "      <th>W-THU</th>\n",
       "      <th>W-SAT</th>\n",
       "    </tr>\n",
       "  </thead>\n",
       "  <tbody>\n",
       "    <tr>\n",
       "      <th rowspan=\"6\" valign=\"top\">votes in open proposals (train)</th>\n",
       "      <th>count</th>\n",
       "      <td>111.000000</td>\n",
       "      <td>111.000000</td>\n",
       "      <td>112.000000</td>\n",
       "      <td>112.000000</td>\n",
       "      <td>112.000000</td>\n",
       "      <td>111.000000</td>\n",
       "    </tr>\n",
       "    <tr>\n",
       "      <th>mean</th>\n",
       "      <td>967.378378</td>\n",
       "      <td>982.927928</td>\n",
       "      <td>961.535714</td>\n",
       "      <td>937.017857</td>\n",
       "      <td>912.812500</td>\n",
       "      <td>928.981982</td>\n",
       "    </tr>\n",
       "    <tr>\n",
       "      <th>std</th>\n",
       "      <td>799.886811</td>\n",
       "      <td>786.597757</td>\n",
       "      <td>793.762632</td>\n",
       "      <td>753.568782</td>\n",
       "      <td>694.462700</td>\n",
       "      <td>740.879870</td>\n",
       "    </tr>\n",
       "    <tr>\n",
       "      <th>min</th>\n",
       "      <td>9.000000</td>\n",
       "      <td>14.000000</td>\n",
       "      <td>19.000000</td>\n",
       "      <td>21.000000</td>\n",
       "      <td>22.000000</td>\n",
       "      <td>5.000000</td>\n",
       "    </tr>\n",
       "    <tr>\n",
       "      <th>50%</th>\n",
       "      <td>765.000000</td>\n",
       "      <td>780.000000</td>\n",
       "      <td>763.500000</td>\n",
       "      <td>727.000000</td>\n",
       "      <td>750.500000</td>\n",
       "      <td>726.000000</td>\n",
       "    </tr>\n",
       "    <tr>\n",
       "      <th>max</th>\n",
       "      <td>4449.000000</td>\n",
       "      <td>4137.000000</td>\n",
       "      <td>3816.000000</td>\n",
       "      <td>3752.000000</td>\n",
       "      <td>3322.000000</td>\n",
       "      <td>3699.000000</td>\n",
       "    </tr>\n",
       "    <tr>\n",
       "      <th rowspan=\"6\" valign=\"top\">users in open proposals (train)</th>\n",
       "      <th>count</th>\n",
       "      <td>111.000000</td>\n",
       "      <td>111.000000</td>\n",
       "      <td>112.000000</td>\n",
       "      <td>112.000000</td>\n",
       "      <td>112.000000</td>\n",
       "      <td>111.000000</td>\n",
       "    </tr>\n",
       "    <tr>\n",
       "      <th>mean</th>\n",
       "      <td>297.405405</td>\n",
       "      <td>303.054054</td>\n",
       "      <td>298.348214</td>\n",
       "      <td>294.482143</td>\n",
       "      <td>296.000000</td>\n",
       "      <td>291.648649</td>\n",
       "    </tr>\n",
       "    <tr>\n",
       "      <th>std</th>\n",
       "      <td>150.075640</td>\n",
       "      <td>151.185608</td>\n",
       "      <td>146.963114</td>\n",
       "      <td>150.649225</td>\n",
       "      <td>148.324152</td>\n",
       "      <td>147.454255</td>\n",
       "    </tr>\n",
       "    <tr>\n",
       "      <th>min</th>\n",
       "      <td>8.000000</td>\n",
       "      <td>13.000000</td>\n",
       "      <td>17.000000</td>\n",
       "      <td>19.000000</td>\n",
       "      <td>19.000000</td>\n",
       "      <td>5.000000</td>\n",
       "    </tr>\n",
       "    <tr>\n",
       "      <th>50%</th>\n",
       "      <td>302.000000</td>\n",
       "      <td>300.000000</td>\n",
       "      <td>294.000000</td>\n",
       "      <td>286.500000</td>\n",
       "      <td>284.500000</td>\n",
       "      <td>292.000000</td>\n",
       "    </tr>\n",
       "    <tr>\n",
       "      <th>max</th>\n",
       "      <td>755.000000</td>\n",
       "      <td>735.000000</td>\n",
       "      <td>638.000000</td>\n",
       "      <td>664.000000</td>\n",
       "      <td>653.000000</td>\n",
       "      <td>706.000000</td>\n",
       "    </tr>\n",
       "    <tr>\n",
       "      <th rowspan=\"6\" valign=\"top\">open proposals</th>\n",
       "      <th>count</th>\n",
       "      <td>111.000000</td>\n",
       "      <td>111.000000</td>\n",
       "      <td>112.000000</td>\n",
       "      <td>112.000000</td>\n",
       "      <td>112.000000</td>\n",
       "      <td>111.000000</td>\n",
       "    </tr>\n",
       "    <tr>\n",
       "      <th>mean</th>\n",
       "      <td>20.243243</td>\n",
       "      <td>20.036036</td>\n",
       "      <td>19.910714</td>\n",
       "      <td>19.973214</td>\n",
       "      <td>20.035714</td>\n",
       "      <td>20.360360</td>\n",
       "    </tr>\n",
       "    <tr>\n",
       "      <th>std</th>\n",
       "      <td>10.907225</td>\n",
       "      <td>11.100310</td>\n",
       "      <td>10.934328</td>\n",
       "      <td>10.944956</td>\n",
       "      <td>11.019989</td>\n",
       "      <td>10.726173</td>\n",
       "    </tr>\n",
       "    <tr>\n",
       "      <th>min</th>\n",
       "      <td>2.000000</td>\n",
       "      <td>2.000000</td>\n",
       "      <td>2.000000</td>\n",
       "      <td>2.000000</td>\n",
       "      <td>3.000000</td>\n",
       "      <td>2.000000</td>\n",
       "    </tr>\n",
       "    <tr>\n",
       "      <th>50%</th>\n",
       "      <td>18.000000</td>\n",
       "      <td>18.000000</td>\n",
       "      <td>17.500000</td>\n",
       "      <td>19.000000</td>\n",
       "      <td>19.000000</td>\n",
       "      <td>19.000000</td>\n",
       "    </tr>\n",
       "    <tr>\n",
       "      <th>max</th>\n",
       "      <td>70.000000</td>\n",
       "      <td>70.000000</td>\n",
       "      <td>66.000000</td>\n",
       "      <td>74.000000</td>\n",
       "      <td>73.000000</td>\n",
       "      <td>64.000000</td>\n",
       "    </tr>\n",
       "    <tr>\n",
       "      <th rowspan=\"6\" valign=\"top\">votes in test</th>\n",
       "      <th>count</th>\n",
       "      <td>111.000000</td>\n",
       "      <td>111.000000</td>\n",
       "      <td>112.000000</td>\n",
       "      <td>112.000000</td>\n",
       "      <td>112.000000</td>\n",
       "      <td>111.000000</td>\n",
       "    </tr>\n",
       "    <tr>\n",
       "      <th>mean</th>\n",
       "      <td>274.801802</td>\n",
       "      <td>243.756757</td>\n",
       "      <td>250.803571</td>\n",
       "      <td>279.392857</td>\n",
       "      <td>289.625000</td>\n",
       "      <td>298.828829</td>\n",
       "    </tr>\n",
       "    <tr>\n",
       "      <th>std</th>\n",
       "      <td>222.564345</td>\n",
       "      <td>185.313946</td>\n",
       "      <td>185.043401</td>\n",
       "      <td>214.683398</td>\n",
       "      <td>231.622095</td>\n",
       "      <td>247.863081</td>\n",
       "    </tr>\n",
       "    <tr>\n",
       "      <th>min</th>\n",
       "      <td>13.000000</td>\n",
       "      <td>9.000000</td>\n",
       "      <td>4.000000</td>\n",
       "      <td>3.000000</td>\n",
       "      <td>4.000000</td>\n",
       "      <td>17.000000</td>\n",
       "    </tr>\n",
       "    <tr>\n",
       "      <th>50%</th>\n",
       "      <td>212.000000</td>\n",
       "      <td>187.000000</td>\n",
       "      <td>202.500000</td>\n",
       "      <td>227.500000</td>\n",
       "      <td>207.000000</td>\n",
       "      <td>240.000000</td>\n",
       "    </tr>\n",
       "    <tr>\n",
       "      <th>max</th>\n",
       "      <td>1266.000000</td>\n",
       "      <td>818.000000</td>\n",
       "      <td>870.000000</td>\n",
       "      <td>1078.000000</td>\n",
       "      <td>1230.000000</td>\n",
       "      <td>1380.000000</td>\n",
       "    </tr>\n",
       "    <tr>\n",
       "      <th rowspan=\"6\" valign=\"top\">users in test</th>\n",
       "      <th>count</th>\n",
       "      <td>111.000000</td>\n",
       "      <td>111.000000</td>\n",
       "      <td>112.000000</td>\n",
       "      <td>112.000000</td>\n",
       "      <td>112.000000</td>\n",
       "      <td>111.000000</td>\n",
       "    </tr>\n",
       "    <tr>\n",
       "      <th>mean</th>\n",
       "      <td>105.576577</td>\n",
       "      <td>99.630631</td>\n",
       "      <td>103.544643</td>\n",
       "      <td>108.669643</td>\n",
       "      <td>108.419643</td>\n",
       "      <td>111.216216</td>\n",
       "    </tr>\n",
       "    <tr>\n",
       "      <th>std</th>\n",
       "      <td>66.273888</td>\n",
       "      <td>62.268616</td>\n",
       "      <td>63.034223</td>\n",
       "      <td>62.464028</td>\n",
       "      <td>62.012443</td>\n",
       "      <td>69.519704</td>\n",
       "    </tr>\n",
       "    <tr>\n",
       "      <th>min</th>\n",
       "      <td>12.000000</td>\n",
       "      <td>8.000000</td>\n",
       "      <td>4.000000</td>\n",
       "      <td>3.000000</td>\n",
       "      <td>4.000000</td>\n",
       "      <td>16.000000</td>\n",
       "    </tr>\n",
       "    <tr>\n",
       "      <th>50%</th>\n",
       "      <td>94.000000</td>\n",
       "      <td>94.000000</td>\n",
       "      <td>104.500000</td>\n",
       "      <td>104.500000</td>\n",
       "      <td>100.000000</td>\n",
       "      <td>102.000000</td>\n",
       "    </tr>\n",
       "    <tr>\n",
       "      <th>max</th>\n",
       "      <td>327.000000</td>\n",
       "      <td>312.000000</td>\n",
       "      <td>351.000000</td>\n",
       "      <td>278.000000</td>\n",
       "      <td>296.000000</td>\n",
       "      <td>333.000000</td>\n",
       "    </tr>\n",
       "    <tr>\n",
       "      <th rowspan=\"6\" valign=\"top\">vpp test</th>\n",
       "      <th>count</th>\n",
       "      <td>111.000000</td>\n",
       "      <td>111.000000</td>\n",
       "      <td>112.000000</td>\n",
       "      <td>112.000000</td>\n",
       "      <td>112.000000</td>\n",
       "      <td>111.000000</td>\n",
       "    </tr>\n",
       "    <tr>\n",
       "      <th>mean</th>\n",
       "      <td>16.085854</td>\n",
       "      <td>14.476811</td>\n",
       "      <td>15.437437</td>\n",
       "      <td>17.288021</td>\n",
       "      <td>17.619348</td>\n",
       "      <td>17.181738</td>\n",
       "    </tr>\n",
       "    <tr>\n",
       "      <th>std</th>\n",
       "      <td>15.221782</td>\n",
       "      <td>13.727263</td>\n",
       "      <td>15.109899</td>\n",
       "      <td>18.336669</td>\n",
       "      <td>18.425071</td>\n",
       "      <td>16.466923</td>\n",
       "    </tr>\n",
       "    <tr>\n",
       "      <th>min</th>\n",
       "      <td>1.529412</td>\n",
       "      <td>1.772727</td>\n",
       "      <td>1.533333</td>\n",
       "      <td>0.750000</td>\n",
       "      <td>0.800000</td>\n",
       "      <td>1.625000</td>\n",
       "    </tr>\n",
       "    <tr>\n",
       "      <th>50%</th>\n",
       "      <td>10.857143</td>\n",
       "      <td>10.250000</td>\n",
       "      <td>10.456140</td>\n",
       "      <td>11.649573</td>\n",
       "      <td>12.673295</td>\n",
       "      <td>12.807692</td>\n",
       "    </tr>\n",
       "    <tr>\n",
       "      <th>max</th>\n",
       "      <td>75.363636</td>\n",
       "      <td>81.800000</td>\n",
       "      <td>90.500000</td>\n",
       "      <td>110.200000</td>\n",
       "      <td>123.666667</td>\n",
       "      <td>92.000000</td>\n",
       "    </tr>\n",
       "    <tr>\n",
       "      <th rowspan=\"6\" valign=\"top\">vpu test</th>\n",
       "      <th>count</th>\n",
       "      <td>111.000000</td>\n",
       "      <td>111.000000</td>\n",
       "      <td>112.000000</td>\n",
       "      <td>112.000000</td>\n",
       "      <td>112.000000</td>\n",
       "      <td>111.000000</td>\n",
       "    </tr>\n",
       "    <tr>\n",
       "      <th>mean</th>\n",
       "      <td>2.443482</td>\n",
       "      <td>2.316262</td>\n",
       "      <td>2.306687</td>\n",
       "      <td>2.391114</td>\n",
       "      <td>2.469629</td>\n",
       "      <td>2.513350</td>\n",
       "    </tr>\n",
       "    <tr>\n",
       "      <th>std</th>\n",
       "      <td>0.869001</td>\n",
       "      <td>0.784109</td>\n",
       "      <td>0.733827</td>\n",
       "      <td>0.798829</td>\n",
       "      <td>0.979037</td>\n",
       "      <td>0.999011</td>\n",
       "    </tr>\n",
       "    <tr>\n",
       "      <th>min</th>\n",
       "      <td>1.000000</td>\n",
       "      <td>1.125000</td>\n",
       "      <td>1.000000</td>\n",
       "      <td>1.000000</td>\n",
       "      <td>1.000000</td>\n",
       "      <td>1.000000</td>\n",
       "    </tr>\n",
       "    <tr>\n",
       "      <th>50%</th>\n",
       "      <td>2.254545</td>\n",
       "      <td>2.128205</td>\n",
       "      <td>2.188882</td>\n",
       "      <td>2.211749</td>\n",
       "      <td>2.437418</td>\n",
       "      <td>2.278075</td>\n",
       "    </tr>\n",
       "    <tr>\n",
       "      <th>max</th>\n",
       "      <td>5.197674</td>\n",
       "      <td>5.603774</td>\n",
       "      <td>4.106383</td>\n",
       "      <td>4.473029</td>\n",
       "      <td>7.317073</td>\n",
       "      <td>6.837209</td>\n",
       "    </tr>\n",
       "  </tbody>\n",
       "</table>\n",
       "</div>"
      ],
      "text/plain": [
       "f                                            W-SUN        W-MON        W-TUE  \\\n",
       "votes in open proposals (train) count   111.000000   111.000000   112.000000   \n",
       "                                mean    967.378378   982.927928   961.535714   \n",
       "                                std     799.886811   786.597757   793.762632   \n",
       "                                min       9.000000    14.000000    19.000000   \n",
       "                                50%     765.000000   780.000000   763.500000   \n",
       "                                max    4449.000000  4137.000000  3816.000000   \n",
       "users in open proposals (train) count   111.000000   111.000000   112.000000   \n",
       "                                mean    297.405405   303.054054   298.348214   \n",
       "                                std     150.075640   151.185608   146.963114   \n",
       "                                min       8.000000    13.000000    17.000000   \n",
       "                                50%     302.000000   300.000000   294.000000   \n",
       "                                max     755.000000   735.000000   638.000000   \n",
       "open proposals                  count   111.000000   111.000000   112.000000   \n",
       "                                mean     20.243243    20.036036    19.910714   \n",
       "                                std      10.907225    11.100310    10.934328   \n",
       "                                min       2.000000     2.000000     2.000000   \n",
       "                                50%      18.000000    18.000000    17.500000   \n",
       "                                max      70.000000    70.000000    66.000000   \n",
       "votes in test                   count   111.000000   111.000000   112.000000   \n",
       "                                mean    274.801802   243.756757   250.803571   \n",
       "                                std     222.564345   185.313946   185.043401   \n",
       "                                min      13.000000     9.000000     4.000000   \n",
       "                                50%     212.000000   187.000000   202.500000   \n",
       "                                max    1266.000000   818.000000   870.000000   \n",
       "users in test                   count   111.000000   111.000000   112.000000   \n",
       "                                mean    105.576577    99.630631   103.544643   \n",
       "                                std      66.273888    62.268616    63.034223   \n",
       "                                min      12.000000     8.000000     4.000000   \n",
       "                                50%      94.000000    94.000000   104.500000   \n",
       "                                max     327.000000   312.000000   351.000000   \n",
       "vpp test                        count   111.000000   111.000000   112.000000   \n",
       "                                mean     16.085854    14.476811    15.437437   \n",
       "                                std      15.221782    13.727263    15.109899   \n",
       "                                min       1.529412     1.772727     1.533333   \n",
       "                                50%      10.857143    10.250000    10.456140   \n",
       "                                max      75.363636    81.800000    90.500000   \n",
       "vpu test                        count   111.000000   111.000000   112.000000   \n",
       "                                mean      2.443482     2.316262     2.306687   \n",
       "                                std       0.869001     0.784109     0.733827   \n",
       "                                min       1.000000     1.125000     1.000000   \n",
       "                                50%       2.254545     2.128205     2.188882   \n",
       "                                max       5.197674     5.603774     4.106383   \n",
       "\n",
       "f                                            W-WED        W-THU        W-SAT  \n",
       "votes in open proposals (train) count   112.000000   112.000000   111.000000  \n",
       "                                mean    937.017857   912.812500   928.981982  \n",
       "                                std     753.568782   694.462700   740.879870  \n",
       "                                min      21.000000    22.000000     5.000000  \n",
       "                                50%     727.000000   750.500000   726.000000  \n",
       "                                max    3752.000000  3322.000000  3699.000000  \n",
       "users in open proposals (train) count   112.000000   112.000000   111.000000  \n",
       "                                mean    294.482143   296.000000   291.648649  \n",
       "                                std     150.649225   148.324152   147.454255  \n",
       "                                min      19.000000    19.000000     5.000000  \n",
       "                                50%     286.500000   284.500000   292.000000  \n",
       "                                max     664.000000   653.000000   706.000000  \n",
       "open proposals                  count   112.000000   112.000000   111.000000  \n",
       "                                mean     19.973214    20.035714    20.360360  \n",
       "                                std      10.944956    11.019989    10.726173  \n",
       "                                min       2.000000     3.000000     2.000000  \n",
       "                                50%      19.000000    19.000000    19.000000  \n",
       "                                max      74.000000    73.000000    64.000000  \n",
       "votes in test                   count   112.000000   112.000000   111.000000  \n",
       "                                mean    279.392857   289.625000   298.828829  \n",
       "                                std     214.683398   231.622095   247.863081  \n",
       "                                min       3.000000     4.000000    17.000000  \n",
       "                                50%     227.500000   207.000000   240.000000  \n",
       "                                max    1078.000000  1230.000000  1380.000000  \n",
       "users in test                   count   112.000000   112.000000   111.000000  \n",
       "                                mean    108.669643   108.419643   111.216216  \n",
       "                                std      62.464028    62.012443    69.519704  \n",
       "                                min       3.000000     4.000000    16.000000  \n",
       "                                50%     104.500000   100.000000   102.000000  \n",
       "                                max     278.000000   296.000000   333.000000  \n",
       "vpp test                        count   112.000000   112.000000   111.000000  \n",
       "                                mean     17.288021    17.619348    17.181738  \n",
       "                                std      18.336669    18.425071    16.466923  \n",
       "                                min       0.750000     0.800000     1.625000  \n",
       "                                50%      11.649573    12.673295    12.807692  \n",
       "                                max     110.200000   123.666667    92.000000  \n",
       "vpu test                        count   112.000000   112.000000   111.000000  \n",
       "                                mean      2.391114     2.469629     2.513350  \n",
       "                                std       0.798829     0.979037     0.999011  \n",
       "                                min       1.000000     1.000000     1.000000  \n",
       "                                50%       2.211749     2.437418     2.278075  \n",
       "                                max       4.473029     7.317073     6.837209  "
      ]
     },
     "execution_count": 13,
     "metadata": {},
     "output_type": "execute_result"
    }
   ],
   "source": [
    "freqs = ['W-SUN', 'W-MON', 'W-TUE', 'W-WED', 'W-THU', 'W-SAT']\n",
    "freq = freqs[0]\n",
    "\n",
    "results = []\n",
    "for freq in tqdm(freqs, leave=False):\n",
    "    for dftrain, dftest, t, openproposals in timeFreqSplitCurrent(to_microsoft(dfv), freq, dfp.reset_index(), return_open=True, remove_not_in_train_col='userID'):\n",
    "        dftrain_filter = dftrain[dftrain['itemID'].isin(openproposals)]\n",
    "        \n",
    "        results.append({\n",
    "            'f': freq,\n",
    "            't': t,\n",
    "            # 'proposals in train': dftrain['itemID'].nunique(),\n",
    "            # 'votes in train': len(dftrain),\n",
    "            'votes in open proposals (train)': len(dftrain_filter),\n",
    "            'users in open proposals (train)': dftrain_filter['userID'].nunique(),\n",
    "            'open proposals': len(openproposals),\n",
    "            'votes in test': len(dftest),\n",
    "            'users in test': dftest['userID'].nunique(),\n",
    "        })\n",
    "\n",
    "res = pd.DataFrame(results)\n",
    "res['vpp test'] = res['votes in test'] / res['open proposals']\n",
    "res['vpu test'] = res['votes in test'] / res['users in test']\n",
    "res.groupby('f').describe(percentiles=[]).T[freqs]"
   ]
  },
  {
   "cell_type": "code",
   "execution_count": 14,
   "id": "754442bc-552b-413e-92e5-7f27f4ef7c2c",
   "metadata": {
    "execution": {
     "iopub.execute_input": "2024-03-01T13:18:11.044575Z",
     "iopub.status.busy": "2024-03-01T13:18:11.044444Z",
     "iopub.status.idle": "2024-03-01T13:18:11.050535Z",
     "shell.execute_reply": "2024-03-01T13:18:11.050280Z"
    },
    "papermill": {
     "duration": 0.015088,
     "end_time": "2024-03-01T13:18:11.052029",
     "exception": false,
     "start_time": "2024-03-01T13:18:11.036941",
     "status": "completed"
    },
    "tags": []
   },
   "outputs": [
    {
     "name": "stderr",
     "output_type": "stream",
     "text": [
      "/tmp/ipykernel_190731/4276310820.py:1: FutureWarning: The default value of numeric_only in DataFrameGroupBy.sum is deprecated. In a future version, numeric_only will default to False. Either specify numeric_only or select only columns which should be valid for the function.\n",
      "  res.groupby('f').sum().T[freqs]\n"
     ]
    },
    {
     "data": {
      "text/html": [
       "<div>\n",
       "<style scoped>\n",
       "    .dataframe tbody tr th:only-of-type {\n",
       "        vertical-align: middle;\n",
       "    }\n",
       "\n",
       "    .dataframe tbody tr th {\n",
       "        vertical-align: top;\n",
       "    }\n",
       "\n",
       "    .dataframe thead th {\n",
       "        text-align: right;\n",
       "    }\n",
       "</style>\n",
       "<table border=\"1\" class=\"dataframe\">\n",
       "  <thead>\n",
       "    <tr style=\"text-align: right;\">\n",
       "      <th>f</th>\n",
       "      <th>W-SUN</th>\n",
       "      <th>W-MON</th>\n",
       "      <th>W-TUE</th>\n",
       "      <th>W-WED</th>\n",
       "      <th>W-THU</th>\n",
       "      <th>W-SAT</th>\n",
       "    </tr>\n",
       "  </thead>\n",
       "  <tbody>\n",
       "    <tr>\n",
       "      <th>votes in open proposals (train)</th>\n",
       "      <td>107379.000000</td>\n",
       "      <td>109105.000000</td>\n",
       "      <td>107692.000000</td>\n",
       "      <td>104946.000000</td>\n",
       "      <td>102235.000000</td>\n",
       "      <td>103117.000000</td>\n",
       "    </tr>\n",
       "    <tr>\n",
       "      <th>users in open proposals (train)</th>\n",
       "      <td>33012.000000</td>\n",
       "      <td>33639.000000</td>\n",
       "      <td>33415.000000</td>\n",
       "      <td>32982.000000</td>\n",
       "      <td>33152.000000</td>\n",
       "      <td>32373.000000</td>\n",
       "    </tr>\n",
       "    <tr>\n",
       "      <th>open proposals</th>\n",
       "      <td>2247.000000</td>\n",
       "      <td>2224.000000</td>\n",
       "      <td>2230.000000</td>\n",
       "      <td>2237.000000</td>\n",
       "      <td>2244.000000</td>\n",
       "      <td>2260.000000</td>\n",
       "    </tr>\n",
       "    <tr>\n",
       "      <th>votes in test</th>\n",
       "      <td>30503.000000</td>\n",
       "      <td>27057.000000</td>\n",
       "      <td>28090.000000</td>\n",
       "      <td>31292.000000</td>\n",
       "      <td>32438.000000</td>\n",
       "      <td>33170.000000</td>\n",
       "    </tr>\n",
       "    <tr>\n",
       "      <th>users in test</th>\n",
       "      <td>11719.000000</td>\n",
       "      <td>11059.000000</td>\n",
       "      <td>11597.000000</td>\n",
       "      <td>12171.000000</td>\n",
       "      <td>12143.000000</td>\n",
       "      <td>12345.000000</td>\n",
       "    </tr>\n",
       "    <tr>\n",
       "      <th>vpp test</th>\n",
       "      <td>1785.529830</td>\n",
       "      <td>1606.926065</td>\n",
       "      <td>1728.992980</td>\n",
       "      <td>1936.258304</td>\n",
       "      <td>1973.366976</td>\n",
       "      <td>1907.172916</td>\n",
       "    </tr>\n",
       "    <tr>\n",
       "      <th>vpu test</th>\n",
       "      <td>271.226449</td>\n",
       "      <td>257.105070</td>\n",
       "      <td>258.348906</td>\n",
       "      <td>267.804750</td>\n",
       "      <td>276.598500</td>\n",
       "      <td>278.981847</td>\n",
       "    </tr>\n",
       "  </tbody>\n",
       "</table>\n",
       "</div>"
      ],
      "text/plain": [
       "f                                        W-SUN          W-MON          W-TUE  \\\n",
       "votes in open proposals (train)  107379.000000  109105.000000  107692.000000   \n",
       "users in open proposals (train)   33012.000000   33639.000000   33415.000000   \n",
       "open proposals                     2247.000000    2224.000000    2230.000000   \n",
       "votes in test                     30503.000000   27057.000000   28090.000000   \n",
       "users in test                     11719.000000   11059.000000   11597.000000   \n",
       "vpp test                           1785.529830    1606.926065    1728.992980   \n",
       "vpu test                            271.226449     257.105070     258.348906   \n",
       "\n",
       "f                                        W-WED          W-THU          W-SAT  \n",
       "votes in open proposals (train)  104946.000000  102235.000000  103117.000000  \n",
       "users in open proposals (train)   32982.000000   33152.000000   32373.000000  \n",
       "open proposals                     2237.000000    2244.000000    2260.000000  \n",
       "votes in test                     31292.000000   32438.000000   33170.000000  \n",
       "users in test                     12171.000000   12143.000000   12345.000000  \n",
       "vpp test                           1936.258304    1973.366976    1907.172916  \n",
       "vpu test                            267.804750     276.598500     278.981847  "
      ]
     },
     "execution_count": 14,
     "metadata": {},
     "output_type": "execute_result"
    }
   ],
   "source": [
    "res.groupby('f').sum().T[freqs]"
   ]
  },
  {
   "cell_type": "markdown",
   "id": "89d7a63a-6ba5-440f-8ecf-3e56cb474fe4",
   "metadata": {
    "papermill": {
     "duration": 0.007063,
     "end_time": "2024-03-01T13:18:11.066443",
     "exception": false,
     "start_time": "2024-03-01T13:18:11.059380",
     "status": "completed"
    },
    "tags": []
   },
   "source": [
    "# Defining the baseline recommendator\n",
    "\n",
    "Our baseline RecSys will be just recommending the top most famous proposals at time $t$."
   ]
  },
  {
   "cell_type": "code",
   "execution_count": 15,
   "id": "de82883d-f87e-4de9-84c2-8535d6575d5a",
   "metadata": {
    "execution": {
     "iopub.execute_input": "2024-03-01T13:18:11.080704Z",
     "iopub.status.busy": "2024-03-01T13:18:11.080566Z",
     "iopub.status.idle": "2024-03-01T13:18:11.083963Z",
     "shell.execute_reply": "2024-03-01T13:18:11.083750Z"
    },
    "papermill": {
     "duration": 0.011991,
     "end_time": "2024-03-01T13:18:11.085245",
     "exception": false,
     "start_time": "2024-03-01T13:18:11.073254",
     "status": "completed"
    },
    "tags": []
   },
   "outputs": [],
   "source": [
    "from recommenders.datasets.pandas_df_utils import filter_by\n",
    "\n",
    "\"\"\"\n",
    "def getBaselineRecommendations(train: pd.DataFrame, users, k: int = 5, remove_train=True):\n",
    "    bestVotes = train['itemID'].value_counts()\n",
    "    df = pd.DataFrame(it.product(users, bestVotes.index), columns=['userID', 'itemID'])\n",
    "\n",
    "    if remove_train:\n",
    "        df = filter_by(df, train, ['userID', 'itemID'])\n",
    "        \n",
    "    df = df.groupby('userID').head(k).reset_index(drop=True)\n",
    "\n",
    "    df['prediction'] = True\n",
    "    return df\n",
    "\"\"\"\n",
    "def getBaselineRecommendations(train: pd.DataFrame, users, proposals, k: int = 5, remove_train=True):\n",
    "    bestVotes = train[train['itemID'].isin(proposals)]['itemID'].value_counts()\n",
    "    # bestVotes = bestVotes[bestVotes.index.isin(proposals)]\n",
    "\n",
    "    df = pd.DataFrame(it.product(users, bestVotes.index), columns=['userID', 'itemID'])\n",
    "\n",
    "    # Avoid recommending already voted proposals (they wont be in the test set)\n",
    "    if remove_train:\n",
    "        df = filter_by(df, train, ['userID', 'itemID'])\n",
    "    \n",
    "    df = df.groupby('userID').head(k).reset_index(drop=True)\n",
    "\n",
    "    df['prediction'] = True\n",
    "    return df\n",
    "\n",
    "# getBaselineRecommendations(folds[0][0], folds[0][1]['userID'].unique(), 3)"
   ]
  },
  {
   "cell_type": "markdown",
   "id": "2782210e-715d-41af-9841-a79a749876f4",
   "metadata": {
    "papermill": {
     "duration": 0.006855,
     "end_time": "2024-03-01T13:18:11.098953",
     "exception": false,
     "start_time": "2024-03-01T13:18:11.092098",
     "status": "completed"
    },
    "tags": []
   },
   "source": [
    "# Evaluating the baseline recommendator with `timeIntervalSplit`"
   ]
  },
  {
   "cell_type": "code",
   "execution_count": 16,
   "id": "1169dd47-b35a-4da9-b1f9-87b97172e4fe",
   "metadata": {
    "execution": {
     "iopub.execute_input": "2024-03-01T13:18:11.112946Z",
     "iopub.status.busy": "2024-03-01T13:18:11.112808Z",
     "iopub.status.idle": "2024-03-01T13:18:11.130887Z",
     "shell.execute_reply": "2024-03-01T13:18:11.130654Z"
    },
    "papermill": {
     "duration": 0.026661,
     "end_time": "2024-03-01T13:18:11.132264",
     "exception": false,
     "start_time": "2024-03-01T13:18:11.105603",
     "status": "completed"
    },
    "tags": []
   },
   "outputs": [],
   "source": [
    "from recommenders.evaluation.python_evaluation import map_at_k, ndcg_at_k, precision_at_k, recall_at_k"
   ]
  },
  {
   "cell_type": "code",
   "execution_count": 17,
   "id": "8ab78ef3-7794-4bc9-bdab-87cca383ac5f",
   "metadata": {
    "execution": {
     "iopub.execute_input": "2024-03-01T13:18:11.146750Z",
     "iopub.status.busy": "2024-03-01T13:18:11.146608Z",
     "iopub.status.idle": "2024-03-01T13:18:11.148377Z",
     "shell.execute_reply": "2024-03-01T13:18:11.148165Z"
    },
    "papermill": {
     "duration": 0.010336,
     "end_time": "2024-03-01T13:18:11.149579",
     "exception": false,
     "start_time": "2024-03-01T13:18:11.139243",
     "status": "completed"
    },
    "tags": []
   },
   "outputs": [],
   "source": [
    "def check_train_recs(df, filter_by_df, filter_by_cols):\n",
    "    return any(df.set_index(filter_by_cols).index.isin(\n",
    "        filter_by_df.set_index(filter_by_cols).index\n",
    "    ))"
   ]
  },
  {
   "cell_type": "code",
   "execution_count": 18,
   "id": "7a26a3aa-58aa-46e1-8cdd-75f8c374d3e6",
   "metadata": {
    "editable": true,
    "execution": {
     "iopub.execute_input": "2024-03-01T13:18:11.163944Z",
     "iopub.status.busy": "2024-03-01T13:18:11.163847Z",
     "iopub.status.idle": "2024-03-01T13:18:15.331582Z",
     "shell.execute_reply": "2024-03-01T13:18:15.331232Z"
    },
    "papermill": {
     "duration": 4.176009,
     "end_time": "2024-03-01T13:18:15.332473",
     "exception": false,
     "start_time": "2024-03-01T13:18:11.156464",
     "status": "completed"
    },
    "slideshow": {
     "slide_type": ""
    },
    "tags": []
   },
   "outputs": [
    {
     "name": "stdout",
     "output_type": "stream",
     "text": [
      "===== Training on fold 0 (t: 2021-08-04 00:57:07)  =====\n",
      "Currently open proposals: 9\n",
      "Train votes in open proposals: 142\n",
      "Test votes in open proposals:   48\n",
      "\n",
      "===== Training on fold 1 (t: 2021-10-14 16:08:30)  =====\n",
      "Currently open proposals: 14\n",
      "Train votes in open proposals: 158\n",
      "Test votes in open proposals:  132\n"
     ]
    },
    {
     "name": "stdout",
     "output_type": "stream",
     "text": [
      "\n",
      "===== Training on fold 2 (t: 2021-12-25 02:40:07)  =====\n",
      "Currently open proposals: 29\n",
      "Train votes in open proposals: 756\n",
      "Test votes in open proposals:   99\n",
      "\n",
      "===== Training on fold 3 (t: 2022-03-06 19:14:35)  =====\n",
      "Currently open proposals: 18\n",
      "Train votes in open proposals: 489\n",
      "Test votes in open proposals:  157\n"
     ]
    },
    {
     "name": "stdout",
     "output_type": "stream",
     "text": [
      "\n",
      "===== Training on fold 4 (t: 2022-05-17 08:44:54)  =====\n",
      "Currently open proposals: 33\n",
      "Train votes in open proposals: 578\n",
      "Test votes in open proposals:  283\n"
     ]
    },
    {
     "name": "stdout",
     "output_type": "stream",
     "text": [
      "\n",
      "===== Training on fold 5 (t: 2022-07-27 20:58:07)  =====\n",
      "Currently open proposals: 11\n",
      "Train votes in open proposals: 399\n",
      "Test votes in open proposals:  219\n"
     ]
    },
    {
     "name": "stdout",
     "output_type": "stream",
     "text": [
      "\n",
      "===== Training on fold 6 (t: 2022-10-07 11:03:04)  =====\n",
      "Currently open proposals: 15\n",
      "Train votes in open proposals: 735\n",
      "Test votes in open proposals:  252\n"
     ]
    },
    {
     "name": "stdout",
     "output_type": "stream",
     "text": [
      "\n",
      "===== Training on fold 7 (t: 2022-12-17 23:43:43)  =====\n",
      "Currently open proposals: 27\n",
      "Train votes in open proposals: 1537\n",
      "Test votes in open proposals:  566\n"
     ]
    },
    {
     "name": "stdout",
     "output_type": "stream",
     "text": [
      "\n",
      "===== Training on fold 8 (t: 2023-02-27 12:25:31)  =====\n",
      "Currently open proposals: 4\n",
      "Train votes in open proposals: 1037\n",
      "Test votes in open proposals:  161\n"
     ]
    },
    {
     "name": "stdout",
     "output_type": "stream",
     "text": [
      "\n",
      "===== Training on fold 9 (t: 2023-05-10 01:45:19)  =====\n",
      "Currently open proposals: 18\n",
      "Train votes in open proposals: 1658\n",
      "Test votes in open proposals:  341\n"
     ]
    },
    {
     "name": "stdout",
     "output_type": "stream",
     "text": [
      "\n"
     ]
    }
   ],
   "source": [
    "from collections import defaultdict\n",
    "\n",
    "folds = list(timeIntervalSplit(df, N_SPLITS, skip=SKIP_SPLIT, remove_not_in_train_col='userID'))\n",
    "metrics_f = { 'precision':precision_at_k, 'ndcg': ndcg_at_k, 'ndcg': ndcg_at_k, 'map': map_at_k, 'recall': recall_at_k, }\n",
    "# metrics = {n+f'@{k}':[] for k,n in it.product(K_RECOMMENDATIONS, metrics_f.keys())}\n",
    "# perfectmetrics = {n+f'@{k}':[] for k,n in it.product(K_RECOMMENDATIONS, metrics_f.keys())}\n",
    "metrics = defaultdict(list)\n",
    "perfectmetrics = defaultdict(list)\n",
    "\n",
    "for i, (train, test) in enumerate(folds):\n",
    "    t = train.timestamp.max()\n",
    "    print(f\"===== Training on fold {i} (t: {t})  =====\")\n",
    "    # print(f\"Ratings train: {len(train)}, test: {len(test)}\")\n",
    "\n",
    "    open_proposals = dfp[(dfp['start'] < t) & (t < dfp['end']) ]['id'].unique()\n",
    "    print(f\"Currently open proposals: {len(open_proposals)}\")\n",
    "\n",
    "    train_filtered = train[train['itemID'].isin(open_proposals) ]\n",
    "    test_filtered = test[test['itemID'].isin(open_proposals) ]\n",
    "    print(f\"Train votes in open proposals: {len(train_filtered):3}\")\n",
    "    print(f\"Test votes in open proposals:  {len(test_filtered):3}\")    \n",
    "\n",
    "    # print('Tested score:')\n",
    "    for k_recs in K_RECOMMENDATIONS:\n",
    "        recs = getBaselineRecommendations(train, test_filtered['userID'].unique(), open_proposals, k_recs)\n",
    "    \n",
    "        if check_train_recs(recs, train_filtered, ['userID', 'itemID']):\n",
    "            print(\"There are recommendations that were true in training\")\n",
    "            assert False\n",
    "        \n",
    "        for m, f in metrics_f.items():\n",
    "            r = f(test_filtered, recs, k=k_recs)\n",
    "            # print(f'  {m}@{k_recs}:'.ljust(15), f'{r:.3}')\n",
    "            metrics[m+f'@{k_recs}'].append(r)\n",
    "            \n",
    "        # print('Perfect predictor score:')\n",
    "        recs = test_filtered.copy()\n",
    "        recs['prediction'] = True\n",
    "        for m, f in metrics_f.items():\n",
    "            r = f(test_filtered, recs, k=k_recs)\n",
    "            # print(f'  {m}@{k_recs}:'.ljust(15), f'{r:.3}')\n",
    "            perfectmetrics[m+f'@{k_recs}'].append(r)\n",
    "    \n",
    "    print()"
   ]
  },
  {
   "cell_type": "code",
   "execution_count": 19,
   "id": "a640f932-38f9-4a2b-bc34-aaea41b6469a",
   "metadata": {
    "editable": true,
    "execution": {
     "iopub.execute_input": "2024-03-01T13:18:15.348507Z",
     "iopub.status.busy": "2024-03-01T13:18:15.348383Z",
     "iopub.status.idle": "2024-03-01T13:18:15.351735Z",
     "shell.execute_reply": "2024-03-01T13:18:15.351494Z"
    },
    "papermill": {
     "duration": 0.012369,
     "end_time": "2024-03-01T13:18:15.352556",
     "exception": false,
     "start_time": "2024-03-01T13:18:15.340187",
     "status": "completed"
    },
    "slideshow": {
     "slide_type": ""
    },
    "tags": []
   },
   "outputs": [],
   "source": [
    "from src import paths\n",
    "\n",
    "pd.DataFrame(metrics).to_csv(paths.baseline_mp(ORG_NAME, N_SPLITS), index=False)"
   ]
  },
  {
   "cell_type": "code",
   "execution_count": 20,
   "id": "905d7fd0-1056-4d9e-b0a1-06cbe374021e",
   "metadata": {
    "execution": {
     "iopub.execute_input": "2024-03-01T13:18:15.367507Z",
     "iopub.status.busy": "2024-03-01T13:18:15.367399Z",
     "iopub.status.idle": "2024-03-01T13:18:15.486790Z",
     "shell.execute_reply": "2024-03-01T13:18:15.486515Z"
    },
    "papermill": {
     "duration": 0.128488,
     "end_time": "2024-03-01T13:18:15.488192",
     "exception": false,
     "start_time": "2024-03-01T13:18:15.359704",
     "status": "completed"
    },
    "tags": []
   },
   "outputs": [
    {
     "data": {
      "text/html": [
       "<div>\n",
       "<style scoped>\n",
       "    .dataframe tbody tr th:only-of-type {\n",
       "        vertical-align: middle;\n",
       "    }\n",
       "\n",
       "    .dataframe tbody tr th {\n",
       "        vertical-align: top;\n",
       "    }\n",
       "\n",
       "    .dataframe thead th {\n",
       "        text-align: right;\n",
       "    }\n",
       "</style>\n",
       "<table border=\"1\" class=\"dataframe\">\n",
       "  <thead>\n",
       "    <tr style=\"text-align: right;\">\n",
       "      <th></th>\n",
       "      <th>precision@5</th>\n",
       "      <th>ndcg@5</th>\n",
       "      <th>map@5</th>\n",
       "      <th>recall@5</th>\n",
       "      <th>precision@10</th>\n",
       "      <th>ndcg@10</th>\n",
       "      <th>map@10</th>\n",
       "      <th>recall@10</th>\n",
       "      <th>precision@15</th>\n",
       "      <th>ndcg@15</th>\n",
       "      <th>map@15</th>\n",
       "      <th>recall@15</th>\n",
       "      <th>perfect precision@5</th>\n",
       "      <th>perfect precision@10</th>\n",
       "    </tr>\n",
       "  </thead>\n",
       "  <tbody>\n",
       "    <tr>\n",
       "      <th>count</th>\n",
       "      <td>10.000000</td>\n",
       "      <td>10.000000</td>\n",
       "      <td>10.000000</td>\n",
       "      <td>10.000000</td>\n",
       "      <td>10.000000</td>\n",
       "      <td>10.000000</td>\n",
       "      <td>10.000000</td>\n",
       "      <td>10.000000</td>\n",
       "      <td>10.000000</td>\n",
       "      <td>10.000000</td>\n",
       "      <td>10.000000</td>\n",
       "      <td>10.000000</td>\n",
       "      <td>10.000000</td>\n",
       "      <td>10.000000</td>\n",
       "    </tr>\n",
       "    <tr>\n",
       "      <th>mean</th>\n",
       "      <td>0.145534</td>\n",
       "      <td>0.294985</td>\n",
       "      <td>0.233064</td>\n",
       "      <td>0.376813</td>\n",
       "      <td>0.136072</td>\n",
       "      <td>0.396818</td>\n",
       "      <td>0.290771</td>\n",
       "      <td>0.672871</td>\n",
       "      <td>0.113898</td>\n",
       "      <td>0.439916</td>\n",
       "      <td>0.311207</td>\n",
       "      <td>0.804765</td>\n",
       "      <td>0.376084</td>\n",
       "      <td>0.211757</td>\n",
       "    </tr>\n",
       "    <tr>\n",
       "      <th>std</th>\n",
       "      <td>0.074635</td>\n",
       "      <td>0.202287</td>\n",
       "      <td>0.186175</td>\n",
       "      <td>0.274633</td>\n",
       "      <td>0.045895</td>\n",
       "      <td>0.165773</td>\n",
       "      <td>0.168256</td>\n",
       "      <td>0.264062</td>\n",
       "      <td>0.038221</td>\n",
       "      <td>0.152683</td>\n",
       "      <td>0.164084</td>\n",
       "      <td>0.213010</td>\n",
       "      <td>0.092464</td>\n",
       "      <td>0.063021</td>\n",
       "    </tr>\n",
       "    <tr>\n",
       "      <th>min</th>\n",
       "      <td>0.013223</td>\n",
       "      <td>0.034569</td>\n",
       "      <td>0.030151</td>\n",
       "      <td>0.038666</td>\n",
       "      <td>0.057447</td>\n",
       "      <td>0.175352</td>\n",
       "      <td>0.090313</td>\n",
       "      <td>0.308951</td>\n",
       "      <td>0.059574</td>\n",
       "      <td>0.259346</td>\n",
       "      <td>0.126316</td>\n",
       "      <td>0.501199</td>\n",
       "      <td>0.214876</td>\n",
       "      <td>0.109091</td>\n",
       "    </tr>\n",
       "    <tr>\n",
       "      <th>25%</th>\n",
       "      <td>0.092749</td>\n",
       "      <td>0.175023</td>\n",
       "      <td>0.097710</td>\n",
       "      <td>0.271048</td>\n",
       "      <td>0.105087</td>\n",
       "      <td>0.313149</td>\n",
       "      <td>0.154307</td>\n",
       "      <td>0.449144</td>\n",
       "      <td>0.091193</td>\n",
       "      <td>0.329317</td>\n",
       "      <td>0.175903</td>\n",
       "      <td>0.653276</td>\n",
       "      <td>0.345361</td>\n",
       "      <td>0.183017</td>\n",
       "    </tr>\n",
       "    <tr>\n",
       "      <th>50%</th>\n",
       "      <td>0.153866</td>\n",
       "      <td>0.274016</td>\n",
       "      <td>0.197997</td>\n",
       "      <td>0.324772</td>\n",
       "      <td>0.148637</td>\n",
       "      <td>0.383932</td>\n",
       "      <td>0.297207</td>\n",
       "      <td>0.640202</td>\n",
       "      <td>0.113628</td>\n",
       "      <td>0.425566</td>\n",
       "      <td>0.313713</td>\n",
       "      <td>0.846912</td>\n",
       "      <td>0.369055</td>\n",
       "      <td>0.209502</td>\n",
       "    </tr>\n",
       "    <tr>\n",
       "      <th>75%</th>\n",
       "      <td>0.194445</td>\n",
       "      <td>0.341228</td>\n",
       "      <td>0.311422</td>\n",
       "      <td>0.372638</td>\n",
       "      <td>0.172823</td>\n",
       "      <td>0.443058</td>\n",
       "      <td>0.333320</td>\n",
       "      <td>0.915370</td>\n",
       "      <td>0.127746</td>\n",
       "      <td>0.515608</td>\n",
       "      <td>0.370492</td>\n",
       "      <td>1.000000</td>\n",
       "      <td>0.448175</td>\n",
       "      <td>0.254412</td>\n",
       "    </tr>\n",
       "    <tr>\n",
       "      <th>max</th>\n",
       "      <td>0.268333</td>\n",
       "      <td>0.747259</td>\n",
       "      <td>0.659491</td>\n",
       "      <td>1.000000</td>\n",
       "      <td>0.190909</td>\n",
       "      <td>0.747259</td>\n",
       "      <td>0.659491</td>\n",
       "      <td>1.000000</td>\n",
       "      <td>0.190909</td>\n",
       "      <td>0.747259</td>\n",
       "      <td>0.659491</td>\n",
       "      <td>1.000000</td>\n",
       "      <td>0.497674</td>\n",
       "      <td>0.308721</td>\n",
       "    </tr>\n",
       "  </tbody>\n",
       "</table>\n",
       "</div>"
      ],
      "text/plain": [
       "       precision@5     ndcg@5      map@5   recall@5  precision@10    ndcg@10  \\\n",
       "count    10.000000  10.000000  10.000000  10.000000     10.000000  10.000000   \n",
       "mean      0.145534   0.294985   0.233064   0.376813      0.136072   0.396818   \n",
       "std       0.074635   0.202287   0.186175   0.274633      0.045895   0.165773   \n",
       "min       0.013223   0.034569   0.030151   0.038666      0.057447   0.175352   \n",
       "25%       0.092749   0.175023   0.097710   0.271048      0.105087   0.313149   \n",
       "50%       0.153866   0.274016   0.197997   0.324772      0.148637   0.383932   \n",
       "75%       0.194445   0.341228   0.311422   0.372638      0.172823   0.443058   \n",
       "max       0.268333   0.747259   0.659491   1.000000      0.190909   0.747259   \n",
       "\n",
       "          map@10  recall@10  precision@15    ndcg@15     map@15  recall@15  \\\n",
       "count  10.000000  10.000000     10.000000  10.000000  10.000000  10.000000   \n",
       "mean    0.290771   0.672871      0.113898   0.439916   0.311207   0.804765   \n",
       "std     0.168256   0.264062      0.038221   0.152683   0.164084   0.213010   \n",
       "min     0.090313   0.308951      0.059574   0.259346   0.126316   0.501199   \n",
       "25%     0.154307   0.449144      0.091193   0.329317   0.175903   0.653276   \n",
       "50%     0.297207   0.640202      0.113628   0.425566   0.313713   0.846912   \n",
       "75%     0.333320   0.915370      0.127746   0.515608   0.370492   1.000000   \n",
       "max     0.659491   1.000000      0.190909   0.747259   0.659491   1.000000   \n",
       "\n",
       "       perfect precision@5  perfect precision@10  \n",
       "count            10.000000             10.000000  \n",
       "mean              0.376084              0.211757  \n",
       "std               0.092464              0.063021  \n",
       "min               0.214876              0.109091  \n",
       "25%               0.345361              0.183017  \n",
       "50%               0.369055              0.209502  \n",
       "75%               0.448175              0.254412  \n",
       "max               0.497674              0.308721  "
      ]
     },
     "execution_count": 20,
     "metadata": {},
     "output_type": "execute_result"
    },
    {
     "data": {
      "image/png": "[encoded data removed]",
      "text/plain": [
       "<Figure size 640x480 with 1 Axes>"
      ]
     },
     "metadata": {},
     "output_type": "display_data"
    }
   ],
   "source": [
    "mdf = pd.DataFrame(metrics)\n",
    "mdf['perfect precision@5'] = perfectmetrics['precision@5']\n",
    "mdf['perfect precision@10'] = perfectmetrics['precision@10']\n",
    "mdf[['precision@5', 'perfect precision@5', 'precision@10', 'perfect precision@10']].plot(title='Evaluación modelo baseline MP')\n",
    "mdf.describe()"
   ]
  },
  {
   "cell_type": "code",
   "execution_count": 21,
   "id": "0c7cda72-79b8-4539-84d6-c8ddd64cb3cb",
   "metadata": {
    "execution": {
     "iopub.execute_input": "2024-03-01T13:18:15.505019Z",
     "iopub.status.busy": "2024-03-01T13:18:15.504909Z",
     "iopub.status.idle": "2024-03-01T13:18:15.654010Z",
     "shell.execute_reply": "2024-03-01T13:18:15.653696Z"
    },
    "papermill": {
     "duration": 0.158388,
     "end_time": "2024-03-01T13:18:15.654775",
     "exception": false,
     "start_time": "2024-03-01T13:18:15.496387",
     "status": "completed"
    },
    "tags": []
   },
   "outputs": [
    {
     "data": {
      "text/html": [
       "<div>\n",
       "<style scoped>\n",
       "    .dataframe tbody tr th:only-of-type {\n",
       "        vertical-align: middle;\n",
       "    }\n",
       "\n",
       "    .dataframe tbody tr th {\n",
       "        vertical-align: top;\n",
       "    }\n",
       "\n",
       "    .dataframe thead th {\n",
       "        text-align: right;\n",
       "    }\n",
       "</style>\n",
       "<table border=\"1\" class=\"dataframe\">\n",
       "  <thead>\n",
       "    <tr style=\"text-align: right;\">\n",
       "      <th></th>\n",
       "      <th>precision@5</th>\n",
       "      <th>ndcg@5</th>\n",
       "      <th>map@5</th>\n",
       "      <th>recall@5</th>\n",
       "      <th>precision@10</th>\n",
       "      <th>ndcg@10</th>\n",
       "      <th>map@10</th>\n",
       "      <th>recall@10</th>\n",
       "      <th>precision@15</th>\n",
       "      <th>ndcg@15</th>\n",
       "      <th>map@15</th>\n",
       "      <th>recall@15</th>\n",
       "    </tr>\n",
       "  </thead>\n",
       "  <tbody>\n",
       "    <tr>\n",
       "      <th>count</th>\n",
       "      <td>10.000000</td>\n",
       "      <td>10.0</td>\n",
       "      <td>10.000000</td>\n",
       "      <td>10.000000</td>\n",
       "      <td>10.000000</td>\n",
       "      <td>10.0</td>\n",
       "      <td>10.000000</td>\n",
       "      <td>10.000000</td>\n",
       "      <td>10.000000</td>\n",
       "      <td>10.0</td>\n",
       "      <td>10.000000</td>\n",
       "      <td>10.000000</td>\n",
       "    </tr>\n",
       "    <tr>\n",
       "      <th>mean</th>\n",
       "      <td>0.376084</td>\n",
       "      <td>1.0</td>\n",
       "      <td>0.970333</td>\n",
       "      <td>0.970333</td>\n",
       "      <td>0.211757</td>\n",
       "      <td>1.0</td>\n",
       "      <td>0.995063</td>\n",
       "      <td>0.995063</td>\n",
       "      <td>0.144764</td>\n",
       "      <td>1.0</td>\n",
       "      <td>0.998419</td>\n",
       "      <td>0.998419</td>\n",
       "    </tr>\n",
       "    <tr>\n",
       "      <th>std</th>\n",
       "      <td>0.092464</td>\n",
       "      <td>0.0</td>\n",
       "      <td>0.024256</td>\n",
       "      <td>0.024256</td>\n",
       "      <td>0.063021</td>\n",
       "      <td>0.0</td>\n",
       "      <td>0.008644</td>\n",
       "      <td>0.008644</td>\n",
       "      <td>0.044922</td>\n",
       "      <td>0.0</td>\n",
       "      <td>0.004339</td>\n",
       "      <td>0.004339</td>\n",
       "    </tr>\n",
       "    <tr>\n",
       "      <th>min</th>\n",
       "      <td>0.214876</td>\n",
       "      <td>1.0</td>\n",
       "      <td>0.923537</td>\n",
       "      <td>0.923537</td>\n",
       "      <td>0.109091</td>\n",
       "      <td>1.0</td>\n",
       "      <td>0.973738</td>\n",
       "      <td>0.973738</td>\n",
       "      <td>0.072727</td>\n",
       "      <td>1.0</td>\n",
       "      <td>0.986203</td>\n",
       "      <td>0.986203</td>\n",
       "    </tr>\n",
       "    <tr>\n",
       "      <th>25%</th>\n",
       "      <td>0.345361</td>\n",
       "      <td>1.0</td>\n",
       "      <td>0.956418</td>\n",
       "      <td>0.956418</td>\n",
       "      <td>0.183017</td>\n",
       "      <td>1.0</td>\n",
       "      <td>0.995568</td>\n",
       "      <td>0.995568</td>\n",
       "      <td>0.122011</td>\n",
       "      <td>1.0</td>\n",
       "      <td>1.000000</td>\n",
       "      <td>1.000000</td>\n",
       "    </tr>\n",
       "    <tr>\n",
       "      <th>50%</th>\n",
       "      <td>0.369055</td>\n",
       "      <td>1.0</td>\n",
       "      <td>0.971791</td>\n",
       "      <td>0.971791</td>\n",
       "      <td>0.209502</td>\n",
       "      <td>1.0</td>\n",
       "      <td>0.999483</td>\n",
       "      <td>0.999483</td>\n",
       "      <td>0.141087</td>\n",
       "      <td>1.0</td>\n",
       "      <td>1.000000</td>\n",
       "      <td>1.000000</td>\n",
       "    </tr>\n",
       "    <tr>\n",
       "      <th>75%</th>\n",
       "      <td>0.448175</td>\n",
       "      <td>1.0</td>\n",
       "      <td>0.988547</td>\n",
       "      <td>0.988547</td>\n",
       "      <td>0.254412</td>\n",
       "      <td>1.0</td>\n",
       "      <td>1.000000</td>\n",
       "      <td>1.000000</td>\n",
       "      <td>0.177015</td>\n",
       "      <td>1.0</td>\n",
       "      <td>1.000000</td>\n",
       "      <td>1.000000</td>\n",
       "    </tr>\n",
       "    <tr>\n",
       "      <th>max</th>\n",
       "      <td>0.497674</td>\n",
       "      <td>1.0</td>\n",
       "      <td>1.000000</td>\n",
       "      <td>1.000000</td>\n",
       "      <td>0.308721</td>\n",
       "      <td>1.0</td>\n",
       "      <td>1.000000</td>\n",
       "      <td>1.000000</td>\n",
       "      <td>0.217054</td>\n",
       "      <td>1.0</td>\n",
       "      <td>1.000000</td>\n",
       "      <td>1.000000</td>\n",
       "    </tr>\n",
       "  </tbody>\n",
       "</table>\n",
       "</div>"
      ],
      "text/plain": [
       "       precision@5  ndcg@5      map@5   recall@5  precision@10  ndcg@10  \\\n",
       "count    10.000000    10.0  10.000000  10.000000     10.000000     10.0   \n",
       "mean      0.376084     1.0   0.970333   0.970333      0.211757      1.0   \n",
       "std       0.092464     0.0   0.024256   0.024256      0.063021      0.0   \n",
       "min       0.214876     1.0   0.923537   0.923537      0.109091      1.0   \n",
       "25%       0.345361     1.0   0.956418   0.956418      0.183017      1.0   \n",
       "50%       0.369055     1.0   0.971791   0.971791      0.209502      1.0   \n",
       "75%       0.448175     1.0   0.988547   0.988547      0.254412      1.0   \n",
       "max       0.497674     1.0   1.000000   1.000000      0.308721      1.0   \n",
       "\n",
       "          map@10  recall@10  precision@15  ndcg@15     map@15  recall@15  \n",
       "count  10.000000  10.000000     10.000000     10.0  10.000000  10.000000  \n",
       "mean    0.995063   0.995063      0.144764      1.0   0.998419   0.998419  \n",
       "std     0.008644   0.008644      0.044922      0.0   0.004339   0.004339  \n",
       "min     0.973738   0.973738      0.072727      1.0   0.986203   0.986203  \n",
       "25%     0.995568   0.995568      0.122011      1.0   1.000000   1.000000  \n",
       "50%     0.999483   0.999483      0.141087      1.0   1.000000   1.000000  \n",
       "75%     1.000000   1.000000      0.177015      1.0   1.000000   1.000000  \n",
       "max     1.000000   1.000000      0.217054      1.0   1.000000   1.000000  "
      ]
     },
     "execution_count": 21,
     "metadata": {},
     "output_type": "execute_result"
    },
    {
     "data": {
      "image/png": "[encoded data removed]",
      "text/plain": [
       "<Figure size 640x480 with 1 Axes>"
      ]
     },
     "metadata": {},
     "output_type": "display_data"
    }
   ],
   "source": [
    "pmdf = pd.DataFrame(perfectmetrics)\n",
    "pmdf.plot(title='Evaluación clasificador perfecto')\n",
    "pmdf.describe()"
   ]
  },
  {
   "cell_type": "markdown",
   "id": "07650ad8-91df-47db-b55e-138ee3889eab",
   "metadata": {
    "papermill": {
     "duration": 0.008128,
     "end_time": "2024-03-01T13:18:15.671527",
     "exception": false,
     "start_time": "2024-03-01T13:18:15.663399",
     "status": "completed"
    },
    "tags": []
   },
   "source": [
    "# Evaluation the baseline recommendator with `timeFreqSplit`"
   ]
  },
  {
   "cell_type": "code",
   "execution_count": 22,
   "id": "a7685156-f45a-4c63-8892-f96c6e04cc79",
   "metadata": {
    "execution": {
     "iopub.execute_input": "2024-03-01T13:18:15.687350Z",
     "iopub.status.busy": "2024-03-01T13:18:15.687202Z",
     "iopub.status.idle": "2024-03-01T13:18:15.689121Z",
     "shell.execute_reply": "2024-03-01T13:18:15.688806Z"
    },
    "papermill": {
     "duration": 0.010699,
     "end_time": "2024-03-01T13:18:15.689827",
     "exception": false,
     "start_time": "2024-03-01T13:18:15.679128",
     "status": "completed"
    },
    "tags": []
   },
   "outputs": [],
   "source": [
    "from tqdm.autonotebook import tqdm"
   ]
  },
  {
   "cell_type": "code",
   "execution_count": 23,
   "id": "cca5cb61-68d5-4f1a-aad4-f2e3f13e024a",
   "metadata": {
    "execution": {
     "iopub.execute_input": "2024-03-01T13:18:15.705853Z",
     "iopub.status.busy": "2024-03-01T13:18:15.705719Z",
     "iopub.status.idle": "2024-03-01T13:18:16.317501Z",
     "shell.execute_reply": "2024-03-01T13:18:16.316998Z"
    },
    "papermill": {
     "duration": 0.378473,
     "end_time": "2024-03-01T13:18:16.076030",
     "exception": false,
     "start_time": "2024-03-01T13:18:15.697557",
     "status": "completed"
    },
    "tags": []
   },
   "outputs": [
    {
     "ename": "KeyboardInterrupt",
     "evalue": "",
     "output_type": "error",
     "traceback": [
      "\u001b[0;31m---------------------------------------------------------------------------\u001b[0m",
      "\u001b[0;31mKeyboardInterrupt\u001b[0m                         Traceback (most recent call last)",
      "Cell \u001b[0;32mIn[23], line 4\u001b[0m\n\u001b[1;32m      1\u001b[0m \u001b[38;5;28;01mfrom\u001b[39;00m \u001b[38;5;21;01mfunctools\u001b[39;00m \u001b[38;5;28;01mimport\u001b[39;00m partial\n\u001b[1;32m      2\u001b[0m \u001b[38;5;28;01mimport\u001b[39;00m \u001b[38;5;21;01msys\u001b[39;00m\n\u001b[0;32m----> 4\u001b[0m folds \u001b[38;5;241m=\u001b[39m \u001b[38;5;28;43mlist\u001b[39;49m\u001b[43m(\u001b[49m\u001b[43mtimeFreqSplitCurrent\u001b[49m\u001b[43m(\u001b[49m\u001b[43mdf\u001b[49m\u001b[43m,\u001b[49m\u001b[43m \u001b[49m\u001b[43mSPLITS_FREQ\u001b[49m\u001b[43m,\u001b[49m\u001b[43m \u001b[49m\u001b[43mdfp\u001b[49m\u001b[43m,\u001b[49m\u001b[43m \u001b[49m\u001b[43mremove_not_in_train_col\u001b[49m\u001b[38;5;241;43m=\u001b[39;49m\u001b[38;5;124;43m'\u001b[39;49m\u001b[38;5;124;43muserID\u001b[39;49m\u001b[38;5;124;43m'\u001b[39;49m\u001b[43m,\u001b[49m\u001b[43m \u001b[49m\u001b[43mnormalize\u001b[49m\u001b[38;5;241;43m=\u001b[39;49m\u001b[43mSPLITS_NORMALIZE\u001b[49m\u001b[43m)\u001b[49m\u001b[43m)\u001b[49m\n\u001b[1;32m      5\u001b[0m metrics_f \u001b[38;5;241m=\u001b[39m { \u001b[38;5;124m'\u001b[39m\u001b[38;5;124mprecision\u001b[39m\u001b[38;5;124m'\u001b[39m:precision_at_k, \u001b[38;5;124m'\u001b[39m\u001b[38;5;124mndcg\u001b[39m\u001b[38;5;124m'\u001b[39m: ndcg_at_k, \u001b[38;5;124m'\u001b[39m\u001b[38;5;124mndcg\u001b[39m\u001b[38;5;124m'\u001b[39m: ndcg_at_k, \u001b[38;5;124m'\u001b[39m\u001b[38;5;124mmap\u001b[39m\u001b[38;5;124m'\u001b[39m: map_at_k, \u001b[38;5;124m'\u001b[39m\u001b[38;5;124mrecall\u001b[39m\u001b[38;5;124m'\u001b[39m: recall_at_k, }\n\u001b[1;32m      6\u001b[0m \u001b[38;5;66;03m# metrics = {n+f'@{k}':[] for k,n in it.product(K_RECOMMENDATIONS, metrics_f.keys())}\u001b[39;00m\n",
      "File \u001b[0;32m~/upm-tfm-notebooks/src/model_selection.py:59\u001b[0m, in \u001b[0;36mtimeFreqSplitCurrent\u001b[0;34m(dfv, freq, dfp, return_open, remove_not_in_train_col, normalize, inclusive)\u001b[0m\n\u001b[1;32m     57\u001b[0m times \u001b[38;5;241m=\u001b[39m pd\u001b[38;5;241m.\u001b[39mdate_range(dfv[\u001b[38;5;124m'\u001b[39m\u001b[38;5;124mtimestamp\u001b[39m\u001b[38;5;124m'\u001b[39m]\u001b[38;5;241m.\u001b[39mmin(), dfv[\u001b[38;5;124m'\u001b[39m\u001b[38;5;124mtimestamp\u001b[39m\u001b[38;5;124m'\u001b[39m]\u001b[38;5;241m.\u001b[39mmax(), freq\u001b[38;5;241m=\u001b[39mfreq, normalize\u001b[38;5;241m=\u001b[39mnormalize, inclusive\u001b[38;5;241m=\u001b[39minclusive)\n\u001b[1;32m     58\u001b[0m \u001b[38;5;28;01mfor\u001b[39;00m train_end, test_end \u001b[38;5;129;01min\u001b[39;00m \u001b[38;5;28mzip\u001b[39m(times, times[\u001b[38;5;241m1\u001b[39m:]):\n\u001b[0;32m---> 59\u001b[0m     train, test \u001b[38;5;241m=\u001b[39m \u001b[43m_getTrainTestFromTime\u001b[49m\u001b[43m(\u001b[49m\u001b[43mtrain_end\u001b[49m\u001b[43m,\u001b[49m\u001b[43m \u001b[49m\u001b[43mtest_end\u001b[49m\u001b[43m,\u001b[49m\u001b[43m \u001b[49m\u001b[43mdfv\u001b[49m\u001b[43m,\u001b[49m\u001b[43m \u001b[49m\u001b[38;5;124;43m'\u001b[39;49m\u001b[38;5;124;43mtimestamp\u001b[39;49m\u001b[38;5;124;43m'\u001b[39;49m\u001b[43m,\u001b[49m\u001b[43m \u001b[49m\u001b[43mremove_not_in_train_col\u001b[49m\u001b[38;5;241;43m=\u001b[39;49m\u001b[43mremove_not_in_train_col\u001b[49m\u001b[43m)\u001b[49m\n\u001b[1;32m     61\u001b[0m     open_proposals \u001b[38;5;241m=\u001b[39m current_proposals(dfp, train_end)\n\u001b[1;32m     62\u001b[0m     test_filtered \u001b[38;5;241m=\u001b[39m test[test[\u001b[38;5;124m'\u001b[39m\u001b[38;5;124mitemID\u001b[39m\u001b[38;5;124m'\u001b[39m]\u001b[38;5;241m.\u001b[39misin(open_proposals)]\n",
      "File \u001b[0;32m~/upm-tfm-notebooks/src/model_selection.py:10\u001b[0m, in \u001b[0;36m_getTrainTestFromTime\u001b[0;34m(train_end_t, test_end_t, df, timestamp_col, remove_not_in_train_col)\u001b[0m\n\u001b[1;32m      7\u001b[0m test \u001b[38;5;241m=\u001b[39m df[ (train_end_t \u001b[38;5;241m<\u001b[39m df[timestamp_col]) \u001b[38;5;241m&\u001b[39m (df[timestamp_col] \u001b[38;5;241m<\u001b[39m\u001b[38;5;241m=\u001b[39m test_end_t) ]\n\u001b[1;32m      9\u001b[0m \u001b[38;5;28;01mif\u001b[39;00m remove_not_in_train_col \u001b[38;5;129;01mis\u001b[39;00m \u001b[38;5;129;01mnot\u001b[39;00m \u001b[38;5;28;01mNone\u001b[39;00m:\n\u001b[0;32m---> 10\u001b[0m     msk \u001b[38;5;241m=\u001b[39m test[remove_not_in_train_col]\u001b[38;5;241m.\u001b[39misin(\u001b[38;5;28;43mset\u001b[39;49m\u001b[43m(\u001b[49m\u001b[43mtrain\u001b[49m\u001b[43m[\u001b[49m\u001b[43mremove_not_in_train_col\u001b[49m\u001b[43m]\u001b[49m\u001b[43m)\u001b[49m)\n\u001b[1;32m     11\u001b[0m     test \u001b[38;5;241m=\u001b[39m test[msk]\n\u001b[1;32m     13\u001b[0m \u001b[38;5;28;01mreturn\u001b[39;00m train, test\n",
      "\u001b[0;31mKeyboardInterrupt\u001b[0m: "
     ]
    }
   ],
   "source": [
    "from functools import partial\n",
    "import sys\n",
    "\n",
    "folds = list(timeFreqSplitCurrent(df, SPLITS_FREQ, dfp, remove_not_in_train_col='userID', normalize=SPLITS_NORMALIZE))\n",
    "metrics_f = { 'precision':precision_at_k, 'ndcg': ndcg_at_k, 'ndcg': ndcg_at_k, 'map': map_at_k, 'recall': recall_at_k, }\n",
    "# metrics = {n+f'@{k}':[] for k,n in it.product(K_RECOMMENDATIONS, metrics_f.keys())}\n",
    "metrics = defaultdict(list)\n",
    "perfectmetrics = defaultdict(list)\n",
    "\n",
    "for i, (train, test) in enumerate(tqdm(folds)):\n",
    "    t = train.timestamp.max()\n",
    "\n",
    "    assert not train.empty, f\"Train should not be empty on fold {i}\"\n",
    "    # assert not test.empty, f\"Test should not be empty on fold {i}\"\n",
    "    if test.empty:\n",
    "        print(f\"Warning, empty test fold {i}\", file=sys.stderr)\n",
    "    # print(f\"===== Training on fold {i} (t: {t})  =====\")\n",
    "    # print(f\"Ratings train: {len(train)}, test: {len(test)}\")\n",
    "\n",
    "    open_proposals = dfp[(dfp['start'] < t) & (t < dfp['end']) ]['id'].unique()\n",
    "    # print(f\"Currently open proposals: {len(open_proposals)}\")\n",
    "\n",
    "    train_filtered = train[train['itemID'].isin(open_proposals) ]\n",
    "    test_filtered = test[test['itemID'].isin(open_proposals) ]\n",
    "    # print(f\"Train votes in open proposals: {len(train_filtered):3}\")\n",
    "    # print(f\"Test votes in open proposals:  {len(test_filtered):3}\")    \n",
    "\n",
    "    # print('Tested score:')\n",
    "    metrics['t'].append(t)\n",
    "    perfectmetrics['t'].append(t)\n",
    "    for k_recs in K_RECOMMENDATIONS:\n",
    "        recs = getBaselineRecommendations(train, test_filtered['userID'].unique(), open_proposals, k_recs)\n",
    "    \n",
    "        if check_train_recs(recs, train_filtered, ['userID', 'itemID']):\n",
    "            print(\"There are recommendations that were true in training\")\n",
    "            assert False\n",
    "\n",
    "        for m, f in metrics_f.items():\n",
    "            r = f(test_filtered, recs, k=k_recs)\n",
    "            # print(f'  {m}@{k_recs}:'.ljust(15), f'{r:.3}')\n",
    "            metrics[m+f'@{k_recs}'].append(r)\n",
    "            \n",
    "        # print('Perfect predictor score:')\n",
    "        recs = test_filtered.copy()\n",
    "        recs['prediction'] = True\n",
    "        for m, f in metrics_f.items():\n",
    "            r = f(test_filtered, recs, k=k_recs)\n",
    "            # print(f'  {m}@{k_recs}:'.ljust(15), f'{r:.3}')\n",
    "            perfectmetrics[m+f'@{k_recs}'].append(r)\n",
    "    \n",
    "    # print()"
   ]
  },
  {
   "cell_type": "code",
   "execution_count": null,
   "id": "bb87e671-18d9-486e-9e1b-1ac9eca15ec9",
   "metadata": {
    "papermill": {
     "duration": null,
     "end_time": null,
     "exception": null,
     "start_time": null,
     "status": "completed"
    },
    "tags": []
   },
   "outputs": [],
   "source": [
    "print(df['timestamp'].min(), df['timestamp'].max())\n",
    "_folds = list(timeFreqSplitCurrent(df, SPLITS_FREQ, dfp, remove_not_in_train_col='userID', normalize=SPLITS_NORMALIZE, inclusive='right', return_open=True))\n",
    "_, _, t, _ = _folds[0]\n",
    "print(\"t0:\", t)\n",
    "_, _, t, _ = _folds[1]\n",
    "print(\"t1:\", t)\n",
    "_, _, t, _ = _folds[-2]\n",
    "print(\"t-2:\", t)\n",
    "_, _, t, _ = _folds[-1]\n",
    "print(\"t-1:\", t)"
   ]
  },
  {
   "cell_type": "code",
   "execution_count": null,
   "id": "f291ce2d-4fd2-427f-91ce-2050f24a7399",
   "metadata": {
    "papermill": {
     "duration": null,
     "end_time": null,
     "exception": null,
     "start_time": null,
     "status": "completed"
    },
    "scrolled": true,
    "tags": []
   },
   "outputs": [],
   "source": [
    "{ k:len(v) for k,v in metrics.items() }"
   ]
  },
  {
   "cell_type": "code",
   "execution_count": null,
   "id": "2b6fe977-6a35-4f80-8449-9936afddf86b",
   "metadata": {
    "papermill": {
     "duration": null,
     "end_time": null,
     "exception": null,
     "start_time": null,
     "status": "completed"
    },
    "tags": []
   },
   "outputs": [],
   "source": [
    "display(dfp['date'].min())\n",
    "display(df['timestamp'].min())\n",
    "display(df.sort_values('timestamp').head())\n",
    "display(dfp.sort_values('date').head())"
   ]
  },
  {
   "cell_type": "code",
   "execution_count": null,
   "id": "12b5f59b-3397-4039-b442-7a014293df88",
   "metadata": {
    "papermill": {
     "duration": null,
     "end_time": null,
     "exception": null,
     "start_time": null,
     "status": "completed"
    },
    "tags": []
   },
   "outputs": [],
   "source": [
    "# Save the data\n",
    "from pathlib import Path\n",
    "baseline_folder = Path('./data/baseline/')\n",
    "baseline_folder.mkdir(exist_ok=True)\n",
    "\n",
    "pd.DataFrame(metrics).set_index('t').to_csv(paths.baseline_mp_freq(ORG_NAME, SPLITS_FREQ, SPLITS_NORMALIZE))"
   ]
  },
  {
   "cell_type": "code",
   "execution_count": null,
   "id": "c0d0a57c-610e-4c2e-86ec-79ae92cb8a46",
   "metadata": {
    "papermill": {
     "duration": null,
     "end_time": null,
     "exception": null,
     "start_time": null,
     "status": "completed"
    },
    "tags": []
   },
   "outputs": [],
   "source": [
    "mdf = pd.DataFrame(metrics)\n",
    "mdf['perfect precision@5'] = perfectmetrics['precision@5']\n",
    "mdf['perfect precision@10'] = perfectmetrics['precision@10']\n",
    "mdf['perfect map@10'] = perfectmetrics['map@10']\n",
    "mdf[['precision@5', 'perfect precision@5', 'ndcg@10']].plot(title=f'Evaluación modelo baseline OpenPop {SPLITS_FREQ}')\n",
    "mdf.describe()"
   ]
  },
  {
   "cell_type": "code",
   "execution_count": null,
   "id": "3c4abab5-179b-4157-b4b9-96184a3584be",
   "metadata": {
    "editable": true,
    "papermill": {
     "duration": null,
     "end_time": null,
     "exception": null,
     "start_time": null,
     "status": "completed"
    },
    "slideshow": {
     "slide_type": ""
    },
    "tags": []
   },
   "outputs": [],
   "source": [
    "mdf[-LAST_SPLITS:].describe()"
   ]
  },
  {
   "cell_type": "code",
   "execution_count": null,
   "id": "5e760dd2-bf9a-4dda-8c34-eeea3f84bc31",
   "metadata": {
    "papermill": {
     "duration": null,
     "end_time": null,
     "exception": null,
     "start_time": null,
     "status": "completed"
    },
    "tags": []
   },
   "outputs": [],
   "source": [
    "_METRICS = ['precision@5', 'recall@5']\n",
    "\n",
    "_toplot = pd.concat([\n",
    "    pd.DataFrame(metrics).assign(model='openpop'),\n",
    "    pd.DataFrame(perfectmetrics).assign(model='perfect')\n",
    "])\n",
    "_toplot = _toplot[['t', 'model'] + _METRICS].melt(id_vars=['t', 'model'])\n",
    "display(_toplot)\n",
    "\n",
    "sns.lineplot(_toplot, x='t', y='value', hue='variable', style='model')\n",
    "plt.xlabel(\"\")\n",
    "plt.xticks(rotation=30, ha='right');"
   ]
  },
  {
   "cell_type": "code",
   "execution_count": null,
   "id": "e52e9757-cfec-482c-bcec-a77261f63a71",
   "metadata": {
    "papermill": {
     "duration": null,
     "end_time": null,
     "exception": null,
     "start_time": null,
     "status": "completed"
    },
    "tags": []
   },
   "outputs": [],
   "source": [
    "def _plot_metric(metric):\n",
    "    _toplot = pd.concat([\n",
    "        pd.DataFrame(metrics).assign(model='openpop'),\n",
    "        pd.DataFrame(perfectmetrics).assign(model='perfect')\n",
    "    ])\n",
    "\n",
    "    display(_toplot)\n",
    "    ax = sns.lineplot(_toplot, x='t', y=metric, style='model')\n",
    "    plt.xlabel(\"\")\n",
    "    plt.xticks(rotation=30, ha='right');\n",
    "    return ax\n",
    "\n",
    "nbutils.download_matplotlib(ax.figure, f'10_all_precision@5_{SPLITS_FREQ}_{SPLITS_NORMALIZE}_{ORG_NAME}.pdf')"
   ]
  },
  {
   "cell_type": "code",
   "execution_count": null,
   "id": "9ea63c20-f951-4485-99ca-ffb9e8cfde58",
   "metadata": {
    "papermill": {
     "duration": null,
     "end_time": null,
     "exception": null,
     "start_time": null,
     "status": "completed"
    },
    "tags": []
   },
   "outputs": [],
   "source": [
    "ax = _plot_metric('ndcg@10')\n",
    "nbutils.download_matplotlib(ax.figure, f'10_all_ndcg@10_{SPLITS_FREQ}_{SPLITS_NORMALIZE}_{ORG_NAME}.pdf')"
   ]
  },
  {
   "cell_type": "code",
   "execution_count": null,
   "id": "f63edf22-fdc5-4a93-90db-f90b4c10d155",
   "metadata": {
    "papermill": {
     "duration": null,
     "end_time": null,
     "exception": null,
     "start_time": null,
     "status": "completed"
    },
    "tags": []
   },
   "outputs": [],
   "source": [
    "pmdf"
   ]
  },
  {
   "cell_type": "code",
   "execution_count": null,
   "id": "4423061a-99cf-490d-bd95-c506ec7e7cbc",
   "metadata": {
    "papermill": {
     "duration": null,
     "end_time": null,
     "exception": null,
     "start_time": null,
     "status": "completed"
    },
    "tags": []
   },
   "outputs": [],
   "source": [
    "pmdf = pd.DataFrame(perfectmetrics).set_index('t')\n",
    "\n",
    "pmdf.to_csv(paths.perfect_mp_freq(ORG_NAME, SPLITS_FREQ, SPLITS_NORMALIZE))\n",
    "pmdf.plot(title='Evaluación clasificador perfecto')\n",
    "pmdf.describe()"
   ]
  },
  {
   "cell_type": "markdown",
   "id": "39ed4202-418a-4e0e-bf95-43d5964f1415",
   "metadata": {
    "papermill": {
     "duration": null,
     "end_time": null,
     "exception": null,
     "start_time": null,
     "status": "completed"
    },
    "tags": []
   },
   "source": [
    "## Exploring the folds"
   ]
  },
  {
   "cell_type": "code",
   "execution_count": null,
   "id": "f50d33d3-0b91-4413-9efb-44050c9304b8",
   "metadata": {
    "editable": true,
    "papermill": {
     "duration": null,
     "end_time": null,
     "exception": null,
     "start_time": null,
     "status": "completed"
    },
    "slideshow": {
     "slide_type": ""
    },
    "tags": []
   },
   "outputs": [],
   "source": [
    "print(f\"There are {len(folds)} folds\")\n",
    "print(f\"From {df['timestamp'].min()} to {df['timestamp'].max()}\")\n",
    "\n",
    "full_len = len(df)\n",
    "fold_len = []\n",
    "for tr, ts, t, open_proposals in timeFreqSplitCurrent(df, SPLITS_FREQ, dfp, return_open=True, normalize=SPLITS_NORMALIZE):\n",
    "    fold_len.append({\n",
    "        't': t,\n",
    "        'train': len(tr),\n",
    "        'test': len(ts),\n",
    "        'open': len(open_proposals),\n",
    "        'test users': ts['userID'].nunique(),\n",
    "        'test vpv': ts['userID'].nunique() / len(ts) if len(ts) else np.NaN,\n",
    "        'test vpp': ts['userID'].nunique() / ts['itemID'].nunique() if len(ts) else np.NaN,\n",
    "        # 't_train_min': tr['timestamp'].min(),\n",
    "        # 't_train_max': tr['timestamp'].max(),\n",
    "        't_test_min': ts['timestamp'].min(),\n",
    "        't_test_max': ts['timestamp'].max(),\n",
    "    })\n",
    "\n",
    "fold_len = pd.DataFrame(fold_len)\n",
    "fold_len.describe()"
   ]
  },
  {
   "cell_type": "code",
   "execution_count": null,
   "id": "3706bfa7-cf2b-4abb-9bec-e84b2a52364b",
   "metadata": {
    "papermill": {
     "duration": null,
     "end_time": null,
     "exception": null,
     "start_time": null,
     "status": "completed"
    },
    "tags": []
   },
   "outputs": [],
   "source": [
    "fold_len"
   ]
  },
  {
   "cell_type": "code",
   "execution_count": null,
   "id": "49e6ce7b-4981-42cb-8148-47d06a26a351",
   "metadata": {
    "editable": true,
    "papermill": {
     "duration": null,
     "end_time": null,
     "exception": null,
     "start_time": null,
     "status": "completed"
    },
    "slideshow": {
     "slide_type": ""
    },
    "tags": []
   },
   "outputs": [],
   "source": [
    "# Get folds with more than 10 open proposals\n",
    "MIN_OPEN = 10\n",
    "MIN_USERS = 5\n",
    "MIN_VPP = 1\n",
    "\n",
    "MIN_FOLDS = 10\n",
    "\n",
    "# fold_len['min_open'] = (fold_len['open'] >= MIN_OPEN) & (fold_len['test users'] >= MIN_USERS)\n",
    "fold_len['min'] = (fold_len['test vpp'] >= MIN_VPP)\n",
    "print(\"There are\", fold_len['min'].sum(), \"folds that could be used\")\n",
    "fold_len['min_window'] = fold_len.rolling(MIN_FOLDS)['min'].sum() >= MIN_FOLDS\n",
    "fold_len[fold_len['min_window']].tail(20)"
   ]
  },
  {
   "cell_type": "code",
   "execution_count": null,
   "id": "fef2ece5-a68c-48d8-9631-1bce35b95e71",
   "metadata": {
    "editable": true,
    "papermill": {
     "duration": null,
     "end_time": null,
     "exception": null,
     "start_time": null,
     "status": "completed"
    },
    "slideshow": {
     "slide_type": ""
    },
    "tags": []
   },
   "outputs": [],
   "source": [
    "FIRST_FOLDS = 10\n",
    "LAST_FOLDS = 0\n",
    "\n",
    "# Bosquejo usando pandas.plot\n",
    "_toplot = fold_len.set_index('t')[['train', 'test']]\n",
    "_toplot['i'] = fold_len.index\n",
    "\n",
    "_toplot = _toplot[ (_toplot['i'] < FIRST_FOLDS) | (_toplot['i'] > (len(_toplot) - LAST_FOLDS)) ]\n",
    "\n",
    "print(_toplot)\n",
    "ax = _toplot[['train', 'test']].plot.bar(stacked=True)\n",
    "ax.set_xticks(np.arange(10), _toplot.index.strftime('%G-W%V'), rotation=30, ha='right')\n",
    "ax.set_xlabel(\"\")\n",
    "\n",
    "nbutils.download_matplotlib(ax.figure, f'10_first_folds_{SPLITS_FREQ}_{SPLITS_NORMALIZE}_{ORG_NAME}.pdf')"
   ]
  },
  {
   "cell_type": "code",
   "execution_count": null,
   "id": "e631d55b-7b53-4e1b-950f-523ae9b93c5d",
   "metadata": {
    "editable": true,
    "papermill": {
     "duration": null,
     "end_time": null,
     "exception": null,
     "start_time": null,
     "status": "completed"
    },
    "slideshow": {
     "slide_type": ""
    },
    "tags": []
   },
   "outputs": [],
   "source": [
    "# Definitivo en seaborn\n",
    "import seaborn.objects as so\n",
    "\n",
    "_toplot = fold_len.assign(i=fold_len.index).melt(id_vars=['t', 'i'], value_vars=['train', 'test'], var_name='set', value_name='votes')\n",
    "_toplot = _toplot[_toplot['i'] < FIRST_FOLDS]\n",
    "so.Plot(_toplot, x='t', y='votes', color='set').add(so.Bar(), so.Stack())"
   ]
  },
  {
   "cell_type": "code",
   "execution_count": null,
   "id": "e5d10172-a962-44cf-a84c-24e6dca80007",
   "metadata": {
    "papermill": {
     "duration": null,
     "end_time": null,
     "exception": null,
     "start_time": null,
     "status": "completed"
    },
    "tags": []
   },
   "outputs": [],
   "source": []
  }
 ],
 "metadata": {
  "kernelspec": {
   "display_name": "Python 3 (ipykernel)",
   "language": "python",
   "name": "python3"
  },
  "language_info": {
   "codemirror_mode": {
    "name": "ipython",
    "version": 3
   },
   "file_extension": ".py",
   "mimetype": "text/x-python",
   "name": "python",
   "nbconvert_exporter": "python",
   "pygments_lexer": "ipython3",
   "version": "3.9.18"
  },
  "papermill": {
   "default_parameters": {},
   "duration": 19.762316,
   "end_time": "2024-03-01T13:18:16.909545",
   "environment_variables": {},
   "exception": null,
   "input_path": "10_baseline_mp.ipynb",
   "output_path": "nbout/Decentraland/10_baseline_mp.ipynb",
   "parameters": {
    "EXECUTION_ID": "2024-03-01 12s:00",
    "LAST_SPLITS": 10,
    "ORG_NAME": "Decentraland",
    "ORG_PLATFORM": "snapshot",
    "SPLITS_FREQ": "W-THU",
    "SPLITS_NORMALIZE": true,
    "USE_ORG_NAMES": true
   },
   "start_time": "2024-03-01T13:17:57.147229",
   "version": "2.5.0"
  },
  "widgets": {
   "application/vnd.jupyter.widget-state+json": {
    "state": {
     "0223f65264484a6792d688c260b9b4dd": {
      "model_module": "@jupyter-widgets/controls",
      "model_module_version": "2.0.0",
      "model_name": "FloatProgressModel",
      "state": {
       "layout": "IPY_MODEL_7fde4c3798494d01a6764c5a723751bb",
       "max": 6,
       "style": "IPY_MODEL_87610dfbdb464043b6078d035f501bf6",
       "value": 6
      }
     },
     "08bda0689d50491baafae0dd718d81d3": {
      "model_module": "@jupyter-widgets/base",
      "model_module_version": "2.0.0",
      "model_name": "LayoutModel",
      "state": {}
     },
     "0b22277597db46568805879c4bde01a3": {
      "model_module": "jupyter-vue",
      "model_module_version": "^1.10.1",
      "model_name": "TemplateModel",
      "state": {
       "_model_module": "jupyter-vue",
       "_model_module_version": "^1.10.1",
       "_view_module": null,
       "_view_module_version": "",
       "template": "<template>\n    <div @click=\"request_download = true\" class=\"solara-file-download-container\">\n        <jupyter-widget v-for=\"child in children\" :key=\"child\" :widget=\"child\"></jupyter-widget>\n    </div>\n</template>\n\n<script>\nmodule.exports = {\n    watch: {\n        bytes(value) {\n            if (this.request_download) {\n                const a = document.createElement('a');\n                a.download = this.filename;\n                const blob = new Blob([this.bytes], { type: this.mime_type });\n                const blobUrl = window.URL.createObjectURL(blob);\n                a.href = blobUrl;\n                document.body.appendChild(a);\n                a.click();\n                document.body.removeChild(a);\n                setTimeout(() => {\n                    // Make sure we clean up\n                    window.URL.revokeObjectURL(blobUrl);\n                }, 1000);\n                this.request_download = false;\n            }\n        }\n    }\n}\n</script>\n\n<style id=\"solara-file-download\">\n.solara-file-download-container {\n    cursor: pointer;\n}\n</style>\n"
      }
     },
     "19790ee25dd643a5b42f43f9dfc1cf1e": {
      "model_module": "@jupyter-widgets/base",
      "model_module_version": "2.0.0",
      "model_name": "LayoutModel",
      "state": {}
     },
     "1f1eddb5349c438bbf6fe57ae00d6293": {
      "model_module": "jupyter-vuetify",
      "model_module_version": "^1.8.5",
      "model_name": "BtnModel",
      "state": {
       "_events": [
        "click"
       ],
       "_jupyter_vue": "IPY_MODEL_dfa36ee0dd154375825462277390ef43",
       "attributes": {},
       "children": [
        "IPY_MODEL_bfdef79ea2a54aa2a8a780430c19b152",
        "Download: 10_first_folds_W-THU_True_MetaCartel - MetaCartel Ventures.pdf"
       ],
       "class_": "",
       "disabled": false,
       "elevation": null,
       "height": null,
       "href": null,
       "layout": null,
       "loading": false,
       "max_height": null,
       "max_width": null,
       "min_height": null,
       "min_width": null,
       "outlined": false,
       "ripple": null,
       "style_": "",
       "text": false,
       "to": null,
       "v_slots": [],
       "width": null
      }
     },
     "1f56d2d6f25b44f3b8e9e5233db8ae4c": {
      "model_module": "@jupyter-widgets/base",
      "model_module_version": "2.0.0",
      "model_name": "LayoutModel",
      "state": {}
     },
     "1fc81810e2974aa9ae3659a6d09d9ee8": {
      "model_module": "jupyter-vuetify",
      "model_module_version": "^1.8.5",
      "model_name": "ColModel",
      "state": {
       "_events": [],
       "_jupyter_vue": "IPY_MODEL_dfa36ee0dd154375825462277390ef43",
       "attributes": {},
       "children": [
        "IPY_MODEL_68af8be55ac94c8e945356eda17ad965"
       ],
       "cols": 12,
       "layout": null,
       "lg": null,
       "md": null,
       "offset": null,
       "offset_lg": null,
       "offset_md": null,
       "offset_sm": null,
       "offset_xl": null,
       "order": null,
       "order_lg": null,
       "order_md": null,
       "order_sm": null,
       "order_xl": null,
       "sm": null,
       "v_slots": [],
       "xl": null
      }
     },
     "2119821464044eb981aaacca859dee7f": {
      "model_module": "@jupyter-widgets/controls",
      "model_module_version": "2.0.0",
      "model_name": "HTMLStyleModel",
      "state": {
       "description_width": "",
       "font_size": null,
       "text_color": null
      }
     },
     "22ebe8eba78d49b9b52d9267ff7f8c4f": {
      "model_module": "@jupyter-widgets/controls",
      "model_module_version": "2.0.0",
      "model_name": "VBoxModel",
      "state": {
       "_view_count": 1,
       "children": [
        "IPY_MODEL_f58b873555974e219320e924be1d8ff1"
       ],
       "layout": "IPY_MODEL_5b9bb3834746429ca8f514c70d231dba"
      }
     },
     "2a208dd8063e4350b80cde8d53e10f78": {
      "model_module": "@jupyter-widgets/controls",
      "model_module_version": "2.0.0",
      "model_name": "VBoxModel",
      "state": {
       "_view_count": 1,
       "children": [
        "IPY_MODEL_31885553c29d4bdd8fae1ae38806315d"
       ],
       "layout": "IPY_MODEL_1f56d2d6f25b44f3b8e9e5233db8ae4c"
      }
     },
     "2bde1335a95343bfad16c28cf8984ee4": {
      "model_module": "jupyter-vuetify",
      "model_module_version": "^1.8.5",
      "model_name": "BtnModel",
      "state": {
       "_events": [
        "click"
       ],
       "_jupyter_vue": "IPY_MODEL_dfa36ee0dd154375825462277390ef43",
       "attributes": {},
       "children": [
        "IPY_MODEL_5da90e0f00ee49b08e2c6f939a81e106",
        "Download: 10_all_ndcg@10_W-THU_True_MetaCartel - MetaCartel Ventures.pdf"
       ],
       "class_": "",
       "disabled": false,
       "elevation": null,
       "height": null,
       "href": null,
       "layout": null,
       "loading": false,
       "max_height": null,
       "max_width": null,
       "min_height": null,
       "min_width": null,
       "outlined": false,
       "ripple": null,
       "style_": "",
       "text": false,
       "to": null,
       "v_slots": [],
       "width": null
      }
     },
     "2d054bb15cd2439aac32cba0ea78c596": {
      "model_module": "jupyter-vuetify",
      "model_module_version": "^1.8.10",
      "model_name": "HtmlModel",
      "state": {
       "_events": [],
       "_jupyter_vue": "IPY_MODEL_dfa36ee0dd154375825462277390ef43",
       "_model_module_version": "^1.8.10",
       "_view_module_version": "^1.8.10",
       "attributes": {},
       "children": [
        "IPY_MODEL_4b5097f80938486489abde156e1d8b5a"
       ],
       "layout": null,
       "tag": "div",
       "v_slots": []
      }
     },
     "312904ed24db49139b8ab3af5b9063ac": {
      "model_module": "@jupyter-widgets/controls",
      "model_module_version": "2.0.0",
      "model_name": "HTMLStyleModel",
      "state": {
       "description_width": "",
       "font_size": null,
       "text_color": null
      }
     },
     "31885553c29d4bdd8fae1ae38806315d": {
      "model_module": "jupyter-vuetify",
      "model_module_version": "^1.8.10",
      "model_name": "HtmlModel",
      "state": {
       "_events": [],
       "_jupyter_vue": "IPY_MODEL_dfa36ee0dd154375825462277390ef43",
       "_model_module_version": "^1.8.10",
       "_view_module_version": "^1.8.10",
       "attributes": {},
       "children": [
        "IPY_MODEL_da0797207cea43a790dee11f0c1ab31d"
       ],
       "layout": null,
       "tag": "div",
       "v_slots": []
      }
     },
     "31ec45c2d8794870be81b5959c64a37b": {
      "model_module": "@jupyter-widgets/base",
      "model_module_version": "2.0.0",
      "model_name": "LayoutModel",
      "state": {}
     },
     "3a077bf9cd3d4847805e51b67fbbf49a": {
      "model_module": "@jupyter-widgets/base",
      "model_module_version": "2.0.0",
      "model_name": "LayoutModel",
      "state": {}
     },
     "3e6431c971ba4f5094b8ece1839a8298": {
      "model_module": "@jupyter-widgets/base",
      "model_module_version": "2.0.0",
      "model_name": "LayoutModel",
      "state": {}
     },
     "3e9bf984864740eab039e9200a77f632": {
      "model_module": "jupyter-vuetify",
      "model_module_version": "^1.8.5",
      "model_name": "IconModel",
      "state": {
       "_events": [],
       "_jupyter_vue": "IPY_MODEL_dfa36ee0dd154375825462277390ef43",
       "attributes": {},
       "children": [
        "mdi-cloud-download-outline"
       ],
       "layout": null,
       "left": true,
       "size": null,
       "v_slots": []
      }
     },
     "468ffe164e9d45c886881d6dd375bdc8": {
      "model_module": "jupyter-vuetify",
      "model_module_version": "^1.8.5",
      "model_name": "ColModel",
      "state": {
       "_events": [],
       "_jupyter_vue": "IPY_MODEL_dfa36ee0dd154375825462277390ef43",
       "attributes": {},
       "children": [
        "IPY_MODEL_61628a383f324e48955e378888f864f0"
       ],
       "cols": 12,
       "layout": null,
       "lg": null,
       "md": null,
       "offset": null,
       "offset_lg": null,
       "offset_md": null,
       "offset_sm": null,
       "offset_xl": null,
       "order": null,
       "order_lg": null,
       "order_md": null,
       "order_sm": null,
       "order_xl": null,
       "sm": null,
       "v_slots": [],
       "xl": null
      }
     },
     "4b5097f80938486489abde156e1d8b5a": {
      "model_module": "jupyter-vuetify",
      "model_module_version": "^1.8.5",
      "model_name": "RowModel",
      "state": {
       "_events": [],
       "_jupyter_vue": "IPY_MODEL_dfa36ee0dd154375825462277390ef43",
       "attributes": {},
       "children": [
        "IPY_MODEL_468ffe164e9d45c886881d6dd375bdc8"
       ],
       "class_": "solara-content-main",
       "layout": null,
       "no_gutters": false,
       "v_slots": []
      }
     },
     "52e5b06c28e94643b0cc5f46d47784bd": {
      "model_module": "jupyter-vuetify",
      "model_module_version": "^1.8.5",
      "model_name": "ColModel",
      "state": {
       "_events": [],
       "_jupyter_vue": "IPY_MODEL_dfa36ee0dd154375825462277390ef43",
       "attributes": {},
       "children": [
        "IPY_MODEL_7ca40674fe5649cca08c799e59e313d1"
       ],
       "cols": 12,
       "layout": null,
       "lg": null,
       "md": null,
       "offset": null,
       "offset_lg": null,
       "offset_md": null,
       "offset_sm": null,
       "offset_xl": null,
       "order": null,
       "order_lg": null,
       "order_md": null,
       "order_sm": null,
       "order_xl": null,
       "sm": null,
       "v_slots": [],
       "xl": null
      }
     },
     "5b9bb3834746429ca8f514c70d231dba": {
      "model_module": "@jupyter-widgets/base",
      "model_module_version": "2.0.0",
      "model_name": "LayoutModel",
      "state": {}
     },
     "5da90e0f00ee49b08e2c6f939a81e106": {
      "model_module": "jupyter-vuetify",
      "model_module_version": "^1.8.5",
      "model_name": "IconModel",
      "state": {
       "_events": [],
       "_jupyter_vue": "IPY_MODEL_dfa36ee0dd154375825462277390ef43",
       "attributes": {},
       "children": [
        "mdi-cloud-download-outline"
       ],
       "layout": null,
       "left": true,
       "size": null,
       "v_slots": []
      }
     },
     "5fcc03d21215438b8939c901e299430a": {
      "model_module": "@jupyter-widgets/base",
      "model_module_version": "2.0.0",
      "model_name": "LayoutModel",
      "state": {}
     },
     "61628a383f324e48955e378888f864f0": {
      "model_module": "jupyter-vuetify",
      "model_module_version": "^1.8.10",
      "model_name": "VuetifyTemplateModel",
      "state": {
       "_component_instances": [],
       "_jupyter_vue": "IPY_MODEL_dfa36ee0dd154375825462277390ef43",
       "_model_module_version": "^1.8.10",
       "_view_module_version": "^1.8.10",
       "bytes": null,
       "children": [
        "IPY_MODEL_768742da163e4851811b8798fa18144a"
       ],
       "components": null,
       "events": [],
       "filename": "10_all_precision@5_W-THU_True_MetaCartel - MetaCartel Ventures.pdf",
       "layout": "IPY_MODEL_3e6431c971ba4f5094b8ece1839a8298",
       "mime_type": "application/octet-stream",
       "request_download": false,
       "template": "IPY_MODEL_0b22277597db46568805879c4bde01a3"
      }
     },
     "62569502246e4a68b1c4cf1f75904586": {
      "model_module": "@jupyter-widgets/controls",
      "model_module_version": "2.0.0",
      "model_name": "HTMLModel",
      "state": {
       "layout": "IPY_MODEL_74a0e93519e44362be91c37303c329d6",
       "style": "IPY_MODEL_2119821464044eb981aaacca859dee7f",
       "value": "100%"
      }
     },
     "658d3afbbdbf4ffc81a22dc0b82021ae": {
      "model_module": "jupyter-vuetify",
      "model_module_version": "^1.8.5",
      "model_name": "RowModel",
      "state": {
       "_events": [],
       "_jupyter_vue": "IPY_MODEL_dfa36ee0dd154375825462277390ef43",
       "attributes": {},
       "children": [
        "IPY_MODEL_52e5b06c28e94643b0cc5f46d47784bd"
       ],
       "class_": "solara-content-main",
       "layout": null,
       "no_gutters": false,
       "v_slots": []
      }
     },
     "68af8be55ac94c8e945356eda17ad965": {
      "model_module": "jupyter-vuetify",
      "model_module_version": "^1.8.10",
      "model_name": "VuetifyTemplateModel",
      "state": {
       "_component_instances": [],
       "_jupyter_vue": "IPY_MODEL_dfa36ee0dd154375825462277390ef43",
       "_model_module_version": "^1.8.10",
       "_view_module_version": "^1.8.10",
       "bytes": null,
       "children": [
        "IPY_MODEL_1f1eddb5349c438bbf6fe57ae00d6293"
       ],
       "components": null,
       "events": [],
       "filename": "10_first_folds_W-THU_True_MetaCartel - MetaCartel Ventures.pdf",
       "layout": "IPY_MODEL_b3efaac0a3e54a9c8dec85a944881eab",
       "mime_type": "application/octet-stream",
       "request_download": false,
       "template": "IPY_MODEL_0b22277597db46568805879c4bde01a3"
      }
     },
     "692eb822d0e647ab825622cd47969bc5": {
      "model_module": "@jupyter-widgets/controls",
      "model_module_version": "2.0.0",
      "model_name": "HBoxModel",
      "state": {
       "children": [
        "IPY_MODEL_6967075a138c440f8d8353bb948035f4",
        "IPY_MODEL_8f9f23387164457ea563c9a1d4d75e02",
        "IPY_MODEL_859002914f3848089d5be97a50550393"
       ],
       "layout": "IPY_MODEL_9717fed8438c4fdd98d7258e66bd2b54"
      }
     },
     "6967075a138c440f8d8353bb948035f4": {
      "model_module": "@jupyter-widgets/controls",
      "model_module_version": "2.0.0",
      "model_name": "HTMLModel",
      "state": {
       "layout": "IPY_MODEL_a7b7147c4a144a2e9277d9cf32b0b19b",
       "style": "IPY_MODEL_312904ed24db49139b8ab3af5b9063ac",
       "value": "100%"
      }
     },
     "6ff2591f91b440008cf70bcd78390731": {
      "model_module": "jupyter-vuetify",
      "model_module_version": "^1.8.10",
      "model_name": "ThemeColorsModel",
      "state": {
       "_model_module_version": "^1.8.10",
       "_theme_name": "light",
       "_view_module": null,
       "_view_module_version": "^1.8.10",
       "accent": "#82B1FF",
       "error": "#FF5252",
       "info": "#2196F3",
       "primary": "#1976D2",
       "secondary": "#424242",
       "success": "#4CAF50",
       "warning": "#FB8C00"
      }
     },
     "74a0e93519e44362be91c37303c329d6": {
      "model_module": "@jupyter-widgets/base",
      "model_module_version": "2.0.0",
      "model_name": "LayoutModel",
      "state": {}
     },
     "768742da163e4851811b8798fa18144a": {
      "model_module": "jupyter-vuetify",
      "model_module_version": "^1.8.5",
      "model_name": "BtnModel",
      "state": {
       "_events": [
        "click"
       ],
       "_jupyter_vue": "IPY_MODEL_dfa36ee0dd154375825462277390ef43",
       "attributes": {},
       "children": [
        "IPY_MODEL_3e9bf984864740eab039e9200a77f632",
        "Download: 10_all_precision@5_W-THU_True_MetaCartel - MetaCartel Ventures.pdf"
       ],
       "class_": "",
       "disabled": false,
       "elevation": null,
       "height": null,
       "href": null,
       "layout": null,
       "loading": false,
       "max_height": null,
       "max_width": null,
       "min_height": null,
       "min_width": null,
       "outlined": false,
       "ripple": null,
       "style_": "",
       "text": false,
       "to": null,
       "v_slots": [],
       "width": null
      }
     },
     "79f141235d134951ab5bb6f2094cb3ca": {
      "model_module": "@jupyter-widgets/controls",
      "model_module_version": "2.0.0",
      "model_name": "HTMLStyleModel",
      "state": {
       "description_width": "",
       "font_size": null,
       "text_color": null
      }
     },
     "7ca40674fe5649cca08c799e59e313d1": {
      "model_module": "jupyter-vuetify",
      "model_module_version": "^1.8.10",
      "model_name": "VuetifyTemplateModel",
      "state": {
       "_component_instances": [],
       "_jupyter_vue": "IPY_MODEL_dfa36ee0dd154375825462277390ef43",
       "_model_module_version": "^1.8.10",
       "_view_module_version": "^1.8.10",
       "bytes": null,
       "children": [
        "IPY_MODEL_2bde1335a95343bfad16c28cf8984ee4"
       ],
       "components": null,
       "events": [],
       "filename": "10_all_ndcg@10_W-THU_True_MetaCartel - MetaCartel Ventures.pdf",
       "layout": "IPY_MODEL_08bda0689d50491baafae0dd718d81d3",
       "mime_type": "application/octet-stream",
       "request_download": false,
       "template": "IPY_MODEL_0b22277597db46568805879c4bde01a3"
      }
     },
     "7fde4c3798494d01a6764c5a723751bb": {
      "model_module": "@jupyter-widgets/base",
      "model_module_version": "2.0.0",
      "model_name": "LayoutModel",
      "state": {}
     },
     "859002914f3848089d5be97a50550393": {
      "model_module": "@jupyter-widgets/controls",
      "model_module_version": "2.0.0",
      "model_name": "HTMLModel",
      "state": {
       "layout": "IPY_MODEL_a3abe48b5b7a43cba49c7048022f4fed",
       "style": "IPY_MODEL_79f141235d134951ab5bb6f2094cb3ca",
       "value": " 212/212 [00:20&lt;00:00, 11.38it/s]"
      }
     },
     "87610dfbdb464043b6078d035f501bf6": {
      "model_module": "@jupyter-widgets/controls",
      "model_module_version": "2.0.0",
      "model_name": "ProgressStyleModel",
      "state": {
       "description_width": ""
      }
     },
     "8f9f23387164457ea563c9a1d4d75e02": {
      "model_module": "@jupyter-widgets/controls",
      "model_module_version": "2.0.0",
      "model_name": "FloatProgressModel",
      "state": {
       "bar_style": "success",
       "layout": "IPY_MODEL_5fcc03d21215438b8939c901e299430a",
       "max": 212,
       "style": "IPY_MODEL_e546476b02164bc9821cb67c3bfbf8da",
       "value": 212
      }
     },
     "8fd5275304374d508850c89584215c13": {
      "model_module": "jupyter-vuetify",
      "model_module_version": "^1.8.10",
      "model_name": "ThemeColorsModel",
      "state": {
       "_model_module_version": "^1.8.10",
       "_theme_name": "dark",
       "_view_module": null,
       "_view_module_version": "^1.8.10",
       "accent": "#FF4081",
       "error": "#FF5252",
       "info": "#2196F3",
       "primary": "#2196F3",
       "secondary": "#424242",
       "success": "#4CAF50",
       "warning": "#FB8C00"
      }
     },
     "9717fed8438c4fdd98d7258e66bd2b54": {
      "model_module": "@jupyter-widgets/base",
      "model_module_version": "2.0.0",
      "model_name": "LayoutModel",
      "state": {}
     },
     "a3abe48b5b7a43cba49c7048022f4fed": {
      "model_module": "@jupyter-widgets/base",
      "model_module_version": "2.0.0",
      "model_name": "LayoutModel",
      "state": {}
     },
     "a7b7147c4a144a2e9277d9cf32b0b19b": {
      "model_module": "@jupyter-widgets/base",
      "model_module_version": "2.0.0",
      "model_name": "LayoutModel",
      "state": {}
     },
     "ada43cc815bd4809b5b2eae6fa3f168e": {
      "model_module": "jupyter-vuetify",
      "model_module_version": "^1.8.10",
      "model_name": "ThemeModel",
      "state": {
       "_model_module_version": "^1.8.10",
       "_view_module": null,
       "_view_module_version": "^1.8.10"
      }
     },
     "b3efaac0a3e54a9c8dec85a944881eab": {
      "model_module": "@jupyter-widgets/base",
      "model_module_version": "2.0.0",
      "model_name": "LayoutModel",
      "state": {}
     },
     "bfdef79ea2a54aa2a8a780430c19b152": {
      "model_module": "jupyter-vuetify",
      "model_module_version": "^1.8.5",
      "model_name": "IconModel",
      "state": {
       "_events": [],
       "_jupyter_vue": "IPY_MODEL_dfa36ee0dd154375825462277390ef43",
       "attributes": {},
       "children": [
        "mdi-cloud-download-outline"
       ],
       "layout": null,
       "left": true,
       "size": null,
       "v_slots": []
      }
     },
     "c47da42e79724cffa660911f19f28de6": {
      "model_module": "@jupyter-widgets/controls",
      "model_module_version": "2.0.0",
      "model_name": "HTMLModel",
      "state": {
       "layout": "IPY_MODEL_31ec45c2d8794870be81b5959c64a37b",
       "style": "IPY_MODEL_f7cc2aea0c0d4e7fa7495b13629c39af",
       "value": " 6/6 [00:01&lt;00:00,  3.37it/s]"
      }
     },
     "c7e1feaebfd54db685a2edf4e28f83fd": {
      "model_module": "@jupyter-widgets/base",
      "model_module_version": "2.0.0",
      "model_name": "LayoutModel",
      "state": {
       "visibility": "hidden"
      }
     },
     "cd930df1090f45b7ac355eae2610a956": {
      "model_module": "@jupyter-widgets/controls",
      "model_module_version": "2.0.0",
      "model_name": "VBoxModel",
      "state": {
       "_view_count": 1,
       "children": [
        "IPY_MODEL_2d054bb15cd2439aac32cba0ea78c596"
       ],
       "layout": "IPY_MODEL_3a077bf9cd3d4847805e51b67fbbf49a"
      }
     },
     "da0797207cea43a790dee11f0c1ab31d": {
      "model_module": "jupyter-vuetify",
      "model_module_version": "^1.8.5",
      "model_name": "RowModel",
      "state": {
       "_events": [],
       "_jupyter_vue": "IPY_MODEL_dfa36ee0dd154375825462277390ef43",
       "attributes": {},
       "children": [
        "IPY_MODEL_1fc81810e2974aa9ae3659a6d09d9ee8"
       ],
       "class_": "solara-content-main",
       "layout": null,
       "no_gutters": false,
       "v_slots": []
      }
     },
     "dfa36ee0dd154375825462277390ef43": {
      "model_module": "jupyter-vue",
      "model_module_version": "^1.10.1",
      "model_name": "ForceLoadModel",
      "state": {
       "_model_module_version": "^1.10.1",
       "_view_module": null,
       "_view_module_version": "",
       "layout": "IPY_MODEL_19790ee25dd643a5b42f43f9dfc1cf1e"
      }
     },
     "e546476b02164bc9821cb67c3bfbf8da": {
      "model_module": "@jupyter-widgets/controls",
      "model_module_version": "2.0.0",
      "model_name": "ProgressStyleModel",
      "state": {
       "description_width": ""
      }
     },
     "f58b873555974e219320e924be1d8ff1": {
      "model_module": "jupyter-vuetify",
      "model_module_version": "^1.8.10",
      "model_name": "HtmlModel",
      "state": {
       "_events": [],
       "_jupyter_vue": "IPY_MODEL_dfa36ee0dd154375825462277390ef43",
       "_model_module_version": "^1.8.10",
       "_view_module_version": "^1.8.10",
       "attributes": {},
       "children": [
        "IPY_MODEL_658d3afbbdbf4ffc81a22dc0b82021ae"
       ],
       "layout": null,
       "tag": "div",
       "v_slots": []
      }
     },
     "f7cc2aea0c0d4e7fa7495b13629c39af": {
      "model_module": "@jupyter-widgets/controls",
      "model_module_version": "2.0.0",
      "model_name": "HTMLStyleModel",
      "state": {
       "description_width": "",
       "font_size": null,
       "text_color": null
      }
     }
    },
    "version_major": 2,
    "version_minor": 0
   }
  }
 },
 "nbformat": 4,
 "nbformat_minor": 5
}