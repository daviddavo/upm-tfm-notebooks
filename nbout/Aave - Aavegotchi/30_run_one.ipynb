{
 "cells": [
  {
   "cell_type": "code",
   "execution_count": 1,
   "id": "dc7786d9-d6d8-4795-944d-bb0aec99e1a3",
   "metadata": {
    "editable": true,
    "execution": {
     "iopub.execute_input": "2024-03-11T17:25:18.957012Z",
     "iopub.status.busy": "2024-03-11T17:25:18.956348Z",
     "iopub.status.idle": "2024-03-11T17:25:19.306164Z",
     "shell.execute_reply": "2024-03-11T17:25:19.305796Z"
    },
    "papermill": {
     "duration": 0.361029,
     "end_time": "2024-03-11T17:25:19.307343",
     "exception": false,
     "start_time": "2024-03-11T17:25:18.946314",
     "status": "completed"
    },
    "slideshow": {
     "slide_type": ""
    },
    "tags": []
   },
   "outputs": [],
   "source": [
    "from pathlib import Path\n",
    "from IPython.display import Markdown\n",
    "import re\n",
    "\n",
    "import papermill as pm\n",
    "\n",
    "from src import paths\n",
    "\n",
    "import datetime as dt"
   ]
  },
  {
   "cell_type": "code",
   "execution_count": 2,
   "id": "4ad146e0-81ac-449b-98cf-5a73dc25b09a",
   "metadata": {
    "editable": true,
    "execution": {
     "iopub.execute_input": "2024-03-11T17:25:19.312614Z",
     "iopub.status.busy": "2024-03-11T17:25:19.312397Z",
     "iopub.status.idle": "2024-03-11T17:25:19.314682Z",
     "shell.execute_reply": "2024-03-11T17:25:19.314467Z"
    },
    "papermill": {
     "duration": 0.005487,
     "end_time": "2024-03-11T17:25:19.315231",
     "exception": false,
     "start_time": "2024-03-11T17:25:19.309744",
     "status": "completed"
    },
    "slideshow": {
     "slide_type": ""
    },
    "tags": [
     "parameters"
    ]
   },
   "outputs": [],
   "source": [
    "# Parameters that will be passed to the other notebooks\n",
    "\n",
    "ORG_NAME = 'Decentraland'\n",
    "ORG_PLATFORM = 'snapshot'\n",
    "SPLITS_FREQ: str = 'W-THU' # split weekly\n",
    "SPLITS_NORMALIZE = True # Wether or not to move everything to 00:00\n",
    "LAST_SPLITS = 10 # Use just last 10 splits\n",
    "USE_ORG_NAMES = False # See load_pandas_df\n",
    "\n",
    "# Parameters of this notebook\n",
    "DO_TRAIN = True\n",
    "EXECUTION_ID: bool = dt.datetime.utcnow().isoformat() # Used to see wether to skip completed notebooks\n",
    "CUTOFF_DATE_STR: str = None # Cutoff date for the dataset"
   ]
  },
  {
   "cell_type": "code",
   "execution_count": 3,
   "id": "509472f8",
   "metadata": {
    "execution": {
     "iopub.execute_input": "2024-03-11T17:25:19.319183Z",
     "iopub.status.busy": "2024-03-11T17:25:19.318971Z",
     "iopub.status.idle": "2024-03-11T17:25:19.320743Z",
     "shell.execute_reply": "2024-03-11T17:25:19.320544Z"
    },
    "papermill": {
     "duration": 0.004537,
     "end_time": "2024-03-11T17:25:19.321521",
     "exception": false,
     "start_time": "2024-03-11T17:25:19.316984",
     "status": "completed"
    },
    "tags": [
     "injected-parameters"
    ]
   },
   "outputs": [],
   "source": [
    "# Parameters\n",
    "ORG_NAME = \"Aave - Aavegotchi\"\n",
    "ORG_PLATFORM = \"snapshot\"\n",
    "SPLITS_FREQ = \"5d\"\n",
    "SPLITS_NORMALIZE = True\n",
    "LAST_SPLITS = 10\n",
    "USE_ORG_NAMES = True\n",
    "EXECUTION_ID = \"2024-03-08 10:00\"\n",
    "DO_TRAIN = True\n",
    "CUTOFF_DATE_STR = \"2023-07-29\"\n"
   ]
  },
  {
   "cell_type": "code",
   "execution_count": 4,
   "id": "cfac4b5c-ec42-4f16-9ba7-318f6a3480cc",
   "metadata": {
    "editable": true,
    "execution": {
     "iopub.execute_input": "2024-03-11T17:25:19.325709Z",
     "iopub.status.busy": "2024-03-11T17:25:19.325511Z",
     "iopub.status.idle": "2024-03-11T17:25:19.329886Z",
     "shell.execute_reply": "2024-03-11T17:25:19.329612Z"
    },
    "papermill": {
     "duration": 0.007383,
     "end_time": "2024-03-11T17:25:19.330722",
     "exception": false,
     "start_time": "2024-03-11T17:25:19.323339",
     "status": "completed"
    },
    "slideshow": {
     "slide_type": ""
    },
    "tags": []
   },
   "outputs": [
    {
     "data": {
      "text/markdown": [
       "```mermaid\n",
       "graph LR\n",
       "10_baseline --> 20_results\n",
       "\n",
       "10_baseline --> 11_pln-tune -.-> 12_hybrid\n",
       "07_microsoft_tuning --> 09_analyze_results --> 12_hybrid\n",
       "12_hybrid --> 20_results\n",
       "10_baseline --> 09_analyze_results\n",
       "```"
      ],
      "text/plain": [
       "<IPython.core.display.Markdown object>"
      ]
     },
     "execution_count": 4,
     "metadata": {},
     "output_type": "execute_result"
    }
   ],
   "source": [
    "# Display the diagram from the README.md\n",
    "\n",
    "README = Path('./README.md')\n",
    "\n",
    "with open(README, 'r') as f:\n",
    "    diagrams = re.findall(r'```mermaid[\\s\\S]*```', f.read())\n",
    "\n",
    "Markdown(\"\\n\".join(diagrams))"
   ]
  },
  {
   "cell_type": "markdown",
   "id": "aa7c0382-7d7e-45bb-bb72-a6d0d52a6b54",
   "metadata": {
    "editable": true,
    "papermill": {
     "duration": 0.003219,
     "end_time": "2024-03-11T17:25:19.336598",
     "exception": false,
     "start_time": "2024-03-11T17:25:19.333379",
     "status": "completed"
    },
    "slideshow": {
     "slide_type": ""
    },
    "tags": []
   },
   "source": [
    "## Define some common things"
   ]
  },
  {
   "cell_type": "code",
   "execution_count": 5,
   "id": "f30ef62e-ce8c-4caf-9e1e-ac40c2383068",
   "metadata": {
    "editable": true,
    "execution": {
     "iopub.execute_input": "2024-03-11T17:25:19.342360Z",
     "iopub.status.busy": "2024-03-11T17:25:19.342234Z",
     "iopub.status.idle": "2024-03-11T17:25:19.344918Z",
     "shell.execute_reply": "2024-03-11T17:25:19.344635Z"
    },
    "papermill": {
     "duration": 0.00619,
     "end_time": "2024-03-11T17:25:19.345780",
     "exception": false,
     "start_time": "2024-03-11T17:25:19.339590",
     "status": "completed"
    },
    "slideshow": {
     "slide_type": ""
    },
    "tags": []
   },
   "outputs": [],
   "source": [
    "import nbformat\n",
    "\n",
    "def is_increasing(l):\n",
    "    return (not l) or all(x<y for x,y in zip(l, l[1:]))\n",
    "\n",
    "def isCompleted(fname):\n",
    "    nb = nbformat.read(fname, as_version=4)\n",
    "    execution_counts = [c['execution_count'] for c in nb['cells'] if c['cell_type'] == 'code' and c['source'].strip()]\n",
    "    \n",
    "    return all((x is not None for x in execution_counts)) and is_increasing(execution_counts)\n",
    "\n",
    "# print(isCompleted('nbout/Decentraland/04c_dao-census-onedao.ipynb'))\n",
    "# print(isCompleted('nbout/Balancer/10_baseline_mp.ipynb'))"
   ]
  },
  {
   "cell_type": "code",
   "execution_count": 6,
   "id": "2060e67c-c685-4c3c-82f9-e348bb89fcda",
   "metadata": {
    "editable": true,
    "execution": {
     "iopub.execute_input": "2024-03-11T17:25:19.350730Z",
     "iopub.status.busy": "2024-03-11T17:25:19.350639Z",
     "iopub.status.idle": "2024-03-11T17:25:19.352391Z",
     "shell.execute_reply": "2024-03-11T17:25:19.352165Z"
    },
    "papermill": {
     "duration": 0.004752,
     "end_time": "2024-03-11T17:25:19.353121",
     "exception": false,
     "start_time": "2024-03-11T17:25:19.348369",
     "status": "completed"
    },
    "slideshow": {
     "slide_type": ""
    },
    "tags": []
   },
   "outputs": [],
   "source": [
    "def getOldExec(fname):\n",
    "    nb = nbformat.read(fname, as_version=4)\n",
    "    return nb.metadata['papermill']['parameters'].get('EXECUTION_ID')\n",
    "\n",
    "# isSameExec(fname = 'nbout/Decentraland/04c_dao-census-onedao.ipynb')"
   ]
  },
  {
   "cell_type": "code",
   "execution_count": 7,
   "id": "bea30b95-7f15-49c6-a0e4-951b2b60e26e",
   "metadata": {
    "editable": true,
    "execution": {
     "iopub.execute_input": "2024-03-11T17:25:19.359686Z",
     "iopub.status.busy": "2024-03-11T17:25:19.359312Z",
     "iopub.status.idle": "2024-03-11T17:25:19.365382Z",
     "shell.execute_reply": "2024-03-11T17:25:19.364979Z"
    },
    "papermill": {
     "duration": 0.01076,
     "end_time": "2024-03-11T17:25:19.366403",
     "exception": false,
     "start_time": "2024-03-11T17:25:19.355643",
     "status": "completed"
    },
    "slideshow": {
     "slide_type": ""
    },
    "tags": []
   },
   "outputs": [],
   "source": [
    "def run_notebook(name):\n",
    "    assert Path(name).exists(), f\"No existe el fichero {name}\"\n",
    "    \n",
    "    outpath = Path(f'./nbout/{ORG_NAME.replace(\" / \", \"_\")}')\n",
    "    outpath.mkdir(parents=True, exist_ok=True)\n",
    "    outfile = outpath/name\n",
    "\n",
    "    params = pm.inspect_notebook(name)\n",
    "    for p in ['ORG_NAME', 'ORG_PLATFORM', 'SPLITS_FREQ', 'SPLITS_NORMALIZE', 'LAST_SPLITS', 'USE_ORG_NAMES', 'CUTOFF_DATE_STR']:\n",
    "        assert p in params, f'{p} is not in notebook params'\n",
    "\n",
    "    if outfile.exists() and EXECUTION_ID:\n",
    "        oldExec = getOldExec(outfile)\n",
    "        \n",
    "        if oldExec == EXECUTION_ID and isCompleted(outfile):\n",
    "            print(f\"Skipping {outfile} with EXECUTION_ID {EXECUTION_ID}\")\n",
    "            return\n",
    "        elif oldExec != EXECUTION_ID:\n",
    "            print(f\"Different exec, re-running ({oldExec} != {EXECUTION_ID})\")\n",
    "        else:\n",
    "            print(f\"Was not complete, re-running\")\n",
    "    \n",
    "    pm.execute_notebook(\n",
    "        name, \n",
    "        outfile,\n",
    "        autosave_cell_every=30,\n",
    "        parameters=dict(\n",
    "            ORG_NAME = ORG_NAME,\n",
    "            ORG_PLATFORM = ORG_PLATFORM,\n",
    "            SPLITS_FREQ = SPLITS_FREQ,\n",
    "            SPLITS_NORMALIZE = SPLITS_NORMALIZE,\n",
    "            LAST_SPLITS = LAST_SPLITS,\n",
    "            USE_ORG_NAMES = USE_ORG_NAMES,\n",
    "            EXECUTION_ID = EXECUTION_ID,\n",
    "            CUTOFF_DATE_STR = CUTOFF_DATE_STR,\n",
    "        ),\n",
    "    )\n",
    "# run_notebook('11_pln-tune.ipynb', 'snapshot', 'Decentraland')"
   ]
  },
  {
   "cell_type": "markdown",
   "id": "e626cf81-65e9-4f6e-8271-574428439839",
   "metadata": {
    "editable": true,
    "papermill": {
     "duration": 0.002338,
     "end_time": "2024-03-11T17:25:19.372095",
     "exception": false,
     "start_time": "2024-03-11T17:25:19.369757",
     "status": "completed"
    },
    "slideshow": {
     "slide_type": ""
    },
    "tags": []
   },
   "source": [
    "## Run data from dao"
   ]
  },
  {
   "cell_type": "code",
   "execution_count": 8,
   "id": "74e51fce-f006-4861-be7b-5cd7124bb3d7",
   "metadata": {
    "editable": true,
    "execution": {
     "iopub.execute_input": "2024-03-11T17:25:19.376736Z",
     "iopub.status.busy": "2024-03-11T17:25:19.376546Z",
     "iopub.status.idle": "2024-03-11T17:25:19.447952Z",
     "shell.execute_reply": "2024-03-11T17:25:19.447595Z"
    },
    "papermill": {
     "duration": 0.074933,
     "end_time": "2024-03-11T17:25:19.448918",
     "exception": false,
     "start_time": "2024-03-11T17:25:19.373985",
     "status": "completed"
    },
    "slideshow": {
     "slide_type": ""
    },
    "tags": []
   },
   "outputs": [
    {
     "name": "stdout",
     "output_type": "stream",
     "text": [
      "Skipping nbout/Aave - Aavegotchi/04c_dao-census-onedao.ipynb with EXECUTION_ID 2024-03-08 10:00\n"
     ]
    }
   ],
   "source": [
    "#papermill_description=dao-census\n",
    "run_notebook('04c_dao-census-onedao.ipynb')"
   ]
  },
  {
   "cell_type": "markdown",
   "id": "8aef0f68-2a8c-4896-ba90-728060074715",
   "metadata": {
    "editable": true,
    "papermill": {
     "duration": 0.002342,
     "end_time": "2024-03-11T17:25:19.454039",
     "exception": false,
     "start_time": "2024-03-11T17:25:19.451697",
     "status": "completed"
    },
    "slideshow": {
     "slide_type": ""
    },
    "tags": []
   },
   "source": [
    "## Run baseline"
   ]
  },
  {
   "cell_type": "code",
   "execution_count": 9,
   "id": "abc14ace-3f95-4392-b6c2-9d0f125974de",
   "metadata": {
    "editable": true,
    "execution": {
     "iopub.execute_input": "2024-03-11T17:25:19.459169Z",
     "iopub.status.busy": "2024-03-11T17:25:19.458976Z",
     "iopub.status.idle": "2024-03-11T17:25:19.478685Z",
     "shell.execute_reply": "2024-03-11T17:25:19.478420Z"
    },
    "papermill": {
     "duration": 0.023341,
     "end_time": "2024-03-11T17:25:19.479348",
     "exception": false,
     "start_time": "2024-03-11T17:25:19.456007",
     "status": "completed"
    },
    "slideshow": {
     "slide_type": ""
    },
    "tags": []
   },
   "outputs": [
    {
     "name": "stdout",
     "output_type": "stream",
     "text": [
      "Skipping nbout/Aave - Aavegotchi/10_baseline_mp.ipynb with EXECUTION_ID 2024-03-08 10:00\n"
     ]
    }
   ],
   "source": [
    "#papermill_description=baseline\n",
    "run_notebook('10_baseline_mp.ipynb')"
   ]
  },
  {
   "cell_type": "code",
   "execution_count": 10,
   "id": "537f43d0-fc8c-4dc5-b106-f7e936b90e2c",
   "metadata": {
    "editable": true,
    "execution": {
     "iopub.execute_input": "2024-03-11T17:25:19.484907Z",
     "iopub.status.busy": "2024-03-11T17:25:19.484740Z",
     "iopub.status.idle": "2024-03-11T17:25:19.486547Z",
     "shell.execute_reply": "2024-03-11T17:25:19.486326Z"
    },
    "papermill": {
     "duration": 0.005754,
     "end_time": "2024-03-11T17:25:19.487267",
     "exception": false,
     "start_time": "2024-03-11T17:25:19.481513",
     "status": "completed"
    },
    "slideshow": {
     "slide_type": ""
    },
    "tags": []
   },
   "outputs": [],
   "source": [
    "#papermill_description=check_train\n",
    "import sys\n",
    "if not DO_TRAIN: \n",
    "    sys.exit(0)"
   ]
  },
  {
   "cell_type": "markdown",
   "id": "78d51e15-69d2-41f8-bb9c-0cd18a288b3a",
   "metadata": {
    "editable": true,
    "papermill": {
     "duration": 0.002027,
     "end_time": "2024-03-11T17:25:19.491392",
     "exception": false,
     "start_time": "2024-03-11T17:25:19.489365",
     "status": "completed"
    },
    "slideshow": {
     "slide_type": ""
    },
    "tags": []
   },
   "source": [
    "## Run pln_tune"
   ]
  },
  {
   "cell_type": "code",
   "execution_count": 11,
   "id": "7372d911-aec8-41ae-bd91-8ede877c9a37",
   "metadata": {
    "editable": true,
    "execution": {
     "iopub.execute_input": "2024-03-11T17:25:19.496629Z",
     "iopub.status.busy": "2024-03-11T17:25:19.496431Z",
     "iopub.status.idle": "2024-03-11T17:25:19.648560Z",
     "shell.execute_reply": "2024-03-11T17:25:19.648296Z"
    },
    "papermill": {
     "duration": 0.155908,
     "end_time": "2024-03-11T17:25:19.649257",
     "exception": false,
     "start_time": "2024-03-11T17:25:19.493349",
     "status": "completed"
    },
    "slideshow": {
     "slide_type": ""
    },
    "tags": []
   },
   "outputs": [
    {
     "name": "stdout",
     "output_type": "stream",
     "text": [
      "Skipping nbout/Aave - Aavegotchi/11_pln-tune.ipynb with EXECUTION_ID 2024-03-08 10:00\n"
     ]
    }
   ],
   "source": [
    "#papermill_description=pln_tune\n",
    "# if paths.pln_mdf(ORG_NAME, SPLITS_FREQ, SPLITS_NORMALIZE).exists():\n",
    "#     print(f\"Skipping {ORG_NAME} because it has been done\")    \n",
    "run_notebook('11_pln-tune.ipynb')"
   ]
  },
  {
   "cell_type": "markdown",
   "id": "3c84bcf4-17c0-4282-8bd0-28aa9e997bbd",
   "metadata": {
    "editable": true,
    "papermill": {
     "duration": 0.002323,
     "end_time": "2024-03-11T17:25:19.654116",
     "exception": false,
     "start_time": "2024-03-11T17:25:19.651793",
     "status": "completed"
    },
    "slideshow": {
     "slide_type": ""
    },
    "tags": []
   },
   "source": [
    "## Run microsoft_tuning"
   ]
  },
  {
   "cell_type": "code",
   "execution_count": 12,
   "id": "ca56c9f7-d77d-4741-8064-13efe089b0de",
   "metadata": {
    "editable": true,
    "execution": {
     "iopub.execute_input": "2024-03-11T17:25:19.659115Z",
     "iopub.status.busy": "2024-03-11T17:25:19.658952Z"
    },
    "papermill": {
     "duration": null,
     "end_time": null,
     "exception": false,
     "start_time": "2024-03-11T17:25:19.656131",
     "status": "running"
    },
    "slideshow": {
     "slide_type": ""
    },
    "tags": []
   },
   "outputs": [
    {
     "name": "stderr",
     "output_type": "stream",
     "text": [
      "Passed unknown parameter: EXECUTION_ID\n"
     ]
    },
    {
     "name": "stdout",
     "output_type": "stream",
     "text": [
      "Was not complete, re-running\n"
     ]
    },
    {
     "data": {
      "application/vnd.jupyter.widget-view+json": {
       "model_id": "e5ffa47780164fb7a0b472c856bca97b",
       "version_major": 2,
       "version_minor": 0
      },
      "text/plain": [
       "Executing:   0%|          | 0/30 [00:00<?, ?cell/s]"
      ]
     },
     "metadata": {},
     "output_type": "display_data"
    },
    {
     "name": "stderr",
     "output_type": "stream",
     "text": [
      "2024-03-11 17:25:20.547955: E tensorflow/compiler/xla/stream_executor/cuda/cuda_dnn.cc:9342] Unable to register cuDNN factory: Attempting to register factory for plugin cuDNN when one has already been registered\n",
      "2024-03-11 17:25:20.547978: E tensorflow/compiler/xla/stream_executor/cuda/cuda_fft.cc:609] Unable to register cuFFT factory: Attempting to register factory for plugin cuFFT when one has already been registered\n",
      "2024-03-11 17:25:20.547991: E tensorflow/compiler/xla/stream_executor/cuda/cuda_blas.cc:1518] Unable to register cuBLAS factory: Attempting to register factory for plugin cuBLAS when one has already been registered\n"
     ]
    }
   ],
   "source": [
    "#papermill_description=microsoft\n",
    "run_notebook('07_microsoft_tuning.ipynb')"
   ]
  },
  {
   "cell_type": "markdown",
   "id": "4f63d888-57d4-4a76-9565-bc382ea442e7",
   "metadata": {
    "editable": true,
    "papermill": {
     "duration": null,
     "end_time": null,
     "exception": null,
     "start_time": null,
     "status": "pending"
    },
    "slideshow": {
     "slide_type": ""
    },
    "tags": []
   },
   "source": [
    "## Run analyze_results"
   ]
  },
  {
   "cell_type": "code",
   "execution_count": null,
   "id": "4d107b93-08e5-411a-8925-c6784c711709",
   "metadata": {
    "editable": true,
    "papermill": {
     "duration": null,
     "end_time": null,
     "exception": null,
     "start_time": null,
     "status": "pending"
    },
    "slideshow": {
     "slide_type": ""
    },
    "tags": []
   },
   "outputs": [],
   "source": [
    "#papermill_description=analyze\n",
    "nb = run_notebook('09_analyze_results.ipynb')"
   ]
  },
  {
   "cell_type": "markdown",
   "id": "53ff9453-531a-40da-8e03-870c77e30504",
   "metadata": {
    "editable": true,
    "papermill": {
     "duration": null,
     "end_time": null,
     "exception": null,
     "start_time": null,
     "status": "pending"
    },
    "slideshow": {
     "slide_type": ""
    },
    "tags": []
   },
   "source": [
    "## Run hybrid"
   ]
  },
  {
   "cell_type": "code",
   "execution_count": null,
   "id": "a7705d51-3dd1-41ed-92a9-995a8cd263e4",
   "metadata": {
    "editable": true,
    "papermill": {
     "duration": null,
     "end_time": null,
     "exception": null,
     "start_time": null,
     "status": "pending"
    },
    "slideshow": {
     "slide_type": ""
    },
    "tags": []
   },
   "outputs": [],
   "source": [
    "#papermill_description=hybrid\n",
    "run_notebook('12_hybrid.ipynb')"
   ]
  },
  {
   "cell_type": "markdown",
   "id": "da0e9e21-fb45-4ced-a82e-2b06529f082a",
   "metadata": {
    "papermill": {
     "duration": null,
     "end_time": null,
     "exception": null,
     "start_time": null,
     "status": "pending"
    },
    "tags": []
   },
   "source": [
    "## Run results"
   ]
  },
  {
   "cell_type": "code",
   "execution_count": null,
   "id": "27450d01-bbd9-47d1-9827-dd415209bd74",
   "metadata": {
    "papermill": {
     "duration": null,
     "end_time": null,
     "exception": null,
     "start_time": null,
     "status": "pending"
    },
    "tags": []
   },
   "outputs": [],
   "source": [
    "#papermill_description=results\n",
    "run_notebook('20_results.ipynb')"
   ]
  }
 ],
 "metadata": {
  "kernelspec": {
   "display_name": "Python 3 (ipykernel)",
   "language": "python",
   "name": "python3"
  },
  "language_info": {
   "codemirror_mode": {
    "name": "ipython",
    "version": 3
   },
   "file_extension": ".py",
   "mimetype": "text/x-python",
   "name": "python",
   "nbconvert_exporter": "python",
   "pygments_lexer": "ipython3",
   "version": "3.9.18"
  },
  "papermill": {
   "default_parameters": {},
   "duration": null,
   "end_time": null,
   "environment_variables": {},
   "exception": null,
   "input_path": "30_run_one.ipynb",
   "output_path": "nbout/Aave - Aavegotchi/30_run_one.ipynb",
   "parameters": {
    "CUTOFF_DATE_STR": "2023-07-29",
    "DO_TRAIN": true,
    "EXECUTION_ID": "2024-03-08 10:00",
    "LAST_SPLITS": 10,
    "ORG_NAME": "Aave - Aavegotchi",
    "ORG_PLATFORM": "snapshot",
    "SPLITS_FREQ": "5d",
    "SPLITS_NORMALIZE": true,
    "USE_ORG_NAMES": true
   },
   "start_time": "2024-03-11T17:25:18.383057",
   "version": "2.5.0"
  },
  "widgets": {
   "application/vnd.jupyter.widget-state+json": {
    "state": {},
    "version_major": 2,
    "version_minor": 0
   }
  }
 },
 "nbformat": 4,
 "nbformat_minor": 5
}