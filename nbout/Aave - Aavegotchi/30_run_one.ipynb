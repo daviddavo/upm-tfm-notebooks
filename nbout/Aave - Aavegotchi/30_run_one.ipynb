{
 "cells": [
  {
   "cell_type": "code",
   "execution_count": 1,
   "id": "dc7786d9-d6d8-4795-944d-bb0aec99e1a3",
   "metadata": {
    "editable": true,
    "execution": {
     "iopub.execute_input": "2024-03-03T19:26:38.530691Z",
     "iopub.status.busy": "2024-03-03T19:26:38.530134Z",
     "iopub.status.idle": "2024-03-03T19:26:38.887845Z",
     "shell.execute_reply": "2024-03-03T19:26:38.887558Z"
    },
    "papermill": {
     "duration": 0.370897,
     "end_time": "2024-03-03T19:26:38.888901",
     "exception": false,
     "start_time": "2024-03-03T19:26:38.518004",
     "status": "completed"
    },
    "slideshow": {
     "slide_type": ""
    },
    "tags": []
   },
   "outputs": [],
   "source": [
    "from pathlib import Path\n",
    "from IPython.display import Markdown\n",
    "import re\n",
    "\n",
    "import papermill as pm\n",
    "\n",
    "from src import paths\n",
    "\n",
    "import datetime as dt"
   ]
  },
  {
   "cell_type": "code",
   "execution_count": 2,
   "id": "4ad146e0-81ac-449b-98cf-5a73dc25b09a",
   "metadata": {
    "editable": true,
    "execution": {
     "iopub.execute_input": "2024-03-03T19:26:38.896498Z",
     "iopub.status.busy": "2024-03-03T19:26:38.896284Z",
     "iopub.status.idle": "2024-03-03T19:26:38.898616Z",
     "shell.execute_reply": "2024-03-03T19:26:38.898391Z"
    },
    "papermill": {
     "duration": 0.007381,
     "end_time": "2024-03-03T19:26:38.899767",
     "exception": false,
     "start_time": "2024-03-03T19:26:38.892386",
     "status": "completed"
    },
    "slideshow": {
     "slide_type": ""
    },
    "tags": [
     "parameters"
    ]
   },
   "outputs": [],
   "source": [
    "# Parameters that will be passed to the other notebooks\n",
    "\n",
    "ORG_NAME = 'Decentraland'\n",
    "ORG_PLATFORM = 'snapshot'\n",
    "SPLITS_FREQ: str = 'W-THU' # split weekly\n",
    "SPLITS_NORMALIZE = True # Wether or not to move everything to 00:00\n",
    "LAST_SPLITS = 10 # Use just last 10 splits\n",
    "USE_ORG_NAMES = False # See load_pandas_df\n",
    "\n",
    "# Parameters of this notebook\n",
    "DO_TRAIN = True\n",
    "EXECUTION_ID: bool = dt.datetime.utcnow().isoformat() # Used to see wether to skip completed notebooks\n",
    "CUTOFF_DATE_STR: str = None # Cutoff date for the dataset"
   ]
  },
  {
   "cell_type": "code",
   "execution_count": 3,
   "id": "b24ff28a",
   "metadata": {
    "execution": {
     "iopub.execute_input": "2024-03-03T19:26:38.906235Z",
     "iopub.status.busy": "2024-03-03T19:26:38.906109Z",
     "iopub.status.idle": "2024-03-03T19:26:38.907927Z",
     "shell.execute_reply": "2024-03-03T19:26:38.907723Z"
    },
    "papermill": {
     "duration": 0.006514,
     "end_time": "2024-03-03T19:26:38.909170",
     "exception": false,
     "start_time": "2024-03-03T19:26:38.902656",
     "status": "completed"
    },
    "tags": [
     "injected-parameters"
    ]
   },
   "outputs": [],
   "source": [
    "# Parameters\n",
    "ORG_NAME = \"Aave - Aavegotchi\"\n",
    "ORG_PLATFORM = \"snapshot\"\n",
    "SPLITS_FREQ = \"W-THU\"\n",
    "SPLITS_NORMALIZE = True\n",
    "LAST_SPLITS = 10\n",
    "USE_ORG_NAMES = True\n",
    "EXECUTION_ID = \"2024-03-01 21:00\"\n",
    "DO_TRAIN = False\n",
    "CUTOFF_DATE_STR = None\n"
   ]
  },
  {
   "cell_type": "code",
   "execution_count": 4,
   "id": "cfac4b5c-ec42-4f16-9ba7-318f6a3480cc",
   "metadata": {
    "editable": true,
    "execution": {
     "iopub.execute_input": "2024-03-03T19:26:38.916204Z",
     "iopub.status.busy": "2024-03-03T19:26:38.916091Z",
     "iopub.status.idle": "2024-03-03T19:26:38.919721Z",
     "shell.execute_reply": "2024-03-03T19:26:38.919476Z"
    },
    "papermill": {
     "duration": 0.007987,
     "end_time": "2024-03-03T19:26:38.920567",
     "exception": false,
     "start_time": "2024-03-03T19:26:38.912580",
     "status": "completed"
    },
    "slideshow": {
     "slide_type": ""
    },
    "tags": []
   },
   "outputs": [
    {
     "data": {
      "text/markdown": [
       "```mermaid\n",
       "graph LR\n",
       "10_baseline --> 20_results\n",
       "\n",
       "10_baseline --> 11_pln-tune -.-> 12_hybrid\n",
       "07_microsoft_tuning --> 09_analyze_results --> 12_hybrid\n",
       "12_hybrid --> 20_results\n",
       "10_baseline --> 09_analyze_results\n",
       "```"
      ],
      "text/plain": [
       "<IPython.core.display.Markdown object>"
      ]
     },
     "execution_count": 4,
     "metadata": {},
     "output_type": "execute_result"
    }
   ],
   "source": [
    "# Display the diagram from the README.md\n",
    "\n",
    "README = Path('./README.md')\n",
    "\n",
    "with open(README, 'r') as f:\n",
    "    diagrams = re.findall(r'```mermaid[\\s\\S]*```', f.read())\n",
    "\n",
    "Markdown(\"\\n\".join(diagrams))"
   ]
  },
  {
   "cell_type": "markdown",
   "id": "aa7c0382-7d7e-45bb-bb72-a6d0d52a6b54",
   "metadata": {
    "editable": true,
    "papermill": {
     "duration": 0.002958,
     "end_time": "2024-03-03T19:26:38.926769",
     "exception": false,
     "start_time": "2024-03-03T19:26:38.923811",
     "status": "completed"
    },
    "slideshow": {
     "slide_type": ""
    },
    "tags": []
   },
   "source": [
    "## Define some common things"
   ]
  },
  {
   "cell_type": "code",
   "execution_count": 5,
   "id": "f30ef62e-ce8c-4caf-9e1e-ac40c2383068",
   "metadata": {
    "editable": true,
    "execution": {
     "iopub.execute_input": "2024-03-03T19:26:38.933097Z",
     "iopub.status.busy": "2024-03-03T19:26:38.932985Z",
     "iopub.status.idle": "2024-03-03T19:26:38.935485Z",
     "shell.execute_reply": "2024-03-03T19:26:38.935277Z"
    },
    "papermill": {
     "duration": 0.006457,
     "end_time": "2024-03-03T19:26:38.936138",
     "exception": false,
     "start_time": "2024-03-03T19:26:38.929681",
     "status": "completed"
    },
    "slideshow": {
     "slide_type": ""
    },
    "tags": []
   },
   "outputs": [],
   "source": [
    "import nbformat\n",
    "\n",
    "def is_increasing(l):\n",
    "    return (not l) or all(x<y for x,y in zip(l, l[1:]))\n",
    "\n",
    "def isCompleted(fname):\n",
    "    nb = nbformat.read(fname, as_version=4)\n",
    "    execution_counts = [c['execution_count'] for c in nb['cells'] if c['cell_type'] == 'code' and c['source'].strip()]\n",
    "    \n",
    "    return all((x is not None for x in execution_counts)) and is_increasing(execution_counts)\n",
    "\n",
    "# print(isCompleted('nbout/Decentraland/04c_dao-census-onedao.ipynb'))\n",
    "# print(isCompleted('nbout/Balancer/10_baseline_mp.ipynb'))"
   ]
  },
  {
   "cell_type": "code",
   "execution_count": 6,
   "id": "2060e67c-c685-4c3c-82f9-e348bb89fcda",
   "metadata": {
    "editable": true,
    "execution": {
     "iopub.execute_input": "2024-03-03T19:26:38.942577Z",
     "iopub.status.busy": "2024-03-03T19:26:38.942456Z",
     "iopub.status.idle": "2024-03-03T19:26:38.944230Z",
     "shell.execute_reply": "2024-03-03T19:26:38.944028Z"
    },
    "papermill": {
     "duration": 0.005773,
     "end_time": "2024-03-03T19:26:38.944875",
     "exception": false,
     "start_time": "2024-03-03T19:26:38.939102",
     "status": "completed"
    },
    "slideshow": {
     "slide_type": ""
    },
    "tags": []
   },
   "outputs": [],
   "source": [
    "def getOldExec(fname):\n",
    "    nb = nbformat.read(fname, as_version=4)\n",
    "    return nb.metadata['papermill']['parameters'].get('EXECUTION_ID')\n",
    "\n",
    "# isSameExec(fname = 'nbout/Decentraland/04c_dao-census-onedao.ipynb')"
   ]
  },
  {
   "cell_type": "code",
   "execution_count": 7,
   "id": "bea30b95-7f15-49c6-a0e4-951b2b60e26e",
   "metadata": {
    "editable": true,
    "execution": {
     "iopub.execute_input": "2024-03-03T19:26:38.951328Z",
     "iopub.status.busy": "2024-03-03T19:26:38.951217Z",
     "iopub.status.idle": "2024-03-03T19:26:38.954412Z",
     "shell.execute_reply": "2024-03-03T19:26:38.954202Z"
    },
    "papermill": {
     "duration": 0.007203,
     "end_time": "2024-03-03T19:26:38.955056",
     "exception": false,
     "start_time": "2024-03-03T19:26:38.947853",
     "status": "completed"
    },
    "slideshow": {
     "slide_type": ""
    },
    "tags": []
   },
   "outputs": [],
   "source": [
    "def run_notebook(name):\n",
    "    assert Path(name).exists(), f\"No existe el fichero {name}\"\n",
    "    \n",
    "    outpath = Path(f'./nbout/{ORG_NAME.replace(\" / \", \"_\")}')\n",
    "    outpath.mkdir(parents=True, exist_ok=True)\n",
    "    outfile = outpath/name\n",
    "\n",
    "    params = pm.inspect_notebook(name)\n",
    "    for p in ['ORG_NAME', 'ORG_PLATFORM', 'SPLITS_FREQ', 'SPLITS_NORMALIZE', 'LAST_SPLITS', 'USE_ORG_NAMES', 'CUTOFF_DATE_STR']:\n",
    "        assert p in params, f'{p} is not in notebook params'\n",
    "\n",
    "    if outfile.exists() and EXECUTION_ID:\n",
    "        oldExec = getOldExec(outfile)\n",
    "        \n",
    "        if oldExec == EXECUTION_ID and isCompleted(outfile):\n",
    "            print(f\"Skipping {outfile} with EXECUTION_ID {EXECUTION_ID}\")\n",
    "            return\n",
    "        elif oldExec != EXECUTION_ID:\n",
    "            print(f\"Different exec, re-running ({oldExec} != {EXECUTION_ID})\")\n",
    "        else:\n",
    "            print(f\"Was not complete, re-running\")\n",
    "    \n",
    "    pm.execute_notebook(\n",
    "        name, \n",
    "        outfile,\n",
    "        autosave_cell_every=10,\n",
    "        parameters=dict(\n",
    "            ORG_NAME = ORG_NAME,\n",
    "            ORG_PLATFORM = ORG_PLATFORM,\n",
    "            SPLITS_FREQ = SPLITS_FREQ,\n",
    "            SPLITS_NORMALIZE = SPLITS_NORMALIZE,\n",
    "            LAST_SPLITS = LAST_SPLITS,\n",
    "            USE_ORG_NAMES = USE_ORG_NAMES,\n",
    "            EXECUTION_ID = EXECUTION_ID,\n",
    "            CUTOFF_DATE_STR = CUTOFF_DATE_STR,\n",
    "        ),\n",
    "    )\n",
    "# run_notebook('11_pln-tune.ipynb', 'snapshot', 'Decentraland')"
   ]
  },
  {
   "cell_type": "markdown",
   "id": "e626cf81-65e9-4f6e-8271-574428439839",
   "metadata": {
    "editable": true,
    "papermill": {
     "duration": 0.00298,
     "end_time": "2024-03-03T19:26:38.961033",
     "exception": false,
     "start_time": "2024-03-03T19:26:38.958053",
     "status": "completed"
    },
    "slideshow": {
     "slide_type": ""
    },
    "tags": []
   },
   "source": [
    "## Run data from dao"
   ]
  },
  {
   "cell_type": "code",
   "execution_count": 8,
   "id": "74e51fce-f006-4861-be7b-5cd7124bb3d7",
   "metadata": {
    "editable": true,
    "execution": {
     "iopub.execute_input": "2024-03-03T19:26:38.967904Z",
     "iopub.status.busy": "2024-03-03T19:26:38.967766Z",
     "iopub.status.idle": "2024-03-03T19:26:39.033569Z",
     "shell.execute_reply": "2024-03-03T19:26:39.033107Z"
    },
    "papermill": {
     "duration": 0.070514,
     "end_time": "2024-03-03T19:26:39.034490",
     "exception": false,
     "start_time": "2024-03-03T19:26:38.963976",
     "status": "completed"
    },
    "slideshow": {
     "slide_type": ""
    },
    "tags": []
   },
   "outputs": [
    {
     "name": "stdout",
     "output_type": "stream",
     "text": [
      "Skipping nbout/Aave - Aavegotchi/04c_dao-census-onedao.ipynb with EXECUTION_ID 2024-03-01 21:00\n"
     ]
    }
   ],
   "source": [
    "#papermill_description=dao-census\n",
    "run_notebook('04c_dao-census-onedao.ipynb')"
   ]
  },
  {
   "cell_type": "markdown",
   "id": "8aef0f68-2a8c-4896-ba90-728060074715",
   "metadata": {
    "editable": true,
    "papermill": {
     "duration": 0.00329,
     "end_time": "2024-03-03T19:26:39.041403",
     "exception": false,
     "start_time": "2024-03-03T19:26:39.038113",
     "status": "completed"
    },
    "slideshow": {
     "slide_type": ""
    },
    "tags": []
   },
   "source": [
    "## Run baseline"
   ]
  },
  {
   "cell_type": "code",
   "execution_count": 9,
   "id": "abc14ace-3f95-4392-b6c2-9d0f125974de",
   "metadata": {
    "editable": true,
    "execution": {
     "iopub.execute_input": "2024-03-03T19:26:39.048710Z",
     "iopub.status.busy": "2024-03-03T19:26:39.048533Z",
     "iopub.status.idle": "2024-03-03T19:26:39.068045Z",
     "shell.execute_reply": "2024-03-03T19:26:39.067810Z"
    },
    "papermill": {
     "duration": 0.024202,
     "end_time": "2024-03-03T19:26:39.068728",
     "exception": false,
     "start_time": "2024-03-03T19:26:39.044526",
     "status": "completed"
    },
    "slideshow": {
     "slide_type": ""
    },
    "tags": []
   },
   "outputs": [
    {
     "name": "stdout",
     "output_type": "stream",
     "text": [
      "Skipping nbout/Aave - Aavegotchi/10_baseline_mp.ipynb with EXECUTION_ID 2024-03-01 21:00\n"
     ]
    }
   ],
   "source": [
    "#papermill_description=baseline\n",
    "run_notebook('10_baseline_mp.ipynb')"
   ]
  },
  {
   "cell_type": "code",
   "execution_count": 10,
   "id": "537f43d0-fc8c-4dc5-b106-f7e936b90e2c",
   "metadata": {
    "editable": true,
    "execution": {
     "iopub.execute_input": "2024-03-03T19:26:39.076015Z",
     "iopub.status.busy": "2024-03-03T19:26:39.075808Z",
     "iopub.status.idle": "2024-03-03T19:26:39.078201Z",
     "shell.execute_reply": "2024-03-03T19:26:39.077913Z"
    },
    "papermill": {
     "duration": 0.006796,
     "end_time": "2024-03-03T19:26:39.078651",
     "exception": true,
     "start_time": "2024-03-03T19:26:39.071855",
     "status": "failed"
    },
    "slideshow": {
     "slide_type": ""
    },
    "tags": []
   },
   "outputs": [
    {
     "ename": "SystemExit",
     "evalue": "0",
     "output_type": "error",
     "traceback": [
      "An exception has occurred, use %tb to see the full traceback.\n",
      "\u001b[0;31mSystemExit\u001b[0m\u001b[0;31m:\u001b[0m 0\n"
     ]
    },
    {
     "name": "stderr",
     "output_type": "stream",
     "text": [
      "/home/daviddavo/upm-tfm-notebooks/.direnv/python-3.9/lib/python3.9/site-packages/IPython/core/interactiveshell.py:3534: UserWarning: To exit: use 'exit', 'quit', or Ctrl-D.\n",
      "  warn(\"To exit: use 'exit', 'quit', or Ctrl-D.\", stacklevel=1)\n"
     ]
    }
   ],
   "source": [
    "#papermill_description=check_train\n",
    "import sys\n",
    "if not DO_TRAIN: \n",
    "    sys.exit(0)"
   ]
  },
  {
   "cell_type": "markdown",
   "id": "78d51e15-69d2-41f8-bb9c-0cd18a288b3a",
   "metadata": {
    "editable": true,
    "papermill": {
     "duration": null,
     "end_time": null,
     "exception": null,
     "start_time": null,
     "status": "pending"
    },
    "slideshow": {
     "slide_type": ""
    },
    "tags": []
   },
   "source": [
    "## Run pln_tune"
   ]
  },
  {
   "cell_type": "code",
   "execution_count": null,
   "id": "7372d911-aec8-41ae-bd91-8ede877c9a37",
   "metadata": {
    "editable": true,
    "papermill": {
     "duration": null,
     "end_time": null,
     "exception": null,
     "start_time": null,
     "status": "pending"
    },
    "slideshow": {
     "slide_type": ""
    },
    "tags": []
   },
   "outputs": [],
   "source": [
    "#papermill_description=pln_tune\n",
    "# if paths.pln_mdf(ORG_NAME, SPLITS_FREQ, SPLITS_NORMALIZE).exists():\n",
    "#     print(f\"Skipping {ORG_NAME} because it has been done\")    \n",
    "run_notebook('11_pln-tune.ipynb')"
   ]
  },
  {
   "cell_type": "code",
   "execution_count": null,
   "id": "7702ec8b-8975-4363-9e41-c154ccf0400c",
   "metadata": {
    "papermill": {
     "duration": null,
     "end_time": null,
     "exception": null,
     "start_time": null,
     "status": "pending"
    },
    "tags": []
   },
   "outputs": [],
   "source": [
    "#papermill_description=force_stop\n",
    "sys.exit(0)"
   ]
  },
  {
   "cell_type": "markdown",
   "id": "3c84bcf4-17c0-4282-8bd0-28aa9e997bbd",
   "metadata": {
    "editable": true,
    "papermill": {
     "duration": null,
     "end_time": null,
     "exception": null,
     "start_time": null,
     "status": "pending"
    },
    "slideshow": {
     "slide_type": ""
    },
    "tags": []
   },
   "source": [
    "## Run microsoft_tuning"
   ]
  },
  {
   "cell_type": "code",
   "execution_count": null,
   "id": "ca56c9f7-d77d-4741-8064-13efe089b0de",
   "metadata": {
    "editable": true,
    "papermill": {
     "duration": null,
     "end_time": null,
     "exception": null,
     "start_time": null,
     "status": "pending"
    },
    "slideshow": {
     "slide_type": ""
    },
    "tags": []
   },
   "outputs": [],
   "source": [
    "#papermill_description=microsoft\n",
    "run_notebook('07_microsoft_tuning.ipynb')"
   ]
  },
  {
   "cell_type": "markdown",
   "id": "4f63d888-57d4-4a76-9565-bc382ea442e7",
   "metadata": {
    "editable": true,
    "papermill": {
     "duration": null,
     "end_time": null,
     "exception": null,
     "start_time": null,
     "status": "pending"
    },
    "slideshow": {
     "slide_type": ""
    },
    "tags": []
   },
   "source": [
    "## Run analyze_results"
   ]
  },
  {
   "cell_type": "code",
   "execution_count": null,
   "id": "4d107b93-08e5-411a-8925-c6784c711709",
   "metadata": {
    "editable": true,
    "papermill": {
     "duration": null,
     "end_time": null,
     "exception": null,
     "start_time": null,
     "status": "pending"
    },
    "slideshow": {
     "slide_type": ""
    },
    "tags": []
   },
   "outputs": [],
   "source": [
    "#papermill_description=analyze\n",
    "nb = run_notebook('09_analyze_results.ipynb')"
   ]
  },
  {
   "cell_type": "markdown",
   "id": "53ff9453-531a-40da-8e03-870c77e30504",
   "metadata": {
    "editable": true,
    "papermill": {
     "duration": null,
     "end_time": null,
     "exception": null,
     "start_time": null,
     "status": "pending"
    },
    "slideshow": {
     "slide_type": ""
    },
    "tags": []
   },
   "source": [
    "## Run hybrid"
   ]
  },
  {
   "cell_type": "code",
   "execution_count": null,
   "id": "a7705d51-3dd1-41ed-92a9-995a8cd263e4",
   "metadata": {
    "editable": true,
    "papermill": {
     "duration": null,
     "end_time": null,
     "exception": null,
     "start_time": null,
     "status": "pending"
    },
    "slideshow": {
     "slide_type": ""
    },
    "tags": []
   },
   "outputs": [],
   "source": [
    "#papermill_description=hybrid\n",
    "run_notebook('12_hybrid.ipynb')"
   ]
  }
 ],
 "metadata": {
  "kernelspec": {
   "display_name": "Python 3 (ipykernel)",
   "language": "python",
   "name": "python3"
  },
  "language_info": {
   "codemirror_mode": {
    "name": "ipython",
    "version": 3
   },
   "file_extension": ".py",
   "mimetype": "text/x-python",
   "name": "python",
   "nbconvert_exporter": "python",
   "pygments_lexer": "ipython3",
   "version": "3.9.18"
  },
  "papermill": {
   "default_parameters": {},
   "duration": 1.522777,
   "end_time": "2024-03-03T19:26:39.302475",
   "environment_variables": {},
   "exception": true,
   "input_path": "30_run_one.ipynb",
   "output_path": "nbout/Aave - Aavegotchi/30_run_one.ipynb",
   "parameters": {
    "CUTOFF_DATE_STR": null,
    "DO_TRAIN": false,
    "EXECUTION_ID": "2024-03-01 21:00",
    "LAST_SPLITS": 10,
    "ORG_NAME": "Aave - Aavegotchi",
    "ORG_PLATFORM": "snapshot",
    "SPLITS_FREQ": "W-THU",
    "SPLITS_NORMALIZE": true,
    "USE_ORG_NAMES": true
   },
   "start_time": "2024-03-03T19:26:37.779698",
   "version": "2.5.0"
  },
  "widgets": {
   "application/vnd.jupyter.widget-state+json": {
    "state": {
     "09012e1fe6a74335b034766b41d262e6": {
      "model_module": "@jupyter-widgets/base",
      "model_module_version": "2.0.0",
      "model_name": "LayoutModel",
      "state": {}
     },
     "09f01945c3744dbe99a815c3b84de952": {
      "model_module": "@jupyter-widgets/controls",
      "model_module_version": "2.0.0",
      "model_name": "HBoxModel",
      "state": {
       "children": [
        "IPY_MODEL_e2f489765e6f43868807f1c1d669279d",
        "IPY_MODEL_3946f704c40a4c85b7e0f4f320634045",
        "IPY_MODEL_6a339496a8e944adb8bdf03a0a775798"
       ],
       "layout": "IPY_MODEL_dcf50091c9d14a6ea4ab166b57566de8"
      }
     },
     "1ed662c4db4e4644a556d057f2b4e322": {
      "model_module": "@jupyter-widgets/controls",
      "model_module_version": "2.0.0",
      "model_name": "HTMLModel",
      "state": {
       "layout": "IPY_MODEL_d75481fb7ac44fc1b40e56cfb9d79283",
       "style": "IPY_MODEL_b685f0c970d2435183a3f79fc6b204c3",
       "value": " 54/54 [01:11&lt;00:00,  2.06cell/s]"
      }
     },
     "24352bfab6a14615863c5e8bc8cb0c19": {
      "model_module": "@jupyter-widgets/controls",
      "model_module_version": "2.0.0",
      "model_name": "HBoxModel",
      "state": {
       "children": [
        "IPY_MODEL_a8a1d508b4dc466988afbc2e8db4c06e",
        "IPY_MODEL_b24fe6ea58204b7994a5690950bccc3b",
        "IPY_MODEL_dd45a824237d450796c78986c48ef51d"
       ],
       "layout": "IPY_MODEL_be10683ba0de45ed8865de51edb9a025"
      }
     },
     "2e70fa78c3954b03ab82186c11a6e830": {
      "model_module": "@jupyter-widgets/controls",
      "model_module_version": "2.0.0",
      "model_name": "HTMLStyleModel",
      "state": {
       "description_width": "",
       "font_size": null,
       "text_color": null
      }
     },
     "303509b9a8a741c1b4abe8f950fc2c3c": {
      "model_module": "@jupyter-widgets/controls",
      "model_module_version": "2.0.0",
      "model_name": "HTMLModel",
      "state": {
       "layout": "IPY_MODEL_c482346eb59f47c8b161394470071c09",
       "style": "IPY_MODEL_70d9c0d374fa43cfad591e4fb17dcdb7",
       "value": " 38/38 [00:19&lt;00:00,  5.84cell/s]"
      }
     },
     "34c2cdcd426d4fc6bed47b0fa14e9fbc": {
      "model_module": "@jupyter-widgets/controls",
      "model_module_version": "2.0.0",
      "model_name": "HTMLStyleModel",
      "state": {
       "description_width": "",
       "font_size": null,
       "text_color": null
      }
     },
     "3946f704c40a4c85b7e0f4f320634045": {
      "model_module": "@jupyter-widgets/controls",
      "model_module_version": "2.0.0",
      "model_name": "FloatProgressModel",
      "state": {
       "bar_style": "success",
       "layout": "IPY_MODEL_c9392d6907bd4c1093fb1f2a5fdab34b",
       "max": 59,
       "style": "IPY_MODEL_e9927900bd0945d7a839a2a7f9aea846",
       "value": 59
      }
     },
     "39a2221a10b1442e95c9f1ee7328b0ae": {
      "model_module": "@jupyter-widgets/base",
      "model_module_version": "2.0.0",
      "model_name": "LayoutModel",
      "state": {}
     },
     "49984e507dc64169a5d84962e6eb5270": {
      "model_module": "@jupyter-widgets/controls",
      "model_module_version": "2.0.0",
      "model_name": "HBoxModel",
      "state": {
       "children": [
        "IPY_MODEL_710312ff112547cea5a3e90f9243de10",
        "IPY_MODEL_4e801939d533409591127acc9888ec23",
        "IPY_MODEL_1ed662c4db4e4644a556d057f2b4e322"
       ],
       "layout": "IPY_MODEL_774325c9facf4bc3acb6a047d6195a56"
      }
     },
     "4c7ca75e99274c098799b682bcd81c05": {
      "model_module": "@jupyter-widgets/controls",
      "model_module_version": "2.0.0",
      "model_name": "HTMLStyleModel",
      "state": {
       "description_width": "",
       "font_size": null,
       "text_color": null
      }
     },
     "4e801939d533409591127acc9888ec23": {
      "model_module": "@jupyter-widgets/controls",
      "model_module_version": "2.0.0",
      "model_name": "FloatProgressModel",
      "state": {
       "bar_style": "success",
       "layout": "IPY_MODEL_09012e1fe6a74335b034766b41d262e6",
       "max": 54,
       "style": "IPY_MODEL_50e8cedc39724919ba9ee2c1b45b3ee8",
       "value": 54
      }
     },
     "50037f51263c4975863a5d14db1035cd": {
      "model_module": "@jupyter-widgets/controls",
      "model_module_version": "2.0.0",
      "model_name": "HBoxModel",
      "state": {
       "children": [
        "IPY_MODEL_a8f7e91d08f34abcbd1d98c7a3020f11",
        "IPY_MODEL_842ddd6c82cf4ba4b383bf7488919abf",
        "IPY_MODEL_303509b9a8a741c1b4abe8f950fc2c3c"
       ],
       "layout": "IPY_MODEL_7f6c695a5f1e4eb2be9abb3249c20df6"
      }
     },
     "50e8cedc39724919ba9ee2c1b45b3ee8": {
      "model_module": "@jupyter-widgets/controls",
      "model_module_version": "2.0.0",
      "model_name": "ProgressStyleModel",
      "state": {
       "description_width": ""
      }
     },
     "606f287002d241948f21250c888c26cc": {
      "model_module": "@jupyter-widgets/controls",
      "model_module_version": "2.0.0",
      "model_name": "ProgressStyleModel",
      "state": {
       "description_width": ""
      }
     },
     "67b0034373124adba47f924e701674dc": {
      "model_module": "@jupyter-widgets/base",
      "model_module_version": "2.0.0",
      "model_name": "LayoutModel",
      "state": {}
     },
     "6a339496a8e944adb8bdf03a0a775798": {
      "model_module": "@jupyter-widgets/controls",
      "model_module_version": "2.0.0",
      "model_name": "HTMLModel",
      "state": {
       "layout": "IPY_MODEL_78741c5188d84b3c8864f83ed4cc88c5",
       "style": "IPY_MODEL_2e70fa78c3954b03ab82186c11a6e830",
       "value": " 59/59 [00:39&lt;00:00,  3.23cell/s]"
      }
     },
     "6b1a4ada8be2444481d152544c4db4d0": {
      "model_module": "@jupyter-widgets/controls",
      "model_module_version": "2.0.0",
      "model_name": "ProgressStyleModel",
      "state": {
       "description_width": ""
      }
     },
     "70ada16292624ea9a526ca42fe08143a": {
      "model_module": "@jupyter-widgets/controls",
      "model_module_version": "2.0.0",
      "model_name": "FloatProgressModel",
      "state": {
       "bar_style": "success",
       "layout": "IPY_MODEL_90fbeb60c1944389a0102024054099d5",
       "max": 54,
       "style": "IPY_MODEL_6b1a4ada8be2444481d152544c4db4d0",
       "value": 54
      }
     },
     "70d9c0d374fa43cfad591e4fb17dcdb7": {
      "model_module": "@jupyter-widgets/controls",
      "model_module_version": "2.0.0",
      "model_name": "HTMLStyleModel",
      "state": {
       "description_width": "",
       "font_size": null,
       "text_color": null
      }
     },
     "710312ff112547cea5a3e90f9243de10": {
      "model_module": "@jupyter-widgets/controls",
      "model_module_version": "2.0.0",
      "model_name": "HTMLModel",
      "state": {
       "layout": "IPY_MODEL_39a2221a10b1442e95c9f1ee7328b0ae",
       "style": "IPY_MODEL_ac88b1aff69f4c4798a9215617ec2b4f",
       "value": "Executing: 100%"
      }
     },
     "71488293bb394a7098caa9ec59292da2": {
      "model_module": "@jupyter-widgets/controls",
      "model_module_version": "2.0.0",
      "model_name": "HTMLModel",
      "state": {
       "layout": "IPY_MODEL_85052b4dc367420ba6d5f722f2c3464d",
       "style": "IPY_MODEL_4c7ca75e99274c098799b682bcd81c05",
       "value": "Executing: 100%"
      }
     },
     "72d34c81946141a6b943a60c5abfef3a": {
      "model_module": "@jupyter-widgets/base",
      "model_module_version": "2.0.0",
      "model_name": "LayoutModel",
      "state": {}
     },
     "774325c9facf4bc3acb6a047d6195a56": {
      "model_module": "@jupyter-widgets/base",
      "model_module_version": "2.0.0",
      "model_name": "LayoutModel",
      "state": {}
     },
     "78741c5188d84b3c8864f83ed4cc88c5": {
      "model_module": "@jupyter-widgets/base",
      "model_module_version": "2.0.0",
      "model_name": "LayoutModel",
      "state": {}
     },
     "78f8ec15fef849faaf2ef4d075ce860e": {
      "model_module": "@jupyter-widgets/base",
      "model_module_version": "2.0.0",
      "model_name": "LayoutModel",
      "state": {}
     },
     "7f6c695a5f1e4eb2be9abb3249c20df6": {
      "model_module": "@jupyter-widgets/base",
      "model_module_version": "2.0.0",
      "model_name": "LayoutModel",
      "state": {}
     },
     "842ddd6c82cf4ba4b383bf7488919abf": {
      "model_module": "@jupyter-widgets/controls",
      "model_module_version": "2.0.0",
      "model_name": "FloatProgressModel",
      "state": {
       "bar_style": "success",
       "layout": "IPY_MODEL_c622f9146db949c7bbcc0e147b42c0b0",
       "max": 38,
       "style": "IPY_MODEL_606f287002d241948f21250c888c26cc",
       "value": 38
      }
     },
     "85052b4dc367420ba6d5f722f2c3464d": {
      "model_module": "@jupyter-widgets/base",
      "model_module_version": "2.0.0",
      "model_name": "LayoutModel",
      "state": {}
     },
     "86f4a8de54b54758a63114b068a301ea": {
      "model_module": "@jupyter-widgets/base",
      "model_module_version": "2.0.0",
      "model_name": "LayoutModel",
      "state": {}
     },
     "90fbeb60c1944389a0102024054099d5": {
      "model_module": "@jupyter-widgets/base",
      "model_module_version": "2.0.0",
      "model_name": "LayoutModel",
      "state": {}
     },
     "a2bdd1ca6d0e4214b37476ce4ca9b053": {
      "model_module": "@jupyter-widgets/controls",
      "model_module_version": "2.0.0",
      "model_name": "HTMLStyleModel",
      "state": {
       "description_width": "",
       "font_size": null,
       "text_color": null
      }
     },
     "a3beec0940f642f4a33fdabed976653c": {
      "model_module": "@jupyter-widgets/controls",
      "model_module_version": "2.0.0",
      "model_name": "ProgressStyleModel",
      "state": {
       "description_width": ""
      }
     },
     "a7b4104ddd2c4a31bbfd73f251742730": {
      "model_module": "@jupyter-widgets/base",
      "model_module_version": "2.0.0",
      "model_name": "LayoutModel",
      "state": {}
     },
     "a8a1d508b4dc466988afbc2e8db4c06e": {
      "model_module": "@jupyter-widgets/controls",
      "model_module_version": "2.0.0",
      "model_name": "HTMLModel",
      "state": {
       "layout": "IPY_MODEL_a7b4104ddd2c4a31bbfd73f251742730",
       "style": "IPY_MODEL_a2bdd1ca6d0e4214b37476ce4ca9b053",
       "value": "Executing: 100%"
      }
     },
     "a8f7e91d08f34abcbd1d98c7a3020f11": {
      "model_module": "@jupyter-widgets/controls",
      "model_module_version": "2.0.0",
      "model_name": "HTMLModel",
      "state": {
       "layout": "IPY_MODEL_e833a577838a4fb8b11cdef9b9bfc23a",
       "style": "IPY_MODEL_baf28965bcb94c488ff82e4edf789646",
       "value": "Executing: 100%"
      }
     },
     "ac88b1aff69f4c4798a9215617ec2b4f": {
      "model_module": "@jupyter-widgets/controls",
      "model_module_version": "2.0.0",
      "model_name": "HTMLStyleModel",
      "state": {
       "description_width": "",
       "font_size": null,
       "text_color": null
      }
     },
     "b24fe6ea58204b7994a5690950bccc3b": {
      "model_module": "@jupyter-widgets/controls",
      "model_module_version": "2.0.0",
      "model_name": "FloatProgressModel",
      "state": {
       "bar_style": "success",
       "layout": "IPY_MODEL_72d34c81946141a6b943a60c5abfef3a",
       "max": 59,
       "style": "IPY_MODEL_a3beec0940f642f4a33fdabed976653c",
       "value": 59
      }
     },
     "b58e15348dc04ed1aa9f0edfd20c77e6": {
      "model_module": "@jupyter-widgets/controls",
      "model_module_version": "2.0.0",
      "model_name": "HTMLModel",
      "state": {
       "layout": "IPY_MODEL_67b0034373124adba47f924e701674dc",
       "style": "IPY_MODEL_b64beec5e173466688fb0f3ffdd032c1",
       "value": " 54/54 [01:11&lt;00:00,  2.06cell/s]"
      }
     },
     "b64beec5e173466688fb0f3ffdd032c1": {
      "model_module": "@jupyter-widgets/controls",
      "model_module_version": "2.0.0",
      "model_name": "HTMLStyleModel",
      "state": {
       "description_width": "",
       "font_size": null,
       "text_color": null
      }
     },
     "b685f0c970d2435183a3f79fc6b204c3": {
      "model_module": "@jupyter-widgets/controls",
      "model_module_version": "2.0.0",
      "model_name": "HTMLStyleModel",
      "state": {
       "description_width": "",
       "font_size": null,
       "text_color": null
      }
     },
     "baf28965bcb94c488ff82e4edf789646": {
      "model_module": "@jupyter-widgets/controls",
      "model_module_version": "2.0.0",
      "model_name": "HTMLStyleModel",
      "state": {
       "description_width": "",
       "font_size": null,
       "text_color": null
      }
     },
     "bde39f5431b34365a3b5f947e4bb23d3": {
      "model_module": "@jupyter-widgets/controls",
      "model_module_version": "2.0.0",
      "model_name": "HTMLStyleModel",
      "state": {
       "description_width": "",
       "font_size": null,
       "text_color": null
      }
     },
     "be10683ba0de45ed8865de51edb9a025": {
      "model_module": "@jupyter-widgets/base",
      "model_module_version": "2.0.0",
      "model_name": "LayoutModel",
      "state": {}
     },
     "c482346eb59f47c8b161394470071c09": {
      "model_module": "@jupyter-widgets/base",
      "model_module_version": "2.0.0",
      "model_name": "LayoutModel",
      "state": {}
     },
     "c622f9146db949c7bbcc0e147b42c0b0": {
      "model_module": "@jupyter-widgets/base",
      "model_module_version": "2.0.0",
      "model_name": "LayoutModel",
      "state": {}
     },
     "c879abef546941c1a9047d732b3babed": {
      "model_module": "@jupyter-widgets/controls",
      "model_module_version": "2.0.0",
      "model_name": "HBoxModel",
      "state": {
       "children": [
        "IPY_MODEL_71488293bb394a7098caa9ec59292da2",
        "IPY_MODEL_70ada16292624ea9a526ca42fe08143a",
        "IPY_MODEL_b58e15348dc04ed1aa9f0edfd20c77e6"
       ],
       "layout": "IPY_MODEL_86f4a8de54b54758a63114b068a301ea"
      }
     },
     "c9392d6907bd4c1093fb1f2a5fdab34b": {
      "model_module": "@jupyter-widgets/base",
      "model_module_version": "2.0.0",
      "model_name": "LayoutModel",
      "state": {}
     },
     "d75481fb7ac44fc1b40e56cfb9d79283": {
      "model_module": "@jupyter-widgets/base",
      "model_module_version": "2.0.0",
      "model_name": "LayoutModel",
      "state": {}
     },
     "dcf50091c9d14a6ea4ab166b57566de8": {
      "model_module": "@jupyter-widgets/base",
      "model_module_version": "2.0.0",
      "model_name": "LayoutModel",
      "state": {}
     },
     "dd45a824237d450796c78986c48ef51d": {
      "model_module": "@jupyter-widgets/controls",
      "model_module_version": "2.0.0",
      "model_name": "HTMLModel",
      "state": {
       "layout": "IPY_MODEL_fbcccbb4824b4e6aa350d8e70d9ef474",
       "style": "IPY_MODEL_34c2cdcd426d4fc6bed47b0fa14e9fbc",
       "value": " 59/59 [00:39&lt;00:00,  3.23cell/s]"
      }
     },
     "e2f489765e6f43868807f1c1d669279d": {
      "model_module": "@jupyter-widgets/controls",
      "model_module_version": "2.0.0",
      "model_name": "HTMLModel",
      "state": {
       "layout": "IPY_MODEL_78f8ec15fef849faaf2ef4d075ce860e",
       "style": "IPY_MODEL_bde39f5431b34365a3b5f947e4bb23d3",
       "value": "Executing: 100%"
      }
     },
     "e833a577838a4fb8b11cdef9b9bfc23a": {
      "model_module": "@jupyter-widgets/base",
      "model_module_version": "2.0.0",
      "model_name": "LayoutModel",
      "state": {}
     },
     "e9927900bd0945d7a839a2a7f9aea846": {
      "model_module": "@jupyter-widgets/controls",
      "model_module_version": "2.0.0",
      "model_name": "ProgressStyleModel",
      "state": {
       "description_width": ""
      }
     },
     "fbcccbb4824b4e6aa350d8e70d9ef474": {
      "model_module": "@jupyter-widgets/base",
      "model_module_version": "2.0.0",
      "model_name": "LayoutModel",
      "state": {}
     }
    },
    "version_major": 2,
    "version_minor": 0
   }
  }
 },
 "nbformat": 4,
 "nbformat_minor": 5
}