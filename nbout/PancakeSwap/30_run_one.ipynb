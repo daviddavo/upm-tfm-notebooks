{
 "cells": [
  {
   "cell_type": "code",
   "execution_count": 1,
   "id": "dc7786d9-d6d8-4795-944d-bb0aec99e1a3",
   "metadata": {
    "editable": true,
    "execution": {
     "iopub.execute_input": "2024-03-23T15:52:27.768104Z",
     "iopub.status.busy": "2024-03-23T15:52:27.768007Z",
     "iopub.status.idle": "2024-03-23T15:52:28.114041Z",
     "shell.execute_reply": "2024-03-23T15:52:28.113725Z"
    },
    "papermill": {
     "duration": 0.353674,
     "end_time": "2024-03-23T15:52:28.115039",
     "exception": false,
     "start_time": "2024-03-23T15:52:27.761365",
     "status": "completed"
    },
    "slideshow": {
     "slide_type": ""
    },
    "tags": []
   },
   "outputs": [],
   "source": [
    "from pathlib import Path\n",
    "from IPython.display import Markdown\n",
    "import re\n",
    "\n",
    "import papermill as pm\n",
    "\n",
    "from src import paths\n",
    "\n",
    "import datetime as dt"
   ]
  },
  {
   "cell_type": "code",
   "execution_count": 2,
   "id": "4ad146e0-81ac-449b-98cf-5a73dc25b09a",
   "metadata": {
    "editable": true,
    "execution": {
     "iopub.execute_input": "2024-03-23T15:52:28.120133Z",
     "iopub.status.busy": "2024-03-23T15:52:28.119928Z",
     "iopub.status.idle": "2024-03-23T15:52:28.122136Z",
     "shell.execute_reply": "2024-03-23T15:52:28.121923Z"
    },
    "papermill": {
     "duration": 0.005295,
     "end_time": "2024-03-23T15:52:28.122722",
     "exception": false,
     "start_time": "2024-03-23T15:52:28.117427",
     "status": "completed"
    },
    "slideshow": {
     "slide_type": ""
    },
    "tags": [
     "parameters"
    ]
   },
   "outputs": [],
   "source": [
    "# Parameters that will be passed to the other notebooks\n",
    "\n",
    "ORG_NAME = 'Decentraland'\n",
    "ORG_PLATFORM = 'snapshot'\n",
    "SPLITS_FREQ: str = 'W-THU' # split weekly\n",
    "SPLITS_NORMALIZE = True # Wether or not to move everything to 00:00\n",
    "LAST_SPLITS = 10 # Use just last 10 splits\n",
    "USE_ORG_NAMES = False # See load_pandas_df\n",
    "\n",
    "# Parameters of this notebook\n",
    "DO_TRAIN = True\n",
    "EXECUTION_ID: bool = dt.datetime.utcnow().isoformat() # Used to see wether to skip completed notebooks\n",
    "CUTOFF_DATE_STR: str = None # Cutoff date for the dataset"
   ]
  },
  {
   "cell_type": "code",
   "execution_count": 3,
   "id": "8eecf5bc",
   "metadata": {
    "execution": {
     "iopub.execute_input": "2024-03-23T15:52:28.126808Z",
     "iopub.status.busy": "2024-03-23T15:52:28.126580Z",
     "iopub.status.idle": "2024-03-23T15:52:28.128517Z",
     "shell.execute_reply": "2024-03-23T15:52:28.128264Z"
    },
    "papermill": {
     "duration": 0.004736,
     "end_time": "2024-03-23T15:52:28.129223",
     "exception": false,
     "start_time": "2024-03-23T15:52:28.124487",
     "status": "completed"
    },
    "tags": [
     "injected-parameters"
    ]
   },
   "outputs": [],
   "source": [
    "# Parameters\n",
    "ORG_NAME = \"PancakeSwap\"\n",
    "ORG_PLATFORM = \"snapshot\"\n",
    "SPLITS_FREQ = \"3d\"\n",
    "SPLITS_NORMALIZE = True\n",
    "LAST_SPLITS = 10\n",
    "USE_ORG_NAMES = True\n",
    "EXECUTION_ID = \"2024-03-21\"\n",
    "DO_TRAIN = True\n",
    "CUTOFF_DATE_STR = \"2023-07-01\"\n"
   ]
  },
  {
   "cell_type": "code",
   "execution_count": 4,
   "id": "cfac4b5c-ec42-4f16-9ba7-318f6a3480cc",
   "metadata": {
    "editable": true,
    "execution": {
     "iopub.execute_input": "2024-03-23T15:52:28.133308Z",
     "iopub.status.busy": "2024-03-23T15:52:28.133132Z",
     "iopub.status.idle": "2024-03-23T15:52:28.136818Z",
     "shell.execute_reply": "2024-03-23T15:52:28.136611Z"
    },
    "papermill": {
     "duration": 0.006356,
     "end_time": "2024-03-23T15:52:28.137392",
     "exception": false,
     "start_time": "2024-03-23T15:52:28.131036",
     "status": "completed"
    },
    "slideshow": {
     "slide_type": ""
    },
    "tags": []
   },
   "outputs": [
    {
     "data": {
      "text/markdown": [
       "```mermaid\n",
       "graph LR\n",
       "10_baseline --> 20_results\n",
       "\n",
       "10_baseline --> 11_pln-tune -.-> 12_hybrid\n",
       "07_microsoft_tuning --> 09_analyze_results --> 12_hybrid\n",
       "12_hybrid --> 20_results\n",
       "10_baseline --> 09_analyze_results\n",
       "```"
      ],
      "text/plain": [
       "<IPython.core.display.Markdown object>"
      ]
     },
     "execution_count": 4,
     "metadata": {},
     "output_type": "execute_result"
    }
   ],
   "source": [
    "# Display the diagram from the README.md\n",
    "\n",
    "README = Path('./README.md')\n",
    "\n",
    "with open(README, 'r') as f:\n",
    "    diagrams = re.findall(r'```mermaid[\\s\\S]*```', f.read())\n",
    "\n",
    "Markdown(\"\\n\".join(diagrams))"
   ]
  },
  {
   "cell_type": "markdown",
   "id": "aa7c0382-7d7e-45bb-bb72-a6d0d52a6b54",
   "metadata": {
    "editable": true,
    "papermill": {
     "duration": 0.001828,
     "end_time": "2024-03-23T15:52:28.141085",
     "exception": false,
     "start_time": "2024-03-23T15:52:28.139257",
     "status": "completed"
    },
    "slideshow": {
     "slide_type": ""
    },
    "tags": []
   },
   "source": [
    "## Define some common things"
   ]
  },
  {
   "cell_type": "code",
   "execution_count": 5,
   "id": "f30ef62e-ce8c-4caf-9e1e-ac40c2383068",
   "metadata": {
    "editable": true,
    "execution": {
     "iopub.execute_input": "2024-03-23T15:52:28.145340Z",
     "iopub.status.busy": "2024-03-23T15:52:28.145089Z",
     "iopub.status.idle": "2024-03-23T15:52:28.148155Z",
     "shell.execute_reply": "2024-03-23T15:52:28.147571Z"
    },
    "papermill": {
     "duration": 0.006056,
     "end_time": "2024-03-23T15:52:28.148932",
     "exception": false,
     "start_time": "2024-03-23T15:52:28.142876",
     "status": "completed"
    },
    "slideshow": {
     "slide_type": ""
    },
    "tags": []
   },
   "outputs": [],
   "source": [
    "import nbformat\n",
    "\n",
    "def is_increasing(l):\n",
    "    return (not l) or all(x<y for x,y in zip(l, l[1:]))\n",
    "\n",
    "def isCompleted(fname):\n",
    "    nb = nbformat.read(fname, as_version=4)\n",
    "    execution_counts = [c['execution_count'] for c in nb['cells'] if c['cell_type'] == 'code' and c['source'].strip()]\n",
    "    \n",
    "    return all((x is not None for x in execution_counts)) and is_increasing(execution_counts)\n",
    "\n",
    "# print(isCompleted('nbout/Decentraland/04c_dao-census-onedao.ipynb'))\n",
    "# print(isCompleted('nbout/Balancer/10_baseline_mp.ipynb'))"
   ]
  },
  {
   "cell_type": "code",
   "execution_count": 6,
   "id": "2060e67c-c685-4c3c-82f9-e348bb89fcda",
   "metadata": {
    "editable": true,
    "execution": {
     "iopub.execute_input": "2024-03-23T15:52:28.153442Z",
     "iopub.status.busy": "2024-03-23T15:52:28.153123Z",
     "iopub.status.idle": "2024-03-23T15:52:28.156049Z",
     "shell.execute_reply": "2024-03-23T15:52:28.155590Z"
    },
    "papermill": {
     "duration": 0.006028,
     "end_time": "2024-03-23T15:52:28.156813",
     "exception": false,
     "start_time": "2024-03-23T15:52:28.150785",
     "status": "completed"
    },
    "slideshow": {
     "slide_type": ""
    },
    "tags": []
   },
   "outputs": [],
   "source": [
    "def getOldExec(fname):\n",
    "    nb = nbformat.read(fname, as_version=4)\n",
    "    return nb.metadata['papermill']['parameters'].get('EXECUTION_ID')\n",
    "\n",
    "# isSameExec(fname = 'nbout/Decentraland/04c_dao-census-onedao.ipynb')"
   ]
  },
  {
   "cell_type": "code",
   "execution_count": 7,
   "id": "bea30b95-7f15-49c6-a0e4-951b2b60e26e",
   "metadata": {
    "editable": true,
    "execution": {
     "iopub.execute_input": "2024-03-23T15:52:28.161126Z",
     "iopub.status.busy": "2024-03-23T15:52:28.160913Z",
     "iopub.status.idle": "2024-03-23T15:52:28.164126Z",
     "shell.execute_reply": "2024-03-23T15:52:28.163908Z"
    },
    "papermill": {
     "duration": 0.006068,
     "end_time": "2024-03-23T15:52:28.164747",
     "exception": false,
     "start_time": "2024-03-23T15:52:28.158679",
     "status": "completed"
    },
    "slideshow": {
     "slide_type": ""
    },
    "tags": []
   },
   "outputs": [],
   "source": [
    "def run_notebook(name):\n",
    "    assert Path(name).exists(), f\"No existe el fichero {name}\"\n",
    "    \n",
    "    outpath = Path(f'./nbout/{ORG_NAME.replace(\" / \", \"_\")}')\n",
    "    outpath.mkdir(parents=True, exist_ok=True)\n",
    "    outfile = outpath/name\n",
    "\n",
    "    params = pm.inspect_notebook(name)\n",
    "    for p in ['ORG_NAME', 'ORG_PLATFORM', 'SPLITS_FREQ', 'SPLITS_NORMALIZE', 'LAST_SPLITS', 'USE_ORG_NAMES', 'CUTOFF_DATE_STR']:\n",
    "        assert p in params, f'{p} is not in notebook params'\n",
    "\n",
    "    if outfile.exists() and EXECUTION_ID:\n",
    "        oldExec = getOldExec(outfile)\n",
    "        \n",
    "        if oldExec == EXECUTION_ID and isCompleted(outfile):\n",
    "            print(f\"Skipping {outfile} with EXECUTION_ID {EXECUTION_ID}\")\n",
    "            return\n",
    "        elif oldExec != EXECUTION_ID:\n",
    "            print(f\"Different exec, re-running ({oldExec} != {EXECUTION_ID})\")\n",
    "        else:\n",
    "            print(f\"Was not complete, re-running\")\n",
    "    \n",
    "    pm.execute_notebook(\n",
    "        name, \n",
    "        outfile,\n",
    "        autosave_cell_every=30,\n",
    "        parameters=dict(\n",
    "            ORG_NAME = ORG_NAME,\n",
    "            ORG_PLATFORM = ORG_PLATFORM,\n",
    "            SPLITS_FREQ = SPLITS_FREQ,\n",
    "            SPLITS_NORMALIZE = SPLITS_NORMALIZE,\n",
    "            LAST_SPLITS = LAST_SPLITS,\n",
    "            USE_ORG_NAMES = USE_ORG_NAMES,\n",
    "            EXECUTION_ID = EXECUTION_ID,\n",
    "            CUTOFF_DATE_STR = CUTOFF_DATE_STR,\n",
    "        ),\n",
    "    )\n",
    "# run_notebook('11_pln-tune.ipynb', 'snapshot', 'Decentraland')"
   ]
  },
  {
   "cell_type": "markdown",
   "id": "e626cf81-65e9-4f6e-8271-574428439839",
   "metadata": {
    "editable": true,
    "papermill": {
     "duration": 0.001863,
     "end_time": "2024-03-23T15:52:28.168536",
     "exception": false,
     "start_time": "2024-03-23T15:52:28.166673",
     "status": "completed"
    },
    "slideshow": {
     "slide_type": ""
    },
    "tags": []
   },
   "source": [
    "## Run data from dao"
   ]
  },
  {
   "cell_type": "code",
   "execution_count": 8,
   "id": "74e51fce-f006-4861-be7b-5cd7124bb3d7",
   "metadata": {
    "editable": true,
    "execution": {
     "iopub.execute_input": "2024-03-23T15:52:28.173189Z",
     "iopub.status.busy": "2024-03-23T15:52:28.173041Z",
     "iopub.status.idle": "2024-03-23T15:52:28.232677Z",
     "shell.execute_reply": "2024-03-23T15:52:28.232404Z"
    },
    "papermill": {
     "duration": 0.063036,
     "end_time": "2024-03-23T15:52:28.233412",
     "exception": false,
     "start_time": "2024-03-23T15:52:28.170376",
     "status": "completed"
    },
    "slideshow": {
     "slide_type": ""
    },
    "tags": []
   },
   "outputs": [
    {
     "name": "stdout",
     "output_type": "stream",
     "text": [
      "Skipping nbout/PancakeSwap/04c_dao-census-onedao.ipynb with EXECUTION_ID 2024-03-21\n"
     ]
    }
   ],
   "source": [
    "#papermill_description=dao-census\n",
    "run_notebook('04c_dao-census-onedao.ipynb')"
   ]
  },
  {
   "cell_type": "markdown",
   "id": "8aef0f68-2a8c-4896-ba90-728060074715",
   "metadata": {
    "editable": true,
    "papermill": {
     "duration": 0.002219,
     "end_time": "2024-03-23T15:52:28.238052",
     "exception": false,
     "start_time": "2024-03-23T15:52:28.235833",
     "status": "completed"
    },
    "slideshow": {
     "slide_type": ""
    },
    "tags": []
   },
   "source": [
    "## Run baseline"
   ]
  },
  {
   "cell_type": "code",
   "execution_count": 9,
   "id": "abc14ace-3f95-4392-b6c2-9d0f125974de",
   "metadata": {
    "editable": true,
    "execution": {
     "iopub.execute_input": "2024-03-23T15:52:28.242846Z",
     "iopub.status.busy": "2024-03-23T15:52:28.242690Z",
     "iopub.status.idle": "2024-03-23T15:52:28.261714Z",
     "shell.execute_reply": "2024-03-23T15:52:28.261460Z"
    },
    "papermill": {
     "duration": 0.022468,
     "end_time": "2024-03-23T15:52:28.262439",
     "exception": false,
     "start_time": "2024-03-23T15:52:28.239971",
     "status": "completed"
    },
    "slideshow": {
     "slide_type": ""
    },
    "tags": []
   },
   "outputs": [
    {
     "name": "stdout",
     "output_type": "stream",
     "text": [
      "Skipping nbout/PancakeSwap/10_baseline_mp.ipynb with EXECUTION_ID 2024-03-21\n"
     ]
    }
   ],
   "source": [
    "#papermill_description=baseline\n",
    "run_notebook('10_baseline_mp.ipynb')"
   ]
  },
  {
   "cell_type": "code",
   "execution_count": 10,
   "id": "537f43d0-fc8c-4dc5-b106-f7e936b90e2c",
   "metadata": {
    "editable": true,
    "execution": {
     "iopub.execute_input": "2024-03-23T15:52:28.267448Z",
     "iopub.status.busy": "2024-03-23T15:52:28.267303Z",
     "iopub.status.idle": "2024-03-23T15:52:28.269075Z",
     "shell.execute_reply": "2024-03-23T15:52:28.268864Z"
    },
    "papermill": {
     "duration": 0.00523,
     "end_time": "2024-03-23T15:52:28.269666",
     "exception": false,
     "start_time": "2024-03-23T15:52:28.264436",
     "status": "completed"
    },
    "slideshow": {
     "slide_type": ""
    },
    "tags": []
   },
   "outputs": [],
   "source": [
    "#papermill_description=check_train\n",
    "import sys\n",
    "if not DO_TRAIN: \n",
    "    sys.exit(0)"
   ]
  },
  {
   "cell_type": "markdown",
   "id": "78d51e15-69d2-41f8-bb9c-0cd18a288b3a",
   "metadata": {
    "editable": true,
    "papermill": {
     "duration": 0.001947,
     "end_time": "2024-03-23T15:52:28.273655",
     "exception": false,
     "start_time": "2024-03-23T15:52:28.271708",
     "status": "completed"
    },
    "slideshow": {
     "slide_type": ""
    },
    "tags": []
   },
   "source": [
    "## Run pln_tune"
   ]
  },
  {
   "cell_type": "code",
   "execution_count": 11,
   "id": "7372d911-aec8-41ae-bd91-8ede877c9a37",
   "metadata": {
    "editable": true,
    "execution": {
     "iopub.execute_input": "2024-03-23T15:52:28.278380Z",
     "iopub.status.busy": "2024-03-23T15:52:28.278256Z",
     "iopub.status.idle": "2024-03-23T15:52:28.420997Z",
     "shell.execute_reply": "2024-03-23T15:52:28.420636Z"
    },
    "papermill": {
     "duration": 0.146239,
     "end_time": "2024-03-23T15:52:28.421824",
     "exception": false,
     "start_time": "2024-03-23T15:52:28.275585",
     "status": "completed"
    },
    "slideshow": {
     "slide_type": ""
    },
    "tags": []
   },
   "outputs": [
    {
     "name": "stdout",
     "output_type": "stream",
     "text": [
      "Skipping nbout/PancakeSwap/11_pln-tune.ipynb with EXECUTION_ID 2024-03-21\n"
     ]
    }
   ],
   "source": [
    "#papermill_description=pln_tune\n",
    "# if paths.pln_mdf(ORG_NAME, SPLITS_FREQ, SPLITS_NORMALIZE).exists():\n",
    "#     print(f\"Skipping {ORG_NAME} because it has been done\")    \n",
    "run_notebook('11_pln-tune.ipynb')"
   ]
  },
  {
   "cell_type": "markdown",
   "id": "3c84bcf4-17c0-4282-8bd0-28aa9e997bbd",
   "metadata": {
    "editable": true,
    "papermill": {
     "duration": 0.002381,
     "end_time": "2024-03-23T15:52:28.426837",
     "exception": false,
     "start_time": "2024-03-23T15:52:28.424456",
     "status": "completed"
    },
    "slideshow": {
     "slide_type": ""
    },
    "tags": []
   },
   "source": [
    "## Run microsoft_tuning"
   ]
  },
  {
   "cell_type": "code",
   "execution_count": 12,
   "id": "ca56c9f7-d77d-4741-8064-13efe089b0de",
   "metadata": {
    "editable": true,
    "execution": {
     "iopub.execute_input": "2024-03-23T15:52:28.431925Z",
     "iopub.status.busy": "2024-03-23T15:52:28.431757Z",
     "iopub.status.idle": "2024-03-24T04:18:20.216919Z",
     "shell.execute_reply": "2024-03-24T04:18:20.216515Z"
    },
    "papermill": {
     "duration": 44751.788974,
     "end_time": "2024-03-24T04:18:20.217813",
     "exception": false,
     "start_time": "2024-03-23T15:52:28.428839",
     "status": "completed"
    },
    "slideshow": {
     "slide_type": ""
    },
    "tags": []
   },
   "outputs": [
    {
     "name": "stderr",
     "output_type": "stream",
     "text": [
      "Passed unknown parameter: EXECUTION_ID\n"
     ]
    },
    {
     "name": "stdout",
     "output_type": "stream",
     "text": [
      "Was not complete, re-running\n"
     ]
    },
    {
     "data": {
      "application/vnd.jupyter.widget-view+json": {
       "model_id": "6267f5a35796448da83141079948308c",
       "version_major": 2,
       "version_minor": 0
      },
      "text/plain": [
       "Executing:   0%|          | 0/30 [00:00<?, ?cell/s]"
      ]
     },
     "metadata": {},
     "output_type": "display_data"
    },
    {
     "name": "stderr",
     "output_type": "stream",
     "text": [
      "2024-03-23 15:52:29.318823: E tensorflow/compiler/xla/stream_executor/cuda/cuda_dnn.cc:9342] Unable to register cuDNN factory: Attempting to register factory for plugin cuDNN when one has already been registered\n",
      "2024-03-23 15:52:29.318844: E tensorflow/compiler/xla/stream_executor/cuda/cuda_fft.cc:609] Unable to register cuFFT factory: Attempting to register factory for plugin cuFFT when one has already been registered\n",
      "2024-03-23 15:52:29.318857: E tensorflow/compiler/xla/stream_executor/cuda/cuda_blas.cc:1518] Unable to register cuBLAS factory: Attempting to register factory for plugin cuBLAS when one has already been registered\n"
     ]
    },
    {
     "name": "stderr",
     "output_type": "stream",
     "text": [
      "*** SIGTERM received at time=1711253897 on cpu 16 ***\n",
      "PC: @     0x7f745e802e2e  (unknown)  epoll_wait\n",
      "    @     0x7f745e71f520  707536784  (unknown)\n",
      "    @     0x7f745e32522c  (unknown)  (unknown)\n",
      "[2024-03-24 04:18:17,423 E 216733 216733] logging.cc:361: *** SIGTERM received at time=1711253897 on cpu 16 ***\n",
      "[2024-03-24 04:18:17,423 E 216733 216733] logging.cc:361: PC: @     0x7f745e802e2e  (unknown)  epoll_wait\n",
      "[2024-03-24 04:18:17,424 E 216733 216733] logging.cc:361:     @     0x7f745e71f520  707536784  (unknown)\n",
      "[2024-03-24 04:18:17,425 E 216733 216733] logging.cc:361:     @     0x7f745e32522c  (unknown)  (unknown)\n"
     ]
    }
   ],
   "source": [
    "#papermill_description=microsoft\n",
    "run_notebook('07_microsoft_tuning.ipynb')"
   ]
  },
  {
   "cell_type": "markdown",
   "id": "4f63d888-57d4-4a76-9565-bc382ea442e7",
   "metadata": {
    "editable": true,
    "papermill": {
     "duration": 0.002605,
     "end_time": "2024-03-24T04:18:20.223169",
     "exception": false,
     "start_time": "2024-03-24T04:18:20.220564",
     "status": "completed"
    },
    "slideshow": {
     "slide_type": ""
    },
    "tags": []
   },
   "source": [
    "## Run analyze_results"
   ]
  },
  {
   "cell_type": "code",
   "execution_count": 13,
   "id": "4d107b93-08e5-411a-8925-c6784c711709",
   "metadata": {
    "editable": true,
    "execution": {
     "iopub.execute_input": "2024-03-24T04:18:20.228770Z",
     "iopub.status.busy": "2024-03-24T04:18:20.228644Z",
     "iopub.status.idle": "2024-03-24T04:18:33.230205Z",
     "shell.execute_reply": "2024-03-24T04:18:33.229877Z"
    },
    "papermill": {
     "duration": 13.005904,
     "end_time": "2024-03-24T04:18:33.231364",
     "exception": false,
     "start_time": "2024-03-24T04:18:20.225460",
     "status": "completed"
    },
    "slideshow": {
     "slide_type": ""
    },
    "tags": []
   },
   "outputs": [
    {
     "name": "stderr",
     "output_type": "stream",
     "text": [
      "Passed unknown parameter: EXECUTION_ID\n"
     ]
    },
    {
     "name": "stdout",
     "output_type": "stream",
     "text": [
      "Different exec, re-running (2024-03-08 10:00 != 2024-03-21)\n"
     ]
    },
    {
     "data": {
      "application/vnd.jupyter.widget-view+json": {
       "model_id": "07d1c98d4f0c4589b0c55f504fc41707",
       "version_major": 2,
       "version_minor": 0
      },
      "text/plain": [
       "Executing:   0%|          | 0/47 [00:00<?, ?cell/s]"
      ]
     },
     "metadata": {},
     "output_type": "display_data"
    }
   ],
   "source": [
    "#papermill_description=analyze\n",
    "nb = run_notebook('09_analyze_results.ipynb')"
   ]
  },
  {
   "cell_type": "markdown",
   "id": "53ff9453-531a-40da-8e03-870c77e30504",
   "metadata": {
    "editable": true,
    "papermill": {
     "duration": 0.002752,
     "end_time": "2024-03-24T04:18:33.237122",
     "exception": false,
     "start_time": "2024-03-24T04:18:33.234370",
     "status": "completed"
    },
    "slideshow": {
     "slide_type": ""
    },
    "tags": []
   },
   "source": [
    "## Run hybrid"
   ]
  },
  {
   "cell_type": "code",
   "execution_count": 14,
   "id": "a7705d51-3dd1-41ed-92a9-995a8cd263e4",
   "metadata": {
    "editable": true,
    "execution": {
     "iopub.execute_input": "2024-03-24T04:18:33.243071Z",
     "iopub.status.busy": "2024-03-24T04:18:33.242923Z",
     "iopub.status.idle": "2024-03-24T04:50:44.912936Z",
     "shell.execute_reply": "2024-03-24T04:50:44.912370Z"
    },
    "papermill": {
     "duration": 1931.674639,
     "end_time": "2024-03-24T04:50:44.914143",
     "exception": false,
     "start_time": "2024-03-24T04:18:33.239504",
     "status": "completed"
    },
    "slideshow": {
     "slide_type": ""
    },
    "tags": []
   },
   "outputs": [
    {
     "name": "stderr",
     "output_type": "stream",
     "text": [
      "Passed unknown parameter: EXECUTION_ID\n"
     ]
    },
    {
     "name": "stdout",
     "output_type": "stream",
     "text": [
      "Different exec, re-running (2024-03-08 10:00 != 2024-03-21)\n"
     ]
    },
    {
     "data": {
      "application/vnd.jupyter.widget-view+json": {
       "model_id": "756293f05a254942ada4b067286f2dad",
       "version_major": 2,
       "version_minor": 0
      },
      "text/plain": [
       "Executing:   0%|          | 0/39 [00:00<?, ?cell/s]"
      ]
     },
     "metadata": {},
     "output_type": "display_data"
    },
    {
     "name": "stderr",
     "output_type": "stream",
     "text": [
      "2024-03-24 04:18:35.652546: E tensorflow/compiler/xla/stream_executor/cuda/cuda_dnn.cc:9342] Unable to register cuDNN factory: Attempting to register factory for plugin cuDNN when one has already been registered\n",
      "2024-03-24 04:18:35.652571: E tensorflow/compiler/xla/stream_executor/cuda/cuda_fft.cc:609] Unable to register cuFFT factory: Attempting to register factory for plugin cuFFT when one has already been registered\n",
      "2024-03-24 04:18:35.652584: E tensorflow/compiler/xla/stream_executor/cuda/cuda_blas.cc:1518] Unable to register cuBLAS factory: Attempting to register factory for plugin cuBLAS when one has already been registered\n"
     ]
    },
    {
     "name": "stderr",
     "output_type": "stream",
     "text": [
      "huggingface/tokenizers: The current process just got forked, after parallelism has already been used. Disabling parallelism to avoid deadlocks...\n",
      "To disable this warning, you can either:\n",
      "\t- Avoid using `tokenizers` before the fork if possible\n",
      "\t- Explicitly set the environment variable TOKENIZERS_PARALLELISM=(true | false)\n"
     ]
    }
   ],
   "source": [
    "#papermill_description=hybrid\n",
    "run_notebook('12_hybrid.ipynb')"
   ]
  },
  {
   "cell_type": "markdown",
   "id": "da0e9e21-fb45-4ced-a82e-2b06529f082a",
   "metadata": {
    "papermill": {
     "duration": 0.002891,
     "end_time": "2024-03-24T04:50:44.920049",
     "exception": false,
     "start_time": "2024-03-24T04:50:44.917158",
     "status": "completed"
    },
    "tags": []
   },
   "source": [
    "## Run results"
   ]
  },
  {
   "cell_type": "code",
   "execution_count": 15,
   "id": "27450d01-bbd9-47d1-9827-dd415209bd74",
   "metadata": {
    "execution": {
     "iopub.execute_input": "2024-03-24T04:50:44.926187Z",
     "iopub.status.busy": "2024-03-24T04:50:44.926058Z",
     "iopub.status.idle": "2024-03-24T04:51:50.848887Z",
     "shell.execute_reply": "2024-03-24T04:51:50.848495Z"
    },
    "papermill": {
     "duration": 65.927899,
     "end_time": "2024-03-24T04:51:50.850395",
     "exception": false,
     "start_time": "2024-03-24T04:50:44.922496",
     "status": "completed"
    },
    "tags": []
   },
   "outputs": [
    {
     "name": "stderr",
     "output_type": "stream",
     "text": [
      "Passed unknown parameter: EXECUTION_ID\n"
     ]
    },
    {
     "name": "stdout",
     "output_type": "stream",
     "text": [
      "Different exec, re-running (2024-03-08 10:00 != 2024-03-21)\n"
     ]
    },
    {
     "data": {
      "application/vnd.jupyter.widget-view+json": {
       "model_id": "b5121efa4edb41968379f0d06245c62f",
       "version_major": 2,
       "version_minor": 0
      },
      "text/plain": [
       "Executing:   0%|          | 0/21 [00:00<?, ?cell/s]"
      ]
     },
     "metadata": {},
     "output_type": "display_data"
    }
   ],
   "source": [
    "#papermill_description=results\n",
    "run_notebook('20_results.ipynb')"
   ]
  }
 ],
 "metadata": {
  "kernelspec": {
   "display_name": "Python 3 (ipykernel)",
   "language": "python",
   "name": "python3"
  },
  "language_info": {
   "codemirror_mode": {
    "name": "ipython",
    "version": 3
   },
   "file_extension": ".py",
   "mimetype": "text/x-python",
   "name": "python",
   "nbconvert_exporter": "python",
   "pygments_lexer": "ipython3",
   "version": "3.9.18"
  },
  "papermill": {
   "default_parameters": {},
   "duration": 46764.066768,
   "end_time": "2024-03-24T04:51:51.111194",
   "environment_variables": {},
   "exception": null,
   "input_path": "30_run_one.ipynb",
   "output_path": "nbout/PancakeSwap/30_run_one.ipynb",
   "parameters": {
    "CUTOFF_DATE_STR": "2023-07-01",
    "DO_TRAIN": true,
    "EXECUTION_ID": "2024-03-21",
    "LAST_SPLITS": 10,
    "ORG_NAME": "PancakeSwap",
    "ORG_PLATFORM": "snapshot",
    "SPLITS_FREQ": "3d",
    "SPLITS_NORMALIZE": true,
    "USE_ORG_NAMES": true
   },
   "start_time": "2024-03-23T15:52:27.044426",
   "version": "2.5.0"
  },
  "widgets": {
   "application/vnd.jupyter.widget-state+json": {
    "state": {
     "018dc04ac87641329644eb1d8d3a2cc5": {
      "model_module": "@jupyter-widgets/controls",
      "model_module_version": "2.0.0",
      "model_name": "HTMLModel",
      "state": {
       "_dom_classes": [],
       "_model_module": "@jupyter-widgets/controls",
       "_model_module_version": "2.0.0",
       "_model_name": "HTMLModel",
       "_view_count": null,
       "_view_module": "@jupyter-widgets/controls",
       "_view_module_version": "2.0.0",
       "_view_name": "HTMLView",
       "description": "",
       "description_allow_html": false,
       "layout": "IPY_MODEL_707eb3f2153346c283657fa684bf6fd2",
       "placeholder": "​",
       "style": "IPY_MODEL_0903c32ae02c4b018612c5de2305de2b",
       "tabbable": null,
       "tooltip": null,
       "value": "Executing: 100%"
      }
     },
     "0637556107ab425bbd56c907a7cba420": {
      "model_module": "@jupyter-widgets/controls",
      "model_module_version": "2.0.0",
      "model_name": "ProgressStyleModel",
      "state": {
       "_model_module": "@jupyter-widgets/controls",
       "_model_module_version": "2.0.0",
       "_model_name": "ProgressStyleModel",
       "_view_count": null,
       "_view_module": "@jupyter-widgets/base",
       "_view_module_version": "2.0.0",
       "_view_name": "StyleView",
       "bar_color": null,
       "description_width": ""
      }
     },
     "07d1c98d4f0c4589b0c55f504fc41707": {
      "model_module": "@jupyter-widgets/controls",
      "model_module_version": "2.0.0",
      "model_name": "HBoxModel",
      "state": {
       "_dom_classes": [],
       "_model_module": "@jupyter-widgets/controls",
       "_model_module_version": "2.0.0",
       "_model_name": "HBoxModel",
       "_view_count": null,
       "_view_module": "@jupyter-widgets/controls",
       "_view_module_version": "2.0.0",
       "_view_name": "HBoxView",
       "box_style": "",
       "children": [
        "IPY_MODEL_018dc04ac87641329644eb1d8d3a2cc5",
        "IPY_MODEL_f414e5ff9bac4631bbb9e362c4a65665",
        "IPY_MODEL_80f48b0328604eb7bad77e0cd5aa08ff"
       ],
       "layout": "IPY_MODEL_9e1b2bfe45bd45f99c24d9b8457a6f7c",
       "tabbable": null,
       "tooltip": null
      }
     },
     "0903c32ae02c4b018612c5de2305de2b": {
      "model_module": "@jupyter-widgets/controls",
      "model_module_version": "2.0.0",
      "model_name": "HTMLStyleModel",
      "state": {
       "_model_module": "@jupyter-widgets/controls",
       "_model_module_version": "2.0.0",
       "_model_name": "HTMLStyleModel",
       "_view_count": null,
       "_view_module": "@jupyter-widgets/base",
       "_view_module_version": "2.0.0",
       "_view_name": "StyleView",
       "background": null,
       "description_width": "",
       "font_size": null,
       "text_color": null
      }
     },
     "0908d5b67a2a4e37950a4e0df7f4c4dd": {
      "model_module": "@jupyter-widgets/base",
      "model_module_version": "2.0.0",
      "model_name": "LayoutModel",
      "state": {
       "_model_module": "@jupyter-widgets/base",
       "_model_module_version": "2.0.0",
       "_model_name": "LayoutModel",
       "_view_count": null,
       "_view_module": "@jupyter-widgets/base",
       "_view_module_version": "2.0.0",
       "_view_name": "LayoutView",
       "align_content": null,
       "align_items": null,
       "align_self": null,
       "border_bottom": null,
       "border_left": null,
       "border_right": null,
       "border_top": null,
       "bottom": null,
       "display": null,
       "flex": null,
       "flex_flow": null,
       "grid_area": null,
       "grid_auto_columns": null,
       "grid_auto_flow": null,
       "grid_auto_rows": null,
       "grid_column": null,
       "grid_gap": null,
       "grid_row": null,
       "grid_template_areas": null,
       "grid_template_columns": null,
       "grid_template_rows": null,
       "height": null,
       "justify_content": null,
       "justify_items": null,
       "left": null,
       "margin": null,
       "max_height": null,
       "max_width": null,
       "min_height": null,
       "min_width": null,
       "object_fit": null,
       "object_position": null,
       "order": null,
       "overflow": null,
       "padding": null,
       "right": null,
       "top": null,
       "visibility": null,
       "width": null
      }
     },
     "1f99d14b7cf14e66a23a01132050d2b8": {
      "model_module": "@jupyter-widgets/controls",
      "model_module_version": "2.0.0",
      "model_name": "HTMLModel",
      "state": {
       "_dom_classes": [],
       "_model_module": "@jupyter-widgets/controls",
       "_model_module_version": "2.0.0",
       "_model_name": "HTMLModel",
       "_view_count": null,
       "_view_module": "@jupyter-widgets/controls",
       "_view_module_version": "2.0.0",
       "_view_name": "HTMLView",
       "description": "",
       "description_allow_html": false,
       "layout": "IPY_MODEL_0908d5b67a2a4e37950a4e0df7f4c4dd",
       "placeholder": "​",
       "style": "IPY_MODEL_e614b86dc83a4543bfb2a360528db2ff",
       "tabbable": null,
       "tooltip": null,
       "value": " 39/39 [32:11&lt;00:00,  2.01s/cell]"
      }
     },
     "25df83d7b4fd45f2b7749de8024d427a": {
      "model_module": "@jupyter-widgets/base",
      "model_module_version": "2.0.0",
      "model_name": "LayoutModel",
      "state": {
       "_model_module": "@jupyter-widgets/base",
       "_model_module_version": "2.0.0",
       "_model_name": "LayoutModel",
       "_view_count": null,
       "_view_module": "@jupyter-widgets/base",
       "_view_module_version": "2.0.0",
       "_view_name": "LayoutView",
       "align_content": null,
       "align_items": null,
       "align_self": null,
       "border_bottom": null,
       "border_left": null,
       "border_right": null,
       "border_top": null,
       "bottom": null,
       "display": null,
       "flex": null,
       "flex_flow": null,
       "grid_area": null,
       "grid_auto_columns": null,
       "grid_auto_flow": null,
       "grid_auto_rows": null,
       "grid_column": null,
       "grid_gap": null,
       "grid_row": null,
       "grid_template_areas": null,
       "grid_template_columns": null,
       "grid_template_rows": null,
       "height": null,
       "justify_content": null,
       "justify_items": null,
       "left": null,
       "margin": null,
       "max_height": null,
       "max_width": null,
       "min_height": null,
       "min_width": null,
       "object_fit": null,
       "object_position": null,
       "order": null,
       "overflow": null,
       "padding": null,
       "right": null,
       "top": null,
       "visibility": null,
       "width": null
      }
     },
     "26770660661b403089ae43a42633712c": {
      "model_module": "@jupyter-widgets/controls",
      "model_module_version": "2.0.0",
      "model_name": "HTMLStyleModel",
      "state": {
       "_model_module": "@jupyter-widgets/controls",
       "_model_module_version": "2.0.0",
       "_model_name": "HTMLStyleModel",
       "_view_count": null,
       "_view_module": "@jupyter-widgets/base",
       "_view_module_version": "2.0.0",
       "_view_name": "StyleView",
       "background": null,
       "description_width": "",
       "font_size": null,
       "text_color": null
      }
     },
     "2a21fbd189964716893545e3655eb077": {
      "model_module": "@jupyter-widgets/controls",
      "model_module_version": "2.0.0",
      "model_name": "HTMLStyleModel",
      "state": {
       "_model_module": "@jupyter-widgets/controls",
       "_model_module_version": "2.0.0",
       "_model_name": "HTMLStyleModel",
       "_view_count": null,
       "_view_module": "@jupyter-widgets/base",
       "_view_module_version": "2.0.0",
       "_view_name": "StyleView",
       "background": null,
       "description_width": "",
       "font_size": null,
       "text_color": null
      }
     },
     "32d73718f9a24cfa862cd98bd66c8127": {
      "model_module": "@jupyter-widgets/base",
      "model_module_version": "2.0.0",
      "model_name": "LayoutModel",
      "state": {
       "_model_module": "@jupyter-widgets/base",
       "_model_module_version": "2.0.0",
       "_model_name": "LayoutModel",
       "_view_count": null,
       "_view_module": "@jupyter-widgets/base",
       "_view_module_version": "2.0.0",
       "_view_name": "LayoutView",
       "align_content": null,
       "align_items": null,
       "align_self": null,
       "border_bottom": null,
       "border_left": null,
       "border_right": null,
       "border_top": null,
       "bottom": null,
       "display": null,
       "flex": null,
       "flex_flow": null,
       "grid_area": null,
       "grid_auto_columns": null,
       "grid_auto_flow": null,
       "grid_auto_rows": null,
       "grid_column": null,
       "grid_gap": null,
       "grid_row": null,
       "grid_template_areas": null,
       "grid_template_columns": null,
       "grid_template_rows": null,
       "height": null,
       "justify_content": null,
       "justify_items": null,
       "left": null,
       "margin": null,
       "max_height": null,
       "max_width": null,
       "min_height": null,
       "min_width": null,
       "object_fit": null,
       "object_position": null,
       "order": null,
       "overflow": null,
       "padding": null,
       "right": null,
       "top": null,
       "visibility": null,
       "width": null
      }
     },
     "3753939adf974212942d3105e83c09a4": {
      "model_module": "@jupyter-widgets/controls",
      "model_module_version": "2.0.0",
      "model_name": "HTMLStyleModel",
      "state": {
       "_model_module": "@jupyter-widgets/controls",
       "_model_module_version": "2.0.0",
       "_model_name": "HTMLStyleModel",
       "_view_count": null,
       "_view_module": "@jupyter-widgets/base",
       "_view_module_version": "2.0.0",
       "_view_name": "StyleView",
       "background": null,
       "description_width": "",
       "font_size": null,
       "text_color": null
      }
     },
     "42e0e7410a9348328eceb4620ba5f315": {
      "model_module": "@jupyter-widgets/controls",
      "model_module_version": "2.0.0",
      "model_name": "FloatProgressModel",
      "state": {
       "_dom_classes": [],
       "_model_module": "@jupyter-widgets/controls",
       "_model_module_version": "2.0.0",
       "_model_name": "FloatProgressModel",
       "_view_count": null,
       "_view_module": "@jupyter-widgets/controls",
       "_view_module_version": "2.0.0",
       "_view_name": "ProgressView",
       "bar_style": "success",
       "description": "",
       "description_allow_html": false,
       "layout": "IPY_MODEL_ff614b33c19e4211ae916f707df76169",
       "max": 21.0,
       "min": 0.0,
       "orientation": "horizontal",
       "style": "IPY_MODEL_50a24f3939e245f5bb35effac8a1d575",
       "tabbable": null,
       "tooltip": null,
       "value": 21.0
      }
     },
     "4cc62323e22f4260a801ad2f278d01ca": {
      "model_module": "@jupyter-widgets/base",
      "model_module_version": "2.0.0",
      "model_name": "LayoutModel",
      "state": {
       "_model_module": "@jupyter-widgets/base",
       "_model_module_version": "2.0.0",
       "_model_name": "LayoutModel",
       "_view_count": null,
       "_view_module": "@jupyter-widgets/base",
       "_view_module_version": "2.0.0",
       "_view_name": "LayoutView",
       "align_content": null,
       "align_items": null,
       "align_self": null,
       "border_bottom": null,
       "border_left": null,
       "border_right": null,
       "border_top": null,
       "bottom": null,
       "display": null,
       "flex": null,
       "flex_flow": null,
       "grid_area": null,
       "grid_auto_columns": null,
       "grid_auto_flow": null,
       "grid_auto_rows": null,
       "grid_column": null,
       "grid_gap": null,
       "grid_row": null,
       "grid_template_areas": null,
       "grid_template_columns": null,
       "grid_template_rows": null,
       "height": null,
       "justify_content": null,
       "justify_items": null,
       "left": null,
       "margin": null,
       "max_height": null,
       "max_width": null,
       "min_height": null,
       "min_width": null,
       "object_fit": null,
       "object_position": null,
       "order": null,
       "overflow": null,
       "padding": null,
       "right": null,
       "top": null,
       "visibility": null,
       "width": null
      }
     },
     "50a24f3939e245f5bb35effac8a1d575": {
      "model_module": "@jupyter-widgets/controls",
      "model_module_version": "2.0.0",
      "model_name": "ProgressStyleModel",
      "state": {
       "_model_module": "@jupyter-widgets/controls",
       "_model_module_version": "2.0.0",
       "_model_name": "ProgressStyleModel",
       "_view_count": null,
       "_view_module": "@jupyter-widgets/base",
       "_view_module_version": "2.0.0",
       "_view_name": "StyleView",
       "bar_color": null,
       "description_width": ""
      }
     },
     "5bd74e860af84d84be52175c95291f1a": {
      "model_module": "@jupyter-widgets/controls",
      "model_module_version": "2.0.0",
      "model_name": "ProgressStyleModel",
      "state": {
       "_model_module": "@jupyter-widgets/controls",
       "_model_module_version": "2.0.0",
       "_model_name": "ProgressStyleModel",
       "_view_count": null,
       "_view_module": "@jupyter-widgets/base",
       "_view_module_version": "2.0.0",
       "_view_name": "StyleView",
       "bar_color": null,
       "description_width": ""
      }
     },
     "5e2426bc8c8445b5b4a600684167da5e": {
      "model_module": "@jupyter-widgets/controls",
      "model_module_version": "2.0.0",
      "model_name": "HTMLStyleModel",
      "state": {
       "_model_module": "@jupyter-widgets/controls",
       "_model_module_version": "2.0.0",
       "_model_name": "HTMLStyleModel",
       "_view_count": null,
       "_view_module": "@jupyter-widgets/base",
       "_view_module_version": "2.0.0",
       "_view_name": "StyleView",
       "background": null,
       "description_width": "",
       "font_size": null,
       "text_color": null
      }
     },
     "6267f5a35796448da83141079948308c": {
      "model_module": "@jupyter-widgets/controls",
      "model_module_version": "2.0.0",
      "model_name": "HBoxModel",
      "state": {
       "_dom_classes": [],
       "_model_module": "@jupyter-widgets/controls",
       "_model_module_version": "2.0.0",
       "_model_name": "HBoxModel",
       "_view_count": null,
       "_view_module": "@jupyter-widgets/controls",
       "_view_module_version": "2.0.0",
       "_view_name": "HBoxView",
       "box_style": "",
       "children": [
        "IPY_MODEL_6fb772b655db4a0ca919829ac4213bf1",
        "IPY_MODEL_80dc01063c6646c9a78ed9b9ef23fe5c",
        "IPY_MODEL_db0e6ed2ea694ca8a221c53b7acac223"
       ],
       "layout": "IPY_MODEL_f4ba961f15ec4547945141c65fd95372",
       "tabbable": null,
       "tooltip": null
      }
     },
     "68d585eb1e0741e5b5afadd609b0ccbc": {
      "model_module": "@jupyter-widgets/controls",
      "model_module_version": "2.0.0",
      "model_name": "ProgressStyleModel",
      "state": {
       "_model_module": "@jupyter-widgets/controls",
       "_model_module_version": "2.0.0",
       "_model_name": "ProgressStyleModel",
       "_view_count": null,
       "_view_module": "@jupyter-widgets/base",
       "_view_module_version": "2.0.0",
       "_view_name": "StyleView",
       "bar_color": null,
       "description_width": ""
      }
     },
     "6b584367ed2f4ca0b8f2df251f15da71": {
      "model_module": "@jupyter-widgets/base",
      "model_module_version": "2.0.0",
      "model_name": "LayoutModel",
      "state": {
       "_model_module": "@jupyter-widgets/base",
       "_model_module_version": "2.0.0",
       "_model_name": "LayoutModel",
       "_view_count": null,
       "_view_module": "@jupyter-widgets/base",
       "_view_module_version": "2.0.0",
       "_view_name": "LayoutView",
       "align_content": null,
       "align_items": null,
       "align_self": null,
       "border_bottom": null,
       "border_left": null,
       "border_right": null,
       "border_top": null,
       "bottom": null,
       "display": null,
       "flex": null,
       "flex_flow": null,
       "grid_area": null,
       "grid_auto_columns": null,
       "grid_auto_flow": null,
       "grid_auto_rows": null,
       "grid_column": null,
       "grid_gap": null,
       "grid_row": null,
       "grid_template_areas": null,
       "grid_template_columns": null,
       "grid_template_rows": null,
       "height": null,
       "justify_content": null,
       "justify_items": null,
       "left": null,
       "margin": null,
       "max_height": null,
       "max_width": null,
       "min_height": null,
       "min_width": null,
       "object_fit": null,
       "object_position": null,
       "order": null,
       "overflow": null,
       "padding": null,
       "right": null,
       "top": null,
       "visibility": null,
       "width": null
      }
     },
     "6fb772b655db4a0ca919829ac4213bf1": {
      "model_module": "@jupyter-widgets/controls",
      "model_module_version": "2.0.0",
      "model_name": "HTMLModel",
      "state": {
       "_dom_classes": [],
       "_model_module": "@jupyter-widgets/controls",
       "_model_module_version": "2.0.0",
       "_model_name": "HTMLModel",
       "_view_count": null,
       "_view_module": "@jupyter-widgets/controls",
       "_view_module_version": "2.0.0",
       "_view_name": "HTMLView",
       "description": "",
       "description_allow_html": false,
       "layout": "IPY_MODEL_b605cb53c68542c68c301f52b1d18c80",
       "placeholder": "​",
       "style": "IPY_MODEL_3753939adf974212942d3105e83c09a4",
       "tabbable": null,
       "tooltip": null,
       "value": "Executing: 100%"
      }
     },
     "707eb3f2153346c283657fa684bf6fd2": {
      "model_module": "@jupyter-widgets/base",
      "model_module_version": "2.0.0",
      "model_name": "LayoutModel",
      "state": {
       "_model_module": "@jupyter-widgets/base",
       "_model_module_version": "2.0.0",
       "_model_name": "LayoutModel",
       "_view_count": null,
       "_view_module": "@jupyter-widgets/base",
       "_view_module_version": "2.0.0",
       "_view_name": "LayoutView",
       "align_content": null,
       "align_items": null,
       "align_self": null,
       "border_bottom": null,
       "border_left": null,
       "border_right": null,
       "border_top": null,
       "bottom": null,
       "display": null,
       "flex": null,
       "flex_flow": null,
       "grid_area": null,
       "grid_auto_columns": null,
       "grid_auto_flow": null,
       "grid_auto_rows": null,
       "grid_column": null,
       "grid_gap": null,
       "grid_row": null,
       "grid_template_areas": null,
       "grid_template_columns": null,
       "grid_template_rows": null,
       "height": null,
       "justify_content": null,
       "justify_items": null,
       "left": null,
       "margin": null,
       "max_height": null,
       "max_width": null,
       "min_height": null,
       "min_width": null,
       "object_fit": null,
       "object_position": null,
       "order": null,
       "overflow": null,
       "padding": null,
       "right": null,
       "top": null,
       "visibility": null,
       "width": null
      }
     },
     "756293f05a254942ada4b067286f2dad": {
      "model_module": "@jupyter-widgets/controls",
      "model_module_version": "2.0.0",
      "model_name": "HBoxModel",
      "state": {
       "_dom_classes": [],
       "_model_module": "@jupyter-widgets/controls",
       "_model_module_version": "2.0.0",
       "_model_name": "HBoxModel",
       "_view_count": null,
       "_view_module": "@jupyter-widgets/controls",
       "_view_module_version": "2.0.0",
       "_view_name": "HBoxView",
       "box_style": "",
       "children": [
        "IPY_MODEL_da743aad25af4d2b95c1dd1011dddc46",
        "IPY_MODEL_bc7428c68d214172ba07ba8dc5e9d28f",
        "IPY_MODEL_1f99d14b7cf14e66a23a01132050d2b8"
       ],
       "layout": "IPY_MODEL_e24ac925d93a4999aadaaf1d69b2585f",
       "tabbable": null,
       "tooltip": null
      }
     },
     "77729c5782e24e2db2c7843664801622": {
      "model_module": "@jupyter-widgets/base",
      "model_module_version": "2.0.0",
      "model_name": "LayoutModel",
      "state": {
       "_model_module": "@jupyter-widgets/base",
       "_model_module_version": "2.0.0",
       "_model_name": "LayoutModel",
       "_view_count": null,
       "_view_module": "@jupyter-widgets/base",
       "_view_module_version": "2.0.0",
       "_view_name": "LayoutView",
       "align_content": null,
       "align_items": null,
       "align_self": null,
       "border_bottom": null,
       "border_left": null,
       "border_right": null,
       "border_top": null,
       "bottom": null,
       "display": null,
       "flex": null,
       "flex_flow": null,
       "grid_area": null,
       "grid_auto_columns": null,
       "grid_auto_flow": null,
       "grid_auto_rows": null,
       "grid_column": null,
       "grid_gap": null,
       "grid_row": null,
       "grid_template_areas": null,
       "grid_template_columns": null,
       "grid_template_rows": null,
       "height": null,
       "justify_content": null,
       "justify_items": null,
       "left": null,
       "margin": null,
       "max_height": null,
       "max_width": null,
       "min_height": null,
       "min_width": null,
       "object_fit": null,
       "object_position": null,
       "order": null,
       "overflow": null,
       "padding": null,
       "right": null,
       "top": null,
       "visibility": null,
       "width": null
      }
     },
     "7c48cd9618ae41bfaf15f26694c8cd82": {
      "model_module": "@jupyter-widgets/base",
      "model_module_version": "2.0.0",
      "model_name": "LayoutModel",
      "state": {
       "_model_module": "@jupyter-widgets/base",
       "_model_module_version": "2.0.0",
       "_model_name": "LayoutModel",
       "_view_count": null,
       "_view_module": "@jupyter-widgets/base",
       "_view_module_version": "2.0.0",
       "_view_name": "LayoutView",
       "align_content": null,
       "align_items": null,
       "align_self": null,
       "border_bottom": null,
       "border_left": null,
       "border_right": null,
       "border_top": null,
       "bottom": null,
       "display": null,
       "flex": null,
       "flex_flow": null,
       "grid_area": null,
       "grid_auto_columns": null,
       "grid_auto_flow": null,
       "grid_auto_rows": null,
       "grid_column": null,
       "grid_gap": null,
       "grid_row": null,
       "grid_template_areas": null,
       "grid_template_columns": null,
       "grid_template_rows": null,
       "height": null,
       "justify_content": null,
       "justify_items": null,
       "left": null,
       "margin": null,
       "max_height": null,
       "max_width": null,
       "min_height": null,
       "min_width": null,
       "object_fit": null,
       "object_position": null,
       "order": null,
       "overflow": null,
       "padding": null,
       "right": null,
       "top": null,
       "visibility": null,
       "width": null
      }
     },
     "80dc01063c6646c9a78ed9b9ef23fe5c": {
      "model_module": "@jupyter-widgets/controls",
      "model_module_version": "2.0.0",
      "model_name": "FloatProgressModel",
      "state": {
       "_dom_classes": [],
       "_model_module": "@jupyter-widgets/controls",
       "_model_module_version": "2.0.0",
       "_model_name": "FloatProgressModel",
       "_view_count": null,
       "_view_module": "@jupyter-widgets/controls",
       "_view_module_version": "2.0.0",
       "_view_name": "ProgressView",
       "bar_style": "success",
       "description": "",
       "description_allow_html": false,
       "layout": "IPY_MODEL_6b584367ed2f4ca0b8f2df251f15da71",
       "max": 30.0,
       "min": 0.0,
       "orientation": "horizontal",
       "style": "IPY_MODEL_68d585eb1e0741e5b5afadd609b0ccbc",
       "tabbable": null,
       "tooltip": null,
       "value": 30.0
      }
     },
     "80f48b0328604eb7bad77e0cd5aa08ff": {
      "model_module": "@jupyter-widgets/controls",
      "model_module_version": "2.0.0",
      "model_name": "HTMLModel",
      "state": {
       "_dom_classes": [],
       "_model_module": "@jupyter-widgets/controls",
       "_model_module_version": "2.0.0",
       "_model_name": "HTMLModel",
       "_view_count": null,
       "_view_module": "@jupyter-widgets/controls",
       "_view_module_version": "2.0.0",
       "_view_name": "HTMLView",
       "description": "",
       "description_allow_html": false,
       "layout": "IPY_MODEL_f35202babf094af1a20214b54282b86b",
       "placeholder": "​",
       "style": "IPY_MODEL_26770660661b403089ae43a42633712c",
       "tabbable": null,
       "tooltip": null,
       "value": " 47/47 [00:12&lt;00:00,  3.66cell/s]"
      }
     },
     "8d7b37a7f28b4f08a2345c5d0d85ad70": {
      "model_module": "@jupyter-widgets/controls",
      "model_module_version": "2.0.0",
      "model_name": "HTMLModel",
      "state": {
       "_dom_classes": [],
       "_model_module": "@jupyter-widgets/controls",
       "_model_module_version": "2.0.0",
       "_model_name": "HTMLModel",
       "_view_count": null,
       "_view_module": "@jupyter-widgets/controls",
       "_view_module_version": "2.0.0",
       "_view_name": "HTMLView",
       "description": "",
       "description_allow_html": false,
       "layout": "IPY_MODEL_32d73718f9a24cfa862cd98bd66c8127",
       "placeholder": "​",
       "style": "IPY_MODEL_2a21fbd189964716893545e3655eb077",
       "tabbable": null,
       "tooltip": null,
       "value": " 21/21 [01:05&lt;00:00,  4.56s/cell]"
      }
     },
     "9d309a9d72d8499fb7565eac59b4b71b": {
      "model_module": "@jupyter-widgets/controls",
      "model_module_version": "2.0.0",
      "model_name": "HTMLStyleModel",
      "state": {
       "_model_module": "@jupyter-widgets/controls",
       "_model_module_version": "2.0.0",
       "_model_name": "HTMLStyleModel",
       "_view_count": null,
       "_view_module": "@jupyter-widgets/base",
       "_view_module_version": "2.0.0",
       "_view_name": "StyleView",
       "background": null,
       "description_width": "",
       "font_size": null,
       "text_color": null
      }
     },
     "9e1b2bfe45bd45f99c24d9b8457a6f7c": {
      "model_module": "@jupyter-widgets/base",
      "model_module_version": "2.0.0",
      "model_name": "LayoutModel",
      "state": {
       "_model_module": "@jupyter-widgets/base",
       "_model_module_version": "2.0.0",
       "_model_name": "LayoutModel",
       "_view_count": null,
       "_view_module": "@jupyter-widgets/base",
       "_view_module_version": "2.0.0",
       "_view_name": "LayoutView",
       "align_content": null,
       "align_items": null,
       "align_self": null,
       "border_bottom": null,
       "border_left": null,
       "border_right": null,
       "border_top": null,
       "bottom": null,
       "display": null,
       "flex": null,
       "flex_flow": null,
       "grid_area": null,
       "grid_auto_columns": null,
       "grid_auto_flow": null,
       "grid_auto_rows": null,
       "grid_column": null,
       "grid_gap": null,
       "grid_row": null,
       "grid_template_areas": null,
       "grid_template_columns": null,
       "grid_template_rows": null,
       "height": null,
       "justify_content": null,
       "justify_items": null,
       "left": null,
       "margin": null,
       "max_height": null,
       "max_width": null,
       "min_height": null,
       "min_width": null,
       "object_fit": null,
       "object_position": null,
       "order": null,
       "overflow": null,
       "padding": null,
       "right": null,
       "top": null,
       "visibility": null,
       "width": null
      }
     },
     "b5121efa4edb41968379f0d06245c62f": {
      "model_module": "@jupyter-widgets/controls",
      "model_module_version": "2.0.0",
      "model_name": "HBoxModel",
      "state": {
       "_dom_classes": [],
       "_model_module": "@jupyter-widgets/controls",
       "_model_module_version": "2.0.0",
       "_model_name": "HBoxModel",
       "_view_count": null,
       "_view_module": "@jupyter-widgets/controls",
       "_view_module_version": "2.0.0",
       "_view_name": "HBoxView",
       "box_style": "",
       "children": [
        "IPY_MODEL_fd94516de1804af0a642a4ea51e6e163",
        "IPY_MODEL_42e0e7410a9348328eceb4620ba5f315",
        "IPY_MODEL_8d7b37a7f28b4f08a2345c5d0d85ad70"
       ],
       "layout": "IPY_MODEL_7c48cd9618ae41bfaf15f26694c8cd82",
       "tabbable": null,
       "tooltip": null
      }
     },
     "b605cb53c68542c68c301f52b1d18c80": {
      "model_module": "@jupyter-widgets/base",
      "model_module_version": "2.0.0",
      "model_name": "LayoutModel",
      "state": {
       "_model_module": "@jupyter-widgets/base",
       "_model_module_version": "2.0.0",
       "_model_name": "LayoutModel",
       "_view_count": null,
       "_view_module": "@jupyter-widgets/base",
       "_view_module_version": "2.0.0",
       "_view_name": "LayoutView",
       "align_content": null,
       "align_items": null,
       "align_self": null,
       "border_bottom": null,
       "border_left": null,
       "border_right": null,
       "border_top": null,
       "bottom": null,
       "display": null,
       "flex": null,
       "flex_flow": null,
       "grid_area": null,
       "grid_auto_columns": null,
       "grid_auto_flow": null,
       "grid_auto_rows": null,
       "grid_column": null,
       "grid_gap": null,
       "grid_row": null,
       "grid_template_areas": null,
       "grid_template_columns": null,
       "grid_template_rows": null,
       "height": null,
       "justify_content": null,
       "justify_items": null,
       "left": null,
       "margin": null,
       "max_height": null,
       "max_width": null,
       "min_height": null,
       "min_width": null,
       "object_fit": null,
       "object_position": null,
       "order": null,
       "overflow": null,
       "padding": null,
       "right": null,
       "top": null,
       "visibility": null,
       "width": null
      }
     },
     "bc7428c68d214172ba07ba8dc5e9d28f": {
      "model_module": "@jupyter-widgets/controls",
      "model_module_version": "2.0.0",
      "model_name": "FloatProgressModel",
      "state": {
       "_dom_classes": [],
       "_model_module": "@jupyter-widgets/controls",
       "_model_module_version": "2.0.0",
       "_model_name": "FloatProgressModel",
       "_view_count": null,
       "_view_module": "@jupyter-widgets/controls",
       "_view_module_version": "2.0.0",
       "_view_name": "ProgressView",
       "bar_style": "success",
       "description": "",
       "description_allow_html": false,
       "layout": "IPY_MODEL_25df83d7b4fd45f2b7749de8024d427a",
       "max": 39.0,
       "min": 0.0,
       "orientation": "horizontal",
       "style": "IPY_MODEL_0637556107ab425bbd56c907a7cba420",
       "tabbable": null,
       "tooltip": null,
       "value": 39.0
      }
     },
     "c11e4b212b004bb287f1227321152cae": {
      "model_module": "@jupyter-widgets/base",
      "model_module_version": "2.0.0",
      "model_name": "LayoutModel",
      "state": {
       "_model_module": "@jupyter-widgets/base",
       "_model_module_version": "2.0.0",
       "_model_name": "LayoutModel",
       "_view_count": null,
       "_view_module": "@jupyter-widgets/base",
       "_view_module_version": "2.0.0",
       "_view_name": "LayoutView",
       "align_content": null,
       "align_items": null,
       "align_self": null,
       "border_bottom": null,
       "border_left": null,
       "border_right": null,
       "border_top": null,
       "bottom": null,
       "display": null,
       "flex": null,
       "flex_flow": null,
       "grid_area": null,
       "grid_auto_columns": null,
       "grid_auto_flow": null,
       "grid_auto_rows": null,
       "grid_column": null,
       "grid_gap": null,
       "grid_row": null,
       "grid_template_areas": null,
       "grid_template_columns": null,
       "grid_template_rows": null,
       "height": null,
       "justify_content": null,
       "justify_items": null,
       "left": null,
       "margin": null,
       "max_height": null,
       "max_width": null,
       "min_height": null,
       "min_width": null,
       "object_fit": null,
       "object_position": null,
       "order": null,
       "overflow": null,
       "padding": null,
       "right": null,
       "top": null,
       "visibility": null,
       "width": null
      }
     },
     "d8404445265e43ff9fd1a2ed4c34bc61": {
      "model_module": "@jupyter-widgets/controls",
      "model_module_version": "2.0.0",
      "model_name": "HTMLStyleModel",
      "state": {
       "_model_module": "@jupyter-widgets/controls",
       "_model_module_version": "2.0.0",
       "_model_name": "HTMLStyleModel",
       "_view_count": null,
       "_view_module": "@jupyter-widgets/base",
       "_view_module_version": "2.0.0",
       "_view_name": "StyleView",
       "background": null,
       "description_width": "",
       "font_size": null,
       "text_color": null
      }
     },
     "da743aad25af4d2b95c1dd1011dddc46": {
      "model_module": "@jupyter-widgets/controls",
      "model_module_version": "2.0.0",
      "model_name": "HTMLModel",
      "state": {
       "_dom_classes": [],
       "_model_module": "@jupyter-widgets/controls",
       "_model_module_version": "2.0.0",
       "_model_name": "HTMLModel",
       "_view_count": null,
       "_view_module": "@jupyter-widgets/controls",
       "_view_module_version": "2.0.0",
       "_view_name": "HTMLView",
       "description": "",
       "description_allow_html": false,
       "layout": "IPY_MODEL_77729c5782e24e2db2c7843664801622",
       "placeholder": "​",
       "style": "IPY_MODEL_5e2426bc8c8445b5b4a600684167da5e",
       "tabbable": null,
       "tooltip": null,
       "value": "Executing: 100%"
      }
     },
     "db0e6ed2ea694ca8a221c53b7acac223": {
      "model_module": "@jupyter-widgets/controls",
      "model_module_version": "2.0.0",
      "model_name": "HTMLModel",
      "state": {
       "_dom_classes": [],
       "_model_module": "@jupyter-widgets/controls",
       "_model_module_version": "2.0.0",
       "_model_name": "HTMLModel",
       "_view_count": null,
       "_view_module": "@jupyter-widgets/controls",
       "_view_module_version": "2.0.0",
       "_view_name": "HTMLView",
       "description": "",
       "description_allow_html": false,
       "layout": "IPY_MODEL_f36aa650a14a49a0b6c476dab8fb1bea",
       "placeholder": "​",
       "style": "IPY_MODEL_9d309a9d72d8499fb7565eac59b4b71b",
       "tabbable": null,
       "tooltip": null,
       "value": " 30/30 [12:25:51&lt;00:00, 4659.31s/cell]"
      }
     },
     "e24ac925d93a4999aadaaf1d69b2585f": {
      "model_module": "@jupyter-widgets/base",
      "model_module_version": "2.0.0",
      "model_name": "LayoutModel",
      "state": {
       "_model_module": "@jupyter-widgets/base",
       "_model_module_version": "2.0.0",
       "_model_name": "LayoutModel",
       "_view_count": null,
       "_view_module": "@jupyter-widgets/base",
       "_view_module_version": "2.0.0",
       "_view_name": "LayoutView",
       "align_content": null,
       "align_items": null,
       "align_self": null,
       "border_bottom": null,
       "border_left": null,
       "border_right": null,
       "border_top": null,
       "bottom": null,
       "display": null,
       "flex": null,
       "flex_flow": null,
       "grid_area": null,
       "grid_auto_columns": null,
       "grid_auto_flow": null,
       "grid_auto_rows": null,
       "grid_column": null,
       "grid_gap": null,
       "grid_row": null,
       "grid_template_areas": null,
       "grid_template_columns": null,
       "grid_template_rows": null,
       "height": null,
       "justify_content": null,
       "justify_items": null,
       "left": null,
       "margin": null,
       "max_height": null,
       "max_width": null,
       "min_height": null,
       "min_width": null,
       "object_fit": null,
       "object_position": null,
       "order": null,
       "overflow": null,
       "padding": null,
       "right": null,
       "top": null,
       "visibility": null,
       "width": null
      }
     },
     "e614b86dc83a4543bfb2a360528db2ff": {
      "model_module": "@jupyter-widgets/controls",
      "model_module_version": "2.0.0",
      "model_name": "HTMLStyleModel",
      "state": {
       "_model_module": "@jupyter-widgets/controls",
       "_model_module_version": "2.0.0",
       "_model_name": "HTMLStyleModel",
       "_view_count": null,
       "_view_module": "@jupyter-widgets/base",
       "_view_module_version": "2.0.0",
       "_view_name": "StyleView",
       "background": null,
       "description_width": "",
       "font_size": null,
       "text_color": null
      }
     },
     "f35202babf094af1a20214b54282b86b": {
      "model_module": "@jupyter-widgets/base",
      "model_module_version": "2.0.0",
      "model_name": "LayoutModel",
      "state": {
       "_model_module": "@jupyter-widgets/base",
       "_model_module_version": "2.0.0",
       "_model_name": "LayoutModel",
       "_view_count": null,
       "_view_module": "@jupyter-widgets/base",
       "_view_module_version": "2.0.0",
       "_view_name": "LayoutView",
       "align_content": null,
       "align_items": null,
       "align_self": null,
       "border_bottom": null,
       "border_left": null,
       "border_right": null,
       "border_top": null,
       "bottom": null,
       "display": null,
       "flex": null,
       "flex_flow": null,
       "grid_area": null,
       "grid_auto_columns": null,
       "grid_auto_flow": null,
       "grid_auto_rows": null,
       "grid_column": null,
       "grid_gap": null,
       "grid_row": null,
       "grid_template_areas": null,
       "grid_template_columns": null,
       "grid_template_rows": null,
       "height": null,
       "justify_content": null,
       "justify_items": null,
       "left": null,
       "margin": null,
       "max_height": null,
       "max_width": null,
       "min_height": null,
       "min_width": null,
       "object_fit": null,
       "object_position": null,
       "order": null,
       "overflow": null,
       "padding": null,
       "right": null,
       "top": null,
       "visibility": null,
       "width": null
      }
     },
     "f36aa650a14a49a0b6c476dab8fb1bea": {
      "model_module": "@jupyter-widgets/base",
      "model_module_version": "2.0.0",
      "model_name": "LayoutModel",
      "state": {
       "_model_module": "@jupyter-widgets/base",
       "_model_module_version": "2.0.0",
       "_model_name": "LayoutModel",
       "_view_count": null,
       "_view_module": "@jupyter-widgets/base",
       "_view_module_version": "2.0.0",
       "_view_name": "LayoutView",
       "align_content": null,
       "align_items": null,
       "align_self": null,
       "border_bottom": null,
       "border_left": null,
       "border_right": null,
       "border_top": null,
       "bottom": null,
       "display": null,
       "flex": null,
       "flex_flow": null,
       "grid_area": null,
       "grid_auto_columns": null,
       "grid_auto_flow": null,
       "grid_auto_rows": null,
       "grid_column": null,
       "grid_gap": null,
       "grid_row": null,
       "grid_template_areas": null,
       "grid_template_columns": null,
       "grid_template_rows": null,
       "height": null,
       "justify_content": null,
       "justify_items": null,
       "left": null,
       "margin": null,
       "max_height": null,
       "max_width": null,
       "min_height": null,
       "min_width": null,
       "object_fit": null,
       "object_position": null,
       "order": null,
       "overflow": null,
       "padding": null,
       "right": null,
       "top": null,
       "visibility": null,
       "width": null
      }
     },
     "f414e5ff9bac4631bbb9e362c4a65665": {
      "model_module": "@jupyter-widgets/controls",
      "model_module_version": "2.0.0",
      "model_name": "FloatProgressModel",
      "state": {
       "_dom_classes": [],
       "_model_module": "@jupyter-widgets/controls",
       "_model_module_version": "2.0.0",
       "_model_name": "FloatProgressModel",
       "_view_count": null,
       "_view_module": "@jupyter-widgets/controls",
       "_view_module_version": "2.0.0",
       "_view_name": "ProgressView",
       "bar_style": "success",
       "description": "",
       "description_allow_html": false,
       "layout": "IPY_MODEL_c11e4b212b004bb287f1227321152cae",
       "max": 47.0,
       "min": 0.0,
       "orientation": "horizontal",
       "style": "IPY_MODEL_5bd74e860af84d84be52175c95291f1a",
       "tabbable": null,
       "tooltip": null,
       "value": 47.0
      }
     },
     "f4ba961f15ec4547945141c65fd95372": {
      "model_module": "@jupyter-widgets/base",
      "model_module_version": "2.0.0",
      "model_name": "LayoutModel",
      "state": {
       "_model_module": "@jupyter-widgets/base",
       "_model_module_version": "2.0.0",
       "_model_name": "LayoutModel",
       "_view_count": null,
       "_view_module": "@jupyter-widgets/base",
       "_view_module_version": "2.0.0",
       "_view_name": "LayoutView",
       "align_content": null,
       "align_items": null,
       "align_self": null,
       "border_bottom": null,
       "border_left": null,
       "border_right": null,
       "border_top": null,
       "bottom": null,
       "display": null,
       "flex": null,
       "flex_flow": null,
       "grid_area": null,
       "grid_auto_columns": null,
       "grid_auto_flow": null,
       "grid_auto_rows": null,
       "grid_column": null,
       "grid_gap": null,
       "grid_row": null,
       "grid_template_areas": null,
       "grid_template_columns": null,
       "grid_template_rows": null,
       "height": null,
       "justify_content": null,
       "justify_items": null,
       "left": null,
       "margin": null,
       "max_height": null,
       "max_width": null,
       "min_height": null,
       "min_width": null,
       "object_fit": null,
       "object_position": null,
       "order": null,
       "overflow": null,
       "padding": null,
       "right": null,
       "top": null,
       "visibility": null,
       "width": null
      }
     },
     "fd94516de1804af0a642a4ea51e6e163": {
      "model_module": "@jupyter-widgets/controls",
      "model_module_version": "2.0.0",
      "model_name": "HTMLModel",
      "state": {
       "_dom_classes": [],
       "_model_module": "@jupyter-widgets/controls",
       "_model_module_version": "2.0.0",
       "_model_name": "HTMLModel",
       "_view_count": null,
       "_view_module": "@jupyter-widgets/controls",
       "_view_module_version": "2.0.0",
       "_view_name": "HTMLView",
       "description": "",
       "description_allow_html": false,
       "layout": "IPY_MODEL_4cc62323e22f4260a801ad2f278d01ca",
       "placeholder": "​",
       "style": "IPY_MODEL_d8404445265e43ff9fd1a2ed4c34bc61",
       "tabbable": null,
       "tooltip": null,
       "value": "Executing: 100%"
      }
     },
     "ff614b33c19e4211ae916f707df76169": {
      "model_module": "@jupyter-widgets/base",
      "model_module_version": "2.0.0",
      "model_name": "LayoutModel",
      "state": {
       "_model_module": "@jupyter-widgets/base",
       "_model_module_version": "2.0.0",
       "_model_name": "LayoutModel",
       "_view_count": null,
       "_view_module": "@jupyter-widgets/base",
       "_view_module_version": "2.0.0",
       "_view_name": "LayoutView",
       "align_content": null,
       "align_items": null,
       "align_self": null,
       "border_bottom": null,
       "border_left": null,
       "border_right": null,
       "border_top": null,
       "bottom": null,
       "display": null,
       "flex": null,
       "flex_flow": null,
       "grid_area": null,
       "grid_auto_columns": null,
       "grid_auto_flow": null,
       "grid_auto_rows": null,
       "grid_column": null,
       "grid_gap": null,
       "grid_row": null,
       "grid_template_areas": null,
       "grid_template_columns": null,
       "grid_template_rows": null,
       "height": null,
       "justify_content": null,
       "justify_items": null,
       "left": null,
       "margin": null,
       "max_height": null,
       "max_width": null,
       "min_height": null,
       "min_width": null,
       "object_fit": null,
       "object_position": null,
       "order": null,
       "overflow": null,
       "padding": null,
       "right": null,
       "top": null,
       "visibility": null,
       "width": null
      }
     }
    },
    "version_major": 2,
    "version_minor": 0
   }
  }
 },
 "nbformat": 4,
 "nbformat_minor": 5
}