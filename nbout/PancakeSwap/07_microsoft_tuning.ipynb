{
 "cells": [
  {
   "cell_type": "code",
   "execution_count": 1,
   "id": "cf98a9e1-f3e0-4c0a-96c1-30f305901246",
   "metadata": {
    "editable": true,
    "execution": {
     "iopub.execute_input": "2024-03-10T13:47:06.052822Z",
     "iopub.status.busy": "2024-03-10T13:47:06.052179Z",
     "iopub.status.idle": "2024-03-10T13:47:08.500721Z",
     "shell.execute_reply": "2024-03-10T13:47:08.500343Z"
    },
    "papermill": {
     "duration": 2.46067,
     "end_time": "2024-03-10T13:47:08.501644",
     "exception": false,
     "start_time": "2024-03-10T13:47:06.040974",
     "status": "completed"
    },
    "slideshow": {
     "slide_type": ""
    },
    "tags": []
   },
   "outputs": [
    {
     "name": "stdout",
     "output_type": "stream",
     "text": [
      "Python version 3.9.18 (main, Oct 24 2023, 09:18:18) \n",
      "[GCC 11.4.0]\n"
     ]
    },
    {
     "name": "stderr",
     "output_type": "stream",
     "text": [
      "2024-03-10 13:47:06.391939: E tensorflow/compiler/xla/stream_executor/cuda/cuda_dnn.cc:9342] Unable to register cuDNN factory: Attempting to register factory for plugin cuDNN when one has already been registered\n",
      "2024-03-10 13:47:06.391963: E tensorflow/compiler/xla/stream_executor/cuda/cuda_fft.cc:609] Unable to register cuFFT factory: Attempting to register factory for plugin cuFFT when one has already been registered\n",
      "2024-03-10 13:47:06.391975: E tensorflow/compiler/xla/stream_executor/cuda/cuda_blas.cc:1518] Unable to register cuBLAS factory: Attempting to register factory for plugin cuBLAS when one has already been registered\n"
     ]
    },
    {
     "name": "stdout",
     "output_type": "stream",
     "text": [
      "11.8 8\n",
      "Ray version: 2.9.1\n"
     ]
    }
   ],
   "source": [
    "from typing import Dict, List, Tuple, Union, Any, Optional\n",
    "\n",
    "import os\n",
    "import sys\n",
    "import time\n",
    "print(\"Python version\", sys.version)\n",
    "\n",
    "# Ignore pandas warnings\n",
    "import warnings\n",
    "warnings.simplefilter(action='ignore', category=FutureWarning)\n",
    "\n",
    "from pathlib import Path\n",
    "\n",
    "import pandas as pd\n",
    "import numpy as np\n",
    "import tensorflow as tf\n",
    "import datetime as dt\n",
    "\n",
    "from tqdm.autonotebook import tqdm\n",
    "\n",
    "import ray\n",
    "from ray import train, tune\n",
    "\n",
    "from src.datasets import daocensus_text\n",
    "\n",
    "%load_ext autoreload\n",
    "%autoreload 2\n",
    "\n",
    "tf.get_logger().setLevel('WARNING')\n",
    "\n",
    "tf.config.list_physical_devices(\"GPU\")\n",
    "sys_details = tf.sysconfig.get_build_info()\n",
    "cuda = sys_details.get(\"cuda_version\", -1)\n",
    "cudnn = sys_details.get(\"cudnn_version\", -1)\n",
    "print(cuda, cudnn)\n",
    "print('Ray version:', ray.__version__)"
   ]
  },
  {
   "cell_type": "code",
   "execution_count": 2,
   "id": "798161a7-5414-4626-9dfb-6d71823bf4c7",
   "metadata": {
    "editable": true,
    "execution": {
     "iopub.execute_input": "2024-03-10T13:47:08.508442Z",
     "iopub.status.busy": "2024-03-10T13:47:08.508210Z",
     "iopub.status.idle": "2024-03-10T13:47:08.530919Z",
     "shell.execute_reply": "2024-03-10T13:47:08.530665Z"
    },
    "papermill": {
     "duration": 0.026554,
     "end_time": "2024-03-10T13:47:08.531775",
     "exception": false,
     "start_time": "2024-03-10T13:47:08.505221",
     "status": "completed"
    },
    "slideshow": {
     "slide_type": ""
    },
    "tags": [
     "parameters"
    ]
   },
   "outputs": [],
   "source": [
    "# Others config\n",
    "SEED: int = 57\n",
    "RAY_RESULTS_PATH: Path = Path('~/ray_results').expanduser()\n",
    "\n",
    "# Dataset config\n",
    "ORG_NAME = 'Decentraland'\n",
    "ORG_PLATFORM = 'snapshot'\n",
    "USE_ORG_NAMES: bool = False\n",
    "CUTOFF_DATE_STR: str = None\n",
    "\n",
    "# Dataset splits config\n",
    "SPLITS_FREQ = 'W-THU' # Split weekly\n",
    "LAST_SPLITS = 10 # Use just last 10 splits\n",
    "SPLITS_NORMALIZE = True\n",
    "\n",
    "# Training config\n",
    "MAX_EPOCHS: int = 200\n",
    "EPOCHS_PER_ITER: int = 5\n",
    "SAMPLES_PER_SPLIT: int = 100\n",
    "OPTIM_METRIC: str = 'map@10'\n",
    "\n",
    "# Eval config\n",
    "TOP_K: List[int] = [5, 10]\n",
    "METRICS: List[str] = [\"recall\", \"ndcg\", \"precision\", \"map\"]"
   ]
  },
  {
   "cell_type": "code",
   "execution_count": 3,
   "id": "6d1e4cbe",
   "metadata": {
    "execution": {
     "iopub.execute_input": "2024-03-10T13:47:08.536817Z",
     "iopub.status.busy": "2024-03-10T13:47:08.536709Z",
     "iopub.status.idle": "2024-03-10T13:47:08.558567Z",
     "shell.execute_reply": "2024-03-10T13:47:08.558226Z"
    },
    "papermill": {
     "duration": 0.025369,
     "end_time": "2024-03-10T13:47:08.559413",
     "exception": false,
     "start_time": "2024-03-10T13:47:08.534044",
     "status": "completed"
    },
    "tags": [
     "injected-parameters"
    ]
   },
   "outputs": [],
   "source": [
    "# Parameters\n",
    "ORG_NAME = \"PancakeSwap\"\n",
    "ORG_PLATFORM = \"snapshot\"\n",
    "SPLITS_FREQ = \"3d\"\n",
    "SPLITS_NORMALIZE = True\n",
    "LAST_SPLITS = 10\n",
    "USE_ORG_NAMES = True\n",
    "EXECUTION_ID = \"2024-03-08 10:00\"\n",
    "CUTOFF_DATE_STR = \"2023-07-01\"\n"
   ]
  },
  {
   "cell_type": "code",
   "execution_count": 4,
   "id": "cb3db761-9d3b-4a8b-9164-1008f2e8bab5",
   "metadata": {
    "execution": {
     "iopub.execute_input": "2024-03-10T13:47:08.564372Z",
     "iopub.status.busy": "2024-03-10T13:47:08.564199Z",
     "iopub.status.idle": "2024-03-10T13:47:08.581535Z",
     "shell.execute_reply": "2024-03-10T13:47:08.581224Z"
    },
    "papermill": {
     "duration": 0.020786,
     "end_time": "2024-03-10T13:47:08.582393",
     "exception": false,
     "start_time": "2024-03-10T13:47:08.561607",
     "status": "completed"
    },
    "tags": []
   },
   "outputs": [],
   "source": [
    "CUTOFF_DATE = dt.datetime.fromisoformat(CUTOFF_DATE_STR) if CUTOFF_DATE_STR else None"
   ]
  },
  {
   "cell_type": "markdown",
   "id": "ab0ff2f2-bdaa-46eb-87d1-c4481734b8c0",
   "metadata": {
    "papermill": {
     "duration": 0.002293,
     "end_time": "2024-03-10T13:47:08.586908",
     "exception": false,
     "start_time": "2024-03-10T13:47:08.584615",
     "status": "completed"
    },
    "tags": []
   },
   "source": [
    "# Load data"
   ]
  },
  {
   "cell_type": "code",
   "execution_count": 5,
   "id": "765a4892-6a85-40ab-a65d-c0d76b0569b2",
   "metadata": {
    "editable": true,
    "execution": {
     "iopub.execute_input": "2024-03-10T13:47:08.591942Z",
     "iopub.status.busy": "2024-03-10T13:47:08.591806Z",
     "iopub.status.idle": "2024-03-10T13:47:15.252480Z",
     "shell.execute_reply": "2024-03-10T13:47:15.252175Z"
    },
    "papermill": {
     "duration": 6.6643,
     "end_time": "2024-03-10T13:47:15.253389",
     "exception": false,
     "start_time": "2024-03-10T13:47:08.589089",
     "status": "completed"
    },
    "scrolled": true,
    "slideshow": {
     "slide_type": ""
    },
    "tags": []
   },
   "outputs": [
    {
     "data": {
      "text/html": [
       "<div>\n",
       "<style scoped>\n",
       "    .dataframe tbody tr th:only-of-type {\n",
       "        vertical-align: middle;\n",
       "    }\n",
       "\n",
       "    .dataframe tbody tr th {\n",
       "        vertical-align: top;\n",
       "    }\n",
       "\n",
       "    .dataframe thead th {\n",
       "        text-align: right;\n",
       "    }\n",
       "</style>\n",
       "<table border=\"1\" class=\"dataframe\">\n",
       "  <thead>\n",
       "    <tr style=\"text-align: right;\">\n",
       "      <th></th>\n",
       "      <th>platform</th>\n",
       "      <th>name</th>\n",
       "      <th>id</th>\n",
       "      <th>proposal</th>\n",
       "      <th>deployment</th>\n",
       "      <th>platform_vote</th>\n",
       "      <th>voter</th>\n",
       "      <th>date</th>\n",
       "      <th>choice</th>\n",
       "      <th>weight</th>\n",
       "    </tr>\n",
       "  </thead>\n",
       "  <tbody>\n",
       "    <tr>\n",
       "      <th>0</th>\n",
       "      <td>snapshot</td>\n",
       "      <td>PancakeSwap</td>\n",
       "      <td>0e1eb2f7-ec2a-59d5-a435-a494d08c5a8b</td>\n",
       "      <td>32d8d279-eb34-5718-9081-4deb1b662a37</td>\n",
       "      <td>e2ec62ae-9b29-5f3a-a541-58678bb64a1b</td>\n",
       "      <td>0xb0fcbc6f10b7c4cf6760924462e6a1ed2b88ceb4d22b...</td>\n",
       "      <td>0x71aa938631f32011303150bd7d1c7f4b5d2f3694</td>\n",
       "      <td>2021-12-07 17:59:03</td>\n",
       "      <td>[0.01]</td>\n",
       "      <td>0.0</td>\n",
       "    </tr>\n",
       "    <tr>\n",
       "      <th>1</th>\n",
       "      <td>snapshot</td>\n",
       "      <td>PancakeSwap</td>\n",
       "      <td>7bcb7bea-a8e9-5b33-9ea7-3f341e605ad2</td>\n",
       "      <td>32d8d279-eb34-5718-9081-4deb1b662a37</td>\n",
       "      <td>e2ec62ae-9b29-5f3a-a541-58678bb64a1b</td>\n",
       "      <td>0xb25efbe53439436654e7041df8e85347bcd64ad022bc...</td>\n",
       "      <td>0xfee6b5d6fd92e64248e5af14023a19bf0cbaa04a</td>\n",
       "      <td>2021-12-07 17:56:45</td>\n",
       "      <td>[0.01]</td>\n",
       "      <td>0.0</td>\n",
       "    </tr>\n",
       "    <tr>\n",
       "      <th>2</th>\n",
       "      <td>snapshot</td>\n",
       "      <td>PancakeSwap</td>\n",
       "      <td>d96aa22e-d352-55fe-91de-2316af9f8810</td>\n",
       "      <td>32d8d279-eb34-5718-9081-4deb1b662a37</td>\n",
       "      <td>e2ec62ae-9b29-5f3a-a541-58678bb64a1b</td>\n",
       "      <td>0xe69372429af52eb5571f60402c01184c3f5207cbca28...</td>\n",
       "      <td>0x077f6c80a1c43a63db6892b85bed5205c0afbc4f</td>\n",
       "      <td>2021-12-07 17:27:49</td>\n",
       "      <td>[0.01]</td>\n",
       "      <td>0.0</td>\n",
       "    </tr>\n",
       "    <tr>\n",
       "      <th>3</th>\n",
       "      <td>snapshot</td>\n",
       "      <td>PancakeSwap</td>\n",
       "      <td>5adbc4f5-a08b-57e1-923d-84f9e38d0189</td>\n",
       "      <td>32d8d279-eb34-5718-9081-4deb1b662a37</td>\n",
       "      <td>e2ec62ae-9b29-5f3a-a541-58678bb64a1b</td>\n",
       "      <td>0x23e095e99d27bbf8458cd87f20b56df18d758a570a06...</td>\n",
       "      <td>0x5473b5210b996ac3809996e9e9dd4d716d3df08c</td>\n",
       "      <td>2021-12-07 17:22:02</td>\n",
       "      <td>[0.01]</td>\n",
       "      <td>0.0</td>\n",
       "    </tr>\n",
       "    <tr>\n",
       "      <th>4</th>\n",
       "      <td>snapshot</td>\n",
       "      <td>PancakeSwap</td>\n",
       "      <td>ecabb2af-bd29-5f46-9e5c-dcb09c49508a</td>\n",
       "      <td>32d8d279-eb34-5718-9081-4deb1b662a37</td>\n",
       "      <td>e2ec62ae-9b29-5f3a-a541-58678bb64a1b</td>\n",
       "      <td>0xf5042f86a7745f82206c7f327b3276229783e443f2df...</td>\n",
       "      <td>0xe99ce54c794408f6c162f9dc4e7fedc4ab3a04f2</td>\n",
       "      <td>2021-12-07 13:59:15</td>\n",
       "      <td>[0.01]</td>\n",
       "      <td>0.0</td>\n",
       "    </tr>\n",
       "    <tr>\n",
       "      <th>...</th>\n",
       "      <td>...</td>\n",
       "      <td>...</td>\n",
       "      <td>...</td>\n",
       "      <td>...</td>\n",
       "      <td>...</td>\n",
       "      <td>...</td>\n",
       "      <td>...</td>\n",
       "      <td>...</td>\n",
       "      <td>...</td>\n",
       "      <td>...</td>\n",
       "    </tr>\n",
       "    <tr>\n",
       "      <th>529459</th>\n",
       "      <td>snapshot</td>\n",
       "      <td>PancakeSwap</td>\n",
       "      <td>4f04c278-65df-5f7d-b129-03add4a93efb</td>\n",
       "      <td>993ffb33-adc7-5c95-aa0e-39e1dff59ddb</td>\n",
       "      <td>e2ec62ae-9b29-5f3a-a541-58678bb64a1b</td>\n",
       "      <td>QmSaVbd3MLbvwQJgP63MwdXnRzvJobB194bSosHNewBum7</td>\n",
       "      <td>0x7fdcd2e33e371ec87b95bbffc2554e0b2009e446</td>\n",
       "      <td>2021-08-05 06:17:17</td>\n",
       "      <td>[0]</td>\n",
       "      <td>0.0</td>\n",
       "    </tr>\n",
       "    <tr>\n",
       "      <th>529460</th>\n",
       "      <td>snapshot</td>\n",
       "      <td>PancakeSwap</td>\n",
       "      <td>22ba3cac-316f-5f3f-9c7e-fc0a2e8b8d8c</td>\n",
       "      <td>993ffb33-adc7-5c95-aa0e-39e1dff59ddb</td>\n",
       "      <td>e2ec62ae-9b29-5f3a-a541-58678bb64a1b</td>\n",
       "      <td>QmYTkUwPM9jzZwj9228uKUgDbHfxwjdCam8FjChUZXxTTS</td>\n",
       "      <td>0xcffc400e997df71f4b69ecd70534a918830f9691</td>\n",
       "      <td>2021-08-05 06:17:18</td>\n",
       "      <td>[0]</td>\n",
       "      <td>0.0</td>\n",
       "    </tr>\n",
       "    <tr>\n",
       "      <th>529461</th>\n",
       "      <td>snapshot</td>\n",
       "      <td>PancakeSwap</td>\n",
       "      <td>5abcef64-bbcc-568a-a44d-5605112f7da4</td>\n",
       "      <td>993ffb33-adc7-5c95-aa0e-39e1dff59ddb</td>\n",
       "      <td>e2ec62ae-9b29-5f3a-a541-58678bb64a1b</td>\n",
       "      <td>QmSQhyP5VVbCv9UwFJQoXW5zeJJbnQcjjKRPRCLb2WS29T</td>\n",
       "      <td>0x70818eed32bbf091b6a00a4e5f10b92cb1ac5335</td>\n",
       "      <td>2021-08-05 06:17:26</td>\n",
       "      <td>[0]</td>\n",
       "      <td>0.0</td>\n",
       "    </tr>\n",
       "    <tr>\n",
       "      <th>529462</th>\n",
       "      <td>snapshot</td>\n",
       "      <td>PancakeSwap</td>\n",
       "      <td>32b55e8f-53c8-5680-884e-67daa32cbf46</td>\n",
       "      <td>993ffb33-adc7-5c95-aa0e-39e1dff59ddb</td>\n",
       "      <td>e2ec62ae-9b29-5f3a-a541-58678bb64a1b</td>\n",
       "      <td>QmSLiiQP5MgEbSnaS6htcedsRLGh9nRcCWRL7iB2NZ1Y33</td>\n",
       "      <td>0xe452962479546db940f53052af3c03dbf8a4c08b</td>\n",
       "      <td>2021-08-05 06:17:41</td>\n",
       "      <td>[0]</td>\n",
       "      <td>0.0</td>\n",
       "    </tr>\n",
       "    <tr>\n",
       "      <th>529463</th>\n",
       "      <td>snapshot</td>\n",
       "      <td>PancakeSwap</td>\n",
       "      <td>3726eab8-ef74-509a-8d7c-7431fcefd1ab</td>\n",
       "      <td>993ffb33-adc7-5c95-aa0e-39e1dff59ddb</td>\n",
       "      <td>e2ec62ae-9b29-5f3a-a541-58678bb64a1b</td>\n",
       "      <td>QmQsY7d19zLh1G3fYMNFja3hSkJwpSM7xugJv3ypSkUyWK</td>\n",
       "      <td>0x40352d623c651bb40fc9c9b82e2f4a4e2562f895</td>\n",
       "      <td>2021-08-05 06:17:42</td>\n",
       "      <td>[0]</td>\n",
       "      <td>0.0</td>\n",
       "    </tr>\n",
       "  </tbody>\n",
       "</table>\n",
       "<p>529464 rows × 10 columns</p>\n",
       "</div>"
      ],
      "text/plain": [
       "        platform         name                                    id  \\\n",
       "0       snapshot  PancakeSwap  0e1eb2f7-ec2a-59d5-a435-a494d08c5a8b   \n",
       "1       snapshot  PancakeSwap  7bcb7bea-a8e9-5b33-9ea7-3f341e605ad2   \n",
       "2       snapshot  PancakeSwap  d96aa22e-d352-55fe-91de-2316af9f8810   \n",
       "3       snapshot  PancakeSwap  5adbc4f5-a08b-57e1-923d-84f9e38d0189   \n",
       "4       snapshot  PancakeSwap  ecabb2af-bd29-5f46-9e5c-dcb09c49508a   \n",
       "...          ...          ...                                   ...   \n",
       "529459  snapshot  PancakeSwap  4f04c278-65df-5f7d-b129-03add4a93efb   \n",
       "529460  snapshot  PancakeSwap  22ba3cac-316f-5f3f-9c7e-fc0a2e8b8d8c   \n",
       "529461  snapshot  PancakeSwap  5abcef64-bbcc-568a-a44d-5605112f7da4   \n",
       "529462  snapshot  PancakeSwap  32b55e8f-53c8-5680-884e-67daa32cbf46   \n",
       "529463  snapshot  PancakeSwap  3726eab8-ef74-509a-8d7c-7431fcefd1ab   \n",
       "\n",
       "                                    proposal  \\\n",
       "0       32d8d279-eb34-5718-9081-4deb1b662a37   \n",
       "1       32d8d279-eb34-5718-9081-4deb1b662a37   \n",
       "2       32d8d279-eb34-5718-9081-4deb1b662a37   \n",
       "3       32d8d279-eb34-5718-9081-4deb1b662a37   \n",
       "4       32d8d279-eb34-5718-9081-4deb1b662a37   \n",
       "...                                      ...   \n",
       "529459  993ffb33-adc7-5c95-aa0e-39e1dff59ddb   \n",
       "529460  993ffb33-adc7-5c95-aa0e-39e1dff59ddb   \n",
       "529461  993ffb33-adc7-5c95-aa0e-39e1dff59ddb   \n",
       "529462  993ffb33-adc7-5c95-aa0e-39e1dff59ddb   \n",
       "529463  993ffb33-adc7-5c95-aa0e-39e1dff59ddb   \n",
       "\n",
       "                                  deployment  \\\n",
       "0       e2ec62ae-9b29-5f3a-a541-58678bb64a1b   \n",
       "1       e2ec62ae-9b29-5f3a-a541-58678bb64a1b   \n",
       "2       e2ec62ae-9b29-5f3a-a541-58678bb64a1b   \n",
       "3       e2ec62ae-9b29-5f3a-a541-58678bb64a1b   \n",
       "4       e2ec62ae-9b29-5f3a-a541-58678bb64a1b   \n",
       "...                                      ...   \n",
       "529459  e2ec62ae-9b29-5f3a-a541-58678bb64a1b   \n",
       "529460  e2ec62ae-9b29-5f3a-a541-58678bb64a1b   \n",
       "529461  e2ec62ae-9b29-5f3a-a541-58678bb64a1b   \n",
       "529462  e2ec62ae-9b29-5f3a-a541-58678bb64a1b   \n",
       "529463  e2ec62ae-9b29-5f3a-a541-58678bb64a1b   \n",
       "\n",
       "                                            platform_vote  \\\n",
       "0       0xb0fcbc6f10b7c4cf6760924462e6a1ed2b88ceb4d22b...   \n",
       "1       0xb25efbe53439436654e7041df8e85347bcd64ad022bc...   \n",
       "2       0xe69372429af52eb5571f60402c01184c3f5207cbca28...   \n",
       "3       0x23e095e99d27bbf8458cd87f20b56df18d758a570a06...   \n",
       "4       0xf5042f86a7745f82206c7f327b3276229783e443f2df...   \n",
       "...                                                   ...   \n",
       "529459     QmSaVbd3MLbvwQJgP63MwdXnRzvJobB194bSosHNewBum7   \n",
       "529460     QmYTkUwPM9jzZwj9228uKUgDbHfxwjdCam8FjChUZXxTTS   \n",
       "529461     QmSQhyP5VVbCv9UwFJQoXW5zeJJbnQcjjKRPRCLb2WS29T   \n",
       "529462     QmSLiiQP5MgEbSnaS6htcedsRLGh9nRcCWRL7iB2NZ1Y33   \n",
       "529463     QmQsY7d19zLh1G3fYMNFja3hSkJwpSM7xugJv3ypSkUyWK   \n",
       "\n",
       "                                             voter                date  \\\n",
       "0       0x71aa938631f32011303150bd7d1c7f4b5d2f3694 2021-12-07 17:59:03   \n",
       "1       0xfee6b5d6fd92e64248e5af14023a19bf0cbaa04a 2021-12-07 17:56:45   \n",
       "2       0x077f6c80a1c43a63db6892b85bed5205c0afbc4f 2021-12-07 17:27:49   \n",
       "3       0x5473b5210b996ac3809996e9e9dd4d716d3df08c 2021-12-07 17:22:02   \n",
       "4       0xe99ce54c794408f6c162f9dc4e7fedc4ab3a04f2 2021-12-07 13:59:15   \n",
       "...                                            ...                 ...   \n",
       "529459  0x7fdcd2e33e371ec87b95bbffc2554e0b2009e446 2021-08-05 06:17:17   \n",
       "529460  0xcffc400e997df71f4b69ecd70534a918830f9691 2021-08-05 06:17:18   \n",
       "529461  0x70818eed32bbf091b6a00a4e5f10b92cb1ac5335 2021-08-05 06:17:26   \n",
       "529462  0xe452962479546db940f53052af3c03dbf8a4c08b 2021-08-05 06:17:41   \n",
       "529463  0x40352d623c651bb40fc9c9b82e2f4a4e2562f895 2021-08-05 06:17:42   \n",
       "\n",
       "        choice  weight  \n",
       "0       [0.01]     0.0  \n",
       "1       [0.01]     0.0  \n",
       "2       [0.01]     0.0  \n",
       "3       [0.01]     0.0  \n",
       "4       [0.01]     0.0  \n",
       "...        ...     ...  \n",
       "529459     [0]     0.0  \n",
       "529460     [0]     0.0  \n",
       "529461     [0]     0.0  \n",
       "529462     [0]     0.0  \n",
       "529463     [0]     0.0  \n",
       "\n",
       "[529464 rows x 10 columns]"
      ]
     },
     "metadata": {},
     "output_type": "display_data"
    },
    {
     "name": "stdout",
     "output_type": "stream",
     "text": [
      "Warning, removing 529464 votes without proposal\n"
     ]
    },
    {
     "name": "stdout",
     "output_type": "stream",
     "text": [
      "<class 'pandas.core.frame.DataFrame'>\n",
      "Int64Index: 529464 entries, 0 to 529463\n",
      "Data columns (total 10 columns):\n",
      " #   Column         Non-Null Count   Dtype         \n",
      "---  ------         --------------   -----         \n",
      " 0   platform       529464 non-null  object        \n",
      " 1   name           529464 non-null  object        \n",
      " 2   id             529464 non-null  object        \n",
      " 3   proposal       529464 non-null  category      \n",
      " 4   deployment     529464 non-null  object        \n",
      " 5   platform_vote  529464 non-null  object        \n",
      " 6   voter          529464 non-null  category      \n",
      " 7   date           529464 non-null  datetime64[ns]\n",
      " 8   choice         529464 non-null  object        \n",
      " 9   weight         529464 non-null  float64       \n",
      "dtypes: category(2), datetime64[ns](1), float64(1), object(6)\n",
      "memory usage: 40.4+ MB\n",
      "None\n",
      "<class 'pandas.core.frame.DataFrame'>\n",
      "Int64Index: 2684 entries, 0 to 2683\n",
      "Data columns (total 13 columns):\n",
      " #   Column               Non-Null Count  Dtype         \n",
      "---  ------               --------------  -----         \n",
      " 0   platform             2684 non-null   object        \n",
      " 1   name                 2684 non-null   object        \n",
      " 2   platform_deployment  2684 non-null   object        \n",
      " 3   id                   2684 non-null   category      \n",
      " 4   deployment           2684 non-null   object        \n",
      " 5   platform_proposal    2684 non-null   object        \n",
      " 6   author               2684 non-null   category      \n",
      " 7   date                 2684 non-null   datetime64[ns]\n",
      " 8   title                2684 non-null   object        \n",
      " 9   description          2684 non-null   object        \n",
      " 10  start                2684 non-null   datetime64[ns]\n",
      " 11  end                  2684 non-null   datetime64[ns]\n",
      " 12  votes_count          2684 non-null   int64         \n",
      "dtypes: category(2), datetime64[ns](3), int64(1), object(7)\n",
      "memory usage: 295.1+ KB\n",
      "None\n"
     ]
    }
   ],
   "source": [
    "# dfptext = pd.read_csv('./snapshot_proposals.csv')[['proposal_id', 'title', 'description', 'start', 'end']]\n",
    "# dfv, dfp = daocensus.get(\"./data/daos-census\", ORG_NAME, 'snapshot')\n",
    "# dfv['voter'] = dfv['voter'].astype('str')\n",
    "# dfp = dfp.merge(dfptext, how='left', left_on='platform_proposal', right_on='proposal_id')\n",
    "# dfp[['start', 'end']] = dfp[['start', 'end']].astype('datetime64')\n",
    "\n",
    "dfv, dfp = daocensus_text.get(\"./data/daos-census-text\", ORG_NAME, ORG_PLATFORM, use_org_names=USE_ORG_NAMES, cutoff_date=CUTOFF_DATE)\n",
    "print(dfv.info())\n",
    "print(dfp.info())"
   ]
  },
  {
   "cell_type": "markdown",
   "id": "df339c08-4f99-4933-886c-6ab774f09e63",
   "metadata": {
    "papermill": {
     "duration": 0.00287,
     "end_time": "2024-03-10T13:47:15.259252",
     "exception": false,
     "start_time": "2024-03-10T13:47:15.256382",
     "status": "completed"
    },
    "tags": []
   },
   "source": [
    "## Transform data"
   ]
  },
  {
   "cell_type": "code",
   "execution_count": 6,
   "id": "4b003927-cfab-4f9a-91f8-1376f038f82e",
   "metadata": {
    "execution": {
     "iopub.execute_input": "2024-03-10T13:47:15.264923Z",
     "iopub.status.busy": "2024-03-10T13:47:15.264569Z",
     "iopub.status.idle": "2024-03-10T13:47:15.386583Z",
     "shell.execute_reply": "2024-03-10T13:47:15.386307Z"
    },
    "papermill": {
     "duration": 0.125777,
     "end_time": "2024-03-10T13:47:15.387423",
     "exception": false,
     "start_time": "2024-03-10T13:47:15.261646",
     "status": "completed"
    },
    "tags": []
   },
   "outputs": [
    {
     "data": {
      "text/html": [
       "<div>\n",
       "<style scoped>\n",
       "    .dataframe tbody tr th:only-of-type {\n",
       "        vertical-align: middle;\n",
       "    }\n",
       "\n",
       "    .dataframe tbody tr th {\n",
       "        vertical-align: top;\n",
       "    }\n",
       "\n",
       "    .dataframe thead th {\n",
       "        text-align: right;\n",
       "    }\n",
       "</style>\n",
       "<table border=\"1\" class=\"dataframe\">\n",
       "  <thead>\n",
       "    <tr style=\"text-align: right;\">\n",
       "      <th></th>\n",
       "      <th>userID</th>\n",
       "      <th>itemID</th>\n",
       "      <th>timestamp</th>\n",
       "      <th>rating</th>\n",
       "    </tr>\n",
       "  </thead>\n",
       "  <tbody>\n",
       "    <tr>\n",
       "      <th>0</th>\n",
       "      <td>0x71aa938631f32011303150bd7d1c7f4b5d2f3694</td>\n",
       "      <td>32d8d279-eb34-5718-9081-4deb1b662a37</td>\n",
       "      <td>2021-12-07 17:59:03</td>\n",
       "      <td>1</td>\n",
       "    </tr>\n",
       "    <tr>\n",
       "      <th>1</th>\n",
       "      <td>0xfee6b5d6fd92e64248e5af14023a19bf0cbaa04a</td>\n",
       "      <td>32d8d279-eb34-5718-9081-4deb1b662a37</td>\n",
       "      <td>2021-12-07 17:56:45</td>\n",
       "      <td>1</td>\n",
       "    </tr>\n",
       "    <tr>\n",
       "      <th>2</th>\n",
       "      <td>0x077f6c80a1c43a63db6892b85bed5205c0afbc4f</td>\n",
       "      <td>32d8d279-eb34-5718-9081-4deb1b662a37</td>\n",
       "      <td>2021-12-07 17:27:49</td>\n",
       "      <td>1</td>\n",
       "    </tr>\n",
       "    <tr>\n",
       "      <th>3</th>\n",
       "      <td>0x5473b5210b996ac3809996e9e9dd4d716d3df08c</td>\n",
       "      <td>32d8d279-eb34-5718-9081-4deb1b662a37</td>\n",
       "      <td>2021-12-07 17:22:02</td>\n",
       "      <td>1</td>\n",
       "    </tr>\n",
       "    <tr>\n",
       "      <th>4</th>\n",
       "      <td>0xe99ce54c794408f6c162f9dc4e7fedc4ab3a04f2</td>\n",
       "      <td>32d8d279-eb34-5718-9081-4deb1b662a37</td>\n",
       "      <td>2021-12-07 13:59:15</td>\n",
       "      <td>1</td>\n",
       "    </tr>\n",
       "  </tbody>\n",
       "</table>\n",
       "</div>"
      ],
      "text/plain": [
       "                                       userID  \\\n",
       "0  0x71aa938631f32011303150bd7d1c7f4b5d2f3694   \n",
       "1  0xfee6b5d6fd92e64248e5af14023a19bf0cbaa04a   \n",
       "2  0x077f6c80a1c43a63db6892b85bed5205c0afbc4f   \n",
       "3  0x5473b5210b996ac3809996e9e9dd4d716d3df08c   \n",
       "4  0xe99ce54c794408f6c162f9dc4e7fedc4ab3a04f2   \n",
       "\n",
       "                                 itemID           timestamp  rating  \n",
       "0  32d8d279-eb34-5718-9081-4deb1b662a37 2021-12-07 17:59:03       1  \n",
       "1  32d8d279-eb34-5718-9081-4deb1b662a37 2021-12-07 17:56:45       1  \n",
       "2  32d8d279-eb34-5718-9081-4deb1b662a37 2021-12-07 17:27:49       1  \n",
       "3  32d8d279-eb34-5718-9081-4deb1b662a37 2021-12-07 17:22:02       1  \n",
       "4  32d8d279-eb34-5718-9081-4deb1b662a37 2021-12-07 13:59:15       1  "
      ]
     },
     "execution_count": 6,
     "metadata": {},
     "output_type": "execute_result"
    }
   ],
   "source": [
    "def to_microsoft(dfv):\n",
    "    df = dfv[['voter', 'proposal', 'date']].rename(columns={\n",
    "        'voter': 'userID',\n",
    "        'proposal': 'itemID',\n",
    "        'date': 'timestamp',\n",
    "    })\n",
    "    df['itemID'] = df['itemID'].astype('str')\n",
    "    df['rating'] = 1\n",
    "    return df\n",
    "\n",
    "df = to_microsoft(dfv)\n",
    "df.head()"
   ]
  },
  {
   "cell_type": "markdown",
   "id": "8faab8dc-8192-47b5-96df-7458bd890ffb",
   "metadata": {
    "papermill": {
     "duration": 0.00285,
     "end_time": "2024-03-10T13:47:15.393370",
     "exception": false,
     "start_time": "2024-03-10T13:47:15.390520",
     "status": "completed"
    },
    "tags": []
   },
   "source": [
    "# Split data\n",
    "\n",
    "Each proposal remains open for a few days, our environment is different of a movies recommender system. For this reason, we will use a TimeSeriesSplit instead of a K-Fold to cross-validate the model.\n",
    "\n",
    "![](https://scikit-learn.org/stable/_images/sphx_glr_plot_cv_indices_013.png)\n",
    "\n",
    "El TimeSeriesSplit de scikit-learn no nos vale porque el número de elementos en cada split es el mismo, pero el tamaño del intervalo, no. Como queremos simular un comportamiento realista, haremos el split dividiendo por intervalos de igual longitud."
   ]
  },
  {
   "cell_type": "code",
   "execution_count": 7,
   "id": "3f661ac7-df23-49ad-9671-cfa65d4b44d6",
   "metadata": {
    "execution": {
     "iopub.execute_input": "2024-03-10T13:47:15.399068Z",
     "iopub.status.busy": "2024-03-10T13:47:15.398902Z",
     "iopub.status.idle": "2024-03-10T13:47:15.591063Z",
     "shell.execute_reply": "2024-03-10T13:47:15.590698Z"
    },
    "papermill": {
     "duration": 0.196292,
     "end_time": "2024-03-10T13:47:15.592166",
     "exception": false,
     "start_time": "2024-03-10T13:47:15.395874",
     "status": "completed"
    },
    "tags": []
   },
   "outputs": [],
   "source": [
    "from recommenders.evaluation.python_evaluation import metrics as metrics_dict"
   ]
  },
  {
   "cell_type": "code",
   "execution_count": 8,
   "id": "445d9909-609a-4cf3-8e24-6fa36946a375",
   "metadata": {
    "editable": true,
    "execution": {
     "iopub.execute_input": "2024-03-10T13:47:15.598814Z",
     "iopub.status.busy": "2024-03-10T13:47:15.598694Z",
     "iopub.status.idle": "2024-03-10T13:48:01.950979Z",
     "shell.execute_reply": "2024-03-10T13:48:01.950702Z"
    },
    "papermill": {
     "duration": 46.356576,
     "end_time": "2024-03-10T13:48:01.951828",
     "exception": false,
     "start_time": "2024-03-10T13:47:15.595252",
     "status": "completed"
    },
    "slideshow": {
     "slide_type": ""
    },
    "tags": []
   },
   "outputs": [
    {
     "name": "stdout",
     "output_type": "stream",
     "text": [
      "Split 0, train from: 2021-06-28 to 2023-05-30, test from: 2023-05-31 to 2023-06-02\n",
      "  t: 2023-05-31 00:00:00\n",
      "  len(train): 516030, len(test): 701\n",
      "  users(train): 127525, users(test): 236\n",
      "\n"
     ]
    },
    {
     "name": "stdout",
     "output_type": "stream",
     "text": [
      "  highest possible recall@5:\t0.9279\n"
     ]
    },
    {
     "name": "stdout",
     "output_type": "stream",
     "text": [
      "  highest possible ndcg@5:\t1.0000\n"
     ]
    },
    {
     "name": "stdout",
     "output_type": "stream",
     "text": [
      "  highest possible precision@5:\t0.4407\n"
     ]
    },
    {
     "name": "stdout",
     "output_type": "stream",
     "text": [
      "  highest possible map@5:\t0.9279\n",
      "------------------------------\n",
      "Split 1, train from: 2021-06-28 to 2023-06-02, test from: 2023-06-03 to 2023-06-05\n",
      "  t: 2023-06-03 00:00:00\n",
      "  len(train): 518406, len(test): 323\n",
      "  users(train): 127778, users(test): 90\n",
      "\n"
     ]
    },
    {
     "name": "stdout",
     "output_type": "stream",
     "text": [
      "  highest possible recall@5:\t0.9127\n"
     ]
    },
    {
     "name": "stdout",
     "output_type": "stream",
     "text": [
      "  highest possible ndcg@5:\t1.0000\n"
     ]
    },
    {
     "name": "stdout",
     "output_type": "stream",
     "text": [
      "  highest possible precision@5:\t0.4711\n"
     ]
    },
    {
     "name": "stdout",
     "output_type": "stream",
     "text": [
      "  highest possible map@5:\t0.9127\n",
      "------------------------------\n",
      "Split 2, train from: 2021-06-28 to 2023-06-05, test from: 2023-06-06 to 2023-06-08\n",
      "  t: 2023-06-06 00:00:00\n",
      "  len(train): 519004, len(test): 258\n",
      "  users(train): 127829, users(test): 83\n",
      "\n"
     ]
    },
    {
     "name": "stdout",
     "output_type": "stream",
     "text": [
      "  highest possible recall@5:\t0.9403\n"
     ]
    },
    {
     "name": "stdout",
     "output_type": "stream",
     "text": [
      "  highest possible ndcg@5:\t1.0000\n"
     ]
    },
    {
     "name": "stdout",
     "output_type": "stream",
     "text": [
      "  highest possible precision@5:\t0.5205\n"
     ]
    },
    {
     "name": "stdout",
     "output_type": "stream",
     "text": [
      "  highest possible map@5:\t0.9403\n",
      "------------------------------\n",
      "Split 3, train from: 2021-06-28 to 2023-06-08, test from: 2023-06-09 to 2023-06-11\n",
      "  t: 2023-06-09 00:00:00\n",
      "  len(train): 519741, len(test): 165\n",
      "  users(train): 127871, users(test): 56\n",
      "\n"
     ]
    },
    {
     "name": "stdout",
     "output_type": "stream",
     "text": [
      "  highest possible recall@5:\t0.9414\n"
     ]
    },
    {
     "name": "stdout",
     "output_type": "stream",
     "text": [
      "  highest possible ndcg@5:\t1.0000\n",
      "  highest possible precision@5:\t0.4071\n"
     ]
    },
    {
     "name": "stdout",
     "output_type": "stream",
     "text": [
      "  highest possible map@5:\t0.9414\n",
      "------------------------------\n",
      "Split 4, train from: 2021-06-28 to 2023-06-11, test from: 2023-06-12 to 2023-06-14\n",
      "  t: 2023-06-12 00:00:00\n",
      "  len(train): 521180, len(test): 221\n",
      "  users(train): 128041, users(test): 98\n",
      "\n"
     ]
    },
    {
     "name": "stdout",
     "output_type": "stream",
     "text": [
      "  highest possible recall@5:\t0.9707\n"
     ]
    },
    {
     "name": "stdout",
     "output_type": "stream",
     "text": [
      "  highest possible ndcg@5:\t1.0000\n"
     ]
    },
    {
     "name": "stdout",
     "output_type": "stream",
     "text": [
      "  highest possible precision@5:\t0.3816\n"
     ]
    },
    {
     "name": "stdout",
     "output_type": "stream",
     "text": [
      "  highest possible map@5:\t0.9707\n",
      "------------------------------\n",
      "Split 5, train from: 2021-06-28 to 2023-06-14, test from: 2023-06-15 to 2023-06-17\n",
      "  t: 2023-06-15 00:00:00\n",
      "  len(train): 522447, len(test): 401\n",
      "  users(train): 128207, users(test): 191\n",
      "\n"
     ]
    },
    {
     "name": "stdout",
     "output_type": "stream",
     "text": [
      "  highest possible recall@5:\t0.9721\n"
     ]
    },
    {
     "name": "stdout",
     "output_type": "stream",
     "text": [
      "  highest possible ndcg@5:\t1.0000\n"
     ]
    },
    {
     "name": "stdout",
     "output_type": "stream",
     "text": [
      "  highest possible precision@5:\t0.2796\n"
     ]
    },
    {
     "name": "stdout",
     "output_type": "stream",
     "text": [
      "  highest possible map@5:\t0.9721\n",
      "------------------------------\n",
      "Split 6, train from: 2021-06-28 to 2023-06-17, test from: 2023-06-18 to 2023-06-20\n",
      "  t: 2023-06-18 00:00:00\n",
      "  len(train): 524648, len(test): 101\n",
      "  users(train): 128613, users(test): 39\n",
      "\n"
     ]
    },
    {
     "name": "stdout",
     "output_type": "stream",
     "text": [
      "  highest possible recall@5:\t0.9521\n"
     ]
    },
    {
     "name": "stdout",
     "output_type": "stream",
     "text": [
      "  highest possible ndcg@5:\t1.0000\n",
      "  highest possible precision@5:\t0.3744\n"
     ]
    },
    {
     "name": "stdout",
     "output_type": "stream",
     "text": [
      "  highest possible map@5:\t0.9521\n",
      "------------------------------\n",
      "Split 7, train from: 2021-06-28 to 2023-06-20, test from: 2023-06-21 to 2023-06-23\n",
      "  t: 2023-06-21 00:00:00\n",
      "  len(train): 525836, len(test): 320\n",
      "  users(train): 128865, users(test): 89\n",
      "\n"
     ]
    },
    {
     "name": "stdout",
     "output_type": "stream",
     "text": [
      "  highest possible recall@5:\t0.9053\n"
     ]
    },
    {
     "name": "stdout",
     "output_type": "stream",
     "text": [
      "  highest possible ndcg@5:\t1.0000\n"
     ]
    },
    {
     "name": "stdout",
     "output_type": "stream",
     "text": [
      "  highest possible precision@5:\t0.4966\n"
     ]
    },
    {
     "name": "stdout",
     "output_type": "stream",
     "text": [
      "  highest possible map@5:\t0.9053\n",
      "------------------------------\n",
      "Split 8, train from: 2021-06-28 to 2023-06-23, test from: 2023-06-24 to 2023-06-26\n",
      "  t: 2023-06-24 00:00:00\n",
      "  len(train): 527714, len(test): 478\n",
      "  users(train): 129049, users(test): 238\n",
      "\n"
     ]
    },
    {
     "name": "stdout",
     "output_type": "stream",
     "text": [
      "  highest possible recall@5:\t0.9845\n"
     ]
    },
    {
     "name": "stdout",
     "output_type": "stream",
     "text": [
      "  highest possible ndcg@5:\t1.0000\n"
     ]
    },
    {
     "name": "stdout",
     "output_type": "stream",
     "text": [
      "  highest possible precision@5:\t0.3630\n"
     ]
    },
    {
     "name": "stdout",
     "output_type": "stream",
     "text": [
      "  highest possible map@5:\t0.9845\n",
      "------------------------------\n",
      "Split 9, train from: 2021-06-28 to 2023-06-26, test from: 2023-06-27 to 2023-06-29\n",
      "  t: 2023-06-27 00:00:00\n",
      "  len(train): 528366, len(test): 125\n",
      "  users(train): 129119, users(test): 40\n",
      "\n"
     ]
    },
    {
     "name": "stdout",
     "output_type": "stream",
     "text": [
      "  highest possible recall@5:\t0.9287\n"
     ]
    },
    {
     "name": "stdout",
     "output_type": "stream",
     "text": [
      "  highest possible ndcg@5:\t1.0000\n"
     ]
    },
    {
     "name": "stdout",
     "output_type": "stream",
     "text": [
      "  highest possible precision@5:\t0.3900\n"
     ]
    },
    {
     "name": "stdout",
     "output_type": "stream",
     "text": [
      "  highest possible map@5:\t0.9287\n",
      "------------------------------\n"
     ]
    }
   ],
   "source": [
    "from src.model_selection import timeFreqSplitCurrent, timeIntervalSplitCurrent\n",
    "\n",
    "# max_train_prev = df['timestamp'].min().date()\n",
    "# N_SPLITS = 10; SKIP_SPLIT = 0\n",
    "# folds = list(timeIntervalSplitCurrent(df, N_SPLITS, dfp, skip=SKIP_SPLIT, remove_not_in_train_col='userID', return_open=True))\n",
    "folds = list(timeFreqSplitCurrent(df, SPLITS_FREQ, dfp, return_open=True, remove_not_in_train_col='userID'))[-LAST_SPLITS:]\n",
    "for i, (dftrain, dftest, t, open_proposals) in enumerate(folds):\n",
    "    min_train = dftrain['timestamp'].min().date()\n",
    "    max_train = dftrain['timestamp'].max().date()\n",
    "    min_test  = dftest['timestamp'].min().date()\n",
    "    max_test  = dftest['timestamp'].max().date()\n",
    "\n",
    "    train_users = len(set(dftrain['userID']))\n",
    "    test_users = len(set(dftest['userID']))\n",
    "    \n",
    "    print(f\"Split {i}, train from: {min_train} to {max_train}, test from: {min_test} to {max_test}\")\n",
    "    print(f\"  t: {t}\")\n",
    "    print(f\"  len(train): {len(dftrain)}, len(test): {len(dftest)}\")\n",
    "    print(f\"  users(train): {train_users}, users(test): {test_users}\")\n",
    "\n",
    "    print()\n",
    "    dftest['prediction'] = 1\n",
    "    for m in METRICS:\n",
    "        f = metrics_dict[f'{m}_at_k']\n",
    "        print(f\"  highest possible {m}@{TOP_K[0]}:\\t{f(dftest, dftest, k=TOP_K[0], relevancy_method='top_k'):.4f}\")\n",
    "\n",
    "    print(\"-\"*30)"
   ]
  },
  {
   "cell_type": "markdown",
   "id": "5c881c43-d308-40ff-b6b4-d54458e1bc32",
   "metadata": {
    "papermill": {
     "duration": 0.003829,
     "end_time": "2024-03-10T13:48:01.959595",
     "exception": false,
     "start_time": "2024-03-10T13:48:01.955766",
     "status": "completed"
    },
    "tags": []
   },
   "source": [
    "# Defining training"
   ]
  },
  {
   "cell_type": "code",
   "execution_count": 9,
   "id": "9a502e2d-3398-405f-9029-d3abc69033dc",
   "metadata": {
    "execution": {
     "iopub.execute_input": "2024-03-10T13:48:01.967047Z",
     "iopub.status.busy": "2024-03-10T13:48:01.966923Z",
     "iopub.status.idle": "2024-03-10T13:48:02.136385Z",
     "shell.execute_reply": "2024-03-10T13:48:02.136014Z"
    },
    "papermill": {
     "duration": 0.174543,
     "end_time": "2024-03-10T13:48:02.137523",
     "exception": false,
     "start_time": "2024-03-10T13:48:01.962980",
     "status": "completed"
    },
    "tags": []
   },
   "outputs": [],
   "source": [
    "# from recommenders.models.deeprec.models.graphrec.lightgcn import LightGCN\n",
    "from src.models import LightGCNCustom\n",
    "from recommenders.utils.python_utils import get_top_k_scored_items"
   ]
  },
  {
   "cell_type": "markdown",
   "id": "923adb82-9733-4e21-a378-7263c5532353",
   "metadata": {
    "papermill": {
     "duration": 0.003763,
     "end_time": "2024-03-10T13:48:02.145280",
     "exception": false,
     "start_time": "2024-03-10T13:48:02.141517",
     "status": "completed"
    },
    "tags": []
   },
   "source": [
    "## Small test of `LightGCNCustom`"
   ]
  },
  {
   "cell_type": "code",
   "execution_count": 10,
   "id": "41d1cf90-bd11-4a87-b0aa-bf0e25d559af",
   "metadata": {
    "execution": {
     "iopub.execute_input": "2024-03-10T13:48:02.152801Z",
     "iopub.status.busy": "2024-03-10T13:48:02.152674Z",
     "iopub.status.idle": "2024-03-10T13:48:02.179446Z",
     "shell.execute_reply": "2024-03-10T13:48:02.179204Z"
    },
    "papermill": {
     "duration": 0.031622,
     "end_time": "2024-03-10T13:48:02.180314",
     "exception": false,
     "start_time": "2024-03-10T13:48:02.148692",
     "status": "completed"
    },
    "tags": []
   },
   "outputs": [],
   "source": [
    "from recommenders.models.deeprec.DataModel.ImplicitCF import ImplicitCF\n",
    "from recommenders.models.deeprec.deeprec_utils import prepare_hparams"
   ]
  },
  {
   "cell_type": "code",
   "execution_count": 11,
   "id": "0e57c58e-3091-4357-969a-c7bafedd29c1",
   "metadata": {
    "execution": {
     "iopub.execute_input": "2024-03-10T13:48:02.188019Z",
     "iopub.status.busy": "2024-03-10T13:48:02.187844Z",
     "iopub.status.idle": "2024-03-10T13:48:12.462503Z",
     "shell.execute_reply": "2024-03-10T13:48:12.462154Z"
    },
    "papermill": {
     "duration": 10.279814,
     "end_time": "2024-03-10T13:48:12.463649",
     "exception": false,
     "start_time": "2024-03-10T13:48:02.183835",
     "status": "completed"
    },
    "tags": []
   },
   "outputs": [
    {
     "name": "stdout",
     "output_type": "stream",
     "text": [
      "items: 2681 user: 129119\n"
     ]
    },
    {
     "name": "stdout",
     "output_type": "stream",
     "text": [
      "Already create adjacency matrix.\n"
     ]
    },
    {
     "name": "stdout",
     "output_type": "stream",
     "text": [
      "Already normalize adjacency matrix.\n",
      "Using xavier initialization.\n"
     ]
    }
   ],
   "source": [
    "hparams = prepare_hparams(\n",
    "    model_type='lightgcn',\n",
    "    n_layers=3,\n",
    "    batch_size=512,\n",
    "    embed_size=64,\n",
    "    epochs=2,\n",
    "    learning_rate=0.001,\n",
    "    decay=0.001,\n",
    "    metrics=[\"recall\", \"ndcg\", \"precision\", \"map\"],\n",
    "    eval_epoch=2,\n",
    "    top_k=TOP_K[0],\n",
    "    save_model=False,\n",
    "    MODEL_DIR='./data/model/lightgcn/',\n",
    ")\n",
    "dataloader = ImplicitCF(train=folds[-1][0], test=folds[-1][1], seed=SEED)\n",
    "print(\"items:\", dataloader.n_items, \"user:\", dataloader.n_users)\n",
    "model = LightGCNCustom(data=dataloader, hparams=hparams)"
   ]
  },
  {
   "cell_type": "code",
   "execution_count": 12,
   "id": "3fe49e83-f291-4383-97c2-167a706ae717",
   "metadata": {
    "execution": {
     "iopub.execute_input": "2024-03-10T13:48:12.472812Z",
     "iopub.status.busy": "2024-03-10T13:48:12.472604Z",
     "iopub.status.idle": "2024-03-10T13:48:35.948136Z",
     "shell.execute_reply": "2024-03-10T13:48:35.947831Z"
    },
    "papermill": {
     "duration": 23.481119,
     "end_time": "2024-03-10T13:48:35.949027",
     "exception": false,
     "start_time": "2024-03-10T13:48:12.467908",
     "status": "completed"
    },
    "tags": []
   },
   "outputs": [
    {
     "name": "stdout",
     "output_type": "stream",
     "text": [
      "Epoch 1 (train)11.4s: train loss = 0.14187 = (mf)0.13952 + (embed)0.00235\n"
     ]
    },
    {
     "name": "stdout",
     "output_type": "stream",
     "text": [
      "Epoch 2 (train)11.3s + (eval)0.7s: train loss = 0.05450 = (mf)0.05080 + (embed)0.00370, recall = 0.08750, ndcg = 0.05764, precision = 0.02000, map = 0.04375\n"
     ]
    }
   ],
   "source": [
    "model.fit()"
   ]
  },
  {
   "cell_type": "code",
   "execution_count": 13,
   "id": "a12ab695-94f8-431e-8a7f-03bf17f2fa1e",
   "metadata": {
    "execution": {
     "iopub.execute_input": "2024-03-10T13:48:35.957889Z",
     "iopub.status.busy": "2024-03-10T13:48:35.957775Z",
     "iopub.status.idle": "2024-03-10T13:48:36.036705Z",
     "shell.execute_reply": "2024-03-10T13:48:36.036433Z"
    },
    "papermill": {
     "duration": 0.084474,
     "end_time": "2024-03-10T13:48:36.037672",
     "exception": false,
     "start_time": "2024-03-10T13:48:35.953198",
     "status": "completed"
    },
    "tags": []
   },
   "outputs": [
    {
     "data": {
      "text/plain": [
       "[0.0875, 0.05764208144954417, 0.02, 0.04375]"
      ]
     },
     "execution_count": 13,
     "metadata": {},
     "output_type": "execute_result"
    }
   ],
   "source": [
    "model.run_eval()"
   ]
  },
  {
   "cell_type": "code",
   "execution_count": 14,
   "id": "2b131c2d-6df2-4292-8f12-caaf409562ab",
   "metadata": {
    "execution": {
     "iopub.execute_input": "2024-03-10T13:48:36.046048Z",
     "iopub.status.busy": "2024-03-10T13:48:36.045918Z",
     "iopub.status.idle": "2024-03-10T13:48:36.116375Z",
     "shell.execute_reply": "2024-03-10T13:48:36.116096Z"
    },
    "papermill": {
     "duration": 0.075549,
     "end_time": "2024-03-10T13:48:36.117198",
     "exception": false,
     "start_time": "2024-03-10T13:48:36.041649",
     "status": "completed"
    },
    "tags": []
   },
   "outputs": [
    {
     "data": {
      "text/html": [
       "<div>\n",
       "<style scoped>\n",
       "    .dataframe tbody tr th:only-of-type {\n",
       "        vertical-align: middle;\n",
       "    }\n",
       "\n",
       "    .dataframe tbody tr th {\n",
       "        vertical-align: top;\n",
       "    }\n",
       "\n",
       "    .dataframe thead th {\n",
       "        text-align: right;\n",
       "    }\n",
       "</style>\n",
       "<table border=\"1\" class=\"dataframe\">\n",
       "  <thead>\n",
       "    <tr style=\"text-align: right;\">\n",
       "      <th></th>\n",
       "      <th>userID</th>\n",
       "      <th>itemID</th>\n",
       "      <th>prediction</th>\n",
       "    </tr>\n",
       "  </thead>\n",
       "  <tbody>\n",
       "    <tr>\n",
       "      <th>0</th>\n",
       "      <td>26400</td>\n",
       "      <td>2365</td>\n",
       "      <td>3.179769</td>\n",
       "    </tr>\n",
       "    <tr>\n",
       "      <th>1</th>\n",
       "      <td>26400</td>\n",
       "      <td>2429</td>\n",
       "      <td>3.036757</td>\n",
       "    </tr>\n",
       "    <tr>\n",
       "      <th>2</th>\n",
       "      <td>26400</td>\n",
       "      <td>2034</td>\n",
       "      <td>3.003480</td>\n",
       "    </tr>\n",
       "    <tr>\n",
       "      <th>3</th>\n",
       "      <td>44669</td>\n",
       "      <td>2034</td>\n",
       "      <td>1.748964</td>\n",
       "    </tr>\n",
       "    <tr>\n",
       "      <th>4</th>\n",
       "      <td>44669</td>\n",
       "      <td>1732</td>\n",
       "      <td>1.292076</td>\n",
       "    </tr>\n",
       "    <tr>\n",
       "      <th>...</th>\n",
       "      <td>...</td>\n",
       "      <td>...</td>\n",
       "      <td>...</td>\n",
       "    </tr>\n",
       "    <tr>\n",
       "      <th>115</th>\n",
       "      <td>1911</td>\n",
       "      <td>2365</td>\n",
       "      <td>9.543561</td>\n",
       "    </tr>\n",
       "    <tr>\n",
       "      <th>116</th>\n",
       "      <td>1911</td>\n",
       "      <td>2429</td>\n",
       "      <td>9.168891</td>\n",
       "    </tr>\n",
       "    <tr>\n",
       "      <th>117</th>\n",
       "      <td>5669</td>\n",
       "      <td>2034</td>\n",
       "      <td>0.207939</td>\n",
       "    </tr>\n",
       "    <tr>\n",
       "      <th>118</th>\n",
       "      <td>5669</td>\n",
       "      <td>1226</td>\n",
       "      <td>0.191314</td>\n",
       "    </tr>\n",
       "    <tr>\n",
       "      <th>119</th>\n",
       "      <td>5669</td>\n",
       "      <td>1965</td>\n",
       "      <td>0.190359</td>\n",
       "    </tr>\n",
       "  </tbody>\n",
       "</table>\n",
       "<p>120 rows × 3 columns</p>\n",
       "</div>"
      ],
      "text/plain": [
       "     userID  itemID  prediction\n",
       "0     26400    2365    3.179769\n",
       "1     26400    2429    3.036757\n",
       "2     26400    2034    3.003480\n",
       "3     44669    2034    1.748964\n",
       "4     44669    1732    1.292076\n",
       "..      ...     ...         ...\n",
       "115    1911    2365    9.543561\n",
       "116    1911    2429    9.168891\n",
       "117    5669    2034    0.207939\n",
       "118    5669    1226    0.191314\n",
       "119    5669    1965    0.190359\n",
       "\n",
       "[120 rows x 3 columns]"
      ]
     },
     "execution_count": 14,
     "metadata": {},
     "output_type": "execute_result"
    }
   ],
   "source": [
    "model.recommend_k_items(\n",
    "    dataloader.test, \n",
    "    top_k=3, \n",
    "    use_id=True, \n",
    "    remove_seen=True, \n",
    "    recommend_from=folds[-1][3]\n",
    ")"
   ]
  },
  {
   "cell_type": "code",
   "execution_count": 15,
   "id": "ef766f48-b9b1-4ec6-b2ba-9c3d5b54d40b",
   "metadata": {
    "execution": {
     "iopub.execute_input": "2024-03-10T13:48:36.126340Z",
     "iopub.status.busy": "2024-03-10T13:48:36.126223Z",
     "iopub.status.idle": "2024-03-10T13:48:36.151318Z",
     "shell.execute_reply": "2024-03-10T13:48:36.151072Z"
    },
    "papermill": {
     "duration": 0.030494,
     "end_time": "2024-03-10T13:48:36.152127",
     "exception": false,
     "start_time": "2024-03-10T13:48:36.121633",
     "status": "completed"
    },
    "tags": []
   },
   "outputs": [],
   "source": [
    "# problem_prop = 'b926a2eb-e2c7-5d0d-bbec-015efe30edde'\n",
    "\n",
    "# tr, te, t, open_proposals = folds[-1]\n",
    "# print(\"t:\", t)\n",
    "# print(\"In open?: \", problem_prop in set(open_proposals))\n",
    "# print(\"In Train?:\", any(tr['itemID'] == problem_prop))\n",
    "# print(\"In Test?: \", any(te['itemID'] == problem_prop))\n",
    "# print(\"In dfv?:  \", in_dfv := any(dfv['proposal'] == problem_prop))\n",
    "# if in_dfv:\n",
    "#     display(dfv[dfv['proposal'] == problem_prop])\n",
    "\n",
    "# dfp.set_index('id').loc[problem_prop]"
   ]
  },
  {
   "cell_type": "code",
   "execution_count": 16,
   "id": "799a41c8-6c27-40c7-af22-0f9eb46f8a59",
   "metadata": {
    "execution": {
     "iopub.execute_input": "2024-03-10T13:48:36.160543Z",
     "iopub.status.busy": "2024-03-10T13:48:36.160343Z",
     "iopub.status.idle": "2024-03-10T13:48:36.216005Z",
     "shell.execute_reply": "2024-03-10T13:48:36.215612Z"
    },
    "papermill": {
     "duration": 0.061071,
     "end_time": "2024-03-10T13:48:36.217081",
     "exception": false,
     "start_time": "2024-03-10T13:48:36.156010",
     "status": "completed"
    },
    "tags": []
   },
   "outputs": [],
   "source": [
    "# Free the resources\n",
    "del model\n",
    "del dataloader"
   ]
  },
  {
   "cell_type": "markdown",
   "id": "d994a5dd-efe5-47bf-a8a1-803316d9fc75",
   "metadata": {
    "papermill": {
     "duration": 0.003746,
     "end_time": "2024-03-10T13:48:36.224729",
     "exception": false,
     "start_time": "2024-03-10T13:48:36.220983",
     "status": "completed"
    },
    "tags": []
   },
   "source": [
    "# Defining trainer"
   ]
  },
  {
   "cell_type": "code",
   "execution_count": 17,
   "id": "a5d010bf-3a9c-4931-9d02-6589b3164438",
   "metadata": {
    "execution": {
     "iopub.execute_input": "2024-03-10T13:48:36.233088Z",
     "iopub.status.busy": "2024-03-10T13:48:36.232911Z",
     "iopub.status.idle": "2024-03-10T13:48:36.262392Z",
     "shell.execute_reply": "2024-03-10T13:48:36.262051Z"
    },
    "papermill": {
     "duration": 0.034638,
     "end_time": "2024-03-10T13:48:36.263308",
     "exception": false,
     "start_time": "2024-03-10T13:48:36.228670",
     "status": "completed"
    },
    "scrolled": true,
    "tags": []
   },
   "outputs": [],
   "source": [
    "from recommenders.evaluation.python_evaluation import map_at_k, ndcg_at_k, precision_at_k, recall_at_k\n",
    "\n",
    "class TrainLightGCN(tune.Trainable):\n",
    "    def setup(\n",
    "        self,\n",
    "        config: Dict[str, Any],\n",
    "        data,\n",
    "    ):\n",
    "        self.config = config\n",
    "\n",
    "        self.hparams = prepare_hparams(\n",
    "            model_type='lightgcn',\n",
    "            n_layers=config['conv_layers'],\n",
    "            batch_size=2**config['batch_size'],\n",
    "            embed_size=config['embedding_dim'],\n",
    "            epochs=EPOCHS_PER_ITER,\n",
    "            learning_rate=config['learning_rate'],\n",
    "            decay=config['l2'],\n",
    "            metrics=METRICS,\n",
    "            eval_epoch=-1,\n",
    "            top_k=TOP_K[0],\n",
    "            save_model=False,\n",
    "            MODEL_DIR='./data/model/lightgcn/',\n",
    "        )\n",
    "\n",
    "        train, test, self.t, self.open_proposals = data\n",
    "        self.dataloader = ImplicitCF(train=train, test=test, seed=SEED)\n",
    "        self.model = LightGCNCustom(self.hparams, self.dataloader, seed=SEED)\n",
    "        self.total_train = 0\n",
    "        self.total_eval = 0\n",
    "\n",
    "    @property\n",
    "    def iteration(self):\n",
    "        return self.model.epochs_done\n",
    "\n",
    "    @property\n",
    "    def training_iteration(self):\n",
    "        return self.model.epochs_done\n",
    "\n",
    "    def step(self):\n",
    "        \"\"\"\n",
    "        As a rule of thumb, the execution time of step should be large enough to avoid overheads \n",
    "        (i.e. more than a few seconds), but short enough to report progress periodically \n",
    "        (i.e. at most a few minutes).\n",
    "        \"\"\"\n",
    "        assert EPOCHS_PER_ITER > 0\n",
    "\n",
    "        train_start = time.time()\n",
    "        for _ in range(EPOCHS_PER_ITER):\n",
    "            ret = self.model.fit_epoch()\n",
    "        eval_start = train_end = time.time()\n",
    "\n",
    "        eval_dict = {'model_'+k:v for k,v in zip(self.model.metrics, self.model.run_eval())}\n",
    "        for k in TOP_K:\n",
    "            recs = self.model.recommend_k_items(\n",
    "                self.dataloader.test, \n",
    "                top_k=k,\n",
    "                use_id=True, \n",
    "                remove_seen=True, \n",
    "                recommend_from=self.open_proposals,\n",
    "            )\n",
    "            \n",
    "            eval_dict[f'precision@{k}'] = precision_at_k(self.dataloader.test, recs, k=k)\n",
    "            eval_dict[f'ndcg@{k}'] = ndcg_at_k(self.dataloader.test, recs, k=k)\n",
    "            eval_dict[f'recall@{k}'] = recall_at_k(self.dataloader.test, recs, k=k)\n",
    "            eval_dict[f'map@{k}'] = map_at_k(self.dataloader.test, recs, k=k)\n",
    "\n",
    "        eval_end = time.time()\n",
    "\n",
    "        self.total_train += train_end - train_start\n",
    "        self.total_eval += eval_end - eval_start\n",
    "        \n",
    "        return {\n",
    "            'iteration': self.iteration,\n",
    "            'loss': ret[0],\n",
    "            'mf_loss': ret[1],\n",
    "            'emb_loss': ret[2],\n",
    "            **eval_dict,\n",
    "            'time_train': train_end-train_start,\n",
    "            'time_test': eval_end-eval_start,\n",
    "            'time_total_train': self.total_train,\n",
    "            'time_total_test': self.total_eval,\n",
    "        }\n",
    "\n",
    "    def save_checkpoint(self, checkpoint_dir):\n",
    "        checkpoint_path = os.path.join(checkpoint_dir, \"model\")\n",
    "        self.model.saver.save(\n",
    "            sess=self.model.sess,\n",
    "            save_path=checkpoint_path,\n",
    "        )\n",
    "        return checkpoint_dir\n",
    "\n",
    "    def load_checkpoint(self, checkpoint_path):\n",
    "        self.model.load(checkpoint_path)"
   ]
  },
  {
   "cell_type": "markdown",
   "id": "16276fe4-d63d-4e7a-bcc8-38d8f5be299c",
   "metadata": {
    "papermill": {
     "duration": 0.003766,
     "end_time": "2024-03-10T13:48:36.270921",
     "exception": false,
     "start_time": "2024-03-10T13:48:36.267155",
     "status": "completed"
    },
    "tags": []
   },
   "source": [
    "# Big experiment"
   ]
  },
  {
   "cell_type": "code",
   "execution_count": 18,
   "id": "427c4b72-593a-41ff-9fd6-991e8e3a0445",
   "metadata": {
    "execution": {
     "iopub.execute_input": "2024-03-10T13:48:36.278920Z",
     "iopub.status.busy": "2024-03-10T13:48:36.278803Z",
     "iopub.status.idle": "2024-03-10T13:48:36.303482Z",
     "shell.execute_reply": "2024-03-10T13:48:36.303249Z"
    },
    "papermill": {
     "duration": 0.02964,
     "end_time": "2024-03-10T13:48:36.304246",
     "exception": false,
     "start_time": "2024-03-10T13:48:36.274606",
     "status": "completed"
    },
    "tags": []
   },
   "outputs": [
    {
     "data": {
      "text/plain": [
       "PosixPath('/home/daviddavo/ray_results')"
      ]
     },
     "execution_count": 18,
     "metadata": {},
     "output_type": "execute_result"
    }
   ],
   "source": [
    "RAY_RESULTS_PATH"
   ]
  },
  {
   "cell_type": "code",
   "execution_count": 19,
   "id": "d3cc56a8-9add-4c1d-a15b-99593e11c686",
   "metadata": {
    "execution": {
     "iopub.execute_input": "2024-03-10T13:48:36.312697Z",
     "iopub.status.busy": "2024-03-10T13:48:36.312550Z",
     "iopub.status.idle": "2024-03-10T13:48:36.335470Z",
     "shell.execute_reply": "2024-03-10T13:48:36.335231Z"
    },
    "papermill": {
     "duration": 0.028118,
     "end_time": "2024-03-10T13:48:36.336330",
     "exception": false,
     "start_time": "2024-03-10T13:48:36.308212",
     "status": "completed"
    },
    "tags": []
   },
   "outputs": [],
   "source": [
    "MAX_EMBEDDING_DIM = 1024\n",
    "MAX_BATCH_SIZE = 10 # 2**10\n",
    "MIN_LR = 1e-4\n",
    "GPUS = 16\n",
    "\n",
    "if ORG_NAME in ['PancakeSwap']:\n",
    "    MAX_EMBEDDING_DIM = 256\n",
    "    MAX_BATCH_SIZE = 14\n",
    "    GPUS = 4\n",
    "    MIN_LR = 1e-2\n",
    "elif ORG_NAME in ['DEAD FoundationsDAO']:\n",
    "    GPUS = 20"
   ]
  },
  {
   "cell_type": "code",
   "execution_count": 20,
   "id": "019cecb8-4733-4947-9425-f7f9a690cd92",
   "metadata": {
    "execution": {
     "iopub.execute_input": "2024-03-10T13:48:36.345420Z",
     "iopub.status.busy": "2024-03-10T13:48:36.345185Z",
     "iopub.status.idle": "2024-03-10T13:48:36.368251Z",
     "shell.execute_reply": "2024-03-10T13:48:36.367939Z"
    },
    "papermill": {
     "duration": 0.028436,
     "end_time": "2024-03-10T13:48:36.369060",
     "exception": false,
     "start_time": "2024-03-10T13:48:36.340624",
     "status": "completed"
    },
    "tags": []
   },
   "outputs": [
    {
     "name": "stdout",
     "output_type": "stream",
     "text": [
      "lamarck\n",
      "{'cpu': 1, 'gpu': 0.25}\n"
     ]
    }
   ],
   "source": [
    "print(os.uname().nodename)\n",
    "\n",
    "### SET TRAINING RESOURCES\n",
    "if os.uname().nodename == 'lamarck':\n",
    "    # assert torch.cuda.is_available()\n",
    "\n",
    "    NUM_SAMPLES = SAMPLES_PER_SPLIT\n",
    "    # Every run takes approx half a gig of vram (no optimizations)\n",
    "    # The RTX 4090 has 24GB so we can run the model about 48 times\n",
    "    resources_per_trial={\n",
    "        'cpu': 1,\n",
    "        'gpu': 1 / GPUS,\n",
    "    }\n",
    "else:\n",
    "    NUM_SAMPLES = 1\n",
    "    resources_per_trial={\n",
    "        'cpu': 1,\n",
    "        # It takes about 1.5 GiB with full training data, but I put a bit more because\n",
    "        # this notebook also takes a bit of memory\n",
    "        'memory': 2e9,\n",
    "    }\n",
    "print(resources_per_trial)"
   ]
  },
  {
   "cell_type": "code",
   "execution_count": 21,
   "id": "a5ad6f33-effe-4f48-850e-8044af3a88dc",
   "metadata": {
    "editable": true,
    "execution": {
     "iopub.execute_input": "2024-03-10T13:48:36.377613Z",
     "iopub.status.busy": "2024-03-10T13:48:36.377518Z",
     "iopub.status.idle": "2024-03-10T13:48:36.451642Z",
     "shell.execute_reply": "2024-03-10T13:48:36.451368Z"
    },
    "papermill": {
     "duration": 0.079528,
     "end_time": "2024-03-10T13:48:36.452629",
     "exception": false,
     "start_time": "2024-03-10T13:48:36.373101",
     "status": "completed"
    },
    "slideshow": {
     "slide_type": ""
    },
    "tags": []
   },
   "outputs": [],
   "source": [
    "from ray.tune.search.hyperopt import HyperOptSearch\n",
    "import datetime as dt\n",
    "from src import paths\n",
    "\n",
    "def getTunerOnFold(f, points_to_evaluate = None):\n",
    "    name = f'LightGCN_optim={OPTIM_METRIC},dao={ORG_NAME},freq={SPLITS_FREQ},normalize={SPLITS_NORMALIZE},cutoff_date={CUTOFF_DATE.isoformat()},fold={f}'\n",
    "    paths = list(RAY_RESULTS_PATH.glob(f'{name}_*'))\n",
    "    last_experiment = max(paths, key=lambda x: x.stat().st_ctime) if paths else None\n",
    "\n",
    "    dftrain,dftest,t,open_proposals = folds[f]\n",
    "    param_space = dict(\n",
    "        fold=f,\n",
    "        batch_size=tune.randint(6, MAX_BATCH_SIZE), # 64 - 1024\n",
    "        embedding_dim=tune.lograndint(1, MAX_EMBEDDING_DIM, base=2),\n",
    "        conv_layers=tune.randint(1,6),\n",
    "        learning_rate=tune.qloguniform(MIN_LR, 1, 1e-4),\n",
    "        l2=tune.loguniform(1e-7, 1e-2, 1e-7),\n",
    "    )\n",
    "    \n",
    "    ### RESTORE EXPERIMENT OR CREATE A NEW ONE\n",
    "    if last_experiment and tune.Tuner.can_restore(last_experiment):\n",
    "        print(f\"Restoring last experiment: {last_experiment}\")\n",
    "        tuner = tune.Tuner.restore(\n",
    "            str(last_experiment),\n",
    "            trainable=tune.with_resources(\n",
    "                # tune.with_parameters(TrainLightGCN,  train=dftrain, test=dftest, open_proposals=open_proposals),\n",
    "                tune.with_parameters(TrainLightGCN, data=folds[f]),\n",
    "                resources_per_trial,\n",
    "            ),\n",
    "            restart_errored=True,\n",
    "            param_space=param_space,\n",
    "        )\n",
    "    else:\n",
    "        print(f\"No experiment found for fold {f}, creating new tuner with {NUM_SAMPLES} samples\")\n",
    "        search_alg = None\n",
    "        search_alg = HyperOptSearch(\n",
    "            # points_to_evaluate=[{\n",
    "            #     'batch_size': 8, # 2**8 = 256\n",
    "            #     'learning_rate': 10e-2,\n",
    "            #     'l2': 10e-6,\n",
    "            #     'embedding_dim': 100,\n",
    "            #     'conv_layers': 3,\n",
    "            # }],\n",
    "            points_to_evaluate = points_to_evaluate,\n",
    "            random_state_seed=SEED,\n",
    "        )\n",
    "        # search_alg = tune.search.Repeater(search_alg, N_SPLITS-SKIP_SPLIT)\n",
    "        \n",
    "        tuner = tune.Tuner(\n",
    "            tune.with_resources(\n",
    "                # tune.with_parameters(TrainLightGCN,  train=dftrain, test=dftest, open_proposals=open_proposals),\n",
    "                tune.with_parameters(TrainLightGCN, data=folds[f]),\n",
    "                resources_per_trial,\n",
    "            ),\n",
    "            run_config=train.RunConfig(\n",
    "                stop={'training_iteration': MAX_EPOCHS/EPOCHS_PER_ITER, 'time_total_train': 300},\n",
    "                name=name + f'_{dt.datetime.now().isoformat()}',\n",
    "                storage_path=RAY_RESULTS_PATH,\n",
    "                # failure_config=train.FailureConfig(fail_fast='raise'),\n",
    "                failure_config=train.FailureConfig(max_failures=3),\n",
    "            ),\n",
    "            param_space=param_space,\n",
    "            tune_config=tune.TuneConfig(\n",
    "                search_alg=search_alg,\n",
    "                num_samples=NUM_SAMPLES,\n",
    "                metric=OPTIM_METRIC,\n",
    "                mode='max',\n",
    "            )\n",
    "        )\n",
    "\n",
    "    return tuner"
   ]
  },
  {
   "cell_type": "code",
   "execution_count": 22,
   "id": "c968ecd5-d62c-4d57-846f-4bb7202a97c1",
   "metadata": {
    "execution": {
     "iopub.execute_input": "2024-03-10T13:48:36.461446Z",
     "iopub.status.busy": "2024-03-10T13:48:36.461257Z",
     "iopub.status.idle": "2024-03-11T05:12:42.207330Z",
     "shell.execute_reply": "2024-03-11T05:12:42.207003Z"
    },
    "papermill": {
     "duration": 55445.751867,
     "end_time": "2024-03-11T05:12:42.208669",
     "exception": false,
     "start_time": "2024-03-10T13:48:36.456802",
     "status": "completed"
    },
    "tags": []
   },
   "outputs": [
    {
     "data": {
      "text/html": [
       "<div class=\"tuneStatus\">\n",
       "  <div style=\"display: flex;flex-direction: row\">\n",
       "    <div style=\"display: flex;flex-direction: column;\">\n",
       "      <h3>Tune Status</h3>\n",
       "      <table>\n",
       "<tbody>\n",
       "<tr><td>Current time:</td><td>2024-03-11 05:12:42</td></tr>\n",
       "<tr><td>Running for: </td><td>02:23:19.69        </td></tr>\n",
       "<tr><td>Memory:      </td><td>11.4/125.6 GiB     </td></tr>\n",
       "</tbody>\n",
       "</table>\n",
       "    </div>\n",
       "    <div class=\"vDivider\"></div>\n",
       "    <div class=\"systemInfo\">\n",
       "      <h3>System Info</h3>\n",
       "      Using FIFO scheduling algorithm.<br>Logical resource usage: 1.0/24 CPUs, 0.25/1 GPUs (0.0/1.0 accelerator_type:G)\n",
       "    </div>\n",
       "    \n",
       "  </div>\n",
       "  <div class=\"hDivider\"></div>\n",
       "  <div class=\"trialStatus\">\n",
       "    <h3>Trial Status</h3>\n",
       "    <table>\n",
       "<thead>\n",
       "<tr><th>Trial name            </th><th>status    </th><th>loc                 </th><th style=\"text-align: right;\">  batch_size</th><th style=\"text-align: right;\">  conv_layers</th><th style=\"text-align: right;\">  embedding_dim</th><th style=\"text-align: right;\">  fold</th><th style=\"text-align: right;\">         l2</th><th style=\"text-align: right;\">  learning_rate</th><th style=\"text-align: right;\">  iter</th><th style=\"text-align: right;\">  total time (s)</th><th style=\"text-align: right;\">  iteration</th><th style=\"text-align: right;\">       loss</th><th style=\"text-align: right;\">    mf_loss</th></tr>\n",
       "</thead>\n",
       "<tbody>\n",
       "<tr><td>TrainLightGCN_0ae9add2</td><td>TERMINATED</td><td>147.96.81.131:251102</td><td style=\"text-align: right;\">          12</td><td style=\"text-align: right;\">            1</td><td style=\"text-align: right;\">              2</td><td style=\"text-align: right;\">     9</td><td style=\"text-align: right;\">1.44296e-06</td><td style=\"text-align: right;\">         0.0435</td><td style=\"text-align: right;\">    35</td><td style=\"text-align: right;\">         311.505</td><td style=\"text-align: right;\">        175</td><td style=\"text-align: right;\"> 0.0860705 </td><td style=\"text-align: right;\"> 0.0856868 </td></tr>\n",
       "<tr><td>TrainLightGCN_1fd71ab4</td><td>TERMINATED</td><td>147.96.81.131:251269</td><td style=\"text-align: right;\">          10</td><td style=\"text-align: right;\">            5</td><td style=\"text-align: right;\">             15</td><td style=\"text-align: right;\">     9</td><td style=\"text-align: right;\">2.8606e-05 </td><td style=\"text-align: right;\">         0.4844</td><td style=\"text-align: right;\">    14</td><td style=\"text-align: right;\">         326.889</td><td style=\"text-align: right;\">         70</td><td style=\"text-align: right;\"> 3.70052   </td><td style=\"text-align: right;\"> 3.29533   </td></tr>\n",
       "<tr><td>TrainLightGCN_76ad94fe</td><td>TERMINATED</td><td>147.96.81.131:251462</td><td style=\"text-align: right;\">          12</td><td style=\"text-align: right;\">            3</td><td style=\"text-align: right;\">              3</td><td style=\"text-align: right;\">     9</td><td style=\"text-align: right;\">5.24282e-05</td><td style=\"text-align: right;\">         0.469 </td><td style=\"text-align: right;\">    33</td><td style=\"text-align: right;\">         318.486</td><td style=\"text-align: right;\">        165</td><td style=\"text-align: right;\"> 0.751265  </td><td style=\"text-align: right;\"> 0.653375  </td></tr>\n",
       "<tr><td>TrainLightGCN_228e7903</td><td>TERMINATED</td><td>147.96.81.131:251656</td><td style=\"text-align: right;\">           9</td><td style=\"text-align: right;\">            4</td><td style=\"text-align: right;\">             97</td><td style=\"text-align: right;\">     9</td><td style=\"text-align: right;\">8.92312e-07</td><td style=\"text-align: right;\">         0.0806</td><td style=\"text-align: right;\">     4</td><td style=\"text-align: right;\">         308.444</td><td style=\"text-align: right;\">         20</td><td style=\"text-align: right;\"> 0.360678  </td><td style=\"text-align: right;\"> 0.353592  </td></tr>\n",
       "<tr><td>TrainLightGCN_3e1bb5e9</td><td>TERMINATED</td><td>147.96.81.131:252668</td><td style=\"text-align: right;\">           7</td><td style=\"text-align: right;\">            3</td><td style=\"text-align: right;\">             74</td><td style=\"text-align: right;\">     9</td><td style=\"text-align: right;\">2.79193e-05</td><td style=\"text-align: right;\">         0.023 </td><td style=\"text-align: right;\">     2</td><td style=\"text-align: right;\">         560.357</td><td style=\"text-align: right;\">         10</td><td style=\"text-align: right;\"> 0.117379  </td><td style=\"text-align: right;\"> 0.10502   </td></tr>\n",
       "<tr><td>TrainLightGCN_2d0a3285</td><td>TERMINATED</td><td>147.96.81.131:252911</td><td style=\"text-align: right;\">           7</td><td style=\"text-align: right;\">            4</td><td style=\"text-align: right;\">              5</td><td style=\"text-align: right;\">     9</td><td style=\"text-align: right;\">0.00397996 </td><td style=\"text-align: right;\">         0.0618</td><td style=\"text-align: right;\">     2</td><td style=\"text-align: right;\">         404.416</td><td style=\"text-align: right;\">         10</td><td style=\"text-align: right;\"> 0.101985  </td><td style=\"text-align: right;\"> 0.0631959 </td></tr>\n",
       "<tr><td>TrainLightGCN_6ae5e2af</td><td>TERMINATED</td><td>147.96.81.131:253094</td><td style=\"text-align: right;\">           7</td><td style=\"text-align: right;\">            3</td><td style=\"text-align: right;\">              3</td><td style=\"text-align: right;\">     9</td><td style=\"text-align: right;\">0.0011209  </td><td style=\"text-align: right;\">         0.0156</td><td style=\"text-align: right;\">     2</td><td style=\"text-align: right;\">         420.091</td><td style=\"text-align: right;\">         10</td><td style=\"text-align: right;\"> 0.0671874 </td><td style=\"text-align: right;\"> 0.0617427 </td></tr>\n",
       "<tr><td>TrainLightGCN_b26eb0a4</td><td>TERMINATED</td><td>147.96.81.131:253285</td><td style=\"text-align: right;\">          11</td><td style=\"text-align: right;\">            4</td><td style=\"text-align: right;\">            123</td><td style=\"text-align: right;\">     9</td><td style=\"text-align: right;\">0.00406073 </td><td style=\"text-align: right;\">         0.0378</td><td style=\"text-align: right;\">     8</td><td style=\"text-align: right;\">         345.678</td><td style=\"text-align: right;\">         40</td><td style=\"text-align: right;\"> 0.047085  </td><td style=\"text-align: right;\"> 0.0102796 </td></tr>\n",
       "<tr><td>TrainLightGCN_cd55ff23</td><td>TERMINATED</td><td>147.96.81.131:254537</td><td style=\"text-align: right;\">           7</td><td style=\"text-align: right;\">            1</td><td style=\"text-align: right;\">             71</td><td style=\"text-align: right;\">     9</td><td style=\"text-align: right;\">6.80694e-06</td><td style=\"text-align: right;\">         0.0922</td><td style=\"text-align: right;\">     2</td><td style=\"text-align: right;\">         320.875</td><td style=\"text-align: right;\">         10</td><td style=\"text-align: right;\"> 4.37567   </td><td style=\"text-align: right;\"> 4.29387   </td></tr>\n",
       "<tr><td>TrainLightGCN_be3e3a5d</td><td>TERMINATED</td><td>147.96.81.131:254778</td><td style=\"text-align: right;\">          12</td><td style=\"text-align: right;\">            4</td><td style=\"text-align: right;\">             44</td><td style=\"text-align: right;\">     9</td><td style=\"text-align: right;\">0.000527247</td><td style=\"text-align: right;\">         0.0118</td><td style=\"text-align: right;\">    24</td><td style=\"text-align: right;\">         313.63 </td><td style=\"text-align: right;\">        120</td><td style=\"text-align: right;\"> 0.00752784</td><td style=\"text-align: right;\"> 0.00298245</td></tr>\n",
       "<tr><td>TrainLightGCN_5172917b</td><td>TERMINATED</td><td>147.96.81.131:255019</td><td style=\"text-align: right;\">           8</td><td style=\"text-align: right;\">            3</td><td style=\"text-align: right;\">              4</td><td style=\"text-align: right;\">     9</td><td style=\"text-align: right;\">0.00605521 </td><td style=\"text-align: right;\">         0.4493</td><td style=\"text-align: right;\">     5</td><td style=\"text-align: right;\">         342.787</td><td style=\"text-align: right;\">         25</td><td style=\"text-align: right;\"> 5.17407   </td><td style=\"text-align: right;\"> 4.25336   </td></tr>\n",
       "<tr><td>TrainLightGCN_e10ec2b9</td><td>TERMINATED</td><td>147.96.81.131:255459</td><td style=\"text-align: right;\">           8</td><td style=\"text-align: right;\">            4</td><td style=\"text-align: right;\">             20</td><td style=\"text-align: right;\">     9</td><td style=\"text-align: right;\">0.000414829</td><td style=\"text-align: right;\">         0.035 </td><td style=\"text-align: right;\">     5</td><td style=\"text-align: right;\">         329.347</td><td style=\"text-align: right;\">         25</td><td style=\"text-align: right;\"> 0.051684  </td><td style=\"text-align: right;\"> 0.0352238 </td></tr>\n",
       "<tr><td>TrainLightGCN_3b36ab58</td><td>TERMINATED</td><td>147.96.81.131:256155</td><td style=\"text-align: right;\">           8</td><td style=\"text-align: right;\">            4</td><td style=\"text-align: right;\">              4</td><td style=\"text-align: right;\">     9</td><td style=\"text-align: right;\">2.66572e-07</td><td style=\"text-align: right;\">         0.6904</td><td style=\"text-align: right;\">     6</td><td style=\"text-align: right;\">         328.347</td><td style=\"text-align: right;\">         30</td><td style=\"text-align: right;\"> 9.9668    </td><td style=\"text-align: right;\"> 9.96133   </td></tr>\n",
       "<tr><td>TrainLightGCN_c2faf5ad</td><td>TERMINATED</td><td>147.96.81.131:256374</td><td style=\"text-align: right;\">          11</td><td style=\"text-align: right;\">            4</td><td style=\"text-align: right;\">             36</td><td style=\"text-align: right;\">     9</td><td style=\"text-align: right;\">2.59656e-07</td><td style=\"text-align: right;\">         0.0206</td><td style=\"text-align: right;\">    24</td><td style=\"text-align: right;\">         312.837</td><td style=\"text-align: right;\">        120</td><td style=\"text-align: right;\"> 0.00613787</td><td style=\"text-align: right;\"> 0.00606456</td></tr>\n",
       "<tr><td>TrainLightGCN_f947b298</td><td>TERMINATED</td><td>147.96.81.131:256705</td><td style=\"text-align: right;\">          11</td><td style=\"text-align: right;\">            5</td><td style=\"text-align: right;\">             31</td><td style=\"text-align: right;\">     9</td><td style=\"text-align: right;\">1.39754e-06</td><td style=\"text-align: right;\">         0.0167</td><td style=\"text-align: right;\">    25</td><td style=\"text-align: right;\">         316.11 </td><td style=\"text-align: right;\">        125</td><td style=\"text-align: right;\"> 0.00493778</td><td style=\"text-align: right;\"> 0.00469993</td></tr>\n",
       "<tr><td>TrainLightGCN_693510ed</td><td>TERMINATED</td><td>147.96.81.131:257103</td><td style=\"text-align: right;\">          12</td><td style=\"text-align: right;\">            2</td><td style=\"text-align: right;\">              5</td><td style=\"text-align: right;\">     9</td><td style=\"text-align: right;\">0.00100612 </td><td style=\"text-align: right;\">         0.1417</td><td style=\"text-align: right;\">    40</td><td style=\"text-align: right;\">         313.007</td><td style=\"text-align: right;\">        200</td><td style=\"text-align: right;\"> 0.149969  </td><td style=\"text-align: right;\"> 0.11868   </td></tr>\n",
       "<tr><td>TrainLightGCN_4a4c0dbe</td><td>TERMINATED</td><td>147.96.81.131:257791</td><td style=\"text-align: right;\">           9</td><td style=\"text-align: right;\">            4</td><td style=\"text-align: right;\">              7</td><td style=\"text-align: right;\">     9</td><td style=\"text-align: right;\">3.54222e-06</td><td style=\"text-align: right;\">         0.0324</td><td style=\"text-align: right;\">    11</td><td style=\"text-align: right;\">         313.176</td><td style=\"text-align: right;\">         55</td><td style=\"text-align: right;\"> 0.0317549 </td><td style=\"text-align: right;\"> 0.0313442 </td></tr>\n",
       "<tr><td>TrainLightGCN_1a993788</td><td>TERMINATED</td><td>147.96.81.131:257964</td><td style=\"text-align: right;\">           8</td><td style=\"text-align: right;\">            3</td><td style=\"text-align: right;\">             16</td><td style=\"text-align: right;\">     9</td><td style=\"text-align: right;\">0.00138468 </td><td style=\"text-align: right;\">         0.6904</td><td style=\"text-align: right;\">     6</td><td style=\"text-align: right;\">         306.975</td><td style=\"text-align: right;\">         30</td><td style=\"text-align: right;\">22.8377    </td><td style=\"text-align: right;\">14.1718    </td></tr>\n",
       "<tr><td>TrainLightGCN_3bb3bbad</td><td>TERMINATED</td><td>147.96.81.131:258308</td><td style=\"text-align: right;\">          12</td><td style=\"text-align: right;\">            4</td><td style=\"text-align: right;\">             22</td><td style=\"text-align: right;\">     9</td><td style=\"text-align: right;\">4.37236e-06</td><td style=\"text-align: right;\">         0.2762</td><td style=\"text-align: right;\">    31</td><td style=\"text-align: right;\">         314.846</td><td style=\"text-align: right;\">        155</td><td style=\"text-align: right;\"> 0.665863  </td><td style=\"text-align: right;\"> 0.618427  </td></tr>\n",
       "<tr><td>TrainLightGCN_f656bea1</td><td>TERMINATED</td><td>147.96.81.131:258702</td><td style=\"text-align: right;\">           9</td><td style=\"text-align: right;\">            2</td><td style=\"text-align: right;\">            105</td><td style=\"text-align: right;\">     9</td><td style=\"text-align: right;\">1.08811e-07</td><td style=\"text-align: right;\">         0.023 </td><td style=\"text-align: right;\">     5</td><td style=\"text-align: right;\">         304.889</td><td style=\"text-align: right;\">         25</td><td style=\"text-align: right;\"> 0.0555599 </td><td style=\"text-align: right;\"> 0.0554659 </td></tr>\n",
       "<tr><td>TrainLightGCN_1570151e</td><td>TERMINATED</td><td>147.96.81.131:259395</td><td style=\"text-align: right;\">          10</td><td style=\"text-align: right;\">            5</td><td style=\"text-align: right;\">              8</td><td style=\"text-align: right;\">     9</td><td style=\"text-align: right;\">0.000170979</td><td style=\"text-align: right;\">         0.011 </td><td style=\"text-align: right;\">    12</td><td style=\"text-align: right;\">         327.479</td><td style=\"text-align: right;\">         60</td><td style=\"text-align: right;\"> 0.0156344 </td><td style=\"text-align: right;\"> 0.0133978 </td></tr>\n",
       "<tr><td>TrainLightGCN_b71140f1</td><td>TERMINATED</td><td>147.96.81.131:259571</td><td style=\"text-align: right;\">           6</td><td style=\"text-align: right;\">            5</td><td style=\"text-align: right;\">              9</td><td style=\"text-align: right;\">     9</td><td style=\"text-align: right;\">1.05945e-07</td><td style=\"text-align: right;\">         0.1732</td><td style=\"text-align: right;\">     1</td><td style=\"text-align: right;\">         329.741</td><td style=\"text-align: right;\">          5</td><td style=\"text-align: right;\"> 2.09371   </td><td style=\"text-align: right;\"> 2.09335   </td></tr>\n",
       "<tr><td>TrainLightGCN_af6ee6a4</td><td>TERMINATED</td><td>147.96.81.131:259910</td><td style=\"text-align: right;\">           9</td><td style=\"text-align: right;\">            5</td><td style=\"text-align: right;\">              1</td><td style=\"text-align: right;\">     9</td><td style=\"text-align: right;\">3.88679e-07</td><td style=\"text-align: right;\">         0.1986</td><td style=\"text-align: right;\">     7</td><td style=\"text-align: right;\">         354.016</td><td style=\"text-align: right;\">         35</td><td style=\"text-align: right;\"> 0.392077  </td><td style=\"text-align: right;\"> 0.388433  </td></tr>\n",
       "<tr><td>TrainLightGCN_21a65676</td><td>TERMINATED</td><td>147.96.81.131:260275</td><td style=\"text-align: right;\">           6</td><td style=\"text-align: right;\">            2</td><td style=\"text-align: right;\">            246</td><td style=\"text-align: right;\">     9</td><td style=\"text-align: right;\">6.82558e-06</td><td style=\"text-align: right;\">         0.0568</td><td style=\"text-align: right;\">     1</td><td style=\"text-align: right;\">        1042.09 </td><td style=\"text-align: right;\">          5</td><td style=\"text-align: right;\"> 2.11561   </td><td style=\"text-align: right;\"> 2.02716   </td></tr>\n",
       "<tr><td>TrainLightGCN_75b99198</td><td>TERMINATED</td><td>147.96.81.131:261029</td><td style=\"text-align: right;\">           8</td><td style=\"text-align: right;\">            4</td><td style=\"text-align: right;\">              1</td><td style=\"text-align: right;\">     9</td><td style=\"text-align: right;\">3.53743e-07</td><td style=\"text-align: right;\">         0.9778</td><td style=\"text-align: right;\">     4</td><td style=\"text-align: right;\">         390.435</td><td style=\"text-align: right;\">         20</td><td style=\"text-align: right;\"> 2.65022   </td><td style=\"text-align: right;\"> 2.64273   </td></tr>\n",
       "<tr><td>TrainLightGCN_04212623</td><td>TERMINATED</td><td>147.96.81.131:261239</td><td style=\"text-align: right;\">          10</td><td style=\"text-align: right;\">            5</td><td style=\"text-align: right;\">              2</td><td style=\"text-align: right;\">     9</td><td style=\"text-align: right;\">0.000316249</td><td style=\"text-align: right;\">         0.9967</td><td style=\"text-align: right;\">    10</td><td style=\"text-align: right;\">         310.836</td><td style=\"text-align: right;\">         50</td><td style=\"text-align: right;\"> 2.2265    </td><td style=\"text-align: right;\"> 2.12521   </td></tr>\n",
       "<tr><td>TrainLightGCN_60e85522</td><td>TERMINATED</td><td>147.96.81.131:261626</td><td style=\"text-align: right;\">          10</td><td style=\"text-align: right;\">            5</td><td style=\"text-align: right;\">             10</td><td style=\"text-align: right;\">     9</td><td style=\"text-align: right;\">0.000126607</td><td style=\"text-align: right;\">         0.2765</td><td style=\"text-align: right;\">    10</td><td style=\"text-align: right;\">         305.175</td><td style=\"text-align: right;\">         50</td><td style=\"text-align: right;\"> 0.827722  </td><td style=\"text-align: right;\"> 0.697319  </td></tr>\n",
       "<tr><td>TrainLightGCN_a7ed00e2</td><td>TERMINATED</td><td>147.96.81.131:262512</td><td style=\"text-align: right;\">          13</td><td style=\"text-align: right;\">            5</td><td style=\"text-align: right;\">              1</td><td style=\"text-align: right;\">     9</td><td style=\"text-align: right;\">8.19732e-05</td><td style=\"text-align: right;\">         0.1336</td><td style=\"text-align: right;\">    33</td><td style=\"text-align: right;\">         316.842</td><td style=\"text-align: right;\">        165</td><td style=\"text-align: right;\"> 0.169363  </td><td style=\"text-align: right;\"> 0.166397  </td></tr>\n",
       "<tr><td>TrainLightGCN_bf554765</td><td>TERMINATED</td><td>147.96.81.131:262852</td><td style=\"text-align: right;\">          10</td><td style=\"text-align: right;\">            5</td><td style=\"text-align: right;\">              2</td><td style=\"text-align: right;\">     9</td><td style=\"text-align: right;\">1.81338e-05</td><td style=\"text-align: right;\">         0.2206</td><td style=\"text-align: right;\">     8</td><td style=\"text-align: right;\">         340.818</td><td style=\"text-align: right;\">         40</td><td style=\"text-align: right;\"> 0.226957  </td><td style=\"text-align: right;\"> 0.213134  </td></tr>\n",
       "<tr><td>TrainLightGCN_97d4550b</td><td>TERMINATED</td><td>147.96.81.131:263028</td><td style=\"text-align: right;\">           9</td><td style=\"text-align: right;\">            5</td><td style=\"text-align: right;\">            253</td><td style=\"text-align: right;\">     9</td><td style=\"text-align: right;\">0.000125306</td><td style=\"text-align: right;\">         0.2706</td><td style=\"text-align: right;\">     1</td><td style=\"text-align: right;\">         353.588</td><td style=\"text-align: right;\">          5</td><td style=\"text-align: right;\">10.4435    </td><td style=\"text-align: right;\"> 6.92949   </td></tr>\n",
       "<tr><td>TrainLightGCN_a178c52e</td><td>TERMINATED</td><td>147.96.81.131:263962</td><td style=\"text-align: right;\">          11</td><td style=\"text-align: right;\">            5</td><td style=\"text-align: right;\">              1</td><td style=\"text-align: right;\">     9</td><td style=\"text-align: right;\">1.03245e-05</td><td style=\"text-align: right;\">         0.3558</td><td style=\"text-align: right;\">    27</td><td style=\"text-align: right;\">         307.162</td><td style=\"text-align: right;\">        135</td><td style=\"text-align: right;\"> 0.391394  </td><td style=\"text-align: right;\"> 0.37077   </td></tr>\n",
       "<tr><td>TrainLightGCN_1cfb40c7</td><td>TERMINATED</td><td>147.96.81.131:264369</td><td style=\"text-align: right;\">          10</td><td style=\"text-align: right;\">            1</td><td style=\"text-align: right;\">             13</td><td style=\"text-align: right;\">     9</td><td style=\"text-align: right;\">5.3716e-05 </td><td style=\"text-align: right;\">         0.2058</td><td style=\"text-align: right;\">    26</td><td style=\"text-align: right;\">         313.551</td><td style=\"text-align: right;\">        130</td><td style=\"text-align: right;\">11.9315    </td><td style=\"text-align: right;\"> 8.61279   </td></tr>\n",
       "<tr><td>TrainLightGCN_7ae91baf</td><td>TERMINATED</td><td>147.96.81.131:264609</td><td style=\"text-align: right;\">          13</td><td style=\"text-align: right;\">            5</td><td style=\"text-align: right;\">              1</td><td style=\"text-align: right;\">     9</td><td style=\"text-align: right;\">6.33534e-07</td><td style=\"text-align: right;\">         0.1205</td><td style=\"text-align: right;\">    40</td><td style=\"text-align: right;\">         256.607</td><td style=\"text-align: right;\">        200</td><td style=\"text-align: right;\"> 0.156406  </td><td style=\"text-align: right;\"> 0.155578  </td></tr>\n",
       "<tr><td>TrainLightGCN_c5440e00</td><td>TERMINATED</td><td>147.96.81.131:264954</td><td style=\"text-align: right;\">           9</td><td style=\"text-align: right;\">            5</td><td style=\"text-align: right;\">              2</td><td style=\"text-align: right;\">     9</td><td style=\"text-align: right;\">1.89324e-05</td><td style=\"text-align: right;\">         0.6499</td><td style=\"text-align: right;\">    16</td><td style=\"text-align: right;\">         316.8  </td><td style=\"text-align: right;\">         80</td><td style=\"text-align: right;\"> 1.82537   </td><td style=\"text-align: right;\"> 1.66259   </td></tr>\n",
       "<tr><td>TrainLightGCN_e55e0c90</td><td>TERMINATED</td><td>147.96.81.131:265538</td><td style=\"text-align: right;\">          10</td><td style=\"text-align: right;\">            2</td><td style=\"text-align: right;\">             12</td><td style=\"text-align: right;\">     9</td><td style=\"text-align: right;\">0.000198505</td><td style=\"text-align: right;\">         0.0725</td><td style=\"text-align: right;\">    17</td><td style=\"text-align: right;\">         304.741</td><td style=\"text-align: right;\">         85</td><td style=\"text-align: right;\"> 0.147743  </td><td style=\"text-align: right;\"> 0.123013  </td></tr>\n",
       "<tr><td>TrainLightGCN_8a148979</td><td>TERMINATED</td><td>147.96.81.131:265884</td><td style=\"text-align: right;\">          11</td><td style=\"text-align: right;\">            5</td><td style=\"text-align: right;\">            197</td><td style=\"text-align: right;\">     9</td><td style=\"text-align: right;\">1.61302e-06</td><td style=\"text-align: right;\">         0.3638</td><td style=\"text-align: right;\">     7</td><td style=\"text-align: right;\">         312.688</td><td style=\"text-align: right;\">         35</td><td style=\"text-align: right;\"> 4.87153   </td><td style=\"text-align: right;\"> 4.57979   </td></tr>\n",
       "<tr><td>TrainLightGCN_4100a0fa</td><td>TERMINATED</td><td>147.96.81.131:266127</td><td style=\"text-align: right;\">          13</td><td style=\"text-align: right;\">            3</td><td style=\"text-align: right;\">              1</td><td style=\"text-align: right;\">     9</td><td style=\"text-align: right;\">6.07934e-07</td><td style=\"text-align: right;\">         0.1231</td><td style=\"text-align: right;\">    40</td><td style=\"text-align: right;\">         299.784</td><td style=\"text-align: right;\">        200</td><td style=\"text-align: right;\"> 0.176845  </td><td style=\"text-align: right;\"> 0.176006  </td></tr>\n",
       "<tr><td>TrainLightGCN_b0dc7e9c</td><td>TERMINATED</td><td>147.96.81.131:266563</td><td style=\"text-align: right;\">          13</td><td style=\"text-align: right;\">            4</td><td style=\"text-align: right;\">              1</td><td style=\"text-align: right;\">     9</td><td style=\"text-align: right;\">1.72265e-07</td><td style=\"text-align: right;\">         0.0551</td><td style=\"text-align: right;\">    40</td><td style=\"text-align: right;\">         284.236</td><td style=\"text-align: right;\">        200</td><td style=\"text-align: right;\"> 0.140127  </td><td style=\"text-align: right;\"> 0.139959  </td></tr>\n",
       "<tr><td>TrainLightGCN_812d8368</td><td>TERMINATED</td><td>147.96.81.131:267106</td><td style=\"text-align: right;\">           7</td><td style=\"text-align: right;\">            5</td><td style=\"text-align: right;\">              3</td><td style=\"text-align: right;\">     9</td><td style=\"text-align: right;\">6.20839e-07</td><td style=\"text-align: right;\">         0.082 </td><td style=\"text-align: right;\">     5</td><td style=\"text-align: right;\">         315.707</td><td style=\"text-align: right;\">         25</td><td style=\"text-align: right;\"> 0.29822   </td><td style=\"text-align: right;\"> 0.294984  </td></tr>\n",
       "<tr><td>TrainLightGCN_5c9e40d6</td><td>TERMINATED</td><td>147.96.81.131:267473</td><td style=\"text-align: right;\">           9</td><td style=\"text-align: right;\">            3</td><td style=\"text-align: right;\">              1</td><td style=\"text-align: right;\">     9</td><td style=\"text-align: right;\">2.33246e-06</td><td style=\"text-align: right;\">         0.1019</td><td style=\"text-align: right;\">    17</td><td style=\"text-align: right;\">         306.82 </td><td style=\"text-align: right;\">         85</td><td style=\"text-align: right;\"> 0.363791  </td><td style=\"text-align: right;\"> 0.348709  </td></tr>\n",
       "<tr><td>TrainLightGCN_cf2c477b</td><td>TERMINATED</td><td>147.96.81.131:267682</td><td style=\"text-align: right;\">           6</td><td style=\"text-align: right;\">            1</td><td style=\"text-align: right;\">              2</td><td style=\"text-align: right;\">     9</td><td style=\"text-align: right;\">1.0998e-06 </td><td style=\"text-align: right;\">         0.0458</td><td style=\"text-align: right;\">     3</td><td style=\"text-align: right;\">         317.828</td><td style=\"text-align: right;\">         15</td><td style=\"text-align: right;\"> 0.884432  </td><td style=\"text-align: right;\"> 0.884169  </td></tr>\n",
       "<tr><td>TrainLightGCN_54856116</td><td>TERMINATED</td><td>147.96.81.131:268072</td><td style=\"text-align: right;\">           7</td><td style=\"text-align: right;\">            2</td><td style=\"text-align: right;\">              3</td><td style=\"text-align: right;\">     9</td><td style=\"text-align: right;\">4.68357e-07</td><td style=\"text-align: right;\">         0.1799</td><td style=\"text-align: right;\">     6</td><td style=\"text-align: right;\">         362.987</td><td style=\"text-align: right;\">         30</td><td style=\"text-align: right;\"> 2.48148   </td><td style=\"text-align: right;\"> 2.47938   </td></tr>\n",
       "<tr><td>TrainLightGCN_85cf1e8a</td><td>TERMINATED</td><td>147.96.81.131:268714</td><td style=\"text-align: right;\">           8</td><td style=\"text-align: right;\">            3</td><td style=\"text-align: right;\">              6</td><td style=\"text-align: right;\">     9</td><td style=\"text-align: right;\">1.38781e-07</td><td style=\"text-align: right;\">         0.1019</td><td style=\"text-align: right;\">    10</td><td style=\"text-align: right;\">         329.824</td><td style=\"text-align: right;\">         50</td><td style=\"text-align: right;\"> 0.989337  </td><td style=\"text-align: right;\"> 0.987138  </td></tr>\n",
       "<tr><td>TrainLightGCN_f571aa72</td><td>TERMINATED</td><td>147.96.81.131:269053</td><td style=\"text-align: right;\">          13</td><td style=\"text-align: right;\">            1</td><td style=\"text-align: right;\">              2</td><td style=\"text-align: right;\">     9</td><td style=\"text-align: right;\">2.80697e-06</td><td style=\"text-align: right;\">         0.0298</td><td style=\"text-align: right;\">    40</td><td style=\"text-align: right;\">         250.953</td><td style=\"text-align: right;\">        200</td><td style=\"text-align: right;\"> 0.058617  </td><td style=\"text-align: right;\"> 0.0583556 </td></tr>\n",
       "<tr><td>TrainLightGCN_df8b1683</td><td>TERMINATED</td><td>147.96.81.131:269288</td><td style=\"text-align: right;\">          11</td><td style=\"text-align: right;\">            3</td><td style=\"text-align: right;\">             52</td><td style=\"text-align: right;\">     9</td><td style=\"text-align: right;\">2.36785e-07</td><td style=\"text-align: right;\">         0.5272</td><td style=\"text-align: right;\">    25</td><td style=\"text-align: right;\">         306.604</td><td style=\"text-align: right;\">        125</td><td style=\"text-align: right;\"> 9.60899   </td><td style=\"text-align: right;\"> 9.53986   </td></tr>\n",
       "<tr><td>TrainLightGCN_5e199ed7</td><td>TERMINATED</td><td>147.96.81.131:269811</td><td style=\"text-align: right;\">          12</td><td style=\"text-align: right;\">            2</td><td style=\"text-align: right;\">              4</td><td style=\"text-align: right;\">     9</td><td style=\"text-align: right;\">8.66815e-07</td><td style=\"text-align: right;\">         0.0452</td><td style=\"text-align: right;\">    40</td><td style=\"text-align: right;\">         259.654</td><td style=\"text-align: right;\">        200</td><td style=\"text-align: right;\"> 0.0240935 </td><td style=\"text-align: right;\"> 0.0237421 </td></tr>\n",
       "<tr><td>TrainLightGCN_30c4022e</td><td>TERMINATED</td><td>147.96.81.131:270306</td><td style=\"text-align: right;\">           9</td><td style=\"text-align: right;\">            3</td><td style=\"text-align: right;\">              1</td><td style=\"text-align: right;\">     9</td><td style=\"text-align: right;\">1.01053e-05</td><td style=\"text-align: right;\">         0.0683</td><td style=\"text-align: right;\">    15</td><td style=\"text-align: right;\">         318.885</td><td style=\"text-align: right;\">         75</td><td style=\"text-align: right;\"> 0.309803  </td><td style=\"text-align: right;\"> 0.297836  </td></tr>\n",
       "<tr><td>TrainLightGCN_90d04414</td><td>TERMINATED</td><td>147.96.81.131:270482</td><td style=\"text-align: right;\">           8</td><td style=\"text-align: right;\">            2</td><td style=\"text-align: right;\">              3</td><td style=\"text-align: right;\">     9</td><td style=\"text-align: right;\">3.36641e-05</td><td style=\"text-align: right;\">         0.15  </td><td style=\"text-align: right;\">     9</td><td style=\"text-align: right;\">         343.848</td><td style=\"text-align: right;\">         45</td><td style=\"text-align: right;\"> 0.769843  </td><td style=\"text-align: right;\"> 0.746123  </td></tr>\n",
       "<tr><td>TrainLightGCN_1a7bd753</td><td>TERMINATED</td><td>147.96.81.131:270862</td><td style=\"text-align: right;\">          12</td><td style=\"text-align: right;\">            4</td><td style=\"text-align: right;\">              1</td><td style=\"text-align: right;\">     9</td><td style=\"text-align: right;\">1.59334e-06</td><td style=\"text-align: right;\">         0.3855</td><td style=\"text-align: right;\">    37</td><td style=\"text-align: right;\">         318.172</td><td style=\"text-align: right;\">        185</td><td style=\"text-align: right;\"> 0.216867  </td><td style=\"text-align: right;\"> 0.211126  </td></tr>\n",
       "<tr><td>TrainLightGCN_5e631ebf</td><td>TERMINATED</td><td>147.96.81.131:271252</td><td style=\"text-align: right;\">           7</td><td style=\"text-align: right;\">            1</td><td style=\"text-align: right;\">            156</td><td style=\"text-align: right;\">     9</td><td style=\"text-align: right;\">3.92966e-07</td><td style=\"text-align: right;\">         0.1145</td><td style=\"text-align: right;\">     2</td><td style=\"text-align: right;\">         489.765</td><td style=\"text-align: right;\">         10</td><td style=\"text-align: right;\"> 8.97739   </td><td style=\"text-align: right;\"> 8.95986   </td></tr>\n",
       "<tr><td>TrainLightGCN_6a83f14f</td><td>TERMINATED</td><td>147.96.81.131:271915</td><td style=\"text-align: right;\">          11</td><td style=\"text-align: right;\">            4</td><td style=\"text-align: right;\">             26</td><td style=\"text-align: right;\">     9</td><td style=\"text-align: right;\">5.58471e-06</td><td style=\"text-align: right;\">         0.2286</td><td style=\"text-align: right;\">    15</td><td style=\"text-align: right;\">         313.436</td><td style=\"text-align: right;\">         75</td><td style=\"text-align: right;\"> 0.791775  </td><td style=\"text-align: right;\"> 0.736318  </td></tr>\n",
       "<tr><td>TrainLightGCN_f2d298dd</td><td>TERMINATED</td><td>147.96.81.131:272189</td><td style=\"text-align: right;\">           9</td><td style=\"text-align: right;\">            3</td><td style=\"text-align: right;\">             70</td><td style=\"text-align: right;\">     9</td><td style=\"text-align: right;\">1.9721e-07 </td><td style=\"text-align: right;\">         0.1656</td><td style=\"text-align: right;\">     4</td><td style=\"text-align: right;\">         314.969</td><td style=\"text-align: right;\">         20</td><td style=\"text-align: right;\"> 2.30167   </td><td style=\"text-align: right;\"> 2.29669   </td></tr>\n",
       "<tr><td>TrainLightGCN_8dc4902e</td><td>TERMINATED</td><td>147.96.81.131:272473</td><td style=\"text-align: right;\">           8</td><td style=\"text-align: right;\">            1</td><td style=\"text-align: right;\">              5</td><td style=\"text-align: right;\">     9</td><td style=\"text-align: right;\">7.7771e-07 </td><td style=\"text-align: right;\">         0.581 </td><td style=\"text-align: right;\">     5</td><td style=\"text-align: right;\">         319.569</td><td style=\"text-align: right;\">         25</td><td style=\"text-align: right;\">44.5899    </td><td style=\"text-align: right;\">44.5723    </td></tr>\n",
       "<tr><td>TrainLightGCN_70dd8aa2</td><td>TERMINATED</td><td>147.96.81.131:273354</td><td style=\"text-align: right;\">           7</td><td style=\"text-align: right;\">            2</td><td style=\"text-align: right;\">              2</td><td style=\"text-align: right;\">     9</td><td style=\"text-align: right;\">2.22929e-06</td><td style=\"text-align: right;\">         0.8166</td><td style=\"text-align: right;\">     7</td><td style=\"text-align: right;\">         319.48 </td><td style=\"text-align: right;\">         35</td><td style=\"text-align: right;\">38.7699    </td><td style=\"text-align: right;\">38.543     </td></tr>\n",
       "<tr><td>TrainLightGCN_b820ce09</td><td>TERMINATED</td><td>147.96.81.131:273530</td><td style=\"text-align: right;\">          11</td><td style=\"text-align: right;\">            4</td><td style=\"text-align: right;\">              4</td><td style=\"text-align: right;\">     9</td><td style=\"text-align: right;\">0.00768472 </td><td style=\"text-align: right;\">         0.4461</td><td style=\"text-align: right;\">    36</td><td style=\"text-align: right;\">         307.834</td><td style=\"text-align: right;\">        180</td><td style=\"text-align: right;\"> 0.514256  </td><td style=\"text-align: right;\"> 0.255424  </td></tr>\n",
       "<tr><td>TrainLightGCN_98ba10dd</td><td>TERMINATED</td><td>147.96.81.131:273790</td><td style=\"text-align: right;\">          12</td><td style=\"text-align: right;\">            4</td><td style=\"text-align: right;\">              1</td><td style=\"text-align: right;\">     9</td><td style=\"text-align: right;\">1.03751e-05</td><td style=\"text-align: right;\">         0.0269</td><td style=\"text-align: right;\">    40</td><td style=\"text-align: right;\">         275.685</td><td style=\"text-align: right;\">        200</td><td style=\"text-align: right;\"> 0.149184  </td><td style=\"text-align: right;\"> 0.146487  </td></tr>\n",
       "<tr><td>TrainLightGCN_d919b9d0</td><td>TERMINATED</td><td>147.96.81.131:274088</td><td style=\"text-align: right;\">          10</td><td style=\"text-align: right;\">            3</td><td style=\"text-align: right;\">             17</td><td style=\"text-align: right;\">     9</td><td style=\"text-align: right;\">0.00237368 </td><td style=\"text-align: right;\">         0.0151</td><td style=\"text-align: right;\">    25</td><td style=\"text-align: right;\">         318.643</td><td style=\"text-align: right;\">        125</td><td style=\"text-align: right;\"> 0.0195936 </td><td style=\"text-align: right;\"> 0.00882482</td></tr>\n",
       "<tr><td>TrainLightGCN_e0553f8c</td><td>TERMINATED</td><td>147.96.81.131:274957</td><td style=\"text-align: right;\">           8</td><td style=\"text-align: right;\">            2</td><td style=\"text-align: right;\">              6</td><td style=\"text-align: right;\">     9</td><td style=\"text-align: right;\">1.13883e-07</td><td style=\"text-align: right;\">         0.0865</td><td style=\"text-align: right;\">     7</td><td style=\"text-align: right;\">         349.208</td><td style=\"text-align: right;\">         35</td><td style=\"text-align: right;\"> 0.522915  </td><td style=\"text-align: right;\"> 0.522847  </td></tr>\n",
       "<tr><td>TrainLightGCN_50e0a525</td><td>TERMINATED</td><td>147.96.81.131:275142</td><td style=\"text-align: right;\">           9</td><td style=\"text-align: right;\">            4</td><td style=\"text-align: right;\">              1</td><td style=\"text-align: right;\">     9</td><td style=\"text-align: right;\">3.89835e-06</td><td style=\"text-align: right;\">         0.3143</td><td style=\"text-align: right;\">    11</td><td style=\"text-align: right;\">         329.928</td><td style=\"text-align: right;\">         55</td><td style=\"text-align: right;\"> 0.285085  </td><td style=\"text-align: right;\"> 0.273455  </td></tr>\n",
       "<tr><td>TrainLightGCN_e67a409c</td><td>TERMINATED</td><td>147.96.81.131:275334</td><td style=\"text-align: right;\">           6</td><td style=\"text-align: right;\">            3</td><td style=\"text-align: right;\">             34</td><td style=\"text-align: right;\">     9</td><td style=\"text-align: right;\">2.20846e-05</td><td style=\"text-align: right;\">         0.0393</td><td style=\"text-align: right;\">     2</td><td style=\"text-align: right;\">         418.167</td><td style=\"text-align: right;\">         10</td><td style=\"text-align: right;\"> 0.413457  </td><td style=\"text-align: right;\"> 0.392716  </td></tr>\n",
       "<tr><td>TrainLightGCN_b3ff9ecd</td><td>TERMINATED</td><td>147.96.81.131:275701</td><td style=\"text-align: right;\">          10</td><td style=\"text-align: right;\">            1</td><td style=\"text-align: right;\">             50</td><td style=\"text-align: right;\">     9</td><td style=\"text-align: right;\">3.14041e-07</td><td style=\"text-align: right;\">         0.2033</td><td style=\"text-align: right;\">    16</td><td style=\"text-align: right;\">         318.59 </td><td style=\"text-align: right;\">         80</td><td style=\"text-align: right;\"> 5.81764   </td><td style=\"text-align: right;\"> 5.79829   </td></tr>\n",
       "<tr><td>TrainLightGCN_57a0e1a9</td><td>TERMINATED</td><td>147.96.81.131:276653</td><td style=\"text-align: right;\">          12</td><td style=\"text-align: right;\">            4</td><td style=\"text-align: right;\">              3</td><td style=\"text-align: right;\">     9</td><td style=\"text-align: right;\">0.000585952</td><td style=\"text-align: right;\">         0.0521</td><td style=\"text-align: right;\">    40</td><td style=\"text-align: right;\">         291.026</td><td style=\"text-align: right;\">        200</td><td style=\"text-align: right;\"> 0.0480456 </td><td style=\"text-align: right;\"> 0.0421963 </td></tr>\n",
       "<tr><td>TrainLightGCN_00b9c382</td><td>TERMINATED</td><td>147.96.81.131:276829</td><td style=\"text-align: right;\">           7</td><td style=\"text-align: right;\">            3</td><td style=\"text-align: right;\">              2</td><td style=\"text-align: right;\">     9</td><td style=\"text-align: right;\">5.20286e-07</td><td style=\"text-align: right;\">         0.2487</td><td style=\"text-align: right;\">     7</td><td style=\"text-align: right;\">         334.984</td><td style=\"text-align: right;\">         35</td><td style=\"text-align: right;\"> 1.7731    </td><td style=\"text-align: right;\"> 1.75318   </td></tr>\n",
       "<tr><td>TrainLightGCN_ad3db1ca</td><td>TERMINATED</td><td>147.96.81.131:277154</td><td style=\"text-align: right;\">          13</td><td style=\"text-align: right;\">            2</td><td style=\"text-align: right;\">              9</td><td style=\"text-align: right;\">     9</td><td style=\"text-align: right;\">1.1485e-06 </td><td style=\"text-align: right;\">         0.8083</td><td style=\"text-align: right;\">    40</td><td style=\"text-align: right;\">         249.451</td><td style=\"text-align: right;\">        200</td><td style=\"text-align: right;\"> 3.6048    </td><td style=\"text-align: right;\"> 3.566     </td></tr>\n",
       "<tr><td>TrainLightGCN_6dc56941</td><td>TERMINATED</td><td>147.96.81.131:277422</td><td style=\"text-align: right;\">           9</td><td style=\"text-align: right;\">            4</td><td style=\"text-align: right;\">              1</td><td style=\"text-align: right;\">     9</td><td style=\"text-align: right;\">6.96423e-06</td><td style=\"text-align: right;\">         0.0667</td><td style=\"text-align: right;\">    21</td><td style=\"text-align: right;\">         311.448</td><td style=\"text-align: right;\">        105</td><td style=\"text-align: right;\"> 0.152404  </td><td style=\"text-align: right;\"> 0.14672   </td></tr>\n",
       "<tr><td>TrainLightGCN_f90d16ec</td><td>TERMINATED</td><td>147.96.81.131:278184</td><td style=\"text-align: right;\">          11</td><td style=\"text-align: right;\">            4</td><td style=\"text-align: right;\">              4</td><td style=\"text-align: right;\">     9</td><td style=\"text-align: right;\">0.00696185 </td><td style=\"text-align: right;\">         0.4843</td><td style=\"text-align: right;\">    39</td><td style=\"text-align: right;\">         307.322</td><td style=\"text-align: right;\">        195</td><td style=\"text-align: right;\"> 0.60966   </td><td style=\"text-align: right;\"> 0.31301   </td></tr>\n",
       "<tr><td>TrainLightGCN_29666c56</td><td>TERMINATED</td><td>147.96.81.131:278408</td><td style=\"text-align: right;\">          12</td><td style=\"text-align: right;\">            4</td><td style=\"text-align: right;\">              1</td><td style=\"text-align: right;\">     9</td><td style=\"text-align: right;\">0.00410818 </td><td style=\"text-align: right;\">         0.3052</td><td style=\"text-align: right;\">    40</td><td style=\"text-align: right;\">         261.794</td><td style=\"text-align: right;\">        200</td><td style=\"text-align: right;\"> 0.328722  </td><td style=\"text-align: right;\"> 0.310918  </td></tr>\n",
       "<tr><td>TrainLightGCN_cbe3b80b</td><td>TERMINATED</td><td>147.96.81.131:278673</td><td style=\"text-align: right;\">          13</td><td style=\"text-align: right;\">            5</td><td style=\"text-align: right;\">              7</td><td style=\"text-align: right;\">     9</td><td style=\"text-align: right;\">0.00157341 </td><td style=\"text-align: right;\">         0.1216</td><td style=\"text-align: right;\">    40</td><td style=\"text-align: right;\">         249.218</td><td style=\"text-align: right;\">        200</td><td style=\"text-align: right;\"> 0.0440144 </td><td style=\"text-align: right;\"> 0.0256743 </td></tr>\n",
       "<tr><td>TrainLightGCN_8b079015</td><td>TERMINATED</td><td>147.96.81.131:279017</td><td style=\"text-align: right;\">          11</td><td style=\"text-align: right;\">            5</td><td style=\"text-align: right;\">              2</td><td style=\"text-align: right;\">     9</td><td style=\"text-align: right;\">5.03106e-05</td><td style=\"text-align: right;\">         0.4207</td><td style=\"text-align: right;\">    39</td><td style=\"text-align: right;\">         310.581</td><td style=\"text-align: right;\">        195</td><td style=\"text-align: right;\"> 0.402139  </td><td style=\"text-align: right;\"> 0.362884  </td></tr>\n",
       "<tr><td>TrainLightGCN_369b9855</td><td>TERMINATED</td><td>147.96.81.131:279697</td><td style=\"text-align: right;\">          10</td><td style=\"text-align: right;\">            4</td><td style=\"text-align: right;\">             11</td><td style=\"text-align: right;\">     9</td><td style=\"text-align: right;\">0.00973938 </td><td style=\"text-align: right;\">         0.1883</td><td style=\"text-align: right;\">    28</td><td style=\"text-align: right;\">         313.724</td><td style=\"text-align: right;\">        140</td><td style=\"text-align: right;\"> 0.251214  </td><td style=\"text-align: right;\"> 0.0699511 </td></tr>\n",
       "<tr><td>TrainLightGCN_c8fe06bd</td><td>TERMINATED</td><td>147.96.81.131:279926</td><td style=\"text-align: right;\">          13</td><td style=\"text-align: right;\">            5</td><td style=\"text-align: right;\">              4</td><td style=\"text-align: right;\">     9</td><td style=\"text-align: right;\">0.000742384</td><td style=\"text-align: right;\">         0.154 </td><td style=\"text-align: right;\">    40</td><td style=\"text-align: right;\">         247.823</td><td style=\"text-align: right;\">        200</td><td style=\"text-align: right;\"> 0.0655348 </td><td style=\"text-align: right;\"> 0.0523531 </td></tr>\n",
       "<tr><td>TrainLightGCN_7512eeec</td><td>TERMINATED</td><td>147.96.81.131:280096</td><td style=\"text-align: right;\">          11</td><td style=\"text-align: right;\">            3</td><td style=\"text-align: right;\">              1</td><td style=\"text-align: right;\">     9</td><td style=\"text-align: right;\">8.05323e-05</td><td style=\"text-align: right;\">         0.4332</td><td style=\"text-align: right;\">    39</td><td style=\"text-align: right;\">         307.242</td><td style=\"text-align: right;\">        195</td><td style=\"text-align: right;\"> 0.649784  </td><td style=\"text-align: right;\"> 0.612962  </td></tr>\n",
       "<tr><td>TrainLightGCN_7c65f006</td><td>TERMINATED</td><td>147.96.81.131:280605</td><td style=\"text-align: right;\">          10</td><td style=\"text-align: right;\">            3</td><td style=\"text-align: right;\">              3</td><td style=\"text-align: right;\">     9</td><td style=\"text-align: right;\">0.00209796 </td><td style=\"text-align: right;\">         0.311 </td><td style=\"text-align: right;\">    29</td><td style=\"text-align: right;\">         308.52 </td><td style=\"text-align: right;\">        145</td><td style=\"text-align: right;\"> 0.950689  </td><td style=\"text-align: right;\"> 0.867299  </td></tr>\n",
       "<tr><td>TrainLightGCN_f4fe834b</td><td>TERMINATED</td><td>147.96.81.131:281164</td><td style=\"text-align: right;\">          12</td><td style=\"text-align: right;\">            4</td><td style=\"text-align: right;\">              2</td><td style=\"text-align: right;\">     9</td><td style=\"text-align: right;\">0.0002768  </td><td style=\"text-align: right;\">         0.857 </td><td style=\"text-align: right;\">    40</td><td style=\"text-align: right;\">         273.664</td><td style=\"text-align: right;\">        200</td><td style=\"text-align: right;\"> 1.09709   </td><td style=\"text-align: right;\"> 0.955168  </td></tr>\n",
       "<tr><td>TrainLightGCN_e16af59a</td><td>TERMINATED</td><td>147.96.81.131:281451</td><td style=\"text-align: right;\">          11</td><td style=\"text-align: right;\">            5</td><td style=\"text-align: right;\">              2</td><td style=\"text-align: right;\">     9</td><td style=\"text-align: right;\">1.32624e-05</td><td style=\"text-align: right;\">         0.5365</td><td style=\"text-align: right;\">    38</td><td style=\"text-align: right;\">         315.235</td><td style=\"text-align: right;\">        190</td><td style=\"text-align: right;\"> 0.566317  </td><td style=\"text-align: right;\"> 0.515696  </td></tr>\n",
       "<tr><td>TrainLightGCN_a3ccc2fc</td><td>TERMINATED</td><td>147.96.81.131:281700</td><td style=\"text-align: right;\">          10</td><td style=\"text-align: right;\">            4</td><td style=\"text-align: right;\">              5</td><td style=\"text-align: right;\">     9</td><td style=\"text-align: right;\">1.57017e-07</td><td style=\"text-align: right;\">         0.0982</td><td style=\"text-align: right;\">    29</td><td style=\"text-align: right;\">         309.269</td><td style=\"text-align: right;\">        145</td><td style=\"text-align: right;\"> 0.0895566 </td><td style=\"text-align: right;\"> 0.08934   </td></tr>\n",
       "<tr><td>TrainLightGCN_4aa2bd22</td><td>TERMINATED</td><td>147.96.81.131:282187</td><td style=\"text-align: right;\">          13</td><td style=\"text-align: right;\">            3</td><td style=\"text-align: right;\">              1</td><td style=\"text-align: right;\">     9</td><td style=\"text-align: right;\">3.14182e-05</td><td style=\"text-align: right;\">         0.1366</td><td style=\"text-align: right;\">    40</td><td style=\"text-align: right;\">         244.173</td><td style=\"text-align: right;\">        200</td><td style=\"text-align: right;\"> 0.18974   </td><td style=\"text-align: right;\"> 0.186859  </td></tr>\n",
       "<tr><td>TrainLightGCN_2b1f246a</td><td>TERMINATED</td><td>147.96.81.131:282642</td><td style=\"text-align: right;\">           9</td><td style=\"text-align: right;\">            5</td><td style=\"text-align: right;\">              3</td><td style=\"text-align: right;\">     9</td><td style=\"text-align: right;\">2.08388e-06</td><td style=\"text-align: right;\">         0.3529</td><td style=\"text-align: right;\">    20</td><td style=\"text-align: right;\">         314.284</td><td style=\"text-align: right;\">        100</td><td style=\"text-align: right;\"> 1.11187   </td><td style=\"text-align: right;\"> 1.03356   </td></tr>\n",
       "<tr><td>TrainLightGCN_f89aa7cd</td><td>TERMINATED</td><td>147.96.81.131:283047</td><td style=\"text-align: right;\">          12</td><td style=\"text-align: right;\">            4</td><td style=\"text-align: right;\">              1</td><td style=\"text-align: right;\">     9</td><td style=\"text-align: right;\">0.000375678</td><td style=\"text-align: right;\">         0.8752</td><td style=\"text-align: right;\">    40</td><td style=\"text-align: right;\">         262.737</td><td style=\"text-align: right;\">        200</td><td style=\"text-align: right;\"> 0.754009  </td><td style=\"text-align: right;\"> 0.715731  </td></tr>\n",
       "<tr><td>TrainLightGCN_19e9004c</td><td>TERMINATED</td><td>147.96.81.131:283283</td><td style=\"text-align: right;\">          12</td><td style=\"text-align: right;\">            5</td><td style=\"text-align: right;\">              1</td><td style=\"text-align: right;\">     9</td><td style=\"text-align: right;\">0.00025361 </td><td style=\"text-align: right;\">         0.0769</td><td style=\"text-align: right;\">    40</td><td style=\"text-align: right;\">         265.504</td><td style=\"text-align: right;\">        200</td><td style=\"text-align: right;\"> 0.176755  </td><td style=\"text-align: right;\"> 0.17394   </td></tr>\n",
       "<tr><td>TrainLightGCN_d8af5896</td><td>TERMINATED</td><td>147.96.81.131:283581</td><td style=\"text-align: right;\">          13</td><td style=\"text-align: right;\">            3</td><td style=\"text-align: right;\">              2</td><td style=\"text-align: right;\">     9</td><td style=\"text-align: right;\">0.00010893 </td><td style=\"text-align: right;\">         0.6203</td><td style=\"text-align: right;\">    40</td><td style=\"text-align: right;\">         241.792</td><td style=\"text-align: right;\">        200</td><td style=\"text-align: right;\"> 0.732925  </td><td style=\"text-align: right;\"> 0.65846   </td></tr>\n",
       "<tr><td>TrainLightGCN_5fcaca30</td><td>TERMINATED</td><td>147.96.81.131:284240</td><td style=\"text-align: right;\">          13</td><td style=\"text-align: right;\">            2</td><td style=\"text-align: right;\">              1</td><td style=\"text-align: right;\">     9</td><td style=\"text-align: right;\">3.34763e-06</td><td style=\"text-align: right;\">         0.1315</td><td style=\"text-align: right;\">    40</td><td style=\"text-align: right;\">         240.798</td><td style=\"text-align: right;\">        200</td><td style=\"text-align: right;\"> 0.174011  </td><td style=\"text-align: right;\"> 0.170925  </td></tr>\n",
       "<tr><td>TrainLightGCN_cdcab29d</td><td>TERMINATED</td><td>147.96.81.131:284491</td><td style=\"text-align: right;\">           8</td><td style=\"text-align: right;\">            3</td><td style=\"text-align: right;\">              1</td><td style=\"text-align: right;\">     9</td><td style=\"text-align: right;\">4.26638e-05</td><td style=\"text-align: right;\">         0.0602</td><td style=\"text-align: right;\">    16</td><td style=\"text-align: right;\">         321.859</td><td style=\"text-align: right;\">         80</td><td style=\"text-align: right;\"> 0.367538  </td><td style=\"text-align: right;\"> 0.339083  </td></tr>\n",
       "<tr><td>TrainLightGCN_470222a2</td><td>TERMINATED</td><td>147.96.81.131:284732</td><td style=\"text-align: right;\">          13</td><td style=\"text-align: right;\">            3</td><td style=\"text-align: right;\">              1</td><td style=\"text-align: right;\">     9</td><td style=\"text-align: right;\">5.5104e-06 </td><td style=\"text-align: right;\">         0.2409</td><td style=\"text-align: right;\">    40</td><td style=\"text-align: right;\">         243.494</td><td style=\"text-align: right;\">        200</td><td style=\"text-align: right;\"> 0.233035  </td><td style=\"text-align: right;\"> 0.224393  </td></tr>\n",
       "<tr><td>TrainLightGCN_1852cfbd</td><td>TERMINATED</td><td>147.96.81.131:284955</td><td style=\"text-align: right;\">           8</td><td style=\"text-align: right;\">            2</td><td style=\"text-align: right;\">              1</td><td style=\"text-align: right;\">     9</td><td style=\"text-align: right;\">2.59547e-05</td><td style=\"text-align: right;\">         0.1099</td><td style=\"text-align: right;\">    15</td><td style=\"text-align: right;\">         323.195</td><td style=\"text-align: right;\">         75</td><td style=\"text-align: right;\"> 0.251793  </td><td style=\"text-align: right;\"> 0.242803  </td></tr>\n",
       "<tr><td>TrainLightGCN_5f6edb39</td><td>TERMINATED</td><td>147.96.81.131:285622</td><td style=\"text-align: right;\">          13</td><td style=\"text-align: right;\">            3</td><td style=\"text-align: right;\">             19</td><td style=\"text-align: right;\">     9</td><td style=\"text-align: right;\">2.3193e-07 </td><td style=\"text-align: right;\">         0.0908</td><td style=\"text-align: right;\">    40</td><td style=\"text-align: right;\">         264.571</td><td style=\"text-align: right;\">        200</td><td style=\"text-align: right;\"> 0.0605609 </td><td style=\"text-align: right;\"> 0.0602466 </td></tr>\n",
       "<tr><td>TrainLightGCN_885bb4aa</td><td>TERMINATED</td><td>147.96.81.131:285966</td><td style=\"text-align: right;\">           9</td><td style=\"text-align: right;\">            2</td><td style=\"text-align: right;\">             14</td><td style=\"text-align: right;\">     9</td><td style=\"text-align: right;\">1.20763e-06</td><td style=\"text-align: right;\">         0.1306</td><td style=\"text-align: right;\">    14</td><td style=\"text-align: right;\">         306.428</td><td style=\"text-align: right;\">         70</td><td style=\"text-align: right;\"> 1.2608    </td><td style=\"text-align: right;\"> 1.25571   </td></tr>\n",
       "<tr><td>TrainLightGCN_c5b97e16</td><td>TERMINATED</td><td>147.96.81.131:286269</td><td style=\"text-align: right;\">          12</td><td style=\"text-align: right;\">            3</td><td style=\"text-align: right;\">             81</td><td style=\"text-align: right;\">     9</td><td style=\"text-align: right;\">6.98084e-07</td><td style=\"text-align: right;\">         0.1669</td><td style=\"text-align: right;\">    26</td><td style=\"text-align: right;\">         305.654</td><td style=\"text-align: right;\">        130</td><td style=\"text-align: right;\"> 0.609494  </td><td style=\"text-align: right;\"> 0.58942   </td></tr>\n",
       "<tr><td>TrainLightGCN_9384c2a7</td><td>TERMINATED</td><td>147.96.81.131:286585</td><td style=\"text-align: right;\">           8</td><td style=\"text-align: right;\">            1</td><td style=\"text-align: right;\">              2</td><td style=\"text-align: right;\">     9</td><td style=\"text-align: right;\">1.24766e-07</td><td style=\"text-align: right;\">         0.2043</td><td style=\"text-align: right;\">     8</td><td style=\"text-align: right;\">         308.517</td><td style=\"text-align: right;\">         40</td><td style=\"text-align: right;\"> 1.82425   </td><td style=\"text-align: right;\"> 1.82419   </td></tr>\n",
       "<tr><td>TrainLightGCN_4492c509</td><td>TERMINATED</td><td>147.96.81.131:287074</td><td style=\"text-align: right;\">           9</td><td style=\"text-align: right;\">            2</td><td style=\"text-align: right;\">             25</td><td style=\"text-align: right;\">     9</td><td style=\"text-align: right;\">4.06444e-07</td><td style=\"text-align: right;\">         0.1846</td><td style=\"text-align: right;\">    12</td><td style=\"text-align: right;\">         326.593</td><td style=\"text-align: right;\">         60</td><td style=\"text-align: right;\"> 3.06489   </td><td style=\"text-align: right;\"> 3.05713   </td></tr>\n",
       "<tr><td>TrainLightGCN_a69fa759</td><td>TERMINATED</td><td>147.96.81.131:287543</td><td style=\"text-align: right;\">           6</td><td style=\"text-align: right;\">            3</td><td style=\"text-align: right;\">              1</td><td style=\"text-align: right;\">     9</td><td style=\"text-align: right;\">2.97579e-07</td><td style=\"text-align: right;\">         0.2703</td><td style=\"text-align: right;\">     2</td><td style=\"text-align: right;\">         322.564</td><td style=\"text-align: right;\">         10</td><td style=\"text-align: right;\"> 1.51053   </td><td style=\"text-align: right;\"> 1.51049   </td></tr>\n",
       "<tr><td>TrainLightGCN_7ebf06cc</td><td>TERMINATED</td><td>147.96.81.131:287844</td><td style=\"text-align: right;\">          13</td><td style=\"text-align: right;\">            3</td><td style=\"text-align: right;\">              6</td><td style=\"text-align: right;\">     9</td><td style=\"text-align: right;\">0.000163399</td><td style=\"text-align: right;\">         0.0498</td><td style=\"text-align: right;\">    40</td><td style=\"text-align: right;\">         282.942</td><td style=\"text-align: right;\">        200</td><td style=\"text-align: right;\"> 0.0266716 </td><td style=\"text-align: right;\"> 0.0233242 </td></tr>\n",
       "<tr><td>TrainLightGCN_bc4184d6</td><td>TERMINATED</td><td>147.96.81.131:288167</td><td style=\"text-align: right;\">          10</td><td style=\"text-align: right;\">            2</td><td style=\"text-align: right;\">            129</td><td style=\"text-align: right;\">     9</td><td style=\"text-align: right;\">1.3292e-05 </td><td style=\"text-align: right;\">         0.036 </td><td style=\"text-align: right;\">     9</td><td style=\"text-align: right;\">         303.323</td><td style=\"text-align: right;\">         45</td><td style=\"text-align: right;\"> 0.104966  </td><td style=\"text-align: right;\"> 0.0840835 </td></tr>\n",
       "<tr><td>TrainLightGCN_5b8a3dfd</td><td>TERMINATED</td><td>147.96.81.131:288710</td><td style=\"text-align: right;\">           7</td><td style=\"text-align: right;\">            1</td><td style=\"text-align: right;\">              1</td><td style=\"text-align: right;\">     9</td><td style=\"text-align: right;\">6.72732e-05</td><td style=\"text-align: right;\">         0.0414</td><td style=\"text-align: right;\">     6</td><td style=\"text-align: right;\">         325.19 </td><td style=\"text-align: right;\">         30</td><td style=\"text-align: right;\"> 0.625637  </td><td style=\"text-align: right;\"> 0.611877  </td></tr>\n",
       "<tr><td>TrainLightGCN_df1c9dc0</td><td>TERMINATED</td><td>147.96.81.131:289168</td><td style=\"text-align: right;\">          12</td><td style=\"text-align: right;\">            2</td><td style=\"text-align: right;\">              2</td><td style=\"text-align: right;\">     9</td><td style=\"text-align: right;\">1.73296e-06</td><td style=\"text-align: right;\">         0.1448</td><td style=\"text-align: right;\">    40</td><td style=\"text-align: right;\">         278.673</td><td style=\"text-align: right;\">        200</td><td style=\"text-align: right;\"> 0.082337  </td><td style=\"text-align: right;\"> 0.0802567 </td></tr>\n",
       "<tr><td>TrainLightGCN_9c403253</td><td>TERMINATED</td><td>147.96.81.131:289342</td><td style=\"text-align: right;\">          11</td><td style=\"text-align: right;\">            3</td><td style=\"text-align: right;\">              3</td><td style=\"text-align: right;\">     9</td><td style=\"text-align: right;\">2.93944e-06</td><td style=\"text-align: right;\">         0.0181</td><td style=\"text-align: right;\">    37</td><td style=\"text-align: right;\">         313.161</td><td style=\"text-align: right;\">        185</td><td style=\"text-align: right;\"> 0.035261  </td><td style=\"text-align: right;\"> 0.0349031 </td></tr>\n",
       "<tr><td>TrainLightGCN_8e28e7fd</td><td>TERMINATED</td><td>147.96.81.131:289734</td><td style=\"text-align: right;\">           8</td><td style=\"text-align: right;\">            3</td><td style=\"text-align: right;\">              1</td><td style=\"text-align: right;\">     9</td><td style=\"text-align: right;\">1.00538e-07</td><td style=\"text-align: right;\">         0.0776</td><td style=\"text-align: right;\">    14</td><td style=\"text-align: right;\">         312.93 </td><td style=\"text-align: right;\">         70</td><td style=\"text-align: right;\"> 0.432964  </td><td style=\"text-align: right;\"> 0.432269  </td></tr>\n",
       "<tr><td>TrainLightGCN_f663f02f</td><td>TERMINATED</td><td>147.96.81.131:290337</td><td style=\"text-align: right;\">           9</td><td style=\"text-align: right;\">            2</td><td style=\"text-align: right;\">              1</td><td style=\"text-align: right;\">     9</td><td style=\"text-align: right;\">9.3443e-07 </td><td style=\"text-align: right;\">         0.0326</td><td style=\"text-align: right;\">    24</td><td style=\"text-align: right;\">         310.433</td><td style=\"text-align: right;\">        120</td><td style=\"text-align: right;\"> 0.146126  </td><td style=\"text-align: right;\"> 0.145221  </td></tr>\n",
       "<tr><td>TrainLightGCN_e5f4c751</td><td>TERMINATED</td><td>147.96.81.131:290659</td><td style=\"text-align: right;\">          13</td><td style=\"text-align: right;\">            4</td><td style=\"text-align: right;\">              8</td><td style=\"text-align: right;\">     9</td><td style=\"text-align: right;\">5.3453e-07 </td><td style=\"text-align: right;\">         0.0265</td><td style=\"text-align: right;\">    40</td><td style=\"text-align: right;\">         241.474</td><td style=\"text-align: right;\">        200</td><td style=\"text-align: right;\"> 0.00840264</td><td style=\"text-align: right;\"> 0.00830468</td></tr>\n",
       "<tr><td>TrainLightGCN_74cc6c42</td><td>TERMINATED</td><td>147.96.81.131:290964</td><td style=\"text-align: right;\">          10</td><td style=\"text-align: right;\">            3</td><td style=\"text-align: right;\">              5</td><td style=\"text-align: right;\">     9</td><td style=\"text-align: right;\">5.20418e-06</td><td style=\"text-align: right;\">         0.1085</td><td style=\"text-align: right;\">    33</td><td style=\"text-align: right;\">         308.722</td><td style=\"text-align: right;\">        165</td><td style=\"text-align: right;\"> 0.384331  </td><td style=\"text-align: right;\"> 0.336293  </td></tr>\n",
       "</tbody>\n",
       "</table>\n",
       "  </div>\n",
       "</div>\n",
       "<style>\n",
       ".tuneStatus {\n",
       "  color: var(--jp-ui-font-color1);\n",
       "}\n",
       ".tuneStatus .systemInfo {\n",
       "  display: flex;\n",
       "  flex-direction: column;\n",
       "}\n",
       ".tuneStatus td {\n",
       "  white-space: nowrap;\n",
       "}\n",
       ".tuneStatus .trialStatus {\n",
       "  display: flex;\n",
       "  flex-direction: column;\n",
       "}\n",
       ".tuneStatus h3 {\n",
       "  font-weight: bold;\n",
       "}\n",
       ".tuneStatus .hDivider {\n",
       "  border-bottom-width: var(--jp-border-width);\n",
       "  border-bottom-color: var(--jp-border-color0);\n",
       "  border-bottom-style: solid;\n",
       "}\n",
       ".tuneStatus .vDivider {\n",
       "  border-left-width: var(--jp-border-width);\n",
       "  border-left-color: var(--jp-border-color0);\n",
       "  border-left-style: solid;\n",
       "  margin: 0.5em 1em 0.5em 1em;\n",
       "}\n",
       "</style>\n"
      ],
      "text/plain": [
       "<IPython.core.display.HTML object>"
      ]
     },
     "metadata": {},
     "output_type": "display_data"
    },
    {
     "name": "stderr",
     "output_type": "stream",
     "text": [
      "\u001b[36m(pid=251102)\u001b[0m 2024-03-11 02:49:23.472919: E tensorflow/compiler/xla/stream_executor/cuda/cuda_dnn.cc:9342] Unable to register cuDNN factory: Attempting to register factory for plugin cuDNN when one has already been registered\n",
      "\u001b[36m(pid=251102)\u001b[0m 2024-03-11 02:49:23.472949: E tensorflow/compiler/xla/stream_executor/cuda/cuda_fft.cc:609] Unable to register cuFFT factory: Attempting to register factory for plugin cuFFT when one has already been registered\n",
      "\u001b[36m(pid=251102)\u001b[0m 2024-03-11 02:49:23.472966: E tensorflow/compiler/xla/stream_executor/cuda/cuda_blas.cc:1518] Unable to register cuBLAS factory: Attempting to register factory for plugin cuBLAS when one has already been registered\n"
     ]
    },
    {
     "name": "stderr",
     "output_type": "stream",
     "text": [
      "\u001b[36m(TrainLightGCN pid=251102)\u001b[0m /home/daviddavo/upm-tfm-notebooks/.direnv/python-3.9/lib/python3.9/site-packages/recommenders/models/deeprec/DataModel/ImplicitCF.py:73: FutureWarning: The frame.append method is deprecated and will be removed from pandas in a future version. Use pandas.concat instead.\n",
      "\u001b[36m(TrainLightGCN pid=251102)\u001b[0m   df = train if test is None else train.append(test)\n"
     ]
    },
    {
     "name": "stdout",
     "output_type": "stream",
     "text": [
      "\u001b[36m(TrainLightGCN pid=251102)\u001b[0m Already create adjacency matrix.\n"
     ]
    },
    {
     "name": "stdout",
     "output_type": "stream",
     "text": [
      "\u001b[36m(TrainLightGCN pid=251102)\u001b[0m Already normalize adjacency matrix.\n",
      "\u001b[36m(TrainLightGCN pid=251102)\u001b[0m Using xavier initialization.\n"
     ]
    },
    {
     "name": "stderr",
     "output_type": "stream",
     "text": [
      "\u001b[36m(TrainLightGCN pid=251102)\u001b[0m Trainable.setup took 11.630 seconds. If your trainable is slow to initialize, consider setting reuse_actors=True to reduce actor creation overheads.\n"
     ]
    },
    {
     "name": "stderr",
     "output_type": "stream",
     "text": [
      "\u001b[36m(pid=251269)\u001b[0m 2024-03-11 02:49:38.141699: E tensorflow/compiler/xla/stream_executor/cuda/cuda_dnn.cc:9342] Unable to register cuDNN factory: Attempting to register factory for plugin cuDNN when one has already been registered\n",
      "\u001b[36m(pid=251269)\u001b[0m 2024-03-11 02:49:38.141732: E tensorflow/compiler/xla/stream_executor/cuda/cuda_fft.cc:609] Unable to register cuFFT factory: Attempting to register factory for plugin cuFFT when one has already been registered\n",
      "\u001b[36m(pid=251269)\u001b[0m 2024-03-11 02:49:38.141748: E tensorflow/compiler/xla/stream_executor/cuda/cuda_blas.cc:1518] Unable to register cuBLAS factory: Attempting to register factory for plugin cuBLAS when one has already been registered\n"
     ]
    },
    {
     "name": "stderr",
     "output_type": "stream",
     "text": [
      "\u001b[36m(TrainLightGCN pid=251269)\u001b[0m /home/daviddavo/upm-tfm-notebooks/.direnv/python-3.9/lib/python3.9/site-packages/recommenders/models/deeprec/DataModel/ImplicitCF.py:73: FutureWarning: The frame.append method is deprecated and will be removed from pandas in a future version. Use pandas.concat instead.\n",
      "\u001b[36m(TrainLightGCN pid=251269)\u001b[0m   df = train if test is None else train.append(test)\n"
     ]
    },
    {
     "name": "stdout",
     "output_type": "stream",
     "text": [
      "\u001b[36m(TrainLightGCN pid=251269)\u001b[0m Already create adjacency matrix.\n"
     ]
    },
    {
     "name": "stdout",
     "output_type": "stream",
     "text": [
      "\u001b[36m(TrainLightGCN pid=251269)\u001b[0m Already normalize adjacency matrix.\n",
      "\u001b[36m(TrainLightGCN pid=251269)\u001b[0m Using xavier initialization.\n"
     ]
    },
    {
     "name": "stderr",
     "output_type": "stream",
     "text": [
      "\u001b[36m(TrainLightGCN pid=251269)\u001b[0m Trainable.setup took 11.582 seconds. If your trainable is slow to initialize, consider setting reuse_actors=True to reduce actor creation overheads.\n"
     ]
    },
    {
     "name": "stderr",
     "output_type": "stream",
     "text": [
      "\u001b[36m(pid=251462)\u001b[0m 2024-03-11 02:49:52.847381: E tensorflow/compiler/xla/stream_executor/cuda/cuda_dnn.cc:9342] Unable to register cuDNN factory: Attempting to register factory for plugin cuDNN when one has already been registered\n",
      "\u001b[36m(pid=251462)\u001b[0m 2024-03-11 02:49:52.847417: E tensorflow/compiler/xla/stream_executor/cuda/cuda_fft.cc:609] Unable to register cuFFT factory: Attempting to register factory for plugin cuFFT when one has already been registered\n",
      "\u001b[36m(pid=251462)\u001b[0m 2024-03-11 02:49:52.847433: E tensorflow/compiler/xla/stream_executor/cuda/cuda_blas.cc:1518] Unable to register cuBLAS factory: Attempting to register factory for plugin cuBLAS when one has already been registered\n"
     ]
    },
    {
     "name": "stderr",
     "output_type": "stream",
     "text": [
      "\u001b[36m(TrainLightGCN pid=251462)\u001b[0m /home/daviddavo/upm-tfm-notebooks/.direnv/python-3.9/lib/python3.9/site-packages/recommenders/models/deeprec/DataModel/ImplicitCF.py:73: FutureWarning: The frame.append method is deprecated and will be removed from pandas in a future version. Use pandas.concat instead.\n",
      "\u001b[36m(TrainLightGCN pid=251462)\u001b[0m   df = train if test is None else train.append(test)\n"
     ]
    },
    {
     "name": "stdout",
     "output_type": "stream",
     "text": [
      "\u001b[36m(TrainLightGCN pid=251462)\u001b[0m Already create adjacency matrix.\n"
     ]
    },
    {
     "name": "stdout",
     "output_type": "stream",
     "text": [
      "\u001b[36m(TrainLightGCN pid=251462)\u001b[0m Already normalize adjacency matrix.\n",
      "\u001b[36m(TrainLightGCN pid=251462)\u001b[0m Using xavier initialization.\n"
     ]
    },
    {
     "name": "stderr",
     "output_type": "stream",
     "text": [
      "\u001b[36m(TrainLightGCN pid=251462)\u001b[0m Trainable.setup took 11.641 seconds. If your trainable is slow to initialize, consider setting reuse_actors=True to reduce actor creation overheads.\n"
     ]
    },
    {
     "name": "stderr",
     "output_type": "stream",
     "text": [
      "\u001b[36m(pid=251656)\u001b[0m 2024-03-11 02:50:07.642592: E tensorflow/compiler/xla/stream_executor/cuda/cuda_dnn.cc:9342] Unable to register cuDNN factory: Attempting to register factory for plugin cuDNN when one has already been registered\n",
      "\u001b[36m(pid=251656)\u001b[0m 2024-03-11 02:50:07.642626: E tensorflow/compiler/xla/stream_executor/cuda/cuda_fft.cc:609] Unable to register cuFFT factory: Attempting to register factory for plugin cuFFT when one has already been registered\n",
      "\u001b[36m(pid=251656)\u001b[0m 2024-03-11 02:50:07.642643: E tensorflow/compiler/xla/stream_executor/cuda/cuda_blas.cc:1518] Unable to register cuBLAS factory: Attempting to register factory for plugin cuBLAS when one has already been registered\n"
     ]
    },
    {
     "name": "stderr",
     "output_type": "stream",
     "text": [
      "\u001b[36m(TrainLightGCN pid=251656)\u001b[0m /home/daviddavo/upm-tfm-notebooks/.direnv/python-3.9/lib/python3.9/site-packages/recommenders/models/deeprec/DataModel/ImplicitCF.py:73: FutureWarning: The frame.append method is deprecated and will be removed from pandas in a future version. Use pandas.concat instead.\n",
      "\u001b[36m(TrainLightGCN pid=251656)\u001b[0m   df = train if test is None else train.append(test)\n"
     ]
    },
    {
     "name": "stdout",
     "output_type": "stream",
     "text": [
      "\u001b[36m(TrainLightGCN pid=251656)\u001b[0m Already create adjacency matrix.\n"
     ]
    },
    {
     "name": "stdout",
     "output_type": "stream",
     "text": [
      "\u001b[36m(TrainLightGCN pid=251656)\u001b[0m Already normalize adjacency matrix.\n",
      "\u001b[36m(TrainLightGCN pid=251656)\u001b[0m Using xavier initialization.\n"
     ]
    },
    {
     "name": "stderr",
     "output_type": "stream",
     "text": [
      "\u001b[36m(TrainLightGCN pid=251656)\u001b[0m Trainable.setup took 11.740 seconds. If your trainable is slow to initialize, consider setting reuse_actors=True to reduce actor creation overheads.\n"
     ]
    },
    {
     "name": "stderr",
     "output_type": "stream",
     "text": [
      "\u001b[36m(TrainLightGCN pid=251102)\u001b[0m Checkpoint successfully created at: Checkpoint(filesystem=local, path=/home/daviddavo/ray_results/LightGCN_optim=map@10,dao=PancakeSwap,freq=3d,normalize=True,cutoff_date=2023-07-01T00:00:00,fold=9_2024-03-11T02:49:22.390671/TrainLightGCN_0ae9add2_1_batch_size=12,conv_layers=1,embedding_dim=2,fold=9,l2=0.0000,learning_rate=0.0435_2024-03-11_02-49-22/checkpoint_000000)\n"
     ]
    },
    {
     "name": "stderr",
     "output_type": "stream",
     "text": [
      "\u001b[36m(pid=252668)\u001b[0m 2024-03-11 02:54:50.194526: E tensorflow/compiler/xla/stream_executor/cuda/cuda_dnn.cc:9342] Unable to register cuDNN factory: Attempting to register factory for plugin cuDNN when one has already been registered\n",
      "\u001b[36m(pid=252668)\u001b[0m 2024-03-11 02:54:50.194561: E tensorflow/compiler/xla/stream_executor/cuda/cuda_fft.cc:609] Unable to register cuFFT factory: Attempting to register factory for plugin cuFFT when one has already been registered\n",
      "\u001b[36m(pid=252668)\u001b[0m 2024-03-11 02:54:50.194578: E tensorflow/compiler/xla/stream_executor/cuda/cuda_blas.cc:1518] Unable to register cuBLAS factory: Attempting to register factory for plugin cuBLAS when one has already been registered\n"
     ]
    },
    {
     "name": "stderr",
     "output_type": "stream",
     "text": [
      "\u001b[36m(TrainLightGCN pid=252668)\u001b[0m /home/daviddavo/upm-tfm-notebooks/.direnv/python-3.9/lib/python3.9/site-packages/recommenders/models/deeprec/DataModel/ImplicitCF.py:73: FutureWarning: The frame.append method is deprecated and will be removed from pandas in a future version. Use pandas.concat instead.\n",
      "\u001b[36m(TrainLightGCN pid=252668)\u001b[0m   df = train if test is None else train.append(test)\n"
     ]
    },
    {
     "name": "stdout",
     "output_type": "stream",
     "text": [
      "\u001b[36m(TrainLightGCN pid=252668)\u001b[0m Already create adjacency matrix.\n"
     ]
    },
    {
     "name": "stdout",
     "output_type": "stream",
     "text": [
      "\u001b[36m(TrainLightGCN pid=252668)\u001b[0m Already normalize adjacency matrix.\n",
      "\u001b[36m(TrainLightGCN pid=252668)\u001b[0m Using xavier initialization.\n"
     ]
    },
    {
     "name": "stderr",
     "output_type": "stream",
     "text": [
      "\u001b[36m(TrainLightGCN pid=252668)\u001b[0m Trainable.setup took 12.262 seconds. If your trainable is slow to initialize, consider setting reuse_actors=True to reduce actor creation overheads.\n"
     ]
    },
    {
     "name": "stderr",
     "output_type": "stream",
     "text": [
      "\u001b[36m(TrainLightGCN pid=251269)\u001b[0m Checkpoint successfully created at: Checkpoint(filesystem=local, path=/home/daviddavo/ray_results/LightGCN_optim=map@10,dao=PancakeSwap,freq=3d,normalize=True,cutoff_date=2023-07-01T00:00:00,fold=9_2024-03-11T02:49:22.390671/TrainLightGCN_1fd71ab4_2_batch_size=10,conv_layers=5,embedding_dim=15,fold=9,l2=0.0000,learning_rate=0.4844_2024-03-11_02-49-37/checkpoint_000000)\n"
     ]
    },
    {
     "name": "stderr",
     "output_type": "stream",
     "text": [
      "\u001b[36m(pid=252911)\u001b[0m 2024-03-11 02:55:20.200876: E tensorflow/compiler/xla/stream_executor/cuda/cuda_dnn.cc:9342] Unable to register cuDNN factory: Attempting to register factory for plugin cuDNN when one has already been registered\n",
      "\u001b[36m(pid=252911)\u001b[0m 2024-03-11 02:55:20.200911: E tensorflow/compiler/xla/stream_executor/cuda/cuda_fft.cc:609] Unable to register cuFFT factory: Attempting to register factory for plugin cuFFT when one has already been registered\n",
      "\u001b[36m(pid=252911)\u001b[0m 2024-03-11 02:55:20.200925: E tensorflow/compiler/xla/stream_executor/cuda/cuda_blas.cc:1518] Unable to register cuBLAS factory: Attempting to register factory for plugin cuBLAS when one has already been registered\n"
     ]
    },
    {
     "name": "stderr",
     "output_type": "stream",
     "text": [
      "\u001b[36m(TrainLightGCN pid=252911)\u001b[0m /home/daviddavo/upm-tfm-notebooks/.direnv/python-3.9/lib/python3.9/site-packages/recommenders/models/deeprec/DataModel/ImplicitCF.py:73: FutureWarning: The frame.append method is deprecated and will be removed from pandas in a future version. Use pandas.concat instead.\n",
      "\u001b[36m(TrainLightGCN pid=252911)\u001b[0m   df = train if test is None else train.append(test)\n"
     ]
    },
    {
     "name": "stderr",
     "output_type": "stream",
     "text": [
      "\u001b[36m(TrainLightGCN pid=251462)\u001b[0m Checkpoint successfully created at: Checkpoint(filesystem=local, path=/home/daviddavo/ray_results/LightGCN_optim=map@10,dao=PancakeSwap,freq=3d,normalize=True,cutoff_date=2023-07-01T00:00:00,fold=9_2024-03-11T02:49:22.390671/TrainLightGCN_76ad94fe_3_batch_size=12,conv_layers=3,embedding_dim=3,fold=9,l2=0.0001,learning_rate=0.4690_2024-03-11_02-49-51/checkpoint_000000)\n"
     ]
    },
    {
     "name": "stderr",
     "output_type": "stream",
     "text": [
      "\u001b[36m(TrainLightGCN pid=251656)\u001b[0m Checkpoint successfully created at: Checkpoint(filesystem=local, path=/home/daviddavo/ray_results/LightGCN_optim=map@10,dao=PancakeSwap,freq=3d,normalize=True,cutoff_date=2023-07-01T00:00:00,fold=9_2024-03-11T02:49:22.390671/TrainLightGCN_228e7903_4_batch_size=9,conv_layers=4,embedding_dim=97,fold=9,l2=0.0000,learning_rate=0.0806_2024-03-11_02-50-06/checkpoint_000000)\n"
     ]
    },
    {
     "name": "stdout",
     "output_type": "stream",
     "text": [
      "\u001b[36m(TrainLightGCN pid=252911)\u001b[0m Already create adjacency matrix.\n"
     ]
    },
    {
     "name": "stdout",
     "output_type": "stream",
     "text": [
      "\u001b[36m(TrainLightGCN pid=252911)\u001b[0m Already normalize adjacency matrix.\n",
      "\u001b[36m(TrainLightGCN pid=252911)\u001b[0m Using xavier initialization.\n"
     ]
    },
    {
     "name": "stderr",
     "output_type": "stream",
     "text": [
      "\u001b[36m(TrainLightGCN pid=252911)\u001b[0m Trainable.setup took 11.781 seconds. If your trainable is slow to initialize, consider setting reuse_actors=True to reduce actor creation overheads.\n"
     ]
    },
    {
     "name": "stderr",
     "output_type": "stream",
     "text": [
      "\u001b[36m(pid=253094)\u001b[0m 2024-03-11 02:55:35.101151: E tensorflow/compiler/xla/stream_executor/cuda/cuda_dnn.cc:9342] Unable to register cuDNN factory: Attempting to register factory for plugin cuDNN when one has already been registered\n",
      "\u001b[36m(pid=253094)\u001b[0m 2024-03-11 02:55:35.101181: E tensorflow/compiler/xla/stream_executor/cuda/cuda_fft.cc:609] Unable to register cuFFT factory: Attempting to register factory for plugin cuFFT when one has already been registered\n",
      "\u001b[36m(pid=253094)\u001b[0m 2024-03-11 02:55:35.101199: E tensorflow/compiler/xla/stream_executor/cuda/cuda_blas.cc:1518] Unable to register cuBLAS factory: Attempting to register factory for plugin cuBLAS when one has already been registered\n"
     ]
    },
    {
     "name": "stderr",
     "output_type": "stream",
     "text": [
      "\u001b[36m(TrainLightGCN pid=253094)\u001b[0m /home/daviddavo/upm-tfm-notebooks/.direnv/python-3.9/lib/python3.9/site-packages/recommenders/models/deeprec/DataModel/ImplicitCF.py:73: FutureWarning: The frame.append method is deprecated and will be removed from pandas in a future version. Use pandas.concat instead.\n",
      "\u001b[36m(TrainLightGCN pid=253094)\u001b[0m   df = train if test is None else train.append(test)\n"
     ]
    },
    {
     "name": "stdout",
     "output_type": "stream",
     "text": [
      "\u001b[36m(TrainLightGCN pid=253094)\u001b[0m Already create adjacency matrix.\n"
     ]
    },
    {
     "name": "stdout",
     "output_type": "stream",
     "text": [
      "\u001b[36m(TrainLightGCN pid=253094)\u001b[0m Already normalize adjacency matrix.\n",
      "\u001b[36m(TrainLightGCN pid=253094)\u001b[0m Using xavier initialization.\n"
     ]
    },
    {
     "name": "stderr",
     "output_type": "stream",
     "text": [
      "\u001b[36m(TrainLightGCN pid=253094)\u001b[0m Trainable.setup took 11.813 seconds. If your trainable is slow to initialize, consider setting reuse_actors=True to reduce actor creation overheads.\n"
     ]
    },
    {
     "name": "stderr",
     "output_type": "stream",
     "text": [
      "\u001b[36m(pid=253285)\u001b[0m 2024-03-11 02:55:50.020733: E tensorflow/compiler/xla/stream_executor/cuda/cuda_dnn.cc:9342] Unable to register cuDNN factory: Attempting to register factory for plugin cuDNN when one has already been registered\n",
      "\u001b[36m(pid=253285)\u001b[0m 2024-03-11 02:55:50.020767: E tensorflow/compiler/xla/stream_executor/cuda/cuda_fft.cc:609] Unable to register cuFFT factory: Attempting to register factory for plugin cuFFT when one has already been registered\n",
      "\u001b[36m(pid=253285)\u001b[0m 2024-03-11 02:55:50.020781: E tensorflow/compiler/xla/stream_executor/cuda/cuda_blas.cc:1518] Unable to register cuBLAS factory: Attempting to register factory for plugin cuBLAS when one has already been registered\n"
     ]
    },
    {
     "name": "stderr",
     "output_type": "stream",
     "text": [
      "\u001b[36m(TrainLightGCN pid=253285)\u001b[0m /home/daviddavo/upm-tfm-notebooks/.direnv/python-3.9/lib/python3.9/site-packages/recommenders/models/deeprec/DataModel/ImplicitCF.py:73: FutureWarning: The frame.append method is deprecated and will be removed from pandas in a future version. Use pandas.concat instead.\n",
      "\u001b[36m(TrainLightGCN pid=253285)\u001b[0m   df = train if test is None else train.append(test)\n"
     ]
    },
    {
     "name": "stdout",
     "output_type": "stream",
     "text": [
      "\u001b[36m(TrainLightGCN pid=253285)\u001b[0m Already create adjacency matrix.\n"
     ]
    },
    {
     "name": "stdout",
     "output_type": "stream",
     "text": [
      "\u001b[36m(TrainLightGCN pid=253285)\u001b[0m Already normalize adjacency matrix.\n",
      "\u001b[36m(TrainLightGCN pid=253285)\u001b[0m Using xavier initialization.\n"
     ]
    },
    {
     "name": "stderr",
     "output_type": "stream",
     "text": [
      "\u001b[36m(TrainLightGCN pid=253285)\u001b[0m Trainable.setup took 11.987 seconds. If your trainable is slow to initialize, consider setting reuse_actors=True to reduce actor creation overheads.\n"
     ]
    },
    {
     "name": "stderr",
     "output_type": "stream",
     "text": [
      "\u001b[36m(TrainLightGCN pid=253285)\u001b[0m Checkpoint successfully created at: Checkpoint(filesystem=local, path=/home/daviddavo/ray_results/LightGCN_optim=map@10,dao=PancakeSwap,freq=3d,normalize=True,cutoff_date=2023-07-01T00:00:00,fold=9_2024-03-11T02:49:22.390671/TrainLightGCN_b26eb0a4_8_batch_size=11,conv_layers=4,embedding_dim=123,fold=9,l2=0.0041,learning_rate=0.0378_2024-03-11_02-55-48/checkpoint_000000)\n"
     ]
    },
    {
     "name": "stderr",
     "output_type": "stream",
     "text": [
      "\u001b[36m(pid=254537)\u001b[0m 2024-03-11 03:01:51.299032: E tensorflow/compiler/xla/stream_executor/cuda/cuda_dnn.cc:9342] Unable to register cuDNN factory: Attempting to register factory for plugin cuDNN when one has already been registered\n",
      "\u001b[36m(pid=254537)\u001b[0m 2024-03-11 03:01:51.299067: E tensorflow/compiler/xla/stream_executor/cuda/cuda_fft.cc:609] Unable to register cuFFT factory: Attempting to register factory for plugin cuFFT when one has already been registered\n",
      "\u001b[36m(pid=254537)\u001b[0m 2024-03-11 03:01:51.299081: E tensorflow/compiler/xla/stream_executor/cuda/cuda_blas.cc:1518] Unable to register cuBLAS factory: Attempting to register factory for plugin cuBLAS when one has already been registered\n"
     ]
    },
    {
     "name": "stderr",
     "output_type": "stream",
     "text": [
      "\u001b[36m(TrainLightGCN pid=254537)\u001b[0m /home/daviddavo/upm-tfm-notebooks/.direnv/python-3.9/lib/python3.9/site-packages/recommenders/models/deeprec/DataModel/ImplicitCF.py:73: FutureWarning: The frame.append method is deprecated and will be removed from pandas in a future version. Use pandas.concat instead.\n",
      "\u001b[36m(TrainLightGCN pid=254537)\u001b[0m   df = train if test is None else train.append(test)\n"
     ]
    },
    {
     "name": "stdout",
     "output_type": "stream",
     "text": [
      "\u001b[36m(TrainLightGCN pid=254537)\u001b[0m Already create adjacency matrix.\n"
     ]
    },
    {
     "name": "stdout",
     "output_type": "stream",
     "text": [
      "\u001b[36m(TrainLightGCN pid=254537)\u001b[0m Already normalize adjacency matrix.\n",
      "\u001b[36m(TrainLightGCN pid=254537)\u001b[0m Using xavier initialization.\n"
     ]
    },
    {
     "name": "stderr",
     "output_type": "stream",
     "text": [
      "\u001b[36m(TrainLightGCN pid=254537)\u001b[0m Trainable.setup took 11.958 seconds. If your trainable is slow to initialize, consider setting reuse_actors=True to reduce actor creation overheads.\n"
     ]
    },
    {
     "name": "stderr",
     "output_type": "stream",
     "text": [
      "\u001b[36m(TrainLightGCN pid=252911)\u001b[0m Checkpoint successfully created at: Checkpoint(filesystem=local, path=/home/daviddavo/ray_results/LightGCN_optim=map@10,dao=PancakeSwap,freq=3d,normalize=True,cutoff_date=2023-07-01T00:00:00,fold=9_2024-03-11T02:49:22.390671/TrainLightGCN_2d0a3285_6_batch_size=7,conv_layers=4,embedding_dim=5,fold=9,l2=0.0040,learning_rate=0.0618_2024-03-11_02-55-04/checkpoint_000000)\n"
     ]
    },
    {
     "name": "stderr",
     "output_type": "stream",
     "text": [
      "\u001b[36m(pid=254778)\u001b[0m 2024-03-11 03:02:20.266323: E tensorflow/compiler/xla/stream_executor/cuda/cuda_dnn.cc:9342] Unable to register cuDNN factory: Attempting to register factory for plugin cuDNN when one has already been registered\n",
      "\u001b[36m(pid=254778)\u001b[0m 2024-03-11 03:02:20.266358: E tensorflow/compiler/xla/stream_executor/cuda/cuda_fft.cc:609] Unable to register cuFFT factory: Attempting to register factory for plugin cuFFT when one has already been registered\n",
      "\u001b[36m(pid=254778)\u001b[0m 2024-03-11 03:02:20.266372: E tensorflow/compiler/xla/stream_executor/cuda/cuda_blas.cc:1518] Unable to register cuBLAS factory: Attempting to register factory for plugin cuBLAS when one has already been registered\n"
     ]
    },
    {
     "name": "stderr",
     "output_type": "stream",
     "text": [
      "\u001b[36m(TrainLightGCN pid=254778)\u001b[0m /home/daviddavo/upm-tfm-notebooks/.direnv/python-3.9/lib/python3.9/site-packages/recommenders/models/deeprec/DataModel/ImplicitCF.py:73: FutureWarning: The frame.append method is deprecated and will be removed from pandas in a future version. Use pandas.concat instead.\n",
      "\u001b[36m(TrainLightGCN pid=254778)\u001b[0m   df = train if test is None else train.append(test)\n"
     ]
    },
    {
     "name": "stdout",
     "output_type": "stream",
     "text": [
      "\u001b[36m(TrainLightGCN pid=254778)\u001b[0m Already create adjacency matrix.\n"
     ]
    },
    {
     "name": "stdout",
     "output_type": "stream",
     "text": [
      "\u001b[36m(TrainLightGCN pid=254778)\u001b[0m Already normalize adjacency matrix.\n",
      "\u001b[36m(TrainLightGCN pid=254778)\u001b[0m Using xavier initialization.\n"
     ]
    },
    {
     "name": "stderr",
     "output_type": "stream",
     "text": [
      "\u001b[36m(TrainLightGCN pid=254778)\u001b[0m Trainable.setup took 12.176 seconds. If your trainable is slow to initialize, consider setting reuse_actors=True to reduce actor creation overheads.\n"
     ]
    },
    {
     "name": "stderr",
     "output_type": "stream",
     "text": [
      "\u001b[36m(TrainLightGCN pid=253094)\u001b[0m Checkpoint successfully created at: Checkpoint(filesystem=local, path=/home/daviddavo/ray_results/LightGCN_optim=map@10,dao=PancakeSwap,freq=3d,normalize=True,cutoff_date=2023-07-01T00:00:00,fold=9_2024-03-11T02:49:22.390671/TrainLightGCN_6ae5e2af_7_batch_size=7,conv_layers=3,embedding_dim=3,fold=9,l2=0.0011,learning_rate=0.0156_2024-03-11_02-55-34/checkpoint_000000)\n"
     ]
    },
    {
     "name": "stderr",
     "output_type": "stream",
     "text": [
      "\u001b[36m(pid=255019)\u001b[0m 2024-03-11 03:02:50.244010: E tensorflow/compiler/xla/stream_executor/cuda/cuda_dnn.cc:9342] Unable to register cuDNN factory: Attempting to register factory for plugin cuDNN when one has already been registered\n",
      "\u001b[36m(pid=255019)\u001b[0m 2024-03-11 03:02:50.244049: E tensorflow/compiler/xla/stream_executor/cuda/cuda_fft.cc:609] Unable to register cuFFT factory: Attempting to register factory for plugin cuFFT when one has already been registered\n",
      "\u001b[36m(pid=255019)\u001b[0m 2024-03-11 03:02:50.244064: E tensorflow/compiler/xla/stream_executor/cuda/cuda_blas.cc:1518] Unable to register cuBLAS factory: Attempting to register factory for plugin cuBLAS when one has already been registered\n"
     ]
    },
    {
     "name": "stderr",
     "output_type": "stream",
     "text": [
      "\u001b[36m(TrainLightGCN pid=255019)\u001b[0m /home/daviddavo/upm-tfm-notebooks/.direnv/python-3.9/lib/python3.9/site-packages/recommenders/models/deeprec/DataModel/ImplicitCF.py:73: FutureWarning: The frame.append method is deprecated and will be removed from pandas in a future version. Use pandas.concat instead.\n",
      "\u001b[36m(TrainLightGCN pid=255019)\u001b[0m   df = train if test is None else train.append(test)\n"
     ]
    },
    {
     "name": "stdout",
     "output_type": "stream",
     "text": [
      "\u001b[36m(TrainLightGCN pid=255019)\u001b[0m Already create adjacency matrix.\n"
     ]
    },
    {
     "name": "stdout",
     "output_type": "stream",
     "text": [
      "\u001b[36m(TrainLightGCN pid=255019)\u001b[0m Already normalize adjacency matrix.\n",
      "\u001b[36m(TrainLightGCN pid=255019)\u001b[0m Using xavier initialization.\n"
     ]
    },
    {
     "name": "stderr",
     "output_type": "stream",
     "text": [
      "\u001b[36m(TrainLightGCN pid=255019)\u001b[0m Trainable.setup took 12.118 seconds. If your trainable is slow to initialize, consider setting reuse_actors=True to reduce actor creation overheads.\n"
     ]
    },
    {
     "name": "stderr",
     "output_type": "stream",
     "text": [
      "\u001b[36m(TrainLightGCN pid=252668)\u001b[0m Checkpoint successfully created at: Checkpoint(filesystem=local, path=/home/daviddavo/ray_results/LightGCN_optim=map@10,dao=PancakeSwap,freq=3d,normalize=True,cutoff_date=2023-07-01T00:00:00,fold=9_2024-03-11T02:49:22.390671/TrainLightGCN_3e1bb5e9_5_batch_size=7,conv_layers=3,embedding_dim=74,fold=9,l2=0.0000,learning_rate=0.0230_2024-03-11_02-50-21/checkpoint_000000)\n"
     ]
    },
    {
     "name": "stderr",
     "output_type": "stream",
     "text": [
      "\u001b[36m(pid=255459)\u001b[0m 2024-03-11 03:04:26.309447: E tensorflow/compiler/xla/stream_executor/cuda/cuda_dnn.cc:9342] Unable to register cuDNN factory: Attempting to register factory for plugin cuDNN when one has already been registered\n",
      "\u001b[36m(pid=255459)\u001b[0m 2024-03-11 03:04:26.309474: E tensorflow/compiler/xla/stream_executor/cuda/cuda_fft.cc:609] Unable to register cuFFT factory: Attempting to register factory for plugin cuFFT when one has already been registered\n",
      "\u001b[36m(pid=255459)\u001b[0m 2024-03-11 03:04:26.309490: E tensorflow/compiler/xla/stream_executor/cuda/cuda_blas.cc:1518] Unable to register cuBLAS factory: Attempting to register factory for plugin cuBLAS when one has already been registered\n"
     ]
    },
    {
     "name": "stderr",
     "output_type": "stream",
     "text": [
      "\u001b[36m(TrainLightGCN pid=255459)\u001b[0m /home/daviddavo/upm-tfm-notebooks/.direnv/python-3.9/lib/python3.9/site-packages/recommenders/models/deeprec/DataModel/ImplicitCF.py:73: FutureWarning: The frame.append method is deprecated and will be removed from pandas in a future version. Use pandas.concat instead.\n",
      "\u001b[36m(TrainLightGCN pid=255459)\u001b[0m   df = train if test is None else train.append(test)\n"
     ]
    },
    {
     "name": "stdout",
     "output_type": "stream",
     "text": [
      "\u001b[36m(TrainLightGCN pid=255459)\u001b[0m Already create adjacency matrix.\n"
     ]
    },
    {
     "name": "stdout",
     "output_type": "stream",
     "text": [
      "\u001b[36m(TrainLightGCN pid=255459)\u001b[0m Already normalize adjacency matrix.\n",
      "\u001b[36m(TrainLightGCN pid=255459)\u001b[0m Using xavier initialization.\n"
     ]
    },
    {
     "name": "stderr",
     "output_type": "stream",
     "text": [
      "\u001b[36m(TrainLightGCN pid=255459)\u001b[0m Trainable.setup took 11.977 seconds. If your trainable is slow to initialize, consider setting reuse_actors=True to reduce actor creation overheads.\n"
     ]
    },
    {
     "name": "stderr",
     "output_type": "stream",
     "text": [
      "\u001b[36m(TrainLightGCN pid=254537)\u001b[0m Checkpoint successfully created at: Checkpoint(filesystem=local, path=/home/daviddavo/ray_results/LightGCN_optim=map@10,dao=PancakeSwap,freq=3d,normalize=True,cutoff_date=2023-07-01T00:00:00,fold=9_2024-03-11T02:49:22.390671/TrainLightGCN_cd55ff23_9_batch_size=7,conv_layers=1,embedding_dim=71,fold=9,l2=0.0000,learning_rate=0.0922_2024-03-11_02-56-04/checkpoint_000000)\n"
     ]
    },
    {
     "name": "stderr",
     "output_type": "stream",
     "text": [
      "\u001b[36m(pid=256155)\u001b[0m 2024-03-11 03:07:28.323522: E tensorflow/compiler/xla/stream_executor/cuda/cuda_dnn.cc:9342] Unable to register cuDNN factory: Attempting to register factory for plugin cuDNN when one has already been registered\n",
      "\u001b[36m(pid=256155)\u001b[0m 2024-03-11 03:07:28.323557: E tensorflow/compiler/xla/stream_executor/cuda/cuda_fft.cc:609] Unable to register cuFFT factory: Attempting to register factory for plugin cuFFT when one has already been registered\n",
      "\u001b[36m(pid=256155)\u001b[0m 2024-03-11 03:07:28.323574: E tensorflow/compiler/xla/stream_executor/cuda/cuda_blas.cc:1518] Unable to register cuBLAS factory: Attempting to register factory for plugin cuBLAS when one has already been registered\n"
     ]
    },
    {
     "name": "stderr",
     "output_type": "stream",
     "text": [
      "\u001b[36m(TrainLightGCN pid=256155)\u001b[0m /home/daviddavo/upm-tfm-notebooks/.direnv/python-3.9/lib/python3.9/site-packages/recommenders/models/deeprec/DataModel/ImplicitCF.py:73: FutureWarning: The frame.append method is deprecated and will be removed from pandas in a future version. Use pandas.concat instead.\n",
      "\u001b[36m(TrainLightGCN pid=256155)\u001b[0m   df = train if test is None else train.append(test)\n"
     ]
    },
    {
     "name": "stdout",
     "output_type": "stream",
     "text": [
      "\u001b[36m(TrainLightGCN pid=256155)\u001b[0m Already create adjacency matrix.\n"
     ]
    },
    {
     "name": "stdout",
     "output_type": "stream",
     "text": [
      "\u001b[36m(TrainLightGCN pid=256155)\u001b[0m Already normalize adjacency matrix.\n",
      "\u001b[36m(TrainLightGCN pid=256155)\u001b[0m Using xavier initialization.\n"
     ]
    },
    {
     "name": "stderr",
     "output_type": "stream",
     "text": [
      "\u001b[36m(TrainLightGCN pid=256155)\u001b[0m Trainable.setup took 11.746 seconds. If your trainable is slow to initialize, consider setting reuse_actors=True to reduce actor creation overheads.\n"
     ]
    },
    {
     "name": "stderr",
     "output_type": "stream",
     "text": [
      "\u001b[36m(TrainLightGCN pid=254778)\u001b[0m Checkpoint successfully created at: Checkpoint(filesystem=local, path=/home/daviddavo/ray_results/LightGCN_optim=map@10,dao=PancakeSwap,freq=3d,normalize=True,cutoff_date=2023-07-01T00:00:00,fold=9_2024-03-11T02:49:22.390671/TrainLightGCN_be3e3a5d_10_batch_size=12,conv_layers=4,embedding_dim=44,fold=9,l2=0.0005,learning_rate=0.0118_2024-03-11_03-02-05/checkpoint_000000)\n"
     ]
    },
    {
     "name": "stderr",
     "output_type": "stream",
     "text": [
      "\u001b[36m(pid=256374)\u001b[0m 2024-03-11 03:07:50.343421: E tensorflow/compiler/xla/stream_executor/cuda/cuda_dnn.cc:9342] Unable to register cuDNN factory: Attempting to register factory for plugin cuDNN when one has already been registered\n",
      "\u001b[36m(pid=256374)\u001b[0m 2024-03-11 03:07:50.343454: E tensorflow/compiler/xla/stream_executor/cuda/cuda_fft.cc:609] Unable to register cuFFT factory: Attempting to register factory for plugin cuFFT when one has already been registered\n",
      "\u001b[36m(pid=256374)\u001b[0m 2024-03-11 03:07:50.343467: E tensorflow/compiler/xla/stream_executor/cuda/cuda_blas.cc:1518] Unable to register cuBLAS factory: Attempting to register factory for plugin cuBLAS when one has already been registered\n"
     ]
    },
    {
     "name": "stderr",
     "output_type": "stream",
     "text": [
      "\u001b[36m(TrainLightGCN pid=256374)\u001b[0m /home/daviddavo/upm-tfm-notebooks/.direnv/python-3.9/lib/python3.9/site-packages/recommenders/models/deeprec/DataModel/ImplicitCF.py:73: FutureWarning: The frame.append method is deprecated and will be removed from pandas in a future version. Use pandas.concat instead.\n",
      "\u001b[36m(TrainLightGCN pid=256374)\u001b[0m   df = train if test is None else train.append(test)\n"
     ]
    },
    {
     "name": "stdout",
     "output_type": "stream",
     "text": [
      "\u001b[36m(TrainLightGCN pid=256374)\u001b[0m Already create adjacency matrix.\n"
     ]
    },
    {
     "name": "stdout",
     "output_type": "stream",
     "text": [
      "\u001b[36m(TrainLightGCN pid=256374)\u001b[0m Already normalize adjacency matrix.\n",
      "\u001b[36m(TrainLightGCN pid=256374)\u001b[0m Using xavier initialization.\n"
     ]
    },
    {
     "name": "stderr",
     "output_type": "stream",
     "text": [
      "\u001b[36m(TrainLightGCN pid=256374)\u001b[0m Trainable.setup took 11.847 seconds. If your trainable is slow to initialize, consider setting reuse_actors=True to reduce actor creation overheads.\n"
     ]
    },
    {
     "name": "stderr",
     "output_type": "stream",
     "text": [
      "\u001b[36m(TrainLightGCN pid=255019)\u001b[0m Checkpoint successfully created at: Checkpoint(filesystem=local, path=/home/daviddavo/ray_results/LightGCN_optim=map@10,dao=PancakeSwap,freq=3d,normalize=True,cutoff_date=2023-07-01T00:00:00,fold=9_2024-03-11T02:49:22.390671/TrainLightGCN_5172917b_11_batch_size=8,conv_layers=3,embedding_dim=4,fold=9,l2=0.0061,learning_rate=0.4493_2024-03-11_03-02-34/checkpoint_000000)\n"
     ]
    },
    {
     "name": "stderr",
     "output_type": "stream",
     "text": [
      "\u001b[36m(pid=256705)\u001b[0m 2024-03-11 03:08:49.342448: E tensorflow/compiler/xla/stream_executor/cuda/cuda_dnn.cc:9342] Unable to register cuDNN factory: Attempting to register factory for plugin cuDNN when one has already been registered\n",
      "\u001b[36m(pid=256705)\u001b[0m 2024-03-11 03:08:49.342481: E tensorflow/compiler/xla/stream_executor/cuda/cuda_fft.cc:609] Unable to register cuFFT factory: Attempting to register factory for plugin cuFFT when one has already been registered\n",
      "\u001b[36m(pid=256705)\u001b[0m 2024-03-11 03:08:49.342497: E tensorflow/compiler/xla/stream_executor/cuda/cuda_blas.cc:1518] Unable to register cuBLAS factory: Attempting to register factory for plugin cuBLAS when one has already been registered\n"
     ]
    },
    {
     "name": "stderr",
     "output_type": "stream",
     "text": [
      "\u001b[36m(TrainLightGCN pid=256705)\u001b[0m /home/daviddavo/upm-tfm-notebooks/.direnv/python-3.9/lib/python3.9/site-packages/recommenders/models/deeprec/DataModel/ImplicitCF.py:73: FutureWarning: The frame.append method is deprecated and will be removed from pandas in a future version. Use pandas.concat instead.\n",
      "\u001b[36m(TrainLightGCN pid=256705)\u001b[0m   df = train if test is None else train.append(test)\n"
     ]
    },
    {
     "name": "stdout",
     "output_type": "stream",
     "text": [
      "\u001b[36m(TrainLightGCN pid=256705)\u001b[0m Already create adjacency matrix.\n"
     ]
    },
    {
     "name": "stdout",
     "output_type": "stream",
     "text": [
      "\u001b[36m(TrainLightGCN pid=256705)\u001b[0m Already normalize adjacency matrix.\n",
      "\u001b[36m(TrainLightGCN pid=256705)\u001b[0m Using xavier initialization.\n"
     ]
    },
    {
     "name": "stderr",
     "output_type": "stream",
     "text": [
      "\u001b[36m(TrainLightGCN pid=256705)\u001b[0m Trainable.setup took 11.839 seconds. If your trainable is slow to initialize, consider setting reuse_actors=True to reduce actor creation overheads.\n"
     ]
    },
    {
     "name": "stderr",
     "output_type": "stream",
     "text": [
      "\u001b[36m(TrainLightGCN pid=255459)\u001b[0m Checkpoint successfully created at: Checkpoint(filesystem=local, path=/home/daviddavo/ray_results/LightGCN_optim=map@10,dao=PancakeSwap,freq=3d,normalize=True,cutoff_date=2023-07-01T00:00:00,fold=9_2024-03-11T02:49:22.390671/TrainLightGCN_e10ec2b9_12_batch_size=8,conv_layers=4,embedding_dim=20,fold=9,l2=0.0004,learning_rate=0.0350_2024-03-11_03-03-04/checkpoint_000000)\n"
     ]
    },
    {
     "name": "stderr",
     "output_type": "stream",
     "text": [
      "\u001b[36m(pid=257103)\u001b[0m 2024-03-11 03:10:11.327678: E tensorflow/compiler/xla/stream_executor/cuda/cuda_dnn.cc:9342] Unable to register cuDNN factory: Attempting to register factory for plugin cuDNN when one has already been registered\n",
      "\u001b[36m(pid=257103)\u001b[0m 2024-03-11 03:10:11.327716: E tensorflow/compiler/xla/stream_executor/cuda/cuda_fft.cc:609] Unable to register cuFFT factory: Attempting to register factory for plugin cuFFT when one has already been registered\n",
      "\u001b[36m(pid=257103)\u001b[0m 2024-03-11 03:10:11.327730: E tensorflow/compiler/xla/stream_executor/cuda/cuda_blas.cc:1518] Unable to register cuBLAS factory: Attempting to register factory for plugin cuBLAS when one has already been registered\n"
     ]
    },
    {
     "name": "stderr",
     "output_type": "stream",
     "text": [
      "\u001b[36m(TrainLightGCN pid=257103)\u001b[0m /home/daviddavo/upm-tfm-notebooks/.direnv/python-3.9/lib/python3.9/site-packages/recommenders/models/deeprec/DataModel/ImplicitCF.py:73: FutureWarning: The frame.append method is deprecated and will be removed from pandas in a future version. Use pandas.concat instead.\n",
      "\u001b[36m(TrainLightGCN pid=257103)\u001b[0m   df = train if test is None else train.append(test)\n"
     ]
    },
    {
     "name": "stdout",
     "output_type": "stream",
     "text": [
      "\u001b[36m(TrainLightGCN pid=257103)\u001b[0m Already create adjacency matrix.\n"
     ]
    },
    {
     "name": "stdout",
     "output_type": "stream",
     "text": [
      "\u001b[36m(TrainLightGCN pid=257103)\u001b[0m Already normalize adjacency matrix.\n",
      "\u001b[36m(TrainLightGCN pid=257103)\u001b[0m Using xavier initialization.\n"
     ]
    },
    {
     "name": "stderr",
     "output_type": "stream",
     "text": [
      "\u001b[36m(TrainLightGCN pid=257103)\u001b[0m Trainable.setup took 11.968 seconds. If your trainable is slow to initialize, consider setting reuse_actors=True to reduce actor creation overheads.\n"
     ]
    },
    {
     "name": "stderr",
     "output_type": "stream",
     "text": [
      "\u001b[36m(TrainLightGCN pid=256155)\u001b[0m Checkpoint successfully created at: Checkpoint(filesystem=local, path=/home/daviddavo/ray_results/LightGCN_optim=map@10,dao=PancakeSwap,freq=3d,normalize=True,cutoff_date=2023-07-01T00:00:00,fold=9_2024-03-11T02:49:22.390671/TrainLightGCN_3b36ab58_13_batch_size=8,conv_layers=4,embedding_dim=4,fold=9,l2=0.0000,learning_rate=0.6904_2024-03-11_03-04-40/checkpoint_000000)\n"
     ]
    },
    {
     "name": "stderr",
     "output_type": "stream",
     "text": [
      "\u001b[36m(pid=257791)\u001b[0m 2024-03-11 03:13:12.387557: E tensorflow/compiler/xla/stream_executor/cuda/cuda_dnn.cc:9342] Unable to register cuDNN factory: Attempting to register factory for plugin cuDNN when one has already been registered\n",
      "\u001b[36m(pid=257791)\u001b[0m 2024-03-11 03:13:12.387589: E tensorflow/compiler/xla/stream_executor/cuda/cuda_fft.cc:609] Unable to register cuFFT factory: Attempting to register factory for plugin cuFFT when one has already been registered\n",
      "\u001b[36m(pid=257791)\u001b[0m 2024-03-11 03:13:12.387606: E tensorflow/compiler/xla/stream_executor/cuda/cuda_blas.cc:1518] Unable to register cuBLAS factory: Attempting to register factory for plugin cuBLAS when one has already been registered\n"
     ]
    },
    {
     "name": "stderr",
     "output_type": "stream",
     "text": [
      "\u001b[36m(TrainLightGCN pid=257791)\u001b[0m /home/daviddavo/upm-tfm-notebooks/.direnv/python-3.9/lib/python3.9/site-packages/recommenders/models/deeprec/DataModel/ImplicitCF.py:73: FutureWarning: The frame.append method is deprecated and will be removed from pandas in a future version. Use pandas.concat instead.\n",
      "\u001b[36m(TrainLightGCN pid=257791)\u001b[0m   df = train if test is None else train.append(test)\n"
     ]
    },
    {
     "name": "stderr",
     "output_type": "stream",
     "text": [
      "\u001b[36m(TrainLightGCN pid=256374)\u001b[0m Checkpoint successfully created at: Checkpoint(filesystem=local, path=/home/daviddavo/ray_results/LightGCN_optim=map@10,dao=PancakeSwap,freq=3d,normalize=True,cutoff_date=2023-07-01T00:00:00,fold=9_2024-03-11T02:49:22.390671/TrainLightGCN_c2faf5ad_14_batch_size=11,conv_layers=4,embedding_dim=36,fold=9,l2=0.0000,learning_rate=0.0206_2024-03-11_03-07-42/checkpoint_000000)\n"
     ]
    },
    {
     "name": "stdout",
     "output_type": "stream",
     "text": [
      "\u001b[36m(TrainLightGCN pid=257791)\u001b[0m Already create adjacency matrix.\n"
     ]
    },
    {
     "name": "stdout",
     "output_type": "stream",
     "text": [
      "\u001b[36m(TrainLightGCN pid=257791)\u001b[0m Already normalize adjacency matrix.\n",
      "\u001b[36m(TrainLightGCN pid=257791)\u001b[0m Using xavier initialization.\n"
     ]
    },
    {
     "name": "stderr",
     "output_type": "stream",
     "text": [
      "\u001b[36m(TrainLightGCN pid=257791)\u001b[0m Trainable.setup took 11.708 seconds. If your trainable is slow to initialize, consider setting reuse_actors=True to reduce actor creation overheads.\n"
     ]
    },
    {
     "name": "stderr",
     "output_type": "stream",
     "text": [
      "\u001b[36m(pid=257964)\u001b[0m 2024-03-11 03:13:27.290351: E tensorflow/compiler/xla/stream_executor/cuda/cuda_dnn.cc:9342] Unable to register cuDNN factory: Attempting to register factory for plugin cuDNN when one has already been registered\n",
      "\u001b[36m(pid=257964)\u001b[0m 2024-03-11 03:13:27.290377: E tensorflow/compiler/xla/stream_executor/cuda/cuda_fft.cc:609] Unable to register cuFFT factory: Attempting to register factory for plugin cuFFT when one has already been registered\n",
      "\u001b[36m(pid=257964)\u001b[0m 2024-03-11 03:13:27.290392: E tensorflow/compiler/xla/stream_executor/cuda/cuda_blas.cc:1518] Unable to register cuBLAS factory: Attempting to register factory for plugin cuBLAS when one has already been registered\n"
     ]
    },
    {
     "name": "stderr",
     "output_type": "stream",
     "text": [
      "\u001b[36m(TrainLightGCN pid=257964)\u001b[0m /home/daviddavo/upm-tfm-notebooks/.direnv/python-3.9/lib/python3.9/site-packages/recommenders/models/deeprec/DataModel/ImplicitCF.py:73: FutureWarning: The frame.append method is deprecated and will be removed from pandas in a future version. Use pandas.concat instead.\n",
      "\u001b[36m(TrainLightGCN pid=257964)\u001b[0m   df = train if test is None else train.append(test)\n"
     ]
    },
    {
     "name": "stdout",
     "output_type": "stream",
     "text": [
      "\u001b[36m(TrainLightGCN pid=257964)\u001b[0m Already create adjacency matrix.\n"
     ]
    },
    {
     "name": "stdout",
     "output_type": "stream",
     "text": [
      "\u001b[36m(TrainLightGCN pid=257964)\u001b[0m Already normalize adjacency matrix.\n",
      "\u001b[36m(TrainLightGCN pid=257964)\u001b[0m Using xavier initialization.\n"
     ]
    },
    {
     "name": "stderr",
     "output_type": "stream",
     "text": [
      "\u001b[36m(TrainLightGCN pid=257964)\u001b[0m Trainable.setup took 11.707 seconds. If your trainable is slow to initialize, consider setting reuse_actors=True to reduce actor creation overheads.\n"
     ]
    },
    {
     "name": "stderr",
     "output_type": "stream",
     "text": [
      "\u001b[36m(TrainLightGCN pid=256705)\u001b[0m Checkpoint successfully created at: Checkpoint(filesystem=local, path=/home/daviddavo/ray_results/LightGCN_optim=map@10,dao=PancakeSwap,freq=3d,normalize=True,cutoff_date=2023-07-01T00:00:00,fold=9_2024-03-11T02:49:22.390671/TrainLightGCN_f947b298_15_batch_size=11,conv_layers=5,embedding_dim=31,fold=9,l2=0.0000,learning_rate=0.0167_2024-03-11_03-08-04/checkpoint_000000)\n"
     ]
    },
    {
     "name": "stderr",
     "output_type": "stream",
     "text": [
      "\u001b[36m(pid=258308)\u001b[0m 2024-03-11 03:14:21.391763: E tensorflow/compiler/xla/stream_executor/cuda/cuda_dnn.cc:9342] Unable to register cuDNN factory: Attempting to register factory for plugin cuDNN when one has already been registered\n",
      "\u001b[36m(pid=258308)\u001b[0m 2024-03-11 03:14:21.391798: E tensorflow/compiler/xla/stream_executor/cuda/cuda_fft.cc:609] Unable to register cuFFT factory: Attempting to register factory for plugin cuFFT when one has already been registered\n",
      "\u001b[36m(pid=258308)\u001b[0m 2024-03-11 03:14:21.391814: E tensorflow/compiler/xla/stream_executor/cuda/cuda_blas.cc:1518] Unable to register cuBLAS factory: Attempting to register factory for plugin cuBLAS when one has already been registered\n"
     ]
    },
    {
     "name": "stderr",
     "output_type": "stream",
     "text": [
      "\u001b[36m(TrainLightGCN pid=258308)\u001b[0m /home/daviddavo/upm-tfm-notebooks/.direnv/python-3.9/lib/python3.9/site-packages/recommenders/models/deeprec/DataModel/ImplicitCF.py:73: FutureWarning: The frame.append method is deprecated and will be removed from pandas in a future version. Use pandas.concat instead.\n",
      "\u001b[36m(TrainLightGCN pid=258308)\u001b[0m   df = train if test is None else train.append(test)\n"
     ]
    },
    {
     "name": "stdout",
     "output_type": "stream",
     "text": [
      "\u001b[36m(TrainLightGCN pid=258308)\u001b[0m Already create adjacency matrix.\n"
     ]
    },
    {
     "name": "stdout",
     "output_type": "stream",
     "text": [
      "\u001b[36m(TrainLightGCN pid=258308)\u001b[0m Already normalize adjacency matrix.\n",
      "\u001b[36m(TrainLightGCN pid=258308)\u001b[0m Using xavier initialization.\n"
     ]
    },
    {
     "name": "stderr",
     "output_type": "stream",
     "text": [
      "\u001b[36m(TrainLightGCN pid=258308)\u001b[0m Trainable.setup took 11.743 seconds. If your trainable is slow to initialize, consider setting reuse_actors=True to reduce actor creation overheads.\n"
     ]
    },
    {
     "name": "stderr",
     "output_type": "stream",
     "text": [
      "\u001b[36m(TrainLightGCN pid=257103)\u001b[0m Checkpoint successfully created at: Checkpoint(filesystem=local, path=/home/daviddavo/ray_results/LightGCN_optim=map@10,dao=PancakeSwap,freq=3d,normalize=True,cutoff_date=2023-07-01T00:00:00,fold=9_2024-03-11T02:49:22.390671/TrainLightGCN_693510ed_16_batch_size=12,conv_layers=2,embedding_dim=5,fold=9,l2=0.0010,learning_rate=0.1417_2024-03-11_03-09-03/checkpoint_000000)\n"
     ]
    },
    {
     "name": "stderr",
     "output_type": "stream",
     "text": [
      "\u001b[36m(pid=258702)\u001b[0m 2024-03-11 03:15:40.394594: E tensorflow/compiler/xla/stream_executor/cuda/cuda_dnn.cc:9342] Unable to register cuDNN factory: Attempting to register factory for plugin cuDNN when one has already been registered\n",
      "\u001b[36m(pid=258702)\u001b[0m 2024-03-11 03:15:40.394631: E tensorflow/compiler/xla/stream_executor/cuda/cuda_fft.cc:609] Unable to register cuFFT factory: Attempting to register factory for plugin cuFFT when one has already been registered\n",
      "\u001b[36m(pid=258702)\u001b[0m 2024-03-11 03:15:40.394653: E tensorflow/compiler/xla/stream_executor/cuda/cuda_blas.cc:1518] Unable to register cuBLAS factory: Attempting to register factory for plugin cuBLAS when one has already been registered\n"
     ]
    },
    {
     "name": "stderr",
     "output_type": "stream",
     "text": [
      "\u001b[36m(TrainLightGCN pid=258702)\u001b[0m /home/daviddavo/upm-tfm-notebooks/.direnv/python-3.9/lib/python3.9/site-packages/recommenders/models/deeprec/DataModel/ImplicitCF.py:73: FutureWarning: The frame.append method is deprecated and will be removed from pandas in a future version. Use pandas.concat instead.\n",
      "\u001b[36m(TrainLightGCN pid=258702)\u001b[0m   df = train if test is None else train.append(test)\n"
     ]
    },
    {
     "name": "stdout",
     "output_type": "stream",
     "text": [
      "\u001b[36m(TrainLightGCN pid=258702)\u001b[0m Already create adjacency matrix.\n"
     ]
    },
    {
     "name": "stdout",
     "output_type": "stream",
     "text": [
      "\u001b[36m(TrainLightGCN pid=258702)\u001b[0m Already normalize adjacency matrix.\n",
      "\u001b[36m(TrainLightGCN pid=258702)\u001b[0m Using xavier initialization.\n"
     ]
    },
    {
     "name": "stderr",
     "output_type": "stream",
     "text": [
      "\u001b[36m(TrainLightGCN pid=258702)\u001b[0m Trainable.setup took 11.927 seconds. If your trainable is slow to initialize, consider setting reuse_actors=True to reduce actor creation overheads.\n"
     ]
    },
    {
     "name": "stderr",
     "output_type": "stream",
     "text": [
      "\u001b[36m(TrainLightGCN pid=257791)\u001b[0m Checkpoint successfully created at: Checkpoint(filesystem=local, path=/home/daviddavo/ray_results/LightGCN_optim=map@10,dao=PancakeSwap,freq=3d,normalize=True,cutoff_date=2023-07-01T00:00:00,fold=9_2024-03-11T02:49:22.390671/TrainLightGCN_4a4c0dbe_17_batch_size=9,conv_layers=4,embedding_dim=7,fold=9,l2=0.0000,learning_rate=0.0324_2024-03-11_03-10-25/checkpoint_000000)\n"
     ]
    },
    {
     "name": "stderr",
     "output_type": "stream",
     "text": [
      "\u001b[36m(pid=259395)\u001b[0m 2024-03-11 03:18:41.416304: E tensorflow/compiler/xla/stream_executor/cuda/cuda_dnn.cc:9342] Unable to register cuDNN factory: Attempting to register factory for plugin cuDNN when one has already been registered\n",
      "\u001b[36m(pid=259395)\u001b[0m 2024-03-11 03:18:41.416340: E tensorflow/compiler/xla/stream_executor/cuda/cuda_fft.cc:609] Unable to register cuFFT factory: Attempting to register factory for plugin cuFFT when one has already been registered\n",
      "\u001b[36m(pid=259395)\u001b[0m 2024-03-11 03:18:41.416354: E tensorflow/compiler/xla/stream_executor/cuda/cuda_blas.cc:1518] Unable to register cuBLAS factory: Attempting to register factory for plugin cuBLAS when one has already been registered\n"
     ]
    },
    {
     "name": "stderr",
     "output_type": "stream",
     "text": [
      "\u001b[36m(TrainLightGCN pid=259395)\u001b[0m /home/daviddavo/upm-tfm-notebooks/.direnv/python-3.9/lib/python3.9/site-packages/recommenders/models/deeprec/DataModel/ImplicitCF.py:73: FutureWarning: The frame.append method is deprecated and will be removed from pandas in a future version. Use pandas.concat instead.\n",
      "\u001b[36m(TrainLightGCN pid=259395)\u001b[0m   df = train if test is None else train.append(test)\n"
     ]
    },
    {
     "name": "stderr",
     "output_type": "stream",
     "text": [
      "\u001b[36m(TrainLightGCN pid=257964)\u001b[0m Checkpoint successfully created at: Checkpoint(filesystem=local, path=/home/daviddavo/ray_results/LightGCN_optim=map@10,dao=PancakeSwap,freq=3d,normalize=True,cutoff_date=2023-07-01T00:00:00,fold=9_2024-03-11T02:49:22.390671/TrainLightGCN_1a993788_18_batch_size=8,conv_layers=3,embedding_dim=16,fold=9,l2=0.0014,learning_rate=0.6904_2024-03-11_03-13-26/checkpoint_000000)\n"
     ]
    },
    {
     "name": "stdout",
     "output_type": "stream",
     "text": [
      "\u001b[36m(TrainLightGCN pid=259395)\u001b[0m Already create adjacency matrix.\n"
     ]
    },
    {
     "name": "stdout",
     "output_type": "stream",
     "text": [
      "\u001b[36m(TrainLightGCN pid=259395)\u001b[0m Already normalize adjacency matrix.\n",
      "\u001b[36m(TrainLightGCN pid=259395)\u001b[0m Using xavier initialization.\n"
     ]
    },
    {
     "name": "stderr",
     "output_type": "stream",
     "text": [
      "\u001b[36m(TrainLightGCN pid=259395)\u001b[0m Trainable.setup took 12.091 seconds. If your trainable is slow to initialize, consider setting reuse_actors=True to reduce actor creation overheads.\n"
     ]
    },
    {
     "name": "stderr",
     "output_type": "stream",
     "text": [
      "\u001b[36m(pid=259571)\u001b[0m 2024-03-11 03:18:56.662036: E tensorflow/compiler/xla/stream_executor/cuda/cuda_dnn.cc:9342] Unable to register cuDNN factory: Attempting to register factory for plugin cuDNN when one has already been registered\n",
      "\u001b[36m(pid=259571)\u001b[0m 2024-03-11 03:18:56.662072: E tensorflow/compiler/xla/stream_executor/cuda/cuda_fft.cc:609] Unable to register cuFFT factory: Attempting to register factory for plugin cuFFT when one has already been registered\n",
      "\u001b[36m(pid=259571)\u001b[0m 2024-03-11 03:18:56.662090: E tensorflow/compiler/xla/stream_executor/cuda/cuda_blas.cc:1518] Unable to register cuBLAS factory: Attempting to register factory for plugin cuBLAS when one has already been registered\n"
     ]
    },
    {
     "name": "stderr",
     "output_type": "stream",
     "text": [
      "\u001b[36m(TrainLightGCN pid=259571)\u001b[0m /home/daviddavo/upm-tfm-notebooks/.direnv/python-3.9/lib/python3.9/site-packages/recommenders/models/deeprec/DataModel/ImplicitCF.py:73: FutureWarning: The frame.append method is deprecated and will be removed from pandas in a future version. Use pandas.concat instead.\n",
      "\u001b[36m(TrainLightGCN pid=259571)\u001b[0m   df = train if test is None else train.append(test)\n"
     ]
    },
    {
     "name": "stdout",
     "output_type": "stream",
     "text": [
      "\u001b[36m(TrainLightGCN pid=259571)\u001b[0m Already create adjacency matrix.\n"
     ]
    },
    {
     "name": "stdout",
     "output_type": "stream",
     "text": [
      "\u001b[36m(TrainLightGCN pid=259571)\u001b[0m Already normalize adjacency matrix.\n",
      "\u001b[36m(TrainLightGCN pid=259571)\u001b[0m Using xavier initialization.\n"
     ]
    },
    {
     "name": "stderr",
     "output_type": "stream",
     "text": [
      "\u001b[36m(TrainLightGCN pid=259571)\u001b[0m Trainable.setup took 11.927 seconds. If your trainable is slow to initialize, consider setting reuse_actors=True to reduce actor creation overheads.\n"
     ]
    },
    {
     "name": "stderr",
     "output_type": "stream",
     "text": [
      "\u001b[36m(TrainLightGCN pid=258308)\u001b[0m Checkpoint successfully created at: Checkpoint(filesystem=local, path=/home/daviddavo/ray_results/LightGCN_optim=map@10,dao=PancakeSwap,freq=3d,normalize=True,cutoff_date=2023-07-01T00:00:00,fold=9_2024-03-11T02:49:22.390671/TrainLightGCN_3bb3bbad_19_batch_size=12,conv_layers=4,embedding_dim=22,fold=9,l2=0.0000,learning_rate=0.2762_2024-03-11_03-13-41/checkpoint_000000)\n"
     ]
    },
    {
     "name": "stderr",
     "output_type": "stream",
     "text": [
      "\u001b[36m(pid=259910)\u001b[0m 2024-03-11 03:19:51.419412: E tensorflow/compiler/xla/stream_executor/cuda/cuda_dnn.cc:9342] Unable to register cuDNN factory: Attempting to register factory for plugin cuDNN when one has already been registered\n",
      "\u001b[36m(pid=259910)\u001b[0m 2024-03-11 03:19:51.419448: E tensorflow/compiler/xla/stream_executor/cuda/cuda_fft.cc:609] Unable to register cuFFT factory: Attempting to register factory for plugin cuFFT when one has already been registered\n",
      "\u001b[36m(pid=259910)\u001b[0m 2024-03-11 03:19:51.419464: E tensorflow/compiler/xla/stream_executor/cuda/cuda_blas.cc:1518] Unable to register cuBLAS factory: Attempting to register factory for plugin cuBLAS when one has already been registered\n"
     ]
    },
    {
     "name": "stderr",
     "output_type": "stream",
     "text": [
      "\u001b[36m(TrainLightGCN pid=259910)\u001b[0m /home/daviddavo/upm-tfm-notebooks/.direnv/python-3.9/lib/python3.9/site-packages/recommenders/models/deeprec/DataModel/ImplicitCF.py:73: FutureWarning: The frame.append method is deprecated and will be removed from pandas in a future version. Use pandas.concat instead.\n",
      "\u001b[36m(TrainLightGCN pid=259910)\u001b[0m   df = train if test is None else train.append(test)\n"
     ]
    },
    {
     "name": "stdout",
     "output_type": "stream",
     "text": [
      "\u001b[36m(TrainLightGCN pid=259910)\u001b[0m Already create adjacency matrix.\n"
     ]
    },
    {
     "name": "stdout",
     "output_type": "stream",
     "text": [
      "\u001b[36m(TrainLightGCN pid=259910)\u001b[0m Already normalize adjacency matrix.\n",
      "\u001b[36m(TrainLightGCN pid=259910)\u001b[0m Using xavier initialization.\n"
     ]
    },
    {
     "name": "stderr",
     "output_type": "stream",
     "text": [
      "\u001b[36m(TrainLightGCN pid=259910)\u001b[0m Trainable.setup took 11.902 seconds. If your trainable is slow to initialize, consider setting reuse_actors=True to reduce actor creation overheads.\n"
     ]
    },
    {
     "name": "stderr",
     "output_type": "stream",
     "text": [
      "\u001b[36m(TrainLightGCN pid=258702)\u001b[0m Checkpoint successfully created at: Checkpoint(filesystem=local, path=/home/daviddavo/ray_results/LightGCN_optim=map@10,dao=PancakeSwap,freq=3d,normalize=True,cutoff_date=2023-07-01T00:00:00,fold=9_2024-03-11T02:49:22.390671/TrainLightGCN_f656bea1_20_batch_size=9,conv_layers=2,embedding_dim=105,fold=9,l2=0.0000,learning_rate=0.0230_2024-03-11_03-14-35/checkpoint_000000)\n"
     ]
    },
    {
     "name": "stderr",
     "output_type": "stream",
     "text": [
      "\u001b[36m(pid=260275)\u001b[0m 2024-03-11 03:21:01.445354: E tensorflow/compiler/xla/stream_executor/cuda/cuda_dnn.cc:9342] Unable to register cuDNN factory: Attempting to register factory for plugin cuDNN when one has already been registered\n",
      "\u001b[36m(pid=260275)\u001b[0m 2024-03-11 03:21:01.445391: E tensorflow/compiler/xla/stream_executor/cuda/cuda_fft.cc:609] Unable to register cuFFT factory: Attempting to register factory for plugin cuFFT when one has already been registered\n",
      "\u001b[36m(pid=260275)\u001b[0m 2024-03-11 03:21:01.445407: E tensorflow/compiler/xla/stream_executor/cuda/cuda_blas.cc:1518] Unable to register cuBLAS factory: Attempting to register factory for plugin cuBLAS when one has already been registered\n"
     ]
    },
    {
     "name": "stderr",
     "output_type": "stream",
     "text": [
      "\u001b[36m(TrainLightGCN pid=260275)\u001b[0m /home/daviddavo/upm-tfm-notebooks/.direnv/python-3.9/lib/python3.9/site-packages/recommenders/models/deeprec/DataModel/ImplicitCF.py:73: FutureWarning: The frame.append method is deprecated and will be removed from pandas in a future version. Use pandas.concat instead.\n",
      "\u001b[36m(TrainLightGCN pid=260275)\u001b[0m   df = train if test is None else train.append(test)\n"
     ]
    },
    {
     "name": "stdout",
     "output_type": "stream",
     "text": [
      "\u001b[36m(TrainLightGCN pid=260275)\u001b[0m Already create adjacency matrix.\n"
     ]
    },
    {
     "name": "stdout",
     "output_type": "stream",
     "text": [
      "\u001b[36m(TrainLightGCN pid=260275)\u001b[0m Already normalize adjacency matrix.\n",
      "\u001b[36m(TrainLightGCN pid=260275)\u001b[0m Using xavier initialization.\n"
     ]
    },
    {
     "name": "stderr",
     "output_type": "stream",
     "text": [
      "\u001b[36m(TrainLightGCN pid=260275)\u001b[0m Trainable.setup took 11.923 seconds. If your trainable is slow to initialize, consider setting reuse_actors=True to reduce actor creation overheads.\n"
     ]
    },
    {
     "name": "stderr",
     "output_type": "stream",
     "text": [
      "\u001b[36m(TrainLightGCN pid=259395)\u001b[0m Checkpoint successfully created at: Checkpoint(filesystem=local, path=/home/daviddavo/ray_results/LightGCN_optim=map@10,dao=PancakeSwap,freq=3d,normalize=True,cutoff_date=2023-07-01T00:00:00,fold=9_2024-03-11T02:49:22.390671/TrainLightGCN_1570151e_21_batch_size=10,conv_layers=5,embedding_dim=8,fold=9,l2=0.0002,learning_rate=0.0110_2024-03-11_03-15-54/checkpoint_000000)\n"
     ]
    },
    {
     "name": "stderr",
     "output_type": "stream",
     "text": [
      "\u001b[36m(pid=261029)\u001b[0m 2024-03-11 03:24:24.488145: E tensorflow/compiler/xla/stream_executor/cuda/cuda_dnn.cc:9342] Unable to register cuDNN factory: Attempting to register factory for plugin cuDNN when one has already been registered\n",
      "\u001b[36m(pid=261029)\u001b[0m 2024-03-11 03:24:24.488178: E tensorflow/compiler/xla/stream_executor/cuda/cuda_fft.cc:609] Unable to register cuFFT factory: Attempting to register factory for plugin cuFFT when one has already been registered\n",
      "\u001b[36m(pid=261029)\u001b[0m 2024-03-11 03:24:24.488191: E tensorflow/compiler/xla/stream_executor/cuda/cuda_blas.cc:1518] Unable to register cuBLAS factory: Attempting to register factory for plugin cuBLAS when one has already been registered\n"
     ]
    },
    {
     "name": "stderr",
     "output_type": "stream",
     "text": [
      "\u001b[36m(TrainLightGCN pid=261029)\u001b[0m /home/daviddavo/upm-tfm-notebooks/.direnv/python-3.9/lib/python3.9/site-packages/recommenders/models/deeprec/DataModel/ImplicitCF.py:73: FutureWarning: The frame.append method is deprecated and will be removed from pandas in a future version. Use pandas.concat instead.\n",
      "\u001b[36m(TrainLightGCN pid=261029)\u001b[0m   df = train if test is None else train.append(test)\n"
     ]
    },
    {
     "name": "stdout",
     "output_type": "stream",
     "text": [
      "\u001b[36m(TrainLightGCN pid=261029)\u001b[0m Already create adjacency matrix.\n"
     ]
    },
    {
     "name": "stdout",
     "output_type": "stream",
     "text": [
      "\u001b[36m(TrainLightGCN pid=261029)\u001b[0m Already normalize adjacency matrix.\n",
      "\u001b[36m(TrainLightGCN pid=261029)\u001b[0m Using xavier initialization.\n"
     ]
    },
    {
     "name": "stderr",
     "output_type": "stream",
     "text": [
      "\u001b[36m(TrainLightGCN pid=261029)\u001b[0m Trainable.setup took 12.147 seconds. If your trainable is slow to initialize, consider setting reuse_actors=True to reduce actor creation overheads.\n"
     ]
    },
    {
     "name": "stderr",
     "output_type": "stream",
     "text": [
      "\u001b[36m(TrainLightGCN pid=259571)\u001b[0m Checkpoint successfully created at: Checkpoint(filesystem=local, path=/home/daviddavo/ray_results/LightGCN_optim=map@10,dao=PancakeSwap,freq=3d,normalize=True,cutoff_date=2023-07-01T00:00:00,fold=9_2024-03-11T02:49:22.390671/TrainLightGCN_b71140f1_22_batch_size=6,conv_layers=5,embedding_dim=9,fold=9,l2=0.0000,learning_rate=0.1732_2024-03-11_03-18-55/checkpoint_000000)\n"
     ]
    },
    {
     "name": "stderr",
     "output_type": "stream",
     "text": [
      "\u001b[36m(pid=261239)\u001b[0m 2024-03-11 03:24:42.467395: E tensorflow/compiler/xla/stream_executor/cuda/cuda_dnn.cc:9342] Unable to register cuDNN factory: Attempting to register factory for plugin cuDNN when one has already been registered\n",
      "\u001b[36m(pid=261239)\u001b[0m 2024-03-11 03:24:42.467535: E tensorflow/compiler/xla/stream_executor/cuda/cuda_fft.cc:609] Unable to register cuFFT factory: Attempting to register factory for plugin cuFFT when one has already been registered\n",
      "\u001b[36m(pid=261239)\u001b[0m 2024-03-11 03:24:42.467553: E tensorflow/compiler/xla/stream_executor/cuda/cuda_blas.cc:1518] Unable to register cuBLAS factory: Attempting to register factory for plugin cuBLAS when one has already been registered\n"
     ]
    },
    {
     "name": "stderr",
     "output_type": "stream",
     "text": [
      "\u001b[36m(TrainLightGCN pid=261239)\u001b[0m /home/daviddavo/upm-tfm-notebooks/.direnv/python-3.9/lib/python3.9/site-packages/recommenders/models/deeprec/DataModel/ImplicitCF.py:73: FutureWarning: The frame.append method is deprecated and will be removed from pandas in a future version. Use pandas.concat instead.\n",
      "\u001b[36m(TrainLightGCN pid=261239)\u001b[0m   df = train if test is None else train.append(test)\n"
     ]
    },
    {
     "name": "stdout",
     "output_type": "stream",
     "text": [
      "\u001b[36m(TrainLightGCN pid=261239)\u001b[0m Already create adjacency matrix.\n"
     ]
    },
    {
     "name": "stdout",
     "output_type": "stream",
     "text": [
      "\u001b[36m(TrainLightGCN pid=261239)\u001b[0m Already normalize adjacency matrix.\n",
      "\u001b[36m(TrainLightGCN pid=261239)\u001b[0m Using xavier initialization.\n"
     ]
    },
    {
     "name": "stderr",
     "output_type": "stream",
     "text": [
      "\u001b[36m(TrainLightGCN pid=261239)\u001b[0m Trainable.setup took 11.988 seconds. If your trainable is slow to initialize, consider setting reuse_actors=True to reduce actor creation overheads.\n"
     ]
    },
    {
     "name": "stderr",
     "output_type": "stream",
     "text": [
      "\u001b[36m(TrainLightGCN pid=259910)\u001b[0m Checkpoint successfully created at: Checkpoint(filesystem=local, path=/home/daviddavo/ray_results/LightGCN_optim=map@10,dao=PancakeSwap,freq=3d,normalize=True,cutoff_date=2023-07-01T00:00:00,fold=9_2024-03-11T02:49:22.390671/TrainLightGCN_af6ee6a4_23_batch_size=9,conv_layers=5,embedding_dim=1,fold=9,l2=0.0000,learning_rate=0.1986_2024-03-11_03-19-10/checkpoint_000000)\n"
     ]
    },
    {
     "name": "stderr",
     "output_type": "stream",
     "text": [
      "\u001b[36m(pid=261626)\u001b[0m 2024-03-11 03:26:01.470409: E tensorflow/compiler/xla/stream_executor/cuda/cuda_dnn.cc:9342] Unable to register cuDNN factory: Attempting to register factory for plugin cuDNN when one has already been registered\n",
      "\u001b[36m(pid=261626)\u001b[0m 2024-03-11 03:26:01.470440: E tensorflow/compiler/xla/stream_executor/cuda/cuda_fft.cc:609] Unable to register cuFFT factory: Attempting to register factory for plugin cuFFT when one has already been registered\n",
      "\u001b[36m(pid=261626)\u001b[0m 2024-03-11 03:26:01.470455: E tensorflow/compiler/xla/stream_executor/cuda/cuda_blas.cc:1518] Unable to register cuBLAS factory: Attempting to register factory for plugin cuBLAS when one has already been registered\n"
     ]
    },
    {
     "name": "stderr",
     "output_type": "stream",
     "text": [
      "\u001b[36m(TrainLightGCN pid=261626)\u001b[0m /home/daviddavo/upm-tfm-notebooks/.direnv/python-3.9/lib/python3.9/site-packages/recommenders/models/deeprec/DataModel/ImplicitCF.py:73: FutureWarning: The frame.append method is deprecated and will be removed from pandas in a future version. Use pandas.concat instead.\n",
      "\u001b[36m(TrainLightGCN pid=261626)\u001b[0m   df = train if test is None else train.append(test)\n"
     ]
    },
    {
     "name": "stdout",
     "output_type": "stream",
     "text": [
      "\u001b[36m(TrainLightGCN pid=261626)\u001b[0m Already create adjacency matrix.\n"
     ]
    },
    {
     "name": "stdout",
     "output_type": "stream",
     "text": [
      "\u001b[36m(TrainLightGCN pid=261626)\u001b[0m Already normalize adjacency matrix.\n",
      "\u001b[36m(TrainLightGCN pid=261626)\u001b[0m Using xavier initialization.\n"
     ]
    },
    {
     "name": "stderr",
     "output_type": "stream",
     "text": [
      "\u001b[36m(TrainLightGCN pid=261626)\u001b[0m Trainable.setup took 12.004 seconds. If your trainable is slow to initialize, consider setting reuse_actors=True to reduce actor creation overheads.\n"
     ]
    },
    {
     "name": "stderr",
     "output_type": "stream",
     "text": [
      "\u001b[36m(TrainLightGCN pid=261239)\u001b[0m Checkpoint successfully created at: Checkpoint(filesystem=local, path=/home/daviddavo/ray_results/LightGCN_optim=map@10,dao=PancakeSwap,freq=3d,normalize=True,cutoff_date=2023-07-01T00:00:00,fold=9_2024-03-11T02:49:22.390671/TrainLightGCN_04212623_26_batch_size=10,conv_layers=5,embedding_dim=2,fold=9,l2=0.0003,learning_rate=0.9967_2024-03-11_03-24-38/checkpoint_000000)\n"
     ]
    },
    {
     "name": "stderr",
     "output_type": "stream",
     "text": [
      "\u001b[36m(pid=262512)\u001b[0m 2024-03-11 03:30:08.497007: E tensorflow/compiler/xla/stream_executor/cuda/cuda_dnn.cc:9342] Unable to register cuDNN factory: Attempting to register factory for plugin cuDNN when one has already been registered\n",
      "\u001b[36m(pid=262512)\u001b[0m 2024-03-11 03:30:08.497139: E tensorflow/compiler/xla/stream_executor/cuda/cuda_fft.cc:609] Unable to register cuFFT factory: Attempting to register factory for plugin cuFFT when one has already been registered\n",
      "\u001b[36m(pid=262512)\u001b[0m 2024-03-11 03:30:08.497160: E tensorflow/compiler/xla/stream_executor/cuda/cuda_blas.cc:1518] Unable to register cuBLAS factory: Attempting to register factory for plugin cuBLAS when one has already been registered\n"
     ]
    },
    {
     "name": "stderr",
     "output_type": "stream",
     "text": [
      "\u001b[36m(TrainLightGCN pid=262512)\u001b[0m /home/daviddavo/upm-tfm-notebooks/.direnv/python-3.9/lib/python3.9/site-packages/recommenders/models/deeprec/DataModel/ImplicitCF.py:73: FutureWarning: The frame.append method is deprecated and will be removed from pandas in a future version. Use pandas.concat instead.\n",
      "\u001b[36m(TrainLightGCN pid=262512)\u001b[0m   df = train if test is None else train.append(test)\n"
     ]
    },
    {
     "name": "stdout",
     "output_type": "stream",
     "text": [
      "\u001b[36m(TrainLightGCN pid=262512)\u001b[0m Already create adjacency matrix.\n"
     ]
    },
    {
     "name": "stdout",
     "output_type": "stream",
     "text": [
      "\u001b[36m(TrainLightGCN pid=262512)\u001b[0m Already normalize adjacency matrix.\n",
      "\u001b[36m(TrainLightGCN pid=262512)\u001b[0m Using xavier initialization.\n"
     ]
    },
    {
     "name": "stderr",
     "output_type": "stream",
     "text": [
      "\u001b[36m(TrainLightGCN pid=262512)\u001b[0m Trainable.setup took 12.122 seconds. If your trainable is slow to initialize, consider setting reuse_actors=True to reduce actor creation overheads.\n"
     ]
    },
    {
     "name": "stderr",
     "output_type": "stream",
     "text": [
      "\u001b[36m(TrainLightGCN pid=261029)\u001b[0m Checkpoint successfully created at: Checkpoint(filesystem=local, path=/home/daviddavo/ray_results/LightGCN_optim=map@10,dao=PancakeSwap,freq=3d,normalize=True,cutoff_date=2023-07-01T00:00:00,fold=9_2024-03-11T02:49:22.390671/TrainLightGCN_75b99198_25_batch_size=8,conv_layers=4,embedding_dim=1,fold=9,l2=0.0000,learning_rate=0.9778_2024-03-11_03-21-15/checkpoint_000000)\n"
     ]
    },
    {
     "name": "stderr",
     "output_type": "stream",
     "text": [
      "\u001b[36m(pid=262852)\u001b[0m 2024-03-11 03:31:10.507592: E tensorflow/compiler/xla/stream_executor/cuda/cuda_dnn.cc:9342] Unable to register cuDNN factory: Attempting to register factory for plugin cuDNN when one has already been registered\n",
      "\u001b[36m(pid=262852)\u001b[0m 2024-03-11 03:31:10.507629: E tensorflow/compiler/xla/stream_executor/cuda/cuda_fft.cc:609] Unable to register cuFFT factory: Attempting to register factory for plugin cuFFT when one has already been registered\n",
      "\u001b[36m(pid=262852)\u001b[0m 2024-03-11 03:31:10.507643: E tensorflow/compiler/xla/stream_executor/cuda/cuda_blas.cc:1518] Unable to register cuBLAS factory: Attempting to register factory for plugin cuBLAS when one has already been registered\n"
     ]
    },
    {
     "name": "stderr",
     "output_type": "stream",
     "text": [
      "\u001b[36m(TrainLightGCN pid=262852)\u001b[0m /home/daviddavo/upm-tfm-notebooks/.direnv/python-3.9/lib/python3.9/site-packages/recommenders/models/deeprec/DataModel/ImplicitCF.py:73: FutureWarning: The frame.append method is deprecated and will be removed from pandas in a future version. Use pandas.concat instead.\n",
      "\u001b[36m(TrainLightGCN pid=262852)\u001b[0m   df = train if test is None else train.append(test)\n"
     ]
    },
    {
     "name": "stderr",
     "output_type": "stream",
     "text": [
      "\u001b[36m(TrainLightGCN pid=261626)\u001b[0m Checkpoint successfully created at: Checkpoint(filesystem=local, path=/home/daviddavo/ray_results/LightGCN_optim=map@10,dao=PancakeSwap,freq=3d,normalize=True,cutoff_date=2023-07-01T00:00:00,fold=9_2024-03-11T02:49:22.390671/TrainLightGCN_60e85522_27_batch_size=10,conv_layers=5,embedding_dim=10,fold=9,l2=0.0001,learning_rate=0.2765_2024-03-11_03-24-56/checkpoint_000000)\n"
     ]
    },
    {
     "name": "stdout",
     "output_type": "stream",
     "text": [
      "\u001b[36m(TrainLightGCN pid=262852)\u001b[0m Already create adjacency matrix.\n"
     ]
    },
    {
     "name": "stdout",
     "output_type": "stream",
     "text": [
      "\u001b[36m(TrainLightGCN pid=262852)\u001b[0m Already normalize adjacency matrix.\n"
     ]
    },
    {
     "name": "stdout",
     "output_type": "stream",
     "text": [
      "\u001b[36m(TrainLightGCN pid=262852)\u001b[0m Using xavier initialization.\n"
     ]
    },
    {
     "name": "stderr",
     "output_type": "stream",
     "text": [
      "\u001b[36m(TrainLightGCN pid=262852)\u001b[0m Trainable.setup took 12.023 seconds. If your trainable is slow to initialize, consider setting reuse_actors=True to reduce actor creation overheads.\n"
     ]
    },
    {
     "name": "stderr",
     "output_type": "stream",
     "text": [
      "\u001b[36m(pid=263028)\u001b[0m 2024-03-11 03:31:25.741929: E tensorflow/compiler/xla/stream_executor/cuda/cuda_dnn.cc:9342] Unable to register cuDNN factory: Attempting to register factory for plugin cuDNN when one has already been registered\n",
      "\u001b[36m(pid=263028)\u001b[0m 2024-03-11 03:31:25.741967: E tensorflow/compiler/xla/stream_executor/cuda/cuda_fft.cc:609] Unable to register cuFFT factory: Attempting to register factory for plugin cuFFT when one has already been registered\n",
      "\u001b[36m(pid=263028)\u001b[0m 2024-03-11 03:31:25.741983: E tensorflow/compiler/xla/stream_executor/cuda/cuda_blas.cc:1518] Unable to register cuBLAS factory: Attempting to register factory for plugin cuBLAS when one has already been registered\n"
     ]
    },
    {
     "name": "stderr",
     "output_type": "stream",
     "text": [
      "\u001b[36m(TrainLightGCN pid=263028)\u001b[0m /home/daviddavo/upm-tfm-notebooks/.direnv/python-3.9/lib/python3.9/site-packages/recommenders/models/deeprec/DataModel/ImplicitCF.py:73: FutureWarning: The frame.append method is deprecated and will be removed from pandas in a future version. Use pandas.concat instead.\n",
      "\u001b[36m(TrainLightGCN pid=263028)\u001b[0m   df = train if test is None else train.append(test)\n"
     ]
    },
    {
     "name": "stdout",
     "output_type": "stream",
     "text": [
      "\u001b[36m(TrainLightGCN pid=263028)\u001b[0m Already create adjacency matrix.\n"
     ]
    },
    {
     "name": "stdout",
     "output_type": "stream",
     "text": [
      "\u001b[36m(TrainLightGCN pid=263028)\u001b[0m Already normalize adjacency matrix.\n",
      "\u001b[36m(TrainLightGCN pid=263028)\u001b[0m Using xavier initialization.\n"
     ]
    },
    {
     "name": "stderr",
     "output_type": "stream",
     "text": [
      "\u001b[36m(TrainLightGCN pid=263028)\u001b[0m Trainable.setup took 12.092 seconds. If your trainable is slow to initialize, consider setting reuse_actors=True to reduce actor creation overheads.\n"
     ]
    },
    {
     "name": "stderr",
     "output_type": "stream",
     "text": [
      "\u001b[36m(TrainLightGCN pid=262512)\u001b[0m Checkpoint successfully created at: Checkpoint(filesystem=local, path=/home/daviddavo/ray_results/LightGCN_optim=map@10,dao=PancakeSwap,freq=3d,normalize=True,cutoff_date=2023-07-01T00:00:00,fold=9_2024-03-11T02:49:22.390671/TrainLightGCN_a7ed00e2_28_batch_size=13,conv_layers=5,embedding_dim=1,fold=9,l2=0.0001,learning_rate=0.1336_2024-03-11_03-26-15/checkpoint_000000)\n"
     ]
    },
    {
     "name": "stderr",
     "output_type": "stream",
     "text": [
      "\u001b[36m(pid=263962)\u001b[0m 2024-03-11 03:35:41.527626: E tensorflow/compiler/xla/stream_executor/cuda/cuda_dnn.cc:9342] Unable to register cuDNN factory: Attempting to register factory for plugin cuDNN when one has already been registered\n",
      "\u001b[36m(pid=263962)\u001b[0m 2024-03-11 03:35:41.527665: E tensorflow/compiler/xla/stream_executor/cuda/cuda_fft.cc:609] Unable to register cuFFT factory: Attempting to register factory for plugin cuFFT when one has already been registered\n",
      "\u001b[36m(pid=263962)\u001b[0m 2024-03-11 03:35:41.527681: E tensorflow/compiler/xla/stream_executor/cuda/cuda_blas.cc:1518] Unable to register cuBLAS factory: Attempting to register factory for plugin cuBLAS when one has already been registered\n"
     ]
    },
    {
     "name": "stderr",
     "output_type": "stream",
     "text": [
      "\u001b[36m(TrainLightGCN pid=263962)\u001b[0m /home/daviddavo/upm-tfm-notebooks/.direnv/python-3.9/lib/python3.9/site-packages/recommenders/models/deeprec/DataModel/ImplicitCF.py:73: FutureWarning: The frame.append method is deprecated and will be removed from pandas in a future version. Use pandas.concat instead.\n",
      "\u001b[36m(TrainLightGCN pid=263962)\u001b[0m   df = train if test is None else train.append(test)\n"
     ]
    },
    {
     "name": "stdout",
     "output_type": "stream",
     "text": [
      "\u001b[36m(TrainLightGCN pid=263962)\u001b[0m Already create adjacency matrix.\n"
     ]
    },
    {
     "name": "stdout",
     "output_type": "stream",
     "text": [
      "\u001b[36m(TrainLightGCN pid=263962)\u001b[0m Already normalize adjacency matrix.\n",
      "\u001b[36m(TrainLightGCN pid=263962)\u001b[0m Using xavier initialization.\n"
     ]
    },
    {
     "name": "stderr",
     "output_type": "stream",
     "text": [
      "\u001b[36m(TrainLightGCN pid=263962)\u001b[0m Trainable.setup took 12.486 seconds. If your trainable is slow to initialize, consider setting reuse_actors=True to reduce actor creation overheads.\n"
     ]
    },
    {
     "name": "stderr",
     "output_type": "stream",
     "text": [
      "\u001b[36m(TrainLightGCN pid=262852)\u001b[0m Checkpoint successfully created at: Checkpoint(filesystem=local, path=/home/daviddavo/ray_results/LightGCN_optim=map@10,dao=PancakeSwap,freq=3d,normalize=True,cutoff_date=2023-07-01T00:00:00,fold=9_2024-03-11T02:49:22.390671/TrainLightGCN_bf554765_29_batch_size=10,conv_layers=5,embedding_dim=2,fold=9,l2=0.0000,learning_rate=0.2206_2024-03-11_03-30-22/checkpoint_000000)\n"
     ]
    },
    {
     "name": "stderr",
     "output_type": "stream",
     "text": [
      "\u001b[36m(pid=264369)\u001b[0m 2024-03-11 03:37:07.528951: E tensorflow/compiler/xla/stream_executor/cuda/cuda_dnn.cc:9342] Unable to register cuDNN factory: Attempting to register factory for plugin cuDNN when one has already been registered\n",
      "\u001b[36m(pid=264369)\u001b[0m 2024-03-11 03:37:07.528987: E tensorflow/compiler/xla/stream_executor/cuda/cuda_fft.cc:609] Unable to register cuFFT factory: Attempting to register factory for plugin cuFFT when one has already been registered\n",
      "\u001b[36m(pid=264369)\u001b[0m 2024-03-11 03:37:07.529001: E tensorflow/compiler/xla/stream_executor/cuda/cuda_blas.cc:1518] Unable to register cuBLAS factory: Attempting to register factory for plugin cuBLAS when one has already been registered\n"
     ]
    },
    {
     "name": "stderr",
     "output_type": "stream",
     "text": [
      "\u001b[36m(TrainLightGCN pid=264369)\u001b[0m /home/daviddavo/upm-tfm-notebooks/.direnv/python-3.9/lib/python3.9/site-packages/recommenders/models/deeprec/DataModel/ImplicitCF.py:73: FutureWarning: The frame.append method is deprecated and will be removed from pandas in a future version. Use pandas.concat instead.\n",
      "\u001b[36m(TrainLightGCN pid=264369)\u001b[0m   df = train if test is None else train.append(test)\n"
     ]
    },
    {
     "name": "stdout",
     "output_type": "stream",
     "text": [
      "\u001b[36m(TrainLightGCN pid=264369)\u001b[0m Already create adjacency matrix.\n"
     ]
    },
    {
     "name": "stdout",
     "output_type": "stream",
     "text": [
      "\u001b[36m(TrainLightGCN pid=264369)\u001b[0m Already normalize adjacency matrix.\n",
      "\u001b[36m(TrainLightGCN pid=264369)\u001b[0m Using xavier initialization.\n"
     ]
    },
    {
     "name": "stderr",
     "output_type": "stream",
     "text": [
      "\u001b[36m(TrainLightGCN pid=264369)\u001b[0m Trainable.setup took 12.521 seconds. If your trainable is slow to initialize, consider setting reuse_actors=True to reduce actor creation overheads.\n"
     ]
    },
    {
     "name": "stderr",
     "output_type": "stream",
     "text": [
      "\u001b[36m(TrainLightGCN pid=263028)\u001b[0m Checkpoint successfully created at: Checkpoint(filesystem=local, path=/home/daviddavo/ray_results/LightGCN_optim=map@10,dao=PancakeSwap,freq=3d,normalize=True,cutoff_date=2023-07-01T00:00:00,fold=9_2024-03-11T02:49:22.390671/TrainLightGCN_97d4550b_30_batch_size=9,conv_layers=5,embedding_dim=253,fold=9,l2=0.0001,learning_rate=0.2706_2024-03-11_03-31-24/checkpoint_000000)\n"
     ]
    },
    {
     "name": "stderr",
     "output_type": "stream",
     "text": [
      "\u001b[36m(pid=264609)\u001b[0m 2024-03-11 03:37:35.535648: E tensorflow/compiler/xla/stream_executor/cuda/cuda_dnn.cc:9342] Unable to register cuDNN factory: Attempting to register factory for plugin cuDNN when one has already been registered\n",
      "\u001b[36m(pid=264609)\u001b[0m 2024-03-11 03:37:35.535685: E tensorflow/compiler/xla/stream_executor/cuda/cuda_fft.cc:609] Unable to register cuFFT factory: Attempting to register factory for plugin cuFFT when one has already been registered\n",
      "\u001b[36m(pid=264609)\u001b[0m 2024-03-11 03:37:35.535702: E tensorflow/compiler/xla/stream_executor/cuda/cuda_blas.cc:1518] Unable to register cuBLAS factory: Attempting to register factory for plugin cuBLAS when one has already been registered\n"
     ]
    },
    {
     "name": "stderr",
     "output_type": "stream",
     "text": [
      "\u001b[36m(TrainLightGCN pid=264609)\u001b[0m /home/daviddavo/upm-tfm-notebooks/.direnv/python-3.9/lib/python3.9/site-packages/recommenders/models/deeprec/DataModel/ImplicitCF.py:73: FutureWarning: The frame.append method is deprecated and will be removed from pandas in a future version. Use pandas.concat instead.\n",
      "\u001b[36m(TrainLightGCN pid=264609)\u001b[0m   df = train if test is None else train.append(test)\n"
     ]
    },
    {
     "name": "stdout",
     "output_type": "stream",
     "text": [
      "\u001b[36m(TrainLightGCN pid=264609)\u001b[0m Already create adjacency matrix.\n"
     ]
    },
    {
     "name": "stdout",
     "output_type": "stream",
     "text": [
      "\u001b[36m(TrainLightGCN pid=264609)\u001b[0m Already normalize adjacency matrix.\n",
      "\u001b[36m(TrainLightGCN pid=264609)\u001b[0m Using xavier initialization.\n"
     ]
    },
    {
     "name": "stderr",
     "output_type": "stream",
     "text": [
      "\u001b[36m(TrainLightGCN pid=264609)\u001b[0m Trainable.setup took 12.015 seconds. If your trainable is slow to initialize, consider setting reuse_actors=True to reduce actor creation overheads.\n"
     ]
    },
    {
     "name": "stderr",
     "output_type": "stream",
     "text": [
      "\u001b[36m(TrainLightGCN pid=260275)\u001b[0m Checkpoint successfully created at: Checkpoint(filesystem=local, path=/home/daviddavo/ray_results/LightGCN_optim=map@10,dao=PancakeSwap,freq=3d,normalize=True,cutoff_date=2023-07-01T00:00:00,fold=9_2024-03-11T02:49:22.390671/TrainLightGCN_21a65676_24_batch_size=6,conv_layers=2,embedding_dim=246,fold=9,l2=0.0000,learning_rate=0.0568_2024-03-11_03-20-05/checkpoint_000000)\n"
     ]
    },
    {
     "name": "stderr",
     "output_type": "stream",
     "text": [
      "\u001b[36m(pid=264954)\u001b[0m 2024-03-11 03:38:39.617858: E tensorflow/compiler/xla/stream_executor/cuda/cuda_dnn.cc:9342] Unable to register cuDNN factory: Attempting to register factory for plugin cuDNN when one has already been registered\n",
      "\u001b[36m(pid=264954)\u001b[0m 2024-03-11 03:38:39.617967: E tensorflow/compiler/xla/stream_executor/cuda/cuda_fft.cc:609] Unable to register cuFFT factory: Attempting to register factory for plugin cuFFT when one has already been registered\n",
      "\u001b[36m(pid=264954)\u001b[0m 2024-03-11 03:38:39.617983: E tensorflow/compiler/xla/stream_executor/cuda/cuda_blas.cc:1518] Unable to register cuBLAS factory: Attempting to register factory for plugin cuBLAS when one has already been registered\n"
     ]
    },
    {
     "name": "stderr",
     "output_type": "stream",
     "text": [
      "\u001b[36m(TrainLightGCN pid=264954)\u001b[0m /home/daviddavo/upm-tfm-notebooks/.direnv/python-3.9/lib/python3.9/site-packages/recommenders/models/deeprec/DataModel/ImplicitCF.py:73: FutureWarning: The frame.append method is deprecated and will be removed from pandas in a future version. Use pandas.concat instead.\n",
      "\u001b[36m(TrainLightGCN pid=264954)\u001b[0m   df = train if test is None else train.append(test)\n"
     ]
    },
    {
     "name": "stdout",
     "output_type": "stream",
     "text": [
      "\u001b[36m(TrainLightGCN pid=264954)\u001b[0m Already create adjacency matrix.\n"
     ]
    },
    {
     "name": "stdout",
     "output_type": "stream",
     "text": [
      "\u001b[36m(TrainLightGCN pid=264954)\u001b[0m Already normalize adjacency matrix.\n",
      "\u001b[36m(TrainLightGCN pid=264954)\u001b[0m Using xavier initialization.\n"
     ]
    },
    {
     "name": "stderr",
     "output_type": "stream",
     "text": [
      "\u001b[36m(TrainLightGCN pid=264954)\u001b[0m Trainable.setup took 11.933 seconds. If your trainable is slow to initialize, consider setting reuse_actors=True to reduce actor creation overheads.\n"
     ]
    },
    {
     "name": "stderr",
     "output_type": "stream",
     "text": [
      "\u001b[36m(TrainLightGCN pid=263962)\u001b[0m Checkpoint successfully created at: Checkpoint(filesystem=local, path=/home/daviddavo/ray_results/LightGCN_optim=map@10,dao=PancakeSwap,freq=3d,normalize=True,cutoff_date=2023-07-01T00:00:00,fold=9_2024-03-11T02:49:22.390671/TrainLightGCN_a178c52e_31_batch_size=11,conv_layers=5,embedding_dim=1,fold=9,l2=0.0000,learning_rate=0.3558_2024-03-11_03-31-39/checkpoint_000000)\n"
     ]
    },
    {
     "name": "stderr",
     "output_type": "stream",
     "text": [
      "\u001b[36m(pid=265538)\u001b[0m 2024-03-11 03:41:04.614024: E tensorflow/compiler/xla/stream_executor/cuda/cuda_dnn.cc:9342] Unable to register cuDNN factory: Attempting to register factory for plugin cuDNN when one has already been registered\n",
      "\u001b[36m(pid=265538)\u001b[0m 2024-03-11 03:41:04.614070: E tensorflow/compiler/xla/stream_executor/cuda/cuda_fft.cc:609] Unable to register cuFFT factory: Attempting to register factory for plugin cuFFT when one has already been registered\n",
      "\u001b[36m(pid=265538)\u001b[0m 2024-03-11 03:41:04.614084: E tensorflow/compiler/xla/stream_executor/cuda/cuda_blas.cc:1518] Unable to register cuBLAS factory: Attempting to register factory for plugin cuBLAS when one has already been registered\n"
     ]
    },
    {
     "name": "stderr",
     "output_type": "stream",
     "text": [
      "\u001b[36m(TrainLightGCN pid=265538)\u001b[0m /home/daviddavo/upm-tfm-notebooks/.direnv/python-3.9/lib/python3.9/site-packages/recommenders/models/deeprec/DataModel/ImplicitCF.py:73: FutureWarning: The frame.append method is deprecated and will be removed from pandas in a future version. Use pandas.concat instead.\n",
      "\u001b[36m(TrainLightGCN pid=265538)\u001b[0m   df = train if test is None else train.append(test)\n"
     ]
    },
    {
     "name": "stdout",
     "output_type": "stream",
     "text": [
      "\u001b[36m(TrainLightGCN pid=265538)\u001b[0m Already create adjacency matrix.\n"
     ]
    },
    {
     "name": "stdout",
     "output_type": "stream",
     "text": [
      "\u001b[36m(TrainLightGCN pid=265538)\u001b[0m Already normalize adjacency matrix.\n",
      "\u001b[36m(TrainLightGCN pid=265538)\u001b[0m Using xavier initialization.\n"
     ]
    },
    {
     "name": "stderr",
     "output_type": "stream",
     "text": [
      "\u001b[36m(TrainLightGCN pid=265538)\u001b[0m Trainable.setup took 11.668 seconds. If your trainable is slow to initialize, consider setting reuse_actors=True to reduce actor creation overheads.\n"
     ]
    },
    {
     "name": "stderr",
     "output_type": "stream",
     "text": [
      "\u001b[36m(TrainLightGCN pid=264609)\u001b[0m Checkpoint successfully created at: Checkpoint(filesystem=local, path=/home/daviddavo/ray_results/LightGCN_optim=map@10,dao=PancakeSwap,freq=3d,normalize=True,cutoff_date=2023-07-01T00:00:00,fold=9_2024-03-11T02:49:22.390671/TrainLightGCN_7ae91baf_33_batch_size=13,conv_layers=5,embedding_dim=1,fold=9,l2=0.0000,learning_rate=0.1205_2024-03-11_03-37-22/checkpoint_000000)\n"
     ]
    },
    {
     "name": "stderr",
     "output_type": "stream",
     "text": [
      "\u001b[36m(pid=265884)\u001b[0m 2024-03-11 03:42:07.624719: E tensorflow/compiler/xla/stream_executor/cuda/cuda_dnn.cc:9342] Unable to register cuDNN factory: Attempting to register factory for plugin cuDNN when one has already been registered\n",
      "\u001b[36m(pid=265884)\u001b[0m 2024-03-11 03:42:07.624753: E tensorflow/compiler/xla/stream_executor/cuda/cuda_fft.cc:609] Unable to register cuFFT factory: Attempting to register factory for plugin cuFFT when one has already been registered\n",
      "\u001b[36m(pid=265884)\u001b[0m 2024-03-11 03:42:07.624767: E tensorflow/compiler/xla/stream_executor/cuda/cuda_blas.cc:1518] Unable to register cuBLAS factory: Attempting to register factory for plugin cuBLAS when one has already been registered\n"
     ]
    },
    {
     "name": "stderr",
     "output_type": "stream",
     "text": [
      "\u001b[36m(TrainLightGCN pid=265884)\u001b[0m /home/daviddavo/upm-tfm-notebooks/.direnv/python-3.9/lib/python3.9/site-packages/recommenders/models/deeprec/DataModel/ImplicitCF.py:73: FutureWarning: The frame.append method is deprecated and will be removed from pandas in a future version. Use pandas.concat instead.\n",
      "\u001b[36m(TrainLightGCN pid=265884)\u001b[0m   df = train if test is None else train.append(test)\n"
     ]
    },
    {
     "name": "stdout",
     "output_type": "stream",
     "text": [
      "\u001b[36m(TrainLightGCN pid=265884)\u001b[0m Already create adjacency matrix.\n"
     ]
    },
    {
     "name": "stdout",
     "output_type": "stream",
     "text": [
      "\u001b[36m(TrainLightGCN pid=265884)\u001b[0m Already normalize adjacency matrix.\n",
      "\u001b[36m(TrainLightGCN pid=265884)\u001b[0m Using xavier initialization.\n"
     ]
    },
    {
     "name": "stderr",
     "output_type": "stream",
     "text": [
      "\u001b[36m(TrainLightGCN pid=265884)\u001b[0m Trainable.setup took 11.899 seconds. If your trainable is slow to initialize, consider setting reuse_actors=True to reduce actor creation overheads.\n"
     ]
    },
    {
     "name": "stderr",
     "output_type": "stream",
     "text": [
      "\u001b[36m(TrainLightGCN pid=264369)\u001b[0m Checkpoint successfully created at: Checkpoint(filesystem=local, path=/home/daviddavo/ray_results/LightGCN_optim=map@10,dao=PancakeSwap,freq=3d,normalize=True,cutoff_date=2023-07-01T00:00:00,fold=9_2024-03-11T02:49:22.390671/TrainLightGCN_1cfb40c7_32_batch_size=10,conv_layers=1,embedding_dim=13,fold=9,l2=0.0001,learning_rate=0.2058_2024-03-11_03-35-56/checkpoint_000000)\n"
     ]
    },
    {
     "name": "stderr",
     "output_type": "stream",
     "text": [
      "\u001b[36m(pid=266127)\u001b[0m 2024-03-11 03:42:37.604762: E tensorflow/compiler/xla/stream_executor/cuda/cuda_dnn.cc:9342] Unable to register cuDNN factory: Attempting to register factory for plugin cuDNN when one has already been registered\n",
      "\u001b[36m(pid=266127)\u001b[0m 2024-03-11 03:42:37.604797: E tensorflow/compiler/xla/stream_executor/cuda/cuda_fft.cc:609] Unable to register cuFFT factory: Attempting to register factory for plugin cuFFT when one has already been registered\n",
      "\u001b[36m(pid=266127)\u001b[0m 2024-03-11 03:42:37.604814: E tensorflow/compiler/xla/stream_executor/cuda/cuda_blas.cc:1518] Unable to register cuBLAS factory: Attempting to register factory for plugin cuBLAS when one has already been registered\n"
     ]
    },
    {
     "name": "stderr",
     "output_type": "stream",
     "text": [
      "\u001b[36m(TrainLightGCN pid=266127)\u001b[0m /home/daviddavo/upm-tfm-notebooks/.direnv/python-3.9/lib/python3.9/site-packages/recommenders/models/deeprec/DataModel/ImplicitCF.py:73: FutureWarning: The frame.append method is deprecated and will be removed from pandas in a future version. Use pandas.concat instead.\n",
      "\u001b[36m(TrainLightGCN pid=266127)\u001b[0m   df = train if test is None else train.append(test)\n"
     ]
    },
    {
     "name": "stdout",
     "output_type": "stream",
     "text": [
      "\u001b[36m(TrainLightGCN pid=266127)\u001b[0m Already create adjacency matrix.\n"
     ]
    },
    {
     "name": "stdout",
     "output_type": "stream",
     "text": [
      "\u001b[36m(TrainLightGCN pid=266127)\u001b[0m Already normalize adjacency matrix.\n",
      "\u001b[36m(TrainLightGCN pid=266127)\u001b[0m Using xavier initialization.\n"
     ]
    },
    {
     "name": "stderr",
     "output_type": "stream",
     "text": [
      "\u001b[36m(TrainLightGCN pid=266127)\u001b[0m Trainable.setup took 12.010 seconds. If your trainable is slow to initialize, consider setting reuse_actors=True to reduce actor creation overheads.\n"
     ]
    },
    {
     "name": "stderr",
     "output_type": "stream",
     "text": [
      "\u001b[36m(TrainLightGCN pid=264954)\u001b[0m Checkpoint successfully created at: Checkpoint(filesystem=local, path=/home/daviddavo/ray_results/LightGCN_optim=map@10,dao=PancakeSwap,freq=3d,normalize=True,cutoff_date=2023-07-01T00:00:00,fold=9_2024-03-11T02:49:22.390671/TrainLightGCN_c5440e00_34_batch_size=9,conv_layers=5,embedding_dim=2,fold=9,l2=0.0000,learning_rate=0.6499_2024-03-11_03-37-49/checkpoint_000000)\n"
     ]
    },
    {
     "name": "stderr",
     "output_type": "stream",
     "text": [
      "\u001b[36m(pid=266563)\u001b[0m 2024-03-11 03:44:12.608936: E tensorflow/compiler/xla/stream_executor/cuda/cuda_dnn.cc:9342] Unable to register cuDNN factory: Attempting to register factory for plugin cuDNN when one has already been registered\n",
      "\u001b[36m(pid=266563)\u001b[0m 2024-03-11 03:44:12.608973: E tensorflow/compiler/xla/stream_executor/cuda/cuda_fft.cc:609] Unable to register cuFFT factory: Attempting to register factory for plugin cuFFT when one has already been registered\n",
      "\u001b[36m(pid=266563)\u001b[0m 2024-03-11 03:44:12.608988: E tensorflow/compiler/xla/stream_executor/cuda/cuda_blas.cc:1518] Unable to register cuBLAS factory: Attempting to register factory for plugin cuBLAS when one has already been registered\n"
     ]
    },
    {
     "name": "stderr",
     "output_type": "stream",
     "text": [
      "\u001b[36m(TrainLightGCN pid=266563)\u001b[0m /home/daviddavo/upm-tfm-notebooks/.direnv/python-3.9/lib/python3.9/site-packages/recommenders/models/deeprec/DataModel/ImplicitCF.py:73: FutureWarning: The frame.append method is deprecated and will be removed from pandas in a future version. Use pandas.concat instead.\n",
      "\u001b[36m(TrainLightGCN pid=266563)\u001b[0m   df = train if test is None else train.append(test)\n"
     ]
    },
    {
     "name": "stdout",
     "output_type": "stream",
     "text": [
      "\u001b[36m(TrainLightGCN pid=266563)\u001b[0m Already create adjacency matrix.\n"
     ]
    },
    {
     "name": "stdout",
     "output_type": "stream",
     "text": [
      "\u001b[36m(TrainLightGCN pid=266563)\u001b[0m Already normalize adjacency matrix.\n",
      "\u001b[36m(TrainLightGCN pid=266563)\u001b[0m Using xavier initialization.\n"
     ]
    },
    {
     "name": "stderr",
     "output_type": "stream",
     "text": [
      "\u001b[36m(TrainLightGCN pid=266563)\u001b[0m Trainable.setup took 11.986 seconds. If your trainable is slow to initialize, consider setting reuse_actors=True to reduce actor creation overheads.\n"
     ]
    },
    {
     "name": "stderr",
     "output_type": "stream",
     "text": [
      "\u001b[36m(TrainLightGCN pid=265538)\u001b[0m Checkpoint successfully created at: Checkpoint(filesystem=local, path=/home/daviddavo/ray_results/LightGCN_optim=map@10,dao=PancakeSwap,freq=3d,normalize=True,cutoff_date=2023-07-01T00:00:00,fold=9_2024-03-11T02:49:22.390671/TrainLightGCN_e55e0c90_35_batch_size=10,conv_layers=2,embedding_dim=12,fold=9,l2=0.0002,learning_rate=0.0725_2024-03-11_03-38-53/checkpoint_000000)\n"
     ]
    },
    {
     "name": "stderr",
     "output_type": "stream",
     "text": [
      "\u001b[36m(pid=267106)\u001b[0m 2024-03-11 03:46:24.646400: E tensorflow/compiler/xla/stream_executor/cuda/cuda_dnn.cc:9342] Unable to register cuDNN factory: Attempting to register factory for plugin cuDNN when one has already been registered\n",
      "\u001b[36m(pid=267106)\u001b[0m 2024-03-11 03:46:24.646437: E tensorflow/compiler/xla/stream_executor/cuda/cuda_fft.cc:609] Unable to register cuFFT factory: Attempting to register factory for plugin cuFFT when one has already been registered\n",
      "\u001b[36m(pid=267106)\u001b[0m 2024-03-11 03:46:24.646451: E tensorflow/compiler/xla/stream_executor/cuda/cuda_blas.cc:1518] Unable to register cuBLAS factory: Attempting to register factory for plugin cuBLAS when one has already been registered\n"
     ]
    },
    {
     "name": "stderr",
     "output_type": "stream",
     "text": [
      "\u001b[36m(TrainLightGCN pid=267106)\u001b[0m /home/daviddavo/upm-tfm-notebooks/.direnv/python-3.9/lib/python3.9/site-packages/recommenders/models/deeprec/DataModel/ImplicitCF.py:73: FutureWarning: The frame.append method is deprecated and will be removed from pandas in a future version. Use pandas.concat instead.\n",
      "\u001b[36m(TrainLightGCN pid=267106)\u001b[0m   df = train if test is None else train.append(test)\n"
     ]
    },
    {
     "name": "stdout",
     "output_type": "stream",
     "text": [
      "\u001b[36m(TrainLightGCN pid=267106)\u001b[0m Already create adjacency matrix.\n"
     ]
    },
    {
     "name": "stdout",
     "output_type": "stream",
     "text": [
      "\u001b[36m(TrainLightGCN pid=267106)\u001b[0m Already normalize adjacency matrix.\n",
      "\u001b[36m(TrainLightGCN pid=267106)\u001b[0m Using xavier initialization.\n"
     ]
    },
    {
     "name": "stderr",
     "output_type": "stream",
     "text": [
      "\u001b[36m(TrainLightGCN pid=267106)\u001b[0m Trainable.setup took 11.956 seconds. If your trainable is slow to initialize, consider setting reuse_actors=True to reduce actor creation overheads.\n"
     ]
    },
    {
     "name": "stderr",
     "output_type": "stream",
     "text": [
      "\u001b[36m(TrainLightGCN pid=265884)\u001b[0m Checkpoint successfully created at: Checkpoint(filesystem=local, path=/home/daviddavo/ray_results/LightGCN_optim=map@10,dao=PancakeSwap,freq=3d,normalize=True,cutoff_date=2023-07-01T00:00:00,fold=9_2024-03-11T02:49:22.390671/TrainLightGCN_8a148979_36_batch_size=11,conv_layers=5,embedding_dim=197,fold=9,l2=0.0000,learning_rate=0.3638_2024-03-11_03-41-18/checkpoint_000000)\n"
     ]
    },
    {
     "name": "stderr",
     "output_type": "stream",
     "text": [
      "\u001b[36m(pid=267473)\u001b[0m 2024-03-11 03:47:36.654717: E tensorflow/compiler/xla/stream_executor/cuda/cuda_dnn.cc:9342] Unable to register cuDNN factory: Attempting to register factory for plugin cuDNN when one has already been registered\n",
      "\u001b[36m(pid=267473)\u001b[0m 2024-03-11 03:47:36.654754: E tensorflow/compiler/xla/stream_executor/cuda/cuda_fft.cc:609] Unable to register cuFFT factory: Attempting to register factory for plugin cuFFT when one has already been registered\n",
      "\u001b[36m(pid=267473)\u001b[0m 2024-03-11 03:47:36.654768: E tensorflow/compiler/xla/stream_executor/cuda/cuda_blas.cc:1518] Unable to register cuBLAS factory: Attempting to register factory for plugin cuBLAS when one has already been registered\n"
     ]
    },
    {
     "name": "stderr",
     "output_type": "stream",
     "text": [
      "\u001b[36m(TrainLightGCN pid=267473)\u001b[0m /home/daviddavo/upm-tfm-notebooks/.direnv/python-3.9/lib/python3.9/site-packages/recommenders/models/deeprec/DataModel/ImplicitCF.py:73: FutureWarning: The frame.append method is deprecated and will be removed from pandas in a future version. Use pandas.concat instead.\n",
      "\u001b[36m(TrainLightGCN pid=267473)\u001b[0m   df = train if test is None else train.append(test)\n"
     ]
    },
    {
     "name": "stdout",
     "output_type": "stream",
     "text": [
      "\u001b[36m(TrainLightGCN pid=267473)\u001b[0m Already create adjacency matrix.\n"
     ]
    },
    {
     "name": "stdout",
     "output_type": "stream",
     "text": [
      "\u001b[36m(TrainLightGCN pid=267473)\u001b[0m Already normalize adjacency matrix.\n",
      "\u001b[36m(TrainLightGCN pid=267473)\u001b[0m Using xavier initialization.\n"
     ]
    },
    {
     "name": "stderr",
     "output_type": "stream",
     "text": [
      "\u001b[36m(TrainLightGCN pid=267473)\u001b[0m Trainable.setup took 11.698 seconds. If your trainable is slow to initialize, consider setting reuse_actors=True to reduce actor creation overheads.\n"
     ]
    },
    {
     "name": "stderr",
     "output_type": "stream",
     "text": [
      "\u001b[36m(TrainLightGCN pid=266127)\u001b[0m Checkpoint successfully created at: Checkpoint(filesystem=local, path=/home/daviddavo/ray_results/LightGCN_optim=map@10,dao=PancakeSwap,freq=3d,normalize=True,cutoff_date=2023-07-01T00:00:00,fold=9_2024-03-11T02:49:22.390671/TrainLightGCN_4100a0fa_37_batch_size=13,conv_layers=3,embedding_dim=1,fold=9,l2=0.0000,learning_rate=0.1231_2024-03-11_03-42-21/checkpoint_000000)\n"
     ]
    },
    {
     "name": "stderr",
     "output_type": "stream",
     "text": [
      "\u001b[36m(pid=267682)\u001b[0m 2024-03-11 03:47:53.671566: E tensorflow/compiler/xla/stream_executor/cuda/cuda_dnn.cc:9342] Unable to register cuDNN factory: Attempting to register factory for plugin cuDNN when one has already been registered\n",
      "\u001b[36m(pid=267682)\u001b[0m 2024-03-11 03:47:53.671606: E tensorflow/compiler/xla/stream_executor/cuda/cuda_fft.cc:609] Unable to register cuFFT factory: Attempting to register factory for plugin cuFFT when one has already been registered\n",
      "\u001b[36m(pid=267682)\u001b[0m 2024-03-11 03:47:53.671620: E tensorflow/compiler/xla/stream_executor/cuda/cuda_blas.cc:1518] Unable to register cuBLAS factory: Attempting to register factory for plugin cuBLAS when one has already been registered\n"
     ]
    },
    {
     "name": "stderr",
     "output_type": "stream",
     "text": [
      "\u001b[36m(TrainLightGCN pid=267682)\u001b[0m /home/daviddavo/upm-tfm-notebooks/.direnv/python-3.9/lib/python3.9/site-packages/recommenders/models/deeprec/DataModel/ImplicitCF.py:73: FutureWarning: The frame.append method is deprecated and will be removed from pandas in a future version. Use pandas.concat instead.\n",
      "\u001b[36m(TrainLightGCN pid=267682)\u001b[0m   df = train if test is None else train.append(test)\n"
     ]
    },
    {
     "name": "stdout",
     "output_type": "stream",
     "text": [
      "\u001b[36m(TrainLightGCN pid=267682)\u001b[0m Already create adjacency matrix.\n"
     ]
    },
    {
     "name": "stdout",
     "output_type": "stream",
     "text": [
      "\u001b[36m(TrainLightGCN pid=267682)\u001b[0m Already normalize adjacency matrix.\n",
      "\u001b[36m(TrainLightGCN pid=267682)\u001b[0m Using xavier initialization.\n"
     ]
    },
    {
     "name": "stderr",
     "output_type": "stream",
     "text": [
      "\u001b[36m(TrainLightGCN pid=267682)\u001b[0m Trainable.setup took 11.771 seconds. If your trainable is slow to initialize, consider setting reuse_actors=True to reduce actor creation overheads.\n"
     ]
    },
    {
     "name": "stderr",
     "output_type": "stream",
     "text": [
      "\u001b[36m(TrainLightGCN pid=266563)\u001b[0m Checkpoint successfully created at: Checkpoint(filesystem=local, path=/home/daviddavo/ray_results/LightGCN_optim=map@10,dao=PancakeSwap,freq=3d,normalize=True,cutoff_date=2023-07-01T00:00:00,fold=9_2024-03-11T02:49:22.390671/TrainLightGCN_b0dc7e9c_38_batch_size=13,conv_layers=4,embedding_dim=1,fold=9,l2=0.0000,learning_rate=0.0551_2024-03-11_03-42-51/checkpoint_000000)\n"
     ]
    },
    {
     "name": "stderr",
     "output_type": "stream",
     "text": [
      "\u001b[36m(pid=268072)\u001b[0m 2024-03-11 03:49:12.659198: E tensorflow/compiler/xla/stream_executor/cuda/cuda_dnn.cc:9342] Unable to register cuDNN factory: Attempting to register factory for plugin cuDNN when one has already been registered\n",
      "\u001b[36m(pid=268072)\u001b[0m 2024-03-11 03:49:12.659233: E tensorflow/compiler/xla/stream_executor/cuda/cuda_fft.cc:609] Unable to register cuFFT factory: Attempting to register factory for plugin cuFFT when one has already been registered\n",
      "\u001b[36m(pid=268072)\u001b[0m 2024-03-11 03:49:12.659246: E tensorflow/compiler/xla/stream_executor/cuda/cuda_blas.cc:1518] Unable to register cuBLAS factory: Attempting to register factory for plugin cuBLAS when one has already been registered\n"
     ]
    },
    {
     "name": "stderr",
     "output_type": "stream",
     "text": [
      "\u001b[36m(TrainLightGCN pid=268072)\u001b[0m /home/daviddavo/upm-tfm-notebooks/.direnv/python-3.9/lib/python3.9/site-packages/recommenders/models/deeprec/DataModel/ImplicitCF.py:73: FutureWarning: The frame.append method is deprecated and will be removed from pandas in a future version. Use pandas.concat instead.\n",
      "\u001b[36m(TrainLightGCN pid=268072)\u001b[0m   df = train if test is None else train.append(test)\n"
     ]
    },
    {
     "name": "stdout",
     "output_type": "stream",
     "text": [
      "\u001b[36m(TrainLightGCN pid=268072)\u001b[0m Already create adjacency matrix.\n"
     ]
    },
    {
     "name": "stdout",
     "output_type": "stream",
     "text": [
      "\u001b[36m(TrainLightGCN pid=268072)\u001b[0m Already normalize adjacency matrix.\n",
      "\u001b[36m(TrainLightGCN pid=268072)\u001b[0m Using xavier initialization.\n"
     ]
    },
    {
     "name": "stderr",
     "output_type": "stream",
     "text": [
      "\u001b[36m(TrainLightGCN pid=268072)\u001b[0m Trainable.setup took 11.751 seconds. If your trainable is slow to initialize, consider setting reuse_actors=True to reduce actor creation overheads.\n"
     ]
    },
    {
     "name": "stderr",
     "output_type": "stream",
     "text": [
      "\u001b[36m(TrainLightGCN pid=267106)\u001b[0m Checkpoint successfully created at: Checkpoint(filesystem=local, path=/home/daviddavo/ray_results/LightGCN_optim=map@10,dao=PancakeSwap,freq=3d,normalize=True,cutoff_date=2023-07-01T00:00:00,fold=9_2024-03-11T02:49:22.390671/TrainLightGCN_812d8368_39_batch_size=7,conv_layers=5,embedding_dim=3,fold=9,l2=0.0000,learning_rate=0.0820_2024-03-11_03-44-26/checkpoint_000000)\n"
     ]
    },
    {
     "name": "stderr",
     "output_type": "stream",
     "text": [
      "\u001b[36m(pid=268714)\u001b[0m 2024-03-11 03:51:55.728774: E tensorflow/compiler/xla/stream_executor/cuda/cuda_dnn.cc:9342] Unable to register cuDNN factory: Attempting to register factory for plugin cuDNN when one has already been registered\n",
      "\u001b[36m(pid=268714)\u001b[0m 2024-03-11 03:51:55.728811: E tensorflow/compiler/xla/stream_executor/cuda/cuda_fft.cc:609] Unable to register cuFFT factory: Attempting to register factory for plugin cuFFT when one has already been registered\n",
      "\u001b[36m(pid=268714)\u001b[0m 2024-03-11 03:51:55.728827: E tensorflow/compiler/xla/stream_executor/cuda/cuda_blas.cc:1518] Unable to register cuBLAS factory: Attempting to register factory for plugin cuBLAS when one has already been registered\n"
     ]
    },
    {
     "name": "stderr",
     "output_type": "stream",
     "text": [
      "\u001b[36m(TrainLightGCN pid=268714)\u001b[0m /home/daviddavo/upm-tfm-notebooks/.direnv/python-3.9/lib/python3.9/site-packages/recommenders/models/deeprec/DataModel/ImplicitCF.py:73: FutureWarning: The frame.append method is deprecated and will be removed from pandas in a future version. Use pandas.concat instead.\n",
      "\u001b[36m(TrainLightGCN pid=268714)\u001b[0m   df = train if test is None else train.append(test)\n"
     ]
    },
    {
     "name": "stdout",
     "output_type": "stream",
     "text": [
      "\u001b[36m(TrainLightGCN pid=268714)\u001b[0m Already create adjacency matrix.\n"
     ]
    },
    {
     "name": "stdout",
     "output_type": "stream",
     "text": [
      "\u001b[36m(TrainLightGCN pid=268714)\u001b[0m Already normalize adjacency matrix.\n",
      "\u001b[36m(TrainLightGCN pid=268714)\u001b[0m Using xavier initialization.\n"
     ]
    },
    {
     "name": "stderr",
     "output_type": "stream",
     "text": [
      "\u001b[36m(TrainLightGCN pid=268714)\u001b[0m Trainable.setup took 11.726 seconds. If your trainable is slow to initialize, consider setting reuse_actors=True to reduce actor creation overheads.\n"
     ]
    },
    {
     "name": "stderr",
     "output_type": "stream",
     "text": [
      "\u001b[36m(TrainLightGCN pid=267473)\u001b[0m Checkpoint successfully created at: Checkpoint(filesystem=local, path=/home/daviddavo/ray_results/LightGCN_optim=map@10,dao=PancakeSwap,freq=3d,normalize=True,cutoff_date=2023-07-01T00:00:00,fold=9_2024-03-11T02:49:22.390671/TrainLightGCN_5c9e40d6_40_batch_size=9,conv_layers=3,embedding_dim=1,fold=9,l2=0.0000,learning_rate=0.1019_2024-03-11_03-46-38/checkpoint_000000)\n"
     ]
    },
    {
     "name": "stderr",
     "output_type": "stream",
     "text": [
      "\u001b[36m(pid=269053)\u001b[0m 2024-03-11 03:52:58.741294: E tensorflow/compiler/xla/stream_executor/cuda/cuda_dnn.cc:9342] Unable to register cuDNN factory: Attempting to register factory for plugin cuDNN when one has already been registered\n",
      "\u001b[36m(pid=269053)\u001b[0m 2024-03-11 03:52:58.741327: E tensorflow/compiler/xla/stream_executor/cuda/cuda_fft.cc:609] Unable to register cuFFT factory: Attempting to register factory for plugin cuFFT when one has already been registered\n",
      "\u001b[36m(pid=269053)\u001b[0m 2024-03-11 03:52:58.741342: E tensorflow/compiler/xla/stream_executor/cuda/cuda_blas.cc:1518] Unable to register cuBLAS factory: Attempting to register factory for plugin cuBLAS when one has already been registered\n"
     ]
    },
    {
     "name": "stderr",
     "output_type": "stream",
     "text": [
      "\u001b[36m(TrainLightGCN pid=269053)\u001b[0m /home/daviddavo/upm-tfm-notebooks/.direnv/python-3.9/lib/python3.9/site-packages/recommenders/models/deeprec/DataModel/ImplicitCF.py:73: FutureWarning: The frame.append method is deprecated and will be removed from pandas in a future version. Use pandas.concat instead.\n",
      "\u001b[36m(TrainLightGCN pid=269053)\u001b[0m   df = train if test is None else train.append(test)\n"
     ]
    },
    {
     "name": "stdout",
     "output_type": "stream",
     "text": [
      "\u001b[36m(TrainLightGCN pid=269053)\u001b[0m Already create adjacency matrix.\n"
     ]
    },
    {
     "name": "stdout",
     "output_type": "stream",
     "text": [
      "\u001b[36m(TrainLightGCN pid=269053)\u001b[0m Already normalize adjacency matrix.\n",
      "\u001b[36m(TrainLightGCN pid=269053)\u001b[0m Using xavier initialization.\n"
     ]
    },
    {
     "name": "stderr",
     "output_type": "stream",
     "text": [
      "\u001b[36m(TrainLightGCN pid=269053)\u001b[0m Trainable.setup took 11.743 seconds. If your trainable is slow to initialize, consider setting reuse_actors=True to reduce actor creation overheads.\n"
     ]
    },
    {
     "name": "stderr",
     "output_type": "stream",
     "text": [
      "\u001b[36m(TrainLightGCN pid=267682)\u001b[0m Checkpoint successfully created at: Checkpoint(filesystem=local, path=/home/daviddavo/ray_results/LightGCN_optim=map@10,dao=PancakeSwap,freq=3d,normalize=True,cutoff_date=2023-07-01T00:00:00,fold=9_2024-03-11T02:49:22.390671/TrainLightGCN_cf2c477b_41_batch_size=6,conv_layers=1,embedding_dim=2,fold=9,l2=0.0000,learning_rate=0.0458_2024-03-11_03-47-50/checkpoint_000000)\n"
     ]
    },
    {
     "name": "stderr",
     "output_type": "stream",
     "text": [
      "\u001b[36m(pid=269288)\u001b[0m 2024-03-11 03:53:26.704131: E tensorflow/compiler/xla/stream_executor/cuda/cuda_dnn.cc:9342] Unable to register cuDNN factory: Attempting to register factory for plugin cuDNN when one has already been registered\n",
      "\u001b[36m(pid=269288)\u001b[0m 2024-03-11 03:53:26.704168: E tensorflow/compiler/xla/stream_executor/cuda/cuda_fft.cc:609] Unable to register cuFFT factory: Attempting to register factory for plugin cuFFT when one has already been registered\n",
      "\u001b[36m(pid=269288)\u001b[0m 2024-03-11 03:53:26.704183: E tensorflow/compiler/xla/stream_executor/cuda/cuda_blas.cc:1518] Unable to register cuBLAS factory: Attempting to register factory for plugin cuBLAS when one has already been registered\n"
     ]
    },
    {
     "name": "stderr",
     "output_type": "stream",
     "text": [
      "\u001b[36m(TrainLightGCN pid=269288)\u001b[0m /home/daviddavo/upm-tfm-notebooks/.direnv/python-3.9/lib/python3.9/site-packages/recommenders/models/deeprec/DataModel/ImplicitCF.py:73: FutureWarning: The frame.append method is deprecated and will be removed from pandas in a future version. Use pandas.concat instead.\n",
      "\u001b[36m(TrainLightGCN pid=269288)\u001b[0m   df = train if test is None else train.append(test)\n"
     ]
    },
    {
     "name": "stdout",
     "output_type": "stream",
     "text": [
      "\u001b[36m(TrainLightGCN pid=269288)\u001b[0m Already create adjacency matrix.\n"
     ]
    },
    {
     "name": "stdout",
     "output_type": "stream",
     "text": [
      "\u001b[36m(TrainLightGCN pid=269288)\u001b[0m Already normalize adjacency matrix.\n",
      "\u001b[36m(TrainLightGCN pid=269288)\u001b[0m Using xavier initialization.\n"
     ]
    },
    {
     "name": "stderr",
     "output_type": "stream",
     "text": [
      "\u001b[36m(TrainLightGCN pid=269288)\u001b[0m Trainable.setup took 11.726 seconds. If your trainable is slow to initialize, consider setting reuse_actors=True to reduce actor creation overheads.\n"
     ]
    },
    {
     "name": "stderr",
     "output_type": "stream",
     "text": [
      "\u001b[36m(TrainLightGCN pid=268072)\u001b[0m Checkpoint successfully created at: Checkpoint(filesystem=local, path=/home/daviddavo/ray_results/LightGCN_optim=map@10,dao=PancakeSwap,freq=3d,normalize=True,cutoff_date=2023-07-01T00:00:00,fold=9_2024-03-11T02:49:22.390671/TrainLightGCN_54856116_42_batch_size=7,conv_layers=2,embedding_dim=3,fold=9,l2=0.0000,learning_rate=0.1799_2024-03-11_03-48-07/checkpoint_000000)\n"
     ]
    },
    {
     "name": "stderr",
     "output_type": "stream",
     "text": [
      "\u001b[36m(pid=269811)\u001b[0m 2024-03-11 03:55:30.717577: E tensorflow/compiler/xla/stream_executor/cuda/cuda_dnn.cc:9342] Unable to register cuDNN factory: Attempting to register factory for plugin cuDNN when one has already been registered\n",
      "\u001b[36m(pid=269811)\u001b[0m 2024-03-11 03:55:30.717615: E tensorflow/compiler/xla/stream_executor/cuda/cuda_fft.cc:609] Unable to register cuFFT factory: Attempting to register factory for plugin cuFFT when one has already been registered\n",
      "\u001b[36m(pid=269811)\u001b[0m 2024-03-11 03:55:30.717629: E tensorflow/compiler/xla/stream_executor/cuda/cuda_blas.cc:1518] Unable to register cuBLAS factory: Attempting to register factory for plugin cuBLAS when one has already been registered\n"
     ]
    },
    {
     "name": "stderr",
     "output_type": "stream",
     "text": [
      "\u001b[36m(TrainLightGCN pid=269811)\u001b[0m /home/daviddavo/upm-tfm-notebooks/.direnv/python-3.9/lib/python3.9/site-packages/recommenders/models/deeprec/DataModel/ImplicitCF.py:73: FutureWarning: The frame.append method is deprecated and will be removed from pandas in a future version. Use pandas.concat instead.\n",
      "\u001b[36m(TrainLightGCN pid=269811)\u001b[0m   df = train if test is None else train.append(test)\n"
     ]
    },
    {
     "name": "stdout",
     "output_type": "stream",
     "text": [
      "\u001b[36m(TrainLightGCN pid=269811)\u001b[0m Already create adjacency matrix.\n"
     ]
    },
    {
     "name": "stdout",
     "output_type": "stream",
     "text": [
      "\u001b[36m(TrainLightGCN pid=269811)\u001b[0m Already normalize adjacency matrix.\n",
      "\u001b[36m(TrainLightGCN pid=269811)\u001b[0m Using xavier initialization.\n"
     ]
    },
    {
     "name": "stderr",
     "output_type": "stream",
     "text": [
      "\u001b[36m(TrainLightGCN pid=269811)\u001b[0m Trainable.setup took 11.726 seconds. If your trainable is slow to initialize, consider setting reuse_actors=True to reduce actor creation overheads.\n"
     ]
    },
    {
     "name": "stderr",
     "output_type": "stream",
     "text": [
      "\u001b[36m(TrainLightGCN pid=269053)\u001b[0m Checkpoint successfully created at: Checkpoint(filesystem=local, path=/home/daviddavo/ray_results/LightGCN_optim=map@10,dao=PancakeSwap,freq=3d,normalize=True,cutoff_date=2023-07-01T00:00:00,fold=9_2024-03-11T02:49:22.390671/TrainLightGCN_f571aa72_44_batch_size=13,conv_layers=1,embedding_dim=2,fold=9,l2=0.0000,learning_rate=0.0298_2024-03-11_03-52-09/checkpoint_000000)\n"
     ]
    },
    {
     "name": "stderr",
     "output_type": "stream",
     "text": [
      "\u001b[36m(pid=270306)\u001b[0m 2024-03-11 03:57:25.732860: E tensorflow/compiler/xla/stream_executor/cuda/cuda_dnn.cc:9342] Unable to register cuDNN factory: Attempting to register factory for plugin cuDNN when one has already been registered\n",
      "\u001b[36m(pid=270306)\u001b[0m 2024-03-11 03:57:25.732900: E tensorflow/compiler/xla/stream_executor/cuda/cuda_fft.cc:609] Unable to register cuFFT factory: Attempting to register factory for plugin cuFFT when one has already been registered\n",
      "\u001b[36m(pid=270306)\u001b[0m 2024-03-11 03:57:25.732914: E tensorflow/compiler/xla/stream_executor/cuda/cuda_blas.cc:1518] Unable to register cuBLAS factory: Attempting to register factory for plugin cuBLAS when one has already been registered\n"
     ]
    },
    {
     "name": "stderr",
     "output_type": "stream",
     "text": [
      "\u001b[36m(TrainLightGCN pid=270306)\u001b[0m /home/daviddavo/upm-tfm-notebooks/.direnv/python-3.9/lib/python3.9/site-packages/recommenders/models/deeprec/DataModel/ImplicitCF.py:73: FutureWarning: The frame.append method is deprecated and will be removed from pandas in a future version. Use pandas.concat instead.\n",
      "\u001b[36m(TrainLightGCN pid=270306)\u001b[0m   df = train if test is None else train.append(test)\n"
     ]
    },
    {
     "name": "stdout",
     "output_type": "stream",
     "text": [
      "\u001b[36m(TrainLightGCN pid=270306)\u001b[0m Already create adjacency matrix.\n"
     ]
    },
    {
     "name": "stdout",
     "output_type": "stream",
     "text": [
      "\u001b[36m(TrainLightGCN pid=270306)\u001b[0m Already normalize adjacency matrix.\n",
      "\u001b[36m(TrainLightGCN pid=270306)\u001b[0m Using xavier initialization.\n"
     ]
    },
    {
     "name": "stderr",
     "output_type": "stream",
     "text": [
      "\u001b[36m(TrainLightGCN pid=268714)\u001b[0m Checkpoint successfully created at: Checkpoint(filesystem=local, path=/home/daviddavo/ray_results/LightGCN_optim=map@10,dao=PancakeSwap,freq=3d,normalize=True,cutoff_date=2023-07-01T00:00:00,fold=9_2024-03-11T02:49:22.390671/TrainLightGCN_85cf1e8a_43_batch_size=8,conv_layers=3,embedding_dim=6,fold=9,l2=0.0000,learning_rate=0.1019_2024-03-11_03-49-26/checkpoint_000000)\n",
      "\u001b[36m(TrainLightGCN pid=270306)\u001b[0m Trainable.setup took 11.767 seconds. If your trainable is slow to initialize, consider setting reuse_actors=True to reduce actor creation overheads.\n"
     ]
    },
    {
     "name": "stderr",
     "output_type": "stream",
     "text": [
      "\u001b[36m(pid=270482)\u001b[0m 2024-03-11 03:57:40.680331: E tensorflow/compiler/xla/stream_executor/cuda/cuda_dnn.cc:9342] Unable to register cuDNN factory: Attempting to register factory for plugin cuDNN when one has already been registered\n",
      "\u001b[36m(pid=270482)\u001b[0m 2024-03-11 03:57:40.680367: E tensorflow/compiler/xla/stream_executor/cuda/cuda_fft.cc:609] Unable to register cuFFT factory: Attempting to register factory for plugin cuFFT when one has already been registered\n",
      "\u001b[36m(pid=270482)\u001b[0m 2024-03-11 03:57:40.680384: E tensorflow/compiler/xla/stream_executor/cuda/cuda_blas.cc:1518] Unable to register cuBLAS factory: Attempting to register factory for plugin cuBLAS when one has already been registered\n"
     ]
    },
    {
     "name": "stderr",
     "output_type": "stream",
     "text": [
      "\u001b[36m(TrainLightGCN pid=270482)\u001b[0m /home/daviddavo/upm-tfm-notebooks/.direnv/python-3.9/lib/python3.9/site-packages/recommenders/models/deeprec/DataModel/ImplicitCF.py:73: FutureWarning: The frame.append method is deprecated and will be removed from pandas in a future version. Use pandas.concat instead.\n",
      "\u001b[36m(TrainLightGCN pid=270482)\u001b[0m   df = train if test is None else train.append(test)\n"
     ]
    },
    {
     "name": "stdout",
     "output_type": "stream",
     "text": [
      "\u001b[36m(TrainLightGCN pid=270482)\u001b[0m Already create adjacency matrix.\n"
     ]
    },
    {
     "name": "stdout",
     "output_type": "stream",
     "text": [
      "\u001b[36m(TrainLightGCN pid=270482)\u001b[0m Already normalize adjacency matrix.\n",
      "\u001b[36m(TrainLightGCN pid=270482)\u001b[0m Using xavier initialization.\n"
     ]
    },
    {
     "name": "stderr",
     "output_type": "stream",
     "text": [
      "\u001b[36m(TrainLightGCN pid=270482)\u001b[0m Trainable.setup took 11.729 seconds. If your trainable is slow to initialize, consider setting reuse_actors=True to reduce actor creation overheads.\n"
     ]
    },
    {
     "name": "stderr",
     "output_type": "stream",
     "text": [
      "\u001b[36m(TrainLightGCN pid=269288)\u001b[0m Checkpoint successfully created at: Checkpoint(filesystem=local, path=/home/daviddavo/ray_results/LightGCN_optim=map@10,dao=PancakeSwap,freq=3d,normalize=True,cutoff_date=2023-07-01T00:00:00,fold=9_2024-03-11T02:49:22.390671/TrainLightGCN_df8b1683_45_batch_size=11,conv_layers=3,embedding_dim=52,fold=9,l2=0.0000,learning_rate=0.5272_2024-03-11_03-53-12/checkpoint_000000)\n"
     ]
    },
    {
     "name": "stderr",
     "output_type": "stream",
     "text": [
      "\u001b[36m(pid=270862)\u001b[0m 2024-03-11 03:58:48.750580: E tensorflow/compiler/xla/stream_executor/cuda/cuda_dnn.cc:9342] Unable to register cuDNN factory: Attempting to register factory for plugin cuDNN when one has already been registered\n",
      "\u001b[36m(pid=270862)\u001b[0m 2024-03-11 03:58:48.750619: E tensorflow/compiler/xla/stream_executor/cuda/cuda_fft.cc:609] Unable to register cuFFT factory: Attempting to register factory for plugin cuFFT when one has already been registered\n",
      "\u001b[36m(pid=270862)\u001b[0m 2024-03-11 03:58:48.750633: E tensorflow/compiler/xla/stream_executor/cuda/cuda_blas.cc:1518] Unable to register cuBLAS factory: Attempting to register factory for plugin cuBLAS when one has already been registered\n"
     ]
    },
    {
     "name": "stderr",
     "output_type": "stream",
     "text": [
      "\u001b[36m(TrainLightGCN pid=270862)\u001b[0m /home/daviddavo/upm-tfm-notebooks/.direnv/python-3.9/lib/python3.9/site-packages/recommenders/models/deeprec/DataModel/ImplicitCF.py:73: FutureWarning: The frame.append method is deprecated and will be removed from pandas in a future version. Use pandas.concat instead.\n",
      "\u001b[36m(TrainLightGCN pid=270862)\u001b[0m   df = train if test is None else train.append(test)\n"
     ]
    },
    {
     "name": "stdout",
     "output_type": "stream",
     "text": [
      "\u001b[36m(TrainLightGCN pid=270862)\u001b[0m Already create adjacency matrix.\n"
     ]
    },
    {
     "name": "stdout",
     "output_type": "stream",
     "text": [
      "\u001b[36m(TrainLightGCN pid=270862)\u001b[0m Already normalize adjacency matrix.\n",
      "\u001b[36m(TrainLightGCN pid=270862)\u001b[0m Using xavier initialization.\n"
     ]
    },
    {
     "name": "stderr",
     "output_type": "stream",
     "text": [
      "\u001b[36m(TrainLightGCN pid=270862)\u001b[0m Trainable.setup took 11.684 seconds. If your trainable is slow to initialize, consider setting reuse_actors=True to reduce actor creation overheads.\n"
     ]
    },
    {
     "name": "stderr",
     "output_type": "stream",
     "text": [
      "\u001b[36m(TrainLightGCN pid=269811)\u001b[0m Checkpoint successfully created at: Checkpoint(filesystem=local, path=/home/daviddavo/ray_results/LightGCN_optim=map@10,dao=PancakeSwap,freq=3d,normalize=True,cutoff_date=2023-07-01T00:00:00,fold=9_2024-03-11T02:49:22.390671/TrainLightGCN_5e199ed7_46_batch_size=12,conv_layers=2,embedding_dim=4,fold=9,l2=0.0000,learning_rate=0.0452_2024-03-11_03-53-40/checkpoint_000000)\n"
     ]
    },
    {
     "name": "stderr",
     "output_type": "stream",
     "text": [
      "\u001b[36m(pid=271252)\u001b[0m 2024-03-11 04:00:05.762950: E tensorflow/compiler/xla/stream_executor/cuda/cuda_dnn.cc:9342] Unable to register cuDNN factory: Attempting to register factory for plugin cuDNN when one has already been registered\n",
      "\u001b[36m(pid=271252)\u001b[0m 2024-03-11 04:00:05.762987: E tensorflow/compiler/xla/stream_executor/cuda/cuda_fft.cc:609] Unable to register cuFFT factory: Attempting to register factory for plugin cuFFT when one has already been registered\n",
      "\u001b[36m(pid=271252)\u001b[0m 2024-03-11 04:00:05.763002: E tensorflow/compiler/xla/stream_executor/cuda/cuda_blas.cc:1518] Unable to register cuBLAS factory: Attempting to register factory for plugin cuBLAS when one has already been registered\n"
     ]
    },
    {
     "name": "stderr",
     "output_type": "stream",
     "text": [
      "\u001b[36m(TrainLightGCN pid=271252)\u001b[0m /home/daviddavo/upm-tfm-notebooks/.direnv/python-3.9/lib/python3.9/site-packages/recommenders/models/deeprec/DataModel/ImplicitCF.py:73: FutureWarning: The frame.append method is deprecated and will be removed from pandas in a future version. Use pandas.concat instead.\n",
      "\u001b[36m(TrainLightGCN pid=271252)\u001b[0m   df = train if test is None else train.append(test)\n"
     ]
    },
    {
     "name": "stdout",
     "output_type": "stream",
     "text": [
      "\u001b[36m(TrainLightGCN pid=271252)\u001b[0m Already create adjacency matrix.\n"
     ]
    },
    {
     "name": "stdout",
     "output_type": "stream",
     "text": [
      "\u001b[36m(TrainLightGCN pid=271252)\u001b[0m Already normalize adjacency matrix.\n",
      "\u001b[36m(TrainLightGCN pid=271252)\u001b[0m Using xavier initialization.\n"
     ]
    },
    {
     "name": "stderr",
     "output_type": "stream",
     "text": [
      "\u001b[36m(TrainLightGCN pid=271252)\u001b[0m Trainable.setup took 11.823 seconds. If your trainable is slow to initialize, consider setting reuse_actors=True to reduce actor creation overheads.\n"
     ]
    },
    {
     "name": "stderr",
     "output_type": "stream",
     "text": [
      "\u001b[36m(TrainLightGCN pid=270306)\u001b[0m Checkpoint successfully created at: Checkpoint(filesystem=local, path=/home/daviddavo/ray_results/LightGCN_optim=map@10,dao=PancakeSwap,freq=3d,normalize=True,cutoff_date=2023-07-01T00:00:00,fold=9_2024-03-11T02:49:22.390671/TrainLightGCN_30c4022e_47_batch_size=9,conv_layers=3,embedding_dim=1,fold=9,l2=0.0000,learning_rate=0.0683_2024-03-11_03-55-44/checkpoint_000000)\n"
     ]
    },
    {
     "name": "stderr",
     "output_type": "stream",
     "text": [
      "\u001b[36m(pid=271915)\u001b[0m 2024-03-11 04:02:59.765879: E tensorflow/compiler/xla/stream_executor/cuda/cuda_dnn.cc:9342] Unable to register cuDNN factory: Attempting to register factory for plugin cuDNN when one has already been registered\n",
      "\u001b[36m(pid=271915)\u001b[0m 2024-03-11 04:02:59.765916: E tensorflow/compiler/xla/stream_executor/cuda/cuda_fft.cc:609] Unable to register cuFFT factory: Attempting to register factory for plugin cuFFT when one has already been registered\n",
      "\u001b[36m(pid=271915)\u001b[0m 2024-03-11 04:02:59.765930: E tensorflow/compiler/xla/stream_executor/cuda/cuda_blas.cc:1518] Unable to register cuBLAS factory: Attempting to register factory for plugin cuBLAS when one has already been registered\n"
     ]
    },
    {
     "name": "stderr",
     "output_type": "stream",
     "text": [
      "\u001b[36m(TrainLightGCN pid=271915)\u001b[0m /home/daviddavo/upm-tfm-notebooks/.direnv/python-3.9/lib/python3.9/site-packages/recommenders/models/deeprec/DataModel/ImplicitCF.py:73: FutureWarning: The frame.append method is deprecated and will be removed from pandas in a future version. Use pandas.concat instead.\n",
      "\u001b[36m(TrainLightGCN pid=271915)\u001b[0m   df = train if test is None else train.append(test)\n"
     ]
    },
    {
     "name": "stdout",
     "output_type": "stream",
     "text": [
      "\u001b[36m(TrainLightGCN pid=271915)\u001b[0m Already create adjacency matrix.\n"
     ]
    },
    {
     "name": "stdout",
     "output_type": "stream",
     "text": [
      "\u001b[36m(TrainLightGCN pid=271915)\u001b[0m Already normalize adjacency matrix.\n",
      "\u001b[36m(TrainLightGCN pid=271915)\u001b[0m Using xavier initialization.\n"
     ]
    },
    {
     "name": "stderr",
     "output_type": "stream",
     "text": [
      "\u001b[36m(TrainLightGCN pid=271915)\u001b[0m Trainable.setup took 11.923 seconds. If your trainable is slow to initialize, consider setting reuse_actors=True to reduce actor creation overheads.\n"
     ]
    },
    {
     "name": "stderr",
     "output_type": "stream",
     "text": [
      "\u001b[36m(TrainLightGCN pid=270482)\u001b[0m Checkpoint successfully created at: Checkpoint(filesystem=local, path=/home/daviddavo/ray_results/LightGCN_optim=map@10,dao=PancakeSwap,freq=3d,normalize=True,cutoff_date=2023-07-01T00:00:00,fold=9_2024-03-11T02:49:22.390671/TrainLightGCN_90d04414_48_batch_size=8,conv_layers=2,embedding_dim=3,fold=9,l2=0.0000,learning_rate=0.1500_2024-03-11_03-57-39/checkpoint_000000)\n"
     ]
    },
    {
     "name": "stderr",
     "output_type": "stream",
     "text": [
      "\u001b[36m(pid=272189)\u001b[0m 2024-03-11 04:03:39.766515: E tensorflow/compiler/xla/stream_executor/cuda/cuda_dnn.cc:9342] Unable to register cuDNN factory: Attempting to register factory for plugin cuDNN when one has already been registered\n",
      "\u001b[36m(pid=272189)\u001b[0m 2024-03-11 04:03:39.766550: E tensorflow/compiler/xla/stream_executor/cuda/cuda_fft.cc:609] Unable to register cuFFT factory: Attempting to register factory for plugin cuFFT when one has already been registered\n",
      "\u001b[36m(pid=272189)\u001b[0m 2024-03-11 04:03:39.766566: E tensorflow/compiler/xla/stream_executor/cuda/cuda_blas.cc:1518] Unable to register cuBLAS factory: Attempting to register factory for plugin cuBLAS when one has already been registered\n"
     ]
    },
    {
     "name": "stderr",
     "output_type": "stream",
     "text": [
      "\u001b[36m(TrainLightGCN pid=272189)\u001b[0m /home/daviddavo/upm-tfm-notebooks/.direnv/python-3.9/lib/python3.9/site-packages/recommenders/models/deeprec/DataModel/ImplicitCF.py:73: FutureWarning: The frame.append method is deprecated and will be removed from pandas in a future version. Use pandas.concat instead.\n",
      "\u001b[36m(TrainLightGCN pid=272189)\u001b[0m   df = train if test is None else train.append(test)\n"
     ]
    },
    {
     "name": "stdout",
     "output_type": "stream",
     "text": [
      "\u001b[36m(TrainLightGCN pid=272189)\u001b[0m Already create adjacency matrix.\n"
     ]
    },
    {
     "name": "stdout",
     "output_type": "stream",
     "text": [
      "\u001b[36m(TrainLightGCN pid=272189)\u001b[0m Already normalize adjacency matrix.\n",
      "\u001b[36m(TrainLightGCN pid=272189)\u001b[0m Using xavier initialization.\n"
     ]
    },
    {
     "name": "stderr",
     "output_type": "stream",
     "text": [
      "\u001b[36m(TrainLightGCN pid=272189)\u001b[0m Trainable.setup took 12.093 seconds. If your trainable is slow to initialize, consider setting reuse_actors=True to reduce actor creation overheads.\n"
     ]
    },
    {
     "name": "stderr",
     "output_type": "stream",
     "text": [
      "\u001b[36m(TrainLightGCN pid=270862)\u001b[0m Checkpoint successfully created at: Checkpoint(filesystem=local, path=/home/daviddavo/ray_results/LightGCN_optim=map@10,dao=PancakeSwap,freq=3d,normalize=True,cutoff_date=2023-07-01T00:00:00,fold=9_2024-03-11T02:49:22.390671/TrainLightGCN_1a7bd753_49_batch_size=12,conv_layers=4,embedding_dim=1,fold=9,l2=0.0000,learning_rate=0.3855_2024-03-11_03-57-54/checkpoint_000000)\n"
     ]
    },
    {
     "name": "stderr",
     "output_type": "stream",
     "text": [
      "\u001b[36m(pid=272473)\u001b[0m 2024-03-11 04:04:22.760086: E tensorflow/compiler/xla/stream_executor/cuda/cuda_dnn.cc:9342] Unable to register cuDNN factory: Attempting to register factory for plugin cuDNN when one has already been registered\n",
      "\u001b[36m(pid=272473)\u001b[0m 2024-03-11 04:04:22.760122: E tensorflow/compiler/xla/stream_executor/cuda/cuda_fft.cc:609] Unable to register cuFFT factory: Attempting to register factory for plugin cuFFT when one has already been registered\n",
      "\u001b[36m(pid=272473)\u001b[0m 2024-03-11 04:04:22.760137: E tensorflow/compiler/xla/stream_executor/cuda/cuda_blas.cc:1518] Unable to register cuBLAS factory: Attempting to register factory for plugin cuBLAS when one has already been registered\n"
     ]
    },
    {
     "name": "stderr",
     "output_type": "stream",
     "text": [
      "\u001b[36m(TrainLightGCN pid=272473)\u001b[0m /home/daviddavo/upm-tfm-notebooks/.direnv/python-3.9/lib/python3.9/site-packages/recommenders/models/deeprec/DataModel/ImplicitCF.py:73: FutureWarning: The frame.append method is deprecated and will be removed from pandas in a future version. Use pandas.concat instead.\n",
      "\u001b[36m(TrainLightGCN pid=272473)\u001b[0m   df = train if test is None else train.append(test)\n"
     ]
    },
    {
     "name": "stdout",
     "output_type": "stream",
     "text": [
      "\u001b[36m(TrainLightGCN pid=272473)\u001b[0m Already create adjacency matrix.\n"
     ]
    },
    {
     "name": "stdout",
     "output_type": "stream",
     "text": [
      "\u001b[36m(TrainLightGCN pid=272473)\u001b[0m Already normalize adjacency matrix.\n",
      "\u001b[36m(TrainLightGCN pid=272473)\u001b[0m Using xavier initialization.\n"
     ]
    },
    {
     "name": "stderr",
     "output_type": "stream",
     "text": [
      "\u001b[36m(TrainLightGCN pid=272473)\u001b[0m Trainable.setup took 12.284 seconds. If your trainable is slow to initialize, consider setting reuse_actors=True to reduce actor creation overheads.\n"
     ]
    },
    {
     "name": "stderr",
     "output_type": "stream",
     "text": [
      "\u001b[36m(TrainLightGCN pid=271915)\u001b[0m Checkpoint successfully created at: Checkpoint(filesystem=local, path=/home/daviddavo/ray_results/LightGCN_optim=map@10,dao=PancakeSwap,freq=3d,normalize=True,cutoff_date=2023-07-01T00:00:00,fold=9_2024-03-11T02:49:22.390671/TrainLightGCN_6a83f14f_51_batch_size=11,conv_layers=4,embedding_dim=26,fold=9,l2=0.0000,learning_rate=0.2286_2024-03-11_04-00-19/checkpoint_000000)\n"
     ]
    },
    {
     "name": "stderr",
     "output_type": "stream",
     "text": [
      "\u001b[36m(pid=273354)\u001b[0m 2024-03-11 04:08:28.826315: E tensorflow/compiler/xla/stream_executor/cuda/cuda_dnn.cc:9342] Unable to register cuDNN factory: Attempting to register factory for plugin cuDNN when one has already been registered\n",
      "\u001b[36m(pid=273354)\u001b[0m 2024-03-11 04:08:28.826347: E tensorflow/compiler/xla/stream_executor/cuda/cuda_fft.cc:609] Unable to register cuFFT factory: Attempting to register factory for plugin cuFFT when one has already been registered\n",
      "\u001b[36m(pid=273354)\u001b[0m 2024-03-11 04:08:28.826364: E tensorflow/compiler/xla/stream_executor/cuda/cuda_blas.cc:1518] Unable to register cuBLAS factory: Attempting to register factory for plugin cuBLAS when one has already been registered\n"
     ]
    },
    {
     "name": "stderr",
     "output_type": "stream",
     "text": [
      "\u001b[33m(raylet)\u001b[0m [2024-03-11 04:08:29,637 E 29667 29696] (raylet) file_system_monitor.cc:111: /tmp/ray/session_2024-03-10_13-48-36_673092_28795 is over 95% full, available space: 5201645568; capacity: 105089261568. Object creation will fail if spilling is required.\n"
     ]
    },
    {
     "name": "stderr",
     "output_type": "stream",
     "text": [
      "\u001b[36m(TrainLightGCN pid=273354)\u001b[0m /home/daviddavo/upm-tfm-notebooks/.direnv/python-3.9/lib/python3.9/site-packages/recommenders/models/deeprec/DataModel/ImplicitCF.py:73: FutureWarning: The frame.append method is deprecated and will be removed from pandas in a future version. Use pandas.concat instead.\n",
      "\u001b[36m(TrainLightGCN pid=273354)\u001b[0m   df = train if test is None else train.append(test)\n"
     ]
    },
    {
     "name": "stderr",
     "output_type": "stream",
     "text": [
      "\u001b[36m(TrainLightGCN pid=271252)\u001b[0m Checkpoint successfully created at: Checkpoint(filesystem=local, path=/home/daviddavo/ray_results/LightGCN_optim=map@10,dao=PancakeSwap,freq=3d,normalize=True,cutoff_date=2023-07-01T00:00:00,fold=9_2024-03-11T02:49:22.390671/TrainLightGCN_5e631ebf_50_batch_size=7,conv_layers=1,embedding_dim=156,fold=9,l2=0.0000,learning_rate=0.1145_2024-03-11_03-59-02/checkpoint_000000)\n",
      "\u001b[33m(raylet)\u001b[0m [2024-03-11 04:08:39,642 E 29667 29696] (raylet) file_system_monitor.cc:111: /tmp/ray/session_2024-03-10_13-48-36_673092_28795 is over 95% full, available space: 5008982016; capacity: 105089261568. Object creation will fail if spilling is required.\n"
     ]
    },
    {
     "name": "stdout",
     "output_type": "stream",
     "text": [
      "\u001b[36m(TrainLightGCN pid=273354)\u001b[0m Already create adjacency matrix.\n"
     ]
    },
    {
     "name": "stdout",
     "output_type": "stream",
     "text": [
      "\u001b[36m(TrainLightGCN pid=273354)\u001b[0m Already normalize adjacency matrix.\n",
      "\u001b[36m(TrainLightGCN pid=273354)\u001b[0m Using xavier initialization.\n"
     ]
    },
    {
     "name": "stderr",
     "output_type": "stream",
     "text": [
      "\u001b[36m(TrainLightGCN pid=273354)\u001b[0m Trainable.setup took 11.856 seconds. If your trainable is slow to initialize, consider setting reuse_actors=True to reduce actor creation overheads.\n"
     ]
    },
    {
     "name": "stderr",
     "output_type": "stream",
     "text": [
      "\u001b[36m(pid=273530)\u001b[0m 2024-03-11 04:08:43.836273: E tensorflow/compiler/xla/stream_executor/cuda/cuda_dnn.cc:9342] Unable to register cuDNN factory: Attempting to register factory for plugin cuDNN when one has already been registered\n",
      "\u001b[36m(pid=273530)\u001b[0m 2024-03-11 04:08:43.836308: E tensorflow/compiler/xla/stream_executor/cuda/cuda_fft.cc:609] Unable to register cuFFT factory: Attempting to register factory for plugin cuFFT when one has already been registered\n",
      "\u001b[36m(pid=273530)\u001b[0m 2024-03-11 04:08:43.836324: E tensorflow/compiler/xla/stream_executor/cuda/cuda_blas.cc:1518] Unable to register cuBLAS factory: Attempting to register factory for plugin cuBLAS when one has already been registered\n"
     ]
    },
    {
     "name": "stderr",
     "output_type": "stream",
     "text": [
      "\u001b[36m(TrainLightGCN pid=273530)\u001b[0m /home/daviddavo/upm-tfm-notebooks/.direnv/python-3.9/lib/python3.9/site-packages/recommenders/models/deeprec/DataModel/ImplicitCF.py:73: FutureWarning: The frame.append method is deprecated and will be removed from pandas in a future version. Use pandas.concat instead.\n",
      "\u001b[36m(TrainLightGCN pid=273530)\u001b[0m   df = train if test is None else train.append(test)\n"
     ]
    },
    {
     "name": "stderr",
     "output_type": "stream",
     "text": [
      "\u001b[33m(raylet)\u001b[0m [2024-03-11 04:08:49,646 E 29667 29696] (raylet) file_system_monitor.cc:111: /tmp/ray/session_2024-03-10_13-48-36_673092_28795 is over 95% full, available space: 5008924672; capacity: 105089261568. Object creation will fail if spilling is required.\n"
     ]
    },
    {
     "name": "stdout",
     "output_type": "stream",
     "text": [
      "\u001b[36m(TrainLightGCN pid=273530)\u001b[0m Already create adjacency matrix.\n"
     ]
    },
    {
     "name": "stdout",
     "output_type": "stream",
     "text": [
      "\u001b[36m(TrainLightGCN pid=273530)\u001b[0m Already normalize adjacency matrix.\n",
      "\u001b[36m(TrainLightGCN pid=273530)\u001b[0m Using xavier initialization.\n"
     ]
    },
    {
     "name": "stderr",
     "output_type": "stream",
     "text": [
      "\u001b[36m(TrainLightGCN pid=273530)\u001b[0m Trainable.setup took 11.792 seconds. If your trainable is slow to initialize, consider setting reuse_actors=True to reduce actor creation overheads.\n"
     ]
    },
    {
     "name": "stderr",
     "output_type": "stream",
     "text": [
      "\u001b[33m(raylet)\u001b[0m [2024-03-11 04:08:59,651 E 29667 29696] (raylet) file_system_monitor.cc:111: /tmp/ray/session_2024-03-10_13-48-36_673092_28795 is over 95% full, available space: 5008924672; capacity: 105089261568. Object creation will fail if spilling is required.\n"
     ]
    },
    {
     "name": "stderr",
     "output_type": "stream",
     "text": [
      "\u001b[36m(TrainLightGCN pid=272189)\u001b[0m Checkpoint successfully created at: Checkpoint(filesystem=local, path=/home/daviddavo/ray_results/LightGCN_optim=map@10,dao=PancakeSwap,freq=3d,normalize=True,cutoff_date=2023-07-01T00:00:00,fold=9_2024-03-11T02:49:22.390671/TrainLightGCN_f2d298dd_52_batch_size=9,conv_layers=3,embedding_dim=70,fold=9,l2=0.0000,learning_rate=0.1656_2024-03-11_04-03-13/checkpoint_000000)\n"
     ]
    },
    {
     "name": "stderr",
     "output_type": "stream",
     "text": [
      "\u001b[33m(raylet)\u001b[0m [2024-03-11 04:09:09,656 E 29667 29696] (raylet) file_system_monitor.cc:111: /tmp/ray/session_2024-03-10_13-48-36_673092_28795 is over 95% full, available space: 4876967936; capacity: 105089261568. Object creation will fail if spilling is required.\n"
     ]
    },
    {
     "name": "stderr",
     "output_type": "stream",
     "text": [
      "\u001b[36m(pid=273790)\u001b[0m 2024-03-11 04:09:10.875210: E tensorflow/compiler/xla/stream_executor/cuda/cuda_dnn.cc:9342] Unable to register cuDNN factory: Attempting to register factory for plugin cuDNN when one has already been registered\n",
      "\u001b[36m(pid=273790)\u001b[0m 2024-03-11 04:09:10.875244: E tensorflow/compiler/xla/stream_executor/cuda/cuda_fft.cc:609] Unable to register cuFFT factory: Attempting to register factory for plugin cuFFT when one has already been registered\n",
      "\u001b[36m(pid=273790)\u001b[0m 2024-03-11 04:09:10.875258: E tensorflow/compiler/xla/stream_executor/cuda/cuda_blas.cc:1518] Unable to register cuBLAS factory: Attempting to register factory for plugin cuBLAS when one has already been registered\n"
     ]
    },
    {
     "name": "stderr",
     "output_type": "stream",
     "text": [
      "\u001b[36m(TrainLightGCN pid=273790)\u001b[0m /home/daviddavo/upm-tfm-notebooks/.direnv/python-3.9/lib/python3.9/site-packages/recommenders/models/deeprec/DataModel/ImplicitCF.py:73: FutureWarning: The frame.append method is deprecated and will be removed from pandas in a future version. Use pandas.concat instead.\n",
      "\u001b[36m(TrainLightGCN pid=273790)\u001b[0m   df = train if test is None else train.append(test)\n"
     ]
    },
    {
     "name": "stderr",
     "output_type": "stream",
     "text": [
      "\u001b[33m(raylet)\u001b[0m [2024-03-11 04:09:19,660 E 29667 29696] (raylet) file_system_monitor.cc:111: /tmp/ray/session_2024-03-10_13-48-36_673092_28795 is over 95% full, available space: 4876935168; capacity: 105089261568. Object creation will fail if spilling is required.\n"
     ]
    },
    {
     "name": "stdout",
     "output_type": "stream",
     "text": [
      "\u001b[36m(TrainLightGCN pid=273790)\u001b[0m Already create adjacency matrix.\n"
     ]
    },
    {
     "name": "stdout",
     "output_type": "stream",
     "text": [
      "\u001b[36m(TrainLightGCN pid=273790)\u001b[0m Already normalize adjacency matrix.\n"
     ]
    },
    {
     "name": "stdout",
     "output_type": "stream",
     "text": [
      "\u001b[36m(TrainLightGCN pid=273790)\u001b[0m Using xavier initialization.\n"
     ]
    },
    {
     "name": "stderr",
     "output_type": "stream",
     "text": [
      "\u001b[36m(TrainLightGCN pid=273790)\u001b[0m Trainable.setup took 11.715 seconds. If your trainable is slow to initialize, consider setting reuse_actors=True to reduce actor creation overheads.\n"
     ]
    },
    {
     "name": "stderr",
     "output_type": "stream",
     "text": [
      "\u001b[33m(raylet)\u001b[0m [2024-03-11 04:09:29,665 E 29667 29696] (raylet) file_system_monitor.cc:111: /tmp/ray/session_2024-03-10_13-48-36_673092_28795 is over 95% full, available space: 4876922880; capacity: 105089261568. Object creation will fail if spilling is required.\n"
     ]
    },
    {
     "name": "stderr",
     "output_type": "stream",
     "text": [
      "\u001b[33m(raylet)\u001b[0m [2024-03-11 04:09:39,669 E 29667 29696] (raylet) file_system_monitor.cc:111: /tmp/ray/session_2024-03-10_13-48-36_673092_28795 is over 95% full, available space: 4876750848; capacity: 105089261568. Object creation will fail if spilling is required.\n"
     ]
    },
    {
     "name": "stderr",
     "output_type": "stream",
     "text": [
      "\u001b[33m(raylet)\u001b[0m [2024-03-11 04:09:49,674 E 29667 29696] (raylet) file_system_monitor.cc:111: /tmp/ray/session_2024-03-10_13-48-36_673092_28795 is over 95% full, available space: 4876730368; capacity: 105089261568. Object creation will fail if spilling is required.\n"
     ]
    },
    {
     "name": "stderr",
     "output_type": "stream",
     "text": [
      "\u001b[36m(TrainLightGCN pid=272473)\u001b[0m Checkpoint successfully created at: Checkpoint(filesystem=local, path=/home/daviddavo/ray_results/LightGCN_optim=map@10,dao=PancakeSwap,freq=3d,normalize=True,cutoff_date=2023-07-01T00:00:00,fold=9_2024-03-11T02:49:22.390671/TrainLightGCN_8dc4902e_53_batch_size=8,conv_layers=1,embedding_dim=5,fold=9,l2=0.0000,learning_rate=0.5810_2024-03-11_04-03-53/checkpoint_000000)\n"
     ]
    },
    {
     "name": "stderr",
     "output_type": "stream",
     "text": [
      "\u001b[36m(pid=274088)\u001b[0m 2024-03-11 04:09:58.844616: E tensorflow/compiler/xla/stream_executor/cuda/cuda_dnn.cc:9342] Unable to register cuDNN factory: Attempting to register factory for plugin cuDNN when one has already been registered\n",
      "\u001b[36m(pid=274088)\u001b[0m 2024-03-11 04:09:58.844649: E tensorflow/compiler/xla/stream_executor/cuda/cuda_fft.cc:609] Unable to register cuFFT factory: Attempting to register factory for plugin cuFFT when one has already been registered\n",
      "\u001b[36m(pid=274088)\u001b[0m 2024-03-11 04:09:58.844664: E tensorflow/compiler/xla/stream_executor/cuda/cuda_blas.cc:1518] Unable to register cuBLAS factory: Attempting to register factory for plugin cuBLAS when one has already been registered\n"
     ]
    },
    {
     "name": "stderr",
     "output_type": "stream",
     "text": [
      "\u001b[33m(raylet)\u001b[0m [2024-03-11 04:09:59,679 E 29667 29696] (raylet) file_system_monitor.cc:111: /tmp/ray/session_2024-03-10_13-48-36_673092_28795 is over 95% full, available space: 4847562752; capacity: 105089261568. Object creation will fail if spilling is required.\n"
     ]
    },
    {
     "name": "stderr",
     "output_type": "stream",
     "text": [
      "\u001b[36m(TrainLightGCN pid=274088)\u001b[0m /home/daviddavo/upm-tfm-notebooks/.direnv/python-3.9/lib/python3.9/site-packages/recommenders/models/deeprec/DataModel/ImplicitCF.py:73: FutureWarning: The frame.append method is deprecated and will be removed from pandas in a future version. Use pandas.concat instead.\n",
      "\u001b[36m(TrainLightGCN pid=274088)\u001b[0m   df = train if test is None else train.append(test)\n"
     ]
    },
    {
     "name": "stderr",
     "output_type": "stream",
     "text": [
      "\u001b[33m(raylet)\u001b[0m [2024-03-11 04:10:09,684 E 29667 29696] (raylet) file_system_monitor.cc:111: /tmp/ray/session_2024-03-10_13-48-36_673092_28795 is over 95% full, available space: 4847554560; capacity: 105089261568. Object creation will fail if spilling is required.\n"
     ]
    },
    {
     "name": "stdout",
     "output_type": "stream",
     "text": [
      "\u001b[36m(TrainLightGCN pid=274088)\u001b[0m Already create adjacency matrix.\n"
     ]
    },
    {
     "name": "stdout",
     "output_type": "stream",
     "text": [
      "\u001b[36m(TrainLightGCN pid=274088)\u001b[0m Already normalize adjacency matrix.\n",
      "\u001b[36m(TrainLightGCN pid=274088)\u001b[0m Using xavier initialization.\n"
     ]
    },
    {
     "name": "stderr",
     "output_type": "stream",
     "text": [
      "\u001b[36m(TrainLightGCN pid=274088)\u001b[0m Trainable.setup took 11.674 seconds. If your trainable is slow to initialize, consider setting reuse_actors=True to reduce actor creation overheads.\n"
     ]
    },
    {
     "name": "stderr",
     "output_type": "stream",
     "text": [
      "\u001b[33m(raylet)\u001b[0m [2024-03-11 04:10:19,689 E 29667 29696] (raylet) file_system_monitor.cc:111: /tmp/ray/session_2024-03-10_13-48-36_673092_28795 is over 95% full, available space: 4847550464; capacity: 105089261568. Object creation will fail if spilling is required.\n"
     ]
    },
    {
     "name": "stderr",
     "output_type": "stream",
     "text": [
      "\u001b[33m(raylet)\u001b[0m [2024-03-11 04:10:29,694 E 29667 29696] (raylet) file_system_monitor.cc:111: /tmp/ray/session_2024-03-10_13-48-36_673092_28795 is over 95% full, available space: 4847538176; capacity: 105089261568. Object creation will fail if spilling is required.\n"
     ]
    },
    {
     "name": "stderr",
     "output_type": "stream",
     "text": [
      "\u001b[33m(raylet)\u001b[0m [2024-03-11 04:10:39,699 E 29667 29696] (raylet) file_system_monitor.cc:111: /tmp/ray/session_2024-03-10_13-48-36_673092_28795 is over 95% full, available space: 4847357952; capacity: 105089261568. Object creation will fail if spilling is required.\n"
     ]
    },
    {
     "name": "stderr",
     "output_type": "stream",
     "text": [
      "\u001b[33m(raylet)\u001b[0m [2024-03-11 04:10:49,705 E 29667 29696] (raylet) file_system_monitor.cc:111: /tmp/ray/session_2024-03-10_13-48-36_673092_28795 is over 95% full, available space: 4847333376; capacity: 105089261568. Object creation will fail if spilling is required.\n"
     ]
    },
    {
     "name": "stderr",
     "output_type": "stream",
     "text": [
      "\u001b[33m(raylet)\u001b[0m [2024-03-11 04:10:59,711 E 29667 29696] (raylet) file_system_monitor.cc:111: /tmp/ray/session_2024-03-10_13-48-36_673092_28795 is over 95% full, available space: 4847329280; capacity: 105089261568. Object creation will fail if spilling is required.\n"
     ]
    },
    {
     "name": "stderr",
     "output_type": "stream",
     "text": [
      "\u001b[33m(raylet)\u001b[0m [2024-03-11 04:11:09,716 E 29667 29696] (raylet) file_system_monitor.cc:111: /tmp/ray/session_2024-03-10_13-48-36_673092_28795 is over 95% full, available space: 4847325184; capacity: 105089261568. Object creation will fail if spilling is required.\n"
     ]
    },
    {
     "name": "stderr",
     "output_type": "stream",
     "text": [
      "\u001b[33m(raylet)\u001b[0m [2024-03-11 04:11:19,722 E 29667 29696] (raylet) file_system_monitor.cc:111: /tmp/ray/session_2024-03-10_13-48-36_673092_28795 is over 95% full, available space: 4847308800; capacity: 105089261568. Object creation will fail if spilling is required.\n"
     ]
    },
    {
     "name": "stderr",
     "output_type": "stream",
     "text": [
      "\u001b[33m(raylet)\u001b[0m [2024-03-11 04:11:29,727 E 29667 29696] (raylet) file_system_monitor.cc:111: /tmp/ray/session_2024-03-10_13-48-36_673092_28795 is over 95% full, available space: 4847296512; capacity: 105089261568. Object creation will fail if spilling is required.\n"
     ]
    },
    {
     "name": "stderr",
     "output_type": "stream",
     "text": [
      "\u001b[33m(raylet)\u001b[0m [2024-03-11 04:11:39,733 E 29667 29696] (raylet) file_system_monitor.cc:111: /tmp/ray/session_2024-03-10_13-48-36_673092_28795 is over 95% full, available space: 4847112192; capacity: 105089261568. Object creation will fail if spilling is required.\n"
     ]
    },
    {
     "name": "stderr",
     "output_type": "stream",
     "text": [
      "\u001b[33m(raylet)\u001b[0m [2024-03-11 04:11:49,738 E 29667 29696] (raylet) file_system_monitor.cc:111: /tmp/ray/session_2024-03-10_13-48-36_673092_28795 is over 95% full, available space: 4847087616; capacity: 105089261568. Object creation will fail if spilling is required.\n"
     ]
    },
    {
     "name": "stderr",
     "output_type": "stream",
     "text": [
      "\u001b[33m(raylet)\u001b[0m [2024-03-11 04:11:59,743 E 29667 29696] (raylet) file_system_monitor.cc:111: /tmp/ray/session_2024-03-10_13-48-36_673092_28795 is over 95% full, available space: 4847075328; capacity: 105089261568. Object creation will fail if spilling is required.\n"
     ]
    },
    {
     "name": "stderr",
     "output_type": "stream",
     "text": [
      "\u001b[33m(raylet)\u001b[0m [2024-03-11 04:12:09,748 E 29667 29696] (raylet) file_system_monitor.cc:111: /tmp/ray/session_2024-03-10_13-48-36_673092_28795 is over 95% full, available space: 4847075328; capacity: 105089261568. Object creation will fail if spilling is required.\n"
     ]
    },
    {
     "name": "stderr",
     "output_type": "stream",
     "text": [
      "\u001b[33m(raylet)\u001b[0m [2024-03-11 04:12:19,753 E 29667 29696] (raylet) file_system_monitor.cc:111: /tmp/ray/session_2024-03-10_13-48-36_673092_28795 is over 95% full, available space: 4847067136; capacity: 105089261568. Object creation will fail if spilling is required.\n"
     ]
    },
    {
     "name": "stderr",
     "output_type": "stream",
     "text": [
      "\u001b[33m(raylet)\u001b[0m [2024-03-11 04:12:29,758 E 29667 29696] (raylet) file_system_monitor.cc:111: /tmp/ray/session_2024-03-10_13-48-36_673092_28795 is over 95% full, available space: 4847063040; capacity: 105089261568. Object creation will fail if spilling is required.\n"
     ]
    },
    {
     "name": "stderr",
     "output_type": "stream",
     "text": [
      "\u001b[33m(raylet)\u001b[0m [2024-03-11 04:12:39,763 E 29667 29696] (raylet) file_system_monitor.cc:111: /tmp/ray/session_2024-03-10_13-48-36_673092_28795 is over 95% full, available space: 4846886912; capacity: 105089261568. Object creation will fail if spilling is required.\n"
     ]
    },
    {
     "name": "stderr",
     "output_type": "stream",
     "text": [
      "\u001b[33m(raylet)\u001b[0m [2024-03-11 04:12:49,769 E 29667 29696] (raylet) file_system_monitor.cc:111: /tmp/ray/session_2024-03-10_13-48-36_673092_28795 is over 95% full, available space: 4846870528; capacity: 105089261568. Object creation will fail if spilling is required.\n"
     ]
    },
    {
     "name": "stderr",
     "output_type": "stream",
     "text": [
      "\u001b[33m(raylet)\u001b[0m [2024-03-11 04:12:59,774 E 29667 29696] (raylet) file_system_monitor.cc:111: /tmp/ray/session_2024-03-10_13-48-36_673092_28795 is over 95% full, available space: 4846862336; capacity: 105089261568. Object creation will fail if spilling is required.\n"
     ]
    },
    {
     "name": "stderr",
     "output_type": "stream",
     "text": [
      "\u001b[33m(raylet)\u001b[0m [2024-03-11 04:13:09,779 E 29667 29696] (raylet) file_system_monitor.cc:111: /tmp/ray/session_2024-03-10_13-48-36_673092_28795 is over 95% full, available space: 4846858240; capacity: 105089261568. Object creation will fail if spilling is required.\n"
     ]
    },
    {
     "name": "stderr",
     "output_type": "stream",
     "text": [
      "\u001b[33m(raylet)\u001b[0m [2024-03-11 04:13:19,784 E 29667 29696] (raylet) file_system_monitor.cc:111: /tmp/ray/session_2024-03-10_13-48-36_673092_28795 is over 95% full, available space: 4846845952; capacity: 105089261568. Object creation will fail if spilling is required.\n"
     ]
    },
    {
     "name": "stderr",
     "output_type": "stream",
     "text": [
      "\u001b[33m(raylet)\u001b[0m [2024-03-11 04:13:29,790 E 29667 29696] (raylet) file_system_monitor.cc:111: /tmp/ray/session_2024-03-10_13-48-36_673092_28795 is over 95% full, available space: 4846829568; capacity: 105089261568. Object creation will fail if spilling is required.\n"
     ]
    },
    {
     "name": "stderr",
     "output_type": "stream",
     "text": [
      "\u001b[33m(raylet)\u001b[0m [2024-03-11 04:13:39,795 E 29667 29696] (raylet) file_system_monitor.cc:111: /tmp/ray/session_2024-03-10_13-48-36_673092_28795 is over 95% full, available space: 4846649344; capacity: 105089261568. Object creation will fail if spilling is required.\n"
     ]
    },
    {
     "name": "stderr",
     "output_type": "stream",
     "text": [
      "\u001b[33m(raylet)\u001b[0m [2024-03-11 04:13:49,800 E 29667 29696] (raylet) file_system_monitor.cc:111: /tmp/ray/session_2024-03-10_13-48-36_673092_28795 is over 95% full, available space: 4846620672; capacity: 105089261568. Object creation will fail if spilling is required.\n"
     ]
    },
    {
     "name": "stderr",
     "output_type": "stream",
     "text": [
      "\u001b[33m(raylet)\u001b[0m [2024-03-11 04:13:59,805 E 29667 29696] (raylet) file_system_monitor.cc:111: /tmp/ray/session_2024-03-10_13-48-36_673092_28795 is over 95% full, available space: 4846604288; capacity: 105089261568. Object creation will fail if spilling is required.\n"
     ]
    },
    {
     "name": "stderr",
     "output_type": "stream",
     "text": [
      "\u001b[36m(TrainLightGCN pid=273790)\u001b[0m Checkpoint successfully created at: Checkpoint(filesystem=local, path=/home/daviddavo/ray_results/LightGCN_optim=map@10,dao=PancakeSwap,freq=3d,normalize=True,cutoff_date=2023-07-01T00:00:00,fold=9_2024-03-11T02:49:22.390671/TrainLightGCN_98ba10dd_56_batch_size=12,conv_layers=4,embedding_dim=1,fold=9,l2=0.0000,learning_rate=0.0269_2024-03-11_04-08-57/checkpoint_000000)\n"
     ]
    },
    {
     "name": "stderr",
     "output_type": "stream",
     "text": [
      "\u001b[36m(pid=274957)\u001b[0m 2024-03-11 04:14:01.863751: E tensorflow/compiler/xla/stream_executor/cuda/cuda_dnn.cc:9342] Unable to register cuDNN factory: Attempting to register factory for plugin cuDNN when one has already been registered\n",
      "\u001b[36m(pid=274957)\u001b[0m 2024-03-11 04:14:01.863788: E tensorflow/compiler/xla/stream_executor/cuda/cuda_fft.cc:609] Unable to register cuFFT factory: Attempting to register factory for plugin cuFFT when one has already been registered\n",
      "\u001b[36m(pid=274957)\u001b[0m 2024-03-11 04:14:01.863801: E tensorflow/compiler/xla/stream_executor/cuda/cuda_blas.cc:1518] Unable to register cuBLAS factory: Attempting to register factory for plugin cuBLAS when one has already been registered\n"
     ]
    },
    {
     "name": "stderr",
     "output_type": "stream",
     "text": [
      "\u001b[36m(TrainLightGCN pid=274957)\u001b[0m /home/daviddavo/upm-tfm-notebooks/.direnv/python-3.9/lib/python3.9/site-packages/recommenders/models/deeprec/DataModel/ImplicitCF.py:73: FutureWarning: The frame.append method is deprecated and will be removed from pandas in a future version. Use pandas.concat instead.\n",
      "\u001b[36m(TrainLightGCN pid=274957)\u001b[0m   df = train if test is None else train.append(test)\n"
     ]
    },
    {
     "name": "stderr",
     "output_type": "stream",
     "text": [
      "\u001b[36m(TrainLightGCN pid=273530)\u001b[0m Checkpoint successfully created at: Checkpoint(filesystem=local, path=/home/daviddavo/ray_results/LightGCN_optim=map@10,dao=PancakeSwap,freq=3d,normalize=True,cutoff_date=2023-07-01T00:00:00,fold=9_2024-03-11T02:49:22.390671/TrainLightGCN_b820ce09_55_batch_size=11,conv_layers=4,embedding_dim=4,fold=9,l2=0.0077,learning_rate=0.4461_2024-03-11_04-08-42/checkpoint_000000)\u001b[32m [repeated 2x across cluster] (Ray deduplicates logs by default. Set RAY_DEDUP_LOGS=0 to disable log deduplication, or see https://docs.ray.io/en/master/ray-observability/ray-logging.html#log-deduplication for more options.)\u001b[0m\n"
     ]
    },
    {
     "name": "stderr",
     "output_type": "stream",
     "text": [
      "\u001b[33m(raylet)\u001b[0m [2024-03-11 04:14:09,810 E 29667 29696] (raylet) file_system_monitor.cc:111: /tmp/ray/session_2024-03-10_13-48-36_673092_28795 is over 95% full, available space: 4771741696; capacity: 105089261568. Object creation will fail if spilling is required.\n"
     ]
    },
    {
     "name": "stdout",
     "output_type": "stream",
     "text": [
      "\u001b[36m(TrainLightGCN pid=274957)\u001b[0m Already create adjacency matrix.\n"
     ]
    },
    {
     "name": "stdout",
     "output_type": "stream",
     "text": [
      "\u001b[36m(TrainLightGCN pid=274957)\u001b[0m Already normalize adjacency matrix.\n",
      "\u001b[36m(TrainLightGCN pid=274957)\u001b[0m Using xavier initialization.\n"
     ]
    },
    {
     "name": "stderr",
     "output_type": "stream",
     "text": [
      "\u001b[36m(TrainLightGCN pid=274957)\u001b[0m Trainable.setup took 11.656 seconds. If your trainable is slow to initialize, consider setting reuse_actors=True to reduce actor creation overheads.\n"
     ]
    },
    {
     "name": "stderr",
     "output_type": "stream",
     "text": [
      "\u001b[36m(pid=275142)\u001b[0m 2024-03-11 04:14:16.689191: E tensorflow/compiler/xla/stream_executor/cuda/cuda_dnn.cc:9342] Unable to register cuDNN factory: Attempting to register factory for plugin cuDNN when one has already been registered\n",
      "\u001b[36m(pid=275142)\u001b[0m 2024-03-11 04:14:16.689227: E tensorflow/compiler/xla/stream_executor/cuda/cuda_fft.cc:609] Unable to register cuFFT factory: Attempting to register factory for plugin cuFFT when one has already been registered\n",
      "\u001b[36m(pid=275142)\u001b[0m 2024-03-11 04:14:16.689242: E tensorflow/compiler/xla/stream_executor/cuda/cuda_blas.cc:1518] Unable to register cuBLAS factory: Attempting to register factory for plugin cuBLAS when one has already been registered\n"
     ]
    },
    {
     "name": "stderr",
     "output_type": "stream",
     "text": [
      "\u001b[36m(TrainLightGCN pid=275142)\u001b[0m /home/daviddavo/upm-tfm-notebooks/.direnv/python-3.9/lib/python3.9/site-packages/recommenders/models/deeprec/DataModel/ImplicitCF.py:73: FutureWarning: The frame.append method is deprecated and will be removed from pandas in a future version. Use pandas.concat instead.\n",
      "\u001b[36m(TrainLightGCN pid=275142)\u001b[0m   df = train if test is None else train.append(test)\n"
     ]
    },
    {
     "name": "stderr",
     "output_type": "stream",
     "text": [
      "\u001b[33m(raylet)\u001b[0m [2024-03-11 04:14:19,814 E 29667 29696] (raylet) file_system_monitor.cc:111: /tmp/ray/session_2024-03-10_13-48-36_673092_28795 is over 95% full, available space: 4771717120; capacity: 105089261568. Object creation will fail if spilling is required.\n"
     ]
    },
    {
     "name": "stdout",
     "output_type": "stream",
     "text": [
      "\u001b[36m(TrainLightGCN pid=275142)\u001b[0m Already create adjacency matrix.\n"
     ]
    },
    {
     "name": "stdout",
     "output_type": "stream",
     "text": [
      "\u001b[36m(TrainLightGCN pid=275142)\u001b[0m Already normalize adjacency matrix.\n",
      "\u001b[36m(TrainLightGCN pid=275142)\u001b[0m Using xavier initialization.\n"
     ]
    },
    {
     "name": "stderr",
     "output_type": "stream",
     "text": [
      "\u001b[33m(raylet)\u001b[0m [2024-03-11 04:14:29,818 E 29667 29696] (raylet) file_system_monitor.cc:111: /tmp/ray/session_2024-03-10_13-48-36_673092_28795 is over 95% full, available space: 4771717120; capacity: 105089261568. Object creation will fail if spilling is required.\n"
     ]
    },
    {
     "name": "stderr",
     "output_type": "stream",
     "text": [
      "\u001b[36m(TrainLightGCN pid=275142)\u001b[0m Trainable.setup took 11.571 seconds. If your trainable is slow to initialize, consider setting reuse_actors=True to reduce actor creation overheads.\n"
     ]
    },
    {
     "name": "stderr",
     "output_type": "stream",
     "text": [
      "\u001b[36m(pid=275334)\u001b[0m 2024-03-11 04:14:31.450932: E tensorflow/compiler/xla/stream_executor/cuda/cuda_dnn.cc:9342] Unable to register cuDNN factory: Attempting to register factory for plugin cuDNN when one has already been registered\n",
      "\u001b[36m(pid=275334)\u001b[0m 2024-03-11 04:14:31.450968: E tensorflow/compiler/xla/stream_executor/cuda/cuda_fft.cc:609] Unable to register cuFFT factory: Attempting to register factory for plugin cuFFT when one has already been registered\n",
      "\u001b[36m(pid=275334)\u001b[0m 2024-03-11 04:14:31.450982: E tensorflow/compiler/xla/stream_executor/cuda/cuda_blas.cc:1518] Unable to register cuBLAS factory: Attempting to register factory for plugin cuBLAS when one has already been registered\n"
     ]
    },
    {
     "name": "stderr",
     "output_type": "stream",
     "text": [
      "\u001b[36m(TrainLightGCN pid=275334)\u001b[0m /home/daviddavo/upm-tfm-notebooks/.direnv/python-3.9/lib/python3.9/site-packages/recommenders/models/deeprec/DataModel/ImplicitCF.py:73: FutureWarning: The frame.append method is deprecated and will be removed from pandas in a future version. Use pandas.concat instead.\n",
      "\u001b[36m(TrainLightGCN pid=275334)\u001b[0m   df = train if test is None else train.append(test)\n"
     ]
    },
    {
     "name": "stderr",
     "output_type": "stream",
     "text": [
      "\u001b[33m(raylet)\u001b[0m [2024-03-11 04:14:39,823 E 29667 29696] (raylet) file_system_monitor.cc:111: /tmp/ray/session_2024-03-10_13-48-36_673092_28795 is over 95% full, available space: 4771516416; capacity: 105089261568. Object creation will fail if spilling is required.\n"
     ]
    },
    {
     "name": "stdout",
     "output_type": "stream",
     "text": [
      "\u001b[36m(TrainLightGCN pid=275334)\u001b[0m Already create adjacency matrix.\n"
     ]
    },
    {
     "name": "stdout",
     "output_type": "stream",
     "text": [
      "\u001b[36m(TrainLightGCN pid=275334)\u001b[0m Already normalize adjacency matrix.\n",
      "\u001b[36m(TrainLightGCN pid=275334)\u001b[0m Using xavier initialization.\n"
     ]
    },
    {
     "name": "stderr",
     "output_type": "stream",
     "text": [
      "\u001b[36m(TrainLightGCN pid=275334)\u001b[0m Trainable.setup took 11.755 seconds. If your trainable is slow to initialize, consider setting reuse_actors=True to reduce actor creation overheads.\n"
     ]
    },
    {
     "name": "stderr",
     "output_type": "stream",
     "text": [
      "\u001b[33m(raylet)\u001b[0m [2024-03-11 04:14:49,828 E 29667 29696] (raylet) file_system_monitor.cc:111: /tmp/ray/session_2024-03-10_13-48-36_673092_28795 is over 95% full, available space: 4771500032; capacity: 105089261568. Object creation will fail if spilling is required.\n"
     ]
    },
    {
     "name": "stderr",
     "output_type": "stream",
     "text": [
      "\u001b[33m(raylet)\u001b[0m [2024-03-11 04:14:59,834 E 29667 29696] (raylet) file_system_monitor.cc:111: /tmp/ray/session_2024-03-10_13-48-36_673092_28795 is over 95% full, available space: 4771487744; capacity: 105089261568. Object creation will fail if spilling is required.\n"
     ]
    },
    {
     "name": "stderr",
     "output_type": "stream",
     "text": [
      "\u001b[33m(raylet)\u001b[0m [2024-03-11 04:15:09,839 E 29667 29696] (raylet) file_system_monitor.cc:111: /tmp/ray/session_2024-03-10_13-48-36_673092_28795 is over 95% full, available space: 4771483648; capacity: 105089261568. Object creation will fail if spilling is required.\n"
     ]
    },
    {
     "name": "stderr",
     "output_type": "stream",
     "text": [
      "\u001b[33m(raylet)\u001b[0m [2024-03-11 04:15:19,845 E 29667 29696] (raylet) file_system_monitor.cc:111: /tmp/ray/session_2024-03-10_13-48-36_673092_28795 is over 95% full, available space: 4771475456; capacity: 105089261568. Object creation will fail if spilling is required.\n"
     ]
    },
    {
     "name": "stderr",
     "output_type": "stream",
     "text": [
      "\u001b[33m(raylet)\u001b[0m [2024-03-11 04:15:29,851 E 29667 29696] (raylet) file_system_monitor.cc:111: /tmp/ray/session_2024-03-10_13-48-36_673092_28795 is over 95% full, available space: 4771475456; capacity: 105089261568. Object creation will fail if spilling is required.\n"
     ]
    },
    {
     "name": "stderr",
     "output_type": "stream",
     "text": [
      "\u001b[36m(TrainLightGCN pid=274088)\u001b[0m Checkpoint successfully created at: Checkpoint(filesystem=local, path=/home/daviddavo/ray_results/LightGCN_optim=map@10,dao=PancakeSwap,freq=3d,normalize=True,cutoff_date=2023-07-01T00:00:00,fold=9_2024-03-11T02:49:22.390671/TrainLightGCN_d919b9d0_57_batch_size=10,conv_layers=3,embedding_dim=17,fold=9,l2=0.0024,learning_rate=0.0151_2024-03-11_04-09-24/checkpoint_000000)\n"
     ]
    },
    {
     "name": "stderr",
     "output_type": "stream",
     "text": [
      "\u001b[36m(pid=275701)\u001b[0m 2024-03-11 04:15:32.877317: E tensorflow/compiler/xla/stream_executor/cuda/cuda_dnn.cc:9342] Unable to register cuDNN factory: Attempting to register factory for plugin cuDNN when one has already been registered\n",
      "\u001b[36m(pid=275701)\u001b[0m 2024-03-11 04:15:32.877474: E tensorflow/compiler/xla/stream_executor/cuda/cuda_fft.cc:609] Unable to register cuFFT factory: Attempting to register factory for plugin cuFFT when one has already been registered\n",
      "\u001b[36m(pid=275701)\u001b[0m 2024-03-11 04:15:32.877495: E tensorflow/compiler/xla/stream_executor/cuda/cuda_blas.cc:1518] Unable to register cuBLAS factory: Attempting to register factory for plugin cuBLAS when one has already been registered\n"
     ]
    },
    {
     "name": "stderr",
     "output_type": "stream",
     "text": [
      "\u001b[36m(TrainLightGCN pid=275701)\u001b[0m /home/daviddavo/upm-tfm-notebooks/.direnv/python-3.9/lib/python3.9/site-packages/recommenders/models/deeprec/DataModel/ImplicitCF.py:73: FutureWarning: The frame.append method is deprecated and will be removed from pandas in a future version. Use pandas.concat instead.\n",
      "\u001b[36m(TrainLightGCN pid=275701)\u001b[0m   df = train if test is None else train.append(test)\n"
     ]
    },
    {
     "name": "stderr",
     "output_type": "stream",
     "text": [
      "\u001b[33m(raylet)\u001b[0m [2024-03-11 04:15:39,856 E 29667 29696] (raylet) file_system_monitor.cc:111: /tmp/ray/session_2024-03-10_13-48-36_673092_28795 is over 95% full, available space: 4723134464; capacity: 105089261568. Object creation will fail if spilling is required.\n"
     ]
    },
    {
     "name": "stdout",
     "output_type": "stream",
     "text": [
      "\u001b[36m(TrainLightGCN pid=275701)\u001b[0m Already create adjacency matrix.\n"
     ]
    },
    {
     "name": "stdout",
     "output_type": "stream",
     "text": [
      "\u001b[36m(TrainLightGCN pid=275701)\u001b[0m Already normalize adjacency matrix.\n",
      "\u001b[36m(TrainLightGCN pid=275701)\u001b[0m Using xavier initialization.\n"
     ]
    },
    {
     "name": "stderr",
     "output_type": "stream",
     "text": [
      "\u001b[36m(TrainLightGCN pid=275701)\u001b[0m Trainable.setup took 11.888 seconds. If your trainable is slow to initialize, consider setting reuse_actors=True to reduce actor creation overheads.\n"
     ]
    },
    {
     "name": "stderr",
     "output_type": "stream",
     "text": [
      "\u001b[33m(raylet)\u001b[0m [2024-03-11 04:15:49,861 E 29667 29696] (raylet) file_system_monitor.cc:111: /tmp/ray/session_2024-03-10_13-48-36_673092_28795 is over 95% full, available space: 4723113984; capacity: 105089261568. Object creation will fail if spilling is required.\n"
     ]
    },
    {
     "name": "stderr",
     "output_type": "stream",
     "text": [
      "\u001b[33m(raylet)\u001b[0m [2024-03-11 04:15:59,866 E 29667 29696] (raylet) file_system_monitor.cc:111: /tmp/ray/session_2024-03-10_13-48-36_673092_28795 is over 95% full, available space: 4723109888; capacity: 105089261568. Object creation will fail if spilling is required.\n"
     ]
    },
    {
     "name": "stderr",
     "output_type": "stream",
     "text": [
      "\u001b[33m(raylet)\u001b[0m [2024-03-11 04:16:09,871 E 29667 29696] (raylet) file_system_monitor.cc:111: /tmp/ray/session_2024-03-10_13-48-36_673092_28795 is over 95% full, available space: 4723093504; capacity: 105089261568. Object creation will fail if spilling is required.\n"
     ]
    },
    {
     "name": "stderr",
     "output_type": "stream",
     "text": [
      "\u001b[33m(raylet)\u001b[0m [2024-03-11 04:16:19,877 E 29667 29696] (raylet) file_system_monitor.cc:111: /tmp/ray/session_2024-03-10_13-48-36_673092_28795 is over 95% full, available space: 4723085312; capacity: 105089261568. Object creation will fail if spilling is required.\n"
     ]
    },
    {
     "name": "stderr",
     "output_type": "stream",
     "text": [
      "\u001b[33m(raylet)\u001b[0m [2024-03-11 04:16:29,882 E 29667 29696] (raylet) file_system_monitor.cc:111: /tmp/ray/session_2024-03-10_13-48-36_673092_28795 is over 95% full, available space: 4723081216; capacity: 105089261568. Object creation will fail if spilling is required.\n"
     ]
    },
    {
     "name": "stderr",
     "output_type": "stream",
     "text": [
      "\u001b[33m(raylet)\u001b[0m [2024-03-11 04:16:39,888 E 29667 29696] (raylet) file_system_monitor.cc:111: /tmp/ray/session_2024-03-10_13-48-36_673092_28795 is over 95% full, available space: 4722896896; capacity: 105089261568. Object creation will fail if spilling is required.\n"
     ]
    },
    {
     "name": "stderr",
     "output_type": "stream",
     "text": [
      "\u001b[33m(raylet)\u001b[0m [2024-03-11 04:16:49,894 E 29667 29696] (raylet) file_system_monitor.cc:111: /tmp/ray/session_2024-03-10_13-48-36_673092_28795 is over 95% full, available space: 4722876416; capacity: 105089261568. Object creation will fail if spilling is required.\n"
     ]
    },
    {
     "name": "stderr",
     "output_type": "stream",
     "text": [
      "\u001b[33m(raylet)\u001b[0m [2024-03-11 04:16:59,899 E 29667 29696] (raylet) file_system_monitor.cc:111: /tmp/ray/session_2024-03-10_13-48-36_673092_28795 is over 95% full, available space: 4722876416; capacity: 105089261568. Object creation will fail if spilling is required.\n"
     ]
    },
    {
     "name": "stderr",
     "output_type": "stream",
     "text": [
      "\u001b[33m(raylet)\u001b[0m [2024-03-11 04:17:09,904 E 29667 29696] (raylet) file_system_monitor.cc:111: /tmp/ray/session_2024-03-10_13-48-36_673092_28795 is over 95% full, available space: 4722864128; capacity: 105089261568. Object creation will fail if spilling is required.\n"
     ]
    },
    {
     "name": "stderr",
     "output_type": "stream",
     "text": [
      "\u001b[33m(raylet)\u001b[0m [2024-03-11 04:17:19,909 E 29667 29696] (raylet) file_system_monitor.cc:111: /tmp/ray/session_2024-03-10_13-48-36_673092_28795 is over 95% full, available space: 4722855936; capacity: 105089261568. Object creation will fail if spilling is required.\n"
     ]
    },
    {
     "name": "stderr",
     "output_type": "stream",
     "text": [
      "\u001b[33m(raylet)\u001b[0m [2024-03-11 04:17:29,916 E 29667 29696] (raylet) file_system_monitor.cc:111: /tmp/ray/session_2024-03-10_13-48-36_673092_28795 is over 95% full, available space: 4722855936; capacity: 105089261568. Object creation will fail if spilling is required.\n"
     ]
    },
    {
     "name": "stderr",
     "output_type": "stream",
     "text": [
      "\u001b[33m(raylet)\u001b[0m [2024-03-11 04:17:39,921 E 29667 29696] (raylet) file_system_monitor.cc:111: /tmp/ray/session_2024-03-10_13-48-36_673092_28795 is over 95% full, available space: 4722655232; capacity: 105089261568. Object creation will fail if spilling is required.\n"
     ]
    },
    {
     "name": "stderr",
     "output_type": "stream",
     "text": [
      "\u001b[33m(raylet)\u001b[0m [2024-03-11 04:17:49,926 E 29667 29696] (raylet) file_system_monitor.cc:111: /tmp/ray/session_2024-03-10_13-48-36_673092_28795 is over 95% full, available space: 4722638848; capacity: 105089261568. Object creation will fail if spilling is required.\n"
     ]
    },
    {
     "name": "stderr",
     "output_type": "stream",
     "text": [
      "\u001b[33m(raylet)\u001b[0m [2024-03-11 04:17:59,932 E 29667 29696] (raylet) file_system_monitor.cc:111: /tmp/ray/session_2024-03-10_13-48-36_673092_28795 is over 95% full, available space: 4722634752; capacity: 105089261568. Object creation will fail if spilling is required.\n"
     ]
    },
    {
     "name": "stderr",
     "output_type": "stream",
     "text": [
      "\u001b[33m(raylet)\u001b[0m [2024-03-11 04:18:09,937 E 29667 29696] (raylet) file_system_monitor.cc:111: /tmp/ray/session_2024-03-10_13-48-36_673092_28795 is over 95% full, available space: 4722618368; capacity: 105089261568. Object creation will fail if spilling is required.\n"
     ]
    },
    {
     "name": "stderr",
     "output_type": "stream",
     "text": [
      "\u001b[33m(raylet)\u001b[0m [2024-03-11 04:18:19,943 E 29667 29696] (raylet) file_system_monitor.cc:111: /tmp/ray/session_2024-03-10_13-48-36_673092_28795 is over 95% full, available space: 4722601984; capacity: 105089261568. Object creation will fail if spilling is required.\n"
     ]
    },
    {
     "name": "stderr",
     "output_type": "stream",
     "text": [
      "\u001b[33m(raylet)\u001b[0m [2024-03-11 04:18:29,949 E 29667 29696] (raylet) file_system_monitor.cc:111: /tmp/ray/session_2024-03-10_13-48-36_673092_28795 is over 95% full, available space: 4722601984; capacity: 105089261568. Object creation will fail if spilling is required.\n"
     ]
    },
    {
     "name": "stderr",
     "output_type": "stream",
     "text": [
      "\u001b[33m(raylet)\u001b[0m [2024-03-11 04:18:39,956 E 29667 29696] (raylet) file_system_monitor.cc:111: /tmp/ray/session_2024-03-10_13-48-36_673092_28795 is over 95% full, available space: 4722417664; capacity: 105089261568. Object creation will fail if spilling is required.\n"
     ]
    },
    {
     "name": "stderr",
     "output_type": "stream",
     "text": [
      "\u001b[33m(raylet)\u001b[0m [2024-03-11 04:18:49,961 E 29667 29696] (raylet) file_system_monitor.cc:111: /tmp/ray/session_2024-03-10_13-48-36_673092_28795 is over 95% full, available space: 4722401280; capacity: 105089261568. Object creation will fail if spilling is required.\n"
     ]
    },
    {
     "name": "stderr",
     "output_type": "stream",
     "text": [
      "\u001b[33m(raylet)\u001b[0m [2024-03-11 04:18:59,968 E 29667 29696] (raylet) file_system_monitor.cc:111: /tmp/ray/session_2024-03-10_13-48-36_673092_28795 is over 95% full, available space: 4722401280; capacity: 105089261568. Object creation will fail if spilling is required.\n"
     ]
    },
    {
     "name": "stderr",
     "output_type": "stream",
     "text": [
      "\u001b[33m(raylet)\u001b[0m [2024-03-11 04:19:09,974 E 29667 29696] (raylet) file_system_monitor.cc:111: /tmp/ray/session_2024-03-10_13-48-36_673092_28795 is over 95% full, available space: 4722393088; capacity: 105089261568. Object creation will fail if spilling is required.\n"
     ]
    },
    {
     "name": "stderr",
     "output_type": "stream",
     "text": [
      "\u001b[33m(raylet)\u001b[0m [2024-03-11 04:19:19,979 E 29667 29696] (raylet) file_system_monitor.cc:111: /tmp/ray/session_2024-03-10_13-48-36_673092_28795 is over 95% full, available space: 4722384896; capacity: 105089261568. Object creation will fail if spilling is required.\n"
     ]
    },
    {
     "name": "stderr",
     "output_type": "stream",
     "text": [
      "\u001b[33m(raylet)\u001b[0m [2024-03-11 04:19:29,984 E 29667 29696] (raylet) file_system_monitor.cc:111: /tmp/ray/session_2024-03-10_13-48-36_673092_28795 is over 95% full, available space: 4722372608; capacity: 105089261568. Object creation will fail if spilling is required.\n"
     ]
    },
    {
     "name": "stderr",
     "output_type": "stream",
     "text": [
      "\u001b[33m(raylet)\u001b[0m [2024-03-11 04:19:39,990 E 29667 29696] (raylet) file_system_monitor.cc:111: /tmp/ray/session_2024-03-10_13-48-36_673092_28795 is over 95% full, available space: 4722167808; capacity: 105089261568. Object creation will fail if spilling is required.\n"
     ]
    },
    {
     "name": "stderr",
     "output_type": "stream",
     "text": [
      "\u001b[33m(raylet)\u001b[0m [2024-03-11 04:19:49,996 E 29667 29696] (raylet) file_system_monitor.cc:111: /tmp/ray/session_2024-03-10_13-48-36_673092_28795 is over 95% full, available space: 4722151424; capacity: 105089261568. Object creation will fail if spilling is required.\n"
     ]
    },
    {
     "name": "stderr",
     "output_type": "stream",
     "text": [
      "\u001b[33m(raylet)\u001b[0m [2024-03-11 04:20:00,001 E 29667 29696] (raylet) file_system_monitor.cc:111: /tmp/ray/session_2024-03-10_13-48-36_673092_28795 is over 95% full, available space: 4722151424; capacity: 105089261568. Object creation will fail if spilling is required.\n"
     ]
    },
    {
     "name": "stderr",
     "output_type": "stream",
     "text": [
      "\u001b[36m(TrainLightGCN pid=275142)\u001b[0m Checkpoint successfully created at: Checkpoint(filesystem=local, path=/home/daviddavo/ray_results/LightGCN_optim=map@10,dao=PancakeSwap,freq=3d,normalize=True,cutoff_date=2023-07-01T00:00:00,fold=9_2024-03-11T02:49:22.390671/TrainLightGCN_50e0a525_59_batch_size=9,conv_layers=4,embedding_dim=1,fold=9,l2=0.0000,learning_rate=0.3143_2024-03-11_04-14-15/checkpoint_000000)\n"
     ]
    },
    {
     "name": "stderr",
     "output_type": "stream",
     "text": [
      "\u001b[36m(pid=276653)\u001b[0m 2024-03-11 04:20:01.882746: E tensorflow/compiler/xla/stream_executor/cuda/cuda_dnn.cc:9342] Unable to register cuDNN factory: Attempting to register factory for plugin cuDNN when one has already been registered\n",
      "\u001b[36m(pid=276653)\u001b[0m 2024-03-11 04:20:01.882779: E tensorflow/compiler/xla/stream_executor/cuda/cuda_fft.cc:609] Unable to register cuFFT factory: Attempting to register factory for plugin cuFFT when one has already been registered\n",
      "\u001b[36m(pid=276653)\u001b[0m 2024-03-11 04:20:01.882795: E tensorflow/compiler/xla/stream_executor/cuda/cuda_blas.cc:1518] Unable to register cuBLAS factory: Attempting to register factory for plugin cuBLAS when one has already been registered\n"
     ]
    },
    {
     "name": "stderr",
     "output_type": "stream",
     "text": [
      "\u001b[36m(TrainLightGCN pid=276653)\u001b[0m /home/daviddavo/upm-tfm-notebooks/.direnv/python-3.9/lib/python3.9/site-packages/recommenders/models/deeprec/DataModel/ImplicitCF.py:73: FutureWarning: The frame.append method is deprecated and will be removed from pandas in a future version. Use pandas.concat instead.\n",
      "\u001b[36m(TrainLightGCN pid=276653)\u001b[0m   df = train if test is None else train.append(test)\n"
     ]
    },
    {
     "name": "stderr",
     "output_type": "stream",
     "text": [
      "\u001b[33m(raylet)\u001b[0m [2024-03-11 04:20:10,006 E 29667 29696] (raylet) file_system_monitor.cc:111: /tmp/ray/session_2024-03-10_13-48-36_673092_28795 is over 95% full, available space: 4668547072; capacity: 105089261568. Object creation will fail if spilling is required.\n",
      "\u001b[36m(TrainLightGCN pid=274957)\u001b[0m Checkpoint successfully created at: Checkpoint(filesystem=local, path=/home/daviddavo/ray_results/LightGCN_optim=map@10,dao=PancakeSwap,freq=3d,normalize=True,cutoff_date=2023-07-01T00:00:00,fold=9_2024-03-11T02:49:22.390671/TrainLightGCN_e0553f8c_58_batch_size=8,conv_layers=2,embedding_dim=6,fold=9,l2=0.0000,learning_rate=0.0865_2024-03-11_04-10-12/checkpoint_000000)\n"
     ]
    },
    {
     "name": "stdout",
     "output_type": "stream",
     "text": [
      "\u001b[36m(TrainLightGCN pid=276653)\u001b[0m Already create adjacency matrix.\n"
     ]
    },
    {
     "name": "stdout",
     "output_type": "stream",
     "text": [
      "\u001b[36m(TrainLightGCN pid=276653)\u001b[0m Already normalize adjacency matrix.\n",
      "\u001b[36m(TrainLightGCN pid=276653)\u001b[0m Using xavier initialization.\n"
     ]
    },
    {
     "name": "stderr",
     "output_type": "stream",
     "text": [
      "\u001b[36m(TrainLightGCN pid=276653)\u001b[0m Trainable.setup took 11.841 seconds. If your trainable is slow to initialize, consider setting reuse_actors=True to reduce actor creation overheads.\n"
     ]
    },
    {
     "name": "stderr",
     "output_type": "stream",
     "text": [
      "\u001b[36m(pid=276829)\u001b[0m 2024-03-11 04:20:16.887044: E tensorflow/compiler/xla/stream_executor/cuda/cuda_dnn.cc:9342] Unable to register cuDNN factory: Attempting to register factory for plugin cuDNN when one has already been registered\n",
      "\u001b[36m(pid=276829)\u001b[0m 2024-03-11 04:20:16.887082: E tensorflow/compiler/xla/stream_executor/cuda/cuda_fft.cc:609] Unable to register cuFFT factory: Attempting to register factory for plugin cuFFT when one has already been registered\n",
      "\u001b[36m(pid=276829)\u001b[0m 2024-03-11 04:20:16.887096: E tensorflow/compiler/xla/stream_executor/cuda/cuda_blas.cc:1518] Unable to register cuBLAS factory: Attempting to register factory for plugin cuBLAS when one has already been registered\n"
     ]
    },
    {
     "name": "stderr",
     "output_type": "stream",
     "text": [
      "\u001b[36m(TrainLightGCN pid=276829)\u001b[0m /home/daviddavo/upm-tfm-notebooks/.direnv/python-3.9/lib/python3.9/site-packages/recommenders/models/deeprec/DataModel/ImplicitCF.py:73: FutureWarning: The frame.append method is deprecated and will be removed from pandas in a future version. Use pandas.concat instead.\n",
      "\u001b[36m(TrainLightGCN pid=276829)\u001b[0m   df = train if test is None else train.append(test)\n"
     ]
    },
    {
     "name": "stderr",
     "output_type": "stream",
     "text": [
      "\u001b[33m(raylet)\u001b[0m [2024-03-11 04:20:20,011 E 29667 29696] (raylet) file_system_monitor.cc:111: /tmp/ray/session_2024-03-10_13-48-36_673092_28795 is over 95% full, available space: 4668522496; capacity: 105089261568. Object creation will fail if spilling is required.\n"
     ]
    },
    {
     "name": "stdout",
     "output_type": "stream",
     "text": [
      "\u001b[36m(TrainLightGCN pid=276829)\u001b[0m Already create adjacency matrix.\n"
     ]
    },
    {
     "name": "stdout",
     "output_type": "stream",
     "text": [
      "\u001b[36m(TrainLightGCN pid=276829)\u001b[0m Already normalize adjacency matrix.\n",
      "\u001b[36m(TrainLightGCN pid=276829)\u001b[0m Using xavier initialization.\n"
     ]
    },
    {
     "name": "stderr",
     "output_type": "stream",
     "text": [
      "\u001b[33m(raylet)\u001b[0m [2024-03-11 04:20:30,015 E 29667 29696] (raylet) file_system_monitor.cc:111: /tmp/ray/session_2024-03-10_13-48-36_673092_28795 is over 95% full, available space: 4668522496; capacity: 105089261568. Object creation will fail if spilling is required.\n"
     ]
    },
    {
     "name": "stderr",
     "output_type": "stream",
     "text": [
      "\u001b[36m(TrainLightGCN pid=276829)\u001b[0m Trainable.setup took 11.736 seconds. If your trainable is slow to initialize, consider setting reuse_actors=True to reduce actor creation overheads.\n"
     ]
    },
    {
     "name": "stderr",
     "output_type": "stream",
     "text": [
      "\u001b[33m(raylet)\u001b[0m [2024-03-11 04:20:40,020 E 29667 29696] (raylet) file_system_monitor.cc:111: /tmp/ray/session_2024-03-10_13-48-36_673092_28795 is over 95% full, available space: 4668334080; capacity: 105089261568. Object creation will fail if spilling is required.\n"
     ]
    },
    {
     "name": "stderr",
     "output_type": "stream",
     "text": [
      "\u001b[33m(raylet)\u001b[0m [2024-03-11 04:20:50,025 E 29667 29696] (raylet) file_system_monitor.cc:111: /tmp/ray/session_2024-03-10_13-48-36_673092_28795 is over 95% full, available space: 4668313600; capacity: 105089261568. Object creation will fail if spilling is required.\n"
     ]
    },
    {
     "name": "stderr",
     "output_type": "stream",
     "text": [
      "\u001b[33m(raylet)\u001b[0m [2024-03-11 04:21:00,029 E 29667 29696] (raylet) file_system_monitor.cc:111: /tmp/ray/session_2024-03-10_13-48-36_673092_28795 is over 95% full, available space: 4668309504; capacity: 105089261568. Object creation will fail if spilling is required.\n"
     ]
    },
    {
     "name": "stderr",
     "output_type": "stream",
     "text": [
      "\u001b[36m(TrainLightGCN pid=275701)\u001b[0m Checkpoint successfully created at: Checkpoint(filesystem=local, path=/home/daviddavo/ray_results/LightGCN_optim=map@10,dao=PancakeSwap,freq=3d,normalize=True,cutoff_date=2023-07-01T00:00:00,fold=9_2024-03-11T02:49:22.390671/TrainLightGCN_b3ff9ecd_61_batch_size=10,conv_layers=1,embedding_dim=50,fold=9,l2=0.0000,learning_rate=0.2033_2024-03-11_04-14-45/checkpoint_000000)\n"
     ]
    },
    {
     "name": "stderr",
     "output_type": "stream",
     "text": [
      "\u001b[36m(pid=277154)\u001b[0m 2024-03-11 04:21:06.914966: E tensorflow/compiler/xla/stream_executor/cuda/cuda_dnn.cc:9342] Unable to register cuDNN factory: Attempting to register factory for plugin cuDNN when one has already been registered\n",
      "\u001b[36m(pid=277154)\u001b[0m 2024-03-11 04:21:06.915003: E tensorflow/compiler/xla/stream_executor/cuda/cuda_fft.cc:609] Unable to register cuFFT factory: Attempting to register factory for plugin cuFFT when one has already been registered\n",
      "\u001b[36m(pid=277154)\u001b[0m 2024-03-11 04:21:06.915020: E tensorflow/compiler/xla/stream_executor/cuda/cuda_blas.cc:1518] Unable to register cuBLAS factory: Attempting to register factory for plugin cuBLAS when one has already been registered\n"
     ]
    },
    {
     "name": "stderr",
     "output_type": "stream",
     "text": [
      "\u001b[36m(TrainLightGCN pid=277154)\u001b[0m /home/daviddavo/upm-tfm-notebooks/.direnv/python-3.9/lib/python3.9/site-packages/recommenders/models/deeprec/DataModel/ImplicitCF.py:73: FutureWarning: The frame.append method is deprecated and will be removed from pandas in a future version. Use pandas.concat instead.\n",
      "\u001b[36m(TrainLightGCN pid=277154)\u001b[0m   df = train if test is None else train.append(test)\n"
     ]
    },
    {
     "name": "stderr",
     "output_type": "stream",
     "text": [
      "\u001b[33m(raylet)\u001b[0m [2024-03-11 04:21:10,034 E 29667 29696] (raylet) file_system_monitor.cc:111: /tmp/ray/session_2024-03-10_13-48-36_673092_28795 is over 95% full, available space: 4567977984; capacity: 105089261568. Object creation will fail if spilling is required.\n"
     ]
    },
    {
     "name": "stdout",
     "output_type": "stream",
     "text": [
      "\u001b[36m(TrainLightGCN pid=277154)\u001b[0m Already create adjacency matrix.\n"
     ]
    },
    {
     "name": "stderr",
     "output_type": "stream",
     "text": [
      "\u001b[33m(raylet)\u001b[0m [2024-03-11 04:21:20,038 E 29667 29696] (raylet) file_system_monitor.cc:111: /tmp/ray/session_2024-03-10_13-48-36_673092_28795 is over 95% full, available space: 4567961600; capacity: 105089261568. Object creation will fail if spilling is required.\n"
     ]
    },
    {
     "name": "stdout",
     "output_type": "stream",
     "text": [
      "\u001b[36m(TrainLightGCN pid=277154)\u001b[0m Already normalize adjacency matrix.\n",
      "\u001b[36m(TrainLightGCN pid=277154)\u001b[0m Using xavier initialization.\n"
     ]
    },
    {
     "name": "stderr",
     "output_type": "stream",
     "text": [
      "\u001b[36m(TrainLightGCN pid=277154)\u001b[0m Trainable.setup took 11.821 seconds. If your trainable is slow to initialize, consider setting reuse_actors=True to reduce actor creation overheads.\n"
     ]
    },
    {
     "name": "stderr",
     "output_type": "stream",
     "text": [
      "\u001b[33m(raylet)\u001b[0m [2024-03-11 04:21:30,042 E 29667 29696] (raylet) file_system_monitor.cc:111: /tmp/ray/session_2024-03-10_13-48-36_673092_28795 is over 95% full, available space: 4567953408; capacity: 105089261568. Object creation will fail if spilling is required.\n"
     ]
    },
    {
     "name": "stderr",
     "output_type": "stream",
     "text": [
      "\u001b[33m(raylet)\u001b[0m [2024-03-11 04:21:40,046 E 29667 29696] (raylet) file_system_monitor.cc:111: /tmp/ray/session_2024-03-10_13-48-36_673092_28795 is over 95% full, available space: 4567760896; capacity: 105089261568. Object creation will fail if spilling is required.\n"
     ]
    },
    {
     "name": "stderr",
     "output_type": "stream",
     "text": [
      "\u001b[36m(TrainLightGCN pid=275334)\u001b[0m Checkpoint successfully created at: Checkpoint(filesystem=local, path=/home/daviddavo/ray_results/LightGCN_optim=map@10,dao=PancakeSwap,freq=3d,normalize=True,cutoff_date=2023-07-01T00:00:00,fold=9_2024-03-11T02:49:22.390671/TrainLightGCN_e67a409c_60_batch_size=6,conv_layers=3,embedding_dim=34,fold=9,l2=0.0000,learning_rate=0.0393_2024-03-11_04-14-30/checkpoint_000000)\n"
     ]
    },
    {
     "name": "stderr",
     "output_type": "stream",
     "text": [
      "\u001b[36m(pid=277422)\u001b[0m 2024-03-11 04:21:44.950604: E tensorflow/compiler/xla/stream_executor/cuda/cuda_dnn.cc:9342] Unable to register cuDNN factory: Attempting to register factory for plugin cuDNN when one has already been registered\n",
      "\u001b[36m(pid=277422)\u001b[0m 2024-03-11 04:21:44.950638: E tensorflow/compiler/xla/stream_executor/cuda/cuda_fft.cc:609] Unable to register cuFFT factory: Attempting to register factory for plugin cuFFT when one has already been registered\n",
      "\u001b[36m(pid=277422)\u001b[0m 2024-03-11 04:21:44.950653: E tensorflow/compiler/xla/stream_executor/cuda/cuda_blas.cc:1518] Unable to register cuBLAS factory: Attempting to register factory for plugin cuBLAS when one has already been registered\n"
     ]
    },
    {
     "name": "stderr",
     "output_type": "stream",
     "text": [
      "\u001b[36m(TrainLightGCN pid=277422)\u001b[0m /home/daviddavo/upm-tfm-notebooks/.direnv/python-3.9/lib/python3.9/site-packages/recommenders/models/deeprec/DataModel/ImplicitCF.py:73: FutureWarning: The frame.append method is deprecated and will be removed from pandas in a future version. Use pandas.concat instead.\n",
      "\u001b[36m(TrainLightGCN pid=277422)\u001b[0m   df = train if test is None else train.append(test)\n"
     ]
    },
    {
     "name": "stderr",
     "output_type": "stream",
     "text": [
      "\u001b[33m(raylet)\u001b[0m [2024-03-11 04:21:50,052 E 29667 29696] (raylet) file_system_monitor.cc:111: /tmp/ray/session_2024-03-10_13-48-36_673092_28795 is over 95% full, available space: 4492689408; capacity: 105089261568. Object creation will fail if spilling is required.\n"
     ]
    },
    {
     "name": "stdout",
     "output_type": "stream",
     "text": [
      "\u001b[36m(TrainLightGCN pid=277422)\u001b[0m Already create adjacency matrix.\n"
     ]
    },
    {
     "name": "stdout",
     "output_type": "stream",
     "text": [
      "\u001b[36m(TrainLightGCN pid=277422)\u001b[0m Already normalize adjacency matrix.\n",
      "\u001b[36m(TrainLightGCN pid=277422)\u001b[0m Using xavier initialization.\n"
     ]
    },
    {
     "name": "stderr",
     "output_type": "stream",
     "text": [
      "\u001b[36m(TrainLightGCN pid=277422)\u001b[0m Trainable.setup took 11.743 seconds. If your trainable is slow to initialize, consider setting reuse_actors=True to reduce actor creation overheads.\n"
     ]
    },
    {
     "name": "stderr",
     "output_type": "stream",
     "text": [
      "\u001b[33m(raylet)\u001b[0m [2024-03-11 04:22:00,057 E 29667 29696] (raylet) file_system_monitor.cc:111: /tmp/ray/session_2024-03-10_13-48-36_673092_28795 is over 95% full, available space: 4492685312; capacity: 105089261568. Object creation will fail if spilling is required.\n"
     ]
    },
    {
     "name": "stderr",
     "output_type": "stream",
     "text": [
      "\u001b[33m(raylet)\u001b[0m [2024-03-11 04:22:10,062 E 29667 29696] (raylet) file_system_monitor.cc:111: /tmp/ray/session_2024-03-10_13-48-36_673092_28795 is over 95% full, available space: 4492664832; capacity: 105089261568. Object creation will fail if spilling is required.\n"
     ]
    },
    {
     "name": "stderr",
     "output_type": "stream",
     "text": [
      "\u001b[33m(raylet)\u001b[0m [2024-03-11 04:22:20,067 E 29667 29696] (raylet) file_system_monitor.cc:111: /tmp/ray/session_2024-03-10_13-48-36_673092_28795 is over 95% full, available space: 4492648448; capacity: 105089261568. Object creation will fail if spilling is required.\n"
     ]
    },
    {
     "name": "stderr",
     "output_type": "stream",
     "text": [
      "\u001b[33m(raylet)\u001b[0m [2024-03-11 04:22:30,072 E 29667 29696] (raylet) file_system_monitor.cc:111: /tmp/ray/session_2024-03-10_13-48-36_673092_28795 is over 95% full, available space: 4492644352; capacity: 105089261568. Object creation will fail if spilling is required.\n"
     ]
    },
    {
     "name": "stderr",
     "output_type": "stream",
     "text": [
      "\u001b[33m(raylet)\u001b[0m [2024-03-11 04:22:40,077 E 29667 29696] (raylet) file_system_monitor.cc:111: /tmp/ray/session_2024-03-10_13-48-36_673092_28795 is over 95% full, available space: 4492476416; capacity: 105089261568. Object creation will fail if spilling is required.\n"
     ]
    },
    {
     "name": "stderr",
     "output_type": "stream",
     "text": [
      "\u001b[33m(raylet)\u001b[0m [2024-03-11 04:22:50,083 E 29667 29696] (raylet) file_system_monitor.cc:111: /tmp/ray/session_2024-03-10_13-48-36_673092_28795 is over 95% full, available space: 4492460032; capacity: 105089261568. Object creation will fail if spilling is required.\n"
     ]
    },
    {
     "name": "stderr",
     "output_type": "stream",
     "text": [
      "\u001b[33m(raylet)\u001b[0m [2024-03-11 04:23:00,088 E 29667 29696] (raylet) file_system_monitor.cc:111: /tmp/ray/session_2024-03-10_13-48-36_673092_28795 is over 95% full, available space: 4492455936; capacity: 105089261568. Object creation will fail if spilling is required.\n"
     ]
    },
    {
     "name": "stderr",
     "output_type": "stream",
     "text": [
      "\u001b[33m(raylet)\u001b[0m [2024-03-11 04:23:10,093 E 29667 29696] (raylet) file_system_monitor.cc:111: /tmp/ray/session_2024-03-10_13-48-36_673092_28795 is over 95% full, available space: 4492439552; capacity: 105089261568. Object creation will fail if spilling is required.\n"
     ]
    },
    {
     "name": "stderr",
     "output_type": "stream",
     "text": [
      "\u001b[33m(raylet)\u001b[0m [2024-03-11 04:23:20,098 E 29667 29696] (raylet) file_system_monitor.cc:111: /tmp/ray/session_2024-03-10_13-48-36_673092_28795 is over 95% full, available space: 4492431360; capacity: 105089261568. Object creation will fail if spilling is required.\n"
     ]
    },
    {
     "name": "stderr",
     "output_type": "stream",
     "text": [
      "\u001b[33m(raylet)\u001b[0m [2024-03-11 04:23:30,104 E 29667 29696] (raylet) file_system_monitor.cc:111: /tmp/ray/session_2024-03-10_13-48-36_673092_28795 is over 95% full, available space: 4492431360; capacity: 105089261568. Object creation will fail if spilling is required.\n"
     ]
    },
    {
     "name": "stderr",
     "output_type": "stream",
     "text": [
      "\u001b[33m(raylet)\u001b[0m [2024-03-11 04:23:40,109 E 29667 29696] (raylet) file_system_monitor.cc:111: /tmp/ray/session_2024-03-10_13-48-36_673092_28795 is over 95% full, available space: 4492242944; capacity: 105089261568. Object creation will fail if spilling is required.\n"
     ]
    },
    {
     "name": "stderr",
     "output_type": "stream",
     "text": [
      "\u001b[33m(raylet)\u001b[0m [2024-03-11 04:23:50,115 E 29667 29696] (raylet) file_system_monitor.cc:111: /tmp/ray/session_2024-03-10_13-48-36_673092_28795 is over 95% full, available space: 4492218368; capacity: 105089261568. Object creation will fail if spilling is required.\n"
     ]
    },
    {
     "name": "stderr",
     "output_type": "stream",
     "text": [
      "\u001b[33m(raylet)\u001b[0m [2024-03-11 04:24:00,120 E 29667 29696] (raylet) file_system_monitor.cc:111: /tmp/ray/session_2024-03-10_13-48-36_673092_28795 is over 95% full, available space: 4492214272; capacity: 105089261568. Object creation will fail if spilling is required.\n"
     ]
    },
    {
     "name": "stderr",
     "output_type": "stream",
     "text": [
      "\u001b[33m(raylet)\u001b[0m [2024-03-11 04:24:10,125 E 29667 29696] (raylet) file_system_monitor.cc:111: /tmp/ray/session_2024-03-10_13-48-36_673092_28795 is over 95% full, available space: 4492197888; capacity: 105089261568. Object creation will fail if spilling is required.\n"
     ]
    },
    {
     "name": "stderr",
     "output_type": "stream",
     "text": [
      "\u001b[33m(raylet)\u001b[0m [2024-03-11 04:24:20,131 E 29667 29696] (raylet) file_system_monitor.cc:111: /tmp/ray/session_2024-03-10_13-48-36_673092_28795 is over 95% full, available space: 4492185600; capacity: 105089261568. Object creation will fail if spilling is required.\n"
     ]
    },
    {
     "name": "stderr",
     "output_type": "stream",
     "text": [
      "\u001b[33m(raylet)\u001b[0m [2024-03-11 04:24:30,136 E 29667 29696] (raylet) file_system_monitor.cc:111: /tmp/ray/session_2024-03-10_13-48-36_673092_28795 is over 95% full, available space: 4492181504; capacity: 105089261568. Object creation will fail if spilling is required.\n"
     ]
    },
    {
     "name": "stderr",
     "output_type": "stream",
     "text": [
      "\u001b[33m(raylet)\u001b[0m [2024-03-11 04:24:40,142 E 29667 29696] (raylet) file_system_monitor.cc:111: /tmp/ray/session_2024-03-10_13-48-36_673092_28795 is over 95% full, available space: 4492013568; capacity: 105089261568. Object creation will fail if spilling is required.\n"
     ]
    },
    {
     "name": "stderr",
     "output_type": "stream",
     "text": [
      "\u001b[33m(raylet)\u001b[0m [2024-03-11 04:24:50,147 E 29667 29696] (raylet) file_system_monitor.cc:111: /tmp/ray/session_2024-03-10_13-48-36_673092_28795 is over 95% full, available space: 4491993088; capacity: 105089261568. Object creation will fail if spilling is required.\n"
     ]
    },
    {
     "name": "stderr",
     "output_type": "stream",
     "text": [
      "\u001b[33m(raylet)\u001b[0m [2024-03-11 04:25:00,152 E 29667 29696] (raylet) file_system_monitor.cc:111: /tmp/ray/session_2024-03-10_13-48-36_673092_28795 is over 95% full, available space: 4491988992; capacity: 105089261568. Object creation will fail if spilling is required.\n"
     ]
    },
    {
     "name": "stderr",
     "output_type": "stream",
     "text": [
      "\u001b[36m(TrainLightGCN pid=276653)\u001b[0m Checkpoint successfully created at: Checkpoint(filesystem=local, path=/home/daviddavo/ray_results/LightGCN_optim=map@10,dao=PancakeSwap,freq=3d,normalize=True,cutoff_date=2023-07-01T00:00:00,fold=9_2024-03-11T02:49:22.390671/TrainLightGCN_57a0e1a9_62_batch_size=12,conv_layers=4,embedding_dim=3,fold=9,l2=0.0006,learning_rate=0.0521_2024-03-11_04-15-46/checkpoint_000000)\n"
     ]
    },
    {
     "name": "stderr",
     "output_type": "stream",
     "text": [
      "\u001b[36m(pid=278184)\u001b[0m 2024-03-11 04:25:08.947767: E tensorflow/compiler/xla/stream_executor/cuda/cuda_dnn.cc:9342] Unable to register cuDNN factory: Attempting to register factory for plugin cuDNN when one has already been registered\n",
      "\u001b[36m(pid=278184)\u001b[0m 2024-03-11 04:25:08.947806: E tensorflow/compiler/xla/stream_executor/cuda/cuda_fft.cc:609] Unable to register cuFFT factory: Attempting to register factory for plugin cuFFT when one has already been registered\n",
      "\u001b[36m(pid=278184)\u001b[0m 2024-03-11 04:25:08.947820: E tensorflow/compiler/xla/stream_executor/cuda/cuda_blas.cc:1518] Unable to register cuBLAS factory: Attempting to register factory for plugin cuBLAS when one has already been registered\n"
     ]
    },
    {
     "name": "stderr",
     "output_type": "stream",
     "text": [
      "\u001b[33m(raylet)\u001b[0m [2024-03-11 04:25:10,157 E 29667 29696] (raylet) file_system_monitor.cc:111: /tmp/ray/session_2024-03-10_13-48-36_673092_28795 is over 95% full, available space: 4465946624; capacity: 105089261568. Object creation will fail if spilling is required.\n"
     ]
    },
    {
     "name": "stderr",
     "output_type": "stream",
     "text": [
      "\u001b[36m(TrainLightGCN pid=278184)\u001b[0m /home/daviddavo/upm-tfm-notebooks/.direnv/python-3.9/lib/python3.9/site-packages/recommenders/models/deeprec/DataModel/ImplicitCF.py:73: FutureWarning: The frame.append method is deprecated and will be removed from pandas in a future version. Use pandas.concat instead.\n",
      "\u001b[36m(TrainLightGCN pid=278184)\u001b[0m   df = train if test is None else train.append(test)\n"
     ]
    },
    {
     "name": "stderr",
     "output_type": "stream",
     "text": [
      "\u001b[33m(raylet)\u001b[0m [2024-03-11 04:25:20,162 E 29667 29696] (raylet) file_system_monitor.cc:111: /tmp/ray/session_2024-03-10_13-48-36_673092_28795 is over 95% full, available space: 4465934336; capacity: 105089261568. Object creation will fail if spilling is required.\n"
     ]
    },
    {
     "name": "stdout",
     "output_type": "stream",
     "text": [
      "\u001b[36m(TrainLightGCN pid=278184)\u001b[0m Already create adjacency matrix.\n"
     ]
    },
    {
     "name": "stdout",
     "output_type": "stream",
     "text": [
      "\u001b[36m(TrainLightGCN pid=278184)\u001b[0m Already normalize adjacency matrix.\n",
      "\u001b[36m(TrainLightGCN pid=278184)\u001b[0m Using xavier initialization.\n"
     ]
    },
    {
     "name": "stderr",
     "output_type": "stream",
     "text": [
      "\u001b[36m(TrainLightGCN pid=278184)\u001b[0m Trainable.setup took 11.766 seconds. If your trainable is slow to initialize, consider setting reuse_actors=True to reduce actor creation overheads.\n"
     ]
    },
    {
     "name": "stderr",
     "output_type": "stream",
     "text": [
      "\u001b[33m(raylet)\u001b[0m [2024-03-11 04:25:30,168 E 29667 29696] (raylet) file_system_monitor.cc:111: /tmp/ray/session_2024-03-10_13-48-36_673092_28795 is over 95% full, available space: 4465926144; capacity: 105089261568. Object creation will fail if spilling is required.\n"
     ]
    },
    {
     "name": "stderr",
     "output_type": "stream",
     "text": [
      "\u001b[36m(TrainLightGCN pid=277154)\u001b[0m Checkpoint successfully created at: Checkpoint(filesystem=local, path=/home/daviddavo/ray_results/LightGCN_optim=map@10,dao=PancakeSwap,freq=3d,normalize=True,cutoff_date=2023-07-01T00:00:00,fold=9_2024-03-11T02:49:22.390671/TrainLightGCN_ad3db1ca_64_batch_size=13,conv_layers=2,embedding_dim=9,fold=9,l2=0.0000,learning_rate=0.8083_2024-03-11_04-20-30/checkpoint_000000)\n"
     ]
    },
    {
     "name": "stderr",
     "output_type": "stream",
     "text": [
      "\u001b[36m(pid=278408)\u001b[0m 2024-03-11 04:25:31.990108: E tensorflow/compiler/xla/stream_executor/cuda/cuda_dnn.cc:9342] Unable to register cuDNN factory: Attempting to register factory for plugin cuDNN when one has already been registered\n",
      "\u001b[36m(pid=278408)\u001b[0m 2024-03-11 04:25:31.990143: E tensorflow/compiler/xla/stream_executor/cuda/cuda_fft.cc:609] Unable to register cuFFT factory: Attempting to register factory for plugin cuFFT when one has already been registered\n",
      "\u001b[36m(pid=278408)\u001b[0m 2024-03-11 04:25:31.990156: E tensorflow/compiler/xla/stream_executor/cuda/cuda_blas.cc:1518] Unable to register cuBLAS factory: Attempting to register factory for plugin cuBLAS when one has already been registered\n"
     ]
    },
    {
     "name": "stderr",
     "output_type": "stream",
     "text": [
      "\u001b[36m(TrainLightGCN pid=278408)\u001b[0m /home/daviddavo/upm-tfm-notebooks/.direnv/python-3.9/lib/python3.9/site-packages/recommenders/models/deeprec/DataModel/ImplicitCF.py:73: FutureWarning: The frame.append method is deprecated and will be removed from pandas in a future version. Use pandas.concat instead.\n",
      "\u001b[36m(TrainLightGCN pid=278408)\u001b[0m   df = train if test is None else train.append(test)\n"
     ]
    },
    {
     "name": "stderr",
     "output_type": "stream",
     "text": [
      "\u001b[33m(raylet)\u001b[0m [2024-03-11 04:25:40,173 E 29667 29696] (raylet) file_system_monitor.cc:111: /tmp/ray/session_2024-03-10_13-48-36_673092_28795 is over 95% full, available space: 4430237696; capacity: 105089261568. Object creation will fail if spilling is required.\n"
     ]
    },
    {
     "name": "stdout",
     "output_type": "stream",
     "text": [
      "\u001b[36m(TrainLightGCN pid=278408)\u001b[0m Already create adjacency matrix.\n"
     ]
    },
    {
     "name": "stdout",
     "output_type": "stream",
     "text": [
      "\u001b[36m(TrainLightGCN pid=278408)\u001b[0m Already normalize adjacency matrix.\n",
      "\u001b[36m(TrainLightGCN pid=278408)\u001b[0m Using xavier initialization.\n"
     ]
    },
    {
     "name": "stderr",
     "output_type": "stream",
     "text": [
      "\u001b[36m(TrainLightGCN pid=278408)\u001b[0m Trainable.setup took 11.672 seconds. If your trainable is slow to initialize, consider setting reuse_actors=True to reduce actor creation overheads.\n"
     ]
    },
    {
     "name": "stderr",
     "output_type": "stream",
     "text": [
      "\u001b[33m(raylet)\u001b[0m [2024-03-11 04:25:50,178 E 29667 29696] (raylet) file_system_monitor.cc:111: /tmp/ray/session_2024-03-10_13-48-36_673092_28795 is over 95% full, available space: 4430213120; capacity: 105089261568. Object creation will fail if spilling is required.\n"
     ]
    },
    {
     "name": "stderr",
     "output_type": "stream",
     "text": [
      "\u001b[33m(raylet)\u001b[0m [2024-03-11 04:26:00,182 E 29667 29696] (raylet) file_system_monitor.cc:111: /tmp/ray/session_2024-03-10_13-48-36_673092_28795 is over 95% full, available space: 4430209024; capacity: 105089261568. Object creation will fail if spilling is required.\n"
     ]
    },
    {
     "name": "stderr",
     "output_type": "stream",
     "text": [
      "\u001b[36m(TrainLightGCN pid=276829)\u001b[0m Checkpoint successfully created at: Checkpoint(filesystem=local, path=/home/daviddavo/ray_results/LightGCN_optim=map@10,dao=PancakeSwap,freq=3d,normalize=True,cutoff_date=2023-07-01T00:00:00,fold=9_2024-03-11T02:49:22.390671/TrainLightGCN_00b9c382_63_batch_size=7,conv_layers=3,embedding_dim=2,fold=9,l2=0.0000,learning_rate=0.2487_2024-03-11_04-20-15/checkpoint_000000)\n"
     ]
    },
    {
     "name": "stderr",
     "output_type": "stream",
     "text": [
      "\u001b[36m(pid=278673)\u001b[0m 2024-03-11 04:26:06.966445: E tensorflow/compiler/xla/stream_executor/cuda/cuda_dnn.cc:9342] Unable to register cuDNN factory: Attempting to register factory for plugin cuDNN when one has already been registered\n",
      "\u001b[36m(pid=278673)\u001b[0m 2024-03-11 04:26:06.966480: E tensorflow/compiler/xla/stream_executor/cuda/cuda_fft.cc:609] Unable to register cuFFT factory: Attempting to register factory for plugin cuFFT when one has already been registered\n",
      "\u001b[36m(pid=278673)\u001b[0m 2024-03-11 04:26:06.966493: E tensorflow/compiler/xla/stream_executor/cuda/cuda_blas.cc:1518] Unable to register cuBLAS factory: Attempting to register factory for plugin cuBLAS when one has already been registered\n"
     ]
    },
    {
     "name": "stderr",
     "output_type": "stream",
     "text": [
      "\u001b[36m(TrainLightGCN pid=278673)\u001b[0m /home/daviddavo/upm-tfm-notebooks/.direnv/python-3.9/lib/python3.9/site-packages/recommenders/models/deeprec/DataModel/ImplicitCF.py:73: FutureWarning: The frame.append method is deprecated and will be removed from pandas in a future version. Use pandas.concat instead.\n",
      "\u001b[36m(TrainLightGCN pid=278673)\u001b[0m   df = train if test is None else train.append(test)\n"
     ]
    },
    {
     "name": "stderr",
     "output_type": "stream",
     "text": [
      "\u001b[33m(raylet)\u001b[0m [2024-03-11 04:26:10,187 E 29667 29696] (raylet) file_system_monitor.cc:111: /tmp/ray/session_2024-03-10_13-48-36_673092_28795 is over 95% full, available space: 4405760000; capacity: 105089261568. Object creation will fail if spilling is required.\n"
     ]
    },
    {
     "name": "stdout",
     "output_type": "stream",
     "text": [
      "\u001b[36m(TrainLightGCN pid=278673)\u001b[0m Already create adjacency matrix.\n"
     ]
    },
    {
     "name": "stdout",
     "output_type": "stream",
     "text": [
      "\u001b[36m(TrainLightGCN pid=278673)\u001b[0m Already normalize adjacency matrix.\n",
      "\u001b[36m(TrainLightGCN pid=278673)\u001b[0m Using xavier initialization.\n"
     ]
    },
    {
     "name": "stderr",
     "output_type": "stream",
     "text": [
      "\u001b[33m(raylet)\u001b[0m [2024-03-11 04:26:20,192 E 29667 29696] (raylet) file_system_monitor.cc:111: /tmp/ray/session_2024-03-10_13-48-36_673092_28795 is over 95% full, available space: 4405751808; capacity: 105089261568. Object creation will fail if spilling is required.\n"
     ]
    },
    {
     "name": "stderr",
     "output_type": "stream",
     "text": [
      "\u001b[36m(TrainLightGCN pid=278673)\u001b[0m Trainable.setup took 11.675 seconds. If your trainable is slow to initialize, consider setting reuse_actors=True to reduce actor creation overheads.\n"
     ]
    },
    {
     "name": "stderr",
     "output_type": "stream",
     "text": [
      "\u001b[33m(raylet)\u001b[0m [2024-03-11 04:26:30,197 E 29667 29696] (raylet) file_system_monitor.cc:111: /tmp/ray/session_2024-03-10_13-48-36_673092_28795 is over 95% full, available space: 4405751808; capacity: 105089261568. Object creation will fail if spilling is required.\n"
     ]
    },
    {
     "name": "stderr",
     "output_type": "stream",
     "text": [
      "\u001b[33m(raylet)\u001b[0m [2024-03-11 04:26:40,203 E 29667 29696] (raylet) file_system_monitor.cc:111: /tmp/ray/session_2024-03-10_13-48-36_673092_28795 is over 95% full, available space: 4405579776; capacity: 105089261568. Object creation will fail if spilling is required.\n"
     ]
    },
    {
     "name": "stderr",
     "output_type": "stream",
     "text": [
      "\u001b[33m(raylet)\u001b[0m [2024-03-11 04:26:50,208 E 29667 29696] (raylet) file_system_monitor.cc:111: /tmp/ray/session_2024-03-10_13-48-36_673092_28795 is over 95% full, available space: 4405563392; capacity: 105089261568. Object creation will fail if spilling is required.\n"
     ]
    },
    {
     "name": "stderr",
     "output_type": "stream",
     "text": [
      "\u001b[33m(raylet)\u001b[0m [2024-03-11 04:27:00,214 E 29667 29696] (raylet) file_system_monitor.cc:111: /tmp/ray/session_2024-03-10_13-48-36_673092_28795 is over 95% full, available space: 4405559296; capacity: 105089261568. Object creation will fail if spilling is required.\n"
     ]
    },
    {
     "name": "stderr",
     "output_type": "stream",
     "text": [
      "\u001b[33m(raylet)\u001b[0m [2024-03-11 04:27:10,219 E 29667 29696] (raylet) file_system_monitor.cc:111: /tmp/ray/session_2024-03-10_13-48-36_673092_28795 is over 95% full, available space: 4405542912; capacity: 105089261568. Object creation will fail if spilling is required.\n"
     ]
    },
    {
     "name": "stderr",
     "output_type": "stream",
     "text": [
      "\u001b[36m(TrainLightGCN pid=277422)\u001b[0m Checkpoint successfully created at: Checkpoint(filesystem=local, path=/home/daviddavo/ray_results/LightGCN_optim=map@10,dao=PancakeSwap,freq=3d,normalize=True,cutoff_date=2023-07-01T00:00:00,fold=9_2024-03-11T02:49:22.390671/TrainLightGCN_6dc56941_65_batch_size=9,conv_layers=4,embedding_dim=1,fold=9,l2=0.0000,learning_rate=0.0667_2024-03-11_04-21-20/checkpoint_000000)\n"
     ]
    },
    {
     "name": "stderr",
     "output_type": "stream",
     "text": [
      "\u001b[36m(pid=279017)\u001b[0m 2024-03-11 04:27:11.963821: E tensorflow/compiler/xla/stream_executor/cuda/cuda_dnn.cc:9342] Unable to register cuDNN factory: Attempting to register factory for plugin cuDNN when one has already been registered\n",
      "\u001b[36m(pid=279017)\u001b[0m 2024-03-11 04:27:11.963859: E tensorflow/compiler/xla/stream_executor/cuda/cuda_fft.cc:609] Unable to register cuFFT factory: Attempting to register factory for plugin cuFFT when one has already been registered\n",
      "\u001b[36m(pid=279017)\u001b[0m 2024-03-11 04:27:11.963873: E tensorflow/compiler/xla/stream_executor/cuda/cuda_blas.cc:1518] Unable to register cuBLAS factory: Attempting to register factory for plugin cuBLAS when one has already been registered\n"
     ]
    },
    {
     "name": "stderr",
     "output_type": "stream",
     "text": [
      "\u001b[36m(TrainLightGCN pid=279017)\u001b[0m /home/daviddavo/upm-tfm-notebooks/.direnv/python-3.9/lib/python3.9/site-packages/recommenders/models/deeprec/DataModel/ImplicitCF.py:73: FutureWarning: The frame.append method is deprecated and will be removed from pandas in a future version. Use pandas.concat instead.\n",
      "\u001b[36m(TrainLightGCN pid=279017)\u001b[0m   df = train if test is None else train.append(test)\n"
     ]
    },
    {
     "name": "stderr",
     "output_type": "stream",
     "text": [
      "\u001b[33m(raylet)\u001b[0m [2024-03-11 04:27:20,225 E 29667 29696] (raylet) file_system_monitor.cc:111: /tmp/ray/session_2024-03-10_13-48-36_673092_28795 is over 95% full, available space: 4382674944; capacity: 105089261568. Object creation will fail if spilling is required.\n"
     ]
    },
    {
     "name": "stdout",
     "output_type": "stream",
     "text": [
      "\u001b[36m(TrainLightGCN pid=279017)\u001b[0m Already create adjacency matrix.\n"
     ]
    },
    {
     "name": "stdout",
     "output_type": "stream",
     "text": [
      "\u001b[36m(TrainLightGCN pid=279017)\u001b[0m Already normalize adjacency matrix.\n",
      "\u001b[36m(TrainLightGCN pid=279017)\u001b[0m Using xavier initialization.\n"
     ]
    },
    {
     "name": "stderr",
     "output_type": "stream",
     "text": [
      "\u001b[36m(TrainLightGCN pid=279017)\u001b[0m Trainable.setup took 11.663 seconds. If your trainable is slow to initialize, consider setting reuse_actors=True to reduce actor creation overheads.\n"
     ]
    },
    {
     "name": "stderr",
     "output_type": "stream",
     "text": [
      "\u001b[33m(raylet)\u001b[0m [2024-03-11 04:27:30,230 E 29667 29696] (raylet) file_system_monitor.cc:111: /tmp/ray/session_2024-03-10_13-48-36_673092_28795 is over 95% full, available space: 4382666752; capacity: 105089261568. Object creation will fail if spilling is required.\n"
     ]
    },
    {
     "name": "stderr",
     "output_type": "stream",
     "text": [
      "\u001b[33m(raylet)\u001b[0m [2024-03-11 04:27:40,236 E 29667 29696] (raylet) file_system_monitor.cc:111: /tmp/ray/session_2024-03-10_13-48-36_673092_28795 is over 95% full, available space: 4382474240; capacity: 105089261568. Object creation will fail if spilling is required.\n"
     ]
    },
    {
     "name": "stderr",
     "output_type": "stream",
     "text": [
      "\u001b[33m(raylet)\u001b[0m [2024-03-11 04:27:50,241 E 29667 29696] (raylet) file_system_monitor.cc:111: /tmp/ray/session_2024-03-10_13-48-36_673092_28795 is over 95% full, available space: 4382449664; capacity: 105089261568. Object creation will fail if spilling is required.\n"
     ]
    },
    {
     "name": "stderr",
     "output_type": "stream",
     "text": [
      "\u001b[33m(raylet)\u001b[0m [2024-03-11 04:28:00,246 E 29667 29696] (raylet) file_system_monitor.cc:111: /tmp/ray/session_2024-03-10_13-48-36_673092_28795 is over 95% full, available space: 4382449664; capacity: 105089261568. Object creation will fail if spilling is required.\n"
     ]
    },
    {
     "name": "stderr",
     "output_type": "stream",
     "text": [
      "\u001b[33m(raylet)\u001b[0m [2024-03-11 04:28:10,250 E 29667 29696] (raylet) file_system_monitor.cc:111: /tmp/ray/session_2024-03-10_13-48-36_673092_28795 is over 95% full, available space: 4382433280; capacity: 105089261568. Object creation will fail if spilling is required.\n"
     ]
    },
    {
     "name": "stderr",
     "output_type": "stream",
     "text": [
      "\u001b[33m(raylet)\u001b[0m [2024-03-11 04:28:20,255 E 29667 29696] (raylet) file_system_monitor.cc:111: /tmp/ray/session_2024-03-10_13-48-36_673092_28795 is over 95% full, available space: 4382429184; capacity: 105089261568. Object creation will fail if spilling is required.\n"
     ]
    },
    {
     "name": "stderr",
     "output_type": "stream",
     "text": [
      "\u001b[33m(raylet)\u001b[0m [2024-03-11 04:28:30,261 E 29667 29696] (raylet) file_system_monitor.cc:111: /tmp/ray/session_2024-03-10_13-48-36_673092_28795 is over 95% full, available space: 4382425088; capacity: 105089261568. Object creation will fail if spilling is required.\n"
     ]
    },
    {
     "name": "stderr",
     "output_type": "stream",
     "text": [
      "\u001b[33m(raylet)\u001b[0m [2024-03-11 04:28:40,266 E 29667 29696] (raylet) file_system_monitor.cc:111: /tmp/ray/session_2024-03-10_13-48-36_673092_28795 is over 95% full, available space: 4382248960; capacity: 105089261568. Object creation will fail if spilling is required.\n"
     ]
    },
    {
     "name": "stderr",
     "output_type": "stream",
     "text": [
      "\u001b[33m(raylet)\u001b[0m [2024-03-11 04:28:50,271 E 29667 29696] (raylet) file_system_monitor.cc:111: /tmp/ray/session_2024-03-10_13-48-36_673092_28795 is over 95% full, available space: 4382236672; capacity: 105089261568. Object creation will fail if spilling is required.\n"
     ]
    },
    {
     "name": "stderr",
     "output_type": "stream",
     "text": [
      "\u001b[33m(raylet)\u001b[0m [2024-03-11 04:29:00,277 E 29667 29696] (raylet) file_system_monitor.cc:111: /tmp/ray/session_2024-03-10_13-48-36_673092_28795 is over 95% full, available space: 4382232576; capacity: 105089261568. Object creation will fail if spilling is required.\n"
     ]
    },
    {
     "name": "stderr",
     "output_type": "stream",
     "text": [
      "\u001b[33m(raylet)\u001b[0m [2024-03-11 04:29:10,282 E 29667 29696] (raylet) file_system_monitor.cc:111: /tmp/ray/session_2024-03-10_13-48-36_673092_28795 is over 95% full, available space: 4382220288; capacity: 105089261568. Object creation will fail if spilling is required.\n"
     ]
    },
    {
     "name": "stderr",
     "output_type": "stream",
     "text": [
      "\u001b[33m(raylet)\u001b[0m [2024-03-11 04:29:20,288 E 29667 29696] (raylet) file_system_monitor.cc:111: /tmp/ray/session_2024-03-10_13-48-36_673092_28795 is over 95% full, available space: 4382203904; capacity: 105089261568. Object creation will fail if spilling is required.\n"
     ]
    },
    {
     "name": "stderr",
     "output_type": "stream",
     "text": [
      "\u001b[33m(raylet)\u001b[0m [2024-03-11 04:29:30,293 E 29667 29696] (raylet) file_system_monitor.cc:111: /tmp/ray/session_2024-03-10_13-48-36_673092_28795 is over 95% full, available space: 4382203904; capacity: 105089261568. Object creation will fail if spilling is required.\n"
     ]
    },
    {
     "name": "stderr",
     "output_type": "stream",
     "text": [
      "\u001b[33m(raylet)\u001b[0m [2024-03-11 04:29:40,299 E 29667 29696] (raylet) file_system_monitor.cc:111: /tmp/ray/session_2024-03-10_13-48-36_673092_28795 is over 95% full, available space: 4382007296; capacity: 105089261568. Object creation will fail if spilling is required.\n"
     ]
    },
    {
     "name": "stderr",
     "output_type": "stream",
     "text": [
      "\u001b[33m(raylet)\u001b[0m [2024-03-11 04:29:50,304 E 29667 29696] (raylet) file_system_monitor.cc:111: /tmp/ray/session_2024-03-10_13-48-36_673092_28795 is over 95% full, available space: 4381990912; capacity: 105089261568. Object creation will fail if spilling is required.\n"
     ]
    },
    {
     "name": "stderr",
     "output_type": "stream",
     "text": [
      "\u001b[33m(raylet)\u001b[0m [2024-03-11 04:30:00,309 E 29667 29696] (raylet) file_system_monitor.cc:111: /tmp/ray/session_2024-03-10_13-48-36_673092_28795 is over 95% full, available space: 4381986816; capacity: 105089261568. Object creation will fail if spilling is required.\n"
     ]
    },
    {
     "name": "stderr",
     "output_type": "stream",
     "text": [
      "\u001b[36m(TrainLightGCN pid=278408)\u001b[0m Checkpoint successfully created at: Checkpoint(filesystem=local, path=/home/daviddavo/ray_results/LightGCN_optim=map@10,dao=PancakeSwap,freq=3d,normalize=True,cutoff_date=2023-07-01T00:00:00,fold=9_2024-03-11T02:49:22.390671/TrainLightGCN_29666c56_67_batch_size=12,conv_layers=4,embedding_dim=1,fold=9,l2=0.0041,learning_rate=0.3052_2024-03-11_04-25-22/checkpoint_000000)\n"
     ]
    },
    {
     "name": "stderr",
     "output_type": "stream",
     "text": [
      "\u001b[36m(pid=279697)\u001b[0m 2024-03-11 04:30:08.980576: E tensorflow/compiler/xla/stream_executor/cuda/cuda_dnn.cc:9342] Unable to register cuDNN factory: Attempting to register factory for plugin cuDNN when one has already been registered\n",
      "\u001b[36m(pid=279697)\u001b[0m 2024-03-11 04:30:08.980615: E tensorflow/compiler/xla/stream_executor/cuda/cuda_fft.cc:609] Unable to register cuFFT factory: Attempting to register factory for plugin cuFFT when one has already been registered\n",
      "\u001b[36m(pid=279697)\u001b[0m 2024-03-11 04:30:08.980631: E tensorflow/compiler/xla/stream_executor/cuda/cuda_blas.cc:1518] Unable to register cuBLAS factory: Attempting to register factory for plugin cuBLAS when one has already been registered\n"
     ]
    },
    {
     "name": "stderr",
     "output_type": "stream",
     "text": [
      "\u001b[33m(raylet)\u001b[0m [2024-03-11 04:30:10,314 E 29667 29696] (raylet) file_system_monitor.cc:111: /tmp/ray/session_2024-03-10_13-48-36_673092_28795 is over 95% full, available space: 4359114752; capacity: 105089261568. Object creation will fail if spilling is required.\n"
     ]
    },
    {
     "name": "stderr",
     "output_type": "stream",
     "text": [
      "\u001b[36m(TrainLightGCN pid=279697)\u001b[0m /home/daviddavo/upm-tfm-notebooks/.direnv/python-3.9/lib/python3.9/site-packages/recommenders/models/deeprec/DataModel/ImplicitCF.py:73: FutureWarning: The frame.append method is deprecated and will be removed from pandas in a future version. Use pandas.concat instead.\n",
      "\u001b[36m(TrainLightGCN pid=279697)\u001b[0m   df = train if test is None else train.append(test)\n"
     ]
    },
    {
     "name": "stderr",
     "output_type": "stream",
     "text": [
      "\u001b[33m(raylet)\u001b[0m [2024-03-11 04:30:20,319 E 29667 29696] (raylet) file_system_monitor.cc:111: /tmp/ray/session_2024-03-10_13-48-36_673092_28795 is over 95% full, available space: 4359098368; capacity: 105089261568. Object creation will fail if spilling is required.\n"
     ]
    },
    {
     "name": "stdout",
     "output_type": "stream",
     "text": [
      "\u001b[36m(TrainLightGCN pid=279697)\u001b[0m Already create adjacency matrix.\n"
     ]
    },
    {
     "name": "stdout",
     "output_type": "stream",
     "text": [
      "\u001b[36m(TrainLightGCN pid=279697)\u001b[0m Already normalize adjacency matrix.\n",
      "\u001b[36m(TrainLightGCN pid=279697)\u001b[0m Using xavier initialization.\n"
     ]
    },
    {
     "name": "stderr",
     "output_type": "stream",
     "text": [
      "\u001b[36m(TrainLightGCN pid=279697)\u001b[0m Trainable.setup took 11.645 seconds. If your trainable is slow to initialize, consider setting reuse_actors=True to reduce actor creation overheads.\n"
     ]
    },
    {
     "name": "stderr",
     "output_type": "stream",
     "text": [
      "\u001b[33m(raylet)\u001b[0m [2024-03-11 04:30:30,324 E 29667 29696] (raylet) file_system_monitor.cc:111: /tmp/ray/session_2024-03-10_13-48-36_673092_28795 is over 95% full, available space: 4326752256; capacity: 105089261568. Object creation will fail if spilling is required.\n",
      "\u001b[36m(TrainLightGCN pid=278673)\u001b[0m Checkpoint successfully created at: Checkpoint(filesystem=local, path=/home/daviddavo/ray_results/LightGCN_optim=map@10,dao=PancakeSwap,freq=3d,normalize=True,cutoff_date=2023-07-01T00:00:00,fold=9_2024-03-11T02:49:22.390671/TrainLightGCN_cbe3b80b_68_batch_size=13,conv_layers=5,embedding_dim=7,fold=9,l2=0.0016,learning_rate=0.1216_2024-03-11_04-25-45/checkpoint_000000)\n"
     ]
    },
    {
     "name": "stderr",
     "output_type": "stream",
     "text": [
      "\u001b[36m(pid=279926)\u001b[0m 2024-03-11 04:30:31.978789: E tensorflow/compiler/xla/stream_executor/cuda/cuda_dnn.cc:9342] Unable to register cuDNN factory: Attempting to register factory for plugin cuDNN when one has already been registered\n",
      "\u001b[36m(pid=279926)\u001b[0m 2024-03-11 04:30:31.978825: E tensorflow/compiler/xla/stream_executor/cuda/cuda_fft.cc:609] Unable to register cuFFT factory: Attempting to register factory for plugin cuFFT when one has already been registered\n",
      "\u001b[36m(pid=279926)\u001b[0m 2024-03-11 04:30:31.978838: E tensorflow/compiler/xla/stream_executor/cuda/cuda_blas.cc:1518] Unable to register cuBLAS factory: Attempting to register factory for plugin cuBLAS when one has already been registered\n"
     ]
    },
    {
     "name": "stderr",
     "output_type": "stream",
     "text": [
      "\u001b[36m(TrainLightGCN pid=279926)\u001b[0m /home/daviddavo/upm-tfm-notebooks/.direnv/python-3.9/lib/python3.9/site-packages/recommenders/models/deeprec/DataModel/ImplicitCF.py:73: FutureWarning: The frame.append method is deprecated and will be removed from pandas in a future version. Use pandas.concat instead.\n",
      "\u001b[36m(TrainLightGCN pid=279926)\u001b[0m   df = train if test is None else train.append(test)\n"
     ]
    },
    {
     "name": "stderr",
     "output_type": "stream",
     "text": [
      "\u001b[33m(raylet)\u001b[0m [2024-03-11 04:30:40,329 E 29667 29696] (raylet) file_system_monitor.cc:111: /tmp/ray/session_2024-03-10_13-48-36_673092_28795 is over 95% full, available space: 4298977280; capacity: 105089261568. Object creation will fail if spilling is required.\n",
      "\u001b[36m(TrainLightGCN pid=278184)\u001b[0m Checkpoint successfully created at: Checkpoint(filesystem=local, path=/home/daviddavo/ray_results/LightGCN_optim=map@10,dao=PancakeSwap,freq=3d,normalize=True,cutoff_date=2023-07-01T00:00:00,fold=9_2024-03-11T02:49:22.390671/TrainLightGCN_f90d16ec_66_batch_size=11,conv_layers=4,embedding_dim=4,fold=9,l2=0.0070,learning_rate=0.4843_2024-03-11_04-21-58/checkpoint_000000)\n"
     ]
    },
    {
     "name": "stdout",
     "output_type": "stream",
     "text": [
      "\u001b[36m(TrainLightGCN pid=279926)\u001b[0m Already create adjacency matrix.\n"
     ]
    },
    {
     "name": "stdout",
     "output_type": "stream",
     "text": [
      "\u001b[36m(TrainLightGCN pid=279926)\u001b[0m Already normalize adjacency matrix.\n",
      "\u001b[36m(TrainLightGCN pid=279926)\u001b[0m Using xavier initialization.\n"
     ]
    },
    {
     "name": "stderr",
     "output_type": "stream",
     "text": [
      "\u001b[36m(TrainLightGCN pid=279926)\u001b[0m Trainable.setup took 11.697 seconds. If your trainable is slow to initialize, consider setting reuse_actors=True to reduce actor creation overheads.\n"
     ]
    },
    {
     "name": "stderr",
     "output_type": "stream",
     "text": [
      "\u001b[36m(pid=280096)\u001b[0m 2024-03-11 04:30:46.837375: E tensorflow/compiler/xla/stream_executor/cuda/cuda_dnn.cc:9342] Unable to register cuDNN factory: Attempting to register factory for plugin cuDNN when one has already been registered\n",
      "\u001b[36m(pid=280096)\u001b[0m 2024-03-11 04:30:46.837407: E tensorflow/compiler/xla/stream_executor/cuda/cuda_fft.cc:609] Unable to register cuFFT factory: Attempting to register factory for plugin cuFFT when one has already been registered\n",
      "\u001b[36m(pid=280096)\u001b[0m 2024-03-11 04:30:46.837421: E tensorflow/compiler/xla/stream_executor/cuda/cuda_blas.cc:1518] Unable to register cuBLAS factory: Attempting to register factory for plugin cuBLAS when one has already been registered\n"
     ]
    },
    {
     "name": "stderr",
     "output_type": "stream",
     "text": [
      "\u001b[36m(TrainLightGCN pid=280096)\u001b[0m /home/daviddavo/upm-tfm-notebooks/.direnv/python-3.9/lib/python3.9/site-packages/recommenders/models/deeprec/DataModel/ImplicitCF.py:73: FutureWarning: The frame.append method is deprecated and will be removed from pandas in a future version. Use pandas.concat instead.\n",
      "\u001b[36m(TrainLightGCN pid=280096)\u001b[0m   df = train if test is None else train.append(test)\n"
     ]
    },
    {
     "name": "stderr",
     "output_type": "stream",
     "text": [
      "\u001b[33m(raylet)\u001b[0m [2024-03-11 04:30:50,333 E 29667 29696] (raylet) file_system_monitor.cc:111: /tmp/ray/session_2024-03-10_13-48-36_673092_28795 is over 95% full, available space: 4298895360; capacity: 105089261568. Object creation will fail if spilling is required.\n"
     ]
    },
    {
     "name": "stdout",
     "output_type": "stream",
     "text": [
      "\u001b[36m(TrainLightGCN pid=280096)\u001b[0m Already create adjacency matrix.\n"
     ]
    },
    {
     "name": "stdout",
     "output_type": "stream",
     "text": [
      "\u001b[36m(TrainLightGCN pid=280096)\u001b[0m Already normalize adjacency matrix.\n",
      "\u001b[36m(TrainLightGCN pid=280096)\u001b[0m Using xavier initialization.\n"
     ]
    },
    {
     "name": "stderr",
     "output_type": "stream",
     "text": [
      "\u001b[33m(raylet)\u001b[0m [2024-03-11 04:31:00,339 E 29667 29696] (raylet) file_system_monitor.cc:111: /tmp/ray/session_2024-03-10_13-48-36_673092_28795 is over 95% full, available space: 4298895360; capacity: 105089261568. Object creation will fail if spilling is required.\n"
     ]
    },
    {
     "name": "stderr",
     "output_type": "stream",
     "text": [
      "\u001b[36m(TrainLightGCN pid=280096)\u001b[0m Trainable.setup took 11.688 seconds. If your trainable is slow to initialize, consider setting reuse_actors=True to reduce actor creation overheads.\n"
     ]
    },
    {
     "name": "stderr",
     "output_type": "stream",
     "text": [
      "\u001b[33m(raylet)\u001b[0m [2024-03-11 04:31:10,344 E 29667 29696] (raylet) file_system_monitor.cc:111: /tmp/ray/session_2024-03-10_13-48-36_673092_28795 is over 95% full, available space: 4298883072; capacity: 105089261568. Object creation will fail if spilling is required.\n"
     ]
    },
    {
     "name": "stderr",
     "output_type": "stream",
     "text": [
      "\u001b[33m(raylet)\u001b[0m [2024-03-11 04:31:20,349 E 29667 29696] (raylet) file_system_monitor.cc:111: /tmp/ray/session_2024-03-10_13-48-36_673092_28795 is over 95% full, available space: 4298866688; capacity: 105089261568. Object creation will fail if spilling is required.\n"
     ]
    },
    {
     "name": "stderr",
     "output_type": "stream",
     "text": [
      "\u001b[33m(raylet)\u001b[0m [2024-03-11 04:31:30,354 E 29667 29696] (raylet) file_system_monitor.cc:111: /tmp/ray/session_2024-03-10_13-48-36_673092_28795 is over 95% full, available space: 4298862592; capacity: 105089261568. Object creation will fail if spilling is required.\n"
     ]
    },
    {
     "name": "stderr",
     "output_type": "stream",
     "text": [
      "\u001b[33m(raylet)\u001b[0m [2024-03-11 04:31:40,359 E 29667 29696] (raylet) file_system_monitor.cc:111: /tmp/ray/session_2024-03-10_13-48-36_673092_28795 is over 95% full, available space: 4298678272; capacity: 105089261568. Object creation will fail if spilling is required.\n"
     ]
    },
    {
     "name": "stderr",
     "output_type": "stream",
     "text": [
      "\u001b[33m(raylet)\u001b[0m [2024-03-11 04:31:50,364 E 29667 29696] (raylet) file_system_monitor.cc:111: /tmp/ray/session_2024-03-10_13-48-36_673092_28795 is over 95% full, available space: 4298661888; capacity: 105089261568. Object creation will fail if spilling is required.\n"
     ]
    },
    {
     "name": "stderr",
     "output_type": "stream",
     "text": [
      "\u001b[33m(raylet)\u001b[0m [2024-03-11 04:32:00,370 E 29667 29696] (raylet) file_system_monitor.cc:111: /tmp/ray/session_2024-03-10_13-48-36_673092_28795 is over 95% full, available space: 4298657792; capacity: 105089261568. Object creation will fail if spilling is required.\n"
     ]
    },
    {
     "name": "stderr",
     "output_type": "stream",
     "text": [
      "\u001b[33m(raylet)\u001b[0m [2024-03-11 04:32:10,375 E 29667 29696] (raylet) file_system_monitor.cc:111: /tmp/ray/session_2024-03-10_13-48-36_673092_28795 is over 95% full, available space: 4298649600; capacity: 105089261568. Object creation will fail if spilling is required.\n"
     ]
    },
    {
     "name": "stderr",
     "output_type": "stream",
     "text": [
      "\u001b[33m(raylet)\u001b[0m [2024-03-11 04:32:20,380 E 29667 29696] (raylet) file_system_monitor.cc:111: /tmp/ray/session_2024-03-10_13-48-36_673092_28795 is over 95% full, available space: 4298637312; capacity: 105089261568. Object creation will fail if spilling is required.\n"
     ]
    },
    {
     "name": "stderr",
     "output_type": "stream",
     "text": [
      "\u001b[33m(raylet)\u001b[0m [2024-03-11 04:32:30,386 E 29667 29696] (raylet) file_system_monitor.cc:111: /tmp/ray/session_2024-03-10_13-48-36_673092_28795 is over 95% full, available space: 4298637312; capacity: 105089261568. Object creation will fail if spilling is required.\n"
     ]
    },
    {
     "name": "stderr",
     "output_type": "stream",
     "text": [
      "\u001b[36m(TrainLightGCN pid=279017)\u001b[0m Checkpoint successfully created at: Checkpoint(filesystem=local, path=/home/daviddavo/ray_results/LightGCN_optim=map@10,dao=PancakeSwap,freq=3d,normalize=True,cutoff_date=2023-07-01T00:00:00,fold=9_2024-03-11T02:49:22.390671/TrainLightGCN_8b079015_69_batch_size=11,conv_layers=5,embedding_dim=2,fold=9,l2=0.0001,learning_rate=0.4207_2024-03-11_04-26-20/checkpoint_000000)\n"
     ]
    },
    {
     "name": "stderr",
     "output_type": "stream",
     "text": [
      "\u001b[36m(pid=280605)\u001b[0m 2024-03-11 04:32:38.029681: E tensorflow/compiler/xla/stream_executor/cuda/cuda_dnn.cc:9342] Unable to register cuDNN factory: Attempting to register factory for plugin cuDNN when one has already been registered\n",
      "\u001b[36m(pid=280605)\u001b[0m 2024-03-11 04:32:38.029721: E tensorflow/compiler/xla/stream_executor/cuda/cuda_fft.cc:609] Unable to register cuFFT factory: Attempting to register factory for plugin cuFFT when one has already been registered\n",
      "\u001b[36m(pid=280605)\u001b[0m 2024-03-11 04:32:38.029739: E tensorflow/compiler/xla/stream_executor/cuda/cuda_blas.cc:1518] Unable to register cuBLAS factory: Attempting to register factory for plugin cuBLAS when one has already been registered\n"
     ]
    },
    {
     "name": "stderr",
     "output_type": "stream",
     "text": [
      "\u001b[36m(TrainLightGCN pid=280605)\u001b[0m /home/daviddavo/upm-tfm-notebooks/.direnv/python-3.9/lib/python3.9/site-packages/recommenders/models/deeprec/DataModel/ImplicitCF.py:73: FutureWarning: The frame.append method is deprecated and will be removed from pandas in a future version. Use pandas.concat instead.\n",
      "\u001b[36m(TrainLightGCN pid=280605)\u001b[0m   df = train if test is None else train.append(test)\n",
      "\u001b[33m(raylet)\u001b[0m [2024-03-11 04:32:40,390 E 29667 29696] (raylet) file_system_monitor.cc:111: /tmp/ray/session_2024-03-10_13-48-36_673092_28795 is over 95% full, available space: 4274012160; capacity: 105089261568. Object creation will fail if spilling is required.\n"
     ]
    },
    {
     "name": "stderr",
     "output_type": "stream",
     "text": [
      "\u001b[33m(raylet)\u001b[0m [2024-03-11 04:32:50,395 E 29667 29696] (raylet) file_system_monitor.cc:111: /tmp/ray/session_2024-03-10_13-48-36_673092_28795 is over 95% full, available space: 4273979392; capacity: 105089261568. Object creation will fail if spilling is required.\n"
     ]
    },
    {
     "name": "stdout",
     "output_type": "stream",
     "text": [
      "\u001b[36m(TrainLightGCN pid=280605)\u001b[0m Already create adjacency matrix.\n"
     ]
    },
    {
     "name": "stdout",
     "output_type": "stream",
     "text": [
      "\u001b[36m(TrainLightGCN pid=280605)\u001b[0m Already normalize adjacency matrix.\n",
      "\u001b[36m(TrainLightGCN pid=280605)\u001b[0m Using xavier initialization.\n"
     ]
    },
    {
     "name": "stderr",
     "output_type": "stream",
     "text": [
      "\u001b[36m(TrainLightGCN pid=280605)\u001b[0m Trainable.setup took 11.659 seconds. If your trainable is slow to initialize, consider setting reuse_actors=True to reduce actor creation overheads.\n"
     ]
    },
    {
     "name": "stderr",
     "output_type": "stream",
     "text": [
      "\u001b[33m(raylet)\u001b[0m [2024-03-11 04:33:00,400 E 29667 29696] (raylet) file_system_monitor.cc:111: /tmp/ray/session_2024-03-10_13-48-36_673092_28795 is over 95% full, available space: 4273963008; capacity: 105089261568. Object creation will fail if spilling is required.\n"
     ]
    },
    {
     "name": "stderr",
     "output_type": "stream",
     "text": [
      "\u001b[33m(raylet)\u001b[0m [2024-03-11 04:33:10,405 E 29667 29696] (raylet) file_system_monitor.cc:111: /tmp/ray/session_2024-03-10_13-48-36_673092_28795 is over 95% full, available space: 4273954816; capacity: 105089261568. Object creation will fail if spilling is required.\n"
     ]
    },
    {
     "name": "stderr",
     "output_type": "stream",
     "text": [
      "\u001b[33m(raylet)\u001b[0m [2024-03-11 04:33:20,410 E 29667 29696] (raylet) file_system_monitor.cc:111: /tmp/ray/session_2024-03-10_13-48-36_673092_28795 is over 95% full, available space: 4273950720; capacity: 105089261568. Object creation will fail if spilling is required.\n"
     ]
    },
    {
     "name": "stderr",
     "output_type": "stream",
     "text": [
      "\u001b[33m(raylet)\u001b[0m [2024-03-11 04:33:30,415 E 29667 29696] (raylet) file_system_monitor.cc:111: /tmp/ray/session_2024-03-10_13-48-36_673092_28795 is over 95% full, available space: 4273946624; capacity: 105089261568. Object creation will fail if spilling is required.\n"
     ]
    },
    {
     "name": "stderr",
     "output_type": "stream",
     "text": [
      "\u001b[33m(raylet)\u001b[0m [2024-03-11 04:33:40,421 E 29667 29696] (raylet) file_system_monitor.cc:111: /tmp/ray/session_2024-03-10_13-48-36_673092_28795 is over 95% full, available space: 4273745920; capacity: 105089261568. Object creation will fail if spilling is required.\n"
     ]
    },
    {
     "name": "stderr",
     "output_type": "stream",
     "text": [
      "\u001b[33m(raylet)\u001b[0m [2024-03-11 04:33:50,426 E 29667 29696] (raylet) file_system_monitor.cc:111: /tmp/ray/session_2024-03-10_13-48-36_673092_28795 is over 95% full, available space: 4273729536; capacity: 105089261568. Object creation will fail if spilling is required.\n"
     ]
    },
    {
     "name": "stderr",
     "output_type": "stream",
     "text": [
      "\u001b[33m(raylet)\u001b[0m [2024-03-11 04:34:00,432 E 29667 29696] (raylet) file_system_monitor.cc:111: /tmp/ray/session_2024-03-10_13-48-36_673092_28795 is over 95% full, available space: 4273725440; capacity: 105089261568. Object creation will fail if spilling is required.\n"
     ]
    },
    {
     "name": "stderr",
     "output_type": "stream",
     "text": [
      "\u001b[33m(raylet)\u001b[0m [2024-03-11 04:34:10,437 E 29667 29696] (raylet) file_system_monitor.cc:111: /tmp/ray/session_2024-03-10_13-48-36_673092_28795 is over 95% full, available space: 4273717248; capacity: 105089261568. Object creation will fail if spilling is required.\n"
     ]
    },
    {
     "name": "stderr",
     "output_type": "stream",
     "text": [
      "\u001b[33m(raylet)\u001b[0m [2024-03-11 04:34:20,442 E 29667 29696] (raylet) file_system_monitor.cc:111: /tmp/ray/session_2024-03-10_13-48-36_673092_28795 is over 95% full, available space: 4273709056; capacity: 105089261568. Object creation will fail if spilling is required.\n"
     ]
    },
    {
     "name": "stderr",
     "output_type": "stream",
     "text": [
      "\u001b[33m(raylet)\u001b[0m [2024-03-11 04:34:30,447 E 29667 29696] (raylet) file_system_monitor.cc:111: /tmp/ray/session_2024-03-10_13-48-36_673092_28795 is over 95% full, available space: 4273709056; capacity: 105089261568. Object creation will fail if spilling is required.\n"
     ]
    },
    {
     "name": "stderr",
     "output_type": "stream",
     "text": [
      "\u001b[33m(raylet)\u001b[0m [2024-03-11 04:34:40,452 E 29667 29696] (raylet) file_system_monitor.cc:111: /tmp/ray/session_2024-03-10_13-48-36_673092_28795 is over 95% full, available space: 4273520640; capacity: 105089261568. Object creation will fail if spilling is required.\n"
     ]
    },
    {
     "name": "stderr",
     "output_type": "stream",
     "text": [
      "\u001b[33m(raylet)\u001b[0m [2024-03-11 04:34:50,458 E 29667 29696] (raylet) file_system_monitor.cc:111: /tmp/ray/session_2024-03-10_13-48-36_673092_28795 is over 95% full, available space: 4273496064; capacity: 105089261568. Object creation will fail if spilling is required.\n"
     ]
    },
    {
     "name": "stderr",
     "output_type": "stream",
     "text": [
      "\u001b[36m(TrainLightGCN pid=279926)\u001b[0m Checkpoint successfully created at: Checkpoint(filesystem=local, path=/home/daviddavo/ray_results/LightGCN_optim=map@10,dao=PancakeSwap,freq=3d,normalize=True,cutoff_date=2023-07-01T00:00:00,fold=9_2024-03-11T02:49:22.390671/TrainLightGCN_c8fe06bd_71_batch_size=13,conv_layers=5,embedding_dim=4,fold=9,l2=0.0007,learning_rate=0.1540_2024-03-11_04-30-22/checkpoint_000000)\n"
     ]
    },
    {
     "name": "stderr",
     "output_type": "stream",
     "text": [
      "\u001b[36m(pid=281164)\u001b[0m 2024-03-11 04:34:55.065752: E tensorflow/compiler/xla/stream_executor/cuda/cuda_dnn.cc:9342] Unable to register cuDNN factory: Attempting to register factory for plugin cuDNN when one has already been registered\n",
      "\u001b[36m(pid=281164)\u001b[0m 2024-03-11 04:34:55.065790: E tensorflow/compiler/xla/stream_executor/cuda/cuda_fft.cc:609] Unable to register cuFFT factory: Attempting to register factory for plugin cuFFT when one has already been registered\n",
      "\u001b[36m(pid=281164)\u001b[0m 2024-03-11 04:34:55.065804: E tensorflow/compiler/xla/stream_executor/cuda/cuda_blas.cc:1518] Unable to register cuBLAS factory: Attempting to register factory for plugin cuBLAS when one has already been registered\n"
     ]
    },
    {
     "name": "stderr",
     "output_type": "stream",
     "text": [
      "\u001b[36m(TrainLightGCN pid=281164)\u001b[0m /home/daviddavo/upm-tfm-notebooks/.direnv/python-3.9/lib/python3.9/site-packages/recommenders/models/deeprec/DataModel/ImplicitCF.py:73: FutureWarning: The frame.append method is deprecated and will be removed from pandas in a future version. Use pandas.concat instead.\n",
      "\u001b[36m(TrainLightGCN pid=281164)\u001b[0m   df = train if test is None else train.append(test)\n"
     ]
    },
    {
     "name": "stderr",
     "output_type": "stream",
     "text": [
      "\u001b[33m(raylet)\u001b[0m [2024-03-11 04:35:00,462 E 29667 29696] (raylet) file_system_monitor.cc:111: /tmp/ray/session_2024-03-10_13-48-36_673092_28795 is over 95% full, available space: 4245884928; capacity: 105089261568. Object creation will fail if spilling is required.\n"
     ]
    },
    {
     "name": "stdout",
     "output_type": "stream",
     "text": [
      "\u001b[36m(TrainLightGCN pid=281164)\u001b[0m Already create adjacency matrix.\n"
     ]
    },
    {
     "name": "stdout",
     "output_type": "stream",
     "text": [
      "\u001b[36m(TrainLightGCN pid=281164)\u001b[0m Already normalize adjacency matrix.\n",
      "\u001b[36m(TrainLightGCN pid=281164)\u001b[0m Using xavier initialization.\n"
     ]
    },
    {
     "name": "stderr",
     "output_type": "stream",
     "text": [
      "\u001b[36m(TrainLightGCN pid=281164)\u001b[0m Trainable.setup took 11.683 seconds. If your trainable is slow to initialize, consider setting reuse_actors=True to reduce actor creation overheads.\n"
     ]
    },
    {
     "name": "stderr",
     "output_type": "stream",
     "text": [
      "\u001b[33m(raylet)\u001b[0m [2024-03-11 04:35:10,467 E 29667 29696] (raylet) file_system_monitor.cc:111: /tmp/ray/session_2024-03-10_13-48-36_673092_28795 is over 95% full, available space: 4245876736; capacity: 105089261568. Object creation will fail if spilling is required.\n"
     ]
    },
    {
     "name": "stderr",
     "output_type": "stream",
     "text": [
      "\u001b[33m(raylet)\u001b[0m [2024-03-11 04:35:20,471 E 29667 29696] (raylet) file_system_monitor.cc:111: /tmp/ray/session_2024-03-10_13-48-36_673092_28795 is over 95% full, available space: 4245876736; capacity: 105089261568. Object creation will fail if spilling is required.\n"
     ]
    },
    {
     "name": "stderr",
     "output_type": "stream",
     "text": [
      "\u001b[33m(raylet)\u001b[0m [2024-03-11 04:35:30,476 E 29667 29696] (raylet) file_system_monitor.cc:111: /tmp/ray/session_2024-03-10_13-48-36_673092_28795 is over 95% full, available space: 4245872640; capacity: 105089261568. Object creation will fail if spilling is required.\n"
     ]
    },
    {
     "name": "stderr",
     "output_type": "stream",
     "text": [
      "\u001b[36m(TrainLightGCN pid=279697)\u001b[0m Checkpoint successfully created at: Checkpoint(filesystem=local, path=/home/daviddavo/ray_results/LightGCN_optim=map@10,dao=PancakeSwap,freq=3d,normalize=True,cutoff_date=2023-07-01T00:00:00,fold=9_2024-03-11T02:49:22.390671/TrainLightGCN_369b9855_70_batch_size=10,conv_layers=4,embedding_dim=11,fold=9,l2=0.0097,learning_rate=0.1883_2024-03-11_04-27-25/checkpoint_000000)\n"
     ]
    },
    {
     "name": "stderr",
     "output_type": "stream",
     "text": [
      "\u001b[36m(pid=281451)\u001b[0m 2024-03-11 04:35:38.080477: E tensorflow/compiler/xla/stream_executor/cuda/cuda_dnn.cc:9342] Unable to register cuDNN factory: Attempting to register factory for plugin cuDNN when one has already been registered\n",
      "\u001b[36m(pid=281451)\u001b[0m 2024-03-11 04:35:38.080515: E tensorflow/compiler/xla/stream_executor/cuda/cuda_fft.cc:609] Unable to register cuFFT factory: Attempting to register factory for plugin cuFFT when one has already been registered\n",
      "\u001b[36m(pid=281451)\u001b[0m 2024-03-11 04:35:38.080529: E tensorflow/compiler/xla/stream_executor/cuda/cuda_blas.cc:1518] Unable to register cuBLAS factory: Attempting to register factory for plugin cuBLAS when one has already been registered\n"
     ]
    },
    {
     "name": "stderr",
     "output_type": "stream",
     "text": [
      "\u001b[36m(TrainLightGCN pid=281451)\u001b[0m /home/daviddavo/upm-tfm-notebooks/.direnv/python-3.9/lib/python3.9/site-packages/recommenders/models/deeprec/DataModel/ImplicitCF.py:73: FutureWarning: The frame.append method is deprecated and will be removed from pandas in a future version. Use pandas.concat instead.\n",
      "\u001b[36m(TrainLightGCN pid=281451)\u001b[0m   df = train if test is None else train.append(test)\n"
     ]
    },
    {
     "name": "stderr",
     "output_type": "stream",
     "text": [
      "\u001b[33m(raylet)\u001b[0m [2024-03-11 04:35:40,481 E 29667 29696] (raylet) file_system_monitor.cc:111: /tmp/ray/session_2024-03-10_13-48-36_673092_28795 is over 95% full, available space: 4207001600; capacity: 105089261568. Object creation will fail if spilling is required.\n"
     ]
    },
    {
     "name": "stderr",
     "output_type": "stream",
     "text": [
      "\u001b[33m(raylet)\u001b[0m [2024-03-11 04:35:50,487 E 29667 29696] (raylet) file_system_monitor.cc:111: /tmp/ray/session_2024-03-10_13-48-36_673092_28795 is over 95% full, available space: 4206972928; capacity: 105089261568. Object creation will fail if spilling is required.\n"
     ]
    },
    {
     "name": "stdout",
     "output_type": "stream",
     "text": [
      "\u001b[36m(TrainLightGCN pid=281451)\u001b[0m Already create adjacency matrix.\n"
     ]
    },
    {
     "name": "stdout",
     "output_type": "stream",
     "text": [
      "\u001b[36m(TrainLightGCN pid=281451)\u001b[0m Already normalize adjacency matrix.\n",
      "\u001b[36m(TrainLightGCN pid=281451)\u001b[0m Using xavier initialization.\n"
     ]
    },
    {
     "name": "stderr",
     "output_type": "stream",
     "text": [
      "\u001b[36m(TrainLightGCN pid=281451)\u001b[0m Trainable.setup took 11.659 seconds. If your trainable is slow to initialize, consider setting reuse_actors=True to reduce actor creation overheads.\n"
     ]
    },
    {
     "name": "stderr",
     "output_type": "stream",
     "text": [
      "\u001b[33m(raylet)\u001b[0m [2024-03-11 04:36:00,492 E 29667 29696] (raylet) file_system_monitor.cc:111: /tmp/ray/session_2024-03-10_13-48-36_673092_28795 is over 95% full, available space: 4206960640; capacity: 105089261568. Object creation will fail if spilling is required.\n"
     ]
    },
    {
     "name": "stderr",
     "output_type": "stream",
     "text": [
      "\u001b[36m(TrainLightGCN pid=280096)\u001b[0m Checkpoint successfully created at: Checkpoint(filesystem=local, path=/home/daviddavo/ray_results/LightGCN_optim=map@10,dao=PancakeSwap,freq=3d,normalize=True,cutoff_date=2023-07-01T00:00:00,fold=9_2024-03-11T02:49:22.390671/TrainLightGCN_7512eeec_72_batch_size=11,conv_layers=3,embedding_dim=1,fold=9,l2=0.0001,learning_rate=0.4332_2024-03-11_04-30-45/checkpoint_000000)\n"
     ]
    },
    {
     "name": "stderr",
     "output_type": "stream",
     "text": [
      "\u001b[36m(pid=281700)\u001b[0m 2024-03-11 04:36:10.040176: E tensorflow/compiler/xla/stream_executor/cuda/cuda_dnn.cc:9342] Unable to register cuDNN factory: Attempting to register factory for plugin cuDNN when one has already been registered\n",
      "\u001b[36m(pid=281700)\u001b[0m 2024-03-11 04:36:10.040210: E tensorflow/compiler/xla/stream_executor/cuda/cuda_fft.cc:609] Unable to register cuFFT factory: Attempting to register factory for plugin cuFFT when one has already been registered\n",
      "\u001b[36m(pid=281700)\u001b[0m 2024-03-11 04:36:10.040227: E tensorflow/compiler/xla/stream_executor/cuda/cuda_blas.cc:1518] Unable to register cuBLAS factory: Attempting to register factory for plugin cuBLAS when one has already been registered\n"
     ]
    },
    {
     "name": "stderr",
     "output_type": "stream",
     "text": [
      "\u001b[33m(raylet)\u001b[0m [2024-03-11 04:36:10,498 E 29667 29696] (raylet) file_system_monitor.cc:111: /tmp/ray/session_2024-03-10_13-48-36_673092_28795 is over 95% full, available space: 4184100864; capacity: 105089261568. Object creation will fail if spilling is required.\n"
     ]
    },
    {
     "name": "stderr",
     "output_type": "stream",
     "text": [
      "\u001b[36m(TrainLightGCN pid=281700)\u001b[0m /home/daviddavo/upm-tfm-notebooks/.direnv/python-3.9/lib/python3.9/site-packages/recommenders/models/deeprec/DataModel/ImplicitCF.py:73: FutureWarning: The frame.append method is deprecated and will be removed from pandas in a future version. Use pandas.concat instead.\n",
      "\u001b[36m(TrainLightGCN pid=281700)\u001b[0m   df = train if test is None else train.append(test)\n"
     ]
    },
    {
     "name": "stderr",
     "output_type": "stream",
     "text": [
      "\u001b[33m(raylet)\u001b[0m [2024-03-11 04:36:20,503 E 29667 29696] (raylet) file_system_monitor.cc:111: /tmp/ray/session_2024-03-10_13-48-36_673092_28795 is over 95% full, available space: 4184100864; capacity: 105089261568. Object creation will fail if spilling is required.\n"
     ]
    },
    {
     "name": "stdout",
     "output_type": "stream",
     "text": [
      "\u001b[36m(TrainLightGCN pid=281700)\u001b[0m Already create adjacency matrix.\n"
     ]
    },
    {
     "name": "stdout",
     "output_type": "stream",
     "text": [
      "\u001b[36m(TrainLightGCN pid=281700)\u001b[0m Already normalize adjacency matrix.\n",
      "\u001b[36m(TrainLightGCN pid=281700)\u001b[0m Using xavier initialization.\n"
     ]
    },
    {
     "name": "stderr",
     "output_type": "stream",
     "text": [
      "\u001b[36m(TrainLightGCN pid=281700)\u001b[0m Trainable.setup took 11.681 seconds. If your trainable is slow to initialize, consider setting reuse_actors=True to reduce actor creation overheads.\n"
     ]
    },
    {
     "name": "stderr",
     "output_type": "stream",
     "text": [
      "\u001b[33m(raylet)\u001b[0m [2024-03-11 04:36:30,508 E 29667 29696] (raylet) file_system_monitor.cc:111: /tmp/ray/session_2024-03-10_13-48-36_673092_28795 is over 95% full, available space: 4184096768; capacity: 105089261568. Object creation will fail if spilling is required.\n"
     ]
    },
    {
     "name": "stderr",
     "output_type": "stream",
     "text": [
      "\u001b[33m(raylet)\u001b[0m [2024-03-11 04:36:40,513 E 29667 29696] (raylet) file_system_monitor.cc:111: /tmp/ray/session_2024-03-10_13-48-36_673092_28795 is over 95% full, available space: 4183908352; capacity: 105089261568. Object creation will fail if spilling is required.\n"
     ]
    },
    {
     "name": "stderr",
     "output_type": "stream",
     "text": [
      "\u001b[33m(raylet)\u001b[0m [2024-03-11 04:36:50,518 E 29667 29696] (raylet) file_system_monitor.cc:111: /tmp/ray/session_2024-03-10_13-48-36_673092_28795 is over 95% full, available space: 4183891968; capacity: 105089261568. Object creation will fail if spilling is required.\n"
     ]
    },
    {
     "name": "stderr",
     "output_type": "stream",
     "text": [
      "\u001b[33m(raylet)\u001b[0m [2024-03-11 04:37:00,524 E 29667 29696] (raylet) file_system_monitor.cc:111: /tmp/ray/session_2024-03-10_13-48-36_673092_28795 is over 95% full, available space: 4183879680; capacity: 105089261568. Object creation will fail if spilling is required.\n"
     ]
    },
    {
     "name": "stderr",
     "output_type": "stream",
     "text": [
      "\u001b[33m(raylet)\u001b[0m [2024-03-11 04:37:10,529 E 29667 29696] (raylet) file_system_monitor.cc:111: /tmp/ray/session_2024-03-10_13-48-36_673092_28795 is over 95% full, available space: 4183875584; capacity: 105089261568. Object creation will fail if spilling is required.\n"
     ]
    },
    {
     "name": "stderr",
     "output_type": "stream",
     "text": [
      "\u001b[33m(raylet)\u001b[0m [2024-03-11 04:37:20,535 E 29667 29696] (raylet) file_system_monitor.cc:111: /tmp/ray/session_2024-03-10_13-48-36_673092_28795 is over 95% full, available space: 4183871488; capacity: 105089261568. Object creation will fail if spilling is required.\n"
     ]
    },
    {
     "name": "stderr",
     "output_type": "stream",
     "text": [
      "\u001b[33m(raylet)\u001b[0m [2024-03-11 04:37:30,540 E 29667 29696] (raylet) file_system_monitor.cc:111: /tmp/ray/session_2024-03-10_13-48-36_673092_28795 is over 95% full, available space: 4183867392; capacity: 105089261568. Object creation will fail if spilling is required.\n"
     ]
    },
    {
     "name": "stderr",
     "output_type": "stream",
     "text": [
      "\u001b[33m(raylet)\u001b[0m [2024-03-11 04:37:40,545 E 29667 29696] (raylet) file_system_monitor.cc:111: /tmp/ray/session_2024-03-10_13-48-36_673092_28795 is over 95% full, available space: 4183670784; capacity: 105089261568. Object creation will fail if spilling is required.\n"
     ]
    },
    {
     "name": "stderr",
     "output_type": "stream",
     "text": [
      "\u001b[33m(raylet)\u001b[0m [2024-03-11 04:37:50,550 E 29667 29696] (raylet) file_system_monitor.cc:111: /tmp/ray/session_2024-03-10_13-48-36_673092_28795 is over 95% full, available space: 4183658496; capacity: 105089261568. Object creation will fail if spilling is required.\n"
     ]
    },
    {
     "name": "stderr",
     "output_type": "stream",
     "text": [
      "\u001b[36m(TrainLightGCN pid=280605)\u001b[0m Checkpoint successfully created at: Checkpoint(filesystem=local, path=/home/daviddavo/ray_results/LightGCN_optim=map@10,dao=PancakeSwap,freq=3d,normalize=True,cutoff_date=2023-07-01T00:00:00,fold=9_2024-03-11T02:49:22.390671/TrainLightGCN_7c65f006_73_batch_size=10,conv_layers=3,embedding_dim=3,fold=9,l2=0.0021,learning_rate=0.3110_2024-03-11_04-31-00/checkpoint_000000)\n",
      "\u001b[33m(raylet)\u001b[0m [2024-03-11 04:38:00,556 E 29667 29696] (raylet) file_system_monitor.cc:111: /tmp/ray/session_2024-03-10_13-48-36_673092_28795 is over 95% full, available space: 4157661184; capacity: 105089261568. Object creation will fail if spilling is required.\n"
     ]
    },
    {
     "name": "stderr",
     "output_type": "stream",
     "text": [
      "\u001b[36m(pid=282187)\u001b[0m 2024-03-11 04:38:02.076186: E tensorflow/compiler/xla/stream_executor/cuda/cuda_dnn.cc:9342] Unable to register cuDNN factory: Attempting to register factory for plugin cuDNN when one has already been registered\n",
      "\u001b[36m(pid=282187)\u001b[0m 2024-03-11 04:38:02.076222: E tensorflow/compiler/xla/stream_executor/cuda/cuda_fft.cc:609] Unable to register cuFFT factory: Attempting to register factory for plugin cuFFT when one has already been registered\n",
      "\u001b[36m(pid=282187)\u001b[0m 2024-03-11 04:38:02.076236: E tensorflow/compiler/xla/stream_executor/cuda/cuda_blas.cc:1518] Unable to register cuBLAS factory: Attempting to register factory for plugin cuBLAS when one has already been registered\n"
     ]
    },
    {
     "name": "stderr",
     "output_type": "stream",
     "text": [
      "\u001b[36m(TrainLightGCN pid=282187)\u001b[0m /home/daviddavo/upm-tfm-notebooks/.direnv/python-3.9/lib/python3.9/site-packages/recommenders/models/deeprec/DataModel/ImplicitCF.py:73: FutureWarning: The frame.append method is deprecated and will be removed from pandas in a future version. Use pandas.concat instead.\n",
      "\u001b[36m(TrainLightGCN pid=282187)\u001b[0m   df = train if test is None else train.append(test)\n"
     ]
    },
    {
     "name": "stderr",
     "output_type": "stream",
     "text": [
      "\u001b[33m(raylet)\u001b[0m [2024-03-11 04:38:10,561 E 29667 29696] (raylet) file_system_monitor.cc:111: /tmp/ray/session_2024-03-10_13-48-36_673092_28795 is over 95% full, available space: 4157624320; capacity: 105089261568. Object creation will fail if spilling is required.\n"
     ]
    },
    {
     "name": "stdout",
     "output_type": "stream",
     "text": [
      "\u001b[36m(TrainLightGCN pid=282187)\u001b[0m Already create adjacency matrix.\n"
     ]
    },
    {
     "name": "stdout",
     "output_type": "stream",
     "text": [
      "\u001b[36m(TrainLightGCN pid=282187)\u001b[0m Already normalize adjacency matrix.\n",
      "\u001b[36m(TrainLightGCN pid=282187)\u001b[0m Using xavier initialization.\n"
     ]
    },
    {
     "name": "stderr",
     "output_type": "stream",
     "text": [
      "\u001b[36m(TrainLightGCN pid=282187)\u001b[0m Trainable.setup took 11.652 seconds. If your trainable is slow to initialize, consider setting reuse_actors=True to reduce actor creation overheads.\n"
     ]
    },
    {
     "name": "stderr",
     "output_type": "stream",
     "text": [
      "\u001b[33m(raylet)\u001b[0m [2024-03-11 04:38:20,566 E 29667 29696] (raylet) file_system_monitor.cc:111: /tmp/ray/session_2024-03-10_13-48-36_673092_28795 is over 95% full, available space: 4157620224; capacity: 105089261568. Object creation will fail if spilling is required.\n"
     ]
    },
    {
     "name": "stderr",
     "output_type": "stream",
     "text": [
      "\u001b[33m(raylet)\u001b[0m [2024-03-11 04:38:30,571 E 29667 29696] (raylet) file_system_monitor.cc:111: /tmp/ray/session_2024-03-10_13-48-36_673092_28795 is over 95% full, available space: 4157616128; capacity: 105089261568. Object creation will fail if spilling is required.\n"
     ]
    },
    {
     "name": "stderr",
     "output_type": "stream",
     "text": [
      "\u001b[33m(raylet)\u001b[0m [2024-03-11 04:38:40,577 E 29667 29696] (raylet) file_system_monitor.cc:111: /tmp/ray/session_2024-03-10_13-48-36_673092_28795 is over 95% full, available space: 4157431808; capacity: 105089261568. Object creation will fail if spilling is required.\n"
     ]
    },
    {
     "name": "stderr",
     "output_type": "stream",
     "text": [
      "\u001b[33m(raylet)\u001b[0m [2024-03-11 04:38:50,582 E 29667 29696] (raylet) file_system_monitor.cc:111: /tmp/ray/session_2024-03-10_13-48-36_673092_28795 is over 95% full, available space: 4157411328; capacity: 105089261568. Object creation will fail if spilling is required.\n"
     ]
    },
    {
     "name": "stderr",
     "output_type": "stream",
     "text": [
      "\u001b[33m(raylet)\u001b[0m [2024-03-11 04:39:00,588 E 29667 29696] (raylet) file_system_monitor.cc:111: /tmp/ray/session_2024-03-10_13-48-36_673092_28795 is over 95% full, available space: 4157399040; capacity: 105089261568. Object creation will fail if spilling is required.\n"
     ]
    },
    {
     "name": "stderr",
     "output_type": "stream",
     "text": [
      "\u001b[33m(raylet)\u001b[0m [2024-03-11 04:39:10,593 E 29667 29696] (raylet) file_system_monitor.cc:111: /tmp/ray/session_2024-03-10_13-48-36_673092_28795 is over 95% full, available space: 4157382656; capacity: 105089261568. Object creation will fail if spilling is required.\n"
     ]
    },
    {
     "name": "stderr",
     "output_type": "stream",
     "text": [
      "\u001b[33m(raylet)\u001b[0m [2024-03-11 04:39:20,599 E 29667 29696] (raylet) file_system_monitor.cc:111: /tmp/ray/session_2024-03-10_13-48-36_673092_28795 is over 95% full, available space: 4157378560; capacity: 105089261568. Object creation will fail if spilling is required.\n"
     ]
    },
    {
     "name": "stderr",
     "output_type": "stream",
     "text": [
      "\u001b[33m(raylet)\u001b[0m [2024-03-11 04:39:30,604 E 29667 29696] (raylet) file_system_monitor.cc:111: /tmp/ray/session_2024-03-10_13-48-36_673092_28795 is over 95% full, available space: 4157378560; capacity: 105089261568. Object creation will fail if spilling is required.\n"
     ]
    },
    {
     "name": "stderr",
     "output_type": "stream",
     "text": [
      "\u001b[33m(raylet)\u001b[0m [2024-03-11 04:39:40,609 E 29667 29696] (raylet) file_system_monitor.cc:111: /tmp/ray/session_2024-03-10_13-48-36_673092_28795 is over 95% full, available space: 4157190144; capacity: 105089261568. Object creation will fail if spilling is required.\n"
     ]
    },
    {
     "name": "stderr",
     "output_type": "stream",
     "text": [
      "\u001b[36m(TrainLightGCN pid=281164)\u001b[0m Checkpoint successfully created at: Checkpoint(filesystem=local, path=/home/daviddavo/ray_results/LightGCN_optim=map@10,dao=PancakeSwap,freq=3d,normalize=True,cutoff_date=2023-07-01T00:00:00,fold=9_2024-03-11T02:49:22.390671/TrainLightGCN_f4fe834b_74_batch_size=12,conv_layers=4,embedding_dim=2,fold=9,l2=0.0003,learning_rate=0.8570_2024-03-11_04-32-51/checkpoint_000000)\n"
     ]
    },
    {
     "name": "stderr",
     "output_type": "stream",
     "text": [
      "\u001b[36m(pid=282642)\u001b[0m 2024-03-11 04:39:44.093660: E tensorflow/compiler/xla/stream_executor/cuda/cuda_dnn.cc:9342] Unable to register cuDNN factory: Attempting to register factory for plugin cuDNN when one has already been registered\n",
      "\u001b[36m(pid=282642)\u001b[0m 2024-03-11 04:39:44.093697: E tensorflow/compiler/xla/stream_executor/cuda/cuda_fft.cc:609] Unable to register cuFFT factory: Attempting to register factory for plugin cuFFT when one has already been registered\n",
      "\u001b[36m(pid=282642)\u001b[0m 2024-03-11 04:39:44.093714: E tensorflow/compiler/xla/stream_executor/cuda/cuda_blas.cc:1518] Unable to register cuBLAS factory: Attempting to register factory for plugin cuBLAS when one has already been registered\n"
     ]
    },
    {
     "name": "stderr",
     "output_type": "stream",
     "text": [
      "\u001b[36m(TrainLightGCN pid=282642)\u001b[0m /home/daviddavo/upm-tfm-notebooks/.direnv/python-3.9/lib/python3.9/site-packages/recommenders/models/deeprec/DataModel/ImplicitCF.py:73: FutureWarning: The frame.append method is deprecated and will be removed from pandas in a future version. Use pandas.concat instead.\n",
      "\u001b[36m(TrainLightGCN pid=282642)\u001b[0m   df = train if test is None else train.append(test)\n"
     ]
    },
    {
     "name": "stderr",
     "output_type": "stream",
     "text": [
      "\u001b[33m(raylet)\u001b[0m [2024-03-11 04:39:50,614 E 29667 29696] (raylet) file_system_monitor.cc:111: /tmp/ray/session_2024-03-10_13-48-36_673092_28795 is over 95% full, available space: 4132732928; capacity: 105089261568. Object creation will fail if spilling is required.\n"
     ]
    },
    {
     "name": "stdout",
     "output_type": "stream",
     "text": [
      "\u001b[36m(TrainLightGCN pid=282642)\u001b[0m Already create adjacency matrix.\n"
     ]
    },
    {
     "name": "stdout",
     "output_type": "stream",
     "text": [
      "\u001b[36m(TrainLightGCN pid=282642)\u001b[0m Already normalize adjacency matrix.\n",
      "\u001b[36m(TrainLightGCN pid=282642)\u001b[0m Using xavier initialization.\n"
     ]
    },
    {
     "name": "stderr",
     "output_type": "stream",
     "text": [
      "\u001b[36m(TrainLightGCN pid=282642)\u001b[0m Trainable.setup took 11.791 seconds. If your trainable is slow to initialize, consider setting reuse_actors=True to reduce actor creation overheads.\n"
     ]
    },
    {
     "name": "stderr",
     "output_type": "stream",
     "text": [
      "\u001b[33m(raylet)\u001b[0m [2024-03-11 04:40:00,619 E 29667 29696] (raylet) file_system_monitor.cc:111: /tmp/ray/session_2024-03-10_13-48-36_673092_28795 is over 95% full, available space: 4132724736; capacity: 105089261568. Object creation will fail if spilling is required.\n"
     ]
    },
    {
     "name": "stderr",
     "output_type": "stream",
     "text": [
      "\u001b[33m(raylet)\u001b[0m [2024-03-11 04:40:10,625 E 29667 29696] (raylet) file_system_monitor.cc:111: /tmp/ray/session_2024-03-10_13-48-36_673092_28795 is over 95% full, available space: 4132708352; capacity: 105089261568. Object creation will fail if spilling is required.\n"
     ]
    },
    {
     "name": "stderr",
     "output_type": "stream",
     "text": [
      "\u001b[33m(raylet)\u001b[0m [2024-03-11 04:40:20,630 E 29667 29696] (raylet) file_system_monitor.cc:111: /tmp/ray/session_2024-03-10_13-48-36_673092_28795 is over 95% full, available space: 4132700160; capacity: 105089261568. Object creation will fail if spilling is required.\n"
     ]
    },
    {
     "name": "stderr",
     "output_type": "stream",
     "text": [
      "\u001b[33m(raylet)\u001b[0m [2024-03-11 04:40:30,635 E 29667 29696] (raylet) file_system_monitor.cc:111: /tmp/ray/session_2024-03-10_13-48-36_673092_28795 is over 95% full, available space: 4132700160; capacity: 105089261568. Object creation will fail if spilling is required.\n"
     ]
    },
    {
     "name": "stderr",
     "output_type": "stream",
     "text": [
      "\u001b[33m(raylet)\u001b[0m [2024-03-11 04:40:40,640 E 29667 29696] (raylet) file_system_monitor.cc:111: /tmp/ray/session_2024-03-10_13-48-36_673092_28795 is over 95% full, available space: 4132511744; capacity: 105089261568. Object creation will fail if spilling is required.\n"
     ]
    },
    {
     "name": "stderr",
     "output_type": "stream",
     "text": [
      "\u001b[33m(raylet)\u001b[0m [2024-03-11 04:40:50,646 E 29667 29696] (raylet) file_system_monitor.cc:111: /tmp/ray/session_2024-03-10_13-48-36_673092_28795 is over 95% full, available space: 4132491264; capacity: 105089261568. Object creation will fail if spilling is required.\n"
     ]
    },
    {
     "name": "stderr",
     "output_type": "stream",
     "text": [
      "\u001b[33m(raylet)\u001b[0m [2024-03-11 04:41:00,651 E 29667 29696] (raylet) file_system_monitor.cc:111: /tmp/ray/session_2024-03-10_13-48-36_673092_28795 is over 95% full, available space: 4132491264; capacity: 105089261568. Object creation will fail if spilling is required.\n"
     ]
    },
    {
     "name": "stderr",
     "output_type": "stream",
     "text": [
      "\u001b[36m(TrainLightGCN pid=281451)\u001b[0m Checkpoint successfully created at: Checkpoint(filesystem=local, path=/home/daviddavo/ray_results/LightGCN_optim=map@10,dao=PancakeSwap,freq=3d,normalize=True,cutoff_date=2023-07-01T00:00:00,fold=9_2024-03-11T02:49:22.390671/TrainLightGCN_e16af59a_75_batch_size=11,conv_layers=5,embedding_dim=2,fold=9,l2=0.0000,learning_rate=0.5365_2024-03-11_04-35-08/checkpoint_000000)\n"
     ]
    },
    {
     "name": "stderr",
     "output_type": "stream",
     "text": [
      "\u001b[36m(pid=283047)\u001b[0m 2024-03-11 04:41:09.098769: E tensorflow/compiler/xla/stream_executor/cuda/cuda_dnn.cc:9342] Unable to register cuDNN factory: Attempting to register factory for plugin cuDNN when one has already been registered\n",
      "\u001b[36m(pid=283047)\u001b[0m 2024-03-11 04:41:09.098806: E tensorflow/compiler/xla/stream_executor/cuda/cuda_fft.cc:609] Unable to register cuFFT factory: Attempting to register factory for plugin cuFFT when one has already been registered\n",
      "\u001b[36m(pid=283047)\u001b[0m 2024-03-11 04:41:09.098824: E tensorflow/compiler/xla/stream_executor/cuda/cuda_blas.cc:1518] Unable to register cuBLAS factory: Attempting to register factory for plugin cuBLAS when one has already been registered\n"
     ]
    },
    {
     "name": "stderr",
     "output_type": "stream",
     "text": [
      "\u001b[33m(raylet)\u001b[0m [2024-03-11 04:41:10,656 E 29667 29696] (raylet) file_system_monitor.cc:111: /tmp/ray/session_2024-03-10_13-48-36_673092_28795 is over 95% full, available space: 4108029952; capacity: 105089261568. Object creation will fail if spilling is required.\n"
     ]
    },
    {
     "name": "stderr",
     "output_type": "stream",
     "text": [
      "\u001b[36m(TrainLightGCN pid=283047)\u001b[0m /home/daviddavo/upm-tfm-notebooks/.direnv/python-3.9/lib/python3.9/site-packages/recommenders/models/deeprec/DataModel/ImplicitCF.py:73: FutureWarning: The frame.append method is deprecated and will be removed from pandas in a future version. Use pandas.concat instead.\n",
      "\u001b[36m(TrainLightGCN pid=283047)\u001b[0m   df = train if test is None else train.append(test)\n"
     ]
    },
    {
     "name": "stderr",
     "output_type": "stream",
     "text": [
      "\u001b[33m(raylet)\u001b[0m [2024-03-11 04:41:20,661 E 29667 29696] (raylet) file_system_monitor.cc:111: /tmp/ray/session_2024-03-10_13-48-36_673092_28795 is over 95% full, available space: 4108025856; capacity: 105089261568. Object creation will fail if spilling is required.\n"
     ]
    },
    {
     "name": "stdout",
     "output_type": "stream",
     "text": [
      "\u001b[36m(TrainLightGCN pid=283047)\u001b[0m Already create adjacency matrix.\n"
     ]
    },
    {
     "name": "stdout",
     "output_type": "stream",
     "text": [
      "\u001b[36m(TrainLightGCN pid=283047)\u001b[0m Already normalize adjacency matrix.\n",
      "\u001b[36m(TrainLightGCN pid=283047)\u001b[0m Using xavier initialization.\n"
     ]
    },
    {
     "name": "stderr",
     "output_type": "stream",
     "text": [
      "\u001b[36m(TrainLightGCN pid=283047)\u001b[0m Trainable.setup took 11.700 seconds. If your trainable is slow to initialize, consider setting reuse_actors=True to reduce actor creation overheads.\n"
     ]
    },
    {
     "name": "stderr",
     "output_type": "stream",
     "text": [
      "\u001b[33m(raylet)\u001b[0m [2024-03-11 04:41:30,667 E 29667 29696] (raylet) file_system_monitor.cc:111: /tmp/ray/session_2024-03-10_13-48-36_673092_28795 is over 95% full, available space: 4108017664; capacity: 105089261568. Object creation will fail if spilling is required.\n"
     ]
    },
    {
     "name": "stderr",
     "output_type": "stream",
     "text": [
      "\u001b[36m(TrainLightGCN pid=281700)\u001b[0m Checkpoint successfully created at: Checkpoint(filesystem=local, path=/home/daviddavo/ray_results/LightGCN_optim=map@10,dao=PancakeSwap,freq=3d,normalize=True,cutoff_date=2023-07-01T00:00:00,fold=9_2024-03-11T02:49:22.390671/TrainLightGCN_a3ccc2fc_76_batch_size=10,conv_layers=4,embedding_dim=5,fold=9,l2=0.0000,learning_rate=0.0982_2024-03-11_04-35-51/checkpoint_000000)\n"
     ]
    },
    {
     "name": "stderr",
     "output_type": "stream",
     "text": [
      "\u001b[36m(pid=283283)\u001b[0m 2024-03-11 04:41:35.089435: E tensorflow/compiler/xla/stream_executor/cuda/cuda_dnn.cc:9342] Unable to register cuDNN factory: Attempting to register factory for plugin cuDNN when one has already been registered\n",
      "\u001b[36m(pid=283283)\u001b[0m 2024-03-11 04:41:35.089474: E tensorflow/compiler/xla/stream_executor/cuda/cuda_fft.cc:609] Unable to register cuFFT factory: Attempting to register factory for plugin cuFFT when one has already been registered\n",
      "\u001b[36m(pid=283283)\u001b[0m 2024-03-11 04:41:35.089489: E tensorflow/compiler/xla/stream_executor/cuda/cuda_blas.cc:1518] Unable to register cuBLAS factory: Attempting to register factory for plugin cuBLAS when one has already been registered\n"
     ]
    },
    {
     "name": "stderr",
     "output_type": "stream",
     "text": [
      "\u001b[36m(TrainLightGCN pid=283283)\u001b[0m /home/daviddavo/upm-tfm-notebooks/.direnv/python-3.9/lib/python3.9/site-packages/recommenders/models/deeprec/DataModel/ImplicitCF.py:73: FutureWarning: The frame.append method is deprecated and will be removed from pandas in a future version. Use pandas.concat instead.\n",
      "\u001b[36m(TrainLightGCN pid=283283)\u001b[0m   df = train if test is None else train.append(test)\n"
     ]
    },
    {
     "name": "stderr",
     "output_type": "stream",
     "text": [
      "\u001b[33m(raylet)\u001b[0m [2024-03-11 04:41:40,672 E 29667 29696] (raylet) file_system_monitor.cc:111: /tmp/ray/session_2024-03-10_13-48-36_673092_28795 is over 95% full, available space: 4078661632; capacity: 105089261568. Object creation will fail if spilling is required.\n"
     ]
    },
    {
     "name": "stdout",
     "output_type": "stream",
     "text": [
      "\u001b[36m(TrainLightGCN pid=283283)\u001b[0m Already create adjacency matrix.\n"
     ]
    },
    {
     "name": "stdout",
     "output_type": "stream",
     "text": [
      "\u001b[36m(TrainLightGCN pid=283283)\u001b[0m Already normalize adjacency matrix.\n",
      "\u001b[36m(TrainLightGCN pid=283283)\u001b[0m Using xavier initialization.\n"
     ]
    },
    {
     "name": "stderr",
     "output_type": "stream",
     "text": [
      "\u001b[36m(TrainLightGCN pid=283283)\u001b[0m Trainable.setup took 11.676 seconds. If your trainable is slow to initialize, consider setting reuse_actors=True to reduce actor creation overheads.\n"
     ]
    },
    {
     "name": "stderr",
     "output_type": "stream",
     "text": [
      "\u001b[33m(raylet)\u001b[0m [2024-03-11 04:41:50,677 E 29667 29696] (raylet) file_system_monitor.cc:111: /tmp/ray/session_2024-03-10_13-48-36_673092_28795 is over 95% full, available space: 4078628864; capacity: 105089261568. Object creation will fail if spilling is required.\n"
     ]
    },
    {
     "name": "stderr",
     "output_type": "stream",
     "text": [
      "\u001b[33m(raylet)\u001b[0m [2024-03-11 04:42:00,683 E 29667 29696] (raylet) file_system_monitor.cc:111: /tmp/ray/session_2024-03-10_13-48-36_673092_28795 is over 95% full, available space: 4078628864; capacity: 105089261568. Object creation will fail if spilling is required.\n"
     ]
    },
    {
     "name": "stderr",
     "output_type": "stream",
     "text": [
      "\u001b[33m(raylet)\u001b[0m [2024-03-11 04:42:10,687 E 29667 29696] (raylet) file_system_monitor.cc:111: /tmp/ray/session_2024-03-10_13-48-36_673092_28795 is over 95% full, available space: 4078608384; capacity: 105089261568. Object creation will fail if spilling is required.\n"
     ]
    },
    {
     "name": "stderr",
     "output_type": "stream",
     "text": [
      "\u001b[36m(TrainLightGCN pid=282187)\u001b[0m Checkpoint successfully created at: Checkpoint(filesystem=local, path=/home/daviddavo/ray_results/LightGCN_optim=map@10,dao=PancakeSwap,freq=3d,normalize=True,cutoff_date=2023-07-01T00:00:00,fold=9_2024-03-11T02:49:22.390671/TrainLightGCN_4aa2bd22_77_batch_size=13,conv_layers=3,embedding_dim=1,fold=9,l2=0.0000,learning_rate=0.1366_2024-03-11_04-36-23/checkpoint_000000)\n"
     ]
    },
    {
     "name": "stderr",
     "output_type": "stream",
     "text": [
      "\u001b[33m(raylet)\u001b[0m [2024-03-11 04:42:20,692 E 29667 29696] (raylet) file_system_monitor.cc:111: /tmp/ray/session_2024-03-10_13-48-36_673092_28795 is over 95% full, available space: 4055769088; capacity: 105089261568. Object creation will fail if spilling is required.\n"
     ]
    },
    {
     "name": "stderr",
     "output_type": "stream",
     "text": [
      "\u001b[36m(pid=283581)\u001b[0m 2024-03-11 04:42:22.085652: E tensorflow/compiler/xla/stream_executor/cuda/cuda_dnn.cc:9342] Unable to register cuDNN factory: Attempting to register factory for plugin cuDNN when one has already been registered\n",
      "\u001b[36m(pid=283581)\u001b[0m 2024-03-11 04:42:22.085686: E tensorflow/compiler/xla/stream_executor/cuda/cuda_fft.cc:609] Unable to register cuFFT factory: Attempting to register factory for plugin cuFFT when one has already been registered\n",
      "\u001b[36m(pid=283581)\u001b[0m 2024-03-11 04:42:22.085702: E tensorflow/compiler/xla/stream_executor/cuda/cuda_blas.cc:1518] Unable to register cuBLAS factory: Attempting to register factory for plugin cuBLAS when one has already been registered\n"
     ]
    },
    {
     "name": "stderr",
     "output_type": "stream",
     "text": [
      "\u001b[36m(TrainLightGCN pid=283581)\u001b[0m /home/daviddavo/upm-tfm-notebooks/.direnv/python-3.9/lib/python3.9/site-packages/recommenders/models/deeprec/DataModel/ImplicitCF.py:73: FutureWarning: The frame.append method is deprecated and will be removed from pandas in a future version. Use pandas.concat instead.\n",
      "\u001b[36m(TrainLightGCN pid=283581)\u001b[0m   df = train if test is None else train.append(test)\n"
     ]
    },
    {
     "name": "stderr",
     "output_type": "stream",
     "text": [
      "\u001b[33m(raylet)\u001b[0m [2024-03-11 04:42:30,696 E 29667 29696] (raylet) file_system_monitor.cc:111: /tmp/ray/session_2024-03-10_13-48-36_673092_28795 is over 95% full, available space: 4055740416; capacity: 105089261568. Object creation will fail if spilling is required.\n"
     ]
    },
    {
     "name": "stdout",
     "output_type": "stream",
     "text": [
      "\u001b[36m(TrainLightGCN pid=283581)\u001b[0m Already create adjacency matrix.\n"
     ]
    },
    {
     "name": "stdout",
     "output_type": "stream",
     "text": [
      "\u001b[36m(TrainLightGCN pid=283581)\u001b[0m Already normalize adjacency matrix.\n",
      "\u001b[36m(TrainLightGCN pid=283581)\u001b[0m Using xavier initialization.\n"
     ]
    },
    {
     "name": "stderr",
     "output_type": "stream",
     "text": [
      "\u001b[36m(TrainLightGCN pid=283581)\u001b[0m Trainable.setup took 11.721 seconds. If your trainable is slow to initialize, consider setting reuse_actors=True to reduce actor creation overheads.\n"
     ]
    },
    {
     "name": "stderr",
     "output_type": "stream",
     "text": [
      "\u001b[33m(raylet)\u001b[0m [2024-03-11 04:42:40,700 E 29667 29696] (raylet) file_system_monitor.cc:111: /tmp/ray/session_2024-03-10_13-48-36_673092_28795 is over 95% full, available space: 4055547904; capacity: 105089261568. Object creation will fail if spilling is required.\n"
     ]
    },
    {
     "name": "stderr",
     "output_type": "stream",
     "text": [
      "\u001b[33m(raylet)\u001b[0m [2024-03-11 04:42:50,705 E 29667 29696] (raylet) file_system_monitor.cc:111: /tmp/ray/session_2024-03-10_13-48-36_673092_28795 is over 95% full, available space: 4055531520; capacity: 105089261568. Object creation will fail if spilling is required.\n"
     ]
    },
    {
     "name": "stderr",
     "output_type": "stream",
     "text": [
      "\u001b[33m(raylet)\u001b[0m [2024-03-11 04:43:00,710 E 29667 29696] (raylet) file_system_monitor.cc:111: /tmp/ray/session_2024-03-10_13-48-36_673092_28795 is over 95% full, available space: 4055527424; capacity: 105089261568. Object creation will fail if spilling is required.\n"
     ]
    },
    {
     "name": "stderr",
     "output_type": "stream",
     "text": [
      "\u001b[33m(raylet)\u001b[0m [2024-03-11 04:43:10,715 E 29667 29696] (raylet) file_system_monitor.cc:111: /tmp/ray/session_2024-03-10_13-48-36_673092_28795 is over 95% full, available space: 4055519232; capacity: 105089261568. Object creation will fail if spilling is required.\n"
     ]
    },
    {
     "name": "stderr",
     "output_type": "stream",
     "text": [
      "\u001b[33m(raylet)\u001b[0m [2024-03-11 04:43:20,720 E 29667 29696] (raylet) file_system_monitor.cc:111: /tmp/ray/session_2024-03-10_13-48-36_673092_28795 is over 95% full, available space: 4055519232; capacity: 105089261568. Object creation will fail if spilling is required.\n"
     ]
    },
    {
     "name": "stderr",
     "output_type": "stream",
     "text": [
      "\u001b[33m(raylet)\u001b[0m [2024-03-11 04:43:30,725 E 29667 29696] (raylet) file_system_monitor.cc:111: /tmp/ray/session_2024-03-10_13-48-36_673092_28795 is over 95% full, available space: 4055511040; capacity: 105089261568. Object creation will fail if spilling is required.\n"
     ]
    },
    {
     "name": "stderr",
     "output_type": "stream",
     "text": [
      "\u001b[33m(raylet)\u001b[0m [2024-03-11 04:43:40,731 E 29667 29696] (raylet) file_system_monitor.cc:111: /tmp/ray/session_2024-03-10_13-48-36_673092_28795 is over 95% full, available space: 4055334912; capacity: 105089261568. Object creation will fail if spilling is required.\n"
     ]
    },
    {
     "name": "stderr",
     "output_type": "stream",
     "text": [
      "\u001b[33m(raylet)\u001b[0m [2024-03-11 04:43:50,736 E 29667 29696] (raylet) file_system_monitor.cc:111: /tmp/ray/session_2024-03-10_13-48-36_673092_28795 is over 95% full, available space: 4055302144; capacity: 105089261568. Object creation will fail if spilling is required.\n"
     ]
    },
    {
     "name": "stderr",
     "output_type": "stream",
     "text": [
      "\u001b[33m(raylet)\u001b[0m [2024-03-11 04:44:00,741 E 29667 29696] (raylet) file_system_monitor.cc:111: /tmp/ray/session_2024-03-10_13-48-36_673092_28795 is over 95% full, available space: 4055298048; capacity: 105089261568. Object creation will fail if spilling is required.\n"
     ]
    },
    {
     "name": "stderr",
     "output_type": "stream",
     "text": [
      "\u001b[33m(raylet)\u001b[0m [2024-03-11 04:44:10,746 E 29667 29696] (raylet) file_system_monitor.cc:111: /tmp/ray/session_2024-03-10_13-48-36_673092_28795 is over 95% full, available space: 4055285760; capacity: 105089261568. Object creation will fail if spilling is required.\n"
     ]
    },
    {
     "name": "stderr",
     "output_type": "stream",
     "text": [
      "\u001b[33m(raylet)\u001b[0m [2024-03-11 04:44:20,752 E 29667 29696] (raylet) file_system_monitor.cc:111: /tmp/ray/session_2024-03-10_13-48-36_673092_28795 is over 95% full, available space: 4055285760; capacity: 105089261568. Object creation will fail if spilling is required.\n"
     ]
    },
    {
     "name": "stderr",
     "output_type": "stream",
     "text": [
      "\u001b[33m(raylet)\u001b[0m [2024-03-11 04:44:30,757 E 29667 29696] (raylet) file_system_monitor.cc:111: /tmp/ray/session_2024-03-10_13-48-36_673092_28795 is over 95% full, available space: 4055273472; capacity: 105089261568. Object creation will fail if spilling is required.\n"
     ]
    },
    {
     "name": "stderr",
     "output_type": "stream",
     "text": [
      "\u001b[33m(raylet)\u001b[0m [2024-03-11 04:44:40,762 E 29667 29696] (raylet) file_system_monitor.cc:111: /tmp/ray/session_2024-03-10_13-48-36_673092_28795 is over 95% full, available space: 4055080960; capacity: 105089261568. Object creation will fail if spilling is required.\n"
     ]
    },
    {
     "name": "stderr",
     "output_type": "stream",
     "text": [
      "\u001b[33m(raylet)\u001b[0m [2024-03-11 04:44:50,768 E 29667 29696] (raylet) file_system_monitor.cc:111: /tmp/ray/session_2024-03-10_13-48-36_673092_28795 is over 95% full, available space: 4055060480; capacity: 105089261568. Object creation will fail if spilling is required.\n"
     ]
    },
    {
     "name": "stderr",
     "output_type": "stream",
     "text": [
      "\u001b[33m(raylet)\u001b[0m [2024-03-11 04:45:00,773 E 29667 29696] (raylet) file_system_monitor.cc:111: /tmp/ray/session_2024-03-10_13-48-36_673092_28795 is over 95% full, available space: 4055056384; capacity: 105089261568. Object creation will fail if spilling is required.\n"
     ]
    },
    {
     "name": "stderr",
     "output_type": "stream",
     "text": [
      "\u001b[33m(raylet)\u001b[0m [2024-03-11 04:45:10,779 E 29667 29696] (raylet) file_system_monitor.cc:111: /tmp/ray/session_2024-03-10_13-48-36_673092_28795 is over 95% full, available space: 4055052288; capacity: 105089261568. Object creation will fail if spilling is required.\n"
     ]
    },
    {
     "name": "stderr",
     "output_type": "stream",
     "text": [
      "\u001b[36m(TrainLightGCN pid=282642)\u001b[0m Checkpoint successfully created at: Checkpoint(filesystem=local, path=/home/daviddavo/ray_results/LightGCN_optim=map@10,dao=PancakeSwap,freq=3d,normalize=True,cutoff_date=2023-07-01T00:00:00,fold=9_2024-03-11T02:49:22.390671/TrainLightGCN_2b1f246a_78_batch_size=9,conv_layers=5,embedding_dim=3,fold=9,l2=0.0000,learning_rate=0.3529_2024-03-11_04-38-15/checkpoint_000000)\n"
     ]
    },
    {
     "name": "stderr",
     "output_type": "stream",
     "text": [
      "\u001b[36m(pid=284240)\u001b[0m 2024-03-11 04:45:14.141638: E tensorflow/compiler/xla/stream_executor/cuda/cuda_dnn.cc:9342] Unable to register cuDNN factory: Attempting to register factory for plugin cuDNN when one has already been registered\n",
      "\u001b[36m(pid=284240)\u001b[0m 2024-03-11 04:45:14.141675: E tensorflow/compiler/xla/stream_executor/cuda/cuda_fft.cc:609] Unable to register cuFFT factory: Attempting to register factory for plugin cuFFT when one has already been registered\n",
      "\u001b[36m(pid=284240)\u001b[0m 2024-03-11 04:45:14.141692: E tensorflow/compiler/xla/stream_executor/cuda/cuda_blas.cc:1518] Unable to register cuBLAS factory: Attempting to register factory for plugin cuBLAS when one has already been registered\n"
     ]
    },
    {
     "name": "stderr",
     "output_type": "stream",
     "text": [
      "\u001b[36m(TrainLightGCN pid=284240)\u001b[0m /home/daviddavo/upm-tfm-notebooks/.direnv/python-3.9/lib/python3.9/site-packages/recommenders/models/deeprec/DataModel/ImplicitCF.py:73: FutureWarning: The frame.append method is deprecated and will be removed from pandas in a future version. Use pandas.concat instead.\n",
      "\u001b[36m(TrainLightGCN pid=284240)\u001b[0m   df = train if test is None else train.append(test)\n"
     ]
    },
    {
     "name": "stderr",
     "output_type": "stream",
     "text": [
      "\u001b[33m(raylet)\u001b[0m [2024-03-11 04:45:20,784 E 29667 29696] (raylet) file_system_monitor.cc:111: /tmp/ray/session_2024-03-10_13-48-36_673092_28795 is over 95% full, available space: 4029009920; capacity: 105089261568. Object creation will fail if spilling is required.\n"
     ]
    },
    {
     "name": "stdout",
     "output_type": "stream",
     "text": [
      "\u001b[36m(TrainLightGCN pid=284240)\u001b[0m Already create adjacency matrix.\n"
     ]
    },
    {
     "name": "stdout",
     "output_type": "stream",
     "text": [
      "\u001b[36m(TrainLightGCN pid=284240)\u001b[0m Already normalize adjacency matrix.\n",
      "\u001b[36m(TrainLightGCN pid=284240)\u001b[0m Using xavier initialization.\n"
     ]
    },
    {
     "name": "stderr",
     "output_type": "stream",
     "text": [
      "\u001b[36m(TrainLightGCN pid=284240)\u001b[0m Trainable.setup took 11.752 seconds. If your trainable is slow to initialize, consider setting reuse_actors=True to reduce actor creation overheads.\n"
     ]
    },
    {
     "name": "stderr",
     "output_type": "stream",
     "text": [
      "\u001b[33m(raylet)\u001b[0m [2024-03-11 04:45:30,789 E 29667 29696] (raylet) file_system_monitor.cc:111: /tmp/ray/session_2024-03-10_13-48-36_673092_28795 is over 95% full, available space: 4029001728; capacity: 105089261568. Object creation will fail if spilling is required.\n"
     ]
    },
    {
     "name": "stderr",
     "output_type": "stream",
     "text": [
      "\u001b[33m(raylet)\u001b[0m [2024-03-11 04:45:40,795 E 29667 29696] (raylet) file_system_monitor.cc:111: /tmp/ray/session_2024-03-10_13-48-36_673092_28795 is over 95% full, available space: 4028821504; capacity: 105089261568. Object creation will fail if spilling is required.\n"
     ]
    },
    {
     "name": "stderr",
     "output_type": "stream",
     "text": [
      "\u001b[36m(TrainLightGCN pid=283047)\u001b[0m Checkpoint successfully created at: Checkpoint(filesystem=local, path=/home/daviddavo/ray_results/LightGCN_optim=map@10,dao=PancakeSwap,freq=3d,normalize=True,cutoff_date=2023-07-01T00:00:00,fold=9_2024-03-11T02:49:22.390671/TrainLightGCN_f89aa7cd_79_batch_size=12,conv_layers=4,embedding_dim=1,fold=9,l2=0.0004,learning_rate=0.8752_2024-03-11_04-39-58/checkpoint_000000)\n"
     ]
    },
    {
     "name": "stderr",
     "output_type": "stream",
     "text": [
      "\u001b[36m(pid=284491)\u001b[0m 2024-03-11 04:45:47.145830: E tensorflow/compiler/xla/stream_executor/cuda/cuda_dnn.cc:9342] Unable to register cuDNN factory: Attempting to register factory for plugin cuDNN when one has already been registered\n",
      "\u001b[36m(pid=284491)\u001b[0m 2024-03-11 04:45:47.145866: E tensorflow/compiler/xla/stream_executor/cuda/cuda_fft.cc:609] Unable to register cuFFT factory: Attempting to register factory for plugin cuFFT when one has already been registered\n",
      "\u001b[36m(pid=284491)\u001b[0m 2024-03-11 04:45:47.145880: E tensorflow/compiler/xla/stream_executor/cuda/cuda_blas.cc:1518] Unable to register cuBLAS factory: Attempting to register factory for plugin cuBLAS when one has already been registered\n"
     ]
    },
    {
     "name": "stderr",
     "output_type": "stream",
     "text": [
      "\u001b[36m(TrainLightGCN pid=284491)\u001b[0m /home/daviddavo/upm-tfm-notebooks/.direnv/python-3.9/lib/python3.9/site-packages/recommenders/models/deeprec/DataModel/ImplicitCF.py:73: FutureWarning: The frame.append method is deprecated and will be removed from pandas in a future version. Use pandas.concat instead.\n",
      "\u001b[36m(TrainLightGCN pid=284491)\u001b[0m   df = train if test is None else train.append(test)\n"
     ]
    },
    {
     "name": "stderr",
     "output_type": "stream",
     "text": [
      "\u001b[33m(raylet)\u001b[0m [2024-03-11 04:45:50,800 E 29667 29696] (raylet) file_system_monitor.cc:111: /tmp/ray/session_2024-03-10_13-48-36_673092_28795 is over 95% full, available space: 4005937152; capacity: 105089261568. Object creation will fail if spilling is required.\n"
     ]
    },
    {
     "name": "stdout",
     "output_type": "stream",
     "text": [
      "\u001b[36m(TrainLightGCN pid=284491)\u001b[0m Already create adjacency matrix.\n"
     ]
    },
    {
     "name": "stdout",
     "output_type": "stream",
     "text": [
      "\u001b[36m(TrainLightGCN pid=284491)\u001b[0m Already normalize adjacency matrix.\n"
     ]
    },
    {
     "name": "stdout",
     "output_type": "stream",
     "text": [
      "\u001b[36m(TrainLightGCN pid=284491)\u001b[0m Using xavier initialization.\n"
     ]
    },
    {
     "name": "stderr",
     "output_type": "stream",
     "text": [
      "\u001b[33m(raylet)\u001b[0m [2024-03-11 04:46:00,805 E 29667 29696] (raylet) file_system_monitor.cc:111: /tmp/ray/session_2024-03-10_13-48-36_673092_28795 is over 95% full, available space: 4005928960; capacity: 105089261568. Object creation will fail if spilling is required.\n",
      "\u001b[36m(TrainLightGCN pid=284491)\u001b[0m Trainable.setup took 11.647 seconds. If your trainable is slow to initialize, consider setting reuse_actors=True to reduce actor creation overheads.\n"
     ]
    },
    {
     "name": "stderr",
     "output_type": "stream",
     "text": [
      "\u001b[33m(raylet)\u001b[0m [2024-03-11 04:46:10,811 E 29667 29696] (raylet) file_system_monitor.cc:111: /tmp/ray/session_2024-03-10_13-48-36_673092_28795 is over 95% full, available space: 4005924864; capacity: 105089261568. Object creation will fail if spilling is required.\n"
     ]
    },
    {
     "name": "stderr",
     "output_type": "stream",
     "text": [
      "\u001b[36m(TrainLightGCN pid=283283)\u001b[0m Checkpoint successfully created at: Checkpoint(filesystem=local, path=/home/daviddavo/ray_results/LightGCN_optim=map@10,dao=PancakeSwap,freq=3d,normalize=True,cutoff_date=2023-07-01T00:00:00,fold=9_2024-03-11T02:49:22.390671/TrainLightGCN_19e9004c_80_batch_size=12,conv_layers=5,embedding_dim=1,fold=9,l2=0.0003,learning_rate=0.0769_2024-03-11_04-41-22/checkpoint_000000)\n"
     ]
    },
    {
     "name": "stderr",
     "output_type": "stream",
     "text": [
      "\u001b[36m(pid=284732)\u001b[0m 2024-03-11 04:46:16.126710: E tensorflow/compiler/xla/stream_executor/cuda/cuda_dnn.cc:9342] Unable to register cuDNN factory: Attempting to register factory for plugin cuDNN when one has already been registered\n",
      "\u001b[36m(pid=284732)\u001b[0m 2024-03-11 04:46:16.126748: E tensorflow/compiler/xla/stream_executor/cuda/cuda_fft.cc:609] Unable to register cuFFT factory: Attempting to register factory for plugin cuFFT when one has already been registered\n",
      "\u001b[36m(pid=284732)\u001b[0m 2024-03-11 04:46:16.126762: E tensorflow/compiler/xla/stream_executor/cuda/cuda_blas.cc:1518] Unable to register cuBLAS factory: Attempting to register factory for plugin cuBLAS when one has already been registered\n"
     ]
    },
    {
     "name": "stderr",
     "output_type": "stream",
     "text": [
      "\u001b[36m(TrainLightGCN pid=284732)\u001b[0m /home/daviddavo/upm-tfm-notebooks/.direnv/python-3.9/lib/python3.9/site-packages/recommenders/models/deeprec/DataModel/ImplicitCF.py:73: FutureWarning: The frame.append method is deprecated and will be removed from pandas in a future version. Use pandas.concat instead.\n",
      "\u001b[36m(TrainLightGCN pid=284732)\u001b[0m   df = train if test is None else train.append(test)\n"
     ]
    },
    {
     "name": "stderr",
     "output_type": "stream",
     "text": [
      "\u001b[33m(raylet)\u001b[0m [2024-03-11 04:46:20,816 E 29667 29696] (raylet) file_system_monitor.cc:111: /tmp/ray/session_2024-03-10_13-48-36_673092_28795 is over 95% full, available space: 3983060992; capacity: 105089261568. Object creation will fail if spilling is required.\n"
     ]
    },
    {
     "name": "stdout",
     "output_type": "stream",
     "text": [
      "\u001b[36m(TrainLightGCN pid=284732)\u001b[0m Already create adjacency matrix.\n"
     ]
    },
    {
     "name": "stdout",
     "output_type": "stream",
     "text": [
      "\u001b[36m(TrainLightGCN pid=284732)\u001b[0m Already normalize adjacency matrix.\n",
      "\u001b[36m(TrainLightGCN pid=284732)\u001b[0m Using xavier initialization.\n"
     ]
    },
    {
     "name": "stderr",
     "output_type": "stream",
     "text": [
      "\u001b[36m(TrainLightGCN pid=284732)\u001b[0m Trainable.setup took 11.674 seconds. If your trainable is slow to initialize, consider setting reuse_actors=True to reduce actor creation overheads.\n"
     ]
    },
    {
     "name": "stderr",
     "output_type": "stream",
     "text": [
      "\u001b[33m(raylet)\u001b[0m [2024-03-11 04:46:30,821 E 29667 29696] (raylet) file_system_monitor.cc:111: /tmp/ray/session_2024-03-10_13-48-36_673092_28795 is over 95% full, available space: 3983040512; capacity: 105089261568. Object creation will fail if spilling is required.\n"
     ]
    },
    {
     "name": "stderr",
     "output_type": "stream",
     "text": [
      "\u001b[36m(TrainLightGCN pid=283581)\u001b[0m Checkpoint successfully created at: Checkpoint(filesystem=local, path=/home/daviddavo/ray_results/LightGCN_optim=map@10,dao=PancakeSwap,freq=3d,normalize=True,cutoff_date=2023-07-01T00:00:00,fold=9_2024-03-11T02:49:22.390671/TrainLightGCN_d8af5896_81_batch_size=13,conv_layers=3,embedding_dim=2,fold=9,l2=0.0001,learning_rate=0.6203_2024-03-11_04-41-48/checkpoint_000000)\n"
     ]
    },
    {
     "name": "stderr",
     "output_type": "stream",
     "text": [
      "\u001b[36m(pid=284955)\u001b[0m 2024-03-11 04:46:39.165368: E tensorflow/compiler/xla/stream_executor/cuda/cuda_dnn.cc:9342] Unable to register cuDNN factory: Attempting to register factory for plugin cuDNN when one has already been registered\n",
      "\u001b[36m(pid=284955)\u001b[0m 2024-03-11 04:46:39.165403: E tensorflow/compiler/xla/stream_executor/cuda/cuda_fft.cc:609] Unable to register cuFFT factory: Attempting to register factory for plugin cuFFT when one has already been registered\n",
      "\u001b[36m(pid=284955)\u001b[0m 2024-03-11 04:46:39.165417: E tensorflow/compiler/xla/stream_executor/cuda/cuda_blas.cc:1518] Unable to register cuBLAS factory: Attempting to register factory for plugin cuBLAS when one has already been registered\n"
     ]
    },
    {
     "name": "stderr",
     "output_type": "stream",
     "text": [
      "\u001b[33m(raylet)\u001b[0m [2024-03-11 04:46:40,827 E 29667 29696] (raylet) file_system_monitor.cc:111: /tmp/ray/session_2024-03-10_13-48-36_673092_28795 is over 95% full, available space: 3958419456; capacity: 105089261568. Object creation will fail if spilling is required.\n"
     ]
    },
    {
     "name": "stderr",
     "output_type": "stream",
     "text": [
      "\u001b[36m(TrainLightGCN pid=284955)\u001b[0m /home/daviddavo/upm-tfm-notebooks/.direnv/python-3.9/lib/python3.9/site-packages/recommenders/models/deeprec/DataModel/ImplicitCF.py:73: FutureWarning: The frame.append method is deprecated and will be removed from pandas in a future version. Use pandas.concat instead.\n",
      "\u001b[36m(TrainLightGCN pid=284955)\u001b[0m   df = train if test is None else train.append(test)\n"
     ]
    },
    {
     "name": "stderr",
     "output_type": "stream",
     "text": [
      "\u001b[33m(raylet)\u001b[0m [2024-03-11 04:46:50,832 E 29667 29696] (raylet) file_system_monitor.cc:111: /tmp/ray/session_2024-03-10_13-48-36_673092_28795 is over 95% full, available space: 3958390784; capacity: 105089261568. Object creation will fail if spilling is required.\n"
     ]
    },
    {
     "name": "stdout",
     "output_type": "stream",
     "text": [
      "\u001b[36m(TrainLightGCN pid=284955)\u001b[0m Already create adjacency matrix.\n"
     ]
    },
    {
     "name": "stdout",
     "output_type": "stream",
     "text": [
      "\u001b[36m(TrainLightGCN pid=284955)\u001b[0m Already normalize adjacency matrix.\n",
      "\u001b[36m(TrainLightGCN pid=284955)\u001b[0m Using xavier initialization.\n"
     ]
    },
    {
     "name": "stderr",
     "output_type": "stream",
     "text": [
      "\u001b[36m(TrainLightGCN pid=284955)\u001b[0m Trainable.setup took 11.638 seconds. If your trainable is slow to initialize, consider setting reuse_actors=True to reduce actor creation overheads.\n"
     ]
    },
    {
     "name": "stderr",
     "output_type": "stream",
     "text": [
      "\u001b[33m(raylet)\u001b[0m [2024-03-11 04:47:00,838 E 29667 29696] (raylet) file_system_monitor.cc:111: /tmp/ray/session_2024-03-10_13-48-36_673092_28795 is over 95% full, available space: 3958382592; capacity: 105089261568. Object creation will fail if spilling is required.\n"
     ]
    },
    {
     "name": "stderr",
     "output_type": "stream",
     "text": [
      "\u001b[33m(raylet)\u001b[0m [2024-03-11 04:47:10,843 E 29667 29696] (raylet) file_system_monitor.cc:111: /tmp/ray/session_2024-03-10_13-48-36_673092_28795 is over 95% full, available space: 3958378496; capacity: 105089261568. Object creation will fail if spilling is required.\n"
     ]
    },
    {
     "name": "stderr",
     "output_type": "stream",
     "text": [
      "\u001b[33m(raylet)\u001b[0m [2024-03-11 04:47:20,848 E 29667 29696] (raylet) file_system_monitor.cc:111: /tmp/ray/session_2024-03-10_13-48-36_673092_28795 is over 95% full, available space: 3958366208; capacity: 105089261568. Object creation will fail if spilling is required.\n"
     ]
    },
    {
     "name": "stderr",
     "output_type": "stream",
     "text": [
      "\u001b[33m(raylet)\u001b[0m [2024-03-11 04:47:30,854 E 29667 29696] (raylet) file_system_monitor.cc:111: /tmp/ray/session_2024-03-10_13-48-36_673092_28795 is over 95% full, available space: 3958366208; capacity: 105089261568. Object creation will fail if spilling is required.\n"
     ]
    },
    {
     "name": "stderr",
     "output_type": "stream",
     "text": [
      "\u001b[33m(raylet)\u001b[0m [2024-03-11 04:47:40,859 E 29667 29696] (raylet) file_system_monitor.cc:111: /tmp/ray/session_2024-03-10_13-48-36_673092_28795 is over 95% full, available space: 3958190080; capacity: 105089261568. Object creation will fail if spilling is required.\n"
     ]
    },
    {
     "name": "stderr",
     "output_type": "stream",
     "text": [
      "\u001b[33m(raylet)\u001b[0m [2024-03-11 04:47:50,864 E 29667 29696] (raylet) file_system_monitor.cc:111: /tmp/ray/session_2024-03-10_13-48-36_673092_28795 is over 95% full, available space: 3958169600; capacity: 105089261568. Object creation will fail if spilling is required.\n"
     ]
    },
    {
     "name": "stderr",
     "output_type": "stream",
     "text": [
      "\u001b[33m(raylet)\u001b[0m [2024-03-11 04:48:00,869 E 29667 29696] (raylet) file_system_monitor.cc:111: /tmp/ray/session_2024-03-10_13-48-36_673092_28795 is over 95% full, available space: 3958165504; capacity: 105089261568. Object creation will fail if spilling is required.\n"
     ]
    },
    {
     "name": "stderr",
     "output_type": "stream",
     "text": [
      "\u001b[33m(raylet)\u001b[0m [2024-03-11 04:48:10,874 E 29667 29696] (raylet) file_system_monitor.cc:111: /tmp/ray/session_2024-03-10_13-48-36_673092_28795 is over 95% full, available space: 3958165504; capacity: 105089261568. Object creation will fail if spilling is required.\n"
     ]
    },
    {
     "name": "stderr",
     "output_type": "stream",
     "text": [
      "\u001b[33m(raylet)\u001b[0m [2024-03-11 04:48:20,880 E 29667 29696] (raylet) file_system_monitor.cc:111: /tmp/ray/session_2024-03-10_13-48-36_673092_28795 is over 95% full, available space: 3958140928; capacity: 105089261568. Object creation will fail if spilling is required.\n"
     ]
    },
    {
     "name": "stderr",
     "output_type": "stream",
     "text": [
      "\u001b[33m(raylet)\u001b[0m [2024-03-11 04:48:30,885 E 29667 29696] (raylet) file_system_monitor.cc:111: /tmp/ray/session_2024-03-10_13-48-36_673092_28795 is over 95% full, available space: 3958140928; capacity: 105089261568. Object creation will fail if spilling is required.\n"
     ]
    },
    {
     "name": "stderr",
     "output_type": "stream",
     "text": [
      "\u001b[33m(raylet)\u001b[0m [2024-03-11 04:48:40,891 E 29667 29696] (raylet) file_system_monitor.cc:111: /tmp/ray/session_2024-03-10_13-48-36_673092_28795 is over 95% full, available space: 3957948416; capacity: 105089261568. Object creation will fail if spilling is required.\n"
     ]
    },
    {
     "name": "stderr",
     "output_type": "stream",
     "text": [
      "\u001b[33m(raylet)\u001b[0m [2024-03-11 04:48:50,896 E 29667 29696] (raylet) file_system_monitor.cc:111: /tmp/ray/session_2024-03-10_13-48-36_673092_28795 is over 95% full, available space: 3957927936; capacity: 105089261568. Object creation will fail if spilling is required.\n"
     ]
    },
    {
     "name": "stderr",
     "output_type": "stream",
     "text": [
      "\u001b[33m(raylet)\u001b[0m [2024-03-11 04:49:00,901 E 29667 29696] (raylet) file_system_monitor.cc:111: /tmp/ray/session_2024-03-10_13-48-36_673092_28795 is over 95% full, available space: 3957927936; capacity: 105089261568. Object creation will fail if spilling is required.\n"
     ]
    },
    {
     "name": "stderr",
     "output_type": "stream",
     "text": [
      "\u001b[33m(raylet)\u001b[0m [2024-03-11 04:49:10,906 E 29667 29696] (raylet) file_system_monitor.cc:111: /tmp/ray/session_2024-03-10_13-48-36_673092_28795 is over 95% full, available space: 3957923840; capacity: 105089261568. Object creation will fail if spilling is required.\n"
     ]
    },
    {
     "name": "stderr",
     "output_type": "stream",
     "text": [
      "\u001b[33m(raylet)\u001b[0m [2024-03-11 04:49:20,910 E 29667 29696] (raylet) file_system_monitor.cc:111: /tmp/ray/session_2024-03-10_13-48-36_673092_28795 is over 95% full, available space: 3957907456; capacity: 105089261568. Object creation will fail if spilling is required.\n"
     ]
    },
    {
     "name": "stderr",
     "output_type": "stream",
     "text": [
      "\u001b[36m(TrainLightGCN pid=284240)\u001b[0m Checkpoint successfully created at: Checkpoint(filesystem=local, path=/home/daviddavo/ray_results/LightGCN_optim=map@10,dao=PancakeSwap,freq=3d,normalize=True,cutoff_date=2023-07-01T00:00:00,fold=9_2024-03-11T02:49:22.390671/TrainLightGCN_5fcaca30_82_batch_size=13,conv_layers=2,embedding_dim=1,fold=9,l2=0.0000,learning_rate=0.1315_2024-03-11_04-42-35/checkpoint_000000)\n"
     ]
    },
    {
     "name": "stderr",
     "output_type": "stream",
     "text": [
      "\u001b[36m(pid=285622)\u001b[0m 2024-03-11 04:49:30.171283: E tensorflow/compiler/xla/stream_executor/cuda/cuda_dnn.cc:9342] Unable to register cuDNN factory: Attempting to register factory for plugin cuDNN when one has already been registered\n",
      "\u001b[36m(pid=285622)\u001b[0m 2024-03-11 04:49:30.171321: E tensorflow/compiler/xla/stream_executor/cuda/cuda_fft.cc:609] Unable to register cuFFT factory: Attempting to register factory for plugin cuFFT when one has already been registered\n",
      "\u001b[36m(pid=285622)\u001b[0m 2024-03-11 04:49:30.171337: E tensorflow/compiler/xla/stream_executor/cuda/cuda_blas.cc:1518] Unable to register cuBLAS factory: Attempting to register factory for plugin cuBLAS when one has already been registered\n"
     ]
    },
    {
     "name": "stderr",
     "output_type": "stream",
     "text": [
      "\u001b[33m(raylet)\u001b[0m [2024-03-11 04:49:30,915 E 29667 29696] (raylet) file_system_monitor.cc:111: /tmp/ray/session_2024-03-10_13-48-36_673092_28795 is over 95% full, available space: 3935059968; capacity: 105089261568. Object creation will fail if spilling is required.\n"
     ]
    },
    {
     "name": "stderr",
     "output_type": "stream",
     "text": [
      "\u001b[36m(TrainLightGCN pid=285622)\u001b[0m /home/daviddavo/upm-tfm-notebooks/.direnv/python-3.9/lib/python3.9/site-packages/recommenders/models/deeprec/DataModel/ImplicitCF.py:73: FutureWarning: The frame.append method is deprecated and will be removed from pandas in a future version. Use pandas.concat instead.\n",
      "\u001b[36m(TrainLightGCN pid=285622)\u001b[0m   df = train if test is None else train.append(test)\n"
     ]
    },
    {
     "name": "stderr",
     "output_type": "stream",
     "text": [
      "\u001b[33m(raylet)\u001b[0m [2024-03-11 04:49:40,920 E 29667 29696] (raylet) file_system_monitor.cc:111: /tmp/ray/session_2024-03-10_13-48-36_673092_28795 is over 95% full, available space: 3934875648; capacity: 105089261568. Object creation will fail if spilling is required.\n"
     ]
    },
    {
     "name": "stdout",
     "output_type": "stream",
     "text": [
      "\u001b[36m(TrainLightGCN pid=285622)\u001b[0m Already create adjacency matrix.\n"
     ]
    },
    {
     "name": "stdout",
     "output_type": "stream",
     "text": [
      "\u001b[36m(TrainLightGCN pid=285622)\u001b[0m Already normalize adjacency matrix.\n",
      "\u001b[36m(TrainLightGCN pid=285622)\u001b[0m Using xavier initialization.\n"
     ]
    },
    {
     "name": "stderr",
     "output_type": "stream",
     "text": [
      "\u001b[36m(TrainLightGCN pid=285622)\u001b[0m Trainable.setup took 11.765 seconds. If your trainable is slow to initialize, consider setting reuse_actors=True to reduce actor creation overheads.\n"
     ]
    },
    {
     "name": "stderr",
     "output_type": "stream",
     "text": [
      "\u001b[33m(raylet)\u001b[0m [2024-03-11 04:49:50,924 E 29667 29696] (raylet) file_system_monitor.cc:111: /tmp/ray/session_2024-03-10_13-48-36_673092_28795 is over 95% full, available space: 3934846976; capacity: 105089261568. Object creation will fail if spilling is required.\n"
     ]
    },
    {
     "name": "stderr",
     "output_type": "stream",
     "text": [
      "\u001b[33m(raylet)\u001b[0m [2024-03-11 04:50:00,929 E 29667 29696] (raylet) file_system_monitor.cc:111: /tmp/ray/session_2024-03-10_13-48-36_673092_28795 is over 95% full, available space: 3934838784; capacity: 105089261568. Object creation will fail if spilling is required.\n"
     ]
    },
    {
     "name": "stderr",
     "output_type": "stream",
     "text": [
      "\u001b[33m(raylet)\u001b[0m [2024-03-11 04:50:10,934 E 29667 29696] (raylet) file_system_monitor.cc:111: /tmp/ray/session_2024-03-10_13-48-36_673092_28795 is over 95% full, available space: 3934834688; capacity: 105089261568. Object creation will fail if spilling is required.\n"
     ]
    },
    {
     "name": "stderr",
     "output_type": "stream",
     "text": [
      "\u001b[33m(raylet)\u001b[0m [2024-03-11 04:50:20,939 E 29667 29696] (raylet) file_system_monitor.cc:111: /tmp/ray/session_2024-03-10_13-48-36_673092_28795 is over 95% full, available space: 3934822400; capacity: 105089261568. Object creation will fail if spilling is required.\n"
     ]
    },
    {
     "name": "stderr",
     "output_type": "stream",
     "text": [
      "\u001b[33m(raylet)\u001b[0m [2024-03-11 04:50:30,944 E 29667 29696] (raylet) file_system_monitor.cc:111: /tmp/ray/session_2024-03-10_13-48-36_673092_28795 is over 95% full, available space: 3934818304; capacity: 105089261568. Object creation will fail if spilling is required.\n"
     ]
    },
    {
     "name": "stderr",
     "output_type": "stream",
     "text": [
      "\u001b[36m(TrainLightGCN pid=284732)\u001b[0m Checkpoint successfully created at: Checkpoint(filesystem=local, path=/home/daviddavo/ray_results/LightGCN_optim=map@10,dao=PancakeSwap,freq=3d,normalize=True,cutoff_date=2023-07-01T00:00:00,fold=9_2024-03-11T02:49:22.390671/TrainLightGCN_470222a2_84_batch_size=13,conv_layers=3,embedding_dim=1,fold=9,l2=0.0000,learning_rate=0.2409_2024-03-11_04-46-00/checkpoint_000000)\n"
     ]
    },
    {
     "name": "stderr",
     "output_type": "stream",
     "text": [
      "\u001b[36m(pid=285966)\u001b[0m 2024-03-11 04:50:35.193359: E tensorflow/compiler/xla/stream_executor/cuda/cuda_dnn.cc:9342] Unable to register cuDNN factory: Attempting to register factory for plugin cuDNN when one has already been registered\n",
      "\u001b[36m(pid=285966)\u001b[0m 2024-03-11 04:50:35.193396: E tensorflow/compiler/xla/stream_executor/cuda/cuda_fft.cc:609] Unable to register cuFFT factory: Attempting to register factory for plugin cuFFT when one has already been registered\n",
      "\u001b[36m(pid=285966)\u001b[0m 2024-03-11 04:50:35.193411: E tensorflow/compiler/xla/stream_executor/cuda/cuda_blas.cc:1518] Unable to register cuBLAS factory: Attempting to register factory for plugin cuBLAS when one has already been registered\n"
     ]
    },
    {
     "name": "stderr",
     "output_type": "stream",
     "text": [
      "\u001b[36m(TrainLightGCN pid=285966)\u001b[0m /home/daviddavo/upm-tfm-notebooks/.direnv/python-3.9/lib/python3.9/site-packages/recommenders/models/deeprec/DataModel/ImplicitCF.py:73: FutureWarning: The frame.append method is deprecated and will be removed from pandas in a future version. Use pandas.concat instead.\n",
      "\u001b[36m(TrainLightGCN pid=285966)\u001b[0m   df = train if test is None else train.append(test)\n"
     ]
    },
    {
     "name": "stderr",
     "output_type": "stream",
     "text": [
      "\u001b[33m(raylet)\u001b[0m [2024-03-11 04:50:40,949 E 29667 29696] (raylet) file_system_monitor.cc:111: /tmp/ray/session_2024-03-10_13-48-36_673092_28795 is over 95% full, available space: 3911757824; capacity: 105089261568. Object creation will fail if spilling is required.\n"
     ]
    },
    {
     "name": "stdout",
     "output_type": "stream",
     "text": [
      "\u001b[36m(TrainLightGCN pid=285966)\u001b[0m Already create adjacency matrix.\n"
     ]
    },
    {
     "name": "stdout",
     "output_type": "stream",
     "text": [
      "\u001b[36m(TrainLightGCN pid=285966)\u001b[0m Already normalize adjacency matrix.\n",
      "\u001b[36m(TrainLightGCN pid=285966)\u001b[0m Using xavier initialization.\n"
     ]
    },
    {
     "name": "stderr",
     "output_type": "stream",
     "text": [
      "\u001b[36m(TrainLightGCN pid=285966)\u001b[0m Trainable.setup took 11.673 seconds. If your trainable is slow to initialize, consider setting reuse_actors=True to reduce actor creation overheads.\n"
     ]
    },
    {
     "name": "stderr",
     "output_type": "stream",
     "text": [
      "\u001b[33m(raylet)\u001b[0m [2024-03-11 04:50:50,954 E 29667 29696] (raylet) file_system_monitor.cc:111: /tmp/ray/session_2024-03-10_13-48-36_673092_28795 is over 95% full, available space: 3911737344; capacity: 105089261568. Object creation will fail if spilling is required.\n"
     ]
    },
    {
     "name": "stderr",
     "output_type": "stream",
     "text": [
      "\u001b[33m(raylet)\u001b[0m [2024-03-11 04:51:00,959 E 29667 29696] (raylet) file_system_monitor.cc:111: /tmp/ray/session_2024-03-10_13-48-36_673092_28795 is over 95% full, available space: 3911733248; capacity: 105089261568. Object creation will fail if spilling is required.\n"
     ]
    },
    {
     "name": "stderr",
     "output_type": "stream",
     "text": [
      "\u001b[33m(raylet)\u001b[0m [2024-03-11 04:51:10,964 E 29667 29696] (raylet) file_system_monitor.cc:111: /tmp/ray/session_2024-03-10_13-48-36_673092_28795 is over 95% full, available space: 3911729152; capacity: 105089261568. Object creation will fail if spilling is required.\n"
     ]
    },
    {
     "name": "stderr",
     "output_type": "stream",
     "text": [
      "\u001b[33m(raylet)\u001b[0m [2024-03-11 04:51:20,968 E 29667 29696] (raylet) file_system_monitor.cc:111: /tmp/ray/session_2024-03-10_13-48-36_673092_28795 is over 95% full, available space: 3911725056; capacity: 105089261568. Object creation will fail if spilling is required.\n"
     ]
    },
    {
     "name": "stderr",
     "output_type": "stream",
     "text": [
      "\u001b[36m(TrainLightGCN pid=284491)\u001b[0m Checkpoint successfully created at: Checkpoint(filesystem=local, path=/home/daviddavo/ray_results/LightGCN_optim=map@10,dao=PancakeSwap,freq=3d,normalize=True,cutoff_date=2023-07-01T00:00:00,fold=9_2024-03-11T02:49:22.390671/TrainLightGCN_cdcab29d_83_batch_size=8,conv_layers=3,embedding_dim=1,fold=9,l2=0.0000,learning_rate=0.0602_2024-03-11_04-45-28/checkpoint_000000)\n"
     ]
    },
    {
     "name": "stderr",
     "output_type": "stream",
     "text": [
      "\u001b[36m(pid=286269)\u001b[0m 2024-03-11 04:51:24.207633: E tensorflow/compiler/xla/stream_executor/cuda/cuda_dnn.cc:9342] Unable to register cuDNN factory: Attempting to register factory for plugin cuDNN when one has already been registered\n",
      "\u001b[36m(pid=286269)\u001b[0m 2024-03-11 04:51:24.207801: E tensorflow/compiler/xla/stream_executor/cuda/cuda_fft.cc:609] Unable to register cuFFT factory: Attempting to register factory for plugin cuFFT when one has already been registered\n",
      "\u001b[36m(pid=286269)\u001b[0m 2024-03-11 04:51:24.207822: E tensorflow/compiler/xla/stream_executor/cuda/cuda_blas.cc:1518] Unable to register cuBLAS factory: Attempting to register factory for plugin cuBLAS when one has already been registered\n"
     ]
    },
    {
     "name": "stderr",
     "output_type": "stream",
     "text": [
      "\u001b[36m(TrainLightGCN pid=286269)\u001b[0m /home/daviddavo/upm-tfm-notebooks/.direnv/python-3.9/lib/python3.9/site-packages/recommenders/models/deeprec/DataModel/ImplicitCF.py:73: FutureWarning: The frame.append method is deprecated and will be removed from pandas in a future version. Use pandas.concat instead.\n",
      "\u001b[36m(TrainLightGCN pid=286269)\u001b[0m   df = train if test is None else train.append(test)\n"
     ]
    },
    {
     "name": "stderr",
     "output_type": "stream",
     "text": [
      "\u001b[33m(raylet)\u001b[0m [2024-03-11 04:51:30,973 E 29667 29696] (raylet) file_system_monitor.cc:111: /tmp/ray/session_2024-03-10_13-48-36_673092_28795 is over 95% full, available space: 3888848896; capacity: 105089261568. Object creation will fail if spilling is required.\n"
     ]
    },
    {
     "name": "stdout",
     "output_type": "stream",
     "text": [
      "\u001b[36m(TrainLightGCN pid=286269)\u001b[0m Already create adjacency matrix.\n"
     ]
    },
    {
     "name": "stdout",
     "output_type": "stream",
     "text": [
      "\u001b[36m(TrainLightGCN pid=286269)\u001b[0m Already normalize adjacency matrix.\n",
      "\u001b[36m(TrainLightGCN pid=286269)\u001b[0m Using xavier initialization.\n"
     ]
    },
    {
     "name": "stderr",
     "output_type": "stream",
     "text": [
      "\u001b[36m(TrainLightGCN pid=286269)\u001b[0m Trainable.setup took 11.793 seconds. If your trainable is slow to initialize, consider setting reuse_actors=True to reduce actor creation overheads.\n"
     ]
    },
    {
     "name": "stderr",
     "output_type": "stream",
     "text": [
      "\u001b[33m(raylet)\u001b[0m [2024-03-11 04:51:40,978 E 29667 29696] (raylet) file_system_monitor.cc:111: /tmp/ray/session_2024-03-10_13-48-36_673092_28795 is over 95% full, available space: 3888672768; capacity: 105089261568. Object creation will fail if spilling is required.\n"
     ]
    },
    {
     "name": "stderr",
     "output_type": "stream",
     "text": [
      "\u001b[33m(raylet)\u001b[0m [2024-03-11 04:51:50,984 E 29667 29696] (raylet) file_system_monitor.cc:111: /tmp/ray/session_2024-03-10_13-48-36_673092_28795 is over 95% full, available space: 3888656384; capacity: 105089261568. Object creation will fail if spilling is required.\n"
     ]
    },
    {
     "name": "stderr",
     "output_type": "stream",
     "text": [
      "\u001b[33m(raylet)\u001b[0m [2024-03-11 04:52:00,989 E 29667 29696] (raylet) file_system_monitor.cc:111: /tmp/ray/session_2024-03-10_13-48-36_673092_28795 is over 95% full, available space: 3888656384; capacity: 105089261568. Object creation will fail if spilling is required.\n"
     ]
    },
    {
     "name": "stderr",
     "output_type": "stream",
     "text": [
      "\u001b[33m(raylet)\u001b[0m [2024-03-11 04:52:10,994 E 29667 29696] (raylet) file_system_monitor.cc:111: /tmp/ray/session_2024-03-10_13-48-36_673092_28795 is over 95% full, available space: 3888652288; capacity: 105089261568. Object creation will fail if spilling is required.\n"
     ]
    },
    {
     "name": "stderr",
     "output_type": "stream",
     "text": [
      "\u001b[36m(TrainLightGCN pid=284955)\u001b[0m Checkpoint successfully created at: Checkpoint(filesystem=local, path=/home/daviddavo/ray_results/LightGCN_optim=map@10,dao=PancakeSwap,freq=3d,normalize=True,cutoff_date=2023-07-01T00:00:00,fold=9_2024-03-11T02:49:22.390671/TrainLightGCN_1852cfbd_85_batch_size=8,conv_layers=2,embedding_dim=1,fold=9,l2=0.0000,learning_rate=0.1099_2024-03-11_04-46-29/checkpoint_000000)\n"
     ]
    },
    {
     "name": "stderr",
     "output_type": "stream",
     "text": [
      "\u001b[36m(pid=286585)\u001b[0m 2024-03-11 04:52:18.176644: E tensorflow/compiler/xla/stream_executor/cuda/cuda_dnn.cc:9342] Unable to register cuDNN factory: Attempting to register factory for plugin cuDNN when one has already been registered\n",
      "\u001b[36m(pid=286585)\u001b[0m 2024-03-11 04:52:18.176678: E tensorflow/compiler/xla/stream_executor/cuda/cuda_fft.cc:609] Unable to register cuFFT factory: Attempting to register factory for plugin cuFFT when one has already been registered\n",
      "\u001b[36m(pid=286585)\u001b[0m 2024-03-11 04:52:18.176695: E tensorflow/compiler/xla/stream_executor/cuda/cuda_blas.cc:1518] Unable to register cuBLAS factory: Attempting to register factory for plugin cuBLAS when one has already been registered\n"
     ]
    },
    {
     "name": "stderr",
     "output_type": "stream",
     "text": [
      "\u001b[36m(TrainLightGCN pid=286585)\u001b[0m /home/daviddavo/upm-tfm-notebooks/.direnv/python-3.9/lib/python3.9/site-packages/recommenders/models/deeprec/DataModel/ImplicitCF.py:73: FutureWarning: The frame.append method is deprecated and will be removed from pandas in a future version. Use pandas.concat instead.\n",
      "\u001b[36m(TrainLightGCN pid=286585)\u001b[0m   df = train if test is None else train.append(test)\n"
     ]
    },
    {
     "name": "stderr",
     "output_type": "stream",
     "text": [
      "\u001b[33m(raylet)\u001b[0m [2024-03-11 04:52:20,999 E 29667 29696] (raylet) file_system_monitor.cc:111: /tmp/ray/session_2024-03-10_13-48-36_673092_28795 is over 95% full, available space: 3865796608; capacity: 105089261568. Object creation will fail if spilling is required.\n"
     ]
    },
    {
     "name": "stdout",
     "output_type": "stream",
     "text": [
      "\u001b[36m(TrainLightGCN pid=286585)\u001b[0m Already create adjacency matrix.\n"
     ]
    },
    {
     "name": "stderr",
     "output_type": "stream",
     "text": [
      "\u001b[33m(raylet)\u001b[0m [2024-03-11 04:52:31,004 E 29667 29696] (raylet) file_system_monitor.cc:111: /tmp/ray/session_2024-03-10_13-48-36_673092_28795 is over 95% full, available space: 3865780224; capacity: 105089261568. Object creation will fail if spilling is required.\n"
     ]
    },
    {
     "name": "stdout",
     "output_type": "stream",
     "text": [
      "\u001b[36m(TrainLightGCN pid=286585)\u001b[0m Already normalize adjacency matrix.\n",
      "\u001b[36m(TrainLightGCN pid=286585)\u001b[0m Using xavier initialization.\n"
     ]
    },
    {
     "name": "stderr",
     "output_type": "stream",
     "text": [
      "\u001b[36m(TrainLightGCN pid=286585)\u001b[0m Trainable.setup took 11.715 seconds. If your trainable is slow to initialize, consider setting reuse_actors=True to reduce actor creation overheads.\n"
     ]
    },
    {
     "name": "stderr",
     "output_type": "stream",
     "text": [
      "\u001b[33m(raylet)\u001b[0m [2024-03-11 04:52:41,009 E 29667 29696] (raylet) file_system_monitor.cc:111: /tmp/ray/session_2024-03-10_13-48-36_673092_28795 is over 95% full, available space: 3865583616; capacity: 105089261568. Object creation will fail if spilling is required.\n"
     ]
    },
    {
     "name": "stderr",
     "output_type": "stream",
     "text": [
      "\u001b[33m(raylet)\u001b[0m [2024-03-11 04:52:51,014 E 29667 29696] (raylet) file_system_monitor.cc:111: /tmp/ray/session_2024-03-10_13-48-36_673092_28795 is over 95% full, available space: 3865563136; capacity: 105089261568. Object creation will fail if spilling is required.\n"
     ]
    },
    {
     "name": "stderr",
     "output_type": "stream",
     "text": [
      "\u001b[33m(raylet)\u001b[0m [2024-03-11 04:53:01,019 E 29667 29696] (raylet) file_system_monitor.cc:111: /tmp/ray/session_2024-03-10_13-48-36_673092_28795 is over 95% full, available space: 3865559040; capacity: 105089261568. Object creation will fail if spilling is required.\n"
     ]
    },
    {
     "name": "stderr",
     "output_type": "stream",
     "text": [
      "\u001b[33m(raylet)\u001b[0m [2024-03-11 04:53:11,023 E 29667 29696] (raylet) file_system_monitor.cc:111: /tmp/ray/session_2024-03-10_13-48-36_673092_28795 is over 95% full, available space: 3865559040; capacity: 105089261568. Object creation will fail if spilling is required.\n"
     ]
    },
    {
     "name": "stderr",
     "output_type": "stream",
     "text": [
      "\u001b[33m(raylet)\u001b[0m [2024-03-11 04:53:21,029 E 29667 29696] (raylet) file_system_monitor.cc:111: /tmp/ray/session_2024-03-10_13-48-36_673092_28795 is over 95% full, available space: 3865550848; capacity: 105089261568. Object creation will fail if spilling is required.\n"
     ]
    },
    {
     "name": "stderr",
     "output_type": "stream",
     "text": [
      "\u001b[33m(raylet)\u001b[0m [2024-03-11 04:53:31,034 E 29667 29696] (raylet) file_system_monitor.cc:111: /tmp/ray/session_2024-03-10_13-48-36_673092_28795 is over 95% full, available space: 3865534464; capacity: 105089261568. Object creation will fail if spilling is required.\n"
     ]
    },
    {
     "name": "stderr",
     "output_type": "stream",
     "text": [
      "\u001b[33m(raylet)\u001b[0m [2024-03-11 04:53:41,038 E 29667 29696] (raylet) file_system_monitor.cc:111: /tmp/ray/session_2024-03-10_13-48-36_673092_28795 is over 95% full, available space: 3865358336; capacity: 105089261568. Object creation will fail if spilling is required.\n"
     ]
    },
    {
     "name": "stderr",
     "output_type": "stream",
     "text": [
      "\u001b[33m(raylet)\u001b[0m [2024-03-11 04:53:51,043 E 29667 29696] (raylet) file_system_monitor.cc:111: /tmp/ray/session_2024-03-10_13-48-36_673092_28795 is over 95% full, available space: 3865346048; capacity: 105089261568. Object creation will fail if spilling is required.\n"
     ]
    },
    {
     "name": "stderr",
     "output_type": "stream",
     "text": [
      "\u001b[33m(raylet)\u001b[0m [2024-03-11 04:54:01,048 E 29667 29696] (raylet) file_system_monitor.cc:111: /tmp/ray/session_2024-03-10_13-48-36_673092_28795 is over 95% full, available space: 3865341952; capacity: 105089261568. Object creation will fail if spilling is required.\n"
     ]
    },
    {
     "name": "stderr",
     "output_type": "stream",
     "text": [
      "\u001b[36m(TrainLightGCN pid=285622)\u001b[0m Checkpoint successfully created at: Checkpoint(filesystem=local, path=/home/daviddavo/ray_results/LightGCN_optim=map@10,dao=PancakeSwap,freq=3d,normalize=True,cutoff_date=2023-07-01T00:00:00,fold=9_2024-03-11T02:49:22.390671/TrainLightGCN_5f6edb39_86_batch_size=13,conv_layers=3,embedding_dim=19,fold=9,l2=0.0000,learning_rate=0.0908_2024-03-11_04-46-52/checkpoint_000000)\n"
     ]
    },
    {
     "name": "stderr",
     "output_type": "stream",
     "text": [
      "\u001b[36m(pid=287074)\u001b[0m 2024-03-11 04:54:10.216706: E tensorflow/compiler/xla/stream_executor/cuda/cuda_dnn.cc:9342] Unable to register cuDNN factory: Attempting to register factory for plugin cuDNN when one has already been registered\n",
      "\u001b[36m(pid=287074)\u001b[0m 2024-03-11 04:54:10.216742: E tensorflow/compiler/xla/stream_executor/cuda/cuda_fft.cc:609] Unable to register cuFFT factory: Attempting to register factory for plugin cuFFT when one has already been registered\n",
      "\u001b[36m(pid=287074)\u001b[0m 2024-03-11 04:54:10.216756: E tensorflow/compiler/xla/stream_executor/cuda/cuda_blas.cc:1518] Unable to register cuBLAS factory: Attempting to register factory for plugin cuBLAS when one has already been registered\n"
     ]
    },
    {
     "name": "stderr",
     "output_type": "stream",
     "text": [
      "\u001b[33m(raylet)\u001b[0m [2024-03-11 04:54:11,053 E 29667 29696] (raylet) file_system_monitor.cc:111: /tmp/ray/session_2024-03-10_13-48-36_673092_28795 is over 95% full, available space: 3814027264; capacity: 105089261568. Object creation will fail if spilling is required.\n"
     ]
    },
    {
     "name": "stderr",
     "output_type": "stream",
     "text": [
      "\u001b[36m(TrainLightGCN pid=287074)\u001b[0m /home/daviddavo/upm-tfm-notebooks/.direnv/python-3.9/lib/python3.9/site-packages/recommenders/models/deeprec/DataModel/ImplicitCF.py:73: FutureWarning: The frame.append method is deprecated and will be removed from pandas in a future version. Use pandas.concat instead.\n",
      "\u001b[36m(TrainLightGCN pid=287074)\u001b[0m   df = train if test is None else train.append(test)\n"
     ]
    },
    {
     "name": "stderr",
     "output_type": "stream",
     "text": [
      "\u001b[33m(raylet)\u001b[0m [2024-03-11 04:54:21,058 E 29667 29696] (raylet) file_system_monitor.cc:111: /tmp/ray/session_2024-03-10_13-48-36_673092_28795 is over 95% full, available space: 3814006784; capacity: 105089261568. Object creation will fail if spilling is required.\n"
     ]
    },
    {
     "name": "stdout",
     "output_type": "stream",
     "text": [
      "\u001b[36m(TrainLightGCN pid=287074)\u001b[0m Already create adjacency matrix.\n"
     ]
    },
    {
     "name": "stdout",
     "output_type": "stream",
     "text": [
      "\u001b[36m(TrainLightGCN pid=287074)\u001b[0m Already normalize adjacency matrix.\n",
      "\u001b[36m(TrainLightGCN pid=287074)\u001b[0m Using xavier initialization.\n"
     ]
    },
    {
     "name": "stderr",
     "output_type": "stream",
     "text": [
      "\u001b[36m(TrainLightGCN pid=287074)\u001b[0m Trainable.setup took 11.774 seconds. If your trainable is slow to initialize, consider setting reuse_actors=True to reduce actor creation overheads.\n"
     ]
    },
    {
     "name": "stderr",
     "output_type": "stream",
     "text": [
      "\u001b[33m(raylet)\u001b[0m [2024-03-11 04:54:31,063 E 29667 29696] (raylet) file_system_monitor.cc:111: /tmp/ray/session_2024-03-10_13-48-36_673092_28795 is over 95% full, available space: 3813990400; capacity: 105089261568. Object creation will fail if spilling is required.\n"
     ]
    },
    {
     "name": "stderr",
     "output_type": "stream",
     "text": [
      "\u001b[33m(raylet)\u001b[0m [2024-03-11 04:54:41,068 E 29667 29696] (raylet) file_system_monitor.cc:111: /tmp/ray/session_2024-03-10_13-48-36_673092_28795 is over 95% full, available space: 3813789696; capacity: 105089261568. Object creation will fail if spilling is required.\n"
     ]
    },
    {
     "name": "stderr",
     "output_type": "stream",
     "text": [
      "\u001b[33m(raylet)\u001b[0m [2024-03-11 04:54:51,073 E 29667 29696] (raylet) file_system_monitor.cc:111: /tmp/ray/session_2024-03-10_13-48-36_673092_28795 is over 95% full, available space: 3813773312; capacity: 105089261568. Object creation will fail if spilling is required.\n"
     ]
    },
    {
     "name": "stderr",
     "output_type": "stream",
     "text": [
      "\u001b[33m(raylet)\u001b[0m [2024-03-11 04:55:01,079 E 29667 29696] (raylet) file_system_monitor.cc:111: /tmp/ray/session_2024-03-10_13-48-36_673092_28795 is over 95% full, available space: 3813773312; capacity: 105089261568. Object creation will fail if spilling is required.\n"
     ]
    },
    {
     "name": "stderr",
     "output_type": "stream",
     "text": [
      "\u001b[33m(raylet)\u001b[0m [2024-03-11 04:55:11,084 E 29667 29696] (raylet) file_system_monitor.cc:111: /tmp/ray/session_2024-03-10_13-48-36_673092_28795 is over 95% full, available space: 3813761024; capacity: 105089261568. Object creation will fail if spilling is required.\n"
     ]
    },
    {
     "name": "stderr",
     "output_type": "stream",
     "text": [
      "\u001b[33m(raylet)\u001b[0m [2024-03-11 04:55:21,089 E 29667 29696] (raylet) file_system_monitor.cc:111: /tmp/ray/session_2024-03-10_13-48-36_673092_28795 is over 95% full, available space: 3813756928; capacity: 105089261568. Object creation will fail if spilling is required.\n"
     ]
    },
    {
     "name": "stderr",
     "output_type": "stream",
     "text": [
      "\u001b[33m(raylet)\u001b[0m [2024-03-11 04:55:31,094 E 29667 29696] (raylet) file_system_monitor.cc:111: /tmp/ray/session_2024-03-10_13-48-36_673092_28795 is over 95% full, available space: 3813740544; capacity: 105089261568. Object creation will fail if spilling is required.\n"
     ]
    },
    {
     "name": "stderr",
     "output_type": "stream",
     "text": [
      "\u001b[33m(raylet)\u001b[0m [2024-03-11 04:55:41,098 E 29667 29696] (raylet) file_system_monitor.cc:111: /tmp/ray/session_2024-03-10_13-48-36_673092_28795 is over 95% full, available space: 3813572608; capacity: 105089261568. Object creation will fail if spilling is required.\n"
     ]
    },
    {
     "name": "stderr",
     "output_type": "stream",
     "text": [
      "\u001b[33m(raylet)\u001b[0m [2024-03-11 04:55:51,103 E 29667 29696] (raylet) file_system_monitor.cc:111: /tmp/ray/session_2024-03-10_13-48-36_673092_28795 is over 95% full, available space: 3813560320; capacity: 105089261568. Object creation will fail if spilling is required.\n"
     ]
    },
    {
     "name": "stderr",
     "output_type": "stream",
     "text": [
      "\u001b[36m(TrainLightGCN pid=285966)\u001b[0m Checkpoint successfully created at: Checkpoint(filesystem=local, path=/home/daviddavo/ray_results/LightGCN_optim=map@10,dao=PancakeSwap,freq=3d,normalize=True,cutoff_date=2023-07-01T00:00:00,fold=9_2024-03-11T02:49:22.390671/TrainLightGCN_885bb4aa_87_batch_size=9,conv_layers=2,embedding_dim=14,fold=9,l2=0.0000,learning_rate=0.1306_2024-03-11_04-49-44/checkpoint_000000)\n"
     ]
    },
    {
     "name": "stderr",
     "output_type": "stream",
     "text": [
      "\u001b[36m(pid=287543)\u001b[0m 2024-03-11 04:55:57.237307: E tensorflow/compiler/xla/stream_executor/cuda/cuda_dnn.cc:9342] Unable to register cuDNN factory: Attempting to register factory for plugin cuDNN when one has already been registered\n",
      "\u001b[36m(pid=287543)\u001b[0m 2024-03-11 04:55:57.237342: E tensorflow/compiler/xla/stream_executor/cuda/cuda_fft.cc:609] Unable to register cuFFT factory: Attempting to register factory for plugin cuFFT when one has already been registered\n",
      "\u001b[36m(pid=287543)\u001b[0m 2024-03-11 04:55:57.237356: E tensorflow/compiler/xla/stream_executor/cuda/cuda_blas.cc:1518] Unable to register cuBLAS factory: Attempting to register factory for plugin cuBLAS when one has already been registered\n"
     ]
    },
    {
     "name": "stderr",
     "output_type": "stream",
     "text": [
      "\u001b[36m(TrainLightGCN pid=287543)\u001b[0m /home/daviddavo/upm-tfm-notebooks/.direnv/python-3.9/lib/python3.9/site-packages/recommenders/models/deeprec/DataModel/ImplicitCF.py:73: FutureWarning: The frame.append method is deprecated and will be removed from pandas in a future version. Use pandas.concat instead.\n",
      "\u001b[36m(TrainLightGCN pid=287543)\u001b[0m   df = train if test is None else train.append(test)\n"
     ]
    },
    {
     "name": "stderr",
     "output_type": "stream",
     "text": [
      "\u001b[33m(raylet)\u001b[0m [2024-03-11 04:56:01,108 E 29667 29696] (raylet) file_system_monitor.cc:111: /tmp/ray/session_2024-03-10_13-48-36_673092_28795 is over 95% full, available space: 3770155008; capacity: 105089261568. Object creation will fail if spilling is required.\n"
     ]
    },
    {
     "name": "stdout",
     "output_type": "stream",
     "text": [
      "\u001b[36m(TrainLightGCN pid=287543)\u001b[0m Already create adjacency matrix.\n"
     ]
    },
    {
     "name": "stdout",
     "output_type": "stream",
     "text": [
      "\u001b[36m(TrainLightGCN pid=287543)\u001b[0m Already normalize adjacency matrix.\n",
      "\u001b[36m(TrainLightGCN pid=287543)\u001b[0m Using xavier initialization.\n"
     ]
    },
    {
     "name": "stderr",
     "output_type": "stream",
     "text": [
      "\u001b[36m(TrainLightGCN pid=287543)\u001b[0m Trainable.setup took 11.739 seconds. If your trainable is slow to initialize, consider setting reuse_actors=True to reduce actor creation overheads.\n",
      "\u001b[33m(raylet)\u001b[0m [2024-03-11 04:56:11,112 E 29667 29696] (raylet) file_system_monitor.cc:111: /tmp/ray/session_2024-03-10_13-48-36_673092_28795 is over 95% full, available space: 3770138624; capacity: 105089261568. Object creation will fail if spilling is required.\n"
     ]
    },
    {
     "name": "stderr",
     "output_type": "stream",
     "text": [
      "\u001b[33m(raylet)\u001b[0m [2024-03-11 04:56:21,117 E 29667 29696] (raylet) file_system_monitor.cc:111: /tmp/ray/session_2024-03-10_13-48-36_673092_28795 is over 95% full, available space: 3770126336; capacity: 105089261568. Object creation will fail if spilling is required.\n"
     ]
    },
    {
     "name": "stderr",
     "output_type": "stream",
     "text": [
      "\u001b[33m(raylet)\u001b[0m [2024-03-11 04:56:31,122 E 29667 29696] (raylet) file_system_monitor.cc:111: /tmp/ray/session_2024-03-10_13-48-36_673092_28795 is over 95% full, available space: 3770118144; capacity: 105089261568. Object creation will fail if spilling is required.\n"
     ]
    },
    {
     "name": "stderr",
     "output_type": "stream",
     "text": [
      "\u001b[33m(raylet)\u001b[0m [2024-03-11 04:56:41,127 E 29667 29696] (raylet) file_system_monitor.cc:111: /tmp/ray/session_2024-03-10_13-48-36_673092_28795 is over 95% full, available space: 3769925632; capacity: 105089261568. Object creation will fail if spilling is required.\n"
     ]
    },
    {
     "name": "stderr",
     "output_type": "stream",
     "text": [
      "\u001b[36m(TrainLightGCN pid=286269)\u001b[0m Checkpoint successfully created at: Checkpoint(filesystem=local, path=/home/daviddavo/ray_results/LightGCN_optim=map@10,dao=PancakeSwap,freq=3d,normalize=True,cutoff_date=2023-07-01T00:00:00,fold=9_2024-03-11T02:49:22.390671/TrainLightGCN_c5b97e16_88_batch_size=12,conv_layers=3,embedding_dim=81,fold=9,l2=0.0000,learning_rate=0.1669_2024-03-11_04-50-49/checkpoint_000000)\n"
     ]
    },
    {
     "name": "stderr",
     "output_type": "stream",
     "text": [
      "\u001b[36m(pid=287844)\u001b[0m 2024-03-11 04:56:46.219872: E tensorflow/compiler/xla/stream_executor/cuda/cuda_dnn.cc:9342] Unable to register cuDNN factory: Attempting to register factory for plugin cuDNN when one has already been registered\n",
      "\u001b[36m(pid=287844)\u001b[0m 2024-03-11 04:56:46.219909: E tensorflow/compiler/xla/stream_executor/cuda/cuda_fft.cc:609] Unable to register cuFFT factory: Attempting to register factory for plugin cuFFT when one has already been registered\n",
      "\u001b[36m(pid=287844)\u001b[0m 2024-03-11 04:56:46.219922: E tensorflow/compiler/xla/stream_executor/cuda/cuda_blas.cc:1518] Unable to register cuBLAS factory: Attempting to register factory for plugin cuBLAS when one has already been registered\n"
     ]
    },
    {
     "name": "stderr",
     "output_type": "stream",
     "text": [
      "\u001b[36m(TrainLightGCN pid=287844)\u001b[0m /home/daviddavo/upm-tfm-notebooks/.direnv/python-3.9/lib/python3.9/site-packages/recommenders/models/deeprec/DataModel/ImplicitCF.py:73: FutureWarning: The frame.append method is deprecated and will be removed from pandas in a future version. Use pandas.concat instead.\n",
      "\u001b[36m(TrainLightGCN pid=287844)\u001b[0m   df = train if test is None else train.append(test)\n"
     ]
    },
    {
     "name": "stderr",
     "output_type": "stream",
     "text": [
      "\u001b[33m(raylet)\u001b[0m [2024-03-11 04:56:51,131 E 29667 29696] (raylet) file_system_monitor.cc:111: /tmp/ray/session_2024-03-10_13-48-36_673092_28795 is over 95% full, available space: 3620532224; capacity: 105089261568. Object creation will fail if spilling is required.\n"
     ]
    },
    {
     "name": "stdout",
     "output_type": "stream",
     "text": [
      "\u001b[36m(TrainLightGCN pid=287844)\u001b[0m Already create adjacency matrix.\n"
     ]
    },
    {
     "name": "stdout",
     "output_type": "stream",
     "text": [
      "\u001b[36m(TrainLightGCN pid=287844)\u001b[0m Already normalize adjacency matrix.\n",
      "\u001b[36m(TrainLightGCN pid=287844)\u001b[0m Using xavier initialization.\n"
     ]
    },
    {
     "name": "stderr",
     "output_type": "stream",
     "text": [
      "\u001b[36m(TrainLightGCN pid=287844)\u001b[0m Trainable.setup took 11.742 seconds. If your trainable is slow to initialize, consider setting reuse_actors=True to reduce actor creation overheads.\n"
     ]
    },
    {
     "name": "stderr",
     "output_type": "stream",
     "text": [
      "\u001b[33m(raylet)\u001b[0m [2024-03-11 04:57:01,136 E 29667 29696] (raylet) file_system_monitor.cc:111: /tmp/ray/session_2024-03-10_13-48-36_673092_28795 is over 95% full, available space: 3620524032; capacity: 105089261568. Object creation will fail if spilling is required.\n"
     ]
    },
    {
     "name": "stderr",
     "output_type": "stream",
     "text": [
      "\u001b[33m(raylet)\u001b[0m [2024-03-11 04:57:11,141 E 29667 29696] (raylet) file_system_monitor.cc:111: /tmp/ray/session_2024-03-10_13-48-36_673092_28795 is over 95% full, available space: 3620519936; capacity: 105089261568. Object creation will fail if spilling is required.\n"
     ]
    },
    {
     "name": "stderr",
     "output_type": "stream",
     "text": [
      "\u001b[33m(raylet)\u001b[0m [2024-03-11 04:57:21,146 E 29667 29696] (raylet) file_system_monitor.cc:111: /tmp/ray/session_2024-03-10_13-48-36_673092_28795 is over 95% full, available space: 3620515840; capacity: 105089261568. Object creation will fail if spilling is required.\n"
     ]
    },
    {
     "name": "stderr",
     "output_type": "stream",
     "text": [
      "\u001b[33m(raylet)\u001b[0m [2024-03-11 04:57:31,151 E 29667 29696] (raylet) file_system_monitor.cc:111: /tmp/ray/session_2024-03-10_13-48-36_673092_28795 is over 95% full, available space: 3620507648; capacity: 105089261568. Object creation will fail if spilling is required.\n"
     ]
    },
    {
     "name": "stderr",
     "output_type": "stream",
     "text": [
      "\u001b[36m(TrainLightGCN pid=286585)\u001b[0m Checkpoint successfully created at: Checkpoint(filesystem=local, path=/home/daviddavo/ray_results/LightGCN_optim=map@10,dao=PancakeSwap,freq=3d,normalize=True,cutoff_date=2023-07-01T00:00:00,fold=9_2024-03-11T02:49:22.390671/TrainLightGCN_9384c2a7_89_batch_size=8,conv_layers=1,embedding_dim=2,fold=9,l2=0.0000,learning_rate=0.2043_2024-03-11_04-51-38/checkpoint_000000)\n"
     ]
    },
    {
     "name": "stderr",
     "output_type": "stream",
     "text": [
      "\u001b[33m(raylet)\u001b[0m [2024-03-11 04:57:41,156 E 29667 29696] (raylet) file_system_monitor.cc:111: /tmp/ray/session_2024-03-10_13-48-36_673092_28795 is over 95% full, available space: 3595943936; capacity: 105089261568. Object creation will fail if spilling is required.\n"
     ]
    },
    {
     "name": "stderr",
     "output_type": "stream",
     "text": [
      "\u001b[36m(pid=288167)\u001b[0m 2024-03-11 04:57:42.212557: E tensorflow/compiler/xla/stream_executor/cuda/cuda_dnn.cc:9342] Unable to register cuDNN factory: Attempting to register factory for plugin cuDNN when one has already been registered\n",
      "\u001b[36m(pid=288167)\u001b[0m 2024-03-11 04:57:42.212595: E tensorflow/compiler/xla/stream_executor/cuda/cuda_fft.cc:609] Unable to register cuFFT factory: Attempting to register factory for plugin cuFFT when one has already been registered\n",
      "\u001b[36m(pid=288167)\u001b[0m 2024-03-11 04:57:42.212612: E tensorflow/compiler/xla/stream_executor/cuda/cuda_blas.cc:1518] Unable to register cuBLAS factory: Attempting to register factory for plugin cuBLAS when one has already been registered\n"
     ]
    },
    {
     "name": "stderr",
     "output_type": "stream",
     "text": [
      "\u001b[36m(TrainLightGCN pid=288167)\u001b[0m /home/daviddavo/upm-tfm-notebooks/.direnv/python-3.9/lib/python3.9/site-packages/recommenders/models/deeprec/DataModel/ImplicitCF.py:73: FutureWarning: The frame.append method is deprecated and will be removed from pandas in a future version. Use pandas.concat instead.\n",
      "\u001b[36m(TrainLightGCN pid=288167)\u001b[0m   df = train if test is None else train.append(test)\n"
     ]
    },
    {
     "name": "stderr",
     "output_type": "stream",
     "text": [
      "\u001b[33m(raylet)\u001b[0m [2024-03-11 04:57:51,160 E 29667 29696] (raylet) file_system_monitor.cc:111: /tmp/ray/session_2024-03-10_13-48-36_673092_28795 is over 95% full, available space: 3595898880; capacity: 105089261568. Object creation will fail if spilling is required.\n"
     ]
    },
    {
     "name": "stdout",
     "output_type": "stream",
     "text": [
      "\u001b[36m(TrainLightGCN pid=288167)\u001b[0m Already create adjacency matrix.\n"
     ]
    },
    {
     "name": "stdout",
     "output_type": "stream",
     "text": [
      "\u001b[36m(TrainLightGCN pid=288167)\u001b[0m Already normalize adjacency matrix.\n",
      "\u001b[36m(TrainLightGCN pid=288167)\u001b[0m Using xavier initialization.\n"
     ]
    },
    {
     "name": "stderr",
     "output_type": "stream",
     "text": [
      "\u001b[36m(TrainLightGCN pid=288167)\u001b[0m Trainable.setup took 11.757 seconds. If your trainable is slow to initialize, consider setting reuse_actors=True to reduce actor creation overheads.\n"
     ]
    },
    {
     "name": "stderr",
     "output_type": "stream",
     "text": [
      "\u001b[33m(raylet)\u001b[0m [2024-03-11 04:58:01,165 E 29667 29696] (raylet) file_system_monitor.cc:111: /tmp/ray/session_2024-03-10_13-48-36_673092_28795 is over 95% full, available space: 3595886592; capacity: 105089261568. Object creation will fail if spilling is required.\n"
     ]
    },
    {
     "name": "stderr",
     "output_type": "stream",
     "text": [
      "\u001b[33m(raylet)\u001b[0m [2024-03-11 04:58:11,169 E 29667 29696] (raylet) file_system_monitor.cc:111: /tmp/ray/session_2024-03-10_13-48-36_673092_28795 is over 95% full, available space: 3595870208; capacity: 105089261568. Object creation will fail if spilling is required.\n"
     ]
    },
    {
     "name": "stderr",
     "output_type": "stream",
     "text": [
      "\u001b[33m(raylet)\u001b[0m [2024-03-11 04:58:21,174 E 29667 29696] (raylet) file_system_monitor.cc:111: /tmp/ray/session_2024-03-10_13-48-36_673092_28795 is over 95% full, available space: 3595870208; capacity: 105089261568. Object creation will fail if spilling is required.\n"
     ]
    },
    {
     "name": "stderr",
     "output_type": "stream",
     "text": [
      "\u001b[33m(raylet)\u001b[0m [2024-03-11 04:58:31,178 E 29667 29696] (raylet) file_system_monitor.cc:111: /tmp/ray/session_2024-03-10_13-48-36_673092_28795 is over 95% full, available space: 3595870208; capacity: 105089261568. Object creation will fail if spilling is required.\n"
     ]
    },
    {
     "name": "stderr",
     "output_type": "stream",
     "text": [
      "\u001b[33m(raylet)\u001b[0m [2024-03-11 04:58:41,183 E 29667 29696] (raylet) file_system_monitor.cc:111: /tmp/ray/session_2024-03-10_13-48-36_673092_28795 is over 95% full, available space: 3595677696; capacity: 105089261568. Object creation will fail if spilling is required.\n"
     ]
    },
    {
     "name": "stderr",
     "output_type": "stream",
     "text": [
      "\u001b[33m(raylet)\u001b[0m [2024-03-11 04:58:51,189 E 29667 29696] (raylet) file_system_monitor.cc:111: /tmp/ray/session_2024-03-10_13-48-36_673092_28795 is over 95% full, available space: 3595653120; capacity: 105089261568. Object creation will fail if spilling is required.\n"
     ]
    },
    {
     "name": "stderr",
     "output_type": "stream",
     "text": [
      "\u001b[33m(raylet)\u001b[0m [2024-03-11 04:59:01,194 E 29667 29696] (raylet) file_system_monitor.cc:111: /tmp/ray/session_2024-03-10_13-48-36_673092_28795 is over 95% full, available space: 3595644928; capacity: 105089261568. Object creation will fail if spilling is required.\n"
     ]
    },
    {
     "name": "stderr",
     "output_type": "stream",
     "text": [
      "\u001b[33m(raylet)\u001b[0m [2024-03-11 04:59:11,199 E 29667 29696] (raylet) file_system_monitor.cc:111: /tmp/ray/session_2024-03-10_13-48-36_673092_28795 is over 95% full, available space: 3595636736; capacity: 105089261568. Object creation will fail if spilling is required.\n"
     ]
    },
    {
     "name": "stderr",
     "output_type": "stream",
     "text": [
      "\u001b[33m(raylet)\u001b[0m [2024-03-11 04:59:21,204 E 29667 29696] (raylet) file_system_monitor.cc:111: /tmp/ray/session_2024-03-10_13-48-36_673092_28795 is over 95% full, available space: 3595632640; capacity: 105089261568. Object creation will fail if spilling is required.\n"
     ]
    },
    {
     "name": "stderr",
     "output_type": "stream",
     "text": [
      "\u001b[33m(raylet)\u001b[0m [2024-03-11 04:59:31,208 E 29667 29696] (raylet) file_system_monitor.cc:111: /tmp/ray/session_2024-03-10_13-48-36_673092_28795 is over 95% full, available space: 3595628544; capacity: 105089261568. Object creation will fail if spilling is required.\n"
     ]
    },
    {
     "name": "stderr",
     "output_type": "stream",
     "text": [
      "\u001b[33m(raylet)\u001b[0m [2024-03-11 04:59:41,214 E 29667 29696] (raylet) file_system_monitor.cc:111: /tmp/ray/session_2024-03-10_13-48-36_673092_28795 is over 95% full, available space: 3595460608; capacity: 105089261568. Object creation will fail if spilling is required.\n"
     ]
    },
    {
     "name": "stderr",
     "output_type": "stream",
     "text": [
      "\u001b[36m(TrainLightGCN pid=287074)\u001b[0m Checkpoint successfully created at: Checkpoint(filesystem=local, path=/home/daviddavo/ray_results/LightGCN_optim=map@10,dao=PancakeSwap,freq=3d,normalize=True,cutoff_date=2023-07-01T00:00:00,fold=9_2024-03-11T02:49:22.390671/TrainLightGCN_4492c509_90_batch_size=9,conv_layers=2,embedding_dim=25,fold=9,l2=0.0000,learning_rate=0.1846_2024-03-11_04-52-32/checkpoint_000000)\n"
     ]
    },
    {
     "name": "stderr",
     "output_type": "stream",
     "text": [
      "\u001b[33m(raylet)\u001b[0m [2024-03-11 04:59:51,218 E 29667 29696] (raylet) file_system_monitor.cc:111: /tmp/ray/session_2024-03-10_13-48-36_673092_28795 is over 95% full, available space: 3534647296; capacity: 105089261568. Object creation will fail if spilling is required.\n"
     ]
    },
    {
     "name": "stderr",
     "output_type": "stream",
     "text": [
      "\u001b[36m(pid=288710)\u001b[0m 2024-03-11 04:59:52.267689: E tensorflow/compiler/xla/stream_executor/cuda/cuda_dnn.cc:9342] Unable to register cuDNN factory: Attempting to register factory for plugin cuDNN when one has already been registered\n",
      "\u001b[36m(pid=288710)\u001b[0m 2024-03-11 04:59:52.267724: E tensorflow/compiler/xla/stream_executor/cuda/cuda_fft.cc:609] Unable to register cuFFT factory: Attempting to register factory for plugin cuFFT when one has already been registered\n",
      "\u001b[36m(pid=288710)\u001b[0m 2024-03-11 04:59:52.267739: E tensorflow/compiler/xla/stream_executor/cuda/cuda_blas.cc:1518] Unable to register cuBLAS factory: Attempting to register factory for plugin cuBLAS when one has already been registered\n"
     ]
    },
    {
     "name": "stderr",
     "output_type": "stream",
     "text": [
      "\u001b[36m(TrainLightGCN pid=288710)\u001b[0m /home/daviddavo/upm-tfm-notebooks/.direnv/python-3.9/lib/python3.9/site-packages/recommenders/models/deeprec/DataModel/ImplicitCF.py:73: FutureWarning: The frame.append method is deprecated and will be removed from pandas in a future version. Use pandas.concat instead.\n",
      "\u001b[36m(TrainLightGCN pid=288710)\u001b[0m   df = train if test is None else train.append(test)\n"
     ]
    },
    {
     "name": "stderr",
     "output_type": "stream",
     "text": [
      "\u001b[33m(raylet)\u001b[0m [2024-03-11 05:00:01,223 E 29667 29696] (raylet) file_system_monitor.cc:111: /tmp/ray/session_2024-03-10_13-48-36_673092_28795 is over 95% full, available space: 3534614528; capacity: 105089261568. Object creation will fail if spilling is required.\n"
     ]
    },
    {
     "name": "stdout",
     "output_type": "stream",
     "text": [
      "\u001b[36m(TrainLightGCN pid=288710)\u001b[0m Already create adjacency matrix.\n"
     ]
    },
    {
     "name": "stdout",
     "output_type": "stream",
     "text": [
      "\u001b[36m(TrainLightGCN pid=288710)\u001b[0m Already normalize adjacency matrix.\n",
      "\u001b[36m(TrainLightGCN pid=288710)\u001b[0m Using xavier initialization.\n"
     ]
    },
    {
     "name": "stderr",
     "output_type": "stream",
     "text": [
      "\u001b[36m(TrainLightGCN pid=288710)\u001b[0m Trainable.setup took 11.813 seconds. If your trainable is slow to initialize, consider setting reuse_actors=True to reduce actor creation overheads.\n"
     ]
    },
    {
     "name": "stderr",
     "output_type": "stream",
     "text": [
      "\u001b[33m(raylet)\u001b[0m [2024-03-11 05:00:11,228 E 29667 29696] (raylet) file_system_monitor.cc:111: /tmp/ray/session_2024-03-10_13-48-36_673092_28795 is over 95% full, available space: 3534606336; capacity: 105089261568. Object creation will fail if spilling is required.\n"
     ]
    },
    {
     "name": "stderr",
     "output_type": "stream",
     "text": [
      "\u001b[33m(raylet)\u001b[0m [2024-03-11 05:00:21,233 E 29667 29696] (raylet) file_system_monitor.cc:111: /tmp/ray/session_2024-03-10_13-48-36_673092_28795 is over 95% full, available space: 3534602240; capacity: 105089261568. Object creation will fail if spilling is required.\n"
     ]
    },
    {
     "name": "stderr",
     "output_type": "stream",
     "text": [
      "\u001b[33m(raylet)\u001b[0m [2024-03-11 05:00:31,237 E 29667 29696] (raylet) file_system_monitor.cc:111: /tmp/ray/session_2024-03-10_13-48-36_673092_28795 is over 95% full, available space: 3534598144; capacity: 105089261568. Object creation will fail if spilling is required.\n"
     ]
    },
    {
     "name": "stderr",
     "output_type": "stream",
     "text": [
      "\u001b[33m(raylet)\u001b[0m [2024-03-11 05:00:41,242 E 29667 29696] (raylet) file_system_monitor.cc:111: /tmp/ray/session_2024-03-10_13-48-36_673092_28795 is over 95% full, available space: 3534401536; capacity: 105089261568. Object creation will fail if spilling is required.\n"
     ]
    },
    {
     "name": "stderr",
     "output_type": "stream",
     "text": [
      "\u001b[33m(raylet)\u001b[0m [2024-03-11 05:00:51,247 E 29667 29696] (raylet) file_system_monitor.cc:111: /tmp/ray/session_2024-03-10_13-48-36_673092_28795 is over 95% full, available space: 3534368768; capacity: 105089261568. Object creation will fail if spilling is required.\n"
     ]
    },
    {
     "name": "stderr",
     "output_type": "stream",
     "text": [
      "\u001b[33m(raylet)\u001b[0m [2024-03-11 05:01:01,252 E 29667 29696] (raylet) file_system_monitor.cc:111: /tmp/ray/session_2024-03-10_13-48-36_673092_28795 is over 95% full, available space: 3534360576; capacity: 105089261568. Object creation will fail if spilling is required.\n"
     ]
    },
    {
     "name": "stderr",
     "output_type": "stream",
     "text": [
      "\u001b[33m(raylet)\u001b[0m [2024-03-11 05:01:11,257 E 29667 29696] (raylet) file_system_monitor.cc:111: /tmp/ray/session_2024-03-10_13-48-36_673092_28795 is over 95% full, available space: 3534356480; capacity: 105089261568. Object creation will fail if spilling is required.\n"
     ]
    },
    {
     "name": "stderr",
     "output_type": "stream",
     "text": [
      "\u001b[33m(raylet)\u001b[0m [2024-03-11 05:01:21,262 E 29667 29696] (raylet) file_system_monitor.cc:111: /tmp/ray/session_2024-03-10_13-48-36_673092_28795 is over 95% full, available space: 3534356480; capacity: 105089261568. Object creation will fail if spilling is required.\n"
     ]
    },
    {
     "name": "stderr",
     "output_type": "stream",
     "text": [
      "\u001b[33m(raylet)\u001b[0m [2024-03-11 05:01:31,266 E 29667 29696] (raylet) file_system_monitor.cc:111: /tmp/ray/session_2024-03-10_13-48-36_673092_28795 is over 95% full, available space: 3534352384; capacity: 105089261568. Object creation will fail if spilling is required.\n"
     ]
    },
    {
     "name": "stderr",
     "output_type": "stream",
     "text": [
      "\u001b[36m(TrainLightGCN pid=287543)\u001b[0m Checkpoint successfully created at: Checkpoint(filesystem=local, path=/home/daviddavo/ray_results/LightGCN_optim=map@10,dao=PancakeSwap,freq=3d,normalize=True,cutoff_date=2023-07-01T00:00:00,fold=9_2024-03-11T02:49:22.390671/TrainLightGCN_a69fa759_91_batch_size=6,conv_layers=3,embedding_dim=1,fold=9,l2=0.0000,learning_rate=0.2703_2024-03-11_04-54-24/checkpoint_000000)\n"
     ]
    },
    {
     "name": "stderr",
     "output_type": "stream",
     "text": [
      "\u001b[36m(pid=289168)\u001b[0m 2024-03-11 05:01:35.237910: E tensorflow/compiler/xla/stream_executor/cuda/cuda_dnn.cc:9342] Unable to register cuDNN factory: Attempting to register factory for plugin cuDNN when one has already been registered\n",
      "\u001b[36m(pid=289168)\u001b[0m 2024-03-11 05:01:35.237948: E tensorflow/compiler/xla/stream_executor/cuda/cuda_fft.cc:609] Unable to register cuFFT factory: Attempting to register factory for plugin cuFFT when one has already been registered\n",
      "\u001b[36m(pid=289168)\u001b[0m 2024-03-11 05:01:35.237962: E tensorflow/compiler/xla/stream_executor/cuda/cuda_blas.cc:1518] Unable to register cuBLAS factory: Attempting to register factory for plugin cuBLAS when one has already been registered\n"
     ]
    },
    {
     "name": "stderr",
     "output_type": "stream",
     "text": [
      "\u001b[36m(TrainLightGCN pid=289168)\u001b[0m /home/daviddavo/upm-tfm-notebooks/.direnv/python-3.9/lib/python3.9/site-packages/recommenders/models/deeprec/DataModel/ImplicitCF.py:73: FutureWarning: The frame.append method is deprecated and will be removed from pandas in a future version. Use pandas.concat instead.\n",
      "\u001b[36m(TrainLightGCN pid=289168)\u001b[0m   df = train if test is None else train.append(test)\n"
     ]
    },
    {
     "name": "stderr",
     "output_type": "stream",
     "text": [
      "\u001b[33m(raylet)\u001b[0m [2024-03-11 05:01:41,270 E 29667 29696] (raylet) file_system_monitor.cc:111: /tmp/ray/session_2024-03-10_13-48-36_673092_28795 is over 95% full, available space: 3511336960; capacity: 105089261568. Object creation will fail if spilling is required.\n"
     ]
    },
    {
     "name": "stderr",
     "output_type": "stream",
     "text": [
      "\u001b[36m(TrainLightGCN pid=287844)\u001b[0m Checkpoint successfully created at: Checkpoint(filesystem=local, path=/home/daviddavo/ray_results/LightGCN_optim=map@10,dao=PancakeSwap,freq=3d,normalize=True,cutoff_date=2023-07-01T00:00:00,fold=9_2024-03-11T02:49:22.390671/TrainLightGCN_7ebf06cc_92_batch_size=13,conv_layers=3,embedding_dim=6,fold=9,l2=0.0002,learning_rate=0.0498_2024-03-11_04-56-11/checkpoint_000000)\n"
     ]
    },
    {
     "name": "stdout",
     "output_type": "stream",
     "text": [
      "\u001b[36m(TrainLightGCN pid=289168)\u001b[0m Already create adjacency matrix.\n"
     ]
    },
    {
     "name": "stdout",
     "output_type": "stream",
     "text": [
      "\u001b[36m(TrainLightGCN pid=289168)\u001b[0m Already normalize adjacency matrix.\n",
      "\u001b[36m(TrainLightGCN pid=289168)\u001b[0m Using xavier initialization.\n"
     ]
    },
    {
     "name": "stderr",
     "output_type": "stream",
     "text": [
      "\u001b[36m(TrainLightGCN pid=289168)\u001b[0m Trainable.setup took 11.787 seconds. If your trainable is slow to initialize, consider setting reuse_actors=True to reduce actor creation overheads.\n"
     ]
    },
    {
     "name": "stderr",
     "output_type": "stream",
     "text": [
      "\u001b[36m(pid=289342)\u001b[0m 2024-03-11 05:01:50.196793: E tensorflow/compiler/xla/stream_executor/cuda/cuda_dnn.cc:9342] Unable to register cuDNN factory: Attempting to register factory for plugin cuDNN when one has already been registered\n",
      "\u001b[36m(pid=289342)\u001b[0m 2024-03-11 05:01:50.196830: E tensorflow/compiler/xla/stream_executor/cuda/cuda_fft.cc:609] Unable to register cuFFT factory: Attempting to register factory for plugin cuFFT when one has already been registered\n",
      "\u001b[36m(pid=289342)\u001b[0m 2024-03-11 05:01:50.196847: E tensorflow/compiler/xla/stream_executor/cuda/cuda_blas.cc:1518] Unable to register cuBLAS factory: Attempting to register factory for plugin cuBLAS when one has already been registered\n"
     ]
    },
    {
     "name": "stderr",
     "output_type": "stream",
     "text": [
      "\u001b[33m(raylet)\u001b[0m [2024-03-11 05:01:51,274 E 29667 29696] (raylet) file_system_monitor.cc:111: /tmp/ray/session_2024-03-10_13-48-36_673092_28795 is over 95% full, available space: 3480555520; capacity: 105089261568. Object creation will fail if spilling is required.\n"
     ]
    },
    {
     "name": "stderr",
     "output_type": "stream",
     "text": [
      "\u001b[36m(TrainLightGCN pid=289342)\u001b[0m /home/daviddavo/upm-tfm-notebooks/.direnv/python-3.9/lib/python3.9/site-packages/recommenders/models/deeprec/DataModel/ImplicitCF.py:73: FutureWarning: The frame.append method is deprecated and will be removed from pandas in a future version. Use pandas.concat instead.\n",
      "\u001b[36m(TrainLightGCN pid=289342)\u001b[0m   df = train if test is None else train.append(test)\n"
     ]
    },
    {
     "name": "stderr",
     "output_type": "stream",
     "text": [
      "\u001b[33m(raylet)\u001b[0m [2024-03-11 05:02:01,279 E 29667 29696] (raylet) file_system_monitor.cc:111: /tmp/ray/session_2024-03-10_13-48-36_673092_28795 is over 95% full, available space: 3480543232; capacity: 105089261568. Object creation will fail if spilling is required.\n"
     ]
    },
    {
     "name": "stdout",
     "output_type": "stream",
     "text": [
      "\u001b[36m(TrainLightGCN pid=289342)\u001b[0m Already create adjacency matrix.\n"
     ]
    },
    {
     "name": "stdout",
     "output_type": "stream",
     "text": [
      "\u001b[36m(TrainLightGCN pid=289342)\u001b[0m Already normalize adjacency matrix.\n",
      "\u001b[36m(TrainLightGCN pid=289342)\u001b[0m Using xavier initialization.\n"
     ]
    },
    {
     "name": "stderr",
     "output_type": "stream",
     "text": [
      "\u001b[36m(TrainLightGCN pid=289342)\u001b[0m Trainable.setup took 11.758 seconds. If your trainable is slow to initialize, consider setting reuse_actors=True to reduce actor creation overheads.\n"
     ]
    },
    {
     "name": "stderr",
     "output_type": "stream",
     "text": [
      "\u001b[33m(raylet)\u001b[0m [2024-03-11 05:02:11,284 E 29667 29696] (raylet) file_system_monitor.cc:111: /tmp/ray/session_2024-03-10_13-48-36_673092_28795 is over 95% full, available space: 3480526848; capacity: 105089261568. Object creation will fail if spilling is required.\n"
     ]
    },
    {
     "name": "stderr",
     "output_type": "stream",
     "text": [
      "\u001b[33m(raylet)\u001b[0m [2024-03-11 05:02:21,289 E 29667 29696] (raylet) file_system_monitor.cc:111: /tmp/ray/session_2024-03-10_13-48-36_673092_28795 is over 95% full, available space: 3480518656; capacity: 105089261568. Object creation will fail if spilling is required.\n"
     ]
    },
    {
     "name": "stderr",
     "output_type": "stream",
     "text": [
      "\u001b[33m(raylet)\u001b[0m [2024-03-11 05:02:31,294 E 29667 29696] (raylet) file_system_monitor.cc:111: /tmp/ray/session_2024-03-10_13-48-36_673092_28795 is over 95% full, available space: 3480518656; capacity: 105089261568. Object creation will fail if spilling is required.\n"
     ]
    },
    {
     "name": "stderr",
     "output_type": "stream",
     "text": [
      "\u001b[33m(raylet)\u001b[0m [2024-03-11 05:02:41,299 E 29667 29696] (raylet) file_system_monitor.cc:111: /tmp/ray/session_2024-03-10_13-48-36_673092_28795 is over 95% full, available space: 3480330240; capacity: 105089261568. Object creation will fail if spilling is required.\n"
     ]
    },
    {
     "name": "stderr",
     "output_type": "stream",
     "text": [
      "\u001b[33m(raylet)\u001b[0m [2024-03-11 05:02:51,304 E 29667 29696] (raylet) file_system_monitor.cc:111: /tmp/ray/session_2024-03-10_13-48-36_673092_28795 is over 95% full, available space: 3480297472; capacity: 105089261568. Object creation will fail if spilling is required.\n"
     ]
    },
    {
     "name": "stderr",
     "output_type": "stream",
     "text": [
      "\u001b[36m(TrainLightGCN pid=288167)\u001b[0m Checkpoint successfully created at: Checkpoint(filesystem=local, path=/home/daviddavo/ray_results/LightGCN_optim=map@10,dao=PancakeSwap,freq=3d,normalize=True,cutoff_date=2023-07-01T00:00:00,fold=9_2024-03-11T02:49:22.390671/TrainLightGCN_bc4184d6_93_batch_size=10,conv_layers=2,embedding_dim=129,fold=9,l2=0.0000,learning_rate=0.0360_2024-03-11_04-57-00/checkpoint_000000)\n"
     ]
    },
    {
     "name": "stderr",
     "output_type": "stream",
     "text": [
      "\u001b[36m(pid=289734)\u001b[0m 2024-03-11 05:03:01.298685: E tensorflow/compiler/xla/stream_executor/cuda/cuda_dnn.cc:9342] Unable to register cuDNN factory: Attempting to register factory for plugin cuDNN when one has already been registered\n",
      "\u001b[36m(pid=289734)\u001b[0m 2024-03-11 05:03:01.298719: E tensorflow/compiler/xla/stream_executor/cuda/cuda_fft.cc:609] Unable to register cuFFT factory: Attempting to register factory for plugin cuFFT when one has already been registered\n",
      "\u001b[36m(pid=289734)\u001b[0m 2024-03-11 05:03:01.298734: E tensorflow/compiler/xla/stream_executor/cuda/cuda_blas.cc:1518] Unable to register cuBLAS factory: Attempting to register factory for plugin cuBLAS when one has already been registered\n",
      "\u001b[33m(raylet)\u001b[0m [2024-03-11 05:03:01,309 E 29667 29696] (raylet) file_system_monitor.cc:111: /tmp/ray/session_2024-03-10_13-48-36_673092_28795 is over 95% full, available space: 3255013376; capacity: 105089261568. Object creation will fail if spilling is required.\n"
     ]
    },
    {
     "name": "stderr",
     "output_type": "stream",
     "text": [
      "\u001b[36m(TrainLightGCN pid=289734)\u001b[0m /home/daviddavo/upm-tfm-notebooks/.direnv/python-3.9/lib/python3.9/site-packages/recommenders/models/deeprec/DataModel/ImplicitCF.py:73: FutureWarning: The frame.append method is deprecated and will be removed from pandas in a future version. Use pandas.concat instead.\n",
      "\u001b[36m(TrainLightGCN pid=289734)\u001b[0m   df = train if test is None else train.append(test)\n"
     ]
    },
    {
     "name": "stderr",
     "output_type": "stream",
     "text": [
      "\u001b[33m(raylet)\u001b[0m [2024-03-11 05:03:11,314 E 29667 29696] (raylet) file_system_monitor.cc:111: /tmp/ray/session_2024-03-10_13-48-36_673092_28795 is over 95% full, available space: 3255001088; capacity: 105089261568. Object creation will fail if spilling is required.\n"
     ]
    },
    {
     "name": "stdout",
     "output_type": "stream",
     "text": [
      "\u001b[36m(TrainLightGCN pid=289734)\u001b[0m Already create adjacency matrix.\n"
     ]
    },
    {
     "name": "stdout",
     "output_type": "stream",
     "text": [
      "\u001b[36m(TrainLightGCN pid=289734)\u001b[0m Already normalize adjacency matrix.\n",
      "\u001b[36m(TrainLightGCN pid=289734)\u001b[0m Using xavier initialization.\n"
     ]
    },
    {
     "name": "stderr",
     "output_type": "stream",
     "text": [
      "\u001b[36m(TrainLightGCN pid=289734)\u001b[0m Trainable.setup took 11.650 seconds. If your trainable is slow to initialize, consider setting reuse_actors=True to reduce actor creation overheads.\n"
     ]
    },
    {
     "name": "stderr",
     "output_type": "stream",
     "text": [
      "\u001b[33m(raylet)\u001b[0m [2024-03-11 05:03:21,320 E 29667 29696] (raylet) file_system_monitor.cc:111: /tmp/ray/session_2024-03-10_13-48-36_673092_28795 is over 95% full, available space: 3254988800; capacity: 105089261568. Object creation will fail if spilling is required.\n"
     ]
    },
    {
     "name": "stderr",
     "output_type": "stream",
     "text": [
      "\u001b[33m(raylet)\u001b[0m [2024-03-11 05:03:31,325 E 29667 29696] (raylet) file_system_monitor.cc:111: /tmp/ray/session_2024-03-10_13-48-36_673092_28795 is over 95% full, available space: 3254984704; capacity: 105089261568. Object creation will fail if spilling is required.\n"
     ]
    },
    {
     "name": "stderr",
     "output_type": "stream",
     "text": [
      "\u001b[33m(raylet)\u001b[0m [2024-03-11 05:03:41,330 E 29667 29696] (raylet) file_system_monitor.cc:111: /tmp/ray/session_2024-03-10_13-48-36_673092_28795 is over 95% full, available space: 3254808576; capacity: 105089261568. Object creation will fail if spilling is required.\n"
     ]
    },
    {
     "name": "stderr",
     "output_type": "stream",
     "text": [
      "\u001b[33m(raylet)\u001b[0m [2024-03-11 05:03:51,334 E 29667 29696] (raylet) file_system_monitor.cc:111: /tmp/ray/session_2024-03-10_13-48-36_673092_28795 is over 95% full, available space: 3254784000; capacity: 105089261568. Object creation will fail if spilling is required.\n"
     ]
    },
    {
     "name": "stderr",
     "output_type": "stream",
     "text": [
      "\u001b[33m(raylet)\u001b[0m [2024-03-11 05:04:01,339 E 29667 29696] (raylet) file_system_monitor.cc:111: /tmp/ray/session_2024-03-10_13-48-36_673092_28795 is over 95% full, available space: 3254767616; capacity: 105089261568. Object creation will fail if spilling is required.\n"
     ]
    },
    {
     "name": "stderr",
     "output_type": "stream",
     "text": [
      "\u001b[33m(raylet)\u001b[0m [2024-03-11 05:04:11,344 E 29667 29696] (raylet) file_system_monitor.cc:111: /tmp/ray/session_2024-03-10_13-48-36_673092_28795 is over 95% full, available space: 3254767616; capacity: 105089261568. Object creation will fail if spilling is required.\n"
     ]
    },
    {
     "name": "stderr",
     "output_type": "stream",
     "text": [
      "\u001b[33m(raylet)\u001b[0m [2024-03-11 05:04:21,349 E 29667 29696] (raylet) file_system_monitor.cc:111: /tmp/ray/session_2024-03-10_13-48-36_673092_28795 is over 95% full, available space: 3254759424; capacity: 105089261568. Object creation will fail if spilling is required.\n"
     ]
    },
    {
     "name": "stderr",
     "output_type": "stream",
     "text": [
      "\u001b[33m(raylet)\u001b[0m [2024-03-11 05:04:31,353 E 29667 29696] (raylet) file_system_monitor.cc:111: /tmp/ray/session_2024-03-10_13-48-36_673092_28795 is over 95% full, available space: 3254759424; capacity: 105089261568. Object creation will fail if spilling is required.\n"
     ]
    },
    {
     "name": "stderr",
     "output_type": "stream",
     "text": [
      "\u001b[33m(raylet)\u001b[0m [2024-03-11 05:04:41,358 E 29667 29696] (raylet) file_system_monitor.cc:111: /tmp/ray/session_2024-03-10_13-48-36_673092_28795 is over 95% full, available space: 3254566912; capacity: 105089261568. Object creation will fail if spilling is required.\n"
     ]
    },
    {
     "name": "stderr",
     "output_type": "stream",
     "text": [
      "\u001b[33m(raylet)\u001b[0m [2024-03-11 05:04:51,363 E 29667 29696] (raylet) file_system_monitor.cc:111: /tmp/ray/session_2024-03-10_13-48-36_673092_28795 is over 95% full, available space: 3254546432; capacity: 105089261568. Object creation will fail if spilling is required.\n"
     ]
    },
    {
     "name": "stderr",
     "output_type": "stream",
     "text": [
      "\u001b[33m(raylet)\u001b[0m [2024-03-11 05:05:01,368 E 29667 29696] (raylet) file_system_monitor.cc:111: /tmp/ray/session_2024-03-10_13-48-36_673092_28795 is over 95% full, available space: 3254530048; capacity: 105089261568. Object creation will fail if spilling is required.\n"
     ]
    },
    {
     "name": "stderr",
     "output_type": "stream",
     "text": [
      "\u001b[33m(raylet)\u001b[0m [2024-03-11 05:05:11,373 E 29667 29696] (raylet) file_system_monitor.cc:111: /tmp/ray/session_2024-03-10_13-48-36_673092_28795 is over 95% full, available space: 3254525952; capacity: 105089261568. Object creation will fail if spilling is required.\n"
     ]
    },
    {
     "name": "stderr",
     "output_type": "stream",
     "text": [
      "\u001b[33m(raylet)\u001b[0m [2024-03-11 05:05:21,379 E 29667 29696] (raylet) file_system_monitor.cc:111: /tmp/ray/session_2024-03-10_13-48-36_673092_28795 is over 95% full, available space: 3254521856; capacity: 105089261568. Object creation will fail if spilling is required.\n"
     ]
    },
    {
     "name": "stderr",
     "output_type": "stream",
     "text": [
      "\u001b[33m(raylet)\u001b[0m [2024-03-11 05:05:31,384 E 29667 29696] (raylet) file_system_monitor.cc:111: /tmp/ray/session_2024-03-10_13-48-36_673092_28795 is over 95% full, available space: 3254517760; capacity: 105089261568. Object creation will fail if spilling is required.\n",
      "\u001b[36m(TrainLightGCN pid=288710)\u001b[0m Checkpoint successfully created at: Checkpoint(filesystem=local, path=/home/daviddavo/ray_results/LightGCN_optim=map@10,dao=PancakeSwap,freq=3d,normalize=True,cutoff_date=2023-07-01T00:00:00,fold=9_2024-03-11T02:49:22.390671/TrainLightGCN_5b8a3dfd_94_batch_size=7,conv_layers=1,embedding_dim=1,fold=9,l2=0.0001,learning_rate=0.0414_2024-03-11_04-57-56/checkpoint_000000)\n"
     ]
    },
    {
     "name": "stderr",
     "output_type": "stream",
     "text": [
      "\u001b[36m(pid=290337)\u001b[0m 2024-03-11 05:05:33.291541: E tensorflow/compiler/xla/stream_executor/cuda/cuda_dnn.cc:9342] Unable to register cuDNN factory: Attempting to register factory for plugin cuDNN when one has already been registered\n",
      "\u001b[36m(pid=290337)\u001b[0m 2024-03-11 05:05:33.291578: E tensorflow/compiler/xla/stream_executor/cuda/cuda_fft.cc:609] Unable to register cuFFT factory: Attempting to register factory for plugin cuFFT when one has already been registered\n",
      "\u001b[36m(pid=290337)\u001b[0m 2024-03-11 05:05:33.291593: E tensorflow/compiler/xla/stream_executor/cuda/cuda_blas.cc:1518] Unable to register cuBLAS factory: Attempting to register factory for plugin cuBLAS when one has already been registered\n"
     ]
    },
    {
     "name": "stderr",
     "output_type": "stream",
     "text": [
      "\u001b[36m(TrainLightGCN pid=290337)\u001b[0m /home/daviddavo/upm-tfm-notebooks/.direnv/python-3.9/lib/python3.9/site-packages/recommenders/models/deeprec/DataModel/ImplicitCF.py:73: FutureWarning: The frame.append method is deprecated and will be removed from pandas in a future version. Use pandas.concat instead.\n",
      "\u001b[36m(TrainLightGCN pid=290337)\u001b[0m   df = train if test is None else train.append(test)\n"
     ]
    },
    {
     "name": "stderr",
     "output_type": "stream",
     "text": [
      "\u001b[33m(raylet)\u001b[0m [2024-03-11 05:05:41,390 E 29667 29696] (raylet) file_system_monitor.cc:111: /tmp/ray/session_2024-03-10_13-48-36_673092_28795 is over 95% full, available space: 3231502336; capacity: 105089261568. Object creation will fail if spilling is required.\n"
     ]
    },
    {
     "name": "stdout",
     "output_type": "stream",
     "text": [
      "\u001b[36m(TrainLightGCN pid=290337)\u001b[0m Already create adjacency matrix.\n"
     ]
    },
    {
     "name": "stdout",
     "output_type": "stream",
     "text": [
      "\u001b[36m(TrainLightGCN pid=290337)\u001b[0m Already normalize adjacency matrix.\n",
      "\u001b[36m(TrainLightGCN pid=290337)\u001b[0m Using xavier initialization.\n"
     ]
    },
    {
     "name": "stderr",
     "output_type": "stream",
     "text": [
      "\u001b[36m(TrainLightGCN pid=290337)\u001b[0m Trainable.setup took 11.690 seconds. If your trainable is slow to initialize, consider setting reuse_actors=True to reduce actor creation overheads.\n"
     ]
    },
    {
     "name": "stderr",
     "output_type": "stream",
     "text": [
      "\u001b[33m(raylet)\u001b[0m [2024-03-11 05:05:51,394 E 29667 29696] (raylet) file_system_monitor.cc:111: /tmp/ray/session_2024-03-10_13-48-36_673092_28795 is over 95% full, available space: 3231473664; capacity: 105089261568. Object creation will fail if spilling is required.\n"
     ]
    },
    {
     "name": "stderr",
     "output_type": "stream",
     "text": [
      "\u001b[33m(raylet)\u001b[0m [2024-03-11 05:06:01,399 E 29667 29696] (raylet) file_system_monitor.cc:111: /tmp/ray/session_2024-03-10_13-48-36_673092_28795 is over 95% full, available space: 3231461376; capacity: 105089261568. Object creation will fail if spilling is required.\n"
     ]
    },
    {
     "name": "stderr",
     "output_type": "stream",
     "text": [
      "\u001b[33m(raylet)\u001b[0m [2024-03-11 05:06:11,405 E 29667 29696] (raylet) file_system_monitor.cc:111: /tmp/ray/session_2024-03-10_13-48-36_673092_28795 is over 95% full, available space: 3231453184; capacity: 105089261568. Object creation will fail if spilling is required.\n"
     ]
    },
    {
     "name": "stderr",
     "output_type": "stream",
     "text": [
      "\u001b[33m(raylet)\u001b[0m [2024-03-11 05:06:21,410 E 29667 29696] (raylet) file_system_monitor.cc:111: /tmp/ray/session_2024-03-10_13-48-36_673092_28795 is over 95% full, available space: 3231453184; capacity: 105089261568. Object creation will fail if spilling is required.\n"
     ]
    },
    {
     "name": "stderr",
     "output_type": "stream",
     "text": [
      "\u001b[36m(TrainLightGCN pid=289168)\u001b[0m Checkpoint successfully created at: Checkpoint(filesystem=local, path=/home/daviddavo/ray_results/LightGCN_optim=map@10,dao=PancakeSwap,freq=3d,normalize=True,cutoff_date=2023-07-01T00:00:00,fold=9_2024-03-11T02:49:22.390671/TrainLightGCN_df1c9dc0_95_batch_size=12,conv_layers=2,embedding_dim=2,fold=9,l2=0.0000,learning_rate=0.1448_2024-03-11_05-00-06/checkpoint_000000)\n"
     ]
    },
    {
     "name": "stderr",
     "output_type": "stream",
     "text": [
      "\u001b[36m(pid=290659)\u001b[0m 2024-03-11 05:06:29.301542: E tensorflow/compiler/xla/stream_executor/cuda/cuda_dnn.cc:9342] Unable to register cuDNN factory: Attempting to register factory for plugin cuDNN when one has already been registered\n",
      "\u001b[36m(pid=290659)\u001b[0m 2024-03-11 05:06:29.301579: E tensorflow/compiler/xla/stream_executor/cuda/cuda_fft.cc:609] Unable to register cuFFT factory: Attempting to register factory for plugin cuFFT when one has already been registered\n",
      "\u001b[36m(pid=290659)\u001b[0m 2024-03-11 05:06:29.301593: E tensorflow/compiler/xla/stream_executor/cuda/cuda_blas.cc:1518] Unable to register cuBLAS factory: Attempting to register factory for plugin cuBLAS when one has already been registered\n"
     ]
    },
    {
     "name": "stderr",
     "output_type": "stream",
     "text": [
      "\u001b[33m(raylet)\u001b[0m [2024-03-11 05:06:31,415 E 29667 29696] (raylet) file_system_monitor.cc:111: /tmp/ray/session_2024-03-10_13-48-36_673092_28795 is over 95% full, available space: 3207016448; capacity: 105089261568. Object creation will fail if spilling is required.\n",
      "\u001b[36m(TrainLightGCN pid=290659)\u001b[0m /home/daviddavo/upm-tfm-notebooks/.direnv/python-3.9/lib/python3.9/site-packages/recommenders/models/deeprec/DataModel/ImplicitCF.py:73: FutureWarning: The frame.append method is deprecated and will be removed from pandas in a future version. Use pandas.concat instead.\n",
      "\u001b[36m(TrainLightGCN pid=290659)\u001b[0m   df = train if test is None else train.append(test)\n"
     ]
    },
    {
     "name": "stderr",
     "output_type": "stream",
     "text": [
      "\u001b[33m(raylet)\u001b[0m [2024-03-11 05:06:41,420 E 29667 29696] (raylet) file_system_monitor.cc:111: /tmp/ray/session_2024-03-10_13-48-36_673092_28795 is over 95% full, available space: 3206815744; capacity: 105089261568. Object creation will fail if spilling is required.\n"
     ]
    },
    {
     "name": "stdout",
     "output_type": "stream",
     "text": [
      "\u001b[36m(TrainLightGCN pid=290659)\u001b[0m Already create adjacency matrix.\n"
     ]
    },
    {
     "name": "stdout",
     "output_type": "stream",
     "text": [
      "\u001b[36m(TrainLightGCN pid=290659)\u001b[0m Already normalize adjacency matrix.\n"
     ]
    },
    {
     "name": "stdout",
     "output_type": "stream",
     "text": [
      "\u001b[36m(TrainLightGCN pid=290659)\u001b[0m Using xavier initialization.\n"
     ]
    },
    {
     "name": "stderr",
     "output_type": "stream",
     "text": [
      "\u001b[36m(TrainLightGCN pid=290659)\u001b[0m Trainable.setup took 11.760 seconds. If your trainable is slow to initialize, consider setting reuse_actors=True to reduce actor creation overheads.\n"
     ]
    },
    {
     "name": "stderr",
     "output_type": "stream",
     "text": [
      "\u001b[33m(raylet)\u001b[0m [2024-03-11 05:06:51,425 E 29667 29696] (raylet) file_system_monitor.cc:111: /tmp/ray/session_2024-03-10_13-48-36_673092_28795 is over 95% full, available space: 3206799360; capacity: 105089261568. Object creation will fail if spilling is required.\n"
     ]
    },
    {
     "name": "stderr",
     "output_type": "stream",
     "text": [
      "\u001b[33m(raylet)\u001b[0m [2024-03-11 05:07:01,430 E 29667 29696] (raylet) file_system_monitor.cc:111: /tmp/ray/session_2024-03-10_13-48-36_673092_28795 is over 95% full, available space: 3206787072; capacity: 105089261568. Object creation will fail if spilling is required.\n"
     ]
    },
    {
     "name": "stderr",
     "output_type": "stream",
     "text": [
      "\u001b[33m(raylet)\u001b[0m [2024-03-11 05:07:11,435 E 29667 29696] (raylet) file_system_monitor.cc:111: /tmp/ray/session_2024-03-10_13-48-36_673092_28795 is over 95% full, available space: 3206778880; capacity: 105089261568. Object creation will fail if spilling is required.\n"
     ]
    },
    {
     "name": "stderr",
     "output_type": "stream",
     "text": [
      "\u001b[36m(TrainLightGCN pid=289342)\u001b[0m Checkpoint successfully created at: Checkpoint(filesystem=local, path=/home/daviddavo/ray_results/LightGCN_optim=map@10,dao=PancakeSwap,freq=3d,normalize=True,cutoff_date=2023-07-01T00:00:00,fold=9_2024-03-11T02:49:22.390671/TrainLightGCN_9c403253_96_batch_size=11,conv_layers=3,embedding_dim=3,fold=9,l2=0.0000,learning_rate=0.0181_2024-03-11_05-01-49/checkpoint_000000)\n"
     ]
    },
    {
     "name": "stderr",
     "output_type": "stream",
     "text": [
      "\u001b[36m(pid=290964)\u001b[0m 2024-03-11 05:07:19.309805: E tensorflow/compiler/xla/stream_executor/cuda/cuda_dnn.cc:9342] Unable to register cuDNN factory: Attempting to register factory for plugin cuDNN when one has already been registered\n",
      "\u001b[36m(pid=290964)\u001b[0m 2024-03-11 05:07:19.309842: E tensorflow/compiler/xla/stream_executor/cuda/cuda_fft.cc:609] Unable to register cuFFT factory: Attempting to register factory for plugin cuFFT when one has already been registered\n",
      "\u001b[36m(pid=290964)\u001b[0m 2024-03-11 05:07:19.309856: E tensorflow/compiler/xla/stream_executor/cuda/cuda_blas.cc:1518] Unable to register cuBLAS factory: Attempting to register factory for plugin cuBLAS when one has already been registered\n"
     ]
    },
    {
     "name": "stderr",
     "output_type": "stream",
     "text": [
      "\u001b[33m(raylet)\u001b[0m [2024-03-11 05:07:21,440 E 29667 29696] (raylet) file_system_monitor.cc:111: /tmp/ray/session_2024-03-10_13-48-36_673092_28795 is over 95% full, available space: 3180761088; capacity: 105089261568. Object creation will fail if spilling is required.\n",
      "\u001b[36m(TrainLightGCN pid=290964)\u001b[0m /home/daviddavo/upm-tfm-notebooks/.direnv/python-3.9/lib/python3.9/site-packages/recommenders/models/deeprec/DataModel/ImplicitCF.py:73: FutureWarning: The frame.append method is deprecated and will be removed from pandas in a future version. Use pandas.concat instead.\n",
      "\u001b[36m(TrainLightGCN pid=290964)\u001b[0m   df = train if test is None else train.append(test)\n"
     ]
    },
    {
     "name": "stderr",
     "output_type": "stream",
     "text": [
      "\u001b[33m(raylet)\u001b[0m [2024-03-11 05:07:31,446 E 29667 29696] (raylet) file_system_monitor.cc:111: /tmp/ray/session_2024-03-10_13-48-36_673092_28795 is over 95% full, available space: 3180752896; capacity: 105089261568. Object creation will fail if spilling is required.\n"
     ]
    },
    {
     "name": "stdout",
     "output_type": "stream",
     "text": [
      "\u001b[36m(TrainLightGCN pid=290964)\u001b[0m Already create adjacency matrix.\n"
     ]
    },
    {
     "name": "stdout",
     "output_type": "stream",
     "text": [
      "\u001b[36m(TrainLightGCN pid=290964)\u001b[0m Already normalize adjacency matrix.\n",
      "\u001b[36m(TrainLightGCN pid=290964)\u001b[0m Using xavier initialization.\n"
     ]
    },
    {
     "name": "stderr",
     "output_type": "stream",
     "text": [
      "\u001b[36m(TrainLightGCN pid=290964)\u001b[0m Trainable.setup took 11.696 seconds. If your trainable is slow to initialize, consider setting reuse_actors=True to reduce actor creation overheads.\n"
     ]
    },
    {
     "name": "stderr",
     "output_type": "stream",
     "text": [
      "\u001b[33m(raylet)\u001b[0m [2024-03-11 05:07:41,451 E 29667 29696] (raylet) file_system_monitor.cc:111: /tmp/ray/session_2024-03-10_13-48-36_673092_28795 is over 95% full, available space: 3180572672; capacity: 105089261568. Object creation will fail if spilling is required.\n"
     ]
    },
    {
     "name": "stderr",
     "output_type": "stream",
     "text": [
      "\u001b[33m(raylet)\u001b[0m [2024-03-11 05:07:51,456 E 29667 29696] (raylet) file_system_monitor.cc:111: /tmp/ray/session_2024-03-10_13-48-36_673092_28795 is over 95% full, available space: 3180560384; capacity: 105089261568. Object creation will fail if spilling is required.\n"
     ]
    },
    {
     "name": "stderr",
     "output_type": "stream",
     "text": [
      "\u001b[33m(raylet)\u001b[0m [2024-03-11 05:08:01,462 E 29667 29696] (raylet) file_system_monitor.cc:111: /tmp/ray/session_2024-03-10_13-48-36_673092_28795 is over 95% full, available space: 3180556288; capacity: 105089261568. Object creation will fail if spilling is required.\n"
     ]
    },
    {
     "name": "stderr",
     "output_type": "stream",
     "text": [
      "\u001b[33m(raylet)\u001b[0m [2024-03-11 05:08:11,467 E 29667 29696] (raylet) file_system_monitor.cc:111: /tmp/ray/session_2024-03-10_13-48-36_673092_28795 is over 95% full, available space: 3180552192; capacity: 105089261568. Object creation will fail if spilling is required.\n"
     ]
    },
    {
     "name": "stderr",
     "output_type": "stream",
     "text": [
      "\u001b[33m(raylet)\u001b[0m [2024-03-11 05:08:21,472 E 29667 29696] (raylet) file_system_monitor.cc:111: /tmp/ray/session_2024-03-10_13-48-36_673092_28795 is over 95% full, available space: 3180544000; capacity: 105089261568. Object creation will fail if spilling is required.\n"
     ]
    },
    {
     "name": "stderr",
     "output_type": "stream",
     "text": [
      "\u001b[36m(TrainLightGCN pid=289734)\u001b[0m Checkpoint successfully created at: Checkpoint(filesystem=local, path=/home/daviddavo/ray_results/LightGCN_optim=map@10,dao=PancakeSwap,freq=3d,normalize=True,cutoff_date=2023-07-01T00:00:00,fold=9_2024-03-11T02:49:22.390671/TrainLightGCN_8e28e7fd_97_batch_size=8,conv_layers=3,embedding_dim=1,fold=9,l2=0.0000,learning_rate=0.0776_2024-03-11_05-02-04/checkpoint_000000)\n"
     ]
    },
    {
     "name": "stderr",
     "output_type": "stream",
     "text": [
      "\u001b[33m(raylet)\u001b[0m [2024-03-11 05:08:31,477 E 29667 29696] (raylet) file_system_monitor.cc:111: /tmp/ray/session_2024-03-10_13-48-36_673092_28795 is over 95% full, available space: 3157700608; capacity: 105089261568. Object creation will fail if spilling is required.\n"
     ]
    },
    {
     "name": "stderr",
     "output_type": "stream",
     "text": [
      "\u001b[33m(raylet)\u001b[0m [2024-03-11 05:08:41,482 E 29667 29696] (raylet) file_system_monitor.cc:111: /tmp/ray/session_2024-03-10_13-48-36_673092_28795 is over 95% full, available space: 3157508096; capacity: 105089261568. Object creation will fail if spilling is required.\n"
     ]
    },
    {
     "name": "stderr",
     "output_type": "stream",
     "text": [
      "\u001b[33m(raylet)\u001b[0m [2024-03-11 05:08:51,487 E 29667 29696] (raylet) file_system_monitor.cc:111: /tmp/ray/session_2024-03-10_13-48-36_673092_28795 is over 95% full, available space: 3157487616; capacity: 105089261568. Object creation will fail if spilling is required.\n"
     ]
    },
    {
     "name": "stderr",
     "output_type": "stream",
     "text": [
      "\u001b[33m(raylet)\u001b[0m [2024-03-11 05:09:01,491 E 29667 29696] (raylet) file_system_monitor.cc:111: /tmp/ray/session_2024-03-10_13-48-36_673092_28795 is over 95% full, available space: 3157487616; capacity: 105089261568. Object creation will fail if spilling is required.\n"
     ]
    },
    {
     "name": "stderr",
     "output_type": "stream",
     "text": [
      "\u001b[33m(raylet)\u001b[0m [2024-03-11 05:09:11,496 E 29667 29696] (raylet) file_system_monitor.cc:111: /tmp/ray/session_2024-03-10_13-48-36_673092_28795 is over 95% full, available space: 3157487616; capacity: 105089261568. Object creation will fail if spilling is required.\n"
     ]
    },
    {
     "name": "stderr",
     "output_type": "stream",
     "text": [
      "\u001b[33m(raylet)\u001b[0m [2024-03-11 05:09:21,500 E 29667 29696] (raylet) file_system_monitor.cc:111: /tmp/ray/session_2024-03-10_13-48-36_673092_28795 is over 95% full, available space: 3157475328; capacity: 105089261568. Object creation will fail if spilling is required.\n"
     ]
    },
    {
     "name": "stderr",
     "output_type": "stream",
     "text": [
      "\u001b[33m(raylet)\u001b[0m [2024-03-11 05:09:31,505 E 29667 29696] (raylet) file_system_monitor.cc:111: /tmp/ray/session_2024-03-10_13-48-36_673092_28795 is over 95% full, available space: 3157467136; capacity: 105089261568. Object creation will fail if spilling is required.\n"
     ]
    },
    {
     "name": "stderr",
     "output_type": "stream",
     "text": [
      "\u001b[33m(raylet)\u001b[0m [2024-03-11 05:09:41,510 E 29667 29696] (raylet) file_system_monitor.cc:111: /tmp/ray/session_2024-03-10_13-48-36_673092_28795 is over 95% full, available space: 3157282816; capacity: 105089261568. Object creation will fail if spilling is required.\n"
     ]
    },
    {
     "name": "stderr",
     "output_type": "stream",
     "text": [
      "\u001b[33m(raylet)\u001b[0m [2024-03-11 05:09:51,515 E 29667 29696] (raylet) file_system_monitor.cc:111: /tmp/ray/session_2024-03-10_13-48-36_673092_28795 is over 95% full, available space: 3157266432; capacity: 105089261568. Object creation will fail if spilling is required.\n"
     ]
    },
    {
     "name": "stderr",
     "output_type": "stream",
     "text": [
      "\u001b[33m(raylet)\u001b[0m [2024-03-11 05:10:01,520 E 29667 29696] (raylet) file_system_monitor.cc:111: /tmp/ray/session_2024-03-10_13-48-36_673092_28795 is over 95% full, available space: 3157262336; capacity: 105089261568. Object creation will fail if spilling is required.\n"
     ]
    },
    {
     "name": "stderr",
     "output_type": "stream",
     "text": [
      "\u001b[33m(raylet)\u001b[0m [2024-03-11 05:10:11,525 E 29667 29696] (raylet) file_system_monitor.cc:111: /tmp/ray/session_2024-03-10_13-48-36_673092_28795 is over 95% full, available space: 3157262336; capacity: 105089261568. Object creation will fail if spilling is required.\n"
     ]
    },
    {
     "name": "stderr",
     "output_type": "stream",
     "text": [
      "\u001b[33m(raylet)\u001b[0m [2024-03-11 05:10:21,530 E 29667 29696] (raylet) file_system_monitor.cc:111: /tmp/ray/session_2024-03-10_13-48-36_673092_28795 is over 95% full, available space: 3157258240; capacity: 105089261568. Object creation will fail if spilling is required.\n"
     ]
    },
    {
     "name": "stderr",
     "output_type": "stream",
     "text": [
      "\u001b[33m(raylet)\u001b[0m [2024-03-11 05:10:31,535 E 29667 29696] (raylet) file_system_monitor.cc:111: /tmp/ray/session_2024-03-10_13-48-36_673092_28795 is over 95% full, available space: 3157237760; capacity: 105089261568. Object creation will fail if spilling is required.\n"
     ]
    },
    {
     "name": "stderr",
     "output_type": "stream",
     "text": [
      "\u001b[33m(raylet)\u001b[0m [2024-03-11 05:10:41,540 E 29667 29696] (raylet) file_system_monitor.cc:111: /tmp/ray/session_2024-03-10_13-48-36_673092_28795 is over 95% full, available space: 3157053440; capacity: 105089261568. Object creation will fail if spilling is required.\n"
     ]
    },
    {
     "name": "stderr",
     "output_type": "stream",
     "text": [
      "\u001b[36m(TrainLightGCN pid=290659)\u001b[0m Checkpoint successfully created at: Checkpoint(filesystem=local, path=/home/daviddavo/ray_results/LightGCN_optim=map@10,dao=PancakeSwap,freq=3d,normalize=True,cutoff_date=2023-07-01T00:00:00,fold=9_2024-03-11T02:49:22.390671/TrainLightGCN_e5f4c751_99_batch_size=13,conv_layers=4,embedding_dim=8,fold=9,l2=0.0000,learning_rate=0.0265_2024-03-11_05-05-47/checkpoint_000000)\n"
     ]
    },
    {
     "name": "stderr",
     "output_type": "stream",
     "text": [
      "\u001b[33m(raylet)\u001b[0m [2024-03-11 05:10:51,545 E 29667 29696] (raylet) file_system_monitor.cc:111: /tmp/ray/session_2024-03-10_13-48-36_673092_28795 is over 95% full, available space: 3123130368; capacity: 105089261568. Object creation will fail if spilling is required.\n"
     ]
    },
    {
     "name": "stderr",
     "output_type": "stream",
     "text": [
      "\u001b[36m(TrainLightGCN pid=290337)\u001b[0m Checkpoint successfully created at: Checkpoint(filesystem=local, path=/home/daviddavo/ray_results/LightGCN_optim=map@10,dao=PancakeSwap,freq=3d,normalize=True,cutoff_date=2023-07-01T00:00:00,fold=9_2024-03-11T02:49:22.390671/TrainLightGCN_f663f02f_98_batch_size=9,conv_layers=2,embedding_dim=1,fold=9,l2=0.0000,learning_rate=0.0326_2024-03-11_05-03-15/checkpoint_000000)\n"
     ]
    },
    {
     "name": "stderr",
     "output_type": "stream",
     "text": [
      "\u001b[33m(raylet)\u001b[0m [2024-03-11 05:11:01,549 E 29667 29696] (raylet) file_system_monitor.cc:111: /tmp/ray/session_2024-03-10_13-48-36_673092_28795 is over 95% full, available space: 3100295168; capacity: 105089261568. Object creation will fail if spilling is required.\n"
     ]
    },
    {
     "name": "stderr",
     "output_type": "stream",
     "text": [
      "\u001b[33m(raylet)\u001b[0m [2024-03-11 05:11:11,553 E 29667 29696] (raylet) file_system_monitor.cc:111: /tmp/ray/session_2024-03-10_13-48-36_673092_28795 is over 95% full, available space: 3100295168; capacity: 105089261568. Object creation will fail if spilling is required.\n"
     ]
    },
    {
     "name": "stderr",
     "output_type": "stream",
     "text": [
      "\u001b[33m(raylet)\u001b[0m [2024-03-11 05:11:21,557 E 29667 29696] (raylet) file_system_monitor.cc:111: /tmp/ray/session_2024-03-10_13-48-36_673092_28795 is over 95% full, available space: 3100278784; capacity: 105089261568. Object creation will fail if spilling is required.\n"
     ]
    },
    {
     "name": "stderr",
     "output_type": "stream",
     "text": [
      "\u001b[33m(raylet)\u001b[0m [2024-03-11 05:11:31,560 E 29667 29696] (raylet) file_system_monitor.cc:111: /tmp/ray/session_2024-03-10_13-48-36_673092_28795 is over 95% full, available space: 3100278784; capacity: 105089261568. Object creation will fail if spilling is required.\n"
     ]
    },
    {
     "name": "stderr",
     "output_type": "stream",
     "text": [
      "\u001b[33m(raylet)\u001b[0m [2024-03-11 05:11:41,563 E 29667 29696] (raylet) file_system_monitor.cc:111: /tmp/ray/session_2024-03-10_13-48-36_673092_28795 is over 95% full, available space: 3100090368; capacity: 105089261568. Object creation will fail if spilling is required.\n"
     ]
    },
    {
     "name": "stderr",
     "output_type": "stream",
     "text": [
      "\u001b[33m(raylet)\u001b[0m [2024-03-11 05:11:51,566 E 29667 29696] (raylet) file_system_monitor.cc:111: /tmp/ray/session_2024-03-10_13-48-36_673092_28795 is over 95% full, available space: 3100073984; capacity: 105089261568. Object creation will fail if spilling is required.\n"
     ]
    },
    {
     "name": "stderr",
     "output_type": "stream",
     "text": [
      "\u001b[33m(raylet)\u001b[0m [2024-03-11 05:12:01,569 E 29667 29696] (raylet) file_system_monitor.cc:111: /tmp/ray/session_2024-03-10_13-48-36_673092_28795 is over 95% full, available space: 3100069888; capacity: 105089261568. Object creation will fail if spilling is required.\n"
     ]
    },
    {
     "name": "stderr",
     "output_type": "stream",
     "text": [
      "\u001b[33m(raylet)\u001b[0m [2024-03-11 05:12:11,573 E 29667 29696] (raylet) file_system_monitor.cc:111: /tmp/ray/session_2024-03-10_13-48-36_673092_28795 is over 95% full, available space: 3100069888; capacity: 105089261568. Object creation will fail if spilling is required.\n"
     ]
    },
    {
     "name": "stderr",
     "output_type": "stream",
     "text": [
      "\u001b[33m(raylet)\u001b[0m [2024-03-11 05:12:21,576 E 29667 29696] (raylet) file_system_monitor.cc:111: /tmp/ray/session_2024-03-10_13-48-36_673092_28795 is over 95% full, available space: 3100061696; capacity: 105089261568. Object creation will fail if spilling is required.\n"
     ]
    },
    {
     "name": "stderr",
     "output_type": "stream",
     "text": [
      "\u001b[33m(raylet)\u001b[0m [2024-03-11 05:12:31,583 E 29667 29696] (raylet) file_system_monitor.cc:111: /tmp/ray/session_2024-03-10_13-48-36_673092_28795 is over 95% full, available space: 3100057600; capacity: 105089261568. Object creation will fail if spilling is required.\n"
     ]
    },
    {
     "name": "stderr",
     "output_type": "stream",
     "text": [
      "\u001b[33m(raylet)\u001b[0m [2024-03-11 05:12:41,591 E 29667 29696] (raylet) file_system_monitor.cc:111: /tmp/ray/session_2024-03-10_13-48-36_673092_28795 is over 95% full, available space: 3099885568; capacity: 105089261568. Object creation will fail if spilling is required.\n"
     ]
    },
    {
     "name": "stderr",
     "output_type": "stream",
     "text": [
      "2024-03-11 05:12:42,104\tINFO tune.py:1042 -- Total run time: 8599.71 seconds (8599.68 seconds for the tuning loop).\n"
     ]
    },
    {
     "name": "stderr",
     "output_type": "stream",
     "text": [
      "\u001b[36m(TrainLightGCN pid=290964)\u001b[0m Checkpoint successfully created at: Checkpoint(filesystem=local, path=/home/daviddavo/ray_results/LightGCN_optim=map@10,dao=PancakeSwap,freq=3d,normalize=True,cutoff_date=2023-07-01T00:00:00,fold=9_2024-03-11T02:49:22.390671/TrainLightGCN_74cc6c42_100_batch_size=10,conv_layers=3,embedding_dim=5,fold=9,l2=0.0000,learning_rate=0.1085_2024-03-11_05-06-43/checkpoint_000000)\n"
     ]
    }
   ],
   "source": [
    "import logging\n",
    "\n",
    "def findConfig(rg):\n",
    "    for r in rg:\n",
    "        if r.config:\n",
    "            msk = [r.config[k] == v for k, v in last_best_result.config.items() if k != 'fold']\n",
    "            if all(msk):\n",
    "                return r\n",
    "            elif sum(msk) >= 3:\n",
    "                print(r.config, msk)\n",
    "\n",
    "    return None\n",
    "\n",
    "tuners = []\n",
    "results = []\n",
    "last_best_result = None\n",
    "for f in range(LAST_SPLITS):\n",
    "    best_prev_config = None\n",
    "    if last_best_result is not None:\n",
    "        best_prev_config = last_best_result.config.copy()\n",
    "        best_prev_config['fold'] += 1\n",
    "        best_prev_config = [best_prev_config]\n",
    "    \n",
    "    t = getTunerOnFold(f, best_prev_config)\n",
    "    tuners.append(t)\n",
    "\n",
    "    rg = t.fit()\n",
    "    assert rg.num_errors == 0, f\"There are {rg.num_errors} errors\"\n",
    "    assert rg.num_terminated == NUM_SAMPLES, f'Some samples are not terminated ({rg.num_terminated} != {NUM_SAMPLES})'\n",
    "    results.append(rg)\n",
    "\n",
    "    # Assert that the prev config has been tried\n",
    "    if last_best_result is not None:\n",
    "        # if not any( \n",
    "        #     all((r.config[k] == v for k, v in last_best_result.config.items() if k != 'fold'))\n",
    "        #     for r in rg if r.config\n",
    "        # ):\n",
    "        if not findConfig(rg):\n",
    "            print(\"Best config:\", last_best_result.config)\n",
    "            assert False, f\"The best config from previous fold has not been tested in fold {f}\"\n",
    "        else:\n",
    "            logging.info(f'Fold {f}. Best prev result was {last_best_result.path} and config has been found {findConfig(rg).path}')\n",
    "    \n",
    "    last_best_result = rg.get_best_result()"
   ]
  },
  {
   "cell_type": "code",
   "execution_count": 23,
   "id": "d5bc38c5-05b3-41d0-9eb6-98168aede6ba",
   "metadata": {
    "execution": {
     "iopub.execute_input": "2024-03-11T05:12:42.269577Z",
     "iopub.status.busy": "2024-03-11T05:12:42.269108Z",
     "iopub.status.idle": "2024-03-11T05:12:42.299917Z",
     "shell.execute_reply": "2024-03-11T05:12:42.299639Z"
    },
    "papermill": {
     "duration": 0.06191,
     "end_time": "2024-03-11T05:12:42.301147",
     "exception": false,
     "start_time": "2024-03-11T05:12:42.239237",
     "status": "completed"
    },
    "tags": []
   },
   "outputs": [
    {
     "name": "stdout",
     "output_type": "stream",
     "text": [
      "All finished!\n"
     ]
    }
   ],
   "source": [
    "# This is needed for papermill to run the whole notebook and not stop above\n",
    "# because ray tune catches the exception\n",
    "\n",
    "print(\"All finished!\")"
   ]
  }
 ],
 "metadata": {
  "kernelspec": {
   "display_name": "Python 3 (ipykernel)",
   "language": "python",
   "name": "python3"
  },
  "language_info": {
   "codemirror_mode": {
    "name": "ipython",
    "version": 3
   },
   "file_extension": ".py",
   "mimetype": "text/x-python",
   "name": "python",
   "nbconvert_exporter": "python",
   "pygments_lexer": "ipython3",
   "version": "3.9.18"
  },
  "papermill": {
   "default_parameters": {},
   "duration": 55542.074877,
   "end_time": "2024-03-11T05:12:47.592940",
   "environment_variables": {},
   "exception": null,
   "input_path": "07_microsoft_tuning.ipynb",
   "output_path": "nbout/PancakeSwap/07_microsoft_tuning.ipynb",
   "parameters": {
    "CUTOFF_DATE_STR": "2023-07-01",
    "EXECUTION_ID": "2024-03-08 10:00",
    "LAST_SPLITS": 10,
    "ORG_NAME": "PancakeSwap",
    "ORG_PLATFORM": "snapshot",
    "SPLITS_FREQ": "3d",
    "SPLITS_NORMALIZE": true,
    "USE_ORG_NAMES": true
   },
   "start_time": "2024-03-10T13:47:05.518063",
   "version": "2.5.0"
  },
  "widgets": {
   "application/vnd.jupyter.widget-state+json": {
    "state": {},
    "version_major": 2,
    "version_minor": 0
   }
  }
 },
 "nbformat": 4,
 "nbformat_minor": 5
}