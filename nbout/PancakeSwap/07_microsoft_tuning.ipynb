{
 "cells": [
  {
   "cell_type": "code",
   "execution_count": 1,
   "id": "cf98a9e1-f3e0-4c0a-96c1-30f305901246",
   "metadata": {
    "editable": true,
    "execution": {
     "iopub.execute_input": "2024-03-23T15:52:28.995331Z",
     "iopub.status.busy": "2024-03-23T15:52:28.994886Z",
     "iopub.status.idle": "2024-03-23T15:52:31.429481Z",
     "shell.execute_reply": "2024-03-23T15:52:31.429123Z"
    },
    "papermill": {
     "duration": 2.445605,
     "end_time": "2024-03-23T15:52:31.430462",
     "exception": false,
     "start_time": "2024-03-23T15:52:28.984857",
     "status": "completed"
    },
    "slideshow": {
     "slide_type": ""
    },
    "tags": []
   },
   "outputs": [
    {
     "name": "stdout",
     "output_type": "stream",
     "text": [
      "Python version 3.9.18 (main, Oct 24 2023, 09:18:18) \n",
      "[GCC 11.4.0]\n"
     ]
    },
    {
     "name": "stderr",
     "output_type": "stream",
     "text": [
      "2024-03-23 15:52:29.318823: E tensorflow/compiler/xla/stream_executor/cuda/cuda_dnn.cc:9342] Unable to register cuDNN factory: Attempting to register factory for plugin cuDNN when one has already been registered\n",
      "2024-03-23 15:52:29.318844: E tensorflow/compiler/xla/stream_executor/cuda/cuda_fft.cc:609] Unable to register cuFFT factory: Attempting to register factory for plugin cuFFT when one has already been registered\n",
      "2024-03-23 15:52:29.318857: E tensorflow/compiler/xla/stream_executor/cuda/cuda_blas.cc:1518] Unable to register cuBLAS factory: Attempting to register factory for plugin cuBLAS when one has already been registered\n"
     ]
    },
    {
     "name": "stdout",
     "output_type": "stream",
     "text": [
      "11.8 8\n",
      "Ray version: 2.9.1\n"
     ]
    }
   ],
   "source": [
    "from typing import Dict, List, Tuple, Union, Any, Optional\n",
    "\n",
    "import os\n",
    "import sys\n",
    "import time\n",
    "print(\"Python version\", sys.version)\n",
    "\n",
    "# Ignore pandas warnings\n",
    "import warnings\n",
    "warnings.simplefilter(action='ignore', category=FutureWarning)\n",
    "\n",
    "from pathlib import Path\n",
    "\n",
    "import pandas as pd\n",
    "import numpy as np\n",
    "import tensorflow as tf\n",
    "import datetime as dt\n",
    "\n",
    "from tqdm.autonotebook import tqdm\n",
    "\n",
    "import ray\n",
    "from ray import train, tune\n",
    "\n",
    "from src.datasets import daocensus_text\n",
    "\n",
    "%load_ext autoreload\n",
    "%autoreload 2\n",
    "\n",
    "tf.get_logger().setLevel('WARNING')\n",
    "\n",
    "tf.config.list_physical_devices(\"GPU\")\n",
    "sys_details = tf.sysconfig.get_build_info()\n",
    "cuda = sys_details.get(\"cuda_version\", -1)\n",
    "cudnn = sys_details.get(\"cudnn_version\", -1)\n",
    "print(cuda, cudnn)\n",
    "print('Ray version:', ray.__version__)"
   ]
  },
  {
   "cell_type": "code",
   "execution_count": 2,
   "id": "798161a7-5414-4626-9dfb-6d71823bf4c7",
   "metadata": {
    "editable": true,
    "execution": {
     "iopub.execute_input": "2024-03-23T15:52:31.437098Z",
     "iopub.status.busy": "2024-03-23T15:52:31.436852Z",
     "iopub.status.idle": "2024-03-23T15:52:31.459181Z",
     "shell.execute_reply": "2024-03-23T15:52:31.458947Z"
    },
    "papermill": {
     "duration": 0.026991,
     "end_time": "2024-03-23T15:52:31.460520",
     "exception": false,
     "start_time": "2024-03-23T15:52:31.433529",
     "status": "completed"
    },
    "slideshow": {
     "slide_type": ""
    },
    "tags": [
     "parameters"
    ]
   },
   "outputs": [],
   "source": [
    "# Others config\n",
    "SEED: int = 57\n",
    "RAY_RESULTS_PATH: Path = Path('~/ray_results').expanduser()\n",
    "\n",
    "# Dataset config\n",
    "ORG_NAME = 'Decentraland'\n",
    "ORG_PLATFORM = 'snapshot'\n",
    "USE_ORG_NAMES: bool = False\n",
    "CUTOFF_DATE_STR: str = None\n",
    "\n",
    "# Dataset splits config\n",
    "SPLITS_FREQ = 'W-THU' # Split weekly\n",
    "LAST_SPLITS = 10 # Use just last 10 splits\n",
    "SPLITS_NORMALIZE = True\n",
    "\n",
    "# Training config\n",
    "MAX_EPOCHS: int = 200\n",
    "EPOCHS_PER_ITER: int = 5\n",
    "SAMPLES_PER_SPLIT: int = 100\n",
    "OPTIM_METRIC: str = 'map@10'\n",
    "\n",
    "# Eval config\n",
    "TOP_K: List[int] = [5, 10]\n",
    "METRICS: List[str] = [\"recall\", \"ndcg\", \"precision\", \"map\"]"
   ]
  },
  {
   "cell_type": "code",
   "execution_count": 3,
   "id": "921348c5",
   "metadata": {
    "execution": {
     "iopub.execute_input": "2024-03-23T15:52:31.466015Z",
     "iopub.status.busy": "2024-03-23T15:52:31.465869Z",
     "iopub.status.idle": "2024-03-23T15:52:31.486383Z",
     "shell.execute_reply": "2024-03-23T15:52:31.486077Z"
    },
    "papermill": {
     "duration": 0.025067,
     "end_time": "2024-03-23T15:52:31.487731",
     "exception": false,
     "start_time": "2024-03-23T15:52:31.462664",
     "status": "completed"
    },
    "tags": [
     "injected-parameters"
    ]
   },
   "outputs": [],
   "source": [
    "# Parameters\n",
    "ORG_NAME = \"PancakeSwap\"\n",
    "ORG_PLATFORM = \"snapshot\"\n",
    "SPLITS_FREQ = \"3d\"\n",
    "SPLITS_NORMALIZE = True\n",
    "LAST_SPLITS = 10\n",
    "USE_ORG_NAMES = True\n",
    "EXECUTION_ID = \"2024-03-21\"\n",
    "CUTOFF_DATE_STR = \"2023-07-01\"\n"
   ]
  },
  {
   "cell_type": "code",
   "execution_count": 4,
   "id": "cb3db761-9d3b-4a8b-9164-1008f2e8bab5",
   "metadata": {
    "execution": {
     "iopub.execute_input": "2024-03-23T15:52:31.493093Z",
     "iopub.status.busy": "2024-03-23T15:52:31.492632Z",
     "iopub.status.idle": "2024-03-23T15:52:31.510417Z",
     "shell.execute_reply": "2024-03-23T15:52:31.510190Z"
    },
    "papermill": {
     "duration": 0.021874,
     "end_time": "2024-03-23T15:52:31.511752",
     "exception": false,
     "start_time": "2024-03-23T15:52:31.489878",
     "status": "completed"
    },
    "tags": []
   },
   "outputs": [],
   "source": [
    "CUTOFF_DATE = dt.datetime.fromisoformat(CUTOFF_DATE_STR) if CUTOFF_DATE_STR else None"
   ]
  },
  {
   "cell_type": "markdown",
   "id": "ab0ff2f2-bdaa-46eb-87d1-c4481734b8c0",
   "metadata": {
    "papermill": {
     "duration": 0.00244,
     "end_time": "2024-03-23T15:52:31.516454",
     "exception": false,
     "start_time": "2024-03-23T15:52:31.514014",
     "status": "completed"
    },
    "tags": []
   },
   "source": [
    "# Load data"
   ]
  },
  {
   "cell_type": "code",
   "execution_count": 5,
   "id": "765a4892-6a85-40ab-a65d-c0d76b0569b2",
   "metadata": {
    "editable": true,
    "execution": {
     "iopub.execute_input": "2024-03-23T15:52:31.521490Z",
     "iopub.status.busy": "2024-03-23T15:52:31.521398Z",
     "iopub.status.idle": "2024-03-23T15:52:38.233194Z",
     "shell.execute_reply": "2024-03-23T15:52:38.232823Z"
    },
    "papermill": {
     "duration": 6.715373,
     "end_time": "2024-03-23T15:52:38.234007",
     "exception": false,
     "start_time": "2024-03-23T15:52:31.518634",
     "status": "completed"
    },
    "scrolled": true,
    "slideshow": {
     "slide_type": ""
    },
    "tags": []
   },
   "outputs": [
    {
     "name": "stdout",
     "output_type": "stream",
     "text": [
      "Warning, removing 529464 votes without proposal\n"
     ]
    },
    {
     "name": "stdout",
     "output_type": "stream",
     "text": [
      "<class 'pandas.core.frame.DataFrame'>\n",
      "Int64Index: 529464 entries, 0 to 529463\n",
      "Data columns (total 10 columns):\n",
      " #   Column         Non-Null Count   Dtype         \n",
      "---  ------         --------------   -----         \n",
      " 0   platform       529464 non-null  object        \n",
      " 1   name           529464 non-null  object        \n",
      " 2   id             529464 non-null  object        \n",
      " 3   proposal       529464 non-null  category      \n",
      " 4   deployment     529464 non-null  object        \n",
      " 5   platform_vote  529464 non-null  object        \n",
      " 6   voter          529464 non-null  category      \n",
      " 7   date           529464 non-null  datetime64[ns]\n",
      " 8   choice         529464 non-null  object        \n",
      " 9   weight         529464 non-null  float64       \n",
      "dtypes: category(2), datetime64[ns](1), float64(1), object(6)\n",
      "memory usage: 40.4+ MB\n",
      "None\n",
      "<class 'pandas.core.frame.DataFrame'>\n",
      "Int64Index: 2684 entries, 0 to 2683\n",
      "Data columns (total 13 columns):\n",
      " #   Column               Non-Null Count  Dtype         \n",
      "---  ------               --------------  -----         \n",
      " 0   platform             2684 non-null   object        \n",
      " 1   name                 2684 non-null   object        \n",
      " 2   platform_deployment  2684 non-null   object        \n",
      " 3   id                   2684 non-null   category      \n",
      " 4   deployment           2684 non-null   object        \n",
      " 5   platform_proposal    2684 non-null   object        \n",
      " 6   author               2684 non-null   category      \n",
      " 7   date                 2684 non-null   datetime64[ns]\n",
      " 8   title                2684 non-null   object        \n",
      " 9   description          2684 non-null   object        \n",
      " 10  start                2684 non-null   datetime64[ns]\n",
      " 11  end                  2684 non-null   datetime64[ns]\n",
      " 12  votes_count          2684 non-null   int64         \n",
      "dtypes: category(2), datetime64[ns](3), int64(1), object(7)\n",
      "memory usage: 295.1+ KB\n",
      "None\n"
     ]
    }
   ],
   "source": [
    "# dfptext = pd.read_csv('./snapshot_proposals.csv')[['proposal_id', 'title', 'description', 'start', 'end']]\n",
    "# dfv, dfp = daocensus.get(\"./data/daos-census\", ORG_NAME, 'snapshot')\n",
    "# dfv['voter'] = dfv['voter'].astype('str')\n",
    "# dfp = dfp.merge(dfptext, how='left', left_on='platform_proposal', right_on='proposal_id')\n",
    "# dfp[['start', 'end']] = dfp[['start', 'end']].astype('datetime64')\n",
    "\n",
    "dfv, dfp = daocensus_text.get(\"./data/daos-census-text\", ORG_NAME, ORG_PLATFORM, use_org_names=USE_ORG_NAMES, cutoff_date=CUTOFF_DATE)\n",
    "print(dfv.info())\n",
    "print(dfp.info())"
   ]
  },
  {
   "cell_type": "markdown",
   "id": "df339c08-4f99-4933-886c-6ab774f09e63",
   "metadata": {
    "papermill": {
     "duration": 0.002491,
     "end_time": "2024-03-23T15:52:38.239258",
     "exception": false,
     "start_time": "2024-03-23T15:52:38.236767",
     "status": "completed"
    },
    "tags": []
   },
   "source": [
    "## Transform data"
   ]
  },
  {
   "cell_type": "code",
   "execution_count": 6,
   "id": "4b003927-cfab-4f9a-91f8-1376f038f82e",
   "metadata": {
    "execution": {
     "iopub.execute_input": "2024-03-23T15:52:38.244594Z",
     "iopub.status.busy": "2024-03-23T15:52:38.244468Z",
     "iopub.status.idle": "2024-03-23T15:52:38.365645Z",
     "shell.execute_reply": "2024-03-23T15:52:38.365321Z"
    },
    "papermill": {
     "duration": 0.124907,
     "end_time": "2024-03-23T15:52:38.366534",
     "exception": false,
     "start_time": "2024-03-23T15:52:38.241627",
     "status": "completed"
    },
    "tags": []
   },
   "outputs": [
    {
     "data": {
      "text/html": [
       "<div>\n",
       "<style scoped>\n",
       "    .dataframe tbody tr th:only-of-type {\n",
       "        vertical-align: middle;\n",
       "    }\n",
       "\n",
       "    .dataframe tbody tr th {\n",
       "        vertical-align: top;\n",
       "    }\n",
       "\n",
       "    .dataframe thead th {\n",
       "        text-align: right;\n",
       "    }\n",
       "</style>\n",
       "<table border=\"1\" class=\"dataframe\">\n",
       "  <thead>\n",
       "    <tr style=\"text-align: right;\">\n",
       "      <th></th>\n",
       "      <th>userID</th>\n",
       "      <th>itemID</th>\n",
       "      <th>timestamp</th>\n",
       "      <th>rating</th>\n",
       "    </tr>\n",
       "  </thead>\n",
       "  <tbody>\n",
       "    <tr>\n",
       "      <th>0</th>\n",
       "      <td>0x71aa938631f32011303150bd7d1c7f4b5d2f3694</td>\n",
       "      <td>32d8d279-eb34-5718-9081-4deb1b662a37</td>\n",
       "      <td>2021-12-07 17:59:03</td>\n",
       "      <td>1</td>\n",
       "    </tr>\n",
       "    <tr>\n",
       "      <th>1</th>\n",
       "      <td>0xfee6b5d6fd92e64248e5af14023a19bf0cbaa04a</td>\n",
       "      <td>32d8d279-eb34-5718-9081-4deb1b662a37</td>\n",
       "      <td>2021-12-07 17:56:45</td>\n",
       "      <td>1</td>\n",
       "    </tr>\n",
       "    <tr>\n",
       "      <th>2</th>\n",
       "      <td>0x077f6c80a1c43a63db6892b85bed5205c0afbc4f</td>\n",
       "      <td>32d8d279-eb34-5718-9081-4deb1b662a37</td>\n",
       "      <td>2021-12-07 17:27:49</td>\n",
       "      <td>1</td>\n",
       "    </tr>\n",
       "    <tr>\n",
       "      <th>3</th>\n",
       "      <td>0x5473b5210b996ac3809996e9e9dd4d716d3df08c</td>\n",
       "      <td>32d8d279-eb34-5718-9081-4deb1b662a37</td>\n",
       "      <td>2021-12-07 17:22:02</td>\n",
       "      <td>1</td>\n",
       "    </tr>\n",
       "    <tr>\n",
       "      <th>4</th>\n",
       "      <td>0xe99ce54c794408f6c162f9dc4e7fedc4ab3a04f2</td>\n",
       "      <td>32d8d279-eb34-5718-9081-4deb1b662a37</td>\n",
       "      <td>2021-12-07 13:59:15</td>\n",
       "      <td>1</td>\n",
       "    </tr>\n",
       "  </tbody>\n",
       "</table>\n",
       "</div>"
      ],
      "text/plain": [
       "                                       userID  \\\n",
       "0  0x71aa938631f32011303150bd7d1c7f4b5d2f3694   \n",
       "1  0xfee6b5d6fd92e64248e5af14023a19bf0cbaa04a   \n",
       "2  0x077f6c80a1c43a63db6892b85bed5205c0afbc4f   \n",
       "3  0x5473b5210b996ac3809996e9e9dd4d716d3df08c   \n",
       "4  0xe99ce54c794408f6c162f9dc4e7fedc4ab3a04f2   \n",
       "\n",
       "                                 itemID           timestamp  rating  \n",
       "0  32d8d279-eb34-5718-9081-4deb1b662a37 2021-12-07 17:59:03       1  \n",
       "1  32d8d279-eb34-5718-9081-4deb1b662a37 2021-12-07 17:56:45       1  \n",
       "2  32d8d279-eb34-5718-9081-4deb1b662a37 2021-12-07 17:27:49       1  \n",
       "3  32d8d279-eb34-5718-9081-4deb1b662a37 2021-12-07 17:22:02       1  \n",
       "4  32d8d279-eb34-5718-9081-4deb1b662a37 2021-12-07 13:59:15       1  "
      ]
     },
     "execution_count": 6,
     "metadata": {},
     "output_type": "execute_result"
    }
   ],
   "source": [
    "def to_microsoft(dfv):\n",
    "    df = dfv[['voter', 'proposal', 'date']].rename(columns={\n",
    "        'voter': 'userID',\n",
    "        'proposal': 'itemID',\n",
    "        'date': 'timestamp',\n",
    "    })\n",
    "    df['itemID'] = df['itemID'].astype('str')\n",
    "    df['rating'] = 1\n",
    "    return df\n",
    "\n",
    "df = to_microsoft(dfv)\n",
    "df.head()"
   ]
  },
  {
   "cell_type": "markdown",
   "id": "8faab8dc-8192-47b5-96df-7458bd890ffb",
   "metadata": {
    "papermill": {
     "duration": 0.002663,
     "end_time": "2024-03-23T15:52:38.372143",
     "exception": false,
     "start_time": "2024-03-23T15:52:38.369480",
     "status": "completed"
    },
    "tags": []
   },
   "source": [
    "# Split data\n",
    "\n",
    "Each proposal remains open for a few days, our environment is different of a movies recommender system. For this reason, we will use a TimeSeriesSplit instead of a K-Fold to cross-validate the model.\n",
    "\n",
    "![](https://scikit-learn.org/stable/_images/sphx_glr_plot_cv_indices_013.png)\n",
    "\n",
    "El TimeSeriesSplit de scikit-learn no nos vale porque el número de elementos en cada split es el mismo, pero el tamaño del intervalo, no. Como queremos simular un comportamiento realista, haremos el split dividiendo por intervalos de igual longitud."
   ]
  },
  {
   "cell_type": "code",
   "execution_count": 7,
   "id": "3f661ac7-df23-49ad-9671-cfa65d4b44d6",
   "metadata": {
    "execution": {
     "iopub.execute_input": "2024-03-23T15:52:38.377506Z",
     "iopub.status.busy": "2024-03-23T15:52:38.377368Z",
     "iopub.status.idle": "2024-03-23T15:52:38.570382Z",
     "shell.execute_reply": "2024-03-23T15:52:38.570006Z"
    },
    "papermill": {
     "duration": 0.197045,
     "end_time": "2024-03-23T15:52:38.571535",
     "exception": false,
     "start_time": "2024-03-23T15:52:38.374490",
     "status": "completed"
    },
    "tags": []
   },
   "outputs": [],
   "source": [
    "from recommenders.evaluation.python_evaluation import metrics as metrics_dict"
   ]
  },
  {
   "cell_type": "code",
   "execution_count": 8,
   "id": "445d9909-609a-4cf3-8e24-6fa36946a375",
   "metadata": {
    "editable": true,
    "execution": {
     "iopub.execute_input": "2024-03-23T15:52:38.578091Z",
     "iopub.status.busy": "2024-03-23T15:52:38.577924Z",
     "iopub.status.idle": "2024-03-23T15:53:33.446057Z",
     "shell.execute_reply": "2024-03-23T15:53:33.445703Z"
    },
    "papermill": {
     "duration": 54.872404,
     "end_time": "2024-03-23T15:53:33.446932",
     "exception": false,
     "start_time": "2024-03-23T15:52:38.574528",
     "status": "completed"
    },
    "slideshow": {
     "slide_type": ""
    },
    "tags": []
   },
   "outputs": [
    {
     "name": "stdout",
     "output_type": "stream",
     "text": [
      "Split 0, train from: 2021-06-28 to 2023-05-30, test from: 2023-05-31 to 2023-06-30\n",
      "  t: 2023-05-31 00:00:00\n",
      "  len(train): 516030, len(test): 1374\n",
      "  users(train): 127525, users(test): 489\n",
      "\n"
     ]
    },
    {
     "name": "stdout",
     "output_type": "stream",
     "text": [
      "  highest possible recall@5:\t0.9336\n"
     ]
    },
    {
     "name": "stdout",
     "output_type": "stream",
     "text": [
      "  highest possible ndcg@5:\t1.0000\n"
     ]
    },
    {
     "name": "stdout",
     "output_type": "stream",
     "text": [
      "  highest possible precision@5:\t0.3849\n"
     ]
    },
    {
     "name": "stdout",
     "output_type": "stream",
     "text": [
      "  highest possible map@5:\t0.9336\n",
      "------------------------------\n",
      "Split 1, train from: 2021-06-28 to 2023-06-02, test from: 2023-06-03 to 2023-06-30\n",
      "  t: 2023-06-03 00:00:00\n",
      "  len(train): 518406, len(test): 859\n",
      "  users(train): 127778, users(test): 314\n",
      "\n"
     ]
    },
    {
     "name": "stdout",
     "output_type": "stream",
     "text": [
      "  highest possible recall@5:\t0.9429\n"
     ]
    },
    {
     "name": "stdout",
     "output_type": "stream",
     "text": [
      "  highest possible ndcg@5:\t1.0000\n"
     ]
    },
    {
     "name": "stdout",
     "output_type": "stream",
     "text": [
      "  highest possible precision@5:\t0.3790\n"
     ]
    },
    {
     "name": "stdout",
     "output_type": "stream",
     "text": [
      "  highest possible map@5:\t0.9429\n",
      "------------------------------\n",
      "Split 2, train from: 2021-06-28 to 2023-06-05, test from: 2023-06-06 to 2023-06-30\n",
      "  t: 2023-06-06 00:00:00\n",
      "  len(train): 519004, len(test): 664\n",
      "  users(train): 127829, users(test): 276\n",
      "\n"
     ]
    },
    {
     "name": "stdout",
     "output_type": "stream",
     "text": [
      "  highest possible recall@5:\t0.9535\n"
     ]
    },
    {
     "name": "stdout",
     "output_type": "stream",
     "text": [
      "  highest possible ndcg@5:\t1.0000\n"
     ]
    },
    {
     "name": "stdout",
     "output_type": "stream",
     "text": [
      "  highest possible precision@5:\t0.3696\n"
     ]
    },
    {
     "name": "stdout",
     "output_type": "stream",
     "text": [
      "  highest possible map@5:\t0.9535\n",
      "------------------------------\n",
      "Split 3, train from: 2021-06-28 to 2023-06-08, test from: 2023-06-09 to 2023-06-30\n",
      "  t: 2023-06-09 00:00:00\n",
      "  len(train): 519741, len(test): 508\n",
      "  users(train): 127871, users(test): 241\n",
      "\n"
     ]
    },
    {
     "name": "stdout",
     "output_type": "stream",
     "text": [
      "  highest possible recall@5:\t0.9687\n"
     ]
    },
    {
     "name": "stdout",
     "output_type": "stream",
     "text": [
      "  highest possible ndcg@5:\t1.0000\n"
     ]
    },
    {
     "name": "stdout",
     "output_type": "stream",
     "text": [
      "  highest possible precision@5:\t0.3278\n"
     ]
    },
    {
     "name": "stdout",
     "output_type": "stream",
     "text": [
      "  highest possible map@5:\t0.9687\n",
      "------------------------------\n",
      "Split 4, train from: 2021-06-28 to 2023-06-11, test from: 2023-06-12 to 2023-06-30\n",
      "  t: 2023-06-12 00:00:00\n",
      "  len(train): 521180, len(test): 436\n",
      "  users(train): 128041, users(test): 214\n",
      "\n"
     ]
    },
    {
     "name": "stdout",
     "output_type": "stream",
     "text": [
      "  highest possible recall@5:\t0.9731\n"
     ]
    },
    {
     "name": "stdout",
     "output_type": "stream",
     "text": [
      "  highest possible ndcg@5:\t1.0000\n",
      "  highest possible precision@5:\t0.3430\n"
     ]
    },
    {
     "name": "stdout",
     "output_type": "stream",
     "text": [
      "  highest possible map@5:\t0.9731\n",
      "------------------------------\n",
      "Split 5, train from: 2021-06-28 to 2023-06-14, test from: 2023-06-15 to 2023-06-30\n",
      "  t: 2023-06-15 00:00:00\n",
      "  len(train): 522447, len(test): 593\n",
      "  users(train): 128207, users(test): 280\n",
      "\n"
     ]
    },
    {
     "name": "stdout",
     "output_type": "stream",
     "text": [
      "  highest possible recall@5:\t0.9734\n"
     ]
    },
    {
     "name": "stdout",
     "output_type": "stream",
     "text": [
      "  highest possible ndcg@5:\t1.0000\n"
     ]
    },
    {
     "name": "stdout",
     "output_type": "stream",
     "text": [
      "  highest possible precision@5:\t0.2986\n"
     ]
    },
    {
     "name": "stdout",
     "output_type": "stream",
     "text": [
      "  highest possible map@5:\t0.9734\n",
      "------------------------------\n",
      "Split 6, train from: 2021-06-28 to 2023-06-17, test from: 2023-06-18 to 2023-06-30\n",
      "  t: 2023-06-18 00:00:00\n",
      "  len(train): 524648, len(test): 303\n",
      "  users(train): 128613, users(test): 126\n",
      "\n"
     ]
    },
    {
     "name": "stdout",
     "output_type": "stream",
     "text": [
      "  highest possible recall@5:\t0.9656\n"
     ]
    },
    {
     "name": "stdout",
     "output_type": "stream",
     "text": [
      "  highest possible ndcg@5:\t1.0000\n",
      "  highest possible precision@5:\t0.3683\n"
     ]
    },
    {
     "name": "stdout",
     "output_type": "stream",
     "text": [
      "  highest possible map@5:\t0.9656\n",
      "------------------------------\n",
      "Split 7, train from: 2021-06-28 to 2023-06-20, test from: 2023-06-21 to 2023-06-30\n",
      "  t: 2023-06-21 00:00:00\n",
      "  len(train): 525836, len(test): 490\n",
      "  users(train): 128865, users(test): 151\n",
      "\n"
     ]
    },
    {
     "name": "stdout",
     "output_type": "stream",
     "text": [
      "  highest possible recall@5:\t0.9273\n"
     ]
    },
    {
     "name": "stdout",
     "output_type": "stream",
     "text": [
      "  highest possible ndcg@5:\t1.0000\n",
      "  highest possible precision@5:\t0.4609\n"
     ]
    },
    {
     "name": "stdout",
     "output_type": "stream",
     "text": [
      "  highest possible map@5:\t0.9273\n",
      "------------------------------\n",
      "Split 8, train from: 2021-06-28 to 2023-06-23, test from: 2023-06-24 to 2023-06-30\n",
      "  t: 2023-06-24 00:00:00\n",
      "  len(train): 527714, len(test): 641\n",
      "  users(train): 129049, users(test): 293\n",
      "\n"
     ]
    },
    {
     "name": "stdout",
     "output_type": "stream",
     "text": [
      "  highest possible recall@5:\t0.9769\n"
     ]
    },
    {
     "name": "stdout",
     "output_type": "stream",
     "text": [
      "  highest possible ndcg@5:\t1.0000\n"
     ]
    },
    {
     "name": "stdout",
     "output_type": "stream",
     "text": [
      "  highest possible precision@5:\t0.3720\n"
     ]
    },
    {
     "name": "stdout",
     "output_type": "stream",
     "text": [
      "  highest possible map@5:\t0.9769\n",
      "------------------------------\n",
      "Split 9, train from: 2021-06-28 to 2023-06-26, test from: 2023-06-27 to 2023-06-30\n",
      "  t: 2023-06-27 00:00:00\n",
      "  len(train): 528366, len(test): 165\n",
      "  users(train): 129119, users(test): 62\n",
      "\n"
     ]
    },
    {
     "name": "stdout",
     "output_type": "stream",
     "text": [
      "  highest possible recall@5:\t0.9513\n"
     ]
    },
    {
     "name": "stdout",
     "output_type": "stream",
     "text": [
      "  highest possible ndcg@5:\t1.0000\n"
     ]
    },
    {
     "name": "stdout",
     "output_type": "stream",
     "text": [
      "  highest possible precision@5:\t0.3774\n"
     ]
    },
    {
     "name": "stdout",
     "output_type": "stream",
     "text": [
      "  highest possible map@5:\t0.9513\n",
      "------------------------------\n"
     ]
    }
   ],
   "source": [
    "from src.model_selection import timeFreqSplitCurrent, timeIntervalSplitCurrent\n",
    "\n",
    "# max_train_prev = df['timestamp'].min().date()\n",
    "# N_SPLITS = 10; SKIP_SPLIT = 0\n",
    "# folds = list(timeIntervalSplitCurrent(df, N_SPLITS, dfp, skip=SKIP_SPLIT, remove_not_in_train_col='userID', return_open=True))\n",
    "folds = list(timeFreqSplitCurrent(df, SPLITS_FREQ, dfp, return_open=True, remove_not_in_train_col='userID'))[-LAST_SPLITS:]\n",
    "for i, (dftrain, dftest, t, open_proposals) in enumerate(folds):\n",
    "    min_train = dftrain['timestamp'].min().date()\n",
    "    max_train = dftrain['timestamp'].max().date()\n",
    "    min_test  = dftest['timestamp'].min().date()\n",
    "    max_test  = dftest['timestamp'].max().date()\n",
    "\n",
    "    train_users = len(set(dftrain['userID']))\n",
    "    test_users = len(set(dftest['userID']))\n",
    "    \n",
    "    print(f\"Split {i}, train from: {min_train} to {max_train}, test from: {min_test} to {max_test}\")\n",
    "    print(f\"  t: {t}\")\n",
    "    print(f\"  len(train): {len(dftrain)}, len(test): {len(dftest)}\")\n",
    "    print(f\"  users(train): {train_users}, users(test): {test_users}\")\n",
    "\n",
    "    print()\n",
    "    dftest['prediction'] = 1\n",
    "    for m in METRICS:\n",
    "        f = metrics_dict[f'{m}_at_k']\n",
    "        print(f\"  highest possible {m}@{TOP_K[0]}:\\t{f(dftest, dftest, k=TOP_K[0], relevancy_method='top_k'):.4f}\")\n",
    "\n",
    "    print(\"-\"*30)"
   ]
  },
  {
   "cell_type": "markdown",
   "id": "5c881c43-d308-40ff-b6b4-d54458e1bc32",
   "metadata": {
    "papermill": {
     "duration": 0.003707,
     "end_time": "2024-03-23T15:53:33.454442",
     "exception": false,
     "start_time": "2024-03-23T15:53:33.450735",
     "status": "completed"
    },
    "tags": []
   },
   "source": [
    "# Defining training"
   ]
  },
  {
   "cell_type": "code",
   "execution_count": 9,
   "id": "9a502e2d-3398-405f-9029-d3abc69033dc",
   "metadata": {
    "execution": {
     "iopub.execute_input": "2024-03-23T15:53:33.461669Z",
     "iopub.status.busy": "2024-03-23T15:53:33.461541Z",
     "iopub.status.idle": "2024-03-23T15:53:33.632821Z",
     "shell.execute_reply": "2024-03-23T15:53:33.632350Z"
    },
    "papermill": {
     "duration": 0.176258,
     "end_time": "2024-03-23T15:53:33.633954",
     "exception": false,
     "start_time": "2024-03-23T15:53:33.457696",
     "status": "completed"
    },
    "tags": []
   },
   "outputs": [],
   "source": [
    "# from recommenders.models.deeprec.models.graphrec.lightgcn import LightGCN\n",
    "from src.models import LightGCNCustom\n",
    "from recommenders.utils.python_utils import get_top_k_scored_items"
   ]
  },
  {
   "cell_type": "markdown",
   "id": "923adb82-9733-4e21-a378-7263c5532353",
   "metadata": {
    "papermill": {
     "duration": 0.003672,
     "end_time": "2024-03-23T15:53:33.641451",
     "exception": false,
     "start_time": "2024-03-23T15:53:33.637779",
     "status": "completed"
    },
    "tags": []
   },
   "source": [
    "## Small test of `LightGCNCustom`"
   ]
  },
  {
   "cell_type": "code",
   "execution_count": 10,
   "id": "41d1cf90-bd11-4a87-b0aa-bf0e25d559af",
   "metadata": {
    "execution": {
     "iopub.execute_input": "2024-03-23T15:53:33.649172Z",
     "iopub.status.busy": "2024-03-23T15:53:33.648858Z",
     "iopub.status.idle": "2024-03-23T15:53:33.675596Z",
     "shell.execute_reply": "2024-03-23T15:53:33.675267Z"
    },
    "papermill": {
     "duration": 0.031597,
     "end_time": "2024-03-23T15:53:33.676443",
     "exception": false,
     "start_time": "2024-03-23T15:53:33.644846",
     "status": "completed"
    },
    "tags": []
   },
   "outputs": [],
   "source": [
    "from recommenders.models.deeprec.DataModel.ImplicitCF import ImplicitCF\n",
    "from recommenders.models.deeprec.deeprec_utils import prepare_hparams"
   ]
  },
  {
   "cell_type": "code",
   "execution_count": 11,
   "id": "0e57c58e-3091-4357-969a-c7bafedd29c1",
   "metadata": {
    "execution": {
     "iopub.execute_input": "2024-03-23T15:53:33.683719Z",
     "iopub.status.busy": "2024-03-23T15:53:33.683591Z",
     "iopub.status.idle": "2024-03-23T15:53:44.340313Z",
     "shell.execute_reply": "2024-03-23T15:53:44.339680Z"
    },
    "papermill": {
     "duration": 10.66178,
     "end_time": "2024-03-23T15:53:44.341531",
     "exception": false,
     "start_time": "2024-03-23T15:53:33.679751",
     "status": "completed"
    },
    "tags": []
   },
   "outputs": [
    {
     "name": "stdout",
     "output_type": "stream",
     "text": [
      "items: 2681 user: 129119\n"
     ]
    },
    {
     "name": "stdout",
     "output_type": "stream",
     "text": [
      "Already create adjacency matrix.\n"
     ]
    },
    {
     "name": "stdout",
     "output_type": "stream",
     "text": [
      "Already normalize adjacency matrix.\n",
      "Using xavier initialization.\n"
     ]
    }
   ],
   "source": [
    "hparams = prepare_hparams(\n",
    "    model_type='lightgcn',\n",
    "    n_layers=3,\n",
    "    batch_size=512,\n",
    "    embed_size=64,\n",
    "    epochs=2,\n",
    "    learning_rate=0.001,\n",
    "    decay=0.001,\n",
    "    metrics=[\"recall\", \"ndcg\", \"precision\", \"map\"],\n",
    "    eval_epoch=2,\n",
    "    top_k=TOP_K[0],\n",
    "    save_model=False,\n",
    "    MODEL_DIR='./data/model/lightgcn/',\n",
    ")\n",
    "dataloader = ImplicitCF(train=folds[-1][0], test=folds[-1][1], seed=SEED)\n",
    "print(\"items:\", dataloader.n_items, \"user:\", dataloader.n_users)\n",
    "model = LightGCNCustom(data=dataloader, hparams=hparams)"
   ]
  },
  {
   "cell_type": "code",
   "execution_count": 12,
   "id": "3fe49e83-f291-4383-97c2-167a706ae717",
   "metadata": {
    "execution": {
     "iopub.execute_input": "2024-03-23T15:53:44.349851Z",
     "iopub.status.busy": "2024-03-23T15:53:44.349699Z",
     "iopub.status.idle": "2024-03-23T15:54:07.464147Z",
     "shell.execute_reply": "2024-03-23T15:54:07.463468Z"
    },
    "papermill": {
     "duration": 23.11977,
     "end_time": "2024-03-23T15:54:07.465232",
     "exception": false,
     "start_time": "2024-03-23T15:53:44.345462",
     "status": "completed"
    },
    "tags": []
   },
   "outputs": [
    {
     "name": "stdout",
     "output_type": "stream",
     "text": [
      "Epoch 1 (train)11.3s: train loss = 0.14188 = (mf)0.13953 + (embed)0.00234\n"
     ]
    },
    {
     "name": "stdout",
     "output_type": "stream",
     "text": [
      "Epoch 2 (train)11.1s + (eval)0.7s: train loss = 0.05433 = (mf)0.05063 + (embed)0.00370, recall = 0.06452, ndcg = 0.03073, precision = 0.01613, map = 0.01774\n"
     ]
    }
   ],
   "source": [
    "model.fit()"
   ]
  },
  {
   "cell_type": "code",
   "execution_count": 13,
   "id": "a12ab695-94f8-431e-8a7f-03bf17f2fa1e",
   "metadata": {
    "execution": {
     "iopub.execute_input": "2024-03-23T15:54:07.474153Z",
     "iopub.status.busy": "2024-03-23T15:54:07.473947Z",
     "iopub.status.idle": "2024-03-23T15:54:07.557262Z",
     "shell.execute_reply": "2024-03-23T15:54:07.556704Z"
    },
    "papermill": {
     "duration": 0.088912,
     "end_time": "2024-03-23T15:54:07.558285",
     "exception": false,
     "start_time": "2024-03-23T15:54:07.469373",
     "status": "completed"
    },
    "tags": []
   },
   "outputs": [
    {
     "data": {
      "text/plain": [
       "[0.06451612903225806,\n",
       " 0.030727813311271154,\n",
       " 0.016129032258064516,\n",
       " 0.017741935483870968]"
      ]
     },
     "execution_count": 13,
     "metadata": {},
     "output_type": "execute_result"
    }
   ],
   "source": [
    "model.run_eval()"
   ]
  },
  {
   "cell_type": "code",
   "execution_count": 14,
   "id": "2b131c2d-6df2-4292-8f12-caaf409562ab",
   "metadata": {
    "execution": {
     "iopub.execute_input": "2024-03-23T15:54:07.566326Z",
     "iopub.status.busy": "2024-03-23T15:54:07.566199Z",
     "iopub.status.idle": "2024-03-23T15:54:07.635752Z",
     "shell.execute_reply": "2024-03-23T15:54:07.635214Z"
    },
    "papermill": {
     "duration": 0.074579,
     "end_time": "2024-03-23T15:54:07.636672",
     "exception": false,
     "start_time": "2024-03-23T15:54:07.562093",
     "status": "completed"
    },
    "tags": []
   },
   "outputs": [
    {
     "data": {
      "text/html": [
       "<div>\n",
       "<style scoped>\n",
       "    .dataframe tbody tr th:only-of-type {\n",
       "        vertical-align: middle;\n",
       "    }\n",
       "\n",
       "    .dataframe tbody tr th {\n",
       "        vertical-align: top;\n",
       "    }\n",
       "\n",
       "    .dataframe thead th {\n",
       "        text-align: right;\n",
       "    }\n",
       "</style>\n",
       "<table border=\"1\" class=\"dataframe\">\n",
       "  <thead>\n",
       "    <tr style=\"text-align: right;\">\n",
       "      <th></th>\n",
       "      <th>userID</th>\n",
       "      <th>itemID</th>\n",
       "      <th>prediction</th>\n",
       "    </tr>\n",
       "  </thead>\n",
       "  <tbody>\n",
       "    <tr>\n",
       "      <th>0</th>\n",
       "      <td>26400</td>\n",
       "      <td>2429</td>\n",
       "      <td>3.307156</td>\n",
       "    </tr>\n",
       "    <tr>\n",
       "      <th>1</th>\n",
       "      <td>26400</td>\n",
       "      <td>2365</td>\n",
       "      <td>3.305812</td>\n",
       "    </tr>\n",
       "    <tr>\n",
       "      <th>2</th>\n",
       "      <td>26400</td>\n",
       "      <td>2034</td>\n",
       "      <td>3.080488</td>\n",
       "    </tr>\n",
       "    <tr>\n",
       "      <th>3</th>\n",
       "      <td>44669</td>\n",
       "      <td>2034</td>\n",
       "      <td>1.553040</td>\n",
       "    </tr>\n",
       "    <tr>\n",
       "      <th>4</th>\n",
       "      <td>44669</td>\n",
       "      <td>1965</td>\n",
       "      <td>1.155707</td>\n",
       "    </tr>\n",
       "    <tr>\n",
       "      <th>...</th>\n",
       "      <td>...</td>\n",
       "      <td>...</td>\n",
       "      <td>...</td>\n",
       "    </tr>\n",
       "    <tr>\n",
       "      <th>181</th>\n",
       "      <td>8840</td>\n",
       "      <td>1965</td>\n",
       "      <td>0.467667</td>\n",
       "    </tr>\n",
       "    <tr>\n",
       "      <th>182</th>\n",
       "      <td>8840</td>\n",
       "      <td>2034</td>\n",
       "      <td>-0.286004</td>\n",
       "    </tr>\n",
       "    <tr>\n",
       "      <th>183</th>\n",
       "      <td>5669</td>\n",
       "      <td>2034</td>\n",
       "      <td>0.347860</td>\n",
       "    </tr>\n",
       "    <tr>\n",
       "      <th>184</th>\n",
       "      <td>5669</td>\n",
       "      <td>105</td>\n",
       "      <td>0.229598</td>\n",
       "    </tr>\n",
       "    <tr>\n",
       "      <th>185</th>\n",
       "      <td>5669</td>\n",
       "      <td>1732</td>\n",
       "      <td>0.219009</td>\n",
       "    </tr>\n",
       "  </tbody>\n",
       "</table>\n",
       "<p>186 rows × 3 columns</p>\n",
       "</div>"
      ],
      "text/plain": [
       "     userID  itemID  prediction\n",
       "0     26400    2429    3.307156\n",
       "1     26400    2365    3.305812\n",
       "2     26400    2034    3.080488\n",
       "3     44669    2034    1.553040\n",
       "4     44669    1965    1.155707\n",
       "..      ...     ...         ...\n",
       "181    8840    1965    0.467667\n",
       "182    8840    2034   -0.286004\n",
       "183    5669    2034    0.347860\n",
       "184    5669     105    0.229598\n",
       "185    5669    1732    0.219009\n",
       "\n",
       "[186 rows x 3 columns]"
      ]
     },
     "execution_count": 14,
     "metadata": {},
     "output_type": "execute_result"
    }
   ],
   "source": [
    "model.recommend_k_items(\n",
    "    dataloader.test, \n",
    "    top_k=3, \n",
    "    use_id=True, \n",
    "    remove_seen=True, \n",
    "    recommend_from=folds[-1][3]\n",
    ")"
   ]
  },
  {
   "cell_type": "code",
   "execution_count": 15,
   "id": "ef766f48-b9b1-4ec6-b2ba-9c3d5b54d40b",
   "metadata": {
    "execution": {
     "iopub.execute_input": "2024-03-23T15:54:07.645147Z",
     "iopub.status.busy": "2024-03-23T15:54:07.644979Z",
     "iopub.status.idle": "2024-03-23T15:54:07.670494Z",
     "shell.execute_reply": "2024-03-23T15:54:07.670124Z"
    },
    "papermill": {
     "duration": 0.030576,
     "end_time": "2024-03-23T15:54:07.671356",
     "exception": false,
     "start_time": "2024-03-23T15:54:07.640780",
     "status": "completed"
    },
    "tags": []
   },
   "outputs": [],
   "source": [
    "# problem_prop = 'b926a2eb-e2c7-5d0d-bbec-015efe30edde'\n",
    "\n",
    "# tr, te, t, open_proposals = folds[-1]\n",
    "# print(\"t:\", t)\n",
    "# print(\"In open?: \", problem_prop in set(open_proposals))\n",
    "# print(\"In Train?:\", any(tr['itemID'] == problem_prop))\n",
    "# print(\"In Test?: \", any(te['itemID'] == problem_prop))\n",
    "# print(\"In dfv?:  \", in_dfv := any(dfv['proposal'] == problem_prop))\n",
    "# if in_dfv:\n",
    "#     display(dfv[dfv['proposal'] == problem_prop])\n",
    "\n",
    "# dfp.set_index('id').loc[problem_prop]"
   ]
  },
  {
   "cell_type": "code",
   "execution_count": 16,
   "id": "799a41c8-6c27-40c7-af22-0f9eb46f8a59",
   "metadata": {
    "execution": {
     "iopub.execute_input": "2024-03-23T15:54:07.679054Z",
     "iopub.status.busy": "2024-03-23T15:54:07.678950Z",
     "iopub.status.idle": "2024-03-23T15:54:07.738725Z",
     "shell.execute_reply": "2024-03-23T15:54:07.738135Z"
    },
    "papermill": {
     "duration": 0.06497,
     "end_time": "2024-03-23T15:54:07.739921",
     "exception": false,
     "start_time": "2024-03-23T15:54:07.674951",
     "status": "completed"
    },
    "tags": []
   },
   "outputs": [],
   "source": [
    "# Free the resources\n",
    "del model\n",
    "del dataloader"
   ]
  },
  {
   "cell_type": "markdown",
   "id": "d994a5dd-efe5-47bf-a8a1-803316d9fc75",
   "metadata": {
    "papermill": {
     "duration": 0.003909,
     "end_time": "2024-03-23T15:54:07.747911",
     "exception": false,
     "start_time": "2024-03-23T15:54:07.744002",
     "status": "completed"
    },
    "tags": []
   },
   "source": [
    "# Defining trainer"
   ]
  },
  {
   "cell_type": "code",
   "execution_count": 17,
   "id": "a5d010bf-3a9c-4931-9d02-6589b3164438",
   "metadata": {
    "execution": {
     "iopub.execute_input": "2024-03-23T15:54:07.756081Z",
     "iopub.status.busy": "2024-03-23T15:54:07.755892Z",
     "iopub.status.idle": "2024-03-23T15:54:07.785864Z",
     "shell.execute_reply": "2024-03-23T15:54:07.785534Z"
    },
    "papermill": {
     "duration": 0.035084,
     "end_time": "2024-03-23T15:54:07.786711",
     "exception": false,
     "start_time": "2024-03-23T15:54:07.751627",
     "status": "completed"
    },
    "scrolled": true,
    "tags": []
   },
   "outputs": [],
   "source": [
    "from recommenders.evaluation.python_evaluation import map_at_k, ndcg_at_k, precision_at_k, recall_at_k\n",
    "\n",
    "class TrainLightGCN(tune.Trainable):\n",
    "    def setup(\n",
    "        self,\n",
    "        config: Dict[str, Any],\n",
    "        data,\n",
    "    ):\n",
    "        self.config = config\n",
    "\n",
    "        self.hparams = prepare_hparams(\n",
    "            model_type='lightgcn',\n",
    "            n_layers=config['conv_layers'],\n",
    "            batch_size=2**config['batch_size'],\n",
    "            embed_size=config['embedding_dim'],\n",
    "            epochs=EPOCHS_PER_ITER,\n",
    "            learning_rate=config['learning_rate'],\n",
    "            decay=config['l2'],\n",
    "            metrics=METRICS,\n",
    "            eval_epoch=-1,\n",
    "            top_k=TOP_K[0],\n",
    "            save_model=False,\n",
    "            MODEL_DIR='./data/model/lightgcn/',\n",
    "        )\n",
    "\n",
    "        train, test, self.t, self.open_proposals = data\n",
    "        self.dataloader = ImplicitCF(train=train, test=test, seed=SEED)\n",
    "        self.model = LightGCNCustom(self.hparams, self.dataloader, seed=SEED)\n",
    "        self.total_train = 0\n",
    "        self.total_eval = 0\n",
    "\n",
    "    @property\n",
    "    def iteration(self):\n",
    "        return self.model.epochs_done\n",
    "\n",
    "    @property\n",
    "    def training_iteration(self):\n",
    "        return self.model.epochs_done\n",
    "\n",
    "    def step(self):\n",
    "        \"\"\"\n",
    "        As a rule of thumb, the execution time of step should be large enough to avoid overheads \n",
    "        (i.e. more than a few seconds), but short enough to report progress periodically \n",
    "        (i.e. at most a few minutes).\n",
    "        \"\"\"\n",
    "        assert EPOCHS_PER_ITER > 0\n",
    "\n",
    "        train_start = time.time()\n",
    "        for _ in range(EPOCHS_PER_ITER):\n",
    "            ret = self.model.fit_epoch()\n",
    "        eval_start = train_end = time.time()\n",
    "\n",
    "        eval_dict = {'model_'+k:v for k,v in zip(self.model.metrics, self.model.run_eval())}\n",
    "        for k in TOP_K:\n",
    "            recs = self.model.recommend_k_items(\n",
    "                self.dataloader.test, \n",
    "                top_k=k,\n",
    "                use_id=True, \n",
    "                remove_seen=True, \n",
    "                recommend_from=self.open_proposals,\n",
    "            )\n",
    "            \n",
    "            eval_dict[f'precision@{k}'] = precision_at_k(self.dataloader.test, recs, k=k)\n",
    "            eval_dict[f'ndcg@{k}'] = ndcg_at_k(self.dataloader.test, recs, k=k)\n",
    "            eval_dict[f'recall@{k}'] = recall_at_k(self.dataloader.test, recs, k=k)\n",
    "            eval_dict[f'map@{k}'] = map_at_k(self.dataloader.test, recs, k=k)\n",
    "\n",
    "        eval_end = time.time()\n",
    "\n",
    "        self.total_train += train_end - train_start\n",
    "        self.total_eval += eval_end - eval_start\n",
    "        \n",
    "        return {\n",
    "            'iteration': self.iteration,\n",
    "            'loss': ret[0],\n",
    "            'mf_loss': ret[1],\n",
    "            'emb_loss': ret[2],\n",
    "            **eval_dict,\n",
    "            'time_train': train_end-train_start,\n",
    "            'time_test': eval_end-eval_start,\n",
    "            'time_total_train': self.total_train,\n",
    "            'time_total_test': self.total_eval,\n",
    "        }\n",
    "\n",
    "    def save_checkpoint(self, checkpoint_dir):\n",
    "        checkpoint_path = os.path.join(checkpoint_dir, \"model\")\n",
    "        self.model.saver.save(\n",
    "            sess=self.model.sess,\n",
    "            save_path=checkpoint_path,\n",
    "        )\n",
    "        return checkpoint_dir\n",
    "\n",
    "    def load_checkpoint(self, checkpoint_path):\n",
    "        self.model.load(checkpoint_path)"
   ]
  },
  {
   "cell_type": "markdown",
   "id": "16276fe4-d63d-4e7a-bcc8-38d8f5be299c",
   "metadata": {
    "papermill": {
     "duration": 0.003669,
     "end_time": "2024-03-23T15:54:07.794026",
     "exception": false,
     "start_time": "2024-03-23T15:54:07.790357",
     "status": "completed"
    },
    "tags": []
   },
   "source": [
    "# Big experiment"
   ]
  },
  {
   "cell_type": "code",
   "execution_count": 18,
   "id": "427c4b72-593a-41ff-9fd6-991e8e3a0445",
   "metadata": {
    "execution": {
     "iopub.execute_input": "2024-03-23T15:54:07.801816Z",
     "iopub.status.busy": "2024-03-23T15:54:07.801652Z",
     "iopub.status.idle": "2024-03-23T15:54:07.825865Z",
     "shell.execute_reply": "2024-03-23T15:54:07.825630Z"
    },
    "papermill": {
     "duration": 0.029105,
     "end_time": "2024-03-23T15:54:07.826654",
     "exception": false,
     "start_time": "2024-03-23T15:54:07.797549",
     "status": "completed"
    },
    "tags": []
   },
   "outputs": [
    {
     "data": {
      "text/plain": [
       "PosixPath('/home/daviddavo/ray_results')"
      ]
     },
     "execution_count": 18,
     "metadata": {},
     "output_type": "execute_result"
    }
   ],
   "source": [
    "RAY_RESULTS_PATH"
   ]
  },
  {
   "cell_type": "code",
   "execution_count": 19,
   "id": "d3cc56a8-9add-4c1d-a15b-99593e11c686",
   "metadata": {
    "execution": {
     "iopub.execute_input": "2024-03-23T15:54:07.834708Z",
     "iopub.status.busy": "2024-03-23T15:54:07.834551Z",
     "iopub.status.idle": "2024-03-23T15:54:07.855840Z",
     "shell.execute_reply": "2024-03-23T15:54:07.855618Z"
    },
    "papermill": {
     "duration": 0.026288,
     "end_time": "2024-03-23T15:54:07.856629",
     "exception": false,
     "start_time": "2024-03-23T15:54:07.830341",
     "status": "completed"
    },
    "tags": []
   },
   "outputs": [],
   "source": [
    "MAX_EMBEDDING_DIM = 1024\n",
    "MAX_BATCH_SIZE = 10 # 2**10\n",
    "MIN_LR = 1e-4\n",
    "GPUS = 16\n",
    "\n",
    "if ORG_NAME in ['PancakeSwap', 'Aave - Aavegotchi']:\n",
    "    MAX_EMBEDDING_DIM = 256\n",
    "    MAX_BATCH_SIZE = 14\n",
    "    GPUS = 4\n",
    "    MIN_LR = 1e-2\n",
    "elif ORG_NAME in ['DEAD FoundationsDAO']:\n",
    "    GPUS = 20"
   ]
  },
  {
   "cell_type": "code",
   "execution_count": 20,
   "id": "019cecb8-4733-4947-9425-f7f9a690cd92",
   "metadata": {
    "execution": {
     "iopub.execute_input": "2024-03-23T15:54:07.865153Z",
     "iopub.status.busy": "2024-03-23T15:54:07.864997Z",
     "iopub.status.idle": "2024-03-23T15:54:07.886758Z",
     "shell.execute_reply": "2024-03-23T15:54:07.886524Z"
    },
    "papermill": {
     "duration": 0.026785,
     "end_time": "2024-03-23T15:54:07.887405",
     "exception": false,
     "start_time": "2024-03-23T15:54:07.860620",
     "status": "completed"
    },
    "tags": []
   },
   "outputs": [
    {
     "name": "stdout",
     "output_type": "stream",
     "text": [
      "lamarck\n",
      "{'cpu': 1, 'gpu': 0.25}\n"
     ]
    }
   ],
   "source": [
    "print(os.uname().nodename)\n",
    "\n",
    "### SET TRAINING RESOURCES\n",
    "if os.uname().nodename == 'lamarck':\n",
    "    # assert torch.cuda.is_available()\n",
    "\n",
    "    NUM_SAMPLES = SAMPLES_PER_SPLIT\n",
    "    # Every run takes approx half a gig of vram (no optimizations)\n",
    "    # The RTX 4090 has 24GB so we can run the model about 48 times\n",
    "    resources_per_trial={\n",
    "        'cpu': 1,\n",
    "        'gpu': 1 / GPUS,\n",
    "    }\n",
    "else:\n",
    "    NUM_SAMPLES = 1\n",
    "    resources_per_trial={\n",
    "        'cpu': 1,\n",
    "        # It takes about 1.5 GiB with full training data, but I put a bit more because\n",
    "        # this notebook also takes a bit of memory\n",
    "        'memory': 2e9,\n",
    "    }\n",
    "print(resources_per_trial)"
   ]
  },
  {
   "cell_type": "code",
   "execution_count": 21,
   "id": "a5ad6f33-effe-4f48-850e-8044af3a88dc",
   "metadata": {
    "editable": true,
    "execution": {
     "iopub.execute_input": "2024-03-23T15:54:07.895713Z",
     "iopub.status.busy": "2024-03-23T15:54:07.895585Z",
     "iopub.status.idle": "2024-03-23T15:54:07.966169Z",
     "shell.execute_reply": "2024-03-23T15:54:07.965807Z"
    },
    "papermill": {
     "duration": 0.075945,
     "end_time": "2024-03-23T15:54:07.967217",
     "exception": false,
     "start_time": "2024-03-23T15:54:07.891272",
     "status": "completed"
    },
    "slideshow": {
     "slide_type": ""
    },
    "tags": []
   },
   "outputs": [],
   "source": [
    "from ray.tune.search.hyperopt import HyperOptSearch\n",
    "import datetime as dt\n",
    "from src import paths\n",
    "\n",
    "def getTunerOnFold(f, points_to_evaluate = None):\n",
    "    name = f'LightGCN_optim={OPTIM_METRIC},dao={ORG_NAME},freq={SPLITS_FREQ},normalize={SPLITS_NORMALIZE},cutoff_date={CUTOFF_DATE.isoformat()},fold={f}'\n",
    "    paths = list(RAY_RESULTS_PATH.glob(f'{name}_*'))\n",
    "    last_experiment = max(paths, key=lambda x: x.stat().st_ctime) if paths else None\n",
    "\n",
    "    dftrain,dftest,t,open_proposals = folds[f]\n",
    "    param_space = dict(\n",
    "        fold=f,\n",
    "        batch_size=tune.randint(6, MAX_BATCH_SIZE), # 64 - 1024\n",
    "        embedding_dim=tune.lograndint(1, MAX_EMBEDDING_DIM, base=2),\n",
    "        conv_layers=tune.randint(1,6),\n",
    "        learning_rate=tune.qloguniform(MIN_LR, 1, 1e-4),\n",
    "        l2=tune.loguniform(1e-7, 1e-2, 1e-7),\n",
    "    )\n",
    "    \n",
    "    ### RESTORE EXPERIMENT OR CREATE A NEW ONE\n",
    "    if last_experiment and tune.Tuner.can_restore(last_experiment):\n",
    "        print(f\"Restoring last experiment: {last_experiment}\")\n",
    "        tuner = tune.Tuner.restore(\n",
    "            str(last_experiment),\n",
    "            trainable=tune.with_resources(\n",
    "                # tune.with_parameters(TrainLightGCN,  train=dftrain, test=dftest, open_proposals=open_proposals),\n",
    "                tune.with_parameters(TrainLightGCN, data=folds[f]),\n",
    "                resources_per_trial,\n",
    "            ),\n",
    "            restart_errored=True,\n",
    "            param_space=param_space,\n",
    "        )\n",
    "    else:\n",
    "        print(f\"No experiment found for fold {f}, creating new tuner with {NUM_SAMPLES} samples\")\n",
    "        search_alg = None\n",
    "        search_alg = HyperOptSearch(\n",
    "            # points_to_evaluate=[{\n",
    "            #     'batch_size': 8, # 2**8 = 256\n",
    "            #     'learning_rate': 10e-2,\n",
    "            #     'l2': 10e-6,\n",
    "            #     'embedding_dim': 100,\n",
    "            #     'conv_layers': 3,\n",
    "            # }],\n",
    "            points_to_evaluate = points_to_evaluate,\n",
    "            random_state_seed=SEED,\n",
    "        )\n",
    "        # search_alg = tune.search.Repeater(search_alg, N_SPLITS-SKIP_SPLIT)\n",
    "        \n",
    "        tuner = tune.Tuner(\n",
    "            tune.with_resources(\n",
    "                # tune.with_parameters(TrainLightGCN,  train=dftrain, test=dftest, open_proposals=open_proposals),\n",
    "                tune.with_parameters(TrainLightGCN, data=folds[f]),\n",
    "                resources_per_trial,\n",
    "            ),\n",
    "            run_config=train.RunConfig(\n",
    "                stop={'training_iteration': MAX_EPOCHS/EPOCHS_PER_ITER, 'time_total_train': 300},\n",
    "                name=name + f'_{dt.datetime.now().isoformat()}',\n",
    "                storage_path=RAY_RESULTS_PATH,\n",
    "                # failure_config=train.FailureConfig(fail_fast='raise'),\n",
    "                failure_config=train.FailureConfig(max_failures=3),\n",
    "            ),\n",
    "            param_space=param_space,\n",
    "            tune_config=tune.TuneConfig(\n",
    "                search_alg=search_alg,\n",
    "                num_samples=NUM_SAMPLES,\n",
    "                metric=OPTIM_METRIC,\n",
    "                mode='max',\n",
    "            )\n",
    "        )\n",
    "\n",
    "    return tuner"
   ]
  },
  {
   "cell_type": "code",
   "execution_count": 22,
   "id": "c968ecd5-d62c-4d57-846f-4bb7202a97c1",
   "metadata": {
    "execution": {
     "iopub.execute_input": "2024-03-23T15:54:07.975472Z",
     "iopub.status.busy": "2024-03-23T15:54:07.975304Z",
     "iopub.status.idle": "2024-03-24T04:18:14.824472Z",
     "shell.execute_reply": "2024-03-24T04:18:14.824139Z"
    },
    "papermill": {
     "duration": 44646.85442,
     "end_time": "2024-03-24T04:18:14.825457",
     "exception": false,
     "start_time": "2024-03-23T15:54:07.971037",
     "status": "completed"
    },
    "tags": []
   },
   "outputs": [
    {
     "data": {
      "text/html": [
       "<div class=\"tuneStatus\">\n",
       "  <div style=\"display: flex;flex-direction: row\">\n",
       "    <div style=\"display: flex;flex-direction: column;\">\n",
       "      <h3>Tune Status</h3>\n",
       "      <table>\n",
       "<tbody>\n",
       "<tr><td>Current time:</td><td>2024-03-24 04:18:14</td></tr>\n",
       "<tr><td>Running for: </td><td>02:21:14.85        </td></tr>\n",
       "<tr><td>Memory:      </td><td>13.5/125.6 GiB     </td></tr>\n",
       "</tbody>\n",
       "</table>\n",
       "    </div>\n",
       "    <div class=\"vDivider\"></div>\n",
       "    <div class=\"systemInfo\">\n",
       "      <h3>System Info</h3>\n",
       "      Using FIFO scheduling algorithm.<br>Logical resource usage: 1.0/24 CPUs, 0.25/1 GPUs (0.0/1.0 accelerator_type:G)\n",
       "    </div>\n",
       "    \n",
       "  </div>\n",
       "  <div class=\"hDivider\"></div>\n",
       "  <div class=\"trialStatus\">\n",
       "    <h3>Trial Status</h3>\n",
       "    <table>\n",
       "<thead>\n",
       "<tr><th>Trial name            </th><th>status    </th><th>loc                 </th><th style=\"text-align: right;\">  batch_size</th><th style=\"text-align: right;\">  conv_layers</th><th style=\"text-align: right;\">  embedding_dim</th><th style=\"text-align: right;\">  fold</th><th style=\"text-align: right;\">         l2</th><th style=\"text-align: right;\">  learning_rate</th><th style=\"text-align: right;\">  iter</th><th style=\"text-align: right;\">  total time (s)</th><th style=\"text-align: right;\">  iteration</th><th style=\"text-align: right;\">       loss</th><th style=\"text-align: right;\">    mf_loss</th></tr>\n",
       "</thead>\n",
       "<tbody>\n",
       "<tr><td>TrainLightGCN_d075a437</td><td>TERMINATED</td><td>147.96.81.131:411293</td><td style=\"text-align: right;\">          11</td><td style=\"text-align: right;\">            1</td><td style=\"text-align: right;\">              1</td><td style=\"text-align: right;\">     9</td><td style=\"text-align: right;\">2.83737e-06</td><td style=\"text-align: right;\">         0.0137</td><td style=\"text-align: right;\">    25</td><td style=\"text-align: right;\">         307.256</td><td style=\"text-align: right;\">        125</td><td style=\"text-align: right;\"> 0.181497  </td><td style=\"text-align: right;\"> 0.18125   </td></tr>\n",
       "<tr><td>TrainLightGCN_e8dc8935</td><td>TERMINATED</td><td>147.96.81.131:411460</td><td style=\"text-align: right;\">          10</td><td style=\"text-align: right;\">            5</td><td style=\"text-align: right;\">             15</td><td style=\"text-align: right;\">     9</td><td style=\"text-align: right;\">2.8606e-05 </td><td style=\"text-align: right;\">         0.4844</td><td style=\"text-align: right;\">    14</td><td style=\"text-align: right;\">         315.275</td><td style=\"text-align: right;\">         70</td><td style=\"text-align: right;\"> 3.52531   </td><td style=\"text-align: right;\"> 3.12124   </td></tr>\n",
       "<tr><td>TrainLightGCN_2c558dcb</td><td>TERMINATED</td><td>147.96.81.131:411655</td><td style=\"text-align: right;\">          12</td><td style=\"text-align: right;\">            3</td><td style=\"text-align: right;\">              3</td><td style=\"text-align: right;\">     9</td><td style=\"text-align: right;\">5.24282e-05</td><td style=\"text-align: right;\">         0.469 </td><td style=\"text-align: right;\">    32</td><td style=\"text-align: right;\">         313.35 </td><td style=\"text-align: right;\">        160</td><td style=\"text-align: right;\"> 0.770837  </td><td style=\"text-align: right;\"> 0.673262  </td></tr>\n",
       "<tr><td>TrainLightGCN_8e7cc0f5</td><td>TERMINATED</td><td>147.96.81.131:411849</td><td style=\"text-align: right;\">           9</td><td style=\"text-align: right;\">            4</td><td style=\"text-align: right;\">             97</td><td style=\"text-align: right;\">     9</td><td style=\"text-align: right;\">8.92312e-07</td><td style=\"text-align: right;\">         0.0806</td><td style=\"text-align: right;\">     4</td><td style=\"text-align: right;\">         323.093</td><td style=\"text-align: right;\">         20</td><td style=\"text-align: right;\"> 0.336644  </td><td style=\"text-align: right;\"> 0.32956   </td></tr>\n",
       "<tr><td>TrainLightGCN_b12508d8</td><td>TERMINATED</td><td>147.96.81.131:412849</td><td style=\"text-align: right;\">           7</td><td style=\"text-align: right;\">            3</td><td style=\"text-align: right;\">             74</td><td style=\"text-align: right;\">     9</td><td style=\"text-align: right;\">2.79193e-05</td><td style=\"text-align: right;\">         0.023 </td><td style=\"text-align: right;\">     2</td><td style=\"text-align: right;\">         576.382</td><td style=\"text-align: right;\">         10</td><td style=\"text-align: right;\"> 0.116144  </td><td style=\"text-align: right;\"> 0.10392   </td></tr>\n",
       "<tr><td>TrainLightGCN_dd0e8b3e</td><td>TERMINATED</td><td>147.96.81.131:413069</td><td style=\"text-align: right;\">           7</td><td style=\"text-align: right;\">            4</td><td style=\"text-align: right;\">              5</td><td style=\"text-align: right;\">     9</td><td style=\"text-align: right;\">0.00397996 </td><td style=\"text-align: right;\">         0.0618</td><td style=\"text-align: right;\">     2</td><td style=\"text-align: right;\">         423.279</td><td style=\"text-align: right;\">         10</td><td style=\"text-align: right;\"> 0.102397  </td><td style=\"text-align: right;\"> 0.0638946 </td></tr>\n",
       "<tr><td>TrainLightGCN_1f0195ca</td><td>TERMINATED</td><td>147.96.81.131:413248</td><td style=\"text-align: right;\">           7</td><td style=\"text-align: right;\">            3</td><td style=\"text-align: right;\">              3</td><td style=\"text-align: right;\">     9</td><td style=\"text-align: right;\">0.0011209  </td><td style=\"text-align: right;\">         0.0156</td><td style=\"text-align: right;\">     2</td><td style=\"text-align: right;\">         424.541</td><td style=\"text-align: right;\">         10</td><td style=\"text-align: right;\"> 0.0674072 </td><td style=\"text-align: right;\"> 0.0619681 </td></tr>\n",
       "<tr><td>TrainLightGCN_8f050947</td><td>TERMINATED</td><td>147.96.81.131:413491</td><td style=\"text-align: right;\">          11</td><td style=\"text-align: right;\">            4</td><td style=\"text-align: right;\">            123</td><td style=\"text-align: right;\">     9</td><td style=\"text-align: right;\">0.00406073 </td><td style=\"text-align: right;\">         0.0378</td><td style=\"text-align: right;\">     8</td><td style=\"text-align: right;\">         344.842</td><td style=\"text-align: right;\">         40</td><td style=\"text-align: right;\"> 0.0478448 </td><td style=\"text-align: right;\"> 0.0104633 </td></tr>\n",
       "<tr><td>TrainLightGCN_e7b8e4b0</td><td>TERMINATED</td><td>147.96.81.131:414713</td><td style=\"text-align: right;\">           7</td><td style=\"text-align: right;\">            1</td><td style=\"text-align: right;\">             71</td><td style=\"text-align: right;\">     9</td><td style=\"text-align: right;\">6.80694e-06</td><td style=\"text-align: right;\">         0.0922</td><td style=\"text-align: right;\">     2</td><td style=\"text-align: right;\">         322.623</td><td style=\"text-align: right;\">         10</td><td style=\"text-align: right;\"> 4.31493   </td><td style=\"text-align: right;\"> 4.23337   </td></tr>\n",
       "<tr><td>TrainLightGCN_f84ed4b5</td><td>TERMINATED</td><td>147.96.81.131:414984</td><td style=\"text-align: right;\">          12</td><td style=\"text-align: right;\">            4</td><td style=\"text-align: right;\">             44</td><td style=\"text-align: right;\">     9</td><td style=\"text-align: right;\">0.000527247</td><td style=\"text-align: right;\">         0.0118</td><td style=\"text-align: right;\">    24</td><td style=\"text-align: right;\">         314.489</td><td style=\"text-align: right;\">        120</td><td style=\"text-align: right;\"> 0.00736717</td><td style=\"text-align: right;\"> 0.00283463</td></tr>\n",
       "<tr><td>TrainLightGCN_d8638c6c</td><td>TERMINATED</td><td>147.96.81.131:415190</td><td style=\"text-align: right;\">           8</td><td style=\"text-align: right;\">            3</td><td style=\"text-align: right;\">              4</td><td style=\"text-align: right;\">     9</td><td style=\"text-align: right;\">0.00605521 </td><td style=\"text-align: right;\">         0.4493</td><td style=\"text-align: right;\">     5</td><td style=\"text-align: right;\">         350.693</td><td style=\"text-align: right;\">         25</td><td style=\"text-align: right;\"> 5.18617   </td><td style=\"text-align: right;\"> 4.26122   </td></tr>\n",
       "<tr><td>TrainLightGCN_9ed220d7</td><td>TERMINATED</td><td>147.96.81.131:415684</td><td style=\"text-align: right;\">           8</td><td style=\"text-align: right;\">            4</td><td style=\"text-align: right;\">             20</td><td style=\"text-align: right;\">     9</td><td style=\"text-align: right;\">0.000414829</td><td style=\"text-align: right;\">         0.035 </td><td style=\"text-align: right;\">     5</td><td style=\"text-align: right;\">         330.13 </td><td style=\"text-align: right;\">         25</td><td style=\"text-align: right;\"> 0.0519176 </td><td style=\"text-align: right;\"> 0.0351474 </td></tr>\n",
       "<tr><td>TrainLightGCN_309f84c8</td><td>TERMINATED</td><td>147.96.81.131:416333</td><td style=\"text-align: right;\">           8</td><td style=\"text-align: right;\">            4</td><td style=\"text-align: right;\">              4</td><td style=\"text-align: right;\">     9</td><td style=\"text-align: right;\">2.66572e-07</td><td style=\"text-align: right;\">         0.6904</td><td style=\"text-align: right;\">     6</td><td style=\"text-align: right;\">         331.229</td><td style=\"text-align: right;\">         30</td><td style=\"text-align: right;\">10.28      </td><td style=\"text-align: right;\">10.2742    </td></tr>\n",
       "<tr><td>TrainLightGCN_b0f44d26</td><td>TERMINATED</td><td>147.96.81.131:416585</td><td style=\"text-align: right;\">          11</td><td style=\"text-align: right;\">            4</td><td style=\"text-align: right;\">             36</td><td style=\"text-align: right;\">     9</td><td style=\"text-align: right;\">2.59656e-07</td><td style=\"text-align: right;\">         0.0206</td><td style=\"text-align: right;\">    24</td><td style=\"text-align: right;\">         312.89 </td><td style=\"text-align: right;\">        120</td><td style=\"text-align: right;\"> 0.00671315</td><td style=\"text-align: right;\"> 0.00663955</td></tr>\n",
       "<tr><td>TrainLightGCN_dec79c72</td><td>TERMINATED</td><td>147.96.81.131:416901</td><td style=\"text-align: right;\">          11</td><td style=\"text-align: right;\">            5</td><td style=\"text-align: right;\">             31</td><td style=\"text-align: right;\">     9</td><td style=\"text-align: right;\">1.39754e-06</td><td style=\"text-align: right;\">         0.0167</td><td style=\"text-align: right;\">    24</td><td style=\"text-align: right;\">         306.214</td><td style=\"text-align: right;\">        120</td><td style=\"text-align: right;\"> 0.00389422</td><td style=\"text-align: right;\"> 0.00366137</td></tr>\n",
       "<tr><td>TrainLightGCN_5c924b07</td><td>TERMINATED</td><td>147.96.81.131:417339</td><td style=\"text-align: right;\">          12</td><td style=\"text-align: right;\">            2</td><td style=\"text-align: right;\">              5</td><td style=\"text-align: right;\">     9</td><td style=\"text-align: right;\">0.00100612 </td><td style=\"text-align: right;\">         0.1417</td><td style=\"text-align: right;\">    40</td><td style=\"text-align: right;\">         314.25 </td><td style=\"text-align: right;\">        200</td><td style=\"text-align: right;\"> 0.150685  </td><td style=\"text-align: right;\"> 0.119249  </td></tr>\n",
       "<tr><td>TrainLightGCN_4149e1c9</td><td>TERMINATED</td><td>147.96.81.131:417987</td><td style=\"text-align: right;\">           9</td><td style=\"text-align: right;\">            4</td><td style=\"text-align: right;\">              7</td><td style=\"text-align: right;\">     9</td><td style=\"text-align: right;\">3.54222e-06</td><td style=\"text-align: right;\">         0.0324</td><td style=\"text-align: right;\">    12</td><td style=\"text-align: right;\">         337.914</td><td style=\"text-align: right;\">         60</td><td style=\"text-align: right;\"> 0.0305344 </td><td style=\"text-align: right;\"> 0.0301051 </td></tr>\n",
       "<tr><td>TrainLightGCN_43fb4811</td><td>TERMINATED</td><td>147.96.81.131:418163</td><td style=\"text-align: right;\">           8</td><td style=\"text-align: right;\">            3</td><td style=\"text-align: right;\">             16</td><td style=\"text-align: right;\">     9</td><td style=\"text-align: right;\">0.00138468 </td><td style=\"text-align: right;\">         0.6904</td><td style=\"text-align: right;\">     7</td><td style=\"text-align: right;\">         371.049</td><td style=\"text-align: right;\">         35</td><td style=\"text-align: right;\">21.7132    </td><td style=\"text-align: right;\">13.2677    </td></tr>\n",
       "<tr><td>TrainLightGCN_072de7de</td><td>TERMINATED</td><td>147.96.81.131:418479</td><td style=\"text-align: right;\">          12</td><td style=\"text-align: right;\">            4</td><td style=\"text-align: right;\">             22</td><td style=\"text-align: right;\">     9</td><td style=\"text-align: right;\">4.37236e-06</td><td style=\"text-align: right;\">         0.2762</td><td style=\"text-align: right;\">    31</td><td style=\"text-align: right;\">         317.366</td><td style=\"text-align: right;\">        155</td><td style=\"text-align: right;\"> 0.627479  </td><td style=\"text-align: right;\"> 0.580239  </td></tr>\n",
       "<tr><td>TrainLightGCN_4e24679b</td><td>TERMINATED</td><td>147.96.81.131:418934</td><td style=\"text-align: right;\">           9</td><td style=\"text-align: right;\">            2</td><td style=\"text-align: right;\">            105</td><td style=\"text-align: right;\">     9</td><td style=\"text-align: right;\">1.08811e-07</td><td style=\"text-align: right;\">         0.023 </td><td style=\"text-align: right;\">     5</td><td style=\"text-align: right;\">         399.116</td><td style=\"text-align: right;\">         25</td><td style=\"text-align: right;\"> 0.0552995 </td><td style=\"text-align: right;\"> 0.0552053 </td></tr>\n",
       "<tr><td>TrainLightGCN_96619a0d</td><td>TERMINATED</td><td>147.96.81.131:419651</td><td style=\"text-align: right;\">           6</td><td style=\"text-align: right;\">            1</td><td style=\"text-align: right;\">            197</td><td style=\"text-align: right;\">     9</td><td style=\"text-align: right;\">7.47176e-06</td><td style=\"text-align: right;\">         0.1604</td><td style=\"text-align: right;\">     1</td><td style=\"text-align: right;\">         643.103</td><td style=\"text-align: right;\">          5</td><td style=\"text-align: right;\">23.4931    </td><td style=\"text-align: right;\">22.8778    </td></tr>\n",
       "<tr><td>TrainLightGCN_167e6d2f</td><td>TERMINATED</td><td>147.96.81.131:419929</td><td style=\"text-align: right;\">          13</td><td style=\"text-align: right;\">            1</td><td style=\"text-align: right;\">              1</td><td style=\"text-align: right;\">     9</td><td style=\"text-align: right;\">6.26734e-05</td><td style=\"text-align: right;\">         0.0101</td><td style=\"text-align: right;\">    31</td><td style=\"text-align: right;\">         309.45 </td><td style=\"text-align: right;\">        155</td><td style=\"text-align: right;\"> 0.17806   </td><td style=\"text-align: right;\"> 0.177223  </td></tr>\n",
       "<tr><td>TrainLightGCN_34d7dfdc</td><td>TERMINATED</td><td>147.96.81.131:420102</td><td style=\"text-align: right;\">          10</td><td style=\"text-align: right;\">            2</td><td style=\"text-align: right;\">            239</td><td style=\"text-align: right;\">     9</td><td style=\"text-align: right;\">1.52758e-05</td><td style=\"text-align: right;\">         0.0496</td><td style=\"text-align: right;\">     4</td><td style=\"text-align: right;\">         381.89 </td><td style=\"text-align: right;\">         20</td><td style=\"text-align: right;\"> 0.273841  </td><td style=\"text-align: right;\"> 0.222228  </td></tr>\n",
       "<tr><td>TrainLightGCN_dfdd4852</td><td>TERMINATED</td><td>147.96.81.131:420781</td><td style=\"text-align: right;\">           6</td><td style=\"text-align: right;\">            1</td><td style=\"text-align: right;\">              1</td><td style=\"text-align: right;\">     9</td><td style=\"text-align: right;\">9.27999e-07</td><td style=\"text-align: right;\">         0.1304</td><td style=\"text-align: right;\">     1</td><td style=\"text-align: right;\">         374.086</td><td style=\"text-align: right;\">          5</td><td style=\"text-align: right;\"> 1.2783    </td><td style=\"text-align: right;\"> 1.27826   </td></tr>\n",
       "<tr><td>TrainLightGCN_c92b0a37</td><td>TERMINATED</td><td>147.96.81.131:421354</td><td style=\"text-align: right;\">          13</td><td style=\"text-align: right;\">            1</td><td style=\"text-align: right;\">             64</td><td style=\"text-align: right;\">     9</td><td style=\"text-align: right;\">0.000102211</td><td style=\"text-align: right;\">         0.2292</td><td style=\"text-align: right;\">    40</td><td style=\"text-align: right;\">         314.448</td><td style=\"text-align: right;\">        200</td><td style=\"text-align: right;\"> 1.89667   </td><td style=\"text-align: right;\"> 1.24065   </td></tr>\n",
       "<tr><td>TrainLightGCN_5a766b91</td><td>TERMINATED</td><td>147.96.81.131:421774</td><td style=\"text-align: right;\">          13</td><td style=\"text-align: right;\">            2</td><td style=\"text-align: right;\">              1</td><td style=\"text-align: right;\">     9</td><td style=\"text-align: right;\">0.000178811</td><td style=\"text-align: right;\">         0.0106</td><td style=\"text-align: right;\">    40</td><td style=\"text-align: right;\">         285.338</td><td style=\"text-align: right;\">        200</td><td style=\"text-align: right;\"> 0.154445  </td><td style=\"text-align: right;\"> 0.150587  </td></tr>\n",
       "<tr><td>TrainLightGCN_2a2ab508</td><td>TERMINATED</td><td>147.96.81.131:422402</td><td style=\"text-align: right;\">          13</td><td style=\"text-align: right;\">            1</td><td style=\"text-align: right;\">              2</td><td style=\"text-align: right;\">     9</td><td style=\"text-align: right;\">0.000126607</td><td style=\"text-align: right;\">         0.0103</td><td style=\"text-align: right;\">    40</td><td style=\"text-align: right;\">         274.003</td><td style=\"text-align: right;\">        200</td><td style=\"text-align: right;\"> 0.0634091 </td><td style=\"text-align: right;\"> 0.0615252 </td></tr>\n",
       "<tr><td>TrainLightGCN_ec2e6ef9</td><td>TERMINATED</td><td>147.96.81.131:422688</td><td style=\"text-align: right;\">          11</td><td style=\"text-align: right;\">            2</td><td style=\"text-align: right;\">              1</td><td style=\"text-align: right;\">     9</td><td style=\"text-align: right;\">1.99221e-06</td><td style=\"text-align: right;\">         0.0134</td><td style=\"text-align: right;\">    29</td><td style=\"text-align: right;\">         310.86 </td><td style=\"text-align: right;\">        145</td><td style=\"text-align: right;\"> 0.146141  </td><td style=\"text-align: right;\"> 0.145696  </td></tr>\n",
       "<tr><td>TrainLightGCN_8aafa060</td><td>TERMINATED</td><td>147.96.81.131:422961</td><td style=\"text-align: right;\">          10</td><td style=\"text-align: right;\">            1</td><td style=\"text-align: right;\">            218</td><td style=\"text-align: right;\">     9</td><td style=\"text-align: right;\">1.13944e-05</td><td style=\"text-align: right;\">         0.2246</td><td style=\"text-align: right;\">     9</td><td style=\"text-align: right;\">         321.578</td><td style=\"text-align: right;\">         45</td><td style=\"text-align: right;\">11.7906    </td><td style=\"text-align: right;\">10.0542    </td></tr>\n",
       "<tr><td>TrainLightGCN_3328efa3</td><td>TERMINATED</td><td>147.96.81.131:423292</td><td style=\"text-align: right;\">           6</td><td style=\"text-align: right;\">            2</td><td style=\"text-align: right;\">              9</td><td style=\"text-align: right;\">     9</td><td style=\"text-align: right;\">4.4681e-07 </td><td style=\"text-align: right;\">         0.1652</td><td style=\"text-align: right;\">     2</td><td style=\"text-align: right;\">         304.928</td><td style=\"text-align: right;\">         10</td><td style=\"text-align: right;\"> 6.23172   </td><td style=\"text-align: right;\"> 6.22966   </td></tr>\n",
       "<tr><td>TrainLightGCN_583b970a</td><td>TERMINATED</td><td>147.96.81.131:423883</td><td style=\"text-align: right;\">          12</td><td style=\"text-align: right;\">            2</td><td style=\"text-align: right;\">              2</td><td style=\"text-align: right;\">     9</td><td style=\"text-align: right;\">0.000162789</td><td style=\"text-align: right;\">         0.0272</td><td style=\"text-align: right;\">    40</td><td style=\"text-align: right;\">         289.323</td><td style=\"text-align: right;\">        200</td><td style=\"text-align: right;\"> 0.0571773 </td><td style=\"text-align: right;\"> 0.0526859 </td></tr>\n",
       "<tr><td>TrainLightGCN_34b7d23c</td><td>TERMINATED</td><td>147.96.81.131:424278</td><td style=\"text-align: right;\">          13</td><td style=\"text-align: right;\">            2</td><td style=\"text-align: right;\">              2</td><td style=\"text-align: right;\">     9</td><td style=\"text-align: right;\">2.81858e-05</td><td style=\"text-align: right;\">         0.0516</td><td style=\"text-align: right;\">    40</td><td style=\"text-align: right;\">         243.369</td><td style=\"text-align: right;\">        200</td><td style=\"text-align: right;\"> 0.0531856 </td><td style=\"text-align: right;\"> 0.0500033 </td></tr>\n",
       "<tr><td>TrainLightGCN_3cff0cd2</td><td>TERMINATED</td><td>147.96.81.131:424579</td><td style=\"text-align: right;\">          10</td><td style=\"text-align: right;\">            2</td><td style=\"text-align: right;\">              1</td><td style=\"text-align: right;\">     9</td><td style=\"text-align: right;\">0.000255578</td><td style=\"text-align: right;\">         0.0173</td><td style=\"text-align: right;\">    36</td><td style=\"text-align: right;\">         307.712</td><td style=\"text-align: right;\">        180</td><td style=\"text-align: right;\"> 0.15914   </td><td style=\"text-align: right;\"> 0.155615  </td></tr>\n",
       "<tr><td>TrainLightGCN_3dec279b</td><td>TERMINATED</td><td>147.96.81.131:424859</td><td style=\"text-align: right;\">          12</td><td style=\"text-align: right;\">            1</td><td style=\"text-align: right;\">             11</td><td style=\"text-align: right;\">     9</td><td style=\"text-align: right;\">3.91937e-05</td><td style=\"text-align: right;\">         0.0732</td><td style=\"text-align: right;\">    40</td><td style=\"text-align: right;\">         252.969</td><td style=\"text-align: right;\">        200</td><td style=\"text-align: right;\"> 0.333664  </td><td style=\"text-align: right;\"> 0.312298  </td></tr>\n",
       "<tr><td>TrainLightGCN_1962b8bc</td><td>TERMINATED</td><td>147.96.81.131:425405</td><td style=\"text-align: right;\">          11</td><td style=\"text-align: right;\">            3</td><td style=\"text-align: right;\">              2</td><td style=\"text-align: right;\">     9</td><td style=\"text-align: right;\">6.89007e-05</td><td style=\"text-align: right;\">         0.01  </td><td style=\"text-align: right;\">    40</td><td style=\"text-align: right;\">         291.437</td><td style=\"text-align: right;\">        200</td><td style=\"text-align: right;\"> 0.0606881 </td><td style=\"text-align: right;\"> 0.0589619 </td></tr>\n",
       "<tr><td>TrainLightGCN_09a5c438</td><td>TERMINATED</td><td>147.96.81.131:425667</td><td style=\"text-align: right;\">          13</td><td style=\"text-align: right;\">            2</td><td style=\"text-align: right;\">              1</td><td style=\"text-align: right;\">     9</td><td style=\"text-align: right;\">0.00221591 </td><td style=\"text-align: right;\">         0.0132</td><td style=\"text-align: right;\">    40</td><td style=\"text-align: right;\">         238.805</td><td style=\"text-align: right;\">        200</td><td style=\"text-align: right;\"> 0.166803  </td><td style=\"text-align: right;\"> 0.160565  </td></tr>\n",
       "<tr><td>TrainLightGCN_7a30ff98</td><td>TERMINATED</td><td>147.96.81.131:426119</td><td style=\"text-align: right;\">          13</td><td style=\"text-align: right;\">            3</td><td style=\"text-align: right;\">              2</td><td style=\"text-align: right;\">     9</td><td style=\"text-align: right;\">2.21067e-05</td><td style=\"text-align: right;\">         0.0518</td><td style=\"text-align: right;\">    40</td><td style=\"text-align: right;\">         241.093</td><td style=\"text-align: right;\">        200</td><td style=\"text-align: right;\"> 0.0599128 </td><td style=\"text-align: right;\"> 0.0577178 </td></tr>\n",
       "<tr><td>TrainLightGCN_2b195912</td><td>TERMINATED</td><td>147.96.81.131:426298</td><td style=\"text-align: right;\">          10</td><td style=\"text-align: right;\">            2</td><td style=\"text-align: right;\">              1</td><td style=\"text-align: right;\">     9</td><td style=\"text-align: right;\">0.000273636</td><td style=\"text-align: right;\">         0.0179</td><td style=\"text-align: right;\">    35</td><td style=\"text-align: right;\">         314.07 </td><td style=\"text-align: right;\">        175</td><td style=\"text-align: right;\"> 0.160428  </td><td style=\"text-align: right;\"> 0.156881  </td></tr>\n",
       "<tr><td>TrainLightGCN_6249efb2</td><td>TERMINATED</td><td>147.96.81.131:426883</td><td style=\"text-align: right;\">           9</td><td style=\"text-align: right;\">            2</td><td style=\"text-align: right;\">              3</td><td style=\"text-align: right;\">     9</td><td style=\"text-align: right;\">0.000248378</td><td style=\"text-align: right;\">         0.0259</td><td style=\"text-align: right;\">    21</td><td style=\"text-align: right;\">         316.546</td><td style=\"text-align: right;\">        105</td><td style=\"text-align: right;\"> 0.0537852 </td><td style=\"text-align: right;\"> 0.0507126 </td></tr>\n",
       "<tr><td>TrainLightGCN_faacbe44</td><td>TERMINATED</td><td>147.96.81.131:427094</td><td style=\"text-align: right;\">          10</td><td style=\"text-align: right;\">            3</td><td style=\"text-align: right;\">              1</td><td style=\"text-align: right;\">     9</td><td style=\"text-align: right;\">0.000640531</td><td style=\"text-align: right;\">         0.0405</td><td style=\"text-align: right;\">    30</td><td style=\"text-align: right;\">         309.913</td><td style=\"text-align: right;\">        150</td><td style=\"text-align: right;\"> 0.172256  </td><td style=\"text-align: right;\"> 0.169586  </td></tr>\n",
       "<tr><td>TrainLightGCN_2de8c185</td><td>TERMINATED</td><td>147.96.81.131:427505</td><td style=\"text-align: right;\">           9</td><td style=\"text-align: right;\">            2</td><td style=\"text-align: right;\">             10</td><td style=\"text-align: right;\">     9</td><td style=\"text-align: right;\">0.00215754 </td><td style=\"text-align: right;\">         0.1092</td><td style=\"text-align: right;\">    19</td><td style=\"text-align: right;\">         316.825</td><td style=\"text-align: right;\">         95</td><td style=\"text-align: right;\"> 0.287839  </td><td style=\"text-align: right;\"> 0.1761    </td></tr>\n",
       "<tr><td>TrainLightGCN_256a4017</td><td>TERMINATED</td><td>147.96.81.131:427923</td><td style=\"text-align: right;\">           7</td><td style=\"text-align: right;\">            3</td><td style=\"text-align: right;\">              3</td><td style=\"text-align: right;\">     9</td><td style=\"text-align: right;\">0.00022211 </td><td style=\"text-align: right;\">         0.0178</td><td style=\"text-align: right;\">     7</td><td style=\"text-align: right;\">         345.301</td><td style=\"text-align: right;\">         35</td><td style=\"text-align: right;\"> 0.0808871 </td><td style=\"text-align: right;\"> 0.0758262 </td></tr>\n",
       "<tr><td>TrainLightGCN_1a705004</td><td>TERMINATED</td><td>147.96.81.131:428490</td><td style=\"text-align: right;\">          10</td><td style=\"text-align: right;\">            1</td><td style=\"text-align: right;\">              7</td><td style=\"text-align: right;\">     9</td><td style=\"text-align: right;\">0.000330798</td><td style=\"text-align: right;\">         0.0693</td><td style=\"text-align: right;\">    30</td><td style=\"text-align: right;\">         305.721</td><td style=\"text-align: right;\">        150</td><td style=\"text-align: right;\"> 0.522262  </td><td style=\"text-align: right;\"> 0.486005  </td></tr>\n",
       "<tr><td>TrainLightGCN_fb9079fc</td><td>TERMINATED</td><td>147.96.81.131:428663</td><td style=\"text-align: right;\">          10</td><td style=\"text-align: right;\">            3</td><td style=\"text-align: right;\">              1</td><td style=\"text-align: right;\">     9</td><td style=\"text-align: right;\">0.00861263 </td><td style=\"text-align: right;\">         0.02  </td><td style=\"text-align: right;\">    30</td><td style=\"text-align: right;\">         305.622</td><td style=\"text-align: right;\">        150</td><td style=\"text-align: right;\"> 0.171529  </td><td style=\"text-align: right;\"> 0.159817  </td></tr>\n",
       "<tr><td>TrainLightGCN_e52c1930</td><td>TERMINATED</td><td>147.96.81.131:429112</td><td style=\"text-align: right;\">           9</td><td style=\"text-align: right;\">            2</td><td style=\"text-align: right;\">              4</td><td style=\"text-align: right;\">     9</td><td style=\"text-align: right;\">0.000638405</td><td style=\"text-align: right;\">         0.0283</td><td style=\"text-align: right;\">    19</td><td style=\"text-align: right;\">         324.893</td><td style=\"text-align: right;\">         95</td><td style=\"text-align: right;\"> 0.0466896 </td><td style=\"text-align: right;\"> 0.0410342 </td></tr>\n",
       "<tr><td>TrainLightGCN_f1216b04</td><td>TERMINATED</td><td>147.96.81.131:429609</td><td style=\"text-align: right;\">          11</td><td style=\"text-align: right;\">            5</td><td style=\"text-align: right;\">              2</td><td style=\"text-align: right;\">     9</td><td style=\"text-align: right;\">0.00407437 </td><td style=\"text-align: right;\">         0.0156</td><td style=\"text-align: right;\">    28</td><td style=\"text-align: right;\">         319.538</td><td style=\"text-align: right;\">        140</td><td style=\"text-align: right;\"> 0.0764369 </td><td style=\"text-align: right;\"> 0.0666387 </td></tr>\n",
       "<tr><td>TrainLightGCN_9dced612</td><td>TERMINATED</td><td>147.96.81.131:430064</td><td style=\"text-align: right;\">           8</td><td style=\"text-align: right;\">            2</td><td style=\"text-align: right;\">              6</td><td style=\"text-align: right;\">     9</td><td style=\"text-align: right;\">0.00864838 </td><td style=\"text-align: right;\">         0.407 </td><td style=\"text-align: right;\">     6</td><td style=\"text-align: right;\">         313.949</td><td style=\"text-align: right;\">         30</td><td style=\"text-align: right;\"> 3.78491   </td><td style=\"text-align: right;\"> 2.09567   </td></tr>\n",
       "<tr><td>TrainLightGCN_f9f31eae</td><td>TERMINATED</td><td>147.96.81.131:430240</td><td style=\"text-align: right;\">          10</td><td style=\"text-align: right;\">            1</td><td style=\"text-align: right;\">            141</td><td style=\"text-align: right;\">     9</td><td style=\"text-align: right;\">8.85533e-05</td><td style=\"text-align: right;\">         0.0419</td><td style=\"text-align: right;\">    11</td><td style=\"text-align: right;\">         323.384</td><td style=\"text-align: right;\">         55</td><td style=\"text-align: right;\"> 0.455748  </td><td style=\"text-align: right;\"> 0.311995  </td></tr>\n",
       "<tr><td>TrainLightGCN_f775c95a</td><td>TERMINATED</td><td>147.96.81.131:430738</td><td style=\"text-align: right;\">           9</td><td style=\"text-align: right;\">            3</td><td style=\"text-align: right;\">             14</td><td style=\"text-align: right;\">     9</td><td style=\"text-align: right;\">0.00194191 </td><td style=\"text-align: right;\">         0.0916</td><td style=\"text-align: right;\">    11</td><td style=\"text-align: right;\">         321.997</td><td style=\"text-align: right;\">         55</td><td style=\"text-align: right;\"> 0.188429  </td><td style=\"text-align: right;\"> 0.10769   </td></tr>\n",
       "<tr><td>TrainLightGCN_a66a9476</td><td>TERMINATED</td><td>147.96.81.131:431221</td><td style=\"text-align: right;\">          11</td><td style=\"text-align: right;\">            2</td><td style=\"text-align: right;\">              1</td><td style=\"text-align: right;\">     9</td><td style=\"text-align: right;\">0.000347625</td><td style=\"text-align: right;\">         0.0312</td><td style=\"text-align: right;\">    26</td><td style=\"text-align: right;\">         306.889</td><td style=\"text-align: right;\">        130</td><td style=\"text-align: right;\"> 0.169877  </td><td style=\"text-align: right;\"> 0.165838  </td></tr>\n",
       "<tr><td>TrainLightGCN_f1cc2881</td><td>TERMINATED</td><td>147.96.81.131:431656</td><td style=\"text-align: right;\">           8</td><td style=\"text-align: right;\">            1</td><td style=\"text-align: right;\">             48</td><td style=\"text-align: right;\">     9</td><td style=\"text-align: right;\">4.25567e-05</td><td style=\"text-align: right;\">         0.0594</td><td style=\"text-align: right;\">     7</td><td style=\"text-align: right;\">         321.68 </td><td style=\"text-align: right;\">         35</td><td style=\"text-align: right;\"> 1.44272   </td><td style=\"text-align: right;\"> 1.29987   </td></tr>\n",
       "<tr><td>TrainLightGCN_a7c5d96c</td><td>TERMINATED</td><td>147.96.81.131:431882</td><td style=\"text-align: right;\">           7</td><td style=\"text-align: right;\">            3</td><td style=\"text-align: right;\">             24</td><td style=\"text-align: right;\">     9</td><td style=\"text-align: right;\">0.00110627 </td><td style=\"text-align: right;\">         0.0214</td><td style=\"text-align: right;\">     4</td><td style=\"text-align: right;\">         352.767</td><td style=\"text-align: right;\">         20</td><td style=\"text-align: right;\"> 0.044773  </td><td style=\"text-align: right;\"> 0.0259054 </td></tr>\n",
       "<tr><td>TrainLightGCN_1ab6cb00</td><td>TERMINATED</td><td>147.96.81.131:432359</td><td style=\"text-align: right;\">          11</td><td style=\"text-align: right;\">            5</td><td style=\"text-align: right;\">              3</td><td style=\"text-align: right;\">     9</td><td style=\"text-align: right;\">0.00331958 </td><td style=\"text-align: right;\">         0.0116</td><td style=\"text-align: right;\">    31</td><td style=\"text-align: right;\">         313.852</td><td style=\"text-align: right;\">        155</td><td style=\"text-align: right;\"> 0.0540914 </td><td style=\"text-align: right;\"> 0.0439146 </td></tr>\n",
       "<tr><td>TrainLightGCN_fe6065dd</td><td>TERMINATED</td><td>147.96.81.131:432801</td><td style=\"text-align: right;\">          10</td><td style=\"text-align: right;\">            1</td><td style=\"text-align: right;\">              5</td><td style=\"text-align: right;\">     9</td><td style=\"text-align: right;\">0.000798995</td><td style=\"text-align: right;\">         0.8589</td><td style=\"text-align: right;\">    27</td><td style=\"text-align: right;\">         306.797</td><td style=\"text-align: right;\">        135</td><td style=\"text-align: right;\">36.8211    </td><td style=\"text-align: right;\">34.5625    </td></tr>\n",
       "<tr><td>TrainLightGCN_c92e0a42</td><td>TERMINATED</td><td>147.96.81.131:433281</td><td style=\"text-align: right;\">           8</td><td style=\"text-align: right;\">            2</td><td style=\"text-align: right;\">              4</td><td style=\"text-align: right;\">     9</td><td style=\"text-align: right;\">8.24781e-06</td><td style=\"text-align: right;\">         0.0145</td><td style=\"text-align: right;\">    12</td><td style=\"text-align: right;\">         317.942</td><td style=\"text-align: right;\">         60</td><td style=\"text-align: right;\"> 0.0353021 </td><td style=\"text-align: right;\"> 0.0347526 </td></tr>\n",
       "<tr><td>TrainLightGCN_53106971</td><td>TERMINATED</td><td>147.96.81.131:433597</td><td style=\"text-align: right;\">          12</td><td style=\"text-align: right;\">            2</td><td style=\"text-align: right;\">              1</td><td style=\"text-align: right;\">     9</td><td style=\"text-align: right;\">2.03725e-05</td><td style=\"text-align: right;\">         0.0429</td><td style=\"text-align: right;\">    40</td><td style=\"text-align: right;\">         271.93 </td><td style=\"text-align: right;\">        200</td><td style=\"text-align: right;\"> 0.163391  </td><td style=\"text-align: right;\"> 0.159894  </td></tr>\n",
       "<tr><td>TrainLightGCN_4b260aa5</td><td>TERMINATED</td><td>147.96.81.131:433963</td><td style=\"text-align: right;\">           9</td><td style=\"text-align: right;\">            3</td><td style=\"text-align: right;\">             17</td><td style=\"text-align: right;\">     9</td><td style=\"text-align: right;\">4.66261e-06</td><td style=\"text-align: right;\">         0.0182</td><td style=\"text-align: right;\">    17</td><td style=\"text-align: right;\">         306.851</td><td style=\"text-align: right;\">         85</td><td style=\"text-align: right;\"> 0.023033  </td><td style=\"text-align: right;\"> 0.0224043 </td></tr>\n",
       "<tr><td>TrainLightGCN_9467df91</td><td>TERMINATED</td><td>147.96.81.131:434383</td><td style=\"text-align: right;\">          11</td><td style=\"text-align: right;\">            1</td><td style=\"text-align: right;\">             29</td><td style=\"text-align: right;\">     9</td><td style=\"text-align: right;\">0.00521773 </td><td style=\"text-align: right;\">         0.0342</td><td style=\"text-align: right;\">    36</td><td style=\"text-align: right;\">         312.131</td><td style=\"text-align: right;\">        180</td><td style=\"text-align: right;\"> 0.0565945 </td><td style=\"text-align: right;\"> 0.0212318 </td></tr>\n",
       "<tr><td>TrainLightGCN_592d950d</td><td>TERMINATED</td><td>147.96.81.131:434892</td><td style=\"text-align: right;\">          12</td><td style=\"text-align: right;\">            4</td><td style=\"text-align: right;\">              3</td><td style=\"text-align: right;\">     9</td><td style=\"text-align: right;\">0.00146429 </td><td style=\"text-align: right;\">         0.1147</td><td style=\"text-align: right;\">    40</td><td style=\"text-align: right;\">         276.228</td><td style=\"text-align: right;\">        200</td><td style=\"text-align: right;\"> 0.071738  </td><td style=\"text-align: right;\"> 0.0591477 </td></tr>\n",
       "<tr><td>TrainLightGCN_7fa70ae5</td><td>TERMINATED</td><td>147.96.81.131:435068</td><td style=\"text-align: right;\">          10</td><td style=\"text-align: right;\">            2</td><td style=\"text-align: right;\">              1</td><td style=\"text-align: right;\">     9</td><td style=\"text-align: right;\">0.000426059</td><td style=\"text-align: right;\">         0.0248</td><td style=\"text-align: right;\">    31</td><td style=\"text-align: right;\">         306.681</td><td style=\"text-align: right;\">        155</td><td style=\"text-align: right;\"> 0.166346  </td><td style=\"text-align: right;\"> 0.1626    </td></tr>\n",
       "<tr><td>TrainLightGCN_25dee7cb</td><td>TERMINATED</td><td>147.96.81.131:435543</td><td style=\"text-align: right;\">           8</td><td style=\"text-align: right;\">            1</td><td style=\"text-align: right;\">              2</td><td style=\"text-align: right;\">     9</td><td style=\"text-align: right;\">5.04694e-05</td><td style=\"text-align: right;\">         0.0807</td><td style=\"text-align: right;\">    11</td><td style=\"text-align: right;\">         323.756</td><td style=\"text-align: right;\">         55</td><td style=\"text-align: right;\"> 0.697493  </td><td style=\"text-align: right;\"> 0.666512  </td></tr>\n",
       "<tr><td>TrainLightGCN_a092d36d</td><td>TERMINATED</td><td>147.96.81.131:435976</td><td style=\"text-align: right;\">           9</td><td style=\"text-align: right;\">            3</td><td style=\"text-align: right;\">             12</td><td style=\"text-align: right;\">     9</td><td style=\"text-align: right;\">2.19158e-06</td><td style=\"text-align: right;\">         0.3093</td><td style=\"text-align: right;\">    13</td><td style=\"text-align: right;\">         341.918</td><td style=\"text-align: right;\">         65</td><td style=\"text-align: right;\"> 5.35515   </td><td style=\"text-align: right;\"> 5.2897    </td></tr>\n",
       "<tr><td>TrainLightGCN_f80f27a8</td><td>TERMINATED</td><td>147.96.81.131:436383</td><td style=\"text-align: right;\">           7</td><td style=\"text-align: right;\">            4</td><td style=\"text-align: right;\">              8</td><td style=\"text-align: right;\">     9</td><td style=\"text-align: right;\">0.000144897</td><td style=\"text-align: right;\">         0.0122</td><td style=\"text-align: right;\">     3</td><td style=\"text-align: right;\">         338.466</td><td style=\"text-align: right;\">         15</td><td style=\"text-align: right;\"> 0.0227723 </td><td style=\"text-align: right;\"> 0.0208301 </td></tr>\n",
       "<tr><td>TrainLightGCN_600721d6</td><td>TERMINATED</td><td>147.96.81.131:436673</td><td style=\"text-align: right;\">          10</td><td style=\"text-align: right;\">            1</td><td style=\"text-align: right;\">            157</td><td style=\"text-align: right;\">     9</td><td style=\"text-align: right;\">1.40323e-05</td><td style=\"text-align: right;\">         0.0591</td><td style=\"text-align: right;\">    10</td><td style=\"text-align: right;\">         327.711</td><td style=\"text-align: right;\">         50</td><td style=\"text-align: right;\"> 0.745399  </td><td style=\"text-align: right;\"> 0.638072  </td></tr>\n",
       "<tr><td>TrainLightGCN_e5404221</td><td>TERMINATED</td><td>147.96.81.131:437164</td><td style=\"text-align: right;\">          11</td><td style=\"text-align: right;\">            2</td><td style=\"text-align: right;\">             48</td><td style=\"text-align: right;\">     9</td><td style=\"text-align: right;\">1.0413e-07 </td><td style=\"text-align: right;\">         0.2145</td><td style=\"text-align: right;\">    24</td><td style=\"text-align: right;\">         314.239</td><td style=\"text-align: right;\">        120</td><td style=\"text-align: right;\"> 1.62862   </td><td style=\"text-align: right;\"> 1.62462   </td></tr>\n",
       "<tr><td>TrainLightGCN_f9ab3453</td><td>TERMINATED</td><td>147.96.81.131:437652</td><td style=\"text-align: right;\">          11</td><td style=\"text-align: right;\">            2</td><td style=\"text-align: right;\">              1</td><td style=\"text-align: right;\">     9</td><td style=\"text-align: right;\">7.58457e-05</td><td style=\"text-align: right;\">         0.0428</td><td style=\"text-align: right;\">    33</td><td style=\"text-align: right;\">         310.551</td><td style=\"text-align: right;\">        165</td><td style=\"text-align: right;\"> 0.173513  </td><td style=\"text-align: right;\"> 0.168871  </td></tr>\n",
       "<tr><td>TrainLightGCN_f0f25023</td><td>TERMINATED</td><td>147.96.81.131:438051</td><td style=\"text-align: right;\">          12</td><td style=\"text-align: right;\">            2</td><td style=\"text-align: right;\">              1</td><td style=\"text-align: right;\">     9</td><td style=\"text-align: right;\">2.85935e-05</td><td style=\"text-align: right;\">         0.0302</td><td style=\"text-align: right;\">    40</td><td style=\"text-align: right;\">         261.387</td><td style=\"text-align: right;\">        200</td><td style=\"text-align: right;\"> 0.158652  </td><td style=\"text-align: right;\"> 0.155642  </td></tr>\n",
       "<tr><td>TrainLightGCN_a6b31fff</td><td>TERMINATED</td><td>147.96.81.131:438314</td><td style=\"text-align: right;\">          12</td><td style=\"text-align: right;\">            2</td><td style=\"text-align: right;\">              1</td><td style=\"text-align: right;\">     9</td><td style=\"text-align: right;\">2.13584e-05</td><td style=\"text-align: right;\">         0.0451</td><td style=\"text-align: right;\">    40</td><td style=\"text-align: right;\">         254.737</td><td style=\"text-align: right;\">        200</td><td style=\"text-align: right;\"> 0.164317  </td><td style=\"text-align: right;\"> 0.160671  </td></tr>\n",
       "<tr><td>TrainLightGCN_5b312b2b</td><td>TERMINATED</td><td>147.96.81.131:438766</td><td style=\"text-align: right;\">          12</td><td style=\"text-align: right;\">            1</td><td style=\"text-align: right;\">              2</td><td style=\"text-align: right;\">     9</td><td style=\"text-align: right;\">0.000241403</td><td style=\"text-align: right;\">         0.0362</td><td style=\"text-align: right;\">    40</td><td style=\"text-align: right;\">         252.843</td><td style=\"text-align: right;\">        200</td><td style=\"text-align: right;\"> 0.083236  </td><td style=\"text-align: right;\"> 0.0796557 </td></tr>\n",
       "<tr><td>TrainLightGCN_b593f88a</td><td>TERMINATED</td><td>147.96.81.131:439240</td><td style=\"text-align: right;\">           9</td><td style=\"text-align: right;\">            2</td><td style=\"text-align: right;\">              1</td><td style=\"text-align: right;\">     9</td><td style=\"text-align: right;\">9.52794e-05</td><td style=\"text-align: right;\">         0.0228</td><td style=\"text-align: right;\">    26</td><td style=\"text-align: right;\">         315.72 </td><td style=\"text-align: right;\">        130</td><td style=\"text-align: right;\"> 0.151044  </td><td style=\"text-align: right;\"> 0.146403  </td></tr>\n",
       "<tr><td>TrainLightGCN_29be2d63</td><td>TERMINATED</td><td>147.96.81.131:439493</td><td style=\"text-align: right;\">          12</td><td style=\"text-align: right;\">            3</td><td style=\"text-align: right;\">              1</td><td style=\"text-align: right;\">     9</td><td style=\"text-align: right;\">9.78115e-07</td><td style=\"text-align: right;\">         0.016 </td><td style=\"text-align: right;\">    40</td><td style=\"text-align: right;\">         260.025</td><td style=\"text-align: right;\">        200</td><td style=\"text-align: right;\"> 0.156048  </td><td style=\"text-align: right;\"> 0.155884  </td></tr>\n",
       "<tr><td>TrainLightGCN_9ed41bf8</td><td>TERMINATED</td><td>147.96.81.131:439730</td><td style=\"text-align: right;\">          10</td><td style=\"text-align: right;\">            2</td><td style=\"text-align: right;\">              2</td><td style=\"text-align: right;\">     9</td><td style=\"text-align: right;\">5.45481e-06</td><td style=\"text-align: right;\">         0.0186</td><td style=\"text-align: right;\">    34</td><td style=\"text-align: right;\">         307.291</td><td style=\"text-align: right;\">        170</td><td style=\"text-align: right;\"> 0.0561691 </td><td style=\"text-align: right;\"> 0.05489   </td></tr>\n",
       "<tr><td>TrainLightGCN_1aa276b8</td><td>TERMINATED</td><td>147.96.81.131:440177</td><td style=\"text-align: right;\">          11</td><td style=\"text-align: right;\">            1</td><td style=\"text-align: right;\">              1</td><td style=\"text-align: right;\">     9</td><td style=\"text-align: right;\">1.00966e-05</td><td style=\"text-align: right;\">         0.0246</td><td style=\"text-align: right;\">    40</td><td style=\"text-align: right;\">         290.94 </td><td style=\"text-align: right;\">        200</td><td style=\"text-align: right;\"> 0.202841  </td><td style=\"text-align: right;\"> 0.20027   </td></tr>\n",
       "<tr><td>TrainLightGCN_6982c100</td><td>TERMINATED</td><td>147.96.81.131:440774</td><td style=\"text-align: right;\">          11</td><td style=\"text-align: right;\">            2</td><td style=\"text-align: right;\">              5</td><td style=\"text-align: right;\">     9</td><td style=\"text-align: right;\">0.000124231</td><td style=\"text-align: right;\">         0.0488</td><td style=\"text-align: right;\">    40</td><td style=\"text-align: right;\">         299.737</td><td style=\"text-align: right;\">        200</td><td style=\"text-align: right;\"> 0.0415198 </td><td style=\"text-align: right;\"> 0.0381082 </td></tr>\n",
       "<tr><td>TrainLightGCN_5a8f7985</td><td>TERMINATED</td><td>147.96.81.131:440998</td><td style=\"text-align: right;\">          13</td><td style=\"text-align: right;\">            3</td><td style=\"text-align: right;\">              2</td><td style=\"text-align: right;\">     9</td><td style=\"text-align: right;\">3.09974e-06</td><td style=\"text-align: right;\">         0.0661</td><td style=\"text-align: right;\">    40</td><td style=\"text-align: right;\">         240.864</td><td style=\"text-align: right;\">        200</td><td style=\"text-align: right;\"> 0.059926  </td><td style=\"text-align: right;\"> 0.0590924 </td></tr>\n",
       "<tr><td>TrainLightGCN_7467fff3</td><td>TERMINATED</td><td>147.96.81.131:441309</td><td style=\"text-align: right;\">          10</td><td style=\"text-align: right;\">            1</td><td style=\"text-align: right;\">              1</td><td style=\"text-align: right;\">     9</td><td style=\"text-align: right;\">2.10316e-05</td><td style=\"text-align: right;\">         0.037 </td><td style=\"text-align: right;\">    35</td><td style=\"text-align: right;\">         310.969</td><td style=\"text-align: right;\">        175</td><td style=\"text-align: right;\"> 0.385098  </td><td style=\"text-align: right;\"> 0.37373   </td></tr>\n",
       "<tr><td>TrainLightGCN_bd7c4673</td><td>TERMINATED</td><td>147.96.81.131:441708</td><td style=\"text-align: right;\">           9</td><td style=\"text-align: right;\">            2</td><td style=\"text-align: right;\">              3</td><td style=\"text-align: right;\">     9</td><td style=\"text-align: right;\">4.21473e-07</td><td style=\"text-align: right;\">         0.0902</td><td style=\"text-align: right;\">    24</td><td style=\"text-align: right;\">         309.801</td><td style=\"text-align: right;\">        120</td><td style=\"text-align: right;\"> 0.148877  </td><td style=\"text-align: right;\"> 0.148375  </td></tr>\n",
       "<tr><td>TrainLightGCN_583a9f51</td><td>TERMINATED</td><td>147.96.81.131:442224</td><td style=\"text-align: right;\">          10</td><td style=\"text-align: right;\">            2</td><td style=\"text-align: right;\">              1</td><td style=\"text-align: right;\">     9</td><td style=\"text-align: right;\">5.50535e-05</td><td style=\"text-align: right;\">         0.0138</td><td style=\"text-align: right;\">    29</td><td style=\"text-align: right;\">         308.266</td><td style=\"text-align: right;\">        145</td><td style=\"text-align: right;\"> 0.152235  </td><td style=\"text-align: right;\"> 0.148808  </td></tr>\n",
       "<tr><td>TrainLightGCN_b30474e1</td><td>TERMINATED</td><td>147.96.81.131:442485</td><td style=\"text-align: right;\">          13</td><td style=\"text-align: right;\">            3</td><td style=\"text-align: right;\">              4</td><td style=\"text-align: right;\">     9</td><td style=\"text-align: right;\">3.69003e-05</td><td style=\"text-align: right;\">         0.0208</td><td style=\"text-align: right;\">    40</td><td style=\"text-align: right;\">         255.174</td><td style=\"text-align: right;\">        200</td><td style=\"text-align: right;\"> 0.0235608 </td><td style=\"text-align: right;\"> 0.0219331 </td></tr>\n",
       "<tr><td>TrainLightGCN_80d9d3dd</td><td>TERMINATED</td><td>147.96.81.131:442899</td><td style=\"text-align: right;\">          11</td><td style=\"text-align: right;\">            1</td><td style=\"text-align: right;\">              2</td><td style=\"text-align: right;\">     9</td><td style=\"text-align: right;\">0.000176782</td><td style=\"text-align: right;\">         0.0112</td><td style=\"text-align: right;\">    33</td><td style=\"text-align: right;\">         308.004</td><td style=\"text-align: right;\">        165</td><td style=\"text-align: right;\"> 0.0806439 </td><td style=\"text-align: right;\"> 0.0788043 </td></tr>\n",
       "<tr><td>TrainLightGCN_b89597a9</td><td>TERMINATED</td><td>147.96.81.131:443295</td><td style=\"text-align: right;\">           7</td><td style=\"text-align: right;\">            2</td><td style=\"text-align: right;\">             79</td><td style=\"text-align: right;\">     9</td><td style=\"text-align: right;\">0.000492831</td><td style=\"text-align: right;\">         0.0766</td><td style=\"text-align: right;\">     3</td><td style=\"text-align: right;\">         411.767</td><td style=\"text-align: right;\">         15</td><td style=\"text-align: right;\"> 1.40826   </td><td style=\"text-align: right;\"> 0.750273  </td></tr>\n",
       "<tr><td>TrainLightGCN_0b2bad98</td><td>TERMINATED</td><td>147.96.81.131:443755</td><td style=\"text-align: right;\">           8</td><td style=\"text-align: right;\">            1</td><td style=\"text-align: right;\">              1</td><td style=\"text-align: right;\">     9</td><td style=\"text-align: right;\">0.000852552</td><td style=\"text-align: right;\">         0.149 </td><td style=\"text-align: right;\">     5</td><td style=\"text-align: right;\">         317    </td><td style=\"text-align: right;\">         25</td><td style=\"text-align: right;\"> 0.911812  </td><td style=\"text-align: right;\"> 0.906476  </td></tr>\n",
       "<tr><td>TrainLightGCN_542c6099</td><td>TERMINATED</td><td>147.96.81.131:443960</td><td style=\"text-align: right;\">          10</td><td style=\"text-align: right;\">            2</td><td style=\"text-align: right;\">              3</td><td style=\"text-align: right;\">     9</td><td style=\"text-align: right;\">0.000305548</td><td style=\"text-align: right;\">         0.0284</td><td style=\"text-align: right;\">    18</td><td style=\"text-align: right;\">         310.826</td><td style=\"text-align: right;\">         90</td><td style=\"text-align: right;\"> 0.0484943 </td><td style=\"text-align: right;\"> 0.0448372 </td></tr>\n",
       "<tr><td>TrainLightGCN_666113c6</td><td>TERMINATED</td><td>147.96.81.131:444479</td><td style=\"text-align: right;\">           9</td><td style=\"text-align: right;\">            3</td><td style=\"text-align: right;\">              2</td><td style=\"text-align: right;\">     9</td><td style=\"text-align: right;\">6.07928e-05</td><td style=\"text-align: right;\">         0.014 </td><td style=\"text-align: right;\">    14</td><td style=\"text-align: right;\">         305.467</td><td style=\"text-align: right;\">         70</td><td style=\"text-align: right;\"> 0.0754057 </td><td style=\"text-align: right;\"> 0.0738761 </td></tr>\n",
       "<tr><td>TrainLightGCN_b09fb2ae</td><td>TERMINATED</td><td>147.96.81.131:445177</td><td style=\"text-align: right;\">          10</td><td style=\"text-align: right;\">            2</td><td style=\"text-align: right;\">              1</td><td style=\"text-align: right;\">     9</td><td style=\"text-align: right;\">0.000114866</td><td style=\"text-align: right;\">         0.0122</td><td style=\"text-align: right;\">    32</td><td style=\"text-align: right;\">         314.756</td><td style=\"text-align: right;\">        160</td><td style=\"text-align: right;\"> 0.153357  </td><td style=\"text-align: right;\"> 0.149942  </td></tr>\n",
       "<tr><td>TrainLightGCN_78704f31</td><td>TERMINATED</td><td>147.96.81.131:445353</td><td style=\"text-align: right;\">          10</td><td style=\"text-align: right;\">            3</td><td style=\"text-align: right;\">              1</td><td style=\"text-align: right;\">     9</td><td style=\"text-align: right;\">0.00292305 </td><td style=\"text-align: right;\">         0.0167</td><td style=\"text-align: right;\">    31</td><td style=\"text-align: right;\">         308.189</td><td style=\"text-align: right;\">        155</td><td style=\"text-align: right;\"> 0.164758  </td><td style=\"text-align: right;\"> 0.159428  </td></tr>\n",
       "<tr><td>TrainLightGCN_5b12ae1a</td><td>TERMINATED</td><td>147.96.81.131:445553</td><td style=\"text-align: right;\">           8</td><td style=\"text-align: right;\">            1</td><td style=\"text-align: right;\">              6</td><td style=\"text-align: right;\">     9</td><td style=\"text-align: right;\">0.000573422</td><td style=\"text-align: right;\">         0.5565</td><td style=\"text-align: right;\">    14</td><td style=\"text-align: right;\">         319.663</td><td style=\"text-align: right;\">         70</td><td style=\"text-align: right;\">56.6841    </td><td style=\"text-align: right;\">52.9758    </td></tr>\n",
       "<tr><td>TrainLightGCN_684a6e16</td><td>TERMINATED</td><td>147.96.81.131:446056</td><td style=\"text-align: right;\">           9</td><td style=\"text-align: right;\">            2</td><td style=\"text-align: right;\">              2</td><td style=\"text-align: right;\">     9</td><td style=\"text-align: right;\">0.00136836 </td><td style=\"text-align: right;\">         0.0147</td><td style=\"text-align: right;\">    21</td><td style=\"text-align: right;\">         307.757</td><td style=\"text-align: right;\">        105</td><td style=\"text-align: right;\"> 0.0747146 </td><td style=\"text-align: right;\"> 0.0695149 </td></tr>\n",
       "<tr><td>TrainLightGCN_b3537f7e</td><td>TERMINATED</td><td>147.96.81.131:446780</td><td style=\"text-align: right;\">          10</td><td style=\"text-align: right;\">            1</td><td style=\"text-align: right;\">              4</td><td style=\"text-align: right;\">     9</td><td style=\"text-align: right;\">0.000220868</td><td style=\"text-align: right;\">         0.0102</td><td style=\"text-align: right;\">    31</td><td style=\"text-align: right;\">         307.974</td><td style=\"text-align: right;\">        155</td><td style=\"text-align: right;\"> 0.0482833 </td><td style=\"text-align: right;\"> 0.0444761 </td></tr>\n",
       "<tr><td>TrainLightGCN_5981f040</td><td>TERMINATED</td><td>147.96.81.131:446956</td><td style=\"text-align: right;\">           9</td><td style=\"text-align: right;\">            3</td><td style=\"text-align: right;\">              6</td><td style=\"text-align: right;\">     9</td><td style=\"text-align: right;\">0.0017433  </td><td style=\"text-align: right;\">         0.0125</td><td style=\"text-align: right;\">    20</td><td style=\"text-align: right;\">         306.889</td><td style=\"text-align: right;\">        100</td><td style=\"text-align: right;\"> 0.0301505 </td><td style=\"text-align: right;\"> 0.0220112 </td></tr>\n",
       "<tr><td>TrainLightGCN_53236902</td><td>TERMINATED</td><td>147.96.81.131:447198</td><td style=\"text-align: right;\">          11</td><td style=\"text-align: right;\">            4</td><td style=\"text-align: right;\">              1</td><td style=\"text-align: right;\">     9</td><td style=\"text-align: right;\">0.000127285</td><td style=\"text-align: right;\">         0.0567</td><td style=\"text-align: right;\">    38</td><td style=\"text-align: right;\">         307.694</td><td style=\"text-align: right;\">        190</td><td style=\"text-align: right;\"> 0.160284  </td><td style=\"text-align: right;\"> 0.15639   </td></tr>\n",
       "<tr><td>TrainLightGCN_63bfe1e1</td><td>TERMINATED</td><td>147.96.81.131:447662</td><td style=\"text-align: right;\">          10</td><td style=\"text-align: right;\">            2</td><td style=\"text-align: right;\">              5</td><td style=\"text-align: right;\">     9</td><td style=\"text-align: right;\">0.000747217</td><td style=\"text-align: right;\">         0.0199</td><td style=\"text-align: right;\">    30</td><td style=\"text-align: right;\">         313.09 </td><td style=\"text-align: right;\">        150</td><td style=\"text-align: right;\"> 0.0295431 </td><td style=\"text-align: right;\"> 0.0242344 </td></tr>\n",
       "<tr><td>TrainLightGCN_6fc42294</td><td>TERMINATED</td><td>147.96.81.131:448362</td><td style=\"text-align: right;\">           9</td><td style=\"text-align: right;\">            1</td><td style=\"text-align: right;\">             38</td><td style=\"text-align: right;\">     9</td><td style=\"text-align: right;\">0.000356791</td><td style=\"text-align: right;\">         0.0109</td><td style=\"text-align: right;\">    16</td><td style=\"text-align: right;\">         306.635</td><td style=\"text-align: right;\">         80</td><td style=\"text-align: right;\"> 0.0239093 </td><td style=\"text-align: right;\"> 0.0167413 </td></tr>\n",
       "<tr><td>TrainLightGCN_c48d0076</td><td>TERMINATED</td><td>147.96.81.131:448538</td><td style=\"text-align: right;\">          11</td><td style=\"text-align: right;\">            5</td><td style=\"text-align: right;\">              2</td><td style=\"text-align: right;\">     9</td><td style=\"text-align: right;\">0.000110443</td><td style=\"text-align: right;\">         0.0239</td><td style=\"text-align: right;\">    34</td><td style=\"text-align: right;\">         311.944</td><td style=\"text-align: right;\">        170</td><td style=\"text-align: right;\"> 0.0643884 </td><td style=\"text-align: right;\"> 0.0618104 </td></tr>\n",
       "<tr><td>TrainLightGCN_d33246db</td><td>TERMINATED</td><td>147.96.81.131:448772</td><td style=\"text-align: right;\">          10</td><td style=\"text-align: right;\">            3</td><td style=\"text-align: right;\">              3</td><td style=\"text-align: right;\">     9</td><td style=\"text-align: right;\">1.3915e-05 </td><td style=\"text-align: right;\">         0.0175</td><td style=\"text-align: right;\">    28</td><td style=\"text-align: right;\">         311.502</td><td style=\"text-align: right;\">        140</td><td style=\"text-align: right;\"> 0.0453236 </td><td style=\"text-align: right;\"> 0.044314  </td></tr>\n",
       "<tr><td>TrainLightGCN_e3c2a5c7</td><td>TERMINATED</td><td>147.96.81.131:449255</td><td style=\"text-align: right;\">           8</td><td style=\"text-align: right;\">            2</td><td style=\"text-align: right;\">              1</td><td style=\"text-align: right;\">     9</td><td style=\"text-align: right;\">0.000977795</td><td style=\"text-align: right;\">         0.0332</td><td style=\"text-align: right;\">    12</td><td style=\"text-align: right;\">         320.815</td><td style=\"text-align: right;\">         60</td><td style=\"text-align: right;\"> 0.202408  </td><td style=\"text-align: right;\"> 0.196997  </td></tr>\n",
       "<tr><td>TrainLightGCN_11af070c</td><td>TERMINATED</td><td>147.96.81.131:449941</td><td style=\"text-align: right;\">          10</td><td style=\"text-align: right;\">            1</td><td style=\"text-align: right;\">              1</td><td style=\"text-align: right;\">     9</td><td style=\"text-align: right;\">0.00997104 </td><td style=\"text-align: right;\">         0.0273</td><td style=\"text-align: right;\">    32</td><td style=\"text-align: right;\">         307.427</td><td style=\"text-align: right;\">        160</td><td style=\"text-align: right;\"> 0.344278  </td><td style=\"text-align: right;\"> 0.335397  </td></tr>\n",
       "<tr><td>TrainLightGCN_1094e427</td><td>TERMINATED</td><td>147.96.81.131:450157</td><td style=\"text-align: right;\">           9</td><td style=\"text-align: right;\">            2</td><td style=\"text-align: right;\">             20</td><td style=\"text-align: right;\">     9</td><td style=\"text-align: right;\">8.12103e-05</td><td style=\"text-align: right;\">         0.0126</td><td style=\"text-align: right;\">    20</td><td style=\"text-align: right;\">         317.676</td><td style=\"text-align: right;\">        100</td><td style=\"text-align: right;\"> 0.0132098 </td><td style=\"text-align: right;\"> 0.0112944 </td></tr>\n",
       "<tr><td>TrainLightGCN_c61db3a9</td><td>TERMINATED</td><td>147.96.81.131:450365</td><td style=\"text-align: right;\">          11</td><td style=\"text-align: right;\">            2</td><td style=\"text-align: right;\">              8</td><td style=\"text-align: right;\">     9</td><td style=\"text-align: right;\">0.00027191 </td><td style=\"text-align: right;\">         0.1211</td><td style=\"text-align: right;\">    40</td><td style=\"text-align: right;\">         313.382</td><td style=\"text-align: right;\">        200</td><td style=\"text-align: right;\"> 0.211003  </td><td style=\"text-align: right;\"> 0.179645  </td></tr>\n",
       "<tr><td>TrainLightGCN_806a0e62</td><td>TERMINATED</td><td>147.96.81.131:450878</td><td style=\"text-align: right;\">          11</td><td style=\"text-align: right;\">            1</td><td style=\"text-align: right;\">              1</td><td style=\"text-align: right;\">     9</td><td style=\"text-align: right;\">0.00281499 </td><td style=\"text-align: right;\">         0.379 </td><td style=\"text-align: right;\">    40</td><td style=\"text-align: right;\">         281.588</td><td style=\"text-align: right;\">        200</td><td style=\"text-align: right;\"> 0.875897  </td><td style=\"text-align: right;\"> 0.862191  </td></tr>\n",
       "</tbody>\n",
       "</table>\n",
       "  </div>\n",
       "</div>\n",
       "<style>\n",
       ".tuneStatus {\n",
       "  color: var(--jp-ui-font-color1);\n",
       "}\n",
       ".tuneStatus .systemInfo {\n",
       "  display: flex;\n",
       "  flex-direction: column;\n",
       "}\n",
       ".tuneStatus td {\n",
       "  white-space: nowrap;\n",
       "}\n",
       ".tuneStatus .trialStatus {\n",
       "  display: flex;\n",
       "  flex-direction: column;\n",
       "}\n",
       ".tuneStatus h3 {\n",
       "  font-weight: bold;\n",
       "}\n",
       ".tuneStatus .hDivider {\n",
       "  border-bottom-width: var(--jp-border-width);\n",
       "  border-bottom-color: var(--jp-border-color0);\n",
       "  border-bottom-style: solid;\n",
       "}\n",
       ".tuneStatus .vDivider {\n",
       "  border-left-width: var(--jp-border-width);\n",
       "  border-left-color: var(--jp-border-color0);\n",
       "  border-left-style: solid;\n",
       "  margin: 0.5em 1em 0.5em 1em;\n",
       "}\n",
       "</style>\n"
      ],
      "text/plain": [
       "<IPython.core.display.HTML object>"
      ]
     },
     "metadata": {},
     "output_type": "display_data"
    },
    {
     "name": "stderr",
     "output_type": "stream",
     "text": [
      "\u001b[36m(pid=411293)\u001b[0m 2024-03-24 01:57:00.936866: E tensorflow/compiler/xla/stream_executor/cuda/cuda_dnn.cc:9342] Unable to register cuDNN factory: Attempting to register factory for plugin cuDNN when one has already been registered\n",
      "\u001b[36m(pid=411293)\u001b[0m 2024-03-24 01:57:00.936900: E tensorflow/compiler/xla/stream_executor/cuda/cuda_fft.cc:609] Unable to register cuFFT factory: Attempting to register factory for plugin cuFFT when one has already been registered\n",
      "\u001b[36m(pid=411293)\u001b[0m 2024-03-24 01:57:00.936915: E tensorflow/compiler/xla/stream_executor/cuda/cuda_blas.cc:1518] Unable to register cuBLAS factory: Attempting to register factory for plugin cuBLAS when one has already been registered\n"
     ]
    },
    {
     "name": "stderr",
     "output_type": "stream",
     "text": [
      "\u001b[36m(TrainLightGCN pid=411293)\u001b[0m /home/daviddavo/upm-tfm-notebooks/.direnv/python-3.9/lib/python3.9/site-packages/recommenders/models/deeprec/DataModel/ImplicitCF.py:73: FutureWarning: The frame.append method is deprecated and will be removed from pandas in a future version. Use pandas.concat instead.\n",
      "\u001b[36m(TrainLightGCN pid=411293)\u001b[0m   df = train if test is None else train.append(test)\n"
     ]
    },
    {
     "name": "stdout",
     "output_type": "stream",
     "text": [
      "\u001b[36m(TrainLightGCN pid=411293)\u001b[0m Already create adjacency matrix.\n"
     ]
    },
    {
     "name": "stdout",
     "output_type": "stream",
     "text": [
      "\u001b[36m(TrainLightGCN pid=411293)\u001b[0m Already normalize adjacency matrix.\n",
      "\u001b[36m(TrainLightGCN pid=411293)\u001b[0m Using xavier initialization.\n"
     ]
    },
    {
     "name": "stderr",
     "output_type": "stream",
     "text": [
      "\u001b[36m(TrainLightGCN pid=411293)\u001b[0m Trainable.setup took 11.675 seconds. If your trainable is slow to initialize, consider setting reuse_actors=True to reduce actor creation overheads.\n"
     ]
    },
    {
     "name": "stderr",
     "output_type": "stream",
     "text": [
      "\u001b[36m(pid=411460)\u001b[0m 2024-03-24 01:57:15.666355: E tensorflow/compiler/xla/stream_executor/cuda/cuda_dnn.cc:9342] Unable to register cuDNN factory: Attempting to register factory for plugin cuDNN when one has already been registered\n",
      "\u001b[36m(pid=411460)\u001b[0m 2024-03-24 01:57:15.666390: E tensorflow/compiler/xla/stream_executor/cuda/cuda_fft.cc:609] Unable to register cuFFT factory: Attempting to register factory for plugin cuFFT when one has already been registered\n",
      "\u001b[36m(pid=411460)\u001b[0m 2024-03-24 01:57:15.666407: E tensorflow/compiler/xla/stream_executor/cuda/cuda_blas.cc:1518] Unable to register cuBLAS factory: Attempting to register factory for plugin cuBLAS when one has already been registered\n"
     ]
    },
    {
     "name": "stderr",
     "output_type": "stream",
     "text": [
      "\u001b[36m(TrainLightGCN pid=411460)\u001b[0m /home/daviddavo/upm-tfm-notebooks/.direnv/python-3.9/lib/python3.9/site-packages/recommenders/models/deeprec/DataModel/ImplicitCF.py:73: FutureWarning: The frame.append method is deprecated and will be removed from pandas in a future version. Use pandas.concat instead.\n",
      "\u001b[36m(TrainLightGCN pid=411460)\u001b[0m   df = train if test is None else train.append(test)\n"
     ]
    },
    {
     "name": "stdout",
     "output_type": "stream",
     "text": [
      "\u001b[36m(TrainLightGCN pid=411460)\u001b[0m Already create adjacency matrix.\n"
     ]
    },
    {
     "name": "stdout",
     "output_type": "stream",
     "text": [
      "\u001b[36m(TrainLightGCN pid=411460)\u001b[0m Already normalize adjacency matrix.\n",
      "\u001b[36m(TrainLightGCN pid=411460)\u001b[0m Using xavier initialization.\n"
     ]
    },
    {
     "name": "stderr",
     "output_type": "stream",
     "text": [
      "\u001b[36m(TrainLightGCN pid=411460)\u001b[0m Trainable.setup took 11.580 seconds. If your trainable is slow to initialize, consider setting reuse_actors=True to reduce actor creation overheads.\n"
     ]
    },
    {
     "name": "stderr",
     "output_type": "stream",
     "text": [
      "\u001b[36m(pid=411655)\u001b[0m 2024-03-24 01:57:30.354932: E tensorflow/compiler/xla/stream_executor/cuda/cuda_dnn.cc:9342] Unable to register cuDNN factory: Attempting to register factory for plugin cuDNN when one has already been registered\n",
      "\u001b[36m(pid=411655)\u001b[0m 2024-03-24 01:57:30.354972: E tensorflow/compiler/xla/stream_executor/cuda/cuda_fft.cc:609] Unable to register cuFFT factory: Attempting to register factory for plugin cuFFT when one has already been registered\n",
      "\u001b[36m(pid=411655)\u001b[0m 2024-03-24 01:57:30.354989: E tensorflow/compiler/xla/stream_executor/cuda/cuda_blas.cc:1518] Unable to register cuBLAS factory: Attempting to register factory for plugin cuBLAS when one has already been registered\n"
     ]
    },
    {
     "name": "stderr",
     "output_type": "stream",
     "text": [
      "\u001b[36m(TrainLightGCN pid=411655)\u001b[0m /home/daviddavo/upm-tfm-notebooks/.direnv/python-3.9/lib/python3.9/site-packages/recommenders/models/deeprec/DataModel/ImplicitCF.py:73: FutureWarning: The frame.append method is deprecated and will be removed from pandas in a future version. Use pandas.concat instead.\n",
      "\u001b[36m(TrainLightGCN pid=411655)\u001b[0m   df = train if test is None else train.append(test)\n"
     ]
    },
    {
     "name": "stdout",
     "output_type": "stream",
     "text": [
      "\u001b[36m(TrainLightGCN pid=411655)\u001b[0m Already create adjacency matrix.\n"
     ]
    },
    {
     "name": "stdout",
     "output_type": "stream",
     "text": [
      "\u001b[36m(TrainLightGCN pid=411655)\u001b[0m Already normalize adjacency matrix.\n",
      "\u001b[36m(TrainLightGCN pid=411655)\u001b[0m Using xavier initialization.\n"
     ]
    },
    {
     "name": "stderr",
     "output_type": "stream",
     "text": [
      "\u001b[36m(TrainLightGCN pid=411655)\u001b[0m Trainable.setup took 11.602 seconds. If your trainable is slow to initialize, consider setting reuse_actors=True to reduce actor creation overheads.\n"
     ]
    },
    {
     "name": "stderr",
     "output_type": "stream",
     "text": [
      "\u001b[36m(pid=411849)\u001b[0m 2024-03-24 01:57:45.095687: E tensorflow/compiler/xla/stream_executor/cuda/cuda_dnn.cc:9342] Unable to register cuDNN factory: Attempting to register factory for plugin cuDNN when one has already been registered\n",
      "\u001b[36m(pid=411849)\u001b[0m 2024-03-24 01:57:45.095724: E tensorflow/compiler/xla/stream_executor/cuda/cuda_fft.cc:609] Unable to register cuFFT factory: Attempting to register factory for plugin cuFFT when one has already been registered\n",
      "\u001b[36m(pid=411849)\u001b[0m 2024-03-24 01:57:45.095740: E tensorflow/compiler/xla/stream_executor/cuda/cuda_blas.cc:1518] Unable to register cuBLAS factory: Attempting to register factory for plugin cuBLAS when one has already been registered\n"
     ]
    },
    {
     "name": "stderr",
     "output_type": "stream",
     "text": [
      "\u001b[36m(TrainLightGCN pid=411849)\u001b[0m /home/daviddavo/upm-tfm-notebooks/.direnv/python-3.9/lib/python3.9/site-packages/recommenders/models/deeprec/DataModel/ImplicitCF.py:73: FutureWarning: The frame.append method is deprecated and will be removed from pandas in a future version. Use pandas.concat instead.\n",
      "\u001b[36m(TrainLightGCN pid=411849)\u001b[0m   df = train if test is None else train.append(test)\n"
     ]
    },
    {
     "name": "stdout",
     "output_type": "stream",
     "text": [
      "\u001b[36m(TrainLightGCN pid=411849)\u001b[0m Already create adjacency matrix.\n"
     ]
    },
    {
     "name": "stdout",
     "output_type": "stream",
     "text": [
      "\u001b[36m(TrainLightGCN pid=411849)\u001b[0m Already normalize adjacency matrix.\n",
      "\u001b[36m(TrainLightGCN pid=411849)\u001b[0m Using xavier initialization.\n"
     ]
    },
    {
     "name": "stderr",
     "output_type": "stream",
     "text": [
      "\u001b[36m(TrainLightGCN pid=411849)\u001b[0m Trainable.setup took 11.700 seconds. If your trainable is slow to initialize, consider setting reuse_actors=True to reduce actor creation overheads.\n"
     ]
    },
    {
     "name": "stderr",
     "output_type": "stream",
     "text": [
      "\u001b[36m(TrainLightGCN pid=411293)\u001b[0m Checkpoint successfully created at: Checkpoint(filesystem=local, path=/home/daviddavo/ray_results/LightGCN_optim=map@10,dao=PancakeSwap,freq=3d,normalize=True,cutoff_date=2023-07-01T00:00:00,fold=9_2024-03-24T01:56:59.853079/TrainLightGCN_d075a437_1_batch_size=11,conv_layers=1,embedding_dim=1,fold=9,l2=0.0000,learning_rate=0.0137_2024-03-24_01-56-59/checkpoint_000000)\n"
     ]
    },
    {
     "name": "stderr",
     "output_type": "stream",
     "text": [
      "\u001b[36m(pid=412849)\u001b[0m 2024-03-24 02:02:23.975495: E tensorflow/compiler/xla/stream_executor/cuda/cuda_dnn.cc:9342] Unable to register cuDNN factory: Attempting to register factory for plugin cuDNN when one has already been registered\n",
      "\u001b[36m(pid=412849)\u001b[0m 2024-03-24 02:02:23.975531: E tensorflow/compiler/xla/stream_executor/cuda/cuda_fft.cc:609] Unable to register cuFFT factory: Attempting to register factory for plugin cuFFT when one has already been registered\n",
      "\u001b[36m(pid=412849)\u001b[0m 2024-03-24 02:02:23.975545: E tensorflow/compiler/xla/stream_executor/cuda/cuda_blas.cc:1518] Unable to register cuBLAS factory: Attempting to register factory for plugin cuBLAS when one has already been registered\n"
     ]
    },
    {
     "name": "stderr",
     "output_type": "stream",
     "text": [
      "\u001b[36m(TrainLightGCN pid=412849)\u001b[0m /home/daviddavo/upm-tfm-notebooks/.direnv/python-3.9/lib/python3.9/site-packages/recommenders/models/deeprec/DataModel/ImplicitCF.py:73: FutureWarning: The frame.append method is deprecated and will be removed from pandas in a future version. Use pandas.concat instead.\n",
      "\u001b[36m(TrainLightGCN pid=412849)\u001b[0m   df = train if test is None else train.append(test)\n"
     ]
    },
    {
     "name": "stdout",
     "output_type": "stream",
     "text": [
      "\u001b[36m(TrainLightGCN pid=412849)\u001b[0m Already create adjacency matrix.\n"
     ]
    },
    {
     "name": "stdout",
     "output_type": "stream",
     "text": [
      "\u001b[36m(TrainLightGCN pid=412849)\u001b[0m Already normalize adjacency matrix.\n",
      "\u001b[36m(TrainLightGCN pid=412849)\u001b[0m Using xavier initialization.\n"
     ]
    },
    {
     "name": "stderr",
     "output_type": "stream",
     "text": [
      "\u001b[36m(TrainLightGCN pid=412849)\u001b[0m Trainable.setup took 12.197 seconds. If your trainable is slow to initialize, consider setting reuse_actors=True to reduce actor creation overheads.\n"
     ]
    },
    {
     "name": "stderr",
     "output_type": "stream",
     "text": [
      "\u001b[36m(TrainLightGCN pid=411460)\u001b[0m Checkpoint successfully created at: Checkpoint(filesystem=local, path=/home/daviddavo/ray_results/LightGCN_optim=map@10,dao=PancakeSwap,freq=3d,normalize=True,cutoff_date=2023-07-01T00:00:00,fold=9_2024-03-24T01:56:59.853079/TrainLightGCN_e8dc8935_2_batch_size=10,conv_layers=5,embedding_dim=15,fold=9,l2=0.0000,learning_rate=0.4844_2024-03-24_01-57-14/checkpoint_000000)\n"
     ]
    },
    {
     "name": "stderr",
     "output_type": "stream",
     "text": [
      "\u001b[36m(pid=413069)\u001b[0m 2024-03-24 02:02:45.972443: E tensorflow/compiler/xla/stream_executor/cuda/cuda_dnn.cc:9342] Unable to register cuDNN factory: Attempting to register factory for plugin cuDNN when one has already been registered\n",
      "\u001b[36m(pid=413069)\u001b[0m 2024-03-24 02:02:45.972478: E tensorflow/compiler/xla/stream_executor/cuda/cuda_fft.cc:609] Unable to register cuFFT factory: Attempting to register factory for plugin cuFFT when one has already been registered\n",
      "\u001b[36m(pid=413069)\u001b[0m 2024-03-24 02:02:45.972491: E tensorflow/compiler/xla/stream_executor/cuda/cuda_blas.cc:1518] Unable to register cuBLAS factory: Attempting to register factory for plugin cuBLAS when one has already been registered\n"
     ]
    },
    {
     "name": "stderr",
     "output_type": "stream",
     "text": [
      "\u001b[36m(TrainLightGCN pid=413069)\u001b[0m /home/daviddavo/upm-tfm-notebooks/.direnv/python-3.9/lib/python3.9/site-packages/recommenders/models/deeprec/DataModel/ImplicitCF.py:73: FutureWarning: The frame.append method is deprecated and will be removed from pandas in a future version. Use pandas.concat instead.\n",
      "\u001b[36m(TrainLightGCN pid=413069)\u001b[0m   df = train if test is None else train.append(test)\n"
     ]
    },
    {
     "name": "stderr",
     "output_type": "stream",
     "text": [
      "\u001b[36m(TrainLightGCN pid=411655)\u001b[0m Checkpoint successfully created at: Checkpoint(filesystem=local, path=/home/daviddavo/ray_results/LightGCN_optim=map@10,dao=PancakeSwap,freq=3d,normalize=True,cutoff_date=2023-07-01T00:00:00,fold=9_2024-03-24T01:56:59.853079/TrainLightGCN_2c558dcb_3_batch_size=12,conv_layers=3,embedding_dim=3,fold=9,l2=0.0001,learning_rate=0.4690_2024-03-24_01-57-29/checkpoint_000000)\n"
     ]
    },
    {
     "name": "stdout",
     "output_type": "stream",
     "text": [
      "\u001b[36m(TrainLightGCN pid=413069)\u001b[0m Already create adjacency matrix.\n"
     ]
    },
    {
     "name": "stdout",
     "output_type": "stream",
     "text": [
      "\u001b[36m(TrainLightGCN pid=413069)\u001b[0m Already normalize adjacency matrix.\n",
      "\u001b[36m(TrainLightGCN pid=413069)\u001b[0m Using xavier initialization.\n"
     ]
    },
    {
     "name": "stderr",
     "output_type": "stream",
     "text": [
      "\u001b[36m(TrainLightGCN pid=413069)\u001b[0m Trainable.setup took 12.289 seconds. If your trainable is slow to initialize, consider setting reuse_actors=True to reduce actor creation overheads.\n"
     ]
    },
    {
     "name": "stderr",
     "output_type": "stream",
     "text": [
      "\u001b[36m(pid=413248)\u001b[0m 2024-03-24 02:03:01.358326: E tensorflow/compiler/xla/stream_executor/cuda/cuda_dnn.cc:9342] Unable to register cuDNN factory: Attempting to register factory for plugin cuDNN when one has already been registered\n",
      "\u001b[36m(pid=413248)\u001b[0m 2024-03-24 02:03:01.358362: E tensorflow/compiler/xla/stream_executor/cuda/cuda_fft.cc:609] Unable to register cuFFT factory: Attempting to register factory for plugin cuFFT when one has already been registered\n",
      "\u001b[36m(pid=413248)\u001b[0m 2024-03-24 02:03:01.358379: E tensorflow/compiler/xla/stream_executor/cuda/cuda_blas.cc:1518] Unable to register cuBLAS factory: Attempting to register factory for plugin cuBLAS when one has already been registered\n"
     ]
    },
    {
     "name": "stderr",
     "output_type": "stream",
     "text": [
      "\u001b[36m(TrainLightGCN pid=413248)\u001b[0m /home/daviddavo/upm-tfm-notebooks/.direnv/python-3.9/lib/python3.9/site-packages/recommenders/models/deeprec/DataModel/ImplicitCF.py:73: FutureWarning: The frame.append method is deprecated and will be removed from pandas in a future version. Use pandas.concat instead.\n",
      "\u001b[36m(TrainLightGCN pid=413248)\u001b[0m   df = train if test is None else train.append(test)\n"
     ]
    },
    {
     "name": "stdout",
     "output_type": "stream",
     "text": [
      "\u001b[36m(TrainLightGCN pid=413248)\u001b[0m Already create adjacency matrix.\n"
     ]
    },
    {
     "name": "stdout",
     "output_type": "stream",
     "text": [
      "\u001b[36m(TrainLightGCN pid=413248)\u001b[0m Already normalize adjacency matrix.\n",
      "\u001b[36m(TrainLightGCN pid=413248)\u001b[0m Using xavier initialization.\n"
     ]
    },
    {
     "name": "stderr",
     "output_type": "stream",
     "text": [
      "\u001b[36m(TrainLightGCN pid=413248)\u001b[0m Trainable.setup took 12.255 seconds. If your trainable is slow to initialize, consider setting reuse_actors=True to reduce actor creation overheads.\n"
     ]
    },
    {
     "name": "stderr",
     "output_type": "stream",
     "text": [
      "\u001b[36m(TrainLightGCN pid=411849)\u001b[0m Checkpoint successfully created at: Checkpoint(filesystem=local, path=/home/daviddavo/ray_results/LightGCN_optim=map@10,dao=PancakeSwap,freq=3d,normalize=True,cutoff_date=2023-07-01T00:00:00,fold=9_2024-03-24T01:56:59.853079/TrainLightGCN_8e7cc0f5_4_batch_size=9,conv_layers=4,embedding_dim=97,fold=9,l2=0.0000,learning_rate=0.0806_2024-03-24_01-57-44/checkpoint_000000)\n"
     ]
    },
    {
     "name": "stderr",
     "output_type": "stream",
     "text": [
      "\u001b[36m(pid=413491)\u001b[0m 2024-03-24 02:03:23.995473: E tensorflow/compiler/xla/stream_executor/cuda/cuda_dnn.cc:9342] Unable to register cuDNN factory: Attempting to register factory for plugin cuDNN when one has already been registered\n",
      "\u001b[36m(pid=413491)\u001b[0m 2024-03-24 02:03:23.995507: E tensorflow/compiler/xla/stream_executor/cuda/cuda_fft.cc:609] Unable to register cuFFT factory: Attempting to register factory for plugin cuFFT when one has already been registered\n",
      "\u001b[36m(pid=413491)\u001b[0m 2024-03-24 02:03:23.995521: E tensorflow/compiler/xla/stream_executor/cuda/cuda_blas.cc:1518] Unable to register cuBLAS factory: Attempting to register factory for plugin cuBLAS when one has already been registered\n"
     ]
    },
    {
     "name": "stderr",
     "output_type": "stream",
     "text": [
      "\u001b[36m(TrainLightGCN pid=413491)\u001b[0m /home/daviddavo/upm-tfm-notebooks/.direnv/python-3.9/lib/python3.9/site-packages/recommenders/models/deeprec/DataModel/ImplicitCF.py:73: FutureWarning: The frame.append method is deprecated and will be removed from pandas in a future version. Use pandas.concat instead.\n",
      "\u001b[36m(TrainLightGCN pid=413491)\u001b[0m   df = train if test is None else train.append(test)\n"
     ]
    },
    {
     "name": "stdout",
     "output_type": "stream",
     "text": [
      "\u001b[36m(TrainLightGCN pid=413491)\u001b[0m Already create adjacency matrix.\n"
     ]
    },
    {
     "name": "stdout",
     "output_type": "stream",
     "text": [
      "\u001b[36m(TrainLightGCN pid=413491)\u001b[0m Already normalize adjacency matrix.\n",
      "\u001b[36m(TrainLightGCN pid=413491)\u001b[0m Using xavier initialization.\n"
     ]
    },
    {
     "name": "stderr",
     "output_type": "stream",
     "text": [
      "\u001b[36m(TrainLightGCN pid=413491)\u001b[0m Trainable.setup took 12.040 seconds. If your trainable is slow to initialize, consider setting reuse_actors=True to reduce actor creation overheads.\n"
     ]
    },
    {
     "name": "stderr",
     "output_type": "stream",
     "text": [
      "\u001b[36m(TrainLightGCN pid=413491)\u001b[0m Checkpoint successfully created at: Checkpoint(filesystem=local, path=/home/daviddavo/ray_results/LightGCN_optim=map@10,dao=PancakeSwap,freq=3d,normalize=True,cutoff_date=2023-07-01T00:00:00,fold=9_2024-03-24T01:56:59.853079/TrainLightGCN_8f050947_8_batch_size=11,conv_layers=4,embedding_dim=123,fold=9,l2=0.0041,learning_rate=0.0378_2024-03-24_02-03-15/checkpoint_000000)\n"
     ]
    },
    {
     "name": "stderr",
     "output_type": "stream",
     "text": [
      "\u001b[36m(pid=414713)\u001b[0m 2024-03-24 02:09:25.048495: E tensorflow/compiler/xla/stream_executor/cuda/cuda_dnn.cc:9342] Unable to register cuDNN factory: Attempting to register factory for plugin cuDNN when one has already been registered\n",
      "\u001b[36m(pid=414713)\u001b[0m 2024-03-24 02:09:25.048527: E tensorflow/compiler/xla/stream_executor/cuda/cuda_fft.cc:609] Unable to register cuFFT factory: Attempting to register factory for plugin cuFFT when one has already been registered\n",
      "\u001b[36m(pid=414713)\u001b[0m 2024-03-24 02:09:25.048541: E tensorflow/compiler/xla/stream_executor/cuda/cuda_blas.cc:1518] Unable to register cuBLAS factory: Attempting to register factory for plugin cuBLAS when one has already been registered\n"
     ]
    },
    {
     "name": "stderr",
     "output_type": "stream",
     "text": [
      "\u001b[36m(TrainLightGCN pid=414713)\u001b[0m /home/daviddavo/upm-tfm-notebooks/.direnv/python-3.9/lib/python3.9/site-packages/recommenders/models/deeprec/DataModel/ImplicitCF.py:73: FutureWarning: The frame.append method is deprecated and will be removed from pandas in a future version. Use pandas.concat instead.\n",
      "\u001b[36m(TrainLightGCN pid=414713)\u001b[0m   df = train if test is None else train.append(test)\n"
     ]
    },
    {
     "name": "stdout",
     "output_type": "stream",
     "text": [
      "\u001b[36m(TrainLightGCN pid=414713)\u001b[0m Already create adjacency matrix.\n"
     ]
    },
    {
     "name": "stdout",
     "output_type": "stream",
     "text": [
      "\u001b[36m(TrainLightGCN pid=414713)\u001b[0m Already normalize adjacency matrix.\n",
      "\u001b[36m(TrainLightGCN pid=414713)\u001b[0m Using xavier initialization.\n"
     ]
    },
    {
     "name": "stderr",
     "output_type": "stream",
     "text": [
      "\u001b[36m(TrainLightGCN pid=414713)\u001b[0m Trainable.setup took 11.909 seconds. If your trainable is slow to initialize, consider setting reuse_actors=True to reduce actor creation overheads.\n"
     ]
    },
    {
     "name": "stderr",
     "output_type": "stream",
     "text": [
      "\u001b[36m(TrainLightGCN pid=413069)\u001b[0m Checkpoint successfully created at: Checkpoint(filesystem=local, path=/home/daviddavo/ray_results/LightGCN_optim=map@10,dao=PancakeSwap,freq=3d,normalize=True,cutoff_date=2023-07-01T00:00:00,fold=9_2024-03-24T01:56:59.853079/TrainLightGCN_dd0e8b3e_6_batch_size=7,conv_layers=4,embedding_dim=5,fold=9,l2=0.0040,learning_rate=0.0618_2024-03-24_02-02-38/checkpoint_000000)\n"
     ]
    },
    {
     "name": "stderr",
     "output_type": "stream",
     "text": [
      "\u001b[36m(pid=414984)\u001b[0m 2024-03-24 02:10:05.068830: E tensorflow/compiler/xla/stream_executor/cuda/cuda_dnn.cc:9342] Unable to register cuDNN factory: Attempting to register factory for plugin cuDNN when one has already been registered\n",
      "\u001b[36m(pid=414984)\u001b[0m 2024-03-24 02:10:05.068863: E tensorflow/compiler/xla/stream_executor/cuda/cuda_fft.cc:609] Unable to register cuFFT factory: Attempting to register factory for plugin cuFFT when one has already been registered\n",
      "\u001b[36m(pid=414984)\u001b[0m 2024-03-24 02:10:05.068880: E tensorflow/compiler/xla/stream_executor/cuda/cuda_blas.cc:1518] Unable to register cuBLAS factory: Attempting to register factory for plugin cuBLAS when one has already been registered\n"
     ]
    },
    {
     "name": "stderr",
     "output_type": "stream",
     "text": [
      "\u001b[36m(TrainLightGCN pid=414984)\u001b[0m /home/daviddavo/upm-tfm-notebooks/.direnv/python-3.9/lib/python3.9/site-packages/recommenders/models/deeprec/DataModel/ImplicitCF.py:73: FutureWarning: The frame.append method is deprecated and will be removed from pandas in a future version. Use pandas.concat instead.\n",
      "\u001b[36m(TrainLightGCN pid=414984)\u001b[0m   df = train if test is None else train.append(test)\n"
     ]
    },
    {
     "name": "stdout",
     "output_type": "stream",
     "text": [
      "\u001b[36m(TrainLightGCN pid=414984)\u001b[0m Already create adjacency matrix.\n"
     ]
    },
    {
     "name": "stdout",
     "output_type": "stream",
     "text": [
      "\u001b[36m(TrainLightGCN pid=414984)\u001b[0m Already normalize adjacency matrix.\n",
      "\u001b[36m(TrainLightGCN pid=414984)\u001b[0m Using xavier initialization.\n"
     ]
    },
    {
     "name": "stderr",
     "output_type": "stream",
     "text": [
      "\u001b[36m(TrainLightGCN pid=414984)\u001b[0m Trainable.setup took 12.134 seconds. If your trainable is slow to initialize, consider setting reuse_actors=True to reduce actor creation overheads.\n"
     ]
    },
    {
     "name": "stderr",
     "output_type": "stream",
     "text": [
      "\u001b[36m(TrainLightGCN pid=413248)\u001b[0m Checkpoint successfully created at: Checkpoint(filesystem=local, path=/home/daviddavo/ray_results/LightGCN_optim=map@10,dao=PancakeSwap,freq=3d,normalize=True,cutoff_date=2023-07-01T00:00:00,fold=9_2024-03-24T01:56:59.853079/TrainLightGCN_1f0195ca_7_batch_size=7,conv_layers=3,embedding_dim=3,fold=9,l2=0.0011,learning_rate=0.0156_2024-03-24_02-03-00/checkpoint_000000)\n"
     ]
    },
    {
     "name": "stderr",
     "output_type": "stream",
     "text": [
      "\u001b[36m(pid=415190)\u001b[0m 2024-03-24 02:10:22.052192: E tensorflow/compiler/xla/stream_executor/cuda/cuda_dnn.cc:9342] Unable to register cuDNN factory: Attempting to register factory for plugin cuDNN when one has already been registered\n",
      "\u001b[36m(pid=415190)\u001b[0m 2024-03-24 02:10:22.052226: E tensorflow/compiler/xla/stream_executor/cuda/cuda_fft.cc:609] Unable to register cuFFT factory: Attempting to register factory for plugin cuFFT when one has already been registered\n",
      "\u001b[36m(pid=415190)\u001b[0m 2024-03-24 02:10:22.052240: E tensorflow/compiler/xla/stream_executor/cuda/cuda_blas.cc:1518] Unable to register cuBLAS factory: Attempting to register factory for plugin cuBLAS when one has already been registered\n"
     ]
    },
    {
     "name": "stderr",
     "output_type": "stream",
     "text": [
      "\u001b[36m(TrainLightGCN pid=415190)\u001b[0m /home/daviddavo/upm-tfm-notebooks/.direnv/python-3.9/lib/python3.9/site-packages/recommenders/models/deeprec/DataModel/ImplicitCF.py:73: FutureWarning: The frame.append method is deprecated and will be removed from pandas in a future version. Use pandas.concat instead.\n",
      "\u001b[36m(TrainLightGCN pid=415190)\u001b[0m   df = train if test is None else train.append(test)\n"
     ]
    },
    {
     "name": "stdout",
     "output_type": "stream",
     "text": [
      "\u001b[36m(TrainLightGCN pid=415190)\u001b[0m Already create adjacency matrix.\n"
     ]
    },
    {
     "name": "stdout",
     "output_type": "stream",
     "text": [
      "\u001b[36m(TrainLightGCN pid=415190)\u001b[0m Already normalize adjacency matrix.\n",
      "\u001b[36m(TrainLightGCN pid=415190)\u001b[0m Using xavier initialization.\n"
     ]
    },
    {
     "name": "stderr",
     "output_type": "stream",
     "text": [
      "\u001b[36m(TrainLightGCN pid=415190)\u001b[0m Trainable.setup took 12.216 seconds. If your trainable is slow to initialize, consider setting reuse_actors=True to reduce actor creation overheads.\n"
     ]
    },
    {
     "name": "stderr",
     "output_type": "stream",
     "text": [
      "\u001b[36m(TrainLightGCN pid=412849)\u001b[0m Checkpoint successfully created at: Checkpoint(filesystem=local, path=/home/daviddavo/ray_results/LightGCN_optim=map@10,dao=PancakeSwap,freq=3d,normalize=True,cutoff_date=2023-07-01T00:00:00,fold=9_2024-03-24T01:56:59.853079/TrainLightGCN_b12508d8_5_batch_size=7,conv_layers=3,embedding_dim=74,fold=9,l2=0.0000,learning_rate=0.0230_2024-03-24_01-57-58/checkpoint_000000)\n"
     ]
    },
    {
     "name": "stderr",
     "output_type": "stream",
     "text": [
      "\u001b[36m(pid=415684)\u001b[0m 2024-03-24 02:12:16.071995: E tensorflow/compiler/xla/stream_executor/cuda/cuda_dnn.cc:9342] Unable to register cuDNN factory: Attempting to register factory for plugin cuDNN when one has already been registered\n",
      "\u001b[36m(pid=415684)\u001b[0m 2024-03-24 02:12:16.072031: E tensorflow/compiler/xla/stream_executor/cuda/cuda_fft.cc:609] Unable to register cuFFT factory: Attempting to register factory for plugin cuFFT when one has already been registered\n",
      "\u001b[36m(pid=415684)\u001b[0m 2024-03-24 02:12:16.072046: E tensorflow/compiler/xla/stream_executor/cuda/cuda_blas.cc:1518] Unable to register cuBLAS factory: Attempting to register factory for plugin cuBLAS when one has already been registered\n"
     ]
    },
    {
     "name": "stderr",
     "output_type": "stream",
     "text": [
      "\u001b[36m(TrainLightGCN pid=415684)\u001b[0m /home/daviddavo/upm-tfm-notebooks/.direnv/python-3.9/lib/python3.9/site-packages/recommenders/models/deeprec/DataModel/ImplicitCF.py:73: FutureWarning: The frame.append method is deprecated and will be removed from pandas in a future version. Use pandas.concat instead.\n",
      "\u001b[36m(TrainLightGCN pid=415684)\u001b[0m   df = train if test is None else train.append(test)\n"
     ]
    },
    {
     "name": "stdout",
     "output_type": "stream",
     "text": [
      "\u001b[36m(TrainLightGCN pid=415684)\u001b[0m Already create adjacency matrix.\n"
     ]
    },
    {
     "name": "stdout",
     "output_type": "stream",
     "text": [
      "\u001b[36m(TrainLightGCN pid=415684)\u001b[0m Already normalize adjacency matrix.\n",
      "\u001b[36m(TrainLightGCN pid=415684)\u001b[0m Using xavier initialization.\n"
     ]
    },
    {
     "name": "stderr",
     "output_type": "stream",
     "text": [
      "\u001b[36m(TrainLightGCN pid=415684)\u001b[0m Trainable.setup took 11.896 seconds. If your trainable is slow to initialize, consider setting reuse_actors=True to reduce actor creation overheads.\n"
     ]
    },
    {
     "name": "stderr",
     "output_type": "stream",
     "text": [
      "\u001b[36m(TrainLightGCN pid=414713)\u001b[0m Checkpoint successfully created at: Checkpoint(filesystem=local, path=/home/daviddavo/ray_results/LightGCN_optim=map@10,dao=PancakeSwap,freq=3d,normalize=True,cutoff_date=2023-07-01T00:00:00,fold=9_2024-03-24T01:56:59.853079/TrainLightGCN_e7b8e4b0_9_batch_size=7,conv_layers=1,embedding_dim=71,fold=9,l2=0.0000,learning_rate=0.0922_2024-03-24_02-03-38/checkpoint_000000)\n"
     ]
    },
    {
     "name": "stderr",
     "output_type": "stream",
     "text": [
      "\u001b[36m(pid=416333)\u001b[0m 2024-03-24 02:15:03.100955: E tensorflow/compiler/xla/stream_executor/cuda/cuda_dnn.cc:9342] Unable to register cuDNN factory: Attempting to register factory for plugin cuDNN when one has already been registered\n",
      "\u001b[36m(pid=416333)\u001b[0m 2024-03-24 02:15:03.100992: E tensorflow/compiler/xla/stream_executor/cuda/cuda_fft.cc:609] Unable to register cuFFT factory: Attempting to register factory for plugin cuFFT when one has already been registered\n",
      "\u001b[36m(pid=416333)\u001b[0m 2024-03-24 02:15:03.101008: E tensorflow/compiler/xla/stream_executor/cuda/cuda_blas.cc:1518] Unable to register cuBLAS factory: Attempting to register factory for plugin cuBLAS when one has already been registered\n"
     ]
    },
    {
     "name": "stderr",
     "output_type": "stream",
     "text": [
      "\u001b[36m(TrainLightGCN pid=416333)\u001b[0m /home/daviddavo/upm-tfm-notebooks/.direnv/python-3.9/lib/python3.9/site-packages/recommenders/models/deeprec/DataModel/ImplicitCF.py:73: FutureWarning: The frame.append method is deprecated and will be removed from pandas in a future version. Use pandas.concat instead.\n",
      "\u001b[36m(TrainLightGCN pid=416333)\u001b[0m   df = train if test is None else train.append(test)\n"
     ]
    },
    {
     "name": "stdout",
     "output_type": "stream",
     "text": [
      "\u001b[36m(TrainLightGCN pid=416333)\u001b[0m Already create adjacency matrix.\n"
     ]
    },
    {
     "name": "stdout",
     "output_type": "stream",
     "text": [
      "\u001b[36m(TrainLightGCN pid=416333)\u001b[0m Already normalize adjacency matrix.\n",
      "\u001b[36m(TrainLightGCN pid=416333)\u001b[0m Using xavier initialization.\n"
     ]
    },
    {
     "name": "stderr",
     "output_type": "stream",
     "text": [
      "\u001b[36m(TrainLightGCN pid=416333)\u001b[0m Trainable.setup took 11.801 seconds. If your trainable is slow to initialize, consider setting reuse_actors=True to reduce actor creation overheads.\n"
     ]
    },
    {
     "name": "stderr",
     "output_type": "stream",
     "text": [
      "\u001b[36m(TrainLightGCN pid=414984)\u001b[0m Checkpoint successfully created at: Checkpoint(filesystem=local, path=/home/daviddavo/ray_results/LightGCN_optim=map@10,dao=PancakeSwap,freq=3d,normalize=True,cutoff_date=2023-07-01T00:00:00,fold=9_2024-03-24T01:56:59.853079/TrainLightGCN_f84ed4b5_10_batch_size=12,conv_layers=4,embedding_dim=44,fold=9,l2=0.0005,learning_rate=0.0118_2024-03-24_02-09-39/checkpoint_000000)\n"
     ]
    },
    {
     "name": "stderr",
     "output_type": "stream",
     "text": [
      "\u001b[36m(pid=416585)\u001b[0m 2024-03-24 02:15:35.097141: E tensorflow/compiler/xla/stream_executor/cuda/cuda_dnn.cc:9342] Unable to register cuDNN factory: Attempting to register factory for plugin cuDNN when one has already been registered\n",
      "\u001b[36m(pid=416585)\u001b[0m 2024-03-24 02:15:35.097173: E tensorflow/compiler/xla/stream_executor/cuda/cuda_fft.cc:609] Unable to register cuFFT factory: Attempting to register factory for plugin cuFFT when one has already been registered\n",
      "\u001b[36m(pid=416585)\u001b[0m 2024-03-24 02:15:35.097188: E tensorflow/compiler/xla/stream_executor/cuda/cuda_blas.cc:1518] Unable to register cuBLAS factory: Attempting to register factory for plugin cuBLAS when one has already been registered\n"
     ]
    },
    {
     "name": "stderr",
     "output_type": "stream",
     "text": [
      "\u001b[36m(TrainLightGCN pid=416585)\u001b[0m /home/daviddavo/upm-tfm-notebooks/.direnv/python-3.9/lib/python3.9/site-packages/recommenders/models/deeprec/DataModel/ImplicitCF.py:73: FutureWarning: The frame.append method is deprecated and will be removed from pandas in a future version. Use pandas.concat instead.\n",
      "\u001b[36m(TrainLightGCN pid=416585)\u001b[0m   df = train if test is None else train.append(test)\n"
     ]
    },
    {
     "name": "stdout",
     "output_type": "stream",
     "text": [
      "\u001b[36m(TrainLightGCN pid=416585)\u001b[0m Already create adjacency matrix.\n"
     ]
    },
    {
     "name": "stdout",
     "output_type": "stream",
     "text": [
      "\u001b[36m(TrainLightGCN pid=416585)\u001b[0m Already normalize adjacency matrix.\n",
      "\u001b[36m(TrainLightGCN pid=416585)\u001b[0m Using xavier initialization.\n"
     ]
    },
    {
     "name": "stderr",
     "output_type": "stream",
     "text": [
      "\u001b[36m(TrainLightGCN pid=416585)\u001b[0m Trainable.setup took 11.822 seconds. If your trainable is slow to initialize, consider setting reuse_actors=True to reduce actor creation overheads.\n"
     ]
    },
    {
     "name": "stderr",
     "output_type": "stream",
     "text": [
      "\u001b[36m(TrainLightGCN pid=415190)\u001b[0m Checkpoint successfully created at: Checkpoint(filesystem=local, path=/home/daviddavo/ray_results/LightGCN_optim=map@10,dao=PancakeSwap,freq=3d,normalize=True,cutoff_date=2023-07-01T00:00:00,fold=9_2024-03-24T01:56:59.853079/TrainLightGCN_d8638c6c_11_batch_size=8,conv_layers=3,embedding_dim=4,fold=9,l2=0.0061,learning_rate=0.4493_2024-03-24_02-10-19/checkpoint_000000)\n"
     ]
    },
    {
     "name": "stderr",
     "output_type": "stream",
     "text": [
      "\u001b[36m(pid=416901)\u001b[0m 2024-03-24 02:16:29.084194: E tensorflow/compiler/xla/stream_executor/cuda/cuda_dnn.cc:9342] Unable to register cuDNN factory: Attempting to register factory for plugin cuDNN when one has already been registered\n",
      "\u001b[36m(pid=416901)\u001b[0m 2024-03-24 02:16:29.084232: E tensorflow/compiler/xla/stream_executor/cuda/cuda_fft.cc:609] Unable to register cuFFT factory: Attempting to register factory for plugin cuFFT when one has already been registered\n",
      "\u001b[36m(pid=416901)\u001b[0m 2024-03-24 02:16:29.084248: E tensorflow/compiler/xla/stream_executor/cuda/cuda_blas.cc:1518] Unable to register cuBLAS factory: Attempting to register factory for plugin cuBLAS when one has already been registered\n"
     ]
    },
    {
     "name": "stderr",
     "output_type": "stream",
     "text": [
      "\u001b[36m(TrainLightGCN pid=416901)\u001b[0m /home/daviddavo/upm-tfm-notebooks/.direnv/python-3.9/lib/python3.9/site-packages/recommenders/models/deeprec/DataModel/ImplicitCF.py:73: FutureWarning: The frame.append method is deprecated and will be removed from pandas in a future version. Use pandas.concat instead.\n",
      "\u001b[36m(TrainLightGCN pid=416901)\u001b[0m   df = train if test is None else train.append(test)\n"
     ]
    },
    {
     "name": "stdout",
     "output_type": "stream",
     "text": [
      "\u001b[36m(TrainLightGCN pid=416901)\u001b[0m Already create adjacency matrix.\n"
     ]
    },
    {
     "name": "stdout",
     "output_type": "stream",
     "text": [
      "\u001b[36m(TrainLightGCN pid=416901)\u001b[0m Already normalize adjacency matrix.\n",
      "\u001b[36m(TrainLightGCN pid=416901)\u001b[0m Using xavier initialization.\n"
     ]
    },
    {
     "name": "stderr",
     "output_type": "stream",
     "text": [
      "\u001b[36m(TrainLightGCN pid=416901)\u001b[0m Trainable.setup took 11.869 seconds. If your trainable is slow to initialize, consider setting reuse_actors=True to reduce actor creation overheads.\n"
     ]
    },
    {
     "name": "stderr",
     "output_type": "stream",
     "text": [
      "\u001b[36m(TrainLightGCN pid=415684)\u001b[0m Checkpoint successfully created at: Checkpoint(filesystem=local, path=/home/daviddavo/ray_results/LightGCN_optim=map@10,dao=PancakeSwap,freq=3d,normalize=True,cutoff_date=2023-07-01T00:00:00,fold=9_2024-03-24T01:56:59.853079/TrainLightGCN_9ed220d7_12_batch_size=8,conv_layers=4,embedding_dim=20,fold=9,l2=0.0004,learning_rate=0.0350_2024-03-24_02-10-36/checkpoint_000000)\n"
     ]
    },
    {
     "name": "stderr",
     "output_type": "stream",
     "text": [
      "\u001b[36m(pid=417339)\u001b[0m 2024-03-24 02:18:02.120849: E tensorflow/compiler/xla/stream_executor/cuda/cuda_dnn.cc:9342] Unable to register cuDNN factory: Attempting to register factory for plugin cuDNN when one has already been registered\n",
      "\u001b[36m(pid=417339)\u001b[0m 2024-03-24 02:18:02.120887: E tensorflow/compiler/xla/stream_executor/cuda/cuda_fft.cc:609] Unable to register cuFFT factory: Attempting to register factory for plugin cuFFT when one has already been registered\n",
      "\u001b[36m(pid=417339)\u001b[0m 2024-03-24 02:18:02.120903: E tensorflow/compiler/xla/stream_executor/cuda/cuda_blas.cc:1518] Unable to register cuBLAS factory: Attempting to register factory for plugin cuBLAS when one has already been registered\n"
     ]
    },
    {
     "name": "stderr",
     "output_type": "stream",
     "text": [
      "\u001b[36m(TrainLightGCN pid=417339)\u001b[0m /home/daviddavo/upm-tfm-notebooks/.direnv/python-3.9/lib/python3.9/site-packages/recommenders/models/deeprec/DataModel/ImplicitCF.py:73: FutureWarning: The frame.append method is deprecated and will be removed from pandas in a future version. Use pandas.concat instead.\n",
      "\u001b[36m(TrainLightGCN pid=417339)\u001b[0m   df = train if test is None else train.append(test)\n"
     ]
    },
    {
     "name": "stdout",
     "output_type": "stream",
     "text": [
      "\u001b[36m(TrainLightGCN pid=417339)\u001b[0m Already create adjacency matrix.\n"
     ]
    },
    {
     "name": "stdout",
     "output_type": "stream",
     "text": [
      "\u001b[36m(TrainLightGCN pid=417339)\u001b[0m Already normalize adjacency matrix.\n",
      "\u001b[36m(TrainLightGCN pid=417339)\u001b[0m Using xavier initialization.\n"
     ]
    },
    {
     "name": "stderr",
     "output_type": "stream",
     "text": [
      "\u001b[36m(TrainLightGCN pid=417339)\u001b[0m Trainable.setup took 11.856 seconds. If your trainable is slow to initialize, consider setting reuse_actors=True to reduce actor creation overheads.\n"
     ]
    },
    {
     "name": "stderr",
     "output_type": "stream",
     "text": [
      "\u001b[36m(TrainLightGCN pid=416333)\u001b[0m Checkpoint successfully created at: Checkpoint(filesystem=local, path=/home/daviddavo/ray_results/LightGCN_optim=map@10,dao=PancakeSwap,freq=3d,normalize=True,cutoff_date=2023-07-01T00:00:00,fold=9_2024-03-24T01:56:59.853079/TrainLightGCN_309f84c8_13_batch_size=8,conv_layers=4,embedding_dim=4,fold=9,l2=0.0000,learning_rate=0.6904_2024-03-24_02-12-30/checkpoint_000000)\n"
     ]
    },
    {
     "name": "stderr",
     "output_type": "stream",
     "text": [
      "\u001b[36m(pid=417987)\u001b[0m 2024-03-24 02:20:50.149417: E tensorflow/compiler/xla/stream_executor/cuda/cuda_dnn.cc:9342] Unable to register cuDNN factory: Attempting to register factory for plugin cuDNN when one has already been registered\n",
      "\u001b[36m(pid=417987)\u001b[0m 2024-03-24 02:20:50.149454: E tensorflow/compiler/xla/stream_executor/cuda/cuda_fft.cc:609] Unable to register cuFFT factory: Attempting to register factory for plugin cuFFT when one has already been registered\n",
      "\u001b[36m(pid=417987)\u001b[0m 2024-03-24 02:20:50.149468: E tensorflow/compiler/xla/stream_executor/cuda/cuda_blas.cc:1518] Unable to register cuBLAS factory: Attempting to register factory for plugin cuBLAS when one has already been registered\n"
     ]
    },
    {
     "name": "stderr",
     "output_type": "stream",
     "text": [
      "\u001b[36m(TrainLightGCN pid=417987)\u001b[0m /home/daviddavo/upm-tfm-notebooks/.direnv/python-3.9/lib/python3.9/site-packages/recommenders/models/deeprec/DataModel/ImplicitCF.py:73: FutureWarning: The frame.append method is deprecated and will be removed from pandas in a future version. Use pandas.concat instead.\n",
      "\u001b[36m(TrainLightGCN pid=417987)\u001b[0m   df = train if test is None else train.append(test)\n"
     ]
    },
    {
     "name": "stderr",
     "output_type": "stream",
     "text": [
      "\u001b[36m(TrainLightGCN pid=416585)\u001b[0m Checkpoint successfully created at: Checkpoint(filesystem=local, path=/home/daviddavo/ray_results/LightGCN_optim=map@10,dao=PancakeSwap,freq=3d,normalize=True,cutoff_date=2023-07-01T00:00:00,fold=9_2024-03-24T01:56:59.853079/TrainLightGCN_b0f44d26_14_batch_size=11,conv_layers=4,embedding_dim=36,fold=9,l2=0.0000,learning_rate=0.0206_2024-03-24_02-15-17/checkpoint_000000)\n"
     ]
    },
    {
     "name": "stdout",
     "output_type": "stream",
     "text": [
      "\u001b[36m(TrainLightGCN pid=417987)\u001b[0m Already create adjacency matrix.\n"
     ]
    },
    {
     "name": "stdout",
     "output_type": "stream",
     "text": [
      "\u001b[36m(TrainLightGCN pid=417987)\u001b[0m Already normalize adjacency matrix.\n",
      "\u001b[36m(TrainLightGCN pid=417987)\u001b[0m Using xavier initialization.\n"
     ]
    },
    {
     "name": "stderr",
     "output_type": "stream",
     "text": [
      "\u001b[36m(TrainLightGCN pid=417987)\u001b[0m Trainable.setup took 11.735 seconds. If your trainable is slow to initialize, consider setting reuse_actors=True to reduce actor creation overheads.\n"
     ]
    },
    {
     "name": "stderr",
     "output_type": "stream",
     "text": [
      "\u001b[36m(pid=418163)\u001b[0m 2024-03-24 02:21:05.066013: E tensorflow/compiler/xla/stream_executor/cuda/cuda_dnn.cc:9342] Unable to register cuDNN factory: Attempting to register factory for plugin cuDNN when one has already been registered\n",
      "\u001b[36m(pid=418163)\u001b[0m 2024-03-24 02:21:05.066049: E tensorflow/compiler/xla/stream_executor/cuda/cuda_fft.cc:609] Unable to register cuFFT factory: Attempting to register factory for plugin cuFFT when one has already been registered\n",
      "\u001b[36m(pid=418163)\u001b[0m 2024-03-24 02:21:05.066063: E tensorflow/compiler/xla/stream_executor/cuda/cuda_blas.cc:1518] Unable to register cuBLAS factory: Attempting to register factory for plugin cuBLAS when one has already been registered\n"
     ]
    },
    {
     "name": "stderr",
     "output_type": "stream",
     "text": [
      "\u001b[36m(TrainLightGCN pid=418163)\u001b[0m /home/daviddavo/upm-tfm-notebooks/.direnv/python-3.9/lib/python3.9/site-packages/recommenders/models/deeprec/DataModel/ImplicitCF.py:73: FutureWarning: The frame.append method is deprecated and will be removed from pandas in a future version. Use pandas.concat instead.\n",
      "\u001b[36m(TrainLightGCN pid=418163)\u001b[0m   df = train if test is None else train.append(test)\n"
     ]
    },
    {
     "name": "stdout",
     "output_type": "stream",
     "text": [
      "\u001b[36m(TrainLightGCN pid=418163)\u001b[0m Already create adjacency matrix.\n"
     ]
    },
    {
     "name": "stdout",
     "output_type": "stream",
     "text": [
      "\u001b[36m(TrainLightGCN pid=418163)\u001b[0m Already normalize adjacency matrix.\n",
      "\u001b[36m(TrainLightGCN pid=418163)\u001b[0m Using xavier initialization.\n"
     ]
    },
    {
     "name": "stderr",
     "output_type": "stream",
     "text": [
      "\u001b[36m(TrainLightGCN pid=418163)\u001b[0m Trainable.setup took 11.781 seconds. If your trainable is slow to initialize, consider setting reuse_actors=True to reduce actor creation overheads.\n"
     ]
    },
    {
     "name": "stderr",
     "output_type": "stream",
     "text": [
      "\u001b[36m(TrainLightGCN pid=416901)\u001b[0m Checkpoint successfully created at: Checkpoint(filesystem=local, path=/home/daviddavo/ray_results/LightGCN_optim=map@10,dao=PancakeSwap,freq=3d,normalize=True,cutoff_date=2023-07-01T00:00:00,fold=9_2024-03-24T01:56:59.853079/TrainLightGCN_dec79c72_15_batch_size=11,conv_layers=5,embedding_dim=31,fold=9,l2=0.0000,learning_rate=0.0167_2024-03-24_02-15-49/checkpoint_000000)\n"
     ]
    },
    {
     "name": "stderr",
     "output_type": "stream",
     "text": [
      "\u001b[36m(pid=418479)\u001b[0m 2024-03-24 02:21:51.160452: E tensorflow/compiler/xla/stream_executor/cuda/cuda_dnn.cc:9342] Unable to register cuDNN factory: Attempting to register factory for plugin cuDNN when one has already been registered\n",
      "\u001b[36m(pid=418479)\u001b[0m 2024-03-24 02:21:51.160493: E tensorflow/compiler/xla/stream_executor/cuda/cuda_fft.cc:609] Unable to register cuFFT factory: Attempting to register factory for plugin cuFFT when one has already been registered\n",
      "\u001b[36m(pid=418479)\u001b[0m 2024-03-24 02:21:51.160508: E tensorflow/compiler/xla/stream_executor/cuda/cuda_blas.cc:1518] Unable to register cuBLAS factory: Attempting to register factory for plugin cuBLAS when one has already been registered\n"
     ]
    },
    {
     "name": "stderr",
     "output_type": "stream",
     "text": [
      "\u001b[36m(TrainLightGCN pid=418479)\u001b[0m /home/daviddavo/upm-tfm-notebooks/.direnv/python-3.9/lib/python3.9/site-packages/recommenders/models/deeprec/DataModel/ImplicitCF.py:73: FutureWarning: The frame.append method is deprecated and will be removed from pandas in a future version. Use pandas.concat instead.\n",
      "\u001b[36m(TrainLightGCN pid=418479)\u001b[0m   df = train if test is None else train.append(test)\n"
     ]
    },
    {
     "name": "stdout",
     "output_type": "stream",
     "text": [
      "\u001b[36m(TrainLightGCN pid=418479)\u001b[0m Already create adjacency matrix.\n"
     ]
    },
    {
     "name": "stdout",
     "output_type": "stream",
     "text": [
      "\u001b[36m(TrainLightGCN pid=418479)\u001b[0m Already normalize adjacency matrix.\n",
      "\u001b[36m(TrainLightGCN pid=418479)\u001b[0m Using xavier initialization.\n"
     ]
    },
    {
     "name": "stderr",
     "output_type": "stream",
     "text": [
      "\u001b[36m(TrainLightGCN pid=418479)\u001b[0m Trainable.setup took 11.750 seconds. If your trainable is slow to initialize, consider setting reuse_actors=True to reduce actor creation overheads.\n"
     ]
    },
    {
     "name": "stderr",
     "output_type": "stream",
     "text": [
      "\u001b[36m(TrainLightGCN pid=417339)\u001b[0m Checkpoint successfully created at: Checkpoint(filesystem=local, path=/home/daviddavo/ray_results/LightGCN_optim=map@10,dao=PancakeSwap,freq=3d,normalize=True,cutoff_date=2023-07-01T00:00:00,fold=9_2024-03-24T01:56:59.853079/TrainLightGCN_5c924b07_16_batch_size=12,conv_layers=2,embedding_dim=5,fold=9,l2=0.0010,learning_rate=0.1417_2024-03-24_02-16-43/checkpoint_000000)\n"
     ]
    },
    {
     "name": "stderr",
     "output_type": "stream",
     "text": [
      "\u001b[36m(pid=418934)\u001b[0m 2024-03-24 02:23:32.180928: E tensorflow/compiler/xla/stream_executor/cuda/cuda_dnn.cc:9342] Unable to register cuDNN factory: Attempting to register factory for plugin cuDNN when one has already been registered\n",
      "\u001b[36m(pid=418934)\u001b[0m 2024-03-24 02:23:32.180968: E tensorflow/compiler/xla/stream_executor/cuda/cuda_fft.cc:609] Unable to register cuFFT factory: Attempting to register factory for plugin cuFFT when one has already been registered\n",
      "\u001b[36m(pid=418934)\u001b[0m 2024-03-24 02:23:32.180982: E tensorflow/compiler/xla/stream_executor/cuda/cuda_blas.cc:1518] Unable to register cuBLAS factory: Attempting to register factory for plugin cuBLAS when one has already been registered\n"
     ]
    },
    {
     "name": "stderr",
     "output_type": "stream",
     "text": [
      "\u001b[36m(TrainLightGCN pid=418934)\u001b[0m /home/daviddavo/upm-tfm-notebooks/.direnv/python-3.9/lib/python3.9/site-packages/recommenders/models/deeprec/DataModel/ImplicitCF.py:73: FutureWarning: The frame.append method is deprecated and will be removed from pandas in a future version. Use pandas.concat instead.\n",
      "\u001b[36m(TrainLightGCN pid=418934)\u001b[0m   df = train if test is None else train.append(test)\n"
     ]
    },
    {
     "name": "stdout",
     "output_type": "stream",
     "text": [
      "\u001b[36m(TrainLightGCN pid=418934)\u001b[0m Already create adjacency matrix.\n"
     ]
    },
    {
     "name": "stdout",
     "output_type": "stream",
     "text": [
      "\u001b[36m(TrainLightGCN pid=418934)\u001b[0m Already normalize adjacency matrix.\n",
      "\u001b[36m(TrainLightGCN pid=418934)\u001b[0m Using xavier initialization.\n"
     ]
    },
    {
     "name": "stderr",
     "output_type": "stream",
     "text": [
      "\u001b[36m(TrainLightGCN pid=418934)\u001b[0m Trainable.setup took 11.869 seconds. If your trainable is slow to initialize, consider setting reuse_actors=True to reduce actor creation overheads.\n"
     ]
    },
    {
     "name": "stderr",
     "output_type": "stream",
     "text": [
      "\u001b[36m(TrainLightGCN pid=417987)\u001b[0m Checkpoint successfully created at: Checkpoint(filesystem=local, path=/home/daviddavo/ray_results/LightGCN_optim=map@10,dao=PancakeSwap,freq=3d,normalize=True,cutoff_date=2023-07-01T00:00:00,fold=9_2024-03-24T01:56:59.853079/TrainLightGCN_4149e1c9_17_batch_size=9,conv_layers=4,embedding_dim=7,fold=9,l2=0.0000,learning_rate=0.0324_2024-03-24_02-18-16/checkpoint_000000)\n"
     ]
    },
    {
     "name": "stderr",
     "output_type": "stream",
     "text": [
      "\u001b[36m(pid=419651)\u001b[0m 2024-03-24 02:26:43.221768: E tensorflow/compiler/xla/stream_executor/cuda/cuda_dnn.cc:9342] Unable to register cuDNN factory: Attempting to register factory for plugin cuDNN when one has already been registered\n",
      "\u001b[36m(pid=419651)\u001b[0m 2024-03-24 02:26:43.221805: E tensorflow/compiler/xla/stream_executor/cuda/cuda_fft.cc:609] Unable to register cuFFT factory: Attempting to register factory for plugin cuFFT when one has already been registered\n",
      "\u001b[36m(pid=419651)\u001b[0m 2024-03-24 02:26:43.221821: E tensorflow/compiler/xla/stream_executor/cuda/cuda_blas.cc:1518] Unable to register cuBLAS factory: Attempting to register factory for plugin cuBLAS when one has already been registered\n"
     ]
    },
    {
     "name": "stderr",
     "output_type": "stream",
     "text": [
      "\u001b[36m(TrainLightGCN pid=419651)\u001b[0m /home/daviddavo/upm-tfm-notebooks/.direnv/python-3.9/lib/python3.9/site-packages/recommenders/models/deeprec/DataModel/ImplicitCF.py:73: FutureWarning: The frame.append method is deprecated and will be removed from pandas in a future version. Use pandas.concat instead.\n",
      "\u001b[36m(TrainLightGCN pid=419651)\u001b[0m   df = train if test is None else train.append(test)\n"
     ]
    },
    {
     "name": "stdout",
     "output_type": "stream",
     "text": [
      "\u001b[36m(TrainLightGCN pid=419651)\u001b[0m Already create adjacency matrix.\n"
     ]
    },
    {
     "name": "stdout",
     "output_type": "stream",
     "text": [
      "\u001b[36m(TrainLightGCN pid=419651)\u001b[0m Already normalize adjacency matrix.\n",
      "\u001b[36m(TrainLightGCN pid=419651)\u001b[0m Using xavier initialization.\n"
     ]
    },
    {
     "name": "stderr",
     "output_type": "stream",
     "text": [
      "\u001b[36m(TrainLightGCN pid=419651)\u001b[0m Trainable.setup took 11.941 seconds. If your trainable is slow to initialize, consider setting reuse_actors=True to reduce actor creation overheads.\n"
     ]
    },
    {
     "name": "stderr",
     "output_type": "stream",
     "text": [
      "\u001b[36m(TrainLightGCN pid=418479)\u001b[0m Checkpoint successfully created at: Checkpoint(filesystem=local, path=/home/daviddavo/ray_results/LightGCN_optim=map@10,dao=PancakeSwap,freq=3d,normalize=True,cutoff_date=2023-07-01T00:00:00,fold=9_2024-03-24T01:56:59.853079/TrainLightGCN_072de7de_19_batch_size=12,conv_layers=4,embedding_dim=22,fold=9,l2=0.0000,learning_rate=0.2762_2024-03-24_02-21-18/checkpoint_000000)\n"
     ]
    },
    {
     "name": "stderr",
     "output_type": "stream",
     "text": [
      "\u001b[36m(pid=419929)\u001b[0m 2024-03-24 02:27:24.172825: E tensorflow/compiler/xla/stream_executor/cuda/cuda_dnn.cc:9342] Unable to register cuDNN factory: Attempting to register factory for plugin cuDNN when one has already been registered\n",
      "\u001b[36m(pid=419929)\u001b[0m 2024-03-24 02:27:24.172862: E tensorflow/compiler/xla/stream_executor/cuda/cuda_fft.cc:609] Unable to register cuFFT factory: Attempting to register factory for plugin cuFFT when one has already been registered\n",
      "\u001b[36m(pid=419929)\u001b[0m 2024-03-24 02:27:24.172879: E tensorflow/compiler/xla/stream_executor/cuda/cuda_blas.cc:1518] Unable to register cuBLAS factory: Attempting to register factory for plugin cuBLAS when one has already been registered\n"
     ]
    },
    {
     "name": "stderr",
     "output_type": "stream",
     "text": [
      "\u001b[36m(TrainLightGCN pid=419929)\u001b[0m /home/daviddavo/upm-tfm-notebooks/.direnv/python-3.9/lib/python3.9/site-packages/recommenders/models/deeprec/DataModel/ImplicitCF.py:73: FutureWarning: The frame.append method is deprecated and will be removed from pandas in a future version. Use pandas.concat instead.\n",
      "\u001b[36m(TrainLightGCN pid=419929)\u001b[0m   df = train if test is None else train.append(test)\n"
     ]
    },
    {
     "name": "stderr",
     "output_type": "stream",
     "text": [
      "\u001b[36m(TrainLightGCN pid=418163)\u001b[0m Checkpoint successfully created at: Checkpoint(filesystem=local, path=/home/daviddavo/ray_results/LightGCN_optim=map@10,dao=PancakeSwap,freq=3d,normalize=True,cutoff_date=2023-07-01T00:00:00,fold=9_2024-03-24T01:56:59.853079/TrainLightGCN_43fb4811_18_batch_size=8,conv_layers=3,embedding_dim=16,fold=9,l2=0.0014,learning_rate=0.6904_2024-03-24_02-21-04/checkpoint_000000)\n"
     ]
    },
    {
     "name": "stdout",
     "output_type": "stream",
     "text": [
      "\u001b[36m(TrainLightGCN pid=419929)\u001b[0m Already create adjacency matrix.\n"
     ]
    },
    {
     "name": "stdout",
     "output_type": "stream",
     "text": [
      "\u001b[36m(TrainLightGCN pid=419929)\u001b[0m Already normalize adjacency matrix.\n",
      "\u001b[36m(TrainLightGCN pid=419929)\u001b[0m Using xavier initialization.\n"
     ]
    },
    {
     "name": "stderr",
     "output_type": "stream",
     "text": [
      "\u001b[36m(TrainLightGCN pid=419929)\u001b[0m Trainable.setup took 12.217 seconds. If your trainable is slow to initialize, consider setting reuse_actors=True to reduce actor creation overheads.\n"
     ]
    },
    {
     "name": "stderr",
     "output_type": "stream",
     "text": [
      "\u001b[36m(pid=420102)\u001b[0m 2024-03-24 02:27:39.511904: E tensorflow/compiler/xla/stream_executor/cuda/cuda_dnn.cc:9342] Unable to register cuDNN factory: Attempting to register factory for plugin cuDNN when one has already been registered\n",
      "\u001b[36m(pid=420102)\u001b[0m 2024-03-24 02:27:39.511938: E tensorflow/compiler/xla/stream_executor/cuda/cuda_fft.cc:609] Unable to register cuFFT factory: Attempting to register factory for plugin cuFFT when one has already been registered\n",
      "\u001b[36m(pid=420102)\u001b[0m 2024-03-24 02:27:39.511954: E tensorflow/compiler/xla/stream_executor/cuda/cuda_blas.cc:1518] Unable to register cuBLAS factory: Attempting to register factory for plugin cuBLAS when one has already been registered\n"
     ]
    },
    {
     "name": "stderr",
     "output_type": "stream",
     "text": [
      "\u001b[36m(TrainLightGCN pid=420102)\u001b[0m /home/daviddavo/upm-tfm-notebooks/.direnv/python-3.9/lib/python3.9/site-packages/recommenders/models/deeprec/DataModel/ImplicitCF.py:73: FutureWarning: The frame.append method is deprecated and will be removed from pandas in a future version. Use pandas.concat instead.\n",
      "\u001b[36m(TrainLightGCN pid=420102)\u001b[0m   df = train if test is None else train.append(test)\n"
     ]
    },
    {
     "name": "stdout",
     "output_type": "stream",
     "text": [
      "\u001b[36m(TrainLightGCN pid=420102)\u001b[0m Already create adjacency matrix.\n"
     ]
    },
    {
     "name": "stdout",
     "output_type": "stream",
     "text": [
      "\u001b[36m(TrainLightGCN pid=420102)\u001b[0m Already normalize adjacency matrix.\n",
      "\u001b[36m(TrainLightGCN pid=420102)\u001b[0m Using xavier initialization.\n"
     ]
    },
    {
     "name": "stderr",
     "output_type": "stream",
     "text": [
      "\u001b[36m(TrainLightGCN pid=420102)\u001b[0m Trainable.setup took 12.364 seconds. If your trainable is slow to initialize, consider setting reuse_actors=True to reduce actor creation overheads.\n"
     ]
    },
    {
     "name": "stderr",
     "output_type": "stream",
     "text": [
      "\u001b[36m(TrainLightGCN pid=418934)\u001b[0m Checkpoint successfully created at: Checkpoint(filesystem=local, path=/home/daviddavo/ray_results/LightGCN_optim=map@10,dao=PancakeSwap,freq=3d,normalize=True,cutoff_date=2023-07-01T00:00:00,fold=9_2024-03-24T01:56:59.853079/TrainLightGCN_4e24679b_20_batch_size=9,conv_layers=2,embedding_dim=105,fold=9,l2=0.0000,learning_rate=0.0230_2024-03-24_02-22-05/checkpoint_000000)\n"
     ]
    },
    {
     "name": "stderr",
     "output_type": "stream",
     "text": [
      "\u001b[36m(pid=420781)\u001b[0m 2024-03-24 02:30:27.195706: E tensorflow/compiler/xla/stream_executor/cuda/cuda_dnn.cc:9342] Unable to register cuDNN factory: Attempting to register factory for plugin cuDNN when one has already been registered\n",
      "\u001b[36m(pid=420781)\u001b[0m 2024-03-24 02:30:27.195744: E tensorflow/compiler/xla/stream_executor/cuda/cuda_fft.cc:609] Unable to register cuFFT factory: Attempting to register factory for plugin cuFFT when one has already been registered\n",
      "\u001b[36m(pid=420781)\u001b[0m 2024-03-24 02:30:27.195762: E tensorflow/compiler/xla/stream_executor/cuda/cuda_blas.cc:1518] Unable to register cuBLAS factory: Attempting to register factory for plugin cuBLAS when one has already been registered\n"
     ]
    },
    {
     "name": "stderr",
     "output_type": "stream",
     "text": [
      "\u001b[36m(TrainLightGCN pid=420781)\u001b[0m /home/daviddavo/upm-tfm-notebooks/.direnv/python-3.9/lib/python3.9/site-packages/recommenders/models/deeprec/DataModel/ImplicitCF.py:73: FutureWarning: The frame.append method is deprecated and will be removed from pandas in a future version. Use pandas.concat instead.\n",
      "\u001b[36m(TrainLightGCN pid=420781)\u001b[0m   df = train if test is None else train.append(test)\n"
     ]
    },
    {
     "name": "stdout",
     "output_type": "stream",
     "text": [
      "\u001b[36m(TrainLightGCN pid=420781)\u001b[0m Already create adjacency matrix.\n"
     ]
    },
    {
     "name": "stdout",
     "output_type": "stream",
     "text": [
      "\u001b[36m(TrainLightGCN pid=420781)\u001b[0m Already normalize adjacency matrix.\n",
      "\u001b[36m(TrainLightGCN pid=420781)\u001b[0m Using xavier initialization.\n"
     ]
    },
    {
     "name": "stderr",
     "output_type": "stream",
     "text": [
      "\u001b[36m(TrainLightGCN pid=420781)\u001b[0m Trainable.setup took 12.400 seconds. If your trainable is slow to initialize, consider setting reuse_actors=True to reduce actor creation overheads.\n"
     ]
    },
    {
     "name": "stderr",
     "output_type": "stream",
     "text": [
      "\u001b[36m(TrainLightGCN pid=419929)\u001b[0m Checkpoint successfully created at: Checkpoint(filesystem=local, path=/home/daviddavo/ray_results/LightGCN_optim=map@10,dao=PancakeSwap,freq=3d,normalize=True,cutoff_date=2023-07-01T00:00:00,fold=9_2024-03-24T01:56:59.853079/TrainLightGCN_167e6d2f_22_batch_size=13,conv_layers=1,embedding_dim=1,fold=9,l2=0.0001,learning_rate=0.0101_2024-03-24_02-26-57/checkpoint_000000)\n"
     ]
    },
    {
     "name": "stderr",
     "output_type": "stream",
     "text": [
      "\u001b[36m(pid=421354)\u001b[0m 2024-03-24 02:32:49.201631: E tensorflow/compiler/xla/stream_executor/cuda/cuda_dnn.cc:9342] Unable to register cuDNN factory: Attempting to register factory for plugin cuDNN when one has already been registered\n",
      "\u001b[36m(pid=421354)\u001b[0m 2024-03-24 02:32:49.201664: E tensorflow/compiler/xla/stream_executor/cuda/cuda_fft.cc:609] Unable to register cuFFT factory: Attempting to register factory for plugin cuFFT when one has already been registered\n",
      "\u001b[36m(pid=421354)\u001b[0m 2024-03-24 02:32:49.201680: E tensorflow/compiler/xla/stream_executor/cuda/cuda_blas.cc:1518] Unable to register cuBLAS factory: Attempting to register factory for plugin cuBLAS when one has already been registered\n"
     ]
    },
    {
     "name": "stderr",
     "output_type": "stream",
     "text": [
      "\u001b[36m(TrainLightGCN pid=421354)\u001b[0m /home/daviddavo/upm-tfm-notebooks/.direnv/python-3.9/lib/python3.9/site-packages/recommenders/models/deeprec/DataModel/ImplicitCF.py:73: FutureWarning: The frame.append method is deprecated and will be removed from pandas in a future version. Use pandas.concat instead.\n",
      "\u001b[36m(TrainLightGCN pid=421354)\u001b[0m   df = train if test is None else train.append(test)\n"
     ]
    },
    {
     "name": "stdout",
     "output_type": "stream",
     "text": [
      "\u001b[36m(TrainLightGCN pid=421354)\u001b[0m Already create adjacency matrix.\n"
     ]
    },
    {
     "name": "stdout",
     "output_type": "stream",
     "text": [
      "\u001b[36m(TrainLightGCN pid=421354)\u001b[0m Already normalize adjacency matrix.\n",
      "\u001b[36m(TrainLightGCN pid=421354)\u001b[0m Using xavier initialization.\n"
     ]
    },
    {
     "name": "stderr",
     "output_type": "stream",
     "text": [
      "\u001b[36m(TrainLightGCN pid=421354)\u001b[0m Trainable.setup took 12.521 seconds. If your trainable is slow to initialize, consider setting reuse_actors=True to reduce actor creation overheads.\n"
     ]
    },
    {
     "name": "stderr",
     "output_type": "stream",
     "text": [
      "\u001b[36m(TrainLightGCN pid=420102)\u001b[0m Checkpoint successfully created at: Checkpoint(filesystem=local, path=/home/daviddavo/ray_results/LightGCN_optim=map@10,dao=PancakeSwap,freq=3d,normalize=True,cutoff_date=2023-07-01T00:00:00,fold=9_2024-03-24T01:56:59.853079/TrainLightGCN_34d7dfdc_23_batch_size=10,conv_layers=2,embedding_dim=239,fold=9,l2=0.0000,learning_rate=0.0496_2024-03-24_02-27-38/checkpoint_000000)\n"
     ]
    },
    {
     "name": "stderr",
     "output_type": "stream",
     "text": [
      "\u001b[36m(pid=421774)\u001b[0m 2024-03-24 02:34:18.231890: E tensorflow/compiler/xla/stream_executor/cuda/cuda_dnn.cc:9342] Unable to register cuDNN factory: Attempting to register factory for plugin cuDNN when one has already been registered\n",
      "\u001b[36m(pid=421774)\u001b[0m 2024-03-24 02:34:18.231928: E tensorflow/compiler/xla/stream_executor/cuda/cuda_fft.cc:609] Unable to register cuFFT factory: Attempting to register factory for plugin cuFFT when one has already been registered\n",
      "\u001b[36m(pid=421774)\u001b[0m 2024-03-24 02:34:18.231943: E tensorflow/compiler/xla/stream_executor/cuda/cuda_blas.cc:1518] Unable to register cuBLAS factory: Attempting to register factory for plugin cuBLAS when one has already been registered\n"
     ]
    },
    {
     "name": "stderr",
     "output_type": "stream",
     "text": [
      "\u001b[36m(TrainLightGCN pid=421774)\u001b[0m /home/daviddavo/upm-tfm-notebooks/.direnv/python-3.9/lib/python3.9/site-packages/recommenders/models/deeprec/DataModel/ImplicitCF.py:73: FutureWarning: The frame.append method is deprecated and will be removed from pandas in a future version. Use pandas.concat instead.\n",
      "\u001b[36m(TrainLightGCN pid=421774)\u001b[0m   df = train if test is None else train.append(test)\n"
     ]
    },
    {
     "name": "stdout",
     "output_type": "stream",
     "text": [
      "\u001b[36m(TrainLightGCN pid=421774)\u001b[0m Already create adjacency matrix.\n"
     ]
    },
    {
     "name": "stdout",
     "output_type": "stream",
     "text": [
      "\u001b[36m(TrainLightGCN pid=421774)\u001b[0m Already normalize adjacency matrix.\n",
      "\u001b[36m(TrainLightGCN pid=421774)\u001b[0m Using xavier initialization.\n"
     ]
    },
    {
     "name": "stderr",
     "output_type": "stream",
     "text": [
      "\u001b[36m(TrainLightGCN pid=421774)\u001b[0m Trainable.setup took 11.915 seconds. If your trainable is slow to initialize, consider setting reuse_actors=True to reduce actor creation overheads.\n"
     ]
    },
    {
     "name": "stderr",
     "output_type": "stream",
     "text": [
      "\u001b[36m(TrainLightGCN pid=420781)\u001b[0m Checkpoint successfully created at: Checkpoint(filesystem=local, path=/home/daviddavo/ray_results/LightGCN_optim=map@10,dao=PancakeSwap,freq=3d,normalize=True,cutoff_date=2023-07-01T00:00:00,fold=9_2024-03-24T01:56:59.853079/TrainLightGCN_dfdd4852_24_batch_size=6,conv_layers=1,embedding_dim=1,fold=9,l2=0.0000,learning_rate=0.1304_2024-03-24_02-27-53/checkpoint_000000)\n"
     ]
    },
    {
     "name": "stderr",
     "output_type": "stream",
     "text": [
      "\u001b[36m(pid=422402)\u001b[0m 2024-03-24 02:36:57.268556: E tensorflow/compiler/xla/stream_executor/cuda/cuda_dnn.cc:9342] Unable to register cuDNN factory: Attempting to register factory for plugin cuDNN when one has already been registered\n",
      "\u001b[36m(pid=422402)\u001b[0m 2024-03-24 02:36:57.268585: E tensorflow/compiler/xla/stream_executor/cuda/cuda_fft.cc:609] Unable to register cuFFT factory: Attempting to register factory for plugin cuFFT when one has already been registered\n",
      "\u001b[36m(pid=422402)\u001b[0m 2024-03-24 02:36:57.268599: E tensorflow/compiler/xla/stream_executor/cuda/cuda_blas.cc:1518] Unable to register cuBLAS factory: Attempting to register factory for plugin cuBLAS when one has already been registered\n"
     ]
    },
    {
     "name": "stderr",
     "output_type": "stream",
     "text": [
      "\u001b[36m(TrainLightGCN pid=422402)\u001b[0m /home/daviddavo/upm-tfm-notebooks/.direnv/python-3.9/lib/python3.9/site-packages/recommenders/models/deeprec/DataModel/ImplicitCF.py:73: FutureWarning: The frame.append method is deprecated and will be removed from pandas in a future version. Use pandas.concat instead.\n",
      "\u001b[36m(TrainLightGCN pid=422402)\u001b[0m   df = train if test is None else train.append(test)\n"
     ]
    },
    {
     "name": "stdout",
     "output_type": "stream",
     "text": [
      "\u001b[36m(TrainLightGCN pid=422402)\u001b[0m Already create adjacency matrix.\n"
     ]
    },
    {
     "name": "stdout",
     "output_type": "stream",
     "text": [
      "\u001b[36m(TrainLightGCN pid=422402)\u001b[0m Already normalize adjacency matrix.\n",
      "\u001b[36m(TrainLightGCN pid=422402)\u001b[0m Using xavier initialization.\n"
     ]
    },
    {
     "name": "stderr",
     "output_type": "stream",
     "text": [
      "\u001b[36m(TrainLightGCN pid=422402)\u001b[0m Trainable.setup took 12.045 seconds. If your trainable is slow to initialize, consider setting reuse_actors=True to reduce actor creation overheads.\n"
     ]
    },
    {
     "name": "stderr",
     "output_type": "stream",
     "text": [
      "\u001b[36m(TrainLightGCN pid=419651)\u001b[0m Checkpoint successfully created at: Checkpoint(filesystem=local, path=/home/daviddavo/ray_results/LightGCN_optim=map@10,dao=PancakeSwap,freq=3d,normalize=True,cutoff_date=2023-07-01T00:00:00,fold=9_2024-03-24T01:56:59.853079/TrainLightGCN_96619a0d_21_batch_size=6,conv_layers=1,embedding_dim=197,fold=9,l2=0.0000,learning_rate=0.1604_2024-03-24_02-23-46/checkpoint_000000)\n"
     ]
    },
    {
     "name": "stderr",
     "output_type": "stream",
     "text": [
      "\u001b[36m(pid=422688)\u001b[0m 2024-03-24 02:37:42.302394: E tensorflow/compiler/xla/stream_executor/cuda/cuda_dnn.cc:9342] Unable to register cuDNN factory: Attempting to register factory for plugin cuDNN when one has already been registered\n",
      "\u001b[36m(pid=422688)\u001b[0m 2024-03-24 02:37:42.302430: E tensorflow/compiler/xla/stream_executor/cuda/cuda_fft.cc:609] Unable to register cuFFT factory: Attempting to register factory for plugin cuFFT when one has already been registered\n",
      "\u001b[36m(pid=422688)\u001b[0m 2024-03-24 02:37:42.302445: E tensorflow/compiler/xla/stream_executor/cuda/cuda_blas.cc:1518] Unable to register cuBLAS factory: Attempting to register factory for plugin cuBLAS when one has already been registered\n"
     ]
    },
    {
     "name": "stderr",
     "output_type": "stream",
     "text": [
      "\u001b[36m(TrainLightGCN pid=422688)\u001b[0m /home/daviddavo/upm-tfm-notebooks/.direnv/python-3.9/lib/python3.9/site-packages/recommenders/models/deeprec/DataModel/ImplicitCF.py:73: FutureWarning: The frame.append method is deprecated and will be removed from pandas in a future version. Use pandas.concat instead.\n",
      "\u001b[36m(TrainLightGCN pid=422688)\u001b[0m   df = train if test is None else train.append(test)\n"
     ]
    },
    {
     "name": "stdout",
     "output_type": "stream",
     "text": [
      "\u001b[36m(TrainLightGCN pid=422688)\u001b[0m Already create adjacency matrix.\n"
     ]
    },
    {
     "name": "stdout",
     "output_type": "stream",
     "text": [
      "\u001b[36m(TrainLightGCN pid=422688)\u001b[0m Already normalize adjacency matrix.\n",
      "\u001b[36m(TrainLightGCN pid=422688)\u001b[0m Using xavier initialization.\n"
     ]
    },
    {
     "name": "stderr",
     "output_type": "stream",
     "text": [
      "\u001b[36m(TrainLightGCN pid=422688)\u001b[0m Trainable.setup took 11.658 seconds. If your trainable is slow to initialize, consider setting reuse_actors=True to reduce actor creation overheads.\n"
     ]
    },
    {
     "name": "stderr",
     "output_type": "stream",
     "text": [
      "\u001b[36m(TrainLightGCN pid=421354)\u001b[0m Checkpoint successfully created at: Checkpoint(filesystem=local, path=/home/daviddavo/ray_results/LightGCN_optim=map@10,dao=PancakeSwap,freq=3d,normalize=True,cutoff_date=2023-07-01T00:00:00,fold=9_2024-03-24T01:56:59.853079/TrainLightGCN_c92b0a37_25_batch_size=13,conv_layers=1,embedding_dim=64,fold=9,l2=0.0001,learning_rate=0.2292_2024-03-24_02-30-41/checkpoint_000000)\n"
     ]
    },
    {
     "name": "stderr",
     "output_type": "stream",
     "text": [
      "\u001b[36m(pid=422961)\u001b[0m 2024-03-24 02:38:20.283019: E tensorflow/compiler/xla/stream_executor/cuda/cuda_dnn.cc:9342] Unable to register cuDNN factory: Attempting to register factory for plugin cuDNN when one has already been registered\n",
      "\u001b[36m(pid=422961)\u001b[0m 2024-03-24 02:38:20.283055: E tensorflow/compiler/xla/stream_executor/cuda/cuda_fft.cc:609] Unable to register cuFFT factory: Attempting to register factory for plugin cuFFT when one has already been registered\n",
      "\u001b[36m(pid=422961)\u001b[0m 2024-03-24 02:38:20.283071: E tensorflow/compiler/xla/stream_executor/cuda/cuda_blas.cc:1518] Unable to register cuBLAS factory: Attempting to register factory for plugin cuBLAS when one has already been registered\n"
     ]
    },
    {
     "name": "stderr",
     "output_type": "stream",
     "text": [
      "\u001b[36m(TrainLightGCN pid=422961)\u001b[0m /home/daviddavo/upm-tfm-notebooks/.direnv/python-3.9/lib/python3.9/site-packages/recommenders/models/deeprec/DataModel/ImplicitCF.py:73: FutureWarning: The frame.append method is deprecated and will be removed from pandas in a future version. Use pandas.concat instead.\n",
      "\u001b[36m(TrainLightGCN pid=422961)\u001b[0m   df = train if test is None else train.append(test)\n"
     ]
    },
    {
     "name": "stdout",
     "output_type": "stream",
     "text": [
      "\u001b[36m(TrainLightGCN pid=422961)\u001b[0m Already create adjacency matrix.\n"
     ]
    },
    {
     "name": "stdout",
     "output_type": "stream",
     "text": [
      "\u001b[36m(TrainLightGCN pid=422961)\u001b[0m Already normalize adjacency matrix.\n",
      "\u001b[36m(TrainLightGCN pid=422961)\u001b[0m Using xavier initialization.\n"
     ]
    },
    {
     "name": "stderr",
     "output_type": "stream",
     "text": [
      "\u001b[36m(TrainLightGCN pid=422961)\u001b[0m Trainable.setup took 11.841 seconds. If your trainable is slow to initialize, consider setting reuse_actors=True to reduce actor creation overheads.\n"
     ]
    },
    {
     "name": "stderr",
     "output_type": "stream",
     "text": [
      "\u001b[36m(TrainLightGCN pid=421774)\u001b[0m Checkpoint successfully created at: Checkpoint(filesystem=local, path=/home/daviddavo/ray_results/LightGCN_optim=map@10,dao=PancakeSwap,freq=3d,normalize=True,cutoff_date=2023-07-01T00:00:00,fold=9_2024-03-24T01:56:59.853079/TrainLightGCN_5a766b91_26_batch_size=13,conv_layers=2,embedding_dim=1,fold=9,l2=0.0002,learning_rate=0.0106_2024-03-24_02-33-03/checkpoint_000000)\n"
     ]
    },
    {
     "name": "stderr",
     "output_type": "stream",
     "text": [
      "\u001b[36m(pid=423292)\u001b[0m 2024-03-24 02:39:19.277623: E tensorflow/compiler/xla/stream_executor/cuda/cuda_dnn.cc:9342] Unable to register cuDNN factory: Attempting to register factory for plugin cuDNN when one has already been registered\n",
      "\u001b[36m(pid=423292)\u001b[0m 2024-03-24 02:39:19.277656: E tensorflow/compiler/xla/stream_executor/cuda/cuda_fft.cc:609] Unable to register cuFFT factory: Attempting to register factory for plugin cuFFT when one has already been registered\n",
      "\u001b[36m(pid=423292)\u001b[0m 2024-03-24 02:39:19.277673: E tensorflow/compiler/xla/stream_executor/cuda/cuda_blas.cc:1518] Unable to register cuBLAS factory: Attempting to register factory for plugin cuBLAS when one has already been registered\n"
     ]
    },
    {
     "name": "stderr",
     "output_type": "stream",
     "text": [
      "\u001b[36m(TrainLightGCN pid=423292)\u001b[0m /home/daviddavo/upm-tfm-notebooks/.direnv/python-3.9/lib/python3.9/site-packages/recommenders/models/deeprec/DataModel/ImplicitCF.py:73: FutureWarning: The frame.append method is deprecated and will be removed from pandas in a future version. Use pandas.concat instead.\n",
      "\u001b[36m(TrainLightGCN pid=423292)\u001b[0m   df = train if test is None else train.append(test)\n"
     ]
    },
    {
     "name": "stdout",
     "output_type": "stream",
     "text": [
      "\u001b[36m(TrainLightGCN pid=423292)\u001b[0m Already create adjacency matrix.\n"
     ]
    },
    {
     "name": "stdout",
     "output_type": "stream",
     "text": [
      "\u001b[36m(TrainLightGCN pid=423292)\u001b[0m Already normalize adjacency matrix.\n"
     ]
    },
    {
     "name": "stdout",
     "output_type": "stream",
     "text": [
      "\u001b[36m(TrainLightGCN pid=423292)\u001b[0m Using xavier initialization.\n"
     ]
    },
    {
     "name": "stderr",
     "output_type": "stream",
     "text": [
      "\u001b[36m(TrainLightGCN pid=423292)\u001b[0m Trainable.setup took 11.824 seconds. If your trainable is slow to initialize, consider setting reuse_actors=True to reduce actor creation overheads.\n"
     ]
    },
    {
     "name": "stderr",
     "output_type": "stream",
     "text": [
      "\u001b[36m(TrainLightGCN pid=422402)\u001b[0m Checkpoint successfully created at: Checkpoint(filesystem=local, path=/home/daviddavo/ray_results/LightGCN_optim=map@10,dao=PancakeSwap,freq=3d,normalize=True,cutoff_date=2023-07-01T00:00:00,fold=9_2024-03-24T01:56:59.853079/TrainLightGCN_2a2ab508_27_batch_size=13,conv_layers=1,embedding_dim=2,fold=9,l2=0.0001,learning_rate=0.0103_2024-03-24_02-34-32/checkpoint_000000)\n"
     ]
    },
    {
     "name": "stderr",
     "output_type": "stream",
     "text": [
      "\u001b[36m(pid=423883)\u001b[0m 2024-03-24 02:41:47.300228: E tensorflow/compiler/xla/stream_executor/cuda/cuda_dnn.cc:9342] Unable to register cuDNN factory: Attempting to register factory for plugin cuDNN when one has already been registered\n",
      "\u001b[36m(pid=423883)\u001b[0m 2024-03-24 02:41:47.300265: E tensorflow/compiler/xla/stream_executor/cuda/cuda_fft.cc:609] Unable to register cuFFT factory: Attempting to register factory for plugin cuFFT when one has already been registered\n",
      "\u001b[36m(pid=423883)\u001b[0m 2024-03-24 02:41:47.300281: E tensorflow/compiler/xla/stream_executor/cuda/cuda_blas.cc:1518] Unable to register cuBLAS factory: Attempting to register factory for plugin cuBLAS when one has already been registered\n"
     ]
    },
    {
     "name": "stderr",
     "output_type": "stream",
     "text": [
      "\u001b[36m(TrainLightGCN pid=423883)\u001b[0m /home/daviddavo/upm-tfm-notebooks/.direnv/python-3.9/lib/python3.9/site-packages/recommenders/models/deeprec/DataModel/ImplicitCF.py:73: FutureWarning: The frame.append method is deprecated and will be removed from pandas in a future version. Use pandas.concat instead.\n",
      "\u001b[36m(TrainLightGCN pid=423883)\u001b[0m   df = train if test is None else train.append(test)\n"
     ]
    },
    {
     "name": "stdout",
     "output_type": "stream",
     "text": [
      "\u001b[36m(TrainLightGCN pid=423883)\u001b[0m Already create adjacency matrix.\n"
     ]
    },
    {
     "name": "stdout",
     "output_type": "stream",
     "text": [
      "\u001b[36m(TrainLightGCN pid=423883)\u001b[0m Already normalize adjacency matrix.\n",
      "\u001b[36m(TrainLightGCN pid=423883)\u001b[0m Using xavier initialization.\n"
     ]
    },
    {
     "name": "stderr",
     "output_type": "stream",
     "text": [
      "\u001b[36m(TrainLightGCN pid=423883)\u001b[0m Trainable.setup took 11.904 seconds. If your trainable is slow to initialize, consider setting reuse_actors=True to reduce actor creation overheads.\n"
     ]
    },
    {
     "name": "stderr",
     "output_type": "stream",
     "text": [
      "\u001b[36m(TrainLightGCN pid=422688)\u001b[0m Checkpoint successfully created at: Checkpoint(filesystem=local, path=/home/daviddavo/ray_results/LightGCN_optim=map@10,dao=PancakeSwap,freq=3d,normalize=True,cutoff_date=2023-07-01T00:00:00,fold=9_2024-03-24T01:56:59.853079/TrainLightGCN_ec2e6ef9_28_batch_size=11,conv_layers=2,embedding_dim=1,fold=9,l2=0.0000,learning_rate=0.0134_2024-03-24_02-37-11/checkpoint_000000)\n"
     ]
    },
    {
     "name": "stderr",
     "output_type": "stream",
     "text": [
      "\u001b[36m(pid=424278)\u001b[0m 2024-03-24 02:43:08.334960: E tensorflow/compiler/xla/stream_executor/cuda/cuda_dnn.cc:9342] Unable to register cuDNN factory: Attempting to register factory for plugin cuDNN when one has already been registered\n",
      "\u001b[36m(pid=424278)\u001b[0m 2024-03-24 02:43:08.334999: E tensorflow/compiler/xla/stream_executor/cuda/cuda_fft.cc:609] Unable to register cuFFT factory: Attempting to register factory for plugin cuFFT when one has already been registered\n",
      "\u001b[36m(pid=424278)\u001b[0m 2024-03-24 02:43:08.335012: E tensorflow/compiler/xla/stream_executor/cuda/cuda_blas.cc:1518] Unable to register cuBLAS factory: Attempting to register factory for plugin cuBLAS when one has already been registered\n"
     ]
    },
    {
     "name": "stderr",
     "output_type": "stream",
     "text": [
      "\u001b[36m(TrainLightGCN pid=424278)\u001b[0m /home/daviddavo/upm-tfm-notebooks/.direnv/python-3.9/lib/python3.9/site-packages/recommenders/models/deeprec/DataModel/ImplicitCF.py:73: FutureWarning: The frame.append method is deprecated and will be removed from pandas in a future version. Use pandas.concat instead.\n",
      "\u001b[36m(TrainLightGCN pid=424278)\u001b[0m   df = train if test is None else train.append(test)\n"
     ]
    },
    {
     "name": "stdout",
     "output_type": "stream",
     "text": [
      "\u001b[36m(TrainLightGCN pid=424278)\u001b[0m Already create adjacency matrix.\n"
     ]
    },
    {
     "name": "stdout",
     "output_type": "stream",
     "text": [
      "\u001b[36m(TrainLightGCN pid=424278)\u001b[0m Already normalize adjacency matrix.\n",
      "\u001b[36m(TrainLightGCN pid=424278)\u001b[0m Using xavier initialization.\n"
     ]
    },
    {
     "name": "stderr",
     "output_type": "stream",
     "text": [
      "\u001b[36m(TrainLightGCN pid=424278)\u001b[0m Trainable.setup took 11.851 seconds. If your trainable is slow to initialize, consider setting reuse_actors=True to reduce actor creation overheads.\n"
     ]
    },
    {
     "name": "stderr",
     "output_type": "stream",
     "text": [
      "\u001b[36m(TrainLightGCN pid=422961)\u001b[0m Checkpoint successfully created at: Checkpoint(filesystem=local, path=/home/daviddavo/ray_results/LightGCN_optim=map@10,dao=PancakeSwap,freq=3d,normalize=True,cutoff_date=2023-07-01T00:00:00,fold=9_2024-03-24T01:56:59.853079/TrainLightGCN_8aafa060_29_batch_size=10,conv_layers=1,embedding_dim=218,fold=9,l2=0.0000,learning_rate=0.2246_2024-03-24_02-37-56/checkpoint_000000)\n"
     ]
    },
    {
     "name": "stderr",
     "output_type": "stream",
     "text": [
      "\u001b[36m(pid=424579)\u001b[0m 2024-03-24 02:43:58.346084: E tensorflow/compiler/xla/stream_executor/cuda/cuda_dnn.cc:9342] Unable to register cuDNN factory: Attempting to register factory for plugin cuDNN when one has already been registered\n",
      "\u001b[36m(pid=424579)\u001b[0m 2024-03-24 02:43:58.346121: E tensorflow/compiler/xla/stream_executor/cuda/cuda_fft.cc:609] Unable to register cuFFT factory: Attempting to register factory for plugin cuFFT when one has already been registered\n",
      "\u001b[36m(pid=424579)\u001b[0m 2024-03-24 02:43:58.346137: E tensorflow/compiler/xla/stream_executor/cuda/cuda_blas.cc:1518] Unable to register cuBLAS factory: Attempting to register factory for plugin cuBLAS when one has already been registered\n"
     ]
    },
    {
     "name": "stderr",
     "output_type": "stream",
     "text": [
      "\u001b[36m(TrainLightGCN pid=424579)\u001b[0m /home/daviddavo/upm-tfm-notebooks/.direnv/python-3.9/lib/python3.9/site-packages/recommenders/models/deeprec/DataModel/ImplicitCF.py:73: FutureWarning: The frame.append method is deprecated and will be removed from pandas in a future version. Use pandas.concat instead.\n",
      "\u001b[36m(TrainLightGCN pid=424579)\u001b[0m   df = train if test is None else train.append(test)\n"
     ]
    },
    {
     "name": "stdout",
     "output_type": "stream",
     "text": [
      "\u001b[36m(TrainLightGCN pid=424579)\u001b[0m Already create adjacency matrix.\n"
     ]
    },
    {
     "name": "stdout",
     "output_type": "stream",
     "text": [
      "\u001b[36m(TrainLightGCN pid=424579)\u001b[0m Already normalize adjacency matrix.\n",
      "\u001b[36m(TrainLightGCN pid=424579)\u001b[0m Using xavier initialization.\n"
     ]
    },
    {
     "name": "stderr",
     "output_type": "stream",
     "text": [
      "\u001b[36m(TrainLightGCN pid=424579)\u001b[0m Trainable.setup took 11.708 seconds. If your trainable is slow to initialize, consider setting reuse_actors=True to reduce actor creation overheads.\n"
     ]
    },
    {
     "name": "stderr",
     "output_type": "stream",
     "text": [
      "\u001b[36m(TrainLightGCN pid=423292)\u001b[0m Checkpoint successfully created at: Checkpoint(filesystem=local, path=/home/daviddavo/ray_results/LightGCN_optim=map@10,dao=PancakeSwap,freq=3d,normalize=True,cutoff_date=2023-07-01T00:00:00,fold=9_2024-03-24T01:56:59.853079/TrainLightGCN_3328efa3_30_batch_size=6,conv_layers=2,embedding_dim=9,fold=9,l2=0.0000,learning_rate=0.1652_2024-03-24_02-38-34/checkpoint_000000)\n"
     ]
    },
    {
     "name": "stderr",
     "output_type": "stream",
     "text": [
      "\u001b[36m(pid=424859)\u001b[0m 2024-03-24 02:44:39.340578: E tensorflow/compiler/xla/stream_executor/cuda/cuda_dnn.cc:9342] Unable to register cuDNN factory: Attempting to register factory for plugin cuDNN when one has already been registered\n",
      "\u001b[36m(pid=424859)\u001b[0m 2024-03-24 02:44:39.340617: E tensorflow/compiler/xla/stream_executor/cuda/cuda_fft.cc:609] Unable to register cuFFT factory: Attempting to register factory for plugin cuFFT when one has already been registered\n",
      "\u001b[36m(pid=424859)\u001b[0m 2024-03-24 02:44:39.340631: E tensorflow/compiler/xla/stream_executor/cuda/cuda_blas.cc:1518] Unable to register cuBLAS factory: Attempting to register factory for plugin cuBLAS when one has already been registered\n"
     ]
    },
    {
     "name": "stderr",
     "output_type": "stream",
     "text": [
      "\u001b[36m(TrainLightGCN pid=424859)\u001b[0m /home/daviddavo/upm-tfm-notebooks/.direnv/python-3.9/lib/python3.9/site-packages/recommenders/models/deeprec/DataModel/ImplicitCF.py:73: FutureWarning: The frame.append method is deprecated and will be removed from pandas in a future version. Use pandas.concat instead.\n",
      "\u001b[36m(TrainLightGCN pid=424859)\u001b[0m   df = train if test is None else train.append(test)\n"
     ]
    },
    {
     "name": "stdout",
     "output_type": "stream",
     "text": [
      "\u001b[36m(TrainLightGCN pid=424859)\u001b[0m Already create adjacency matrix.\n"
     ]
    },
    {
     "name": "stdout",
     "output_type": "stream",
     "text": [
      "\u001b[36m(TrainLightGCN pid=424859)\u001b[0m Already normalize adjacency matrix.\n",
      "\u001b[36m(TrainLightGCN pid=424859)\u001b[0m Using xavier initialization.\n"
     ]
    },
    {
     "name": "stderr",
     "output_type": "stream",
     "text": [
      "\u001b[36m(TrainLightGCN pid=424859)\u001b[0m Trainable.setup took 11.659 seconds. If your trainable is slow to initialize, consider setting reuse_actors=True to reduce actor creation overheads.\n"
     ]
    },
    {
     "name": "stderr",
     "output_type": "stream",
     "text": [
      "\u001b[36m(TrainLightGCN pid=423883)\u001b[0m Checkpoint successfully created at: Checkpoint(filesystem=local, path=/home/daviddavo/ray_results/LightGCN_optim=map@10,dao=PancakeSwap,freq=3d,normalize=True,cutoff_date=2023-07-01T00:00:00,fold=9_2024-03-24T01:56:59.853079/TrainLightGCN_583b970a_31_batch_size=12,conv_layers=2,embedding_dim=2,fold=9,l2=0.0002,learning_rate=0.0272_2024-03-24_02-39-33/checkpoint_000000)\n"
     ]
    },
    {
     "name": "stderr",
     "output_type": "stream",
     "text": [
      "\u001b[36m(pid=425405)\u001b[0m 2024-03-24 02:46:52.354492: E tensorflow/compiler/xla/stream_executor/cuda/cuda_dnn.cc:9342] Unable to register cuDNN factory: Attempting to register factory for plugin cuDNN when one has already been registered\n",
      "\u001b[36m(pid=425405)\u001b[0m 2024-03-24 02:46:52.354525: E tensorflow/compiler/xla/stream_executor/cuda/cuda_fft.cc:609] Unable to register cuFFT factory: Attempting to register factory for plugin cuFFT when one has already been registered\n",
      "\u001b[36m(pid=425405)\u001b[0m 2024-03-24 02:46:52.354542: E tensorflow/compiler/xla/stream_executor/cuda/cuda_blas.cc:1518] Unable to register cuBLAS factory: Attempting to register factory for plugin cuBLAS when one has already been registered\n"
     ]
    },
    {
     "name": "stderr",
     "output_type": "stream",
     "text": [
      "\u001b[36m(TrainLightGCN pid=425405)\u001b[0m /home/daviddavo/upm-tfm-notebooks/.direnv/python-3.9/lib/python3.9/site-packages/recommenders/models/deeprec/DataModel/ImplicitCF.py:73: FutureWarning: The frame.append method is deprecated and will be removed from pandas in a future version. Use pandas.concat instead.\n",
      "\u001b[36m(TrainLightGCN pid=425405)\u001b[0m   df = train if test is None else train.append(test)\n"
     ]
    },
    {
     "name": "stdout",
     "output_type": "stream",
     "text": [
      "\u001b[36m(TrainLightGCN pid=425405)\u001b[0m Already create adjacency matrix.\n"
     ]
    },
    {
     "name": "stdout",
     "output_type": "stream",
     "text": [
      "\u001b[36m(TrainLightGCN pid=425405)\u001b[0m Already normalize adjacency matrix.\n",
      "\u001b[36m(TrainLightGCN pid=425405)\u001b[0m Using xavier initialization.\n"
     ]
    },
    {
     "name": "stderr",
     "output_type": "stream",
     "text": [
      "\u001b[36m(TrainLightGCN pid=425405)\u001b[0m Trainable.setup took 11.729 seconds. If your trainable is slow to initialize, consider setting reuse_actors=True to reduce actor creation overheads.\n"
     ]
    },
    {
     "name": "stderr",
     "output_type": "stream",
     "text": [
      "\u001b[36m(TrainLightGCN pid=424278)\u001b[0m Checkpoint successfully created at: Checkpoint(filesystem=local, path=/home/daviddavo/ray_results/LightGCN_optim=map@10,dao=PancakeSwap,freq=3d,normalize=True,cutoff_date=2023-07-01T00:00:00,fold=9_2024-03-24T01:56:59.853079/TrainLightGCN_34b7d23c_32_batch_size=13,conv_layers=2,embedding_dim=2,fold=9,l2=0.0000,learning_rate=0.0516_2024-03-24_02-42-01/checkpoint_000000)\n"
     ]
    },
    {
     "name": "stderr",
     "output_type": "stream",
     "text": [
      "\u001b[36m(pid=425667)\u001b[0m 2024-03-24 02:47:27.337507: E tensorflow/compiler/xla/stream_executor/cuda/cuda_dnn.cc:9342] Unable to register cuDNN factory: Attempting to register factory for plugin cuDNN when one has already been registered\n",
      "\u001b[36m(pid=425667)\u001b[0m 2024-03-24 02:47:27.337543: E tensorflow/compiler/xla/stream_executor/cuda/cuda_fft.cc:609] Unable to register cuFFT factory: Attempting to register factory for plugin cuFFT when one has already been registered\n",
      "\u001b[36m(pid=425667)\u001b[0m 2024-03-24 02:47:27.337559: E tensorflow/compiler/xla/stream_executor/cuda/cuda_blas.cc:1518] Unable to register cuBLAS factory: Attempting to register factory for plugin cuBLAS when one has already been registered\n"
     ]
    },
    {
     "name": "stderr",
     "output_type": "stream",
     "text": [
      "\u001b[36m(TrainLightGCN pid=425667)\u001b[0m /home/daviddavo/upm-tfm-notebooks/.direnv/python-3.9/lib/python3.9/site-packages/recommenders/models/deeprec/DataModel/ImplicitCF.py:73: FutureWarning: The frame.append method is deprecated and will be removed from pandas in a future version. Use pandas.concat instead.\n",
      "\u001b[36m(TrainLightGCN pid=425667)\u001b[0m   df = train if test is None else train.append(test)\n"
     ]
    },
    {
     "name": "stdout",
     "output_type": "stream",
     "text": [
      "\u001b[36m(TrainLightGCN pid=425667)\u001b[0m Already create adjacency matrix.\n"
     ]
    },
    {
     "name": "stdout",
     "output_type": "stream",
     "text": [
      "\u001b[36m(TrainLightGCN pid=425667)\u001b[0m Already normalize adjacency matrix.\n",
      "\u001b[36m(TrainLightGCN pid=425667)\u001b[0m Using xavier initialization.\n"
     ]
    },
    {
     "name": "stderr",
     "output_type": "stream",
     "text": [
      "\u001b[36m(TrainLightGCN pid=425667)\u001b[0m Trainable.setup took 11.671 seconds. If your trainable is slow to initialize, consider setting reuse_actors=True to reduce actor creation overheads.\n"
     ]
    },
    {
     "name": "stderr",
     "output_type": "stream",
     "text": [
      "\u001b[36m(TrainLightGCN pid=424859)\u001b[0m Checkpoint successfully created at: Checkpoint(filesystem=local, path=/home/daviddavo/ray_results/LightGCN_optim=map@10,dao=PancakeSwap,freq=3d,normalize=True,cutoff_date=2023-07-01T00:00:00,fold=9_2024-03-24T01:56:59.853079/TrainLightGCN_3dec279b_34_batch_size=12,conv_layers=1,embedding_dim=11,fold=9,l2=0.0000,learning_rate=0.0732_2024-03-24_02-44-12/checkpoint_000000)\n"
     ]
    },
    {
     "name": "stderr",
     "output_type": "stream",
     "text": [
      "\u001b[36m(pid=426119)\u001b[0m 2024-03-24 02:49:08.372149: E tensorflow/compiler/xla/stream_executor/cuda/cuda_dnn.cc:9342] Unable to register cuDNN factory: Attempting to register factory for plugin cuDNN when one has already been registered\n",
      "\u001b[36m(pid=426119)\u001b[0m 2024-03-24 02:49:08.372187: E tensorflow/compiler/xla/stream_executor/cuda/cuda_fft.cc:609] Unable to register cuFFT factory: Attempting to register factory for plugin cuFFT when one has already been registered\n",
      "\u001b[36m(pid=426119)\u001b[0m 2024-03-24 02:49:08.372204: E tensorflow/compiler/xla/stream_executor/cuda/cuda_blas.cc:1518] Unable to register cuBLAS factory: Attempting to register factory for plugin cuBLAS when one has already been registered\n"
     ]
    },
    {
     "name": "stderr",
     "output_type": "stream",
     "text": [
      "\u001b[36m(TrainLightGCN pid=426119)\u001b[0m /home/daviddavo/upm-tfm-notebooks/.direnv/python-3.9/lib/python3.9/site-packages/recommenders/models/deeprec/DataModel/ImplicitCF.py:73: FutureWarning: The frame.append method is deprecated and will be removed from pandas in a future version. Use pandas.concat instead.\n",
      "\u001b[36m(TrainLightGCN pid=426119)\u001b[0m   df = train if test is None else train.append(test)\n"
     ]
    },
    {
     "name": "stderr",
     "output_type": "stream",
     "text": [
      "\u001b[36m(TrainLightGCN pid=424579)\u001b[0m Checkpoint successfully created at: Checkpoint(filesystem=local, path=/home/daviddavo/ray_results/LightGCN_optim=map@10,dao=PancakeSwap,freq=3d,normalize=True,cutoff_date=2023-07-01T00:00:00,fold=9_2024-03-24T01:56:59.853079/TrainLightGCN_3cff0cd2_33_batch_size=10,conv_layers=2,embedding_dim=1,fold=9,l2=0.0003,learning_rate=0.0173_2024-03-24_02-43-22/checkpoint_000000)\n"
     ]
    },
    {
     "name": "stdout",
     "output_type": "stream",
     "text": [
      "\u001b[36m(TrainLightGCN pid=426119)\u001b[0m Already create adjacency matrix.\n"
     ]
    },
    {
     "name": "stdout",
     "output_type": "stream",
     "text": [
      "\u001b[36m(TrainLightGCN pid=426119)\u001b[0m Already normalize adjacency matrix.\n",
      "\u001b[36m(TrainLightGCN pid=426119)\u001b[0m Using xavier initialization.\n"
     ]
    },
    {
     "name": "stderr",
     "output_type": "stream",
     "text": [
      "\u001b[36m(TrainLightGCN pid=426119)\u001b[0m Trainable.setup took 11.707 seconds. If your trainable is slow to initialize, consider setting reuse_actors=True to reduce actor creation overheads.\n"
     ]
    },
    {
     "name": "stderr",
     "output_type": "stream",
     "text": [
      "\u001b[36m(pid=426298)\u001b[0m 2024-03-24 02:49:23.305855: E tensorflow/compiler/xla/stream_executor/cuda/cuda_dnn.cc:9342] Unable to register cuDNN factory: Attempting to register factory for plugin cuDNN when one has already been registered\n",
      "\u001b[36m(pid=426298)\u001b[0m 2024-03-24 02:49:23.305895: E tensorflow/compiler/xla/stream_executor/cuda/cuda_fft.cc:609] Unable to register cuFFT factory: Attempting to register factory for plugin cuFFT when one has already been registered\n",
      "\u001b[36m(pid=426298)\u001b[0m 2024-03-24 02:49:23.305910: E tensorflow/compiler/xla/stream_executor/cuda/cuda_blas.cc:1518] Unable to register cuBLAS factory: Attempting to register factory for plugin cuBLAS when one has already been registered\n"
     ]
    },
    {
     "name": "stderr",
     "output_type": "stream",
     "text": [
      "\u001b[36m(TrainLightGCN pid=426298)\u001b[0m /home/daviddavo/upm-tfm-notebooks/.direnv/python-3.9/lib/python3.9/site-packages/recommenders/models/deeprec/DataModel/ImplicitCF.py:73: FutureWarning: The frame.append method is deprecated and will be removed from pandas in a future version. Use pandas.concat instead.\n",
      "\u001b[36m(TrainLightGCN pid=426298)\u001b[0m   df = train if test is None else train.append(test)\n"
     ]
    },
    {
     "name": "stdout",
     "output_type": "stream",
     "text": [
      "\u001b[36m(TrainLightGCN pid=426298)\u001b[0m Already create adjacency matrix.\n"
     ]
    },
    {
     "name": "stdout",
     "output_type": "stream",
     "text": [
      "\u001b[36m(TrainLightGCN pid=426298)\u001b[0m Already normalize adjacency matrix.\n",
      "\u001b[36m(TrainLightGCN pid=426298)\u001b[0m Using xavier initialization.\n"
     ]
    },
    {
     "name": "stderr",
     "output_type": "stream",
     "text": [
      "\u001b[36m(TrainLightGCN pid=426298)\u001b[0m Trainable.setup took 11.676 seconds. If your trainable is slow to initialize, consider setting reuse_actors=True to reduce actor creation overheads.\n"
     ]
    },
    {
     "name": "stderr",
     "output_type": "stream",
     "text": [
      "\u001b[36m(TrainLightGCN pid=425667)\u001b[0m Checkpoint successfully created at: Checkpoint(filesystem=local, path=/home/daviddavo/ray_results/LightGCN_optim=map@10,dao=PancakeSwap,freq=3d,normalize=True,cutoff_date=2023-07-01T00:00:00,fold=9_2024-03-24T01:56:59.853079/TrainLightGCN_09a5c438_36_batch_size=13,conv_layers=2,embedding_dim=1,fold=9,l2=0.0022,learning_rate=0.0132_2024-03-24_02-47-06/checkpoint_000000)\n"
     ]
    },
    {
     "name": "stderr",
     "output_type": "stream",
     "text": [
      "\u001b[36m(pid=426883)\u001b[0m 2024-03-24 02:51:41.393397: E tensorflow/compiler/xla/stream_executor/cuda/cuda_dnn.cc:9342] Unable to register cuDNN factory: Attempting to register factory for plugin cuDNN when one has already been registered\n",
      "\u001b[36m(pid=426883)\u001b[0m 2024-03-24 02:51:41.393435: E tensorflow/compiler/xla/stream_executor/cuda/cuda_fft.cc:609] Unable to register cuFFT factory: Attempting to register factory for plugin cuFFT when one has already been registered\n",
      "\u001b[36m(pid=426883)\u001b[0m 2024-03-24 02:51:41.393447: E tensorflow/compiler/xla/stream_executor/cuda/cuda_blas.cc:1518] Unable to register cuBLAS factory: Attempting to register factory for plugin cuBLAS when one has already been registered\n"
     ]
    },
    {
     "name": "stderr",
     "output_type": "stream",
     "text": [
      "\u001b[36m(TrainLightGCN pid=426883)\u001b[0m /home/daviddavo/upm-tfm-notebooks/.direnv/python-3.9/lib/python3.9/site-packages/recommenders/models/deeprec/DataModel/ImplicitCF.py:73: FutureWarning: The frame.append method is deprecated and will be removed from pandas in a future version. Use pandas.concat instead.\n",
      "\u001b[36m(TrainLightGCN pid=426883)\u001b[0m   df = train if test is None else train.append(test)\n"
     ]
    },
    {
     "name": "stdout",
     "output_type": "stream",
     "text": [
      "\u001b[36m(TrainLightGCN pid=426883)\u001b[0m Already create adjacency matrix.\n"
     ]
    },
    {
     "name": "stdout",
     "output_type": "stream",
     "text": [
      "\u001b[36m(TrainLightGCN pid=426883)\u001b[0m Already normalize adjacency matrix.\n",
      "\u001b[36m(TrainLightGCN pid=426883)\u001b[0m Using xavier initialization.\n"
     ]
    },
    {
     "name": "stderr",
     "output_type": "stream",
     "text": [
      "\u001b[36m(TrainLightGCN pid=426883)\u001b[0m Trainable.setup took 11.738 seconds. If your trainable is slow to initialize, consider setting reuse_actors=True to reduce actor creation overheads.\n"
     ]
    },
    {
     "name": "stderr",
     "output_type": "stream",
     "text": [
      "\u001b[36m(TrainLightGCN pid=425405)\u001b[0m Checkpoint successfully created at: Checkpoint(filesystem=local, path=/home/daviddavo/ray_results/LightGCN_optim=map@10,dao=PancakeSwap,freq=3d,normalize=True,cutoff_date=2023-07-01T00:00:00,fold=9_2024-03-24T01:56:59.853079/TrainLightGCN_1962b8bc_35_batch_size=11,conv_layers=3,embedding_dim=2,fold=9,l2=0.0001,learning_rate=0.0100_2024-03-24_02-44-53/checkpoint_000000)\n"
     ]
    },
    {
     "name": "stderr",
     "output_type": "stream",
     "text": [
      "\u001b[36m(pid=427094)\u001b[0m 2024-03-24 02:51:59.371547: E tensorflow/compiler/xla/stream_executor/cuda/cuda_dnn.cc:9342] Unable to register cuDNN factory: Attempting to register factory for plugin cuDNN when one has already been registered\n",
      "\u001b[36m(pid=427094)\u001b[0m 2024-03-24 02:51:59.371583: E tensorflow/compiler/xla/stream_executor/cuda/cuda_fft.cc:609] Unable to register cuFFT factory: Attempting to register factory for plugin cuFFT when one has already been registered\n",
      "\u001b[36m(pid=427094)\u001b[0m 2024-03-24 02:51:59.371596: E tensorflow/compiler/xla/stream_executor/cuda/cuda_blas.cc:1518] Unable to register cuBLAS factory: Attempting to register factory for plugin cuBLAS when one has already been registered\n"
     ]
    },
    {
     "name": "stderr",
     "output_type": "stream",
     "text": [
      "\u001b[36m(TrainLightGCN pid=427094)\u001b[0m /home/daviddavo/upm-tfm-notebooks/.direnv/python-3.9/lib/python3.9/site-packages/recommenders/models/deeprec/DataModel/ImplicitCF.py:73: FutureWarning: The frame.append method is deprecated and will be removed from pandas in a future version. Use pandas.concat instead.\n",
      "\u001b[36m(TrainLightGCN pid=427094)\u001b[0m   df = train if test is None else train.append(test)\n"
     ]
    },
    {
     "name": "stdout",
     "output_type": "stream",
     "text": [
      "\u001b[36m(TrainLightGCN pid=427094)\u001b[0m Already create adjacency matrix.\n"
     ]
    },
    {
     "name": "stdout",
     "output_type": "stream",
     "text": [
      "\u001b[36m(TrainLightGCN pid=427094)\u001b[0m Already normalize adjacency matrix.\n",
      "\u001b[36m(TrainLightGCN pid=427094)\u001b[0m Using xavier initialization.\n"
     ]
    },
    {
     "name": "stderr",
     "output_type": "stream",
     "text": [
      "\u001b[36m(TrainLightGCN pid=427094)\u001b[0m Trainable.setup took 11.738 seconds. If your trainable is slow to initialize, consider setting reuse_actors=True to reduce actor creation overheads.\n"
     ]
    },
    {
     "name": "stderr",
     "output_type": "stream",
     "text": [
      "\u001b[36m(TrainLightGCN pid=426119)\u001b[0m Checkpoint successfully created at: Checkpoint(filesystem=local, path=/home/daviddavo/ray_results/LightGCN_optim=map@10,dao=PancakeSwap,freq=3d,normalize=True,cutoff_date=2023-07-01T00:00:00,fold=9_2024-03-24T01:56:59.853079/TrainLightGCN_7a30ff98_37_batch_size=13,conv_layers=3,embedding_dim=2,fold=9,l2=0.0000,learning_rate=0.0518_2024-03-24_02-47-41/checkpoint_000000)\n"
     ]
    },
    {
     "name": "stderr",
     "output_type": "stream",
     "text": [
      "\u001b[36m(pid=427505)\u001b[0m 2024-03-24 02:53:25.409310: E tensorflow/compiler/xla/stream_executor/cuda/cuda_dnn.cc:9342] Unable to register cuDNN factory: Attempting to register factory for plugin cuDNN when one has already been registered\n",
      "\u001b[36m(pid=427505)\u001b[0m 2024-03-24 02:53:25.409348: E tensorflow/compiler/xla/stream_executor/cuda/cuda_fft.cc:609] Unable to register cuFFT factory: Attempting to register factory for plugin cuFFT when one has already been registered\n",
      "\u001b[36m(pid=427505)\u001b[0m 2024-03-24 02:53:25.409366: E tensorflow/compiler/xla/stream_executor/cuda/cuda_blas.cc:1518] Unable to register cuBLAS factory: Attempting to register factory for plugin cuBLAS when one has already been registered\n"
     ]
    },
    {
     "name": "stderr",
     "output_type": "stream",
     "text": [
      "\u001b[36m(TrainLightGCN pid=427505)\u001b[0m /home/daviddavo/upm-tfm-notebooks/.direnv/python-3.9/lib/python3.9/site-packages/recommenders/models/deeprec/DataModel/ImplicitCF.py:73: FutureWarning: The frame.append method is deprecated and will be removed from pandas in a future version. Use pandas.concat instead.\n",
      "\u001b[36m(TrainLightGCN pid=427505)\u001b[0m   df = train if test is None else train.append(test)\n"
     ]
    },
    {
     "name": "stdout",
     "output_type": "stream",
     "text": [
      "\u001b[36m(TrainLightGCN pid=427505)\u001b[0m Already create adjacency matrix.\n"
     ]
    },
    {
     "name": "stdout",
     "output_type": "stream",
     "text": [
      "\u001b[36m(TrainLightGCN pid=427505)\u001b[0m Already normalize adjacency matrix.\n",
      "\u001b[36m(TrainLightGCN pid=427505)\u001b[0m Using xavier initialization.\n"
     ]
    },
    {
     "name": "stderr",
     "output_type": "stream",
     "text": [
      "\u001b[36m(TrainLightGCN pid=427505)\u001b[0m Trainable.setup took 11.749 seconds. If your trainable is slow to initialize, consider setting reuse_actors=True to reduce actor creation overheads.\n"
     ]
    },
    {
     "name": "stderr",
     "output_type": "stream",
     "text": [
      "\u001b[36m(TrainLightGCN pid=426298)\u001b[0m Checkpoint successfully created at: Checkpoint(filesystem=local, path=/home/daviddavo/ray_results/LightGCN_optim=map@10,dao=PancakeSwap,freq=3d,normalize=True,cutoff_date=2023-07-01T00:00:00,fold=9_2024-03-24T01:56:59.853079/TrainLightGCN_2b195912_38_batch_size=10,conv_layers=2,embedding_dim=1,fold=9,l2=0.0003,learning_rate=0.0179_2024-03-24_02-49-22/checkpoint_000000)\n"
     ]
    },
    {
     "name": "stderr",
     "output_type": "stream",
     "text": [
      "\u001b[36m(pid=427923)\u001b[0m 2024-03-24 02:54:53.406347: E tensorflow/compiler/xla/stream_executor/cuda/cuda_dnn.cc:9342] Unable to register cuDNN factory: Attempting to register factory for plugin cuDNN when one has already been registered\n",
      "\u001b[36m(pid=427923)\u001b[0m 2024-03-24 02:54:53.406382: E tensorflow/compiler/xla/stream_executor/cuda/cuda_fft.cc:609] Unable to register cuFFT factory: Attempting to register factory for plugin cuFFT when one has already been registered\n",
      "\u001b[36m(pid=427923)\u001b[0m 2024-03-24 02:54:53.406396: E tensorflow/compiler/xla/stream_executor/cuda/cuda_blas.cc:1518] Unable to register cuBLAS factory: Attempting to register factory for plugin cuBLAS when one has already been registered\n"
     ]
    },
    {
     "name": "stderr",
     "output_type": "stream",
     "text": [
      "\u001b[36m(TrainLightGCN pid=427923)\u001b[0m /home/daviddavo/upm-tfm-notebooks/.direnv/python-3.9/lib/python3.9/site-packages/recommenders/models/deeprec/DataModel/ImplicitCF.py:73: FutureWarning: The frame.append method is deprecated and will be removed from pandas in a future version. Use pandas.concat instead.\n",
      "\u001b[36m(TrainLightGCN pid=427923)\u001b[0m   df = train if test is None else train.append(test)\n"
     ]
    },
    {
     "name": "stdout",
     "output_type": "stream",
     "text": [
      "\u001b[36m(TrainLightGCN pid=427923)\u001b[0m Already create adjacency matrix.\n"
     ]
    },
    {
     "name": "stdout",
     "output_type": "stream",
     "text": [
      "\u001b[36m(TrainLightGCN pid=427923)\u001b[0m Already normalize adjacency matrix.\n",
      "\u001b[36m(TrainLightGCN pid=427923)\u001b[0m Using xavier initialization.\n"
     ]
    },
    {
     "name": "stderr",
     "output_type": "stream",
     "text": [
      "\u001b[36m(TrainLightGCN pid=427923)\u001b[0m Trainable.setup took 11.726 seconds. If your trainable is slow to initialize, consider setting reuse_actors=True to reduce actor creation overheads.\n"
     ]
    },
    {
     "name": "stderr",
     "output_type": "stream",
     "text": [
      "\u001b[36m(TrainLightGCN pid=426883)\u001b[0m Checkpoint successfully created at: Checkpoint(filesystem=local, path=/home/daviddavo/ray_results/LightGCN_optim=map@10,dao=PancakeSwap,freq=3d,normalize=True,cutoff_date=2023-07-01T00:00:00,fold=9_2024-03-24T01:56:59.853079/TrainLightGCN_6249efb2_39_batch_size=9,conv_layers=2,embedding_dim=3,fold=9,l2=0.0002,learning_rate=0.0259_2024-03-24_02-49-37/checkpoint_000000)\n"
     ]
    },
    {
     "name": "stderr",
     "output_type": "stream",
     "text": [
      "\u001b[36m(pid=428490)\u001b[0m 2024-03-24 02:57:13.423305: E tensorflow/compiler/xla/stream_executor/cuda/cuda_dnn.cc:9342] Unable to register cuDNN factory: Attempting to register factory for plugin cuDNN when one has already been registered\n",
      "\u001b[36m(pid=428490)\u001b[0m 2024-03-24 02:57:13.423345: E tensorflow/compiler/xla/stream_executor/cuda/cuda_fft.cc:609] Unable to register cuFFT factory: Attempting to register factory for plugin cuFFT when one has already been registered\n",
      "\u001b[36m(pid=428490)\u001b[0m 2024-03-24 02:57:13.423358: E tensorflow/compiler/xla/stream_executor/cuda/cuda_blas.cc:1518] Unable to register cuBLAS factory: Attempting to register factory for plugin cuBLAS when one has already been registered\n"
     ]
    },
    {
     "name": "stderr",
     "output_type": "stream",
     "text": [
      "\u001b[36m(TrainLightGCN pid=428490)\u001b[0m /home/daviddavo/upm-tfm-notebooks/.direnv/python-3.9/lib/python3.9/site-packages/recommenders/models/deeprec/DataModel/ImplicitCF.py:73: FutureWarning: The frame.append method is deprecated and will be removed from pandas in a future version. Use pandas.concat instead.\n",
      "\u001b[36m(TrainLightGCN pid=428490)\u001b[0m   df = train if test is None else train.append(test)\n"
     ]
    },
    {
     "name": "stderr",
     "output_type": "stream",
     "text": [
      "\u001b[36m(TrainLightGCN pid=427094)\u001b[0m Checkpoint successfully created at: Checkpoint(filesystem=local, path=/home/daviddavo/ray_results/LightGCN_optim=map@10,dao=PancakeSwap,freq=3d,normalize=True,cutoff_date=2023-07-01T00:00:00,fold=9_2024-03-24T01:56:59.853079/TrainLightGCN_faacbe44_40_batch_size=10,conv_layers=3,embedding_dim=1,fold=9,l2=0.0006,learning_rate=0.0405_2024-03-24_02-51-55/checkpoint_000000)\n"
     ]
    },
    {
     "name": "stdout",
     "output_type": "stream",
     "text": [
      "\u001b[36m(TrainLightGCN pid=428490)\u001b[0m Already create adjacency matrix.\n"
     ]
    },
    {
     "name": "stdout",
     "output_type": "stream",
     "text": [
      "\u001b[36m(TrainLightGCN pid=428490)\u001b[0m Already normalize adjacency matrix.\n",
      "\u001b[36m(TrainLightGCN pid=428490)\u001b[0m Using xavier initialization.\n"
     ]
    },
    {
     "name": "stderr",
     "output_type": "stream",
     "text": [
      "\u001b[36m(TrainLightGCN pid=428490)\u001b[0m Trainable.setup took 11.708 seconds. If your trainable is slow to initialize, consider setting reuse_actors=True to reduce actor creation overheads.\n"
     ]
    },
    {
     "name": "stderr",
     "output_type": "stream",
     "text": [
      "\u001b[36m(pid=428663)\u001b[0m 2024-03-24 02:57:28.364142: E tensorflow/compiler/xla/stream_executor/cuda/cuda_dnn.cc:9342] Unable to register cuDNN factory: Attempting to register factory for plugin cuDNN when one has already been registered\n",
      "\u001b[36m(pid=428663)\u001b[0m 2024-03-24 02:57:28.364175: E tensorflow/compiler/xla/stream_executor/cuda/cuda_fft.cc:609] Unable to register cuFFT factory: Attempting to register factory for plugin cuFFT when one has already been registered\n",
      "\u001b[36m(pid=428663)\u001b[0m 2024-03-24 02:57:28.364192: E tensorflow/compiler/xla/stream_executor/cuda/cuda_blas.cc:1518] Unable to register cuBLAS factory: Attempting to register factory for plugin cuBLAS when one has already been registered\n"
     ]
    },
    {
     "name": "stderr",
     "output_type": "stream",
     "text": [
      "\u001b[36m(TrainLightGCN pid=428663)\u001b[0m /home/daviddavo/upm-tfm-notebooks/.direnv/python-3.9/lib/python3.9/site-packages/recommenders/models/deeprec/DataModel/ImplicitCF.py:73: FutureWarning: The frame.append method is deprecated and will be removed from pandas in a future version. Use pandas.concat instead.\n",
      "\u001b[36m(TrainLightGCN pid=428663)\u001b[0m   df = train if test is None else train.append(test)\n"
     ]
    },
    {
     "name": "stdout",
     "output_type": "stream",
     "text": [
      "\u001b[36m(TrainLightGCN pid=428663)\u001b[0m Already create adjacency matrix.\n"
     ]
    },
    {
     "name": "stdout",
     "output_type": "stream",
     "text": [
      "\u001b[36m(TrainLightGCN pid=428663)\u001b[0m Already normalize adjacency matrix.\n",
      "\u001b[36m(TrainLightGCN pid=428663)\u001b[0m Using xavier initialization.\n"
     ]
    },
    {
     "name": "stderr",
     "output_type": "stream",
     "text": [
      "\u001b[36m(TrainLightGCN pid=428663)\u001b[0m Trainable.setup took 11.717 seconds. If your trainable is slow to initialize, consider setting reuse_actors=True to reduce actor creation overheads.\n"
     ]
    },
    {
     "name": "stderr",
     "output_type": "stream",
     "text": [
      "\u001b[36m(TrainLightGCN pid=427505)\u001b[0m Checkpoint successfully created at: Checkpoint(filesystem=local, path=/home/daviddavo/ray_results/LightGCN_optim=map@10,dao=PancakeSwap,freq=3d,normalize=True,cutoff_date=2023-07-01T00:00:00,fold=9_2024-03-24T01:56:59.853079/TrainLightGCN_2de8c185_41_batch_size=9,conv_layers=2,embedding_dim=10,fold=9,l2=0.0022,learning_rate=0.1092_2024-03-24_02-52-13/checkpoint_000000)\n"
     ]
    },
    {
     "name": "stderr",
     "output_type": "stream",
     "text": [
      "\u001b[36m(pid=429112)\u001b[0m 2024-03-24 02:58:57.449469: E tensorflow/compiler/xla/stream_executor/cuda/cuda_dnn.cc:9342] Unable to register cuDNN factory: Attempting to register factory for plugin cuDNN when one has already been registered\n",
      "\u001b[36m(pid=429112)\u001b[0m 2024-03-24 02:58:57.449507: E tensorflow/compiler/xla/stream_executor/cuda/cuda_fft.cc:609] Unable to register cuFFT factory: Attempting to register factory for plugin cuFFT when one has already been registered\n",
      "\u001b[36m(pid=429112)\u001b[0m 2024-03-24 02:58:57.449523: E tensorflow/compiler/xla/stream_executor/cuda/cuda_blas.cc:1518] Unable to register cuBLAS factory: Attempting to register factory for plugin cuBLAS when one has already been registered\n"
     ]
    },
    {
     "name": "stderr",
     "output_type": "stream",
     "text": [
      "\u001b[36m(TrainLightGCN pid=429112)\u001b[0m /home/daviddavo/upm-tfm-notebooks/.direnv/python-3.9/lib/python3.9/site-packages/recommenders/models/deeprec/DataModel/ImplicitCF.py:73: FutureWarning: The frame.append method is deprecated and will be removed from pandas in a future version. Use pandas.concat instead.\n",
      "\u001b[36m(TrainLightGCN pid=429112)\u001b[0m   df = train if test is None else train.append(test)\n"
     ]
    },
    {
     "name": "stdout",
     "output_type": "stream",
     "text": [
      "\u001b[36m(TrainLightGCN pid=429112)\u001b[0m Already create adjacency matrix.\n"
     ]
    },
    {
     "name": "stdout",
     "output_type": "stream",
     "text": [
      "\u001b[36m(TrainLightGCN pid=429112)\u001b[0m Already normalize adjacency matrix.\n",
      "\u001b[36m(TrainLightGCN pid=429112)\u001b[0m Using xavier initialization.\n"
     ]
    },
    {
     "name": "stderr",
     "output_type": "stream",
     "text": [
      "\u001b[36m(TrainLightGCN pid=429112)\u001b[0m Trainable.setup took 11.738 seconds. If your trainable is slow to initialize, consider setting reuse_actors=True to reduce actor creation overheads.\n"
     ]
    },
    {
     "name": "stderr",
     "output_type": "stream",
     "text": [
      "\u001b[36m(TrainLightGCN pid=427923)\u001b[0m Checkpoint successfully created at: Checkpoint(filesystem=local, path=/home/daviddavo/ray_results/LightGCN_optim=map@10,dao=PancakeSwap,freq=3d,normalize=True,cutoff_date=2023-07-01T00:00:00,fold=9_2024-03-24T01:56:59.853079/TrainLightGCN_256a4017_42_batch_size=7,conv_layers=3,embedding_dim=3,fold=9,l2=0.0002,learning_rate=0.0178_2024-03-24_02-53-39/checkpoint_000000)\n"
     ]
    },
    {
     "name": "stderr",
     "output_type": "stream",
     "text": [
      "\u001b[36m(pid=429609)\u001b[0m 2024-03-24 03:00:54.461087: E tensorflow/compiler/xla/stream_executor/cuda/cuda_dnn.cc:9342] Unable to register cuDNN factory: Attempting to register factory for plugin cuDNN when one has already been registered\n",
      "\u001b[36m(pid=429609)\u001b[0m 2024-03-24 03:00:54.461126: E tensorflow/compiler/xla/stream_executor/cuda/cuda_fft.cc:609] Unable to register cuFFT factory: Attempting to register factory for plugin cuFFT when one has already been registered\n",
      "\u001b[36m(pid=429609)\u001b[0m 2024-03-24 03:00:54.461140: E tensorflow/compiler/xla/stream_executor/cuda/cuda_blas.cc:1518] Unable to register cuBLAS factory: Attempting to register factory for plugin cuBLAS when one has already been registered\n"
     ]
    },
    {
     "name": "stderr",
     "output_type": "stream",
     "text": [
      "\u001b[36m(TrainLightGCN pid=429609)\u001b[0m /home/daviddavo/upm-tfm-notebooks/.direnv/python-3.9/lib/python3.9/site-packages/recommenders/models/deeprec/DataModel/ImplicitCF.py:73: FutureWarning: The frame.append method is deprecated and will be removed from pandas in a future version. Use pandas.concat instead.\n",
      "\u001b[36m(TrainLightGCN pid=429609)\u001b[0m   df = train if test is None else train.append(test)\n"
     ]
    },
    {
     "name": "stdout",
     "output_type": "stream",
     "text": [
      "\u001b[36m(TrainLightGCN pid=429609)\u001b[0m Already create adjacency matrix.\n"
     ]
    },
    {
     "name": "stdout",
     "output_type": "stream",
     "text": [
      "\u001b[36m(TrainLightGCN pid=429609)\u001b[0m Already normalize adjacency matrix.\n",
      "\u001b[36m(TrainLightGCN pid=429609)\u001b[0m Using xavier initialization.\n"
     ]
    },
    {
     "name": "stderr",
     "output_type": "stream",
     "text": [
      "\u001b[36m(TrainLightGCN pid=429609)\u001b[0m Trainable.setup took 11.772 seconds. If your trainable is slow to initialize, consider setting reuse_actors=True to reduce actor creation overheads.\n"
     ]
    },
    {
     "name": "stderr",
     "output_type": "stream",
     "text": [
      "\u001b[36m(TrainLightGCN pid=428490)\u001b[0m Checkpoint successfully created at: Checkpoint(filesystem=local, path=/home/daviddavo/ray_results/LightGCN_optim=map@10,dao=PancakeSwap,freq=3d,normalize=True,cutoff_date=2023-07-01T00:00:00,fold=9_2024-03-24T01:56:59.853079/TrainLightGCN_1a705004_43_batch_size=10,conv_layers=1,embedding_dim=7,fold=9,l2=0.0003,learning_rate=0.0693_2024-03-24_02-55-07/checkpoint_000000)\n"
     ]
    },
    {
     "name": "stderr",
     "output_type": "stream",
     "text": [
      "\u001b[36m(pid=430064)\u001b[0m 2024-03-24 03:02:34.452365: E tensorflow/compiler/xla/stream_executor/cuda/cuda_dnn.cc:9342] Unable to register cuDNN factory: Attempting to register factory for plugin cuDNN when one has already been registered\n",
      "\u001b[36m(pid=430064)\u001b[0m 2024-03-24 03:02:34.452401: E tensorflow/compiler/xla/stream_executor/cuda/cuda_fft.cc:609] Unable to register cuFFT factory: Attempting to register factory for plugin cuFFT when one has already been registered\n",
      "\u001b[36m(pid=430064)\u001b[0m 2024-03-24 03:02:34.452417: E tensorflow/compiler/xla/stream_executor/cuda/cuda_blas.cc:1518] Unable to register cuBLAS factory: Attempting to register factory for plugin cuBLAS when one has already been registered\n"
     ]
    },
    {
     "name": "stderr",
     "output_type": "stream",
     "text": [
      "\u001b[36m(TrainLightGCN pid=430064)\u001b[0m /home/daviddavo/upm-tfm-notebooks/.direnv/python-3.9/lib/python3.9/site-packages/recommenders/models/deeprec/DataModel/ImplicitCF.py:73: FutureWarning: The frame.append method is deprecated and will be removed from pandas in a future version. Use pandas.concat instead.\n",
      "\u001b[36m(TrainLightGCN pid=430064)\u001b[0m   df = train if test is None else train.append(test)\n"
     ]
    },
    {
     "name": "stdout",
     "output_type": "stream",
     "text": [
      "\u001b[36m(TrainLightGCN pid=430064)\u001b[0m Already create adjacency matrix.\n"
     ]
    },
    {
     "name": "stdout",
     "output_type": "stream",
     "text": [
      "\u001b[36m(TrainLightGCN pid=430064)\u001b[0m Already normalize adjacency matrix.\n",
      "\u001b[36m(TrainLightGCN pid=430064)\u001b[0m Using xavier initialization.\n"
     ]
    },
    {
     "name": "stderr",
     "output_type": "stream",
     "text": [
      "\u001b[36m(TrainLightGCN pid=428663)\u001b[0m Checkpoint successfully created at: Checkpoint(filesystem=local, path=/home/daviddavo/ray_results/LightGCN_optim=map@10,dao=PancakeSwap,freq=3d,normalize=True,cutoff_date=2023-07-01T00:00:00,fold=9_2024-03-24T01:56:59.853079/TrainLightGCN_fb9079fc_44_batch_size=10,conv_layers=3,embedding_dim=1,fold=9,l2=0.0086,learning_rate=0.0200_2024-03-24_02-57-27/checkpoint_000000)\n"
     ]
    },
    {
     "name": "stderr",
     "output_type": "stream",
     "text": [
      "\u001b[36m(TrainLightGCN pid=430064)\u001b[0m Trainable.setup took 11.802 seconds. If your trainable is slow to initialize, consider setting reuse_actors=True to reduce actor creation overheads.\n"
     ]
    },
    {
     "name": "stderr",
     "output_type": "stream",
     "text": [
      "\u001b[36m(pid=430240)\u001b[0m 2024-03-24 03:02:49.477142: E tensorflow/compiler/xla/stream_executor/cuda/cuda_dnn.cc:9342] Unable to register cuDNN factory: Attempting to register factory for plugin cuDNN when one has already been registered\n",
      "\u001b[36m(pid=430240)\u001b[0m 2024-03-24 03:02:49.477179: E tensorflow/compiler/xla/stream_executor/cuda/cuda_fft.cc:609] Unable to register cuFFT factory: Attempting to register factory for plugin cuFFT when one has already been registered\n",
      "\u001b[36m(pid=430240)\u001b[0m 2024-03-24 03:02:49.477196: E tensorflow/compiler/xla/stream_executor/cuda/cuda_blas.cc:1518] Unable to register cuBLAS factory: Attempting to register factory for plugin cuBLAS when one has already been registered\n"
     ]
    },
    {
     "name": "stderr",
     "output_type": "stream",
     "text": [
      "\u001b[36m(TrainLightGCN pid=430240)\u001b[0m /home/daviddavo/upm-tfm-notebooks/.direnv/python-3.9/lib/python3.9/site-packages/recommenders/models/deeprec/DataModel/ImplicitCF.py:73: FutureWarning: The frame.append method is deprecated and will be removed from pandas in a future version. Use pandas.concat instead.\n",
      "\u001b[36m(TrainLightGCN pid=430240)\u001b[0m   df = train if test is None else train.append(test)\n"
     ]
    },
    {
     "name": "stdout",
     "output_type": "stream",
     "text": [
      "\u001b[36m(TrainLightGCN pid=430240)\u001b[0m Already create adjacency matrix.\n"
     ]
    },
    {
     "name": "stdout",
     "output_type": "stream",
     "text": [
      "\u001b[36m(TrainLightGCN pid=430240)\u001b[0m Already normalize adjacency matrix.\n",
      "\u001b[36m(TrainLightGCN pid=430240)\u001b[0m Using xavier initialization.\n"
     ]
    },
    {
     "name": "stderr",
     "output_type": "stream",
     "text": [
      "\u001b[36m(TrainLightGCN pid=430240)\u001b[0m Trainable.setup took 11.716 seconds. If your trainable is slow to initialize, consider setting reuse_actors=True to reduce actor creation overheads.\n"
     ]
    },
    {
     "name": "stderr",
     "output_type": "stream",
     "text": [
      "\u001b[36m(TrainLightGCN pid=429112)\u001b[0m Checkpoint successfully created at: Checkpoint(filesystem=local, path=/home/daviddavo/ray_results/LightGCN_optim=map@10,dao=PancakeSwap,freq=3d,normalize=True,cutoff_date=2023-07-01T00:00:00,fold=9_2024-03-24T01:56:59.853079/TrainLightGCN_e52c1930_45_batch_size=9,conv_layers=2,embedding_dim=4,fold=9,l2=0.0006,learning_rate=0.0283_2024-03-24_02-57-42/checkpoint_000000)\n"
     ]
    },
    {
     "name": "stderr",
     "output_type": "stream",
     "text": [
      "\u001b[36m(pid=430738)\u001b[0m 2024-03-24 03:04:38.468444: E tensorflow/compiler/xla/stream_executor/cuda/cuda_dnn.cc:9342] Unable to register cuDNN factory: Attempting to register factory for plugin cuDNN when one has already been registered\n",
      "\u001b[36m(pid=430738)\u001b[0m 2024-03-24 03:04:38.468482: E tensorflow/compiler/xla/stream_executor/cuda/cuda_fft.cc:609] Unable to register cuFFT factory: Attempting to register factory for plugin cuFFT when one has already been registered\n",
      "\u001b[36m(pid=430738)\u001b[0m 2024-03-24 03:04:38.468497: E tensorflow/compiler/xla/stream_executor/cuda/cuda_blas.cc:1518] Unable to register cuBLAS factory: Attempting to register factory for plugin cuBLAS when one has already been registered\n"
     ]
    },
    {
     "name": "stderr",
     "output_type": "stream",
     "text": [
      "\u001b[36m(TrainLightGCN pid=430738)\u001b[0m /home/daviddavo/upm-tfm-notebooks/.direnv/python-3.9/lib/python3.9/site-packages/recommenders/models/deeprec/DataModel/ImplicitCF.py:73: FutureWarning: The frame.append method is deprecated and will be removed from pandas in a future version. Use pandas.concat instead.\n",
      "\u001b[36m(TrainLightGCN pid=430738)\u001b[0m   df = train if test is None else train.append(test)\n"
     ]
    },
    {
     "name": "stdout",
     "output_type": "stream",
     "text": [
      "\u001b[36m(TrainLightGCN pid=430738)\u001b[0m Already create adjacency matrix.\n"
     ]
    },
    {
     "name": "stdout",
     "output_type": "stream",
     "text": [
      "\u001b[36m(TrainLightGCN pid=430738)\u001b[0m Already normalize adjacency matrix.\n",
      "\u001b[36m(TrainLightGCN pid=430738)\u001b[0m Using xavier initialization.\n"
     ]
    },
    {
     "name": "stderr",
     "output_type": "stream",
     "text": [
      "\u001b[36m(TrainLightGCN pid=430738)\u001b[0m Trainable.setup took 11.814 seconds. If your trainable is slow to initialize, consider setting reuse_actors=True to reduce actor creation overheads.\n"
     ]
    },
    {
     "name": "stderr",
     "output_type": "stream",
     "text": [
      "\u001b[36m(TrainLightGCN pid=429609)\u001b[0m Checkpoint successfully created at: Checkpoint(filesystem=local, path=/home/daviddavo/ray_results/LightGCN_optim=map@10,dao=PancakeSwap,freq=3d,normalize=True,cutoff_date=2023-07-01T00:00:00,fold=9_2024-03-24T01:56:59.853079/TrainLightGCN_f1216b04_46_batch_size=11,conv_layers=5,embedding_dim=2,fold=9,l2=0.0041,learning_rate=0.0156_2024-03-24_02-59-11/checkpoint_000000)\n"
     ]
    },
    {
     "name": "stderr",
     "output_type": "stream",
     "text": [
      "\u001b[36m(pid=431221)\u001b[0m 2024-03-24 03:06:29.518267: E tensorflow/compiler/xla/stream_executor/cuda/cuda_dnn.cc:9342] Unable to register cuDNN factory: Attempting to register factory for plugin cuDNN when one has already been registered\n",
      "\u001b[36m(pid=431221)\u001b[0m 2024-03-24 03:06:29.518302: E tensorflow/compiler/xla/stream_executor/cuda/cuda_fft.cc:609] Unable to register cuFFT factory: Attempting to register factory for plugin cuFFT when one has already been registered\n",
      "\u001b[36m(pid=431221)\u001b[0m 2024-03-24 03:06:29.518319: E tensorflow/compiler/xla/stream_executor/cuda/cuda_blas.cc:1518] Unable to register cuBLAS factory: Attempting to register factory for plugin cuBLAS when one has already been registered\n"
     ]
    },
    {
     "name": "stderr",
     "output_type": "stream",
     "text": [
      "\u001b[36m(TrainLightGCN pid=431221)\u001b[0m /home/daviddavo/upm-tfm-notebooks/.direnv/python-3.9/lib/python3.9/site-packages/recommenders/models/deeprec/DataModel/ImplicitCF.py:73: FutureWarning: The frame.append method is deprecated and will be removed from pandas in a future version. Use pandas.concat instead.\n",
      "\u001b[36m(TrainLightGCN pid=431221)\u001b[0m   df = train if test is None else train.append(test)\n"
     ]
    },
    {
     "name": "stdout",
     "output_type": "stream",
     "text": [
      "\u001b[36m(TrainLightGCN pid=431221)\u001b[0m Already create adjacency matrix.\n"
     ]
    },
    {
     "name": "stdout",
     "output_type": "stream",
     "text": [
      "\u001b[36m(TrainLightGCN pid=431221)\u001b[0m Already normalize adjacency matrix.\n",
      "\u001b[36m(TrainLightGCN pid=431221)\u001b[0m Using xavier initialization.\n"
     ]
    },
    {
     "name": "stderr",
     "output_type": "stream",
     "text": [
      "\u001b[36m(TrainLightGCN pid=431221)\u001b[0m Trainable.setup took 11.837 seconds. If your trainable is slow to initialize, consider setting reuse_actors=True to reduce actor creation overheads.\n"
     ]
    },
    {
     "name": "stderr",
     "output_type": "stream",
     "text": [
      "\u001b[36m(TrainLightGCN pid=430064)\u001b[0m Checkpoint successfully created at: Checkpoint(filesystem=local, path=/home/daviddavo/ray_results/LightGCN_optim=map@10,dao=PancakeSwap,freq=3d,normalize=True,cutoff_date=2023-07-01T00:00:00,fold=9_2024-03-24T01:56:59.853079/TrainLightGCN_9dced612_47_batch_size=8,conv_layers=2,embedding_dim=6,fold=9,l2=0.0086,learning_rate=0.4070_2024-03-24_03-01-08/checkpoint_000000)\n"
     ]
    },
    {
     "name": "stderr",
     "output_type": "stream",
     "text": [
      "\u001b[36m(pid=431656)\u001b[0m 2024-03-24 03:08:04.491525: E tensorflow/compiler/xla/stream_executor/cuda/cuda_dnn.cc:9342] Unable to register cuDNN factory: Attempting to register factory for plugin cuDNN when one has already been registered\n",
      "\u001b[36m(pid=431656)\u001b[0m 2024-03-24 03:08:04.491560: E tensorflow/compiler/xla/stream_executor/cuda/cuda_fft.cc:609] Unable to register cuFFT factory: Attempting to register factory for plugin cuFFT when one has already been registered\n",
      "\u001b[36m(pid=431656)\u001b[0m 2024-03-24 03:08:04.491575: E tensorflow/compiler/xla/stream_executor/cuda/cuda_blas.cc:1518] Unable to register cuBLAS factory: Attempting to register factory for plugin cuBLAS when one has already been registered\n"
     ]
    },
    {
     "name": "stderr",
     "output_type": "stream",
     "text": [
      "\u001b[36m(TrainLightGCN pid=431656)\u001b[0m /home/daviddavo/upm-tfm-notebooks/.direnv/python-3.9/lib/python3.9/site-packages/recommenders/models/deeprec/DataModel/ImplicitCF.py:73: FutureWarning: The frame.append method is deprecated and will be removed from pandas in a future version. Use pandas.concat instead.\n",
      "\u001b[36m(TrainLightGCN pid=431656)\u001b[0m   df = train if test is None else train.append(test)\n"
     ]
    },
    {
     "name": "stdout",
     "output_type": "stream",
     "text": [
      "\u001b[36m(TrainLightGCN pid=431656)\u001b[0m Already create adjacency matrix.\n"
     ]
    },
    {
     "name": "stdout",
     "output_type": "stream",
     "text": [
      "\u001b[36m(TrainLightGCN pid=431656)\u001b[0m Already normalize adjacency matrix.\n",
      "\u001b[36m(TrainLightGCN pid=431656)\u001b[0m Using xavier initialization.\n"
     ]
    },
    {
     "name": "stderr",
     "output_type": "stream",
     "text": [
      "\u001b[36m(TrainLightGCN pid=431656)\u001b[0m Trainable.setup took 12.001 seconds. If your trainable is slow to initialize, consider setting reuse_actors=True to reduce actor creation overheads.\n"
     ]
    },
    {
     "name": "stderr",
     "output_type": "stream",
     "text": [
      "\u001b[36m(TrainLightGCN pid=430240)\u001b[0m Checkpoint successfully created at: Checkpoint(filesystem=local, path=/home/daviddavo/ray_results/LightGCN_optim=map@10,dao=PancakeSwap,freq=3d,normalize=True,cutoff_date=2023-07-01T00:00:00,fold=9_2024-03-24T01:56:59.853079/TrainLightGCN_f9f31eae_48_batch_size=10,conv_layers=1,embedding_dim=141,fold=9,l2=0.0001,learning_rate=0.0419_2024-03-24_03-02-48/checkpoint_000000)\n"
     ]
    },
    {
     "name": "stderr",
     "output_type": "stream",
     "text": [
      "\u001b[36m(pid=431882)\u001b[0m 2024-03-24 03:08:28.495886: E tensorflow/compiler/xla/stream_executor/cuda/cuda_dnn.cc:9342] Unable to register cuDNN factory: Attempting to register factory for plugin cuDNN when one has already been registered\n",
      "\u001b[36m(pid=431882)\u001b[0m 2024-03-24 03:08:28.495927: E tensorflow/compiler/xla/stream_executor/cuda/cuda_fft.cc:609] Unable to register cuFFT factory: Attempting to register factory for plugin cuFFT when one has already been registered\n",
      "\u001b[36m(pid=431882)\u001b[0m 2024-03-24 03:08:28.495941: E tensorflow/compiler/xla/stream_executor/cuda/cuda_blas.cc:1518] Unable to register cuBLAS factory: Attempting to register factory for plugin cuBLAS when one has already been registered\n"
     ]
    },
    {
     "name": "stderr",
     "output_type": "stream",
     "text": [
      "\u001b[36m(TrainLightGCN pid=431882)\u001b[0m /home/daviddavo/upm-tfm-notebooks/.direnv/python-3.9/lib/python3.9/site-packages/recommenders/models/deeprec/DataModel/ImplicitCF.py:73: FutureWarning: The frame.append method is deprecated and will be removed from pandas in a future version. Use pandas.concat instead.\n",
      "\u001b[36m(TrainLightGCN pid=431882)\u001b[0m   df = train if test is None else train.append(test)\n"
     ]
    },
    {
     "name": "stdout",
     "output_type": "stream",
     "text": [
      "\u001b[36m(TrainLightGCN pid=431882)\u001b[0m Already create adjacency matrix.\n"
     ]
    },
    {
     "name": "stdout",
     "output_type": "stream",
     "text": [
      "\u001b[36m(TrainLightGCN pid=431882)\u001b[0m Already normalize adjacency matrix.\n",
      "\u001b[36m(TrainLightGCN pid=431882)\u001b[0m Using xavier initialization.\n"
     ]
    },
    {
     "name": "stderr",
     "output_type": "stream",
     "text": [
      "\u001b[36m(TrainLightGCN pid=431882)\u001b[0m Trainable.setup took 11.747 seconds. If your trainable is slow to initialize, consider setting reuse_actors=True to reduce actor creation overheads.\n"
     ]
    },
    {
     "name": "stderr",
     "output_type": "stream",
     "text": [
      "\u001b[36m(TrainLightGCN pid=430738)\u001b[0m Checkpoint successfully created at: Checkpoint(filesystem=local, path=/home/daviddavo/ray_results/LightGCN_optim=map@10,dao=PancakeSwap,freq=3d,normalize=True,cutoff_date=2023-07-01T00:00:00,fold=9_2024-03-24T01:56:59.853079/TrainLightGCN_f775c95a_49_batch_size=9,conv_layers=3,embedding_dim=14,fold=9,l2=0.0019,learning_rate=0.0916_2024-03-24_03-03-03/checkpoint_000000)\n"
     ]
    },
    {
     "name": "stderr",
     "output_type": "stream",
     "text": [
      "\u001b[36m(pid=432359)\u001b[0m 2024-03-24 03:10:16.506863: E tensorflow/compiler/xla/stream_executor/cuda/cuda_dnn.cc:9342] Unable to register cuDNN factory: Attempting to register factory for plugin cuDNN when one has already been registered\n",
      "\u001b[36m(pid=432359)\u001b[0m 2024-03-24 03:10:16.506900: E tensorflow/compiler/xla/stream_executor/cuda/cuda_fft.cc:609] Unable to register cuFFT factory: Attempting to register factory for plugin cuFFT when one has already been registered\n",
      "\u001b[36m(pid=432359)\u001b[0m 2024-03-24 03:10:16.506914: E tensorflow/compiler/xla/stream_executor/cuda/cuda_blas.cc:1518] Unable to register cuBLAS factory: Attempting to register factory for plugin cuBLAS when one has already been registered\n"
     ]
    },
    {
     "name": "stderr",
     "output_type": "stream",
     "text": [
      "\u001b[36m(TrainLightGCN pid=432359)\u001b[0m /home/daviddavo/upm-tfm-notebooks/.direnv/python-3.9/lib/python3.9/site-packages/recommenders/models/deeprec/DataModel/ImplicitCF.py:73: FutureWarning: The frame.append method is deprecated and will be removed from pandas in a future version. Use pandas.concat instead.\n",
      "\u001b[36m(TrainLightGCN pid=432359)\u001b[0m   df = train if test is None else train.append(test)\n"
     ]
    },
    {
     "name": "stdout",
     "output_type": "stream",
     "text": [
      "\u001b[36m(TrainLightGCN pid=432359)\u001b[0m Already create adjacency matrix.\n"
     ]
    },
    {
     "name": "stdout",
     "output_type": "stream",
     "text": [
      "\u001b[36m(TrainLightGCN pid=432359)\u001b[0m Already normalize adjacency matrix.\n",
      "\u001b[36m(TrainLightGCN pid=432359)\u001b[0m Using xavier initialization.\n"
     ]
    },
    {
     "name": "stderr",
     "output_type": "stream",
     "text": [
      "\u001b[36m(TrainLightGCN pid=432359)\u001b[0m Trainable.setup took 11.815 seconds. If your trainable is slow to initialize, consider setting reuse_actors=True to reduce actor creation overheads.\n"
     ]
    },
    {
     "name": "stderr",
     "output_type": "stream",
     "text": [
      "\u001b[36m(TrainLightGCN pid=431221)\u001b[0m Checkpoint successfully created at: Checkpoint(filesystem=local, path=/home/daviddavo/ray_results/LightGCN_optim=map@10,dao=PancakeSwap,freq=3d,normalize=True,cutoff_date=2023-07-01T00:00:00,fold=9_2024-03-24T01:56:59.853079/TrainLightGCN_a66a9476_50_batch_size=11,conv_layers=2,embedding_dim=1,fold=9,l2=0.0003,learning_rate=0.0312_2024-03-24_03-04-52/checkpoint_000000)\n"
     ]
    },
    {
     "name": "stderr",
     "output_type": "stream",
     "text": [
      "\u001b[36m(pid=432801)\u001b[0m 2024-03-24 03:11:52.513221: E tensorflow/compiler/xla/stream_executor/cuda/cuda_dnn.cc:9342] Unable to register cuDNN factory: Attempting to register factory for plugin cuDNN when one has already been registered\n",
      "\u001b[36m(pid=432801)\u001b[0m 2024-03-24 03:11:52.513255: E tensorflow/compiler/xla/stream_executor/cuda/cuda_fft.cc:609] Unable to register cuFFT factory: Attempting to register factory for plugin cuFFT when one has already been registered\n",
      "\u001b[36m(pid=432801)\u001b[0m 2024-03-24 03:11:52.513269: E tensorflow/compiler/xla/stream_executor/cuda/cuda_blas.cc:1518] Unable to register cuBLAS factory: Attempting to register factory for plugin cuBLAS when one has already been registered\n"
     ]
    },
    {
     "name": "stderr",
     "output_type": "stream",
     "text": [
      "\u001b[36m(TrainLightGCN pid=432801)\u001b[0m /home/daviddavo/upm-tfm-notebooks/.direnv/python-3.9/lib/python3.9/site-packages/recommenders/models/deeprec/DataModel/ImplicitCF.py:73: FutureWarning: The frame.append method is deprecated and will be removed from pandas in a future version. Use pandas.concat instead.\n",
      "\u001b[36m(TrainLightGCN pid=432801)\u001b[0m   df = train if test is None else train.append(test)\n"
     ]
    },
    {
     "name": "stdout",
     "output_type": "stream",
     "text": [
      "\u001b[36m(TrainLightGCN pid=432801)\u001b[0m Already create adjacency matrix.\n"
     ]
    },
    {
     "name": "stdout",
     "output_type": "stream",
     "text": [
      "\u001b[36m(TrainLightGCN pid=432801)\u001b[0m Already normalize adjacency matrix.\n",
      "\u001b[36m(TrainLightGCN pid=432801)\u001b[0m Using xavier initialization.\n"
     ]
    },
    {
     "name": "stderr",
     "output_type": "stream",
     "text": [
      "\u001b[36m(TrainLightGCN pid=432801)\u001b[0m Trainable.setup took 11.767 seconds. If your trainable is slow to initialize, consider setting reuse_actors=True to reduce actor creation overheads.\n"
     ]
    },
    {
     "name": "stderr",
     "output_type": "stream",
     "text": [
      "\u001b[36m(TrainLightGCN pid=431656)\u001b[0m Checkpoint successfully created at: Checkpoint(filesystem=local, path=/home/daviddavo/ray_results/LightGCN_optim=map@10,dao=PancakeSwap,freq=3d,normalize=True,cutoff_date=2023-07-01T00:00:00,fold=9_2024-03-24T01:56:59.853079/TrainLightGCN_f1cc2881_51_batch_size=8,conv_layers=1,embedding_dim=48,fold=9,l2=0.0000,learning_rate=0.0594_2024-03-24_03-06-43/checkpoint_000000)\n"
     ]
    },
    {
     "name": "stderr",
     "output_type": "stream",
     "text": [
      "\u001b[36m(pid=433281)\u001b[0m 2024-03-24 03:13:42.548957: E tensorflow/compiler/xla/stream_executor/cuda/cuda_dnn.cc:9342] Unable to register cuDNN factory: Attempting to register factory for plugin cuDNN when one has already been registered\n",
      "\u001b[36m(pid=433281)\u001b[0m 2024-03-24 03:13:42.549137: E tensorflow/compiler/xla/stream_executor/cuda/cuda_fft.cc:609] Unable to register cuFFT factory: Attempting to register factory for plugin cuFFT when one has already been registered\n",
      "\u001b[36m(pid=433281)\u001b[0m 2024-03-24 03:13:42.549156: E tensorflow/compiler/xla/stream_executor/cuda/cuda_blas.cc:1518] Unable to register cuBLAS factory: Attempting to register factory for plugin cuBLAS when one has already been registered\n"
     ]
    },
    {
     "name": "stderr",
     "output_type": "stream",
     "text": [
      "\u001b[36m(TrainLightGCN pid=433281)\u001b[0m /home/daviddavo/upm-tfm-notebooks/.direnv/python-3.9/lib/python3.9/site-packages/recommenders/models/deeprec/DataModel/ImplicitCF.py:73: FutureWarning: The frame.append method is deprecated and will be removed from pandas in a future version. Use pandas.concat instead.\n",
      "\u001b[36m(TrainLightGCN pid=433281)\u001b[0m   df = train if test is None else train.append(test)\n"
     ]
    },
    {
     "name": "stdout",
     "output_type": "stream",
     "text": [
      "\u001b[36m(TrainLightGCN pid=433281)\u001b[0m Already create adjacency matrix.\n"
     ]
    },
    {
     "name": "stdout",
     "output_type": "stream",
     "text": [
      "\u001b[36m(TrainLightGCN pid=433281)\u001b[0m Already normalize adjacency matrix.\n",
      "\u001b[36m(TrainLightGCN pid=433281)\u001b[0m Using xavier initialization.\n"
     ]
    },
    {
     "name": "stderr",
     "output_type": "stream",
     "text": [
      "\u001b[36m(TrainLightGCN pid=433281)\u001b[0m Trainable.setup took 11.710 seconds. If your trainable is slow to initialize, consider setting reuse_actors=True to reduce actor creation overheads.\n"
     ]
    },
    {
     "name": "stderr",
     "output_type": "stream",
     "text": [
      "\u001b[36m(TrainLightGCN pid=431882)\u001b[0m Checkpoint successfully created at: Checkpoint(filesystem=local, path=/home/daviddavo/ray_results/LightGCN_optim=map@10,dao=PancakeSwap,freq=3d,normalize=True,cutoff_date=2023-07-01T00:00:00,fold=9_2024-03-24T01:56:59.853079/TrainLightGCN_a7c5d96c_52_batch_size=7,conv_layers=3,embedding_dim=24,fold=9,l2=0.0011,learning_rate=0.0214_2024-03-24_03-08-18/checkpoint_000000)\n"
     ]
    },
    {
     "name": "stderr",
     "output_type": "stream",
     "text": [
      "\u001b[36m(pid=433597)\u001b[0m 2024-03-24 03:14:36.578996: E tensorflow/compiler/xla/stream_executor/cuda/cuda_dnn.cc:9342] Unable to register cuDNN factory: Attempting to register factory for plugin cuDNN when one has already been registered\n",
      "\u001b[36m(pid=433597)\u001b[0m 2024-03-24 03:14:36.579034: E tensorflow/compiler/xla/stream_executor/cuda/cuda_fft.cc:609] Unable to register cuFFT factory: Attempting to register factory for plugin cuFFT when one has already been registered\n",
      "\u001b[36m(pid=433597)\u001b[0m 2024-03-24 03:14:36.579048: E tensorflow/compiler/xla/stream_executor/cuda/cuda_blas.cc:1518] Unable to register cuBLAS factory: Attempting to register factory for plugin cuBLAS when one has already been registered\n"
     ]
    },
    {
     "name": "stderr",
     "output_type": "stream",
     "text": [
      "\u001b[36m(TrainLightGCN pid=433597)\u001b[0m /home/daviddavo/upm-tfm-notebooks/.direnv/python-3.9/lib/python3.9/site-packages/recommenders/models/deeprec/DataModel/ImplicitCF.py:73: FutureWarning: The frame.append method is deprecated and will be removed from pandas in a future version. Use pandas.concat instead.\n",
      "\u001b[36m(TrainLightGCN pid=433597)\u001b[0m   df = train if test is None else train.append(test)\n"
     ]
    },
    {
     "name": "stdout",
     "output_type": "stream",
     "text": [
      "\u001b[36m(TrainLightGCN pid=433597)\u001b[0m Already create adjacency matrix.\n"
     ]
    },
    {
     "name": "stdout",
     "output_type": "stream",
     "text": [
      "\u001b[36m(TrainLightGCN pid=433597)\u001b[0m Already normalize adjacency matrix.\n",
      "\u001b[36m(TrainLightGCN pid=433597)\u001b[0m Using xavier initialization.\n"
     ]
    },
    {
     "name": "stderr",
     "output_type": "stream",
     "text": [
      "\u001b[36m(TrainLightGCN pid=433597)\u001b[0m Trainable.setup took 11.615 seconds. If your trainable is slow to initialize, consider setting reuse_actors=True to reduce actor creation overheads.\n"
     ]
    },
    {
     "name": "stderr",
     "output_type": "stream",
     "text": [
      "\u001b[36m(TrainLightGCN pid=432359)\u001b[0m Checkpoint successfully created at: Checkpoint(filesystem=local, path=/home/daviddavo/ray_results/LightGCN_optim=map@10,dao=PancakeSwap,freq=3d,normalize=True,cutoff_date=2023-07-01T00:00:00,fold=9_2024-03-24T01:56:59.853079/TrainLightGCN_1ab6cb00_53_batch_size=11,conv_layers=5,embedding_dim=3,fold=9,l2=0.0033,learning_rate=0.0116_2024-03-24_03-08-42/checkpoint_000000)\n"
     ]
    },
    {
     "name": "stderr",
     "output_type": "stream",
     "text": [
      "\u001b[36m(pid=433963)\u001b[0m 2024-03-24 03:15:46.578678: E tensorflow/compiler/xla/stream_executor/cuda/cuda_dnn.cc:9342] Unable to register cuDNN factory: Attempting to register factory for plugin cuDNN when one has already been registered\n",
      "\u001b[36m(pid=433963)\u001b[0m 2024-03-24 03:15:46.578716: E tensorflow/compiler/xla/stream_executor/cuda/cuda_fft.cc:609] Unable to register cuFFT factory: Attempting to register factory for plugin cuFFT when one has already been registered\n",
      "\u001b[36m(pid=433963)\u001b[0m 2024-03-24 03:15:46.578734: E tensorflow/compiler/xla/stream_executor/cuda/cuda_blas.cc:1518] Unable to register cuBLAS factory: Attempting to register factory for plugin cuBLAS when one has already been registered\n"
     ]
    },
    {
     "name": "stderr",
     "output_type": "stream",
     "text": [
      "\u001b[36m(TrainLightGCN pid=433963)\u001b[0m /home/daviddavo/upm-tfm-notebooks/.direnv/python-3.9/lib/python3.9/site-packages/recommenders/models/deeprec/DataModel/ImplicitCF.py:73: FutureWarning: The frame.append method is deprecated and will be removed from pandas in a future version. Use pandas.concat instead.\n",
      "\u001b[36m(TrainLightGCN pid=433963)\u001b[0m   df = train if test is None else train.append(test)\n"
     ]
    },
    {
     "name": "stdout",
     "output_type": "stream",
     "text": [
      "\u001b[36m(TrainLightGCN pid=433963)\u001b[0m Already create adjacency matrix.\n"
     ]
    },
    {
     "name": "stdout",
     "output_type": "stream",
     "text": [
      "\u001b[36m(TrainLightGCN pid=433963)\u001b[0m Already normalize adjacency matrix.\n",
      "\u001b[36m(TrainLightGCN pid=433963)\u001b[0m Using xavier initialization.\n"
     ]
    },
    {
     "name": "stderr",
     "output_type": "stream",
     "text": [
      "\u001b[36m(TrainLightGCN pid=433963)\u001b[0m Trainable.setup took 11.772 seconds. If your trainable is slow to initialize, consider setting reuse_actors=True to reduce actor creation overheads.\n"
     ]
    },
    {
     "name": "stderr",
     "output_type": "stream",
     "text": [
      "\u001b[36m(TrainLightGCN pid=432801)\u001b[0m Checkpoint successfully created at: Checkpoint(filesystem=local, path=/home/daviddavo/ray_results/LightGCN_optim=map@10,dao=PancakeSwap,freq=3d,normalize=True,cutoff_date=2023-07-01T00:00:00,fold=9_2024-03-24T01:56:59.853079/TrainLightGCN_fe6065dd_54_batch_size=10,conv_layers=1,embedding_dim=5,fold=9,l2=0.0008,learning_rate=0.8589_2024-03-24_03-10-30/checkpoint_000000)\n"
     ]
    },
    {
     "name": "stderr",
     "output_type": "stream",
     "text": [
      "\u001b[36m(pid=434383)\u001b[0m 2024-03-24 03:17:14.548952: E tensorflow/compiler/xla/stream_executor/cuda/cuda_dnn.cc:9342] Unable to register cuDNN factory: Attempting to register factory for plugin cuDNN when one has already been registered\n",
      "\u001b[36m(pid=434383)\u001b[0m 2024-03-24 03:17:14.548990: E tensorflow/compiler/xla/stream_executor/cuda/cuda_fft.cc:609] Unable to register cuFFT factory: Attempting to register factory for plugin cuFFT when one has already been registered\n",
      "\u001b[36m(pid=434383)\u001b[0m 2024-03-24 03:17:14.549007: E tensorflow/compiler/xla/stream_executor/cuda/cuda_blas.cc:1518] Unable to register cuBLAS factory: Attempting to register factory for plugin cuBLAS when one has already been registered\n"
     ]
    },
    {
     "name": "stderr",
     "output_type": "stream",
     "text": [
      "\u001b[36m(TrainLightGCN pid=434383)\u001b[0m /home/daviddavo/upm-tfm-notebooks/.direnv/python-3.9/lib/python3.9/site-packages/recommenders/models/deeprec/DataModel/ImplicitCF.py:73: FutureWarning: The frame.append method is deprecated and will be removed from pandas in a future version. Use pandas.concat instead.\n",
      "\u001b[36m(TrainLightGCN pid=434383)\u001b[0m   df = train if test is None else train.append(test)\n"
     ]
    },
    {
     "name": "stdout",
     "output_type": "stream",
     "text": [
      "\u001b[36m(TrainLightGCN pid=434383)\u001b[0m Already create adjacency matrix.\n"
     ]
    },
    {
     "name": "stdout",
     "output_type": "stream",
     "text": [
      "\u001b[36m(TrainLightGCN pid=434383)\u001b[0m Already normalize adjacency matrix.\n",
      "\u001b[36m(TrainLightGCN pid=434383)\u001b[0m Using xavier initialization.\n"
     ]
    },
    {
     "name": "stderr",
     "output_type": "stream",
     "text": [
      "\u001b[36m(TrainLightGCN pid=434383)\u001b[0m Trainable.setup took 11.706 seconds. If your trainable is slow to initialize, consider setting reuse_actors=True to reduce actor creation overheads.\n"
     ]
    },
    {
     "name": "stderr",
     "output_type": "stream",
     "text": [
      "\u001b[36m(TrainLightGCN pid=433281)\u001b[0m Checkpoint successfully created at: Checkpoint(filesystem=local, path=/home/daviddavo/ray_results/LightGCN_optim=map@10,dao=PancakeSwap,freq=3d,normalize=True,cutoff_date=2023-07-01T00:00:00,fold=9_2024-03-24T01:56:59.853079/TrainLightGCN_c92e0a42_55_batch_size=8,conv_layers=2,embedding_dim=4,fold=9,l2=0.0000,learning_rate=0.0145_2024-03-24_03-12-06/checkpoint_000000)\n"
     ]
    },
    {
     "name": "stderr",
     "output_type": "stream",
     "text": [
      "\u001b[36m(pid=434892)\u001b[0m 2024-03-24 03:19:15.597245: E tensorflow/compiler/xla/stream_executor/cuda/cuda_dnn.cc:9342] Unable to register cuDNN factory: Attempting to register factory for plugin cuDNN when one has already been registered\n",
      "\u001b[36m(pid=434892)\u001b[0m 2024-03-24 03:19:15.597283: E tensorflow/compiler/xla/stream_executor/cuda/cuda_fft.cc:609] Unable to register cuFFT factory: Attempting to register factory for plugin cuFFT when one has already been registered\n",
      "\u001b[36m(pid=434892)\u001b[0m 2024-03-24 03:19:15.597296: E tensorflow/compiler/xla/stream_executor/cuda/cuda_blas.cc:1518] Unable to register cuBLAS factory: Attempting to register factory for plugin cuBLAS when one has already been registered\n"
     ]
    },
    {
     "name": "stderr",
     "output_type": "stream",
     "text": [
      "\u001b[36m(TrainLightGCN pid=434892)\u001b[0m /home/daviddavo/upm-tfm-notebooks/.direnv/python-3.9/lib/python3.9/site-packages/recommenders/models/deeprec/DataModel/ImplicitCF.py:73: FutureWarning: The frame.append method is deprecated and will be removed from pandas in a future version. Use pandas.concat instead.\n",
      "\u001b[36m(TrainLightGCN pid=434892)\u001b[0m   df = train if test is None else train.append(test)\n"
     ]
    },
    {
     "name": "stderr",
     "output_type": "stream",
     "text": [
      "\u001b[36m(TrainLightGCN pid=433597)\u001b[0m Checkpoint successfully created at: Checkpoint(filesystem=local, path=/home/daviddavo/ray_results/LightGCN_optim=map@10,dao=PancakeSwap,freq=3d,normalize=True,cutoff_date=2023-07-01T00:00:00,fold=9_2024-03-24T01:56:59.853079/TrainLightGCN_53106971_56_batch_size=12,conv_layers=2,embedding_dim=1,fold=9,l2=0.0000,learning_rate=0.0429_2024-03-24_03-13-56/checkpoint_000000)\n"
     ]
    },
    {
     "name": "stdout",
     "output_type": "stream",
     "text": [
      "\u001b[36m(TrainLightGCN pid=434892)\u001b[0m Already create adjacency matrix.\n"
     ]
    },
    {
     "name": "stdout",
     "output_type": "stream",
     "text": [
      "\u001b[36m(TrainLightGCN pid=434892)\u001b[0m Already normalize adjacency matrix.\n",
      "\u001b[36m(TrainLightGCN pid=434892)\u001b[0m Using xavier initialization.\n"
     ]
    },
    {
     "name": "stderr",
     "output_type": "stream",
     "text": [
      "\u001b[36m(TrainLightGCN pid=434892)\u001b[0m Trainable.setup took 11.655 seconds. If your trainable is slow to initialize, consider setting reuse_actors=True to reduce actor creation overheads.\n"
     ]
    },
    {
     "name": "stderr",
     "output_type": "stream",
     "text": [
      "\u001b[36m(pid=435068)\u001b[0m 2024-03-24 03:19:30.473552: E tensorflow/compiler/xla/stream_executor/cuda/cuda_dnn.cc:9342] Unable to register cuDNN factory: Attempting to register factory for plugin cuDNN when one has already been registered\n",
      "\u001b[36m(pid=435068)\u001b[0m 2024-03-24 03:19:30.473589: E tensorflow/compiler/xla/stream_executor/cuda/cuda_fft.cc:609] Unable to register cuFFT factory: Attempting to register factory for plugin cuFFT when one has already been registered\n",
      "\u001b[36m(pid=435068)\u001b[0m 2024-03-24 03:19:30.473603: E tensorflow/compiler/xla/stream_executor/cuda/cuda_blas.cc:1518] Unable to register cuBLAS factory: Attempting to register factory for plugin cuBLAS when one has already been registered\n"
     ]
    },
    {
     "name": "stderr",
     "output_type": "stream",
     "text": [
      "\u001b[36m(TrainLightGCN pid=435068)\u001b[0m /home/daviddavo/upm-tfm-notebooks/.direnv/python-3.9/lib/python3.9/site-packages/recommenders/models/deeprec/DataModel/ImplicitCF.py:73: FutureWarning: The frame.append method is deprecated and will be removed from pandas in a future version. Use pandas.concat instead.\n",
      "\u001b[36m(TrainLightGCN pid=435068)\u001b[0m   df = train if test is None else train.append(test)\n"
     ]
    },
    {
     "name": "stdout",
     "output_type": "stream",
     "text": [
      "\u001b[36m(TrainLightGCN pid=435068)\u001b[0m Already create adjacency matrix.\n"
     ]
    },
    {
     "name": "stdout",
     "output_type": "stream",
     "text": [
      "\u001b[36m(TrainLightGCN pid=435068)\u001b[0m Already normalize adjacency matrix.\n",
      "\u001b[36m(TrainLightGCN pid=435068)\u001b[0m Using xavier initialization.\n"
     ]
    },
    {
     "name": "stderr",
     "output_type": "stream",
     "text": [
      "\u001b[36m(TrainLightGCN pid=435068)\u001b[0m Trainable.setup took 11.746 seconds. If your trainable is slow to initialize, consider setting reuse_actors=True to reduce actor creation overheads.\n"
     ]
    },
    {
     "name": "stderr",
     "output_type": "stream",
     "text": [
      "\u001b[36m(TrainLightGCN pid=433963)\u001b[0m Checkpoint successfully created at: Checkpoint(filesystem=local, path=/home/daviddavo/ray_results/LightGCN_optim=map@10,dao=PancakeSwap,freq=3d,normalize=True,cutoff_date=2023-07-01T00:00:00,fold=9_2024-03-24T01:56:59.853079/TrainLightGCN_4b260aa5_57_batch_size=9,conv_layers=3,embedding_dim=17,fold=9,l2=0.0000,learning_rate=0.0182_2024-03-24_03-14-50/checkpoint_000000)\n"
     ]
    },
    {
     "name": "stderr",
     "output_type": "stream",
     "text": [
      "\u001b[36m(pid=435543)\u001b[0m 2024-03-24 03:21:08.604904: E tensorflow/compiler/xla/stream_executor/cuda/cuda_dnn.cc:9342] Unable to register cuDNN factory: Attempting to register factory for plugin cuDNN when one has already been registered\n",
      "\u001b[36m(pid=435543)\u001b[0m 2024-03-24 03:21:08.604942: E tensorflow/compiler/xla/stream_executor/cuda/cuda_fft.cc:609] Unable to register cuFFT factory: Attempting to register factory for plugin cuFFT when one has already been registered\n",
      "\u001b[36m(pid=435543)\u001b[0m 2024-03-24 03:21:08.604957: E tensorflow/compiler/xla/stream_executor/cuda/cuda_blas.cc:1518] Unable to register cuBLAS factory: Attempting to register factory for plugin cuBLAS when one has already been registered\n"
     ]
    },
    {
     "name": "stderr",
     "output_type": "stream",
     "text": [
      "\u001b[36m(TrainLightGCN pid=435543)\u001b[0m /home/daviddavo/upm-tfm-notebooks/.direnv/python-3.9/lib/python3.9/site-packages/recommenders/models/deeprec/DataModel/ImplicitCF.py:73: FutureWarning: The frame.append method is deprecated and will be removed from pandas in a future version. Use pandas.concat instead.\n",
      "\u001b[36m(TrainLightGCN pid=435543)\u001b[0m   df = train if test is None else train.append(test)\n"
     ]
    },
    {
     "name": "stdout",
     "output_type": "stream",
     "text": [
      "\u001b[36m(TrainLightGCN pid=435543)\u001b[0m Already create adjacency matrix.\n"
     ]
    },
    {
     "name": "stdout",
     "output_type": "stream",
     "text": [
      "\u001b[36m(TrainLightGCN pid=435543)\u001b[0m Already normalize adjacency matrix.\n",
      "\u001b[36m(TrainLightGCN pid=435543)\u001b[0m Using xavier initialization.\n"
     ]
    },
    {
     "name": "stderr",
     "output_type": "stream",
     "text": [
      "\u001b[36m(TrainLightGCN pid=435543)\u001b[0m Trainable.setup took 11.693 seconds. If your trainable is slow to initialize, consider setting reuse_actors=True to reduce actor creation overheads.\n"
     ]
    },
    {
     "name": "stderr",
     "output_type": "stream",
     "text": [
      "\u001b[36m(TrainLightGCN pid=434383)\u001b[0m Checkpoint successfully created at: Checkpoint(filesystem=local, path=/home/daviddavo/ray_results/LightGCN_optim=map@10,dao=PancakeSwap,freq=3d,normalize=True,cutoff_date=2023-07-01T00:00:00,fold=9_2024-03-24T01:56:59.853079/TrainLightGCN_9467df91_58_batch_size=11,conv_layers=1,embedding_dim=29,fold=9,l2=0.0052,learning_rate=0.0342_2024-03-24_03-16-00/checkpoint_000000)\n"
     ]
    },
    {
     "name": "stderr",
     "output_type": "stream",
     "text": [
      "\u001b[36m(pid=435976)\u001b[0m 2024-03-24 03:22:42.622983: E tensorflow/compiler/xla/stream_executor/cuda/cuda_dnn.cc:9342] Unable to register cuDNN factory: Attempting to register factory for plugin cuDNN when one has already been registered\n",
      "\u001b[36m(pid=435976)\u001b[0m 2024-03-24 03:22:42.623015: E tensorflow/compiler/xla/stream_executor/cuda/cuda_fft.cc:609] Unable to register cuFFT factory: Attempting to register factory for plugin cuFFT when one has already been registered\n",
      "\u001b[36m(pid=435976)\u001b[0m 2024-03-24 03:22:42.623033: E tensorflow/compiler/xla/stream_executor/cuda/cuda_blas.cc:1518] Unable to register cuBLAS factory: Attempting to register factory for plugin cuBLAS when one has already been registered\n"
     ]
    },
    {
     "name": "stderr",
     "output_type": "stream",
     "text": [
      "\u001b[36m(TrainLightGCN pid=435976)\u001b[0m /home/daviddavo/upm-tfm-notebooks/.direnv/python-3.9/lib/python3.9/site-packages/recommenders/models/deeprec/DataModel/ImplicitCF.py:73: FutureWarning: The frame.append method is deprecated and will be removed from pandas in a future version. Use pandas.concat instead.\n",
      "\u001b[36m(TrainLightGCN pid=435976)\u001b[0m   df = train if test is None else train.append(test)\n"
     ]
    },
    {
     "name": "stdout",
     "output_type": "stream",
     "text": [
      "\u001b[36m(TrainLightGCN pid=435976)\u001b[0m Already create adjacency matrix.\n"
     ]
    },
    {
     "name": "stdout",
     "output_type": "stream",
     "text": [
      "\u001b[36m(TrainLightGCN pid=435976)\u001b[0m Already normalize adjacency matrix.\n",
      "\u001b[36m(TrainLightGCN pid=435976)\u001b[0m Using xavier initialization.\n"
     ]
    },
    {
     "name": "stderr",
     "output_type": "stream",
     "text": [
      "\u001b[36m(TrainLightGCN pid=435976)\u001b[0m Trainable.setup took 11.710 seconds. If your trainable is slow to initialize, consider setting reuse_actors=True to reduce actor creation overheads.\n"
     ]
    },
    {
     "name": "stderr",
     "output_type": "stream",
     "text": [
      "\u001b[36m(TrainLightGCN pid=434892)\u001b[0m Checkpoint successfully created at: Checkpoint(filesystem=local, path=/home/daviddavo/ray_results/LightGCN_optim=map@10,dao=PancakeSwap,freq=3d,normalize=True,cutoff_date=2023-07-01T00:00:00,fold=9_2024-03-24T01:56:59.853079/TrainLightGCN_592d950d_59_batch_size=12,conv_layers=4,embedding_dim=3,fold=9,l2=0.0015,learning_rate=0.1147_2024-03-24_03-17-28/checkpoint_000000)\n"
     ]
    },
    {
     "name": "stderr",
     "output_type": "stream",
     "text": [
      "\u001b[36m(pid=436383)\u001b[0m 2024-03-24 03:24:07.654161: E tensorflow/compiler/xla/stream_executor/cuda/cuda_dnn.cc:9342] Unable to register cuDNN factory: Attempting to register factory for plugin cuDNN when one has already been registered\n",
      "\u001b[36m(pid=436383)\u001b[0m 2024-03-24 03:24:07.654199: E tensorflow/compiler/xla/stream_executor/cuda/cuda_fft.cc:609] Unable to register cuFFT factory: Attempting to register factory for plugin cuFFT when one has already been registered\n",
      "\u001b[36m(pid=436383)\u001b[0m 2024-03-24 03:24:07.654213: E tensorflow/compiler/xla/stream_executor/cuda/cuda_blas.cc:1518] Unable to register cuBLAS factory: Attempting to register factory for plugin cuBLAS when one has already been registered\n"
     ]
    },
    {
     "name": "stderr",
     "output_type": "stream",
     "text": [
      "\u001b[36m(TrainLightGCN pid=436383)\u001b[0m /home/daviddavo/upm-tfm-notebooks/.direnv/python-3.9/lib/python3.9/site-packages/recommenders/models/deeprec/DataModel/ImplicitCF.py:73: FutureWarning: The frame.append method is deprecated and will be removed from pandas in a future version. Use pandas.concat instead.\n",
      "\u001b[36m(TrainLightGCN pid=436383)\u001b[0m   df = train if test is None else train.append(test)\n"
     ]
    },
    {
     "name": "stdout",
     "output_type": "stream",
     "text": [
      "\u001b[36m(TrainLightGCN pid=436383)\u001b[0m Already create adjacency matrix.\n"
     ]
    },
    {
     "name": "stdout",
     "output_type": "stream",
     "text": [
      "\u001b[36m(TrainLightGCN pid=436383)\u001b[0m Already normalize adjacency matrix.\n",
      "\u001b[36m(TrainLightGCN pid=436383)\u001b[0m Using xavier initialization.\n"
     ]
    },
    {
     "name": "stderr",
     "output_type": "stream",
     "text": [
      "\u001b[36m(TrainLightGCN pid=436383)\u001b[0m Trainable.setup took 11.859 seconds. If your trainable is slow to initialize, consider setting reuse_actors=True to reduce actor creation overheads.\n"
     ]
    },
    {
     "name": "stderr",
     "output_type": "stream",
     "text": [
      "\u001b[36m(TrainLightGCN pid=435068)\u001b[0m Checkpoint successfully created at: Checkpoint(filesystem=local, path=/home/daviddavo/ray_results/LightGCN_optim=map@10,dao=PancakeSwap,freq=3d,normalize=True,cutoff_date=2023-07-01T00:00:00,fold=9_2024-03-24T01:56:59.853079/TrainLightGCN_7fa70ae5_60_batch_size=10,conv_layers=2,embedding_dim=1,fold=9,l2=0.0004,learning_rate=0.0248_2024-03-24_03-19-29/checkpoint_000000)\n"
     ]
    },
    {
     "name": "stderr",
     "output_type": "stream",
     "text": [
      "\u001b[36m(pid=436673)\u001b[0m 2024-03-24 03:24:52.627222: E tensorflow/compiler/xla/stream_executor/cuda/cuda_dnn.cc:9342] Unable to register cuDNN factory: Attempting to register factory for plugin cuDNN when one has already been registered\n",
      "\u001b[36m(pid=436673)\u001b[0m 2024-03-24 03:24:52.627259: E tensorflow/compiler/xla/stream_executor/cuda/cuda_fft.cc:609] Unable to register cuFFT factory: Attempting to register factory for plugin cuFFT when one has already been registered\n",
      "\u001b[36m(pid=436673)\u001b[0m 2024-03-24 03:24:52.627275: E tensorflow/compiler/xla/stream_executor/cuda/cuda_blas.cc:1518] Unable to register cuBLAS factory: Attempting to register factory for plugin cuBLAS when one has already been registered\n"
     ]
    },
    {
     "name": "stderr",
     "output_type": "stream",
     "text": [
      "\u001b[36m(TrainLightGCN pid=436673)\u001b[0m /home/daviddavo/upm-tfm-notebooks/.direnv/python-3.9/lib/python3.9/site-packages/recommenders/models/deeprec/DataModel/ImplicitCF.py:73: FutureWarning: The frame.append method is deprecated and will be removed from pandas in a future version. Use pandas.concat instead.\n",
      "\u001b[36m(TrainLightGCN pid=436673)\u001b[0m   df = train if test is None else train.append(test)\n"
     ]
    },
    {
     "name": "stdout",
     "output_type": "stream",
     "text": [
      "\u001b[36m(TrainLightGCN pid=436673)\u001b[0m Already create adjacency matrix.\n"
     ]
    },
    {
     "name": "stdout",
     "output_type": "stream",
     "text": [
      "\u001b[36m(TrainLightGCN pid=436673)\u001b[0m Already normalize adjacency matrix.\n",
      "\u001b[36m(TrainLightGCN pid=436673)\u001b[0m Using xavier initialization.\n"
     ]
    },
    {
     "name": "stderr",
     "output_type": "stream",
     "text": [
      "\u001b[36m(TrainLightGCN pid=436673)\u001b[0m Trainable.setup took 11.767 seconds. If your trainable is slow to initialize, consider setting reuse_actors=True to reduce actor creation overheads.\n"
     ]
    },
    {
     "name": "stderr",
     "output_type": "stream",
     "text": [
      "\u001b[36m(TrainLightGCN pid=435543)\u001b[0m Checkpoint successfully created at: Checkpoint(filesystem=local, path=/home/daviddavo/ray_results/LightGCN_optim=map@10,dao=PancakeSwap,freq=3d,normalize=True,cutoff_date=2023-07-01T00:00:00,fold=9_2024-03-24T01:56:59.853079/TrainLightGCN_25dee7cb_61_batch_size=8,conv_layers=1,embedding_dim=2,fold=9,l2=0.0001,learning_rate=0.0807_2024-03-24_03-19-44/checkpoint_000000)\n"
     ]
    },
    {
     "name": "stderr",
     "output_type": "stream",
     "text": [
      "\u001b[36m(pid=437164)\u001b[0m 2024-03-24 03:26:47.636208: E tensorflow/compiler/xla/stream_executor/cuda/cuda_dnn.cc:9342] Unable to register cuDNN factory: Attempting to register factory for plugin cuDNN when one has already been registered\n",
      "\u001b[36m(pid=437164)\u001b[0m 2024-03-24 03:26:47.636242: E tensorflow/compiler/xla/stream_executor/cuda/cuda_fft.cc:609] Unable to register cuFFT factory: Attempting to register factory for plugin cuFFT when one has already been registered\n",
      "\u001b[36m(pid=437164)\u001b[0m 2024-03-24 03:26:47.636255: E tensorflow/compiler/xla/stream_executor/cuda/cuda_blas.cc:1518] Unable to register cuBLAS factory: Attempting to register factory for plugin cuBLAS when one has already been registered\n"
     ]
    },
    {
     "name": "stderr",
     "output_type": "stream",
     "text": [
      "\u001b[36m(TrainLightGCN pid=437164)\u001b[0m /home/daviddavo/upm-tfm-notebooks/.direnv/python-3.9/lib/python3.9/site-packages/recommenders/models/deeprec/DataModel/ImplicitCF.py:73: FutureWarning: The frame.append method is deprecated and will be removed from pandas in a future version. Use pandas.concat instead.\n",
      "\u001b[36m(TrainLightGCN pid=437164)\u001b[0m   df = train if test is None else train.append(test)\n"
     ]
    },
    {
     "name": "stdout",
     "output_type": "stream",
     "text": [
      "\u001b[36m(TrainLightGCN pid=437164)\u001b[0m Already create adjacency matrix.\n"
     ]
    },
    {
     "name": "stdout",
     "output_type": "stream",
     "text": [
      "\u001b[36m(TrainLightGCN pid=437164)\u001b[0m Already normalize adjacency matrix.\n",
      "\u001b[36m(TrainLightGCN pid=437164)\u001b[0m Using xavier initialization.\n"
     ]
    },
    {
     "name": "stderr",
     "output_type": "stream",
     "text": [
      "\u001b[36m(TrainLightGCN pid=437164)\u001b[0m Trainable.setup took 11.893 seconds. If your trainable is slow to initialize, consider setting reuse_actors=True to reduce actor creation overheads.\n"
     ]
    },
    {
     "name": "stderr",
     "output_type": "stream",
     "text": [
      "\u001b[36m(TrainLightGCN pid=435976)\u001b[0m Checkpoint successfully created at: Checkpoint(filesystem=local, path=/home/daviddavo/ray_results/LightGCN_optim=map@10,dao=PancakeSwap,freq=3d,normalize=True,cutoff_date=2023-07-01T00:00:00,fold=9_2024-03-24T01:56:59.853079/TrainLightGCN_a092d36d_62_batch_size=9,conv_layers=3,embedding_dim=12,fold=9,l2=0.0000,learning_rate=0.3093_2024-03-24_03-21-22/checkpoint_000000)\n"
     ]
    },
    {
     "name": "stderr",
     "output_type": "stream",
     "text": [
      "\u001b[36m(pid=437652)\u001b[0m 2024-03-24 03:28:39.677667: E tensorflow/compiler/xla/stream_executor/cuda/cuda_dnn.cc:9342] Unable to register cuDNN factory: Attempting to register factory for plugin cuDNN when one has already been registered\n",
      "\u001b[36m(pid=437652)\u001b[0m 2024-03-24 03:28:39.677704: E tensorflow/compiler/xla/stream_executor/cuda/cuda_fft.cc:609] Unable to register cuFFT factory: Attempting to register factory for plugin cuFFT when one has already been registered\n",
      "\u001b[36m(pid=437652)\u001b[0m 2024-03-24 03:28:39.677721: E tensorflow/compiler/xla/stream_executor/cuda/cuda_blas.cc:1518] Unable to register cuBLAS factory: Attempting to register factory for plugin cuBLAS when one has already been registered\n"
     ]
    },
    {
     "name": "stderr",
     "output_type": "stream",
     "text": [
      "\u001b[36m(TrainLightGCN pid=437652)\u001b[0m /home/daviddavo/upm-tfm-notebooks/.direnv/python-3.9/lib/python3.9/site-packages/recommenders/models/deeprec/DataModel/ImplicitCF.py:73: FutureWarning: The frame.append method is deprecated and will be removed from pandas in a future version. Use pandas.concat instead.\n",
      "\u001b[36m(TrainLightGCN pid=437652)\u001b[0m   df = train if test is None else train.append(test)\n"
     ]
    },
    {
     "name": "stdout",
     "output_type": "stream",
     "text": [
      "\u001b[36m(TrainLightGCN pid=437652)\u001b[0m Already create adjacency matrix.\n"
     ]
    },
    {
     "name": "stdout",
     "output_type": "stream",
     "text": [
      "\u001b[36m(TrainLightGCN pid=437652)\u001b[0m Already normalize adjacency matrix.\n",
      "\u001b[36m(TrainLightGCN pid=437652)\u001b[0m Using xavier initialization.\n"
     ]
    },
    {
     "name": "stderr",
     "output_type": "stream",
     "text": [
      "\u001b[36m(TrainLightGCN pid=437652)\u001b[0m Trainable.setup took 12.014 seconds. If your trainable is slow to initialize, consider setting reuse_actors=True to reduce actor creation overheads.\n"
     ]
    },
    {
     "name": "stderr",
     "output_type": "stream",
     "text": [
      "\u001b[36m(TrainLightGCN pid=436383)\u001b[0m Checkpoint successfully created at: Checkpoint(filesystem=local, path=/home/daviddavo/ray_results/LightGCN_optim=map@10,dao=PancakeSwap,freq=3d,normalize=True,cutoff_date=2023-07-01T00:00:00,fold=9_2024-03-24T01:56:59.853079/TrainLightGCN_f80f27a8_63_batch_size=7,conv_layers=4,embedding_dim=8,fold=9,l2=0.0001,learning_rate=0.0122_2024-03-24_03-22-56/checkpoint_000000)\n"
     ]
    },
    {
     "name": "stderr",
     "output_type": "stream",
     "text": [
      "\u001b[36m(pid=438051)\u001b[0m 2024-03-24 03:30:01.698841: E tensorflow/compiler/xla/stream_executor/cuda/cuda_dnn.cc:9342] Unable to register cuDNN factory: Attempting to register factory for plugin cuDNN when one has already been registered\n",
      "\u001b[36m(pid=438051)\u001b[0m 2024-03-24 03:30:01.699066: E tensorflow/compiler/xla/stream_executor/cuda/cuda_fft.cc:609] Unable to register cuFFT factory: Attempting to register factory for plugin cuFFT when one has already been registered\n",
      "\u001b[36m(pid=438051)\u001b[0m 2024-03-24 03:30:01.699090: E tensorflow/compiler/xla/stream_executor/cuda/cuda_blas.cc:1518] Unable to register cuBLAS factory: Attempting to register factory for plugin cuBLAS when one has already been registered\n"
     ]
    },
    {
     "name": "stderr",
     "output_type": "stream",
     "text": [
      "\u001b[36m(TrainLightGCN pid=438051)\u001b[0m /home/daviddavo/upm-tfm-notebooks/.direnv/python-3.9/lib/python3.9/site-packages/recommenders/models/deeprec/DataModel/ImplicitCF.py:73: FutureWarning: The frame.append method is deprecated and will be removed from pandas in a future version. Use pandas.concat instead.\n",
      "\u001b[36m(TrainLightGCN pid=438051)\u001b[0m   df = train if test is None else train.append(test)\n"
     ]
    },
    {
     "name": "stdout",
     "output_type": "stream",
     "text": [
      "\u001b[36m(TrainLightGCN pid=438051)\u001b[0m Already create adjacency matrix.\n"
     ]
    },
    {
     "name": "stdout",
     "output_type": "stream",
     "text": [
      "\u001b[36m(TrainLightGCN pid=438051)\u001b[0m Already normalize adjacency matrix.\n",
      "\u001b[36m(TrainLightGCN pid=438051)\u001b[0m Using xavier initialization.\n"
     ]
    },
    {
     "name": "stderr",
     "output_type": "stream",
     "text": [
      "\u001b[36m(TrainLightGCN pid=438051)\u001b[0m Trainable.setup took 11.890 seconds. If your trainable is slow to initialize, consider setting reuse_actors=True to reduce actor creation overheads.\n"
     ]
    },
    {
     "name": "stderr",
     "output_type": "stream",
     "text": [
      "\u001b[36m(TrainLightGCN pid=436673)\u001b[0m Checkpoint successfully created at: Checkpoint(filesystem=local, path=/home/daviddavo/ray_results/LightGCN_optim=map@10,dao=PancakeSwap,freq=3d,normalize=True,cutoff_date=2023-07-01T00:00:00,fold=9_2024-03-24T01:56:59.853079/TrainLightGCN_600721d6_64_batch_size=10,conv_layers=1,embedding_dim=157,fold=9,l2=0.0000,learning_rate=0.0591_2024-03-24_03-24-21/checkpoint_000000)\n"
     ]
    },
    {
     "name": "stderr",
     "output_type": "stream",
     "text": [
      "\u001b[36m(pid=438314)\u001b[0m 2024-03-24 03:30:36.714349: E tensorflow/compiler/xla/stream_executor/cuda/cuda_dnn.cc:9342] Unable to register cuDNN factory: Attempting to register factory for plugin cuDNN when one has already been registered\n",
      "\u001b[36m(pid=438314)\u001b[0m 2024-03-24 03:30:36.714387: E tensorflow/compiler/xla/stream_executor/cuda/cuda_fft.cc:609] Unable to register cuFFT factory: Attempting to register factory for plugin cuFFT when one has already been registered\n",
      "\u001b[36m(pid=438314)\u001b[0m 2024-03-24 03:30:36.714410: E tensorflow/compiler/xla/stream_executor/cuda/cuda_blas.cc:1518] Unable to register cuBLAS factory: Attempting to register factory for plugin cuBLAS when one has already been registered\n"
     ]
    },
    {
     "name": "stderr",
     "output_type": "stream",
     "text": [
      "\u001b[36m(TrainLightGCN pid=438314)\u001b[0m /home/daviddavo/upm-tfm-notebooks/.direnv/python-3.9/lib/python3.9/site-packages/recommenders/models/deeprec/DataModel/ImplicitCF.py:73: FutureWarning: The frame.append method is deprecated and will be removed from pandas in a future version. Use pandas.concat instead.\n",
      "\u001b[36m(TrainLightGCN pid=438314)\u001b[0m   df = train if test is None else train.append(test)\n"
     ]
    },
    {
     "name": "stdout",
     "output_type": "stream",
     "text": [
      "\u001b[36m(TrainLightGCN pid=438314)\u001b[0m Already create adjacency matrix.\n"
     ]
    },
    {
     "name": "stdout",
     "output_type": "stream",
     "text": [
      "\u001b[36m(TrainLightGCN pid=438314)\u001b[0m Already normalize adjacency matrix.\n",
      "\u001b[36m(TrainLightGCN pid=438314)\u001b[0m Using xavier initialization.\n"
     ]
    },
    {
     "name": "stderr",
     "output_type": "stream",
     "text": [
      "\u001b[36m(TrainLightGCN pid=438314)\u001b[0m Trainable.setup took 11.648 seconds. If your trainable is slow to initialize, consider setting reuse_actors=True to reduce actor creation overheads.\n"
     ]
    },
    {
     "name": "stderr",
     "output_type": "stream",
     "text": [
      "\u001b[36m(TrainLightGCN pid=437164)\u001b[0m Checkpoint successfully created at: Checkpoint(filesystem=local, path=/home/daviddavo/ray_results/LightGCN_optim=map@10,dao=PancakeSwap,freq=3d,normalize=True,cutoff_date=2023-07-01T00:00:00,fold=9_2024-03-24T01:56:59.853079/TrainLightGCN_e5404221_65_batch_size=11,conv_layers=2,embedding_dim=48,fold=9,l2=0.0000,learning_rate=0.2145_2024-03-24_03-25-06/checkpoint_000000)\n"
     ]
    },
    {
     "name": "stderr",
     "output_type": "stream",
     "text": [
      "\u001b[36m(pid=438766)\u001b[0m 2024-03-24 03:32:17.701627: E tensorflow/compiler/xla/stream_executor/cuda/cuda_dnn.cc:9342] Unable to register cuDNN factory: Attempting to register factory for plugin cuDNN when one has already been registered\n",
      "\u001b[36m(pid=438766)\u001b[0m 2024-03-24 03:32:17.701667: E tensorflow/compiler/xla/stream_executor/cuda/cuda_fft.cc:609] Unable to register cuFFT factory: Attempting to register factory for plugin cuFFT when one has already been registered\n",
      "\u001b[36m(pid=438766)\u001b[0m 2024-03-24 03:32:17.701685: E tensorflow/compiler/xla/stream_executor/cuda/cuda_blas.cc:1518] Unable to register cuBLAS factory: Attempting to register factory for plugin cuBLAS when one has already been registered\n"
     ]
    },
    {
     "name": "stderr",
     "output_type": "stream",
     "text": [
      "\u001b[36m(TrainLightGCN pid=438766)\u001b[0m /home/daviddavo/upm-tfm-notebooks/.direnv/python-3.9/lib/python3.9/site-packages/recommenders/models/deeprec/DataModel/ImplicitCF.py:73: FutureWarning: The frame.append method is deprecated and will be removed from pandas in a future version. Use pandas.concat instead.\n",
      "\u001b[36m(TrainLightGCN pid=438766)\u001b[0m   df = train if test is None else train.append(test)\n"
     ]
    },
    {
     "name": "stdout",
     "output_type": "stream",
     "text": [
      "\u001b[36m(TrainLightGCN pid=438766)\u001b[0m Already create adjacency matrix.\n"
     ]
    },
    {
     "name": "stdout",
     "output_type": "stream",
     "text": [
      "\u001b[36m(TrainLightGCN pid=438766)\u001b[0m Already normalize adjacency matrix.\n",
      "\u001b[36m(TrainLightGCN pid=438766)\u001b[0m Using xavier initialization.\n"
     ]
    },
    {
     "name": "stderr",
     "output_type": "stream",
     "text": [
      "\u001b[36m(TrainLightGCN pid=438766)\u001b[0m Trainable.setup took 11.677 seconds. If your trainable is slow to initialize, consider setting reuse_actors=True to reduce actor creation overheads.\n"
     ]
    },
    {
     "name": "stderr",
     "output_type": "stream",
     "text": [
      "\u001b[36m(TrainLightGCN pid=437652)\u001b[0m Checkpoint successfully created at: Checkpoint(filesystem=local, path=/home/daviddavo/ray_results/LightGCN_optim=map@10,dao=PancakeSwap,freq=3d,normalize=True,cutoff_date=2023-07-01T00:00:00,fold=9_2024-03-24T01:56:59.853079/TrainLightGCN_f9ab3453_66_batch_size=11,conv_layers=2,embedding_dim=1,fold=9,l2=0.0001,learning_rate=0.0428_2024-03-24_03-27-01/checkpoint_000000)\n"
     ]
    },
    {
     "name": "stderr",
     "output_type": "stream",
     "text": [
      "\u001b[36m(pid=439240)\u001b[0m 2024-03-24 03:34:05.712802: E tensorflow/compiler/xla/stream_executor/cuda/cuda_dnn.cc:9342] Unable to register cuDNN factory: Attempting to register factory for plugin cuDNN when one has already been registered\n",
      "\u001b[36m(pid=439240)\u001b[0m 2024-03-24 03:34:05.712840: E tensorflow/compiler/xla/stream_executor/cuda/cuda_fft.cc:609] Unable to register cuFFT factory: Attempting to register factory for plugin cuFFT when one has already been registered\n",
      "\u001b[36m(pid=439240)\u001b[0m 2024-03-24 03:34:05.712855: E tensorflow/compiler/xla/stream_executor/cuda/cuda_blas.cc:1518] Unable to register cuBLAS factory: Attempting to register factory for plugin cuBLAS when one has already been registered\n"
     ]
    },
    {
     "name": "stderr",
     "output_type": "stream",
     "text": [
      "\u001b[36m(TrainLightGCN pid=439240)\u001b[0m /home/daviddavo/upm-tfm-notebooks/.direnv/python-3.9/lib/python3.9/site-packages/recommenders/models/deeprec/DataModel/ImplicitCF.py:73: FutureWarning: The frame.append method is deprecated and will be removed from pandas in a future version. Use pandas.concat instead.\n",
      "\u001b[36m(TrainLightGCN pid=439240)\u001b[0m   df = train if test is None else train.append(test)\n"
     ]
    },
    {
     "name": "stdout",
     "output_type": "stream",
     "text": [
      "\u001b[36m(TrainLightGCN pid=439240)\u001b[0m Already create adjacency matrix.\n"
     ]
    },
    {
     "name": "stdout",
     "output_type": "stream",
     "text": [
      "\u001b[36m(TrainLightGCN pid=439240)\u001b[0m Already normalize adjacency matrix.\n",
      "\u001b[36m(TrainLightGCN pid=439240)\u001b[0m Using xavier initialization.\n"
     ]
    },
    {
     "name": "stderr",
     "output_type": "stream",
     "text": [
      "\u001b[36m(TrainLightGCN pid=439240)\u001b[0m Trainable.setup took 11.955 seconds. If your trainable is slow to initialize, consider setting reuse_actors=True to reduce actor creation overheads.\n"
     ]
    },
    {
     "name": "stderr",
     "output_type": "stream",
     "text": [
      "\u001b[36m(TrainLightGCN pid=438051)\u001b[0m Checkpoint successfully created at: Checkpoint(filesystem=local, path=/home/daviddavo/ray_results/LightGCN_optim=map@10,dao=PancakeSwap,freq=3d,normalize=True,cutoff_date=2023-07-01T00:00:00,fold=9_2024-03-24T01:56:59.853079/TrainLightGCN_f0f25023_67_batch_size=12,conv_layers=2,embedding_dim=1,fold=9,l2=0.0000,learning_rate=0.0302_2024-03-24_03-28-53/checkpoint_000000)\n"
     ]
    },
    {
     "name": "stderr",
     "output_type": "stream",
     "text": [
      "\u001b[36m(pid=439493)\u001b[0m 2024-03-24 03:34:38.715068: E tensorflow/compiler/xla/stream_executor/cuda/cuda_dnn.cc:9342] Unable to register cuDNN factory: Attempting to register factory for plugin cuDNN when one has already been registered\n",
      "\u001b[36m(pid=439493)\u001b[0m 2024-03-24 03:34:38.715108: E tensorflow/compiler/xla/stream_executor/cuda/cuda_fft.cc:609] Unable to register cuFFT factory: Attempting to register factory for plugin cuFFT when one has already been registered\n",
      "\u001b[36m(pid=439493)\u001b[0m 2024-03-24 03:34:38.715132: E tensorflow/compiler/xla/stream_executor/cuda/cuda_blas.cc:1518] Unable to register cuBLAS factory: Attempting to register factory for plugin cuBLAS when one has already been registered\n"
     ]
    },
    {
     "name": "stderr",
     "output_type": "stream",
     "text": [
      "\u001b[36m(TrainLightGCN pid=439493)\u001b[0m /home/daviddavo/upm-tfm-notebooks/.direnv/python-3.9/lib/python3.9/site-packages/recommenders/models/deeprec/DataModel/ImplicitCF.py:73: FutureWarning: The frame.append method is deprecated and will be removed from pandas in a future version. Use pandas.concat instead.\n",
      "\u001b[36m(TrainLightGCN pid=439493)\u001b[0m   df = train if test is None else train.append(test)\n"
     ]
    },
    {
     "name": "stdout",
     "output_type": "stream",
     "text": [
      "\u001b[36m(TrainLightGCN pid=439493)\u001b[0m Already create adjacency matrix.\n"
     ]
    },
    {
     "name": "stdout",
     "output_type": "stream",
     "text": [
      "\u001b[36m(TrainLightGCN pid=439493)\u001b[0m Already normalize adjacency matrix.\n",
      "\u001b[36m(TrainLightGCN pid=439493)\u001b[0m Using xavier initialization.\n"
     ]
    },
    {
     "name": "stderr",
     "output_type": "stream",
     "text": [
      "\u001b[36m(TrainLightGCN pid=439493)\u001b[0m Trainable.setup took 11.664 seconds. If your trainable is slow to initialize, consider setting reuse_actors=True to reduce actor creation overheads.\n"
     ]
    },
    {
     "name": "stderr",
     "output_type": "stream",
     "text": [
      "\u001b[36m(TrainLightGCN pid=438314)\u001b[0m Checkpoint successfully created at: Checkpoint(filesystem=local, path=/home/daviddavo/ray_results/LightGCN_optim=map@10,dao=PancakeSwap,freq=3d,normalize=True,cutoff_date=2023-07-01T00:00:00,fold=9_2024-03-24T01:56:59.853079/TrainLightGCN_a6b31fff_68_batch_size=12,conv_layers=2,embedding_dim=1,fold=9,l2=0.0000,learning_rate=0.0451_2024-03-24_03-30-15/checkpoint_000000)\n"
     ]
    },
    {
     "name": "stderr",
     "output_type": "stream",
     "text": [
      "\u001b[36m(pid=439730)\u001b[0m 2024-03-24 03:35:06.722069: E tensorflow/compiler/xla/stream_executor/cuda/cuda_dnn.cc:9342] Unable to register cuDNN factory: Attempting to register factory for plugin cuDNN when one has already been registered\n",
      "\u001b[36m(pid=439730)\u001b[0m 2024-03-24 03:35:06.722107: E tensorflow/compiler/xla/stream_executor/cuda/cuda_fft.cc:609] Unable to register cuFFT factory: Attempting to register factory for plugin cuFFT when one has already been registered\n",
      "\u001b[36m(pid=439730)\u001b[0m 2024-03-24 03:35:06.722120: E tensorflow/compiler/xla/stream_executor/cuda/cuda_blas.cc:1518] Unable to register cuBLAS factory: Attempting to register factory for plugin cuBLAS when one has already been registered\n"
     ]
    },
    {
     "name": "stderr",
     "output_type": "stream",
     "text": [
      "\u001b[36m(TrainLightGCN pid=439730)\u001b[0m /home/daviddavo/upm-tfm-notebooks/.direnv/python-3.9/lib/python3.9/site-packages/recommenders/models/deeprec/DataModel/ImplicitCF.py:73: FutureWarning: The frame.append method is deprecated and will be removed from pandas in a future version. Use pandas.concat instead.\n",
      "\u001b[36m(TrainLightGCN pid=439730)\u001b[0m   df = train if test is None else train.append(test)\n"
     ]
    },
    {
     "name": "stdout",
     "output_type": "stream",
     "text": [
      "\u001b[36m(TrainLightGCN pid=439730)\u001b[0m Already create adjacency matrix.\n"
     ]
    },
    {
     "name": "stdout",
     "output_type": "stream",
     "text": [
      "\u001b[36m(TrainLightGCN pid=439730)\u001b[0m Already normalize adjacency matrix.\n",
      "\u001b[36m(TrainLightGCN pid=439730)\u001b[0m Using xavier initialization.\n"
     ]
    },
    {
     "name": "stderr",
     "output_type": "stream",
     "text": [
      "\u001b[36m(TrainLightGCN pid=439730)\u001b[0m Trainable.setup took 11.671 seconds. If your trainable is slow to initialize, consider setting reuse_actors=True to reduce actor creation overheads.\n"
     ]
    },
    {
     "name": "stderr",
     "output_type": "stream",
     "text": [
      "\u001b[36m(TrainLightGCN pid=438766)\u001b[0m Checkpoint successfully created at: Checkpoint(filesystem=local, path=/home/daviddavo/ray_results/LightGCN_optim=map@10,dao=PancakeSwap,freq=3d,normalize=True,cutoff_date=2023-07-01T00:00:00,fold=9_2024-03-24T01:56:59.853079/TrainLightGCN_5b312b2b_69_batch_size=12,conv_layers=1,embedding_dim=2,fold=9,l2=0.0002,learning_rate=0.0362_2024-03-24_03-30-50/checkpoint_000000)\n"
     ]
    },
    {
     "name": "stderr",
     "output_type": "stream",
     "text": [
      "\u001b[36m(pid=440177)\u001b[0m 2024-03-24 03:36:45.716547: E tensorflow/compiler/xla/stream_executor/cuda/cuda_dnn.cc:9342] Unable to register cuDNN factory: Attempting to register factory for plugin cuDNN when one has already been registered\n",
      "\u001b[36m(pid=440177)\u001b[0m 2024-03-24 03:36:45.716584: E tensorflow/compiler/xla/stream_executor/cuda/cuda_fft.cc:609] Unable to register cuFFT factory: Attempting to register factory for plugin cuFFT when one has already been registered\n",
      "\u001b[36m(pid=440177)\u001b[0m 2024-03-24 03:36:45.716600: E tensorflow/compiler/xla/stream_executor/cuda/cuda_blas.cc:1518] Unable to register cuBLAS factory: Attempting to register factory for plugin cuBLAS when one has already been registered\n"
     ]
    },
    {
     "name": "stderr",
     "output_type": "stream",
     "text": [
      "\u001b[36m(TrainLightGCN pid=440177)\u001b[0m /home/daviddavo/upm-tfm-notebooks/.direnv/python-3.9/lib/python3.9/site-packages/recommenders/models/deeprec/DataModel/ImplicitCF.py:73: FutureWarning: The frame.append method is deprecated and will be removed from pandas in a future version. Use pandas.concat instead.\n",
      "\u001b[36m(TrainLightGCN pid=440177)\u001b[0m   df = train if test is None else train.append(test)\n"
     ]
    },
    {
     "name": "stdout",
     "output_type": "stream",
     "text": [
      "\u001b[36m(TrainLightGCN pid=440177)\u001b[0m Already create adjacency matrix.\n"
     ]
    },
    {
     "name": "stdout",
     "output_type": "stream",
     "text": [
      "\u001b[36m(TrainLightGCN pid=440177)\u001b[0m Already normalize adjacency matrix.\n",
      "\u001b[36m(TrainLightGCN pid=440177)\u001b[0m Using xavier initialization.\n"
     ]
    },
    {
     "name": "stderr",
     "output_type": "stream",
     "text": [
      "\u001b[36m(TrainLightGCN pid=440177)\u001b[0m Trainable.setup took 11.757 seconds. If your trainable is slow to initialize, consider setting reuse_actors=True to reduce actor creation overheads.\n"
     ]
    },
    {
     "name": "stderr",
     "output_type": "stream",
     "text": [
      "\u001b[36m(TrainLightGCN pid=439493)\u001b[0m Checkpoint successfully created at: Checkpoint(filesystem=local, path=/home/daviddavo/ray_results/LightGCN_optim=map@10,dao=PancakeSwap,freq=3d,normalize=True,cutoff_date=2023-07-01T00:00:00,fold=9_2024-03-24T01:56:59.853079/TrainLightGCN_29be2d63_71_batch_size=12,conv_layers=3,embedding_dim=1,fold=9,l2=0.0000,learning_rate=0.0160_2024-03-24_03-34-19/checkpoint_000000)\n"
     ]
    },
    {
     "name": "stderr",
     "output_type": "stream",
     "text": [
      "\u001b[36m(pid=440774)\u001b[0m 2024-03-24 03:39:14.756002: E tensorflow/compiler/xla/stream_executor/cuda/cuda_dnn.cc:9342] Unable to register cuDNN factory: Attempting to register factory for plugin cuDNN when one has already been registered\n",
      "\u001b[36m(pid=440774)\u001b[0m 2024-03-24 03:39:14.756041: E tensorflow/compiler/xla/stream_executor/cuda/cuda_fft.cc:609] Unable to register cuFFT factory: Attempting to register factory for plugin cuFFT when one has already been registered\n",
      "\u001b[36m(pid=440774)\u001b[0m 2024-03-24 03:39:14.756055: E tensorflow/compiler/xla/stream_executor/cuda/cuda_blas.cc:1518] Unable to register cuBLAS factory: Attempting to register factory for plugin cuBLAS when one has already been registered\n"
     ]
    },
    {
     "name": "stderr",
     "output_type": "stream",
     "text": [
      "\u001b[36m(TrainLightGCN pid=440774)\u001b[0m /home/daviddavo/upm-tfm-notebooks/.direnv/python-3.9/lib/python3.9/site-packages/recommenders/models/deeprec/DataModel/ImplicitCF.py:73: FutureWarning: The frame.append method is deprecated and will be removed from pandas in a future version. Use pandas.concat instead.\n",
      "\u001b[36m(TrainLightGCN pid=440774)\u001b[0m   df = train if test is None else train.append(test)\n"
     ]
    },
    {
     "name": "stdout",
     "output_type": "stream",
     "text": [
      "\u001b[36m(TrainLightGCN pid=440774)\u001b[0m Already create adjacency matrix.\n"
     ]
    },
    {
     "name": "stdout",
     "output_type": "stream",
     "text": [
      "\u001b[36m(TrainLightGCN pid=440774)\u001b[0m Already normalize adjacency matrix.\n",
      "\u001b[36m(TrainLightGCN pid=440774)\u001b[0m Using xavier initialization.\n"
     ]
    },
    {
     "name": "stderr",
     "output_type": "stream",
     "text": [
      "\u001b[36m(TrainLightGCN pid=440774)\u001b[0m Trainable.setup took 11.708 seconds. If your trainable is slow to initialize, consider setting reuse_actors=True to reduce actor creation overheads.\n"
     ]
    },
    {
     "name": "stderr",
     "output_type": "stream",
     "text": [
      "\u001b[36m(TrainLightGCN pid=439240)\u001b[0m Checkpoint successfully created at: Checkpoint(filesystem=local, path=/home/daviddavo/ray_results/LightGCN_optim=map@10,dao=PancakeSwap,freq=3d,normalize=True,cutoff_date=2023-07-01T00:00:00,fold=9_2024-03-24T01:56:59.853079/TrainLightGCN_b593f88a_70_batch_size=9,conv_layers=2,embedding_dim=1,fold=9,l2=0.0001,learning_rate=0.0228_2024-03-24_03-32-31/checkpoint_000000)\n"
     ]
    },
    {
     "name": "stderr",
     "output_type": "stream",
     "text": [
      "\u001b[36m(pid=440998)\u001b[0m 2024-03-24 03:39:37.764333: E tensorflow/compiler/xla/stream_executor/cuda/cuda_dnn.cc:9342] Unable to register cuDNN factory: Attempting to register factory for plugin cuDNN when one has already been registered\n",
      "\u001b[36m(pid=440998)\u001b[0m 2024-03-24 03:39:37.764373: E tensorflow/compiler/xla/stream_executor/cuda/cuda_fft.cc:609] Unable to register cuFFT factory: Attempting to register factory for plugin cuFFT when one has already been registered\n",
      "\u001b[36m(pid=440998)\u001b[0m 2024-03-24 03:39:37.764389: E tensorflow/compiler/xla/stream_executor/cuda/cuda_blas.cc:1518] Unable to register cuBLAS factory: Attempting to register factory for plugin cuBLAS when one has already been registered\n"
     ]
    },
    {
     "name": "stderr",
     "output_type": "stream",
     "text": [
      "\u001b[36m(TrainLightGCN pid=440998)\u001b[0m /home/daviddavo/upm-tfm-notebooks/.direnv/python-3.9/lib/python3.9/site-packages/recommenders/models/deeprec/DataModel/ImplicitCF.py:73: FutureWarning: The frame.append method is deprecated and will be removed from pandas in a future version. Use pandas.concat instead.\n",
      "\u001b[36m(TrainLightGCN pid=440998)\u001b[0m   df = train if test is None else train.append(test)\n"
     ]
    },
    {
     "name": "stdout",
     "output_type": "stream",
     "text": [
      "\u001b[36m(TrainLightGCN pid=440998)\u001b[0m Already create adjacency matrix.\n"
     ]
    },
    {
     "name": "stdout",
     "output_type": "stream",
     "text": [
      "\u001b[36m(TrainLightGCN pid=440998)\u001b[0m Already normalize adjacency matrix.\n",
      "\u001b[36m(TrainLightGCN pid=440998)\u001b[0m Using xavier initialization.\n"
     ]
    },
    {
     "name": "stderr",
     "output_type": "stream",
     "text": [
      "\u001b[36m(TrainLightGCN pid=440998)\u001b[0m Trainable.setup took 11.654 seconds. If your trainable is slow to initialize, consider setting reuse_actors=True to reduce actor creation overheads.\n"
     ]
    },
    {
     "name": "stderr",
     "output_type": "stream",
     "text": [
      "\u001b[36m(TrainLightGCN pid=439730)\u001b[0m Checkpoint successfully created at: Checkpoint(filesystem=local, path=/home/daviddavo/ray_results/LightGCN_optim=map@10,dao=PancakeSwap,freq=3d,normalize=True,cutoff_date=2023-07-01T00:00:00,fold=9_2024-03-24T01:56:59.853079/TrainLightGCN_9ed41bf8_72_batch_size=10,conv_layers=2,embedding_dim=2,fold=9,l2=0.0000,learning_rate=0.0186_2024-03-24_03-34-52/checkpoint_000000)\n"
     ]
    },
    {
     "name": "stderr",
     "output_type": "stream",
     "text": [
      "\u001b[36m(pid=441309)\u001b[0m 2024-03-24 03:40:29.759495: E tensorflow/compiler/xla/stream_executor/cuda/cuda_dnn.cc:9342] Unable to register cuDNN factory: Attempting to register factory for plugin cuDNN when one has already been registered\n",
      "\u001b[36m(pid=441309)\u001b[0m 2024-03-24 03:40:29.759534: E tensorflow/compiler/xla/stream_executor/cuda/cuda_fft.cc:609] Unable to register cuFFT factory: Attempting to register factory for plugin cuFFT when one has already been registered\n",
      "\u001b[36m(pid=441309)\u001b[0m 2024-03-24 03:40:29.759550: E tensorflow/compiler/xla/stream_executor/cuda/cuda_blas.cc:1518] Unable to register cuBLAS factory: Attempting to register factory for plugin cuBLAS when one has already been registered\n"
     ]
    },
    {
     "name": "stderr",
     "output_type": "stream",
     "text": [
      "\u001b[36m(TrainLightGCN pid=441309)\u001b[0m /home/daviddavo/upm-tfm-notebooks/.direnv/python-3.9/lib/python3.9/site-packages/recommenders/models/deeprec/DataModel/ImplicitCF.py:73: FutureWarning: The frame.append method is deprecated and will be removed from pandas in a future version. Use pandas.concat instead.\n",
      "\u001b[36m(TrainLightGCN pid=441309)\u001b[0m   df = train if test is None else train.append(test)\n"
     ]
    },
    {
     "name": "stdout",
     "output_type": "stream",
     "text": [
      "\u001b[36m(TrainLightGCN pid=441309)\u001b[0m Already create adjacency matrix.\n"
     ]
    },
    {
     "name": "stdout",
     "output_type": "stream",
     "text": [
      "\u001b[36m(TrainLightGCN pid=441309)\u001b[0m Already normalize adjacency matrix.\n",
      "\u001b[36m(TrainLightGCN pid=441309)\u001b[0m Using xavier initialization.\n"
     ]
    },
    {
     "name": "stderr",
     "output_type": "stream",
     "text": [
      "\u001b[36m(TrainLightGCN pid=441309)\u001b[0m Trainable.setup took 11.648 seconds. If your trainable is slow to initialize, consider setting reuse_actors=True to reduce actor creation overheads.\n"
     ]
    },
    {
     "name": "stderr",
     "output_type": "stream",
     "text": [
      "\u001b[36m(TrainLightGCN pid=440177)\u001b[0m Checkpoint successfully created at: Checkpoint(filesystem=local, path=/home/daviddavo/ray_results/LightGCN_optim=map@10,dao=PancakeSwap,freq=3d,normalize=True,cutoff_date=2023-07-01T00:00:00,fold=9_2024-03-24T01:56:59.853079/TrainLightGCN_1aa276b8_73_batch_size=11,conv_layers=1,embedding_dim=1,fold=9,l2=0.0000,learning_rate=0.0246_2024-03-24_03-35-20/checkpoint_000000)\n"
     ]
    },
    {
     "name": "stderr",
     "output_type": "stream",
     "text": [
      "\u001b[36m(pid=441708)\u001b[0m 2024-03-24 03:41:52.775334: E tensorflow/compiler/xla/stream_executor/cuda/cuda_dnn.cc:9342] Unable to register cuDNN factory: Attempting to register factory for plugin cuDNN when one has already been registered\n",
      "\u001b[36m(pid=441708)\u001b[0m 2024-03-24 03:41:52.775367: E tensorflow/compiler/xla/stream_executor/cuda/cuda_fft.cc:609] Unable to register cuFFT factory: Attempting to register factory for plugin cuFFT when one has already been registered\n",
      "\u001b[36m(pid=441708)\u001b[0m 2024-03-24 03:41:52.775383: E tensorflow/compiler/xla/stream_executor/cuda/cuda_blas.cc:1518] Unable to register cuBLAS factory: Attempting to register factory for plugin cuBLAS when one has already been registered\n"
     ]
    },
    {
     "name": "stderr",
     "output_type": "stream",
     "text": [
      "\u001b[36m(TrainLightGCN pid=441708)\u001b[0m /home/daviddavo/upm-tfm-notebooks/.direnv/python-3.9/lib/python3.9/site-packages/recommenders/models/deeprec/DataModel/ImplicitCF.py:73: FutureWarning: The frame.append method is deprecated and will be removed from pandas in a future version. Use pandas.concat instead.\n",
      "\u001b[36m(TrainLightGCN pid=441708)\u001b[0m   df = train if test is None else train.append(test)\n"
     ]
    },
    {
     "name": "stdout",
     "output_type": "stream",
     "text": [
      "\u001b[36m(TrainLightGCN pid=441708)\u001b[0m Already create adjacency matrix.\n"
     ]
    },
    {
     "name": "stdout",
     "output_type": "stream",
     "text": [
      "\u001b[36m(TrainLightGCN pid=441708)\u001b[0m Already normalize adjacency matrix.\n",
      "\u001b[36m(TrainLightGCN pid=441708)\u001b[0m Using xavier initialization.\n"
     ]
    },
    {
     "name": "stderr",
     "output_type": "stream",
     "text": [
      "\u001b[36m(TrainLightGCN pid=441708)\u001b[0m Trainable.setup took 11.669 seconds. If your trainable is slow to initialize, consider setting reuse_actors=True to reduce actor creation overheads.\n"
     ]
    },
    {
     "name": "stderr",
     "output_type": "stream",
     "text": [
      "\u001b[36m(TrainLightGCN pid=440998)\u001b[0m Checkpoint successfully created at: Checkpoint(filesystem=local, path=/home/daviddavo/ray_results/LightGCN_optim=map@10,dao=PancakeSwap,freq=3d,normalize=True,cutoff_date=2023-07-01T00:00:00,fold=9_2024-03-24T01:56:59.853079/TrainLightGCN_5a8f7985_75_batch_size=13,conv_layers=3,embedding_dim=2,fold=9,l2=0.0000,learning_rate=0.0661_2024-03-24_03-39-28/checkpoint_000000)\n"
     ]
    },
    {
     "name": "stderr",
     "output_type": "stream",
     "text": [
      "\u001b[36m(pid=442224)\u001b[0m 2024-03-24 03:43:53.814400: E tensorflow/compiler/xla/stream_executor/cuda/cuda_dnn.cc:9342] Unable to register cuDNN factory: Attempting to register factory for plugin cuDNN when one has already been registered\n",
      "\u001b[36m(pid=442224)\u001b[0m 2024-03-24 03:43:53.814436: E tensorflow/compiler/xla/stream_executor/cuda/cuda_fft.cc:609] Unable to register cuFFT factory: Attempting to register factory for plugin cuFFT when one has already been registered\n",
      "\u001b[36m(pid=442224)\u001b[0m 2024-03-24 03:43:53.814454: E tensorflow/compiler/xla/stream_executor/cuda/cuda_blas.cc:1518] Unable to register cuBLAS factory: Attempting to register factory for plugin cuBLAS when one has already been registered\n"
     ]
    },
    {
     "name": "stderr",
     "output_type": "stream",
     "text": [
      "\u001b[36m(TrainLightGCN pid=442224)\u001b[0m /home/daviddavo/upm-tfm-notebooks/.direnv/python-3.9/lib/python3.9/site-packages/recommenders/models/deeprec/DataModel/ImplicitCF.py:73: FutureWarning: The frame.append method is deprecated and will be removed from pandas in a future version. Use pandas.concat instead.\n",
      "\u001b[36m(TrainLightGCN pid=442224)\u001b[0m   df = train if test is None else train.append(test)\n"
     ]
    },
    {
     "name": "stdout",
     "output_type": "stream",
     "text": [
      "\u001b[36m(TrainLightGCN pid=442224)\u001b[0m Already create adjacency matrix.\n"
     ]
    },
    {
     "name": "stdout",
     "output_type": "stream",
     "text": [
      "\u001b[36m(TrainLightGCN pid=442224)\u001b[0m Already normalize adjacency matrix.\n",
      "\u001b[36m(TrainLightGCN pid=442224)\u001b[0m Using xavier initialization.\n"
     ]
    },
    {
     "name": "stderr",
     "output_type": "stream",
     "text": [
      "\u001b[36m(TrainLightGCN pid=442224)\u001b[0m Trainable.setup took 11.640 seconds. If your trainable is slow to initialize, consider setting reuse_actors=True to reduce actor creation overheads.\n"
     ]
    },
    {
     "name": "stderr",
     "output_type": "stream",
     "text": [
      "\u001b[36m(TrainLightGCN pid=440774)\u001b[0m Checkpoint successfully created at: Checkpoint(filesystem=local, path=/home/daviddavo/ray_results/LightGCN_optim=map@10,dao=PancakeSwap,freq=3d,normalize=True,cutoff_date=2023-07-01T00:00:00,fold=9_2024-03-24T01:56:59.853079/TrainLightGCN_6982c100_74_batch_size=11,conv_layers=2,embedding_dim=5,fold=9,l2=0.0001,learning_rate=0.0488_2024-03-24_03-36-59/checkpoint_000000)\n"
     ]
    },
    {
     "name": "stderr",
     "output_type": "stream",
     "text": [
      "\u001b[36m(pid=442485)\u001b[0m 2024-03-24 03:44:29.823215: E tensorflow/compiler/xla/stream_executor/cuda/cuda_dnn.cc:9342] Unable to register cuDNN factory: Attempting to register factory for plugin cuDNN when one has already been registered\n",
      "\u001b[36m(pid=442485)\u001b[0m 2024-03-24 03:44:29.823245: E tensorflow/compiler/xla/stream_executor/cuda/cuda_fft.cc:609] Unable to register cuFFT factory: Attempting to register factory for plugin cuFFT when one has already been registered\n",
      "\u001b[36m(pid=442485)\u001b[0m 2024-03-24 03:44:29.823259: E tensorflow/compiler/xla/stream_executor/cuda/cuda_blas.cc:1518] Unable to register cuBLAS factory: Attempting to register factory for plugin cuBLAS when one has already been registered\n"
     ]
    },
    {
     "name": "stderr",
     "output_type": "stream",
     "text": [
      "\u001b[36m(TrainLightGCN pid=442485)\u001b[0m /home/daviddavo/upm-tfm-notebooks/.direnv/python-3.9/lib/python3.9/site-packages/recommenders/models/deeprec/DataModel/ImplicitCF.py:73: FutureWarning: The frame.append method is deprecated and will be removed from pandas in a future version. Use pandas.concat instead.\n",
      "\u001b[36m(TrainLightGCN pid=442485)\u001b[0m   df = train if test is None else train.append(test)\n"
     ]
    },
    {
     "name": "stdout",
     "output_type": "stream",
     "text": [
      "\u001b[36m(TrainLightGCN pid=442485)\u001b[0m Already create adjacency matrix.\n"
     ]
    },
    {
     "name": "stdout",
     "output_type": "stream",
     "text": [
      "\u001b[36m(TrainLightGCN pid=442485)\u001b[0m Already normalize adjacency matrix.\n",
      "\u001b[36m(TrainLightGCN pid=442485)\u001b[0m Using xavier initialization.\n"
     ]
    },
    {
     "name": "stderr",
     "output_type": "stream",
     "text": [
      "\u001b[36m(TrainLightGCN pid=442485)\u001b[0m Trainable.setup took 11.691 seconds. If your trainable is slow to initialize, consider setting reuse_actors=True to reduce actor creation overheads.\n"
     ]
    },
    {
     "name": "stderr",
     "output_type": "stream",
     "text": [
      "\u001b[36m(TrainLightGCN pid=441309)\u001b[0m Checkpoint successfully created at: Checkpoint(filesystem=local, path=/home/daviddavo/ray_results/LightGCN_optim=map@10,dao=PancakeSwap,freq=3d,normalize=True,cutoff_date=2023-07-01T00:00:00,fold=9_2024-03-24T01:56:59.853079/TrainLightGCN_7467fff3_76_batch_size=10,conv_layers=1,embedding_dim=1,fold=9,l2=0.0000,learning_rate=0.0370_2024-03-24_03-39-51/checkpoint_000000)\n"
     ]
    },
    {
     "name": "stderr",
     "output_type": "stream",
     "text": [
      "\u001b[36m(pid=442899)\u001b[0m 2024-03-24 03:45:56.807389: E tensorflow/compiler/xla/stream_executor/cuda/cuda_dnn.cc:9342] Unable to register cuDNN factory: Attempting to register factory for plugin cuDNN when one has already been registered\n",
      "\u001b[36m(pid=442899)\u001b[0m 2024-03-24 03:45:56.807427: E tensorflow/compiler/xla/stream_executor/cuda/cuda_fft.cc:609] Unable to register cuFFT factory: Attempting to register factory for plugin cuFFT when one has already been registered\n",
      "\u001b[36m(pid=442899)\u001b[0m 2024-03-24 03:45:56.807441: E tensorflow/compiler/xla/stream_executor/cuda/cuda_blas.cc:1518] Unable to register cuBLAS factory: Attempting to register factory for plugin cuBLAS when one has already been registered\n"
     ]
    },
    {
     "name": "stderr",
     "output_type": "stream",
     "text": [
      "\u001b[36m(TrainLightGCN pid=442899)\u001b[0m /home/daviddavo/upm-tfm-notebooks/.direnv/python-3.9/lib/python3.9/site-packages/recommenders/models/deeprec/DataModel/ImplicitCF.py:73: FutureWarning: The frame.append method is deprecated and will be removed from pandas in a future version. Use pandas.concat instead.\n",
      "\u001b[36m(TrainLightGCN pid=442899)\u001b[0m   df = train if test is None else train.append(test)\n"
     ]
    },
    {
     "name": "stdout",
     "output_type": "stream",
     "text": [
      "\u001b[36m(TrainLightGCN pid=442899)\u001b[0m Already create adjacency matrix.\n"
     ]
    },
    {
     "name": "stdout",
     "output_type": "stream",
     "text": [
      "\u001b[36m(TrainLightGCN pid=442899)\u001b[0m Already normalize adjacency matrix.\n",
      "\u001b[36m(TrainLightGCN pid=442899)\u001b[0m Using xavier initialization.\n"
     ]
    },
    {
     "name": "stderr",
     "output_type": "stream",
     "text": [
      "\u001b[36m(TrainLightGCN pid=442899)\u001b[0m Trainable.setup took 11.701 seconds. If your trainable is slow to initialize, consider setting reuse_actors=True to reduce actor creation overheads.\n"
     ]
    },
    {
     "name": "stderr",
     "output_type": "stream",
     "text": [
      "\u001b[36m(TrainLightGCN pid=441708)\u001b[0m Checkpoint successfully created at: Checkpoint(filesystem=local, path=/home/daviddavo/ray_results/LightGCN_optim=map@10,dao=PancakeSwap,freq=3d,normalize=True,cutoff_date=2023-07-01T00:00:00,fold=9_2024-03-24T01:56:59.853079/TrainLightGCN_bd7c4673_77_batch_size=9,conv_layers=2,embedding_dim=3,fold=9,l2=0.0000,learning_rate=0.0902_2024-03-24_03-40-43/checkpoint_000000)\n"
     ]
    },
    {
     "name": "stderr",
     "output_type": "stream",
     "text": [
      "\u001b[36m(pid=443295)\u001b[0m 2024-03-24 03:47:17.843430: E tensorflow/compiler/xla/stream_executor/cuda/cuda_dnn.cc:9342] Unable to register cuDNN factory: Attempting to register factory for plugin cuDNN when one has already been registered\n",
      "\u001b[36m(pid=443295)\u001b[0m 2024-03-24 03:47:17.843470: E tensorflow/compiler/xla/stream_executor/cuda/cuda_fft.cc:609] Unable to register cuFFT factory: Attempting to register factory for plugin cuFFT when one has already been registered\n",
      "\u001b[36m(pid=443295)\u001b[0m 2024-03-24 03:47:17.843487: E tensorflow/compiler/xla/stream_executor/cuda/cuda_blas.cc:1518] Unable to register cuBLAS factory: Attempting to register factory for plugin cuBLAS when one has already been registered\n"
     ]
    },
    {
     "name": "stderr",
     "output_type": "stream",
     "text": [
      "\u001b[36m(TrainLightGCN pid=443295)\u001b[0m /home/daviddavo/upm-tfm-notebooks/.direnv/python-3.9/lib/python3.9/site-packages/recommenders/models/deeprec/DataModel/ImplicitCF.py:73: FutureWarning: The frame.append method is deprecated and will be removed from pandas in a future version. Use pandas.concat instead.\n",
      "\u001b[36m(TrainLightGCN pid=443295)\u001b[0m   df = train if test is None else train.append(test)\n"
     ]
    },
    {
     "name": "stdout",
     "output_type": "stream",
     "text": [
      "\u001b[36m(TrainLightGCN pid=443295)\u001b[0m Already create adjacency matrix.\n"
     ]
    },
    {
     "name": "stdout",
     "output_type": "stream",
     "text": [
      "\u001b[36m(TrainLightGCN pid=443295)\u001b[0m Already normalize adjacency matrix.\n",
      "\u001b[36m(TrainLightGCN pid=443295)\u001b[0m Using xavier initialization.\n"
     ]
    },
    {
     "name": "stderr",
     "output_type": "stream",
     "text": [
      "\u001b[36m(TrainLightGCN pid=443295)\u001b[0m Trainable.setup took 11.705 seconds. If your trainable is slow to initialize, consider setting reuse_actors=True to reduce actor creation overheads.\n"
     ]
    },
    {
     "name": "stderr",
     "output_type": "stream",
     "text": [
      "\u001b[36m(TrainLightGCN pid=442485)\u001b[0m Checkpoint successfully created at: Checkpoint(filesystem=local, path=/home/daviddavo/ray_results/LightGCN_optim=map@10,dao=PancakeSwap,freq=3d,normalize=True,cutoff_date=2023-07-01T00:00:00,fold=9_2024-03-24T01:56:59.853079/TrainLightGCN_b30474e1_79_batch_size=13,conv_layers=3,embedding_dim=4,fold=9,l2=0.0000,learning_rate=0.0208_2024-03-24_03-44-07/checkpoint_000000)\n"
     ]
    },
    {
     "name": "stderr",
     "output_type": "stream",
     "text": [
      "\u001b[36m(pid=443755)\u001b[0m 2024-03-24 03:49:00.795147: E tensorflow/compiler/xla/stream_executor/cuda/cuda_dnn.cc:9342] Unable to register cuDNN factory: Attempting to register factory for plugin cuDNN when one has already been registered\n",
      "\u001b[36m(pid=443755)\u001b[0m 2024-03-24 03:49:00.795188: E tensorflow/compiler/xla/stream_executor/cuda/cuda_fft.cc:609] Unable to register cuFFT factory: Attempting to register factory for plugin cuFFT when one has already been registered\n",
      "\u001b[36m(pid=443755)\u001b[0m 2024-03-24 03:49:00.795204: E tensorflow/compiler/xla/stream_executor/cuda/cuda_blas.cc:1518] Unable to register cuBLAS factory: Attempting to register factory for plugin cuBLAS when one has already been registered\n"
     ]
    },
    {
     "name": "stderr",
     "output_type": "stream",
     "text": [
      "\u001b[36m(TrainLightGCN pid=443755)\u001b[0m /home/daviddavo/upm-tfm-notebooks/.direnv/python-3.9/lib/python3.9/site-packages/recommenders/models/deeprec/DataModel/ImplicitCF.py:73: FutureWarning: The frame.append method is deprecated and will be removed from pandas in a future version. Use pandas.concat instead.\n",
      "\u001b[36m(TrainLightGCN pid=443755)\u001b[0m   df = train if test is None else train.append(test)\n"
     ]
    },
    {
     "name": "stdout",
     "output_type": "stream",
     "text": [
      "\u001b[36m(TrainLightGCN pid=443755)\u001b[0m Already create adjacency matrix.\n"
     ]
    },
    {
     "name": "stdout",
     "output_type": "stream",
     "text": [
      "\u001b[36m(TrainLightGCN pid=443755)\u001b[0m Already normalize adjacency matrix.\n",
      "\u001b[36m(TrainLightGCN pid=443755)\u001b[0m Using xavier initialization.\n"
     ]
    },
    {
     "name": "stderr",
     "output_type": "stream",
     "text": [
      "\u001b[36m(TrainLightGCN pid=443755)\u001b[0m Trainable.setup took 11.921 seconds. If your trainable is slow to initialize, consider setting reuse_actors=True to reduce actor creation overheads.\n"
     ]
    },
    {
     "name": "stderr",
     "output_type": "stream",
     "text": [
      "\u001b[36m(TrainLightGCN pid=442224)\u001b[0m Checkpoint successfully created at: Checkpoint(filesystem=local, path=/home/daviddavo/ray_results/LightGCN_optim=map@10,dao=PancakeSwap,freq=3d,normalize=True,cutoff_date=2023-07-01T00:00:00,fold=9_2024-03-24T01:56:59.853079/TrainLightGCN_583a9f51_78_batch_size=10,conv_layers=2,embedding_dim=1,fold=9,l2=0.0001,learning_rate=0.0138_2024-03-24_03-42-06/checkpoint_000000)\n"
     ]
    },
    {
     "name": "stderr",
     "output_type": "stream",
     "text": [
      "\u001b[36m(pid=443960)\u001b[0m 2024-03-24 03:49:17.807546: E tensorflow/compiler/xla/stream_executor/cuda/cuda_dnn.cc:9342] Unable to register cuDNN factory: Attempting to register factory for plugin cuDNN when one has already been registered\n",
      "\u001b[36m(pid=443960)\u001b[0m 2024-03-24 03:49:17.807582: E tensorflow/compiler/xla/stream_executor/cuda/cuda_fft.cc:609] Unable to register cuFFT factory: Attempting to register factory for plugin cuFFT when one has already been registered\n",
      "\u001b[36m(pid=443960)\u001b[0m 2024-03-24 03:49:17.807596: E tensorflow/compiler/xla/stream_executor/cuda/cuda_blas.cc:1518] Unable to register cuBLAS factory: Attempting to register factory for plugin cuBLAS when one has already been registered\n"
     ]
    },
    {
     "name": "stderr",
     "output_type": "stream",
     "text": [
      "\u001b[36m(TrainLightGCN pid=443960)\u001b[0m /home/daviddavo/upm-tfm-notebooks/.direnv/python-3.9/lib/python3.9/site-packages/recommenders/models/deeprec/DataModel/ImplicitCF.py:73: FutureWarning: The frame.append method is deprecated and will be removed from pandas in a future version. Use pandas.concat instead.\n",
      "\u001b[36m(TrainLightGCN pid=443960)\u001b[0m   df = train if test is None else train.append(test)\n"
     ]
    },
    {
     "name": "stdout",
     "output_type": "stream",
     "text": [
      "\u001b[36m(TrainLightGCN pid=443960)\u001b[0m Already create adjacency matrix.\n"
     ]
    },
    {
     "name": "stdout",
     "output_type": "stream",
     "text": [
      "\u001b[36m(TrainLightGCN pid=443960)\u001b[0m Already normalize adjacency matrix.\n",
      "\u001b[36m(TrainLightGCN pid=443960)\u001b[0m Using xavier initialization.\n"
     ]
    },
    {
     "name": "stderr",
     "output_type": "stream",
     "text": [
      "\u001b[36m(TrainLightGCN pid=443960)\u001b[0m Trainable.setup took 11.852 seconds. If your trainable is slow to initialize, consider setting reuse_actors=True to reduce actor creation overheads.\n"
     ]
    },
    {
     "name": "stderr",
     "output_type": "stream",
     "text": [
      "\u001b[36m(TrainLightGCN pid=442899)\u001b[0m Checkpoint successfully created at: Checkpoint(filesystem=local, path=/home/daviddavo/ray_results/LightGCN_optim=map@10,dao=PancakeSwap,freq=3d,normalize=True,cutoff_date=2023-07-01T00:00:00,fold=9_2024-03-24T01:56:59.853079/TrainLightGCN_80d9d3dd_80_batch_size=11,conv_layers=1,embedding_dim=2,fold=9,l2=0.0002,learning_rate=0.0112_2024-03-24_03-44-43/checkpoint_000000)\n"
     ]
    },
    {
     "name": "stderr",
     "output_type": "stream",
     "text": [
      "\u001b[36m(pid=444479)\u001b[0m 2024-03-24 03:51:20.830452: E tensorflow/compiler/xla/stream_executor/cuda/cuda_dnn.cc:9342] Unable to register cuDNN factory: Attempting to register factory for plugin cuDNN when one has already been registered\n",
      "\u001b[36m(pid=444479)\u001b[0m 2024-03-24 03:51:20.830489: E tensorflow/compiler/xla/stream_executor/cuda/cuda_fft.cc:609] Unable to register cuFFT factory: Attempting to register factory for plugin cuFFT when one has already been registered\n",
      "\u001b[36m(pid=444479)\u001b[0m 2024-03-24 03:51:20.830506: E tensorflow/compiler/xla/stream_executor/cuda/cuda_blas.cc:1518] Unable to register cuBLAS factory: Attempting to register factory for plugin cuBLAS when one has already been registered\n"
     ]
    },
    {
     "name": "stderr",
     "output_type": "stream",
     "text": [
      "\u001b[36m(TrainLightGCN pid=444479)\u001b[0m /home/daviddavo/upm-tfm-notebooks/.direnv/python-3.9/lib/python3.9/site-packages/recommenders/models/deeprec/DataModel/ImplicitCF.py:73: FutureWarning: The frame.append method is deprecated and will be removed from pandas in a future version. Use pandas.concat instead.\n",
      "\u001b[36m(TrainLightGCN pid=444479)\u001b[0m   df = train if test is None else train.append(test)\n"
     ]
    },
    {
     "name": "stdout",
     "output_type": "stream",
     "text": [
      "\u001b[36m(TrainLightGCN pid=444479)\u001b[0m Already create adjacency matrix.\n"
     ]
    },
    {
     "name": "stdout",
     "output_type": "stream",
     "text": [
      "\u001b[36m(TrainLightGCN pid=444479)\u001b[0m Already normalize adjacency matrix.\n",
      "\u001b[36m(TrainLightGCN pid=444479)\u001b[0m Using xavier initialization.\n"
     ]
    },
    {
     "name": "stderr",
     "output_type": "stream",
     "text": [
      "\u001b[36m(TrainLightGCN pid=444479)\u001b[0m Trainable.setup took 11.902 seconds. If your trainable is slow to initialize, consider setting reuse_actors=True to reduce actor creation overheads.\n"
     ]
    },
    {
     "name": "stderr",
     "output_type": "stream",
     "text": [
      "\u001b[36m(TrainLightGCN pid=443295)\u001b[0m Checkpoint successfully created at: Checkpoint(filesystem=local, path=/home/daviddavo/ray_results/LightGCN_optim=map@10,dao=PancakeSwap,freq=3d,normalize=True,cutoff_date=2023-07-01T00:00:00,fold=9_2024-03-24T01:56:59.853079/TrainLightGCN_b89597a9_81_batch_size=7,conv_layers=2,embedding_dim=79,fold=9,l2=0.0005,learning_rate=0.0766_2024-03-24_03-46-10/checkpoint_000000)\n"
     ]
    },
    {
     "name": "stderr",
     "output_type": "stream",
     "text": [
      "\u001b[36m(pid=445177)\u001b[0m 2024-03-24 03:54:24.891262: E tensorflow/compiler/xla/stream_executor/cuda/cuda_dnn.cc:9342] Unable to register cuDNN factory: Attempting to register factory for plugin cuDNN when one has already been registered\n",
      "\u001b[36m(pid=445177)\u001b[0m 2024-03-24 03:54:24.891303: E tensorflow/compiler/xla/stream_executor/cuda/cuda_fft.cc:609] Unable to register cuFFT factory: Attempting to register factory for plugin cuFFT when one has already been registered\n",
      "\u001b[36m(pid=445177)\u001b[0m 2024-03-24 03:54:24.891317: E tensorflow/compiler/xla/stream_executor/cuda/cuda_blas.cc:1518] Unable to register cuBLAS factory: Attempting to register factory for plugin cuBLAS when one has already been registered\n"
     ]
    },
    {
     "name": "stderr",
     "output_type": "stream",
     "text": [
      "\u001b[36m(TrainLightGCN pid=445177)\u001b[0m /home/daviddavo/upm-tfm-notebooks/.direnv/python-3.9/lib/python3.9/site-packages/recommenders/models/deeprec/DataModel/ImplicitCF.py:73: FutureWarning: The frame.append method is deprecated and will be removed from pandas in a future version. Use pandas.concat instead.\n",
      "\u001b[36m(TrainLightGCN pid=445177)\u001b[0m   df = train if test is None else train.append(test)\n"
     ]
    },
    {
     "name": "stderr",
     "output_type": "stream",
     "text": [
      "\u001b[36m(TrainLightGCN pid=443755)\u001b[0m Checkpoint successfully created at: Checkpoint(filesystem=local, path=/home/daviddavo/ray_results/LightGCN_optim=map@10,dao=PancakeSwap,freq=3d,normalize=True,cutoff_date=2023-07-01T00:00:00,fold=9_2024-03-24T01:56:59.853079/TrainLightGCN_0b2bad98_82_batch_size=8,conv_layers=1,embedding_dim=1,fold=9,l2=0.0009,learning_rate=0.1490_2024-03-24_03-47-31/checkpoint_000000)\n"
     ]
    },
    {
     "name": "stdout",
     "output_type": "stream",
     "text": [
      "\u001b[36m(TrainLightGCN pid=445177)\u001b[0m Already create adjacency matrix.\n"
     ]
    },
    {
     "name": "stdout",
     "output_type": "stream",
     "text": [
      "\u001b[36m(TrainLightGCN pid=445177)\u001b[0m Already normalize adjacency matrix.\n",
      "\u001b[36m(TrainLightGCN pid=445177)\u001b[0m Using xavier initialization.\n"
     ]
    },
    {
     "name": "stderr",
     "output_type": "stream",
     "text": [
      "\u001b[36m(TrainLightGCN pid=445177)\u001b[0m Trainable.setup took 11.670 seconds. If your trainable is slow to initialize, consider setting reuse_actors=True to reduce actor creation overheads.\n"
     ]
    },
    {
     "name": "stderr",
     "output_type": "stream",
     "text": [
      "\u001b[36m(pid=445353)\u001b[0m 2024-03-24 03:54:39.811522: E tensorflow/compiler/xla/stream_executor/cuda/cuda_dnn.cc:9342] Unable to register cuDNN factory: Attempting to register factory for plugin cuDNN when one has already been registered\n",
      "\u001b[36m(pid=445353)\u001b[0m 2024-03-24 03:54:39.811561: E tensorflow/compiler/xla/stream_executor/cuda/cuda_fft.cc:609] Unable to register cuFFT factory: Attempting to register factory for plugin cuFFT when one has already been registered\n",
      "\u001b[36m(pid=445353)\u001b[0m 2024-03-24 03:54:39.811577: E tensorflow/compiler/xla/stream_executor/cuda/cuda_blas.cc:1518] Unable to register cuBLAS factory: Attempting to register factory for plugin cuBLAS when one has already been registered\n"
     ]
    },
    {
     "name": "stderr",
     "output_type": "stream",
     "text": [
      "\u001b[36m(TrainLightGCN pid=445353)\u001b[0m /home/daviddavo/upm-tfm-notebooks/.direnv/python-3.9/lib/python3.9/site-packages/recommenders/models/deeprec/DataModel/ImplicitCF.py:73: FutureWarning: The frame.append method is deprecated and will be removed from pandas in a future version. Use pandas.concat instead.\n",
      "\u001b[36m(TrainLightGCN pid=445353)\u001b[0m   df = train if test is None else train.append(test)\n"
     ]
    },
    {
     "name": "stderr",
     "output_type": "stream",
     "text": [
      "\u001b[36m(TrainLightGCN pid=443960)\u001b[0m Checkpoint successfully created at: Checkpoint(filesystem=local, path=/home/daviddavo/ray_results/LightGCN_optim=map@10,dao=PancakeSwap,freq=3d,normalize=True,cutoff_date=2023-07-01T00:00:00,fold=9_2024-03-24T01:56:59.853079/TrainLightGCN_542c6099_83_batch_size=10,conv_layers=2,embedding_dim=3,fold=9,l2=0.0003,learning_rate=0.0284_2024-03-24_03-49-14/checkpoint_000000)\n"
     ]
    },
    {
     "name": "stdout",
     "output_type": "stream",
     "text": [
      "\u001b[36m(TrainLightGCN pid=445353)\u001b[0m Already create adjacency matrix.\n"
     ]
    },
    {
     "name": "stdout",
     "output_type": "stream",
     "text": [
      "\u001b[36m(TrainLightGCN pid=445353)\u001b[0m Already normalize adjacency matrix.\n",
      "\u001b[36m(TrainLightGCN pid=445353)\u001b[0m Using xavier initialization.\n"
     ]
    },
    {
     "name": "stderr",
     "output_type": "stream",
     "text": [
      "\u001b[36m(TrainLightGCN pid=445353)\u001b[0m Trainable.setup took 11.702 seconds. If your trainable is slow to initialize, consider setting reuse_actors=True to reduce actor creation overheads.\n"
     ]
    },
    {
     "name": "stderr",
     "output_type": "stream",
     "text": [
      "\u001b[36m(pid=445553)\u001b[0m 2024-03-24 03:54:54.742676: E tensorflow/compiler/xla/stream_executor/cuda/cuda_dnn.cc:9342] Unable to register cuDNN factory: Attempting to register factory for plugin cuDNN when one has already been registered\n",
      "\u001b[36m(pid=445553)\u001b[0m 2024-03-24 03:54:54.742709: E tensorflow/compiler/xla/stream_executor/cuda/cuda_fft.cc:609] Unable to register cuFFT factory: Attempting to register factory for plugin cuFFT when one has already been registered\n",
      "\u001b[36m(pid=445553)\u001b[0m 2024-03-24 03:54:54.742722: E tensorflow/compiler/xla/stream_executor/cuda/cuda_blas.cc:1518] Unable to register cuBLAS factory: Attempting to register factory for plugin cuBLAS when one has already been registered\n"
     ]
    },
    {
     "name": "stderr",
     "output_type": "stream",
     "text": [
      "\u001b[36m(TrainLightGCN pid=445553)\u001b[0m /home/daviddavo/upm-tfm-notebooks/.direnv/python-3.9/lib/python3.9/site-packages/recommenders/models/deeprec/DataModel/ImplicitCF.py:73: FutureWarning: The frame.append method is deprecated and will be removed from pandas in a future version. Use pandas.concat instead.\n",
      "\u001b[36m(TrainLightGCN pid=445553)\u001b[0m   df = train if test is None else train.append(test)\n"
     ]
    },
    {
     "name": "stdout",
     "output_type": "stream",
     "text": [
      "\u001b[36m(TrainLightGCN pid=445553)\u001b[0m Already create adjacency matrix.\n"
     ]
    },
    {
     "name": "stdout",
     "output_type": "stream",
     "text": [
      "\u001b[36m(TrainLightGCN pid=445553)\u001b[0m Already normalize adjacency matrix.\n",
      "\u001b[36m(TrainLightGCN pid=445553)\u001b[0m Using xavier initialization.\n"
     ]
    },
    {
     "name": "stderr",
     "output_type": "stream",
     "text": [
      "\u001b[36m(TrainLightGCN pid=445553)\u001b[0m Trainable.setup took 11.689 seconds. If your trainable is slow to initialize, consider setting reuse_actors=True to reduce actor creation overheads.\n"
     ]
    },
    {
     "name": "stderr",
     "output_type": "stream",
     "text": [
      "\u001b[36m(TrainLightGCN pid=444479)\u001b[0m Checkpoint successfully created at: Checkpoint(filesystem=local, path=/home/daviddavo/ray_results/LightGCN_optim=map@10,dao=PancakeSwap,freq=3d,normalize=True,cutoff_date=2023-07-01T00:00:00,fold=9_2024-03-24T01:56:59.853079/TrainLightGCN_666113c6_84_batch_size=9,conv_layers=3,embedding_dim=2,fold=9,l2=0.0001,learning_rate=0.0140_2024-03-24_03-49-31/checkpoint_000000)\n"
     ]
    },
    {
     "name": "stderr",
     "output_type": "stream",
     "text": [
      "\u001b[36m(pid=446056)\u001b[0m 2024-03-24 03:56:41.885661: E tensorflow/compiler/xla/stream_executor/cuda/cuda_dnn.cc:9342] Unable to register cuDNN factory: Attempting to register factory for plugin cuDNN when one has already been registered\n",
      "\u001b[36m(pid=446056)\u001b[0m 2024-03-24 03:56:41.885785: E tensorflow/compiler/xla/stream_executor/cuda/cuda_fft.cc:609] Unable to register cuFFT factory: Attempting to register factory for plugin cuFFT when one has already been registered\n",
      "\u001b[36m(pid=446056)\u001b[0m 2024-03-24 03:56:41.885804: E tensorflow/compiler/xla/stream_executor/cuda/cuda_blas.cc:1518] Unable to register cuBLAS factory: Attempting to register factory for plugin cuBLAS when one has already been registered\n"
     ]
    },
    {
     "name": "stderr",
     "output_type": "stream",
     "text": [
      "\u001b[36m(TrainLightGCN pid=446056)\u001b[0m /home/daviddavo/upm-tfm-notebooks/.direnv/python-3.9/lib/python3.9/site-packages/recommenders/models/deeprec/DataModel/ImplicitCF.py:73: FutureWarning: The frame.append method is deprecated and will be removed from pandas in a future version. Use pandas.concat instead.\n",
      "\u001b[36m(TrainLightGCN pid=446056)\u001b[0m   df = train if test is None else train.append(test)\n"
     ]
    },
    {
     "name": "stdout",
     "output_type": "stream",
     "text": [
      "\u001b[36m(TrainLightGCN pid=446056)\u001b[0m Already create adjacency matrix.\n"
     ]
    },
    {
     "name": "stdout",
     "output_type": "stream",
     "text": [
      "\u001b[36m(TrainLightGCN pid=446056)\u001b[0m Already normalize adjacency matrix.\n",
      "\u001b[36m(TrainLightGCN pid=446056)\u001b[0m Using xavier initialization.\n"
     ]
    },
    {
     "name": "stderr",
     "output_type": "stream",
     "text": [
      "\u001b[36m(TrainLightGCN pid=446056)\u001b[0m Trainable.setup took 20.321 seconds. If your trainable is slow to initialize, consider setting reuse_actors=True to reduce actor creation overheads.\n"
     ]
    },
    {
     "name": "stderr",
     "output_type": "stream",
     "text": [
      "\u001b[36m(TrainLightGCN pid=445177)\u001b[0m Checkpoint successfully created at: Checkpoint(filesystem=local, path=/home/daviddavo/ray_results/LightGCN_optim=map@10,dao=PancakeSwap,freq=3d,normalize=True,cutoff_date=2023-07-01T00:00:00,fold=9_2024-03-24T01:56:59.853079/TrainLightGCN_b09fb2ae_85_batch_size=10,conv_layers=2,embedding_dim=1,fold=9,l2=0.0001,learning_rate=0.0122_2024-03-24_03-51-34/checkpoint_000000)\n"
     ]
    },
    {
     "name": "stderr",
     "output_type": "stream",
     "text": [
      "\u001b[36m(pid=446780)\u001b[0m 2024-03-24 03:59:54.888105: E tensorflow/compiler/xla/stream_executor/cuda/cuda_dnn.cc:9342] Unable to register cuDNN factory: Attempting to register factory for plugin cuDNN when one has already been registered\n",
      "\u001b[36m(pid=446780)\u001b[0m 2024-03-24 03:59:54.888139: E tensorflow/compiler/xla/stream_executor/cuda/cuda_fft.cc:609] Unable to register cuFFT factory: Attempting to register factory for plugin cuFFT when one has already been registered\n",
      "\u001b[36m(pid=446780)\u001b[0m 2024-03-24 03:59:54.888156: E tensorflow/compiler/xla/stream_executor/cuda/cuda_blas.cc:1518] Unable to register cuBLAS factory: Attempting to register factory for plugin cuBLAS when one has already been registered\n"
     ]
    },
    {
     "name": "stderr",
     "output_type": "stream",
     "text": [
      "\u001b[36m(TrainLightGCN pid=446780)\u001b[0m /home/daviddavo/upm-tfm-notebooks/.direnv/python-3.9/lib/python3.9/site-packages/recommenders/models/deeprec/DataModel/ImplicitCF.py:73: FutureWarning: The frame.append method is deprecated and will be removed from pandas in a future version. Use pandas.concat instead.\n",
      "\u001b[36m(TrainLightGCN pid=446780)\u001b[0m   df = train if test is None else train.append(test)\n"
     ]
    },
    {
     "name": "stderr",
     "output_type": "stream",
     "text": [
      "\u001b[36m(TrainLightGCN pid=445353)\u001b[0m Checkpoint successfully created at: Checkpoint(filesystem=local, path=/home/daviddavo/ray_results/LightGCN_optim=map@10,dao=PancakeSwap,freq=3d,normalize=True,cutoff_date=2023-07-01T00:00:00,fold=9_2024-03-24T01:56:59.853079/TrainLightGCN_78704f31_86_batch_size=10,conv_layers=3,embedding_dim=1,fold=9,l2=0.0029,learning_rate=0.0167_2024-03-24_03-54-38/checkpoint_000000)\n"
     ]
    },
    {
     "name": "stdout",
     "output_type": "stream",
     "text": [
      "\u001b[36m(TrainLightGCN pid=446780)\u001b[0m Already create adjacency matrix.\n"
     ]
    },
    {
     "name": "stdout",
     "output_type": "stream",
     "text": [
      "\u001b[36m(TrainLightGCN pid=446780)\u001b[0m Already normalize adjacency matrix.\n",
      "\u001b[36m(TrainLightGCN pid=446780)\u001b[0m Using xavier initialization.\n"
     ]
    },
    {
     "name": "stderr",
     "output_type": "stream",
     "text": [
      "\u001b[36m(TrainLightGCN pid=446780)\u001b[0m Trainable.setup took 11.740 seconds. If your trainable is slow to initialize, consider setting reuse_actors=True to reduce actor creation overheads.\n"
     ]
    },
    {
     "name": "stderr",
     "output_type": "stream",
     "text": [
      "\u001b[36m(pid=446956)\u001b[0m 2024-03-24 04:00:09.844204: E tensorflow/compiler/xla/stream_executor/cuda/cuda_dnn.cc:9342] Unable to register cuDNN factory: Attempting to register factory for plugin cuDNN when one has already been registered\n",
      "\u001b[36m(pid=446956)\u001b[0m 2024-03-24 04:00:09.844242: E tensorflow/compiler/xla/stream_executor/cuda/cuda_fft.cc:609] Unable to register cuFFT factory: Attempting to register factory for plugin cuFFT when one has already been registered\n",
      "\u001b[36m(pid=446956)\u001b[0m 2024-03-24 04:00:09.844258: E tensorflow/compiler/xla/stream_executor/cuda/cuda_blas.cc:1518] Unable to register cuBLAS factory: Attempting to register factory for plugin cuBLAS when one has already been registered\n"
     ]
    },
    {
     "name": "stderr",
     "output_type": "stream",
     "text": [
      "\u001b[36m(TrainLightGCN pid=446956)\u001b[0m /home/daviddavo/upm-tfm-notebooks/.direnv/python-3.9/lib/python3.9/site-packages/recommenders/models/deeprec/DataModel/ImplicitCF.py:73: FutureWarning: The frame.append method is deprecated and will be removed from pandas in a future version. Use pandas.concat instead.\n",
      "\u001b[36m(TrainLightGCN pid=446956)\u001b[0m   df = train if test is None else train.append(test)\n"
     ]
    },
    {
     "name": "stdout",
     "output_type": "stream",
     "text": [
      "\u001b[36m(TrainLightGCN pid=446956)\u001b[0m Already create adjacency matrix.\n"
     ]
    },
    {
     "name": "stdout",
     "output_type": "stream",
     "text": [
      "\u001b[36m(TrainLightGCN pid=446956)\u001b[0m Already normalize adjacency matrix.\n",
      "\u001b[36m(TrainLightGCN pid=446956)\u001b[0m Using xavier initialization.\n"
     ]
    },
    {
     "name": "stderr",
     "output_type": "stream",
     "text": [
      "\u001b[36m(TrainLightGCN pid=446956)\u001b[0m Trainable.setup took 11.693 seconds. If your trainable is slow to initialize, consider setting reuse_actors=True to reduce actor creation overheads.\n"
     ]
    },
    {
     "name": "stderr",
     "output_type": "stream",
     "text": [
      "\u001b[36m(TrainLightGCN pid=445553)\u001b[0m Checkpoint successfully created at: Checkpoint(filesystem=local, path=/home/daviddavo/ray_results/LightGCN_optim=map@10,dao=PancakeSwap,freq=3d,normalize=True,cutoff_date=2023-07-01T00:00:00,fold=9_2024-03-24T01:56:59.853079/TrainLightGCN_5b12ae1a_87_batch_size=8,conv_layers=1,embedding_dim=6,fold=9,l2=0.0006,learning_rate=0.5565_2024-03-24_03-54-53/checkpoint_000000)\n"
     ]
    },
    {
     "name": "stderr",
     "output_type": "stream",
     "text": [
      "\u001b[36m(pid=447198)\u001b[0m 2024-03-24 04:00:29.901606: E tensorflow/compiler/xla/stream_executor/cuda/cuda_dnn.cc:9342] Unable to register cuDNN factory: Attempting to register factory for plugin cuDNN when one has already been registered\n",
      "\u001b[36m(pid=447198)\u001b[0m 2024-03-24 04:00:29.901645: E tensorflow/compiler/xla/stream_executor/cuda/cuda_fft.cc:609] Unable to register cuFFT factory: Attempting to register factory for plugin cuFFT when one has already been registered\n",
      "\u001b[36m(pid=447198)\u001b[0m 2024-03-24 04:00:29.901661: E tensorflow/compiler/xla/stream_executor/cuda/cuda_blas.cc:1518] Unable to register cuBLAS factory: Attempting to register factory for plugin cuBLAS when one has already been registered\n"
     ]
    },
    {
     "name": "stderr",
     "output_type": "stream",
     "text": [
      "\u001b[36m(TrainLightGCN pid=447198)\u001b[0m /home/daviddavo/upm-tfm-notebooks/.direnv/python-3.9/lib/python3.9/site-packages/recommenders/models/deeprec/DataModel/ImplicitCF.py:73: FutureWarning: The frame.append method is deprecated and will be removed from pandas in a future version. Use pandas.concat instead.\n",
      "\u001b[36m(TrainLightGCN pid=447198)\u001b[0m   df = train if test is None else train.append(test)\n"
     ]
    },
    {
     "name": "stdout",
     "output_type": "stream",
     "text": [
      "\u001b[36m(TrainLightGCN pid=447198)\u001b[0m Already create adjacency matrix.\n"
     ]
    },
    {
     "name": "stdout",
     "output_type": "stream",
     "text": [
      "\u001b[36m(TrainLightGCN pid=447198)\u001b[0m Already normalize adjacency matrix.\n",
      "\u001b[36m(TrainLightGCN pid=447198)\u001b[0m Using xavier initialization.\n"
     ]
    },
    {
     "name": "stderr",
     "output_type": "stream",
     "text": [
      "\u001b[36m(TrainLightGCN pid=447198)\u001b[0m Trainable.setup took 11.703 seconds. If your trainable is slow to initialize, consider setting reuse_actors=True to reduce actor creation overheads.\n"
     ]
    },
    {
     "name": "stderr",
     "output_type": "stream",
     "text": [
      "\u001b[36m(TrainLightGCN pid=446056)\u001b[0m Checkpoint successfully created at: Checkpoint(filesystem=local, path=/home/daviddavo/ray_results/LightGCN_optim=map@10,dao=PancakeSwap,freq=3d,normalize=True,cutoff_date=2023-07-01T00:00:00,fold=9_2024-03-24T01:56:59.853079/TrainLightGCN_684a6e16_88_batch_size=9,conv_layers=2,embedding_dim=2,fold=9,l2=0.0014,learning_rate=0.0147_2024-03-24_03-55-08/checkpoint_000000)\n"
     ]
    },
    {
     "name": "stderr",
     "output_type": "stream",
     "text": [
      "\u001b[36m(pid=447662)\u001b[0m 2024-03-24 04:02:13.906564: E tensorflow/compiler/xla/stream_executor/cuda/cuda_dnn.cc:9342] Unable to register cuDNN factory: Attempting to register factory for plugin cuDNN when one has already been registered\n",
      "\u001b[36m(pid=447662)\u001b[0m 2024-03-24 04:02:13.906601: E tensorflow/compiler/xla/stream_executor/cuda/cuda_fft.cc:609] Unable to register cuFFT factory: Attempting to register factory for plugin cuFFT when one has already been registered\n",
      "\u001b[36m(pid=447662)\u001b[0m 2024-03-24 04:02:13.906617: E tensorflow/compiler/xla/stream_executor/cuda/cuda_blas.cc:1518] Unable to register cuBLAS factory: Attempting to register factory for plugin cuBLAS when one has already been registered\n"
     ]
    },
    {
     "name": "stderr",
     "output_type": "stream",
     "text": [
      "\u001b[36m(TrainLightGCN pid=447662)\u001b[0m /home/daviddavo/upm-tfm-notebooks/.direnv/python-3.9/lib/python3.9/site-packages/recommenders/models/deeprec/DataModel/ImplicitCF.py:73: FutureWarning: The frame.append method is deprecated and will be removed from pandas in a future version. Use pandas.concat instead.\n",
      "\u001b[36m(TrainLightGCN pid=447662)\u001b[0m   df = train if test is None else train.append(test)\n"
     ]
    },
    {
     "name": "stdout",
     "output_type": "stream",
     "text": [
      "\u001b[36m(TrainLightGCN pid=447662)\u001b[0m Already create adjacency matrix.\n"
     ]
    },
    {
     "name": "stdout",
     "output_type": "stream",
     "text": [
      "\u001b[36m(TrainLightGCN pid=447662)\u001b[0m Already normalize adjacency matrix.\n",
      "\u001b[36m(TrainLightGCN pid=447662)\u001b[0m Using xavier initialization.\n"
     ]
    },
    {
     "name": "stderr",
     "output_type": "stream",
     "text": [
      "\u001b[36m(TrainLightGCN pid=447662)\u001b[0m Trainable.setup took 11.738 seconds. If your trainable is slow to initialize, consider setting reuse_actors=True to reduce actor creation overheads.\n"
     ]
    },
    {
     "name": "stderr",
     "output_type": "stream",
     "text": [
      "\u001b[36m(TrainLightGCN pid=446780)\u001b[0m Checkpoint successfully created at: Checkpoint(filesystem=local, path=/home/daviddavo/ray_results/LightGCN_optim=map@10,dao=PancakeSwap,freq=3d,normalize=True,cutoff_date=2023-07-01T00:00:00,fold=9_2024-03-24T01:56:59.853079/TrainLightGCN_b3537f7e_89_batch_size=10,conv_layers=1,embedding_dim=4,fold=9,l2=0.0002,learning_rate=0.0102_2024-03-24_03-57-04/checkpoint_000000)\n"
     ]
    },
    {
     "name": "stderr",
     "output_type": "stream",
     "text": [
      "\u001b[36m(pid=448362)\u001b[0m 2024-03-24 04:05:18.937833: E tensorflow/compiler/xla/stream_executor/cuda/cuda_dnn.cc:9342] Unable to register cuDNN factory: Attempting to register factory for plugin cuDNN when one has already been registered\n",
      "\u001b[36m(pid=448362)\u001b[0m 2024-03-24 04:05:18.937873: E tensorflow/compiler/xla/stream_executor/cuda/cuda_fft.cc:609] Unable to register cuFFT factory: Attempting to register factory for plugin cuFFT when one has already been registered\n",
      "\u001b[36m(pid=448362)\u001b[0m 2024-03-24 04:05:18.937886: E tensorflow/compiler/xla/stream_executor/cuda/cuda_blas.cc:1518] Unable to register cuBLAS factory: Attempting to register factory for plugin cuBLAS when one has already been registered\n"
     ]
    },
    {
     "name": "stderr",
     "output_type": "stream",
     "text": [
      "\u001b[36m(TrainLightGCN pid=448362)\u001b[0m /home/daviddavo/upm-tfm-notebooks/.direnv/python-3.9/lib/python3.9/site-packages/recommenders/models/deeprec/DataModel/ImplicitCF.py:73: FutureWarning: The frame.append method is deprecated and will be removed from pandas in a future version. Use pandas.concat instead.\n",
      "\u001b[36m(TrainLightGCN pid=448362)\u001b[0m   df = train if test is None else train.append(test)\n"
     ]
    },
    {
     "name": "stderr",
     "output_type": "stream",
     "text": [
      "\u001b[36m(TrainLightGCN pid=446956)\u001b[0m Checkpoint successfully created at: Checkpoint(filesystem=local, path=/home/daviddavo/ray_results/LightGCN_optim=map@10,dao=PancakeSwap,freq=3d,normalize=True,cutoff_date=2023-07-01T00:00:00,fold=9_2024-03-24T01:56:59.853079/TrainLightGCN_5981f040_90_batch_size=9,conv_layers=3,embedding_dim=6,fold=9,l2=0.0017,learning_rate=0.0125_2024-03-24_04-00-08/checkpoint_000000)\n"
     ]
    },
    {
     "name": "stdout",
     "output_type": "stream",
     "text": [
      "\u001b[36m(TrainLightGCN pid=448362)\u001b[0m Already create adjacency matrix.\n"
     ]
    },
    {
     "name": "stdout",
     "output_type": "stream",
     "text": [
      "\u001b[36m(TrainLightGCN pid=448362)\u001b[0m Already normalize adjacency matrix.\n",
      "\u001b[36m(TrainLightGCN pid=448362)\u001b[0m Using xavier initialization.\n"
     ]
    },
    {
     "name": "stderr",
     "output_type": "stream",
     "text": [
      "\u001b[36m(TrainLightGCN pid=448362)\u001b[0m Trainable.setup took 11.796 seconds. If your trainable is slow to initialize, consider setting reuse_actors=True to reduce actor creation overheads.\n"
     ]
    },
    {
     "name": "stderr",
     "output_type": "stream",
     "text": [
      "\u001b[36m(pid=448538)\u001b[0m 2024-03-24 04:05:33.972241: E tensorflow/compiler/xla/stream_executor/cuda/cuda_dnn.cc:9342] Unable to register cuDNN factory: Attempting to register factory for plugin cuDNN when one has already been registered\n",
      "\u001b[36m(pid=448538)\u001b[0m 2024-03-24 04:05:33.972273: E tensorflow/compiler/xla/stream_executor/cuda/cuda_fft.cc:609] Unable to register cuFFT factory: Attempting to register factory for plugin cuFFT when one has already been registered\n",
      "\u001b[36m(pid=448538)\u001b[0m 2024-03-24 04:05:33.972289: E tensorflow/compiler/xla/stream_executor/cuda/cuda_blas.cc:1518] Unable to register cuBLAS factory: Attempting to register factory for plugin cuBLAS when one has already been registered\n"
     ]
    },
    {
     "name": "stderr",
     "output_type": "stream",
     "text": [
      "\u001b[36m(TrainLightGCN pid=448538)\u001b[0m /home/daviddavo/upm-tfm-notebooks/.direnv/python-3.9/lib/python3.9/site-packages/recommenders/models/deeprec/DataModel/ImplicitCF.py:73: FutureWarning: The frame.append method is deprecated and will be removed from pandas in a future version. Use pandas.concat instead.\n",
      "\u001b[36m(TrainLightGCN pid=448538)\u001b[0m   df = train if test is None else train.append(test)\n"
     ]
    },
    {
     "name": "stdout",
     "output_type": "stream",
     "text": [
      "\u001b[36m(TrainLightGCN pid=448538)\u001b[0m Already create adjacency matrix.\n"
     ]
    },
    {
     "name": "stdout",
     "output_type": "stream",
     "text": [
      "\u001b[36m(TrainLightGCN pid=448538)\u001b[0m Already normalize adjacency matrix.\n"
     ]
    },
    {
     "name": "stdout",
     "output_type": "stream",
     "text": [
      "\u001b[36m(TrainLightGCN pid=448538)\u001b[0m Using xavier initialization.\n"
     ]
    },
    {
     "name": "stderr",
     "output_type": "stream",
     "text": [
      "\u001b[36m(TrainLightGCN pid=448538)\u001b[0m Trainable.setup took 11.638 seconds. If your trainable is slow to initialize, consider setting reuse_actors=True to reduce actor creation overheads.\n"
     ]
    },
    {
     "name": "stderr",
     "output_type": "stream",
     "text": [
      "\u001b[36m(TrainLightGCN pid=447198)\u001b[0m Checkpoint successfully created at: Checkpoint(filesystem=local, path=/home/daviddavo/ray_results/LightGCN_optim=map@10,dao=PancakeSwap,freq=3d,normalize=True,cutoff_date=2023-07-01T00:00:00,fold=9_2024-03-24T01:56:59.853079/TrainLightGCN_53236902_91_batch_size=11,conv_layers=4,embedding_dim=1,fold=9,l2=0.0001,learning_rate=0.0567_2024-03-24_04-00-23/checkpoint_000000)\n"
     ]
    },
    {
     "name": "stderr",
     "output_type": "stream",
     "text": [
      "\u001b[36m(pid=448772)\u001b[0m 2024-03-24 04:05:52.929803: E tensorflow/compiler/xla/stream_executor/cuda/cuda_dnn.cc:9342] Unable to register cuDNN factory: Attempting to register factory for plugin cuDNN when one has already been registered\n",
      "\u001b[36m(pid=448772)\u001b[0m 2024-03-24 04:05:52.929841: E tensorflow/compiler/xla/stream_executor/cuda/cuda_fft.cc:609] Unable to register cuFFT factory: Attempting to register factory for plugin cuFFT when one has already been registered\n",
      "\u001b[36m(pid=448772)\u001b[0m 2024-03-24 04:05:52.929856: E tensorflow/compiler/xla/stream_executor/cuda/cuda_blas.cc:1518] Unable to register cuBLAS factory: Attempting to register factory for plugin cuBLAS when one has already been registered\n"
     ]
    },
    {
     "name": "stderr",
     "output_type": "stream",
     "text": [
      "\u001b[36m(TrainLightGCN pid=448772)\u001b[0m /home/daviddavo/upm-tfm-notebooks/.direnv/python-3.9/lib/python3.9/site-packages/recommenders/models/deeprec/DataModel/ImplicitCF.py:73: FutureWarning: The frame.append method is deprecated and will be removed from pandas in a future version. Use pandas.concat instead.\n",
      "\u001b[36m(TrainLightGCN pid=448772)\u001b[0m   df = train if test is None else train.append(test)\n"
     ]
    },
    {
     "name": "stdout",
     "output_type": "stream",
     "text": [
      "\u001b[36m(TrainLightGCN pid=448772)\u001b[0m Already create adjacency matrix.\n"
     ]
    },
    {
     "name": "stdout",
     "output_type": "stream",
     "text": [
      "\u001b[36m(TrainLightGCN pid=448772)\u001b[0m Already normalize adjacency matrix.\n",
      "\u001b[36m(TrainLightGCN pid=448772)\u001b[0m Using xavier initialization.\n"
     ]
    },
    {
     "name": "stderr",
     "output_type": "stream",
     "text": [
      "\u001b[36m(TrainLightGCN pid=448772)\u001b[0m Trainable.setup took 11.730 seconds. If your trainable is slow to initialize, consider setting reuse_actors=True to reduce actor creation overheads.\n"
     ]
    },
    {
     "name": "stderr",
     "output_type": "stream",
     "text": [
      "\u001b[36m(TrainLightGCN pid=447662)\u001b[0m Checkpoint successfully created at: Checkpoint(filesystem=local, path=/home/daviddavo/ray_results/LightGCN_optim=map@10,dao=PancakeSwap,freq=3d,normalize=True,cutoff_date=2023-07-01T00:00:00,fold=9_2024-03-24T01:56:59.853079/TrainLightGCN_63bfe1e1_92_batch_size=10,conv_layers=2,embedding_dim=5,fold=9,l2=0.0007,learning_rate=0.0199_2024-03-24_04-00-43/checkpoint_000000)\n"
     ]
    },
    {
     "name": "stderr",
     "output_type": "stream",
     "text": [
      "\u001b[36m(pid=449255)\u001b[0m 2024-03-24 04:07:42.955144: E tensorflow/compiler/xla/stream_executor/cuda/cuda_dnn.cc:9342] Unable to register cuDNN factory: Attempting to register factory for plugin cuDNN when one has already been registered\n",
      "\u001b[36m(pid=449255)\u001b[0m 2024-03-24 04:07:42.955184: E tensorflow/compiler/xla/stream_executor/cuda/cuda_fft.cc:609] Unable to register cuFFT factory: Attempting to register factory for plugin cuFFT when one has already been registered\n",
      "\u001b[36m(pid=449255)\u001b[0m 2024-03-24 04:07:42.955198: E tensorflow/compiler/xla/stream_executor/cuda/cuda_blas.cc:1518] Unable to register cuBLAS factory: Attempting to register factory for plugin cuBLAS when one has already been registered\n"
     ]
    },
    {
     "name": "stderr",
     "output_type": "stream",
     "text": [
      "\u001b[36m(TrainLightGCN pid=449255)\u001b[0m /home/daviddavo/upm-tfm-notebooks/.direnv/python-3.9/lib/python3.9/site-packages/recommenders/models/deeprec/DataModel/ImplicitCF.py:73: FutureWarning: The frame.append method is deprecated and will be removed from pandas in a future version. Use pandas.concat instead.\n",
      "\u001b[36m(TrainLightGCN pid=449255)\u001b[0m   df = train if test is None else train.append(test)\n"
     ]
    },
    {
     "name": "stdout",
     "output_type": "stream",
     "text": [
      "\u001b[36m(TrainLightGCN pid=449255)\u001b[0m Already create adjacency matrix.\n"
     ]
    },
    {
     "name": "stdout",
     "output_type": "stream",
     "text": [
      "\u001b[36m(TrainLightGCN pid=449255)\u001b[0m Already normalize adjacency matrix.\n",
      "\u001b[36m(TrainLightGCN pid=449255)\u001b[0m Using xavier initialization.\n"
     ]
    },
    {
     "name": "stderr",
     "output_type": "stream",
     "text": [
      "\u001b[36m(TrainLightGCN pid=449255)\u001b[0m Trainable.setup took 11.662 seconds. If your trainable is slow to initialize, consider setting reuse_actors=True to reduce actor creation overheads.\n"
     ]
    },
    {
     "name": "stderr",
     "output_type": "stream",
     "text": [
      "\u001b[36m(TrainLightGCN pid=448362)\u001b[0m Checkpoint successfully created at: Checkpoint(filesystem=local, path=/home/daviddavo/ray_results/LightGCN_optim=map@10,dao=PancakeSwap,freq=3d,normalize=True,cutoff_date=2023-07-01T00:00:00,fold=9_2024-03-24T01:56:59.853079/TrainLightGCN_6fc42294_93_batch_size=9,conv_layers=1,embedding_dim=38,fold=9,l2=0.0004,learning_rate=0.0109_2024-03-24_04-02-27/checkpoint_000000)\n"
     ]
    },
    {
     "name": "stderr",
     "output_type": "stream",
     "text": [
      "\u001b[36m(pid=449941)\u001b[0m 2024-03-24 04:10:41.020455: E tensorflow/compiler/xla/stream_executor/cuda/cuda_dnn.cc:9342] Unable to register cuDNN factory: Attempting to register factory for plugin cuDNN when one has already been registered\n",
      "\u001b[36m(pid=449941)\u001b[0m 2024-03-24 04:10:41.020498: E tensorflow/compiler/xla/stream_executor/cuda/cuda_fft.cc:609] Unable to register cuFFT factory: Attempting to register factory for plugin cuFFT when one has already been registered\n",
      "\u001b[36m(pid=449941)\u001b[0m 2024-03-24 04:10:41.020513: E tensorflow/compiler/xla/stream_executor/cuda/cuda_blas.cc:1518] Unable to register cuBLAS factory: Attempting to register factory for plugin cuBLAS when one has already been registered\n"
     ]
    },
    {
     "name": "stderr",
     "output_type": "stream",
     "text": [
      "\u001b[36m(TrainLightGCN pid=449941)\u001b[0m /home/daviddavo/upm-tfm-notebooks/.direnv/python-3.9/lib/python3.9/site-packages/recommenders/models/deeprec/DataModel/ImplicitCF.py:73: FutureWarning: The frame.append method is deprecated and will be removed from pandas in a future version. Use pandas.concat instead.\n",
      "\u001b[36m(TrainLightGCN pid=449941)\u001b[0m   df = train if test is None else train.append(test)\n"
     ]
    },
    {
     "name": "stdout",
     "output_type": "stream",
     "text": [
      "\u001b[36m(TrainLightGCN pid=449941)\u001b[0m Already create adjacency matrix.\n"
     ]
    },
    {
     "name": "stdout",
     "output_type": "stream",
     "text": [
      "\u001b[36m(TrainLightGCN pid=449941)\u001b[0m Already normalize adjacency matrix.\n",
      "\u001b[36m(TrainLightGCN pid=449941)\u001b[0m Using xavier initialization.\n"
     ]
    },
    {
     "name": "stderr",
     "output_type": "stream",
     "text": [
      "\u001b[36m(TrainLightGCN pid=449941)\u001b[0m Trainable.setup took 11.654 seconds. If your trainable is slow to initialize, consider setting reuse_actors=True to reduce actor creation overheads.\n"
     ]
    },
    {
     "name": "stderr",
     "output_type": "stream",
     "text": [
      "\u001b[36m(TrainLightGCN pid=448538)\u001b[0m Checkpoint successfully created at: Checkpoint(filesystem=local, path=/home/daviddavo/ray_results/LightGCN_optim=map@10,dao=PancakeSwap,freq=3d,normalize=True,cutoff_date=2023-07-01T00:00:00,fold=9_2024-03-24T01:56:59.853079/TrainLightGCN_c48d0076_94_batch_size=11,conv_layers=5,embedding_dim=2,fold=9,l2=0.0001,learning_rate=0.0239_2024-03-24_04-05-32/checkpoint_000000)\n"
     ]
    },
    {
     "name": "stderr",
     "output_type": "stream",
     "text": [
      "\u001b[36m(pid=450157)\u001b[0m 2024-03-24 04:11:01.969735: E tensorflow/compiler/xla/stream_executor/cuda/cuda_dnn.cc:9342] Unable to register cuDNN factory: Attempting to register factory for plugin cuDNN when one has already been registered\n",
      "\u001b[36m(pid=450157)\u001b[0m 2024-03-24 04:11:01.969855: E tensorflow/compiler/xla/stream_executor/cuda/cuda_fft.cc:609] Unable to register cuFFT factory: Attempting to register factory for plugin cuFFT when one has already been registered\n",
      "\u001b[36m(pid=450157)\u001b[0m 2024-03-24 04:11:01.969872: E tensorflow/compiler/xla/stream_executor/cuda/cuda_blas.cc:1518] Unable to register cuBLAS factory: Attempting to register factory for plugin cuBLAS when one has already been registered\n"
     ]
    },
    {
     "name": "stderr",
     "output_type": "stream",
     "text": [
      "\u001b[36m(TrainLightGCN pid=450157)\u001b[0m /home/daviddavo/upm-tfm-notebooks/.direnv/python-3.9/lib/python3.9/site-packages/recommenders/models/deeprec/DataModel/ImplicitCF.py:73: FutureWarning: The frame.append method is deprecated and will be removed from pandas in a future version. Use pandas.concat instead.\n",
      "\u001b[36m(TrainLightGCN pid=450157)\u001b[0m   df = train if test is None else train.append(test)\n"
     ]
    },
    {
     "name": "stdout",
     "output_type": "stream",
     "text": [
      "\u001b[36m(TrainLightGCN pid=450157)\u001b[0m Already create adjacency matrix.\n"
     ]
    },
    {
     "name": "stdout",
     "output_type": "stream",
     "text": [
      "\u001b[36m(TrainLightGCN pid=450157)\u001b[0m Already normalize adjacency matrix.\n",
      "\u001b[36m(TrainLightGCN pid=450157)\u001b[0m Using xavier initialization.\n"
     ]
    },
    {
     "name": "stderr",
     "output_type": "stream",
     "text": [
      "\u001b[36m(TrainLightGCN pid=450157)\u001b[0m Trainable.setup took 11.669 seconds. If your trainable is slow to initialize, consider setting reuse_actors=True to reduce actor creation overheads.\n"
     ]
    },
    {
     "name": "stderr",
     "output_type": "stream",
     "text": [
      "\u001b[36m(TrainLightGCN pid=448772)\u001b[0m Checkpoint successfully created at: Checkpoint(filesystem=local, path=/home/daviddavo/ray_results/LightGCN_optim=map@10,dao=PancakeSwap,freq=3d,normalize=True,cutoff_date=2023-07-01T00:00:00,fold=9_2024-03-24T01:56:59.853079/TrainLightGCN_d33246db_95_batch_size=10,conv_layers=3,embedding_dim=3,fold=9,l2=0.0000,learning_rate=0.0175_2024-03-24_04-05-47/checkpoint_000000)\n"
     ]
    },
    {
     "name": "stderr",
     "output_type": "stream",
     "text": [
      "\u001b[36m(pid=450365)\u001b[0m 2024-03-24 04:11:19.981748: E tensorflow/compiler/xla/stream_executor/cuda/cuda_dnn.cc:9342] Unable to register cuDNN factory: Attempting to register factory for plugin cuDNN when one has already been registered\n",
      "\u001b[36m(pid=450365)\u001b[0m 2024-03-24 04:11:19.981785: E tensorflow/compiler/xla/stream_executor/cuda/cuda_fft.cc:609] Unable to register cuFFT factory: Attempting to register factory for plugin cuFFT when one has already been registered\n",
      "\u001b[36m(pid=450365)\u001b[0m 2024-03-24 04:11:19.981801: E tensorflow/compiler/xla/stream_executor/cuda/cuda_blas.cc:1518] Unable to register cuBLAS factory: Attempting to register factory for plugin cuBLAS when one has already been registered\n"
     ]
    },
    {
     "name": "stderr",
     "output_type": "stream",
     "text": [
      "\u001b[36m(TrainLightGCN pid=450365)\u001b[0m /home/daviddavo/upm-tfm-notebooks/.direnv/python-3.9/lib/python3.9/site-packages/recommenders/models/deeprec/DataModel/ImplicitCF.py:73: FutureWarning: The frame.append method is deprecated and will be removed from pandas in a future version. Use pandas.concat instead.\n",
      "\u001b[36m(TrainLightGCN pid=450365)\u001b[0m   df = train if test is None else train.append(test)\n"
     ]
    },
    {
     "name": "stdout",
     "output_type": "stream",
     "text": [
      "\u001b[36m(TrainLightGCN pid=450365)\u001b[0m Already create adjacency matrix.\n"
     ]
    },
    {
     "name": "stdout",
     "output_type": "stream",
     "text": [
      "\u001b[36m(TrainLightGCN pid=450365)\u001b[0m Already normalize adjacency matrix.\n",
      "\u001b[36m(TrainLightGCN pid=450365)\u001b[0m Using xavier initialization.\n"
     ]
    },
    {
     "name": "stderr",
     "output_type": "stream",
     "text": [
      "\u001b[36m(TrainLightGCN pid=450365)\u001b[0m Trainable.setup took 11.788 seconds. If your trainable is slow to initialize, consider setting reuse_actors=True to reduce actor creation overheads.\n"
     ]
    },
    {
     "name": "stderr",
     "output_type": "stream",
     "text": [
      "\u001b[36m(TrainLightGCN pid=449255)\u001b[0m Checkpoint successfully created at: Checkpoint(filesystem=local, path=/home/daviddavo/ray_results/LightGCN_optim=map@10,dao=PancakeSwap,freq=3d,normalize=True,cutoff_date=2023-07-01T00:00:00,fold=9_2024-03-24T01:56:59.853079/TrainLightGCN_e3c2a5c7_96_batch_size=8,conv_layers=2,embedding_dim=1,fold=9,l2=0.0010,learning_rate=0.0332_2024-03-24_04-06-06/checkpoint_000000)\n"
     ]
    },
    {
     "name": "stderr",
     "output_type": "stream",
     "text": [
      "\u001b[36m(pid=450878)\u001b[0m 2024-03-24 04:13:18.992028: E tensorflow/compiler/xla/stream_executor/cuda/cuda_dnn.cc:9342] Unable to register cuDNN factory: Attempting to register factory for plugin cuDNN when one has already been registered\n",
      "\u001b[36m(pid=450878)\u001b[0m 2024-03-24 04:13:18.992063: E tensorflow/compiler/xla/stream_executor/cuda/cuda_fft.cc:609] Unable to register cuFFT factory: Attempting to register factory for plugin cuFFT when one has already been registered\n",
      "\u001b[36m(pid=450878)\u001b[0m 2024-03-24 04:13:18.992078: E tensorflow/compiler/xla/stream_executor/cuda/cuda_blas.cc:1518] Unable to register cuBLAS factory: Attempting to register factory for plugin cuBLAS when one has already been registered\n"
     ]
    },
    {
     "name": "stderr",
     "output_type": "stream",
     "text": [
      "\u001b[36m(TrainLightGCN pid=450878)\u001b[0m /home/daviddavo/upm-tfm-notebooks/.direnv/python-3.9/lib/python3.9/site-packages/recommenders/models/deeprec/DataModel/ImplicitCF.py:73: FutureWarning: The frame.append method is deprecated and will be removed from pandas in a future version. Use pandas.concat instead.\n",
      "\u001b[36m(TrainLightGCN pid=450878)\u001b[0m   df = train if test is None else train.append(test)\n"
     ]
    },
    {
     "name": "stdout",
     "output_type": "stream",
     "text": [
      "\u001b[36m(TrainLightGCN pid=450878)\u001b[0m Already create adjacency matrix.\n"
     ]
    },
    {
     "name": "stdout",
     "output_type": "stream",
     "text": [
      "\u001b[36m(TrainLightGCN pid=450878)\u001b[0m Already normalize adjacency matrix.\n",
      "\u001b[36m(TrainLightGCN pid=450878)\u001b[0m Using xavier initialization.\n"
     ]
    },
    {
     "name": "stderr",
     "output_type": "stream",
     "text": [
      "\u001b[36m(TrainLightGCN pid=450878)\u001b[0m Trainable.setup took 11.745 seconds. If your trainable is slow to initialize, consider setting reuse_actors=True to reduce actor creation overheads.\n"
     ]
    },
    {
     "name": "stderr",
     "output_type": "stream",
     "text": [
      "\u001b[36m(TrainLightGCN pid=449941)\u001b[0m Checkpoint successfully created at: Checkpoint(filesystem=local, path=/home/daviddavo/ray_results/LightGCN_optim=map@10,dao=PancakeSwap,freq=3d,normalize=True,cutoff_date=2023-07-01T00:00:00,fold=9_2024-03-24T01:56:59.853079/TrainLightGCN_11af070c_97_batch_size=10,conv_layers=1,embedding_dim=1,fold=9,l2=0.0100,learning_rate=0.0273_2024-03-24_04-07-56/checkpoint_000000)\n"
     ]
    },
    {
     "name": "stderr",
     "output_type": "stream",
     "text": [
      "\u001b[36m(TrainLightGCN pid=450157)\u001b[0m Checkpoint successfully created at: Checkpoint(filesystem=local, path=/home/daviddavo/ray_results/LightGCN_optim=map@10,dao=PancakeSwap,freq=3d,normalize=True,cutoff_date=2023-07-01T00:00:00,fold=9_2024-03-24T01:56:59.853079/TrainLightGCN_1094e427_98_batch_size=9,conv_layers=2,embedding_dim=20,fold=9,l2=0.0001,learning_rate=0.0126_2024-03-24_04-10-54/checkpoint_000000)\n"
     ]
    },
    {
     "name": "stderr",
     "output_type": "stream",
     "text": [
      "\u001b[36m(TrainLightGCN pid=450365)\u001b[0m Checkpoint successfully created at: Checkpoint(filesystem=local, path=/home/daviddavo/ray_results/LightGCN_optim=map@10,dao=PancakeSwap,freq=3d,normalize=True,cutoff_date=2023-07-01T00:00:00,fold=9_2024-03-24T01:56:59.853079/TrainLightGCN_c61db3a9_99_batch_size=11,conv_layers=2,embedding_dim=8,fold=9,l2=0.0003,learning_rate=0.1211_2024-03-24_04-11-15/checkpoint_000000)\n"
     ]
    },
    {
     "name": "stderr",
     "output_type": "stream",
     "text": [
      "\u001b[36m(TrainLightGCN pid=450878)\u001b[0m Checkpoint successfully created at: Checkpoint(filesystem=local, path=/home/daviddavo/ray_results/LightGCN_optim=map@10,dao=PancakeSwap,freq=3d,normalize=True,cutoff_date=2023-07-01T00:00:00,fold=9_2024-03-24T01:56:59.853079/TrainLightGCN_806a0e62_100_batch_size=11,conv_layers=1,embedding_dim=1,fold=9,l2=0.0028,learning_rate=0.3790_2024-03-24_04-11-33/checkpoint_000000)\n"
     ]
    },
    {
     "name": "stderr",
     "output_type": "stream",
     "text": [
      "2024-03-24 04:18:14,719\tINFO tune.py:1042 -- Total run time: 8474.86 seconds (8474.83 seconds for the tuning loop).\n"
     ]
    }
   ],
   "source": [
    "import logging\n",
    "\n",
    "def findConfig(rg):\n",
    "    for r in rg:\n",
    "        if r.config:\n",
    "            msk = [r.config[k] == v for k, v in last_best_result.config.items() if k != 'fold']\n",
    "            if all(msk):\n",
    "                return r\n",
    "            elif sum(msk) >= 3:\n",
    "                print(r.config, msk)\n",
    "\n",
    "    return None\n",
    "\n",
    "tuners = []\n",
    "results = []\n",
    "last_best_result = None\n",
    "for f in range(LAST_SPLITS):\n",
    "    best_prev_config = None\n",
    "    if last_best_result is not None:\n",
    "        best_prev_config = last_best_result.config.copy()\n",
    "        best_prev_config['fold'] += 1\n",
    "        best_prev_config = [best_prev_config]\n",
    "    \n",
    "    t = getTunerOnFold(f, best_prev_config)\n",
    "    tuners.append(t)\n",
    "\n",
    "    rg = t.fit()\n",
    "    assert rg.num_errors == 0, f\"There are {rg.num_errors} errors\"\n",
    "    assert rg.num_terminated == NUM_SAMPLES, f'Some samples are not terminated ({rg.num_terminated} != {NUM_SAMPLES})'\n",
    "    results.append(rg)\n",
    "\n",
    "    # Assert that the prev config has been tried\n",
    "    if last_best_result is not None:\n",
    "        # if not any( \n",
    "        #     all((r.config[k] == v for k, v in last_best_result.config.items() if k != 'fold'))\n",
    "        #     for r in rg if r.config\n",
    "        # ):\n",
    "        if not findConfig(rg):\n",
    "            print(\"Best config:\", last_best_result.config)\n",
    "            assert False, f\"The best config from previous fold has not been tested in fold {f}\"\n",
    "        else:\n",
    "            logging.info(f'Fold {f}. Best prev result was {last_best_result.path} and config has been found {findConfig(rg).path}')\n",
    "    \n",
    "    last_best_result = rg.get_best_result()"
   ]
  },
  {
   "cell_type": "code",
   "execution_count": 23,
   "id": "d5bc38c5-05b3-41d0-9eb6-98168aede6ba",
   "metadata": {
    "execution": {
     "iopub.execute_input": "2024-03-24T04:18:14.866293Z",
     "iopub.status.busy": "2024-03-24T04:18:14.865910Z",
     "iopub.status.idle": "2024-03-24T04:18:14.896060Z",
     "shell.execute_reply": "2024-03-24T04:18:14.895797Z"
    },
    "papermill": {
     "duration": 0.05063,
     "end_time": "2024-03-24T04:18:14.896730",
     "exception": false,
     "start_time": "2024-03-24T04:18:14.846100",
     "status": "completed"
    },
    "tags": []
   },
   "outputs": [
    {
     "name": "stdout",
     "output_type": "stream",
     "text": [
      "All finished!\n"
     ]
    }
   ],
   "source": [
    "# This is needed for papermill to run the whole notebook and not stop above\n",
    "# because ray tune catches the exception\n",
    "\n",
    "print(\"All finished!\")"
   ]
  }
 ],
 "metadata": {
  "kernelspec": {
   "display_name": "Python 3 (ipykernel)",
   "language": "python",
   "name": "python3"
  },
  "language_info": {
   "codemirror_mode": {
    "name": "ipython",
    "version": 3
   },
   "file_extension": ".py",
   "mimetype": "text/x-python",
   "name": "python",
   "nbconvert_exporter": "python",
   "pygments_lexer": "ipython3",
   "version": "3.9.18"
  },
  "papermill": {
   "default_parameters": {},
   "duration": 44751.706693,
   "end_time": "2024-03-24T04:18:20.178346",
   "environment_variables": {},
   "exception": null,
   "input_path": "07_microsoft_tuning.ipynb",
   "output_path": "nbout/PancakeSwap/07_microsoft_tuning.ipynb",
   "parameters": {
    "CUTOFF_DATE_STR": "2023-07-01",
    "EXECUTION_ID": "2024-03-21",
    "LAST_SPLITS": 10,
    "ORG_NAME": "PancakeSwap",
    "ORG_PLATFORM": "snapshot",
    "SPLITS_FREQ": "3d",
    "SPLITS_NORMALIZE": true,
    "USE_ORG_NAMES": true
   },
   "start_time": "2024-03-23T15:52:28.471653",
   "version": "2.5.0"
  },
  "widgets": {
   "application/vnd.jupyter.widget-state+json": {
    "state": {},
    "version_major": 2,
    "version_minor": 0
   }
  }
 },
 "nbformat": 4,
 "nbformat_minor": 5
}