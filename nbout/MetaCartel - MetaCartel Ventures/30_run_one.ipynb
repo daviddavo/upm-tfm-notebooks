{
 "cells": [
  {
   "cell_type": "code",
   "execution_count": 1,
   "id": "dc7786d9-d6d8-4795-944d-bb0aec99e1a3",
   "metadata": {
    "editable": true,
    "execution": {
     "iopub.execute_input": "2024-03-23T15:52:25.935987Z",
     "iopub.status.busy": "2024-03-23T15:52:25.933973Z",
     "iopub.status.idle": "2024-03-23T15:52:26.280168Z",
     "shell.execute_reply": "2024-03-23T15:52:26.279794Z"
    },
    "papermill": {
     "duration": 0.354425,
     "end_time": "2024-03-23T15:52:26.281367",
     "exception": false,
     "start_time": "2024-03-23T15:52:25.926942",
     "status": "completed"
    },
    "slideshow": {
     "slide_type": ""
    },
    "tags": []
   },
   "outputs": [],
   "source": [
    "from pathlib import Path\n",
    "from IPython.display import Markdown\n",
    "import re\n",
    "\n",
    "import papermill as pm\n",
    "\n",
    "from src import paths\n",
    "\n",
    "import datetime as dt"
   ]
  },
  {
   "cell_type": "code",
   "execution_count": 2,
   "id": "4ad146e0-81ac-449b-98cf-5a73dc25b09a",
   "metadata": {
    "editable": true,
    "execution": {
     "iopub.execute_input": "2024-03-23T15:52:26.286505Z",
     "iopub.status.busy": "2024-03-23T15:52:26.286353Z",
     "iopub.status.idle": "2024-03-23T15:52:26.288574Z",
     "shell.execute_reply": "2024-03-23T15:52:26.288359Z"
    },
    "papermill": {
     "duration": 0.005502,
     "end_time": "2024-03-23T15:52:26.289190",
     "exception": false,
     "start_time": "2024-03-23T15:52:26.283688",
     "status": "completed"
    },
    "slideshow": {
     "slide_type": ""
    },
    "tags": [
     "parameters"
    ]
   },
   "outputs": [],
   "source": [
    "# Parameters that will be passed to the other notebooks\n",
    "\n",
    "ORG_NAME = 'Decentraland'\n",
    "ORG_PLATFORM = 'snapshot'\n",
    "SPLITS_FREQ: str = 'W-THU' # split weekly\n",
    "SPLITS_NORMALIZE = True # Wether or not to move everything to 00:00\n",
    "LAST_SPLITS = 10 # Use just last 10 splits\n",
    "USE_ORG_NAMES = False # See load_pandas_df\n",
    "\n",
    "# Parameters of this notebook\n",
    "DO_TRAIN = True\n",
    "EXECUTION_ID: bool = dt.datetime.utcnow().isoformat() # Used to see wether to skip completed notebooks\n",
    "CUTOFF_DATE_STR: str = None # Cutoff date for the dataset"
   ]
  },
  {
   "cell_type": "code",
   "execution_count": 3,
   "id": "f7c6693a",
   "metadata": {
    "execution": {
     "iopub.execute_input": "2024-03-23T15:52:26.293334Z",
     "iopub.status.busy": "2024-03-23T15:52:26.293181Z",
     "iopub.status.idle": "2024-03-23T15:52:26.294976Z",
     "shell.execute_reply": "2024-03-23T15:52:26.294776Z"
    },
    "papermill": {
     "duration": 0.004773,
     "end_time": "2024-03-23T15:52:26.295747",
     "exception": false,
     "start_time": "2024-03-23T15:52:26.290974",
     "status": "completed"
    },
    "tags": [
     "injected-parameters"
    ]
   },
   "outputs": [],
   "source": [
    "# Parameters\n",
    "ORG_NAME = \"MetaCartel - MetaCartel Ventures\"\n",
    "ORG_PLATFORM = [\"daohaus\", \"snapshot\"]\n",
    "SPLITS_FREQ = \"W-THU\"\n",
    "SPLITS_NORMALIZE = True\n",
    "LAST_SPLITS = 10\n",
    "USE_ORG_NAMES = True\n",
    "EXECUTION_ID = \"2024-03-21\"\n",
    "DO_TRAIN = True\n",
    "CUTOFF_DATE_STR = \"2020-11-06\"\n"
   ]
  },
  {
   "cell_type": "code",
   "execution_count": 4,
   "id": "cfac4b5c-ec42-4f16-9ba7-318f6a3480cc",
   "metadata": {
    "editable": true,
    "execution": {
     "iopub.execute_input": "2024-03-23T15:52:26.299973Z",
     "iopub.status.busy": "2024-03-23T15:52:26.299833Z",
     "iopub.status.idle": "2024-03-23T15:52:26.303447Z",
     "shell.execute_reply": "2024-03-23T15:52:26.303250Z"
    },
    "papermill": {
     "duration": 0.006642,
     "end_time": "2024-03-23T15:52:26.304213",
     "exception": false,
     "start_time": "2024-03-23T15:52:26.297571",
     "status": "completed"
    },
    "slideshow": {
     "slide_type": ""
    },
    "tags": []
   },
   "outputs": [
    {
     "data": {
      "text/markdown": [
       "```mermaid\n",
       "graph LR\n",
       "10_baseline --> 20_results\n",
       "\n",
       "10_baseline --> 11_pln-tune -.-> 12_hybrid\n",
       "07_microsoft_tuning --> 09_analyze_results --> 12_hybrid\n",
       "12_hybrid --> 20_results\n",
       "10_baseline --> 09_analyze_results\n",
       "```"
      ],
      "text/plain": [
       "<IPython.core.display.Markdown object>"
      ]
     },
     "execution_count": 4,
     "metadata": {},
     "output_type": "execute_result"
    }
   ],
   "source": [
    "# Display the diagram from the README.md\n",
    "\n",
    "README = Path('./README.md')\n",
    "\n",
    "with open(README, 'r') as f:\n",
    "    diagrams = re.findall(r'```mermaid[\\s\\S]*```', f.read())\n",
    "\n",
    "Markdown(\"\\n\".join(diagrams))"
   ]
  },
  {
   "cell_type": "markdown",
   "id": "aa7c0382-7d7e-45bb-bb72-a6d0d52a6b54",
   "metadata": {
    "editable": true,
    "papermill": {
     "duration": 0.001875,
     "end_time": "2024-03-23T15:52:26.307948",
     "exception": false,
     "start_time": "2024-03-23T15:52:26.306073",
     "status": "completed"
    },
    "slideshow": {
     "slide_type": ""
    },
    "tags": []
   },
   "source": [
    "## Define some common things"
   ]
  },
  {
   "cell_type": "code",
   "execution_count": 5,
   "id": "f30ef62e-ce8c-4caf-9e1e-ac40c2383068",
   "metadata": {
    "editable": true,
    "execution": {
     "iopub.execute_input": "2024-03-23T15:52:26.312245Z",
     "iopub.status.busy": "2024-03-23T15:52:26.312107Z",
     "iopub.status.idle": "2024-03-23T15:52:26.314407Z",
     "shell.execute_reply": "2024-03-23T15:52:26.314203Z"
    },
    "papermill": {
     "duration": 0.005428,
     "end_time": "2024-03-23T15:52:26.315186",
     "exception": false,
     "start_time": "2024-03-23T15:52:26.309758",
     "status": "completed"
    },
    "slideshow": {
     "slide_type": ""
    },
    "tags": []
   },
   "outputs": [],
   "source": [
    "import nbformat\n",
    "\n",
    "def is_increasing(l):\n",
    "    return (not l) or all(x<y for x,y in zip(l, l[1:]))\n",
    "\n",
    "def isCompleted(fname):\n",
    "    nb = nbformat.read(fname, as_version=4)\n",
    "    execution_counts = [c['execution_count'] for c in nb['cells'] if c['cell_type'] == 'code' and c['source'].strip()]\n",
    "    \n",
    "    return all((x is not None for x in execution_counts)) and is_increasing(execution_counts)\n",
    "\n",
    "# print(isCompleted('nbout/Decentraland/04c_dao-census-onedao.ipynb'))\n",
    "# print(isCompleted('nbout/Balancer/10_baseline_mp.ipynb'))"
   ]
  },
  {
   "cell_type": "code",
   "execution_count": 6,
   "id": "2060e67c-c685-4c3c-82f9-e348bb89fcda",
   "metadata": {
    "editable": true,
    "execution": {
     "iopub.execute_input": "2024-03-23T15:52:26.319357Z",
     "iopub.status.busy": "2024-03-23T15:52:26.319223Z",
     "iopub.status.idle": "2024-03-23T15:52:26.320961Z",
     "shell.execute_reply": "2024-03-23T15:52:26.320758Z"
    },
    "papermill": {
     "duration": 0.004761,
     "end_time": "2024-03-23T15:52:26.321729",
     "exception": false,
     "start_time": "2024-03-23T15:52:26.316968",
     "status": "completed"
    },
    "slideshow": {
     "slide_type": ""
    },
    "tags": []
   },
   "outputs": [],
   "source": [
    "def getOldExec(fname):\n",
    "    nb = nbformat.read(fname, as_version=4)\n",
    "    return nb.metadata['papermill']['parameters'].get('EXECUTION_ID')\n",
    "\n",
    "# isSameExec(fname = 'nbout/Decentraland/04c_dao-census-onedao.ipynb')"
   ]
  },
  {
   "cell_type": "code",
   "execution_count": 7,
   "id": "bea30b95-7f15-49c6-a0e4-951b2b60e26e",
   "metadata": {
    "editable": true,
    "execution": {
     "iopub.execute_input": "2024-03-23T15:52:26.326124Z",
     "iopub.status.busy": "2024-03-23T15:52:26.325951Z",
     "iopub.status.idle": "2024-03-23T15:52:26.329050Z",
     "shell.execute_reply": "2024-03-23T15:52:26.328842Z"
    },
    "papermill": {
     "duration": 0.006225,
     "end_time": "2024-03-23T15:52:26.329819",
     "exception": false,
     "start_time": "2024-03-23T15:52:26.323594",
     "status": "completed"
    },
    "slideshow": {
     "slide_type": ""
    },
    "tags": []
   },
   "outputs": [],
   "source": [
    "def run_notebook(name):\n",
    "    assert Path(name).exists(), f\"No existe el fichero {name}\"\n",
    "    \n",
    "    outpath = Path(f'./nbout/{ORG_NAME.replace(\" / \", \"_\")}')\n",
    "    outpath.mkdir(parents=True, exist_ok=True)\n",
    "    outfile = outpath/name\n",
    "\n",
    "    params = pm.inspect_notebook(name)\n",
    "    for p in ['ORG_NAME', 'ORG_PLATFORM', 'SPLITS_FREQ', 'SPLITS_NORMALIZE', 'LAST_SPLITS', 'USE_ORG_NAMES', 'CUTOFF_DATE_STR']:\n",
    "        assert p in params, f'{p} is not in notebook params'\n",
    "\n",
    "    if outfile.exists() and EXECUTION_ID:\n",
    "        oldExec = getOldExec(outfile)\n",
    "        \n",
    "        if oldExec == EXECUTION_ID and isCompleted(outfile):\n",
    "            print(f\"Skipping {outfile} with EXECUTION_ID {EXECUTION_ID}\")\n",
    "            return\n",
    "        elif oldExec != EXECUTION_ID:\n",
    "            print(f\"Different exec, re-running ({oldExec} != {EXECUTION_ID})\")\n",
    "        else:\n",
    "            print(f\"Was not complete, re-running\")\n",
    "    \n",
    "    pm.execute_notebook(\n",
    "        name, \n",
    "        outfile,\n",
    "        autosave_cell_every=30,\n",
    "        parameters=dict(\n",
    "            ORG_NAME = ORG_NAME,\n",
    "            ORG_PLATFORM = ORG_PLATFORM,\n",
    "            SPLITS_FREQ = SPLITS_FREQ,\n",
    "            SPLITS_NORMALIZE = SPLITS_NORMALIZE,\n",
    "            LAST_SPLITS = LAST_SPLITS,\n",
    "            USE_ORG_NAMES = USE_ORG_NAMES,\n",
    "            EXECUTION_ID = EXECUTION_ID,\n",
    "            CUTOFF_DATE_STR = CUTOFF_DATE_STR,\n",
    "        ),\n",
    "    )\n",
    "# run_notebook('11_pln-tune.ipynb', 'snapshot', 'Decentraland')"
   ]
  },
  {
   "cell_type": "markdown",
   "id": "e626cf81-65e9-4f6e-8271-574428439839",
   "metadata": {
    "editable": true,
    "papermill": {
     "duration": 0.001924,
     "end_time": "2024-03-23T15:52:26.333663",
     "exception": false,
     "start_time": "2024-03-23T15:52:26.331739",
     "status": "completed"
    },
    "slideshow": {
     "slide_type": ""
    },
    "tags": []
   },
   "source": [
    "## Run data from dao"
   ]
  },
  {
   "cell_type": "code",
   "execution_count": 8,
   "id": "74e51fce-f006-4861-be7b-5cd7124bb3d7",
   "metadata": {
    "editable": true,
    "execution": {
     "iopub.execute_input": "2024-03-23T15:52:26.338403Z",
     "iopub.status.busy": "2024-03-23T15:52:26.338267Z",
     "iopub.status.idle": "2024-03-23T15:52:26.394704Z",
     "shell.execute_reply": "2024-03-23T15:52:26.394455Z"
    },
    "papermill": {
     "duration": 0.059981,
     "end_time": "2024-03-23T15:52:26.395484",
     "exception": false,
     "start_time": "2024-03-23T15:52:26.335503",
     "status": "completed"
    },
    "slideshow": {
     "slide_type": ""
    },
    "tags": []
   },
   "outputs": [
    {
     "name": "stdout",
     "output_type": "stream",
     "text": [
      "Skipping nbout/MetaCartel - MetaCartel Ventures/04c_dao-census-onedao.ipynb with EXECUTION_ID 2024-03-21\n"
     ]
    }
   ],
   "source": [
    "#papermill_description=dao-census\n",
    "run_notebook('04c_dao-census-onedao.ipynb')"
   ]
  },
  {
   "cell_type": "markdown",
   "id": "8aef0f68-2a8c-4896-ba90-728060074715",
   "metadata": {
    "editable": true,
    "papermill": {
     "duration": 0.002298,
     "end_time": "2024-03-23T15:52:26.400206",
     "exception": false,
     "start_time": "2024-03-23T15:52:26.397908",
     "status": "completed"
    },
    "slideshow": {
     "slide_type": ""
    },
    "tags": []
   },
   "source": [
    "## Run baseline"
   ]
  },
  {
   "cell_type": "code",
   "execution_count": 9,
   "id": "abc14ace-3f95-4392-b6c2-9d0f125974de",
   "metadata": {
    "editable": true,
    "execution": {
     "iopub.execute_input": "2024-03-23T15:52:26.405054Z",
     "iopub.status.busy": "2024-03-23T15:52:26.404898Z",
     "iopub.status.idle": "2024-03-23T15:52:26.423575Z",
     "shell.execute_reply": "2024-03-23T15:52:26.423349Z"
    },
    "papermill": {
     "duration": 0.022185,
     "end_time": "2024-03-23T15:52:26.424310",
     "exception": false,
     "start_time": "2024-03-23T15:52:26.402125",
     "status": "completed"
    },
    "slideshow": {
     "slide_type": ""
    },
    "tags": []
   },
   "outputs": [
    {
     "name": "stdout",
     "output_type": "stream",
     "text": [
      "Skipping nbout/MetaCartel - MetaCartel Ventures/10_baseline_mp.ipynb with EXECUTION_ID 2024-03-21\n"
     ]
    }
   ],
   "source": [
    "#papermill_description=baseline\n",
    "run_notebook('10_baseline_mp.ipynb')"
   ]
  },
  {
   "cell_type": "code",
   "execution_count": 10,
   "id": "537f43d0-fc8c-4dc5-b106-f7e936b90e2c",
   "metadata": {
    "editable": true,
    "execution": {
     "iopub.execute_input": "2024-03-23T15:52:26.429546Z",
     "iopub.status.busy": "2024-03-23T15:52:26.429225Z",
     "iopub.status.idle": "2024-03-23T15:52:26.431000Z",
     "shell.execute_reply": "2024-03-23T15:52:26.430801Z"
    },
    "papermill": {
     "duration": 0.00543,
     "end_time": "2024-03-23T15:52:26.431721",
     "exception": false,
     "start_time": "2024-03-23T15:52:26.426291",
     "status": "completed"
    },
    "slideshow": {
     "slide_type": ""
    },
    "tags": []
   },
   "outputs": [],
   "source": [
    "#papermill_description=check_train\n",
    "import sys\n",
    "if not DO_TRAIN: \n",
    "    sys.exit(0)"
   ]
  },
  {
   "cell_type": "markdown",
   "id": "78d51e15-69d2-41f8-bb9c-0cd18a288b3a",
   "metadata": {
    "editable": true,
    "papermill": {
     "duration": 0.002051,
     "end_time": "2024-03-23T15:52:26.435797",
     "exception": false,
     "start_time": "2024-03-23T15:52:26.433746",
     "status": "completed"
    },
    "slideshow": {
     "slide_type": ""
    },
    "tags": []
   },
   "source": [
    "## Run pln_tune"
   ]
  },
  {
   "cell_type": "code",
   "execution_count": 11,
   "id": "7372d911-aec8-41ae-bd91-8ede877c9a37",
   "metadata": {
    "editable": true,
    "execution": {
     "iopub.execute_input": "2024-03-23T15:52:26.440663Z",
     "iopub.status.busy": "2024-03-23T15:52:26.440535Z",
     "iopub.status.idle": "2024-03-23T15:52:26.508808Z",
     "shell.execute_reply": "2024-03-23T15:52:26.508492Z"
    },
    "papermill": {
     "duration": 0.071779,
     "end_time": "2024-03-23T15:52:26.509513",
     "exception": false,
     "start_time": "2024-03-23T15:52:26.437734",
     "status": "completed"
    },
    "slideshow": {
     "slide_type": ""
    },
    "tags": []
   },
   "outputs": [
    {
     "name": "stdout",
     "output_type": "stream",
     "text": [
      "Skipping nbout/MetaCartel - MetaCartel Ventures/11_pln-tune.ipynb with EXECUTION_ID 2024-03-21\n"
     ]
    }
   ],
   "source": [
    "#papermill_description=pln_tune\n",
    "# if paths.pln_mdf(ORG_NAME, SPLITS_FREQ, SPLITS_NORMALIZE).exists():\n",
    "#     print(f\"Skipping {ORG_NAME} because it has been done\")    \n",
    "run_notebook('11_pln-tune.ipynb')"
   ]
  },
  {
   "cell_type": "markdown",
   "id": "3c84bcf4-17c0-4282-8bd0-28aa9e997bbd",
   "metadata": {
    "editable": true,
    "papermill": {
     "duration": 0.002446,
     "end_time": "2024-03-23T15:52:26.514486",
     "exception": false,
     "start_time": "2024-03-23T15:52:26.512040",
     "status": "completed"
    },
    "slideshow": {
     "slide_type": ""
    },
    "tags": []
   },
   "source": [
    "## Run microsoft_tuning"
   ]
  },
  {
   "cell_type": "code",
   "execution_count": 12,
   "id": "ca56c9f7-d77d-4741-8064-13efe089b0de",
   "metadata": {
    "editable": true,
    "execution": {
     "iopub.execute_input": "2024-03-23T15:52:26.519569Z",
     "iopub.status.busy": "2024-03-23T15:52:26.519405Z",
     "iopub.status.idle": "2024-03-23T15:52:26.533397Z",
     "shell.execute_reply": "2024-03-23T15:52:26.533146Z"
    },
    "papermill": {
     "duration": 0.017558,
     "end_time": "2024-03-23T15:52:26.534071",
     "exception": false,
     "start_time": "2024-03-23T15:52:26.516513",
     "status": "completed"
    },
    "slideshow": {
     "slide_type": ""
    },
    "tags": []
   },
   "outputs": [
    {
     "name": "stdout",
     "output_type": "stream",
     "text": [
      "Skipping nbout/MetaCartel - MetaCartel Ventures/07_microsoft_tuning.ipynb with EXECUTION_ID 2024-03-21\n"
     ]
    }
   ],
   "source": [
    "#papermill_description=microsoft\n",
    "run_notebook('07_microsoft_tuning.ipynb')"
   ]
  },
  {
   "cell_type": "markdown",
   "id": "4f63d888-57d4-4a76-9565-bc382ea442e7",
   "metadata": {
    "editable": true,
    "papermill": {
     "duration": 0.002018,
     "end_time": "2024-03-23T15:52:26.538166",
     "exception": false,
     "start_time": "2024-03-23T15:52:26.536148",
     "status": "completed"
    },
    "slideshow": {
     "slide_type": ""
    },
    "tags": []
   },
   "source": [
    "## Run analyze_results"
   ]
  },
  {
   "cell_type": "code",
   "execution_count": 13,
   "id": "4d107b93-08e5-411a-8925-c6784c711709",
   "metadata": {
    "editable": true,
    "execution": {
     "iopub.execute_input": "2024-03-23T15:52:26.543187Z",
     "iopub.status.busy": "2024-03-23T15:52:26.543045Z",
     "iopub.status.idle": "2024-03-23T15:52:26.729809Z",
     "shell.execute_reply": "2024-03-23T15:52:26.729465Z"
    },
    "papermill": {
     "duration": 0.19045,
     "end_time": "2024-03-23T15:52:26.730679",
     "exception": false,
     "start_time": "2024-03-23T15:52:26.540229",
     "status": "completed"
    },
    "slideshow": {
     "slide_type": ""
    },
    "tags": []
   },
   "outputs": [
    {
     "name": "stdout",
     "output_type": "stream",
     "text": [
      "Skipping nbout/MetaCartel - MetaCartel Ventures/09_analyze_results.ipynb with EXECUTION_ID 2024-03-21\n"
     ]
    }
   ],
   "source": [
    "#papermill_description=analyze\n",
    "nb = run_notebook('09_analyze_results.ipynb')"
   ]
  },
  {
   "cell_type": "markdown",
   "id": "53ff9453-531a-40da-8e03-870c77e30504",
   "metadata": {
    "editable": true,
    "papermill": {
     "duration": 0.0022,
     "end_time": "2024-03-23T15:52:26.735140",
     "exception": false,
     "start_time": "2024-03-23T15:52:26.732940",
     "status": "completed"
    },
    "slideshow": {
     "slide_type": ""
    },
    "tags": []
   },
   "source": [
    "## Run hybrid"
   ]
  },
  {
   "cell_type": "code",
   "execution_count": 14,
   "id": "a7705d51-3dd1-41ed-92a9-995a8cd263e4",
   "metadata": {
    "editable": true,
    "execution": {
     "iopub.execute_input": "2024-03-23T15:52:26.740868Z",
     "iopub.status.busy": "2024-03-23T15:52:26.740641Z",
     "iopub.status.idle": "2024-03-23T15:52:26.786947Z",
     "shell.execute_reply": "2024-03-23T15:52:26.786597Z"
    },
    "papermill": {
     "duration": 0.050292,
     "end_time": "2024-03-23T15:52:26.787850",
     "exception": false,
     "start_time": "2024-03-23T15:52:26.737558",
     "status": "completed"
    },
    "slideshow": {
     "slide_type": ""
    },
    "tags": []
   },
   "outputs": [
    {
     "name": "stdout",
     "output_type": "stream",
     "text": [
      "Skipping nbout/MetaCartel - MetaCartel Ventures/12_hybrid.ipynb with EXECUTION_ID 2024-03-21\n"
     ]
    }
   ],
   "source": [
    "#papermill_description=hybrid\n",
    "run_notebook('12_hybrid.ipynb')"
   ]
  },
  {
   "cell_type": "markdown",
   "id": "da0e9e21-fb45-4ced-a82e-2b06529f082a",
   "metadata": {
    "papermill": {
     "duration": 0.002206,
     "end_time": "2024-03-23T15:52:26.792307",
     "exception": false,
     "start_time": "2024-03-23T15:52:26.790101",
     "status": "completed"
    },
    "tags": []
   },
   "source": [
    "## Run results"
   ]
  },
  {
   "cell_type": "code",
   "execution_count": 15,
   "id": "27450d01-bbd9-47d1-9827-dd415209bd74",
   "metadata": {
    "execution": {
     "iopub.execute_input": "2024-03-23T15:52:26.797771Z",
     "iopub.status.busy": "2024-03-23T15:52:26.797647Z",
     "iopub.status.idle": "2024-03-23T15:52:26.803593Z",
     "shell.execute_reply": "2024-03-23T15:52:26.803357Z"
    },
    "papermill": {
     "duration": 0.009832,
     "end_time": "2024-03-23T15:52:26.804239",
     "exception": false,
     "start_time": "2024-03-23T15:52:26.794407",
     "status": "completed"
    },
    "tags": []
   },
   "outputs": [
    {
     "name": "stdout",
     "output_type": "stream",
     "text": [
      "Skipping nbout/MetaCartel - MetaCartel Ventures/20_results.ipynb with EXECUTION_ID 2024-03-21\n"
     ]
    }
   ],
   "source": [
    "#papermill_description=results\n",
    "run_notebook('20_results.ipynb')"
   ]
  }
 ],
 "metadata": {
  "kernelspec": {
   "display_name": "Python 3 (ipykernel)",
   "language": "python",
   "name": "python3"
  },
  "language_info": {
   "codemirror_mode": {
    "name": "ipython",
    "version": 3
   },
   "file_extension": ".py",
   "mimetype": "text/x-python",
   "name": "python",
   "nbconvert_exporter": "python",
   "pygments_lexer": "ipython3",
   "version": "3.9.18"
  },
  "papermill": {
   "default_parameters": {},
   "duration": 1.604689,
   "end_time": "2024-03-23T15:52:27.026634",
   "environment_variables": {},
   "exception": null,
   "input_path": "30_run_one.ipynb",
   "output_path": "nbout/MetaCartel - MetaCartel Ventures/30_run_one.ipynb",
   "parameters": {
    "CUTOFF_DATE_STR": "2020-11-06",
    "DO_TRAIN": true,
    "EXECUTION_ID": "2024-03-21",
    "LAST_SPLITS": 10,
    "ORG_NAME": "MetaCartel - MetaCartel Ventures",
    "ORG_PLATFORM": [
     "daohaus",
     "snapshot"
    ],
    "SPLITS_FREQ": "W-THU",
    "SPLITS_NORMALIZE": true,
    "USE_ORG_NAMES": true
   },
   "start_time": "2024-03-23T15:52:25.421945",
   "version": "2.5.0"
  },
  "widgets": {
   "application/vnd.jupyter.widget-state+json": {
    "state": {},
    "version_major": 2,
    "version_minor": 0
   }
  }
 },
 "nbformat": 4,
 "nbformat_minor": 5
}