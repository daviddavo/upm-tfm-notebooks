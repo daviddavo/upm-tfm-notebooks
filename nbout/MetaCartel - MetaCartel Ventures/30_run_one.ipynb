{
 "cells": [
  {
   "cell_type": "code",
   "execution_count": 1,
   "id": "dc7786d9-d6d8-4795-944d-bb0aec99e1a3",
   "metadata": {
    "editable": true,
    "execution": {
     "iopub.execute_input": "2024-03-11T17:25:15.482609Z",
     "iopub.status.busy": "2024-03-11T17:25:15.481967Z",
     "iopub.status.idle": "2024-03-11T17:25:15.830780Z",
     "shell.execute_reply": "2024-03-11T17:25:15.830444Z"
    },
    "papermill": {
     "duration": 0.361264,
     "end_time": "2024-03-11T17:25:15.831779",
     "exception": false,
     "start_time": "2024-03-11T17:25:15.470515",
     "status": "completed"
    },
    "slideshow": {
     "slide_type": ""
    },
    "tags": []
   },
   "outputs": [],
   "source": [
    "from pathlib import Path\n",
    "from IPython.display import Markdown\n",
    "import re\n",
    "\n",
    "import papermill as pm\n",
    "\n",
    "from src import paths\n",
    "\n",
    "import datetime as dt"
   ]
  },
  {
   "cell_type": "code",
   "execution_count": 2,
   "id": "4ad146e0-81ac-449b-98cf-5a73dc25b09a",
   "metadata": {
    "editable": true,
    "execution": {
     "iopub.execute_input": "2024-03-11T17:25:15.836782Z",
     "iopub.status.busy": "2024-03-11T17:25:15.836580Z",
     "iopub.status.idle": "2024-03-11T17:25:15.838840Z",
     "shell.execute_reply": "2024-03-11T17:25:15.838621Z"
    },
    "papermill": {
     "duration": 0.005222,
     "end_time": "2024-03-11T17:25:15.839388",
     "exception": false,
     "start_time": "2024-03-11T17:25:15.834166",
     "status": "completed"
    },
    "slideshow": {
     "slide_type": ""
    },
    "tags": [
     "parameters"
    ]
   },
   "outputs": [],
   "source": [
    "# Parameters that will be passed to the other notebooks\n",
    "\n",
    "ORG_NAME = 'Decentraland'\n",
    "ORG_PLATFORM = 'snapshot'\n",
    "SPLITS_FREQ: str = 'W-THU' # split weekly\n",
    "SPLITS_NORMALIZE = True # Wether or not to move everything to 00:00\n",
    "LAST_SPLITS = 10 # Use just last 10 splits\n",
    "USE_ORG_NAMES = False # See load_pandas_df\n",
    "\n",
    "# Parameters of this notebook\n",
    "DO_TRAIN = True\n",
    "EXECUTION_ID: bool = dt.datetime.utcnow().isoformat() # Used to see wether to skip completed notebooks\n",
    "CUTOFF_DATE_STR: str = None # Cutoff date for the dataset"
   ]
  },
  {
   "cell_type": "code",
   "execution_count": 3,
   "id": "24a2fdfd",
   "metadata": {
    "execution": {
     "iopub.execute_input": "2024-03-11T17:25:15.843434Z",
     "iopub.status.busy": "2024-03-11T17:25:15.843248Z",
     "iopub.status.idle": "2024-03-11T17:25:15.845146Z",
     "shell.execute_reply": "2024-03-11T17:25:15.844908Z"
    },
    "papermill": {
     "duration": 0.00457,
     "end_time": "2024-03-11T17:25:15.845735",
     "exception": false,
     "start_time": "2024-03-11T17:25:15.841165",
     "status": "completed"
    },
    "tags": [
     "injected-parameters"
    ]
   },
   "outputs": [],
   "source": [
    "# Parameters\n",
    "ORG_NAME = \"MetaCartel - MetaCartel Ventures\"\n",
    "ORG_PLATFORM = [\"daohaus\", \"snapshot\"]\n",
    "SPLITS_FREQ = \"W-THU\"\n",
    "SPLITS_NORMALIZE = True\n",
    "LAST_SPLITS = 10\n",
    "USE_ORG_NAMES = True\n",
    "EXECUTION_ID = \"2024-03-08 10:00\"\n",
    "DO_TRAIN = True\n",
    "CUTOFF_DATE_STR = \"2020-11-06\"\n"
   ]
  },
  {
   "cell_type": "code",
   "execution_count": 4,
   "id": "cfac4b5c-ec42-4f16-9ba7-318f6a3480cc",
   "metadata": {
    "editable": true,
    "execution": {
     "iopub.execute_input": "2024-03-11T17:25:15.849841Z",
     "iopub.status.busy": "2024-03-11T17:25:15.849622Z",
     "iopub.status.idle": "2024-03-11T17:25:15.853678Z",
     "shell.execute_reply": "2024-03-11T17:25:15.853292Z"
    },
    "papermill": {
     "duration": 0.006824,
     "end_time": "2024-03-11T17:25:15.854375",
     "exception": false,
     "start_time": "2024-03-11T17:25:15.847551",
     "status": "completed"
    },
    "slideshow": {
     "slide_type": ""
    },
    "tags": []
   },
   "outputs": [
    {
     "data": {
      "text/markdown": [
       "```mermaid\n",
       "graph LR\n",
       "10_baseline --> 20_results\n",
       "\n",
       "10_baseline --> 11_pln-tune -.-> 12_hybrid\n",
       "07_microsoft_tuning --> 09_analyze_results --> 12_hybrid\n",
       "12_hybrid --> 20_results\n",
       "10_baseline --> 09_analyze_results\n",
       "```"
      ],
      "text/plain": [
       "<IPython.core.display.Markdown object>"
      ]
     },
     "execution_count": 4,
     "metadata": {},
     "output_type": "execute_result"
    }
   ],
   "source": [
    "# Display the diagram from the README.md\n",
    "\n",
    "README = Path('./README.md')\n",
    "\n",
    "with open(README, 'r') as f:\n",
    "    diagrams = re.findall(r'```mermaid[\\s\\S]*```', f.read())\n",
    "\n",
    "Markdown(\"\\n\".join(diagrams))"
   ]
  },
  {
   "cell_type": "markdown",
   "id": "aa7c0382-7d7e-45bb-bb72-a6d0d52a6b54",
   "metadata": {
    "editable": true,
    "papermill": {
     "duration": 0.001822,
     "end_time": "2024-03-11T17:25:15.858073",
     "exception": false,
     "start_time": "2024-03-11T17:25:15.856251",
     "status": "completed"
    },
    "slideshow": {
     "slide_type": ""
    },
    "tags": []
   },
   "source": [
    "## Define some common things"
   ]
  },
  {
   "cell_type": "code",
   "execution_count": 5,
   "id": "f30ef62e-ce8c-4caf-9e1e-ac40c2383068",
   "metadata": {
    "editable": true,
    "execution": {
     "iopub.execute_input": "2024-03-11T17:25:15.862547Z",
     "iopub.status.busy": "2024-03-11T17:25:15.862217Z",
     "iopub.status.idle": "2024-03-11T17:25:15.865124Z",
     "shell.execute_reply": "2024-03-11T17:25:15.864829Z"
    },
    "papermill": {
     "duration": 0.005834,
     "end_time": "2024-03-11T17:25:15.865713",
     "exception": false,
     "start_time": "2024-03-11T17:25:15.859879",
     "status": "completed"
    },
    "slideshow": {
     "slide_type": ""
    },
    "tags": []
   },
   "outputs": [],
   "source": [
    "import nbformat\n",
    "\n",
    "def is_increasing(l):\n",
    "    return (not l) or all(x<y for x,y in zip(l, l[1:]))\n",
    "\n",
    "def isCompleted(fname):\n",
    "    nb = nbformat.read(fname, as_version=4)\n",
    "    execution_counts = [c['execution_count'] for c in nb['cells'] if c['cell_type'] == 'code' and c['source'].strip()]\n",
    "    \n",
    "    return all((x is not None for x in execution_counts)) and is_increasing(execution_counts)\n",
    "\n",
    "# print(isCompleted('nbout/Decentraland/04c_dao-census-onedao.ipynb'))\n",
    "# print(isCompleted('nbout/Balancer/10_baseline_mp.ipynb'))"
   ]
  },
  {
   "cell_type": "code",
   "execution_count": 6,
   "id": "2060e67c-c685-4c3c-82f9-e348bb89fcda",
   "metadata": {
    "editable": true,
    "execution": {
     "iopub.execute_input": "2024-03-11T17:25:15.869835Z",
     "iopub.status.busy": "2024-03-11T17:25:15.869711Z",
     "iopub.status.idle": "2024-03-11T17:25:15.871514Z",
     "shell.execute_reply": "2024-03-11T17:25:15.871299Z"
    },
    "papermill": {
     "duration": 0.004538,
     "end_time": "2024-03-11T17:25:15.872096",
     "exception": false,
     "start_time": "2024-03-11T17:25:15.867558",
     "status": "completed"
    },
    "slideshow": {
     "slide_type": ""
    },
    "tags": []
   },
   "outputs": [],
   "source": [
    "def getOldExec(fname):\n",
    "    nb = nbformat.read(fname, as_version=4)\n",
    "    return nb.metadata['papermill']['parameters'].get('EXECUTION_ID')\n",
    "\n",
    "# isSameExec(fname = 'nbout/Decentraland/04c_dao-census-onedao.ipynb')"
   ]
  },
  {
   "cell_type": "code",
   "execution_count": 7,
   "id": "bea30b95-7f15-49c6-a0e4-951b2b60e26e",
   "metadata": {
    "editable": true,
    "execution": {
     "iopub.execute_input": "2024-03-11T17:25:15.876236Z",
     "iopub.status.busy": "2024-03-11T17:25:15.876118Z",
     "iopub.status.idle": "2024-03-11T17:25:15.879333Z",
     "shell.execute_reply": "2024-03-11T17:25:15.879113Z"
    },
    "papermill": {
     "duration": 0.005979,
     "end_time": "2024-03-11T17:25:15.879938",
     "exception": false,
     "start_time": "2024-03-11T17:25:15.873959",
     "status": "completed"
    },
    "slideshow": {
     "slide_type": ""
    },
    "tags": []
   },
   "outputs": [],
   "source": [
    "def run_notebook(name):\n",
    "    assert Path(name).exists(), f\"No existe el fichero {name}\"\n",
    "    \n",
    "    outpath = Path(f'./nbout/{ORG_NAME.replace(\" / \", \"_\")}')\n",
    "    outpath.mkdir(parents=True, exist_ok=True)\n",
    "    outfile = outpath/name\n",
    "\n",
    "    params = pm.inspect_notebook(name)\n",
    "    for p in ['ORG_NAME', 'ORG_PLATFORM', 'SPLITS_FREQ', 'SPLITS_NORMALIZE', 'LAST_SPLITS', 'USE_ORG_NAMES', 'CUTOFF_DATE_STR']:\n",
    "        assert p in params, f'{p} is not in notebook params'\n",
    "\n",
    "    if outfile.exists() and EXECUTION_ID:\n",
    "        oldExec = getOldExec(outfile)\n",
    "        \n",
    "        if oldExec == EXECUTION_ID and isCompleted(outfile):\n",
    "            print(f\"Skipping {outfile} with EXECUTION_ID {EXECUTION_ID}\")\n",
    "            return\n",
    "        elif oldExec != EXECUTION_ID:\n",
    "            print(f\"Different exec, re-running ({oldExec} != {EXECUTION_ID})\")\n",
    "        else:\n",
    "            print(f\"Was not complete, re-running\")\n",
    "    \n",
    "    pm.execute_notebook(\n",
    "        name, \n",
    "        outfile,\n",
    "        autosave_cell_every=30,\n",
    "        parameters=dict(\n",
    "            ORG_NAME = ORG_NAME,\n",
    "            ORG_PLATFORM = ORG_PLATFORM,\n",
    "            SPLITS_FREQ = SPLITS_FREQ,\n",
    "            SPLITS_NORMALIZE = SPLITS_NORMALIZE,\n",
    "            LAST_SPLITS = LAST_SPLITS,\n",
    "            USE_ORG_NAMES = USE_ORG_NAMES,\n",
    "            EXECUTION_ID = EXECUTION_ID,\n",
    "            CUTOFF_DATE_STR = CUTOFF_DATE_STR,\n",
    "        ),\n",
    "    )\n",
    "# run_notebook('11_pln-tune.ipynb', 'snapshot', 'Decentraland')"
   ]
  },
  {
   "cell_type": "markdown",
   "id": "e626cf81-65e9-4f6e-8271-574428439839",
   "metadata": {
    "editable": true,
    "papermill": {
     "duration": 0.002005,
     "end_time": "2024-03-11T17:25:15.883981",
     "exception": false,
     "start_time": "2024-03-11T17:25:15.881976",
     "status": "completed"
    },
    "slideshow": {
     "slide_type": ""
    },
    "tags": []
   },
   "source": [
    "## Run data from dao"
   ]
  },
  {
   "cell_type": "code",
   "execution_count": 8,
   "id": "74e51fce-f006-4861-be7b-5cd7124bb3d7",
   "metadata": {
    "editable": true,
    "execution": {
     "iopub.execute_input": "2024-03-11T17:25:15.888720Z",
     "iopub.status.busy": "2024-03-11T17:25:15.888598Z",
     "iopub.status.idle": "2024-03-11T17:25:15.955258Z",
     "shell.execute_reply": "2024-03-11T17:25:15.954978Z"
    },
    "papermill": {
     "duration": 0.070703,
     "end_time": "2024-03-11T17:25:15.956595",
     "exception": false,
     "start_time": "2024-03-11T17:25:15.885892",
     "status": "completed"
    },
    "slideshow": {
     "slide_type": ""
    },
    "tags": []
   },
   "outputs": [
    {
     "name": "stdout",
     "output_type": "stream",
     "text": [
      "Skipping nbout/MetaCartel - MetaCartel Ventures/04c_dao-census-onedao.ipynb with EXECUTION_ID 2024-03-08 10:00\n"
     ]
    }
   ],
   "source": [
    "#papermill_description=dao-census\n",
    "run_notebook('04c_dao-census-onedao.ipynb')"
   ]
  },
  {
   "cell_type": "markdown",
   "id": "8aef0f68-2a8c-4896-ba90-728060074715",
   "metadata": {
    "editable": true,
    "papermill": {
     "duration": 0.002311,
     "end_time": "2024-03-11T17:25:15.961337",
     "exception": false,
     "start_time": "2024-03-11T17:25:15.959026",
     "status": "completed"
    },
    "slideshow": {
     "slide_type": ""
    },
    "tags": []
   },
   "source": [
    "## Run baseline"
   ]
  },
  {
   "cell_type": "code",
   "execution_count": 9,
   "id": "abc14ace-3f95-4392-b6c2-9d0f125974de",
   "metadata": {
    "editable": true,
    "execution": {
     "iopub.execute_input": "2024-03-11T17:25:15.966330Z",
     "iopub.status.busy": "2024-03-11T17:25:15.966208Z",
     "iopub.status.idle": "2024-03-11T17:25:15.986353Z",
     "shell.execute_reply": "2024-03-11T17:25:15.986089Z"
    },
    "papermill": {
     "duration": 0.02376,
     "end_time": "2024-03-11T17:25:15.987119",
     "exception": false,
     "start_time": "2024-03-11T17:25:15.963359",
     "status": "completed"
    },
    "slideshow": {
     "slide_type": ""
    },
    "tags": []
   },
   "outputs": [
    {
     "name": "stdout",
     "output_type": "stream",
     "text": [
      "Skipping nbout/MetaCartel - MetaCartel Ventures/10_baseline_mp.ipynb with EXECUTION_ID 2024-03-08 10:00\n"
     ]
    }
   ],
   "source": [
    "#papermill_description=baseline\n",
    "run_notebook('10_baseline_mp.ipynb')"
   ]
  },
  {
   "cell_type": "code",
   "execution_count": 10,
   "id": "537f43d0-fc8c-4dc5-b106-f7e936b90e2c",
   "metadata": {
    "editable": true,
    "execution": {
     "iopub.execute_input": "2024-03-11T17:25:15.992213Z",
     "iopub.status.busy": "2024-03-11T17:25:15.992066Z",
     "iopub.status.idle": "2024-03-11T17:25:15.993815Z",
     "shell.execute_reply": "2024-03-11T17:25:15.993602Z"
    },
    "papermill": {
     "duration": 0.005364,
     "end_time": "2024-03-11T17:25:15.994485",
     "exception": false,
     "start_time": "2024-03-11T17:25:15.989121",
     "status": "completed"
    },
    "slideshow": {
     "slide_type": ""
    },
    "tags": []
   },
   "outputs": [],
   "source": [
    "#papermill_description=check_train\n",
    "import sys\n",
    "if not DO_TRAIN: \n",
    "    sys.exit(0)"
   ]
  },
  {
   "cell_type": "markdown",
   "id": "78d51e15-69d2-41f8-bb9c-0cd18a288b3a",
   "metadata": {
    "editable": true,
    "papermill": {
     "duration": 0.002012,
     "end_time": "2024-03-11T17:25:15.998483",
     "exception": false,
     "start_time": "2024-03-11T17:25:15.996471",
     "status": "completed"
    },
    "slideshow": {
     "slide_type": ""
    },
    "tags": []
   },
   "source": [
    "## Run pln_tune"
   ]
  },
  {
   "cell_type": "code",
   "execution_count": 11,
   "id": "7372d911-aec8-41ae-bd91-8ede877c9a37",
   "metadata": {
    "editable": true,
    "execution": {
     "iopub.execute_input": "2024-03-11T17:25:16.003640Z",
     "iopub.status.busy": "2024-03-11T17:25:16.003381Z",
     "iopub.status.idle": "2024-03-11T17:25:16.052352Z",
     "shell.execute_reply": "2024-03-11T17:25:16.051829Z"
    },
    "papermill": {
     "duration": 0.052731,
     "end_time": "2024-03-11T17:25:16.053150",
     "exception": false,
     "start_time": "2024-03-11T17:25:16.000419",
     "status": "completed"
    },
    "slideshow": {
     "slide_type": ""
    },
    "tags": []
   },
   "outputs": [
    {
     "name": "stdout",
     "output_type": "stream",
     "text": [
      "Skipping nbout/MetaCartel - MetaCartel Ventures/11_pln-tune.ipynb with EXECUTION_ID 2024-03-08 10:00\n"
     ]
    }
   ],
   "source": [
    "#papermill_description=pln_tune\n",
    "# if paths.pln_mdf(ORG_NAME, SPLITS_FREQ, SPLITS_NORMALIZE).exists():\n",
    "#     print(f\"Skipping {ORG_NAME} because it has been done\")    \n",
    "run_notebook('11_pln-tune.ipynb')"
   ]
  },
  {
   "cell_type": "markdown",
   "id": "3c84bcf4-17c0-4282-8bd0-28aa9e997bbd",
   "metadata": {
    "editable": true,
    "papermill": {
     "duration": 0.002206,
     "end_time": "2024-03-11T17:25:16.057719",
     "exception": false,
     "start_time": "2024-03-11T17:25:16.055513",
     "status": "completed"
    },
    "slideshow": {
     "slide_type": ""
    },
    "tags": []
   },
   "source": [
    "## Run microsoft_tuning"
   ]
  },
  {
   "cell_type": "code",
   "execution_count": 12,
   "id": "ca56c9f7-d77d-4741-8064-13efe089b0de",
   "metadata": {
    "editable": true,
    "execution": {
     "iopub.execute_input": "2024-03-11T17:25:16.063276Z",
     "iopub.status.busy": "2024-03-11T17:25:16.063095Z",
     "iopub.status.idle": "2024-03-11T17:25:16.077854Z",
     "shell.execute_reply": "2024-03-11T17:25:16.077500Z"
    },
    "papermill": {
     "duration": 0.018532,
     "end_time": "2024-03-11T17:25:16.078565",
     "exception": false,
     "start_time": "2024-03-11T17:25:16.060033",
     "status": "completed"
    },
    "slideshow": {
     "slide_type": ""
    },
    "tags": []
   },
   "outputs": [
    {
     "name": "stdout",
     "output_type": "stream",
     "text": [
      "Skipping nbout/MetaCartel - MetaCartel Ventures/07_microsoft_tuning.ipynb with EXECUTION_ID 2024-03-08 10:00\n"
     ]
    }
   ],
   "source": [
    "#papermill_description=microsoft\n",
    "run_notebook('07_microsoft_tuning.ipynb')"
   ]
  },
  {
   "cell_type": "markdown",
   "id": "4f63d888-57d4-4a76-9565-bc382ea442e7",
   "metadata": {
    "editable": true,
    "papermill": {
     "duration": 0.002146,
     "end_time": "2024-03-11T17:25:16.082774",
     "exception": false,
     "start_time": "2024-03-11T17:25:16.080628",
     "status": "completed"
    },
    "slideshow": {
     "slide_type": ""
    },
    "tags": []
   },
   "source": [
    "## Run analyze_results"
   ]
  },
  {
   "cell_type": "code",
   "execution_count": 13,
   "id": "4d107b93-08e5-411a-8925-c6784c711709",
   "metadata": {
    "editable": true,
    "execution": {
     "iopub.execute_input": "2024-03-11T17:25:16.087955Z",
     "iopub.status.busy": "2024-03-11T17:25:16.087814Z",
     "iopub.status.idle": "2024-03-11T17:25:16.209384Z",
     "shell.execute_reply": "2024-03-11T17:25:16.208840Z"
    },
    "papermill": {
     "duration": 0.125564,
     "end_time": "2024-03-11T17:25:16.210345",
     "exception": false,
     "start_time": "2024-03-11T17:25:16.084781",
     "status": "completed"
    },
    "slideshow": {
     "slide_type": ""
    },
    "tags": []
   },
   "outputs": [
    {
     "name": "stdout",
     "output_type": "stream",
     "text": [
      "Skipping nbout/MetaCartel - MetaCartel Ventures/09_analyze_results.ipynb with EXECUTION_ID 2024-03-08 10:00\n"
     ]
    }
   ],
   "source": [
    "#papermill_description=analyze\n",
    "nb = run_notebook('09_analyze_results.ipynb')"
   ]
  },
  {
   "cell_type": "markdown",
   "id": "53ff9453-531a-40da-8e03-870c77e30504",
   "metadata": {
    "editable": true,
    "papermill": {
     "duration": 0.002261,
     "end_time": "2024-03-11T17:25:16.214911",
     "exception": false,
     "start_time": "2024-03-11T17:25:16.212650",
     "status": "completed"
    },
    "slideshow": {
     "slide_type": ""
    },
    "tags": []
   },
   "source": [
    "## Run hybrid"
   ]
  },
  {
   "cell_type": "code",
   "execution_count": 14,
   "id": "a7705d51-3dd1-41ed-92a9-995a8cd263e4",
   "metadata": {
    "editable": true,
    "execution": {
     "iopub.execute_input": "2024-03-11T17:25:16.220477Z",
     "iopub.status.busy": "2024-03-11T17:25:16.220299Z",
     "iopub.status.idle": "2024-03-11T17:25:16.267979Z",
     "shell.execute_reply": "2024-03-11T17:25:16.267455Z"
    },
    "papermill": {
     "duration": 0.051985,
     "end_time": "2024-03-11T17:25:16.269009",
     "exception": false,
     "start_time": "2024-03-11T17:25:16.217024",
     "status": "completed"
    },
    "slideshow": {
     "slide_type": ""
    },
    "tags": []
   },
   "outputs": [
    {
     "name": "stdout",
     "output_type": "stream",
     "text": [
      "Skipping nbout/MetaCartel - MetaCartel Ventures/12_hybrid.ipynb with EXECUTION_ID 2024-03-08 10:00\n"
     ]
    }
   ],
   "source": [
    "#papermill_description=hybrid\n",
    "run_notebook('12_hybrid.ipynb')"
   ]
  },
  {
   "cell_type": "markdown",
   "id": "da0e9e21-fb45-4ced-a82e-2b06529f082a",
   "metadata": {
    "papermill": {
     "duration": 0.002272,
     "end_time": "2024-03-11T17:25:16.273642",
     "exception": false,
     "start_time": "2024-03-11T17:25:16.271370",
     "status": "completed"
    },
    "tags": []
   },
   "source": [
    "## Run results"
   ]
  },
  {
   "cell_type": "code",
   "execution_count": 15,
   "id": "27450d01-bbd9-47d1-9827-dd415209bd74",
   "metadata": {
    "execution": {
     "iopub.execute_input": "2024-03-11T17:25:16.279413Z",
     "iopub.status.busy": "2024-03-11T17:25:16.279226Z",
     "iopub.status.idle": "2024-03-11T17:25:16.286006Z",
     "shell.execute_reply": "2024-03-11T17:25:16.285652Z"
    },
    "papermill": {
     "duration": 0.010666,
     "end_time": "2024-03-11T17:25:16.286756",
     "exception": false,
     "start_time": "2024-03-11T17:25:16.276090",
     "status": "completed"
    },
    "tags": []
   },
   "outputs": [
    {
     "name": "stdout",
     "output_type": "stream",
     "text": [
      "Skipping nbout/MetaCartel - MetaCartel Ventures/20_results.ipynb with EXECUTION_ID 2024-03-08 10:00\n"
     ]
    }
   ],
   "source": [
    "#papermill_description=results\n",
    "run_notebook('20_results.ipynb')"
   ]
  }
 ],
 "metadata": {
  "kernelspec": {
   "display_name": "Python 3 (ipykernel)",
   "language": "python",
   "name": "python3"
  },
  "language_info": {
   "codemirror_mode": {
    "name": "ipython",
    "version": 3
   },
   "file_extension": ".py",
   "mimetype": "text/x-python",
   "name": "python",
   "nbconvert_exporter": "python",
   "pygments_lexer": "ipython3",
   "version": "3.9.18"
  },
  "papermill": {
   "default_parameters": {},
   "duration": 1.794823,
   "end_time": "2024-03-11T17:25:16.505855",
   "environment_variables": {},
   "exception": null,
   "input_path": "30_run_one.ipynb",
   "output_path": "nbout/MetaCartel - MetaCartel Ventures/30_run_one.ipynb",
   "parameters": {
    "CUTOFF_DATE_STR": "2020-11-06",
    "DO_TRAIN": true,
    "EXECUTION_ID": "2024-03-08 10:00",
    "LAST_SPLITS": 10,
    "ORG_NAME": "MetaCartel - MetaCartel Ventures",
    "ORG_PLATFORM": [
     "daohaus",
     "snapshot"
    ],
    "SPLITS_FREQ": "W-THU",
    "SPLITS_NORMALIZE": true,
    "USE_ORG_NAMES": true
   },
   "start_time": "2024-03-11T17:25:14.711032",
   "version": "2.5.0"
  },
  "widgets": {
   "application/vnd.jupyter.widget-state+json": {
    "state": {},
    "version_major": 2,
    "version_minor": 0
   }
  }
 },
 "nbformat": 4,
 "nbformat_minor": 5
}