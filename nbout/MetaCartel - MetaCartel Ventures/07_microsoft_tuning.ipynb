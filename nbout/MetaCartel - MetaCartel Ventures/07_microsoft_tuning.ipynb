{
 "cells": [
  {
   "cell_type": "code",
   "execution_count": 1,
   "id": "cf98a9e1-f3e0-4c0a-96c1-30f305901246",
   "metadata": {
    "editable": true,
    "execution": {
     "iopub.execute_input": "2024-03-22T00:52:59.175587Z",
     "iopub.status.busy": "2024-03-22T00:52:59.175479Z",
     "iopub.status.idle": "2024-03-22T00:53:01.610506Z",
     "shell.execute_reply": "2024-03-22T00:53:01.610119Z"
    },
    "papermill": {
     "duration": 2.439066,
     "end_time": "2024-03-22T00:53:01.611408",
     "exception": false,
     "start_time": "2024-03-22T00:52:59.172342",
     "status": "completed"
    },
    "slideshow": {
     "slide_type": ""
    },
    "tags": []
   },
   "outputs": [
    {
     "name": "stdout",
     "output_type": "stream",
     "text": [
      "Python version 3.9.18 (main, Oct 24 2023, 09:18:18) \n",
      "[GCC 11.4.0]\n"
     ]
    },
    {
     "name": "stderr",
     "output_type": "stream",
     "text": [
      "2024-03-22 00:52:59.509098: E tensorflow/compiler/xla/stream_executor/cuda/cuda_dnn.cc:9342] Unable to register cuDNN factory: Attempting to register factory for plugin cuDNN when one has already been registered\n",
      "2024-03-22 00:52:59.509119: E tensorflow/compiler/xla/stream_executor/cuda/cuda_fft.cc:609] Unable to register cuFFT factory: Attempting to register factory for plugin cuFFT when one has already been registered\n",
      "2024-03-22 00:52:59.509136: E tensorflow/compiler/xla/stream_executor/cuda/cuda_blas.cc:1518] Unable to register cuBLAS factory: Attempting to register factory for plugin cuBLAS when one has already been registered\n"
     ]
    },
    {
     "name": "stdout",
     "output_type": "stream",
     "text": [
      "11.8 8\n",
      "Ray version: 2.9.1\n"
     ]
    }
   ],
   "source": [
    "from typing import Dict, List, Tuple, Union, Any, Optional\n",
    "\n",
    "import os\n",
    "import sys\n",
    "import time\n",
    "print(\"Python version\", sys.version)\n",
    "\n",
    "# Ignore pandas warnings\n",
    "import warnings\n",
    "warnings.simplefilter(action='ignore', category=FutureWarning)\n",
    "\n",
    "from pathlib import Path\n",
    "\n",
    "import pandas as pd\n",
    "import numpy as np\n",
    "import tensorflow as tf\n",
    "import datetime as dt\n",
    "\n",
    "from tqdm.autonotebook import tqdm\n",
    "\n",
    "import ray\n",
    "from ray import train, tune\n",
    "\n",
    "from src.datasets import daocensus_text\n",
    "\n",
    "%load_ext autoreload\n",
    "%autoreload 2\n",
    "\n",
    "tf.get_logger().setLevel('WARNING')\n",
    "\n",
    "tf.config.list_physical_devices(\"GPU\")\n",
    "sys_details = tf.sysconfig.get_build_info()\n",
    "cuda = sys_details.get(\"cuda_version\", -1)\n",
    "cudnn = sys_details.get(\"cudnn_version\", -1)\n",
    "print(cuda, cudnn)\n",
    "print('Ray version:', ray.__version__)"
   ]
  },
  {
   "cell_type": "code",
   "execution_count": 2,
   "id": "798161a7-5414-4626-9dfb-6d71823bf4c7",
   "metadata": {
    "editable": true,
    "execution": {
     "iopub.execute_input": "2024-03-22T00:53:01.617618Z",
     "iopub.status.busy": "2024-03-22T00:53:01.617382Z",
     "iopub.status.idle": "2024-03-22T00:53:01.639589Z",
     "shell.execute_reply": "2024-03-22T00:53:01.639350Z"
    },
    "papermill": {
     "duration": 0.02616,
     "end_time": "2024-03-22T00:53:01.640450",
     "exception": false,
     "start_time": "2024-03-22T00:53:01.614290",
     "status": "completed"
    },
    "slideshow": {
     "slide_type": ""
    },
    "tags": [
     "parameters"
    ]
   },
   "outputs": [],
   "source": [
    "# Others config\n",
    "SEED: int = 57\n",
    "RAY_RESULTS_PATH: Path = Path('~/ray_results').expanduser()\n",
    "\n",
    "# Dataset config\n",
    "ORG_NAME = 'Decentraland'\n",
    "ORG_PLATFORM = 'snapshot'\n",
    "USE_ORG_NAMES: bool = False\n",
    "CUTOFF_DATE_STR: str = None\n",
    "\n",
    "# Dataset splits config\n",
    "SPLITS_FREQ = 'W-THU' # Split weekly\n",
    "LAST_SPLITS = 10 # Use just last 10 splits\n",
    "SPLITS_NORMALIZE = True\n",
    "\n",
    "# Training config\n",
    "MAX_EPOCHS: int = 200\n",
    "EPOCHS_PER_ITER: int = 5\n",
    "SAMPLES_PER_SPLIT: int = 100\n",
    "OPTIM_METRIC: str = 'map@10'\n",
    "\n",
    "# Eval config\n",
    "TOP_K: List[int] = [5, 10]\n",
    "METRICS: List[str] = [\"recall\", \"ndcg\", \"precision\", \"map\"]"
   ]
  },
  {
   "cell_type": "code",
   "execution_count": 3,
   "id": "4fb0f7c0",
   "metadata": {
    "execution": {
     "iopub.execute_input": "2024-03-22T00:53:01.645686Z",
     "iopub.status.busy": "2024-03-22T00:53:01.645544Z",
     "iopub.status.idle": "2024-03-22T00:53:01.666048Z",
     "shell.execute_reply": "2024-03-22T00:53:01.665814Z"
    },
    "papermill": {
     "duration": 0.024205,
     "end_time": "2024-03-22T00:53:01.666890",
     "exception": false,
     "start_time": "2024-03-22T00:53:01.642685",
     "status": "completed"
    },
    "tags": [
     "injected-parameters"
    ]
   },
   "outputs": [],
   "source": [
    "# Parameters\n",
    "ORG_NAME = \"MetaCartel - MetaCartel Ventures\"\n",
    "ORG_PLATFORM = [\"daohaus\", \"snapshot\"]\n",
    "SPLITS_FREQ = \"W-THU\"\n",
    "SPLITS_NORMALIZE = True\n",
    "LAST_SPLITS = 10\n",
    "USE_ORG_NAMES = True\n",
    "EXECUTION_ID = \"2024-03-21\"\n",
    "CUTOFF_DATE_STR = \"2020-11-06\"\n"
   ]
  },
  {
   "cell_type": "code",
   "execution_count": 4,
   "id": "cb3db761-9d3b-4a8b-9164-1008f2e8bab5",
   "metadata": {
    "execution": {
     "iopub.execute_input": "2024-03-22T00:53:01.671928Z",
     "iopub.status.busy": "2024-03-22T00:53:01.671788Z",
     "iopub.status.idle": "2024-03-22T00:53:01.689074Z",
     "shell.execute_reply": "2024-03-22T00:53:01.688762Z"
    },
    "papermill": {
     "duration": 0.020817,
     "end_time": "2024-03-22T00:53:01.689905",
     "exception": false,
     "start_time": "2024-03-22T00:53:01.669088",
     "status": "completed"
    },
    "tags": []
   },
   "outputs": [],
   "source": [
    "CUTOFF_DATE = dt.datetime.fromisoformat(CUTOFF_DATE_STR) if CUTOFF_DATE_STR else None"
   ]
  },
  {
   "cell_type": "markdown",
   "id": "ab0ff2f2-bdaa-46eb-87d1-c4481734b8c0",
   "metadata": {
    "papermill": {
     "duration": 0.002288,
     "end_time": "2024-03-22T00:53:01.694371",
     "exception": false,
     "start_time": "2024-03-22T00:53:01.692083",
     "status": "completed"
    },
    "tags": []
   },
   "source": [
    "# Load data"
   ]
  },
  {
   "cell_type": "code",
   "execution_count": 5,
   "id": "765a4892-6a85-40ab-a65d-c0d76b0569b2",
   "metadata": {
    "editable": true,
    "execution": {
     "iopub.execute_input": "2024-03-22T00:53:01.699210Z",
     "iopub.status.busy": "2024-03-22T00:53:01.699071Z",
     "iopub.status.idle": "2024-03-22T00:53:02.630927Z",
     "shell.execute_reply": "2024-03-22T00:53:02.630478Z"
    },
    "papermill": {
     "duration": 0.935533,
     "end_time": "2024-03-22T00:53:02.631949",
     "exception": false,
     "start_time": "2024-03-22T00:53:01.696416",
     "status": "completed"
    },
    "scrolled": true,
    "slideshow": {
     "slide_type": ""
    },
    "tags": []
   },
   "outputs": [
    {
     "name": "stdout",
     "output_type": "stream",
     "text": [
      "Warning, removing 1105 votes without proposal\n",
      "<class 'pandas.core.frame.DataFrame'>\n",
      "Int64Index: 1105 entries, 0 to 1104\n",
      "Data columns (total 10 columns):\n",
      " #   Column         Non-Null Count  Dtype         \n",
      "---  ------         --------------  -----         \n",
      " 0   platform       1105 non-null   object        \n",
      " 1   name           1105 non-null   object        \n",
      " 2   id             1105 non-null   object        \n",
      " 3   proposal       1105 non-null   category      \n",
      " 4   deployment     1105 non-null   object        \n",
      " 5   platform_vote  1105 non-null   object        \n",
      " 6   voter          1105 non-null   category      \n",
      " 7   date           1105 non-null   datetime64[ns]\n",
      " 8   choice         1105 non-null   object        \n",
      " 9   weight         686 non-null    float64       \n",
      "dtypes: category(2), datetime64[ns](1), float64(1), object(6)\n",
      "memory usage: 84.6+ KB\n",
      "None\n",
      "<class 'pandas.core.frame.DataFrame'>\n",
      "Int64Index: 373 entries, 0 to 372\n",
      "Data columns (total 13 columns):\n",
      " #   Column               Non-Null Count  Dtype         \n",
      "---  ------               --------------  -----         \n",
      " 0   platform             373 non-null    object        \n",
      " 1   name                 373 non-null    object        \n",
      " 2   platform_deployment  373 non-null    object        \n",
      " 3   id                   373 non-null    category      \n",
      " 4   deployment           373 non-null    object        \n",
      " 5   platform_proposal    373 non-null    object        \n",
      " 6   author               373 non-null    category      \n",
      " 7   date                 373 non-null    datetime64[ns]\n",
      " 8   title                372 non-null    object        \n",
      " 9   description          373 non-null    object        \n",
      " 10  start                373 non-null    datetime64[ns]\n",
      " 11  end                  231 non-null    datetime64[ns]\n",
      " 12  votes_count          373 non-null    int64         \n",
      "dtypes: category(2), datetime64[ns](3), int64(1), object(7)\n",
      "memory usage: 39.7+ KB\n",
      "None\n"
     ]
    }
   ],
   "source": [
    "# dfptext = pd.read_csv('./snapshot_proposals.csv')[['proposal_id', 'title', 'description', 'start', 'end']]\n",
    "# dfv, dfp = daocensus.get(\"./data/daos-census\", ORG_NAME, 'snapshot')\n",
    "# dfv['voter'] = dfv['voter'].astype('str')\n",
    "# dfp = dfp.merge(dfptext, how='left', left_on='platform_proposal', right_on='proposal_id')\n",
    "# dfp[['start', 'end']] = dfp[['start', 'end']].astype('datetime64')\n",
    "\n",
    "dfv, dfp = daocensus_text.get(\"./data/daos-census-text\", ORG_NAME, ORG_PLATFORM, use_org_names=USE_ORG_NAMES, cutoff_date=CUTOFF_DATE)\n",
    "print(dfv.info())\n",
    "print(dfp.info())"
   ]
  },
  {
   "cell_type": "markdown",
   "id": "df339c08-4f99-4933-886c-6ab774f09e63",
   "metadata": {
    "papermill": {
     "duration": 0.002573,
     "end_time": "2024-03-22T00:53:02.637432",
     "exception": false,
     "start_time": "2024-03-22T00:53:02.634859",
     "status": "completed"
    },
    "tags": []
   },
   "source": [
    "## Transform data"
   ]
  },
  {
   "cell_type": "code",
   "execution_count": 6,
   "id": "4b003927-cfab-4f9a-91f8-1376f038f82e",
   "metadata": {
    "execution": {
     "iopub.execute_input": "2024-03-22T00:53:02.642718Z",
     "iopub.status.busy": "2024-03-22T00:53:02.642596Z",
     "iopub.status.idle": "2024-03-22T00:53:02.669433Z",
     "shell.execute_reply": "2024-03-22T00:53:02.669199Z"
    },
    "papermill": {
     "duration": 0.030476,
     "end_time": "2024-03-22T00:53:02.670222",
     "exception": false,
     "start_time": "2024-03-22T00:53:02.639746",
     "status": "completed"
    },
    "tags": []
   },
   "outputs": [
    {
     "data": {
      "text/html": [
       "<div>\n",
       "<style scoped>\n",
       "    .dataframe tbody tr th:only-of-type {\n",
       "        vertical-align: middle;\n",
       "    }\n",
       "\n",
       "    .dataframe tbody tr th {\n",
       "        vertical-align: top;\n",
       "    }\n",
       "\n",
       "    .dataframe thead th {\n",
       "        text-align: right;\n",
       "    }\n",
       "</style>\n",
       "<table border=\"1\" class=\"dataframe\">\n",
       "  <thead>\n",
       "    <tr style=\"text-align: right;\">\n",
       "      <th></th>\n",
       "      <th>userID</th>\n",
       "      <th>itemID</th>\n",
       "      <th>timestamp</th>\n",
       "      <th>rating</th>\n",
       "    </tr>\n",
       "  </thead>\n",
       "  <tbody>\n",
       "    <tr>\n",
       "      <th>0</th>\n",
       "      <td>0x0eabffd8ce94ab2387fc44ba32642af0c58af433</td>\n",
       "      <td>b23fab43-3b08-5638-b13d-0e286cadb04b</td>\n",
       "      <td>2020-04-01 03:11:46</td>\n",
       "      <td>1</td>\n",
       "    </tr>\n",
       "    <tr>\n",
       "      <th>1</th>\n",
       "      <td>0x0eabffd8ce94ab2387fc44ba32642af0c58af433</td>\n",
       "      <td>18f8c9fd-9796-5802-ab78-b449c65ffb50</td>\n",
       "      <td>2020-06-17 03:08:43</td>\n",
       "      <td>1</td>\n",
       "    </tr>\n",
       "    <tr>\n",
       "      <th>2</th>\n",
       "      <td>0x0eabffd8ce94ab2387fc44ba32642af0c58af433</td>\n",
       "      <td>2a062f74-c7cb-5625-b8ba-537b23ae5318</td>\n",
       "      <td>2019-07-25 20:06:53</td>\n",
       "      <td>1</td>\n",
       "    </tr>\n",
       "    <tr>\n",
       "      <th>3</th>\n",
       "      <td>0x0eabffd8ce94ab2387fc44ba32642af0c58af433</td>\n",
       "      <td>3eff52ec-93aa-5c41-9ff2-3a18d278d138</td>\n",
       "      <td>2019-07-30 18:13:46</td>\n",
       "      <td>1</td>\n",
       "    </tr>\n",
       "    <tr>\n",
       "      <th>4</th>\n",
       "      <td>0x0eabffd8ce94ab2387fc44ba32642af0c58af433</td>\n",
       "      <td>b21a24a0-1a16-55a1-8c0e-c97ed7cf8e69</td>\n",
       "      <td>2019-08-06 18:25:25</td>\n",
       "      <td>1</td>\n",
       "    </tr>\n",
       "  </tbody>\n",
       "</table>\n",
       "</div>"
      ],
      "text/plain": [
       "                                       userID  \\\n",
       "0  0x0eabffd8ce94ab2387fc44ba32642af0c58af433   \n",
       "1  0x0eabffd8ce94ab2387fc44ba32642af0c58af433   \n",
       "2  0x0eabffd8ce94ab2387fc44ba32642af0c58af433   \n",
       "3  0x0eabffd8ce94ab2387fc44ba32642af0c58af433   \n",
       "4  0x0eabffd8ce94ab2387fc44ba32642af0c58af433   \n",
       "\n",
       "                                 itemID           timestamp  rating  \n",
       "0  b23fab43-3b08-5638-b13d-0e286cadb04b 2020-04-01 03:11:46       1  \n",
       "1  18f8c9fd-9796-5802-ab78-b449c65ffb50 2020-06-17 03:08:43       1  \n",
       "2  2a062f74-c7cb-5625-b8ba-537b23ae5318 2019-07-25 20:06:53       1  \n",
       "3  3eff52ec-93aa-5c41-9ff2-3a18d278d138 2019-07-30 18:13:46       1  \n",
       "4  b21a24a0-1a16-55a1-8c0e-c97ed7cf8e69 2019-08-06 18:25:25       1  "
      ]
     },
     "execution_count": 6,
     "metadata": {},
     "output_type": "execute_result"
    }
   ],
   "source": [
    "def to_microsoft(dfv):\n",
    "    df = dfv[['voter', 'proposal', 'date']].rename(columns={\n",
    "        'voter': 'userID',\n",
    "        'proposal': 'itemID',\n",
    "        'date': 'timestamp',\n",
    "    })\n",
    "    df['itemID'] = df['itemID'].astype('str')\n",
    "    df['rating'] = 1\n",
    "    return df\n",
    "\n",
    "df = to_microsoft(dfv)\n",
    "df.head()"
   ]
  },
  {
   "cell_type": "markdown",
   "id": "8faab8dc-8192-47b5-96df-7458bd890ffb",
   "metadata": {
    "papermill": {
     "duration": 0.002392,
     "end_time": "2024-03-22T00:53:02.674919",
     "exception": false,
     "start_time": "2024-03-22T00:53:02.672527",
     "status": "completed"
    },
    "tags": []
   },
   "source": [
    "# Split data\n",
    "\n",
    "Each proposal remains open for a few days, our environment is different of a movies recommender system. For this reason, we will use a TimeSeriesSplit instead of a K-Fold to cross-validate the model.\n",
    "\n",
    "![](https://scikit-learn.org/stable/_images/sphx_glr_plot_cv_indices_013.png)\n",
    "\n",
    "El TimeSeriesSplit de scikit-learn no nos vale porque el número de elementos en cada split es el mismo, pero el tamaño del intervalo, no. Como queremos simular un comportamiento realista, haremos el split dividiendo por intervalos de igual longitud."
   ]
  },
  {
   "cell_type": "code",
   "execution_count": 7,
   "id": "3f661ac7-df23-49ad-9671-cfa65d4b44d6",
   "metadata": {
    "execution": {
     "iopub.execute_input": "2024-03-22T00:53:02.680078Z",
     "iopub.status.busy": "2024-03-22T00:53:02.679933Z",
     "iopub.status.idle": "2024-03-22T00:53:02.856304Z",
     "shell.execute_reply": "2024-03-22T00:53:02.855938Z"
    },
    "papermill": {
     "duration": 0.180334,
     "end_time": "2024-03-22T00:53:02.857446",
     "exception": false,
     "start_time": "2024-03-22T00:53:02.677112",
     "status": "completed"
    },
    "tags": []
   },
   "outputs": [],
   "source": [
    "from recommenders.evaluation.python_evaluation import metrics as metrics_dict"
   ]
  },
  {
   "cell_type": "code",
   "execution_count": 8,
   "id": "445d9909-609a-4cf3-8e24-6fa36946a375",
   "metadata": {
    "editable": true,
    "execution": {
     "iopub.execute_input": "2024-03-22T00:53:02.863928Z",
     "iopub.status.busy": "2024-03-22T00:53:02.863798Z",
     "iopub.status.idle": "2024-03-22T00:53:03.259182Z",
     "shell.execute_reply": "2024-03-22T00:53:03.258840Z"
    },
    "papermill": {
     "duration": 0.399733,
     "end_time": "2024-03-22T00:53:03.260042",
     "exception": false,
     "start_time": "2024-03-22T00:53:02.860309",
     "status": "completed"
    },
    "slideshow": {
     "slide_type": ""
    },
    "tags": []
   },
   "outputs": [
    {
     "name": "stdout",
     "output_type": "stream",
     "text": [
      "Split 0, train from: 2019-06-06 to 2020-08-19, test from: 2020-08-20 to 2020-08-30\n",
      "  t: 2020-08-20 00:00:00\n",
      "  len(train): 764, len(test): 9\n",
      "  users(train): 76, users(test): 5\n",
      "\n",
      "  highest possible recall@5:\t1.0000\n",
      "  highest possible ndcg@5:\t1.0000\n",
      "  highest possible precision@5:\t0.3600\n",
      "  highest possible map@5:\t1.0000\n",
      "------------------------------\n",
      "Split 1, train from: 2019-06-06 to 2020-08-26, test from: 2020-08-28 to 2020-10-07\n",
      "  t: 2020-08-27 00:00:00\n",
      "  len(train): 793, len(test): 12\n",
      "  users(train): 77, users(test): 7\n",
      "\n",
      "  highest possible recall@5:\t1.0000\n",
      "  highest possible ndcg@5:\t1.0000\n",
      "  highest possible precision@5:\t0.3429\n",
      "  highest possible map@5:\t1.0000\n",
      "------------------------------\n",
      "Split 2, train from: 2019-06-06 to 2020-09-02, test from: 2020-09-03 to 2020-10-07\n",
      "  t: 2020-09-03 00:00:00\n",
      "  len(train): 816, len(test): 16\n",
      "  users(train): 78, users(test): 10\n",
      "\n",
      "  highest possible recall@5:\t1.0000\n",
      "  highest possible ndcg@5:\t1.0000\n",
      "  highest possible precision@5:\t0.3200\n",
      "  highest possible map@5:\t1.0000\n",
      "------------------------------\n",
      "Split 3, train from: 2019-06-06 to 2020-09-09, test from: 2020-09-10 to 2020-10-07\n",
      "  t: 2020-09-10 00:00:00\n",
      "  len(train): 834, len(test): 13\n",
      "  users(train): 81, users(test): 7\n",
      "\n",
      "  highest possible recall@5:\t1.0000\n",
      "  highest possible ndcg@5:\t1.0000\n",
      "  highest possible precision@5:\t0.3714\n",
      "  highest possible map@5:\t1.0000\n",
      "------------------------------\n",
      "Split 4, train from: 2019-06-06 to 2020-09-15, test from: 2020-09-18 to 2020-10-07\n",
      "  t: 2020-09-17 00:00:00\n",
      "  len(train): 859, len(test): 14\n",
      "  users(train): 83, users(test): 6\n",
      "\n",
      "  highest possible recall@5:\t0.9375\n",
      "  highest possible ndcg@5:\t1.0000\n",
      "  highest possible precision@5:\t0.3667\n",
      "  highest possible map@5:\t0.9375\n",
      "------------------------------\n",
      "Split 5, train from: 2019-06-06 to 2020-09-23, test from: 2020-09-24 to 2020-10-07\n",
      "  t: 2020-09-24 00:00:00\n",
      "  len(train): 902, len(test): 44\n",
      "  users(train): 85, users(test): 20\n",
      "\n",
      "  highest possible recall@5:\t0.9857\n",
      "  highest possible ndcg@5:\t1.0000\n",
      "  highest possible precision@5:\t0.4200\n",
      "  highest possible map@5:\t0.9857\n",
      "------------------------------\n",
      "Split 6, train from: 2019-06-06 to 2020-09-28, test from: 2020-10-07 to 2020-10-07\n",
      "  t: 2020-10-01 00:00:00\n",
      "  len(train): 952, len(test): 1\n",
      "  users(train): 88, users(test): 1\n",
      "\n",
      "  highest possible recall@5:\t1.0000\n",
      "  highest possible ndcg@5:\t1.0000\n",
      "  highest possible precision@5:\t0.2000\n",
      "  highest possible map@5:\t1.0000\n",
      "------------------------------\n",
      "Split 7, train from: 2019-06-06 to 2020-10-07, test from: 2020-10-08 to 2020-10-22\n",
      "  t: 2020-10-08 00:00:00\n",
      "  len(train): 973, len(test): 16\n",
      "  users(train): 88, users(test): 12\n",
      "\n",
      "  highest possible recall@5:\t1.0000\n",
      "  highest possible ndcg@5:\t1.0000\n"
     ]
    },
    {
     "name": "stdout",
     "output_type": "stream",
     "text": [
      "  highest possible precision@5:\t0.2667\n",
      "  highest possible map@5:\t1.0000\n",
      "------------------------------\n",
      "Split 8, train from: 2019-06-06 to 2020-10-14, test from: 2020-10-15 to 2020-10-23\n",
      "  t: 2020-10-15 00:00:00\n",
      "  len(train): 1003, len(test): 13\n",
      "  users(train): 93, users(test): 12\n",
      "\n",
      "  highest possible recall@5:\t1.0000\n",
      "  highest possible ndcg@5:\t1.0000\n",
      "  highest possible precision@5:\t0.2167\n",
      "  highest possible map@5:\t1.0000\n",
      "------------------------------\n",
      "Split 9, train from: 2019-06-06 to 2020-10-21, test from: 2020-10-22 to 2020-10-23\n",
      "  t: 2020-10-22 00:00:00\n",
      "  len(train): 1050, len(test): 7\n",
      "  users(train): 96, users(test): 5\n",
      "\n",
      "  highest possible recall@5:\t1.0000\n",
      "  highest possible ndcg@5:\t1.0000\n",
      "  highest possible precision@5:\t0.2800\n",
      "  highest possible map@5:\t1.0000\n",
      "------------------------------\n"
     ]
    }
   ],
   "source": [
    "from src.model_selection import timeFreqSplitCurrent, timeIntervalSplitCurrent\n",
    "\n",
    "# max_train_prev = df['timestamp'].min().date()\n",
    "# N_SPLITS = 10; SKIP_SPLIT = 0\n",
    "# folds = list(timeIntervalSplitCurrent(df, N_SPLITS, dfp, skip=SKIP_SPLIT, remove_not_in_train_col='userID', return_open=True))\n",
    "folds = list(timeFreqSplitCurrent(df, SPLITS_FREQ, dfp, return_open=True, remove_not_in_train_col='userID'))[-LAST_SPLITS:]\n",
    "for i, (dftrain, dftest, t, open_proposals) in enumerate(folds):\n",
    "    min_train = dftrain['timestamp'].min().date()\n",
    "    max_train = dftrain['timestamp'].max().date()\n",
    "    min_test  = dftest['timestamp'].min().date()\n",
    "    max_test  = dftest['timestamp'].max().date()\n",
    "\n",
    "    train_users = len(set(dftrain['userID']))\n",
    "    test_users = len(set(dftest['userID']))\n",
    "    \n",
    "    print(f\"Split {i}, train from: {min_train} to {max_train}, test from: {min_test} to {max_test}\")\n",
    "    print(f\"  t: {t}\")\n",
    "    print(f\"  len(train): {len(dftrain)}, len(test): {len(dftest)}\")\n",
    "    print(f\"  users(train): {train_users}, users(test): {test_users}\")\n",
    "\n",
    "    print()\n",
    "    dftest['prediction'] = 1\n",
    "    for m in METRICS:\n",
    "        f = metrics_dict[f'{m}_at_k']\n",
    "        print(f\"  highest possible {m}@{TOP_K[0]}:\\t{f(dftest, dftest, k=TOP_K[0], relevancy_method='top_k'):.4f}\")\n",
    "\n",
    "    print(\"-\"*30)"
   ]
  },
  {
   "cell_type": "markdown",
   "id": "5c881c43-d308-40ff-b6b4-d54458e1bc32",
   "metadata": {
    "papermill": {
     "duration": 0.002544,
     "end_time": "2024-03-22T00:53:03.265408",
     "exception": false,
     "start_time": "2024-03-22T00:53:03.262864",
     "status": "completed"
    },
    "tags": []
   },
   "source": [
    "# Defining training"
   ]
  },
  {
   "cell_type": "code",
   "execution_count": 9,
   "id": "9a502e2d-3398-405f-9029-d3abc69033dc",
   "metadata": {
    "execution": {
     "iopub.execute_input": "2024-03-22T00:53:03.271024Z",
     "iopub.status.busy": "2024-03-22T00:53:03.270909Z",
     "iopub.status.idle": "2024-03-22T00:53:03.445880Z",
     "shell.execute_reply": "2024-03-22T00:53:03.445582Z"
    },
    "papermill": {
     "duration": 0.179072,
     "end_time": "2024-03-22T00:53:03.446999",
     "exception": false,
     "start_time": "2024-03-22T00:53:03.267927",
     "status": "completed"
    },
    "tags": []
   },
   "outputs": [],
   "source": [
    "# from recommenders.models.deeprec.models.graphrec.lightgcn import LightGCN\n",
    "from src.models import LightGCNCustom\n",
    "from recommenders.utils.python_utils import get_top_k_scored_items"
   ]
  },
  {
   "cell_type": "markdown",
   "id": "923adb82-9733-4e21-a378-7263c5532353",
   "metadata": {
    "papermill": {
     "duration": 0.002742,
     "end_time": "2024-03-22T00:53:03.452863",
     "exception": false,
     "start_time": "2024-03-22T00:53:03.450121",
     "status": "completed"
    },
    "tags": []
   },
   "source": [
    "## Small test of `LightGCNCustom`"
   ]
  },
  {
   "cell_type": "code",
   "execution_count": 10,
   "id": "41d1cf90-bd11-4a87-b0aa-bf0e25d559af",
   "metadata": {
    "execution": {
     "iopub.execute_input": "2024-03-22T00:53:03.458437Z",
     "iopub.status.busy": "2024-03-22T00:53:03.458324Z",
     "iopub.status.idle": "2024-03-22T00:53:03.484595Z",
     "shell.execute_reply": "2024-03-22T00:53:03.484353Z"
    },
    "papermill": {
     "duration": 0.030147,
     "end_time": "2024-03-22T00:53:03.485451",
     "exception": false,
     "start_time": "2024-03-22T00:53:03.455304",
     "status": "completed"
    },
    "tags": []
   },
   "outputs": [],
   "source": [
    "from recommenders.models.deeprec.DataModel.ImplicitCF import ImplicitCF\n",
    "from recommenders.models.deeprec.deeprec_utils import prepare_hparams"
   ]
  },
  {
   "cell_type": "code",
   "execution_count": 11,
   "id": "0e57c58e-3091-4357-969a-c7bafedd29c1",
   "metadata": {
    "execution": {
     "iopub.execute_input": "2024-03-22T00:53:03.491029Z",
     "iopub.status.busy": "2024-03-22T00:53:03.490866Z",
     "iopub.status.idle": "2024-03-22T00:53:03.981761Z",
     "shell.execute_reply": "2024-03-22T00:53:03.981340Z"
    },
    "papermill": {
     "duration": 0.494993,
     "end_time": "2024-03-22T00:53:03.982849",
     "exception": false,
     "start_time": "2024-03-22T00:53:03.487856",
     "status": "completed"
    },
    "tags": []
   },
   "outputs": [
    {
     "name": "stdout",
     "output_type": "stream",
     "text": [
      "items: 363 user: 96\n",
      "Already create adjacency matrix.\n",
      "Already normalize adjacency matrix.\n",
      "Using xavier initialization.\n"
     ]
    }
   ],
   "source": [
    "hparams = prepare_hparams(\n",
    "    model_type='lightgcn',\n",
    "    n_layers=3,\n",
    "    batch_size=512,\n",
    "    embed_size=64,\n",
    "    epochs=2,\n",
    "    learning_rate=0.001,\n",
    "    decay=0.001,\n",
    "    metrics=[\"recall\", \"ndcg\", \"precision\", \"map\"],\n",
    "    eval_epoch=2,\n",
    "    top_k=TOP_K[0],\n",
    "    save_model=False,\n",
    "    MODEL_DIR='./data/model/lightgcn/',\n",
    ")\n",
    "dataloader = ImplicitCF(train=folds[-1][0], test=folds[-1][1], seed=SEED)\n",
    "print(\"items:\", dataloader.n_items, \"user:\", dataloader.n_users)\n",
    "model = LightGCNCustom(data=dataloader, hparams=hparams)"
   ]
  },
  {
   "cell_type": "code",
   "execution_count": 12,
   "id": "3fe49e83-f291-4383-97c2-167a706ae717",
   "metadata": {
    "execution": {
     "iopub.execute_input": "2024-03-22T00:53:03.989743Z",
     "iopub.status.busy": "2024-03-22T00:53:03.989534Z",
     "iopub.status.idle": "2024-03-22T00:53:04.664533Z",
     "shell.execute_reply": "2024-03-22T00:53:04.664225Z"
    },
    "papermill": {
     "duration": 0.679361,
     "end_time": "2024-03-22T00:53:04.665405",
     "exception": false,
     "start_time": "2024-03-22T00:53:03.986044",
     "status": "completed"
    },
    "tags": []
   },
   "outputs": [
    {
     "name": "stdout",
     "output_type": "stream",
     "text": [
      "Epoch 1 (train)0.1s: train loss = 0.68010 = (mf)0.67940 + (embed)0.00070\n"
     ]
    },
    {
     "name": "stdout",
     "output_type": "stream",
     "text": [
      "Epoch 2 (train)0.0s + (eval)0.5s: train loss = 0.67748 = (mf)0.67677 + (embed)0.00071, recall = 0.06667, ndcg = 0.05922, precision = 0.04000, map = 0.03333\n"
     ]
    }
   ],
   "source": [
    "model.fit()"
   ]
  },
  {
   "cell_type": "code",
   "execution_count": 13,
   "id": "a12ab695-94f8-431e-8a7f-03bf17f2fa1e",
   "metadata": {
    "execution": {
     "iopub.execute_input": "2024-03-22T00:53:04.672120Z",
     "iopub.status.busy": "2024-03-22T00:53:04.671957Z",
     "iopub.status.idle": "2024-03-22T00:53:04.707507Z",
     "shell.execute_reply": "2024-03-22T00:53:04.707265Z"
    },
    "papermill": {
     "duration": 0.039784,
     "end_time": "2024-03-22T00:53:04.708287",
     "exception": false,
     "start_time": "2024-03-22T00:53:04.668503",
     "status": "completed"
    },
    "tags": []
   },
   "outputs": [
    {
     "data": {
      "text/plain": [
       "[0.06666666666666667, 0.05921638219317306, 0.04, 0.03333333333333333]"
      ]
     },
     "execution_count": 13,
     "metadata": {},
     "output_type": "execute_result"
    }
   ],
   "source": [
    "model.run_eval()"
   ]
  },
  {
   "cell_type": "code",
   "execution_count": 14,
   "id": "2b131c2d-6df2-4292-8f12-caaf409562ab",
   "metadata": {
    "execution": {
     "iopub.execute_input": "2024-03-22T00:53:04.714281Z",
     "iopub.status.busy": "2024-03-22T00:53:04.714146Z",
     "iopub.status.idle": "2024-03-22T00:53:04.741773Z",
     "shell.execute_reply": "2024-03-22T00:53:04.741534Z"
    },
    "papermill": {
     "duration": 0.031597,
     "end_time": "2024-03-22T00:53:04.742560",
     "exception": false,
     "start_time": "2024-03-22T00:53:04.710963",
     "status": "completed"
    },
    "tags": []
   },
   "outputs": [
    {
     "data": {
      "text/html": [
       "<div>\n",
       "<style scoped>\n",
       "    .dataframe tbody tr th:only-of-type {\n",
       "        vertical-align: middle;\n",
       "    }\n",
       "\n",
       "    .dataframe tbody tr th {\n",
       "        vertical-align: top;\n",
       "    }\n",
       "\n",
       "    .dataframe thead th {\n",
       "        text-align: right;\n",
       "    }\n",
       "</style>\n",
       "<table border=\"1\" class=\"dataframe\">\n",
       "  <thead>\n",
       "    <tr style=\"text-align: right;\">\n",
       "      <th></th>\n",
       "      <th>userID</th>\n",
       "      <th>itemID</th>\n",
       "      <th>prediction</th>\n",
       "    </tr>\n",
       "  </thead>\n",
       "  <tbody>\n",
       "    <tr>\n",
       "      <th>0</th>\n",
       "      <td>51</td>\n",
       "      <td>173</td>\n",
       "      <td>0.019425</td>\n",
       "    </tr>\n",
       "    <tr>\n",
       "      <th>1</th>\n",
       "      <td>51</td>\n",
       "      <td>362</td>\n",
       "      <td>0.011043</td>\n",
       "    </tr>\n",
       "    <tr>\n",
       "      <th>2</th>\n",
       "      <td>51</td>\n",
       "      <td>172</td>\n",
       "      <td>0.010538</td>\n",
       "    </tr>\n",
       "    <tr>\n",
       "      <th>3</th>\n",
       "      <td>82</td>\n",
       "      <td>173</td>\n",
       "      <td>0.016291</td>\n",
       "    </tr>\n",
       "    <tr>\n",
       "      <th>4</th>\n",
       "      <td>82</td>\n",
       "      <td>362</td>\n",
       "      <td>0.013017</td>\n",
       "    </tr>\n",
       "    <tr>\n",
       "      <th>5</th>\n",
       "      <td>82</td>\n",
       "      <td>172</td>\n",
       "      <td>0.010675</td>\n",
       "    </tr>\n",
       "    <tr>\n",
       "      <th>6</th>\n",
       "      <td>85</td>\n",
       "      <td>362</td>\n",
       "      <td>0.011251</td>\n",
       "    </tr>\n",
       "    <tr>\n",
       "      <th>7</th>\n",
       "      <td>85</td>\n",
       "      <td>152</td>\n",
       "      <td>0.006287</td>\n",
       "    </tr>\n",
       "    <tr>\n",
       "      <th>8</th>\n",
       "      <td>85</td>\n",
       "      <td>172</td>\n",
       "      <td>0.003683</td>\n",
       "    </tr>\n",
       "    <tr>\n",
       "      <th>9</th>\n",
       "      <td>87</td>\n",
       "      <td>151</td>\n",
       "      <td>-0.001944</td>\n",
       "    </tr>\n",
       "    <tr>\n",
       "      <th>10</th>\n",
       "      <td>87</td>\n",
       "      <td>362</td>\n",
       "      <td>-0.002342</td>\n",
       "    </tr>\n",
       "    <tr>\n",
       "      <th>11</th>\n",
       "      <td>87</td>\n",
       "      <td>152</td>\n",
       "      <td>-0.003976</td>\n",
       "    </tr>\n",
       "    <tr>\n",
       "      <th>12</th>\n",
       "      <td>89</td>\n",
       "      <td>362</td>\n",
       "      <td>0.017681</td>\n",
       "    </tr>\n",
       "    <tr>\n",
       "      <th>13</th>\n",
       "      <td>89</td>\n",
       "      <td>361</td>\n",
       "      <td>0.006810</td>\n",
       "    </tr>\n",
       "    <tr>\n",
       "      <th>14</th>\n",
       "      <td>89</td>\n",
       "      <td>152</td>\n",
       "      <td>0.006646</td>\n",
       "    </tr>\n",
       "  </tbody>\n",
       "</table>\n",
       "</div>"
      ],
      "text/plain": [
       "    userID  itemID  prediction\n",
       "0       51     173    0.019425\n",
       "1       51     362    0.011043\n",
       "2       51     172    0.010538\n",
       "3       82     173    0.016291\n",
       "4       82     362    0.013017\n",
       "5       82     172    0.010675\n",
       "6       85     362    0.011251\n",
       "7       85     152    0.006287\n",
       "8       85     172    0.003683\n",
       "9       87     151   -0.001944\n",
       "10      87     362   -0.002342\n",
       "11      87     152   -0.003976\n",
       "12      89     362    0.017681\n",
       "13      89     361    0.006810\n",
       "14      89     152    0.006646"
      ]
     },
     "execution_count": 14,
     "metadata": {},
     "output_type": "execute_result"
    }
   ],
   "source": [
    "model.recommend_k_items(\n",
    "    dataloader.test, \n",
    "    top_k=3, \n",
    "    use_id=True, \n",
    "    remove_seen=True, \n",
    "    recommend_from=folds[-1][3]\n",
    ")"
   ]
  },
  {
   "cell_type": "code",
   "execution_count": 15,
   "id": "ef766f48-b9b1-4ec6-b2ba-9c3d5b54d40b",
   "metadata": {
    "execution": {
     "iopub.execute_input": "2024-03-22T00:53:04.748990Z",
     "iopub.status.busy": "2024-03-22T00:53:04.748592Z",
     "iopub.status.idle": "2024-03-22T00:53:04.771503Z",
     "shell.execute_reply": "2024-03-22T00:53:04.771278Z"
    },
    "papermill": {
     "duration": 0.026954,
     "end_time": "2024-03-22T00:53:04.772306",
     "exception": false,
     "start_time": "2024-03-22T00:53:04.745352",
     "status": "completed"
    },
    "tags": []
   },
   "outputs": [],
   "source": [
    "# problem_prop = 'b926a2eb-e2c7-5d0d-bbec-015efe30edde'\n",
    "\n",
    "# tr, te, t, open_proposals = folds[-1]\n",
    "# print(\"t:\", t)\n",
    "# print(\"In open?: \", problem_prop in set(open_proposals))\n",
    "# print(\"In Train?:\", any(tr['itemID'] == problem_prop))\n",
    "# print(\"In Test?: \", any(te['itemID'] == problem_prop))\n",
    "# print(\"In dfv?:  \", in_dfv := any(dfv['proposal'] == problem_prop))\n",
    "# if in_dfv:\n",
    "#     display(dfv[dfv['proposal'] == problem_prop])\n",
    "\n",
    "# dfp.set_index('id').loc[problem_prop]"
   ]
  },
  {
   "cell_type": "code",
   "execution_count": 16,
   "id": "799a41c8-6c27-40c7-af22-0f9eb46f8a59",
   "metadata": {
    "execution": {
     "iopub.execute_input": "2024-03-22T00:53:04.779052Z",
     "iopub.status.busy": "2024-03-22T00:53:04.778922Z",
     "iopub.status.idle": "2024-03-22T00:53:04.802840Z",
     "shell.execute_reply": "2024-03-22T00:53:04.802594Z"
    },
    "papermill": {
     "duration": 0.028248,
     "end_time": "2024-03-22T00:53:04.803689",
     "exception": false,
     "start_time": "2024-03-22T00:53:04.775441",
     "status": "completed"
    },
    "tags": []
   },
   "outputs": [],
   "source": [
    "# Free the resources\n",
    "del model\n",
    "del dataloader"
   ]
  },
  {
   "cell_type": "markdown",
   "id": "d994a5dd-efe5-47bf-a8a1-803316d9fc75",
   "metadata": {
    "papermill": {
     "duration": 0.002795,
     "end_time": "2024-03-22T00:53:04.809322",
     "exception": false,
     "start_time": "2024-03-22T00:53:04.806527",
     "status": "completed"
    },
    "tags": []
   },
   "source": [
    "# Defining trainer"
   ]
  },
  {
   "cell_type": "code",
   "execution_count": 17,
   "id": "a5d010bf-3a9c-4931-9d02-6589b3164438",
   "metadata": {
    "execution": {
     "iopub.execute_input": "2024-03-22T00:53:04.815335Z",
     "iopub.status.busy": "2024-03-22T00:53:04.815190Z",
     "iopub.status.idle": "2024-03-22T00:53:04.841469Z",
     "shell.execute_reply": "2024-03-22T00:53:04.841234Z"
    },
    "papermill": {
     "duration": 0.030349,
     "end_time": "2024-03-22T00:53:04.842332",
     "exception": false,
     "start_time": "2024-03-22T00:53:04.811983",
     "status": "completed"
    },
    "scrolled": true,
    "tags": []
   },
   "outputs": [],
   "source": [
    "from recommenders.evaluation.python_evaluation import map_at_k, ndcg_at_k, precision_at_k, recall_at_k\n",
    "\n",
    "class TrainLightGCN(tune.Trainable):\n",
    "    def setup(\n",
    "        self,\n",
    "        config: Dict[str, Any],\n",
    "        data,\n",
    "    ):\n",
    "        self.config = config\n",
    "\n",
    "        self.hparams = prepare_hparams(\n",
    "            model_type='lightgcn',\n",
    "            n_layers=config['conv_layers'],\n",
    "            batch_size=2**config['batch_size'],\n",
    "            embed_size=config['embedding_dim'],\n",
    "            epochs=EPOCHS_PER_ITER,\n",
    "            learning_rate=config['learning_rate'],\n",
    "            decay=config['l2'],\n",
    "            metrics=METRICS,\n",
    "            eval_epoch=-1,\n",
    "            top_k=TOP_K[0],\n",
    "            save_model=False,\n",
    "            MODEL_DIR='./data/model/lightgcn/',\n",
    "        )\n",
    "\n",
    "        train, test, self.t, self.open_proposals = data\n",
    "        self.dataloader = ImplicitCF(train=train, test=test, seed=SEED)\n",
    "        self.model = LightGCNCustom(self.hparams, self.dataloader, seed=SEED)\n",
    "        self.total_train = 0\n",
    "        self.total_eval = 0\n",
    "\n",
    "    @property\n",
    "    def iteration(self):\n",
    "        return self.model.epochs_done\n",
    "\n",
    "    @property\n",
    "    def training_iteration(self):\n",
    "        return self.model.epochs_done\n",
    "\n",
    "    def step(self):\n",
    "        \"\"\"\n",
    "        As a rule of thumb, the execution time of step should be large enough to avoid overheads \n",
    "        (i.e. more than a few seconds), but short enough to report progress periodically \n",
    "        (i.e. at most a few minutes).\n",
    "        \"\"\"\n",
    "        assert EPOCHS_PER_ITER > 0\n",
    "\n",
    "        train_start = time.time()\n",
    "        for _ in range(EPOCHS_PER_ITER):\n",
    "            ret = self.model.fit_epoch()\n",
    "        eval_start = train_end = time.time()\n",
    "\n",
    "        eval_dict = {'model_'+k:v for k,v in zip(self.model.metrics, self.model.run_eval())}\n",
    "        for k in TOP_K:\n",
    "            recs = self.model.recommend_k_items(\n",
    "                self.dataloader.test, \n",
    "                top_k=k,\n",
    "                use_id=True, \n",
    "                remove_seen=True, \n",
    "                recommend_from=self.open_proposals,\n",
    "            )\n",
    "            \n",
    "            eval_dict[f'precision@{k}'] = precision_at_k(self.dataloader.test, recs, k=k)\n",
    "            eval_dict[f'ndcg@{k}'] = ndcg_at_k(self.dataloader.test, recs, k=k)\n",
    "            eval_dict[f'recall@{k}'] = recall_at_k(self.dataloader.test, recs, k=k)\n",
    "            eval_dict[f'map@{k}'] = map_at_k(self.dataloader.test, recs, k=k)\n",
    "\n",
    "        eval_end = time.time()\n",
    "\n",
    "        self.total_train += train_end - train_start\n",
    "        self.total_eval += eval_end - eval_start\n",
    "        \n",
    "        return {\n",
    "            'iteration': self.iteration,\n",
    "            'loss': ret[0],\n",
    "            'mf_loss': ret[1],\n",
    "            'emb_loss': ret[2],\n",
    "            **eval_dict,\n",
    "            'time_train': train_end-train_start,\n",
    "            'time_test': eval_end-eval_start,\n",
    "            'time_total_train': self.total_train,\n",
    "            'time_total_test': self.total_eval,\n",
    "        }\n",
    "\n",
    "    def save_checkpoint(self, checkpoint_dir):\n",
    "        checkpoint_path = os.path.join(checkpoint_dir, \"model\")\n",
    "        self.model.saver.save(\n",
    "            sess=self.model.sess,\n",
    "            save_path=checkpoint_path,\n",
    "        )\n",
    "        return checkpoint_dir\n",
    "\n",
    "    def load_checkpoint(self, checkpoint_path):\n",
    "        self.model.load(checkpoint_path)"
   ]
  },
  {
   "cell_type": "markdown",
   "id": "16276fe4-d63d-4e7a-bcc8-38d8f5be299c",
   "metadata": {
    "papermill": {
     "duration": 0.002865,
     "end_time": "2024-03-22T00:53:04.847943",
     "exception": false,
     "start_time": "2024-03-22T00:53:04.845078",
     "status": "completed"
    },
    "tags": []
   },
   "source": [
    "# Big experiment"
   ]
  },
  {
   "cell_type": "code",
   "execution_count": 18,
   "id": "427c4b72-593a-41ff-9fd6-991e8e3a0445",
   "metadata": {
    "execution": {
     "iopub.execute_input": "2024-03-22T00:53:04.854035Z",
     "iopub.status.busy": "2024-03-22T00:53:04.853932Z",
     "iopub.status.idle": "2024-03-22T00:53:04.875889Z",
     "shell.execute_reply": "2024-03-22T00:53:04.875676Z"
    },
    "papermill": {
     "duration": 0.026005,
     "end_time": "2024-03-22T00:53:04.876688",
     "exception": false,
     "start_time": "2024-03-22T00:53:04.850683",
     "status": "completed"
    },
    "tags": []
   },
   "outputs": [
    {
     "data": {
      "text/plain": [
       "PosixPath('/home/daviddavo/ray_results')"
      ]
     },
     "execution_count": 18,
     "metadata": {},
     "output_type": "execute_result"
    }
   ],
   "source": [
    "RAY_RESULTS_PATH"
   ]
  },
  {
   "cell_type": "code",
   "execution_count": 19,
   "id": "d3cc56a8-9add-4c1d-a15b-99593e11c686",
   "metadata": {
    "execution": {
     "iopub.execute_input": "2024-03-22T00:53:04.883403Z",
     "iopub.status.busy": "2024-03-22T00:53:04.883264Z",
     "iopub.status.idle": "2024-03-22T00:53:04.904593Z",
     "shell.execute_reply": "2024-03-22T00:53:04.904372Z"
    },
    "papermill": {
     "duration": 0.025617,
     "end_time": "2024-03-22T00:53:04.905406",
     "exception": false,
     "start_time": "2024-03-22T00:53:04.879789",
     "status": "completed"
    },
    "tags": []
   },
   "outputs": [],
   "source": [
    "MAX_EMBEDDING_DIM = 1024\n",
    "MAX_BATCH_SIZE = 10 # 2**10\n",
    "MIN_LR = 1e-4\n",
    "GPUS = 16\n",
    "\n",
    "if ORG_NAME in ['PancakeSwap', 'Aave - Aavegotchi']:\n",
    "    MAX_EMBEDDING_DIM = 256\n",
    "    MAX_BATCH_SIZE = 14\n",
    "    GPUS = 4\n",
    "    MIN_LR = 1e-2\n",
    "elif ORG_NAME in ['DEAD FoundationsDAO']:\n",
    "    GPUS = 20"
   ]
  },
  {
   "cell_type": "code",
   "execution_count": 20,
   "id": "019cecb8-4733-4947-9425-f7f9a690cd92",
   "metadata": {
    "execution": {
     "iopub.execute_input": "2024-03-22T00:53:04.911779Z",
     "iopub.status.busy": "2024-03-22T00:53:04.911639Z",
     "iopub.status.idle": "2024-03-22T00:53:04.932841Z",
     "shell.execute_reply": "2024-03-22T00:53:04.932602Z"
    },
    "papermill": {
     "duration": 0.025363,
     "end_time": "2024-03-22T00:53:04.933654",
     "exception": false,
     "start_time": "2024-03-22T00:53:04.908291",
     "status": "completed"
    },
    "tags": []
   },
   "outputs": [
    {
     "name": "stdout",
     "output_type": "stream",
     "text": [
      "lamarck\n",
      "{'cpu': 1, 'gpu': 0.0625}\n"
     ]
    }
   ],
   "source": [
    "print(os.uname().nodename)\n",
    "\n",
    "### SET TRAINING RESOURCES\n",
    "if os.uname().nodename == 'lamarck':\n",
    "    # assert torch.cuda.is_available()\n",
    "\n",
    "    NUM_SAMPLES = SAMPLES_PER_SPLIT\n",
    "    # Every run takes approx half a gig of vram (no optimizations)\n",
    "    # The RTX 4090 has 24GB so we can run the model about 48 times\n",
    "    resources_per_trial={\n",
    "        'cpu': 1,\n",
    "        'gpu': 1 / GPUS,\n",
    "    }\n",
    "else:\n",
    "    NUM_SAMPLES = 1\n",
    "    resources_per_trial={\n",
    "        'cpu': 1,\n",
    "        # It takes about 1.5 GiB with full training data, but I put a bit more because\n",
    "        # this notebook also takes a bit of memory\n",
    "        'memory': 2e9,\n",
    "    }\n",
    "print(resources_per_trial)"
   ]
  },
  {
   "cell_type": "code",
   "execution_count": 21,
   "id": "a5ad6f33-effe-4f48-850e-8044af3a88dc",
   "metadata": {
    "editable": true,
    "execution": {
     "iopub.execute_input": "2024-03-22T00:53:04.940129Z",
     "iopub.status.busy": "2024-03-22T00:53:04.940004Z",
     "iopub.status.idle": "2024-03-22T00:53:05.013221Z",
     "shell.execute_reply": "2024-03-22T00:53:05.012863Z"
    },
    "papermill": {
     "duration": 0.077696,
     "end_time": "2024-03-22T00:53:05.014271",
     "exception": false,
     "start_time": "2024-03-22T00:53:04.936575",
     "status": "completed"
    },
    "slideshow": {
     "slide_type": ""
    },
    "tags": []
   },
   "outputs": [],
   "source": [
    "from ray.tune.search.hyperopt import HyperOptSearch\n",
    "import datetime as dt\n",
    "from src import paths\n",
    "\n",
    "def getTunerOnFold(f, points_to_evaluate = None):\n",
    "    name = f'LightGCN_optim={OPTIM_METRIC},dao={ORG_NAME},freq={SPLITS_FREQ},normalize={SPLITS_NORMALIZE},cutoff_date={CUTOFF_DATE.isoformat()},fold={f}'\n",
    "    paths = list(RAY_RESULTS_PATH.glob(f'{name}_*'))\n",
    "    last_experiment = max(paths, key=lambda x: x.stat().st_ctime) if paths else None\n",
    "\n",
    "    dftrain,dftest,t,open_proposals = folds[f]\n",
    "    param_space = dict(\n",
    "        fold=f,\n",
    "        batch_size=tune.randint(6, MAX_BATCH_SIZE), # 64 - 1024\n",
    "        embedding_dim=tune.lograndint(1, MAX_EMBEDDING_DIM, base=2),\n",
    "        conv_layers=tune.randint(1,6),\n",
    "        learning_rate=tune.qloguniform(MIN_LR, 1, 1e-4),\n",
    "        l2=tune.loguniform(1e-7, 1e-2, 1e-7),\n",
    "    )\n",
    "    \n",
    "    ### RESTORE EXPERIMENT OR CREATE A NEW ONE\n",
    "    if last_experiment and tune.Tuner.can_restore(last_experiment):\n",
    "        print(f\"Restoring last experiment: {last_experiment}\")\n",
    "        tuner = tune.Tuner.restore(\n",
    "            str(last_experiment),\n",
    "            trainable=tune.with_resources(\n",
    "                # tune.with_parameters(TrainLightGCN,  train=dftrain, test=dftest, open_proposals=open_proposals),\n",
    "                tune.with_parameters(TrainLightGCN, data=folds[f]),\n",
    "                resources_per_trial,\n",
    "            ),\n",
    "            restart_errored=True,\n",
    "            param_space=param_space,\n",
    "        )\n",
    "    else:\n",
    "        print(f\"No experiment found for fold {f}, creating new tuner with {NUM_SAMPLES} samples\")\n",
    "        search_alg = None\n",
    "        search_alg = HyperOptSearch(\n",
    "            # points_to_evaluate=[{\n",
    "            #     'batch_size': 8, # 2**8 = 256\n",
    "            #     'learning_rate': 10e-2,\n",
    "            #     'l2': 10e-6,\n",
    "            #     'embedding_dim': 100,\n",
    "            #     'conv_layers': 3,\n",
    "            # }],\n",
    "            points_to_evaluate = points_to_evaluate,\n",
    "            random_state_seed=SEED,\n",
    "        )\n",
    "        # search_alg = tune.search.Repeater(search_alg, N_SPLITS-SKIP_SPLIT)\n",
    "        \n",
    "        tuner = tune.Tuner(\n",
    "            tune.with_resources(\n",
    "                # tune.with_parameters(TrainLightGCN,  train=dftrain, test=dftest, open_proposals=open_proposals),\n",
    "                tune.with_parameters(TrainLightGCN, data=folds[f]),\n",
    "                resources_per_trial,\n",
    "            ),\n",
    "            run_config=train.RunConfig(\n",
    "                stop={'training_iteration': MAX_EPOCHS/EPOCHS_PER_ITER, 'time_total_train': 300},\n",
    "                name=name + f'_{dt.datetime.now().isoformat()}',\n",
    "                storage_path=RAY_RESULTS_PATH,\n",
    "                # failure_config=train.FailureConfig(fail_fast='raise'),\n",
    "                failure_config=train.FailureConfig(max_failures=3),\n",
    "            ),\n",
    "            param_space=param_space,\n",
    "            tune_config=tune.TuneConfig(\n",
    "                search_alg=search_alg,\n",
    "                num_samples=NUM_SAMPLES,\n",
    "                metric=OPTIM_METRIC,\n",
    "                mode='max',\n",
    "            )\n",
    "        )\n",
    "\n",
    "    return tuner"
   ]
  },
  {
   "cell_type": "code",
   "execution_count": 22,
   "id": "c968ecd5-d62c-4d57-846f-4bb7202a97c1",
   "metadata": {
    "execution": {
     "iopub.execute_input": "2024-03-22T00:53:05.021814Z",
     "iopub.status.busy": "2024-03-22T00:53:05.021655Z",
     "iopub.status.idle": "2024-03-22T01:53:54.897988Z",
     "shell.execute_reply": "2024-03-22T01:53:54.897636Z"
    },
    "papermill": {
     "duration": 3649.881379,
     "end_time": "2024-03-22T01:53:54.899215",
     "exception": false,
     "start_time": "2024-03-22T00:53:05.017836",
     "status": "completed"
    },
    "tags": []
   },
   "outputs": [
    {
     "data": {
      "text/html": [
       "<div class=\"tuneStatus\">\n",
       "  <div style=\"display: flex;flex-direction: row\">\n",
       "    <div style=\"display: flex;flex-direction: column;\">\n",
       "      <h3>Tune Status</h3>\n",
       "      <table>\n",
       "<tbody>\n",
       "<tr><td>Current time:</td><td>2024-03-22 01:53:54</td></tr>\n",
       "<tr><td>Running for: </td><td>00:06:05.75        </td></tr>\n",
       "<tr><td>Memory:      </td><td>12.0/125.6 GiB     </td></tr>\n",
       "</tbody>\n",
       "</table>\n",
       "    </div>\n",
       "    <div class=\"vDivider\"></div>\n",
       "    <div class=\"systemInfo\">\n",
       "      <h3>System Info</h3>\n",
       "      Using FIFO scheduling algorithm.<br>Logical resource usage: 1.0/24 CPUs, 0.0625/1 GPUs (0.0/1.0 accelerator_type:G)\n",
       "    </div>\n",
       "    \n",
       "  </div>\n",
       "  <div class=\"hDivider\"></div>\n",
       "  <div class=\"trialStatus\">\n",
       "    <h3>Trial Status</h3>\n",
       "    <table>\n",
       "<thead>\n",
       "<tr><th>Trial name            </th><th>status    </th><th>loc                  </th><th style=\"text-align: right;\">  batch_size</th><th style=\"text-align: right;\">  conv_layers</th><th style=\"text-align: right;\">  embedding_dim</th><th style=\"text-align: right;\">  fold</th><th style=\"text-align: right;\">         l2</th><th style=\"text-align: right;\">  learning_rate</th><th style=\"text-align: right;\">  iter</th><th style=\"text-align: right;\">  total time (s)</th><th style=\"text-align: right;\">  iteration</th><th style=\"text-align: right;\">       loss</th><th style=\"text-align: right;\">    mf_loss</th></tr>\n",
       "</thead>\n",
       "<tbody>\n",
       "<tr><td>TrainLightGCN_198c29f6</td><td>TERMINATED</td><td>147.96.81.131:3880727</td><td style=\"text-align: right;\">           7</td><td style=\"text-align: right;\">            2</td><td style=\"text-align: right;\">              1</td><td style=\"text-align: right;\">     9</td><td style=\"text-align: right;\">9.38814e-05</td><td style=\"text-align: right;\">         0.0006</td><td style=\"text-align: right;\">    40</td><td style=\"text-align: right;\">         3.81762</td><td style=\"text-align: right;\">        200</td><td style=\"text-align: right;\">0.472026   </td><td style=\"text-align: right;\">0.4719     </td></tr>\n",
       "<tr><td>TrainLightGCN_6ab5f193</td><td>TERMINATED</td><td>147.96.81.131:3880862</td><td style=\"text-align: right;\">           8</td><td style=\"text-align: right;\">            5</td><td style=\"text-align: right;\">             29</td><td style=\"text-align: right;\">     9</td><td style=\"text-align: right;\">2.8606e-05 </td><td style=\"text-align: right;\">         0.2347</td><td style=\"text-align: right;\">    40</td><td style=\"text-align: right;\">         3.31776</td><td style=\"text-align: right;\">        200</td><td style=\"text-align: right;\">0.0313241  </td><td style=\"text-align: right;\">0.000211893</td></tr>\n",
       "<tr><td>TrainLightGCN_244c2806</td><td>TERMINATED</td><td>147.96.81.131:3881023</td><td style=\"text-align: right;\">           9</td><td style=\"text-align: right;\">            3</td><td style=\"text-align: right;\">              5</td><td style=\"text-align: right;\">     9</td><td style=\"text-align: right;\">5.24282e-05</td><td style=\"text-align: right;\">         0.22  </td><td style=\"text-align: right;\">    40</td><td style=\"text-align: right;\">         2.97843</td><td style=\"text-align: right;\">        200</td><td style=\"text-align: right;\">0.0439538  </td><td style=\"text-align: right;\">0.0396074  </td></tr>\n",
       "<tr><td>TrainLightGCN_74f72338</td><td>TERMINATED</td><td>147.96.81.131:3881195</td><td style=\"text-align: right;\">           7</td><td style=\"text-align: right;\">            4</td><td style=\"text-align: right;\">            306</td><td style=\"text-align: right;\">     9</td><td style=\"text-align: right;\">8.92312e-07</td><td style=\"text-align: right;\">         0.0065</td><td style=\"text-align: right;\">    40</td><td style=\"text-align: right;\">         4.11927</td><td style=\"text-align: right;\">        200</td><td style=\"text-align: right;\">0.000548337</td><td style=\"text-align: right;\">0.000486374</td></tr>\n",
       "<tr><td>TrainLightGCN_9453ef93</td><td>TERMINATED</td><td>147.96.81.131:3881359</td><td style=\"text-align: right;\">           7</td><td style=\"text-align: right;\">            3</td><td style=\"text-align: right;\">            217</td><td style=\"text-align: right;\">     9</td><td style=\"text-align: right;\">2.79193e-05</td><td style=\"text-align: right;\">         0.0005</td><td style=\"text-align: right;\">    40</td><td style=\"text-align: right;\">         4.1813 </td><td style=\"text-align: right;\">        200</td><td style=\"text-align: right;\">0.0224987  </td><td style=\"text-align: right;\">0.0220044  </td></tr>\n",
       "<tr><td>TrainLightGCN_efd3729e</td><td>TERMINATED</td><td>147.96.81.131:3881521</td><td style=\"text-align: right;\">           7</td><td style=\"text-align: right;\">            4</td><td style=\"text-align: right;\">              7</td><td style=\"text-align: right;\">     9</td><td style=\"text-align: right;\">0.00397996 </td><td style=\"text-align: right;\">         0.0038</td><td style=\"text-align: right;\">    40</td><td style=\"text-align: right;\">         4.19311</td><td style=\"text-align: right;\">        200</td><td style=\"text-align: right;\">0.101189   </td><td style=\"text-align: right;\">0.0519776  </td></tr>\n",
       "<tr><td>TrainLightGCN_dda59d8e</td><td>TERMINATED</td><td>147.96.81.131:3881689</td><td style=\"text-align: right;\">           7</td><td style=\"text-align: right;\">            3</td><td style=\"text-align: right;\">              4</td><td style=\"text-align: right;\">     9</td><td style=\"text-align: right;\">0.0011209  </td><td style=\"text-align: right;\">         0.0002</td><td style=\"text-align: right;\">    40</td><td style=\"text-align: right;\">         4.08483</td><td style=\"text-align: right;\">        200</td><td style=\"text-align: right;\">0.472302   </td><td style=\"text-align: right;\">0.471246   </td></tr>\n",
       "<tr><td>TrainLightGCN_487b3f67</td><td>TERMINATED</td><td>147.96.81.131:3881856</td><td style=\"text-align: right;\">           8</td><td style=\"text-align: right;\">            4</td><td style=\"text-align: right;\">            412</td><td style=\"text-align: right;\">     9</td><td style=\"text-align: right;\">0.00406073 </td><td style=\"text-align: right;\">         0.0014</td><td style=\"text-align: right;\">    40</td><td style=\"text-align: right;\">         3.49127</td><td style=\"text-align: right;\">        200</td><td style=\"text-align: right;\">0.0911225  </td><td style=\"text-align: right;\">0.0315884  </td></tr>\n",
       "<tr><td>TrainLightGCN_fcb28c8a</td><td>TERMINATED</td><td>147.96.81.131:3882020</td><td style=\"text-align: right;\">           6</td><td style=\"text-align: right;\">            1</td><td style=\"text-align: right;\">            206</td><td style=\"text-align: right;\">     9</td><td style=\"text-align: right;\">6.80694e-06</td><td style=\"text-align: right;\">         0.0085</td><td style=\"text-align: right;\">    40</td><td style=\"text-align: right;\">         5.57121</td><td style=\"text-align: right;\">        200</td><td style=\"text-align: right;\">0.00025418 </td><td style=\"text-align: right;\">2.06793e-05</td></tr>\n",
       "<tr><td>TrainLightGCN_45a456bc</td><td>TERMINATED</td><td>147.96.81.131:3882189</td><td style=\"text-align: right;\">           9</td><td style=\"text-align: right;\">            4</td><td style=\"text-align: right;\">            114</td><td style=\"text-align: right;\">     9</td><td style=\"text-align: right;\">0.000527247</td><td style=\"text-align: right;\">         0.0001</td><td style=\"text-align: right;\">    40</td><td style=\"text-align: right;\">         3.08898</td><td style=\"text-align: right;\">        200</td><td style=\"text-align: right;\">0.495979   </td><td style=\"text-align: right;\">0.494911   </td></tr>\n",
       "<tr><td>TrainLightGCN_9fc5919e</td><td>TERMINATED</td><td>147.96.81.131:3882359</td><td style=\"text-align: right;\">           7</td><td style=\"text-align: right;\">            3</td><td style=\"text-align: right;\">              5</td><td style=\"text-align: right;\">     9</td><td style=\"text-align: right;\">0.00605521 </td><td style=\"text-align: right;\">         0.2019</td><td style=\"text-align: right;\">    40</td><td style=\"text-align: right;\">         4.10725</td><td style=\"text-align: right;\">        200</td><td style=\"text-align: right;\">0.136324   </td><td style=\"text-align: right;\">0.0468526  </td></tr>\n",
       "<tr><td>TrainLightGCN_f64df1aa</td><td>TERMINATED</td><td>147.96.81.131:3882531</td><td style=\"text-align: right;\">           7</td><td style=\"text-align: right;\">            4</td><td style=\"text-align: right;\">             42</td><td style=\"text-align: right;\">     9</td><td style=\"text-align: right;\">0.000414829</td><td style=\"text-align: right;\">         0.0012</td><td style=\"text-align: right;\">    40</td><td style=\"text-align: right;\">         4.12133</td><td style=\"text-align: right;\">        200</td><td style=\"text-align: right;\">0.0464629  </td><td style=\"text-align: right;\">0.0395736  </td></tr>\n",
       "<tr><td>TrainLightGCN_3cba50f9</td><td>TERMINATED</td><td>147.96.81.131:3882690</td><td style=\"text-align: right;\">           7</td><td style=\"text-align: right;\">            4</td><td style=\"text-align: right;\">              6</td><td style=\"text-align: right;\">     9</td><td style=\"text-align: right;\">2.66572e-07</td><td style=\"text-align: right;\">         0.4766</td><td style=\"text-align: right;\">    40</td><td style=\"text-align: right;\">         4.03407</td><td style=\"text-align: right;\">        200</td><td style=\"text-align: right;\">0.313569   </td><td style=\"text-align: right;\">0.313197   </td></tr>\n",
       "<tr><td>TrainLightGCN_3e3afd3e</td><td>TERMINATED</td><td>147.96.81.131:3882854</td><td style=\"text-align: right;\">           8</td><td style=\"text-align: right;\">            4</td><td style=\"text-align: right;\">             87</td><td style=\"text-align: right;\">     9</td><td style=\"text-align: right;\">2.59656e-07</td><td style=\"text-align: right;\">         0.0004</td><td style=\"text-align: right;\">    40</td><td style=\"text-align: right;\">         3.37221</td><td style=\"text-align: right;\">        200</td><td style=\"text-align: right;\">0.0969237  </td><td style=\"text-align: right;\">0.0969213  </td></tr>\n",
       "<tr><td>TrainLightGCN_a2a5222b</td><td>TERMINATED</td><td>147.96.81.131:3883021</td><td style=\"text-align: right;\">           8</td><td style=\"text-align: right;\">            5</td><td style=\"text-align: right;\">             75</td><td style=\"text-align: right;\">     9</td><td style=\"text-align: right;\">1.39754e-06</td><td style=\"text-align: right;\">         0.0003</td><td style=\"text-align: right;\">    40</td><td style=\"text-align: right;\">         3.42477</td><td style=\"text-align: right;\">        200</td><td style=\"text-align: right;\">0.152084   </td><td style=\"text-align: right;\">0.152074   </td></tr>\n",
       "<tr><td>TrainLightGCN_1e13c8ed</td><td>TERMINATED</td><td>147.96.81.131:3883194</td><td style=\"text-align: right;\">           9</td><td style=\"text-align: right;\">            2</td><td style=\"text-align: right;\">              8</td><td style=\"text-align: right;\">     9</td><td style=\"text-align: right;\">0.00100612 </td><td style=\"text-align: right;\">         0.0201</td><td style=\"text-align: right;\">    40</td><td style=\"text-align: right;\">         2.8155 </td><td style=\"text-align: right;\">        200</td><td style=\"text-align: right;\">0.0308196  </td><td style=\"text-align: right;\">0.0128874  </td></tr>\n",
       "<tr><td>TrainLightGCN_f2cf74d7</td><td>TERMINATED</td><td>147.96.81.131:3883363</td><td style=\"text-align: right;\">           7</td><td style=\"text-align: right;\">            4</td><td style=\"text-align: right;\">             11</td><td style=\"text-align: right;\">     9</td><td style=\"text-align: right;\">3.54222e-06</td><td style=\"text-align: right;\">         0.0011</td><td style=\"text-align: right;\">    40</td><td style=\"text-align: right;\">         4.10227</td><td style=\"text-align: right;\">        200</td><td style=\"text-align: right;\">0.102583   </td><td style=\"text-align: right;\">0.102549   </td></tr>\n",
       "<tr><td>TrainLightGCN_758be46e</td><td>TERMINATED</td><td>147.96.81.131:3883531</td><td style=\"text-align: right;\">           7</td><td style=\"text-align: right;\">            3</td><td style=\"text-align: right;\">             31</td><td style=\"text-align: right;\">     9</td><td style=\"text-align: right;\">0.00138468 </td><td style=\"text-align: right;\">         0.4767</td><td style=\"text-align: right;\">    40</td><td style=\"text-align: right;\">         4.09476</td><td style=\"text-align: right;\">        200</td><td style=\"text-align: right;\">0.584092   </td><td style=\"text-align: right;\">0.122357   </td></tr>\n",
       "<tr><td>TrainLightGCN_e62afdec</td><td>TERMINATED</td><td>147.96.81.131:3883688</td><td style=\"text-align: right;\">           9</td><td style=\"text-align: right;\">            4</td><td style=\"text-align: right;\">             47</td><td style=\"text-align: right;\">     9</td><td style=\"text-align: right;\">4.37236e-06</td><td style=\"text-align: right;\">         0.0763</td><td style=\"text-align: right;\">    40</td><td style=\"text-align: right;\">         2.99552</td><td style=\"text-align: right;\">        200</td><td style=\"text-align: right;\">0.00064582 </td><td style=\"text-align: right;\">0.000174724</td></tr>\n",
       "<tr><td>TrainLightGCN_8a3b79ac</td><td>TERMINATED</td><td>147.96.81.131:3883853</td><td style=\"text-align: right;\">           7</td><td style=\"text-align: right;\">            2</td><td style=\"text-align: right;\">            338</td><td style=\"text-align: right;\">     9</td><td style=\"text-align: right;\">1.08811e-07</td><td style=\"text-align: right;\">         0.0005</td><td style=\"text-align: right;\">    40</td><td style=\"text-align: right;\">         4.07174</td><td style=\"text-align: right;\">        200</td><td style=\"text-align: right;\">0.00959444 </td><td style=\"text-align: right;\">0.00959249 </td></tr>\n",
       "<tr><td>TrainLightGCN_abba096f</td><td>TERMINATED</td><td>147.96.81.131:3884029</td><td style=\"text-align: right;\">           6</td><td style=\"text-align: right;\">            2</td><td style=\"text-align: right;\">              1</td><td style=\"text-align: right;\">     9</td><td style=\"text-align: right;\">0.000150931</td><td style=\"text-align: right;\">         0.0021</td><td style=\"text-align: right;\">    40</td><td style=\"text-align: right;\">         5.59259</td><td style=\"text-align: right;\">        200</td><td style=\"text-align: right;\">0.315336   </td><td style=\"text-align: right;\">0.314438   </td></tr>\n",
       "<tr><td>TrainLightGCN_d24749cf</td><td>TERMINATED</td><td>147.96.81.131:3884191</td><td style=\"text-align: right;\">           6</td><td style=\"text-align: right;\">            1</td><td style=\"text-align: right;\">              1</td><td style=\"text-align: right;\">     9</td><td style=\"text-align: right;\">0.000192168</td><td style=\"text-align: right;\">         0.0225</td><td style=\"text-align: right;\">    40</td><td style=\"text-align: right;\">         5.91758</td><td style=\"text-align: right;\">        200</td><td style=\"text-align: right;\">0.252423   </td><td style=\"text-align: right;\">0.250979   </td></tr>\n",
       "<tr><td>TrainLightGCN_55f72d62</td><td>TERMINATED</td><td>147.96.81.131:3884359</td><td style=\"text-align: right;\">           6</td><td style=\"text-align: right;\">            2</td><td style=\"text-align: right;\">             17</td><td style=\"text-align: right;\">     9</td><td style=\"text-align: right;\">0.000178308</td><td style=\"text-align: right;\">         0.0001</td><td style=\"text-align: right;\">    40</td><td style=\"text-align: right;\">         6.1463 </td><td style=\"text-align: right;\">        200</td><td style=\"text-align: right;\">0.332199   </td><td style=\"text-align: right;\">0.331831   </td></tr>\n",
       "<tr><td>TrainLightGCN_b4600407</td><td>TERMINATED</td><td>147.96.81.131:3884523</td><td style=\"text-align: right;\">           6</td><td style=\"text-align: right;\">            2</td><td style=\"text-align: right;\">              1</td><td style=\"text-align: right;\">     9</td><td style=\"text-align: right;\">7.7749e-05 </td><td style=\"text-align: right;\">         0.0023</td><td style=\"text-align: right;\">    40</td><td style=\"text-align: right;\">         6.09464</td><td style=\"text-align: right;\">        200</td><td style=\"text-align: right;\">0.312044   </td><td style=\"text-align: right;\">0.311567   </td></tr>\n",
       "<tr><td>TrainLightGCN_875bc31c</td><td>TERMINATED</td><td>147.96.81.131:3884690</td><td style=\"text-align: right;\">           6</td><td style=\"text-align: right;\">            1</td><td style=\"text-align: right;\">           1015</td><td style=\"text-align: right;\">     9</td><td style=\"text-align: right;\">1.43376e-05</td><td style=\"text-align: right;\">         0.0203</td><td style=\"text-align: right;\">    40</td><td style=\"text-align: right;\">         6.06856</td><td style=\"text-align: right;\">        200</td><td style=\"text-align: right;\">0.142001   </td><td style=\"text-align: right;\">0.125208   </td></tr>\n",
       "<tr><td>TrainLightGCN_d60a117b</td><td>TERMINATED</td><td>147.96.81.131:3884860</td><td style=\"text-align: right;\">           6</td><td style=\"text-align: right;\">            2</td><td style=\"text-align: right;\">              2</td><td style=\"text-align: right;\">     9</td><td style=\"text-align: right;\">0.000124345</td><td style=\"text-align: right;\">         0.0034</td><td style=\"text-align: right;\">    40</td><td style=\"text-align: right;\">         6.17883</td><td style=\"text-align: right;\">        200</td><td style=\"text-align: right;\">0.0861087  </td><td style=\"text-align: right;\">0.0848322  </td></tr>\n",
       "<tr><td>TrainLightGCN_f8bb44ea</td><td>TERMINATED</td><td>147.96.81.131:3885029</td><td style=\"text-align: right;\">           6</td><td style=\"text-align: right;\">            1</td><td style=\"text-align: right;\">              2</td><td style=\"text-align: right;\">     9</td><td style=\"text-align: right;\">6.52111e-05</td><td style=\"text-align: right;\">         0.0008</td><td style=\"text-align: right;\">    40</td><td style=\"text-align: right;\">         6.14083</td><td style=\"text-align: right;\">        200</td><td style=\"text-align: right;\">0.14661    </td><td style=\"text-align: right;\">0.146295   </td></tr>\n",
       "<tr><td>TrainLightGCN_51bb33b1</td><td>TERMINATED</td><td>147.96.81.131:3885196</td><td style=\"text-align: right;\">           6</td><td style=\"text-align: right;\">            2</td><td style=\"text-align: right;\">              2</td><td style=\"text-align: right;\">     9</td><td style=\"text-align: right;\">1.725e-05  </td><td style=\"text-align: right;\">         0.0002</td><td style=\"text-align: right;\">    40</td><td style=\"text-align: right;\">         6.08081</td><td style=\"text-align: right;\">        200</td><td style=\"text-align: right;\">0.462216   </td><td style=\"text-align: right;\">0.462199   </td></tr>\n",
       "<tr><td>TrainLightGCN_97303c36</td><td>TERMINATED</td><td>147.96.81.131:3885366</td><td style=\"text-align: right;\">           8</td><td style=\"text-align: right;\">            1</td><td style=\"text-align: right;\">              1</td><td style=\"text-align: right;\">     9</td><td style=\"text-align: right;\">9.70186e-06</td><td style=\"text-align: right;\">         0.0028</td><td style=\"text-align: right;\">    40</td><td style=\"text-align: right;\">         3.26682</td><td style=\"text-align: right;\">        200</td><td style=\"text-align: right;\">0.331733   </td><td style=\"text-align: right;\">0.331699   </td></tr>\n",
       "<tr><td>TrainLightGCN_86369004</td><td>TERMINATED</td><td>147.96.81.131:3885532</td><td style=\"text-align: right;\">           8</td><td style=\"text-align: right;\">            2</td><td style=\"text-align: right;\">              3</td><td style=\"text-align: right;\">     9</td><td style=\"text-align: right;\">5.71918e-05</td><td style=\"text-align: right;\">         0.0058</td><td style=\"text-align: right;\">    40</td><td style=\"text-align: right;\">         3.27184</td><td style=\"text-align: right;\">        200</td><td style=\"text-align: right;\">0.0635843  </td><td style=\"text-align: right;\">0.0629613  </td></tr>\n",
       "<tr><td>TrainLightGCN_74fec377</td><td>TERMINATED</td><td>147.96.81.131:3885708</td><td style=\"text-align: right;\">           6</td><td style=\"text-align: right;\">            2</td><td style=\"text-align: right;\">             14</td><td style=\"text-align: right;\">     9</td><td style=\"text-align: right;\">0.000409024</td><td style=\"text-align: right;\">         0.0751</td><td style=\"text-align: right;\">    40</td><td style=\"text-align: right;\">         5.57614</td><td style=\"text-align: right;\">        200</td><td style=\"text-align: right;\">0.0218186  </td><td style=\"text-align: right;\">0.00211985 </td></tr>\n",
       "<tr><td>TrainLightGCN_7fb2de8b</td><td>TERMINATED</td><td>147.96.81.131:3885873</td><td style=\"text-align: right;\">           8</td><td style=\"text-align: right;\">            1</td><td style=\"text-align: right;\">              1</td><td style=\"text-align: right;\">     9</td><td style=\"text-align: right;\">2.65042e-05</td><td style=\"text-align: right;\">         0.012 </td><td style=\"text-align: right;\">    40</td><td style=\"text-align: right;\">         3.34807</td><td style=\"text-align: right;\">        200</td><td style=\"text-align: right;\">0.314455   </td><td style=\"text-align: right;\">0.314321   </td></tr>\n",
       "<tr><td>TrainLightGCN_4ffa9f2f</td><td>TERMINATED</td><td>147.96.81.131:3886035</td><td style=\"text-align: right;\">           6</td><td style=\"text-align: right;\">            2</td><td style=\"text-align: right;\">              3</td><td style=\"text-align: right;\">     9</td><td style=\"text-align: right;\">1.64995e-06</td><td style=\"text-align: right;\">         0.002 </td><td style=\"text-align: right;\">    40</td><td style=\"text-align: right;\">         5.75104</td><td style=\"text-align: right;\">        200</td><td style=\"text-align: right;\">0.0753007  </td><td style=\"text-align: right;\">0.0752841  </td></tr>\n",
       "<tr><td>TrainLightGCN_70fb436e</td><td>TERMINATED</td><td>147.96.81.131:3886209</td><td style=\"text-align: right;\">           8</td><td style=\"text-align: right;\">            1</td><td style=\"text-align: right;\">             19</td><td style=\"text-align: right;\">     9</td><td style=\"text-align: right;\">2.38473e-05</td><td style=\"text-align: right;\">         0.0636</td><td style=\"text-align: right;\">    40</td><td style=\"text-align: right;\">         3.43981</td><td style=\"text-align: right;\">        200</td><td style=\"text-align: right;\">0.00156599 </td><td style=\"text-align: right;\">0.000460835</td></tr>\n",
       "<tr><td>TrainLightGCN_904bdfb9</td><td>TERMINATED</td><td>147.96.81.131:3886368</td><td style=\"text-align: right;\">           8</td><td style=\"text-align: right;\">            1</td><td style=\"text-align: right;\">            927</td><td style=\"text-align: right;\">     9</td><td style=\"text-align: right;\">3.15312e-05</td><td style=\"text-align: right;\">         0.0152</td><td style=\"text-align: right;\">    40</td><td style=\"text-align: right;\">         3.38078</td><td style=\"text-align: right;\">        200</td><td style=\"text-align: right;\">0.0149451  </td><td style=\"text-align: right;\">0.00641276 </td></tr>\n",
       "<tr><td>TrainLightGCN_152c29d8</td><td>TERMINATED</td><td>147.96.81.131:3886539</td><td style=\"text-align: right;\">           9</td><td style=\"text-align: right;\">            1</td><td style=\"text-align: right;\">              2</td><td style=\"text-align: right;\">     9</td><td style=\"text-align: right;\">0.00221591 </td><td style=\"text-align: right;\">         0.0521</td><td style=\"text-align: right;\">    40</td><td style=\"text-align: right;\">         2.98111</td><td style=\"text-align: right;\">        200</td><td style=\"text-align: right;\">0.102578   </td><td style=\"text-align: right;\">0.0814438  </td></tr>\n",
       "<tr><td>TrainLightGCN_90ea52f2</td><td>TERMINATED</td><td>147.96.81.131:3886708</td><td style=\"text-align: right;\">           8</td><td style=\"text-align: right;\">            1</td><td style=\"text-align: right;\">              1</td><td style=\"text-align: right;\">     9</td><td style=\"text-align: right;\">2.21067e-06</td><td style=\"text-align: right;\">         0.0391</td><td style=\"text-align: right;\">    40</td><td style=\"text-align: right;\">         3.20297</td><td style=\"text-align: right;\">        200</td><td style=\"text-align: right;\">0.241535   </td><td style=\"text-align: right;\">0.241517   </td></tr>\n",
       "<tr><td>TrainLightGCN_68361903</td><td>TERMINATED</td><td>147.96.81.131:3886878</td><td style=\"text-align: right;\">           9</td><td style=\"text-align: right;\">            3</td><td style=\"text-align: right;\">              3</td><td style=\"text-align: right;\">     9</td><td style=\"text-align: right;\">8.40579e-06</td><td style=\"text-align: right;\">         0.8269</td><td style=\"text-align: right;\">    40</td><td style=\"text-align: right;\">         2.98943</td><td style=\"text-align: right;\">        200</td><td style=\"text-align: right;\">0.228598   </td><td style=\"text-align: right;\">0.227376   </td></tr>\n",
       "<tr><td>TrainLightGCN_ccec67c0</td><td>TERMINATED</td><td>147.96.81.131:3887047</td><td style=\"text-align: right;\">           7</td><td style=\"text-align: right;\">            3</td><td style=\"text-align: right;\">            571</td><td style=\"text-align: right;\">     9</td><td style=\"text-align: right;\">7.28695e-07</td><td style=\"text-align: right;\">         0.005 </td><td style=\"text-align: right;\">    40</td><td style=\"text-align: right;\">         4.24829</td><td style=\"text-align: right;\">        200</td><td style=\"text-align: right;\">0.000242674</td><td style=\"text-align: right;\">0.000201012</td></tr>\n",
       "<tr><td>TrainLightGCN_6170a525</td><td>TERMINATED</td><td>147.96.81.131:3887212</td><td style=\"text-align: right;\">           8</td><td style=\"text-align: right;\">            5</td><td style=\"text-align: right;\">              4</td><td style=\"text-align: right;\">     9</td><td style=\"text-align: right;\">0.000302583</td><td style=\"text-align: right;\">         0.0001</td><td style=\"text-align: right;\">    40</td><td style=\"text-align: right;\">         3.42049</td><td style=\"text-align: right;\">        200</td><td style=\"text-align: right;\">0.661687   </td><td style=\"text-align: right;\">0.661636   </td></tr>\n",
       "<tr><td>TrainLightGCN_22faad63</td><td>TERMINATED</td><td>147.96.81.131:3887370</td><td style=\"text-align: right;\">           7</td><td style=\"text-align: right;\">            1</td><td style=\"text-align: right;\">              9</td><td style=\"text-align: right;\">     9</td><td style=\"text-align: right;\">9.8634e-05 </td><td style=\"text-align: right;\">         0.0092</td><td style=\"text-align: right;\">    40</td><td style=\"text-align: right;\">         3.99273</td><td style=\"text-align: right;\">        200</td><td style=\"text-align: right;\">0.00636011 </td><td style=\"text-align: right;\">0.00447618 </td></tr>\n",
       "<tr><td>TrainLightGCN_83b7e8d8</td><td>TERMINATED</td><td>147.96.81.131:3887545</td><td style=\"text-align: right;\">           7</td><td style=\"text-align: right;\">            3</td><td style=\"text-align: right;\">              1</td><td style=\"text-align: right;\">     9</td><td style=\"text-align: right;\">3.72334e-05</td><td style=\"text-align: right;\">         0.147 </td><td style=\"text-align: right;\">    40</td><td style=\"text-align: right;\">         4.07622</td><td style=\"text-align: right;\">        200</td><td style=\"text-align: right;\">0.257255   </td><td style=\"text-align: right;\">0.256047   </td></tr>\n",
       "<tr><td>TrainLightGCN_be0a2d0f</td><td>TERMINATED</td><td>147.96.81.131:3887707</td><td style=\"text-align: right;\">           8</td><td style=\"text-align: right;\">            1</td><td style=\"text-align: right;\">            169</td><td style=\"text-align: right;\">     9</td><td style=\"text-align: right;\">0.000676418</td><td style=\"text-align: right;\">         0.0008</td><td style=\"text-align: right;\">    40</td><td style=\"text-align: right;\">         3.3867 </td><td style=\"text-align: right;\">        200</td><td style=\"text-align: right;\">0.0187929  </td><td style=\"text-align: right;\">0.0103847  </td></tr>\n",
       "<tr><td>TrainLightGCN_40ff037c</td><td>TERMINATED</td><td>147.96.81.131:3887872</td><td style=\"text-align: right;\">           9</td><td style=\"text-align: right;\">            2</td><td style=\"text-align: right;\">             21</td><td style=\"text-align: right;\">     9</td><td style=\"text-align: right;\">0.00861738 </td><td style=\"text-align: right;\">         0.122 </td><td style=\"text-align: right;\">    40</td><td style=\"text-align: right;\">         2.99183</td><td style=\"text-align: right;\">        200</td><td style=\"text-align: right;\">0.130256   </td><td style=\"text-align: right;\">0.0421146  </td></tr>\n",
       "<tr><td>TrainLightGCN_d3341c30</td><td>TERMINATED</td><td>147.96.81.131:3888047</td><td style=\"text-align: right;\">           7</td><td style=\"text-align: right;\">            5</td><td style=\"text-align: right;\">              1</td><td style=\"text-align: right;\">     9</td><td style=\"text-align: right;\">5.9779e-07 </td><td style=\"text-align: right;\">         0.4016</td><td style=\"text-align: right;\">    40</td><td style=\"text-align: right;\">         4.09185</td><td style=\"text-align: right;\">        200</td><td style=\"text-align: right;\">0.157084   </td><td style=\"text-align: right;\">0.157034   </td></tr>\n",
       "<tr><td>TrainLightGCN_ffccaa3d</td><td>TERMINATED</td><td>147.96.81.131:3888213</td><td style=\"text-align: right;\">           8</td><td style=\"text-align: right;\">            3</td><td style=\"text-align: right;\">              5</td><td style=\"text-align: right;\">     9</td><td style=\"text-align: right;\">5.32478e-06</td><td style=\"text-align: right;\">         0.1675</td><td style=\"text-align: right;\">    40</td><td style=\"text-align: right;\">         3.33043</td><td style=\"text-align: right;\">        200</td><td style=\"text-align: right;\">0.024555   </td><td style=\"text-align: right;\">0.0240822  </td></tr>\n",
       "<tr><td>TrainLightGCN_a5c7df1e</td><td>TERMINATED</td><td>147.96.81.131:3888373</td><td style=\"text-align: right;\">           7</td><td style=\"text-align: right;\">            3</td><td style=\"text-align: right;\">             48</td><td style=\"text-align: right;\">     9</td><td style=\"text-align: right;\">1.24085e-05</td><td style=\"text-align: right;\">         0.0332</td><td style=\"text-align: right;\">    40</td><td style=\"text-align: right;\">         4.12563</td><td style=\"text-align: right;\">        200</td><td style=\"text-align: right;\">0.0010482  </td><td style=\"text-align: right;\">0.000152876</td></tr>\n",
       "<tr><td>TrainLightGCN_92dd6f82</td><td>TERMINATED</td><td>147.96.81.131:3888549</td><td style=\"text-align: right;\">           7</td><td style=\"text-align: right;\">            3</td><td style=\"text-align: right;\">              2</td><td style=\"text-align: right;\">     9</td><td style=\"text-align: right;\">4.51806e-05</td><td style=\"text-align: right;\">         0.2777</td><td style=\"text-align: right;\">    40</td><td style=\"text-align: right;\">         4.06789</td><td style=\"text-align: right;\">        200</td><td style=\"text-align: right;\">0.108342   </td><td style=\"text-align: right;\">0.106161   </td></tr>\n",
       "<tr><td>TrainLightGCN_b818d9b1</td><td>TERMINATED</td><td>147.96.81.131:3888711</td><td style=\"text-align: right;\">           9</td><td style=\"text-align: right;\">            4</td><td style=\"text-align: right;\">             11</td><td style=\"text-align: right;\">     9</td><td style=\"text-align: right;\">0.000264234</td><td style=\"text-align: right;\">         0.7808</td><td style=\"text-align: right;\">    40</td><td style=\"text-align: right;\">         2.99077</td><td style=\"text-align: right;\">        200</td><td style=\"text-align: right;\">0.216203   </td><td style=\"text-align: right;\">0.0690271  </td></tr>\n",
       "<tr><td>TrainLightGCN_588c1269</td><td>TERMINATED</td><td>147.96.81.131:3888879</td><td style=\"text-align: right;\">           8</td><td style=\"text-align: right;\">            5</td><td style=\"text-align: right;\">              7</td><td style=\"text-align: right;\">     9</td><td style=\"text-align: right;\">2.96143e-07</td><td style=\"text-align: right;\">         0.0127</td><td style=\"text-align: right;\">    40</td><td style=\"text-align: right;\">         3.37598</td><td style=\"text-align: right;\">        200</td><td style=\"text-align: right;\">0.021831   </td><td style=\"text-align: right;\">0.0218219  </td></tr>\n",
       "<tr><td>TrainLightGCN_075ec372</td><td>TERMINATED</td><td>147.96.81.131:3889050</td><td style=\"text-align: right;\">           7</td><td style=\"text-align: right;\">            3</td><td style=\"text-align: right;\">              2</td><td style=\"text-align: right;\">     9</td><td style=\"text-align: right;\">2.89366e-06</td><td style=\"text-align: right;\">         0.3033</td><td style=\"text-align: right;\">    40</td><td style=\"text-align: right;\">         4.06777</td><td style=\"text-align: right;\">        200</td><td style=\"text-align: right;\">0.0983414  </td><td style=\"text-align: right;\">0.0981708  </td></tr>\n",
       "<tr><td>TrainLightGCN_57178980</td><td>TERMINATED</td><td>147.96.81.131:3889219</td><td style=\"text-align: right;\">           9</td><td style=\"text-align: right;\">            4</td><td style=\"text-align: right;\">             24</td><td style=\"text-align: right;\">     9</td><td style=\"text-align: right;\">2.06883e-05</td><td style=\"text-align: right;\">         0.1054</td><td style=\"text-align: right;\">    40</td><td style=\"text-align: right;\">         2.96828</td><td style=\"text-align: right;\">        200</td><td style=\"text-align: right;\">0.00211896 </td><td style=\"text-align: right;\">0.000292988</td></tr>\n",
       "<tr><td>TrainLightGCN_658711a7</td><td>TERMINATED</td><td>147.96.81.131:3889380</td><td style=\"text-align: right;\">           8</td><td style=\"text-align: right;\">            4</td><td style=\"text-align: right;\">              4</td><td style=\"text-align: right;\">     9</td><td style=\"text-align: right;\">0.0024829  </td><td style=\"text-align: right;\">         0.2462</td><td style=\"text-align: right;\">    40</td><td style=\"text-align: right;\">         3.28626</td><td style=\"text-align: right;\">        200</td><td style=\"text-align: right;\">0.0929606  </td><td style=\"text-align: right;\">0.0420705  </td></tr>\n",
       "<tr><td>TrainLightGCN_e0588094</td><td>TERMINATED</td><td>147.96.81.131:3889556</td><td style=\"text-align: right;\">           7</td><td style=\"text-align: right;\">            3</td><td style=\"text-align: right;\">             71</td><td style=\"text-align: right;\">     9</td><td style=\"text-align: right;\">1.16828e-07</td><td style=\"text-align: right;\">         0.0301</td><td style=\"text-align: right;\">    40</td><td style=\"text-align: right;\">         4.08304</td><td style=\"text-align: right;\">        200</td><td style=\"text-align: right;\">3.93621e-05</td><td style=\"text-align: right;\">2.96533e-05</td></tr>\n",
       "<tr><td>TrainLightGCN_3ffbdf56</td><td>TERMINATED</td><td>147.96.81.131:3889721</td><td style=\"text-align: right;\">           7</td><td style=\"text-align: right;\">            3</td><td style=\"text-align: right;\">            129</td><td style=\"text-align: right;\">     9</td><td style=\"text-align: right;\">2.50572e-06</td><td style=\"text-align: right;\">         0.4025</td><td style=\"text-align: right;\">    40</td><td style=\"text-align: right;\">         4.01281</td><td style=\"text-align: right;\">        200</td><td style=\"text-align: right;\">0.56372    </td><td style=\"text-align: right;\">0.484686   </td></tr>\n",
       "<tr><td>TrainLightGCN_a9184d28</td><td>TERMINATED</td><td>147.96.81.131:3889878</td><td style=\"text-align: right;\">           8</td><td style=\"text-align: right;\">            5</td><td style=\"text-align: right;\">              6</td><td style=\"text-align: right;\">     9</td><td style=\"text-align: right;\">3.94011e-07</td><td style=\"text-align: right;\">         0.0002</td><td style=\"text-align: right;\">    40</td><td style=\"text-align: right;\">         3.31132</td><td style=\"text-align: right;\">        200</td><td style=\"text-align: right;\">0.53762    </td><td style=\"text-align: right;\">0.53762    </td></tr>\n",
       "<tr><td>TrainLightGCN_825076fc</td><td>TERMINATED</td><td>147.96.81.131:3890047</td><td style=\"text-align: right;\">           7</td><td style=\"text-align: right;\">            4</td><td style=\"text-align: right;\">             34</td><td style=\"text-align: right;\">     9</td><td style=\"text-align: right;\">1.19157e-06</td><td style=\"text-align: right;\">         0.6475</td><td style=\"text-align: right;\">    40</td><td style=\"text-align: right;\">         4.02546</td><td style=\"text-align: right;\">        200</td><td style=\"text-align: right;\">0.0867029  </td><td style=\"text-align: right;\">0.0600954  </td></tr>\n",
       "<tr><td>TrainLightGCN_ce6f9f4d</td><td>TERMINATED</td><td>147.96.81.131:3890223</td><td style=\"text-align: right;\">           8</td><td style=\"text-align: right;\">            3</td><td style=\"text-align: right;\">              1</td><td style=\"text-align: right;\">     9</td><td style=\"text-align: right;\">1.59224e-07</td><td style=\"text-align: right;\">         0.0074</td><td style=\"text-align: right;\">    40</td><td style=\"text-align: right;\">         3.31169</td><td style=\"text-align: right;\">        200</td><td style=\"text-align: right;\">0.166877   </td><td style=\"text-align: right;\">0.166876   </td></tr>\n",
       "<tr><td>TrainLightGCN_cd206e58</td><td>TERMINATED</td><td>147.96.81.131:3890380</td><td style=\"text-align: right;\">           9</td><td style=\"text-align: right;\">            3</td><td style=\"text-align: right;\">             12</td><td style=\"text-align: right;\">     9</td><td style=\"text-align: right;\">3.17328e-06</td><td style=\"text-align: right;\">         0.0044</td><td style=\"text-align: right;\">    40</td><td style=\"text-align: right;\">         3.0316 </td><td style=\"text-align: right;\">        200</td><td style=\"text-align: right;\">0.0393797  </td><td style=\"text-align: right;\">0.039331   </td></tr>\n",
       "<tr><td>TrainLightGCN_8efa932c</td><td>TERMINATED</td><td>147.96.81.131:3890555</td><td style=\"text-align: right;\">           7</td><td style=\"text-align: right;\">            4</td><td style=\"text-align: right;\">              2</td><td style=\"text-align: right;\">     9</td><td style=\"text-align: right;\">6.29263e-06</td><td style=\"text-align: right;\">         0.0134</td><td style=\"text-align: right;\">    40</td><td style=\"text-align: right;\">         4.21051</td><td style=\"text-align: right;\">        200</td><td style=\"text-align: right;\">0.0623506  </td><td style=\"text-align: right;\">0.0622451  </td></tr>\n",
       "<tr><td>TrainLightGCN_daccf60e</td><td>TERMINATED</td><td>147.96.81.131:3890719</td><td style=\"text-align: right;\">           8</td><td style=\"text-align: right;\">            2</td><td style=\"text-align: right;\">              3</td><td style=\"text-align: right;\">     9</td><td style=\"text-align: right;\">5.17157e-07</td><td style=\"text-align: right;\">         0.0484</td><td style=\"text-align: right;\">    40</td><td style=\"text-align: right;\">         3.30241</td><td style=\"text-align: right;\">        200</td><td style=\"text-align: right;\">0.0463201  </td><td style=\"text-align: right;\">0.0463074  </td></tr>\n",
       "<tr><td>TrainLightGCN_73e84841</td><td>TERMINATED</td><td>147.96.81.131:3890878</td><td style=\"text-align: right;\">           9</td><td style=\"text-align: right;\">            4</td><td style=\"text-align: right;\">              1</td><td style=\"text-align: right;\">     9</td><td style=\"text-align: right;\">8.70237e-07</td><td style=\"text-align: right;\">         0.098 </td><td style=\"text-align: right;\">    40</td><td style=\"text-align: right;\">         3.05009</td><td style=\"text-align: right;\">        200</td><td style=\"text-align: right;\">0.170773   </td><td style=\"text-align: right;\">0.170753   </td></tr>\n",
       "<tr><td>TrainLightGCN_e21bdefd</td><td>TERMINATED</td><td>147.96.81.131:3891050</td><td style=\"text-align: right;\">           6</td><td style=\"text-align: right;\">            5</td><td style=\"text-align: right;\">              4</td><td style=\"text-align: right;\">     9</td><td style=\"text-align: right;\">1.22862e-05</td><td style=\"text-align: right;\">         0.0016</td><td style=\"text-align: right;\">    40</td><td style=\"text-align: right;\">         5.88192</td><td style=\"text-align: right;\">        200</td><td style=\"text-align: right;\">0.130628   </td><td style=\"text-align: right;\">0.1305     </td></tr>\n",
       "<tr><td>TrainLightGCN_7fe882e5</td><td>TERMINATED</td><td>147.96.81.131:3891218</td><td style=\"text-align: right;\">           8</td><td style=\"text-align: right;\">            4</td><td style=\"text-align: right;\">             16</td><td style=\"text-align: right;\">     9</td><td style=\"text-align: right;\">6.82063e-06</td><td style=\"text-align: right;\">         0.0145</td><td style=\"text-align: right;\">    40</td><td style=\"text-align: right;\">         3.53553</td><td style=\"text-align: right;\">        200</td><td style=\"text-align: right;\">0.00479253 </td><td style=\"text-align: right;\">0.00451938 </td></tr>\n",
       "<tr><td>TrainLightGCN_e6bb403a</td><td>TERMINATED</td><td>147.96.81.131:3891380</td><td style=\"text-align: right;\">           7</td><td style=\"text-align: right;\">            5</td><td style=\"text-align: right;\">              2</td><td style=\"text-align: right;\">     9</td><td style=\"text-align: right;\">4.12061e-06</td><td style=\"text-align: right;\">         0.0034</td><td style=\"text-align: right;\">    40</td><td style=\"text-align: right;\">         4.15101</td><td style=\"text-align: right;\">        200</td><td style=\"text-align: right;\">0.0808557  </td><td style=\"text-align: right;\">0.0808002  </td></tr>\n",
       "<tr><td>TrainLightGCN_8277b2f9</td><td>TERMINATED</td><td>147.96.81.131:3891555</td><td style=\"text-align: right;\">           7</td><td style=\"text-align: right;\">            4</td><td style=\"text-align: right;\">              2</td><td style=\"text-align: right;\">     9</td><td style=\"text-align: right;\">2.16518e-06</td><td style=\"text-align: right;\">         0.0247</td><td style=\"text-align: right;\">    40</td><td style=\"text-align: right;\">         4.27394</td><td style=\"text-align: right;\">        200</td><td style=\"text-align: right;\">0.061728   </td><td style=\"text-align: right;\">0.0616839  </td></tr>\n",
       "<tr><td>TrainLightGCN_fed09435</td><td>TERMINATED</td><td>147.96.81.131:3891709</td><td style=\"text-align: right;\">           7</td><td style=\"text-align: right;\">            4</td><td style=\"text-align: right;\">              1</td><td style=\"text-align: right;\">     9</td><td style=\"text-align: right;\">1.30689e-06</td><td style=\"text-align: right;\">         0.01  </td><td style=\"text-align: right;\">    40</td><td style=\"text-align: right;\">         4.11828</td><td style=\"text-align: right;\">        200</td><td style=\"text-align: right;\">0.157906   </td><td style=\"text-align: right;\">0.157893   </td></tr>\n",
       "<tr><td>TrainLightGCN_7415c9d3</td><td>TERMINATED</td><td>147.96.81.131:3891878</td><td style=\"text-align: right;\">           7</td><td style=\"text-align: right;\">            4</td><td style=\"text-align: right;\">              3</td><td style=\"text-align: right;\">     9</td><td style=\"text-align: right;\">5.20979e-06</td><td style=\"text-align: right;\">         0.0065</td><td style=\"text-align: right;\">    40</td><td style=\"text-align: right;\">         4.19219</td><td style=\"text-align: right;\">        200</td><td style=\"text-align: right;\">0.0670646  </td><td style=\"text-align: right;\">0.0669858  </td></tr>\n",
       "<tr><td>TrainLightGCN_9efe2bc0</td><td>TERMINATED</td><td>147.96.81.131:3892047</td><td style=\"text-align: right;\">           7</td><td style=\"text-align: right;\">            5</td><td style=\"text-align: right;\">              9</td><td style=\"text-align: right;\">     9</td><td style=\"text-align: right;\">9.97438e-05</td><td style=\"text-align: right;\">         0.011 </td><td style=\"text-align: right;\">    40</td><td style=\"text-align: right;\">         4.27905</td><td style=\"text-align: right;\">        200</td><td style=\"text-align: right;\">0.0189003  </td><td style=\"text-align: right;\">0.0154023  </td></tr>\n",
       "<tr><td>TrainLightGCN_861ed400</td><td>TERMINATED</td><td>147.96.81.131:3892215</td><td style=\"text-align: right;\">           6</td><td style=\"text-align: right;\">            3</td><td style=\"text-align: right;\">              2</td><td style=\"text-align: right;\">     9</td><td style=\"text-align: right;\">2.70077e-05</td><td style=\"text-align: right;\">         0.0009</td><td style=\"text-align: right;\">    40</td><td style=\"text-align: right;\">         5.85857</td><td style=\"text-align: right;\">        200</td><td style=\"text-align: right;\">0.146776   </td><td style=\"text-align: right;\">0.146598   </td></tr>\n",
       "<tr><td>TrainLightGCN_ee53fe9a</td><td>TERMINATED</td><td>147.96.81.131:3892380</td><td style=\"text-align: right;\">           7</td><td style=\"text-align: right;\">            2</td><td style=\"text-align: right;\">              1</td><td style=\"text-align: right;\">     9</td><td style=\"text-align: right;\">9.26006e-06</td><td style=\"text-align: right;\">         0.0179</td><td style=\"text-align: right;\">    40</td><td style=\"text-align: right;\">         4.26345</td><td style=\"text-align: right;\">        200</td><td style=\"text-align: right;\">0.294646   </td><td style=\"text-align: right;\">0.294547   </td></tr>\n",
       "<tr><td>TrainLightGCN_aefd4203</td><td>TERMINATED</td><td>147.96.81.131:3892544</td><td style=\"text-align: right;\">           6</td><td style=\"text-align: right;\">            5</td><td style=\"text-align: right;\">              5</td><td style=\"text-align: right;\">     9</td><td style=\"text-align: right;\">1.90663e-05</td><td style=\"text-align: right;\">         0.0004</td><td style=\"text-align: right;\">    40</td><td style=\"text-align: right;\">         5.86871</td><td style=\"text-align: right;\">        200</td><td style=\"text-align: right;\">0.183056   </td><td style=\"text-align: right;\">0.182942   </td></tr>\n",
       "<tr><td>TrainLightGCN_44a8e826</td><td>TERMINATED</td><td>147.96.81.131:3892712</td><td style=\"text-align: right;\">           7</td><td style=\"text-align: right;\">            3</td><td style=\"text-align: right;\">              1</td><td style=\"text-align: right;\">     9</td><td style=\"text-align: right;\">6.65835e-06</td><td style=\"text-align: right;\">         0.0495</td><td style=\"text-align: right;\">    40</td><td style=\"text-align: right;\">         4.27064</td><td style=\"text-align: right;\">        200</td><td style=\"text-align: right;\">0.172951   </td><td style=\"text-align: right;\">0.172842   </td></tr>\n",
       "<tr><td>TrainLightGCN_85b60b86</td><td>TERMINATED</td><td>147.96.81.131:3892881</td><td style=\"text-align: right;\">           8</td><td style=\"text-align: right;\">            4</td><td style=\"text-align: right;\">              2</td><td style=\"text-align: right;\">     9</td><td style=\"text-align: right;\">4.84153e-05</td><td style=\"text-align: right;\">         0.0015</td><td style=\"text-align: right;\">    40</td><td style=\"text-align: right;\">         3.46159</td><td style=\"text-align: right;\">        200</td><td style=\"text-align: right;\">0.181154   </td><td style=\"text-align: right;\">0.180906   </td></tr>\n",
       "<tr><td>TrainLightGCN_e62c3774</td><td>TERMINATED</td><td>147.96.81.131:3893048</td><td style=\"text-align: right;\">           7</td><td style=\"text-align: right;\">            2</td><td style=\"text-align: right;\">              7</td><td style=\"text-align: right;\">     9</td><td style=\"text-align: right;\">6.88444e-05</td><td style=\"text-align: right;\">         0.9898</td><td style=\"text-align: right;\">    40</td><td style=\"text-align: right;\">         4.03802</td><td style=\"text-align: right;\">        200</td><td style=\"text-align: right;\">0.668904   </td><td style=\"text-align: right;\">0.254253   </td></tr>\n",
       "<tr><td>TrainLightGCN_67241982</td><td>TERMINATED</td><td>147.96.81.131:3893222</td><td style=\"text-align: right;\">           8</td><td style=\"text-align: right;\">            2</td><td style=\"text-align: right;\">              1</td><td style=\"text-align: right;\">     9</td><td style=\"text-align: right;\">2.87539e-06</td><td style=\"text-align: right;\">         0.0025</td><td style=\"text-align: right;\">    40</td><td style=\"text-align: right;\">         3.14268</td><td style=\"text-align: right;\">        200</td><td style=\"text-align: right;\">0.321544   </td><td style=\"text-align: right;\">0.321532   </td></tr>\n",
       "<tr><td>TrainLightGCN_c1595347</td><td>TERMINATED</td><td>147.96.81.131:3893383</td><td style=\"text-align: right;\">           6</td><td style=\"text-align: right;\">            4</td><td style=\"text-align: right;\">              3</td><td style=\"text-align: right;\">     9</td><td style=\"text-align: right;\">3.10469e-05</td><td style=\"text-align: right;\">         0.079 </td><td style=\"text-align: right;\">    40</td><td style=\"text-align: right;\">         5.92079</td><td style=\"text-align: right;\">        200</td><td style=\"text-align: right;\">0.0549508  </td><td style=\"text-align: right;\">0.05337    </td></tr>\n",
       "<tr><td>TrainLightGCN_11605266</td><td>TERMINATED</td><td>147.96.81.131:3893554</td><td style=\"text-align: right;\">           7</td><td style=\"text-align: right;\">            3</td><td style=\"text-align: right;\">            732</td><td style=\"text-align: right;\">     9</td><td style=\"text-align: right;\">1.6293e-06 </td><td style=\"text-align: right;\">         0.3173</td><td style=\"text-align: right;\">    40</td><td style=\"text-align: right;\">         4.45683</td><td style=\"text-align: right;\">        200</td><td style=\"text-align: right;\">2.8192     </td><td style=\"text-align: right;\">2.6381     </td></tr>\n",
       "<tr><td>TrainLightGCN_7bbd83df</td><td>TERMINATED</td><td>147.96.81.131:3893712</td><td style=\"text-align: right;\">           6</td><td style=\"text-align: right;\">            5</td><td style=\"text-align: right;\">              2</td><td style=\"text-align: right;\">     9</td><td style=\"text-align: right;\">1.50973e-05</td><td style=\"text-align: right;\">         0.0258</td><td style=\"text-align: right;\">    40</td><td style=\"text-align: right;\">         5.99417</td><td style=\"text-align: right;\">        200</td><td style=\"text-align: right;\">0.0783801  </td><td style=\"text-align: right;\">0.0779705  </td></tr>\n",
       "<tr><td>TrainLightGCN_2117bb7f</td><td>TERMINATED</td><td>147.96.81.131:3893881</td><td style=\"text-align: right;\">           7</td><td style=\"text-align: right;\">            4</td><td style=\"text-align: right;\">              4</td><td style=\"text-align: right;\">     9</td><td style=\"text-align: right;\">1.85746e-07</td><td style=\"text-align: right;\">         0.0401</td><td style=\"text-align: right;\">    40</td><td style=\"text-align: right;\">         4.4343 </td><td style=\"text-align: right;\">        200</td><td style=\"text-align: right;\">0.0178302  </td><td style=\"text-align: right;\">0.0178225  </td></tr>\n",
       "<tr><td>TrainLightGCN_201fa458</td><td>TERMINATED</td><td>147.96.81.131:3894051</td><td style=\"text-align: right;\">           8</td><td style=\"text-align: right;\">            3</td><td style=\"text-align: right;\">            237</td><td style=\"text-align: right;\">     9</td><td style=\"text-align: right;\">0.000134533</td><td style=\"text-align: right;\">         0.1661</td><td style=\"text-align: right;\">    40</td><td style=\"text-align: right;\">         3.28362</td><td style=\"text-align: right;\">        200</td><td style=\"text-align: right;\">0.524869   </td><td style=\"text-align: right;\">0.162426   </td></tr>\n",
       "<tr><td>TrainLightGCN_4e83e4e2</td><td>TERMINATED</td><td>147.96.81.131:3894221</td><td style=\"text-align: right;\">           7</td><td style=\"text-align: right;\">            2</td><td style=\"text-align: right;\">              1</td><td style=\"text-align: right;\">     9</td><td style=\"text-align: right;\">1.03007e-06</td><td style=\"text-align: right;\">         0.0051</td><td style=\"text-align: right;\">    40</td><td style=\"text-align: right;\">         3.98823</td><td style=\"text-align: right;\">        200</td><td style=\"text-align: right;\">0.269      </td><td style=\"text-align: right;\">0.268993   </td></tr>\n",
       "<tr><td>TrainLightGCN_ce45b07a</td><td>TERMINATED</td><td>147.96.81.131:3894389</td><td style=\"text-align: right;\">           8</td><td style=\"text-align: right;\">            3</td><td style=\"text-align: right;\">              1</td><td style=\"text-align: right;\">     9</td><td style=\"text-align: right;\">0.000716106</td><td style=\"text-align: right;\">         0.008 </td><td style=\"text-align: right;\">    40</td><td style=\"text-align: right;\">         3.26191</td><td style=\"text-align: right;\">        200</td><td style=\"text-align: right;\">0.172095   </td><td style=\"text-align: right;\">0.16673    </td></tr>\n",
       "<tr><td>TrainLightGCN_42b570c7</td><td>TERMINATED</td><td>147.96.81.131:3894552</td><td style=\"text-align: right;\">           6</td><td style=\"text-align: right;\">            1</td><td style=\"text-align: right;\">              6</td><td style=\"text-align: right;\">     9</td><td style=\"text-align: right;\">1.82187e-06</td><td style=\"text-align: right;\">         0.6022</td><td style=\"text-align: right;\">    40</td><td style=\"text-align: right;\">         5.75123</td><td style=\"text-align: right;\">        200</td><td style=\"text-align: right;\">2.72954    </td><td style=\"text-align: right;\">2.72333    </td></tr>\n",
       "<tr><td>TrainLightGCN_bd6abaaa</td><td>TERMINATED</td><td>147.96.81.131:3894726</td><td style=\"text-align: right;\">           7</td><td style=\"text-align: right;\">            5</td><td style=\"text-align: right;\">             26</td><td style=\"text-align: right;\">     9</td><td style=\"text-align: right;\">4.03933e-05</td><td style=\"text-align: right;\">         0.0011</td><td style=\"text-align: right;\">    40</td><td style=\"text-align: right;\">         4.33279</td><td style=\"text-align: right;\">        200</td><td style=\"text-align: right;\">0.0652191  </td><td style=\"text-align: right;\">0.0646136  </td></tr>\n",
       "<tr><td>TrainLightGCN_a7833978</td><td>TERMINATED</td><td>147.96.81.131:3894887</td><td style=\"text-align: right;\">           8</td><td style=\"text-align: right;\">            4</td><td style=\"text-align: right;\">             56</td><td style=\"text-align: right;\">     9</td><td style=\"text-align: right;\">4.08529e-06</td><td style=\"text-align: right;\">         0.0177</td><td style=\"text-align: right;\">    40</td><td style=\"text-align: right;\">         3.43375</td><td style=\"text-align: right;\">        200</td><td style=\"text-align: right;\">0.000704381</td><td style=\"text-align: right;\">0.000448804</td></tr>\n",
       "<tr><td>TrainLightGCN_285eeb86</td><td>TERMINATED</td><td>147.96.81.131:3895053</td><td style=\"text-align: right;\">           7</td><td style=\"text-align: right;\">            3</td><td style=\"text-align: right;\">             37</td><td style=\"text-align: right;\">     9</td><td style=\"text-align: right;\">0.000212184</td><td style=\"text-align: right;\">         0.0032</td><td style=\"text-align: right;\">    40</td><td style=\"text-align: right;\">         4.32156</td><td style=\"text-align: right;\">        200</td><td style=\"text-align: right;\">0.0141136  </td><td style=\"text-align: right;\">0.00907133 </td></tr>\n",
       "<tr><td>TrainLightGCN_e232e56e</td><td>TERMINATED</td><td>147.96.81.131:3895228</td><td style=\"text-align: right;\">           9</td><td style=\"text-align: right;\">            2</td><td style=\"text-align: right;\">              5</td><td style=\"text-align: right;\">     9</td><td style=\"text-align: right;\">4.46074e-07</td><td style=\"text-align: right;\">         0.0006</td><td style=\"text-align: right;\">    40</td><td style=\"text-align: right;\">         2.99223</td><td style=\"text-align: right;\">        200</td><td style=\"text-align: right;\">0.434081   </td><td style=\"text-align: right;\">0.43408    </td></tr>\n",
       "<tr><td>TrainLightGCN_34f242d3</td><td>TERMINATED</td><td>147.96.81.131:3895389</td><td style=\"text-align: right;\">           8</td><td style=\"text-align: right;\">            4</td><td style=\"text-align: right;\">              2</td><td style=\"text-align: right;\">     9</td><td style=\"text-align: right;\">1.21523e-05</td><td style=\"text-align: right;\">         0.0604</td><td style=\"text-align: right;\">    40</td><td style=\"text-align: right;\">         3.36628</td><td style=\"text-align: right;\">        200</td><td style=\"text-align: right;\">0.0736253  </td><td style=\"text-align: right;\">0.073313   </td></tr>\n",
       "<tr><td>TrainLightGCN_75666a00</td><td>TERMINATED</td><td>147.96.81.131:3895566</td><td style=\"text-align: right;\">           6</td><td style=\"text-align: right;\">            3</td><td style=\"text-align: right;\">             14</td><td style=\"text-align: right;\">     9</td><td style=\"text-align: right;\">7.07475e-06</td><td style=\"text-align: right;\">         0.212 </td><td style=\"text-align: right;\">    40</td><td style=\"text-align: right;\">         5.85826</td><td style=\"text-align: right;\">        200</td><td style=\"text-align: right;\">0.0109873  </td><td style=\"text-align: right;\">4.86217e-07</td></tr>\n",
       "<tr><td>TrainLightGCN_cdcd086b</td><td>TERMINATED</td><td>147.96.81.131:3895732</td><td style=\"text-align: right;\">           7</td><td style=\"text-align: right;\">            2</td><td style=\"text-align: right;\">              3</td><td style=\"text-align: right;\">     9</td><td style=\"text-align: right;\">6.8869e-07 </td><td style=\"text-align: right;\">         0.0019</td><td style=\"text-align: right;\">    40</td><td style=\"text-align: right;\">         4.3498 </td><td style=\"text-align: right;\">        200</td><td style=\"text-align: right;\">0.0909483  </td><td style=\"text-align: right;\">0.0909426  </td></tr>\n",
       "<tr><td>TrainLightGCN_f2354538</td><td>TERMINATED</td><td>147.96.81.131:3895894</td><td style=\"text-align: right;\">           7</td><td style=\"text-align: right;\">            1</td><td style=\"text-align: right;\">              9</td><td style=\"text-align: right;\">     9</td><td style=\"text-align: right;\">8.70894e-05</td><td style=\"text-align: right;\">         0.0303</td><td style=\"text-align: right;\">    40</td><td style=\"text-align: right;\">         4.00162</td><td style=\"text-align: right;\">        200</td><td style=\"text-align: right;\">0.00579546 </td><td style=\"text-align: right;\">0.00323721 </td></tr>\n",
       "<tr><td>TrainLightGCN_3bb67e66</td><td>TERMINATED</td><td>147.96.81.131:3896062</td><td style=\"text-align: right;\">           8</td><td style=\"text-align: right;\">            4</td><td style=\"text-align: right;\">              1</td><td style=\"text-align: right;\">     9</td><td style=\"text-align: right;\">2.95839e-07</td><td style=\"text-align: right;\">         0.0003</td><td style=\"text-align: right;\">    40</td><td style=\"text-align: right;\">         3.19042</td><td style=\"text-align: right;\">        200</td><td style=\"text-align: right;\">0.626178   </td><td style=\"text-align: right;\">0.626178   </td></tr>\n",
       "<tr><td>TrainLightGCN_a294d7f7</td><td>TERMINATED</td><td>147.96.81.131:3896229</td><td style=\"text-align: right;\">           6</td><td style=\"text-align: right;\">            5</td><td style=\"text-align: right;\">            106</td><td style=\"text-align: right;\">     9</td><td style=\"text-align: right;\">0.000410121</td><td style=\"text-align: right;\">         0.0121</td><td style=\"text-align: right;\">    40</td><td style=\"text-align: right;\">         5.85339</td><td style=\"text-align: right;\">        200</td><td style=\"text-align: right;\">0.0224895  </td><td style=\"text-align: right;\">0.00534918 </td></tr>\n",
       "<tr><td>TrainLightGCN_45525b8f</td><td>TERMINATED</td><td>147.96.81.131:3896399</td><td style=\"text-align: right;\">           8</td><td style=\"text-align: right;\">            4</td><td style=\"text-align: right;\">              4</td><td style=\"text-align: right;\">     9</td><td style=\"text-align: right;\">4.88474e-06</td><td style=\"text-align: right;\">         0.0043</td><td style=\"text-align: right;\">    40</td><td style=\"text-align: right;\">         3.50388</td><td style=\"text-align: right;\">        200</td><td style=\"text-align: right;\">0.0948238  </td><td style=\"text-align: right;\">0.0947703  </td></tr>\n",
       "<tr><td>TrainLightGCN_533ae1b7</td><td>TERMINATED</td><td>147.96.81.131:3896560</td><td style=\"text-align: right;\">           7</td><td style=\"text-align: right;\">            3</td><td style=\"text-align: right;\">              1</td><td style=\"text-align: right;\">     9</td><td style=\"text-align: right;\">5.58474e-05</td><td style=\"text-align: right;\">         0.0393</td><td style=\"text-align: right;\">    40</td><td style=\"text-align: right;\">         4.0857 </td><td style=\"text-align: right;\">        200</td><td style=\"text-align: right;\">0.174122   </td><td style=\"text-align: right;\">0.173342   </td></tr>\n",
       "<tr><td>TrainLightGCN_0672fc6d</td><td>TERMINATED</td><td>147.96.81.131:3896736</td><td style=\"text-align: right;\">           9</td><td style=\"text-align: right;\">            1</td><td style=\"text-align: right;\">              3</td><td style=\"text-align: right;\">     9</td><td style=\"text-align: right;\">1.06379e-05</td><td style=\"text-align: right;\">         0.0001</td><td style=\"text-align: right;\">    40</td><td style=\"text-align: right;\">         2.95484</td><td style=\"text-align: right;\">        200</td><td style=\"text-align: right;\">0.685845   </td><td style=\"text-align: right;\">0.685844   </td></tr>\n",
       "<tr><td>TrainLightGCN_817cfe74</td><td>TERMINATED</td><td>147.96.81.131:3896897</td><td style=\"text-align: right;\">           8</td><td style=\"text-align: right;\">            5</td><td style=\"text-align: right;\">            463</td><td style=\"text-align: right;\">     9</td><td style=\"text-align: right;\">1.98934e-05</td><td style=\"text-align: right;\">         0.0861</td><td style=\"text-align: right;\">    40</td><td style=\"text-align: right;\">         3.29179</td><td style=\"text-align: right;\">        200</td><td style=\"text-align: right;\">0.0569281  </td><td style=\"text-align: right;\">0.0152193  </td></tr>\n",
       "<tr><td>TrainLightGCN_b7ce5cac</td><td>TERMINATED</td><td>147.96.81.131:3897070</td><td style=\"text-align: right;\">           9</td><td style=\"text-align: right;\">            1</td><td style=\"text-align: right;\">             12</td><td style=\"text-align: right;\">     9</td><td style=\"text-align: right;\">0.00176519 </td><td style=\"text-align: right;\">         0.0066</td><td style=\"text-align: right;\">    40</td><td style=\"text-align: right;\">         2.95349</td><td style=\"text-align: right;\">        200</td><td style=\"text-align: right;\">0.0374032  </td><td style=\"text-align: right;\">0.0167264  </td></tr>\n",
       "<tr><td>TrainLightGCN_5d5df6f1</td><td>TERMINATED</td><td>147.96.81.131:3897236</td><td style=\"text-align: right;\">           9</td><td style=\"text-align: right;\">            1</td><td style=\"text-align: right;\">            236</td><td style=\"text-align: right;\">     9</td><td style=\"text-align: right;\">2.2811e-05 </td><td style=\"text-align: right;\">         0.0002</td><td style=\"text-align: right;\">    40</td><td style=\"text-align: right;\">         2.86671</td><td style=\"text-align: right;\">        200</td><td style=\"text-align: right;\">0.141755   </td><td style=\"text-align: right;\">0.141635   </td></tr>\n",
       "</tbody>\n",
       "</table>\n",
       "  </div>\n",
       "</div>\n",
       "<style>\n",
       ".tuneStatus {\n",
       "  color: var(--jp-ui-font-color1);\n",
       "}\n",
       ".tuneStatus .systemInfo {\n",
       "  display: flex;\n",
       "  flex-direction: column;\n",
       "}\n",
       ".tuneStatus td {\n",
       "  white-space: nowrap;\n",
       "}\n",
       ".tuneStatus .trialStatus {\n",
       "  display: flex;\n",
       "  flex-direction: column;\n",
       "}\n",
       ".tuneStatus h3 {\n",
       "  font-weight: bold;\n",
       "}\n",
       ".tuneStatus .hDivider {\n",
       "  border-bottom-width: var(--jp-border-width);\n",
       "  border-bottom-color: var(--jp-border-color0);\n",
       "  border-bottom-style: solid;\n",
       "}\n",
       ".tuneStatus .vDivider {\n",
       "  border-left-width: var(--jp-border-width);\n",
       "  border-left-color: var(--jp-border-color0);\n",
       "  border-left-style: solid;\n",
       "  margin: 0.5em 1em 0.5em 1em;\n",
       "}\n",
       "</style>\n"
      ],
      "text/plain": [
       "<IPython.core.display.HTML object>"
      ]
     },
     "metadata": {},
     "output_type": "display_data"
    },
    {
     "name": "stderr",
     "output_type": "stream",
     "text": [
      "\u001b[36m(pid=3880727)\u001b[0m 2024-03-22 01:47:50.007206: E tensorflow/compiler/xla/stream_executor/cuda/cuda_dnn.cc:9342] Unable to register cuDNN factory: Attempting to register factory for plugin cuDNN when one has already been registered\n",
      "\u001b[36m(pid=3880727)\u001b[0m 2024-03-22 01:47:50.007234: E tensorflow/compiler/xla/stream_executor/cuda/cuda_fft.cc:609] Unable to register cuFFT factory: Attempting to register factory for plugin cuFFT when one has already been registered\n",
      "\u001b[36m(pid=3880727)\u001b[0m 2024-03-22 01:47:50.007248: E tensorflow/compiler/xla/stream_executor/cuda/cuda_blas.cc:1518] Unable to register cuBLAS factory: Attempting to register factory for plugin cuBLAS when one has already been registered\n"
     ]
    },
    {
     "name": "stderr",
     "output_type": "stream",
     "text": [
      "\u001b[36m(TrainLightGCN pid=3880727)\u001b[0m /home/daviddavo/upm-tfm-notebooks/.direnv/python-3.9/lib/python3.9/site-packages/recommenders/models/deeprec/DataModel/ImplicitCF.py:73: FutureWarning: The frame.append method is deprecated and will be removed from pandas in a future version. Use pandas.concat instead.\n",
      "\u001b[36m(TrainLightGCN pid=3880727)\u001b[0m   df = train if test is None else train.append(test)\n"
     ]
    },
    {
     "name": "stdout",
     "output_type": "stream",
     "text": [
      "\u001b[36m(TrainLightGCN pid=3880727)\u001b[0m Already create adjacency matrix.\u001b[32m [repeated 2x across cluster]\u001b[0m\n",
      "\u001b[36m(TrainLightGCN pid=3880727)\u001b[0m Already normalize adjacency matrix.\u001b[32m [repeated 2x across cluster]\u001b[0m\n",
      "\u001b[36m(TrainLightGCN pid=3880515)\u001b[0m Using xavier initialization.\n",
      "\u001b[36m(TrainLightGCN pid=3880727)\u001b[0m Using xavier initialization.\n"
     ]
    },
    {
     "name": "stderr",
     "output_type": "stream",
     "text": [
      "\u001b[36m(pid=3880862)\u001b[0m 2024-03-22 01:47:53.552065: E tensorflow/compiler/xla/stream_executor/cuda/cuda_dnn.cc:9342] Unable to register cuDNN factory: Attempting to register factory for plugin cuDNN when one has already been registered\n",
      "\u001b[36m(pid=3880862)\u001b[0m 2024-03-22 01:47:53.552099: E tensorflow/compiler/xla/stream_executor/cuda/cuda_fft.cc:609] Unable to register cuFFT factory: Attempting to register factory for plugin cuFFT when one has already been registered\n",
      "\u001b[36m(pid=3880862)\u001b[0m 2024-03-22 01:47:53.552112: E tensorflow/compiler/xla/stream_executor/cuda/cuda_blas.cc:1518] Unable to register cuBLAS factory: Attempting to register factory for plugin cuBLAS when one has already been registered\n"
     ]
    },
    {
     "name": "stderr",
     "output_type": "stream",
     "text": [
      "\u001b[36m(TrainLightGCN pid=3880727)\u001b[0m Checkpoint successfully created at: Checkpoint(filesystem=local, path=/home/daviddavo/ray_results/LightGCN_optim=map@10,dao=MetaCartel - MetaCartel Ventures,freq=W-THU,normalize=True,cutoff_date=2020-11-06T00:00:00,fold=9_2024-03-22T01:47:48.988892/TrainLightGCN_198c29f6_1_batch_size=7,conv_layers=2,embedding_dim=1,fold=9,l2=0.0001,learning_rate=0.0006_2024-03-22_01-47-48/checkpoint_000000)\n"
     ]
    },
    {
     "name": "stderr",
     "output_type": "stream",
     "text": [
      "\u001b[36m(pid=3881023)\u001b[0m 2024-03-22 01:47:57.151981: E tensorflow/compiler/xla/stream_executor/cuda/cuda_dnn.cc:9342] Unable to register cuDNN factory: Attempting to register factory for plugin cuDNN when one has already been registered\n",
      "\u001b[36m(pid=3881023)\u001b[0m 2024-03-22 01:47:57.152012: E tensorflow/compiler/xla/stream_executor/cuda/cuda_fft.cc:609] Unable to register cuFFT factory: Attempting to register factory for plugin cuFFT when one has already been registered\n",
      "\u001b[36m(pid=3881023)\u001b[0m 2024-03-22 01:47:57.152029: E tensorflow/compiler/xla/stream_executor/cuda/cuda_blas.cc:1518] Unable to register cuBLAS factory: Attempting to register factory for plugin cuBLAS when one has already been registered\n",
      "\u001b[36m(TrainLightGCN pid=3880862)\u001b[0m /home/daviddavo/upm-tfm-notebooks/.direnv/python-3.9/lib/python3.9/site-packages/recommenders/models/deeprec/DataModel/ImplicitCF.py:73: FutureWarning: The frame.append method is deprecated and will be removed from pandas in a future version. Use pandas.concat instead.\n",
      "\u001b[36m(TrainLightGCN pid=3880862)\u001b[0m   df = train if test is None else train.append(test)\n"
     ]
    },
    {
     "name": "stderr",
     "output_type": "stream",
     "text": [
      "\u001b[36m(TrainLightGCN pid=3881023)\u001b[0m /home/daviddavo/upm-tfm-notebooks/.direnv/python-3.9/lib/python3.9/site-packages/recommenders/models/deeprec/DataModel/ImplicitCF.py:73: FutureWarning: The frame.append method is deprecated and will be removed from pandas in a future version. Use pandas.concat instead.\n",
      "\u001b[36m(TrainLightGCN pid=3881023)\u001b[0m   df = train if test is None else train.append(test)\n"
     ]
    },
    {
     "name": "stdout",
     "output_type": "stream",
     "text": [
      "\u001b[36m(TrainLightGCN pid=3881023)\u001b[0m Already create adjacency matrix.\u001b[32m [repeated 2x across cluster]\u001b[0m\n",
      "\u001b[36m(TrainLightGCN pid=3881023)\u001b[0m Already normalize adjacency matrix.\u001b[32m [repeated 2x across cluster]\u001b[0m\n",
      "\u001b[36m(TrainLightGCN pid=3881023)\u001b[0m Using xavier initialization.\u001b[32m [repeated 2x across cluster]\u001b[0m\n"
     ]
    },
    {
     "name": "stderr",
     "output_type": "stream",
     "text": [
      "\u001b[36m(TrainLightGCN pid=3880862)\u001b[0m Checkpoint successfully created at: Checkpoint(filesystem=local, path=/home/daviddavo/ray_results/LightGCN_optim=map@10,dao=MetaCartel - MetaCartel Ventures,freq=W-THU,normalize=True,cutoff_date=2020-11-06T00:00:00,fold=9_2024-03-22T01:47:48.988892/TrainLightGCN_6ab5f193_2_batch_size=8,conv_layers=5,embedding_dim=29,fold=9,l2=0.0000,learning_rate=0.2347_2024-03-22_01-47-52/checkpoint_000000)\n",
      "\u001b[36m(pid=3881195)\u001b[0m 2024-03-22 01:48:00.786371: E tensorflow/compiler/xla/stream_executor/cuda/cuda_dnn.cc:9342] Unable to register cuDNN factory: Attempting to register factory for plugin cuDNN when one has already been registered\n",
      "\u001b[36m(pid=3881195)\u001b[0m 2024-03-22 01:48:00.786400: E tensorflow/compiler/xla/stream_executor/cuda/cuda_fft.cc:609] Unable to register cuFFT factory: Attempting to register factory for plugin cuFFT when one has already been registered\n",
      "\u001b[36m(pid=3881195)\u001b[0m 2024-03-22 01:48:00.786415: E tensorflow/compiler/xla/stream_executor/cuda/cuda_blas.cc:1518] Unable to register cuBLAS factory: Attempting to register factory for plugin cuBLAS when one has already been registered\n",
      "\u001b[36m(TrainLightGCN pid=3881023)\u001b[0m Checkpoint successfully created at: Checkpoint(filesystem=local, path=/home/daviddavo/ray_results/LightGCN_optim=map@10,dao=MetaCartel - MetaCartel Ventures,freq=W-THU,normalize=True,cutoff_date=2020-11-06T00:00:00,fold=9_2024-03-22T01:47:48.988892/TrainLightGCN_244c2806_3_batch_size=9,conv_layers=3,embedding_dim=5,fold=9,l2=0.0001,learning_rate=0.2200_2024-03-22_01-47-56/checkpoint_000000)\n"
     ]
    },
    {
     "name": "stderr",
     "output_type": "stream",
     "text": [
      "\u001b[36m(pid=3881359)\u001b[0m 2024-03-22 01:48:04.375040: E tensorflow/compiler/xla/stream_executor/cuda/cuda_dnn.cc:9342] Unable to register cuDNN factory: Attempting to register factory for plugin cuDNN when one has already been registered\n",
      "\u001b[36m(pid=3881359)\u001b[0m 2024-03-22 01:48:04.375071: E tensorflow/compiler/xla/stream_executor/cuda/cuda_fft.cc:609] Unable to register cuFFT factory: Attempting to register factory for plugin cuFFT when one has already been registered\n",
      "\u001b[36m(pid=3881359)\u001b[0m 2024-03-22 01:48:04.375086: E tensorflow/compiler/xla/stream_executor/cuda/cuda_blas.cc:1518] Unable to register cuBLAS factory: Attempting to register factory for plugin cuBLAS when one has already been registered\n",
      "\u001b[36m(TrainLightGCN pid=3881195)\u001b[0m /home/daviddavo/upm-tfm-notebooks/.direnv/python-3.9/lib/python3.9/site-packages/recommenders/models/deeprec/DataModel/ImplicitCF.py:73: FutureWarning: The frame.append method is deprecated and will be removed from pandas in a future version. Use pandas.concat instead.\n",
      "\u001b[36m(TrainLightGCN pid=3881195)\u001b[0m   df = train if test is None else train.append(test)\n"
     ]
    },
    {
     "name": "stdout",
     "output_type": "stream",
     "text": [
      "\u001b[36m(TrainLightGCN pid=3881359)\u001b[0m Already create adjacency matrix.\u001b[32m [repeated 2x across cluster]\u001b[0m\n",
      "\u001b[36m(TrainLightGCN pid=3881359)\u001b[0m Already normalize adjacency matrix.\u001b[32m [repeated 2x across cluster]\u001b[0m\n",
      "\u001b[36m(TrainLightGCN pid=3881359)\u001b[0m Using xavier initialization.\u001b[32m [repeated 2x across cluster]\u001b[0m\n"
     ]
    },
    {
     "name": "stderr",
     "output_type": "stream",
     "text": [
      "\u001b[36m(TrainLightGCN pid=3881359)\u001b[0m /home/daviddavo/upm-tfm-notebooks/.direnv/python-3.9/lib/python3.9/site-packages/recommenders/models/deeprec/DataModel/ImplicitCF.py:73: FutureWarning: The frame.append method is deprecated and will be removed from pandas in a future version. Use pandas.concat instead.\n",
      "\u001b[36m(TrainLightGCN pid=3881359)\u001b[0m   df = train if test is None else train.append(test)\n"
     ]
    },
    {
     "name": "stderr",
     "output_type": "stream",
     "text": [
      "\u001b[36m(TrainLightGCN pid=3881195)\u001b[0m Checkpoint successfully created at: Checkpoint(filesystem=local, path=/home/daviddavo/ray_results/LightGCN_optim=map@10,dao=MetaCartel - MetaCartel Ventures,freq=W-THU,normalize=True,cutoff_date=2020-11-06T00:00:00,fold=9_2024-03-22T01:47:48.988892/TrainLightGCN_74f72338_4_batch_size=7,conv_layers=4,embedding_dim=306,fold=9,l2=0.0000,learning_rate=0.0065_2024-03-22_01-47-59/checkpoint_000000)\n"
     ]
    },
    {
     "name": "stderr",
     "output_type": "stream",
     "text": [
      "\u001b[36m(pid=3881521)\u001b[0m 2024-03-22 01:48:07.989453: E tensorflow/compiler/xla/stream_executor/cuda/cuda_dnn.cc:9342] Unable to register cuDNN factory: Attempting to register factory for plugin cuDNN when one has already been registered\n",
      "\u001b[36m(pid=3881521)\u001b[0m 2024-03-22 01:48:07.989485: E tensorflow/compiler/xla/stream_executor/cuda/cuda_fft.cc:609] Unable to register cuFFT factory: Attempting to register factory for plugin cuFFT when one has already been registered\n",
      "\u001b[36m(pid=3881521)\u001b[0m 2024-03-22 01:48:07.989499: E tensorflow/compiler/xla/stream_executor/cuda/cuda_blas.cc:1518] Unable to register cuBLAS factory: Attempting to register factory for plugin cuBLAS when one has already been registered\n"
     ]
    },
    {
     "name": "stderr",
     "output_type": "stream",
     "text": [
      "\u001b[36m(TrainLightGCN pid=3881359)\u001b[0m Checkpoint successfully created at: Checkpoint(filesystem=local, path=/home/daviddavo/ray_results/LightGCN_optim=map@10,dao=MetaCartel - MetaCartel Ventures,freq=W-THU,normalize=True,cutoff_date=2020-11-06T00:00:00,fold=9_2024-03-22T01:47:48.988892/TrainLightGCN_9453ef93_5_batch_size=7,conv_layers=3,embedding_dim=217,fold=9,l2=0.0000,learning_rate=0.0005_2024-03-22_01-48-03/checkpoint_000000)\n"
     ]
    },
    {
     "name": "stderr",
     "output_type": "stream",
     "text": [
      "\u001b[36m(pid=3881689)\u001b[0m 2024-03-22 01:48:11.625640: E tensorflow/compiler/xla/stream_executor/cuda/cuda_dnn.cc:9342] Unable to register cuDNN factory: Attempting to register factory for plugin cuDNN when one has already been registered\n",
      "\u001b[36m(pid=3881689)\u001b[0m 2024-03-22 01:48:11.625672: E tensorflow/compiler/xla/stream_executor/cuda/cuda_fft.cc:609] Unable to register cuFFT factory: Attempting to register factory for plugin cuFFT when one has already been registered\n",
      "\u001b[36m(pid=3881689)\u001b[0m 2024-03-22 01:48:11.625688: E tensorflow/compiler/xla/stream_executor/cuda/cuda_blas.cc:1518] Unable to register cuBLAS factory: Attempting to register factory for plugin cuBLAS when one has already been registered\n",
      "\u001b[36m(TrainLightGCN pid=3881521)\u001b[0m /home/daviddavo/upm-tfm-notebooks/.direnv/python-3.9/lib/python3.9/site-packages/recommenders/models/deeprec/DataModel/ImplicitCF.py:73: FutureWarning: The frame.append method is deprecated and will be removed from pandas in a future version. Use pandas.concat instead.\n",
      "\u001b[36m(TrainLightGCN pid=3881521)\u001b[0m   df = train if test is None else train.append(test)\n"
     ]
    },
    {
     "name": "stderr",
     "output_type": "stream",
     "text": [
      "\u001b[36m(TrainLightGCN pid=3881689)\u001b[0m /home/daviddavo/upm-tfm-notebooks/.direnv/python-3.9/lib/python3.9/site-packages/recommenders/models/deeprec/DataModel/ImplicitCF.py:73: FutureWarning: The frame.append method is deprecated and will be removed from pandas in a future version. Use pandas.concat instead.\n",
      "\u001b[36m(TrainLightGCN pid=3881689)\u001b[0m   df = train if test is None else train.append(test)\n"
     ]
    },
    {
     "name": "stdout",
     "output_type": "stream",
     "text": [
      "\u001b[36m(TrainLightGCN pid=3881689)\u001b[0m Already create adjacency matrix.\u001b[32m [repeated 2x across cluster]\u001b[0m\n",
      "\u001b[36m(TrainLightGCN pid=3881689)\u001b[0m Already normalize adjacency matrix.\u001b[32m [repeated 2x across cluster]\u001b[0m\n",
      "\u001b[36m(TrainLightGCN pid=3881689)\u001b[0m Using xavier initialization.\u001b[32m [repeated 2x across cluster]\u001b[0m\n"
     ]
    },
    {
     "name": "stderr",
     "output_type": "stream",
     "text": [
      "\u001b[36m(TrainLightGCN pid=3881521)\u001b[0m Checkpoint successfully created at: Checkpoint(filesystem=local, path=/home/daviddavo/ray_results/LightGCN_optim=map@10,dao=MetaCartel - MetaCartel Ventures,freq=W-THU,normalize=True,cutoff_date=2020-11-06T00:00:00,fold=9_2024-03-22T01:47:48.988892/TrainLightGCN_efd3729e_6_batch_size=7,conv_layers=4,embedding_dim=7,fold=9,l2=0.0040,learning_rate=0.0038_2024-03-22_01-48-06/checkpoint_000000)\n",
      "\u001b[36m(pid=3881856)\u001b[0m 2024-03-22 01:48:15.225345: E tensorflow/compiler/xla/stream_executor/cuda/cuda_dnn.cc:9342] Unable to register cuDNN factory: Attempting to register factory for plugin cuDNN when one has already been registered\n",
      "\u001b[36m(pid=3881856)\u001b[0m 2024-03-22 01:48:15.225376: E tensorflow/compiler/xla/stream_executor/cuda/cuda_fft.cc:609] Unable to register cuFFT factory: Attempting to register factory for plugin cuFFT when one has already been registered\n",
      "\u001b[36m(pid=3881856)\u001b[0m 2024-03-22 01:48:15.225390: E tensorflow/compiler/xla/stream_executor/cuda/cuda_blas.cc:1518] Unable to register cuBLAS factory: Attempting to register factory for plugin cuBLAS when one has already been registered\n"
     ]
    },
    {
     "name": "stderr",
     "output_type": "stream",
     "text": [
      "\u001b[36m(TrainLightGCN pid=3881689)\u001b[0m Checkpoint successfully created at: Checkpoint(filesystem=local, path=/home/daviddavo/ray_results/LightGCN_optim=map@10,dao=MetaCartel - MetaCartel Ventures,freq=W-THU,normalize=True,cutoff_date=2020-11-06T00:00:00,fold=9_2024-03-22T01:47:48.988892/TrainLightGCN_dda59d8e_7_batch_size=7,conv_layers=3,embedding_dim=4,fold=9,l2=0.0011,learning_rate=0.0002_2024-03-22_01-48-10/checkpoint_000000)\n"
     ]
    },
    {
     "name": "stderr",
     "output_type": "stream",
     "text": [
      "\u001b[36m(pid=3882020)\u001b[0m 2024-03-22 01:48:18.834552: E tensorflow/compiler/xla/stream_executor/cuda/cuda_dnn.cc:9342] Unable to register cuDNN factory: Attempting to register factory for plugin cuDNN when one has already been registered\n",
      "\u001b[36m(pid=3882020)\u001b[0m 2024-03-22 01:48:18.834581: E tensorflow/compiler/xla/stream_executor/cuda/cuda_fft.cc:609] Unable to register cuFFT factory: Attempting to register factory for plugin cuFFT when one has already been registered\n",
      "\u001b[36m(pid=3882020)\u001b[0m 2024-03-22 01:48:18.834595: E tensorflow/compiler/xla/stream_executor/cuda/cuda_blas.cc:1518] Unable to register cuBLAS factory: Attempting to register factory for plugin cuBLAS when one has already been registered\n",
      "\u001b[36m(TrainLightGCN pid=3881856)\u001b[0m /home/daviddavo/upm-tfm-notebooks/.direnv/python-3.9/lib/python3.9/site-packages/recommenders/models/deeprec/DataModel/ImplicitCF.py:73: FutureWarning: The frame.append method is deprecated and will be removed from pandas in a future version. Use pandas.concat instead.\n",
      "\u001b[36m(TrainLightGCN pid=3881856)\u001b[0m   df = train if test is None else train.append(test)\n"
     ]
    },
    {
     "name": "stderr",
     "output_type": "stream",
     "text": [
      "\u001b[36m(TrainLightGCN pid=3882020)\u001b[0m /home/daviddavo/upm-tfm-notebooks/.direnv/python-3.9/lib/python3.9/site-packages/recommenders/models/deeprec/DataModel/ImplicitCF.py:73: FutureWarning: The frame.append method is deprecated and will be removed from pandas in a future version. Use pandas.concat instead.\n",
      "\u001b[36m(TrainLightGCN pid=3882020)\u001b[0m   df = train if test is None else train.append(test)\n"
     ]
    },
    {
     "name": "stdout",
     "output_type": "stream",
     "text": [
      "\u001b[36m(TrainLightGCN pid=3882020)\u001b[0m Already create adjacency matrix.\u001b[32m [repeated 2x across cluster]\u001b[0m\n",
      "\u001b[36m(TrainLightGCN pid=3882020)\u001b[0m Already normalize adjacency matrix.\u001b[32m [repeated 2x across cluster]\u001b[0m\n",
      "\u001b[36m(TrainLightGCN pid=3882020)\u001b[0m Using xavier initialization.\u001b[32m [repeated 2x across cluster]\u001b[0m\n"
     ]
    },
    {
     "name": "stderr",
     "output_type": "stream",
     "text": [
      "\u001b[36m(TrainLightGCN pid=3881856)\u001b[0m Checkpoint successfully created at: Checkpoint(filesystem=local, path=/home/daviddavo/ray_results/LightGCN_optim=map@10,dao=MetaCartel - MetaCartel Ventures,freq=W-THU,normalize=True,cutoff_date=2020-11-06T00:00:00,fold=9_2024-03-22T01:47:48.988892/TrainLightGCN_487b3f67_8_batch_size=8,conv_layers=4,embedding_dim=412,fold=9,l2=0.0041,learning_rate=0.0014_2024-03-22_01-48-14/checkpoint_000000)\n",
      "\u001b[36m(pid=3882189)\u001b[0m 2024-03-22 01:48:22.395310: E tensorflow/compiler/xla/stream_executor/cuda/cuda_dnn.cc:9342] Unable to register cuDNN factory: Attempting to register factory for plugin cuDNN when one has already been registered\n",
      "\u001b[36m(pid=3882189)\u001b[0m 2024-03-22 01:48:22.395338: E tensorflow/compiler/xla/stream_executor/cuda/cuda_fft.cc:609] Unable to register cuFFT factory: Attempting to register factory for plugin cuFFT when one has already been registered\n",
      "\u001b[36m(pid=3882189)\u001b[0m 2024-03-22 01:48:22.395354: E tensorflow/compiler/xla/stream_executor/cuda/cuda_blas.cc:1518] Unable to register cuBLAS factory: Attempting to register factory for plugin cuBLAS when one has already been registered\n"
     ]
    },
    {
     "name": "stderr",
     "output_type": "stream",
     "text": [
      "\u001b[36m(pid=3882359)\u001b[0m 2024-03-22 01:48:26.055741: E tensorflow/compiler/xla/stream_executor/cuda/cuda_dnn.cc:9342] Unable to register cuDNN factory: Attempting to register factory for plugin cuDNN when one has already been registered\n",
      "\u001b[36m(pid=3882359)\u001b[0m 2024-03-22 01:48:26.055775: E tensorflow/compiler/xla/stream_executor/cuda/cuda_fft.cc:609] Unable to register cuFFT factory: Attempting to register factory for plugin cuFFT when one has already been registered\n",
      "\u001b[36m(pid=3882359)\u001b[0m 2024-03-22 01:48:26.055790: E tensorflow/compiler/xla/stream_executor/cuda/cuda_blas.cc:1518] Unable to register cuBLAS factory: Attempting to register factory for plugin cuBLAS when one has already been registered\n",
      "\u001b[36m(TrainLightGCN pid=3882189)\u001b[0m /home/daviddavo/upm-tfm-notebooks/.direnv/python-3.9/lib/python3.9/site-packages/recommenders/models/deeprec/DataModel/ImplicitCF.py:73: FutureWarning: The frame.append method is deprecated and will be removed from pandas in a future version. Use pandas.concat instead.\n",
      "\u001b[36m(TrainLightGCN pid=3882189)\u001b[0m   df = train if test is None else train.append(test)\n"
     ]
    },
    {
     "name": "stderr",
     "output_type": "stream",
     "text": [
      "\u001b[36m(TrainLightGCN pid=3882020)\u001b[0m Checkpoint successfully created at: Checkpoint(filesystem=local, path=/home/daviddavo/ray_results/LightGCN_optim=map@10,dao=MetaCartel - MetaCartel Ventures,freq=W-THU,normalize=True,cutoff_date=2020-11-06T00:00:00,fold=9_2024-03-22T01:47:48.988892/TrainLightGCN_fcb28c8a_9_batch_size=6,conv_layers=1,embedding_dim=206,fold=9,l2=0.0000,learning_rate=0.0085_2024-03-22_01-48-17/checkpoint_000000)\n"
     ]
    },
    {
     "name": "stderr",
     "output_type": "stream",
     "text": [
      "\u001b[36m(TrainLightGCN pid=3882359)\u001b[0m /home/daviddavo/upm-tfm-notebooks/.direnv/python-3.9/lib/python3.9/site-packages/recommenders/models/deeprec/DataModel/ImplicitCF.py:73: FutureWarning: The frame.append method is deprecated and will be removed from pandas in a future version. Use pandas.concat instead.\n",
      "\u001b[36m(TrainLightGCN pid=3882359)\u001b[0m   df = train if test is None else train.append(test)\n"
     ]
    },
    {
     "name": "stdout",
     "output_type": "stream",
     "text": [
      "\u001b[36m(TrainLightGCN pid=3882359)\u001b[0m Already create adjacency matrix.\u001b[32m [repeated 2x across cluster]\u001b[0m\n",
      "\u001b[36m(TrainLightGCN pid=3882359)\u001b[0m Already normalize adjacency matrix.\u001b[32m [repeated 2x across cluster]\u001b[0m\n",
      "\u001b[36m(TrainLightGCN pid=3882359)\u001b[0m Using xavier initialization.\u001b[32m [repeated 2x across cluster]\u001b[0m\n"
     ]
    },
    {
     "name": "stderr",
     "output_type": "stream",
     "text": [
      "\u001b[36m(pid=3882531)\u001b[0m 2024-03-22 01:48:29.690281: E tensorflow/compiler/xla/stream_executor/cuda/cuda_dnn.cc:9342] Unable to register cuDNN factory: Attempting to register factory for plugin cuDNN when one has already been registered\n",
      "\u001b[36m(pid=3882531)\u001b[0m 2024-03-22 01:48:29.690310: E tensorflow/compiler/xla/stream_executor/cuda/cuda_fft.cc:609] Unable to register cuFFT factory: Attempting to register factory for plugin cuFFT when one has already been registered\n",
      "\u001b[36m(pid=3882531)\u001b[0m 2024-03-22 01:48:29.690325: E tensorflow/compiler/xla/stream_executor/cuda/cuda_blas.cc:1518] Unable to register cuBLAS factory: Attempting to register factory for plugin cuBLAS when one has already been registered\n"
     ]
    },
    {
     "name": "stderr",
     "output_type": "stream",
     "text": [
      "\u001b[36m(TrainLightGCN pid=3882359)\u001b[0m Checkpoint successfully created at: Checkpoint(filesystem=local, path=/home/daviddavo/ray_results/LightGCN_optim=map@10,dao=MetaCartel - MetaCartel Ventures,freq=W-THU,normalize=True,cutoff_date=2020-11-06T00:00:00,fold=9_2024-03-22T01:47:48.988892/TrainLightGCN_9fc5919e_11_batch_size=7,conv_layers=3,embedding_dim=5,fold=9,l2=0.0061,learning_rate=0.2019_2024-03-22_01-48-25/checkpoint_000000)\u001b[32m [repeated 2x across cluster]\u001b[0m\n"
     ]
    },
    {
     "name": "stderr",
     "output_type": "stream",
     "text": [
      "\u001b[36m(pid=3882690)\u001b[0m 2024-03-22 01:48:33.301116: E tensorflow/compiler/xla/stream_executor/cuda/cuda_dnn.cc:9342] Unable to register cuDNN factory: Attempting to register factory for plugin cuDNN when one has already been registered\n",
      "\u001b[36m(pid=3882690)\u001b[0m 2024-03-22 01:48:33.301148: E tensorflow/compiler/xla/stream_executor/cuda/cuda_fft.cc:609] Unable to register cuFFT factory: Attempting to register factory for plugin cuFFT when one has already been registered\n",
      "\u001b[36m(pid=3882690)\u001b[0m 2024-03-22 01:48:33.301164: E tensorflow/compiler/xla/stream_executor/cuda/cuda_blas.cc:1518] Unable to register cuBLAS factory: Attempting to register factory for plugin cuBLAS when one has already been registered\n",
      "\u001b[36m(TrainLightGCN pid=3882531)\u001b[0m /home/daviddavo/upm-tfm-notebooks/.direnv/python-3.9/lib/python3.9/site-packages/recommenders/models/deeprec/DataModel/ImplicitCF.py:73: FutureWarning: The frame.append method is deprecated and will be removed from pandas in a future version. Use pandas.concat instead.\n",
      "\u001b[36m(TrainLightGCN pid=3882531)\u001b[0m   df = train if test is None else train.append(test)\n"
     ]
    },
    {
     "name": "stderr",
     "output_type": "stream",
     "text": [
      "\u001b[36m(TrainLightGCN pid=3882690)\u001b[0m /home/daviddavo/upm-tfm-notebooks/.direnv/python-3.9/lib/python3.9/site-packages/recommenders/models/deeprec/DataModel/ImplicitCF.py:73: FutureWarning: The frame.append method is deprecated and will be removed from pandas in a future version. Use pandas.concat instead.\n",
      "\u001b[36m(TrainLightGCN pid=3882690)\u001b[0m   df = train if test is None else train.append(test)\n"
     ]
    },
    {
     "name": "stdout",
     "output_type": "stream",
     "text": [
      "\u001b[36m(TrainLightGCN pid=3882690)\u001b[0m Already create adjacency matrix.\u001b[32m [repeated 2x across cluster]\u001b[0m\n",
      "\u001b[36m(TrainLightGCN pid=3882690)\u001b[0m Already normalize adjacency matrix.\u001b[32m [repeated 2x across cluster]\u001b[0m\n",
      "\u001b[36m(TrainLightGCN pid=3882690)\u001b[0m Using xavier initialization.\u001b[32m [repeated 2x across cluster]\u001b[0m\n"
     ]
    },
    {
     "name": "stderr",
     "output_type": "stream",
     "text": [
      "\u001b[36m(TrainLightGCN pid=3882531)\u001b[0m Checkpoint successfully created at: Checkpoint(filesystem=local, path=/home/daviddavo/ray_results/LightGCN_optim=map@10,dao=MetaCartel - MetaCartel Ventures,freq=W-THU,normalize=True,cutoff_date=2020-11-06T00:00:00,fold=9_2024-03-22T01:47:48.988892/TrainLightGCN_f64df1aa_12_batch_size=7,conv_layers=4,embedding_dim=42,fold=9,l2=0.0004,learning_rate=0.0012_2024-03-22_01-48-28/checkpoint_000000)\n",
      "\u001b[36m(pid=3882854)\u001b[0m 2024-03-22 01:48:36.950401: E tensorflow/compiler/xla/stream_executor/cuda/cuda_dnn.cc:9342] Unable to register cuDNN factory: Attempting to register factory for plugin cuDNN when one has already been registered\n",
      "\u001b[36m(pid=3882854)\u001b[0m 2024-03-22 01:48:36.950428: E tensorflow/compiler/xla/stream_executor/cuda/cuda_fft.cc:609] Unable to register cuFFT factory: Attempting to register factory for plugin cuFFT when one has already been registered\n",
      "\u001b[36m(pid=3882854)\u001b[0m 2024-03-22 01:48:36.950443: E tensorflow/compiler/xla/stream_executor/cuda/cuda_blas.cc:1518] Unable to register cuBLAS factory: Attempting to register factory for plugin cuBLAS when one has already been registered\n"
     ]
    },
    {
     "name": "stderr",
     "output_type": "stream",
     "text": [
      "\u001b[36m(TrainLightGCN pid=3882690)\u001b[0m Checkpoint successfully created at: Checkpoint(filesystem=local, path=/home/daviddavo/ray_results/LightGCN_optim=map@10,dao=MetaCartel - MetaCartel Ventures,freq=W-THU,normalize=True,cutoff_date=2020-11-06T00:00:00,fold=9_2024-03-22T01:47:48.988892/TrainLightGCN_3cba50f9_13_batch_size=7,conv_layers=4,embedding_dim=6,fold=9,l2=0.0000,learning_rate=0.4766_2024-03-22_01-48-32/checkpoint_000000)\n"
     ]
    },
    {
     "name": "stderr",
     "output_type": "stream",
     "text": [
      "\u001b[36m(pid=3883021)\u001b[0m 2024-03-22 01:48:40.620386: E tensorflow/compiler/xla/stream_executor/cuda/cuda_dnn.cc:9342] Unable to register cuDNN factory: Attempting to register factory for plugin cuDNN when one has already been registered\n",
      "\u001b[36m(pid=3883021)\u001b[0m 2024-03-22 01:48:40.620415: E tensorflow/compiler/xla/stream_executor/cuda/cuda_fft.cc:609] Unable to register cuFFT factory: Attempting to register factory for plugin cuFFT when one has already been registered\n",
      "\u001b[36m(pid=3883021)\u001b[0m 2024-03-22 01:48:40.620431: E tensorflow/compiler/xla/stream_executor/cuda/cuda_blas.cc:1518] Unable to register cuBLAS factory: Attempting to register factory for plugin cuBLAS when one has already been registered\n",
      "\u001b[36m(TrainLightGCN pid=3882854)\u001b[0m /home/daviddavo/upm-tfm-notebooks/.direnv/python-3.9/lib/python3.9/site-packages/recommenders/models/deeprec/DataModel/ImplicitCF.py:73: FutureWarning: The frame.append method is deprecated and will be removed from pandas in a future version. Use pandas.concat instead.\n",
      "\u001b[36m(TrainLightGCN pid=3882854)\u001b[0m   df = train if test is None else train.append(test)\n"
     ]
    },
    {
     "name": "stdout",
     "output_type": "stream",
     "text": [
      "\u001b[36m(TrainLightGCN pid=3883021)\u001b[0m Already create adjacency matrix.\u001b[32m [repeated 2x across cluster]\u001b[0m\n",
      "\u001b[36m(TrainLightGCN pid=3883021)\u001b[0m Already normalize adjacency matrix.\u001b[32m [repeated 2x across cluster]\u001b[0m\n",
      "\u001b[36m(TrainLightGCN pid=3883021)\u001b[0m Using xavier initialization.\u001b[32m [repeated 2x across cluster]\u001b[0m\n"
     ]
    },
    {
     "name": "stderr",
     "output_type": "stream",
     "text": [
      "\u001b[36m(TrainLightGCN pid=3883021)\u001b[0m /home/daviddavo/upm-tfm-notebooks/.direnv/python-3.9/lib/python3.9/site-packages/recommenders/models/deeprec/DataModel/ImplicitCF.py:73: FutureWarning: The frame.append method is deprecated and will be removed from pandas in a future version. Use pandas.concat instead.\n",
      "\u001b[36m(TrainLightGCN pid=3883021)\u001b[0m   df = train if test is None else train.append(test)\n"
     ]
    },
    {
     "name": "stderr",
     "output_type": "stream",
     "text": [
      "\u001b[36m(TrainLightGCN pid=3882854)\u001b[0m Checkpoint successfully created at: Checkpoint(filesystem=local, path=/home/daviddavo/ray_results/LightGCN_optim=map@10,dao=MetaCartel - MetaCartel Ventures,freq=W-THU,normalize=True,cutoff_date=2020-11-06T00:00:00,fold=9_2024-03-22T01:47:48.988892/TrainLightGCN_3e3afd3e_14_batch_size=8,conv_layers=4,embedding_dim=87,fold=9,l2=0.0000,learning_rate=0.0004_2024-03-22_01-48-35/checkpoint_000000)\n",
      "\u001b[36m(pid=3883194)\u001b[0m 2024-03-22 01:48:44.204591: E tensorflow/compiler/xla/stream_executor/cuda/cuda_dnn.cc:9342] Unable to register cuDNN factory: Attempting to register factory for plugin cuDNN when one has already been registered\n",
      "\u001b[36m(pid=3883194)\u001b[0m 2024-03-22 01:48:44.204624: E tensorflow/compiler/xla/stream_executor/cuda/cuda_fft.cc:609] Unable to register cuFFT factory: Attempting to register factory for plugin cuFFT when one has already been registered\n",
      "\u001b[36m(pid=3883194)\u001b[0m 2024-03-22 01:48:44.204638: E tensorflow/compiler/xla/stream_executor/cuda/cuda_blas.cc:1518] Unable to register cuBLAS factory: Attempting to register factory for plugin cuBLAS when one has already been registered\n"
     ]
    },
    {
     "name": "stderr",
     "output_type": "stream",
     "text": [
      "\u001b[36m(TrainLightGCN pid=3883021)\u001b[0m Checkpoint successfully created at: Checkpoint(filesystem=local, path=/home/daviddavo/ray_results/LightGCN_optim=map@10,dao=MetaCartel - MetaCartel Ventures,freq=W-THU,normalize=True,cutoff_date=2020-11-06T00:00:00,fold=9_2024-03-22T01:47:48.988892/TrainLightGCN_a2a5222b_15_batch_size=8,conv_layers=5,embedding_dim=75,fold=9,l2=0.0000,learning_rate=0.0003_2024-03-22_01-48-39/checkpoint_000000)\n"
     ]
    },
    {
     "name": "stderr",
     "output_type": "stream",
     "text": [
      "\u001b[36m(pid=3883363)\u001b[0m 2024-03-22 01:48:47.788479: E tensorflow/compiler/xla/stream_executor/cuda/cuda_dnn.cc:9342] Unable to register cuDNN factory: Attempting to register factory for plugin cuDNN when one has already been registered\n",
      "\u001b[36m(pid=3883363)\u001b[0m 2024-03-22 01:48:47.788509: E tensorflow/compiler/xla/stream_executor/cuda/cuda_fft.cc:609] Unable to register cuFFT factory: Attempting to register factory for plugin cuFFT when one has already been registered\n",
      "\u001b[36m(pid=3883363)\u001b[0m 2024-03-22 01:48:47.788524: E tensorflow/compiler/xla/stream_executor/cuda/cuda_blas.cc:1518] Unable to register cuBLAS factory: Attempting to register factory for plugin cuBLAS when one has already been registered\n",
      "\u001b[36m(TrainLightGCN pid=3883194)\u001b[0m /home/daviddavo/upm-tfm-notebooks/.direnv/python-3.9/lib/python3.9/site-packages/recommenders/models/deeprec/DataModel/ImplicitCF.py:73: FutureWarning: The frame.append method is deprecated and will be removed from pandas in a future version. Use pandas.concat instead.\n",
      "\u001b[36m(TrainLightGCN pid=3883194)\u001b[0m   df = train if test is None else train.append(test)\n"
     ]
    },
    {
     "name": "stderr",
     "output_type": "stream",
     "text": [
      "\u001b[36m(TrainLightGCN pid=3883363)\u001b[0m /home/daviddavo/upm-tfm-notebooks/.direnv/python-3.9/lib/python3.9/site-packages/recommenders/models/deeprec/DataModel/ImplicitCF.py:73: FutureWarning: The frame.append method is deprecated and will be removed from pandas in a future version. Use pandas.concat instead.\n",
      "\u001b[36m(TrainLightGCN pid=3883363)\u001b[0m   df = train if test is None else train.append(test)\n"
     ]
    },
    {
     "name": "stdout",
     "output_type": "stream",
     "text": [
      "\u001b[36m(TrainLightGCN pid=3883363)\u001b[0m Already create adjacency matrix.\u001b[32m [repeated 2x across cluster]\u001b[0m\n",
      "\u001b[36m(TrainLightGCN pid=3883363)\u001b[0m Already normalize adjacency matrix.\u001b[32m [repeated 2x across cluster]\u001b[0m\n",
      "\u001b[36m(TrainLightGCN pid=3883363)\u001b[0m Using xavier initialization.\u001b[32m [repeated 2x across cluster]\u001b[0m\n"
     ]
    },
    {
     "name": "stderr",
     "output_type": "stream",
     "text": [
      "\u001b[36m(TrainLightGCN pid=3883194)\u001b[0m Checkpoint successfully created at: Checkpoint(filesystem=local, path=/home/daviddavo/ray_results/LightGCN_optim=map@10,dao=MetaCartel - MetaCartel Ventures,freq=W-THU,normalize=True,cutoff_date=2020-11-06T00:00:00,fold=9_2024-03-22T01:47:48.988892/TrainLightGCN_1e13c8ed_16_batch_size=9,conv_layers=2,embedding_dim=8,fold=9,l2=0.0010,learning_rate=0.0201_2024-03-22_01-48-43/checkpoint_000000)\n",
      "\u001b[36m(pid=3883531)\u001b[0m 2024-03-22 01:48:51.377104: E tensorflow/compiler/xla/stream_executor/cuda/cuda_dnn.cc:9342] Unable to register cuDNN factory: Attempting to register factory for plugin cuDNN when one has already been registered\n",
      "\u001b[36m(pid=3883531)\u001b[0m 2024-03-22 01:48:51.377136: E tensorflow/compiler/xla/stream_executor/cuda/cuda_fft.cc:609] Unable to register cuFFT factory: Attempting to register factory for plugin cuFFT when one has already been registered\n",
      "\u001b[36m(pid=3883531)\u001b[0m 2024-03-22 01:48:51.377149: E tensorflow/compiler/xla/stream_executor/cuda/cuda_blas.cc:1518] Unable to register cuBLAS factory: Attempting to register factory for plugin cuBLAS when one has already been registered\n"
     ]
    },
    {
     "name": "stderr",
     "output_type": "stream",
     "text": [
      "\u001b[36m(TrainLightGCN pid=3883363)\u001b[0m Checkpoint successfully created at: Checkpoint(filesystem=local, path=/home/daviddavo/ray_results/LightGCN_optim=map@10,dao=MetaCartel - MetaCartel Ventures,freq=W-THU,normalize=True,cutoff_date=2020-11-06T00:00:00,fold=9_2024-03-22T01:47:48.988892/TrainLightGCN_f2cf74d7_17_batch_size=7,conv_layers=4,embedding_dim=11,fold=9,l2=0.0000,learning_rate=0.0011_2024-03-22_01-48-46/checkpoint_000000)\n"
     ]
    },
    {
     "name": "stderr",
     "output_type": "stream",
     "text": [
      "\u001b[36m(pid=3883688)\u001b[0m 2024-03-22 01:48:55.036012: E tensorflow/compiler/xla/stream_executor/cuda/cuda_dnn.cc:9342] Unable to register cuDNN factory: Attempting to register factory for plugin cuDNN when one has already been registered\n",
      "\u001b[36m(pid=3883688)\u001b[0m 2024-03-22 01:48:55.036040: E tensorflow/compiler/xla/stream_executor/cuda/cuda_fft.cc:609] Unable to register cuFFT factory: Attempting to register factory for plugin cuFFT when one has already been registered\n",
      "\u001b[36m(pid=3883688)\u001b[0m 2024-03-22 01:48:55.036053: E tensorflow/compiler/xla/stream_executor/cuda/cuda_blas.cc:1518] Unable to register cuBLAS factory: Attempting to register factory for plugin cuBLAS when one has already been registered\n",
      "\u001b[36m(TrainLightGCN pid=3883531)\u001b[0m /home/daviddavo/upm-tfm-notebooks/.direnv/python-3.9/lib/python3.9/site-packages/recommenders/models/deeprec/DataModel/ImplicitCF.py:73: FutureWarning: The frame.append method is deprecated and will be removed from pandas in a future version. Use pandas.concat instead.\n",
      "\u001b[36m(TrainLightGCN pid=3883531)\u001b[0m   df = train if test is None else train.append(test)\n"
     ]
    },
    {
     "name": "stderr",
     "output_type": "stream",
     "text": [
      "\u001b[36m(TrainLightGCN pid=3883688)\u001b[0m /home/daviddavo/upm-tfm-notebooks/.direnv/python-3.9/lib/python3.9/site-packages/recommenders/models/deeprec/DataModel/ImplicitCF.py:73: FutureWarning: The frame.append method is deprecated and will be removed from pandas in a future version. Use pandas.concat instead.\n",
      "\u001b[36m(TrainLightGCN pid=3883688)\u001b[0m   df = train if test is None else train.append(test)\n"
     ]
    },
    {
     "name": "stdout",
     "output_type": "stream",
     "text": [
      "\u001b[36m(TrainLightGCN pid=3883688)\u001b[0m Already create adjacency matrix.\u001b[32m [repeated 2x across cluster]\u001b[0m\n",
      "\u001b[36m(TrainLightGCN pid=3883688)\u001b[0m Already normalize adjacency matrix.\u001b[32m [repeated 2x across cluster]\u001b[0m\n",
      "\u001b[36m(TrainLightGCN pid=3883531)\u001b[0m Using xavier initialization.\n",
      "\u001b[36m(TrainLightGCN pid=3883688)\u001b[0m Using xavier initialization.\n"
     ]
    },
    {
     "name": "stderr",
     "output_type": "stream",
     "text": [
      "\u001b[36m(TrainLightGCN pid=3883688)\u001b[0m Checkpoint successfully created at: Checkpoint(filesystem=local, path=/home/daviddavo/ray_results/LightGCN_optim=map@10,dao=MetaCartel - MetaCartel Ventures,freq=W-THU,normalize=True,cutoff_date=2020-11-06T00:00:00,fold=9_2024-03-22T01:47:48.988892/TrainLightGCN_e62afdec_19_batch_size=9,conv_layers=4,embedding_dim=47,fold=9,l2=0.0000,learning_rate=0.0763_2024-03-22_01-48-53/checkpoint_000000)\u001b[32m [repeated 2x across cluster]\u001b[0m\n",
      "\u001b[36m(pid=3883853)\u001b[0m 2024-03-22 01:48:58.631432: E tensorflow/compiler/xla/stream_executor/cuda/cuda_dnn.cc:9342] Unable to register cuDNN factory: Attempting to register factory for plugin cuDNN when one has already been registered\n",
      "\u001b[36m(pid=3883853)\u001b[0m 2024-03-22 01:48:58.631458: E tensorflow/compiler/xla/stream_executor/cuda/cuda_fft.cc:609] Unable to register cuFFT factory: Attempting to register factory for plugin cuFFT when one has already been registered\n",
      "\u001b[36m(pid=3883853)\u001b[0m 2024-03-22 01:48:58.631472: E tensorflow/compiler/xla/stream_executor/cuda/cuda_blas.cc:1518] Unable to register cuBLAS factory: Attempting to register factory for plugin cuBLAS when one has already been registered\n"
     ]
    },
    {
     "name": "stderr",
     "output_type": "stream",
     "text": [
      "\u001b[36m(pid=3884029)\u001b[0m 2024-03-22 01:49:02.256446: E tensorflow/compiler/xla/stream_executor/cuda/cuda_dnn.cc:9342] Unable to register cuDNN factory: Attempting to register factory for plugin cuDNN when one has already been registered\n",
      "\u001b[36m(pid=3884029)\u001b[0m 2024-03-22 01:49:02.256475: E tensorflow/compiler/xla/stream_executor/cuda/cuda_fft.cc:609] Unable to register cuFFT factory: Attempting to register factory for plugin cuFFT when one has already been registered\n",
      "\u001b[36m(pid=3884029)\u001b[0m 2024-03-22 01:49:02.256490: E tensorflow/compiler/xla/stream_executor/cuda/cuda_blas.cc:1518] Unable to register cuBLAS factory: Attempting to register factory for plugin cuBLAS when one has already been registered\n",
      "\u001b[36m(TrainLightGCN pid=3883853)\u001b[0m /home/daviddavo/upm-tfm-notebooks/.direnv/python-3.9/lib/python3.9/site-packages/recommenders/models/deeprec/DataModel/ImplicitCF.py:73: FutureWarning: The frame.append method is deprecated and will be removed from pandas in a future version. Use pandas.concat instead.\n",
      "\u001b[36m(TrainLightGCN pid=3883853)\u001b[0m   df = train if test is None else train.append(test)\n"
     ]
    },
    {
     "name": "stdout",
     "output_type": "stream",
     "text": [
      "\u001b[36m(TrainLightGCN pid=3884029)\u001b[0m Already create adjacency matrix.\u001b[32m [repeated 2x across cluster]\u001b[0m\n",
      "\u001b[36m(TrainLightGCN pid=3884029)\u001b[0m Already normalize adjacency matrix.\u001b[32m [repeated 2x across cluster]\u001b[0m\n",
      "\u001b[36m(TrainLightGCN pid=3884029)\u001b[0m Using xavier initialization.\u001b[32m [repeated 2x across cluster]\u001b[0m\n"
     ]
    },
    {
     "name": "stderr",
     "output_type": "stream",
     "text": [
      "\u001b[36m(TrainLightGCN pid=3884029)\u001b[0m /home/daviddavo/upm-tfm-notebooks/.direnv/python-3.9/lib/python3.9/site-packages/recommenders/models/deeprec/DataModel/ImplicitCF.py:73: FutureWarning: The frame.append method is deprecated and will be removed from pandas in a future version. Use pandas.concat instead.\n",
      "\u001b[36m(TrainLightGCN pid=3884029)\u001b[0m   df = train if test is None else train.append(test)\n"
     ]
    },
    {
     "name": "stderr",
     "output_type": "stream",
     "text": [
      "\u001b[36m(TrainLightGCN pid=3883853)\u001b[0m Checkpoint successfully created at: Checkpoint(filesystem=local, path=/home/daviddavo/ray_results/LightGCN_optim=map@10,dao=MetaCartel - MetaCartel Ventures,freq=W-THU,normalize=True,cutoff_date=2020-11-06T00:00:00,fold=9_2024-03-22T01:47:48.988892/TrainLightGCN_8a3b79ac_20_batch_size=7,conv_layers=2,embedding_dim=338,fold=9,l2=0.0000,learning_rate=0.0005_2024-03-22_01-48-57/checkpoint_000000)\n"
     ]
    },
    {
     "name": "stderr",
     "output_type": "stream",
     "text": [
      "\u001b[36m(pid=3884191)\u001b[0m 2024-03-22 01:49:05.817420: E tensorflow/compiler/xla/stream_executor/cuda/cuda_dnn.cc:9342] Unable to register cuDNN factory: Attempting to register factory for plugin cuDNN when one has already been registered\n",
      "\u001b[36m(pid=3884191)\u001b[0m 2024-03-22 01:49:05.817542: E tensorflow/compiler/xla/stream_executor/cuda/cuda_fft.cc:609] Unable to register cuFFT factory: Attempting to register factory for plugin cuFFT when one has already been registered\n",
      "\u001b[36m(pid=3884191)\u001b[0m 2024-03-22 01:49:05.817557: E tensorflow/compiler/xla/stream_executor/cuda/cuda_blas.cc:1518] Unable to register cuBLAS factory: Attempting to register factory for plugin cuBLAS when one has already been registered\n"
     ]
    },
    {
     "name": "stderr",
     "output_type": "stream",
     "text": [
      "\u001b[36m(pid=3884359)\u001b[0m 2024-03-22 01:49:09.469218: E tensorflow/compiler/xla/stream_executor/cuda/cuda_dnn.cc:9342] Unable to register cuDNN factory: Attempting to register factory for plugin cuDNN when one has already been registered\n",
      "\u001b[36m(pid=3884359)\u001b[0m 2024-03-22 01:49:09.469250: E tensorflow/compiler/xla/stream_executor/cuda/cuda_fft.cc:609] Unable to register cuFFT factory: Attempting to register factory for plugin cuFFT when one has already been registered\n",
      "\u001b[36m(pid=3884359)\u001b[0m 2024-03-22 01:49:09.469266: E tensorflow/compiler/xla/stream_executor/cuda/cuda_blas.cc:1518] Unable to register cuBLAS factory: Attempting to register factory for plugin cuBLAS when one has already been registered\n",
      "\u001b[36m(TrainLightGCN pid=3884191)\u001b[0m /home/daviddavo/upm-tfm-notebooks/.direnv/python-3.9/lib/python3.9/site-packages/recommenders/models/deeprec/DataModel/ImplicitCF.py:73: FutureWarning: The frame.append method is deprecated and will be removed from pandas in a future version. Use pandas.concat instead.\n",
      "\u001b[36m(TrainLightGCN pid=3884191)\u001b[0m   df = train if test is None else train.append(test)\n"
     ]
    },
    {
     "name": "stderr",
     "output_type": "stream",
     "text": [
      "\u001b[36m(TrainLightGCN pid=3884029)\u001b[0m Checkpoint successfully created at: Checkpoint(filesystem=local, path=/home/daviddavo/ray_results/LightGCN_optim=map@10,dao=MetaCartel - MetaCartel Ventures,freq=W-THU,normalize=True,cutoff_date=2020-11-06T00:00:00,fold=9_2024-03-22T01:47:48.988892/TrainLightGCN_abba096f_21_batch_size=6,conv_layers=2,embedding_dim=1,fold=9,l2=0.0002,learning_rate=0.0021_2024-03-22_01-49-01/checkpoint_000000)\n"
     ]
    },
    {
     "name": "stdout",
     "output_type": "stream",
     "text": [
      "\u001b[36m(TrainLightGCN pid=3884359)\u001b[0m Already create adjacency matrix.\u001b[32m [repeated 2x across cluster]\u001b[0m\n",
      "\u001b[36m(TrainLightGCN pid=3884359)\u001b[0m Already normalize adjacency matrix.\u001b[32m [repeated 2x across cluster]\u001b[0m\n",
      "\u001b[36m(TrainLightGCN pid=3884359)\u001b[0m Using xavier initialization.\u001b[32m [repeated 2x across cluster]\u001b[0m\n"
     ]
    },
    {
     "name": "stderr",
     "output_type": "stream",
     "text": [
      "\u001b[36m(TrainLightGCN pid=3884359)\u001b[0m /home/daviddavo/upm-tfm-notebooks/.direnv/python-3.9/lib/python3.9/site-packages/recommenders/models/deeprec/DataModel/ImplicitCF.py:73: FutureWarning: The frame.append method is deprecated and will be removed from pandas in a future version. Use pandas.concat instead.\n",
      "\u001b[36m(TrainLightGCN pid=3884359)\u001b[0m   df = train if test is None else train.append(test)\n"
     ]
    },
    {
     "name": "stderr",
     "output_type": "stream",
     "text": [
      "\u001b[36m(pid=3884523)\u001b[0m 2024-03-22 01:49:13.099946: E tensorflow/compiler/xla/stream_executor/cuda/cuda_dnn.cc:9342] Unable to register cuDNN factory: Attempting to register factory for plugin cuDNN when one has already been registered\n",
      "\u001b[36m(pid=3884523)\u001b[0m 2024-03-22 01:49:13.099979: E tensorflow/compiler/xla/stream_executor/cuda/cuda_fft.cc:609] Unable to register cuFFT factory: Attempting to register factory for plugin cuFFT when one has already been registered\n",
      "\u001b[36m(pid=3884523)\u001b[0m 2024-03-22 01:49:13.099993: E tensorflow/compiler/xla/stream_executor/cuda/cuda_blas.cc:1518] Unable to register cuBLAS factory: Attempting to register factory for plugin cuBLAS when one has already been registered\n"
     ]
    },
    {
     "name": "stderr",
     "output_type": "stream",
     "text": [
      "\u001b[36m(pid=3884690)\u001b[0m 2024-03-22 01:49:16.760538: E tensorflow/compiler/xla/stream_executor/cuda/cuda_dnn.cc:9342] Unable to register cuDNN factory: Attempting to register factory for plugin cuDNN when one has already been registered\n",
      "\u001b[36m(pid=3884690)\u001b[0m 2024-03-22 01:49:16.760573: E tensorflow/compiler/xla/stream_executor/cuda/cuda_fft.cc:609] Unable to register cuFFT factory: Attempting to register factory for plugin cuFFT when one has already been registered\n",
      "\u001b[36m(pid=3884690)\u001b[0m 2024-03-22 01:49:16.760588: E tensorflow/compiler/xla/stream_executor/cuda/cuda_blas.cc:1518] Unable to register cuBLAS factory: Attempting to register factory for plugin cuBLAS when one has already been registered\n",
      "\u001b[36m(TrainLightGCN pid=3884191)\u001b[0m Checkpoint successfully created at: Checkpoint(filesystem=local, path=/home/daviddavo/ray_results/LightGCN_optim=map@10,dao=MetaCartel - MetaCartel Ventures,freq=W-THU,normalize=True,cutoff_date=2020-11-06T00:00:00,fold=9_2024-03-22T01:47:48.988892/TrainLightGCN_d24749cf_22_batch_size=6,conv_layers=1,embedding_dim=1,fold=9,l2=0.0002,learning_rate=0.0225_2024-03-22_01-49-04/checkpoint_000000)\n",
      "\u001b[36m(TrainLightGCN pid=3884523)\u001b[0m /home/daviddavo/upm-tfm-notebooks/.direnv/python-3.9/lib/python3.9/site-packages/recommenders/models/deeprec/DataModel/ImplicitCF.py:73: FutureWarning: The frame.append method is deprecated and will be removed from pandas in a future version. Use pandas.concat instead.\n",
      "\u001b[36m(TrainLightGCN pid=3884523)\u001b[0m   df = train if test is None else train.append(test)\n"
     ]
    },
    {
     "name": "stderr",
     "output_type": "stream",
     "text": [
      "\u001b[36m(TrainLightGCN pid=3884359)\u001b[0m Checkpoint successfully created at: Checkpoint(filesystem=local, path=/home/daviddavo/ray_results/LightGCN_optim=map@10,dao=MetaCartel - MetaCartel Ventures,freq=W-THU,normalize=True,cutoff_date=2020-11-06T00:00:00,fold=9_2024-03-22T01:47:48.988892/TrainLightGCN_55f72d62_23_batch_size=6,conv_layers=2,embedding_dim=17,fold=9,l2=0.0002,learning_rate=0.0001_2024-03-22_01-49-08/checkpoint_000000)\n"
     ]
    },
    {
     "name": "stderr",
     "output_type": "stream",
     "text": [
      "\u001b[36m(TrainLightGCN pid=3884690)\u001b[0m /home/daviddavo/upm-tfm-notebooks/.direnv/python-3.9/lib/python3.9/site-packages/recommenders/models/deeprec/DataModel/ImplicitCF.py:73: FutureWarning: The frame.append method is deprecated and will be removed from pandas in a future version. Use pandas.concat instead.\n",
      "\u001b[36m(TrainLightGCN pid=3884690)\u001b[0m   df = train if test is None else train.append(test)\n"
     ]
    },
    {
     "name": "stdout",
     "output_type": "stream",
     "text": [
      "\u001b[36m(TrainLightGCN pid=3884690)\u001b[0m Already create adjacency matrix.\u001b[32m [repeated 2x across cluster]\u001b[0m\n",
      "\u001b[36m(TrainLightGCN pid=3884690)\u001b[0m Already normalize adjacency matrix.\u001b[32m [repeated 2x across cluster]\u001b[0m\n",
      "\u001b[36m(TrainLightGCN pid=3884690)\u001b[0m Using xavier initialization.\u001b[32m [repeated 2x across cluster]\u001b[0m\n"
     ]
    },
    {
     "name": "stderr",
     "output_type": "stream",
     "text": [
      "\u001b[36m(pid=3884860)\u001b[0m 2024-03-22 01:49:20.397105: E tensorflow/compiler/xla/stream_executor/cuda/cuda_dnn.cc:9342] Unable to register cuDNN factory: Attempting to register factory for plugin cuDNN when one has already been registered\n",
      "\u001b[36m(pid=3884860)\u001b[0m 2024-03-22 01:49:20.397141: E tensorflow/compiler/xla/stream_executor/cuda/cuda_fft.cc:609] Unable to register cuFFT factory: Attempting to register factory for plugin cuFFT when one has already been registered\n",
      "\u001b[36m(pid=3884860)\u001b[0m 2024-03-22 01:49:20.397158: E tensorflow/compiler/xla/stream_executor/cuda/cuda_blas.cc:1518] Unable to register cuBLAS factory: Attempting to register factory for plugin cuBLAS when one has already been registered\n"
     ]
    },
    {
     "name": "stderr",
     "output_type": "stream",
     "text": [
      "\u001b[36m(pid=3885029)\u001b[0m 2024-03-22 01:49:24.085959: E tensorflow/compiler/xla/stream_executor/cuda/cuda_dnn.cc:9342] Unable to register cuDNN factory: Attempting to register factory for plugin cuDNN when one has already been registered\n",
      "\u001b[36m(pid=3885029)\u001b[0m 2024-03-22 01:49:24.085986: E tensorflow/compiler/xla/stream_executor/cuda/cuda_fft.cc:609] Unable to register cuFFT factory: Attempting to register factory for plugin cuFFT when one has already been registered\n",
      "\u001b[36m(pid=3885029)\u001b[0m 2024-03-22 01:49:24.086002: E tensorflow/compiler/xla/stream_executor/cuda/cuda_blas.cc:1518] Unable to register cuBLAS factory: Attempting to register factory for plugin cuBLAS when one has already been registered\n",
      "\u001b[36m(TrainLightGCN pid=3884523)\u001b[0m Checkpoint successfully created at: Checkpoint(filesystem=local, path=/home/daviddavo/ray_results/LightGCN_optim=map@10,dao=MetaCartel - MetaCartel Ventures,freq=W-THU,normalize=True,cutoff_date=2020-11-06T00:00:00,fold=9_2024-03-22T01:47:48.988892/TrainLightGCN_b4600407_24_batch_size=6,conv_layers=2,embedding_dim=1,fold=9,l2=0.0001,learning_rate=0.0023_2024-03-22_01-49-12/checkpoint_000000)\n",
      "\u001b[36m(TrainLightGCN pid=3884860)\u001b[0m /home/daviddavo/upm-tfm-notebooks/.direnv/python-3.9/lib/python3.9/site-packages/recommenders/models/deeprec/DataModel/ImplicitCF.py:73: FutureWarning: The frame.append method is deprecated and will be removed from pandas in a future version. Use pandas.concat instead.\n",
      "\u001b[36m(TrainLightGCN pid=3884860)\u001b[0m   df = train if test is None else train.append(test)\n"
     ]
    },
    {
     "name": "stderr",
     "output_type": "stream",
     "text": [
      "\u001b[36m(TrainLightGCN pid=3884690)\u001b[0m Checkpoint successfully created at: Checkpoint(filesystem=local, path=/home/daviddavo/ray_results/LightGCN_optim=map@10,dao=MetaCartel - MetaCartel Ventures,freq=W-THU,normalize=True,cutoff_date=2020-11-06T00:00:00,fold=9_2024-03-22T01:47:48.988892/TrainLightGCN_875bc31c_25_batch_size=6,conv_layers=1,embedding_dim=1015,fold=9,l2=0.0000,learning_rate=0.0203_2024-03-22_01-49-15/checkpoint_000000)\n"
     ]
    },
    {
     "name": "stderr",
     "output_type": "stream",
     "text": [
      "\u001b[36m(TrainLightGCN pid=3885029)\u001b[0m /home/daviddavo/upm-tfm-notebooks/.direnv/python-3.9/lib/python3.9/site-packages/recommenders/models/deeprec/DataModel/ImplicitCF.py:73: FutureWarning: The frame.append method is deprecated and will be removed from pandas in a future version. Use pandas.concat instead.\n",
      "\u001b[36m(TrainLightGCN pid=3885029)\u001b[0m   df = train if test is None else train.append(test)\n"
     ]
    },
    {
     "name": "stdout",
     "output_type": "stream",
     "text": [
      "\u001b[36m(TrainLightGCN pid=3885029)\u001b[0m Already create adjacency matrix.\u001b[32m [repeated 2x across cluster]\u001b[0m\n",
      "\u001b[36m(TrainLightGCN pid=3885029)\u001b[0m Already normalize adjacency matrix.\u001b[32m [repeated 2x across cluster]\u001b[0m\n",
      "\u001b[36m(TrainLightGCN pid=3885029)\u001b[0m Using xavier initialization.\u001b[32m [repeated 2x across cluster]\u001b[0m\n"
     ]
    },
    {
     "name": "stderr",
     "output_type": "stream",
     "text": [
      "\u001b[36m(pid=3885196)\u001b[0m 2024-03-22 01:49:27.741391: E tensorflow/compiler/xla/stream_executor/cuda/cuda_dnn.cc:9342] Unable to register cuDNN factory: Attempting to register factory for plugin cuDNN when one has already been registered\n",
      "\u001b[36m(pid=3885196)\u001b[0m 2024-03-22 01:49:27.741425: E tensorflow/compiler/xla/stream_executor/cuda/cuda_fft.cc:609] Unable to register cuFFT factory: Attempting to register factory for plugin cuFFT when one has already been registered\n",
      "\u001b[36m(pid=3885196)\u001b[0m 2024-03-22 01:49:27.741438: E tensorflow/compiler/xla/stream_executor/cuda/cuda_blas.cc:1518] Unable to register cuBLAS factory: Attempting to register factory for plugin cuBLAS when one has already been registered\n"
     ]
    },
    {
     "name": "stderr",
     "output_type": "stream",
     "text": [
      "\u001b[36m(pid=3885366)\u001b[0m 2024-03-22 01:49:31.382428: E tensorflow/compiler/xla/stream_executor/cuda/cuda_dnn.cc:9342] Unable to register cuDNN factory: Attempting to register factory for plugin cuDNN when one has already been registered\n",
      "\u001b[36m(pid=3885366)\u001b[0m 2024-03-22 01:49:31.382460: E tensorflow/compiler/xla/stream_executor/cuda/cuda_fft.cc:609] Unable to register cuFFT factory: Attempting to register factory for plugin cuFFT when one has already been registered\n",
      "\u001b[36m(pid=3885366)\u001b[0m 2024-03-22 01:49:31.382475: E tensorflow/compiler/xla/stream_executor/cuda/cuda_blas.cc:1518] Unable to register cuBLAS factory: Attempting to register factory for plugin cuBLAS when one has already been registered\n",
      "\u001b[36m(TrainLightGCN pid=3884860)\u001b[0m Checkpoint successfully created at: Checkpoint(filesystem=local, path=/home/daviddavo/ray_results/LightGCN_optim=map@10,dao=MetaCartel - MetaCartel Ventures,freq=W-THU,normalize=True,cutoff_date=2020-11-06T00:00:00,fold=9_2024-03-22T01:47:48.988892/TrainLightGCN_d60a117b_26_batch_size=6,conv_layers=2,embedding_dim=2,fold=9,l2=0.0001,learning_rate=0.0034_2024-03-22_01-49-19/checkpoint_000000)\n",
      "\u001b[36m(TrainLightGCN pid=3885196)\u001b[0m /home/daviddavo/upm-tfm-notebooks/.direnv/python-3.9/lib/python3.9/site-packages/recommenders/models/deeprec/DataModel/ImplicitCF.py:73: FutureWarning: The frame.append method is deprecated and will be removed from pandas in a future version. Use pandas.concat instead.\n",
      "\u001b[36m(TrainLightGCN pid=3885196)\u001b[0m   df = train if test is None else train.append(test)\n"
     ]
    },
    {
     "name": "stderr",
     "output_type": "stream",
     "text": [
      "\u001b[36m(TrainLightGCN pid=3885029)\u001b[0m Checkpoint successfully created at: Checkpoint(filesystem=local, path=/home/daviddavo/ray_results/LightGCN_optim=map@10,dao=MetaCartel - MetaCartel Ventures,freq=W-THU,normalize=True,cutoff_date=2020-11-06T00:00:00,fold=9_2024-03-22T01:47:48.988892/TrainLightGCN_f8bb44ea_27_batch_size=6,conv_layers=1,embedding_dim=2,fold=9,l2=0.0001,learning_rate=0.0008_2024-03-22_01-49-23/checkpoint_000000)\n"
     ]
    },
    {
     "name": "stderr",
     "output_type": "stream",
     "text": [
      "\u001b[36m(TrainLightGCN pid=3885366)\u001b[0m /home/daviddavo/upm-tfm-notebooks/.direnv/python-3.9/lib/python3.9/site-packages/recommenders/models/deeprec/DataModel/ImplicitCF.py:73: FutureWarning: The frame.append method is deprecated and will be removed from pandas in a future version. Use pandas.concat instead.\n",
      "\u001b[36m(TrainLightGCN pid=3885366)\u001b[0m   df = train if test is None else train.append(test)\n"
     ]
    },
    {
     "name": "stdout",
     "output_type": "stream",
     "text": [
      "\u001b[36m(TrainLightGCN pid=3885366)\u001b[0m Already create adjacency matrix.\u001b[32m [repeated 2x across cluster]\u001b[0m\n",
      "\u001b[36m(TrainLightGCN pid=3885366)\u001b[0m Already normalize adjacency matrix.\u001b[32m [repeated 2x across cluster]\u001b[0m\n",
      "\u001b[36m(TrainLightGCN pid=3885366)\u001b[0m Using xavier initialization.\u001b[32m [repeated 2x across cluster]\u001b[0m\n"
     ]
    },
    {
     "name": "stderr",
     "output_type": "stream",
     "text": [
      "\u001b[36m(pid=3885532)\u001b[0m 2024-03-22 01:49:35.016929: E tensorflow/compiler/xla/stream_executor/cuda/cuda_dnn.cc:9342] Unable to register cuDNN factory: Attempting to register factory for plugin cuDNN when one has already been registered\n",
      "\u001b[36m(pid=3885532)\u001b[0m 2024-03-22 01:49:35.016960: E tensorflow/compiler/xla/stream_executor/cuda/cuda_fft.cc:609] Unable to register cuFFT factory: Attempting to register factory for plugin cuFFT when one has already been registered\n",
      "\u001b[36m(pid=3885532)\u001b[0m 2024-03-22 01:49:35.016976: E tensorflow/compiler/xla/stream_executor/cuda/cuda_blas.cc:1518] Unable to register cuBLAS factory: Attempting to register factory for plugin cuBLAS when one has already been registered\n"
     ]
    },
    {
     "name": "stderr",
     "output_type": "stream",
     "text": [
      "\u001b[36m(pid=3885708)\u001b[0m 2024-03-22 01:49:38.676072: E tensorflow/compiler/xla/stream_executor/cuda/cuda_dnn.cc:9342] Unable to register cuDNN factory: Attempting to register factory for plugin cuDNN when one has already been registered\n",
      "\u001b[36m(pid=3885708)\u001b[0m 2024-03-22 01:49:38.676104: E tensorflow/compiler/xla/stream_executor/cuda/cuda_fft.cc:609] Unable to register cuFFT factory: Attempting to register factory for plugin cuFFT when one has already been registered\n",
      "\u001b[36m(pid=3885708)\u001b[0m 2024-03-22 01:49:38.676120: E tensorflow/compiler/xla/stream_executor/cuda/cuda_blas.cc:1518] Unable to register cuBLAS factory: Attempting to register factory for plugin cuBLAS when one has already been registered\n",
      "\u001b[36m(TrainLightGCN pid=3885366)\u001b[0m Checkpoint successfully created at: Checkpoint(filesystem=local, path=/home/daviddavo/ray_results/LightGCN_optim=map@10,dao=MetaCartel - MetaCartel Ventures,freq=W-THU,normalize=True,cutoff_date=2020-11-06T00:00:00,fold=9_2024-03-22T01:47:48.988892/TrainLightGCN_97303c36_29_batch_size=8,conv_layers=1,embedding_dim=1,fold=9,l2=0.0000,learning_rate=0.0028_2024-03-22_01-49-30/checkpoint_000000)\u001b[32m [repeated 2x across cluster]\u001b[0m\n",
      "\u001b[36m(TrainLightGCN pid=3885532)\u001b[0m /home/daviddavo/upm-tfm-notebooks/.direnv/python-3.9/lib/python3.9/site-packages/recommenders/models/deeprec/DataModel/ImplicitCF.py:73: FutureWarning: The frame.append method is deprecated and will be removed from pandas in a future version. Use pandas.concat instead.\n",
      "\u001b[36m(TrainLightGCN pid=3885532)\u001b[0m   df = train if test is None else train.append(test)\n"
     ]
    },
    {
     "name": "stderr",
     "output_type": "stream",
     "text": [
      "\u001b[36m(TrainLightGCN pid=3885708)\u001b[0m /home/daviddavo/upm-tfm-notebooks/.direnv/python-3.9/lib/python3.9/site-packages/recommenders/models/deeprec/DataModel/ImplicitCF.py:73: FutureWarning: The frame.append method is deprecated and will be removed from pandas in a future version. Use pandas.concat instead.\n",
      "\u001b[36m(TrainLightGCN pid=3885708)\u001b[0m   df = train if test is None else train.append(test)\n"
     ]
    },
    {
     "name": "stdout",
     "output_type": "stream",
     "text": [
      "\u001b[36m(TrainLightGCN pid=3885708)\u001b[0m Already create adjacency matrix.\u001b[32m [repeated 2x across cluster]\u001b[0m\n",
      "\u001b[36m(TrainLightGCN pid=3885708)\u001b[0m Already normalize adjacency matrix.\u001b[32m [repeated 2x across cluster]\u001b[0m\n",
      "\u001b[36m(TrainLightGCN pid=3885708)\u001b[0m Using xavier initialization.\u001b[32m [repeated 2x across cluster]\u001b[0m\n"
     ]
    },
    {
     "name": "stderr",
     "output_type": "stream",
     "text": [
      "\u001b[36m(pid=3885873)\u001b[0m 2024-03-22 01:49:42.256311: E tensorflow/compiler/xla/stream_executor/cuda/cuda_dnn.cc:9342] Unable to register cuDNN factory: Attempting to register factory for plugin cuDNN when one has already been registered\n",
      "\u001b[36m(pid=3885873)\u001b[0m 2024-03-22 01:49:42.256345: E tensorflow/compiler/xla/stream_executor/cuda/cuda_fft.cc:609] Unable to register cuFFT factory: Attempting to register factory for plugin cuFFT when one has already been registered\n",
      "\u001b[36m(pid=3885873)\u001b[0m 2024-03-22 01:49:42.256359: E tensorflow/compiler/xla/stream_executor/cuda/cuda_blas.cc:1518] Unable to register cuBLAS factory: Attempting to register factory for plugin cuBLAS when one has already been registered\n",
      "\u001b[36m(TrainLightGCN pid=3885532)\u001b[0m Checkpoint successfully created at: Checkpoint(filesystem=local, path=/home/daviddavo/ray_results/LightGCN_optim=map@10,dao=MetaCartel - MetaCartel Ventures,freq=W-THU,normalize=True,cutoff_date=2020-11-06T00:00:00,fold=9_2024-03-22T01:47:48.988892/TrainLightGCN_86369004_30_batch_size=8,conv_layers=2,embedding_dim=3,fold=9,l2=0.0001,learning_rate=0.0058_2024-03-22_01-49-33/checkpoint_000000)\n"
     ]
    },
    {
     "name": "stderr",
     "output_type": "stream",
     "text": [
      "\u001b[36m(pid=3886035)\u001b[0m 2024-03-22 01:49:45.883740: E tensorflow/compiler/xla/stream_executor/cuda/cuda_dnn.cc:9342] Unable to register cuDNN factory: Attempting to register factory for plugin cuDNN when one has already been registered\n",
      "\u001b[36m(pid=3886035)\u001b[0m 2024-03-22 01:49:45.883767: E tensorflow/compiler/xla/stream_executor/cuda/cuda_fft.cc:609] Unable to register cuFFT factory: Attempting to register factory for plugin cuFFT when one has already been registered\n",
      "\u001b[36m(pid=3886035)\u001b[0m 2024-03-22 01:49:45.883784: E tensorflow/compiler/xla/stream_executor/cuda/cuda_blas.cc:1518] Unable to register cuBLAS factory: Attempting to register factory for plugin cuBLAS when one has already been registered\n",
      "\u001b[36m(TrainLightGCN pid=3885873)\u001b[0m /home/daviddavo/upm-tfm-notebooks/.direnv/python-3.9/lib/python3.9/site-packages/recommenders/models/deeprec/DataModel/ImplicitCF.py:73: FutureWarning: The frame.append method is deprecated and will be removed from pandas in a future version. Use pandas.concat instead.\n",
      "\u001b[36m(TrainLightGCN pid=3885873)\u001b[0m   df = train if test is None else train.append(test)\n"
     ]
    },
    {
     "name": "stderr",
     "output_type": "stream",
     "text": [
      "\u001b[36m(TrainLightGCN pid=3885708)\u001b[0m Checkpoint successfully created at: Checkpoint(filesystem=local, path=/home/daviddavo/ray_results/LightGCN_optim=map@10,dao=MetaCartel - MetaCartel Ventures,freq=W-THU,normalize=True,cutoff_date=2020-11-06T00:00:00,fold=9_2024-03-22T01:47:48.988892/TrainLightGCN_74fec377_31_batch_size=6,conv_layers=2,embedding_dim=14,fold=9,l2=0.0004,learning_rate=0.0751_2024-03-22_01-49-37/checkpoint_000000)\n"
     ]
    },
    {
     "name": "stderr",
     "output_type": "stream",
     "text": [
      "\u001b[36m(TrainLightGCN pid=3886035)\u001b[0m /home/daviddavo/upm-tfm-notebooks/.direnv/python-3.9/lib/python3.9/site-packages/recommenders/models/deeprec/DataModel/ImplicitCF.py:73: FutureWarning: The frame.append method is deprecated and will be removed from pandas in a future version. Use pandas.concat instead.\n",
      "\u001b[36m(TrainLightGCN pid=3886035)\u001b[0m   df = train if test is None else train.append(test)\n"
     ]
    },
    {
     "name": "stdout",
     "output_type": "stream",
     "text": [
      "\u001b[36m(TrainLightGCN pid=3886035)\u001b[0m Already create adjacency matrix.\u001b[32m [repeated 2x across cluster]\u001b[0m\n",
      "\u001b[36m(TrainLightGCN pid=3886035)\u001b[0m Already normalize adjacency matrix.\u001b[32m [repeated 2x across cluster]\u001b[0m\n",
      "\u001b[36m(TrainLightGCN pid=3886035)\u001b[0m Using xavier initialization.\u001b[32m [repeated 2x across cluster]\u001b[0m\n"
     ]
    },
    {
     "name": "stderr",
     "output_type": "stream",
     "text": [
      "\u001b[36m(pid=3886209)\u001b[0m 2024-03-22 01:49:49.543533: E tensorflow/compiler/xla/stream_executor/cuda/cuda_dnn.cc:9342] Unable to register cuDNN factory: Attempting to register factory for plugin cuDNN when one has already been registered\n",
      "\u001b[36m(pid=3886209)\u001b[0m 2024-03-22 01:49:49.543566: E tensorflow/compiler/xla/stream_executor/cuda/cuda_fft.cc:609] Unable to register cuFFT factory: Attempting to register factory for plugin cuFFT when one has already been registered\n",
      "\u001b[36m(pid=3886209)\u001b[0m 2024-03-22 01:49:49.543583: E tensorflow/compiler/xla/stream_executor/cuda/cuda_blas.cc:1518] Unable to register cuBLAS factory: Attempting to register factory for plugin cuBLAS when one has already been registered\n"
     ]
    },
    {
     "name": "stderr",
     "output_type": "stream",
     "text": [
      "\u001b[36m(pid=3886368)\u001b[0m 2024-03-22 01:49:53.194311: E tensorflow/compiler/xla/stream_executor/cuda/cuda_dnn.cc:9342] Unable to register cuDNN factory: Attempting to register factory for plugin cuDNN when one has already been registered\n",
      "\u001b[36m(pid=3886368)\u001b[0m 2024-03-22 01:49:53.194343: E tensorflow/compiler/xla/stream_executor/cuda/cuda_fft.cc:609] Unable to register cuFFT factory: Attempting to register factory for plugin cuFFT when one has already been registered\n",
      "\u001b[36m(pid=3886368)\u001b[0m 2024-03-22 01:49:53.194359: E tensorflow/compiler/xla/stream_executor/cuda/cuda_blas.cc:1518] Unable to register cuBLAS factory: Attempting to register factory for plugin cuBLAS when one has already been registered\n",
      "\u001b[36m(TrainLightGCN pid=3885873)\u001b[0m Checkpoint successfully created at: Checkpoint(filesystem=local, path=/home/daviddavo/ray_results/LightGCN_optim=map@10,dao=MetaCartel - MetaCartel Ventures,freq=W-THU,normalize=True,cutoff_date=2020-11-06T00:00:00,fold=9_2024-03-22T01:47:48.988892/TrainLightGCN_7fb2de8b_32_batch_size=8,conv_layers=1,embedding_dim=1,fold=9,l2=0.0000,learning_rate=0.0120_2024-03-22_01-49-41/checkpoint_000000)\n",
      "\u001b[36m(TrainLightGCN pid=3886209)\u001b[0m /home/daviddavo/upm-tfm-notebooks/.direnv/python-3.9/lib/python3.9/site-packages/recommenders/models/deeprec/DataModel/ImplicitCF.py:73: FutureWarning: The frame.append method is deprecated and will be removed from pandas in a future version. Use pandas.concat instead.\n",
      "\u001b[36m(TrainLightGCN pid=3886209)\u001b[0m   df = train if test is None else train.append(test)\n"
     ]
    },
    {
     "name": "stderr",
     "output_type": "stream",
     "text": [
      "\u001b[36m(TrainLightGCN pid=3886035)\u001b[0m Checkpoint successfully created at: Checkpoint(filesystem=local, path=/home/daviddavo/ray_results/LightGCN_optim=map@10,dao=MetaCartel - MetaCartel Ventures,freq=W-THU,normalize=True,cutoff_date=2020-11-06T00:00:00,fold=9_2024-03-22T01:47:48.988892/TrainLightGCN_4ffa9f2f_33_batch_size=6,conv_layers=2,embedding_dim=3,fold=9,l2=0.0000,learning_rate=0.0020_2024-03-22_01-49-44/checkpoint_000000)\n"
     ]
    },
    {
     "name": "stderr",
     "output_type": "stream",
     "text": [
      "\u001b[36m(TrainLightGCN pid=3886368)\u001b[0m /home/daviddavo/upm-tfm-notebooks/.direnv/python-3.9/lib/python3.9/site-packages/recommenders/models/deeprec/DataModel/ImplicitCF.py:73: FutureWarning: The frame.append method is deprecated and will be removed from pandas in a future version. Use pandas.concat instead.\n",
      "\u001b[36m(TrainLightGCN pid=3886368)\u001b[0m   df = train if test is None else train.append(test)\n"
     ]
    },
    {
     "name": "stdout",
     "output_type": "stream",
     "text": [
      "\u001b[36m(TrainLightGCN pid=3886368)\u001b[0m Already create adjacency matrix.\u001b[32m [repeated 2x across cluster]\u001b[0m\n",
      "\u001b[36m(TrainLightGCN pid=3886368)\u001b[0m Already normalize adjacency matrix.\u001b[32m [repeated 2x across cluster]\u001b[0m\n",
      "\u001b[36m(TrainLightGCN pid=3886368)\u001b[0m Using xavier initialization.\u001b[32m [repeated 2x across cluster]\u001b[0m\n"
     ]
    },
    {
     "name": "stderr",
     "output_type": "stream",
     "text": [
      "\u001b[36m(pid=3886539)\u001b[0m 2024-03-22 01:49:56.849753: E tensorflow/compiler/xla/stream_executor/cuda/cuda_dnn.cc:9342] Unable to register cuDNN factory: Attempting to register factory for plugin cuDNN when one has already been registered\n",
      "\u001b[36m(pid=3886539)\u001b[0m 2024-03-22 01:49:56.849788: E tensorflow/compiler/xla/stream_executor/cuda/cuda_fft.cc:609] Unable to register cuFFT factory: Attempting to register factory for plugin cuFFT when one has already been registered\n",
      "\u001b[36m(pid=3886539)\u001b[0m 2024-03-22 01:49:56.849803: E tensorflow/compiler/xla/stream_executor/cuda/cuda_blas.cc:1518] Unable to register cuBLAS factory: Attempting to register factory for plugin cuBLAS when one has already been registered\n"
     ]
    },
    {
     "name": "stderr",
     "output_type": "stream",
     "text": [
      "\u001b[36m(pid=3886708)\u001b[0m 2024-03-22 01:50:00.430669: E tensorflow/compiler/xla/stream_executor/cuda/cuda_dnn.cc:9342] Unable to register cuDNN factory: Attempting to register factory for plugin cuDNN when one has already been registered\n",
      "\u001b[36m(pid=3886708)\u001b[0m 2024-03-22 01:50:00.430705: E tensorflow/compiler/xla/stream_executor/cuda/cuda_fft.cc:609] Unable to register cuFFT factory: Attempting to register factory for plugin cuFFT when one has already been registered\n",
      "\u001b[36m(pid=3886708)\u001b[0m 2024-03-22 01:50:00.430719: E tensorflow/compiler/xla/stream_executor/cuda/cuda_blas.cc:1518] Unable to register cuBLAS factory: Attempting to register factory for plugin cuBLAS when one has already been registered\n",
      "\u001b[36m(TrainLightGCN pid=3886368)\u001b[0m Checkpoint successfully created at: Checkpoint(filesystem=local, path=/home/daviddavo/ray_results/LightGCN_optim=map@10,dao=MetaCartel - MetaCartel Ventures,freq=W-THU,normalize=True,cutoff_date=2020-11-06T00:00:00,fold=9_2024-03-22T01:47:48.988892/TrainLightGCN_904bdfb9_35_batch_size=8,conv_layers=1,embedding_dim=927,fold=9,l2=0.0000,learning_rate=0.0152_2024-03-22_01-49-52/checkpoint_000000)\u001b[32m [repeated 2x across cluster]\u001b[0m\n",
      "\u001b[36m(TrainLightGCN pid=3886539)\u001b[0m /home/daviddavo/upm-tfm-notebooks/.direnv/python-3.9/lib/python3.9/site-packages/recommenders/models/deeprec/DataModel/ImplicitCF.py:73: FutureWarning: The frame.append method is deprecated and will be removed from pandas in a future version. Use pandas.concat instead.\n",
      "\u001b[36m(TrainLightGCN pid=3886539)\u001b[0m   df = train if test is None else train.append(test)\n"
     ]
    },
    {
     "name": "stderr",
     "output_type": "stream",
     "text": [
      "\u001b[36m(TrainLightGCN pid=3886708)\u001b[0m /home/daviddavo/upm-tfm-notebooks/.direnv/python-3.9/lib/python3.9/site-packages/recommenders/models/deeprec/DataModel/ImplicitCF.py:73: FutureWarning: The frame.append method is deprecated and will be removed from pandas in a future version. Use pandas.concat instead.\n",
      "\u001b[36m(TrainLightGCN pid=3886708)\u001b[0m   df = train if test is None else train.append(test)\n"
     ]
    },
    {
     "name": "stdout",
     "output_type": "stream",
     "text": [
      "\u001b[36m(TrainLightGCN pid=3886708)\u001b[0m Already create adjacency matrix.\u001b[32m [repeated 2x across cluster]\u001b[0m\n",
      "\u001b[36m(TrainLightGCN pid=3886708)\u001b[0m Already normalize adjacency matrix.\u001b[32m [repeated 2x across cluster]\u001b[0m\n",
      "\u001b[36m(TrainLightGCN pid=3886708)\u001b[0m Using xavier initialization.\u001b[32m [repeated 2x across cluster]\u001b[0m\n"
     ]
    },
    {
     "name": "stderr",
     "output_type": "stream",
     "text": [
      "\u001b[36m(pid=3886878)\u001b[0m 2024-03-22 01:50:04.014352: E tensorflow/compiler/xla/stream_executor/cuda/cuda_dnn.cc:9342] Unable to register cuDNN factory: Attempting to register factory for plugin cuDNN when one has already been registered\n",
      "\u001b[36m(pid=3886878)\u001b[0m 2024-03-22 01:50:04.014385: E tensorflow/compiler/xla/stream_executor/cuda/cuda_fft.cc:609] Unable to register cuFFT factory: Attempting to register factory for plugin cuFFT when one has already been registered\n",
      "\u001b[36m(pid=3886878)\u001b[0m 2024-03-22 01:50:04.014401: E tensorflow/compiler/xla/stream_executor/cuda/cuda_blas.cc:1518] Unable to register cuBLAS factory: Attempting to register factory for plugin cuBLAS when one has already been registered\n",
      "\u001b[36m(TrainLightGCN pid=3886539)\u001b[0m Checkpoint successfully created at: Checkpoint(filesystem=local, path=/home/daviddavo/ray_results/LightGCN_optim=map@10,dao=MetaCartel - MetaCartel Ventures,freq=W-THU,normalize=True,cutoff_date=2020-11-06T00:00:00,fold=9_2024-03-22T01:47:48.988892/TrainLightGCN_152c29d8_36_batch_size=9,conv_layers=1,embedding_dim=2,fold=9,l2=0.0022,learning_rate=0.0521_2024-03-22_01-49-55/checkpoint_000000)\n"
     ]
    },
    {
     "name": "stderr",
     "output_type": "stream",
     "text": [
      "\u001b[36m(TrainLightGCN pid=3886708)\u001b[0m Checkpoint successfully created at: Checkpoint(filesystem=local, path=/home/daviddavo/ray_results/LightGCN_optim=map@10,dao=MetaCartel - MetaCartel Ventures,freq=W-THU,normalize=True,cutoff_date=2020-11-06T00:00:00,fold=9_2024-03-22T01:47:48.988892/TrainLightGCN_90ea52f2_37_batch_size=8,conv_layers=1,embedding_dim=1,fold=9,l2=0.0000,learning_rate=0.0391_2024-03-22_01-49-59/checkpoint_000000)\n"
     ]
    },
    {
     "name": "stderr",
     "output_type": "stream",
     "text": [
      "\u001b[36m(pid=3887047)\u001b[0m 2024-03-22 01:50:07.648428: E tensorflow/compiler/xla/stream_executor/cuda/cuda_dnn.cc:9342] Unable to register cuDNN factory: Attempting to register factory for plugin cuDNN when one has already been registered\n",
      "\u001b[36m(pid=3887047)\u001b[0m 2024-03-22 01:50:07.648456: E tensorflow/compiler/xla/stream_executor/cuda/cuda_fft.cc:609] Unable to register cuFFT factory: Attempting to register factory for plugin cuFFT when one has already been registered\n",
      "\u001b[36m(pid=3887047)\u001b[0m 2024-03-22 01:50:07.648470: E tensorflow/compiler/xla/stream_executor/cuda/cuda_blas.cc:1518] Unable to register cuBLAS factory: Attempting to register factory for plugin cuBLAS when one has already been registered\n",
      "\u001b[36m(TrainLightGCN pid=3886878)\u001b[0m /home/daviddavo/upm-tfm-notebooks/.direnv/python-3.9/lib/python3.9/site-packages/recommenders/models/deeprec/DataModel/ImplicitCF.py:73: FutureWarning: The frame.append method is deprecated and will be removed from pandas in a future version. Use pandas.concat instead.\n",
      "\u001b[36m(TrainLightGCN pid=3886878)\u001b[0m   df = train if test is None else train.append(test)\n"
     ]
    },
    {
     "name": "stderr",
     "output_type": "stream",
     "text": [
      "\u001b[36m(TrainLightGCN pid=3887047)\u001b[0m /home/daviddavo/upm-tfm-notebooks/.direnv/python-3.9/lib/python3.9/site-packages/recommenders/models/deeprec/DataModel/ImplicitCF.py:73: FutureWarning: The frame.append method is deprecated and will be removed from pandas in a future version. Use pandas.concat instead.\n",
      "\u001b[36m(TrainLightGCN pid=3887047)\u001b[0m   df = train if test is None else train.append(test)\n"
     ]
    },
    {
     "name": "stdout",
     "output_type": "stream",
     "text": [
      "\u001b[36m(TrainLightGCN pid=3887047)\u001b[0m Already create adjacency matrix.\u001b[32m [repeated 2x across cluster]\u001b[0m\n",
      "\u001b[36m(TrainLightGCN pid=3887047)\u001b[0m Already normalize adjacency matrix.\u001b[32m [repeated 2x across cluster]\u001b[0m\n",
      "\u001b[36m(TrainLightGCN pid=3887047)\u001b[0m Using xavier initialization.\u001b[32m [repeated 2x across cluster]\u001b[0m\n"
     ]
    },
    {
     "name": "stderr",
     "output_type": "stream",
     "text": [
      "\u001b[36m(TrainLightGCN pid=3886878)\u001b[0m Checkpoint successfully created at: Checkpoint(filesystem=local, path=/home/daviddavo/ray_results/LightGCN_optim=map@10,dao=MetaCartel - MetaCartel Ventures,freq=W-THU,normalize=True,cutoff_date=2020-11-06T00:00:00,fold=9_2024-03-22T01:47:48.988892/TrainLightGCN_68361903_38_batch_size=9,conv_layers=3,embedding_dim=3,fold=9,l2=0.0000,learning_rate=0.8269_2024-03-22_01-50-02/checkpoint_000000)\n",
      "\u001b[36m(pid=3887212)\u001b[0m 2024-03-22 01:50:11.226446: E tensorflow/compiler/xla/stream_executor/cuda/cuda_dnn.cc:9342] Unable to register cuDNN factory: Attempting to register factory for plugin cuDNN when one has already been registered\n",
      "\u001b[36m(pid=3887212)\u001b[0m 2024-03-22 01:50:11.226479: E tensorflow/compiler/xla/stream_executor/cuda/cuda_fft.cc:609] Unable to register cuFFT factory: Attempting to register factory for plugin cuFFT when one has already been registered\n",
      "\u001b[36m(pid=3887212)\u001b[0m 2024-03-22 01:50:11.226495: E tensorflow/compiler/xla/stream_executor/cuda/cuda_blas.cc:1518] Unable to register cuBLAS factory: Attempting to register factory for plugin cuBLAS when one has already been registered\n"
     ]
    },
    {
     "name": "stderr",
     "output_type": "stream",
     "text": [
      "\u001b[36m(TrainLightGCN pid=3887047)\u001b[0m Checkpoint successfully created at: Checkpoint(filesystem=local, path=/home/daviddavo/ray_results/LightGCN_optim=map@10,dao=MetaCartel - MetaCartel Ventures,freq=W-THU,normalize=True,cutoff_date=2020-11-06T00:00:00,fold=9_2024-03-22T01:47:48.988892/TrainLightGCN_ccec67c0_39_batch_size=7,conv_layers=3,embedding_dim=571,fold=9,l2=0.0000,learning_rate=0.0050_2024-03-22_01-50-06/checkpoint_000000)\n"
     ]
    },
    {
     "name": "stderr",
     "output_type": "stream",
     "text": [
      "\u001b[36m(pid=3887370)\u001b[0m 2024-03-22 01:50:14.859720: E tensorflow/compiler/xla/stream_executor/cuda/cuda_dnn.cc:9342] Unable to register cuDNN factory: Attempting to register factory for plugin cuDNN when one has already been registered\n",
      "\u001b[36m(pid=3887370)\u001b[0m 2024-03-22 01:50:14.859755: E tensorflow/compiler/xla/stream_executor/cuda/cuda_fft.cc:609] Unable to register cuFFT factory: Attempting to register factory for plugin cuFFT when one has already been registered\n",
      "\u001b[36m(pid=3887370)\u001b[0m 2024-03-22 01:50:14.859771: E tensorflow/compiler/xla/stream_executor/cuda/cuda_blas.cc:1518] Unable to register cuBLAS factory: Attempting to register factory for plugin cuBLAS when one has already been registered\n",
      "\u001b[36m(TrainLightGCN pid=3887212)\u001b[0m /home/daviddavo/upm-tfm-notebooks/.direnv/python-3.9/lib/python3.9/site-packages/recommenders/models/deeprec/DataModel/ImplicitCF.py:73: FutureWarning: The frame.append method is deprecated and will be removed from pandas in a future version. Use pandas.concat instead.\n",
      "\u001b[36m(TrainLightGCN pid=3887212)\u001b[0m   df = train if test is None else train.append(test)\n"
     ]
    },
    {
     "name": "stdout",
     "output_type": "stream",
     "text": [
      "\u001b[36m(TrainLightGCN pid=3887370)\u001b[0m Already create adjacency matrix.\u001b[32m [repeated 2x across cluster]\u001b[0m\n",
      "\u001b[36m(TrainLightGCN pid=3887370)\u001b[0m Already normalize adjacency matrix.\u001b[32m [repeated 2x across cluster]\u001b[0m\n",
      "\u001b[36m(TrainLightGCN pid=3887370)\u001b[0m Using xavier initialization.\u001b[32m [repeated 2x across cluster]\u001b[0m\n"
     ]
    },
    {
     "name": "stderr",
     "output_type": "stream",
     "text": [
      "\u001b[36m(TrainLightGCN pid=3887370)\u001b[0m /home/daviddavo/upm-tfm-notebooks/.direnv/python-3.9/lib/python3.9/site-packages/recommenders/models/deeprec/DataModel/ImplicitCF.py:73: FutureWarning: The frame.append method is deprecated and will be removed from pandas in a future version. Use pandas.concat instead.\n",
      "\u001b[36m(TrainLightGCN pid=3887370)\u001b[0m   df = train if test is None else train.append(test)\n"
     ]
    },
    {
     "name": "stderr",
     "output_type": "stream",
     "text": [
      "\u001b[36m(TrainLightGCN pid=3887212)\u001b[0m Checkpoint successfully created at: Checkpoint(filesystem=local, path=/home/daviddavo/ray_results/LightGCN_optim=map@10,dao=MetaCartel - MetaCartel Ventures,freq=W-THU,normalize=True,cutoff_date=2020-11-06T00:00:00,fold=9_2024-03-22T01:47:48.988892/TrainLightGCN_6170a525_40_batch_size=8,conv_layers=5,embedding_dim=4,fold=9,l2=0.0003,learning_rate=0.0001_2024-03-22_01-50-10/checkpoint_000000)\n",
      "\u001b[36m(pid=3887545)\u001b[0m 2024-03-22 01:50:18.443816: E tensorflow/compiler/xla/stream_executor/cuda/cuda_dnn.cc:9342] Unable to register cuDNN factory: Attempting to register factory for plugin cuDNN when one has already been registered\n",
      "\u001b[36m(pid=3887545)\u001b[0m 2024-03-22 01:50:18.443850: E tensorflow/compiler/xla/stream_executor/cuda/cuda_fft.cc:609] Unable to register cuFFT factory: Attempting to register factory for plugin cuFFT when one has already been registered\n",
      "\u001b[36m(pid=3887545)\u001b[0m 2024-03-22 01:50:18.443864: E tensorflow/compiler/xla/stream_executor/cuda/cuda_blas.cc:1518] Unable to register cuBLAS factory: Attempting to register factory for plugin cuBLAS when one has already been registered\n"
     ]
    },
    {
     "name": "stderr",
     "output_type": "stream",
     "text": [
      "\u001b[36m(TrainLightGCN pid=3887370)\u001b[0m Checkpoint successfully created at: Checkpoint(filesystem=local, path=/home/daviddavo/ray_results/LightGCN_optim=map@10,dao=MetaCartel - MetaCartel Ventures,freq=W-THU,normalize=True,cutoff_date=2020-11-06T00:00:00,fold=9_2024-03-22T01:47:48.988892/TrainLightGCN_22faad63_41_batch_size=7,conv_layers=1,embedding_dim=9,fold=9,l2=0.0001,learning_rate=0.0092_2024-03-22_01-50-13/checkpoint_000000)\n"
     ]
    },
    {
     "name": "stderr",
     "output_type": "stream",
     "text": [
      "\u001b[36m(pid=3887707)\u001b[0m 2024-03-22 01:50:22.031418: E tensorflow/compiler/xla/stream_executor/cuda/cuda_dnn.cc:9342] Unable to register cuDNN factory: Attempting to register factory for plugin cuDNN when one has already been registered\n",
      "\u001b[36m(pid=3887707)\u001b[0m 2024-03-22 01:50:22.031449: E tensorflow/compiler/xla/stream_executor/cuda/cuda_fft.cc:609] Unable to register cuFFT factory: Attempting to register factory for plugin cuFFT when one has already been registered\n",
      "\u001b[36m(pid=3887707)\u001b[0m 2024-03-22 01:50:22.031465: E tensorflow/compiler/xla/stream_executor/cuda/cuda_blas.cc:1518] Unable to register cuBLAS factory: Attempting to register factory for plugin cuBLAS when one has already been registered\n",
      "\u001b[36m(TrainLightGCN pid=3887545)\u001b[0m /home/daviddavo/upm-tfm-notebooks/.direnv/python-3.9/lib/python3.9/site-packages/recommenders/models/deeprec/DataModel/ImplicitCF.py:73: FutureWarning: The frame.append method is deprecated and will be removed from pandas in a future version. Use pandas.concat instead.\n",
      "\u001b[36m(TrainLightGCN pid=3887545)\u001b[0m   df = train if test is None else train.append(test)\n"
     ]
    },
    {
     "name": "stderr",
     "output_type": "stream",
     "text": [
      "\u001b[36m(TrainLightGCN pid=3887707)\u001b[0m /home/daviddavo/upm-tfm-notebooks/.direnv/python-3.9/lib/python3.9/site-packages/recommenders/models/deeprec/DataModel/ImplicitCF.py:73: FutureWarning: The frame.append method is deprecated and will be removed from pandas in a future version. Use pandas.concat instead.\n",
      "\u001b[36m(TrainLightGCN pid=3887707)\u001b[0m   df = train if test is None else train.append(test)\n"
     ]
    },
    {
     "name": "stdout",
     "output_type": "stream",
     "text": [
      "\u001b[36m(TrainLightGCN pid=3887707)\u001b[0m Already create adjacency matrix.\u001b[32m [repeated 2x across cluster]\u001b[0m\n",
      "\u001b[36m(TrainLightGCN pid=3887707)\u001b[0m Already normalize adjacency matrix.\u001b[32m [repeated 2x across cluster]\u001b[0m\n",
      "\u001b[36m(TrainLightGCN pid=3887707)\u001b[0m Using xavier initialization.\u001b[32m [repeated 2x across cluster]\u001b[0m\n"
     ]
    },
    {
     "name": "stderr",
     "output_type": "stream",
     "text": [
      "\u001b[36m(TrainLightGCN pid=3887545)\u001b[0m Checkpoint successfully created at: Checkpoint(filesystem=local, path=/home/daviddavo/ray_results/LightGCN_optim=map@10,dao=MetaCartel - MetaCartel Ventures,freq=W-THU,normalize=True,cutoff_date=2020-11-06T00:00:00,fold=9_2024-03-22T01:47:48.988892/TrainLightGCN_83b7e8d8_42_batch_size=7,conv_layers=3,embedding_dim=1,fold=9,l2=0.0000,learning_rate=0.1470_2024-03-22_01-50-17/checkpoint_000000)\n",
      "\u001b[36m(pid=3887872)\u001b[0m 2024-03-22 01:50:25.677404: E tensorflow/compiler/xla/stream_executor/cuda/cuda_dnn.cc:9342] Unable to register cuDNN factory: Attempting to register factory for plugin cuDNN when one has already been registered\n",
      "\u001b[36m(pid=3887872)\u001b[0m 2024-03-22 01:50:25.677437: E tensorflow/compiler/xla/stream_executor/cuda/cuda_fft.cc:609] Unable to register cuFFT factory: Attempting to register factory for plugin cuFFT when one has already been registered\n",
      "\u001b[36m(pid=3887872)\u001b[0m 2024-03-22 01:50:25.677450: E tensorflow/compiler/xla/stream_executor/cuda/cuda_blas.cc:1518] Unable to register cuBLAS factory: Attempting to register factory for plugin cuBLAS when one has already been registered\n"
     ]
    },
    {
     "name": "stderr",
     "output_type": "stream",
     "text": [
      "\u001b[36m(TrainLightGCN pid=3887707)\u001b[0m Checkpoint successfully created at: Checkpoint(filesystem=local, path=/home/daviddavo/ray_results/LightGCN_optim=map@10,dao=MetaCartel - MetaCartel Ventures,freq=W-THU,normalize=True,cutoff_date=2020-11-06T00:00:00,fold=9_2024-03-22T01:47:48.988892/TrainLightGCN_be0a2d0f_43_batch_size=8,conv_layers=1,embedding_dim=169,fold=9,l2=0.0007,learning_rate=0.0008_2024-03-22_01-50-20/checkpoint_000000)\n"
     ]
    },
    {
     "name": "stderr",
     "output_type": "stream",
     "text": [
      "\u001b[36m(pid=3888047)\u001b[0m 2024-03-22 01:50:29.252422: E tensorflow/compiler/xla/stream_executor/cuda/cuda_dnn.cc:9342] Unable to register cuDNN factory: Attempting to register factory for plugin cuDNN when one has already been registered\n",
      "\u001b[36m(pid=3888047)\u001b[0m 2024-03-22 01:50:29.252451: E tensorflow/compiler/xla/stream_executor/cuda/cuda_fft.cc:609] Unable to register cuFFT factory: Attempting to register factory for plugin cuFFT when one has already been registered\n",
      "\u001b[36m(pid=3888047)\u001b[0m 2024-03-22 01:50:29.252468: E tensorflow/compiler/xla/stream_executor/cuda/cuda_blas.cc:1518] Unable to register cuBLAS factory: Attempting to register factory for plugin cuBLAS when one has already been registered\n",
      "\u001b[36m(TrainLightGCN pid=3887872)\u001b[0m /home/daviddavo/upm-tfm-notebooks/.direnv/python-3.9/lib/python3.9/site-packages/recommenders/models/deeprec/DataModel/ImplicitCF.py:73: FutureWarning: The frame.append method is deprecated and will be removed from pandas in a future version. Use pandas.concat instead.\n",
      "\u001b[36m(TrainLightGCN pid=3887872)\u001b[0m   df = train if test is None else train.append(test)\n"
     ]
    },
    {
     "name": "stderr",
     "output_type": "stream",
     "text": [
      "\u001b[36m(TrainLightGCN pid=3888047)\u001b[0m /home/daviddavo/upm-tfm-notebooks/.direnv/python-3.9/lib/python3.9/site-packages/recommenders/models/deeprec/DataModel/ImplicitCF.py:73: FutureWarning: The frame.append method is deprecated and will be removed from pandas in a future version. Use pandas.concat instead.\n",
      "\u001b[36m(TrainLightGCN pid=3888047)\u001b[0m   df = train if test is None else train.append(test)\n"
     ]
    },
    {
     "name": "stdout",
     "output_type": "stream",
     "text": [
      "\u001b[36m(TrainLightGCN pid=3888047)\u001b[0m Already create adjacency matrix.\u001b[32m [repeated 2x across cluster]\u001b[0m\n",
      "\u001b[36m(TrainLightGCN pid=3888047)\u001b[0m Already normalize adjacency matrix.\u001b[32m [repeated 2x across cluster]\u001b[0m\n",
      "\u001b[36m(TrainLightGCN pid=3888047)\u001b[0m Using xavier initialization.\u001b[32m [repeated 2x across cluster]\u001b[0m\n"
     ]
    },
    {
     "name": "stderr",
     "output_type": "stream",
     "text": [
      "\u001b[36m(TrainLightGCN pid=3887872)\u001b[0m Checkpoint successfully created at: Checkpoint(filesystem=local, path=/home/daviddavo/ray_results/LightGCN_optim=map@10,dao=MetaCartel - MetaCartel Ventures,freq=W-THU,normalize=True,cutoff_date=2020-11-06T00:00:00,fold=9_2024-03-22T01:47:48.988892/TrainLightGCN_40ff037c_44_batch_size=9,conv_layers=2,embedding_dim=21,fold=9,l2=0.0086,learning_rate=0.1220_2024-03-22_01-50-24/checkpoint_000000)\n",
      "\u001b[36m(pid=3888213)\u001b[0m 2024-03-22 01:50:32.858190: E tensorflow/compiler/xla/stream_executor/cuda/cuda_dnn.cc:9342] Unable to register cuDNN factory: Attempting to register factory for plugin cuDNN when one has already been registered\n",
      "\u001b[36m(pid=3888213)\u001b[0m 2024-03-22 01:50:32.858218: E tensorflow/compiler/xla/stream_executor/cuda/cuda_fft.cc:609] Unable to register cuFFT factory: Attempting to register factory for plugin cuFFT when one has already been registered\n",
      "\u001b[36m(pid=3888213)\u001b[0m 2024-03-22 01:50:32.858232: E tensorflow/compiler/xla/stream_executor/cuda/cuda_blas.cc:1518] Unable to register cuBLAS factory: Attempting to register factory for plugin cuBLAS when one has already been registered\n"
     ]
    },
    {
     "name": "stderr",
     "output_type": "stream",
     "text": [
      "\u001b[36m(TrainLightGCN pid=3888047)\u001b[0m Checkpoint successfully created at: Checkpoint(filesystem=local, path=/home/daviddavo/ray_results/LightGCN_optim=map@10,dao=MetaCartel - MetaCartel Ventures,freq=W-THU,normalize=True,cutoff_date=2020-11-06T00:00:00,fold=9_2024-03-22T01:47:48.988892/TrainLightGCN_d3341c30_45_batch_size=7,conv_layers=5,embedding_dim=1,fold=9,l2=0.0000,learning_rate=0.4016_2024-03-22_01-50-28/checkpoint_000000)\n"
     ]
    },
    {
     "name": "stderr",
     "output_type": "stream",
     "text": [
      "\u001b[36m(pid=3888373)\u001b[0m 2024-03-22 01:50:36.471649: E tensorflow/compiler/xla/stream_executor/cuda/cuda_dnn.cc:9342] Unable to register cuDNN factory: Attempting to register factory for plugin cuDNN when one has already been registered\n",
      "\u001b[36m(pid=3888373)\u001b[0m 2024-03-22 01:50:36.471672: E tensorflow/compiler/xla/stream_executor/cuda/cuda_fft.cc:609] Unable to register cuFFT factory: Attempting to register factory for plugin cuFFT when one has already been registered\n",
      "\u001b[36m(pid=3888373)\u001b[0m 2024-03-22 01:50:36.471690: E tensorflow/compiler/xla/stream_executor/cuda/cuda_blas.cc:1518] Unable to register cuBLAS factory: Attempting to register factory for plugin cuBLAS when one has already been registered\n",
      "\u001b[36m(TrainLightGCN pid=3888213)\u001b[0m /home/daviddavo/upm-tfm-notebooks/.direnv/python-3.9/lib/python3.9/site-packages/recommenders/models/deeprec/DataModel/ImplicitCF.py:73: FutureWarning: The frame.append method is deprecated and will be removed from pandas in a future version. Use pandas.concat instead.\n",
      "\u001b[36m(TrainLightGCN pid=3888213)\u001b[0m   df = train if test is None else train.append(test)\n"
     ]
    },
    {
     "name": "stdout",
     "output_type": "stream",
     "text": [
      "\u001b[36m(TrainLightGCN pid=3888373)\u001b[0m Already create adjacency matrix.\u001b[32m [repeated 2x across cluster]\u001b[0m\n",
      "\u001b[36m(TrainLightGCN pid=3888373)\u001b[0m Already normalize adjacency matrix.\u001b[32m [repeated 2x across cluster]\u001b[0m\n",
      "\u001b[36m(TrainLightGCN pid=3888373)\u001b[0m Using xavier initialization.\u001b[32m [repeated 2x across cluster]\u001b[0m\n"
     ]
    },
    {
     "name": "stderr",
     "output_type": "stream",
     "text": [
      "\u001b[36m(TrainLightGCN pid=3888373)\u001b[0m /home/daviddavo/upm-tfm-notebooks/.direnv/python-3.9/lib/python3.9/site-packages/recommenders/models/deeprec/DataModel/ImplicitCF.py:73: FutureWarning: The frame.append method is deprecated and will be removed from pandas in a future version. Use pandas.concat instead.\n",
      "\u001b[36m(TrainLightGCN pid=3888373)\u001b[0m   df = train if test is None else train.append(test)\n"
     ]
    },
    {
     "name": "stderr",
     "output_type": "stream",
     "text": [
      "\u001b[36m(TrainLightGCN pid=3888213)\u001b[0m Checkpoint successfully created at: Checkpoint(filesystem=local, path=/home/daviddavo/ray_results/LightGCN_optim=map@10,dao=MetaCartel - MetaCartel Ventures,freq=W-THU,normalize=True,cutoff_date=2020-11-06T00:00:00,fold=9_2024-03-22T01:47:48.988892/TrainLightGCN_ffccaa3d_46_batch_size=8,conv_layers=3,embedding_dim=5,fold=9,l2=0.0000,learning_rate=0.1675_2024-03-22_01-50-31/checkpoint_000000)\n",
      "\u001b[36m(pid=3888549)\u001b[0m 2024-03-22 01:50:40.117275: E tensorflow/compiler/xla/stream_executor/cuda/cuda_dnn.cc:9342] Unable to register cuDNN factory: Attempting to register factory for plugin cuDNN when one has already been registered\n",
      "\u001b[36m(pid=3888549)\u001b[0m 2024-03-22 01:50:40.117305: E tensorflow/compiler/xla/stream_executor/cuda/cuda_fft.cc:609] Unable to register cuFFT factory: Attempting to register factory for plugin cuFFT when one has already been registered\n",
      "\u001b[36m(pid=3888549)\u001b[0m 2024-03-22 01:50:40.117322: E tensorflow/compiler/xla/stream_executor/cuda/cuda_blas.cc:1518] Unable to register cuBLAS factory: Attempting to register factory for plugin cuBLAS when one has already been registered\n"
     ]
    },
    {
     "name": "stderr",
     "output_type": "stream",
     "text": [
      "\u001b[36m(TrainLightGCN pid=3888373)\u001b[0m Checkpoint successfully created at: Checkpoint(filesystem=local, path=/home/daviddavo/ray_results/LightGCN_optim=map@10,dao=MetaCartel - MetaCartel Ventures,freq=W-THU,normalize=True,cutoff_date=2020-11-06T00:00:00,fold=9_2024-03-22T01:47:48.988892/TrainLightGCN_a5c7df1e_47_batch_size=7,conv_layers=3,embedding_dim=48,fold=9,l2=0.0000,learning_rate=0.0332_2024-03-22_01-50-35/checkpoint_000000)\n"
     ]
    },
    {
     "name": "stderr",
     "output_type": "stream",
     "text": [
      "\u001b[36m(pid=3888711)\u001b[0m 2024-03-22 01:50:43.723258: E tensorflow/compiler/xla/stream_executor/cuda/cuda_dnn.cc:9342] Unable to register cuDNN factory: Attempting to register factory for plugin cuDNN when one has already been registered\n",
      "\u001b[36m(pid=3888711)\u001b[0m 2024-03-22 01:50:43.723291: E tensorflow/compiler/xla/stream_executor/cuda/cuda_fft.cc:609] Unable to register cuFFT factory: Attempting to register factory for plugin cuFFT when one has already been registered\n",
      "\u001b[36m(pid=3888711)\u001b[0m 2024-03-22 01:50:43.723305: E tensorflow/compiler/xla/stream_executor/cuda/cuda_blas.cc:1518] Unable to register cuBLAS factory: Attempting to register factory for plugin cuBLAS when one has already been registered\n",
      "\u001b[36m(TrainLightGCN pid=3888549)\u001b[0m /home/daviddavo/upm-tfm-notebooks/.direnv/python-3.9/lib/python3.9/site-packages/recommenders/models/deeprec/DataModel/ImplicitCF.py:73: FutureWarning: The frame.append method is deprecated and will be removed from pandas in a future version. Use pandas.concat instead.\n",
      "\u001b[36m(TrainLightGCN pid=3888549)\u001b[0m   df = train if test is None else train.append(test)\n"
     ]
    },
    {
     "name": "stdout",
     "output_type": "stream",
     "text": [
      "\u001b[36m(TrainLightGCN pid=3888711)\u001b[0m Already create adjacency matrix.\u001b[32m [repeated 2x across cluster]\u001b[0m\n",
      "\u001b[36m(TrainLightGCN pid=3888711)\u001b[0m Already normalize adjacency matrix.\u001b[32m [repeated 2x across cluster]\u001b[0m\n",
      "\u001b[36m(TrainLightGCN pid=3888711)\u001b[0m Using xavier initialization.\u001b[32m [repeated 2x across cluster]\u001b[0m\n"
     ]
    },
    {
     "name": "stderr",
     "output_type": "stream",
     "text": [
      "\u001b[36m(TrainLightGCN pid=3888711)\u001b[0m /home/daviddavo/upm-tfm-notebooks/.direnv/python-3.9/lib/python3.9/site-packages/recommenders/models/deeprec/DataModel/ImplicitCF.py:73: FutureWarning: The frame.append method is deprecated and will be removed from pandas in a future version. Use pandas.concat instead.\n",
      "\u001b[36m(TrainLightGCN pid=3888711)\u001b[0m   df = train if test is None else train.append(test)\n"
     ]
    },
    {
     "name": "stderr",
     "output_type": "stream",
     "text": [
      "\u001b[36m(TrainLightGCN pid=3888549)\u001b[0m Checkpoint successfully created at: Checkpoint(filesystem=local, path=/home/daviddavo/ray_results/LightGCN_optim=map@10,dao=MetaCartel - MetaCartel Ventures,freq=W-THU,normalize=True,cutoff_date=2020-11-06T00:00:00,fold=9_2024-03-22T01:47:48.988892/TrainLightGCN_92dd6f82_48_batch_size=7,conv_layers=3,embedding_dim=2,fold=9,l2=0.0000,learning_rate=0.2777_2024-03-22_01-50-39/checkpoint_000000)\n",
      "\u001b[36m(pid=3888879)\u001b[0m 2024-03-22 01:50:47.395281: E tensorflow/compiler/xla/stream_executor/cuda/cuda_dnn.cc:9342] Unable to register cuDNN factory: Attempting to register factory for plugin cuDNN when one has already been registered\n",
      "\u001b[36m(pid=3888879)\u001b[0m 2024-03-22 01:50:47.395312: E tensorflow/compiler/xla/stream_executor/cuda/cuda_fft.cc:609] Unable to register cuFFT factory: Attempting to register factory for plugin cuFFT when one has already been registered\n",
      "\u001b[36m(pid=3888879)\u001b[0m 2024-03-22 01:50:47.395329: E tensorflow/compiler/xla/stream_executor/cuda/cuda_blas.cc:1518] Unable to register cuBLAS factory: Attempting to register factory for plugin cuBLAS when one has already been registered\n",
      "\u001b[36m(TrainLightGCN pid=3888711)\u001b[0m Checkpoint successfully created at: Checkpoint(filesystem=local, path=/home/daviddavo/ray_results/LightGCN_optim=map@10,dao=MetaCartel - MetaCartel Ventures,freq=W-THU,normalize=True,cutoff_date=2020-11-06T00:00:00,fold=9_2024-03-22T01:47:48.988892/TrainLightGCN_b818d9b1_49_batch_size=9,conv_layers=4,embedding_dim=11,fold=9,l2=0.0003,learning_rate=0.7808_2024-03-22_01-50-42/checkpoint_000000)\n"
     ]
    },
    {
     "name": "stderr",
     "output_type": "stream",
     "text": [
      "\u001b[36m(pid=3889050)\u001b[0m 2024-03-22 01:50:50.979179: E tensorflow/compiler/xla/stream_executor/cuda/cuda_dnn.cc:9342] Unable to register cuDNN factory: Attempting to register factory for plugin cuDNN when one has already been registered\n",
      "\u001b[36m(pid=3889050)\u001b[0m 2024-03-22 01:50:50.979211: E tensorflow/compiler/xla/stream_executor/cuda/cuda_fft.cc:609] Unable to register cuFFT factory: Attempting to register factory for plugin cuFFT when one has already been registered\n",
      "\u001b[36m(pid=3889050)\u001b[0m 2024-03-22 01:50:50.979224: E tensorflow/compiler/xla/stream_executor/cuda/cuda_blas.cc:1518] Unable to register cuBLAS factory: Attempting to register factory for plugin cuBLAS when one has already been registered\n",
      "\u001b[36m(TrainLightGCN pid=3888879)\u001b[0m /home/daviddavo/upm-tfm-notebooks/.direnv/python-3.9/lib/python3.9/site-packages/recommenders/models/deeprec/DataModel/ImplicitCF.py:73: FutureWarning: The frame.append method is deprecated and will be removed from pandas in a future version. Use pandas.concat instead.\n",
      "\u001b[36m(TrainLightGCN pid=3888879)\u001b[0m   df = train if test is None else train.append(test)\n"
     ]
    },
    {
     "name": "stderr",
     "output_type": "stream",
     "text": [
      "\u001b[36m(TrainLightGCN pid=3889050)\u001b[0m /home/daviddavo/upm-tfm-notebooks/.direnv/python-3.9/lib/python3.9/site-packages/recommenders/models/deeprec/DataModel/ImplicitCF.py:73: FutureWarning: The frame.append method is deprecated and will be removed from pandas in a future version. Use pandas.concat instead.\n",
      "\u001b[36m(TrainLightGCN pid=3889050)\u001b[0m   df = train if test is None else train.append(test)\n"
     ]
    },
    {
     "name": "stdout",
     "output_type": "stream",
     "text": [
      "\u001b[36m(TrainLightGCN pid=3889050)\u001b[0m Already create adjacency matrix.\u001b[32m [repeated 2x across cluster]\u001b[0m\n",
      "\u001b[36m(TrainLightGCN pid=3889050)\u001b[0m Already normalize adjacency matrix.\u001b[32m [repeated 2x across cluster]\u001b[0m\n",
      "\u001b[36m(TrainLightGCN pid=3889050)\u001b[0m Using xavier initialization.\u001b[32m [repeated 2x across cluster]\u001b[0m\n"
     ]
    },
    {
     "name": "stderr",
     "output_type": "stream",
     "text": [
      "\u001b[36m(TrainLightGCN pid=3888879)\u001b[0m Checkpoint successfully created at: Checkpoint(filesystem=local, path=/home/daviddavo/ray_results/LightGCN_optim=map@10,dao=MetaCartel - MetaCartel Ventures,freq=W-THU,normalize=True,cutoff_date=2020-11-06T00:00:00,fold=9_2024-03-22T01:47:48.988892/TrainLightGCN_588c1269_50_batch_size=8,conv_layers=5,embedding_dim=7,fold=9,l2=0.0000,learning_rate=0.0127_2024-03-22_01-50-46/checkpoint_000000)\n"
     ]
    },
    {
     "name": "stderr",
     "output_type": "stream",
     "text": [
      "\u001b[36m(pid=3889219)\u001b[0m 2024-03-22 01:50:54.559580: E tensorflow/compiler/xla/stream_executor/cuda/cuda_dnn.cc:9342] Unable to register cuDNN factory: Attempting to register factory for plugin cuDNN when one has already been registered\n",
      "\u001b[36m(pid=3889219)\u001b[0m 2024-03-22 01:50:54.559612: E tensorflow/compiler/xla/stream_executor/cuda/cuda_fft.cc:609] Unable to register cuFFT factory: Attempting to register factory for plugin cuFFT when one has already been registered\n",
      "\u001b[36m(pid=3889219)\u001b[0m 2024-03-22 01:50:54.559628: E tensorflow/compiler/xla/stream_executor/cuda/cuda_blas.cc:1518] Unable to register cuBLAS factory: Attempting to register factory for plugin cuBLAS when one has already been registered\n"
     ]
    },
    {
     "name": "stderr",
     "output_type": "stream",
     "text": [
      "\u001b[36m(TrainLightGCN pid=3889050)\u001b[0m Checkpoint successfully created at: Checkpoint(filesystem=local, path=/home/daviddavo/ray_results/LightGCN_optim=map@10,dao=MetaCartel - MetaCartel Ventures,freq=W-THU,normalize=True,cutoff_date=2020-11-06T00:00:00,fold=9_2024-03-22T01:47:48.988892/TrainLightGCN_075ec372_51_batch_size=7,conv_layers=3,embedding_dim=2,fold=9,l2=0.0000,learning_rate=0.3033_2024-03-22_01-50-49/checkpoint_000000)\n"
     ]
    },
    {
     "name": "stderr",
     "output_type": "stream",
     "text": [
      "\u001b[36m(pid=3889380)\u001b[0m 2024-03-22 01:50:58.187700: E tensorflow/compiler/xla/stream_executor/cuda/cuda_dnn.cc:9342] Unable to register cuDNN factory: Attempting to register factory for plugin cuDNN when one has already been registered\n",
      "\u001b[36m(pid=3889380)\u001b[0m 2024-03-22 01:50:58.187731: E tensorflow/compiler/xla/stream_executor/cuda/cuda_fft.cc:609] Unable to register cuFFT factory: Attempting to register factory for plugin cuFFT when one has already been registered\n",
      "\u001b[36m(pid=3889380)\u001b[0m 2024-03-22 01:50:58.187745: E tensorflow/compiler/xla/stream_executor/cuda/cuda_blas.cc:1518] Unable to register cuBLAS factory: Attempting to register factory for plugin cuBLAS when one has already been registered\n",
      "\u001b[36m(TrainLightGCN pid=3889219)\u001b[0m /home/daviddavo/upm-tfm-notebooks/.direnv/python-3.9/lib/python3.9/site-packages/recommenders/models/deeprec/DataModel/ImplicitCF.py:73: FutureWarning: The frame.append method is deprecated and will be removed from pandas in a future version. Use pandas.concat instead.\n",
      "\u001b[36m(TrainLightGCN pid=3889219)\u001b[0m   df = train if test is None else train.append(test)\n"
     ]
    },
    {
     "name": "stderr",
     "output_type": "stream",
     "text": [
      "\u001b[36m(TrainLightGCN pid=3889380)\u001b[0m /home/daviddavo/upm-tfm-notebooks/.direnv/python-3.9/lib/python3.9/site-packages/recommenders/models/deeprec/DataModel/ImplicitCF.py:73: FutureWarning: The frame.append method is deprecated and will be removed from pandas in a future version. Use pandas.concat instead.\n",
      "\u001b[36m(TrainLightGCN pid=3889380)\u001b[0m   df = train if test is None else train.append(test)\n"
     ]
    },
    {
     "name": "stdout",
     "output_type": "stream",
     "text": [
      "\u001b[36m(TrainLightGCN pid=3889380)\u001b[0m Already create adjacency matrix.\u001b[32m [repeated 2x across cluster]\u001b[0m\n",
      "\u001b[36m(TrainLightGCN pid=3889380)\u001b[0m Already normalize adjacency matrix.\u001b[32m [repeated 2x across cluster]\u001b[0m\n",
      "\u001b[36m(TrainLightGCN pid=3889380)\u001b[0m Using xavier initialization.\u001b[32m [repeated 2x across cluster]\u001b[0m\n"
     ]
    },
    {
     "name": "stderr",
     "output_type": "stream",
     "text": [
      "\u001b[36m(TrainLightGCN pid=3889219)\u001b[0m Checkpoint successfully created at: Checkpoint(filesystem=local, path=/home/daviddavo/ray_results/LightGCN_optim=map@10,dao=MetaCartel - MetaCartel Ventures,freq=W-THU,normalize=True,cutoff_date=2020-11-06T00:00:00,fold=9_2024-03-22T01:47:48.988892/TrainLightGCN_57178980_52_batch_size=9,conv_layers=4,embedding_dim=24,fold=9,l2=0.0000,learning_rate=0.1054_2024-03-22_01-50-53/checkpoint_000000)\n",
      "\u001b[36m(pid=3889556)\u001b[0m 2024-03-22 01:51:01.842622: E tensorflow/compiler/xla/stream_executor/cuda/cuda_dnn.cc:9342] Unable to register cuDNN factory: Attempting to register factory for plugin cuDNN when one has already been registered\n",
      "\u001b[36m(pid=3889556)\u001b[0m 2024-03-22 01:51:01.842652: E tensorflow/compiler/xla/stream_executor/cuda/cuda_fft.cc:609] Unable to register cuFFT factory: Attempting to register factory for plugin cuFFT when one has already been registered\n",
      "\u001b[36m(pid=3889556)\u001b[0m 2024-03-22 01:51:01.842667: E tensorflow/compiler/xla/stream_executor/cuda/cuda_blas.cc:1518] Unable to register cuBLAS factory: Attempting to register factory for plugin cuBLAS when one has already been registered\n"
     ]
    },
    {
     "name": "stderr",
     "output_type": "stream",
     "text": [
      "\u001b[36m(TrainLightGCN pid=3889380)\u001b[0m Checkpoint successfully created at: Checkpoint(filesystem=local, path=/home/daviddavo/ray_results/LightGCN_optim=map@10,dao=MetaCartel - MetaCartel Ventures,freq=W-THU,normalize=True,cutoff_date=2020-11-06T00:00:00,fold=9_2024-03-22T01:47:48.988892/TrainLightGCN_658711a7_53_batch_size=8,conv_layers=4,embedding_dim=4,fold=9,l2=0.0025,learning_rate=0.2462_2024-03-22_01-50-57/checkpoint_000000)\n"
     ]
    },
    {
     "name": "stderr",
     "output_type": "stream",
     "text": [
      "\u001b[36m(pid=3889721)\u001b[0m 2024-03-22 01:51:05.470751: E tensorflow/compiler/xla/stream_executor/cuda/cuda_dnn.cc:9342] Unable to register cuDNN factory: Attempting to register factory for plugin cuDNN when one has already been registered\n",
      "\u001b[36m(pid=3889721)\u001b[0m 2024-03-22 01:51:05.470784: E tensorflow/compiler/xla/stream_executor/cuda/cuda_fft.cc:609] Unable to register cuFFT factory: Attempting to register factory for plugin cuFFT when one has already been registered\n",
      "\u001b[36m(pid=3889721)\u001b[0m 2024-03-22 01:51:05.470798: E tensorflow/compiler/xla/stream_executor/cuda/cuda_blas.cc:1518] Unable to register cuBLAS factory: Attempting to register factory for plugin cuBLAS when one has already been registered\n",
      "\u001b[36m(TrainLightGCN pid=3889556)\u001b[0m /home/daviddavo/upm-tfm-notebooks/.direnv/python-3.9/lib/python3.9/site-packages/recommenders/models/deeprec/DataModel/ImplicitCF.py:73: FutureWarning: The frame.append method is deprecated and will be removed from pandas in a future version. Use pandas.concat instead.\n",
      "\u001b[36m(TrainLightGCN pid=3889556)\u001b[0m   df = train if test is None else train.append(test)\n"
     ]
    },
    {
     "name": "stderr",
     "output_type": "stream",
     "text": [
      "\u001b[36m(TrainLightGCN pid=3889721)\u001b[0m /home/daviddavo/upm-tfm-notebooks/.direnv/python-3.9/lib/python3.9/site-packages/recommenders/models/deeprec/DataModel/ImplicitCF.py:73: FutureWarning: The frame.append method is deprecated and will be removed from pandas in a future version. Use pandas.concat instead.\n",
      "\u001b[36m(TrainLightGCN pid=3889721)\u001b[0m   df = train if test is None else train.append(test)\n"
     ]
    },
    {
     "name": "stdout",
     "output_type": "stream",
     "text": [
      "\u001b[36m(TrainLightGCN pid=3889721)\u001b[0m Already create adjacency matrix.\u001b[32m [repeated 2x across cluster]\u001b[0m\n",
      "\u001b[36m(TrainLightGCN pid=3889721)\u001b[0m Already normalize adjacency matrix.\u001b[32m [repeated 2x across cluster]\u001b[0m\n",
      "\u001b[36m(TrainLightGCN pid=3889721)\u001b[0m Using xavier initialization.\u001b[32m [repeated 2x across cluster]\u001b[0m\n"
     ]
    },
    {
     "name": "stderr",
     "output_type": "stream",
     "text": [
      "\u001b[36m(TrainLightGCN pid=3889556)\u001b[0m Checkpoint successfully created at: Checkpoint(filesystem=local, path=/home/daviddavo/ray_results/LightGCN_optim=map@10,dao=MetaCartel - MetaCartel Ventures,freq=W-THU,normalize=True,cutoff_date=2020-11-06T00:00:00,fold=9_2024-03-22T01:47:48.988892/TrainLightGCN_e0588094_54_batch_size=7,conv_layers=3,embedding_dim=71,fold=9,l2=0.0000,learning_rate=0.0301_2024-03-22_01-51-00/checkpoint_000000)\n",
      "\u001b[36m(pid=3889878)\u001b[0m 2024-03-22 01:51:09.080997: E tensorflow/compiler/xla/stream_executor/cuda/cuda_dnn.cc:9342] Unable to register cuDNN factory: Attempting to register factory for plugin cuDNN when one has already been registered\n",
      "\u001b[36m(pid=3889878)\u001b[0m 2024-03-22 01:51:09.081026: E tensorflow/compiler/xla/stream_executor/cuda/cuda_fft.cc:609] Unable to register cuFFT factory: Attempting to register factory for plugin cuFFT when one has already been registered\n",
      "\u001b[36m(pid=3889878)\u001b[0m 2024-03-22 01:51:09.081041: E tensorflow/compiler/xla/stream_executor/cuda/cuda_blas.cc:1518] Unable to register cuBLAS factory: Attempting to register factory for plugin cuBLAS when one has already been registered\n"
     ]
    },
    {
     "name": "stderr",
     "output_type": "stream",
     "text": [
      "\u001b[36m(TrainLightGCN pid=3889721)\u001b[0m Checkpoint successfully created at: Checkpoint(filesystem=local, path=/home/daviddavo/ray_results/LightGCN_optim=map@10,dao=MetaCartel - MetaCartel Ventures,freq=W-THU,normalize=True,cutoff_date=2020-11-06T00:00:00,fold=9_2024-03-22T01:47:48.988892/TrainLightGCN_3ffbdf56_55_batch_size=7,conv_layers=3,embedding_dim=129,fold=9,l2=0.0000,learning_rate=0.4025_2024-03-22_01-51-04/checkpoint_000000)\n"
     ]
    },
    {
     "name": "stderr",
     "output_type": "stream",
     "text": [
      "\u001b[36m(pid=3890047)\u001b[0m 2024-03-22 01:51:12.721981: E tensorflow/compiler/xla/stream_executor/cuda/cuda_dnn.cc:9342] Unable to register cuDNN factory: Attempting to register factory for plugin cuDNN when one has already been registered\n",
      "\u001b[36m(pid=3890047)\u001b[0m 2024-03-22 01:51:12.722007: E tensorflow/compiler/xla/stream_executor/cuda/cuda_fft.cc:609] Unable to register cuFFT factory: Attempting to register factory for plugin cuFFT when one has already been registered\n",
      "\u001b[36m(pid=3890047)\u001b[0m 2024-03-22 01:51:12.722024: E tensorflow/compiler/xla/stream_executor/cuda/cuda_blas.cc:1518] Unable to register cuBLAS factory: Attempting to register factory for plugin cuBLAS when one has already been registered\n",
      "\u001b[36m(TrainLightGCN pid=3889878)\u001b[0m /home/daviddavo/upm-tfm-notebooks/.direnv/python-3.9/lib/python3.9/site-packages/recommenders/models/deeprec/DataModel/ImplicitCF.py:73: FutureWarning: The frame.append method is deprecated and will be removed from pandas in a future version. Use pandas.concat instead.\n",
      "\u001b[36m(TrainLightGCN pid=3889878)\u001b[0m   df = train if test is None else train.append(test)\n"
     ]
    },
    {
     "name": "stdout",
     "output_type": "stream",
     "text": [
      "\u001b[36m(TrainLightGCN pid=3890047)\u001b[0m Already create adjacency matrix.\u001b[32m [repeated 2x across cluster]\u001b[0m\n",
      "\u001b[36m(TrainLightGCN pid=3890047)\u001b[0m Already normalize adjacency matrix.\u001b[32m [repeated 2x across cluster]\u001b[0m\n",
      "\u001b[36m(TrainLightGCN pid=3890047)\u001b[0m Using xavier initialization.\u001b[32m [repeated 2x across cluster]\u001b[0m\n"
     ]
    },
    {
     "name": "stderr",
     "output_type": "stream",
     "text": [
      "\u001b[36m(TrainLightGCN pid=3890047)\u001b[0m /home/daviddavo/upm-tfm-notebooks/.direnv/python-3.9/lib/python3.9/site-packages/recommenders/models/deeprec/DataModel/ImplicitCF.py:73: FutureWarning: The frame.append method is deprecated and will be removed from pandas in a future version. Use pandas.concat instead.\n",
      "\u001b[36m(TrainLightGCN pid=3890047)\u001b[0m   df = train if test is None else train.append(test)\n"
     ]
    },
    {
     "name": "stderr",
     "output_type": "stream",
     "text": [
      "\u001b[36m(TrainLightGCN pid=3889878)\u001b[0m Checkpoint successfully created at: Checkpoint(filesystem=local, path=/home/daviddavo/ray_results/LightGCN_optim=map@10,dao=MetaCartel - MetaCartel Ventures,freq=W-THU,normalize=True,cutoff_date=2020-11-06T00:00:00,fold=9_2024-03-22T01:47:48.988892/TrainLightGCN_a9184d28_56_batch_size=8,conv_layers=5,embedding_dim=6,fold=9,l2=0.0000,learning_rate=0.0002_2024-03-22_01-51-08/checkpoint_000000)\n",
      "\u001b[36m(pid=3890223)\u001b[0m 2024-03-22 01:51:16.373369: E tensorflow/compiler/xla/stream_executor/cuda/cuda_dnn.cc:9342] Unable to register cuDNN factory: Attempting to register factory for plugin cuDNN when one has already been registered\n",
      "\u001b[36m(pid=3890223)\u001b[0m 2024-03-22 01:51:16.373394: E tensorflow/compiler/xla/stream_executor/cuda/cuda_fft.cc:609] Unable to register cuFFT factory: Attempting to register factory for plugin cuFFT when one has already been registered\n",
      "\u001b[36m(pid=3890223)\u001b[0m 2024-03-22 01:51:16.373410: E tensorflow/compiler/xla/stream_executor/cuda/cuda_blas.cc:1518] Unable to register cuBLAS factory: Attempting to register factory for plugin cuBLAS when one has already been registered\n"
     ]
    },
    {
     "name": "stderr",
     "output_type": "stream",
     "text": [
      "\u001b[36m(TrainLightGCN pid=3890047)\u001b[0m Checkpoint successfully created at: Checkpoint(filesystem=local, path=/home/daviddavo/ray_results/LightGCN_optim=map@10,dao=MetaCartel - MetaCartel Ventures,freq=W-THU,normalize=True,cutoff_date=2020-11-06T00:00:00,fold=9_2024-03-22T01:47:48.988892/TrainLightGCN_825076fc_57_batch_size=7,conv_layers=4,embedding_dim=34,fold=9,l2=0.0000,learning_rate=0.6475_2024-03-22_01-51-11/checkpoint_000000)\n"
     ]
    },
    {
     "name": "stderr",
     "output_type": "stream",
     "text": [
      "\u001b[36m(pid=3890380)\u001b[0m 2024-03-22 01:51:19.949956: E tensorflow/compiler/xla/stream_executor/cuda/cuda_dnn.cc:9342] Unable to register cuDNN factory: Attempting to register factory for plugin cuDNN when one has already been registered\n",
      "\u001b[36m(pid=3890380)\u001b[0m 2024-03-22 01:51:19.949988: E tensorflow/compiler/xla/stream_executor/cuda/cuda_fft.cc:609] Unable to register cuFFT factory: Attempting to register factory for plugin cuFFT when one has already been registered\n",
      "\u001b[36m(pid=3890380)\u001b[0m 2024-03-22 01:51:19.950002: E tensorflow/compiler/xla/stream_executor/cuda/cuda_blas.cc:1518] Unable to register cuBLAS factory: Attempting to register factory for plugin cuBLAS when one has already been registered\n",
      "\u001b[36m(TrainLightGCN pid=3890223)\u001b[0m /home/daviddavo/upm-tfm-notebooks/.direnv/python-3.9/lib/python3.9/site-packages/recommenders/models/deeprec/DataModel/ImplicitCF.py:73: FutureWarning: The frame.append method is deprecated and will be removed from pandas in a future version. Use pandas.concat instead.\n",
      "\u001b[36m(TrainLightGCN pid=3890223)\u001b[0m   df = train if test is None else train.append(test)\n"
     ]
    },
    {
     "name": "stderr",
     "output_type": "stream",
     "text": [
      "\u001b[36m(TrainLightGCN pid=3890380)\u001b[0m /home/daviddavo/upm-tfm-notebooks/.direnv/python-3.9/lib/python3.9/site-packages/recommenders/models/deeprec/DataModel/ImplicitCF.py:73: FutureWarning: The frame.append method is deprecated and will be removed from pandas in a future version. Use pandas.concat instead.\n",
      "\u001b[36m(TrainLightGCN pid=3890380)\u001b[0m   df = train if test is None else train.append(test)\n"
     ]
    },
    {
     "name": "stdout",
     "output_type": "stream",
     "text": [
      "\u001b[36m(TrainLightGCN pid=3890380)\u001b[0m Already create adjacency matrix.\u001b[32m [repeated 2x across cluster]\u001b[0m\n",
      "\u001b[36m(TrainLightGCN pid=3890380)\u001b[0m Already normalize adjacency matrix.\u001b[32m [repeated 2x across cluster]\u001b[0m\n",
      "\u001b[36m(TrainLightGCN pid=3890380)\u001b[0m Using xavier initialization.\u001b[32m [repeated 2x across cluster]\u001b[0m\n"
     ]
    },
    {
     "name": "stderr",
     "output_type": "stream",
     "text": [
      "\u001b[36m(TrainLightGCN pid=3890223)\u001b[0m Checkpoint successfully created at: Checkpoint(filesystem=local, path=/home/daviddavo/ray_results/LightGCN_optim=map@10,dao=MetaCartel - MetaCartel Ventures,freq=W-THU,normalize=True,cutoff_date=2020-11-06T00:00:00,fold=9_2024-03-22T01:47:48.988892/TrainLightGCN_ce6f9f4d_58_batch_size=8,conv_layers=3,embedding_dim=1,fold=9,l2=0.0000,learning_rate=0.0074_2024-03-22_01-51-15/checkpoint_000000)\n",
      "\u001b[36m(pid=3890555)\u001b[0m 2024-03-22 01:51:23.572018: E tensorflow/compiler/xla/stream_executor/cuda/cuda_dnn.cc:9342] Unable to register cuDNN factory: Attempting to register factory for plugin cuDNN when one has already been registered\n",
      "\u001b[36m(pid=3890555)\u001b[0m 2024-03-22 01:51:23.572051: E tensorflow/compiler/xla/stream_executor/cuda/cuda_fft.cc:609] Unable to register cuFFT factory: Attempting to register factory for plugin cuFFT when one has already been registered\n",
      "\u001b[36m(pid=3890555)\u001b[0m 2024-03-22 01:51:23.572067: E tensorflow/compiler/xla/stream_executor/cuda/cuda_blas.cc:1518] Unable to register cuBLAS factory: Attempting to register factory for plugin cuBLAS when one has already been registered\n",
      "\u001b[36m(TrainLightGCN pid=3890380)\u001b[0m Checkpoint successfully created at: Checkpoint(filesystem=local, path=/home/daviddavo/ray_results/LightGCN_optim=map@10,dao=MetaCartel - MetaCartel Ventures,freq=W-THU,normalize=True,cutoff_date=2020-11-06T00:00:00,fold=9_2024-03-22T01:47:48.988892/TrainLightGCN_cd206e58_59_batch_size=9,conv_layers=3,embedding_dim=12,fold=9,l2=0.0000,learning_rate=0.0044_2024-03-22_01-51-18/checkpoint_000000)\n"
     ]
    },
    {
     "name": "stderr",
     "output_type": "stream",
     "text": [
      "\u001b[36m(pid=3890719)\u001b[0m 2024-03-22 01:51:27.192617: E tensorflow/compiler/xla/stream_executor/cuda/cuda_dnn.cc:9342] Unable to register cuDNN factory: Attempting to register factory for plugin cuDNN when one has already been registered\n",
      "\u001b[36m(pid=3890719)\u001b[0m 2024-03-22 01:51:27.192648: E tensorflow/compiler/xla/stream_executor/cuda/cuda_fft.cc:609] Unable to register cuFFT factory: Attempting to register factory for plugin cuFFT when one has already been registered\n",
      "\u001b[36m(pid=3890719)\u001b[0m 2024-03-22 01:51:27.192664: E tensorflow/compiler/xla/stream_executor/cuda/cuda_blas.cc:1518] Unable to register cuBLAS factory: Attempting to register factory for plugin cuBLAS when one has already been registered\n",
      "\u001b[36m(TrainLightGCN pid=3890555)\u001b[0m /home/daviddavo/upm-tfm-notebooks/.direnv/python-3.9/lib/python3.9/site-packages/recommenders/models/deeprec/DataModel/ImplicitCF.py:73: FutureWarning: The frame.append method is deprecated and will be removed from pandas in a future version. Use pandas.concat instead.\n",
      "\u001b[36m(TrainLightGCN pid=3890555)\u001b[0m   df = train if test is None else train.append(test)\n"
     ]
    },
    {
     "name": "stderr",
     "output_type": "stream",
     "text": [
      "\u001b[36m(TrainLightGCN pid=3890719)\u001b[0m /home/daviddavo/upm-tfm-notebooks/.direnv/python-3.9/lib/python3.9/site-packages/recommenders/models/deeprec/DataModel/ImplicitCF.py:73: FutureWarning: The frame.append method is deprecated and will be removed from pandas in a future version. Use pandas.concat instead.\n",
      "\u001b[36m(TrainLightGCN pid=3890719)\u001b[0m   df = train if test is None else train.append(test)\n"
     ]
    },
    {
     "name": "stdout",
     "output_type": "stream",
     "text": [
      "\u001b[36m(TrainLightGCN pid=3890719)\u001b[0m Already create adjacency matrix.\u001b[32m [repeated 2x across cluster]\u001b[0m\n",
      "\u001b[36m(TrainLightGCN pid=3890719)\u001b[0m Already normalize adjacency matrix.\u001b[32m [repeated 2x across cluster]\u001b[0m\n",
      "\u001b[36m(TrainLightGCN pid=3890719)\u001b[0m Using xavier initialization.\u001b[32m [repeated 2x across cluster]\u001b[0m\n"
     ]
    },
    {
     "name": "stderr",
     "output_type": "stream",
     "text": [
      "\u001b[36m(TrainLightGCN pid=3890555)\u001b[0m Checkpoint successfully created at: Checkpoint(filesystem=local, path=/home/daviddavo/ray_results/LightGCN_optim=map@10,dao=MetaCartel - MetaCartel Ventures,freq=W-THU,normalize=True,cutoff_date=2020-11-06T00:00:00,fold=9_2024-03-22T01:47:48.988892/TrainLightGCN_8efa932c_60_batch_size=7,conv_layers=4,embedding_dim=2,fold=9,l2=0.0000,learning_rate=0.0134_2024-03-22_01-51-22/checkpoint_000000)\n"
     ]
    },
    {
     "name": "stderr",
     "output_type": "stream",
     "text": [
      "\u001b[36m(pid=3890878)\u001b[0m 2024-03-22 01:51:30.833836: E tensorflow/compiler/xla/stream_executor/cuda/cuda_dnn.cc:9342] Unable to register cuDNN factory: Attempting to register factory for plugin cuDNN when one has already been registered\n",
      "\u001b[36m(pid=3890878)\u001b[0m 2024-03-22 01:51:30.833864: E tensorflow/compiler/xla/stream_executor/cuda/cuda_fft.cc:609] Unable to register cuFFT factory: Attempting to register factory for plugin cuFFT when one has already been registered\n",
      "\u001b[36m(pid=3890878)\u001b[0m 2024-03-22 01:51:30.833878: E tensorflow/compiler/xla/stream_executor/cuda/cuda_blas.cc:1518] Unable to register cuBLAS factory: Attempting to register factory for plugin cuBLAS when one has already been registered\n"
     ]
    },
    {
     "name": "stderr",
     "output_type": "stream",
     "text": [
      "\u001b[36m(TrainLightGCN pid=3890719)\u001b[0m Checkpoint successfully created at: Checkpoint(filesystem=local, path=/home/daviddavo/ray_results/LightGCN_optim=map@10,dao=MetaCartel - MetaCartel Ventures,freq=W-THU,normalize=True,cutoff_date=2020-11-06T00:00:00,fold=9_2024-03-22T01:47:48.988892/TrainLightGCN_daccf60e_61_batch_size=8,conv_layers=2,embedding_dim=3,fold=9,l2=0.0000,learning_rate=0.0484_2024-03-22_01-51-26/checkpoint_000000)\n"
     ]
    },
    {
     "name": "stderr",
     "output_type": "stream",
     "text": [
      "\u001b[36m(pid=3891050)\u001b[0m 2024-03-22 01:51:34.475017: E tensorflow/compiler/xla/stream_executor/cuda/cuda_dnn.cc:9342] Unable to register cuDNN factory: Attempting to register factory for plugin cuDNN when one has already been registered\n",
      "\u001b[36m(pid=3891050)\u001b[0m 2024-03-22 01:51:34.475053: E tensorflow/compiler/xla/stream_executor/cuda/cuda_fft.cc:609] Unable to register cuFFT factory: Attempting to register factory for plugin cuFFT when one has already been registered\n",
      "\u001b[36m(pid=3891050)\u001b[0m 2024-03-22 01:51:34.475070: E tensorflow/compiler/xla/stream_executor/cuda/cuda_blas.cc:1518] Unable to register cuBLAS factory: Attempting to register factory for plugin cuBLAS when one has already been registered\n",
      "\u001b[36m(TrainLightGCN pid=3890878)\u001b[0m /home/daviddavo/upm-tfm-notebooks/.direnv/python-3.9/lib/python3.9/site-packages/recommenders/models/deeprec/DataModel/ImplicitCF.py:73: FutureWarning: The frame.append method is deprecated and will be removed from pandas in a future version. Use pandas.concat instead.\n",
      "\u001b[36m(TrainLightGCN pid=3890878)\u001b[0m   df = train if test is None else train.append(test)\n"
     ]
    },
    {
     "name": "stderr",
     "output_type": "stream",
     "text": [
      "\u001b[36m(TrainLightGCN pid=3891050)\u001b[0m /home/daviddavo/upm-tfm-notebooks/.direnv/python-3.9/lib/python3.9/site-packages/recommenders/models/deeprec/DataModel/ImplicitCF.py:73: FutureWarning: The frame.append method is deprecated and will be removed from pandas in a future version. Use pandas.concat instead.\n",
      "\u001b[36m(TrainLightGCN pid=3891050)\u001b[0m   df = train if test is None else train.append(test)\n"
     ]
    },
    {
     "name": "stdout",
     "output_type": "stream",
     "text": [
      "\u001b[36m(TrainLightGCN pid=3891050)\u001b[0m Already create adjacency matrix.\u001b[32m [repeated 2x across cluster]\u001b[0m\n",
      "\u001b[36m(TrainLightGCN pid=3891050)\u001b[0m Already normalize adjacency matrix.\u001b[32m [repeated 2x across cluster]\u001b[0m\n",
      "\u001b[36m(TrainLightGCN pid=3891050)\u001b[0m Using xavier initialization.\u001b[32m [repeated 2x across cluster]\u001b[0m\n"
     ]
    },
    {
     "name": "stderr",
     "output_type": "stream",
     "text": [
      "\u001b[36m(TrainLightGCN pid=3890878)\u001b[0m Checkpoint successfully created at: Checkpoint(filesystem=local, path=/home/daviddavo/ray_results/LightGCN_optim=map@10,dao=MetaCartel - MetaCartel Ventures,freq=W-THU,normalize=True,cutoff_date=2020-11-06T00:00:00,fold=9_2024-03-22T01:47:48.988892/TrainLightGCN_73e84841_62_batch_size=9,conv_layers=4,embedding_dim=1,fold=9,l2=0.0000,learning_rate=0.0980_2024-03-22_01-51-29/checkpoint_000000)\n",
      "\u001b[36m(pid=3891218)\u001b[0m 2024-03-22 01:51:38.074681: E tensorflow/compiler/xla/stream_executor/cuda/cuda_dnn.cc:9342] Unable to register cuDNN factory: Attempting to register factory for plugin cuDNN when one has already been registered\n",
      "\u001b[36m(pid=3891218)\u001b[0m 2024-03-22 01:51:38.074716: E tensorflow/compiler/xla/stream_executor/cuda/cuda_fft.cc:609] Unable to register cuFFT factory: Attempting to register factory for plugin cuFFT when one has already been registered\n",
      "\u001b[36m(pid=3891218)\u001b[0m 2024-03-22 01:51:38.074734: E tensorflow/compiler/xla/stream_executor/cuda/cuda_blas.cc:1518] Unable to register cuBLAS factory: Attempting to register factory for plugin cuBLAS when one has already been registered\n"
     ]
    },
    {
     "name": "stderr",
     "output_type": "stream",
     "text": [
      "\u001b[36m(pid=3891380)\u001b[0m 2024-03-22 01:51:41.708548: E tensorflow/compiler/xla/stream_executor/cuda/cuda_dnn.cc:9342] Unable to register cuDNN factory: Attempting to register factory for plugin cuDNN when one has already been registered\n",
      "\u001b[36m(pid=3891380)\u001b[0m 2024-03-22 01:51:41.708583: E tensorflow/compiler/xla/stream_executor/cuda/cuda_fft.cc:609] Unable to register cuFFT factory: Attempting to register factory for plugin cuFFT when one has already been registered\n",
      "\u001b[36m(pid=3891380)\u001b[0m 2024-03-22 01:51:41.708597: E tensorflow/compiler/xla/stream_executor/cuda/cuda_blas.cc:1518] Unable to register cuBLAS factory: Attempting to register factory for plugin cuBLAS when one has already been registered\n",
      "\u001b[36m(TrainLightGCN pid=3891218)\u001b[0m /home/daviddavo/upm-tfm-notebooks/.direnv/python-3.9/lib/python3.9/site-packages/recommenders/models/deeprec/DataModel/ImplicitCF.py:73: FutureWarning: The frame.append method is deprecated and will be removed from pandas in a future version. Use pandas.concat instead.\n",
      "\u001b[36m(TrainLightGCN pid=3891218)\u001b[0m   df = train if test is None else train.append(test)\n"
     ]
    },
    {
     "name": "stderr",
     "output_type": "stream",
     "text": [
      "\u001b[36m(TrainLightGCN pid=3891050)\u001b[0m Checkpoint successfully created at: Checkpoint(filesystem=local, path=/home/daviddavo/ray_results/LightGCN_optim=map@10,dao=MetaCartel - MetaCartel Ventures,freq=W-THU,normalize=True,cutoff_date=2020-11-06T00:00:00,fold=9_2024-03-22T01:47:48.988892/TrainLightGCN_e21bdefd_63_batch_size=6,conv_layers=5,embedding_dim=4,fold=9,l2=0.0000,learning_rate=0.0016_2024-03-22_01-51-33/checkpoint_000000)\n"
     ]
    },
    {
     "name": "stderr",
     "output_type": "stream",
     "text": [
      "\u001b[36m(TrainLightGCN pid=3891380)\u001b[0m /home/daviddavo/upm-tfm-notebooks/.direnv/python-3.9/lib/python3.9/site-packages/recommenders/models/deeprec/DataModel/ImplicitCF.py:73: FutureWarning: The frame.append method is deprecated and will be removed from pandas in a future version. Use pandas.concat instead.\n",
      "\u001b[36m(TrainLightGCN pid=3891380)\u001b[0m   df = train if test is None else train.append(test)\n"
     ]
    },
    {
     "name": "stdout",
     "output_type": "stream",
     "text": [
      "\u001b[36m(TrainLightGCN pid=3891380)\u001b[0m Already create adjacency matrix.\u001b[32m [repeated 2x across cluster]\u001b[0m\n",
      "\u001b[36m(TrainLightGCN pid=3891380)\u001b[0m Already normalize adjacency matrix.\u001b[32m [repeated 2x across cluster]\u001b[0m\n",
      "\u001b[36m(TrainLightGCN pid=3891380)\u001b[0m Using xavier initialization.\u001b[32m [repeated 2x across cluster]\u001b[0m\n"
     ]
    },
    {
     "name": "stderr",
     "output_type": "stream",
     "text": [
      "\u001b[36m(pid=3891555)\u001b[0m 2024-03-22 01:51:45.362502: E tensorflow/compiler/xla/stream_executor/cuda/cuda_dnn.cc:9342] Unable to register cuDNN factory: Attempting to register factory for plugin cuDNN when one has already been registered\n",
      "\u001b[36m(pid=3891555)\u001b[0m 2024-03-22 01:51:45.362531: E tensorflow/compiler/xla/stream_executor/cuda/cuda_fft.cc:609] Unable to register cuFFT factory: Attempting to register factory for plugin cuFFT when one has already been registered\n",
      "\u001b[36m(pid=3891555)\u001b[0m 2024-03-22 01:51:45.362548: E tensorflow/compiler/xla/stream_executor/cuda/cuda_blas.cc:1518] Unable to register cuBLAS factory: Attempting to register factory for plugin cuBLAS when one has already been registered\n"
     ]
    },
    {
     "name": "stderr",
     "output_type": "stream",
     "text": [
      "\u001b[36m(TrainLightGCN pid=3891380)\u001b[0m Checkpoint successfully created at: Checkpoint(filesystem=local, path=/home/daviddavo/ray_results/LightGCN_optim=map@10,dao=MetaCartel - MetaCartel Ventures,freq=W-THU,normalize=True,cutoff_date=2020-11-06T00:00:00,fold=9_2024-03-22T01:47:48.988892/TrainLightGCN_e6bb403a_65_batch_size=7,conv_layers=5,embedding_dim=2,fold=9,l2=0.0000,learning_rate=0.0034_2024-03-22_01-51-40/checkpoint_000000)\u001b[32m [repeated 2x across cluster]\u001b[0m\n"
     ]
    },
    {
     "name": "stderr",
     "output_type": "stream",
     "text": [
      "\u001b[36m(pid=3891709)\u001b[0m 2024-03-22 01:51:48.960071: E tensorflow/compiler/xla/stream_executor/cuda/cuda_dnn.cc:9342] Unable to register cuDNN factory: Attempting to register factory for plugin cuDNN when one has already been registered\n",
      "\u001b[36m(pid=3891709)\u001b[0m 2024-03-22 01:51:48.960107: E tensorflow/compiler/xla/stream_executor/cuda/cuda_fft.cc:609] Unable to register cuFFT factory: Attempting to register factory for plugin cuFFT when one has already been registered\n",
      "\u001b[36m(pid=3891709)\u001b[0m 2024-03-22 01:51:48.960122: E tensorflow/compiler/xla/stream_executor/cuda/cuda_blas.cc:1518] Unable to register cuBLAS factory: Attempting to register factory for plugin cuBLAS when one has already been registered\n",
      "\u001b[36m(TrainLightGCN pid=3891555)\u001b[0m /home/daviddavo/upm-tfm-notebooks/.direnv/python-3.9/lib/python3.9/site-packages/recommenders/models/deeprec/DataModel/ImplicitCF.py:73: FutureWarning: The frame.append method is deprecated and will be removed from pandas in a future version. Use pandas.concat instead.\n",
      "\u001b[36m(TrainLightGCN pid=3891555)\u001b[0m   df = train if test is None else train.append(test)\n"
     ]
    },
    {
     "name": "stderr",
     "output_type": "stream",
     "text": [
      "\u001b[36m(TrainLightGCN pid=3891709)\u001b[0m /home/daviddavo/upm-tfm-notebooks/.direnv/python-3.9/lib/python3.9/site-packages/recommenders/models/deeprec/DataModel/ImplicitCF.py:73: FutureWarning: The frame.append method is deprecated and will be removed from pandas in a future version. Use pandas.concat instead.\n",
      "\u001b[36m(TrainLightGCN pid=3891709)\u001b[0m   df = train if test is None else train.append(test)\n"
     ]
    },
    {
     "name": "stdout",
     "output_type": "stream",
     "text": [
      "\u001b[36m(TrainLightGCN pid=3891709)\u001b[0m Already create adjacency matrix.\u001b[32m [repeated 2x across cluster]\u001b[0m\n",
      "\u001b[36m(TrainLightGCN pid=3891709)\u001b[0m Already normalize adjacency matrix.\u001b[32m [repeated 2x across cluster]\u001b[0m\n",
      "\u001b[36m(TrainLightGCN pid=3891709)\u001b[0m Using xavier initialization.\u001b[32m [repeated 2x across cluster]\u001b[0m\n"
     ]
    },
    {
     "name": "stderr",
     "output_type": "stream",
     "text": [
      "\u001b[36m(TrainLightGCN pid=3891555)\u001b[0m Checkpoint successfully created at: Checkpoint(filesystem=local, path=/home/daviddavo/ray_results/LightGCN_optim=map@10,dao=MetaCartel - MetaCartel Ventures,freq=W-THU,normalize=True,cutoff_date=2020-11-06T00:00:00,fold=9_2024-03-22T01:47:48.988892/TrainLightGCN_8277b2f9_66_batch_size=7,conv_layers=4,embedding_dim=2,fold=9,l2=0.0000,learning_rate=0.0247_2024-03-22_01-51-44/checkpoint_000000)\n",
      "\u001b[36m(pid=3891878)\u001b[0m 2024-03-22 01:51:52.599886: E tensorflow/compiler/xla/stream_executor/cuda/cuda_dnn.cc:9342] Unable to register cuDNN factory: Attempting to register factory for plugin cuDNN when one has already been registered\n",
      "\u001b[36m(pid=3891878)\u001b[0m 2024-03-22 01:51:52.599915: E tensorflow/compiler/xla/stream_executor/cuda/cuda_fft.cc:609] Unable to register cuFFT factory: Attempting to register factory for plugin cuFFT when one has already been registered\n",
      "\u001b[36m(pid=3891878)\u001b[0m 2024-03-22 01:51:52.599935: E tensorflow/compiler/xla/stream_executor/cuda/cuda_blas.cc:1518] Unable to register cuBLAS factory: Attempting to register factory for plugin cuBLAS when one has already been registered\n"
     ]
    },
    {
     "name": "stderr",
     "output_type": "stream",
     "text": [
      "\u001b[36m(TrainLightGCN pid=3891709)\u001b[0m Checkpoint successfully created at: Checkpoint(filesystem=local, path=/home/daviddavo/ray_results/LightGCN_optim=map@10,dao=MetaCartel - MetaCartel Ventures,freq=W-THU,normalize=True,cutoff_date=2020-11-06T00:00:00,fold=9_2024-03-22T01:47:48.988892/TrainLightGCN_fed09435_67_batch_size=7,conv_layers=4,embedding_dim=1,fold=9,l2=0.0000,learning_rate=0.0100_2024-03-22_01-51-47/checkpoint_000000)\n"
     ]
    },
    {
     "name": "stderr",
     "output_type": "stream",
     "text": [
      "\u001b[36m(pid=3892047)\u001b[0m 2024-03-22 01:51:56.193555: E tensorflow/compiler/xla/stream_executor/cuda/cuda_dnn.cc:9342] Unable to register cuDNN factory: Attempting to register factory for plugin cuDNN when one has already been registered\n",
      "\u001b[36m(pid=3892047)\u001b[0m 2024-03-22 01:51:56.193588: E tensorflow/compiler/xla/stream_executor/cuda/cuda_fft.cc:609] Unable to register cuFFT factory: Attempting to register factory for plugin cuFFT when one has already been registered\n",
      "\u001b[36m(pid=3892047)\u001b[0m 2024-03-22 01:51:56.193604: E tensorflow/compiler/xla/stream_executor/cuda/cuda_blas.cc:1518] Unable to register cuBLAS factory: Attempting to register factory for plugin cuBLAS when one has already been registered\n",
      "\u001b[36m(TrainLightGCN pid=3891878)\u001b[0m /home/daviddavo/upm-tfm-notebooks/.direnv/python-3.9/lib/python3.9/site-packages/recommenders/models/deeprec/DataModel/ImplicitCF.py:73: FutureWarning: The frame.append method is deprecated and will be removed from pandas in a future version. Use pandas.concat instead.\n",
      "\u001b[36m(TrainLightGCN pid=3891878)\u001b[0m   df = train if test is None else train.append(test)\n"
     ]
    },
    {
     "name": "stderr",
     "output_type": "stream",
     "text": [
      "\u001b[36m(TrainLightGCN pid=3892047)\u001b[0m /home/daviddavo/upm-tfm-notebooks/.direnv/python-3.9/lib/python3.9/site-packages/recommenders/models/deeprec/DataModel/ImplicitCF.py:73: FutureWarning: The frame.append method is deprecated and will be removed from pandas in a future version. Use pandas.concat instead.\n",
      "\u001b[36m(TrainLightGCN pid=3892047)\u001b[0m   df = train if test is None else train.append(test)\n"
     ]
    },
    {
     "name": "stdout",
     "output_type": "stream",
     "text": [
      "\u001b[36m(TrainLightGCN pid=3892047)\u001b[0m Already create adjacency matrix.\u001b[32m [repeated 2x across cluster]\u001b[0m\n",
      "\u001b[36m(TrainLightGCN pid=3892047)\u001b[0m Already normalize adjacency matrix.\u001b[32m [repeated 2x across cluster]\u001b[0m\n",
      "\u001b[36m(TrainLightGCN pid=3892047)\u001b[0m Using xavier initialization.\u001b[32m [repeated 2x across cluster]\u001b[0m\n"
     ]
    },
    {
     "name": "stderr",
     "output_type": "stream",
     "text": [
      "\u001b[36m(TrainLightGCN pid=3891878)\u001b[0m Checkpoint successfully created at: Checkpoint(filesystem=local, path=/home/daviddavo/ray_results/LightGCN_optim=map@10,dao=MetaCartel - MetaCartel Ventures,freq=W-THU,normalize=True,cutoff_date=2020-11-06T00:00:00,fold=9_2024-03-22T01:47:48.988892/TrainLightGCN_7415c9d3_68_batch_size=7,conv_layers=4,embedding_dim=3,fold=9,l2=0.0000,learning_rate=0.0065_2024-03-22_01-51-51/checkpoint_000000)\n",
      "\u001b[36m(pid=3892215)\u001b[0m 2024-03-22 01:51:59.884231: E tensorflow/compiler/xla/stream_executor/cuda/cuda_dnn.cc:9342] Unable to register cuDNN factory: Attempting to register factory for plugin cuDNN when one has already been registered\n",
      "\u001b[36m(pid=3892215)\u001b[0m 2024-03-22 01:51:59.884264: E tensorflow/compiler/xla/stream_executor/cuda/cuda_fft.cc:609] Unable to register cuFFT factory: Attempting to register factory for plugin cuFFT when one has already been registered\n",
      "\u001b[36m(pid=3892215)\u001b[0m 2024-03-22 01:51:59.884277: E tensorflow/compiler/xla/stream_executor/cuda/cuda_blas.cc:1518] Unable to register cuBLAS factory: Attempting to register factory for plugin cuBLAS when one has already been registered\n"
     ]
    },
    {
     "name": "stderr",
     "output_type": "stream",
     "text": [
      "\u001b[36m(TrainLightGCN pid=3892047)\u001b[0m Checkpoint successfully created at: Checkpoint(filesystem=local, path=/home/daviddavo/ray_results/LightGCN_optim=map@10,dao=MetaCartel - MetaCartel Ventures,freq=W-THU,normalize=True,cutoff_date=2020-11-06T00:00:00,fold=9_2024-03-22T01:47:48.988892/TrainLightGCN_9efe2bc0_69_batch_size=7,conv_layers=5,embedding_dim=9,fold=9,l2=0.0001,learning_rate=0.0110_2024-03-22_01-51-55/checkpoint_000000)\n"
     ]
    },
    {
     "name": "stderr",
     "output_type": "stream",
     "text": [
      "\u001b[36m(pid=3892380)\u001b[0m 2024-03-22 01:52:03.497606: E tensorflow/compiler/xla/stream_executor/cuda/cuda_dnn.cc:9342] Unable to register cuDNN factory: Attempting to register factory for plugin cuDNN when one has already been registered\n",
      "\u001b[36m(pid=3892380)\u001b[0m 2024-03-22 01:52:03.497640: E tensorflow/compiler/xla/stream_executor/cuda/cuda_fft.cc:609] Unable to register cuFFT factory: Attempting to register factory for plugin cuFFT when one has already been registered\n",
      "\u001b[36m(pid=3892380)\u001b[0m 2024-03-22 01:52:03.497653: E tensorflow/compiler/xla/stream_executor/cuda/cuda_blas.cc:1518] Unable to register cuBLAS factory: Attempting to register factory for plugin cuBLAS when one has already been registered\n",
      "\u001b[36m(TrainLightGCN pid=3892215)\u001b[0m /home/daviddavo/upm-tfm-notebooks/.direnv/python-3.9/lib/python3.9/site-packages/recommenders/models/deeprec/DataModel/ImplicitCF.py:73: FutureWarning: The frame.append method is deprecated and will be removed from pandas in a future version. Use pandas.concat instead.\n",
      "\u001b[36m(TrainLightGCN pid=3892215)\u001b[0m   df = train if test is None else train.append(test)\n"
     ]
    },
    {
     "name": "stdout",
     "output_type": "stream",
     "text": [
      "\u001b[36m(TrainLightGCN pid=3892380)\u001b[0m Already create adjacency matrix.\u001b[32m [repeated 2x across cluster]\u001b[0m\n",
      "\u001b[36m(TrainLightGCN pid=3892380)\u001b[0m Already normalize adjacency matrix.\u001b[32m [repeated 2x across cluster]\u001b[0m\n",
      "\u001b[36m(TrainLightGCN pid=3892380)\u001b[0m Using xavier initialization.\u001b[32m [repeated 2x across cluster]\u001b[0m\n"
     ]
    },
    {
     "name": "stderr",
     "output_type": "stream",
     "text": [
      "\u001b[36m(TrainLightGCN pid=3892380)\u001b[0m /home/daviddavo/upm-tfm-notebooks/.direnv/python-3.9/lib/python3.9/site-packages/recommenders/models/deeprec/DataModel/ImplicitCF.py:73: FutureWarning: The frame.append method is deprecated and will be removed from pandas in a future version. Use pandas.concat instead.\n",
      "\u001b[36m(TrainLightGCN pid=3892380)\u001b[0m   df = train if test is None else train.append(test)\n"
     ]
    },
    {
     "name": "stderr",
     "output_type": "stream",
     "text": [
      "\u001b[36m(TrainLightGCN pid=3892215)\u001b[0m Checkpoint successfully created at: Checkpoint(filesystem=local, path=/home/daviddavo/ray_results/LightGCN_optim=map@10,dao=MetaCartel - MetaCartel Ventures,freq=W-THU,normalize=True,cutoff_date=2020-11-06T00:00:00,fold=9_2024-03-22T01:47:48.988892/TrainLightGCN_861ed400_70_batch_size=6,conv_layers=3,embedding_dim=2,fold=9,l2=0.0000,learning_rate=0.0009_2024-03-22_01-51-58/checkpoint_000000)\n"
     ]
    },
    {
     "name": "stderr",
     "output_type": "stream",
     "text": [
      "\u001b[36m(pid=3892544)\u001b[0m 2024-03-22 01:52:07.159278: E tensorflow/compiler/xla/stream_executor/cuda/cuda_dnn.cc:9342] Unable to register cuDNN factory: Attempting to register factory for plugin cuDNN when one has already been registered\n",
      "\u001b[36m(pid=3892544)\u001b[0m 2024-03-22 01:52:07.159313: E tensorflow/compiler/xla/stream_executor/cuda/cuda_fft.cc:609] Unable to register cuFFT factory: Attempting to register factory for plugin cuFFT when one has already been registered\n",
      "\u001b[36m(pid=3892544)\u001b[0m 2024-03-22 01:52:07.159328: E tensorflow/compiler/xla/stream_executor/cuda/cuda_blas.cc:1518] Unable to register cuBLAS factory: Attempting to register factory for plugin cuBLAS when one has already been registered\n"
     ]
    },
    {
     "name": "stderr",
     "output_type": "stream",
     "text": [
      "\u001b[36m(TrainLightGCN pid=3892380)\u001b[0m Checkpoint successfully created at: Checkpoint(filesystem=local, path=/home/daviddavo/ray_results/LightGCN_optim=map@10,dao=MetaCartel - MetaCartel Ventures,freq=W-THU,normalize=True,cutoff_date=2020-11-06T00:00:00,fold=9_2024-03-22T01:47:48.988892/TrainLightGCN_ee53fe9a_71_batch_size=7,conv_layers=2,embedding_dim=1,fold=9,l2=0.0000,learning_rate=0.0179_2024-03-22_01-52-02/checkpoint_000000)\n"
     ]
    },
    {
     "name": "stderr",
     "output_type": "stream",
     "text": [
      "\u001b[36m(pid=3892712)\u001b[0m 2024-03-22 01:52:10.782479: E tensorflow/compiler/xla/stream_executor/cuda/cuda_dnn.cc:9342] Unable to register cuDNN factory: Attempting to register factory for plugin cuDNN when one has already been registered\n",
      "\u001b[36m(pid=3892712)\u001b[0m 2024-03-22 01:52:10.782514: E tensorflow/compiler/xla/stream_executor/cuda/cuda_fft.cc:609] Unable to register cuFFT factory: Attempting to register factory for plugin cuFFT when one has already been registered\n",
      "\u001b[36m(pid=3892712)\u001b[0m 2024-03-22 01:52:10.782528: E tensorflow/compiler/xla/stream_executor/cuda/cuda_blas.cc:1518] Unable to register cuBLAS factory: Attempting to register factory for plugin cuBLAS when one has already been registered\n",
      "\u001b[36m(TrainLightGCN pid=3892544)\u001b[0m /home/daviddavo/upm-tfm-notebooks/.direnv/python-3.9/lib/python3.9/site-packages/recommenders/models/deeprec/DataModel/ImplicitCF.py:73: FutureWarning: The frame.append method is deprecated and will be removed from pandas in a future version. Use pandas.concat instead.\n",
      "\u001b[36m(TrainLightGCN pid=3892544)\u001b[0m   df = train if test is None else train.append(test)\n"
     ]
    },
    {
     "name": "stdout",
     "output_type": "stream",
     "text": [
      "\u001b[36m(TrainLightGCN pid=3892712)\u001b[0m Already create adjacency matrix.\u001b[32m [repeated 2x across cluster]\u001b[0m\n",
      "\u001b[36m(TrainLightGCN pid=3892712)\u001b[0m Already normalize adjacency matrix.\u001b[32m [repeated 2x across cluster]\u001b[0m\n",
      "\u001b[36m(TrainLightGCN pid=3892544)\u001b[0m Using xavier initialization.\n",
      "\u001b[36m(TrainLightGCN pid=3892712)\u001b[0m Using xavier initialization.\n"
     ]
    },
    {
     "name": "stderr",
     "output_type": "stream",
     "text": [
      "\u001b[36m(TrainLightGCN pid=3892712)\u001b[0m /home/daviddavo/upm-tfm-notebooks/.direnv/python-3.9/lib/python3.9/site-packages/recommenders/models/deeprec/DataModel/ImplicitCF.py:73: FutureWarning: The frame.append method is deprecated and will be removed from pandas in a future version. Use pandas.concat instead.\n",
      "\u001b[36m(TrainLightGCN pid=3892712)\u001b[0m   df = train if test is None else train.append(test)\n"
     ]
    },
    {
     "name": "stderr",
     "output_type": "stream",
     "text": [
      "\u001b[36m(TrainLightGCN pid=3892544)\u001b[0m Checkpoint successfully created at: Checkpoint(filesystem=local, path=/home/daviddavo/ray_results/LightGCN_optim=map@10,dao=MetaCartel - MetaCartel Ventures,freq=W-THU,normalize=True,cutoff_date=2020-11-06T00:00:00,fold=9_2024-03-22T01:47:48.988892/TrainLightGCN_aefd4203_72_batch_size=6,conv_layers=5,embedding_dim=5,fold=9,l2=0.0000,learning_rate=0.0004_2024-03-22_01-52-06/checkpoint_000000)\n"
     ]
    },
    {
     "name": "stderr",
     "output_type": "stream",
     "text": [
      "\u001b[36m(pid=3892881)\u001b[0m 2024-03-22 01:52:14.485407: E tensorflow/compiler/xla/stream_executor/cuda/cuda_dnn.cc:9342] Unable to register cuDNN factory: Attempting to register factory for plugin cuDNN when one has already been registered\n",
      "\u001b[36m(pid=3892881)\u001b[0m 2024-03-22 01:52:14.485440: E tensorflow/compiler/xla/stream_executor/cuda/cuda_fft.cc:609] Unable to register cuFFT factory: Attempting to register factory for plugin cuFFT when one has already been registered\n",
      "\u001b[36m(pid=3892881)\u001b[0m 2024-03-22 01:52:14.485456: E tensorflow/compiler/xla/stream_executor/cuda/cuda_blas.cc:1518] Unable to register cuBLAS factory: Attempting to register factory for plugin cuBLAS when one has already been registered\n"
     ]
    },
    {
     "name": "stderr",
     "output_type": "stream",
     "text": [
      "\u001b[36m(TrainLightGCN pid=3892712)\u001b[0m Checkpoint successfully created at: Checkpoint(filesystem=local, path=/home/daviddavo/ray_results/LightGCN_optim=map@10,dao=MetaCartel - MetaCartel Ventures,freq=W-THU,normalize=True,cutoff_date=2020-11-06T00:00:00,fold=9_2024-03-22T01:47:48.988892/TrainLightGCN_44a8e826_73_batch_size=7,conv_layers=3,embedding_dim=1,fold=9,l2=0.0000,learning_rate=0.0495_2024-03-22_01-52-09/checkpoint_000000)\n",
      "\u001b[36m(TrainLightGCN pid=3892881)\u001b[0m /home/daviddavo/upm-tfm-notebooks/.direnv/python-3.9/lib/python3.9/site-packages/recommenders/models/deeprec/DataModel/ImplicitCF.py:73: FutureWarning: The frame.append method is deprecated and will be removed from pandas in a future version. Use pandas.concat instead.\n",
      "\u001b[36m(TrainLightGCN pid=3892881)\u001b[0m   df = train if test is None else train.append(test)\n"
     ]
    },
    {
     "name": "stderr",
     "output_type": "stream",
     "text": [
      "\u001b[36m(pid=3893048)\u001b[0m 2024-03-22 01:52:18.131911: E tensorflow/compiler/xla/stream_executor/cuda/cuda_dnn.cc:9342] Unable to register cuDNN factory: Attempting to register factory for plugin cuDNN when one has already been registered\n",
      "\u001b[36m(pid=3893048)\u001b[0m 2024-03-22 01:52:18.131942: E tensorflow/compiler/xla/stream_executor/cuda/cuda_fft.cc:609] Unable to register cuFFT factory: Attempting to register factory for plugin cuFFT when one has already been registered\n",
      "\u001b[36m(pid=3893048)\u001b[0m 2024-03-22 01:52:18.131955: E tensorflow/compiler/xla/stream_executor/cuda/cuda_blas.cc:1518] Unable to register cuBLAS factory: Attempting to register factory for plugin cuBLAS when one has already been registered\n"
     ]
    },
    {
     "name": "stdout",
     "output_type": "stream",
     "text": [
      "\u001b[36m(TrainLightGCN pid=3893048)\u001b[0m Already create adjacency matrix.\u001b[32m [repeated 2x across cluster]\u001b[0m\n",
      "\u001b[36m(TrainLightGCN pid=3893048)\u001b[0m Already normalize adjacency matrix.\u001b[32m [repeated 2x across cluster]\u001b[0m\n",
      "\u001b[36m(TrainLightGCN pid=3893048)\u001b[0m Using xavier initialization.\u001b[32m [repeated 2x across cluster]\u001b[0m\n"
     ]
    },
    {
     "name": "stderr",
     "output_type": "stream",
     "text": [
      "\u001b[36m(TrainLightGCN pid=3893048)\u001b[0m /home/daviddavo/upm-tfm-notebooks/.direnv/python-3.9/lib/python3.9/site-packages/recommenders/models/deeprec/DataModel/ImplicitCF.py:73: FutureWarning: The frame.append method is deprecated and will be removed from pandas in a future version. Use pandas.concat instead.\n",
      "\u001b[36m(TrainLightGCN pid=3893048)\u001b[0m   df = train if test is None else train.append(test)\n"
     ]
    },
    {
     "name": "stderr",
     "output_type": "stream",
     "text": [
      "\u001b[36m(TrainLightGCN pid=3892881)\u001b[0m Checkpoint successfully created at: Checkpoint(filesystem=local, path=/home/daviddavo/ray_results/LightGCN_optim=map@10,dao=MetaCartel - MetaCartel Ventures,freq=W-THU,normalize=True,cutoff_date=2020-11-06T00:00:00,fold=9_2024-03-22T01:47:48.988892/TrainLightGCN_85b60b86_74_batch_size=8,conv_layers=4,embedding_dim=2,fold=9,l2=0.0000,learning_rate=0.0015_2024-03-22_01-52-13/checkpoint_000000)\n",
      "\u001b[36m(pid=3893222)\u001b[0m 2024-03-22 01:52:21.772592: E tensorflow/compiler/xla/stream_executor/cuda/cuda_dnn.cc:9342] Unable to register cuDNN factory: Attempting to register factory for plugin cuDNN when one has already been registered\n",
      "\u001b[36m(pid=3893222)\u001b[0m 2024-03-22 01:52:21.772625: E tensorflow/compiler/xla/stream_executor/cuda/cuda_fft.cc:609] Unable to register cuFFT factory: Attempting to register factory for plugin cuFFT when one has already been registered\n",
      "\u001b[36m(pid=3893222)\u001b[0m 2024-03-22 01:52:21.772644: E tensorflow/compiler/xla/stream_executor/cuda/cuda_blas.cc:1518] Unable to register cuBLAS factory: Attempting to register factory for plugin cuBLAS when one has already been registered\n"
     ]
    },
    {
     "name": "stderr",
     "output_type": "stream",
     "text": [
      "\u001b[36m(TrainLightGCN pid=3893048)\u001b[0m Checkpoint successfully created at: Checkpoint(filesystem=local, path=/home/daviddavo/ray_results/LightGCN_optim=map@10,dao=MetaCartel - MetaCartel Ventures,freq=W-THU,normalize=True,cutoff_date=2020-11-06T00:00:00,fold=9_2024-03-22T01:47:48.988892/TrainLightGCN_e62c3774_75_batch_size=7,conv_layers=2,embedding_dim=7,fold=9,l2=0.0001,learning_rate=0.9898_2024-03-22_01-52-17/checkpoint_000000)\n"
     ]
    },
    {
     "name": "stderr",
     "output_type": "stream",
     "text": [
      "\u001b[36m(pid=3893383)\u001b[0m 2024-03-22 01:52:25.385013: E tensorflow/compiler/xla/stream_executor/cuda/cuda_dnn.cc:9342] Unable to register cuDNN factory: Attempting to register factory for plugin cuDNN when one has already been registered\n",
      "\u001b[36m(pid=3893383)\u001b[0m 2024-03-22 01:52:25.385043: E tensorflow/compiler/xla/stream_executor/cuda/cuda_fft.cc:609] Unable to register cuFFT factory: Attempting to register factory for plugin cuFFT when one has already been registered\n",
      "\u001b[36m(pid=3893383)\u001b[0m 2024-03-22 01:52:25.385060: E tensorflow/compiler/xla/stream_executor/cuda/cuda_blas.cc:1518] Unable to register cuBLAS factory: Attempting to register factory for plugin cuBLAS when one has already been registered\n",
      "\u001b[36m(TrainLightGCN pid=3893222)\u001b[0m /home/daviddavo/upm-tfm-notebooks/.direnv/python-3.9/lib/python3.9/site-packages/recommenders/models/deeprec/DataModel/ImplicitCF.py:73: FutureWarning: The frame.append method is deprecated and will be removed from pandas in a future version. Use pandas.concat instead.\n",
      "\u001b[36m(TrainLightGCN pid=3893222)\u001b[0m   df = train if test is None else train.append(test)\n"
     ]
    },
    {
     "name": "stdout",
     "output_type": "stream",
     "text": [
      "\u001b[36m(TrainLightGCN pid=3893383)\u001b[0m Already create adjacency matrix.\u001b[32m [repeated 2x across cluster]\u001b[0m\n",
      "\u001b[36m(TrainLightGCN pid=3893383)\u001b[0m Already normalize adjacency matrix.\u001b[32m [repeated 2x across cluster]\u001b[0m\n",
      "\u001b[36m(TrainLightGCN pid=3893383)\u001b[0m Using xavier initialization.\u001b[32m [repeated 2x across cluster]\u001b[0m\n"
     ]
    },
    {
     "name": "stderr",
     "output_type": "stream",
     "text": [
      "\u001b[36m(TrainLightGCN pid=3893383)\u001b[0m /home/daviddavo/upm-tfm-notebooks/.direnv/python-3.9/lib/python3.9/site-packages/recommenders/models/deeprec/DataModel/ImplicitCF.py:73: FutureWarning: The frame.append method is deprecated and will be removed from pandas in a future version. Use pandas.concat instead.\n",
      "\u001b[36m(TrainLightGCN pid=3893383)\u001b[0m   df = train if test is None else train.append(test)\n"
     ]
    },
    {
     "name": "stderr",
     "output_type": "stream",
     "text": [
      "\u001b[36m(TrainLightGCN pid=3893222)\u001b[0m Checkpoint successfully created at: Checkpoint(filesystem=local, path=/home/daviddavo/ray_results/LightGCN_optim=map@10,dao=MetaCartel - MetaCartel Ventures,freq=W-THU,normalize=True,cutoff_date=2020-11-06T00:00:00,fold=9_2024-03-22T01:47:48.988892/TrainLightGCN_67241982_76_batch_size=8,conv_layers=2,embedding_dim=1,fold=9,l2=0.0000,learning_rate=0.0025_2024-03-22_01-52-20/checkpoint_000000)\n",
      "\u001b[36m(pid=3893554)\u001b[0m 2024-03-22 01:52:29.038253: E tensorflow/compiler/xla/stream_executor/cuda/cuda_dnn.cc:9342] Unable to register cuDNN factory: Attempting to register factory for plugin cuDNN when one has already been registered\n",
      "\u001b[36m(pid=3893554)\u001b[0m 2024-03-22 01:52:29.038286: E tensorflow/compiler/xla/stream_executor/cuda/cuda_fft.cc:609] Unable to register cuFFT factory: Attempting to register factory for plugin cuFFT when one has already been registered\n",
      "\u001b[36m(pid=3893554)\u001b[0m 2024-03-22 01:52:29.038298: E tensorflow/compiler/xla/stream_executor/cuda/cuda_blas.cc:1518] Unable to register cuBLAS factory: Attempting to register factory for plugin cuBLAS when one has already been registered\n"
     ]
    },
    {
     "name": "stderr",
     "output_type": "stream",
     "text": [
      "\u001b[36m(pid=3893712)\u001b[0m 2024-03-22 01:52:32.645691: E tensorflow/compiler/xla/stream_executor/cuda/cuda_dnn.cc:9342] Unable to register cuDNN factory: Attempting to register factory for plugin cuDNN when one has already been registered\n",
      "\u001b[36m(pid=3893712)\u001b[0m 2024-03-22 01:52:32.645722: E tensorflow/compiler/xla/stream_executor/cuda/cuda_fft.cc:609] Unable to register cuFFT factory: Attempting to register factory for plugin cuFFT when one has already been registered\n",
      "\u001b[36m(pid=3893712)\u001b[0m 2024-03-22 01:52:32.645738: E tensorflow/compiler/xla/stream_executor/cuda/cuda_blas.cc:1518] Unable to register cuBLAS factory: Attempting to register factory for plugin cuBLAS when one has already been registered\n",
      "\u001b[36m(TrainLightGCN pid=3893554)\u001b[0m /home/daviddavo/upm-tfm-notebooks/.direnv/python-3.9/lib/python3.9/site-packages/recommenders/models/deeprec/DataModel/ImplicitCF.py:73: FutureWarning: The frame.append method is deprecated and will be removed from pandas in a future version. Use pandas.concat instead.\n",
      "\u001b[36m(TrainLightGCN pid=3893554)\u001b[0m   df = train if test is None else train.append(test)\n"
     ]
    },
    {
     "name": "stderr",
     "output_type": "stream",
     "text": [
      "\u001b[36m(TrainLightGCN pid=3893383)\u001b[0m Checkpoint successfully created at: Checkpoint(filesystem=local, path=/home/daviddavo/ray_results/LightGCN_optim=map@10,dao=MetaCartel - MetaCartel Ventures,freq=W-THU,normalize=True,cutoff_date=2020-11-06T00:00:00,fold=9_2024-03-22T01:47:48.988892/TrainLightGCN_c1595347_77_batch_size=6,conv_layers=4,embedding_dim=3,fold=9,l2=0.0000,learning_rate=0.0790_2024-03-22_01-52-24/checkpoint_000000)\n"
     ]
    },
    {
     "name": "stdout",
     "output_type": "stream",
     "text": [
      "\u001b[36m(TrainLightGCN pid=3893712)\u001b[0m Already create adjacency matrix.\u001b[32m [repeated 2x across cluster]\u001b[0m\n",
      "\u001b[36m(TrainLightGCN pid=3893712)\u001b[0m Already normalize adjacency matrix.\u001b[32m [repeated 2x across cluster]\u001b[0m\n",
      "\u001b[36m(TrainLightGCN pid=3893712)\u001b[0m Using xavier initialization.\u001b[32m [repeated 2x across cluster]\u001b[0m\n"
     ]
    },
    {
     "name": "stderr",
     "output_type": "stream",
     "text": [
      "\u001b[36m(TrainLightGCN pid=3893712)\u001b[0m /home/daviddavo/upm-tfm-notebooks/.direnv/python-3.9/lib/python3.9/site-packages/recommenders/models/deeprec/DataModel/ImplicitCF.py:73: FutureWarning: The frame.append method is deprecated and will be removed from pandas in a future version. Use pandas.concat instead.\n",
      "\u001b[36m(TrainLightGCN pid=3893712)\u001b[0m   df = train if test is None else train.append(test)\n"
     ]
    },
    {
     "name": "stderr",
     "output_type": "stream",
     "text": [
      "\u001b[36m(pid=3893881)\u001b[0m 2024-03-22 01:52:36.321438: E tensorflow/compiler/xla/stream_executor/cuda/cuda_dnn.cc:9342] Unable to register cuDNN factory: Attempting to register factory for plugin cuDNN when one has already been registered\n",
      "\u001b[36m(pid=3893881)\u001b[0m 2024-03-22 01:52:36.321473: E tensorflow/compiler/xla/stream_executor/cuda/cuda_fft.cc:609] Unable to register cuFFT factory: Attempting to register factory for plugin cuFFT when one has already been registered\n",
      "\u001b[36m(pid=3893881)\u001b[0m 2024-03-22 01:52:36.321487: E tensorflow/compiler/xla/stream_executor/cuda/cuda_blas.cc:1518] Unable to register cuBLAS factory: Attempting to register factory for plugin cuBLAS when one has already been registered\n"
     ]
    },
    {
     "name": "stderr",
     "output_type": "stream",
     "text": [
      "\u001b[36m(pid=3894051)\u001b[0m 2024-03-22 01:52:39.964696: E tensorflow/compiler/xla/stream_executor/cuda/cuda_dnn.cc:9342] Unable to register cuDNN factory: Attempting to register factory for plugin cuDNN when one has already been registered\n",
      "\u001b[36m(pid=3894051)\u001b[0m 2024-03-22 01:52:39.964724: E tensorflow/compiler/xla/stream_executor/cuda/cuda_fft.cc:609] Unable to register cuFFT factory: Attempting to register factory for plugin cuFFT when one has already been registered\n",
      "\u001b[36m(pid=3894051)\u001b[0m 2024-03-22 01:52:39.964740: E tensorflow/compiler/xla/stream_executor/cuda/cuda_blas.cc:1518] Unable to register cuBLAS factory: Attempting to register factory for plugin cuBLAS when one has already been registered\n",
      "\u001b[36m(TrainLightGCN pid=3893554)\u001b[0m Checkpoint successfully created at: Checkpoint(filesystem=local, path=/home/daviddavo/ray_results/LightGCN_optim=map@10,dao=MetaCartel - MetaCartel Ventures,freq=W-THU,normalize=True,cutoff_date=2020-11-06T00:00:00,fold=9_2024-03-22T01:47:48.988892/TrainLightGCN_11605266_78_batch_size=7,conv_layers=3,embedding_dim=732,fold=9,l2=0.0000,learning_rate=0.3173_2024-03-22_01-52-28/checkpoint_000000)\n",
      "\u001b[36m(TrainLightGCN pid=3893881)\u001b[0m /home/daviddavo/upm-tfm-notebooks/.direnv/python-3.9/lib/python3.9/site-packages/recommenders/models/deeprec/DataModel/ImplicitCF.py:73: FutureWarning: The frame.append method is deprecated and will be removed from pandas in a future version. Use pandas.concat instead.\n",
      "\u001b[36m(TrainLightGCN pid=3893881)\u001b[0m   df = train if test is None else train.append(test)\n"
     ]
    },
    {
     "name": "stderr",
     "output_type": "stream",
     "text": [
      "\u001b[36m(TrainLightGCN pid=3893712)\u001b[0m Checkpoint successfully created at: Checkpoint(filesystem=local, path=/home/daviddavo/ray_results/LightGCN_optim=map@10,dao=MetaCartel - MetaCartel Ventures,freq=W-THU,normalize=True,cutoff_date=2020-11-06T00:00:00,fold=9_2024-03-22T01:47:48.988892/TrainLightGCN_7bbd83df_79_batch_size=6,conv_layers=5,embedding_dim=2,fold=9,l2=0.0000,learning_rate=0.0258_2024-03-22_01-52-31/checkpoint_000000)\n"
     ]
    },
    {
     "name": "stdout",
     "output_type": "stream",
     "text": [
      "\u001b[36m(TrainLightGCN pid=3894051)\u001b[0m Already create adjacency matrix.\u001b[32m [repeated 2x across cluster]\u001b[0m\n",
      "\u001b[36m(TrainLightGCN pid=3894051)\u001b[0m Already normalize adjacency matrix.\u001b[32m [repeated 2x across cluster]\u001b[0m\n",
      "\u001b[36m(TrainLightGCN pid=3893881)\u001b[0m Using xavier initialization.\n",
      "\u001b[36m(TrainLightGCN pid=3894051)\u001b[0m Using xavier initialization.\n"
     ]
    },
    {
     "name": "stderr",
     "output_type": "stream",
     "text": [
      "\u001b[36m(TrainLightGCN pid=3894051)\u001b[0m /home/daviddavo/upm-tfm-notebooks/.direnv/python-3.9/lib/python3.9/site-packages/recommenders/models/deeprec/DataModel/ImplicitCF.py:73: FutureWarning: The frame.append method is deprecated and will be removed from pandas in a future version. Use pandas.concat instead.\n",
      "\u001b[36m(TrainLightGCN pid=3894051)\u001b[0m   df = train if test is None else train.append(test)\n"
     ]
    },
    {
     "name": "stderr",
     "output_type": "stream",
     "text": [
      "\u001b[36m(pid=3894221)\u001b[0m 2024-03-22 01:52:43.665500: E tensorflow/compiler/xla/stream_executor/cuda/cuda_dnn.cc:9342] Unable to register cuDNN factory: Attempting to register factory for plugin cuDNN when one has already been registered\n",
      "\u001b[36m(pid=3894221)\u001b[0m 2024-03-22 01:52:43.665529: E tensorflow/compiler/xla/stream_executor/cuda/cuda_fft.cc:609] Unable to register cuFFT factory: Attempting to register factory for plugin cuFFT when one has already been registered\n",
      "\u001b[36m(pid=3894221)\u001b[0m 2024-03-22 01:52:43.665543: E tensorflow/compiler/xla/stream_executor/cuda/cuda_blas.cc:1518] Unable to register cuBLAS factory: Attempting to register factory for plugin cuBLAS when one has already been registered\n"
     ]
    },
    {
     "name": "stderr",
     "output_type": "stream",
     "text": [
      "\u001b[36m(pid=3894389)\u001b[0m 2024-03-22 01:52:47.277685: E tensorflow/compiler/xla/stream_executor/cuda/cuda_dnn.cc:9342] Unable to register cuDNN factory: Attempting to register factory for plugin cuDNN when one has already been registered\n",
      "\u001b[36m(pid=3894389)\u001b[0m 2024-03-22 01:52:47.277723: E tensorflow/compiler/xla/stream_executor/cuda/cuda_fft.cc:609] Unable to register cuFFT factory: Attempting to register factory for plugin cuFFT when one has already been registered\n",
      "\u001b[36m(pid=3894389)\u001b[0m 2024-03-22 01:52:47.277740: E tensorflow/compiler/xla/stream_executor/cuda/cuda_blas.cc:1518] Unable to register cuBLAS factory: Attempting to register factory for plugin cuBLAS when one has already been registered\n",
      "\u001b[36m(TrainLightGCN pid=3894051)\u001b[0m Checkpoint successfully created at: Checkpoint(filesystem=local, path=/home/daviddavo/ray_results/LightGCN_optim=map@10,dao=MetaCartel - MetaCartel Ventures,freq=W-THU,normalize=True,cutoff_date=2020-11-06T00:00:00,fold=9_2024-03-22T01:47:48.988892/TrainLightGCN_201fa458_81_batch_size=8,conv_layers=3,embedding_dim=237,fold=9,l2=0.0001,learning_rate=0.1661_2024-03-22_01-52-38/checkpoint_000000)\u001b[32m [repeated 2x across cluster]\u001b[0m\n",
      "\u001b[36m(TrainLightGCN pid=3894221)\u001b[0m /home/daviddavo/upm-tfm-notebooks/.direnv/python-3.9/lib/python3.9/site-packages/recommenders/models/deeprec/DataModel/ImplicitCF.py:73: FutureWarning: The frame.append method is deprecated and will be removed from pandas in a future version. Use pandas.concat instead.\n",
      "\u001b[36m(TrainLightGCN pid=3894221)\u001b[0m   df = train if test is None else train.append(test)\n"
     ]
    },
    {
     "name": "stderr",
     "output_type": "stream",
     "text": [
      "\u001b[36m(TrainLightGCN pid=3894389)\u001b[0m /home/daviddavo/upm-tfm-notebooks/.direnv/python-3.9/lib/python3.9/site-packages/recommenders/models/deeprec/DataModel/ImplicitCF.py:73: FutureWarning: The frame.append method is deprecated and will be removed from pandas in a future version. Use pandas.concat instead.\n",
      "\u001b[36m(TrainLightGCN pid=3894389)\u001b[0m   df = train if test is None else train.append(test)\n"
     ]
    },
    {
     "name": "stdout",
     "output_type": "stream",
     "text": [
      "\u001b[36m(TrainLightGCN pid=3894389)\u001b[0m Already create adjacency matrix.\u001b[32m [repeated 2x across cluster]\u001b[0m\n",
      "\u001b[36m(TrainLightGCN pid=3894389)\u001b[0m Already normalize adjacency matrix.\u001b[32m [repeated 2x across cluster]\u001b[0m\n",
      "\u001b[36m(TrainLightGCN pid=3894389)\u001b[0m Using xavier initialization.\u001b[32m [repeated 2x across cluster]\u001b[0m\n"
     ]
    },
    {
     "name": "stderr",
     "output_type": "stream",
     "text": [
      "\u001b[36m(pid=3894552)\u001b[0m 2024-03-22 01:52:50.917432: E tensorflow/compiler/xla/stream_executor/cuda/cuda_dnn.cc:9342] Unable to register cuDNN factory: Attempting to register factory for plugin cuDNN when one has already been registered\n",
      "\u001b[36m(pid=3894552)\u001b[0m 2024-03-22 01:52:50.917463: E tensorflow/compiler/xla/stream_executor/cuda/cuda_fft.cc:609] Unable to register cuFFT factory: Attempting to register factory for plugin cuFFT when one has already been registered\n",
      "\u001b[36m(pid=3894552)\u001b[0m 2024-03-22 01:52:50.917479: E tensorflow/compiler/xla/stream_executor/cuda/cuda_blas.cc:1518] Unable to register cuBLAS factory: Attempting to register factory for plugin cuBLAS when one has already been registered\n",
      "\u001b[36m(TrainLightGCN pid=3894221)\u001b[0m Checkpoint successfully created at: Checkpoint(filesystem=local, path=/home/daviddavo/ray_results/LightGCN_optim=map@10,dao=MetaCartel - MetaCartel Ventures,freq=W-THU,normalize=True,cutoff_date=2020-11-06T00:00:00,fold=9_2024-03-22T01:47:48.988892/TrainLightGCN_4e83e4e2_82_batch_size=7,conv_layers=2,embedding_dim=1,fold=9,l2=0.0000,learning_rate=0.0051_2024-03-22_01-52-42/checkpoint_000000)\n"
     ]
    },
    {
     "name": "stderr",
     "output_type": "stream",
     "text": [
      "\u001b[36m(TrainLightGCN pid=3894389)\u001b[0m Checkpoint successfully created at: Checkpoint(filesystem=local, path=/home/daviddavo/ray_results/LightGCN_optim=map@10,dao=MetaCartel - MetaCartel Ventures,freq=W-THU,normalize=True,cutoff_date=2020-11-06T00:00:00,fold=9_2024-03-22T01:47:48.988892/TrainLightGCN_ce45b07a_83_batch_size=8,conv_layers=3,embedding_dim=1,fold=9,l2=0.0007,learning_rate=0.0080_2024-03-22_01-52-46/checkpoint_000000)\n"
     ]
    },
    {
     "name": "stderr",
     "output_type": "stream",
     "text": [
      "\u001b[36m(pid=3894726)\u001b[0m 2024-03-22 01:52:54.514223: E tensorflow/compiler/xla/stream_executor/cuda/cuda_dnn.cc:9342] Unable to register cuDNN factory: Attempting to register factory for plugin cuDNN when one has already been registered\n",
      "\u001b[36m(pid=3894726)\u001b[0m 2024-03-22 01:52:54.514256: E tensorflow/compiler/xla/stream_executor/cuda/cuda_fft.cc:609] Unable to register cuFFT factory: Attempting to register factory for plugin cuFFT when one has already been registered\n",
      "\u001b[36m(pid=3894726)\u001b[0m 2024-03-22 01:52:54.514273: E tensorflow/compiler/xla/stream_executor/cuda/cuda_blas.cc:1518] Unable to register cuBLAS factory: Attempting to register factory for plugin cuBLAS when one has already been registered\n",
      "\u001b[36m(TrainLightGCN pid=3894552)\u001b[0m /home/daviddavo/upm-tfm-notebooks/.direnv/python-3.9/lib/python3.9/site-packages/recommenders/models/deeprec/DataModel/ImplicitCF.py:73: FutureWarning: The frame.append method is deprecated and will be removed from pandas in a future version. Use pandas.concat instead.\n",
      "\u001b[36m(TrainLightGCN pid=3894552)\u001b[0m   df = train if test is None else train.append(test)\n"
     ]
    },
    {
     "name": "stderr",
     "output_type": "stream",
     "text": [
      "\u001b[36m(TrainLightGCN pid=3894726)\u001b[0m /home/daviddavo/upm-tfm-notebooks/.direnv/python-3.9/lib/python3.9/site-packages/recommenders/models/deeprec/DataModel/ImplicitCF.py:73: FutureWarning: The frame.append method is deprecated and will be removed from pandas in a future version. Use pandas.concat instead.\n",
      "\u001b[36m(TrainLightGCN pid=3894726)\u001b[0m   df = train if test is None else train.append(test)\n"
     ]
    },
    {
     "name": "stdout",
     "output_type": "stream",
     "text": [
      "\u001b[36m(TrainLightGCN pid=3894726)\u001b[0m Already create adjacency matrix.\u001b[32m [repeated 2x across cluster]\u001b[0m\n",
      "\u001b[36m(TrainLightGCN pid=3894726)\u001b[0m Already normalize adjacency matrix.\u001b[32m [repeated 2x across cluster]\u001b[0m\n",
      "\u001b[36m(TrainLightGCN pid=3894552)\u001b[0m Using xavier initialization.\n",
      "\u001b[36m(TrainLightGCN pid=3894726)\u001b[0m Using xavier initialization.\n"
     ]
    },
    {
     "name": "stderr",
     "output_type": "stream",
     "text": [
      "\u001b[36m(TrainLightGCN pid=3894552)\u001b[0m Checkpoint successfully created at: Checkpoint(filesystem=local, path=/home/daviddavo/ray_results/LightGCN_optim=map@10,dao=MetaCartel - MetaCartel Ventures,freq=W-THU,normalize=True,cutoff_date=2020-11-06T00:00:00,fold=9_2024-03-22T01:47:48.988892/TrainLightGCN_42b570c7_84_batch_size=6,conv_layers=1,embedding_dim=6,fold=9,l2=0.0000,learning_rate=0.6022_2024-03-22_01-52-49/checkpoint_000000)\n"
     ]
    },
    {
     "name": "stderr",
     "output_type": "stream",
     "text": [
      "\u001b[36m(pid=3894887)\u001b[0m 2024-03-22 01:52:58.229444: E tensorflow/compiler/xla/stream_executor/cuda/cuda_dnn.cc:9342] Unable to register cuDNN factory: Attempting to register factory for plugin cuDNN when one has already been registered\n",
      "\u001b[36m(pid=3894887)\u001b[0m 2024-03-22 01:52:58.229478: E tensorflow/compiler/xla/stream_executor/cuda/cuda_fft.cc:609] Unable to register cuFFT factory: Attempting to register factory for plugin cuFFT when one has already been registered\n",
      "\u001b[36m(pid=3894887)\u001b[0m 2024-03-22 01:52:58.229492: E tensorflow/compiler/xla/stream_executor/cuda/cuda_blas.cc:1518] Unable to register cuBLAS factory: Attempting to register factory for plugin cuBLAS when one has already been registered\n"
     ]
    },
    {
     "name": "stderr",
     "output_type": "stream",
     "text": [
      "\u001b[36m(TrainLightGCN pid=3894726)\u001b[0m Checkpoint successfully created at: Checkpoint(filesystem=local, path=/home/daviddavo/ray_results/LightGCN_optim=map@10,dao=MetaCartel - MetaCartel Ventures,freq=W-THU,normalize=True,cutoff_date=2020-11-06T00:00:00,fold=9_2024-03-22T01:47:48.988892/TrainLightGCN_bd6abaaa_85_batch_size=7,conv_layers=5,embedding_dim=26,fold=9,l2=0.0000,learning_rate=0.0011_2024-03-22_01-52-53/checkpoint_000000)\n",
      "\u001b[36m(TrainLightGCN pid=3894887)\u001b[0m /home/daviddavo/upm-tfm-notebooks/.direnv/python-3.9/lib/python3.9/site-packages/recommenders/models/deeprec/DataModel/ImplicitCF.py:73: FutureWarning: The frame.append method is deprecated and will be removed from pandas in a future version. Use pandas.concat instead.\n",
      "\u001b[36m(TrainLightGCN pid=3894887)\u001b[0m   df = train if test is None else train.append(test)\n"
     ]
    },
    {
     "name": "stderr",
     "output_type": "stream",
     "text": [
      "\u001b[36m(pid=3895053)\u001b[0m 2024-03-22 01:53:01.888898: E tensorflow/compiler/xla/stream_executor/cuda/cuda_dnn.cc:9342] Unable to register cuDNN factory: Attempting to register factory for plugin cuDNN when one has already been registered\n",
      "\u001b[36m(pid=3895053)\u001b[0m 2024-03-22 01:53:01.888925: E tensorflow/compiler/xla/stream_executor/cuda/cuda_fft.cc:609] Unable to register cuFFT factory: Attempting to register factory for plugin cuFFT when one has already been registered\n",
      "\u001b[36m(pid=3895053)\u001b[0m 2024-03-22 01:53:01.888938: E tensorflow/compiler/xla/stream_executor/cuda/cuda_blas.cc:1518] Unable to register cuBLAS factory: Attempting to register factory for plugin cuBLAS when one has already been registered\n"
     ]
    },
    {
     "name": "stderr",
     "output_type": "stream",
     "text": [
      "\u001b[36m(TrainLightGCN pid=3895053)\u001b[0m /home/daviddavo/upm-tfm-notebooks/.direnv/python-3.9/lib/python3.9/site-packages/recommenders/models/deeprec/DataModel/ImplicitCF.py:73: FutureWarning: The frame.append method is deprecated and will be removed from pandas in a future version. Use pandas.concat instead.\n",
      "\u001b[36m(TrainLightGCN pid=3895053)\u001b[0m   df = train if test is None else train.append(test)\n"
     ]
    },
    {
     "name": "stdout",
     "output_type": "stream",
     "text": [
      "\u001b[36m(TrainLightGCN pid=3895053)\u001b[0m Already create adjacency matrix.\u001b[32m [repeated 2x across cluster]\u001b[0m\n",
      "\u001b[36m(TrainLightGCN pid=3895053)\u001b[0m Already normalize adjacency matrix.\u001b[32m [repeated 2x across cluster]\u001b[0m\n",
      "\u001b[36m(TrainLightGCN pid=3895053)\u001b[0m Using xavier initialization.\u001b[32m [repeated 2x across cluster]\u001b[0m\n"
     ]
    },
    {
     "name": "stderr",
     "output_type": "stream",
     "text": [
      "\u001b[36m(TrainLightGCN pid=3894887)\u001b[0m Checkpoint successfully created at: Checkpoint(filesystem=local, path=/home/daviddavo/ray_results/LightGCN_optim=map@10,dao=MetaCartel - MetaCartel Ventures,freq=W-THU,normalize=True,cutoff_date=2020-11-06T00:00:00,fold=9_2024-03-22T01:47:48.988892/TrainLightGCN_a7833978_86_batch_size=8,conv_layers=4,embedding_dim=56,fold=9,l2=0.0000,learning_rate=0.0177_2024-03-22_01-52-57/checkpoint_000000)\n",
      "\u001b[36m(pid=3895228)\u001b[0m 2024-03-22 01:53:05.477394: E tensorflow/compiler/xla/stream_executor/cuda/cuda_dnn.cc:9342] Unable to register cuDNN factory: Attempting to register factory for plugin cuDNN when one has already been registered\n",
      "\u001b[36m(pid=3895228)\u001b[0m 2024-03-22 01:53:05.477423: E tensorflow/compiler/xla/stream_executor/cuda/cuda_fft.cc:609] Unable to register cuFFT factory: Attempting to register factory for plugin cuFFT when one has already been registered\n",
      "\u001b[36m(pid=3895228)\u001b[0m 2024-03-22 01:53:05.477438: E tensorflow/compiler/xla/stream_executor/cuda/cuda_blas.cc:1518] Unable to register cuBLAS factory: Attempting to register factory for plugin cuBLAS when one has already been registered\n"
     ]
    },
    {
     "name": "stderr",
     "output_type": "stream",
     "text": [
      "\u001b[36m(TrainLightGCN pid=3895053)\u001b[0m Checkpoint successfully created at: Checkpoint(filesystem=local, path=/home/daviddavo/ray_results/LightGCN_optim=map@10,dao=MetaCartel - MetaCartel Ventures,freq=W-THU,normalize=True,cutoff_date=2020-11-06T00:00:00,fold=9_2024-03-22T01:47:48.988892/TrainLightGCN_285eeb86_87_batch_size=7,conv_layers=3,embedding_dim=37,fold=9,l2=0.0002,learning_rate=0.0032_2024-03-22_01-53-00/checkpoint_000000)\n",
      "\u001b[36m(TrainLightGCN pid=3895228)\u001b[0m /home/daviddavo/upm-tfm-notebooks/.direnv/python-3.9/lib/python3.9/site-packages/recommenders/models/deeprec/DataModel/ImplicitCF.py:73: FutureWarning: The frame.append method is deprecated and will be removed from pandas in a future version. Use pandas.concat instead.\n",
      "\u001b[36m(TrainLightGCN pid=3895228)\u001b[0m   df = train if test is None else train.append(test)\n"
     ]
    },
    {
     "name": "stderr",
     "output_type": "stream",
     "text": [
      "\u001b[36m(pid=3895389)\u001b[0m 2024-03-22 01:53:09.271984: E tensorflow/compiler/xla/stream_executor/cuda/cuda_dnn.cc:9342] Unable to register cuDNN factory: Attempting to register factory for plugin cuDNN when one has already been registered\n",
      "\u001b[36m(pid=3895389)\u001b[0m 2024-03-22 01:53:09.272018: E tensorflow/compiler/xla/stream_executor/cuda/cuda_fft.cc:609] Unable to register cuFFT factory: Attempting to register factory for plugin cuFFT when one has already been registered\n",
      "\u001b[36m(pid=3895389)\u001b[0m 2024-03-22 01:53:09.272034: E tensorflow/compiler/xla/stream_executor/cuda/cuda_blas.cc:1518] Unable to register cuBLAS factory: Attempting to register factory for plugin cuBLAS when one has already been registered\n"
     ]
    },
    {
     "name": "stdout",
     "output_type": "stream",
     "text": [
      "\u001b[36m(TrainLightGCN pid=3895389)\u001b[0m Already create adjacency matrix.\u001b[32m [repeated 2x across cluster]\u001b[0m\n",
      "\u001b[36m(TrainLightGCN pid=3895389)\u001b[0m Already normalize adjacency matrix.\u001b[32m [repeated 2x across cluster]\u001b[0m\n",
      "\u001b[36m(TrainLightGCN pid=3895228)\u001b[0m Using xavier initialization.\n",
      "\u001b[36m(TrainLightGCN pid=3895389)\u001b[0m Using xavier initialization.\n"
     ]
    },
    {
     "name": "stderr",
     "output_type": "stream",
     "text": [
      "\u001b[36m(TrainLightGCN pid=3895389)\u001b[0m /home/daviddavo/upm-tfm-notebooks/.direnv/python-3.9/lib/python3.9/site-packages/recommenders/models/deeprec/DataModel/ImplicitCF.py:73: FutureWarning: The frame.append method is deprecated and will be removed from pandas in a future version. Use pandas.concat instead.\n",
      "\u001b[36m(TrainLightGCN pid=3895389)\u001b[0m   df = train if test is None else train.append(test)\n"
     ]
    },
    {
     "name": "stderr",
     "output_type": "stream",
     "text": [
      "\u001b[36m(TrainLightGCN pid=3895228)\u001b[0m Checkpoint successfully created at: Checkpoint(filesystem=local, path=/home/daviddavo/ray_results/LightGCN_optim=map@10,dao=MetaCartel - MetaCartel Ventures,freq=W-THU,normalize=True,cutoff_date=2020-11-06T00:00:00,fold=9_2024-03-22T01:47:48.988892/TrainLightGCN_e232e56e_88_batch_size=9,conv_layers=2,embedding_dim=5,fold=9,l2=0.0000,learning_rate=0.0006_2024-03-22_01-53-04/checkpoint_000000)\n",
      "\u001b[36m(pid=3895566)\u001b[0m 2024-03-22 01:53:12.968763: E tensorflow/compiler/xla/stream_executor/cuda/cuda_dnn.cc:9342] Unable to register cuDNN factory: Attempting to register factory for plugin cuDNN when one has already been registered\n",
      "\u001b[36m(pid=3895566)\u001b[0m 2024-03-22 01:53:12.968790: E tensorflow/compiler/xla/stream_executor/cuda/cuda_fft.cc:609] Unable to register cuFFT factory: Attempting to register factory for plugin cuFFT when one has already been registered\n",
      "\u001b[36m(pid=3895566)\u001b[0m 2024-03-22 01:53:12.968806: E tensorflow/compiler/xla/stream_executor/cuda/cuda_blas.cc:1518] Unable to register cuBLAS factory: Attempting to register factory for plugin cuBLAS when one has already been registered\n"
     ]
    },
    {
     "name": "stderr",
     "output_type": "stream",
     "text": [
      "\u001b[36m(TrainLightGCN pid=3895389)\u001b[0m Checkpoint successfully created at: Checkpoint(filesystem=local, path=/home/daviddavo/ray_results/LightGCN_optim=map@10,dao=MetaCartel - MetaCartel Ventures,freq=W-THU,normalize=True,cutoff_date=2020-11-06T00:00:00,fold=9_2024-03-22T01:47:48.988892/TrainLightGCN_34f242d3_89_batch_size=8,conv_layers=4,embedding_dim=2,fold=9,l2=0.0000,learning_rate=0.0604_2024-03-22_01-53-08/checkpoint_000000)\n"
     ]
    },
    {
     "name": "stderr",
     "output_type": "stream",
     "text": [
      "\u001b[36m(pid=3895732)\u001b[0m 2024-03-22 01:53:16.577448: E tensorflow/compiler/xla/stream_executor/cuda/cuda_dnn.cc:9342] Unable to register cuDNN factory: Attempting to register factory for plugin cuDNN when one has already been registered\n",
      "\u001b[36m(pid=3895732)\u001b[0m 2024-03-22 01:53:16.577479: E tensorflow/compiler/xla/stream_executor/cuda/cuda_fft.cc:609] Unable to register cuFFT factory: Attempting to register factory for plugin cuFFT when one has already been registered\n",
      "\u001b[36m(pid=3895732)\u001b[0m 2024-03-22 01:53:16.577492: E tensorflow/compiler/xla/stream_executor/cuda/cuda_blas.cc:1518] Unable to register cuBLAS factory: Attempting to register factory for plugin cuBLAS when one has already been registered\n",
      "\u001b[36m(TrainLightGCN pid=3895566)\u001b[0m /home/daviddavo/upm-tfm-notebooks/.direnv/python-3.9/lib/python3.9/site-packages/recommenders/models/deeprec/DataModel/ImplicitCF.py:73: FutureWarning: The frame.append method is deprecated and will be removed from pandas in a future version. Use pandas.concat instead.\n",
      "\u001b[36m(TrainLightGCN pid=3895566)\u001b[0m   df = train if test is None else train.append(test)\n"
     ]
    },
    {
     "name": "stdout",
     "output_type": "stream",
     "text": [
      "\u001b[36m(TrainLightGCN pid=3895732)\u001b[0m Already create adjacency matrix.\u001b[32m [repeated 2x across cluster]\u001b[0m\n",
      "\u001b[36m(TrainLightGCN pid=3895732)\u001b[0m Already normalize adjacency matrix.\u001b[32m [repeated 2x across cluster]\u001b[0m\n",
      "\u001b[36m(TrainLightGCN pid=3895732)\u001b[0m Using xavier initialization.\u001b[32m [repeated 2x across cluster]\u001b[0m\n"
     ]
    },
    {
     "name": "stderr",
     "output_type": "stream",
     "text": [
      "\u001b[36m(TrainLightGCN pid=3895732)\u001b[0m /home/daviddavo/upm-tfm-notebooks/.direnv/python-3.9/lib/python3.9/site-packages/recommenders/models/deeprec/DataModel/ImplicitCF.py:73: FutureWarning: The frame.append method is deprecated and will be removed from pandas in a future version. Use pandas.concat instead.\n",
      "\u001b[36m(TrainLightGCN pid=3895732)\u001b[0m   df = train if test is None else train.append(test)\n"
     ]
    },
    {
     "name": "stderr",
     "output_type": "stream",
     "text": [
      "\u001b[36m(TrainLightGCN pid=3895566)\u001b[0m Checkpoint successfully created at: Checkpoint(filesystem=local, path=/home/daviddavo/ray_results/LightGCN_optim=map@10,dao=MetaCartel - MetaCartel Ventures,freq=W-THU,normalize=True,cutoff_date=2020-11-06T00:00:00,fold=9_2024-03-22T01:47:48.988892/TrainLightGCN_75666a00_90_batch_size=6,conv_layers=3,embedding_dim=14,fold=9,l2=0.0000,learning_rate=0.2120_2024-03-22_01-53-11/checkpoint_000000)\n",
      "\u001b[36m(pid=3895894)\u001b[0m 2024-03-22 01:53:20.197748: E tensorflow/compiler/xla/stream_executor/cuda/cuda_dnn.cc:9342] Unable to register cuDNN factory: Attempting to register factory for plugin cuDNN when one has already been registered\n",
      "\u001b[36m(pid=3895894)\u001b[0m 2024-03-22 01:53:20.197778: E tensorflow/compiler/xla/stream_executor/cuda/cuda_fft.cc:609] Unable to register cuFFT factory: Attempting to register factory for plugin cuFFT when one has already been registered\n",
      "\u001b[36m(pid=3895894)\u001b[0m 2024-03-22 01:53:20.197792: E tensorflow/compiler/xla/stream_executor/cuda/cuda_blas.cc:1518] Unable to register cuBLAS factory: Attempting to register factory for plugin cuBLAS when one has already been registered\n"
     ]
    },
    {
     "name": "stderr",
     "output_type": "stream",
     "text": [
      "\u001b[36m(TrainLightGCN pid=3895732)\u001b[0m Checkpoint successfully created at: Checkpoint(filesystem=local, path=/home/daviddavo/ray_results/LightGCN_optim=map@10,dao=MetaCartel - MetaCartel Ventures,freq=W-THU,normalize=True,cutoff_date=2020-11-06T00:00:00,fold=9_2024-03-22T01:47:48.988892/TrainLightGCN_cdcd086b_91_batch_size=7,conv_layers=2,embedding_dim=3,fold=9,l2=0.0000,learning_rate=0.0019_2024-03-22_01-53-15/checkpoint_000000)\n"
     ]
    },
    {
     "name": "stderr",
     "output_type": "stream",
     "text": [
      "\u001b[36m(pid=3896062)\u001b[0m 2024-03-22 01:53:23.819869: E tensorflow/compiler/xla/stream_executor/cuda/cuda_dnn.cc:9342] Unable to register cuDNN factory: Attempting to register factory for plugin cuDNN when one has already been registered\n",
      "\u001b[36m(pid=3896062)\u001b[0m 2024-03-22 01:53:23.819994: E tensorflow/compiler/xla/stream_executor/cuda/cuda_fft.cc:609] Unable to register cuFFT factory: Attempting to register factory for plugin cuFFT when one has already been registered\n",
      "\u001b[36m(pid=3896062)\u001b[0m 2024-03-22 01:53:23.820011: E tensorflow/compiler/xla/stream_executor/cuda/cuda_blas.cc:1518] Unable to register cuBLAS factory: Attempting to register factory for plugin cuBLAS when one has already been registered\n",
      "\u001b[36m(TrainLightGCN pid=3895894)\u001b[0m /home/daviddavo/upm-tfm-notebooks/.direnv/python-3.9/lib/python3.9/site-packages/recommenders/models/deeprec/DataModel/ImplicitCF.py:73: FutureWarning: The frame.append method is deprecated and will be removed from pandas in a future version. Use pandas.concat instead.\n",
      "\u001b[36m(TrainLightGCN pid=3895894)\u001b[0m   df = train if test is None else train.append(test)\n"
     ]
    },
    {
     "name": "stderr",
     "output_type": "stream",
     "text": [
      "\u001b[36m(TrainLightGCN pid=3896062)\u001b[0m /home/daviddavo/upm-tfm-notebooks/.direnv/python-3.9/lib/python3.9/site-packages/recommenders/models/deeprec/DataModel/ImplicitCF.py:73: FutureWarning: The frame.append method is deprecated and will be removed from pandas in a future version. Use pandas.concat instead.\n",
      "\u001b[36m(TrainLightGCN pid=3896062)\u001b[0m   df = train if test is None else train.append(test)\n"
     ]
    },
    {
     "name": "stdout",
     "output_type": "stream",
     "text": [
      "\u001b[36m(TrainLightGCN pid=3896062)\u001b[0m Already create adjacency matrix.\u001b[32m [repeated 2x across cluster]\u001b[0m\n",
      "\u001b[36m(TrainLightGCN pid=3896062)\u001b[0m Already normalize adjacency matrix.\u001b[32m [repeated 2x across cluster]\u001b[0m\n",
      "\u001b[36m(TrainLightGCN pid=3896062)\u001b[0m Using xavier initialization.\u001b[32m [repeated 2x across cluster]\u001b[0m\n"
     ]
    },
    {
     "name": "stderr",
     "output_type": "stream",
     "text": [
      "\u001b[36m(TrainLightGCN pid=3895894)\u001b[0m Checkpoint successfully created at: Checkpoint(filesystem=local, path=/home/daviddavo/ray_results/LightGCN_optim=map@10,dao=MetaCartel - MetaCartel Ventures,freq=W-THU,normalize=True,cutoff_date=2020-11-06T00:00:00,fold=9_2024-03-22T01:47:48.988892/TrainLightGCN_f2354538_92_batch_size=7,conv_layers=1,embedding_dim=9,fold=9,l2=0.0001,learning_rate=0.0303_2024-03-22_01-53-19/checkpoint_000000)\n",
      "\u001b[36m(pid=3896229)\u001b[0m 2024-03-22 01:53:27.487350: E tensorflow/compiler/xla/stream_executor/cuda/cuda_dnn.cc:9342] Unable to register cuDNN factory: Attempting to register factory for plugin cuDNN when one has already been registered\n",
      "\u001b[36m(pid=3896229)\u001b[0m 2024-03-22 01:53:27.487382: E tensorflow/compiler/xla/stream_executor/cuda/cuda_fft.cc:609] Unable to register cuFFT factory: Attempting to register factory for plugin cuFFT when one has already been registered\n",
      "\u001b[36m(pid=3896229)\u001b[0m 2024-03-22 01:53:27.487395: E tensorflow/compiler/xla/stream_executor/cuda/cuda_blas.cc:1518] Unable to register cuBLAS factory: Attempting to register factory for plugin cuBLAS when one has already been registered\n"
     ]
    },
    {
     "name": "stderr",
     "output_type": "stream",
     "text": [
      "\u001b[36m(TrainLightGCN pid=3896062)\u001b[0m Checkpoint successfully created at: Checkpoint(filesystem=local, path=/home/daviddavo/ray_results/LightGCN_optim=map@10,dao=MetaCartel - MetaCartel Ventures,freq=W-THU,normalize=True,cutoff_date=2020-11-06T00:00:00,fold=9_2024-03-22T01:47:48.988892/TrainLightGCN_3bb67e66_93_batch_size=8,conv_layers=4,embedding_dim=1,fold=9,l2=0.0000,learning_rate=0.0003_2024-03-22_01-53-22/checkpoint_000000)\n"
     ]
    },
    {
     "name": "stderr",
     "output_type": "stream",
     "text": [
      "\u001b[36m(pid=3896399)\u001b[0m 2024-03-22 01:53:31.081572: E tensorflow/compiler/xla/stream_executor/cuda/cuda_dnn.cc:9342] Unable to register cuDNN factory: Attempting to register factory for plugin cuDNN when one has already been registered\n",
      "\u001b[36m(pid=3896399)\u001b[0m 2024-03-22 01:53:31.081606: E tensorflow/compiler/xla/stream_executor/cuda/cuda_fft.cc:609] Unable to register cuFFT factory: Attempting to register factory for plugin cuFFT when one has already been registered\n",
      "\u001b[36m(pid=3896399)\u001b[0m 2024-03-22 01:53:31.081622: E tensorflow/compiler/xla/stream_executor/cuda/cuda_blas.cc:1518] Unable to register cuBLAS factory: Attempting to register factory for plugin cuBLAS when one has already been registered\n",
      "\u001b[36m(TrainLightGCN pid=3896229)\u001b[0m /home/daviddavo/upm-tfm-notebooks/.direnv/python-3.9/lib/python3.9/site-packages/recommenders/models/deeprec/DataModel/ImplicitCF.py:73: FutureWarning: The frame.append method is deprecated and will be removed from pandas in a future version. Use pandas.concat instead.\n",
      "\u001b[36m(TrainLightGCN pid=3896229)\u001b[0m   df = train if test is None else train.append(test)\n"
     ]
    },
    {
     "name": "stderr",
     "output_type": "stream",
     "text": [
      "\u001b[36m(TrainLightGCN pid=3896399)\u001b[0m /home/daviddavo/upm-tfm-notebooks/.direnv/python-3.9/lib/python3.9/site-packages/recommenders/models/deeprec/DataModel/ImplicitCF.py:73: FutureWarning: The frame.append method is deprecated and will be removed from pandas in a future version. Use pandas.concat instead.\n",
      "\u001b[36m(TrainLightGCN pid=3896399)\u001b[0m   df = train if test is None else train.append(test)\n"
     ]
    },
    {
     "name": "stdout",
     "output_type": "stream",
     "text": [
      "\u001b[36m(TrainLightGCN pid=3896399)\u001b[0m Already create adjacency matrix.\u001b[32m [repeated 2x across cluster]\u001b[0m\n",
      "\u001b[36m(TrainLightGCN pid=3896399)\u001b[0m Already normalize adjacency matrix.\u001b[32m [repeated 2x across cluster]\u001b[0m\n",
      "\u001b[36m(TrainLightGCN pid=3896399)\u001b[0m Using xavier initialization.\u001b[32m [repeated 2x across cluster]\u001b[0m\n"
     ]
    },
    {
     "name": "stderr",
     "output_type": "stream",
     "text": [
      "\u001b[36m(TrainLightGCN pid=3896229)\u001b[0m Checkpoint successfully created at: Checkpoint(filesystem=local, path=/home/daviddavo/ray_results/LightGCN_optim=map@10,dao=MetaCartel - MetaCartel Ventures,freq=W-THU,normalize=True,cutoff_date=2020-11-06T00:00:00,fold=9_2024-03-22T01:47:48.988892/TrainLightGCN_a294d7f7_94_batch_size=6,conv_layers=5,embedding_dim=106,fold=9,l2=0.0004,learning_rate=0.0121_2024-03-22_01-53-26/checkpoint_000000)\n"
     ]
    },
    {
     "name": "stderr",
     "output_type": "stream",
     "text": [
      "\u001b[36m(pid=3896560)\u001b[0m 2024-03-22 01:53:34.692957: E tensorflow/compiler/xla/stream_executor/cuda/cuda_dnn.cc:9342] Unable to register cuDNN factory: Attempting to register factory for plugin cuDNN when one has already been registered\n",
      "\u001b[36m(pid=3896560)\u001b[0m 2024-03-22 01:53:34.692991: E tensorflow/compiler/xla/stream_executor/cuda/cuda_fft.cc:609] Unable to register cuFFT factory: Attempting to register factory for plugin cuFFT when one has already been registered\n",
      "\u001b[36m(pid=3896560)\u001b[0m 2024-03-22 01:53:34.693005: E tensorflow/compiler/xla/stream_executor/cuda/cuda_blas.cc:1518] Unable to register cuBLAS factory: Attempting to register factory for plugin cuBLAS when one has already been registered\n"
     ]
    },
    {
     "name": "stderr",
     "output_type": "stream",
     "text": [
      "\u001b[36m(TrainLightGCN pid=3896399)\u001b[0m Checkpoint successfully created at: Checkpoint(filesystem=local, path=/home/daviddavo/ray_results/LightGCN_optim=map@10,dao=MetaCartel - MetaCartel Ventures,freq=W-THU,normalize=True,cutoff_date=2020-11-06T00:00:00,fold=9_2024-03-22T01:47:48.988892/TrainLightGCN_45525b8f_95_batch_size=8,conv_layers=4,embedding_dim=4,fold=9,l2=0.0000,learning_rate=0.0043_2024-03-22_01-53-30/checkpoint_000000)\n"
     ]
    },
    {
     "name": "stderr",
     "output_type": "stream",
     "text": [
      "\u001b[36m(pid=3896736)\u001b[0m 2024-03-22 01:53:38.352725: E tensorflow/compiler/xla/stream_executor/cuda/cuda_dnn.cc:9342] Unable to register cuDNN factory: Attempting to register factory for plugin cuDNN when one has already been registered\n",
      "\u001b[36m(pid=3896736)\u001b[0m 2024-03-22 01:53:38.352761: E tensorflow/compiler/xla/stream_executor/cuda/cuda_fft.cc:609] Unable to register cuFFT factory: Attempting to register factory for plugin cuFFT when one has already been registered\n",
      "\u001b[36m(pid=3896736)\u001b[0m 2024-03-22 01:53:38.352774: E tensorflow/compiler/xla/stream_executor/cuda/cuda_blas.cc:1518] Unable to register cuBLAS factory: Attempting to register factory for plugin cuBLAS when one has already been registered\n",
      "\u001b[36m(TrainLightGCN pid=3896560)\u001b[0m /home/daviddavo/upm-tfm-notebooks/.direnv/python-3.9/lib/python3.9/site-packages/recommenders/models/deeprec/DataModel/ImplicitCF.py:73: FutureWarning: The frame.append method is deprecated and will be removed from pandas in a future version. Use pandas.concat instead.\n",
      "\u001b[36m(TrainLightGCN pid=3896560)\u001b[0m   df = train if test is None else train.append(test)\n"
     ]
    },
    {
     "name": "stdout",
     "output_type": "stream",
     "text": [
      "\u001b[36m(TrainLightGCN pid=3896736)\u001b[0m Already create adjacency matrix.\u001b[32m [repeated 2x across cluster]\u001b[0m\n",
      "\u001b[36m(TrainLightGCN pid=3896736)\u001b[0m Already normalize adjacency matrix.\u001b[32m [repeated 2x across cluster]\u001b[0m\n",
      "\u001b[36m(TrainLightGCN pid=3896736)\u001b[0m Using xavier initialization.\u001b[32m [repeated 2x across cluster]\u001b[0m\n"
     ]
    },
    {
     "name": "stderr",
     "output_type": "stream",
     "text": [
      "\u001b[36m(TrainLightGCN pid=3896736)\u001b[0m /home/daviddavo/upm-tfm-notebooks/.direnv/python-3.9/lib/python3.9/site-packages/recommenders/models/deeprec/DataModel/ImplicitCF.py:73: FutureWarning: The frame.append method is deprecated and will be removed from pandas in a future version. Use pandas.concat instead.\n",
      "\u001b[36m(TrainLightGCN pid=3896736)\u001b[0m   df = train if test is None else train.append(test)\n"
     ]
    },
    {
     "name": "stderr",
     "output_type": "stream",
     "text": [
      "\u001b[36m(TrainLightGCN pid=3896736)\u001b[0m Checkpoint successfully created at: Checkpoint(filesystem=local, path=/home/daviddavo/ray_results/LightGCN_optim=map@10,dao=MetaCartel - MetaCartel Ventures,freq=W-THU,normalize=True,cutoff_date=2020-11-06T00:00:00,fold=9_2024-03-22T01:47:48.988892/TrainLightGCN_0672fc6d_97_batch_size=9,conv_layers=1,embedding_dim=3,fold=9,l2=0.0000,learning_rate=0.0001_2024-03-22_01-53-37/checkpoint_000000)\u001b[32m [repeated 2x across cluster]\u001b[0m\n",
      "\u001b[36m(pid=3896897)\u001b[0m 2024-03-22 01:53:42.020099: E tensorflow/compiler/xla/stream_executor/cuda/cuda_dnn.cc:9342] Unable to register cuDNN factory: Attempting to register factory for plugin cuDNN when one has already been registered\n",
      "\u001b[36m(pid=3896897)\u001b[0m 2024-03-22 01:53:42.020130: E tensorflow/compiler/xla/stream_executor/cuda/cuda_fft.cc:609] Unable to register cuFFT factory: Attempting to register factory for plugin cuFFT when one has already been registered\n",
      "\u001b[36m(pid=3896897)\u001b[0m 2024-03-22 01:53:42.020147: E tensorflow/compiler/xla/stream_executor/cuda/cuda_blas.cc:1518] Unable to register cuBLAS factory: Attempting to register factory for plugin cuBLAS when one has already been registered\n"
     ]
    },
    {
     "name": "stderr",
     "output_type": "stream",
     "text": [
      "\u001b[36m(pid=3897070)\u001b[0m 2024-03-22 01:53:45.650667: E tensorflow/compiler/xla/stream_executor/cuda/cuda_dnn.cc:9342] Unable to register cuDNN factory: Attempting to register factory for plugin cuDNN when one has already been registered\n",
      "\u001b[36m(pid=3897070)\u001b[0m 2024-03-22 01:53:45.650699: E tensorflow/compiler/xla/stream_executor/cuda/cuda_fft.cc:609] Unable to register cuFFT factory: Attempting to register factory for plugin cuFFT when one has already been registered\n",
      "\u001b[36m(pid=3897070)\u001b[0m 2024-03-22 01:53:45.650716: E tensorflow/compiler/xla/stream_executor/cuda/cuda_blas.cc:1518] Unable to register cuBLAS factory: Attempting to register factory for plugin cuBLAS when one has already been registered\n",
      "\u001b[36m(TrainLightGCN pid=3896897)\u001b[0m /home/daviddavo/upm-tfm-notebooks/.direnv/python-3.9/lib/python3.9/site-packages/recommenders/models/deeprec/DataModel/ImplicitCF.py:73: FutureWarning: The frame.append method is deprecated and will be removed from pandas in a future version. Use pandas.concat instead.\n",
      "\u001b[36m(TrainLightGCN pid=3896897)\u001b[0m   df = train if test is None else train.append(test)\n"
     ]
    },
    {
     "name": "stdout",
     "output_type": "stream",
     "text": [
      "\u001b[36m(TrainLightGCN pid=3897070)\u001b[0m Already create adjacency matrix.\u001b[32m [repeated 2x across cluster]\u001b[0m\n",
      "\u001b[36m(TrainLightGCN pid=3897070)\u001b[0m Already normalize adjacency matrix.\u001b[32m [repeated 2x across cluster]\u001b[0m\n",
      "\u001b[36m(TrainLightGCN pid=3897070)\u001b[0m Using xavier initialization.\u001b[32m [repeated 2x across cluster]\u001b[0m\n"
     ]
    },
    {
     "name": "stderr",
     "output_type": "stream",
     "text": [
      "\u001b[36m(TrainLightGCN pid=3897070)\u001b[0m /home/daviddavo/upm-tfm-notebooks/.direnv/python-3.9/lib/python3.9/site-packages/recommenders/models/deeprec/DataModel/ImplicitCF.py:73: FutureWarning: The frame.append method is deprecated and will be removed from pandas in a future version. Use pandas.concat instead.\n",
      "\u001b[36m(TrainLightGCN pid=3897070)\u001b[0m   df = train if test is None else train.append(test)\n"
     ]
    },
    {
     "name": "stderr",
     "output_type": "stream",
     "text": [
      "\u001b[36m(TrainLightGCN pid=3896897)\u001b[0m Checkpoint successfully created at: Checkpoint(filesystem=local, path=/home/daviddavo/ray_results/LightGCN_optim=map@10,dao=MetaCartel - MetaCartel Ventures,freq=W-THU,normalize=True,cutoff_date=2020-11-06T00:00:00,fold=9_2024-03-22T01:47:48.988892/TrainLightGCN_817cfe74_98_batch_size=8,conv_layers=5,embedding_dim=463,fold=9,l2=0.0000,learning_rate=0.0861_2024-03-22_01-53-40/checkpoint_000000)\n"
     ]
    },
    {
     "name": "stderr",
     "output_type": "stream",
     "text": [
      "\u001b[36m(TrainLightGCN pid=3897070)\u001b[0m Checkpoint successfully created at: Checkpoint(filesystem=local, path=/home/daviddavo/ray_results/LightGCN_optim=map@10,dao=MetaCartel - MetaCartel Ventures,freq=W-THU,normalize=True,cutoff_date=2020-11-06T00:00:00,fold=9_2024-03-22T01:47:48.988892/TrainLightGCN_b7ce5cac_99_batch_size=9,conv_layers=1,embedding_dim=12,fold=9,l2=0.0018,learning_rate=0.0066_2024-03-22_01-53-44/checkpoint_000000)\n",
      "\u001b[36m(pid=3897236)\u001b[0m 2024-03-22 01:53:49.206023: E tensorflow/compiler/xla/stream_executor/cuda/cuda_dnn.cc:9342] Unable to register cuDNN factory: Attempting to register factory for plugin cuDNN when one has already been registered\n",
      "\u001b[36m(pid=3897236)\u001b[0m 2024-03-22 01:53:49.206051: E tensorflow/compiler/xla/stream_executor/cuda/cuda_fft.cc:609] Unable to register cuFFT factory: Attempting to register factory for plugin cuFFT when one has already been registered\n",
      "\u001b[36m(pid=3897236)\u001b[0m 2024-03-22 01:53:49.206064: E tensorflow/compiler/xla/stream_executor/cuda/cuda_blas.cc:1518] Unable to register cuBLAS factory: Attempting to register factory for plugin cuBLAS when one has already been registered\n"
     ]
    },
    {
     "name": "stderr",
     "output_type": "stream",
     "text": [
      "\u001b[36m(TrainLightGCN pid=3897236)\u001b[0m /home/daviddavo/upm-tfm-notebooks/.direnv/python-3.9/lib/python3.9/site-packages/recommenders/models/deeprec/DataModel/ImplicitCF.py:73: FutureWarning: The frame.append method is deprecated and will be removed from pandas in a future version. Use pandas.concat instead.\n",
      "\u001b[36m(TrainLightGCN pid=3897236)\u001b[0m   df = train if test is None else train.append(test)\n"
     ]
    },
    {
     "name": "stderr",
     "output_type": "stream",
     "text": [
      "2024-03-22 01:53:54,762\tINFO tune.py:1042 -- Total run time: 365.77 seconds (365.74 seconds for the tuning loop).\n"
     ]
    }
   ],
   "source": [
    "import logging\n",
    "\n",
    "def findConfig(rg):\n",
    "    for r in rg:\n",
    "        if r.config:\n",
    "            msk = [r.config[k] == v for k, v in last_best_result.config.items() if k != 'fold']\n",
    "            if all(msk):\n",
    "                return r\n",
    "            elif sum(msk) >= 3:\n",
    "                print(r.config, msk)\n",
    "\n",
    "    return None\n",
    "\n",
    "tuners = []\n",
    "results = []\n",
    "last_best_result = None\n",
    "for f in range(LAST_SPLITS):\n",
    "    best_prev_config = None\n",
    "    if last_best_result is not None:\n",
    "        best_prev_config = last_best_result.config.copy()\n",
    "        best_prev_config['fold'] += 1\n",
    "        best_prev_config = [best_prev_config]\n",
    "    \n",
    "    t = getTunerOnFold(f, best_prev_config)\n",
    "    tuners.append(t)\n",
    "\n",
    "    rg = t.fit()\n",
    "    assert rg.num_errors == 0, f\"There are {rg.num_errors} errors\"\n",
    "    assert rg.num_terminated == NUM_SAMPLES, f'Some samples are not terminated ({rg.num_terminated} != {NUM_SAMPLES})'\n",
    "    results.append(rg)\n",
    "\n",
    "    # Assert that the prev config has been tried\n",
    "    if last_best_result is not None:\n",
    "        # if not any( \n",
    "        #     all((r.config[k] == v for k, v in last_best_result.config.items() if k != 'fold'))\n",
    "        #     for r in rg if r.config\n",
    "        # ):\n",
    "        if not findConfig(rg):\n",
    "            print(\"Best config:\", last_best_result.config)\n",
    "            assert False, f\"The best config from previous fold has not been tested in fold {f}\"\n",
    "        else:\n",
    "            logging.info(f'Fold {f}. Best prev result was {last_best_result.path} and config has been found {findConfig(rg).path}')\n",
    "    \n",
    "    last_best_result = rg.get_best_result()"
   ]
  },
  {
   "cell_type": "code",
   "execution_count": 23,
   "id": "d5bc38c5-05b3-41d0-9eb6-98168aede6ba",
   "metadata": {
    "execution": {
     "iopub.execute_input": "2024-03-22T01:53:54.921495Z",
     "iopub.status.busy": "2024-03-22T01:53:54.921068Z",
     "iopub.status.idle": "2024-03-22T01:53:54.952413Z",
     "shell.execute_reply": "2024-03-22T01:53:54.951999Z"
    },
    "papermill": {
     "duration": 0.043107,
     "end_time": "2024-03-22T01:53:54.953247",
     "exception": false,
     "start_time": "2024-03-22T01:53:54.910140",
     "status": "completed"
    },
    "tags": []
   },
   "outputs": [
    {
     "name": "stdout",
     "output_type": "stream",
     "text": [
      "All finished!\n"
     ]
    }
   ],
   "source": [
    "# This is needed for papermill to run the whole notebook and not stop above\n",
    "# because ray tune catches the exception\n",
    "\n",
    "print(\"All finished!\")"
   ]
  }
 ],
 "metadata": {
  "kernelspec": {
   "display_name": "Python 3 (ipykernel)",
   "language": "python",
   "name": "python3"
  },
  "language_info": {
   "codemirror_mode": {
    "name": "ipython",
    "version": 3
   },
   "file_extension": ".py",
   "mimetype": "text/x-python",
   "name": "python",
   "nbconvert_exporter": "python",
   "pygments_lexer": "ipython3",
   "version": "3.9.18"
  },
  "papermill": {
   "default_parameters": {},
   "duration": 3661.685529,
   "end_time": "2024-03-22T01:54:00.190766",
   "environment_variables": {},
   "exception": null,
   "input_path": "07_microsoft_tuning.ipynb",
   "output_path": "nbout/MetaCartel - MetaCartel Ventures/07_microsoft_tuning.ipynb",
   "parameters": {
    "CUTOFF_DATE_STR": "2020-11-06",
    "EXECUTION_ID": "2024-03-21",
    "LAST_SPLITS": 10,
    "ORG_NAME": "MetaCartel - MetaCartel Ventures",
    "ORG_PLATFORM": [
     "daohaus",
     "snapshot"
    ],
    "SPLITS_FREQ": "W-THU",
    "SPLITS_NORMALIZE": true,
    "USE_ORG_NAMES": true
   },
   "start_time": "2024-03-22T00:52:58.505237",
   "version": "2.5.0"
  },
  "widgets": {
   "application/vnd.jupyter.widget-state+json": {
    "state": {},
    "version_major": 2,
    "version_minor": 0
   }
  }
 },
 "nbformat": 4,
 "nbformat_minor": 5
}