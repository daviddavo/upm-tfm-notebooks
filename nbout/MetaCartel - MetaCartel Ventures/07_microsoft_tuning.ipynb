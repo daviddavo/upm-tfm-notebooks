{
 "cells": [
  {
   "cell_type": "code",
   "execution_count": 1,
   "id": "cf98a9e1-f3e0-4c0a-96c1-30f305901246",
   "metadata": {
    "editable": true,
    "execution": {
     "iopub.execute_input": "2024-03-09T08:42:31.473629Z",
     "iopub.status.busy": "2024-03-09T08:42:31.472957Z",
     "iopub.status.idle": "2024-03-09T08:42:33.897742Z",
     "shell.execute_reply": "2024-03-09T08:42:33.897464Z"
    },
    "papermill": {
     "duration": 2.436271,
     "end_time": "2024-03-09T08:42:33.898664",
     "exception": false,
     "start_time": "2024-03-09T08:42:31.462393",
     "status": "completed"
    },
    "slideshow": {
     "slide_type": ""
    },
    "tags": []
   },
   "outputs": [
    {
     "name": "stdout",
     "output_type": "stream",
     "text": [
      "Python version 3.9.18 (main, Oct 24 2023, 09:18:18) \n",
      "[GCC 11.4.0]\n"
     ]
    },
    {
     "name": "stderr",
     "output_type": "stream",
     "text": [
      "2024-03-09 08:42:31.794277: E tensorflow/compiler/xla/stream_executor/cuda/cuda_dnn.cc:9342] Unable to register cuDNN factory: Attempting to register factory for plugin cuDNN when one has already been registered\n",
      "2024-03-09 08:42:31.794301: E tensorflow/compiler/xla/stream_executor/cuda/cuda_fft.cc:609] Unable to register cuFFT factory: Attempting to register factory for plugin cuFFT when one has already been registered\n",
      "2024-03-09 08:42:31.794317: E tensorflow/compiler/xla/stream_executor/cuda/cuda_blas.cc:1518] Unable to register cuBLAS factory: Attempting to register factory for plugin cuBLAS when one has already been registered\n"
     ]
    },
    {
     "name": "stdout",
     "output_type": "stream",
     "text": [
      "11.8 8\n",
      "Ray version: 2.9.1\n"
     ]
    }
   ],
   "source": [
    "from typing import Dict, List, Tuple, Union, Any, Optional\n",
    "\n",
    "import os\n",
    "import sys\n",
    "import time\n",
    "print(\"Python version\", sys.version)\n",
    "\n",
    "# Ignore pandas warnings\n",
    "import warnings\n",
    "warnings.simplefilter(action='ignore', category=FutureWarning)\n",
    "\n",
    "from pathlib import Path\n",
    "\n",
    "import pandas as pd\n",
    "import numpy as np\n",
    "import tensorflow as tf\n",
    "import datetime as dt\n",
    "\n",
    "from tqdm.autonotebook import tqdm\n",
    "\n",
    "import ray\n",
    "from ray import train, tune\n",
    "\n",
    "from src.datasets import daocensus_text\n",
    "\n",
    "%load_ext autoreload\n",
    "%autoreload 2\n",
    "\n",
    "tf.get_logger().setLevel('WARNING')\n",
    "\n",
    "tf.config.list_physical_devices(\"GPU\")\n",
    "sys_details = tf.sysconfig.get_build_info()\n",
    "cuda = sys_details.get(\"cuda_version\", -1)\n",
    "cudnn = sys_details.get(\"cudnn_version\", -1)\n",
    "print(cuda, cudnn)\n",
    "print('Ray version:', ray.__version__)"
   ]
  },
  {
   "cell_type": "code",
   "execution_count": 2,
   "id": "798161a7-5414-4626-9dfb-6d71823bf4c7",
   "metadata": {
    "editable": true,
    "execution": {
     "iopub.execute_input": "2024-03-09T08:42:33.904877Z",
     "iopub.status.busy": "2024-03-09T08:42:33.904643Z",
     "iopub.status.idle": "2024-03-09T08:42:33.927013Z",
     "shell.execute_reply": "2024-03-09T08:42:33.926776Z"
    },
    "papermill": {
     "duration": 0.026126,
     "end_time": "2024-03-09T08:42:33.927878",
     "exception": false,
     "start_time": "2024-03-09T08:42:33.901752",
     "status": "completed"
    },
    "slideshow": {
     "slide_type": ""
    },
    "tags": [
     "parameters"
    ]
   },
   "outputs": [],
   "source": [
    "# Others config\n",
    "SEED: int = 57\n",
    "RAY_RESULTS_PATH: Path = Path('~/ray_results').expanduser()\n",
    "\n",
    "# Dataset config\n",
    "ORG_NAME = 'Decentraland'\n",
    "ORG_PLATFORM = 'snapshot'\n",
    "USE_ORG_NAMES: bool = False\n",
    "CUTOFF_DATE_STR: str = None\n",
    "\n",
    "# Dataset splits config\n",
    "SPLITS_FREQ = 'W-THU' # Split weekly\n",
    "LAST_SPLITS = 10 # Use just last 10 splits\n",
    "SPLITS_NORMALIZE = True\n",
    "\n",
    "# Training config\n",
    "MAX_EPOCHS: int = 200\n",
    "EPOCHS_PER_ITER: int = 5\n",
    "SAMPLES_PER_SPLIT: int = 100\n",
    "OPTIM_METRIC: str = 'map@10'\n",
    "\n",
    "# Eval config\n",
    "TOP_K: List[int] = [5, 10]\n",
    "METRICS: List[str] = [\"recall\", \"ndcg\", \"precision\", \"map\"]"
   ]
  },
  {
   "cell_type": "code",
   "execution_count": 3,
   "id": "7175ae25",
   "metadata": {
    "execution": {
     "iopub.execute_input": "2024-03-09T08:42:33.932826Z",
     "iopub.status.busy": "2024-03-09T08:42:33.932701Z",
     "iopub.status.idle": "2024-03-09T08:42:33.953123Z",
     "shell.execute_reply": "2024-03-09T08:42:33.952915Z"
    },
    "papermill": {
     "duration": 0.023885,
     "end_time": "2024-03-09T08:42:33.953965",
     "exception": false,
     "start_time": "2024-03-09T08:42:33.930080",
     "status": "completed"
    },
    "tags": [
     "injected-parameters"
    ]
   },
   "outputs": [],
   "source": [
    "# Parameters\n",
    "ORG_NAME = \"MetaCartel - MetaCartel Ventures\"\n",
    "ORG_PLATFORM = [\"daohaus\", \"snapshot\"]\n",
    "SPLITS_FREQ = \"W-THU\"\n",
    "SPLITS_NORMALIZE = True\n",
    "LAST_SPLITS = 10\n",
    "USE_ORG_NAMES = True\n",
    "EXECUTION_ID = \"2024-03-08 10:00\"\n",
    "CUTOFF_DATE_STR = \"2020-11-06\"\n"
   ]
  },
  {
   "cell_type": "code",
   "execution_count": 4,
   "id": "cb3db761-9d3b-4a8b-9164-1008f2e8bab5",
   "metadata": {
    "execution": {
     "iopub.execute_input": "2024-03-09T08:42:33.958800Z",
     "iopub.status.busy": "2024-03-09T08:42:33.958708Z",
     "iopub.status.idle": "2024-03-09T08:42:33.975843Z",
     "shell.execute_reply": "2024-03-09T08:42:33.975633Z"
    },
    "papermill": {
     "duration": 0.020564,
     "end_time": "2024-03-09T08:42:33.976690",
     "exception": false,
     "start_time": "2024-03-09T08:42:33.956126",
     "status": "completed"
    },
    "tags": []
   },
   "outputs": [],
   "source": [
    "CUTOFF_DATE = dt.datetime.fromisoformat(CUTOFF_DATE_STR) if CUTOFF_DATE_STR else None"
   ]
  },
  {
   "cell_type": "markdown",
   "id": "ab0ff2f2-bdaa-46eb-87d1-c4481734b8c0",
   "metadata": {
    "papermill": {
     "duration": 0.002166,
     "end_time": "2024-03-09T08:42:33.981054",
     "exception": false,
     "start_time": "2024-03-09T08:42:33.978888",
     "status": "completed"
    },
    "tags": []
   },
   "source": [
    "# Load data"
   ]
  },
  {
   "cell_type": "code",
   "execution_count": 5,
   "id": "765a4892-6a85-40ab-a65d-c0d76b0569b2",
   "metadata": {
    "editable": true,
    "execution": {
     "iopub.execute_input": "2024-03-09T08:42:33.985865Z",
     "iopub.status.busy": "2024-03-09T08:42:33.985738Z",
     "iopub.status.idle": "2024-03-09T08:42:34.910387Z",
     "shell.execute_reply": "2024-03-09T08:42:34.909846Z"
    },
    "papermill": {
     "duration": 0.928048,
     "end_time": "2024-03-09T08:42:34.911198",
     "exception": false,
     "start_time": "2024-03-09T08:42:33.983150",
     "status": "completed"
    },
    "scrolled": true,
    "slideshow": {
     "slide_type": ""
    },
    "tags": []
   },
   "outputs": [
    {
     "data": {
      "text/html": [
       "<div>\n",
       "<style scoped>\n",
       "    .dataframe tbody tr th:only-of-type {\n",
       "        vertical-align: middle;\n",
       "    }\n",
       "\n",
       "    .dataframe tbody tr th {\n",
       "        vertical-align: top;\n",
       "    }\n",
       "\n",
       "    .dataframe thead th {\n",
       "        text-align: right;\n",
       "    }\n",
       "</style>\n",
       "<table border=\"1\" class=\"dataframe\">\n",
       "  <thead>\n",
       "    <tr style=\"text-align: right;\">\n",
       "      <th></th>\n",
       "      <th>platform</th>\n",
       "      <th>name</th>\n",
       "      <th>id</th>\n",
       "      <th>proposal</th>\n",
       "      <th>deployment</th>\n",
       "      <th>platform_vote</th>\n",
       "      <th>voter</th>\n",
       "      <th>date</th>\n",
       "      <th>choice</th>\n",
       "      <th>weight</th>\n",
       "    </tr>\n",
       "  </thead>\n",
       "  <tbody>\n",
       "    <tr>\n",
       "      <th>0</th>\n",
       "      <td>daohaus</td>\n",
       "      <td>MetaCartel - MetaCartel Ventures</td>\n",
       "      <td>a7a47c63-4c4d-58ae-88ee-f6ce6946d088</td>\n",
       "      <td>b23fab43-3b08-5638-b13d-0e286cadb04b</td>\n",
       "      <td>b5c669ac-488c-5b91-82cc-e98add7af0b7</td>\n",
       "      <td>0x0372f3696fa7dc99801f435fd6737e57818239f2-mem...</td>\n",
       "      <td>0x0eabffd8ce94ab2387fc44ba32642af0c58af433</td>\n",
       "      <td>2020-04-01 03:11:46</td>\n",
       "      <td>1</td>\n",
       "      <td>NaN</td>\n",
       "    </tr>\n",
       "    <tr>\n",
       "      <th>1</th>\n",
       "      <td>daohaus</td>\n",
       "      <td>MetaCartel - MetaCartel Ventures</td>\n",
       "      <td>f1a74998-e2f3-55f0-964e-f3a8aa56c5c5</td>\n",
       "      <td>18f8c9fd-9796-5802-ab78-b449c65ffb50</td>\n",
       "      <td>b5c669ac-488c-5b91-82cc-e98add7af0b7</td>\n",
       "      <td>0x0372f3696fa7dc99801f435fd6737e57818239f2-mem...</td>\n",
       "      <td>0x0eabffd8ce94ab2387fc44ba32642af0c58af433</td>\n",
       "      <td>2020-06-17 03:08:43</td>\n",
       "      <td>1</td>\n",
       "      <td>NaN</td>\n",
       "    </tr>\n",
       "    <tr>\n",
       "      <th>2</th>\n",
       "      <td>daohaus</td>\n",
       "      <td>MetaCartel - MetaCartel Ventures</td>\n",
       "      <td>ae6f03c5-adb5-50d5-849b-761a928ec3f6</td>\n",
       "      <td>2a062f74-c7cb-5625-b8ba-537b23ae5318</td>\n",
       "      <td>b5c669ac-488c-5b91-82cc-e98add7af0b7</td>\n",
       "      <td>0x0372f3696fa7dc99801f435fd6737e57818239f2-mem...</td>\n",
       "      <td>0x0eabffd8ce94ab2387fc44ba32642af0c58af433</td>\n",
       "      <td>2019-07-25 20:06:53</td>\n",
       "      <td>1</td>\n",
       "      <td>NaN</td>\n",
       "    </tr>\n",
       "    <tr>\n",
       "      <th>3</th>\n",
       "      <td>daohaus</td>\n",
       "      <td>MetaCartel - MetaCartel Ventures</td>\n",
       "      <td>c00e1243-5304-521c-8c98-eae0c80619b4</td>\n",
       "      <td>3eff52ec-93aa-5c41-9ff2-3a18d278d138</td>\n",
       "      <td>b5c669ac-488c-5b91-82cc-e98add7af0b7</td>\n",
       "      <td>0x0372f3696fa7dc99801f435fd6737e57818239f2-mem...</td>\n",
       "      <td>0x0eabffd8ce94ab2387fc44ba32642af0c58af433</td>\n",
       "      <td>2019-07-30 18:13:46</td>\n",
       "      <td>1</td>\n",
       "      <td>NaN</td>\n",
       "    </tr>\n",
       "    <tr>\n",
       "      <th>4</th>\n",
       "      <td>daohaus</td>\n",
       "      <td>MetaCartel - MetaCartel Ventures</td>\n",
       "      <td>98963761-315a-530b-9210-aaae317182b1</td>\n",
       "      <td>b21a24a0-1a16-55a1-8c0e-c97ed7cf8e69</td>\n",
       "      <td>b5c669ac-488c-5b91-82cc-e98add7af0b7</td>\n",
       "      <td>0x0372f3696fa7dc99801f435fd6737e57818239f2-mem...</td>\n",
       "      <td>0x0eabffd8ce94ab2387fc44ba32642af0c58af433</td>\n",
       "      <td>2019-08-06 18:25:25</td>\n",
       "      <td>1</td>\n",
       "      <td>NaN</td>\n",
       "    </tr>\n",
       "    <tr>\n",
       "      <th>...</th>\n",
       "      <td>...</td>\n",
       "      <td>...</td>\n",
       "      <td>...</td>\n",
       "      <td>...</td>\n",
       "      <td>...</td>\n",
       "      <td>...</td>\n",
       "      <td>...</td>\n",
       "      <td>...</td>\n",
       "      <td>...</td>\n",
       "      <td>...</td>\n",
       "    </tr>\n",
       "    <tr>\n",
       "      <th>1100</th>\n",
       "      <td>daohaus</td>\n",
       "      <td>MetaCartel - MetaCartel Ventures</td>\n",
       "      <td>b6e5b58c-3f16-51ec-b4a7-4f7be375709a</td>\n",
       "      <td>ed418dda-7d6f-5e96-abfc-be7e834082b6</td>\n",
       "      <td>899cc74b-f242-5fd2-a270-763436927977</td>\n",
       "      <td>0x4570b4faf71e23942b8b9f934b47ccedf7540162-mem...</td>\n",
       "      <td>0xfdc6a17917115498a3ed417d4a89224685f26ea3</td>\n",
       "      <td>2020-10-13 16:30:12</td>\n",
       "      <td>1</td>\n",
       "      <td>769.0</td>\n",
       "    </tr>\n",
       "    <tr>\n",
       "      <th>1101</th>\n",
       "      <td>daohaus</td>\n",
       "      <td>MetaCartel - MetaCartel Ventures</td>\n",
       "      <td>646da2cf-29ba-5257-9396-0dba4ed0310f</td>\n",
       "      <td>b1ee7c7d-25d9-5fe4-90d3-7cac48beadda</td>\n",
       "      <td>899cc74b-f242-5fd2-a270-763436927977</td>\n",
       "      <td>0x4570b4faf71e23942b8b9f934b47ccedf7540162-mem...</td>\n",
       "      <td>0xfdc6a17917115498a3ed417d4a89224685f26ea3</td>\n",
       "      <td>2020-10-20 03:11:35</td>\n",
       "      <td>1</td>\n",
       "      <td>769.0</td>\n",
       "    </tr>\n",
       "    <tr>\n",
       "      <th>1102</th>\n",
       "      <td>daohaus</td>\n",
       "      <td>MetaCartel - MetaCartel Ventures</td>\n",
       "      <td>f9760482-0a78-55d2-8ac0-750a29b7670a</td>\n",
       "      <td>ea49447a-f0a2-5bba-8ad5-45df68670c67</td>\n",
       "      <td>899cc74b-f242-5fd2-a270-763436927977</td>\n",
       "      <td>0x4570b4faf71e23942b8b9f934b47ccedf7540162-mem...</td>\n",
       "      <td>0xfdc6a17917115498a3ed417d4a89224685f26ea3</td>\n",
       "      <td>2020-10-20 03:11:52</td>\n",
       "      <td>1</td>\n",
       "      <td>769.0</td>\n",
       "    </tr>\n",
       "    <tr>\n",
       "      <th>1103</th>\n",
       "      <td>daohaus</td>\n",
       "      <td>MetaCartel - MetaCartel Ventures</td>\n",
       "      <td>44f10cb1-5a02-5602-b979-d493de67b502</td>\n",
       "      <td>0dc04c0d-be1b-5b91-8454-d465ac413f96</td>\n",
       "      <td>899cc74b-f242-5fd2-a270-763436927977</td>\n",
       "      <td>0x4570b4faf71e23942b8b9f934b47ccedf7540162-mem...</td>\n",
       "      <td>0xfdc6a17917115498a3ed417d4a89224685f26ea3</td>\n",
       "      <td>2020-10-20 03:11:52</td>\n",
       "      <td>1</td>\n",
       "      <td>769.0</td>\n",
       "    </tr>\n",
       "    <tr>\n",
       "      <th>1104</th>\n",
       "      <td>daohaus</td>\n",
       "      <td>MetaCartel - MetaCartel Ventures</td>\n",
       "      <td>0b128a27-ff18-59d4-8422-5cad44fc308f</td>\n",
       "      <td>fc50a86f-b886-5c9f-be4d-d35bf43dcef0</td>\n",
       "      <td>899cc74b-f242-5fd2-a270-763436927977</td>\n",
       "      <td>0x4570b4faf71e23942b8b9f934b47ccedf7540162-mem...</td>\n",
       "      <td>0xfdc6a17917115498a3ed417d4a89224685f26ea3</td>\n",
       "      <td>2020-10-27 18:44:01</td>\n",
       "      <td>1</td>\n",
       "      <td>769.0</td>\n",
       "    </tr>\n",
       "  </tbody>\n",
       "</table>\n",
       "<p>1105 rows × 10 columns</p>\n",
       "</div>"
      ],
      "text/plain": [
       "     platform                              name  \\\n",
       "0     daohaus  MetaCartel - MetaCartel Ventures   \n",
       "1     daohaus  MetaCartel - MetaCartel Ventures   \n",
       "2     daohaus  MetaCartel - MetaCartel Ventures   \n",
       "3     daohaus  MetaCartel - MetaCartel Ventures   \n",
       "4     daohaus  MetaCartel - MetaCartel Ventures   \n",
       "...       ...                               ...   \n",
       "1100  daohaus  MetaCartel - MetaCartel Ventures   \n",
       "1101  daohaus  MetaCartel - MetaCartel Ventures   \n",
       "1102  daohaus  MetaCartel - MetaCartel Ventures   \n",
       "1103  daohaus  MetaCartel - MetaCartel Ventures   \n",
       "1104  daohaus  MetaCartel - MetaCartel Ventures   \n",
       "\n",
       "                                        id  \\\n",
       "0     a7a47c63-4c4d-58ae-88ee-f6ce6946d088   \n",
       "1     f1a74998-e2f3-55f0-964e-f3a8aa56c5c5   \n",
       "2     ae6f03c5-adb5-50d5-849b-761a928ec3f6   \n",
       "3     c00e1243-5304-521c-8c98-eae0c80619b4   \n",
       "4     98963761-315a-530b-9210-aaae317182b1   \n",
       "...                                    ...   \n",
       "1100  b6e5b58c-3f16-51ec-b4a7-4f7be375709a   \n",
       "1101  646da2cf-29ba-5257-9396-0dba4ed0310f   \n",
       "1102  f9760482-0a78-55d2-8ac0-750a29b7670a   \n",
       "1103  44f10cb1-5a02-5602-b979-d493de67b502   \n",
       "1104  0b128a27-ff18-59d4-8422-5cad44fc308f   \n",
       "\n",
       "                                  proposal  \\\n",
       "0     b23fab43-3b08-5638-b13d-0e286cadb04b   \n",
       "1     18f8c9fd-9796-5802-ab78-b449c65ffb50   \n",
       "2     2a062f74-c7cb-5625-b8ba-537b23ae5318   \n",
       "3     3eff52ec-93aa-5c41-9ff2-3a18d278d138   \n",
       "4     b21a24a0-1a16-55a1-8c0e-c97ed7cf8e69   \n",
       "...                                    ...   \n",
       "1100  ed418dda-7d6f-5e96-abfc-be7e834082b6   \n",
       "1101  b1ee7c7d-25d9-5fe4-90d3-7cac48beadda   \n",
       "1102  ea49447a-f0a2-5bba-8ad5-45df68670c67   \n",
       "1103  0dc04c0d-be1b-5b91-8454-d465ac413f96   \n",
       "1104  fc50a86f-b886-5c9f-be4d-d35bf43dcef0   \n",
       "\n",
       "                                deployment  \\\n",
       "0     b5c669ac-488c-5b91-82cc-e98add7af0b7   \n",
       "1     b5c669ac-488c-5b91-82cc-e98add7af0b7   \n",
       "2     b5c669ac-488c-5b91-82cc-e98add7af0b7   \n",
       "3     b5c669ac-488c-5b91-82cc-e98add7af0b7   \n",
       "4     b5c669ac-488c-5b91-82cc-e98add7af0b7   \n",
       "...                                    ...   \n",
       "1100  899cc74b-f242-5fd2-a270-763436927977   \n",
       "1101  899cc74b-f242-5fd2-a270-763436927977   \n",
       "1102  899cc74b-f242-5fd2-a270-763436927977   \n",
       "1103  899cc74b-f242-5fd2-a270-763436927977   \n",
       "1104  899cc74b-f242-5fd2-a270-763436927977   \n",
       "\n",
       "                                          platform_vote  \\\n",
       "0     0x0372f3696fa7dc99801f435fd6737e57818239f2-mem...   \n",
       "1     0x0372f3696fa7dc99801f435fd6737e57818239f2-mem...   \n",
       "2     0x0372f3696fa7dc99801f435fd6737e57818239f2-mem...   \n",
       "3     0x0372f3696fa7dc99801f435fd6737e57818239f2-mem...   \n",
       "4     0x0372f3696fa7dc99801f435fd6737e57818239f2-mem...   \n",
       "...                                                 ...   \n",
       "1100  0x4570b4faf71e23942b8b9f934b47ccedf7540162-mem...   \n",
       "1101  0x4570b4faf71e23942b8b9f934b47ccedf7540162-mem...   \n",
       "1102  0x4570b4faf71e23942b8b9f934b47ccedf7540162-mem...   \n",
       "1103  0x4570b4faf71e23942b8b9f934b47ccedf7540162-mem...   \n",
       "1104  0x4570b4faf71e23942b8b9f934b47ccedf7540162-mem...   \n",
       "\n",
       "                                           voter                date choice  \\\n",
       "0     0x0eabffd8ce94ab2387fc44ba32642af0c58af433 2020-04-01 03:11:46      1   \n",
       "1     0x0eabffd8ce94ab2387fc44ba32642af0c58af433 2020-06-17 03:08:43      1   \n",
       "2     0x0eabffd8ce94ab2387fc44ba32642af0c58af433 2019-07-25 20:06:53      1   \n",
       "3     0x0eabffd8ce94ab2387fc44ba32642af0c58af433 2019-07-30 18:13:46      1   \n",
       "4     0x0eabffd8ce94ab2387fc44ba32642af0c58af433 2019-08-06 18:25:25      1   \n",
       "...                                          ...                 ...    ...   \n",
       "1100  0xfdc6a17917115498a3ed417d4a89224685f26ea3 2020-10-13 16:30:12      1   \n",
       "1101  0xfdc6a17917115498a3ed417d4a89224685f26ea3 2020-10-20 03:11:35      1   \n",
       "1102  0xfdc6a17917115498a3ed417d4a89224685f26ea3 2020-10-20 03:11:52      1   \n",
       "1103  0xfdc6a17917115498a3ed417d4a89224685f26ea3 2020-10-20 03:11:52      1   \n",
       "1104  0xfdc6a17917115498a3ed417d4a89224685f26ea3 2020-10-27 18:44:01      1   \n",
       "\n",
       "      weight  \n",
       "0        NaN  \n",
       "1        NaN  \n",
       "2        NaN  \n",
       "3        NaN  \n",
       "4        NaN  \n",
       "...      ...  \n",
       "1100   769.0  \n",
       "1101   769.0  \n",
       "1102   769.0  \n",
       "1103   769.0  \n",
       "1104   769.0  \n",
       "\n",
       "[1105 rows x 10 columns]"
      ]
     },
     "metadata": {},
     "output_type": "display_data"
    },
    {
     "name": "stdout",
     "output_type": "stream",
     "text": [
      "Warning, removing 1105 votes without proposal\n",
      "<class 'pandas.core.frame.DataFrame'>\n",
      "Int64Index: 1105 entries, 0 to 1104\n",
      "Data columns (total 10 columns):\n",
      " #   Column         Non-Null Count  Dtype         \n",
      "---  ------         --------------  -----         \n",
      " 0   platform       1105 non-null   object        \n",
      " 1   name           1105 non-null   object        \n",
      " 2   id             1105 non-null   object        \n",
      " 3   proposal       1105 non-null   category      \n",
      " 4   deployment     1105 non-null   object        \n",
      " 5   platform_vote  1105 non-null   object        \n",
      " 6   voter          1105 non-null   category      \n",
      " 7   date           1105 non-null   datetime64[ns]\n",
      " 8   choice         1105 non-null   object        \n",
      " 9   weight         686 non-null    float64       \n",
      "dtypes: category(2), datetime64[ns](1), float64(1), object(6)\n",
      "memory usage: 84.6+ KB\n",
      "None\n",
      "<class 'pandas.core.frame.DataFrame'>\n",
      "Int64Index: 373 entries, 0 to 372\n",
      "Data columns (total 13 columns):\n",
      " #   Column               Non-Null Count  Dtype         \n",
      "---  ------               --------------  -----         \n",
      " 0   platform             373 non-null    object        \n",
      " 1   name                 373 non-null    object        \n",
      " 2   platform_deployment  373 non-null    object        \n",
      " 3   id                   373 non-null    category      \n",
      " 4   deployment           373 non-null    object        \n",
      " 5   platform_proposal    373 non-null    object        \n",
      " 6   author               373 non-null    category      \n",
      " 7   date                 373 non-null    datetime64[ns]\n",
      " 8   title                372 non-null    object        \n",
      " 9   description          373 non-null    object        \n",
      " 10  start                373 non-null    datetime64[ns]\n",
      " 11  end                  231 non-null    datetime64[ns]\n",
      " 12  votes_count          373 non-null    int64         \n",
      "dtypes: category(2), datetime64[ns](3), int64(1), object(7)\n",
      "memory usage: 39.7+ KB\n",
      "None\n"
     ]
    }
   ],
   "source": [
    "# dfptext = pd.read_csv('./snapshot_proposals.csv')[['proposal_id', 'title', 'description', 'start', 'end']]\n",
    "# dfv, dfp = daocensus.get(\"./data/daos-census\", ORG_NAME, 'snapshot')\n",
    "# dfv['voter'] = dfv['voter'].astype('str')\n",
    "# dfp = dfp.merge(dfptext, how='left', left_on='platform_proposal', right_on='proposal_id')\n",
    "# dfp[['start', 'end']] = dfp[['start', 'end']].astype('datetime64')\n",
    "\n",
    "dfv, dfp = daocensus_text.get(\"./data/daos-census-text\", ORG_NAME, ORG_PLATFORM, use_org_names=USE_ORG_NAMES, cutoff_date=CUTOFF_DATE)\n",
    "print(dfv.info())\n",
    "print(dfp.info())"
   ]
  },
  {
   "cell_type": "markdown",
   "id": "df339c08-4f99-4933-886c-6ab774f09e63",
   "metadata": {
    "papermill": {
     "duration": 0.002846,
     "end_time": "2024-03-09T08:42:34.916996",
     "exception": false,
     "start_time": "2024-03-09T08:42:34.914150",
     "status": "completed"
    },
    "tags": []
   },
   "source": [
    "## Transform data"
   ]
  },
  {
   "cell_type": "code",
   "execution_count": 6,
   "id": "4b003927-cfab-4f9a-91f8-1376f038f82e",
   "metadata": {
    "execution": {
     "iopub.execute_input": "2024-03-09T08:42:34.922312Z",
     "iopub.status.busy": "2024-03-09T08:42:34.922202Z",
     "iopub.status.idle": "2024-03-09T08:42:34.947588Z",
     "shell.execute_reply": "2024-03-09T08:42:34.947367Z"
    },
    "papermill": {
     "duration": 0.028913,
     "end_time": "2024-03-09T08:42:34.948327",
     "exception": false,
     "start_time": "2024-03-09T08:42:34.919414",
     "status": "completed"
    },
    "tags": []
   },
   "outputs": [
    {
     "data": {
      "text/html": [
       "<div>\n",
       "<style scoped>\n",
       "    .dataframe tbody tr th:only-of-type {\n",
       "        vertical-align: middle;\n",
       "    }\n",
       "\n",
       "    .dataframe tbody tr th {\n",
       "        vertical-align: top;\n",
       "    }\n",
       "\n",
       "    .dataframe thead th {\n",
       "        text-align: right;\n",
       "    }\n",
       "</style>\n",
       "<table border=\"1\" class=\"dataframe\">\n",
       "  <thead>\n",
       "    <tr style=\"text-align: right;\">\n",
       "      <th></th>\n",
       "      <th>userID</th>\n",
       "      <th>itemID</th>\n",
       "      <th>timestamp</th>\n",
       "      <th>rating</th>\n",
       "    </tr>\n",
       "  </thead>\n",
       "  <tbody>\n",
       "    <tr>\n",
       "      <th>0</th>\n",
       "      <td>0x0eabffd8ce94ab2387fc44ba32642af0c58af433</td>\n",
       "      <td>b23fab43-3b08-5638-b13d-0e286cadb04b</td>\n",
       "      <td>2020-04-01 03:11:46</td>\n",
       "      <td>1</td>\n",
       "    </tr>\n",
       "    <tr>\n",
       "      <th>1</th>\n",
       "      <td>0x0eabffd8ce94ab2387fc44ba32642af0c58af433</td>\n",
       "      <td>18f8c9fd-9796-5802-ab78-b449c65ffb50</td>\n",
       "      <td>2020-06-17 03:08:43</td>\n",
       "      <td>1</td>\n",
       "    </tr>\n",
       "    <tr>\n",
       "      <th>2</th>\n",
       "      <td>0x0eabffd8ce94ab2387fc44ba32642af0c58af433</td>\n",
       "      <td>2a062f74-c7cb-5625-b8ba-537b23ae5318</td>\n",
       "      <td>2019-07-25 20:06:53</td>\n",
       "      <td>1</td>\n",
       "    </tr>\n",
       "    <tr>\n",
       "      <th>3</th>\n",
       "      <td>0x0eabffd8ce94ab2387fc44ba32642af0c58af433</td>\n",
       "      <td>3eff52ec-93aa-5c41-9ff2-3a18d278d138</td>\n",
       "      <td>2019-07-30 18:13:46</td>\n",
       "      <td>1</td>\n",
       "    </tr>\n",
       "    <tr>\n",
       "      <th>4</th>\n",
       "      <td>0x0eabffd8ce94ab2387fc44ba32642af0c58af433</td>\n",
       "      <td>b21a24a0-1a16-55a1-8c0e-c97ed7cf8e69</td>\n",
       "      <td>2019-08-06 18:25:25</td>\n",
       "      <td>1</td>\n",
       "    </tr>\n",
       "  </tbody>\n",
       "</table>\n",
       "</div>"
      ],
      "text/plain": [
       "                                       userID  \\\n",
       "0  0x0eabffd8ce94ab2387fc44ba32642af0c58af433   \n",
       "1  0x0eabffd8ce94ab2387fc44ba32642af0c58af433   \n",
       "2  0x0eabffd8ce94ab2387fc44ba32642af0c58af433   \n",
       "3  0x0eabffd8ce94ab2387fc44ba32642af0c58af433   \n",
       "4  0x0eabffd8ce94ab2387fc44ba32642af0c58af433   \n",
       "\n",
       "                                 itemID           timestamp  rating  \n",
       "0  b23fab43-3b08-5638-b13d-0e286cadb04b 2020-04-01 03:11:46       1  \n",
       "1  18f8c9fd-9796-5802-ab78-b449c65ffb50 2020-06-17 03:08:43       1  \n",
       "2  2a062f74-c7cb-5625-b8ba-537b23ae5318 2019-07-25 20:06:53       1  \n",
       "3  3eff52ec-93aa-5c41-9ff2-3a18d278d138 2019-07-30 18:13:46       1  \n",
       "4  b21a24a0-1a16-55a1-8c0e-c97ed7cf8e69 2019-08-06 18:25:25       1  "
      ]
     },
     "execution_count": 6,
     "metadata": {},
     "output_type": "execute_result"
    }
   ],
   "source": [
    "def to_microsoft(dfv):\n",
    "    df = dfv[['voter', 'proposal', 'date']].rename(columns={\n",
    "        'voter': 'userID',\n",
    "        'proposal': 'itemID',\n",
    "        'date': 'timestamp',\n",
    "    })\n",
    "    df['itemID'] = df['itemID'].astype('str')\n",
    "    df['rating'] = 1\n",
    "    return df\n",
    "\n",
    "df = to_microsoft(dfv)\n",
    "df.head()"
   ]
  },
  {
   "cell_type": "markdown",
   "id": "8faab8dc-8192-47b5-96df-7458bd890ffb",
   "metadata": {
    "papermill": {
     "duration": 0.002481,
     "end_time": "2024-03-09T08:42:34.953333",
     "exception": false,
     "start_time": "2024-03-09T08:42:34.950852",
     "status": "completed"
    },
    "tags": []
   },
   "source": [
    "# Split data\n",
    "\n",
    "Each proposal remains open for a few days, our environment is different of a movies recommender system. For this reason, we will use a TimeSeriesSplit instead of a K-Fold to cross-validate the model.\n",
    "\n",
    "![](https://scikit-learn.org/stable/_images/sphx_glr_plot_cv_indices_013.png)\n",
    "\n",
    "El TimeSeriesSplit de scikit-learn no nos vale porque el número de elementos en cada split es el mismo, pero el tamaño del intervalo, no. Como queremos simular un comportamiento realista, haremos el split dividiendo por intervalos de igual longitud."
   ]
  },
  {
   "cell_type": "code",
   "execution_count": 7,
   "id": "3f661ac7-df23-49ad-9671-cfa65d4b44d6",
   "metadata": {
    "execution": {
     "iopub.execute_input": "2024-03-09T08:42:34.958857Z",
     "iopub.status.busy": "2024-03-09T08:42:34.958669Z",
     "iopub.status.idle": "2024-03-09T08:42:35.139765Z",
     "shell.execute_reply": "2024-03-09T08:42:35.139328Z"
    },
    "papermill": {
     "duration": 0.185186,
     "end_time": "2024-03-09T08:42:35.140895",
     "exception": false,
     "start_time": "2024-03-09T08:42:34.955709",
     "status": "completed"
    },
    "tags": []
   },
   "outputs": [],
   "source": [
    "from recommenders.evaluation.python_evaluation import metrics as metrics_dict"
   ]
  },
  {
   "cell_type": "code",
   "execution_count": 8,
   "id": "445d9909-609a-4cf3-8e24-6fa36946a375",
   "metadata": {
    "editable": true,
    "execution": {
     "iopub.execute_input": "2024-03-09T08:42:35.147503Z",
     "iopub.status.busy": "2024-03-09T08:42:35.147239Z",
     "iopub.status.idle": "2024-03-09T08:42:35.538749Z",
     "shell.execute_reply": "2024-03-09T08:42:35.538405Z"
    },
    "papermill": {
     "duration": 0.395709,
     "end_time": "2024-03-09T08:42:35.539587",
     "exception": false,
     "start_time": "2024-03-09T08:42:35.143878",
     "status": "completed"
    },
    "slideshow": {
     "slide_type": ""
    },
    "tags": []
   },
   "outputs": [
    {
     "name": "stdout",
     "output_type": "stream",
     "text": [
      "Split 0, train from: 2019-06-06 to 2020-08-19, test from: 2020-08-20 to 2020-08-23\n",
      "  t: 2020-08-20 00:00:00\n",
      "  len(train): 764, len(test): 8\n",
      "  users(train): 76, users(test): 4\n",
      "\n",
      "  highest possible recall@5:\t1.0000\n",
      "  highest possible ndcg@5:\t1.0000\n",
      "  highest possible precision@5:\t0.4000\n",
      "  highest possible map@5:\t1.0000\n",
      "------------------------------\n",
      "Split 1, train from: 2019-06-06 to 2020-08-26, test from: 2020-08-28 to 2020-09-01\n",
      "  t: 2020-08-27 00:00:00\n",
      "  len(train): 793, len(test): 3\n",
      "  users(train): 77, users(test): 3\n",
      "\n",
      "  highest possible recall@5:\t1.0000\n",
      "  highest possible ndcg@5:\t1.0000\n",
      "  highest possible precision@5:\t0.2000\n",
      "  highest possible map@5:\t1.0000\n",
      "------------------------------\n",
      "Split 2, train from: 2019-06-06 to 2020-09-02, test from: 2020-09-03 to 2020-09-08\n",
      "  t: 2020-09-03 00:00:00\n",
      "  len(train): 816, len(test): 8\n",
      "  users(train): 78, users(test): 7\n",
      "\n",
      "  highest possible recall@5:\t1.0000\n",
      "  highest possible ndcg@5:\t1.0000\n",
      "  highest possible precision@5:\t0.2286\n",
      "  highest possible map@5:\t1.0000\n",
      "------------------------------\n",
      "Split 3, train from: 2019-06-06 to 2020-09-09, test from: 2020-09-10 to 2020-09-15\n",
      "  t: 2020-09-10 00:00:00\n",
      "  len(train): 834, len(test): 7\n",
      "  users(train): 81, users(test): 3\n",
      "\n",
      "  highest possible recall@5:\t1.0000\n",
      "  highest possible ndcg@5:\t1.0000\n",
      "  highest possible precision@5:\t0.4667\n",
      "  highest possible map@5:\t1.0000\n",
      "------------------------------\n",
      "Split 4, train from: 2019-06-06 to 2020-09-15, test from: 2020-09-18 to 2020-09-21\n",
      "  t: 2020-09-17 00:00:00\n",
      "  len(train): 859, len(test): 13\n",
      "  users(train): 83, users(test): 6\n",
      "\n",
      "  highest possible recall@5:\t0.9375\n",
      "  highest possible ndcg@5:\t1.0000\n",
      "  highest possible precision@5:\t0.3333\n",
      "  highest possible map@5:\t0.9375\n",
      "------------------------------\n",
      "Split 5, train from: 2019-06-06 to 2020-09-23, test from: 2020-09-24 to 2020-09-28\n",
      "  t: 2020-09-24 00:00:00\n",
      "  len(train): 902, len(test): 43\n",
      "  users(train): 85, users(test): 20\n",
      "\n",
      "  highest possible recall@5:\t0.9917\n",
      "  highest possible ndcg@5:\t1.0000\n",
      "  highest possible precision@5:\t0.4200\n",
      "  highest possible map@5:\t0.9917\n",
      "------------------------------\n",
      "Split 6, train from: 2019-06-06 to 2020-09-28, test from: 2020-10-07 to 2020-10-07\n",
      "  t: 2020-10-01 00:00:00\n",
      "  len(train): 952, len(test): 1\n",
      "  users(train): 88, users(test): 1\n",
      "\n",
      "  highest possible recall@5:\t1.0000\n",
      "  highest possible ndcg@5:\t1.0000\n",
      "  highest possible precision@5:\t0.2000\n",
      "  highest possible map@5:\t1.0000\n",
      "------------------------------\n",
      "Split 7, train from: 2019-06-06 to 2020-10-07, test from: 2020-10-08 to 2020-10-11\n",
      "  t: 2020-10-08 00:00:00\n",
      "  len(train): 973, len(test): 6\n",
      "  users(train): 88, users(test): 3\n",
      "\n",
      "  highest possible recall@5:\t1.0000\n",
      "  highest possible ndcg@5:\t1.0000\n"
     ]
    },
    {
     "name": "stdout",
     "output_type": "stream",
     "text": [
      "  highest possible precision@5:\t0.4000\n",
      "  highest possible map@5:\t1.0000\n",
      "------------------------------\n",
      "Split 8, train from: 2019-06-06 to 2020-10-14, test from: 2020-10-15 to 2020-10-21\n",
      "  t: 2020-10-15 00:00:00\n",
      "  len(train): 1003, len(test): 9\n",
      "  users(train): 93, users(test): 9\n",
      "\n",
      "  highest possible recall@5:\t1.0000\n",
      "  highest possible ndcg@5:\t1.0000\n",
      "  highest possible precision@5:\t0.2000\n",
      "  highest possible map@5:\t1.0000\n",
      "------------------------------\n",
      "Split 9, train from: 2019-06-06 to 2020-10-21, test from: 2020-10-22 to 2020-10-23\n",
      "  t: 2020-10-22 00:00:00\n",
      "  len(train): 1050, len(test): 7\n",
      "  users(train): 96, users(test): 5\n",
      "\n",
      "  highest possible recall@5:\t1.0000\n",
      "  highest possible ndcg@5:\t1.0000\n",
      "  highest possible precision@5:\t0.2800\n",
      "  highest possible map@5:\t1.0000\n",
      "------------------------------\n"
     ]
    }
   ],
   "source": [
    "from src.model_selection import timeFreqSplitCurrent, timeIntervalSplitCurrent\n",
    "\n",
    "# max_train_prev = df['timestamp'].min().date()\n",
    "# N_SPLITS = 10; SKIP_SPLIT = 0\n",
    "# folds = list(timeIntervalSplitCurrent(df, N_SPLITS, dfp, skip=SKIP_SPLIT, remove_not_in_train_col='userID', return_open=True))\n",
    "folds = list(timeFreqSplitCurrent(df, SPLITS_FREQ, dfp, return_open=True, remove_not_in_train_col='userID'))[-LAST_SPLITS:]\n",
    "for i, (dftrain, dftest, t, open_proposals) in enumerate(folds):\n",
    "    min_train = dftrain['timestamp'].min().date()\n",
    "    max_train = dftrain['timestamp'].max().date()\n",
    "    min_test  = dftest['timestamp'].min().date()\n",
    "    max_test  = dftest['timestamp'].max().date()\n",
    "\n",
    "    train_users = len(set(dftrain['userID']))\n",
    "    test_users = len(set(dftest['userID']))\n",
    "    \n",
    "    print(f\"Split {i}, train from: {min_train} to {max_train}, test from: {min_test} to {max_test}\")\n",
    "    print(f\"  t: {t}\")\n",
    "    print(f\"  len(train): {len(dftrain)}, len(test): {len(dftest)}\")\n",
    "    print(f\"  users(train): {train_users}, users(test): {test_users}\")\n",
    "\n",
    "    print()\n",
    "    dftest['prediction'] = 1\n",
    "    for m in METRICS:\n",
    "        f = metrics_dict[f'{m}_at_k']\n",
    "        print(f\"  highest possible {m}@{TOP_K[0]}:\\t{f(dftest, dftest, k=TOP_K[0], relevancy_method='top_k'):.4f}\")\n",
    "\n",
    "    print(\"-\"*30)"
   ]
  },
  {
   "cell_type": "markdown",
   "id": "5c881c43-d308-40ff-b6b4-d54458e1bc32",
   "metadata": {
    "papermill": {
     "duration": 0.002963,
     "end_time": "2024-03-09T08:42:35.545540",
     "exception": false,
     "start_time": "2024-03-09T08:42:35.542577",
     "status": "completed"
    },
    "tags": []
   },
   "source": [
    "# Defining training"
   ]
  },
  {
   "cell_type": "code",
   "execution_count": 9,
   "id": "9a502e2d-3398-405f-9029-d3abc69033dc",
   "metadata": {
    "execution": {
     "iopub.execute_input": "2024-03-09T08:42:35.551305Z",
     "iopub.status.busy": "2024-03-09T08:42:35.551183Z",
     "iopub.status.idle": "2024-03-09T08:42:35.727990Z",
     "shell.execute_reply": "2024-03-09T08:42:35.727695Z"
    },
    "papermill": {
     "duration": 0.181065,
     "end_time": "2024-03-09T08:42:35.729106",
     "exception": false,
     "start_time": "2024-03-09T08:42:35.548041",
     "status": "completed"
    },
    "tags": []
   },
   "outputs": [],
   "source": [
    "# from recommenders.models.deeprec.models.graphrec.lightgcn import LightGCN\n",
    "from src.models import LightGCNCustom\n",
    "from recommenders.utils.python_utils import get_top_k_scored_items"
   ]
  },
  {
   "cell_type": "markdown",
   "id": "923adb82-9733-4e21-a378-7263c5532353",
   "metadata": {
    "papermill": {
     "duration": 0.002949,
     "end_time": "2024-03-09T08:42:35.735226",
     "exception": false,
     "start_time": "2024-03-09T08:42:35.732277",
     "status": "completed"
    },
    "tags": []
   },
   "source": [
    "## Small test of `LightGCNCustom`"
   ]
  },
  {
   "cell_type": "code",
   "execution_count": 10,
   "id": "41d1cf90-bd11-4a87-b0aa-bf0e25d559af",
   "metadata": {
    "execution": {
     "iopub.execute_input": "2024-03-09T08:42:35.741207Z",
     "iopub.status.busy": "2024-03-09T08:42:35.741041Z",
     "iopub.status.idle": "2024-03-09T08:42:35.767500Z",
     "shell.execute_reply": "2024-03-09T08:42:35.767261Z"
    },
    "papermill": {
     "duration": 0.030486,
     "end_time": "2024-03-09T08:42:35.768351",
     "exception": false,
     "start_time": "2024-03-09T08:42:35.737865",
     "status": "completed"
    },
    "tags": []
   },
   "outputs": [],
   "source": [
    "from recommenders.models.deeprec.DataModel.ImplicitCF import ImplicitCF\n",
    "from recommenders.models.deeprec.deeprec_utils import prepare_hparams"
   ]
  },
  {
   "cell_type": "code",
   "execution_count": 11,
   "id": "0e57c58e-3091-4357-969a-c7bafedd29c1",
   "metadata": {
    "execution": {
     "iopub.execute_input": "2024-03-09T08:42:35.774217Z",
     "iopub.status.busy": "2024-03-09T08:42:35.774075Z",
     "iopub.status.idle": "2024-03-09T08:42:36.273998Z",
     "shell.execute_reply": "2024-03-09T08:42:36.273586Z"
    },
    "papermill": {
     "duration": 0.504133,
     "end_time": "2024-03-09T08:42:36.275066",
     "exception": false,
     "start_time": "2024-03-09T08:42:35.770933",
     "status": "completed"
    },
    "tags": []
   },
   "outputs": [
    {
     "name": "stdout",
     "output_type": "stream",
     "text": [
      "items: 363 user: 96\n",
      "Already create adjacency matrix.\n",
      "Already normalize adjacency matrix.\n",
      "Using xavier initialization.\n"
     ]
    }
   ],
   "source": [
    "hparams = prepare_hparams(\n",
    "    model_type='lightgcn',\n",
    "    n_layers=3,\n",
    "    batch_size=512,\n",
    "    embed_size=64,\n",
    "    epochs=2,\n",
    "    learning_rate=0.001,\n",
    "    decay=0.001,\n",
    "    metrics=[\"recall\", \"ndcg\", \"precision\", \"map\"],\n",
    "    eval_epoch=2,\n",
    "    top_k=TOP_K[0],\n",
    "    save_model=False,\n",
    "    MODEL_DIR='./data/model/lightgcn/',\n",
    ")\n",
    "dataloader = ImplicitCF(train=folds[-1][0], test=folds[-1][1], seed=SEED)\n",
    "print(\"items:\", dataloader.n_items, \"user:\", dataloader.n_users)\n",
    "model = LightGCNCustom(data=dataloader, hparams=hparams)"
   ]
  },
  {
   "cell_type": "code",
   "execution_count": 12,
   "id": "3fe49e83-f291-4383-97c2-167a706ae717",
   "metadata": {
    "execution": {
     "iopub.execute_input": "2024-03-09T08:42:36.281891Z",
     "iopub.status.busy": "2024-03-09T08:42:36.281717Z",
     "iopub.status.idle": "2024-03-09T08:42:36.986450Z",
     "shell.execute_reply": "2024-03-09T08:42:36.985964Z"
    },
    "papermill": {
     "duration": 0.709078,
     "end_time": "2024-03-09T08:42:36.987361",
     "exception": false,
     "start_time": "2024-03-09T08:42:36.278283",
     "status": "completed"
    },
    "tags": []
   },
   "outputs": [
    {
     "name": "stdout",
     "output_type": "stream",
     "text": [
      "Epoch 1 (train)0.1s: train loss = 0.67954 = (mf)0.67883 + (embed)0.00070\n"
     ]
    },
    {
     "name": "stdout",
     "output_type": "stream",
     "text": [
      "Epoch 2 (train)0.0s + (eval)0.6s: train loss = 0.67686 = (mf)0.67614 + (embed)0.00072, recall = 0.00000, ndcg = 0.00000, precision = 0.00000, map = 0.00000\n"
     ]
    }
   ],
   "source": [
    "model.fit()"
   ]
  },
  {
   "cell_type": "code",
   "execution_count": 13,
   "id": "a12ab695-94f8-431e-8a7f-03bf17f2fa1e",
   "metadata": {
    "execution": {
     "iopub.execute_input": "2024-03-09T08:42:36.994211Z",
     "iopub.status.busy": "2024-03-09T08:42:36.994104Z",
     "iopub.status.idle": "2024-03-09T08:42:37.025760Z",
     "shell.execute_reply": "2024-03-09T08:42:37.025537Z"
    },
    "papermill": {
     "duration": 0.035903,
     "end_time": "2024-03-09T08:42:37.026536",
     "exception": false,
     "start_time": "2024-03-09T08:42:36.990633",
     "status": "completed"
    },
    "tags": []
   },
   "outputs": [
    {
     "data": {
      "text/plain": [
       "[0.0, 0.0, 0.0, 0.0]"
      ]
     },
     "execution_count": 13,
     "metadata": {},
     "output_type": "execute_result"
    }
   ],
   "source": [
    "model.run_eval()"
   ]
  },
  {
   "cell_type": "code",
   "execution_count": 14,
   "id": "2b131c2d-6df2-4292-8f12-caaf409562ab",
   "metadata": {
    "execution": {
     "iopub.execute_input": "2024-03-09T08:42:37.032571Z",
     "iopub.status.busy": "2024-03-09T08:42:37.032466Z",
     "iopub.status.idle": "2024-03-09T08:42:37.060253Z",
     "shell.execute_reply": "2024-03-09T08:42:37.060020Z"
    },
    "papermill": {
     "duration": 0.031769,
     "end_time": "2024-03-09T08:42:37.061037",
     "exception": false,
     "start_time": "2024-03-09T08:42:37.029268",
     "status": "completed"
    },
    "tags": []
   },
   "outputs": [
    {
     "data": {
      "text/html": [
       "<div>\n",
       "<style scoped>\n",
       "    .dataframe tbody tr th:only-of-type {\n",
       "        vertical-align: middle;\n",
       "    }\n",
       "\n",
       "    .dataframe tbody tr th {\n",
       "        vertical-align: top;\n",
       "    }\n",
       "\n",
       "    .dataframe thead th {\n",
       "        text-align: right;\n",
       "    }\n",
       "</style>\n",
       "<table border=\"1\" class=\"dataframe\">\n",
       "  <thead>\n",
       "    <tr style=\"text-align: right;\">\n",
       "      <th></th>\n",
       "      <th>userID</th>\n",
       "      <th>itemID</th>\n",
       "      <th>prediction</th>\n",
       "    </tr>\n",
       "  </thead>\n",
       "  <tbody>\n",
       "    <tr>\n",
       "      <th>0</th>\n",
       "      <td>51</td>\n",
       "      <td>172</td>\n",
       "      <td>0.012573</td>\n",
       "    </tr>\n",
       "    <tr>\n",
       "      <th>1</th>\n",
       "      <td>51</td>\n",
       "      <td>151</td>\n",
       "      <td>0.007528</td>\n",
       "    </tr>\n",
       "    <tr>\n",
       "      <th>2</th>\n",
       "      <td>51</td>\n",
       "      <td>362</td>\n",
       "      <td>0.004463</td>\n",
       "    </tr>\n",
       "    <tr>\n",
       "      <th>3</th>\n",
       "      <td>82</td>\n",
       "      <td>152</td>\n",
       "      <td>0.011898</td>\n",
       "    </tr>\n",
       "    <tr>\n",
       "      <th>4</th>\n",
       "      <td>82</td>\n",
       "      <td>173</td>\n",
       "      <td>0.010889</td>\n",
       "    </tr>\n",
       "    <tr>\n",
       "      <th>5</th>\n",
       "      <td>82</td>\n",
       "      <td>172</td>\n",
       "      <td>0.009743</td>\n",
       "    </tr>\n",
       "    <tr>\n",
       "      <th>6</th>\n",
       "      <td>85</td>\n",
       "      <td>361</td>\n",
       "      <td>0.009429</td>\n",
       "    </tr>\n",
       "    <tr>\n",
       "      <th>7</th>\n",
       "      <td>85</td>\n",
       "      <td>171</td>\n",
       "      <td>0.008318</td>\n",
       "    </tr>\n",
       "    <tr>\n",
       "      <th>8</th>\n",
       "      <td>85</td>\n",
       "      <td>152</td>\n",
       "      <td>0.008153</td>\n",
       "    </tr>\n",
       "    <tr>\n",
       "      <th>9</th>\n",
       "      <td>87</td>\n",
       "      <td>152</td>\n",
       "      <td>0.022731</td>\n",
       "    </tr>\n",
       "    <tr>\n",
       "      <th>10</th>\n",
       "      <td>87</td>\n",
       "      <td>362</td>\n",
       "      <td>0.017836</td>\n",
       "    </tr>\n",
       "    <tr>\n",
       "      <th>11</th>\n",
       "      <td>87</td>\n",
       "      <td>151</td>\n",
       "      <td>-0.001926</td>\n",
       "    </tr>\n",
       "    <tr>\n",
       "      <th>12</th>\n",
       "      <td>89</td>\n",
       "      <td>152</td>\n",
       "      <td>0.021658</td>\n",
       "    </tr>\n",
       "    <tr>\n",
       "      <th>13</th>\n",
       "      <td>89</td>\n",
       "      <td>360</td>\n",
       "      <td>0.006703</td>\n",
       "    </tr>\n",
       "    <tr>\n",
       "      <th>14</th>\n",
       "      <td>89</td>\n",
       "      <td>361</td>\n",
       "      <td>0.006041</td>\n",
       "    </tr>\n",
       "  </tbody>\n",
       "</table>\n",
       "</div>"
      ],
      "text/plain": [
       "    userID  itemID  prediction\n",
       "0       51     172    0.012573\n",
       "1       51     151    0.007528\n",
       "2       51     362    0.004463\n",
       "3       82     152    0.011898\n",
       "4       82     173    0.010889\n",
       "5       82     172    0.009743\n",
       "6       85     361    0.009429\n",
       "7       85     171    0.008318\n",
       "8       85     152    0.008153\n",
       "9       87     152    0.022731\n",
       "10      87     362    0.017836\n",
       "11      87     151   -0.001926\n",
       "12      89     152    0.021658\n",
       "13      89     360    0.006703\n",
       "14      89     361    0.006041"
      ]
     },
     "execution_count": 14,
     "metadata": {},
     "output_type": "execute_result"
    }
   ],
   "source": [
    "model.recommend_k_items(\n",
    "    dataloader.test, \n",
    "    top_k=3, \n",
    "    use_id=True, \n",
    "    remove_seen=True, \n",
    "    recommend_from=folds[-1][3]\n",
    ")"
   ]
  },
  {
   "cell_type": "code",
   "execution_count": 15,
   "id": "ef766f48-b9b1-4ec6-b2ba-9c3d5b54d40b",
   "metadata": {
    "execution": {
     "iopub.execute_input": "2024-03-09T08:42:37.067322Z",
     "iopub.status.busy": "2024-03-09T08:42:37.067179Z",
     "iopub.status.idle": "2024-03-09T08:42:37.090059Z",
     "shell.execute_reply": "2024-03-09T08:42:37.089750Z"
    },
    "papermill": {
     "duration": 0.02698,
     "end_time": "2024-03-09T08:42:37.090890",
     "exception": false,
     "start_time": "2024-03-09T08:42:37.063910",
     "status": "completed"
    },
    "tags": []
   },
   "outputs": [],
   "source": [
    "# problem_prop = 'b926a2eb-e2c7-5d0d-bbec-015efe30edde'\n",
    "\n",
    "# tr, te, t, open_proposals = folds[-1]\n",
    "# print(\"t:\", t)\n",
    "# print(\"In open?: \", problem_prop in set(open_proposals))\n",
    "# print(\"In Train?:\", any(tr['itemID'] == problem_prop))\n",
    "# print(\"In Test?: \", any(te['itemID'] == problem_prop))\n",
    "# print(\"In dfv?:  \", in_dfv := any(dfv['proposal'] == problem_prop))\n",
    "# if in_dfv:\n",
    "#     display(dfv[dfv['proposal'] == problem_prop])\n",
    "\n",
    "# dfp.set_index('id').loc[problem_prop]"
   ]
  },
  {
   "cell_type": "code",
   "execution_count": 16,
   "id": "799a41c8-6c27-40c7-af22-0f9eb46f8a59",
   "metadata": {
    "execution": {
     "iopub.execute_input": "2024-03-09T08:42:37.097816Z",
     "iopub.status.busy": "2024-03-09T08:42:37.097674Z",
     "iopub.status.idle": "2024-03-09T08:42:37.121736Z",
     "shell.execute_reply": "2024-03-09T08:42:37.121411Z"
    },
    "papermill": {
     "duration": 0.02848,
     "end_time": "2024-03-09T08:42:37.122592",
     "exception": false,
     "start_time": "2024-03-09T08:42:37.094112",
     "status": "completed"
    },
    "tags": []
   },
   "outputs": [],
   "source": [
    "# Free the resources\n",
    "del model\n",
    "del dataloader"
   ]
  },
  {
   "cell_type": "markdown",
   "id": "d994a5dd-efe5-47bf-a8a1-803316d9fc75",
   "metadata": {
    "papermill": {
     "duration": 0.002814,
     "end_time": "2024-03-09T08:42:37.128287",
     "exception": false,
     "start_time": "2024-03-09T08:42:37.125473",
     "status": "completed"
    },
    "tags": []
   },
   "source": [
    "# Defining trainer"
   ]
  },
  {
   "cell_type": "code",
   "execution_count": 17,
   "id": "a5d010bf-3a9c-4931-9d02-6589b3164438",
   "metadata": {
    "execution": {
     "iopub.execute_input": "2024-03-09T08:42:37.134470Z",
     "iopub.status.busy": "2024-03-09T08:42:37.134322Z",
     "iopub.status.idle": "2024-03-09T08:42:37.160822Z",
     "shell.execute_reply": "2024-03-09T08:42:37.160497Z"
    },
    "papermill": {
     "duration": 0.030661,
     "end_time": "2024-03-09T08:42:37.161706",
     "exception": false,
     "start_time": "2024-03-09T08:42:37.131045",
     "status": "completed"
    },
    "scrolled": true,
    "tags": []
   },
   "outputs": [],
   "source": [
    "from recommenders.evaluation.python_evaluation import map_at_k, ndcg_at_k, precision_at_k, recall_at_k\n",
    "\n",
    "class TrainLightGCN(tune.Trainable):\n",
    "    def setup(\n",
    "        self,\n",
    "        config: Dict[str, Any],\n",
    "        data,\n",
    "    ):\n",
    "        self.config = config\n",
    "\n",
    "        self.hparams = prepare_hparams(\n",
    "            model_type='lightgcn',\n",
    "            n_layers=config['conv_layers'],\n",
    "            batch_size=2**config['batch_size'],\n",
    "            embed_size=config['embedding_dim'],\n",
    "            epochs=EPOCHS_PER_ITER,\n",
    "            learning_rate=config['learning_rate'],\n",
    "            decay=config['l2'],\n",
    "            metrics=METRICS,\n",
    "            eval_epoch=-1,\n",
    "            top_k=TOP_K[0],\n",
    "            save_model=False,\n",
    "            MODEL_DIR='./data/model/lightgcn/',\n",
    "        )\n",
    "\n",
    "        train, test, self.t, self.open_proposals = data\n",
    "        self.dataloader = ImplicitCF(train=train, test=test, seed=SEED)\n",
    "        self.model = LightGCNCustom(self.hparams, self.dataloader, seed=SEED)\n",
    "        self.total_train = 0\n",
    "        self.total_eval = 0\n",
    "\n",
    "    @property\n",
    "    def iteration(self):\n",
    "        return self.model.epochs_done\n",
    "\n",
    "    @property\n",
    "    def training_iteration(self):\n",
    "        return self.model.epochs_done\n",
    "\n",
    "    def step(self):\n",
    "        \"\"\"\n",
    "        As a rule of thumb, the execution time of step should be large enough to avoid overheads \n",
    "        (i.e. more than a few seconds), but short enough to report progress periodically \n",
    "        (i.e. at most a few minutes).\n",
    "        \"\"\"\n",
    "        assert EPOCHS_PER_ITER > 0\n",
    "\n",
    "        train_start = time.time()\n",
    "        for _ in range(EPOCHS_PER_ITER):\n",
    "            ret = self.model.fit_epoch()\n",
    "        eval_start = train_end = time.time()\n",
    "\n",
    "        eval_dict = {'model_'+k:v for k,v in zip(self.model.metrics, self.model.run_eval())}\n",
    "        for k in TOP_K:\n",
    "            recs = self.model.recommend_k_items(\n",
    "                self.dataloader.test, \n",
    "                top_k=k,\n",
    "                use_id=True, \n",
    "                remove_seen=True, \n",
    "                recommend_from=self.open_proposals,\n",
    "            )\n",
    "            \n",
    "            eval_dict[f'precision@{k}'] = precision_at_k(self.dataloader.test, recs, k=k)\n",
    "            eval_dict[f'ndcg@{k}'] = ndcg_at_k(self.dataloader.test, recs, k=k)\n",
    "            eval_dict[f'recall@{k}'] = recall_at_k(self.dataloader.test, recs, k=k)\n",
    "            eval_dict[f'map@{k}'] = map_at_k(self.dataloader.test, recs, k=k)\n",
    "\n",
    "        eval_end = time.time()\n",
    "\n",
    "        self.total_train += train_end - train_start\n",
    "        self.total_eval += eval_end - eval_start\n",
    "        \n",
    "        return {\n",
    "            'iteration': self.iteration,\n",
    "            'loss': ret[0],\n",
    "            'mf_loss': ret[1],\n",
    "            'emb_loss': ret[2],\n",
    "            **eval_dict,\n",
    "            'time_train': train_end-train_start,\n",
    "            'time_test': eval_end-eval_start,\n",
    "            'time_total_train': self.total_train,\n",
    "            'time_total_test': self.total_eval,\n",
    "        }\n",
    "\n",
    "    def save_checkpoint(self, checkpoint_dir):\n",
    "        checkpoint_path = os.path.join(checkpoint_dir, \"model\")\n",
    "        self.model.saver.save(\n",
    "            sess=self.model.sess,\n",
    "            save_path=checkpoint_path,\n",
    "        )\n",
    "        return checkpoint_dir\n",
    "\n",
    "    def load_checkpoint(self, checkpoint_path):\n",
    "        self.model.load(checkpoint_path)"
   ]
  },
  {
   "cell_type": "markdown",
   "id": "16276fe4-d63d-4e7a-bcc8-38d8f5be299c",
   "metadata": {
    "papermill": {
     "duration": 0.002996,
     "end_time": "2024-03-09T08:42:37.167710",
     "exception": false,
     "start_time": "2024-03-09T08:42:37.164714",
     "status": "completed"
    },
    "tags": []
   },
   "source": [
    "# Big experiment"
   ]
  },
  {
   "cell_type": "code",
   "execution_count": 18,
   "id": "427c4b72-593a-41ff-9fd6-991e8e3a0445",
   "metadata": {
    "execution": {
     "iopub.execute_input": "2024-03-09T08:42:37.174073Z",
     "iopub.status.busy": "2024-03-09T08:42:37.173961Z",
     "iopub.status.idle": "2024-03-09T08:42:37.198294Z",
     "shell.execute_reply": "2024-03-09T08:42:37.197923Z"
    },
    "papermill": {
     "duration": 0.028491,
     "end_time": "2024-03-09T08:42:37.199028",
     "exception": false,
     "start_time": "2024-03-09T08:42:37.170537",
     "status": "completed"
    },
    "tags": []
   },
   "outputs": [
    {
     "data": {
      "text/plain": [
       "PosixPath('/home/daviddavo/ray_results')"
      ]
     },
     "execution_count": 18,
     "metadata": {},
     "output_type": "execute_result"
    }
   ],
   "source": [
    "RAY_RESULTS_PATH"
   ]
  },
  {
   "cell_type": "code",
   "execution_count": 19,
   "id": "8c3e4842-eaee-431a-a4ee-6145c1c18ca1",
   "metadata": {
    "execution": {
     "iopub.execute_input": "2024-03-09T08:42:37.206223Z",
     "iopub.status.busy": "2024-03-09T08:42:37.206096Z",
     "iopub.status.idle": "2024-03-09T08:42:37.230858Z",
     "shell.execute_reply": "2024-03-09T08:42:37.230610Z"
    },
    "papermill": {
     "duration": 0.029739,
     "end_time": "2024-03-09T08:42:37.232195",
     "exception": false,
     "start_time": "2024-03-09T08:42:37.202456",
     "status": "completed"
    },
    "tags": []
   },
   "outputs": [
    {
     "name": "stdout",
     "output_type": "stream",
     "text": [
      "lamarck\n",
      "{'cpu': 1, 'gpu': 0.0625}\n"
     ]
    }
   ],
   "source": [
    "print(os.uname().nodename)\n",
    "\n",
    "### SET TRAINING RESOURCES\n",
    "if os.uname().nodename == 'lamarck':\n",
    "    # assert torch.cuda.is_available()\n",
    "    if ORG_NAME in ['PancakeSwap']:\n",
    "        # It seems that this model takes more resources, so we run less instances\n",
    "        gpu_resources = 1/6\n",
    "    elif ORG_NAME in ['DEAD FoundationsDAO']:\n",
    "        gpu_resources = 1/20\n",
    "    else:\n",
    "        # GPU has 25GiB, and each run might take up to 2GiB (torch version was lighter)\n",
    "        # so each run might take up to 1/12th of the GPU\n",
    "        # I use 1/16th so I don't take all the resources in the machine\n",
    "        gpu_resources = 1/16\n",
    "    \n",
    "    NUM_SAMPLES = SAMPLES_PER_SPLIT\n",
    "    # Every run takes approx half a gig of vram (no optimizations)\n",
    "    # The RTX 4090 has 24GB so we can run the model about 48 times\n",
    "    resources_per_trial={\n",
    "        'cpu': 1,\n",
    "        'gpu': gpu_resources,\n",
    "    }\n",
    "else:\n",
    "    NUM_SAMPLES = 1\n",
    "    resources_per_trial={\n",
    "        'cpu': 1,\n",
    "        # It takes about 1.5 GiB with full training data, but I put a bit more because\n",
    "        # this notebook also takes a bit of memory\n",
    "        'memory': 2e9,\n",
    "    }\n",
    "print(resources_per_trial)"
   ]
  },
  {
   "cell_type": "code",
   "execution_count": 20,
   "id": "a5ad6f33-effe-4f48-850e-8044af3a88dc",
   "metadata": {
    "editable": true,
    "execution": {
     "iopub.execute_input": "2024-03-09T08:42:37.239226Z",
     "iopub.status.busy": "2024-03-09T08:42:37.239088Z",
     "iopub.status.idle": "2024-03-09T08:42:37.316287Z",
     "shell.execute_reply": "2024-03-09T08:42:37.315906Z"
    },
    "papermill": {
     "duration": 0.082406,
     "end_time": "2024-03-09T08:42:37.317734",
     "exception": false,
     "start_time": "2024-03-09T08:42:37.235328",
     "status": "completed"
    },
    "slideshow": {
     "slide_type": ""
    },
    "tags": []
   },
   "outputs": [],
   "source": [
    "from ray.tune.search.hyperopt import HyperOptSearch\n",
    "import datetime as dt\n",
    "from src import paths\n",
    "\n",
    "def getTunerOnFold(f, points_to_evaluate = None):\n",
    "    name = f'LightGCN_optim={OPTIM_METRIC},dao={ORG_NAME},freq={SPLITS_FREQ},normalize={SPLITS_NORMALIZE},cutoff_date={CUTOFF_DATE.isoformat()},fold={f}'\n",
    "    paths = list(RAY_RESULTS_PATH.glob(f'{name}_*'))\n",
    "    last_experiment = max(paths, key=lambda x: x.stat().st_ctime) if paths else None\n",
    "\n",
    "    dftrain,dftest,t,open_proposals = folds[f]\n",
    "    param_space = dict(\n",
    "        fold=f,\n",
    "        batch_size=tune.randint(6,10), # 64 - 1024\n",
    "        embedding_dim=tune.lograndint(1, 1024, base=2),\n",
    "        conv_layers=tune.randint(1,6),\n",
    "        learning_rate=tune.qloguniform(1e-4, 1, 1e-4),\n",
    "        l2=tune.loguniform(1e-7, 1e-2, 1e-7),\n",
    "    )\n",
    "    \n",
    "    ### RESTORE EXPERIMENT OR CREATE A NEW ONE\n",
    "    if last_experiment and tune.Tuner.can_restore(last_experiment):\n",
    "        print(f\"Restoring last experiment: {last_experiment}\")\n",
    "        tuner = tune.Tuner.restore(\n",
    "            str(last_experiment),\n",
    "            trainable=tune.with_resources(\n",
    "                # tune.with_parameters(TrainLightGCN,  train=dftrain, test=dftest, open_proposals=open_proposals),\n",
    "                tune.with_parameters(TrainLightGCN, data=folds[f]),\n",
    "                resources_per_trial,\n",
    "            ),\n",
    "            restart_errored=True,\n",
    "            param_space=param_space,\n",
    "        )\n",
    "    else:\n",
    "        print(f\"No experiment found for fold {f}, creating new tuner with {NUM_SAMPLES} samples\")\n",
    "        search_alg = None\n",
    "        search_alg = HyperOptSearch(\n",
    "            # points_to_evaluate=[{\n",
    "            #     'batch_size': 8, # 2**8 = 256\n",
    "            #     'learning_rate': 10e-2,\n",
    "            #     'l2': 10e-6,\n",
    "            #     'embedding_dim': 100,\n",
    "            #     'conv_layers': 3,\n",
    "            # }],\n",
    "            points_to_evaluate = points_to_evaluate,\n",
    "            random_state_seed=SEED,\n",
    "        )\n",
    "        # search_alg = tune.search.Repeater(search_alg, N_SPLITS-SKIP_SPLIT)\n",
    "        \n",
    "        tuner = tune.Tuner(\n",
    "            tune.with_resources(\n",
    "                # tune.with_parameters(TrainLightGCN,  train=dftrain, test=dftest, open_proposals=open_proposals),\n",
    "                tune.with_parameters(TrainLightGCN, data=folds[f]),\n",
    "                resources_per_trial,\n",
    "            ),\n",
    "            run_config=train.RunConfig(\n",
    "                stop={'training_iteration': MAX_EPOCHS/EPOCHS_PER_ITER, 'time_total_train': 300},\n",
    "                name=name + f'_{dt.datetime.now().isoformat()}',\n",
    "                storage_path=RAY_RESULTS_PATH,\n",
    "                failure_config=train.FailureConfig(fail_fast='raise'),\n",
    "            ),\n",
    "            param_space=param_space,\n",
    "            tune_config=tune.TuneConfig(\n",
    "                search_alg=search_alg,\n",
    "                num_samples=NUM_SAMPLES,\n",
    "                metric=OPTIM_METRIC,\n",
    "                mode='max',\n",
    "            )\n",
    "        )\n",
    "\n",
    "    return tuner"
   ]
  },
  {
   "cell_type": "code",
   "execution_count": 21,
   "id": "c968ecd5-d62c-4d57-846f-4bb7202a97c1",
   "metadata": {
    "execution": {
     "iopub.execute_input": "2024-03-09T08:42:37.324592Z",
     "iopub.status.busy": "2024-03-09T08:42:37.324454Z",
     "iopub.status.idle": "2024-03-09T09:31:13.254550Z",
     "shell.execute_reply": "2024-03-09T09:31:13.254202Z"
    },
    "papermill": {
     "duration": 2915.934763,
     "end_time": "2024-03-09T09:31:13.255600",
     "exception": false,
     "start_time": "2024-03-09T08:42:37.320837",
     "status": "completed"
    },
    "tags": []
   },
   "outputs": [
    {
     "data": {
      "text/html": [
       "<div class=\"tuneStatus\">\n",
       "  <div style=\"display: flex;flex-direction: row\">\n",
       "    <div style=\"display: flex;flex-direction: column;\">\n",
       "      <h3>Tune Status</h3>\n",
       "      <table>\n",
       "<tbody>\n",
       "<tr><td>Current time:</td><td>2024-03-09 09:31:13</td></tr>\n",
       "<tr><td>Running for: </td><td>00:06:06.06        </td></tr>\n",
       "<tr><td>Memory:      </td><td>9.4/125.6 GiB      </td></tr>\n",
       "</tbody>\n",
       "</table>\n",
       "    </div>\n",
       "    <div class=\"vDivider\"></div>\n",
       "    <div class=\"systemInfo\">\n",
       "      <h3>System Info</h3>\n",
       "      Using FIFO scheduling algorithm.<br>Logical resource usage: 1.0/24 CPUs, 0.0625/1 GPUs (0.0/1.0 accelerator_type:G)\n",
       "    </div>\n",
       "    \n",
       "  </div>\n",
       "  <div class=\"hDivider\"></div>\n",
       "  <div class=\"trialStatus\">\n",
       "    <h3>Trial Status</h3>\n",
       "    <table>\n",
       "<thead>\n",
       "<tr><th>Trial name            </th><th>status    </th><th>loc                  </th><th style=\"text-align: right;\">  batch_size</th><th style=\"text-align: right;\">  conv_layers</th><th style=\"text-align: right;\">  embedding_dim</th><th style=\"text-align: right;\">  fold</th><th style=\"text-align: right;\">         l2</th><th style=\"text-align: right;\">  learning_rate</th><th style=\"text-align: right;\">  iter</th><th style=\"text-align: right;\">  total time (s)</th><th style=\"text-align: right;\">  iteration</th><th style=\"text-align: right;\">        loss</th><th style=\"text-align: right;\">    mf_loss</th></tr>\n",
       "</thead>\n",
       "<tbody>\n",
       "<tr><td>TrainLightGCN_96e5f04a</td><td>TERMINATED</td><td>147.96.81.131:3507958</td><td style=\"text-align: right;\">           8</td><td style=\"text-align: right;\">            3</td><td style=\"text-align: right;\">              1</td><td style=\"text-align: right;\">     9</td><td style=\"text-align: right;\">0.00966493 </td><td style=\"text-align: right;\">         0.3385</td><td style=\"text-align: right;\">    40</td><td style=\"text-align: right;\">         3.18368</td><td style=\"text-align: right;\">        200</td><td style=\"text-align: right;\"> 0.251404   </td><td style=\"text-align: right;\">0.185428   </td></tr>\n",
       "<tr><td>TrainLightGCN_a47a1148</td><td>TERMINATED</td><td>147.96.81.131:3508094</td><td style=\"text-align: right;\">           8</td><td style=\"text-align: right;\">            5</td><td style=\"text-align: right;\">             29</td><td style=\"text-align: right;\">     9</td><td style=\"text-align: right;\">2.8606e-05 </td><td style=\"text-align: right;\">         0.2347</td><td style=\"text-align: right;\">    40</td><td style=\"text-align: right;\">         3.32846</td><td style=\"text-align: right;\">        200</td><td style=\"text-align: right;\"> 0.0411688  </td><td style=\"text-align: right;\">0.00988481 </td></tr>\n",
       "<tr><td>TrainLightGCN_a03049da</td><td>TERMINATED</td><td>147.96.81.131:3508263</td><td style=\"text-align: right;\">           9</td><td style=\"text-align: right;\">            3</td><td style=\"text-align: right;\">              5</td><td style=\"text-align: right;\">     9</td><td style=\"text-align: right;\">5.24282e-05</td><td style=\"text-align: right;\">         0.22  </td><td style=\"text-align: right;\">    40</td><td style=\"text-align: right;\">         3.0009 </td><td style=\"text-align: right;\">        200</td><td style=\"text-align: right;\"> 0.0439829  </td><td style=\"text-align: right;\">0.0396363  </td></tr>\n",
       "<tr><td>TrainLightGCN_d0957765</td><td>TERMINATED</td><td>147.96.81.131:3508429</td><td style=\"text-align: right;\">           7</td><td style=\"text-align: right;\">            4</td><td style=\"text-align: right;\">            306</td><td style=\"text-align: right;\">     9</td><td style=\"text-align: right;\">8.92312e-07</td><td style=\"text-align: right;\">         0.0065</td><td style=\"text-align: right;\">    40</td><td style=\"text-align: right;\">         4.13651</td><td style=\"text-align: right;\">        200</td><td style=\"text-align: right;\"> 0.000548337</td><td style=\"text-align: right;\">0.000486373</td></tr>\n",
       "<tr><td>TrainLightGCN_fa2bbb7f</td><td>TERMINATED</td><td>147.96.81.131:3508596</td><td style=\"text-align: right;\">           7</td><td style=\"text-align: right;\">            3</td><td style=\"text-align: right;\">            217</td><td style=\"text-align: right;\">     9</td><td style=\"text-align: right;\">2.79193e-05</td><td style=\"text-align: right;\">         0.0005</td><td style=\"text-align: right;\">    40</td><td style=\"text-align: right;\">         4.1164 </td><td style=\"text-align: right;\">        200</td><td style=\"text-align: right;\"> 0.0224987  </td><td style=\"text-align: right;\">0.0220044  </td></tr>\n",
       "<tr><td>TrainLightGCN_89a74c51</td><td>TERMINATED</td><td>147.96.81.131:3508756</td><td style=\"text-align: right;\">           7</td><td style=\"text-align: right;\">            4</td><td style=\"text-align: right;\">              7</td><td style=\"text-align: right;\">     9</td><td style=\"text-align: right;\">0.00397996 </td><td style=\"text-align: right;\">         0.0038</td><td style=\"text-align: right;\">    40</td><td style=\"text-align: right;\">         4.21279</td><td style=\"text-align: right;\">        200</td><td style=\"text-align: right;\"> 0.101189   </td><td style=\"text-align: right;\">0.0519776  </td></tr>\n",
       "<tr><td>TrainLightGCN_e3368621</td><td>TERMINATED</td><td>147.96.81.131:3508919</td><td style=\"text-align: right;\">           7</td><td style=\"text-align: right;\">            3</td><td style=\"text-align: right;\">              4</td><td style=\"text-align: right;\">     9</td><td style=\"text-align: right;\">0.0011209  </td><td style=\"text-align: right;\">         0.0002</td><td style=\"text-align: right;\">    40</td><td style=\"text-align: right;\">         4.03764</td><td style=\"text-align: right;\">        200</td><td style=\"text-align: right;\"> 0.472302   </td><td style=\"text-align: right;\">0.471246   </td></tr>\n",
       "<tr><td>TrainLightGCN_0c9220b9</td><td>TERMINATED</td><td>147.96.81.131:3509089</td><td style=\"text-align: right;\">           8</td><td style=\"text-align: right;\">            4</td><td style=\"text-align: right;\">            412</td><td style=\"text-align: right;\">     9</td><td style=\"text-align: right;\">0.00406073 </td><td style=\"text-align: right;\">         0.0014</td><td style=\"text-align: right;\">    40</td><td style=\"text-align: right;\">         3.35999</td><td style=\"text-align: right;\">        200</td><td style=\"text-align: right;\"> 0.0911225  </td><td style=\"text-align: right;\">0.0315884  </td></tr>\n",
       "<tr><td>TrainLightGCN_7d14fb40</td><td>TERMINATED</td><td>147.96.81.131:3509254</td><td style=\"text-align: right;\">           6</td><td style=\"text-align: right;\">            1</td><td style=\"text-align: right;\">            206</td><td style=\"text-align: right;\">     9</td><td style=\"text-align: right;\">6.80694e-06</td><td style=\"text-align: right;\">         0.0085</td><td style=\"text-align: right;\">    40</td><td style=\"text-align: right;\">         5.50053</td><td style=\"text-align: right;\">        200</td><td style=\"text-align: right;\"> 0.00025418 </td><td style=\"text-align: right;\">2.06793e-05</td></tr>\n",
       "<tr><td>TrainLightGCN_ef10c0e3</td><td>TERMINATED</td><td>147.96.81.131:3509430</td><td style=\"text-align: right;\">           9</td><td style=\"text-align: right;\">            4</td><td style=\"text-align: right;\">            114</td><td style=\"text-align: right;\">     9</td><td style=\"text-align: right;\">0.000527247</td><td style=\"text-align: right;\">         0.0001</td><td style=\"text-align: right;\">    40</td><td style=\"text-align: right;\">         3.14125</td><td style=\"text-align: right;\">        200</td><td style=\"text-align: right;\"> 0.495979   </td><td style=\"text-align: right;\">0.494911   </td></tr>\n",
       "<tr><td>TrainLightGCN_0298c73d</td><td>TERMINATED</td><td>147.96.81.131:3509587</td><td style=\"text-align: right;\">           7</td><td style=\"text-align: right;\">            3</td><td style=\"text-align: right;\">              5</td><td style=\"text-align: right;\">     9</td><td style=\"text-align: right;\">0.00605521 </td><td style=\"text-align: right;\">         0.2019</td><td style=\"text-align: right;\">    40</td><td style=\"text-align: right;\">         4.02921</td><td style=\"text-align: right;\">        200</td><td style=\"text-align: right;\"> 0.136324   </td><td style=\"text-align: right;\">0.0468526  </td></tr>\n",
       "<tr><td>TrainLightGCN_976364cb</td><td>TERMINATED</td><td>147.96.81.131:3509767</td><td style=\"text-align: right;\">           7</td><td style=\"text-align: right;\">            4</td><td style=\"text-align: right;\">             42</td><td style=\"text-align: right;\">     9</td><td style=\"text-align: right;\">0.000414829</td><td style=\"text-align: right;\">         0.0012</td><td style=\"text-align: right;\">    40</td><td style=\"text-align: right;\">         4.19428</td><td style=\"text-align: right;\">        200</td><td style=\"text-align: right;\"> 0.0464629  </td><td style=\"text-align: right;\">0.0395736  </td></tr>\n",
       "<tr><td>TrainLightGCN_6e139010</td><td>TERMINATED</td><td>147.96.81.131:3509929</td><td style=\"text-align: right;\">           7</td><td style=\"text-align: right;\">            4</td><td style=\"text-align: right;\">              6</td><td style=\"text-align: right;\">     9</td><td style=\"text-align: right;\">2.66572e-07</td><td style=\"text-align: right;\">         0.4766</td><td style=\"text-align: right;\">    40</td><td style=\"text-align: right;\">         4.11988</td><td style=\"text-align: right;\">        200</td><td style=\"text-align: right;\"> 0.277546   </td><td style=\"text-align: right;\">0.277214   </td></tr>\n",
       "<tr><td>TrainLightGCN_59715fde</td><td>TERMINATED</td><td>147.96.81.131:3510094</td><td style=\"text-align: right;\">           8</td><td style=\"text-align: right;\">            4</td><td style=\"text-align: right;\">             87</td><td style=\"text-align: right;\">     9</td><td style=\"text-align: right;\">2.59656e-07</td><td style=\"text-align: right;\">         0.0004</td><td style=\"text-align: right;\">    40</td><td style=\"text-align: right;\">         3.3558 </td><td style=\"text-align: right;\">        200</td><td style=\"text-align: right;\"> 0.0969237  </td><td style=\"text-align: right;\">0.0969213  </td></tr>\n",
       "<tr><td>TrainLightGCN_285a8be4</td><td>TERMINATED</td><td>147.96.81.131:3510260</td><td style=\"text-align: right;\">           8</td><td style=\"text-align: right;\">            5</td><td style=\"text-align: right;\">             75</td><td style=\"text-align: right;\">     9</td><td style=\"text-align: right;\">1.39754e-06</td><td style=\"text-align: right;\">         0.0003</td><td style=\"text-align: right;\">    40</td><td style=\"text-align: right;\">         3.31312</td><td style=\"text-align: right;\">        200</td><td style=\"text-align: right;\"> 0.152084   </td><td style=\"text-align: right;\">0.152074   </td></tr>\n",
       "<tr><td>TrainLightGCN_65273015</td><td>TERMINATED</td><td>147.96.81.131:3510433</td><td style=\"text-align: right;\">           9</td><td style=\"text-align: right;\">            2</td><td style=\"text-align: right;\">              8</td><td style=\"text-align: right;\">     9</td><td style=\"text-align: right;\">0.00100612 </td><td style=\"text-align: right;\">         0.0201</td><td style=\"text-align: right;\">    40</td><td style=\"text-align: right;\">         2.85467</td><td style=\"text-align: right;\">        200</td><td style=\"text-align: right;\"> 0.0308196  </td><td style=\"text-align: right;\">0.0128874  </td></tr>\n",
       "<tr><td>TrainLightGCN_2a5793ea</td><td>TERMINATED</td><td>147.96.81.131:3510600</td><td style=\"text-align: right;\">           7</td><td style=\"text-align: right;\">            4</td><td style=\"text-align: right;\">             11</td><td style=\"text-align: right;\">     9</td><td style=\"text-align: right;\">3.54222e-06</td><td style=\"text-align: right;\">         0.0011</td><td style=\"text-align: right;\">    40</td><td style=\"text-align: right;\">         4.13239</td><td style=\"text-align: right;\">        200</td><td style=\"text-align: right;\"> 0.102583   </td><td style=\"text-align: right;\">0.102549   </td></tr>\n",
       "<tr><td>TrainLightGCN_a542535b</td><td>TERMINATED</td><td>147.96.81.131:3510763</td><td style=\"text-align: right;\">           7</td><td style=\"text-align: right;\">            3</td><td style=\"text-align: right;\">             31</td><td style=\"text-align: right;\">     9</td><td style=\"text-align: right;\">0.00138468 </td><td style=\"text-align: right;\">         0.4767</td><td style=\"text-align: right;\">    40</td><td style=\"text-align: right;\">         4.11851</td><td style=\"text-align: right;\">        200</td><td style=\"text-align: right;\"> 0.495975   </td><td style=\"text-align: right;\">0.0502603  </td></tr>\n",
       "<tr><td>TrainLightGCN_5c97c7e8</td><td>TERMINATED</td><td>147.96.81.131:3510922</td><td style=\"text-align: right;\">           9</td><td style=\"text-align: right;\">            4</td><td style=\"text-align: right;\">             47</td><td style=\"text-align: right;\">     9</td><td style=\"text-align: right;\">4.37236e-06</td><td style=\"text-align: right;\">         0.0763</td><td style=\"text-align: right;\">    40</td><td style=\"text-align: right;\">         2.88891</td><td style=\"text-align: right;\">        200</td><td style=\"text-align: right;\"> 0.000645821</td><td style=\"text-align: right;\">0.000174724</td></tr>\n",
       "<tr><td>TrainLightGCN_78f1dac9</td><td>TERMINATED</td><td>147.96.81.131:3511095</td><td style=\"text-align: right;\">           7</td><td style=\"text-align: right;\">            2</td><td style=\"text-align: right;\">            338</td><td style=\"text-align: right;\">     9</td><td style=\"text-align: right;\">1.08811e-07</td><td style=\"text-align: right;\">         0.0005</td><td style=\"text-align: right;\">    40</td><td style=\"text-align: right;\">         4.05802</td><td style=\"text-align: right;\">        200</td><td style=\"text-align: right;\"> 0.00959444 </td><td style=\"text-align: right;\">0.00959249 </td></tr>\n",
       "<tr><td>TrainLightGCN_eb4407ab</td><td>TERMINATED</td><td>147.96.81.131:3511271</td><td style=\"text-align: right;\">           6</td><td style=\"text-align: right;\">            2</td><td style=\"text-align: right;\">             18</td><td style=\"text-align: right;\">     9</td><td style=\"text-align: right;\">0.000167252</td><td style=\"text-align: right;\">         0.0347</td><td style=\"text-align: right;\">    40</td><td style=\"text-align: right;\">         5.78268</td><td style=\"text-align: right;\">        200</td><td style=\"text-align: right;\"> 0.00661234 </td><td style=\"text-align: right;\">0.000951832</td></tr>\n",
       "<tr><td>TrainLightGCN_bf3db6cd</td><td>TERMINATED</td><td>147.96.81.131:3511428</td><td style=\"text-align: right;\">           6</td><td style=\"text-align: right;\">            5</td><td style=\"text-align: right;\">              2</td><td style=\"text-align: right;\">     9</td><td style=\"text-align: right;\">0.000259873</td><td style=\"text-align: right;\">         0.9629</td><td style=\"text-align: right;\">    40</td><td style=\"text-align: right;\">         6.18374</td><td style=\"text-align: right;\">        200</td><td style=\"text-align: right;\"> 0.306454   </td><td style=\"text-align: right;\">0.280621   </td></tr>\n",
       "<tr><td>TrainLightGCN_7b3f62fe</td><td>TERMINATED</td><td>147.96.81.131:3511596</td><td style=\"text-align: right;\">           6</td><td style=\"text-align: right;\">            2</td><td style=\"text-align: right;\">            683</td><td style=\"text-align: right;\">     9</td><td style=\"text-align: right;\">0.000102409</td><td style=\"text-align: right;\">         0.0018</td><td style=\"text-align: right;\">    40</td><td style=\"text-align: right;\">         6.2017 </td><td style=\"text-align: right;\">        200</td><td style=\"text-align: right;\"> 0.00352195 </td><td style=\"text-align: right;\">0.00045464 </td></tr>\n",
       "<tr><td>TrainLightGCN_7494fd41</td><td>TERMINATED</td><td>147.96.81.131:3511763</td><td style=\"text-align: right;\">           6</td><td style=\"text-align: right;\">            1</td><td style=\"text-align: right;\">             25</td><td style=\"text-align: right;\">     9</td><td style=\"text-align: right;\">0.00143882 </td><td style=\"text-align: right;\">         0.0032</td><td style=\"text-align: right;\">    40</td><td style=\"text-align: right;\">         5.94621</td><td style=\"text-align: right;\">        200</td><td style=\"text-align: right;\"> 0.0248336  </td><td style=\"text-align: right;\">0.00560708 </td></tr>\n",
       "<tr><td>TrainLightGCN_65c7893e</td><td>TERMINATED</td><td>147.96.81.131:3511931</td><td style=\"text-align: right;\">           6</td><td style=\"text-align: right;\">            5</td><td style=\"text-align: right;\">             16</td><td style=\"text-align: right;\">     9</td><td style=\"text-align: right;\">0.00220926 </td><td style=\"text-align: right;\">         0.0656</td><td style=\"text-align: right;\">    40</td><td style=\"text-align: right;\">         6.32989</td><td style=\"text-align: right;\">        200</td><td style=\"text-align: right;\"> 0.0809703  </td><td style=\"text-align: right;\">0.026502   </td></tr>\n",
       "<tr><td>TrainLightGCN_aa902963</td><td>TERMINATED</td><td>147.96.81.131:3512096</td><td style=\"text-align: right;\">           7</td><td style=\"text-align: right;\">            3</td><td style=\"text-align: right;\">             47</td><td style=\"text-align: right;\">     9</td><td style=\"text-align: right;\">0.000397084</td><td style=\"text-align: right;\">         0.0195</td><td style=\"text-align: right;\">    40</td><td style=\"text-align: right;\">         4.45556</td><td style=\"text-align: right;\">        200</td><td style=\"text-align: right;\"> 0.0144466  </td><td style=\"text-align: right;\">0.00296835 </td></tr>\n",
       "<tr><td>TrainLightGCN_73ac3a85</td><td>TERMINATED</td><td>147.96.81.131:3512262</td><td style=\"text-align: right;\">           7</td><td style=\"text-align: right;\">            2</td><td style=\"text-align: right;\">             50</td><td style=\"text-align: right;\">     9</td><td style=\"text-align: right;\">8.49105e-05</td><td style=\"text-align: right;\">         0.9492</td><td style=\"text-align: right;\">    40</td><td style=\"text-align: right;\">         4.05951</td><td style=\"text-align: right;\">        200</td><td style=\"text-align: right;\"> 5.48536    </td><td style=\"text-align: right;\">2.07638    </td></tr>\n",
       "<tr><td>TrainLightGCN_7229cb21</td><td>TERMINATED</td><td>147.96.81.131:3512435</td><td style=\"text-align: right;\">           6</td><td style=\"text-align: right;\">            5</td><td style=\"text-align: right;\">             13</td><td style=\"text-align: right;\">     9</td><td style=\"text-align: right;\">1.45205e-05</td><td style=\"text-align: right;\">         0.001 </td><td style=\"text-align: right;\">    40</td><td style=\"text-align: right;\">         5.95647</td><td style=\"text-align: right;\">        200</td><td style=\"text-align: right;\"> 0.0805436  </td><td style=\"text-align: right;\">0.0803465  </td></tr>\n",
       "<tr><td>TrainLightGCN_78c62138</td><td>TERMINATED</td><td>147.96.81.131:3512600</td><td style=\"text-align: right;\">           8</td><td style=\"text-align: right;\">            3</td><td style=\"text-align: right;\">              1</td><td style=\"text-align: right;\">     9</td><td style=\"text-align: right;\">0.00987128 </td><td style=\"text-align: right;\">         0.0001</td><td style=\"text-align: right;\">    40</td><td style=\"text-align: right;\">         3.39059</td><td style=\"text-align: right;\">        200</td><td style=\"text-align: right;\"> 0.688749   </td><td style=\"text-align: right;\">0.688379   </td></tr>\n",
       "<tr><td>TrainLightGCN_a8594854</td><td>TERMINATED</td><td>147.96.81.131:3512765</td><td style=\"text-align: right;\">           7</td><td style=\"text-align: right;\">            3</td><td style=\"text-align: right;\">            138</td><td style=\"text-align: right;\">     9</td><td style=\"text-align: right;\">0.000585278</td><td style=\"text-align: right;\">         0.0037</td><td style=\"text-align: right;\">    40</td><td style=\"text-align: right;\">         4.03673</td><td style=\"text-align: right;\">        200</td><td style=\"text-align: right;\"> 0.0196199  </td><td style=\"text-align: right;\">0.00477103 </td></tr>\n",
       "<tr><td>TrainLightGCN_b5b984b9</td><td>TERMINATED</td><td>147.96.81.131:3512941</td><td style=\"text-align: right;\">           8</td><td style=\"text-align: right;\">            5</td><td style=\"text-align: right;\">             27</td><td style=\"text-align: right;\">     9</td><td style=\"text-align: right;\">0.00203099 </td><td style=\"text-align: right;\">         0.4786</td><td style=\"text-align: right;\">    40</td><td style=\"text-align: right;\">         3.30513</td><td style=\"text-align: right;\">        200</td><td style=\"text-align: right;\"> 0.171906   </td><td style=\"text-align: right;\">0.0472351  </td></tr>\n",
       "<tr><td>TrainLightGCN_35a74986</td><td>TERMINATED</td><td>147.96.81.131:3513104</td><td style=\"text-align: right;\">           6</td><td style=\"text-align: right;\">            4</td><td style=\"text-align: right;\">            870</td><td style=\"text-align: right;\">     9</td><td style=\"text-align: right;\">0.000168579</td><td style=\"text-align: right;\">         0.1081</td><td style=\"text-align: right;\">    40</td><td style=\"text-align: right;\">         6.0087 </td><td style=\"text-align: right;\">        200</td><td style=\"text-align: right;\"> 1.31368    </td><td style=\"text-align: right;\">0.410506   </td></tr>\n",
       "<tr><td>TrainLightGCN_913dc2af</td><td>TERMINATED</td><td>147.96.81.131:3513281</td><td style=\"text-align: right;\">           7</td><td style=\"text-align: right;\">            3</td><td style=\"text-align: right;\">              3</td><td style=\"text-align: right;\">     9</td><td style=\"text-align: right;\">4.46548e-05</td><td style=\"text-align: right;\">         0.0206</td><td style=\"text-align: right;\">    40</td><td style=\"text-align: right;\">         4.48919</td><td style=\"text-align: right;\">        200</td><td style=\"text-align: right;\"> 0.0378899  </td><td style=\"text-align: right;\">0.036967   </td></tr>\n",
       "<tr><td>TrainLightGCN_85abaaba</td><td>TERMINATED</td><td>147.96.81.131:3513439</td><td style=\"text-align: right;\">           8</td><td style=\"text-align: right;\">            3</td><td style=\"text-align: right;\">             36</td><td style=\"text-align: right;\">     9</td><td style=\"text-align: right;\">1.83409e-05</td><td style=\"text-align: right;\">         0.0024</td><td style=\"text-align: right;\">    40</td><td style=\"text-align: right;\">         3.30228</td><td style=\"text-align: right;\">        200</td><td style=\"text-align: right;\"> 0.0185031  </td><td style=\"text-align: right;\">0.0181657  </td></tr>\n",
       "<tr><td>TrainLightGCN_bd11f4c1</td><td>TERMINATED</td><td>147.96.81.131:3513605</td><td style=\"text-align: right;\">           7</td><td style=\"text-align: right;\">            2</td><td style=\"text-align: right;\">             67</td><td style=\"text-align: right;\">     9</td><td style=\"text-align: right;\">0.000725063</td><td style=\"text-align: right;\">         0.0002</td><td style=\"text-align: right;\">    40</td><td style=\"text-align: right;\">         4.0044 </td><td style=\"text-align: right;\">        200</td><td style=\"text-align: right;\"> 0.109536   </td><td style=\"text-align: right;\">0.105101   </td></tr>\n",
       "<tr><td>TrainLightGCN_f1285568</td><td>TERMINATED</td><td>147.96.81.131:3513782</td><td style=\"text-align: right;\">           7</td><td style=\"text-align: right;\">            4</td><td style=\"text-align: right;\">             23</td><td style=\"text-align: right;\">     9</td><td style=\"text-align: right;\">0.00955768 </td><td style=\"text-align: right;\">         0.0062</td><td style=\"text-align: right;\">    40</td><td style=\"text-align: right;\">         4.14908</td><td style=\"text-align: right;\">        200</td><td style=\"text-align: right;\"> 0.156836   </td><td style=\"text-align: right;\">0.0604855  </td></tr>\n",
       "<tr><td>TrainLightGCN_943f529d</td><td>TERMINATED</td><td>147.96.81.131:3513948</td><td style=\"text-align: right;\">           6</td><td style=\"text-align: right;\">            5</td><td style=\"text-align: right;\">            141</td><td style=\"text-align: right;\">     9</td><td style=\"text-align: right;\">0.00306794 </td><td style=\"text-align: right;\">         0.0007</td><td style=\"text-align: right;\">    40</td><td style=\"text-align: right;\">         5.98021</td><td style=\"text-align: right;\">        200</td><td style=\"text-align: right;\"> 0.0931861  </td><td style=\"text-align: right;\">0.0435545  </td></tr>\n",
       "<tr><td>TrainLightGCN_6312469c</td><td>TERMINATED</td><td>147.96.81.131:3514115</td><td style=\"text-align: right;\">           8</td><td style=\"text-align: right;\">            3</td><td style=\"text-align: right;\">             10</td><td style=\"text-align: right;\">     9</td><td style=\"text-align: right;\">0.00031908 </td><td style=\"text-align: right;\">         0.038 </td><td style=\"text-align: right;\">    40</td><td style=\"text-align: right;\">         3.57414</td><td style=\"text-align: right;\">        200</td><td style=\"text-align: right;\"> 0.0127356  </td><td style=\"text-align: right;\">0.00269385 </td></tr>\n",
       "<tr><td>TrainLightGCN_7bc508f5</td><td>TERMINATED</td><td>147.96.81.131:3514282</td><td style=\"text-align: right;\">           7</td><td style=\"text-align: right;\">            4</td><td style=\"text-align: right;\">            229</td><td style=\"text-align: right;\">     9</td><td style=\"text-align: right;\">7.21785e-05</td><td style=\"text-align: right;\">         0.0067</td><td style=\"text-align: right;\">    40</td><td style=\"text-align: right;\">         4.04124</td><td style=\"text-align: right;\">        200</td><td style=\"text-align: right;\"> 0.0048817  </td><td style=\"text-align: right;\">0.00116656 </td></tr>\n",
       "<tr><td>TrainLightGCN_2376cdd5</td><td>TERMINATED</td><td>147.96.81.131:3514446</td><td style=\"text-align: right;\">           7</td><td style=\"text-align: right;\">            3</td><td style=\"text-align: right;\">            577</td><td style=\"text-align: right;\">     9</td><td style=\"text-align: right;\">0.00579355 </td><td style=\"text-align: right;\">         0.221 </td><td style=\"text-align: right;\">    40</td><td style=\"text-align: right;\">         4.06606</td><td style=\"text-align: right;\">        200</td><td style=\"text-align: right;\"> 0.998583   </td><td style=\"text-align: right;\">0.134527   </td></tr>\n",
       "<tr><td>TrainLightGCN_454d8e92</td><td>TERMINATED</td><td>147.96.81.131:3514615</td><td style=\"text-align: right;\">           6</td><td style=\"text-align: right;\">            1</td><td style=\"text-align: right;\">              2</td><td style=\"text-align: right;\">     9</td><td style=\"text-align: right;\">0.000232485</td><td style=\"text-align: right;\">         0.0112</td><td style=\"text-align: right;\">    40</td><td style=\"text-align: right;\">         5.80634</td><td style=\"text-align: right;\">        200</td><td style=\"text-align: right;\"> 0.0872424  </td><td style=\"text-align: right;\">0.0848836  </td></tr>\n",
       "<tr><td>TrainLightGCN_a0479ef9</td><td>TERMINATED</td><td>147.96.81.131:3514782</td><td style=\"text-align: right;\">           7</td><td style=\"text-align: right;\">            4</td><td style=\"text-align: right;\">             34</td><td style=\"text-align: right;\">     9</td><td style=\"text-align: right;\">3.09744e-05</td><td style=\"text-align: right;\">         0.0002</td><td style=\"text-align: right;\">    40</td><td style=\"text-align: right;\">         4.37538</td><td style=\"text-align: right;\">        200</td><td style=\"text-align: right;\"> 0.188556   </td><td style=\"text-align: right;\">0.188406   </td></tr>\n",
       "<tr><td>TrainLightGCN_7e202ac7</td><td>TERMINATED</td><td>147.96.81.131:3514950</td><td style=\"text-align: right;\">           8</td><td style=\"text-align: right;\">            3</td><td style=\"text-align: right;\">             18</td><td style=\"text-align: right;\">     9</td><td style=\"text-align: right;\">0.00100871 </td><td style=\"text-align: right;\">         0.0107</td><td style=\"text-align: right;\">    40</td><td style=\"text-align: right;\">         3.36564</td><td style=\"text-align: right;\">        200</td><td style=\"text-align: right;\"> 0.0296713  </td><td style=\"text-align: right;\">0.00858847 </td></tr>\n",
       "<tr><td>TrainLightGCN_452aca6a</td><td>TERMINATED</td><td>147.96.81.131:3515118</td><td style=\"text-align: right;\">           6</td><td style=\"text-align: right;\">            1</td><td style=\"text-align: right;\">              1</td><td style=\"text-align: right;\">     9</td><td style=\"text-align: right;\">0.000182099</td><td style=\"text-align: right;\">         0.1233</td><td style=\"text-align: right;\">    40</td><td style=\"text-align: right;\">         5.59618</td><td style=\"text-align: right;\">        200</td><td style=\"text-align: right;\"> 0.300812   </td><td style=\"text-align: right;\">0.298699   </td></tr>\n",
       "<tr><td>TrainLightGCN_eab1639e</td><td>TERMINATED</td><td>147.96.81.131:3515298</td><td style=\"text-align: right;\">           6</td><td style=\"text-align: right;\">            1</td><td style=\"text-align: right;\">              2</td><td style=\"text-align: right;\">     9</td><td style=\"text-align: right;\">1.2281e-05 </td><td style=\"text-align: right;\">         0.5157</td><td style=\"text-align: right;\">    40</td><td style=\"text-align: right;\">         5.97836</td><td style=\"text-align: right;\">        200</td><td style=\"text-align: right;\"> 0.432872   </td><td style=\"text-align: right;\">0.431336   </td></tr>\n",
       "<tr><td>TrainLightGCN_c8d515be</td><td>TERMINATED</td><td>147.96.81.131:3515456</td><td style=\"text-align: right;\">           6</td><td style=\"text-align: right;\">            2</td><td style=\"text-align: right;\">              2</td><td style=\"text-align: right;\">     9</td><td style=\"text-align: right;\">4.91763e-05</td><td style=\"text-align: right;\">         0.3358</td><td style=\"text-align: right;\">    40</td><td style=\"text-align: right;\">         5.947  </td><td style=\"text-align: right;\">        200</td><td style=\"text-align: right;\"> 0.199779   </td><td style=\"text-align: right;\">0.196344   </td></tr>\n",
       "<tr><td>TrainLightGCN_2e438efe</td><td>TERMINATED</td><td>147.96.81.131:3515624</td><td style=\"text-align: right;\">           9</td><td style=\"text-align: right;\">            1</td><td style=\"text-align: right;\">              1</td><td style=\"text-align: right;\">     9</td><td style=\"text-align: right;\">1.51919e-06</td><td style=\"text-align: right;\">         0.1345</td><td style=\"text-align: right;\">    40</td><td style=\"text-align: right;\">         3.04593</td><td style=\"text-align: right;\">        200</td><td style=\"text-align: right;\"> 0.282306   </td><td style=\"text-align: right;\">0.282287   </td></tr>\n",
       "<tr><td>TrainLightGCN_e33e319a</td><td>TERMINATED</td><td>147.96.81.131:3515793</td><td style=\"text-align: right;\">           6</td><td style=\"text-align: right;\">            2</td><td style=\"text-align: right;\">              4</td><td style=\"text-align: right;\">     9</td><td style=\"text-align: right;\">7.9973e-06 </td><td style=\"text-align: right;\">         0.7678</td><td style=\"text-align: right;\">    40</td><td style=\"text-align: right;\">         5.578  </td><td style=\"text-align: right;\">        200</td><td style=\"text-align: right;\"> 1.44142    </td><td style=\"text-align: right;\">1.42632    </td></tr>\n",
       "<tr><td>TrainLightGCN_623a5863</td><td>TERMINATED</td><td>147.96.81.131:3515969</td><td style=\"text-align: right;\">           8</td><td style=\"text-align: right;\">            1</td><td style=\"text-align: right;\">              1</td><td style=\"text-align: right;\">     9</td><td style=\"text-align: right;\">0.000145193</td><td style=\"text-align: right;\">         0.1415</td><td style=\"text-align: right;\">    40</td><td style=\"text-align: right;\">         3.43908</td><td style=\"text-align: right;\">        200</td><td style=\"text-align: right;\"> 0.230542   </td><td style=\"text-align: right;\">0.22839    </td></tr>\n",
       "<tr><td>TrainLightGCN_51496bc1</td><td>TERMINATED</td><td>147.96.81.131:3516126</td><td style=\"text-align: right;\">           6</td><td style=\"text-align: right;\">            2</td><td style=\"text-align: right;\">              3</td><td style=\"text-align: right;\">     9</td><td style=\"text-align: right;\">0.00553844 </td><td style=\"text-align: right;\">         0.2888</td><td style=\"text-align: right;\">    40</td><td style=\"text-align: right;\">         5.59649</td><td style=\"text-align: right;\">        200</td><td style=\"text-align: right;\"> 0.190123   </td><td style=\"text-align: right;\">0.100811   </td></tr>\n",
       "<tr><td>TrainLightGCN_1d98609a</td><td>TERMINATED</td><td>147.96.81.131:3516301</td><td style=\"text-align: right;\">           9</td><td style=\"text-align: right;\">            2</td><td style=\"text-align: right;\">              8</td><td style=\"text-align: right;\">     9</td><td style=\"text-align: right;\">0.000653922</td><td style=\"text-align: right;\">         0.045 </td><td style=\"text-align: right;\">    40</td><td style=\"text-align: right;\">         3.02293</td><td style=\"text-align: right;\">        200</td><td style=\"text-align: right;\"> 0.0199258  </td><td style=\"text-align: right;\">0.00559269 </td></tr>\n",
       "<tr><td>TrainLightGCN_c44cb4df</td><td>TERMINATED</td><td>147.96.81.131:3516461</td><td style=\"text-align: right;\">           7</td><td style=\"text-align: right;\">            3</td><td style=\"text-align: right;\">            396</td><td style=\"text-align: right;\">     9</td><td style=\"text-align: right;\">0.00262012 </td><td style=\"text-align: right;\">         0.0635</td><td style=\"text-align: right;\">    40</td><td style=\"text-align: right;\">         4.10346</td><td style=\"text-align: right;\">        200</td><td style=\"text-align: right;\"> 0.0773978  </td><td style=\"text-align: right;\">0.0177629  </td></tr>\n",
       "<tr><td>TrainLightGCN_32469df5</td><td>TERMINATED</td><td>147.96.81.131:3516636</td><td style=\"text-align: right;\">           6</td><td style=\"text-align: right;\">            1</td><td style=\"text-align: right;\">              6</td><td style=\"text-align: right;\">     9</td><td style=\"text-align: right;\">2.0876e-05 </td><td style=\"text-align: right;\">         0.1692</td><td style=\"text-align: right;\">    40</td><td style=\"text-align: right;\">         5.75953</td><td style=\"text-align: right;\">        200</td><td style=\"text-align: right;\"> 0.159621   </td><td style=\"text-align: right;\">0.154288   </td></tr>\n",
       "<tr><td>TrainLightGCN_d87582a4</td><td>TERMINATED</td><td>147.96.81.131:3516798</td><td style=\"text-align: right;\">           8</td><td style=\"text-align: right;\">            2</td><td style=\"text-align: right;\">            249</td><td style=\"text-align: right;\">     9</td><td style=\"text-align: right;\">0.00150264 </td><td style=\"text-align: right;\">         0.0918</td><td style=\"text-align: right;\">    40</td><td style=\"text-align: right;\">         3.37844</td><td style=\"text-align: right;\">        200</td><td style=\"text-align: right;\"> 0.0407355  </td><td style=\"text-align: right;\">0.00751812 </td></tr>\n",
       "<tr><td>TrainLightGCN_6d2ecc29</td><td>TERMINATED</td><td>147.96.81.131:3516963</td><td style=\"text-align: right;\">           7</td><td style=\"text-align: right;\">            3</td><td style=\"text-align: right;\">           1023</td><td style=\"text-align: right;\">     9</td><td style=\"text-align: right;\">0.00337193 </td><td style=\"text-align: right;\">         0.7328</td><td style=\"text-align: right;\">    40</td><td style=\"text-align: right;\">         4.11002</td><td style=\"text-align: right;\">        200</td><td style=\"text-align: right;\">21.4253     </td><td style=\"text-align: right;\">1.61696    </td></tr>\n",
       "<tr><td>TrainLightGCN_7734281e</td><td>TERMINATED</td><td>147.96.81.131:3517139</td><td style=\"text-align: right;\">           7</td><td style=\"text-align: right;\">            3</td><td style=\"text-align: right;\">            467</td><td style=\"text-align: right;\">     9</td><td style=\"text-align: right;\">0.00934871 </td><td style=\"text-align: right;\">         0.0593</td><td style=\"text-align: right;\">    40</td><td style=\"text-align: right;\">         4.21876</td><td style=\"text-align: right;\">        200</td><td style=\"text-align: right;\"> 0.176753   </td><td style=\"text-align: right;\">0.0457932  </td></tr>\n",
       "<tr><td>TrainLightGCN_6a4d69a4</td><td>TERMINATED</td><td>147.96.81.131:3517298</td><td style=\"text-align: right;\">           7</td><td style=\"text-align: right;\">            3</td><td style=\"text-align: right;\">             94</td><td style=\"text-align: right;\">     9</td><td style=\"text-align: right;\">5.13054e-07</td><td style=\"text-align: right;\">         0.017 </td><td style=\"text-align: right;\">    40</td><td style=\"text-align: right;\">         4.01862</td><td style=\"text-align: right;\">        200</td><td style=\"text-align: right;\"> 0.000160916</td><td style=\"text-align: right;\">0.00012854 </td></tr>\n",
       "<tr><td>TrainLightGCN_153ad806</td><td>TERMINATED</td><td>147.96.81.131:3517464</td><td style=\"text-align: right;\">           8</td><td style=\"text-align: right;\">            4</td><td style=\"text-align: right;\">            172</td><td style=\"text-align: right;\">     9</td><td style=\"text-align: right;\">0.00251104 </td><td style=\"text-align: right;\">         0.5998</td><td style=\"text-align: right;\">    40</td><td style=\"text-align: right;\">         3.33776</td><td style=\"text-align: right;\">        200</td><td style=\"text-align: right;\"> 1.54029    </td><td style=\"text-align: right;\">0.147592   </td></tr>\n",
       "<tr><td>TrainLightGCN_d3ba4d31</td><td>TERMINATED</td><td>147.96.81.131:3517630</td><td style=\"text-align: right;\">           7</td><td style=\"text-align: right;\">            3</td><td style=\"text-align: right;\">             58</td><td style=\"text-align: right;\">     9</td><td style=\"text-align: right;\">0.00505716 </td><td style=\"text-align: right;\">         0.0281</td><td style=\"text-align: right;\">    40</td><td style=\"text-align: right;\">         4.05891</td><td style=\"text-align: right;\">        200</td><td style=\"text-align: right;\"> 0.0977625  </td><td style=\"text-align: right;\">0.0280822  </td></tr>\n",
       "<tr><td>TrainLightGCN_4269fcfc</td><td>TERMINATED</td><td>147.96.81.131:3517807</td><td style=\"text-align: right;\">           7</td><td style=\"text-align: right;\">            4</td><td style=\"text-align: right;\">            324</td><td style=\"text-align: right;\">     9</td><td style=\"text-align: right;\">1.10388e-07</td><td style=\"text-align: right;\">         0.267 </td><td style=\"text-align: right;\">    40</td><td style=\"text-align: right;\">         4.25726</td><td style=\"text-align: right;\">        200</td><td style=\"text-align: right;\"> 0.00397553 </td><td style=\"text-align: right;\">0          </td></tr>\n",
       "<tr><td>TrainLightGCN_51686311</td><td>TERMINATED</td><td>147.96.81.131:3517962</td><td style=\"text-align: right;\">           7</td><td style=\"text-align: right;\">            3</td><td style=\"text-align: right;\">            110</td><td style=\"text-align: right;\">     9</td><td style=\"text-align: right;\">0.00146862 </td><td style=\"text-align: right;\">         0.3883</td><td style=\"text-align: right;\">    40</td><td style=\"text-align: right;\">         4.03585</td><td style=\"text-align: right;\">        200</td><td style=\"text-align: right;\"> 1.31678    </td><td style=\"text-align: right;\">0.312053   </td></tr>\n",
       "<tr><td>TrainLightGCN_27c7aa6c</td><td>TERMINATED</td><td>147.96.81.131:3518135</td><td style=\"text-align: right;\">           8</td><td style=\"text-align: right;\">            4</td><td style=\"text-align: right;\">             21</td><td style=\"text-align: right;\">     9</td><td style=\"text-align: right;\">0.000115846</td><td style=\"text-align: right;\">         0.0539</td><td style=\"text-align: right;\">    40</td><td style=\"text-align: right;\">         3.25685</td><td style=\"text-align: right;\">        200</td><td style=\"text-align: right;\"> 0.00671565 </td><td style=\"text-align: right;\">0.000896052</td></tr>\n",
       "<tr><td>TrainLightGCN_bb002dd6</td><td>TERMINATED</td><td>147.96.81.131:3518302</td><td style=\"text-align: right;\">           7</td><td style=\"text-align: right;\">            2</td><td style=\"text-align: right;\">             13</td><td style=\"text-align: right;\">     9</td><td style=\"text-align: right;\">0.000459562</td><td style=\"text-align: right;\">         0.0278</td><td style=\"text-align: right;\">    40</td><td style=\"text-align: right;\">         4.04992</td><td style=\"text-align: right;\">        200</td><td style=\"text-align: right;\"> 0.0136142  </td><td style=\"text-align: right;\">0.00296229 </td></tr>\n",
       "<tr><td>TrainLightGCN_7a1f5ee0</td><td>TERMINATED</td><td>147.96.81.131:3518478</td><td style=\"text-align: right;\">           7</td><td style=\"text-align: right;\">            2</td><td style=\"text-align: right;\">            186</td><td style=\"text-align: right;\">     9</td><td style=\"text-align: right;\">0.00749864 </td><td style=\"text-align: right;\">         0.0905</td><td style=\"text-align: right;\">    40</td><td style=\"text-align: right;\">         4.12516</td><td style=\"text-align: right;\">        200</td><td style=\"text-align: right;\"> 0.175906   </td><td style=\"text-align: right;\">0.0401505  </td></tr>\n",
       "<tr><td>TrainLightGCN_148201db</td><td>TERMINATED</td><td>147.96.81.131:3518635</td><td style=\"text-align: right;\">           8</td><td style=\"text-align: right;\">            4</td><td style=\"text-align: right;\">             68</td><td style=\"text-align: right;\">     9</td><td style=\"text-align: right;\">0.000832193</td><td style=\"text-align: right;\">         0.1967</td><td style=\"text-align: right;\">    40</td><td style=\"text-align: right;\">         3.26882</td><td style=\"text-align: right;\">        200</td><td style=\"text-align: right;\"> 0.0481861  </td><td style=\"text-align: right;\">0.00797145 </td></tr>\n",
       "<tr><td>TrainLightGCN_a7cbe367</td><td>TERMINATED</td><td>147.96.81.131:3518799</td><td style=\"text-align: right;\">           7</td><td style=\"text-align: right;\">            3</td><td style=\"text-align: right;\">             51</td><td style=\"text-align: right;\">     9</td><td style=\"text-align: right;\">0.00441858 </td><td style=\"text-align: right;\">         0.0145</td><td style=\"text-align: right;\">    40</td><td style=\"text-align: right;\">         4.09931</td><td style=\"text-align: right;\">        200</td><td style=\"text-align: right;\"> 0.0857797  </td><td style=\"text-align: right;\">0.0248632  </td></tr>\n",
       "<tr><td>TrainLightGCN_ecf1a5a6</td><td>TERMINATED</td><td>147.96.81.131:3518976</td><td style=\"text-align: right;\">           7</td><td style=\"text-align: right;\">            3</td><td style=\"text-align: right;\">             60</td><td style=\"text-align: right;\">     9</td><td style=\"text-align: right;\">0.00202461 </td><td style=\"text-align: right;\">         0.0233</td><td style=\"text-align: right;\">    40</td><td style=\"text-align: right;\">         4.10112</td><td style=\"text-align: right;\">        200</td><td style=\"text-align: right;\"> 0.0513422  </td><td style=\"text-align: right;\">0.0128869  </td></tr>\n",
       "<tr><td>TrainLightGCN_22c7b12d</td><td>TERMINATED</td><td>147.96.81.131:3519137</td><td style=\"text-align: right;\">           7</td><td style=\"text-align: right;\">            3</td><td style=\"text-align: right;\">             86</td><td style=\"text-align: right;\">     9</td><td style=\"text-align: right;\">0.00446564 </td><td style=\"text-align: right;\">         0.0336</td><td style=\"text-align: right;\">    40</td><td style=\"text-align: right;\">         4.20334</td><td style=\"text-align: right;\">        200</td><td style=\"text-align: right;\"> 0.0921517  </td><td style=\"text-align: right;\">0.0258268  </td></tr>\n",
       "<tr><td>TrainLightGCN_4b5742de</td><td>TERMINATED</td><td>147.96.81.131:3519304</td><td style=\"text-align: right;\">           7</td><td style=\"text-align: right;\">            3</td><td style=\"text-align: right;\">            740</td><td style=\"text-align: right;\">     9</td><td style=\"text-align: right;\">0.00033402 </td><td style=\"text-align: right;\">         0.0691</td><td style=\"text-align: right;\">    40</td><td style=\"text-align: right;\">         4.07779</td><td style=\"text-align: right;\">        200</td><td style=\"text-align: right;\"> 0.312325   </td><td style=\"text-align: right;\">0.0240682  </td></tr>\n",
       "<tr><td>TrainLightGCN_5f40e086</td><td>TERMINATED</td><td>147.96.81.131:3519479</td><td style=\"text-align: right;\">           7</td><td style=\"text-align: right;\">            3</td><td style=\"text-align: right;\">             39</td><td style=\"text-align: right;\">     9</td><td style=\"text-align: right;\">0.00124527 </td><td style=\"text-align: right;\">         0.0057</td><td style=\"text-align: right;\">    40</td><td style=\"text-align: right;\">         4.09774</td><td style=\"text-align: right;\">        200</td><td style=\"text-align: right;\"> 0.0353392  </td><td style=\"text-align: right;\">0.0100793  </td></tr>\n",
       "<tr><td>TrainLightGCN_a149e4f5</td><td>TERMINATED</td><td>147.96.81.131:3519644</td><td style=\"text-align: right;\">           7</td><td style=\"text-align: right;\">            3</td><td style=\"text-align: right;\">            425</td><td style=\"text-align: right;\">     9</td><td style=\"text-align: right;\">0.00175051 </td><td style=\"text-align: right;\">         0.0078</td><td style=\"text-align: right;\">    40</td><td style=\"text-align: right;\">         4.19109</td><td style=\"text-align: right;\">        200</td><td style=\"text-align: right;\"> 0.0457716  </td><td style=\"text-align: right;\">0.0111461  </td></tr>\n",
       "<tr><td>TrainLightGCN_301579b4</td><td>TERMINATED</td><td>147.96.81.131:3519813</td><td style=\"text-align: right;\">           6</td><td style=\"text-align: right;\">            3</td><td style=\"text-align: right;\">             29</td><td style=\"text-align: right;\">     9</td><td style=\"text-align: right;\">0.00311657 </td><td style=\"text-align: right;\">         0.0128</td><td style=\"text-align: right;\">    40</td><td style=\"text-align: right;\">         5.93456</td><td style=\"text-align: right;\">        200</td><td style=\"text-align: right;\"> 0.0677563  </td><td style=\"text-align: right;\">0.0187421  </td></tr>\n",
       "<tr><td>TrainLightGCN_8b33400b</td><td>TERMINATED</td><td>147.96.81.131:3519978</td><td style=\"text-align: right;\">           7</td><td style=\"text-align: right;\">            4</td><td style=\"text-align: right;\">            134</td><td style=\"text-align: right;\">     9</td><td style=\"text-align: right;\">0.00702365 </td><td style=\"text-align: right;\">         0.0023</td><td style=\"text-align: right;\">    40</td><td style=\"text-align: right;\">         4.43084</td><td style=\"text-align: right;\">        200</td><td style=\"text-align: right;\"> 0.1298     </td><td style=\"text-align: right;\">0.0475185  </td></tr>\n",
       "<tr><td>TrainLightGCN_a2d57253</td><td>TERMINATED</td><td>147.96.81.131:3520148</td><td style=\"text-align: right;\">           7</td><td style=\"text-align: right;\">            2</td><td style=\"text-align: right;\">            499</td><td style=\"text-align: right;\">     9</td><td style=\"text-align: right;\">0.000543672</td><td style=\"text-align: right;\">         0.0081</td><td style=\"text-align: right;\">    40</td><td style=\"text-align: right;\">         4.11931</td><td style=\"text-align: right;\">        200</td><td style=\"text-align: right;\"> 0.0147761  </td><td style=\"text-align: right;\">0.00255166 </td></tr>\n",
       "<tr><td>TrainLightGCN_c38c0d9f</td><td>TERMINATED</td><td>147.96.81.131:3520315</td><td style=\"text-align: right;\">           6</td><td style=\"text-align: right;\">            4</td><td style=\"text-align: right;\">            388</td><td style=\"text-align: right;\">     9</td><td style=\"text-align: right;\">0.000236456</td><td style=\"text-align: right;\">         0.0044</td><td style=\"text-align: right;\">    40</td><td style=\"text-align: right;\">         5.86115</td><td style=\"text-align: right;\">        200</td><td style=\"text-align: right;\"> 0.0115391  </td><td style=\"text-align: right;\">0.00209341 </td></tr>\n",
       "<tr><td>TrainLightGCN_fcd8e917</td><td>TERMINATED</td><td>147.96.81.131:3520478</td><td style=\"text-align: right;\">           7</td><td style=\"text-align: right;\">            3</td><td style=\"text-align: right;\">            253</td><td style=\"text-align: right;\">     9</td><td style=\"text-align: right;\">0.00196847 </td><td style=\"text-align: right;\">         0.0009</td><td style=\"text-align: right;\">    40</td><td style=\"text-align: right;\">         4.4145 </td><td style=\"text-align: right;\">        200</td><td style=\"text-align: right;\"> 0.0496889  </td><td style=\"text-align: right;\">0.0171033  </td></tr>\n",
       "<tr><td>TrainLightGCN_f669cda8</td><td>TERMINATED</td><td>147.96.81.131:3520646</td><td style=\"text-align: right;\">           7</td><td style=\"text-align: right;\">            3</td><td style=\"text-align: right;\">            641</td><td style=\"text-align: right;\">     9</td><td style=\"text-align: right;\">5.90132e-05</td><td style=\"text-align: right;\">         0.0017</td><td style=\"text-align: right;\">    40</td><td style=\"text-align: right;\">         4.16532</td><td style=\"text-align: right;\">        200</td><td style=\"text-align: right;\"> 0.00393418 </td><td style=\"text-align: right;\">0.00172661 </td></tr>\n",
       "<tr><td>TrainLightGCN_02ab9755</td><td>TERMINATED</td><td>147.96.81.131:3520815</td><td style=\"text-align: right;\">           6</td><td style=\"text-align: right;\">            2</td><td style=\"text-align: right;\">            972</td><td style=\"text-align: right;\">     9</td><td style=\"text-align: right;\">0.000377073</td><td style=\"text-align: right;\">         0.005 </td><td style=\"text-align: right;\">    40</td><td style=\"text-align: right;\">         5.69058</td><td style=\"text-align: right;\">        200</td><td style=\"text-align: right;\"> 0.0120619  </td><td style=\"text-align: right;\">0.00201339 </td></tr>\n",
       "<tr><td>TrainLightGCN_b8c4a086</td><td>TERMINATED</td><td>147.96.81.131:3520989</td><td style=\"text-align: right;\">           7</td><td style=\"text-align: right;\">            3</td><td style=\"text-align: right;\">            293</td><td style=\"text-align: right;\">     9</td><td style=\"text-align: right;\">0.000946062</td><td style=\"text-align: right;\">         0.0028</td><td style=\"text-align: right;\">    40</td><td style=\"text-align: right;\">         4.38904</td><td style=\"text-align: right;\">        200</td><td style=\"text-align: right;\"> 0.0279738  </td><td style=\"text-align: right;\">0.00667768 </td></tr>\n",
       "<tr><td>TrainLightGCN_a724b1ea</td><td>TERMINATED</td><td>147.96.81.131:3521154</td><td style=\"text-align: right;\">           8</td><td style=\"text-align: right;\">            4</td><td style=\"text-align: right;\">            833</td><td style=\"text-align: right;\">     9</td><td style=\"text-align: right;\">9.67991e-05</td><td style=\"text-align: right;\">         0.0089</td><td style=\"text-align: right;\">    40</td><td style=\"text-align: right;\">         3.40172</td><td style=\"text-align: right;\">        200</td><td style=\"text-align: right;\"> 0.00564431 </td><td style=\"text-align: right;\">0.000750465</td></tr>\n",
       "<tr><td>TrainLightGCN_2a4e277f</td><td>TERMINATED</td><td>147.96.81.131:3521324</td><td style=\"text-align: right;\">           6</td><td style=\"text-align: right;\">            2</td><td style=\"text-align: right;\">            165</td><td style=\"text-align: right;\">     9</td><td style=\"text-align: right;\">3.60463e-05</td><td style=\"text-align: right;\">         0.1648</td><td style=\"text-align: right;\">    40</td><td style=\"text-align: right;\">         5.55754</td><td style=\"text-align: right;\">        200</td><td style=\"text-align: right;\"> 1.69009    </td><td style=\"text-align: right;\">1.3721     </td></tr>\n",
       "<tr><td>TrainLightGCN_f3e03cf6</td><td>TERMINATED</td><td>147.96.81.131:3521495</td><td style=\"text-align: right;\">           7</td><td style=\"text-align: right;\">            3</td><td style=\"text-align: right;\">            383</td><td style=\"text-align: right;\">     9</td><td style=\"text-align: right;\">2.38768e-06</td><td style=\"text-align: right;\">         0.0446</td><td style=\"text-align: right;\">    40</td><td style=\"text-align: right;\">         4.37418</td><td style=\"text-align: right;\">        200</td><td style=\"text-align: right;\"> 0.00273778 </td><td style=\"text-align: right;\">7.00149e-08</td></tr>\n",
       "<tr><td>TrainLightGCN_d54a3e8a</td><td>TERMINATED</td><td>147.96.81.131:3521654</td><td style=\"text-align: right;\">           6</td><td style=\"text-align: right;\">            4</td><td style=\"text-align: right;\">            114</td><td style=\"text-align: right;\">     9</td><td style=\"text-align: right;\">0.00166204 </td><td style=\"text-align: right;\">         0.9972</td><td style=\"text-align: right;\">    40</td><td style=\"text-align: right;\">         5.96433</td><td style=\"text-align: right;\">        200</td><td style=\"text-align: right;\"> 6.30036    </td><td style=\"text-align: right;\">0.581108   </td></tr>\n",
       "<tr><td>TrainLightGCN_ea02951e</td><td>TERMINATED</td><td>147.96.81.131:3521821</td><td style=\"text-align: right;\">           7</td><td style=\"text-align: right;\">            5</td><td style=\"text-align: right;\">             15</td><td style=\"text-align: right;\">     9</td><td style=\"text-align: right;\">0.00287908 </td><td style=\"text-align: right;\">         0.0004</td><td style=\"text-align: right;\">    40</td><td style=\"text-align: right;\">         4.45391</td><td style=\"text-align: right;\">        200</td><td style=\"text-align: right;\"> 0.179939   </td><td style=\"text-align: right;\">0.162249   </td></tr>\n",
       "<tr><td>TrainLightGCN_29135cb9</td><td>TERMINATED</td><td>147.96.81.131:3521989</td><td style=\"text-align: right;\">           8</td><td style=\"text-align: right;\">            3</td><td style=\"text-align: right;\">             21</td><td style=\"text-align: right;\">     9</td><td style=\"text-align: right;\">0.008056   </td><td style=\"text-align: right;\">         0.0852</td><td style=\"text-align: right;\">    40</td><td style=\"text-align: right;\">         3.38921</td><td style=\"text-align: right;\">        200</td><td style=\"text-align: right;\"> 0.131127   </td><td style=\"text-align: right;\">0.0383376  </td></tr>\n",
       "<tr><td>TrainLightGCN_0f95feaf</td><td>TERMINATED</td><td>147.96.81.131:3522158</td><td style=\"text-align: right;\">           6</td><td style=\"text-align: right;\">            3</td><td style=\"text-align: right;\">             10</td><td style=\"text-align: right;\">     9</td><td style=\"text-align: right;\">0.00118565 </td><td style=\"text-align: right;\">         0.3612</td><td style=\"text-align: right;\">    40</td><td style=\"text-align: right;\">         5.71617</td><td style=\"text-align: right;\">        200</td><td style=\"text-align: right;\"> 0.376904   </td><td style=\"text-align: right;\">0.137155   </td></tr>\n",
       "<tr><td>TrainLightGCN_4e68a80e</td><td>TERMINATED</td><td>147.96.81.131:3522335</td><td style=\"text-align: right;\">           8</td><td style=\"text-align: right;\">            2</td><td style=\"text-align: right;\">            209</td><td style=\"text-align: right;\">     9</td><td style=\"text-align: right;\">0.0036281  </td><td style=\"text-align: right;\">         0.0013</td><td style=\"text-align: right;\">    40</td><td style=\"text-align: right;\">         3.45332</td><td style=\"text-align: right;\">        200</td><td style=\"text-align: right;\"> 0.0621226  </td><td style=\"text-align: right;\">0.0173129  </td></tr>\n",
       "<tr><td>TrainLightGCN_bebe39bd</td><td>TERMINATED</td><td>147.96.81.131:3522493</td><td style=\"text-align: right;\">           7</td><td style=\"text-align: right;\">            4</td><td style=\"text-align: right;\">             87</td><td style=\"text-align: right;\">     9</td><td style=\"text-align: right;\">0.000280818</td><td style=\"text-align: right;\">         0.0161</td><td style=\"text-align: right;\">    40</td><td style=\"text-align: right;\">         4.14149</td><td style=\"text-align: right;\">        200</td><td style=\"text-align: right;\"> 0.0140031  </td><td style=\"text-align: right;\">0.00316693 </td></tr>\n",
       "<tr><td>TrainLightGCN_970b9856</td><td>TERMINATED</td><td>147.96.81.131:3522668</td><td style=\"text-align: right;\">           7</td><td style=\"text-align: right;\">            3</td><td style=\"text-align: right;\">            590</td><td style=\"text-align: right;\">     9</td><td style=\"text-align: right;\">0.000685841</td><td style=\"text-align: right;\">         0.007 </td><td style=\"text-align: right;\">    40</td><td style=\"text-align: right;\">         4.19826</td><td style=\"text-align: right;\">        200</td><td style=\"text-align: right;\"> 0.022538   </td><td style=\"text-align: right;\">0.00459676 </td></tr>\n",
       "<tr><td>TrainLightGCN_c8df2ab2</td><td>TERMINATED</td><td>147.96.81.131:3522830</td><td style=\"text-align: right;\">           6</td><td style=\"text-align: right;\">            2</td><td style=\"text-align: right;\">             31</td><td style=\"text-align: right;\">     9</td><td style=\"text-align: right;\">6.45073e-06</td><td style=\"text-align: right;\">         0.0039</td><td style=\"text-align: right;\">    40</td><td style=\"text-align: right;\">         5.75161</td><td style=\"text-align: right;\">        200</td><td style=\"text-align: right;\"> 0.00203337 </td><td style=\"text-align: right;\">0.00185031 </td></tr>\n",
       "<tr><td>TrainLightGCN_c03ae8ed</td><td>TERMINATED</td><td>147.96.81.131:3522999</td><td style=\"text-align: right;\">           7</td><td style=\"text-align: right;\">            3</td><td style=\"text-align: right;\">            470</td><td style=\"text-align: right;\">     9</td><td style=\"text-align: right;\">0.000195361</td><td style=\"text-align: right;\">         0.593 </td><td style=\"text-align: right;\">    40</td><td style=\"text-align: right;\">         4.37437</td><td style=\"text-align: right;\">        200</td><td style=\"text-align: right;\">14.5626     </td><td style=\"text-align: right;\">2.01008    </td></tr>\n",
       "<tr><td>TrainLightGCN_acd4cbe2</td><td>TERMINATED</td><td>147.96.81.131:3523162</td><td style=\"text-align: right;\">           6</td><td style=\"text-align: right;\">            4</td><td style=\"text-align: right;\">            276</td><td style=\"text-align: right;\">     9</td><td style=\"text-align: right;\">6.96273e-05</td><td style=\"text-align: right;\">         0.4197</td><td style=\"text-align: right;\">    40</td><td style=\"text-align: right;\">         5.93148</td><td style=\"text-align: right;\">        200</td><td style=\"text-align: right;\"> 3.89554    </td><td style=\"text-align: right;\">0.00115511 </td></tr>\n",
       "<tr><td>TrainLightGCN_21942e43</td><td>TERMINATED</td><td>147.96.81.131:3523333</td><td style=\"text-align: right;\">           8</td><td style=\"text-align: right;\">            5</td><td style=\"text-align: right;\">             42</td><td style=\"text-align: right;\">     9</td><td style=\"text-align: right;\">0.000462273</td><td style=\"text-align: right;\">         0.0533</td><td style=\"text-align: right;\">    40</td><td style=\"text-align: right;\">         3.60198</td><td style=\"text-align: right;\">        200</td><td style=\"text-align: right;\"> 0.0248428  </td><td style=\"text-align: right;\">0.00543542 </td></tr>\n",
       "<tr><td>TrainLightGCN_cbe4a514</td><td>TERMINATED</td><td>147.96.81.131:3523500</td><td style=\"text-align: right;\">           7</td><td style=\"text-align: right;\">            2</td><td style=\"text-align: right;\">            151</td><td style=\"text-align: right;\">     9</td><td style=\"text-align: right;\">0.000114074</td><td style=\"text-align: right;\">         0.1064</td><td style=\"text-align: right;\">    40</td><td style=\"text-align: right;\">         4.13056</td><td style=\"text-align: right;\">        200</td><td style=\"text-align: right;\"> 0.148214   </td><td style=\"text-align: right;\">3.70149e-07</td></tr>\n",
       "<tr><td>TrainLightGCN_6ee0d2ae</td><td>TERMINATED</td><td>147.96.81.131:3523674</td><td style=\"text-align: right;\">           7</td><td style=\"text-align: right;\">            3</td><td style=\"text-align: right;\">            103</td><td style=\"text-align: right;\">     9</td><td style=\"text-align: right;\">0.000133239</td><td style=\"text-align: right;\">         0.2729</td><td style=\"text-align: right;\">    40</td><td style=\"text-align: right;\">         3.98169</td><td style=\"text-align: right;\">        200</td><td style=\"text-align: right;\"> 0.710273   </td><td style=\"text-align: right;\">0.0463105  </td></tr>\n",
       "<tr><td>TrainLightGCN_5825963a</td><td>TERMINATED</td><td>147.96.81.131:3523839</td><td style=\"text-align: right;\">           6</td><td style=\"text-align: right;\">            4</td><td style=\"text-align: right;\">              8</td><td style=\"text-align: right;\">     9</td><td style=\"text-align: right;\">0.000854805</td><td style=\"text-align: right;\">         0.0247</td><td style=\"text-align: right;\">    40</td><td style=\"text-align: right;\">         5.98965</td><td style=\"text-align: right;\">        200</td><td style=\"text-align: right;\"> 0.0372806  </td><td style=\"text-align: right;\">0.013192   </td></tr>\n",
       "<tr><td>TrainLightGCN_129716ca</td><td>TERMINATED</td><td>147.96.81.131:3524008</td><td style=\"text-align: right;\">           7</td><td style=\"text-align: right;\">            3</td><td style=\"text-align: right;\">            129</td><td style=\"text-align: right;\">     9</td><td style=\"text-align: right;\">1.89731e-07</td><td style=\"text-align: right;\">         0.039 </td><td style=\"text-align: right;\">    40</td><td style=\"text-align: right;\">         4.27955</td><td style=\"text-align: right;\">        200</td><td style=\"text-align: right;\"> 0.0151019  </td><td style=\"text-align: right;\">0.0150354  </td></tr>\n",
       "<tr><td>TrainLightGCN_7a9dd498</td><td>TERMINATED</td><td>147.96.81.131:3524173</td><td style=\"text-align: right;\">           8</td><td style=\"text-align: right;\">            3</td><td style=\"text-align: right;\">              5</td><td style=\"text-align: right;\">     9</td><td style=\"text-align: right;\">0.00245305 </td><td style=\"text-align: right;\">         0.0008</td><td style=\"text-align: right;\">    40</td><td style=\"text-align: right;\">         3.31515</td><td style=\"text-align: right;\">        200</td><td style=\"text-align: right;\"> 0.193622   </td><td style=\"text-align: right;\">0.183403   </td></tr>\n",
       "<tr><td>TrainLightGCN_a8cd59d7</td><td>TERMINATED</td><td>147.96.81.131:3524341</td><td style=\"text-align: right;\">           9</td><td style=\"text-align: right;\">            2</td><td style=\"text-align: right;\">             26</td><td style=\"text-align: right;\">     9</td><td style=\"text-align: right;\">1.04384e-05</td><td style=\"text-align: right;\">         0.0122</td><td style=\"text-align: right;\">    40</td><td style=\"text-align: right;\">         2.87706</td><td style=\"text-align: right;\">        200</td><td style=\"text-align: right;\"> 0.00385195 </td><td style=\"text-align: right;\">0.00356379 </td></tr>\n",
       "<tr><td>TrainLightGCN_c414ef90</td><td>TERMINATED</td><td>147.96.81.131:3524513</td><td style=\"text-align: right;\">           7</td><td style=\"text-align: right;\">            4</td><td style=\"text-align: right;\">            193</td><td style=\"text-align: right;\">     9</td><td style=\"text-align: right;\">0.00173341 </td><td style=\"text-align: right;\">         0.0006</td><td style=\"text-align: right;\">    40</td><td style=\"text-align: right;\">         4.13009</td><td style=\"text-align: right;\">        200</td><td style=\"text-align: right;\"> 0.0634023  </td><td style=\"text-align: right;\">0.0352521  </td></tr>\n",
       "</tbody>\n",
       "</table>\n",
       "  </div>\n",
       "</div>\n",
       "<style>\n",
       ".tuneStatus {\n",
       "  color: var(--jp-ui-font-color1);\n",
       "}\n",
       ".tuneStatus .systemInfo {\n",
       "  display: flex;\n",
       "  flex-direction: column;\n",
       "}\n",
       ".tuneStatus td {\n",
       "  white-space: nowrap;\n",
       "}\n",
       ".tuneStatus .trialStatus {\n",
       "  display: flex;\n",
       "  flex-direction: column;\n",
       "}\n",
       ".tuneStatus h3 {\n",
       "  font-weight: bold;\n",
       "}\n",
       ".tuneStatus .hDivider {\n",
       "  border-bottom-width: var(--jp-border-width);\n",
       "  border-bottom-color: var(--jp-border-color0);\n",
       "  border-bottom-style: solid;\n",
       "}\n",
       ".tuneStatus .vDivider {\n",
       "  border-left-width: var(--jp-border-width);\n",
       "  border-left-color: var(--jp-border-color0);\n",
       "  border-left-style: solid;\n",
       "  margin: 0.5em 1em 0.5em 1em;\n",
       "}\n",
       "</style>\n"
      ],
      "text/plain": [
       "<IPython.core.display.HTML object>"
      ]
     },
     "metadata": {},
     "output_type": "display_data"
    },
    {
     "name": "stderr",
     "output_type": "stream",
     "text": [
      "/home/daviddavo/upm-tfm-notebooks/.direnv/python-3.9/lib/python3.9/site-packages/ray/tune/execution/tune_controller.py:190: UserWarning: fail_fast='raise' detected. Be careful when using this mode as resources (such as Ray processes, file descriptors, and temporary files) may not be cleaned up properly. To use a safer mode, use fail_fast=True.\n",
      "  warnings.warn(\n"
     ]
    },
    {
     "name": "stderr",
     "output_type": "stream",
     "text": [
      "\u001b[36m(pid=3507958)\u001b[0m 2024-03-09 09:25:08.105621: E tensorflow/compiler/xla/stream_executor/cuda/cuda_dnn.cc:9342] Unable to register cuDNN factory: Attempting to register factory for plugin cuDNN when one has already been registered\n",
      "\u001b[36m(pid=3507958)\u001b[0m 2024-03-09 09:25:08.105653: E tensorflow/compiler/xla/stream_executor/cuda/cuda_fft.cc:609] Unable to register cuFFT factory: Attempting to register factory for plugin cuFFT when one has already been registered\n",
      "\u001b[36m(pid=3507958)\u001b[0m 2024-03-09 09:25:08.105666: E tensorflow/compiler/xla/stream_executor/cuda/cuda_blas.cc:1518] Unable to register cuBLAS factory: Attempting to register factory for plugin cuBLAS when one has already been registered\n"
     ]
    },
    {
     "name": "stderr",
     "output_type": "stream",
     "text": [
      "\u001b[36m(TrainLightGCN pid=3507958)\u001b[0m /home/daviddavo/upm-tfm-notebooks/.direnv/python-3.9/lib/python3.9/site-packages/recommenders/models/deeprec/DataModel/ImplicitCF.py:73: FutureWarning: The frame.append method is deprecated and will be removed from pandas in a future version. Use pandas.concat instead.\n",
      "\u001b[36m(TrainLightGCN pid=3507958)\u001b[0m   df = train if test is None else train.append(test)\n",
      "\u001b[36m(TrainLightGCN pid=3507750)\u001b[0m Checkpoint successfully created at: Checkpoint(filesystem=local, path=/home/daviddavo/ray_results/LightGCN_optim=map@10,dao=MetaCartel - MetaCartel Ventures,freq=W-THU,normalize=True,cutoff_date=2020-11-06T00:00:00,fold=8_2024-03-09T09:19:03.409900/TrainLightGCN_978d1570_100_batch_size=9,conv_layers=2,embedding_dim=2,fold=8,l2=0.0000,learning_rate=0.0078_2024-03-09_09-25-00/checkpoint_000000)\n"
     ]
    },
    {
     "name": "stdout",
     "output_type": "stream",
     "text": [
      "\u001b[36m(TrainLightGCN pid=3507958)\u001b[0m Already create adjacency matrix.\u001b[32m [repeated 2x across cluster]\u001b[0m\n",
      "\u001b[36m(TrainLightGCN pid=3507958)\u001b[0m Already normalize adjacency matrix.\u001b[32m [repeated 2x across cluster]\u001b[0m\n",
      "\u001b[36m(TrainLightGCN pid=3507750)\u001b[0m Using xavier initialization.\n",
      "\u001b[36m(TrainLightGCN pid=3507958)\u001b[0m Using xavier initialization.\n"
     ]
    },
    {
     "name": "stderr",
     "output_type": "stream",
     "text": [
      "\u001b[36m(pid=3508094)\u001b[0m 2024-03-09 09:25:11.642249: E tensorflow/compiler/xla/stream_executor/cuda/cuda_dnn.cc:9342] Unable to register cuDNN factory: Attempting to register factory for plugin cuDNN when one has already been registered\n",
      "\u001b[36m(pid=3508094)\u001b[0m 2024-03-09 09:25:11.642270: E tensorflow/compiler/xla/stream_executor/cuda/cuda_fft.cc:609] Unable to register cuFFT factory: Attempting to register factory for plugin cuFFT when one has already been registered\n",
      "\u001b[36m(pid=3508094)\u001b[0m 2024-03-09 09:25:11.642286: E tensorflow/compiler/xla/stream_executor/cuda/cuda_blas.cc:1518] Unable to register cuBLAS factory: Attempting to register factory for plugin cuBLAS when one has already been registered\n"
     ]
    },
    {
     "name": "stderr",
     "output_type": "stream",
     "text": [
      "\u001b[36m(TrainLightGCN pid=3507958)\u001b[0m Checkpoint successfully created at: Checkpoint(filesystem=local, path=/home/daviddavo/ray_results/LightGCN_optim=map@10,dao=MetaCartel - MetaCartel Ventures,freq=W-THU,normalize=True,cutoff_date=2020-11-06T00:00:00,fold=9_2024-03-09T09:25:07.044160/TrainLightGCN_96e5f04a_1_batch_size=8,conv_layers=3,embedding_dim=1,fold=9,l2=0.0097,learning_rate=0.3385_2024-03-09_09-25-07/checkpoint_000000)\n"
     ]
    },
    {
     "name": "stderr",
     "output_type": "stream",
     "text": [
      "\u001b[36m(pid=3508263)\u001b[0m 2024-03-09 09:25:15.255138: E tensorflow/compiler/xla/stream_executor/cuda/cuda_dnn.cc:9342] Unable to register cuDNN factory: Attempting to register factory for plugin cuDNN when one has already been registered\n",
      "\u001b[36m(pid=3508263)\u001b[0m 2024-03-09 09:25:15.255171: E tensorflow/compiler/xla/stream_executor/cuda/cuda_fft.cc:609] Unable to register cuFFT factory: Attempting to register factory for plugin cuFFT when one has already been registered\n",
      "\u001b[36m(pid=3508263)\u001b[0m 2024-03-09 09:25:15.255188: E tensorflow/compiler/xla/stream_executor/cuda/cuda_blas.cc:1518] Unable to register cuBLAS factory: Attempting to register factory for plugin cuBLAS when one has already been registered\n",
      "\u001b[36m(TrainLightGCN pid=3508094)\u001b[0m /home/daviddavo/upm-tfm-notebooks/.direnv/python-3.9/lib/python3.9/site-packages/recommenders/models/deeprec/DataModel/ImplicitCF.py:73: FutureWarning: The frame.append method is deprecated and will be removed from pandas in a future version. Use pandas.concat instead.\n",
      "\u001b[36m(TrainLightGCN pid=3508094)\u001b[0m   df = train if test is None else train.append(test)\n"
     ]
    },
    {
     "name": "stderr",
     "output_type": "stream",
     "text": [
      "\u001b[36m(TrainLightGCN pid=3508263)\u001b[0m /home/daviddavo/upm-tfm-notebooks/.direnv/python-3.9/lib/python3.9/site-packages/recommenders/models/deeprec/DataModel/ImplicitCF.py:73: FutureWarning: The frame.append method is deprecated and will be removed from pandas in a future version. Use pandas.concat instead.\n",
      "\u001b[36m(TrainLightGCN pid=3508263)\u001b[0m   df = train if test is None else train.append(test)\n"
     ]
    },
    {
     "name": "stdout",
     "output_type": "stream",
     "text": [
      "\u001b[36m(TrainLightGCN pid=3508263)\u001b[0m Already create adjacency matrix.\u001b[32m [repeated 2x across cluster]\u001b[0m\n",
      "\u001b[36m(TrainLightGCN pid=3508263)\u001b[0m Already normalize adjacency matrix.\u001b[32m [repeated 2x across cluster]\u001b[0m\n",
      "\u001b[36m(TrainLightGCN pid=3508263)\u001b[0m Using xavier initialization.\u001b[32m [repeated 2x across cluster]\u001b[0m\n"
     ]
    },
    {
     "name": "stderr",
     "output_type": "stream",
     "text": [
      "\u001b[36m(TrainLightGCN pid=3508094)\u001b[0m Checkpoint successfully created at: Checkpoint(filesystem=local, path=/home/daviddavo/ray_results/LightGCN_optim=map@10,dao=MetaCartel - MetaCartel Ventures,freq=W-THU,normalize=True,cutoff_date=2020-11-06T00:00:00,fold=9_2024-03-09T09:25:07.044160/TrainLightGCN_a47a1148_2_batch_size=8,conv_layers=5,embedding_dim=29,fold=9,l2=0.0000,learning_rate=0.2347_2024-03-09_09-25-10/checkpoint_000000)\n",
      "\u001b[36m(pid=3508429)\u001b[0m 2024-03-09 09:25:18.788333: E tensorflow/compiler/xla/stream_executor/cuda/cuda_dnn.cc:9342] Unable to register cuDNN factory: Attempting to register factory for plugin cuDNN when one has already been registered\n",
      "\u001b[36m(pid=3508429)\u001b[0m 2024-03-09 09:25:18.788365: E tensorflow/compiler/xla/stream_executor/cuda/cuda_fft.cc:609] Unable to register cuFFT factory: Attempting to register factory for plugin cuFFT when one has already been registered\n",
      "\u001b[36m(pid=3508429)\u001b[0m 2024-03-09 09:25:18.788380: E tensorflow/compiler/xla/stream_executor/cuda/cuda_blas.cc:1518] Unable to register cuBLAS factory: Attempting to register factory for plugin cuBLAS when one has already been registered\n",
      "\u001b[36m(TrainLightGCN pid=3508263)\u001b[0m Checkpoint successfully created at: Checkpoint(filesystem=local, path=/home/daviddavo/ray_results/LightGCN_optim=map@10,dao=MetaCartel - MetaCartel Ventures,freq=W-THU,normalize=True,cutoff_date=2020-11-06T00:00:00,fold=9_2024-03-09T09:25:07.044160/TrainLightGCN_a03049da_3_batch_size=9,conv_layers=3,embedding_dim=5,fold=9,l2=0.0001,learning_rate=0.2200_2024-03-09_09-25-14/checkpoint_000000)\n"
     ]
    },
    {
     "name": "stderr",
     "output_type": "stream",
     "text": [
      "\u001b[36m(pid=3508596)\u001b[0m 2024-03-09 09:25:22.391883: E tensorflow/compiler/xla/stream_executor/cuda/cuda_dnn.cc:9342] Unable to register cuDNN factory: Attempting to register factory for plugin cuDNN when one has already been registered\n",
      "\u001b[36m(pid=3508596)\u001b[0m 2024-03-09 09:25:22.391915: E tensorflow/compiler/xla/stream_executor/cuda/cuda_fft.cc:609] Unable to register cuFFT factory: Attempting to register factory for plugin cuFFT when one has already been registered\n",
      "\u001b[36m(pid=3508596)\u001b[0m 2024-03-09 09:25:22.391931: E tensorflow/compiler/xla/stream_executor/cuda/cuda_blas.cc:1518] Unable to register cuBLAS factory: Attempting to register factory for plugin cuBLAS when one has already been registered\n",
      "\u001b[36m(TrainLightGCN pid=3508429)\u001b[0m /home/daviddavo/upm-tfm-notebooks/.direnv/python-3.9/lib/python3.9/site-packages/recommenders/models/deeprec/DataModel/ImplicitCF.py:73: FutureWarning: The frame.append method is deprecated and will be removed from pandas in a future version. Use pandas.concat instead.\n",
      "\u001b[36m(TrainLightGCN pid=3508429)\u001b[0m   df = train if test is None else train.append(test)\n"
     ]
    },
    {
     "name": "stdout",
     "output_type": "stream",
     "text": [
      "\u001b[36m(TrainLightGCN pid=3508596)\u001b[0m Already create adjacency matrix.\u001b[32m [repeated 2x across cluster]\u001b[0m\n",
      "\u001b[36m(TrainLightGCN pid=3508596)\u001b[0m Already normalize adjacency matrix.\u001b[32m [repeated 2x across cluster]\u001b[0m\n",
      "\u001b[36m(TrainLightGCN pid=3508596)\u001b[0m Using xavier initialization.\u001b[32m [repeated 2x across cluster]\u001b[0m\n"
     ]
    },
    {
     "name": "stderr",
     "output_type": "stream",
     "text": [
      "\u001b[36m(TrainLightGCN pid=3508596)\u001b[0m /home/daviddavo/upm-tfm-notebooks/.direnv/python-3.9/lib/python3.9/site-packages/recommenders/models/deeprec/DataModel/ImplicitCF.py:73: FutureWarning: The frame.append method is deprecated and will be removed from pandas in a future version. Use pandas.concat instead.\n",
      "\u001b[36m(TrainLightGCN pid=3508596)\u001b[0m   df = train if test is None else train.append(test)\n"
     ]
    },
    {
     "name": "stderr",
     "output_type": "stream",
     "text": [
      "\u001b[36m(TrainLightGCN pid=3508429)\u001b[0m Checkpoint successfully created at: Checkpoint(filesystem=local, path=/home/daviddavo/ray_results/LightGCN_optim=map@10,dao=MetaCartel - MetaCartel Ventures,freq=W-THU,normalize=True,cutoff_date=2020-11-06T00:00:00,fold=9_2024-03-09T09:25:07.044160/TrainLightGCN_d0957765_4_batch_size=7,conv_layers=4,embedding_dim=306,fold=9,l2=0.0000,learning_rate=0.0065_2024-03-09_09-25-17/checkpoint_000000)\n"
     ]
    },
    {
     "name": "stderr",
     "output_type": "stream",
     "text": [
      "\u001b[36m(pid=3508756)\u001b[0m 2024-03-09 09:25:26.032835: E tensorflow/compiler/xla/stream_executor/cuda/cuda_dnn.cc:9342] Unable to register cuDNN factory: Attempting to register factory for plugin cuDNN when one has already been registered\n",
      "\u001b[36m(pid=3508756)\u001b[0m 2024-03-09 09:25:26.032859: E tensorflow/compiler/xla/stream_executor/cuda/cuda_fft.cc:609] Unable to register cuFFT factory: Attempting to register factory for plugin cuFFT when one has already been registered\n",
      "\u001b[36m(pid=3508756)\u001b[0m 2024-03-09 09:25:26.032874: E tensorflow/compiler/xla/stream_executor/cuda/cuda_blas.cc:1518] Unable to register cuBLAS factory: Attempting to register factory for plugin cuBLAS when one has already been registered\n"
     ]
    },
    {
     "name": "stderr",
     "output_type": "stream",
     "text": [
      "\u001b[36m(TrainLightGCN pid=3508596)\u001b[0m Checkpoint successfully created at: Checkpoint(filesystem=local, path=/home/daviddavo/ray_results/LightGCN_optim=map@10,dao=MetaCartel - MetaCartel Ventures,freq=W-THU,normalize=True,cutoff_date=2020-11-06T00:00:00,fold=9_2024-03-09T09:25:07.044160/TrainLightGCN_fa2bbb7f_5_batch_size=7,conv_layers=3,embedding_dim=217,fold=9,l2=0.0000,learning_rate=0.0005_2024-03-09_09-25-21/checkpoint_000000)\n"
     ]
    },
    {
     "name": "stderr",
     "output_type": "stream",
     "text": [
      "\u001b[36m(pid=3508919)\u001b[0m 2024-03-09 09:25:29.651904: E tensorflow/compiler/xla/stream_executor/cuda/cuda_dnn.cc:9342] Unable to register cuDNN factory: Attempting to register factory for plugin cuDNN when one has already been registered\n",
      "\u001b[36m(pid=3508919)\u001b[0m 2024-03-09 09:25:29.651933: E tensorflow/compiler/xla/stream_executor/cuda/cuda_fft.cc:609] Unable to register cuFFT factory: Attempting to register factory for plugin cuFFT when one has already been registered\n",
      "\u001b[36m(pid=3508919)\u001b[0m 2024-03-09 09:25:29.651949: E tensorflow/compiler/xla/stream_executor/cuda/cuda_blas.cc:1518] Unable to register cuBLAS factory: Attempting to register factory for plugin cuBLAS when one has already been registered\n",
      "\u001b[36m(TrainLightGCN pid=3508756)\u001b[0m /home/daviddavo/upm-tfm-notebooks/.direnv/python-3.9/lib/python3.9/site-packages/recommenders/models/deeprec/DataModel/ImplicitCF.py:73: FutureWarning: The frame.append method is deprecated and will be removed from pandas in a future version. Use pandas.concat instead.\n",
      "\u001b[36m(TrainLightGCN pid=3508756)\u001b[0m   df = train if test is None else train.append(test)\n"
     ]
    },
    {
     "name": "stdout",
     "output_type": "stream",
     "text": [
      "\u001b[36m(TrainLightGCN pid=3508919)\u001b[0m Already create adjacency matrix.\u001b[32m [repeated 2x across cluster]\u001b[0m\n",
      "\u001b[36m(TrainLightGCN pid=3508919)\u001b[0m Already normalize adjacency matrix.\u001b[32m [repeated 2x across cluster]\u001b[0m\n",
      "\u001b[36m(TrainLightGCN pid=3508919)\u001b[0m Using xavier initialization.\u001b[32m [repeated 2x across cluster]\u001b[0m\n"
     ]
    },
    {
     "name": "stderr",
     "output_type": "stream",
     "text": [
      "\u001b[36m(TrainLightGCN pid=3508919)\u001b[0m /home/daviddavo/upm-tfm-notebooks/.direnv/python-3.9/lib/python3.9/site-packages/recommenders/models/deeprec/DataModel/ImplicitCF.py:73: FutureWarning: The frame.append method is deprecated and will be removed from pandas in a future version. Use pandas.concat instead.\n",
      "\u001b[36m(TrainLightGCN pid=3508919)\u001b[0m   df = train if test is None else train.append(test)\n"
     ]
    },
    {
     "name": "stderr",
     "output_type": "stream",
     "text": [
      "\u001b[36m(TrainLightGCN pid=3508756)\u001b[0m Checkpoint successfully created at: Checkpoint(filesystem=local, path=/home/daviddavo/ray_results/LightGCN_optim=map@10,dao=MetaCartel - MetaCartel Ventures,freq=W-THU,normalize=True,cutoff_date=2020-11-06T00:00:00,fold=9_2024-03-09T09:25:07.044160/TrainLightGCN_89a74c51_6_batch_size=7,conv_layers=4,embedding_dim=7,fold=9,l2=0.0040,learning_rate=0.0038_2024-03-09_09-25-24/checkpoint_000000)\n",
      "\u001b[36m(pid=3509089)\u001b[0m 2024-03-09 09:25:33.216198: E tensorflow/compiler/xla/stream_executor/cuda/cuda_dnn.cc:9342] Unable to register cuDNN factory: Attempting to register factory for plugin cuDNN when one has already been registered\n",
      "\u001b[36m(pid=3509089)\u001b[0m 2024-03-09 09:25:33.216228: E tensorflow/compiler/xla/stream_executor/cuda/cuda_fft.cc:609] Unable to register cuFFT factory: Attempting to register factory for plugin cuFFT when one has already been registered\n",
      "\u001b[36m(pid=3509089)\u001b[0m 2024-03-09 09:25:33.216243: E tensorflow/compiler/xla/stream_executor/cuda/cuda_blas.cc:1518] Unable to register cuBLAS factory: Attempting to register factory for plugin cuBLAS when one has already been registered\n"
     ]
    },
    {
     "name": "stderr",
     "output_type": "stream",
     "text": [
      "\u001b[36m(TrainLightGCN pid=3508919)\u001b[0m Checkpoint successfully created at: Checkpoint(filesystem=local, path=/home/daviddavo/ray_results/LightGCN_optim=map@10,dao=MetaCartel - MetaCartel Ventures,freq=W-THU,normalize=True,cutoff_date=2020-11-06T00:00:00,fold=9_2024-03-09T09:25:07.044160/TrainLightGCN_e3368621_7_batch_size=7,conv_layers=3,embedding_dim=4,fold=9,l2=0.0011,learning_rate=0.0002_2024-03-09_09-25-28/checkpoint_000000)\n"
     ]
    },
    {
     "name": "stderr",
     "output_type": "stream",
     "text": [
      "\u001b[36m(pid=3509254)\u001b[0m 2024-03-09 09:25:36.806756: E tensorflow/compiler/xla/stream_executor/cuda/cuda_dnn.cc:9342] Unable to register cuDNN factory: Attempting to register factory for plugin cuDNN when one has already been registered\n",
      "\u001b[36m(pid=3509254)\u001b[0m 2024-03-09 09:25:36.806787: E tensorflow/compiler/xla/stream_executor/cuda/cuda_fft.cc:609] Unable to register cuFFT factory: Attempting to register factory for plugin cuFFT when one has already been registered\n",
      "\u001b[36m(pid=3509254)\u001b[0m 2024-03-09 09:25:36.806801: E tensorflow/compiler/xla/stream_executor/cuda/cuda_blas.cc:1518] Unable to register cuBLAS factory: Attempting to register factory for plugin cuBLAS when one has already been registered\n",
      "\u001b[36m(TrainLightGCN pid=3509089)\u001b[0m /home/daviddavo/upm-tfm-notebooks/.direnv/python-3.9/lib/python3.9/site-packages/recommenders/models/deeprec/DataModel/ImplicitCF.py:73: FutureWarning: The frame.append method is deprecated and will be removed from pandas in a future version. Use pandas.concat instead.\n",
      "\u001b[36m(TrainLightGCN pid=3509089)\u001b[0m   df = train if test is None else train.append(test)\n"
     ]
    },
    {
     "name": "stderr",
     "output_type": "stream",
     "text": [
      "\u001b[36m(TrainLightGCN pid=3509254)\u001b[0m /home/daviddavo/upm-tfm-notebooks/.direnv/python-3.9/lib/python3.9/site-packages/recommenders/models/deeprec/DataModel/ImplicitCF.py:73: FutureWarning: The frame.append method is deprecated and will be removed from pandas in a future version. Use pandas.concat instead.\n",
      "\u001b[36m(TrainLightGCN pid=3509254)\u001b[0m   df = train if test is None else train.append(test)\n"
     ]
    },
    {
     "name": "stdout",
     "output_type": "stream",
     "text": [
      "\u001b[36m(TrainLightGCN pid=3509254)\u001b[0m Already create adjacency matrix.\u001b[32m [repeated 2x across cluster]\u001b[0m\n",
      "\u001b[36m(TrainLightGCN pid=3509254)\u001b[0m Already normalize adjacency matrix.\u001b[32m [repeated 2x across cluster]\u001b[0m\n",
      "\u001b[36m(TrainLightGCN pid=3509254)\u001b[0m Using xavier initialization.\u001b[32m [repeated 2x across cluster]\u001b[0m\n"
     ]
    },
    {
     "name": "stderr",
     "output_type": "stream",
     "text": [
      "\u001b[36m(TrainLightGCN pid=3509089)\u001b[0m Checkpoint successfully created at: Checkpoint(filesystem=local, path=/home/daviddavo/ray_results/LightGCN_optim=map@10,dao=MetaCartel - MetaCartel Ventures,freq=W-THU,normalize=True,cutoff_date=2020-11-06T00:00:00,fold=9_2024-03-09T09:25:07.044160/TrainLightGCN_0c9220b9_8_batch_size=8,conv_layers=4,embedding_dim=412,fold=9,l2=0.0041,learning_rate=0.0014_2024-03-09_09-25-32/checkpoint_000000)\n",
      "\u001b[36m(pid=3509430)\u001b[0m 2024-03-09 09:25:40.398247: E tensorflow/compiler/xla/stream_executor/cuda/cuda_dnn.cc:9342] Unable to register cuDNN factory: Attempting to register factory for plugin cuDNN when one has already been registered\n",
      "\u001b[36m(pid=3509430)\u001b[0m 2024-03-09 09:25:40.398272: E tensorflow/compiler/xla/stream_executor/cuda/cuda_fft.cc:609] Unable to register cuFFT factory: Attempting to register factory for plugin cuFFT when one has already been registered\n",
      "\u001b[36m(pid=3509430)\u001b[0m 2024-03-09 09:25:40.398288: E tensorflow/compiler/xla/stream_executor/cuda/cuda_blas.cc:1518] Unable to register cuBLAS factory: Attempting to register factory for plugin cuBLAS when one has already been registered\n"
     ]
    },
    {
     "name": "stderr",
     "output_type": "stream",
     "text": [
      "\u001b[36m(pid=3509587)\u001b[0m 2024-03-09 09:25:43.978170: E tensorflow/compiler/xla/stream_executor/cuda/cuda_dnn.cc:9342] Unable to register cuDNN factory: Attempting to register factory for plugin cuDNN when one has already been registered\n",
      "\u001b[36m(pid=3509587)\u001b[0m 2024-03-09 09:25:43.978201: E tensorflow/compiler/xla/stream_executor/cuda/cuda_fft.cc:609] Unable to register cuFFT factory: Attempting to register factory for plugin cuFFT when one has already been registered\n",
      "\u001b[36m(pid=3509587)\u001b[0m 2024-03-09 09:25:43.978217: E tensorflow/compiler/xla/stream_executor/cuda/cuda_blas.cc:1518] Unable to register cuBLAS factory: Attempting to register factory for plugin cuBLAS when one has already been registered\n",
      "\u001b[36m(TrainLightGCN pid=3509430)\u001b[0m /home/daviddavo/upm-tfm-notebooks/.direnv/python-3.9/lib/python3.9/site-packages/recommenders/models/deeprec/DataModel/ImplicitCF.py:73: FutureWarning: The frame.append method is deprecated and will be removed from pandas in a future version. Use pandas.concat instead.\n",
      "\u001b[36m(TrainLightGCN pid=3509430)\u001b[0m   df = train if test is None else train.append(test)\n"
     ]
    },
    {
     "name": "stderr",
     "output_type": "stream",
     "text": [
      "\u001b[36m(TrainLightGCN pid=3509254)\u001b[0m Checkpoint successfully created at: Checkpoint(filesystem=local, path=/home/daviddavo/ray_results/LightGCN_optim=map@10,dao=MetaCartel - MetaCartel Ventures,freq=W-THU,normalize=True,cutoff_date=2020-11-06T00:00:00,fold=9_2024-03-09T09:25:07.044160/TrainLightGCN_7d14fb40_9_batch_size=6,conv_layers=1,embedding_dim=206,fold=9,l2=0.0000,learning_rate=0.0085_2024-03-09_09-25-35/checkpoint_000000)\n"
     ]
    },
    {
     "name": "stdout",
     "output_type": "stream",
     "text": [
      "\u001b[36m(TrainLightGCN pid=3509587)\u001b[0m Already create adjacency matrix.\u001b[32m [repeated 2x across cluster]\u001b[0m\n",
      "\u001b[36m(TrainLightGCN pid=3509587)\u001b[0m Already normalize adjacency matrix.\u001b[32m [repeated 2x across cluster]\u001b[0m\n",
      "\u001b[36m(TrainLightGCN pid=3509587)\u001b[0m Using xavier initialization.\u001b[32m [repeated 2x across cluster]\u001b[0m\n"
     ]
    },
    {
     "name": "stderr",
     "output_type": "stream",
     "text": [
      "\u001b[36m(TrainLightGCN pid=3509587)\u001b[0m /home/daviddavo/upm-tfm-notebooks/.direnv/python-3.9/lib/python3.9/site-packages/recommenders/models/deeprec/DataModel/ImplicitCF.py:73: FutureWarning: The frame.append method is deprecated and will be removed from pandas in a future version. Use pandas.concat instead.\n",
      "\u001b[36m(TrainLightGCN pid=3509587)\u001b[0m   df = train if test is None else train.append(test)\n"
     ]
    },
    {
     "name": "stderr",
     "output_type": "stream",
     "text": [
      "\u001b[36m(pid=3509767)\u001b[0m 2024-03-09 09:25:47.569523: E tensorflow/compiler/xla/stream_executor/cuda/cuda_dnn.cc:9342] Unable to register cuDNN factory: Attempting to register factory for plugin cuDNN when one has already been registered\n",
      "\u001b[36m(pid=3509767)\u001b[0m 2024-03-09 09:25:47.569555: E tensorflow/compiler/xla/stream_executor/cuda/cuda_fft.cc:609] Unable to register cuFFT factory: Attempting to register factory for plugin cuFFT when one has already been registered\n",
      "\u001b[36m(pid=3509767)\u001b[0m 2024-03-09 09:25:47.569570: E tensorflow/compiler/xla/stream_executor/cuda/cuda_blas.cc:1518] Unable to register cuBLAS factory: Attempting to register factory for plugin cuBLAS when one has already been registered\n"
     ]
    },
    {
     "name": "stderr",
     "output_type": "stream",
     "text": [
      "\u001b[36m(TrainLightGCN pid=3509587)\u001b[0m Checkpoint successfully created at: Checkpoint(filesystem=local, path=/home/daviddavo/ray_results/LightGCN_optim=map@10,dao=MetaCartel - MetaCartel Ventures,freq=W-THU,normalize=True,cutoff_date=2020-11-06T00:00:00,fold=9_2024-03-09T09:25:07.044160/TrainLightGCN_0298c73d_11_batch_size=7,conv_layers=3,embedding_dim=5,fold=9,l2=0.0061,learning_rate=0.2019_2024-03-09_09-25-42/checkpoint_000000)\u001b[32m [repeated 2x across cluster]\u001b[0m\n"
     ]
    },
    {
     "name": "stderr",
     "output_type": "stream",
     "text": [
      "\u001b[36m(pid=3509929)\u001b[0m 2024-03-09 09:25:51.177713: E tensorflow/compiler/xla/stream_executor/cuda/cuda_dnn.cc:9342] Unable to register cuDNN factory: Attempting to register factory for plugin cuDNN when one has already been registered\n",
      "\u001b[36m(pid=3509929)\u001b[0m 2024-03-09 09:25:51.177742: E tensorflow/compiler/xla/stream_executor/cuda/cuda_fft.cc:609] Unable to register cuFFT factory: Attempting to register factory for plugin cuFFT when one has already been registered\n",
      "\u001b[36m(pid=3509929)\u001b[0m 2024-03-09 09:25:51.177756: E tensorflow/compiler/xla/stream_executor/cuda/cuda_blas.cc:1518] Unable to register cuBLAS factory: Attempting to register factory for plugin cuBLAS when one has already been registered\n",
      "\u001b[36m(TrainLightGCN pid=3509767)\u001b[0m /home/daviddavo/upm-tfm-notebooks/.direnv/python-3.9/lib/python3.9/site-packages/recommenders/models/deeprec/DataModel/ImplicitCF.py:73: FutureWarning: The frame.append method is deprecated and will be removed from pandas in a future version. Use pandas.concat instead.\n",
      "\u001b[36m(TrainLightGCN pid=3509767)\u001b[0m   df = train if test is None else train.append(test)\n"
     ]
    },
    {
     "name": "stdout",
     "output_type": "stream",
     "text": [
      "\u001b[36m(TrainLightGCN pid=3509929)\u001b[0m Already create adjacency matrix.\u001b[32m [repeated 2x across cluster]\u001b[0m\n",
      "\u001b[36m(TrainLightGCN pid=3509929)\u001b[0m Already normalize adjacency matrix.\u001b[32m [repeated 2x across cluster]\u001b[0m\n",
      "\u001b[36m(TrainLightGCN pid=3509929)\u001b[0m Using xavier initialization.\u001b[32m [repeated 2x across cluster]\u001b[0m\n"
     ]
    },
    {
     "name": "stderr",
     "output_type": "stream",
     "text": [
      "\u001b[36m(TrainLightGCN pid=3509929)\u001b[0m /home/daviddavo/upm-tfm-notebooks/.direnv/python-3.9/lib/python3.9/site-packages/recommenders/models/deeprec/DataModel/ImplicitCF.py:73: FutureWarning: The frame.append method is deprecated and will be removed from pandas in a future version. Use pandas.concat instead.\n",
      "\u001b[36m(TrainLightGCN pid=3509929)\u001b[0m   df = train if test is None else train.append(test)\n"
     ]
    },
    {
     "name": "stderr",
     "output_type": "stream",
     "text": [
      "\u001b[36m(TrainLightGCN pid=3509767)\u001b[0m Checkpoint successfully created at: Checkpoint(filesystem=local, path=/home/daviddavo/ray_results/LightGCN_optim=map@10,dao=MetaCartel - MetaCartel Ventures,freq=W-THU,normalize=True,cutoff_date=2020-11-06T00:00:00,fold=9_2024-03-09T09:25:07.044160/TrainLightGCN_976364cb_12_batch_size=7,conv_layers=4,embedding_dim=42,fold=9,l2=0.0004,learning_rate=0.0012_2024-03-09_09-25-46/checkpoint_000000)\n",
      "\u001b[36m(pid=3510094)\u001b[0m 2024-03-09 09:25:54.770418: E tensorflow/compiler/xla/stream_executor/cuda/cuda_dnn.cc:9342] Unable to register cuDNN factory: Attempting to register factory for plugin cuDNN when one has already been registered\n",
      "\u001b[36m(pid=3510094)\u001b[0m 2024-03-09 09:25:54.770448: E tensorflow/compiler/xla/stream_executor/cuda/cuda_fft.cc:609] Unable to register cuFFT factory: Attempting to register factory for plugin cuFFT when one has already been registered\n",
      "\u001b[36m(pid=3510094)\u001b[0m 2024-03-09 09:25:54.770462: E tensorflow/compiler/xla/stream_executor/cuda/cuda_blas.cc:1518] Unable to register cuBLAS factory: Attempting to register factory for plugin cuBLAS when one has already been registered\n"
     ]
    },
    {
     "name": "stderr",
     "output_type": "stream",
     "text": [
      "\u001b[36m(TrainLightGCN pid=3509929)\u001b[0m Checkpoint successfully created at: Checkpoint(filesystem=local, path=/home/daviddavo/ray_results/LightGCN_optim=map@10,dao=MetaCartel - MetaCartel Ventures,freq=W-THU,normalize=True,cutoff_date=2020-11-06T00:00:00,fold=9_2024-03-09T09:25:07.044160/TrainLightGCN_6e139010_13_batch_size=7,conv_layers=4,embedding_dim=6,fold=9,l2=0.0000,learning_rate=0.4766_2024-03-09_09-25-50/checkpoint_000000)\n"
     ]
    },
    {
     "name": "stderr",
     "output_type": "stream",
     "text": [
      "\u001b[36m(pid=3510260)\u001b[0m 2024-03-09 09:25:58.379545: E tensorflow/compiler/xla/stream_executor/cuda/cuda_dnn.cc:9342] Unable to register cuDNN factory: Attempting to register factory for plugin cuDNN when one has already been registered\n",
      "\u001b[36m(pid=3510260)\u001b[0m 2024-03-09 09:25:58.379576: E tensorflow/compiler/xla/stream_executor/cuda/cuda_fft.cc:609] Unable to register cuFFT factory: Attempting to register factory for plugin cuFFT when one has already been registered\n",
      "\u001b[36m(pid=3510260)\u001b[0m 2024-03-09 09:25:58.379592: E tensorflow/compiler/xla/stream_executor/cuda/cuda_blas.cc:1518] Unable to register cuBLAS factory: Attempting to register factory for plugin cuBLAS when one has already been registered\n",
      "\u001b[36m(TrainLightGCN pid=3510094)\u001b[0m /home/daviddavo/upm-tfm-notebooks/.direnv/python-3.9/lib/python3.9/site-packages/recommenders/models/deeprec/DataModel/ImplicitCF.py:73: FutureWarning: The frame.append method is deprecated and will be removed from pandas in a future version. Use pandas.concat instead.\n",
      "\u001b[36m(TrainLightGCN pid=3510094)\u001b[0m   df = train if test is None else train.append(test)\n"
     ]
    },
    {
     "name": "stdout",
     "output_type": "stream",
     "text": [
      "\u001b[36m(TrainLightGCN pid=3510260)\u001b[0m Already create adjacency matrix.\u001b[32m [repeated 2x across cluster]\u001b[0m\n",
      "\u001b[36m(TrainLightGCN pid=3510260)\u001b[0m Already normalize adjacency matrix.\u001b[32m [repeated 2x across cluster]\u001b[0m\n",
      "\u001b[36m(TrainLightGCN pid=3510094)\u001b[0m Using xavier initialization.\n",
      "\u001b[36m(TrainLightGCN pid=3510260)\u001b[0m Using xavier initialization.\n"
     ]
    },
    {
     "name": "stderr",
     "output_type": "stream",
     "text": [
      "\u001b[36m(TrainLightGCN pid=3510260)\u001b[0m /home/daviddavo/upm-tfm-notebooks/.direnv/python-3.9/lib/python3.9/site-packages/recommenders/models/deeprec/DataModel/ImplicitCF.py:73: FutureWarning: The frame.append method is deprecated and will be removed from pandas in a future version. Use pandas.concat instead.\n",
      "\u001b[36m(TrainLightGCN pid=3510260)\u001b[0m   df = train if test is None else train.append(test)\n"
     ]
    },
    {
     "name": "stderr",
     "output_type": "stream",
     "text": [
      "\u001b[36m(TrainLightGCN pid=3510094)\u001b[0m Checkpoint successfully created at: Checkpoint(filesystem=local, path=/home/daviddavo/ray_results/LightGCN_optim=map@10,dao=MetaCartel - MetaCartel Ventures,freq=W-THU,normalize=True,cutoff_date=2020-11-06T00:00:00,fold=9_2024-03-09T09:25:07.044160/TrainLightGCN_59715fde_14_batch_size=8,conv_layers=4,embedding_dim=87,fold=9,l2=0.0000,learning_rate=0.0004_2024-03-09_09-25-53/checkpoint_000000)\n",
      "\u001b[36m(pid=3510433)\u001b[0m 2024-03-09 09:26:01.984938: E tensorflow/compiler/xla/stream_executor/cuda/cuda_dnn.cc:9342] Unable to register cuDNN factory: Attempting to register factory for plugin cuDNN when one has already been registered\n",
      "\u001b[36m(pid=3510433)\u001b[0m 2024-03-09 09:26:01.984969: E tensorflow/compiler/xla/stream_executor/cuda/cuda_fft.cc:609] Unable to register cuFFT factory: Attempting to register factory for plugin cuFFT when one has already been registered\n",
      "\u001b[36m(pid=3510433)\u001b[0m 2024-03-09 09:26:01.984983: E tensorflow/compiler/xla/stream_executor/cuda/cuda_blas.cc:1518] Unable to register cuBLAS factory: Attempting to register factory for plugin cuBLAS when one has already been registered\n"
     ]
    },
    {
     "name": "stderr",
     "output_type": "stream",
     "text": [
      "\u001b[36m(TrainLightGCN pid=3510260)\u001b[0m Checkpoint successfully created at: Checkpoint(filesystem=local, path=/home/daviddavo/ray_results/LightGCN_optim=map@10,dao=MetaCartel - MetaCartel Ventures,freq=W-THU,normalize=True,cutoff_date=2020-11-06T00:00:00,fold=9_2024-03-09T09:25:07.044160/TrainLightGCN_285a8be4_15_batch_size=8,conv_layers=5,embedding_dim=75,fold=9,l2=0.0000,learning_rate=0.0003_2024-03-09_09-25-57/checkpoint_000000)\n"
     ]
    },
    {
     "name": "stderr",
     "output_type": "stream",
     "text": [
      "\u001b[36m(pid=3510600)\u001b[0m 2024-03-09 09:26:05.576884: E tensorflow/compiler/xla/stream_executor/cuda/cuda_dnn.cc:9342] Unable to register cuDNN factory: Attempting to register factory for plugin cuDNN when one has already been registered\n",
      "\u001b[36m(pid=3510600)\u001b[0m 2024-03-09 09:26:05.576916: E tensorflow/compiler/xla/stream_executor/cuda/cuda_fft.cc:609] Unable to register cuFFT factory: Attempting to register factory for plugin cuFFT when one has already been registered\n",
      "\u001b[36m(pid=3510600)\u001b[0m 2024-03-09 09:26:05.576929: E tensorflow/compiler/xla/stream_executor/cuda/cuda_blas.cc:1518] Unable to register cuBLAS factory: Attempting to register factory for plugin cuBLAS when one has already been registered\n",
      "\u001b[36m(TrainLightGCN pid=3510433)\u001b[0m /home/daviddavo/upm-tfm-notebooks/.direnv/python-3.9/lib/python3.9/site-packages/recommenders/models/deeprec/DataModel/ImplicitCF.py:73: FutureWarning: The frame.append method is deprecated and will be removed from pandas in a future version. Use pandas.concat instead.\n",
      "\u001b[36m(TrainLightGCN pid=3510433)\u001b[0m   df = train if test is None else train.append(test)\n"
     ]
    },
    {
     "name": "stderr",
     "output_type": "stream",
     "text": [
      "\u001b[36m(TrainLightGCN pid=3510600)\u001b[0m /home/daviddavo/upm-tfm-notebooks/.direnv/python-3.9/lib/python3.9/site-packages/recommenders/models/deeprec/DataModel/ImplicitCF.py:73: FutureWarning: The frame.append method is deprecated and will be removed from pandas in a future version. Use pandas.concat instead.\n",
      "\u001b[36m(TrainLightGCN pid=3510600)\u001b[0m   df = train if test is None else train.append(test)\n"
     ]
    },
    {
     "name": "stdout",
     "output_type": "stream",
     "text": [
      "\u001b[36m(TrainLightGCN pid=3510600)\u001b[0m Already create adjacency matrix.\u001b[32m [repeated 2x across cluster]\u001b[0m\n",
      "\u001b[36m(TrainLightGCN pid=3510600)\u001b[0m Already normalize adjacency matrix.\u001b[32m [repeated 2x across cluster]\u001b[0m\n",
      "\u001b[36m(TrainLightGCN pid=3510433)\u001b[0m Using xavier initialization.\n",
      "\u001b[36m(TrainLightGCN pid=3510600)\u001b[0m Using xavier initialization.\n"
     ]
    },
    {
     "name": "stderr",
     "output_type": "stream",
     "text": [
      "\u001b[36m(TrainLightGCN pid=3510433)\u001b[0m Checkpoint successfully created at: Checkpoint(filesystem=local, path=/home/daviddavo/ray_results/LightGCN_optim=map@10,dao=MetaCartel - MetaCartel Ventures,freq=W-THU,normalize=True,cutoff_date=2020-11-06T00:00:00,fold=9_2024-03-09T09:25:07.044160/TrainLightGCN_65273015_16_batch_size=9,conv_layers=2,embedding_dim=8,fold=9,l2=0.0010,learning_rate=0.0201_2024-03-09_09-26-00/checkpoint_000000)\n",
      "\u001b[36m(pid=3510763)\u001b[0m 2024-03-09 09:26:09.182764: E tensorflow/compiler/xla/stream_executor/cuda/cuda_dnn.cc:9342] Unable to register cuDNN factory: Attempting to register factory for plugin cuDNN when one has already been registered\n",
      "\u001b[36m(pid=3510763)\u001b[0m 2024-03-09 09:26:09.182796: E tensorflow/compiler/xla/stream_executor/cuda/cuda_fft.cc:609] Unable to register cuFFT factory: Attempting to register factory for plugin cuFFT when one has already been registered\n",
      "\u001b[36m(pid=3510763)\u001b[0m 2024-03-09 09:26:09.182813: E tensorflow/compiler/xla/stream_executor/cuda/cuda_blas.cc:1518] Unable to register cuBLAS factory: Attempting to register factory for plugin cuBLAS when one has already been registered\n"
     ]
    },
    {
     "name": "stderr",
     "output_type": "stream",
     "text": [
      "\u001b[36m(TrainLightGCN pid=3510600)\u001b[0m Checkpoint successfully created at: Checkpoint(filesystem=local, path=/home/daviddavo/ray_results/LightGCN_optim=map@10,dao=MetaCartel - MetaCartel Ventures,freq=W-THU,normalize=True,cutoff_date=2020-11-06T00:00:00,fold=9_2024-03-09T09:25:07.044160/TrainLightGCN_2a5793ea_17_batch_size=7,conv_layers=4,embedding_dim=11,fold=9,l2=0.0000,learning_rate=0.0011_2024-03-09_09-26-04/checkpoint_000000)\n"
     ]
    },
    {
     "name": "stderr",
     "output_type": "stream",
     "text": [
      "\u001b[36m(pid=3510922)\u001b[0m 2024-03-09 09:26:12.778494: E tensorflow/compiler/xla/stream_executor/cuda/cuda_dnn.cc:9342] Unable to register cuDNN factory: Attempting to register factory for plugin cuDNN when one has already been registered\n",
      "\u001b[36m(pid=3510922)\u001b[0m 2024-03-09 09:26:12.778526: E tensorflow/compiler/xla/stream_executor/cuda/cuda_fft.cc:609] Unable to register cuFFT factory: Attempting to register factory for plugin cuFFT when one has already been registered\n",
      "\u001b[36m(pid=3510922)\u001b[0m 2024-03-09 09:26:12.778541: E tensorflow/compiler/xla/stream_executor/cuda/cuda_blas.cc:1518] Unable to register cuBLAS factory: Attempting to register factory for plugin cuBLAS when one has already been registered\n",
      "\u001b[36m(TrainLightGCN pid=3510763)\u001b[0m /home/daviddavo/upm-tfm-notebooks/.direnv/python-3.9/lib/python3.9/site-packages/recommenders/models/deeprec/DataModel/ImplicitCF.py:73: FutureWarning: The frame.append method is deprecated and will be removed from pandas in a future version. Use pandas.concat instead.\n",
      "\u001b[36m(TrainLightGCN pid=3510763)\u001b[0m   df = train if test is None else train.append(test)\n"
     ]
    },
    {
     "name": "stdout",
     "output_type": "stream",
     "text": [
      "\u001b[36m(TrainLightGCN pid=3510922)\u001b[0m Already create adjacency matrix.\u001b[32m [repeated 2x across cluster]\u001b[0m\n",
      "\u001b[36m(TrainLightGCN pid=3510922)\u001b[0m Already normalize adjacency matrix.\u001b[32m [repeated 2x across cluster]\u001b[0m\n",
      "\u001b[36m(TrainLightGCN pid=3510922)\u001b[0m Using xavier initialization.\u001b[32m [repeated 2x across cluster]\u001b[0m\n"
     ]
    },
    {
     "name": "stderr",
     "output_type": "stream",
     "text": [
      "\u001b[36m(TrainLightGCN pid=3510922)\u001b[0m /home/daviddavo/upm-tfm-notebooks/.direnv/python-3.9/lib/python3.9/site-packages/recommenders/models/deeprec/DataModel/ImplicitCF.py:73: FutureWarning: The frame.append method is deprecated and will be removed from pandas in a future version. Use pandas.concat instead.\n",
      "\u001b[36m(TrainLightGCN pid=3510922)\u001b[0m   df = train if test is None else train.append(test)\n"
     ]
    },
    {
     "name": "stderr",
     "output_type": "stream",
     "text": [
      "\u001b[36m(TrainLightGCN pid=3510922)\u001b[0m Checkpoint successfully created at: Checkpoint(filesystem=local, path=/home/daviddavo/ray_results/LightGCN_optim=map@10,dao=MetaCartel - MetaCartel Ventures,freq=W-THU,normalize=True,cutoff_date=2020-11-06T00:00:00,fold=9_2024-03-09T09:25:07.044160/TrainLightGCN_5c97c7e8_19_batch_size=9,conv_layers=4,embedding_dim=47,fold=9,l2=0.0000,learning_rate=0.0763_2024-03-09_09-26-11/checkpoint_000000)\u001b[32m [repeated 2x across cluster]\u001b[0m\n",
      "\u001b[36m(pid=3511095)\u001b[0m 2024-03-09 09:26:16.367161: E tensorflow/compiler/xla/stream_executor/cuda/cuda_dnn.cc:9342] Unable to register cuDNN factory: Attempting to register factory for plugin cuDNN when one has already been registered\n",
      "\u001b[36m(pid=3511095)\u001b[0m 2024-03-09 09:26:16.367185: E tensorflow/compiler/xla/stream_executor/cuda/cuda_fft.cc:609] Unable to register cuFFT factory: Attempting to register factory for plugin cuFFT when one has already been registered\n",
      "\u001b[36m(pid=3511095)\u001b[0m 2024-03-09 09:26:16.367198: E tensorflow/compiler/xla/stream_executor/cuda/cuda_blas.cc:1518] Unable to register cuBLAS factory: Attempting to register factory for plugin cuBLAS when one has already been registered\n"
     ]
    },
    {
     "name": "stderr",
     "output_type": "stream",
     "text": [
      "\u001b[36m(pid=3511271)\u001b[0m 2024-03-09 09:26:19.986511: E tensorflow/compiler/xla/stream_executor/cuda/cuda_dnn.cc:9342] Unable to register cuDNN factory: Attempting to register factory for plugin cuDNN when one has already been registered\n",
      "\u001b[36m(pid=3511271)\u001b[0m 2024-03-09 09:26:19.986543: E tensorflow/compiler/xla/stream_executor/cuda/cuda_fft.cc:609] Unable to register cuFFT factory: Attempting to register factory for plugin cuFFT when one has already been registered\n",
      "\u001b[36m(pid=3511271)\u001b[0m 2024-03-09 09:26:19.986556: E tensorflow/compiler/xla/stream_executor/cuda/cuda_blas.cc:1518] Unable to register cuBLAS factory: Attempting to register factory for plugin cuBLAS when one has already been registered\n",
      "\u001b[36m(TrainLightGCN pid=3511095)\u001b[0m /home/daviddavo/upm-tfm-notebooks/.direnv/python-3.9/lib/python3.9/site-packages/recommenders/models/deeprec/DataModel/ImplicitCF.py:73: FutureWarning: The frame.append method is deprecated and will be removed from pandas in a future version. Use pandas.concat instead.\n",
      "\u001b[36m(TrainLightGCN pid=3511095)\u001b[0m   df = train if test is None else train.append(test)\n"
     ]
    },
    {
     "name": "stdout",
     "output_type": "stream",
     "text": [
      "\u001b[36m(TrainLightGCN pid=3511271)\u001b[0m Already create adjacency matrix.\u001b[32m [repeated 2x across cluster]\u001b[0m\n",
      "\u001b[36m(TrainLightGCN pid=3511271)\u001b[0m Already normalize adjacency matrix.\u001b[32m [repeated 2x across cluster]\u001b[0m\n",
      "\u001b[36m(TrainLightGCN pid=3511271)\u001b[0m Using xavier initialization.\u001b[32m [repeated 2x across cluster]\u001b[0m\n"
     ]
    },
    {
     "name": "stderr",
     "output_type": "stream",
     "text": [
      "\u001b[36m(TrainLightGCN pid=3511271)\u001b[0m /home/daviddavo/upm-tfm-notebooks/.direnv/python-3.9/lib/python3.9/site-packages/recommenders/models/deeprec/DataModel/ImplicitCF.py:73: FutureWarning: The frame.append method is deprecated and will be removed from pandas in a future version. Use pandas.concat instead.\n",
      "\u001b[36m(TrainLightGCN pid=3511271)\u001b[0m   df = train if test is None else train.append(test)\n"
     ]
    },
    {
     "name": "stderr",
     "output_type": "stream",
     "text": [
      "\u001b[36m(TrainLightGCN pid=3511095)\u001b[0m Checkpoint successfully created at: Checkpoint(filesystem=local, path=/home/daviddavo/ray_results/LightGCN_optim=map@10,dao=MetaCartel - MetaCartel Ventures,freq=W-THU,normalize=True,cutoff_date=2020-11-06T00:00:00,fold=9_2024-03-09T09:25:07.044160/TrainLightGCN_78f1dac9_20_batch_size=7,conv_layers=2,embedding_dim=338,fold=9,l2=0.0000,learning_rate=0.0005_2024-03-09_09-26-15/checkpoint_000000)\n"
     ]
    },
    {
     "name": "stderr",
     "output_type": "stream",
     "text": [
      "\u001b[36m(pid=3511428)\u001b[0m 2024-03-09 09:26:23.590578: E tensorflow/compiler/xla/stream_executor/cuda/cuda_dnn.cc:9342] Unable to register cuDNN factory: Attempting to register factory for plugin cuDNN when one has already been registered\n",
      "\u001b[36m(pid=3511428)\u001b[0m 2024-03-09 09:26:23.590610: E tensorflow/compiler/xla/stream_executor/cuda/cuda_fft.cc:609] Unable to register cuFFT factory: Attempting to register factory for plugin cuFFT when one has already been registered\n",
      "\u001b[36m(pid=3511428)\u001b[0m 2024-03-09 09:26:23.590624: E tensorflow/compiler/xla/stream_executor/cuda/cuda_blas.cc:1518] Unable to register cuBLAS factory: Attempting to register factory for plugin cuBLAS when one has already been registered\n"
     ]
    },
    {
     "name": "stderr",
     "output_type": "stream",
     "text": [
      "\u001b[36m(pid=3511596)\u001b[0m 2024-03-09 09:26:27.194654: E tensorflow/compiler/xla/stream_executor/cuda/cuda_dnn.cc:9342] Unable to register cuDNN factory: Attempting to register factory for plugin cuDNN when one has already been registered\n",
      "\u001b[36m(pid=3511596)\u001b[0m 2024-03-09 09:26:27.194687: E tensorflow/compiler/xla/stream_executor/cuda/cuda_fft.cc:609] Unable to register cuFFT factory: Attempting to register factory for plugin cuFFT when one has already been registered\n",
      "\u001b[36m(pid=3511596)\u001b[0m 2024-03-09 09:26:27.194701: E tensorflow/compiler/xla/stream_executor/cuda/cuda_blas.cc:1518] Unable to register cuBLAS factory: Attempting to register factory for plugin cuBLAS when one has already been registered\n",
      "\u001b[36m(TrainLightGCN pid=3511428)\u001b[0m /home/daviddavo/upm-tfm-notebooks/.direnv/python-3.9/lib/python3.9/site-packages/recommenders/models/deeprec/DataModel/ImplicitCF.py:73: FutureWarning: The frame.append method is deprecated and will be removed from pandas in a future version. Use pandas.concat instead.\n",
      "\u001b[36m(TrainLightGCN pid=3511428)\u001b[0m   df = train if test is None else train.append(test)\n"
     ]
    },
    {
     "name": "stderr",
     "output_type": "stream",
     "text": [
      "\u001b[36m(TrainLightGCN pid=3511271)\u001b[0m Checkpoint successfully created at: Checkpoint(filesystem=local, path=/home/daviddavo/ray_results/LightGCN_optim=map@10,dao=MetaCartel - MetaCartel Ventures,freq=W-THU,normalize=True,cutoff_date=2020-11-06T00:00:00,fold=9_2024-03-09T09:25:07.044160/TrainLightGCN_eb4407ab_21_batch_size=6,conv_layers=2,embedding_dim=18,fold=9,l2=0.0002,learning_rate=0.0347_2024-03-09_09-26-18/checkpoint_000000)\n"
     ]
    },
    {
     "name": "stdout",
     "output_type": "stream",
     "text": [
      "\u001b[36m(TrainLightGCN pid=3511596)\u001b[0m Already create adjacency matrix.\u001b[32m [repeated 2x across cluster]\u001b[0m\n",
      "\u001b[36m(TrainLightGCN pid=3511596)\u001b[0m Already normalize adjacency matrix.\u001b[32m [repeated 2x across cluster]\u001b[0m\n",
      "\u001b[36m(TrainLightGCN pid=3511596)\u001b[0m Using xavier initialization.\u001b[32m [repeated 2x across cluster]\u001b[0m\n"
     ]
    },
    {
     "name": "stderr",
     "output_type": "stream",
     "text": [
      "\u001b[36m(TrainLightGCN pid=3511596)\u001b[0m /home/daviddavo/upm-tfm-notebooks/.direnv/python-3.9/lib/python3.9/site-packages/recommenders/models/deeprec/DataModel/ImplicitCF.py:73: FutureWarning: The frame.append method is deprecated and will be removed from pandas in a future version. Use pandas.concat instead.\n",
      "\u001b[36m(TrainLightGCN pid=3511596)\u001b[0m   df = train if test is None else train.append(test)\n"
     ]
    },
    {
     "name": "stderr",
     "output_type": "stream",
     "text": [
      "\u001b[36m(pid=3511763)\u001b[0m 2024-03-09 09:26:30.804427: E tensorflow/compiler/xla/stream_executor/cuda/cuda_dnn.cc:9342] Unable to register cuDNN factory: Attempting to register factory for plugin cuDNN when one has already been registered\n",
      "\u001b[36m(pid=3511763)\u001b[0m 2024-03-09 09:26:30.804453: E tensorflow/compiler/xla/stream_executor/cuda/cuda_fft.cc:609] Unable to register cuFFT factory: Attempting to register factory for plugin cuFFT when one has already been registered\n",
      "\u001b[36m(pid=3511763)\u001b[0m 2024-03-09 09:26:30.804466: E tensorflow/compiler/xla/stream_executor/cuda/cuda_blas.cc:1518] Unable to register cuBLAS factory: Attempting to register factory for plugin cuBLAS when one has already been registered\n"
     ]
    },
    {
     "name": "stderr",
     "output_type": "stream",
     "text": [
      "\u001b[36m(pid=3511931)\u001b[0m 2024-03-09 09:26:34.479350: E tensorflow/compiler/xla/stream_executor/cuda/cuda_dnn.cc:9342] Unable to register cuDNN factory: Attempting to register factory for plugin cuDNN when one has already been registered\n",
      "\u001b[36m(pid=3511931)\u001b[0m 2024-03-09 09:26:34.479383: E tensorflow/compiler/xla/stream_executor/cuda/cuda_fft.cc:609] Unable to register cuFFT factory: Attempting to register factory for plugin cuFFT when one has already been registered\n",
      "\u001b[36m(pid=3511931)\u001b[0m 2024-03-09 09:26:34.479398: E tensorflow/compiler/xla/stream_executor/cuda/cuda_blas.cc:1518] Unable to register cuBLAS factory: Attempting to register factory for plugin cuBLAS when one has already been registered\n",
      "\u001b[36m(TrainLightGCN pid=3511428)\u001b[0m Checkpoint successfully created at: Checkpoint(filesystem=local, path=/home/daviddavo/ray_results/LightGCN_optim=map@10,dao=MetaCartel - MetaCartel Ventures,freq=W-THU,normalize=True,cutoff_date=2020-11-06T00:00:00,fold=9_2024-03-09T09:25:07.044160/TrainLightGCN_bf3db6cd_22_batch_size=6,conv_layers=5,embedding_dim=2,fold=9,l2=0.0003,learning_rate=0.9629_2024-03-09_09-26-22/checkpoint_000000)\n",
      "\u001b[36m(TrainLightGCN pid=3511763)\u001b[0m /home/daviddavo/upm-tfm-notebooks/.direnv/python-3.9/lib/python3.9/site-packages/recommenders/models/deeprec/DataModel/ImplicitCF.py:73: FutureWarning: The frame.append method is deprecated and will be removed from pandas in a future version. Use pandas.concat instead.\n",
      "\u001b[36m(TrainLightGCN pid=3511763)\u001b[0m   df = train if test is None else train.append(test)\n"
     ]
    },
    {
     "name": "stderr",
     "output_type": "stream",
     "text": [
      "\u001b[36m(TrainLightGCN pid=3511596)\u001b[0m Checkpoint successfully created at: Checkpoint(filesystem=local, path=/home/daviddavo/ray_results/LightGCN_optim=map@10,dao=MetaCartel - MetaCartel Ventures,freq=W-THU,normalize=True,cutoff_date=2020-11-06T00:00:00,fold=9_2024-03-09T09:25:07.044160/TrainLightGCN_7b3f62fe_23_batch_size=6,conv_layers=2,embedding_dim=683,fold=9,l2=0.0001,learning_rate=0.0018_2024-03-09_09-26-26/checkpoint_000000)\n"
     ]
    },
    {
     "name": "stdout",
     "output_type": "stream",
     "text": [
      "\u001b[36m(TrainLightGCN pid=3511931)\u001b[0m Already create adjacency matrix.\u001b[32m [repeated 2x across cluster]\u001b[0m\n",
      "\u001b[36m(TrainLightGCN pid=3511931)\u001b[0m Already normalize adjacency matrix.\u001b[32m [repeated 2x across cluster]\u001b[0m\n",
      "\u001b[36m(TrainLightGCN pid=3511931)\u001b[0m Using xavier initialization.\u001b[32m [repeated 2x across cluster]\u001b[0m\n"
     ]
    },
    {
     "name": "stderr",
     "output_type": "stream",
     "text": [
      "\u001b[36m(TrainLightGCN pid=3511931)\u001b[0m /home/daviddavo/upm-tfm-notebooks/.direnv/python-3.9/lib/python3.9/site-packages/recommenders/models/deeprec/DataModel/ImplicitCF.py:73: FutureWarning: The frame.append method is deprecated and will be removed from pandas in a future version. Use pandas.concat instead.\n",
      "\u001b[36m(TrainLightGCN pid=3511931)\u001b[0m   df = train if test is None else train.append(test)\n"
     ]
    },
    {
     "name": "stderr",
     "output_type": "stream",
     "text": [
      "\u001b[36m(pid=3512096)\u001b[0m 2024-03-09 09:26:38.137945: E tensorflow/compiler/xla/stream_executor/cuda/cuda_dnn.cc:9342] Unable to register cuDNN factory: Attempting to register factory for plugin cuDNN when one has already been registered\n",
      "\u001b[36m(pid=3512096)\u001b[0m 2024-03-09 09:26:38.137968: E tensorflow/compiler/xla/stream_executor/cuda/cuda_fft.cc:609] Unable to register cuFFT factory: Attempting to register factory for plugin cuFFT when one has already been registered\n",
      "\u001b[36m(pid=3512096)\u001b[0m 2024-03-09 09:26:38.137984: E tensorflow/compiler/xla/stream_executor/cuda/cuda_blas.cc:1518] Unable to register cuBLAS factory: Attempting to register factory for plugin cuBLAS when one has already been registered\n"
     ]
    },
    {
     "name": "stderr",
     "output_type": "stream",
     "text": [
      "\u001b[36m(pid=3512262)\u001b[0m 2024-03-09 09:26:41.774956: E tensorflow/compiler/xla/stream_executor/cuda/cuda_dnn.cc:9342] Unable to register cuDNN factory: Attempting to register factory for plugin cuDNN when one has already been registered\n",
      "\u001b[36m(pid=3512262)\u001b[0m 2024-03-09 09:26:41.774987: E tensorflow/compiler/xla/stream_executor/cuda/cuda_fft.cc:609] Unable to register cuFFT factory: Attempting to register factory for plugin cuFFT when one has already been registered\n",
      "\u001b[36m(pid=3512262)\u001b[0m 2024-03-09 09:26:41.775004: E tensorflow/compiler/xla/stream_executor/cuda/cuda_blas.cc:1518] Unable to register cuBLAS factory: Attempting to register factory for plugin cuBLAS when one has already been registered\n",
      "\u001b[36m(TrainLightGCN pid=3511763)\u001b[0m Checkpoint successfully created at: Checkpoint(filesystem=local, path=/home/daviddavo/ray_results/LightGCN_optim=map@10,dao=MetaCartel - MetaCartel Ventures,freq=W-THU,normalize=True,cutoff_date=2020-11-06T00:00:00,fold=9_2024-03-09T09:25:07.044160/TrainLightGCN_7494fd41_24_batch_size=6,conv_layers=1,embedding_dim=25,fold=9,l2=0.0014,learning_rate=0.0032_2024-03-09_09-26-29/checkpoint_000000)\n",
      "\u001b[36m(TrainLightGCN pid=3512096)\u001b[0m /home/daviddavo/upm-tfm-notebooks/.direnv/python-3.9/lib/python3.9/site-packages/recommenders/models/deeprec/DataModel/ImplicitCF.py:73: FutureWarning: The frame.append method is deprecated and will be removed from pandas in a future version. Use pandas.concat instead.\n",
      "\u001b[36m(TrainLightGCN pid=3512096)\u001b[0m   df = train if test is None else train.append(test)\n"
     ]
    },
    {
     "name": "stderr",
     "output_type": "stream",
     "text": [
      "\u001b[36m(TrainLightGCN pid=3511931)\u001b[0m Checkpoint successfully created at: Checkpoint(filesystem=local, path=/home/daviddavo/ray_results/LightGCN_optim=map@10,dao=MetaCartel - MetaCartel Ventures,freq=W-THU,normalize=True,cutoff_date=2020-11-06T00:00:00,fold=9_2024-03-09T09:25:07.044160/TrainLightGCN_65c7893e_25_batch_size=6,conv_layers=5,embedding_dim=16,fold=9,l2=0.0022,learning_rate=0.0656_2024-03-09_09-26-33/checkpoint_000000)\n"
     ]
    },
    {
     "name": "stdout",
     "output_type": "stream",
     "text": [
      "\u001b[36m(TrainLightGCN pid=3512262)\u001b[0m Already create adjacency matrix.\u001b[32m [repeated 2x across cluster]\u001b[0m\n",
      "\u001b[36m(TrainLightGCN pid=3512262)\u001b[0m Already normalize adjacency matrix.\u001b[32m [repeated 2x across cluster]\u001b[0m\n",
      "\u001b[36m(TrainLightGCN pid=3512262)\u001b[0m Using xavier initialization.\u001b[32m [repeated 2x across cluster]\u001b[0m\n"
     ]
    },
    {
     "name": "stderr",
     "output_type": "stream",
     "text": [
      "\u001b[36m(TrainLightGCN pid=3512262)\u001b[0m /home/daviddavo/upm-tfm-notebooks/.direnv/python-3.9/lib/python3.9/site-packages/recommenders/models/deeprec/DataModel/ImplicitCF.py:73: FutureWarning: The frame.append method is deprecated and will be removed from pandas in a future version. Use pandas.concat instead.\n",
      "\u001b[36m(TrainLightGCN pid=3512262)\u001b[0m   df = train if test is None else train.append(test)\n"
     ]
    },
    {
     "name": "stderr",
     "output_type": "stream",
     "text": [
      "\u001b[36m(pid=3512435)\u001b[0m 2024-03-09 09:26:45.424862: E tensorflow/compiler/xla/stream_executor/cuda/cuda_dnn.cc:9342] Unable to register cuDNN factory: Attempting to register factory for plugin cuDNN when one has already been registered\n",
      "\u001b[36m(pid=3512435)\u001b[0m 2024-03-09 09:26:45.424883: E tensorflow/compiler/xla/stream_executor/cuda/cuda_fft.cc:609] Unable to register cuFFT factory: Attempting to register factory for plugin cuFFT when one has already been registered\n",
      "\u001b[36m(pid=3512435)\u001b[0m 2024-03-09 09:26:45.424898: E tensorflow/compiler/xla/stream_executor/cuda/cuda_blas.cc:1518] Unable to register cuBLAS factory: Attempting to register factory for plugin cuBLAS when one has already been registered\n"
     ]
    },
    {
     "name": "stderr",
     "output_type": "stream",
     "text": [
      "\u001b[36m(TrainLightGCN pid=3512262)\u001b[0m Checkpoint successfully created at: Checkpoint(filesystem=local, path=/home/daviddavo/ray_results/LightGCN_optim=map@10,dao=MetaCartel - MetaCartel Ventures,freq=W-THU,normalize=True,cutoff_date=2020-11-06T00:00:00,fold=9_2024-03-09T09:25:07.044160/TrainLightGCN_73ac3a85_27_batch_size=7,conv_layers=2,embedding_dim=50,fold=9,l2=0.0001,learning_rate=0.9492_2024-03-09_09-26-40/checkpoint_000000)\u001b[32m [repeated 2x across cluster]\u001b[0m\n"
     ]
    },
    {
     "name": "stderr",
     "output_type": "stream",
     "text": [
      "\u001b[36m(pid=3512600)\u001b[0m 2024-03-09 09:26:49.082296: E tensorflow/compiler/xla/stream_executor/cuda/cuda_dnn.cc:9342] Unable to register cuDNN factory: Attempting to register factory for plugin cuDNN when one has already been registered\n",
      "\u001b[36m(pid=3512600)\u001b[0m 2024-03-09 09:26:49.082328: E tensorflow/compiler/xla/stream_executor/cuda/cuda_fft.cc:609] Unable to register cuFFT factory: Attempting to register factory for plugin cuFFT when one has already been registered\n",
      "\u001b[36m(pid=3512600)\u001b[0m 2024-03-09 09:26:49.082344: E tensorflow/compiler/xla/stream_executor/cuda/cuda_blas.cc:1518] Unable to register cuBLAS factory: Attempting to register factory for plugin cuBLAS when one has already been registered\n",
      "\u001b[36m(TrainLightGCN pid=3512435)\u001b[0m /home/daviddavo/upm-tfm-notebooks/.direnv/python-3.9/lib/python3.9/site-packages/recommenders/models/deeprec/DataModel/ImplicitCF.py:73: FutureWarning: The frame.append method is deprecated and will be removed from pandas in a future version. Use pandas.concat instead.\n",
      "\u001b[36m(TrainLightGCN pid=3512435)\u001b[0m   df = train if test is None else train.append(test)\n"
     ]
    },
    {
     "name": "stderr",
     "output_type": "stream",
     "text": [
      "\u001b[36m(TrainLightGCN pid=3512600)\u001b[0m /home/daviddavo/upm-tfm-notebooks/.direnv/python-3.9/lib/python3.9/site-packages/recommenders/models/deeprec/DataModel/ImplicitCF.py:73: FutureWarning: The frame.append method is deprecated and will be removed from pandas in a future version. Use pandas.concat instead.\n",
      "\u001b[36m(TrainLightGCN pid=3512600)\u001b[0m   df = train if test is None else train.append(test)\n"
     ]
    },
    {
     "name": "stdout",
     "output_type": "stream",
     "text": [
      "\u001b[36m(TrainLightGCN pid=3512600)\u001b[0m Already create adjacency matrix.\u001b[32m [repeated 2x across cluster]\u001b[0m\n",
      "\u001b[36m(TrainLightGCN pid=3512600)\u001b[0m Already normalize adjacency matrix.\u001b[32m [repeated 2x across cluster]\u001b[0m\n",
      "\u001b[36m(TrainLightGCN pid=3512600)\u001b[0m Using xavier initialization.\u001b[32m [repeated 2x across cluster]\u001b[0m\n"
     ]
    },
    {
     "name": "stderr",
     "output_type": "stream",
     "text": [
      "\u001b[36m(TrainLightGCN pid=3512435)\u001b[0m Checkpoint successfully created at: Checkpoint(filesystem=local, path=/home/daviddavo/ray_results/LightGCN_optim=map@10,dao=MetaCartel - MetaCartel Ventures,freq=W-THU,normalize=True,cutoff_date=2020-11-06T00:00:00,fold=9_2024-03-09T09:25:07.044160/TrainLightGCN_7229cb21_28_batch_size=6,conv_layers=5,embedding_dim=13,fold=9,l2=0.0000,learning_rate=0.0010_2024-03-09_09-26-44/checkpoint_000000)\n",
      "\u001b[36m(pid=3512765)\u001b[0m 2024-03-09 09:26:52.685987: E tensorflow/compiler/xla/stream_executor/cuda/cuda_dnn.cc:9342] Unable to register cuDNN factory: Attempting to register factory for plugin cuDNN when one has already been registered\n",
      "\u001b[36m(pid=3512765)\u001b[0m 2024-03-09 09:26:52.686019: E tensorflow/compiler/xla/stream_executor/cuda/cuda_fft.cc:609] Unable to register cuFFT factory: Attempting to register factory for plugin cuFFT when one has already been registered\n",
      "\u001b[36m(pid=3512765)\u001b[0m 2024-03-09 09:26:52.686035: E tensorflow/compiler/xla/stream_executor/cuda/cuda_blas.cc:1518] Unable to register cuBLAS factory: Attempting to register factory for plugin cuBLAS when one has already been registered\n"
     ]
    },
    {
     "name": "stderr",
     "output_type": "stream",
     "text": [
      "\u001b[36m(TrainLightGCN pid=3512600)\u001b[0m Checkpoint successfully created at: Checkpoint(filesystem=local, path=/home/daviddavo/ray_results/LightGCN_optim=map@10,dao=MetaCartel - MetaCartel Ventures,freq=W-THU,normalize=True,cutoff_date=2020-11-06T00:00:00,fold=9_2024-03-09T09:25:07.044160/TrainLightGCN_78c62138_29_batch_size=8,conv_layers=3,embedding_dim=1,fold=9,l2=0.0099,learning_rate=0.0001_2024-03-09_09-26-48/checkpoint_000000)\n"
     ]
    },
    {
     "name": "stderr",
     "output_type": "stream",
     "text": [
      "\u001b[36m(pid=3512941)\u001b[0m 2024-03-09 09:26:56.308160: E tensorflow/compiler/xla/stream_executor/cuda/cuda_dnn.cc:9342] Unable to register cuDNN factory: Attempting to register factory for plugin cuDNN when one has already been registered\n",
      "\u001b[36m(pid=3512941)\u001b[0m 2024-03-09 09:26:56.308191: E tensorflow/compiler/xla/stream_executor/cuda/cuda_fft.cc:609] Unable to register cuFFT factory: Attempting to register factory for plugin cuFFT when one has already been registered\n",
      "\u001b[36m(pid=3512941)\u001b[0m 2024-03-09 09:26:56.308208: E tensorflow/compiler/xla/stream_executor/cuda/cuda_blas.cc:1518] Unable to register cuBLAS factory: Attempting to register factory for plugin cuBLAS when one has already been registered\n",
      "\u001b[36m(TrainLightGCN pid=3512765)\u001b[0m /home/daviddavo/upm-tfm-notebooks/.direnv/python-3.9/lib/python3.9/site-packages/recommenders/models/deeprec/DataModel/ImplicitCF.py:73: FutureWarning: The frame.append method is deprecated and will be removed from pandas in a future version. Use pandas.concat instead.\n",
      "\u001b[36m(TrainLightGCN pid=3512765)\u001b[0m   df = train if test is None else train.append(test)\n"
     ]
    },
    {
     "name": "stdout",
     "output_type": "stream",
     "text": [
      "\u001b[36m(TrainLightGCN pid=3512941)\u001b[0m Already create adjacency matrix.\u001b[32m [repeated 2x across cluster]\u001b[0m\n",
      "\u001b[36m(TrainLightGCN pid=3512941)\u001b[0m Already normalize adjacency matrix.\u001b[32m [repeated 2x across cluster]\u001b[0m\n",
      "\u001b[36m(TrainLightGCN pid=3512941)\u001b[0m Using xavier initialization.\u001b[32m [repeated 2x across cluster]\u001b[0m\n"
     ]
    },
    {
     "name": "stderr",
     "output_type": "stream",
     "text": [
      "\u001b[36m(TrainLightGCN pid=3512941)\u001b[0m /home/daviddavo/upm-tfm-notebooks/.direnv/python-3.9/lib/python3.9/site-packages/recommenders/models/deeprec/DataModel/ImplicitCF.py:73: FutureWarning: The frame.append method is deprecated and will be removed from pandas in a future version. Use pandas.concat instead.\n",
      "\u001b[36m(TrainLightGCN pid=3512941)\u001b[0m   df = train if test is None else train.append(test)\n"
     ]
    },
    {
     "name": "stderr",
     "output_type": "stream",
     "text": [
      "\u001b[36m(TrainLightGCN pid=3512765)\u001b[0m Checkpoint successfully created at: Checkpoint(filesystem=local, path=/home/daviddavo/ray_results/LightGCN_optim=map@10,dao=MetaCartel - MetaCartel Ventures,freq=W-THU,normalize=True,cutoff_date=2020-11-06T00:00:00,fold=9_2024-03-09T09:25:07.044160/TrainLightGCN_a8594854_30_batch_size=7,conv_layers=3,embedding_dim=138,fold=9,l2=0.0006,learning_rate=0.0037_2024-03-09_09-26-51/checkpoint_000000)\n",
      "\u001b[36m(pid=3513104)\u001b[0m 2024-03-09 09:26:59.910613: E tensorflow/compiler/xla/stream_executor/cuda/cuda_dnn.cc:9342] Unable to register cuDNN factory: Attempting to register factory for plugin cuDNN when one has already been registered\n",
      "\u001b[36m(pid=3513104)\u001b[0m 2024-03-09 09:26:59.910644: E tensorflow/compiler/xla/stream_executor/cuda/cuda_fft.cc:609] Unable to register cuFFT factory: Attempting to register factory for plugin cuFFT when one has already been registered\n",
      "\u001b[36m(pid=3513104)\u001b[0m 2024-03-09 09:26:59.910659: E tensorflow/compiler/xla/stream_executor/cuda/cuda_blas.cc:1518] Unable to register cuBLAS factory: Attempting to register factory for plugin cuBLAS when one has already been registered\n"
     ]
    },
    {
     "name": "stderr",
     "output_type": "stream",
     "text": [
      "\u001b[36m(TrainLightGCN pid=3512941)\u001b[0m Checkpoint successfully created at: Checkpoint(filesystem=local, path=/home/daviddavo/ray_results/LightGCN_optim=map@10,dao=MetaCartel - MetaCartel Ventures,freq=W-THU,normalize=True,cutoff_date=2020-11-06T00:00:00,fold=9_2024-03-09T09:25:07.044160/TrainLightGCN_b5b984b9_31_batch_size=8,conv_layers=5,embedding_dim=27,fold=9,l2=0.0020,learning_rate=0.4786_2024-03-09_09-26-55/checkpoint_000000)\n"
     ]
    },
    {
     "name": "stderr",
     "output_type": "stream",
     "text": [
      "\u001b[36m(pid=3513281)\u001b[0m 2024-03-09 09:27:03.586459: E tensorflow/compiler/xla/stream_executor/cuda/cuda_dnn.cc:9342] Unable to register cuDNN factory: Attempting to register factory for plugin cuDNN when one has already been registered\n",
      "\u001b[36m(pid=3513281)\u001b[0m 2024-03-09 09:27:03.586489: E tensorflow/compiler/xla/stream_executor/cuda/cuda_fft.cc:609] Unable to register cuFFT factory: Attempting to register factory for plugin cuFFT when one has already been registered\n",
      "\u001b[36m(pid=3513281)\u001b[0m 2024-03-09 09:27:03.586505: E tensorflow/compiler/xla/stream_executor/cuda/cuda_blas.cc:1518] Unable to register cuBLAS factory: Attempting to register factory for plugin cuBLAS when one has already been registered\n",
      "\u001b[36m(TrainLightGCN pid=3513104)\u001b[0m /home/daviddavo/upm-tfm-notebooks/.direnv/python-3.9/lib/python3.9/site-packages/recommenders/models/deeprec/DataModel/ImplicitCF.py:73: FutureWarning: The frame.append method is deprecated and will be removed from pandas in a future version. Use pandas.concat instead.\n",
      "\u001b[36m(TrainLightGCN pid=3513104)\u001b[0m   df = train if test is None else train.append(test)\n"
     ]
    },
    {
     "name": "stdout",
     "output_type": "stream",
     "text": [
      "\u001b[36m(TrainLightGCN pid=3513281)\u001b[0m Already create adjacency matrix.\u001b[32m [repeated 2x across cluster]\u001b[0m\n",
      "\u001b[36m(TrainLightGCN pid=3513281)\u001b[0m Already normalize adjacency matrix.\u001b[32m [repeated 2x across cluster]\u001b[0m\n",
      "\u001b[36m(TrainLightGCN pid=3513281)\u001b[0m Using xavier initialization.\u001b[32m [repeated 2x across cluster]\u001b[0m\n"
     ]
    },
    {
     "name": "stderr",
     "output_type": "stream",
     "text": [
      "\u001b[36m(TrainLightGCN pid=3513281)\u001b[0m /home/daviddavo/upm-tfm-notebooks/.direnv/python-3.9/lib/python3.9/site-packages/recommenders/models/deeprec/DataModel/ImplicitCF.py:73: FutureWarning: The frame.append method is deprecated and will be removed from pandas in a future version. Use pandas.concat instead.\n",
      "\u001b[36m(TrainLightGCN pid=3513281)\u001b[0m   df = train if test is None else train.append(test)\n"
     ]
    },
    {
     "name": "stderr",
     "output_type": "stream",
     "text": [
      "\u001b[36m(TrainLightGCN pid=3513104)\u001b[0m Checkpoint successfully created at: Checkpoint(filesystem=local, path=/home/daviddavo/ray_results/LightGCN_optim=map@10,dao=MetaCartel - MetaCartel Ventures,freq=W-THU,normalize=True,cutoff_date=2020-11-06T00:00:00,fold=9_2024-03-09T09:25:07.044160/TrainLightGCN_35a74986_32_batch_size=6,conv_layers=4,embedding_dim=870,fold=9,l2=0.0002,learning_rate=0.1081_2024-03-09_09-26-58/checkpoint_000000)\n",
      "\u001b[36m(pid=3513439)\u001b[0m 2024-03-09 09:27:07.182526: E tensorflow/compiler/xla/stream_executor/cuda/cuda_dnn.cc:9342] Unable to register cuDNN factory: Attempting to register factory for plugin cuDNN when one has already been registered\n",
      "\u001b[36m(pid=3513439)\u001b[0m 2024-03-09 09:27:07.182559: E tensorflow/compiler/xla/stream_executor/cuda/cuda_fft.cc:609] Unable to register cuFFT factory: Attempting to register factory for plugin cuFFT when one has already been registered\n",
      "\u001b[36m(pid=3513439)\u001b[0m 2024-03-09 09:27:07.182574: E tensorflow/compiler/xla/stream_executor/cuda/cuda_blas.cc:1518] Unable to register cuBLAS factory: Attempting to register factory for plugin cuBLAS when one has already been registered\n"
     ]
    },
    {
     "name": "stderr",
     "output_type": "stream",
     "text": [
      "\u001b[36m(TrainLightGCN pid=3513281)\u001b[0m Checkpoint successfully created at: Checkpoint(filesystem=local, path=/home/daviddavo/ray_results/LightGCN_optim=map@10,dao=MetaCartel - MetaCartel Ventures,freq=W-THU,normalize=True,cutoff_date=2020-11-06T00:00:00,fold=9_2024-03-09T09:25:07.044160/TrainLightGCN_913dc2af_33_batch_size=7,conv_layers=3,embedding_dim=3,fold=9,l2=0.0000,learning_rate=0.0206_2024-03-09_09-27-02/checkpoint_000000)\n",
      "\u001b[36m(TrainLightGCN pid=3513439)\u001b[0m /home/daviddavo/upm-tfm-notebooks/.direnv/python-3.9/lib/python3.9/site-packages/recommenders/models/deeprec/DataModel/ImplicitCF.py:73: FutureWarning: The frame.append method is deprecated and will be removed from pandas in a future version. Use pandas.concat instead.\n",
      "\u001b[36m(TrainLightGCN pid=3513439)\u001b[0m   df = train if test is None else train.append(test)\n",
      "\u001b[36m(pid=3513605)\u001b[0m 2024-03-09 09:27:10.815449: E tensorflow/compiler/xla/stream_executor/cuda/cuda_dnn.cc:9342] Unable to register cuDNN factory: Attempting to register factory for plugin cuDNN when one has already been registered\n",
      "\u001b[36m(pid=3513605)\u001b[0m 2024-03-09 09:27:10.815479: E tensorflow/compiler/xla/stream_executor/cuda/cuda_fft.cc:609] Unable to register cuFFT factory: Attempting to register factory for plugin cuFFT when one has already been registered\n",
      "\u001b[36m(pid=3513605)\u001b[0m 2024-03-09 09:27:10.815495: E tensorflow/compiler/xla/stream_executor/cuda/cuda_blas.cc:1518] Unable to register cuBLAS factory: Attempting to register factory for plugin cuBLAS when one has already been registered\n"
     ]
    },
    {
     "name": "stdout",
     "output_type": "stream",
     "text": [
      "\u001b[36m(TrainLightGCN pid=3513605)\u001b[0m Already create adjacency matrix.\u001b[32m [repeated 2x across cluster]\u001b[0m\n",
      "\u001b[36m(TrainLightGCN pid=3513605)\u001b[0m Already normalize adjacency matrix.\u001b[32m [repeated 2x across cluster]\u001b[0m\n",
      "\u001b[36m(TrainLightGCN pid=3513605)\u001b[0m Using xavier initialization.\u001b[32m [repeated 2x across cluster]\u001b[0m\n"
     ]
    },
    {
     "name": "stderr",
     "output_type": "stream",
     "text": [
      "\u001b[36m(TrainLightGCN pid=3513605)\u001b[0m /home/daviddavo/upm-tfm-notebooks/.direnv/python-3.9/lib/python3.9/site-packages/recommenders/models/deeprec/DataModel/ImplicitCF.py:73: FutureWarning: The frame.append method is deprecated and will be removed from pandas in a future version. Use pandas.concat instead.\n",
      "\u001b[36m(TrainLightGCN pid=3513605)\u001b[0m   df = train if test is None else train.append(test)\n"
     ]
    },
    {
     "name": "stderr",
     "output_type": "stream",
     "text": [
      "\u001b[36m(TrainLightGCN pid=3513439)\u001b[0m Checkpoint successfully created at: Checkpoint(filesystem=local, path=/home/daviddavo/ray_results/LightGCN_optim=map@10,dao=MetaCartel - MetaCartel Ventures,freq=W-THU,normalize=True,cutoff_date=2020-11-06T00:00:00,fold=9_2024-03-09T09:25:07.044160/TrainLightGCN_85abaaba_34_batch_size=8,conv_layers=3,embedding_dim=36,fold=9,l2=0.0000,learning_rate=0.0024_2024-03-09_09-27-06/checkpoint_000000)\n",
      "\u001b[36m(pid=3513782)\u001b[0m 2024-03-09 09:27:14.407464: E tensorflow/compiler/xla/stream_executor/cuda/cuda_dnn.cc:9342] Unable to register cuDNN factory: Attempting to register factory for plugin cuDNN when one has already been registered\n",
      "\u001b[36m(pid=3513782)\u001b[0m 2024-03-09 09:27:14.407496: E tensorflow/compiler/xla/stream_executor/cuda/cuda_fft.cc:609] Unable to register cuFFT factory: Attempting to register factory for plugin cuFFT when one has already been registered\n",
      "\u001b[36m(pid=3513782)\u001b[0m 2024-03-09 09:27:14.407513: E tensorflow/compiler/xla/stream_executor/cuda/cuda_blas.cc:1518] Unable to register cuBLAS factory: Attempting to register factory for plugin cuBLAS when one has already been registered\n"
     ]
    },
    {
     "name": "stderr",
     "output_type": "stream",
     "text": [
      "\u001b[36m(TrainLightGCN pid=3513605)\u001b[0m Checkpoint successfully created at: Checkpoint(filesystem=local, path=/home/daviddavo/ray_results/LightGCN_optim=map@10,dao=MetaCartel - MetaCartel Ventures,freq=W-THU,normalize=True,cutoff_date=2020-11-06T00:00:00,fold=9_2024-03-09T09:25:07.044160/TrainLightGCN_bd11f4c1_35_batch_size=7,conv_layers=2,embedding_dim=67,fold=9,l2=0.0007,learning_rate=0.0002_2024-03-09_09-27-09/checkpoint_000000)\n"
     ]
    },
    {
     "name": "stderr",
     "output_type": "stream",
     "text": [
      "\u001b[36m(pid=3513948)\u001b[0m 2024-03-09 09:27:18.065106: E tensorflow/compiler/xla/stream_executor/cuda/cuda_dnn.cc:9342] Unable to register cuDNN factory: Attempting to register factory for plugin cuDNN when one has already been registered\n",
      "\u001b[36m(pid=3513948)\u001b[0m 2024-03-09 09:27:18.065135: E tensorflow/compiler/xla/stream_executor/cuda/cuda_fft.cc:609] Unable to register cuFFT factory: Attempting to register factory for plugin cuFFT when one has already been registered\n",
      "\u001b[36m(pid=3513948)\u001b[0m 2024-03-09 09:27:18.065152: E tensorflow/compiler/xla/stream_executor/cuda/cuda_blas.cc:1518] Unable to register cuBLAS factory: Attempting to register factory for plugin cuBLAS when one has already been registered\n",
      "\u001b[36m(TrainLightGCN pid=3513782)\u001b[0m /home/daviddavo/upm-tfm-notebooks/.direnv/python-3.9/lib/python3.9/site-packages/recommenders/models/deeprec/DataModel/ImplicitCF.py:73: FutureWarning: The frame.append method is deprecated and will be removed from pandas in a future version. Use pandas.concat instead.\n",
      "\u001b[36m(TrainLightGCN pid=3513782)\u001b[0m   df = train if test is None else train.append(test)\n"
     ]
    },
    {
     "name": "stderr",
     "output_type": "stream",
     "text": [
      "\u001b[36m(TrainLightGCN pid=3513948)\u001b[0m /home/daviddavo/upm-tfm-notebooks/.direnv/python-3.9/lib/python3.9/site-packages/recommenders/models/deeprec/DataModel/ImplicitCF.py:73: FutureWarning: The frame.append method is deprecated and will be removed from pandas in a future version. Use pandas.concat instead.\n",
      "\u001b[36m(TrainLightGCN pid=3513948)\u001b[0m   df = train if test is None else train.append(test)\n"
     ]
    },
    {
     "name": "stdout",
     "output_type": "stream",
     "text": [
      "\u001b[36m(TrainLightGCN pid=3513948)\u001b[0m Already create adjacency matrix.\u001b[32m [repeated 2x across cluster]\u001b[0m\n",
      "\u001b[36m(TrainLightGCN pid=3513948)\u001b[0m Already normalize adjacency matrix.\u001b[32m [repeated 2x across cluster]\u001b[0m\n",
      "\u001b[36m(TrainLightGCN pid=3513948)\u001b[0m Using xavier initialization.\u001b[32m [repeated 2x across cluster]\u001b[0m\n"
     ]
    },
    {
     "name": "stderr",
     "output_type": "stream",
     "text": [
      "\u001b[36m(TrainLightGCN pid=3513782)\u001b[0m Checkpoint successfully created at: Checkpoint(filesystem=local, path=/home/daviddavo/ray_results/LightGCN_optim=map@10,dao=MetaCartel - MetaCartel Ventures,freq=W-THU,normalize=True,cutoff_date=2020-11-06T00:00:00,fold=9_2024-03-09T09:25:07.044160/TrainLightGCN_f1285568_36_batch_size=7,conv_layers=4,embedding_dim=23,fold=9,l2=0.0096,learning_rate=0.0062_2024-03-09_09-27-13/checkpoint_000000)\n",
      "\u001b[36m(pid=3514115)\u001b[0m 2024-03-09 09:27:21.654808: E tensorflow/compiler/xla/stream_executor/cuda/cuda_dnn.cc:9342] Unable to register cuDNN factory: Attempting to register factory for plugin cuDNN when one has already been registered\n",
      "\u001b[36m(pid=3514115)\u001b[0m 2024-03-09 09:27:21.654836: E tensorflow/compiler/xla/stream_executor/cuda/cuda_fft.cc:609] Unable to register cuFFT factory: Attempting to register factory for plugin cuFFT when one has already been registered\n",
      "\u001b[36m(pid=3514115)\u001b[0m 2024-03-09 09:27:21.654850: E tensorflow/compiler/xla/stream_executor/cuda/cuda_blas.cc:1518] Unable to register cuBLAS factory: Attempting to register factory for plugin cuBLAS when one has already been registered\n"
     ]
    },
    {
     "name": "stderr",
     "output_type": "stream",
     "text": [
      "\u001b[36m(pid=3514282)\u001b[0m 2024-03-09 09:27:25.264740: E tensorflow/compiler/xla/stream_executor/cuda/cuda_dnn.cc:9342] Unable to register cuDNN factory: Attempting to register factory for plugin cuDNN when one has already been registered\n",
      "\u001b[36m(pid=3514282)\u001b[0m 2024-03-09 09:27:25.264774: E tensorflow/compiler/xla/stream_executor/cuda/cuda_fft.cc:609] Unable to register cuFFT factory: Attempting to register factory for plugin cuFFT when one has already been registered\n",
      "\u001b[36m(pid=3514282)\u001b[0m 2024-03-09 09:27:25.264788: E tensorflow/compiler/xla/stream_executor/cuda/cuda_blas.cc:1518] Unable to register cuBLAS factory: Attempting to register factory for plugin cuBLAS when one has already been registered\n",
      "\u001b[36m(TrainLightGCN pid=3514115)\u001b[0m /home/daviddavo/upm-tfm-notebooks/.direnv/python-3.9/lib/python3.9/site-packages/recommenders/models/deeprec/DataModel/ImplicitCF.py:73: FutureWarning: The frame.append method is deprecated and will be removed from pandas in a future version. Use pandas.concat instead.\n",
      "\u001b[36m(TrainLightGCN pid=3514115)\u001b[0m   df = train if test is None else train.append(test)\n"
     ]
    },
    {
     "name": "stderr",
     "output_type": "stream",
     "text": [
      "\u001b[36m(TrainLightGCN pid=3513948)\u001b[0m Checkpoint successfully created at: Checkpoint(filesystem=local, path=/home/daviddavo/ray_results/LightGCN_optim=map@10,dao=MetaCartel - MetaCartel Ventures,freq=W-THU,normalize=True,cutoff_date=2020-11-06T00:00:00,fold=9_2024-03-09T09:25:07.044160/TrainLightGCN_943f529d_37_batch_size=6,conv_layers=5,embedding_dim=141,fold=9,l2=0.0031,learning_rate=0.0007_2024-03-09_09-27-17/checkpoint_000000)\n"
     ]
    },
    {
     "name": "stdout",
     "output_type": "stream",
     "text": [
      "\u001b[36m(TrainLightGCN pid=3514282)\u001b[0m Already create adjacency matrix.\u001b[32m [repeated 2x across cluster]\u001b[0m\n",
      "\u001b[36m(TrainLightGCN pid=3514282)\u001b[0m Already normalize adjacency matrix.\u001b[32m [repeated 2x across cluster]\u001b[0m\n",
      "\u001b[36m(TrainLightGCN pid=3514282)\u001b[0m Using xavier initialization.\u001b[32m [repeated 2x across cluster]\u001b[0m\n"
     ]
    },
    {
     "name": "stderr",
     "output_type": "stream",
     "text": [
      "\u001b[36m(TrainLightGCN pid=3514282)\u001b[0m /home/daviddavo/upm-tfm-notebooks/.direnv/python-3.9/lib/python3.9/site-packages/recommenders/models/deeprec/DataModel/ImplicitCF.py:73: FutureWarning: The frame.append method is deprecated and will be removed from pandas in a future version. Use pandas.concat instead.\n",
      "\u001b[36m(TrainLightGCN pid=3514282)\u001b[0m   df = train if test is None else train.append(test)\n"
     ]
    },
    {
     "name": "stderr",
     "output_type": "stream",
     "text": [
      "\u001b[36m(pid=3514446)\u001b[0m 2024-03-09 09:27:28.912696: E tensorflow/compiler/xla/stream_executor/cuda/cuda_dnn.cc:9342] Unable to register cuDNN factory: Attempting to register factory for plugin cuDNN when one has already been registered\n",
      "\u001b[36m(pid=3514446)\u001b[0m 2024-03-09 09:27:28.912728: E tensorflow/compiler/xla/stream_executor/cuda/cuda_fft.cc:609] Unable to register cuFFT factory: Attempting to register factory for plugin cuFFT when one has already been registered\n",
      "\u001b[36m(pid=3514446)\u001b[0m 2024-03-09 09:27:28.912743: E tensorflow/compiler/xla/stream_executor/cuda/cuda_blas.cc:1518] Unable to register cuBLAS factory: Attempting to register factory for plugin cuBLAS when one has already been registered\n"
     ]
    },
    {
     "name": "stderr",
     "output_type": "stream",
     "text": [
      "\u001b[36m(TrainLightGCN pid=3514282)\u001b[0m Checkpoint successfully created at: Checkpoint(filesystem=local, path=/home/daviddavo/ray_results/LightGCN_optim=map@10,dao=MetaCartel - MetaCartel Ventures,freq=W-THU,normalize=True,cutoff_date=2020-11-06T00:00:00,fold=9_2024-03-09T09:25:07.044160/TrainLightGCN_7bc508f5_39_batch_size=7,conv_layers=4,embedding_dim=229,fold=9,l2=0.0001,learning_rate=0.0067_2024-03-09_09-27-24/checkpoint_000000)\u001b[32m [repeated 2x across cluster]\u001b[0m\n"
     ]
    },
    {
     "name": "stderr",
     "output_type": "stream",
     "text": [
      "\u001b[36m(pid=3514615)\u001b[0m 2024-03-09 09:27:32.564370: E tensorflow/compiler/xla/stream_executor/cuda/cuda_dnn.cc:9342] Unable to register cuDNN factory: Attempting to register factory for plugin cuDNN when one has already been registered\n",
      "\u001b[36m(pid=3514615)\u001b[0m 2024-03-09 09:27:32.564400: E tensorflow/compiler/xla/stream_executor/cuda/cuda_fft.cc:609] Unable to register cuFFT factory: Attempting to register factory for plugin cuFFT when one has already been registered\n",
      "\u001b[36m(pid=3514615)\u001b[0m 2024-03-09 09:27:32.564416: E tensorflow/compiler/xla/stream_executor/cuda/cuda_blas.cc:1518] Unable to register cuBLAS factory: Attempting to register factory for plugin cuBLAS when one has already been registered\n",
      "\u001b[36m(TrainLightGCN pid=3514446)\u001b[0m /home/daviddavo/upm-tfm-notebooks/.direnv/python-3.9/lib/python3.9/site-packages/recommenders/models/deeprec/DataModel/ImplicitCF.py:73: FutureWarning: The frame.append method is deprecated and will be removed from pandas in a future version. Use pandas.concat instead.\n",
      "\u001b[36m(TrainLightGCN pid=3514446)\u001b[0m   df = train if test is None else train.append(test)\n"
     ]
    },
    {
     "name": "stdout",
     "output_type": "stream",
     "text": [
      "\u001b[36m(TrainLightGCN pid=3514615)\u001b[0m Already create adjacency matrix.\u001b[32m [repeated 2x across cluster]\u001b[0m\n",
      "\u001b[36m(TrainLightGCN pid=3514615)\u001b[0m Already normalize adjacency matrix.\u001b[32m [repeated 2x across cluster]\u001b[0m\n",
      "\u001b[36m(TrainLightGCN pid=3514615)\u001b[0m Using xavier initialization.\u001b[32m [repeated 2x across cluster]\u001b[0m\n"
     ]
    },
    {
     "name": "stderr",
     "output_type": "stream",
     "text": [
      "\u001b[36m(TrainLightGCN pid=3514615)\u001b[0m /home/daviddavo/upm-tfm-notebooks/.direnv/python-3.9/lib/python3.9/site-packages/recommenders/models/deeprec/DataModel/ImplicitCF.py:73: FutureWarning: The frame.append method is deprecated and will be removed from pandas in a future version. Use pandas.concat instead.\n",
      "\u001b[36m(TrainLightGCN pid=3514615)\u001b[0m   df = train if test is None else train.append(test)\n"
     ]
    },
    {
     "name": "stderr",
     "output_type": "stream",
     "text": [
      "\u001b[36m(TrainLightGCN pid=3514446)\u001b[0m Checkpoint successfully created at: Checkpoint(filesystem=local, path=/home/daviddavo/ray_results/LightGCN_optim=map@10,dao=MetaCartel - MetaCartel Ventures,freq=W-THU,normalize=True,cutoff_date=2020-11-06T00:00:00,fold=9_2024-03-09T09:25:07.044160/TrainLightGCN_2376cdd5_40_batch_size=7,conv_layers=3,embedding_dim=577,fold=9,l2=0.0058,learning_rate=0.2210_2024-03-09_09-27-27/checkpoint_000000)\n",
      "\u001b[36m(pid=3514782)\u001b[0m 2024-03-09 09:27:36.171689: E tensorflow/compiler/xla/stream_executor/cuda/cuda_dnn.cc:9342] Unable to register cuDNN factory: Attempting to register factory for plugin cuDNN when one has already been registered\n",
      "\u001b[36m(pid=3514782)\u001b[0m 2024-03-09 09:27:36.171721: E tensorflow/compiler/xla/stream_executor/cuda/cuda_fft.cc:609] Unable to register cuFFT factory: Attempting to register factory for plugin cuFFT when one has already been registered\n",
      "\u001b[36m(pid=3514782)\u001b[0m 2024-03-09 09:27:36.171736: E tensorflow/compiler/xla/stream_executor/cuda/cuda_blas.cc:1518] Unable to register cuBLAS factory: Attempting to register factory for plugin cuBLAS when one has already been registered\n"
     ]
    },
    {
     "name": "stderr",
     "output_type": "stream",
     "text": [
      "\u001b[36m(pid=3514950)\u001b[0m 2024-03-09 09:27:39.770815: E tensorflow/compiler/xla/stream_executor/cuda/cuda_dnn.cc:9342] Unable to register cuDNN factory: Attempting to register factory for plugin cuDNN when one has already been registered\n",
      "\u001b[36m(pid=3514950)\u001b[0m 2024-03-09 09:27:39.770846: E tensorflow/compiler/xla/stream_executor/cuda/cuda_fft.cc:609] Unable to register cuFFT factory: Attempting to register factory for plugin cuFFT when one has already been registered\n",
      "\u001b[36m(pid=3514950)\u001b[0m 2024-03-09 09:27:39.770861: E tensorflow/compiler/xla/stream_executor/cuda/cuda_blas.cc:1518] Unable to register cuBLAS factory: Attempting to register factory for plugin cuBLAS when one has already been registered\n",
      "\u001b[36m(TrainLightGCN pid=3514782)\u001b[0m /home/daviddavo/upm-tfm-notebooks/.direnv/python-3.9/lib/python3.9/site-packages/recommenders/models/deeprec/DataModel/ImplicitCF.py:73: FutureWarning: The frame.append method is deprecated and will be removed from pandas in a future version. Use pandas.concat instead.\n",
      "\u001b[36m(TrainLightGCN pid=3514782)\u001b[0m   df = train if test is None else train.append(test)\n"
     ]
    },
    {
     "name": "stderr",
     "output_type": "stream",
     "text": [
      "\u001b[36m(TrainLightGCN pid=3514615)\u001b[0m Checkpoint successfully created at: Checkpoint(filesystem=local, path=/home/daviddavo/ray_results/LightGCN_optim=map@10,dao=MetaCartel - MetaCartel Ventures,freq=W-THU,normalize=True,cutoff_date=2020-11-06T00:00:00,fold=9_2024-03-09T09:25:07.044160/TrainLightGCN_454d8e92_41_batch_size=6,conv_layers=1,embedding_dim=2,fold=9,l2=0.0002,learning_rate=0.0112_2024-03-09_09-27-31/checkpoint_000000)\n"
     ]
    },
    {
     "name": "stderr",
     "output_type": "stream",
     "text": [
      "\u001b[36m(TrainLightGCN pid=3514950)\u001b[0m /home/daviddavo/upm-tfm-notebooks/.direnv/python-3.9/lib/python3.9/site-packages/recommenders/models/deeprec/DataModel/ImplicitCF.py:73: FutureWarning: The frame.append method is deprecated and will be removed from pandas in a future version. Use pandas.concat instead.\n",
      "\u001b[36m(TrainLightGCN pid=3514950)\u001b[0m   df = train if test is None else train.append(test)\n"
     ]
    },
    {
     "name": "stdout",
     "output_type": "stream",
     "text": [
      "\u001b[36m(TrainLightGCN pid=3514950)\u001b[0m Already create adjacency matrix.\u001b[32m [repeated 2x across cluster]\u001b[0m\n",
      "\u001b[36m(TrainLightGCN pid=3514950)\u001b[0m Already normalize adjacency matrix.\u001b[32m [repeated 2x across cluster]\u001b[0m\n",
      "\u001b[36m(TrainLightGCN pid=3514950)\u001b[0m Using xavier initialization.\u001b[32m [repeated 2x across cluster]\u001b[0m\n"
     ]
    },
    {
     "name": "stderr",
     "output_type": "stream",
     "text": [
      "\u001b[36m(pid=3515118)\u001b[0m 2024-03-09 09:27:43.424360: E tensorflow/compiler/xla/stream_executor/cuda/cuda_dnn.cc:9342] Unable to register cuDNN factory: Attempting to register factory for plugin cuDNN when one has already been registered\n",
      "\u001b[36m(pid=3515118)\u001b[0m 2024-03-09 09:27:43.424391: E tensorflow/compiler/xla/stream_executor/cuda/cuda_fft.cc:609] Unable to register cuFFT factory: Attempting to register factory for plugin cuFFT when one has already been registered\n",
      "\u001b[36m(pid=3515118)\u001b[0m 2024-03-09 09:27:43.424406: E tensorflow/compiler/xla/stream_executor/cuda/cuda_blas.cc:1518] Unable to register cuBLAS factory: Attempting to register factory for plugin cuBLAS when one has already been registered\n"
     ]
    },
    {
     "name": "stderr",
     "output_type": "stream",
     "text": [
      "\u001b[36m(pid=3515298)\u001b[0m 2024-03-09 09:27:47.041791: E tensorflow/compiler/xla/stream_executor/cuda/cuda_dnn.cc:9342] Unable to register cuDNN factory: Attempting to register factory for plugin cuDNN when one has already been registered\n",
      "\u001b[36m(pid=3515298)\u001b[0m 2024-03-09 09:27:47.041824: E tensorflow/compiler/xla/stream_executor/cuda/cuda_fft.cc:609] Unable to register cuFFT factory: Attempting to register factory for plugin cuFFT when one has already been registered\n",
      "\u001b[36m(pid=3515298)\u001b[0m 2024-03-09 09:27:47.041839: E tensorflow/compiler/xla/stream_executor/cuda/cuda_blas.cc:1518] Unable to register cuBLAS factory: Attempting to register factory for plugin cuBLAS when one has already been registered\n",
      "\u001b[36m(TrainLightGCN pid=3514950)\u001b[0m Checkpoint successfully created at: Checkpoint(filesystem=local, path=/home/daviddavo/ray_results/LightGCN_optim=map@10,dao=MetaCartel - MetaCartel Ventures,freq=W-THU,normalize=True,cutoff_date=2020-11-06T00:00:00,fold=9_2024-03-09T09:25:07.044160/TrainLightGCN_7e202ac7_43_batch_size=8,conv_layers=3,embedding_dim=18,fold=9,l2=0.0010,learning_rate=0.0107_2024-03-09_09-27-38/checkpoint_000000)\u001b[32m [repeated 2x across cluster]\u001b[0m\n",
      "\u001b[36m(TrainLightGCN pid=3515118)\u001b[0m /home/daviddavo/upm-tfm-notebooks/.direnv/python-3.9/lib/python3.9/site-packages/recommenders/models/deeprec/DataModel/ImplicitCF.py:73: FutureWarning: The frame.append method is deprecated and will be removed from pandas in a future version. Use pandas.concat instead.\n",
      "\u001b[36m(TrainLightGCN pid=3515118)\u001b[0m   df = train if test is None else train.append(test)\n"
     ]
    },
    {
     "name": "stderr",
     "output_type": "stream",
     "text": [
      "\u001b[36m(TrainLightGCN pid=3515298)\u001b[0m /home/daviddavo/upm-tfm-notebooks/.direnv/python-3.9/lib/python3.9/site-packages/recommenders/models/deeprec/DataModel/ImplicitCF.py:73: FutureWarning: The frame.append method is deprecated and will be removed from pandas in a future version. Use pandas.concat instead.\n",
      "\u001b[36m(TrainLightGCN pid=3515298)\u001b[0m   df = train if test is None else train.append(test)\n"
     ]
    },
    {
     "name": "stdout",
     "output_type": "stream",
     "text": [
      "\u001b[36m(TrainLightGCN pid=3515298)\u001b[0m Already create adjacency matrix.\u001b[32m [repeated 2x across cluster]\u001b[0m\n",
      "\u001b[36m(TrainLightGCN pid=3515298)\u001b[0m Already normalize adjacency matrix.\u001b[32m [repeated 2x across cluster]\u001b[0m\n",
      "\u001b[36m(TrainLightGCN pid=3515298)\u001b[0m Using xavier initialization.\u001b[32m [repeated 2x across cluster]\u001b[0m\n"
     ]
    },
    {
     "name": "stderr",
     "output_type": "stream",
     "text": [
      "\u001b[36m(pid=3515456)\u001b[0m 2024-03-09 09:27:50.644739: E tensorflow/compiler/xla/stream_executor/cuda/cuda_dnn.cc:9342] Unable to register cuDNN factory: Attempting to register factory for plugin cuDNN when one has already been registered\n",
      "\u001b[36m(pid=3515456)\u001b[0m 2024-03-09 09:27:50.644775: E tensorflow/compiler/xla/stream_executor/cuda/cuda_fft.cc:609] Unable to register cuFFT factory: Attempting to register factory for plugin cuFFT when one has already been registered\n",
      "\u001b[36m(pid=3515456)\u001b[0m 2024-03-09 09:27:50.644789: E tensorflow/compiler/xla/stream_executor/cuda/cuda_blas.cc:1518] Unable to register cuBLAS factory: Attempting to register factory for plugin cuBLAS when one has already been registered\n",
      "\u001b[36m(TrainLightGCN pid=3515118)\u001b[0m Checkpoint successfully created at: Checkpoint(filesystem=local, path=/home/daviddavo/ray_results/LightGCN_optim=map@10,dao=MetaCartel - MetaCartel Ventures,freq=W-THU,normalize=True,cutoff_date=2020-11-06T00:00:00,fold=9_2024-03-09T09:25:07.044160/TrainLightGCN_452aca6a_44_batch_size=6,conv_layers=1,embedding_dim=1,fold=9,l2=0.0002,learning_rate=0.1233_2024-03-09_09-27-42/checkpoint_000000)\n"
     ]
    },
    {
     "name": "stderr",
     "output_type": "stream",
     "text": [
      "\u001b[36m(pid=3515624)\u001b[0m 2024-03-09 09:27:54.296968: E tensorflow/compiler/xla/stream_executor/cuda/cuda_dnn.cc:9342] Unable to register cuDNN factory: Attempting to register factory for plugin cuDNN when one has already been registered\n",
      "\u001b[36m(pid=3515624)\u001b[0m 2024-03-09 09:27:54.297002: E tensorflow/compiler/xla/stream_executor/cuda/cuda_fft.cc:609] Unable to register cuFFT factory: Attempting to register factory for plugin cuFFT when one has already been registered\n",
      "\u001b[36m(pid=3515624)\u001b[0m 2024-03-09 09:27:54.297016: E tensorflow/compiler/xla/stream_executor/cuda/cuda_blas.cc:1518] Unable to register cuBLAS factory: Attempting to register factory for plugin cuBLAS when one has already been registered\n",
      "\u001b[36m(TrainLightGCN pid=3515456)\u001b[0m /home/daviddavo/upm-tfm-notebooks/.direnv/python-3.9/lib/python3.9/site-packages/recommenders/models/deeprec/DataModel/ImplicitCF.py:73: FutureWarning: The frame.append method is deprecated and will be removed from pandas in a future version. Use pandas.concat instead.\n",
      "\u001b[36m(TrainLightGCN pid=3515456)\u001b[0m   df = train if test is None else train.append(test)\n"
     ]
    },
    {
     "name": "stderr",
     "output_type": "stream",
     "text": [
      "\u001b[36m(TrainLightGCN pid=3515298)\u001b[0m Checkpoint successfully created at: Checkpoint(filesystem=local, path=/home/daviddavo/ray_results/LightGCN_optim=map@10,dao=MetaCartel - MetaCartel Ventures,freq=W-THU,normalize=True,cutoff_date=2020-11-06T00:00:00,fold=9_2024-03-09T09:25:07.044160/TrainLightGCN_eab1639e_45_batch_size=6,conv_layers=1,embedding_dim=2,fold=9,l2=0.0000,learning_rate=0.5157_2024-03-09_09-27-46/checkpoint_000000)\n"
     ]
    },
    {
     "name": "stderr",
     "output_type": "stream",
     "text": [
      "\u001b[36m(TrainLightGCN pid=3515624)\u001b[0m /home/daviddavo/upm-tfm-notebooks/.direnv/python-3.9/lib/python3.9/site-packages/recommenders/models/deeprec/DataModel/ImplicitCF.py:73: FutureWarning: The frame.append method is deprecated and will be removed from pandas in a future version. Use pandas.concat instead.\n",
      "\u001b[36m(TrainLightGCN pid=3515624)\u001b[0m   df = train if test is None else train.append(test)\n"
     ]
    },
    {
     "name": "stdout",
     "output_type": "stream",
     "text": [
      "\u001b[36m(TrainLightGCN pid=3515624)\u001b[0m Already create adjacency matrix.\u001b[32m [repeated 2x across cluster]\u001b[0m\n",
      "\u001b[36m(TrainLightGCN pid=3515624)\u001b[0m Already normalize adjacency matrix.\u001b[32m [repeated 2x across cluster]\u001b[0m\n",
      "\u001b[36m(TrainLightGCN pid=3515624)\u001b[0m Using xavier initialization.\u001b[32m [repeated 2x across cluster]\u001b[0m\n"
     ]
    },
    {
     "name": "stderr",
     "output_type": "stream",
     "text": [
      "\u001b[36m(pid=3515793)\u001b[0m 2024-03-09 09:27:57.915004: E tensorflow/compiler/xla/stream_executor/cuda/cuda_dnn.cc:9342] Unable to register cuDNN factory: Attempting to register factory for plugin cuDNN when one has already been registered\n",
      "\u001b[36m(pid=3515793)\u001b[0m 2024-03-09 09:27:57.915029: E tensorflow/compiler/xla/stream_executor/cuda/cuda_fft.cc:609] Unable to register cuFFT factory: Attempting to register factory for plugin cuFFT when one has already been registered\n",
      "\u001b[36m(pid=3515793)\u001b[0m 2024-03-09 09:27:57.915043: E tensorflow/compiler/xla/stream_executor/cuda/cuda_blas.cc:1518] Unable to register cuBLAS factory: Attempting to register factory for plugin cuBLAS when one has already been registered\n"
     ]
    },
    {
     "name": "stderr",
     "output_type": "stream",
     "text": [
      "\u001b[36m(pid=3515969)\u001b[0m 2024-03-09 09:28:01.560525: E tensorflow/compiler/xla/stream_executor/cuda/cuda_dnn.cc:9342] Unable to register cuDNN factory: Attempting to register factory for plugin cuDNN when one has already been registered\n",
      "\u001b[36m(pid=3515969)\u001b[0m 2024-03-09 09:28:01.560559: E tensorflow/compiler/xla/stream_executor/cuda/cuda_fft.cc:609] Unable to register cuFFT factory: Attempting to register factory for plugin cuFFT when one has already been registered\n",
      "\u001b[36m(pid=3515969)\u001b[0m 2024-03-09 09:28:01.560574: E tensorflow/compiler/xla/stream_executor/cuda/cuda_blas.cc:1518] Unable to register cuBLAS factory: Attempting to register factory for plugin cuBLAS when one has already been registered\n",
      "\u001b[36m(TrainLightGCN pid=3515624)\u001b[0m Checkpoint successfully created at: Checkpoint(filesystem=local, path=/home/daviddavo/ray_results/LightGCN_optim=map@10,dao=MetaCartel - MetaCartel Ventures,freq=W-THU,normalize=True,cutoff_date=2020-11-06T00:00:00,fold=9_2024-03-09T09:25:07.044160/TrainLightGCN_2e438efe_47_batch_size=9,conv_layers=1,embedding_dim=1,fold=9,l2=0.0000,learning_rate=0.1345_2024-03-09_09-27-53/checkpoint_000000)\u001b[32m [repeated 2x across cluster]\u001b[0m\n",
      "\u001b[36m(TrainLightGCN pid=3515793)\u001b[0m /home/daviddavo/upm-tfm-notebooks/.direnv/python-3.9/lib/python3.9/site-packages/recommenders/models/deeprec/DataModel/ImplicitCF.py:73: FutureWarning: The frame.append method is deprecated and will be removed from pandas in a future version. Use pandas.concat instead.\n",
      "\u001b[36m(TrainLightGCN pid=3515793)\u001b[0m   df = train if test is None else train.append(test)\n"
     ]
    },
    {
     "name": "stdout",
     "output_type": "stream",
     "text": [
      "\u001b[36m(TrainLightGCN pid=3515969)\u001b[0m Already create adjacency matrix.\u001b[32m [repeated 2x across cluster]\u001b[0m\n",
      "\u001b[36m(TrainLightGCN pid=3515969)\u001b[0m Already normalize adjacency matrix.\u001b[32m [repeated 2x across cluster]\u001b[0m\n",
      "\u001b[36m(TrainLightGCN pid=3515793)\u001b[0m Using xavier initialization.\n",
      "\u001b[36m(TrainLightGCN pid=3515969)\u001b[0m Using xavier initialization.\n"
     ]
    },
    {
     "name": "stderr",
     "output_type": "stream",
     "text": [
      "\u001b[36m(TrainLightGCN pid=3515969)\u001b[0m /home/daviddavo/upm-tfm-notebooks/.direnv/python-3.9/lib/python3.9/site-packages/recommenders/models/deeprec/DataModel/ImplicitCF.py:73: FutureWarning: The frame.append method is deprecated and will be removed from pandas in a future version. Use pandas.concat instead.\n",
      "\u001b[36m(TrainLightGCN pid=3515969)\u001b[0m   df = train if test is None else train.append(test)\n"
     ]
    },
    {
     "name": "stderr",
     "output_type": "stream",
     "text": [
      "\u001b[36m(pid=3516126)\u001b[0m 2024-03-09 09:28:05.156202: E tensorflow/compiler/xla/stream_executor/cuda/cuda_dnn.cc:9342] Unable to register cuDNN factory: Attempting to register factory for plugin cuDNN when one has already been registered\n",
      "\u001b[36m(pid=3516126)\u001b[0m 2024-03-09 09:28:05.156234: E tensorflow/compiler/xla/stream_executor/cuda/cuda_fft.cc:609] Unable to register cuFFT factory: Attempting to register factory for plugin cuFFT when one has already been registered\n",
      "\u001b[36m(pid=3516126)\u001b[0m 2024-03-09 09:28:05.156251: E tensorflow/compiler/xla/stream_executor/cuda/cuda_blas.cc:1518] Unable to register cuBLAS factory: Attempting to register factory for plugin cuBLAS when one has already been registered\n",
      "\u001b[36m(TrainLightGCN pid=3515793)\u001b[0m Checkpoint successfully created at: Checkpoint(filesystem=local, path=/home/daviddavo/ray_results/LightGCN_optim=map@10,dao=MetaCartel - MetaCartel Ventures,freq=W-THU,normalize=True,cutoff_date=2020-11-06T00:00:00,fold=9_2024-03-09T09:25:07.044160/TrainLightGCN_e33e319a_48_batch_size=6,conv_layers=2,embedding_dim=4,fold=9,l2=0.0000,learning_rate=0.7678_2024-03-09_09-27-56/checkpoint_000000)\n"
     ]
    },
    {
     "name": "stderr",
     "output_type": "stream",
     "text": [
      "\u001b[36m(TrainLightGCN pid=3515969)\u001b[0m Checkpoint successfully created at: Checkpoint(filesystem=local, path=/home/daviddavo/ray_results/LightGCN_optim=map@10,dao=MetaCartel - MetaCartel Ventures,freq=W-THU,normalize=True,cutoff_date=2020-11-06T00:00:00,fold=9_2024-03-09T09:25:07.044160/TrainLightGCN_623a5863_49_batch_size=8,conv_layers=1,embedding_dim=1,fold=9,l2=0.0001,learning_rate=0.1415_2024-03-09_09-28-00/checkpoint_000000)\n"
     ]
    },
    {
     "name": "stderr",
     "output_type": "stream",
     "text": [
      "\u001b[36m(pid=3516301)\u001b[0m 2024-03-09 09:28:08.754922: E tensorflow/compiler/xla/stream_executor/cuda/cuda_dnn.cc:9342] Unable to register cuDNN factory: Attempting to register factory for plugin cuDNN when one has already been registered\n",
      "\u001b[36m(pid=3516301)\u001b[0m 2024-03-09 09:28:08.754954: E tensorflow/compiler/xla/stream_executor/cuda/cuda_fft.cc:609] Unable to register cuFFT factory: Attempting to register factory for plugin cuFFT when one has already been registered\n",
      "\u001b[36m(pid=3516301)\u001b[0m 2024-03-09 09:28:08.754968: E tensorflow/compiler/xla/stream_executor/cuda/cuda_blas.cc:1518] Unable to register cuBLAS factory: Attempting to register factory for plugin cuBLAS when one has already been registered\n",
      "\u001b[36m(TrainLightGCN pid=3516126)\u001b[0m /home/daviddavo/upm-tfm-notebooks/.direnv/python-3.9/lib/python3.9/site-packages/recommenders/models/deeprec/DataModel/ImplicitCF.py:73: FutureWarning: The frame.append method is deprecated and will be removed from pandas in a future version. Use pandas.concat instead.\n",
      "\u001b[36m(TrainLightGCN pid=3516126)\u001b[0m   df = train if test is None else train.append(test)\n"
     ]
    },
    {
     "name": "stderr",
     "output_type": "stream",
     "text": [
      "\u001b[36m(TrainLightGCN pid=3516301)\u001b[0m /home/daviddavo/upm-tfm-notebooks/.direnv/python-3.9/lib/python3.9/site-packages/recommenders/models/deeprec/DataModel/ImplicitCF.py:73: FutureWarning: The frame.append method is deprecated and will be removed from pandas in a future version. Use pandas.concat instead.\n",
      "\u001b[36m(TrainLightGCN pid=3516301)\u001b[0m   df = train if test is None else train.append(test)\n"
     ]
    },
    {
     "name": "stdout",
     "output_type": "stream",
     "text": [
      "\u001b[36m(TrainLightGCN pid=3516301)\u001b[0m Already create adjacency matrix.\u001b[32m [repeated 2x across cluster]\u001b[0m\n",
      "\u001b[36m(TrainLightGCN pid=3516126)\u001b[0m Already normalize adjacency matrix.\n",
      "\u001b[36m(TrainLightGCN pid=3516126)\u001b[0m Using xavier initialization.\n",
      "\u001b[36m(TrainLightGCN pid=3516301)\u001b[0m Already normalize adjacency matrix.\n",
      "\u001b[36m(TrainLightGCN pid=3516301)\u001b[0m Using xavier initialization.\n"
     ]
    },
    {
     "name": "stderr",
     "output_type": "stream",
     "text": [
      "\u001b[36m(TrainLightGCN pid=3516126)\u001b[0m Checkpoint successfully created at: Checkpoint(filesystem=local, path=/home/daviddavo/ray_results/LightGCN_optim=map@10,dao=MetaCartel - MetaCartel Ventures,freq=W-THU,normalize=True,cutoff_date=2020-11-06T00:00:00,fold=9_2024-03-09T09:25:07.044160/TrainLightGCN_51496bc1_50_batch_size=6,conv_layers=2,embedding_dim=3,fold=9,l2=0.0055,learning_rate=0.2888_2024-03-09_09-28-04/checkpoint_000000)\n"
     ]
    },
    {
     "name": "stderr",
     "output_type": "stream",
     "text": [
      "\u001b[36m(pid=3516461)\u001b[0m 2024-03-09 09:28:12.350963: E tensorflow/compiler/xla/stream_executor/cuda/cuda_dnn.cc:9342] Unable to register cuDNN factory: Attempting to register factory for plugin cuDNN when one has already been registered\n",
      "\u001b[36m(pid=3516461)\u001b[0m 2024-03-09 09:28:12.350997: E tensorflow/compiler/xla/stream_executor/cuda/cuda_fft.cc:609] Unable to register cuFFT factory: Attempting to register factory for plugin cuFFT when one has already been registered\n",
      "\u001b[36m(pid=3516461)\u001b[0m 2024-03-09 09:28:12.351011: E tensorflow/compiler/xla/stream_executor/cuda/cuda_blas.cc:1518] Unable to register cuBLAS factory: Attempting to register factory for plugin cuBLAS when one has already been registered\n",
      "\u001b[36m(TrainLightGCN pid=3516301)\u001b[0m Checkpoint successfully created at: Checkpoint(filesystem=local, path=/home/daviddavo/ray_results/LightGCN_optim=map@10,dao=MetaCartel - MetaCartel Ventures,freq=W-THU,normalize=True,cutoff_date=2020-11-06T00:00:00,fold=9_2024-03-09T09:25:07.044160/TrainLightGCN_1d98609a_51_batch_size=9,conv_layers=2,embedding_dim=8,fold=9,l2=0.0007,learning_rate=0.0450_2024-03-09_09-28-07/checkpoint_000000)\n"
     ]
    },
    {
     "name": "stderr",
     "output_type": "stream",
     "text": [
      "\u001b[36m(pid=3516636)\u001b[0m 2024-03-09 09:28:15.917025: E tensorflow/compiler/xla/stream_executor/cuda/cuda_dnn.cc:9342] Unable to register cuDNN factory: Attempting to register factory for plugin cuDNN when one has already been registered\n",
      "\u001b[36m(pid=3516636)\u001b[0m 2024-03-09 09:28:15.917057: E tensorflow/compiler/xla/stream_executor/cuda/cuda_fft.cc:609] Unable to register cuFFT factory: Attempting to register factory for plugin cuFFT when one has already been registered\n",
      "\u001b[36m(pid=3516636)\u001b[0m 2024-03-09 09:28:15.917071: E tensorflow/compiler/xla/stream_executor/cuda/cuda_blas.cc:1518] Unable to register cuBLAS factory: Attempting to register factory for plugin cuBLAS when one has already been registered\n",
      "\u001b[36m(TrainLightGCN pid=3516461)\u001b[0m /home/daviddavo/upm-tfm-notebooks/.direnv/python-3.9/lib/python3.9/site-packages/recommenders/models/deeprec/DataModel/ImplicitCF.py:73: FutureWarning: The frame.append method is deprecated and will be removed from pandas in a future version. Use pandas.concat instead.\n",
      "\u001b[36m(TrainLightGCN pid=3516461)\u001b[0m   df = train if test is None else train.append(test)\n"
     ]
    },
    {
     "name": "stderr",
     "output_type": "stream",
     "text": [
      "\u001b[36m(TrainLightGCN pid=3516636)\u001b[0m /home/daviddavo/upm-tfm-notebooks/.direnv/python-3.9/lib/python3.9/site-packages/recommenders/models/deeprec/DataModel/ImplicitCF.py:73: FutureWarning: The frame.append method is deprecated and will be removed from pandas in a future version. Use pandas.concat instead.\n",
      "\u001b[36m(TrainLightGCN pid=3516636)\u001b[0m   df = train if test is None else train.append(test)\n"
     ]
    },
    {
     "name": "stdout",
     "output_type": "stream",
     "text": [
      "\u001b[36m(TrainLightGCN pid=3516636)\u001b[0m Already create adjacency matrix.\u001b[32m [repeated 2x across cluster]\u001b[0m\n",
      "\u001b[36m(TrainLightGCN pid=3516636)\u001b[0m Already normalize adjacency matrix.\u001b[32m [repeated 2x across cluster]\u001b[0m\n",
      "\u001b[36m(TrainLightGCN pid=3516636)\u001b[0m Using xavier initialization.\u001b[32m [repeated 2x across cluster]\u001b[0m\n"
     ]
    },
    {
     "name": "stderr",
     "output_type": "stream",
     "text": [
      "\u001b[36m(TrainLightGCN pid=3516461)\u001b[0m Checkpoint successfully created at: Checkpoint(filesystem=local, path=/home/daviddavo/ray_results/LightGCN_optim=map@10,dao=MetaCartel - MetaCartel Ventures,freq=W-THU,normalize=True,cutoff_date=2020-11-06T00:00:00,fold=9_2024-03-09T09:25:07.044160/TrainLightGCN_c44cb4df_52_batch_size=7,conv_layers=3,embedding_dim=396,fold=9,l2=0.0026,learning_rate=0.0635_2024-03-09_09-28-11/checkpoint_000000)\n"
     ]
    },
    {
     "name": "stderr",
     "output_type": "stream",
     "text": [
      "\u001b[36m(pid=3516798)\u001b[0m 2024-03-09 09:28:19.515366: E tensorflow/compiler/xla/stream_executor/cuda/cuda_dnn.cc:9342] Unable to register cuDNN factory: Attempting to register factory for plugin cuDNN when one has already been registered\n",
      "\u001b[36m(pid=3516798)\u001b[0m 2024-03-09 09:28:19.515397: E tensorflow/compiler/xla/stream_executor/cuda/cuda_fft.cc:609] Unable to register cuFFT factory: Attempting to register factory for plugin cuFFT when one has already been registered\n",
      "\u001b[36m(pid=3516798)\u001b[0m 2024-03-09 09:28:19.515410: E tensorflow/compiler/xla/stream_executor/cuda/cuda_blas.cc:1518] Unable to register cuBLAS factory: Attempting to register factory for plugin cuBLAS when one has already been registered\n"
     ]
    },
    {
     "name": "stderr",
     "output_type": "stream",
     "text": [
      "\u001b[36m(pid=3516963)\u001b[0m 2024-03-09 09:28:23.127549: E tensorflow/compiler/xla/stream_executor/cuda/cuda_dnn.cc:9342] Unable to register cuDNN factory: Attempting to register factory for plugin cuDNN when one has already been registered\n",
      "\u001b[36m(pid=3516963)\u001b[0m 2024-03-09 09:28:23.127583: E tensorflow/compiler/xla/stream_executor/cuda/cuda_fft.cc:609] Unable to register cuFFT factory: Attempting to register factory for plugin cuFFT when one has already been registered\n",
      "\u001b[36m(pid=3516963)\u001b[0m 2024-03-09 09:28:23.127600: E tensorflow/compiler/xla/stream_executor/cuda/cuda_blas.cc:1518] Unable to register cuBLAS factory: Attempting to register factory for plugin cuBLAS when one has already been registered\n",
      "\u001b[36m(TrainLightGCN pid=3516798)\u001b[0m /home/daviddavo/upm-tfm-notebooks/.direnv/python-3.9/lib/python3.9/site-packages/recommenders/models/deeprec/DataModel/ImplicitCF.py:73: FutureWarning: The frame.append method is deprecated and will be removed from pandas in a future version. Use pandas.concat instead.\n",
      "\u001b[36m(TrainLightGCN pid=3516798)\u001b[0m   df = train if test is None else train.append(test)\n"
     ]
    },
    {
     "name": "stderr",
     "output_type": "stream",
     "text": [
      "\u001b[36m(TrainLightGCN pid=3516636)\u001b[0m Checkpoint successfully created at: Checkpoint(filesystem=local, path=/home/daviddavo/ray_results/LightGCN_optim=map@10,dao=MetaCartel - MetaCartel Ventures,freq=W-THU,normalize=True,cutoff_date=2020-11-06T00:00:00,fold=9_2024-03-09T09:25:07.044160/TrainLightGCN_32469df5_53_batch_size=6,conv_layers=1,embedding_dim=6,fold=9,l2=0.0000,learning_rate=0.1692_2024-03-09_09-28-14/checkpoint_000000)\n"
     ]
    },
    {
     "name": "stderr",
     "output_type": "stream",
     "text": [
      "\u001b[36m(TrainLightGCN pid=3516963)\u001b[0m /home/daviddavo/upm-tfm-notebooks/.direnv/python-3.9/lib/python3.9/site-packages/recommenders/models/deeprec/DataModel/ImplicitCF.py:73: FutureWarning: The frame.append method is deprecated and will be removed from pandas in a future version. Use pandas.concat instead.\n",
      "\u001b[36m(TrainLightGCN pid=3516963)\u001b[0m   df = train if test is None else train.append(test)\n"
     ]
    },
    {
     "name": "stdout",
     "output_type": "stream",
     "text": [
      "\u001b[36m(TrainLightGCN pid=3516963)\u001b[0m Already create adjacency matrix.\u001b[32m [repeated 2x across cluster]\u001b[0m\n",
      "\u001b[36m(TrainLightGCN pid=3516963)\u001b[0m Already normalize adjacency matrix.\u001b[32m [repeated 2x across cluster]\u001b[0m\n",
      "\u001b[36m(TrainLightGCN pid=3516798)\u001b[0m Using xavier initialization.\n",
      "\u001b[36m(TrainLightGCN pid=3516963)\u001b[0m Using xavier initialization.\n"
     ]
    },
    {
     "name": "stderr",
     "output_type": "stream",
     "text": [
      "\u001b[36m(pid=3517139)\u001b[0m 2024-03-09 09:28:26.783521: E tensorflow/compiler/xla/stream_executor/cuda/cuda_dnn.cc:9342] Unable to register cuDNN factory: Attempting to register factory for plugin cuDNN when one has already been registered\n",
      "\u001b[36m(pid=3517139)\u001b[0m 2024-03-09 09:28:26.783553: E tensorflow/compiler/xla/stream_executor/cuda/cuda_fft.cc:609] Unable to register cuFFT factory: Attempting to register factory for plugin cuFFT when one has already been registered\n",
      "\u001b[36m(pid=3517139)\u001b[0m 2024-03-09 09:28:26.783569: E tensorflow/compiler/xla/stream_executor/cuda/cuda_blas.cc:1518] Unable to register cuBLAS factory: Attempting to register factory for plugin cuBLAS when one has already been registered\n"
     ]
    },
    {
     "name": "stderr",
     "output_type": "stream",
     "text": [
      "\u001b[36m(TrainLightGCN pid=3516963)\u001b[0m Checkpoint successfully created at: Checkpoint(filesystem=local, path=/home/daviddavo/ray_results/LightGCN_optim=map@10,dao=MetaCartel - MetaCartel Ventures,freq=W-THU,normalize=True,cutoff_date=2020-11-06T00:00:00,fold=9_2024-03-09T09:25:07.044160/TrainLightGCN_6d2ecc29_55_batch_size=7,conv_layers=3,embedding_dim=1023,fold=9,l2=0.0034,learning_rate=0.7328_2024-03-09_09-28-22/checkpoint_000000)\u001b[32m [repeated 2x across cluster]\u001b[0m\n"
     ]
    },
    {
     "name": "stderr",
     "output_type": "stream",
     "text": [
      "\u001b[36m(pid=3517298)\u001b[0m 2024-03-09 09:28:30.398452: E tensorflow/compiler/xla/stream_executor/cuda/cuda_dnn.cc:9342] Unable to register cuDNN factory: Attempting to register factory for plugin cuDNN when one has already been registered\n",
      "\u001b[36m(pid=3517298)\u001b[0m 2024-03-09 09:28:30.398480: E tensorflow/compiler/xla/stream_executor/cuda/cuda_fft.cc:609] Unable to register cuFFT factory: Attempting to register factory for plugin cuFFT when one has already been registered\n",
      "\u001b[36m(pid=3517298)\u001b[0m 2024-03-09 09:28:30.398496: E tensorflow/compiler/xla/stream_executor/cuda/cuda_blas.cc:1518] Unable to register cuBLAS factory: Attempting to register factory for plugin cuBLAS when one has already been registered\n",
      "\u001b[36m(TrainLightGCN pid=3517139)\u001b[0m /home/daviddavo/upm-tfm-notebooks/.direnv/python-3.9/lib/python3.9/site-packages/recommenders/models/deeprec/DataModel/ImplicitCF.py:73: FutureWarning: The frame.append method is deprecated and will be removed from pandas in a future version. Use pandas.concat instead.\n",
      "\u001b[36m(TrainLightGCN pid=3517139)\u001b[0m   df = train if test is None else train.append(test)\n"
     ]
    },
    {
     "name": "stderr",
     "output_type": "stream",
     "text": [
      "\u001b[36m(TrainLightGCN pid=3517298)\u001b[0m /home/daviddavo/upm-tfm-notebooks/.direnv/python-3.9/lib/python3.9/site-packages/recommenders/models/deeprec/DataModel/ImplicitCF.py:73: FutureWarning: The frame.append method is deprecated and will be removed from pandas in a future version. Use pandas.concat instead.\n",
      "\u001b[36m(TrainLightGCN pid=3517298)\u001b[0m   df = train if test is None else train.append(test)\n"
     ]
    },
    {
     "name": "stdout",
     "output_type": "stream",
     "text": [
      "\u001b[36m(TrainLightGCN pid=3517298)\u001b[0m Already create adjacency matrix.\u001b[32m [repeated 2x across cluster]\u001b[0m\n",
      "\u001b[36m(TrainLightGCN pid=3517298)\u001b[0m Already normalize adjacency matrix.\u001b[32m [repeated 2x across cluster]\u001b[0m\n",
      "\u001b[36m(TrainLightGCN pid=3517298)\u001b[0m Using xavier initialization.\u001b[32m [repeated 2x across cluster]\u001b[0m\n"
     ]
    },
    {
     "name": "stderr",
     "output_type": "stream",
     "text": [
      "\u001b[36m(TrainLightGCN pid=3517139)\u001b[0m Checkpoint successfully created at: Checkpoint(filesystem=local, path=/home/daviddavo/ray_results/LightGCN_optim=map@10,dao=MetaCartel - MetaCartel Ventures,freq=W-THU,normalize=True,cutoff_date=2020-11-06T00:00:00,fold=9_2024-03-09T09:25:07.044160/TrainLightGCN_7734281e_56_batch_size=7,conv_layers=3,embedding_dim=467,fold=9,l2=0.0093,learning_rate=0.0593_2024-03-09_09-28-25/checkpoint_000000)\n",
      "\u001b[36m(pid=3517464)\u001b[0m 2024-03-09 09:28:34.019977: E tensorflow/compiler/xla/stream_executor/cuda/cuda_dnn.cc:9342] Unable to register cuDNN factory: Attempting to register factory for plugin cuDNN when one has already been registered\n",
      "\u001b[36m(pid=3517464)\u001b[0m 2024-03-09 09:28:34.020009: E tensorflow/compiler/xla/stream_executor/cuda/cuda_fft.cc:609] Unable to register cuFFT factory: Attempting to register factory for plugin cuFFT when one has already been registered\n",
      "\u001b[36m(pid=3517464)\u001b[0m 2024-03-09 09:28:34.020025: E tensorflow/compiler/xla/stream_executor/cuda/cuda_blas.cc:1518] Unable to register cuBLAS factory: Attempting to register factory for plugin cuBLAS when one has already been registered\n"
     ]
    },
    {
     "name": "stderr",
     "output_type": "stream",
     "text": [
      "\u001b[36m(TrainLightGCN pid=3517298)\u001b[0m Checkpoint successfully created at: Checkpoint(filesystem=local, path=/home/daviddavo/ray_results/LightGCN_optim=map@10,dao=MetaCartel - MetaCartel Ventures,freq=W-THU,normalize=True,cutoff_date=2020-11-06T00:00:00,fold=9_2024-03-09T09:25:07.044160/TrainLightGCN_6a4d69a4_57_batch_size=7,conv_layers=3,embedding_dim=94,fold=9,l2=0.0000,learning_rate=0.0170_2024-03-09_09-28-29/checkpoint_000000)\n"
     ]
    },
    {
     "name": "stderr",
     "output_type": "stream",
     "text": [
      "\u001b[36m(pid=3517630)\u001b[0m 2024-03-09 09:28:37.657300: E tensorflow/compiler/xla/stream_executor/cuda/cuda_dnn.cc:9342] Unable to register cuDNN factory: Attempting to register factory for plugin cuDNN when one has already been registered\n",
      "\u001b[36m(pid=3517630)\u001b[0m 2024-03-09 09:28:37.657336: E tensorflow/compiler/xla/stream_executor/cuda/cuda_fft.cc:609] Unable to register cuFFT factory: Attempting to register factory for plugin cuFFT when one has already been registered\n",
      "\u001b[36m(pid=3517630)\u001b[0m 2024-03-09 09:28:37.657350: E tensorflow/compiler/xla/stream_executor/cuda/cuda_blas.cc:1518] Unable to register cuBLAS factory: Attempting to register factory for plugin cuBLAS when one has already been registered\n",
      "\u001b[36m(TrainLightGCN pid=3517464)\u001b[0m /home/daviddavo/upm-tfm-notebooks/.direnv/python-3.9/lib/python3.9/site-packages/recommenders/models/deeprec/DataModel/ImplicitCF.py:73: FutureWarning: The frame.append method is deprecated and will be removed from pandas in a future version. Use pandas.concat instead.\n",
      "\u001b[36m(TrainLightGCN pid=3517464)\u001b[0m   df = train if test is None else train.append(test)\n"
     ]
    },
    {
     "name": "stderr",
     "output_type": "stream",
     "text": [
      "\u001b[36m(TrainLightGCN pid=3517630)\u001b[0m /home/daviddavo/upm-tfm-notebooks/.direnv/python-3.9/lib/python3.9/site-packages/recommenders/models/deeprec/DataModel/ImplicitCF.py:73: FutureWarning: The frame.append method is deprecated and will be removed from pandas in a future version. Use pandas.concat instead.\n",
      "\u001b[36m(TrainLightGCN pid=3517630)\u001b[0m   df = train if test is None else train.append(test)\n"
     ]
    },
    {
     "name": "stdout",
     "output_type": "stream",
     "text": [
      "\u001b[36m(TrainLightGCN pid=3517630)\u001b[0m Already create adjacency matrix.\u001b[32m [repeated 2x across cluster]\u001b[0m\n",
      "\u001b[36m(TrainLightGCN pid=3517630)\u001b[0m Already normalize adjacency matrix.\u001b[32m [repeated 2x across cluster]\u001b[0m\n",
      "\u001b[36m(TrainLightGCN pid=3517630)\u001b[0m Using xavier initialization.\u001b[32m [repeated 2x across cluster]\u001b[0m\n"
     ]
    },
    {
     "name": "stderr",
     "output_type": "stream",
     "text": [
      "\u001b[36m(TrainLightGCN pid=3517464)\u001b[0m Checkpoint successfully created at: Checkpoint(filesystem=local, path=/home/daviddavo/ray_results/LightGCN_optim=map@10,dao=MetaCartel - MetaCartel Ventures,freq=W-THU,normalize=True,cutoff_date=2020-11-06T00:00:00,fold=9_2024-03-09T09:25:07.044160/TrainLightGCN_153ad806_58_batch_size=8,conv_layers=4,embedding_dim=172,fold=9,l2=0.0025,learning_rate=0.5998_2024-03-09_09-28-32/checkpoint_000000)\n",
      "\u001b[36m(pid=3517807)\u001b[0m 2024-03-09 09:28:41.341959: E tensorflow/compiler/xla/stream_executor/cuda/cuda_dnn.cc:9342] Unable to register cuDNN factory: Attempting to register factory for plugin cuDNN when one has already been registered\n",
      "\u001b[36m(pid=3517807)\u001b[0m 2024-03-09 09:28:41.341989: E tensorflow/compiler/xla/stream_executor/cuda/cuda_fft.cc:609] Unable to register cuFFT factory: Attempting to register factory for plugin cuFFT when one has already been registered\n",
      "\u001b[36m(pid=3517807)\u001b[0m 2024-03-09 09:28:41.342002: E tensorflow/compiler/xla/stream_executor/cuda/cuda_blas.cc:1518] Unable to register cuBLAS factory: Attempting to register factory for plugin cuBLAS when one has already been registered\n"
     ]
    },
    {
     "name": "stderr",
     "output_type": "stream",
     "text": [
      "\u001b[36m(TrainLightGCN pid=3517630)\u001b[0m Checkpoint successfully created at: Checkpoint(filesystem=local, path=/home/daviddavo/ray_results/LightGCN_optim=map@10,dao=MetaCartel - MetaCartel Ventures,freq=W-THU,normalize=True,cutoff_date=2020-11-06T00:00:00,fold=9_2024-03-09T09:25:07.044160/TrainLightGCN_d3ba4d31_59_batch_size=7,conv_layers=3,embedding_dim=58,fold=9,l2=0.0051,learning_rate=0.0281_2024-03-09_09-28-36/checkpoint_000000)\n"
     ]
    },
    {
     "name": "stderr",
     "output_type": "stream",
     "text": [
      "\u001b[36m(pid=3517962)\u001b[0m 2024-03-09 09:28:44.894730: E tensorflow/compiler/xla/stream_executor/cuda/cuda_dnn.cc:9342] Unable to register cuDNN factory: Attempting to register factory for plugin cuDNN when one has already been registered\n",
      "\u001b[36m(pid=3517962)\u001b[0m 2024-03-09 09:28:44.894838: E tensorflow/compiler/xla/stream_executor/cuda/cuda_fft.cc:609] Unable to register cuFFT factory: Attempting to register factory for plugin cuFFT when one has already been registered\n",
      "\u001b[36m(pid=3517962)\u001b[0m 2024-03-09 09:28:44.894853: E tensorflow/compiler/xla/stream_executor/cuda/cuda_blas.cc:1518] Unable to register cuBLAS factory: Attempting to register factory for plugin cuBLAS when one has already been registered\n",
      "\u001b[36m(TrainLightGCN pid=3517807)\u001b[0m /home/daviddavo/upm-tfm-notebooks/.direnv/python-3.9/lib/python3.9/site-packages/recommenders/models/deeprec/DataModel/ImplicitCF.py:73: FutureWarning: The frame.append method is deprecated and will be removed from pandas in a future version. Use pandas.concat instead.\n",
      "\u001b[36m(TrainLightGCN pid=3517807)\u001b[0m   df = train if test is None else train.append(test)\n"
     ]
    },
    {
     "name": "stderr",
     "output_type": "stream",
     "text": [
      "\u001b[36m(TrainLightGCN pid=3517962)\u001b[0m /home/daviddavo/upm-tfm-notebooks/.direnv/python-3.9/lib/python3.9/site-packages/recommenders/models/deeprec/DataModel/ImplicitCF.py:73: FutureWarning: The frame.append method is deprecated and will be removed from pandas in a future version. Use pandas.concat instead.\n",
      "\u001b[36m(TrainLightGCN pid=3517962)\u001b[0m   df = train if test is None else train.append(test)\n"
     ]
    },
    {
     "name": "stdout",
     "output_type": "stream",
     "text": [
      "\u001b[36m(TrainLightGCN pid=3517962)\u001b[0m Already create adjacency matrix.\u001b[32m [repeated 2x across cluster]\u001b[0m\n",
      "\u001b[36m(TrainLightGCN pid=3517962)\u001b[0m Already normalize adjacency matrix.\u001b[32m [repeated 2x across cluster]\u001b[0m\n",
      "\u001b[36m(TrainLightGCN pid=3517962)\u001b[0m Using xavier initialization.\u001b[32m [repeated 2x across cluster]\u001b[0m\n"
     ]
    },
    {
     "name": "stderr",
     "output_type": "stream",
     "text": [
      "\u001b[36m(TrainLightGCN pid=3517807)\u001b[0m Checkpoint successfully created at: Checkpoint(filesystem=local, path=/home/daviddavo/ray_results/LightGCN_optim=map@10,dao=MetaCartel - MetaCartel Ventures,freq=W-THU,normalize=True,cutoff_date=2020-11-06T00:00:00,fold=9_2024-03-09T09:25:07.044160/TrainLightGCN_4269fcfc_60_batch_size=7,conv_layers=4,embedding_dim=324,fold=9,l2=0.0000,learning_rate=0.2670_2024-03-09_09-28-40/checkpoint_000000)\n",
      "\u001b[36m(pid=3518135)\u001b[0m 2024-03-09 09:28:48.494702: E tensorflow/compiler/xla/stream_executor/cuda/cuda_dnn.cc:9342] Unable to register cuDNN factory: Attempting to register factory for plugin cuDNN when one has already been registered\n",
      "\u001b[36m(pid=3518135)\u001b[0m 2024-03-09 09:28:48.494731: E tensorflow/compiler/xla/stream_executor/cuda/cuda_fft.cc:609] Unable to register cuFFT factory: Attempting to register factory for plugin cuFFT when one has already been registered\n",
      "\u001b[36m(pid=3518135)\u001b[0m 2024-03-09 09:28:48.494744: E tensorflow/compiler/xla/stream_executor/cuda/cuda_blas.cc:1518] Unable to register cuBLAS factory: Attempting to register factory for plugin cuBLAS when one has already been registered\n"
     ]
    },
    {
     "name": "stderr",
     "output_type": "stream",
     "text": [
      "\u001b[36m(TrainLightGCN pid=3517962)\u001b[0m Checkpoint successfully created at: Checkpoint(filesystem=local, path=/home/daviddavo/ray_results/LightGCN_optim=map@10,dao=MetaCartel - MetaCartel Ventures,freq=W-THU,normalize=True,cutoff_date=2020-11-06T00:00:00,fold=9_2024-03-09T09:25:07.044160/TrainLightGCN_51686311_61_batch_size=7,conv_layers=3,embedding_dim=110,fold=9,l2=0.0015,learning_rate=0.3883_2024-03-09_09-28-43/checkpoint_000000)\n"
     ]
    },
    {
     "name": "stderr",
     "output_type": "stream",
     "text": [
      "\u001b[36m(pid=3518302)\u001b[0m 2024-03-09 09:28:52.095446: E tensorflow/compiler/xla/stream_executor/cuda/cuda_dnn.cc:9342] Unable to register cuDNN factory: Attempting to register factory for plugin cuDNN when one has already been registered\n",
      "\u001b[36m(pid=3518302)\u001b[0m 2024-03-09 09:28:52.095473: E tensorflow/compiler/xla/stream_executor/cuda/cuda_fft.cc:609] Unable to register cuFFT factory: Attempting to register factory for plugin cuFFT when one has already been registered\n",
      "\u001b[36m(pid=3518302)\u001b[0m 2024-03-09 09:28:52.095487: E tensorflow/compiler/xla/stream_executor/cuda/cuda_blas.cc:1518] Unable to register cuBLAS factory: Attempting to register factory for plugin cuBLAS when one has already been registered\n",
      "\u001b[36m(TrainLightGCN pid=3518135)\u001b[0m /home/daviddavo/upm-tfm-notebooks/.direnv/python-3.9/lib/python3.9/site-packages/recommenders/models/deeprec/DataModel/ImplicitCF.py:73: FutureWarning: The frame.append method is deprecated and will be removed from pandas in a future version. Use pandas.concat instead.\n",
      "\u001b[36m(TrainLightGCN pid=3518135)\u001b[0m   df = train if test is None else train.append(test)\n"
     ]
    },
    {
     "name": "stdout",
     "output_type": "stream",
     "text": [
      "\u001b[36m(TrainLightGCN pid=3518302)\u001b[0m Already create adjacency matrix.\u001b[32m [repeated 2x across cluster]\u001b[0m\n",
      "\u001b[36m(TrainLightGCN pid=3518302)\u001b[0m Already normalize adjacency matrix.\u001b[32m [repeated 2x across cluster]\u001b[0m\n",
      "\u001b[36m(TrainLightGCN pid=3518302)\u001b[0m Using xavier initialization.\u001b[32m [repeated 2x across cluster]\u001b[0m\n"
     ]
    },
    {
     "name": "stderr",
     "output_type": "stream",
     "text": [
      "\u001b[36m(TrainLightGCN pid=3518302)\u001b[0m /home/daviddavo/upm-tfm-notebooks/.direnv/python-3.9/lib/python3.9/site-packages/recommenders/models/deeprec/DataModel/ImplicitCF.py:73: FutureWarning: The frame.append method is deprecated and will be removed from pandas in a future version. Use pandas.concat instead.\n",
      "\u001b[36m(TrainLightGCN pid=3518302)\u001b[0m   df = train if test is None else train.append(test)\n"
     ]
    },
    {
     "name": "stderr",
     "output_type": "stream",
     "text": [
      "\u001b[36m(TrainLightGCN pid=3518135)\u001b[0m Checkpoint successfully created at: Checkpoint(filesystem=local, path=/home/daviddavo/ray_results/LightGCN_optim=map@10,dao=MetaCartel - MetaCartel Ventures,freq=W-THU,normalize=True,cutoff_date=2020-11-06T00:00:00,fold=9_2024-03-09T09:25:07.044160/TrainLightGCN_27c7aa6c_62_batch_size=8,conv_layers=4,embedding_dim=21,fold=9,l2=0.0001,learning_rate=0.0539_2024-03-09_09-28-47/checkpoint_000000)\n",
      "\u001b[36m(pid=3518478)\u001b[0m 2024-03-09 09:28:55.709360: E tensorflow/compiler/xla/stream_executor/cuda/cuda_dnn.cc:9342] Unable to register cuDNN factory: Attempting to register factory for plugin cuDNN when one has already been registered\n",
      "\u001b[36m(pid=3518478)\u001b[0m 2024-03-09 09:28:55.709392: E tensorflow/compiler/xla/stream_executor/cuda/cuda_fft.cc:609] Unable to register cuFFT factory: Attempting to register factory for plugin cuFFT when one has already been registered\n",
      "\u001b[36m(pid=3518478)\u001b[0m 2024-03-09 09:28:55.709408: E tensorflow/compiler/xla/stream_executor/cuda/cuda_blas.cc:1518] Unable to register cuBLAS factory: Attempting to register factory for plugin cuBLAS when one has already been registered\n"
     ]
    },
    {
     "name": "stderr",
     "output_type": "stream",
     "text": [
      "\u001b[36m(TrainLightGCN pid=3518302)\u001b[0m Checkpoint successfully created at: Checkpoint(filesystem=local, path=/home/daviddavo/ray_results/LightGCN_optim=map@10,dao=MetaCartel - MetaCartel Ventures,freq=W-THU,normalize=True,cutoff_date=2020-11-06T00:00:00,fold=9_2024-03-09T09:25:07.044160/TrainLightGCN_bb002dd6_63_batch_size=7,conv_layers=2,embedding_dim=13,fold=9,l2=0.0005,learning_rate=0.0278_2024-03-09_09-28-51/checkpoint_000000)\n"
     ]
    },
    {
     "name": "stderr",
     "output_type": "stream",
     "text": [
      "\u001b[36m(pid=3518635)\u001b[0m 2024-03-09 09:28:59.310736: E tensorflow/compiler/xla/stream_executor/cuda/cuda_dnn.cc:9342] Unable to register cuDNN factory: Attempting to register factory for plugin cuDNN when one has already been registered\n",
      "\u001b[36m(pid=3518635)\u001b[0m 2024-03-09 09:28:59.310766: E tensorflow/compiler/xla/stream_executor/cuda/cuda_fft.cc:609] Unable to register cuFFT factory: Attempting to register factory for plugin cuFFT when one has already been registered\n",
      "\u001b[36m(pid=3518635)\u001b[0m 2024-03-09 09:28:59.310781: E tensorflow/compiler/xla/stream_executor/cuda/cuda_blas.cc:1518] Unable to register cuBLAS factory: Attempting to register factory for plugin cuBLAS when one has already been registered\n",
      "\u001b[36m(TrainLightGCN pid=3518478)\u001b[0m /home/daviddavo/upm-tfm-notebooks/.direnv/python-3.9/lib/python3.9/site-packages/recommenders/models/deeprec/DataModel/ImplicitCF.py:73: FutureWarning: The frame.append method is deprecated and will be removed from pandas in a future version. Use pandas.concat instead.\n",
      "\u001b[36m(TrainLightGCN pid=3518478)\u001b[0m   df = train if test is None else train.append(test)\n"
     ]
    },
    {
     "name": "stdout",
     "output_type": "stream",
     "text": [
      "\u001b[36m(TrainLightGCN pid=3518635)\u001b[0m Already create adjacency matrix.\u001b[32m [repeated 2x across cluster]\u001b[0m\n",
      "\u001b[36m(TrainLightGCN pid=3518635)\u001b[0m Already normalize adjacency matrix.\u001b[32m [repeated 2x across cluster]\u001b[0m\n",
      "\u001b[36m(TrainLightGCN pid=3518635)\u001b[0m Using xavier initialization.\u001b[32m [repeated 2x across cluster]\u001b[0m\n"
     ]
    },
    {
     "name": "stderr",
     "output_type": "stream",
     "text": [
      "\u001b[36m(TrainLightGCN pid=3518635)\u001b[0m /home/daviddavo/upm-tfm-notebooks/.direnv/python-3.9/lib/python3.9/site-packages/recommenders/models/deeprec/DataModel/ImplicitCF.py:73: FutureWarning: The frame.append method is deprecated and will be removed from pandas in a future version. Use pandas.concat instead.\n",
      "\u001b[36m(TrainLightGCN pid=3518635)\u001b[0m   df = train if test is None else train.append(test)\n"
     ]
    },
    {
     "name": "stderr",
     "output_type": "stream",
     "text": [
      "\u001b[36m(TrainLightGCN pid=3518478)\u001b[0m Checkpoint successfully created at: Checkpoint(filesystem=local, path=/home/daviddavo/ray_results/LightGCN_optim=map@10,dao=MetaCartel - MetaCartel Ventures,freq=W-THU,normalize=True,cutoff_date=2020-11-06T00:00:00,fold=9_2024-03-09T09:25:07.044160/TrainLightGCN_7a1f5ee0_64_batch_size=7,conv_layers=2,embedding_dim=186,fold=9,l2=0.0075,learning_rate=0.0905_2024-03-09_09-28-54/checkpoint_000000)\n",
      "\u001b[36m(pid=3518799)\u001b[0m 2024-03-09 09:29:02.924771: E tensorflow/compiler/xla/stream_executor/cuda/cuda_dnn.cc:9342] Unable to register cuDNN factory: Attempting to register factory for plugin cuDNN when one has already been registered\n",
      "\u001b[36m(pid=3518799)\u001b[0m 2024-03-09 09:29:02.924802: E tensorflow/compiler/xla/stream_executor/cuda/cuda_fft.cc:609] Unable to register cuFFT factory: Attempting to register factory for plugin cuFFT when one has already been registered\n",
      "\u001b[36m(pid=3518799)\u001b[0m 2024-03-09 09:29:02.924817: E tensorflow/compiler/xla/stream_executor/cuda/cuda_blas.cc:1518] Unable to register cuBLAS factory: Attempting to register factory for plugin cuBLAS when one has already been registered\n"
     ]
    },
    {
     "name": "stderr",
     "output_type": "stream",
     "text": [
      "\u001b[36m(TrainLightGCN pid=3518635)\u001b[0m Checkpoint successfully created at: Checkpoint(filesystem=local, path=/home/daviddavo/ray_results/LightGCN_optim=map@10,dao=MetaCartel - MetaCartel Ventures,freq=W-THU,normalize=True,cutoff_date=2020-11-06T00:00:00,fold=9_2024-03-09T09:25:07.044160/TrainLightGCN_148201db_65_batch_size=8,conv_layers=4,embedding_dim=68,fold=9,l2=0.0008,learning_rate=0.1967_2024-03-09_09-28-58/checkpoint_000000)\n"
     ]
    },
    {
     "name": "stderr",
     "output_type": "stream",
     "text": [
      "\u001b[36m(pid=3518976)\u001b[0m 2024-03-09 09:29:06.506091: E tensorflow/compiler/xla/stream_executor/cuda/cuda_dnn.cc:9342] Unable to register cuDNN factory: Attempting to register factory for plugin cuDNN when one has already been registered\n",
      "\u001b[36m(pid=3518976)\u001b[0m 2024-03-09 09:29:06.506117: E tensorflow/compiler/xla/stream_executor/cuda/cuda_fft.cc:609] Unable to register cuFFT factory: Attempting to register factory for plugin cuFFT when one has already been registered\n",
      "\u001b[36m(pid=3518976)\u001b[0m 2024-03-09 09:29:06.506130: E tensorflow/compiler/xla/stream_executor/cuda/cuda_blas.cc:1518] Unable to register cuBLAS factory: Attempting to register factory for plugin cuBLAS when one has already been registered\n",
      "\u001b[36m(TrainLightGCN pid=3518799)\u001b[0m /home/daviddavo/upm-tfm-notebooks/.direnv/python-3.9/lib/python3.9/site-packages/recommenders/models/deeprec/DataModel/ImplicitCF.py:73: FutureWarning: The frame.append method is deprecated and will be removed from pandas in a future version. Use pandas.concat instead.\n",
      "\u001b[36m(TrainLightGCN pid=3518799)\u001b[0m   df = train if test is None else train.append(test)\n"
     ]
    },
    {
     "name": "stderr",
     "output_type": "stream",
     "text": [
      "\u001b[36m(TrainLightGCN pid=3518976)\u001b[0m /home/daviddavo/upm-tfm-notebooks/.direnv/python-3.9/lib/python3.9/site-packages/recommenders/models/deeprec/DataModel/ImplicitCF.py:73: FutureWarning: The frame.append method is deprecated and will be removed from pandas in a future version. Use pandas.concat instead.\n",
      "\u001b[36m(TrainLightGCN pid=3518976)\u001b[0m   df = train if test is None else train.append(test)\n"
     ]
    },
    {
     "name": "stdout",
     "output_type": "stream",
     "text": [
      "\u001b[36m(TrainLightGCN pid=3518976)\u001b[0m Already create adjacency matrix.\u001b[32m [repeated 2x across cluster]\u001b[0m\n",
      "\u001b[36m(TrainLightGCN pid=3518976)\u001b[0m Already normalize adjacency matrix.\u001b[32m [repeated 2x across cluster]\u001b[0m\n",
      "\u001b[36m(TrainLightGCN pid=3518976)\u001b[0m Using xavier initialization.\u001b[32m [repeated 2x across cluster]\u001b[0m\n"
     ]
    },
    {
     "name": "stderr",
     "output_type": "stream",
     "text": [
      "\u001b[36m(TrainLightGCN pid=3518799)\u001b[0m Checkpoint successfully created at: Checkpoint(filesystem=local, path=/home/daviddavo/ray_results/LightGCN_optim=map@10,dao=MetaCartel - MetaCartel Ventures,freq=W-THU,normalize=True,cutoff_date=2020-11-06T00:00:00,fold=9_2024-03-09T09:25:07.044160/TrainLightGCN_a7cbe367_66_batch_size=7,conv_layers=3,embedding_dim=51,fold=9,l2=0.0044,learning_rate=0.0145_2024-03-09_09-29-01/checkpoint_000000)\n",
      "\u001b[36m(pid=3519137)\u001b[0m 2024-03-09 09:29:10.111945: E tensorflow/compiler/xla/stream_executor/cuda/cuda_dnn.cc:9342] Unable to register cuDNN factory: Attempting to register factory for plugin cuDNN when one has already been registered\n",
      "\u001b[36m(pid=3519137)\u001b[0m 2024-03-09 09:29:10.111977: E tensorflow/compiler/xla/stream_executor/cuda/cuda_fft.cc:609] Unable to register cuFFT factory: Attempting to register factory for plugin cuFFT when one has already been registered\n",
      "\u001b[36m(pid=3519137)\u001b[0m 2024-03-09 09:29:10.111990: E tensorflow/compiler/xla/stream_executor/cuda/cuda_blas.cc:1518] Unable to register cuBLAS factory: Attempting to register factory for plugin cuBLAS when one has already been registered\n"
     ]
    },
    {
     "name": "stderr",
     "output_type": "stream",
     "text": [
      "\u001b[36m(TrainLightGCN pid=3518976)\u001b[0m Checkpoint successfully created at: Checkpoint(filesystem=local, path=/home/daviddavo/ray_results/LightGCN_optim=map@10,dao=MetaCartel - MetaCartel Ventures,freq=W-THU,normalize=True,cutoff_date=2020-11-06T00:00:00,fold=9_2024-03-09T09:25:07.044160/TrainLightGCN_ecf1a5a6_67_batch_size=7,conv_layers=3,embedding_dim=60,fold=9,l2=0.0020,learning_rate=0.0233_2024-03-09_09-29-05/checkpoint_000000)\n"
     ]
    },
    {
     "name": "stderr",
     "output_type": "stream",
     "text": [
      "\u001b[36m(pid=3519304)\u001b[0m 2024-03-09 09:29:13.747466: E tensorflow/compiler/xla/stream_executor/cuda/cuda_dnn.cc:9342] Unable to register cuDNN factory: Attempting to register factory for plugin cuDNN when one has already been registered\n",
      "\u001b[36m(pid=3519304)\u001b[0m 2024-03-09 09:29:13.747491: E tensorflow/compiler/xla/stream_executor/cuda/cuda_fft.cc:609] Unable to register cuFFT factory: Attempting to register factory for plugin cuFFT when one has already been registered\n",
      "\u001b[36m(pid=3519304)\u001b[0m 2024-03-09 09:29:13.747506: E tensorflow/compiler/xla/stream_executor/cuda/cuda_blas.cc:1518] Unable to register cuBLAS factory: Attempting to register factory for plugin cuBLAS when one has already been registered\n",
      "\u001b[36m(TrainLightGCN pid=3519137)\u001b[0m /home/daviddavo/upm-tfm-notebooks/.direnv/python-3.9/lib/python3.9/site-packages/recommenders/models/deeprec/DataModel/ImplicitCF.py:73: FutureWarning: The frame.append method is deprecated and will be removed from pandas in a future version. Use pandas.concat instead.\n",
      "\u001b[36m(TrainLightGCN pid=3519137)\u001b[0m   df = train if test is None else train.append(test)\n"
     ]
    },
    {
     "name": "stdout",
     "output_type": "stream",
     "text": [
      "\u001b[36m(TrainLightGCN pid=3519304)\u001b[0m Already create adjacency matrix.\u001b[32m [repeated 2x across cluster]\u001b[0m\n",
      "\u001b[36m(TrainLightGCN pid=3519304)\u001b[0m Already normalize adjacency matrix.\u001b[32m [repeated 2x across cluster]\u001b[0m\n",
      "\u001b[36m(TrainLightGCN pid=3519304)\u001b[0m Using xavier initialization.\u001b[32m [repeated 2x across cluster]\u001b[0m\n"
     ]
    },
    {
     "name": "stderr",
     "output_type": "stream",
     "text": [
      "\u001b[36m(TrainLightGCN pid=3519304)\u001b[0m /home/daviddavo/upm-tfm-notebooks/.direnv/python-3.9/lib/python3.9/site-packages/recommenders/models/deeprec/DataModel/ImplicitCF.py:73: FutureWarning: The frame.append method is deprecated and will be removed from pandas in a future version. Use pandas.concat instead.\n",
      "\u001b[36m(TrainLightGCN pid=3519304)\u001b[0m   df = train if test is None else train.append(test)\n"
     ]
    },
    {
     "name": "stderr",
     "output_type": "stream",
     "text": [
      "\u001b[36m(TrainLightGCN pid=3519137)\u001b[0m Checkpoint successfully created at: Checkpoint(filesystem=local, path=/home/daviddavo/ray_results/LightGCN_optim=map@10,dao=MetaCartel - MetaCartel Ventures,freq=W-THU,normalize=True,cutoff_date=2020-11-06T00:00:00,fold=9_2024-03-09T09:25:07.044160/TrainLightGCN_22c7b12d_68_batch_size=7,conv_layers=3,embedding_dim=86,fold=9,l2=0.0045,learning_rate=0.0336_2024-03-09_09-29-09/checkpoint_000000)\n",
      "\u001b[36m(pid=3519479)\u001b[0m 2024-03-09 09:29:17.372233: E tensorflow/compiler/xla/stream_executor/cuda/cuda_dnn.cc:9342] Unable to register cuDNN factory: Attempting to register factory for plugin cuDNN when one has already been registered\n",
      "\u001b[36m(pid=3519479)\u001b[0m 2024-03-09 09:29:17.372264: E tensorflow/compiler/xla/stream_executor/cuda/cuda_fft.cc:609] Unable to register cuFFT factory: Attempting to register factory for plugin cuFFT when one has already been registered\n",
      "\u001b[36m(pid=3519479)\u001b[0m 2024-03-09 09:29:17.372279: E tensorflow/compiler/xla/stream_executor/cuda/cuda_blas.cc:1518] Unable to register cuBLAS factory: Attempting to register factory for plugin cuBLAS when one has already been registered\n"
     ]
    },
    {
     "name": "stderr",
     "output_type": "stream",
     "text": [
      "\u001b[36m(TrainLightGCN pid=3519304)\u001b[0m Checkpoint successfully created at: Checkpoint(filesystem=local, path=/home/daviddavo/ray_results/LightGCN_optim=map@10,dao=MetaCartel - MetaCartel Ventures,freq=W-THU,normalize=True,cutoff_date=2020-11-06T00:00:00,fold=9_2024-03-09T09:25:07.044160/TrainLightGCN_4b5742de_69_batch_size=7,conv_layers=3,embedding_dim=740,fold=9,l2=0.0003,learning_rate=0.0691_2024-03-09_09-29-12/checkpoint_000000)\n"
     ]
    },
    {
     "name": "stderr",
     "output_type": "stream",
     "text": [
      "\u001b[36m(pid=3519644)\u001b[0m 2024-03-09 09:29:20.991856: E tensorflow/compiler/xla/stream_executor/cuda/cuda_dnn.cc:9342] Unable to register cuDNN factory: Attempting to register factory for plugin cuDNN when one has already been registered\n",
      "\u001b[36m(pid=3519644)\u001b[0m 2024-03-09 09:29:20.991888: E tensorflow/compiler/xla/stream_executor/cuda/cuda_fft.cc:609] Unable to register cuFFT factory: Attempting to register factory for plugin cuFFT when one has already been registered\n",
      "\u001b[36m(pid=3519644)\u001b[0m 2024-03-09 09:29:20.991904: E tensorflow/compiler/xla/stream_executor/cuda/cuda_blas.cc:1518] Unable to register cuBLAS factory: Attempting to register factory for plugin cuBLAS when one has already been registered\n",
      "\u001b[36m(TrainLightGCN pid=3519479)\u001b[0m /home/daviddavo/upm-tfm-notebooks/.direnv/python-3.9/lib/python3.9/site-packages/recommenders/models/deeprec/DataModel/ImplicitCF.py:73: FutureWarning: The frame.append method is deprecated and will be removed from pandas in a future version. Use pandas.concat instead.\n",
      "\u001b[36m(TrainLightGCN pid=3519479)\u001b[0m   df = train if test is None else train.append(test)\n"
     ]
    },
    {
     "name": "stderr",
     "output_type": "stream",
     "text": [
      "\u001b[36m(TrainLightGCN pid=3519644)\u001b[0m /home/daviddavo/upm-tfm-notebooks/.direnv/python-3.9/lib/python3.9/site-packages/recommenders/models/deeprec/DataModel/ImplicitCF.py:73: FutureWarning: The frame.append method is deprecated and will be removed from pandas in a future version. Use pandas.concat instead.\n",
      "\u001b[36m(TrainLightGCN pid=3519644)\u001b[0m   df = train if test is None else train.append(test)\n"
     ]
    },
    {
     "name": "stdout",
     "output_type": "stream",
     "text": [
      "\u001b[36m(TrainLightGCN pid=3519644)\u001b[0m Already create adjacency matrix.\u001b[32m [repeated 2x across cluster]\u001b[0m\n",
      "\u001b[36m(TrainLightGCN pid=3519644)\u001b[0m Already normalize adjacency matrix.\u001b[32m [repeated 2x across cluster]\u001b[0m\n",
      "\u001b[36m(TrainLightGCN pid=3519644)\u001b[0m Using xavier initialization.\u001b[32m [repeated 2x across cluster]\u001b[0m\n"
     ]
    },
    {
     "name": "stderr",
     "output_type": "stream",
     "text": [
      "\u001b[36m(TrainLightGCN pid=3519479)\u001b[0m Checkpoint successfully created at: Checkpoint(filesystem=local, path=/home/daviddavo/ray_results/LightGCN_optim=map@10,dao=MetaCartel - MetaCartel Ventures,freq=W-THU,normalize=True,cutoff_date=2020-11-06T00:00:00,fold=9_2024-03-09T09:25:07.044160/TrainLightGCN_5f40e086_70_batch_size=7,conv_layers=3,embedding_dim=39,fold=9,l2=0.0012,learning_rate=0.0057_2024-03-09_09-29-16/checkpoint_000000)\n",
      "\u001b[36m(pid=3519813)\u001b[0m 2024-03-09 09:29:24.620168: E tensorflow/compiler/xla/stream_executor/cuda/cuda_dnn.cc:9342] Unable to register cuDNN factory: Attempting to register factory for plugin cuDNN when one has already been registered\n",
      "\u001b[36m(pid=3519813)\u001b[0m 2024-03-09 09:29:24.620198: E tensorflow/compiler/xla/stream_executor/cuda/cuda_fft.cc:609] Unable to register cuFFT factory: Attempting to register factory for plugin cuFFT when one has already been registered\n",
      "\u001b[36m(pid=3519813)\u001b[0m 2024-03-09 09:29:24.620215: E tensorflow/compiler/xla/stream_executor/cuda/cuda_blas.cc:1518] Unable to register cuBLAS factory: Attempting to register factory for plugin cuBLAS when one has already been registered\n"
     ]
    },
    {
     "name": "stderr",
     "output_type": "stream",
     "text": [
      "\u001b[36m(TrainLightGCN pid=3519644)\u001b[0m Checkpoint successfully created at: Checkpoint(filesystem=local, path=/home/daviddavo/ray_results/LightGCN_optim=map@10,dao=MetaCartel - MetaCartel Ventures,freq=W-THU,normalize=True,cutoff_date=2020-11-06T00:00:00,fold=9_2024-03-09T09:25:07.044160/TrainLightGCN_a149e4f5_71_batch_size=7,conv_layers=3,embedding_dim=425,fold=9,l2=0.0018,learning_rate=0.0078_2024-03-09_09-29-19/checkpoint_000000)\n"
     ]
    },
    {
     "name": "stderr",
     "output_type": "stream",
     "text": [
      "\u001b[36m(pid=3519978)\u001b[0m 2024-03-09 09:29:28.210911: E tensorflow/compiler/xla/stream_executor/cuda/cuda_dnn.cc:9342] Unable to register cuDNN factory: Attempting to register factory for plugin cuDNN when one has already been registered\n",
      "\u001b[36m(pid=3519978)\u001b[0m 2024-03-09 09:29:28.211031: E tensorflow/compiler/xla/stream_executor/cuda/cuda_fft.cc:609] Unable to register cuFFT factory: Attempting to register factory for plugin cuFFT when one has already been registered\n",
      "\u001b[36m(pid=3519978)\u001b[0m 2024-03-09 09:29:28.211047: E tensorflow/compiler/xla/stream_executor/cuda/cuda_blas.cc:1518] Unable to register cuBLAS factory: Attempting to register factory for plugin cuBLAS when one has already been registered\n",
      "\u001b[36m(TrainLightGCN pid=3519813)\u001b[0m /home/daviddavo/upm-tfm-notebooks/.direnv/python-3.9/lib/python3.9/site-packages/recommenders/models/deeprec/DataModel/ImplicitCF.py:73: FutureWarning: The frame.append method is deprecated and will be removed from pandas in a future version. Use pandas.concat instead.\n",
      "\u001b[36m(TrainLightGCN pid=3519813)\u001b[0m   df = train if test is None else train.append(test)\n"
     ]
    },
    {
     "name": "stdout",
     "output_type": "stream",
     "text": [
      "\u001b[36m(TrainLightGCN pid=3519978)\u001b[0m Already create adjacency matrix.\u001b[32m [repeated 2x across cluster]\u001b[0m\n",
      "\u001b[36m(TrainLightGCN pid=3519978)\u001b[0m Already normalize adjacency matrix.\u001b[32m [repeated 2x across cluster]\u001b[0m\n",
      "\u001b[36m(TrainLightGCN pid=3519978)\u001b[0m Using xavier initialization.\u001b[32m [repeated 2x across cluster]\u001b[0m\n"
     ]
    },
    {
     "name": "stderr",
     "output_type": "stream",
     "text": [
      "\u001b[36m(TrainLightGCN pid=3519978)\u001b[0m /home/daviddavo/upm-tfm-notebooks/.direnv/python-3.9/lib/python3.9/site-packages/recommenders/models/deeprec/DataModel/ImplicitCF.py:73: FutureWarning: The frame.append method is deprecated and will be removed from pandas in a future version. Use pandas.concat instead.\n",
      "\u001b[36m(TrainLightGCN pid=3519978)\u001b[0m   df = train if test is None else train.append(test)\n"
     ]
    },
    {
     "name": "stderr",
     "output_type": "stream",
     "text": [
      "\u001b[36m(TrainLightGCN pid=3519813)\u001b[0m Checkpoint successfully created at: Checkpoint(filesystem=local, path=/home/daviddavo/ray_results/LightGCN_optim=map@10,dao=MetaCartel - MetaCartel Ventures,freq=W-THU,normalize=True,cutoff_date=2020-11-06T00:00:00,fold=9_2024-03-09T09:25:07.044160/TrainLightGCN_301579b4_72_batch_size=6,conv_layers=3,embedding_dim=29,fold=9,l2=0.0031,learning_rate=0.0128_2024-03-09_09-29-23/checkpoint_000000)\n",
      "\u001b[36m(pid=3520148)\u001b[0m 2024-03-09 09:29:31.819879: E tensorflow/compiler/xla/stream_executor/cuda/cuda_dnn.cc:9342] Unable to register cuDNN factory: Attempting to register factory for plugin cuDNN when one has already been registered\n",
      "\u001b[36m(pid=3520148)\u001b[0m 2024-03-09 09:29:31.819909: E tensorflow/compiler/xla/stream_executor/cuda/cuda_fft.cc:609] Unable to register cuFFT factory: Attempting to register factory for plugin cuFFT when one has already been registered\n",
      "\u001b[36m(pid=3520148)\u001b[0m 2024-03-09 09:29:31.819923: E tensorflow/compiler/xla/stream_executor/cuda/cuda_blas.cc:1518] Unable to register cuBLAS factory: Attempting to register factory for plugin cuBLAS when one has already been registered\n"
     ]
    },
    {
     "name": "stderr",
     "output_type": "stream",
     "text": [
      "\u001b[36m(TrainLightGCN pid=3519978)\u001b[0m Checkpoint successfully created at: Checkpoint(filesystem=local, path=/home/daviddavo/ray_results/LightGCN_optim=map@10,dao=MetaCartel - MetaCartel Ventures,freq=W-THU,normalize=True,cutoff_date=2020-11-06T00:00:00,fold=9_2024-03-09T09:25:07.044160/TrainLightGCN_8b33400b_73_batch_size=7,conv_layers=4,embedding_dim=134,fold=9,l2=0.0070,learning_rate=0.0023_2024-03-09_09-29-27/checkpoint_000000)\n",
      "\u001b[36m(TrainLightGCN pid=3520148)\u001b[0m /home/daviddavo/upm-tfm-notebooks/.direnv/python-3.9/lib/python3.9/site-packages/recommenders/models/deeprec/DataModel/ImplicitCF.py:73: FutureWarning: The frame.append method is deprecated and will be removed from pandas in a future version. Use pandas.concat instead.\n",
      "\u001b[36m(TrainLightGCN pid=3520148)\u001b[0m   df = train if test is None else train.append(test)\n"
     ]
    },
    {
     "name": "stderr",
     "output_type": "stream",
     "text": [
      "\u001b[36m(pid=3520315)\u001b[0m 2024-03-09 09:29:35.488469: E tensorflow/compiler/xla/stream_executor/cuda/cuda_dnn.cc:9342] Unable to register cuDNN factory: Attempting to register factory for plugin cuDNN when one has already been registered\n",
      "\u001b[36m(pid=3520315)\u001b[0m 2024-03-09 09:29:35.488491: E tensorflow/compiler/xla/stream_executor/cuda/cuda_fft.cc:609] Unable to register cuFFT factory: Attempting to register factory for plugin cuFFT when one has already been registered\n",
      "\u001b[36m(pid=3520315)\u001b[0m 2024-03-09 09:29:35.488508: E tensorflow/compiler/xla/stream_executor/cuda/cuda_blas.cc:1518] Unable to register cuBLAS factory: Attempting to register factory for plugin cuBLAS when one has already been registered\n"
     ]
    },
    {
     "name": "stdout",
     "output_type": "stream",
     "text": [
      "\u001b[36m(TrainLightGCN pid=3520315)\u001b[0m Already create adjacency matrix.\u001b[32m [repeated 2x across cluster]\u001b[0m\n",
      "\u001b[36m(TrainLightGCN pid=3520315)\u001b[0m Already normalize adjacency matrix.\u001b[32m [repeated 2x across cluster]\u001b[0m\n",
      "\u001b[36m(TrainLightGCN pid=3520315)\u001b[0m Using xavier initialization.\u001b[32m [repeated 2x across cluster]\u001b[0m\n"
     ]
    },
    {
     "name": "stderr",
     "output_type": "stream",
     "text": [
      "\u001b[36m(TrainLightGCN pid=3520315)\u001b[0m /home/daviddavo/upm-tfm-notebooks/.direnv/python-3.9/lib/python3.9/site-packages/recommenders/models/deeprec/DataModel/ImplicitCF.py:73: FutureWarning: The frame.append method is deprecated and will be removed from pandas in a future version. Use pandas.concat instead.\n",
      "\u001b[36m(TrainLightGCN pid=3520315)\u001b[0m   df = train if test is None else train.append(test)\n"
     ]
    },
    {
     "name": "stderr",
     "output_type": "stream",
     "text": [
      "\u001b[36m(TrainLightGCN pid=3520148)\u001b[0m Checkpoint successfully created at: Checkpoint(filesystem=local, path=/home/daviddavo/ray_results/LightGCN_optim=map@10,dao=MetaCartel - MetaCartel Ventures,freq=W-THU,normalize=True,cutoff_date=2020-11-06T00:00:00,fold=9_2024-03-09T09:25:07.044160/TrainLightGCN_a2d57253_74_batch_size=7,conv_layers=2,embedding_dim=499,fold=9,l2=0.0005,learning_rate=0.0081_2024-03-09_09-29-30/checkpoint_000000)\n",
      "\u001b[36m(pid=3520478)\u001b[0m 2024-03-09 09:29:39.083326: E tensorflow/compiler/xla/stream_executor/cuda/cuda_dnn.cc:9342] Unable to register cuDNN factory: Attempting to register factory for plugin cuDNN when one has already been registered\n",
      "\u001b[36m(pid=3520478)\u001b[0m 2024-03-09 09:29:39.083357: E tensorflow/compiler/xla/stream_executor/cuda/cuda_fft.cc:609] Unable to register cuFFT factory: Attempting to register factory for plugin cuFFT when one has already been registered\n",
      "\u001b[36m(pid=3520478)\u001b[0m 2024-03-09 09:29:39.083371: E tensorflow/compiler/xla/stream_executor/cuda/cuda_blas.cc:1518] Unable to register cuBLAS factory: Attempting to register factory for plugin cuBLAS when one has already been registered\n"
     ]
    },
    {
     "name": "stderr",
     "output_type": "stream",
     "text": [
      "\u001b[36m(pid=3520646)\u001b[0m 2024-03-09 09:29:42.685959: E tensorflow/compiler/xla/stream_executor/cuda/cuda_dnn.cc:9342] Unable to register cuDNN factory: Attempting to register factory for plugin cuDNN when one has already been registered\n",
      "\u001b[36m(pid=3520646)\u001b[0m 2024-03-09 09:29:42.685990: E tensorflow/compiler/xla/stream_executor/cuda/cuda_fft.cc:609] Unable to register cuFFT factory: Attempting to register factory for plugin cuFFT when one has already been registered\n",
      "\u001b[36m(pid=3520646)\u001b[0m 2024-03-09 09:29:42.686005: E tensorflow/compiler/xla/stream_executor/cuda/cuda_blas.cc:1518] Unable to register cuBLAS factory: Attempting to register factory for plugin cuBLAS when one has already been registered\n",
      "\u001b[36m(TrainLightGCN pid=3520478)\u001b[0m /home/daviddavo/upm-tfm-notebooks/.direnv/python-3.9/lib/python3.9/site-packages/recommenders/models/deeprec/DataModel/ImplicitCF.py:73: FutureWarning: The frame.append method is deprecated and will be removed from pandas in a future version. Use pandas.concat instead.\n",
      "\u001b[36m(TrainLightGCN pid=3520478)\u001b[0m   df = train if test is None else train.append(test)\n"
     ]
    },
    {
     "name": "stderr",
     "output_type": "stream",
     "text": [
      "\u001b[36m(TrainLightGCN pid=3520315)\u001b[0m Checkpoint successfully created at: Checkpoint(filesystem=local, path=/home/daviddavo/ray_results/LightGCN_optim=map@10,dao=MetaCartel - MetaCartel Ventures,freq=W-THU,normalize=True,cutoff_date=2020-11-06T00:00:00,fold=9_2024-03-09T09:25:07.044160/TrainLightGCN_c38c0d9f_75_batch_size=6,conv_layers=4,embedding_dim=388,fold=9,l2=0.0002,learning_rate=0.0044_2024-03-09_09-29-34/checkpoint_000000)\n"
     ]
    },
    {
     "name": "stderr",
     "output_type": "stream",
     "text": [
      "\u001b[36m(TrainLightGCN pid=3520646)\u001b[0m /home/daviddavo/upm-tfm-notebooks/.direnv/python-3.9/lib/python3.9/site-packages/recommenders/models/deeprec/DataModel/ImplicitCF.py:73: FutureWarning: The frame.append method is deprecated and will be removed from pandas in a future version. Use pandas.concat instead.\n",
      "\u001b[36m(TrainLightGCN pid=3520646)\u001b[0m   df = train if test is None else train.append(test)\n"
     ]
    },
    {
     "name": "stdout",
     "output_type": "stream",
     "text": [
      "\u001b[36m(TrainLightGCN pid=3520646)\u001b[0m Already create adjacency matrix.\u001b[32m [repeated 2x across cluster]\u001b[0m\n",
      "\u001b[36m(TrainLightGCN pid=3520646)\u001b[0m Already normalize adjacency matrix.\u001b[32m [repeated 2x across cluster]\u001b[0m\n",
      "\u001b[36m(TrainLightGCN pid=3520646)\u001b[0m Using xavier initialization.\u001b[32m [repeated 2x across cluster]\u001b[0m\n"
     ]
    },
    {
     "name": "stderr",
     "output_type": "stream",
     "text": [
      "\u001b[36m(pid=3520815)\u001b[0m 2024-03-09 09:29:46.324973: E tensorflow/compiler/xla/stream_executor/cuda/cuda_dnn.cc:9342] Unable to register cuDNN factory: Attempting to register factory for plugin cuDNN when one has already been registered\n",
      "\u001b[36m(pid=3520815)\u001b[0m 2024-03-09 09:29:46.325001: E tensorflow/compiler/xla/stream_executor/cuda/cuda_fft.cc:609] Unable to register cuFFT factory: Attempting to register factory for plugin cuFFT when one has already been registered\n",
      "\u001b[36m(pid=3520815)\u001b[0m 2024-03-09 09:29:46.325014: E tensorflow/compiler/xla/stream_executor/cuda/cuda_blas.cc:1518] Unable to register cuBLAS factory: Attempting to register factory for plugin cuBLAS when one has already been registered\n"
     ]
    },
    {
     "name": "stderr",
     "output_type": "stream",
     "text": [
      "\u001b[36m(TrainLightGCN pid=3520646)\u001b[0m Checkpoint successfully created at: Checkpoint(filesystem=local, path=/home/daviddavo/ray_results/LightGCN_optim=map@10,dao=MetaCartel - MetaCartel Ventures,freq=W-THU,normalize=True,cutoff_date=2020-11-06T00:00:00,fold=9_2024-03-09T09:25:07.044160/TrainLightGCN_f669cda8_77_batch_size=7,conv_layers=3,embedding_dim=641,fold=9,l2=0.0001,learning_rate=0.0017_2024-03-09_09-29-41/checkpoint_000000)\u001b[32m [repeated 2x across cluster]\u001b[0m\n"
     ]
    },
    {
     "name": "stderr",
     "output_type": "stream",
     "text": [
      "\u001b[36m(pid=3520989)\u001b[0m 2024-03-09 09:29:49.988275: E tensorflow/compiler/xla/stream_executor/cuda/cuda_dnn.cc:9342] Unable to register cuDNN factory: Attempting to register factory for plugin cuDNN when one has already been registered\n",
      "\u001b[36m(pid=3520989)\u001b[0m 2024-03-09 09:29:49.988307: E tensorflow/compiler/xla/stream_executor/cuda/cuda_fft.cc:609] Unable to register cuFFT factory: Attempting to register factory for plugin cuFFT when one has already been registered\n",
      "\u001b[36m(pid=3520989)\u001b[0m 2024-03-09 09:29:49.988323: E tensorflow/compiler/xla/stream_executor/cuda/cuda_blas.cc:1518] Unable to register cuBLAS factory: Attempting to register factory for plugin cuBLAS when one has already been registered\n",
      "\u001b[36m(TrainLightGCN pid=3520815)\u001b[0m /home/daviddavo/upm-tfm-notebooks/.direnv/python-3.9/lib/python3.9/site-packages/recommenders/models/deeprec/DataModel/ImplicitCF.py:73: FutureWarning: The frame.append method is deprecated and will be removed from pandas in a future version. Use pandas.concat instead.\n",
      "\u001b[36m(TrainLightGCN pid=3520815)\u001b[0m   df = train if test is None else train.append(test)\n"
     ]
    },
    {
     "name": "stderr",
     "output_type": "stream",
     "text": [
      "\u001b[36m(TrainLightGCN pid=3520989)\u001b[0m /home/daviddavo/upm-tfm-notebooks/.direnv/python-3.9/lib/python3.9/site-packages/recommenders/models/deeprec/DataModel/ImplicitCF.py:73: FutureWarning: The frame.append method is deprecated and will be removed from pandas in a future version. Use pandas.concat instead.\n",
      "\u001b[36m(TrainLightGCN pid=3520989)\u001b[0m   df = train if test is None else train.append(test)\n"
     ]
    },
    {
     "name": "stdout",
     "output_type": "stream",
     "text": [
      "\u001b[36m(TrainLightGCN pid=3520989)\u001b[0m Already create adjacency matrix.\u001b[32m [repeated 2x across cluster]\u001b[0m\n",
      "\u001b[36m(TrainLightGCN pid=3520815)\u001b[0m Already normalize adjacency matrix.\n",
      "\u001b[36m(TrainLightGCN pid=3520815)\u001b[0m Using xavier initialization.\n",
      "\u001b[36m(TrainLightGCN pid=3520989)\u001b[0m Already normalize adjacency matrix.\n",
      "\u001b[36m(TrainLightGCN pid=3520989)\u001b[0m Using xavier initialization.\n"
     ]
    },
    {
     "name": "stderr",
     "output_type": "stream",
     "text": [
      "\u001b[36m(TrainLightGCN pid=3520815)\u001b[0m Checkpoint successfully created at: Checkpoint(filesystem=local, path=/home/daviddavo/ray_results/LightGCN_optim=map@10,dao=MetaCartel - MetaCartel Ventures,freq=W-THU,normalize=True,cutoff_date=2020-11-06T00:00:00,fold=9_2024-03-09T09:25:07.044160/TrainLightGCN_02ab9755_78_batch_size=6,conv_layers=2,embedding_dim=972,fold=9,l2=0.0004,learning_rate=0.0050_2024-03-09_09-29-45/checkpoint_000000)\n"
     ]
    },
    {
     "name": "stderr",
     "output_type": "stream",
     "text": [
      "\u001b[36m(pid=3521154)\u001b[0m 2024-03-09 09:29:53.612601: E tensorflow/compiler/xla/stream_executor/cuda/cuda_dnn.cc:9342] Unable to register cuDNN factory: Attempting to register factory for plugin cuDNN when one has already been registered\n",
      "\u001b[36m(pid=3521154)\u001b[0m 2024-03-09 09:29:53.612631: E tensorflow/compiler/xla/stream_executor/cuda/cuda_fft.cc:609] Unable to register cuFFT factory: Attempting to register factory for plugin cuFFT when one has already been registered\n",
      "\u001b[36m(pid=3521154)\u001b[0m 2024-03-09 09:29:53.612647: E tensorflow/compiler/xla/stream_executor/cuda/cuda_blas.cc:1518] Unable to register cuBLAS factory: Attempting to register factory for plugin cuBLAS when one has already been registered\n"
     ]
    },
    {
     "name": "stderr",
     "output_type": "stream",
     "text": [
      "\u001b[36m(TrainLightGCN pid=3520989)\u001b[0m Checkpoint successfully created at: Checkpoint(filesystem=local, path=/home/daviddavo/ray_results/LightGCN_optim=map@10,dao=MetaCartel - MetaCartel Ventures,freq=W-THU,normalize=True,cutoff_date=2020-11-06T00:00:00,fold=9_2024-03-09T09:25:07.044160/TrainLightGCN_b8c4a086_79_batch_size=7,conv_layers=3,embedding_dim=293,fold=9,l2=0.0009,learning_rate=0.0028_2024-03-09_09-29-48/checkpoint_000000)\n",
      "\u001b[36m(TrainLightGCN pid=3521154)\u001b[0m /home/daviddavo/upm-tfm-notebooks/.direnv/python-3.9/lib/python3.9/site-packages/recommenders/models/deeprec/DataModel/ImplicitCF.py:73: FutureWarning: The frame.append method is deprecated and will be removed from pandas in a future version. Use pandas.concat instead.\n",
      "\u001b[36m(TrainLightGCN pid=3521154)\u001b[0m   df = train if test is None else train.append(test)\n",
      "\u001b[36m(pid=3521324)\u001b[0m 2024-03-09 09:29:57.261374: E tensorflow/compiler/xla/stream_executor/cuda/cuda_dnn.cc:9342] Unable to register cuDNN factory: Attempting to register factory for plugin cuDNN when one has already been registered\n",
      "\u001b[36m(pid=3521324)\u001b[0m 2024-03-09 09:29:57.261403: E tensorflow/compiler/xla/stream_executor/cuda/cuda_fft.cc:609] Unable to register cuFFT factory: Attempting to register factory for plugin cuFFT when one has already been registered\n",
      "\u001b[36m(pid=3521324)\u001b[0m 2024-03-09 09:29:57.261416: E tensorflow/compiler/xla/stream_executor/cuda/cuda_blas.cc:1518] Unable to register cuBLAS factory: Attempting to register factory for plugin cuBLAS when one has already been registered\n"
     ]
    },
    {
     "name": "stdout",
     "output_type": "stream",
     "text": [
      "\u001b[36m(TrainLightGCN pid=3521324)\u001b[0m Already create adjacency matrix.\u001b[32m [repeated 2x across cluster]\u001b[0m\n",
      "\u001b[36m(TrainLightGCN pid=3521154)\u001b[0m Already normalize adjacency matrix.\n",
      "\u001b[36m(TrainLightGCN pid=3521154)\u001b[0m Using xavier initialization.\n",
      "\u001b[36m(TrainLightGCN pid=3521324)\u001b[0m Already normalize adjacency matrix.\n",
      "\u001b[36m(TrainLightGCN pid=3521324)\u001b[0m Using xavier initialization.\n"
     ]
    },
    {
     "name": "stderr",
     "output_type": "stream",
     "text": [
      "\u001b[36m(TrainLightGCN pid=3521324)\u001b[0m /home/daviddavo/upm-tfm-notebooks/.direnv/python-3.9/lib/python3.9/site-packages/recommenders/models/deeprec/DataModel/ImplicitCF.py:73: FutureWarning: The frame.append method is deprecated and will be removed from pandas in a future version. Use pandas.concat instead.\n",
      "\u001b[36m(TrainLightGCN pid=3521324)\u001b[0m   df = train if test is None else train.append(test)\n"
     ]
    },
    {
     "name": "stderr",
     "output_type": "stream",
     "text": [
      "\u001b[36m(TrainLightGCN pid=3521154)\u001b[0m Checkpoint successfully created at: Checkpoint(filesystem=local, path=/home/daviddavo/ray_results/LightGCN_optim=map@10,dao=MetaCartel - MetaCartel Ventures,freq=W-THU,normalize=True,cutoff_date=2020-11-06T00:00:00,fold=9_2024-03-09T09:25:07.044160/TrainLightGCN_a724b1ea_80_batch_size=8,conv_layers=4,embedding_dim=833,fold=9,l2=0.0001,learning_rate=0.0089_2024-03-09_09-29-52/checkpoint_000000)\n",
      "\u001b[36m(pid=3521495)\u001b[0m 2024-03-09 09:30:00.834280: E tensorflow/compiler/xla/stream_executor/cuda/cuda_dnn.cc:9342] Unable to register cuDNN factory: Attempting to register factory for plugin cuDNN when one has already been registered\n",
      "\u001b[36m(pid=3521495)\u001b[0m 2024-03-09 09:30:00.834311: E tensorflow/compiler/xla/stream_executor/cuda/cuda_fft.cc:609] Unable to register cuFFT factory: Attempting to register factory for plugin cuFFT when one has already been registered\n",
      "\u001b[36m(pid=3521495)\u001b[0m 2024-03-09 09:30:00.834325: E tensorflow/compiler/xla/stream_executor/cuda/cuda_blas.cc:1518] Unable to register cuBLAS factory: Attempting to register factory for plugin cuBLAS when one has already been registered\n"
     ]
    },
    {
     "name": "stderr",
     "output_type": "stream",
     "text": [
      "\u001b[36m(pid=3521654)\u001b[0m 2024-03-09 09:30:04.488542: E tensorflow/compiler/xla/stream_executor/cuda/cuda_dnn.cc:9342] Unable to register cuDNN factory: Attempting to register factory for plugin cuDNN when one has already been registered\n",
      "\u001b[36m(pid=3521654)\u001b[0m 2024-03-09 09:30:04.488574: E tensorflow/compiler/xla/stream_executor/cuda/cuda_fft.cc:609] Unable to register cuFFT factory: Attempting to register factory for plugin cuFFT when one has already been registered\n",
      "\u001b[36m(pid=3521654)\u001b[0m 2024-03-09 09:30:04.488587: E tensorflow/compiler/xla/stream_executor/cuda/cuda_blas.cc:1518] Unable to register cuBLAS factory: Attempting to register factory for plugin cuBLAS when one has already been registered\n",
      "\u001b[36m(TrainLightGCN pid=3521495)\u001b[0m /home/daviddavo/upm-tfm-notebooks/.direnv/python-3.9/lib/python3.9/site-packages/recommenders/models/deeprec/DataModel/ImplicitCF.py:73: FutureWarning: The frame.append method is deprecated and will be removed from pandas in a future version. Use pandas.concat instead.\n",
      "\u001b[36m(TrainLightGCN pid=3521495)\u001b[0m   df = train if test is None else train.append(test)\n"
     ]
    },
    {
     "name": "stderr",
     "output_type": "stream",
     "text": [
      "\u001b[36m(TrainLightGCN pid=3521324)\u001b[0m Checkpoint successfully created at: Checkpoint(filesystem=local, path=/home/daviddavo/ray_results/LightGCN_optim=map@10,dao=MetaCartel - MetaCartel Ventures,freq=W-THU,normalize=True,cutoff_date=2020-11-06T00:00:00,fold=9_2024-03-09T09:25:07.044160/TrainLightGCN_2a4e277f_81_batch_size=6,conv_layers=2,embedding_dim=165,fold=9,l2=0.0000,learning_rate=0.1648_2024-03-09_09-29-56/checkpoint_000000)\n"
     ]
    },
    {
     "name": "stderr",
     "output_type": "stream",
     "text": [
      "\u001b[36m(TrainLightGCN pid=3521654)\u001b[0m /home/daviddavo/upm-tfm-notebooks/.direnv/python-3.9/lib/python3.9/site-packages/recommenders/models/deeprec/DataModel/ImplicitCF.py:73: FutureWarning: The frame.append method is deprecated and will be removed from pandas in a future version. Use pandas.concat instead.\n",
      "\u001b[36m(TrainLightGCN pid=3521654)\u001b[0m   df = train if test is None else train.append(test)\n"
     ]
    },
    {
     "name": "stdout",
     "output_type": "stream",
     "text": [
      "\u001b[36m(TrainLightGCN pid=3521654)\u001b[0m Already create adjacency matrix.\u001b[32m [repeated 2x across cluster]\u001b[0m\n",
      "\u001b[36m(TrainLightGCN pid=3521654)\u001b[0m Already normalize adjacency matrix.\u001b[32m [repeated 2x across cluster]\u001b[0m\n",
      "\u001b[36m(TrainLightGCN pid=3521654)\u001b[0m Using xavier initialization.\u001b[32m [repeated 2x across cluster]\u001b[0m\n"
     ]
    },
    {
     "name": "stderr",
     "output_type": "stream",
     "text": [
      "\u001b[36m(pid=3521821)\u001b[0m 2024-03-09 09:30:08.168899: E tensorflow/compiler/xla/stream_executor/cuda/cuda_dnn.cc:9342] Unable to register cuDNN factory: Attempting to register factory for plugin cuDNN when one has already been registered\n",
      "\u001b[36m(pid=3521821)\u001b[0m 2024-03-09 09:30:08.168931: E tensorflow/compiler/xla/stream_executor/cuda/cuda_fft.cc:609] Unable to register cuFFT factory: Attempting to register factory for plugin cuFFT when one has already been registered\n",
      "\u001b[36m(pid=3521821)\u001b[0m 2024-03-09 09:30:08.168946: E tensorflow/compiler/xla/stream_executor/cuda/cuda_blas.cc:1518] Unable to register cuBLAS factory: Attempting to register factory for plugin cuBLAS when one has already been registered\n"
     ]
    },
    {
     "name": "stderr",
     "output_type": "stream",
     "text": [
      "\u001b[36m(pid=3521989)\u001b[0m 2024-03-09 09:30:11.785492: E tensorflow/compiler/xla/stream_executor/cuda/cuda_dnn.cc:9342] Unable to register cuDNN factory: Attempting to register factory for plugin cuDNN when one has already been registered\n",
      "\u001b[36m(pid=3521989)\u001b[0m 2024-03-09 09:30:11.785525: E tensorflow/compiler/xla/stream_executor/cuda/cuda_fft.cc:609] Unable to register cuFFT factory: Attempting to register factory for plugin cuFFT when one has already been registered\n",
      "\u001b[36m(pid=3521989)\u001b[0m 2024-03-09 09:30:11.785540: E tensorflow/compiler/xla/stream_executor/cuda/cuda_blas.cc:1518] Unable to register cuBLAS factory: Attempting to register factory for plugin cuBLAS when one has already been registered\n",
      "\u001b[36m(TrainLightGCN pid=3521495)\u001b[0m Checkpoint successfully created at: Checkpoint(filesystem=local, path=/home/daviddavo/ray_results/LightGCN_optim=map@10,dao=MetaCartel - MetaCartel Ventures,freq=W-THU,normalize=True,cutoff_date=2020-11-06T00:00:00,fold=9_2024-03-09T09:25:07.044160/TrainLightGCN_f3e03cf6_82_batch_size=7,conv_layers=3,embedding_dim=383,fold=9,l2=0.0000,learning_rate=0.0446_2024-03-09_09-29-59/checkpoint_000000)\n",
      "\u001b[36m(TrainLightGCN pid=3521821)\u001b[0m /home/daviddavo/upm-tfm-notebooks/.direnv/python-3.9/lib/python3.9/site-packages/recommenders/models/deeprec/DataModel/ImplicitCF.py:73: FutureWarning: The frame.append method is deprecated and will be removed from pandas in a future version. Use pandas.concat instead.\n",
      "\u001b[36m(TrainLightGCN pid=3521821)\u001b[0m   df = train if test is None else train.append(test)\n"
     ]
    },
    {
     "name": "stderr",
     "output_type": "stream",
     "text": [
      "\u001b[36m(TrainLightGCN pid=3521654)\u001b[0m Checkpoint successfully created at: Checkpoint(filesystem=local, path=/home/daviddavo/ray_results/LightGCN_optim=map@10,dao=MetaCartel - MetaCartel Ventures,freq=W-THU,normalize=True,cutoff_date=2020-11-06T00:00:00,fold=9_2024-03-09T09:25:07.044160/TrainLightGCN_d54a3e8a_83_batch_size=6,conv_layers=4,embedding_dim=114,fold=9,l2=0.0017,learning_rate=0.9972_2024-03-09_09-30-03/checkpoint_000000)\n"
     ]
    },
    {
     "name": "stdout",
     "output_type": "stream",
     "text": [
      "\u001b[36m(TrainLightGCN pid=3521989)\u001b[0m Already create adjacency matrix.\u001b[32m [repeated 2x across cluster]\u001b[0m\n",
      "\u001b[36m(TrainLightGCN pid=3521989)\u001b[0m Already normalize adjacency matrix.\u001b[32m [repeated 2x across cluster]\u001b[0m\n",
      "\u001b[36m(TrainLightGCN pid=3521989)\u001b[0m Using xavier initialization.\u001b[32m [repeated 2x across cluster]\u001b[0m\n"
     ]
    },
    {
     "name": "stderr",
     "output_type": "stream",
     "text": [
      "\u001b[36m(TrainLightGCN pid=3521989)\u001b[0m /home/daviddavo/upm-tfm-notebooks/.direnv/python-3.9/lib/python3.9/site-packages/recommenders/models/deeprec/DataModel/ImplicitCF.py:73: FutureWarning: The frame.append method is deprecated and will be removed from pandas in a future version. Use pandas.concat instead.\n",
      "\u001b[36m(TrainLightGCN pid=3521989)\u001b[0m   df = train if test is None else train.append(test)\n"
     ]
    },
    {
     "name": "stderr",
     "output_type": "stream",
     "text": [
      "\u001b[36m(pid=3522158)\u001b[0m 2024-03-09 09:30:15.450673: E tensorflow/compiler/xla/stream_executor/cuda/cuda_dnn.cc:9342] Unable to register cuDNN factory: Attempting to register factory for plugin cuDNN when one has already been registered\n",
      "\u001b[36m(pid=3522158)\u001b[0m 2024-03-09 09:30:15.450702: E tensorflow/compiler/xla/stream_executor/cuda/cuda_fft.cc:609] Unable to register cuFFT factory: Attempting to register factory for plugin cuFFT when one has already been registered\n",
      "\u001b[36m(pid=3522158)\u001b[0m 2024-03-09 09:30:15.450717: E tensorflow/compiler/xla/stream_executor/cuda/cuda_blas.cc:1518] Unable to register cuBLAS factory: Attempting to register factory for plugin cuBLAS when one has already been registered\n"
     ]
    },
    {
     "name": "stderr",
     "output_type": "stream",
     "text": [
      "\u001b[36m(pid=3522335)\u001b[0m 2024-03-09 09:30:19.117524: E tensorflow/compiler/xla/stream_executor/cuda/cuda_dnn.cc:9342] Unable to register cuDNN factory: Attempting to register factory for plugin cuDNN when one has already been registered\n",
      "\u001b[36m(pid=3522335)\u001b[0m 2024-03-09 09:30:19.117554: E tensorflow/compiler/xla/stream_executor/cuda/cuda_fft.cc:609] Unable to register cuFFT factory: Attempting to register factory for plugin cuFFT when one has already been registered\n",
      "\u001b[36m(pid=3522335)\u001b[0m 2024-03-09 09:30:19.117570: E tensorflow/compiler/xla/stream_executor/cuda/cuda_blas.cc:1518] Unable to register cuBLAS factory: Attempting to register factory for plugin cuBLAS when one has already been registered\n",
      "\u001b[36m(TrainLightGCN pid=3521989)\u001b[0m Checkpoint successfully created at: Checkpoint(filesystem=local, path=/home/daviddavo/ray_results/LightGCN_optim=map@10,dao=MetaCartel - MetaCartel Ventures,freq=W-THU,normalize=True,cutoff_date=2020-11-06T00:00:00,fold=9_2024-03-09T09:25:07.044160/TrainLightGCN_29135cb9_85_batch_size=8,conv_layers=3,embedding_dim=21,fold=9,l2=0.0081,learning_rate=0.0852_2024-03-09_09-30-10/checkpoint_000000)\u001b[32m [repeated 2x across cluster]\u001b[0m\n",
      "\u001b[36m(TrainLightGCN pid=3522158)\u001b[0m /home/daviddavo/upm-tfm-notebooks/.direnv/python-3.9/lib/python3.9/site-packages/recommenders/models/deeprec/DataModel/ImplicitCF.py:73: FutureWarning: The frame.append method is deprecated and will be removed from pandas in a future version. Use pandas.concat instead.\n",
      "\u001b[36m(TrainLightGCN pid=3522158)\u001b[0m   df = train if test is None else train.append(test)\n"
     ]
    },
    {
     "name": "stderr",
     "output_type": "stream",
     "text": [
      "\u001b[36m(TrainLightGCN pid=3522335)\u001b[0m /home/daviddavo/upm-tfm-notebooks/.direnv/python-3.9/lib/python3.9/site-packages/recommenders/models/deeprec/DataModel/ImplicitCF.py:73: FutureWarning: The frame.append method is deprecated and will be removed from pandas in a future version. Use pandas.concat instead.\n",
      "\u001b[36m(TrainLightGCN pid=3522335)\u001b[0m   df = train if test is None else train.append(test)\n"
     ]
    },
    {
     "name": "stdout",
     "output_type": "stream",
     "text": [
      "\u001b[36m(TrainLightGCN pid=3522335)\u001b[0m Already create adjacency matrix.\u001b[32m [repeated 2x across cluster]\u001b[0m\n",
      "\u001b[36m(TrainLightGCN pid=3522335)\u001b[0m Already normalize adjacency matrix.\u001b[32m [repeated 2x across cluster]\u001b[0m\n",
      "\u001b[36m(TrainLightGCN pid=3522335)\u001b[0m Using xavier initialization.\u001b[32m [repeated 2x across cluster]\u001b[0m\n"
     ]
    },
    {
     "name": "stderr",
     "output_type": "stream",
     "text": [
      "\u001b[36m(pid=3522493)\u001b[0m 2024-03-09 09:30:22.729505: E tensorflow/compiler/xla/stream_executor/cuda/cuda_dnn.cc:9342] Unable to register cuDNN factory: Attempting to register factory for plugin cuDNN when one has already been registered\n",
      "\u001b[36m(pid=3522493)\u001b[0m 2024-03-09 09:30:22.729539: E tensorflow/compiler/xla/stream_executor/cuda/cuda_fft.cc:609] Unable to register cuFFT factory: Attempting to register factory for plugin cuFFT when one has already been registered\n",
      "\u001b[36m(pid=3522493)\u001b[0m 2024-03-09 09:30:22.729555: E tensorflow/compiler/xla/stream_executor/cuda/cuda_blas.cc:1518] Unable to register cuBLAS factory: Attempting to register factory for plugin cuBLAS when one has already been registered\n",
      "\u001b[36m(TrainLightGCN pid=3522158)\u001b[0m Checkpoint successfully created at: Checkpoint(filesystem=local, path=/home/daviddavo/ray_results/LightGCN_optim=map@10,dao=MetaCartel - MetaCartel Ventures,freq=W-THU,normalize=True,cutoff_date=2020-11-06T00:00:00,fold=9_2024-03-09T09:25:07.044160/TrainLightGCN_0f95feaf_86_batch_size=6,conv_layers=3,embedding_dim=10,fold=9,l2=0.0012,learning_rate=0.3612_2024-03-09_09-30-14/checkpoint_000000)\n"
     ]
    },
    {
     "name": "stderr",
     "output_type": "stream",
     "text": [
      "\u001b[36m(TrainLightGCN pid=3522335)\u001b[0m Checkpoint successfully created at: Checkpoint(filesystem=local, path=/home/daviddavo/ray_results/LightGCN_optim=map@10,dao=MetaCartel - MetaCartel Ventures,freq=W-THU,normalize=True,cutoff_date=2020-11-06T00:00:00,fold=9_2024-03-09T09:25:07.044160/TrainLightGCN_4e68a80e_87_batch_size=8,conv_layers=2,embedding_dim=209,fold=9,l2=0.0036,learning_rate=0.0013_2024-03-09_09-30-18/checkpoint_000000)\n"
     ]
    },
    {
     "name": "stderr",
     "output_type": "stream",
     "text": [
      "\u001b[36m(pid=3522668)\u001b[0m 2024-03-09 09:30:26.342746: E tensorflow/compiler/xla/stream_executor/cuda/cuda_dnn.cc:9342] Unable to register cuDNN factory: Attempting to register factory for plugin cuDNN when one has already been registered\n",
      "\u001b[36m(pid=3522668)\u001b[0m 2024-03-09 09:30:26.342776: E tensorflow/compiler/xla/stream_executor/cuda/cuda_fft.cc:609] Unable to register cuFFT factory: Attempting to register factory for plugin cuFFT when one has already been registered\n",
      "\u001b[36m(pid=3522668)\u001b[0m 2024-03-09 09:30:26.342793: E tensorflow/compiler/xla/stream_executor/cuda/cuda_blas.cc:1518] Unable to register cuBLAS factory: Attempting to register factory for plugin cuBLAS when one has already been registered\n",
      "\u001b[36m(TrainLightGCN pid=3522493)\u001b[0m /home/daviddavo/upm-tfm-notebooks/.direnv/python-3.9/lib/python3.9/site-packages/recommenders/models/deeprec/DataModel/ImplicitCF.py:73: FutureWarning: The frame.append method is deprecated and will be removed from pandas in a future version. Use pandas.concat instead.\n",
      "\u001b[36m(TrainLightGCN pid=3522493)\u001b[0m   df = train if test is None else train.append(test)\n"
     ]
    },
    {
     "name": "stdout",
     "output_type": "stream",
     "text": [
      "\u001b[36m(TrainLightGCN pid=3522668)\u001b[0m Already create adjacency matrix.\u001b[32m [repeated 2x across cluster]\u001b[0m\n",
      "\u001b[36m(TrainLightGCN pid=3522668)\u001b[0m Already normalize adjacency matrix.\u001b[32m [repeated 2x across cluster]\u001b[0m\n",
      "\u001b[36m(TrainLightGCN pid=3522668)\u001b[0m Using xavier initialization.\u001b[32m [repeated 2x across cluster]\u001b[0m\n"
     ]
    },
    {
     "name": "stderr",
     "output_type": "stream",
     "text": [
      "\u001b[36m(TrainLightGCN pid=3522668)\u001b[0m /home/daviddavo/upm-tfm-notebooks/.direnv/python-3.9/lib/python3.9/site-packages/recommenders/models/deeprec/DataModel/ImplicitCF.py:73: FutureWarning: The frame.append method is deprecated and will be removed from pandas in a future version. Use pandas.concat instead.\n",
      "\u001b[36m(TrainLightGCN pid=3522668)\u001b[0m   df = train if test is None else train.append(test)\n"
     ]
    },
    {
     "name": "stderr",
     "output_type": "stream",
     "text": [
      "\u001b[36m(TrainLightGCN pid=3522493)\u001b[0m Checkpoint successfully created at: Checkpoint(filesystem=local, path=/home/daviddavo/ray_results/LightGCN_optim=map@10,dao=MetaCartel - MetaCartel Ventures,freq=W-THU,normalize=True,cutoff_date=2020-11-06T00:00:00,fold=9_2024-03-09T09:25:07.044160/TrainLightGCN_bebe39bd_88_batch_size=7,conv_layers=4,embedding_dim=87,fold=9,l2=0.0003,learning_rate=0.0161_2024-03-09_09-30-21/checkpoint_000000)\n",
      "\u001b[36m(pid=3522830)\u001b[0m 2024-03-09 09:30:29.987413: E tensorflow/compiler/xla/stream_executor/cuda/cuda_dnn.cc:9342] Unable to register cuDNN factory: Attempting to register factory for plugin cuDNN when one has already been registered\n",
      "\u001b[36m(pid=3522830)\u001b[0m 2024-03-09 09:30:29.987440: E tensorflow/compiler/xla/stream_executor/cuda/cuda_fft.cc:609] Unable to register cuFFT factory: Attempting to register factory for plugin cuFFT when one has already been registered\n",
      "\u001b[36m(pid=3522830)\u001b[0m 2024-03-09 09:30:29.987456: E tensorflow/compiler/xla/stream_executor/cuda/cuda_blas.cc:1518] Unable to register cuBLAS factory: Attempting to register factory for plugin cuBLAS when one has already been registered\n"
     ]
    },
    {
     "name": "stderr",
     "output_type": "stream",
     "text": [
      "\u001b[36m(TrainLightGCN pid=3522668)\u001b[0m Checkpoint successfully created at: Checkpoint(filesystem=local, path=/home/daviddavo/ray_results/LightGCN_optim=map@10,dao=MetaCartel - MetaCartel Ventures,freq=W-THU,normalize=True,cutoff_date=2020-11-06T00:00:00,fold=9_2024-03-09T09:25:07.044160/TrainLightGCN_970b9856_89_batch_size=7,conv_layers=3,embedding_dim=590,fold=9,l2=0.0007,learning_rate=0.0070_2024-03-09_09-30-25/checkpoint_000000)\n"
     ]
    },
    {
     "name": "stderr",
     "output_type": "stream",
     "text": [
      "\u001b[36m(pid=3522999)\u001b[0m 2024-03-09 09:30:33.622673: E tensorflow/compiler/xla/stream_executor/cuda/cuda_dnn.cc:9342] Unable to register cuDNN factory: Attempting to register factory for plugin cuDNN when one has already been registered\n",
      "\u001b[36m(pid=3522999)\u001b[0m 2024-03-09 09:30:33.622703: E tensorflow/compiler/xla/stream_executor/cuda/cuda_fft.cc:609] Unable to register cuFFT factory: Attempting to register factory for plugin cuFFT when one has already been registered\n",
      "\u001b[36m(pid=3522999)\u001b[0m 2024-03-09 09:30:33.622720: E tensorflow/compiler/xla/stream_executor/cuda/cuda_blas.cc:1518] Unable to register cuBLAS factory: Attempting to register factory for plugin cuBLAS when one has already been registered\n",
      "\u001b[36m(TrainLightGCN pid=3522830)\u001b[0m /home/daviddavo/upm-tfm-notebooks/.direnv/python-3.9/lib/python3.9/site-packages/recommenders/models/deeprec/DataModel/ImplicitCF.py:73: FutureWarning: The frame.append method is deprecated and will be removed from pandas in a future version. Use pandas.concat instead.\n",
      "\u001b[36m(TrainLightGCN pid=3522830)\u001b[0m   df = train if test is None else train.append(test)\n"
     ]
    },
    {
     "name": "stderr",
     "output_type": "stream",
     "text": [
      "\u001b[36m(TrainLightGCN pid=3522999)\u001b[0m /home/daviddavo/upm-tfm-notebooks/.direnv/python-3.9/lib/python3.9/site-packages/recommenders/models/deeprec/DataModel/ImplicitCF.py:73: FutureWarning: The frame.append method is deprecated and will be removed from pandas in a future version. Use pandas.concat instead.\n",
      "\u001b[36m(TrainLightGCN pid=3522999)\u001b[0m   df = train if test is None else train.append(test)\n"
     ]
    },
    {
     "name": "stdout",
     "output_type": "stream",
     "text": [
      "\u001b[36m(TrainLightGCN pid=3522999)\u001b[0m Already create adjacency matrix.\u001b[32m [repeated 2x across cluster]\u001b[0m\n",
      "\u001b[36m(TrainLightGCN pid=3522999)\u001b[0m Already normalize adjacency matrix.\u001b[32m [repeated 2x across cluster]\u001b[0m\n",
      "\u001b[36m(TrainLightGCN pid=3522999)\u001b[0m Using xavier initialization.\u001b[32m [repeated 2x across cluster]\u001b[0m\n"
     ]
    },
    {
     "name": "stderr",
     "output_type": "stream",
     "text": [
      "\u001b[36m(TrainLightGCN pid=3522830)\u001b[0m Checkpoint successfully created at: Checkpoint(filesystem=local, path=/home/daviddavo/ray_results/LightGCN_optim=map@10,dao=MetaCartel - MetaCartel Ventures,freq=W-THU,normalize=True,cutoff_date=2020-11-06T00:00:00,fold=9_2024-03-09T09:25:07.044160/TrainLightGCN_c8df2ab2_90_batch_size=6,conv_layers=2,embedding_dim=31,fold=9,l2=0.0000,learning_rate=0.0039_2024-03-09_09-30-28/checkpoint_000000)\n"
     ]
    },
    {
     "name": "stderr",
     "output_type": "stream",
     "text": [
      "\u001b[36m(pid=3523162)\u001b[0m 2024-03-09 09:30:37.189358: E tensorflow/compiler/xla/stream_executor/cuda/cuda_dnn.cc:9342] Unable to register cuDNN factory: Attempting to register factory for plugin cuDNN when one has already been registered\n",
      "\u001b[36m(pid=3523162)\u001b[0m 2024-03-09 09:30:37.189389: E tensorflow/compiler/xla/stream_executor/cuda/cuda_fft.cc:609] Unable to register cuFFT factory: Attempting to register factory for plugin cuFFT when one has already been registered\n",
      "\u001b[36m(pid=3523162)\u001b[0m 2024-03-09 09:30:37.189403: E tensorflow/compiler/xla/stream_executor/cuda/cuda_blas.cc:1518] Unable to register cuBLAS factory: Attempting to register factory for plugin cuBLAS when one has already been registered\n"
     ]
    },
    {
     "name": "stderr",
     "output_type": "stream",
     "text": [
      "\u001b[36m(TrainLightGCN pid=3522999)\u001b[0m Checkpoint successfully created at: Checkpoint(filesystem=local, path=/home/daviddavo/ray_results/LightGCN_optim=map@10,dao=MetaCartel - MetaCartel Ventures,freq=W-THU,normalize=True,cutoff_date=2020-11-06T00:00:00,fold=9_2024-03-09T09:25:07.044160/TrainLightGCN_c03ae8ed_91_batch_size=7,conv_layers=3,embedding_dim=470,fold=9,l2=0.0002,learning_rate=0.5930_2024-03-09_09-30-32/checkpoint_000000)\n"
     ]
    },
    {
     "name": "stderr",
     "output_type": "stream",
     "text": [
      "\u001b[36m(pid=3523333)\u001b[0m 2024-03-09 09:30:40.833052: E tensorflow/compiler/xla/stream_executor/cuda/cuda_dnn.cc:9342] Unable to register cuDNN factory: Attempting to register factory for plugin cuDNN when one has already been registered\n",
      "\u001b[36m(pid=3523333)\u001b[0m 2024-03-09 09:30:40.833085: E tensorflow/compiler/xla/stream_executor/cuda/cuda_fft.cc:609] Unable to register cuFFT factory: Attempting to register factory for plugin cuFFT when one has already been registered\n",
      "\u001b[36m(pid=3523333)\u001b[0m 2024-03-09 09:30:40.833099: E tensorflow/compiler/xla/stream_executor/cuda/cuda_blas.cc:1518] Unable to register cuBLAS factory: Attempting to register factory for plugin cuBLAS when one has already been registered\n",
      "\u001b[36m(TrainLightGCN pid=3523162)\u001b[0m /home/daviddavo/upm-tfm-notebooks/.direnv/python-3.9/lib/python3.9/site-packages/recommenders/models/deeprec/DataModel/ImplicitCF.py:73: FutureWarning: The frame.append method is deprecated and will be removed from pandas in a future version. Use pandas.concat instead.\n",
      "\u001b[36m(TrainLightGCN pid=3523162)\u001b[0m   df = train if test is None else train.append(test)\n"
     ]
    },
    {
     "name": "stderr",
     "output_type": "stream",
     "text": [
      "\u001b[36m(TrainLightGCN pid=3523333)\u001b[0m /home/daviddavo/upm-tfm-notebooks/.direnv/python-3.9/lib/python3.9/site-packages/recommenders/models/deeprec/DataModel/ImplicitCF.py:73: FutureWarning: The frame.append method is deprecated and will be removed from pandas in a future version. Use pandas.concat instead.\n",
      "\u001b[36m(TrainLightGCN pid=3523333)\u001b[0m   df = train if test is None else train.append(test)\n"
     ]
    },
    {
     "name": "stdout",
     "output_type": "stream",
     "text": [
      "\u001b[36m(TrainLightGCN pid=3523333)\u001b[0m Already create adjacency matrix.\u001b[32m [repeated 2x across cluster]\u001b[0m\n",
      "\u001b[36m(TrainLightGCN pid=3523333)\u001b[0m Already normalize adjacency matrix.\u001b[32m [repeated 2x across cluster]\u001b[0m\n",
      "\u001b[36m(TrainLightGCN pid=3523333)\u001b[0m Using xavier initialization.\u001b[32m [repeated 2x across cluster]\u001b[0m\n"
     ]
    },
    {
     "name": "stderr",
     "output_type": "stream",
     "text": [
      "\u001b[36m(TrainLightGCN pid=3523162)\u001b[0m Checkpoint successfully created at: Checkpoint(filesystem=local, path=/home/daviddavo/ray_results/LightGCN_optim=map@10,dao=MetaCartel - MetaCartel Ventures,freq=W-THU,normalize=True,cutoff_date=2020-11-06T00:00:00,fold=9_2024-03-09T09:25:07.044160/TrainLightGCN_acd4cbe2_92_batch_size=6,conv_layers=4,embedding_dim=276,fold=9,l2=0.0001,learning_rate=0.4197_2024-03-09_09-30-36/checkpoint_000000)\n",
      "\u001b[36m(pid=3523500)\u001b[0m 2024-03-09 09:30:44.455909: E tensorflow/compiler/xla/stream_executor/cuda/cuda_dnn.cc:9342] Unable to register cuDNN factory: Attempting to register factory for plugin cuDNN when one has already been registered\n",
      "\u001b[36m(pid=3523500)\u001b[0m 2024-03-09 09:30:44.455940: E tensorflow/compiler/xla/stream_executor/cuda/cuda_fft.cc:609] Unable to register cuFFT factory: Attempting to register factory for plugin cuFFT when one has already been registered\n",
      "\u001b[36m(pid=3523500)\u001b[0m 2024-03-09 09:30:44.455954: E tensorflow/compiler/xla/stream_executor/cuda/cuda_blas.cc:1518] Unable to register cuBLAS factory: Attempting to register factory for plugin cuBLAS when one has already been registered\n"
     ]
    },
    {
     "name": "stderr",
     "output_type": "stream",
     "text": [
      "\u001b[36m(TrainLightGCN pid=3523333)\u001b[0m Checkpoint successfully created at: Checkpoint(filesystem=local, path=/home/daviddavo/ray_results/LightGCN_optim=map@10,dao=MetaCartel - MetaCartel Ventures,freq=W-THU,normalize=True,cutoff_date=2020-11-06T00:00:00,fold=9_2024-03-09T09:25:07.044160/TrainLightGCN_21942e43_93_batch_size=8,conv_layers=5,embedding_dim=42,fold=9,l2=0.0005,learning_rate=0.0533_2024-03-09_09-30-39/checkpoint_000000)\n"
     ]
    },
    {
     "name": "stderr",
     "output_type": "stream",
     "text": [
      "\u001b[36m(pid=3523674)\u001b[0m 2024-03-09 09:30:48.117782: E tensorflow/compiler/xla/stream_executor/cuda/cuda_dnn.cc:9342] Unable to register cuDNN factory: Attempting to register factory for plugin cuDNN when one has already been registered\n",
      "\u001b[36m(pid=3523674)\u001b[0m 2024-03-09 09:30:48.117812: E tensorflow/compiler/xla/stream_executor/cuda/cuda_fft.cc:609] Unable to register cuFFT factory: Attempting to register factory for plugin cuFFT when one has already been registered\n",
      "\u001b[36m(pid=3523674)\u001b[0m 2024-03-09 09:30:48.117832: E tensorflow/compiler/xla/stream_executor/cuda/cuda_blas.cc:1518] Unable to register cuBLAS factory: Attempting to register factory for plugin cuBLAS when one has already been registered\n",
      "\u001b[36m(TrainLightGCN pid=3523500)\u001b[0m /home/daviddavo/upm-tfm-notebooks/.direnv/python-3.9/lib/python3.9/site-packages/recommenders/models/deeprec/DataModel/ImplicitCF.py:73: FutureWarning: The frame.append method is deprecated and will be removed from pandas in a future version. Use pandas.concat instead.\n",
      "\u001b[36m(TrainLightGCN pid=3523500)\u001b[0m   df = train if test is None else train.append(test)\n"
     ]
    },
    {
     "name": "stderr",
     "output_type": "stream",
     "text": [
      "\u001b[36m(TrainLightGCN pid=3523674)\u001b[0m /home/daviddavo/upm-tfm-notebooks/.direnv/python-3.9/lib/python3.9/site-packages/recommenders/models/deeprec/DataModel/ImplicitCF.py:73: FutureWarning: The frame.append method is deprecated and will be removed from pandas in a future version. Use pandas.concat instead.\n",
      "\u001b[36m(TrainLightGCN pid=3523674)\u001b[0m   df = train if test is None else train.append(test)\n"
     ]
    },
    {
     "name": "stdout",
     "output_type": "stream",
     "text": [
      "\u001b[36m(TrainLightGCN pid=3523674)\u001b[0m Already create adjacency matrix.\u001b[32m [repeated 2x across cluster]\u001b[0m\n",
      "\u001b[36m(TrainLightGCN pid=3523674)\u001b[0m Already normalize adjacency matrix.\u001b[32m [repeated 2x across cluster]\u001b[0m\n",
      "\u001b[36m(TrainLightGCN pid=3523674)\u001b[0m Using xavier initialization.\u001b[32m [repeated 2x across cluster]\u001b[0m\n"
     ]
    },
    {
     "name": "stderr",
     "output_type": "stream",
     "text": [
      "\u001b[36m(TrainLightGCN pid=3523500)\u001b[0m Checkpoint successfully created at: Checkpoint(filesystem=local, path=/home/daviddavo/ray_results/LightGCN_optim=map@10,dao=MetaCartel - MetaCartel Ventures,freq=W-THU,normalize=True,cutoff_date=2020-11-06T00:00:00,fold=9_2024-03-09T09:25:07.044160/TrainLightGCN_cbe4a514_94_batch_size=7,conv_layers=2,embedding_dim=151,fold=9,l2=0.0001,learning_rate=0.1064_2024-03-09_09-30-43/checkpoint_000000)\n",
      "\u001b[36m(pid=3523839)\u001b[0m 2024-03-09 09:30:51.755446: E tensorflow/compiler/xla/stream_executor/cuda/cuda_dnn.cc:9342] Unable to register cuDNN factory: Attempting to register factory for plugin cuDNN when one has already been registered\n",
      "\u001b[36m(pid=3523839)\u001b[0m 2024-03-09 09:30:51.755469: E tensorflow/compiler/xla/stream_executor/cuda/cuda_fft.cc:609] Unable to register cuFFT factory: Attempting to register factory for plugin cuFFT when one has already been registered\n",
      "\u001b[36m(pid=3523839)\u001b[0m 2024-03-09 09:30:51.755483: E tensorflow/compiler/xla/stream_executor/cuda/cuda_blas.cc:1518] Unable to register cuBLAS factory: Attempting to register factory for plugin cuBLAS when one has already been registered\n"
     ]
    },
    {
     "name": "stderr",
     "output_type": "stream",
     "text": [
      "\u001b[36m(TrainLightGCN pid=3523674)\u001b[0m Checkpoint successfully created at: Checkpoint(filesystem=local, path=/home/daviddavo/ray_results/LightGCN_optim=map@10,dao=MetaCartel - MetaCartel Ventures,freq=W-THU,normalize=True,cutoff_date=2020-11-06T00:00:00,fold=9_2024-03-09T09:25:07.044160/TrainLightGCN_6ee0d2ae_95_batch_size=7,conv_layers=3,embedding_dim=103,fold=9,l2=0.0001,learning_rate=0.2729_2024-03-09_09-30-47/checkpoint_000000)\n"
     ]
    },
    {
     "name": "stderr",
     "output_type": "stream",
     "text": [
      "\u001b[36m(pid=3524008)\u001b[0m 2024-03-09 09:30:55.363887: E tensorflow/compiler/xla/stream_executor/cuda/cuda_dnn.cc:9342] Unable to register cuDNN factory: Attempting to register factory for plugin cuDNN when one has already been registered\n",
      "\u001b[36m(pid=3524008)\u001b[0m 2024-03-09 09:30:55.363920: E tensorflow/compiler/xla/stream_executor/cuda/cuda_fft.cc:609] Unable to register cuFFT factory: Attempting to register factory for plugin cuFFT when one has already been registered\n",
      "\u001b[36m(pid=3524008)\u001b[0m 2024-03-09 09:30:55.363936: E tensorflow/compiler/xla/stream_executor/cuda/cuda_blas.cc:1518] Unable to register cuBLAS factory: Attempting to register factory for plugin cuBLAS when one has already been registered\n",
      "\u001b[36m(TrainLightGCN pid=3523839)\u001b[0m /home/daviddavo/upm-tfm-notebooks/.direnv/python-3.9/lib/python3.9/site-packages/recommenders/models/deeprec/DataModel/ImplicitCF.py:73: FutureWarning: The frame.append method is deprecated and will be removed from pandas in a future version. Use pandas.concat instead.\n",
      "\u001b[36m(TrainLightGCN pid=3523839)\u001b[0m   df = train if test is None else train.append(test)\n"
     ]
    },
    {
     "name": "stderr",
     "output_type": "stream",
     "text": [
      "\u001b[36m(TrainLightGCN pid=3524008)\u001b[0m /home/daviddavo/upm-tfm-notebooks/.direnv/python-3.9/lib/python3.9/site-packages/recommenders/models/deeprec/DataModel/ImplicitCF.py:73: FutureWarning: The frame.append method is deprecated and will be removed from pandas in a future version. Use pandas.concat instead.\n",
      "\u001b[36m(TrainLightGCN pid=3524008)\u001b[0m   df = train if test is None else train.append(test)\n"
     ]
    },
    {
     "name": "stdout",
     "output_type": "stream",
     "text": [
      "\u001b[36m(TrainLightGCN pid=3524008)\u001b[0m Already create adjacency matrix.\u001b[32m [repeated 2x across cluster]\u001b[0m\n",
      "\u001b[36m(TrainLightGCN pid=3524008)\u001b[0m Already normalize adjacency matrix.\u001b[32m [repeated 2x across cluster]\u001b[0m\n",
      "\u001b[36m(TrainLightGCN pid=3524008)\u001b[0m Using xavier initialization.\u001b[32m [repeated 2x across cluster]\u001b[0m\n"
     ]
    },
    {
     "name": "stderr",
     "output_type": "stream",
     "text": [
      "\u001b[36m(TrainLightGCN pid=3523839)\u001b[0m Checkpoint successfully created at: Checkpoint(filesystem=local, path=/home/daviddavo/ray_results/LightGCN_optim=map@10,dao=MetaCartel - MetaCartel Ventures,freq=W-THU,normalize=True,cutoff_date=2020-11-06T00:00:00,fold=9_2024-03-09T09:25:07.044160/TrainLightGCN_5825963a_96_batch_size=6,conv_layers=4,embedding_dim=8,fold=9,l2=0.0009,learning_rate=0.0247_2024-03-09_09-30-50/checkpoint_000000)\n",
      "\u001b[36m(pid=3524173)\u001b[0m 2024-03-09 09:30:58.983199: E tensorflow/compiler/xla/stream_executor/cuda/cuda_dnn.cc:9342] Unable to register cuDNN factory: Attempting to register factory for plugin cuDNN when one has already been registered\n",
      "\u001b[36m(pid=3524173)\u001b[0m 2024-03-09 09:30:58.983232: E tensorflow/compiler/xla/stream_executor/cuda/cuda_fft.cc:609] Unable to register cuFFT factory: Attempting to register factory for plugin cuFFT when one has already been registered\n",
      "\u001b[36m(pid=3524173)\u001b[0m 2024-03-09 09:30:58.983246: E tensorflow/compiler/xla/stream_executor/cuda/cuda_blas.cc:1518] Unable to register cuBLAS factory: Attempting to register factory for plugin cuBLAS when one has already been registered\n"
     ]
    },
    {
     "name": "stderr",
     "output_type": "stream",
     "text": [
      "\u001b[36m(TrainLightGCN pid=3524008)\u001b[0m Checkpoint successfully created at: Checkpoint(filesystem=local, path=/home/daviddavo/ray_results/LightGCN_optim=map@10,dao=MetaCartel - MetaCartel Ventures,freq=W-THU,normalize=True,cutoff_date=2020-11-06T00:00:00,fold=9_2024-03-09T09:25:07.044160/TrainLightGCN_129716ca_97_batch_size=7,conv_layers=3,embedding_dim=129,fold=9,l2=0.0000,learning_rate=0.0390_2024-03-09_09-30-54/checkpoint_000000)\n"
     ]
    },
    {
     "name": "stderr",
     "output_type": "stream",
     "text": [
      "\u001b[36m(pid=3524341)\u001b[0m 2024-03-09 09:31:02.698265: E tensorflow/compiler/xla/stream_executor/cuda/cuda_dnn.cc:9342] Unable to register cuDNN factory: Attempting to register factory for plugin cuDNN when one has already been registered\n",
      "\u001b[36m(pid=3524341)\u001b[0m 2024-03-09 09:31:02.698294: E tensorflow/compiler/xla/stream_executor/cuda/cuda_fft.cc:609] Unable to register cuFFT factory: Attempting to register factory for plugin cuFFT when one has already been registered\n",
      "\u001b[36m(pid=3524341)\u001b[0m 2024-03-09 09:31:02.698310: E tensorflow/compiler/xla/stream_executor/cuda/cuda_blas.cc:1518] Unable to register cuBLAS factory: Attempting to register factory for plugin cuBLAS when one has already been registered\n",
      "\u001b[36m(TrainLightGCN pid=3524173)\u001b[0m /home/daviddavo/upm-tfm-notebooks/.direnv/python-3.9/lib/python3.9/site-packages/recommenders/models/deeprec/DataModel/ImplicitCF.py:73: FutureWarning: The frame.append method is deprecated and will be removed from pandas in a future version. Use pandas.concat instead.\n",
      "\u001b[36m(TrainLightGCN pid=3524173)\u001b[0m   df = train if test is None else train.append(test)\n"
     ]
    },
    {
     "name": "stdout",
     "output_type": "stream",
     "text": [
      "\u001b[36m(TrainLightGCN pid=3524341)\u001b[0m Already create adjacency matrix.\u001b[32m [repeated 2x across cluster]\u001b[0m\n",
      "\u001b[36m(TrainLightGCN pid=3524341)\u001b[0m Already normalize adjacency matrix.\u001b[32m [repeated 2x across cluster]\u001b[0m\n",
      "\u001b[36m(TrainLightGCN pid=3524341)\u001b[0m Using xavier initialization.\u001b[32m [repeated 2x across cluster]\u001b[0m\n"
     ]
    },
    {
     "name": "stderr",
     "output_type": "stream",
     "text": [
      "\u001b[36m(TrainLightGCN pid=3524341)\u001b[0m /home/daviddavo/upm-tfm-notebooks/.direnv/python-3.9/lib/python3.9/site-packages/recommenders/models/deeprec/DataModel/ImplicitCF.py:73: FutureWarning: The frame.append method is deprecated and will be removed from pandas in a future version. Use pandas.concat instead.\n",
      "\u001b[36m(TrainLightGCN pid=3524341)\u001b[0m   df = train if test is None else train.append(test)\n"
     ]
    },
    {
     "name": "stderr",
     "output_type": "stream",
     "text": [
      "\u001b[36m(TrainLightGCN pid=3524341)\u001b[0m Checkpoint successfully created at: Checkpoint(filesystem=local, path=/home/daviddavo/ray_results/LightGCN_optim=map@10,dao=MetaCartel - MetaCartel Ventures,freq=W-THU,normalize=True,cutoff_date=2020-11-06T00:00:00,fold=9_2024-03-09T09:25:07.044160/TrainLightGCN_a8cd59d7_99_batch_size=9,conv_layers=2,embedding_dim=26,fold=9,l2=0.0000,learning_rate=0.0122_2024-03-09_09-31-01/checkpoint_000000)\u001b[32m [repeated 2x across cluster]\u001b[0m\n",
      "\u001b[36m(pid=3524513)\u001b[0m 2024-03-09 09:31:06.275631: E tensorflow/compiler/xla/stream_executor/cuda/cuda_dnn.cc:9342] Unable to register cuDNN factory: Attempting to register factory for plugin cuDNN when one has already been registered\n",
      "\u001b[36m(pid=3524513)\u001b[0m 2024-03-09 09:31:06.275661: E tensorflow/compiler/xla/stream_executor/cuda/cuda_fft.cc:609] Unable to register cuFFT factory: Attempting to register factory for plugin cuFFT when one has already been registered\n",
      "\u001b[36m(pid=3524513)\u001b[0m 2024-03-09 09:31:06.275675: E tensorflow/compiler/xla/stream_executor/cuda/cuda_blas.cc:1518] Unable to register cuBLAS factory: Attempting to register factory for plugin cuBLAS when one has already been registered\n"
     ]
    },
    {
     "name": "stderr",
     "output_type": "stream",
     "text": [
      "\u001b[36m(TrainLightGCN pid=3524513)\u001b[0m /home/daviddavo/upm-tfm-notebooks/.direnv/python-3.9/lib/python3.9/site-packages/recommenders/models/deeprec/DataModel/ImplicitCF.py:73: FutureWarning: The frame.append method is deprecated and will be removed from pandas in a future version. Use pandas.concat instead.\n",
      "\u001b[36m(TrainLightGCN pid=3524513)\u001b[0m   df = train if test is None else train.append(test)\n"
     ]
    },
    {
     "name": "stderr",
     "output_type": "stream",
     "text": [
      "2024-03-09 09:31:13,118\tINFO tune.py:1042 -- Total run time: 366.07 seconds (366.04 seconds for the tuning loop).\n"
     ]
    }
   ],
   "source": [
    "import logging\n",
    "\n",
    "def findConfig(rg):\n",
    "    for r in rg:\n",
    "        if r.config:\n",
    "            msk = [r.config[k] == v for k, v in last_best_result.config.items() if k != 'fold']\n",
    "            if all(msk):\n",
    "                return r\n",
    "            elif sum(msk) >= 3:\n",
    "                print(r.config, msk)\n",
    "\n",
    "    return None\n",
    "\n",
    "tuners = []\n",
    "results = []\n",
    "last_best_result = None\n",
    "for f in range(LAST_SPLITS):\n",
    "    best_prev_config = None\n",
    "    if last_best_result is not None:\n",
    "        best_prev_config = last_best_result.config.copy()\n",
    "        best_prev_config['fold'] += 1\n",
    "        best_prev_config = [best_prev_config]\n",
    "    \n",
    "    t = getTunerOnFold(f, best_prev_config)\n",
    "    tuners.append(t)\n",
    "\n",
    "    rg = t.fit()\n",
    "    assert rg.num_errors == 0, f\"There are {rg.num_errors} errors\"\n",
    "    assert rg.num_terminated == NUM_SAMPLES, f'Some samples are not terminated ({rg.num_terminated} != {NUM_SAMPLES})'\n",
    "    results.append(rg)\n",
    "\n",
    "    # Assert that the prev config has been tried\n",
    "    if last_best_result is not None:\n",
    "        # if not any( \n",
    "        #     all((r.config[k] == v for k, v in last_best_result.config.items() if k != 'fold'))\n",
    "        #     for r in rg if r.config\n",
    "        # ):\n",
    "        if not findConfig(rg):\n",
    "            print(\"Best config:\", last_best_result.config)\n",
    "            assert False, f\"The best config from previous fold has not been tested in fold {f}\"\n",
    "        else:\n",
    "            logging.info(f'Fold {f}. Best prev result was {last_best_result.path} and config has been found {findConfig(rg).path}')\n",
    "    \n",
    "    last_best_result = rg.get_best_result()"
   ]
  },
  {
   "cell_type": "code",
   "execution_count": 22,
   "id": "d5bc38c5-05b3-41d0-9eb6-98168aede6ba",
   "metadata": {
    "execution": {
     "iopub.execute_input": "2024-03-09T09:31:13.277564Z",
     "iopub.status.busy": "2024-03-09T09:31:13.277110Z",
     "iopub.status.idle": "2024-03-09T09:31:13.307167Z",
     "shell.execute_reply": "2024-03-09T09:31:13.306888Z"
    },
    "papermill": {
     "duration": 0.041232,
     "end_time": "2024-03-09T09:31:13.307814",
     "exception": false,
     "start_time": "2024-03-09T09:31:13.266582",
     "status": "completed"
    },
    "tags": []
   },
   "outputs": [
    {
     "name": "stdout",
     "output_type": "stream",
     "text": [
      "All finished!\n"
     ]
    }
   ],
   "source": [
    "# This is needed for papermill to run the whole notebook and not stop above\n",
    "# because ray tune catches the exception\n",
    "\n",
    "print(\"All finished!\")"
   ]
  }
 ],
 "metadata": {
  "kernelspec": {
   "display_name": "Python 3 (ipykernel)",
   "language": "python",
   "name": "python3"
  },
  "language_info": {
   "codemirror_mode": {
    "name": "ipython",
    "version": 3
   },
   "file_extension": ".py",
   "mimetype": "text/x-python",
   "name": "python",
   "nbconvert_exporter": "python",
   "pygments_lexer": "ipython3",
   "version": "3.9.18"
  },
  "papermill": {
   "default_parameters": {},
   "duration": 2927.607274,
   "end_time": "2024-03-09T09:31:18.542468",
   "environment_variables": {},
   "exception": null,
   "input_path": "07_microsoft_tuning.ipynb",
   "output_path": "nbout/MetaCartel - MetaCartel Ventures/07_microsoft_tuning.ipynb",
   "parameters": {
    "CUTOFF_DATE_STR": "2020-11-06",
    "EXECUTION_ID": "2024-03-08 10:00",
    "LAST_SPLITS": 10,
    "ORG_NAME": "MetaCartel - MetaCartel Ventures",
    "ORG_PLATFORM": [
     "daohaus",
     "snapshot"
    ],
    "SPLITS_FREQ": "W-THU",
    "SPLITS_NORMALIZE": true,
    "USE_ORG_NAMES": true
   },
   "start_time": "2024-03-09T08:42:30.935194",
   "version": "2.5.0"
  },
  "widgets": {
   "application/vnd.jupyter.widget-state+json": {
    "state": {},
    "version_major": 2,
    "version_minor": 0
   }
  }
 },
 "nbformat": 4,
 "nbformat_minor": 5
}