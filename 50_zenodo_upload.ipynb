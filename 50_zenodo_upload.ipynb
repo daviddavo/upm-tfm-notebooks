{
 "cells": [
  {
   "cell_type": "code",
   "execution_count": 1,
   "id": "b5c5488a-4f6b-4a0f-95ef-3d1d19c6c84c",
   "metadata": {},
   "outputs": [],
   "source": [
    "from typing import List\n",
    "\n",
    "from pathlib import Path"
   ]
  },
  {
   "cell_type": "code",
   "execution_count": 38,
   "id": "4906c653-70d6-4a99-a90d-c9a0b4683514",
   "metadata": {},
   "outputs": [],
   "source": [
    "ZENODO_SANDBOX = True\n",
    "\n",
    "ZENODO_NOMODELS_ID = \"52280\"\n",
    "ZENODO_MODELS_ID = \"52280\""
   ]
  },
  {
   "cell_type": "code",
   "execution_count": 3,
   "id": "c416a061-b95e-4b4b-a5ce-8452ae0f45bf",
   "metadata": {},
   "outputs": [],
   "source": [
    "ray_results_path = Path(\"~/ray_results\").expanduser()\n",
    "assert ray_results_path.is_dir()"
   ]
  },
  {
   "cell_type": "markdown",
   "id": "281da0d7-9086-4dca-84c4-5564f13f33c6",
   "metadata": {},
   "source": [
    "# Upload results"
   ]
  },
  {
   "cell_type": "markdown",
   "id": "4cb286e7-50c3-438d-a936-76fea3386a1c",
   "metadata": {},
   "source": [
    "## Select files to upload"
   ]
  },
  {
   "cell_type": "code",
   "execution_count": 4,
   "id": "cda1711e-7ffe-429d-8445-d4ffde104318",
   "metadata": {},
   "outputs": [
    {
     "name": "stdout",
     "output_type": "stream",
     "text": [
      "Total GB: 24.8716683909297 files: 32229\n"
     ]
    }
   ],
   "source": [
    "def get_files_nomodel():\n",
    "    total = 0\n",
    "    all_paths = []\n",
    "    for f in ray_results_path.rglob('*'):\n",
    "        if not f.is_file() or f.name.startswith('model.data'):\n",
    "            continue\n",
    "        \n",
    "        total += f.stat().st_size\n",
    "        all_paths.append(f)\n",
    "\n",
    "    return total, all_paths\n",
    "\n",
    "total, all_paths = get_files_nomodel()\n",
    "print(\"Total GB:\", total / 2**30, \"files:\", len(all_paths))"
   ]
  },
  {
   "cell_type": "code",
   "execution_count": 5,
   "id": "824e9ac4-170d-4e10-aa92-27ea0f6465c2",
   "metadata": {},
   "outputs": [
    {
     "data": {
      "text/plain": [
       "PosixPath('ray_results/LightGCN_optim=map@10,dao=DEAD FoundationsDAO,freq=2d,normalize=True,cutoff_date=2021-11-28T00:00:00,fold=0_2024-03-21T22:11:14.136280/.validate_storage_marker')"
      ]
     },
     "execution_count": 5,
     "metadata": {},
     "output_type": "execute_result"
    }
   ],
   "source": [
    "all_paths[0].relative_to(Path('~').expanduser())"
   ]
  },
  {
   "cell_type": "markdown",
   "id": "d0e47a5d-e95f-4839-8b1f-6aa77ccaa094",
   "metadata": {},
   "source": [
    "## Create tar"
   ]
  },
  {
   "cell_type": "code",
   "execution_count": 31,
   "id": "3ffcd768-37b0-4360-882a-c8b513285b98",
   "metadata": {},
   "outputs": [],
   "source": [
    "import tarfile\n",
    "from tqdm.autonotebook import tqdm"
   ]
  },
  {
   "cell_type": "code",
   "execution_count": 39,
   "id": "5857b946-2347-4ff2-8a54-ce4dcac274af",
   "metadata": {},
   "outputs": [
    {
     "ename": "NameError",
     "evalue": "name 'all_paths' is not defined",
     "output_type": "error",
     "traceback": [
      "\u001b[0;31m---------------------------------------------------------------------------\u001b[0m",
      "\u001b[0;31mNameError\u001b[0m                                 Traceback (most recent call last)",
      "Cell \u001b[0;32mIn[39], line 35\u001b[0m\n\u001b[1;32m     25\u001b[0m                     pbar\u001b[38;5;241m.\u001b[39mset_postfix({\n\u001b[1;32m     26\u001b[0m                         \u001b[38;5;124m'\u001b[39m\u001b[38;5;124mratio\u001b[39m\u001b[38;5;124m'\u001b[39m: \u001b[38;5;124mf\u001b[39m\u001b[38;5;124m'\u001b[39m\u001b[38;5;132;01m{\u001b[39;00mratio\u001b[38;5;241m*\u001b[39m\u001b[38;5;241m100\u001b[39m\u001b[38;5;132;01m:\u001b[39;00m\u001b[38;5;124m.2f\u001b[39m\u001b[38;5;132;01m}\u001b[39;00m\u001b[38;5;124m%\u001b[39m\u001b[38;5;124m'\u001b[39m,\n\u001b[1;32m     27\u001b[0m                         \u001b[38;5;124m'\u001b[39m\u001b[38;5;124moriginal\u001b[39m\u001b[38;5;124m'\u001b[39m: \u001b[38;5;124mf\u001b[39m\u001b[38;5;124m'\u001b[39m\u001b[38;5;132;01m{\u001b[39;00moriginal_size\u001b[38;5;250m \u001b[39m\u001b[38;5;241m/\u001b[39m\u001b[38;5;250m \u001b[39m\u001b[38;5;241m2\u001b[39m\u001b[38;5;241m*\u001b[39m\u001b[38;5;241m*\u001b[39m\u001b[38;5;241m30\u001b[39m\u001b[38;5;132;01m:\u001b[39;00m\u001b[38;5;124m.2f\u001b[39m\u001b[38;5;132;01m}\u001b[39;00m\u001b[38;5;124mG\u001b[39m\u001b[38;5;124m'\u001b[39m,\n\u001b[1;32m     28\u001b[0m                         \u001b[38;5;124m'\u001b[39m\u001b[38;5;124mactual\u001b[39m\u001b[38;5;124m'\u001b[39m: \u001b[38;5;124mf\u001b[39m\u001b[38;5;124m'\u001b[39m\u001b[38;5;132;01m{\u001b[39;00mfinal_size\u001b[38;5;250m \u001b[39m\u001b[38;5;241m/\u001b[39m\u001b[38;5;250m \u001b[39m\u001b[38;5;241m2\u001b[39m\u001b[38;5;241m*\u001b[39m\u001b[38;5;241m*\u001b[39m\u001b[38;5;241m30\u001b[39m\u001b[38;5;132;01m:\u001b[39;00m\u001b[38;5;124m.2f\u001b[39m\u001b[38;5;132;01m}\u001b[39;00m\u001b[38;5;124mG\u001b[39m\u001b[38;5;124m'\u001b[39m,\n\u001b[1;32m     29\u001b[0m                         \u001b[38;5;124m'\u001b[39m\u001b[38;5;124mest.\u001b[39m\u001b[38;5;124m'\u001b[39m: \u001b[38;5;124mf\u001b[39m\u001b[38;5;124m'\u001b[39m\u001b[38;5;132;01m{\u001b[39;00mratio\u001b[38;5;241m*\u001b[39moriginal_total\u001b[38;5;250m \u001b[39m\u001b[38;5;241m/\u001b[39m\u001b[38;5;250m \u001b[39m\u001b[38;5;241m2\u001b[39m\u001b[38;5;241m*\u001b[39m\u001b[38;5;241m*\u001b[39m\u001b[38;5;241m30\u001b[39m\u001b[38;5;132;01m:\u001b[39;00m\u001b[38;5;124m.2f\u001b[39m\u001b[38;5;132;01m}\u001b[39;00m\u001b[38;5;124mG\u001b[39m\u001b[38;5;124m'\u001b[39m,\n\u001b[1;32m     30\u001b[0m                     })\n\u001b[1;32m     32\u001b[0m     \u001b[38;5;28mprint\u001b[39m(\u001b[38;5;124mf\u001b[39m\u001b[38;5;124m\"\u001b[39m\u001b[38;5;124mOriginal size: \u001b[39m\u001b[38;5;132;01m{\u001b[39;00moriginal_size\u001b[38;5;241m/\u001b[39m\u001b[38;5;250m \u001b[39m\u001b[38;5;241m2\u001b[39m\u001b[38;5;241m*\u001b[39m\u001b[38;5;241m*\u001b[39m\u001b[38;5;241m30\u001b[39m\u001b[38;5;132;01m}\u001b[39;00m\u001b[38;5;124mG, New size: \u001b[39m\u001b[38;5;132;01m{\u001b[39;00mfinal_size\u001b[38;5;250m \u001b[39m\u001b[38;5;241m/\u001b[39m\u001b[38;5;250m \u001b[39m\u001b[38;5;241m2\u001b[39m\u001b[38;5;241m*\u001b[39m\u001b[38;5;241m*\u001b[39m\u001b[38;5;241m30\u001b[39m\u001b[38;5;132;01m}\u001b[39;00m\u001b[38;5;124mG, ratio: \u001b[39m\u001b[38;5;132;01m{\u001b[39;00mfinal_size\u001b[38;5;250m \u001b[39m\u001b[38;5;241m/\u001b[39m\u001b[38;5;250m \u001b[39moriginal_size\u001b[38;5;241m*\u001b[39m\u001b[38;5;241m100\u001b[39m\u001b[38;5;132;01m:\u001b[39;00m\u001b[38;5;124m.2f\u001b[39m\u001b[38;5;132;01m}\u001b[39;00m\u001b[38;5;124m%\u001b[39m\u001b[38;5;124m\"\u001b[39m)\n\u001b[0;32m---> 35\u001b[0m compress_files(Path(\u001b[38;5;124m\"\u001b[39m\u001b[38;5;124mray_results_nomodels.tar.xz\u001b[39m\u001b[38;5;124m\"\u001b[39m), \u001b[38;5;124m\"\u001b[39m\u001b[38;5;124mxz\u001b[39m\u001b[38;5;124m\"\u001b[39m, \u001b[43mall_paths\u001b[49m)\n",
      "\u001b[0;31mNameError\u001b[0m: name 'all_paths' is not defined"
     ]
    }
   ],
   "source": [
    "def compress_files(tar_fname, compress, flist):\n",
    "    if tar_fname.exists():\n",
    "        try:\n",
    "            with tarfile.open(tar_fname, f'r:*') as tar:\n",
    "                if len(tar.getnames()) == len(flist):\n",
    "                    print(\"Same length, not removing\", len(tar.getnames()), len(flist))\n",
    "                    return\n",
    "                else:\n",
    "                    tar_fname.unlink()\n",
    "        except:\n",
    "            tar_fname.unlink()\n",
    "    \n",
    "    original_size = 0\n",
    "    original_total = sum(f.stat().st_size for f in flist)\n",
    "    with tarfile.open(tar_fname, f'x:{compress}') as tar:\n",
    "        with tqdm(total=len(flist)) as pbar:\n",
    "            for i, f in enumerate(flist):\n",
    "                original_size += f.stat().st_size\n",
    "                tar.add(f, recursive=False, arcname=f.relative_to(Path('~').expanduser()))\n",
    "                pbar.update()\n",
    "    \n",
    "                if i % 5 == 0 and i > 1:\n",
    "                    final_size = tar_fname.stat().st_size\n",
    "                    ratio = final_size / original_size\n",
    "                    pbar.set_postfix({\n",
    "                        'ratio': f'{ratio*100:.2f}%',\n",
    "                        'original': f'{original_size / 2**30:.2f}G',\n",
    "                        'actual': f'{final_size / 2**30:.2f}G',\n",
    "                        'est.': f'{ratio*original_total / 2**30:.2f}G',\n",
    "                    })\n",
    "\n",
    "    print(f\"Original size: {original_size/ 2**30}G, New size: {final_size / 2**30}G, ratio: {final_size / original_size*100:.2f}%\")\n",
    "\n",
    "\n",
    "compress_files(Path(\"ray_results_nomodels.tar.xz\"), \"xz\", all_paths)"
   ]
  },
  {
   "cell_type": "markdown",
   "id": "46f00384-67e5-45c9-8256-18d1b2bba3f6",
   "metadata": {},
   "source": [
    "## Upload to Zenodo"
   ]
  },
  {
   "cell_type": "code",
   "execution_count": 78,
   "id": "398ba2e3-ec7d-4b33-9205-39bf1969e29e",
   "metadata": {},
   "outputs": [
    {
     "name": "stdout",
     "output_type": "stream",
     "text": [
      "3ba771d323dc8c5b9a285eeab8b3731c  ray_results_nomodels.tar.xz\n"
     ]
    }
   ],
   "source": [
    "!md5sum \"ray_results_nomodels.tar.xz\""
   ]
  },
  {
   "cell_type": "code",
   "execution_count": 80,
   "id": "e6470c65-2be8-4aed-ba45-e3abe04a1bef",
   "metadata": {},
   "outputs": [
    {
     "data": {
      "application/vnd.jupyter.widget-view+json": {
       "model_id": "a2e31bb7e3a6437fa52eb19d62644480",
       "version_major": 2,
       "version_minor": 0
      },
      "text/plain": [
       "ray_results_nomodels.tar.xz:   0%|          | 0.00/2.09G [00:00<?, ?B/s]"
      ]
     },
     "metadata": {},
     "output_type": "display_data"
    },
    {
     "name": "stdout",
     "output_type": "stream",
     "text": [
      "Remember to publish https://sandbox.zenodo.org/api/deposit/depositions/52280\n"
     ]
    }
   ],
   "source": [
    "import requests\n",
    "from requests_toolbelt import MultipartEncoder, MultipartEncoderMonitor\n",
    "from zenodo_client import Zenodo\n",
    "\n",
    "class ZenodoPlus(Zenodo):\n",
    "    def _upload_big_files(self, *, bucket: str, paths, done=[]) -> List[requests.Response]:\n",
    "        _paths = [paths] if isinstance(paths, (str, Path)) else paths\n",
    "        _paths = [ Path(p) for p in _paths]\n",
    "        _done_dict = { f['filename'] : f for f in done }\n",
    "    \n",
    "        rv = []\n",
    "        # see https://developers.zenodo.org/#quickstart-upload\n",
    "        for path in _paths:\n",
    "            total_size = path.stat().st_size\n",
    "            \n",
    "            if path.name in _done_dict:\n",
    "                _info = _done_dict[path.name]\n",
    "                print(\"Should skip?\", total_size)\n",
    "                print(_info)\n",
    "                raise\n",
    "            \n",
    "            with tqdm(\n",
    "                desc=str(path),\n",
    "                total=total_size,\n",
    "                unit='B',\n",
    "                unit_scale=True,\n",
    "                unit_divisor=1024,\n",
    "            ) as pbar:\n",
    "                with open(path, \"rb\") as file:\n",
    "                    e = MultipartEncoder(fields={'file': (path.name, file, 'text/plain')})\n",
    "                    m = MultipartEncoderMonitor(\n",
    "                        e, lambda monitor: pbar.update(monitor.bytes_read - pbar.n)\n",
    "                    )\n",
    "\n",
    "                    assert e.len >= total_size, \"Encoder should have bigger size than file\"\n",
    "                    res = requests.put(\n",
    "                        f\"{bucket}/{path.name}\",\n",
    "                        data=m,\n",
    "                        params={\"access_token\": self.access_token},\n",
    "                        # headers={'Content-Type': m.content_type},\n",
    "                    )\n",
    "\n",
    "            res.raise_for_status()\n",
    "            rv.append(res)\n",
    "        return rv\n",
    "    \n",
    "    def upload_to_record(self, deposition_id: str, paths):\n",
    "        url = f\"{self.depositions_base}/{deposition_id}\"\n",
    "        res = requests.get(url, params={\"access_token\": self.access_token})\n",
    "        res.raise_for_status()\n",
    "\n",
    "        deposition_data = res.json()\n",
    "\n",
    "        bucket = deposition_data['links']['bucket']\n",
    "        self._upload_big_files(bucket=bucket, paths=paths, done=deposition_data['files'])\n",
    "\n",
    "Z = ZenodoPlus(sandbox=ZENODO_SANDBOX)\n",
    "Z.upload_to_record(ZENODO_NOMODELS_ID, [\"ray_results_nomodels.tar.xz\"])\n",
    "print(f\"Remember to publish {Z.depositions_base}/{ZENODO_NOMODELS_ID}\")"
   ]
  },
  {
   "cell_type": "markdown",
   "id": "43072d7b-376e-4a4d-a62d-656190871207",
   "metadata": {},
   "source": [
    "# Upload models"
   ]
  },
  {
   "cell_type": "code",
   "execution_count": 9,
   "id": "51fb05b4-6275-4ce3-81e1-414f78f26f02",
   "metadata": {},
   "outputs": [
    {
     "name": "stdout",
     "output_type": "stream",
     "text": [
      "Total GB: 62.57409965991974 files: 32229\n"
     ]
    }
   ],
   "source": [
    "def get_files_model():\n",
    "    total = 0\n",
    "    all_paths = []\n",
    "    for f in ray_results_path.rglob('*'):\n",
    "        if not f.is_file() or not f.name.startswith('model.data'):\n",
    "            continue\n",
    "        \n",
    "        total += f.stat().st_size\n",
    "        all_paths.append(f)\n",
    "\n",
    "    return total, all_paths\n",
    "\n",
    "total, model_paths = get_files_model()\n",
    "print(\"Total GB:\", total / 2**30, \"files:\", len(all_paths))"
   ]
  },
  {
   "cell_type": "code",
   "execution_count": 10,
   "id": "bcfcd80b-77a7-4f59-9482-4fbd35238bbe",
   "metadata": {},
   "outputs": [
    {
     "name": "stdout",
     "output_type": "stream",
     "text": [
      "Same length, not removing 4000 4000\n"
     ]
    }
   ],
   "source": [
    "compress_files(Path(\"ray_results_models.tar.xz\"), \"xz\", model_paths)"
   ]
  },
  {
   "cell_type": "code",
   "execution_count": null,
   "id": "2ae3023c-d985-475f-adf4-94c9a2e03f94",
   "metadata": {},
   "outputs": [],
   "source": []
  }
 ],
 "metadata": {
  "kernelspec": {
   "display_name": "Python 3 (ipykernel)",
   "language": "python",
   "name": "python3"
  },
  "language_info": {
   "codemirror_mode": {
    "name": "ipython",
    "version": 3
   },
   "file_extension": ".py",
   "mimetype": "text/x-python",
   "name": "python",
   "nbconvert_exporter": "python",
   "pygments_lexer": "ipython3",
   "version": "3.9.18"
  },
  "widgets": {
   "application/vnd.jupyter.widget-state+json": {
    "state": {
     "00c9bf2841b64f16adf39465ca650f51": {
      "model_module": "@jupyter-widgets/base",
      "model_module_version": "2.0.0",
      "model_name": "LayoutModel",
      "state": {}
     },
     "00e79963352c44e08f5daadc99c3164a": {
      "model_module": "@jupyter-widgets/controls",
      "model_module_version": "2.0.0",
      "model_name": "HTMLStyleModel",
      "state": {
       "description_width": "",
       "font_size": null,
       "text_color": null
      }
     },
     "0151a5f9109c4ba58a1566f39e47634b": {
      "model_module": "@jupyter-widgets/base",
      "model_module_version": "2.0.0",
      "model_name": "LayoutModel",
      "state": {}
     },
     "01ee1a6593fe4252a2b3c5c155050c90": {
      "model_module": "@jupyter-widgets/controls",
      "model_module_version": "2.0.0",
      "model_name": "ProgressStyleModel",
      "state": {
       "description_width": ""
      }
     },
     "01f03c60e18e4ef8864780e2e6d7542f": {
      "model_module": "@jupyter-widgets/controls",
      "model_module_version": "2.0.0",
      "model_name": "ProgressStyleModel",
      "state": {
       "description_width": ""
      }
     },
     "02333c8f3c1647488d137e19a20dab11": {
      "model_module": "@jupyter-widgets/controls",
      "model_module_version": "2.0.0",
      "model_name": "ProgressStyleModel",
      "state": {
       "description_width": ""
      }
     },
     "036165ca10654d95ae4ee78550baf639": {
      "model_module": "@jupyter-widgets/base",
      "model_module_version": "2.0.0",
      "model_name": "LayoutModel",
      "state": {}
     },
     "038e1fdecd834189a7d551acc2b0fd11": {
      "model_module": "@jupyter-widgets/base",
      "model_module_version": "2.0.0",
      "model_name": "LayoutModel",
      "state": {}
     },
     "03c51cfb0e3c43f9a4ce9d14f48cc0e0": {
      "model_module": "@jupyter-widgets/base",
      "model_module_version": "2.0.0",
      "model_name": "LayoutModel",
      "state": {}
     },
     "0585bec66c704e35b345a6afcb170ee2": {
      "model_module": "@jupyter-widgets/controls",
      "model_module_version": "2.0.0",
      "model_name": "HTMLModel",
      "state": {
       "layout": "IPY_MODEL_2d7ea7846bda4de38c23ba5acf8c63e5",
       "style": "IPY_MODEL_8c6530952f1f4ba5a2e0f0eb21498c0a",
       "value": " 27.5M/2.09G [00:02&lt;03:06, 11.8MB/s]"
      }
     },
     "06223ae85b614135bae303ccf4578b58": {
      "model_module": "@jupyter-widgets/controls",
      "model_module_version": "2.0.0",
      "model_name": "HTMLStyleModel",
      "state": {
       "description_width": "",
       "font_size": null,
       "text_color": null
      }
     },
     "06efc0baf14c484da5081f854c88cf8e": {
      "model_module": "@jupyter-widgets/controls",
      "model_module_version": "2.0.0",
      "model_name": "HTMLModel",
      "state": {
       "layout": "IPY_MODEL_87b239374d5144ffabb8a842bae20f31",
       "style": "IPY_MODEL_b331168a3b8341d6bc60f4bee5907298",
       "value": "ray_results_nomodels.tar.xz:   0%"
      }
     },
     "0a31b0b990f44bb08ee9251116a422cf": {
      "model_module": "@jupyter-widgets/base",
      "model_module_version": "2.0.0",
      "model_name": "LayoutModel",
      "state": {}
     },
     "0a9717f374914e418aeafa8f0ddccf16": {
      "model_module": "@jupyter-widgets/base",
      "model_module_version": "2.0.0",
      "model_name": "LayoutModel",
      "state": {}
     },
     "0aa7a468a5a541fca01a24125b6871ee": {
      "model_module": "@jupyter-widgets/controls",
      "model_module_version": "2.0.0",
      "model_name": "HTMLStyleModel",
      "state": {
       "description_width": "",
       "font_size": null,
       "text_color": null
      }
     },
     "0ab75fbc188942019226bc55a4d9a536": {
      "model_module": "@jupyter-widgets/base",
      "model_module_version": "2.0.0",
      "model_name": "LayoutModel",
      "state": {}
     },
     "0ac2514669d24b5095b039e55eb6e0c3": {
      "model_module": "@jupyter-widgets/controls",
      "model_module_version": "2.0.0",
      "model_name": "HTMLStyleModel",
      "state": {
       "description_width": "",
       "font_size": null,
       "text_color": null
      }
     },
     "0cda9e0a73e349b3bb34dd06633a92ea": {
      "model_module": "@jupyter-widgets/base",
      "model_module_version": "2.0.0",
      "model_name": "LayoutModel",
      "state": {}
     },
     "0dae2221653140cfa358b88d77e65b28": {
      "model_module": "@jupyter-widgets/base",
      "model_module_version": "2.0.0",
      "model_name": "LayoutModel",
      "state": {}
     },
     "0db87f0cef0e415c8e4a373952dde14a": {
      "model_module": "@jupyter-widgets/base",
      "model_module_version": "2.0.0",
      "model_name": "LayoutModel",
      "state": {}
     },
     "0ee53441de8948edb83d1af2747fd714": {
      "model_module": "@jupyter-widgets/controls",
      "model_module_version": "2.0.0",
      "model_name": "HTMLModel",
      "state": {
       "layout": "IPY_MODEL_b64238b0d3ed46a39767bfb02d6e88d8",
       "style": "IPY_MODEL_9bc8349e5423458787049eaa609b6e2b",
       "value": "ray_results_nomodels.tar.xz:  16%"
      }
     },
     "11f74cef0d9a491d812771445d477e42": {
      "model_module": "@jupyter-widgets/controls",
      "model_module_version": "2.0.0",
      "model_name": "HTMLStyleModel",
      "state": {
       "description_width": "",
       "font_size": null,
       "text_color": null
      }
     },
     "11fa4eb92ee548f7ac2b31bc8e6dfb0d": {
      "model_module": "@jupyter-widgets/base",
      "model_module_version": "2.0.0",
      "model_name": "LayoutModel",
      "state": {}
     },
     "13bc2e3798c54570b0ac7867e5e77f50": {
      "model_module": "@jupyter-widgets/controls",
      "model_module_version": "2.0.0",
      "model_name": "ProgressStyleModel",
      "state": {
       "description_width": ""
      }
     },
     "13d947c44a784ecd925864f04fa10dbe": {
      "model_module": "@jupyter-widgets/base",
      "model_module_version": "2.0.0",
      "model_name": "LayoutModel",
      "state": {}
     },
     "15af3e2698d74164af8ed0a70fbdfa85": {
      "model_module": "@jupyter-widgets/controls",
      "model_module_version": "2.0.0",
      "model_name": "HTMLModel",
      "state": {
       "layout": "IPY_MODEL_ff997e91d9f04440a18bc40017d823a8",
       "style": "IPY_MODEL_4b9f5632b5384b37837cf046ab7a9938",
       "value": "ray_results_nomodels.tar.xz: "
      }
     },
     "17f5720ebdbc46a7a0702c3fe6943cf4": {
      "model_module": "@jupyter-widgets/controls",
      "model_module_version": "2.0.0",
      "model_name": "HTMLModel",
      "state": {
       "layout": "IPY_MODEL_b3b46b18007c4231aa31b6fe58bdc51e",
       "style": "IPY_MODEL_a7f8ad4534bd4d0dbd524f8f5e7a180d"
      }
     },
     "18593a86fa6542399aa3ce213b9f338f": {
      "model_module": "@jupyter-widgets/controls",
      "model_module_version": "2.0.0",
      "model_name": "HBoxModel",
      "state": {
       "children": [
        "IPY_MODEL_5eeee495c94342899a5c3dd580ee449a",
        "IPY_MODEL_6f2e58517b7142d8a389c73cc4a576b6",
        "IPY_MODEL_6cebe9cb50fd422c9c76c43c1ea28b4c"
       ],
       "layout": "IPY_MODEL_3eab66b80c4c45f597989e8157a50858"
      }
     },
     "187c3c0748f34d3d946b3d768ade8c71": {
      "model_module": "@jupyter-widgets/base",
      "model_module_version": "2.0.0",
      "model_name": "LayoutModel",
      "state": {}
     },
     "19606f3188eb4b519174bafd5c0625be": {
      "model_module": "@jupyter-widgets/controls",
      "model_module_version": "2.0.0",
      "model_name": "FloatProgressModel",
      "state": {
       "bar_style": "success",
       "layout": "IPY_MODEL_ca7a680923e54fb89813a5d9bc82f9d6",
       "max": 2239802060,
       "style": "IPY_MODEL_615ce7f71aac4bf18eb7097779e9ad6d",
       "value": 2239802060
      }
     },
     "1991b39b3637414cb19e95f25e973543": {
      "model_module": "@jupyter-widgets/controls",
      "model_module_version": "2.0.0",
      "model_name": "HTMLStyleModel",
      "state": {
       "description_width": "",
       "font_size": null,
       "text_color": null
      }
     },
     "1a9c012d48594851a1110de07a39af0c": {
      "model_module": "@jupyter-widgets/controls",
      "model_module_version": "2.0.0",
      "model_name": "HTMLModel",
      "state": {
       "layout": "IPY_MODEL_3ab78536bbc648838c67de24be774a44",
       "style": "IPY_MODEL_f12f8addcc9b436d966e0dd1083c317e",
       "value": " 0.00/2.09G [00:00&lt;?, ?B/s]"
      }
     },
     "1c3eddbff36a4e509740118ce152aa8e": {
      "model_module": "@jupyter-widgets/base",
      "model_module_version": "2.0.0",
      "model_name": "LayoutModel",
      "state": {}
     },
     "1cbba73da5dc48848c3f584457a45916": {
      "model_module": "@jupyter-widgets/controls",
      "model_module_version": "2.0.0",
      "model_name": "HBoxModel",
      "state": {
       "children": [
        "IPY_MODEL_be8295c974cd40059bad3b014d4522c4",
        "IPY_MODEL_59c7391867a14012a1da8a5c3d58882d",
        "IPY_MODEL_da2d0a975a894615a1c8373ff01930a1"
       ],
       "layout": "IPY_MODEL_4b5ede08e3944de5813ac503ae5b49d0"
      }
     },
     "1cc38d0b27824519aea8ffa7fd6134b0": {
      "model_module": "@jupyter-widgets/base",
      "model_module_version": "2.0.0",
      "model_name": "LayoutModel",
      "state": {}
     },
     "1dbe474ffad94f7282de673fd7c77b11": {
      "model_module": "@jupyter-widgets/base",
      "model_module_version": "2.0.0",
      "model_name": "LayoutModel",
      "state": {}
     },
     "1e2d8049b1624fafba83df3d427faaf2": {
      "model_module": "@jupyter-widgets/controls",
      "model_module_version": "2.0.0",
      "model_name": "HTMLModel",
      "state": {
       "layout": "IPY_MODEL_0cda9e0a73e349b3bb34dd06633a92ea",
       "style": "IPY_MODEL_b3b743f5b1fc477cb8371cf5d2be126f",
       "value": "ray_results_nomodels.tar.xz:   0%"
      }
     },
     "1ea5950c5496404bbb3ca515cc0ad2f8": {
      "model_module": "@jupyter-widgets/controls",
      "model_module_version": "2.0.0",
      "model_name": "FloatProgressModel",
      "state": {
       "bar_style": "danger",
       "layout": "IPY_MODEL_7943eef25cab4db8a110918a4049a4b0",
       "max": 2239802060,
       "style": "IPY_MODEL_a20683c8d752407194fd4000b868ef89"
      }
     },
     "204f4977eef740ebb9599406a2629ace": {
      "model_module": "@jupyter-widgets/controls",
      "model_module_version": "2.0.0",
      "model_name": "FloatProgressModel",
      "state": {
       "layout": "IPY_MODEL_d8138b3376b248a28b98d16015d63b9e",
       "max": 2239802060,
       "style": "IPY_MODEL_788440023c71427096bacefb06243763"
      }
     },
     "2185e5969a47431dadd3166bb65f7fa4": {
      "model_module": "@jupyter-widgets/base",
      "model_module_version": "2.0.0",
      "model_name": "LayoutModel",
      "state": {}
     },
     "2276397f418d448abc3e89a50e6d2cb4": {
      "model_module": "@jupyter-widgets/controls",
      "model_module_version": "2.0.0",
      "model_name": "HTMLModel",
      "state": {
       "layout": "IPY_MODEL_71cd25fbb1034ea2a2e29978f3366933",
       "style": "IPY_MODEL_798f8657554548ac8afd5ee577628e50",
       "value": "ray_results_nomodels.tar.xz: "
      }
     },
     "2528838e31f64b38a0e785bfc342d022": {
      "model_module": "@jupyter-widgets/controls",
      "model_module_version": "2.0.0",
      "model_name": "HTMLModel",
      "state": {
       "layout": "IPY_MODEL_60d9a95ac5e54e0883ef5300c47d2ebc",
       "style": "IPY_MODEL_79fbde19fa7345fdb4c5be0e2e4e2f14",
       "value": "ray_results_nomodels.tar.xz:   1%"
      }
     },
     "25f0a14f9e7e4017b64d5382b12d816e": {
      "model_module": "@jupyter-widgets/controls",
      "model_module_version": "2.0.0",
      "model_name": "ProgressStyleModel",
      "state": {
       "description_width": ""
      }
     },
     "27306921f3a140d6afbd55da57fa3bfb": {
      "model_module": "@jupyter-widgets/base",
      "model_module_version": "2.0.0",
      "model_name": "LayoutModel",
      "state": {}
     },
     "27abf68c1c5f49a6871f5e93ffbd4ba6": {
      "model_module": "@jupyter-widgets/base",
      "model_module_version": "2.0.0",
      "model_name": "LayoutModel",
      "state": {}
     },
     "29098d88d8904a12bd9bb217137533b2": {
      "model_module": "@jupyter-widgets/controls",
      "model_module_version": "2.0.0",
      "model_name": "ProgressStyleModel",
      "state": {
       "description_width": ""
      }
     },
     "294db9968c3e4779905c25fd034cee44": {
      "model_module": "@jupyter-widgets/controls",
      "model_module_version": "2.0.0",
      "model_name": "HTMLStyleModel",
      "state": {
       "description_width": "",
       "font_size": null,
       "text_color": null
      }
     },
     "2c75779af562417d94db956d2ad2bc90": {
      "model_module": "@jupyter-widgets/controls",
      "model_module_version": "2.0.0",
      "model_name": "ProgressStyleModel",
      "state": {
       "description_width": ""
      }
     },
     "2d17e0e448804beeb93e208134558518": {
      "model_module": "@jupyter-widgets/controls",
      "model_module_version": "2.0.0",
      "model_name": "HTMLModel",
      "state": {
       "layout": "IPY_MODEL_4c6b47c94f8547d69cde3764a45c2553",
       "style": "IPY_MODEL_71fc7138fa9449619d04ff91f13ea727",
       "value": "ray_results_nomodels.tar.xz:   0%"
      }
     },
     "2d38c8d75fcc46a4900c0034e0d8ed71": {
      "model_module": "@jupyter-widgets/controls",
      "model_module_version": "2.0.0",
      "model_name": "FloatProgressModel",
      "state": {
       "bar_style": "danger",
       "layout": "IPY_MODEL_0ab75fbc188942019226bc55a4d9a536",
       "max": 2239802060,
       "style": "IPY_MODEL_01f03c60e18e4ef8864780e2e6d7542f",
       "value": 39501824
      }
     },
     "2d7ea7846bda4de38c23ba5acf8c63e5": {
      "model_module": "@jupyter-widgets/base",
      "model_module_version": "2.0.0",
      "model_name": "LayoutModel",
      "state": {}
     },
     "2e35f58740244c29a64586c5675e7829": {
      "model_module": "@jupyter-widgets/base",
      "model_module_version": "2.0.0",
      "model_name": "LayoutModel",
      "state": {}
     },
     "2ee0970c1baa419fb732a5b47676f030": {
      "model_module": "@jupyter-widgets/controls",
      "model_module_version": "2.0.0",
      "model_name": "FloatProgressModel",
      "state": {
       "bar_style": "success",
       "layout": "IPY_MODEL_de478cd5905c4148b7a0084242961548",
       "max": 2239802060,
       "style": "IPY_MODEL_3f8fa2d2934a48f2ac846edf51521d06",
       "value": 2239802060
      }
     },
     "2f4f86b13a6b48968056ae6b0c2491fe": {
      "model_module": "@jupyter-widgets/controls",
      "model_module_version": "2.0.0",
      "model_name": "HTMLStyleModel",
      "state": {
       "description_width": "",
       "font_size": null,
       "text_color": null
      }
     },
     "2f5e8441cf794daaadc80b561fb1ecb4": {
      "model_module": "@jupyter-widgets/controls",
      "model_module_version": "2.0.0",
      "model_name": "HBoxModel",
      "state": {
       "children": [
        "IPY_MODEL_15af3e2698d74164af8ed0a70fbdfa85",
        "IPY_MODEL_b0c01c58add0439cb30691aac1ac1fce",
        "IPY_MODEL_a1afb5f3b5cf43d9b589643b80207151"
       ],
       "layout": "IPY_MODEL_b53fcaa7a79442ebbfa0cdd52b687c47"
      }
     },
     "32b556c0c59948a7b8cea78610c2c00f": {
      "model_module": "@jupyter-widgets/controls",
      "model_module_version": "2.0.0",
      "model_name": "FloatProgressModel",
      "state": {
       "bar_style": "danger",
       "layout": "IPY_MODEL_6c06fbb4f0ec4617bb4054e72f8682ca",
       "max": 2239802060,
       "style": "IPY_MODEL_02333c8f3c1647488d137e19a20dab11",
       "value": 25460736
      }
     },
     "34d9d6d505174cd388ab9605558f5744": {
      "model_module": "@jupyter-widgets/controls",
      "model_module_version": "2.0.0",
      "model_name": "HTMLModel",
      "state": {
       "layout": "IPY_MODEL_f07d9cb014d2468d87bd57a8f0fa1d51",
       "style": "IPY_MODEL_8ff357472b584b70b1b097d863fcd315",
       "value": "ray_results_nomodels.tar.xz:   0%"
      }
     },
     "354a857cc5ad436b8cab231e7af813a1": {
      "model_module": "@jupyter-widgets/controls",
      "model_module_version": "2.0.0",
      "model_name": "HTMLStyleModel",
      "state": {
       "description_width": "",
       "font_size": null,
       "text_color": null
      }
     },
     "38afa7b1dce84e3db3d9e82838f874dd": {
      "model_module": "@jupyter-widgets/controls",
      "model_module_version": "2.0.0",
      "model_name": "ProgressStyleModel",
      "state": {
       "description_width": ""
      }
     },
     "3a7abb299edc4d70a8e534bd5206778e": {
      "model_module": "@jupyter-widgets/controls",
      "model_module_version": "2.0.0",
      "model_name": "FloatProgressModel",
      "state": {
       "bar_style": "danger",
       "layout": "IPY_MODEL_0151a5f9109c4ba58a1566f39e47634b",
       "max": 2239802060,
       "style": "IPY_MODEL_4bb3a76345764dc1b5902c96bb572404"
      }
     },
     "3ab78536bbc648838c67de24be774a44": {
      "model_module": "@jupyter-widgets/base",
      "model_module_version": "2.0.0",
      "model_name": "LayoutModel",
      "state": {}
     },
     "3af570fc66214fb49b874278a699e1db": {
      "model_module": "@jupyter-widgets/base",
      "model_module_version": "2.0.0",
      "model_name": "LayoutModel",
      "state": {}
     },
     "3b160269ac8449e2a6cb97403a93cfad": {
      "model_module": "@jupyter-widgets/controls",
      "model_module_version": "2.0.0",
      "model_name": "HTMLStyleModel",
      "state": {
       "description_width": "",
       "font_size": null,
       "text_color": null
      }
     },
     "3b33602bf12e4b96ad600ec4b68c5b68": {
      "model_module": "@jupyter-widgets/controls",
      "model_module_version": "2.0.0",
      "model_name": "HTMLStyleModel",
      "state": {
       "description_width": "",
       "font_size": null,
       "text_color": null
      }
     },
     "3eab66b80c4c45f597989e8157a50858": {
      "model_module": "@jupyter-widgets/base",
      "model_module_version": "2.0.0",
      "model_name": "LayoutModel",
      "state": {}
     },
     "3f22155aa53a4e5a89d946dfafa5bfdb": {
      "model_module": "@jupyter-widgets/controls",
      "model_module_version": "2.0.0",
      "model_name": "FloatProgressModel",
      "state": {
       "bar_style": "danger",
       "layout": "IPY_MODEL_97dc286fadaa4754b6ec37b6c941fd18",
       "max": 2239802060,
       "style": "IPY_MODEL_8e820abd86934493a1b3905600d9970d"
      }
     },
     "3f8fa2d2934a48f2ac846edf51521d06": {
      "model_module": "@jupyter-widgets/controls",
      "model_module_version": "2.0.0",
      "model_name": "ProgressStyleModel",
      "state": {
       "description_width": ""
      }
     },
     "3fa61a4b55224e7aa1e1b6633112f7df": {
      "model_module": "@jupyter-widgets/base",
      "model_module_version": "2.0.0",
      "model_name": "LayoutModel",
      "state": {}
     },
     "3fbb52e111db406bbadcc19ff8de96d9": {
      "model_module": "@jupyter-widgets/controls",
      "model_module_version": "2.0.0",
      "model_name": "HTMLModel",
      "state": {
       "layout": "IPY_MODEL_13d947c44a784ecd925864f04fa10dbe",
       "style": "IPY_MODEL_849d1e35d4a3428ab06cf413262cf03d",
       "value": "ray_results_nomodels.tar.xz:   0%"
      }
     },
     "3fd0d2bd9f7d49feaf4cd1278e5a7e5a": {
      "model_module": "@jupyter-widgets/base",
      "model_module_version": "2.0.0",
      "model_name": "LayoutModel",
      "state": {}
     },
     "3fec4041e2bc4f56ab5bb371f0293005": {
      "model_module": "@jupyter-widgets/base",
      "model_module_version": "2.0.0",
      "model_name": "LayoutModel",
      "state": {}
     },
     "403f1ee00d6c479bafabcd243d42a371": {
      "model_module": "@jupyter-widgets/controls",
      "model_module_version": "2.0.0",
      "model_name": "HTMLStyleModel",
      "state": {
       "description_width": "",
       "font_size": null,
       "text_color": null
      }
     },
     "421610ac16cc4aebb3ea29105cb4a885": {
      "model_module": "@jupyter-widgets/controls",
      "model_module_version": "2.0.0",
      "model_name": "HBoxModel",
      "state": {
       "children": [
        "IPY_MODEL_0ee53441de8948edb83d1af2747fd714",
        "IPY_MODEL_c8cb4acb2d8341748e9ef904fbf22a2b",
        "IPY_MODEL_f2da6ca22337493784672e9aaedbfdf0"
       ],
       "layout": "IPY_MODEL_8b763b53f8fe47468170276b4983e658"
      }
     },
     "4402096cd69f480bbce147d857b93765": {
      "model_module": "@jupyter-widgets/controls",
      "model_module_version": "2.0.0",
      "model_name": "ProgressStyleModel",
      "state": {
       "description_width": ""
      }
     },
     "44235155668643969eebd4181652c2dd": {
      "model_module": "@jupyter-widgets/base",
      "model_module_version": "2.0.0",
      "model_name": "LayoutModel",
      "state": {}
     },
     "45ffb507ea54429fba52032cdb4b064f": {
      "model_module": "@jupyter-widgets/controls",
      "model_module_version": "2.0.0",
      "model_name": "HTMLModel",
      "state": {
       "layout": "IPY_MODEL_8525c45ea8184670933dba86a08dac82",
       "style": "IPY_MODEL_4e1c5ee5385d4110abd7d3c58b7d05aa",
       "value": "ray_results_nomodels.tar.xz:   0%"
      }
     },
     "4686599d11f24f24af8543c6011ddecf": {
      "model_module": "@jupyter-widgets/base",
      "model_module_version": "2.0.0",
      "model_name": "LayoutModel",
      "state": {}
     },
     "46d1dd814fef4f059f2e4d2779482a45": {
      "model_module": "@jupyter-widgets/base",
      "model_module_version": "2.0.0",
      "model_name": "LayoutModel",
      "state": {}
     },
     "48d38c0a61a548d1b773b94c52e8c8fa": {
      "model_module": "@jupyter-widgets/base",
      "model_module_version": "2.0.0",
      "model_name": "LayoutModel",
      "state": {}
     },
     "4959cfe961894933b522bd826b106d23": {
      "model_module": "@jupyter-widgets/controls",
      "model_module_version": "2.0.0",
      "model_name": "HTMLStyleModel",
      "state": {
       "description_width": "",
       "font_size": null,
       "text_color": null
      }
     },
     "4a8360cd88714cdab64e53e60c733af5": {
      "model_module": "@jupyter-widgets/base",
      "model_module_version": "2.0.0",
      "model_name": "LayoutModel",
      "state": {}
     },
     "4b2bc5a758cb4f69845bb8c4496bfd71": {
      "model_module": "@jupyter-widgets/controls",
      "model_module_version": "2.0.0",
      "model_name": "ProgressStyleModel",
      "state": {
       "description_width": ""
      }
     },
     "4b5ede08e3944de5813ac503ae5b49d0": {
      "model_module": "@jupyter-widgets/base",
      "model_module_version": "2.0.0",
      "model_name": "LayoutModel",
      "state": {}
     },
     "4b9f5632b5384b37837cf046ab7a9938": {
      "model_module": "@jupyter-widgets/controls",
      "model_module_version": "2.0.0",
      "model_name": "HTMLStyleModel",
      "state": {
       "description_width": "",
       "font_size": null,
       "text_color": null
      }
     },
     "4bb3a76345764dc1b5902c96bb572404": {
      "model_module": "@jupyter-widgets/controls",
      "model_module_version": "2.0.0",
      "model_name": "ProgressStyleModel",
      "state": {
       "description_width": ""
      }
     },
     "4c6b47c94f8547d69cde3764a45c2553": {
      "model_module": "@jupyter-widgets/base",
      "model_module_version": "2.0.0",
      "model_name": "LayoutModel",
      "state": {}
     },
     "4d24037a34f34346bb1a043ef53cfdba": {
      "model_module": "@jupyter-widgets/controls",
      "model_module_version": "2.0.0",
      "model_name": "ProgressStyleModel",
      "state": {
       "description_width": ""
      }
     },
     "4e1c5ee5385d4110abd7d3c58b7d05aa": {
      "model_module": "@jupyter-widgets/controls",
      "model_module_version": "2.0.0",
      "model_name": "HTMLStyleModel",
      "state": {
       "description_width": "",
       "font_size": null,
       "text_color": null
      }
     },
     "4e514b3928ce49ae8f4d3fde0e3d6fa2": {
      "model_module": "@jupyter-widgets/controls",
      "model_module_version": "2.0.0",
      "model_name": "HTMLModel",
      "state": {
       "layout": "IPY_MODEL_5affac0eac4949e2aec854f36029fd73",
       "style": "IPY_MODEL_9359febf1d774c329e2326c9cf849b48",
       "value": "ray_results_nomodels.tar.xz:   0%"
      }
     },
     "4e5d5cd6692547628d6246d88377841b": {
      "model_module": "@jupyter-widgets/controls",
      "model_module_version": "2.0.0",
      "model_name": "ProgressStyleModel",
      "state": {
       "description_width": ""
      }
     },
     "4e758b55b43a4094bd7ad37e5c93081f": {
      "model_module": "@jupyter-widgets/controls",
      "model_module_version": "2.0.0",
      "model_name": "HTMLModel",
      "state": {
       "layout": "IPY_MODEL_c17d7adf58864a5b891e345417d61287",
       "style": "IPY_MODEL_294db9968c3e4779905c25fd034cee44",
       "value": "ray_results_nomodels.tar.xz: "
      }
     },
     "4e9e81bca91f43c2be44ff921b0a39de": {
      "model_module": "@jupyter-widgets/base",
      "model_module_version": "2.0.0",
      "model_name": "LayoutModel",
      "state": {}
     },
     "4f0c34b3f7b1460ba227ad05e0b46cbe": {
      "model_module": "@jupyter-widgets/controls",
      "model_module_version": "2.0.0",
      "model_name": "HBoxModel",
      "state": {
       "children": [
        "IPY_MODEL_2d17e0e448804beeb93e208134558518",
        "IPY_MODEL_ed1c6f5a5c534cbfacb2abdf1a37dac0",
        "IPY_MODEL_9965b4acc6364dea8be13368ac3ea717"
       ],
       "layout": "IPY_MODEL_85bb74bea0c048ec801c49de3cb0087f"
      }
     },
     "4f0f66208e3b4a699600fd80dcef1209": {
      "model_module": "@jupyter-widgets/controls",
      "model_module_version": "2.0.0",
      "model_name": "HTMLModel",
      "state": {
       "layout": "IPY_MODEL_3fec4041e2bc4f56ab5bb371f0293005",
       "style": "IPY_MODEL_00e79963352c44e08f5daadc99c3164a",
       "value": " 0.00/2.09G [00:00&lt;?, ?B/s]"
      }
     },
     "4f2f91f1d6f94cbfb80a0c7e4d94c6fe": {
      "model_module": "@jupyter-widgets/controls",
      "model_module_version": "2.0.0",
      "model_name": "HTMLStyleModel",
      "state": {
       "description_width": "",
       "font_size": null,
       "text_color": null
      }
     },
     "4fb6d623440e464091ed5811f5750c53": {
      "model_module": "@jupyter-widgets/controls",
      "model_module_version": "2.0.0",
      "model_name": "HTMLStyleModel",
      "state": {
       "description_width": "",
       "font_size": null,
       "text_color": null
      }
     },
     "506702d7e13345c7860839a72b1c91ff": {
      "model_module": "@jupyter-widgets/base",
      "model_module_version": "2.0.0",
      "model_name": "LayoutModel",
      "state": {}
     },
     "521f1561d061493d8e07bb5e14422e08": {
      "model_module": "@jupyter-widgets/base",
      "model_module_version": "2.0.0",
      "model_name": "LayoutModel",
      "state": {}
     },
     "55d32b2f3ca94f989c7224532b7a59c5": {
      "model_module": "@jupyter-widgets/controls",
      "model_module_version": "2.0.0",
      "model_name": "HTMLModel",
      "state": {
       "layout": "IPY_MODEL_187c3c0748f34d3d946b3d768ade8c71",
       "style": "IPY_MODEL_6de0e1fa66ff401d8531dc391a0ca40e",
       "value": " 336M/2.09G [00:29&lt;02:39, 11.8MB/s]"
      }
     },
     "567e9a6fc61b4490b964bb5f2abffada": {
      "model_module": "@jupyter-widgets/base",
      "model_module_version": "2.0.0",
      "model_name": "LayoutModel",
      "state": {}
     },
     "57ae97e5a8a54158a022ab99cbe81c11": {
      "model_module": "@jupyter-widgets/base",
      "model_module_version": "2.0.0",
      "model_name": "LayoutModel",
      "state": {}
     },
     "584c197f5eb044ffb82ff1ef41f9a760": {
      "model_module": "@jupyter-widgets/controls",
      "model_module_version": "2.0.0",
      "model_name": "HTMLModel",
      "state": {
       "layout": "IPY_MODEL_00c9bf2841b64f16adf39465ca650f51",
       "style": "IPY_MODEL_fdafd773e1c746d69b53e7e1d100d559",
       "value": "ray_results_nomodels.tar.xz:   0%"
      }
     },
     "58dcc3d3337d4b05b7cb68f92b0a3459": {
      "model_module": "@jupyter-widgets/controls",
      "model_module_version": "2.0.0",
      "model_name": "HTMLStyleModel",
      "state": {
       "description_width": "",
       "font_size": null,
       "text_color": null
      }
     },
     "5987abf3bfb44e9884ffd21e1b5165ba": {
      "model_module": "@jupyter-widgets/controls",
      "model_module_version": "2.0.0",
      "model_name": "HBoxModel",
      "state": {
       "children": [
        "IPY_MODEL_a5830287a1d84619b40fbb27a44a5fb5",
        "IPY_MODEL_d532c30e2aa746d0aa48a41c5c0e5828",
        "IPY_MODEL_9b1af154d4164d998ddec8788065438e"
       ],
       "layout": "IPY_MODEL_2e35f58740244c29a64586c5675e7829"
      }
     },
     "59c7391867a14012a1da8a5c3d58882d": {
      "model_module": "@jupyter-widgets/controls",
      "model_module_version": "2.0.0",
      "model_name": "FloatProgressModel",
      "state": {
       "bar_style": "danger",
       "layout": "IPY_MODEL_67af80fea26a4f09ac8572483aee0136",
       "max": 2239802060,
       "style": "IPY_MODEL_4e5d5cd6692547628d6246d88377841b"
      }
     },
     "59f6549ff53a4db89a0b93c110c4315a": {
      "model_module": "@jupyter-widgets/controls",
      "model_module_version": "2.0.0",
      "model_name": "HTMLStyleModel",
      "state": {
       "description_width": "",
       "font_size": null,
       "text_color": null
      }
     },
     "59f8c998b70e466fb41c74b3c4147b03": {
      "model_module": "@jupyter-widgets/controls",
      "model_module_version": "2.0.0",
      "model_name": "HTMLStyleModel",
      "state": {
       "description_width": "",
       "font_size": null,
       "text_color": null
      }
     },
     "5affac0eac4949e2aec854f36029fd73": {
      "model_module": "@jupyter-widgets/base",
      "model_module_version": "2.0.0",
      "model_name": "LayoutModel",
      "state": {}
     },
     "5b5e0a0d5fa64dea888ea778fd7dfd03": {
      "model_module": "@jupyter-widgets/controls",
      "model_module_version": "2.0.0",
      "model_name": "FloatProgressModel",
      "state": {
       "bar_style": "danger",
       "layout": "IPY_MODEL_27abf68c1c5f49a6871f5e93ffbd4ba6",
       "max": 2239802060,
       "style": "IPY_MODEL_8556996cc0db4ceb9fe633bba508e186"
      }
     },
     "5bad7444223a4764a44a902cd5cdbc1c": {
      "model_module": "@jupyter-widgets/controls",
      "model_module_version": "2.0.0",
      "model_name": "HTMLStyleModel",
      "state": {
       "description_width": "",
       "font_size": null,
       "text_color": null
      }
     },
     "5bd01f71bebb4a77a7d66b73091c1654": {
      "model_module": "@jupyter-widgets/controls",
      "model_module_version": "2.0.0",
      "model_name": "ProgressStyleModel",
      "state": {
       "description_width": ""
      }
     },
     "5cf477def7cb46f4a8186a3f9f791fd2": {
      "model_module": "@jupyter-widgets/controls",
      "model_module_version": "2.0.0",
      "model_name": "FloatProgressModel",
      "state": {
       "bar_style": "danger",
       "layout": "IPY_MODEL_4686599d11f24f24af8543c6011ddecf",
       "max": 2239802060,
       "style": "IPY_MODEL_7bb3cf3a6faf4ff68dd4f1cd80da4411",
       "value": 28852224
      }
     },
     "5e7eecafe7b94dd0be99531286559a5d": {
      "model_module": "@jupyter-widgets/controls",
      "model_module_version": "2.0.0",
      "model_name": "HTMLModel",
      "state": {
       "layout": "IPY_MODEL_1c3eddbff36a4e509740118ce152aa8e",
       "style": "IPY_MODEL_59f6549ff53a4db89a0b93c110c4315a",
       "value": "ray_results_nomodels.tar.xz:  16%"
      }
     },
     "5e8c588d1937477fa2c049d5b908cc50": {
      "model_module": "@jupyter-widgets/base",
      "model_module_version": "2.0.0",
      "model_name": "LayoutModel",
      "state": {}
     },
     "5eeee495c94342899a5c3dd580ee449a": {
      "model_module": "@jupyter-widgets/controls",
      "model_module_version": "2.0.0",
      "model_name": "HTMLModel",
      "state": {
       "layout": "IPY_MODEL_e35c6fb097fc4173b91afcc1a32b6bfb",
       "style": "IPY_MODEL_6012aaadef4248bf995469993ca7a287",
       "value": "ray_results_nomodels.tar.xz:   0%"
      }
     },
     "5f00b1b04db541e8b851e7fb2728d47e": {
      "model_module": "@jupyter-widgets/base",
      "model_module_version": "2.0.0",
      "model_name": "LayoutModel",
      "state": {}
     },
     "5fe9714f2d184d659640b4c99a2f18c8": {
      "model_module": "@jupyter-widgets/controls",
      "model_module_version": "2.0.0",
      "model_name": "HTMLStyleModel",
      "state": {
       "description_width": "",
       "font_size": null,
       "text_color": null
      }
     },
     "6012aaadef4248bf995469993ca7a287": {
      "model_module": "@jupyter-widgets/controls",
      "model_module_version": "2.0.0",
      "model_name": "HTMLStyleModel",
      "state": {
       "description_width": "",
       "font_size": null,
       "text_color": null
      }
     },
     "603c7c4daf414a5bbc16e9eedbc084aa": {
      "model_module": "@jupyter-widgets/base",
      "model_module_version": "2.0.0",
      "model_name": "LayoutModel",
      "state": {}
     },
     "60d9a95ac5e54e0883ef5300c47d2ebc": {
      "model_module": "@jupyter-widgets/base",
      "model_module_version": "2.0.0",
      "model_name": "LayoutModel",
      "state": {}
     },
     "615ce7f71aac4bf18eb7097779e9ad6d": {
      "model_module": "@jupyter-widgets/controls",
      "model_module_version": "2.0.0",
      "model_name": "ProgressStyleModel",
      "state": {
       "description_width": ""
      }
     },
     "623d93768fbe48c097ed65af556b9e36": {
      "model_module": "@jupyter-widgets/controls",
      "model_module_version": "2.0.0",
      "model_name": "ProgressStyleModel",
      "state": {
       "description_width": ""
      }
     },
     "65c4c6d3eaf648ceaf198b25e97bf6d5": {
      "model_module": "@jupyter-widgets/base",
      "model_module_version": "2.0.0",
      "model_name": "LayoutModel",
      "state": {}
     },
     "67211c23f8af4bd7a8690d5a9154616c": {
      "model_module": "@jupyter-widgets/controls",
      "model_module_version": "2.0.0",
      "model_name": "HBoxModel",
      "state": {
       "children": [
        "IPY_MODEL_3fbb52e111db406bbadcc19ff8de96d9",
        "IPY_MODEL_7cdfa6fa865340a38d26c91d32a1a2b1",
        "IPY_MODEL_6aceb7947e1b48aea02e63544bdcd59b"
       ],
       "layout": "IPY_MODEL_de5660489b8846e3be9afaf2a2b33a99"
      }
     },
     "67af80fea26a4f09ac8572483aee0136": {
      "model_module": "@jupyter-widgets/base",
      "model_module_version": "2.0.0",
      "model_name": "LayoutModel",
      "state": {}
     },
     "6a48f148e1584ea6961ee516381b3ba4": {
      "model_module": "@jupyter-widgets/controls",
      "model_module_version": "2.0.0",
      "model_name": "HBoxModel",
      "state": {
       "children": [
        "IPY_MODEL_4e758b55b43a4094bd7ad37e5c93081f",
        "IPY_MODEL_19606f3188eb4b519174bafd5c0625be",
        "IPY_MODEL_c846d32b112a4bb2ad8261430ea1ef36"
       ],
       "layout": "IPY_MODEL_7be3dfadce394d0e865cd37264dda2b9"
      }
     },
     "6aa16bee42c5468a87c9d33758da0db6": {
      "model_module": "@jupyter-widgets/base",
      "model_module_version": "2.0.0",
      "model_name": "LayoutModel",
      "state": {}
     },
     "6aceb7947e1b48aea02e63544bdcd59b": {
      "model_module": "@jupyter-widgets/controls",
      "model_module_version": "2.0.0",
      "model_name": "HTMLModel",
      "state": {
       "layout": "IPY_MODEL_6bbe3d7cae784bd89c4e1698137c55e7",
       "style": "IPY_MODEL_f199093d3a30449a977e95a2e18bc2d0",
       "value": " 0.00/2.09G [00:00&lt;?, ?B/s]"
      }
     },
     "6bbe3d7cae784bd89c4e1698137c55e7": {
      "model_module": "@jupyter-widgets/base",
      "model_module_version": "2.0.0",
      "model_name": "LayoutModel",
      "state": {}
     },
     "6c06fbb4f0ec4617bb4054e72f8682ca": {
      "model_module": "@jupyter-widgets/base",
      "model_module_version": "2.0.0",
      "model_name": "LayoutModel",
      "state": {}
     },
     "6c21e42a0aca43519e7d6c773ab8fdb3": {
      "model_module": "@jupyter-widgets/controls",
      "model_module_version": "2.0.0",
      "model_name": "HTMLModel",
      "state": {
       "layout": "IPY_MODEL_27306921f3a140d6afbd55da57fa3bfb",
       "style": "IPY_MODEL_ec72ef809edd453fa5a4a3413c63c711",
       "value": "ray_results_nomodels.tar.xz:  16%"
      }
     },
     "6c45483d55e349889909e4ebe267b869": {
      "model_module": "@jupyter-widgets/controls",
      "model_module_version": "2.0.0",
      "model_name": "HTMLModel",
      "state": {
       "layout": "IPY_MODEL_1cc38d0b27824519aea8ffa7fd6134b0",
       "style": "IPY_MODEL_5fe9714f2d184d659640b4c99a2f18c8",
       "value": "ray_results_nomodels.tar.xz:   0%"
      }
     },
     "6c5e4192df8c4b20a7a4ba0ebc70d5d3": {
      "model_module": "@jupyter-widgets/controls",
      "model_module_version": "2.0.0",
      "model_name": "ProgressStyleModel",
      "state": {
       "description_width": ""
      }
     },
     "6ccc6609c42d4064a07c7e1909b6428a": {
      "model_module": "@jupyter-widgets/base",
      "model_module_version": "2.0.0",
      "model_name": "LayoutModel",
      "state": {}
     },
     "6cdab84469864c88a474d94b6150eb3b": {
      "model_module": "@jupyter-widgets/base",
      "model_module_version": "2.0.0",
      "model_name": "LayoutModel",
      "state": {}
     },
     "6cebe9cb50fd422c9c76c43c1ea28b4c": {
      "model_module": "@jupyter-widgets/controls",
      "model_module_version": "2.0.0",
      "model_name": "HTMLModel",
      "state": {
       "layout": "IPY_MODEL_e39e8c8c2dbd4fa1981480b13455afb3",
       "style": "IPY_MODEL_d2e70ca0d5ce4c019bf027bc0438dc46",
       "value": " 0.00/2.09G [00:00&lt;?, ?B/s]"
      }
     },
     "6d71d3492ab44b0394aef3eebc30c25b": {
      "model_module": "@jupyter-widgets/controls",
      "model_module_version": "2.0.0",
      "model_name": "ProgressStyleModel",
      "state": {
       "description_width": ""
      }
     },
     "6dd92d664f8046598889976707784040": {
      "model_module": "@jupyter-widgets/controls",
      "model_module_version": "2.0.0",
      "model_name": "HTMLModel",
      "state": {
       "layout": "IPY_MODEL_f874ad2666c84a44abfb8655acf82e3d",
       "style": "IPY_MODEL_59f8c998b70e466fb41c74b3c4147b03",
       "value": "ray_results_nomodels.tar.xz:   1%"
      }
     },
     "6de0e1fa66ff401d8531dc391a0ca40e": {
      "model_module": "@jupyter-widgets/controls",
      "model_module_version": "2.0.0",
      "model_name": "HTMLStyleModel",
      "state": {
       "description_width": "",
       "font_size": null,
       "text_color": null
      }
     },
     "6f2e58517b7142d8a389c73cc4a576b6": {
      "model_module": "@jupyter-widgets/controls",
      "model_module_version": "2.0.0",
      "model_name": "FloatProgressModel",
      "state": {
       "bar_style": "danger",
       "layout": "IPY_MODEL_ea95b9156ff346ab9c8024ff49ad318e",
       "max": 2239802060,
       "style": "IPY_MODEL_29098d88d8904a12bd9bb217137533b2"
      }
     },
     "6f9a0e1b6f3349229db87217d46dae24": {
      "model_module": "@jupyter-widgets/base",
      "model_module_version": "2.0.0",
      "model_name": "LayoutModel",
      "state": {}
     },
     "6fb8b84e418f4e248588a1a528b4fdc8": {
      "model_module": "@jupyter-widgets/base",
      "model_module_version": "2.0.0",
      "model_name": "LayoutModel",
      "state": {}
     },
     "70a83d7b00f340b983d5dc03fb6a5bea": {
      "model_module": "@jupyter-widgets/controls",
      "model_module_version": "2.0.0",
      "model_name": "FloatProgressModel",
      "state": {
       "bar_style": "danger",
       "layout": "IPY_MODEL_d1ec0f05b2e84cd5a7a55a08428b7b26",
       "max": 2239802060,
       "style": "IPY_MODEL_fda6764f9da849c7af556439e592e02f"
      }
     },
     "71cd25fbb1034ea2a2e29978f3366933": {
      "model_module": "@jupyter-widgets/base",
      "model_module_version": "2.0.0",
      "model_name": "LayoutModel",
      "state": {}
     },
     "71fc7138fa9449619d04ff91f13ea727": {
      "model_module": "@jupyter-widgets/controls",
      "model_module_version": "2.0.0",
      "model_name": "HTMLStyleModel",
      "state": {
       "description_width": "",
       "font_size": null,
       "text_color": null
      }
     },
     "733bc0cc56bf431f9f55f298a3efe0e8": {
      "model_module": "@jupyter-widgets/base",
      "model_module_version": "2.0.0",
      "model_name": "LayoutModel",
      "state": {}
     },
     "73e1b7ec22d34263bd669bdddaf9f5cb": {
      "model_module": "@jupyter-widgets/controls",
      "model_module_version": "2.0.0",
      "model_name": "HTMLModel",
      "state": {
       "layout": "IPY_MODEL_6cdab84469864c88a474d94b6150eb3b",
       "style": "IPY_MODEL_feb4f6d68b8e46828a0de94a7457fe59",
       "value": " 0.00/2.09G [00:00&lt;?, ?B/s]"
      }
     },
     "743b4dd4252c40f49f5f89f438aa4489": {
      "model_module": "@jupyter-widgets/base",
      "model_module_version": "2.0.0",
      "model_name": "LayoutModel",
      "state": {}
     },
     "76e87cc472944fb6b5370ac2571a85f9": {
      "model_module": "@jupyter-widgets/controls",
      "model_module_version": "2.0.0",
      "model_name": "HTMLStyleModel",
      "state": {
       "description_width": "",
       "font_size": null,
       "text_color": null
      }
     },
     "782aed30456c491ca12d016b6cd488e8": {
      "model_module": "@jupyter-widgets/controls",
      "model_module_version": "2.0.0",
      "model_name": "ProgressStyleModel",
      "state": {
       "description_width": ""
      }
     },
     "788440023c71427096bacefb06243763": {
      "model_module": "@jupyter-widgets/controls",
      "model_module_version": "2.0.0",
      "model_name": "ProgressStyleModel",
      "state": {
       "description_width": ""
      }
     },
     "78aa05bfc82746259e748d38f758aa80": {
      "model_module": "@jupyter-widgets/base",
      "model_module_version": "2.0.0",
      "model_name": "LayoutModel",
      "state": {}
     },
     "7943eef25cab4db8a110918a4049a4b0": {
      "model_module": "@jupyter-widgets/base",
      "model_module_version": "2.0.0",
      "model_name": "LayoutModel",
      "state": {}
     },
     "798f8657554548ac8afd5ee577628e50": {
      "model_module": "@jupyter-widgets/controls",
      "model_module_version": "2.0.0",
      "model_name": "HTMLStyleModel",
      "state": {
       "description_width": "",
       "font_size": null,
       "text_color": null
      }
     },
     "79fbde19fa7345fdb4c5be0e2e4e2f14": {
      "model_module": "@jupyter-widgets/controls",
      "model_module_version": "2.0.0",
      "model_name": "HTMLStyleModel",
      "state": {
       "description_width": "",
       "font_size": null,
       "text_color": null
      }
     },
     "7a28995def624e10b3cef38227adddf4": {
      "model_module": "@jupyter-widgets/controls",
      "model_module_version": "2.0.0",
      "model_name": "HBoxModel",
      "state": {
       "children": [
        "IPY_MODEL_df9c9a1a057f41cab12a7f7e79c7dbdc",
        "IPY_MODEL_f296cde36b8641d6a3071b50e1821087",
        "IPY_MODEL_9494480ce5454dcd9aeadf8d2ad225f8"
       ],
       "layout": "IPY_MODEL_be8221f16e38436b812d6796189de91c"
      }
     },
     "7b0c1fcc40aa470cb61f0d281913bd32": {
      "model_module": "@jupyter-widgets/controls",
      "model_module_version": "2.0.0",
      "model_name": "HBoxModel",
      "state": {
       "children": [
        "IPY_MODEL_e98f1e0453a046b18d9c7e5010c8f7a1",
        "IPY_MODEL_1ea5950c5496404bbb3ca515cc0ad2f8",
        "IPY_MODEL_a0548cb5705d4610a396e57f60641916"
       ],
       "layout": "IPY_MODEL_b0226efb04c140c59eeb2d27f09db287"
      }
     },
     "7bb3cf3a6faf4ff68dd4f1cd80da4411": {
      "model_module": "@jupyter-widgets/controls",
      "model_module_version": "2.0.0",
      "model_name": "ProgressStyleModel",
      "state": {
       "description_width": ""
      }
     },
     "7be3dfadce394d0e865cd37264dda2b9": {
      "model_module": "@jupyter-widgets/base",
      "model_module_version": "2.0.0",
      "model_name": "LayoutModel",
      "state": {}
     },
     "7cb96cac52d7429dbf361865bd62912a": {
      "model_module": "@jupyter-widgets/controls",
      "model_module_version": "2.0.0",
      "model_name": "HTMLModel",
      "state": {
       "layout": "IPY_MODEL_0dae2221653140cfa358b88d77e65b28",
       "style": "IPY_MODEL_972dd6cfdc514fd68c647a08e67f1e76",
       "value": " 0.00/2.09G [00:00&lt;?, ?B/s]"
      }
     },
     "7cdfa6fa865340a38d26c91d32a1a2b1": {
      "model_module": "@jupyter-widgets/controls",
      "model_module_version": "2.0.0",
      "model_name": "FloatProgressModel",
      "state": {
       "bar_style": "danger",
       "layout": "IPY_MODEL_0db87f0cef0e415c8e4a373952dde14a",
       "max": 2239802060,
       "style": "IPY_MODEL_01ee1a6593fe4252a2b3c5c155050c90"
      }
     },
     "7d526354e7fa47f49037fb0436a7a3ed": {
      "model_module": "@jupyter-widgets/controls",
      "model_module_version": "2.0.0",
      "model_name": "HBoxModel",
      "state": {
       "children": [
        "IPY_MODEL_92bd00ed793b4f6ba3211ad9bee9e551",
        "IPY_MODEL_f5e05f35eb3146d697ec7a0a9053602a",
        "IPY_MODEL_d14c10e6477442c997dfebc1669163b5"
       ],
       "layout": "IPY_MODEL_e0eda9e1f106496296dd596f3d6489a2"
      }
     },
     "7d9944b767474c91b2c2f046030f143e": {
      "model_module": "@jupyter-widgets/base",
      "model_module_version": "2.0.0",
      "model_name": "LayoutModel",
      "state": {}
     },
     "7da43e6ba3f2448f845bf7d3a2aefa69": {
      "model_module": "@jupyter-widgets/controls",
      "model_module_version": "2.0.0",
      "model_name": "HTMLStyleModel",
      "state": {
       "description_width": "",
       "font_size": null,
       "text_color": null
      }
     },
     "7dc0e0994c8d413eac192b23b4134589": {
      "model_module": "@jupyter-widgets/controls",
      "model_module_version": "2.0.0",
      "model_name": "FloatProgressModel",
      "state": {
       "bar_style": "danger",
       "layout": "IPY_MODEL_91721cf85bd642a48b0b64f86afd08c5",
       "max": 2239802060,
       "style": "IPY_MODEL_97f21060301c44d49e5351a761394f57",
       "value": 30588928
      }
     },
     "7efba1fdb6c8478f9b50b8150421c9ed": {
      "model_module": "@jupyter-widgets/base",
      "model_module_version": "2.0.0",
      "model_name": "LayoutModel",
      "state": {}
     },
     "7f674876d3f5461c94f4c823b0f7cc03": {
      "model_module": "@jupyter-widgets/controls",
      "model_module_version": "2.0.0",
      "model_name": "HTMLModel",
      "state": {
       "layout": "IPY_MODEL_d719cf04a45443c6a1429a4880d73b83",
       "style": "IPY_MODEL_a1a312cf6316436197210f536975a0a8"
      }
     },
     "83818948b55649f79f10d0bf466de6a5": {
      "model_module": "@jupyter-widgets/controls",
      "model_module_version": "2.0.0",
      "model_name": "HBoxModel",
      "state": {
       "children": [
        "IPY_MODEL_1e2d8049b1624fafba83df3d427faaf2",
        "IPY_MODEL_3f22155aa53a4e5a89d946dfafa5bfdb",
        "IPY_MODEL_e2022a33cb25447f8137b5d661b79cc3"
       ],
       "layout": "IPY_MODEL_3af570fc66214fb49b874278a699e1db"
      }
     },
     "83c46a83dedb41cdb05752596deffa54": {
      "model_module": "@jupyter-widgets/controls",
      "model_module_version": "2.0.0",
      "model_name": "HTMLStyleModel",
      "state": {
       "description_width": "",
       "font_size": null,
       "text_color": null
      }
     },
     "83d6b1cef89b4dc09458e3a9b7cf4cf8": {
      "model_module": "@jupyter-widgets/controls",
      "model_module_version": "2.0.0",
      "model_name": "HBoxModel",
      "state": {
       "children": [
        "IPY_MODEL_eed00fc4d2b74488945e8020678e63ad",
        "IPY_MODEL_70a83d7b00f340b983d5dc03fb6a5bea",
        "IPY_MODEL_ec6eca6e80784deb86d252ad209f1799"
       ],
       "layout": "IPY_MODEL_be50e2c7479a4318aa68ac0c60d202e3"
      }
     },
     "849d1e35d4a3428ab06cf413262cf03d": {
      "model_module": "@jupyter-widgets/controls",
      "model_module_version": "2.0.0",
      "model_name": "HTMLStyleModel",
      "state": {
       "description_width": "",
       "font_size": null,
       "text_color": null
      }
     },
     "8525c45ea8184670933dba86a08dac82": {
      "model_module": "@jupyter-widgets/base",
      "model_module_version": "2.0.0",
      "model_name": "LayoutModel",
      "state": {}
     },
     "8556996cc0db4ceb9fe633bba508e186": {
      "model_module": "@jupyter-widgets/controls",
      "model_module_version": "2.0.0",
      "model_name": "ProgressStyleModel",
      "state": {
       "description_width": ""
      }
     },
     "85bb74bea0c048ec801c49de3cb0087f": {
      "model_module": "@jupyter-widgets/base",
      "model_module_version": "2.0.0",
      "model_name": "LayoutModel",
      "state": {}
     },
     "870d1633394c445dab0e2ce2330c877e": {
      "model_module": "@jupyter-widgets/controls",
      "model_module_version": "2.0.0",
      "model_name": "HTMLModel",
      "state": {
       "layout": "IPY_MODEL_2185e5969a47431dadd3166bb65f7fa4",
       "style": "IPY_MODEL_4fb6d623440e464091ed5811f5750c53",
       "value": " 336M/2.09G [00:29&lt;02:34, 12.2MB/s]"
      }
     },
     "875c8debdde947e688f8eba424bbb834": {
      "model_module": "@jupyter-widgets/base",
      "model_module_version": "2.0.0",
      "model_name": "LayoutModel",
      "state": {}
     },
     "87b239374d5144ffabb8a842bae20f31": {
      "model_module": "@jupyter-widgets/base",
      "model_module_version": "2.0.0",
      "model_name": "LayoutModel",
      "state": {}
     },
     "88d169e5e8784b5a8b952917f5b88326": {
      "model_module": "@jupyter-widgets/controls",
      "model_module_version": "2.0.0",
      "model_name": "FloatProgressModel",
      "state": {
       "layout": "IPY_MODEL_036165ca10654d95ae4ee78550baf639",
       "max": 2239802060,
       "style": "IPY_MODEL_623d93768fbe48c097ed65af556b9e36"
      }
     },
     "89bde87eeef740afb1ecfb7779b47935": {
      "model_module": "@jupyter-widgets/controls",
      "model_module_version": "2.0.0",
      "model_name": "HBoxModel",
      "state": {
       "children": [
        "IPY_MODEL_5e7eecafe7b94dd0be99531286559a5d",
        "IPY_MODEL_a81b39b064854a4d98f67022c2e22558",
        "IPY_MODEL_55d32b2f3ca94f989c7224532b7a59c5"
       ],
       "layout": "IPY_MODEL_875c8debdde947e688f8eba424bbb834"
      }
     },
     "8b763b53f8fe47468170276b4983e658": {
      "model_module": "@jupyter-widgets/base",
      "model_module_version": "2.0.0",
      "model_name": "LayoutModel",
      "state": {}
     },
     "8c258f40cbff4b2c962b4aabb1b4f979": {
      "model_module": "@jupyter-widgets/base",
      "model_module_version": "2.0.0",
      "model_name": "LayoutModel",
      "state": {}
     },
     "8c6530952f1f4ba5a2e0f0eb21498c0a": {
      "model_module": "@jupyter-widgets/controls",
      "model_module_version": "2.0.0",
      "model_name": "HTMLStyleModel",
      "state": {
       "description_width": "",
       "font_size": null,
       "text_color": null
      }
     },
     "8cb568b6a43240418141386b8173d226": {
      "model_module": "@jupyter-widgets/controls",
      "model_module_version": "2.0.0",
      "model_name": "HTMLStyleModel",
      "state": {
       "description_width": "",
       "font_size": null,
       "text_color": null
      }
     },
     "8cc69b316dcd4dafa5dc8b143b83022a": {
      "model_module": "@jupyter-widgets/controls",
      "model_module_version": "2.0.0",
      "model_name": "HTMLModel",
      "state": {
       "layout": "IPY_MODEL_e75d75308d5b45359ebfdae45089f897",
       "style": "IPY_MODEL_76e87cc472944fb6b5370ac2571a85f9",
       "value": " 37.7M/2.09G [00:03&lt;03:05, 11.8MB/s]"
      }
     },
     "8e7e79ab1b734ef5800fdf755649da10": {
      "model_module": "@jupyter-widgets/controls",
      "model_module_version": "2.0.0",
      "model_name": "FloatProgressModel",
      "state": {
       "bar_style": "danger",
       "layout": "IPY_MODEL_9ff43665bfe94a52a1b4e617242ac3f4",
       "max": 2239802060,
       "style": "IPY_MODEL_5bd01f71bebb4a77a7d66b73091c1654"
      }
     },
     "8e820abd86934493a1b3905600d9970d": {
      "model_module": "@jupyter-widgets/controls",
      "model_module_version": "2.0.0",
      "model_name": "ProgressStyleModel",
      "state": {
       "description_width": ""
      }
     },
     "8f0c776f0c22402ba595171f705d63b1": {
      "model_module": "@jupyter-widgets/controls",
      "model_module_version": "2.0.0",
      "model_name": "ProgressStyleModel",
      "state": {
       "description_width": ""
      }
     },
     "8f74f3c9b7d34e8694d544305ae0de93": {
      "model_module": "@jupyter-widgets/base",
      "model_module_version": "2.0.0",
      "model_name": "LayoutModel",
      "state": {}
     },
     "8ff357472b584b70b1b097d863fcd315": {
      "model_module": "@jupyter-widgets/controls",
      "model_module_version": "2.0.0",
      "model_name": "HTMLStyleModel",
      "state": {
       "description_width": "",
       "font_size": null,
       "text_color": null
      }
     },
     "90b3b36a4a7c41ec88def54c58bf1297": {
      "model_module": "@jupyter-widgets/base",
      "model_module_version": "2.0.0",
      "model_name": "LayoutModel",
      "state": {}
     },
     "91721cf85bd642a48b0b64f86afd08c5": {
      "model_module": "@jupyter-widgets/base",
      "model_module_version": "2.0.0",
      "model_name": "LayoutModel",
      "state": {}
     },
     "92bd00ed793b4f6ba3211ad9bee9e551": {
      "model_module": "@jupyter-widgets/controls",
      "model_module_version": "2.0.0",
      "model_name": "HTMLModel",
      "state": {
       "layout": "IPY_MODEL_90b3b36a4a7c41ec88def54c58bf1297",
       "style": "IPY_MODEL_da784c6437ac45a48e8e8f28f66b1cc2",
       "value": "ray_results_nomodels.tar.xz:   0%"
      }
     },
     "9314b4c66332424ca843e0224aca98b7": {
      "model_module": "@jupyter-widgets/controls",
      "model_module_version": "2.0.0",
      "model_name": "HBoxModel",
      "state": {
       "children": [
        "IPY_MODEL_2528838e31f64b38a0e785bfc342d022",
        "IPY_MODEL_7dc0e0994c8d413eac192b23b4134589",
        "IPY_MODEL_a4f436f92ae34cbdad1702286a2b46e3"
       ],
       "layout": "IPY_MODEL_e865f4e47481484187f64d0dfaf39e83"
      }
     },
     "9359febf1d774c329e2326c9cf849b48": {
      "model_module": "@jupyter-widgets/controls",
      "model_module_version": "2.0.0",
      "model_name": "HTMLStyleModel",
      "state": {
       "description_width": "",
       "font_size": null,
       "text_color": null
      }
     },
     "9494480ce5454dcd9aeadf8d2ad225f8": {
      "model_module": "@jupyter-widgets/controls",
      "model_module_version": "2.0.0",
      "model_name": "HTMLModel",
      "state": {
       "layout": "IPY_MODEL_d8c3c89cdd464872a0266a8c451c904e",
       "style": "IPY_MODEL_a79946c9d8a848b5a52fee55c4ffe0f3",
       "value": " 0.00/2.09G [00:00&lt;?, ?B/s]"
      }
     },
     "94d27e08b92c4e6894ffd268d4bf2fe9": {
      "model_module": "@jupyter-widgets/controls",
      "model_module_version": "2.0.0",
      "model_name": "HTMLModel",
      "state": {
       "layout": "IPY_MODEL_57ae97e5a8a54158a022ab99cbe81c11",
       "style": "IPY_MODEL_354a857cc5ad436b8cab231e7af813a1"
      }
     },
     "95269288b47549f1ab39778eb0901e67": {
      "model_module": "@jupyter-widgets/controls",
      "model_module_version": "2.0.0",
      "model_name": "HBoxModel",
      "state": {
       "children": [
        "IPY_MODEL_9ce46c9d45404019a83cb4dc991df799",
        "IPY_MODEL_cbeee4a43b664b30994b65ec9a61b2d4",
        "IPY_MODEL_9b05cfc0580f431b99fe0f638ad28417"
       ],
       "layout": "IPY_MODEL_5e8c588d1937477fa2c049d5b908cc50"
      }
     },
     "964c878a01374d15abf17fe38d1b0aeb": {
      "model_module": "@jupyter-widgets/base",
      "model_module_version": "2.0.0",
      "model_name": "LayoutModel",
      "state": {}
     },
     "972dd6cfdc514fd68c647a08e67f1e76": {
      "model_module": "@jupyter-widgets/controls",
      "model_module_version": "2.0.0",
      "model_name": "HTMLStyleModel",
      "state": {
       "description_width": "",
       "font_size": null,
       "text_color": null
      }
     },
     "97dc286fadaa4754b6ec37b6c941fd18": {
      "model_module": "@jupyter-widgets/base",
      "model_module_version": "2.0.0",
      "model_name": "LayoutModel",
      "state": {}
     },
     "97f21060301c44d49e5351a761394f57": {
      "model_module": "@jupyter-widgets/controls",
      "model_module_version": "2.0.0",
      "model_name": "ProgressStyleModel",
      "state": {
       "description_width": ""
      }
     },
     "9965b4acc6364dea8be13368ac3ea717": {
      "model_module": "@jupyter-widgets/controls",
      "model_module_version": "2.0.0",
      "model_name": "HTMLModel",
      "state": {
       "layout": "IPY_MODEL_0a31b0b990f44bb08ee9251116a422cf",
       "style": "IPY_MODEL_f4c49d82d47146958537a981971b417f",
       "value": " 0.00/2.09G [00:00&lt;?, ?B/s]"
      }
     },
     "9a50e06875ec424dba97a9d305f97e8c": {
      "model_module": "@jupyter-widgets/controls",
      "model_module_version": "2.0.0",
      "model_name": "HBoxModel",
      "state": {
       "children": [
        "IPY_MODEL_6c45483d55e349889909e4ebe267b869",
        "IPY_MODEL_5b5e0a0d5fa64dea888ea778fd7dfd03",
        "IPY_MODEL_1a9c012d48594851a1110de07a39af0c"
       ],
       "layout": "IPY_MODEL_8c258f40cbff4b2c962b4aabb1b4f979"
      }
     },
     "9addb2447ced492d9622d9de5f781670": {
      "model_module": "@jupyter-widgets/controls",
      "model_module_version": "2.0.0",
      "model_name": "HBoxModel",
      "state": {
       "children": [
        "IPY_MODEL_06efc0baf14c484da5081f854c88cf8e",
        "IPY_MODEL_e12c38096a5e4b388c01424c82dda2d0",
        "IPY_MODEL_4f0f66208e3b4a699600fd80dcef1209"
       ],
       "layout": "IPY_MODEL_521f1561d061493d8e07bb5e14422e08"
      }
     },
     "9b05cfc0580f431b99fe0f638ad28417": {
      "model_module": "@jupyter-widgets/controls",
      "model_module_version": "2.0.0",
      "model_name": "HTMLModel",
      "state": {
       "layout": "IPY_MODEL_bb952e6475bf471e9c5d5683d9794dd1",
       "style": "IPY_MODEL_b20df64784e5485a9684c296e3416fac",
       "value": " 2.09G/? [03:09&lt;00:00, 11.8MB/s]"
      }
     },
     "9b1af154d4164d998ddec8788065438e": {
      "model_module": "@jupyter-widgets/controls",
      "model_module_version": "2.0.0",
      "model_name": "HTMLModel",
      "state": {
       "layout": "IPY_MODEL_1dbe474ffad94f7282de673fd7c77b11",
       "style": "IPY_MODEL_e1d244f7aee84b2095040c8d7c5a6a43",
       "value": " 23.9M/2.09G [00:02&lt;03:07, 11.8MB/s]"
      }
     },
     "9baa9aa4277b4107801f045dd542ed80": {
      "model_module": "@jupyter-widgets/base",
      "model_module_version": "2.0.0",
      "model_name": "LayoutModel",
      "state": {}
     },
     "9bc8349e5423458787049eaa609b6e2b": {
      "model_module": "@jupyter-widgets/controls",
      "model_module_version": "2.0.0",
      "model_name": "HTMLStyleModel",
      "state": {
       "description_width": "",
       "font_size": null,
       "text_color": null
      }
     },
     "9ce46c9d45404019a83cb4dc991df799": {
      "model_module": "@jupyter-widgets/controls",
      "model_module_version": "2.0.0",
      "model_name": "HTMLModel",
      "state": {
       "layout": "IPY_MODEL_6fb8b84e418f4e248588a1a528b4fdc8",
       "style": "IPY_MODEL_a12d43986ea34268b2b43ccbab1df2dc",
       "value": "ray_results_nomodels.tar.xz: "
      }
     },
     "9cfc67524e4b4144a9776b7aaa48d85e": {
      "model_module": "@jupyter-widgets/base",
      "model_module_version": "2.0.0",
      "model_name": "LayoutModel",
      "state": {}
     },
     "9e1f31de839547eb85363aa53ba3a902": {
      "model_module": "@jupyter-widgets/controls",
      "model_module_version": "2.0.0",
      "model_name": "HTMLModel",
      "state": {
       "layout": "IPY_MODEL_44235155668643969eebd4181652c2dd",
       "style": "IPY_MODEL_11f74cef0d9a491d812771445d477e42"
      }
     },
     "9f76bf88f7984580a99b029580059126": {
      "model_module": "@jupyter-widgets/controls",
      "model_module_version": "2.0.0",
      "model_name": "HTMLStyleModel",
      "state": {
       "description_width": "",
       "font_size": null,
       "text_color": null
      }
     },
     "9ff43665bfe94a52a1b4e617242ac3f4": {
      "model_module": "@jupyter-widgets/base",
      "model_module_version": "2.0.0",
      "model_name": "LayoutModel",
      "state": {}
     },
     "a04fbe6805934251a1f84011c35096ba": {
      "model_module": "@jupyter-widgets/base",
      "model_module_version": "2.0.0",
      "model_name": "LayoutModel",
      "state": {}
     },
     "a0548cb5705d4610a396e57f60641916": {
      "model_module": "@jupyter-widgets/controls",
      "model_module_version": "2.0.0",
      "model_name": "HTMLModel",
      "state": {
       "layout": "IPY_MODEL_c63aebc1250c4d99a75504c780a9a4d7",
       "style": "IPY_MODEL_ae537f14bc4340debd4ca1cb41ebfd2d",
       "value": " 0.00/2.09G [00:00&lt;?, ?B/s]"
      }
     },
     "a12d43986ea34268b2b43ccbab1df2dc": {
      "model_module": "@jupyter-widgets/controls",
      "model_module_version": "2.0.0",
      "model_name": "HTMLStyleModel",
      "state": {
       "description_width": "",
       "font_size": null,
       "text_color": null
      }
     },
     "a1a312cf6316436197210f536975a0a8": {
      "model_module": "@jupyter-widgets/controls",
      "model_module_version": "2.0.0",
      "model_name": "HTMLStyleModel",
      "state": {
       "description_width": "",
       "font_size": null,
       "text_color": null
      }
     },
     "a1afb5f3b5cf43d9b589643b80207151": {
      "model_module": "@jupyter-widgets/controls",
      "model_module_version": "2.0.0",
      "model_name": "HTMLModel",
      "state": {
       "layout": "IPY_MODEL_e6dc12f908f34c4491f6471192380b4f",
       "style": "IPY_MODEL_0ac2514669d24b5095b039e55eb6e0c3",
       "value": " 2.09G/? [03:09&lt;00:00, 11.8MB/s]"
      }
     },
     "a20683c8d752407194fd4000b868ef89": {
      "model_module": "@jupyter-widgets/controls",
      "model_module_version": "2.0.0",
      "model_name": "ProgressStyleModel",
      "state": {
       "description_width": ""
      }
     },
     "a2757f06bcf049a99f6dcc723dd1a7b9": {
      "model_module": "@jupyter-widgets/controls",
      "model_module_version": "2.0.0",
      "model_name": "HBoxModel",
      "state": {
       "children": [
        "IPY_MODEL_584c197f5eb044ffb82ff1ef41f9a760",
        "IPY_MODEL_ec8ae70bf4c54b668bbb7ea79a154d58",
        "IPY_MODEL_73e1b7ec22d34263bd669bdddaf9f5cb"
       ],
       "layout": "IPY_MODEL_feb834f3747b4aa397f9c80b42ae61a9"
      }
     },
     "a2e31bb7e3a6437fa52eb19d62644480": {
      "model_module": "@jupyter-widgets/controls",
      "model_module_version": "2.0.0",
      "model_name": "HBoxModel",
      "state": {
       "children": [
        "IPY_MODEL_2276397f418d448abc3e89a50e6d2cb4",
        "IPY_MODEL_2ee0970c1baa419fb732a5b47676f030",
        "IPY_MODEL_d6d3d8a47c2744139e2af8b5cb1d71d1"
       ],
       "layout": "IPY_MODEL_8f74f3c9b7d34e8694d544305ae0de93"
      }
     },
     "a3c7f478f8e149bd9e4bcb21fa7eb121": {
      "model_module": "@jupyter-widgets/controls",
      "model_module_version": "2.0.0",
      "model_name": "HTMLStyleModel",
      "state": {
       "description_width": "",
       "font_size": null,
       "text_color": null
      }
     },
     "a4b4f3c128e64f3691aba33a7d31ae10": {
      "model_module": "@jupyter-widgets/controls",
      "model_module_version": "2.0.0",
      "model_name": "ProgressStyleModel",
      "state": {
       "description_width": ""
      }
     },
     "a4f436f92ae34cbdad1702286a2b46e3": {
      "model_module": "@jupyter-widgets/controls",
      "model_module_version": "2.0.0",
      "model_name": "HTMLModel",
      "state": {
       "layout": "IPY_MODEL_5f00b1b04db541e8b851e7fb2728d47e",
       "style": "IPY_MODEL_b4cd22b933984f2ba2fccd2b82c9b261",
       "value": " 29.2M/2.09G [00:02&lt;03:06, 11.9MB/s]"
      }
     },
     "a5830287a1d84619b40fbb27a44a5fb5": {
      "model_module": "@jupyter-widgets/controls",
      "model_module_version": "2.0.0",
      "model_name": "HTMLModel",
      "state": {
       "layout": "IPY_MODEL_fb661ae49e1240e78c39a5113b460e6a",
       "style": "IPY_MODEL_3b160269ac8449e2a6cb97403a93cfad",
       "value": "ray_results_nomodels.tar.xz:   1%"
      }
     },
     "a79946c9d8a848b5a52fee55c4ffe0f3": {
      "model_module": "@jupyter-widgets/controls",
      "model_module_version": "2.0.0",
      "model_name": "HTMLStyleModel",
      "state": {
       "description_width": "",
       "font_size": null,
       "text_color": null
      }
     },
     "a7f8ad4534bd4d0dbd524f8f5e7a180d": {
      "model_module": "@jupyter-widgets/controls",
      "model_module_version": "2.0.0",
      "model_name": "HTMLStyleModel",
      "state": {
       "description_width": "",
       "font_size": null,
       "text_color": null
      }
     },
     "a81b39b064854a4d98f67022c2e22558": {
      "model_module": "@jupyter-widgets/controls",
      "model_module_version": "2.0.0",
      "model_name": "FloatProgressModel",
      "state": {
       "bar_style": "danger",
       "layout": "IPY_MODEL_fd44a78cf09b43e8a3c3fb3ec9a510bd",
       "max": 2239802060,
       "style": "IPY_MODEL_38afa7b1dce84e3db3d9e82838f874dd",
       "value": 352337920
      }
     },
     "ac4e91502d3341269ea834afc160421d": {
      "model_module": "@jupyter-widgets/controls",
      "model_module_version": "2.0.0",
      "model_name": "HTMLModel",
      "state": {
       "layout": "IPY_MODEL_11fa4eb92ee548f7ac2b31bc8e6dfb0d",
       "style": "IPY_MODEL_da2143d1940b42258ae566b09aafe4f0",
       "value": " 0.00/2.09G [00:00&lt;?, ?B/s]"
      }
     },
     "ae537f14bc4340debd4ca1cb41ebfd2d": {
      "model_module": "@jupyter-widgets/controls",
      "model_module_version": "2.0.0",
      "model_name": "HTMLStyleModel",
      "state": {
       "description_width": "",
       "font_size": null,
       "text_color": null
      }
     },
     "af30c7bb5d8e4632b359e788b0f0d16c": {
      "model_module": "@jupyter-widgets/base",
      "model_module_version": "2.0.0",
      "model_name": "LayoutModel",
      "state": {}
     },
     "afe58c401ea84eadb3064bfaa1f9c510": {
      "model_module": "@jupyter-widgets/base",
      "model_module_version": "2.0.0",
      "model_name": "LayoutModel",
      "state": {}
     },
     "b0226efb04c140c59eeb2d27f09db287": {
      "model_module": "@jupyter-widgets/base",
      "model_module_version": "2.0.0",
      "model_name": "LayoutModel",
      "state": {}
     },
     "b02d22dbfa1141b58d73221bd91410ca": {
      "model_module": "@jupyter-widgets/controls",
      "model_module_version": "2.0.0",
      "model_name": "HBoxModel",
      "state": {
       "children": [
        "IPY_MODEL_6dd92d664f8046598889976707784040",
        "IPY_MODEL_5cf477def7cb46f4a8186a3f9f791fd2",
        "IPY_MODEL_0585bec66c704e35b345a6afcb170ee2"
       ],
       "layout": "IPY_MODEL_e99fc088e91f4df2ba5d131b6f09cccc"
      }
     },
     "b0c01c58add0439cb30691aac1ac1fce": {
      "model_module": "@jupyter-widgets/controls",
      "model_module_version": "2.0.0",
      "model_name": "FloatProgressModel",
      "state": {
       "bar_style": "success",
       "layout": "IPY_MODEL_c8fbf7df26a6448cacdada72329b98a4",
       "max": 2239802060,
       "style": "IPY_MODEL_4d24037a34f34346bb1a043ef53cfdba",
       "value": 2239802060
      }
     },
     "b1d3730b228b423aaf11a726cc8763d6": {
      "model_module": "@jupyter-widgets/controls",
      "model_module_version": "2.0.0",
      "model_name": "ProgressStyleModel",
      "state": {
       "description_width": ""
      }
     },
     "b20df64784e5485a9684c296e3416fac": {
      "model_module": "@jupyter-widgets/controls",
      "model_module_version": "2.0.0",
      "model_name": "HTMLStyleModel",
      "state": {
       "description_width": "",
       "font_size": null,
       "text_color": null
      }
     },
     "b28ff38d20914aa3ac474ab5b5b1f501": {
      "model_module": "@jupyter-widgets/controls",
      "model_module_version": "2.0.0",
      "model_name": "HBoxModel",
      "state": {
       "children": [
        "IPY_MODEL_ecbd24f0689e472a96fe90af7fd85ce0",
        "IPY_MODEL_32b556c0c59948a7b8cea78610c2c00f",
        "IPY_MODEL_f621e7e4d03e4b97925d89c271933265"
       ],
       "layout": "IPY_MODEL_603c7c4daf414a5bbc16e9eedbc084aa"
      }
     },
     "b331168a3b8341d6bc60f4bee5907298": {
      "model_module": "@jupyter-widgets/controls",
      "model_module_version": "2.0.0",
      "model_name": "HTMLStyleModel",
      "state": {
       "description_width": "",
       "font_size": null,
       "text_color": null
      }
     },
     "b3a2db34d1fa42368c62b8972d9c4fa1": {
      "model_module": "@jupyter-widgets/controls",
      "model_module_version": "2.0.0",
      "model_name": "ProgressStyleModel",
      "state": {
       "description_width": ""
      }
     },
     "b3b46b18007c4231aa31b6fe58bdc51e": {
      "model_module": "@jupyter-widgets/base",
      "model_module_version": "2.0.0",
      "model_name": "LayoutModel",
      "state": {}
     },
     "b3b743f5b1fc477cb8371cf5d2be126f": {
      "model_module": "@jupyter-widgets/controls",
      "model_module_version": "2.0.0",
      "model_name": "HTMLStyleModel",
      "state": {
       "description_width": "",
       "font_size": null,
       "text_color": null
      }
     },
     "b4cd22b933984f2ba2fccd2b82c9b261": {
      "model_module": "@jupyter-widgets/controls",
      "model_module_version": "2.0.0",
      "model_name": "HTMLStyleModel",
      "state": {
       "description_width": "",
       "font_size": null,
       "text_color": null
      }
     },
     "b53fcaa7a79442ebbfa0cdd52b687c47": {
      "model_module": "@jupyter-widgets/base",
      "model_module_version": "2.0.0",
      "model_name": "LayoutModel",
      "state": {}
     },
     "b5981fda75c541428d971971c47c13c0": {
      "model_module": "@jupyter-widgets/base",
      "model_module_version": "2.0.0",
      "model_name": "LayoutModel",
      "state": {}
     },
     "b64238b0d3ed46a39767bfb02d6e88d8": {
      "model_module": "@jupyter-widgets/base",
      "model_module_version": "2.0.0",
      "model_name": "LayoutModel",
      "state": {}
     },
     "b7120e3437a44d50aafde60579c661eb": {
      "model_module": "@jupyter-widgets/base",
      "model_module_version": "2.0.0",
      "model_name": "LayoutModel",
      "state": {}
     },
     "b764c72beb0d43f3ac549c669fe073ba": {
      "model_module": "@jupyter-widgets/controls",
      "model_module_version": "2.0.0",
      "model_name": "FloatProgressModel",
      "state": {
       "bar_style": "danger",
       "layout": "IPY_MODEL_0a9717f374914e418aeafa8f0ddccf16",
       "max": 2239802060,
       "style": "IPY_MODEL_6d71d3492ab44b0394aef3eebc30c25b",
       "value": 352124928
      }
     },
     "b76844b052af4deeb019cbab3639899a": {
      "model_module": "@jupyter-widgets/controls",
      "model_module_version": "2.0.0",
      "model_name": "HBoxModel",
      "state": {
       "children": [
        "IPY_MODEL_f27053bdccb54f70a494b99a0709a9fe",
        "IPY_MODEL_2d38c8d75fcc46a4900c0034e0d8ed71",
        "IPY_MODEL_8cc69b316dcd4dafa5dc8b143b83022a"
       ],
       "layout": "IPY_MODEL_6aa16bee42c5468a87c9d33758da0db6"
      }
     },
     "bb952e6475bf471e9c5d5683d9794dd1": {
      "model_module": "@jupyter-widgets/base",
      "model_module_version": "2.0.0",
      "model_name": "LayoutModel",
      "state": {}
     },
     "be50e2c7479a4318aa68ac0c60d202e3": {
      "model_module": "@jupyter-widgets/base",
      "model_module_version": "2.0.0",
      "model_name": "LayoutModel",
      "state": {}
     },
     "be8221f16e38436b812d6796189de91c": {
      "model_module": "@jupyter-widgets/base",
      "model_module_version": "2.0.0",
      "model_name": "LayoutModel",
      "state": {}
     },
     "be8295c974cd40059bad3b014d4522c4": {
      "model_module": "@jupyter-widgets/controls",
      "model_module_version": "2.0.0",
      "model_name": "HTMLModel",
      "state": {
       "layout": "IPY_MODEL_a04fbe6805934251a1f84011c35096ba",
       "style": "IPY_MODEL_4959cfe961894933b522bd826b106d23",
       "value": "ray_results_nomodels.tar.xz:   0%"
      }
     },
     "c03de7378d2c444eafca27cedcd5a8a8": {
      "model_module": "@jupyter-widgets/base",
      "model_module_version": "2.0.0",
      "model_name": "LayoutModel",
      "state": {}
     },
     "c0a5d3df30d743b29e6e6eb36cf2d93a": {
      "model_module": "@jupyter-widgets/base",
      "model_module_version": "2.0.0",
      "model_name": "LayoutModel",
      "state": {}
     },
     "c17d7adf58864a5b891e345417d61287": {
      "model_module": "@jupyter-widgets/base",
      "model_module_version": "2.0.0",
      "model_name": "LayoutModel",
      "state": {}
     },
     "c2a67173386a4cd2a607749de10153db": {
      "model_module": "@jupyter-widgets/controls",
      "model_module_version": "2.0.0",
      "model_name": "HTMLModel",
      "state": {
       "layout": "IPY_MODEL_3fd0d2bd9f7d49feaf4cd1278e5a7e5a",
       "style": "IPY_MODEL_2f4f86b13a6b48968056ae6b0c2491fe"
      }
     },
     "c60df7c877bd40deb0d916e106f5dd7a": {
      "model_module": "@jupyter-widgets/controls",
      "model_module_version": "2.0.0",
      "model_name": "HTMLStyleModel",
      "state": {
       "description_width": "",
       "font_size": null,
       "text_color": null
      }
     },
     "c63aebc1250c4d99a75504c780a9a4d7": {
      "model_module": "@jupyter-widgets/base",
      "model_module_version": "2.0.0",
      "model_name": "LayoutModel",
      "state": {}
     },
     "c72b0520e3a44f178ee13a534c0b552a": {
      "model_module": "@jupyter-widgets/base",
      "model_module_version": "2.0.0",
      "model_name": "LayoutModel",
      "state": {}
     },
     "c799580af4df4ab78c01b14833f70152": {
      "model_module": "@jupyter-widgets/controls",
      "model_module_version": "2.0.0",
      "model_name": "FloatProgressModel",
      "state": {
       "bar_style": "danger",
       "layout": "IPY_MODEL_9cfc67524e4b4144a9776b7aaa48d85e",
       "max": 2239802060,
       "style": "IPY_MODEL_25f0a14f9e7e4017b64d5382b12d816e"
      }
     },
     "c846d32b112a4bb2ad8261430ea1ef36": {
      "model_module": "@jupyter-widgets/controls",
      "model_module_version": "2.0.0",
      "model_name": "HTMLModel",
      "state": {
       "layout": "IPY_MODEL_afe58c401ea84eadb3064bfaa1f9c510",
       "style": "IPY_MODEL_5bad7444223a4764a44a902cd5cdbc1c",
       "value": " 2.09G/? [03:09&lt;00:00, 11.8MB/s]"
      }
     },
     "c8cb4acb2d8341748e9ef904fbf22a2b": {
      "model_module": "@jupyter-widgets/controls",
      "model_module_version": "2.0.0",
      "model_name": "FloatProgressModel",
      "state": {
       "bar_style": "danger",
       "layout": "IPY_MODEL_78aa05bfc82746259e748d38f758aa80",
       "max": 2239802060,
       "style": "IPY_MODEL_4402096cd69f480bbce147d857b93765",
       "value": 354435072
      }
     },
     "c8fbf7df26a6448cacdada72329b98a4": {
      "model_module": "@jupyter-widgets/base",
      "model_module_version": "2.0.0",
      "model_name": "LayoutModel",
      "state": {}
     },
     "ca7a680923e54fb89813a5d9bc82f9d6": {
      "model_module": "@jupyter-widgets/base",
      "model_module_version": "2.0.0",
      "model_name": "LayoutModel",
      "state": {}
     },
     "cbeee4a43b664b30994b65ec9a61b2d4": {
      "model_module": "@jupyter-widgets/controls",
      "model_module_version": "2.0.0",
      "model_name": "FloatProgressModel",
      "state": {
       "bar_style": "success",
       "layout": "IPY_MODEL_3fa61a4b55224e7aa1e1b6633112f7df",
       "max": 2239802060,
       "style": "IPY_MODEL_b3a2db34d1fa42368c62b8972d9c4fa1",
       "value": 2239802060
      }
     },
     "ceddffb6639140d08145d10e3bd62421": {
      "model_module": "@jupyter-widgets/controls",
      "model_module_version": "2.0.0",
      "model_name": "HBoxModel",
      "state": {
       "children": [
        "IPY_MODEL_45ffb507ea54429fba52032cdb4b064f",
        "IPY_MODEL_d97b17baa5bc434c84b9a29cea33214e",
        "IPY_MODEL_7cb96cac52d7429dbf361865bd62912a"
       ],
       "layout": "IPY_MODEL_4e9e81bca91f43c2be44ff921b0a39de"
      }
     },
     "d14c10e6477442c997dfebc1669163b5": {
      "model_module": "@jupyter-widgets/controls",
      "model_module_version": "2.0.0",
      "model_name": "HTMLModel",
      "state": {
       "layout": "IPY_MODEL_65c4c6d3eaf648ceaf198b25e97bf6d5",
       "style": "IPY_MODEL_06223ae85b614135bae303ccf4578b58",
       "value": " 0.00/2.09G [00:00&lt;?, ?B/s]"
      }
     },
     "d1ec0f05b2e84cd5a7a55a08428b7b26": {
      "model_module": "@jupyter-widgets/base",
      "model_module_version": "2.0.0",
      "model_name": "LayoutModel",
      "state": {}
     },
     "d2e70ca0d5ce4c019bf027bc0438dc46": {
      "model_module": "@jupyter-widgets/controls",
      "model_module_version": "2.0.0",
      "model_name": "HTMLStyleModel",
      "state": {
       "description_width": "",
       "font_size": null,
       "text_color": null
      }
     },
     "d532c30e2aa746d0aa48a41c5c0e5828": {
      "model_module": "@jupyter-widgets/controls",
      "model_module_version": "2.0.0",
      "model_name": "FloatProgressModel",
      "state": {
       "bar_style": "danger",
       "layout": "IPY_MODEL_af30c7bb5d8e4632b359e788b0f0d16c",
       "max": 2239802060,
       "style": "IPY_MODEL_4b2bc5a758cb4f69845bb8c4496bfd71",
       "value": 25034752
      }
     },
     "d605e9646f6b4f08a9045185831f21e4": {
      "model_module": "@jupyter-widgets/controls",
      "model_module_version": "2.0.0",
      "model_name": "HTMLModel",
      "state": {
       "layout": "IPY_MODEL_b7120e3437a44d50aafde60579c661eb",
       "style": "IPY_MODEL_0aa7a468a5a541fca01a24125b6871ee",
       "value": " 0.00/2.09G [00:00&lt;?, ?B/s]"
      }
     },
     "d6d3d8a47c2744139e2af8b5cb1d71d1": {
      "model_module": "@jupyter-widgets/controls",
      "model_module_version": "2.0.0",
      "model_name": "HTMLModel",
      "state": {
       "layout": "IPY_MODEL_7efba1fdb6c8478f9b50b8150421c9ed",
       "style": "IPY_MODEL_3b33602bf12e4b96ad600ec4b68c5b68",
       "value": " 2.09G/? [03:09&lt;00:00, 11.8MB/s]"
      }
     },
     "d719cf04a45443c6a1429a4880d73b83": {
      "model_module": "@jupyter-widgets/base",
      "model_module_version": "2.0.0",
      "model_name": "LayoutModel",
      "state": {}
     },
     "d8138b3376b248a28b98d16015d63b9e": {
      "model_module": "@jupyter-widgets/base",
      "model_module_version": "2.0.0",
      "model_name": "LayoutModel",
      "state": {}
     },
     "d89500ea477a44229dcd1cb21bcc7778": {
      "model_module": "@jupyter-widgets/controls",
      "model_module_version": "2.0.0",
      "model_name": "FloatProgressModel",
      "state": {
       "layout": "IPY_MODEL_743b4dd4252c40f49f5f89f438aa4489",
       "max": 2239802060,
       "style": "IPY_MODEL_13bc2e3798c54570b0ac7867e5e77f50"
      }
     },
     "d8c3c89cdd464872a0266a8c451c904e": {
      "model_module": "@jupyter-widgets/base",
      "model_module_version": "2.0.0",
      "model_name": "LayoutModel",
      "state": {}
     },
     "d97b17baa5bc434c84b9a29cea33214e": {
      "model_module": "@jupyter-widgets/controls",
      "model_module_version": "2.0.0",
      "model_name": "FloatProgressModel",
      "state": {
       "bar_style": "danger",
       "layout": "IPY_MODEL_964c878a01374d15abf17fe38d1b0aeb",
       "max": 2239802060,
       "style": "IPY_MODEL_b1d3730b228b423aaf11a726cc8763d6"
      }
     },
     "da2143d1940b42258ae566b09aafe4f0": {
      "model_module": "@jupyter-widgets/controls",
      "model_module_version": "2.0.0",
      "model_name": "HTMLStyleModel",
      "state": {
       "description_width": "",
       "font_size": null,
       "text_color": null
      }
     },
     "da2d0a975a894615a1c8373ff01930a1": {
      "model_module": "@jupyter-widgets/controls",
      "model_module_version": "2.0.0",
      "model_name": "HTMLModel",
      "state": {
       "layout": "IPY_MODEL_c72b0520e3a44f178ee13a534c0b552a",
       "style": "IPY_MODEL_fb244399af20466cbe328dbd908bb348",
       "value": " 0.00/2.09G [00:00&lt;?, ?B/s]"
      }
     },
     "da784c6437ac45a48e8e8f28f66b1cc2": {
      "model_module": "@jupyter-widgets/controls",
      "model_module_version": "2.0.0",
      "model_name": "HTMLStyleModel",
      "state": {
       "description_width": "",
       "font_size": null,
       "text_color": null
      }
     },
     "db63f68fc781472e923d7ea68d870c43": {
      "model_module": "@jupyter-widgets/controls",
      "model_module_version": "2.0.0",
      "model_name": "HBoxModel",
      "state": {
       "children": [
        "IPY_MODEL_4e514b3928ce49ae8f4d3fde0e3d6fa2",
        "IPY_MODEL_8e7e79ab1b734ef5800fdf755649da10",
        "IPY_MODEL_d605e9646f6b4f08a9045185831f21e4"
       ],
       "layout": "IPY_MODEL_46d1dd814fef4f059f2e4d2779482a45"
      }
     },
     "dbecbceeb8694d059a8011050f3b2656": {
      "model_module": "@jupyter-widgets/controls",
      "model_module_version": "2.0.0",
      "model_name": "HBoxModel",
      "state": {
       "children": [
        "IPY_MODEL_34d9d6d505174cd388ab9605558f5744",
        "IPY_MODEL_3a7abb299edc4d70a8e534bd5206778e",
        "IPY_MODEL_ac4e91502d3341269ea834afc160421d"
       ],
       "layout": "IPY_MODEL_506702d7e13345c7860839a72b1c91ff"
      }
     },
     "de478cd5905c4148b7a0084242961548": {
      "model_module": "@jupyter-widgets/base",
      "model_module_version": "2.0.0",
      "model_name": "LayoutModel",
      "state": {}
     },
     "de5660489b8846e3be9afaf2a2b33a99": {
      "model_module": "@jupyter-widgets/base",
      "model_module_version": "2.0.0",
      "model_name": "LayoutModel",
      "state": {}
     },
     "de8c04cff81148b9a44f8ae6da9ad3a3": {
      "model_module": "@jupyter-widgets/controls",
      "model_module_version": "2.0.0",
      "model_name": "HTMLStyleModel",
      "state": {
       "description_width": "",
       "font_size": null,
       "text_color": null
      }
     },
     "df9c9a1a057f41cab12a7f7e79c7dbdc": {
      "model_module": "@jupyter-widgets/controls",
      "model_module_version": "2.0.0",
      "model_name": "HTMLModel",
      "state": {
       "layout": "IPY_MODEL_fd5599a525d84af0b15d3bf54b5f00c8",
       "style": "IPY_MODEL_fa61e7c865dc4d9d8dffd83fac9f285b",
       "value": "ray_results_nomodels.tar.xz:   0%"
      }
     },
     "e0eda9e1f106496296dd596f3d6489a2": {
      "model_module": "@jupyter-widgets/base",
      "model_module_version": "2.0.0",
      "model_name": "LayoutModel",
      "state": {}
     },
     "e12c38096a5e4b388c01424c82dda2d0": {
      "model_module": "@jupyter-widgets/controls",
      "model_module_version": "2.0.0",
      "model_name": "FloatProgressModel",
      "state": {
       "bar_style": "danger",
       "layout": "IPY_MODEL_03c51cfb0e3c43f9a4ce9d14f48cc0e0",
       "max": 2239802060,
       "style": "IPY_MODEL_782aed30456c491ca12d016b6cd488e8"
      }
     },
     "e15a2c505adc4426bdec0f309614aa03": {
      "model_module": "@jupyter-widgets/base",
      "model_module_version": "2.0.0",
      "model_name": "LayoutModel",
      "state": {}
     },
     "e1d244f7aee84b2095040c8d7c5a6a43": {
      "model_module": "@jupyter-widgets/controls",
      "model_module_version": "2.0.0",
      "model_name": "HTMLStyleModel",
      "state": {
       "description_width": "",
       "font_size": null,
       "text_color": null
      }
     },
     "e1d83170f73c46218d883a72601dae62": {
      "model_module": "@jupyter-widgets/base",
      "model_module_version": "2.0.0",
      "model_name": "LayoutModel",
      "state": {}
     },
     "e2022a33cb25447f8137b5d661b79cc3": {
      "model_module": "@jupyter-widgets/controls",
      "model_module_version": "2.0.0",
      "model_name": "HTMLModel",
      "state": {
       "layout": "IPY_MODEL_567e9a6fc61b4490b964bb5f2abffada",
       "style": "IPY_MODEL_c60df7c877bd40deb0d916e106f5dd7a",
       "value": " 0.00/2.09G [00:00&lt;?, ?B/s]"
      }
     },
     "e35c6fb097fc4173b91afcc1a32b6bfb": {
      "model_module": "@jupyter-widgets/base",
      "model_module_version": "2.0.0",
      "model_name": "LayoutModel",
      "state": {}
     },
     "e39e8c8c2dbd4fa1981480b13455afb3": {
      "model_module": "@jupyter-widgets/base",
      "model_module_version": "2.0.0",
      "model_name": "LayoutModel",
      "state": {}
     },
     "e3fcd7c41f0e45f3b46f773ed783ad3b": {
      "model_module": "@jupyter-widgets/controls",
      "model_module_version": "2.0.0",
      "model_name": "HTMLModel",
      "state": {
       "layout": "IPY_MODEL_48d38c0a61a548d1b773b94c52e8c8fa",
       "style": "IPY_MODEL_58dcc3d3337d4b05b7cb68f92b0a3459",
       "value": "ray_results_nomodels.tar.xz:   0%"
      }
     },
     "e6dc12f908f34c4491f6471192380b4f": {
      "model_module": "@jupyter-widgets/base",
      "model_module_version": "2.0.0",
      "model_name": "LayoutModel",
      "state": {}
     },
     "e75d75308d5b45359ebfdae45089f897": {
      "model_module": "@jupyter-widgets/base",
      "model_module_version": "2.0.0",
      "model_name": "LayoutModel",
      "state": {}
     },
     "e865f4e47481484187f64d0dfaf39e83": {
      "model_module": "@jupyter-widgets/base",
      "model_module_version": "2.0.0",
      "model_name": "LayoutModel",
      "state": {}
     },
     "e98f1e0453a046b18d9c7e5010c8f7a1": {
      "model_module": "@jupyter-widgets/controls",
      "model_module_version": "2.0.0",
      "model_name": "HTMLModel",
      "state": {
       "layout": "IPY_MODEL_733bc0cc56bf431f9f55f298a3efe0e8",
       "style": "IPY_MODEL_83c46a83dedb41cdb05752596deffa54",
       "value": "ray_results_nomodels.tar.xz:   0%"
      }
     },
     "e99fc088e91f4df2ba5d131b6f09cccc": {
      "model_module": "@jupyter-widgets/base",
      "model_module_version": "2.0.0",
      "model_name": "LayoutModel",
      "state": {}
     },
     "ea95b9156ff346ab9c8024ff49ad318e": {
      "model_module": "@jupyter-widgets/base",
      "model_module_version": "2.0.0",
      "model_name": "LayoutModel",
      "state": {}
     },
     "eb4f3ce0ec1542439a45109323cfe9f0": {
      "model_module": "@jupyter-widgets/base",
      "model_module_version": "2.0.0",
      "model_name": "LayoutModel",
      "state": {}
     },
     "eb6263fc220247e0a7b2139086548510": {
      "model_module": "@jupyter-widgets/base",
      "model_module_version": "2.0.0",
      "model_name": "LayoutModel",
      "state": {}
     },
     "ec6eca6e80784deb86d252ad209f1799": {
      "model_module": "@jupyter-widgets/controls",
      "model_module_version": "2.0.0",
      "model_name": "HTMLModel",
      "state": {
       "layout": "IPY_MODEL_038e1fdecd834189a7d551acc2b0fd11",
       "style": "IPY_MODEL_de8c04cff81148b9a44f8ae6da9ad3a3",
       "value": " 0.00/2.09G [00:00&lt;?, ?B/s]"
      }
     },
     "ec72ef809edd453fa5a4a3413c63c711": {
      "model_module": "@jupyter-widgets/controls",
      "model_module_version": "2.0.0",
      "model_name": "HTMLStyleModel",
      "state": {
       "description_width": "",
       "font_size": null,
       "text_color": null
      }
     },
     "ec8ae70bf4c54b668bbb7ea79a154d58": {
      "model_module": "@jupyter-widgets/controls",
      "model_module_version": "2.0.0",
      "model_name": "FloatProgressModel",
      "state": {
       "bar_style": "danger",
       "layout": "IPY_MODEL_eb6263fc220247e0a7b2139086548510",
       "max": 2239802060,
       "style": "IPY_MODEL_a4b4f3c128e64f3691aba33a7d31ae10"
      }
     },
     "ecbd24f0689e472a96fe90af7fd85ce0": {
      "model_module": "@jupyter-widgets/controls",
      "model_module_version": "2.0.0",
      "model_name": "HTMLModel",
      "state": {
       "layout": "IPY_MODEL_7d9944b767474c91b2c2f046030f143e",
       "style": "IPY_MODEL_8cb568b6a43240418141386b8173d226",
       "value": "ray_results_nomodels.tar.xz:   1%"
      }
     },
     "ed1c6f5a5c534cbfacb2abdf1a37dac0": {
      "model_module": "@jupyter-widgets/controls",
      "model_module_version": "2.0.0",
      "model_name": "FloatProgressModel",
      "state": {
       "bar_style": "danger",
       "layout": "IPY_MODEL_e15a2c505adc4426bdec0f309614aa03",
       "max": 2239802060,
       "style": "IPY_MODEL_2c75779af562417d94db956d2ad2bc90"
      }
     },
     "ed36cb1295684a2aafd7f62f6641124d": {
      "model_module": "@jupyter-widgets/controls",
      "model_module_version": "2.0.0",
      "model_name": "HTMLModel",
      "state": {
       "layout": "IPY_MODEL_e1d83170f73c46218d883a72601dae62",
       "style": "IPY_MODEL_4f2f91f1d6f94cbfb80a0c7e4d94c6fe",
       "value": " 0.00/2.09G [00:00&lt;?, ?B/s]"
      }
     },
     "ee1fb614787849f1a2a4517935656b8b": {
      "model_module": "@jupyter-widgets/controls",
      "model_module_version": "2.0.0",
      "model_name": "HBoxModel",
      "state": {
       "children": [
        "IPY_MODEL_6c21e42a0aca43519e7d6c773ab8fdb3",
        "IPY_MODEL_b764c72beb0d43f3ac549c669fe073ba",
        "IPY_MODEL_870d1633394c445dab0e2ce2330c877e"
       ],
       "layout": "IPY_MODEL_9baa9aa4277b4107801f045dd542ed80"
      }
     },
     "eed00fc4d2b74488945e8020678e63ad": {
      "model_module": "@jupyter-widgets/controls",
      "model_module_version": "2.0.0",
      "model_name": "HTMLModel",
      "state": {
       "layout": "IPY_MODEL_6f9a0e1b6f3349229db87217d46dae24",
       "style": "IPY_MODEL_403f1ee00d6c479bafabcd243d42a371",
       "value": "ray_results_nomodels.tar.xz:   0%"
      }
     },
     "eed1719932714e038d15e72b204238da": {
      "model_module": "@jupyter-widgets/base",
      "model_module_version": "2.0.0",
      "model_name": "LayoutModel",
      "state": {}
     },
     "ef33e7ff76cf4ec1ba5e15d3eaf988b5": {
      "model_module": "@jupyter-widgets/controls",
      "model_module_version": "2.0.0",
      "model_name": "HBoxModel",
      "state": {
       "children": [
        "IPY_MODEL_e3fcd7c41f0e45f3b46f773ed783ad3b",
        "IPY_MODEL_c799580af4df4ab78c01b14833f70152",
        "IPY_MODEL_ed36cb1295684a2aafd7f62f6641124d"
       ],
       "layout": "IPY_MODEL_b5981fda75c541428d971971c47c13c0"
      }
     },
     "f07d9cb014d2468d87bd57a8f0fa1d51": {
      "model_module": "@jupyter-widgets/base",
      "model_module_version": "2.0.0",
      "model_name": "LayoutModel",
      "state": {}
     },
     "f12f8addcc9b436d966e0dd1083c317e": {
      "model_module": "@jupyter-widgets/controls",
      "model_module_version": "2.0.0",
      "model_name": "HTMLStyleModel",
      "state": {
       "description_width": "",
       "font_size": null,
       "text_color": null
      }
     },
     "f199093d3a30449a977e95a2e18bc2d0": {
      "model_module": "@jupyter-widgets/controls",
      "model_module_version": "2.0.0",
      "model_name": "HTMLStyleModel",
      "state": {
       "description_width": "",
       "font_size": null,
       "text_color": null
      }
     },
     "f27053bdccb54f70a494b99a0709a9fe": {
      "model_module": "@jupyter-widgets/controls",
      "model_module_version": "2.0.0",
      "model_name": "HTMLModel",
      "state": {
       "layout": "IPY_MODEL_c0a5d3df30d743b29e6e6eb36cf2d93a",
       "style": "IPY_MODEL_a3c7f478f8e149bd9e4bcb21fa7eb121",
       "value": "ray_results_nomodels.tar.xz:   2%"
      }
     },
     "f296cde36b8641d6a3071b50e1821087": {
      "model_module": "@jupyter-widgets/controls",
      "model_module_version": "2.0.0",
      "model_name": "FloatProgressModel",
      "state": {
       "bar_style": "danger",
       "layout": "IPY_MODEL_eb4f3ce0ec1542439a45109323cfe9f0",
       "max": 2239802060,
       "style": "IPY_MODEL_6c5e4192df8c4b20a7a4ba0ebc70d5d3"
      }
     },
     "f2da6ca22337493784672e9aaedbfdf0": {
      "model_module": "@jupyter-widgets/controls",
      "model_module_version": "2.0.0",
      "model_name": "HTMLModel",
      "state": {
       "layout": "IPY_MODEL_4a8360cd88714cdab64e53e60c733af5",
       "style": "IPY_MODEL_7da43e6ba3f2448f845bf7d3a2aefa69",
       "value": " 338M/2.09G [00:29&lt;02:39, 11.8MB/s]"
      }
     },
     "f4c49d82d47146958537a981971b417f": {
      "model_module": "@jupyter-widgets/controls",
      "model_module_version": "2.0.0",
      "model_name": "HTMLStyleModel",
      "state": {
       "description_width": "",
       "font_size": null,
       "text_color": null
      }
     },
     "f5e05f35eb3146d697ec7a0a9053602a": {
      "model_module": "@jupyter-widgets/controls",
      "model_module_version": "2.0.0",
      "model_name": "FloatProgressModel",
      "state": {
       "bar_style": "danger",
       "layout": "IPY_MODEL_c03de7378d2c444eafca27cedcd5a8a8",
       "max": 2239802060,
       "style": "IPY_MODEL_8f0c776f0c22402ba595171f705d63b1"
      }
     },
     "f621e7e4d03e4b97925d89c271933265": {
      "model_module": "@jupyter-widgets/controls",
      "model_module_version": "2.0.0",
      "model_name": "HTMLModel",
      "state": {
       "layout": "IPY_MODEL_eed1719932714e038d15e72b204238da",
       "style": "IPY_MODEL_1991b39b3637414cb19e95f25e973543",
       "value": " 24.3M/2.09G [00:02&lt;03:07, 11.8MB/s]"
      }
     },
     "f874ad2666c84a44abfb8655acf82e3d": {
      "model_module": "@jupyter-widgets/base",
      "model_module_version": "2.0.0",
      "model_name": "LayoutModel",
      "state": {}
     },
     "fa61e7c865dc4d9d8dffd83fac9f285b": {
      "model_module": "@jupyter-widgets/controls",
      "model_module_version": "2.0.0",
      "model_name": "HTMLStyleModel",
      "state": {
       "description_width": "",
       "font_size": null,
       "text_color": null
      }
     },
     "fb244399af20466cbe328dbd908bb348": {
      "model_module": "@jupyter-widgets/controls",
      "model_module_version": "2.0.0",
      "model_name": "HTMLStyleModel",
      "state": {
       "description_width": "",
       "font_size": null,
       "text_color": null
      }
     },
     "fb661ae49e1240e78c39a5113b460e6a": {
      "model_module": "@jupyter-widgets/base",
      "model_module_version": "2.0.0",
      "model_name": "LayoutModel",
      "state": {}
     },
     "fd44a78cf09b43e8a3c3fb3ec9a510bd": {
      "model_module": "@jupyter-widgets/base",
      "model_module_version": "2.0.0",
      "model_name": "LayoutModel",
      "state": {}
     },
     "fd5599a525d84af0b15d3bf54b5f00c8": {
      "model_module": "@jupyter-widgets/base",
      "model_module_version": "2.0.0",
      "model_name": "LayoutModel",
      "state": {}
     },
     "fda6764f9da849c7af556439e592e02f": {
      "model_module": "@jupyter-widgets/controls",
      "model_module_version": "2.0.0",
      "model_name": "ProgressStyleModel",
      "state": {
       "description_width": ""
      }
     },
     "fdafd773e1c746d69b53e7e1d100d559": {
      "model_module": "@jupyter-widgets/controls",
      "model_module_version": "2.0.0",
      "model_name": "HTMLStyleModel",
      "state": {
       "description_width": "",
       "font_size": null,
       "text_color": null
      }
     },
     "feb4f6d68b8e46828a0de94a7457fe59": {
      "model_module": "@jupyter-widgets/controls",
      "model_module_version": "2.0.0",
      "model_name": "HTMLStyleModel",
      "state": {
       "description_width": "",
       "font_size": null,
       "text_color": null
      }
     },
     "feb834f3747b4aa397f9c80b42ae61a9": {
      "model_module": "@jupyter-widgets/base",
      "model_module_version": "2.0.0",
      "model_name": "LayoutModel",
      "state": {}
     },
     "ff8422d0d6f94dde936bee425789e3ca": {
      "model_module": "@jupyter-widgets/controls",
      "model_module_version": "2.0.0",
      "model_name": "HTMLModel",
      "state": {
       "layout": "IPY_MODEL_6ccc6609c42d4064a07c7e1909b6428a",
       "style": "IPY_MODEL_9f76bf88f7984580a99b029580059126"
      }
     },
     "ff997e91d9f04440a18bc40017d823a8": {
      "model_module": "@jupyter-widgets/base",
      "model_module_version": "2.0.0",
      "model_name": "LayoutModel",
      "state": {}
     }
    },
    "version_major": 2,
    "version_minor": 0
   }
  }
 },
 "nbformat": 4,
 "nbformat_minor": 5
}
