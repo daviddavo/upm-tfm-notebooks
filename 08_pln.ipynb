{
 "cells": [
  {
   "cell_type": "code",
   "execution_count": 1,
   "id": "752ee701-9042-4672-b875-fcb1f1ff83a2",
   "metadata": {},
   "outputs": [],
   "source": [
    "from typing import Dict, List, Tuple, Union, Any, Optional\n",
    "\n",
    "from functools import partial\n",
    "import itertools as it\n",
    "\n",
    "import pandas as pd\n",
    "import numpy as np\n",
    "import datetime as dt\n",
    "import os, sys\n",
    "\n",
    "from pathlib import Path\n",
    "\n",
    "import torch\n",
    "import ray\n",
    "from ray import train, tune\n",
    "\n",
    "import matplotlib.pyplot as plt\n",
    "import seaborn as sns\n",
    "import plotly.express as px\n",
    "\n",
    "from tqdm.notebook import tqdm\n",
    "\n",
    "from src.datasets import daocensus\n",
    "\n",
    "%load_ext autoreload\n",
    "%autoreload 2"
   ]
  },
  {
   "cell_type": "markdown",
   "id": "b04b58f5-59bd-4000-9e19-6cb20ea8afb3",
   "metadata": {},
   "source": [
    "### Parameters"
   ]
  },
  {
   "cell_type": "code",
   "execution_count": 2,
   "id": "ee507d49-c555-43ca-97dc-e0f627737421",
   "metadata": {},
   "outputs": [],
   "source": [
    "TRANSFORMER_MODEL = \"all-mpnet-base-v2\"\n",
    "ORG_NAME = 'Decentraland'\n",
    "\n",
    "# Evaluation\n",
    "N_SPLITS: int = 50\n",
    "SKIP_SPLIT: int = 0\n",
    "K_RECOMMENDATIONS: List[int] = [5, 10]\n",
    "\n",
    "# k for K Nearest Neighbors\n",
    "# KNN_K: int = 1"
   ]
  },
  {
   "cell_type": "code",
   "execution_count": 3,
   "id": "dff49c62-41a3-4b70-b486-55cbafede303",
   "metadata": {
    "scrolled": true
   },
   "outputs": [
    {
     "name": "stdout",
     "output_type": "stream",
     "text": [
      "<class 'pandas.core.frame.DataFrame'>\n",
      "RangeIndex: 116560 entries, 0 to 116559\n",
      "Data columns (total 10 columns):\n",
      " #   Column         Non-Null Count   Dtype         \n",
      "---  ------         --------------   -----         \n",
      " 0   platform       116560 non-null  object        \n",
      " 1   name           116560 non-null  object        \n",
      " 2   id             116560 non-null  object        \n",
      " 3   proposal       116560 non-null  category      \n",
      " 4   deployment     116560 non-null  object        \n",
      " 5   platform_vote  116560 non-null  object        \n",
      " 6   voter          116560 non-null  object        \n",
      " 7   date           116560 non-null  datetime64[ns]\n",
      " 8   choice         116560 non-null  object        \n",
      " 9   weight         116560 non-null  float64       \n",
      "dtypes: category(1), datetime64[ns](1), float64(1), object(7)\n",
      "memory usage: 8.3+ MB\n",
      "None\n",
      "<class 'pandas.core.frame.DataFrame'>\n",
      "Int64Index: 1942 entries, 0 to 1941\n",
      "Data columns (total 14 columns):\n",
      " #   Column               Non-Null Count  Dtype         \n",
      "---  ------               --------------  -----         \n",
      " 0   platform             1942 non-null   object        \n",
      " 1   name                 1942 non-null   object        \n",
      " 2   platform_deployment  1942 non-null   object        \n",
      " 3   id                   1942 non-null   category      \n",
      " 4   deployment           1942 non-null   object        \n",
      " 5   platform_proposal    1942 non-null   object        \n",
      " 6   author               1942 non-null   category      \n",
      " 7   date                 1942 non-null   datetime64[ns]\n",
      " 8   votes_count          1942 non-null   int64         \n",
      " 9   proposal_id          1942 non-null   object        \n",
      " 10  title                1942 non-null   object        \n",
      " 11  description          1942 non-null   object        \n",
      " 12  start                1942 non-null   datetime64[ns]\n",
      " 13  end                  1942 non-null   datetime64[ns]\n",
      "dtypes: category(2), datetime64[ns](3), int64(1), object(8)\n",
      "memory usage: 599.4+ KB\n",
      "None\n"
     ]
    }
   ],
   "source": [
    "dfptext = pd.read_csv('./snapshot_proposals.csv')[['proposal_id', 'title', 'description', 'start', 'end']]\n",
    "dfv, dfp = daocensus.get(\"./data/daos-census\", ORG_NAME, 'snapshot')\n",
    "dfv['voter'] = dfv['voter'].astype('str')\n",
    "dfp = dfp.merge(dfptext, how='left', left_on='platform_proposal', right_on='proposal_id')\n",
    "dfp[['start', 'end']] = dfp[['start', 'end']].astype('datetime64')\n",
    "print(dfv.info())\n",
    "print(dfp.info())"
   ]
  },
  {
   "cell_type": "markdown",
   "id": "5e116e4b-6cae-4893-83fc-3b9cd8000541",
   "metadata": {},
   "source": [
    "## Getting the embeddings of each proposal"
   ]
  },
  {
   "cell_type": "code",
   "execution_count": 4,
   "id": "61d7c966-0ef9-41e2-8837-6782146c60ab",
   "metadata": {},
   "outputs": [],
   "source": [
    "from sentence_transformers import SentenceTransformer\n",
    "import pickle"
   ]
  },
  {
   "cell_type": "code",
   "execution_count": 5,
   "id": "9151cda0-227b-416a-9a82-142732826a8e",
   "metadata": {},
   "outputs": [],
   "source": [
    "model = SentenceTransformer(TRANSFORMER_MODEL)"
   ]
  },
  {
   "cell_type": "code",
   "execution_count": 6,
   "id": "4bcd4e2f-0482-432e-9e43-4db8cc441876",
   "metadata": {},
   "outputs": [
    {
     "name": "stdout",
     "output_type": "stream",
     "text": [
      "Embeddings file saved, reading it instead...\n",
      "Embeddings shape: (1942, 768)\n"
     ]
    }
   ],
   "source": [
    "embeddings_folder = Path('./data/daos-census-text')\n",
    "embeddings_file = embeddings_folder / 'embeddings.pkl'\n",
    "\n",
    "dfp['title-description'] = dfp['title'] + '\\n' + dfp['description']\n",
    "\n",
    "if not embeddings_folder.exists():\n",
    "    embeddings_folder.mkdir()\n",
    "\n",
    "embeddings = None\n",
    "if embeddings_file.exists():\n",
    "    print('Embeddings file saved, reading it instead...')\n",
    "    with open(embeddings_file, 'rb') as f:\n",
    "        obj = pickle.load(f)\n",
    "    \n",
    "    embeddings = obj['embeddings']\n",
    "    print(\"Embeddings shape:\", embeddings.shape)\n",
    "    ids = obj['ids']\n",
    "\n",
    "if embeddings is None:\n",
    "    embeddings = model.encode(dfp['title-description'], show_progress_bar=True, normalize_embeddings=True)\n",
    "    with open(embeddings_file, 'wb+') as f:\n",
    "        pickle.dump({'sentences': dfp['title-description'], 'embeddings': embeddings, 'ids': dfp['id']}, f, protocol=pickle.HIGHEST_PROTOCOL)\n",
    "    ids = dfp['id']"
   ]
  },
  {
   "cell_type": "code",
   "execution_count": 7,
   "id": "12f3a51c-97e2-4bb0-a3bb-c0f826b3c280",
   "metadata": {
    "scrolled": true
   },
   "outputs": [
    {
     "name": "stdout",
     "output_type": "stream",
     "text": [
      "(768,)\n"
     ]
    },
    {
     "data": {
      "text/plain": [
       "array([[ 1.1403942e-03,  8.6159667e-04,  6.9543906e-04, ...,\n",
       "        -2.7190472e-03, -1.0145850e-03,  3.9847512e-03],\n",
       "       [-4.0623921e-04,  4.4145260e-04,  9.4736629e-04, ...,\n",
       "         1.6015386e-03,  1.8749244e-03, -2.8607671e-04],\n",
       "       [ 2.3584028e-03,  5.8685098e-04,  7.1522983e-04, ...,\n",
       "        -2.2754685e-03, -1.4056198e-04, -3.7364415e-03],\n",
       "       ...,\n",
       "       [ 7.4751978e-04,  6.6007749e-04,  6.3091848e-04, ...,\n",
       "         2.4024327e-03, -2.0156235e-03,  3.5178075e-03],\n",
       "       [ 1.0567971e-03,  4.8019559e-05,  3.8508393e-04, ...,\n",
       "        -2.2719151e-04,  3.0133147e-03, -4.8025078e-03],\n",
       "       [-7.7102036e-04,  5.3977495e-04,  6.2477670e-04, ...,\n",
       "         4.1932142e-03, -3.2050564e-05,  5.8417697e-03]], dtype=float32)"
      ]
     },
     "execution_count": 7,
     "metadata": {},
     "output_type": "execute_result"
    }
   ],
   "source": [
    "embeddings_sum = embeddings.sum(axis=0)\n",
    "print(embeddings_sum.shape)\n",
    "embeddings = embeddings / embeddings_sum\n",
    "embeddings"
   ]
  },
  {
   "cell_type": "code",
   "execution_count": 8,
   "id": "df2eb91e-65e0-4b1d-a87c-fbfa4bc3eef1",
   "metadata": {},
   "outputs": [],
   "source": [
    "dfp['embeddings'] = list(embeddings)"
   ]
  },
  {
   "cell_type": "markdown",
   "id": "d72c7ba3-ca13-4f06-86bb-5a565e170bb9",
   "metadata": {},
   "source": [
    "## Getting the embeddings of each user\n",
    "\n",
    "The embeddings of each user are the embeddings of each proposal the user has voted in"
   ]
  },
  {
   "cell_type": "code",
   "execution_count": 9,
   "id": "bdc45b70-8397-422d-89c5-814e629fcee6",
   "metadata": {},
   "outputs": [
    {
     "name": "stdout",
     "output_type": "stream",
     "text": [
      "dfp: (1942, 17) dfv: (116560, 10) _dfv: (116560, 12)\n"
     ]
    },
    {
     "data": {
      "text/plain": [
       "(116560, 768)"
      ]
     },
     "execution_count": 9,
     "metadata": {},
     "output_type": "execute_result"
    }
   ],
   "source": [
    "dfp['nbidx'] = dfp.index\n",
    "_dfv = dfv.merge(dfp[['id', 'nbidx']], how='left', left_on='proposal', right_on='id')\n",
    "print('dfp:', dfp.shape, 'dfv:', dfv.shape, '_dfv:', _dfv.shape)\n",
    "votes_embeddings = embeddings[_dfv['nbidx']]\n",
    "votes_embeddings.shape"
   ]
  },
  {
   "cell_type": "code",
   "execution_count": 10,
   "id": "246bc838-f222-4813-bd0f-996b3ba1b165",
   "metadata": {},
   "outputs": [
    {
     "name": "stdout",
     "output_type": "stream",
     "text": [
      "[0.6 0.8]\n",
      "1.0\n",
      "1.4\n"
     ]
    }
   ],
   "source": [
    "x=np.array([3,4])\n",
    "x = x / np.linalg.norm(x)\n",
    "print(x)\n",
    "print(np.linalg.norm(x))\n",
    "print(x.sum())"
   ]
  },
  {
   "cell_type": "code",
   "execution_count": 11,
   "id": "bd59ea53-9ca7-4fa5-a11b-cea31f8cd14f",
   "metadata": {},
   "outputs": [
    {
     "data": {
      "text/plain": [
       "voter\n",
       "0x0019220ddabe5b8438a6be6ebca31ef01ca69965    [0.0005797436, 0.0008813106, 0.0009436921, 0.0...\n",
       "0x0023a0bf1cb20362f847dfc977d2c815f6ac8021    [0.0058569475, 0.0020814762, 0.0020506687, 0.0...\n",
       "0x0026dd985da16f70e9d9cf739b08c6cdf6a7f407    [0.00049382605, 0.000369442, 0.0001715262, 0.0...\n",
       "0x0029ab135b5be72168bf80f140d60a9264dbd0c5    [0.0015583907, 0.0006184035, 0.0007542482, 0.0...\n",
       "0x003a3eb1a1d2ad3bea19ae06324727beeeec2e34    [0.0029788632, 0.0022017027, 0.0020975238, 0.0...\n",
       "                                                                    ...                        \n",
       "0xffd92144cafd599a5a93e4805ca4d8f0e666d623    [0.0018572637, 0.0015811239, 0.0013924055, 0.0...\n",
       "0xffd9cd75445459184a4b89a0fbd1720ab2957738    [0.001981472, 0.0022674527, 0.0011901953, 0.00...\n",
       "0xffe6d9d29480d0673c4fc46da22d21e245c8e731    [0.0024959077, 0.0013624564, 0.0004591559, 0.0...\n",
       "0xffed2f64c9f796d4258618a7a375ed816205821a    [-0.00015786002, 0.0002711929, 0.0002997918, 8...\n",
       "0xfff28923092a8294456206a6d0734514bebcbe67    [0.00033324183, 0.00023291852, 0.00032616674, ...\n",
       "Length: 7268, dtype: object"
      ]
     },
     "execution_count": 11,
     "metadata": {},
     "output_type": "execute_result"
    }
   ],
   "source": [
    "voter_embeddings = dfv.groupby('voter').apply(lambda x: votes_embeddings[x.index].sum(axis=0))\n",
    "voter_embeddings = voter_embeddings.apply(lambda x: x/np.linalg.norm(x))\n",
    "# msk = (np.linalg.norm(np.stack(voter_embeddings.to_numpy()), axis=1) > 0.9)\n",
    "voter_embeddings"
   ]
  },
  {
   "cell_type": "code",
   "execution_count": 12,
   "id": "8fbbb3da-7553-4252-b894-764ad52324f9",
   "metadata": {},
   "outputs": [
    {
     "data": {
      "text/plain": [
       "voter\n",
       "0x7dc3331bc545a41e566dfbbb3d8851bf4762486f      1\n",
       "0x7ae0a65d329bc202e83a360d9afc880063c12337      1\n",
       "0x7b07608c3e4ef235c7a5e15f02a7fa9552ce113f      1\n",
       "0x7b29be2f106712287024e6228e015d44cdfa0dec      1\n",
       "0x7b2ec1a291a0a4dd08d65ab34a62bda1cca618c6      1\n",
       "                                             ... \n",
       "0x613e052555ac74ff6af0fc64e40e8035c1e9dcf8    652\n",
       "0xd6eff8f07caf3443a1178407d3de4129149d6ef6    727\n",
       "0xb44ac514588be99870220d12120815bc3d349507    729\n",
       "0x521b0fef9cdcf250abaf8e7bc798cbe13fa98692    760\n",
       "0xc54a6c3778016b06cbd126ccc3b5bc06c5f666fb    885\n",
       "Length: 7268, dtype: int64"
      ]
     },
     "execution_count": 12,
     "metadata": {},
     "output_type": "execute_result"
    }
   ],
   "source": [
    "dfv.groupby('voter').size().sort_values()"
   ]
  },
  {
   "cell_type": "markdown",
   "id": "5cc72b63-24eb-427a-832d-72dc606c3645",
   "metadata": {},
   "source": [
    "## Making recommendations with cosine similarity\n",
    "\n",
    "Because they are normalized, our ranking score can be just the dot product of a user and a proposal"
   ]
  },
  {
   "cell_type": "code",
   "execution_count": 13,
   "id": "3d059da7-6cdc-4e24-8640-656ef6014d7e",
   "metadata": {},
   "outputs": [
    {
     "data": {
      "text/plain": [
       "array([ 324,  940,  320, ...,  413, 1134,  457])"
      ]
     },
     "execution_count": 13,
     "metadata": {},
     "output_type": "execute_result"
    }
   ],
   "source": [
    "user_emb = voter_embeddings['0x613e052555ac74ff6af0fc64e40e8035c1e9dcf8']\n",
    "scores = embeddings @ user_emb\n",
    "scores.argsort()"
   ]
  },
  {
   "cell_type": "code",
   "execution_count": 14,
   "id": "e2e2af5b-9011-480c-ae4d-cdc16db5ad51",
   "metadata": {},
   "outputs": [
    {
     "data": {
      "text/plain": [
       "[7, 8, 9]"
      ]
     },
     "execution_count": 14,
     "metadata": {},
     "output_type": "execute_result"
    }
   ],
   "source": [
    "list(range(10))[-3:]"
   ]
  },
  {
   "cell_type": "code",
   "execution_count": 15,
   "id": "16f39d80-3cf6-49fe-8267-acf4ee66df59",
   "metadata": {},
   "outputs": [],
   "source": [
    "def recommend_emb(emb, k, t = None):\n",
    "    \"\"\"\n",
    "    Args:\n",
    "        emb: The embedding of the item/user to recommend items to\n",
    "        k (int): The number of items to recommend\n",
    "        t (timestamp): Simulate that the recommendation is made at time `t`\n",
    "            i.e: Filter out already closed proposals or not yet open\n",
    "    \"\"\"\n",
    "    # 1D n_proposals\n",
    "    scores = embeddings @ emb\n",
    "\n",
    "    if t:\n",
    "        msk = (dfp['start'] < t) & (t < dfp['end'])\n",
    "        scores[msk] = -np.inf\n",
    "    \n",
    "    best = (-scores).argsort()\n",
    "\n",
    "    dfbest = dfp.iloc[best[:k]].copy()\n",
    "    dfbest['score'] = scores[best[:k]]\n",
    "    return dfbest"
   ]
  },
  {
   "cell_type": "code",
   "execution_count": 16,
   "id": "5ff70a8d-e9b6-48ee-b2e8-7ad81cbd6b70",
   "metadata": {},
   "outputs": [
    {
     "data": {
      "text/html": [
       "<div>\n",
       "<style scoped>\n",
       "    .dataframe tbody tr th:only-of-type {\n",
       "        vertical-align: middle;\n",
       "    }\n",
       "\n",
       "    .dataframe tbody tr th {\n",
       "        vertical-align: top;\n",
       "    }\n",
       "\n",
       "    .dataframe thead th {\n",
       "        text-align: right;\n",
       "    }\n",
       "</style>\n",
       "<table border=\"1\" class=\"dataframe\">\n",
       "  <thead>\n",
       "    <tr style=\"text-align: right;\">\n",
       "      <th></th>\n",
       "      <th>title</th>\n",
       "      <th>description</th>\n",
       "      <th>score</th>\n",
       "    </tr>\n",
       "  </thead>\n",
       "  <tbody>\n",
       "    <tr>\n",
       "      <th>457</th>\n",
       "      <td>Logarithmic VP conversion after a certain amou...</td>\n",
       "      <td>&gt; by 0x5985eb4a8e0e1f7bca9cc0d7ae81c2943fb205b...</td>\n",
       "      <td>6.910858</td>\n",
       "    </tr>\n",
       "    <tr>\n",
       "      <th>1134</th>\n",
       "      <td>Should Voter Power Delegation be activated in ...</td>\n",
       "      <td>&gt; by 0x9982b469910c2ee2ea566dcfcc250cdd3405639...</td>\n",
       "      <td>5.948124</td>\n",
       "    </tr>\n",
       "    <tr>\n",
       "      <th>413</th>\n",
       "      <td>Can we implement 'R' and 'G' keys to allow for...</td>\n",
       "      <td>&gt; by 0xb2223f4038def8a62a86e3c4b108cdfe00a74c4...</td>\n",
       "      <td>5.480871</td>\n",
       "    </tr>\n",
       "    <tr>\n",
       "      <th>873</th>\n",
       "      <td>Should VP keep assigned to the landowner in a ...</td>\n",
       "      <td>&gt; by 0x87956abc4078a0cc3b89b419928b857b8af826e...</td>\n",
       "      <td>5.170687</td>\n",
       "    </tr>\n",
       "    <tr>\n",
       "      <th>1736</th>\n",
       "      <td>Create Group Chats between Mutual Friends</td>\n",
       "      <td>&gt; by 0x988262eb3225ea4690f6b4846e36c700345bf6f...</td>\n",
       "      <td>4.964846</td>\n",
       "    </tr>\n",
       "  </tbody>\n",
       "</table>\n",
       "</div>"
      ],
      "text/plain": [
       "                                                  title  \\\n",
       "457   Logarithmic VP conversion after a certain amou...   \n",
       "1134  Should Voter Power Delegation be activated in ...   \n",
       "413   Can we implement 'R' and 'G' keys to allow for...   \n",
       "873   Should VP keep assigned to the landowner in a ...   \n",
       "1736          Create Group Chats between Mutual Friends   \n",
       "\n",
       "                                            description     score  \n",
       "457   > by 0x5985eb4a8e0e1f7bca9cc0d7ae81c2943fb205b...  6.910858  \n",
       "1134  > by 0x9982b469910c2ee2ea566dcfcc250cdd3405639...  5.948124  \n",
       "413   > by 0xb2223f4038def8a62a86e3c4b108cdfe00a74c4...  5.480871  \n",
       "873   > by 0x87956abc4078a0cc3b89b419928b857b8af826e...  5.170687  \n",
       "1736  > by 0x988262eb3225ea4690f6b4846e36c700345bf6f...  4.964846  "
      ]
     },
     "execution_count": 16,
     "metadata": {},
     "output_type": "execute_result"
    }
   ],
   "source": [
    "def recommend_user(voter: str, k: int = 5, t: Optional[np.datetime64] = None):\n",
    "    # 1D emb_size\n",
    "    user_emb = voter_embeddings[voter]\n",
    "    return recommend_emb(user_emb, k, t)\n",
    "\n",
    "recommend_user('0x613e052555ac74ff6af0fc64e40e8035c1e9dcf8')[['title', 'description', 'score']]"
   ]
  },
  {
   "cell_type": "code",
   "execution_count": 17,
   "id": "a86a24bd-4037-4faa-bb72-131687bc9d34",
   "metadata": {},
   "outputs": [
    {
     "data": {
      "text/plain": [
       "platform                                                        snapshot\n",
       "name                                                        Decentraland\n",
       "platform_deployment                                     snapshot.dcl.eth\n",
       "deployment                          41fd8de5-f8e2-5023-86a3-825c49e9ad7f\n",
       "platform_proposal      0xdbe9b2df1d00c0d264bffb3f10f1332a82d8a8a70c12...\n",
       "author                        0xbb7b59afa3a0e5be143b8fe9c641f00c1ecb9d69\n",
       "date                                                 2023-02-14 16:19:06\n",
       "votes_count                                                          385\n",
       "proposal_id            0xdbe9b2df1d00c0d264bffb3f10f1332a82d8a8a70c12...\n",
       "title                  Should DAO proposals have a pre-defined 'Absta...\n",
       "description            > by 0x511a22cdd2c4ee8357bb02df2578037ffe8a4d8...\n",
       "start                                                2023-02-14 16:19:00\n",
       "end                                                  2023-02-28 16:19:00\n",
       "title-description      Should DAO proposals have a pre-defined 'Absta...\n",
       "embeddings             [-0.0003666791, 0.000139685, -0.00012323356, -...\n",
       "nbidx                                                                352\n",
       "Name: 433b7e43-77b0-5ea1-bac3-0c3071363a56, dtype: object"
      ]
     },
     "metadata": {},
     "output_type": "display_data"
    },
    {
     "data": {
      "text/html": [
       "<div>\n",
       "<style scoped>\n",
       "    .dataframe tbody tr th:only-of-type {\n",
       "        vertical-align: middle;\n",
       "    }\n",
       "\n",
       "    .dataframe tbody tr th {\n",
       "        vertical-align: top;\n",
       "    }\n",
       "\n",
       "    .dataframe thead th {\n",
       "        text-align: right;\n",
       "    }\n",
       "</style>\n",
       "<table border=\"1\" class=\"dataframe\">\n",
       "  <thead>\n",
       "    <tr style=\"text-align: right;\">\n",
       "      <th></th>\n",
       "      <th>platform</th>\n",
       "      <th>name</th>\n",
       "      <th>platform_deployment</th>\n",
       "      <th>id</th>\n",
       "      <th>deployment</th>\n",
       "      <th>platform_proposal</th>\n",
       "      <th>author</th>\n",
       "      <th>date</th>\n",
       "      <th>votes_count</th>\n",
       "      <th>proposal_id</th>\n",
       "      <th>title</th>\n",
       "      <th>description</th>\n",
       "      <th>start</th>\n",
       "      <th>end</th>\n",
       "      <th>title-description</th>\n",
       "      <th>embeddings</th>\n",
       "      <th>nbidx</th>\n",
       "      <th>score</th>\n",
       "    </tr>\n",
       "  </thead>\n",
       "  <tbody>\n",
       "    <tr>\n",
       "      <th>940</th>\n",
       "      <td>snapshot</td>\n",
       "      <td>Decentraland</td>\n",
       "      <td>snapshot.dcl.eth</td>\n",
       "      <td>5f8989a6-464f-57ef-bbee-74f3ce8b001f</td>\n",
       "      <td>41fd8de5-f8e2-5023-86a3-825c49e9ad7f</td>\n",
       "      <td>QmcY88YFJLgiMatBPD1j9KUxBwPhymW5DdVP4JQDj53jYr</td>\n",
       "      <td>0x5e23d08324f017d5425e59a2782c9ae27ace0958</td>\n",
       "      <td>2021-12-23 22:13:33</td>\n",
       "      <td>14</td>\n",
       "      <td>QmcY88YFJLgiMatBPD1j9KUxBwPhymW5DdVP4JQDj53jYr</td>\n",
       "      <td>Petition to add event reviews so we can improv...</td>\n",
       "      <td>&gt; by 0xbef69e080a0b127f7cf6f3b658f07c90588cea6...</td>\n",
       "      <td>2021-12-23 22:13:00</td>\n",
       "      <td>2021-12-30 22:13:00</td>\n",
       "      <td>Petition to add event reviews so we can improv...</td>\n",
       "      <td>[-0.0015171164, 0.0007642187, 0.00042039528, 0...</td>\n",
       "      <td>940</td>\n",
       "      <td>2.342395</td>\n",
       "    </tr>\n",
       "    <tr>\n",
       "      <th>1537</th>\n",
       "      <td>snapshot</td>\n",
       "      <td>Decentraland</td>\n",
       "      <td>snapshot.dcl.eth</td>\n",
       "      <td>613dbb55-2dd7-51fc-a289-c1a39a6461ff</td>\n",
       "      <td>41fd8de5-f8e2-5023-86a3-825c49e9ad7f</td>\n",
       "      <td>0xfad0ce3f336f9104fd8d5cc2cb3c012c21a2116d7f7b...</td>\n",
       "      <td>0xbb7b59afa3a0e5be143b8fe9c641f00c1ecb9d69</td>\n",
       "      <td>2023-03-06 20:56:57</td>\n",
       "      <td>96</td>\n",
       "      <td>0xfad0ce3f336f9104fd8d5cc2cb3c012c21a2116d7f7b...</td>\n",
       "      <td>Community support for a paid pre-check on link...</td>\n",
       "      <td>&gt; by 0x895be97bdb9f8a244c472b18ea96dee39ddf8fe...</td>\n",
       "      <td>2023-03-06 20:56:00</td>\n",
       "      <td>2023-03-11 20:56:00</td>\n",
       "      <td>Community support for a paid pre-check on link...</td>\n",
       "      <td>[-0.00037167242, 0.00045459915, 8.636677e-05, ...</td>\n",
       "      <td>1537</td>\n",
       "      <td>2.168351</td>\n",
       "    </tr>\n",
       "    <tr>\n",
       "      <th>1644</th>\n",
       "      <td>snapshot</td>\n",
       "      <td>Decentraland</td>\n",
       "      <td>snapshot.dcl.eth</td>\n",
       "      <td>a7eabea1-95b5-5621-8bc5-8f09f313c45e</td>\n",
       "      <td>41fd8de5-f8e2-5023-86a3-825c49e9ad7f</td>\n",
       "      <td>bafkreidmcnjlewiwuvyty5k2atld2qtnesk5dky2gwhwo...</td>\n",
       "      <td>0x5e23d08324f017d5425e59a2782c9ae27ace0958</td>\n",
       "      <td>2022-09-07 15:39:27</td>\n",
       "      <td>92</td>\n",
       "      <td>bafkreidmcnjlewiwuvyty5k2atld2qtnesk5dky2gwhwo...</td>\n",
       "      <td>Should there be limited time to change voting ...</td>\n",
       "      <td>&gt; by 0x247e0896706bb09245549e476257a0a1129db41...</td>\n",
       "      <td>2022-09-07 15:39:00</td>\n",
       "      <td>2022-09-12 15:39:00</td>\n",
       "      <td>Should there be limited time to change voting ...</td>\n",
       "      <td>[0.00034874497, 0.00051068235, 0.00022908037, ...</td>\n",
       "      <td>1644</td>\n",
       "      <td>2.036432</td>\n",
       "    </tr>\n",
       "    <tr>\n",
       "      <th>1242</th>\n",
       "      <td>snapshot</td>\n",
       "      <td>Decentraland</td>\n",
       "      <td>snapshot.dcl.eth</td>\n",
       "      <td>5be72d6c-2388-5aaa-8ac6-20be847a82cc</td>\n",
       "      <td>41fd8de5-f8e2-5023-86a3-825c49e9ad7f</td>\n",
       "      <td>0xdce2b640a47ba0c44bfa9e9a88ad8bffb9a5a3ffbff5...</td>\n",
       "      <td>0xbb7b59afa3a0e5be143b8fe9c641f00c1ecb9d69</td>\n",
       "      <td>2023-01-06 17:54:38</td>\n",
       "      <td>201</td>\n",
       "      <td>0xdce2b640a47ba0c44bfa9e9a88ad8bffb9a5a3ffbff5...</td>\n",
       "      <td>Should DAO proposals have a pre-defined 'Absta...</td>\n",
       "      <td>&gt; by 0x511a22cdd2c4ee8357bb02df2578037ffe8a4d8...</td>\n",
       "      <td>2023-01-06 17:54:00</td>\n",
       "      <td>2023-01-11 17:54:00</td>\n",
       "      <td>Should DAO proposals have a pre-defined 'Absta...</td>\n",
       "      <td>[-0.0007028324, 0.0001626759, -7.843193e-06, -...</td>\n",
       "      <td>1242</td>\n",
       "      <td>2.001611</td>\n",
       "    </tr>\n",
       "    <tr>\n",
       "      <th>1149</th>\n",
       "      <td>snapshot</td>\n",
       "      <td>Decentraland</td>\n",
       "      <td>snapshot.dcl.eth</td>\n",
       "      <td>62662ecc-3126-5798-bbd9-b1421082be58</td>\n",
       "      <td>41fd8de5-f8e2-5023-86a3-825c49e9ad7f</td>\n",
       "      <td>QmVCfrGX892iaDLkp5dBNJRa93U2DVbg3JNcD14mfGvMS1</td>\n",
       "      <td>0x5e23d08324f017d5425e59a2782c9ae27ace0958</td>\n",
       "      <td>2022-05-19 23:18:01</td>\n",
       "      <td>161</td>\n",
       "      <td>QmVCfrGX892iaDLkp5dBNJRa93U2DVbg3JNcD14mfGvMS1</td>\n",
       "      <td>MANA incentives for USDC-ICE LP on QuickSwap</td>\n",
       "      <td>&gt; by 0x521b0fef9cdcf250abaf8e7bc798cbe13fa9869...</td>\n",
       "      <td>2022-05-19 23:18:00</td>\n",
       "      <td>2022-05-24 23:18:00</td>\n",
       "      <td>MANA incentives for USDC-ICE LP on QuickSwap\\n...</td>\n",
       "      <td>[0.0009039452, 0.00047539602, 0.0006336307, 0....</td>\n",
       "      <td>1149</td>\n",
       "      <td>1.982089</td>\n",
       "    </tr>\n",
       "  </tbody>\n",
       "</table>\n",
       "</div>"
      ],
      "text/plain": [
       "      platform          name platform_deployment  \\\n",
       "940   snapshot  Decentraland    snapshot.dcl.eth   \n",
       "1537  snapshot  Decentraland    snapshot.dcl.eth   \n",
       "1644  snapshot  Decentraland    snapshot.dcl.eth   \n",
       "1242  snapshot  Decentraland    snapshot.dcl.eth   \n",
       "1149  snapshot  Decentraland    snapshot.dcl.eth   \n",
       "\n",
       "                                        id  \\\n",
       "940   5f8989a6-464f-57ef-bbee-74f3ce8b001f   \n",
       "1537  613dbb55-2dd7-51fc-a289-c1a39a6461ff   \n",
       "1644  a7eabea1-95b5-5621-8bc5-8f09f313c45e   \n",
       "1242  5be72d6c-2388-5aaa-8ac6-20be847a82cc   \n",
       "1149  62662ecc-3126-5798-bbd9-b1421082be58   \n",
       "\n",
       "                                deployment  \\\n",
       "940   41fd8de5-f8e2-5023-86a3-825c49e9ad7f   \n",
       "1537  41fd8de5-f8e2-5023-86a3-825c49e9ad7f   \n",
       "1644  41fd8de5-f8e2-5023-86a3-825c49e9ad7f   \n",
       "1242  41fd8de5-f8e2-5023-86a3-825c49e9ad7f   \n",
       "1149  41fd8de5-f8e2-5023-86a3-825c49e9ad7f   \n",
       "\n",
       "                                      platform_proposal  \\\n",
       "940      QmcY88YFJLgiMatBPD1j9KUxBwPhymW5DdVP4JQDj53jYr   \n",
       "1537  0xfad0ce3f336f9104fd8d5cc2cb3c012c21a2116d7f7b...   \n",
       "1644  bafkreidmcnjlewiwuvyty5k2atld2qtnesk5dky2gwhwo...   \n",
       "1242  0xdce2b640a47ba0c44bfa9e9a88ad8bffb9a5a3ffbff5...   \n",
       "1149     QmVCfrGX892iaDLkp5dBNJRa93U2DVbg3JNcD14mfGvMS1   \n",
       "\n",
       "                                          author                date  \\\n",
       "940   0x5e23d08324f017d5425e59a2782c9ae27ace0958 2021-12-23 22:13:33   \n",
       "1537  0xbb7b59afa3a0e5be143b8fe9c641f00c1ecb9d69 2023-03-06 20:56:57   \n",
       "1644  0x5e23d08324f017d5425e59a2782c9ae27ace0958 2022-09-07 15:39:27   \n",
       "1242  0xbb7b59afa3a0e5be143b8fe9c641f00c1ecb9d69 2023-01-06 17:54:38   \n",
       "1149  0x5e23d08324f017d5425e59a2782c9ae27ace0958 2022-05-19 23:18:01   \n",
       "\n",
       "      votes_count                                        proposal_id  \\\n",
       "940            14     QmcY88YFJLgiMatBPD1j9KUxBwPhymW5DdVP4JQDj53jYr   \n",
       "1537           96  0xfad0ce3f336f9104fd8d5cc2cb3c012c21a2116d7f7b...   \n",
       "1644           92  bafkreidmcnjlewiwuvyty5k2atld2qtnesk5dky2gwhwo...   \n",
       "1242          201  0xdce2b640a47ba0c44bfa9e9a88ad8bffb9a5a3ffbff5...   \n",
       "1149          161     QmVCfrGX892iaDLkp5dBNJRa93U2DVbg3JNcD14mfGvMS1   \n",
       "\n",
       "                                                  title  \\\n",
       "940   Petition to add event reviews so we can improv...   \n",
       "1537  Community support for a paid pre-check on link...   \n",
       "1644  Should there be limited time to change voting ...   \n",
       "1242  Should DAO proposals have a pre-defined 'Absta...   \n",
       "1149       MANA incentives for USDC-ICE LP on QuickSwap   \n",
       "\n",
       "                                            description               start  \\\n",
       "940   > by 0xbef69e080a0b127f7cf6f3b658f07c90588cea6... 2021-12-23 22:13:00   \n",
       "1537  > by 0x895be97bdb9f8a244c472b18ea96dee39ddf8fe... 2023-03-06 20:56:00   \n",
       "1644  > by 0x247e0896706bb09245549e476257a0a1129db41... 2022-09-07 15:39:00   \n",
       "1242  > by 0x511a22cdd2c4ee8357bb02df2578037ffe8a4d8... 2023-01-06 17:54:00   \n",
       "1149  > by 0x521b0fef9cdcf250abaf8e7bc798cbe13fa9869... 2022-05-19 23:18:00   \n",
       "\n",
       "                     end                                  title-description  \\\n",
       "940  2021-12-30 22:13:00  Petition to add event reviews so we can improv...   \n",
       "1537 2023-03-11 20:56:00  Community support for a paid pre-check on link...   \n",
       "1644 2022-09-12 15:39:00  Should there be limited time to change voting ...   \n",
       "1242 2023-01-11 17:54:00  Should DAO proposals have a pre-defined 'Absta...   \n",
       "1149 2022-05-24 23:18:00  MANA incentives for USDC-ICE LP on QuickSwap\\n...   \n",
       "\n",
       "                                             embeddings  nbidx     score  \n",
       "940   [-0.0015171164, 0.0007642187, 0.00042039528, 0...    940  2.342395  \n",
       "1537  [-0.00037167242, 0.00045459915, 8.636677e-05, ...   1537  2.168351  \n",
       "1644  [0.00034874497, 0.00051068235, 0.00022908037, ...   1644  2.036432  \n",
       "1242  [-0.0007028324, 0.0001626759, -7.843193e-06, -...   1242  2.001611  \n",
       "1149  [0.0009039452, 0.00047539602, 0.0006336307, 0....   1149  1.982089  "
      ]
     },
     "execution_count": 17,
     "metadata": {},
     "output_type": "execute_result"
    }
   ],
   "source": [
    "def recommend_proposal(proposal: str, k: int = 5, t: Optional[np.datetime64] = None):\n",
    "    # 1D emb_size\n",
    "    prop_emb = dfp.set_index('id')['embeddings'][proposal]\n",
    "    return recommend_emb(prop_emb, k, t)\n",
    "\n",
    "display(dfp.set_index('id').loc['433b7e43-77b0-5ea1-bac3-0c3071363a56'])\n",
    "recommend_proposal('433b7e43-77b0-5ea1-bac3-0c3071363a56')"
   ]
  },
  {
   "cell_type": "markdown",
   "id": "b5862685-67df-4e5c-9add-9defd06d53f1",
   "metadata": {},
   "source": [
    "### Evaluation\n",
    "\n",
    "First, we will evaluate if the user recommendations are any good using common off-line metrics."
   ]
  },
  {
   "cell_type": "code",
   "execution_count": 18,
   "id": "9f3fc102-2a0a-4acf-a198-75b0f7659d66",
   "metadata": {},
   "outputs": [],
   "source": [
    "def recommendNLPNaive(train: pd.DataFrame, users, proposals, k: int = 5, remove_training: bool = True, min_score: float = 0):  \n",
    "    # Create voter embeddings (filtering that they are in train)\n",
    "    # TODO: Add some kind of discount rate over time\n",
    "    voter_embeddings = dfv[dfv['voter'].isin(users) & dfv['proposal'].isin(train['itemID'])].groupby('voter').apply(lambda x: votes_embeddings[x.index].sum(axis=0))\n",
    "    voter_embeddings = voter_embeddings.apply(lambda x: x/np.linalg.norm(x))\n",
    "    np_voter_embeddings = np.stack(voter_embeddings.to_numpy())\n",
    "    \n",
    "    # Remove score from proposals not in `proposals`\n",
    "    msk = ids.isin(proposals)\n",
    "    tr_embeddings = embeddings.copy()\n",
    "    tr_embeddings[~msk] = 0\n",
    "    \n",
    "    scores = np_voter_embeddings @ tr_embeddings.T\n",
    "    \n",
    "    # Remove score from proposals already voted by user\n",
    "    if remove_training:\n",
    "        trainu = train[train['userID'].isin(users)]\n",
    "        itemID2idx = dfp.set_index('id')['nbidx']\n",
    "        voterID2idx = pd.Series(data=np.arange(len(voter_embeddings)), index=voter_embeddings.index)\n",
    "        scores[voterID2idx[trainu['userID']], itemID2idx[trainu['itemID']]] = -np.inf\n",
    "        \n",
    "    best = (-scores).argsort(axis=1)\n",
    "    topk = best[:, :k]\n",
    "    \n",
    "    # create df with columns\n",
    "    # userID, itemID, prediction\n",
    "    uid = np.repeat(np.arange(np_voter_embeddings.shape[0]), k)\n",
    "    iid = topk.flatten()\n",
    "    \n",
    "    # transform int to id\n",
    "    df = pd.DataFrame({\n",
    "        'userID': voter_embeddings.index[uid],\n",
    "        'itemID': ids[iid].astype(str),\n",
    "        # 'prediction': 1,\n",
    "        'prediction': scores[uid, iid],\n",
    "    })\n",
    "    return df[df['prediction'] > min_score].reset_index(drop=True)\n",
    "\n",
    "# train = train_filtered\n",
    "# users = test_filtered['userID'].unique()\n",
    "# proposals = test_filtered['itemID'].unique()\n",
    "# k = 3\n",
    "# remove_training = True"
   ]
  },
  {
   "cell_type": "code",
   "execution_count": 19,
   "id": "fd7f2239-b3fe-457c-b39b-ea3b725154a4",
   "metadata": {},
   "outputs": [],
   "source": [
    "from recommenders.evaluation.python_evaluation import map_at_k, ndcg_at_k, precision_at_k, recall_at_k\n",
    "from src.datasets import to_microsoft\n",
    "from src.model_selection import timeIntervalSplit"
   ]
  },
  {
   "cell_type": "code",
   "execution_count": 20,
   "id": "8c04aae6-b520-4053-9bf3-79ea1a1c7e92",
   "metadata": {},
   "outputs": [],
   "source": [
    "def check_train_recs(df, filter_by_df, filter_by_cols):\n",
    "    return any(df.set_index(filter_by_cols).index.isin(\n",
    "        filter_by_df.set_index(filter_by_cols).index\n",
    "    ))"
   ]
  },
  {
   "cell_type": "code",
   "execution_count": 21,
   "id": "c48d1828-c50c-47d0-9cfd-9b94262a988d",
   "metadata": {},
   "outputs": [
    {
     "data": {
      "application/vnd.jupyter.widget-view+json": {
       "model_id": "3cc2728b325a422a832190f87446adba",
       "version_major": 2,
       "version_minor": 0
      },
      "text/plain": [
       "  0%|          | 0/50 [00:00<?, ?it/s]"
      ]
     },
     "metadata": {},
     "output_type": "display_data"
    }
   ],
   "source": [
    "df = to_microsoft(dfv)\n",
    "\n",
    "folds = list(timeIntervalSplit(df, N_SPLITS, skip=SKIP_SPLIT))\n",
    "metrics_f = { 'precision':precision_at_k, 'ndcg': ndcg_at_k, 'ndcg': ndcg_at_k, 'map': map_at_k, } # 'recall': recall_at_k, \n",
    "metrics = {n+f'@{k}':[] for k,n in it.product(K_RECOMMENDATIONS, metrics_f.keys())}\n",
    "perfectmetrics = {n+f'@{k}':[] for k,n in it.product(K_RECOMMENDATIONS, metrics_f.keys())}\n",
    "for i, (train, test) in enumerate(tqdm(folds)):\n",
    "    t = train.timestamp.max()\n",
    "    # print(f\"===== Training on fold {i} (t: {t})  =====\")\n",
    "    # print(f\"Ratings train: {len(train)}, test: {len(test)}\")\n",
    "\n",
    "    current_proposals = dfp[(dfp['start'] < t) & (t < dfp['end']) ]['id'].unique()\n",
    "    # print(f\"Currently open proposals: {len(current_proposals)}\")\n",
    "\n",
    "    train_filtered = train[train['itemID'].isin(current_proposals)]\n",
    "    test_filtered = test[test['itemID'].isin(current_proposals)]\n",
    "    # print(f\"Train votes in open proposals: {len(train_filtered):3}\")\n",
    "    # print(f\"Test votes in open proposals:  {len(test_filtered):3}\")    \n",
    "\n",
    "    for k_recs in K_RECOMMENDATIONS:\n",
    "        # print('Tested score:')\n",
    "        # recs = recommendNLPNaive(train_filtered, test_filtered['userID'].unique(), test_filtered['itemID'].unique(), k_recs)\n",
    "        recs = recommendNLPNaive(train, test_filtered['userID'].unique(), test_filtered['itemID'].unique(), k_recs)\n",
    "        if check_train_recs(recs, train, ['userID', 'itemID']):\n",
    "            print(\"There are recommendations that were true in training\")\n",
    "            msk = recs.set_index(['userID', 'itemID']).index.isin(\n",
    "                train.set_index(['userID', 'itemID']).index\n",
    "            )\n",
    "            display(recs[msk])\n",
    "            assert False\n",
    "            \n",
    "        for m, f in metrics_f.items():\n",
    "            r = f(test_filtered, recs, k=k_recs)\n",
    "            # print(f'  {m}@{K_RECOMMENDATIONS}:'.ljust(15), f'{r:.3}')\n",
    "            metrics[m+f'@{k_recs}'].append(r)\n",
    "        \n",
    "        # print('Perfect predictor score:')\n",
    "        recs = test_filtered.copy()\n",
    "        recs['prediction'] = True\n",
    "        for m, f in metrics_f.items():\n",
    "            r = f(test_filtered, recs, k=k_recs)\n",
    "            # print(f'  {m}@{K_RECOMMENDATIONS}:'.ljust(15), f'{r:.3}')\n",
    "    \n",
    "    # print()"
   ]
  },
  {
   "cell_type": "code",
   "execution_count": 22,
   "id": "543cb1db-ff4d-4e48-a062-c6183ae7450d",
   "metadata": {},
   "outputs": [
    {
     "data": {
      "text/html": [
       "<div>\n",
       "<style scoped>\n",
       "    .dataframe tbody tr th:only-of-type {\n",
       "        vertical-align: middle;\n",
       "    }\n",
       "\n",
       "    .dataframe tbody tr th {\n",
       "        vertical-align: top;\n",
       "    }\n",
       "\n",
       "    .dataframe thead th {\n",
       "        text-align: right;\n",
       "    }\n",
       "</style>\n",
       "<table border=\"1\" class=\"dataframe\">\n",
       "  <thead>\n",
       "    <tr style=\"text-align: right;\">\n",
       "      <th></th>\n",
       "      <th>precision@5</th>\n",
       "      <th>ndcg@5</th>\n",
       "      <th>map@5</th>\n",
       "      <th>precision@10</th>\n",
       "      <th>ndcg@10</th>\n",
       "      <th>map@10</th>\n",
       "      <th>baseline precision@5</th>\n",
       "      <th>baseline precision@10</th>\n",
       "      <th>baseline ndcg</th>\n",
       "    </tr>\n",
       "  </thead>\n",
       "  <tbody>\n",
       "    <tr>\n",
       "      <th>count</th>\n",
       "      <td>50.000000</td>\n",
       "      <td>50.000000</td>\n",
       "      <td>50.000000</td>\n",
       "      <td>50.000000</td>\n",
       "      <td>50.000000</td>\n",
       "      <td>50.000000</td>\n",
       "      <td>49.000000</td>\n",
       "      <td>49.000000</td>\n",
       "      <td>49.000000</td>\n",
       "    </tr>\n",
       "    <tr>\n",
       "      <th>mean</th>\n",
       "      <td>0.208493</td>\n",
       "      <td>0.424148</td>\n",
       "      <td>0.325781</td>\n",
       "      <td>0.143986</td>\n",
       "      <td>0.472661</td>\n",
       "      <td>0.361214</td>\n",
       "      <td>0.182915</td>\n",
       "      <td>0.153201</td>\n",
       "      <td>0.350140</td>\n",
       "    </tr>\n",
       "    <tr>\n",
       "      <th>std</th>\n",
       "      <td>0.067183</td>\n",
       "      <td>0.163335</td>\n",
       "      <td>0.170526</td>\n",
       "      <td>0.047180</td>\n",
       "      <td>0.138382</td>\n",
       "      <td>0.156803</td>\n",
       "      <td>0.056167</td>\n",
       "      <td>0.052998</td>\n",
       "      <td>0.161231</td>\n",
       "    </tr>\n",
       "    <tr>\n",
       "      <th>min</th>\n",
       "      <td>0.075824</td>\n",
       "      <td>0.154952</td>\n",
       "      <td>0.107353</td>\n",
       "      <td>0.059649</td>\n",
       "      <td>0.196964</td>\n",
       "      <td>0.138383</td>\n",
       "      <td>0.050000</td>\n",
       "      <td>0.047500</td>\n",
       "      <td>0.074262</td>\n",
       "    </tr>\n",
       "    <tr>\n",
       "      <th>25%</th>\n",
       "      <td>0.166793</td>\n",
       "      <td>0.339951</td>\n",
       "      <td>0.226881</td>\n",
       "      <td>0.110920</td>\n",
       "      <td>0.393102</td>\n",
       "      <td>0.270240</td>\n",
       "      <td>0.135570</td>\n",
       "      <td>0.115584</td>\n",
       "      <td>0.229336</td>\n",
       "    </tr>\n",
       "    <tr>\n",
       "      <th>50%</th>\n",
       "      <td>0.211791</td>\n",
       "      <td>0.391950</td>\n",
       "      <td>0.281583</td>\n",
       "      <td>0.130992</td>\n",
       "      <td>0.454519</td>\n",
       "      <td>0.326163</td>\n",
       "      <td>0.194040</td>\n",
       "      <td>0.146698</td>\n",
       "      <td>0.361386</td>\n",
       "    </tr>\n",
       "    <tr>\n",
       "      <th>75%</th>\n",
       "      <td>0.247769</td>\n",
       "      <td>0.499251</td>\n",
       "      <td>0.396894</td>\n",
       "      <td>0.156558</td>\n",
       "      <td>0.529772</td>\n",
       "      <td>0.417998</td>\n",
       "      <td>0.216575</td>\n",
       "      <td>0.201124</td>\n",
       "      <td>0.433698</td>\n",
       "    </tr>\n",
       "    <tr>\n",
       "      <th>max</th>\n",
       "      <td>0.396620</td>\n",
       "      <td>0.927553</td>\n",
       "      <td>0.910478</td>\n",
       "      <td>0.273057</td>\n",
       "      <td>0.925097</td>\n",
       "      <td>0.910478</td>\n",
       "      <td>0.284783</td>\n",
       "      <td>0.270447</td>\n",
       "      <td>0.908593</td>\n",
       "    </tr>\n",
       "  </tbody>\n",
       "</table>\n",
       "</div>"
      ],
      "text/plain": [
       "       precision@5     ndcg@5      map@5  precision@10    ndcg@10     map@10  \\\n",
       "count    50.000000  50.000000  50.000000     50.000000  50.000000  50.000000   \n",
       "mean      0.208493   0.424148   0.325781      0.143986   0.472661   0.361214   \n",
       "std       0.067183   0.163335   0.170526      0.047180   0.138382   0.156803   \n",
       "min       0.075824   0.154952   0.107353      0.059649   0.196964   0.138383   \n",
       "25%       0.166793   0.339951   0.226881      0.110920   0.393102   0.270240   \n",
       "50%       0.211791   0.391950   0.281583      0.130992   0.454519   0.326163   \n",
       "75%       0.247769   0.499251   0.396894      0.156558   0.529772   0.417998   \n",
       "max       0.396620   0.927553   0.910478      0.273057   0.925097   0.910478   \n",
       "\n",
       "       baseline precision@5  baseline precision@10  baseline ndcg  \n",
       "count             49.000000              49.000000      49.000000  \n",
       "mean               0.182915               0.153201       0.350140  \n",
       "std                0.056167               0.052998       0.161231  \n",
       "min                0.050000               0.047500       0.074262  \n",
       "25%                0.135570               0.115584       0.229336  \n",
       "50%                0.194040               0.146698       0.361386  \n",
       "75%                0.216575               0.201124       0.433698  \n",
       "max                0.284783               0.270447       0.908593  "
      ]
     },
     "execution_count": 22,
     "metadata": {},
     "output_type": "execute_result"
    },
    {
     "data": {
      "image/png": "[encoded data removed]",
      "text/plain": [
       "<Figure size 640x480 with 1 Axes>"
      ]
     },
     "metadata": {},
     "output_type": "display_data"
    }
   ],
   "source": [
    "mdf = pd.DataFrame(metrics)\n",
    "bdf = pd.read_csv(f'./data/baseline-mp-{ORG_NAME}-{N_SPLITS}.csv')\n",
    "\n",
    "mdf['baseline precision@5'] = bdf['precision@5']\n",
    "mdf['baseline precision@10'] = bdf['precision@10']\n",
    "mdf['baseline ndcg'] = bdf['ndcg@5']\n",
    "fig, ax = plt.subplots()\n",
    "mdf[['precision@5', 'ndcg@5']].plot(title='Evaluación modelo PLN similarity', ax=ax)\n",
    "mdf[['baseline precision@5', 'baseline ndcg']].plot(style='--', ax=ax)\n",
    "mdf.describe()"
   ]
  },
  {
   "cell_type": "markdown",
   "id": "ab73b16c-92ad-4ba6-919c-6a118f60285e",
   "metadata": {},
   "source": [
    "# Second iteration: PLN with kNN"
   ]
  },
  {
   "cell_type": "code",
   "execution_count": 23,
   "id": "ab569662-ef47-4f50-b722-e280d1f4fae5",
   "metadata": {},
   "outputs": [],
   "source": [
    "from sklearn.neighbors import KNeighborsClassifier\n",
    "\n",
    "itemID2idx = dfp.set_index('id')['nbidx']"
   ]
  },
  {
   "cell_type": "code",
   "execution_count": 24,
   "id": "bfa4f684-bb74-4e23-8092-9261702eb9f7",
   "metadata": {},
   "outputs": [],
   "source": [
    "def filter_proposals_in_train(train, user, proposals):\n",
    "    msk = train['userID'] == user\n",
    "    proposals_aready_voted_by_user = train[msk]['itemID'].unique()\n",
    "    return np.setdiff1d(proposals, proposals_aready_voted_by_user)"
   ]
  },
  {
   "cell_type": "code",
   "execution_count": 25,
   "id": "d9ebf3fd-c0e1-4cb7-b78d-2f00912729eb",
   "metadata": {},
   "outputs": [
    {
     "name": "stdout",
     "output_type": "stream",
     "text": [
      "The user 0xe44782afe398800d7190796018c4b865e32ff806 voted in 8 proposals\n"
     ]
    }
   ],
   "source": [
    "def recommendUserKNN(train: pd.DataFrame, user, proposals, top_k: Optional[int] = None, knn_k = 3, do_sampling: Optional[bool] = None, remove_train: bool = True):\n",
    "    \"\"\"\n",
    "    Given the train data (proposals that might be voted or not by the user), recommend k proposals from proposals to the user\n",
    "    The train data is a DataFrame in microsoft's format\n",
    "    \n",
    "    do_sampling (bool) : default None\n",
    "        if True, makes sampling so the number of positive and negative samples is the same\n",
    "        if False, doesn't do it\n",
    "        if None (default), does it when k > 1, but doesn't do it with Nearest Neighbor\n",
    "    \"\"\"\n",
    "    # train['hasVoted'] = train['userID'] == user\n",
    "    hasVoted = train['userID'] == user\n",
    "\n",
    "    # Remove recommendations already in training\n",
    "    # (aka remove from proposals array)\n",
    "    if remove_train:\n",
    "        proposals = filter_proposals_in_train(train, user, proposals)\n",
    "\n",
    "    assert any(hasVoted), 'The user has not voted in any proposal'\n",
    "\n",
    "    if do_sampling or (do_sampling is None and knn_k > 1):\n",
    "        # num_samples = train['hasVoted'].value_counts().min() # [True]\n",
    "        num_samples = hasVoted.value_counts().min() # [True]\n",
    "        train = train.groupby(hasVoted).apply(lambda x: x.sample(num_samples)).reset_index(drop=True)\n",
    "        hasVoted = train['userID'] == user\n",
    "    \n",
    "    known_embeds = embeddings[itemID2idx[train['itemID']]]\n",
    "\n",
    "    knn = KNeighborsClassifier(knn_k) # , metric='cosine')\n",
    "    knn.fit(known_embeds, hasVoted)# train['hasVoted'])\n",
    "\n",
    "    predict_embeds = embeddings[itemID2idx[proposals]]\n",
    "    aux = knn.predict_proba(predict_embeds)\n",
    "    p = knn.predict_proba(predict_embeds)[:, 1] # Probabilidad de que sea True\n",
    "\n",
    "    if top_k:\n",
    "        best = (1-p).argsort()[:top_k]\n",
    "        p = p[best]\n",
    "        proposals = proposals[best]\n",
    "    \n",
    "    return pd.DataFrame({\n",
    "        'userID': user,\n",
    "        'itemID': proposals,\n",
    "        'prediction': 1,\n",
    "        'score': p,\n",
    "    })\n",
    "\n",
    "u = '0xe44782afe398800d7190796018c4b865e32ff806'\n",
    "proposals_voted_by_user = test_filtered[test_filtered['userID'] == u]\n",
    "print(f'The user {u} voted in {len(proposals_voted_by_user)} proposals')\n",
    "# p = recommendUserKNN(train, u, test_filtered['itemID'].unique().copy(), 5, do_sampling=True)\n",
    "# p['correct'] = p['itemID'].isin(proposals_voted_by_user['itemID'])\n",
    "# p"
   ]
  },
  {
   "cell_type": "code",
   "execution_count": 26,
   "id": "c07019d1-2a05-4d0b-9602-48a75ebf8ce2",
   "metadata": {},
   "outputs": [
    {
     "name": "stdout",
     "output_type": "stream",
     "text": [
      "The user 0xe44782afe398800d7190796018c4b865e32ff806 voted in 8 proposals\n"
     ]
    },
    {
     "data": {
      "text/html": [
       "<div>\n",
       "<style scoped>\n",
       "    .dataframe tbody tr th:only-of-type {\n",
       "        vertical-align: middle;\n",
       "    }\n",
       "\n",
       "    .dataframe tbody tr th {\n",
       "        vertical-align: top;\n",
       "    }\n",
       "\n",
       "    .dataframe thead th {\n",
       "        text-align: right;\n",
       "    }\n",
       "</style>\n",
       "<table border=\"1\" class=\"dataframe\">\n",
       "  <thead>\n",
       "    <tr style=\"text-align: right;\">\n",
       "      <th></th>\n",
       "      <th>userID</th>\n",
       "      <th>itemID</th>\n",
       "      <th>prediction</th>\n",
       "      <th>score</th>\n",
       "    </tr>\n",
       "  </thead>\n",
       "  <tbody>\n",
       "    <tr>\n",
       "      <th>0</th>\n",
       "      <td>0xe44782afe398800d7190796018c4b865e32ff806</td>\n",
       "      <td>2aa9d732-7265-531f-bace-190269df6963</td>\n",
       "      <td>1</td>\n",
       "      <td>54</td>\n",
       "    </tr>\n",
       "    <tr>\n",
       "      <th>1</th>\n",
       "      <td>0xe44782afe398800d7190796018c4b865e32ff806</td>\n",
       "      <td>b83b029d-eed6-595f-8570-83fedf331602</td>\n",
       "      <td>1</td>\n",
       "      <td>49</td>\n",
       "    </tr>\n",
       "    <tr>\n",
       "      <th>2</th>\n",
       "      <td>0xe44782afe398800d7190796018c4b865e32ff806</td>\n",
       "      <td>dc0426a2-7368-5160-8f51-edd608f955df</td>\n",
       "      <td>1</td>\n",
       "      <td>46</td>\n",
       "    </tr>\n",
       "    <tr>\n",
       "      <th>3</th>\n",
       "      <td>0xe44782afe398800d7190796018c4b865e32ff806</td>\n",
       "      <td>390c1db9-bdca-5c44-9b62-c6683c536d11</td>\n",
       "      <td>1</td>\n",
       "      <td>43</td>\n",
       "    </tr>\n",
       "    <tr>\n",
       "      <th>4</th>\n",
       "      <td>0xe44782afe398800d7190796018c4b865e32ff806</td>\n",
       "      <td>0dcf188f-bd9d-51d6-9816-3d8aa191be38</td>\n",
       "      <td>1</td>\n",
       "      <td>34</td>\n",
       "    </tr>\n",
       "  </tbody>\n",
       "</table>\n",
       "</div>"
      ],
      "text/plain": [
       "                                       userID  \\\n",
       "0  0xe44782afe398800d7190796018c4b865e32ff806   \n",
       "1  0xe44782afe398800d7190796018c4b865e32ff806   \n",
       "2  0xe44782afe398800d7190796018c4b865e32ff806   \n",
       "3  0xe44782afe398800d7190796018c4b865e32ff806   \n",
       "4  0xe44782afe398800d7190796018c4b865e32ff806   \n",
       "\n",
       "                                 itemID  prediction  score  \n",
       "0  2aa9d732-7265-531f-bace-190269df6963           1     54  \n",
       "1  b83b029d-eed6-595f-8570-83fedf331602           1     49  \n",
       "2  dc0426a2-7368-5160-8f51-edd608f955df           1     46  \n",
       "3  390c1db9-bdca-5c44-9b62-c6683c536d11           1     43  \n",
       "4  0dcf188f-bd9d-51d6-9816-3d8aa191be38           1     34  "
      ]
     },
     "execution_count": 26,
     "metadata": {},
     "output_type": "execute_result"
    }
   ],
   "source": [
    "from recommenders.datasets.pandas_df_utils import filter_by\n",
    "\n",
    "def recommendMostVoted(train: pd.DataFrame, user, proposals, top_k: Optional[int] = None, remove_train=True):\n",
    "    bestVotes = train[train['itemID'].isin(proposals)]['itemID'].value_counts()\n",
    "    df = pd.DataFrame({\n",
    "        'userID': user,\n",
    "        'itemID': bestVotes.index,\n",
    "        'prediction': 1,\n",
    "        'score': bestVotes,\n",
    "    })\n",
    "    if remove_train:\n",
    "        df = filter_by(df, train, ['userID', 'itemID'])\n",
    "    return df.head(top_k).reset_index(drop=True)\n",
    "\n",
    "u = '0xe44782afe398800d7190796018c4b865e32ff806'\n",
    "proposals_voted_by_user = test_filtered[test_filtered['userID'] == u]\n",
    "print(f'The user {u} voted in {len(proposals_voted_by_user)} proposals')\n",
    "recommendMostVoted(train_filtered.copy(), u, test_filtered['itemID'].unique(), 5)"
   ]
  },
  {
   "cell_type": "code",
   "execution_count": 27,
   "id": "608d6675-947d-4d7d-97d2-2fa3244c7829",
   "metadata": {},
   "outputs": [
    {
     "data": {
      "application/vnd.jupyter.widget-view+json": {
       "model_id": "",
       "version_major": 2,
       "version_minor": 0
      },
      "text/plain": [
       "  0%|          | 0/333 [00:00<?, ?it/s]"
      ]
     },
     "metadata": {},
     "output_type": "display_data"
    },
    {
     "data": {
      "text/html": [
       "<div>\n",
       "<style scoped>\n",
       "    .dataframe tbody tr th:only-of-type {\n",
       "        vertical-align: middle;\n",
       "    }\n",
       "\n",
       "    .dataframe tbody tr th {\n",
       "        vertical-align: top;\n",
       "    }\n",
       "\n",
       "    .dataframe thead th {\n",
       "        text-align: right;\n",
       "    }\n",
       "</style>\n",
       "<table border=\"1\" class=\"dataframe\">\n",
       "  <thead>\n",
       "    <tr style=\"text-align: right;\">\n",
       "      <th></th>\n",
       "      <th>userID</th>\n",
       "      <th>itemID</th>\n",
       "      <th>prediction</th>\n",
       "      <th>score</th>\n",
       "      <th>scoreType</th>\n",
       "    </tr>\n",
       "  </thead>\n",
       "  <tbody>\n",
       "    <tr>\n",
       "      <th>0</th>\n",
       "      <td>0x338571a641d8c43f9e5a306300c5d89e0cb2cfaf</td>\n",
       "      <td>0b095940-bbd8-5027-be94-7011312011bc</td>\n",
       "      <td>1</td>\n",
       "      <td>0.0</td>\n",
       "      <td>knn</td>\n",
       "    </tr>\n",
       "    <tr>\n",
       "      <th>0</th>\n",
       "      <td>0x156548113552bb52ae921a0b44794a6a5f588c9c</td>\n",
       "      <td>ca79ba6b-5bf9-5df6-b645-8c3fa86df0a5</td>\n",
       "      <td>1</td>\n",
       "      <td>153.0</td>\n",
       "      <td>mv</td>\n",
       "    </tr>\n",
       "    <tr>\n",
       "      <th>0</th>\n",
       "      <td>0x01d1caa915cbb6dea512537fa3e22578e9a5991b</td>\n",
       "      <td>0b095940-bbd8-5027-be94-7011312011bc</td>\n",
       "      <td>1</td>\n",
       "      <td>0.0</td>\n",
       "      <td>knn</td>\n",
       "    </tr>\n",
       "    <tr>\n",
       "      <th>0</th>\n",
       "      <td>0x9937e3e274be96a624d7cd00f384eb71c741dd1b</td>\n",
       "      <td>0b095940-bbd8-5027-be94-7011312011bc</td>\n",
       "      <td>1</td>\n",
       "      <td>0.0</td>\n",
       "      <td>knn</td>\n",
       "    </tr>\n",
       "    <tr>\n",
       "      <th>0</th>\n",
       "      <td>0x8dcad3b779415f519c21bb42c9a6743e8cef1c5d</td>\n",
       "      <td>ca79ba6b-5bf9-5df6-b645-8c3fa86df0a5</td>\n",
       "      <td>1</td>\n",
       "      <td>153.0</td>\n",
       "      <td>mv</td>\n",
       "    </tr>\n",
       "    <tr>\n",
       "      <th>...</th>\n",
       "      <td>...</td>\n",
       "      <td>...</td>\n",
       "      <td>...</td>\n",
       "      <td>...</td>\n",
       "      <td>...</td>\n",
       "    </tr>\n",
       "    <tr>\n",
       "      <th>0</th>\n",
       "      <td>0xff3327cc139449fa111ad87351bb300e9cc7607c</td>\n",
       "      <td>0b095940-bbd8-5027-be94-7011312011bc</td>\n",
       "      <td>1</td>\n",
       "      <td>0.0</td>\n",
       "      <td>knn</td>\n",
       "    </tr>\n",
       "    <tr>\n",
       "      <th>0</th>\n",
       "      <td>0xd6c957f9a6411f35d01baae2658758f277408878</td>\n",
       "      <td>0b095940-bbd8-5027-be94-7011312011bc</td>\n",
       "      <td>1</td>\n",
       "      <td>0.0</td>\n",
       "      <td>knn</td>\n",
       "    </tr>\n",
       "    <tr>\n",
       "      <th>0</th>\n",
       "      <td>0xf5fdaa91b9bcbbde2e3626e4c4c817b34bd796f9</td>\n",
       "      <td>0b095940-bbd8-5027-be94-7011312011bc</td>\n",
       "      <td>1</td>\n",
       "      <td>0.0</td>\n",
       "      <td>knn</td>\n",
       "    </tr>\n",
       "    <tr>\n",
       "      <th>0</th>\n",
       "      <td>0x972b8ed609d5577739cc585bc0ccab03aee621af</td>\n",
       "      <td>0c45a8b6-7596-551c-be4b-9a913caf5498</td>\n",
       "      <td>1</td>\n",
       "      <td>0.0</td>\n",
       "      <td>knn</td>\n",
       "    </tr>\n",
       "    <tr>\n",
       "      <th>0</th>\n",
       "      <td>0x1b35f4d22b2c8bc706bcfcc383a1ca77fb4fc600</td>\n",
       "      <td>2aa9d732-7265-531f-bace-190269df6963</td>\n",
       "      <td>1</td>\n",
       "      <td>0.0</td>\n",
       "      <td>knn</td>\n",
       "    </tr>\n",
       "  </tbody>\n",
       "</table>\n",
       "<p>333 rows × 5 columns</p>\n",
       "</div>"
      ],
      "text/plain": [
       "                                        userID  \\\n",
       "0   0x338571a641d8c43f9e5a306300c5d89e0cb2cfaf   \n",
       "0   0x156548113552bb52ae921a0b44794a6a5f588c9c   \n",
       "0   0x01d1caa915cbb6dea512537fa3e22578e9a5991b   \n",
       "0   0x9937e3e274be96a624d7cd00f384eb71c741dd1b   \n",
       "0   0x8dcad3b779415f519c21bb42c9a6743e8cef1c5d   \n",
       "..                                         ...   \n",
       "0   0xff3327cc139449fa111ad87351bb300e9cc7607c   \n",
       "0   0xd6c957f9a6411f35d01baae2658758f277408878   \n",
       "0   0xf5fdaa91b9bcbbde2e3626e4c4c817b34bd796f9   \n",
       "0   0x972b8ed609d5577739cc585bc0ccab03aee621af   \n",
       "0   0x1b35f4d22b2c8bc706bcfcc383a1ca77fb4fc600   \n",
       "\n",
       "                                  itemID  prediction  score scoreType  \n",
       "0   0b095940-bbd8-5027-be94-7011312011bc           1    0.0       knn  \n",
       "0   ca79ba6b-5bf9-5df6-b645-8c3fa86df0a5           1  153.0        mv  \n",
       "0   0b095940-bbd8-5027-be94-7011312011bc           1    0.0       knn  \n",
       "0   0b095940-bbd8-5027-be94-7011312011bc           1    0.0       knn  \n",
       "0   ca79ba6b-5bf9-5df6-b645-8c3fa86df0a5           1  153.0        mv  \n",
       "..                                   ...         ...    ...       ...  \n",
       "0   0b095940-bbd8-5027-be94-7011312011bc           1    0.0       knn  \n",
       "0   0b095940-bbd8-5027-be94-7011312011bc           1    0.0       knn  \n",
       "0   0b095940-bbd8-5027-be94-7011312011bc           1    0.0       knn  \n",
       "0   0c45a8b6-7596-551c-be4b-9a913caf5498           1    0.0       knn  \n",
       "0   2aa9d732-7265-531f-bace-190269df6963           1    0.0       knn  \n",
       "\n",
       "[333 rows x 5 columns]"
      ]
     },
     "execution_count": 27,
     "metadata": {},
     "output_type": "execute_result"
    }
   ],
   "source": [
    "import multiprocessing as mp\n",
    "from multiprocessing import Pool\n",
    "\n",
    "def recommendUserKNNwithFallback(train, user, proposals, top_k = None, knn_k: int = 1, remove_train: bool = True, do_sampling = None):\n",
    "    \"\"\" If the user has not voted in any proposal in `train`, we fall back to recommending\n",
    "    the most voted proposal in `proposals`\n",
    "    \"\"\"\n",
    "    if remove_train:\n",
    "        proposals = filter_proposals_in_train(train, user, proposals)\n",
    "    if (user == train['userID']).sum() >= knn_k:\n",
    "        df = recommendUserKNN(train, user, proposals, top_k, knn_k, remove_train=False, do_sampling=do_sampling)\n",
    "        df['scoreType'] = 'knn'\n",
    "        return df\n",
    "    else:\n",
    "        df = recommendMostVoted(train, user, proposals, top_k, remove_train=False)\n",
    "        df['scoreType'] = 'mv'\n",
    "        return df\n",
    "\n",
    "def recommendNLPKNN(train: pd.DataFrame, users, proposals, top_k: int = 5, knn_k: int = 1, do_sampling=None, cpus=-1):\n",
    "    # Create voter embeddings\n",
    "    assert knn_k >= 1\n",
    "    \n",
    "    with Pool(mp.cpu_count()//4 if cpus==-1 else cpus) as pool:\n",
    "        return pd.concat(\n",
    "            tqdm(\n",
    "                pool.imap(\n",
    "                    partial(\n",
    "                        recommendUserKNNwithFallback, \n",
    "                        train, \n",
    "                        proposals=proposals, \n",
    "                        top_k=top_k,\n",
    "                        knn_k=knn_k,\n",
    "                        do_sampling=do_sampling),\n",
    "                    users),\n",
    "                total=len(users),\n",
    "                leave=False,\n",
    "            )\n",
    "        )\n",
    "\n",
    "recommendNLPKNN(train, test_filtered['userID'].unique(), test_filtered['itemID'].unique(), top_k=1)"
   ]
  },
  {
   "cell_type": "code",
   "execution_count": 28,
   "id": "ee6a6c98-64c7-4411-9331-a3158de35e95",
   "metadata": {},
   "outputs": [
    {
     "name": "stdout",
     "output_type": "stream",
     "text": [
      "24\n"
     ]
    }
   ],
   "source": [
    "print(mp.cpu_count())"
   ]
  },
  {
   "cell_type": "markdown",
   "id": "51a937fc-dfc1-4b0a-b81c-c4c02ced2bb2",
   "metadata": {},
   "source": [
    "### Evaluation\n",
    "\n",
    "Usaremos el método del codo para ver cual de todos es mejor"
   ]
  },
  {
   "cell_type": "code",
   "execution_count": null,
   "id": "90180c9e-ed5c-4376-8b8d-d730a193513f",
   "metadata": {},
   "outputs": [
    {
     "data": {
      "application/vnd.jupyter.widget-view+json": {
       "model_id": "6e4c1407f57e49f9b98fe5ee07034bba",
       "version_major": 2,
       "version_minor": 0
      },
      "text/plain": [
       "  0%|          | 0/9 [00:00<?, ?it/s]"
      ]
     },
     "metadata": {},
     "output_type": "display_data"
    },
    {
     "data": {
      "application/vnd.jupyter.widget-view+json": {
       "model_id": "993c010f29034f088cd497dfa613b6d5",
       "version_major": 2,
       "version_minor": 0
      },
      "text/plain": [
       "  0%|          | 0/50 [00:00<?, ?it/s]"
      ]
     },
     "metadata": {},
     "output_type": "display_data"
    },
    {
     "data": {
      "application/vnd.jupyter.widget-view+json": {
       "model_id": "",
       "version_major": 2,
       "version_minor": 0
      },
      "text/plain": [
       "  0%|          | 0/50 [00:00<?, ?it/s]"
      ]
     },
     "metadata": {},
     "output_type": "display_data"
    },
    {
     "data": {
      "application/vnd.jupyter.widget-view+json": {
       "model_id": "",
       "version_major": 2,
       "version_minor": 0
      },
      "text/plain": [
       "  0%|          | 0/50 [00:00<?, ?it/s]"
      ]
     },
     "metadata": {},
     "output_type": "display_data"
    },
    {
     "data": {
      "application/vnd.jupyter.widget-view+json": {
       "model_id": "",
       "version_major": 2,
       "version_minor": 0
      },
      "text/plain": [
       "  0%|          | 0/57 [00:00<?, ?it/s]"
      ]
     },
     "metadata": {},
     "output_type": "display_data"
    },
    {
     "data": {
      "application/vnd.jupyter.widget-view+json": {
       "model_id": "",
       "version_major": 2,
       "version_minor": 0
      },
      "text/plain": [
       "  0%|          | 0/57 [00:00<?, ?it/s]"
      ]
     },
     "metadata": {},
     "output_type": "display_data"
    },
    {
     "data": {
      "application/vnd.jupyter.widget-view+json": {
       "model_id": "",
       "version_major": 2,
       "version_minor": 0
      },
      "text/plain": [
       "  0%|          | 0/22 [00:00<?, ?it/s]"
      ]
     },
     "metadata": {},
     "output_type": "display_data"
    },
    {
     "data": {
      "application/vnd.jupyter.widget-view+json": {
       "model_id": "",
       "version_major": 2,
       "version_minor": 0
      },
      "text/plain": [
       "  0%|          | 0/22 [00:00<?, ?it/s]"
      ]
     },
     "metadata": {},
     "output_type": "display_data"
    },
    {
     "data": {
      "application/vnd.jupyter.widget-view+json": {
       "model_id": "",
       "version_major": 2,
       "version_minor": 0
      },
      "text/plain": [
       "  0%|          | 0/42 [00:00<?, ?it/s]"
      ]
     },
     "metadata": {},
     "output_type": "display_data"
    },
    {
     "data": {
      "application/vnd.jupyter.widget-view+json": {
       "model_id": "",
       "version_major": 2,
       "version_minor": 0
      },
      "text/plain": [
       "  0%|          | 0/42 [00:00<?, ?it/s]"
      ]
     },
     "metadata": {},
     "output_type": "display_data"
    },
    {
     "data": {
      "application/vnd.jupyter.widget-view+json": {
       "model_id": "",
       "version_major": 2,
       "version_minor": 0
      },
      "text/plain": [
       "  0%|          | 0/13 [00:00<?, ?it/s]"
      ]
     },
     "metadata": {},
     "output_type": "display_data"
    },
    {
     "data": {
      "application/vnd.jupyter.widget-view+json": {
       "model_id": "",
       "version_major": 2,
       "version_minor": 0
      },
      "text/plain": [
       "  0%|          | 0/13 [00:00<?, ?it/s]"
      ]
     },
     "metadata": {},
     "output_type": "display_data"
    },
    {
     "data": {
      "application/vnd.jupyter.widget-view+json": {
       "model_id": "",
       "version_major": 2,
       "version_minor": 0
      },
      "text/plain": [
       "  0%|          | 0/24 [00:00<?, ?it/s]"
      ]
     },
     "metadata": {},
     "output_type": "display_data"
    },
    {
     "data": {
      "application/vnd.jupyter.widget-view+json": {
       "model_id": "",
       "version_major": 2,
       "version_minor": 0
      },
      "text/plain": [
       "  0%|          | 0/24 [00:00<?, ?it/s]"
      ]
     },
     "metadata": {},
     "output_type": "display_data"
    },
    {
     "data": {
      "application/vnd.jupyter.widget-view+json": {
       "model_id": "",
       "version_major": 2,
       "version_minor": 0
      },
      "text/plain": [
       "  0%|          | 0/28 [00:00<?, ?it/s]"
      ]
     },
     "metadata": {},
     "output_type": "display_data"
    },
    {
     "data": {
      "application/vnd.jupyter.widget-view+json": {
       "model_id": "",
       "version_major": 2,
       "version_minor": 0
      },
      "text/plain": [
       "  0%|          | 0/28 [00:00<?, ?it/s]"
      ]
     },
     "metadata": {},
     "output_type": "display_data"
    },
    {
     "data": {
      "application/vnd.jupyter.widget-view+json": {
       "model_id": "",
       "version_major": 2,
       "version_minor": 0
      },
      "text/plain": [
       "  0%|          | 0/50 [00:00<?, ?it/s]"
      ]
     },
     "metadata": {},
     "output_type": "display_data"
    },
    {
     "data": {
      "application/vnd.jupyter.widget-view+json": {
       "model_id": "",
       "version_major": 2,
       "version_minor": 0
      },
      "text/plain": [
       "  0%|          | 0/50 [00:00<?, ?it/s]"
      ]
     },
     "metadata": {},
     "output_type": "display_data"
    },
    {
     "data": {
      "application/vnd.jupyter.widget-view+json": {
       "model_id": "",
       "version_major": 2,
       "version_minor": 0
      },
      "text/plain": [
       "  0%|          | 0/122 [00:00<?, ?it/s]"
      ]
     },
     "metadata": {},
     "output_type": "display_data"
    },
    {
     "data": {
      "application/vnd.jupyter.widget-view+json": {
       "model_id": "",
       "version_major": 2,
       "version_minor": 0
      },
      "text/plain": [
       "  0%|          | 0/122 [00:00<?, ?it/s]"
      ]
     },
     "metadata": {},
     "output_type": "display_data"
    },
    {
     "data": {
      "application/vnd.jupyter.widget-view+json": {
       "model_id": "",
       "version_major": 2,
       "version_minor": 0
      },
      "text/plain": [
       "  0%|          | 0/156 [00:00<?, ?it/s]"
      ]
     },
     "metadata": {},
     "output_type": "display_data"
    },
    {
     "data": {
      "application/vnd.jupyter.widget-view+json": {
       "model_id": "",
       "version_major": 2,
       "version_minor": 0
      },
      "text/plain": [
       "  0%|          | 0/156 [00:00<?, ?it/s]"
      ]
     },
     "metadata": {},
     "output_type": "display_data"
    },
    {
     "data": {
      "application/vnd.jupyter.widget-view+json": {
       "model_id": "",
       "version_major": 2,
       "version_minor": 0
      },
      "text/plain": [
       "  0%|          | 0/74 [00:00<?, ?it/s]"
      ]
     },
     "metadata": {},
     "output_type": "display_data"
    },
    {
     "data": {
      "application/vnd.jupyter.widget-view+json": {
       "model_id": "",
       "version_major": 2,
       "version_minor": 0
      },
      "text/plain": [
       "  0%|          | 0/74 [00:00<?, ?it/s]"
      ]
     },
     "metadata": {},
     "output_type": "display_data"
    },
    {
     "data": {
      "application/vnd.jupyter.widget-view+json": {
       "model_id": "",
       "version_major": 2,
       "version_minor": 0
      },
      "text/plain": [
       "  0%|          | 0/70 [00:00<?, ?it/s]"
      ]
     },
     "metadata": {},
     "output_type": "display_data"
    },
    {
     "data": {
      "application/vnd.jupyter.widget-view+json": {
       "model_id": "",
       "version_major": 2,
       "version_minor": 0
      },
      "text/plain": [
       "  0%|          | 0/70 [00:00<?, ?it/s]"
      ]
     },
     "metadata": {},
     "output_type": "display_data"
    },
    {
     "data": {
      "application/vnd.jupyter.widget-view+json": {
       "model_id": "",
       "version_major": 2,
       "version_minor": 0
      },
      "text/plain": [
       "  0%|          | 0/133 [00:00<?, ?it/s]"
      ]
     },
     "metadata": {},
     "output_type": "display_data"
    },
    {
     "data": {
      "application/vnd.jupyter.widget-view+json": {
       "model_id": "",
       "version_major": 2,
       "version_minor": 0
      },
      "text/plain": [
       "  0%|          | 0/133 [00:00<?, ?it/s]"
      ]
     },
     "metadata": {},
     "output_type": "display_data"
    },
    {
     "data": {
      "application/vnd.jupyter.widget-view+json": {
       "model_id": "",
       "version_major": 2,
       "version_minor": 0
      },
      "text/plain": [
       "  0%|          | 0/47 [00:00<?, ?it/s]"
      ]
     },
     "metadata": {},
     "output_type": "display_data"
    },
    {
     "data": {
      "application/vnd.jupyter.widget-view+json": {
       "model_id": "",
       "version_major": 2,
       "version_minor": 0
      },
      "text/plain": [
       "  0%|          | 0/47 [00:00<?, ?it/s]"
      ]
     },
     "metadata": {},
     "output_type": "display_data"
    },
    {
     "data": {
      "application/vnd.jupyter.widget-view+json": {
       "model_id": "",
       "version_major": 2,
       "version_minor": 0
      },
      "text/plain": [
       "  0%|          | 0/55 [00:00<?, ?it/s]"
      ]
     },
     "metadata": {},
     "output_type": "display_data"
    },
    {
     "data": {
      "application/vnd.jupyter.widget-view+json": {
       "model_id": "",
       "version_major": 2,
       "version_minor": 0
      },
      "text/plain": [
       "  0%|          | 0/55 [00:00<?, ?it/s]"
      ]
     },
     "metadata": {},
     "output_type": "display_data"
    },
    {
     "data": {
      "application/vnd.jupyter.widget-view+json": {
       "model_id": "",
       "version_major": 2,
       "version_minor": 0
      },
      "text/plain": [
       "  0%|          | 0/40 [00:00<?, ?it/s]"
      ]
     },
     "metadata": {},
     "output_type": "display_data"
    },
    {
     "data": {
      "application/vnd.jupyter.widget-view+json": {
       "model_id": "",
       "version_major": 2,
       "version_minor": 0
      },
      "text/plain": [
       "  0%|          | 0/40 [00:00<?, ?it/s]"
      ]
     },
     "metadata": {},
     "output_type": "display_data"
    },
    {
     "data": {
      "application/vnd.jupyter.widget-view+json": {
       "model_id": "",
       "version_major": 2,
       "version_minor": 0
      },
      "text/plain": [
       "  0%|          | 0/86 [00:00<?, ?it/s]"
      ]
     },
     "metadata": {},
     "output_type": "display_data"
    },
    {
     "data": {
      "application/vnd.jupyter.widget-view+json": {
       "model_id": "",
       "version_major": 2,
       "version_minor": 0
      },
      "text/plain": [
       "  0%|          | 0/86 [00:00<?, ?it/s]"
      ]
     },
     "metadata": {},
     "output_type": "display_data"
    },
    {
     "data": {
      "application/vnd.jupyter.widget-view+json": {
       "model_id": "",
       "version_major": 2,
       "version_minor": 0
      },
      "text/plain": [
       "  0%|          | 0/100 [00:00<?, ?it/s]"
      ]
     },
     "metadata": {},
     "output_type": "display_data"
    },
    {
     "data": {
      "application/vnd.jupyter.widget-view+json": {
       "model_id": "",
       "version_major": 2,
       "version_minor": 0
      },
      "text/plain": [
       "  0%|          | 0/100 [00:00<?, ?it/s]"
      ]
     },
     "metadata": {},
     "output_type": "display_data"
    },
    {
     "data": {
      "application/vnd.jupyter.widget-view+json": {
       "model_id": "",
       "version_major": 2,
       "version_minor": 0
      },
      "text/plain": [
       "  0%|          | 0/40 [00:00<?, ?it/s]"
      ]
     },
     "metadata": {},
     "output_type": "display_data"
    },
    {
     "data": {
      "application/vnd.jupyter.widget-view+json": {
       "model_id": "",
       "version_major": 2,
       "version_minor": 0
      },
      "text/plain": [
       "  0%|          | 0/40 [00:00<?, ?it/s]"
      ]
     },
     "metadata": {},
     "output_type": "display_data"
    },
    {
     "data": {
      "application/vnd.jupyter.widget-view+json": {
       "model_id": "",
       "version_major": 2,
       "version_minor": 0
      },
      "text/plain": [
       "  0%|          | 0/88 [00:00<?, ?it/s]"
      ]
     },
     "metadata": {},
     "output_type": "display_data"
    },
    {
     "data": {
      "application/vnd.jupyter.widget-view+json": {
       "model_id": "",
       "version_major": 2,
       "version_minor": 0
      },
      "text/plain": [
       "  0%|          | 0/88 [00:00<?, ?it/s]"
      ]
     },
     "metadata": {},
     "output_type": "display_data"
    },
    {
     "data": {
      "application/vnd.jupyter.widget-view+json": {
       "model_id": "",
       "version_major": 2,
       "version_minor": 0
      },
      "text/plain": [
       "  0%|          | 0/92 [00:00<?, ?it/s]"
      ]
     },
     "metadata": {},
     "output_type": "display_data"
    },
    {
     "data": {
      "application/vnd.jupyter.widget-view+json": {
       "model_id": "",
       "version_major": 2,
       "version_minor": 0
      },
      "text/plain": [
       "  0%|          | 0/92 [00:00<?, ?it/s]"
      ]
     },
     "metadata": {},
     "output_type": "display_data"
    },
    {
     "data": {
      "application/vnd.jupyter.widget-view+json": {
       "model_id": "",
       "version_major": 2,
       "version_minor": 0
      },
      "text/plain": [
       "  0%|          | 0/209 [00:00<?, ?it/s]"
      ]
     },
     "metadata": {},
     "output_type": "display_data"
    },
    {
     "data": {
      "application/vnd.jupyter.widget-view+json": {
       "model_id": "",
       "version_major": 2,
       "version_minor": 0
      },
      "text/plain": [
       "  0%|          | 0/209 [00:00<?, ?it/s]"
      ]
     },
     "metadata": {},
     "output_type": "display_data"
    },
    {
     "data": {
      "application/vnd.jupyter.widget-view+json": {
       "model_id": "",
       "version_major": 2,
       "version_minor": 0
      },
      "text/plain": [
       "  0%|          | 0/82 [00:00<?, ?it/s]"
      ]
     },
     "metadata": {},
     "output_type": "display_data"
    },
    {
     "data": {
      "application/vnd.jupyter.widget-view+json": {
       "model_id": "",
       "version_major": 2,
       "version_minor": 0
      },
      "text/plain": [
       "  0%|          | 0/82 [00:00<?, ?it/s]"
      ]
     },
     "metadata": {},
     "output_type": "display_data"
    },
    {
     "data": {
      "application/vnd.jupyter.widget-view+json": {
       "model_id": "",
       "version_major": 2,
       "version_minor": 0
      },
      "text/plain": [
       "  0%|          | 0/90 [00:00<?, ?it/s]"
      ]
     },
     "metadata": {},
     "output_type": "display_data"
    },
    {
     "data": {
      "application/vnd.jupyter.widget-view+json": {
       "model_id": "",
       "version_major": 2,
       "version_minor": 0
      },
      "text/plain": [
       "  0%|          | 0/90 [00:00<?, ?it/s]"
      ]
     },
     "metadata": {},
     "output_type": "display_data"
    },
    {
     "data": {
      "application/vnd.jupyter.widget-view+json": {
       "model_id": "f8ad598719fa4292afaf4f7e63ed6831",
       "version_major": 2,
       "version_minor": 0
      },
      "text/plain": [
       "  0%|          | 0/114 [00:00<?, ?it/s]"
      ]
     },
     "metadata": {},
     "output_type": "display_data"
    },
    {
     "data": {
      "application/vnd.jupyter.widget-view+json": {
       "model_id": "241a9e5d4999420e96ceec3cd5c70a0b",
       "version_major": 2,
       "version_minor": 0
      },
      "text/plain": [
       "  0%|          | 0/114 [00:00<?, ?it/s]"
      ]
     },
     "metadata": {},
     "output_type": "display_data"
    },
    {
     "data": {
      "application/vnd.jupyter.widget-view+json": {
       "model_id": "8ab42dd366c043f582163a4f3a8aa31e",
       "version_major": 2,
       "version_minor": 0
      },
      "text/plain": [
       "  0%|          | 0/149 [00:00<?, ?it/s]"
      ]
     },
     "metadata": {},
     "output_type": "display_data"
    }
   ],
   "source": [
    "df = to_microsoft(dfv)\n",
    "\n",
    "def knn_usage_at_k(test, recs, k):\n",
    "    return (recs['scoreType'] == 'knn').mean()\n",
    "\n",
    "folds = list(timeIntervalSplit(df, N_SPLITS, skip=SKIP_SPLIT, remove_not_in_train_col='userID'))\n",
    "metrics_f = {'precision': precision_at_k, 'ndcg': ndcg_at_k, 'map': map_at_k, 'knnUsage': knn_usage_at_k, } # 'recall': recall_at_k, \n",
    "metrics = { 'k':[], } | {n+f'@{k}':[] for k,n in it.product(K_RECOMMENDATIONS, metrics_f.keys())}\n",
    "for k in tqdm(range(1,10)):\n",
    "    for i, (train, test) in enumerate(tqdm(folds)):\n",
    "        t = train.timestamp.max()\n",
    "        # print(f\"===== Training on fold {i} (t: {t})  =====\")\n",
    "        # print(f\"Ratings train: {len(train)}, test: {len(test)}\")\n",
    "    \n",
    "        current_proposals = dfp[(dfp['start'] < t) & (t < dfp['end']) ]\n",
    "        # print(f\"Currently open proposals: {len(current_proposals)}\")\n",
    "    \n",
    "        train_filtered = train[train['itemID'].isin(current_proposals['id']) ].copy()\n",
    "        test_filtered = test[test['itemID'].isin(current_proposals['id']) ]\n",
    "        # print(f\"Train votes in open proposals: {len(train_filtered):3}\")\n",
    "        # print(f\"Test votes in open proposals:  {len(test_filtered):3}\")    \n",
    "\n",
    "        train = train.copy()\n",
    "        for k_recs in K_RECOMMENDATIONS:\n",
    "            recs = recommendNLPKNN(train, test_filtered['userID'].unique(), test_filtered['itemID'].unique(), k_recs, k)\n",
    "            if check_train_recs(recs, train, ['userID', 'itemID']):\n",
    "                print(\"Warning: There are recommendations that were true in training\", file=sys.stderr)\n",
    "                # print(recs.score.describe())\n",
    "                # assert False\n",
    "        \n",
    "            # print('Tested score:')\n",
    "            for m, f in metrics_f.items():\n",
    "                r = f(test_filtered, recs, k=k_recs)\n",
    "                metrics[m+f'@{k_recs}'].append(r)\n",
    "    \n",
    "        metrics['k'].append(k)\n",
    "        # print()"
   ]
  },
  {
   "cell_type": "code",
   "execution_count": null,
   "id": "9c893c79-df25-4581-b6c1-91a3259a043e",
   "metadata": {},
   "outputs": [],
   "source": [
    "mdf = pd.DataFrame(metrics)\n",
    "ax = sns.lineplot(mdf.groupby('k').mean())\n",
    "bdf = pd.read_csv(f'./data/baseline-mp-{ORG_NAME}.csv')\n",
    "plt.ylim(0)\n",
    "plt.xlim((1, mdf['k'].max()))\n",
    "ax.axhline(bdf['precision@5'].mean(), color='red', linestyle='dashed')\n",
    "ax.axhline(bdf['ndcg@5'].mean(), color='yellow', linestyle='dashed')"
   ]
  },
  {
   "cell_type": "code",
   "execution_count": null,
   "id": "d8981d75-c3d7-4db5-81a0-d54d56cd5ea0",
   "metadata": {},
   "outputs": [],
   "source": [
    "mdf = pd.DataFrame(metrics)\n",
    "fig = px.line(mdf.groupby('k').mean())\n",
    "fig.add_hline(y=bdf['precision@5'].mean(), line_dash='dash', line_color='green')\n",
    "fig.add_hline(y=bdf['ndcg@5'].mean(), line_dash='dash', line_color='green')\n",
    "fig.update_yaxes(range=[0, 1])\n",
    "fig"
   ]
  },
  {
   "cell_type": "code",
   "execution_count": null,
   "id": "283fcffe-40d7-44cf-a7ba-7f31f60ae725",
   "metadata": {},
   "outputs": [],
   "source": [
    "mdf.groupby('k').describe(percentiles=[.5],).T"
   ]
  },
  {
   "cell_type": "code",
   "execution_count": null,
   "id": "f8f3ef6d-a2b8-439d-8fd1-2ca576c04602",
   "metadata": {},
   "outputs": [],
   "source": [
    "mdf = pd.DataFrame(metrics)\n",
    "mdf = mdf[mdf['k'] == 1]\n",
    "bdf = pd.read_csv(f'./data/baseline-mp-{ORG_NAME}.csv')\n",
    "\n",
    "mdf['baseline precision'] = bdf['precision@5']\n",
    "mdf['baseline ndcg'] = bdf['ndcg@5']\n",
    "fig, ax = plt.subplots()\n",
    "mdf[['precision@5', 'ndcg@5']].plot(title='Evaluación modelo PLN kNN', ax=ax)\n",
    "mdf[['baseline precision', 'baseline ndcg']].plot(style='--', ax=ax)\n",
    "mdf.describe()"
   ]
  },
  {
   "cell_type": "code",
   "execution_count": null,
   "id": "ef45fdab-aab6-4c13-b974-5c543d41fcb3",
   "metadata": {},
   "outputs": [],
   "source": []
  }
 ],
 "metadata": {
  "kernelspec": {
   "display_name": "Python 3 (ipykernel)",
   "language": "python",
   "name": "python3"
  },
  "language_info": {
   "codemirror_mode": {
    "name": "ipython",
    "version": 3
   },
   "file_extension": ".py",
   "mimetype": "text/x-python",
   "name": "python",
   "nbconvert_exporter": "python",
   "pygments_lexer": "ipython3",
   "version": "3.9.18"
  },
  "widgets": {
   "application/vnd.jupyter.widget-state+json": {
    "state": {},
    "version_major": 2,
    "version_minor": 0
   }
  }
 },
 "nbformat": 4,
 "nbformat_minor": 5
}
