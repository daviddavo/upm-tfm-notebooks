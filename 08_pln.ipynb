{
 "cells": [
  {
   "cell_type": "code",
   "execution_count": 1,
   "id": "752ee701-9042-4672-b875-fcb1f1ff83a2",
   "metadata": {
    "execution": {
     "iopub.execute_input": "2023-10-25T13:37:44.798493Z",
     "iopub.status.busy": "2023-10-25T13:37:44.797733Z",
     "iopub.status.idle": "2023-10-25T13:37:47.267504Z",
     "shell.execute_reply": "2023-10-25T13:37:47.266786Z",
     "shell.execute_reply.started": "2023-10-25T13:37:44.798431Z"
    }
   },
   "outputs": [],
   "source": [
    "from typing import Dict, List, Tuple, Union, Any, Optional\n",
    "\n",
    "import pandas as pd\n",
    "import numpy as np\n",
    "import os\n",
    "\n",
    "from pathlib import Path\n",
    "\n",
    "import torch\n",
    "import ray\n",
    "from ray import train, tune\n",
    "\n",
    "from src.datasets import daocensus\n",
    "\n",
    "%load_ext autoreload\n",
    "%autoreload 2"
   ]
  },
  {
   "cell_type": "markdown",
   "id": "b04b58f5-59bd-4000-9e19-6cb20ea8afb3",
   "metadata": {},
   "source": [
    "### Parameters"
   ]
  },
  {
   "cell_type": "code",
   "execution_count": 2,
   "id": "ee507d49-c555-43ca-97dc-e0f627737421",
   "metadata": {
    "execution": {
     "iopub.execute_input": "2023-10-25T13:37:47.268705Z",
     "iopub.status.busy": "2023-10-25T13:37:47.268489Z",
     "iopub.status.idle": "2023-10-25T13:37:47.291458Z",
     "shell.execute_reply": "2023-10-25T13:37:47.290870Z",
     "shell.execute_reply.started": "2023-10-25T13:37:47.268692Z"
    }
   },
   "outputs": [],
   "source": [
    "TRANSFORMER_MODEL = \"all-mpnet-base-v2\""
   ]
  },
  {
   "cell_type": "code",
   "execution_count": 3,
   "id": "dff49c62-41a3-4b70-b486-55cbafede303",
   "metadata": {
    "execution": {
     "iopub.execute_input": "2023-10-25T13:37:47.292214Z",
     "iopub.status.busy": "2023-10-25T13:37:47.292075Z",
     "iopub.status.idle": "2023-10-25T13:37:57.972136Z",
     "shell.execute_reply": "2023-10-25T13:37:57.971700Z",
     "shell.execute_reply.started": "2023-10-25T13:37:47.292201Z"
    }
   },
   "outputs": [
    {
     "name": "stdout",
     "output_type": "stream",
     "text": [
      "<class 'pandas.core.frame.DataFrame'>\n",
      "RangeIndex: 116560 entries, 0 to 116559\n",
      "Data columns (total 10 columns):\n",
      " #   Column         Non-Null Count   Dtype         \n",
      "---  ------         --------------   -----         \n",
      " 0   platform       116560 non-null  object        \n",
      " 1   name           116560 non-null  object        \n",
      " 2   id             116560 non-null  object        \n",
      " 3   proposal       116560 non-null  category      \n",
      " 4   deployment     116560 non-null  object        \n",
      " 5   platform_vote  116560 non-null  object        \n",
      " 6   voter          116560 non-null  object        \n",
      " 7   date           116560 non-null  datetime64[ns]\n",
      " 8   choice         116560 non-null  object        \n",
      " 9   weight         116560 non-null  float64       \n",
      "dtypes: category(1), datetime64[ns](1), float64(1), object(7)\n",
      "memory usage: 8.3+ MB\n",
      "None\n",
      "<class 'pandas.core.frame.DataFrame'>\n",
      "Int64Index: 1942 entries, 0 to 1941\n",
      "Data columns (total 12 columns):\n",
      " #   Column               Non-Null Count  Dtype         \n",
      "---  ------               --------------  -----         \n",
      " 0   platform             1942 non-null   object        \n",
      " 1   name                 1942 non-null   object        \n",
      " 2   platform_deployment  1942 non-null   object        \n",
      " 3   id                   1942 non-null   category      \n",
      " 4   deployment           1942 non-null   object        \n",
      " 5   platform_proposal    1942 non-null   object        \n",
      " 6   author               1942 non-null   category      \n",
      " 7   date                 1942 non-null   datetime64[ns]\n",
      " 8   votes_count          1942 non-null   int64         \n",
      " 9   proposal_id          1942 non-null   object        \n",
      " 10  title                1942 non-null   object        \n",
      " 11  description          1942 non-null   object        \n",
      "dtypes: category(2), datetime64[ns](1), int64(1), object(8)\n",
      "memory usage: 569.0+ KB\n",
      "None\n"
     ]
    }
   ],
   "source": [
    "dfptext = pd.read_csv('./snapshot_proposals.csv')[['proposal_id', 'title', 'description']]\n",
    "dfv, dfp = daocensus.get(\"./data/daos-census\", 'Decentraland', 'snapshot')\n",
    "dfv['voter'] = dfv['voter'].astype('str')\n",
    "dfp = dfp.merge(dfptext, how='left', left_on='platform_proposal', right_on='proposal_id')\n",
    "print(dfv.info())\n",
    "print(dfp.info())"
   ]
  },
  {
   "cell_type": "markdown",
   "id": "5e116e4b-6cae-4893-83fc-3b9cd8000541",
   "metadata": {},
   "source": [
    "## Getting the embeddings of each proposal"
   ]
  },
  {
   "cell_type": "code",
   "execution_count": 4,
   "id": "61d7c966-0ef9-41e2-8837-6782146c60ab",
   "metadata": {
    "execution": {
     "iopub.execute_input": "2023-10-25T13:37:57.972843Z",
     "iopub.status.busy": "2023-10-25T13:37:57.972686Z",
     "iopub.status.idle": "2023-10-25T13:37:58.589525Z",
     "shell.execute_reply": "2023-10-25T13:37:58.588815Z",
     "shell.execute_reply.started": "2023-10-25T13:37:57.972830Z"
    }
   },
   "outputs": [],
   "source": [
    "from sentence_transformers import SentenceTransformer\n",
    "import pickle"
   ]
  },
  {
   "cell_type": "code",
   "execution_count": 5,
   "id": "9151cda0-227b-416a-9a82-142732826a8e",
   "metadata": {
    "execution": {
     "iopub.execute_input": "2023-10-25T13:37:58.590784Z",
     "iopub.status.busy": "2023-10-25T13:37:58.590527Z",
     "iopub.status.idle": "2023-10-25T13:37:59.839420Z",
     "shell.execute_reply": "2023-10-25T13:37:59.838956Z",
     "shell.execute_reply.started": "2023-10-25T13:37:58.590761Z"
    }
   },
   "outputs": [],
   "source": [
    "model = SentenceTransformer(TRANSFORMER_MODEL)"
   ]
  },
  {
   "cell_type": "code",
   "execution_count": 6,
   "id": "4bcd4e2f-0482-432e-9e43-4db8cc441876",
   "metadata": {
    "execution": {
     "iopub.execute_input": "2023-10-25T13:37:59.840140Z",
     "iopub.status.busy": "2023-10-25T13:37:59.839986Z",
     "iopub.status.idle": "2023-10-25T13:37:59.887697Z",
     "shell.execute_reply": "2023-10-25T13:37:59.887019Z",
     "shell.execute_reply.started": "2023-10-25T13:37:59.840122Z"
    }
   },
   "outputs": [
    {
     "name": "stdout",
     "output_type": "stream",
     "text": [
      "Embeddings file saved, reading it instead...\n",
      "Embeddings shape: (1942, 768)\n"
     ]
    }
   ],
   "source": [
    "embeddings_folder = Path('./data/daos-census-text')\n",
    "embeddings_file = embeddings_folder / 'embeddings.pkl'\n",
    "\n",
    "dfp['title-description'] = dfp['title'] + '\\n' + dfp['description']\n",
    "\n",
    "if not embeddings_folder.exists():\n",
    "    embeddings_folder.mkdir()\n",
    "\n",
    "embeddings = None\n",
    "if embeddings_file.exists():\n",
    "    print('Embeddings file saved, reading it instead...')\n",
    "    with open(embeddings_file, 'rb') as f:\n",
    "        obj = pickle.load(f)\n",
    "    \n",
    "    embeddings = obj['embeddings']\n",
    "    print(\"Embeddings shape:\", embeddings.shape)\n",
    "    ids = obj['ids']\n",
    "\n",
    "if embeddings is None:\n",
    "    embeddings = model.encode(dfp['title-description'], show_progress_bar=True, normalize_embeddings=True)\n",
    "    with open(embeddings_file, 'wb+') as f:\n",
    "        pickle.dump({'sentences': dfp['title-description'], 'embeddings': embeddings, 'ids': dfp['id']}, f, protocol=pickle.HIGHEST_PROTOCOL)"
   ]
  },
  {
   "cell_type": "code",
   "execution_count": 7,
   "id": "12f3a51c-97e2-4bb0-a3bb-c0f826b3c280",
   "metadata": {
    "execution": {
     "iopub.execute_input": "2023-10-25T13:37:59.889512Z",
     "iopub.status.busy": "2023-10-25T13:37:59.889243Z",
     "iopub.status.idle": "2023-10-25T13:37:59.923437Z",
     "shell.execute_reply": "2023-10-25T13:37:59.922911Z",
     "shell.execute_reply.started": "2023-10-25T13:37:59.889493Z"
    },
    "scrolled": true
   },
   "outputs": [
    {
     "name": "stdout",
     "output_type": "stream",
     "text": [
      "(768,)\n"
     ]
    },
    {
     "data": {
      "text/plain": [
       "array([[ 1.1403942e-03,  8.6159637e-04,  6.9543940e-04, ...,\n",
       "        -2.7190479e-03, -1.0145843e-03,  3.9847717e-03],\n",
       "       [-4.0623912e-04,  4.4145231e-04,  9.4736530e-04, ...,\n",
       "         1.6015382e-03,  1.8749243e-03, -2.8606903e-04],\n",
       "       [ 2.3584017e-03,  5.8685150e-04,  7.1522954e-04, ...,\n",
       "        -2.2754688e-03, -1.4056214e-04, -3.7364583e-03],\n",
       "       ...,\n",
       "       [ 7.4752036e-04,  6.6007714e-04,  6.3091837e-04, ...,\n",
       "         2.4024290e-03, -2.0156223e-03,  3.5178147e-03],\n",
       "       [ 1.0567969e-03,  4.8019552e-05,  3.8508396e-04, ...,\n",
       "        -2.2719074e-04,  3.0133144e-03, -4.8025427e-03],\n",
       "       [-7.7102159e-04,  5.3977530e-04,  6.2477676e-04, ...,\n",
       "         4.1932138e-03, -3.2049862e-05,  5.8418047e-03]], dtype=float32)"
      ]
     },
     "execution_count": 7,
     "metadata": {},
     "output_type": "execute_result"
    }
   ],
   "source": [
    "embeddings_sum = embeddings.sum(axis=0)\n",
    "print(embeddings_sum.shape)\n",
    "embeddings = embeddings / embeddings_sum\n",
    "embeddings"
   ]
  },
  {
   "cell_type": "code",
   "execution_count": 8,
   "id": "df2eb91e-65e0-4b1d-a87c-fbfa4bc3eef1",
   "metadata": {
    "execution": {
     "iopub.execute_input": "2023-10-25T13:37:59.924415Z",
     "iopub.status.busy": "2023-10-25T13:37:59.924206Z",
     "iopub.status.idle": "2023-10-25T13:37:59.959755Z",
     "shell.execute_reply": "2023-10-25T13:37:59.959328Z",
     "shell.execute_reply.started": "2023-10-25T13:37:59.924394Z"
    }
   },
   "outputs": [],
   "source": [
    "dfp['embeddings'] = list(embeddings)"
   ]
  },
  {
   "cell_type": "markdown",
   "id": "d72c7ba3-ca13-4f06-86bb-5a565e170bb9",
   "metadata": {},
   "source": [
    "## Getting the embeddings of each user\n",
    "\n",
    "The embeddings of each user are the embeddings of each proposal the user has voted in"
   ]
  },
  {
   "cell_type": "code",
   "execution_count": 9,
   "id": "bdc45b70-8397-422d-89c5-814e629fcee6",
   "metadata": {
    "execution": {
     "iopub.execute_input": "2023-10-25T13:37:59.960445Z",
     "iopub.status.busy": "2023-10-25T13:37:59.960281Z",
     "iopub.status.idle": "2023-10-25T13:38:00.326286Z",
     "shell.execute_reply": "2023-10-25T13:38:00.325821Z",
     "shell.execute_reply.started": "2023-10-25T13:37:59.960431Z"
    }
   },
   "outputs": [
    {
     "name": "stdout",
     "output_type": "stream",
     "text": [
      "dfp: (1942, 15) dfv: (116560, 10) _dfv: (116560, 12)\n"
     ]
    },
    {
     "data": {
      "text/plain": [
       "(116560, 768)"
      ]
     },
     "execution_count": 9,
     "metadata": {},
     "output_type": "execute_result"
    }
   ],
   "source": [
    "dfp['nbidx'] = dfp.index\n",
    "_dfv = dfv.merge(dfp[['id', 'nbidx']], how='left', left_on='proposal', right_on='id')\n",
    "print('dfp:', dfp.shape, 'dfv:', dfv.shape, '_dfv:', _dfv.shape)\n",
    "votes_embeddings = embeddings[_dfv['nbidx']]\n",
    "votes_embeddings.shape"
   ]
  },
  {
   "cell_type": "code",
   "execution_count": 10,
   "id": "246bc838-f222-4813-bd0f-996b3ba1b165",
   "metadata": {
    "execution": {
     "iopub.execute_input": "2023-10-25T13:38:00.327048Z",
     "iopub.status.busy": "2023-10-25T13:38:00.326897Z",
     "iopub.status.idle": "2023-10-25T13:38:00.356260Z",
     "shell.execute_reply": "2023-10-25T13:38:00.355704Z",
     "shell.execute_reply.started": "2023-10-25T13:38:00.327034Z"
    }
   },
   "outputs": [
    {
     "name": "stdout",
     "output_type": "stream",
     "text": [
      "[0.6 0.8]\n",
      "1.0\n",
      "1.4\n"
     ]
    }
   ],
   "source": [
    "x=np.array([3,4])\n",
    "x = x / np.linalg.norm(x)\n",
    "print(x)\n",
    "print(np.linalg.norm(x))\n",
    "print(x.sum())"
   ]
  },
  {
   "cell_type": "code",
   "execution_count": 11,
   "id": "bd59ea53-9ca7-4fa5-a11b-cea31f8cd14f",
   "metadata": {
    "execution": {
     "iopub.execute_input": "2023-10-25T13:38:00.357213Z",
     "iopub.status.busy": "2023-10-25T13:38:00.356987Z",
     "iopub.status.idle": "2023-10-25T13:38:00.759013Z",
     "shell.execute_reply": "2023-10-25T13:38:00.758487Z",
     "shell.execute_reply.started": "2023-10-25T13:38:00.357191Z"
    }
   },
   "outputs": [
    {
     "data": {
      "text/plain": [
       "voter\n",
       "0x0019220ddabe5b8438a6be6ebca31ef01ca69965    [0.00057990896, 0.00088156166, 0.0009439609, 0...\n",
       "0x0023a0bf1cb20362f847dfc977d2c815f6ac8021    [0.005858055, 0.0020818706, 0.002051057, 0.003...\n",
       "0x0026dd985da16f70e9d9cf739b08c6cdf6a7f407    [0.0004940444, 0.0003696056, 0.00017160185, 0....\n",
       "0x0029ab135b5be72168bf80f140d60a9264dbd0c5    [0.0015585453, 0.00061846466, 0.0007543223, 0....\n",
       "0x003a3eb1a1d2ad3bea19ae06324727beeeec2e34    [0.0029788157, 0.0022016685, 0.00209749, 0.001...\n",
       "                                                                    ...                        \n",
       "0xffd92144cafd599a5a93e4805ca4d8f0e666d623    [0.0018578778, 0.0015816463, 0.001392865, 0.00...\n",
       "0xffd9cd75445459184a4b89a0fbd1720ab2957738    [0.0019817022, 0.0022677148, 0.0011903326, 0.0...\n",
       "0xffe6d9d29480d0673c4fc46da22d21e245c8e731    [0.0024969198, 0.0013630107, 0.0004593444, 0.0...\n",
       "0xffed2f64c9f796d4258618a7a375ed816205821a    [-0.0001579282, 0.0002713099, 0.0002999211, 8....\n",
       "0xfff28923092a8294456206a6d0734514bebcbe67    [0.00033337867, 0.00023301317, 0.00032630007, ...\n",
       "Length: 7268, dtype: object"
      ]
     },
     "execution_count": 11,
     "metadata": {},
     "output_type": "execute_result"
    }
   ],
   "source": [
    "voter_embeddings = dfv.groupby('voter').apply(lambda x: votes_embeddings[x.index].sum(axis=0))\n",
    "voter_embeddings = voter_embeddings.apply(lambda x: x/np.linalg.norm(x))\n",
    "# msk = (np.linalg.norm(np.stack(voter_embeddings.to_numpy()), axis=1) > 0.9)\n",
    "voter_embeddings"
   ]
  },
  {
   "cell_type": "code",
   "execution_count": 12,
   "id": "8fbbb3da-7553-4252-b894-764ad52324f9",
   "metadata": {
    "execution": {
     "iopub.execute_input": "2023-10-25T13:38:00.759819Z",
     "iopub.status.busy": "2023-10-25T13:38:00.759633Z",
     "iopub.status.idle": "2023-10-25T13:38:00.807332Z",
     "shell.execute_reply": "2023-10-25T13:38:00.806849Z",
     "shell.execute_reply.started": "2023-10-25T13:38:00.759805Z"
    }
   },
   "outputs": [
    {
     "data": {
      "text/plain": [
       "voter\n",
       "0x4c86663bbe4344b674c770464bd044bed7a7d78b      1\n",
       "0x0026dd985da16f70e9d9cf739b08c6cdf6a7f407      1\n",
       "0x005cee5cfb7ad2c740ab4e0cdfbcebad219bdb5f      1\n",
       "0x00668bd79ede077b99bbe1c4db59418bc333d4cf      1\n",
       "0x0072bb98a5444bbaf5b1dff112dbfa0f5e3f7a9f      1\n",
       "                                             ... \n",
       "0x613e052555ac74ff6af0fc64e40e8035c1e9dcf8    652\n",
       "0xd6eff8f07caf3443a1178407d3de4129149d6ef6    727\n",
       "0xb44ac514588be99870220d12120815bc3d349507    729\n",
       "0x521b0fef9cdcf250abaf8e7bc798cbe13fa98692    760\n",
       "0xc54a6c3778016b06cbd126ccc3b5bc06c5f666fb    885\n",
       "Length: 7268, dtype: int64"
      ]
     },
     "execution_count": 12,
     "metadata": {},
     "output_type": "execute_result"
    }
   ],
   "source": [
    "dfv.groupby('voter').size().sort_values()"
   ]
  },
  {
   "cell_type": "markdown",
   "id": "5cc72b63-24eb-427a-832d-72dc606c3645",
   "metadata": {},
   "source": [
    "## Making recommendations\n",
    "\n",
    "Because they are normalized, our ranking score can be just the dot product of a user and a proposal"
   ]
  },
  {
   "cell_type": "code",
   "execution_count": 13,
   "id": "3d059da7-6cdc-4e24-8640-656ef6014d7e",
   "metadata": {
    "execution": {
     "iopub.execute_input": "2023-10-25T13:38:00.808364Z",
     "iopub.status.busy": "2023-10-25T13:38:00.808005Z",
     "iopub.status.idle": "2023-10-25T13:38:00.849858Z",
     "shell.execute_reply": "2023-10-25T13:38:00.848927Z",
     "shell.execute_reply.started": "2023-10-25T13:38:00.808340Z"
    }
   },
   "outputs": [
    {
     "data": {
      "text/plain": [
       "array([ 324,  940,  320, ...,  413, 1134,  457])"
      ]
     },
     "execution_count": 13,
     "metadata": {},
     "output_type": "execute_result"
    }
   ],
   "source": [
    "user_emb = voter_embeddings['0x613e052555ac74ff6af0fc64e40e8035c1e9dcf8']\n",
    "scores = embeddings @ user_emb\n",
    "scores.argsort()"
   ]
  },
  {
   "cell_type": "code",
   "execution_count": 14,
   "id": "e2e2af5b-9011-480c-ae4d-cdc16db5ad51",
   "metadata": {
    "execution": {
     "iopub.execute_input": "2023-10-25T13:38:00.851330Z",
     "iopub.status.busy": "2023-10-25T13:38:00.850964Z",
     "iopub.status.idle": "2023-10-25T13:38:00.904930Z",
     "shell.execute_reply": "2023-10-25T13:38:00.904255Z",
     "shell.execute_reply.started": "2023-10-25T13:38:00.851303Z"
    }
   },
   "outputs": [
    {
     "data": {
      "text/plain": [
       "[7, 8, 9]"
      ]
     },
     "execution_count": 14,
     "metadata": {},
     "output_type": "execute_result"
    }
   ],
   "source": [
    "list(range(10))[-3:]"
   ]
  },
  {
   "cell_type": "code",
   "execution_count": 15,
   "id": "16f39d80-3cf6-49fe-8267-acf4ee66df59",
   "metadata": {
    "execution": {
     "iopub.execute_input": "2023-10-25T13:38:00.906833Z",
     "iopub.status.busy": "2023-10-25T13:38:00.906356Z",
     "iopub.status.idle": "2023-10-25T13:38:00.960316Z",
     "shell.execute_reply": "2023-10-25T13:38:00.959632Z",
     "shell.execute_reply.started": "2023-10-25T13:38:00.906806Z"
    }
   },
   "outputs": [],
   "source": [
    "def recommend_emb(emb, k):\n",
    "    # 1D n_proposals\n",
    "    scores = embeddings @ emb\n",
    "    best = (-scores).argsort()\n",
    "\n",
    "    dfbest = dfp.iloc[best[:k]].copy()\n",
    "    dfbest['score'] = scores[best[:k]]\n",
    "    return dfbest"
   ]
  },
  {
   "cell_type": "code",
   "execution_count": 16,
   "id": "5ff70a8d-e9b6-48ee-b2e8-7ad81cbd6b70",
   "metadata": {
    "execution": {
     "iopub.execute_input": "2023-10-25T13:38:00.961306Z",
     "iopub.status.busy": "2023-10-25T13:38:00.961089Z",
     "iopub.status.idle": "2023-10-25T13:38:01.003757Z",
     "shell.execute_reply": "2023-10-25T13:38:01.003060Z",
     "shell.execute_reply.started": "2023-10-25T13:38:00.961289Z"
    }
   },
   "outputs": [
    {
     "data": {
      "text/html": [
       "<div>\n",
       "<style scoped>\n",
       "    .dataframe tbody tr th:only-of-type {\n",
       "        vertical-align: middle;\n",
       "    }\n",
       "\n",
       "    .dataframe tbody tr th {\n",
       "        vertical-align: top;\n",
       "    }\n",
       "\n",
       "    .dataframe thead th {\n",
       "        text-align: right;\n",
       "    }\n",
       "</style>\n",
       "<table border=\"1\" class=\"dataframe\">\n",
       "  <thead>\n",
       "    <tr style=\"text-align: right;\">\n",
       "      <th></th>\n",
       "      <th>title</th>\n",
       "      <th>description</th>\n",
       "      <th>score</th>\n",
       "    </tr>\n",
       "  </thead>\n",
       "  <tbody>\n",
       "    <tr>\n",
       "      <th>457</th>\n",
       "      <td>Logarithmic VP conversion after a certain amou...</td>\n",
       "      <td>&gt; by 0x5985eb4a8e0e1f7bca9cc0d7ae81c2943fb205b...</td>\n",
       "      <td>6.907498</td>\n",
       "    </tr>\n",
       "    <tr>\n",
       "      <th>1134</th>\n",
       "      <td>Should Voter Power Delegation be activated in ...</td>\n",
       "      <td>&gt; by 0x9982b469910c2ee2ea566dcfcc250cdd3405639...</td>\n",
       "      <td>5.945354</td>\n",
       "    </tr>\n",
       "    <tr>\n",
       "      <th>413</th>\n",
       "      <td>Can we implement 'R' and 'G' keys to allow for...</td>\n",
       "      <td>&gt; by 0xb2223f4038def8a62a86e3c4b108cdfe00a74c4...</td>\n",
       "      <td>5.478396</td>\n",
       "    </tr>\n",
       "    <tr>\n",
       "      <th>873</th>\n",
       "      <td>Should VP keep assigned to the landowner in a ...</td>\n",
       "      <td>&gt; by 0x87956abc4078a0cc3b89b419928b857b8af826e...</td>\n",
       "      <td>5.168402</td>\n",
       "    </tr>\n",
       "    <tr>\n",
       "      <th>1736</th>\n",
       "      <td>Create Group Chats between Mutual Friends</td>\n",
       "      <td>&gt; by 0x988262eb3225ea4690f6b4846e36c700345bf6f...</td>\n",
       "      <td>4.962543</td>\n",
       "    </tr>\n",
       "  </tbody>\n",
       "</table>\n",
       "</div>"
      ],
      "text/plain": [
       "                                                  title  \\\n",
       "457   Logarithmic VP conversion after a certain amou...   \n",
       "1134  Should Voter Power Delegation be activated in ...   \n",
       "413   Can we implement 'R' and 'G' keys to allow for...   \n",
       "873   Should VP keep assigned to the landowner in a ...   \n",
       "1736          Create Group Chats between Mutual Friends   \n",
       "\n",
       "                                            description     score  \n",
       "457   > by 0x5985eb4a8e0e1f7bca9cc0d7ae81c2943fb205b...  6.907498  \n",
       "1134  > by 0x9982b469910c2ee2ea566dcfcc250cdd3405639...  5.945354  \n",
       "413   > by 0xb2223f4038def8a62a86e3c4b108cdfe00a74c4...  5.478396  \n",
       "873   > by 0x87956abc4078a0cc3b89b419928b857b8af826e...  5.168402  \n",
       "1736  > by 0x988262eb3225ea4690f6b4846e36c700345bf6f...  4.962543  "
      ]
     },
     "execution_count": 16,
     "metadata": {},
     "output_type": "execute_result"
    }
   ],
   "source": [
    "def recommend_user(voter: str, k: int = 5):\n",
    "    # 1D emb_size\n",
    "    user_emb = voter_embeddings[voter]\n",
    "    return recommend_emb(user_emb, k)\n",
    "\n",
    "recommend_user('0x613e052555ac74ff6af0fc64e40e8035c1e9dcf8')[['title', 'description', 'score']]"
   ]
  },
  {
   "cell_type": "code",
   "execution_count": 17,
   "id": "a86a24bd-4037-4faa-bb72-131687bc9d34",
   "metadata": {
    "execution": {
     "iopub.execute_input": "2023-10-25T13:38:01.007139Z",
     "iopub.status.busy": "2023-10-25T13:38:01.006839Z",
     "iopub.status.idle": "2023-10-25T13:38:01.118482Z",
     "shell.execute_reply": "2023-10-25T13:38:01.117783Z",
     "shell.execute_reply.started": "2023-10-25T13:38:01.007115Z"
    }
   },
   "outputs": [
    {
     "data": {
      "text/plain": [
       "platform                                                        snapshot\n",
       "name                                                        Decentraland\n",
       "platform_deployment                                     snapshot.dcl.eth\n",
       "deployment                          41fd8de5-f8e2-5023-86a3-825c49e9ad7f\n",
       "platform_proposal      0xdbe9b2df1d00c0d264bffb3f10f1332a82d8a8a70c12...\n",
       "author                        0xbb7b59afa3a0e5be143b8fe9c641f00c1ecb9d69\n",
       "date                                                 2023-02-14 16:19:06\n",
       "votes_count                                                          385\n",
       "proposal_id            0xdbe9b2df1d00c0d264bffb3f10f1332a82d8a8a70c12...\n",
       "title                  Should DAO proposals have a pre-defined 'Absta...\n",
       "description            > by 0x511a22cdd2c4ee8357bb02df2578037ffe8a4d8...\n",
       "title-description      Should DAO proposals have a pre-defined 'Absta...\n",
       "embeddings             [-0.00036667797, 0.00013968443, -0.00012323353...\n",
       "nbidx                                                                352\n",
       "Name: 433b7e43-77b0-5ea1-bac3-0c3071363a56, dtype: object"
      ]
     },
     "metadata": {},
     "output_type": "display_data"
    },
    {
     "data": {
      "text/html": [
       "<div>\n",
       "<style scoped>\n",
       "    .dataframe tbody tr th:only-of-type {\n",
       "        vertical-align: middle;\n",
       "    }\n",
       "\n",
       "    .dataframe tbody tr th {\n",
       "        vertical-align: top;\n",
       "    }\n",
       "\n",
       "    .dataframe thead th {\n",
       "        text-align: right;\n",
       "    }\n",
       "</style>\n",
       "<table border=\"1\" class=\"dataframe\">\n",
       "  <thead>\n",
       "    <tr style=\"text-align: right;\">\n",
       "      <th></th>\n",
       "      <th>platform</th>\n",
       "      <th>name</th>\n",
       "      <th>platform_deployment</th>\n",
       "      <th>id</th>\n",
       "      <th>deployment</th>\n",
       "      <th>platform_proposal</th>\n",
       "      <th>author</th>\n",
       "      <th>date</th>\n",
       "      <th>votes_count</th>\n",
       "      <th>proposal_id</th>\n",
       "      <th>title</th>\n",
       "      <th>description</th>\n",
       "      <th>title-description</th>\n",
       "      <th>embeddings</th>\n",
       "      <th>nbidx</th>\n",
       "      <th>score</th>\n",
       "    </tr>\n",
       "  </thead>\n",
       "  <tbody>\n",
       "    <tr>\n",
       "      <th>940</th>\n",
       "      <td>snapshot</td>\n",
       "      <td>Decentraland</td>\n",
       "      <td>snapshot.dcl.eth</td>\n",
       "      <td>5f8989a6-464f-57ef-bbee-74f3ce8b001f</td>\n",
       "      <td>41fd8de5-f8e2-5023-86a3-825c49e9ad7f</td>\n",
       "      <td>QmcY88YFJLgiMatBPD1j9KUxBwPhymW5DdVP4JQDj53jYr</td>\n",
       "      <td>0x5e23d08324f017d5425e59a2782c9ae27ace0958</td>\n",
       "      <td>2021-12-23 22:13:33</td>\n",
       "      <td>14</td>\n",
       "      <td>QmcY88YFJLgiMatBPD1j9KUxBwPhymW5DdVP4JQDj53jYr</td>\n",
       "      <td>Petition to add event reviews so we can improv...</td>\n",
       "      <td>&gt; by 0xbef69e080a0b127f7cf6f3b658f07c90588cea6...</td>\n",
       "      <td>Petition to add event reviews so we can improv...</td>\n",
       "      <td>[-0.0015171153, 0.00076421956, 0.00042039537, ...</td>\n",
       "      <td>940</td>\n",
       "      <td>2.341274</td>\n",
       "    </tr>\n",
       "    <tr>\n",
       "      <th>1537</th>\n",
       "      <td>snapshot</td>\n",
       "      <td>Decentraland</td>\n",
       "      <td>snapshot.dcl.eth</td>\n",
       "      <td>613dbb55-2dd7-51fc-a289-c1a39a6461ff</td>\n",
       "      <td>41fd8de5-f8e2-5023-86a3-825c49e9ad7f</td>\n",
       "      <td>0xfad0ce3f336f9104fd8d5cc2cb3c012c21a2116d7f7b...</td>\n",
       "      <td>0xbb7b59afa3a0e5be143b8fe9c641f00c1ecb9d69</td>\n",
       "      <td>2023-03-06 20:56:57</td>\n",
       "      <td>96</td>\n",
       "      <td>0xfad0ce3f336f9104fd8d5cc2cb3c012c21a2116d7f7b...</td>\n",
       "      <td>Community support for a paid pre-check on link...</td>\n",
       "      <td>&gt; by 0x895be97bdb9f8a244c472b18ea96dee39ddf8fe...</td>\n",
       "      <td>Community support for a paid pre-check on link...</td>\n",
       "      <td>[-0.00037167326, 0.00045459936, 8.63669e-05, -...</td>\n",
       "      <td>1537</td>\n",
       "      <td>2.167494</td>\n",
       "    </tr>\n",
       "    <tr>\n",
       "      <th>1644</th>\n",
       "      <td>snapshot</td>\n",
       "      <td>Decentraland</td>\n",
       "      <td>snapshot.dcl.eth</td>\n",
       "      <td>a7eabea1-95b5-5621-8bc5-8f09f313c45e</td>\n",
       "      <td>41fd8de5-f8e2-5023-86a3-825c49e9ad7f</td>\n",
       "      <td>bafkreidmcnjlewiwuvyty5k2atld2qtnesk5dky2gwhwo...</td>\n",
       "      <td>0x5e23d08324f017d5425e59a2782c9ae27ace0958</td>\n",
       "      <td>2022-09-07 15:39:27</td>\n",
       "      <td>92</td>\n",
       "      <td>bafkreidmcnjlewiwuvyty5k2atld2qtnesk5dky2gwhwo...</td>\n",
       "      <td>Should there be limited time to change voting ...</td>\n",
       "      <td>&gt; by 0x247e0896706bb09245549e476257a0a1129db41...</td>\n",
       "      <td>Should there be limited time to change voting ...</td>\n",
       "      <td>[0.00034874413, 0.00051068194, 0.00022908015, ...</td>\n",
       "      <td>1644</td>\n",
       "      <td>2.036050</td>\n",
       "    </tr>\n",
       "    <tr>\n",
       "      <th>1242</th>\n",
       "      <td>snapshot</td>\n",
       "      <td>Decentraland</td>\n",
       "      <td>snapshot.dcl.eth</td>\n",
       "      <td>5be72d6c-2388-5aaa-8ac6-20be847a82cc</td>\n",
       "      <td>41fd8de5-f8e2-5023-86a3-825c49e9ad7f</td>\n",
       "      <td>0xdce2b640a47ba0c44bfa9e9a88ad8bffb9a5a3ffbff5...</td>\n",
       "      <td>0xbb7b59afa3a0e5be143b8fe9c641f00c1ecb9d69</td>\n",
       "      <td>2023-01-06 17:54:38</td>\n",
       "      <td>201</td>\n",
       "      <td>0xdce2b640a47ba0c44bfa9e9a88ad8bffb9a5a3ffbff5...</td>\n",
       "      <td>Should DAO proposals have a pre-defined 'Absta...</td>\n",
       "      <td>&gt; by 0x511a22cdd2c4ee8357bb02df2578037ffe8a4d8...</td>\n",
       "      <td>Should DAO proposals have a pre-defined 'Absta...</td>\n",
       "      <td>[-0.0007028319, 0.00016267561, -7.843084e-06, ...</td>\n",
       "      <td>1242</td>\n",
       "      <td>2.001708</td>\n",
       "    </tr>\n",
       "    <tr>\n",
       "      <th>1149</th>\n",
       "      <td>snapshot</td>\n",
       "      <td>Decentraland</td>\n",
       "      <td>snapshot.dcl.eth</td>\n",
       "      <td>62662ecc-3126-5798-bbd9-b1421082be58</td>\n",
       "      <td>41fd8de5-f8e2-5023-86a3-825c49e9ad7f</td>\n",
       "      <td>QmVCfrGX892iaDLkp5dBNJRa93U2DVbg3JNcD14mfGvMS1</td>\n",
       "      <td>0x5e23d08324f017d5425e59a2782c9ae27ace0958</td>\n",
       "      <td>2022-05-19 23:18:01</td>\n",
       "      <td>161</td>\n",
       "      <td>QmVCfrGX892iaDLkp5dBNJRa93U2DVbg3JNcD14mfGvMS1</td>\n",
       "      <td>MANA incentives for USDC-ICE LP on QuickSwap</td>\n",
       "      <td>&gt; by 0x521b0fef9cdcf250abaf8e7bc798cbe13fa9869...</td>\n",
       "      <td>MANA incentives for USDC-ICE LP on QuickSwap\\n...</td>\n",
       "      <td>[0.00090394466, 0.0004753961, 0.000633631, 0.0...</td>\n",
       "      <td>1149</td>\n",
       "      <td>1.981512</td>\n",
       "    </tr>\n",
       "  </tbody>\n",
       "</table>\n",
       "</div>"
      ],
      "text/plain": [
       "      platform          name platform_deployment  \\\n",
       "940   snapshot  Decentraland    snapshot.dcl.eth   \n",
       "1537  snapshot  Decentraland    snapshot.dcl.eth   \n",
       "1644  snapshot  Decentraland    snapshot.dcl.eth   \n",
       "1242  snapshot  Decentraland    snapshot.dcl.eth   \n",
       "1149  snapshot  Decentraland    snapshot.dcl.eth   \n",
       "\n",
       "                                        id  \\\n",
       "940   5f8989a6-464f-57ef-bbee-74f3ce8b001f   \n",
       "1537  613dbb55-2dd7-51fc-a289-c1a39a6461ff   \n",
       "1644  a7eabea1-95b5-5621-8bc5-8f09f313c45e   \n",
       "1242  5be72d6c-2388-5aaa-8ac6-20be847a82cc   \n",
       "1149  62662ecc-3126-5798-bbd9-b1421082be58   \n",
       "\n",
       "                                deployment  \\\n",
       "940   41fd8de5-f8e2-5023-86a3-825c49e9ad7f   \n",
       "1537  41fd8de5-f8e2-5023-86a3-825c49e9ad7f   \n",
       "1644  41fd8de5-f8e2-5023-86a3-825c49e9ad7f   \n",
       "1242  41fd8de5-f8e2-5023-86a3-825c49e9ad7f   \n",
       "1149  41fd8de5-f8e2-5023-86a3-825c49e9ad7f   \n",
       "\n",
       "                                      platform_proposal  \\\n",
       "940      QmcY88YFJLgiMatBPD1j9KUxBwPhymW5DdVP4JQDj53jYr   \n",
       "1537  0xfad0ce3f336f9104fd8d5cc2cb3c012c21a2116d7f7b...   \n",
       "1644  bafkreidmcnjlewiwuvyty5k2atld2qtnesk5dky2gwhwo...   \n",
       "1242  0xdce2b640a47ba0c44bfa9e9a88ad8bffb9a5a3ffbff5...   \n",
       "1149     QmVCfrGX892iaDLkp5dBNJRa93U2DVbg3JNcD14mfGvMS1   \n",
       "\n",
       "                                          author                date  \\\n",
       "940   0x5e23d08324f017d5425e59a2782c9ae27ace0958 2021-12-23 22:13:33   \n",
       "1537  0xbb7b59afa3a0e5be143b8fe9c641f00c1ecb9d69 2023-03-06 20:56:57   \n",
       "1644  0x5e23d08324f017d5425e59a2782c9ae27ace0958 2022-09-07 15:39:27   \n",
       "1242  0xbb7b59afa3a0e5be143b8fe9c641f00c1ecb9d69 2023-01-06 17:54:38   \n",
       "1149  0x5e23d08324f017d5425e59a2782c9ae27ace0958 2022-05-19 23:18:01   \n",
       "\n",
       "      votes_count                                        proposal_id  \\\n",
       "940            14     QmcY88YFJLgiMatBPD1j9KUxBwPhymW5DdVP4JQDj53jYr   \n",
       "1537           96  0xfad0ce3f336f9104fd8d5cc2cb3c012c21a2116d7f7b...   \n",
       "1644           92  bafkreidmcnjlewiwuvyty5k2atld2qtnesk5dky2gwhwo...   \n",
       "1242          201  0xdce2b640a47ba0c44bfa9e9a88ad8bffb9a5a3ffbff5...   \n",
       "1149          161     QmVCfrGX892iaDLkp5dBNJRa93U2DVbg3JNcD14mfGvMS1   \n",
       "\n",
       "                                                  title  \\\n",
       "940   Petition to add event reviews so we can improv...   \n",
       "1537  Community support for a paid pre-check on link...   \n",
       "1644  Should there be limited time to change voting ...   \n",
       "1242  Should DAO proposals have a pre-defined 'Absta...   \n",
       "1149       MANA incentives for USDC-ICE LP on QuickSwap   \n",
       "\n",
       "                                            description  \\\n",
       "940   > by 0xbef69e080a0b127f7cf6f3b658f07c90588cea6...   \n",
       "1537  > by 0x895be97bdb9f8a244c472b18ea96dee39ddf8fe...   \n",
       "1644  > by 0x247e0896706bb09245549e476257a0a1129db41...   \n",
       "1242  > by 0x511a22cdd2c4ee8357bb02df2578037ffe8a4d8...   \n",
       "1149  > by 0x521b0fef9cdcf250abaf8e7bc798cbe13fa9869...   \n",
       "\n",
       "                                      title-description  \\\n",
       "940   Petition to add event reviews so we can improv...   \n",
       "1537  Community support for a paid pre-check on link...   \n",
       "1644  Should there be limited time to change voting ...   \n",
       "1242  Should DAO proposals have a pre-defined 'Absta...   \n",
       "1149  MANA incentives for USDC-ICE LP on QuickSwap\\n...   \n",
       "\n",
       "                                             embeddings  nbidx     score  \n",
       "940   [-0.0015171153, 0.00076421956, 0.00042039537, ...    940  2.341274  \n",
       "1537  [-0.00037167326, 0.00045459936, 8.63669e-05, -...   1537  2.167494  \n",
       "1644  [0.00034874413, 0.00051068194, 0.00022908015, ...   1644  2.036050  \n",
       "1242  [-0.0007028319, 0.00016267561, -7.843084e-06, ...   1242  2.001708  \n",
       "1149  [0.00090394466, 0.0004753961, 0.000633631, 0.0...   1149  1.981512  "
      ]
     },
     "execution_count": 17,
     "metadata": {},
     "output_type": "execute_result"
    }
   ],
   "source": [
    "def recommend_proposal(proposal: str, k: int = 5):\n",
    "    # 1D emb_size\n",
    "    prop_emb = dfp.set_index('id')['embeddings'][proposal]\n",
    "    return recommend_emb(prop_emb, k)\n",
    "\n",
    "display(dfp.set_index('id').loc['433b7e43-77b0-5ea1-bac3-0c3071363a56'])\n",
    "recommend_proposal('433b7e43-77b0-5ea1-bac3-0c3071363a56')"
   ]
  },
  {
   "cell_type": "markdown",
   "id": "b5862685-67df-4e5c-9add-9defd06d53f1",
   "metadata": {},
   "source": [
    "## Evaluation\n",
    "\n",
    "First, we will evaluate if the user recommendations are any good using common off-line metrics."
   ]
  },
  {
   "cell_type": "code",
   "execution_count": 18,
   "id": "fd7f2239-b3fe-457c-b39b-ea3b725154a4",
   "metadata": {
    "execution": {
     "iopub.execute_input": "2023-10-25T13:38:01.120086Z",
     "iopub.status.busy": "2023-10-25T13:38:01.119626Z",
     "iopub.status.idle": "2023-10-25T13:38:01.178529Z",
     "shell.execute_reply": "2023-10-25T13:38:01.177737Z",
     "shell.execute_reply.started": "2023-10-25T13:38:01.120058Z"
    }
   },
   "outputs": [],
   "source": [
    "from recommenders.evaluation.python_evaluation import map_at_k, ndcg_at_k, precision_at_k, recall_at_k"
   ]
  },
  {
   "cell_type": "code",
   "execution_count": 19,
   "id": "e9d5ae35-7703-4b25-a531-94c431b091cb",
   "metadata": {
    "execution": {
     "iopub.execute_input": "2023-10-25T13:38:01.179744Z",
     "iopub.status.busy": "2023-10-25T13:38:01.179462Z",
     "iopub.status.idle": "2023-10-25T13:38:01.218890Z",
     "shell.execute_reply": "2023-10-25T13:38:01.218408Z",
     "shell.execute_reply.started": "2023-10-25T13:38:01.179720Z"
    }
   },
   "outputs": [
    {
     "name": "stdout",
     "output_type": "stream",
     "text": [
      "(7268, 768)\n"
     ]
    }
   ],
   "source": [
    "dfv['rating'] = 1\n",
    "np_voter_embeddings = np.stack(voter_embeddings.to_numpy())\n",
    "print(np_voter_embeddings.shape)"
   ]
  },
  {
   "cell_type": "code",
   "execution_count": 20,
   "id": "6dc4a5c5-3a55-4622-85e4-2b702fdd860d",
   "metadata": {
    "execution": {
     "iopub.execute_input": "2023-10-25T13:38:01.219692Z",
     "iopub.status.busy": "2023-10-25T13:38:01.219526Z",
     "iopub.status.idle": "2023-10-25T13:38:01.713255Z",
     "shell.execute_reply": "2023-10-25T13:38:01.712642Z",
     "shell.execute_reply.started": "2023-10-25T13:38:01.219677Z"
    }
   },
   "outputs": [
    {
     "data": {
      "text/html": [
       "<div>\n",
       "<style scoped>\n",
       "    .dataframe tbody tr th:only-of-type {\n",
       "        vertical-align: middle;\n",
       "    }\n",
       "\n",
       "    .dataframe tbody tr th {\n",
       "        vertical-align: top;\n",
       "    }\n",
       "\n",
       "    .dataframe thead th {\n",
       "        text-align: right;\n",
       "    }\n",
       "</style>\n",
       "<table border=\"1\" class=\"dataframe\">\n",
       "  <thead>\n",
       "    <tr style=\"text-align: right;\">\n",
       "      <th></th>\n",
       "      <th>voter</th>\n",
       "      <th>proposal</th>\n",
       "      <th>prediction</th>\n",
       "      <th>score</th>\n",
       "    </tr>\n",
       "  </thead>\n",
       "  <tbody>\n",
       "    <tr>\n",
       "      <th>324</th>\n",
       "      <td>0x0019220ddabe5b8438a6be6ebca31ef01ca69965</td>\n",
       "      <td>b8df528b-a34e-5e1a-afe2-6d2615054032</td>\n",
       "      <td>1</td>\n",
       "      <td>4.027319</td>\n",
       "    </tr>\n",
       "    <tr>\n",
       "      <th>940</th>\n",
       "      <td>0x0019220ddabe5b8438a6be6ebca31ef01ca69965</td>\n",
       "      <td>5f8989a6-464f-57ef-bbee-74f3ce8b001f</td>\n",
       "      <td>1</td>\n",
       "      <td>3.714600</td>\n",
       "    </tr>\n",
       "    <tr>\n",
       "      <th>940</th>\n",
       "      <td>0x0023a0bf1cb20362f847dfc977d2c815f6ac8021</td>\n",
       "      <td>5f8989a6-464f-57ef-bbee-74f3ce8b001f</td>\n",
       "      <td>1</td>\n",
       "      <td>3.817560</td>\n",
       "    </tr>\n",
       "    <tr>\n",
       "      <th>324</th>\n",
       "      <td>0x0023a0bf1cb20362f847dfc977d2c815f6ac8021</td>\n",
       "      <td>b8df528b-a34e-5e1a-afe2-6d2615054032</td>\n",
       "      <td>1</td>\n",
       "      <td>3.368389</td>\n",
       "    </tr>\n",
       "    <tr>\n",
       "      <th>940</th>\n",
       "      <td>0x0026dd985da16f70e9d9cf739b08c6cdf6a7f407</td>\n",
       "      <td>5f8989a6-464f-57ef-bbee-74f3ce8b001f</td>\n",
       "      <td>1</td>\n",
       "      <td>4.873110</td>\n",
       "    </tr>\n",
       "    <tr>\n",
       "      <th>...</th>\n",
       "      <td>...</td>\n",
       "      <td>...</td>\n",
       "      <td>...</td>\n",
       "      <td>...</td>\n",
       "    </tr>\n",
       "    <tr>\n",
       "      <th>940</th>\n",
       "      <td>0xffe6d9d29480d0673c4fc46da22d21e245c8e731</td>\n",
       "      <td>5f8989a6-464f-57ef-bbee-74f3ce8b001f</td>\n",
       "      <td>1</td>\n",
       "      <td>4.668789</td>\n",
       "    </tr>\n",
       "    <tr>\n",
       "      <th>324</th>\n",
       "      <td>0xffed2f64c9f796d4258618a7a375ed816205821a</td>\n",
       "      <td>b8df528b-a34e-5e1a-afe2-6d2615054032</td>\n",
       "      <td>1</td>\n",
       "      <td>4.856295</td>\n",
       "    </tr>\n",
       "    <tr>\n",
       "      <th>940</th>\n",
       "      <td>0xffed2f64c9f796d4258618a7a375ed816205821a</td>\n",
       "      <td>5f8989a6-464f-57ef-bbee-74f3ce8b001f</td>\n",
       "      <td>1</td>\n",
       "      <td>4.709621</td>\n",
       "    </tr>\n",
       "    <tr>\n",
       "      <th>457</th>\n",
       "      <td>0xfff28923092a8294456206a6d0734514bebcbe67</td>\n",
       "      <td>11946f30-e09f-5638-be0a-82dff99d3112</td>\n",
       "      <td>1</td>\n",
       "      <td>6.668961</td>\n",
       "    </tr>\n",
       "    <tr>\n",
       "      <th>1134</th>\n",
       "      <td>0xfff28923092a8294456206a6d0734514bebcbe67</td>\n",
       "      <td>475ef4ab-4320-5832-b12f-59222f3f41b5</td>\n",
       "      <td>1</td>\n",
       "      <td>5.647882</td>\n",
       "    </tr>\n",
       "  </tbody>\n",
       "</table>\n",
       "<p>14536 rows × 4 columns</p>\n",
       "</div>"
      ],
      "text/plain": [
       "                                           voter  \\\n",
       "324   0x0019220ddabe5b8438a6be6ebca31ef01ca69965   \n",
       "940   0x0019220ddabe5b8438a6be6ebca31ef01ca69965   \n",
       "940   0x0023a0bf1cb20362f847dfc977d2c815f6ac8021   \n",
       "324   0x0023a0bf1cb20362f847dfc977d2c815f6ac8021   \n",
       "940   0x0026dd985da16f70e9d9cf739b08c6cdf6a7f407   \n",
       "...                                          ...   \n",
       "940   0xffe6d9d29480d0673c4fc46da22d21e245c8e731   \n",
       "324   0xffed2f64c9f796d4258618a7a375ed816205821a   \n",
       "940   0xffed2f64c9f796d4258618a7a375ed816205821a   \n",
       "457   0xfff28923092a8294456206a6d0734514bebcbe67   \n",
       "1134  0xfff28923092a8294456206a6d0734514bebcbe67   \n",
       "\n",
       "                                  proposal  prediction     score  \n",
       "324   b8df528b-a34e-5e1a-afe2-6d2615054032           1  4.027319  \n",
       "940   5f8989a6-464f-57ef-bbee-74f3ce8b001f           1  3.714600  \n",
       "940   5f8989a6-464f-57ef-bbee-74f3ce8b001f           1  3.817560  \n",
       "324   b8df528b-a34e-5e1a-afe2-6d2615054032           1  3.368389  \n",
       "940   5f8989a6-464f-57ef-bbee-74f3ce8b001f           1  4.873110  \n",
       "...                                    ...         ...       ...  \n",
       "940   5f8989a6-464f-57ef-bbee-74f3ce8b001f           1  4.668789  \n",
       "324   b8df528b-a34e-5e1a-afe2-6d2615054032           1  4.856295  \n",
       "940   5f8989a6-464f-57ef-bbee-74f3ce8b001f           1  4.709621  \n",
       "457   11946f30-e09f-5638-be0a-82dff99d3112           1  6.668961  \n",
       "1134  475ef4ab-4320-5832-b12f-59222f3f41b5           1  5.647882  \n",
       "\n",
       "[14536 rows x 4 columns]"
      ]
     },
     "execution_count": 20,
     "metadata": {},
     "output_type": "execute_result"
    }
   ],
   "source": [
    "def recommend_all(k: int = 5):\n",
    "    scores = np_voter_embeddings @ embeddings.T\n",
    "    best = (-scores).argsort(axis=1)\n",
    "    topk = best[:, :k]\n",
    "\n",
    "    # create df with columns\n",
    "    # userID, itemID, prediction\n",
    "    uid = np.repeat(np.arange(np_voter_embeddings.shape[0]), k)\n",
    "    iid = topk.flatten()\n",
    "\n",
    "    # transform int to id\n",
    "\n",
    "    return pd.DataFrame({\n",
    "        'voter': voter_embeddings.index[uid],\n",
    "        'proposal': ids[iid],\n",
    "        'prediction': 1,\n",
    "        'score': scores[uid, iid],\n",
    "    })\n",
    "\n",
    "recommend_all(2)"
   ]
  },
  {
   "cell_type": "code",
   "execution_count": 21,
   "id": "542f0ca1-b811-4eed-b231-7925461da7e6",
   "metadata": {
    "execution": {
     "iopub.execute_input": "2023-10-25T13:38:01.714465Z",
     "iopub.status.busy": "2023-10-25T13:38:01.714141Z",
     "iopub.status.idle": "2023-10-25T13:38:05.104825Z",
     "shell.execute_reply": "2023-10-25T13:38:05.104173Z",
     "shell.execute_reply.started": "2023-10-25T13:38:01.714441Z"
    }
   },
   "outputs": [
    {
     "name": "stdout",
     "output_type": "stream",
     "text": [
      "map: 0.003617985964794645\n",
      "ndcg: 0.023747986640875404\n",
      "precision: 0.017996697853604842\n",
      "recall: 0.006523095073203304\n"
     ]
    }
   ],
   "source": [
    "print('map:', map_at_k(dfv, recommend_all(5), k=5, col_user='voter', col_item='proposal'))\n",
    "print('ndcg:', ndcg_at_k(dfv, recommend_all(5), k=5, col_user='voter', col_item='proposal'))\n",
    "print('precision:', precision_at_k(dfv, recommend_all(5), k=5, col_user='voter', col_item='proposal'))\n",
    "print('recall:', recall_at_k(dfv, recommend_all(5), k=5, col_user='voter', col_item='proposal'))"
   ]
  },
  {
   "cell_type": "code",
   "execution_count": 22,
   "id": "08a623fc-a116-459c-8ee8-2afb8c104750",
   "metadata": {
    "execution": {
     "iopub.execute_input": "2023-10-25T13:38:05.106918Z",
     "iopub.status.busy": "2023-10-25T13:38:05.106752Z",
     "iopub.status.idle": "2023-10-25T13:38:08.927606Z",
     "shell.execute_reply": "2023-10-25T13:38:08.927105Z",
     "shell.execute_reply.started": "2023-10-25T13:38:05.106904Z"
    }
   },
   "outputs": [
    {
     "name": "stdout",
     "output_type": "stream",
     "text": [
      "map: 0.741011513447713\n",
      "ndcg: 1.0\n",
      "precision: 0.6418547055586131\n",
      "recall: 0.741011513447713\n"
     ]
    }
   ],
   "source": [
    "dfv['prediction'] = 1\n",
    "print('map:', map_at_k(dfv, dfv, k=5, relevancy_method='top_k', col_user='voter', col_item='proposal'))\n",
    "print('ndcg:', ndcg_at_k(dfv, dfv, k=5, relevancy_method='top_k', col_user='voter', col_item='proposal'))\n",
    "print('precision:', precision_at_k(dfv, dfv, relevancy_method='top_k', k=5, col_user='voter', col_item='proposal'))\n",
    "print('recall:', recall_at_k(dfv, dfv, relevancy_method='top_k', k=5, col_user='voter', col_item='proposal'))"
   ]
  }
 ],
 "metadata": {
  "kernelspec": {
   "display_name": "Python 3 (ipykernel)",
   "language": "python",
   "name": "python3"
  },
  "language_info": {
   "codemirror_mode": {
    "name": "ipython",
    "version": 3
   },
   "file_extension": ".py",
   "mimetype": "text/x-python",
   "name": "python",
   "nbconvert_exporter": "python",
   "pygments_lexer": "ipython3",
   "version": "3.9.18"
  },
  "widgets": {
   "application/vnd.jupyter.widget-state+json": {
    "state": {},
    "version_major": 2,
    "version_minor": 0
   }
  }
 },
 "nbformat": 4,
 "nbformat_minor": 5
}
