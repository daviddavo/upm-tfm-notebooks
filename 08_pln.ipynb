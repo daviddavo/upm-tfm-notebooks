{
 "cells": [
  {
   "cell_type": "code",
   "execution_count": 1,
   "id": "752ee701-9042-4672-b875-fcb1f1ff83a2",
   "metadata": {},
   "outputs": [],
   "source": [
    "from typing import Dict, List, Tuple, Union, Any, Optional\n",
    "\n",
    "from functools import partial\n",
    "import itertools as it\n",
    "\n",
    "import pandas as pd\n",
    "import numpy as np\n",
    "import datetime as dt\n",
    "import os, sys\n",
    "\n",
    "from pathlib import Path\n",
    "\n",
    "import torch\n",
    "import ray\n",
    "from ray import train, tune\n",
    "\n",
    "import matplotlib.pyplot as plt\n",
    "import seaborn as sns\n",
    "import plotly.express as px\n",
    "\n",
    "from tqdm.notebook import tqdm\n",
    "\n",
    "from src.datasets import daocensus\n",
    "\n",
    "%load_ext autoreload\n",
    "%autoreload 2"
   ]
  },
  {
   "cell_type": "markdown",
   "id": "b04b58f5-59bd-4000-9e19-6cb20ea8afb3",
   "metadata": {},
   "source": [
    "### Parameters"
   ]
  },
  {
   "cell_type": "code",
   "execution_count": 2,
   "id": "ee507d49-c555-43ca-97dc-e0f627737421",
   "metadata": {},
   "outputs": [],
   "source": [
    "TRANSFORMER_MODEL = \"all-mpnet-base-v2\"\n",
    "ORG_NAME = 'Decentraland'\n",
    "\n",
    "# Evaluation\n",
    "N_SPLITS: int = 10\n",
    "SKIP_SPLIT: int = 0\n",
    "K_RECOMMENDATIONS: List[int] = [5, 10]\n",
    "\n",
    "# k for K Nearest Neighbors\n",
    "# KNN_K: int = 1"
   ]
  },
  {
   "cell_type": "code",
   "execution_count": 3,
   "id": "dff49c62-41a3-4b70-b486-55cbafede303",
   "metadata": {
    "scrolled": true
   },
   "outputs": [
    {
     "name": "stdout",
     "output_type": "stream",
     "text": [
      "<class 'pandas.core.frame.DataFrame'>\n",
      "RangeIndex: 116560 entries, 0 to 116559\n",
      "Data columns (total 10 columns):\n",
      " #   Column         Non-Null Count   Dtype         \n",
      "---  ------         --------------   -----         \n",
      " 0   platform       116560 non-null  object        \n",
      " 1   name           116560 non-null  object        \n",
      " 2   id             116560 non-null  object        \n",
      " 3   proposal       116560 non-null  category      \n",
      " 4   deployment     116560 non-null  object        \n",
      " 5   platform_vote  116560 non-null  object        \n",
      " 6   voter          116560 non-null  object        \n",
      " 7   date           116560 non-null  datetime64[ns]\n",
      " 8   choice         116560 non-null  object        \n",
      " 9   weight         116560 non-null  float64       \n",
      "dtypes: category(1), datetime64[ns](1), float64(1), object(7)\n",
      "memory usage: 8.3+ MB\n",
      "None\n",
      "<class 'pandas.core.frame.DataFrame'>\n",
      "Int64Index: 1942 entries, 0 to 1941\n",
      "Data columns (total 14 columns):\n",
      " #   Column               Non-Null Count  Dtype         \n",
      "---  ------               --------------  -----         \n",
      " 0   platform             1942 non-null   object        \n",
      " 1   name                 1942 non-null   object        \n",
      " 2   platform_deployment  1942 non-null   object        \n",
      " 3   id                   1942 non-null   category      \n",
      " 4   deployment           1942 non-null   object        \n",
      " 5   platform_proposal    1942 non-null   object        \n",
      " 6   author               1942 non-null   category      \n",
      " 7   date                 1942 non-null   datetime64[ns]\n",
      " 8   votes_count          1942 non-null   int64         \n",
      " 9   proposal_id          1942 non-null   object        \n",
      " 10  title                1942 non-null   object        \n",
      " 11  description          1942 non-null   object        \n",
      " 12  start                1942 non-null   datetime64[ns]\n",
      " 13  end                  1942 non-null   datetime64[ns]\n",
      "dtypes: category(2), datetime64[ns](3), int64(1), object(8)\n",
      "memory usage: 599.4+ KB\n",
      "None\n"
     ]
    }
   ],
   "source": [
    "dfptext = pd.read_csv('./snapshot_proposals.csv')[['proposal_id', 'title', 'description', 'start', 'end']]\n",
    "dfv, dfp = daocensus.get(\"./data/daos-census\", ORG_NAME, 'snapshot')\n",
    "dfv['voter'] = dfv['voter'].astype('str')\n",
    "dfp = dfp.merge(dfptext, how='left', left_on='platform_proposal', right_on='proposal_id')\n",
    "dfp[['start', 'end']] = dfp[['start', 'end']].astype('datetime64')\n",
    "print(dfv.info())\n",
    "print(dfp.info())"
   ]
  },
  {
   "cell_type": "markdown",
   "id": "5e116e4b-6cae-4893-83fc-3b9cd8000541",
   "metadata": {},
   "source": [
    "## Getting the embeddings of each proposal"
   ]
  },
  {
   "cell_type": "code",
   "execution_count": 4,
   "id": "61d7c966-0ef9-41e2-8837-6782146c60ab",
   "metadata": {},
   "outputs": [],
   "source": [
    "from sentence_transformers import SentenceTransformer\n",
    "import pickle"
   ]
  },
  {
   "cell_type": "code",
   "execution_count": 5,
   "id": "9151cda0-227b-416a-9a82-142732826a8e",
   "metadata": {},
   "outputs": [],
   "source": [
    "model = SentenceTransformer(TRANSFORMER_MODEL)"
   ]
  },
  {
   "cell_type": "code",
   "execution_count": 6,
   "id": "4bcd4e2f-0482-432e-9e43-4db8cc441876",
   "metadata": {},
   "outputs": [
    {
     "name": "stdout",
     "output_type": "stream",
     "text": [
      "Embeddings file saved, reading it instead...\n",
      "Embeddings shape: (1942, 768)\n"
     ]
    }
   ],
   "source": [
    "embeddings_folder = Path('./data/daos-census-text')\n",
    "embeddings_file = embeddings_folder / 'embeddings.pkl'\n",
    "\n",
    "dfp['title-description'] = dfp['title'] + '\\n' + dfp['description']\n",
    "\n",
    "if not embeddings_folder.exists():\n",
    "    embeddings_folder.mkdir()\n",
    "\n",
    "embeddings = None\n",
    "if embeddings_file.exists():\n",
    "    print('Embeddings file saved, reading it instead...')\n",
    "    with open(embeddings_file, 'rb') as f:\n",
    "        obj = pickle.load(f)\n",
    "    \n",
    "    embeddings = obj['embeddings']\n",
    "    print(\"Embeddings shape:\", embeddings.shape)\n",
    "    ids = obj['ids']\n",
    "\n",
    "if embeddings is None:\n",
    "    embeddings = model.encode(dfp['title-description'], show_progress_bar=True, normalize_embeddings=True)\n",
    "    with open(embeddings_file, 'wb+') as f:\n",
    "        pickle.dump({'sentences': dfp['title-description'], 'embeddings': embeddings, 'ids': dfp['id']}, f, protocol=pickle.HIGHEST_PROTOCOL)\n",
    "    ids = dfp['id']"
   ]
  },
  {
   "cell_type": "code",
   "execution_count": 7,
   "id": "12f3a51c-97e2-4bb0-a3bb-c0f826b3c280",
   "metadata": {
    "scrolled": true
   },
   "outputs": [
    {
     "name": "stdout",
     "output_type": "stream",
     "text": [
      "(768,)\n"
     ]
    },
    {
     "data": {
      "text/plain": [
       "array([[ 1.1403942e-03,  8.6159667e-04,  6.9543906e-04, ...,\n",
       "        -2.7190472e-03, -1.0145850e-03,  3.9847512e-03],\n",
       "       [-4.0623921e-04,  4.4145260e-04,  9.4736629e-04, ...,\n",
       "         1.6015386e-03,  1.8749244e-03, -2.8607671e-04],\n",
       "       [ 2.3584028e-03,  5.8685098e-04,  7.1522983e-04, ...,\n",
       "        -2.2754685e-03, -1.4056198e-04, -3.7364415e-03],\n",
       "       ...,\n",
       "       [ 7.4751978e-04,  6.6007749e-04,  6.3091848e-04, ...,\n",
       "         2.4024327e-03, -2.0156235e-03,  3.5178075e-03],\n",
       "       [ 1.0567971e-03,  4.8019559e-05,  3.8508393e-04, ...,\n",
       "        -2.2719151e-04,  3.0133147e-03, -4.8025078e-03],\n",
       "       [-7.7102036e-04,  5.3977495e-04,  6.2477670e-04, ...,\n",
       "         4.1932142e-03, -3.2050564e-05,  5.8417697e-03]], dtype=float32)"
      ]
     },
     "execution_count": 7,
     "metadata": {},
     "output_type": "execute_result"
    }
   ],
   "source": [
    "embeddings_sum = embeddings.sum(axis=0)\n",
    "print(embeddings_sum.shape)\n",
    "embeddings = embeddings / embeddings_sum\n",
    "embeddings"
   ]
  },
  {
   "cell_type": "code",
   "execution_count": 8,
   "id": "df2eb91e-65e0-4b1d-a87c-fbfa4bc3eef1",
   "metadata": {},
   "outputs": [],
   "source": [
    "dfp['embeddings'] = list(embeddings)"
   ]
  },
  {
   "cell_type": "markdown",
   "id": "d72c7ba3-ca13-4f06-86bb-5a565e170bb9",
   "metadata": {},
   "source": [
    "## Getting the embeddings of each user\n",
    "\n",
    "The embeddings of each user are the embeddings of each proposal the user has voted in"
   ]
  },
  {
   "cell_type": "code",
   "execution_count": 9,
   "id": "bdc45b70-8397-422d-89c5-814e629fcee6",
   "metadata": {},
   "outputs": [
    {
     "name": "stdout",
     "output_type": "stream",
     "text": [
      "dfp: (1942, 17) dfv: (116560, 10) _dfv: (116560, 12)\n"
     ]
    },
    {
     "data": {
      "text/plain": [
       "(116560, 768)"
      ]
     },
     "execution_count": 9,
     "metadata": {},
     "output_type": "execute_result"
    }
   ],
   "source": [
    "dfp['nbidx'] = dfp.index\n",
    "_dfv = dfv.merge(dfp[['id', 'nbidx']], how='left', left_on='proposal', right_on='id')\n",
    "print('dfp:', dfp.shape, 'dfv:', dfv.shape, '_dfv:', _dfv.shape)\n",
    "votes_embeddings = embeddings[_dfv['nbidx']]\n",
    "votes_embeddings.shape"
   ]
  },
  {
   "cell_type": "code",
   "execution_count": 10,
   "id": "246bc838-f222-4813-bd0f-996b3ba1b165",
   "metadata": {},
   "outputs": [
    {
     "name": "stdout",
     "output_type": "stream",
     "text": [
      "[0.6 0.8]\n",
      "1.0\n",
      "1.4\n"
     ]
    }
   ],
   "source": [
    "x=np.array([3,4])\n",
    "x = x / np.linalg.norm(x)\n",
    "print(x)\n",
    "print(np.linalg.norm(x))\n",
    "print(x.sum())"
   ]
  },
  {
   "cell_type": "code",
   "execution_count": 11,
   "id": "bd59ea53-9ca7-4fa5-a11b-cea31f8cd14f",
   "metadata": {},
   "outputs": [
    {
     "data": {
      "text/plain": [
       "voter\n",
       "0x0019220ddabe5b8438a6be6ebca31ef01ca69965    [0.0005797436, 0.0008813106, 0.0009436921, 0.0...\n",
       "0x0023a0bf1cb20362f847dfc977d2c815f6ac8021    [0.0058569475, 0.0020814762, 0.0020506687, 0.0...\n",
       "0x0026dd985da16f70e9d9cf739b08c6cdf6a7f407    [0.00049382605, 0.000369442, 0.0001715262, 0.0...\n",
       "0x0029ab135b5be72168bf80f140d60a9264dbd0c5    [0.0015583907, 0.0006184035, 0.0007542482, 0.0...\n",
       "0x003a3eb1a1d2ad3bea19ae06324727beeeec2e34    [0.0029788632, 0.0022017027, 0.0020975238, 0.0...\n",
       "                                                                    ...                        \n",
       "0xffd92144cafd599a5a93e4805ca4d8f0e666d623    [0.0018572637, 0.0015811239, 0.0013924055, 0.0...\n",
       "0xffd9cd75445459184a4b89a0fbd1720ab2957738    [0.001981472, 0.0022674527, 0.0011901953, 0.00...\n",
       "0xffe6d9d29480d0673c4fc46da22d21e245c8e731    [0.0024959077, 0.0013624564, 0.0004591559, 0.0...\n",
       "0xffed2f64c9f796d4258618a7a375ed816205821a    [-0.00015786002, 0.0002711929, 0.0002997918, 8...\n",
       "0xfff28923092a8294456206a6d0734514bebcbe67    [0.00033324183, 0.00023291852, 0.00032616674, ...\n",
       "Length: 7268, dtype: object"
      ]
     },
     "execution_count": 11,
     "metadata": {},
     "output_type": "execute_result"
    }
   ],
   "source": [
    "voter_embeddings = dfv.groupby('voter').apply(lambda x: votes_embeddings[x.index].sum(axis=0))\n",
    "voter_embeddings = voter_embeddings.apply(lambda x: x/np.linalg.norm(x))\n",
    "# msk = (np.linalg.norm(np.stack(voter_embeddings.to_numpy()), axis=1) > 0.9)\n",
    "voter_embeddings"
   ]
  },
  {
   "cell_type": "code",
   "execution_count": 12,
   "id": "8fbbb3da-7553-4252-b894-764ad52324f9",
   "metadata": {},
   "outputs": [
    {
     "data": {
      "text/plain": [
       "voter\n",
       "0x7dc3331bc545a41e566dfbbb3d8851bf4762486f      1\n",
       "0x7ae0a65d329bc202e83a360d9afc880063c12337      1\n",
       "0x7b07608c3e4ef235c7a5e15f02a7fa9552ce113f      1\n",
       "0x7b29be2f106712287024e6228e015d44cdfa0dec      1\n",
       "0x7b2ec1a291a0a4dd08d65ab34a62bda1cca618c6      1\n",
       "                                             ... \n",
       "0x613e052555ac74ff6af0fc64e40e8035c1e9dcf8    652\n",
       "0xd6eff8f07caf3443a1178407d3de4129149d6ef6    727\n",
       "0xb44ac514588be99870220d12120815bc3d349507    729\n",
       "0x521b0fef9cdcf250abaf8e7bc798cbe13fa98692    760\n",
       "0xc54a6c3778016b06cbd126ccc3b5bc06c5f666fb    885\n",
       "Length: 7268, dtype: int64"
      ]
     },
     "execution_count": 12,
     "metadata": {},
     "output_type": "execute_result"
    }
   ],
   "source": [
    "dfv.groupby('voter').size().sort_values()"
   ]
  },
  {
   "cell_type": "markdown",
   "id": "5cc72b63-24eb-427a-832d-72dc606c3645",
   "metadata": {},
   "source": [
    "## Making recommendations with cosine similarity\n",
    "\n",
    "Because they are normalized, our ranking score can be just the dot product of a user and a proposal"
   ]
  },
  {
   "cell_type": "code",
   "execution_count": 13,
   "id": "3d059da7-6cdc-4e24-8640-656ef6014d7e",
   "metadata": {},
   "outputs": [
    {
     "data": {
      "text/plain": [
       "array([ 324,  940,  320, ...,  413, 1134,  457])"
      ]
     },
     "execution_count": 13,
     "metadata": {},
     "output_type": "execute_result"
    }
   ],
   "source": [
    "user_emb = voter_embeddings['0x613e052555ac74ff6af0fc64e40e8035c1e9dcf8']\n",
    "scores = embeddings @ user_emb\n",
    "scores.argsort()"
   ]
  },
  {
   "cell_type": "code",
   "execution_count": 14,
   "id": "e2e2af5b-9011-480c-ae4d-cdc16db5ad51",
   "metadata": {},
   "outputs": [
    {
     "data": {
      "text/plain": [
       "[7, 8, 9]"
      ]
     },
     "execution_count": 14,
     "metadata": {},
     "output_type": "execute_result"
    }
   ],
   "source": [
    "list(range(10))[-3:]"
   ]
  },
  {
   "cell_type": "code",
   "execution_count": 15,
   "id": "16f39d80-3cf6-49fe-8267-acf4ee66df59",
   "metadata": {},
   "outputs": [],
   "source": [
    "def recommend_emb(emb, k, t = None):\n",
    "    \"\"\"\n",
    "    Args:\n",
    "        emb: The embedding of the item/user to recommend items to\n",
    "        k (int): The number of items to recommend\n",
    "        t (timestamp): Simulate that the recommendation is made at time `t`\n",
    "            i.e: Filter out already closed proposals or not yet open\n",
    "    \"\"\"\n",
    "    # 1D n_proposals\n",
    "    scores = embeddings @ emb\n",
    "\n",
    "    if t:\n",
    "        msk = (dfp['start'] < t) & (t < dfp['end'])\n",
    "        scores[msk] = -np.inf\n",
    "    \n",
    "    best = (-scores).argsort()\n",
    "\n",
    "    dfbest = dfp.iloc[best[:k]].copy()\n",
    "    dfbest['score'] = scores[best[:k]]\n",
    "    return dfbest"
   ]
  },
  {
   "cell_type": "code",
   "execution_count": 16,
   "id": "5ff70a8d-e9b6-48ee-b2e8-7ad81cbd6b70",
   "metadata": {},
   "outputs": [
    {
     "data": {
      "text/html": [
       "<div>\n",
       "<style scoped>\n",
       "    .dataframe tbody tr th:only-of-type {\n",
       "        vertical-align: middle;\n",
       "    }\n",
       "\n",
       "    .dataframe tbody tr th {\n",
       "        vertical-align: top;\n",
       "    }\n",
       "\n",
       "    .dataframe thead th {\n",
       "        text-align: right;\n",
       "    }\n",
       "</style>\n",
       "<table border=\"1\" class=\"dataframe\">\n",
       "  <thead>\n",
       "    <tr style=\"text-align: right;\">\n",
       "      <th></th>\n",
       "      <th>title</th>\n",
       "      <th>description</th>\n",
       "      <th>score</th>\n",
       "    </tr>\n",
       "  </thead>\n",
       "  <tbody>\n",
       "    <tr>\n",
       "      <th>457</th>\n",
       "      <td>Logarithmic VP conversion after a certain amou...</td>\n",
       "      <td>&gt; by 0x5985eb4a8e0e1f7bca9cc0d7ae81c2943fb205b...</td>\n",
       "      <td>6.910858</td>\n",
       "    </tr>\n",
       "    <tr>\n",
       "      <th>1134</th>\n",
       "      <td>Should Voter Power Delegation be activated in ...</td>\n",
       "      <td>&gt; by 0x9982b469910c2ee2ea566dcfcc250cdd3405639...</td>\n",
       "      <td>5.948124</td>\n",
       "    </tr>\n",
       "    <tr>\n",
       "      <th>413</th>\n",
       "      <td>Can we implement 'R' and 'G' keys to allow for...</td>\n",
       "      <td>&gt; by 0xb2223f4038def8a62a86e3c4b108cdfe00a74c4...</td>\n",
       "      <td>5.480871</td>\n",
       "    </tr>\n",
       "    <tr>\n",
       "      <th>873</th>\n",
       "      <td>Should VP keep assigned to the landowner in a ...</td>\n",
       "      <td>&gt; by 0x87956abc4078a0cc3b89b419928b857b8af826e...</td>\n",
       "      <td>5.170687</td>\n",
       "    </tr>\n",
       "    <tr>\n",
       "      <th>1736</th>\n",
       "      <td>Create Group Chats between Mutual Friends</td>\n",
       "      <td>&gt; by 0x988262eb3225ea4690f6b4846e36c700345bf6f...</td>\n",
       "      <td>4.964846</td>\n",
       "    </tr>\n",
       "  </tbody>\n",
       "</table>\n",
       "</div>"
      ],
      "text/plain": [
       "                                                  title  \\\n",
       "457   Logarithmic VP conversion after a certain amou...   \n",
       "1134  Should Voter Power Delegation be activated in ...   \n",
       "413   Can we implement 'R' and 'G' keys to allow for...   \n",
       "873   Should VP keep assigned to the landowner in a ...   \n",
       "1736          Create Group Chats between Mutual Friends   \n",
       "\n",
       "                                            description     score  \n",
       "457   > by 0x5985eb4a8e0e1f7bca9cc0d7ae81c2943fb205b...  6.910858  \n",
       "1134  > by 0x9982b469910c2ee2ea566dcfcc250cdd3405639...  5.948124  \n",
       "413   > by 0xb2223f4038def8a62a86e3c4b108cdfe00a74c4...  5.480871  \n",
       "873   > by 0x87956abc4078a0cc3b89b419928b857b8af826e...  5.170687  \n",
       "1736  > by 0x988262eb3225ea4690f6b4846e36c700345bf6f...  4.964846  "
      ]
     },
     "execution_count": 16,
     "metadata": {},
     "output_type": "execute_result"
    }
   ],
   "source": [
    "def recommend_user(voter: str, k: int = 5, t: Optional[np.datetime64] = None):\n",
    "    # 1D emb_size\n",
    "    user_emb = voter_embeddings[voter]\n",
    "    return recommend_emb(user_emb, k, t)\n",
    "\n",
    "recommend_user('0x613e052555ac74ff6af0fc64e40e8035c1e9dcf8')[['title', 'description', 'score']]"
   ]
  },
  {
   "cell_type": "code",
   "execution_count": 17,
   "id": "a86a24bd-4037-4faa-bb72-131687bc9d34",
   "metadata": {},
   "outputs": [
    {
     "data": {
      "text/plain": [
       "platform                                                        snapshot\n",
       "name                                                        Decentraland\n",
       "platform_deployment                                     snapshot.dcl.eth\n",
       "deployment                          41fd8de5-f8e2-5023-86a3-825c49e9ad7f\n",
       "platform_proposal      0xdbe9b2df1d00c0d264bffb3f10f1332a82d8a8a70c12...\n",
       "author                        0xbb7b59afa3a0e5be143b8fe9c641f00c1ecb9d69\n",
       "date                                                 2023-02-14 16:19:06\n",
       "votes_count                                                          385\n",
       "proposal_id            0xdbe9b2df1d00c0d264bffb3f10f1332a82d8a8a70c12...\n",
       "title                  Should DAO proposals have a pre-defined 'Absta...\n",
       "description            > by 0x511a22cdd2c4ee8357bb02df2578037ffe8a4d8...\n",
       "start                                                2023-02-14 16:19:00\n",
       "end                                                  2023-02-28 16:19:00\n",
       "title-description      Should DAO proposals have a pre-defined 'Absta...\n",
       "embeddings             [-0.0003666791, 0.000139685, -0.00012323356, -...\n",
       "nbidx                                                                352\n",
       "Name: 433b7e43-77b0-5ea1-bac3-0c3071363a56, dtype: object"
      ]
     },
     "metadata": {},
     "output_type": "display_data"
    },
    {
     "data": {
      "text/html": [
       "<div>\n",
       "<style scoped>\n",
       "    .dataframe tbody tr th:only-of-type {\n",
       "        vertical-align: middle;\n",
       "    }\n",
       "\n",
       "    .dataframe tbody tr th {\n",
       "        vertical-align: top;\n",
       "    }\n",
       "\n",
       "    .dataframe thead th {\n",
       "        text-align: right;\n",
       "    }\n",
       "</style>\n",
       "<table border=\"1\" class=\"dataframe\">\n",
       "  <thead>\n",
       "    <tr style=\"text-align: right;\">\n",
       "      <th></th>\n",
       "      <th>platform</th>\n",
       "      <th>name</th>\n",
       "      <th>platform_deployment</th>\n",
       "      <th>id</th>\n",
       "      <th>deployment</th>\n",
       "      <th>platform_proposal</th>\n",
       "      <th>author</th>\n",
       "      <th>date</th>\n",
       "      <th>votes_count</th>\n",
       "      <th>proposal_id</th>\n",
       "      <th>title</th>\n",
       "      <th>description</th>\n",
       "      <th>start</th>\n",
       "      <th>end</th>\n",
       "      <th>title-description</th>\n",
       "      <th>embeddings</th>\n",
       "      <th>nbidx</th>\n",
       "      <th>score</th>\n",
       "    </tr>\n",
       "  </thead>\n",
       "  <tbody>\n",
       "    <tr>\n",
       "      <th>940</th>\n",
       "      <td>snapshot</td>\n",
       "      <td>Decentraland</td>\n",
       "      <td>snapshot.dcl.eth</td>\n",
       "      <td>5f8989a6-464f-57ef-bbee-74f3ce8b001f</td>\n",
       "      <td>41fd8de5-f8e2-5023-86a3-825c49e9ad7f</td>\n",
       "      <td>QmcY88YFJLgiMatBPD1j9KUxBwPhymW5DdVP4JQDj53jYr</td>\n",
       "      <td>0x5e23d08324f017d5425e59a2782c9ae27ace0958</td>\n",
       "      <td>2021-12-23 22:13:33</td>\n",
       "      <td>14</td>\n",
       "      <td>QmcY88YFJLgiMatBPD1j9KUxBwPhymW5DdVP4JQDj53jYr</td>\n",
       "      <td>Petition to add event reviews so we can improv...</td>\n",
       "      <td>&gt; by 0xbef69e080a0b127f7cf6f3b658f07c90588cea6...</td>\n",
       "      <td>2021-12-23 22:13:00</td>\n",
       "      <td>2021-12-30 22:13:00</td>\n",
       "      <td>Petition to add event reviews so we can improv...</td>\n",
       "      <td>[-0.0015171164, 0.0007642187, 0.00042039528, 0...</td>\n",
       "      <td>940</td>\n",
       "      <td>2.342395</td>\n",
       "    </tr>\n",
       "    <tr>\n",
       "      <th>1537</th>\n",
       "      <td>snapshot</td>\n",
       "      <td>Decentraland</td>\n",
       "      <td>snapshot.dcl.eth</td>\n",
       "      <td>613dbb55-2dd7-51fc-a289-c1a39a6461ff</td>\n",
       "      <td>41fd8de5-f8e2-5023-86a3-825c49e9ad7f</td>\n",
       "      <td>0xfad0ce3f336f9104fd8d5cc2cb3c012c21a2116d7f7b...</td>\n",
       "      <td>0xbb7b59afa3a0e5be143b8fe9c641f00c1ecb9d69</td>\n",
       "      <td>2023-03-06 20:56:57</td>\n",
       "      <td>96</td>\n",
       "      <td>0xfad0ce3f336f9104fd8d5cc2cb3c012c21a2116d7f7b...</td>\n",
       "      <td>Community support for a paid pre-check on link...</td>\n",
       "      <td>&gt; by 0x895be97bdb9f8a244c472b18ea96dee39ddf8fe...</td>\n",
       "      <td>2023-03-06 20:56:00</td>\n",
       "      <td>2023-03-11 20:56:00</td>\n",
       "      <td>Community support for a paid pre-check on link...</td>\n",
       "      <td>[-0.00037167242, 0.00045459915, 8.636677e-05, ...</td>\n",
       "      <td>1537</td>\n",
       "      <td>2.168351</td>\n",
       "    </tr>\n",
       "    <tr>\n",
       "      <th>1644</th>\n",
       "      <td>snapshot</td>\n",
       "      <td>Decentraland</td>\n",
       "      <td>snapshot.dcl.eth</td>\n",
       "      <td>a7eabea1-95b5-5621-8bc5-8f09f313c45e</td>\n",
       "      <td>41fd8de5-f8e2-5023-86a3-825c49e9ad7f</td>\n",
       "      <td>bafkreidmcnjlewiwuvyty5k2atld2qtnesk5dky2gwhwo...</td>\n",
       "      <td>0x5e23d08324f017d5425e59a2782c9ae27ace0958</td>\n",
       "      <td>2022-09-07 15:39:27</td>\n",
       "      <td>92</td>\n",
       "      <td>bafkreidmcnjlewiwuvyty5k2atld2qtnesk5dky2gwhwo...</td>\n",
       "      <td>Should there be limited time to change voting ...</td>\n",
       "      <td>&gt; by 0x247e0896706bb09245549e476257a0a1129db41...</td>\n",
       "      <td>2022-09-07 15:39:00</td>\n",
       "      <td>2022-09-12 15:39:00</td>\n",
       "      <td>Should there be limited time to change voting ...</td>\n",
       "      <td>[0.00034874497, 0.00051068235, 0.00022908037, ...</td>\n",
       "      <td>1644</td>\n",
       "      <td>2.036432</td>\n",
       "    </tr>\n",
       "    <tr>\n",
       "      <th>1242</th>\n",
       "      <td>snapshot</td>\n",
       "      <td>Decentraland</td>\n",
       "      <td>snapshot.dcl.eth</td>\n",
       "      <td>5be72d6c-2388-5aaa-8ac6-20be847a82cc</td>\n",
       "      <td>41fd8de5-f8e2-5023-86a3-825c49e9ad7f</td>\n",
       "      <td>0xdce2b640a47ba0c44bfa9e9a88ad8bffb9a5a3ffbff5...</td>\n",
       "      <td>0xbb7b59afa3a0e5be143b8fe9c641f00c1ecb9d69</td>\n",
       "      <td>2023-01-06 17:54:38</td>\n",
       "      <td>201</td>\n",
       "      <td>0xdce2b640a47ba0c44bfa9e9a88ad8bffb9a5a3ffbff5...</td>\n",
       "      <td>Should DAO proposals have a pre-defined 'Absta...</td>\n",
       "      <td>&gt; by 0x511a22cdd2c4ee8357bb02df2578037ffe8a4d8...</td>\n",
       "      <td>2023-01-06 17:54:00</td>\n",
       "      <td>2023-01-11 17:54:00</td>\n",
       "      <td>Should DAO proposals have a pre-defined 'Absta...</td>\n",
       "      <td>[-0.0007028324, 0.0001626759, -7.843193e-06, -...</td>\n",
       "      <td>1242</td>\n",
       "      <td>2.001611</td>\n",
       "    </tr>\n",
       "    <tr>\n",
       "      <th>1149</th>\n",
       "      <td>snapshot</td>\n",
       "      <td>Decentraland</td>\n",
       "      <td>snapshot.dcl.eth</td>\n",
       "      <td>62662ecc-3126-5798-bbd9-b1421082be58</td>\n",
       "      <td>41fd8de5-f8e2-5023-86a3-825c49e9ad7f</td>\n",
       "      <td>QmVCfrGX892iaDLkp5dBNJRa93U2DVbg3JNcD14mfGvMS1</td>\n",
       "      <td>0x5e23d08324f017d5425e59a2782c9ae27ace0958</td>\n",
       "      <td>2022-05-19 23:18:01</td>\n",
       "      <td>161</td>\n",
       "      <td>QmVCfrGX892iaDLkp5dBNJRa93U2DVbg3JNcD14mfGvMS1</td>\n",
       "      <td>MANA incentives for USDC-ICE LP on QuickSwap</td>\n",
       "      <td>&gt; by 0x521b0fef9cdcf250abaf8e7bc798cbe13fa9869...</td>\n",
       "      <td>2022-05-19 23:18:00</td>\n",
       "      <td>2022-05-24 23:18:00</td>\n",
       "      <td>MANA incentives for USDC-ICE LP on QuickSwap\\n...</td>\n",
       "      <td>[0.0009039452, 0.00047539602, 0.0006336307, 0....</td>\n",
       "      <td>1149</td>\n",
       "      <td>1.982089</td>\n",
       "    </tr>\n",
       "  </tbody>\n",
       "</table>\n",
       "</div>"
      ],
      "text/plain": [
       "      platform          name platform_deployment  \\\n",
       "940   snapshot  Decentraland    snapshot.dcl.eth   \n",
       "1537  snapshot  Decentraland    snapshot.dcl.eth   \n",
       "1644  snapshot  Decentraland    snapshot.dcl.eth   \n",
       "1242  snapshot  Decentraland    snapshot.dcl.eth   \n",
       "1149  snapshot  Decentraland    snapshot.dcl.eth   \n",
       "\n",
       "                                        id  \\\n",
       "940   5f8989a6-464f-57ef-bbee-74f3ce8b001f   \n",
       "1537  613dbb55-2dd7-51fc-a289-c1a39a6461ff   \n",
       "1644  a7eabea1-95b5-5621-8bc5-8f09f313c45e   \n",
       "1242  5be72d6c-2388-5aaa-8ac6-20be847a82cc   \n",
       "1149  62662ecc-3126-5798-bbd9-b1421082be58   \n",
       "\n",
       "                                deployment  \\\n",
       "940   41fd8de5-f8e2-5023-86a3-825c49e9ad7f   \n",
       "1537  41fd8de5-f8e2-5023-86a3-825c49e9ad7f   \n",
       "1644  41fd8de5-f8e2-5023-86a3-825c49e9ad7f   \n",
       "1242  41fd8de5-f8e2-5023-86a3-825c49e9ad7f   \n",
       "1149  41fd8de5-f8e2-5023-86a3-825c49e9ad7f   \n",
       "\n",
       "                                      platform_proposal  \\\n",
       "940      QmcY88YFJLgiMatBPD1j9KUxBwPhymW5DdVP4JQDj53jYr   \n",
       "1537  0xfad0ce3f336f9104fd8d5cc2cb3c012c21a2116d7f7b...   \n",
       "1644  bafkreidmcnjlewiwuvyty5k2atld2qtnesk5dky2gwhwo...   \n",
       "1242  0xdce2b640a47ba0c44bfa9e9a88ad8bffb9a5a3ffbff5...   \n",
       "1149     QmVCfrGX892iaDLkp5dBNJRa93U2DVbg3JNcD14mfGvMS1   \n",
       "\n",
       "                                          author                date  \\\n",
       "940   0x5e23d08324f017d5425e59a2782c9ae27ace0958 2021-12-23 22:13:33   \n",
       "1537  0xbb7b59afa3a0e5be143b8fe9c641f00c1ecb9d69 2023-03-06 20:56:57   \n",
       "1644  0x5e23d08324f017d5425e59a2782c9ae27ace0958 2022-09-07 15:39:27   \n",
       "1242  0xbb7b59afa3a0e5be143b8fe9c641f00c1ecb9d69 2023-01-06 17:54:38   \n",
       "1149  0x5e23d08324f017d5425e59a2782c9ae27ace0958 2022-05-19 23:18:01   \n",
       "\n",
       "      votes_count                                        proposal_id  \\\n",
       "940            14     QmcY88YFJLgiMatBPD1j9KUxBwPhymW5DdVP4JQDj53jYr   \n",
       "1537           96  0xfad0ce3f336f9104fd8d5cc2cb3c012c21a2116d7f7b...   \n",
       "1644           92  bafkreidmcnjlewiwuvyty5k2atld2qtnesk5dky2gwhwo...   \n",
       "1242          201  0xdce2b640a47ba0c44bfa9e9a88ad8bffb9a5a3ffbff5...   \n",
       "1149          161     QmVCfrGX892iaDLkp5dBNJRa93U2DVbg3JNcD14mfGvMS1   \n",
       "\n",
       "                                                  title  \\\n",
       "940   Petition to add event reviews so we can improv...   \n",
       "1537  Community support for a paid pre-check on link...   \n",
       "1644  Should there be limited time to change voting ...   \n",
       "1242  Should DAO proposals have a pre-defined 'Absta...   \n",
       "1149       MANA incentives for USDC-ICE LP on QuickSwap   \n",
       "\n",
       "                                            description               start  \\\n",
       "940   > by 0xbef69e080a0b127f7cf6f3b658f07c90588cea6... 2021-12-23 22:13:00   \n",
       "1537  > by 0x895be97bdb9f8a244c472b18ea96dee39ddf8fe... 2023-03-06 20:56:00   \n",
       "1644  > by 0x247e0896706bb09245549e476257a0a1129db41... 2022-09-07 15:39:00   \n",
       "1242  > by 0x511a22cdd2c4ee8357bb02df2578037ffe8a4d8... 2023-01-06 17:54:00   \n",
       "1149  > by 0x521b0fef9cdcf250abaf8e7bc798cbe13fa9869... 2022-05-19 23:18:00   \n",
       "\n",
       "                     end                                  title-description  \\\n",
       "940  2021-12-30 22:13:00  Petition to add event reviews so we can improv...   \n",
       "1537 2023-03-11 20:56:00  Community support for a paid pre-check on link...   \n",
       "1644 2022-09-12 15:39:00  Should there be limited time to change voting ...   \n",
       "1242 2023-01-11 17:54:00  Should DAO proposals have a pre-defined 'Absta...   \n",
       "1149 2022-05-24 23:18:00  MANA incentives for USDC-ICE LP on QuickSwap\\n...   \n",
       "\n",
       "                                             embeddings  nbidx     score  \n",
       "940   [-0.0015171164, 0.0007642187, 0.00042039528, 0...    940  2.342395  \n",
       "1537  [-0.00037167242, 0.00045459915, 8.636677e-05, ...   1537  2.168351  \n",
       "1644  [0.00034874497, 0.00051068235, 0.00022908037, ...   1644  2.036432  \n",
       "1242  [-0.0007028324, 0.0001626759, -7.843193e-06, -...   1242  2.001611  \n",
       "1149  [0.0009039452, 0.00047539602, 0.0006336307, 0....   1149  1.982089  "
      ]
     },
     "execution_count": 17,
     "metadata": {},
     "output_type": "execute_result"
    }
   ],
   "source": [
    "def recommend_proposal(proposal: str, k: int = 5, t: Optional[np.datetime64] = None):\n",
    "    # 1D emb_size\n",
    "    prop_emb = dfp.set_index('id')['embeddings'][proposal]\n",
    "    return recommend_emb(prop_emb, k, t)\n",
    "\n",
    "display(dfp.set_index('id').loc['433b7e43-77b0-5ea1-bac3-0c3071363a56'])\n",
    "recommend_proposal('433b7e43-77b0-5ea1-bac3-0c3071363a56')"
   ]
  },
  {
   "cell_type": "markdown",
   "id": "b5862685-67df-4e5c-9add-9defd06d53f1",
   "metadata": {},
   "source": [
    "### Evaluation\n",
    "\n",
    "First, we will evaluate if the user recommendations are any good using common off-line metrics."
   ]
  },
  {
   "cell_type": "code",
   "execution_count": 18,
   "id": "9f3fc102-2a0a-4acf-a198-75b0f7659d66",
   "metadata": {},
   "outputs": [],
   "source": [
    "def recommendNLPNaive(train: pd.DataFrame, users, proposals, k: int = 5, remove_training: bool = True, min_score: float = 0):  \n",
    "    # Create voter embeddings (filtering that they are in train)\n",
    "    # TODO: Add some kind of discount rate over time\n",
    "    voter_embeddings = dfv[dfv['voter'].isin(users) & dfv['proposal'].isin(train['itemID'])].groupby('voter').apply(lambda x: votes_embeddings[x.index].sum(axis=0))\n",
    "    voter_embeddings = voter_embeddings.apply(lambda x: x/np.linalg.norm(x))\n",
    "    np_voter_embeddings = np.stack(voter_embeddings.to_numpy())\n",
    "    \n",
    "    # Remove score from proposals not in `proposals`\n",
    "    msk = ids.isin(proposals)\n",
    "    tr_embeddings = embeddings.copy()\n",
    "    tr_embeddings[~msk] = 0\n",
    "    \n",
    "    scores = np_voter_embeddings @ tr_embeddings.T\n",
    "    \n",
    "    # Remove score from proposals already voted by user\n",
    "    if remove_training:\n",
    "        trainu = train[train['userID'].isin(users)]\n",
    "        itemID2idx = dfp.set_index('id')['nbidx']\n",
    "        voterID2idx = pd.Series(data=np.arange(len(voter_embeddings)), index=voter_embeddings.index)\n",
    "        scores[voterID2idx[trainu['userID']], itemID2idx[trainu['itemID']]] = -np.inf\n",
    "        \n",
    "    best = (-scores).argsort(axis=1)\n",
    "    topk = best[:, :k]\n",
    "    \n",
    "    # create df with columns\n",
    "    # userID, itemID, prediction\n",
    "    uid = np.repeat(np.arange(np_voter_embeddings.shape[0]), k)\n",
    "    iid = topk.flatten()\n",
    "    \n",
    "    # transform int to id\n",
    "    df = pd.DataFrame({\n",
    "        'userID': voter_embeddings.index[uid],\n",
    "        'itemID': ids[iid].astype(str),\n",
    "        # 'prediction': 1,\n",
    "        'prediction': scores[uid, iid],\n",
    "    })\n",
    "    return df[df['prediction'] > min_score].reset_index(drop=True)\n",
    "\n",
    "# train = train_filtered\n",
    "# users = test_filtered['userID'].unique()\n",
    "# proposals = test_filtered['itemID'].unique()\n",
    "# k = 3\n",
    "# remove_training = True"
   ]
  },
  {
   "cell_type": "code",
   "execution_count": 19,
   "id": "fd7f2239-b3fe-457c-b39b-ea3b725154a4",
   "metadata": {},
   "outputs": [],
   "source": [
    "from recommenders.evaluation.python_evaluation import map_at_k, ndcg_at_k, precision_at_k, recall_at_k\n",
    "from src.datasets import to_microsoft\n",
    "from src.model_selection import timeIntervalSplit"
   ]
  },
  {
   "cell_type": "code",
   "execution_count": 20,
   "id": "8c04aae6-b520-4053-9bf3-79ea1a1c7e92",
   "metadata": {},
   "outputs": [],
   "source": [
    "def check_train_recs(df, filter_by_df, filter_by_cols):\n",
    "    return any(df.set_index(filter_by_cols).index.isin(\n",
    "        filter_by_df.set_index(filter_by_cols).index\n",
    "    ))"
   ]
  },
  {
   "cell_type": "code",
   "execution_count": 21,
   "id": "c48d1828-c50c-47d0-9cfd-9b94262a988d",
   "metadata": {},
   "outputs": [
    {
     "data": {
      "application/vnd.jupyter.widget-view+json": {
       "model_id": "3e544e9284174e7e8a2b5c52fd315f5d",
       "version_major": 2,
       "version_minor": 0
      },
      "text/plain": [
       "  0%|          | 0/10 [00:00<?, ?it/s]"
      ]
     },
     "metadata": {},
     "output_type": "display_data"
    }
   ],
   "source": [
    "df = to_microsoft(dfv)\n",
    "\n",
    "folds = list(timeIntervalSplit(df, N_SPLITS, skip=SKIP_SPLIT))\n",
    "metrics_f = { 'precision':precision_at_k, 'ndcg': ndcg_at_k, 'ndcg': ndcg_at_k, 'map': map_at_k, } # 'recall': recall_at_k, \n",
    "metrics = {n+f'@{k}':[] for k,n in it.product(K_RECOMMENDATIONS, metrics_f.keys())}\n",
    "perfectmetrics = {n+f'@{k}':[] for k,n in it.product(K_RECOMMENDATIONS, metrics_f.keys())}\n",
    "for i, (train, test) in enumerate(tqdm(folds)):\n",
    "    t = train.timestamp.max()\n",
    "    # print(f\"===== Training on fold {i} (t: {t})  =====\")\n",
    "    # print(f\"Ratings train: {len(train)}, test: {len(test)}\")\n",
    "\n",
    "    open_proposals = dfp[(dfp['start'] < t) & (t < dfp['end']) ]['id'].unique()\n",
    "    # print(f\"Currently open proposals: {len(open_proposals)}\")\n",
    "\n",
    "    train_filtered = train[train['itemID'].isin(open_proposals)]\n",
    "    test_filtered = test[test['itemID'].isin(open_proposals)]\n",
    "    # print(f\"Train votes in open proposals: {len(train_filtered):3}\")\n",
    "    # print(f\"Test votes in open proposals:  {len(test_filtered):3}\")    \n",
    "\n",
    "    for k_recs in K_RECOMMENDATIONS:\n",
    "        # print('Tested score:')\n",
    "        # recs = recommendNLPNaive(train_filtered, test_filtered['userID'].unique(), test_filtered['itemID'].unique(), k_recs)\n",
    "        recs = recommendNLPNaive(train, test_filtered['userID'].unique(), open_proposals, k_recs)\n",
    "        if check_train_recs(recs, train, ['userID', 'itemID']):\n",
    "            print(\"There are recommendations that were true in training\")\n",
    "            msk = recs.set_index(['userID', 'itemID']).index.isin(\n",
    "                train.set_index(['userID', 'itemID']).index\n",
    "            )\n",
    "            display(recs[msk])\n",
    "            assert False\n",
    "            \n",
    "        for m, f in metrics_f.items():\n",
    "            r = f(test_filtered, recs, k=k_recs)\n",
    "            # print(f'  {m}@{K_RECOMMENDATIONS}:'.ljust(15), f'{r:.3}')\n",
    "            metrics[m+f'@{k_recs}'].append(r)\n",
    "        \n",
    "        # print('Perfect predictor score:')\n",
    "        recs = test_filtered.copy()\n",
    "        recs['prediction'] = True\n",
    "        for m, f in metrics_f.items():\n",
    "            r = f(test_filtered, recs, k=k_recs)\n",
    "            # print(f'  {m}@{K_RECOMMENDATIONS}:'.ljust(15), f'{r:.3}')\n",
    "    \n",
    "    # print()"
   ]
  },
  {
   "cell_type": "code",
   "execution_count": 22,
   "id": "543cb1db-ff4d-4e48-a062-c6183ae7450d",
   "metadata": {},
   "outputs": [
    {
     "data": {
      "text/html": [
       "<div>\n",
       "<style scoped>\n",
       "    .dataframe tbody tr th:only-of-type {\n",
       "        vertical-align: middle;\n",
       "    }\n",
       "\n",
       "    .dataframe tbody tr th {\n",
       "        vertical-align: top;\n",
       "    }\n",
       "\n",
       "    .dataframe thead th {\n",
       "        text-align: right;\n",
       "    }\n",
       "</style>\n",
       "<table border=\"1\" class=\"dataframe\">\n",
       "  <thead>\n",
       "    <tr style=\"text-align: right;\">\n",
       "      <th></th>\n",
       "      <th>precision@5</th>\n",
       "      <th>ndcg@5</th>\n",
       "      <th>map@5</th>\n",
       "      <th>precision@10</th>\n",
       "      <th>ndcg@10</th>\n",
       "      <th>map@10</th>\n",
       "      <th>baseline precision@5</th>\n",
       "      <th>baseline precision@10</th>\n",
       "      <th>baseline ndcg</th>\n",
       "    </tr>\n",
       "  </thead>\n",
       "  <tbody>\n",
       "    <tr>\n",
       "      <th>count</th>\n",
       "      <td>10.000000</td>\n",
       "      <td>10.000000</td>\n",
       "      <td>10.000000</td>\n",
       "      <td>10.000000</td>\n",
       "      <td>10.000000</td>\n",
       "      <td>10.000000</td>\n",
       "      <td>10.000000</td>\n",
       "      <td>10.000000</td>\n",
       "      <td>10.000000</td>\n",
       "    </tr>\n",
       "    <tr>\n",
       "      <th>mean</th>\n",
       "      <td>0.196551</td>\n",
       "      <td>0.453894</td>\n",
       "      <td>0.365783</td>\n",
       "      <td>0.129290</td>\n",
       "      <td>0.494681</td>\n",
       "      <td>0.393672</td>\n",
       "      <td>0.145534</td>\n",
       "      <td>0.136072</td>\n",
       "      <td>0.294985</td>\n",
       "    </tr>\n",
       "    <tr>\n",
       "      <th>std</th>\n",
       "      <td>0.047164</td>\n",
       "      <td>0.179615</td>\n",
       "      <td>0.205003</td>\n",
       "      <td>0.031291</td>\n",
       "      <td>0.156334</td>\n",
       "      <td>0.191869</td>\n",
       "      <td>0.074635</td>\n",
       "      <td>0.045895</td>\n",
       "      <td>0.202287</td>\n",
       "    </tr>\n",
       "    <tr>\n",
       "      <th>min</th>\n",
       "      <td>0.128358</td>\n",
       "      <td>0.268518</td>\n",
       "      <td>0.174850</td>\n",
       "      <td>0.086735</td>\n",
       "      <td>0.349442</td>\n",
       "      <td>0.211890</td>\n",
       "      <td>0.013223</td>\n",
       "      <td>0.057447</td>\n",
       "      <td>0.034569</td>\n",
       "    </tr>\n",
       "    <tr>\n",
       "      <th>25%</th>\n",
       "      <td>0.171236</td>\n",
       "      <td>0.334066</td>\n",
       "      <td>0.230428</td>\n",
       "      <td>0.105191</td>\n",
       "      <td>0.399619</td>\n",
       "      <td>0.278464</td>\n",
       "      <td>0.092749</td>\n",
       "      <td>0.105087</td>\n",
       "      <td>0.175023</td>\n",
       "    </tr>\n",
       "    <tr>\n",
       "      <th>50%</th>\n",
       "      <td>0.195455</td>\n",
       "      <td>0.442521</td>\n",
       "      <td>0.327914</td>\n",
       "      <td>0.120075</td>\n",
       "      <td>0.453993</td>\n",
       "      <td>0.343601</td>\n",
       "      <td>0.153866</td>\n",
       "      <td>0.148637</td>\n",
       "      <td>0.274016</td>\n",
       "    </tr>\n",
       "    <tr>\n",
       "      <th>75%</th>\n",
       "      <td>0.236730</td>\n",
       "      <td>0.460248</td>\n",
       "      <td>0.349633</td>\n",
       "      <td>0.159877</td>\n",
       "      <td>0.501424</td>\n",
       "      <td>0.389047</td>\n",
       "      <td>0.194445</td>\n",
       "      <td>0.172823</td>\n",
       "      <td>0.341228</td>\n",
       "    </tr>\n",
       "    <tr>\n",
       "      <th>max</th>\n",
       "      <td>0.262069</td>\n",
       "      <td>0.882361</td>\n",
       "      <td>0.864773</td>\n",
       "      <td>0.173737</td>\n",
       "      <td>0.890028</td>\n",
       "      <td>0.869113</td>\n",
       "      <td>0.268333</td>\n",
       "      <td>0.190909</td>\n",
       "      <td>0.747259</td>\n",
       "    </tr>\n",
       "  </tbody>\n",
       "</table>\n",
       "</div>"
      ],
      "text/plain": [
       "       precision@5     ndcg@5      map@5  precision@10    ndcg@10     map@10  \\\n",
       "count    10.000000  10.000000  10.000000     10.000000  10.000000  10.000000   \n",
       "mean      0.196551   0.453894   0.365783      0.129290   0.494681   0.393672   \n",
       "std       0.047164   0.179615   0.205003      0.031291   0.156334   0.191869   \n",
       "min       0.128358   0.268518   0.174850      0.086735   0.349442   0.211890   \n",
       "25%       0.171236   0.334066   0.230428      0.105191   0.399619   0.278464   \n",
       "50%       0.195455   0.442521   0.327914      0.120075   0.453993   0.343601   \n",
       "75%       0.236730   0.460248   0.349633      0.159877   0.501424   0.389047   \n",
       "max       0.262069   0.882361   0.864773      0.173737   0.890028   0.869113   \n",
       "\n",
       "       baseline precision@5  baseline precision@10  baseline ndcg  \n",
       "count             10.000000              10.000000      10.000000  \n",
       "mean               0.145534               0.136072       0.294985  \n",
       "std                0.074635               0.045895       0.202287  \n",
       "min                0.013223               0.057447       0.034569  \n",
       "25%                0.092749               0.105087       0.175023  \n",
       "50%                0.153866               0.148637       0.274016  \n",
       "75%                0.194445               0.172823       0.341228  \n",
       "max                0.268333               0.190909       0.747259  "
      ]
     },
     "execution_count": 22,
     "metadata": {},
     "output_type": "execute_result"
    },
    {
     "data": {
      "image/png": "[encoded data removed]",
      "text/plain": [
       "<Figure size 640x480 with 1 Axes>"
      ]
     },
     "metadata": {},
     "output_type": "display_data"
    }
   ],
   "source": [
    "mdf = pd.DataFrame(metrics)\n",
    "bdf = pd.read_csv(f'./data/baseline/mp-{ORG_NAME}-{N_SPLITS}.csv')\n",
    "\n",
    "mdf['baseline precision@5'] = bdf['precision@5']\n",
    "mdf['baseline precision@10'] = bdf['precision@10']\n",
    "mdf['baseline ndcg'] = bdf['ndcg@5']\n",
    "fig, ax = plt.subplots()\n",
    "mdf[['precision@5', 'ndcg@5']].plot(title='Evaluación modelo PLN similarity', ax=ax)\n",
    "mdf[['baseline precision@5', 'baseline ndcg']].plot(style='--', ax=ax)\n",
    "mdf.describe()"
   ]
  },
  {
   "cell_type": "markdown",
   "id": "ab73b16c-92ad-4ba6-919c-6a118f60285e",
   "metadata": {},
   "source": [
    "# Second iteration: PLN with kNN"
   ]
  },
  {
   "cell_type": "code",
   "execution_count": 23,
   "id": "ab569662-ef47-4f50-b722-e280d1f4fae5",
   "metadata": {},
   "outputs": [],
   "source": [
    "from sklearn.neighbors import KNeighborsClassifier\n",
    "\n",
    "itemID2idx = dfp.set_index('id')['nbidx']"
   ]
  },
  {
   "cell_type": "code",
   "execution_count": 24,
   "id": "bfa4f684-bb74-4e23-8092-9261702eb9f7",
   "metadata": {},
   "outputs": [],
   "source": [
    "def filter_proposals_in_train(train, user, proposals):\n",
    "    msk = train['userID'] == user\n",
    "    proposals_aready_voted_by_user = train[msk]['itemID'].unique()\n",
    "    return np.setdiff1d(proposals, proposals_aready_voted_by_user)"
   ]
  },
  {
   "cell_type": "code",
   "execution_count": 25,
   "id": "d9ebf3fd-c0e1-4cb7-b78d-2f00912729eb",
   "metadata": {},
   "outputs": [
    {
     "name": "stdout",
     "output_type": "stream",
     "text": [
      "The user 0xe44782afe398800d7190796018c4b865e32ff806 voted in 0 proposals\n"
     ]
    }
   ],
   "source": [
    "def recommendUserKNN(train: pd.DataFrame, user, proposals, top_k: Optional[int] = None, knn_k = 3, do_sampling: Optional[bool] = None, remove_train: bool = True):\n",
    "    \"\"\"\n",
    "    Given the train data (proposals that might be voted or not by the user), recommend k proposals from proposals to the user\n",
    "    The train data is a DataFrame in microsoft's format\n",
    "    \n",
    "    do_sampling (bool) : default None\n",
    "        if True, makes sampling so the number of positive and negative samples is the same\n",
    "        if False, doesn't do it\n",
    "        if None (default), does it when k > 1, but doesn't do it with Nearest Neighbor\n",
    "    \"\"\"\n",
    "    # train['hasVoted'] = train['userID'] == user\n",
    "    hasVoted = train['userID'] == user\n",
    "\n",
    "    # Remove recommendations already in training\n",
    "    # (aka remove from proposals array)\n",
    "    if remove_train:\n",
    "        proposals = filter_proposals_in_train(train, user, proposals)\n",
    "\n",
    "    assert any(hasVoted), 'The user has not voted in any proposal'\n",
    "\n",
    "    if do_sampling or (do_sampling is None and knn_k > 1):\n",
    "        # num_samples = train['hasVoted'].value_counts().min() # [True]\n",
    "        num_samples = hasVoted.value_counts().min() # [True]\n",
    "        train = train.groupby(hasVoted).apply(lambda x: x.sample(num_samples)).reset_index(drop=True)\n",
    "        hasVoted = train['userID'] == user\n",
    "    \n",
    "    known_embeds = embeddings[itemID2idx[train['itemID']]]\n",
    "\n",
    "    knn = KNeighborsClassifier(knn_k) # , metric='cosine')\n",
    "    knn.fit(known_embeds, hasVoted)# train['hasVoted'])\n",
    "\n",
    "    predict_embeds = embeddings[itemID2idx[proposals]]\n",
    "    aux = knn.predict_proba(predict_embeds)\n",
    "    p = knn.predict_proba(predict_embeds)[:, 1] # Probabilidad de que sea True\n",
    "\n",
    "    if top_k:\n",
    "        best = (1-p).argsort()[:top_k]\n",
    "        p = p[best]\n",
    "        proposals = proposals[best]\n",
    "    \n",
    "    return pd.DataFrame({\n",
    "        'userID': user,\n",
    "        'itemID': proposals,\n",
    "        'prediction': 1,\n",
    "        'score': p,\n",
    "    })\n",
    "\n",
    "u = '0xe44782afe398800d7190796018c4b865e32ff806'\n",
    "proposals_voted_by_user = test_filtered[test_filtered['userID'] == u]\n",
    "print(f'The user {u} voted in {len(proposals_voted_by_user)} proposals')\n",
    "# p = recommendUserKNN(train, u, test_filtered['itemID'].unique().copy(), 5, do_sampling=True)\n",
    "# p['correct'] = p['itemID'].isin(proposals_voted_by_user['itemID'])\n",
    "# p"
   ]
  },
  {
   "cell_type": "code",
   "execution_count": 26,
   "id": "c07019d1-2a05-4d0b-9602-48a75ebf8ce2",
   "metadata": {},
   "outputs": [
    {
     "name": "stdout",
     "output_type": "stream",
     "text": [
      "The user 0xe44782afe398800d7190796018c4b865e32ff806 voted in 0 proposals\n"
     ]
    },
    {
     "data": {
      "text/html": [
       "<div>\n",
       "<style scoped>\n",
       "    .dataframe tbody tr th:only-of-type {\n",
       "        vertical-align: middle;\n",
       "    }\n",
       "\n",
       "    .dataframe tbody tr th {\n",
       "        vertical-align: top;\n",
       "    }\n",
       "\n",
       "    .dataframe thead th {\n",
       "        text-align: right;\n",
       "    }\n",
       "</style>\n",
       "<table border=\"1\" class=\"dataframe\">\n",
       "  <thead>\n",
       "    <tr style=\"text-align: right;\">\n",
       "      <th></th>\n",
       "      <th>userID</th>\n",
       "      <th>itemID</th>\n",
       "      <th>prediction</th>\n",
       "      <th>score</th>\n",
       "    </tr>\n",
       "  </thead>\n",
       "  <tbody>\n",
       "  </tbody>\n",
       "</table>\n",
       "</div>"
      ],
      "text/plain": [
       "Empty DataFrame\n",
       "Columns: [userID, itemID, prediction, score]\n",
       "Index: []"
      ]
     },
     "execution_count": 26,
     "metadata": {},
     "output_type": "execute_result"
    }
   ],
   "source": [
    "from recommenders.datasets.pandas_df_utils import filter_by\n",
    "\n",
    "def recommendMostVoted(train: pd.DataFrame, user, proposals, top_k: Optional[int] = None, remove_train=True):\n",
    "    bestVotes = train[train['itemID'].isin(proposals)]['itemID'].value_counts()\n",
    "    df = pd.DataFrame({\n",
    "        'userID': user,\n",
    "        'itemID': bestVotes.index,\n",
    "        'prediction': 1,\n",
    "        'score': bestVotes,\n",
    "    })\n",
    "    if remove_train:\n",
    "        df = filter_by(df, train, ['userID', 'itemID'])\n",
    "    return df.head(top_k).reset_index(drop=True)\n",
    "\n",
    "u = '0xe44782afe398800d7190796018c4b865e32ff806'\n",
    "proposals_voted_by_user = test_filtered[test_filtered['userID'] == u]\n",
    "print(f'The user {u} voted in {len(proposals_voted_by_user)} proposals')\n",
    "recommendMostVoted(train_filtered.copy(), u, test_filtered['itemID'].unique(), 5)"
   ]
  },
  {
   "cell_type": "code",
   "execution_count": 27,
   "id": "608d6675-947d-4d7d-97d2-2fa3244c7829",
   "metadata": {},
   "outputs": [
    {
     "data": {
      "application/vnd.jupyter.widget-view+json": {
       "model_id": "",
       "version_major": 2,
       "version_minor": 0
      },
      "text/plain": [
       "  0%|          | 0/134 [00:00<?, ?it/s]"
      ]
     },
     "metadata": {},
     "output_type": "display_data"
    },
    {
     "data": {
      "text/html": [
       "<div>\n",
       "<style scoped>\n",
       "    .dataframe tbody tr th:only-of-type {\n",
       "        vertical-align: middle;\n",
       "    }\n",
       "\n",
       "    .dataframe tbody tr th {\n",
       "        vertical-align: top;\n",
       "    }\n",
       "\n",
       "    .dataframe thead th {\n",
       "        text-align: right;\n",
       "    }\n",
       "</style>\n",
       "<table border=\"1\" class=\"dataframe\">\n",
       "  <thead>\n",
       "    <tr style=\"text-align: right;\">\n",
       "      <th></th>\n",
       "      <th>userID</th>\n",
       "      <th>itemID</th>\n",
       "      <th>prediction</th>\n",
       "      <th>score</th>\n",
       "      <th>scoreType</th>\n",
       "    </tr>\n",
       "  </thead>\n",
       "  <tbody>\n",
       "    <tr>\n",
       "      <th>0</th>\n",
       "      <td>0x0dd1338a416af72655aacfbccf082762973cceff</td>\n",
       "      <td>1902b64e-6240-5623-947c-8c6676fdafcd</td>\n",
       "      <td>1</td>\n",
       "      <td>0.0</td>\n",
       "      <td>knn</td>\n",
       "    </tr>\n",
       "    <tr>\n",
       "      <th>0</th>\n",
       "      <td>0x4262f8bb5bd9ad132782d2a7279b532a1dc6bcbf</td>\n",
       "      <td>1902b64e-6240-5623-947c-8c6676fdafcd</td>\n",
       "      <td>1</td>\n",
       "      <td>0.0</td>\n",
       "      <td>knn</td>\n",
       "    </tr>\n",
       "    <tr>\n",
       "      <th>0</th>\n",
       "      <td>0x854aeb9840b9f1062745822bfbd77daea53f83cf</td>\n",
       "      <td>7c34f3bf-850d-5ebc-af02-0ea664ac1837</td>\n",
       "      <td>1</td>\n",
       "      <td>0.0</td>\n",
       "      <td>knn</td>\n",
       "    </tr>\n",
       "    <tr>\n",
       "      <th>0</th>\n",
       "      <td>0x076b91acf9316eae15beae5daa054df8ee61959e</td>\n",
       "      <td>5ac1a277-352f-5e61-bac8-0669c816740c</td>\n",
       "      <td>1</td>\n",
       "      <td>0.0</td>\n",
       "      <td>knn</td>\n",
       "    </tr>\n",
       "    <tr>\n",
       "      <th>0</th>\n",
       "      <td>0xaae9d8bff1ef3606c51545b953e0137abb7ce7f3</td>\n",
       "      <td>1902b64e-6240-5623-947c-8c6676fdafcd</td>\n",
       "      <td>1</td>\n",
       "      <td>0.0</td>\n",
       "      <td>knn</td>\n",
       "    </tr>\n",
       "    <tr>\n",
       "      <th>...</th>\n",
       "      <td>...</td>\n",
       "      <td>...</td>\n",
       "      <td>...</td>\n",
       "      <td>...</td>\n",
       "      <td>...</td>\n",
       "    </tr>\n",
       "    <tr>\n",
       "      <th>0</th>\n",
       "      <td>0x303cd760680d2a6b474665e8cf7e99f32d6337dc</td>\n",
       "      <td>1902b64e-6240-5623-947c-8c6676fdafcd</td>\n",
       "      <td>1</td>\n",
       "      <td>0.0</td>\n",
       "      <td>knn</td>\n",
       "    </tr>\n",
       "    <tr>\n",
       "      <th>0</th>\n",
       "      <td>0xedf458ce355c755e1973778b51b917066d4c0bad</td>\n",
       "      <td>1902b64e-6240-5623-947c-8c6676fdafcd</td>\n",
       "      <td>1</td>\n",
       "      <td>0.0</td>\n",
       "      <td>knn</td>\n",
       "    </tr>\n",
       "    <tr>\n",
       "      <th>0</th>\n",
       "      <td>0x0d6a9963f7b362c3d50cfdfdc9207b4d8e766c13</td>\n",
       "      <td>1902b64e-6240-5623-947c-8c6676fdafcd</td>\n",
       "      <td>1</td>\n",
       "      <td>0.0</td>\n",
       "      <td>knn</td>\n",
       "    </tr>\n",
       "    <tr>\n",
       "      <th>0</th>\n",
       "      <td>0x2182744a243e50dc5bf8e1cb4657748e19646f60</td>\n",
       "      <td>1902b64e-6240-5623-947c-8c6676fdafcd</td>\n",
       "      <td>1</td>\n",
       "      <td>0.0</td>\n",
       "      <td>knn</td>\n",
       "    </tr>\n",
       "    <tr>\n",
       "      <th>0</th>\n",
       "      <td>0xb8ac6ef01a6191c8689ad756b4a41dcad7021390</td>\n",
       "      <td>1902b64e-6240-5623-947c-8c6676fdafcd</td>\n",
       "      <td>1</td>\n",
       "      <td>0.0</td>\n",
       "      <td>knn</td>\n",
       "    </tr>\n",
       "  </tbody>\n",
       "</table>\n",
       "<p>134 rows × 5 columns</p>\n",
       "</div>"
      ],
      "text/plain": [
       "                                        userID  \\\n",
       "0   0x0dd1338a416af72655aacfbccf082762973cceff   \n",
       "0   0x4262f8bb5bd9ad132782d2a7279b532a1dc6bcbf   \n",
       "0   0x854aeb9840b9f1062745822bfbd77daea53f83cf   \n",
       "0   0x076b91acf9316eae15beae5daa054df8ee61959e   \n",
       "0   0xaae9d8bff1ef3606c51545b953e0137abb7ce7f3   \n",
       "..                                         ...   \n",
       "0   0x303cd760680d2a6b474665e8cf7e99f32d6337dc   \n",
       "0   0xedf458ce355c755e1973778b51b917066d4c0bad   \n",
       "0   0x0d6a9963f7b362c3d50cfdfdc9207b4d8e766c13   \n",
       "0   0x2182744a243e50dc5bf8e1cb4657748e19646f60   \n",
       "0   0xb8ac6ef01a6191c8689ad756b4a41dcad7021390   \n",
       "\n",
       "                                  itemID  prediction  score scoreType  \n",
       "0   1902b64e-6240-5623-947c-8c6676fdafcd           1    0.0       knn  \n",
       "0   1902b64e-6240-5623-947c-8c6676fdafcd           1    0.0       knn  \n",
       "0   7c34f3bf-850d-5ebc-af02-0ea664ac1837           1    0.0       knn  \n",
       "0   5ac1a277-352f-5e61-bac8-0669c816740c           1    0.0       knn  \n",
       "0   1902b64e-6240-5623-947c-8c6676fdafcd           1    0.0       knn  \n",
       "..                                   ...         ...    ...       ...  \n",
       "0   1902b64e-6240-5623-947c-8c6676fdafcd           1    0.0       knn  \n",
       "0   1902b64e-6240-5623-947c-8c6676fdafcd           1    0.0       knn  \n",
       "0   1902b64e-6240-5623-947c-8c6676fdafcd           1    0.0       knn  \n",
       "0   1902b64e-6240-5623-947c-8c6676fdafcd           1    0.0       knn  \n",
       "0   1902b64e-6240-5623-947c-8c6676fdafcd           1    0.0       knn  \n",
       "\n",
       "[134 rows x 5 columns]"
      ]
     },
     "execution_count": 27,
     "metadata": {},
     "output_type": "execute_result"
    }
   ],
   "source": [
    "import multiprocessing as mp\n",
    "from multiprocessing import Pool\n",
    "\n",
    "def recommendUserKNNwithFallback(train, user, proposals, top_k = None, knn_k: int = 1, remove_train: bool = True, do_sampling = None):\n",
    "    \"\"\" If the user has not voted in any proposal in `train`, we fall back to recommending\n",
    "    the most voted proposal in `proposals`\n",
    "    \"\"\"\n",
    "    if remove_train:\n",
    "        proposals = filter_proposals_in_train(train, user, proposals)\n",
    "    if (user == train['userID']).sum() >= knn_k:\n",
    "        df = recommendUserKNN(train, user, proposals, top_k, knn_k, remove_train=False, do_sampling=do_sampling)\n",
    "        df['scoreType'] = 'knn'\n",
    "        return df\n",
    "    else:\n",
    "        df = recommendMostVoted(train, user, proposals, top_k, remove_train=False)\n",
    "        df['scoreType'] = 'mv'\n",
    "        return df\n",
    "\n",
    "def recommendNLPKNN(train: pd.DataFrame, users, proposals, top_k: int = 5, knn_k: int = 1, do_sampling=None, cpus=-1):\n",
    "    # Create voter embeddings\n",
    "    assert knn_k >= 1\n",
    "    \n",
    "    with Pool(mp.cpu_count()//4 if cpus==-1 else cpus) as pool:\n",
    "        return pd.concat(\n",
    "            tqdm(\n",
    "                pool.imap(\n",
    "                    partial(\n",
    "                        recommendUserKNNwithFallback, \n",
    "                        train, \n",
    "                        proposals=proposals, \n",
    "                        top_k=top_k,\n",
    "                        knn_k=knn_k,\n",
    "                        do_sampling=do_sampling),\n",
    "                    users),\n",
    "                total=len(users),\n",
    "                leave=False,\n",
    "            )\n",
    "        )\n",
    "\n",
    "recommendNLPKNN(train, test_filtered['userID'].unique(), test_filtered['itemID'].unique(), top_k=1)"
   ]
  },
  {
   "cell_type": "code",
   "execution_count": 28,
   "id": "ee6a6c98-64c7-4411-9331-a3158de35e95",
   "metadata": {},
   "outputs": [
    {
     "name": "stdout",
     "output_type": "stream",
     "text": [
      "24\n"
     ]
    }
   ],
   "source": [
    "print(mp.cpu_count())"
   ]
  },
  {
   "cell_type": "markdown",
   "id": "51a937fc-dfc1-4b0a-b81c-c4c02ced2bb2",
   "metadata": {},
   "source": [
    "### Evaluation\n",
    "\n",
    "Usaremos el método del codo para ver cual de todos es mejor"
   ]
  },
  {
   "cell_type": "code",
   "execution_count": 29,
   "id": "90180c9e-ed5c-4376-8b8d-d730a193513f",
   "metadata": {},
   "outputs": [
    {
     "data": {
      "application/vnd.jupyter.widget-view+json": {
       "model_id": "6dedf59f1eab47e3909be5cb6c36cd2a",
       "version_major": 2,
       "version_minor": 0
      },
      "text/plain": [
       "  0%|          | 0/9 [00:00<?, ?it/s]"
      ]
     },
     "metadata": {},
     "output_type": "display_data"
    },
    {
     "data": {
      "application/vnd.jupyter.widget-view+json": {
       "model_id": "521bfd5326f246d6bd5c2f858156b01f",
       "version_major": 2,
       "version_minor": 0
      },
      "text/plain": [
       "  0%|          | 0/10 [00:00<?, ?it/s]"
      ]
     },
     "metadata": {},
     "output_type": "display_data"
    },
    {
     "data": {
      "application/vnd.jupyter.widget-view+json": {
       "model_id": "",
       "version_major": 2,
       "version_minor": 0
      },
      "text/plain": [
       "  0%|          | 0/27 [00:00<?, ?it/s]"
      ]
     },
     "metadata": {},
     "output_type": "display_data"
    },
    {
     "data": {
      "application/vnd.jupyter.widget-view+json": {
       "model_id": "",
       "version_major": 2,
       "version_minor": 0
      },
      "text/plain": [
       "  0%|          | 0/27 [00:00<?, ?it/s]"
      ]
     },
     "metadata": {},
     "output_type": "display_data"
    },
    {
     "data": {
      "application/vnd.jupyter.widget-view+json": {
       "model_id": "",
       "version_major": 2,
       "version_minor": 0
      },
      "text/plain": [
       "  0%|          | 0/121 [00:00<?, ?it/s]"
      ]
     },
     "metadata": {},
     "output_type": "display_data"
    },
    {
     "data": {
      "application/vnd.jupyter.widget-view+json": {
       "model_id": "",
       "version_major": 2,
       "version_minor": 0
      },
      "text/plain": [
       "  0%|          | 0/121 [00:00<?, ?it/s]"
      ]
     },
     "metadata": {},
     "output_type": "display_data"
    },
    {
     "data": {
      "application/vnd.jupyter.widget-view+json": {
       "model_id": "",
       "version_major": 2,
       "version_minor": 0
      },
      "text/plain": [
       "  0%|          | 0/47 [00:00<?, ?it/s]"
      ]
     },
     "metadata": {},
     "output_type": "display_data"
    },
    {
     "data": {
      "application/vnd.jupyter.widget-view+json": {
       "model_id": "",
       "version_major": 2,
       "version_minor": 0
      },
      "text/plain": [
       "  0%|          | 0/47 [00:00<?, ?it/s]"
      ]
     },
     "metadata": {},
     "output_type": "display_data"
    },
    {
     "data": {
      "application/vnd.jupyter.widget-view+json": {
       "model_id": "",
       "version_major": 2,
       "version_minor": 0
      },
      "text/plain": [
       "  0%|          | 0/79 [00:00<?, ?it/s]"
      ]
     },
     "metadata": {},
     "output_type": "display_data"
    },
    {
     "data": {
      "application/vnd.jupyter.widget-view+json": {
       "model_id": "",
       "version_major": 2,
       "version_minor": 0
      },
      "text/plain": [
       "  0%|          | 0/79 [00:00<?, ?it/s]"
      ]
     },
     "metadata": {},
     "output_type": "display_data"
    },
    {
     "data": {
      "application/vnd.jupyter.widget-view+json": {
       "model_id": "",
       "version_major": 2,
       "version_minor": 0
      },
      "text/plain": [
       "  0%|          | 0/103 [00:00<?, ?it/s]"
      ]
     },
     "metadata": {},
     "output_type": "display_data"
    },
    {
     "data": {
      "application/vnd.jupyter.widget-view+json": {
       "model_id": "",
       "version_major": 2,
       "version_minor": 0
      },
      "text/plain": [
       "  0%|          | 0/103 [00:00<?, ?it/s]"
      ]
     },
     "metadata": {},
     "output_type": "display_data"
    },
    {
     "data": {
      "application/vnd.jupyter.widget-view+json": {
       "model_id": "",
       "version_major": 2,
       "version_minor": 0
      },
      "text/plain": [
       "  0%|          | 0/103 [00:00<?, ?it/s]"
      ]
     },
     "metadata": {},
     "output_type": "display_data"
    },
    {
     "data": {
      "application/vnd.jupyter.widget-view+json": {
       "model_id": "",
       "version_major": 2,
       "version_minor": 0
      },
      "text/plain": [
       "  0%|          | 0/103 [00:00<?, ?it/s]"
      ]
     },
     "metadata": {},
     "output_type": "display_data"
    },
    {
     "data": {
      "application/vnd.jupyter.widget-view+json": {
       "model_id": "",
       "version_major": 2,
       "version_minor": 0
      },
      "text/plain": [
       "  0%|          | 0/88 [00:00<?, ?it/s]"
      ]
     },
     "metadata": {},
     "output_type": "display_data"
    },
    {
     "data": {
      "application/vnd.jupyter.widget-view+json": {
       "model_id": "",
       "version_major": 2,
       "version_minor": 0
      },
      "text/plain": [
       "  0%|          | 0/88 [00:00<?, ?it/s]"
      ]
     },
     "metadata": {},
     "output_type": "display_data"
    },
    {
     "data": {
      "application/vnd.jupyter.widget-view+json": {
       "model_id": "",
       "version_major": 2,
       "version_minor": 0
      },
      "text/plain": [
       "  0%|          | 0/172 [00:00<?, ?it/s]"
      ]
     },
     "metadata": {},
     "output_type": "display_data"
    },
    {
     "data": {
      "application/vnd.jupyter.widget-view+json": {
       "model_id": "",
       "version_major": 2,
       "version_minor": 0
      },
      "text/plain": [
       "  0%|          | 0/172 [00:00<?, ?it/s]"
      ]
     },
     "metadata": {},
     "output_type": "display_data"
    },
    {
     "ename": "KeyboardInterrupt",
     "evalue": "",
     "output_type": "error",
     "traceback": [
      "\u001b[0;31m---------------------------------------------------------------------------\u001b[0m",
      "\u001b[0;31mKeyboardInterrupt\u001b[0m                         Traceback (most recent call last)",
      "Cell \u001b[0;32mIn[29], line 25\u001b[0m\n\u001b[1;32m     23\u001b[0m train \u001b[38;5;241m=\u001b[39m train\u001b[38;5;241m.\u001b[39mcopy()\n\u001b[1;32m     24\u001b[0m \u001b[38;5;28;01mfor\u001b[39;00m k_recs \u001b[38;5;129;01min\u001b[39;00m K_RECOMMENDATIONS:\n\u001b[0;32m---> 25\u001b[0m     recs \u001b[38;5;241m=\u001b[39m \u001b[43mrecommendNLPKNN\u001b[49m\u001b[43m(\u001b[49m\u001b[43mtrain\u001b[49m\u001b[43m,\u001b[49m\u001b[43m \u001b[49m\u001b[43mtest_filtered\u001b[49m\u001b[43m[\u001b[49m\u001b[38;5;124;43m'\u001b[39;49m\u001b[38;5;124;43muserID\u001b[39;49m\u001b[38;5;124;43m'\u001b[39;49m\u001b[43m]\u001b[49m\u001b[38;5;241;43m.\u001b[39;49m\u001b[43munique\u001b[49m\u001b[43m(\u001b[49m\u001b[43m)\u001b[49m\u001b[43m,\u001b[49m\u001b[43m \u001b[49m\u001b[43mopen_proposals\u001b[49m\u001b[43m,\u001b[49m\u001b[43m \u001b[49m\u001b[43mk_recs\u001b[49m\u001b[43m,\u001b[49m\u001b[43m \u001b[49m\u001b[43mk\u001b[49m\u001b[43m)\u001b[49m\n\u001b[1;32m     26\u001b[0m     \u001b[38;5;28;01mif\u001b[39;00m check_train_recs(recs, train, [\u001b[38;5;124m'\u001b[39m\u001b[38;5;124muserID\u001b[39m\u001b[38;5;124m'\u001b[39m, \u001b[38;5;124m'\u001b[39m\u001b[38;5;124mitemID\u001b[39m\u001b[38;5;124m'\u001b[39m]):\n\u001b[1;32m     27\u001b[0m         \u001b[38;5;28mprint\u001b[39m(\u001b[38;5;124m\"\u001b[39m\u001b[38;5;124mWarning: There are recommendations that were true in training\u001b[39m\u001b[38;5;124m\"\u001b[39m, file\u001b[38;5;241m=\u001b[39msys\u001b[38;5;241m.\u001b[39mstderr)\n",
      "Cell \u001b[0;32mIn[27], line 24\u001b[0m, in \u001b[0;36mrecommendNLPKNN\u001b[0;34m(train, users, proposals, top_k, knn_k, do_sampling, cpus)\u001b[0m\n\u001b[1;32m     21\u001b[0m \u001b[38;5;28;01massert\u001b[39;00m knn_k \u001b[38;5;241m>\u001b[39m\u001b[38;5;241m=\u001b[39m \u001b[38;5;241m1\u001b[39m\n\u001b[1;32m     23\u001b[0m \u001b[38;5;28;01mwith\u001b[39;00m Pool(mp\u001b[38;5;241m.\u001b[39mcpu_count()\u001b[38;5;241m/\u001b[39m\u001b[38;5;241m/\u001b[39m\u001b[38;5;241m4\u001b[39m \u001b[38;5;28;01mif\u001b[39;00m cpus\u001b[38;5;241m==\u001b[39m\u001b[38;5;241m-\u001b[39m\u001b[38;5;241m1\u001b[39m \u001b[38;5;28;01melse\u001b[39;00m cpus) \u001b[38;5;28;01mas\u001b[39;00m pool:\n\u001b[0;32m---> 24\u001b[0m     \u001b[38;5;28;01mreturn\u001b[39;00m pd\u001b[38;5;241m.\u001b[39mconcat(\n\u001b[1;32m     25\u001b[0m         tqdm(\n\u001b[1;32m     26\u001b[0m             pool\u001b[38;5;241m.\u001b[39mimap(\n\u001b[1;32m     27\u001b[0m                 partial(\n\u001b[1;32m     28\u001b[0m                     recommendUserKNNwithFallback, \n\u001b[1;32m     29\u001b[0m                     train, \n\u001b[1;32m     30\u001b[0m                     proposals\u001b[38;5;241m=\u001b[39mproposals, \n\u001b[1;32m     31\u001b[0m                     top_k\u001b[38;5;241m=\u001b[39mtop_k,\n\u001b[1;32m     32\u001b[0m                     knn_k\u001b[38;5;241m=\u001b[39mknn_k,\n\u001b[1;32m     33\u001b[0m                     do_sampling\u001b[38;5;241m=\u001b[39mdo_sampling),\n\u001b[1;32m     34\u001b[0m                 users),\n\u001b[1;32m     35\u001b[0m             total\u001b[38;5;241m=\u001b[39m\u001b[38;5;28mlen\u001b[39m(users),\n\u001b[1;32m     36\u001b[0m             leave\u001b[38;5;241m=\u001b[39m\u001b[38;5;28;01mFalse\u001b[39;00m,\n\u001b[1;32m     37\u001b[0m         )\n\u001b[1;32m     38\u001b[0m     )\n",
      "File \u001b[0;32m~/.pyenv/versions/3.9.18/lib/python3.9/multiprocessing/pool.py:736\u001b[0m, in \u001b[0;36mPool.__exit__\u001b[0;34m(self, exc_type, exc_val, exc_tb)\u001b[0m\n\u001b[1;32m    735\u001b[0m \u001b[38;5;28;01mdef\u001b[39;00m \u001b[38;5;21m__exit__\u001b[39m(\u001b[38;5;28mself\u001b[39m, exc_type, exc_val, exc_tb):\n\u001b[0;32m--> 736\u001b[0m     \u001b[38;5;28;43mself\u001b[39;49m\u001b[38;5;241;43m.\u001b[39;49m\u001b[43mterminate\u001b[49m\u001b[43m(\u001b[49m\u001b[43m)\u001b[49m\n",
      "File \u001b[0;32m~/.pyenv/versions/3.9.18/lib/python3.9/multiprocessing/pool.py:654\u001b[0m, in \u001b[0;36mPool.terminate\u001b[0;34m(self)\u001b[0m\n\u001b[1;32m    652\u001b[0m util\u001b[38;5;241m.\u001b[39mdebug(\u001b[38;5;124m'\u001b[39m\u001b[38;5;124mterminating pool\u001b[39m\u001b[38;5;124m'\u001b[39m)\n\u001b[1;32m    653\u001b[0m \u001b[38;5;28mself\u001b[39m\u001b[38;5;241m.\u001b[39m_state \u001b[38;5;241m=\u001b[39m TERMINATE\n\u001b[0;32m--> 654\u001b[0m \u001b[38;5;28;43mself\u001b[39;49m\u001b[38;5;241;43m.\u001b[39;49m\u001b[43m_terminate\u001b[49m\u001b[43m(\u001b[49m\u001b[43m)\u001b[49m\n",
      "File \u001b[0;32m~/.pyenv/versions/3.9.18/lib/python3.9/multiprocessing/util.py:224\u001b[0m, in \u001b[0;36mFinalize.__call__\u001b[0;34m(self, wr, _finalizer_registry, sub_debug, getpid)\u001b[0m\n\u001b[1;32m    221\u001b[0m \u001b[38;5;28;01melse\u001b[39;00m:\n\u001b[1;32m    222\u001b[0m     sub_debug(\u001b[38;5;124m'\u001b[39m\u001b[38;5;124mfinalizer calling \u001b[39m\u001b[38;5;132;01m%s\u001b[39;00m\u001b[38;5;124m with args \u001b[39m\u001b[38;5;132;01m%s\u001b[39;00m\u001b[38;5;124m and kwargs \u001b[39m\u001b[38;5;132;01m%s\u001b[39;00m\u001b[38;5;124m'\u001b[39m,\n\u001b[1;32m    223\u001b[0m               \u001b[38;5;28mself\u001b[39m\u001b[38;5;241m.\u001b[39m_callback, \u001b[38;5;28mself\u001b[39m\u001b[38;5;241m.\u001b[39m_args, \u001b[38;5;28mself\u001b[39m\u001b[38;5;241m.\u001b[39m_kwargs)\n\u001b[0;32m--> 224\u001b[0m     res \u001b[38;5;241m=\u001b[39m \u001b[38;5;28;43mself\u001b[39;49m\u001b[38;5;241;43m.\u001b[39;49m\u001b[43m_callback\u001b[49m\u001b[43m(\u001b[49m\u001b[38;5;241;43m*\u001b[39;49m\u001b[38;5;28;43mself\u001b[39;49m\u001b[38;5;241;43m.\u001b[39;49m\u001b[43m_args\u001b[49m\u001b[43m,\u001b[49m\u001b[43m \u001b[49m\u001b[38;5;241;43m*\u001b[39;49m\u001b[38;5;241;43m*\u001b[39;49m\u001b[38;5;28;43mself\u001b[39;49m\u001b[38;5;241;43m.\u001b[39;49m\u001b[43m_kwargs\u001b[49m\u001b[43m)\u001b[49m\n\u001b[1;32m    225\u001b[0m \u001b[38;5;28mself\u001b[39m\u001b[38;5;241m.\u001b[39m_weakref \u001b[38;5;241m=\u001b[39m \u001b[38;5;28mself\u001b[39m\u001b[38;5;241m.\u001b[39m_callback \u001b[38;5;241m=\u001b[39m \u001b[38;5;28mself\u001b[39m\u001b[38;5;241m.\u001b[39m_args \u001b[38;5;241m=\u001b[39m \\\n\u001b[1;32m    226\u001b[0m                 \u001b[38;5;28mself\u001b[39m\u001b[38;5;241m.\u001b[39m_kwargs \u001b[38;5;241m=\u001b[39m \u001b[38;5;28mself\u001b[39m\u001b[38;5;241m.\u001b[39m_key \u001b[38;5;241m=\u001b[39m \u001b[38;5;28;01mNone\u001b[39;00m\n\u001b[1;32m    227\u001b[0m \u001b[38;5;28;01mreturn\u001b[39;00m res\n",
      "File \u001b[0;32m~/.pyenv/versions/3.9.18/lib/python3.9/multiprocessing/pool.py:729\u001b[0m, in \u001b[0;36mPool._terminate_pool\u001b[0;34m(cls, taskqueue, inqueue, outqueue, pool, change_notifier, worker_handler, task_handler, result_handler, cache)\u001b[0m\n\u001b[1;32m    726\u001b[0m \u001b[38;5;28;01mif\u001b[39;00m p\u001b[38;5;241m.\u001b[39mis_alive():\n\u001b[1;32m    727\u001b[0m     \u001b[38;5;66;03m# worker has not yet exited\u001b[39;00m\n\u001b[1;32m    728\u001b[0m     util\u001b[38;5;241m.\u001b[39mdebug(\u001b[38;5;124m'\u001b[39m\u001b[38;5;124mcleaning up worker \u001b[39m\u001b[38;5;132;01m%d\u001b[39;00m\u001b[38;5;124m'\u001b[39m \u001b[38;5;241m%\u001b[39m p\u001b[38;5;241m.\u001b[39mpid)\n\u001b[0;32m--> 729\u001b[0m     \u001b[43mp\u001b[49m\u001b[38;5;241;43m.\u001b[39;49m\u001b[43mjoin\u001b[49m\u001b[43m(\u001b[49m\u001b[43m)\u001b[49m\n",
      "File \u001b[0;32m~/.pyenv/versions/3.9.18/lib/python3.9/multiprocessing/process.py:149\u001b[0m, in \u001b[0;36mBaseProcess.join\u001b[0;34m(self, timeout)\u001b[0m\n\u001b[1;32m    147\u001b[0m \u001b[38;5;28;01massert\u001b[39;00m \u001b[38;5;28mself\u001b[39m\u001b[38;5;241m.\u001b[39m_parent_pid \u001b[38;5;241m==\u001b[39m os\u001b[38;5;241m.\u001b[39mgetpid(), \u001b[38;5;124m'\u001b[39m\u001b[38;5;124mcan only join a child process\u001b[39m\u001b[38;5;124m'\u001b[39m\n\u001b[1;32m    148\u001b[0m \u001b[38;5;28;01massert\u001b[39;00m \u001b[38;5;28mself\u001b[39m\u001b[38;5;241m.\u001b[39m_popen \u001b[38;5;129;01mis\u001b[39;00m \u001b[38;5;129;01mnot\u001b[39;00m \u001b[38;5;28;01mNone\u001b[39;00m, \u001b[38;5;124m'\u001b[39m\u001b[38;5;124mcan only join a started process\u001b[39m\u001b[38;5;124m'\u001b[39m\n\u001b[0;32m--> 149\u001b[0m res \u001b[38;5;241m=\u001b[39m \u001b[38;5;28;43mself\u001b[39;49m\u001b[38;5;241;43m.\u001b[39;49m\u001b[43m_popen\u001b[49m\u001b[38;5;241;43m.\u001b[39;49m\u001b[43mwait\u001b[49m\u001b[43m(\u001b[49m\u001b[43mtimeout\u001b[49m\u001b[43m)\u001b[49m\n\u001b[1;32m    150\u001b[0m \u001b[38;5;28;01mif\u001b[39;00m res \u001b[38;5;129;01mis\u001b[39;00m \u001b[38;5;129;01mnot\u001b[39;00m \u001b[38;5;28;01mNone\u001b[39;00m:\n\u001b[1;32m    151\u001b[0m     _children\u001b[38;5;241m.\u001b[39mdiscard(\u001b[38;5;28mself\u001b[39m)\n",
      "File \u001b[0;32m~/.pyenv/versions/3.9.18/lib/python3.9/multiprocessing/popen_fork.py:43\u001b[0m, in \u001b[0;36mPopen.wait\u001b[0;34m(self, timeout)\u001b[0m\n\u001b[1;32m     41\u001b[0m             \u001b[38;5;28;01mreturn\u001b[39;00m \u001b[38;5;28;01mNone\u001b[39;00m\n\u001b[1;32m     42\u001b[0m     \u001b[38;5;66;03m# This shouldn't block if wait() returned successfully.\u001b[39;00m\n\u001b[0;32m---> 43\u001b[0m     \u001b[38;5;28;01mreturn\u001b[39;00m \u001b[38;5;28;43mself\u001b[39;49m\u001b[38;5;241;43m.\u001b[39;49m\u001b[43mpoll\u001b[49m\u001b[43m(\u001b[49m\u001b[43mos\u001b[49m\u001b[38;5;241;43m.\u001b[39;49m\u001b[43mWNOHANG\u001b[49m\u001b[43m \u001b[49m\u001b[38;5;28;43;01mif\u001b[39;49;00m\u001b[43m \u001b[49m\u001b[43mtimeout\u001b[49m\u001b[43m \u001b[49m\u001b[38;5;241;43m==\u001b[39;49m\u001b[43m \u001b[49m\u001b[38;5;241;43m0.0\u001b[39;49m\u001b[43m \u001b[49m\u001b[38;5;28;43;01melse\u001b[39;49;00m\u001b[43m \u001b[49m\u001b[38;5;241;43m0\u001b[39;49m\u001b[43m)\u001b[49m\n\u001b[1;32m     44\u001b[0m \u001b[38;5;28;01mreturn\u001b[39;00m \u001b[38;5;28mself\u001b[39m\u001b[38;5;241m.\u001b[39mreturncode\n",
      "File \u001b[0;32m~/.pyenv/versions/3.9.18/lib/python3.9/multiprocessing/popen_fork.py:27\u001b[0m, in \u001b[0;36mPopen.poll\u001b[0;34m(self, flag)\u001b[0m\n\u001b[1;32m     25\u001b[0m \u001b[38;5;28;01mif\u001b[39;00m \u001b[38;5;28mself\u001b[39m\u001b[38;5;241m.\u001b[39mreturncode \u001b[38;5;129;01mis\u001b[39;00m \u001b[38;5;28;01mNone\u001b[39;00m:\n\u001b[1;32m     26\u001b[0m     \u001b[38;5;28;01mtry\u001b[39;00m:\n\u001b[0;32m---> 27\u001b[0m         pid, sts \u001b[38;5;241m=\u001b[39m \u001b[43mos\u001b[49m\u001b[38;5;241;43m.\u001b[39;49m\u001b[43mwaitpid\u001b[49m\u001b[43m(\u001b[49m\u001b[38;5;28;43mself\u001b[39;49m\u001b[38;5;241;43m.\u001b[39;49m\u001b[43mpid\u001b[49m\u001b[43m,\u001b[49m\u001b[43m \u001b[49m\u001b[43mflag\u001b[49m\u001b[43m)\u001b[49m\n\u001b[1;32m     28\u001b[0m     \u001b[38;5;28;01mexcept\u001b[39;00m \u001b[38;5;167;01mOSError\u001b[39;00m:\n\u001b[1;32m     29\u001b[0m         \u001b[38;5;66;03m# Child process not yet created. See #1731717\u001b[39;00m\n\u001b[1;32m     30\u001b[0m         \u001b[38;5;66;03m# e.errno == errno.ECHILD == 10\u001b[39;00m\n\u001b[1;32m     31\u001b[0m         \u001b[38;5;28;01mreturn\u001b[39;00m \u001b[38;5;28;01mNone\u001b[39;00m\n",
      "\u001b[0;31mKeyboardInterrupt\u001b[0m: "
     ]
    }
   ],
   "source": [
    "df = to_microsoft(dfv)\n",
    "\n",
    "def knn_usage_at_k(test, recs, k):\n",
    "    return (recs['scoreType'] == 'knn').mean()\n",
    "\n",
    "folds = list(timeIntervalSplit(df, N_SPLITS, skip=SKIP_SPLIT, remove_not_in_train_col='userID'))\n",
    "metrics_f = {'precision': precision_at_k, 'ndcg': ndcg_at_k, 'map': map_at_k, 'knnUsage': knn_usage_at_k, } # 'recall': recall_at_k, \n",
    "metrics = { 'k':[], } | {n+f'@{k}':[] for k,n in it.product(K_RECOMMENDATIONS, metrics_f.keys())}\n",
    "for k in tqdm(range(1,10)):\n",
    "    for i, (train, test) in enumerate(tqdm(folds)):\n",
    "        t = train.timestamp.max()\n",
    "        # print(f\"===== Training on fold {i} (t: {t})  =====\")\n",
    "        # print(f\"Ratings train: {len(train)}, test: {len(test)}\")\n",
    "    \n",
    "        open_proposals = dfp[(dfp['start'] < t) & (t < dfp['end']) ]['id'].unique()\n",
    "        # print(f\"Currently open proposals: {len(open_proposals)}\")\n",
    "    \n",
    "        train_filtered = train[train['itemID'].isin(open_proposals) ].copy()\n",
    "        test_filtered = test[test['itemID'].isin(open_proposals) ]\n",
    "        # print(f\"Train votes in open proposals: {len(train_filtered):3}\")\n",
    "        # print(f\"Test votes in open proposals:  {len(test_filtered):3}\")    \n",
    "\n",
    "        train = train.copy()\n",
    "        for k_recs in K_RECOMMENDATIONS:\n",
    "            recs = recommendNLPKNN(train, test_filtered['userID'].unique(), open_proposals, k_recs, k)\n",
    "            if check_train_recs(recs, train, ['userID', 'itemID']):\n",
    "                print(\"Warning: There are recommendations that were true in training\", file=sys.stderr)\n",
    "                # print(recs.score.describe())\n",
    "                # assert False\n",
    "        \n",
    "            # print('Tested score:')\n",
    "            for m, f in metrics_f.items():\n",
    "                r = f(test_filtered, recs, k=k_recs)\n",
    "                metrics[m+f'@{k_recs}'].append(r)\n",
    "    \n",
    "        metrics['k'].append(k)\n",
    "        # print()"
   ]
  },
  {
   "cell_type": "code",
   "execution_count": null,
   "id": "9c893c79-df25-4581-b6c1-91a3259a043e",
   "metadata": {},
   "outputs": [],
   "source": [
    "mdf = pd.DataFrame(metrics)\n",
    "ax = sns.lineplot(mdf.groupby('k').mean())\n",
    "bdf = pd.read_csv(f'./data/baseline-mp-{ORG_NAME}-{N_SPLITS}.csv')\n",
    "plt.ylim(0)\n",
    "plt.xlim((1, mdf['k'].max()))\n",
    "ax.axhline(bdf['precision@5'].mean(), color='red', linestyle='dashed')\n",
    "ax.axhline(bdf['ndcg@5'].mean(), color='yellow', linestyle='dashed')"
   ]
  },
  {
   "cell_type": "code",
   "execution_count": null,
   "id": "d8981d75-c3d7-4db5-81a0-d54d56cd5ea0",
   "metadata": {},
   "outputs": [],
   "source": [
    "mdf = pd.DataFrame(metrics)\n",
    "fig = px.line(mdf.groupby('k').mean())\n",
    "fig.add_hline(y=bdf['precision@5'].mean(), line_dash='dash', line_color='green')\n",
    "fig.add_hline(y=bdf['ndcg@5'].mean(), line_dash='dash', line_color='green')\n",
    "fig.update_yaxes(range=[0, 1])\n",
    "fig"
   ]
  },
  {
   "cell_type": "code",
   "execution_count": null,
   "id": "283fcffe-40d7-44cf-a7ba-7f31f60ae725",
   "metadata": {},
   "outputs": [],
   "source": [
    "mdf.groupby('k').describe(percentiles=[.5],).T"
   ]
  },
  {
   "cell_type": "code",
   "execution_count": null,
   "id": "f8f3ef6d-a2b8-439d-8fd1-2ca576c04602",
   "metadata": {},
   "outputs": [],
   "source": [
    "mdf = pd.DataFrame(metrics)\n",
    "mdf = mdf[mdf['k'] == 1]\n",
    "bdf = pd.read_csv(f'./data/baseline/mp-{ORG_NAME}-{N_SPLITS}.csv')\n",
    "\n",
    "mdf['baseline precision'] = bdf['precision@5']\n",
    "mdf['baseline ndcg'] = bdf['ndcg@5']\n",
    "fig, ax = plt.subplots()\n",
    "mdf[['precision@5', 'ndcg@5']].plot(title='Evaluación modelo PLN kNN', ax=ax)\n",
    "mdf[['baseline precision', 'baseline ndcg']].plot(style='--', ax=ax)\n",
    "mdf.describe()"
   ]
  },
  {
   "cell_type": "code",
   "execution_count": null,
   "id": "ef45fdab-aab6-4c13-b974-5c543d41fcb3",
   "metadata": {},
   "outputs": [],
   "source": []
  }
 ],
 "metadata": {
  "kernelspec": {
   "display_name": "Python 3 (ipykernel)",
   "language": "python",
   "name": "python3"
  },
  "language_info": {
   "codemirror_mode": {
    "name": "ipython",
    "version": 3
   },
   "file_extension": ".py",
   "mimetype": "text/x-python",
   "name": "python",
   "nbconvert_exporter": "python",
   "pygments_lexer": "ipython3",
   "version": "3.9.18"
  },
  "widgets": {
   "application/vnd.jupyter.widget-state+json": {
    "state": {
     "0257c1c689c0470aa65f3a51c1c53108": {
      "model_module": "@jupyter-widgets/base",
      "model_module_version": "2.0.0",
      "model_name": "LayoutModel",
      "state": {}
     },
     "025aea95ee2143ff836e9e245b00b964": {
      "model_module": "@jupyter-widgets/base",
      "model_module_version": "2.0.0",
      "model_name": "LayoutModel",
      "state": {}
     },
     "04dfd0191dc04df69e40e49a3491b5b3": {
      "model_module": "@jupyter-widgets/controls",
      "model_module_version": "2.0.0",
      "model_name": "HTMLModel",
      "state": {
       "layout": "IPY_MODEL_94ec485e80264bc4a770fca65cad4cb2",
       "style": "IPY_MODEL_4b6151a68efc4556998af9257e4d5a95",
       "value": " 88/88 [00:22&lt;00:00,  6.27it/s]"
      }
     },
     "082966faa5f540e3842cf4711761ee2c": {
      "model_module": "@jupyter-widgets/base",
      "model_module_version": "2.0.0",
      "model_name": "LayoutModel",
      "state": {}
     },
     "09430592e5a9477f841ff387625bda7e": {
      "model_module": "@jupyter-widgets/base",
      "model_module_version": "2.0.0",
      "model_name": "LayoutModel",
      "state": {}
     },
     "0c7a6d161cd84333826cd0a3b9634539": {
      "model_module": "@jupyter-widgets/base",
      "model_module_version": "2.0.0",
      "model_name": "LayoutModel",
      "state": {}
     },
     "0e372614509041319778390e2687c589": {
      "model_module": "@jupyter-widgets/controls",
      "model_module_version": "2.0.0",
      "model_name": "ProgressStyleModel",
      "state": {
       "description_width": ""
      }
     },
     "124ceac4236c4ef0b8767084a2a42105": {
      "model_module": "@jupyter-widgets/base",
      "model_module_version": "2.0.0",
      "model_name": "LayoutModel",
      "state": {
       "visibility": "hidden"
      }
     },
     "12f09bf33922461394e67d813a440a6a": {
      "model_module": "@jupyter-widgets/base",
      "model_module_version": "2.0.0",
      "model_name": "LayoutModel",
      "state": {}
     },
     "159b97ed4b6d4dee8d5373ba5e83439c": {
      "model_module": "@jupyter-widgets/controls",
      "model_module_version": "2.0.0",
      "model_name": "HTMLStyleModel",
      "state": {
       "description_width": "",
       "font_size": null,
       "text_color": null
      }
     },
     "169a489780d243619aa02dc498cdeefc": {
      "model_module": "@jupyter-widgets/controls",
      "model_module_version": "2.0.0",
      "model_name": "ProgressStyleModel",
      "state": {
       "description_width": ""
      }
     },
     "16cd7face0c7464da6033d03ea868b6b": {
      "model_module": "@jupyter-widgets/controls",
      "model_module_version": "2.0.0",
      "model_name": "ProgressStyleModel",
      "state": {
       "description_width": ""
      }
     },
     "175b47f079f54f57899177bb6e30d004": {
      "model_module": "@jupyter-widgets/base",
      "model_module_version": "2.0.0",
      "model_name": "LayoutModel",
      "state": {
       "visibility": "hidden"
      }
     },
     "1a8e541ec68e4383af82580dbf500b3e": {
      "model_module": "@jupyter-widgets/base",
      "model_module_version": "2.0.0",
      "model_name": "LayoutModel",
      "state": {}
     },
     "1a9616803dc843319a645640a3ce8c54": {
      "model_module": "@jupyter-widgets/controls",
      "model_module_version": "2.0.0",
      "model_name": "ProgressStyleModel",
      "state": {
       "description_width": ""
      }
     },
     "1b7262599faf469dba39be35780b0650": {
      "model_module": "@jupyter-widgets/controls",
      "model_module_version": "2.0.0",
      "model_name": "FloatProgressModel",
      "state": {
       "layout": "IPY_MODEL_3a342a5e2890424482680121a5a1b3a7",
       "max": 47,
       "style": "IPY_MODEL_a87e03e1947749a08c8677b2ac071ba7",
       "value": 47
      }
     },
     "1f8cbcb31465409b80dcbff8ce8d2b5a": {
      "model_module": "@jupyter-widgets/controls",
      "model_module_version": "2.0.0",
      "model_name": "HTMLModel",
      "state": {
       "layout": "IPY_MODEL_082966faa5f540e3842cf4711761ee2c",
       "style": "IPY_MODEL_c96a3846a906462a9be6dba61e1c958f",
       "value": " 96%"
      }
     },
     "20f1a31582a04639904480ddd5953153": {
      "model_module": "@jupyter-widgets/base",
      "model_module_version": "2.0.0",
      "model_name": "LayoutModel",
      "state": {}
     },
     "226c3a8a5bcb47eda521d2e220c37a64": {
      "model_module": "@jupyter-widgets/controls",
      "model_module_version": "2.0.0",
      "model_name": "HTMLStyleModel",
      "state": {
       "description_width": "",
       "font_size": null,
       "text_color": null
      }
     },
     "235b4085d3334ad5a46f71bc2d316ed9": {
      "model_module": "@jupyter-widgets/controls",
      "model_module_version": "2.0.0",
      "model_name": "HTMLModel",
      "state": {
       "layout": "IPY_MODEL_e05e5f4ee5cd4fb9a0430cd9c07d2167",
       "style": "IPY_MODEL_732787bf7cad43a396a411ac5375f595",
       "value": "100%"
      }
     },
     "23fa4648e6a84d57a5a114acf6a2b0b7": {
      "model_module": "@jupyter-widgets/base",
      "model_module_version": "2.0.0",
      "model_name": "LayoutModel",
      "state": {}
     },
     "248e89bf6fdc4bab8796b25b1a1b540f": {
      "model_module": "@jupyter-widgets/base",
      "model_module_version": "2.0.0",
      "model_name": "LayoutModel",
      "state": {}
     },
     "261ad0ad41184328b0d276563530a8cc": {
      "model_module": "@jupyter-widgets/controls",
      "model_module_version": "2.0.0",
      "model_name": "HTMLModel",
      "state": {
       "layout": "IPY_MODEL_1a8e541ec68e4383af82580dbf500b3e",
       "style": "IPY_MODEL_9a0c2305e0914c2eb939ca58af73c3b5",
       "value": "  0%"
      }
     },
     "262b8f561b91416fbb697e6285c0d3be": {
      "model_module": "@jupyter-widgets/controls",
      "model_module_version": "2.0.0",
      "model_name": "HTMLStyleModel",
      "state": {
       "description_width": "",
       "font_size": null,
       "text_color": null
      }
     },
     "266ac3de7bf0425a8704db063a377005": {
      "model_module": "@jupyter-widgets/controls",
      "model_module_version": "2.0.0",
      "model_name": "ProgressStyleModel",
      "state": {
       "description_width": ""
      }
     },
     "27a82d4926c141fca5a21474af79e973": {
      "model_module": "@jupyter-widgets/controls",
      "model_module_version": "2.0.0",
      "model_name": "ProgressStyleModel",
      "state": {
       "description_width": ""
      }
     },
     "29123b83f44f4aebb1010b40f5dc6d77": {
      "model_module": "@jupyter-widgets/controls",
      "model_module_version": "2.0.0",
      "model_name": "ProgressStyleModel",
      "state": {
       "description_width": ""
      }
     },
     "2981a5a54b104766a7a4fb8388269ec7": {
      "model_module": "@jupyter-widgets/base",
      "model_module_version": "2.0.0",
      "model_name": "LayoutModel",
      "state": {
       "visibility": "hidden"
      }
     },
     "2be2a3f9d6154e97b0d5c2f0aa9bdb0d": {
      "model_module": "@jupyter-widgets/base",
      "model_module_version": "2.0.0",
      "model_name": "LayoutModel",
      "state": {
       "visibility": "hidden"
      }
     },
     "2f3bcd08b53d4c35966595c06f0faa2b": {
      "model_module": "@jupyter-widgets/base",
      "model_module_version": "2.0.0",
      "model_name": "LayoutModel",
      "state": {}
     },
     "3062f63244f94f56baee96247c9421a5": {
      "model_module": "@jupyter-widgets/base",
      "model_module_version": "2.0.0",
      "model_name": "LayoutModel",
      "state": {}
     },
     "30e90514806b4e01bdf7c3f860a2351f": {
      "model_module": "@jupyter-widgets/controls",
      "model_module_version": "2.0.0",
      "model_name": "HTMLStyleModel",
      "state": {
       "description_width": "",
       "font_size": null,
       "text_color": null
      }
     },
     "330044a8f11348e19d5553d849e3916f": {
      "model_module": "@jupyter-widgets/base",
      "model_module_version": "2.0.0",
      "model_name": "LayoutModel",
      "state": {}
     },
     "34694786d09f44308fb35b43e7077ed7": {
      "model_module": "@jupyter-widgets/base",
      "model_module_version": "2.0.0",
      "model_name": "LayoutModel",
      "state": {}
     },
     "3522442d15414006a994e0c111987d17": {
      "model_module": "@jupyter-widgets/base",
      "model_module_version": "2.0.0",
      "model_name": "LayoutModel",
      "state": {}
     },
     "37482534c3ec42af9ef7637b5d3a238c": {
      "model_module": "@jupyter-widgets/base",
      "model_module_version": "2.0.0",
      "model_name": "LayoutModel",
      "state": {}
     },
     "3a12dd9fe66c48c3b964239ad0c0b9e1": {
      "model_module": "@jupyter-widgets/controls",
      "model_module_version": "2.0.0",
      "model_name": "FloatProgressModel",
      "state": {
       "layout": "IPY_MODEL_a12010bd66d848e5821088594fa2caae",
       "max": 27,
       "style": "IPY_MODEL_9b14746c19ab4200a070b09e9bfca068",
       "value": 27
      }
     },
     "3a342a5e2890424482680121a5a1b3a7": {
      "model_module": "@jupyter-widgets/base",
      "model_module_version": "2.0.0",
      "model_name": "LayoutModel",
      "state": {}
     },
     "3c0a547e555e4f8c802561dee8ed27f3": {
      "model_module": "@jupyter-widgets/controls",
      "model_module_version": "2.0.0",
      "model_name": "HTMLStyleModel",
      "state": {
       "description_width": "",
       "font_size": null,
       "text_color": null
      }
     },
     "3ceddd588e084b62869ead001f4fd9f0": {
      "model_module": "@jupyter-widgets/base",
      "model_module_version": "2.0.0",
      "model_name": "LayoutModel",
      "state": {}
     },
     "3d02c930e4a04535b43385042c069895": {
      "model_module": "@jupyter-widgets/controls",
      "model_module_version": "2.0.0",
      "model_name": "HTMLModel",
      "state": {
       "layout": "IPY_MODEL_eb6d94ae197a450f9204218470eadc9f",
       "style": "IPY_MODEL_6a1bcdf31df54a4d92ae0fe641d6c8de",
       "value": " 100/103 [00:18&lt;00:00,  4.56it/s]"
      }
     },
     "3d8bd6d97cf343dd992da94baecb8df3": {
      "model_module": "@jupyter-widgets/controls",
      "model_module_version": "2.0.0",
      "model_name": "HTMLModel",
      "state": {
       "layout": "IPY_MODEL_3062f63244f94f56baee96247c9421a5",
       "style": "IPY_MODEL_d9d679716df846348f4cfd91dbe16464",
       "value": " 98%"
      }
     },
     "3df358625d06452d9e2dd6872a003628": {
      "model_module": "@jupyter-widgets/base",
      "model_module_version": "2.0.0",
      "model_name": "LayoutModel",
      "state": {}
     },
     "3e544e9284174e7e8a2b5c52fd315f5d": {
      "model_module": "@jupyter-widgets/controls",
      "model_module_version": "2.0.0",
      "model_name": "HBoxModel",
      "state": {
       "children": [
        "IPY_MODEL_235b4085d3334ad5a46f71bc2d316ed9",
        "IPY_MODEL_7d7e8d0a9dad47f5ac31f864b3602ffa",
        "IPY_MODEL_fff37e753ba74fafad69ba611b833e04"
       ],
       "layout": "IPY_MODEL_23fa4648e6a84d57a5a114acf6a2b0b7"
      }
     },
     "3ec10048fb324b39a1b1b44f5007b990": {
      "model_module": "@jupyter-widgets/base",
      "model_module_version": "2.0.0",
      "model_name": "LayoutModel",
      "state": {}
     },
     "43764ec9e9d24368a469f51d6d7c7289": {
      "model_module": "@jupyter-widgets/base",
      "model_module_version": "2.0.0",
      "model_name": "LayoutModel",
      "state": {}
     },
     "456a250b926c44ea8b3de69be336444c": {
      "model_module": "@jupyter-widgets/controls",
      "model_module_version": "2.0.0",
      "model_name": "HTMLStyleModel",
      "state": {
       "description_width": "",
       "font_size": null,
       "text_color": null
      }
     },
     "4603e7699967425f9d54dbf673c84d20": {
      "model_module": "@jupyter-widgets/controls",
      "model_module_version": "2.0.0",
      "model_name": "HTMLModel",
      "state": {
       "layout": "IPY_MODEL_7a338ec1a834438a81aac865beb5100d",
       "style": "IPY_MODEL_c5fd444e00214549924b80a168c9efe2",
       "value": " 76/79 [00:11&lt;00:00,  7.48it/s]"
      }
     },
     "4618d0e78f3f43dda799553dbfd12e17": {
      "model_module": "@jupyter-widgets/controls",
      "model_module_version": "2.0.0",
      "model_name": "HTMLStyleModel",
      "state": {
       "description_width": "",
       "font_size": null,
       "text_color": null
      }
     },
     "482dbb67b9314901abed4f56968c2e81": {
      "model_module": "@jupyter-widgets/controls",
      "model_module_version": "2.0.0",
      "model_name": "FloatProgressModel",
      "state": {
       "layout": "IPY_MODEL_3ec10048fb324b39a1b1b44f5007b990",
       "max": 103,
       "style": "IPY_MODEL_f45220db966a4c658217b270a2374302",
       "value": 103
      }
     },
     "48b3fe921a0d453c847f17495ab268fd": {
      "model_module": "@jupyter-widgets/base",
      "model_module_version": "2.0.0",
      "model_name": "LayoutModel",
      "state": {}
     },
     "494799ada2814119a1ae4958ec8a2756": {
      "model_module": "@jupyter-widgets/base",
      "model_module_version": "2.0.0",
      "model_name": "LayoutModel",
      "state": {}
     },
     "49badd4ff5684cd2affcab64a602899a": {
      "model_module": "@jupyter-widgets/controls",
      "model_module_version": "2.0.0",
      "model_name": "HTMLStyleModel",
      "state": {
       "description_width": "",
       "font_size": null,
       "text_color": null
      }
     },
     "4b6151a68efc4556998af9257e4d5a95": {
      "model_module": "@jupyter-widgets/controls",
      "model_module_version": "2.0.0",
      "model_name": "HTMLStyleModel",
      "state": {
       "description_width": "",
       "font_size": null,
       "text_color": null
      }
     },
     "4b6ea70eaf8641648ab7fa19689d95ee": {
      "model_module": "@jupyter-widgets/controls",
      "model_module_version": "2.0.0",
      "model_name": "FloatProgressModel",
      "state": {
       "layout": "IPY_MODEL_a176d0078bab4930b61fb8be035036a0",
       "max": 103,
       "style": "IPY_MODEL_a645c07c3d1b44ecaf45af0e436b1c3d",
       "value": 103
      }
     },
     "4b8815e3ced749ad8bf6a5d211a4a527": {
      "model_module": "@jupyter-widgets/base",
      "model_module_version": "2.0.0",
      "model_name": "LayoutModel",
      "state": {}
     },
     "4b9e7ee288494e84865854f947e7f968": {
      "model_module": "@jupyter-widgets/controls",
      "model_module_version": "2.0.0",
      "model_name": "ProgressStyleModel",
      "state": {
       "description_width": ""
      }
     },
     "4c06a8f511f14c899d875ac08539935f": {
      "model_module": "@jupyter-widgets/controls",
      "model_module_version": "2.0.0",
      "model_name": "HTMLModel",
      "state": {
       "layout": "IPY_MODEL_0c7a6d161cd84333826cd0a3b9634539",
       "style": "IPY_MODEL_4d79a6592e07442da98d834033f15b9d",
       "value": " 172/172 [00:53&lt;00:00,  4.90it/s]"
      }
     },
     "4d79a6592e07442da98d834033f15b9d": {
      "model_module": "@jupyter-widgets/controls",
      "model_module_version": "2.0.0",
      "model_name": "HTMLStyleModel",
      "state": {
       "description_width": "",
       "font_size": null,
       "text_color": null
      }
     },
     "4e128bcc5e754bb8ac279c26f7892b9d": {
      "model_module": "@jupyter-widgets/controls",
      "model_module_version": "2.0.0",
      "model_name": "FloatProgressModel",
      "state": {
       "bar_style": "danger",
       "layout": "IPY_MODEL_a524e88e7e2b43e7af2d3d6d0ff802a9",
       "max": 10,
       "style": "IPY_MODEL_75a5aa375c874a0ca67303697381e014",
       "value": 7
      }
     },
     "4e3b65328dff4c1a84c34450b6a6f960": {
      "model_module": "@jupyter-widgets/base",
      "model_module_version": "2.0.0",
      "model_name": "LayoutModel",
      "state": {
       "visibility": "hidden"
      }
     },
     "4edcd685df824cb3adb0cf21b7ecb683": {
      "model_module": "@jupyter-widgets/base",
      "model_module_version": "2.0.0",
      "model_name": "LayoutModel",
      "state": {}
     },
     "4f04ac6411234d8aad802ba3cfc29833": {
      "model_module": "@jupyter-widgets/controls",
      "model_module_version": "2.0.0",
      "model_name": "HTMLModel",
      "state": {
       "layout": "IPY_MODEL_3df358625d06452d9e2dd6872a003628",
       "style": "IPY_MODEL_97558858421749158124e84490d0dc25",
       "value": " 98%"
      }
     },
     "5062520dc9a84ebb9d280511416a0211": {
      "model_module": "@jupyter-widgets/controls",
      "model_module_version": "2.0.0",
      "model_name": "HTMLModel",
      "state": {
       "layout": "IPY_MODEL_fb78cf3066944ffb86479ecd20d5d773",
       "style": "IPY_MODEL_a970f0c63a3d4aaea4848d0c5faae64b",
       "value": " 99%"
      }
     },
     "51d95e7abb6b4cb0bf503444101e0648": {
      "model_module": "@jupyter-widgets/controls",
      "model_module_version": "2.0.0",
      "model_name": "FloatProgressModel",
      "state": {
       "layout": "IPY_MODEL_7dd17e2bffd44055be73683a786881a6",
       "max": 47,
       "style": "IPY_MODEL_8245c94fda8148a9b9110c9e66710932",
       "value": 47
      }
     },
     "521bfd5326f246d6bd5c2f858156b01f": {
      "model_module": "@jupyter-widgets/controls",
      "model_module_version": "2.0.0",
      "model_name": "HBoxModel",
      "state": {
       "children": [
        "IPY_MODEL_a19e62ab1e174b59bd17b361c01e2942",
        "IPY_MODEL_4e128bcc5e754bb8ac279c26f7892b9d",
        "IPY_MODEL_f6022356139a4edf8acc952b60b6c378"
       ],
       "layout": "IPY_MODEL_43764ec9e9d24368a469f51d6d7c7289"
      }
     },
     "533f805e1ce245ff901ae91301e6ea3c": {
      "model_module": "@jupyter-widgets/controls",
      "model_module_version": "2.0.0",
      "model_name": "HTMLStyleModel",
      "state": {
       "description_width": "",
       "font_size": null,
       "text_color": null
      }
     },
     "55d6b44833724e2183bafd1e6b79a495": {
      "model_module": "@jupyter-widgets/base",
      "model_module_version": "2.0.0",
      "model_name": "LayoutModel",
      "state": {
       "visibility": "hidden"
      }
     },
     "5bd1148e43724268ab8d9d8a67ea8116": {
      "model_module": "@jupyter-widgets/controls",
      "model_module_version": "2.0.0",
      "model_name": "HTMLModel",
      "state": {
       "layout": "IPY_MODEL_74cf5304f53d4b04a2901c04094b31fc",
       "style": "IPY_MODEL_226c3a8a5bcb47eda521d2e220c37a64",
       "value": " 119/121 [00:06&lt;00:00, 20.58it/s]"
      }
     },
     "5f3f0b6895f04418a6b030efbb056fe2": {
      "model_module": "@jupyter-widgets/controls",
      "model_module_version": "2.0.0",
      "model_name": "HTMLStyleModel",
      "state": {
       "description_width": "",
       "font_size": null,
       "text_color": null
      }
     },
     "612d7a7a7e954ad09ceee16f27271b35": {
      "model_module": "@jupyter-widgets/controls",
      "model_module_version": "2.0.0",
      "model_name": "HTMLModel",
      "state": {
       "layout": "IPY_MODEL_a5b6ca7efe57417982f1274569fab406",
       "style": "IPY_MODEL_3c0a547e555e4f8c802561dee8ed27f3",
       "value": " 98%"
      }
     },
     "6761bc2550a14e6d8fcaedea8b391f21": {
      "model_module": "@jupyter-widgets/controls",
      "model_module_version": "2.0.0",
      "model_name": "ProgressStyleModel",
      "state": {
       "description_width": ""
      }
     },
     "68970aeeaded40f59fd5048730e3d29a": {
      "model_module": "@jupyter-widgets/base",
      "model_module_version": "2.0.0",
      "model_name": "LayoutModel",
      "state": {}
     },
     "69b69a1b8d0541acbab0dfa3c866db5b": {
      "model_module": "@jupyter-widgets/controls",
      "model_module_version": "2.0.0",
      "model_name": "ProgressStyleModel",
      "state": {
       "description_width": ""
      }
     },
     "6a1bcdf31df54a4d92ae0fe641d6c8de": {
      "model_module": "@jupyter-widgets/controls",
      "model_module_version": "2.0.0",
      "model_name": "HTMLStyleModel",
      "state": {
       "description_width": "",
       "font_size": null,
       "text_color": null
      }
     },
     "6a3069693f564f2fb3aeac9b3dbbbf48": {
      "model_module": "@jupyter-widgets/base",
      "model_module_version": "2.0.0",
      "model_name": "LayoutModel",
      "state": {
       "visibility": "hidden"
      }
     },
     "6a7afcf531e942aebc905f040f73f205": {
      "model_module": "@jupyter-widgets/controls",
      "model_module_version": "2.0.0",
      "model_name": "HTMLModel",
      "state": {
       "layout": "IPY_MODEL_a9bef004fe3647d6952d0db34d167885",
       "style": "IPY_MODEL_bcd7d485a8484e4a813c84363a013a24",
       "value": " 103/103 [00:18&lt;00:00,  8.13it/s]"
      }
     },
     "6a94564519cf4f8fa239a93a4a0ca6ab": {
      "model_module": "@jupyter-widgets/base",
      "model_module_version": "2.0.0",
      "model_name": "LayoutModel",
      "state": {}
     },
     "6dedf59f1eab47e3909be5cb6c36cd2a": {
      "model_module": "@jupyter-widgets/controls",
      "model_module_version": "2.0.0",
      "model_name": "HBoxModel",
      "state": {
       "children": [
        "IPY_MODEL_261ad0ad41184328b0d276563530a8cc",
        "IPY_MODEL_85bebac0687f4e7ba3cf63bd69a1aafe",
        "IPY_MODEL_8a20447b456a437986827c8de67c3c94"
       ],
       "layout": "IPY_MODEL_91bc8910337245d38f46c42640ccc1b2"
      }
     },
     "6fafa6df89174a80bcc4bd7d92c7ce4c": {
      "model_module": "@jupyter-widgets/base",
      "model_module_version": "2.0.0",
      "model_name": "LayoutModel",
      "state": {}
     },
     "707e75a653df4029ad78a7a9be6e7b2a": {
      "model_module": "@jupyter-widgets/controls",
      "model_module_version": "2.0.0",
      "model_name": "ProgressStyleModel",
      "state": {
       "description_width": ""
      }
     },
     "711575d9e5c345aa8f8cf71c0181d0e2": {
      "model_module": "@jupyter-widgets/controls",
      "model_module_version": "2.0.0",
      "model_name": "HTMLStyleModel",
      "state": {
       "description_width": "",
       "font_size": null,
       "text_color": null
      }
     },
     "732787bf7cad43a396a411ac5375f595": {
      "model_module": "@jupyter-widgets/controls",
      "model_module_version": "2.0.0",
      "model_name": "HTMLStyleModel",
      "state": {
       "description_width": "",
       "font_size": null,
       "text_color": null
      }
     },
     "734ada5aed10448b8ca25d673b38b0aa": {
      "model_module": "@jupyter-widgets/controls",
      "model_module_version": "2.0.0",
      "model_name": "HTMLStyleModel",
      "state": {
       "description_width": "",
       "font_size": null,
       "text_color": null
      }
     },
     "73e4415497464c0d969d46469abf0bac": {
      "model_module": "@jupyter-widgets/base",
      "model_module_version": "2.0.0",
      "model_name": "LayoutModel",
      "state": {}
     },
     "73f4e036927d458d8a221cb2f852601e": {
      "model_module": "@jupyter-widgets/controls",
      "model_module_version": "2.0.0",
      "model_name": "FloatProgressModel",
      "state": {
       "layout": "IPY_MODEL_87bac34b149c4930b1eedbd1ad6dec97",
       "max": 134,
       "style": "IPY_MODEL_16cd7face0c7464da6033d03ea868b6b",
       "value": 134
      }
     },
     "7499c90e9a0949d8a8d6e381b7746e7f": {
      "model_module": "@jupyter-widgets/base",
      "model_module_version": "2.0.0",
      "model_name": "LayoutModel",
      "state": {
       "visibility": "hidden"
      }
     },
     "7499d878a24b4bc0a5ec26d4cd989ad7": {
      "model_module": "@jupyter-widgets/base",
      "model_module_version": "2.0.0",
      "model_name": "LayoutModel",
      "state": {}
     },
     "74cf5304f53d4b04a2901c04094b31fc": {
      "model_module": "@jupyter-widgets/base",
      "model_module_version": "2.0.0",
      "model_name": "LayoutModel",
      "state": {}
     },
     "75a5aa375c874a0ca67303697381e014": {
      "model_module": "@jupyter-widgets/controls",
      "model_module_version": "2.0.0",
      "model_name": "ProgressStyleModel",
      "state": {
       "description_width": ""
      }
     },
     "7634f4df110146c98e2e47b9cde7558f": {
      "model_module": "@jupyter-widgets/controls",
      "model_module_version": "2.0.0",
      "model_name": "HTMLModel",
      "state": {
       "layout": "IPY_MODEL_025aea95ee2143ff836e9e245b00b964",
       "style": "IPY_MODEL_4618d0e78f3f43dda799553dbfd12e17",
       "value": " 89%"
      }
     },
     "77f564f3e35e40ae8fa305092475994d": {
      "model_module": "@jupyter-widgets/base",
      "model_module_version": "2.0.0",
      "model_name": "LayoutModel",
      "state": {
       "visibility": "hidden"
      }
     },
     "7a338ec1a834438a81aac865beb5100d": {
      "model_module": "@jupyter-widgets/base",
      "model_module_version": "2.0.0",
      "model_name": "LayoutModel",
      "state": {}
     },
     "7bf4d8108cb94b42914b546e3e5107f0": {
      "model_module": "@jupyter-widgets/controls",
      "model_module_version": "2.0.0",
      "model_name": "HTMLStyleModel",
      "state": {
       "description_width": "",
       "font_size": null,
       "text_color": null
      }
     },
     "7c2e5497574d4aa8b7da4750824ef911": {
      "model_module": "@jupyter-widgets/base",
      "model_module_version": "2.0.0",
      "model_name": "LayoutModel",
      "state": {
       "visibility": "hidden"
      }
     },
     "7d54025c2ca347b1b25b7577c2aad12f": {
      "model_module": "@jupyter-widgets/controls",
      "model_module_version": "2.0.0",
      "model_name": "HTMLStyleModel",
      "state": {
       "description_width": "",
       "font_size": null,
       "text_color": null
      }
     },
     "7d7e8d0a9dad47f5ac31f864b3602ffa": {
      "model_module": "@jupyter-widgets/controls",
      "model_module_version": "2.0.0",
      "model_name": "FloatProgressModel",
      "state": {
       "bar_style": "success",
       "layout": "IPY_MODEL_8523444be7cc4a0ca3b337f61e6f23b5",
       "max": 10,
       "style": "IPY_MODEL_266ac3de7bf0425a8704db063a377005",
       "value": 10
      }
     },
     "7dd17e2bffd44055be73683a786881a6": {
      "model_module": "@jupyter-widgets/base",
      "model_module_version": "2.0.0",
      "model_name": "LayoutModel",
      "state": {}
     },
     "8245c94fda8148a9b9110c9e66710932": {
      "model_module": "@jupyter-widgets/controls",
      "model_module_version": "2.0.0",
      "model_name": "ProgressStyleModel",
      "state": {
       "description_width": ""
      }
     },
     "824dad9af2ff40cb82192ad47afbfb81": {
      "model_module": "@jupyter-widgets/controls",
      "model_module_version": "2.0.0",
      "model_name": "HTMLModel",
      "state": {
       "layout": "IPY_MODEL_330044a8f11348e19d5553d849e3916f",
       "style": "IPY_MODEL_d6abfcae4b224a47b17cae652c42056c",
       "value": " 81%"
      }
     },
     "83b199618b2f45ad9483a5769d25bb1b": {
      "model_module": "@jupyter-widgets/controls",
      "model_module_version": "2.0.0",
      "model_name": "HTMLStyleModel",
      "state": {
       "description_width": "",
       "font_size": null,
       "text_color": null
      }
     },
     "840bbc7f0efe4a96bcf026eb191de358": {
      "model_module": "@jupyter-widgets/controls",
      "model_module_version": "2.0.0",
      "model_name": "FloatProgressModel",
      "state": {
       "layout": "IPY_MODEL_09430592e5a9477f841ff387625bda7e",
       "max": 88,
       "style": "IPY_MODEL_29123b83f44f4aebb1010b40f5dc6d77",
       "value": 88
      }
     },
     "8523444be7cc4a0ca3b337f61e6f23b5": {
      "model_module": "@jupyter-widgets/base",
      "model_module_version": "2.0.0",
      "model_name": "LayoutModel",
      "state": {}
     },
     "852e0f61b49b4d13a05afd55c5e30e59": {
      "model_module": "@jupyter-widgets/controls",
      "model_module_version": "2.0.0",
      "model_name": "HTMLStyleModel",
      "state": {
       "description_width": "",
       "font_size": null,
       "text_color": null
      }
     },
     "85b99de96bb14b52915bef71b57b4a9f": {
      "model_module": "@jupyter-widgets/controls",
      "model_module_version": "2.0.0",
      "model_name": "HTMLModel",
      "state": {
       "layout": "IPY_MODEL_12f09bf33922461394e67d813a440a6a",
       "style": "IPY_MODEL_ff98dc64d5464994bf2a8573d051d647",
       "value": " 77/79 [00:11&lt;00:00,  7.78it/s]"
      }
     },
     "85bebac0687f4e7ba3cf63bd69a1aafe": {
      "model_module": "@jupyter-widgets/controls",
      "model_module_version": "2.0.0",
      "model_name": "FloatProgressModel",
      "state": {
       "bar_style": "danger",
       "layout": "IPY_MODEL_fd63706066554627ad828ae5ac0f3855",
       "max": 9,
       "style": "IPY_MODEL_6761bc2550a14e6d8fcaedea8b391f21"
      }
     },
     "85e481932d1948f3b91cbe577555560a": {
      "model_module": "@jupyter-widgets/controls",
      "model_module_version": "2.0.0",
      "model_name": "FloatProgressModel",
      "state": {
       "layout": "IPY_MODEL_c06e80926c5f42d68a53b594a926a8a0",
       "max": 172,
       "style": "IPY_MODEL_69b69a1b8d0541acbab0dfa3c866db5b",
       "value": 172
      }
     },
     "861eb2c15d9e472f9cdce8aef5d5697d": {
      "model_module": "@jupyter-widgets/controls",
      "model_module_version": "2.0.0",
      "model_name": "HTMLModel",
      "state": {
       "layout": "IPY_MODEL_6fafa6df89174a80bcc4bd7d92c7ce4c",
       "style": "IPY_MODEL_7bf4d8108cb94b42914b546e3e5107f0",
       "value": " 97%"
      }
     },
     "87966345c8654311920802647f95097e": {
      "model_module": "@jupyter-widgets/controls",
      "model_module_version": "2.0.0",
      "model_name": "HTMLStyleModel",
      "state": {
       "description_width": "",
       "font_size": null,
       "text_color": null
      }
     },
     "87bac34b149c4930b1eedbd1ad6dec97": {
      "model_module": "@jupyter-widgets/base",
      "model_module_version": "2.0.0",
      "model_name": "LayoutModel",
      "state": {}
     },
     "894bed52c24d4a0cac0607da38ce631d": {
      "model_module": "@jupyter-widgets/controls",
      "model_module_version": "2.0.0",
      "model_name": "HTMLModel",
      "state": {
       "layout": "IPY_MODEL_248e89bf6fdc4bab8796b25b1a1b540f",
       "style": "IPY_MODEL_7d54025c2ca347b1b25b7577c2aad12f",
       "value": "100%"
      }
     },
     "898f5e5f6eb14a9db9ba1708032b8e6c": {
      "model_module": "@jupyter-widgets/controls",
      "model_module_version": "2.0.0",
      "model_name": "HTMLModel",
      "state": {
       "layout": "IPY_MODEL_b7017ea596384c8eadbb8a7b776fce9d",
       "style": "IPY_MODEL_ba962ade821e4e779aeac53cee857aff",
       "value": " 118/121 [00:06&lt;00:00, 20.12it/s]"
      }
     },
     "8a20447b456a437986827c8de67c3c94": {
      "model_module": "@jupyter-widgets/controls",
      "model_module_version": "2.0.0",
      "model_name": "HTMLModel",
      "state": {
       "layout": "IPY_MODEL_c6635dce7c884d73a40b92d98f91c2ac",
       "style": "IPY_MODEL_ff7fb3df7f8d4c59af7f0cc235bd2167",
       "value": " 0/9 [44:02&lt;?, ?it/s]"
      }
     },
     "8b0cd26a593b4fd3a108c187b4dafd70": {
      "model_module": "@jupyter-widgets/base",
      "model_module_version": "2.0.0",
      "model_name": "LayoutModel",
      "state": {
       "visibility": "hidden"
      }
     },
     "8f745dac76874dbd8ab635d2fc419426": {
      "model_module": "@jupyter-widgets/controls",
      "model_module_version": "2.0.0",
      "model_name": "ProgressStyleModel",
      "state": {
       "description_width": ""
      }
     },
     "91bc8910337245d38f46c42640ccc1b2": {
      "model_module": "@jupyter-widgets/base",
      "model_module_version": "2.0.0",
      "model_name": "LayoutModel",
      "state": {}
     },
     "925ccca912cd44ac8688c3ccdfe99b86": {
      "model_module": "@jupyter-widgets/controls",
      "model_module_version": "2.0.0",
      "model_name": "HTMLStyleModel",
      "state": {
       "description_width": "",
       "font_size": null,
       "text_color": null
      }
     },
     "931b32c44a904046bad02e8f40af07b8": {
      "model_module": "@jupyter-widgets/controls",
      "model_module_version": "2.0.0",
      "model_name": "HTMLModel",
      "state": {
       "layout": "IPY_MODEL_f7aec3b1895d4deb83800b1a329c4e5c",
       "style": "IPY_MODEL_159b97ed4b6d4dee8d5373ba5e83439c",
       "value": " 86/88 [00:21&lt;00:00,  4.49it/s]"
      }
     },
     "947a4d55ab2742b4b0f5689d0363cfa1": {
      "model_module": "@jupyter-widgets/controls",
      "model_module_version": "2.0.0",
      "model_name": "HTMLModel",
      "state": {
       "layout": "IPY_MODEL_b273e824898a41fd9ce1d663af2dc97d",
       "style": "IPY_MODEL_b913eabe75864581a8e1bad1c712353a",
       "value": " 99%"
      }
     },
     "94ec485e80264bc4a770fca65cad4cb2": {
      "model_module": "@jupyter-widgets/base",
      "model_module_version": "2.0.0",
      "model_name": "LayoutModel",
      "state": {}
     },
     "97558858421749158124e84490d0dc25": {
      "model_module": "@jupyter-widgets/controls",
      "model_module_version": "2.0.0",
      "model_name": "HTMLStyleModel",
      "state": {
       "description_width": "",
       "font_size": null,
       "text_color": null
      }
     },
     "97f892c19ad2417080ab22ba5f269759": {
      "model_module": "@jupyter-widgets/base",
      "model_module_version": "2.0.0",
      "model_name": "LayoutModel",
      "state": {}
     },
     "9a0c2305e0914c2eb939ca58af73c3b5": {
      "model_module": "@jupyter-widgets/controls",
      "model_module_version": "2.0.0",
      "model_name": "HTMLStyleModel",
      "state": {
       "description_width": "",
       "font_size": null,
       "text_color": null
      }
     },
     "9a3a91b4eab1417aa8ba4e28ad98ed3b": {
      "model_module": "@jupyter-widgets/base",
      "model_module_version": "2.0.0",
      "model_name": "LayoutModel",
      "state": {}
     },
     "9b14746c19ab4200a070b09e9bfca068": {
      "model_module": "@jupyter-widgets/controls",
      "model_module_version": "2.0.0",
      "model_name": "ProgressStyleModel",
      "state": {
       "description_width": ""
      }
     },
     "9c9c69893e0f4e15a493d392c488cc53": {
      "model_module": "@jupyter-widgets/controls",
      "model_module_version": "2.0.0",
      "model_name": "HTMLModel",
      "state": {
       "layout": "IPY_MODEL_a8ec670b21fe4677ada7d81dfe28fa0c",
       "style": "IPY_MODEL_5f3f0b6895f04418a6b030efbb056fe2",
       "value": " 172/172 [00:53&lt;00:00,  4.92it/s]"
      }
     },
     "9d8104ed09654cb7aa3d1ef837fbbfc2": {
      "model_module": "@jupyter-widgets/base",
      "model_module_version": "2.0.0",
      "model_name": "LayoutModel",
      "state": {
       "visibility": "hidden"
      }
     },
     "9ef7903f5d854322ba86af5643dc64f4": {
      "model_module": "@jupyter-widgets/controls",
      "model_module_version": "2.0.0",
      "model_name": "ProgressStyleModel",
      "state": {
       "description_width": ""
      }
     },
     "9f6ef4cd199e4812b2533129969fd392": {
      "model_module": "@jupyter-widgets/controls",
      "model_module_version": "2.0.0",
      "model_name": "HTMLModel",
      "state": {
       "layout": "IPY_MODEL_20f1a31582a04639904480ddd5953153",
       "style": "IPY_MODEL_83b199618b2f45ad9483a5769d25bb1b",
       "value": " 102/103 [00:20&lt;00:00,  7.10it/s]"
      }
     },
     "9fc0e236c3cd413a8d5fbb192425da92": {
      "model_module": "@jupyter-widgets/controls",
      "model_module_version": "2.0.0",
      "model_name": "HTMLModel",
      "state": {
       "layout": "IPY_MODEL_c5226520f2034a2f81cdd5f780cfa606",
       "style": "IPY_MODEL_87966345c8654311920802647f95097e",
       "value": " 23/27 [00:00&lt;00:00, 39.24it/s]"
      }
     },
     "a12010bd66d848e5821088594fa2caae": {
      "model_module": "@jupyter-widgets/base",
      "model_module_version": "2.0.0",
      "model_name": "LayoutModel",
      "state": {}
     },
     "a176d0078bab4930b61fb8be035036a0": {
      "model_module": "@jupyter-widgets/base",
      "model_module_version": "2.0.0",
      "model_name": "LayoutModel",
      "state": {}
     },
     "a19e62ab1e174b59bd17b361c01e2942": {
      "model_module": "@jupyter-widgets/controls",
      "model_module_version": "2.0.0",
      "model_name": "HTMLModel",
      "state": {
       "layout": "IPY_MODEL_7499d878a24b4bc0a5ec26d4cd989ad7",
       "style": "IPY_MODEL_30e90514806b4e01bdf7c3f860a2351f",
       "value": " 70%"
      }
     },
     "a524e88e7e2b43e7af2d3d6d0ff802a9": {
      "model_module": "@jupyter-widgets/base",
      "model_module_version": "2.0.0",
      "model_name": "LayoutModel",
      "state": {}
     },
     "a5b6ca7efe57417982f1274569fab406": {
      "model_module": "@jupyter-widgets/base",
      "model_module_version": "2.0.0",
      "model_name": "LayoutModel",
      "state": {}
     },
     "a645c07c3d1b44ecaf45af0e436b1c3d": {
      "model_module": "@jupyter-widgets/controls",
      "model_module_version": "2.0.0",
      "model_name": "ProgressStyleModel",
      "state": {
       "description_width": ""
      }
     },
     "a65dbe59dab84373938ba9476be0d656": {
      "model_module": "@jupyter-widgets/controls",
      "model_module_version": "2.0.0",
      "model_name": "HTMLModel",
      "state": {
       "layout": "IPY_MODEL_68970aeeaded40f59fd5048730e3d29a",
       "style": "IPY_MODEL_e4e85bce49854365bcf4beb0ec6b7e08",
       "value": " 101/103 [00:20&lt;00:00,  5.63it/s]"
      }
     },
     "a6ab3f85b12545489ea2ea2e6ef40131": {
      "model_module": "@jupyter-widgets/controls",
      "model_module_version": "2.0.0",
      "model_name": "HTMLModel",
      "state": {
       "layout": "IPY_MODEL_9a3a91b4eab1417aa8ba4e28ad98ed3b",
       "style": "IPY_MODEL_f58b8a109f644932a1c75728e14d299e",
       "value": " 133/134 [01:00&lt;00:00,  2.75it/s]"
      }
     },
     "a87e03e1947749a08c8677b2ac071ba7": {
      "model_module": "@jupyter-widgets/controls",
      "model_module_version": "2.0.0",
      "model_name": "ProgressStyleModel",
      "state": {
       "description_width": ""
      }
     },
     "a8ec670b21fe4677ada7d81dfe28fa0c": {
      "model_module": "@jupyter-widgets/base",
      "model_module_version": "2.0.0",
      "model_name": "LayoutModel",
      "state": {}
     },
     "a8f69a8379a246b083338bd437fd62ca": {
      "model_module": "@jupyter-widgets/base",
      "model_module_version": "2.0.0",
      "model_name": "LayoutModel",
      "state": {}
     },
     "a970f0c63a3d4aaea4848d0c5faae64b": {
      "model_module": "@jupyter-widgets/controls",
      "model_module_version": "2.0.0",
      "model_name": "HTMLStyleModel",
      "state": {
       "description_width": "",
       "font_size": null,
       "text_color": null
      }
     },
     "a9bef004fe3647d6952d0db34d167885": {
      "model_module": "@jupyter-widgets/base",
      "model_module_version": "2.0.0",
      "model_name": "LayoutModel",
      "state": {}
     },
     "acdd52b7092d4e37bad07232d1deb420": {
      "model_module": "@jupyter-widgets/controls",
      "model_module_version": "2.0.0",
      "model_name": "HTMLStyleModel",
      "state": {
       "description_width": "",
       "font_size": null,
       "text_color": null
      }
     },
     "b201e23207784d91aa2893f74a7a3856": {
      "model_module": "@jupyter-widgets/controls",
      "model_module_version": "2.0.0",
      "model_name": "FloatProgressModel",
      "state": {
       "layout": "IPY_MODEL_97f892c19ad2417080ab22ba5f269759",
       "max": 121,
       "style": "IPY_MODEL_9ef7903f5d854322ba86af5643dc64f4",
       "value": 121
      }
     },
     "b273e824898a41fd9ce1d663af2dc97d": {
      "model_module": "@jupyter-widgets/base",
      "model_module_version": "2.0.0",
      "model_name": "LayoutModel",
      "state": {}
     },
     "b7017ea596384c8eadbb8a7b776fce9d": {
      "model_module": "@jupyter-widgets/base",
      "model_module_version": "2.0.0",
      "model_name": "LayoutModel",
      "state": {}
     },
     "b913eabe75864581a8e1bad1c712353a": {
      "model_module": "@jupyter-widgets/controls",
      "model_module_version": "2.0.0",
      "model_name": "HTMLStyleModel",
      "state": {
       "description_width": "",
       "font_size": null,
       "text_color": null
      }
     },
     "b9d935ee5b284d35b4a4b598eca2a2fd": {
      "model_module": "@jupyter-widgets/base",
      "model_module_version": "2.0.0",
      "model_name": "LayoutModel",
      "state": {
       "visibility": "hidden"
      }
     },
     "ba962ade821e4e779aeac53cee857aff": {
      "model_module": "@jupyter-widgets/controls",
      "model_module_version": "2.0.0",
      "model_name": "HTMLStyleModel",
      "state": {
       "description_width": "",
       "font_size": null,
       "text_color": null
      }
     },
     "bc98caba203e473191517f2a036416f0": {
      "model_module": "@jupyter-widgets/base",
      "model_module_version": "2.0.0",
      "model_name": "LayoutModel",
      "state": {}
     },
     "bcd7d485a8484e4a813c84363a013a24": {
      "model_module": "@jupyter-widgets/controls",
      "model_module_version": "2.0.0",
      "model_name": "HTMLStyleModel",
      "state": {
       "description_width": "",
       "font_size": null,
       "text_color": null
      }
     },
     "bf7272e634534c879273cc1c4a1db2f2": {
      "model_module": "@jupyter-widgets/base",
      "model_module_version": "2.0.0",
      "model_name": "LayoutModel",
      "state": {
       "visibility": "hidden"
      }
     },
     "c06e80926c5f42d68a53b594a926a8a0": {
      "model_module": "@jupyter-widgets/base",
      "model_module_version": "2.0.0",
      "model_name": "LayoutModel",
      "state": {}
     },
     "c1f8f8b512aa4e2d9b823edb47340a65": {
      "model_module": "@jupyter-widgets/base",
      "model_module_version": "2.0.0",
      "model_name": "LayoutModel",
      "state": {
       "visibility": "hidden"
      }
     },
     "c5226520f2034a2f81cdd5f780cfa606": {
      "model_module": "@jupyter-widgets/base",
      "model_module_version": "2.0.0",
      "model_name": "LayoutModel",
      "state": {}
     },
     "c58731ea5bcf46f9a41bdfed264f9b94": {
      "model_module": "@jupyter-widgets/base",
      "model_module_version": "2.0.0",
      "model_name": "LayoutModel",
      "state": {}
     },
     "c5fd444e00214549924b80a168c9efe2": {
      "model_module": "@jupyter-widgets/controls",
      "model_module_version": "2.0.0",
      "model_name": "HTMLStyleModel",
      "state": {
       "description_width": "",
       "font_size": null,
       "text_color": null
      }
     },
     "c6635dce7c884d73a40b92d98f91c2ac": {
      "model_module": "@jupyter-widgets/base",
      "model_module_version": "2.0.0",
      "model_name": "LayoutModel",
      "state": {}
     },
     "c794ffa4f0724ddbbcd875dbdd43a828": {
      "model_module": "@jupyter-widgets/controls",
      "model_module_version": "2.0.0",
      "model_name": "HTMLModel",
      "state": {
       "layout": "IPY_MODEL_3522442d15414006a994e0c111987d17",
       "style": "IPY_MODEL_734ada5aed10448b8ca25d673b38b0aa",
       "value": "100%"
      }
     },
     "c96a3846a906462a9be6dba61e1c958f": {
      "model_module": "@jupyter-widgets/controls",
      "model_module_version": "2.0.0",
      "model_name": "HTMLStyleModel",
      "state": {
       "description_width": "",
       "font_size": null,
       "text_color": null
      }
     },
     "ce5d3a3b3ad1497085a616a1985d0bc6": {
      "model_module": "@jupyter-widgets/controls",
      "model_module_version": "2.0.0",
      "model_name": "HTMLStyleModel",
      "state": {
       "description_width": "",
       "font_size": null,
       "text_color": null
      }
     },
     "d0d6f328c60f44b297a235a241d34a94": {
      "model_module": "@jupyter-widgets/base",
      "model_module_version": "2.0.0",
      "model_name": "LayoutModel",
      "state": {
       "visibility": "hidden"
      }
     },
     "d440581332c745d289fb3afe0aace016": {
      "model_module": "@jupyter-widgets/controls",
      "model_module_version": "2.0.0",
      "model_name": "HTMLModel",
      "state": {
       "layout": "IPY_MODEL_d67797ac71994580914d109f6fa2d647",
       "style": "IPY_MODEL_533f805e1ce245ff901ae91301e6ea3c",
       "value": " 98%"
      }
     },
     "d519758a104146218d1220ec37b051df": {
      "model_module": "@jupyter-widgets/controls",
      "model_module_version": "2.0.0",
      "model_name": "HTMLStyleModel",
      "state": {
       "description_width": "",
       "font_size": null,
       "text_color": null
      }
     },
     "d56a52ddd5da439e8393a394dafb3a94": {
      "model_module": "@jupyter-widgets/controls",
      "model_module_version": "2.0.0",
      "model_name": "HTMLModel",
      "state": {
       "layout": "IPY_MODEL_6a94564519cf4f8fa239a93a4a0ca6ab",
       "style": "IPY_MODEL_49badd4ff5684cd2affcab64a602899a",
       "value": "100%"
      }
     },
     "d67797ac71994580914d109f6fa2d647": {
      "model_module": "@jupyter-widgets/base",
      "model_module_version": "2.0.0",
      "model_name": "LayoutModel",
      "state": {}
     },
     "d67e529967ad4f1e9783a18bf7f5cac5": {
      "model_module": "@jupyter-widgets/controls",
      "model_module_version": "2.0.0",
      "model_name": "HTMLStyleModel",
      "state": {
       "description_width": "",
       "font_size": null,
       "text_color": null
      }
     },
     "d6abfcae4b224a47b17cae652c42056c": {
      "model_module": "@jupyter-widgets/controls",
      "model_module_version": "2.0.0",
      "model_name": "HTMLStyleModel",
      "state": {
       "description_width": "",
       "font_size": null,
       "text_color": null
      }
     },
     "d8d5549862804ff7944098e0d663cd0b": {
      "model_module": "@jupyter-widgets/base",
      "model_module_version": "2.0.0",
      "model_name": "LayoutModel",
      "state": {}
     },
     "d9d679716df846348f4cfd91dbe16464": {
      "model_module": "@jupyter-widgets/controls",
      "model_module_version": "2.0.0",
      "model_name": "HTMLStyleModel",
      "state": {
       "description_width": "",
       "font_size": null,
       "text_color": null
      }
     },
     "da19b67886fb47d0bc02bae38765c1ea": {
      "model_module": "@jupyter-widgets/controls",
      "model_module_version": "2.0.0",
      "model_name": "FloatProgressModel",
      "state": {
       "layout": "IPY_MODEL_494799ada2814119a1ae4958ec8a2756",
       "max": 103,
       "style": "IPY_MODEL_0e372614509041319778390e2687c589",
       "value": 103
      }
     },
     "db4ccc475d2642ab80d8a8a187906d0c": {
      "model_module": "@jupyter-widgets/controls",
      "model_module_version": "2.0.0",
      "model_name": "HTMLModel",
      "state": {
       "layout": "IPY_MODEL_0257c1c689c0470aa65f3a51c1c53108",
       "style": "IPY_MODEL_ce5d3a3b3ad1497085a616a1985d0bc6",
       "value": " 42/47 [00:05&lt;00:00,  8.03it/s]"
      }
     },
     "de7bec7545c84320b423bdc58343fdba": {
      "model_module": "@jupyter-widgets/controls",
      "model_module_version": "2.0.0",
      "model_name": "FloatProgressModel",
      "state": {
       "layout": "IPY_MODEL_f6648bc267364b9d9503d8147bcdbda0",
       "max": 27,
       "style": "IPY_MODEL_707e75a653df4029ad78a7a9be6e7b2a",
       "value": 27
      }
     },
     "df3d9d7f8c0a4050b81c3207a955ff07": {
      "model_module": "@jupyter-widgets/base",
      "model_module_version": "2.0.0",
      "model_name": "LayoutModel",
      "state": {
       "visibility": "hidden"
      }
     },
     "e05e5f4ee5cd4fb9a0430cd9c07d2167": {
      "model_module": "@jupyter-widgets/base",
      "model_module_version": "2.0.0",
      "model_name": "LayoutModel",
      "state": {}
     },
     "e372600752ea4d41bf311e323f95e322": {
      "model_module": "@jupyter-widgets/controls",
      "model_module_version": "2.0.0",
      "model_name": "FloatProgressModel",
      "state": {
       "layout": "IPY_MODEL_73e4415497464c0d969d46469abf0bac",
       "max": 121,
       "style": "IPY_MODEL_27a82d4926c141fca5a21474af79e973",
       "value": 121
      }
     },
     "e3f4b1135b144547a3eba17a37c37b74": {
      "model_module": "@jupyter-widgets/base",
      "model_module_version": "2.0.0",
      "model_name": "LayoutModel",
      "state": {}
     },
     "e4e85bce49854365bcf4beb0ec6b7e08": {
      "model_module": "@jupyter-widgets/controls",
      "model_module_version": "2.0.0",
      "model_name": "HTMLStyleModel",
      "state": {
       "description_width": "",
       "font_size": null,
       "text_color": null
      }
     },
     "e5ea3f9f0f904591af51646ba2b74125": {
      "model_module": "@jupyter-widgets/controls",
      "model_module_version": "2.0.0",
      "model_name": "FloatProgressModel",
      "state": {
       "layout": "IPY_MODEL_e3f4b1135b144547a3eba17a37c37b74",
       "max": 79,
       "style": "IPY_MODEL_1a9616803dc843319a645640a3ce8c54",
       "value": 79
      }
     },
     "e64192556f7b4057bf3567776099bc0f": {
      "model_module": "@jupyter-widgets/controls",
      "model_module_version": "2.0.0",
      "model_name": "HTMLModel",
      "state": {
       "layout": "IPY_MODEL_4edcd685df824cb3adb0cf21b7ecb683",
       "style": "IPY_MODEL_262b8f561b91416fbb697e6285c0d3be",
       "value": " 85%"
      }
     },
     "eb2f43a765fb4a9db40e87272d3d9977": {
      "model_module": "@jupyter-widgets/base",
      "model_module_version": "2.0.0",
      "model_name": "LayoutModel",
      "state": {}
     },
     "eb6d94ae197a450f9204218470eadc9f": {
      "model_module": "@jupyter-widgets/base",
      "model_module_version": "2.0.0",
      "model_name": "LayoutModel",
      "state": {}
     },
     "ec4cce3bb652447f8005b05c39161fe4": {
      "model_module": "@jupyter-widgets/controls",
      "model_module_version": "2.0.0",
      "model_name": "HTMLModel",
      "state": {
       "layout": "IPY_MODEL_3ceddd588e084b62869ead001f4fd9f0",
       "style": "IPY_MODEL_d67e529967ad4f1e9783a18bf7f5cac5",
       "value": " 22/27 [00:00&lt;00:00, 37.58it/s]"
      }
     },
     "ee42ea90655a4e1bb99030f6ab94c980": {
      "model_module": "@jupyter-widgets/controls",
      "model_module_version": "2.0.0",
      "model_name": "HTMLModel",
      "state": {
       "layout": "IPY_MODEL_d8d5549862804ff7944098e0d663cd0b",
       "style": "IPY_MODEL_925ccca912cd44ac8688c3ccdfe99b86",
       "value": " 45/47 [00:04&lt;00:00, 10.11it/s]"
      }
     },
     "f1553abdf2e242c6bc242dec3d8d56ec": {
      "model_module": "@jupyter-widgets/controls",
      "model_module_version": "2.0.0",
      "model_name": "HTMLModel",
      "state": {
       "layout": "IPY_MODEL_34694786d09f44308fb35b43e7077ed7",
       "style": "IPY_MODEL_acdd52b7092d4e37bad07232d1deb420",
       "value": "100%"
      }
     },
     "f1ea1d29c00f4a6d8d172b7236714b39": {
      "model_module": "@jupyter-widgets/controls",
      "model_module_version": "2.0.0",
      "model_name": "FloatProgressModel",
      "state": {
       "layout": "IPY_MODEL_37482534c3ec42af9ef7637b5d3a238c",
       "max": 172,
       "style": "IPY_MODEL_4b9e7ee288494e84865854f947e7f968",
       "value": 172
      }
     },
     "f45220db966a4c658217b270a2374302": {
      "model_module": "@jupyter-widgets/controls",
      "model_module_version": "2.0.0",
      "model_name": "ProgressStyleModel",
      "state": {
       "description_width": ""
      }
     },
     "f46d615c828048d9ad8c3cf648928d7d": {
      "model_module": "@jupyter-widgets/controls",
      "model_module_version": "2.0.0",
      "model_name": "FloatProgressModel",
      "state": {
       "layout": "IPY_MODEL_48b3fe921a0d453c847f17495ab268fd",
       "max": 79,
       "style": "IPY_MODEL_8f745dac76874dbd8ab635d2fc419426",
       "value": 79
      }
     },
     "f58b8a109f644932a1c75728e14d299e": {
      "model_module": "@jupyter-widgets/controls",
      "model_module_version": "2.0.0",
      "model_name": "HTMLStyleModel",
      "state": {
       "description_width": "",
       "font_size": null,
       "text_color": null
      }
     },
     "f6022356139a4edf8acc952b60b6c378": {
      "model_module": "@jupyter-widgets/controls",
      "model_module_version": "2.0.0",
      "model_name": "HTMLModel",
      "state": {
       "layout": "IPY_MODEL_4b8815e3ced749ad8bf6a5d211a4a527",
       "style": "IPY_MODEL_852e0f61b49b4d13a05afd55c5e30e59",
       "value": " 7/10 [44:02&lt;01:42, 34.03s/it]"
      }
     },
     "f6648bc267364b9d9503d8147bcdbda0": {
      "model_module": "@jupyter-widgets/base",
      "model_module_version": "2.0.0",
      "model_name": "LayoutModel",
      "state": {}
     },
     "f66da92b07284b83b23f738c765e64d4": {
      "model_module": "@jupyter-widgets/controls",
      "model_module_version": "2.0.0",
      "model_name": "FloatProgressModel",
      "state": {
       "layout": "IPY_MODEL_c58731ea5bcf46f9a41bdfed264f9b94",
       "max": 88,
       "style": "IPY_MODEL_169a489780d243619aa02dc498cdeefc",
       "value": 88
      }
     },
     "f7aec3b1895d4deb83800b1a329c4e5c": {
      "model_module": "@jupyter-widgets/base",
      "model_module_version": "2.0.0",
      "model_name": "LayoutModel",
      "state": {}
     },
     "fa342f2676fb4cfba67d2db7d3199e0d": {
      "model_module": "@jupyter-widgets/controls",
      "model_module_version": "2.0.0",
      "model_name": "ProgressStyleModel",
      "state": {
       "description_width": ""
      }
     },
     "fac655300f6b40edbdf78e847ee44c59": {
      "model_module": "@jupyter-widgets/controls",
      "model_module_version": "2.0.0",
      "model_name": "HTMLModel",
      "state": {
       "layout": "IPY_MODEL_a8f69a8379a246b083338bd437fd62ca",
       "style": "IPY_MODEL_711575d9e5c345aa8f8cf71c0181d0e2",
       "value": " 96%"
      }
     },
     "fb78cf3066944ffb86479ecd20d5d773": {
      "model_module": "@jupyter-widgets/base",
      "model_module_version": "2.0.0",
      "model_name": "LayoutModel",
      "state": {}
     },
     "fbbf5d2dd43a4a03aa5c3e825c9d7b92": {
      "model_module": "@jupyter-widgets/controls",
      "model_module_version": "2.0.0",
      "model_name": "HTMLModel",
      "state": {
       "layout": "IPY_MODEL_eb2f43a765fb4a9db40e87272d3d9977",
       "style": "IPY_MODEL_d519758a104146218d1220ec37b051df",
       "value": " 97%"
      }
     },
     "fbf50b4c057a476b8479819cd3a6b974": {
      "model_module": "@jupyter-widgets/controls",
      "model_module_version": "2.0.0",
      "model_name": "FloatProgressModel",
      "state": {
       "layout": "IPY_MODEL_bc98caba203e473191517f2a036416f0",
       "max": 103,
       "style": "IPY_MODEL_fa342f2676fb4cfba67d2db7d3199e0d",
       "value": 103
      }
     },
     "fd63706066554627ad828ae5ac0f3855": {
      "model_module": "@jupyter-widgets/base",
      "model_module_version": "2.0.0",
      "model_name": "LayoutModel",
      "state": {}
     },
     "ff7fb3df7f8d4c59af7f0cc235bd2167": {
      "model_module": "@jupyter-widgets/controls",
      "model_module_version": "2.0.0",
      "model_name": "HTMLStyleModel",
      "state": {
       "description_width": "",
       "font_size": null,
       "text_color": null
      }
     },
     "ff98dc64d5464994bf2a8573d051d647": {
      "model_module": "@jupyter-widgets/controls",
      "model_module_version": "2.0.0",
      "model_name": "HTMLStyleModel",
      "state": {
       "description_width": "",
       "font_size": null,
       "text_color": null
      }
     },
     "fff37e753ba74fafad69ba611b833e04": {
      "model_module": "@jupyter-widgets/controls",
      "model_module_version": "2.0.0",
      "model_name": "HTMLModel",
      "state": {
       "layout": "IPY_MODEL_2f3bcd08b53d4c35966595c06f0faa2b",
       "style": "IPY_MODEL_456a250b926c44ea8b3de69be336444c",
       "value": " 10/10 [00:03&lt;00:00,  2.02it/s]"
      }
     }
    },
    "version_major": 2,
    "version_minor": 0
   }
  }
 },
 "nbformat": 4,
 "nbformat_minor": 5
}
