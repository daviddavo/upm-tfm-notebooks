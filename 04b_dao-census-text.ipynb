{
 "cells": [
  {
   "cell_type": "code",
   "execution_count": 1,
   "id": "4068f1fa-1fd2-4c22-a6e1-7b3a70c9c17b",
   "metadata": {},
   "outputs": [],
   "source": [
    "import pandas as pd\n",
    "import numpy as np\n",
    "\n",
    "import duckdb"
   ]
  },
  {
   "cell_type": "code",
   "execution_count": 2,
   "id": "628d4a6e-a72d-49f7-b400-e02b37f820c3",
   "metadata": {},
   "outputs": [],
   "source": [
    "from src.datasets import daocensus_text, daocensus\n",
    "# from src.datasets"
   ]
  },
  {
   "cell_type": "code",
   "execution_count": 3,
   "id": "070ba963-aba0-4178-b105-fbbfa3d19ce9",
   "metadata": {},
   "outputs": [
    {
     "name": "stdout",
     "output_type": "stream",
     "text": [
      "<class 'pandas.core.frame.DataFrame'>\n",
      "RangeIndex: 116560 entries, 0 to 116559\n",
      "Data columns (total 10 columns):\n",
      " #   Column         Non-Null Count   Dtype         \n",
      "---  ------         --------------   -----         \n",
      " 0   platform       116560 non-null  object        \n",
      " 1   name           116560 non-null  object        \n",
      " 2   id             116560 non-null  object        \n",
      " 3   proposal       116560 non-null  category      \n",
      " 4   deployment     116560 non-null  object        \n",
      " 5   platform_vote  116560 non-null  object        \n",
      " 6   voter          116560 non-null  category      \n",
      " 7   date           116560 non-null  datetime64[ns]\n",
      " 8   choice         116560 non-null  object        \n",
      " 9   weight         116560 non-null  float64       \n",
      "dtypes: category(2), datetime64[ns](1), float64(1), object(6)\n",
      "memory usage: 7.9+ MB\n"
     ]
    }
   ],
   "source": [
    "ORG_NAME = 'Decentraland'\n",
    "\n",
    "dfv, dfp = daocensus_text.get(\"./data/daos-census-text\", ORG_NAME, 'snapshot')\n",
    "dfv.info()"
   ]
  },
  {
   "cell_type": "code",
   "execution_count": 4,
   "id": "f8896221-ed10-4fcd-8587-296ca07333e0",
   "metadata": {},
   "outputs": [],
   "source": [
    "dfv_old, dfp_old = daocensus.get(\"./data/daos-census\", ORG_NAME, 'snapshot')"
   ]
  },
  {
   "cell_type": "code",
   "execution_count": 9,
   "id": "55cefaa5-44a4-4cb5-9ff0-1d729d6c210d",
   "metadata": {},
   "outputs": [
    {
     "name": "stdout",
     "output_type": "stream",
     "text": [
      "Len dfv_old: 116560, dfv: 116560\n",
      "Len dfp_old: 1942, dfp: 1943, 1943\n"
     ]
    }
   ],
   "source": [
    "print(f'Len dfv_old: {len(dfv_old)}, dfv: {len(dfv)}')\n",
    "print(f'Len dfp_old: {len(dfp_old)}, dfp: {len(dfp)}, {dfp[\"id\"].nunique()}')"
   ]
  },
  {
   "cell_type": "markdown",
   "id": "2c470e8d-063f-4ee8-a657-940c2900cc40",
   "metadata": {},
   "source": [
    "Hay propuestas nuevas, pero no tenemos los votos de esas propuestas"
   ]
  },
  {
   "cell_type": "code",
   "execution_count": 14,
   "id": "95751c62-cb06-4a2e-bfc5-3bd03dd0e7ab",
   "metadata": {},
   "outputs": [
    {
     "data": {
      "text/html": [
       "<div>\n",
       "<style scoped>\n",
       "    .dataframe tbody tr th:only-of-type {\n",
       "        vertical-align: middle;\n",
       "    }\n",
       "\n",
       "    .dataframe tbody tr th {\n",
       "        vertical-align: top;\n",
       "    }\n",
       "\n",
       "    .dataframe thead th {\n",
       "        text-align: right;\n",
       "    }\n",
       "</style>\n",
       "<table border=\"1\" class=\"dataframe\">\n",
       "  <thead>\n",
       "    <tr style=\"text-align: right;\">\n",
       "      <th></th>\n",
       "      <th>platform</th>\n",
       "      <th>name</th>\n",
       "      <th>platform_deployment</th>\n",
       "      <th>id</th>\n",
       "      <th>deployment</th>\n",
       "      <th>platform_proposal</th>\n",
       "      <th>author</th>\n",
       "      <th>date</th>\n",
       "      <th>votes_count</th>\n",
       "      <th>title</th>\n",
       "      <th>description</th>\n",
       "      <th>start</th>\n",
       "      <th>end</th>\n",
       "    </tr>\n",
       "  </thead>\n",
       "  <tbody>\n",
       "    <tr>\n",
       "      <th>233</th>\n",
       "      <td>snapshot</td>\n",
       "      <td>Decentraland</td>\n",
       "      <td>snapshot.dcl.eth</td>\n",
       "      <td>d2e7f401-7e51-56f5-84be-6819cdca8034</td>\n",
       "      <td>41fd8de5-f8e2-5023-86a3-825c49e9ad7f</td>\n",
       "      <td>Qme5zXJNfVSPzyiESQMnyx39MaJduX9MZEaTnmQ8Unj8ZR</td>\n",
       "      <td>0x5e23d08324f017d5425e59a2782c9ae27ace0958</td>\n",
       "      <td>2021-12-03 06:26:25</td>\n",
       "      <td>131</td>\n",
       "      <td>Change the price of claiming a unique name</td>\n",
       "      <td>&gt; by 0xe83fcc89fb8fdd63eb542be01420d24257f28bc...</td>\n",
       "      <td>2021-12-03 06:26:00</td>\n",
       "      <td>2021-12-10 06:26:00</td>\n",
       "    </tr>\n",
       "  </tbody>\n",
       "</table>\n",
       "</div>"
      ],
      "text/plain": [
       "     platform          name platform_deployment  \\\n",
       "233  snapshot  Decentraland    snapshot.dcl.eth   \n",
       "\n",
       "                                       id  \\\n",
       "233  d2e7f401-7e51-56f5-84be-6819cdca8034   \n",
       "\n",
       "                               deployment  \\\n",
       "233  41fd8de5-f8e2-5023-86a3-825c49e9ad7f   \n",
       "\n",
       "                                  platform_proposal  \\\n",
       "233  Qme5zXJNfVSPzyiESQMnyx39MaJduX9MZEaTnmQ8Unj8ZR   \n",
       "\n",
       "                                         author                date  \\\n",
       "233  0x5e23d08324f017d5425e59a2782c9ae27ace0958 2021-12-03 06:26:25   \n",
       "\n",
       "     votes_count                                       title  \\\n",
       "233          131  Change the price of claiming a unique name   \n",
       "\n",
       "                                           description               start  \\\n",
       "233  > by 0xe83fcc89fb8fdd63eb542be01420d24257f28bc... 2021-12-03 06:26:00   \n",
       "\n",
       "                    end  \n",
       "233 2021-12-10 06:26:00  "
      ]
     },
     "execution_count": 14,
     "metadata": {},
     "output_type": "execute_result"
    }
   ],
   "source": [
    "new_props = dfp[~dfp['id'].isin(dfp_old['id'])]\n",
    "new_props"
   ]
  }
 ],
 "metadata": {
  "kernelspec": {
   "display_name": "Python 3 (ipykernel)",
   "language": "python",
   "name": "python3"
  },
  "language_info": {
   "codemirror_mode": {
    "name": "ipython",
    "version": 3
   },
   "file_extension": ".py",
   "mimetype": "text/x-python",
   "name": "python",
   "nbconvert_exporter": "python",
   "pygments_lexer": "ipython3",
   "version": "3.9.18"
  },
  "widgets": {
   "application/vnd.jupyter.widget-state+json": {
    "state": {},
    "version_major": 2,
    "version_minor": 0
   }
  }
 },
 "nbformat": 4,
 "nbformat_minor": 5
}
