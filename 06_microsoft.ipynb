{
 "cells": [
  {
   "cell_type": "code",
   "execution_count": 1,
   "id": "cd646be6-1a4c-49b8-b3bf-f0e387b15efa",
   "metadata": {
    "execution": {
     "iopub.execute_input": "2023-10-16T10:36:25.224778Z",
     "iopub.status.busy": "2023-10-16T10:36:25.224389Z",
     "iopub.status.idle": "2023-10-16T10:36:27.097990Z",
     "shell.execute_reply": "2023-10-16T10:36:27.097431Z",
     "shell.execute_reply.started": "2023-10-16T10:36:25.224734Z"
    }
   },
   "outputs": [],
   "source": [
    "import recommenders\n",
    "\n",
    "from src.datasets import daocensus\n",
    "\n",
    "%load_ext autoreload\n",
    "%autoreload 2"
   ]
  },
  {
   "cell_type": "code",
   "execution_count": 2,
   "id": "4f3e9b7e-fdfd-47ba-a8c0-4286e2878777",
   "metadata": {
    "execution": {
     "iopub.execute_input": "2023-10-16T10:36:27.099847Z",
     "iopub.status.busy": "2023-10-16T10:36:27.099474Z",
     "iopub.status.idle": "2023-10-16T10:36:27.123566Z",
     "shell.execute_reply": "2023-10-16T10:36:27.123024Z",
     "shell.execute_reply.started": "2023-10-16T10:36:27.099816Z"
    }
   },
   "outputs": [],
   "source": [
    "SEED = 42\n",
    "TOP_K = 5\n",
    "EPOCHS = 50\n",
    "BATCH_SIZE = 512"
   ]
  },
  {
   "cell_type": "code",
   "execution_count": 3,
   "id": "9d6b56c0-2038-48a5-8876-0f25ac92a34e",
   "metadata": {
    "execution": {
     "iopub.execute_input": "2023-10-16T10:36:27.124773Z",
     "iopub.status.busy": "2023-10-16T10:36:27.124327Z",
     "iopub.status.idle": "2023-10-16T10:36:38.116422Z",
     "shell.execute_reply": "2023-10-16T10:36:38.115677Z",
     "shell.execute_reply.started": "2023-10-16T10:36:27.124748Z"
    }
   },
   "outputs": [
    {
     "name": "stdout",
     "output_type": "stream",
     "text": [
      "<class 'pandas.core.frame.DataFrame'>\n",
      "Int64Index: 107735 entries, 0 to 116559\n",
      "Data columns (total 10 columns):\n",
      " #   Column         Non-Null Count   Dtype         \n",
      "---  ------         --------------   -----         \n",
      " 0   platform       107735 non-null  object        \n",
      " 1   name           107735 non-null  object        \n",
      " 2   id             107735 non-null  object        \n",
      " 3   proposal       107735 non-null  category      \n",
      " 4   deployment     107735 non-null  object        \n",
      " 5   platform_vote  107735 non-null  object        \n",
      " 6   voter          107735 non-null  category      \n",
      " 7   date           107735 non-null  datetime64[ns]\n",
      " 8   choice         107735 non-null  object        \n",
      " 9   weight         107735 non-null  float64       \n",
      "dtypes: category(2), datetime64[ns](1), float64(1), object(6)\n",
      "memory usage: 8.0+ MB\n",
      "None\n",
      "<class 'pandas.core.frame.DataFrame'>\n",
      "RangeIndex: 1962 entries, 0 to 1961\n",
      "Data columns (total 8 columns):\n",
      " #   Column             Non-Null Count  Dtype         \n",
      "---  ------             --------------  -----         \n",
      " 0   platform           1962 non-null   object        \n",
      " 1   name               1962 non-null   object        \n",
      " 2   id                 1962 non-null   category      \n",
      " 3   deployment         1962 non-null   object        \n",
      " 4   platform_proposal  1962 non-null   object        \n",
      " 5   author             1962 non-null   category      \n",
      " 6   date               1962 non-null   datetime64[ns]\n",
      " 7   votes_count        1962 non-null   int64         \n",
      "dtypes: category(2), datetime64[ns](1), int64(1), object(4)\n",
      "memory usage: 266.8+ KB\n",
      "None\n"
     ]
    }
   ],
   "source": [
    "dfv, dfp = daocensus.get(\"./data/daos-census\", 'Decentraland', 'snapshot', min_vpu=6)\n",
    "print(dfv.info())\n",
    "print(dfp.info())"
   ]
  },
  {
   "cell_type": "code",
   "execution_count": 4,
   "id": "d0d3c2d6-89c5-4a2b-bfd0-6b2dd068b327",
   "metadata": {
    "execution": {
     "iopub.execute_input": "2023-10-16T10:36:38.117995Z",
     "iopub.status.busy": "2023-10-16T10:36:38.117490Z",
     "iopub.status.idle": "2023-10-16T10:36:38.186183Z",
     "shell.execute_reply": "2023-10-16T10:36:38.185736Z",
     "shell.execute_reply.started": "2023-10-16T10:36:38.117963Z"
    }
   },
   "outputs": [
    {
     "data": {
      "text/html": [
       "<div>\n",
       "<style scoped>\n",
       "    .dataframe tbody tr th:only-of-type {\n",
       "        vertical-align: middle;\n",
       "    }\n",
       "\n",
       "    .dataframe tbody tr th {\n",
       "        vertical-align: top;\n",
       "    }\n",
       "\n",
       "    .dataframe thead th {\n",
       "        text-align: right;\n",
       "    }\n",
       "</style>\n",
       "<table border=\"1\" class=\"dataframe\">\n",
       "  <thead>\n",
       "    <tr style=\"text-align: right;\">\n",
       "      <th></th>\n",
       "      <th>userID</th>\n",
       "      <th>itemID</th>\n",
       "      <th>timestamp</th>\n",
       "      <th>rating</th>\n",
       "    </tr>\n",
       "  </thead>\n",
       "  <tbody>\n",
       "    <tr>\n",
       "      <th>0</th>\n",
       "      <td>0xe7af1c70f8f089c4c3bd71999692c6c5a15d9e2a</td>\n",
       "      <td>b86aa059-3d31-5d41-a472-70962816f779</td>\n",
       "      <td>2021-12-17 12:28:01</td>\n",
       "      <td>1</td>\n",
       "    </tr>\n",
       "    <tr>\n",
       "      <th>1</th>\n",
       "      <td>0xc54a6c3778016b06cbd126ccc3b5bc06c5f666fb</td>\n",
       "      <td>b86aa059-3d31-5d41-a472-70962816f779</td>\n",
       "      <td>2021-12-17 02:16:23</td>\n",
       "      <td>1</td>\n",
       "    </tr>\n",
       "    <tr>\n",
       "      <th>2</th>\n",
       "      <td>0xd82d005e8f8d5385db40ba23884a5c967bb1e8af</td>\n",
       "      <td>b86aa059-3d31-5d41-a472-70962816f779</td>\n",
       "      <td>2021-12-17 00:38:22</td>\n",
       "      <td>1</td>\n",
       "    </tr>\n",
       "    <tr>\n",
       "      <th>3</th>\n",
       "      <td>0xf4c64db66ffb301985f5ecd85c8f3f9c02f2659d</td>\n",
       "      <td>b86aa059-3d31-5d41-a472-70962816f779</td>\n",
       "      <td>2021-12-16 18:47:08</td>\n",
       "      <td>1</td>\n",
       "    </tr>\n",
       "    <tr>\n",
       "      <th>4</th>\n",
       "      <td>0xd5e9ef1cedad0d135d543d286a2c190b16cbb89e</td>\n",
       "      <td>b86aa059-3d31-5d41-a472-70962816f779</td>\n",
       "      <td>2021-12-16 18:32:15</td>\n",
       "      <td>1</td>\n",
       "    </tr>\n",
       "    <tr>\n",
       "      <th>...</th>\n",
       "      <td>...</td>\n",
       "      <td>...</td>\n",
       "      <td>...</td>\n",
       "      <td>...</td>\n",
       "    </tr>\n",
       "    <tr>\n",
       "      <th>116555</th>\n",
       "      <td>0x1156bf625b37623a86d004e66e0a01ec4b17e051</td>\n",
       "      <td>d083109e-4819-54b9-a01c-67bd5a770f65</td>\n",
       "      <td>2022-09-06 18:47:54</td>\n",
       "      <td>1</td>\n",
       "    </tr>\n",
       "    <tr>\n",
       "      <th>116556</th>\n",
       "      <td>0xbd03add5da0e173c67c9c1073ffba017147c42d4</td>\n",
       "      <td>d083109e-4819-54b9-a01c-67bd5a770f65</td>\n",
       "      <td>2022-09-06 18:44:04</td>\n",
       "      <td>1</td>\n",
       "    </tr>\n",
       "    <tr>\n",
       "      <th>116557</th>\n",
       "      <td>0x4da03f669dd9609dc49ca6f3451ba22d3b792395</td>\n",
       "      <td>d083109e-4819-54b9-a01c-67bd5a770f65</td>\n",
       "      <td>2022-09-06 18:21:14</td>\n",
       "      <td>1</td>\n",
       "    </tr>\n",
       "    <tr>\n",
       "      <th>116558</th>\n",
       "      <td>0xd6e62a97a55537cd04847bb73e22208bd20106aa</td>\n",
       "      <td>d083109e-4819-54b9-a01c-67bd5a770f65</td>\n",
       "      <td>2022-09-06 18:14:10</td>\n",
       "      <td>1</td>\n",
       "    </tr>\n",
       "    <tr>\n",
       "      <th>116559</th>\n",
       "      <td>0x9a70a6e429c4ede5fcb0562f5bcc0c0d992493f4</td>\n",
       "      <td>d083109e-4819-54b9-a01c-67bd5a770f65</td>\n",
       "      <td>2022-09-06 18:12:51</td>\n",
       "      <td>1</td>\n",
       "    </tr>\n",
       "  </tbody>\n",
       "</table>\n",
       "<p>107735 rows × 4 columns</p>\n",
       "</div>"
      ],
      "text/plain": [
       "                                            userID  \\\n",
       "0       0xe7af1c70f8f089c4c3bd71999692c6c5a15d9e2a   \n",
       "1       0xc54a6c3778016b06cbd126ccc3b5bc06c5f666fb   \n",
       "2       0xd82d005e8f8d5385db40ba23884a5c967bb1e8af   \n",
       "3       0xf4c64db66ffb301985f5ecd85c8f3f9c02f2659d   \n",
       "4       0xd5e9ef1cedad0d135d543d286a2c190b16cbb89e   \n",
       "...                                            ...   \n",
       "116555  0x1156bf625b37623a86d004e66e0a01ec4b17e051   \n",
       "116556  0xbd03add5da0e173c67c9c1073ffba017147c42d4   \n",
       "116557  0x4da03f669dd9609dc49ca6f3451ba22d3b792395   \n",
       "116558  0xd6e62a97a55537cd04847bb73e22208bd20106aa   \n",
       "116559  0x9a70a6e429c4ede5fcb0562f5bcc0c0d992493f4   \n",
       "\n",
       "                                      itemID           timestamp  rating  \n",
       "0       b86aa059-3d31-5d41-a472-70962816f779 2021-12-17 12:28:01       1  \n",
       "1       b86aa059-3d31-5d41-a472-70962816f779 2021-12-17 02:16:23       1  \n",
       "2       b86aa059-3d31-5d41-a472-70962816f779 2021-12-17 00:38:22       1  \n",
       "3       b86aa059-3d31-5d41-a472-70962816f779 2021-12-16 18:47:08       1  \n",
       "4       b86aa059-3d31-5d41-a472-70962816f779 2021-12-16 18:32:15       1  \n",
       "...                                      ...                 ...     ...  \n",
       "116555  d083109e-4819-54b9-a01c-67bd5a770f65 2022-09-06 18:47:54       1  \n",
       "116556  d083109e-4819-54b9-a01c-67bd5a770f65 2022-09-06 18:44:04       1  \n",
       "116557  d083109e-4819-54b9-a01c-67bd5a770f65 2022-09-06 18:21:14       1  \n",
       "116558  d083109e-4819-54b9-a01c-67bd5a770f65 2022-09-06 18:14:10       1  \n",
       "116559  d083109e-4819-54b9-a01c-67bd5a770f65 2022-09-06 18:12:51       1  \n",
       "\n",
       "[107735 rows x 4 columns]"
      ]
     },
     "execution_count": 4,
     "metadata": {},
     "output_type": "execute_result"
    }
   ],
   "source": [
    "def to_microsoft(dfv):\n",
    "    df = dfv[['voter', 'proposal', 'date']].rename(columns={\n",
    "        'voter': 'userID',\n",
    "        'proposal': 'itemID',\n",
    "        'date': 'timestamp',\n",
    "    })\n",
    "    df['itemID'] = df['itemID'].astype('str')\n",
    "    df['rating'] = 1\n",
    "    return df\n",
    "\n",
    "df = to_microsoft(dfv)\n",
    "df"
   ]
  },
  {
   "cell_type": "code",
   "execution_count": 5,
   "id": "b49a95ea-d8dd-4360-90b3-9391e4d4cc51",
   "metadata": {
    "execution": {
     "iopub.execute_input": "2023-10-16T10:36:38.186977Z",
     "iopub.status.busy": "2023-10-16T10:36:38.186806Z",
     "iopub.status.idle": "2023-10-16T10:36:44.352117Z",
     "shell.execute_reply": "2023-10-16T10:36:44.351499Z",
     "shell.execute_reply.started": "2023-10-16T10:36:38.186964Z"
    }
   },
   "outputs": [],
   "source": [
    "from recommenders.datasets.python_splitters import python_stratified_split\n",
    "\n",
    "train, test = python_stratified_split(df, ratio=0.75)"
   ]
  },
  {
   "cell_type": "code",
   "execution_count": 6,
   "id": "3485e157-59f1-4cc3-977b-ec8d166f93d7",
   "metadata": {
    "execution": {
     "iopub.execute_input": "2023-10-16T10:36:44.352984Z",
     "iopub.status.busy": "2023-10-16T10:36:44.352816Z",
     "iopub.status.idle": "2023-10-16T10:36:44.539545Z",
     "shell.execute_reply": "2023-10-16T10:36:44.538926Z",
     "shell.execute_reply.started": "2023-10-16T10:36:44.352969Z"
    }
   },
   "outputs": [
    {
     "name": "stderr",
     "output_type": "stream",
     "text": [
      "/home/davo/Documents/MUIA/upm-tfm-notebooks/.direnv/python-3.9/lib/python3.9/site-packages/recommenders/models/deeprec/DataModel/ImplicitCF.py:73: FutureWarning: The frame.append method is deprecated and will be removed from pandas in a future version. Use pandas.concat instead.\n",
      "  df = train if test is None else train.append(test)\n"
     ]
    }
   ],
   "source": [
    "from recommenders.models.deeprec.DataModel.ImplicitCF import ImplicitCF\n",
    "\n",
    "data = ImplicitCF(train=train, test=test, seed=SEED)"
   ]
  },
  {
   "cell_type": "code",
   "execution_count": 7,
   "id": "a04b549c-bdf0-4265-9b4b-77c38f179f7f",
   "metadata": {
    "execution": {
     "iopub.execute_input": "2023-10-16T10:36:44.541920Z",
     "iopub.status.busy": "2023-10-16T10:36:44.541620Z",
     "iopub.status.idle": "2023-10-16T10:36:44.562696Z",
     "shell.execute_reply": "2023-10-16T10:36:44.562284Z",
     "shell.execute_reply.started": "2023-10-16T10:36:44.541893Z"
    }
   },
   "outputs": [
    {
     "data": {
      "text/plain": [
       "(1941, 2900)"
      ]
     },
     "execution_count": 7,
     "metadata": {},
     "output_type": "execute_result"
    }
   ],
   "source": [
    "data.n_items, data.n_users"
   ]
  },
  {
   "cell_type": "code",
   "execution_count": 8,
   "id": "51ff5c74-c5fb-4ac7-bd74-11a7fa91d739",
   "metadata": {
    "execution": {
     "iopub.execute_input": "2023-10-16T10:36:44.563751Z",
     "iopub.status.busy": "2023-10-16T10:36:44.563345Z",
     "iopub.status.idle": "2023-10-16T10:36:44.640338Z",
     "shell.execute_reply": "2023-10-16T10:36:44.639920Z",
     "shell.execute_reply.started": "2023-10-16T10:36:44.563723Z"
    }
   },
   "outputs": [],
   "source": [
    "from recommenders.models.deeprec.deeprec_utils import prepare_hparams\n",
    "\n",
    "hparams = prepare_hparams(\n",
    "    './config/lightgcn.yaml',\n",
    "    n_layers=3,\n",
    "    batch_size=BATCH_SIZE,\n",
    "    epochs=EPOCHS,\n",
    "    learning_rate=0.005,\n",
    "    eval_epoch=5,\n",
    "    top_k=TOP_K,\n",
    ")"
   ]
  },
  {
   "cell_type": "code",
   "execution_count": 9,
   "id": "4b9ae88a-51cd-4476-9442-65b7c39b47e5",
   "metadata": {
    "execution": {
     "iopub.execute_input": "2023-10-16T10:36:44.641184Z",
     "iopub.status.busy": "2023-10-16T10:36:44.641008Z",
     "iopub.status.idle": "2023-10-16T10:36:46.929087Z",
     "shell.execute_reply": "2023-10-16T10:36:46.928513Z",
     "shell.execute_reply.started": "2023-10-16T10:36:44.641171Z"
    }
   },
   "outputs": [
    {
     "name": "stderr",
     "output_type": "stream",
     "text": [
      "2023-10-16 12:36:44.789111: I tensorflow/core/util/port.cc:111] oneDNN custom operations are on. You may see slightly different numerical results due to floating-point round-off errors from different computation orders. To turn them off, set the environment variable `TF_ENABLE_ONEDNN_OPTS=0`.\n",
      "2023-10-16 12:36:44.790812: I tensorflow/tsl/cuda/cudart_stub.cc:28] Could not find cuda drivers on your machine, GPU will not be used.\n",
      "2023-10-16 12:36:44.815049: E tensorflow/compiler/xla/stream_executor/cuda/cuda_dnn.cc:9342] Unable to register cuDNN factory: Attempting to register factory for plugin cuDNN when one has already been registered\n",
      "2023-10-16 12:36:44.815077: E tensorflow/compiler/xla/stream_executor/cuda/cuda_fft.cc:609] Unable to register cuFFT factory: Attempting to register factory for plugin cuFFT when one has already been registered\n",
      "2023-10-16 12:36:44.815108: E tensorflow/compiler/xla/stream_executor/cuda/cuda_blas.cc:1518] Unable to register cuBLAS factory: Attempting to register factory for plugin cuBLAS when one has already been registered\n",
      "2023-10-16 12:36:44.821468: I tensorflow/core/platform/cpu_feature_guard.cc:182] This TensorFlow binary is optimized to use available CPU instructions in performance-critical operations.\n",
      "To enable the following instructions: AVX2 AVX512F AVX512_VNNI FMA, in other operations, rebuild TensorFlow with the appropriate compiler flags.\n",
      "2023-10-16 12:36:45.644644: W tensorflow/compiler/tf2tensorrt/utils/py_utils.cc:38] TF-TRT Warning: Could not find TensorRT\n"
     ]
    },
    {
     "name": "stdout",
     "output_type": "stream",
     "text": [
      "Already create adjacency matrix.\n",
      "Already normalize adjacency matrix.\n",
      "Using xavier initialization.\n"
     ]
    },
    {
     "name": "stderr",
     "output_type": "stream",
     "text": [
      "2023-10-16 12:36:46.894514: I tensorflow/compiler/mlir/mlir_graph_optimization_pass.cc:382] MLIR V1 optimization pass is not enabled\n"
     ]
    }
   ],
   "source": [
    "from recommenders.models.deeprec.models.graphrec.lightgcn import LightGCN\n",
    "\n",
    "model = LightGCN(hparams, data, seed=SEED)"
   ]
  },
  {
   "cell_type": "code",
   "execution_count": 10,
   "id": "a276d8e8-e64e-4441-91ff-d0f4e16866ce",
   "metadata": {
    "execution": {
     "iopub.execute_input": "2023-10-16T10:36:46.929897Z",
     "iopub.status.busy": "2023-10-16T10:36:46.929700Z",
     "iopub.status.idle": "2023-10-16T10:39:00.666209Z",
     "shell.execute_reply": "2023-10-16T10:39:00.665676Z",
     "shell.execute_reply.started": "2023-10-16T10:36:46.929883Z"
    }
   },
   "outputs": [
    {
     "name": "stdout",
     "output_type": "stream",
     "text": [
      "Epoch 1 (train)2.6s: train loss = 0.37615 = (mf)0.37571 + (embed)0.00044\n",
      "Epoch 2 (train)2.9s: train loss = 0.18560 = (mf)0.18452 + (embed)0.00108\n",
      "Epoch 3 (train)2.9s: train loss = 0.14256 = (mf)0.14109 + (embed)0.00148\n",
      "Epoch 4 (train)3.1s: train loss = 0.12065 = (mf)0.11888 + (embed)0.00177\n",
      "Epoch 5 (train)2.6s + (eval)0.3s: train loss = 0.10370 = (mf)0.10167 + (embed)0.00203, recall = 0.16500, ndcg = 0.22976, precision = 0.19441, map = 0.11992\n",
      "Epoch 6 (train)2.6s: train loss = 0.09391 = (mf)0.09163 + (embed)0.00227\n",
      "Epoch 7 (train)2.6s: train loss = 0.08523 = (mf)0.08275 + (embed)0.00249\n",
      "Epoch 8 (train)2.6s: train loss = 0.07906 = (mf)0.07637 + (embed)0.00269\n",
      "Epoch 9 (train)2.6s: train loss = 0.07287 = (mf)0.06999 + (embed)0.00288\n",
      "Epoch 10 (train)2.6s + (eval)0.3s: train loss = 0.06830 = (mf)0.06524 + (embed)0.00306, recall = 0.19378, ndcg = 0.26671, precision = 0.22552, map = 0.13851\n",
      "Epoch 11 (train)2.6s: train loss = 0.06557 = (mf)0.06234 + (embed)0.00323\n",
      "Epoch 12 (train)2.6s: train loss = 0.06148 = (mf)0.05808 + (embed)0.00340\n",
      "Epoch 13 (train)2.7s: train loss = 0.05814 = (mf)0.05458 + (embed)0.00356\n",
      "Epoch 14 (train)2.6s: train loss = 0.05570 = (mf)0.05199 + (embed)0.00371\n",
      "Epoch 15 (train)2.6s + (eval)0.3s: train loss = 0.05446 = (mf)0.05058 + (embed)0.00387, recall = 0.22409, ndcg = 0.30254, precision = 0.25441, map = 0.15910\n",
      "Epoch 16 (train)2.6s: train loss = 0.05055 = (mf)0.04652 + (embed)0.00403\n",
      "Epoch 17 (train)2.6s: train loss = 0.04908 = (mf)0.04490 + (embed)0.00418\n",
      "Epoch 18 (train)2.6s: train loss = 0.04657 = (mf)0.04225 + (embed)0.00432\n",
      "Epoch 19 (train)2.6s: train loss = 0.04565 = (mf)0.04120 + (embed)0.00445\n",
      "Epoch 20 (train)2.6s + (eval)0.3s: train loss = 0.04556 = (mf)0.04098 + (embed)0.00458, recall = 0.24174, ndcg = 0.32549, precision = 0.27241, map = 0.17368\n",
      "Epoch 21 (train)2.6s: train loss = 0.04379 = (mf)0.03910 + (embed)0.00469\n",
      "Epoch 22 (train)2.6s: train loss = 0.04228 = (mf)0.03747 + (embed)0.00482\n",
      "Epoch 23 (train)2.6s: train loss = 0.03953 = (mf)0.03458 + (embed)0.00495\n",
      "Epoch 24 (train)2.6s: train loss = 0.03838 = (mf)0.03331 + (embed)0.00507\n",
      "Epoch 25 (train)2.6s + (eval)0.3s: train loss = 0.03831 = (mf)0.03312 + (embed)0.00519, recall = 0.24982, ndcg = 0.33535, precision = 0.27855, map = 0.17868\n",
      "Epoch 26 (train)2.6s: train loss = 0.03798 = (mf)0.03268 + (embed)0.00530\n",
      "Epoch 27 (train)2.6s: train loss = 0.03624 = (mf)0.03082 + (embed)0.00542\n",
      "Epoch 28 (train)2.6s: train loss = 0.03639 = (mf)0.03088 + (embed)0.00551\n",
      "Epoch 29 (train)2.6s: train loss = 0.03569 = (mf)0.03008 + (embed)0.00561\n",
      "Epoch 30 (train)2.6s + (eval)0.3s: train loss = 0.03429 = (mf)0.02858 + (embed)0.00571, recall = 0.27104, ndcg = 0.35904, precision = 0.29738, map = 0.19849\n",
      "Epoch 31 (train)2.6s: train loss = 0.03322 = (mf)0.02741 + (embed)0.00582\n",
      "Epoch 32 (train)2.6s: train loss = 0.03270 = (mf)0.02680 + (embed)0.00591\n",
      "Epoch 33 (train)2.6s: train loss = 0.03305 = (mf)0.02705 + (embed)0.00600\n",
      "Epoch 34 (train)2.6s: train loss = 0.03132 = (mf)0.02524 + (embed)0.00608\n",
      "Epoch 35 (train)2.6s + (eval)0.3s: train loss = 0.03197 = (mf)0.02581 + (embed)0.00616, recall = 0.27743, ndcg = 0.36390, precision = 0.30193, map = 0.20181\n",
      "Epoch 36 (train)2.6s: train loss = 0.02981 = (mf)0.02356 + (embed)0.00625\n",
      "Epoch 37 (train)2.6s: train loss = 0.03102 = (mf)0.02469 + (embed)0.00633\n",
      "Epoch 38 (train)2.6s: train loss = 0.02913 = (mf)0.02272 + (embed)0.00641\n",
      "Epoch 39 (train)2.6s: train loss = 0.02869 = (mf)0.02219 + (embed)0.00649\n",
      "Epoch 40 (train)2.6s + (eval)0.3s: train loss = 0.02844 = (mf)0.02187 + (embed)0.00657, recall = 0.28583, ndcg = 0.37820, precision = 0.31103, map = 0.21585\n",
      "Epoch 41 (train)2.6s: train loss = 0.02799 = (mf)0.02134 + (embed)0.00665\n",
      "Epoch 42 (train)2.6s: train loss = 0.02811 = (mf)0.02141 + (embed)0.00670\n",
      "Epoch 43 (train)2.6s: train loss = 0.02699 = (mf)0.02022 + (embed)0.00677\n",
      "Epoch 44 (train)2.6s: train loss = 0.02804 = (mf)0.02121 + (embed)0.00683\n",
      "Epoch 45 (train)2.6s + (eval)0.3s: train loss = 0.02691 = (mf)0.02000 + (embed)0.00692, recall = 0.28976, ndcg = 0.38165, precision = 0.31317, map = 0.21643\n",
      "Epoch 46 (train)2.6s: train loss = 0.02667 = (mf)0.01970 + (embed)0.00697\n",
      "Epoch 47 (train)2.6s: train loss = 0.02678 = (mf)0.01974 + (embed)0.00704\n",
      "Epoch 48 (train)2.6s: train loss = 0.02629 = (mf)0.01920 + (embed)0.00709\n",
      "Epoch 49 (train)2.6s: train loss = 0.02592 = (mf)0.01878 + (embed)0.00714\n",
      "Epoch 50 (train)2.6s + (eval)0.3s: train loss = 0.02549 = (mf)0.01829 + (embed)0.00720, recall = 0.29448, ndcg = 0.38876, precision = 0.31710, map = 0.22480\n"
     ]
    }
   ],
   "source": [
    "model.fit()"
   ]
  },
  {
   "cell_type": "markdown",
   "id": "72193280-0e31-4d73-b22c-0437d1b58fdf",
   "metadata": {},
   "source": [
    "### Recommendation\n",
    "\n",
    "We can call recommend_k_items to recommend k items for each user passed in this function. We set remove_seen=True to remove the items already seen by the user. The function returns a dataframe, containing each user and top k items recommended to them and the corresponding ranking scores."
   ]
  },
  {
   "cell_type": "code",
   "execution_count": 11,
   "id": "9910b6bb-d755-43c4-9a61-c86e3093417a",
   "metadata": {
    "execution": {
     "iopub.execute_input": "2023-10-16T10:39:00.667082Z",
     "iopub.status.busy": "2023-10-16T10:39:00.666861Z",
     "iopub.status.idle": "2023-10-16T10:39:00.838643Z",
     "shell.execute_reply": "2023-10-16T10:39:00.837919Z",
     "shell.execute_reply.started": "2023-10-16T10:39:00.667067Z"
    }
   },
   "outputs": [
    {
     "data": {
      "text/html": [
       "<div>\n",
       "<style scoped>\n",
       "    .dataframe tbody tr th:only-of-type {\n",
       "        vertical-align: middle;\n",
       "    }\n",
       "\n",
       "    .dataframe tbody tr th {\n",
       "        vertical-align: top;\n",
       "    }\n",
       "\n",
       "    .dataframe thead th {\n",
       "        text-align: right;\n",
       "    }\n",
       "</style>\n",
       "<table border=\"1\" class=\"dataframe\">\n",
       "  <thead>\n",
       "    <tr style=\"text-align: right;\">\n",
       "      <th></th>\n",
       "      <th>userID</th>\n",
       "      <th>itemID</th>\n",
       "      <th>prediction</th>\n",
       "    </tr>\n",
       "  </thead>\n",
       "  <tbody>\n",
       "    <tr>\n",
       "      <th>0</th>\n",
       "      <td>0x06f3037a0f753c3ff2140f12a093e61245e5234f</td>\n",
       "      <td>5ed9c78f-0d56-5f11-b8aa-84b49c18e289</td>\n",
       "      <td>9.347280</td>\n",
       "    </tr>\n",
       "    <tr>\n",
       "      <th>1</th>\n",
       "      <td>0x06f3037a0f753c3ff2140f12a093e61245e5234f</td>\n",
       "      <td>ae73f53d-a5d1-522a-baf2-643b75ca481f</td>\n",
       "      <td>9.193292</td>\n",
       "    </tr>\n",
       "    <tr>\n",
       "      <th>2</th>\n",
       "      <td>0x06f3037a0f753c3ff2140f12a093e61245e5234f</td>\n",
       "      <td>bca2055a-d849-5308-b341-e8ce6b134ad8</td>\n",
       "      <td>9.131814</td>\n",
       "    </tr>\n",
       "    <tr>\n",
       "      <th>3</th>\n",
       "      <td>0x06f3037a0f753c3ff2140f12a093e61245e5234f</td>\n",
       "      <td>93337ffc-fb2e-536f-a194-0dca00990dbb</td>\n",
       "      <td>8.484897</td>\n",
       "    </tr>\n",
       "    <tr>\n",
       "      <th>4</th>\n",
       "      <td>0x06f3037a0f753c3ff2140f12a093e61245e5234f</td>\n",
       "      <td>877add37-cf0a-5420-84e6-ab010b814500</td>\n",
       "      <td>8.326041</td>\n",
       "    </tr>\n",
       "  </tbody>\n",
       "</table>\n",
       "</div>"
      ],
      "text/plain": [
       "                                       userID  \\\n",
       "0  0x06f3037a0f753c3ff2140f12a093e61245e5234f   \n",
       "1  0x06f3037a0f753c3ff2140f12a093e61245e5234f   \n",
       "2  0x06f3037a0f753c3ff2140f12a093e61245e5234f   \n",
       "3  0x06f3037a0f753c3ff2140f12a093e61245e5234f   \n",
       "4  0x06f3037a0f753c3ff2140f12a093e61245e5234f   \n",
       "\n",
       "                                 itemID  prediction  \n",
       "0  5ed9c78f-0d56-5f11-b8aa-84b49c18e289    9.347280  \n",
       "1  ae73f53d-a5d1-522a-baf2-643b75ca481f    9.193292  \n",
       "2  bca2055a-d849-5308-b341-e8ce6b134ad8    9.131814  \n",
       "3  93337ffc-fb2e-536f-a194-0dca00990dbb    8.484897  \n",
       "4  877add37-cf0a-5420-84e6-ab010b814500    8.326041  "
      ]
     },
     "execution_count": 11,
     "metadata": {},
     "output_type": "execute_result"
    }
   ],
   "source": [
    "topk_scores = model.recommend_k_items(test, top_k=TOP_K, remove_seen=True)\n",
    "topk_scores.head()"
   ]
  },
  {
   "cell_type": "code",
   "execution_count": 12,
   "id": "ab9fc9e8-d3c6-4e4f-b9de-697f66be781f",
   "metadata": {
    "execution": {
     "iopub.execute_input": "2023-10-16T10:39:00.839928Z",
     "iopub.status.busy": "2023-10-16T10:39:00.839536Z",
     "iopub.status.idle": "2023-10-16T10:39:00.889802Z",
     "shell.execute_reply": "2023-10-16T10:39:00.889216Z",
     "shell.execute_reply.started": "2023-10-16T10:39:00.839898Z"
    }
   },
   "outputs": [
    {
     "name": "stdout",
     "output_type": "stream",
     "text": [
      "<class 'pandas.core.frame.DataFrame'>\n",
      "Int64Index: 27028 entries, 101250 to 49375\n",
      "Data columns (total 4 columns):\n",
      " #   Column     Non-Null Count  Dtype         \n",
      "---  ------     --------------  -----         \n",
      " 0   userID     27028 non-null  category      \n",
      " 1   itemID     27028 non-null  object        \n",
      " 2   timestamp  27028 non-null  datetime64[ns]\n",
      " 3   rating     27028 non-null  int64         \n",
      "dtypes: category(1), datetime64[ns](1), int64(1), object(1)\n",
      "memory usage: 984.6+ KB\n"
     ]
    }
   ],
   "source": [
    "test.info()"
   ]
  },
  {
   "cell_type": "code",
   "execution_count": 13,
   "id": "588818dc-980c-44dd-be68-4189c682fe6c",
   "metadata": {
    "execution": {
     "iopub.execute_input": "2023-10-16T10:39:00.890990Z",
     "iopub.status.busy": "2023-10-16T10:39:00.890722Z",
     "iopub.status.idle": "2023-10-16T10:39:00.940316Z",
     "shell.execute_reply": "2023-10-16T10:39:00.939530Z",
     "shell.execute_reply.started": "2023-10-16T10:39:00.890964Z"
    }
   },
   "outputs": [
    {
     "name": "stdout",
     "output_type": "stream",
     "text": [
      "<class 'pandas.core.frame.DataFrame'>\n",
      "RangeIndex: 14500 entries, 0 to 14499\n",
      "Data columns (total 3 columns):\n",
      " #   Column      Non-Null Count  Dtype   \n",
      "---  ------      --------------  -----   \n",
      " 0   userID      14500 non-null  category\n",
      " 1   itemID      14500 non-null  object  \n",
      " 2   prediction  14500 non-null  float32 \n",
      "dtypes: category(1), float32(1), object(1)\n",
      "memory usage: 285.6+ KB\n"
     ]
    }
   ],
   "source": [
    "topk_scores.info()"
   ]
  },
  {
   "cell_type": "markdown",
   "id": "4ddb1991-9e1a-4a0d-aac3-fd74ba480a2d",
   "metadata": {},
   "source": [
    "### 2.5.2 Evaluation\n",
    "With topk_scores predicted by the model, we can evaluate how LightGCN performs on this test set."
   ]
  },
  {
   "cell_type": "code",
   "execution_count": 14,
   "id": "b6b85a1b-f160-42c2-b3cc-5d1ce91be0f3",
   "metadata": {
    "execution": {
     "iopub.execute_input": "2023-10-16T10:39:00.941494Z",
     "iopub.status.busy": "2023-10-16T10:39:00.941230Z",
     "iopub.status.idle": "2023-10-16T10:39:01.398488Z",
     "shell.execute_reply": "2023-10-16T10:39:01.397816Z",
     "shell.execute_reply.started": "2023-10-16T10:39:00.941470Z"
    }
   },
   "outputs": [
    {
     "name": "stdout",
     "output_type": "stream",
     "text": [
      "MAP:\t0.224801\n",
      "NDCG:\t0.388763\n",
      "Precision@5:\t0.317103\n",
      "Recall@5:\t0.294479\n"
     ]
    }
   ],
   "source": [
    "from recommenders.evaluation.python_evaluation import map_at_k, ndcg_at_k, precision_at_k, recall_at_k\n",
    "\n",
    "eval_map = map_at_k(test, topk_scores, k=TOP_K)\n",
    "eval_ndcg = ndcg_at_k(test, topk_scores, k=TOP_K)\n",
    "eval_precision = precision_at_k(test, topk_scores, k=TOP_K)\n",
    "eval_recall = recall_at_k(test, topk_scores, k=TOP_K)\n",
    "\n",
    "print(\"MAP:\\t%f\" % eval_map,\n",
    "      \"NDCG:\\t%f\" % eval_ndcg,\n",
    "      f\"Precision@{TOP_K}:\\t%f\" % eval_precision,\n",
    "      f\"Recall@{TOP_K}:\\t%f\" % eval_recall, sep='\\n')"
   ]
  },
  {
   "cell_type": "markdown",
   "id": "a5f54f74-bfb6-4017-92aa-b607f8b1f9a1",
   "metadata": {},
   "source": [
    "## 2.6 Infer embeddings\n",
    "\n",
    "With infer_embedding method of LightGCN model, we can export the embeddings of users and items in the training set to CSV files for future use."
   ]
  },
  {
   "cell_type": "code",
   "execution_count": 15,
   "id": "82936f77-367f-49cc-bc28-ff54565a5fd0",
   "metadata": {
    "execution": {
     "iopub.execute_input": "2023-10-16T10:39:01.399246Z",
     "iopub.status.busy": "2023-10-16T10:39:01.399072Z",
     "iopub.status.idle": "2023-10-16T10:39:01.435545Z",
     "shell.execute_reply": "2023-10-16T10:39:01.435059Z",
     "shell.execute_reply.started": "2023-10-16T10:39:01.399231Z"
    }
   },
   "outputs": [],
   "source": [
    "# model.infer_embedding(user_file, item_file)"
   ]
  }
 ],
 "metadata": {
  "kernelspec": {
   "display_name": "Python 3 (ipykernel)",
   "language": "python",
   "name": "python3"
  },
  "language_info": {
   "codemirror_mode": {
    "name": "ipython",
    "version": 3
   },
   "file_extension": ".py",
   "mimetype": "text/x-python",
   "name": "python",
   "nbconvert_exporter": "python",
   "pygments_lexer": "ipython3",
   "version": "3.9.18"
  },
  "widgets": {
   "application/vnd.jupyter.widget-state+json": {
    "state": {},
    "version_major": 2,
    "version_minor": 0
   }
  }
 },
 "nbformat": 4,
 "nbformat_minor": 5
}
