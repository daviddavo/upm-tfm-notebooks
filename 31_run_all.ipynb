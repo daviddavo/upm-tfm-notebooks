{
 "cells": [
  {
   "cell_type": "code",
   "execution_count": 1,
   "id": "8864aa17-797f-48b5-a15f-d15d80652d46",
   "metadata": {
    "editable": true,
    "slideshow": {
     "slide_type": ""
    },
    "tags": []
   },
   "outputs": [],
   "source": [
    "from typing import List, Tuple\n",
    "\n",
    "from pathlib import Path\n",
    "from IPython.display import Markdown\n",
    "import datetime as dt\n",
    "import re\n",
    "\n",
    "import papermill as pm\n",
    "\n",
    "from src import paths\n",
    "from src.datasets import daocensus_text"
   ]
  },
  {
   "cell_type": "code",
   "execution_count": 2,
   "id": "e07618a6-eadb-499b-ba98-38e8d820f344",
   "metadata": {},
   "outputs": [
    {
     "data": {
      "text/plain": [
       "'2023-07-28T10:55:23'"
      ]
     },
     "execution_count": 2,
     "metadata": {},
     "output_type": "execute_result"
    }
   ],
   "source": [
    "daocensus_text.get_latest_date('./data/daos-census-text').isoformat()"
   ]
  },
  {
   "cell_type": "code",
   "execution_count": 3,
   "id": "b17f5b20-88da-449a-a2c1-84d848f7cee0",
   "metadata": {
    "editable": true,
    "slideshow": {
     "slide_type": ""
    },
    "tags": []
   },
   "outputs": [],
   "source": [
    "DEFAULT_FREQ: str = 'W-THU' # split weekly\n",
    "SPLITS_NORMALIZE = True # Wether or not to move everything to 00:00\n",
    "LAST_SPLITS = 10 # Use just last 10 splits\n",
    "\n",
    "EXECUTION_ID = \"2024-03-08 10:00\"\n",
    "MAX_CUTOFF = '2023-07-29'\n",
    "\n",
    "# Avoid using dt.datetime.utcnow() because its used in caching too\n",
    "\n",
    "# Train, Cutoff date, Platform(s), Org Name\n",
    "# If the platform is none, it will be ALL PLATFORMS\n",
    "# If the cutoff date is none, it will use last 10 folds\n",
    "ORGS: List[Tuple[bool, str, str, str, str]] = [\n",
    "    # The first one, used to test if everything goes fine\n",
    "    (True, 'W-THU',   MAX_CUTOFF, 'snapshot', 'Decentraland'),\n",
    "    # ('snapshot', '9K DAO'), # SPAM DAO, says so on snapshot\n",
    "    # Las propuestas duran 3-4 días\n",
    "    (False,   '3d',         None, 'snapshot', 'Balancer'),\n",
    "    # Las propuestas duran 2 días\n",
    "    # DAO muerta, probando con folds antiguos\n",
    "    (True,    '2d', '2021-11-28', 'daohaus',  'DEAD FoundationsDAO'),\n",
    "    # La clásica\n",
    "    # Las propuestas duran 5 días\n",
    "    (False,   '5d',         None, 'daostack', 'dxDAO - xDXdao'),\n",
    "    # ('snapshot', 'gm DAO'), # SPAM DAO, says so on snapshot\n",
    "    # Las propuestas duran 3 días\n",
    "    (False,   '3d',         None, 'snapshot', 'HUWA-DAO'),\n",
    "    # Las propuestas duran 2 días\n",
    "    (False,   '2d',         None, 'snapshot', 'Index Coop'),\n",
    "    # Vamos a probar a ver que tal\n",
    "    (True, 'W-THU', '2020-11-06', ['daohaus', 'snapshot'], 'MetaCartel - MetaCartel Ventures'),\n",
    "    # Las propuestas duran 3 días\n",
    "    (True,    '3d', '2023-07-01', 'snapshot', 'PancakeSwap'),\n",
    "    # La super tocha (ya se entrenará luego)\n",
    "    (True,    '5d',   MAX_CUTOFF, 'snapshot', 'Aave - Aavegotchi'),\n",
    "    # ('snapshot', 'WEALTHDAO'), # SPAM DAO, says so on snapshot\n",
    "]"
   ]
  },
  {
   "cell_type": "code",
   "execution_count": null,
   "id": "c9f3ddaf-e451-449e-9974-e8768217757e",
   "metadata": {
    "editable": true,
    "slideshow": {
     "slide_type": ""
    },
    "tags": []
   },
   "outputs": [
    {
     "name": "stdout",
     "output_type": "stream",
     "text": [
      "Running notebooks for Decentraland\n"
     ]
    },
    {
     "data": {
      "application/vnd.jupyter.widget-view+json": {
       "model_id": "08bded66cb7f4ea5b5419a9df34598a2",
       "version_major": 2,
       "version_minor": 0
      },
      "text/plain": [
       "Executing:   0%|          | 0/23 [00:00<?, ?cell/s]"
      ]
     },
     "metadata": {},
     "output_type": "display_data"
    },
    {
     "name": "stdout",
     "output_type": "stream",
     "text": [
      "Running notebooks for Balancer\n"
     ]
    },
    {
     "data": {
      "application/vnd.jupyter.widget-view+json": {
       "model_id": "322b294a5b5f4039a797f8c1c23f963a",
       "version_major": 2,
       "version_minor": 0
      },
      "text/plain": [
       "Executing:   0%|          | 0/23 [00:00<?, ?cell/s]"
      ]
     },
     "metadata": {},
     "output_type": "display_data"
    },
    {
     "name": "stdout",
     "output_type": "stream",
     "text": [
      "Running notebooks for DEAD FoundationsDAO\n"
     ]
    },
    {
     "data": {
      "application/vnd.jupyter.widget-view+json": {
       "model_id": "4fc4df05b2f54c33ab67e29159e86278",
       "version_major": 2,
       "version_minor": 0
      },
      "text/plain": [
       "Executing:   0%|          | 0/23 [00:00<?, ?cell/s]"
      ]
     },
     "metadata": {},
     "output_type": "display_data"
    },
    {
     "name": "stdout",
     "output_type": "stream",
     "text": [
      "Running notebooks for dxDAO - xDXdao\n"
     ]
    },
    {
     "data": {
      "application/vnd.jupyter.widget-view+json": {
       "model_id": "d2eeacacd3744f4190b2924be8aeaa7b",
       "version_major": 2,
       "version_minor": 0
      },
      "text/plain": [
       "Executing:   0%|          | 0/23 [00:00<?, ?cell/s]"
      ]
     },
     "metadata": {},
     "output_type": "display_data"
    },
    {
     "name": "stdout",
     "output_type": "stream",
     "text": [
      "Running notebooks for HUWA-DAO\n"
     ]
    },
    {
     "data": {
      "application/vnd.jupyter.widget-view+json": {
       "model_id": "5fd6977830d942aa877d1f26507f14df",
       "version_major": 2,
       "version_minor": 0
      },
      "text/plain": [
       "Executing:   0%|          | 0/23 [00:00<?, ?cell/s]"
      ]
     },
     "metadata": {},
     "output_type": "display_data"
    },
    {
     "name": "stdout",
     "output_type": "stream",
     "text": [
      "Running notebooks for Index Coop\n"
     ]
    },
    {
     "data": {
      "application/vnd.jupyter.widget-view+json": {
       "model_id": "1555b1858af346948e5f681ccdd0271f",
       "version_major": 2,
       "version_minor": 0
      },
      "text/plain": [
       "Executing:   0%|          | 0/23 [00:00<?, ?cell/s]"
      ]
     },
     "metadata": {},
     "output_type": "display_data"
    },
    {
     "name": "stdout",
     "output_type": "stream",
     "text": [
      "Running notebooks for MetaCartel - MetaCartel Ventures\n"
     ]
    },
    {
     "data": {
      "application/vnd.jupyter.widget-view+json": {
       "model_id": "17cd7a1f439c4d00a851beb87745dfc6",
       "version_major": 2,
       "version_minor": 0
      },
      "text/plain": [
       "Executing:   0%|          | 0/23 [00:00<?, ?cell/s]"
      ]
     },
     "metadata": {},
     "output_type": "display_data"
    },
    {
     "name": "stdout",
     "output_type": "stream",
     "text": [
      "Running notebooks for PancakeSwap\n"
     ]
    },
    {
     "data": {
      "application/vnd.jupyter.widget-view+json": {
       "model_id": "c3b802e0ed364a198e3c2c00e4923123",
       "version_major": 2,
       "version_minor": 0
      },
      "text/plain": [
       "Executing:   0%|          | 0/23 [00:00<?, ?cell/s]"
      ]
     },
     "metadata": {},
     "output_type": "display_data"
    },
    {
     "name": "stdout",
     "output_type": "stream",
     "text": [
      "Running notebooks for Aave - Aavegotchi\n"
     ]
    },
    {
     "data": {
      "application/vnd.jupyter.widget-view+json": {
       "model_id": "eac5ee1d01d94584a8fcae81856ea0ab",
       "version_major": 2,
       "version_minor": 0
      },
      "text/plain": [
       "Executing:   0%|          | 0/23 [00:00<?, ?cell/s]"
      ]
     },
     "metadata": {},
     "output_type": "display_data"
    },
    {
     "name": "stderr",
     "output_type": "stream",
     "text": [
      "2024-03-11 17:25:20.547955: E tensorflow/compiler/xla/stream_executor/cuda/cuda_dnn.cc:9342] Unable to register cuDNN factory: Attempting to register factory for plugin cuDNN when one has already been registered\n",
      "2024-03-11 17:25:20.547978: E tensorflow/compiler/xla/stream_executor/cuda/cuda_fft.cc:609] Unable to register cuFFT factory: Attempting to register factory for plugin cuFFT when one has already been registered\n",
      "2024-03-11 17:25:20.547991: E tensorflow/compiler/xla/stream_executor/cuda/cuda_blas.cc:1518] Unable to register cuBLAS factory: Attempting to register factory for plugin cuBLAS when one has already been registered\n"
     ]
    }
   ],
   "source": [
    "nb_name = Path('./30_run_one.ipynb')\n",
    "\n",
    "for do_train, freq, cutoff, platform, org in ORGS:\n",
    "    print(f\"Running notebooks for {org}\")\n",
    "    outpath = Path(f'./nbout/{org.replace(\" / \", \"_\")}')\n",
    "    outpath.mkdir(parents=True, exist_ok=True)\n",
    "    \n",
    "    pm.execute_notebook(\n",
    "        nb_name,\n",
    "        outpath / nb_name,\n",
    "        autosave_cell_every=60,\n",
    "        parameters=dict(\n",
    "            ORG_NAME = org,\n",
    "            ORG_PLATFORM = platform,\n",
    "            SPLITS_FREQ = freq,\n",
    "            SPLITS_NORMALIZE = SPLITS_NORMALIZE,\n",
    "            LAST_SPLITS = LAST_SPLITS,\n",
    "            USE_ORG_NAMES = True,\n",
    "            EXECUTION_ID = EXECUTION_ID,\n",
    "            DO_TRAIN = do_train,\n",
    "            CUTOFF_DATE_STR = cutoff,\n",
    "        ),\n",
    "    )"
   ]
  },
  {
   "cell_type": "code",
   "execution_count": null,
   "id": "5a012f12-8ece-4b76-9562-b836ccf4e212",
   "metadata": {
    "editable": true,
    "slideshow": {
     "slide_type": ""
    },
    "tags": []
   },
   "outputs": [],
   "source": []
  }
 ],
 "metadata": {
  "kernelspec": {
   "display_name": "Python 3 (ipykernel)",
   "language": "python",
   "name": "python3"
  },
  "language_info": {
   "codemirror_mode": {
    "name": "ipython",
    "version": 3
   },
   "file_extension": ".py",
   "mimetype": "text/x-python",
   "name": "python",
   "nbconvert_exporter": "python",
   "pygments_lexer": "ipython3",
   "version": "3.9.18"
  },
  "widgets": {
   "application/vnd.jupyter.widget-state+json": {
    "state": {
     "04d519e843494a35aca5972c3dd34e54": {
      "model_module": "@jupyter-widgets/controls",
      "model_module_version": "2.0.0",
      "model_name": "HTMLStyleModel",
      "state": {
       "description_width": "",
       "font_size": null,
       "text_color": null
      }
     },
     "259107eeb8394b15ae503bfe4ad0b0d5": {
      "model_module": "@jupyter-widgets/controls",
      "model_module_version": "2.0.0",
      "model_name": "FloatProgressModel",
      "state": {
       "layout": "IPY_MODEL_f1022a82cf3f4524af340157127df30f",
       "max": 23,
       "style": "IPY_MODEL_b9c5b1f885e645b7bcc54eb051790b8c",
       "value": 16
      }
     },
     "41f4355a21e947e4963e31a72f627817": {
      "model_module": "@jupyter-widgets/controls",
      "model_module_version": "2.0.0",
      "model_name": "HBoxModel",
      "state": {
       "children": [
        "IPY_MODEL_75f2a1dfbb574de4ba07af170e7629e4",
        "IPY_MODEL_259107eeb8394b15ae503bfe4ad0b0d5",
        "IPY_MODEL_89eec55cedf5495bba67749817fa470a"
       ],
       "layout": "IPY_MODEL_d4e2dc9ac8ae49efbb2893309598c6e9"
      }
     },
     "75f2a1dfbb574de4ba07af170e7629e4": {
      "model_module": "@jupyter-widgets/controls",
      "model_module_version": "2.0.0",
      "model_name": "HTMLModel",
      "state": {
       "layout": "IPY_MODEL_f70f74537c784f4d8dc327ce01db1096",
       "style": "IPY_MODEL_04d519e843494a35aca5972c3dd34e54",
       "value": "Executing microsoft:  70%"
      }
     },
     "89eec55cedf5495bba67749817fa470a": {
      "model_module": "@jupyter-widgets/controls",
      "model_module_version": "2.0.0",
      "model_name": "HTMLModel",
      "state": {
       "layout": "IPY_MODEL_9583b8283e124584a4f8e9d739e2e85b",
       "style": "IPY_MODEL_a2b9b9ed657a48619acbb340b99a5ef3",
       "value": " 16/23 [00:20&lt;00:00, 16.64cell/s]"
      }
     },
     "9583b8283e124584a4f8e9d739e2e85b": {
      "model_module": "@jupyter-widgets/base",
      "model_module_version": "2.0.0",
      "model_name": "LayoutModel",
      "state": {}
     },
     "a2b9b9ed657a48619acbb340b99a5ef3": {
      "model_module": "@jupyter-widgets/controls",
      "model_module_version": "2.0.0",
      "model_name": "HTMLStyleModel",
      "state": {
       "description_width": "",
       "font_size": null,
       "text_color": null
      }
     },
     "b9c5b1f885e645b7bcc54eb051790b8c": {
      "model_module": "@jupyter-widgets/controls",
      "model_module_version": "2.0.0",
      "model_name": "ProgressStyleModel",
      "state": {
       "description_width": ""
      }
     },
     "d4e2dc9ac8ae49efbb2893309598c6e9": {
      "model_module": "@jupyter-widgets/base",
      "model_module_version": "2.0.0",
      "model_name": "LayoutModel",
      "state": {}
     },
     "f1022a82cf3f4524af340157127df30f": {
      "model_module": "@jupyter-widgets/base",
      "model_module_version": "2.0.0",
      "model_name": "LayoutModel",
      "state": {}
     },
     "f70f74537c784f4d8dc327ce01db1096": {
      "model_module": "@jupyter-widgets/base",
      "model_module_version": "2.0.0",
      "model_name": "LayoutModel",
      "state": {}
     }
    },
    "version_major": 2,
    "version_minor": 0
   }
  }
 },
 "nbformat": 4,
 "nbformat_minor": 5
}
