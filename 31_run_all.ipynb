{
 "cells": [
  {
   "cell_type": "code",
   "execution_count": 1,
   "id": "8864aa17-797f-48b5-a15f-d15d80652d46",
   "metadata": {
    "editable": true,
    "slideshow": {
     "slide_type": ""
    },
    "tags": []
   },
   "outputs": [],
   "source": [
    "from typing import List, Tuple\n",
    "\n",
    "from pathlib import Path\n",
    "from IPython.display import Markdown\n",
    "import datetime as dt\n",
    "import re\n",
    "\n",
    "import papermill as pm\n",
    "\n",
    "from src import paths\n",
    "from src.datasets import daocensus_text"
   ]
  },
  {
   "cell_type": "code",
   "execution_count": 2,
   "id": "e07618a6-eadb-499b-ba98-38e8d820f344",
   "metadata": {},
   "outputs": [
    {
     "data": {
      "text/plain": [
       "'2023-07-28T10:55:23'"
      ]
     },
     "execution_count": 2,
     "metadata": {},
     "output_type": "execute_result"
    }
   ],
   "source": [
    "daocensus_text.get_latest_date('./data/daos-census-text').isoformat()"
   ]
  },
  {
   "cell_type": "code",
   "execution_count": 3,
   "id": "b17f5b20-88da-449a-a2c1-84d848f7cee0",
   "metadata": {
    "editable": true,
    "slideshow": {
     "slide_type": ""
    },
    "tags": []
   },
   "outputs": [],
   "source": [
    "DEFAULT_FREQ: str = 'W-THU' # split weekly\n",
    "SPLITS_NORMALIZE = True # Wether or not to move everything to 00:00\n",
    "LAST_SPLITS = 10 # Use just last 10 splits\n",
    "\n",
    "EXECUTION_ID = \"2024-03-21\"\n",
    "MAX_CUTOFF = '2023-07-29'\n",
    "\n",
    "# Avoid using dt.datetime.utcnow() because its used in caching too\n",
    "\n",
    "# Train, Cutoff date, Platform(s), Org Name\n",
    "# If the platform is none, it will be ALL PLATFORMS\n",
    "# If the cutoff date is none, it will use last 10 folds\n",
    "ORGS: List[Tuple[bool, str, str, str, str]] = [\n",
    "    # The first one, used to test if everything goes fine\n",
    "    (True, 'W-THU',   MAX_CUTOFF, 'snapshot', 'Decentraland'),\n",
    "    # ('snapshot', '9K DAO'), # SPAM DAO, says so on snapshot\n",
    "    # Las propuestas duran 3-4 días\n",
    "    (False,   '3d',         None, 'snapshot', 'Balancer'),\n",
    "    # Las propuestas duran 2 días\n",
    "    # DAO muerta, probando con folds antiguos\n",
    "    (True,    '2d', '2021-11-28', 'daohaus',  'DEAD FoundationsDAO'),\n",
    "    # La clásica\n",
    "    # Las propuestas duran 5 días\n",
    "    (False,   '5d',         None, 'daostack', 'dxDAO - xDXdao'),\n",
    "    # ('snapshot', 'gm DAO'), # SPAM DAO, says so on snapshot\n",
    "    # Las propuestas duran 3 días\n",
    "    (False,   '3d',         None, 'snapshot', 'HUWA-DAO'),\n",
    "    # Las propuestas duran 2 días\n",
    "    (False,   '2d',         None, 'snapshot', 'Index Coop'),\n",
    "    # Vamos a probar a ver que tal\n",
    "    (True, 'W-THU', '2020-11-06', ['daohaus', 'snapshot'], 'MetaCartel - MetaCartel Ventures'),\n",
    "    # Las propuestas duran 3 días\n",
    "    (True,    '3d', '2023-07-01', 'snapshot', 'PancakeSwap'),\n",
    "    # Demasiado grande, da problemas de escalabilidad\n",
    "    (False,    '5d',   MAX_CUTOFF, 'snapshot', 'Aave - Aavegotchi'),\n",
    "    # ('snapshot', 'WEALTHDAO'), # SPAM DAO, says so on snapshot\n",
    "]"
   ]
  },
  {
   "cell_type": "code",
   "execution_count": null,
   "id": "c9f3ddaf-e451-449e-9974-e8768217757e",
   "metadata": {
    "editable": true,
    "slideshow": {
     "slide_type": ""
    },
    "tags": []
   },
   "outputs": [
    {
     "name": "stdout",
     "output_type": "stream",
     "text": [
      "Running notebooks for Decentraland\n"
     ]
    },
    {
     "data": {
      "application/vnd.jupyter.widget-view+json": {
       "model_id": "6aa685cf8d4940d982a533e05d7430dd",
       "version_major": 2,
       "version_minor": 0
      },
      "text/plain": [
       "Executing:   0%|          | 0/23 [00:00<?, ?cell/s]"
      ]
     },
     "metadata": {},
     "output_type": "display_data"
    },
    {
     "name": "stdout",
     "output_type": "stream",
     "text": [
      "Running notebooks for Balancer\n"
     ]
    },
    {
     "data": {
      "application/vnd.jupyter.widget-view+json": {
       "model_id": "6c1cfc2be3c346a8b8f611e453cd61f0",
       "version_major": 2,
       "version_minor": 0
      },
      "text/plain": [
       "Executing:   0%|          | 0/23 [00:00<?, ?cell/s]"
      ]
     },
     "metadata": {},
     "output_type": "display_data"
    },
    {
     "name": "stdout",
     "output_type": "stream",
     "text": [
      "Running notebooks for DEAD FoundationsDAO\n"
     ]
    },
    {
     "data": {
      "application/vnd.jupyter.widget-view+json": {
       "model_id": "92d84189754747d7a5e80b673981ebe6",
       "version_major": 2,
       "version_minor": 0
      },
      "text/plain": [
       "Executing:   0%|          | 0/23 [00:00<?, ?cell/s]"
      ]
     },
     "metadata": {},
     "output_type": "display_data"
    },
    {
     "name": "stdout",
     "output_type": "stream",
     "text": [
      "Running notebooks for dxDAO - xDXdao\n"
     ]
    },
    {
     "data": {
      "application/vnd.jupyter.widget-view+json": {
       "model_id": "179452e42a5747f4adc2f105722207d1",
       "version_major": 2,
       "version_minor": 0
      },
      "text/plain": [
       "Executing:   0%|          | 0/23 [00:00<?, ?cell/s]"
      ]
     },
     "metadata": {},
     "output_type": "display_data"
    },
    {
     "name": "stdout",
     "output_type": "stream",
     "text": [
      "Running notebooks for HUWA-DAO\n"
     ]
    },
    {
     "data": {
      "application/vnd.jupyter.widget-view+json": {
       "model_id": "8e3b9ae1e6b445619f09dbe37b1d0d3d",
       "version_major": 2,
       "version_minor": 0
      },
      "text/plain": [
       "Executing:   0%|          | 0/23 [00:00<?, ?cell/s]"
      ]
     },
     "metadata": {},
     "output_type": "display_data"
    },
    {
     "name": "stdout",
     "output_type": "stream",
     "text": [
      "Running notebooks for Index Coop\n"
     ]
    },
    {
     "data": {
      "application/vnd.jupyter.widget-view+json": {
       "model_id": "497327f282dd483e9beecd85763a934a",
       "version_major": 2,
       "version_minor": 0
      },
      "text/plain": [
       "Executing:   0%|          | 0/23 [00:00<?, ?cell/s]"
      ]
     },
     "metadata": {},
     "output_type": "display_data"
    },
    {
     "name": "stdout",
     "output_type": "stream",
     "text": [
      "Running notebooks for MetaCartel - MetaCartel Ventures\n"
     ]
    },
    {
     "data": {
      "application/vnd.jupyter.widget-view+json": {
       "model_id": "bac0620e6d3a44a9848b3db449014df7",
       "version_major": 2,
       "version_minor": 0
      },
      "text/plain": [
       "Executing:   0%|          | 0/23 [00:00<?, ?cell/s]"
      ]
     },
     "metadata": {},
     "output_type": "display_data"
    },
    {
     "name": "stdout",
     "output_type": "stream",
     "text": [
      "Running notebooks for PancakeSwap\n"
     ]
    },
    {
     "data": {
      "application/vnd.jupyter.widget-view+json": {
       "model_id": "b8c00b489cd6469f860d1706824bca5e",
       "version_major": 2,
       "version_minor": 0
      },
      "text/plain": [
       "Executing:   0%|          | 0/23 [00:00<?, ?cell/s]"
      ]
     },
     "metadata": {},
     "output_type": "display_data"
    },
    {
     "name": "stderr",
     "output_type": "stream",
     "text": [
      "2024-03-23 15:52:29.318823: E tensorflow/compiler/xla/stream_executor/cuda/cuda_dnn.cc:9342] Unable to register cuDNN factory: Attempting to register factory for plugin cuDNN when one has already been registered\n",
      "2024-03-23 15:52:29.318844: E tensorflow/compiler/xla/stream_executor/cuda/cuda_fft.cc:609] Unable to register cuFFT factory: Attempting to register factory for plugin cuFFT when one has already been registered\n",
      "2024-03-23 15:52:29.318857: E tensorflow/compiler/xla/stream_executor/cuda/cuda_blas.cc:1518] Unable to register cuBLAS factory: Attempting to register factory for plugin cuBLAS when one has already been registered\n"
     ]
    }
   ],
   "source": [
    "nb_name = Path('./30_run_one.ipynb')\n",
    "\n",
    "for do_train, freq, cutoff, platform, org in ORGS:\n",
    "    print(f\"Running notebooks for {org}\")\n",
    "    outpath = Path(f'./nbout/{org.replace(\" / \", \"_\")}')\n",
    "    outpath.mkdir(parents=True, exist_ok=True)\n",
    "    \n",
    "    pm.execute_notebook(\n",
    "        nb_name,\n",
    "        outpath / nb_name,\n",
    "        autosave_cell_every=60,\n",
    "        parameters=dict(\n",
    "            ORG_NAME = org,\n",
    "            ORG_PLATFORM = platform,\n",
    "            SPLITS_FREQ = freq,\n",
    "            SPLITS_NORMALIZE = SPLITS_NORMALIZE,\n",
    "            LAST_SPLITS = LAST_SPLITS,\n",
    "            USE_ORG_NAMES = True,\n",
    "            EXECUTION_ID = EXECUTION_ID,\n",
    "            DO_TRAIN = do_train,\n",
    "            CUTOFF_DATE_STR = cutoff,\n",
    "        ),\n",
    "    )"
   ]
  },
  {
   "cell_type": "code",
   "execution_count": null,
   "id": "5a012f12-8ece-4b76-9562-b836ccf4e212",
   "metadata": {
    "editable": true,
    "slideshow": {
     "slide_type": ""
    },
    "tags": []
   },
   "outputs": [],
   "source": []
  }
 ],
 "metadata": {
  "kernelspec": {
   "display_name": "Python 3 (ipykernel)",
   "language": "python",
   "name": "python3"
  },
  "language_info": {
   "codemirror_mode": {
    "name": "ipython",
    "version": 3
   },
   "file_extension": ".py",
   "mimetype": "text/x-python",
   "name": "python",
   "nbconvert_exporter": "python",
   "pygments_lexer": "ipython3",
   "version": "3.9.18"
  },
  "widgets": {
   "application/vnd.jupyter.widget-state+json": {
    "state": {
     "046cb31eb12140ecb52e987cbb7c37cd": {
      "model_module": "@jupyter-widgets/controls",
      "model_module_version": "2.0.0",
      "model_name": "FloatProgressModel",
      "state": {
       "bar_style": "success",
       "layout": "IPY_MODEL_cd4917a3a68240b9be890b999a47d856",
       "max": 23,
       "style": "IPY_MODEL_55d97b21cdc340e4a5d96d5ce45e90a6",
       "value": 23
      }
     },
     "08bded66cb7f4ea5b5419a9df34598a2": {
      "model_module": "@jupyter-widgets/controls",
      "model_module_version": "2.0.0",
      "model_name": "HBoxModel",
      "state": {
       "children": [
        "IPY_MODEL_a73c378554eb4b10abec767e6d4b4905",
        "IPY_MODEL_046cb31eb12140ecb52e987cbb7c37cd",
        "IPY_MODEL_1d42e984f16c486c982c03d06d6337ce"
       ],
       "layout": "IPY_MODEL_f779511366bf435cb3555a7ec8b537c9"
      }
     },
     "0d084daec328424298381d6ccfd4385d": {
      "model_module": "@jupyter-widgets/controls",
      "model_module_version": "2.0.0",
      "model_name": "HTMLModel",
      "state": {
       "layout": "IPY_MODEL_ca9769ec25194e60a414b0789e82e7e2",
       "style": "IPY_MODEL_e94d644cbb014e9ca7f9ce7c9c9ec59d",
       "value": " 23/23 [00:01&lt;00:00, 21.44cell/s]"
      }
     },
     "123fb4442b5442408fa4abb8a655ab8c": {
      "model_module": "@jupyter-widgets/controls",
      "model_module_version": "2.0.0",
      "model_name": "HTMLModel",
      "state": {
       "layout": "IPY_MODEL_3c8d18bb954f4d688f03a128ee0dbab4",
       "style": "IPY_MODEL_881b8ecf092c4de69d38556f37c04884",
       "value": " 13/23 [00:01&lt;00:00, 12.51cell/s]"
      }
     },
     "12b18d2a00cd44af9e22aaa4dfd5ab46": {
      "model_module": "@jupyter-widgets/base",
      "model_module_version": "2.0.0",
      "model_name": "LayoutModel",
      "state": {}
     },
     "1555b1858af346948e5f681ccdd0271f": {
      "model_module": "@jupyter-widgets/controls",
      "model_module_version": "2.0.0",
      "model_name": "HBoxModel",
      "state": {
       "children": [
        "IPY_MODEL_eaa538d36b264bca83d8c258278968bf",
        "IPY_MODEL_bbf0293b0a1d443d920d4bf32222e547",
        "IPY_MODEL_e373d8efd75f40fcaa1a2a27ef8a95e7"
       ],
       "layout": "IPY_MODEL_38e9486e425f41ac97203c0b3edb55c6"
      }
     },
     "15771aa0274240f090df3bf337fc0235": {
      "model_module": "@jupyter-widgets/controls",
      "model_module_version": "2.0.0",
      "model_name": "HTMLModel",
      "state": {
       "layout": "IPY_MODEL_c53c01e04a9f41b3b1a40683e008a714",
       "style": "IPY_MODEL_d9ce53cd8fd04c3e99ab20e4247c0a31",
       "value": "Executing results: 100%"
      }
     },
     "17cd7a1f439c4d00a851beb87745dfc6": {
      "model_module": "@jupyter-widgets/controls",
      "model_module_version": "2.0.0",
      "model_name": "HBoxModel",
      "state": {
       "children": [
        "IPY_MODEL_15771aa0274240f090df3bf337fc0235",
        "IPY_MODEL_456b61d8a1c940baa4555aca00d4f536",
        "IPY_MODEL_1ce70e479a7e425ba803d3e7dd2d657f"
       ],
       "layout": "IPY_MODEL_7b0bfa305a2b4da885758bcbc7b98ed2"
      }
     },
     "1ce70e479a7e425ba803d3e7dd2d657f": {
      "model_module": "@jupyter-widgets/controls",
      "model_module_version": "2.0.0",
      "model_name": "HTMLModel",
      "state": {
       "layout": "IPY_MODEL_c06e0f2c8528482da83f873e8dadd4e6",
       "style": "IPY_MODEL_87f65609fe4b4c04a552e1ea10050f83",
       "value": " 23/23 [00:01&lt;00:00, 20.36cell/s]"
      }
     },
     "1d42e984f16c486c982c03d06d6337ce": {
      "model_module": "@jupyter-widgets/controls",
      "model_module_version": "2.0.0",
      "model_name": "HTMLModel",
      "state": {
       "layout": "IPY_MODEL_6cf3f667f701432fbf236eb775eff50d",
       "style": "IPY_MODEL_fe3b769881194f6ea14b8b4e19eeb08c",
       "value": " 23/23 [00:01&lt;00:00, 22.20cell/s]"
      }
     },
     "22bdb61ce80343b1b2de094294552130": {
      "model_module": "@jupyter-widgets/controls",
      "model_module_version": "2.0.0",
      "model_name": "HTMLModel",
      "state": {
       "layout": "IPY_MODEL_965eea9075b841da9f7e30cb7ac0ee82",
       "style": "IPY_MODEL_68d5a89e716740d6a8fd2e3171faae9c",
       "value": "Executing results: 100%"
      }
     },
     "22cd0b4806cc4d169476b89b0329cf62": {
      "model_module": "@jupyter-widgets/controls",
      "model_module_version": "2.0.0",
      "model_name": "HTMLModel",
      "state": {
       "layout": "IPY_MODEL_4b36be61e0e14677a3ac460feaf71870",
       "style": "IPY_MODEL_3a3e6ddf2dda4aaf884a29a79fe54173",
       "value": " 13/23 [00:01&lt;00:00, 12.28cell/s]"
      }
     },
     "22dc1597fc9c4cef93be55de6b1a656e": {
      "model_module": "@jupyter-widgets/base",
      "model_module_version": "2.0.0",
      "model_name": "LayoutModel",
      "state": {}
     },
     "2302f9c089354f0a9d6b70ccdfc58093": {
      "model_module": "@jupyter-widgets/controls",
      "model_module_version": "2.0.0",
      "model_name": "ProgressStyleModel",
      "state": {
       "description_width": ""
      }
     },
     "254d71f332674e33aaf849449ec574a5": {
      "model_module": "@jupyter-widgets/controls",
      "model_module_version": "2.0.0",
      "model_name": "HTMLModel",
      "state": {
       "layout": "IPY_MODEL_e3f86ee6959f49c8ad741724a7f9a6a1",
       "style": "IPY_MODEL_5879362c1adf4684aae823efbd3381e6",
       "value": "Executing check_train:  57%"
      }
     },
     "264cef7f03704f5791e2605b1ff22653": {
      "model_module": "@jupyter-widgets/base",
      "model_module_version": "2.0.0",
      "model_name": "LayoutModel",
      "state": {}
     },
     "2be4a185618b421c9f61aab7f31994a0": {
      "model_module": "@jupyter-widgets/controls",
      "model_module_version": "2.0.0",
      "model_name": "FloatProgressModel",
      "state": {
       "bar_style": "success",
       "layout": "IPY_MODEL_6a2ef4f154f14d7bb75f2558bb1868b7",
       "max": 23,
       "style": "IPY_MODEL_3fc3ab311ca6401080ec700d73f199be",
       "value": 23
      }
     },
     "306e723a7bd847edb11fba48de451523": {
      "model_module": "@jupyter-widgets/base",
      "model_module_version": "2.0.0",
      "model_name": "LayoutModel",
      "state": {}
     },
     "315185d06e534e5e95e321efca7f3f27": {
      "model_module": "@jupyter-widgets/controls",
      "model_module_version": "2.0.0",
      "model_name": "FloatProgressModel",
      "state": {
       "bar_style": "danger",
       "layout": "IPY_MODEL_264cef7f03704f5791e2605b1ff22653",
       "max": 23,
       "style": "IPY_MODEL_2302f9c089354f0a9d6b70ccdfc58093",
       "value": 13
      }
     },
     "322b294a5b5f4039a797f8c1c23f963a": {
      "model_module": "@jupyter-widgets/controls",
      "model_module_version": "2.0.0",
      "model_name": "HBoxModel",
      "state": {
       "children": [
        "IPY_MODEL_5bfbda9a0edc48ea9ae96534916f673c",
        "IPY_MODEL_ce5e3be0c4c24f3b960dee69823ff86c",
        "IPY_MODEL_22cd0b4806cc4d169476b89b0329cf62"
       ],
       "layout": "IPY_MODEL_36a10f9e007e4bc49e8a858e8ba6db97"
      }
     },
     "3419a19bb2474e039a298da4664618bc": {
      "model_module": "@jupyter-widgets/base",
      "model_module_version": "2.0.0",
      "model_name": "LayoutModel",
      "state": {}
     },
     "3662c2d58b4248fc83d4443ef209a372": {
      "model_module": "@jupyter-widgets/base",
      "model_module_version": "2.0.0",
      "model_name": "LayoutModel",
      "state": {}
     },
     "36a10f9e007e4bc49e8a858e8ba6db97": {
      "model_module": "@jupyter-widgets/base",
      "model_module_version": "2.0.0",
      "model_name": "LayoutModel",
      "state": {}
     },
     "373d95660e4f496b88ab979478aa3eaf": {
      "model_module": "@jupyter-widgets/controls",
      "model_module_version": "2.0.0",
      "model_name": "HTMLModel",
      "state": {
       "layout": "IPY_MODEL_eeacaf17305a43cfa35e4d158e881c37",
       "style": "IPY_MODEL_c0db1eefa80146fc8ddb71de6e219fd2",
       "value": "Executing results: 100%"
      }
     },
     "38e9486e425f41ac97203c0b3edb55c6": {
      "model_module": "@jupyter-widgets/base",
      "model_module_version": "2.0.0",
      "model_name": "LayoutModel",
      "state": {}
     },
     "3a3e6ddf2dda4aaf884a29a79fe54173": {
      "model_module": "@jupyter-widgets/controls",
      "model_module_version": "2.0.0",
      "model_name": "HTMLStyleModel",
      "state": {
       "description_width": "",
       "font_size": null,
       "text_color": null
      }
     },
     "3b2bd5201ca44c2e8e91a640a440fc47": {
      "model_module": "@jupyter-widgets/controls",
      "model_module_version": "2.0.0",
      "model_name": "FloatProgressModel",
      "state": {
       "bar_style": "danger",
       "layout": "IPY_MODEL_3419a19bb2474e039a298da4664618bc",
       "max": 23,
       "style": "IPY_MODEL_5346689944f940688bafd244dd4f1add",
       "value": 13
      }
     },
     "3c8d18bb954f4d688f03a128ee0dbab4": {
      "model_module": "@jupyter-widgets/base",
      "model_module_version": "2.0.0",
      "model_name": "LayoutModel",
      "state": {}
     },
     "3f663bcd41904298bac8ebc18a9b978e": {
      "model_module": "@jupyter-widgets/controls",
      "model_module_version": "2.0.0",
      "model_name": "HTMLModel",
      "state": {
       "layout": "IPY_MODEL_dd1dfab26ce04629a114b4f9ed227887",
       "style": "IPY_MODEL_44b76393abc04d1dbf5c709a59a6d7eb",
       "value": "Executing check_train:  57%"
      }
     },
     "3fc3ab311ca6401080ec700d73f199be": {
      "model_module": "@jupyter-widgets/controls",
      "model_module_version": "2.0.0",
      "model_name": "ProgressStyleModel",
      "state": {
       "description_width": ""
      }
     },
     "44b76393abc04d1dbf5c709a59a6d7eb": {
      "model_module": "@jupyter-widgets/controls",
      "model_module_version": "2.0.0",
      "model_name": "HTMLStyleModel",
      "state": {
       "description_width": "",
       "font_size": null,
       "text_color": null
      }
     },
     "456b61d8a1c940baa4555aca00d4f536": {
      "model_module": "@jupyter-widgets/controls",
      "model_module_version": "2.0.0",
      "model_name": "FloatProgressModel",
      "state": {
       "bar_style": "success",
       "layout": "IPY_MODEL_638e6e3b03194469a35aef9dd0de5297",
       "max": 23,
       "style": "IPY_MODEL_67f60a11dff54ae0b694751dad877986",
       "value": 23
      }
     },
     "4aa8bdd7e27144e488bbf5b484510746": {
      "model_module": "@jupyter-widgets/controls",
      "model_module_version": "2.0.0",
      "model_name": "ProgressStyleModel",
      "state": {
       "description_width": ""
      }
     },
     "4b36be61e0e14677a3ac460feaf71870": {
      "model_module": "@jupyter-widgets/base",
      "model_module_version": "2.0.0",
      "model_name": "LayoutModel",
      "state": {}
     },
     "4be90faff73e4703b01c9336c2fe4788": {
      "model_module": "@jupyter-widgets/controls",
      "model_module_version": "2.0.0",
      "model_name": "FloatProgressModel",
      "state": {
       "bar_style": "danger",
       "layout": "IPY_MODEL_76bc5340d6a94b99b0d8685f3e428f92",
       "max": 23,
       "style": "IPY_MODEL_51c3bdf3d7d340afba29f32efdbd3307",
       "value": 17
      }
     },
     "4ec244cced9b4cd8afcbf1b73d483b14": {
      "model_module": "@jupyter-widgets/controls",
      "model_module_version": "2.0.0",
      "model_name": "ProgressStyleModel",
      "state": {
       "description_width": ""
      }
     },
     "4fc4df05b2f54c33ab67e29159e86278": {
      "model_module": "@jupyter-widgets/controls",
      "model_module_version": "2.0.0",
      "model_name": "HBoxModel",
      "state": {
       "children": [
        "IPY_MODEL_22bdb61ce80343b1b2de094294552130",
        "IPY_MODEL_2be4a185618b421c9f61aab7f31994a0",
        "IPY_MODEL_0d084daec328424298381d6ccfd4385d"
       ],
       "layout": "IPY_MODEL_51b01728855a46dba0cc74aa58a382fb"
      }
     },
     "517749c05e3244658097ceb1611d048a": {
      "model_module": "@jupyter-widgets/base",
      "model_module_version": "2.0.0",
      "model_name": "LayoutModel",
      "state": {}
     },
     "51b01728855a46dba0cc74aa58a382fb": {
      "model_module": "@jupyter-widgets/base",
      "model_module_version": "2.0.0",
      "model_name": "LayoutModel",
      "state": {}
     },
     "51c3bdf3d7d340afba29f32efdbd3307": {
      "model_module": "@jupyter-widgets/controls",
      "model_module_version": "2.0.0",
      "model_name": "ProgressStyleModel",
      "state": {
       "description_width": ""
      }
     },
     "5346689944f940688bafd244dd4f1add": {
      "model_module": "@jupyter-widgets/controls",
      "model_module_version": "2.0.0",
      "model_name": "ProgressStyleModel",
      "state": {
       "description_width": ""
      }
     },
     "55d97b21cdc340e4a5d96d5ce45e90a6": {
      "model_module": "@jupyter-widgets/controls",
      "model_module_version": "2.0.0",
      "model_name": "ProgressStyleModel",
      "state": {
       "description_width": ""
      }
     },
     "5879362c1adf4684aae823efbd3381e6": {
      "model_module": "@jupyter-widgets/controls",
      "model_module_version": "2.0.0",
      "model_name": "HTMLStyleModel",
      "state": {
       "description_width": "",
       "font_size": null,
       "text_color": null
      }
     },
     "5bfbda9a0edc48ea9ae96534916f673c": {
      "model_module": "@jupyter-widgets/controls",
      "model_module_version": "2.0.0",
      "model_name": "HTMLModel",
      "state": {
       "layout": "IPY_MODEL_306e723a7bd847edb11fba48de451523",
       "style": "IPY_MODEL_abff477283d147a786ae84fe323893f3",
       "value": "Executing check_train:  57%"
      }
     },
     "5fd6977830d942aa877d1f26507f14df": {
      "model_module": "@jupyter-widgets/controls",
      "model_module_version": "2.0.0",
      "model_name": "HBoxModel",
      "state": {
       "children": [
        "IPY_MODEL_3f663bcd41904298bac8ebc18a9b978e",
        "IPY_MODEL_3b2bd5201ca44c2e8e91a640a440fc47",
        "IPY_MODEL_123fb4442b5442408fa4abb8a655ab8c"
       ],
       "layout": "IPY_MODEL_809a511a88d54b80969de7e3b78374fe"
      }
     },
     "638e6e3b03194469a35aef9dd0de5297": {
      "model_module": "@jupyter-widgets/base",
      "model_module_version": "2.0.0",
      "model_name": "LayoutModel",
      "state": {}
     },
     "67f60a11dff54ae0b694751dad877986": {
      "model_module": "@jupyter-widgets/controls",
      "model_module_version": "2.0.0",
      "model_name": "ProgressStyleModel",
      "state": {
       "description_width": ""
      }
     },
     "68d5a89e716740d6a8fd2e3171faae9c": {
      "model_module": "@jupyter-widgets/controls",
      "model_module_version": "2.0.0",
      "model_name": "HTMLStyleModel",
      "state": {
       "description_width": "",
       "font_size": null,
       "text_color": null
      }
     },
     "6a2ef4f154f14d7bb75f2558bb1868b7": {
      "model_module": "@jupyter-widgets/base",
      "model_module_version": "2.0.0",
      "model_name": "LayoutModel",
      "state": {}
     },
     "6cdea0e45dee467fa28d3eb71ac21b57": {
      "model_module": "@jupyter-widgets/controls",
      "model_module_version": "2.0.0",
      "model_name": "HTMLStyleModel",
      "state": {
       "description_width": "",
       "font_size": null,
       "text_color": null
      }
     },
     "6cf3f667f701432fbf236eb775eff50d": {
      "model_module": "@jupyter-widgets/base",
      "model_module_version": "2.0.0",
      "model_name": "LayoutModel",
      "state": {}
     },
     "713a239bf519447ba7c8d69bc18bae45": {
      "model_module": "@jupyter-widgets/base",
      "model_module_version": "2.0.0",
      "model_name": "LayoutModel",
      "state": {}
     },
     "7400f6f2f0864aeda89a2762fb85705f": {
      "model_module": "@jupyter-widgets/controls",
      "model_module_version": "2.0.0",
      "model_name": "ProgressStyleModel",
      "state": {
       "description_width": ""
      }
     },
     "76bc5340d6a94b99b0d8685f3e428f92": {
      "model_module": "@jupyter-widgets/base",
      "model_module_version": "2.0.0",
      "model_name": "LayoutModel",
      "state": {}
     },
     "78f71ee13176409b91c8a250833ee70a": {
      "model_module": "@jupyter-widgets/controls",
      "model_module_version": "2.0.0",
      "model_name": "HTMLStyleModel",
      "state": {
       "description_width": "",
       "font_size": null,
       "text_color": null
      }
     },
     "7b0bfa305a2b4da885758bcbc7b98ed2": {
      "model_module": "@jupyter-widgets/base",
      "model_module_version": "2.0.0",
      "model_name": "LayoutModel",
      "state": {}
     },
     "809a511a88d54b80969de7e3b78374fe": {
      "model_module": "@jupyter-widgets/base",
      "model_module_version": "2.0.0",
      "model_name": "LayoutModel",
      "state": {}
     },
     "869c78f2f06e47378a2f063589ac7c61": {
      "model_module": "@jupyter-widgets/base",
      "model_module_version": "2.0.0",
      "model_name": "LayoutModel",
      "state": {}
     },
     "87f65609fe4b4c04a552e1ea10050f83": {
      "model_module": "@jupyter-widgets/controls",
      "model_module_version": "2.0.0",
      "model_name": "HTMLStyleModel",
      "state": {
       "description_width": "",
       "font_size": null,
       "text_color": null
      }
     },
     "881b8ecf092c4de69d38556f37c04884": {
      "model_module": "@jupyter-widgets/controls",
      "model_module_version": "2.0.0",
      "model_name": "HTMLStyleModel",
      "state": {
       "description_width": "",
       "font_size": null,
       "text_color": null
      }
     },
     "8d6ac9d46bad46aaae3f16812e5ea36a": {
      "model_module": "@jupyter-widgets/controls",
      "model_module_version": "2.0.0",
      "model_name": "HTMLModel",
      "state": {
       "layout": "IPY_MODEL_12b18d2a00cd44af9e22aaa4dfd5ab46",
       "style": "IPY_MODEL_78f71ee13176409b91c8a250833ee70a",
       "value": " 17/23 [235:57:53&lt;138:05:06, 82851.08s/cell]"
      }
     },
     "924b969d736a4af7961dc53dbe94bbcb": {
      "model_module": "@jupyter-widgets/base",
      "model_module_version": "2.0.0",
      "model_name": "LayoutModel",
      "state": {}
     },
     "965eea9075b841da9f7e30cb7ac0ee82": {
      "model_module": "@jupyter-widgets/base",
      "model_module_version": "2.0.0",
      "model_name": "LayoutModel",
      "state": {}
     },
     "a09a02fd0858493d9bb4ad523340af3b": {
      "model_module": "@jupyter-widgets/base",
      "model_module_version": "2.0.0",
      "model_name": "LayoutModel",
      "state": {}
     },
     "a2622199cbc34f44b7c516e4b2a6558f": {
      "model_module": "@jupyter-widgets/controls",
      "model_module_version": "2.0.0",
      "model_name": "HTMLStyleModel",
      "state": {
       "description_width": "",
       "font_size": null,
       "text_color": null
      }
     },
     "a4dce7ed498c44f4b31012fe79e679d7": {
      "model_module": "@jupyter-widgets/base",
      "model_module_version": "2.0.0",
      "model_name": "LayoutModel",
      "state": {}
     },
     "a73c378554eb4b10abec767e6d4b4905": {
      "model_module": "@jupyter-widgets/controls",
      "model_module_version": "2.0.0",
      "model_name": "HTMLModel",
      "state": {
       "layout": "IPY_MODEL_924b969d736a4af7961dc53dbe94bbcb",
       "style": "IPY_MODEL_a2622199cbc34f44b7c516e4b2a6558f",
       "value": "Executing results: 100%"
      }
     },
     "a8e5cd8d89b646f9bb17e4509977e81f": {
      "model_module": "@jupyter-widgets/base",
      "model_module_version": "2.0.0",
      "model_name": "LayoutModel",
      "state": {}
     },
     "abff477283d147a786ae84fe323893f3": {
      "model_module": "@jupyter-widgets/controls",
      "model_module_version": "2.0.0",
      "model_name": "HTMLStyleModel",
      "state": {
       "description_width": "",
       "font_size": null,
       "text_color": null
      }
     },
     "afa9ea4bea6b4b35ad5210b30c8e1bab": {
      "model_module": "@jupyter-widgets/controls",
      "model_module_version": "2.0.0",
      "model_name": "HTMLStyleModel",
      "state": {
       "description_width": "",
       "font_size": null,
       "text_color": null
      }
     },
     "b74bab13de3846f6b79908b132a524f5": {
      "model_module": "@jupyter-widgets/controls",
      "model_module_version": "2.0.0",
      "model_name": "HTMLStyleModel",
      "state": {
       "description_width": "",
       "font_size": null,
       "text_color": null
      }
     },
     "bbf0293b0a1d443d920d4bf32222e547": {
      "model_module": "@jupyter-widgets/controls",
      "model_module_version": "2.0.0",
      "model_name": "FloatProgressModel",
      "state": {
       "bar_style": "danger",
       "layout": "IPY_MODEL_a8e5cd8d89b646f9bb17e4509977e81f",
       "max": 23,
       "style": "IPY_MODEL_4ec244cced9b4cd8afcbf1b73d483b14",
       "value": 13
      }
     },
     "c06e0f2c8528482da83f873e8dadd4e6": {
      "model_module": "@jupyter-widgets/base",
      "model_module_version": "2.0.0",
      "model_name": "LayoutModel",
      "state": {}
     },
     "c0db1eefa80146fc8ddb71de6e219fd2": {
      "model_module": "@jupyter-widgets/controls",
      "model_module_version": "2.0.0",
      "model_name": "HTMLStyleModel",
      "state": {
       "description_width": "",
       "font_size": null,
       "text_color": null
      }
     },
     "c3b802e0ed364a198e3c2c00e4923123": {
      "model_module": "@jupyter-widgets/controls",
      "model_module_version": "2.0.0",
      "model_name": "HBoxModel",
      "state": {
       "children": [
        "IPY_MODEL_373d95660e4f496b88ab979478aa3eaf",
        "IPY_MODEL_c9a04d26f95e4481ba40711133cb9ac9",
        "IPY_MODEL_ee53e0b3e24e43f8ae23006dfc656a89"
       ],
       "layout": "IPY_MODEL_869c78f2f06e47378a2f063589ac7c61"
      }
     },
     "c53c01e04a9f41b3b1a40683e008a714": {
      "model_module": "@jupyter-widgets/base",
      "model_module_version": "2.0.0",
      "model_name": "LayoutModel",
      "state": {}
     },
     "c9a04d26f95e4481ba40711133cb9ac9": {
      "model_module": "@jupyter-widgets/controls",
      "model_module_version": "2.0.0",
      "model_name": "FloatProgressModel",
      "state": {
       "bar_style": "success",
       "layout": "IPY_MODEL_e601433be08e43c683bfc8fef4577b3f",
       "max": 23,
       "style": "IPY_MODEL_4aa8bdd7e27144e488bbf5b484510746",
       "value": 23
      }
     },
     "ca9769ec25194e60a414b0789e82e7e2": {
      "model_module": "@jupyter-widgets/base",
      "model_module_version": "2.0.0",
      "model_name": "LayoutModel",
      "state": {}
     },
     "cad01a7597df4e918b957bbcc17f7971": {
      "model_module": "@jupyter-widgets/base",
      "model_module_version": "2.0.0",
      "model_name": "LayoutModel",
      "state": {}
     },
     "cca83f637ac540d09771814c83656269": {
      "model_module": "@jupyter-widgets/base",
      "model_module_version": "2.0.0",
      "model_name": "LayoutModel",
      "state": {}
     },
     "cd4917a3a68240b9be890b999a47d856": {
      "model_module": "@jupyter-widgets/base",
      "model_module_version": "2.0.0",
      "model_name": "LayoutModel",
      "state": {}
     },
     "ce5e3be0c4c24f3b960dee69823ff86c": {
      "model_module": "@jupyter-widgets/controls",
      "model_module_version": "2.0.0",
      "model_name": "FloatProgressModel",
      "state": {
       "bar_style": "danger",
       "layout": "IPY_MODEL_517749c05e3244658097ceb1611d048a",
       "max": 23,
       "style": "IPY_MODEL_7400f6f2f0864aeda89a2762fb85705f",
       "value": 13
      }
     },
     "cfd0418d36114e869302c05ef9bf85e2": {
      "model_module": "@jupyter-widgets/controls",
      "model_module_version": "2.0.0",
      "model_name": "HTMLStyleModel",
      "state": {
       "description_width": "",
       "font_size": null,
       "text_color": null
      }
     },
     "d2eeacacd3744f4190b2924be8aeaa7b": {
      "model_module": "@jupyter-widgets/controls",
      "model_module_version": "2.0.0",
      "model_name": "HBoxModel",
      "state": {
       "children": [
        "IPY_MODEL_254d71f332674e33aaf849449ec574a5",
        "IPY_MODEL_315185d06e534e5e95e321efca7f3f27",
        "IPY_MODEL_eccf18302e484b17bc4340f924b8b5fe"
       ],
       "layout": "IPY_MODEL_22dc1597fc9c4cef93be55de6b1a656e"
      }
     },
     "d9ce53cd8fd04c3e99ab20e4247c0a31": {
      "model_module": "@jupyter-widgets/controls",
      "model_module_version": "2.0.0",
      "model_name": "HTMLStyleModel",
      "state": {
       "description_width": "",
       "font_size": null,
       "text_color": null
      }
     },
     "dd1dfab26ce04629a114b4f9ed227887": {
      "model_module": "@jupyter-widgets/base",
      "model_module_version": "2.0.0",
      "model_name": "LayoutModel",
      "state": {}
     },
     "e0a21d16482a441383c98de703dbb852": {
      "model_module": "@jupyter-widgets/controls",
      "model_module_version": "2.0.0",
      "model_name": "HTMLStyleModel",
      "state": {
       "description_width": "",
       "font_size": null,
       "text_color": null
      }
     },
     "e373d8efd75f40fcaa1a2a27ef8a95e7": {
      "model_module": "@jupyter-widgets/controls",
      "model_module_version": "2.0.0",
      "model_name": "HTMLModel",
      "state": {
       "layout": "IPY_MODEL_713a239bf519447ba7c8d69bc18bae45",
       "style": "IPY_MODEL_cfd0418d36114e869302c05ef9bf85e2",
       "value": " 13/23 [00:01&lt;00:00, 11.09cell/s]"
      }
     },
     "e3f86ee6959f49c8ad741724a7f9a6a1": {
      "model_module": "@jupyter-widgets/base",
      "model_module_version": "2.0.0",
      "model_name": "LayoutModel",
      "state": {}
     },
     "e4d99f84306a462395357e153cafe64d": {
      "model_module": "@jupyter-widgets/controls",
      "model_module_version": "2.0.0",
      "model_name": "HTMLModel",
      "state": {
       "layout": "IPY_MODEL_cca83f637ac540d09771814c83656269",
       "style": "IPY_MODEL_b74bab13de3846f6b79908b132a524f5",
       "value": "Executing microsoft:  74%"
      }
     },
     "e601433be08e43c683bfc8fef4577b3f": {
      "model_module": "@jupyter-widgets/base",
      "model_module_version": "2.0.0",
      "model_name": "LayoutModel",
      "state": {}
     },
     "e94d644cbb014e9ca7f9ce7c9c9ec59d": {
      "model_module": "@jupyter-widgets/controls",
      "model_module_version": "2.0.0",
      "model_name": "HTMLStyleModel",
      "state": {
       "description_width": "",
       "font_size": null,
       "text_color": null
      }
     },
     "eaa538d36b264bca83d8c258278968bf": {
      "model_module": "@jupyter-widgets/controls",
      "model_module_version": "2.0.0",
      "model_name": "HTMLModel",
      "state": {
       "layout": "IPY_MODEL_3662c2d58b4248fc83d4443ef209a372",
       "style": "IPY_MODEL_afa9ea4bea6b4b35ad5210b30c8e1bab",
       "value": "Executing check_train:  57%"
      }
     },
     "eac5ee1d01d94584a8fcae81856ea0ab": {
      "model_module": "@jupyter-widgets/controls",
      "model_module_version": "2.0.0",
      "model_name": "HBoxModel",
      "state": {
       "children": [
        "IPY_MODEL_e4d99f84306a462395357e153cafe64d",
        "IPY_MODEL_4be90faff73e4703b01c9336c2fe4788",
        "IPY_MODEL_8d6ac9d46bad46aaae3f16812e5ea36a"
       ],
       "layout": "IPY_MODEL_a4dce7ed498c44f4b31012fe79e679d7"
      }
     },
     "eccf18302e484b17bc4340f924b8b5fe": {
      "model_module": "@jupyter-widgets/controls",
      "model_module_version": "2.0.0",
      "model_name": "HTMLModel",
      "state": {
       "layout": "IPY_MODEL_a09a02fd0858493d9bb4ad523340af3b",
       "style": "IPY_MODEL_6cdea0e45dee467fa28d3eb71ac21b57",
       "value": " 13/23 [00:01&lt;00:00, 12.54cell/s]"
      }
     },
     "ee53e0b3e24e43f8ae23006dfc656a89": {
      "model_module": "@jupyter-widgets/controls",
      "model_module_version": "2.0.0",
      "model_name": "HTMLModel",
      "state": {
       "layout": "IPY_MODEL_cad01a7597df4e918b957bbcc17f7971",
       "style": "IPY_MODEL_e0a21d16482a441383c98de703dbb852",
       "value": " 23/23 [00:01&lt;00:00, 17.22cell/s]"
      }
     },
     "eeacaf17305a43cfa35e4d158e881c37": {
      "model_module": "@jupyter-widgets/base",
      "model_module_version": "2.0.0",
      "model_name": "LayoutModel",
      "state": {}
     },
     "f779511366bf435cb3555a7ec8b537c9": {
      "model_module": "@jupyter-widgets/base",
      "model_module_version": "2.0.0",
      "model_name": "LayoutModel",
      "state": {}
     },
     "fe3b769881194f6ea14b8b4e19eeb08c": {
      "model_module": "@jupyter-widgets/controls",
      "model_module_version": "2.0.0",
      "model_name": "HTMLStyleModel",
      "state": {
       "description_width": "",
       "font_size": null,
       "text_color": null
      }
     }
    },
    "version_major": 2,
    "version_minor": 0
   }
  }
 },
 "nbformat": 4,
 "nbformat_minor": 5
}
