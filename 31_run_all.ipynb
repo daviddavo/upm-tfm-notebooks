{
 "cells": [
  {
   "cell_type": "code",
   "execution_count": 1,
   "id": "8864aa17-797f-48b5-a15f-d15d80652d46",
   "metadata": {
    "editable": true,
    "slideshow": {
     "slide_type": ""
    },
    "tags": []
   },
   "outputs": [],
   "source": [
    "from typing import List, Tuple\n",
    "\n",
    "from pathlib import Path\n",
    "from IPython.display import Markdown\n",
    "import datetime as dt\n",
    "import re\n",
    "\n",
    "import papermill as pm\n",
    "\n",
    "from src import paths"
   ]
  },
  {
   "cell_type": "code",
   "execution_count": 2,
   "id": "b17f5b20-88da-449a-a2c1-84d848f7cee0",
   "metadata": {
    "editable": true,
    "slideshow": {
     "slide_type": ""
    },
    "tags": []
   },
   "outputs": [],
   "source": [
    "SPLITS_FREQ: str = 'W-THU' # split weekly\n",
    "SPLITS_NORMALIZE = True # Wether or not to move everything to 00:00\n",
    "LAST_SPLITS = 10 # Use just last 10 splits\n",
    "\n",
    "EXECUTION_ID = \"2024-03-01 21:00\"\n",
    "\n",
    "# Train, Cutoff date, Platform(s), Org Name\n",
    "# If the platform is none, it will be ALL PLATFORMS\n",
    "# If the cutoff date is none, it will use last 10 folds\n",
    "ORGS: List[Tuple[bool, str, str, str]] = [\n",
    "    # The first one, used to test if everything goes fine\n",
    "    (True,  dt.datetime.utcnow().isoformat(), 'snapshot', 'Decentraland'),\n",
    "    # ('snapshot', '9K DAO'), # SPAM DAO, says so on snapshot\n",
    "    # Las propuestas duran 5 días\n",
    "    (False, None, 'snapshot', 'Balancer'),\n",
    "    # Las propuestas duran 2-3 días\n",
    "    (False, None, 'daohaus',  'DEAD FoundationsDAO'),\n",
    "    # La buena y confiable\n",
    "    # No hay suficientes folds\n",
    "    (False, None, 'daostack', 'dxDAO - xDXdao'),\n",
    "    # ('snapshot', 'gm DAO'), # SPAM DAO, says so on snapshot\n",
    "    # Esta tampoco tiene buenos folds\n",
    "    (False, None, 'snapshot', 'HUWA-DAO'),\n",
    "    # Vamos a probar a ver que tal\n",
    "    (True, '2023-05-12', 'snapshot', 'Index Coop'),\n",
    "    # Vamos a probar a ver que tal\n",
    "    (True, '2022-07-22', ['daohaus', 'snapshot'], 'MetaCartel - MetaCartel Ventures'),\n",
    "    # Vamos a probar con esta también\n",
    "    (True, '2023-07-07', 'snapshot', 'PancakeSwap'),\n",
    "    # La super tocha\n",
    "    # TODO: Poner fecha o dejar sin nada\n",
    "    (True, None, 'snapshot', 'Aave - Aavegotchi'),\n",
    "    # ('snapshot', 'WEALTHDAO'), # SPAM DAO, says so on snapshot\n",
    "]"
   ]
  },
  {
   "cell_type": "code",
   "execution_count": null,
   "id": "c9f3ddaf-e451-449e-9974-e8768217757e",
   "metadata": {
    "editable": true,
    "slideshow": {
     "slide_type": ""
    },
    "tags": []
   },
   "outputs": [
    {
     "name": "stdout",
     "output_type": "stream",
     "text": [
      "Running notebooks for Balancer\n"
     ]
    },
    {
     "data": {
      "application/vnd.jupyter.widget-view+json": {
       "model_id": "239adce2b1db47bb8fcf9cc5f1596906",
       "version_major": 2,
       "version_minor": 0
      },
      "text/plain": [
       "Executing:   0%|          | 0/22 [00:00<?, ?cell/s]"
      ]
     },
     "metadata": {},
     "output_type": "display_data"
    },
    {
     "name": "stdout",
     "output_type": "stream",
     "text": [
      "Running notebooks for DEAD FoundationsDAO\n"
     ]
    },
    {
     "data": {
      "application/vnd.jupyter.widget-view+json": {
       "model_id": "fc73db5c985e4c628a69b0ceff27dec8",
       "version_major": 2,
       "version_minor": 0
      },
      "text/plain": [
       "Executing:   0%|          | 0/22 [00:00<?, ?cell/s]"
      ]
     },
     "metadata": {},
     "output_type": "display_data"
    },
    {
     "name": "stdout",
     "output_type": "stream",
     "text": [
      "Running notebooks for Decentraland\n"
     ]
    },
    {
     "data": {
      "application/vnd.jupyter.widget-view+json": {
       "model_id": "56b4274e223f46abb31a15321ec71d01",
       "version_major": 2,
       "version_minor": 0
      },
      "text/plain": [
       "Executing:   0%|          | 0/22 [00:00<?, ?cell/s]"
      ]
     },
     "metadata": {},
     "output_type": "display_data"
    },
    {
     "name": "stderr",
     "output_type": "stream",
     "text": [
      "2024-03-03 10:57:21.661609: E tensorflow/compiler/xla/stream_executor/cuda/cuda_dnn.cc:9342] Unable to register cuDNN factory: Attempting to register factory for plugin cuDNN when one has already been registered\n",
      "2024-03-03 10:57:21.661634: E tensorflow/compiler/xla/stream_executor/cuda/cuda_fft.cc:609] Unable to register cuFFT factory: Attempting to register factory for plugin cuFFT when one has already been registered\n",
      "2024-03-03 10:57:21.661650: E tensorflow/compiler/xla/stream_executor/cuda/cuda_blas.cc:1518] Unable to register cuBLAS factory: Attempting to register factory for plugin cuBLAS when one has already been registered\n"
     ]
    },
    {
     "name": "stdout",
     "output_type": "stream",
     "text": [
      "Running notebooks for dxDAO - xDXdao\n"
     ]
    },
    {
     "data": {
      "application/vnd.jupyter.widget-view+json": {
       "model_id": "acb1cbf1f99f401c9430a81e7693bc42",
       "version_major": 2,
       "version_minor": 0
      },
      "text/plain": [
       "Executing:   0%|          | 0/22 [00:00<?, ?cell/s]"
      ]
     },
     "metadata": {},
     "output_type": "display_data"
    },
    {
     "name": "stdout",
     "output_type": "stream",
     "text": [
      "Running notebooks for HUWA-DAO\n"
     ]
    },
    {
     "data": {
      "application/vnd.jupyter.widget-view+json": {
       "model_id": "7a5871aaa87240d6bf2eaa90c4d06f18",
       "version_major": 2,
       "version_minor": 0
      },
      "text/plain": [
       "Executing:   0%|          | 0/22 [00:00<?, ?cell/s]"
      ]
     },
     "metadata": {},
     "output_type": "display_data"
    },
    {
     "name": "stdout",
     "output_type": "stream",
     "text": [
      "Running notebooks for Index Coop\n"
     ]
    },
    {
     "data": {
      "application/vnd.jupyter.widget-view+json": {
       "model_id": "bd0e8ff5fb524210a00dad474c170e0a",
       "version_major": 2,
       "version_minor": 0
      },
      "text/plain": [
       "Executing:   0%|          | 0/22 [00:00<?, ?cell/s]"
      ]
     },
     "metadata": {},
     "output_type": "display_data"
    },
    {
     "name": "stderr",
     "output_type": "stream",
     "text": [
      "2024-03-03 10:59:53.686758: E tensorflow/compiler/xla/stream_executor/cuda/cuda_dnn.cc:9342] Unable to register cuDNN factory: Attempting to register factory for plugin cuDNN when one has already been registered\n",
      "2024-03-03 10:59:53.686784: E tensorflow/compiler/xla/stream_executor/cuda/cuda_fft.cc:609] Unable to register cuFFT factory: Attempting to register factory for plugin cuFFT when one has already been registered\n",
      "2024-03-03 10:59:53.686798: E tensorflow/compiler/xla/stream_executor/cuda/cuda_blas.cc:1518] Unable to register cuBLAS factory: Attempting to register factory for plugin cuBLAS when one has already been registered\n"
     ]
    },
    {
     "name": "stdout",
     "output_type": "stream",
     "text": [
      "Running notebooks for MetaCartel - MetaCartel Ventures\n"
     ]
    },
    {
     "data": {
      "application/vnd.jupyter.widget-view+json": {
       "model_id": "10dd53b6516249b3a9edeb9ef2e1c7f8",
       "version_major": 2,
       "version_minor": 0
      },
      "text/plain": [
       "Executing:   0%|          | 0/22 [00:00<?, ?cell/s]"
      ]
     },
     "metadata": {},
     "output_type": "display_data"
    },
    {
     "name": "stderr",
     "output_type": "stream",
     "text": [
      "2024-03-03 11:00:50.207245: E tensorflow/compiler/xla/stream_executor/cuda/cuda_dnn.cc:9342] Unable to register cuDNN factory: Attempting to register factory for plugin cuDNN when one has already been registered\n",
      "2024-03-03 11:00:50.207270: E tensorflow/compiler/xla/stream_executor/cuda/cuda_fft.cc:609] Unable to register cuFFT factory: Attempting to register factory for plugin cuFFT when one has already been registered\n",
      "2024-03-03 11:00:50.207284: E tensorflow/compiler/xla/stream_executor/cuda/cuda_blas.cc:1518] Unable to register cuBLAS factory: Attempting to register factory for plugin cuBLAS when one has already been registered\n"
     ]
    },
    {
     "name": "stdout",
     "output_type": "stream",
     "text": [
      "Running notebooks for PancakeSwap\n"
     ]
    },
    {
     "data": {
      "application/vnd.jupyter.widget-view+json": {
       "model_id": "bc11ae6929bf4abea1671b5df47c77d1",
       "version_major": 2,
       "version_minor": 0
      },
      "text/plain": [
       "Executing:   0%|          | 0/22 [00:00<?, ?cell/s]"
      ]
     },
     "metadata": {},
     "output_type": "display_data"
    },
    {
     "name": "stderr",
     "output_type": "stream",
     "text": [
      "2024-03-03 11:06:48.237384: E tensorflow/compiler/xla/stream_executor/cuda/cuda_dnn.cc:9342] Unable to register cuDNN factory: Attempting to register factory for plugin cuDNN when one has already been registered\n",
      "2024-03-03 11:06:48.237411: E tensorflow/compiler/xla/stream_executor/cuda/cuda_fft.cc:609] Unable to register cuFFT factory: Attempting to register factory for plugin cuFFT when one has already been registered\n",
      "2024-03-03 11:06:48.237425: E tensorflow/compiler/xla/stream_executor/cuda/cuda_blas.cc:1518] Unable to register cuBLAS factory: Attempting to register factory for plugin cuBLAS when one has already been registered\n"
     ]
    },
    {
     "name": "stdout",
     "output_type": "stream",
     "text": [
      "Running notebooks for Aave - Aavegotchi\n"
     ]
    },
    {
     "data": {
      "application/vnd.jupyter.widget-view+json": {
       "model_id": "74f09b1da0694149be107bf126fd8a70",
       "version_major": 2,
       "version_minor": 0
      },
      "text/plain": [
       "Executing:   0%|          | 0/22 [00:00<?, ?cell/s]"
      ]
     },
     "metadata": {},
     "output_type": "display_data"
    },
    {
     "name": "stderr",
     "output_type": "stream",
     "text": [
      "2024-03-03 11:14:29.329188: E tensorflow/compiler/xla/stream_executor/cuda/cuda_dnn.cc:9342] Unable to register cuDNN factory: Attempting to register factory for plugin cuDNN when one has already been registered\n",
      "2024-03-03 11:14:29.329211: E tensorflow/compiler/xla/stream_executor/cuda/cuda_fft.cc:609] Unable to register cuFFT factory: Attempting to register factory for plugin cuFFT when one has already been registered\n",
      "2024-03-03 11:14:29.329226: E tensorflow/compiler/xla/stream_executor/cuda/cuda_blas.cc:1518] Unable to register cuBLAS factory: Attempting to register factory for plugin cuBLAS when one has already been registered\n"
     ]
    }
   ],
   "source": [
    "nb_name = Path('./30_run_one.ipynb')\n",
    "\n",
    "for do_train, cutoff, platform, org in ORGS:\n",
    "    print(f\"Running notebooks for {org}\")\n",
    "    outpath = Path(f'./nbout/{org.replace(\" / \", \"_\")}')\n",
    "    outpath.mkdir(parents=True, exist_ok=True)\n",
    "    \n",
    "    pm.execute_notebook(\n",
    "        nb_name,\n",
    "        outpath / nb_name,\n",
    "        autosave_cell_every=60,\n",
    "        parameters=dict(\n",
    "            ORG_NAME = org,\n",
    "            ORG_PLATFORM = platform,\n",
    "            SPLITS_FREQ = SPLITS_FREQ,\n",
    "            SPLITS_NORMALIZE = SPLITS_NORMALIZE,\n",
    "            LAST_SPLITS = LAST_SPLITS,\n",
    "            USE_ORG_NAMES = True,\n",
    "            EXECUTION_ID = EXECUTION_ID,\n",
    "            DO_TRAIN = do_train,\n",
    "            CUTOFF_DATE_STR = cutoff,\n",
    "        ),\n",
    "    )"
   ]
  },
  {
   "cell_type": "code",
   "execution_count": null,
   "id": "5d05980c-f8b0-4fd4-acaa-b10231d7a4a7",
   "metadata": {},
   "outputs": [],
   "source": []
  }
 ],
 "metadata": {
  "kernelspec": {
   "display_name": "Python 3 (ipykernel)",
   "language": "python",
   "name": "python3"
  },
  "language_info": {
   "codemirror_mode": {
    "name": "ipython",
    "version": 3
   },
   "file_extension": ".py",
   "mimetype": "text/x-python",
   "name": "python",
   "nbconvert_exporter": "python",
   "pygments_lexer": "ipython3",
   "version": "3.9.18"
  },
  "widgets": {
   "application/vnd.jupyter.widget-state+json": {
    "state": {
     "0c24226fbc694024a2c16af25c729aef": {
      "model_module": "@jupyter-widgets/controls",
      "model_module_version": "2.0.0",
      "model_name": "HTMLModel",
      "state": {
       "layout": "IPY_MODEL_b70d4ae2b59945d889879b7c847782fb",
       "style": "IPY_MODEL_d1b93abab2a949aca39afbc8d7b8d993",
       "value": "Executing check_train:  59%"
      }
     },
     "0c57d0cb0ddb40ec80fa5c0a80c2e809": {
      "model_module": "@jupyter-widgets/base",
      "model_module_version": "2.0.0",
      "model_name": "LayoutModel",
      "state": {}
     },
     "100d2d7131d442d4b4d7c3d6611a6aca": {
      "model_module": "@jupyter-widgets/controls",
      "model_module_version": "2.0.0",
      "model_name": "FloatProgressModel",
      "state": {
       "bar_style": "danger",
       "layout": "IPY_MODEL_4d9c57a019c24d13bf99274c2e2af06e",
       "max": 22,
       "style": "IPY_MODEL_7d8f300ef96d47aeb4b78b9f95bcc4f4",
       "value": 13
      }
     },
     "10dd53b6516249b3a9edeb9ef2e1c7f8": {
      "model_module": "@jupyter-widgets/controls",
      "model_module_version": "2.0.0",
      "model_name": "HBoxModel",
      "state": {
       "children": [
        "IPY_MODEL_1aeac744a5e84ec29702636812d9a9e7",
        "IPY_MODEL_c48578ef44fb451c84a30d981c9fe5cb",
        "IPY_MODEL_411ad42edf3a4e4ba7733629500d3c7e"
       ],
       "layout": "IPY_MODEL_23b79ae797154cb283da24172cec1d2b"
      }
     },
     "157e8e1e47f943c1b80fd4989a369149": {
      "model_module": "@jupyter-widgets/controls",
      "model_module_version": "2.0.0",
      "model_name": "FloatProgressModel",
      "state": {
       "bar_style": "danger",
       "layout": "IPY_MODEL_d5116f6b91e544e6be59b64c377bd9ea",
       "max": 22,
       "style": "IPY_MODEL_160fef64424743628e00967e4810a46f",
       "value": 16
      }
     },
     "160fef64424743628e00967e4810a46f": {
      "model_module": "@jupyter-widgets/controls",
      "model_module_version": "2.0.0",
      "model_name": "ProgressStyleModel",
      "state": {
       "description_width": ""
      }
     },
     "1aeac744a5e84ec29702636812d9a9e7": {
      "model_module": "@jupyter-widgets/controls",
      "model_module_version": "2.0.0",
      "model_name": "HTMLModel",
      "state": {
       "layout": "IPY_MODEL_2dcdc7d09b0541aebee5db654a18da4e",
       "style": "IPY_MODEL_2961af731e6146ec98763d1be089ed76",
       "value": "Executing force_stop:  73%"
      }
     },
     "1e86d76a6d1c4228abd935332ccf947d": {
      "model_module": "@jupyter-widgets/controls",
      "model_module_version": "2.0.0",
      "model_name": "FloatProgressModel",
      "state": {
       "bar_style": "danger",
       "layout": "IPY_MODEL_0c57d0cb0ddb40ec80fa5c0a80c2e809",
       "max": 22,
       "style": "IPY_MODEL_f82fab09682b4027aceb7b96c5752276",
       "value": 13
      }
     },
     "239adce2b1db47bb8fcf9cc5f1596906": {
      "model_module": "@jupyter-widgets/controls",
      "model_module_version": "2.0.0",
      "model_name": "HBoxModel",
      "state": {
       "children": [
        "IPY_MODEL_0c24226fbc694024a2c16af25c729aef",
        "IPY_MODEL_e95fead3e8454f22a606f59c6c374166",
        "IPY_MODEL_75da34772edc4654911d6315ee2f7eb8"
       ],
       "layout": "IPY_MODEL_e0a0f960cf774da9b69c141229aff7e7"
      }
     },
     "23b79ae797154cb283da24172cec1d2b": {
      "model_module": "@jupyter-widgets/base",
      "model_module_version": "2.0.0",
      "model_name": "LayoutModel",
      "state": {}
     },
     "278b033dd9ab484295956756190db742": {
      "model_module": "@jupyter-widgets/controls",
      "model_module_version": "2.0.0",
      "model_name": "ProgressStyleModel",
      "state": {
       "description_width": ""
      }
     },
     "28d165396c554f8bbffb3786f27af51a": {
      "model_module": "@jupyter-widgets/controls",
      "model_module_version": "2.0.0",
      "model_name": "HTMLStyleModel",
      "state": {
       "description_width": "",
       "font_size": null,
       "text_color": null
      }
     },
     "2961af731e6146ec98763d1be089ed76": {
      "model_module": "@jupyter-widgets/controls",
      "model_module_version": "2.0.0",
      "model_name": "HTMLStyleModel",
      "state": {
       "description_width": "",
       "font_size": null,
       "text_color": null
      }
     },
     "2992dc5fb9c8451483613723b29a9b91": {
      "model_module": "@jupyter-widgets/controls",
      "model_module_version": "2.0.0",
      "model_name": "HTMLStyleModel",
      "state": {
       "description_width": "",
       "font_size": null,
       "text_color": null
      }
     },
     "2cbd542ad51d40cc95017026daecca88": {
      "model_module": "@jupyter-widgets/base",
      "model_module_version": "2.0.0",
      "model_name": "LayoutModel",
      "state": {}
     },
     "2cd4c560b85b46619795790d501ceadc": {
      "model_module": "@jupyter-widgets/base",
      "model_module_version": "2.0.0",
      "model_name": "LayoutModel",
      "state": {}
     },
     "2dcdc7d09b0541aebee5db654a18da4e": {
      "model_module": "@jupyter-widgets/base",
      "model_module_version": "2.0.0",
      "model_name": "LayoutModel",
      "state": {}
     },
     "2e586b8bb3a143f1b09843a12d2300dc": {
      "model_module": "@jupyter-widgets/base",
      "model_module_version": "2.0.0",
      "model_name": "LayoutModel",
      "state": {}
     },
     "31229ff80dfc4af899bae6bc57548595": {
      "model_module": "@jupyter-widgets/base",
      "model_module_version": "2.0.0",
      "model_name": "LayoutModel",
      "state": {}
     },
     "3c93f47a830043ebb8dba068ffbcf43f": {
      "model_module": "@jupyter-widgets/controls",
      "model_module_version": "2.0.0",
      "model_name": "HTMLStyleModel",
      "state": {
       "description_width": "",
       "font_size": null,
       "text_color": null
      }
     },
     "3f50161f06e14c94beb5c7e14d3f6ea1": {
      "model_module": "@jupyter-widgets/controls",
      "model_module_version": "2.0.0",
      "model_name": "HTMLStyleModel",
      "state": {
       "description_width": "",
       "font_size": null,
       "text_color": null
      }
     },
     "411ad42edf3a4e4ba7733629500d3c7e": {
      "model_module": "@jupyter-widgets/controls",
      "model_module_version": "2.0.0",
      "model_name": "HTMLModel",
      "state": {
       "layout": "IPY_MODEL_bb5276a61fcf4f318fd90e38c01e8e44",
       "style": "IPY_MODEL_3c93f47a830043ebb8dba068ffbcf43f",
       "value": " 16/22 [00:54&lt;00:28,  4.73s/cell]"
      }
     },
     "4545c9bf05b444999425d9d217e1ecb4": {
      "model_module": "@jupyter-widgets/controls",
      "model_module_version": "2.0.0",
      "model_name": "HTMLModel",
      "state": {
       "layout": "IPY_MODEL_bf236c44bd384d11851a41e77ecf3164",
       "style": "IPY_MODEL_3f50161f06e14c94beb5c7e14d3f6ea1",
       "value": "Executing check_train:  59%"
      }
     },
     "45ffe11b295d4dbe82bebfaa2d33a63a": {
      "model_module": "@jupyter-widgets/base",
      "model_module_version": "2.0.0",
      "model_name": "LayoutModel",
      "state": {}
     },
     "467138a3bf244511a0967d6944ad376c": {
      "model_module": "@jupyter-widgets/controls",
      "model_module_version": "2.0.0",
      "model_name": "HTMLModel",
      "state": {
       "layout": "IPY_MODEL_632fd3920cf549be8e96f2f9f68ccc1c",
       "style": "IPY_MODEL_28d165396c554f8bbffb3786f27af51a",
       "value": "Executing force_stop:  73%"
      }
     },
     "4d9c57a019c24d13bf99274c2e2af06e": {
      "model_module": "@jupyter-widgets/base",
      "model_module_version": "2.0.0",
      "model_name": "LayoutModel",
      "state": {}
     },
     "5050d3c3cc4b4d57a5ce458efa43c847": {
      "model_module": "@jupyter-widgets/base",
      "model_module_version": "2.0.0",
      "model_name": "LayoutModel",
      "state": {}
     },
     "52b152fd64604ad0bf43ef137cec4508": {
      "model_module": "@jupyter-widgets/controls",
      "model_module_version": "2.0.0",
      "model_name": "HTMLModel",
      "state": {
       "layout": "IPY_MODEL_6bf88e84cadf4035b1f82d93007df1e7",
       "style": "IPY_MODEL_de8f6bbf575049a095bf2bf90f86a456",
       "value": "Executing pln_tune:  64%"
      }
     },
     "5308646043d242f290a475dbfe13b755": {
      "model_module": "@jupyter-widgets/base",
      "model_module_version": "2.0.0",
      "model_name": "LayoutModel",
      "state": {}
     },
     "53fdffdf439b42728cd772e943c1e53b": {
      "model_module": "@jupyter-widgets/controls",
      "model_module_version": "2.0.0",
      "model_name": "ProgressStyleModel",
      "state": {
       "description_width": ""
      }
     },
     "553ff6461beb427f96182f128a633d6b": {
      "model_module": "@jupyter-widgets/base",
      "model_module_version": "2.0.0",
      "model_name": "LayoutModel",
      "state": {}
     },
     "563bfbab190b4061a7bcff93a58278fa": {
      "model_module": "@jupyter-widgets/controls",
      "model_module_version": "2.0.0",
      "model_name": "FloatProgressModel",
      "state": {
       "bar_style": "danger",
       "layout": "IPY_MODEL_86e4e2b299d0407f8b53b8c885a11c20",
       "max": 22,
       "style": "IPY_MODEL_278b033dd9ab484295956756190db742",
       "value": 16
      }
     },
     "56b4274e223f46abb31a15321ec71d01": {
      "model_module": "@jupyter-widgets/controls",
      "model_module_version": "2.0.0",
      "model_name": "HBoxModel",
      "state": {
       "children": [
        "IPY_MODEL_467138a3bf244511a0967d6944ad376c",
        "IPY_MODEL_563bfbab190b4061a7bcff93a58278fa",
        "IPY_MODEL_9bba8834e1674406b38ea581b87cf1de"
       ],
       "layout": "IPY_MODEL_31229ff80dfc4af899bae6bc57548595"
      }
     },
     "6088d10c4fd047ce8c04fc184660c80b": {
      "model_module": "@jupyter-widgets/controls",
      "model_module_version": "2.0.0",
      "model_name": "HTMLStyleModel",
      "state": {
       "description_width": "",
       "font_size": null,
       "text_color": null
      }
     },
     "60b7ce98b4b44f72bd810b86bd17f516": {
      "model_module": "@jupyter-widgets/base",
      "model_module_version": "2.0.0",
      "model_name": "LayoutModel",
      "state": {}
     },
     "632fd3920cf549be8e96f2f9f68ccc1c": {
      "model_module": "@jupyter-widgets/base",
      "model_module_version": "2.0.0",
      "model_name": "LayoutModel",
      "state": {}
     },
     "636f5e9936cc4d9d9fe4f6f08c82f508": {
      "model_module": "@jupyter-widgets/base",
      "model_module_version": "2.0.0",
      "model_name": "LayoutModel",
      "state": {}
     },
     "668c8ab83d8843289df2bbd5879c9e79": {
      "model_module": "@jupyter-widgets/controls",
      "model_module_version": "2.0.0",
      "model_name": "HTMLStyleModel",
      "state": {
       "description_width": "",
       "font_size": null,
       "text_color": null
      }
     },
     "66ae5251aca143629605d3bd44aee34c": {
      "model_module": "@jupyter-widgets/base",
      "model_module_version": "2.0.0",
      "model_name": "LayoutModel",
      "state": {}
     },
     "6bf88e84cadf4035b1f82d93007df1e7": {
      "model_module": "@jupyter-widgets/base",
      "model_module_version": "2.0.0",
      "model_name": "LayoutModel",
      "state": {}
     },
     "74f09b1da0694149be107bf126fd8a70": {
      "model_module": "@jupyter-widgets/controls",
      "model_module_version": "2.0.0",
      "model_name": "HBoxModel",
      "state": {
       "children": [
        "IPY_MODEL_52b152fd64604ad0bf43ef137cec4508",
        "IPY_MODEL_7b23ec9941154542b01ebd435d593b5e",
        "IPY_MODEL_fd4a31cfc49f40fa9707c97d08956e40"
       ],
       "layout": "IPY_MODEL_5308646043d242f290a475dbfe13b755"
      }
     },
     "75da34772edc4654911d6315ee2f7eb8": {
      "model_module": "@jupyter-widgets/controls",
      "model_module_version": "2.0.0",
      "model_name": "HTMLModel",
      "state": {
       "layout": "IPY_MODEL_2cd4c560b85b46619795790d501ceadc",
       "style": "IPY_MODEL_c793edb0c9564e83a7d74fbd759af236",
       "value": " 13/22 [01:13&lt;01:14,  8.26s/cell]"
      }
     },
     "764f46141d37471fb5e2656123dba2fe": {
      "model_module": "@jupyter-widgets/base",
      "model_module_version": "2.0.0",
      "model_name": "LayoutModel",
      "state": {}
     },
     "782139e0c30f4ab191bc43fe1833d0f4": {
      "model_module": "@jupyter-widgets/base",
      "model_module_version": "2.0.0",
      "model_name": "LayoutModel",
      "state": {}
     },
     "7a5871aaa87240d6bf2eaa90c4d06f18": {
      "model_module": "@jupyter-widgets/controls",
      "model_module_version": "2.0.0",
      "model_name": "HBoxModel",
      "state": {
       "children": [
        "IPY_MODEL_bf021bc84bd644c48c74fbf1acbb0927",
        "IPY_MODEL_100d2d7131d442d4b4d7c3d6611a6aca",
        "IPY_MODEL_a54431e26f744a41a5226c200f30751e"
       ],
       "layout": "IPY_MODEL_553ff6461beb427f96182f128a633d6b"
      }
     },
     "7b23ec9941154542b01ebd435d593b5e": {
      "model_module": "@jupyter-widgets/controls",
      "model_module_version": "2.0.0",
      "model_name": "FloatProgressModel",
      "state": {
       "layout": "IPY_MODEL_c4938902999841bfbe48b9f5408d67ac",
       "max": 22,
       "style": "IPY_MODEL_9e2319f64dad4ea1bef82cbea013af63",
       "value": 14
      }
     },
     "7d8f300ef96d47aeb4b78b9f95bcc4f4": {
      "model_module": "@jupyter-widgets/controls",
      "model_module_version": "2.0.0",
      "model_name": "ProgressStyleModel",
      "state": {
       "description_width": ""
      }
     },
     "7f36321b5c834fcb82e7c6c28b03e946": {
      "model_module": "@jupyter-widgets/controls",
      "model_module_version": "2.0.0",
      "model_name": "HTMLStyleModel",
      "state": {
       "description_width": "",
       "font_size": null,
       "text_color": null
      }
     },
     "822e0915ca374dc195ec6fc3b7aad52f": {
      "model_module": "@jupyter-widgets/base",
      "model_module_version": "2.0.0",
      "model_name": "LayoutModel",
      "state": {}
     },
     "85e8f53aa48547248b1647effc705d92": {
      "model_module": "@jupyter-widgets/base",
      "model_module_version": "2.0.0",
      "model_name": "LayoutModel",
      "state": {}
     },
     "862ed2bb2ad843079bd3aa609bcbb0ba": {
      "model_module": "@jupyter-widgets/controls",
      "model_module_version": "2.0.0",
      "model_name": "HTMLStyleModel",
      "state": {
       "description_width": "",
       "font_size": null,
       "text_color": null
      }
     },
     "86e4e2b299d0407f8b53b8c885a11c20": {
      "model_module": "@jupyter-widgets/base",
      "model_module_version": "2.0.0",
      "model_name": "LayoutModel",
      "state": {}
     },
     "88d94a52c3b044c5933112ac4c3be527": {
      "model_module": "@jupyter-widgets/base",
      "model_module_version": "2.0.0",
      "model_name": "LayoutModel",
      "state": {}
     },
     "8c253726509a461781e71980853a18ed": {
      "model_module": "@jupyter-widgets/base",
      "model_module_version": "2.0.0",
      "model_name": "LayoutModel",
      "state": {}
     },
     "90620c298e4648daa12b551dbea7b17e": {
      "model_module": "@jupyter-widgets/base",
      "model_module_version": "2.0.0",
      "model_name": "LayoutModel",
      "state": {}
     },
     "92554d22317f446b8d7066a4e7884c5a": {
      "model_module": "@jupyter-widgets/controls",
      "model_module_version": "2.0.0",
      "model_name": "HTMLModel",
      "state": {
       "layout": "IPY_MODEL_90620c298e4648daa12b551dbea7b17e",
       "style": "IPY_MODEL_668c8ab83d8843289df2bbd5879c9e79",
       "value": "Executing force_stop:  73%"
      }
     },
     "9bba8834e1674406b38ea581b87cf1de": {
      "model_module": "@jupyter-widgets/controls",
      "model_module_version": "2.0.0",
      "model_name": "HTMLModel",
      "state": {
       "layout": "IPY_MODEL_e7e9012d54f94bdfbd0a317875dec9fb",
       "style": "IPY_MODEL_7f36321b5c834fcb82e7c6c28b03e946",
       "value": " 16/22 [01:49&lt;00:57,  9.55s/cell]"
      }
     },
     "9e2319f64dad4ea1bef82cbea013af63": {
      "model_module": "@jupyter-widgets/controls",
      "model_module_version": "2.0.0",
      "model_name": "ProgressStyleModel",
      "state": {
       "description_width": ""
      }
     },
     "a54431e26f744a41a5226c200f30751e": {
      "model_module": "@jupyter-widgets/controls",
      "model_module_version": "2.0.0",
      "model_name": "HTMLModel",
      "state": {
       "layout": "IPY_MODEL_782139e0c30f4ab191bc43fe1833d0f4",
       "style": "IPY_MODEL_cf51b504ff334caa99c8b67973c47ccf",
       "value": " 13/22 [00:24&lt;00:24,  2.70s/cell]"
      }
     },
     "a5dd499fbf2642a2a7e80ff092b08245": {
      "model_module": "@jupyter-widgets/base",
      "model_module_version": "2.0.0",
      "model_name": "LayoutModel",
      "state": {}
     },
     "acb1cbf1f99f401c9430a81e7693bc42": {
      "model_module": "@jupyter-widgets/controls",
      "model_module_version": "2.0.0",
      "model_name": "HBoxModel",
      "state": {
       "children": [
        "IPY_MODEL_4545c9bf05b444999425d9d217e1ecb4",
        "IPY_MODEL_daa833b468814b10a30e7cae6ae777e0",
        "IPY_MODEL_f1b07374a80a4b0eb60b71f66d35cf58"
       ],
       "layout": "IPY_MODEL_85e8f53aa48547248b1647effc705d92"
      }
     },
     "af06226e5dab4453ac6ad24745c4891e": {
      "model_module": "@jupyter-widgets/controls",
      "model_module_version": "2.0.0",
      "model_name": "ProgressStyleModel",
      "state": {
       "description_width": ""
      }
     },
     "af69cb24c4e04ad28f265a449a763b26": {
      "model_module": "@jupyter-widgets/controls",
      "model_module_version": "2.0.0",
      "model_name": "HTMLModel",
      "state": {
       "layout": "IPY_MODEL_88d94a52c3b044c5933112ac4c3be527",
       "style": "IPY_MODEL_dec59f7ff84640799185b21015e95763",
       "value": "Executing force_stop:  73%"
      }
     },
     "b186cd5a78454b5e9ea11a17ee08eccc": {
      "model_module": "@jupyter-widgets/controls",
      "model_module_version": "2.0.0",
      "model_name": "ProgressStyleModel",
      "state": {
       "description_width": ""
      }
     },
     "b284af3837f04ff6b38f6243473985d0": {
      "model_module": "@jupyter-widgets/controls",
      "model_module_version": "2.0.0",
      "model_name": "HTMLModel",
      "state": {
       "layout": "IPY_MODEL_eb1f47c992d943bfa297c741a3303ca9",
       "style": "IPY_MODEL_862ed2bb2ad843079bd3aa609bcbb0ba",
       "value": " 13/22 [00:24&lt;00:24,  2.75s/cell]"
      }
     },
     "b6f740a5896444ed87050bc554011312": {
      "model_module": "@jupyter-widgets/controls",
      "model_module_version": "2.0.0",
      "model_name": "HTMLStyleModel",
      "state": {
       "description_width": "",
       "font_size": null,
       "text_color": null
      }
     },
     "b70d4ae2b59945d889879b7c847782fb": {
      "model_module": "@jupyter-widgets/base",
      "model_module_version": "2.0.0",
      "model_name": "LayoutModel",
      "state": {}
     },
     "bb5276a61fcf4f318fd90e38c01e8e44": {
      "model_module": "@jupyter-widgets/base",
      "model_module_version": "2.0.0",
      "model_name": "LayoutModel",
      "state": {}
     },
     "bc11ae6929bf4abea1671b5df47c77d1": {
      "model_module": "@jupyter-widgets/controls",
      "model_module_version": "2.0.0",
      "model_name": "HBoxModel",
      "state": {
       "children": [
        "IPY_MODEL_92554d22317f446b8d7066a4e7884c5a",
        "IPY_MODEL_157e8e1e47f943c1b80fd4989a369149",
        "IPY_MODEL_e19b5d42e90b403fb1ae721b0072e83c"
       ],
       "layout": "IPY_MODEL_5050d3c3cc4b4d57a5ce458efa43c847"
      }
     },
     "bd0e8ff5fb524210a00dad474c170e0a": {
      "model_module": "@jupyter-widgets/controls",
      "model_module_version": "2.0.0",
      "model_name": "HBoxModel",
      "state": {
       "children": [
        "IPY_MODEL_af69cb24c4e04ad28f265a449a763b26",
        "IPY_MODEL_dec7089c32d449deb9041093063562ff",
        "IPY_MODEL_d039c4949ef1493c87f5aa5a95613711"
       ],
       "layout": "IPY_MODEL_66ae5251aca143629605d3bd44aee34c"
      }
     },
     "bf021bc84bd644c48c74fbf1acbb0927": {
      "model_module": "@jupyter-widgets/controls",
      "model_module_version": "2.0.0",
      "model_name": "HTMLModel",
      "state": {
       "layout": "IPY_MODEL_8c253726509a461781e71980853a18ed",
       "style": "IPY_MODEL_6088d10c4fd047ce8c04fc184660c80b",
       "value": "Executing check_train:  59%"
      }
     },
     "bf236c44bd384d11851a41e77ecf3164": {
      "model_module": "@jupyter-widgets/base",
      "model_module_version": "2.0.0",
      "model_name": "LayoutModel",
      "state": {}
     },
     "c48578ef44fb451c84a30d981c9fe5cb": {
      "model_module": "@jupyter-widgets/controls",
      "model_module_version": "2.0.0",
      "model_name": "FloatProgressModel",
      "state": {
       "bar_style": "danger",
       "layout": "IPY_MODEL_822e0915ca374dc195ec6fc3b7aad52f",
       "max": 22,
       "style": "IPY_MODEL_b186cd5a78454b5e9ea11a17ee08eccc",
       "value": 16
      }
     },
     "c4938902999841bfbe48b9f5408d67ac": {
      "model_module": "@jupyter-widgets/base",
      "model_module_version": "2.0.0",
      "model_name": "LayoutModel",
      "state": {}
     },
     "c793edb0c9564e83a7d74fbd759af236": {
      "model_module": "@jupyter-widgets/controls",
      "model_module_version": "2.0.0",
      "model_name": "HTMLStyleModel",
      "state": {
       "description_width": "",
       "font_size": null,
       "text_color": null
      }
     },
     "cf51b504ff334caa99c8b67973c47ccf": {
      "model_module": "@jupyter-widgets/controls",
      "model_module_version": "2.0.0",
      "model_name": "HTMLStyleModel",
      "state": {
       "description_width": "",
       "font_size": null,
       "text_color": null
      }
     },
     "d00ea647138b4e4cbec1259bbf4f51e3": {
      "model_module": "@jupyter-widgets/controls",
      "model_module_version": "2.0.0",
      "model_name": "HTMLStyleModel",
      "state": {
       "description_width": "",
       "font_size": null,
       "text_color": null
      }
     },
     "d039c4949ef1493c87f5aa5a95613711": {
      "model_module": "@jupyter-widgets/controls",
      "model_module_version": "2.0.0",
      "model_name": "HTMLModel",
      "state": {
       "layout": "IPY_MODEL_2cbd542ad51d40cc95017026daecca88",
       "style": "IPY_MODEL_d774ef78b84e4d0aaac006b953b83d3c",
       "value": " 16/22 [01:07&lt;00:34,  5.81s/cell]"
      }
     },
     "d067d3821ed14d17af5aa610faef9dde": {
      "model_module": "@jupyter-widgets/controls",
      "model_module_version": "2.0.0",
      "model_name": "ProgressStyleModel",
      "state": {
       "description_width": ""
      }
     },
     "d1b93abab2a949aca39afbc8d7b8d993": {
      "model_module": "@jupyter-widgets/controls",
      "model_module_version": "2.0.0",
      "model_name": "HTMLStyleModel",
      "state": {
       "description_width": "",
       "font_size": null,
       "text_color": null
      }
     },
     "d5116f6b91e544e6be59b64c377bd9ea": {
      "model_module": "@jupyter-widgets/base",
      "model_module_version": "2.0.0",
      "model_name": "LayoutModel",
      "state": {}
     },
     "d774ef78b84e4d0aaac006b953b83d3c": {
      "model_module": "@jupyter-widgets/controls",
      "model_module_version": "2.0.0",
      "model_name": "HTMLStyleModel",
      "state": {
       "description_width": "",
       "font_size": null,
       "text_color": null
      }
     },
     "daa833b468814b10a30e7cae6ae777e0": {
      "model_module": "@jupyter-widgets/controls",
      "model_module_version": "2.0.0",
      "model_name": "FloatProgressModel",
      "state": {
       "bar_style": "danger",
       "layout": "IPY_MODEL_ffee109aad20427681e6172139233f00",
       "max": 22,
       "style": "IPY_MODEL_d067d3821ed14d17af5aa610faef9dde",
       "value": 13
      }
     },
     "de8f6bbf575049a095bf2bf90f86a456": {
      "model_module": "@jupyter-widgets/controls",
      "model_module_version": "2.0.0",
      "model_name": "HTMLStyleModel",
      "state": {
       "description_width": "",
       "font_size": null,
       "text_color": null
      }
     },
     "dec59f7ff84640799185b21015e95763": {
      "model_module": "@jupyter-widgets/controls",
      "model_module_version": "2.0.0",
      "model_name": "HTMLStyleModel",
      "state": {
       "description_width": "",
       "font_size": null,
       "text_color": null
      }
     },
     "dec7089c32d449deb9041093063562ff": {
      "model_module": "@jupyter-widgets/controls",
      "model_module_version": "2.0.0",
      "model_name": "FloatProgressModel",
      "state": {
       "bar_style": "danger",
       "layout": "IPY_MODEL_60b7ce98b4b44f72bd810b86bd17f516",
       "max": 22,
       "style": "IPY_MODEL_53fdffdf439b42728cd772e943c1e53b",
       "value": 16
      }
     },
     "e0a0f960cf774da9b69c141229aff7e7": {
      "model_module": "@jupyter-widgets/base",
      "model_module_version": "2.0.0",
      "model_name": "LayoutModel",
      "state": {}
     },
     "e16edc9008b0461d9f30dc69153e6653": {
      "model_module": "@jupyter-widgets/controls",
      "model_module_version": "2.0.0",
      "model_name": "HTMLModel",
      "state": {
       "layout": "IPY_MODEL_764f46141d37471fb5e2656123dba2fe",
       "style": "IPY_MODEL_d00ea647138b4e4cbec1259bbf4f51e3",
       "value": "Executing check_train:  59%"
      }
     },
     "e19b5d42e90b403fb1ae721b0072e83c": {
      "model_module": "@jupyter-widgets/controls",
      "model_module_version": "2.0.0",
      "model_name": "HTMLModel",
      "state": {
       "layout": "IPY_MODEL_45ffe11b295d4dbe82bebfaa2d33a63a",
       "style": "IPY_MODEL_f87c9b8235d84113a89db31f8e1e3b90",
       "value": " 16/22 [13:11&lt;07:32, 75.44s/cell]"
      }
     },
     "e7e9012d54f94bdfbd0a317875dec9fb": {
      "model_module": "@jupyter-widgets/base",
      "model_module_version": "2.0.0",
      "model_name": "LayoutModel",
      "state": {}
     },
     "e95fead3e8454f22a606f59c6c374166": {
      "model_module": "@jupyter-widgets/controls",
      "model_module_version": "2.0.0",
      "model_name": "FloatProgressModel",
      "state": {
       "bar_style": "danger",
       "layout": "IPY_MODEL_a5dd499fbf2642a2a7e80ff092b08245",
       "max": 22,
       "style": "IPY_MODEL_af06226e5dab4453ac6ad24745c4891e",
       "value": 13
      }
     },
     "eb1f47c992d943bfa297c741a3303ca9": {
      "model_module": "@jupyter-widgets/base",
      "model_module_version": "2.0.0",
      "model_name": "LayoutModel",
      "state": {}
     },
     "f1b07374a80a4b0eb60b71f66d35cf58": {
      "model_module": "@jupyter-widgets/controls",
      "model_module_version": "2.0.0",
      "model_name": "HTMLModel",
      "state": {
       "layout": "IPY_MODEL_fc0ad3f61fd74ab8993f5753040de6d7",
       "style": "IPY_MODEL_b6f740a5896444ed87050bc554011312",
       "value": " 13/22 [00:45&lt;00:45,  5.06s/cell]"
      }
     },
     "f82fab09682b4027aceb7b96c5752276": {
      "model_module": "@jupyter-widgets/controls",
      "model_module_version": "2.0.0",
      "model_name": "ProgressStyleModel",
      "state": {
       "description_width": ""
      }
     },
     "f87c9b8235d84113a89db31f8e1e3b90": {
      "model_module": "@jupyter-widgets/controls",
      "model_module_version": "2.0.0",
      "model_name": "HTMLStyleModel",
      "state": {
       "description_width": "",
       "font_size": null,
       "text_color": null
      }
     },
     "fc0ad3f61fd74ab8993f5753040de6d7": {
      "model_module": "@jupyter-widgets/base",
      "model_module_version": "2.0.0",
      "model_name": "LayoutModel",
      "state": {}
     },
     "fc73db5c985e4c628a69b0ceff27dec8": {
      "model_module": "@jupyter-widgets/controls",
      "model_module_version": "2.0.0",
      "model_name": "HBoxModel",
      "state": {
       "children": [
        "IPY_MODEL_e16edc9008b0461d9f30dc69153e6653",
        "IPY_MODEL_1e86d76a6d1c4228abd935332ccf947d",
        "IPY_MODEL_b284af3837f04ff6b38f6243473985d0"
       ],
       "layout": "IPY_MODEL_2e586b8bb3a143f1b09843a12d2300dc"
      }
     },
     "fd4a31cfc49f40fa9707c97d08956e40": {
      "model_module": "@jupyter-widgets/controls",
      "model_module_version": "2.0.0",
      "model_name": "HTMLModel",
      "state": {
       "layout": "IPY_MODEL_636f5e9936cc4d9d9fe4f6f08c82f508",
       "style": "IPY_MODEL_2992dc5fb9c8451483613723b29a9b91",
       "value": " 14/22 [00:17&lt;00:00, 14.42cell/s]"
      }
     },
     "ffee109aad20427681e6172139233f00": {
      "model_module": "@jupyter-widgets/base",
      "model_module_version": "2.0.0",
      "model_name": "LayoutModel",
      "state": {}
     }
    },
    "version_major": 2,
    "version_minor": 0
   }
  }
 },
 "nbformat": 4,
 "nbformat_minor": 5
}
