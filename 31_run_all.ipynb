{
 "cells": [
  {
   "cell_type": "code",
   "execution_count": 1,
   "id": "8864aa17-797f-48b5-a15f-d15d80652d46",
   "metadata": {
    "editable": true,
    "slideshow": {
     "slide_type": ""
    },
    "tags": []
   },
   "outputs": [],
   "source": [
    "from typing import List, Tuple\n",
    "\n",
    "from pathlib import Path\n",
    "from IPython.display import Markdown\n",
    "import datetime as dt\n",
    "import re\n",
    "\n",
    "import papermill as pm\n",
    "\n",
    "from src import paths"
   ]
  },
  {
   "cell_type": "code",
   "execution_count": 2,
   "id": "b17f5b20-88da-449a-a2c1-84d848f7cee0",
   "metadata": {
    "editable": true,
    "slideshow": {
     "slide_type": ""
    },
    "tags": []
   },
   "outputs": [],
   "source": [
    "SPLITS_FREQ: str = 'W-THU' # split weekly\n",
    "SPLITS_NORMALIZE = True # Wether or not to move everything to 00:00\n",
    "LAST_SPLITS = 10 # Use just last 10 splits\n",
    "\n",
    "EXECUTION_ID = \"2024-03-01 21:00\"\n",
    "\n",
    "# Avoid using dt.datetime.utcnow() because its used in caching too\n",
    "\n",
    "# Train, Cutoff date, Platform(s), Org Name\n",
    "# If the platform is none, it will be ALL PLATFORMS\n",
    "# If the cutoff date is none, it will use last 10 folds\n",
    "ORGS: List[Tuple[bool, str, str, str]] = [\n",
    "    # The first one, used to test if everything goes fine\n",
    "    (True,  '2024-01-01', 'snapshot', 'Decentraland'),\n",
    "    # ('snapshot', '9K DAO'), # SPAM DAO, says so on snapshot\n",
    "    # Las propuestas duran 5 días\n",
    "    (False, None, 'snapshot', 'Balancer'),\n",
    "    # Las propuestas duran 2-3 días\n",
    "    (False, None, 'daohaus',  'DEAD FoundationsDAO'),\n",
    "    # La buena y confiable\n",
    "    # No hay suficientes folds\n",
    "    (False, None, 'daostack', 'dxDAO - xDXdao'),\n",
    "    # ('snapshot', 'gm DAO'), # SPAM DAO, says so on snapshot\n",
    "    # Esta tampoco tiene buenos folds\n",
    "    (False, None, 'snapshot', 'HUWA-DAO'),\n",
    "    # Vamos a probar a ver que tal\n",
    "    (True, '2023-05-12', 'snapshot', 'Index Coop'),\n",
    "    # Vamos a probar a ver que tal\n",
    "    (True, '2022-07-22', ['daohaus', 'snapshot'], 'MetaCartel - MetaCartel Ventures'),\n",
    "    # Vamos a probar con esta también\n",
    "    (True, '2023-07-07', 'snapshot', 'PancakeSwap'),\n",
    "    # La super tocha (ya se entrenará luego)\n",
    "    (False, None, 'snapshot', 'Aave - Aavegotchi'),\n",
    "    # ('snapshot', 'WEALTHDAO'), # SPAM DAO, says so on snapshot\n",
    "]"
   ]
  },
  {
   "cell_type": "code",
   "execution_count": 3,
   "id": "c9f3ddaf-e451-449e-9974-e8768217757e",
   "metadata": {
    "editable": true,
    "slideshow": {
     "slide_type": ""
    },
    "tags": []
   },
   "outputs": [
    {
     "name": "stdout",
     "output_type": "stream",
     "text": [
      "Running notebooks for Decentraland\n"
     ]
    },
    {
     "data": {
      "application/vnd.jupyter.widget-view+json": {
       "model_id": "a4c7bbf0acd54cfc954fdbd780a1cb28",
       "version_major": 2,
       "version_minor": 0
      },
      "text/plain": [
       "Executing:   0%|          | 0/22 [00:00<?, ?cell/s]"
      ]
     },
     "metadata": {},
     "output_type": "display_data"
    },
    {
     "name": "stdout",
     "output_type": "stream",
     "text": [
      "Running notebooks for Balancer\n"
     ]
    },
    {
     "data": {
      "application/vnd.jupyter.widget-view+json": {
       "model_id": "dd9176e5130c4d029435bd38d74695aa",
       "version_major": 2,
       "version_minor": 0
      },
      "text/plain": [
       "Executing:   0%|          | 0/22 [00:00<?, ?cell/s]"
      ]
     },
     "metadata": {},
     "output_type": "display_data"
    },
    {
     "name": "stdout",
     "output_type": "stream",
     "text": [
      "Running notebooks for DEAD FoundationsDAO\n"
     ]
    },
    {
     "data": {
      "application/vnd.jupyter.widget-view+json": {
       "model_id": "c3f87d55c4f644bba1efe05d73dd5e47",
       "version_major": 2,
       "version_minor": 0
      },
      "text/plain": [
       "Executing:   0%|          | 0/22 [00:00<?, ?cell/s]"
      ]
     },
     "metadata": {},
     "output_type": "display_data"
    },
    {
     "name": "stdout",
     "output_type": "stream",
     "text": [
      "Running notebooks for dxDAO - xDXdao\n"
     ]
    },
    {
     "data": {
      "application/vnd.jupyter.widget-view+json": {
       "model_id": "d2c62aad25ca42b8b431828a365b7336",
       "version_major": 2,
       "version_minor": 0
      },
      "text/plain": [
       "Executing:   0%|          | 0/22 [00:00<?, ?cell/s]"
      ]
     },
     "metadata": {},
     "output_type": "display_data"
    },
    {
     "name": "stdout",
     "output_type": "stream",
     "text": [
      "Running notebooks for HUWA-DAO\n"
     ]
    },
    {
     "data": {
      "application/vnd.jupyter.widget-view+json": {
       "model_id": "08061d4ac0be4e96a50818ee949861ae",
       "version_major": 2,
       "version_minor": 0
      },
      "text/plain": [
       "Executing:   0%|          | 0/22 [00:00<?, ?cell/s]"
      ]
     },
     "metadata": {},
     "output_type": "display_data"
    },
    {
     "name": "stdout",
     "output_type": "stream",
     "text": [
      "Running notebooks for Index Coop\n"
     ]
    },
    {
     "data": {
      "application/vnd.jupyter.widget-view+json": {
       "model_id": "b3a55dac96cf40fa8e325f2f2339095b",
       "version_major": 2,
       "version_minor": 0
      },
      "text/plain": [
       "Executing:   0%|          | 0/22 [00:00<?, ?cell/s]"
      ]
     },
     "metadata": {},
     "output_type": "display_data"
    },
    {
     "name": "stdout",
     "output_type": "stream",
     "text": [
      "Running notebooks for MetaCartel - MetaCartel Ventures\n"
     ]
    },
    {
     "data": {
      "application/vnd.jupyter.widget-view+json": {
       "model_id": "a5732b9e6ead4ddfb5ee1a7db3ff2924",
       "version_major": 2,
       "version_minor": 0
      },
      "text/plain": [
       "Executing:   0%|          | 0/22 [00:00<?, ?cell/s]"
      ]
     },
     "metadata": {},
     "output_type": "display_data"
    },
    {
     "name": "stdout",
     "output_type": "stream",
     "text": [
      "Running notebooks for PancakeSwap\n"
     ]
    },
    {
     "data": {
      "application/vnd.jupyter.widget-view+json": {
       "model_id": "d1e324e11c304daf9be893c8331149de",
       "version_major": 2,
       "version_minor": 0
      },
      "text/plain": [
       "Executing:   0%|          | 0/22 [00:00<?, ?cell/s]"
      ]
     },
     "metadata": {},
     "output_type": "display_data"
    },
    {
     "name": "stdout",
     "output_type": "stream",
     "text": [
      "Running notebooks for Aave - Aavegotchi\n"
     ]
    },
    {
     "data": {
      "application/vnd.jupyter.widget-view+json": {
       "model_id": "ba821284b7d5409c81ab4c7b0c082d45",
       "version_major": 2,
       "version_minor": 0
      },
      "text/plain": [
       "Executing:   0%|          | 0/22 [00:00<?, ?cell/s]"
      ]
     },
     "metadata": {},
     "output_type": "display_data"
    }
   ],
   "source": [
    "nb_name = Path('./30_run_one.ipynb')\n",
    "\n",
    "for do_train, cutoff, platform, org in ORGS:\n",
    "    print(f\"Running notebooks for {org}\")\n",
    "    outpath = Path(f'./nbout/{org.replace(\" / \", \"_\")}')\n",
    "    outpath.mkdir(parents=True, exist_ok=True)\n",
    "    \n",
    "    pm.execute_notebook(\n",
    "        nb_name,\n",
    "        outpath / nb_name,\n",
    "        autosave_cell_every=60,\n",
    "        parameters=dict(\n",
    "            ORG_NAME = org,\n",
    "            ORG_PLATFORM = platform,\n",
    "            SPLITS_FREQ = SPLITS_FREQ,\n",
    "            SPLITS_NORMALIZE = SPLITS_NORMALIZE,\n",
    "            LAST_SPLITS = LAST_SPLITS,\n",
    "            USE_ORG_NAMES = True,\n",
    "            EXECUTION_ID = EXECUTION_ID,\n",
    "            DO_TRAIN = do_train,\n",
    "            CUTOFF_DATE_STR = cutoff,\n",
    "        ),\n",
    "    )"
   ]
  },
  {
   "cell_type": "code",
   "execution_count": null,
   "id": "5d05980c-f8b0-4fd4-acaa-b10231d7a4a7",
   "metadata": {},
   "outputs": [],
   "source": []
  }
 ],
 "metadata": {
  "kernelspec": {
   "display_name": "Python 3 (ipykernel)",
   "language": "python",
   "name": "python3"
  },
  "language_info": {
   "codemirror_mode": {
    "name": "ipython",
    "version": 3
   },
   "file_extension": ".py",
   "mimetype": "text/x-python",
   "name": "python",
   "nbconvert_exporter": "python",
   "pygments_lexer": "ipython3",
   "version": "3.9.18"
  },
  "widgets": {
   "application/vnd.jupyter.widget-state+json": {
    "state": {
     "0231068bcdac4692ba90d2f02429af32": {
      "model_module": "@jupyter-widgets/controls",
      "model_module_version": "2.0.0",
      "model_name": "HTMLModel",
      "state": {
       "layout": "IPY_MODEL_f705bb817fae464397bb0b58613fa637",
       "style": "IPY_MODEL_4408862c984249c882cffc6cdeae4972",
       "value": "Executing force_stop:  73%"
      }
     },
     "074d5925f12746249836eb3f4152ab74": {
      "model_module": "@jupyter-widgets/controls",
      "model_module_version": "2.0.0",
      "model_name": "ProgressStyleModel",
      "state": {
       "description_width": ""
      }
     },
     "08061d4ac0be4e96a50818ee949861ae": {
      "model_module": "@jupyter-widgets/controls",
      "model_module_version": "2.0.0",
      "model_name": "HBoxModel",
      "state": {
       "children": [
        "IPY_MODEL_f0d899af5b0f4deca17cb8913fb5af8b",
        "IPY_MODEL_8adae45f4805426d82ee97b425705525",
        "IPY_MODEL_2f0893e23e6c47aaa03787f5082feb00"
       ],
       "layout": "IPY_MODEL_97fb24d2cfde49208bdd8d803630c1ab"
      }
     },
     "0cec28dd96ca42e5906ca422d95a9e13": {
      "model_module": "@jupyter-widgets/base",
      "model_module_version": "2.0.0",
      "model_name": "LayoutModel",
      "state": {}
     },
     "1220691966de46818cc5d892003c1bd6": {
      "model_module": "@jupyter-widgets/controls",
      "model_module_version": "2.0.0",
      "model_name": "HTMLStyleModel",
      "state": {
       "description_width": "",
       "font_size": null,
       "text_color": null
      }
     },
     "17f551616c8f40db95de889e385480da": {
      "model_module": "@jupyter-widgets/controls",
      "model_module_version": "2.0.0",
      "model_name": "HTMLModel",
      "state": {
       "layout": "IPY_MODEL_27c1045342434470961d0badf0cef748",
       "style": "IPY_MODEL_fc110c2bf3354717b997696f31197922",
       "value": "Executing force_stop:  73%"
      }
     },
     "18698b4ee3ea44fcac181bb6662daa3b": {
      "model_module": "@jupyter-widgets/controls",
      "model_module_version": "2.0.0",
      "model_name": "ProgressStyleModel",
      "state": {
       "description_width": ""
      }
     },
     "19f8a93eb5264c35aa00da91a238db8f": {
      "model_module": "@jupyter-widgets/controls",
      "model_module_version": "2.0.0",
      "model_name": "FloatProgressModel",
      "state": {
       "bar_style": "danger",
       "layout": "IPY_MODEL_6648a9df3f3a45a1956fbd0c7c60eb35",
       "max": 22,
       "style": "IPY_MODEL_c28f4e016179440e96f498dabc21a301",
       "value": 13
      }
     },
     "1cc7e037750842e6b6d5c94d60447689": {
      "model_module": "@jupyter-widgets/controls",
      "model_module_version": "2.0.0",
      "model_name": "HTMLModel",
      "state": {
       "layout": "IPY_MODEL_ae3c2b2da8cf41c5aa95ed0767e7d341",
       "style": "IPY_MODEL_84f663bb7abd46bab00aaaa021e1a0ac",
       "value": "Executing check_train:  59%"
      }
     },
     "2245773111724ef6b7c06ecf0b49f1bd": {
      "model_module": "@jupyter-widgets/base",
      "model_module_version": "2.0.0",
      "model_name": "LayoutModel",
      "state": {}
     },
     "27c1045342434470961d0badf0cef748": {
      "model_module": "@jupyter-widgets/base",
      "model_module_version": "2.0.0",
      "model_name": "LayoutModel",
      "state": {}
     },
     "2827aa63e28f4945ad7ae80bdafd12df": {
      "model_module": "@jupyter-widgets/controls",
      "model_module_version": "2.0.0",
      "model_name": "ProgressStyleModel",
      "state": {
       "description_width": ""
      }
     },
     "2ddecc6c15cc4209ab52bceffab8bfb3": {
      "model_module": "@jupyter-widgets/controls",
      "model_module_version": "2.0.0",
      "model_name": "HTMLModel",
      "state": {
       "layout": "IPY_MODEL_8658524c4bf5414e894f9f2ac4ed7481",
       "style": "IPY_MODEL_8accd117767e4d3d8d63f92af321c79d",
       "value": " 13/22 [00:01&lt;00:00, 10.46cell/s]"
      }
     },
     "2e72511860ea4a5abe52ec757653e9f5": {
      "model_module": "@jupyter-widgets/controls",
      "model_module_version": "2.0.0",
      "model_name": "HTMLModel",
      "state": {
       "layout": "IPY_MODEL_570795b8ee214722aabff80b425d28be",
       "style": "IPY_MODEL_d4bc908a9cf14d29be9612aa5931800d",
       "value": " 16/22 [00:01&lt;00:00, 17.15cell/s]"
      }
     },
     "2f0893e23e6c47aaa03787f5082feb00": {
      "model_module": "@jupyter-widgets/controls",
      "model_module_version": "2.0.0",
      "model_name": "HTMLModel",
      "state": {
       "layout": "IPY_MODEL_62c7067cb57742a2b3ae84d47034471a",
       "style": "IPY_MODEL_40376028bb3742f7831a4bd7f7314502",
       "value": " 13/22 [00:01&lt;00:00, 11.90cell/s]"
      }
     },
     "30f6c8a62c014dd1bc514325b6f2c503": {
      "model_module": "@jupyter-widgets/base",
      "model_module_version": "2.0.0",
      "model_name": "LayoutModel",
      "state": {}
     },
     "3479e87848264e66be5a5b7edf790c98": {
      "model_module": "@jupyter-widgets/base",
      "model_module_version": "2.0.0",
      "model_name": "LayoutModel",
      "state": {}
     },
     "34c61392a48e4f5ca530f672dc197bf3": {
      "model_module": "@jupyter-widgets/controls",
      "model_module_version": "2.0.0",
      "model_name": "FloatProgressModel",
      "state": {
       "bar_style": "danger",
       "layout": "IPY_MODEL_3b69c058608146e0a844df43d6448a47",
       "max": 22,
       "style": "IPY_MODEL_18698b4ee3ea44fcac181bb6662daa3b",
       "value": 16
      }
     },
     "37dd3ef39a814dd5912c3549e576de67": {
      "model_module": "@jupyter-widgets/controls",
      "model_module_version": "2.0.0",
      "model_name": "ProgressStyleModel",
      "state": {
       "description_width": ""
      }
     },
     "3aab9406c860491ab3e89916ec595453": {
      "model_module": "@jupyter-widgets/base",
      "model_module_version": "2.0.0",
      "model_name": "LayoutModel",
      "state": {}
     },
     "3b69c058608146e0a844df43d6448a47": {
      "model_module": "@jupyter-widgets/base",
      "model_module_version": "2.0.0",
      "model_name": "LayoutModel",
      "state": {}
     },
     "40376028bb3742f7831a4bd7f7314502": {
      "model_module": "@jupyter-widgets/controls",
      "model_module_version": "2.0.0",
      "model_name": "HTMLStyleModel",
      "state": {
       "description_width": "",
       "font_size": null,
       "text_color": null
      }
     },
     "4077072782d7421ea823993ca4d18749": {
      "model_module": "@jupyter-widgets/base",
      "model_module_version": "2.0.0",
      "model_name": "LayoutModel",
      "state": {}
     },
     "4408862c984249c882cffc6cdeae4972": {
      "model_module": "@jupyter-widgets/controls",
      "model_module_version": "2.0.0",
      "model_name": "HTMLStyleModel",
      "state": {
       "description_width": "",
       "font_size": null,
       "text_color": null
      }
     },
     "450fcd4a48e544ad8bf2bc8fd1d57bb8": {
      "model_module": "@jupyter-widgets/controls",
      "model_module_version": "2.0.0",
      "model_name": "HTMLModel",
      "state": {
       "layout": "IPY_MODEL_4077072782d7421ea823993ca4d18749",
       "style": "IPY_MODEL_8f4e43ba664a43e99b935cbeb5f612d2",
       "value": " 16/22 [00:01&lt;00:00, 16.60cell/s]"
      }
     },
     "45cad33c2e3d4deaa2ac30b48222e920": {
      "model_module": "@jupyter-widgets/controls",
      "model_module_version": "2.0.0",
      "model_name": "FloatProgressModel",
      "state": {
       "bar_style": "danger",
       "layout": "IPY_MODEL_f65871869e0d440cb2cd72eee2b4a608",
       "max": 22,
       "style": "IPY_MODEL_c908f7cee6bc4a18abfafe0c914014d1",
       "value": 16
      }
     },
     "496e78e81ecb403ebdfc5cffa6708ad4": {
      "model_module": "@jupyter-widgets/controls",
      "model_module_version": "2.0.0",
      "model_name": "FloatProgressModel",
      "state": {
       "bar_style": "danger",
       "layout": "IPY_MODEL_30f6c8a62c014dd1bc514325b6f2c503",
       "max": 22,
       "style": "IPY_MODEL_5905956034cf432798d164d9f0d008b9",
       "value": 13
      }
     },
     "4c538c96f0ea49a6a49d25e855e79f24": {
      "model_module": "@jupyter-widgets/controls",
      "model_module_version": "2.0.0",
      "model_name": "ProgressStyleModel",
      "state": {
       "description_width": ""
      }
     },
     "5374b33e1b73466fab4c544cf2a6ee39": {
      "model_module": "@jupyter-widgets/controls",
      "model_module_version": "2.0.0",
      "model_name": "HTMLStyleModel",
      "state": {
       "description_width": "",
       "font_size": null,
       "text_color": null
      }
     },
     "5477855b105c4b0d8c3a879f42a9d15c": {
      "model_module": "@jupyter-widgets/base",
      "model_module_version": "2.0.0",
      "model_name": "LayoutModel",
      "state": {}
     },
     "570795b8ee214722aabff80b425d28be": {
      "model_module": "@jupyter-widgets/base",
      "model_module_version": "2.0.0",
      "model_name": "LayoutModel",
      "state": {}
     },
     "5905956034cf432798d164d9f0d008b9": {
      "model_module": "@jupyter-widgets/controls",
      "model_module_version": "2.0.0",
      "model_name": "ProgressStyleModel",
      "state": {
       "description_width": ""
      }
     },
     "59ae1c7d59ed453f8cd3f80889e5c561": {
      "model_module": "@jupyter-widgets/controls",
      "model_module_version": "2.0.0",
      "model_name": "HTMLStyleModel",
      "state": {
       "description_width": "",
       "font_size": null,
       "text_color": null
      }
     },
     "621f5cd0be014946ad3ad9df857b5eaa": {
      "model_module": "@jupyter-widgets/controls",
      "model_module_version": "2.0.0",
      "model_name": "FloatProgressModel",
      "state": {
       "bar_style": "danger",
       "layout": "IPY_MODEL_8ca18986df7a4ad7a59d601f792d401b",
       "max": 22,
       "style": "IPY_MODEL_4c538c96f0ea49a6a49d25e855e79f24",
       "value": 16
      }
     },
     "62c7067cb57742a2b3ae84d47034471a": {
      "model_module": "@jupyter-widgets/base",
      "model_module_version": "2.0.0",
      "model_name": "LayoutModel",
      "state": {}
     },
     "6648a9df3f3a45a1956fbd0c7c60eb35": {
      "model_module": "@jupyter-widgets/base",
      "model_module_version": "2.0.0",
      "model_name": "LayoutModel",
      "state": {}
     },
     "6875c3b1c8194815962177e167ebbf84": {
      "model_module": "@jupyter-widgets/base",
      "model_module_version": "2.0.0",
      "model_name": "LayoutModel",
      "state": {}
     },
     "7009f54aae914cddb8d33df28929a541": {
      "model_module": "@jupyter-widgets/base",
      "model_module_version": "2.0.0",
      "model_name": "LayoutModel",
      "state": {}
     },
     "74f4ea70e3c34d22b6e3abca9994ac00": {
      "model_module": "@jupyter-widgets/controls",
      "model_module_version": "2.0.0",
      "model_name": "HTMLModel",
      "state": {
       "layout": "IPY_MODEL_dc03a3a484544b258ecee47cc9edbab9",
       "style": "IPY_MODEL_8a8253d784264dc79c7edc61ff4731fb",
       "value": " 16/22 [00:01&lt;00:00, 16.09cell/s]"
      }
     },
     "77cd645560c244d7abacbad6e08ea017": {
      "model_module": "@jupyter-widgets/controls",
      "model_module_version": "2.0.0",
      "model_name": "HTMLStyleModel",
      "state": {
       "description_width": "",
       "font_size": null,
       "text_color": null
      }
     },
     "7ad31c32ee354b0cb1ebb0d557e9c892": {
      "model_module": "@jupyter-widgets/base",
      "model_module_version": "2.0.0",
      "model_name": "LayoutModel",
      "state": {}
     },
     "820ffacf960d46ce8ad6b25f2d275059": {
      "model_module": "@jupyter-widgets/controls",
      "model_module_version": "2.0.0",
      "model_name": "ProgressStyleModel",
      "state": {
       "description_width": ""
      }
     },
     "82be492c625543efb1ef8c5efc7abf71": {
      "model_module": "@jupyter-widgets/base",
      "model_module_version": "2.0.0",
      "model_name": "LayoutModel",
      "state": {}
     },
     "84f663bb7abd46bab00aaaa021e1a0ac": {
      "model_module": "@jupyter-widgets/controls",
      "model_module_version": "2.0.0",
      "model_name": "HTMLStyleModel",
      "state": {
       "description_width": "",
       "font_size": null,
       "text_color": null
      }
     },
     "8658524c4bf5414e894f9f2ac4ed7481": {
      "model_module": "@jupyter-widgets/base",
      "model_module_version": "2.0.0",
      "model_name": "LayoutModel",
      "state": {}
     },
     "8883835826f54685a4a3b098bdee1300": {
      "model_module": "@jupyter-widgets/base",
      "model_module_version": "2.0.0",
      "model_name": "LayoutModel",
      "state": {}
     },
     "8a8253d784264dc79c7edc61ff4731fb": {
      "model_module": "@jupyter-widgets/controls",
      "model_module_version": "2.0.0",
      "model_name": "HTMLStyleModel",
      "state": {
       "description_width": "",
       "font_size": null,
       "text_color": null
      }
     },
     "8accd117767e4d3d8d63f92af321c79d": {
      "model_module": "@jupyter-widgets/controls",
      "model_module_version": "2.0.0",
      "model_name": "HTMLStyleModel",
      "state": {
       "description_width": "",
       "font_size": null,
       "text_color": null
      }
     },
     "8adae45f4805426d82ee97b425705525": {
      "model_module": "@jupyter-widgets/controls",
      "model_module_version": "2.0.0",
      "model_name": "FloatProgressModel",
      "state": {
       "bar_style": "danger",
       "layout": "IPY_MODEL_af77fddcbe154058b71b94c945fbd3ff",
       "max": 22,
       "style": "IPY_MODEL_37dd3ef39a814dd5912c3549e576de67",
       "value": 13
      }
     },
     "8ca18986df7a4ad7a59d601f792d401b": {
      "model_module": "@jupyter-widgets/base",
      "model_module_version": "2.0.0",
      "model_name": "LayoutModel",
      "state": {}
     },
     "8e65687c26cb49c9afd497af789d64b5": {
      "model_module": "@jupyter-widgets/controls",
      "model_module_version": "2.0.0",
      "model_name": "FloatProgressModel",
      "state": {
       "bar_style": "danger",
       "layout": "IPY_MODEL_93fab93cd2694ce0b4f61215f1899f3d",
       "max": 22,
       "style": "IPY_MODEL_2827aa63e28f4945ad7ae80bdafd12df",
       "value": 13
      }
     },
     "8f4e43ba664a43e99b935cbeb5f612d2": {
      "model_module": "@jupyter-widgets/controls",
      "model_module_version": "2.0.0",
      "model_name": "HTMLStyleModel",
      "state": {
       "description_width": "",
       "font_size": null,
       "text_color": null
      }
     },
     "93fab93cd2694ce0b4f61215f1899f3d": {
      "model_module": "@jupyter-widgets/base",
      "model_module_version": "2.0.0",
      "model_name": "LayoutModel",
      "state": {}
     },
     "9478f7bb017348128c9dfe9b7bfb0f5d": {
      "model_module": "@jupyter-widgets/base",
      "model_module_version": "2.0.0",
      "model_name": "LayoutModel",
      "state": {}
     },
     "97fb24d2cfde49208bdd8d803630c1ab": {
      "model_module": "@jupyter-widgets/base",
      "model_module_version": "2.0.0",
      "model_name": "LayoutModel",
      "state": {}
     },
     "a4c7bbf0acd54cfc954fdbd780a1cb28": {
      "model_module": "@jupyter-widgets/controls",
      "model_module_version": "2.0.0",
      "model_name": "HBoxModel",
      "state": {
       "children": [
        "IPY_MODEL_a7f68a28185d4979ab4b4fbcbfc249a3",
        "IPY_MODEL_34c61392a48e4f5ca530f672dc197bf3",
        "IPY_MODEL_450fcd4a48e544ad8bf2bc8fd1d57bb8"
       ],
       "layout": "IPY_MODEL_c31c8c51e0c64095a9b666605f0c4a29"
      }
     },
     "a5732b9e6ead4ddfb5ee1a7db3ff2924": {
      "model_module": "@jupyter-widgets/controls",
      "model_module_version": "2.0.0",
      "model_name": "HBoxModel",
      "state": {
       "children": [
        "IPY_MODEL_0231068bcdac4692ba90d2f02429af32",
        "IPY_MODEL_621f5cd0be014946ad3ad9df857b5eaa",
        "IPY_MODEL_e21d10fe158f47c7b25c91ac89ce45ef"
       ],
       "layout": "IPY_MODEL_8883835826f54685a4a3b098bdee1300"
      }
     },
     "a7f68a28185d4979ab4b4fbcbfc249a3": {
      "model_module": "@jupyter-widgets/controls",
      "model_module_version": "2.0.0",
      "model_name": "HTMLModel",
      "state": {
       "layout": "IPY_MODEL_3aab9406c860491ab3e89916ec595453",
       "style": "IPY_MODEL_1220691966de46818cc5d892003c1bd6",
       "value": "Executing force_stop:  73%"
      }
     },
     "ae3c2b2da8cf41c5aa95ed0767e7d341": {
      "model_module": "@jupyter-widgets/base",
      "model_module_version": "2.0.0",
      "model_name": "LayoutModel",
      "state": {}
     },
     "af77fddcbe154058b71b94c945fbd3ff": {
      "model_module": "@jupyter-widgets/base",
      "model_module_version": "2.0.0",
      "model_name": "LayoutModel",
      "state": {}
     },
     "afd95d2cead74a07af909a4dbb58e8ff": {
      "model_module": "@jupyter-widgets/base",
      "model_module_version": "2.0.0",
      "model_name": "LayoutModel",
      "state": {}
     },
     "b13964a4b90746e4a74435aa99205c57": {
      "model_module": "@jupyter-widgets/controls",
      "model_module_version": "2.0.0",
      "model_name": "HTMLStyleModel",
      "state": {
       "description_width": "",
       "font_size": null,
       "text_color": null
      }
     },
     "b3a55dac96cf40fa8e325f2f2339095b": {
      "model_module": "@jupyter-widgets/controls",
      "model_module_version": "2.0.0",
      "model_name": "HBoxModel",
      "state": {
       "children": [
        "IPY_MODEL_c3b457c9d2da486bafe222f32e9f4487",
        "IPY_MODEL_45cad33c2e3d4deaa2ac30b48222e920",
        "IPY_MODEL_74f4ea70e3c34d22b6e3abca9994ac00"
       ],
       "layout": "IPY_MODEL_7ad31c32ee354b0cb1ebb0d557e9c892"
      }
     },
     "b59246807b3a44949b57d5e4b081fec3": {
      "model_module": "@jupyter-widgets/controls",
      "model_module_version": "2.0.0",
      "model_name": "FloatProgressModel",
      "state": {
       "bar_style": "danger",
       "layout": "IPY_MODEL_5477855b105c4b0d8c3a879f42a9d15c",
       "max": 22,
       "style": "IPY_MODEL_074d5925f12746249836eb3f4152ab74",
       "value": 16
      }
     },
     "b70a916f3637431a9348801bfeb1ddbe": {
      "model_module": "@jupyter-widgets/controls",
      "model_module_version": "2.0.0",
      "model_name": "HTMLModel",
      "state": {
       "layout": "IPY_MODEL_afd95d2cead74a07af909a4dbb58e8ff",
       "style": "IPY_MODEL_59ae1c7d59ed453f8cd3f80889e5c561",
       "value": "Executing check_train:  59%"
      }
     },
     "b781768d474b49cf9e538b2f5bdb92d0": {
      "model_module": "@jupyter-widgets/base",
      "model_module_version": "2.0.0",
      "model_name": "LayoutModel",
      "state": {}
     },
     "ba821284b7d5409c81ab4c7b0c082d45": {
      "model_module": "@jupyter-widgets/controls",
      "model_module_version": "2.0.0",
      "model_name": "HBoxModel",
      "state": {
       "children": [
        "IPY_MODEL_e017a67339f04e9fb1d5d33e474ffabf",
        "IPY_MODEL_ed1a068ac4e14f3a852d42fa3b8c9b78",
        "IPY_MODEL_2ddecc6c15cc4209ab52bceffab8bfb3"
       ],
       "layout": "IPY_MODEL_e24983053d194c438c31abeeea63f6ec"
      }
     },
     "bd7ed6167bff4f2cac0eec79c709b4cd": {
      "model_module": "@jupyter-widgets/controls",
      "model_module_version": "2.0.0",
      "model_name": "HTMLModel",
      "state": {
       "layout": "IPY_MODEL_3479e87848264e66be5a5b7edf790c98",
       "style": "IPY_MODEL_5374b33e1b73466fab4c544cf2a6ee39",
       "value": " 13/22 [00:01&lt;00:00, 11.31cell/s]"
      }
     },
     "be63f282e8a6428394bfe5496f393233": {
      "model_module": "@jupyter-widgets/base",
      "model_module_version": "2.0.0",
      "model_name": "LayoutModel",
      "state": {}
     },
     "c0ba676919514810bfa7b433d8a3a7f3": {
      "model_module": "@jupyter-widgets/controls",
      "model_module_version": "2.0.0",
      "model_name": "HTMLStyleModel",
      "state": {
       "description_width": "",
       "font_size": null,
       "text_color": null
      }
     },
     "c28f4e016179440e96f498dabc21a301": {
      "model_module": "@jupyter-widgets/controls",
      "model_module_version": "2.0.0",
      "model_name": "ProgressStyleModel",
      "state": {
       "description_width": ""
      }
     },
     "c31c8c51e0c64095a9b666605f0c4a29": {
      "model_module": "@jupyter-widgets/base",
      "model_module_version": "2.0.0",
      "model_name": "LayoutModel",
      "state": {}
     },
     "c3b457c9d2da486bafe222f32e9f4487": {
      "model_module": "@jupyter-widgets/controls",
      "model_module_version": "2.0.0",
      "model_name": "HTMLModel",
      "state": {
       "layout": "IPY_MODEL_f41548bea4ff49a9b80ca639929cc31c",
       "style": "IPY_MODEL_ce875f54087a4e2b9a806789850381ed",
       "value": "Executing force_stop:  73%"
      }
     },
     "c3f87d55c4f644bba1efe05d73dd5e47": {
      "model_module": "@jupyter-widgets/controls",
      "model_module_version": "2.0.0",
      "model_name": "HBoxModel",
      "state": {
       "children": [
        "IPY_MODEL_1cc7e037750842e6b6d5c94d60447689",
        "IPY_MODEL_19f8a93eb5264c35aa00da91a238db8f",
        "IPY_MODEL_bd7ed6167bff4f2cac0eec79c709b4cd"
       ],
       "layout": "IPY_MODEL_e0ca7310762b4f0c94be0dfa25886d71"
      }
     },
     "c504a893ba6f4bb4852e3dfc5d789f7a": {
      "model_module": "@jupyter-widgets/controls",
      "model_module_version": "2.0.0",
      "model_name": "HTMLModel",
      "state": {
       "layout": "IPY_MODEL_9478f7bb017348128c9dfe9b7bfb0f5d",
       "style": "IPY_MODEL_ff5fdb63fd384581affc0b76b89a20b8",
       "value": " 13/22 [00:01&lt;00:00, 12.90cell/s]"
      }
     },
     "c908f7cee6bc4a18abfafe0c914014d1": {
      "model_module": "@jupyter-widgets/controls",
      "model_module_version": "2.0.0",
      "model_name": "ProgressStyleModel",
      "state": {
       "description_width": ""
      }
     },
     "ce875f54087a4e2b9a806789850381ed": {
      "model_module": "@jupyter-widgets/controls",
      "model_module_version": "2.0.0",
      "model_name": "HTMLStyleModel",
      "state": {
       "description_width": "",
       "font_size": null,
       "text_color": null
      }
     },
     "d1e324e11c304daf9be893c8331149de": {
      "model_module": "@jupyter-widgets/controls",
      "model_module_version": "2.0.0",
      "model_name": "HBoxModel",
      "state": {
       "children": [
        "IPY_MODEL_17f551616c8f40db95de889e385480da",
        "IPY_MODEL_b59246807b3a44949b57d5e4b081fec3",
        "IPY_MODEL_2e72511860ea4a5abe52ec757653e9f5"
       ],
       "layout": "IPY_MODEL_6875c3b1c8194815962177e167ebbf84"
      }
     },
     "d2c62aad25ca42b8b431828a365b7336": {
      "model_module": "@jupyter-widgets/controls",
      "model_module_version": "2.0.0",
      "model_name": "HBoxModel",
      "state": {
       "children": [
        "IPY_MODEL_d45578a7fda442ca82a9f0325fb5b743",
        "IPY_MODEL_8e65687c26cb49c9afd497af789d64b5",
        "IPY_MODEL_e9d174db6ac841aab9413d656c68b7c2"
       ],
       "layout": "IPY_MODEL_b781768d474b49cf9e538b2f5bdb92d0"
      }
     },
     "d43cc13ebd9d4dcea9e665872d5f8569": {
      "model_module": "@jupyter-widgets/controls",
      "model_module_version": "2.0.0",
      "model_name": "HTMLStyleModel",
      "state": {
       "description_width": "",
       "font_size": null,
       "text_color": null
      }
     },
     "d45578a7fda442ca82a9f0325fb5b743": {
      "model_module": "@jupyter-widgets/controls",
      "model_module_version": "2.0.0",
      "model_name": "HTMLModel",
      "state": {
       "layout": "IPY_MODEL_be63f282e8a6428394bfe5496f393233",
       "style": "IPY_MODEL_d43cc13ebd9d4dcea9e665872d5f8569",
       "value": "Executing check_train:  59%"
      }
     },
     "d4bc908a9cf14d29be9612aa5931800d": {
      "model_module": "@jupyter-widgets/controls",
      "model_module_version": "2.0.0",
      "model_name": "HTMLStyleModel",
      "state": {
       "description_width": "",
       "font_size": null,
       "text_color": null
      }
     },
     "dc03a3a484544b258ecee47cc9edbab9": {
      "model_module": "@jupyter-widgets/base",
      "model_module_version": "2.0.0",
      "model_name": "LayoutModel",
      "state": {}
     },
     "dd9176e5130c4d029435bd38d74695aa": {
      "model_module": "@jupyter-widgets/controls",
      "model_module_version": "2.0.0",
      "model_name": "HBoxModel",
      "state": {
       "children": [
        "IPY_MODEL_b70a916f3637431a9348801bfeb1ddbe",
        "IPY_MODEL_496e78e81ecb403ebdfc5cffa6708ad4",
        "IPY_MODEL_c504a893ba6f4bb4852e3dfc5d789f7a"
       ],
       "layout": "IPY_MODEL_2245773111724ef6b7c06ecf0b49f1bd"
      }
     },
     "e017a67339f04e9fb1d5d33e474ffabf": {
      "model_module": "@jupyter-widgets/controls",
      "model_module_version": "2.0.0",
      "model_name": "HTMLModel",
      "state": {
       "layout": "IPY_MODEL_f3ea90ed75cc48fe9d25912f788434f2",
       "style": "IPY_MODEL_77cd645560c244d7abacbad6e08ea017",
       "value": "Executing check_train:  59%"
      }
     },
     "e0ca7310762b4f0c94be0dfa25886d71": {
      "model_module": "@jupyter-widgets/base",
      "model_module_version": "2.0.0",
      "model_name": "LayoutModel",
      "state": {}
     },
     "e21d10fe158f47c7b25c91ac89ce45ef": {
      "model_module": "@jupyter-widgets/controls",
      "model_module_version": "2.0.0",
      "model_name": "HTMLModel",
      "state": {
       "layout": "IPY_MODEL_7009f54aae914cddb8d33df28929a541",
       "style": "IPY_MODEL_c0ba676919514810bfa7b433d8a3a7f3",
       "value": " 16/22 [00:01&lt;00:00, 15.62cell/s]"
      }
     },
     "e24983053d194c438c31abeeea63f6ec": {
      "model_module": "@jupyter-widgets/base",
      "model_module_version": "2.0.0",
      "model_name": "LayoutModel",
      "state": {}
     },
     "e98d940f9a6149aba1288dffee657755": {
      "model_module": "@jupyter-widgets/controls",
      "model_module_version": "2.0.0",
      "model_name": "HTMLStyleModel",
      "state": {
       "description_width": "",
       "font_size": null,
       "text_color": null
      }
     },
     "e9d174db6ac841aab9413d656c68b7c2": {
      "model_module": "@jupyter-widgets/controls",
      "model_module_version": "2.0.0",
      "model_name": "HTMLModel",
      "state": {
       "layout": "IPY_MODEL_0cec28dd96ca42e5906ca422d95a9e13",
       "style": "IPY_MODEL_e98d940f9a6149aba1288dffee657755",
       "value": " 13/22 [00:01&lt;00:00, 10.60cell/s]"
      }
     },
     "ed1a068ac4e14f3a852d42fa3b8c9b78": {
      "model_module": "@jupyter-widgets/controls",
      "model_module_version": "2.0.0",
      "model_name": "FloatProgressModel",
      "state": {
       "bar_style": "danger",
       "layout": "IPY_MODEL_82be492c625543efb1ef8c5efc7abf71",
       "max": 22,
       "style": "IPY_MODEL_820ffacf960d46ce8ad6b25f2d275059",
       "value": 13
      }
     },
     "f0d899af5b0f4deca17cb8913fb5af8b": {
      "model_module": "@jupyter-widgets/controls",
      "model_module_version": "2.0.0",
      "model_name": "HTMLModel",
      "state": {
       "layout": "IPY_MODEL_fe04ae21408d4e7691b31c8992e9d80b",
       "style": "IPY_MODEL_b13964a4b90746e4a74435aa99205c57",
       "value": "Executing check_train:  59%"
      }
     },
     "f3ea90ed75cc48fe9d25912f788434f2": {
      "model_module": "@jupyter-widgets/base",
      "model_module_version": "2.0.0",
      "model_name": "LayoutModel",
      "state": {}
     },
     "f41548bea4ff49a9b80ca639929cc31c": {
      "model_module": "@jupyter-widgets/base",
      "model_module_version": "2.0.0",
      "model_name": "LayoutModel",
      "state": {}
     },
     "f65871869e0d440cb2cd72eee2b4a608": {
      "model_module": "@jupyter-widgets/base",
      "model_module_version": "2.0.0",
      "model_name": "LayoutModel",
      "state": {}
     },
     "f705bb817fae464397bb0b58613fa637": {
      "model_module": "@jupyter-widgets/base",
      "model_module_version": "2.0.0",
      "model_name": "LayoutModel",
      "state": {}
     },
     "fc110c2bf3354717b997696f31197922": {
      "model_module": "@jupyter-widgets/controls",
      "model_module_version": "2.0.0",
      "model_name": "HTMLStyleModel",
      "state": {
       "description_width": "",
       "font_size": null,
       "text_color": null
      }
     },
     "fe04ae21408d4e7691b31c8992e9d80b": {
      "model_module": "@jupyter-widgets/base",
      "model_module_version": "2.0.0",
      "model_name": "LayoutModel",
      "state": {}
     },
     "ff5fdb63fd384581affc0b76b89a20b8": {
      "model_module": "@jupyter-widgets/controls",
      "model_module_version": "2.0.0",
      "model_name": "HTMLStyleModel",
      "state": {
       "description_width": "",
       "font_size": null,
       "text_color": null
      }
     }
    },
    "version_major": 2,
    "version_minor": 0
   }
  }
 },
 "nbformat": 4,
 "nbformat_minor": 5
}
