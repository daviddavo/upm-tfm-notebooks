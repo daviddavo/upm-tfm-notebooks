{
 "cells": [
  {
   "cell_type": "code",
   "execution_count": 1,
   "id": "9984eade-d733-4399-ba60-c83aa3f17588",
   "metadata": {
    "execution": {
     "iopub.execute_input": "2023-10-10T14:32:35.806134Z",
     "iopub.status.busy": "2023-10-10T14:32:35.805903Z",
     "iopub.status.idle": "2023-10-10T14:32:41.526081Z",
     "shell.execute_reply": "2023-10-10T14:32:41.525621Z",
     "shell.execute_reply.started": "2023-10-10T14:32:35.806109Z"
    }
   },
   "outputs": [],
   "source": [
    "from typing import List, Dict, Tuple, Any\n",
    "\n",
    "import pandas as pd\n",
    "import numpy as np\n",
    "from tqdm import tqdm\n",
    "\n",
    "from ray import train, tune\n",
    "import ray.train.torch # Seems unused, but is used via train.torch\n",
    "\n",
    "import torch\n",
    "import torch_geometric as PyG\n",
    "\n",
    "from src import datasets\n",
    "from src import graph_utils as gu"
   ]
  },
  {
   "cell_type": "code",
   "execution_count": 2,
   "id": "78b33b0d-9560-4ed3-8792-9b447c4285c4",
   "metadata": {
    "execution": {
     "iopub.execute_input": "2023-10-10T14:32:41.527382Z",
     "iopub.status.busy": "2023-10-10T14:32:41.527059Z",
     "iopub.status.idle": "2023-10-10T14:32:41.529719Z",
     "shell.execute_reply": "2023-10-10T14:32:41.529215Z",
     "shell.execute_reply.started": "2023-10-10T14:32:41.527362Z"
    }
   },
   "outputs": [],
   "source": [
    "NUM_FOLDS: int = 5\n",
    "NUM_SAMPLES: int = 1\n",
    "MAX_ITERS: int = 5"
   ]
  },
  {
   "cell_type": "markdown",
   "id": "d849b129-08e5-4f78-a71a-9d084d602a03",
   "metadata": {},
   "source": [
    "## Reading and splitting data"
   ]
  },
  {
   "cell_type": "code",
   "execution_count": 3,
   "id": "d20ee511-bc1c-4914-9590-9c595b3af9f9",
   "metadata": {
    "execution": {
     "iopub.execute_input": "2023-10-10T14:32:41.530416Z",
     "iopub.status.busy": "2023-10-10T14:32:41.530232Z",
     "iopub.status.idle": "2023-10-10T14:32:41.538853Z",
     "shell.execute_reply": "2023-10-10T14:32:41.538244Z",
     "shell.execute_reply.started": "2023-10-10T14:32:41.530399Z"
    }
   },
   "outputs": [],
   "source": [
    "from torch_geometric.data import InMemoryDataset, HeteroData, Data"
   ]
  },
  {
   "cell_type": "code",
   "execution_count": 4,
   "id": "c7ddb500-813e-44f7-a91d-81a7b9c7156a",
   "metadata": {
    "execution": {
     "iopub.execute_input": "2023-10-10T14:32:41.539691Z",
     "iopub.status.busy": "2023-10-10T14:32:41.539534Z",
     "iopub.status.idle": "2023-10-10T14:32:41.569897Z",
     "shell.execute_reply": "2023-10-10T14:32:41.569357Z",
     "shell.execute_reply.started": "2023-10-10T14:32:41.539677Z"
    }
   },
   "outputs": [
    {
     "data": {
      "text/plain": [
       "HeteroData(\n",
       "  user={\n",
       "    num_nodes=2902,\n",
       "    voters=[2900],\n",
       "    authors=[2],\n",
       "  },\n",
       "  proposal={ num_nodes=1962 },\n",
       "  (user, vote, proposal)={ edge_index=[2, 107735] },\n",
       "  (proposal, rev_vote, user)={ edge_index=[2, 107735] },\n",
       "  (user, creates, proposal)={ edge_index=[2, 1962] },\n",
       "  (proposal, rev_creates, user)={ edge_index=[2, 1962] }\n",
       ")"
      ]
     },
     "execution_count": 4,
     "metadata": {},
     "output_type": "execute_result"
    }
   ],
   "source": [
    "original = datasets.DAOCensus(\"./data/daos-census\", 'Decentraland', 'snapshot', min_vpu=6)[0]\n",
    "original"
   ]
  },
  {
   "cell_type": "code",
   "execution_count": 5,
   "id": "55d29c89-ca7e-4e6b-9cb3-a72fca819a54",
   "metadata": {
    "execution": {
     "iopub.execute_input": "2023-10-10T14:32:41.570613Z",
     "iopub.status.busy": "2023-10-10T14:32:41.570471Z",
     "iopub.status.idle": "2023-10-10T14:32:41.578246Z",
     "shell.execute_reply": "2023-10-10T14:32:41.577790Z",
     "shell.execute_reply.started": "2023-10-10T14:32:41.570601Z"
    }
   },
   "outputs": [
    {
     "data": {
      "text/plain": [
       "Data(edge_index=[2, 219394], node_type=[4864], edge_type=[219394])"
      ]
     },
     "execution_count": 5,
     "metadata": {},
     "output_type": "execute_result"
    }
   ],
   "source": [
    "original.to_homogeneous()"
   ]
  },
  {
   "cell_type": "code",
   "execution_count": 6,
   "id": "ca8fba9f-94f8-4580-9a88-9ebbe8224377",
   "metadata": {
    "execution": {
     "iopub.execute_input": "2023-10-10T14:32:41.579009Z",
     "iopub.status.busy": "2023-10-10T14:32:41.578831Z",
     "iopub.status.idle": "2023-10-10T14:32:41.807746Z",
     "shell.execute_reply": "2023-10-10T14:32:41.807035Z",
     "shell.execute_reply.started": "2023-10-10T14:32:41.578993Z"
    }
   },
   "outputs": [
    {
     "data": {
      "text/plain": [
       "(HeteroData(\n",
       "   user={\n",
       "     num_nodes=2902,\n",
       "     voters=[2900],\n",
       "     authors=[2],\n",
       "   },\n",
       "   proposal={ num_nodes=1962 },\n",
       "   (user, vote, proposal)={ edge_index=[2, 86188] },\n",
       "   (proposal, rev_vote, user)={ edge_index=[2, 86188] },\n",
       "   (user, creates, proposal)={ edge_index=[2, 1570] },\n",
       "   (proposal, rev_creates, user)={ edge_index=[2, 1570] }\n",
       " ),\n",
       " HeteroData(\n",
       "   user={\n",
       "     num_nodes=2902,\n",
       "     voters=[2900],\n",
       "     authors=[2],\n",
       "   },\n",
       "   proposal={ num_nodes=1962 },\n",
       "   (user, vote, proposal)={ edge_index=[2, 21547] },\n",
       "   (proposal, rev_vote, user)={ edge_index=[2, 21547] },\n",
       "   (user, creates, proposal)={ edge_index=[2, 392] },\n",
       "   (proposal, rev_creates, user)={ edge_index=[2, 392] }\n",
       " ))"
      ]
     },
     "execution_count": 6,
     "metadata": {},
     "output_type": "execute_result"
    }
   ],
   "source": [
    "folds = gu.k_fold(original, NUM_FOLDS)\n",
    "folds[0]"
   ]
  },
  {
   "cell_type": "markdown",
   "id": "b52808ab-fa4f-4aa8-a00a-0a5f4e0aebbb",
   "metadata": {},
   "source": [
    "## Defining training"
   ]
  },
  {
   "cell_type": "code",
   "execution_count": 7,
   "id": "b218121a-984e-4d04-816d-17a35f67fd80",
   "metadata": {
    "execution": {
     "iopub.execute_input": "2023-10-10T14:32:41.809568Z",
     "iopub.status.busy": "2023-10-10T14:32:41.809248Z",
     "iopub.status.idle": "2023-10-10T14:32:41.815941Z",
     "shell.execute_reply": "2023-10-10T14:32:41.815306Z",
     "shell.execute_reply.started": "2023-10-10T14:32:41.809548Z"
    }
   },
   "outputs": [
    {
     "data": {
      "text/plain": [
       "device(type='cpu')"
      ]
     },
     "execution_count": 7,
     "metadata": {},
     "output_type": "execute_result"
    }
   ],
   "source": [
    "# import ray.train.torch\n",
    "train.torch.get_device()"
   ]
  },
  {
   "cell_type": "code",
   "execution_count": 8,
   "id": "bea9c5d3-81d6-4278-b306-3e52d3a20460",
   "metadata": {
    "execution": {
     "iopub.execute_input": "2023-10-10T14:32:41.817086Z",
     "iopub.status.busy": "2023-10-10T14:32:41.816719Z",
     "iopub.status.idle": "2023-10-10T14:32:41.885063Z",
     "shell.execute_reply": "2023-10-10T14:32:41.884253Z",
     "shell.execute_reply.started": "2023-10-10T14:32:41.817062Z"
    }
   },
   "outputs": [],
   "source": [
    "from torch_geometric.nn import LightGCN\n",
    "from src.loader import BPRLoader\n",
    "\n",
    "class TrainLightGCN(tune.Trainable):\n",
    "    def setup(\n",
    "        self,\n",
    "        config: Dict[str, Any],\n",
    "        folds: List[Tuple[HeteroData, HeteroData]], \n",
    "        original: HeteroData,\n",
    "        disable_tqdm: bool = True,\n",
    "    ):\n",
    "        self.config = config\n",
    "        self.fold = config['__trial_index__']\n",
    "        self.disable_tqdm = disable_tqdm\n",
    "        \n",
    "        self.model = LightGCN(\n",
    "            num_nodes=original.num_nodes,\n",
    "            embedding_dim=config['embedding_dim'],\n",
    "            num_layers=config['conv_layers'],\n",
    "        ).to(train.torch.get_device())\n",
    "        self.optimizer = torch.optim.Adam(self.model.parameters(), lr=config['learning_rate'])\n",
    "        \n",
    "        self.data_train, self.data_validation = folds[self.fold]\n",
    "        self.data_original = original\n",
    "\n",
    "        self.train_loader = BPRLoader(\n",
    "            self.data_train,\n",
    "            ('user', 'vote', 'proposal'),\n",
    "            batch_size = self.config['batch_size'],\n",
    "            input_nodes=('user', original['user'].voters),\n",
    "            subgraph_type='bidirectional',\n",
    "            transform_global=True,\n",
    "        )\n",
    "\n",
    "    def step(self):\n",
    "        \"\"\"\n",
    "        As a rule of thumb, the execution time of step should be large enough to avoid overheads \n",
    "        (i.e. more than a few seconds), but short enough to report progress periodically \n",
    "        (i.e. at most a few minutes).\n",
    "        \"\"\"\n",
    "        acc_loss = n_samples = 0\n",
    "\n",
    "        # sg: subgraph\n",
    "        # every iteration, a subgraph is returned (see PyG's NeighborLoader)\n",
    "        for sg in tqdm(self.train_loader, leave=False, delay=1, disable=self.disable_tqdm):            \n",
    "            pos_edge_index = train_edge_label_index[:, index]\n",
    "            # TODO: Change to negative structured sampling like in original LightGCN implementation\n",
    "            neg_edge_index = sg['user', 'vote', 'proposal'].edge_index\n",
    "            \n",
    "            edge_label_index = torch.cat([\n",
    "                pos_edge_index,\n",
    "                neg_edge_index,\n",
    "            ], dim=1)\n",
    "\n",
    "            optimizer.zero_grad()\n",
    "            pos_rank, neg_rank = model(message_passing_edge_index, edge_label_index).chunk(2)\n",
    "\n",
    "            # Learning\n",
    "            loss = model.recommendation_loss(\n",
    "                pos_rank,\n",
    "                neg_rank,\n",
    "                node_id=edge_label_index.unique(),\n",
    "                lambda_reg=self.config['l2'],\n",
    "            )\n",
    "            loss.backward()\n",
    "            optimizer.step()\n",
    "\n",
    "            acc_loss += float(loss) * pos_rank.numel()\n",
    "            n_samples += pos_rank.numel()\n",
    "\n",
    "        return {\n",
    "            'loss': acc_loss/n_samples,\n",
    "        }"
   ]
  },
  {
   "cell_type": "markdown",
   "id": "17271dd5-577b-411d-8377-8b78e4e31d69",
   "metadata": {},
   "source": [
    "## Tune hyperparameters"
   ]
  },
  {
   "cell_type": "code",
   "execution_count": 9,
   "id": "3ecdf33b-0a8d-4b60-910f-865cba2f474e",
   "metadata": {
    "execution": {
     "iopub.execute_input": "2023-10-10T14:32:41.887441Z",
     "iopub.status.busy": "2023-10-10T14:32:41.886922Z",
     "iopub.status.idle": "2023-10-10T14:33:04.398005Z",
     "shell.execute_reply": "2023-10-10T14:33:04.397632Z",
     "shell.execute_reply.started": "2023-10-10T14:32:41.887416Z"
    }
   },
   "outputs": [
    {
     "data": {
      "text/html": [
       "<div class=\"tuneStatus\">\n",
       "  <div style=\"display: flex;flex-direction: row\">\n",
       "    <div style=\"display: flex;flex-direction: column;\">\n",
       "      <h3>Tune Status</h3>\n",
       "      <table>\n",
       "<tbody>\n",
       "<tr><td>Current time:</td><td>2023-10-10 16:33:04</td></tr>\n",
       "<tr><td>Running for: </td><td>00:00:18.82        </td></tr>\n",
       "<tr><td>Memory:      </td><td>12.9/15.3 GiB      </td></tr>\n",
       "</tbody>\n",
       "</table>\n",
       "    </div>\n",
       "    <div class=\"vDivider\"></div>\n",
       "    <div class=\"systemInfo\">\n",
       "      <h3>System Info</h3>\n",
       "      Using FIFO scheduling algorithm.<br>Logical resource usage: 0/8 CPUs, 0/0 GPUs\n",
       "    </div>\n",
       "    <div class=\"vDivider\"></div>\n",
       "<div class=\"messages\">\n",
       "  <h3>Messages</h3>\n",
       "  \n",
       "  \n",
       "  Number of errored trials: 5<br><table>\n",
       "<thead>\n",
       "<tr><th>Trial name            </th><th style=\"text-align: right;\">  # failures</th><th>error file                                                                                                                                                                                               </th></tr>\n",
       "</thead>\n",
       "<tbody>\n",
       "<tr><td>TrainLightGCN_56bd2099</td><td style=\"text-align: right;\">           1</td><td>/home/davo/ray_results/TrainLightGCN_2023-10-10_16-32-42/TrainLightGCN_56bd2099_1_trial_index=0,batch_size=64,conv_layers=5,embedding_dim=32,l2=0.0001,learning_rate=0.0010_2023-10-10_16-32-45/error.txt</td></tr>\n",
       "<tr><td>TrainLightGCN_31160e51</td><td style=\"text-align: right;\">           1</td><td>/home/davo/ray_results/TrainLightGCN_2023-10-10_16-32-42/TrainLightGCN_31160e51_2_trial_index=1,batch_size=64,conv_layers=5,embedding_dim=32,l2=0.0001,learning_rate=0.0010_2023-10-10_16-32-50/error.txt</td></tr>\n",
       "<tr><td>TrainLightGCN_b3225bfb</td><td style=\"text-align: right;\">           1</td><td>/home/davo/ray_results/TrainLightGCN_2023-10-10_16-32-42/TrainLightGCN_b3225bfb_3_trial_index=2,batch_size=64,conv_layers=5,embedding_dim=32,l2=0.0001,learning_rate=0.0010_2023-10-10_16-32-54/error.txt</td></tr>\n",
       "<tr><td>TrainLightGCN_daf5738b</td><td style=\"text-align: right;\">           1</td><td>/home/davo/ray_results/TrainLightGCN_2023-10-10_16-32-42/TrainLightGCN_daf5738b_4_trial_index=3,batch_size=64,conv_layers=5,embedding_dim=32,l2=0.0001,learning_rate=0.0010_2023-10-10_16-32-58/error.txt</td></tr>\n",
       "<tr><td>TrainLightGCN_ab536924</td><td style=\"text-align: right;\">           1</td><td>/home/davo/ray_results/TrainLightGCN_2023-10-10_16-32-42/TrainLightGCN_ab536924_5_trial_index=4,batch_size=64,conv_layers=5,embedding_dim=32,l2=0.0001,learning_rate=0.0010_2023-10-10_16-33-01/error.txt</td></tr>\n",
       "</tbody>\n",
       "</table>\n",
       "</div>\n",
       "<style>\n",
       ".messages {\n",
       "  color: var(--jp-ui-font-color1);\n",
       "  display: flex;\n",
       "  flex-direction: column;\n",
       "  padding-left: 1em;\n",
       "  overflow-y: auto;\n",
       "}\n",
       ".messages h3 {\n",
       "  font-weight: bold;\n",
       "}\n",
       ".vDivider {\n",
       "  border-left-width: var(--jp-border-width);\n",
       "  border-left-color: var(--jp-border-color0);\n",
       "  border-left-style: solid;\n",
       "  margin: 0.5em 1em 0.5em 1em;\n",
       "}\n",
       "</style>\n",
       "\n",
       "  </div>\n",
       "  <div class=\"hDivider\"></div>\n",
       "  <div class=\"trialStatus\">\n",
       "    <h3>Trial Status</h3>\n",
       "    <table>\n",
       "<thead>\n",
       "<tr><th>Trial name            </th><th>status  </th><th>loc              </th><th style=\"text-align: right;\">  __trial_index__</th><th style=\"text-align: right;\">  batch_size</th><th style=\"text-align: right;\">  conv_layers</th><th style=\"text-align: right;\">  embedding_dim</th><th style=\"text-align: right;\">    l2</th><th style=\"text-align: right;\">  learning_rate</th></tr>\n",
       "</thead>\n",
       "<tbody>\n",
       "<tr><td>TrainLightGCN_56bd2099</td><td>ERROR   </td><td>10.8.33.181:25159</td><td style=\"text-align: right;\">                0</td><td style=\"text-align: right;\">          64</td><td style=\"text-align: right;\">            5</td><td style=\"text-align: right;\">             32</td><td style=\"text-align: right;\">0.0001</td><td style=\"text-align: right;\">          0.001</td></tr>\n",
       "<tr><td>TrainLightGCN_31160e51</td><td>ERROR   </td><td>                 </td><td style=\"text-align: right;\">                1</td><td style=\"text-align: right;\">          64</td><td style=\"text-align: right;\">            5</td><td style=\"text-align: right;\">             32</td><td style=\"text-align: right;\">0.0001</td><td style=\"text-align: right;\">          0.001</td></tr>\n",
       "<tr><td>TrainLightGCN_b3225bfb</td><td>ERROR   </td><td>                 </td><td style=\"text-align: right;\">                2</td><td style=\"text-align: right;\">          64</td><td style=\"text-align: right;\">            5</td><td style=\"text-align: right;\">             32</td><td style=\"text-align: right;\">0.0001</td><td style=\"text-align: right;\">          0.001</td></tr>\n",
       "<tr><td>TrainLightGCN_daf5738b</td><td>ERROR   </td><td>                 </td><td style=\"text-align: right;\">                3</td><td style=\"text-align: right;\">          64</td><td style=\"text-align: right;\">            5</td><td style=\"text-align: right;\">             32</td><td style=\"text-align: right;\">0.0001</td><td style=\"text-align: right;\">          0.001</td></tr>\n",
       "<tr><td>TrainLightGCN_ab536924</td><td>ERROR   </td><td>                 </td><td style=\"text-align: right;\">                4</td><td style=\"text-align: right;\">          64</td><td style=\"text-align: right;\">            5</td><td style=\"text-align: right;\">             32</td><td style=\"text-align: right;\">0.0001</td><td style=\"text-align: right;\">          0.001</td></tr>\n",
       "</tbody>\n",
       "</table>\n",
       "  </div>\n",
       "</div>\n",
       "<style>\n",
       ".tuneStatus {\n",
       "  color: var(--jp-ui-font-color1);\n",
       "}\n",
       ".tuneStatus .systemInfo {\n",
       "  display: flex;\n",
       "  flex-direction: column;\n",
       "}\n",
       ".tuneStatus td {\n",
       "  white-space: nowrap;\n",
       "}\n",
       ".tuneStatus .trialStatus {\n",
       "  display: flex;\n",
       "  flex-direction: column;\n",
       "}\n",
       ".tuneStatus h3 {\n",
       "  font-weight: bold;\n",
       "}\n",
       ".tuneStatus .hDivider {\n",
       "  border-bottom-width: var(--jp-border-width);\n",
       "  border-bottom-color: var(--jp-border-color0);\n",
       "  border-bottom-style: solid;\n",
       "}\n",
       ".tuneStatus .vDivider {\n",
       "  border-left-width: var(--jp-border-width);\n",
       "  border-left-color: var(--jp-border-color0);\n",
       "  border-left-style: solid;\n",
       "  margin: 0.5em 1em 0.5em 1em;\n",
       "}\n",
       "</style>\n"
      ],
      "text/plain": [
       "<IPython.core.display.HTML object>"
      ]
     },
     "metadata": {},
     "output_type": "display_data"
    },
    {
     "name": "stderr",
     "output_type": "stream",
     "text": [
      "2023-10-10 16:32:50,957\tERROR tune_controller.py:1502 -- Trial task failed for trial TrainLightGCN_56bd2099\n",
      "Traceback (most recent call last):\n",
      "  File \"/home/davo/Documents/MUIA/upm-tfm-notebooks/.direnv/python-3.11/lib/python3.11/site-packages/ray/air/execution/_internal/event_manager.py\", line 110, in resolve_future\n",
      "    result = ray.get(future)\n",
      "             ^^^^^^^^^^^^^^^\n",
      "  File \"/home/davo/Documents/MUIA/upm-tfm-notebooks/.direnv/python-3.11/lib/python3.11/site-packages/ray/_private/auto_init_hook.py\", line 24, in auto_init_wrapper\n",
      "    return fn(*args, **kwargs)\n",
      "           ^^^^^^^^^^^^^^^^^^^\n",
      "  File \"/home/davo/Documents/MUIA/upm-tfm-notebooks/.direnv/python-3.11/lib/python3.11/site-packages/ray/_private/client_mode_hook.py\", line 103, in wrapper\n",
      "    return func(*args, **kwargs)\n",
      "           ^^^^^^^^^^^^^^^^^^^^^\n",
      "  File \"/home/davo/Documents/MUIA/upm-tfm-notebooks/.direnv/python-3.11/lib/python3.11/site-packages/ray/_private/worker.py\", line 2547, in get\n",
      "    raise value.as_instanceof_cause()\n",
      "ray.exceptions.RayTaskError(NameError): \u001b[36mray::_Inner.train()\u001b[39m (pid=25159, ip=10.8.33.181, actor_id=54d19c332d045fc21b2e9a2001000000, repr=<ray.tune.trainable.util.TrainLightGCN object at 0x7f566235b850>)\n",
      "           ^^^^^^^^^^^^^^^^^^^^^^^^^^^^^^^^^^^^\n",
      "           ^^^^^^^^^^^^^^^^^^^^^^^^^^^^^^^\n",
      "  File \"/home/davo/Documents/MUIA/upm-tfm-notebooks/.direnv/python-3.11/lib/python3.11/site-packages/ray/tune/trainable/trainable.py\", line 400, in train\n",
      "    raise skipped from exception_cause(skipped)\n",
      "  File \"/home/davo/Documents/MUIA/upm-tfm-notebooks/.direnv/python-3.11/lib/python3.11/site-packages/ray/tune/trainable/trainable.py\", line 397, in train\n",
      "    result = self.step()\n",
      "             ^^^^^^^^^^^\n",
      "           ^^^^^^^^^^^^^^^^^^^^^^^^^^^^^^^\n",
      "  File \"/tmp/ipykernel_24722/4138176443.py\", line 46, in step\n",
      "NameError: name 'train_edge_label_index' is not defined\n"
     ]
    },
    {
     "name": "stdout",
     "output_type": "stream",
     "text": [
      "\u001b[2m\u001b[36m(TrainLightGCN pid=25159)\u001b[0m HeteroData(\n",
      "\u001b[2m\u001b[36m(TrainLightGCN pid=25159)\u001b[0m   user={\n",
      "\u001b[2m\u001b[36m(TrainLightGCN pid=25159)\u001b[0m     num_nodes=64,\n",
      "\u001b[2m\u001b[36m(TrainLightGCN pid=25159)\u001b[0m     voters=[2900],\n",
      "\u001b[2m\u001b[36m(TrainLightGCN pid=25159)\u001b[0m     authors=[2],\n",
      "\u001b[2m\u001b[36m(TrainLightGCN pid=25159)\u001b[0m     n_id=[64],\n",
      "\u001b[2m\u001b[36m(TrainLightGCN pid=25159)\u001b[0m     input_id=[64],\n",
      "\u001b[2m\u001b[36m(TrainLightGCN pid=25159)\u001b[0m     batch_size=64,\n",
      "\u001b[2m\u001b[36m(TrainLightGCN pid=25159)\u001b[0m     dst_pos_index=[64],\n",
      "\u001b[2m\u001b[36m(TrainLightGCN pid=25159)\u001b[0m     dst_neg_index=[64],\n",
      "\u001b[2m\u001b[36m(TrainLightGCN pid=25159)\u001b[0m   },\n",
      "\u001b[2m\u001b[36m(TrainLightGCN pid=25159)\u001b[0m   proposal={\n",
      "\u001b[2m\u001b[36m(TrainLightGCN pid=25159)\u001b[0m     num_nodes=118,\n",
      "\u001b[2m\u001b[36m(TrainLightGCN pid=25159)\u001b[0m     n_id=[118],\n",
      "\u001b[2m\u001b[36m(TrainLightGCN pid=25159)\u001b[0m     src_index=[64],\n",
      "\u001b[2m\u001b[36m(TrainLightGCN pid=25159)\u001b[0m   },\n",
      "\u001b[2m\u001b[36m(TrainLightGCN pid=25159)\u001b[0m   (user, vote, proposal)={ edge_index=[2, 64] },\n",
      "\u001b[2m\u001b[36m(TrainLightGCN pid=25159)\u001b[0m   (proposal, rev_vote, user)={ edge_index=[2, 64] }\n",
      "\u001b[2m\u001b[36m(TrainLightGCN pid=25159)\u001b[0m )\n"
     ]
    },
    {
     "name": "stderr",
     "output_type": "stream",
     "text": [
      "2023-10-10 16:32:54,553\tERROR tune_controller.py:1502 -- Trial task failed for trial TrainLightGCN_31160e51\n",
      "Traceback (most recent call last):\n",
      "  File \"/home/davo/Documents/MUIA/upm-tfm-notebooks/.direnv/python-3.11/lib/python3.11/site-packages/ray/air/execution/_internal/event_manager.py\", line 110, in resolve_future\n",
      "    result = ray.get(future)\n",
      "             ^^^^^^^^^^^^^^^\n",
      "  File \"/home/davo/Documents/MUIA/upm-tfm-notebooks/.direnv/python-3.11/lib/python3.11/site-packages/ray/_private/auto_init_hook.py\", line 24, in auto_init_wrapper\n",
      "    return fn(*args, **kwargs)\n",
      "           ^^^^^^^^^^^^^^^^^^^\n",
      "  File \"/home/davo/Documents/MUIA/upm-tfm-notebooks/.direnv/python-3.11/lib/python3.11/site-packages/ray/_private/client_mode_hook.py\", line 103, in wrapper\n",
      "    return func(*args, **kwargs)\n",
      "           ^^^^^^^^^^^^^^^^^^^^^\n",
      "  File \"/home/davo/Documents/MUIA/upm-tfm-notebooks/.direnv/python-3.11/lib/python3.11/site-packages/ray/_private/worker.py\", line 2549, in get\n",
      "    raise value\n",
      "ray.exceptions.RayActorError: The actor died because of an error raised in its creation task, \u001b[36mray::_Inner.__init__()\u001b[39m (pid=25240, ip=10.8.33.181, actor_id=bbd0d722a6b8da69e85a079301000000, repr=<ray.tune.trainable.util.TrainLightGCN object at 0x7fecd47f1490>)\n",
      "           ^^^^^^^^^^^^^^^^^^^^^^^^^^^^^^^^^^^^\n",
      "           ^^^^^^^^^^^^^^^^^^^^^^^^^^^^^^^\n",
      "  File \"/home/davo/Documents/MUIA/upm-tfm-notebooks/.direnv/python-3.11/lib/python3.11/site-packages/ray/tune/trainable/trainable.py\", line 185, in __init__\n",
      "    self.setup(copy.deepcopy(self.config))\n",
      "           ^^^^^^^^^^^^^^^^^^^^^^^^^^^^^^^\n",
      "  File \"/home/davo/Documents/MUIA/upm-tfm-notebooks/.direnv/python-3.11/lib/python3.11/site-packages/ray/tune/trainable/util.py\", line 305, in setup\n",
      "    super(_Inner, self).setup(config, **setup_kwargs)\n",
      "  File \"/tmp/ipykernel_24722/4138176443.py\", line 23, in setup\n",
      "IndexError: list index out of range\n",
      "\u001b[2m\u001b[36m(TrainLightGCN pid=25240)\u001b[0m Exception raised in creation task: The actor died because of an error raised in its creation task, \u001b[36mray::_Inner.__init__()\u001b[39m (pid=25240, ip=10.8.33.181, actor_id=bbd0d722a6b8da69e85a079301000000, repr=<ray.tune.trainable.util.TrainLightGCN object at 0x7fecd47f1490>)\n",
      "\u001b[2m\u001b[36m(TrainLightGCN pid=25240)\u001b[0m            ^^^^^^^^^^^^^^^^^^^^^^^^^^^^^^^^^^^^\n",
      "\u001b[2m\u001b[36m(TrainLightGCN pid=25240)\u001b[0m            ^^^^^^^^^^^^^^^^^^^^^^^^^^^^^^^\n",
      "\u001b[2m\u001b[36m(TrainLightGCN pid=25240)\u001b[0m   File \"/home/davo/Documents/MUIA/upm-tfm-notebooks/.direnv/python-3.11/lib/python3.11/site-packages/ray/tune/trainable/trainable.py\", line 185, in __init__\n",
      "\u001b[2m\u001b[36m(TrainLightGCN pid=25240)\u001b[0m     self.setup(copy.deepcopy(self.config))\n",
      "\u001b[2m\u001b[36m(TrainLightGCN pid=25240)\u001b[0m            ^^^^^^^^^^^^^^^^^^^^^^^^^^^^^^^\n",
      "\u001b[2m\u001b[36m(TrainLightGCN pid=25240)\u001b[0m   File \"/home/davo/Documents/MUIA/upm-tfm-notebooks/.direnv/python-3.11/lib/python3.11/site-packages/ray/tune/trainable/util.py\", line 305, in setup\n",
      "\u001b[2m\u001b[36m(TrainLightGCN pid=25240)\u001b[0m     super(_Inner, self).setup(config, **setup_kwargs)\n",
      "\u001b[2m\u001b[36m(TrainLightGCN pid=25240)\u001b[0m   File \"/tmp/ipykernel_24722/4138176443.py\", line 23, in setup\n",
      "\u001b[2m\u001b[36m(TrainLightGCN pid=25240)\u001b[0m IndexError: list index out of range\n",
      "2023-10-10 16:32:58,283\tERROR tune_controller.py:1502 -- Trial task failed for trial TrainLightGCN_b3225bfb\n",
      "Traceback (most recent call last):\n",
      "  File \"/home/davo/Documents/MUIA/upm-tfm-notebooks/.direnv/python-3.11/lib/python3.11/site-packages/ray/air/execution/_internal/event_manager.py\", line 110, in resolve_future\n",
      "    result = ray.get(future)\n",
      "             ^^^^^^^^^^^^^^^\n",
      "  File \"/home/davo/Documents/MUIA/upm-tfm-notebooks/.direnv/python-3.11/lib/python3.11/site-packages/ray/_private/auto_init_hook.py\", line 24, in auto_init_wrapper\n",
      "    return fn(*args, **kwargs)\n",
      "           ^^^^^^^^^^^^^^^^^^^\n",
      "  File \"/home/davo/Documents/MUIA/upm-tfm-notebooks/.direnv/python-3.11/lib/python3.11/site-packages/ray/_private/client_mode_hook.py\", line 103, in wrapper\n",
      "    return func(*args, **kwargs)\n",
      "           ^^^^^^^^^^^^^^^^^^^^^\n",
      "  File \"/home/davo/Documents/MUIA/upm-tfm-notebooks/.direnv/python-3.11/lib/python3.11/site-packages/ray/_private/worker.py\", line 2549, in get\n",
      "    raise value\n",
      "ray.exceptions.RayActorError: The actor died because of an error raised in its creation task, \u001b[36mray::_Inner.__init__()\u001b[39m (pid=25292, ip=10.8.33.181, actor_id=c0beeb4e282990c75a06b41301000000, repr=<ray.tune.trainable.util.TrainLightGCN object at 0x7f8db83e3850>)\n",
      "           ^^^^^^^^^^^^^^^^^^^^^^^^^^^^^^^^^^^^\n",
      "           ^^^^^^^^^^^^^^^^^^^^^^^^^^^^^^^\n",
      "  File \"/home/davo/Documents/MUIA/upm-tfm-notebooks/.direnv/python-3.11/lib/python3.11/site-packages/ray/tune/trainable/trainable.py\", line 185, in __init__\n",
      "    self.setup(copy.deepcopy(self.config))\n",
      "           ^^^^^^^^^^^^^^^^^^^^^^^^^^^^^^^\n",
      "  File \"/home/davo/Documents/MUIA/upm-tfm-notebooks/.direnv/python-3.11/lib/python3.11/site-packages/ray/tune/trainable/util.py\", line 305, in setup\n",
      "    super(_Inner, self).setup(config, **setup_kwargs)\n",
      "  File \"/tmp/ipykernel_24722/4138176443.py\", line 23, in setup\n",
      "IndexError: list index out of range\n",
      "2023-10-10 16:33:01,441\tERROR tune_controller.py:1502 -- Trial task failed for trial TrainLightGCN_daf5738b\n",
      "Traceback (most recent call last):\n",
      "  File \"/home/davo/Documents/MUIA/upm-tfm-notebooks/.direnv/python-3.11/lib/python3.11/site-packages/ray/air/execution/_internal/event_manager.py\", line 110, in resolve_future\n",
      "    result = ray.get(future)\n",
      "             ^^^^^^^^^^^^^^^\n",
      "  File \"/home/davo/Documents/MUIA/upm-tfm-notebooks/.direnv/python-3.11/lib/python3.11/site-packages/ray/_private/auto_init_hook.py\", line 24, in auto_init_wrapper\n",
      "    return fn(*args, **kwargs)\n",
      "           ^^^^^^^^^^^^^^^^^^^\n",
      "  File \"/home/davo/Documents/MUIA/upm-tfm-notebooks/.direnv/python-3.11/lib/python3.11/site-packages/ray/_private/client_mode_hook.py\", line 103, in wrapper\n",
      "    return func(*args, **kwargs)\n",
      "           ^^^^^^^^^^^^^^^^^^^^^\n",
      "  File \"/home/davo/Documents/MUIA/upm-tfm-notebooks/.direnv/python-3.11/lib/python3.11/site-packages/ray/_private/worker.py\", line 2549, in get\n",
      "    raise value\n",
      "ray.exceptions.RayActorError: The actor died because of an error raised in its creation task, \u001b[36mray::_Inner.__init__()\u001b[39m (pid=25497, ip=10.8.33.181, actor_id=92dd5d9259b76d525a94209e01000000, repr=<ray.tune.trainable.util.TrainLightGCN object at 0x7fbba5cee390>)\n",
      "           ^^^^^^^^^^^^^^^^^^^^^^^^^^^^^^^^^^^^\n",
      "           ^^^^^^^^^^^^^^^^^^^^^^^^^^^^^^^\n",
      "  File \"/home/davo/Documents/MUIA/upm-tfm-notebooks/.direnv/python-3.11/lib/python3.11/site-packages/ray/tune/trainable/trainable.py\", line 185, in __init__\n",
      "    self.setup(copy.deepcopy(self.config))\n",
      "           ^^^^^^^^^^^^^^^^^^^^^^^^^^^^^^^\n",
      "  File \"/home/davo/Documents/MUIA/upm-tfm-notebooks/.direnv/python-3.11/lib/python3.11/site-packages/ray/tune/trainable/util.py\", line 305, in setup\n",
      "    super(_Inner, self).setup(config, **setup_kwargs)\n",
      "  File \"/tmp/ipykernel_24722/4138176443.py\", line 23, in setup\n",
      "IndexError: list index out of range\n",
      "\u001b[2m\u001b[36m(TrainLightGCN pid=25497)\u001b[0m Exception raised in creation task: The actor died because of an error raised in its creation task, \u001b[36mray::_Inner.__init__()\u001b[39m (pid=25497, ip=10.8.33.181, actor_id=92dd5d9259b76d525a94209e01000000, repr=<ray.tune.trainable.util.TrainLightGCN object at 0x7fbba5cee390>)\u001b[32m [repeated 2x across cluster] (Ray deduplicates logs by default. Set RAY_DEDUP_LOGS=0 to disable log deduplication, or see https://docs.ray.io/en/master/ray-observability/ray-logging.html#log-deduplication for more options.)\u001b[0m\n",
      "\u001b[2m\u001b[36m(TrainLightGCN pid=25497)\u001b[0m            ^^^^^^^^^^^^^^^^^^^^^^^^^^^^^^^^^^^^\u001b[32m [repeated 2x across cluster]\u001b[0m\n",
      "\u001b[2m\u001b[36m(TrainLightGCN pid=25497)\u001b[0m            ^^^^^^^^^^^^^^^^^^^^^^^^^^^^^^^\u001b[32m [repeated 4x across cluster]\u001b[0m\n",
      "\u001b[2m\u001b[36m(TrainLightGCN pid=25497)\u001b[0m   File \"/home/davo/Documents/MUIA/upm-tfm-notebooks/.direnv/python-3.11/lib/python3.11/site-packages/ray/tune/trainable/trainable.py\", line 185, in __init__\u001b[32m [repeated 2x across cluster]\u001b[0m\n",
      "\u001b[2m\u001b[36m(TrainLightGCN pid=25497)\u001b[0m     self.setup(copy.deepcopy(self.config))\u001b[32m [repeated 2x across cluster]\u001b[0m\n",
      "\u001b[2m\u001b[36m(TrainLightGCN pid=25497)\u001b[0m   File \"/tmp/ipykernel_24722/4138176443.py\", line 23, in setup\u001b[32m [repeated 4x across cluster]\u001b[0m\n",
      "\u001b[2m\u001b[36m(TrainLightGCN pid=25497)\u001b[0m     super(_Inner, self).setup(config, **setup_kwargs)\u001b[32m [repeated 2x across cluster]\u001b[0m\n",
      "\u001b[2m\u001b[36m(TrainLightGCN pid=25497)\u001b[0m IndexError: list index out of range\u001b[32m [repeated 2x across cluster]\u001b[0m\n",
      "2023-10-10 16:33:04,383\tERROR tune_controller.py:1502 -- Trial task failed for trial TrainLightGCN_ab536924\n",
      "Traceback (most recent call last):\n",
      "  File \"/home/davo/Documents/MUIA/upm-tfm-notebooks/.direnv/python-3.11/lib/python3.11/site-packages/ray/air/execution/_internal/event_manager.py\", line 110, in resolve_future\n",
      "    result = ray.get(future)\n",
      "             ^^^^^^^^^^^^^^^\n",
      "  File \"/home/davo/Documents/MUIA/upm-tfm-notebooks/.direnv/python-3.11/lib/python3.11/site-packages/ray/_private/auto_init_hook.py\", line 24, in auto_init_wrapper\n",
      "    return fn(*args, **kwargs)\n",
      "           ^^^^^^^^^^^^^^^^^^^\n",
      "  File \"/home/davo/Documents/MUIA/upm-tfm-notebooks/.direnv/python-3.11/lib/python3.11/site-packages/ray/_private/client_mode_hook.py\", line 103, in wrapper\n",
      "    return func(*args, **kwargs)\n",
      "           ^^^^^^^^^^^^^^^^^^^^^\n",
      "  File \"/home/davo/Documents/MUIA/upm-tfm-notebooks/.direnv/python-3.11/lib/python3.11/site-packages/ray/_private/worker.py\", line 2549, in get\n",
      "    raise value\n",
      "ray.exceptions.RayActorError: The actor died because of an error raised in its creation task, \u001b[36mray::_Inner.__init__()\u001b[39m (pid=25531, ip=10.8.33.181, actor_id=f4b72addb68d9f7e0e4ab43f01000000, repr=<ray.tune.trainable.util.TrainLightGCN object at 0x7f22e5486390>)\n",
      "           ^^^^^^^^^^^^^^^^^^^^^^^^^^^^^^^^^^^^\n",
      "           ^^^^^^^^^^^^^^^^^^^^^^^^^^^^^^^\n",
      "  File \"/home/davo/Documents/MUIA/upm-tfm-notebooks/.direnv/python-3.11/lib/python3.11/site-packages/ray/tune/trainable/trainable.py\", line 185, in __init__\n",
      "    self.setup(copy.deepcopy(self.config))\n",
      "           ^^^^^^^^^^^^^^^^^^^^^^^^^^^^^^^\n",
      "  File \"/home/davo/Documents/MUIA/upm-tfm-notebooks/.direnv/python-3.11/lib/python3.11/site-packages/ray/tune/trainable/util.py\", line 305, in setup\n",
      "    super(_Inner, self).setup(config, **setup_kwargs)\n",
      "  File \"/tmp/ipykernel_24722/4138176443.py\", line 23, in setup\n",
      "IndexError: list index out of range\n",
      "/home/davo/Documents/MUIA/upm-tfm-notebooks/.direnv/python-3.11/lib/python3.11/site-packages/ray/tune/search/repeater.py:176: RuntimeWarning: Mean of empty slice\n",
      "  result={self.searcher.metric: np.nanmean(scores)},\n",
      "2023-10-10 16:33:04,389\tERROR tune.py:1139 -- Trials did not complete: [TrainLightGCN_56bd2099, TrainLightGCN_31160e51, TrainLightGCN_b3225bfb, TrainLightGCN_daf5738b, TrainLightGCN_ab536924]\n",
      "2023-10-10 16:33:04,389\tINFO tune.py:1143 -- Total run time: 18.89 seconds (18.82 seconds for the tuning loop).\n",
      "2023-10-10 16:33:04,393\tWARNING experiment_analysis.py:205 -- Failed to fetch metrics for 4 trial(s):\n",
      "- TrainLightGCN_31160e51: FileNotFoundError('Could not fetch metrics for TrainLightGCN_31160e51: both result.json and progress.csv were not found at /home/davo/ray_results/TrainLightGCN_2023-10-10_16-32-42/TrainLightGCN_31160e51_2_trial_index=1,batch_size=64,conv_layers=5,embedding_dim=32,l2=0.0001,learning_rate=0.0010_2023-10-10_16-32-50')\n",
      "- TrainLightGCN_b3225bfb: FileNotFoundError('Could not fetch metrics for TrainLightGCN_b3225bfb: both result.json and progress.csv were not found at /home/davo/ray_results/TrainLightGCN_2023-10-10_16-32-42/TrainLightGCN_b3225bfb_3_trial_index=2,batch_size=64,conv_layers=5,embedding_dim=32,l2=0.0001,learning_rate=0.0010_2023-10-10_16-32-54')\n",
      "- TrainLightGCN_daf5738b: FileNotFoundError('Could not fetch metrics for TrainLightGCN_daf5738b: both result.json and progress.csv were not found at /home/davo/ray_results/TrainLightGCN_2023-10-10_16-32-42/TrainLightGCN_daf5738b_4_trial_index=3,batch_size=64,conv_layers=5,embedding_dim=32,l2=0.0001,learning_rate=0.0010_2023-10-10_16-32-58')\n",
      "- TrainLightGCN_ab536924: FileNotFoundError('Could not fetch metrics for TrainLightGCN_ab536924: both result.json and progress.csv were not found at /home/davo/ray_results/TrainLightGCN_2023-10-10_16-32-42/TrainLightGCN_ab536924_5_trial_index=4,batch_size=64,conv_layers=5,embedding_dim=32,l2=0.0001,learning_rate=0.0010_2023-10-10_16-33-01')\n"
     ]
    },
    {
     "data": {
      "text/plain": [
       "ResultGrid<[\n",
       "  Result(\n",
       "    error='RayTaskError(NameError)',\n",
       "    metrics={},\n",
       "    path='/home/davo/ray_results/TrainLightGCN_2023-10-10_16-32-42/TrainLightGCN_56bd2099_1_trial_index=0,batch_size=64,conv_layers=5,embedding_dim=32,l2=0.0001,learning_rate=0.0010_2023-10-10_16-32-45',\n",
       "    filesystem='local',\n",
       "    checkpoint=None\n",
       "  ),\n",
       "  Result(\n",
       "    error='TuneError',\n",
       "    metrics={},\n",
       "    path='/home/davo/ray_results/TrainLightGCN_2023-10-10_16-32-42/TrainLightGCN_31160e51_2_trial_index=1,batch_size=64,conv_layers=5,embedding_dim=32,l2=0.0001,learning_rate=0.0010_2023-10-10_16-32-50',\n",
       "    filesystem='local',\n",
       "    checkpoint=None\n",
       "  ),\n",
       "  Result(\n",
       "    error='TuneError',\n",
       "    metrics={},\n",
       "    path='/home/davo/ray_results/TrainLightGCN_2023-10-10_16-32-42/TrainLightGCN_b3225bfb_3_trial_index=2,batch_size=64,conv_layers=5,embedding_dim=32,l2=0.0001,learning_rate=0.0010_2023-10-10_16-32-54',\n",
       "    filesystem='local',\n",
       "    checkpoint=None\n",
       "  ),\n",
       "  Result(\n",
       "    error='TuneError',\n",
       "    metrics={},\n",
       "    path='/home/davo/ray_results/TrainLightGCN_2023-10-10_16-32-42/TrainLightGCN_daf5738b_4_trial_index=3,batch_size=64,conv_layers=5,embedding_dim=32,l2=0.0001,learning_rate=0.0010_2023-10-10_16-32-58',\n",
       "    filesystem='local',\n",
       "    checkpoint=None\n",
       "  ),\n",
       "  Result(\n",
       "    error='TuneError',\n",
       "    metrics={},\n",
       "    path='/home/davo/ray_results/TrainLightGCN_2023-10-10_16-32-42/TrainLightGCN_ab536924_5_trial_index=4,batch_size=64,conv_layers=5,embedding_dim=32,l2=0.0001,learning_rate=0.0010_2023-10-10_16-33-01',\n",
       "    filesystem='local',\n",
       "    checkpoint=None\n",
       "  )\n",
       "]>"
      ]
     },
     "execution_count": 9,
     "metadata": {},
     "output_type": "execute_result"
    }
   ],
   "source": [
    "from ray.tune.search.hyperopt import HyperOptSearch\n",
    "\n",
    "search_alg = HyperOptSearch()\n",
    "search_alg = tune.search.Repeater(search_alg, NUM_FOLDS)\n",
    "\n",
    "tuner = tune.Tuner(\n",
    "    tune.with_parameters(TrainLightGCN, folds=folds, original=original),\n",
    "    run_config=train.RunConfig(\n",
    "        stop={'training_iteration': MAX_ITERS}\n",
    "    ),\n",
    "    param_space=dict(\n",
    "        batch_size=64,\n",
    "        learning_rate=0.001,\n",
    "        embedding_dim=32,\n",
    "        conv_layers=tune.randint(2,6),\n",
    "        l2=1e-4,\n",
    "    ),\n",
    "    tune_config=tune.TuneConfig(\n",
    "        search_alg=search_alg,\n",
    "        num_samples=NUM_FOLDS*NUM_SAMPLES,\n",
    "        metric='loss',\n",
    "        mode='min',\n",
    "    )\n",
    ")\n",
    "tuner.fit()"
   ]
  },
  {
   "cell_type": "code",
   "execution_count": null,
   "id": "d39d82d0-2125-4f39-ab7b-cfd101542ffe",
   "metadata": {},
   "outputs": [],
   "source": []
  }
 ],
 "metadata": {
  "kernelspec": {
   "display_name": "Python 3 (ipykernel)",
   "language": "python",
   "name": "python3"
  },
  "language_info": {
   "codemirror_mode": {
    "name": "ipython",
    "version": 3
   },
   "file_extension": ".py",
   "mimetype": "text/x-python",
   "name": "python",
   "nbconvert_exporter": "python",
   "pygments_lexer": "ipython3",
   "version": "3.11.5"
  },
  "widgets": {
   "application/vnd.jupyter.widget-state+json": {
    "state": {},
    "version_major": 2,
    "version_minor": 0
   }
  }
 },
 "nbformat": 4,
 "nbformat_minor": 5
}
