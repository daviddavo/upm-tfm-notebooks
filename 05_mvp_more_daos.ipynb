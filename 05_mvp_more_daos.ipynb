{
 "cells": [
  {
   "cell_type": "code",
   "execution_count": 1,
   "id": "9984eade-d733-4399-ba60-c83aa3f17588",
   "metadata": {
    "execution": {
     "iopub.execute_input": "2023-09-26T13:15:39.683939Z",
     "iopub.status.busy": "2023-09-26T13:15:39.683844Z",
     "iopub.status.idle": "2023-09-26T13:15:41.402028Z",
     "shell.execute_reply": "2023-09-26T13:15:41.401670Z",
     "shell.execute_reply.started": "2023-09-26T13:15:39.683928Z"
    }
   },
   "outputs": [],
   "source": [
    "import pandas as pd\n",
    "import numpy as np\n",
    "\n",
    "from src import datasets\n",
    "from src import graph_utils as gu\n",
    "\n",
    "from ray import train, tune\n",
    "import ray.train.torch # Seems unused, but is used via train.torch\n",
    "\n",
    "import torch\n",
    "import torch_geometric as PyG\n",
    "\n",
    "from typing import List, Dict, Tuple"
   ]
  },
  {
   "cell_type": "code",
   "execution_count": 2,
   "id": "78b33b0d-9560-4ed3-8792-9b447c4285c4",
   "metadata": {
    "execution": {
     "iopub.execute_input": "2023-09-26T13:15:41.403002Z",
     "iopub.status.busy": "2023-09-26T13:15:41.402872Z",
     "iopub.status.idle": "2023-09-26T13:15:41.405090Z",
     "shell.execute_reply": "2023-09-26T13:15:41.404749Z",
     "shell.execute_reply.started": "2023-09-26T13:15:41.402992Z"
    }
   },
   "outputs": [],
   "source": [
    "NUM_FOLDS: int = 5\n",
    "NUM_SAMPLES: int = 1"
   ]
  },
  {
   "cell_type": "markdown",
   "id": "d849b129-08e5-4f78-a71a-9d084d602a03",
   "metadata": {},
   "source": [
    "## Reading and splitting data"
   ]
  },
  {
   "cell_type": "code",
   "execution_count": 3,
   "id": "d20ee511-bc1c-4914-9590-9c595b3af9f9",
   "metadata": {
    "execution": {
     "iopub.execute_input": "2023-09-26T13:15:41.405628Z",
     "iopub.status.busy": "2023-09-26T13:15:41.405521Z",
     "iopub.status.idle": "2023-09-26T13:15:41.413703Z",
     "shell.execute_reply": "2023-09-26T13:15:41.413038Z",
     "shell.execute_reply.started": "2023-09-26T13:15:41.405618Z"
    }
   },
   "outputs": [],
   "source": [
    "from torch_geometric.data import InMemoryDataset, HeteroData, Data"
   ]
  },
  {
   "cell_type": "code",
   "execution_count": 4,
   "id": "c7ddb500-813e-44f7-a91d-81a7b9c7156a",
   "metadata": {
    "execution": {
     "iopub.execute_input": "2023-09-26T13:15:41.416417Z",
     "iopub.status.busy": "2023-09-26T13:15:41.416087Z",
     "iopub.status.idle": "2023-09-26T13:15:41.428074Z",
     "shell.execute_reply": "2023-09-26T13:15:41.427507Z",
     "shell.execute_reply.started": "2023-09-26T13:15:41.416396Z"
    }
   },
   "outputs": [
    {
     "data": {
      "text/plain": [
       "HeteroData(\n",
       "  user={\n",
       "    num_nodes=2902,\n",
       "    voters=[2900],\n",
       "    authors=[2],\n",
       "  },\n",
       "  proposal={ num_nodes=1962 },\n",
       "  (user, vote, proposal)={ edge_index=[2, 107735] },\n",
       "  (proposal, vote, user)={ edge_index=[2, 107735] },\n",
       "  (user, creates, proposal)={ edge_index=[2, 1962] },\n",
       "  (proposal, creates, user)={ edge_index=[2, 1962] }\n",
       ")"
      ]
     },
     "execution_count": 4,
     "metadata": {},
     "output_type": "execute_result"
    }
   ],
   "source": [
    "original = datasets.DAOCensus(\"./data/daos-census\", 'Decentraland', 'snapshot', min_vpu=6)[0]\n",
    "original"
   ]
  },
  {
   "cell_type": "code",
   "execution_count": 5,
   "id": "ca8fba9f-94f8-4580-9a88-9ebbe8224377",
   "metadata": {
    "execution": {
     "iopub.execute_input": "2023-09-26T13:15:41.429040Z",
     "iopub.status.busy": "2023-09-26T13:15:41.428713Z",
     "iopub.status.idle": "2023-09-26T13:15:41.736565Z",
     "shell.execute_reply": "2023-09-26T13:15:41.735583Z",
     "shell.execute_reply.started": "2023-09-26T13:15:41.429022Z"
    }
   },
   "outputs": [],
   "source": [
    "folds = gu.k_fold(original, NUM_FOLDS)"
   ]
  },
  {
   "cell_type": "markdown",
   "id": "b52808ab-fa4f-4aa8-a00a-0a5f4e0aebbb",
   "metadata": {},
   "source": [
    "## Defining training"
   ]
  },
  {
   "cell_type": "code",
   "execution_count": 6,
   "id": "b218121a-984e-4d04-816d-17a35f67fd80",
   "metadata": {
    "execution": {
     "iopub.execute_input": "2023-09-26T13:15:41.737444Z",
     "iopub.status.busy": "2023-09-26T13:15:41.737281Z",
     "iopub.status.idle": "2023-09-26T13:15:41.740608Z",
     "shell.execute_reply": "2023-09-26T13:15:41.740173Z",
     "shell.execute_reply.started": "2023-09-26T13:15:41.737430Z"
    }
   },
   "outputs": [
    {
     "data": {
      "text/plain": [
       "device(type='cpu')"
      ]
     },
     "execution_count": 6,
     "metadata": {},
     "output_type": "execute_result"
    }
   ],
   "source": [
    "# import ray.train.torch\n",
    "train.torch.get_device()"
   ]
  },
  {
   "cell_type": "code",
   "execution_count": 7,
   "id": "bea9c5d3-81d6-4278-b306-3e52d3a20460",
   "metadata": {
    "execution": {
     "iopub.execute_input": "2023-09-26T13:15:41.741807Z",
     "iopub.status.busy": "2023-09-26T13:15:41.741667Z",
     "iopub.status.idle": "2023-09-26T13:15:41.769079Z",
     "shell.execute_reply": "2023-09-26T13:15:41.768717Z",
     "shell.execute_reply.started": "2023-09-26T13:15:41.741795Z"
    }
   },
   "outputs": [],
   "source": [
    "from torch_geometric.nn import LightGCN\n",
    "\n",
    "class TrainLightGCN(tune.Trainable):\n",
    "    def setup(self, config: Dict, folds: List[Tuple[HeteroData, HeteroData]], original: HeteroData):\n",
    "        self.config = config\n",
    "        self.fold = config['__trial_index__']\n",
    "        print(config)\n",
    "        \n",
    "        self.model = LightGCN(\n",
    "            num_nodes=original.num_nodes,\n",
    "            embedding_dim=config['embedding_dim'],\n",
    "            num_layers=config['conv_layers'],\n",
    "        ).to(train.torch.get_device())\n",
    "        self.optimizer = torch.optim.Adam(self.model.parameters(), lr=config['learning_rate'])\n",
    "        \n",
    "        self.data_train, self.data_validation = folds[self.fold]\n",
    "        self.data_original = original\n",
    "\n",
    "    def step(self):\n",
    "        \"\"\"\n",
    "        As a rule of thumb, the execution time of step should be large enough to avoid overheads \n",
    "        (i.e. more than a few seconds), but short enough to report progress periodically \n",
    "        (i.e. at most a few minutes).\n",
    "        \"\"\"\n",
    "        raise NotImplementedError\n",
    "        \n",
    "        acc_loss = n_samples = 0\n",
    "\n",
    "        for index in tqdm(train_loader, leave=False, delay=1, disable=disable_tqdm):\n",
    "            pos_edge_index = train_edge_label_index[:, index]\n",
    "            # TODO: Change to negative structured sampling like in original LightGCN implementation\n",
    "            neg_edge_index = torch.stack([\n",
    "                pos_edge_index[0],\n",
    "                torch.randint(train['proposal'].shift, train['proposal'].end,\n",
    "                          (pos_edge_index.size(1), ), device=device)\n",
    "            ], dim=0)\n",
    "            \n",
    "            edge_label_index = torch.cat([\n",
    "                pos_edge_index,\n",
    "                neg_edge_index,\n",
    "            ], dim=1)\n",
    "\n",
    "            optimizer.zero_grad()\n",
    "            pos_rank, neg_rank = model(message_passing_edge_index, edge_label_index).chunk(2)\n",
    "\n",
    "            # Learning\n",
    "            loss = model.recommendation_loss(\n",
    "                pos_rank,\n",
    "                neg_rank,\n",
    "                node_id=edge_label_index.unique(),\n",
    "                lambda_reg=self.config['l2'],\n",
    "            )\n",
    "            loss.backward()\n",
    "            optimizer.step()\n",
    "\n",
    "            acc_loss += float(loss) * pos_rank.numel()\n",
    "            n_samples += pos_rank.numel()\n",
    "\n",
    "        return {\n",
    "            'loss': acc_loss/n_samples,\n",
    "        }"
   ]
  },
  {
   "cell_type": "markdown",
   "id": "17271dd5-577b-411d-8377-8b78e4e31d69",
   "metadata": {},
   "source": [
    "## Tune hyperparameters"
   ]
  },
  {
   "cell_type": "code",
   "execution_count": 11,
   "id": "3ecdf33b-0a8d-4b60-910f-865cba2f474e",
   "metadata": {
    "execution": {
     "iopub.execute_input": "2023-09-26T13:19:21.115268Z",
     "iopub.status.busy": "2023-09-26T13:19:21.114999Z",
     "iopub.status.idle": "2023-09-26T13:19:31.246610Z",
     "shell.execute_reply": "2023-09-26T13:19:31.246297Z",
     "shell.execute_reply.started": "2023-09-26T13:19:21.115245Z"
    }
   },
   "outputs": [
    {
     "data": {
      "text/html": [
       "<div class=\"tuneStatus\">\n",
       "  <div style=\"display: flex;flex-direction: row\">\n",
       "    <div style=\"display: flex;flex-direction: column;\">\n",
       "      <h3>Tune Status</h3>\n",
       "      <table>\n",
       "<tbody>\n",
       "<tr><td>Current time:</td><td>2023-09-26 15:19:31</td></tr>\n",
       "<tr><td>Running for: </td><td>00:00:10.07        </td></tr>\n",
       "<tr><td>Memory:      </td><td>10.7/15.3 GiB      </td></tr>\n",
       "</tbody>\n",
       "</table>\n",
       "    </div>\n",
       "    <div class=\"vDivider\"></div>\n",
       "    <div class=\"systemInfo\">\n",
       "      <h3>System Info</h3>\n",
       "      Using FIFO scheduling algorithm.<br>Logical resource usage: 0/8 CPUs, 0/0 GPUs\n",
       "    </div>\n",
       "    <div class=\"vDivider\"></div>\n",
       "<div class=\"messages\">\n",
       "  <h3>Messages</h3>\n",
       "  \n",
       "  \n",
       "  Number of errored trials: 5<br><table>\n",
       "<thead>\n",
       "<tr><th>Trial name            </th><th style=\"text-align: right;\">  # failures</th><th>error file                                                                                                                                                                                               </th></tr>\n",
       "</thead>\n",
       "<tbody>\n",
       "<tr><td>TrainLightGCN_5008c07d</td><td style=\"text-align: right;\">           1</td><td>/home/davo/ray_results/TrainLightGCN_2023-09-26_15-19-21/TrainLightGCN_5008c07d_1_trial_index=0,batch_size=64,conv_layers=4,embedding_dim=32,l2=0.0001,learning_rate=0.0010_2023-09-26_15-19-21/error.txt</td></tr>\n",
       "<tr><td>TrainLightGCN_b9e3e1a2</td><td style=\"text-align: right;\">           1</td><td>/home/davo/ray_results/TrainLightGCN_2023-09-26_15-19-21/TrainLightGCN_b9e3e1a2_2_trial_index=1,batch_size=64,conv_layers=4,embedding_dim=32,l2=0.0001,learning_rate=0.0010_2023-09-26_15-19-23/error.txt</td></tr>\n",
       "<tr><td>TrainLightGCN_460fe231</td><td style=\"text-align: right;\">           1</td><td>/home/davo/ray_results/TrainLightGCN_2023-09-26_15-19-21/TrainLightGCN_460fe231_3_trial_index=2,batch_size=64,conv_layers=4,embedding_dim=32,l2=0.0001,learning_rate=0.0010_2023-09-26_15-19-25/error.txt</td></tr>\n",
       "<tr><td>TrainLightGCN_35f78854</td><td style=\"text-align: right;\">           1</td><td>/home/davo/ray_results/TrainLightGCN_2023-09-26_15-19-21/TrainLightGCN_35f78854_4_trial_index=3,batch_size=64,conv_layers=4,embedding_dim=32,l2=0.0001,learning_rate=0.0010_2023-09-26_15-19-27/error.txt</td></tr>\n",
       "<tr><td>TrainLightGCN_264bb339</td><td style=\"text-align: right;\">           1</td><td>/home/davo/ray_results/TrainLightGCN_2023-09-26_15-19-21/TrainLightGCN_264bb339_5_trial_index=4,batch_size=64,conv_layers=4,embedding_dim=32,l2=0.0001,learning_rate=0.0010_2023-09-26_15-19-29/error.txt</td></tr>\n",
       "</tbody>\n",
       "</table>\n",
       "</div>\n",
       "<style>\n",
       ".messages {\n",
       "  color: var(--jp-ui-font-color1);\n",
       "  display: flex;\n",
       "  flex-direction: column;\n",
       "  padding-left: 1em;\n",
       "  overflow-y: auto;\n",
       "}\n",
       ".messages h3 {\n",
       "  font-weight: bold;\n",
       "}\n",
       ".vDivider {\n",
       "  border-left-width: var(--jp-border-width);\n",
       "  border-left-color: var(--jp-border-color0);\n",
       "  border-left-style: solid;\n",
       "  margin: 0.5em 1em 0.5em 1em;\n",
       "}\n",
       "</style>\n",
       "\n",
       "  </div>\n",
       "  <div class=\"hDivider\"></div>\n",
       "  <div class=\"trialStatus\">\n",
       "    <h3>Trial Status</h3>\n",
       "    <table>\n",
       "<thead>\n",
       "<tr><th>Trial name            </th><th>status  </th><th>loc  </th><th style=\"text-align: right;\">  __trial_index__</th><th style=\"text-align: right;\">  batch_size</th><th style=\"text-align: right;\">  conv_layers</th><th style=\"text-align: right;\">  embedding_dim</th><th style=\"text-align: right;\">    l2</th><th style=\"text-align: right;\">  learning_rate</th></tr>\n",
       "</thead>\n",
       "<tbody>\n",
       "<tr><td>TrainLightGCN_5008c07d</td><td>ERROR   </td><td>     </td><td style=\"text-align: right;\">                0</td><td style=\"text-align: right;\">          64</td><td style=\"text-align: right;\">            4</td><td style=\"text-align: right;\">             32</td><td style=\"text-align: right;\">0.0001</td><td style=\"text-align: right;\">          0.001</td></tr>\n",
       "<tr><td>TrainLightGCN_b9e3e1a2</td><td>ERROR   </td><td>     </td><td style=\"text-align: right;\">                1</td><td style=\"text-align: right;\">          64</td><td style=\"text-align: right;\">            4</td><td style=\"text-align: right;\">             32</td><td style=\"text-align: right;\">0.0001</td><td style=\"text-align: right;\">          0.001</td></tr>\n",
       "<tr><td>TrainLightGCN_460fe231</td><td>ERROR   </td><td>     </td><td style=\"text-align: right;\">                2</td><td style=\"text-align: right;\">          64</td><td style=\"text-align: right;\">            4</td><td style=\"text-align: right;\">             32</td><td style=\"text-align: right;\">0.0001</td><td style=\"text-align: right;\">          0.001</td></tr>\n",
       "<tr><td>TrainLightGCN_35f78854</td><td>ERROR   </td><td>     </td><td style=\"text-align: right;\">                3</td><td style=\"text-align: right;\">          64</td><td style=\"text-align: right;\">            4</td><td style=\"text-align: right;\">             32</td><td style=\"text-align: right;\">0.0001</td><td style=\"text-align: right;\">          0.001</td></tr>\n",
       "<tr><td>TrainLightGCN_264bb339</td><td>ERROR   </td><td>     </td><td style=\"text-align: right;\">                4</td><td style=\"text-align: right;\">          64</td><td style=\"text-align: right;\">            4</td><td style=\"text-align: right;\">             32</td><td style=\"text-align: right;\">0.0001</td><td style=\"text-align: right;\">          0.001</td></tr>\n",
       "</tbody>\n",
       "</table>\n",
       "  </div>\n",
       "</div>\n",
       "<style>\n",
       ".tuneStatus {\n",
       "  color: var(--jp-ui-font-color1);\n",
       "}\n",
       ".tuneStatus .systemInfo {\n",
       "  display: flex;\n",
       "  flex-direction: column;\n",
       "}\n",
       ".tuneStatus td {\n",
       "  white-space: nowrap;\n",
       "}\n",
       ".tuneStatus .trialStatus {\n",
       "  display: flex;\n",
       "  flex-direction: column;\n",
       "}\n",
       ".tuneStatus h3 {\n",
       "  font-weight: bold;\n",
       "}\n",
       ".tuneStatus .hDivider {\n",
       "  border-bottom-width: var(--jp-border-width);\n",
       "  border-bottom-color: var(--jp-border-color0);\n",
       "  border-bottom-style: solid;\n",
       "}\n",
       ".tuneStatus .vDivider {\n",
       "  border-left-width: var(--jp-border-width);\n",
       "  border-left-color: var(--jp-border-color0);\n",
       "  border-left-style: solid;\n",
       "  margin: 0.5em 1em 0.5em 1em;\n",
       "}\n",
       "</style>\n"
      ],
      "text/plain": [
       "<IPython.core.display.HTML object>"
      ]
     },
     "metadata": {},
     "output_type": "display_data"
    },
    {
     "name": "stderr",
     "output_type": "stream",
     "text": [
      "2023-09-26 15:19:23,279\tERROR tune_controller.py:1502 -- Trial task failed for trial TrainLightGCN_5008c07d\n",
      "Traceback (most recent call last):\n",
      "  File \"/home/davo/Documents/MUIA/upm-tfm-notebooks/.direnv/python-3.11/lib/python3.11/site-packages/ray/air/execution/_internal/event_manager.py\", line 110, in resolve_future\n",
      "    result = ray.get(future)\n",
      "             ^^^^^^^^^^^^^^^\n",
      "  File \"/home/davo/Documents/MUIA/upm-tfm-notebooks/.direnv/python-3.11/lib/python3.11/site-packages/ray/_private/auto_init_hook.py\", line 24, in auto_init_wrapper\n",
      "    return fn(*args, **kwargs)\n",
      "           ^^^^^^^^^^^^^^^^^^^\n",
      "  File \"/home/davo/Documents/MUIA/upm-tfm-notebooks/.direnv/python-3.11/lib/python3.11/site-packages/ray/_private/client_mode_hook.py\", line 103, in wrapper\n",
      "    return func(*args, **kwargs)\n",
      "           ^^^^^^^^^^^^^^^^^^^^^\n",
      "  File \"/home/davo/Documents/MUIA/upm-tfm-notebooks/.direnv/python-3.11/lib/python3.11/site-packages/ray/_private/worker.py\", line 2549, in get\n",
      "    raise value\n",
      "ray.exceptions.RayActorError: The actor died because of an error raised in its creation task, \u001b[36mray::_Inner.__init__()\u001b[39m (pid=33236, ip=147.96.25.138, actor_id=15ba54cf52ef83a217ad3fbf01000000, repr=<ray.tune.trainable.util.TrainLightGCN object at 0x7fe9cf893dd0>)\n",
      "           ^^^^^^^^^^^^^^^^^^^^^^^^^^^^^^^^^^^^\n",
      "           ^^^^^^^^^^^^^^^^^^^^^^^^^^^^^^^\n",
      "  File \"/home/davo/Documents/MUIA/upm-tfm-notebooks/.direnv/python-3.11/lib/python3.11/site-packages/ray/tune/trainable/trainable.py\", line 185, in __init__\n",
      "    self.setup(copy.deepcopy(self.config))\n",
      "           ^^^^^^^^^^^^^^^^^^^^^^^^^^^^^^^\n",
      "  File \"/home/davo/Documents/MUIA/upm-tfm-notebooks/.direnv/python-3.11/lib/python3.11/site-packages/ray/tune/trainable/util.py\", line 305, in setup\n",
      "    super(_Inner, self).setup(config, **setup_kwargs)\n",
      "  File \"/tmp/ipykernel_32446/1045838613.py\", line 15, in setup\n",
      "KeyError: '__trial_index'\n",
      "\u001b[2m\u001b[36m(TrainLightGCN pid=33236)\u001b[0m Exception raised in creation task: The actor died because of an error raised in its creation task, \u001b[36mray::_Inner.__init__()\u001b[39m (pid=33236, ip=147.96.25.138, actor_id=15ba54cf52ef83a217ad3fbf01000000, repr=<ray.tune.trainable.util.TrainLightGCN object at 0x7fe9cf893dd0>)\n",
      "\u001b[2m\u001b[36m(TrainLightGCN pid=33236)\u001b[0m            ^^^^^^^^^^^^^^^^^^^^^^^^^^^^^^^^^^^^\n",
      "\u001b[2m\u001b[36m(TrainLightGCN pid=33236)\u001b[0m            ^^^^^^^^^^^^^^^^^^^^^^^^^^^^^^^\n",
      "\u001b[2m\u001b[36m(TrainLightGCN pid=33236)\u001b[0m   File \"/home/davo/Documents/MUIA/upm-tfm-notebooks/.direnv/python-3.11/lib/python3.11/site-packages/ray/tune/trainable/trainable.py\", line 185, in __init__\n",
      "\u001b[2m\u001b[36m(TrainLightGCN pid=33236)\u001b[0m     self.setup(copy.deepcopy(self.config))\n",
      "\u001b[2m\u001b[36m(TrainLightGCN pid=33236)\u001b[0m            ^^^^^^^^^^^^^^^^^^^^^^^^^^^^^^^\n",
      "\u001b[2m\u001b[36m(TrainLightGCN pid=33236)\u001b[0m   File \"/home/davo/Documents/MUIA/upm-tfm-notebooks/.direnv/python-3.11/lib/python3.11/site-packages/ray/tune/trainable/util.py\", line 305, in setup\n",
      "\u001b[2m\u001b[36m(TrainLightGCN pid=33236)\u001b[0m     super(_Inner, self).setup(config, **setup_kwargs)\n",
      "\u001b[2m\u001b[36m(TrainLightGCN pid=33236)\u001b[0m   File \"/tmp/ipykernel_32446/1045838613.py\", line 15, in setup\n",
      "\u001b[2m\u001b[36m(TrainLightGCN pid=33236)\u001b[0m KeyError: '__trial_index'\n"
     ]
    },
    {
     "name": "stdout",
     "output_type": "stream",
     "text": [
      "\u001b[2m\u001b[36m(TrainLightGCN pid=33236)\u001b[0m {'batch_size': 64, 'learning_rate': 0.001, 'embedding_dim': 32, 'conv_layers': 4, 'l2': 0.0001, '__trial_index__': 0}\n"
     ]
    },
    {
     "name": "stderr",
     "output_type": "stream",
     "text": [
      "2023-09-26 15:19:25,312\tERROR tune_controller.py:1502 -- Trial task failed for trial TrainLightGCN_b9e3e1a2\n",
      "Traceback (most recent call last):\n",
      "  File \"/home/davo/Documents/MUIA/upm-tfm-notebooks/.direnv/python-3.11/lib/python3.11/site-packages/ray/air/execution/_internal/event_manager.py\", line 110, in resolve_future\n",
      "    result = ray.get(future)\n",
      "             ^^^^^^^^^^^^^^^\n",
      "  File \"/home/davo/Documents/MUIA/upm-tfm-notebooks/.direnv/python-3.11/lib/python3.11/site-packages/ray/_private/auto_init_hook.py\", line 24, in auto_init_wrapper\n",
      "    return fn(*args, **kwargs)\n",
      "           ^^^^^^^^^^^^^^^^^^^\n",
      "  File \"/home/davo/Documents/MUIA/upm-tfm-notebooks/.direnv/python-3.11/lib/python3.11/site-packages/ray/_private/client_mode_hook.py\", line 103, in wrapper\n",
      "    return func(*args, **kwargs)\n",
      "           ^^^^^^^^^^^^^^^^^^^^^\n",
      "  File \"/home/davo/Documents/MUIA/upm-tfm-notebooks/.direnv/python-3.11/lib/python3.11/site-packages/ray/_private/worker.py\", line 2549, in get\n",
      "    raise value\n",
      "ray.exceptions.RayActorError: The actor died because of an error raised in its creation task, \u001b[36mray::_Inner.__init__()\u001b[39m (pid=33270, ip=147.96.25.138, actor_id=4cf55f1ed89955ca736ab79a01000000, repr=<ray.tune.trainable.util.TrainLightGCN object at 0x7fd1a44ee0d0>)\n",
      "           ^^^^^^^^^^^^^^^^^^^^^^^^^^^^^^^^^^^^\n",
      "           ^^^^^^^^^^^^^^^^^^^^^^^^^^^^^^^\n",
      "  File \"/home/davo/Documents/MUIA/upm-tfm-notebooks/.direnv/python-3.11/lib/python3.11/site-packages/ray/tune/trainable/trainable.py\", line 185, in __init__\n",
      "    self.setup(copy.deepcopy(self.config))\n",
      "           ^^^^^^^^^^^^^^^^^^^^^^^^^^^^^^^\n",
      "  File \"/home/davo/Documents/MUIA/upm-tfm-notebooks/.direnv/python-3.11/lib/python3.11/site-packages/ray/tune/trainable/util.py\", line 305, in setup\n",
      "    super(_Inner, self).setup(config, **setup_kwargs)\n",
      "  File \"/tmp/ipykernel_32446/1045838613.py\", line 15, in setup\n",
      "KeyError: '__trial_index'\n",
      "2023-09-26 15:19:27,209\tERROR tune_controller.py:1502 -- Trial task failed for trial TrainLightGCN_460fe231\n",
      "Traceback (most recent call last):\n",
      "  File \"/home/davo/Documents/MUIA/upm-tfm-notebooks/.direnv/python-3.11/lib/python3.11/site-packages/ray/air/execution/_internal/event_manager.py\", line 110, in resolve_future\n",
      "    result = ray.get(future)\n",
      "             ^^^^^^^^^^^^^^^\n",
      "  File \"/home/davo/Documents/MUIA/upm-tfm-notebooks/.direnv/python-3.11/lib/python3.11/site-packages/ray/_private/auto_init_hook.py\", line 24, in auto_init_wrapper\n",
      "    return fn(*args, **kwargs)\n",
      "           ^^^^^^^^^^^^^^^^^^^\n",
      "  File \"/home/davo/Documents/MUIA/upm-tfm-notebooks/.direnv/python-3.11/lib/python3.11/site-packages/ray/_private/client_mode_hook.py\", line 103, in wrapper\n",
      "    return func(*args, **kwargs)\n",
      "           ^^^^^^^^^^^^^^^^^^^^^\n",
      "  File \"/home/davo/Documents/MUIA/upm-tfm-notebooks/.direnv/python-3.11/lib/python3.11/site-packages/ray/_private/worker.py\", line 2549, in get\n",
      "    raise value\n",
      "ray.exceptions.RayActorError: The actor died because of an error raised in its creation task, \u001b[36mray::_Inner.__init__()\u001b[39m (pid=33304, ip=147.96.25.138, actor_id=4758d46007ef62675969665f01000000, repr=<ray.tune.trainable.util.TrainLightGCN object at 0x7fb7303f9ad0>)\n",
      "           ^^^^^^^^^^^^^^^^^^^^^^^^^^^^^^^^^^^^\n",
      "           ^^^^^^^^^^^^^^^^^^^^^^^^^^^^^^^\n",
      "  File \"/home/davo/Documents/MUIA/upm-tfm-notebooks/.direnv/python-3.11/lib/python3.11/site-packages/ray/tune/trainable/trainable.py\", line 185, in __init__\n",
      "    self.setup(copy.deepcopy(self.config))\n",
      "           ^^^^^^^^^^^^^^^^^^^^^^^^^^^^^^^\n",
      "  File \"/home/davo/Documents/MUIA/upm-tfm-notebooks/.direnv/python-3.11/lib/python3.11/site-packages/ray/tune/trainable/util.py\", line 305, in setup\n",
      "    super(_Inner, self).setup(config, **setup_kwargs)\n",
      "  File \"/tmp/ipykernel_32446/1045838613.py\", line 15, in setup\n",
      "KeyError: '__trial_index'\n",
      "2023-09-26 15:19:29,123\tERROR tune_controller.py:1502 -- Trial task failed for trial TrainLightGCN_35f78854\n",
      "Traceback (most recent call last):\n",
      "  File \"/home/davo/Documents/MUIA/upm-tfm-notebooks/.direnv/python-3.11/lib/python3.11/site-packages/ray/air/execution/_internal/event_manager.py\", line 110, in resolve_future\n",
      "    result = ray.get(future)\n",
      "             ^^^^^^^^^^^^^^^\n",
      "  File \"/home/davo/Documents/MUIA/upm-tfm-notebooks/.direnv/python-3.11/lib/python3.11/site-packages/ray/_private/auto_init_hook.py\", line 24, in auto_init_wrapper\n",
      "    return fn(*args, **kwargs)\n",
      "           ^^^^^^^^^^^^^^^^^^^\n",
      "  File \"/home/davo/Documents/MUIA/upm-tfm-notebooks/.direnv/python-3.11/lib/python3.11/site-packages/ray/_private/client_mode_hook.py\", line 103, in wrapper\n",
      "    return func(*args, **kwargs)\n",
      "           ^^^^^^^^^^^^^^^^^^^^^\n",
      "  File \"/home/davo/Documents/MUIA/upm-tfm-notebooks/.direnv/python-3.11/lib/python3.11/site-packages/ray/_private/worker.py\", line 2549, in get\n",
      "    raise value\n",
      "ray.exceptions.RayActorError: The actor died because of an error raised in its creation task, \u001b[36mray::_Inner.__init__()\u001b[39m (pid=33337, ip=147.96.25.138, actor_id=26232d4b8ecca1144e574e5801000000, repr=<ray.tune.trainable.util.TrainLightGCN object at 0x7f8e1a9a3dd0>)\n",
      "           ^^^^^^^^^^^^^^^^^^^^^^^^^^^^^^^^^^^^\n",
      "           ^^^^^^^^^^^^^^^^^^^^^^^^^^^^^^^\n",
      "  File \"/home/davo/Documents/MUIA/upm-tfm-notebooks/.direnv/python-3.11/lib/python3.11/site-packages/ray/tune/trainable/trainable.py\", line 185, in __init__\n",
      "    self.setup(copy.deepcopy(self.config))\n",
      "           ^^^^^^^^^^^^^^^^^^^^^^^^^^^^^^^\n",
      "  File \"/home/davo/Documents/MUIA/upm-tfm-notebooks/.direnv/python-3.11/lib/python3.11/site-packages/ray/tune/trainable/util.py\", line 305, in setup\n",
      "    super(_Inner, self).setup(config, **setup_kwargs)\n",
      "  File \"/tmp/ipykernel_32446/1045838613.py\", line 15, in setup\n",
      "KeyError: '__trial_index'\n",
      "\u001b[2m\u001b[36m(TrainLightGCN pid=33337)\u001b[0m Exception raised in creation task: The actor died because of an error raised in its creation task, \u001b[36mray::_Inner.__init__()\u001b[39m (pid=33337, ip=147.96.25.138, actor_id=26232d4b8ecca1144e574e5801000000, repr=<ray.tune.trainable.util.TrainLightGCN object at 0x7f8e1a9a3dd0>)\u001b[32m [repeated 3x across cluster] (Ray deduplicates logs by default. Set RAY_DEDUP_LOGS=0 to disable log deduplication, or see https://docs.ray.io/en/master/ray-observability/ray-logging.html#log-deduplication for more options.)\u001b[0m\n",
      "\u001b[2m\u001b[36m(TrainLightGCN pid=33337)\u001b[0m            ^^^^^^^^^^^^^^^^^^^^^^^^^^^^^^^^^^^^\u001b[32m [repeated 3x across cluster]\u001b[0m\n",
      "\u001b[2m\u001b[36m(TrainLightGCN pid=33337)\u001b[0m            ^^^^^^^^^^^^^^^^^^^^^^^^^^^^^^^\u001b[32m [repeated 6x across cluster]\u001b[0m\n",
      "\u001b[2m\u001b[36m(TrainLightGCN pid=33337)\u001b[0m   File \"/home/davo/Documents/MUIA/upm-tfm-notebooks/.direnv/python-3.11/lib/python3.11/site-packages/ray/tune/trainable/trainable.py\", line 185, in __init__\u001b[32m [repeated 3x across cluster]\u001b[0m\n",
      "\u001b[2m\u001b[36m(TrainLightGCN pid=33337)\u001b[0m     self.setup(copy.deepcopy(self.config))\u001b[32m [repeated 3x across cluster]\u001b[0m\n",
      "\u001b[2m\u001b[36m(TrainLightGCN pid=33337)\u001b[0m   File \"/tmp/ipykernel_32446/1045838613.py\", line 15, in setup\u001b[32m [repeated 6x across cluster]\u001b[0m\n",
      "\u001b[2m\u001b[36m(TrainLightGCN pid=33337)\u001b[0m     super(_Inner, self).setup(config, **setup_kwargs)\u001b[32m [repeated 3x across cluster]\u001b[0m\n",
      "\u001b[2m\u001b[36m(TrainLightGCN pid=33337)\u001b[0m KeyError: '__trial_index'\u001b[32m [repeated 3x across cluster]\u001b[0m\n"
     ]
    },
    {
     "name": "stdout",
     "output_type": "stream",
     "text": [
      "\u001b[2m\u001b[36m(TrainLightGCN pid=33337)\u001b[0m {'batch_size': 64, 'learning_rate': 0.001, 'embedding_dim': 32, 'conv_layers': 4, 'l2': 0.0001, '__trial_index__': 3}\u001b[32m [repeated 3x across cluster]\u001b[0m\n"
     ]
    },
    {
     "name": "stderr",
     "output_type": "stream",
     "text": [
      "2023-09-26 15:19:31,234\tERROR tune_controller.py:1502 -- Trial task failed for trial TrainLightGCN_264bb339\n",
      "Traceback (most recent call last):\n",
      "  File \"/home/davo/Documents/MUIA/upm-tfm-notebooks/.direnv/python-3.11/lib/python3.11/site-packages/ray/air/execution/_internal/event_manager.py\", line 110, in resolve_future\n",
      "    result = ray.get(future)\n",
      "             ^^^^^^^^^^^^^^^\n",
      "  File \"/home/davo/Documents/MUIA/upm-tfm-notebooks/.direnv/python-3.11/lib/python3.11/site-packages/ray/_private/auto_init_hook.py\", line 24, in auto_init_wrapper\n",
      "    return fn(*args, **kwargs)\n",
      "           ^^^^^^^^^^^^^^^^^^^\n",
      "  File \"/home/davo/Documents/MUIA/upm-tfm-notebooks/.direnv/python-3.11/lib/python3.11/site-packages/ray/_private/client_mode_hook.py\", line 103, in wrapper\n",
      "    return func(*args, **kwargs)\n",
      "           ^^^^^^^^^^^^^^^^^^^^^\n",
      "  File \"/home/davo/Documents/MUIA/upm-tfm-notebooks/.direnv/python-3.11/lib/python3.11/site-packages/ray/_private/worker.py\", line 2549, in get\n",
      "    raise value\n",
      "ray.exceptions.RayActorError: The actor died because of an error raised in its creation task, \u001b[36mray::_Inner.__init__()\u001b[39m (pid=33370, ip=147.96.25.138, actor_id=61b13cd1dfea13b918214afb01000000, repr=<ray.tune.trainable.util.TrainLightGCN object at 0x7f3518528710>)\n",
      "           ^^^^^^^^^^^^^^^^^^^^^^^^^^^^^^^^^^^^\n",
      "           ^^^^^^^^^^^^^^^^^^^^^^^^^^^^^^^\n",
      "  File \"/home/davo/Documents/MUIA/upm-tfm-notebooks/.direnv/python-3.11/lib/python3.11/site-packages/ray/tune/trainable/trainable.py\", line 185, in __init__\n",
      "    self.setup(copy.deepcopy(self.config))\n",
      "           ^^^^^^^^^^^^^^^^^^^^^^^^^^^^^^^\n",
      "  File \"/home/davo/Documents/MUIA/upm-tfm-notebooks/.direnv/python-3.11/lib/python3.11/site-packages/ray/tune/trainable/util.py\", line 305, in setup\n",
      "    super(_Inner, self).setup(config, **setup_kwargs)\n",
      "  File \"/tmp/ipykernel_32446/1045838613.py\", line 15, in setup\n",
      "KeyError: '__trial_index'\n",
      "/home/davo/Documents/MUIA/upm-tfm-notebooks/.direnv/python-3.11/lib/python3.11/site-packages/ray/tune/search/repeater.py:176: RuntimeWarning: Mean of empty slice\n",
      "  result={self.searcher.metric: np.nanmean(scores)},\n",
      "2023-09-26 15:19:31,241\tERROR tune.py:1139 -- Trials did not complete: [TrainLightGCN_5008c07d, TrainLightGCN_b9e3e1a2, TrainLightGCN_460fe231, TrainLightGCN_35f78854, TrainLightGCN_264bb339]\n",
      "2023-09-26 15:19:31,241\tINFO tune.py:1143 -- Total run time: 10.09 seconds (10.07 seconds for the tuning loop).\n",
      "2023-09-26 15:19:31,243\tWARNING experiment_analysis.py:205 -- Failed to fetch metrics for 5 trial(s):\n",
      "- TrainLightGCN_5008c07d: FileNotFoundError('Could not fetch metrics for TrainLightGCN_5008c07d: both result.json and progress.csv were not found at /home/davo/ray_results/TrainLightGCN_2023-09-26_15-19-21/TrainLightGCN_5008c07d_1_trial_index=0,batch_size=64,conv_layers=4,embedding_dim=32,l2=0.0001,learning_rate=0.0010_2023-09-26_15-19-21')\n",
      "- TrainLightGCN_b9e3e1a2: FileNotFoundError('Could not fetch metrics for TrainLightGCN_b9e3e1a2: both result.json and progress.csv were not found at /home/davo/ray_results/TrainLightGCN_2023-09-26_15-19-21/TrainLightGCN_b9e3e1a2_2_trial_index=1,batch_size=64,conv_layers=4,embedding_dim=32,l2=0.0001,learning_rate=0.0010_2023-09-26_15-19-23')\n",
      "- TrainLightGCN_460fe231: FileNotFoundError('Could not fetch metrics for TrainLightGCN_460fe231: both result.json and progress.csv were not found at /home/davo/ray_results/TrainLightGCN_2023-09-26_15-19-21/TrainLightGCN_460fe231_3_trial_index=2,batch_size=64,conv_layers=4,embedding_dim=32,l2=0.0001,learning_rate=0.0010_2023-09-26_15-19-25')\n",
      "- TrainLightGCN_35f78854: FileNotFoundError('Could not fetch metrics for TrainLightGCN_35f78854: both result.json and progress.csv were not found at /home/davo/ray_results/TrainLightGCN_2023-09-26_15-19-21/TrainLightGCN_35f78854_4_trial_index=3,batch_size=64,conv_layers=4,embedding_dim=32,l2=0.0001,learning_rate=0.0010_2023-09-26_15-19-27')\n",
      "- TrainLightGCN_264bb339: FileNotFoundError('Could not fetch metrics for TrainLightGCN_264bb339: both result.json and progress.csv were not found at /home/davo/ray_results/TrainLightGCN_2023-09-26_15-19-21/TrainLightGCN_264bb339_5_trial_index=4,batch_size=64,conv_layers=4,embedding_dim=32,l2=0.0001,learning_rate=0.0010_2023-09-26_15-19-29')\n"
     ]
    },
    {
     "data": {
      "text/plain": [
       "ResultGrid<[\n",
       "  Result(\n",
       "    error='TuneError',\n",
       "    metrics={},\n",
       "    path='/home/davo/ray_results/TrainLightGCN_2023-09-26_15-19-21/TrainLightGCN_5008c07d_1_trial_index=0,batch_size=64,conv_layers=4,embedding_dim=32,l2=0.0001,learning_rate=0.0010_2023-09-26_15-19-21',\n",
       "    filesystem='local',\n",
       "    checkpoint=None\n",
       "  ),\n",
       "  Result(\n",
       "    error='TuneError',\n",
       "    metrics={},\n",
       "    path='/home/davo/ray_results/TrainLightGCN_2023-09-26_15-19-21/TrainLightGCN_b9e3e1a2_2_trial_index=1,batch_size=64,conv_layers=4,embedding_dim=32,l2=0.0001,learning_rate=0.0010_2023-09-26_15-19-23',\n",
       "    filesystem='local',\n",
       "    checkpoint=None\n",
       "  ),\n",
       "  Result(\n",
       "    error='TuneError',\n",
       "    metrics={},\n",
       "    path='/home/davo/ray_results/TrainLightGCN_2023-09-26_15-19-21/TrainLightGCN_460fe231_3_trial_index=2,batch_size=64,conv_layers=4,embedding_dim=32,l2=0.0001,learning_rate=0.0010_2023-09-26_15-19-25',\n",
       "    filesystem='local',\n",
       "    checkpoint=None\n",
       "  ),\n",
       "  Result(\n",
       "    error='TuneError',\n",
       "    metrics={},\n",
       "    path='/home/davo/ray_results/TrainLightGCN_2023-09-26_15-19-21/TrainLightGCN_35f78854_4_trial_index=3,batch_size=64,conv_layers=4,embedding_dim=32,l2=0.0001,learning_rate=0.0010_2023-09-26_15-19-27',\n",
       "    filesystem='local',\n",
       "    checkpoint=None\n",
       "  ),\n",
       "  Result(\n",
       "    error='TuneError',\n",
       "    metrics={},\n",
       "    path='/home/davo/ray_results/TrainLightGCN_2023-09-26_15-19-21/TrainLightGCN_264bb339_5_trial_index=4,batch_size=64,conv_layers=4,embedding_dim=32,l2=0.0001,learning_rate=0.0010_2023-09-26_15-19-29',\n",
       "    filesystem='local',\n",
       "    checkpoint=None\n",
       "  )\n",
       "]>"
      ]
     },
     "execution_count": 11,
     "metadata": {},
     "output_type": "execute_result"
    },
    {
     "name": "stderr",
     "output_type": "stream",
     "text": [
      "\u001b[2m\u001b[36m(TrainLightGCN pid=33370)\u001b[0m Exception raised in creation task: The actor died because of an error raised in its creation task, \u001b[36mray::_Inner.__init__()\u001b[39m (pid=33370, ip=147.96.25.138, actor_id=61b13cd1dfea13b918214afb01000000, repr=<ray.tune.trainable.util.TrainLightGCN object at 0x7f3518528710>)\n",
      "\u001b[2m\u001b[36m(TrainLightGCN pid=33370)\u001b[0m            ^^^^^^^^^^^^^^^^^^^^^^^^^^^^^^^^^^^^\n",
      "\u001b[2m\u001b[36m(TrainLightGCN pid=33370)\u001b[0m            ^^^^^^^^^^^^^^^^^^^^^^^^^^^^^^^\n",
      "\u001b[2m\u001b[36m(TrainLightGCN pid=33370)\u001b[0m   File \"/home/davo/Documents/MUIA/upm-tfm-notebooks/.direnv/python-3.11/lib/python3.11/site-packages/ray/tune/trainable/trainable.py\", line 185, in __init__\n",
      "\u001b[2m\u001b[36m(TrainLightGCN pid=33370)\u001b[0m     self.setup(copy.deepcopy(self.config))\n",
      "\u001b[2m\u001b[36m(TrainLightGCN pid=33370)\u001b[0m            ^^^^^^^^^^^^^^^^^^^^^^^^^^^^^^^\n",
      "\u001b[2m\u001b[36m(TrainLightGCN pid=33370)\u001b[0m   File \"/home/davo/Documents/MUIA/upm-tfm-notebooks/.direnv/python-3.11/lib/python3.11/site-packages/ray/tune/trainable/util.py\", line 305, in setup\n",
      "\u001b[2m\u001b[36m(TrainLightGCN pid=33370)\u001b[0m     super(_Inner, self).setup(config, **setup_kwargs)\n",
      "\u001b[2m\u001b[36m(TrainLightGCN pid=33370)\u001b[0m   File \"/tmp/ipykernel_32446/1045838613.py\", line 15, in setup\n",
      "\u001b[2m\u001b[36m(TrainLightGCN pid=33370)\u001b[0m KeyError: '__trial_index'\n"
     ]
    },
    {
     "name": "stdout",
     "output_type": "stream",
     "text": [
      "\u001b[2m\u001b[36m(TrainLightGCN pid=33370)\u001b[0m {'batch_size': 64, 'learning_rate': 0.001, 'embedding_dim': 32, 'conv_layers': 4, 'l2': 0.0001, '__trial_index__': 4}\n"
     ]
    }
   ],
   "source": [
    "from ray.tune.search.hyperopt import HyperOptSearch\n",
    "\n",
    "search_alg = HyperOptSearch()\n",
    "search_alg = tune.search.Repeater(search_alg, NUM_FOLDS)\n",
    "\n",
    "tuner = tune.Tuner(\n",
    "    tune.with_parameters(TrainLightGCN, folds=folds, original=original),\n",
    "    run_config=train.RunConfig(\n",
    "        stop={'training_iteration': 5}\n",
    "    ),\n",
    "    param_space=dict(\n",
    "        batch_size=64,\n",
    "        learning_rate=0.001,\n",
    "        embedding_dim=32,\n",
    "        conv_layers=tune.randint(2,6),\n",
    "        l2=1e-4,\n",
    "    ),\n",
    "    tune_config=tune.TuneConfig(\n",
    "        search_alg=search_alg,\n",
    "        num_samples=NUM_FOLDS*NUM_SAMPLES,\n",
    "        metric='loss',\n",
    "        mode='min',\n",
    "    )\n",
    ")\n",
    "tuner.fit()"
   ]
  },
  {
   "cell_type": "code",
   "execution_count": null,
   "id": "d39d82d0-2125-4f39-ab7b-cfd101542ffe",
   "metadata": {},
   "outputs": [],
   "source": []
  }
 ],
 "metadata": {
  "kernelspec": {
   "display_name": "Python 3 (ipykernel)",
   "language": "python",
   "name": "python3"
  },
  "language_info": {
   "codemirror_mode": {
    "name": "ipython",
    "version": 3
   },
   "file_extension": ".py",
   "mimetype": "text/x-python",
   "name": "python",
   "nbconvert_exporter": "python",
   "pygments_lexer": "ipython3",
   "version": "3.11.5"
  },
  "widgets": {
   "application/vnd.jupyter.widget-state+json": {
    "state": {},
    "version_major": 2,
    "version_minor": 0
   }
  }
 },
 "nbformat": 4,
 "nbformat_minor": 5
}
