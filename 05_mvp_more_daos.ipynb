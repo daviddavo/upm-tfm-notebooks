{
 "cells": [
  {
   "cell_type": "code",
   "execution_count": 1,
   "id": "9984eade-d733-4399-ba60-c83aa3f17588",
   "metadata": {
    "execution": {
     "iopub.execute_input": "2023-09-26T13:30:54.188299Z",
     "iopub.status.busy": "2023-09-26T13:30:54.188172Z",
     "iopub.status.idle": "2023-09-26T13:30:55.874741Z",
     "shell.execute_reply": "2023-09-26T13:30:55.874303Z",
     "shell.execute_reply.started": "2023-09-26T13:30:54.188287Z"
    }
   },
   "outputs": [],
   "source": [
    "from typing import List, Dict, Tuple\n",
    "\n",
    "import pandas as pd\n",
    "import numpy as np\n",
    "from tqdm import tqdm\n",
    "\n",
    "from ray import train, tune\n",
    "import ray.train.torch # Seems unused, but is used via train.torch\n",
    "\n",
    "import torch\n",
    "import torch_geometric as PyG\n",
    "\n",
    "from src import datasets\n",
    "from src import graph_utils as gu"
   ]
  },
  {
   "cell_type": "code",
   "execution_count": 2,
   "id": "78b33b0d-9560-4ed3-8792-9b447c4285c4",
   "metadata": {
    "execution": {
     "iopub.execute_input": "2023-09-26T13:30:55.875935Z",
     "iopub.status.busy": "2023-09-26T13:30:55.875644Z",
     "iopub.status.idle": "2023-09-26T13:30:55.878077Z",
     "shell.execute_reply": "2023-09-26T13:30:55.877699Z",
     "shell.execute_reply.started": "2023-09-26T13:30:55.875923Z"
    }
   },
   "outputs": [],
   "source": [
    "NUM_FOLDS: int = 5\n",
    "NUM_SAMPLES: int = 1\n",
    "MAX_ITERS: int = 5"
   ]
  },
  {
   "cell_type": "markdown",
   "id": "d849b129-08e5-4f78-a71a-9d084d602a03",
   "metadata": {},
   "source": [
    "## Reading and splitting data"
   ]
  },
  {
   "cell_type": "code",
   "execution_count": 3,
   "id": "d20ee511-bc1c-4914-9590-9c595b3af9f9",
   "metadata": {
    "execution": {
     "iopub.execute_input": "2023-09-26T13:30:55.878718Z",
     "iopub.status.busy": "2023-09-26T13:30:55.878557Z",
     "iopub.status.idle": "2023-09-26T13:30:55.898111Z",
     "shell.execute_reply": "2023-09-26T13:30:55.897734Z",
     "shell.execute_reply.started": "2023-09-26T13:30:55.878702Z"
    }
   },
   "outputs": [],
   "source": [
    "from torch_geometric.data import InMemoryDataset, HeteroData, Data"
   ]
  },
  {
   "cell_type": "code",
   "execution_count": 4,
   "id": "c7ddb500-813e-44f7-a91d-81a7b9c7156a",
   "metadata": {
    "execution": {
     "iopub.execute_input": "2023-09-26T13:30:55.898665Z",
     "iopub.status.busy": "2023-09-26T13:30:55.898525Z",
     "iopub.status.idle": "2023-09-26T13:30:55.913351Z",
     "shell.execute_reply": "2023-09-26T13:30:55.912948Z",
     "shell.execute_reply.started": "2023-09-26T13:30:55.898655Z"
    }
   },
   "outputs": [
    {
     "data": {
      "text/plain": [
       "HeteroData(\n",
       "  user={\n",
       "    num_nodes=2902,\n",
       "    voters=[2900],\n",
       "    authors=[2],\n",
       "  },\n",
       "  proposal={ num_nodes=1962 },\n",
       "  (user, vote, proposal)={ edge_index=[2, 107735] },\n",
       "  (proposal, vote, user)={ edge_index=[2, 107735] },\n",
       "  (user, creates, proposal)={ edge_index=[2, 1962] },\n",
       "  (proposal, creates, user)={ edge_index=[2, 1962] }\n",
       ")"
      ]
     },
     "execution_count": 4,
     "metadata": {},
     "output_type": "execute_result"
    }
   ],
   "source": [
    "original = datasets.DAOCensus(\"./data/daos-census\", 'Decentraland', 'snapshot', min_vpu=6)[0]\n",
    "original"
   ]
  },
  {
   "cell_type": "code",
   "execution_count": 5,
   "id": "ca8fba9f-94f8-4580-9a88-9ebbe8224377",
   "metadata": {
    "execution": {
     "iopub.execute_input": "2023-09-26T13:30:55.914157Z",
     "iopub.status.busy": "2023-09-26T13:30:55.913992Z",
     "iopub.status.idle": "2023-09-26T13:30:56.210253Z",
     "shell.execute_reply": "2023-09-26T13:30:56.209839Z",
     "shell.execute_reply.started": "2023-09-26T13:30:55.914141Z"
    }
   },
   "outputs": [],
   "source": [
    "folds = gu.k_fold(original, NUM_FOLDS)"
   ]
  },
  {
   "cell_type": "markdown",
   "id": "b52808ab-fa4f-4aa8-a00a-0a5f4e0aebbb",
   "metadata": {},
   "source": [
    "## Defining training"
   ]
  },
  {
   "cell_type": "code",
   "execution_count": 6,
   "id": "b218121a-984e-4d04-816d-17a35f67fd80",
   "metadata": {
    "execution": {
     "iopub.execute_input": "2023-09-26T13:30:56.210873Z",
     "iopub.status.busy": "2023-09-26T13:30:56.210729Z",
     "iopub.status.idle": "2023-09-26T13:30:56.214475Z",
     "shell.execute_reply": "2023-09-26T13:30:56.214071Z",
     "shell.execute_reply.started": "2023-09-26T13:30:56.210858Z"
    }
   },
   "outputs": [
    {
     "data": {
      "text/plain": [
       "device(type='cpu')"
      ]
     },
     "execution_count": 6,
     "metadata": {},
     "output_type": "execute_result"
    }
   ],
   "source": [
    "# import ray.train.torch\n",
    "train.torch.get_device()"
   ]
  },
  {
   "cell_type": "code",
   "execution_count": 7,
   "id": "bea9c5d3-81d6-4278-b306-3e52d3a20460",
   "metadata": {
    "execution": {
     "iopub.execute_input": "2023-09-26T13:30:56.215823Z",
     "iopub.status.busy": "2023-09-26T13:30:56.215692Z",
     "iopub.status.idle": "2023-09-26T13:30:56.224483Z",
     "shell.execute_reply": "2023-09-26T13:30:56.223991Z",
     "shell.execute_reply.started": "2023-09-26T13:30:56.215811Z"
    }
   },
   "outputs": [],
   "source": [
    "from torch_geometric.nn import LightGCN\n",
    "\n",
    "class TrainLightGCN(tune.Trainable):\n",
    "    def setup(self, config: Dict, folds: List[Tuple[HeteroData, HeteroData]], original: HeteroData):\n",
    "        self.config = config\n",
    "        self.fold = config['__trial_index__']\n",
    "        print(config)\n",
    "        \n",
    "        self.model = LightGCN(\n",
    "            num_nodes=original.num_nodes,\n",
    "            embedding_dim=config['embedding_dim'],\n",
    "            num_layers=config['conv_layers'],\n",
    "        ).to(train.torch.get_device())\n",
    "        self.optimizer = torch.optim.Adam(self.model.parameters(), lr=config['learning_rate'])\n",
    "        \n",
    "        self.data_train, self.data_validation = folds[self.fold]\n",
    "        self.data_original = original\n",
    "\n",
    "    def step(self):\n",
    "        \"\"\"\n",
    "        As a rule of thumb, the execution time of step should be large enough to avoid overheads \n",
    "        (i.e. more than a few seconds), but short enough to report progress periodically \n",
    "        (i.e. at most a few minutes).\n",
    "        \"\"\"\n",
    "        \n",
    "        acc_loss = n_samples = 0\n",
    "        for index in tqdm(train_loader, leave=False, delay=1, disable=disable_tqdm):\n",
    "            pos_edge_index = train_edge_label_index[:, index]\n",
    "            # TODO: Change to negative structured sampling like in original LightGCN implementation\n",
    "            neg_edge_index = torch.stack([\n",
    "                pos_edge_index[0],\n",
    "                torch.randint(train['proposal'].shift, train['proposal'].end,\n",
    "                          (pos_edge_index.size(1), ), device=device)\n",
    "            ], dim=0)\n",
    "            \n",
    "            edge_label_index = torch.cat([\n",
    "                pos_edge_index,\n",
    "                neg_edge_index,\n",
    "            ], dim=1)\n",
    "\n",
    "            optimizer.zero_grad()\n",
    "            pos_rank, neg_rank = model(message_passing_edge_index, edge_label_index).chunk(2)\n",
    "\n",
    "            # Learning\n",
    "            loss = model.recommendation_loss(\n",
    "                pos_rank,\n",
    "                neg_rank,\n",
    "                node_id=edge_label_index.unique(),\n",
    "                lambda_reg=self.config['l2'],\n",
    "            )\n",
    "            loss.backward()\n",
    "            optimizer.step()\n",
    "\n",
    "            acc_loss += float(loss) * pos_rank.numel()\n",
    "            n_samples += pos_rank.numel()\n",
    "\n",
    "        return {\n",
    "            'loss': acc_loss/n_samples,\n",
    "        }"
   ]
  },
  {
   "cell_type": "markdown",
   "id": "17271dd5-577b-411d-8377-8b78e4e31d69",
   "metadata": {},
   "source": [
    "## Tune hyperparameters"
   ]
  },
  {
   "cell_type": "code",
   "execution_count": 8,
   "id": "3ecdf33b-0a8d-4b60-910f-865cba2f474e",
   "metadata": {
    "execution": {
     "iopub.execute_input": "2023-09-26T13:30:56.225261Z",
     "iopub.status.busy": "2023-09-26T13:30:56.224993Z",
     "iopub.status.idle": "2023-09-26T13:31:09.793504Z",
     "shell.execute_reply": "2023-09-26T13:31:09.793013Z",
     "shell.execute_reply.started": "2023-09-26T13:30:56.225240Z"
    }
   },
   "outputs": [
    {
     "data": {
      "text/html": [
       "<div class=\"tuneStatus\">\n",
       "  <div style=\"display: flex;flex-direction: row\">\n",
       "    <div style=\"display: flex;flex-direction: column;\">\n",
       "      <h3>Tune Status</h3>\n",
       "      <table>\n",
       "<tbody>\n",
       "<tr><td>Current time:</td><td>2023-09-26 15:31:09</td></tr>\n",
       "<tr><td>Running for: </td><td>00:00:10.02        </td></tr>\n",
       "<tr><td>Memory:      </td><td>11.0/15.3 GiB      </td></tr>\n",
       "</tbody>\n",
       "</table>\n",
       "    </div>\n",
       "    <div class=\"vDivider\"></div>\n",
       "    <div class=\"systemInfo\">\n",
       "      <h3>System Info</h3>\n",
       "      Using FIFO scheduling algorithm.<br>Logical resource usage: 1.0/8 CPUs, 0/0 GPUs\n",
       "    </div>\n",
       "    <div class=\"vDivider\"></div>\n",
       "<div class=\"messages\">\n",
       "  <h3>Messages</h3>\n",
       "  \n",
       "  \n",
       "  Number of errored trials: 5<br><table>\n",
       "<thead>\n",
       "<tr><th>Trial name            </th><th style=\"text-align: right;\">  # failures</th><th>error file                                                                                                                                                                                               </th></tr>\n",
       "</thead>\n",
       "<tbody>\n",
       "<tr><td>TrainLightGCN_39614ea3</td><td style=\"text-align: right;\">           1</td><td>/home/davo/ray_results/TrainLightGCN_2023-09-26_15-30-56/TrainLightGCN_39614ea3_1_trial_index=0,batch_size=64,conv_layers=4,embedding_dim=32,l2=0.0001,learning_rate=0.0010_2023-09-26_15-30-59/error.txt</td></tr>\n",
       "<tr><td>TrainLightGCN_622da3b9</td><td style=\"text-align: right;\">           1</td><td>/home/davo/ray_results/TrainLightGCN_2023-09-26_15-30-56/TrainLightGCN_622da3b9_2_trial_index=1,batch_size=64,conv_layers=4,embedding_dim=32,l2=0.0001,learning_rate=0.0010_2023-09-26_15-31-01/error.txt</td></tr>\n",
       "<tr><td>TrainLightGCN_0123ae2a</td><td style=\"text-align: right;\">           1</td><td>/home/davo/ray_results/TrainLightGCN_2023-09-26_15-30-56/TrainLightGCN_0123ae2a_3_trial_index=2,batch_size=64,conv_layers=4,embedding_dim=32,l2=0.0001,learning_rate=0.0010_2023-09-26_15-31-03/error.txt</td></tr>\n",
       "<tr><td>TrainLightGCN_17633c09</td><td style=\"text-align: right;\">           1</td><td>/home/davo/ray_results/TrainLightGCN_2023-09-26_15-30-56/TrainLightGCN_17633c09_4_trial_index=3,batch_size=64,conv_layers=4,embedding_dim=32,l2=0.0001,learning_rate=0.0010_2023-09-26_15-31-05/error.txt</td></tr>\n",
       "<tr><td>TrainLightGCN_5e4f57da</td><td style=\"text-align: right;\">           1</td><td>/home/davo/ray_results/TrainLightGCN_2023-09-26_15-30-56/TrainLightGCN_5e4f57da_5_trial_index=4,batch_size=64,conv_layers=4,embedding_dim=32,l2=0.0001,learning_rate=0.0010_2023-09-26_15-31-07/error.txt</td></tr>\n",
       "</tbody>\n",
       "</table>\n",
       "</div>\n",
       "<style>\n",
       ".messages {\n",
       "  color: var(--jp-ui-font-color1);\n",
       "  display: flex;\n",
       "  flex-direction: column;\n",
       "  padding-left: 1em;\n",
       "  overflow-y: auto;\n",
       "}\n",
       ".messages h3 {\n",
       "  font-weight: bold;\n",
       "}\n",
       ".vDivider {\n",
       "  border-left-width: var(--jp-border-width);\n",
       "  border-left-color: var(--jp-border-color0);\n",
       "  border-left-style: solid;\n",
       "  margin: 0.5em 1em 0.5em 1em;\n",
       "}\n",
       "</style>\n",
       "\n",
       "  </div>\n",
       "  <div class=\"hDivider\"></div>\n",
       "  <div class=\"trialStatus\">\n",
       "    <h3>Trial Status</h3>\n",
       "    <table>\n",
       "<thead>\n",
       "<tr><th>Trial name            </th><th>status  </th><th>loc                </th><th style=\"text-align: right;\">  __trial_index__</th><th style=\"text-align: right;\">  batch_size</th><th style=\"text-align: right;\">  conv_layers</th><th style=\"text-align: right;\">  embedding_dim</th><th style=\"text-align: right;\">    l2</th><th style=\"text-align: right;\">  learning_rate</th></tr>\n",
       "</thead>\n",
       "<tbody>\n",
       "<tr><td>TrainLightGCN_39614ea3</td><td>ERROR   </td><td>147.96.25.138:35920</td><td style=\"text-align: right;\">                0</td><td style=\"text-align: right;\">          64</td><td style=\"text-align: right;\">            4</td><td style=\"text-align: right;\">             32</td><td style=\"text-align: right;\">0.0001</td><td style=\"text-align: right;\">          0.001</td></tr>\n",
       "<tr><td>TrainLightGCN_622da3b9</td><td>ERROR   </td><td>147.96.25.138:35956</td><td style=\"text-align: right;\">                1</td><td style=\"text-align: right;\">          64</td><td style=\"text-align: right;\">            4</td><td style=\"text-align: right;\">             32</td><td style=\"text-align: right;\">0.0001</td><td style=\"text-align: right;\">          0.001</td></tr>\n",
       "<tr><td>TrainLightGCN_0123ae2a</td><td>ERROR   </td><td>147.96.25.138:35987</td><td style=\"text-align: right;\">                2</td><td style=\"text-align: right;\">          64</td><td style=\"text-align: right;\">            4</td><td style=\"text-align: right;\">             32</td><td style=\"text-align: right;\">0.0001</td><td style=\"text-align: right;\">          0.001</td></tr>\n",
       "<tr><td>TrainLightGCN_17633c09</td><td>ERROR   </td><td>147.96.25.138:36021</td><td style=\"text-align: right;\">                3</td><td style=\"text-align: right;\">          64</td><td style=\"text-align: right;\">            4</td><td style=\"text-align: right;\">             32</td><td style=\"text-align: right;\">0.0001</td><td style=\"text-align: right;\">          0.001</td></tr>\n",
       "<tr><td>TrainLightGCN_5e4f57da</td><td>ERROR   </td><td>147.96.25.138:36056</td><td style=\"text-align: right;\">                4</td><td style=\"text-align: right;\">          64</td><td style=\"text-align: right;\">            4</td><td style=\"text-align: right;\">             32</td><td style=\"text-align: right;\">0.0001</td><td style=\"text-align: right;\">          0.001</td></tr>\n",
       "</tbody>\n",
       "</table>\n",
       "  </div>\n",
       "</div>\n",
       "<style>\n",
       ".tuneStatus {\n",
       "  color: var(--jp-ui-font-color1);\n",
       "}\n",
       ".tuneStatus .systemInfo {\n",
       "  display: flex;\n",
       "  flex-direction: column;\n",
       "}\n",
       ".tuneStatus td {\n",
       "  white-space: nowrap;\n",
       "}\n",
       ".tuneStatus .trialStatus {\n",
       "  display: flex;\n",
       "  flex-direction: column;\n",
       "}\n",
       ".tuneStatus h3 {\n",
       "  font-weight: bold;\n",
       "}\n",
       ".tuneStatus .hDivider {\n",
       "  border-bottom-width: var(--jp-border-width);\n",
       "  border-bottom-color: var(--jp-border-color0);\n",
       "  border-bottom-style: solid;\n",
       "}\n",
       ".tuneStatus .vDivider {\n",
       "  border-left-width: var(--jp-border-width);\n",
       "  border-left-color: var(--jp-border-color0);\n",
       "  border-left-style: solid;\n",
       "  margin: 0.5em 1em 0.5em 1em;\n",
       "}\n",
       "</style>\n"
      ],
      "text/plain": [
       "<IPython.core.display.HTML object>"
      ]
     },
     "metadata": {},
     "output_type": "display_data"
    },
    {
     "name": "stderr",
     "output_type": "stream",
     "text": [
      "2023-09-26 15:31:01,805\tERROR tune_controller.py:1502 -- Trial task failed for trial TrainLightGCN_39614ea3\n",
      "Traceback (most recent call last):\n",
      "  File \"/home/davo/Documents/MUIA/upm-tfm-notebooks/.direnv/python-3.11/lib/python3.11/site-packages/ray/air/execution/_internal/event_manager.py\", line 110, in resolve_future\n",
      "    result = ray.get(future)\n",
      "             ^^^^^^^^^^^^^^^\n",
      "  File \"/home/davo/Documents/MUIA/upm-tfm-notebooks/.direnv/python-3.11/lib/python3.11/site-packages/ray/_private/auto_init_hook.py\", line 24, in auto_init_wrapper\n",
      "    return fn(*args, **kwargs)\n",
      "           ^^^^^^^^^^^^^^^^^^^\n",
      "  File \"/home/davo/Documents/MUIA/upm-tfm-notebooks/.direnv/python-3.11/lib/python3.11/site-packages/ray/_private/client_mode_hook.py\", line 103, in wrapper\n",
      "    return func(*args, **kwargs)\n",
      "           ^^^^^^^^^^^^^^^^^^^^^\n",
      "  File \"/home/davo/Documents/MUIA/upm-tfm-notebooks/.direnv/python-3.11/lib/python3.11/site-packages/ray/_private/worker.py\", line 2547, in get\n",
      "    raise value.as_instanceof_cause()\n",
      "ray.exceptions.RayTaskError(NameError): \u001b[36mray::_Inner.train()\u001b[39m (pid=35920, ip=147.96.25.138, actor_id=5cd369bd774a41598219e83601000000, repr=<ray.tune.trainable.util.TrainLightGCN object at 0x7f91e3e73dd0>)\n",
      "           ^^^^^^^^^^^^^^^^^^^^^^^^^^^^^^^^^^^^\n",
      "           ^^^^^^^^^^^^^^^^^^^^^^^^^^^^^^^\n",
      "  File \"/home/davo/Documents/MUIA/upm-tfm-notebooks/.direnv/python-3.11/lib/python3.11/site-packages/ray/tune/trainable/trainable.py\", line 400, in train\n",
      "    raise skipped from exception_cause(skipped)\n",
      "  File \"/home/davo/Documents/MUIA/upm-tfm-notebooks/.direnv/python-3.11/lib/python3.11/site-packages/ray/tune/trainable/trainable.py\", line 397, in train\n",
      "    result = self.step()\n",
      "             ^^^^^^^^^^^\n",
      "           ^^^^^^^^^^^^^^^^^^^^^^^^^^^^^^^\n",
      "  File \"/tmp/ipykernel_35580/2996834937.py\", line 27, in step\n",
      "NameError: name 'train_loader' is not defined\n"
     ]
    },
    {
     "name": "stdout",
     "output_type": "stream",
     "text": [
      "\u001b[2m\u001b[36m(TrainLightGCN pid=35920)\u001b[0m {'batch_size': 64, 'learning_rate': 0.001, 'embedding_dim': 32, 'conv_layers': 4, 'l2': 0.0001, '__trial_index__': 0}\n"
     ]
    },
    {
     "name": "stderr",
     "output_type": "stream",
     "text": [
      "2023-09-26 15:31:03,736\tERROR tune_controller.py:1502 -- Trial task failed for trial TrainLightGCN_622da3b9\n",
      "Traceback (most recent call last):\n",
      "  File \"/home/davo/Documents/MUIA/upm-tfm-notebooks/.direnv/python-3.11/lib/python3.11/site-packages/ray/air/execution/_internal/event_manager.py\", line 110, in resolve_future\n",
      "    result = ray.get(future)\n",
      "             ^^^^^^^^^^^^^^^\n",
      "  File \"/home/davo/Documents/MUIA/upm-tfm-notebooks/.direnv/python-3.11/lib/python3.11/site-packages/ray/_private/auto_init_hook.py\", line 24, in auto_init_wrapper\n",
      "    return fn(*args, **kwargs)\n",
      "           ^^^^^^^^^^^^^^^^^^^\n",
      "  File \"/home/davo/Documents/MUIA/upm-tfm-notebooks/.direnv/python-3.11/lib/python3.11/site-packages/ray/_private/client_mode_hook.py\", line 103, in wrapper\n",
      "    return func(*args, **kwargs)\n",
      "           ^^^^^^^^^^^^^^^^^^^^^\n",
      "  File \"/home/davo/Documents/MUIA/upm-tfm-notebooks/.direnv/python-3.11/lib/python3.11/site-packages/ray/_private/worker.py\", line 2547, in get\n",
      "    raise value.as_instanceof_cause()\n",
      "ray.exceptions.RayTaskError(NameError): \u001b[36mray::_Inner.train()\u001b[39m (pid=35956, ip=147.96.25.138, actor_id=c4a77b0a80c4170fa35d9e5601000000, repr=<ray.tune.trainable.util.TrainLightGCN object at 0x7fa88ca980d0>)\n",
      "           ^^^^^^^^^^^^^^^^^^^^^^^^^^^^^^^^^^^^\n",
      "           ^^^^^^^^^^^^^^^^^^^^^^^^^^^^^^^\n",
      "  File \"/home/davo/Documents/MUIA/upm-tfm-notebooks/.direnv/python-3.11/lib/python3.11/site-packages/ray/tune/trainable/trainable.py\", line 400, in train\n",
      "    raise skipped from exception_cause(skipped)\n",
      "  File \"/home/davo/Documents/MUIA/upm-tfm-notebooks/.direnv/python-3.11/lib/python3.11/site-packages/ray/tune/trainable/trainable.py\", line 397, in train\n",
      "    result = self.step()\n",
      "             ^^^^^^^^^^^\n",
      "           ^^^^^^^^^^^^^^^^^^^^^^^^^^^^^^^\n",
      "  File \"/tmp/ipykernel_35580/2996834937.py\", line 27, in step\n",
      "NameError: name 'train_loader' is not defined\n",
      "2023-09-26 15:31:05,746\tERROR tune_controller.py:1502 -- Trial task failed for trial TrainLightGCN_0123ae2a\n",
      "Traceback (most recent call last):\n",
      "  File \"/home/davo/Documents/MUIA/upm-tfm-notebooks/.direnv/python-3.11/lib/python3.11/site-packages/ray/air/execution/_internal/event_manager.py\", line 110, in resolve_future\n",
      "    result = ray.get(future)\n",
      "             ^^^^^^^^^^^^^^^\n",
      "  File \"/home/davo/Documents/MUIA/upm-tfm-notebooks/.direnv/python-3.11/lib/python3.11/site-packages/ray/_private/auto_init_hook.py\", line 24, in auto_init_wrapper\n",
      "    return fn(*args, **kwargs)\n",
      "           ^^^^^^^^^^^^^^^^^^^\n",
      "  File \"/home/davo/Documents/MUIA/upm-tfm-notebooks/.direnv/python-3.11/lib/python3.11/site-packages/ray/_private/client_mode_hook.py\", line 103, in wrapper\n",
      "    return func(*args, **kwargs)\n",
      "           ^^^^^^^^^^^^^^^^^^^^^\n",
      "  File \"/home/davo/Documents/MUIA/upm-tfm-notebooks/.direnv/python-3.11/lib/python3.11/site-packages/ray/_private/worker.py\", line 2547, in get\n",
      "    raise value.as_instanceof_cause()\n",
      "ray.exceptions.RayTaskError(NameError): \u001b[36mray::_Inner.train()\u001b[39m (pid=35987, ip=147.96.25.138, actor_id=9738d9a976b794f7a2c06df501000000, repr=<ray.tune.trainable.util.TrainLightGCN object at 0x7fda3b83ba50>)\n",
      "           ^^^^^^^^^^^^^^^^^^^^^^^^^^^^^^^^^^^^\n",
      "           ^^^^^^^^^^^^^^^^^^^^^^^^^^^^^^^\n",
      "  File \"/home/davo/Documents/MUIA/upm-tfm-notebooks/.direnv/python-3.11/lib/python3.11/site-packages/ray/tune/trainable/trainable.py\", line 400, in train\n",
      "    raise skipped from exception_cause(skipped)\n",
      "  File \"/home/davo/Documents/MUIA/upm-tfm-notebooks/.direnv/python-3.11/lib/python3.11/site-packages/ray/tune/trainable/trainable.py\", line 397, in train\n",
      "    result = self.step()\n",
      "             ^^^^^^^^^^^\n",
      "           ^^^^^^^^^^^^^^^^^^^^^^^^^^^^^^^\n",
      "  File \"/tmp/ipykernel_35580/2996834937.py\", line 27, in step\n",
      "NameError: name 'train_loader' is not defined\n",
      "2023-09-26 15:31:07,735\tERROR tune_controller.py:1502 -- Trial task failed for trial TrainLightGCN_17633c09\n",
      "Traceback (most recent call last):\n",
      "  File \"/home/davo/Documents/MUIA/upm-tfm-notebooks/.direnv/python-3.11/lib/python3.11/site-packages/ray/air/execution/_internal/event_manager.py\", line 110, in resolve_future\n",
      "    result = ray.get(future)\n",
      "             ^^^^^^^^^^^^^^^\n",
      "  File \"/home/davo/Documents/MUIA/upm-tfm-notebooks/.direnv/python-3.11/lib/python3.11/site-packages/ray/_private/auto_init_hook.py\", line 24, in auto_init_wrapper\n",
      "    return fn(*args, **kwargs)\n",
      "           ^^^^^^^^^^^^^^^^^^^\n",
      "  File \"/home/davo/Documents/MUIA/upm-tfm-notebooks/.direnv/python-3.11/lib/python3.11/site-packages/ray/_private/client_mode_hook.py\", line 103, in wrapper\n",
      "    return func(*args, **kwargs)\n",
      "           ^^^^^^^^^^^^^^^^^^^^^\n",
      "  File \"/home/davo/Documents/MUIA/upm-tfm-notebooks/.direnv/python-3.11/lib/python3.11/site-packages/ray/_private/worker.py\", line 2547, in get\n",
      "    raise value.as_instanceof_cause()\n",
      "ray.exceptions.RayTaskError(NameError): \u001b[36mray::_Inner.train()\u001b[39m (pid=36021, ip=147.96.25.138, actor_id=3909393bfd1806860910bde901000000, repr=<ray.tune.trainable.util.TrainLightGCN object at 0x7f1f45449210>)\n",
      "           ^^^^^^^^^^^^^^^^^^^^^^^^^^^^^^^^^^^^\n",
      "           ^^^^^^^^^^^^^^^^^^^^^^^^^^^^^^^\n",
      "  File \"/home/davo/Documents/MUIA/upm-tfm-notebooks/.direnv/python-3.11/lib/python3.11/site-packages/ray/tune/trainable/trainable.py\", line 400, in train\n",
      "    raise skipped from exception_cause(skipped)\n",
      "  File \"/home/davo/Documents/MUIA/upm-tfm-notebooks/.direnv/python-3.11/lib/python3.11/site-packages/ray/tune/trainable/trainable.py\", line 397, in train\n",
      "    result = self.step()\n",
      "             ^^^^^^^^^^^\n",
      "           ^^^^^^^^^^^^^^^^^^^^^^^^^^^^^^^\n",
      "  File \"/tmp/ipykernel_35580/2996834937.py\", line 27, in step\n",
      "NameError: name 'train_loader' is not defined\n"
     ]
    },
    {
     "name": "stdout",
     "output_type": "stream",
     "text": [
      "\u001b[2m\u001b[36m(TrainLightGCN pid=36021)\u001b[0m {'batch_size': 64, 'learning_rate': 0.001, 'embedding_dim': 32, 'conv_layers': 4, 'l2': 0.0001, '__trial_index__': 3}\u001b[32m [repeated 3x across cluster] (Ray deduplicates logs by default. Set RAY_DEDUP_LOGS=0 to disable log deduplication, or see https://docs.ray.io/en/master/ray-observability/ray-logging.html#log-deduplication for more options.)\u001b[0m\n"
     ]
    },
    {
     "name": "stderr",
     "output_type": "stream",
     "text": [
      "2023-09-26 15:31:09,780\tERROR tune_controller.py:1502 -- Trial task failed for trial TrainLightGCN_5e4f57da\n",
      "Traceback (most recent call last):\n",
      "  File \"/home/davo/Documents/MUIA/upm-tfm-notebooks/.direnv/python-3.11/lib/python3.11/site-packages/ray/air/execution/_internal/event_manager.py\", line 110, in resolve_future\n",
      "    result = ray.get(future)\n",
      "             ^^^^^^^^^^^^^^^\n",
      "  File \"/home/davo/Documents/MUIA/upm-tfm-notebooks/.direnv/python-3.11/lib/python3.11/site-packages/ray/_private/auto_init_hook.py\", line 24, in auto_init_wrapper\n",
      "    return fn(*args, **kwargs)\n",
      "           ^^^^^^^^^^^^^^^^^^^\n",
      "  File \"/home/davo/Documents/MUIA/upm-tfm-notebooks/.direnv/python-3.11/lib/python3.11/site-packages/ray/_private/client_mode_hook.py\", line 103, in wrapper\n",
      "    return func(*args, **kwargs)\n",
      "           ^^^^^^^^^^^^^^^^^^^^^\n",
      "  File \"/home/davo/Documents/MUIA/upm-tfm-notebooks/.direnv/python-3.11/lib/python3.11/site-packages/ray/_private/worker.py\", line 2547, in get\n",
      "    raise value.as_instanceof_cause()\n",
      "ray.exceptions.RayTaskError(NameError): \u001b[36mray::_Inner.train()\u001b[39m (pid=36056, ip=147.96.25.138, actor_id=e4d79047d0557ee3139a5c7601000000, repr=<ray.tune.trainable.util.TrainLightGCN object at 0x7f519f1f06d0>)\n",
      "           ^^^^^^^^^^^^^^^^^^^^^^^^^^^^^^^^^^^^\n",
      "           ^^^^^^^^^^^^^^^^^^^^^^^^^^^^^^^\n",
      "  File \"/home/davo/Documents/MUIA/upm-tfm-notebooks/.direnv/python-3.11/lib/python3.11/site-packages/ray/tune/trainable/trainable.py\", line 400, in train\n",
      "    raise skipped from exception_cause(skipped)\n",
      "  File \"/home/davo/Documents/MUIA/upm-tfm-notebooks/.direnv/python-3.11/lib/python3.11/site-packages/ray/tune/trainable/trainable.py\", line 397, in train\n",
      "    result = self.step()\n",
      "             ^^^^^^^^^^^\n",
      "           ^^^^^^^^^^^^^^^^^^^^^^^^^^^^^^^\n",
      "  File \"/tmp/ipykernel_35580/2996834937.py\", line 27, in step\n",
      "NameError: name 'train_loader' is not defined\n",
      "/home/davo/Documents/MUIA/upm-tfm-notebooks/.direnv/python-3.11/lib/python3.11/site-packages/ray/tune/search/repeater.py:176: RuntimeWarning: Mean of empty slice\n",
      "  result={self.searcher.metric: np.nanmean(scores)},\n",
      "2023-09-26 15:31:09,787\tERROR tune.py:1139 -- Trials did not complete: [TrainLightGCN_39614ea3, TrainLightGCN_622da3b9, TrainLightGCN_0123ae2a, TrainLightGCN_17633c09, TrainLightGCN_5e4f57da]\n",
      "2023-09-26 15:31:09,788\tINFO tune.py:1143 -- Total run time: 10.03 seconds (10.01 seconds for the tuning loop).\n"
     ]
    },
    {
     "data": {
      "text/plain": [
       "ResultGrid<[\n",
       "  Result(\n",
       "    error='RayTaskError(NameError)',\n",
       "    metrics={},\n",
       "    path='/home/davo/ray_results/TrainLightGCN_2023-09-26_15-30-56/TrainLightGCN_39614ea3_1_trial_index=0,batch_size=64,conv_layers=4,embedding_dim=32,l2=0.0001,learning_rate=0.0010_2023-09-26_15-30-59',\n",
       "    filesystem='local',\n",
       "    checkpoint=None\n",
       "  ),\n",
       "  Result(\n",
       "    error='RayTaskError(NameError)',\n",
       "    metrics={},\n",
       "    path='/home/davo/ray_results/TrainLightGCN_2023-09-26_15-30-56/TrainLightGCN_622da3b9_2_trial_index=1,batch_size=64,conv_layers=4,embedding_dim=32,l2=0.0001,learning_rate=0.0010_2023-09-26_15-31-01',\n",
       "    filesystem='local',\n",
       "    checkpoint=None\n",
       "  ),\n",
       "  Result(\n",
       "    error='RayTaskError(NameError)',\n",
       "    metrics={},\n",
       "    path='/home/davo/ray_results/TrainLightGCN_2023-09-26_15-30-56/TrainLightGCN_0123ae2a_3_trial_index=2,batch_size=64,conv_layers=4,embedding_dim=32,l2=0.0001,learning_rate=0.0010_2023-09-26_15-31-03',\n",
       "    filesystem='local',\n",
       "    checkpoint=None\n",
       "  ),\n",
       "  Result(\n",
       "    error='RayTaskError(NameError)',\n",
       "    metrics={},\n",
       "    path='/home/davo/ray_results/TrainLightGCN_2023-09-26_15-30-56/TrainLightGCN_17633c09_4_trial_index=3,batch_size=64,conv_layers=4,embedding_dim=32,l2=0.0001,learning_rate=0.0010_2023-09-26_15-31-05',\n",
       "    filesystem='local',\n",
       "    checkpoint=None\n",
       "  ),\n",
       "  Result(\n",
       "    error='RayTaskError(NameError)',\n",
       "    metrics={},\n",
       "    path='/home/davo/ray_results/TrainLightGCN_2023-09-26_15-30-56/TrainLightGCN_5e4f57da_5_trial_index=4,batch_size=64,conv_layers=4,embedding_dim=32,l2=0.0001,learning_rate=0.0010_2023-09-26_15-31-07',\n",
       "    filesystem='local',\n",
       "    checkpoint=None\n",
       "  )\n",
       "]>"
      ]
     },
     "execution_count": 8,
     "metadata": {},
     "output_type": "execute_result"
    }
   ],
   "source": [
    "from ray.tune.search.hyperopt import HyperOptSearch\n",
    "\n",
    "search_alg = HyperOptSearch()\n",
    "search_alg = tune.search.Repeater(search_alg, NUM_FOLDS)\n",
    "\n",
    "tuner = tune.Tuner(\n",
    "    tune.with_parameters(TrainLightGCN, folds=folds, original=original),\n",
    "    run_config=train.RunConfig(\n",
    "        stop={'training_iteration': MAX_ITERS}\n",
    "    ),\n",
    "    param_space=dict(\n",
    "        batch_size=64,\n",
    "        learning_rate=0.001,\n",
    "        embedding_dim=32,\n",
    "        conv_layers=tune.randint(2,6),\n",
    "        l2=1e-4,\n",
    "    ),\n",
    "    tune_config=tune.TuneConfig(\n",
    "        search_alg=search_alg,\n",
    "        num_samples=NUM_FOLDS*NUM_SAMPLES,\n",
    "        metric='loss',\n",
    "        mode='min',\n",
    "    )\n",
    ")\n",
    "tuner.fit()"
   ]
  },
  {
   "cell_type": "code",
   "execution_count": null,
   "id": "d39d82d0-2125-4f39-ab7b-cfd101542ffe",
   "metadata": {},
   "outputs": [],
   "source": []
  }
 ],
 "metadata": {
  "kernelspec": {
   "display_name": "Python 3 (ipykernel)",
   "language": "python",
   "name": "python3"
  },
  "language_info": {
   "codemirror_mode": {
    "name": "ipython",
    "version": 3
   },
   "file_extension": ".py",
   "mimetype": "text/x-python",
   "name": "python",
   "nbconvert_exporter": "python",
   "pygments_lexer": "ipython3",
   "version": "3.11.5"
  },
  "widgets": {
   "application/vnd.jupyter.widget-state+json": {
    "state": {},
    "version_major": 2,
    "version_minor": 0
   }
  }
 },
 "nbformat": 4,
 "nbformat_minor": 5
}
