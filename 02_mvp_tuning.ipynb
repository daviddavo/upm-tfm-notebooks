{
 "cells": [
  {
   "cell_type": "markdown",
   "metadata": {},
   "source": [
    "Based on Pytorch Geometric official example: https://github.com/pyg-team/pytorch_geometric/blob/master/examples/lightgcn.py"
   ]
  },
  {
   "cell_type": "code",
   "execution_count": null,
   "metadata": {
    "_cell_guid": "b1076dfc-b9ad-4769-8c92-a6c4dae69d19",
    "_uuid": "8f2839f25d086af736a60e9eeb907d3b93b6e0e5",
    "execution": {
     "iopub.status.busy": "2023-08-16T11:31:19.478266Z",
     "iopub.status.idle": "2023-08-16T11:31:19.478404Z",
     "shell.execute_reply": "2023-08-16T11:31:19.478346Z",
     "shell.execute_reply.started": "2023-08-16T11:31:19.478340Z"
    }
   },
   "outputs": [],
   "source": [
    "import os\n",
    "from pathlib import Path\n",
    "import random\n",
    "\n",
    "import datetime as dt\n",
    "import itertools as it\n",
    "import functools as ft\n",
    "\n",
    "from collections import namedtuple\n",
    "\n",
    "from tqdm.notebook import tqdm # Progress bars\n",
    "from tqdm.autonotebook import tqdm, trange\n",
    "\n",
    "# https://import-as.github.io\n",
    "import numpy as np # linear algebra\n",
    "import pandas as pd # data processing, CSV file I/O (e.g. pd.read_csv)\n",
    "\n",
    "import sklearn as sk\n",
    "from sklearn import preprocessing as pp\n",
    "\n",
    "import torch\n",
    "import torch.nn as nn\n",
    "import torch.nn.functional as F\n",
    "import torch_geometric as PyG\n",
    "from torch_geometric.nn.conv import MessagePassing\n",
    "from ray import tune\n",
    "from ray.air import Checkpoint, session\n",
    "\n",
    "import matplotlib.pyplot as plt\n",
    "import plotly.express as px\n",
    "import plotly.graph_objects as go\n",
    "\n",
    "import src\n",
    "from src.data import get_df, filter_df\n",
    "from src.neg_sampling import structured_negative_sampling\n",
    "\n",
    "RANDOM_SEED = 1701"
   ]
  },
  {
   "cell_type": "markdown",
   "metadata": {},
   "source": [
    "Hyperparameters table in [Google Drive](https://docs.google.com/spreadsheets/d/1riafpWt1563w9pbqdt1g2QZVkc7TfRWGzFaCG5rudDI/edit?usp=sharing)"
   ]
  },
  {
   "cell_type": "code",
   "execution_count": null,
   "metadata": {
    "editable": true,
    "execution": {
     "iopub.status.busy": "2023-08-16T11:31:19.478966Z",
     "iopub.status.idle": "2023-08-16T11:31:19.479145Z",
     "shell.execute_reply": "2023-08-16T11:31:19.479088Z",
     "shell.execute_reply.started": "2023-08-16T11:31:19.479081Z"
    },
    "slideshow": {
     "slide_type": ""
    },
    "tags": [
     "parameters"
    ]
   },
   "outputs": [],
   "source": [
    "# Remove users with less than 6 votes from the dataset before splitting\n",
    "DatasetConfig = namedtuple('DatasetConfig', ('min_votes_per_user', 'allowed_dao_names', 'num_folds'))\n",
    "datasetConfig = DatasetConfig(\n",
    "    min_votes_per_user=6,\n",
    "    allowed_dao_names={'dxDAO', 'xDXdao'},\n",
    "    num_folds=5,\n",
    ")\n",
    "\n",
    "ModelConfig = namedtuple('ModelConfig', 'max_epochs batch_size learning_rate embedding_dim conv_layers l2')\n",
    "modelConfig = ModelConfig(\n",
    "    max_epochs=50,\n",
    "    batch_size=16,\n",
    "    learning_rate=0.0001,\n",
    "    embedding_dim=32,\n",
    "    conv_layers=3,\n",
    "    l2=1e-4,\n",
    ")"
   ]
  },
  {
   "cell_type": "markdown",
   "metadata": {},
   "source": [
    "# Reading data"
   ]
  },
  {
   "cell_type": "code",
   "execution_count": null,
   "metadata": {
    "execution": {
     "iopub.status.busy": "2023-08-16T11:31:19.479478Z",
     "iopub.status.idle": "2023-08-16T11:31:19.479592Z",
     "shell.execute_reply": "2023-08-16T11:31:19.479541Z",
     "shell.execute_reply.started": "2023-08-16T11:31:19.479535Z"
    }
   },
   "outputs": [],
   "source": [
    "import torch\n",
    "from torch_geometric.data import InMemoryDataset, HeteroData, Data\n",
    "from src.datasets import Daostack\n",
    "\n",
    "def print_graph_stats(g: HeteroData):\n",
    "    density = (g.num_edges) / (g.num_nodes*(g.num_nodes-1))\n",
    "    print(f'Edges:   {g.num_edges:12}')\n",
    "    print(f'Density: {density*100:12.4f}%')\n",
    "\n",
    "data = Daostack(\"./data/dao-analyzer/\", min_vpu=datasetConfig.min_votes_per_user, allowed_daos=datasetConfig.allowed_dao_names)[0]\n",
    "print_graph_stats(data)\n",
    "data"
   ]
  },
  {
   "cell_type": "markdown",
   "metadata": {},
   "source": [
    "At first, I thought the RandomLinkSplit function was not working properly, but it turns out that I wasn't understanding it very well. The tutorial I used for [01_mvp](./01_mvp.ipynb) is not very good either, it was written by students, and implemented before PyTorch Geometric bundled the LightGCN model with it.\n",
    "\n",
    "> I think this is totally correct. It seems like you are looking at the shapes of edge_index, while you may want to look at the shapes of edge_label and edge_label_index (which correctly model a 80/10/10 split ratio). Here, edge_index is solely used for message passing, i.e.,\n",
    "> \n",
    "> * for training, we exchange messages on all training edges\n",
    "> * for validation, we exchange messages on all training edges\n",
    "> * for testing, we exchange messages on all training and validation edges\n",
    "> Let me know if this resolves your concerns :)\n",
    ">\n",
    "> -- [Split Error in RandomLinkSplit · Issue #3668 · pyg-team/pytorch_geometric · GitHub](https://github.com/pyg-team/pytorch_geometric/issues/3668)"
   ]
  },
  {
   "cell_type": "code",
   "execution_count": null,
   "metadata": {
    "execution": {
     "iopub.status.busy": "2023-08-16T11:31:19.480047Z",
     "iopub.status.idle": "2023-08-16T11:31:19.480196Z",
     "shell.execute_reply": "2023-08-16T11:31:19.480136Z",
     "shell.execute_reply.started": "2023-08-16T11:31:19.480126Z"
    }
   },
   "outputs": [],
   "source": [
    "def get_train_val_test(g: Data | HeteroData, train_ratio=0.75):\n",
    "    t = ft.partial(PyG.transforms.RandomLinkSplit, \n",
    "        is_undirected=True,\n",
    "        num_val=1-train_ratio,\n",
    "        # split_labels=True,\n",
    "        add_negative_train_samples=True,\n",
    "        num_test=0,\n",
    "    )\n",
    "    \n",
    "    if isinstance(g, HeteroData):\n",
    "        t = t(\n",
    "            edge_types=[g.edge_types[0]],\n",
    "            rev_edge_types=[g.edge_types[1]] if len(g.edge_types) > 1 else None,\n",
    "        )\n",
    "    elif isinstance(g, Data):\n",
    "        t = t()\n",
    "            \n",
    "    return t(g)\n",
    "\n",
    "tr, val, ts = get_train_val_test(data, train_ratio=7/8)\n",
    "tr, val, ts"
   ]
  },
  {
   "cell_type": "code",
   "execution_count": null,
   "metadata": {
    "execution": {
     "iopub.status.busy": "2023-08-16T11:31:19.480543Z",
     "iopub.status.idle": "2023-08-16T11:31:19.480664Z",
     "shell.execute_reply": "2023-08-16T11:31:19.480608Z",
     "shell.execute_reply.started": "2023-08-16T11:31:19.480602Z"
    }
   },
   "outputs": [],
   "source": [
    "from sklearn.model_selection import StratifiedKFold\n",
    "\n",
    "def graph_k_fold(g: Data | HeteroData, folds, edge_type=None):\n",
    "    skf = StratifiedKFold(folds, shuffle=True, random_state=RANDOM_SEED)\n",
    "\n",
    "    folds = []\n",
    "\n",
    "    # Stratify by voter\n",
    "    if edge_type is None:\n",
    "        edge_type = g.edge_types[0]\n",
    "        rev_edge_type = g.edge_types[1]\n",
    "        \n",
    "    edge_index = g[edge_type].edge_index\n",
    "    for train_idx, val_idx in skf.split(torch.zeros(edge_index.size(1)), edge_index[0]):\n",
    "        gtrain = g.edge_subgraph({\n",
    "            edge_type:torch.tensor(train_idx),\n",
    "            rev_edge_type:torch.tensor(train_idx),\n",
    "        })\n",
    "        assert gtrain.is_undirected()\n",
    "        assert len(gtrain[edge_type].edge_index[0].unique()) == len(g[edge_type].edge_index[0].unique())\n",
    "        # The negative samples should be different each epoch\n",
    "        # gtrain[edge_type].negative_samples = structured_negative_sampling(gtrain[edge_type].edge_index, (aux[edge_type[0]].num_nodes, aux[edge_type[2]].num_nodes))[2]\n",
    "        gval = g.edge_subgraph({\n",
    "            edge_type:torch.tensor(val_idx),\n",
    "            rev_edge_type:torch.tensor(val_idx),\n",
    "        })\n",
    "        assert gval.is_undirected()\n",
    "        assert len(gval[edge_type].edge_index[0].unique()) == len(g[edge_type].edge_index[0].unique())\n",
    "        assert (gtrain[edge_type].edge_index[0].unique() == gval[edge_type].edge_index[0].unique()).all()\n",
    "\n",
    "        folds.append((gtrain, gval))\n",
    "\n",
    "    return folds\n",
    "\n",
    "graph_folds = graph_k_fold(data, datasetConfig.num_folds)\n",
    "graph_folds"
   ]
  },
  {
   "cell_type": "code",
   "execution_count": null,
   "metadata": {
    "execution": {
     "iopub.status.busy": "2023-08-16T11:31:19.481586Z",
     "iopub.status.idle": "2023-08-16T11:31:19.481701Z",
     "shell.execute_reply": "2023-08-16T11:31:19.481647Z",
     "shell.execute_reply.started": "2023-08-16T11:31:19.481642Z"
    }
   },
   "outputs": [],
   "source": [
    "def ensure_homogeneous(*args, **kwargs):\n",
    "    def _apply(g):\n",
    "        if isinstance(g, HeteroData):\n",
    "            hg = g.to_homogeneous(**kwargs)\n",
    "            # Removing final na\n",
    "            if hasattr(hg, 'edge_label'):\n",
    "                assert hg.edge_label[hg.edge_label_index.size(1):].isnan().all()\n",
    "                hg.edge_label = hg.edge_label[:hg.edge_label_index.size(1)].bool()\n",
    "            # Shifting negative samples\n",
    "            if hasattr(hg, 'negative_samples'):\n",
    "                msk = hg.negative_samples != -1\n",
    "                hg.negative_samples[msk] += g['voter'].num_nodes\n",
    "            return hg\n",
    "        else:\n",
    "            return g\n",
    "\n",
    "    ret = tuple(_apply(g) for g in args)\n",
    "    if len(ret) == 1:\n",
    "        return ret[0]\n",
    "    else:\n",
    "        return ret\n",
    "\n",
    "_aux = ensure_homogeneous(val)\n",
    "_aux"
   ]
  },
  {
   "cell_type": "code",
   "execution_count": null,
   "metadata": {
    "execution": {
     "iopub.status.busy": "2023-08-16T11:31:19.482091Z",
     "iopub.status.idle": "2023-08-16T11:31:19.482203Z",
     "shell.execute_reply": "2023-08-16T11:31:19.482153Z",
     "shell.execute_reply.started": "2023-08-16T11:31:19.482147Z"
    }
   },
   "outputs": [],
   "source": [
    "def shift_edge_indices(g: HeteroData):\n",
    "    g = g.clone()\n",
    "    total = 0\n",
    "    for n, s in g.node_items():\n",
    "        s.shift = total\n",
    "        total += s.num_nodes\n",
    "        s.end = total\n",
    "\n",
    "    for (src, _, dst), s in g.edge_items():\n",
    "        s.edge_index[0] += g[src].shift\n",
    "        s.edge_index[1] += g[dst].shift\n",
    "    \n",
    "    return g\n",
    "\n",
    "def unshift_edge_indices(g: HeteroData):\n",
    "    g = g.clone()\n",
    "\n",
    "    for (src, _, dst), s in g.edge_items():\n",
    "        s.edge_index[0] -= g[src].shift\n",
    "        s.edge_index[1] -= g[dst].shift\n",
    "\n",
    "    for n, s in g.node_items():\n",
    "        del s.shift\n",
    "\n",
    "    return g\n",
    "\n",
    "assert unshift_edge_indices(shift_edge_indices(graph_folds[0][0])).validate()\n",
    "shift_edge_indices(graph_folds[0][0])"
   ]
  },
  {
   "cell_type": "markdown",
   "metadata": {},
   "source": [
    "## Using the LightGCN"
   ]
  },
  {
   "cell_type": "code",
   "execution_count": null,
   "metadata": {
    "execution": {
     "iopub.status.busy": "2023-08-16T11:31:19.483774Z",
     "iopub.status.idle": "2023-08-16T11:31:19.483912Z",
     "shell.execute_reply": "2023-08-16T11:31:19.483845Z",
     "shell.execute_reply.started": "2023-08-16T11:31:19.483838Z"
    }
   },
   "outputs": [],
   "source": [
    "# Get cpu, gpu or mps device for training.\n",
    "device = (\n",
    "    \"cuda\"\n",
    "    if torch.cuda.is_available()\n",
    "    else \"mps\"\n",
    "    if torch.backends.mps.is_available()\n",
    "    else \"cpu\"\n",
    ")\n",
    "print(f\"Using {device} device\")"
   ]
  },
  {
   "cell_type": "code",
   "execution_count": 25,
   "metadata": {
    "execution": {
     "iopub.execute_input": "2023-08-16T15:14:47.522440Z",
     "iopub.status.busy": "2023-08-16T15:14:47.521985Z",
     "iopub.status.idle": "2023-08-16T15:14:55.201688Z",
     "shell.execute_reply": "2023-08-16T15:14:55.201090Z",
     "shell.execute_reply.started": "2023-08-16T15:14:47.522415Z"
    }
   },
   "outputs": [
    {
     "name": "stderr",
     "output_type": "stream",
     "text": [
      "2023-08-16 17:14:47,538\tWARNING session.py:100 -- In neither tune session nor train session!\n"
     ]
    },
    {
     "data": {
      "application/vnd.jupyter.widget-view+json": {
       "model_id": "75e6928b687d43d999262391f0392a0f",
       "version_major": 2,
       "version_minor": 0
      },
      "text/plain": [
       "  0%|          | 0/2 [00:00<?, ?it/s]"
      ]
     },
     "metadata": {},
     "output_type": "display_data"
    },
    {
     "data": {
      "application/vnd.jupyter.widget-view+json": {
       "model_id": "",
       "version_major": 2,
       "version_minor": 0
      },
      "text/plain": [
       " 16%|#6        | 67/416 [00:01<00:05, 66.36it/s]"
      ]
     },
     "metadata": {},
     "output_type": "display_data"
    },
    {
     "name": "stderr",
     "output_type": "stream",
     "text": [
      "2023-08-16 17:14:51,473\tWARNING session.py:100 -- In neither tune session nor train session!\n"
     ]
    },
    {
     "data": {
      "application/vnd.jupyter.widget-view+json": {
       "model_id": "",
       "version_major": 2,
       "version_minor": 0
      },
      "text/plain": [
       " 25%|##5       | 105/416 [00:01<00:02, 104.75it/s]"
      ]
     },
     "metadata": {},
     "output_type": "display_data"
    },
    {
     "name": "stderr",
     "output_type": "stream",
     "text": [
      "2023-08-16 17:14:55,193\tWARNING session.py:100 -- In neither tune session nor train session!\n"
     ]
    },
    {
     "data": {
      "text/plain": [
       "(None,)"
      ]
     },
     "execution_count": 25,
     "metadata": {},
     "output_type": "execute_result"
    }
   ],
   "source": [
    "from torch_geometric.nn import LightGCN\n",
    "\n",
    "# Based on:\n",
    "# - https://pytorch.org/tutorials/beginner/blitz/cifar10_tutorial.html\n",
    "# - https://pytorch.org/tutorials/beginner/hyperparameter_tuning_tutorial.html\n",
    "# - https://github.com/pyg-team/pytorch_geometric/blob/master/examples/lightgcn.py\n",
    "def train_daostack(train: HeteroData, validation: HeteroData, original: HeteroData, modelConfig: ModelConfig, disable_tqdm=False):\n",
    "    if not isinstance(modelConfig, ModelConfig):\n",
    "        modelConfig = ModelConfig(**modelConfig)\n",
    "    \n",
    "    model = LightGCN(\n",
    "        num_nodes=validation.num_nodes,\n",
    "        embedding_dim=modelConfig.embedding_dim,\n",
    "        num_layers=modelConfig.conv_layers,\n",
    "    ).to(device)\n",
    "    optimizer = torch.optim.Adam(model.parameters(), lr=modelConfig.learning_rate)\n",
    "\n",
    "    checkpoint = session.get_checkpoint()\n",
    "\n",
    "    if checkpoint:\n",
    "        checkpoint_state = checkpoint.to_dict()\n",
    "        start_epoch = checkpoint_state[\"epoch\"]\n",
    "        model.load_state_dict(checkpoint_state[\"net_state_dict\"])\n",
    "        optimizer.load_state_dict(checkpoint_state[\"optimizer_state_dict\"])\n",
    "    else:\n",
    "        start_epoch = 0\n",
    "\n",
    "    assert train.is_undirected()\n",
    "    assert validation.is_undirected()\n",
    "\n",
    "    # We need to convert the edge indices to homogeneous\n",
    "    # In hetero data the numbers are shared between the node types\n",
    "    # while in homo data they are shifted\n",
    "    original, train, validation = map(shift_edge_indices, [original, train, validation])\n",
    "    \n",
    "    # nodes = torch.arange(0, train.num_nodes, device=device)\n",
    "    users = torch.arange(train['voter'].shift, train['voter'].end, device=device)\n",
    "    items = torch.arange(train['proposal'].shift, train['proposal'].end, device=device)\n",
    "    n_users = train['voter'].num_nodes\n",
    "    n_items = train['proposal'].num_nodes\n",
    "\n",
    "    # In message passing, bidirectional edges may cause duplicate information to\n",
    "    # be passed between nodes.\n",
    "    # The official LightGCN usage also uses this line of code (well, for homo graphs)\n",
    "    # - https://github.com/pyg-team/pytorch_geometric/blob/master/examples/lightgcn.py\n",
    "    # In our case, we will use just voter ---> proposal\n",
    "    \n",
    "    pos_edge_label_index = train['voter', 'votes', 'proposal'].edge_index\n",
    "\n",
    "    # TODO: Use LinkLoader instead (i don't know how)\n",
    "    # Waiting for pyg-team/pytorch_geometric#7817\n",
    "    # train_loader = PyG.loader.LinkLoader(\n",
    "    train_loader = torch.utils.data.DataLoader(\n",
    "        range(pos_edge_label_index.size(1)), # dataset\n",
    "        batch_size=modelConfig.batch_size,\n",
    "        shuffle=True,\n",
    "    )\n",
    "\n",
    "    @torch.no_grad()\n",
    "    def _prec_rec(k: int, remove_training=False):\n",
    "        # gt: ground truth (all edges)\n",
    "        gt_index = original['voter', 'votes', 'proposal'].edge_index\n",
    "        if remove_training:\n",
    "            edge_index = validation['voter', 'votes', 'proposal'].edge_index\n",
    "        else:\n",
    "            # All edges\n",
    "            edge_index = original['voter', 'votes', 'proposal'].edge_index\n",
    "\n",
    "        R = item_count = PyG.utils.degree(gt_index[0], num_nodes=n_users)\n",
    "        # topr.size [104, R.max()]\n",
    "        topr = model.recommend(edge_index, src_index=users, dst_index=items, k=int(R.max()), sorted=True)\n",
    "        \n",
    "        # assert (model.recommend(edge_index, src_index=users, dst_index=items, k=k) == topk).all()\n",
    "        n_samples = len(users)\n",
    "\n",
    "        # [104, 2216]\n",
    "        ground_truth = torch.full((n_users, n_items), False, dtype=torch.bool, device=device)\n",
    "        ground_truth[gt_index[0], gt_index[1] - original['proposal'].shift] = True\n",
    "\n",
    "        # This is the only line that depends on topr and thus depends on edge_index\n",
    "        isin_rmat = ground_truth.gather(1, topr - original['proposal'].shift)\n",
    "        isin_mat = isin_rmat[:, :k]\n",
    "\n",
    "        prec = (isin_mat.sum(dim=-1) / k).sum() / n_samples\n",
    "        rec = (isin_mat.sum(dim=-1) / item_count).sum() / n_samples\n",
    "\n",
    "        # Now mask isin_rmat to get only up to :R elements\n",
    "        msk = torch.arange(1, R.max()+1, device=device) > R.unsqueeze(1)\n",
    "        isin_rmat[msk] = 0\n",
    "        rprec = (isin_rmat.sum(dim=-1) / R).sum() / n_samples\n",
    "\n",
    "        # print('prec, rec:', (prec, rec))\n",
    "        \n",
    "        return float(prec), float(rec), float(rprec)\n",
    "\n",
    "    for epoch in trange(start_epoch, modelConfig.max_epochs, disable=disable_tqdm):\n",
    "        # index is an array of batch_size that indicates which edges from \n",
    "        # train.edge_index we should use\n",
    "        acc_loss = n_samples = 0        \n",
    "        \n",
    "        for index in tqdm(train_loader, leave=False, delay=1, disable=disable_tqdm):\n",
    "            pos_edge_index = pos_edge_label_index[:, index]\n",
    "            # neg_edge_index = neg_edge_label_index[:, index]\n",
    "            # TODO: Change to negative structured sampling like in original LightGCN implementation\n",
    "            neg_edge_index = torch.stack([\n",
    "                pos_edge_index[0],\n",
    "                torch.randint(train['proposal'].shift, train['proposal'].end,\n",
    "                          (index.numel(), ), device=device)\n",
    "            ], dim=0)\n",
    "            \n",
    "            edge_label_index = torch.cat([\n",
    "                pos_edge_index,\n",
    "                neg_edge_index,\n",
    "            ], dim=1)\n",
    "\n",
    "            optimizer.zero_grad()\n",
    "            pos_rank, neg_rank = model(train['voter', 'votes', 'proposal'].edge_index, edge_label_index).chunk(2)\n",
    "\n",
    "            # Learning\n",
    "            loss = model.recommendation_loss(\n",
    "                pos_rank,\n",
    "                neg_rank,\n",
    "                node_id=edge_label_index.unique(),\n",
    "                lambda_reg=modelConfig.l2,\n",
    "            )\n",
    "            loss.backward()\n",
    "            optimizer.step()\n",
    "\n",
    "            acc_loss += float(loss) * pos_rank.numel()\n",
    "            n_samples += pos_rank.numel()\n",
    "\n",
    "        checkpoint = Checkpoint.from_dict({\n",
    "            'epoch': epoch,\n",
    "            'net_state_dict': model.state_dict(),\n",
    "            'optimizer_state_dict': optimizer.state_dict(),\n",
    "        })\n",
    "\n",
    "        prec5, rec5, rprec = _prec_rec(5, remove_training=False)\n",
    "        prec5t, rec5t, rprect = _prec_rec(5, remove_training=True)\n",
    "        session.report({\n",
    "            'loss': acc_loss/n_samples,\n",
    "            'rprec train': rprec, 'rprec test': rprect,\n",
    "            'p@5 train': prec5, 'p@5 test': prec5t,\n",
    "            'r@5 train': rec5, 'r@5 test': rec5t,\n",
    "        }, checkpoint=checkpoint)\n",
    "\n",
    "# Testing just syntax errors\n",
    "train_daostack(graph_folds[0][0].to(device), graph_folds[0][1].to(device), data.to(device), ModelConfig(**(modelConfig._asdict() | {'max_epochs':2}))),"
   ]
  },
  {
   "cell_type": "code",
   "execution_count": 18,
   "metadata": {
    "execution": {
     "iopub.execute_input": "2023-08-16T11:31:22.593974Z",
     "iopub.status.busy": "2023-08-16T11:31:22.593767Z",
     "iopub.status.idle": "2023-08-16T11:36:47.256882Z",
     "shell.execute_reply": "2023-08-16T11:36:47.256281Z",
     "shell.execute_reply.started": "2023-08-16T11:31:22.593960Z"
    },
    "scrolled": true
   },
   "outputs": [
    {
     "data": {
      "text/html": [
       "<div class=\"tuneStatus\">\n",
       "  <div style=\"display: flex;flex-direction: row\">\n",
       "    <div style=\"display: flex;flex-direction: column;\">\n",
       "      <h3>Tune Status</h3>\n",
       "      <table>\n",
       "<tbody>\n",
       "<tr><td>Current time:</td><td>2023-08-16 13:36:40</td></tr>\n",
       "<tr><td>Running for: </td><td>00:05:18.34        </td></tr>\n",
       "<tr><td>Memory:      </td><td>8.1/15.3 GiB       </td></tr>\n",
       "</tbody>\n",
       "</table>\n",
       "    </div>\n",
       "    <div class=\"vDivider\"></div>\n",
       "    <div class=\"systemInfo\">\n",
       "      <h3>System Info</h3>\n",
       "      Using FIFO scheduling algorithm.<br>Logical resource usage: 3.0/8 CPUs, 0/0 GPUs\n",
       "    </div>\n",
       "    \n",
       "  </div>\n",
       "  <div class=\"hDivider\"></div>\n",
       "  <div class=\"trialStatus\">\n",
       "    <h3>Trial Status</h3>\n",
       "    <table>\n",
       "<thead>\n",
       "<tr><th>Trial name                  </th><th>status  </th><th>loc                </th><th style=\"text-align: right;\">  __trial_index__</th><th style=\"text-align: right;\">  batch_size</th><th style=\"text-align: right;\">  conv_layers</th><th style=\"text-align: right;\">  embedding_dim</th><th style=\"text-align: right;\">         l2</th><th style=\"text-align: right;\">  learning_rate</th><th style=\"text-align: right;\">  max_epochs</th><th style=\"text-align: right;\">  iter</th><th style=\"text-align: right;\">  total time (s)</th><th style=\"text-align: right;\">    loss</th><th style=\"text-align: right;\">  rprec train</th><th style=\"text-align: right;\">  rprec test</th></tr>\n",
       "</thead>\n",
       "<tbody>\n",
       "<tr><td>_aux_train_daostack_f3d1f5ed</td><td>RUNNING </td><td>192.168.1.118:31335</td><td style=\"text-align: right;\">                0</td><td style=\"text-align: right;\">           4</td><td style=\"text-align: right;\">            4</td><td style=\"text-align: right;\">            175</td><td style=\"text-align: right;\">6.39976e-05</td><td style=\"text-align: right;\">        0.00409</td><td style=\"text-align: right;\">          50</td><td style=\"text-align: right;\">    13</td><td style=\"text-align: right;\">         310.815</td><td style=\"text-align: right;\">0.185356</td><td style=\"text-align: right;\">     0.532182</td><td style=\"text-align: right;\">    0.532182</td></tr>\n",
       "<tr><td>_aux_train_daostack_6624f00d</td><td>RUNNING </td><td>192.168.1.118:31364</td><td style=\"text-align: right;\">                1</td><td style=\"text-align: right;\">           4</td><td style=\"text-align: right;\">            4</td><td style=\"text-align: right;\">            175</td><td style=\"text-align: right;\">6.39976e-05</td><td style=\"text-align: right;\">        0.00409</td><td style=\"text-align: right;\">          50</td><td style=\"text-align: right;\">    12</td><td style=\"text-align: right;\">         289.793</td><td style=\"text-align: right;\">0.180738</td><td style=\"text-align: right;\">     0.51264 </td><td style=\"text-align: right;\">    0.51264 </td></tr>\n",
       "<tr><td>_aux_train_daostack_30ac4776</td><td>RUNNING </td><td>192.168.1.118:31393</td><td style=\"text-align: right;\">                2</td><td style=\"text-align: right;\">           4</td><td style=\"text-align: right;\">            4</td><td style=\"text-align: right;\">            175</td><td style=\"text-align: right;\">6.39976e-05</td><td style=\"text-align: right;\">        0.00409</td><td style=\"text-align: right;\">          50</td><td style=\"text-align: right;\">    12</td><td style=\"text-align: right;\">         293.67 </td><td style=\"text-align: right;\">0.186259</td><td style=\"text-align: right;\">     0.511991</td><td style=\"text-align: right;\">    0.511991</td></tr>\n",
       "<tr><td>_aux_train_daostack_f4570c1d</td><td>PENDING </td><td>                   </td><td style=\"text-align: right;\">                3</td><td style=\"text-align: right;\">           4</td><td style=\"text-align: right;\">            4</td><td style=\"text-align: right;\">            175</td><td style=\"text-align: right;\">6.39976e-05</td><td style=\"text-align: right;\">        0.00409</td><td style=\"text-align: right;\">          50</td><td style=\"text-align: right;\">      </td><td style=\"text-align: right;\">                </td><td style=\"text-align: right;\">        </td><td style=\"text-align: right;\">             </td><td style=\"text-align: right;\">            </td></tr>\n",
       "</tbody>\n",
       "</table>\n",
       "  </div>\n",
       "</div>\n",
       "<style>\n",
       ".tuneStatus {\n",
       "  color: var(--jp-ui-font-color1);\n",
       "}\n",
       ".tuneStatus .systemInfo {\n",
       "  display: flex;\n",
       "  flex-direction: column;\n",
       "}\n",
       ".tuneStatus td {\n",
       "  white-space: nowrap;\n",
       "}\n",
       ".tuneStatus .trialStatus {\n",
       "  display: flex;\n",
       "  flex-direction: column;\n",
       "}\n",
       ".tuneStatus h3 {\n",
       "  font-weight: bold;\n",
       "}\n",
       ".tuneStatus .hDivider {\n",
       "  border-bottom-width: var(--jp-border-width);\n",
       "  border-bottom-color: var(--jp-border-color0);\n",
       "  border-bottom-style: solid;\n",
       "}\n",
       ".tuneStatus .vDivider {\n",
       "  border-left-width: var(--jp-border-width);\n",
       "  border-left-color: var(--jp-border-color0);\n",
       "  border-left-style: solid;\n",
       "  margin: 0.5em 1em 0.5em 1em;\n",
       "}\n",
       "</style>\n"
      ],
      "text/plain": [
       "<IPython.core.display.HTML object>"
      ]
     },
     "metadata": {},
     "output_type": "display_data"
    },
    {
     "name": "stdout",
     "output_type": "stream",
     "text": [
      "\u001b[2m\u001b[36m(_aux_train_daostack pid=31335)\u001b[0m p@5: 0.5634615421295166 p@5t: 0.5634615421295166\n",
      "\u001b[2m\u001b[36m(_aux_train_daostack pid=31364)\u001b[0m p@5: 0.5250000357627869 p@5t: 0.5250000357627869\n",
      "\u001b[2m\u001b[36m(_aux_train_daostack pid=31393)\u001b[0m p@5: 0.5961538553237915 p@5t: 0.5961538553237915\n",
      "\u001b[2m\u001b[36m(_aux_train_daostack pid=31335)\u001b[0m p@5: 0.45961540937423706 p@5t: 0.45961540937423706\n",
      "\u001b[2m\u001b[36m(_aux_train_daostack pid=31364)\u001b[0m p@5: 0.4980769455432892 p@5t: 0.4980769455432892\n",
      "\u001b[2m\u001b[36m(_aux_train_daostack pid=31393)\u001b[0m p@5: 0.5038461685180664 p@5t: 0.5038461685180664\n",
      "\u001b[2m\u001b[36m(_aux_train_daostack pid=31335)\u001b[0m p@5: 0.5038461089134216 p@5t: 0.5038461089134216\n",
      "\u001b[2m\u001b[36m(_aux_train_daostack pid=31364)\u001b[0m p@5: 0.5134615302085876 p@5t: 0.5134615302085876\n",
      "\u001b[2m\u001b[36m(_aux_train_daostack pid=31393)\u001b[0m p@5: 0.5307692289352417 p@5t: 0.5307692289352417\n",
      "\u001b[2m\u001b[36m(_aux_train_daostack pid=31335)\u001b[0m p@5: 0.5134615302085876 p@5t: 0.5134615302085876\n",
      "\u001b[2m\u001b[36m(_aux_train_daostack pid=31364)\u001b[0m p@5: 0.5250000357627869 p@5t: 0.5250000357627869\n",
      "\u001b[2m\u001b[36m(_aux_train_daostack pid=31393)\u001b[0m p@5: 0.5115384459495544 p@5t: 0.5115384459495544\n",
      "\u001b[2m\u001b[36m(_aux_train_daostack pid=31335)\u001b[0m p@5: 0.5346153974533081 p@5t: 0.5346153974533081\n",
      "\u001b[2m\u001b[36m(_aux_train_daostack pid=31364)\u001b[0m p@5: 0.5249999761581421 p@5t: 0.5249999761581421\n",
      "\u001b[2m\u001b[36m(_aux_train_daostack pid=31393)\u001b[0m p@5: 0.5192307233810425 p@5t: 0.5192307233810425\n",
      "\u001b[2m\u001b[36m(_aux_train_daostack pid=31335)\u001b[0m p@5: 0.5788461565971375 p@5t: 0.5788461565971375\n",
      "\u001b[2m\u001b[36m(_aux_train_daostack pid=31364)\u001b[0m p@5: 0.574999988079071 p@5t: 0.574999988079071\n",
      "\u001b[2m\u001b[36m(_aux_train_daostack pid=31393)\u001b[0m p@5: 0.5615384578704834 p@5t: 0.5615384578704834\n",
      "\u001b[2m\u001b[36m(_aux_train_daostack pid=31335)\u001b[0m p@5: 0.5807692408561707 p@5t: 0.5807692408561707\n",
      "\u001b[2m\u001b[36m(_aux_train_daostack pid=31364)\u001b[0m p@5: 0.6173076629638672 p@5t: 0.6173076629638672\n",
      "\u001b[2m\u001b[36m(_aux_train_daostack pid=31393)\u001b[0m p@5: 0.5923076868057251 p@5t: 0.5923076868057251\n",
      "\u001b[2m\u001b[36m(_aux_train_daostack pid=31335)\u001b[0m p@5: 0.6038461923599243 p@5t: 0.6038461923599243\n",
      "\u001b[2m\u001b[36m(_aux_train_daostack pid=31364)\u001b[0m p@5: 0.6403846740722656 p@5t: 0.6403846740722656\n",
      "\u001b[2m\u001b[36m(_aux_train_daostack pid=31393)\u001b[0m p@5: 0.6269230246543884 p@5t: 0.6269230246543884\n",
      "\u001b[2m\u001b[36m(_aux_train_daostack pid=31335)\u001b[0m p@5: 0.5903846025466919 p@5t: 0.5903846025466919\n",
      "\u001b[2m\u001b[36m(_aux_train_daostack pid=31364)\u001b[0m p@5: 0.6288461685180664 p@5t: 0.6288461685180664\n",
      "\u001b[2m\u001b[36m(_aux_train_daostack pid=31393)\u001b[0m p@5: 0.6192308068275452 p@5t: 0.6192308068275452\n",
      "\u001b[2m\u001b[36m(_aux_train_daostack pid=31335)\u001b[0m p@5: 0.6192308068275452 p@5t: 0.6192308068275452\n",
      "\u001b[2m\u001b[36m(_aux_train_daostack pid=31364)\u001b[0m p@5: 0.6307693123817444 p@5t: 0.6307693123817444\n",
      "\u001b[2m\u001b[36m(_aux_train_daostack pid=31393)\u001b[0m p@5: 0.6499999761581421 p@5t: 0.6499999761581421\n",
      "\u001b[2m\u001b[36m(_aux_train_daostack pid=31335)\u001b[0m p@5: 0.6211538314819336 p@5t: 0.6211538314819336\n",
      "\u001b[2m\u001b[36m(_aux_train_daostack pid=31364)\u001b[0m p@5: 0.6865383982658386 p@5t: 0.6865383982658386\n",
      "\u001b[2m\u001b[36m(_aux_train_daostack pid=31393)\u001b[0m p@5: 0.6442307829856873 p@5t: 0.6442307829856873\n",
      "\u001b[2m\u001b[36m(_aux_train_daostack pid=31335)\u001b[0m p@5: 0.6673077344894409 p@5t: 0.6673077344894409\n",
      "\u001b[2m\u001b[36m(_aux_train_daostack pid=31364)\u001b[0m p@5: 0.6750000715255737 p@5t: 0.6750000715255737\n",
      "\u001b[2m\u001b[36m(_aux_train_daostack pid=31393)\u001b[0m p@5: 0.6384615302085876 p@5t: 0.6384615302085876\n",
      "\u001b[2m\u001b[36m(_aux_train_daostack pid=31335)\u001b[0m p@5: 0.6769230961799622 p@5t: 0.6769230961799622\n"
     ]
    },
    {
     "name": "stderr",
     "output_type": "stream",
     "text": [
      "2023-08-16 13:36:40,950\tWARNING tune.py:192 -- Stop signal received (e.g. via SIGINT/Ctrl+C), ending Ray Tune run. This will try to checkpoint the experiment state one last time. Press CTRL+C (or send SIGINT/SIGKILL/SIGTERM) to skip. \n"
     ]
    },
    {
     "name": "stdout",
     "output_type": "stream",
     "text": [
      "\u001b[2m\u001b[36m(_aux_train_daostack pid=31364)\u001b[0m p@5: 0.6730769276618958 p@5t: 0.6730769276618958\n"
     ]
    },
    {
     "name": "stderr",
     "output_type": "stream",
     "text": [
      "\n",
      "KeyboardInterrupt\n",
      "\n"
     ]
    }
   ],
   "source": [
    "from ray.tune.schedulers import ASHAScheduler\n",
    "from ray.tune.search import Repeater\n",
    "from ray.tune.search.hyperopt import HyperOptSearch\n",
    "\n",
    "def _aux_train_daostack(config):\n",
    "    # TODO: Is bad practice to pass a dataset trainable\n",
    "    # config['embedding_dim'] = 2**config['embedding_dim']\n",
    "    config['batch_size'] = 2**config['batch_size']\n",
    "    n_fold = config.pop('__trial_index__')\n",
    "    train, validation = graph_folds[n_fold]\n",
    "    return train_daostack(train.to(device), validation.to(device), data.to(device), config, disable_tqdm=True)\n",
    "\n",
    "tryConfigs = ModelConfig(\n",
    "    max_epochs=50,\n",
    "    conv_layers=tune.randint(2,6),\n",
    "    learning_rate=tune.qloguniform(1e-5, 1, 1e-5),\n",
    "    l2=tune.loguniform(1e-9, 1e-1),\n",
    "    # These will be 2 to the power\n",
    "    batch_size=tune.randint(4,10), # 16..1024\n",
    "    # embedding_dim=tune.randint(4,8), # 16..128\n",
    "    embedding_dim=tune.qlograndint(10, 500, 5),\n",
    ")\n",
    "\n",
    "# It is recommended to not use Repeater with a TrialScheduler. Early termination can negatively affect the average reported metric.\n",
    "asha_scheduler = None\n",
    "# asha_scheduler = ASHAScheduler(\n",
    "#     time_attr='training_iteration',\n",
    "#     max_t=50,\n",
    "#     grace_period=5,\n",
    "#     reduction_factor=3,\n",
    "#     brackets=1,\n",
    "# )\n",
    "\n",
    "search_alg = HyperOptSearch()\n",
    "search_alg = Repeater(search_alg,datasetConfig.num_folds)\n",
    "\n",
    "# Every run takes approx half a gig of vram (no optimizations)\n",
    "# The RTX 4090 has 24GB so we can run the model about 48 times\n",
    "resources_per_trial={\n",
    "    'cpu': 1,\n",
    "    'memory': 0 if torch.cuda.is_available() else 2e9,\n",
    "    # 'gpu': 1/32 if torch.cuda.is_available() else 0,\n",
    "    'gpu': torch.cuda.is_available(),\n",
    "}\n",
    "\n",
    "tuner = tune.Tuner(\n",
    "    tune.with_resources(_aux_train_daostack, resources_per_trial),\n",
    "    param_space=tryConfigs._asdict(),\n",
    "    tune_config=tune.TuneConfig(\n",
    "        # time_budget_s=60,\n",
    "        num_samples=datasetConfig.num_folds*1,\n",
    "        scheduler=asha_scheduler,\n",
    "        search_alg=search_alg,\n",
    "        metric='rprec test',\n",
    "        mode='max',\n",
    "    )\n",
    ")\n",
    "exp = tuner.fit()"
   ]
  },
  {
   "cell_type": "code",
   "execution_count": null,
   "metadata": {
    "execution": {
     "iopub.status.busy": "2023-08-16T11:31:19.485905Z",
     "iopub.status.idle": "2023-08-16T11:31:19.486024Z",
     "shell.execute_reply": "2023-08-16T11:31:19.485970Z",
     "shell.execute_reply.started": "2023-08-16T11:31:19.485964Z"
    }
   },
   "outputs": [],
   "source": [
    "exp_df = exp.get_dataframe().drop(columns=['hostname', 'node_ip', 'logdir', 'should_checkpoint', 'pid'])\n",
    "exp_df.sort_values('p@5 test', ascending=False)"
   ]
  },
  {
   "cell_type": "markdown",
   "metadata": {},
   "source": [
    "# Using all of this\n",
    "\n",
    "Crearé una función que reciba una dirección de un usuario y retorne k propuestas que puedan interesarle"
   ]
  },
  {
   "cell_type": "code",
   "execution_count": null,
   "metadata": {
    "execution": {
     "iopub.status.busy": "2023-08-16T11:31:19.486429Z",
     "iopub.status.idle": "2023-08-16T11:31:19.486560Z",
     "shell.execute_reply": "2023-08-16T11:31:19.486497Z",
     "shell.execute_reply.started": "2023-08-16T11:31:19.486491Z"
    }
   },
   "outputs": [],
   "source": [
    "def recommend(user: str, K: int = 12, ignore_train: bool=False):\n",
    "    uid = encoder_user.transform([user])[0]\n",
    "    print(f\"Recommending {K} proposals for user {user} (uid:{uid}) with {vpu.at[user]} votes\")\n",
    "    \n",
    "    # Getting embedding\n",
    "    out = model(edge_index)\n",
    "    user_embed, item_embed = torch.split(out, (model.n_users, model.n_items))\n",
    "    relevance_score = torch.matmul(user_embed, torch.transpose(item_embed, 0, 1))\n",
    "    if ignore_train:\n",
    "        i = torch.stack([\n",
    "            torch.LongTensor(train_df['uid'].values),\n",
    "            torch.LongTensor(train_df['pid'].values),\n",
    "        ])\n",
    "        v = torch.ones(len(train_df), dtype=torch.float64)\n",
    "        t_interactions = torch.sparse.FloatTensor(i, v, (model.n_users, model.n_items)).to_dense().to(device)\n",
    "        # mask out training user-item interactions from metric computation\n",
    "        # We are only interested in novel items, as a user won't be interested\n",
    "        # in \"voting again\"\n",
    "        relevance_score = torch.mul(relevance_score, (1 - t_interactions))\n",
    "    \n",
    "    topk_relevance_indices = torch.topk(relevance_score, K).indices\n",
    "    \n",
    "    pids = topk_relevance_indices[uid].tolist()\n",
    "    proposals = dfp.loc[encoder_prop.inverse_transform(pids)]\n",
    "    \n",
    "    proposals['userVoted'] = dfv.groupby('proposal')['voter'].apply(lambda x: user in set(x))\n",
    "    \n",
    "    print(f\"precision@{K}={sum(proposals['userVoted'])/len(proposals)*100:.2f}%\")\n",
    "    \n",
    "    return proposals\n",
    "\n",
    "user = \"0x334f12afb7d8740868be04719639616533075234\" # vpu[(12 < vpu) & (vpu < 38)].sample().index[0]\n",
    "recommend(user, ignore_train=True)[['network', 'createdAt', 'title', 'description', 'userVoted']]"
   ]
  },
  {
   "cell_type": "code",
   "execution_count": null,
   "metadata": {
    "execution": {
     "iopub.status.busy": "2023-08-16T11:31:19.486918Z",
     "iopub.status.idle": "2023-08-16T11:31:19.487031Z",
     "shell.execute_reply": "2023-08-16T11:31:19.486980Z",
     "shell.execute_reply.started": "2023-08-16T11:31:19.486974Z"
    }
   },
   "outputs": [],
   "source": [
    "dfv[dfv['proposal'] == '0xb92d2df99a47244c07a9d7ef73530c273f1d65230dbff9e95873d82c0314534e']"
   ]
  }
 ],
 "metadata": {
  "kernelspec": {
   "display_name": "Python 3 (ipykernel)",
   "language": "python",
   "name": "python3"
  },
  "language_info": {
   "codemirror_mode": {
    "name": "ipython",
    "version": 3
   },
   "file_extension": ".py",
   "mimetype": "text/x-python",
   "name": "python",
   "nbconvert_exporter": "python",
   "pygments_lexer": "ipython3",
   "version": "3.11.3"
  },
  "widgets": {
   "application/vnd.jupyter.widget-state+json": {
    "state": {
     "0180370eb4624cec9850f95730b6a8d2": {
      "model_module": "@jupyter-widgets/controls",
      "model_module_version": "2.0.0",
      "model_name": "HTMLModel",
      "state": {
       "layout": "IPY_MODEL_cc6a1207203d4aef8dfac0e5d439e13b",
       "style": "IPY_MODEL_2c33036eccbe42ed97878d18cdcd3397",
       "value": " 2/2 [00:02&lt;00:00,  1.10s/it]"
      }
     },
     "01f44f194db34c2cb1a157e618ecd9bc": {
      "model_module": "@jupyter-widgets/base",
      "model_module_version": "2.0.0",
      "model_name": "LayoutModel",
      "state": {
       "visibility": "hidden"
      }
     },
     "0202a115c02a425abfc1271506bc0037": {
      "model_module": "@jupyter-widgets/controls",
      "model_module_version": "2.0.0",
      "model_name": "HTMLStyleModel",
      "state": {
       "description_width": "",
       "font_size": null,
       "text_color": null
      }
     },
     "020d7bbed9a24fe68b9fbebcc13ae9fd": {
      "model_module": "@jupyter-widgets/base",
      "model_module_version": "2.0.0",
      "model_name": "LayoutModel",
      "state": {}
     },
     "0277993a3e2e44218b9d659bbb99a672": {
      "model_module": "@jupyter-widgets/controls",
      "model_module_version": "2.0.0",
      "model_name": "ProgressStyleModel",
      "state": {
       "description_width": ""
      }
     },
     "03b31dd4976646ef8492c778303963a0": {
      "model_module": "@jupyter-widgets/controls",
      "model_module_version": "2.0.0",
      "model_name": "HTMLStyleModel",
      "state": {
       "description_width": "",
       "font_size": null,
       "text_color": null
      }
     },
     "03f499e4633942738d4372bd6342ba99": {
      "model_module": "@jupyter-widgets/controls",
      "model_module_version": "2.0.0",
      "model_name": "HTMLModel",
      "state": {
       "layout": "IPY_MODEL_7130c7254fbf447881a539a07b9d243d",
       "style": "IPY_MODEL_57302e0fecc0402ebaf2ff2197063895",
       "value": " 98%"
      }
     },
     "04e537ea22c94a5f8971cb4531735994": {
      "model_module": "@jupyter-widgets/base",
      "model_module_version": "2.0.0",
      "model_name": "LayoutModel",
      "state": {}
     },
     "054a54bb795d4b5688f38b93b4517f91": {
      "model_module": "@jupyter-widgets/base",
      "model_module_version": "2.0.0",
      "model_name": "LayoutModel",
      "state": {}
     },
     "056ccc8067574e96aeb0b748d8b81560": {
      "model_module": "@jupyter-widgets/controls",
      "model_module_version": "2.0.0",
      "model_name": "HTMLModel",
      "state": {
       "layout": "IPY_MODEL_23bee2a59da8450d81d3e485ee2002f0",
       "style": "IPY_MODEL_e1c3c95db6104dc0ab9a4cc82fac6d03",
       "value": " 394/416 [00:01&lt;00:00, 393.02it/s]"
      }
     },
     "06133308a4014282b18f9b194e00cdbc": {
      "model_module": "@jupyter-widgets/base",
      "model_module_version": "2.0.0",
      "model_name": "LayoutModel",
      "state": {}
     },
     "07b9f5a792ed4b99bf6fde9483f7c125": {
      "model_module": "@jupyter-widgets/base",
      "model_module_version": "2.0.0",
      "model_name": "LayoutModel",
      "state": {}
     },
     "0898546bb3974b76b90636e1b2b0793b": {
      "model_module": "@jupyter-widgets/controls",
      "model_module_version": "2.0.0",
      "model_name": "HTMLModel",
      "state": {
       "layout": "IPY_MODEL_07b9f5a792ed4b99bf6fde9483f7c125",
       "style": "IPY_MODEL_9ad24f95488e40e4a77fafea949e3156",
       "value": "100%"
      }
     },
     "0908876b03934eeaaa508143d46f77ce": {
      "model_module": "@jupyter-widgets/controls",
      "model_module_version": "2.0.0",
      "model_name": "ProgressStyleModel",
      "state": {
       "description_width": ""
      }
     },
     "09d33cdea4604cdeb36d4a8a084a8acb": {
      "model_module": "@jupyter-widgets/controls",
      "model_module_version": "2.0.0",
      "model_name": "FloatProgressModel",
      "state": {
       "layout": "IPY_MODEL_cd0e6dfd4272496395cf8ff2b800cc4f",
       "max": 416,
       "style": "IPY_MODEL_7c883d2a479f4ca3b6c3494788bd8938",
       "value": 416
      }
     },
     "0a549fd97dbb41a69de4b4efb45504d4": {
      "model_module": "@jupyter-widgets/controls",
      "model_module_version": "2.0.0",
      "model_name": "ProgressStyleModel",
      "state": {
       "description_width": ""
      }
     },
     "0b0c77cd09d14689899fe0166eefd9e4": {
      "model_module": "@jupyter-widgets/controls",
      "model_module_version": "2.0.0",
      "model_name": "HTMLModel",
      "state": {
       "layout": "IPY_MODEL_af888e9fc1904692abab5f995e58ed23",
       "style": "IPY_MODEL_161e408c09e44800a096aeb506773554",
       "value": " 95%"
      }
     },
     "0b26e1b81cd14e9692bb0810ca229765": {
      "model_module": "@jupyter-widgets/controls",
      "model_module_version": "2.0.0",
      "model_name": "ProgressStyleModel",
      "state": {
       "description_width": ""
      }
     },
     "0b8fb6adcb7f40d39bac759960a66314": {
      "model_module": "@jupyter-widgets/controls",
      "model_module_version": "2.0.0",
      "model_name": "ProgressStyleModel",
      "state": {
       "description_width": ""
      }
     },
     "0dbeb0a062fd4785ba9f19bdbe360a42": {
      "model_module": "@jupyter-widgets/controls",
      "model_module_version": "2.0.0",
      "model_name": "HTMLModel",
      "state": {
       "layout": "IPY_MODEL_bf39102c43df4d3ab336e7883169347c",
       "style": "IPY_MODEL_8161cbc673b642bf8db021c2b18be0d8",
       "value": " 99%"
      }
     },
     "0e7426f39bc64d60bce92f5d0254db0d": {
      "model_module": "@jupyter-widgets/controls",
      "model_module_version": "2.0.0",
      "model_name": "FloatProgressModel",
      "state": {
       "bar_style": "success",
       "layout": "IPY_MODEL_06133308a4014282b18f9b194e00cdbc",
       "max": 2,
       "style": "IPY_MODEL_9111500f70084009805a7b9b2e372454",
       "value": 2
      }
     },
     "0e9feae5c9a24d64886d2ec2253299c5": {
      "model_module": "@jupyter-widgets/controls",
      "model_module_version": "2.0.0",
      "model_name": "ProgressStyleModel",
      "state": {
       "description_width": ""
      }
     },
     "0eec6c79f9d444eb9efd470e7bf80dfa": {
      "model_module": "@jupyter-widgets/controls",
      "model_module_version": "2.0.0",
      "model_name": "HTMLModel",
      "state": {
       "layout": "IPY_MODEL_7cf1e4dbe5f64fdaac9368fef605e494",
       "style": "IPY_MODEL_64469ea29f6448fda85a120731b6d082",
       "value": " 97%"
      }
     },
     "108b5c4bd38849b28602dce707566142": {
      "model_module": "@jupyter-widgets/controls",
      "model_module_version": "2.0.0",
      "model_name": "HTMLModel",
      "state": {
       "layout": "IPY_MODEL_62231dc34416494d90d5a0fc1cc4bfd1",
       "style": "IPY_MODEL_c7e9b87358b04799abce3038b761b770",
       "value": " 408/416 [00:03&lt;00:00, 141.10it/s]"
      }
     },
     "12b3dc0c2bf84115befde6275f263d59": {
      "model_module": "@jupyter-widgets/base",
      "model_module_version": "2.0.0",
      "model_name": "LayoutModel",
      "state": {}
     },
     "12db5922c25d4ef9bcbd57b908e33fcc": {
      "model_module": "@jupyter-widgets/controls",
      "model_module_version": "2.0.0",
      "model_name": "HTMLStyleModel",
      "state": {
       "description_width": "",
       "font_size": null,
       "text_color": null
      }
     },
     "16094a17c9054c1991d495682e4f4ae3": {
      "model_module": "@jupyter-widgets/base",
      "model_module_version": "2.0.0",
      "model_name": "LayoutModel",
      "state": {
       "visibility": "hidden"
      }
     },
     "161e408c09e44800a096aeb506773554": {
      "model_module": "@jupyter-widgets/controls",
      "model_module_version": "2.0.0",
      "model_name": "HTMLStyleModel",
      "state": {
       "description_width": "",
       "font_size": null,
       "text_color": null
      }
     },
     "1677a335d29446d48578504221236b03": {
      "model_module": "@jupyter-widgets/base",
      "model_module_version": "2.0.0",
      "model_name": "LayoutModel",
      "state": {}
     },
     "174920910a00440c816ef83c3cd247f6": {
      "model_module": "@jupyter-widgets/controls",
      "model_module_version": "2.0.0",
      "model_name": "FloatProgressModel",
      "state": {
       "layout": "IPY_MODEL_963da7821758488eb7b46809cacd38f0",
       "max": 416,
       "style": "IPY_MODEL_cdaae68369e842c2a966c353c1ccb01e",
       "value": 416
      }
     },
     "17b47483479e44bdb8f1e5b09ca50eb2": {
      "model_module": "@jupyter-widgets/base",
      "model_module_version": "2.0.0",
      "model_name": "LayoutModel",
      "state": {}
     },
     "19a8e916aee74e3c99a0808c7b6ae755": {
      "model_module": "@jupyter-widgets/controls",
      "model_module_version": "2.0.0",
      "model_name": "FloatProgressModel",
      "state": {
       "layout": "IPY_MODEL_a901f3cf788048179b5906570819bef6",
       "max": 416,
       "style": "IPY_MODEL_37e2ffcdbf714a32924f8c5e128bc158",
       "value": 416
      }
     },
     "1b2de042796c407fb7f568ddf8b14a23": {
      "model_module": "@jupyter-widgets/base",
      "model_module_version": "2.0.0",
      "model_name": "LayoutModel",
      "state": {}
     },
     "1bd1b19dd6d74beab1cbf5b6697af543": {
      "model_module": "@jupyter-widgets/base",
      "model_module_version": "2.0.0",
      "model_name": "LayoutModel",
      "state": {}
     },
     "1d40e4beaf5f46bea6fa759958768302": {
      "model_module": "@jupyter-widgets/controls",
      "model_module_version": "2.0.0",
      "model_name": "FloatProgressModel",
      "state": {
       "layout": "IPY_MODEL_610c68385d0c4d87bf9e783342b01ce8",
       "max": 416,
       "style": "IPY_MODEL_2cef8a08c3664514a7d88fe4727161ea",
       "value": 416
      }
     },
     "1d7724350b424e80b3f2974777abd527": {
      "model_module": "@jupyter-widgets/base",
      "model_module_version": "2.0.0",
      "model_name": "LayoutModel",
      "state": {}
     },
     "1eb98dfc73d24a04b0e283466c39bbd9": {
      "model_module": "@jupyter-widgets/controls",
      "model_module_version": "2.0.0",
      "model_name": "ProgressStyleModel",
      "state": {
       "description_width": ""
      }
     },
     "1ec49f686b4b4df689fe5ed8edb9724b": {
      "model_module": "@jupyter-widgets/controls",
      "model_module_version": "2.0.0",
      "model_name": "HTMLStyleModel",
      "state": {
       "description_width": "",
       "font_size": null,
       "text_color": null
      }
     },
     "208530ee8e3a49e6ac8a9d90a941afe9": {
      "model_module": "@jupyter-widgets/base",
      "model_module_version": "2.0.0",
      "model_name": "LayoutModel",
      "state": {}
     },
     "22678664c339416d8e9ba52aa87b6aff": {
      "model_module": "@jupyter-widgets/base",
      "model_module_version": "2.0.0",
      "model_name": "LayoutModel",
      "state": {}
     },
     "2343e39977704617890c4e8a23855a11": {
      "model_module": "@jupyter-widgets/base",
      "model_module_version": "2.0.0",
      "model_name": "LayoutModel",
      "state": {}
     },
     "23bee2a59da8450d81d3e485ee2002f0": {
      "model_module": "@jupyter-widgets/base",
      "model_module_version": "2.0.0",
      "model_name": "LayoutModel",
      "state": {}
     },
     "24b0b2e5d51640018e8ec007f692c85e": {
      "model_module": "@jupyter-widgets/base",
      "model_module_version": "2.0.0",
      "model_name": "LayoutModel",
      "state": {}
     },
     "26d8445fc677461f958f0525d0586708": {
      "model_module": "@jupyter-widgets/base",
      "model_module_version": "2.0.0",
      "model_name": "LayoutModel",
      "state": {}
     },
     "27dc529adc2645ee9944d144a1a9de6c": {
      "model_module": "@jupyter-widgets/controls",
      "model_module_version": "2.0.0",
      "model_name": "HTMLStyleModel",
      "state": {
       "description_width": "",
       "font_size": null,
       "text_color": null
      }
     },
     "28252fb2747d4f80bbfb7563a072ba93": {
      "model_module": "@jupyter-widgets/controls",
      "model_module_version": "2.0.0",
      "model_name": "FloatProgressModel",
      "state": {
       "layout": "IPY_MODEL_9614aeb4e6dc4bc0b118f298199604e9",
       "max": 416,
       "style": "IPY_MODEL_3e7f1c416e824a7db5395fcce0bd6e07",
       "value": 416
      }
     },
     "28cb604adb30430b8345712109f9d9c5": {
      "model_module": "@jupyter-widgets/controls",
      "model_module_version": "2.0.0",
      "model_name": "HTMLModel",
      "state": {
       "layout": "IPY_MODEL_2343e39977704617890c4e8a23855a11",
       "style": "IPY_MODEL_a56a76f3e0024a80bfa1d0cc3298b6f1",
       "value": " 386/416 [00:01&lt;00:00, 385.78it/s]"
      }
     },
     "29700065a4f04a96891bb2020215d8cd": {
      "model_module": "@jupyter-widgets/base",
      "model_module_version": "2.0.0",
      "model_name": "LayoutModel",
      "state": {}
     },
     "2a88397fa15e41e88a296eca98da795d": {
      "model_module": "@jupyter-widgets/controls",
      "model_module_version": "2.0.0",
      "model_name": "ProgressStyleModel",
      "state": {
       "description_width": ""
      }
     },
     "2aee3a331d2648fa91c4cfa304c7c916": {
      "model_module": "@jupyter-widgets/base",
      "model_module_version": "2.0.0",
      "model_name": "LayoutModel",
      "state": {}
     },
     "2aef977739ff4788b25226085c66d439": {
      "model_module": "@jupyter-widgets/controls",
      "model_module_version": "2.0.0",
      "model_name": "HTMLModel",
      "state": {
       "layout": "IPY_MODEL_98769a968a4144648af4fd1cbe3f4d13",
       "style": "IPY_MODEL_37b1d2ece01949808e51ab364497cf03",
       "value": " 92%"
      }
     },
     "2bfebb8eac5b48119722226cca3368ec": {
      "model_module": "@jupyter-widgets/base",
      "model_module_version": "2.0.0",
      "model_name": "LayoutModel",
      "state": {}
     },
     "2c33036eccbe42ed97878d18cdcd3397": {
      "model_module": "@jupyter-widgets/controls",
      "model_module_version": "2.0.0",
      "model_name": "HTMLStyleModel",
      "state": {
       "description_width": "",
       "font_size": null,
       "text_color": null
      }
     },
     "2cef8a08c3664514a7d88fe4727161ea": {
      "model_module": "@jupyter-widgets/controls",
      "model_module_version": "2.0.0",
      "model_name": "ProgressStyleModel",
      "state": {
       "description_width": ""
      }
     },
     "2d3b683370c449daacd4eaa5c3afd673": {
      "model_module": "@jupyter-widgets/base",
      "model_module_version": "2.0.0",
      "model_name": "LayoutModel",
      "state": {}
     },
     "2db06456c345404abecfc1826431c5c9": {
      "model_module": "@jupyter-widgets/controls",
      "model_module_version": "2.0.0",
      "model_name": "HTMLStyleModel",
      "state": {
       "description_width": "",
       "font_size": null,
       "text_color": null
      }
     },
     "2ed09f81ec944adfbd6426ac12499eff": {
      "model_module": "@jupyter-widgets/controls",
      "model_module_version": "2.0.0",
      "model_name": "HTMLStyleModel",
      "state": {
       "description_width": "",
       "font_size": null,
       "text_color": null
      }
     },
     "2f5866914c5e4852aa347e399ef5de36": {
      "model_module": "@jupyter-widgets/controls",
      "model_module_version": "2.0.0",
      "model_name": "HTMLStyleModel",
      "state": {
       "description_width": "",
       "font_size": null,
       "text_color": null
      }
     },
     "3022f924dd4f4ebeaad3c27fea3993ba": {
      "model_module": "@jupyter-widgets/controls",
      "model_module_version": "2.0.0",
      "model_name": "HTMLStyleModel",
      "state": {
       "description_width": "",
       "font_size": null,
       "text_color": null
      }
     },
     "31f8d9f71ada40499144395963c10a16": {
      "model_module": "@jupyter-widgets/base",
      "model_module_version": "2.0.0",
      "model_name": "LayoutModel",
      "state": {}
     },
     "320453e03f0942e095ef72eb8e1acf74": {
      "model_module": "@jupyter-widgets/controls",
      "model_module_version": "2.0.0",
      "model_name": "HTMLModel",
      "state": {
       "layout": "IPY_MODEL_4105d6c90119445abce859265f90830b",
       "style": "IPY_MODEL_12db5922c25d4ef9bcbd57b908e33fcc",
       "value": " 394/416 [00:01&lt;00:00, 357.06it/s]"
      }
     },
     "325327f9e7534c6a9f7670967c5a9a7a": {
      "model_module": "@jupyter-widgets/controls",
      "model_module_version": "2.0.0",
      "model_name": "HTMLModel",
      "state": {
       "layout": "IPY_MODEL_24b0b2e5d51640018e8ec007f692c85e",
       "style": "IPY_MODEL_ed9f285de16a4c0c9fc02919951b0a11",
       "value": "100%"
      }
     },
     "32f9b02d981544b493e8256077d29fe2": {
      "model_module": "@jupyter-widgets/controls",
      "model_module_version": "2.0.0",
      "model_name": "HTMLModel",
      "state": {
       "layout": "IPY_MODEL_f0fcfdbe62a64db7887b98334782c712",
       "style": "IPY_MODEL_ebe625d5b73e4ec4b40e77481fab77d1",
       "value": " 2/2 [00:02&lt;00:00,  1.28s/it]"
      }
     },
     "36a53c3950d74e14b8767ef90d350385": {
      "model_module": "@jupyter-widgets/controls",
      "model_module_version": "2.0.0",
      "model_name": "HTMLStyleModel",
      "state": {
       "description_width": "",
       "font_size": null,
       "text_color": null
      }
     },
     "37927ed38cbf46d0b27dd6173b2263cb": {
      "model_module": "@jupyter-widgets/controls",
      "model_module_version": "2.0.0",
      "model_name": "HTMLStyleModel",
      "state": {
       "description_width": "",
       "font_size": null,
       "text_color": null
      }
     },
     "37b1d2ece01949808e51ab364497cf03": {
      "model_module": "@jupyter-widgets/controls",
      "model_module_version": "2.0.0",
      "model_name": "HTMLStyleModel",
      "state": {
       "description_width": "",
       "font_size": null,
       "text_color": null
      }
     },
     "37e2ffcdbf714a32924f8c5e128bc158": {
      "model_module": "@jupyter-widgets/controls",
      "model_module_version": "2.0.0",
      "model_name": "ProgressStyleModel",
      "state": {
       "description_width": ""
      }
     },
     "38d2f7748d014de698c904fd19e775a7": {
      "model_module": "@jupyter-widgets/base",
      "model_module_version": "2.0.0",
      "model_name": "LayoutModel",
      "state": {}
     },
     "3bc37c4541584c659d7faea868025e84": {
      "model_module": "@jupyter-widgets/controls",
      "model_module_version": "2.0.0",
      "model_name": "HBoxModel",
      "state": {
       "children": [
        "IPY_MODEL_be704421dca44a1a9c9fa85e4ad9a0ce",
        "IPY_MODEL_787d5533e50c4f69adc16de9dcf5a033",
        "IPY_MODEL_e9a37e7b78054f1c9598c68267056a84"
       ],
       "layout": "IPY_MODEL_e8d917a12dd44764b9201eeb6485e234"
      }
     },
     "3bdbfd84d0f44be89577c011b48dee5d": {
      "model_module": "@jupyter-widgets/base",
      "model_module_version": "2.0.0",
      "model_name": "LayoutModel",
      "state": {}
     },
     "3c01fab4bb4d46c2b562c30517bf093e": {
      "model_module": "@jupyter-widgets/base",
      "model_module_version": "2.0.0",
      "model_name": "LayoutModel",
      "state": {
       "visibility": "hidden"
      }
     },
     "3c160016979140e58ea26faa1e521776": {
      "model_module": "@jupyter-widgets/controls",
      "model_module_version": "2.0.0",
      "model_name": "HTMLStyleModel",
      "state": {
       "description_width": "",
       "font_size": null,
       "text_color": null
      }
     },
     "3d37ed7e54d64c51ab86517b4fb7735a": {
      "model_module": "@jupyter-widgets/controls",
      "model_module_version": "2.0.0",
      "model_name": "HTMLStyleModel",
      "state": {
       "description_width": "",
       "font_size": null,
       "text_color": null
      }
     },
     "3d41e21d51f14018ab3a37297bf683ef": {
      "model_module": "@jupyter-widgets/controls",
      "model_module_version": "2.0.0",
      "model_name": "HTMLModel",
      "state": {
       "layout": "IPY_MODEL_1d7724350b424e80b3f2974777abd527",
       "style": "IPY_MODEL_512766fdf4ef42b3a99c6343b35e01df",
       "value": "100%"
      }
     },
     "3e7f1c416e824a7db5395fcce0bd6e07": {
      "model_module": "@jupyter-widgets/controls",
      "model_module_version": "2.0.0",
      "model_name": "ProgressStyleModel",
      "state": {
       "description_width": ""
      }
     },
     "3ebec893bae74000a7671592621ffa92": {
      "model_module": "@jupyter-widgets/controls",
      "model_module_version": "2.0.0",
      "model_name": "HTMLModel",
      "state": {
       "layout": "IPY_MODEL_1bd1b19dd6d74beab1cbf5b6697af543",
       "style": "IPY_MODEL_896601e964b44a21b5037937bbf017e5",
       "value": " 412/416 [00:03&lt;00:00, 80.73it/s]"
      }
     },
     "40f97bda6ec840bc89c83a4b7d206fde": {
      "model_module": "@jupyter-widgets/controls",
      "model_module_version": "2.0.0",
      "model_name": "FloatProgressModel",
      "state": {
       "layout": "IPY_MODEL_ba8e1d871ebe4ebcb53dd96360182c5d",
       "max": 416,
       "style": "IPY_MODEL_43cb874daca84813a077b4a697148ba8",
       "value": 416
      }
     },
     "4105d6c90119445abce859265f90830b": {
      "model_module": "@jupyter-widgets/base",
      "model_module_version": "2.0.0",
      "model_name": "LayoutModel",
      "state": {}
     },
     "41ba233bab8848b0bdc82ebb896fe42c": {
      "model_module": "@jupyter-widgets/base",
      "model_module_version": "2.0.0",
      "model_name": "LayoutModel",
      "state": {
       "visibility": "hidden"
      }
     },
     "422cd21bb356401c906e0582b11cabe0": {
      "model_module": "@jupyter-widgets/base",
      "model_module_version": "2.0.0",
      "model_name": "LayoutModel",
      "state": {}
     },
     "4292a893f5a243d9bd1fc900d10c0253": {
      "model_module": "@jupyter-widgets/base",
      "model_module_version": "2.0.0",
      "model_name": "LayoutModel",
      "state": {}
     },
     "429680d950c44aab83002e0df5f39ab7": {
      "model_module": "@jupyter-widgets/controls",
      "model_module_version": "2.0.0",
      "model_name": "ProgressStyleModel",
      "state": {
       "description_width": ""
      }
     },
     "43cb874daca84813a077b4a697148ba8": {
      "model_module": "@jupyter-widgets/controls",
      "model_module_version": "2.0.0",
      "model_name": "ProgressStyleModel",
      "state": {
       "description_width": ""
      }
     },
     "44196c0c1601432ea546a23bdd0cd1ba": {
      "model_module": "@jupyter-widgets/controls",
      "model_module_version": "2.0.0",
      "model_name": "FloatProgressModel",
      "state": {
       "layout": "IPY_MODEL_f744e5ce042f46d5830c4d2d349b4f18",
       "max": 416,
       "style": "IPY_MODEL_455608fb21c04c558875a92cc1b7ec72",
       "value": 416
      }
     },
     "455608fb21c04c558875a92cc1b7ec72": {
      "model_module": "@jupyter-widgets/controls",
      "model_module_version": "2.0.0",
      "model_name": "ProgressStyleModel",
      "state": {
       "description_width": ""
      }
     },
     "46fc95195c724747859b6074e5b951fc": {
      "model_module": "@jupyter-widgets/controls",
      "model_module_version": "2.0.0",
      "model_name": "HBoxModel",
      "state": {
       "children": [
        "IPY_MODEL_91b566837f704009b80f2bfad46a5f99",
        "IPY_MODEL_ec5b790c7e224f4f99fa581c31e05a80",
        "IPY_MODEL_9e74f9f537524ae39d12bedb80b60e9e"
       ],
       "layout": "IPY_MODEL_422cd21bb356401c906e0582b11cabe0"
      }
     },
     "472c5b0d62d74fd7ac430ae3e69f7011": {
      "model_module": "@jupyter-widgets/base",
      "model_module_version": "2.0.0",
      "model_name": "LayoutModel",
      "state": {}
     },
     "47348c5b9eed429e80d3d12a6b8a599e": {
      "model_module": "@jupyter-widgets/controls",
      "model_module_version": "2.0.0",
      "model_name": "HTMLModel",
      "state": {
       "layout": "IPY_MODEL_a1b0704689f84f97a9e12db22cad9319",
       "style": "IPY_MODEL_ec7f5542056648909661571c69854f91",
       "value": " 98%"
      }
     },
     "49089f0a25c44f4cb6cc2af894c10763": {
      "model_module": "@jupyter-widgets/base",
      "model_module_version": "2.0.0",
      "model_name": "LayoutModel",
      "state": {
       "visibility": "hidden"
      }
     },
     "4943c89330e74022af3f8ca70c904a6d": {
      "model_module": "@jupyter-widgets/controls",
      "model_module_version": "2.0.0",
      "model_name": "HTMLModel",
      "state": {
       "layout": "IPY_MODEL_8500e711b0114853856342daf1c25a22",
       "style": "IPY_MODEL_3c160016979140e58ea26faa1e521776",
       "value": "100%"
      }
     },
     "49cfea6093cb4daaae823cbe5ced315b": {
      "model_module": "@jupyter-widgets/controls",
      "model_module_version": "2.0.0",
      "model_name": "FloatProgressModel",
      "state": {
       "layout": "IPY_MODEL_ed3de5b7076e4d3180adf1b82cd0de60",
       "max": 416,
       "style": "IPY_MODEL_544a743edfb04a198271bb7f39bfaed7",
       "value": 416
      }
     },
     "4b11a0de37aa4ca1a1b0abad0f74d135": {
      "model_module": "@jupyter-widgets/controls",
      "model_module_version": "2.0.0",
      "model_name": "FloatProgressModel",
      "state": {
       "layout": "IPY_MODEL_62c6ea2f23dc4e18977d573ceadcdc3c",
       "max": 416,
       "style": "IPY_MODEL_a0b969222abc4a09982c2d5b1fc399c3",
       "value": 416
      }
     },
     "4bb7b343f2cc491c9ee03c7b451a34bd": {
      "model_module": "@jupyter-widgets/base",
      "model_module_version": "2.0.0",
      "model_name": "LayoutModel",
      "state": {}
     },
     "4d35e315a8eb44b8a6e47e31dfea87d4": {
      "model_module": "@jupyter-widgets/base",
      "model_module_version": "2.0.0",
      "model_name": "LayoutModel",
      "state": {}
     },
     "4d5cff262ca24e0a868808c987b01ae4": {
      "model_module": "@jupyter-widgets/base",
      "model_module_version": "2.0.0",
      "model_name": "LayoutModel",
      "state": {}
     },
     "4d735ac88f2e47369169f577111ffb57": {
      "model_module": "@jupyter-widgets/controls",
      "model_module_version": "2.0.0",
      "model_name": "HTMLModel",
      "state": {
       "layout": "IPY_MODEL_a1f3cc7403f5413a9207b94801a471e5",
       "style": "IPY_MODEL_aee9110955d8430e9dc0f16afc1e8c0d",
       "value": " 99%"
      }
     },
     "4e4f125b9cc94b808d4891d898d6ad63": {
      "model_module": "@jupyter-widgets/base",
      "model_module_version": "2.0.0",
      "model_name": "LayoutModel",
      "state": {
       "visibility": "hidden"
      }
     },
     "4eebe51aac43490ca18d01733a154c44": {
      "model_module": "@jupyter-widgets/controls",
      "model_module_version": "2.0.0",
      "model_name": "HTMLModel",
      "state": {
       "layout": "IPY_MODEL_2d3b683370c449daacd4eaa5c3afd673",
       "style": "IPY_MODEL_d0d9fe4934224d3bb0cbd30322bfce73",
       "value": "100%"
      }
     },
     "4f9e98cabed4412bb30b7bf77476c74e": {
      "model_module": "@jupyter-widgets/controls",
      "model_module_version": "2.0.0",
      "model_name": "ProgressStyleModel",
      "state": {
       "description_width": ""
      }
     },
     "512766fdf4ef42b3a99c6343b35e01df": {
      "model_module": "@jupyter-widgets/controls",
      "model_module_version": "2.0.0",
      "model_name": "HTMLStyleModel",
      "state": {
       "description_width": "",
       "font_size": null,
       "text_color": null
      }
     },
     "544a743edfb04a198271bb7f39bfaed7": {
      "model_module": "@jupyter-widgets/controls",
      "model_module_version": "2.0.0",
      "model_name": "ProgressStyleModel",
      "state": {
       "description_width": ""
      }
     },
     "5474a4623673482698c91962959be45d": {
      "model_module": "@jupyter-widgets/base",
      "model_module_version": "2.0.0",
      "model_name": "LayoutModel",
      "state": {}
     },
     "54c9ad76bedf4413a09132dc9ab5d42d": {
      "model_module": "@jupyter-widgets/controls",
      "model_module_version": "2.0.0",
      "model_name": "HTMLModel",
      "state": {
       "layout": "IPY_MODEL_652fe8fe40c040fe8062f10fc136f70f",
       "style": "IPY_MODEL_ebb96ef479e2418aa765152fec14b5f1",
       "value": " 416/416 [00:01&lt;00:00, 376.92it/s]"
      }
     },
     "57302e0fecc0402ebaf2ff2197063895": {
      "model_module": "@jupyter-widgets/controls",
      "model_module_version": "2.0.0",
      "model_name": "HTMLStyleModel",
      "state": {
       "description_width": "",
       "font_size": null,
       "text_color": null
      }
     },
     "588a95b68e0b4eeda312aefbb0bd0a89": {
      "model_module": "@jupyter-widgets/base",
      "model_module_version": "2.0.0",
      "model_name": "LayoutModel",
      "state": {}
     },
     "58bdb3d557b746e0a4de3b94407cecfc": {
      "model_module": "@jupyter-widgets/controls",
      "model_module_version": "2.0.0",
      "model_name": "HTMLStyleModel",
      "state": {
       "description_width": "",
       "font_size": null,
       "text_color": null
      }
     },
     "5cf0bdeb0c0841b5be72e34c1d5c7a3b": {
      "model_module": "@jupyter-widgets/controls",
      "model_module_version": "2.0.0",
      "model_name": "HTMLModel",
      "state": {
       "layout": "IPY_MODEL_26d8445fc677461f958f0525d0586708",
       "style": "IPY_MODEL_efc8b85552424199bd27fb9415f93574",
       "value": "100%"
      }
     },
     "5e64e99026954a7ea76c6971e34e5fbb": {
      "model_module": "@jupyter-widgets/base",
      "model_module_version": "2.0.0",
      "model_name": "LayoutModel",
      "state": {}
     },
     "610c68385d0c4d87bf9e783342b01ce8": {
      "model_module": "@jupyter-widgets/base",
      "model_module_version": "2.0.0",
      "model_name": "LayoutModel",
      "state": {}
     },
     "616f963140884fb595c5a215247b0b6d": {
      "model_module": "@jupyter-widgets/controls",
      "model_module_version": "2.0.0",
      "model_name": "HTMLModel",
      "state": {
       "layout": "IPY_MODEL_8066e6d2458b435cad102178063b154c",
       "style": "IPY_MODEL_8698f8a74cd6448d8a6569e0893f108b",
       "value": " 390/416 [00:01&lt;00:00, 315.40it/s]"
      }
     },
     "62231dc34416494d90d5a0fc1cc4bfd1": {
      "model_module": "@jupyter-widgets/base",
      "model_module_version": "2.0.0",
      "model_name": "LayoutModel",
      "state": {}
     },
     "6267c6cf59b84ff2818893323ed96589": {
      "model_module": "@jupyter-widgets/controls",
      "model_module_version": "2.0.0",
      "model_name": "FloatProgressModel",
      "state": {
       "bar_style": "success",
       "layout": "IPY_MODEL_1b2de042796c407fb7f568ddf8b14a23",
       "max": 2,
       "style": "IPY_MODEL_0277993a3e2e44218b9d659bbb99a672",
       "value": 2
      }
     },
     "62c6ea2f23dc4e18977d573ceadcdc3c": {
      "model_module": "@jupyter-widgets/base",
      "model_module_version": "2.0.0",
      "model_name": "LayoutModel",
      "state": {}
     },
     "64469ea29f6448fda85a120731b6d082": {
      "model_module": "@jupyter-widgets/controls",
      "model_module_version": "2.0.0",
      "model_name": "HTMLStyleModel",
      "state": {
       "description_width": "",
       "font_size": null,
       "text_color": null
      }
     },
     "652fe8fe40c040fe8062f10fc136f70f": {
      "model_module": "@jupyter-widgets/base",
      "model_module_version": "2.0.0",
      "model_name": "LayoutModel",
      "state": {}
     },
     "6656e9734fdc46279e48887b02e50cfe": {
      "model_module": "@jupyter-widgets/controls",
      "model_module_version": "2.0.0",
      "model_name": "HTMLModel",
      "state": {
       "layout": "IPY_MODEL_2aee3a331d2648fa91c4cfa304c7c916",
       "style": "IPY_MODEL_f511ae293ad8467691120ab766bc9e60",
       "value": " 383/416 [00:01&lt;00:00, 340.71it/s]"
      }
     },
     "6668c6fc94ff4590a75b08c7008aff69": {
      "model_module": "@jupyter-widgets/base",
      "model_module_version": "2.0.0",
      "model_name": "LayoutModel",
      "state": {}
     },
     "68b4bdc944e84dcf8a340a15e68dcbbd": {
      "model_module": "@jupyter-widgets/controls",
      "model_module_version": "2.0.0",
      "model_name": "HTMLModel",
      "state": {
       "layout": "IPY_MODEL_dc0fdaf8681c4648a93d88806b7da382",
       "style": "IPY_MODEL_27dc529adc2645ee9944d144a1a9de6c",
       "value": " 415/416 [00:03&lt;00:00, 150.87it/s]"
      }
     },
     "68e065da46cb4070aa1507888178ceaa": {
      "model_module": "@jupyter-widgets/controls",
      "model_module_version": "2.0.0",
      "model_name": "HTMLModel",
      "state": {
       "layout": "IPY_MODEL_8ec52e6d70234cb3a2f676c783fc5691",
       "style": "IPY_MODEL_3022f924dd4f4ebeaad3c27fea3993ba",
       "value": " 93%"
      }
     },
     "6986111c304242e4916ecd00f0c67e8e": {
      "model_module": "@jupyter-widgets/controls",
      "model_module_version": "2.0.0",
      "model_name": "FloatProgressModel",
      "state": {
       "layout": "IPY_MODEL_4292a893f5a243d9bd1fc900d10c0253",
       "max": 416,
       "style": "IPY_MODEL_af925b9558cf4252ad314f70d4f20453",
       "value": 416
      }
     },
     "69e483f8d66d49dfb51dee2ff90fc2a2": {
      "model_module": "@jupyter-widgets/controls",
      "model_module_version": "2.0.0",
      "model_name": "HTMLModel",
      "state": {
       "layout": "IPY_MODEL_8309ad9d69c6443f987e0763e78dcfcc",
       "style": "IPY_MODEL_6ba371c0d0a34a01baee44239825f651",
       "value": " 98%"
      }
     },
     "6ae3baab7ee94526be3980aaaef75532": {
      "model_module": "@jupyter-widgets/base",
      "model_module_version": "2.0.0",
      "model_name": "LayoutModel",
      "state": {}
     },
     "6ba371c0d0a34a01baee44239825f651": {
      "model_module": "@jupyter-widgets/controls",
      "model_module_version": "2.0.0",
      "model_name": "HTMLStyleModel",
      "state": {
       "description_width": "",
       "font_size": null,
       "text_color": null
      }
     },
     "6bab7ac0153c4d9598cc597878586f79": {
      "model_module": "@jupyter-widgets/controls",
      "model_module_version": "2.0.0",
      "model_name": "ProgressStyleModel",
      "state": {
       "description_width": ""
      }
     },
     "6ca45ffcad1547f78dd56736aa6c02ba": {
      "model_module": "@jupyter-widgets/controls",
      "model_module_version": "2.0.0",
      "model_name": "HBoxModel",
      "state": {
       "children": [
        "IPY_MODEL_3d41e21d51f14018ab3a37297bf683ef",
        "IPY_MODEL_6267c6cf59b84ff2818893323ed96589",
        "IPY_MODEL_0180370eb4624cec9850f95730b6a8d2"
       ],
       "layout": "IPY_MODEL_04e537ea22c94a5f8971cb4531735994"
      }
     },
     "6e367d1123644869989535acc7c8e740": {
      "model_module": "@jupyter-widgets/controls",
      "model_module_version": "2.0.0",
      "model_name": "HTMLModel",
      "state": {
       "layout": "IPY_MODEL_ed2778de4c7046b5b92a913d5f2ade05",
       "style": "IPY_MODEL_0202a115c02a425abfc1271506bc0037",
       "value": " 99%"
      }
     },
     "6f658b6b8fa340ee979dfc71423cf60b": {
      "model_module": "@jupyter-widgets/controls",
      "model_module_version": "2.0.0",
      "model_name": "FloatProgressModel",
      "state": {
       "layout": "IPY_MODEL_a102aa96c661427589300d8896727cc4",
       "max": 416,
       "style": "IPY_MODEL_0b26e1b81cd14e9692bb0810ca229765",
       "value": 416
      }
     },
     "7070fa3ba24547c7aab8e9625ded0083": {
      "model_module": "@jupyter-widgets/controls",
      "model_module_version": "2.0.0",
      "model_name": "HTMLStyleModel",
      "state": {
       "description_width": "",
       "font_size": null,
       "text_color": null
      }
     },
     "70c49178f88847eeac8d909032719f8e": {
      "model_module": "@jupyter-widgets/controls",
      "model_module_version": "2.0.0",
      "model_name": "HBoxModel",
      "state": {
       "children": [
        "IPY_MODEL_0898546bb3974b76b90636e1b2b0793b",
        "IPY_MODEL_0e7426f39bc64d60bce92f5d0254db0d",
        "IPY_MODEL_32f9b02d981544b493e8256077d29fe2"
       ],
       "layout": "IPY_MODEL_12b3dc0c2bf84115befde6275f263d59"
      }
     },
     "7130c7254fbf447881a539a07b9d243d": {
      "model_module": "@jupyter-widgets/base",
      "model_module_version": "2.0.0",
      "model_name": "LayoutModel",
      "state": {}
     },
     "7237afc6eb314a64916f342c1fff255f": {
      "model_module": "@jupyter-widgets/base",
      "model_module_version": "2.0.0",
      "model_name": "LayoutModel",
      "state": {}
     },
     "729a55fa13884dd4acca1e40efcd61e6": {
      "model_module": "@jupyter-widgets/base",
      "model_module_version": "2.0.0",
      "model_name": "LayoutModel",
      "state": {}
     },
     "75172616754f451baf8dd9f5d0165cbe": {
      "model_module": "@jupyter-widgets/base",
      "model_module_version": "2.0.0",
      "model_name": "LayoutModel",
      "state": {}
     },
     "75e6928b687d43d999262391f0392a0f": {
      "model_module": "@jupyter-widgets/controls",
      "model_module_version": "2.0.0",
      "model_name": "HBoxModel",
      "state": {
       "children": [
        "IPY_MODEL_5cf0bdeb0c0841b5be72e34c1d5c7a3b",
        "IPY_MODEL_afdd9324ae124f17af52df08cfdbbcb6",
        "IPY_MODEL_e2c9b9d7f5aa45438047b9153729bba3"
       ],
       "layout": "IPY_MODEL_8c9b9f0cd5a242d785841a8f9815a8eb"
      }
     },
     "760bea7d7fbe4cdd935b10c56d1094b7": {
      "model_module": "@jupyter-widgets/controls",
      "model_module_version": "2.0.0",
      "model_name": "HTMLModel",
      "state": {
       "layout": "IPY_MODEL_729a55fa13884dd4acca1e40efcd61e6",
       "style": "IPY_MODEL_8f6e6de8f9904c96afdb23c935563660",
       "value": " 99%"
      }
     },
     "78236e6b50d9442caa776d8d452d2fd7": {
      "model_module": "@jupyter-widgets/controls",
      "model_module_version": "2.0.0",
      "model_name": "HTMLModel",
      "state": {
       "layout": "IPY_MODEL_d80cd42a32db49ceadd56bc2736c98cf",
       "style": "IPY_MODEL_2db06456c345404abecfc1826431c5c9",
       "value": " 410/416 [00:01&lt;00:00, 371.50it/s]"
      }
     },
     "787d5533e50c4f69adc16de9dcf5a033": {
      "model_module": "@jupyter-widgets/controls",
      "model_module_version": "2.0.0",
      "model_name": "FloatProgressModel",
      "state": {
       "bar_style": "success",
       "layout": "IPY_MODEL_fab3909cd01349ebb3c61ec4c9072f8a",
       "max": 2,
       "style": "IPY_MODEL_0908876b03934eeaaa508143d46f77ce",
       "value": 2
      }
     },
     "78ee9866899c461e94308ab4226840ae": {
      "model_module": "@jupyter-widgets/controls",
      "model_module_version": "2.0.0",
      "model_name": "HTMLModel",
      "state": {
       "layout": "IPY_MODEL_88b97437238c4a63887ab5251fcc6e54",
       "style": "IPY_MODEL_b482b07a8cb9481cba206c3ad0cd4597",
       "value": " 403/416 [00:01&lt;00:00, 365.86it/s]"
      }
     },
     "7beec74571b347038f3c6e2c7b54fbde": {
      "model_module": "@jupyter-widgets/base",
      "model_module_version": "2.0.0",
      "model_name": "LayoutModel",
      "state": {
       "visibility": "hidden"
      }
     },
     "7c883d2a479f4ca3b6c3494788bd8938": {
      "model_module": "@jupyter-widgets/controls",
      "model_module_version": "2.0.0",
      "model_name": "ProgressStyleModel",
      "state": {
       "description_width": ""
      }
     },
     "7c88aeec95c140498689c9a1d83b89fd": {
      "model_module": "@jupyter-widgets/controls",
      "model_module_version": "2.0.0",
      "model_name": "HTMLStyleModel",
      "state": {
       "description_width": "",
       "font_size": null,
       "text_color": null
      }
     },
     "7cb9f111df4a40be9bcbc5c15a943902": {
      "model_module": "@jupyter-widgets/base",
      "model_module_version": "2.0.0",
      "model_name": "LayoutModel",
      "state": {}
     },
     "7cf1e4dbe5f64fdaac9368fef605e494": {
      "model_module": "@jupyter-widgets/base",
      "model_module_version": "2.0.0",
      "model_name": "LayoutModel",
      "state": {}
     },
     "7e93cd26be474a86b15abbbd8c047703": {
      "model_module": "@jupyter-widgets/controls",
      "model_module_version": "2.0.0",
      "model_name": "HTMLModel",
      "state": {
       "layout": "IPY_MODEL_6668c6fc94ff4590a75b08c7008aff69",
       "style": "IPY_MODEL_d4309110022c461d877e599e87a901b3",
       "value": " 2/2 [00:07&lt;00:00,  3.61s/it]"
      }
     },
     "7f33c3fe78f8442d9c929c4a7d49b803": {
      "model_module": "@jupyter-widgets/base",
      "model_module_version": "2.0.0",
      "model_name": "LayoutModel",
      "state": {}
     },
     "7f3903059a6349278844bf89cb6c7e39": {
      "model_module": "@jupyter-widgets/base",
      "model_module_version": "2.0.0",
      "model_name": "LayoutModel",
      "state": {}
     },
     "8066e6d2458b435cad102178063b154c": {
      "model_module": "@jupyter-widgets/base",
      "model_module_version": "2.0.0",
      "model_name": "LayoutModel",
      "state": {}
     },
     "8161cbc673b642bf8db021c2b18be0d8": {
      "model_module": "@jupyter-widgets/controls",
      "model_module_version": "2.0.0",
      "model_name": "HTMLStyleModel",
      "state": {
       "description_width": "",
       "font_size": null,
       "text_color": null
      }
     },
     "8309ad9d69c6443f987e0763e78dcfcc": {
      "model_module": "@jupyter-widgets/base",
      "model_module_version": "2.0.0",
      "model_name": "LayoutModel",
      "state": {}
     },
     "8500e711b0114853856342daf1c25a22": {
      "model_module": "@jupyter-widgets/base",
      "model_module_version": "2.0.0",
      "model_name": "LayoutModel",
      "state": {}
     },
     "8698f8a74cd6448d8a6569e0893f108b": {
      "model_module": "@jupyter-widgets/controls",
      "model_module_version": "2.0.0",
      "model_name": "HTMLStyleModel",
      "state": {
       "description_width": "",
       "font_size": null,
       "text_color": null
      }
     },
     "88b97437238c4a63887ab5251fcc6e54": {
      "model_module": "@jupyter-widgets/base",
      "model_module_version": "2.0.0",
      "model_name": "LayoutModel",
      "state": {}
     },
     "896601e964b44a21b5037937bbf017e5": {
      "model_module": "@jupyter-widgets/controls",
      "model_module_version": "2.0.0",
      "model_name": "HTMLStyleModel",
      "state": {
       "description_width": "",
       "font_size": null,
       "text_color": null
      }
     },
     "89d64399b70345a0b44ebb8055d50f3b": {
      "model_module": "@jupyter-widgets/controls",
      "model_module_version": "2.0.0",
      "model_name": "HTMLModel",
      "state": {
       "layout": "IPY_MODEL_cbb3c42ba99d42269234aa7b36774688",
       "style": "IPY_MODEL_b5dbb08739374e0c94332e0ccd36322d",
       "value": " 412/416 [00:01&lt;00:00, 336.02it/s]"
      }
     },
     "8a205f5316e24dddabcb274ac71869e4": {
      "model_module": "@jupyter-widgets/controls",
      "model_module_version": "2.0.0",
      "model_name": "HTMLModel",
      "state": {
       "layout": "IPY_MODEL_3bdbfd84d0f44be89577c011b48dee5d",
       "style": "IPY_MODEL_2ed09f81ec944adfbd6426ac12499eff",
       "value": "100%"
      }
     },
     "8c9b9f0cd5a242d785841a8f9815a8eb": {
      "model_module": "@jupyter-widgets/base",
      "model_module_version": "2.0.0",
      "model_name": "LayoutModel",
      "state": {}
     },
     "8d984c13e78d4ebd9836978163558f51": {
      "model_module": "@jupyter-widgets/base",
      "model_module_version": "2.0.0",
      "model_name": "LayoutModel",
      "state": {}
     },
     "8ec52e6d70234cb3a2f676c783fc5691": {
      "model_module": "@jupyter-widgets/base",
      "model_module_version": "2.0.0",
      "model_name": "LayoutModel",
      "state": {}
     },
     "8f6e6de8f9904c96afdb23c935563660": {
      "model_module": "@jupyter-widgets/controls",
      "model_module_version": "2.0.0",
      "model_name": "HTMLStyleModel",
      "state": {
       "description_width": "",
       "font_size": null,
       "text_color": null
      }
     },
     "9111500f70084009805a7b9b2e372454": {
      "model_module": "@jupyter-widgets/controls",
      "model_module_version": "2.0.0",
      "model_name": "ProgressStyleModel",
      "state": {
       "description_width": ""
      }
     },
     "91b566837f704009b80f2bfad46a5f99": {
      "model_module": "@jupyter-widgets/controls",
      "model_module_version": "2.0.0",
      "model_name": "HTMLModel",
      "state": {
       "layout": "IPY_MODEL_996632eb92d9432f9831677b3dd8ace8",
       "style": "IPY_MODEL_ae9a5e5639e547cc9ae9f6dbab3f2af5",
       "value": "  0%"
      }
     },
     "9324aa8c8c4c4406a18bc234c26cd0ed": {
      "model_module": "@jupyter-widgets/base",
      "model_module_version": "2.0.0",
      "model_name": "LayoutModel",
      "state": {}
     },
     "9447f99878ba4e60905341239f81251b": {
      "model_module": "@jupyter-widgets/controls",
      "model_module_version": "2.0.0",
      "model_name": "HTMLModel",
      "state": {
       "layout": "IPY_MODEL_4bb7b343f2cc491c9ee03c7b451a34bd",
       "style": "IPY_MODEL_c47eec4e735f4c50ad3abd21b56ea3d8",
       "value": " 93%"
      }
     },
     "9480dc42a1cf443883d672f86eb5e00f": {
      "model_module": "@jupyter-widgets/controls",
      "model_module_version": "2.0.0",
      "model_name": "ProgressStyleModel",
      "state": {
       "description_width": ""
      }
     },
     "95878ad4e3a74ea59893645b0ca4e9af": {
      "model_module": "@jupyter-widgets/base",
      "model_module_version": "2.0.0",
      "model_name": "LayoutModel",
      "state": {}
     },
     "9614aeb4e6dc4bc0b118f298199604e9": {
      "model_module": "@jupyter-widgets/base",
      "model_module_version": "2.0.0",
      "model_name": "LayoutModel",
      "state": {}
     },
     "963da7821758488eb7b46809cacd38f0": {
      "model_module": "@jupyter-widgets/base",
      "model_module_version": "2.0.0",
      "model_name": "LayoutModel",
      "state": {}
     },
     "9709a392b1f8496198bc5299b5cb3ea5": {
      "model_module": "@jupyter-widgets/controls",
      "model_module_version": "2.0.0",
      "model_name": "FloatProgressModel",
      "state": {
       "layout": "IPY_MODEL_7f3903059a6349278844bf89cb6c7e39",
       "max": 416,
       "style": "IPY_MODEL_0a549fd97dbb41a69de4b4efb45504d4",
       "value": 416
      }
     },
     "98769a968a4144648af4fd1cbe3f4d13": {
      "model_module": "@jupyter-widgets/base",
      "model_module_version": "2.0.0",
      "model_name": "LayoutModel",
      "state": {}
     },
     "996632eb92d9432f9831677b3dd8ace8": {
      "model_module": "@jupyter-widgets/base",
      "model_module_version": "2.0.0",
      "model_name": "LayoutModel",
      "state": {}
     },
     "99e8a429bc8f4744b22a29343770a1d4": {
      "model_module": "@jupyter-widgets/controls",
      "model_module_version": "2.0.0",
      "model_name": "FloatProgressModel",
      "state": {
       "layout": "IPY_MODEL_472c5b0d62d74fd7ac430ae3e69f7011",
       "max": 416,
       "style": "IPY_MODEL_ec5342c47a5d4fbbab3a133951280dc0",
       "value": 416
      }
     },
     "9ad24f95488e40e4a77fafea949e3156": {
      "model_module": "@jupyter-widgets/controls",
      "model_module_version": "2.0.0",
      "model_name": "HTMLStyleModel",
      "state": {
       "description_width": "",
       "font_size": null,
       "text_color": null
      }
     },
     "9d1b0dc84ddb46f1aca2856b22a9176c": {
      "model_module": "@jupyter-widgets/controls",
      "model_module_version": "2.0.0",
      "model_name": "HTMLModel",
      "state": {
       "layout": "IPY_MODEL_75172616754f451baf8dd9f5d0165cbe",
       "style": "IPY_MODEL_cd76faad2ab34932ba2f5087c891ff9d",
       "value": " 95%"
      }
     },
     "9d8402b836f24ff88f1493d4ae3e0b73": {
      "model_module": "@jupyter-widgets/base",
      "model_module_version": "2.0.0",
      "model_name": "LayoutModel",
      "state": {
       "visibility": "hidden"
      }
     },
     "9e74f9f537524ae39d12bedb80b60e9e": {
      "model_module": "@jupyter-widgets/controls",
      "model_module_version": "2.0.0",
      "model_name": "HTMLModel",
      "state": {
       "layout": "IPY_MODEL_5474a4623673482698c91962959be45d",
       "style": "IPY_MODEL_ffa23294f336486b857e1c21de82f81b",
       "value": " 0/2 [00:01&lt;?, ?it/s]"
      }
     },
     "9e89ce9b96aa409aac4003a4f2dc959f": {
      "model_module": "@jupyter-widgets/controls",
      "model_module_version": "2.0.0",
      "model_name": "HTMLModel",
      "state": {
       "layout": "IPY_MODEL_c8f0d52536b34d49899c08ae61f9b79e",
       "style": "IPY_MODEL_1ec49f686b4b4df689fe5ed8edb9724b",
       "value": " 99%"
      }
     },
     "a030fb5eeecc4f7faf4e8e8c38c70415": {
      "model_module": "@jupyter-widgets/controls",
      "model_module_version": "2.0.0",
      "model_name": "FloatProgressModel",
      "state": {
       "layout": "IPY_MODEL_588a95b68e0b4eeda312aefbb0bd0a89",
       "max": 416,
       "style": "IPY_MODEL_deb09cee22284f7f93dba0cea0cc6984",
       "value": 416
      }
     },
     "a0b969222abc4a09982c2d5b1fc399c3": {
      "model_module": "@jupyter-widgets/controls",
      "model_module_version": "2.0.0",
      "model_name": "ProgressStyleModel",
      "state": {
       "description_width": ""
      }
     },
     "a102aa96c661427589300d8896727cc4": {
      "model_module": "@jupyter-widgets/base",
      "model_module_version": "2.0.0",
      "model_name": "LayoutModel",
      "state": {}
     },
     "a15e159111194997bc68876839e32990": {
      "model_module": "@jupyter-widgets/controls",
      "model_module_version": "2.0.0",
      "model_name": "HTMLStyleModel",
      "state": {
       "description_width": "",
       "font_size": null,
       "text_color": null
      }
     },
     "a1b0704689f84f97a9e12db22cad9319": {
      "model_module": "@jupyter-widgets/base",
      "model_module_version": "2.0.0",
      "model_name": "LayoutModel",
      "state": {}
     },
     "a1f3cc7403f5413a9207b94801a471e5": {
      "model_module": "@jupyter-widgets/base",
      "model_module_version": "2.0.0",
      "model_name": "LayoutModel",
      "state": {}
     },
     "a224c233242f4902862b0c7350a52fa5": {
      "model_module": "@jupyter-widgets/base",
      "model_module_version": "2.0.0",
      "model_name": "LayoutModel",
      "state": {
       "visibility": "hidden"
      }
     },
     "a321de74d0de428786a457b409dc3690": {
      "model_module": "@jupyter-widgets/controls",
      "model_module_version": "2.0.0",
      "model_name": "HBoxModel",
      "state": {
       "children": [
        "IPY_MODEL_4eebe51aac43490ca18d01733a154c44",
        "IPY_MODEL_f94864128512412aa68bef7e95a14838",
        "IPY_MODEL_7e93cd26be474a86b15abbbd8c047703"
       ],
       "layout": "IPY_MODEL_17b47483479e44bdb8f1e5b09ca50eb2"
      }
     },
     "a48c82a15580493791b1374e3ecc02ed": {
      "model_module": "@jupyter-widgets/controls",
      "model_module_version": "2.0.0",
      "model_name": "FloatProgressModel",
      "state": {
       "layout": "IPY_MODEL_29700065a4f04a96891bb2020215d8cd",
       "max": 416,
       "style": "IPY_MODEL_fd769188f4364f809cafd6b143192968",
       "value": 416
      }
     },
     "a56a76f3e0024a80bfa1d0cc3298b6f1": {
      "model_module": "@jupyter-widgets/controls",
      "model_module_version": "2.0.0",
      "model_name": "HTMLStyleModel",
      "state": {
       "description_width": "",
       "font_size": null,
       "text_color": null
      }
     },
     "a901f3cf788048179b5906570819bef6": {
      "model_module": "@jupyter-widgets/base",
      "model_module_version": "2.0.0",
      "model_name": "LayoutModel",
      "state": {}
     },
     "ab1f4d1a68ec4794bd0480541bc875f9": {
      "model_module": "@jupyter-widgets/base",
      "model_module_version": "2.0.0",
      "model_name": "LayoutModel",
      "state": {
       "visibility": "hidden"
      }
     },
     "ac160bee3dbc4d619d74125d96868648": {
      "model_module": "@jupyter-widgets/controls",
      "model_module_version": "2.0.0",
      "model_name": "HTMLStyleModel",
      "state": {
       "description_width": "",
       "font_size": null,
       "text_color": null
      }
     },
     "ae9a5e5639e547cc9ae9f6dbab3f2af5": {
      "model_module": "@jupyter-widgets/controls",
      "model_module_version": "2.0.0",
      "model_name": "HTMLStyleModel",
      "state": {
       "description_width": "",
       "font_size": null,
       "text_color": null
      }
     },
     "aee9110955d8430e9dc0f16afc1e8c0d": {
      "model_module": "@jupyter-widgets/controls",
      "model_module_version": "2.0.0",
      "model_name": "HTMLStyleModel",
      "state": {
       "description_width": "",
       "font_size": null,
       "text_color": null
      }
     },
     "af888e9fc1904692abab5f995e58ed23": {
      "model_module": "@jupyter-widgets/base",
      "model_module_version": "2.0.0",
      "model_name": "LayoutModel",
      "state": {}
     },
     "af925b9558cf4252ad314f70d4f20453": {
      "model_module": "@jupyter-widgets/controls",
      "model_module_version": "2.0.0",
      "model_name": "ProgressStyleModel",
      "state": {
       "description_width": ""
      }
     },
     "afdd9324ae124f17af52df08cfdbbcb6": {
      "model_module": "@jupyter-widgets/controls",
      "model_module_version": "2.0.0",
      "model_name": "FloatProgressModel",
      "state": {
       "bar_style": "success",
       "layout": "IPY_MODEL_bfb027c9e56548d6831645f9ae66ff19",
       "max": 2,
       "style": "IPY_MODEL_6bab7ac0153c4d9598cc597878586f79",
       "value": 2
      }
     },
     "b28a65fcf61a44b3b44ee8dc24c838a8": {
      "model_module": "@jupyter-widgets/base",
      "model_module_version": "2.0.0",
      "model_name": "LayoutModel",
      "state": {}
     },
     "b482b07a8cb9481cba206c3ad0cd4597": {
      "model_module": "@jupyter-widgets/controls",
      "model_module_version": "2.0.0",
      "model_name": "HTMLStyleModel",
      "state": {
       "description_width": "",
       "font_size": null,
       "text_color": null
      }
     },
     "b5dbb08739374e0c94332e0ccd36322d": {
      "model_module": "@jupyter-widgets/controls",
      "model_module_version": "2.0.0",
      "model_name": "HTMLStyleModel",
      "state": {
       "description_width": "",
       "font_size": null,
       "text_color": null
      }
     },
     "b68d7802b7294580a7f5e41c19a8e615": {
      "model_module": "@jupyter-widgets/base",
      "model_module_version": "2.0.0",
      "model_name": "LayoutModel",
      "state": {}
     },
     "b745fe45659b4e86b4f2d902c0a6ad23": {
      "model_module": "@jupyter-widgets/controls",
      "model_module_version": "2.0.0",
      "model_name": "HTMLModel",
      "state": {
       "layout": "IPY_MODEL_4d35e315a8eb44b8a6e47e31dfea87d4",
       "style": "IPY_MODEL_36a53c3950d74e14b8767ef90d350385",
       "value": " 94%"
      }
     },
     "b894083d9cd04bf2b9c4580e95bc1e0a": {
      "model_module": "@jupyter-widgets/controls",
      "model_module_version": "2.0.0",
      "model_name": "FloatProgressModel",
      "state": {
       "layout": "IPY_MODEL_054a54bb795d4b5688f38b93b4517f91",
       "max": 416,
       "style": "IPY_MODEL_2a88397fa15e41e88a296eca98da795d",
       "value": 416
      }
     },
     "b9196933a89f4b9887fd19defd7bee67": {
      "model_module": "@jupyter-widgets/base",
      "model_module_version": "2.0.0",
      "model_name": "LayoutModel",
      "state": {}
     },
     "b96b4e58c06b4c35ab21f5e71d67b658": {
      "model_module": "@jupyter-widgets/controls",
      "model_module_version": "2.0.0",
      "model_name": "HBoxModel",
      "state": {
       "children": [
        "IPY_MODEL_8a205f5316e24dddabcb274ac71869e4",
        "IPY_MODEL_e947814e0e7841c49ee4b9b044ec6650",
        "IPY_MODEL_bf1eecfa15a347b4a0062b30d95894aa"
       ],
       "layout": "IPY_MODEL_b68d7802b7294580a7f5e41c19a8e615"
      }
     },
     "ba8e1d871ebe4ebcb53dd96360182c5d": {
      "model_module": "@jupyter-widgets/base",
      "model_module_version": "2.0.0",
      "model_name": "LayoutModel",
      "state": {}
     },
     "bd63212a19574f92a78166a568bdd65c": {
      "model_module": "@jupyter-widgets/controls",
      "model_module_version": "2.0.0",
      "model_name": "HTMLModel",
      "state": {
       "layout": "IPY_MODEL_38d2f7748d014de698c904fd19e775a7",
       "style": "IPY_MODEL_dced77c545d240ba82a5cc6583f61339",
       "value": " 388/416 [00:01&lt;00:00, 387.40it/s]"
      }
     },
     "be704421dca44a1a9c9fa85e4ad9a0ce": {
      "model_module": "@jupyter-widgets/controls",
      "model_module_version": "2.0.0",
      "model_name": "HTMLModel",
      "state": {
       "layout": "IPY_MODEL_8d984c13e78d4ebd9836978163558f51",
       "style": "IPY_MODEL_ac160bee3dbc4d619d74125d96868648",
       "value": "100%"
      }
     },
     "bf1eecfa15a347b4a0062b30d95894aa": {
      "model_module": "@jupyter-widgets/controls",
      "model_module_version": "2.0.0",
      "model_name": "HTMLModel",
      "state": {
       "layout": "IPY_MODEL_020d7bbed9a24fe68b9fbebcc13ae9fd",
       "style": "IPY_MODEL_37927ed38cbf46d0b27dd6173b2263cb",
       "value": " 2/2 [00:02&lt;00:00,  1.13s/it]"
      }
     },
     "bf39102c43df4d3ab336e7883169347c": {
      "model_module": "@jupyter-widgets/base",
      "model_module_version": "2.0.0",
      "model_name": "LayoutModel",
      "state": {}
     },
     "bfb027c9e56548d6831645f9ae66ff19": {
      "model_module": "@jupyter-widgets/base",
      "model_module_version": "2.0.0",
      "model_name": "LayoutModel",
      "state": {}
     },
     "c21c0a38bb374f80a3bd5d399b45279e": {
      "model_module": "@jupyter-widgets/base",
      "model_module_version": "2.0.0",
      "model_name": "LayoutModel",
      "state": {
       "visibility": "hidden"
      }
     },
     "c45bb608ba6546ba842aa57d67e3c492": {
      "model_module": "@jupyter-widgets/controls",
      "model_module_version": "2.0.0",
      "model_name": "FloatProgressModel",
      "state": {
       "layout": "IPY_MODEL_95878ad4e3a74ea59893645b0ca4e9af",
       "max": 416,
       "style": "IPY_MODEL_9480dc42a1cf443883d672f86eb5e00f",
       "value": 416
      }
     },
     "c47eec4e735f4c50ad3abd21b56ea3d8": {
      "model_module": "@jupyter-widgets/controls",
      "model_module_version": "2.0.0",
      "model_name": "HTMLStyleModel",
      "state": {
       "description_width": "",
       "font_size": null,
       "text_color": null
      }
     },
     "c5307b11eb7148899d5648c74916bbdd": {
      "model_module": "@jupyter-widgets/base",
      "model_module_version": "2.0.0",
      "model_name": "LayoutModel",
      "state": {
       "visibility": "hidden"
      }
     },
     "c7e9b87358b04799abce3038b761b770": {
      "model_module": "@jupyter-widgets/controls",
      "model_module_version": "2.0.0",
      "model_name": "HTMLStyleModel",
      "state": {
       "description_width": "",
       "font_size": null,
       "text_color": null
      }
     },
     "c8f0d52536b34d49899c08ae61f9b79e": {
      "model_module": "@jupyter-widgets/base",
      "model_module_version": "2.0.0",
      "model_name": "LayoutModel",
      "state": {}
     },
     "c93c7787bd6a48b4999f900476fc3e16": {
      "model_module": "@jupyter-widgets/base",
      "model_module_version": "2.0.0",
      "model_name": "LayoutModel",
      "state": {}
     },
     "cbb3c42ba99d42269234aa7b36774688": {
      "model_module": "@jupyter-widgets/base",
      "model_module_version": "2.0.0",
      "model_name": "LayoutModel",
      "state": {}
     },
     "cc6a1207203d4aef8dfac0e5d439e13b": {
      "model_module": "@jupyter-widgets/base",
      "model_module_version": "2.0.0",
      "model_name": "LayoutModel",
      "state": {}
     },
     "cd0e6dfd4272496395cf8ff2b800cc4f": {
      "model_module": "@jupyter-widgets/base",
      "model_module_version": "2.0.0",
      "model_name": "LayoutModel",
      "state": {}
     },
     "cd76faad2ab34932ba2f5087c891ff9d": {
      "model_module": "@jupyter-widgets/controls",
      "model_module_version": "2.0.0",
      "model_name": "HTMLStyleModel",
      "state": {
       "description_width": "",
       "font_size": null,
       "text_color": null
      }
     },
     "cdaae68369e842c2a966c353c1ccb01e": {
      "model_module": "@jupyter-widgets/controls",
      "model_module_version": "2.0.0",
      "model_name": "ProgressStyleModel",
      "state": {
       "description_width": ""
      }
     },
     "ce49905ca88141ec9d4b43a2cb1e3727": {
      "model_module": "@jupyter-widgets/controls",
      "model_module_version": "2.0.0",
      "model_name": "HTMLStyleModel",
      "state": {
       "description_width": "",
       "font_size": null,
       "text_color": null
      }
     },
     "ceb41841856643d78d153e3b7d2c2e97": {
      "model_module": "@jupyter-widgets/base",
      "model_module_version": "2.0.0",
      "model_name": "LayoutModel",
      "state": {}
     },
     "d0d9fe4934224d3bb0cbd30322bfce73": {
      "model_module": "@jupyter-widgets/controls",
      "model_module_version": "2.0.0",
      "model_name": "HTMLStyleModel",
      "state": {
       "description_width": "",
       "font_size": null,
       "text_color": null
      }
     },
     "d4309110022c461d877e599e87a901b3": {
      "model_module": "@jupyter-widgets/controls",
      "model_module_version": "2.0.0",
      "model_name": "HTMLStyleModel",
      "state": {
       "description_width": "",
       "font_size": null,
       "text_color": null
      }
     },
     "d4edb28b40b941b6b8a994c154d22594": {
      "model_module": "@jupyter-widgets/controls",
      "model_module_version": "2.0.0",
      "model_name": "FloatProgressModel",
      "state": {
       "bar_style": "success",
       "layout": "IPY_MODEL_6ae3baab7ee94526be3980aaaef75532",
       "max": 2,
       "style": "IPY_MODEL_0e9feae5c9a24d64886d2ec2253299c5",
       "value": 2
      }
     },
     "d4fe013f3fdd4ae2981387b5b524d6a5": {
      "model_module": "@jupyter-widgets/base",
      "model_module_version": "2.0.0",
      "model_name": "LayoutModel",
      "state": {
       "visibility": "hidden"
      }
     },
     "d542f286df074738b673c7abe669dac5": {
      "model_module": "@jupyter-widgets/base",
      "model_module_version": "2.0.0",
      "model_name": "LayoutModel",
      "state": {}
     },
     "d7138dab2fb3497a9f061fe896e4fffd": {
      "model_module": "@jupyter-widgets/controls",
      "model_module_version": "2.0.0",
      "model_name": "HTMLModel",
      "state": {
       "layout": "IPY_MODEL_22678664c339416d8e9ba52aa87b6aff",
       "style": "IPY_MODEL_ce49905ca88141ec9d4b43a2cb1e3727",
       "value": "100%"
      }
     },
     "d80cd42a32db49ceadd56bc2736c98cf": {
      "model_module": "@jupyter-widgets/base",
      "model_module_version": "2.0.0",
      "model_name": "LayoutModel",
      "state": {}
     },
     "d9eed0f4dce2424486e6218839fe28af": {
      "model_module": "@jupyter-widgets/controls",
      "model_module_version": "2.0.0",
      "model_name": "HTMLModel",
      "state": {
       "layout": "IPY_MODEL_c93c7787bd6a48b4999f900476fc3e16",
       "style": "IPY_MODEL_7c88aeec95c140498689c9a1d83b89fd",
       "value": " 408/416 [00:03&lt;00:00, 81.17it/s]"
      }
     },
     "dc0fdaf8681c4648a93d88806b7da382": {
      "model_module": "@jupyter-widgets/base",
      "model_module_version": "2.0.0",
      "model_name": "LayoutModel",
      "state": {}
     },
     "dcd6786128cb44b19eb903ba9dacab97": {
      "model_module": "@jupyter-widgets/base",
      "model_module_version": "2.0.0",
      "model_name": "LayoutModel",
      "state": {
       "visibility": "hidden"
      }
     },
     "dced77c545d240ba82a5cc6583f61339": {
      "model_module": "@jupyter-widgets/controls",
      "model_module_version": "2.0.0",
      "model_name": "HTMLStyleModel",
      "state": {
       "description_width": "",
       "font_size": null,
       "text_color": null
      }
     },
     "deb09cee22284f7f93dba0cea0cc6984": {
      "model_module": "@jupyter-widgets/controls",
      "model_module_version": "2.0.0",
      "model_name": "ProgressStyleModel",
      "state": {
       "description_width": ""
      }
     },
     "df7f926153f74f9eb6131b6eb3c77263": {
      "model_module": "@jupyter-widgets/base",
      "model_module_version": "2.0.0",
      "model_name": "LayoutModel",
      "state": {
       "visibility": "hidden"
      }
     },
     "e003c52b8eee4c688577c3acb1a2740a": {
      "model_module": "@jupyter-widgets/controls",
      "model_module_version": "2.0.0",
      "model_name": "HTMLModel",
      "state": {
       "layout": "IPY_MODEL_1677a335d29446d48578504221236b03",
       "style": "IPY_MODEL_a15e159111194997bc68876839e32990",
       "value": " 2/2 [00:02&lt;00:00,  1.21s/it]"
      }
     },
     "e0be27f049ab46b399db3955a6169517": {
      "model_module": "@jupyter-widgets/controls",
      "model_module_version": "2.0.0",
      "model_name": "FloatProgressModel",
      "state": {
       "bar_style": "success",
       "layout": "IPY_MODEL_208530ee8e3a49e6ac8a9d90a941afe9",
       "max": 2,
       "style": "IPY_MODEL_0b8fb6adcb7f40d39bac759960a66314",
       "value": 2
      }
     },
     "e1c3c95db6104dc0ab9a4cc82fac6d03": {
      "model_module": "@jupyter-widgets/controls",
      "model_module_version": "2.0.0",
      "model_name": "HTMLStyleModel",
      "state": {
       "description_width": "",
       "font_size": null,
       "text_color": null
      }
     },
     "e1fb6b6600934ce9959f70de6a5fdb93": {
      "model_module": "@jupyter-widgets/controls",
      "model_module_version": "2.0.0",
      "model_name": "HTMLStyleModel",
      "state": {
       "description_width": "",
       "font_size": null,
       "text_color": null
      }
     },
     "e2afedbb4f5e47eaaea3c469c9a31e95": {
      "model_module": "@jupyter-widgets/controls",
      "model_module_version": "2.0.0",
      "model_name": "HTMLStyleModel",
      "state": {
       "description_width": "",
       "font_size": null,
       "text_color": null
      }
     },
     "e2c9b9d7f5aa45438047b9153729bba3": {
      "model_module": "@jupyter-widgets/controls",
      "model_module_version": "2.0.0",
      "model_name": "HTMLModel",
      "state": {
       "layout": "IPY_MODEL_5e64e99026954a7ea76c6971e34e5fbb",
       "style": "IPY_MODEL_7070fa3ba24547c7aab8e9625ded0083",
       "value": " 2/2 [00:07&lt;00:00,  3.80s/it]"
      }
     },
     "e427b3ad0caa457bb4ce5f92a58e545b": {
      "model_module": "@jupyter-widgets/controls",
      "model_module_version": "2.0.0",
      "model_name": "HTMLModel",
      "state": {
       "layout": "IPY_MODEL_4d5cff262ca24e0a868808c987b01ae4",
       "style": "IPY_MODEL_e2afedbb4f5e47eaaea3c469c9a31e95",
       "value": " 2/2 [00:07&lt;00:00,  3.60s/it]"
      }
     },
     "e8d917a12dd44764b9201eeb6485e234": {
      "model_module": "@jupyter-widgets/base",
      "model_module_version": "2.0.0",
      "model_name": "LayoutModel",
      "state": {}
     },
     "e947814e0e7841c49ee4b9b044ec6650": {
      "model_module": "@jupyter-widgets/controls",
      "model_module_version": "2.0.0",
      "model_name": "FloatProgressModel",
      "state": {
       "bar_style": "success",
       "layout": "IPY_MODEL_2bfebb8eac5b48119722226cca3368ec",
       "max": 2,
       "style": "IPY_MODEL_4f9e98cabed4412bb30b7bf77476c74e",
       "value": 2
      }
     },
     "e9a37e7b78054f1c9598c68267056a84": {
      "model_module": "@jupyter-widgets/controls",
      "model_module_version": "2.0.0",
      "model_name": "HTMLModel",
      "state": {
       "layout": "IPY_MODEL_31f8d9f71ada40499144395963c10a16",
       "style": "IPY_MODEL_3d37ed7e54d64c51ab86517b4fb7735a",
       "value": " 2/2 [00:02&lt;00:00,  1.15s/it]"
      }
     },
     "ebb96ef479e2418aa765152fec14b5f1": {
      "model_module": "@jupyter-widgets/controls",
      "model_module_version": "2.0.0",
      "model_name": "HTMLStyleModel",
      "state": {
       "description_width": "",
       "font_size": null,
       "text_color": null
      }
     },
     "ebe625d5b73e4ec4b40e77481fab77d1": {
      "model_module": "@jupyter-widgets/controls",
      "model_module_version": "2.0.0",
      "model_name": "HTMLStyleModel",
      "state": {
       "description_width": "",
       "font_size": null,
       "text_color": null
      }
     },
     "ec5342c47a5d4fbbab3a133951280dc0": {
      "model_module": "@jupyter-widgets/controls",
      "model_module_version": "2.0.0",
      "model_name": "ProgressStyleModel",
      "state": {
       "description_width": ""
      }
     },
     "ec5b790c7e224f4f99fa581c31e05a80": {
      "model_module": "@jupyter-widgets/controls",
      "model_module_version": "2.0.0",
      "model_name": "FloatProgressModel",
      "state": {
       "bar_style": "danger",
       "layout": "IPY_MODEL_7237afc6eb314a64916f342c1fff255f",
       "max": 2,
       "style": "IPY_MODEL_429680d950c44aab83002e0df5f39ab7"
      }
     },
     "ec7f5542056648909661571c69854f91": {
      "model_module": "@jupyter-widgets/controls",
      "model_module_version": "2.0.0",
      "model_name": "HTMLStyleModel",
      "state": {
       "description_width": "",
       "font_size": null,
       "text_color": null
      }
     },
     "ed2778de4c7046b5b92a913d5f2ade05": {
      "model_module": "@jupyter-widgets/base",
      "model_module_version": "2.0.0",
      "model_name": "LayoutModel",
      "state": {}
     },
     "ed3de5b7076e4d3180adf1b82cd0de60": {
      "model_module": "@jupyter-widgets/base",
      "model_module_version": "2.0.0",
      "model_name": "LayoutModel",
      "state": {}
     },
     "ed9f285de16a4c0c9fc02919951b0a11": {
      "model_module": "@jupyter-widgets/controls",
      "model_module_version": "2.0.0",
      "model_name": "HTMLStyleModel",
      "state": {
       "description_width": "",
       "font_size": null,
       "text_color": null
      }
     },
     "ef459d0b7b4d4d2e97890d23f723df9a": {
      "model_module": "@jupyter-widgets/base",
      "model_module_version": "2.0.0",
      "model_name": "LayoutModel",
      "state": {
       "visibility": "hidden"
      }
     },
     "efc8b85552424199bd27fb9415f93574": {
      "model_module": "@jupyter-widgets/controls",
      "model_module_version": "2.0.0",
      "model_name": "HTMLStyleModel",
      "state": {
       "description_width": "",
       "font_size": null,
       "text_color": null
      }
     },
     "f0fcfdbe62a64db7887b98334782c712": {
      "model_module": "@jupyter-widgets/base",
      "model_module_version": "2.0.0",
      "model_name": "LayoutModel",
      "state": {}
     },
     "f1a86a4a504c4a8f864ed1c7bdc3e61c": {
      "model_module": "@jupyter-widgets/controls",
      "model_module_version": "2.0.0",
      "model_name": "HBoxModel",
      "state": {
       "children": [
        "IPY_MODEL_325327f9e7534c6a9f7670967c5a9a7a",
        "IPY_MODEL_e0be27f049ab46b399db3955a6169517",
        "IPY_MODEL_e003c52b8eee4c688577c3acb1a2740a"
       ],
       "layout": "IPY_MODEL_d542f286df074738b673c7abe669dac5"
      }
     },
     "f2bbf81b0000451fbf714ebe532a947b": {
      "model_module": "@jupyter-widgets/controls",
      "model_module_version": "2.0.0",
      "model_name": "HTMLModel",
      "state": {
       "layout": "IPY_MODEL_7f33c3fe78f8442d9c929c4a7d49b803",
       "style": "IPY_MODEL_58bdb3d557b746e0a4de3b94407cecfc",
       "value": "100%"
      }
     },
     "f378574614ed4aa9b1da6b34726915ed": {
      "model_module": "@jupyter-widgets/controls",
      "model_module_version": "2.0.0",
      "model_name": "HTMLModel",
      "state": {
       "layout": "IPY_MODEL_9324aa8c8c4c4406a18bc234c26cd0ed",
       "style": "IPY_MODEL_03b31dd4976646ef8492c778303963a0",
       "value": " 410/416 [00:03&lt;00:00, 158.04it/s]"
      }
     },
     "f425c113abc648b09a66da701fe51fc9": {
      "model_module": "@jupyter-widgets/controls",
      "model_module_version": "2.0.0",
      "model_name": "HBoxModel",
      "state": {
       "children": [
        "IPY_MODEL_f2bbf81b0000451fbf714ebe532a947b",
        "IPY_MODEL_d4edb28b40b941b6b8a994c154d22594",
        "IPY_MODEL_e427b3ad0caa457bb4ce5f92a58e545b"
       ],
       "layout": "IPY_MODEL_b9196933a89f4b9887fd19defd7bee67"
      }
     },
     "f511ae293ad8467691120ab766bc9e60": {
      "model_module": "@jupyter-widgets/controls",
      "model_module_version": "2.0.0",
      "model_name": "HTMLStyleModel",
      "state": {
       "description_width": "",
       "font_size": null,
       "text_color": null
      }
     },
     "f744e5ce042f46d5830c4d2d349b4f18": {
      "model_module": "@jupyter-widgets/base",
      "model_module_version": "2.0.0",
      "model_name": "LayoutModel",
      "state": {}
     },
     "f7518c763086405189dd415538f6252f": {
      "model_module": "@jupyter-widgets/base",
      "model_module_version": "2.0.0",
      "model_name": "LayoutModel",
      "state": {
       "visibility": "hidden"
      }
     },
     "f94864128512412aa68bef7e95a14838": {
      "model_module": "@jupyter-widgets/controls",
      "model_module_version": "2.0.0",
      "model_name": "FloatProgressModel",
      "state": {
       "bar_style": "success",
       "layout": "IPY_MODEL_ceb41841856643d78d153e3b7d2c2e97",
       "max": 2,
       "style": "IPY_MODEL_1eb98dfc73d24a04b0e283466c39bbd9",
       "value": 2
      }
     },
     "f9db0390fb4a4ab89abbe4d82b03473d": {
      "model_module": "@jupyter-widgets/controls",
      "model_module_version": "2.0.0",
      "model_name": "HTMLModel",
      "state": {
       "layout": "IPY_MODEL_b28a65fcf61a44b3b44ee8dc24c838a8",
       "style": "IPY_MODEL_e1fb6b6600934ce9959f70de6a5fdb93",
       "value": " 408/416 [00:03&lt;00:00, 98.93it/s]"
      }
     },
     "fab3909cd01349ebb3c61ec4c9072f8a": {
      "model_module": "@jupyter-widgets/base",
      "model_module_version": "2.0.0",
      "model_name": "LayoutModel",
      "state": {}
     },
     "fd769188f4364f809cafd6b143192968": {
      "model_module": "@jupyter-widgets/controls",
      "model_module_version": "2.0.0",
      "model_name": "ProgressStyleModel",
      "state": {
       "description_width": ""
      }
     },
     "ff0192878d074a3186fca0f782817a70": {
      "model_module": "@jupyter-widgets/controls",
      "model_module_version": "2.0.0",
      "model_name": "HTMLModel",
      "state": {
       "layout": "IPY_MODEL_7cb9f111df4a40be9bcbc5c15a943902",
       "style": "IPY_MODEL_2f5866914c5e4852aa347e399ef5de36",
       "value": " 410/416 [00:01&lt;00:00, 370.53it/s]"
      }
     },
     "ffa23294f336486b857e1c21de82f81b": {
      "model_module": "@jupyter-widgets/controls",
      "model_module_version": "2.0.0",
      "model_name": "HTMLStyleModel",
      "state": {
       "description_width": "",
       "font_size": null,
       "text_color": null
      }
     }
    },
    "version_major": 2,
    "version_minor": 0
   }
  }
 },
 "nbformat": 4,
 "nbformat_minor": 4
}
