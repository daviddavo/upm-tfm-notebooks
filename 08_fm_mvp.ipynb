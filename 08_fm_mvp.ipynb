{
 "cells": [
  {
   "cell_type": "code",
   "execution_count": 2,
   "id": "68ad6a7d-b711-41b0-867c-96bfd65ff884",
   "metadata": {
    "execution": {
     "iopub.execute_input": "2023-10-23T11:31:30.078256Z",
     "iopub.status.busy": "2023-10-23T11:31:30.078067Z",
     "iopub.status.idle": "2023-10-23T11:31:32.960535Z",
     "shell.execute_reply": "2023-10-23T11:31:32.960017Z",
     "shell.execute_reply.started": "2023-10-23T11:31:30.078241Z"
    }
   },
   "outputs": [
    {
     "name": "stderr",
     "output_type": "stream",
     "text": [
      "2023-10-23 13:31:30.352298: I tensorflow/core/util/port.cc:111] oneDNN custom operations are on. You may see slightly different numerical results due to floating-point round-off errors from different computation orders. To turn them off, set the environment variable `TF_ENABLE_ONEDNN_OPTS=0`.\n",
      "2023-10-23 13:31:30.400490: I tensorflow/tsl/cuda/cudart_stub.cc:28] Could not find cuda drivers on your machine, GPU will not be used.\n",
      "2023-10-23 13:31:30.601435: E tensorflow/compiler/xla/stream_executor/cuda/cuda_dnn.cc:9342] Unable to register cuDNN factory: Attempting to register factory for plugin cuDNN when one has already been registered\n",
      "2023-10-23 13:31:30.601475: E tensorflow/compiler/xla/stream_executor/cuda/cuda_fft.cc:609] Unable to register cuFFT factory: Attempting to register factory for plugin cuFFT when one has already been registered\n",
      "2023-10-23 13:31:30.602169: E tensorflow/compiler/xla/stream_executor/cuda/cuda_blas.cc:1518] Unable to register cuBLAS factory: Attempting to register factory for plugin cuBLAS when one has already been registered\n",
      "2023-10-23 13:31:30.684676: I tensorflow/tsl/cuda/cudart_stub.cc:28] Could not find cuda drivers on your machine, GPU will not be used.\n",
      "2023-10-23 13:31:30.685630: I tensorflow/core/platform/cpu_feature_guard.cc:182] This TensorFlow binary is optimized to use available CPU instructions in performance-critical operations.\n",
      "To enable the following instructions: AVX2 AVX512F AVX512_VNNI FMA, in other operations, rebuild TensorFlow with the appropriate compiler flags.\n",
      "2023-10-23 13:31:31.651187: W tensorflow/compiler/tf2tensorrt/utils/py_utils.cc:38] TF-TRT Warning: Could not find TensorRT\n"
     ]
    },
    {
     "name": "stdout",
     "output_type": "stream",
     "text": [
      "System version: 3.9.18 (main, Oct 15 2023, 11:58:15) \n",
      "[GCC 13.2.1 20230801]\n",
      "Tensorflow version: 2.14.0\n"
     ]
    }
   ],
   "source": [
    "import sys\n",
    "import tensorflow as tf\n",
    "\n",
    "print(\"System version: {}\".format(sys.version))\n",
    "print(\"Tensorflow version: {}\".format(tf.__version__))"
   ]
  },
  {
   "cell_type": "markdown",
   "id": "8bd19734-0fae-4dd0-8505-db7a3290c6be",
   "metadata": {},
   "source": [
    "### Parameters"
   ]
  },
  {
   "cell_type": "code",
   "execution_count": 3,
   "id": "d87ec6ac-47a0-4250-b24c-869409170d98",
   "metadata": {
    "execution": {
     "iopub.execute_input": "2023-10-23T11:32:06.808359Z",
     "iopub.status.busy": "2023-10-23T11:32:06.807537Z",
     "iopub.status.idle": "2023-10-23T11:32:06.814120Z",
     "shell.execute_reply": "2023-10-23T11:32:06.812589Z",
     "shell.execute_reply.started": "2023-10-23T11:32:06.808301Z"
    }
   },
   "outputs": [],
   "source": [
    "EPOCHS = 10\n",
    "BATCH_SIZE = 4096\n",
    "RANDOM_SEED = 42"
   ]
  },
  {
   "cell_type": "markdown",
   "id": "736e4332-2f14-4b10-b78b-5f2f695c1f84",
   "metadata": {},
   "source": [
    "### Load dataset"
   ]
  },
  {
   "cell_type": "code",
   "execution_count": null,
   "id": "36565725-65e8-4b08-bb2e-26be33f610d1",
   "metadata": {},
   "outputs": [],
   "source": []
  },
  {
   "cell_type": "markdown",
   "id": "760afb2c-1796-447c-a24c-9b685e3872b3",
   "metadata": {},
   "source": [
    "## Model"
   ]
  },
  {
   "cell_type": "code",
   "execution_count": 7,
   "id": "900d4fff-b14d-4d0d-bc66-d2bfb006461c",
   "metadata": {
    "execution": {
     "iopub.execute_input": "2023-10-23T11:35:03.351644Z",
     "iopub.status.busy": "2023-10-23T11:35:03.350874Z",
     "iopub.status.idle": "2023-10-23T11:35:03.359731Z",
     "shell.execute_reply": "2023-10-23T11:35:03.358756Z",
     "shell.execute_reply.started": "2023-10-23T11:35:03.351564Z"
    }
   },
   "outputs": [],
   "source": [
    "from recommenders.models.deeprec.models.xDeepFM import XDeepFMModel\n",
    "from recommenders.models.deeprec.io.iterator import FFMTextIterator\n",
    "from recommenders.models.deeprec.deeprec_utils import download_deeprec_resources, prepare_hparams"
   ]
  },
  {
   "cell_type": "code",
   "execution_count": 17,
   "id": "02dd91f8-7c5c-43e8-b57c-dfbe8e774342",
   "metadata": {
    "execution": {
     "iopub.execute_input": "2023-10-23T11:39:53.133064Z",
     "iopub.status.busy": "2023-10-23T11:39:53.132758Z",
     "iopub.status.idle": "2023-10-23T11:39:55.109222Z",
     "shell.execute_reply": "2023-10-23T11:39:55.108711Z",
     "shell.execute_reply.started": "2023-10-23T11:39:53.133040Z"
    }
   },
   "outputs": [
    {
     "name": "stderr",
     "output_type": "stream",
     "text": [
      "100%|█████████████████████████████████████████████| 10.3k/10.3k [00:01<00:00, 7.86kKB/s]\n"
     ]
    }
   ],
   "source": [
    "import os\n",
    "\n",
    "data_path = './data/xdeepfm'\n",
    "\n",
    "yaml_file = os.path.join(data_path, r'xDeepFM.yaml')\n",
    "if not os.path.exists(yaml_file):\n",
    "    download_deeprec_resources(r'https://recodatasets.z20.web.core.windows.net/deeprec/', data_path, 'xdeepfmresources.zip')"
   ]
  },
  {
   "cell_type": "code",
   "execution_count": null,
   "id": "b8990a7b-512c-41f1-be41-ca391beb1557",
   "metadata": {},
   "outputs": [],
   "source": []
  },
  {
   "cell_type": "code",
   "execution_count": 18,
   "id": "ab128a85-bbb9-4f0e-97bd-54e0b269f820",
   "metadata": {
    "execution": {
     "iopub.execute_input": "2023-10-23T11:39:55.527590Z",
     "iopub.status.busy": "2023-10-23T11:39:55.526189Z",
     "iopub.status.idle": "2023-10-23T11:39:55.547390Z",
     "shell.execute_reply": "2023-10-23T11:39:55.545685Z",
     "shell.execute_reply.started": "2023-10-23T11:39:55.527507Z"
    }
   },
   "outputs": [],
   "source": [
    "hparams = prepare_hparams(\n",
    "    yaml_file=yaml_file,\n",
    "    FEATURE_COUNT=2300000, \n",
    "    FIELD_COUNT=39, \n",
    "    cross_l2=0.01, \n",
    "    embed_l2=0.01, \n",
    "    layer_l2=0.01,\n",
    "    learning_rate=0.002, \n",
    "    batch_size=BATCH_SIZE, \n",
    "    epochs=EPOCHS, \n",
    "    cross_layer_sizes=[20, 10], \n",
    "    init_value=0.1, \n",
    "    layer_sizes=[20,20],\n",
    "    use_Linear_part=True, \n",
    "    use_CIN_part=True, \n",
    "    use_DNN_part=True,\n",
    ")"
   ]
  },
  {
   "cell_type": "code",
   "execution_count": 19,
   "id": "4af6f3d6-7d39-45cb-af35-ebe1992572c4",
   "metadata": {
    "execution": {
     "iopub.execute_input": "2023-10-23T11:39:58.014863Z",
     "iopub.status.busy": "2023-10-23T11:39:58.014325Z",
     "iopub.status.idle": "2023-10-23T11:39:58.639611Z",
     "shell.execute_reply": "2023-10-23T11:39:58.639141Z",
     "shell.execute_reply.started": "2023-10-23T11:39:58.014813Z"
    }
   },
   "outputs": [
    {
     "name": "stdout",
     "output_type": "stream",
     "text": [
      "Add linear part.\n",
      "Add CIN part.\n",
      "Add DNN part.\n"
     ]
    },
    {
     "name": "stderr",
     "output_type": "stream",
     "text": [
      "2023-10-23 13:39:58.422023: I tensorflow/compiler/mlir/mlir_graph_optimization_pass.cc:382] MLIR V1 optimization pass is not enabled\n"
     ]
    }
   ],
   "source": [
    "model = XDeepFMModel(hparams, FFMTextIterator, seed=RANDOM_SEED)"
   ]
  }
 ],
 "metadata": {
  "kernelspec": {
   "display_name": "Python 3 (ipykernel)",
   "language": "python",
   "name": "python3"
  },
  "language_info": {
   "codemirror_mode": {
    "name": "ipython",
    "version": 3
   },
   "file_extension": ".py",
   "mimetype": "text/x-python",
   "name": "python",
   "nbconvert_exporter": "python",
   "pygments_lexer": "ipython3",
   "version": "3.9.18"
  },
  "widgets": {
   "application/vnd.jupyter.widget-state+json": {
    "state": {},
    "version_major": 2,
    "version_minor": 0
   }
  }
 },
 "nbformat": 4,
 "nbformat_minor": 5
}
