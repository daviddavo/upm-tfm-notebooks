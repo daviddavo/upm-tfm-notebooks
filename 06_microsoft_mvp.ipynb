{
 "cells": [
  {
   "cell_type": "code",
   "execution_count": 1,
   "id": "cd646be6-1a4c-49b8-b3bf-f0e387b15efa",
   "metadata": {
    "execution": {
     "iopub.execute_input": "2023-10-18T15:13:08.189346Z",
     "iopub.status.busy": "2023-10-18T15:13:08.189221Z",
     "iopub.status.idle": "2023-10-18T15:13:09.635719Z",
     "shell.execute_reply": "2023-10-18T15:13:09.635051Z",
     "shell.execute_reply.started": "2023-10-18T15:13:08.189333Z"
    }
   },
   "outputs": [],
   "source": [
    "import recommenders\n",
    "\n",
    "from src.datasets import daocensus\n",
    "\n",
    "%load_ext autoreload\n",
    "%autoreload 2"
   ]
  },
  {
   "cell_type": "code",
   "execution_count": 2,
   "id": "4f3e9b7e-fdfd-47ba-a8c0-4286e2878777",
   "metadata": {
    "execution": {
     "iopub.execute_input": "2023-10-18T15:13:09.637309Z",
     "iopub.status.busy": "2023-10-18T15:13:09.637056Z",
     "iopub.status.idle": "2023-10-18T15:13:09.653071Z",
     "shell.execute_reply": "2023-10-18T15:13:09.652579Z",
     "shell.execute_reply.started": "2023-10-18T15:13:09.637291Z"
    }
   },
   "outputs": [],
   "source": [
    "SEED = 42\n",
    "TOP_K = 5\n",
    "EPOCHS = 50\n",
    "BATCH_SIZE = 512"
   ]
  },
  {
   "cell_type": "code",
   "execution_count": 3,
   "id": "9d6b56c0-2038-48a5-8876-0f25ac92a34e",
   "metadata": {
    "execution": {
     "iopub.execute_input": "2023-10-18T15:13:09.653805Z",
     "iopub.status.busy": "2023-10-18T15:13:09.653671Z",
     "iopub.status.idle": "2023-10-18T15:13:19.265987Z",
     "shell.execute_reply": "2023-10-18T15:13:19.265430Z",
     "shell.execute_reply.started": "2023-10-18T15:13:09.653792Z"
    }
   },
   "outputs": [
    {
     "name": "stdout",
     "output_type": "stream",
     "text": [
      "<class 'pandas.core.frame.DataFrame'>\n",
      "Int64Index: 107735 entries, 0 to 116559\n",
      "Data columns (total 10 columns):\n",
      " #   Column         Non-Null Count   Dtype         \n",
      "---  ------         --------------   -----         \n",
      " 0   platform       107735 non-null  object        \n",
      " 1   name           107735 non-null  object        \n",
      " 2   id             107735 non-null  object        \n",
      " 3   proposal       107735 non-null  category      \n",
      " 4   deployment     107735 non-null  object        \n",
      " 5   platform_vote  107735 non-null  object        \n",
      " 6   voter          107735 non-null  category      \n",
      " 7   date           107735 non-null  datetime64[ns]\n",
      " 8   choice         107735 non-null  object        \n",
      " 9   weight         107735 non-null  float64       \n",
      "dtypes: category(2), datetime64[ns](1), float64(1), object(6)\n",
      "memory usage: 8.0+ MB\n",
      "None\n",
      "<class 'pandas.core.frame.DataFrame'>\n",
      "RangeIndex: 1962 entries, 0 to 1961\n",
      "Data columns (total 8 columns):\n",
      " #   Column             Non-Null Count  Dtype         \n",
      "---  ------             --------------  -----         \n",
      " 0   platform           1962 non-null   object        \n",
      " 1   name               1962 non-null   object        \n",
      " 2   id                 1962 non-null   category      \n",
      " 3   deployment         1962 non-null   object        \n",
      " 4   platform_proposal  1962 non-null   object        \n",
      " 5   author             1962 non-null   category      \n",
      " 6   date               1962 non-null   datetime64[ns]\n",
      " 7   votes_count        1962 non-null   int64         \n",
      "dtypes: category(2), datetime64[ns](1), int64(1), object(4)\n",
      "memory usage: 266.8+ KB\n",
      "None\n"
     ]
    }
   ],
   "source": [
    "dfv, dfp = daocensus.get(\"./data/daos-census\", 'Decentraland', 'snapshot', min_vpu=6)\n",
    "print(dfv.info())\n",
    "print(dfp.info())"
   ]
  },
  {
   "cell_type": "code",
   "execution_count": 4,
   "id": "d0d3c2d6-89c5-4a2b-bfd0-6b2dd068b327",
   "metadata": {
    "execution": {
     "iopub.execute_input": "2023-10-18T15:13:19.266753Z",
     "iopub.status.busy": "2023-10-18T15:13:19.266568Z",
     "iopub.status.idle": "2023-10-18T15:13:19.325875Z",
     "shell.execute_reply": "2023-10-18T15:13:19.325438Z",
     "shell.execute_reply.started": "2023-10-18T15:13:19.266740Z"
    }
   },
   "outputs": [
    {
     "data": {
      "text/html": [
       "<div>\n",
       "<style scoped>\n",
       "    .dataframe tbody tr th:only-of-type {\n",
       "        vertical-align: middle;\n",
       "    }\n",
       "\n",
       "    .dataframe tbody tr th {\n",
       "        vertical-align: top;\n",
       "    }\n",
       "\n",
       "    .dataframe thead th {\n",
       "        text-align: right;\n",
       "    }\n",
       "</style>\n",
       "<table border=\"1\" class=\"dataframe\">\n",
       "  <thead>\n",
       "    <tr style=\"text-align: right;\">\n",
       "      <th></th>\n",
       "      <th>userID</th>\n",
       "      <th>itemID</th>\n",
       "      <th>timestamp</th>\n",
       "      <th>rating</th>\n",
       "    </tr>\n",
       "  </thead>\n",
       "  <tbody>\n",
       "    <tr>\n",
       "      <th>0</th>\n",
       "      <td>0xe7af1c70f8f089c4c3bd71999692c6c5a15d9e2a</td>\n",
       "      <td>b86aa059-3d31-5d41-a472-70962816f779</td>\n",
       "      <td>2021-12-17 12:28:01</td>\n",
       "      <td>1</td>\n",
       "    </tr>\n",
       "    <tr>\n",
       "      <th>1</th>\n",
       "      <td>0xc54a6c3778016b06cbd126ccc3b5bc06c5f666fb</td>\n",
       "      <td>b86aa059-3d31-5d41-a472-70962816f779</td>\n",
       "      <td>2021-12-17 02:16:23</td>\n",
       "      <td>1</td>\n",
       "    </tr>\n",
       "    <tr>\n",
       "      <th>2</th>\n",
       "      <td>0xd82d005e8f8d5385db40ba23884a5c967bb1e8af</td>\n",
       "      <td>b86aa059-3d31-5d41-a472-70962816f779</td>\n",
       "      <td>2021-12-17 00:38:22</td>\n",
       "      <td>1</td>\n",
       "    </tr>\n",
       "    <tr>\n",
       "      <th>3</th>\n",
       "      <td>0xf4c64db66ffb301985f5ecd85c8f3f9c02f2659d</td>\n",
       "      <td>b86aa059-3d31-5d41-a472-70962816f779</td>\n",
       "      <td>2021-12-16 18:47:08</td>\n",
       "      <td>1</td>\n",
       "    </tr>\n",
       "    <tr>\n",
       "      <th>4</th>\n",
       "      <td>0xd5e9ef1cedad0d135d543d286a2c190b16cbb89e</td>\n",
       "      <td>b86aa059-3d31-5d41-a472-70962816f779</td>\n",
       "      <td>2021-12-16 18:32:15</td>\n",
       "      <td>1</td>\n",
       "    </tr>\n",
       "    <tr>\n",
       "      <th>...</th>\n",
       "      <td>...</td>\n",
       "      <td>...</td>\n",
       "      <td>...</td>\n",
       "      <td>...</td>\n",
       "    </tr>\n",
       "    <tr>\n",
       "      <th>116555</th>\n",
       "      <td>0x1156bf625b37623a86d004e66e0a01ec4b17e051</td>\n",
       "      <td>d083109e-4819-54b9-a01c-67bd5a770f65</td>\n",
       "      <td>2022-09-06 18:47:54</td>\n",
       "      <td>1</td>\n",
       "    </tr>\n",
       "    <tr>\n",
       "      <th>116556</th>\n",
       "      <td>0xbd03add5da0e173c67c9c1073ffba017147c42d4</td>\n",
       "      <td>d083109e-4819-54b9-a01c-67bd5a770f65</td>\n",
       "      <td>2022-09-06 18:44:04</td>\n",
       "      <td>1</td>\n",
       "    </tr>\n",
       "    <tr>\n",
       "      <th>116557</th>\n",
       "      <td>0x4da03f669dd9609dc49ca6f3451ba22d3b792395</td>\n",
       "      <td>d083109e-4819-54b9-a01c-67bd5a770f65</td>\n",
       "      <td>2022-09-06 18:21:14</td>\n",
       "      <td>1</td>\n",
       "    </tr>\n",
       "    <tr>\n",
       "      <th>116558</th>\n",
       "      <td>0xd6e62a97a55537cd04847bb73e22208bd20106aa</td>\n",
       "      <td>d083109e-4819-54b9-a01c-67bd5a770f65</td>\n",
       "      <td>2022-09-06 18:14:10</td>\n",
       "      <td>1</td>\n",
       "    </tr>\n",
       "    <tr>\n",
       "      <th>116559</th>\n",
       "      <td>0x9a70a6e429c4ede5fcb0562f5bcc0c0d992493f4</td>\n",
       "      <td>d083109e-4819-54b9-a01c-67bd5a770f65</td>\n",
       "      <td>2022-09-06 18:12:51</td>\n",
       "      <td>1</td>\n",
       "    </tr>\n",
       "  </tbody>\n",
       "</table>\n",
       "<p>107735 rows × 4 columns</p>\n",
       "</div>"
      ],
      "text/plain": [
       "                                            userID  \\\n",
       "0       0xe7af1c70f8f089c4c3bd71999692c6c5a15d9e2a   \n",
       "1       0xc54a6c3778016b06cbd126ccc3b5bc06c5f666fb   \n",
       "2       0xd82d005e8f8d5385db40ba23884a5c967bb1e8af   \n",
       "3       0xf4c64db66ffb301985f5ecd85c8f3f9c02f2659d   \n",
       "4       0xd5e9ef1cedad0d135d543d286a2c190b16cbb89e   \n",
       "...                                            ...   \n",
       "116555  0x1156bf625b37623a86d004e66e0a01ec4b17e051   \n",
       "116556  0xbd03add5da0e173c67c9c1073ffba017147c42d4   \n",
       "116557  0x4da03f669dd9609dc49ca6f3451ba22d3b792395   \n",
       "116558  0xd6e62a97a55537cd04847bb73e22208bd20106aa   \n",
       "116559  0x9a70a6e429c4ede5fcb0562f5bcc0c0d992493f4   \n",
       "\n",
       "                                      itemID           timestamp  rating  \n",
       "0       b86aa059-3d31-5d41-a472-70962816f779 2021-12-17 12:28:01       1  \n",
       "1       b86aa059-3d31-5d41-a472-70962816f779 2021-12-17 02:16:23       1  \n",
       "2       b86aa059-3d31-5d41-a472-70962816f779 2021-12-17 00:38:22       1  \n",
       "3       b86aa059-3d31-5d41-a472-70962816f779 2021-12-16 18:47:08       1  \n",
       "4       b86aa059-3d31-5d41-a472-70962816f779 2021-12-16 18:32:15       1  \n",
       "...                                      ...                 ...     ...  \n",
       "116555  d083109e-4819-54b9-a01c-67bd5a770f65 2022-09-06 18:47:54       1  \n",
       "116556  d083109e-4819-54b9-a01c-67bd5a770f65 2022-09-06 18:44:04       1  \n",
       "116557  d083109e-4819-54b9-a01c-67bd5a770f65 2022-09-06 18:21:14       1  \n",
       "116558  d083109e-4819-54b9-a01c-67bd5a770f65 2022-09-06 18:14:10       1  \n",
       "116559  d083109e-4819-54b9-a01c-67bd5a770f65 2022-09-06 18:12:51       1  \n",
       "\n",
       "[107735 rows x 4 columns]"
      ]
     },
     "execution_count": 4,
     "metadata": {},
     "output_type": "execute_result"
    }
   ],
   "source": [
    "def to_microsoft(dfv):\n",
    "    df = dfv[['voter', 'proposal', 'date']].rename(columns={\n",
    "        'voter': 'userID',\n",
    "        'proposal': 'itemID',\n",
    "        'date': 'timestamp',\n",
    "    })\n",
    "    df['itemID'] = df['itemID'].astype('str')\n",
    "    df['rating'] = 1\n",
    "    return df\n",
    "\n",
    "df = to_microsoft(dfv)\n",
    "df"
   ]
  },
  {
   "cell_type": "code",
   "execution_count": 16,
   "id": "b49a95ea-d8dd-4360-90b3-9391e4d4cc51",
   "metadata": {
    "execution": {
     "iopub.execute_input": "2023-10-18T15:23:12.228172Z",
     "iopub.status.busy": "2023-10-18T15:23:12.226778Z",
     "iopub.status.idle": "2023-10-18T15:23:16.332518Z",
     "shell.execute_reply": "2023-10-18T15:23:16.331866Z",
     "shell.execute_reply.started": "2023-10-18T15:23:12.228076Z"
    }
   },
   "outputs": [
    {
     "name": "stdout",
     "output_type": "stream",
     "text": [
      "                                           userID  \\\n",
      "32477  0xc1bf2086bf56b030787ff8875b32623e19c68275   \n",
      "68490  0xc1bf2086bf56b030787ff8875b32623e19c68275   \n",
      "1377   0xc1bf2086bf56b030787ff8875b32623e19c68275   \n",
      "26161  0xc1bf2086bf56b030787ff8875b32623e19c68275   \n",
      "26985  0xc1bf2086bf56b030787ff8875b32623e19c68275   \n",
      "...                                           ...   \n",
      "13394  0x4e291277d3fe2264753cb745c4cabea3b5e06d06   \n",
      "47287  0x4e291277d3fe2264753cb745c4cabea3b5e06d06   \n",
      "46897  0x4e291277d3fe2264753cb745c4cabea3b5e06d06   \n",
      "93616  0x4e291277d3fe2264753cb745c4cabea3b5e06d06   \n",
      "60855  0x4e291277d3fe2264753cb745c4cabea3b5e06d06   \n",
      "\n",
      "                                     itemID           timestamp  rating  \n",
      "32477  d17a4f60-6462-5ded-b8dc-f23947fe83eb 2022-08-25 18:41:24       1  \n",
      "68490  e6265f57-d2b7-5891-9527-541808a79aab 2022-09-03 01:22:25       1  \n",
      "1377   bd8aef86-7524-51cb-8f62-861051f1f0cc 2022-10-13 14:13:57       1  \n",
      "26161  944fcbba-fc9f-5e56-aa43-0315b9557ddd 2022-10-13 14:14:49       1  \n",
      "26985  3e9c2c7f-5f31-5bce-8a95-d43943145790 2022-10-19 21:54:48       1  \n",
      "...                                     ...                 ...     ...  \n",
      "13394  6f9e465d-2b64-51e9-8386-0359678b7f85 2023-02-09 23:52:54       1  \n",
      "47287  2dc0129a-982a-5136-8474-22fb35b99b0d 2023-02-09 23:53:15       1  \n",
      "46897  f93333af-5cc8-5dcf-9486-7b0ac4a14c11 2023-02-09 23:53:38       1  \n",
      "93616  95d07b8c-110c-594d-8cf8-583039a86fd5 2023-02-09 23:54:18       1  \n",
      "60855  47511b09-ae4d-5659-bc5d-0e0e5bca69fb 2023-02-09 23:54:41       1  \n",
      "\n",
      "[80707 rows x 4 columns]\n"
     ]
    }
   ],
   "source": [
    "from recommenders.datasets.python_splitters import (\n",
    "    python_stratified_split,\n",
    "    python_chrono_split,\n",
    ")\n",
    "\n",
    "train, test = python_chrono_split(df, ratio=0.75)"
   ]
  },
  {
   "cell_type": "code",
   "execution_count": 6,
   "id": "3485e157-59f1-4cc3-977b-ec8d166f93d7",
   "metadata": {
    "execution": {
     "iopub.execute_input": "2023-10-18T15:13:23.736694Z",
     "iopub.status.busy": "2023-10-18T15:13:23.736559Z",
     "iopub.status.idle": "2023-10-18T15:13:23.897491Z",
     "shell.execute_reply": "2023-10-18T15:13:23.896847Z",
     "shell.execute_reply.started": "2023-10-18T15:13:23.736681Z"
    }
   },
   "outputs": [
    {
     "name": "stderr",
     "output_type": "stream",
     "text": [
      "/home/davo/Documents/MUIA/upm-tfm-notebooks/.direnv/python-3.9/lib/python3.9/site-packages/recommenders/models/deeprec/DataModel/ImplicitCF.py:73: FutureWarning: The frame.append method is deprecated and will be removed from pandas in a future version. Use pandas.concat instead.\n",
      "  df = train if test is None else train.append(test)\n"
     ]
    }
   ],
   "source": [
    "from recommenders.models.deeprec.DataModel.ImplicitCF import ImplicitCF\n",
    "\n",
    "data = ImplicitCF(train=train, test=test, seed=SEED)"
   ]
  },
  {
   "cell_type": "code",
   "execution_count": 7,
   "id": "a04b549c-bdf0-4265-9b4b-77c38f179f7f",
   "metadata": {
    "execution": {
     "iopub.execute_input": "2023-10-18T15:13:23.899070Z",
     "iopub.status.busy": "2023-10-18T15:13:23.898923Z",
     "iopub.status.idle": "2023-10-18T15:13:23.918289Z",
     "shell.execute_reply": "2023-10-18T15:13:23.917780Z",
     "shell.execute_reply.started": "2023-10-18T15:13:23.899057Z"
    }
   },
   "outputs": [
    {
     "data": {
      "text/plain": [
       "(1941, 2900)"
      ]
     },
     "execution_count": 7,
     "metadata": {},
     "output_type": "execute_result"
    }
   ],
   "source": [
    "data.n_items, data.n_users"
   ]
  },
  {
   "cell_type": "code",
   "execution_count": 8,
   "id": "51ff5c74-c5fb-4ac7-bd74-11a7fa91d739",
   "metadata": {
    "execution": {
     "iopub.execute_input": "2023-10-18T15:13:23.918997Z",
     "iopub.status.busy": "2023-10-18T15:13:23.918865Z",
     "iopub.status.idle": "2023-10-18T15:13:23.999432Z",
     "shell.execute_reply": "2023-10-18T15:13:23.998964Z",
     "shell.execute_reply.started": "2023-10-18T15:13:23.918984Z"
    }
   },
   "outputs": [],
   "source": [
    "from recommenders.models.deeprec.deeprec_utils import prepare_hparams\n",
    "\n",
    "hparams = prepare_hparams(\n",
    "    './config/lightgcn.yaml',\n",
    "    n_layers=3,\n",
    "    batch_size=BATCH_SIZE,\n",
    "    epochs=EPOCHS,\n",
    "    learning_rate=0.005,\n",
    "    eval_epoch=5,\n",
    "    top_k=TOP_K,\n",
    ")"
   ]
  },
  {
   "cell_type": "code",
   "execution_count": 9,
   "id": "4b9ae88a-51cd-4476-9442-65b7c39b47e5",
   "metadata": {
    "execution": {
     "iopub.execute_input": "2023-10-18T15:13:24.000115Z",
     "iopub.status.busy": "2023-10-18T15:13:23.999983Z",
     "iopub.status.idle": "2023-10-18T15:13:26.031347Z",
     "shell.execute_reply": "2023-10-18T15:13:26.030816Z",
     "shell.execute_reply.started": "2023-10-18T15:13:24.000102Z"
    }
   },
   "outputs": [
    {
     "name": "stderr",
     "output_type": "stream",
     "text": [
      "2023-10-18 17:13:24.129660: I tensorflow/core/util/port.cc:111] oneDNN custom operations are on. You may see slightly different numerical results due to floating-point round-off errors from different computation orders. To turn them off, set the environment variable `TF_ENABLE_ONEDNN_OPTS=0`.\n",
      "2023-10-18 17:13:24.131236: I tensorflow/tsl/cuda/cudart_stub.cc:28] Could not find cuda drivers on your machine, GPU will not be used.\n",
      "2023-10-18 17:13:24.152650: E tensorflow/compiler/xla/stream_executor/cuda/cuda_dnn.cc:9342] Unable to register cuDNN factory: Attempting to register factory for plugin cuDNN when one has already been registered\n",
      "2023-10-18 17:13:24.152677: E tensorflow/compiler/xla/stream_executor/cuda/cuda_fft.cc:609] Unable to register cuFFT factory: Attempting to register factory for plugin cuFFT when one has already been registered\n",
      "2023-10-18 17:13:24.152699: E tensorflow/compiler/xla/stream_executor/cuda/cuda_blas.cc:1518] Unable to register cuBLAS factory: Attempting to register factory for plugin cuBLAS when one has already been registered\n",
      "2023-10-18 17:13:24.157847: I tensorflow/core/platform/cpu_feature_guard.cc:182] This TensorFlow binary is optimized to use available CPU instructions in performance-critical operations.\n",
      "To enable the following instructions: AVX2 AVX512F AVX512_VNNI FMA, in other operations, rebuild TensorFlow with the appropriate compiler flags.\n",
      "2023-10-18 17:13:24.901321: W tensorflow/compiler/tf2tensorrt/utils/py_utils.cc:38] TF-TRT Warning: Could not find TensorRT\n"
     ]
    },
    {
     "name": "stdout",
     "output_type": "stream",
     "text": [
      "Already create adjacency matrix.\n",
      "Already normalize adjacency matrix.\n",
      "Using xavier initialization.\n"
     ]
    },
    {
     "name": "stderr",
     "output_type": "stream",
     "text": [
      "2023-10-18 17:13:25.993098: I tensorflow/compiler/mlir/mlir_graph_optimization_pass.cc:382] MLIR V1 optimization pass is not enabled\n"
     ]
    }
   ],
   "source": [
    "from recommenders.models.deeprec.models.graphrec.lightgcn import LightGCN\n",
    "\n",
    "model = LightGCN(hparams, data, seed=SEED)"
   ]
  },
  {
   "cell_type": "code",
   "execution_count": 10,
   "id": "a276d8e8-e64e-4441-91ff-d0f4e16866ce",
   "metadata": {
    "execution": {
     "iopub.execute_input": "2023-10-18T15:13:26.032082Z",
     "iopub.status.busy": "2023-10-18T15:13:26.031935Z",
     "iopub.status.idle": "2023-10-18T15:15:24.114834Z",
     "shell.execute_reply": "2023-10-18T15:15:24.114256Z",
     "shell.execute_reply.started": "2023-10-18T15:13:26.032069Z"
    }
   },
   "outputs": [
    {
     "name": "stdout",
     "output_type": "stream",
     "text": [
      "Epoch 1 (train)2.2s: train loss = 0.31919 = (mf)0.31870 + (embed)0.00050\n",
      "Epoch 2 (train)2.1s: train loss = 0.12649 = (mf)0.12530 + (embed)0.00119\n",
      "Epoch 3 (train)2.0s: train loss = 0.09842 = (mf)0.09688 + (embed)0.00154\n",
      "Epoch 4 (train)2.1s: train loss = 0.08545 = (mf)0.08367 + (embed)0.00178\n",
      "Epoch 5 (train)2.1s + (eval)0.3s: train loss = 0.07376 = (mf)0.07177 + (embed)0.00199, recall = 0.08991, ndcg = 0.09917, precision = 0.07276, map = 0.06357\n",
      "Epoch 6 (train)2.1s: train loss = 0.06673 = (mf)0.06454 + (embed)0.00219\n",
      "Epoch 7 (train)2.2s: train loss = 0.06305 = (mf)0.06070 + (embed)0.00236\n",
      "Epoch 8 (train)2.2s: train loss = 0.05780 = (mf)0.05528 + (embed)0.00252\n",
      "Epoch 9 (train)2.1s: train loss = 0.05192 = (mf)0.04924 + (embed)0.00268\n",
      "Epoch 10 (train)2.1s + (eval)0.2s: train loss = 0.04840 = (mf)0.04556 + (embed)0.00284, recall = 0.10466, ndcg = 0.11286, precision = 0.08076, map = 0.07395\n",
      "Epoch 11 (train)2.1s: train loss = 0.04696 = (mf)0.04399 + (embed)0.00297\n",
      "Epoch 12 (train)2.2s: train loss = 0.04424 = (mf)0.04114 + (embed)0.00310\n",
      "Epoch 13 (train)2.2s: train loss = 0.04160 = (mf)0.03836 + (embed)0.00323\n",
      "Epoch 14 (train)2.4s: train loss = 0.03967 = (mf)0.03630 + (embed)0.00336\n",
      "Epoch 15 (train)2.5s + (eval)0.2s: train loss = 0.03843 = (mf)0.03494 + (embed)0.00349, recall = 0.11173, ndcg = 0.12023, precision = 0.08552, map = 0.07965\n",
      "Epoch 16 (train)2.3s: train loss = 0.03657 = (mf)0.03296 + (embed)0.00361\n",
      "Epoch 17 (train)2.3s: train loss = 0.03440 = (mf)0.03067 + (embed)0.00373\n",
      "Epoch 18 (train)2.3s: train loss = 0.03384 = (mf)0.03000 + (embed)0.00383\n",
      "Epoch 19 (train)2.3s: train loss = 0.03289 = (mf)0.02895 + (embed)0.00394\n",
      "Epoch 20 (train)2.3s + (eval)0.2s: train loss = 0.03212 = (mf)0.02808 + (embed)0.00405, recall = 0.11774, ndcg = 0.12766, precision = 0.09117, map = 0.08442\n",
      "Epoch 21 (train)2.3s: train loss = 0.03160 = (mf)0.02745 + (embed)0.00415\n",
      "Epoch 22 (train)2.4s: train loss = 0.02926 = (mf)0.02501 + (embed)0.00425\n",
      "Epoch 23 (train)2.3s: train loss = 0.02876 = (mf)0.02440 + (embed)0.00436\n",
      "Epoch 24 (train)2.3s: train loss = 0.02778 = (mf)0.02333 + (embed)0.00445\n",
      "Epoch 25 (train)2.3s + (eval)0.2s: train loss = 0.02683 = (mf)0.02229 + (embed)0.00454, recall = 0.12718, ndcg = 0.13214, precision = 0.09697, map = 0.08673\n",
      "Epoch 26 (train)2.2s: train loss = 0.02647 = (mf)0.02183 + (embed)0.00464\n",
      "Epoch 27 (train)2.4s: train loss = 0.02676 = (mf)0.02204 + (embed)0.00471\n",
      "Epoch 28 (train)2.5s: train loss = 0.02531 = (mf)0.02051 + (embed)0.00480\n",
      "Epoch 29 (train)2.7s: train loss = 0.02364 = (mf)0.01876 + (embed)0.00488\n",
      "Epoch 30 (train)2.6s + (eval)0.3s: train loss = 0.02513 = (mf)0.02016 + (embed)0.00497, recall = 0.13225, ndcg = 0.13816, precision = 0.10207, map = 0.09161\n",
      "Epoch 31 (train)2.6s: train loss = 0.02429 = (mf)0.01926 + (embed)0.00504\n",
      "Epoch 32 (train)2.3s: train loss = 0.02364 = (mf)0.01853 + (embed)0.00512\n",
      "Epoch 33 (train)2.3s: train loss = 0.02250 = (mf)0.01731 + (embed)0.00520\n",
      "Epoch 34 (train)2.3s: train loss = 0.02320 = (mf)0.01794 + (embed)0.00526\n",
      "Epoch 35 (train)2.3s + (eval)0.2s: train loss = 0.02173 = (mf)0.01639 + (embed)0.00534, recall = 0.13524, ndcg = 0.14323, precision = 0.10462, map = 0.09523\n",
      "Epoch 36 (train)2.3s: train loss = 0.02236 = (mf)0.01695 + (embed)0.00541\n",
      "Epoch 37 (train)2.3s: train loss = 0.02099 = (mf)0.01551 + (embed)0.00548\n",
      "Epoch 38 (train)2.3s: train loss = 0.02125 = (mf)0.01571 + (embed)0.00554\n",
      "Epoch 39 (train)2.3s: train loss = 0.02048 = (mf)0.01488 + (embed)0.00560\n",
      "Epoch 40 (train)2.3s + (eval)0.2s: train loss = 0.02082 = (mf)0.01516 + (embed)0.00566, recall = 0.13590, ndcg = 0.14646, precision = 0.10593, map = 0.09819\n",
      "Epoch 41 (train)2.3s: train loss = 0.02046 = (mf)0.01474 + (embed)0.00571\n",
      "Epoch 42 (train)2.4s: train loss = 0.01995 = (mf)0.01418 + (embed)0.00578\n",
      "Epoch 43 (train)2.3s: train loss = 0.01954 = (mf)0.01371 + (embed)0.00583\n",
      "Epoch 44 (train)2.3s: train loss = 0.01934 = (mf)0.01346 + (embed)0.00589\n",
      "Epoch 45 (train)2.8s + (eval)0.3s: train loss = 0.02049 = (mf)0.01457 + (embed)0.00592, recall = 0.13945, ndcg = 0.14821, precision = 0.10772, map = 0.09943\n",
      "Epoch 46 (train)2.3s: train loss = 0.01998 = (mf)0.01401 + (embed)0.00597\n",
      "Epoch 47 (train)2.4s: train loss = 0.01840 = (mf)0.01240 + (embed)0.00600\n",
      "Epoch 48 (train)2.7s: train loss = 0.01910 = (mf)0.01305 + (embed)0.00605\n",
      "Epoch 49 (train)2.7s: train loss = 0.01872 = (mf)0.01262 + (embed)0.00611\n",
      "Epoch 50 (train)2.5s + (eval)0.3s: train loss = 0.01842 = (mf)0.01227 + (embed)0.00615, recall = 0.14072, ndcg = 0.14987, precision = 0.10876, map = 0.10046\n"
     ]
    }
   ],
   "source": [
    "model.fit()"
   ]
  },
  {
   "cell_type": "markdown",
   "id": "72193280-0e31-4d73-b22c-0437d1b58fdf",
   "metadata": {},
   "source": [
    "### Recommendation\n",
    "\n",
    "We can call recommend_k_items to recommend k items for each user passed in this function. We set remove_seen=True to remove the items already seen by the user. The function returns a dataframe, containing each user and top k items recommended to them and the corresponding ranking scores."
   ]
  },
  {
   "cell_type": "code",
   "execution_count": 11,
   "id": "9910b6bb-d755-43c4-9a61-c86e3093417a",
   "metadata": {
    "execution": {
     "iopub.execute_input": "2023-10-18T15:15:24.115642Z",
     "iopub.status.busy": "2023-10-18T15:15:24.115483Z",
     "iopub.status.idle": "2023-10-18T15:15:24.279653Z",
     "shell.execute_reply": "2023-10-18T15:15:24.278813Z",
     "shell.execute_reply.started": "2023-10-18T15:15:24.115627Z"
    }
   },
   "outputs": [
    {
     "data": {
      "text/html": [
       "<div>\n",
       "<style scoped>\n",
       "    .dataframe tbody tr th:only-of-type {\n",
       "        vertical-align: middle;\n",
       "    }\n",
       "\n",
       "    .dataframe tbody tr th {\n",
       "        vertical-align: top;\n",
       "    }\n",
       "\n",
       "    .dataframe thead th {\n",
       "        text-align: right;\n",
       "    }\n",
       "</style>\n",
       "<table border=\"1\" class=\"dataframe\">\n",
       "  <thead>\n",
       "    <tr style=\"text-align: right;\">\n",
       "      <th></th>\n",
       "      <th>userID</th>\n",
       "      <th>itemID</th>\n",
       "      <th>prediction</th>\n",
       "    </tr>\n",
       "  </thead>\n",
       "  <tbody>\n",
       "    <tr>\n",
       "      <th>0</th>\n",
       "      <td>0xc1bf2086bf56b030787ff8875b32623e19c68275</td>\n",
       "      <td>11946f30-e09f-5638-be0a-82dff99d3112</td>\n",
       "      <td>9.455858</td>\n",
       "    </tr>\n",
       "    <tr>\n",
       "      <th>1</th>\n",
       "      <td>0xc1bf2086bf56b030787ff8875b32623e19c68275</td>\n",
       "      <td>06eefba1-07b6-528f-8da3-110f19da0355</td>\n",
       "      <td>8.417830</td>\n",
       "    </tr>\n",
       "    <tr>\n",
       "      <th>2</th>\n",
       "      <td>0xc1bf2086bf56b030787ff8875b32623e19c68275</td>\n",
       "      <td>945a7076-b012-5863-8bd0-ab94a8fd8acb</td>\n",
       "      <td>5.861023</td>\n",
       "    </tr>\n",
       "    <tr>\n",
       "      <th>3</th>\n",
       "      <td>0xc1bf2086bf56b030787ff8875b32623e19c68275</td>\n",
       "      <td>b32ce381-23e2-538b-8ff9-33205b457c22</td>\n",
       "      <td>4.563757</td>\n",
       "    </tr>\n",
       "    <tr>\n",
       "      <th>4</th>\n",
       "      <td>0xc1bf2086bf56b030787ff8875b32623e19c68275</td>\n",
       "      <td>6a8e181f-a30a-53a6-a515-96f007bbea8d</td>\n",
       "      <td>4.411539</td>\n",
       "    </tr>\n",
       "  </tbody>\n",
       "</table>\n",
       "</div>"
      ],
      "text/plain": [
       "                                       userID  \\\n",
       "0  0xc1bf2086bf56b030787ff8875b32623e19c68275   \n",
       "1  0xc1bf2086bf56b030787ff8875b32623e19c68275   \n",
       "2  0xc1bf2086bf56b030787ff8875b32623e19c68275   \n",
       "3  0xc1bf2086bf56b030787ff8875b32623e19c68275   \n",
       "4  0xc1bf2086bf56b030787ff8875b32623e19c68275   \n",
       "\n",
       "                                 itemID  prediction  \n",
       "0  11946f30-e09f-5638-be0a-82dff99d3112    9.455858  \n",
       "1  06eefba1-07b6-528f-8da3-110f19da0355    8.417830  \n",
       "2  945a7076-b012-5863-8bd0-ab94a8fd8acb    5.861023  \n",
       "3  b32ce381-23e2-538b-8ff9-33205b457c22    4.563757  \n",
       "4  6a8e181f-a30a-53a6-a515-96f007bbea8d    4.411539  "
      ]
     },
     "execution_count": 11,
     "metadata": {},
     "output_type": "execute_result"
    }
   ],
   "source": [
    "topk_scores = model.recommend_k_items(test, top_k=TOP_K, remove_seen=True)\n",
    "topk_scores.head()"
   ]
  },
  {
   "cell_type": "code",
   "execution_count": 12,
   "id": "ab9fc9e8-d3c6-4e4f-b9de-697f66be781f",
   "metadata": {
    "execution": {
     "iopub.execute_input": "2023-10-18T15:15:24.280683Z",
     "iopub.status.busy": "2023-10-18T15:15:24.280372Z",
     "iopub.status.idle": "2023-10-18T15:15:24.324730Z",
     "shell.execute_reply": "2023-10-18T15:15:24.324159Z",
     "shell.execute_reply.started": "2023-10-18T15:15:24.280650Z"
    }
   },
   "outputs": [
    {
     "name": "stdout",
     "output_type": "stream",
     "text": [
      "<class 'pandas.core.frame.DataFrame'>\n",
      "Int64Index: 27028 entries, 58867 to 29783\n",
      "Data columns (total 4 columns):\n",
      " #   Column     Non-Null Count  Dtype         \n",
      "---  ------     --------------  -----         \n",
      " 0   userID     27028 non-null  category      \n",
      " 1   itemID     27028 non-null  object        \n",
      " 2   timestamp  27028 non-null  datetime64[ns]\n",
      " 3   rating     27028 non-null  int64         \n",
      "dtypes: category(1), datetime64[ns](1), int64(1), object(1)\n",
      "memory usage: 984.6+ KB\n"
     ]
    }
   ],
   "source": [
    "test.info()"
   ]
  },
  {
   "cell_type": "code",
   "execution_count": 13,
   "id": "588818dc-980c-44dd-be68-4189c682fe6c",
   "metadata": {
    "execution": {
     "iopub.execute_input": "2023-10-18T15:15:24.325520Z",
     "iopub.status.busy": "2023-10-18T15:15:24.325354Z",
     "iopub.status.idle": "2023-10-18T15:15:24.368896Z",
     "shell.execute_reply": "2023-10-18T15:15:24.368316Z",
     "shell.execute_reply.started": "2023-10-18T15:15:24.325505Z"
    }
   },
   "outputs": [
    {
     "name": "stdout",
     "output_type": "stream",
     "text": [
      "<class 'pandas.core.frame.DataFrame'>\n",
      "RangeIndex: 14500 entries, 0 to 14499\n",
      "Data columns (total 3 columns):\n",
      " #   Column      Non-Null Count  Dtype   \n",
      "---  ------      --------------  -----   \n",
      " 0   userID      14500 non-null  category\n",
      " 1   itemID      14500 non-null  object  \n",
      " 2   prediction  14500 non-null  float32 \n",
      "dtypes: category(1), float32(1), object(1)\n",
      "memory usage: 285.6+ KB\n"
     ]
    }
   ],
   "source": [
    "topk_scores.info()"
   ]
  },
  {
   "cell_type": "markdown",
   "id": "4ddb1991-9e1a-4a0d-aac3-fd74ba480a2d",
   "metadata": {},
   "source": [
    "### 2.5.2 Evaluation\n",
    "With topk_scores predicted by the model, we can evaluate how LightGCN performs on this test set."
   ]
  },
  {
   "cell_type": "code",
   "execution_count": 14,
   "id": "b6b85a1b-f160-42c2-b3cc-5d1ce91be0f3",
   "metadata": {
    "execution": {
     "iopub.execute_input": "2023-10-18T15:15:24.370041Z",
     "iopub.status.busy": "2023-10-18T15:15:24.369648Z",
     "iopub.status.idle": "2023-10-18T15:15:24.666821Z",
     "shell.execute_reply": "2023-10-18T15:15:24.666149Z",
     "shell.execute_reply.started": "2023-10-18T15:15:24.370015Z"
    }
   },
   "outputs": [
    {
     "name": "stdout",
     "output_type": "stream",
     "text": [
      "MAP:\t0.100455\n",
      "NDCG:\t0.149871\n",
      "Precision@5:\t0.108759\n",
      "Recall@5:\t0.140724\n"
     ]
    }
   ],
   "source": [
    "from recommenders.evaluation.python_evaluation import map_at_k, ndcg_at_k, precision_at_k, recall_at_k\n",
    "\n",
    "eval_map = map_at_k(test, topk_scores, k=TOP_K)\n",
    "eval_ndcg = ndcg_at_k(test, topk_scores, k=TOP_K)\n",
    "eval_precision = precision_at_k(test, topk_scores, k=TOP_K)\n",
    "eval_recall = recall_at_k(test, topk_scores, k=TOP_K)\n",
    "\n",
    "print(\"MAP:\\t%f\" % eval_map,\n",
    "      \"NDCG:\\t%f\" % eval_ndcg,\n",
    "      f\"Precision@{TOP_K}:\\t%f\" % eval_precision,\n",
    "      f\"Recall@{TOP_K}:\\t%f\" % eval_recall, sep='\\n')"
   ]
  },
  {
   "cell_type": "markdown",
   "id": "a5f54f74-bfb6-4017-92aa-b607f8b1f9a1",
   "metadata": {},
   "source": [
    "## 2.6 Infer embeddings\n",
    "\n",
    "With infer_embedding method of LightGCN model, we can export the embeddings of users and items in the training set to CSV files for future use."
   ]
  },
  {
   "cell_type": "code",
   "execution_count": 15,
   "id": "82936f77-367f-49cc-bc28-ff54565a5fd0",
   "metadata": {
    "execution": {
     "iopub.execute_input": "2023-10-18T15:15:24.667553Z",
     "iopub.status.busy": "2023-10-18T15:15:24.667408Z",
     "iopub.status.idle": "2023-10-18T15:15:24.699182Z",
     "shell.execute_reply": "2023-10-18T15:15:24.698663Z",
     "shell.execute_reply.started": "2023-10-18T15:15:24.667540Z"
    }
   },
   "outputs": [],
   "source": [
    "# model.infer_embedding(user_file, item_file)"
   ]
  }
 ],
 "metadata": {
  "kernelspec": {
   "display_name": "Python 3 (ipykernel)",
   "language": "python",
   "name": "python3"
  },
  "language_info": {
   "codemirror_mode": {
    "name": "ipython",
    "version": 3
   },
   "file_extension": ".py",
   "mimetype": "text/x-python",
   "name": "python",
   "nbconvert_exporter": "python",
   "pygments_lexer": "ipython3",
   "version": "3.9.18"
  },
  "widgets": {
   "application/vnd.jupyter.widget-state+json": {
    "state": {},
    "version_major": 2,
    "version_minor": 0
   }
  }
 },
 "nbformat": 4,
 "nbformat_minor": 5
}
