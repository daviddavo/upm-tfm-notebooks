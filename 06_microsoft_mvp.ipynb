{
 "cells": [
  {
   "cell_type": "code",
   "execution_count": 1,
   "id": "cd646be6-1a4c-49b8-b3bf-f0e387b15efa",
   "metadata": {},
   "outputs": [],
   "source": [
    "import recommenders\n",
    "\n",
    "from src.datasets import daocensus\n",
    "\n",
    "%load_ext autoreload\n",
    "%autoreload 2"
   ]
  },
  {
   "cell_type": "code",
   "execution_count": 2,
   "id": "4f3e9b7e-fdfd-47ba-a8c0-4286e2878777",
   "metadata": {},
   "outputs": [],
   "source": [
    "SEED = 42\n",
    "TOP_K = 5\n",
    "EPOCHS = 50\n",
    "BATCH_SIZE = 512"
   ]
  },
  {
   "cell_type": "code",
   "execution_count": 3,
   "id": "9d6b56c0-2038-48a5-8876-0f25ac92a34e",
   "metadata": {},
   "outputs": [
    {
     "name": "stdout",
     "output_type": "stream",
     "text": [
      "<class 'pandas.core.frame.DataFrame'>\n",
      "RangeIndex: 116560 entries, 0 to 116559\n",
      "Data columns (total 10 columns):\n",
      " #   Column         Non-Null Count   Dtype         \n",
      "---  ------         --------------   -----         \n",
      " 0   platform       116560 non-null  object        \n",
      " 1   name           116560 non-null  object        \n",
      " 2   id             116560 non-null  object        \n",
      " 3   proposal       116560 non-null  category      \n",
      " 4   deployment     116560 non-null  object        \n",
      " 5   platform_vote  116560 non-null  object        \n",
      " 6   voter          116560 non-null  category      \n",
      " 7   date           116560 non-null  datetime64[ns]\n",
      " 8   choice         116560 non-null  object        \n",
      " 9   weight         116560 non-null  float64       \n",
      "dtypes: category(2), datetime64[ns](1), float64(1), object(6)\n",
      "memory usage: 7.9+ MB\n",
      "None\n",
      "<class 'pandas.core.frame.DataFrame'>\n",
      "RangeIndex: 1942 entries, 0 to 1941\n",
      "Data columns (total 9 columns):\n",
      " #   Column               Non-Null Count  Dtype         \n",
      "---  ------               --------------  -----         \n",
      " 0   platform             1942 non-null   object        \n",
      " 1   name                 1942 non-null   object        \n",
      " 2   platform_deployment  1942 non-null   object        \n",
      " 3   id                   1942 non-null   category      \n",
      " 4   deployment           1942 non-null   object        \n",
      " 5   platform_proposal    1942 non-null   object        \n",
      " 6   author               1942 non-null   category      \n",
      " 7   date                 1942 non-null   datetime64[ns]\n",
      " 8   votes_count          1942 non-null   int64         \n",
      "dtypes: category(2), datetime64[ns](1), int64(1), object(5)\n",
      "memory usage: 508.5+ KB\n",
      "None\n"
     ]
    }
   ],
   "source": [
    "dfv, dfp = daocensus.get(\"./data/daos-census\", 'Decentraland', 'snapshot')# , min_vpu=6)\n",
    "print(dfv.info())\n",
    "print(dfp.info())"
   ]
  },
  {
   "cell_type": "code",
   "execution_count": 4,
   "id": "d0d3c2d6-89c5-4a2b-bfd0-6b2dd068b327",
   "metadata": {},
   "outputs": [
    {
     "data": {
      "text/html": [
       "<div>\n",
       "<style scoped>\n",
       "    .dataframe tbody tr th:only-of-type {\n",
       "        vertical-align: middle;\n",
       "    }\n",
       "\n",
       "    .dataframe tbody tr th {\n",
       "        vertical-align: top;\n",
       "    }\n",
       "\n",
       "    .dataframe thead th {\n",
       "        text-align: right;\n",
       "    }\n",
       "</style>\n",
       "<table border=\"1\" class=\"dataframe\">\n",
       "  <thead>\n",
       "    <tr style=\"text-align: right;\">\n",
       "      <th></th>\n",
       "      <th>userID</th>\n",
       "      <th>itemID</th>\n",
       "      <th>timestamp</th>\n",
       "      <th>rating</th>\n",
       "    </tr>\n",
       "  </thead>\n",
       "  <tbody>\n",
       "    <tr>\n",
       "      <th>0</th>\n",
       "      <td>0xe7af1c70f8f089c4c3bd71999692c6c5a15d9e2a</td>\n",
       "      <td>b86aa059-3d31-5d41-a472-70962816f779</td>\n",
       "      <td>2021-12-17 12:28:01</td>\n",
       "      <td>1</td>\n",
       "    </tr>\n",
       "    <tr>\n",
       "      <th>1</th>\n",
       "      <td>0xc54a6c3778016b06cbd126ccc3b5bc06c5f666fb</td>\n",
       "      <td>b86aa059-3d31-5d41-a472-70962816f779</td>\n",
       "      <td>2021-12-17 02:16:23</td>\n",
       "      <td>1</td>\n",
       "    </tr>\n",
       "    <tr>\n",
       "      <th>2</th>\n",
       "      <td>0xd82d005e8f8d5385db40ba23884a5c967bb1e8af</td>\n",
       "      <td>b86aa059-3d31-5d41-a472-70962816f779</td>\n",
       "      <td>2021-12-17 00:38:22</td>\n",
       "      <td>1</td>\n",
       "    </tr>\n",
       "    <tr>\n",
       "      <th>3</th>\n",
       "      <td>0xf4c64db66ffb301985f5ecd85c8f3f9c02f2659d</td>\n",
       "      <td>b86aa059-3d31-5d41-a472-70962816f779</td>\n",
       "      <td>2021-12-16 18:47:08</td>\n",
       "      <td>1</td>\n",
       "    </tr>\n",
       "    <tr>\n",
       "      <th>4</th>\n",
       "      <td>0xd5e9ef1cedad0d135d543d286a2c190b16cbb89e</td>\n",
       "      <td>b86aa059-3d31-5d41-a472-70962816f779</td>\n",
       "      <td>2021-12-16 18:32:15</td>\n",
       "      <td>1</td>\n",
       "    </tr>\n",
       "    <tr>\n",
       "      <th>...</th>\n",
       "      <td>...</td>\n",
       "      <td>...</td>\n",
       "      <td>...</td>\n",
       "      <td>...</td>\n",
       "    </tr>\n",
       "    <tr>\n",
       "      <th>116555</th>\n",
       "      <td>0x1156bf625b37623a86d004e66e0a01ec4b17e051</td>\n",
       "      <td>d083109e-4819-54b9-a01c-67bd5a770f65</td>\n",
       "      <td>2022-09-06 18:47:54</td>\n",
       "      <td>1</td>\n",
       "    </tr>\n",
       "    <tr>\n",
       "      <th>116556</th>\n",
       "      <td>0xbd03add5da0e173c67c9c1073ffba017147c42d4</td>\n",
       "      <td>d083109e-4819-54b9-a01c-67bd5a770f65</td>\n",
       "      <td>2022-09-06 18:44:04</td>\n",
       "      <td>1</td>\n",
       "    </tr>\n",
       "    <tr>\n",
       "      <th>116557</th>\n",
       "      <td>0x4da03f669dd9609dc49ca6f3451ba22d3b792395</td>\n",
       "      <td>d083109e-4819-54b9-a01c-67bd5a770f65</td>\n",
       "      <td>2022-09-06 18:21:14</td>\n",
       "      <td>1</td>\n",
       "    </tr>\n",
       "    <tr>\n",
       "      <th>116558</th>\n",
       "      <td>0xd6e62a97a55537cd04847bb73e22208bd20106aa</td>\n",
       "      <td>d083109e-4819-54b9-a01c-67bd5a770f65</td>\n",
       "      <td>2022-09-06 18:14:10</td>\n",
       "      <td>1</td>\n",
       "    </tr>\n",
       "    <tr>\n",
       "      <th>116559</th>\n",
       "      <td>0x9a70a6e429c4ede5fcb0562f5bcc0c0d992493f4</td>\n",
       "      <td>d083109e-4819-54b9-a01c-67bd5a770f65</td>\n",
       "      <td>2022-09-06 18:12:51</td>\n",
       "      <td>1</td>\n",
       "    </tr>\n",
       "  </tbody>\n",
       "</table>\n",
       "<p>116560 rows × 4 columns</p>\n",
       "</div>"
      ],
      "text/plain": [
       "                                            userID  \\\n",
       "0       0xe7af1c70f8f089c4c3bd71999692c6c5a15d9e2a   \n",
       "1       0xc54a6c3778016b06cbd126ccc3b5bc06c5f666fb   \n",
       "2       0xd82d005e8f8d5385db40ba23884a5c967bb1e8af   \n",
       "3       0xf4c64db66ffb301985f5ecd85c8f3f9c02f2659d   \n",
       "4       0xd5e9ef1cedad0d135d543d286a2c190b16cbb89e   \n",
       "...                                            ...   \n",
       "116555  0x1156bf625b37623a86d004e66e0a01ec4b17e051   \n",
       "116556  0xbd03add5da0e173c67c9c1073ffba017147c42d4   \n",
       "116557  0x4da03f669dd9609dc49ca6f3451ba22d3b792395   \n",
       "116558  0xd6e62a97a55537cd04847bb73e22208bd20106aa   \n",
       "116559  0x9a70a6e429c4ede5fcb0562f5bcc0c0d992493f4   \n",
       "\n",
       "                                      itemID           timestamp  rating  \n",
       "0       b86aa059-3d31-5d41-a472-70962816f779 2021-12-17 12:28:01       1  \n",
       "1       b86aa059-3d31-5d41-a472-70962816f779 2021-12-17 02:16:23       1  \n",
       "2       b86aa059-3d31-5d41-a472-70962816f779 2021-12-17 00:38:22       1  \n",
       "3       b86aa059-3d31-5d41-a472-70962816f779 2021-12-16 18:47:08       1  \n",
       "4       b86aa059-3d31-5d41-a472-70962816f779 2021-12-16 18:32:15       1  \n",
       "...                                      ...                 ...     ...  \n",
       "116555  d083109e-4819-54b9-a01c-67bd5a770f65 2022-09-06 18:47:54       1  \n",
       "116556  d083109e-4819-54b9-a01c-67bd5a770f65 2022-09-06 18:44:04       1  \n",
       "116557  d083109e-4819-54b9-a01c-67bd5a770f65 2022-09-06 18:21:14       1  \n",
       "116558  d083109e-4819-54b9-a01c-67bd5a770f65 2022-09-06 18:14:10       1  \n",
       "116559  d083109e-4819-54b9-a01c-67bd5a770f65 2022-09-06 18:12:51       1  \n",
       "\n",
       "[116560 rows x 4 columns]"
      ]
     },
     "execution_count": 4,
     "metadata": {},
     "output_type": "execute_result"
    }
   ],
   "source": [
    "def to_microsoft(dfv):\n",
    "    df = dfv[['voter', 'proposal', 'date']].rename(columns={\n",
    "        'voter': 'userID',\n",
    "        'proposal': 'itemID',\n",
    "        'date': 'timestamp',\n",
    "    })\n",
    "    df['itemID'] = df['itemID'].astype('str')\n",
    "    df['rating'] = 1\n",
    "    return df\n",
    "\n",
    "df = to_microsoft(dfv)\n",
    "df"
   ]
  },
  {
   "cell_type": "code",
   "execution_count": 5,
   "id": "b49a95ea-d8dd-4360-90b3-9391e4d4cc51",
   "metadata": {},
   "outputs": [],
   "source": [
    "from recommenders.datasets.python_splitters import (\n",
    "    python_stratified_split,\n",
    "    python_chrono_split,\n",
    ")\n",
    "\n",
    "train, test = python_chrono_split(df, ratio=0.75)"
   ]
  },
  {
   "cell_type": "code",
   "execution_count": 6,
   "id": "3485e157-59f1-4cc3-977b-ec8d166f93d7",
   "metadata": {},
   "outputs": [
    {
     "name": "stderr",
     "output_type": "stream",
     "text": [
      "/home/daviddavo/upm-tfm-notebooks/.direnv/python-3.9/lib/python3.9/site-packages/recommenders/models/deeprec/DataModel/ImplicitCF.py:73: FutureWarning: The frame.append method is deprecated and will be removed from pandas in a future version. Use pandas.concat instead.\n",
      "  df = train if test is None else train.append(test)\n"
     ]
    }
   ],
   "source": [
    "from recommenders.models.deeprec.DataModel.ImplicitCF import ImplicitCF\n",
    "\n",
    "data = ImplicitCF(train=train, test=test, seed=SEED)"
   ]
  },
  {
   "cell_type": "code",
   "execution_count": 7,
   "id": "a04b549c-bdf0-4265-9b4b-77c38f179f7f",
   "metadata": {},
   "outputs": [
    {
     "data": {
      "text/plain": [
       "(1942, 7268)"
      ]
     },
     "execution_count": 7,
     "metadata": {},
     "output_type": "execute_result"
    }
   ],
   "source": [
    "data.n_items, data.n_users"
   ]
  },
  {
   "cell_type": "code",
   "execution_count": 8,
   "id": "51ff5c74-c5fb-4ac7-bd74-11a7fa91d739",
   "metadata": {},
   "outputs": [],
   "source": [
    "from recommenders.models.deeprec.deeprec_utils import prepare_hparams\n",
    "\n",
    "hparams = prepare_hparams(\n",
    "    './config/lightgcn.yaml',\n",
    "    n_layers=3,\n",
    "    batch_size=BATCH_SIZE,\n",
    "    epochs=EPOCHS,\n",
    "    learning_rate=0.005,\n",
    "    eval_epoch=5,\n",
    "    top_k=TOP_K,\n",
    ")"
   ]
  },
  {
   "cell_type": "code",
   "execution_count": 9,
   "id": "4b9ae88a-51cd-4476-9442-65b7c39b47e5",
   "metadata": {},
   "outputs": [
    {
     "name": "stderr",
     "output_type": "stream",
     "text": [
      "2023-10-25 17:04:29.657681: E tensorflow/compiler/xla/stream_executor/cuda/cuda_dnn.cc:9342] Unable to register cuDNN factory: Attempting to register factory for plugin cuDNN when one has already been registered\n",
      "2023-10-25 17:04:29.657702: E tensorflow/compiler/xla/stream_executor/cuda/cuda_fft.cc:609] Unable to register cuFFT factory: Attempting to register factory for plugin cuFFT when one has already been registered\n",
      "2023-10-25 17:04:29.657716: E tensorflow/compiler/xla/stream_executor/cuda/cuda_blas.cc:1518] Unable to register cuBLAS factory: Attempting to register factory for plugin cuBLAS when one has already been registered\n"
     ]
    },
    {
     "name": "stdout",
     "output_type": "stream",
     "text": [
      "Already create adjacency matrix.\n",
      "Already normalize adjacency matrix.\n",
      "Using xavier initialization.\n"
     ]
    }
   ],
   "source": [
    "from recommenders.models.deeprec.models.graphrec.lightgcn import LightGCN\n",
    "\n",
    "model = LightGCN(hparams, data, seed=SEED)"
   ]
  },
  {
   "cell_type": "code",
   "execution_count": 10,
   "id": "a276d8e8-e64e-4441-91ff-d0f4e16866ce",
   "metadata": {},
   "outputs": [
    {
     "name": "stdout",
     "output_type": "stream",
     "text": [
      "Epoch 1 (train)0.6s: train loss = 0.31916 = (mf)0.31862 + (embed)0.00054\n",
      "Epoch 2 (train)0.4s: train loss = 0.09870 = (mf)0.09731 + (embed)0.00139\n",
      "Epoch 3 (train)0.4s: train loss = 0.07097 = (mf)0.06917 + (embed)0.00180\n",
      "Epoch 4 (train)0.5s: train loss = 0.05632 = (mf)0.05424 + (embed)0.00209\n",
      "Epoch 5 (train)0.5s + (eval)1.0s: train loss = 0.04648 = (mf)0.04418 + (embed)0.00230, recall = 0.12036, ndcg = 0.10808, precision = 0.06340, map = 0.07418\n",
      "Epoch 6 (train)0.4s: train loss = 0.03993 = (mf)0.03743 + (embed)0.00249\n",
      "Epoch 7 (train)0.4s: train loss = 0.03598 = (mf)0.03332 + (embed)0.00265\n",
      "Epoch 8 (train)0.4s: train loss = 0.03262 = (mf)0.02982 + (embed)0.00280\n",
      "Epoch 9 (train)0.5s: train loss = 0.03054 = (mf)0.02761 + (embed)0.00293\n",
      "Epoch 10 (train)0.4s + (eval)0.2s: train loss = 0.02866 = (mf)0.02563 + (embed)0.00303, recall = 0.13383, ndcg = 0.12290, precision = 0.06785, map = 0.08840\n",
      "Epoch 11 (train)0.3s: train loss = 0.02744 = (mf)0.02430 + (embed)0.00314\n",
      "Epoch 12 (train)0.4s: train loss = 0.02593 = (mf)0.02269 + (embed)0.00324\n",
      "Epoch 13 (train)0.4s: train loss = 0.02281 = (mf)0.01947 + (embed)0.00334\n",
      "Epoch 14 (train)0.4s: train loss = 0.02225 = (mf)0.01883 + (embed)0.00343\n",
      "Epoch 15 (train)0.4s + (eval)0.2s: train loss = 0.02175 = (mf)0.01824 + (embed)0.00351, recall = 0.14756, ndcg = 0.13187, precision = 0.07377, map = 0.09532\n",
      "Epoch 16 (train)0.4s: train loss = 0.02017 = (mf)0.01659 + (embed)0.00358\n",
      "Epoch 17 (train)0.4s: train loss = 0.02030 = (mf)0.01665 + (embed)0.00365\n",
      "Epoch 18 (train)0.4s: train loss = 0.01951 = (mf)0.01580 + (embed)0.00371\n",
      "Epoch 19 (train)0.4s: train loss = 0.01818 = (mf)0.01440 + (embed)0.00378\n",
      "Epoch 20 (train)0.4s + (eval)0.2s: train loss = 0.01857 = (mf)0.01474 + (embed)0.00383, recall = 0.16072, ndcg = 0.14545, precision = 0.08103, map = 0.10670\n",
      "Epoch 21 (train)0.5s: train loss = 0.01812 = (mf)0.01424 + (embed)0.00389\n",
      "Epoch 22 (train)0.4s: train loss = 0.01724 = (mf)0.01331 + (embed)0.00393\n",
      "Epoch 23 (train)0.4s: train loss = 0.01673 = (mf)0.01274 + (embed)0.00398\n",
      "Epoch 24 (train)0.4s: train loss = 0.01604 = (mf)0.01201 + (embed)0.00403\n",
      "Epoch 25 (train)0.4s + (eval)0.2s: train loss = 0.01553 = (mf)0.01145 + (embed)0.00408, recall = 0.15963, ndcg = 0.14648, precision = 0.08146, map = 0.10814\n",
      "Epoch 26 (train)0.4s: train loss = 0.01566 = (mf)0.01154 + (embed)0.00412\n",
      "Epoch 27 (train)0.4s: train loss = 0.01503 = (mf)0.01087 + (embed)0.00416\n",
      "Epoch 28 (train)0.4s: train loss = 0.01549 = (mf)0.01130 + (embed)0.00419\n",
      "Epoch 29 (train)0.5s: train loss = 0.01432 = (mf)0.01011 + (embed)0.00421\n",
      "Epoch 30 (train)0.4s + (eval)0.2s: train loss = 0.01417 = (mf)0.00992 + (embed)0.00426, recall = 0.16443, ndcg = 0.15005, precision = 0.08428, map = 0.11072\n",
      "Epoch 31 (train)0.4s: train loss = 0.01407 = (mf)0.00979 + (embed)0.00428\n",
      "Epoch 32 (train)0.5s: train loss = 0.01389 = (mf)0.00958 + (embed)0.00431\n",
      "Epoch 33 (train)0.4s: train loss = 0.01356 = (mf)0.00923 + (embed)0.00433\n",
      "Epoch 34 (train)0.4s: train loss = 0.01412 = (mf)0.00976 + (embed)0.00436\n",
      "Epoch 35 (train)0.5s + (eval)0.2s: train loss = 0.01327 = (mf)0.00889 + (embed)0.00438, recall = 0.16804, ndcg = 0.15479, precision = 0.08567, map = 0.11525\n",
      "Epoch 36 (train)0.4s: train loss = 0.01293 = (mf)0.00853 + (embed)0.00440\n",
      "Epoch 37 (train)0.4s: train loss = 0.01259 = (mf)0.00817 + (embed)0.00443\n",
      "Epoch 38 (train)0.4s: train loss = 0.01222 = (mf)0.00778 + (embed)0.00444\n",
      "Epoch 39 (train)0.4s: train loss = 0.01195 = (mf)0.00749 + (embed)0.00446\n",
      "Epoch 40 (train)0.4s + (eval)0.2s: train loss = 0.01200 = (mf)0.00753 + (embed)0.00447, recall = 0.16873, ndcg = 0.15759, precision = 0.08696, map = 0.11825\n",
      "Epoch 41 (train)0.4s: train loss = 0.01183 = (mf)0.00734 + (embed)0.00449\n",
      "Epoch 42 (train)0.5s: train loss = 0.01206 = (mf)0.00756 + (embed)0.00451\n",
      "Epoch 43 (train)0.5s: train loss = 0.01204 = (mf)0.00752 + (embed)0.00451\n",
      "Epoch 44 (train)0.4s: train loss = 0.01192 = (mf)0.00740 + (embed)0.00453\n",
      "Epoch 45 (train)0.4s + (eval)0.2s: train loss = 0.01128 = (mf)0.00674 + (embed)0.00454, recall = 0.17185, ndcg = 0.15857, precision = 0.08753, map = 0.11846\n",
      "Epoch 46 (train)0.4s: train loss = 0.01106 = (mf)0.00651 + (embed)0.00455\n",
      "Epoch 47 (train)0.3s: train loss = 0.01173 = (mf)0.00717 + (embed)0.00457\n",
      "Epoch 48 (train)0.4s: train loss = 0.01141 = (mf)0.00685 + (embed)0.00457\n",
      "Epoch 49 (train)0.4s: train loss = 0.01123 = (mf)0.00665 + (embed)0.00458\n",
      "Epoch 50 (train)0.4s + (eval)0.2s: train loss = 0.01100 = (mf)0.00642 + (embed)0.00459, recall = 0.17512, ndcg = 0.16423, precision = 0.09064, map = 0.12340\n"
     ]
    }
   ],
   "source": [
    "model.fit()"
   ]
  },
  {
   "cell_type": "markdown",
   "id": "72193280-0e31-4d73-b22c-0437d1b58fdf",
   "metadata": {},
   "source": [
    "### Recommendation\n",
    "\n",
    "We can call recommend_k_items to recommend k items for each user passed in this function. We set remove_seen=True to remove the items already seen by the user. The function returns a dataframe, containing each user and top k items recommended to them and the corresponding ranking scores."
   ]
  },
  {
   "cell_type": "code",
   "execution_count": 11,
   "id": "9910b6bb-d755-43c4-9a61-c86e3093417a",
   "metadata": {},
   "outputs": [
    {
     "data": {
      "text/html": [
       "<div>\n",
       "<style scoped>\n",
       "    .dataframe tbody tr th:only-of-type {\n",
       "        vertical-align: middle;\n",
       "    }\n",
       "\n",
       "    .dataframe tbody tr th {\n",
       "        vertical-align: top;\n",
       "    }\n",
       "\n",
       "    .dataframe thead th {\n",
       "        text-align: right;\n",
       "    }\n",
       "</style>\n",
       "<table border=\"1\" class=\"dataframe\">\n",
       "  <thead>\n",
       "    <tr style=\"text-align: right;\">\n",
       "      <th></th>\n",
       "      <th>userID</th>\n",
       "      <th>itemID</th>\n",
       "      <th>prediction</th>\n",
       "    </tr>\n",
       "  </thead>\n",
       "  <tbody>\n",
       "    <tr>\n",
       "      <th>0</th>\n",
       "      <td>0x3fdf6b7355c05ea6b3a224bb711cffbee8d20ac2</td>\n",
       "      <td>fc70266a-b8f4-5a35-82bb-f5f9764f5bec</td>\n",
       "      <td>11.026363</td>\n",
       "    </tr>\n",
       "    <tr>\n",
       "      <th>1</th>\n",
       "      <td>0x3fdf6b7355c05ea6b3a224bb711cffbee8d20ac2</td>\n",
       "      <td>55452f96-5839-53a4-ba2a-1b4fd5812796</td>\n",
       "      <td>8.571611</td>\n",
       "    </tr>\n",
       "    <tr>\n",
       "      <th>2</th>\n",
       "      <td>0x3fdf6b7355c05ea6b3a224bb711cffbee8d20ac2</td>\n",
       "      <td>78ea1f82-3ad1-59a5-a835-dd16ffb688be</td>\n",
       "      <td>8.283291</td>\n",
       "    </tr>\n",
       "    <tr>\n",
       "      <th>3</th>\n",
       "      <td>0x3fdf6b7355c05ea6b3a224bb711cffbee8d20ac2</td>\n",
       "      <td>9c65c60e-542b-55d9-90b8-c3975cb96569</td>\n",
       "      <td>8.049166</td>\n",
       "    </tr>\n",
       "    <tr>\n",
       "      <th>4</th>\n",
       "      <td>0x3fdf6b7355c05ea6b3a224bb711cffbee8d20ac2</td>\n",
       "      <td>72068dbe-a532-5d9c-bd73-ddbd3c40809f</td>\n",
       "      <td>7.852084</td>\n",
       "    </tr>\n",
       "  </tbody>\n",
       "</table>\n",
       "</div>"
      ],
      "text/plain": [
       "                                       userID  \\\n",
       "0  0x3fdf6b7355c05ea6b3a224bb711cffbee8d20ac2   \n",
       "1  0x3fdf6b7355c05ea6b3a224bb711cffbee8d20ac2   \n",
       "2  0x3fdf6b7355c05ea6b3a224bb711cffbee8d20ac2   \n",
       "3  0x3fdf6b7355c05ea6b3a224bb711cffbee8d20ac2   \n",
       "4  0x3fdf6b7355c05ea6b3a224bb711cffbee8d20ac2   \n",
       "\n",
       "                                 itemID  prediction  \n",
       "0  fc70266a-b8f4-5a35-82bb-f5f9764f5bec   11.026363  \n",
       "1  55452f96-5839-53a4-ba2a-1b4fd5812796    8.571611  \n",
       "2  78ea1f82-3ad1-59a5-a835-dd16ffb688be    8.283291  \n",
       "3  9c65c60e-542b-55d9-90b8-c3975cb96569    8.049166  \n",
       "4  72068dbe-a532-5d9c-bd73-ddbd3c40809f    7.852084  "
      ]
     },
     "execution_count": 11,
     "metadata": {},
     "output_type": "execute_result"
    }
   ],
   "source": [
    "topk_scores = model.recommend_k_items(test, top_k=TOP_K, remove_seen=True)\n",
    "topk_scores.head()"
   ]
  },
  {
   "cell_type": "code",
   "execution_count": 12,
   "id": "ab9fc9e8-d3c6-4e4f-b9de-697f66be781f",
   "metadata": {},
   "outputs": [
    {
     "name": "stdout",
     "output_type": "stream",
     "text": [
      "<class 'pandas.core.frame.DataFrame'>\n",
      "Int64Index: 28314 entries, 73107 to 110078\n",
      "Data columns (total 4 columns):\n",
      " #   Column     Non-Null Count  Dtype         \n",
      "---  ------     --------------  -----         \n",
      " 0   userID     28314 non-null  category      \n",
      " 1   itemID     28314 non-null  object        \n",
      " 2   timestamp  28314 non-null  datetime64[ns]\n",
      " 3   rating     28314 non-null  int64         \n",
      "dtypes: category(1), datetime64[ns](1), int64(1), object(1)\n",
      "memory usage: 1.2+ MB\n"
     ]
    }
   ],
   "source": [
    "test.info()"
   ]
  },
  {
   "cell_type": "code",
   "execution_count": 13,
   "id": "588818dc-980c-44dd-be68-4189c682fe6c",
   "metadata": {},
   "outputs": [
    {
     "name": "stdout",
     "output_type": "stream",
     "text": [
      "<class 'pandas.core.frame.DataFrame'>\n",
      "RangeIndex: 20930 entries, 0 to 20929\n",
      "Data columns (total 3 columns):\n",
      " #   Column      Non-Null Count  Dtype   \n",
      "---  ------      --------------  -----   \n",
      " 0   userID      20930 non-null  category\n",
      " 1   itemID      20930 non-null  object  \n",
      " 2   prediction  20930 non-null  float32 \n",
      "dtypes: category(1), float32(1), object(1)\n",
      "memory usage: 601.1+ KB\n"
     ]
    }
   ],
   "source": [
    "topk_scores.info()"
   ]
  },
  {
   "cell_type": "markdown",
   "id": "4ddb1991-9e1a-4a0d-aac3-fd74ba480a2d",
   "metadata": {},
   "source": [
    "### 2.5.2 Evaluation\n",
    "With topk_scores predicted by the model, we can evaluate how LightGCN performs on this test set."
   ]
  },
  {
   "cell_type": "code",
   "execution_count": 14,
   "id": "715e7699-ad0b-4345-a7ab-a3c1192b817f",
   "metadata": {},
   "outputs": [],
   "source": [
    "from recommenders.evaluation.python_evaluation import map_at_k, ndcg_at_k, precision_at_k, recall_at_k"
   ]
  },
  {
   "cell_type": "code",
   "execution_count": 15,
   "id": "06de0cc3-c9c4-4184-9b44-fc52dd86f2b8",
   "metadata": {},
   "outputs": [
    {
     "name": "stdout",
     "output_type": "stream",
     "text": [
      "Maximum achievable metrics\n",
      "MAP:\t0.851933\n",
      "NDCG:\t1.000000\n",
      "Precision@5:\t0.584138\n",
      "Recall@5:\t0.851933\n"
     ]
    }
   ],
   "source": [
    "test['prediction'] = 1\n",
    "eval_map = map_at_k(test, test, k=TOP_K)\n",
    "eval_ndcg = ndcg_at_k(test, test, k=TOP_K)\n",
    "eval_precision = precision_at_k(test, test, k=TOP_K)\n",
    "eval_recall = recall_at_k(test, test, k=TOP_K)\n",
    "\n",
    "print(\"Maximum achievable metrics\")\n",
    "print(\"MAP:\\t%f\" % eval_map,\n",
    "      \"NDCG:\\t%f\" % eval_ndcg,\n",
    "      f\"Precision@{TOP_K}:\\t%f\" % eval_precision,\n",
    "      f\"Recall@{TOP_K}:\\t%f\" % eval_recall, sep='\\n')"
   ]
  },
  {
   "cell_type": "code",
   "execution_count": 16,
   "id": "b6b85a1b-f160-42c2-b3cc-5d1ce91be0f3",
   "metadata": {},
   "outputs": [
    {
     "name": "stdout",
     "output_type": "stream",
     "text": [
      "MAP:\t0.123398\n",
      "NDCG:\t0.164225\n",
      "Precision@5:\t0.090635\n",
      "Recall@5:\t0.175118\n"
     ]
    }
   ],
   "source": [
    "eval_map = map_at_k(test, topk_scores, k=TOP_K)\n",
    "eval_ndcg = ndcg_at_k(test, topk_scores, k=TOP_K)\n",
    "eval_precision = precision_at_k(test, topk_scores, k=TOP_K)\n",
    "eval_recall = recall_at_k(test, topk_scores, k=TOP_K)\n",
    "\n",
    "print(\"MAP:\\t%f\" % eval_map,\n",
    "      \"NDCG:\\t%f\" % eval_ndcg,\n",
    "      f\"Precision@{TOP_K}:\\t%f\" % eval_precision,\n",
    "      f\"Recall@{TOP_K}:\\t%f\" % eval_recall, sep='\\n')"
   ]
  },
  {
   "cell_type": "markdown",
   "id": "a5f54f74-bfb6-4017-92aa-b607f8b1f9a1",
   "metadata": {},
   "source": [
    "## 2.6 Infer embeddings\n",
    "\n",
    "With infer_embedding method of LightGCN model, we can export the embeddings of users and items in the training set to CSV files for future use."
   ]
  },
  {
   "cell_type": "code",
   "execution_count": 17,
   "id": "82936f77-367f-49cc-bc28-ff54565a5fd0",
   "metadata": {},
   "outputs": [],
   "source": [
    "# model.infer_embedding(user_file, item_file)"
   ]
  }
 ],
 "metadata": {
  "kernelspec": {
   "display_name": "Python 3 (ipykernel)",
   "language": "python",
   "name": "python3"
  },
  "language_info": {
   "codemirror_mode": {
    "name": "ipython",
    "version": 3
   },
   "file_extension": ".py",
   "mimetype": "text/x-python",
   "name": "python",
   "nbconvert_exporter": "python",
   "pygments_lexer": "ipython3",
   "version": "3.9.18"
  },
  "widgets": {
   "application/vnd.jupyter.widget-state+json": {
    "state": {},
    "version_major": 2,
    "version_minor": 0
   }
  }
 },
 "nbformat": 4,
 "nbformat_minor": 5
}
