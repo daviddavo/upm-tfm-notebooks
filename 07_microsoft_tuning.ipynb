{
 "cells": [
  {
   "cell_type": "code",
   "execution_count": 1,
   "id": "cf98a9e1-f3e0-4c0a-96c1-30f305901246",
   "metadata": {},
   "outputs": [
    {
     "name": "stdout",
     "output_type": "stream",
     "text": [
      "Python version 3.9.18 (main, Oct 24 2023, 09:18:18) \n",
      "[GCC 11.4.0]\n"
     ]
    },
    {
     "name": "stderr",
     "output_type": "stream",
     "text": [
      "2023-11-28 11:28:48.962744: E tensorflow/compiler/xla/stream_executor/cuda/cuda_dnn.cc:9342] Unable to register cuDNN factory: Attempting to register factory for plugin cuDNN when one has already been registered\n",
      "2023-11-28 11:28:48.962767: E tensorflow/compiler/xla/stream_executor/cuda/cuda_fft.cc:609] Unable to register cuFFT factory: Attempting to register factory for plugin cuFFT when one has already been registered\n",
      "2023-11-28 11:28:48.962777: E tensorflow/compiler/xla/stream_executor/cuda/cuda_blas.cc:1518] Unable to register cuBLAS factory: Attempting to register factory for plugin cuBLAS when one has already been registered\n"
     ]
    },
    {
     "name": "stdout",
     "output_type": "stream",
     "text": [
      "11.8 8\n",
      "Ray version: 2.7.1\n"
     ]
    }
   ],
   "source": [
    "from typing import Dict, List, Tuple, Union, Any, Optional\n",
    "\n",
    "import os\n",
    "import sys\n",
    "import time\n",
    "print(\"Python version\", sys.version)\n",
    "\n",
    "# Ignore pandas warnings\n",
    "import warnings\n",
    "warnings.simplefilter(action='ignore', category=FutureWarning)\n",
    "\n",
    "from pathlib import Path\n",
    "\n",
    "import pandas as pd\n",
    "import numpy as np\n",
    "import tensorflow as tf\n",
    "\n",
    "from tqdm.autonotebook import tqdm\n",
    "\n",
    "import ray\n",
    "from ray import train, tune\n",
    "\n",
    "from src.datasets import daocensus\n",
    "\n",
    "%load_ext autoreload\n",
    "%autoreload 2\n",
    "\n",
    "tf.get_logger().setLevel('WARNING')\n",
    "\n",
    "tf.config.list_physical_devices(\"GPU\")\n",
    "sys_details = tf.sysconfig.get_build_info()\n",
    "cuda = sys_details.get(\"cuda_version\", -1)\n",
    "cudnn = sys_details.get(\"cudnn_version\", -1)\n",
    "print(cuda, cudnn)\n",
    "print('Ray version:', ray.__version__)"
   ]
  },
  {
   "cell_type": "code",
   "execution_count": 2,
   "id": "798161a7-5414-4626-9dfb-6d71823bf4c7",
   "metadata": {},
   "outputs": [],
   "source": [
    "# Others config\n",
    "SEED: int = 57\n",
    "RAY_RESULTS_PATH: Path = Path('~/ray_results').expanduser()\n",
    "\n",
    "# Dataset config\n",
    "DAO_NAME = 'Decentraland'\n",
    "\n",
    "# Dataset splits config\n",
    "SPLIT_FREQ = '1W' # Split weekly\n",
    "LAST_SPLITS = 10 # Use just last 10 splits\n",
    "\n",
    "# Training config\n",
    "MAX_EPOCHS: int = 200\n",
    "EPOCHS_PER_ITER: int = 5\n",
    "SAMPLES_PER_SPLIT: int = 100\n",
    "OPTIM_METRIC: str = 'ndcg@10'\n",
    "\n",
    "# Eval config\n",
    "TOP_K: List[int] = [5, 10]\n",
    "METRICS: List[str] = [\"recall\", \"ndcg\", \"precision\", \"map\"]"
   ]
  },
  {
   "cell_type": "markdown",
   "id": "ab0ff2f2-bdaa-46eb-87d1-c4481734b8c0",
   "metadata": {},
   "source": [
    "# Load data"
   ]
  },
  {
   "cell_type": "code",
   "execution_count": 3,
   "id": "765a4892-6a85-40ab-a65d-c0d76b0569b2",
   "metadata": {},
   "outputs": [
    {
     "name": "stdout",
     "output_type": "stream",
     "text": [
      "<class 'pandas.core.frame.DataFrame'>\n",
      "RangeIndex: 116560 entries, 0 to 116559\n",
      "Data columns (total 10 columns):\n",
      " #   Column         Non-Null Count   Dtype         \n",
      "---  ------         --------------   -----         \n",
      " 0   platform       116560 non-null  object        \n",
      " 1   name           116560 non-null  object        \n",
      " 2   id             116560 non-null  object        \n",
      " 3   proposal       116560 non-null  category      \n",
      " 4   deployment     116560 non-null  object        \n",
      " 5   platform_vote  116560 non-null  object        \n",
      " 6   voter          116560 non-null  object        \n",
      " 7   date           116560 non-null  datetime64[ns]\n",
      " 8   choice         116560 non-null  object        \n",
      " 9   weight         116560 non-null  float64       \n",
      "dtypes: category(1), datetime64[ns](1), float64(1), object(7)\n",
      "memory usage: 8.3+ MB\n",
      "None\n",
      "<class 'pandas.core.frame.DataFrame'>\n",
      "Int64Index: 1942 entries, 0 to 1941\n",
      "Data columns (total 14 columns):\n",
      " #   Column               Non-Null Count  Dtype         \n",
      "---  ------               --------------  -----         \n",
      " 0   platform             1942 non-null   object        \n",
      " 1   name                 1942 non-null   object        \n",
      " 2   platform_deployment  1942 non-null   object        \n",
      " 3   id                   1942 non-null   category      \n",
      " 4   deployment           1942 non-null   object        \n",
      " 5   platform_proposal    1942 non-null   object        \n",
      " 6   author               1942 non-null   category      \n",
      " 7   date                 1942 non-null   datetime64[ns]\n",
      " 8   votes_count          1942 non-null   int64         \n",
      " 9   proposal_id          1942 non-null   object        \n",
      " 10  title                1942 non-null   object        \n",
      " 11  description          1942 non-null   object        \n",
      " 12  start                1942 non-null   datetime64[ns]\n",
      " 13  end                  1942 non-null   datetime64[ns]\n",
      "dtypes: category(2), datetime64[ns](3), int64(1), object(8)\n",
      "memory usage: 599.4+ KB\n",
      "None\n"
     ]
    }
   ],
   "source": [
    "dfptext = pd.read_csv('./snapshot_proposals.csv')[['proposal_id', 'title', 'description', 'start', 'end']]\n",
    "dfv, dfp = daocensus.get(\"./data/daos-census\", DAO_NAME, 'snapshot')\n",
    "dfv['voter'] = dfv['voter'].astype('str')\n",
    "dfp = dfp.merge(dfptext, how='left', left_on='platform_proposal', right_on='proposal_id')\n",
    "dfp[['start', 'end']] = dfp[['start', 'end']].astype('datetime64')\n",
    "print(dfv.info())\n",
    "print(dfp.info())"
   ]
  },
  {
   "cell_type": "markdown",
   "id": "df339c08-4f99-4933-886c-6ab774f09e63",
   "metadata": {},
   "source": [
    "## Transform data"
   ]
  },
  {
   "cell_type": "code",
   "execution_count": 4,
   "id": "4b003927-cfab-4f9a-91f8-1376f038f82e",
   "metadata": {},
   "outputs": [
    {
     "data": {
      "text/html": [
       "<div>\n",
       "<style scoped>\n",
       "    .dataframe tbody tr th:only-of-type {\n",
       "        vertical-align: middle;\n",
       "    }\n",
       "\n",
       "    .dataframe tbody tr th {\n",
       "        vertical-align: top;\n",
       "    }\n",
       "\n",
       "    .dataframe thead th {\n",
       "        text-align: right;\n",
       "    }\n",
       "</style>\n",
       "<table border=\"1\" class=\"dataframe\">\n",
       "  <thead>\n",
       "    <tr style=\"text-align: right;\">\n",
       "      <th></th>\n",
       "      <th>userID</th>\n",
       "      <th>itemID</th>\n",
       "      <th>timestamp</th>\n",
       "      <th>rating</th>\n",
       "    </tr>\n",
       "  </thead>\n",
       "  <tbody>\n",
       "    <tr>\n",
       "      <th>0</th>\n",
       "      <td>0xe7af1c70f8f089c4c3bd71999692c6c5a15d9e2a</td>\n",
       "      <td>b86aa059-3d31-5d41-a472-70962816f779</td>\n",
       "      <td>2021-12-17 12:28:01</td>\n",
       "      <td>1</td>\n",
       "    </tr>\n",
       "    <tr>\n",
       "      <th>1</th>\n",
       "      <td>0xc54a6c3778016b06cbd126ccc3b5bc06c5f666fb</td>\n",
       "      <td>b86aa059-3d31-5d41-a472-70962816f779</td>\n",
       "      <td>2021-12-17 02:16:23</td>\n",
       "      <td>1</td>\n",
       "    </tr>\n",
       "    <tr>\n",
       "      <th>2</th>\n",
       "      <td>0xd82d005e8f8d5385db40ba23884a5c967bb1e8af</td>\n",
       "      <td>b86aa059-3d31-5d41-a472-70962816f779</td>\n",
       "      <td>2021-12-17 00:38:22</td>\n",
       "      <td>1</td>\n",
       "    </tr>\n",
       "    <tr>\n",
       "      <th>3</th>\n",
       "      <td>0xf4c64db66ffb301985f5ecd85c8f3f9c02f2659d</td>\n",
       "      <td>b86aa059-3d31-5d41-a472-70962816f779</td>\n",
       "      <td>2021-12-16 18:47:08</td>\n",
       "      <td>1</td>\n",
       "    </tr>\n",
       "    <tr>\n",
       "      <th>4</th>\n",
       "      <td>0xd5e9ef1cedad0d135d543d286a2c190b16cbb89e</td>\n",
       "      <td>b86aa059-3d31-5d41-a472-70962816f779</td>\n",
       "      <td>2021-12-16 18:32:15</td>\n",
       "      <td>1</td>\n",
       "    </tr>\n",
       "  </tbody>\n",
       "</table>\n",
       "</div>"
      ],
      "text/plain": [
       "                                       userID  \\\n",
       "0  0xe7af1c70f8f089c4c3bd71999692c6c5a15d9e2a   \n",
       "1  0xc54a6c3778016b06cbd126ccc3b5bc06c5f666fb   \n",
       "2  0xd82d005e8f8d5385db40ba23884a5c967bb1e8af   \n",
       "3  0xf4c64db66ffb301985f5ecd85c8f3f9c02f2659d   \n",
       "4  0xd5e9ef1cedad0d135d543d286a2c190b16cbb89e   \n",
       "\n",
       "                                 itemID           timestamp  rating  \n",
       "0  b86aa059-3d31-5d41-a472-70962816f779 2021-12-17 12:28:01       1  \n",
       "1  b86aa059-3d31-5d41-a472-70962816f779 2021-12-17 02:16:23       1  \n",
       "2  b86aa059-3d31-5d41-a472-70962816f779 2021-12-17 00:38:22       1  \n",
       "3  b86aa059-3d31-5d41-a472-70962816f779 2021-12-16 18:47:08       1  \n",
       "4  b86aa059-3d31-5d41-a472-70962816f779 2021-12-16 18:32:15       1  "
      ]
     },
     "execution_count": 4,
     "metadata": {},
     "output_type": "execute_result"
    }
   ],
   "source": [
    "def to_microsoft(dfv):\n",
    "    df = dfv[['voter', 'proposal', 'date']].rename(columns={\n",
    "        'voter': 'userID',\n",
    "        'proposal': 'itemID',\n",
    "        'date': 'timestamp',\n",
    "    })\n",
    "    df['itemID'] = df['itemID'].astype('str')\n",
    "    df['rating'] = 1\n",
    "    return df\n",
    "\n",
    "df = to_microsoft(dfv)\n",
    "df.head()"
   ]
  },
  {
   "cell_type": "markdown",
   "id": "8faab8dc-8192-47b5-96df-7458bd890ffb",
   "metadata": {},
   "source": [
    "# Split data\n",
    "\n",
    "Each proposal remains open for a few days, our environment is different of a movies recommender system. For this reason, we will use a TimeSeriesSplit instead of a K-Fold to cross-validate the model.\n",
    "\n",
    "![](https://scikit-learn.org/stable/_images/sphx_glr_plot_cv_indices_013.png)\n",
    "\n",
    "El TimeSeriesSplit de scikit-learn no nos vale porque el número de elementos en cada split es el mismo, pero el tamaño del intervalo, no. Como queremos simular un comportamiento realista, haremos el split dividiendo por intervalos de igual longitud."
   ]
  },
  {
   "cell_type": "code",
   "execution_count": 5,
   "id": "3f661ac7-df23-49ad-9671-cfa65d4b44d6",
   "metadata": {},
   "outputs": [],
   "source": [
    "from recommenders.evaluation.python_evaluation import metrics as metrics_dict"
   ]
  },
  {
   "cell_type": "code",
   "execution_count": 6,
   "id": "445d9909-609a-4cf3-8e24-6fa36946a375",
   "metadata": {},
   "outputs": [
    {
     "name": "stdout",
     "output_type": "stream",
     "text": [
      "Split 0, train from: 2021-05-24 to 2023-05-07, test from: 2023-05-07 to 2023-05-14\n",
      "  t: 2023-05-07 15:29:29\n",
      "  len(train): 105603, len(test): 328\n",
      "  users(train): 6846, users(test): 120\n",
      "\n",
      "  highest possible recall@5:\t0.9443\n",
      "  highest possible ndcg@5:\t1.0000\n",
      "  highest possible precision@5:\t0.4267\n",
      "  highest possible map@5:\t0.9443\n",
      "------------------------------\n",
      "Split 1, train from: 2021-05-24 to 2023-05-14, test from: 2023-05-14 to 2023-05-21\n",
      "  t: 2023-05-14 15:29:29\n",
      "  len(train): 106687, len(test): 238\n",
      "  users(train): 6871, users(test): 88\n",
      "\n",
      "  highest possible recall@5:\t0.9604\n",
      "  highest possible ndcg@5:\t1.0000\n",
      "  highest possible precision@5:\t0.4614\n",
      "  highest possible map@5:\t0.9604\n",
      "------------------------------\n",
      "Split 2, train from: 2021-05-24 to 2023-05-21, test from: 2023-05-21 to 2023-05-28\n",
      "  t: 2023-05-21 15:29:29\n",
      "  len(train): 108276, len(test): 450\n",
      "  users(train): 6901, users(test): 144\n",
      "\n",
      "  highest possible recall@5:\t0.9309\n",
      "  highest possible ndcg@5:\t1.0000\n",
      "  highest possible precision@5:\t0.4569\n",
      "  highest possible map@5:\t0.9309\n",
      "------------------------------\n",
      "Split 3, train from: 2021-05-24 to 2023-05-28, test from: 2023-05-28 to 2023-06-04\n",
      "  t: 2023-05-28 15:29:29\n",
      "  len(train): 109210, len(test): 168\n",
      "  users(train): 6916, users(test): 72\n",
      "\n",
      "  highest possible recall@5:\t0.9815\n",
      "  highest possible ndcg@5:\t1.0000\n",
      "  highest possible precision@5:\t0.4361\n",
      "  highest possible map@5:\t0.9815\n",
      "------------------------------\n",
      "Split 4, train from: 2021-05-24 to 2023-06-04, test from: 2023-06-04 to 2023-06-11\n",
      "  t: 2023-06-04 15:29:29\n",
      "  len(train): 109899, len(test): 170\n",
      "  users(train): 6928, users(test): 67\n",
      "\n",
      "  highest possible recall@5:\t0.9822\n",
      "  highest possible ndcg@5:\t1.0000\n",
      "  highest possible precision@5:\t0.4836\n",
      "  highest possible map@5:\t0.9822\n",
      "------------------------------\n",
      "Split 5, train from: 2021-05-24 to 2023-06-11, test from: 2023-06-11 to 2023-06-18\n",
      "  t: 2023-06-11 15:29:29\n",
      "  len(train): 110751, len(test): 327\n",
      "  users(train): 6945, users(test): 112\n",
      "\n",
      "  highest possible recall@5:\t0.9351\n",
      "  highest possible ndcg@5:\t1.0000\n",
      "  highest possible precision@5:\t0.4625\n",
      "  highest possible map@5:\t0.9351\n",
      "------------------------------\n",
      "Split 6, train from: 2021-05-24 to 2023-06-18, test from: 2023-06-18 to 2023-06-25\n",
      "  t: 2023-06-18 15:29:29\n",
      "  len(train): 111537, len(test): 310\n",
      "  users(train): 6964, users(test): 98\n",
      "\n",
      "  highest possible recall@5:\t0.9435\n",
      "  highest possible ndcg@5:\t1.0000\n",
      "  highest possible precision@5:\t0.5265\n",
      "  highest possible map@5:\t0.9435\n",
      "------------------------------\n",
      "Split 7, train from: 2021-05-24 to 2023-06-25, test from: 2023-06-25 to 2023-07-02\n",
      "  t: 2023-06-25 15:29:29\n",
      "  len(train): 112555, len(test): 134\n",
      "  users(train): 7011, users(test): 61\n",
      "\n",
      "  highest possible recall@5:\t0.9829\n",
      "  highest possible ndcg@5:\t1.0000\n",
      "  highest possible precision@5:\t0.4164\n",
      "  highest possible map@5:\t0.9829\n",
      "------------------------------\n",
      "Split 8, train from: 2021-05-24 to 2023-07-02, test from: 2023-07-02 to 2023-07-09\n",
      "  t: 2023-07-02 15:29:29\n",
      "  len(train): 113492, len(test): 592\n",
      "  users(train): 7066, users(test): 185\n",
      "\n",
      "  highest possible recall@5:\t0.9224\n",
      "  highest possible ndcg@5:\t1.0000\n",
      "  highest possible precision@5:\t0.4941\n",
      "  highest possible map@5:\t0.9224\n",
      "------------------------------\n",
      "Split 9, train from: 2021-05-24 to 2023-07-09, test from: 2023-07-09 to 2023-07-16\n",
      "  t: 2023-07-09 15:29:29\n",
      "  len(train): 115348, len(test): 685\n",
      "  users(train): 7206, users(test): 222\n",
      "\n",
      "  highest possible recall@5:\t0.9397\n",
      "  highest possible ndcg@5:\t1.0000\n",
      "  highest possible precision@5:\t0.4739\n",
      "  highest possible map@5:\t0.9397\n",
      "------------------------------\n"
     ]
    }
   ],
   "source": [
    "from src.model_selection import timeFreqSplitCurrent, timeIntervalSplitCurrent\n",
    "\n",
    "# max_train_prev = df['timestamp'].min().date()\n",
    "# N_SPLITS = 10; SKIP_SPLIT = 0\n",
    "# folds = list(timeIntervalSplitCurrent(df, N_SPLITS, dfp, skip=SKIP_SPLIT, remove_not_in_train_col='userID', return_open=True))\n",
    "folds = list(timeFreqSplitCurrent(df, SPLIT_FREQ, dfp, return_open=True, remove_not_in_train_col='userID'))[-LAST_SPLITS:]\n",
    "for i, (dftrain, dftest, t, open_proposals) in enumerate(folds):\n",
    "    min_train = dftrain['timestamp'].min().date()\n",
    "    max_train = dftrain['timestamp'].max().date()\n",
    "    min_test  = dftest['timestamp'].min().date()\n",
    "    max_test  = dftest['timestamp'].max().date()\n",
    "\n",
    "    train_users = len(set(dftrain['userID']))\n",
    "    test_users = len(set(dftest['userID']))\n",
    "    \n",
    "    print(f\"Split {i}, train from: {min_train} to {max_train}, test from: {min_test} to {max_test}\")\n",
    "    print(f\"  t: {t}\")\n",
    "    print(f\"  len(train): {len(dftrain)}, len(test): {len(dftest)}\")\n",
    "    print(f\"  users(train): {train_users}, users(test): {test_users}\")\n",
    "\n",
    "    print()\n",
    "    dftest['prediction'] = 1\n",
    "    for m in METRICS:\n",
    "        f = metrics_dict[f'{m}_at_k']\n",
    "        print(f\"  highest possible {m}@{TOP_K[0]}:\\t{f(dftest, dftest, k=TOP_K[0], relevancy_method='top_k'):.4f}\")\n",
    "\n",
    "    print(\"-\"*30)"
   ]
  },
  {
   "cell_type": "markdown",
   "id": "5c881c43-d308-40ff-b6b4-d54458e1bc32",
   "metadata": {},
   "source": [
    "# Defining training"
   ]
  },
  {
   "cell_type": "code",
   "execution_count": 7,
   "id": "9a502e2d-3398-405f-9029-d3abc69033dc",
   "metadata": {},
   "outputs": [],
   "source": [
    "# from recommenders.models.deeprec.models.graphrec.lightgcn import LightGCN\n",
    "from src.models import LightGCN\n",
    "from recommenders.utils.python_utils import get_top_k_scored_items"
   ]
  },
  {
   "cell_type": "markdown",
   "id": "923adb82-9733-4e21-a378-7263c5532353",
   "metadata": {},
   "source": [
    "## Small test of `LightGCNCustom`"
   ]
  },
  {
   "cell_type": "code",
   "execution_count": 8,
   "id": "41d1cf90-bd11-4a87-b0aa-bf0e25d559af",
   "metadata": {},
   "outputs": [],
   "source": [
    "from recommenders.models.deeprec.DataModel.ImplicitCF import ImplicitCF\n",
    "from recommenders.models.deeprec.deeprec_utils import prepare_hparams"
   ]
  },
  {
   "cell_type": "code",
   "execution_count": 9,
   "id": "0e57c58e-3091-4357-969a-c7bafedd29c1",
   "metadata": {},
   "outputs": [
    {
     "name": "stdout",
     "output_type": "stream",
     "text": [
      "items: 1939 user: 7206\n",
      "Already create adjacency matrix.\n",
      "Already normalize adjacency matrix.\n",
      "Using xavier initialization.\n"
     ]
    }
   ],
   "source": [
    "hparams = prepare_hparams(\n",
    "    model_type='lightgcn',\n",
    "    n_layers=3,\n",
    "    batch_size=512,\n",
    "    embed_size=64,\n",
    "    epochs=2,\n",
    "    learning_rate=0.001,\n",
    "    decay=0.001,\n",
    "    metrics=[\"recall\", \"ndcg\", \"precision\", \"map\"],\n",
    "    eval_epoch=2,\n",
    "    top_k=TOP_K[0],\n",
    "    save_model=False,\n",
    "    MODEL_DIR='./data/model/lightgcn/',\n",
    ")\n",
    "dataloader = ImplicitCF(train=folds[-1][0], test=folds[-1][1], seed=SEED)\n",
    "print(\"items:\", dataloader.n_items, \"user:\", dataloader.n_users)\n",
    "model = LightGCNCustom(data=dataloader, hparams=hparams)"
   ]
  },
  {
   "cell_type": "code",
   "execution_count": 10,
   "id": "3fe49e83-f291-4383-97c2-167a706ae717",
   "metadata": {},
   "outputs": [
    {
     "name": "stdout",
     "output_type": "stream",
     "text": [
      "Epoch 1 (train)0.7s: train loss = 0.59596 = (mf)0.59514 + (embed)0.00083\n",
      "Epoch 2 (train)0.5s + (eval)0.6s: train loss = 0.34242 = (mf)0.33814 + (embed)0.00428, recall = 0.03303, ndcg = 0.03305, precision = 0.00991, map = 0.03194\n"
     ]
    }
   ],
   "source": [
    "model.fit()"
   ]
  },
  {
   "cell_type": "code",
   "execution_count": 11,
   "id": "a12ab695-94f8-431e-8a7f-03bf17f2fa1e",
   "metadata": {},
   "outputs": [
    {
     "data": {
      "text/plain": [
       "[0.03303303303303304,\n",
       " 0.03305273711219786,\n",
       " 0.009909909909909911,\n",
       " 0.03193818818818819]"
      ]
     },
     "execution_count": 11,
     "metadata": {},
     "output_type": "execute_result"
    }
   ],
   "source": [
    "model.run_eval()"
   ]
  },
  {
   "cell_type": "code",
   "execution_count": 12,
   "id": "2b131c2d-6df2-4292-8f12-caaf409562ab",
   "metadata": {},
   "outputs": [
    {
     "data": {
      "text/html": [
       "<div>\n",
       "<style scoped>\n",
       "    .dataframe tbody tr th:only-of-type {\n",
       "        vertical-align: middle;\n",
       "    }\n",
       "\n",
       "    .dataframe tbody tr th {\n",
       "        vertical-align: top;\n",
       "    }\n",
       "\n",
       "    .dataframe thead th {\n",
       "        text-align: right;\n",
       "    }\n",
       "</style>\n",
       "<table border=\"1\" class=\"dataframe\">\n",
       "  <thead>\n",
       "    <tr style=\"text-align: right;\">\n",
       "      <th></th>\n",
       "      <th>userID</th>\n",
       "      <th>itemID</th>\n",
       "      <th>prediction</th>\n",
       "    </tr>\n",
       "  </thead>\n",
       "  <tbody>\n",
       "    <tr>\n",
       "      <th>0</th>\n",
       "      <td>397</td>\n",
       "      <td>0</td>\n",
       "      <td>-7.088201</td>\n",
       "    </tr>\n",
       "    <tr>\n",
       "      <th>3</th>\n",
       "      <td>5795</td>\n",
       "      <td>1938</td>\n",
       "      <td>0.447238</td>\n",
       "    </tr>\n",
       "    <tr>\n",
       "      <th>4</th>\n",
       "      <td>5795</td>\n",
       "      <td>0</td>\n",
       "      <td>-0.982281</td>\n",
       "    </tr>\n",
       "    <tr>\n",
       "      <th>6</th>\n",
       "      <td>328</td>\n",
       "      <td>0</td>\n",
       "      <td>-3.459556</td>\n",
       "    </tr>\n",
       "    <tr>\n",
       "      <th>9</th>\n",
       "      <td>266</td>\n",
       "      <td>0</td>\n",
       "      <td>-8.119783</td>\n",
       "    </tr>\n",
       "    <tr>\n",
       "      <th>...</th>\n",
       "      <td>...</td>\n",
       "      <td>...</td>\n",
       "      <td>...</td>\n",
       "    </tr>\n",
       "    <tr>\n",
       "      <th>661</th>\n",
       "      <td>1292</td>\n",
       "      <td>1938</td>\n",
       "      <td>-0.610669</td>\n",
       "    </tr>\n",
       "    <tr>\n",
       "      <th>662</th>\n",
       "      <td>1292</td>\n",
       "      <td>1238</td>\n",
       "      <td>-2.921641</td>\n",
       "    </tr>\n",
       "    <tr>\n",
       "      <th>663</th>\n",
       "      <td>1293</td>\n",
       "      <td>0</td>\n",
       "      <td>1.241249</td>\n",
       "    </tr>\n",
       "    <tr>\n",
       "      <th>664</th>\n",
       "      <td>1293</td>\n",
       "      <td>1938</td>\n",
       "      <td>-0.482672</td>\n",
       "    </tr>\n",
       "    <tr>\n",
       "      <th>665</th>\n",
       "      <td>1293</td>\n",
       "      <td>1238</td>\n",
       "      <td>-1.731134</td>\n",
       "    </tr>\n",
       "  </tbody>\n",
       "</table>\n",
       "<p>570 rows × 3 columns</p>\n",
       "</div>"
      ],
      "text/plain": [
       "     userID  itemID  prediction\n",
       "0       397       0   -7.088201\n",
       "3      5795    1938    0.447238\n",
       "4      5795       0   -0.982281\n",
       "6       328       0   -3.459556\n",
       "9       266       0   -8.119783\n",
       "..      ...     ...         ...\n",
       "661    1292    1938   -0.610669\n",
       "662    1292    1238   -2.921641\n",
       "663    1293       0    1.241249\n",
       "664    1293    1938   -0.482672\n",
       "665    1293    1238   -1.731134\n",
       "\n",
       "[570 rows x 3 columns]"
      ]
     },
     "execution_count": 12,
     "metadata": {},
     "output_type": "execute_result"
    }
   ],
   "source": [
    "model.recommend_k_items(dataloader.test, top_k=3, use_id=True, remove_seen=True, recommend_from={'b86aa059-3d31-5d41-a472-70962816f779', '56b4d333-4138-5aa3-9890-3502b9478079', 'd083109e-4819-54b9-a01c-67bd5a770f65' })"
   ]
  },
  {
   "cell_type": "markdown",
   "id": "d994a5dd-efe5-47bf-a8a1-803316d9fc75",
   "metadata": {},
   "source": [
    "# Defining trainer"
   ]
  },
  {
   "cell_type": "code",
   "execution_count": 13,
   "id": "a5d010bf-3a9c-4931-9d02-6589b3164438",
   "metadata": {
    "scrolled": true
   },
   "outputs": [],
   "source": [
    "from recommenders.evaluation.python_evaluation import map_at_k, ndcg_at_k, precision_at_k, recall_at_k\n",
    "\n",
    "class TrainLightGCN(tune.Trainable):\n",
    "    def setup(\n",
    "        self,\n",
    "        config: Dict[str, Any],\n",
    "        data,\n",
    "    ):\n",
    "        self.config = config\n",
    "\n",
    "        self.hparams = prepare_hparams(\n",
    "            model_type='lightgcn',\n",
    "            n_layers=config['conv_layers'],\n",
    "            batch_size=2**config['batch_size'],\n",
    "            embed_size=config['embedding_dim'],\n",
    "            epochs=EPOCHS_PER_ITER,\n",
    "            learning_rate=config['learning_rate'],\n",
    "            decay=config['l2'],\n",
    "            metrics=METRICS,\n",
    "            eval_epoch=-1,\n",
    "            top_k=TOP_K[0],\n",
    "            save_model=False,\n",
    "            MODEL_DIR='./data/model/lightgcn/',\n",
    "        )\n",
    "\n",
    "        train, test, self.t, self.open_proposals = data\n",
    "        self.dataloader = ImplicitCF(train=train, test=test, seed=SEED)\n",
    "        self.model = LightGCNCustom(self.hparams, self.dataloader, seed=SEED)\n",
    "        self.total_train = 0\n",
    "        self.total_eval = 0\n",
    "\n",
    "    @property\n",
    "    def iteration(self):\n",
    "        return self.model.epochs_done\n",
    "\n",
    "    @property\n",
    "    def training_iteration(self):\n",
    "        return self.model.epochs_done\n",
    "\n",
    "    def step(self):\n",
    "        \"\"\"\n",
    "        As a rule of thumb, the execution time of step should be large enough to avoid overheads \n",
    "        (i.e. more than a few seconds), but short enough to report progress periodically \n",
    "        (i.e. at most a few minutes).\n",
    "        \"\"\"\n",
    "        assert EPOCHS_PER_ITER > 0\n",
    "\n",
    "        train_start = time.time()\n",
    "        for _ in range(EPOCHS_PER_ITER):\n",
    "            ret = self.model.fit_epoch()\n",
    "        eval_start = train_end = time.time()\n",
    "\n",
    "        eval_dict = {'model_'+k:v for k,v in zip(self.model.metrics, self.model.run_eval())}\n",
    "        for k in TOP_K:\n",
    "            recs = self.model.recommend_k_items(\n",
    "                self.dataloader.test, \n",
    "                top_k=k,\n",
    "                use_id=True, \n",
    "                remove_seen=True, \n",
    "                recommend_from=self.open_proposals,\n",
    "            )\n",
    "            \n",
    "            eval_dict[f'precision@{k}'] = precision_at_k(self.dataloader.test, recs, k=k)\n",
    "            eval_dict[f'ndcg@{k}'] = ndcg_at_k(self.dataloader.test, recs, k=k)\n",
    "            eval_dict[f'recall@{k}'] = recall_at_k(self.dataloader.test, recs, k=k)\n",
    "            eval_dict[f'map@{k}'] = map_at_k(self.dataloader.test, recs, k=k)\n",
    "\n",
    "        eval_end = time.time()\n",
    "\n",
    "        self.total_train += train_end - train_start\n",
    "        self.total_eval += eval_end - eval_start\n",
    "        \n",
    "        return {\n",
    "            'iteration': self.iteration,\n",
    "            'loss': ret[0],\n",
    "            'mf_loss': ret[1],\n",
    "            'emb_loss': ret[2],\n",
    "            **eval_dict,\n",
    "            'time_train': train_end-train_start,\n",
    "            'time_test': eval_end-eval_start,\n",
    "            'time_total_train': self.total_train,\n",
    "            'time_total_test': self.total_eval,\n",
    "        }\n",
    "\n",
    "    def save_checkpoint(self, checkpoint_dir):\n",
    "        checkpoint_path = os.path.join(checkpoint_dir, \"model\")\n",
    "        self.model.saver.save(\n",
    "            sess=self.model.sess,\n",
    "            save_path=checkpoint_path,\n",
    "        )\n",
    "        return checkpoint_dir\n",
    "\n",
    "    def load_checkpoint(self, checkpoint_path):\n",
    "        self.model.load(checkpoint_path)"
   ]
  },
  {
   "cell_type": "markdown",
   "id": "16276fe4-d63d-4e7a-bcc8-38d8f5be299c",
   "metadata": {},
   "source": [
    "# Big experiment"
   ]
  },
  {
   "cell_type": "code",
   "execution_count": 14,
   "id": "a6cf4b2a-7028-439e-98c4-568e120b0a32",
   "metadata": {},
   "outputs": [
    {
     "data": {
      "text/plain": [
       "'lamarck'"
      ]
     },
     "execution_count": 14,
     "metadata": {},
     "output_type": "execute_result"
    }
   ],
   "source": [
    "os.uname().nodename"
   ]
  },
  {
   "cell_type": "code",
   "execution_count": 15,
   "id": "427c4b72-593a-41ff-9fd6-991e8e3a0445",
   "metadata": {},
   "outputs": [
    {
     "data": {
      "text/plain": [
       "PosixPath('/home/daviddavo/ray_results')"
      ]
     },
     "execution_count": 15,
     "metadata": {},
     "output_type": "execute_result"
    }
   ],
   "source": [
    "RAY_RESULTS_PATH"
   ]
  },
  {
   "cell_type": "code",
   "execution_count": 16,
   "id": "a5ad6f33-effe-4f48-850e-8044af3a88dc",
   "metadata": {},
   "outputs": [],
   "source": [
    "import ray\n",
    "from ray.tune.search.hyperopt import HyperOptSearch\n",
    "import datetime as dt\n",
    "\n",
    "def getTunerOnFold(f, points_to_evaluate = None):\n",
    "    name = f'LightGCN_dao={DAO_NAME},freq={SPLIT_FREQ},fold={f}'\n",
    "    paths = list(RAY_RESULTS_PATH.glob(f'{name}_*'))\n",
    "    last_experiment = max(paths, key=lambda x: x.stat().st_ctime) if paths else None\n",
    "    \n",
    "    ### SET TRAINING RESOURCES\n",
    "    if os.uname().nodename == 'lamarck':\n",
    "        # assert torch.cuda.is_available()\n",
    "        \n",
    "        NUM_SAMPLES = SAMPLES_PER_SPLIT\n",
    "        # Every run takes approx half a gig of vram (no optimizations)\n",
    "        # The RTX 4090 has 24GB so we can run the model about 48 times\n",
    "        resources_per_trial={\n",
    "            'cpu': 1,\n",
    "            # GPU has 25GiB, and each run might take up to 2GiB (torch version was lighter)\n",
    "            # so each run might take up to 1/12th of the GPU\n",
    "            # I use 1/16th so I don't take all the resources in the machine\n",
    "            'gpu': 1/16,\n",
    "        }\n",
    "    else:\n",
    "        NUM_SAMPLES = 1\n",
    "        resources_per_trial={\n",
    "            'cpu': 1,\n",
    "            # It takes about 1.5 GiB with full training data, but I put a bit more because\n",
    "            # this notebook also takes a bit of memory\n",
    "            'memory': 2e9,\n",
    "        }\n",
    "\n",
    "    dftrain,dftest,t,open_proposals = folds[f]\n",
    "    param_space = dict(\n",
    "        fold=f,\n",
    "        batch_size=tune.randint(6,10), # 64 - 1024\n",
    "        embedding_dim=tune.qlograndint(1, 1000, 5),\n",
    "        conv_layers=tune.randint(1,6),\n",
    "        learning_rate=tune.qloguniform(1e-4, 1, 1e-4),\n",
    "        l2=tune.loguniform(1e-7, 1e-2),\n",
    "    )\n",
    "    \n",
    "    ### RESTORE EXPERIMENT OR CREATE A NEW ONE\n",
    "    if last_experiment and tune.Tuner.can_restore(last_experiment):\n",
    "        print(f\"Restoring last experiment: {last_experiment}\")\n",
    "        tuner = tune.Tuner.restore(\n",
    "            str(last_experiment),\n",
    "            trainable=tune.with_resources(\n",
    "                # tune.with_parameters(TrainLightGCN,  train=dftrain, test=dftest, open_proposals=open_proposals),\n",
    "                tune.with_parameters(TrainLightGCN, data=folds[f]),\n",
    "                resources_per_trial,\n",
    "            ),\n",
    "            restart_errored=True,\n",
    "            param_space=param_space,\n",
    "        )\n",
    "    else:\n",
    "        print(f\"No experiment found for fold {f}, creating new tuner with {NUM_SAMPLES} samples\")\n",
    "        search_alg = None\n",
    "        search_alg = HyperOptSearch(\n",
    "            # points_to_evaluate=[{\n",
    "            #     'batch_size': 8, # 2**8 = 256\n",
    "            #     'learning_rate': 10e-2,\n",
    "            #     'l2': 10e-6,\n",
    "            #     'embedding_dim': 100,\n",
    "            #     'conv_layers': 3,\n",
    "            # }],\n",
    "            points_to_evaluate = points_to_evaluate,\n",
    "            random_state_seed=SEED,\n",
    "        )\n",
    "        # search_alg = tune.search.Repeater(search_alg, N_SPLITS-SKIP_SPLIT)\n",
    "        \n",
    "        tuner = tune.Tuner(\n",
    "            tune.with_resources(\n",
    "                # tune.with_parameters(TrainLightGCN,  train=dftrain, test=dftest, open_proposals=open_proposals),\n",
    "                tune.with_parameters(TrainLightGCN, data=folds[f]),\n",
    "                resources_per_trial,\n",
    "            ),\n",
    "            run_config=train.RunConfig(\n",
    "                stop={'training_iteration': MAX_EPOCHS/EPOCHS_PER_ITER, 'time_total_train': 300},\n",
    "                name=name + f'_{dt.datetime.now().isoformat()}',\n",
    "                storage_path=RAY_RESULTS_PATH,\n",
    "            ),\n",
    "            param_space=param_space,\n",
    "            tune_config=tune.TuneConfig(\n",
    "                search_alg=search_alg,\n",
    "                num_samples=NUM_SAMPLES,\n",
    "                metric=OPTIM_METRIC,\n",
    "                mode='max',\n",
    "            )\n",
    "        )\n",
    "\n",
    "    return tuner"
   ]
  },
  {
   "cell_type": "code",
   "execution_count": 17,
   "id": "c968ecd5-d62c-4d57-846f-4bb7202a97c1",
   "metadata": {},
   "outputs": [
    {
     "data": {
      "text/html": [
       "<div class=\"tuneStatus\">\n",
       "  <div style=\"display: flex;flex-direction: row\">\n",
       "    <div style=\"display: flex;flex-direction: column;\">\n",
       "      <h3>Tune Status</h3>\n",
       "      <table>\n",
       "<tbody>\n",
       "<tr><td>Current time:</td><td>2023-11-28 19:38:21</td></tr>\n",
       "<tr><td>Running for: </td><td>01:15:31.82        </td></tr>\n",
       "<tr><td>Memory:      </td><td>27.1/125.6 GiB     </td></tr>\n",
       "</tbody>\n",
       "</table>\n",
       "    </div>\n",
       "    <div class=\"vDivider\"></div>\n",
       "    <div class=\"systemInfo\">\n",
       "      <h3>System Info</h3>\n",
       "      Using FIFO scheduling algorithm.<br>Logical resource usage: 9.0/24 CPUs, 0.5625/1 GPUs (0.0/1.0 accelerator_type:G)\n",
       "    </div>\n",
       "    <div class=\"vDivider\"></div>\n",
       "<div class=\"messages\">\n",
       "  <h3>Messages</h3>\n",
       "  \n",
       "  ... 64 more trials not shown (64 TERMINATED)\n",
       "  \n",
       "</div>\n",
       "<style>\n",
       ".messages {\n",
       "  color: var(--jp-ui-font-color1);\n",
       "  display: flex;\n",
       "  flex-direction: column;\n",
       "  padding-left: 1em;\n",
       "  overflow-y: auto;\n",
       "}\n",
       ".messages h3 {\n",
       "  font-weight: bold;\n",
       "}\n",
       ".vDivider {\n",
       "  border-left-width: var(--jp-border-width);\n",
       "  border-left-color: var(--jp-border-color0);\n",
       "  border-left-style: solid;\n",
       "  margin: 0.5em 1em 0.5em 1em;\n",
       "}\n",
       "</style>\n",
       "\n",
       "  </div>\n",
       "  <div class=\"hDivider\"></div>\n",
       "  <div class=\"trialStatus\">\n",
       "    <h3>Trial Status</h3>\n",
       "    <table>\n",
       "<thead>\n",
       "<tr><th>Trial name            </th><th>status    </th><th>loc                  </th><th style=\"text-align: right;\">  batch_size</th><th style=\"text-align: right;\">  conv_layers</th><th style=\"text-align: right;\">  embedding_dim</th><th style=\"text-align: right;\">  fold</th><th style=\"text-align: right;\">         l2</th><th style=\"text-align: right;\">  learning_rate</th><th style=\"text-align: right;\">  iter</th><th style=\"text-align: right;\">  total time (s)</th><th style=\"text-align: right;\">  iteration</th><th style=\"text-align: right;\">     loss</th><th style=\"text-align: right;\">  mf_loss</th></tr>\n",
       "</thead>\n",
       "<tbody>\n",
       "<tr><td>TrainLightGCN_003f33d6</td><td>RUNNING   </td><td>147.96.81.131:3609650</td><td style=\"text-align: right;\">           7</td><td style=\"text-align: right;\">            1</td><td style=\"text-align: right;\">             50</td><td style=\"text-align: right;\">     9</td><td style=\"text-align: right;\">0.000418423</td><td style=\"text-align: right;\">         0.0106</td><td style=\"text-align: right;\">      </td><td style=\"text-align: right;\">                </td><td style=\"text-align: right;\">           </td><td style=\"text-align: right;\">         </td><td style=\"text-align: right;\">         </td></tr>\n",
       "<tr><td>TrainLightGCN_19a798ee</td><td>RUNNING   </td><td>147.96.81.131:3609081</td><td style=\"text-align: right;\">           7</td><td style=\"text-align: right;\">            4</td><td style=\"text-align: right;\">            360</td><td style=\"text-align: right;\">     9</td><td style=\"text-align: right;\">3.80425e-07</td><td style=\"text-align: right;\">         0.0316</td><td style=\"text-align: right;\">      </td><td style=\"text-align: right;\">                </td><td style=\"text-align: right;\">           </td><td style=\"text-align: right;\">         </td><td style=\"text-align: right;\">         </td></tr>\n",
       "<tr><td>TrainLightGCN_2b5ac3b6</td><td>RUNNING   </td><td>147.96.81.131:3609514</td><td style=\"text-align: right;\">           6</td><td style=\"text-align: right;\">            2</td><td style=\"text-align: right;\">             25</td><td style=\"text-align: right;\">     9</td><td style=\"text-align: right;\">6.72829e-06</td><td style=\"text-align: right;\">         0.0036</td><td style=\"text-align: right;\">      </td><td style=\"text-align: right;\">                </td><td style=\"text-align: right;\">           </td><td style=\"text-align: right;\">         </td><td style=\"text-align: right;\">         </td></tr>\n",
       "<tr><td>TrainLightGCN_7080637e</td><td>RUNNING   </td><td>147.96.81.131:3608941</td><td style=\"text-align: right;\">           8</td><td style=\"text-align: right;\">            2</td><td style=\"text-align: right;\">            230</td><td style=\"text-align: right;\">     9</td><td style=\"text-align: right;\">0.000798813</td><td style=\"text-align: right;\">         0.0005</td><td style=\"text-align: right;\">     2</td><td style=\"text-align: right;\">         215.46 </td><td style=\"text-align: right;\">         10</td><td style=\"text-align: right;\">0.0738957</td><td style=\"text-align: right;\">0.0600988</td></tr>\n",
       "<tr><td>TrainLightGCN_7f569259</td><td>RUNNING   </td><td>147.96.81.131:3608374</td><td style=\"text-align: right;\">           6</td><td style=\"text-align: right;\">            4</td><td style=\"text-align: right;\">            745</td><td style=\"text-align: right;\">     9</td><td style=\"text-align: right;\">9.21923e-06</td><td style=\"text-align: right;\">         0.0015</td><td style=\"text-align: right;\">      </td><td style=\"text-align: right;\">                </td><td style=\"text-align: right;\">           </td><td style=\"text-align: right;\">         </td><td style=\"text-align: right;\">         </td></tr>\n",
       "<tr><td>TrainLightGCN_a2f4aab4</td><td>RUNNING   </td><td>147.96.81.131:3609236</td><td style=\"text-align: right;\">           8</td><td style=\"text-align: right;\">            3</td><td style=\"text-align: right;\">             40</td><td style=\"text-align: right;\">     9</td><td style=\"text-align: right;\">1.43973e-07</td><td style=\"text-align: right;\">         0.0156</td><td style=\"text-align: right;\">     1</td><td style=\"text-align: right;\">         104.923</td><td style=\"text-align: right;\">          5</td><td style=\"text-align: right;\">0.0249004</td><td style=\"text-align: right;\">0.0248921</td></tr>\n",
       "<tr><td>TrainLightGCN_d1d2dc72</td><td>RUNNING   </td><td>147.96.81.131:3608801</td><td style=\"text-align: right;\">           7</td><td style=\"text-align: right;\">            3</td><td style=\"text-align: right;\">             25</td><td style=\"text-align: right;\">     9</td><td style=\"text-align: right;\">2.34061e-06</td><td style=\"text-align: right;\">         0.0055</td><td style=\"text-align: right;\">     1</td><td style=\"text-align: right;\">         197.188</td><td style=\"text-align: right;\">          5</td><td style=\"text-align: right;\">0.0496616</td><td style=\"text-align: right;\">0.0495914</td></tr>\n",
       "<tr><td>TrainLightGCN_fb87118d</td><td>RUNNING   </td><td>147.96.81.131:3609378</td><td style=\"text-align: right;\">           7</td><td style=\"text-align: right;\">            4</td><td style=\"text-align: right;\">            150</td><td style=\"text-align: right;\">     9</td><td style=\"text-align: right;\">1.18432e-05</td><td style=\"text-align: right;\">         0.1831</td><td style=\"text-align: right;\">      </td><td style=\"text-align: right;\">                </td><td style=\"text-align: right;\">           </td><td style=\"text-align: right;\">         </td><td style=\"text-align: right;\">         </td></tr>\n",
       "<tr><td>TrainLightGCN_419aa8b0</td><td>PENDING   </td><td>                     </td><td style=\"text-align: right;\">           8</td><td style=\"text-align: right;\">            3</td><td style=\"text-align: right;\">             10</td><td style=\"text-align: right;\">     9</td><td style=\"text-align: right;\">3.45182e-06</td><td style=\"text-align: right;\">         0.3171</td><td style=\"text-align: right;\">      </td><td style=\"text-align: right;\">                </td><td style=\"text-align: right;\">           </td><td style=\"text-align: right;\">         </td><td style=\"text-align: right;\">         </td></tr>\n",
       "<tr><td>TrainLightGCN_05a7157e</td><td>TERMINATED</td><td>147.96.81.131:3604438</td><td style=\"text-align: right;\">           7</td><td style=\"text-align: right;\">            4</td><td style=\"text-align: right;\">              5</td><td style=\"text-align: right;\">     9</td><td style=\"text-align: right;\">3.19048e-07</td><td style=\"text-align: right;\">         0.0002</td><td style=\"text-align: right;\">     3</td><td style=\"text-align: right;\">         459.639</td><td style=\"text-align: right;\">         15</td><td style=\"text-align: right;\">0.330437 </td><td style=\"text-align: right;\">0.330435 </td></tr>\n",
       "<tr><td>TrainLightGCN_05b67606</td><td>TERMINATED</td><td>147.96.81.131:3598896</td><td style=\"text-align: right;\">           7</td><td style=\"text-align: right;\">            3</td><td style=\"text-align: right;\">              5</td><td style=\"text-align: right;\">     9</td><td style=\"text-align: right;\">0.0011209  </td><td style=\"text-align: right;\">         0.0002</td><td style=\"text-align: right;\">     3</td><td style=\"text-align: right;\">         394.756</td><td style=\"text-align: right;\">         15</td><td style=\"text-align: right;\">0.330001 </td><td style=\"text-align: right;\">0.324167 </td></tr>\n",
       "<tr><td>TrainLightGCN_06ab998d</td><td>TERMINATED</td><td>147.96.81.131:3607810</td><td style=\"text-align: right;\">           7</td><td style=\"text-align: right;\">            4</td><td style=\"text-align: right;\">            905</td><td style=\"text-align: right;\">     9</td><td style=\"text-align: right;\">1.80421e-06</td><td style=\"text-align: right;\">         0.0074</td><td style=\"text-align: right;\">     1</td><td style=\"text-align: right;\">         446.165</td><td style=\"text-align: right;\">          5</td><td style=\"text-align: right;\">0.0155514</td><td style=\"text-align: right;\">0.0151608</td></tr>\n",
       "<tr><td>TrainLightGCN_07fdbde5</td><td>TERMINATED</td><td>147.96.81.131:3607259</td><td style=\"text-align: right;\">           7</td><td style=\"text-align: right;\">            5</td><td style=\"text-align: right;\">            250</td><td style=\"text-align: right;\">     9</td><td style=\"text-align: right;\">1.01512e-07</td><td style=\"text-align: right;\">         0.0138</td><td style=\"text-align: right;\">     2</td><td style=\"text-align: right;\">         391.246</td><td style=\"text-align: right;\">         10</td><td style=\"text-align: right;\">0.0125493</td><td style=\"text-align: right;\">0.0125092</td></tr>\n",
       "<tr><td>TrainLightGCN_088e79a3</td><td>TERMINATED</td><td>147.96.81.131:3605985</td><td style=\"text-align: right;\">           9</td><td style=\"text-align: right;\">            1</td><td style=\"text-align: right;\">              5</td><td style=\"text-align: right;\">     9</td><td style=\"text-align: right;\">1.04601e-06</td><td style=\"text-align: right;\">         0.0494</td><td style=\"text-align: right;\">     9</td><td style=\"text-align: right;\">         325.67 </td><td style=\"text-align: right;\">         45</td><td style=\"text-align: right;\">0.0780282</td><td style=\"text-align: right;\">0.0779865</td></tr>\n",
       "<tr><td>TrainLightGCN_0f2eb8c1</td><td>TERMINATED</td><td>147.96.81.131:3607536</td><td style=\"text-align: right;\">           7</td><td style=\"text-align: right;\">            4</td><td style=\"text-align: right;\">            545</td><td style=\"text-align: right;\">     9</td><td style=\"text-align: right;\">9.08867e-07</td><td style=\"text-align: right;\">         0.0025</td><td style=\"text-align: right;\">     2</td><td style=\"text-align: right;\">         563.386</td><td style=\"text-align: right;\">         10</td><td style=\"text-align: right;\">0.0149475</td><td style=\"text-align: right;\">0.0148597</td></tr>\n",
       "<tr><td>TrainLightGCN_1122ce8d</td><td>TERMINATED</td><td>147.96.81.131:3598488</td><td style=\"text-align: right;\">           7</td><td style=\"text-align: right;\">            4</td><td style=\"text-align: right;\">            300</td><td style=\"text-align: right;\">     9</td><td style=\"text-align: right;\">8.92312e-07</td><td style=\"text-align: right;\">         0.0065</td><td style=\"text-align: right;\">     2</td><td style=\"text-align: right;\">         339.336</td><td style=\"text-align: right;\">         10</td><td style=\"text-align: right;\">0.0111454</td><td style=\"text-align: right;\">0.011002 </td></tr>\n",
       "<tr><td>TrainLightGCN_12632df7</td><td>TERMINATED</td><td>147.96.81.131:3607671</td><td style=\"text-align: right;\">           7</td><td style=\"text-align: right;\">            5</td><td style=\"text-align: right;\">             80</td><td style=\"text-align: right;\">     9</td><td style=\"text-align: right;\">4.50434e-07</td><td style=\"text-align: right;\">         0.093 </td><td style=\"text-align: right;\">     2</td><td style=\"text-align: right;\">         388.302</td><td style=\"text-align: right;\">         10</td><td style=\"text-align: right;\">0.16892  </td><td style=\"text-align: right;\">0.166896 </td></tr>\n",
       "<tr><td>TrainLightGCN_14341844</td><td>TERMINATED</td><td>147.96.81.131:3600902</td><td style=\"text-align: right;\">           6</td><td style=\"text-align: right;\">            5</td><td style=\"text-align: right;\">            775</td><td style=\"text-align: right;\">     9</td><td style=\"text-align: right;\">0.000150931</td><td style=\"text-align: right;\">         0.0035</td><td style=\"text-align: right;\">     1</td><td style=\"text-align: right;\">         742.937</td><td style=\"text-align: right;\">          5</td><td style=\"text-align: right;\">0.0322523</td><td style=\"text-align: right;\">0.0194187</td></tr>\n",
       "<tr><td>TrainLightGCN_154df8d3</td><td>TERMINATED</td><td>147.96.81.131:3605285</td><td style=\"text-align: right;\">           6</td><td style=\"text-align: right;\">            4</td><td style=\"text-align: right;\">             10</td><td style=\"text-align: right;\">     9</td><td style=\"text-align: right;\">7.97975e-05</td><td style=\"text-align: right;\">         0.0047</td><td style=\"text-align: right;\">     2</td><td style=\"text-align: right;\">         383.254</td><td style=\"text-align: right;\">         10</td><td style=\"text-align: right;\">0.0540402</td><td style=\"text-align: right;\">0.0510369</td></tr>\n",
       "<tr><td>TrainLightGCN_188a7493</td><td>TERMINATED</td><td>147.96.81.131:3602735</td><td style=\"text-align: right;\">           6</td><td style=\"text-align: right;\">            2</td><td style=\"text-align: right;\">             20</td><td style=\"text-align: right;\">     9</td><td style=\"text-align: right;\">1.7521e-06 </td><td style=\"text-align: right;\">         0.0066</td><td style=\"text-align: right;\">     2</td><td style=\"text-align: right;\">         537.625</td><td style=\"text-align: right;\">         10</td><td style=\"text-align: right;\">0.0222379</td><td style=\"text-align: right;\">0.0221646</td></tr>\n",
       "</tbody>\n",
       "</table>\n",
       "  </div>\n",
       "</div>\n",
       "<style>\n",
       ".tuneStatus {\n",
       "  color: var(--jp-ui-font-color1);\n",
       "}\n",
       ".tuneStatus .systemInfo {\n",
       "  display: flex;\n",
       "  flex-direction: column;\n",
       "}\n",
       ".tuneStatus td {\n",
       "  white-space: nowrap;\n",
       "}\n",
       ".tuneStatus .trialStatus {\n",
       "  display: flex;\n",
       "  flex-direction: column;\n",
       "}\n",
       ".tuneStatus h3 {\n",
       "  font-weight: bold;\n",
       "}\n",
       ".tuneStatus .hDivider {\n",
       "  border-bottom-width: var(--jp-border-width);\n",
       "  border-bottom-color: var(--jp-border-color0);\n",
       "  border-bottom-style: solid;\n",
       "}\n",
       ".tuneStatus .vDivider {\n",
       "  border-left-width: var(--jp-border-width);\n",
       "  border-left-color: var(--jp-border-color0);\n",
       "  border-left-style: solid;\n",
       "  margin: 0.5em 1em 0.5em 1em;\n",
       "}\n",
       "</style>\n"
      ],
      "text/plain": [
       "<IPython.core.display.HTML object>"
      ]
     },
     "metadata": {},
     "output_type": "display_data"
    },
    {
     "name": "stderr",
     "output_type": "stream",
     "text": [
      "\u001b[2m\u001b[36m(pid=3598109)\u001b[0m 2023-11-28 18:22:54.303774: E tensorflow/compiler/xla/stream_executor/cuda/cuda_dnn.cc:9342] Unable to register cuDNN factory: Attempting to register factory for plugin cuDNN when one has already been registered\n",
      "\u001b[2m\u001b[36m(pid=3598109)\u001b[0m 2023-11-28 18:22:54.303835: E tensorflow/compiler/xla/stream_executor/cuda/cuda_fft.cc:609] Unable to register cuFFT factory: Attempting to register factory for plugin cuFFT when one has already been registered\n",
      "\u001b[2m\u001b[36m(pid=3598109)\u001b[0m 2023-11-28 18:22:54.303856: E tensorflow/compiler/xla/stream_executor/cuda/cuda_blas.cc:1518] Unable to register cuBLAS factory: Attempting to register factory for plugin cuBLAS when one has already been registered\n",
      "\u001b[2m\u001b[36m(TrainLightGCN pid=3598109)\u001b[0m /home/daviddavo/upm-tfm-notebooks/.direnv/python-3.9/lib/python3.9/site-packages/recommenders/models/deeprec/DataModel/ImplicitCF.py:73: FutureWarning: The frame.append method is deprecated and will be removed from pandas in a future version. Use pandas.concat instead.\n",
      "\u001b[2m\u001b[36m(TrainLightGCN pid=3598109)\u001b[0m   df = train if test is None else train.append(test)\n"
     ]
    },
    {
     "name": "stdout",
     "output_type": "stream",
     "text": [
      "\u001b[2m\u001b[36m(TrainLightGCN pid=3598109)\u001b[0m Already create adjacency matrix.\n",
      "\u001b[2m\u001b[36m(TrainLightGCN pid=3598109)\u001b[0m Already normalize adjacency matrix.\n",
      "\u001b[2m\u001b[36m(TrainLightGCN pid=3598109)\u001b[0m Using xavier initialization.\n"
     ]
    },
    {
     "name": "stderr",
     "output_type": "stream",
     "text": [
      "\u001b[2m\u001b[36m(TrainLightGCN pid=3598109)\u001b[0m Trainable.setup took 12.727 seconds. If your trainable is slow to initialize, consider setting reuse_actors=True to reduce actor creation overheads.\n",
      "\u001b[2m\u001b[36m(pid=3598216)\u001b[0m 2023-11-28 18:23:12.812455: E tensorflow/compiler/xla/stream_executor/cuda/cuda_dnn.cc:9342] Unable to register cuDNN factory: Attempting to register factory for plugin cuDNN when one has already been registered\n",
      "\u001b[2m\u001b[36m(pid=3598216)\u001b[0m 2023-11-28 18:23:12.812504: E tensorflow/compiler/xla/stream_executor/cuda/cuda_fft.cc:609] Unable to register cuFFT factory: Attempting to register factory for plugin cuFFT when one has already been registered\n",
      "\u001b[2m\u001b[36m(pid=3598216)\u001b[0m 2023-11-28 18:23:12.812526: E tensorflow/compiler/xla/stream_executor/cuda/cuda_blas.cc:1518] Unable to register cuBLAS factory: Attempting to register factory for plugin cuBLAS when one has already been registered\n",
      "\u001b[2m\u001b[36m(TrainLightGCN pid=3598216)\u001b[0m /home/daviddavo/upm-tfm-notebooks/.direnv/python-3.9/lib/python3.9/site-packages/recommenders/models/deeprec/DataModel/ImplicitCF.py:73: FutureWarning: The frame.append method is deprecated and will be removed from pandas in a future version. Use pandas.concat instead.\n",
      "\u001b[2m\u001b[36m(TrainLightGCN pid=3598216)\u001b[0m   df = train if test is None else train.append(test)\n"
     ]
    },
    {
     "name": "stdout",
     "output_type": "stream",
     "text": [
      "\u001b[2m\u001b[36m(TrainLightGCN pid=3598216)\u001b[0m Already create adjacency matrix.\n",
      "\u001b[2m\u001b[36m(TrainLightGCN pid=3598216)\u001b[0m Already normalize adjacency matrix.\n",
      "\u001b[2m\u001b[36m(TrainLightGCN pid=3598216)\u001b[0m Using xavier initialization.\n"
     ]
    },
    {
     "name": "stderr",
     "output_type": "stream",
     "text": [
      "\u001b[2m\u001b[36m(TrainLightGCN pid=3598216)\u001b[0m Trainable.setup took 11.865 seconds. If your trainable is slow to initialize, consider setting reuse_actors=True to reduce actor creation overheads.\n",
      "\u001b[2m\u001b[36m(pid=3598352)\u001b[0m 2023-11-28 18:23:50.238365: E tensorflow/compiler/xla/stream_executor/cuda/cuda_dnn.cc:9342] Unable to register cuDNN factory: Attempting to register factory for plugin cuDNN when one has already been registered\n",
      "\u001b[2m\u001b[36m(pid=3598352)\u001b[0m 2023-11-28 18:23:50.238426: E tensorflow/compiler/xla/stream_executor/cuda/cuda_fft.cc:609] Unable to register cuFFT factory: Attempting to register factory for plugin cuFFT when one has already been registered\n",
      "\u001b[2m\u001b[36m(pid=3598352)\u001b[0m 2023-11-28 18:23:50.238451: E tensorflow/compiler/xla/stream_executor/cuda/cuda_blas.cc:1518] Unable to register cuBLAS factory: Attempting to register factory for plugin cuBLAS when one has already been registered\n",
      "\u001b[2m\u001b[36m(TrainLightGCN pid=3598352)\u001b[0m /home/daviddavo/upm-tfm-notebooks/.direnv/python-3.9/lib/python3.9/site-packages/recommenders/models/deeprec/DataModel/ImplicitCF.py:73: FutureWarning: The frame.append method is deprecated and will be removed from pandas in a future version. Use pandas.concat instead.\n",
      "\u001b[2m\u001b[36m(TrainLightGCN pid=3598352)\u001b[0m   df = train if test is None else train.append(test)\n"
     ]
    },
    {
     "name": "stdout",
     "output_type": "stream",
     "text": [
      "\u001b[2m\u001b[36m(TrainLightGCN pid=3598352)\u001b[0m Already create adjacency matrix.\n",
      "\u001b[2m\u001b[36m(TrainLightGCN pid=3598352)\u001b[0m Already normalize adjacency matrix.\n",
      "\u001b[2m\u001b[36m(TrainLightGCN pid=3598352)\u001b[0m Using xavier initialization.\n"
     ]
    },
    {
     "name": "stderr",
     "output_type": "stream",
     "text": [
      "\u001b[2m\u001b[36m(TrainLightGCN pid=3598352)\u001b[0m Trainable.setup took 11.321 seconds. If your trainable is slow to initialize, consider setting reuse_actors=True to reduce actor creation overheads.\n",
      "\u001b[2m\u001b[36m(pid=3598488)\u001b[0m 2023-11-28 18:24:24.312813: E tensorflow/compiler/xla/stream_executor/cuda/cuda_dnn.cc:9342] Unable to register cuDNN factory: Attempting to register factory for plugin cuDNN when one has already been registered\n",
      "\u001b[2m\u001b[36m(pid=3598488)\u001b[0m 2023-11-28 18:24:24.312866: E tensorflow/compiler/xla/stream_executor/cuda/cuda_fft.cc:609] Unable to register cuFFT factory: Attempting to register factory for plugin cuFFT when one has already been registered\n",
      "\u001b[2m\u001b[36m(pid=3598488)\u001b[0m 2023-11-28 18:24:24.312881: E tensorflow/compiler/xla/stream_executor/cuda/cuda_blas.cc:1518] Unable to register cuBLAS factory: Attempting to register factory for plugin cuBLAS when one has already been registered\n",
      "\u001b[2m\u001b[36m(TrainLightGCN pid=3598488)\u001b[0m /home/daviddavo/upm-tfm-notebooks/.direnv/python-3.9/lib/python3.9/site-packages/recommenders/models/deeprec/DataModel/ImplicitCF.py:73: FutureWarning: The frame.append method is deprecated and will be removed from pandas in a future version. Use pandas.concat instead.\n",
      "\u001b[2m\u001b[36m(TrainLightGCN pid=3598488)\u001b[0m   df = train if test is None else train.append(test)\n"
     ]
    },
    {
     "name": "stdout",
     "output_type": "stream",
     "text": [
      "\u001b[2m\u001b[36m(TrainLightGCN pid=3598488)\u001b[0m Already create adjacency matrix.\n",
      "\u001b[2m\u001b[36m(TrainLightGCN pid=3598488)\u001b[0m Already normalize adjacency matrix.\n",
      "\u001b[2m\u001b[36m(TrainLightGCN pid=3598488)\u001b[0m Using xavier initialization.\n"
     ]
    },
    {
     "name": "stderr",
     "output_type": "stream",
     "text": [
      "\u001b[2m\u001b[36m(TrainLightGCN pid=3598488)\u001b[0m Trainable.setup took 39.134 seconds. If your trainable is slow to initialize, consider setting reuse_actors=True to reduce actor creation overheads.\n",
      "\u001b[2m\u001b[36m(pid=3598626)\u001b[0m 2023-11-28 18:25:25.108511: E tensorflow/compiler/xla/stream_executor/cuda/cuda_dnn.cc:9342] Unable to register cuDNN factory: Attempting to register factory for plugin cuDNN when one has already been registered\n",
      "\u001b[2m\u001b[36m(pid=3598626)\u001b[0m 2023-11-28 18:25:25.108561: E tensorflow/compiler/xla/stream_executor/cuda/cuda_fft.cc:609] Unable to register cuFFT factory: Attempting to register factory for plugin cuFFT when one has already been registered\n",
      "\u001b[2m\u001b[36m(pid=3598626)\u001b[0m 2023-11-28 18:25:25.108583: E tensorflow/compiler/xla/stream_executor/cuda/cuda_blas.cc:1518] Unable to register cuBLAS factory: Attempting to register factory for plugin cuBLAS when one has already been registered\n",
      "\u001b[2m\u001b[36m(TrainLightGCN pid=3598626)\u001b[0m /home/daviddavo/upm-tfm-notebooks/.direnv/python-3.9/lib/python3.9/site-packages/recommenders/models/deeprec/DataModel/ImplicitCF.py:73: FutureWarning: The frame.append method is deprecated and will be removed from pandas in a future version. Use pandas.concat instead.\n",
      "\u001b[2m\u001b[36m(TrainLightGCN pid=3598626)\u001b[0m   df = train if test is None else train.append(test)\n"
     ]
    },
    {
     "name": "stdout",
     "output_type": "stream",
     "text": [
      "\u001b[2m\u001b[36m(TrainLightGCN pid=3598626)\u001b[0m Already create adjacency matrix.\n",
      "\u001b[2m\u001b[36m(TrainLightGCN pid=3598626)\u001b[0m Already normalize adjacency matrix.\n",
      "\u001b[2m\u001b[36m(TrainLightGCN pid=3598626)\u001b[0m Using xavier initialization.\n"
     ]
    },
    {
     "name": "stderr",
     "output_type": "stream",
     "text": [
      "\u001b[2m\u001b[36m(TrainLightGCN pid=3598626)\u001b[0m Trainable.setup took 16.964 seconds. If your trainable is slow to initialize, consider setting reuse_actors=True to reduce actor creation overheads.\n",
      "\u001b[2m\u001b[36m(pid=3598761)\u001b[0m 2023-11-28 18:26:20.400703: E tensorflow/compiler/xla/stream_executor/cuda/cuda_dnn.cc:9342] Unable to register cuDNN factory: Attempting to register factory for plugin cuDNN when one has already been registered\n",
      "\u001b[2m\u001b[36m(pid=3598761)\u001b[0m 2023-11-28 18:26:20.400753: E tensorflow/compiler/xla/stream_executor/cuda/cuda_fft.cc:609] Unable to register cuFFT factory: Attempting to register factory for plugin cuFFT when one has already been registered\n",
      "\u001b[2m\u001b[36m(pid=3598761)\u001b[0m 2023-11-28 18:26:20.400771: E tensorflow/compiler/xla/stream_executor/cuda/cuda_blas.cc:1518] Unable to register cuBLAS factory: Attempting to register factory for plugin cuBLAS when one has already been registered\n",
      "\u001b[2m\u001b[36m(TrainLightGCN pid=3598761)\u001b[0m /home/daviddavo/upm-tfm-notebooks/.direnv/python-3.9/lib/python3.9/site-packages/recommenders/models/deeprec/DataModel/ImplicitCF.py:73: FutureWarning: The frame.append method is deprecated and will be removed from pandas in a future version. Use pandas.concat instead.\n",
      "\u001b[2m\u001b[36m(TrainLightGCN pid=3598761)\u001b[0m   df = train if test is None else train.append(test)\n"
     ]
    },
    {
     "name": "stdout",
     "output_type": "stream",
     "text": [
      "\u001b[2m\u001b[36m(TrainLightGCN pid=3598761)\u001b[0m Already create adjacency matrix.\n",
      "\u001b[2m\u001b[36m(TrainLightGCN pid=3598761)\u001b[0m Already normalize adjacency matrix.\n",
      "\u001b[2m\u001b[36m(TrainLightGCN pid=3598761)\u001b[0m Using xavier initialization.\n"
     ]
    },
    {
     "name": "stderr",
     "output_type": "stream",
     "text": [
      "\u001b[2m\u001b[36m(TrainLightGCN pid=3598761)\u001b[0m Trainable.setup took 33.107 seconds. If your trainable is slow to initialize, consider setting reuse_actors=True to reduce actor creation overheads.\n",
      "\u001b[2m\u001b[36m(pid=3598896)\u001b[0m 2023-11-28 18:27:33.267971: E tensorflow/compiler/xla/stream_executor/cuda/cuda_dnn.cc:9342] Unable to register cuDNN factory: Attempting to register factory for plugin cuDNN when one has already been registered\n",
      "\u001b[2m\u001b[36m(pid=3598896)\u001b[0m 2023-11-28 18:27:33.268021: E tensorflow/compiler/xla/stream_executor/cuda/cuda_fft.cc:609] Unable to register cuFFT factory: Attempting to register factory for plugin cuFFT when one has already been registered\n",
      "\u001b[2m\u001b[36m(pid=3598896)\u001b[0m 2023-11-28 18:27:33.268039: E tensorflow/compiler/xla/stream_executor/cuda/cuda_blas.cc:1518] Unable to register cuBLAS factory: Attempting to register factory for plugin cuBLAS when one has already been registered\n",
      "\u001b[2m\u001b[36m(TrainLightGCN pid=3598896)\u001b[0m /home/daviddavo/upm-tfm-notebooks/.direnv/python-3.9/lib/python3.9/site-packages/recommenders/models/deeprec/DataModel/ImplicitCF.py:73: FutureWarning: The frame.append method is deprecated and will be removed from pandas in a future version. Use pandas.concat instead.\n",
      "\u001b[2m\u001b[36m(TrainLightGCN pid=3598896)\u001b[0m   df = train if test is None else train.append(test)\n"
     ]
    },
    {
     "name": "stdout",
     "output_type": "stream",
     "text": [
      "\u001b[2m\u001b[36m(TrainLightGCN pid=3598896)\u001b[0m Already create adjacency matrix.\n",
      "\u001b[2m\u001b[36m(TrainLightGCN pid=3598896)\u001b[0m Already normalize adjacency matrix.\n",
      "\u001b[2m\u001b[36m(TrainLightGCN pid=3598896)\u001b[0m Using xavier initialization.\n"
     ]
    },
    {
     "name": "stderr",
     "output_type": "stream",
     "text": [
      "\u001b[2m\u001b[36m(TrainLightGCN pid=3598896)\u001b[0m Trainable.setup took 19.655 seconds. If your trainable is slow to initialize, consider setting reuse_actors=True to reduce actor creation overheads.\n",
      "\u001b[2m\u001b[36m(pid=3599033)\u001b[0m 2023-11-28 18:28:23.990602: E tensorflow/compiler/xla/stream_executor/cuda/cuda_dnn.cc:9342] Unable to register cuDNN factory: Attempting to register factory for plugin cuDNN when one has already been registered\n",
      "\u001b[2m\u001b[36m(pid=3599033)\u001b[0m 2023-11-28 18:28:23.990658: E tensorflow/compiler/xla/stream_executor/cuda/cuda_fft.cc:609] Unable to register cuFFT factory: Attempting to register factory for plugin cuFFT when one has already been registered\n",
      "\u001b[2m\u001b[36m(pid=3599033)\u001b[0m 2023-11-28 18:28:23.990679: E tensorflow/compiler/xla/stream_executor/cuda/cuda_blas.cc:1518] Unable to register cuBLAS factory: Attempting to register factory for plugin cuBLAS when one has already been registered\n",
      "\u001b[2m\u001b[36m(TrainLightGCN pid=3599033)\u001b[0m /home/daviddavo/upm-tfm-notebooks/.direnv/python-3.9/lib/python3.9/site-packages/recommenders/models/deeprec/DataModel/ImplicitCF.py:73: FutureWarning: The frame.append method is deprecated and will be removed from pandas in a future version. Use pandas.concat instead.\n",
      "\u001b[2m\u001b[36m(TrainLightGCN pid=3599033)\u001b[0m   df = train if test is None else train.append(test)\n"
     ]
    },
    {
     "name": "stdout",
     "output_type": "stream",
     "text": [
      "\u001b[2m\u001b[36m(TrainLightGCN pid=3599033)\u001b[0m Already create adjacency matrix.\n",
      "\u001b[2m\u001b[36m(TrainLightGCN pid=3599033)\u001b[0m Already normalize adjacency matrix.\n",
      "\u001b[2m\u001b[36m(TrainLightGCN pid=3599033)\u001b[0m Using xavier initialization.\n"
     ]
    },
    {
     "name": "stderr",
     "output_type": "stream",
     "text": [
      "\u001b[2m\u001b[36m(TrainLightGCN pid=3598109)\u001b[0m Checkpoint successfully created at: Checkpoint(filesystem=local, path=/home/daviddavo/ray_results/LightGCN_dao=Decentraland,freq=1W,fold=9_2023-11-28T18:22:49.870078/TrainLightGCN_5d5512e1_1_batch_size=9,conv_layers=4,embedding_dim=5,fold=9,l2=0.0010,learning_rate=0.0663_2023-11-28_18-22-49/checkpoint_000000)\n",
      "\u001b[2m\u001b[36m(TrainLightGCN pid=3599033)\u001b[0m Trainable.setup took 18.918 seconds. If your trainable is slow to initialize, consider setting reuse_actors=True to reduce actor creation overheads.\n",
      "\u001b[2m\u001b[36m(pid=3599172)\u001b[0m 2023-11-28 18:29:11.769456: E tensorflow/compiler/xla/stream_executor/cuda/cuda_dnn.cc:9342] Unable to register cuDNN factory: Attempting to register factory for plugin cuDNN when one has already been registered\n",
      "\u001b[2m\u001b[36m(pid=3599172)\u001b[0m 2023-11-28 18:29:11.769505: E tensorflow/compiler/xla/stream_executor/cuda/cuda_fft.cc:609] Unable to register cuFFT factory: Attempting to register factory for plugin cuFFT when one has already been registered\n",
      "\u001b[2m\u001b[36m(pid=3599172)\u001b[0m 2023-11-28 18:29:11.769521: E tensorflow/compiler/xla/stream_executor/cuda/cuda_blas.cc:1518] Unable to register cuBLAS factory: Attempting to register factory for plugin cuBLAS when one has already been registered\n",
      "\u001b[2m\u001b[36m(TrainLightGCN pid=3598216)\u001b[0m Checkpoint successfully created at: Checkpoint(filesystem=local, path=/home/daviddavo/ray_results/LightGCN_dao=Decentraland,freq=1W,fold=9_2023-11-28T18:22:49.870078/TrainLightGCN_d3b96173_2_batch_size=8,conv_layers=5,embedding_dim=30,fold=9,l2=0.0000,learning_rate=0.2347_2023-11-28_18-23-10/checkpoint_000000)\n",
      "\u001b[2m\u001b[36m(TrainLightGCN pid=3599172)\u001b[0m /home/daviddavo/upm-tfm-notebooks/.direnv/python-3.9/lib/python3.9/site-packages/recommenders/models/deeprec/DataModel/ImplicitCF.py:73: FutureWarning: The frame.append method is deprecated and will be removed from pandas in a future version. Use pandas.concat instead.\n",
      "\u001b[2m\u001b[36m(TrainLightGCN pid=3599172)\u001b[0m   df = train if test is None else train.append(test)\n"
     ]
    },
    {
     "name": "stdout",
     "output_type": "stream",
     "text": [
      "\u001b[2m\u001b[36m(TrainLightGCN pid=3599172)\u001b[0m Already create adjacency matrix.\n",
      "\u001b[2m\u001b[36m(TrainLightGCN pid=3599172)\u001b[0m Already normalize adjacency matrix.\n",
      "\u001b[2m\u001b[36m(TrainLightGCN pid=3599172)\u001b[0m Using xavier initialization.\n"
     ]
    },
    {
     "name": "stderr",
     "output_type": "stream",
     "text": [
      "\u001b[2m\u001b[36m(TrainLightGCN pid=3599172)\u001b[0m Trainable.setup took 19.050 seconds. If your trainable is slow to initialize, consider setting reuse_actors=True to reduce actor creation overheads.\n",
      "\u001b[2m\u001b[36m(pid=3599314)\u001b[0m 2023-11-28 18:29:57.468059: E tensorflow/compiler/xla/stream_executor/cuda/cuda_dnn.cc:9342] Unable to register cuDNN factory: Attempting to register factory for plugin cuDNN when one has already been registered\n",
      "\u001b[2m\u001b[36m(pid=3599314)\u001b[0m 2023-11-28 18:29:57.468098: E tensorflow/compiler/xla/stream_executor/cuda/cuda_fft.cc:609] Unable to register cuFFT factory: Attempting to register factory for plugin cuFFT when one has already been registered\n",
      "\u001b[2m\u001b[36m(pid=3599314)\u001b[0m 2023-11-28 18:29:57.468110: E tensorflow/compiler/xla/stream_executor/cuda/cuda_blas.cc:1518] Unable to register cuBLAS factory: Attempting to register factory for plugin cuBLAS when one has already been registered\n",
      "\u001b[2m\u001b[36m(TrainLightGCN pid=3599314)\u001b[0m /home/daviddavo/upm-tfm-notebooks/.direnv/python-3.9/lib/python3.9/site-packages/recommenders/models/deeprec/DataModel/ImplicitCF.py:73: FutureWarning: The frame.append method is deprecated and will be removed from pandas in a future version. Use pandas.concat instead.\n",
      "\u001b[2m\u001b[36m(TrainLightGCN pid=3599314)\u001b[0m   df = train if test is None else train.append(test)\n"
     ]
    },
    {
     "name": "stdout",
     "output_type": "stream",
     "text": [
      "\u001b[2m\u001b[36m(TrainLightGCN pid=3599314)\u001b[0m Already create adjacency matrix.\n",
      "\u001b[2m\u001b[36m(TrainLightGCN pid=3599314)\u001b[0m Already normalize adjacency matrix.\n",
      "\u001b[2m\u001b[36m(TrainLightGCN pid=3599314)\u001b[0m Using xavier initialization.\n"
     ]
    },
    {
     "name": "stderr",
     "output_type": "stream",
     "text": [
      "\u001b[2m\u001b[36m(TrainLightGCN pid=3598352)\u001b[0m Checkpoint successfully created at: Checkpoint(filesystem=local, path=/home/daviddavo/ray_results/LightGCN_dao=Decentraland,freq=1W,fold=9_2023-11-28T18:22:49.870078/TrainLightGCN_e4e6591f_3_batch_size=9,conv_layers=3,embedding_dim=5,fold=9,l2=0.0001,learning_rate=0.2200_2023-11-28_18-23-45/checkpoint_000000)\n",
      "\u001b[2m\u001b[36m(TrainLightGCN pid=3599314)\u001b[0m Trainable.setup took 48.817 seconds. If your trainable is slow to initialize, consider setting reuse_actors=True to reduce actor creation overheads.\n",
      "\u001b[2m\u001b[36m(TrainLightGCN pid=3598488)\u001b[0m Checkpoint successfully created at: Checkpoint(filesystem=local, path=/home/daviddavo/ray_results/LightGCN_dao=Decentraland,freq=1W,fold=9_2023-11-28T18:22:49.870078/TrainLightGCN_1122ce8d_4_batch_size=7,conv_layers=4,embedding_dim=300,fold=9,l2=0.0000,learning_rate=0.0065_2023-11-28_18-24-09/checkpoint_000000)\n",
      "\u001b[2m\u001b[36m(pid=3599455)\u001b[0m 2023-11-28 18:31:05.169223: E tensorflow/compiler/xla/stream_executor/cuda/cuda_dnn.cc:9342] Unable to register cuDNN factory: Attempting to register factory for plugin cuDNN when one has already been registered\n",
      "\u001b[2m\u001b[36m(pid=3599455)\u001b[0m 2023-11-28 18:31:05.296747: E tensorflow/compiler/xla/stream_executor/cuda/cuda_fft.cc:609] Unable to register cuFFT factory: Attempting to register factory for plugin cuFFT when one has already been registered\n",
      "\u001b[2m\u001b[36m(pid=3599455)\u001b[0m 2023-11-28 18:31:05.296809: E tensorflow/compiler/xla/stream_executor/cuda/cuda_blas.cc:1518] Unable to register cuBLAS factory: Attempting to register factory for plugin cuBLAS when one has already been registered\n",
      "\u001b[2m\u001b[36m(TrainLightGCN pid=3599455)\u001b[0m /home/daviddavo/upm-tfm-notebooks/.direnv/python-3.9/lib/python3.9/site-packages/recommenders/models/deeprec/DataModel/ImplicitCF.py:73: FutureWarning: The frame.append method is deprecated and will be removed from pandas in a future version. Use pandas.concat instead.\n",
      "\u001b[2m\u001b[36m(TrainLightGCN pid=3599455)\u001b[0m   df = train if test is None else train.append(test)\n"
     ]
    },
    {
     "name": "stdout",
     "output_type": "stream",
     "text": [
      "\u001b[2m\u001b[36m(TrainLightGCN pid=3599455)\u001b[0m Already create adjacency matrix.\n",
      "\u001b[2m\u001b[36m(TrainLightGCN pid=3599455)\u001b[0m Already normalize adjacency matrix.\n",
      "\u001b[2m\u001b[36m(TrainLightGCN pid=3599455)\u001b[0m Using xavier initialization.\n"
     ]
    },
    {
     "name": "stderr",
     "output_type": "stream",
     "text": [
      "\u001b[2m\u001b[36m(TrainLightGCN pid=3598626)\u001b[0m Checkpoint successfully created at: Checkpoint(filesystem=local, path=/home/daviddavo/ray_results/LightGCN_dao=Decentraland,freq=1W,fold=9_2023-11-28T18:22:49.870078/TrainLightGCN_36b26f47_5_batch_size=7,conv_layers=3,embedding_dim=215,fold=9,l2=0.0000,learning_rate=0.0005_2023-11-28_18-25-14/checkpoint_000000)\n",
      "\u001b[2m\u001b[36m(TrainLightGCN pid=3599455)\u001b[0m Trainable.setup took 32.633 seconds. If your trainable is slow to initialize, consider setting reuse_actors=True to reduce actor creation overheads.\n",
      "\u001b[2m\u001b[36m(pid=3599602)\u001b[0m 2023-11-28 18:32:18.685090: E tensorflow/compiler/xla/stream_executor/cuda/cuda_dnn.cc:9342] Unable to register cuDNN factory: Attempting to register factory for plugin cuDNN when one has already been registered\n",
      "\u001b[2m\u001b[36m(pid=3599602)\u001b[0m 2023-11-28 18:32:18.685138: E tensorflow/compiler/xla/stream_executor/cuda/cuda_fft.cc:609] Unable to register cuFFT factory: Attempting to register factory for plugin cuFFT when one has already been registered\n",
      "\u001b[2m\u001b[36m(pid=3599602)\u001b[0m 2023-11-28 18:32:18.685158: E tensorflow/compiler/xla/stream_executor/cuda/cuda_blas.cc:1518] Unable to register cuBLAS factory: Attempting to register factory for plugin cuBLAS when one has already been registered\n",
      "\u001b[2m\u001b[36m(TrainLightGCN pid=3599602)\u001b[0m /home/daviddavo/upm-tfm-notebooks/.direnv/python-3.9/lib/python3.9/site-packages/recommenders/models/deeprec/DataModel/ImplicitCF.py:73: FutureWarning: The frame.append method is deprecated and will be removed from pandas in a future version. Use pandas.concat instead.\n",
      "\u001b[2m\u001b[36m(TrainLightGCN pid=3599602)\u001b[0m   df = train if test is None else train.append(test)\n"
     ]
    },
    {
     "name": "stdout",
     "output_type": "stream",
     "text": [
      "\u001b[2m\u001b[36m(TrainLightGCN pid=3599602)\u001b[0m Already create adjacency matrix.\n",
      "\u001b[2m\u001b[36m(TrainLightGCN pid=3599602)\u001b[0m Already normalize adjacency matrix.\n",
      "\u001b[2m\u001b[36m(TrainLightGCN pid=3599602)\u001b[0m Using xavier initialization.\n"
     ]
    },
    {
     "name": "stderr",
     "output_type": "stream",
     "text": [
      "\u001b[2m\u001b[36m(TrainLightGCN pid=3599602)\u001b[0m Trainable.setup took 10.570 seconds. If your trainable is slow to initialize, consider setting reuse_actors=True to reduce actor creation overheads.\n",
      "\u001b[2m\u001b[36m(pid=3599737)\u001b[0m 2023-11-28 18:32:56.855469: E tensorflow/compiler/xla/stream_executor/cuda/cuda_dnn.cc:9342] Unable to register cuDNN factory: Attempting to register factory for plugin cuDNN when one has already been registered\n",
      "\u001b[2m\u001b[36m(pid=3599737)\u001b[0m 2023-11-28 18:32:56.855512: E tensorflow/compiler/xla/stream_executor/cuda/cuda_fft.cc:609] Unable to register cuFFT factory: Attempting to register factory for plugin cuFFT when one has already been registered\n",
      "\u001b[2m\u001b[36m(pid=3599737)\u001b[0m 2023-11-28 18:32:56.855530: E tensorflow/compiler/xla/stream_executor/cuda/cuda_blas.cc:1518] Unable to register cuBLAS factory: Attempting to register factory for plugin cuBLAS when one has already been registered\n",
      "\u001b[2m\u001b[36m(TrainLightGCN pid=3599737)\u001b[0m /home/daviddavo/upm-tfm-notebooks/.direnv/python-3.9/lib/python3.9/site-packages/recommenders/models/deeprec/DataModel/ImplicitCF.py:73: FutureWarning: The frame.append method is deprecated and will be removed from pandas in a future version. Use pandas.concat instead.\n",
      "\u001b[2m\u001b[36m(TrainLightGCN pid=3599737)\u001b[0m   df = train if test is None else train.append(test)\n"
     ]
    },
    {
     "name": "stdout",
     "output_type": "stream",
     "text": [
      "\u001b[2m\u001b[36m(TrainLightGCN pid=3599737)\u001b[0m Already create adjacency matrix.\n",
      "\u001b[2m\u001b[36m(TrainLightGCN pid=3599737)\u001b[0m Already normalize adjacency matrix.\n",
      "\u001b[2m\u001b[36m(TrainLightGCN pid=3599737)\u001b[0m Using xavier initialization.\n"
     ]
    },
    {
     "name": "stderr",
     "output_type": "stream",
     "text": [
      "\u001b[2m\u001b[36m(TrainLightGCN pid=3599737)\u001b[0m Trainable.setup took 44.812 seconds. If your trainable is slow to initialize, consider setting reuse_actors=True to reduce actor creation overheads.\n",
      "\u001b[2m\u001b[36m(pid=3599872)\u001b[0m 2023-11-28 18:34:03.612490: E tensorflow/compiler/xla/stream_executor/cuda/cuda_dnn.cc:9342] Unable to register cuDNN factory: Attempting to register factory for plugin cuDNN when one has already been registered\n",
      "\u001b[2m\u001b[36m(pid=3599872)\u001b[0m 2023-11-28 18:34:03.612531: E tensorflow/compiler/xla/stream_executor/cuda/cuda_fft.cc:609] Unable to register cuFFT factory: Attempting to register factory for plugin cuFFT when one has already been registered\n",
      "\u001b[2m\u001b[36m(pid=3599872)\u001b[0m 2023-11-28 18:34:03.612545: E tensorflow/compiler/xla/stream_executor/cuda/cuda_blas.cc:1518] Unable to register cuBLAS factory: Attempting to register factory for plugin cuBLAS when one has already been registered\n",
      "\u001b[2m\u001b[36m(TrainLightGCN pid=3598761)\u001b[0m Checkpoint successfully created at: Checkpoint(filesystem=local, path=/home/daviddavo/ray_results/LightGCN_dao=Decentraland,freq=1W,fold=9_2023-11-28T18:22:49.870078/TrainLightGCN_b9f9ede1_6_batch_size=7,conv_layers=4,embedding_dim=5,fold=9,l2=0.0040,learning_rate=0.0038_2023-11-28_18-26-07/checkpoint_000000)\n",
      "\u001b[2m\u001b[36m(TrainLightGCN pid=3599872)\u001b[0m /home/daviddavo/upm-tfm-notebooks/.direnv/python-3.9/lib/python3.9/site-packages/recommenders/models/deeprec/DataModel/ImplicitCF.py:73: FutureWarning: The frame.append method is deprecated and will be removed from pandas in a future version. Use pandas.concat instead.\n",
      "\u001b[2m\u001b[36m(TrainLightGCN pid=3599872)\u001b[0m   df = train if test is None else train.append(test)\n"
     ]
    },
    {
     "name": "stdout",
     "output_type": "stream",
     "text": [
      "\u001b[2m\u001b[36m(TrainLightGCN pid=3599872)\u001b[0m Already create adjacency matrix.\n",
      "\u001b[2m\u001b[36m(TrainLightGCN pid=3599872)\u001b[0m Already normalize adjacency matrix.\n",
      "\u001b[2m\u001b[36m(TrainLightGCN pid=3599872)\u001b[0m Using xavier initialization.\n"
     ]
    },
    {
     "name": "stderr",
     "output_type": "stream",
     "text": [
      "\u001b[2m\u001b[36m(TrainLightGCN pid=3598896)\u001b[0m Checkpoint successfully created at: Checkpoint(filesystem=local, path=/home/daviddavo/ray_results/LightGCN_dao=Decentraland,freq=1W,fold=9_2023-11-28T18:22:49.870078/TrainLightGCN_05b67606_7_batch_size=7,conv_layers=3,embedding_dim=5,fold=9,l2=0.0011,learning_rate=0.0002_2023-11-28_18-27-21/checkpoint_000000)\n",
      "\u001b[2m\u001b[36m(TrainLightGCN pid=3599872)\u001b[0m Trainable.setup took 22.418 seconds. If your trainable is slow to initialize, consider setting reuse_actors=True to reduce actor creation overheads.\n",
      "\u001b[2m\u001b[36m(pid=3600022)\u001b[0m 2023-11-28 18:35:04.636443: E tensorflow/compiler/xla/stream_executor/cuda/cuda_dnn.cc:9342] Unable to register cuDNN factory: Attempting to register factory for plugin cuDNN when one has already been registered\n",
      "\u001b[2m\u001b[36m(pid=3600022)\u001b[0m 2023-11-28 18:35:04.636493: E tensorflow/compiler/xla/stream_executor/cuda/cuda_fft.cc:609] Unable to register cuFFT factory: Attempting to register factory for plugin cuFFT when one has already been registered\n",
      "\u001b[2m\u001b[36m(pid=3600022)\u001b[0m 2023-11-28 18:35:04.636512: E tensorflow/compiler/xla/stream_executor/cuda/cuda_blas.cc:1518] Unable to register cuBLAS factory: Attempting to register factory for plugin cuBLAS when one has already been registered\n",
      "\u001b[2m\u001b[36m(TrainLightGCN pid=3599033)\u001b[0m Checkpoint successfully created at: Checkpoint(filesystem=local, path=/home/daviddavo/ray_results/LightGCN_dao=Decentraland,freq=1W,fold=9_2023-11-28T18:22:49.870078/TrainLightGCN_8a0f6fa2_8_batch_size=8,conv_layers=4,embedding_dim=405,fold=9,l2=0.0041,learning_rate=0.0014_2023-11-28_18-28-19/checkpoint_000000)\n",
      "\u001b[2m\u001b[36m(TrainLightGCN pid=3600022)\u001b[0m /home/daviddavo/upm-tfm-notebooks/.direnv/python-3.9/lib/python3.9/site-packages/recommenders/models/deeprec/DataModel/ImplicitCF.py:73: FutureWarning: The frame.append method is deprecated and will be removed from pandas in a future version. Use pandas.concat instead.\n",
      "\u001b[2m\u001b[36m(TrainLightGCN pid=3600022)\u001b[0m   df = train if test is None else train.append(test)\n"
     ]
    },
    {
     "name": "stdout",
     "output_type": "stream",
     "text": [
      "\u001b[2m\u001b[36m(TrainLightGCN pid=3600022)\u001b[0m Already create adjacency matrix.\n",
      "\u001b[2m\u001b[36m(TrainLightGCN pid=3600022)\u001b[0m Already normalize adjacency matrix.\n",
      "\u001b[2m\u001b[36m(TrainLightGCN pid=3600022)\u001b[0m Using xavier initialization.\n"
     ]
    },
    {
     "name": "stderr",
     "output_type": "stream",
     "text": [
      "\u001b[2m\u001b[36m(TrainLightGCN pid=3600022)\u001b[0m Trainable.setup took 30.020 seconds. If your trainable is slow to initialize, consider setting reuse_actors=True to reduce actor creation overheads.\n",
      "\u001b[2m\u001b[36m(pid=3600164)\u001b[0m 2023-11-28 18:36:05.119503: E tensorflow/compiler/xla/stream_executor/cuda/cuda_dnn.cc:9342] Unable to register cuDNN factory: Attempting to register factory for plugin cuDNN when one has already been registered\n",
      "\u001b[2m\u001b[36m(pid=3600164)\u001b[0m 2023-11-28 18:36:05.119555: E tensorflow/compiler/xla/stream_executor/cuda/cuda_fft.cc:609] Unable to register cuFFT factory: Attempting to register factory for plugin cuFFT when one has already been registered\n",
      "\u001b[2m\u001b[36m(pid=3600164)\u001b[0m 2023-11-28 18:36:05.119572: E tensorflow/compiler/xla/stream_executor/cuda/cuda_blas.cc:1518] Unable to register cuBLAS factory: Attempting to register factory for plugin cuBLAS when one has already been registered\n",
      "\u001b[2m\u001b[36m(TrainLightGCN pid=3600164)\u001b[0m /home/daviddavo/upm-tfm-notebooks/.direnv/python-3.9/lib/python3.9/site-packages/recommenders/models/deeprec/DataModel/ImplicitCF.py:73: FutureWarning: The frame.append method is deprecated and will be removed from pandas in a future version. Use pandas.concat instead.\n",
      "\u001b[2m\u001b[36m(TrainLightGCN pid=3600164)\u001b[0m   df = train if test is None else train.append(test)\n"
     ]
    },
    {
     "name": "stdout",
     "output_type": "stream",
     "text": [
      "\u001b[2m\u001b[36m(TrainLightGCN pid=3600164)\u001b[0m Already create adjacency matrix.\n",
      "\u001b[2m\u001b[36m(TrainLightGCN pid=3600164)\u001b[0m Already normalize adjacency matrix.\n",
      "\u001b[2m\u001b[36m(TrainLightGCN pid=3600164)\u001b[0m Using xavier initialization.\n"
     ]
    },
    {
     "name": "stderr",
     "output_type": "stream",
     "text": [
      "\u001b[2m\u001b[36m(TrainLightGCN pid=3599314)\u001b[0m Checkpoint successfully created at: Checkpoint(filesystem=local, path=/home/daviddavo/ray_results/LightGCN_dao=Decentraland,freq=1W,fold=9_2023-11-28T18:22:49.870078/TrainLightGCN_4afb6454_10_batch_size=9,conv_layers=4,embedding_dim=110,fold=9,l2=0.0005,learning_rate=0.0001_2023-11-28_18-29-42/checkpoint_000000)\n",
      "\u001b[2m\u001b[36m(TrainLightGCN pid=3600164)\u001b[0m Trainable.setup took 40.507 seconds. If your trainable is slow to initialize, consider setting reuse_actors=True to reduce actor creation overheads.\n",
      "\u001b[2m\u001b[36m(pid=3600305)\u001b[0m 2023-11-28 18:37:11.013934: E tensorflow/compiler/xla/stream_executor/cuda/cuda_dnn.cc:9342] Unable to register cuDNN factory: Attempting to register factory for plugin cuDNN when one has already been registered\n",
      "\u001b[2m\u001b[36m(pid=3600305)\u001b[0m 2023-11-28 18:37:11.013988: E tensorflow/compiler/xla/stream_executor/cuda/cuda_fft.cc:609] Unable to register cuFFT factory: Attempting to register factory for plugin cuFFT when one has already been registered\n",
      "\u001b[2m\u001b[36m(pid=3600305)\u001b[0m 2023-11-28 18:37:11.014013: E tensorflow/compiler/xla/stream_executor/cuda/cuda_blas.cc:1518] Unable to register cuBLAS factory: Attempting to register factory for plugin cuBLAS when one has already been registered\n",
      "\u001b[2m\u001b[36m(TrainLightGCN pid=3600305)\u001b[0m /home/daviddavo/upm-tfm-notebooks/.direnv/python-3.9/lib/python3.9/site-packages/recommenders/models/deeprec/DataModel/ImplicitCF.py:73: FutureWarning: The frame.append method is deprecated and will be removed from pandas in a future version. Use pandas.concat instead.\n",
      "\u001b[2m\u001b[36m(TrainLightGCN pid=3600305)\u001b[0m   df = train if test is None else train.append(test)\n"
     ]
    },
    {
     "name": "stdout",
     "output_type": "stream",
     "text": [
      "\u001b[2m\u001b[36m(TrainLightGCN pid=3600305)\u001b[0m Already create adjacency matrix.\n",
      "\u001b[2m\u001b[36m(TrainLightGCN pid=3600305)\u001b[0m Already normalize adjacency matrix.\n",
      "\u001b[2m\u001b[36m(TrainLightGCN pid=3600305)\u001b[0m Using xavier initialization.\n"
     ]
    },
    {
     "name": "stderr",
     "output_type": "stream",
     "text": [
      "\u001b[2m\u001b[36m(TrainLightGCN pid=3600305)\u001b[0m Trainable.setup took 21.421 seconds. If your trainable is slow to initialize, consider setting reuse_actors=True to reduce actor creation overheads.\n",
      "\u001b[2m\u001b[36m(pid=3600441)\u001b[0m 2023-11-28 18:37:55.646787: E tensorflow/compiler/xla/stream_executor/cuda/cuda_dnn.cc:9342] Unable to register cuDNN factory: Attempting to register factory for plugin cuDNN when one has already been registered\n",
      "\u001b[2m\u001b[36m(pid=3600441)\u001b[0m 2023-11-28 18:37:55.646844: E tensorflow/compiler/xla/stream_executor/cuda/cuda_fft.cc:609] Unable to register cuFFT factory: Attempting to register factory for plugin cuFFT when one has already been registered\n",
      "\u001b[2m\u001b[36m(pid=3600441)\u001b[0m 2023-11-28 18:37:55.646861: E tensorflow/compiler/xla/stream_executor/cuda/cuda_blas.cc:1518] Unable to register cuBLAS factory: Attempting to register factory for plugin cuBLAS when one has already been registered\n",
      "\u001b[2m\u001b[36m(TrainLightGCN pid=3599455)\u001b[0m Checkpoint successfully created at: Checkpoint(filesystem=local, path=/home/daviddavo/ray_results/LightGCN_dao=Decentraland,freq=1W,fold=9_2023-11-28T18:22:49.870078/TrainLightGCN_560c2f42_11_batch_size=7,conv_layers=3,embedding_dim=5,fold=9,l2=0.0061,learning_rate=0.2019_2023-11-28_18-30-50/checkpoint_000000)\n",
      "\u001b[2m\u001b[36m(TrainLightGCN pid=3599172)\u001b[0m Checkpoint successfully created at: Checkpoint(filesystem=local, path=/home/daviddavo/ray_results/LightGCN_dao=Decentraland,freq=1W,fold=9_2023-11-28T18:22:49.870078/TrainLightGCN_f30e9e0a_9_batch_size=6,conv_layers=1,embedding_dim=205,fold=9,l2=0.0000,learning_rate=0.0085_2023-11-28_18-28-54/checkpoint_000000)\n",
      "\u001b[2m\u001b[36m(TrainLightGCN pid=3600441)\u001b[0m /home/daviddavo/upm-tfm-notebooks/.direnv/python-3.9/lib/python3.9/site-packages/recommenders/models/deeprec/DataModel/ImplicitCF.py:73: FutureWarning: The frame.append method is deprecated and will be removed from pandas in a future version. Use pandas.concat instead.\n",
      "\u001b[2m\u001b[36m(TrainLightGCN pid=3600441)\u001b[0m   df = train if test is None else train.append(test)\n"
     ]
    },
    {
     "name": "stdout",
     "output_type": "stream",
     "text": [
      "\u001b[2m\u001b[36m(TrainLightGCN pid=3600441)\u001b[0m Already create adjacency matrix.\n",
      "\u001b[2m\u001b[36m(TrainLightGCN pid=3600441)\u001b[0m Already normalize adjacency matrix.\n",
      "\u001b[2m\u001b[36m(TrainLightGCN pid=3600441)\u001b[0m Using xavier initialization.\n"
     ]
    },
    {
     "name": "stderr",
     "output_type": "stream",
     "text": [
      "\u001b[2m\u001b[36m(TrainLightGCN pid=3600441)\u001b[0m Trainable.setup took 26.909 seconds. If your trainable is slow to initialize, consider setting reuse_actors=True to reduce actor creation overheads.\n",
      "\u001b[2m\u001b[36m(pid=3600589)\u001b[0m 2023-11-28 18:38:56.432084: E tensorflow/compiler/xla/stream_executor/cuda/cuda_dnn.cc:9342] Unable to register cuDNN factory: Attempting to register factory for plugin cuDNN when one has already been registered\n",
      "\u001b[2m\u001b[36m(pid=3600589)\u001b[0m 2023-11-28 18:38:56.432135: E tensorflow/compiler/xla/stream_executor/cuda/cuda_fft.cc:609] Unable to register cuFFT factory: Attempting to register factory for plugin cuFFT when one has already been registered\n",
      "\u001b[2m\u001b[36m(pid=3600589)\u001b[0m 2023-11-28 18:38:56.432153: E tensorflow/compiler/xla/stream_executor/cuda/cuda_blas.cc:1518] Unable to register cuBLAS factory: Attempting to register factory for plugin cuBLAS when one has already been registered\n",
      "\u001b[2m\u001b[36m(TrainLightGCN pid=3600589)\u001b[0m /home/daviddavo/upm-tfm-notebooks/.direnv/python-3.9/lib/python3.9/site-packages/recommenders/models/deeprec/DataModel/ImplicitCF.py:73: FutureWarning: The frame.append method is deprecated and will be removed from pandas in a future version. Use pandas.concat instead.\n",
      "\u001b[2m\u001b[36m(TrainLightGCN pid=3600589)\u001b[0m   df = train if test is None else train.append(test)\n"
     ]
    },
    {
     "name": "stdout",
     "output_type": "stream",
     "text": [
      "\u001b[2m\u001b[36m(TrainLightGCN pid=3600589)\u001b[0m Already create adjacency matrix.\n"
     ]
    },
    {
     "name": "stderr",
     "output_type": "stream",
     "text": [
      "\u001b[2m\u001b[36m(TrainLightGCN pid=3599602)\u001b[0m Checkpoint successfully created at: Checkpoint(filesystem=local, path=/home/daviddavo/ray_results/LightGCN_dao=Decentraland,freq=1W,fold=9_2023-11-28T18:22:49.870078/TrainLightGCN_7f2ea187_12_batch_size=7,conv_layers=4,embedding_dim=40,fold=9,l2=0.0004,learning_rate=0.0012_2023-11-28_18-32-06/checkpoint_000000)\n"
     ]
    },
    {
     "name": "stdout",
     "output_type": "stream",
     "text": [
      "\u001b[2m\u001b[36m(TrainLightGCN pid=3600589)\u001b[0m Already normalize adjacency matrix.\n",
      "\u001b[2m\u001b[36m(TrainLightGCN pid=3600589)\u001b[0m Using xavier initialization.\n"
     ]
    },
    {
     "name": "stderr",
     "output_type": "stream",
     "text": [
      "\u001b[2m\u001b[36m(TrainLightGCN pid=3600589)\u001b[0m Trainable.setup took 28.792 seconds. If your trainable is slow to initialize, consider setting reuse_actors=True to reduce actor creation overheads.\n",
      "\u001b[2m\u001b[36m(pid=3600767)\u001b[0m 2023-11-28 18:39:41.634666: E tensorflow/compiler/xla/stream_executor/cuda/cuda_dnn.cc:9342] Unable to register cuDNN factory: Attempting to register factory for plugin cuDNN when one has already been registered\n",
      "\u001b[2m\u001b[36m(pid=3600767)\u001b[0m 2023-11-28 18:39:41.634716: E tensorflow/compiler/xla/stream_executor/cuda/cuda_fft.cc:609] Unable to register cuFFT factory: Attempting to register factory for plugin cuFFT when one has already been registered\n",
      "\u001b[2m\u001b[36m(pid=3600767)\u001b[0m 2023-11-28 18:39:41.634735: E tensorflow/compiler/xla/stream_executor/cuda/cuda_blas.cc:1518] Unable to register cuBLAS factory: Attempting to register factory for plugin cuBLAS when one has already been registered\n",
      "\u001b[2m\u001b[36m(TrainLightGCN pid=3600767)\u001b[0m /home/daviddavo/upm-tfm-notebooks/.direnv/python-3.9/lib/python3.9/site-packages/recommenders/models/deeprec/DataModel/ImplicitCF.py:73: FutureWarning: The frame.append method is deprecated and will be removed from pandas in a future version. Use pandas.concat instead.\n",
      "\u001b[2m\u001b[36m(TrainLightGCN pid=3600767)\u001b[0m   df = train if test is None else train.append(test)\n"
     ]
    },
    {
     "name": "stdout",
     "output_type": "stream",
     "text": [
      "\u001b[2m\u001b[36m(TrainLightGCN pid=3600767)\u001b[0m Already create adjacency matrix.\n",
      "\u001b[2m\u001b[36m(TrainLightGCN pid=3600767)\u001b[0m Already normalize adjacency matrix.\n",
      "\u001b[2m\u001b[36m(TrainLightGCN pid=3600767)\u001b[0m Using xavier initialization.\n"
     ]
    },
    {
     "name": "stderr",
     "output_type": "stream",
     "text": [
      "\u001b[2m\u001b[36m(TrainLightGCN pid=3600767)\u001b[0m Trainable.setup took 37.170 seconds. If your trainable is slow to initialize, consider setting reuse_actors=True to reduce actor creation overheads.\n",
      "\u001b[2m\u001b[36m(TrainLightGCN pid=3599872)\u001b[0m Checkpoint successfully created at: Checkpoint(filesystem=local, path=/home/daviddavo/ray_results/LightGCN_dao=Decentraland,freq=1W,fold=9_2023-11-28T18:22:49.870078/TrainLightGCN_cbb113a3_14_batch_size=8,conv_layers=4,embedding_dim=85,fold=9,l2=0.0000,learning_rate=0.0004_2023-11-28_18-33-58/checkpoint_000000)\n",
      "\u001b[2m\u001b[36m(pid=3600902)\u001b[0m 2023-11-28 18:40:36.746488: E tensorflow/compiler/xla/stream_executor/cuda/cuda_dnn.cc:9342] Unable to register cuDNN factory: Attempting to register factory for plugin cuDNN when one has already been registered\n",
      "\u001b[2m\u001b[36m(pid=3600902)\u001b[0m 2023-11-28 18:40:36.746701: E tensorflow/compiler/xla/stream_executor/cuda/cuda_fft.cc:609] Unable to register cuFFT factory: Attempting to register factory for plugin cuFFT when one has already been registered\n",
      "\u001b[2m\u001b[36m(pid=3600902)\u001b[0m 2023-11-28 18:40:36.746729: E tensorflow/compiler/xla/stream_executor/cuda/cuda_blas.cc:1518] Unable to register cuBLAS factory: Attempting to register factory for plugin cuBLAS when one has already been registered\n",
      "\u001b[2m\u001b[36m(TrainLightGCN pid=3600902)\u001b[0m /home/daviddavo/upm-tfm-notebooks/.direnv/python-3.9/lib/python3.9/site-packages/recommenders/models/deeprec/DataModel/ImplicitCF.py:73: FutureWarning: The frame.append method is deprecated and will be removed from pandas in a future version. Use pandas.concat instead.\n",
      "\u001b[2m\u001b[36m(TrainLightGCN pid=3600902)\u001b[0m   df = train if test is None else train.append(test)\n"
     ]
    },
    {
     "name": "stdout",
     "output_type": "stream",
     "text": [
      "\u001b[2m\u001b[36m(TrainLightGCN pid=3600902)\u001b[0m Already create adjacency matrix.\n",
      "\u001b[2m\u001b[36m(TrainLightGCN pid=3600902)\u001b[0m Already normalize adjacency matrix.\n",
      "\u001b[2m\u001b[36m(TrainLightGCN pid=3600902)\u001b[0m Using xavier initialization.\n"
     ]
    },
    {
     "name": "stderr",
     "output_type": "stream",
     "text": [
      "\u001b[2m\u001b[36m(TrainLightGCN pid=3599737)\u001b[0m Checkpoint successfully created at: Checkpoint(filesystem=local, path=/home/daviddavo/ray_results/LightGCN_dao=Decentraland,freq=1W,fold=9_2023-11-28T18:22:49.870078/TrainLightGCN_bdcbb81f_13_batch_size=7,conv_layers=4,embedding_dim=5,fold=9,l2=0.0000,learning_rate=0.4766_2023-11-28_18-32-35/checkpoint_000000)\n",
      "\u001b[2m\u001b[36m(TrainLightGCN pid=3600902)\u001b[0m Trainable.setup took 33.694 seconds. If your trainable is slow to initialize, consider setting reuse_actors=True to reduce actor creation overheads.\n",
      "\u001b[2m\u001b[36m(pid=3601048)\u001b[0m 2023-11-28 18:41:43.344564: E tensorflow/compiler/xla/stream_executor/cuda/cuda_dnn.cc:9342] Unable to register cuDNN factory: Attempting to register factory for plugin cuDNN when one has already been registered\n",
      "\u001b[2m\u001b[36m(pid=3601048)\u001b[0m 2023-11-28 18:41:43.344608: E tensorflow/compiler/xla/stream_executor/cuda/cuda_fft.cc:609] Unable to register cuFFT factory: Attempting to register factory for plugin cuFFT when one has already been registered\n",
      "\u001b[2m\u001b[36m(pid=3601048)\u001b[0m 2023-11-28 18:41:43.344625: E tensorflow/compiler/xla/stream_executor/cuda/cuda_blas.cc:1518] Unable to register cuBLAS factory: Attempting to register factory for plugin cuBLAS when one has already been registered\n",
      "\u001b[2m\u001b[36m(TrainLightGCN pid=3601048)\u001b[0m /home/daviddavo/upm-tfm-notebooks/.direnv/python-3.9/lib/python3.9/site-packages/recommenders/models/deeprec/DataModel/ImplicitCF.py:73: FutureWarning: The frame.append method is deprecated and will be removed from pandas in a future version. Use pandas.concat instead.\n",
      "\u001b[2m\u001b[36m(TrainLightGCN pid=3601048)\u001b[0m   df = train if test is None else train.append(test)\n"
     ]
    },
    {
     "name": "stdout",
     "output_type": "stream",
     "text": [
      "\u001b[2m\u001b[36m(TrainLightGCN pid=3601048)\u001b[0m Already create adjacency matrix.\n",
      "\u001b[2m\u001b[36m(TrainLightGCN pid=3601048)\u001b[0m Already normalize adjacency matrix.\n",
      "\u001b[2m\u001b[36m(TrainLightGCN pid=3601048)\u001b[0m Using xavier initialization.\n"
     ]
    },
    {
     "name": "stderr",
     "output_type": "stream",
     "text": [
      "\u001b[2m\u001b[36m(TrainLightGCN pid=3600022)\u001b[0m Checkpoint successfully created at: Checkpoint(filesystem=local, path=/home/daviddavo/ray_results/LightGCN_dao=Decentraland,freq=1W,fold=9_2023-11-28T18:22:49.870078/TrainLightGCN_f321747e_15_batch_size=8,conv_layers=5,embedding_dim=75,fold=9,l2=0.0000,learning_rate=0.0003_2023-11-28_18-34-57/checkpoint_000000)\n",
      "\u001b[2m\u001b[36m(TrainLightGCN pid=3601048)\u001b[0m Trainable.setup took 33.923 seconds. If your trainable is slow to initialize, consider setting reuse_actors=True to reduce actor creation overheads.\n",
      "\u001b[2m\u001b[36m(pid=3601188)\u001b[0m 2023-11-28 18:42:30.219806: E tensorflow/compiler/xla/stream_executor/cuda/cuda_dnn.cc:9342] Unable to register cuDNN factory: Attempting to register factory for plugin cuDNN when one has already been registered\n",
      "\u001b[2m\u001b[36m(pid=3601188)\u001b[0m 2023-11-28 18:42:30.219858: E tensorflow/compiler/xla/stream_executor/cuda/cuda_fft.cc:609] Unable to register cuFFT factory: Attempting to register factory for plugin cuFFT when one has already been registered\n",
      "\u001b[2m\u001b[36m(pid=3601188)\u001b[0m 2023-11-28 18:42:30.219878: E tensorflow/compiler/xla/stream_executor/cuda/cuda_blas.cc:1518] Unable to register cuBLAS factory: Attempting to register factory for plugin cuBLAS when one has already been registered\n",
      "\u001b[2m\u001b[36m(TrainLightGCN pid=3601188)\u001b[0m /home/daviddavo/upm-tfm-notebooks/.direnv/python-3.9/lib/python3.9/site-packages/recommenders/models/deeprec/DataModel/ImplicitCF.py:73: FutureWarning: The frame.append method is deprecated and will be removed from pandas in a future version. Use pandas.concat instead.\n",
      "\u001b[2m\u001b[36m(TrainLightGCN pid=3601188)\u001b[0m   df = train if test is None else train.append(test)\n"
     ]
    },
    {
     "name": "stdout",
     "output_type": "stream",
     "text": [
      "\u001b[2m\u001b[36m(TrainLightGCN pid=3601188)\u001b[0m Already create adjacency matrix.\n"
     ]
    },
    {
     "name": "stderr",
     "output_type": "stream",
     "text": [
      "\u001b[2m\u001b[36m(TrainLightGCN pid=3600164)\u001b[0m Checkpoint successfully created at: Checkpoint(filesystem=local, path=/home/daviddavo/ray_results/LightGCN_dao=Decentraland,freq=1W,fold=9_2023-11-28T18:22:49.870078/TrainLightGCN_80d225f6_16_batch_size=9,conv_layers=2,embedding_dim=10,fold=9,l2=0.0010,learning_rate=0.0201_2023-11-28_18-36-02/checkpoint_000000)\n"
     ]
    },
    {
     "name": "stdout",
     "output_type": "stream",
     "text": [
      "\u001b[2m\u001b[36m(TrainLightGCN pid=3601188)\u001b[0m Already normalize adjacency matrix.\n",
      "\u001b[2m\u001b[36m(TrainLightGCN pid=3601188)\u001b[0m Using xavier initialization.\n"
     ]
    },
    {
     "name": "stderr",
     "output_type": "stream",
     "text": [
      "\u001b[2m\u001b[36m(TrainLightGCN pid=3601188)\u001b[0m Trainable.setup took 35.135 seconds. If your trainable is slow to initialize, consider setting reuse_actors=True to reduce actor creation overheads.\n",
      "\u001b[2m\u001b[36m(pid=3601327)\u001b[0m 2023-11-28 18:43:33.129206: E tensorflow/compiler/xla/stream_executor/cuda/cuda_dnn.cc:9342] Unable to register cuDNN factory: Attempting to register factory for plugin cuDNN when one has already been registered\n",
      "\u001b[2m\u001b[36m(pid=3601327)\u001b[0m 2023-11-28 18:43:33.129258: E tensorflow/compiler/xla/stream_executor/cuda/cuda_fft.cc:609] Unable to register cuFFT factory: Attempting to register factory for plugin cuFFT when one has already been registered\n",
      "\u001b[2m\u001b[36m(pid=3601327)\u001b[0m 2023-11-28 18:43:33.129281: E tensorflow/compiler/xla/stream_executor/cuda/cuda_blas.cc:1518] Unable to register cuBLAS factory: Attempting to register factory for plugin cuBLAS when one has already been registered\n",
      "\u001b[2m\u001b[36m(TrainLightGCN pid=3601327)\u001b[0m /home/daviddavo/upm-tfm-notebooks/.direnv/python-3.9/lib/python3.9/site-packages/recommenders/models/deeprec/DataModel/ImplicitCF.py:73: FutureWarning: The frame.append method is deprecated and will be removed from pandas in a future version. Use pandas.concat instead.\n",
      "\u001b[2m\u001b[36m(TrainLightGCN pid=3601327)\u001b[0m   df = train if test is None else train.append(test)\n"
     ]
    },
    {
     "name": "stdout",
     "output_type": "stream",
     "text": [
      "\u001b[2m\u001b[36m(TrainLightGCN pid=3601327)\u001b[0m Already create adjacency matrix.\n",
      "\u001b[2m\u001b[36m(TrainLightGCN pid=3601327)\u001b[0m Already normalize adjacency matrix.\n",
      "\u001b[2m\u001b[36m(TrainLightGCN pid=3601327)\u001b[0m Using xavier initialization.\n"
     ]
    },
    {
     "name": "stderr",
     "output_type": "stream",
     "text": [
      "\u001b[2m\u001b[36m(TrainLightGCN pid=3601327)\u001b[0m Trainable.setup took 31.311 seconds. If your trainable is slow to initialize, consider setting reuse_actors=True to reduce actor creation overheads.\n",
      "\u001b[2m\u001b[36m(pid=3601464)\u001b[0m 2023-11-28 18:44:48.538456: E tensorflow/compiler/xla/stream_executor/cuda/cuda_dnn.cc:9342] Unable to register cuDNN factory: Attempting to register factory for plugin cuDNN when one has already been registered\n",
      "\u001b[2m\u001b[36m(pid=3601464)\u001b[0m 2023-11-28 18:44:48.538509: E tensorflow/compiler/xla/stream_executor/cuda/cuda_fft.cc:609] Unable to register cuFFT factory: Attempting to register factory for plugin cuFFT when one has already been registered\n",
      "\u001b[2m\u001b[36m(pid=3601464)\u001b[0m 2023-11-28 18:44:48.538528: E tensorflow/compiler/xla/stream_executor/cuda/cuda_blas.cc:1518] Unable to register cuBLAS factory: Attempting to register factory for plugin cuBLAS when one has already been registered\n",
      "\u001b[2m\u001b[36m(TrainLightGCN pid=3601464)\u001b[0m /home/daviddavo/upm-tfm-notebooks/.direnv/python-3.9/lib/python3.9/site-packages/recommenders/models/deeprec/DataModel/ImplicitCF.py:73: FutureWarning: The frame.append method is deprecated and will be removed from pandas in a future version. Use pandas.concat instead.\n",
      "\u001b[2m\u001b[36m(TrainLightGCN pid=3601464)\u001b[0m   df = train if test is None else train.append(test)\n",
      "\u001b[2m\u001b[36m(TrainLightGCN pid=3600441)\u001b[0m Checkpoint successfully created at: Checkpoint(filesystem=local, path=/home/daviddavo/ray_results/LightGCN_dao=Decentraland,freq=1W,fold=9_2023-11-28T18:22:49.870078/TrainLightGCN_e5e74a35_18_batch_size=7,conv_layers=3,embedding_dim=30,fold=9,l2=0.0014,learning_rate=0.4767_2023-11-28_18-37-45/checkpoint_000000)\n"
     ]
    },
    {
     "name": "stdout",
     "output_type": "stream",
     "text": [
      "\u001b[2m\u001b[36m(TrainLightGCN pid=3601464)\u001b[0m Already create adjacency matrix.\n",
      "\u001b[2m\u001b[36m(TrainLightGCN pid=3601464)\u001b[0m Already normalize adjacency matrix.\n",
      "\u001b[2m\u001b[36m(TrainLightGCN pid=3601464)\u001b[0m Using xavier initialization.\n"
     ]
    },
    {
     "name": "stderr",
     "output_type": "stream",
     "text": [
      "\u001b[2m\u001b[36m(TrainLightGCN pid=3600305)\u001b[0m Checkpoint successfully created at: Checkpoint(filesystem=local, path=/home/daviddavo/ray_results/LightGCN_dao=Decentraland,freq=1W,fold=9_2023-11-28T18:22:49.870078/TrainLightGCN_df5772f0_17_batch_size=7,conv_layers=4,embedding_dim=10,fold=9,l2=0.0000,learning_rate=0.0011_2023-11-28_18-37-03/checkpoint_000000)\n",
      "\u001b[2m\u001b[36m(pid=3601606)\u001b[0m 2023-11-28 18:45:41.423133: E tensorflow/compiler/xla/stream_executor/cuda/cuda_dnn.cc:9342] Unable to register cuDNN factory: Attempting to register factory for plugin cuDNN when one has already been registered\n",
      "\u001b[2m\u001b[36m(pid=3601606)\u001b[0m 2023-11-28 18:45:41.423181: E tensorflow/compiler/xla/stream_executor/cuda/cuda_fft.cc:609] Unable to register cuFFT factory: Attempting to register factory for plugin cuFFT when one has already been registered\n",
      "\u001b[2m\u001b[36m(pid=3601606)\u001b[0m 2023-11-28 18:45:41.423199: E tensorflow/compiler/xla/stream_executor/cuda/cuda_blas.cc:1518] Unable to register cuBLAS factory: Attempting to register factory for plugin cuBLAS when one has already been registered\n",
      "\u001b[2m\u001b[36m(TrainLightGCN pid=3600589)\u001b[0m Checkpoint successfully created at: Checkpoint(filesystem=local, path=/home/daviddavo/ray_results/LightGCN_dao=Decentraland,freq=1W,fold=9_2023-11-28T18:22:49.870078/TrainLightGCN_3d650a7d_19_batch_size=9,conv_layers=4,embedding_dim=45,fold=9,l2=0.0000,learning_rate=0.0763_2023-11-28_18-38-50/checkpoint_000000)\n",
      "\u001b[2m\u001b[36m(TrainLightGCN pid=3601606)\u001b[0m /home/daviddavo/upm-tfm-notebooks/.direnv/python-3.9/lib/python3.9/site-packages/recommenders/models/deeprec/DataModel/ImplicitCF.py:73: FutureWarning: The frame.append method is deprecated and will be removed from pandas in a future version. Use pandas.concat instead.\n",
      "\u001b[2m\u001b[36m(TrainLightGCN pid=3601606)\u001b[0m   df = train if test is None else train.append(test)\n"
     ]
    },
    {
     "name": "stdout",
     "output_type": "stream",
     "text": [
      "\u001b[2m\u001b[36m(TrainLightGCN pid=3601606)\u001b[0m Already create adjacency matrix.\n",
      "\u001b[2m\u001b[36m(TrainLightGCN pid=3601606)\u001b[0m Already normalize adjacency matrix.\n",
      "\u001b[2m\u001b[36m(TrainLightGCN pid=3601606)\u001b[0m Using xavier initialization.\n"
     ]
    },
    {
     "name": "stderr",
     "output_type": "stream",
     "text": [
      "\u001b[2m\u001b[36m(TrainLightGCN pid=3600767)\u001b[0m Checkpoint successfully created at: Checkpoint(filesystem=local, path=/home/daviddavo/ray_results/LightGCN_dao=Decentraland,freq=1W,fold=9_2023-11-28T18:22:49.870078/TrainLightGCN_4b482601_20_batch_size=7,conv_layers=2,embedding_dim=330,fold=9,l2=0.0000,learning_rate=0.0005_2023-11-28_18-39-38/checkpoint_000000)\n",
      "\u001b[2m\u001b[36m(TrainLightGCN pid=3601606)\u001b[0m Trainable.setup took 31.281 seconds. If your trainable is slow to initialize, consider setting reuse_actors=True to reduce actor creation overheads.\n",
      "\u001b[2m\u001b[36m(pid=3601755)\u001b[0m 2023-11-28 18:47:02.436967: E tensorflow/compiler/xla/stream_executor/cuda/cuda_dnn.cc:9342] Unable to register cuDNN factory: Attempting to register factory for plugin cuDNN when one has already been registered\n",
      "\u001b[2m\u001b[36m(pid=3601755)\u001b[0m 2023-11-28 18:47:02.437025: E tensorflow/compiler/xla/stream_executor/cuda/cuda_fft.cc:609] Unable to register cuFFT factory: Attempting to register factory for plugin cuFFT when one has already been registered\n",
      "\u001b[2m\u001b[36m(pid=3601755)\u001b[0m 2023-11-28 18:47:02.437043: E tensorflow/compiler/xla/stream_executor/cuda/cuda_blas.cc:1518] Unable to register cuBLAS factory: Attempting to register factory for plugin cuBLAS when one has already been registered\n",
      "\u001b[2m\u001b[36m(TrainLightGCN pid=3601755)\u001b[0m /home/daviddavo/upm-tfm-notebooks/.direnv/python-3.9/lib/python3.9/site-packages/recommenders/models/deeprec/DataModel/ImplicitCF.py:73: FutureWarning: The frame.append method is deprecated and will be removed from pandas in a future version. Use pandas.concat instead.\n",
      "\u001b[2m\u001b[36m(TrainLightGCN pid=3601755)\u001b[0m   df = train if test is None else train.append(test)\n"
     ]
    },
    {
     "name": "stdout",
     "output_type": "stream",
     "text": [
      "\u001b[2m\u001b[36m(TrainLightGCN pid=3601755)\u001b[0m Already create adjacency matrix.\n",
      "\u001b[2m\u001b[36m(TrainLightGCN pid=3601755)\u001b[0m Already normalize adjacency matrix.\n",
      "\u001b[2m\u001b[36m(TrainLightGCN pid=3601755)\u001b[0m Using xavier initialization.\n"
     ]
    },
    {
     "name": "stderr",
     "output_type": "stream",
     "text": [
      "\u001b[2m\u001b[36m(TrainLightGCN pid=3601755)\u001b[0m Trainable.setup took 19.653 seconds. If your trainable is slow to initialize, consider setting reuse_actors=True to reduce actor creation overheads.\n",
      "\u001b[2m\u001b[36m(pid=3601891)\u001b[0m 2023-11-28 18:47:50.390480: E tensorflow/compiler/xla/stream_executor/cuda/cuda_dnn.cc:9342] Unable to register cuDNN factory: Attempting to register factory for plugin cuDNN when one has already been registered\n",
      "\u001b[2m\u001b[36m(pid=3601891)\u001b[0m 2023-11-28 18:47:50.390528: E tensorflow/compiler/xla/stream_executor/cuda/cuda_fft.cc:609] Unable to register cuFFT factory: Attempting to register factory for plugin cuFFT when one has already been registered\n",
      "\u001b[2m\u001b[36m(pid=3601891)\u001b[0m 2023-11-28 18:47:50.390548: E tensorflow/compiler/xla/stream_executor/cuda/cuda_blas.cc:1518] Unable to register cuBLAS factory: Attempting to register factory for plugin cuBLAS when one has already been registered\n",
      "\u001b[2m\u001b[36m(TrainLightGCN pid=3601891)\u001b[0m /home/daviddavo/upm-tfm-notebooks/.direnv/python-3.9/lib/python3.9/site-packages/recommenders/models/deeprec/DataModel/ImplicitCF.py:73: FutureWarning: The frame.append method is deprecated and will be removed from pandas in a future version. Use pandas.concat instead.\n",
      "\u001b[2m\u001b[36m(TrainLightGCN pid=3601891)\u001b[0m   df = train if test is None else train.append(test)\n"
     ]
    },
    {
     "name": "stdout",
     "output_type": "stream",
     "text": [
      "\u001b[2m\u001b[36m(TrainLightGCN pid=3601891)\u001b[0m Already create adjacency matrix.\n",
      "\u001b[2m\u001b[36m(TrainLightGCN pid=3601891)\u001b[0m Already normalize adjacency matrix.\n",
      "\u001b[2m\u001b[36m(TrainLightGCN pid=3601891)\u001b[0m Using xavier initialization.\n"
     ]
    },
    {
     "name": "stderr",
     "output_type": "stream",
     "text": [
      "\u001b[2m\u001b[36m(TrainLightGCN pid=3601891)\u001b[0m Trainable.setup took 36.470 seconds. If your trainable is slow to initialize, consider setting reuse_actors=True to reduce actor creation overheads.\n",
      "\u001b[2m\u001b[36m(pid=3602028)\u001b[0m 2023-11-28 18:48:56.430236: E tensorflow/compiler/xla/stream_executor/cuda/cuda_dnn.cc:9342] Unable to register cuDNN factory: Attempting to register factory for plugin cuDNN when one has already been registered\n",
      "\u001b[2m\u001b[36m(pid=3602028)\u001b[0m 2023-11-28 18:48:56.430282: E tensorflow/compiler/xla/stream_executor/cuda/cuda_fft.cc:609] Unable to register cuFFT factory: Attempting to register factory for plugin cuFFT when one has already been registered\n",
      "\u001b[2m\u001b[36m(pid=3602028)\u001b[0m 2023-11-28 18:48:56.430294: E tensorflow/compiler/xla/stream_executor/cuda/cuda_blas.cc:1518] Unable to register cuBLAS factory: Attempting to register factory for plugin cuBLAS when one has already been registered\n",
      "\u001b[2m\u001b[36m(TrainLightGCN pid=3602028)\u001b[0m /home/daviddavo/upm-tfm-notebooks/.direnv/python-3.9/lib/python3.9/site-packages/recommenders/models/deeprec/DataModel/ImplicitCF.py:73: FutureWarning: The frame.append method is deprecated and will be removed from pandas in a future version. Use pandas.concat instead.\n",
      "\u001b[2m\u001b[36m(TrainLightGCN pid=3602028)\u001b[0m   df = train if test is None else train.append(test)\n"
     ]
    },
    {
     "name": "stdout",
     "output_type": "stream",
     "text": [
      "\u001b[2m\u001b[36m(TrainLightGCN pid=3602028)\u001b[0m Already create adjacency matrix.\n",
      "\u001b[2m\u001b[36m(TrainLightGCN pid=3602028)\u001b[0m Already normalize adjacency matrix.\n",
      "\u001b[2m\u001b[36m(TrainLightGCN pid=3602028)\u001b[0m Using xavier initialization.\n"
     ]
    },
    {
     "name": "stderr",
     "output_type": "stream",
     "text": [
      "\u001b[2m\u001b[36m(TrainLightGCN pid=3602028)\u001b[0m Trainable.setup took 25.422 seconds. If your trainable is slow to initialize, consider setting reuse_actors=True to reduce actor creation overheads.\n",
      "\u001b[2m\u001b[36m(pid=3602165)\u001b[0m 2023-11-28 18:49:43.232687: E tensorflow/compiler/xla/stream_executor/cuda/cuda_dnn.cc:9342] Unable to register cuDNN factory: Attempting to register factory for plugin cuDNN when one has already been registered\n",
      "\u001b[2m\u001b[36m(pid=3602165)\u001b[0m 2023-11-28 18:49:43.232739: E tensorflow/compiler/xla/stream_executor/cuda/cuda_fft.cc:609] Unable to register cuFFT factory: Attempting to register factory for plugin cuFFT when one has already been registered\n",
      "\u001b[2m\u001b[36m(pid=3602165)\u001b[0m 2023-11-28 18:49:43.232756: E tensorflow/compiler/xla/stream_executor/cuda/cuda_blas.cc:1518] Unable to register cuBLAS factory: Attempting to register factory for plugin cuBLAS when one has already been registered\n",
      "\u001b[2m\u001b[36m(TrainLightGCN pid=3602165)\u001b[0m /home/daviddavo/upm-tfm-notebooks/.direnv/python-3.9/lib/python3.9/site-packages/recommenders/models/deeprec/DataModel/ImplicitCF.py:73: FutureWarning: The frame.append method is deprecated and will be removed from pandas in a future version. Use pandas.concat instead.\n",
      "\u001b[2m\u001b[36m(TrainLightGCN pid=3602165)\u001b[0m   df = train if test is None else train.append(test)\n"
     ]
    },
    {
     "name": "stdout",
     "output_type": "stream",
     "text": [
      "\u001b[2m\u001b[36m(TrainLightGCN pid=3602165)\u001b[0m Already create adjacency matrix.\n",
      "\u001b[2m\u001b[36m(TrainLightGCN pid=3602165)\u001b[0m Already normalize adjacency matrix.\n",
      "\u001b[2m\u001b[36m(TrainLightGCN pid=3602165)\u001b[0m Using xavier initialization.\n"
     ]
    },
    {
     "name": "stderr",
     "output_type": "stream",
     "text": [
      "\u001b[2m\u001b[36m(TrainLightGCN pid=3602165)\u001b[0m Trainable.setup took 40.953 seconds. If your trainable is slow to initialize, consider setting reuse_actors=True to reduce actor creation overheads.\n",
      "\u001b[2m\u001b[36m(pid=3602302)\u001b[0m 2023-11-28 18:50:59.180945: E tensorflow/compiler/xla/stream_executor/cuda/cuda_dnn.cc:9342] Unable to register cuDNN factory: Attempting to register factory for plugin cuDNN when one has already been registered\n",
      "\u001b[2m\u001b[36m(pid=3602302)\u001b[0m 2023-11-28 18:50:59.180996: E tensorflow/compiler/xla/stream_executor/cuda/cuda_fft.cc:609] Unable to register cuFFT factory: Attempting to register factory for plugin cuFFT when one has already been registered\n",
      "\u001b[2m\u001b[36m(pid=3602302)\u001b[0m 2023-11-28 18:50:59.181018: E tensorflow/compiler/xla/stream_executor/cuda/cuda_blas.cc:1518] Unable to register cuBLAS factory: Attempting to register factory for plugin cuBLAS when one has already been registered\n",
      "\u001b[2m\u001b[36m(TrainLightGCN pid=3601327)\u001b[0m Checkpoint successfully created at: Checkpoint(filesystem=local, path=/home/daviddavo/ray_results/LightGCN_dao=Decentraland,freq=1W,fold=9_2023-11-28T18:22:49.870078/TrainLightGCN_9789418c_24_batch_size=8,conv_layers=2,embedding_dim=15,fold=9,l2=0.0000,learning_rate=0.0176_2023-11-28_18-43-26/checkpoint_000000)\n",
      "\u001b[2m\u001b[36m(TrainLightGCN pid=3602302)\u001b[0m /home/daviddavo/upm-tfm-notebooks/.direnv/python-3.9/lib/python3.9/site-packages/recommenders/models/deeprec/DataModel/ImplicitCF.py:73: FutureWarning: The frame.append method is deprecated and will be removed from pandas in a future version. Use pandas.concat instead.\n",
      "\u001b[2m\u001b[36m(TrainLightGCN pid=3602302)\u001b[0m   df = train if test is None else train.append(test)\n"
     ]
    },
    {
     "name": "stdout",
     "output_type": "stream",
     "text": [
      "\u001b[2m\u001b[36m(TrainLightGCN pid=3602302)\u001b[0m Already create adjacency matrix.\n",
      "\u001b[2m\u001b[36m(TrainLightGCN pid=3602302)\u001b[0m Already normalize adjacency matrix.\n",
      "\u001b[2m\u001b[36m(TrainLightGCN pid=3602302)\u001b[0m Using xavier initialization.\n"
     ]
    },
    {
     "name": "stderr",
     "output_type": "stream",
     "text": [
      "\u001b[2m\u001b[36m(TrainLightGCN pid=3602302)\u001b[0m Trainable.setup took 24.727 seconds. If your trainable is slow to initialize, consider setting reuse_actors=True to reduce actor creation overheads.\n",
      "\u001b[2m\u001b[36m(TrainLightGCN pid=3601048)\u001b[0m Checkpoint successfully created at: Checkpoint(filesystem=local, path=/home/daviddavo/ray_results/LightGCN_dao=Decentraland,freq=1W,fold=9_2023-11-28T18:22:49.870078/TrainLightGCN_92497241_22_batch_size=6,conv_layers=5,embedding_dim=0,fold=9,l2=0.0002,learning_rate=0.0121_2023-11-28_18-41-28/checkpoint_000000)\n",
      "\u001b[2m\u001b[36m(pid=3602442)\u001b[0m 2023-11-28 18:52:03.024737: E tensorflow/compiler/xla/stream_executor/cuda/cuda_dnn.cc:9342] Unable to register cuDNN factory: Attempting to register factory for plugin cuDNN when one has already been registered\n",
      "\u001b[2m\u001b[36m(pid=3602442)\u001b[0m 2023-11-28 18:52:03.024793: E tensorflow/compiler/xla/stream_executor/cuda/cuda_fft.cc:609] Unable to register cuFFT factory: Attempting to register factory for plugin cuFFT when one has already been registered\n",
      "\u001b[2m\u001b[36m(pid=3602442)\u001b[0m 2023-11-28 18:52:03.024819: E tensorflow/compiler/xla/stream_executor/cuda/cuda_blas.cc:1518] Unable to register cuBLAS factory: Attempting to register factory for plugin cuBLAS when one has already been registered\n",
      "\u001b[2m\u001b[36m(TrainLightGCN pid=3602442)\u001b[0m /home/daviddavo/upm-tfm-notebooks/.direnv/python-3.9/lib/python3.9/site-packages/recommenders/models/deeprec/DataModel/ImplicitCF.py:73: FutureWarning: The frame.append method is deprecated and will be removed from pandas in a future version. Use pandas.concat instead.\n",
      "\u001b[2m\u001b[36m(TrainLightGCN pid=3602442)\u001b[0m   df = train if test is None else train.append(test)\n"
     ]
    },
    {
     "name": "stdout",
     "output_type": "stream",
     "text": [
      "\u001b[2m\u001b[36m(TrainLightGCN pid=3602442)\u001b[0m Already create adjacency matrix.\n",
      "\u001b[2m\u001b[36m(TrainLightGCN pid=3602442)\u001b[0m Already normalize adjacency matrix.\n",
      "\u001b[2m\u001b[36m(TrainLightGCN pid=3602442)\u001b[0m Using xavier initialization.\n"
     ]
    },
    {
     "name": "stderr",
     "output_type": "stream",
     "text": [
      "\u001b[2m\u001b[36m(TrainLightGCN pid=3602442)\u001b[0m Trainable.setup took 35.910 seconds. If your trainable is slow to initialize, consider setting reuse_actors=True to reduce actor creation overheads.\n",
      "\u001b[2m\u001b[36m(pid=3602583)\u001b[0m 2023-11-28 18:53:10.255578: E tensorflow/compiler/xla/stream_executor/cuda/cuda_dnn.cc:9342] Unable to register cuDNN factory: Attempting to register factory for plugin cuDNN when one has already been registered\n",
      "\u001b[2m\u001b[36m(pid=3602583)\u001b[0m 2023-11-28 18:53:10.255654: E tensorflow/compiler/xla/stream_executor/cuda/cuda_fft.cc:609] Unable to register cuFFT factory: Attempting to register factory for plugin cuFFT when one has already been registered\n",
      "\u001b[2m\u001b[36m(pid=3602583)\u001b[0m 2023-11-28 18:53:10.255674: E tensorflow/compiler/xla/stream_executor/cuda/cuda_blas.cc:1518] Unable to register cuBLAS factory: Attempting to register factory for plugin cuBLAS when one has already been registered\n",
      "\u001b[2m\u001b[36m(TrainLightGCN pid=3601606)\u001b[0m Checkpoint successfully created at: Checkpoint(filesystem=local, path=/home/daviddavo/ray_results/LightGCN_dao=Decentraland,freq=1W,fold=9_2023-11-28T18:22:49.870078/TrainLightGCN_ecf15140_26_batch_size=8,conv_layers=1,embedding_dim=15,fold=9,l2=0.0099,learning_rate=0.0290_2023-11-28_18-45-26/checkpoint_000000)\n",
      "\u001b[2m\u001b[36m(TrainLightGCN pid=3602583)\u001b[0m /home/daviddavo/upm-tfm-notebooks/.direnv/python-3.9/lib/python3.9/site-packages/recommenders/models/deeprec/DataModel/ImplicitCF.py:73: FutureWarning: The frame.append method is deprecated and will be removed from pandas in a future version. Use pandas.concat instead.\n",
      "\u001b[2m\u001b[36m(TrainLightGCN pid=3602583)\u001b[0m   df = train if test is None else train.append(test)\n"
     ]
    },
    {
     "name": "stdout",
     "output_type": "stream",
     "text": [
      "\u001b[2m\u001b[36m(TrainLightGCN pid=3602583)\u001b[0m Already create adjacency matrix.\n",
      "\u001b[2m\u001b[36m(TrainLightGCN pid=3602583)\u001b[0m Already normalize adjacency matrix.\n",
      "\u001b[2m\u001b[36m(TrainLightGCN pid=3602583)\u001b[0m Using xavier initialization.\n"
     ]
    },
    {
     "name": "stderr",
     "output_type": "stream",
     "text": [
      "\u001b[2m\u001b[36m(TrainLightGCN pid=3601755)\u001b[0m Checkpoint successfully created at: Checkpoint(filesystem=local, path=/home/daviddavo/ray_results/LightGCN_dao=Decentraland,freq=1W,fold=9_2023-11-28T18:22:49.870078/TrainLightGCN_6a15ff2f_27_batch_size=8,conv_layers=2,embedding_dim=0,fold=9,l2=0.0001,learning_rate=0.0060_2023-11-28_18-46-37/checkpoint_000000)\n",
      "\u001b[2m\u001b[36m(TrainLightGCN pid=3602583)\u001b[0m Trainable.setup took 29.557 seconds. If your trainable is slow to initialize, consider setting reuse_actors=True to reduce actor creation overheads.\n",
      "\u001b[2m\u001b[36m(TrainLightGCN pid=3600902)\u001b[0m Checkpoint successfully created at: Checkpoint(filesystem=local, path=/home/daviddavo/ray_results/LightGCN_dao=Decentraland,freq=1W,fold=9_2023-11-28T18:22:49.870078/TrainLightGCN_14341844_21_batch_size=6,conv_layers=5,embedding_dim=775,fold=9,l2=0.0002,learning_rate=0.0035_2023-11-28_18-40-24/checkpoint_000000)\n",
      "\u001b[2m\u001b[36m(TrainLightGCN pid=3601891)\u001b[0m Checkpoint successfully created at: Checkpoint(filesystem=local, path=/home/daviddavo/ray_results/LightGCN_dao=Decentraland,freq=1W,fold=9_2023-11-28T18:22:49.870078/TrainLightGCN_efddd4eb_28_batch_size=9,conv_layers=1,embedding_dim=15,fold=9,l2=0.0000,learning_rate=0.0660_2023-11-28_18-47-38/checkpoint_000000)\n",
      "\u001b[2m\u001b[36m(pid=3602735)\u001b[0m 2023-11-28 18:54:16.364574: E tensorflow/compiler/xla/stream_executor/cuda/cuda_dnn.cc:9342] Unable to register cuDNN factory: Attempting to register factory for plugin cuDNN when one has already been registered\n",
      "\u001b[2m\u001b[36m(pid=3602735)\u001b[0m 2023-11-28 18:54:16.364628: E tensorflow/compiler/xla/stream_executor/cuda/cuda_fft.cc:609] Unable to register cuFFT factory: Attempting to register factory for plugin cuFFT when one has already been registered\n",
      "\u001b[2m\u001b[36m(pid=3602735)\u001b[0m 2023-11-28 18:54:16.364651: E tensorflow/compiler/xla/stream_executor/cuda/cuda_blas.cc:1518] Unable to register cuBLAS factory: Attempting to register factory for plugin cuBLAS when one has already been registered\n",
      "\u001b[2m\u001b[36m(TrainLightGCN pid=3602735)\u001b[0m /home/daviddavo/upm-tfm-notebooks/.direnv/python-3.9/lib/python3.9/site-packages/recommenders/models/deeprec/DataModel/ImplicitCF.py:73: FutureWarning: The frame.append method is deprecated and will be removed from pandas in a future version. Use pandas.concat instead.\n",
      "\u001b[2m\u001b[36m(TrainLightGCN pid=3602735)\u001b[0m   df = train if test is None else train.append(test)\n",
      "\u001b[2m\u001b[36m(TrainLightGCN pid=3602028)\u001b[0m Checkpoint successfully created at: Checkpoint(filesystem=local, path=/home/daviddavo/ray_results/LightGCN_dao=Decentraland,freq=1W,fold=9_2023-11-28T18:22:49.870078/TrainLightGCN_d2389b87_29_batch_size=6,conv_layers=2,embedding_dim=0,fold=9,l2=0.0001,learning_rate=0.0960_2023-11-28_18-48-35/checkpoint_000000)\n"
     ]
    },
    {
     "name": "stdout",
     "output_type": "stream",
     "text": [
      "\u001b[2m\u001b[36m(TrainLightGCN pid=3602735)\u001b[0m Already create adjacency matrix.\n",
      "\u001b[2m\u001b[36m(TrainLightGCN pid=3602735)\u001b[0m Already normalize adjacency matrix.\n",
      "\u001b[2m\u001b[36m(TrainLightGCN pid=3602735)\u001b[0m Using xavier initialization.\n"
     ]
    },
    {
     "name": "stderr",
     "output_type": "stream",
     "text": [
      "\u001b[2m\u001b[36m(TrainLightGCN pid=3602735)\u001b[0m Trainable.setup took 23.651 seconds. If your trainable is slow to initialize, consider setting reuse_actors=True to reduce actor creation overheads.\n",
      "\u001b[2m\u001b[36m(TrainLightGCN pid=3601464)\u001b[0m Checkpoint successfully created at: Checkpoint(filesystem=local, path=/home/daviddavo/ray_results/LightGCN_dao=Decentraland,freq=1W,fold=9_2023-11-28T18:22:49.870078/TrainLightGCN_a18698b9_25_batch_size=6,conv_layers=2,embedding_dim=0,fold=9,l2=0.0000,learning_rate=0.0304_2023-11-28_18-44-24/checkpoint_000000)\n",
      "\u001b[2m\u001b[36m(pid=3602881)\u001b[0m 2023-11-28 18:55:10.733990: E tensorflow/compiler/xla/stream_executor/cuda/cuda_dnn.cc:9342] Unable to register cuDNN factory: Attempting to register factory for plugin cuDNN when one has already been registered\n",
      "\u001b[2m\u001b[36m(pid=3602881)\u001b[0m 2023-11-28 18:55:10.734038: E tensorflow/compiler/xla/stream_executor/cuda/cuda_fft.cc:609] Unable to register cuFFT factory: Attempting to register factory for plugin cuFFT when one has already been registered\n",
      "\u001b[2m\u001b[36m(pid=3602881)\u001b[0m 2023-11-28 18:55:10.734057: E tensorflow/compiler/xla/stream_executor/cuda/cuda_blas.cc:1518] Unable to register cuBLAS factory: Attempting to register factory for plugin cuBLAS when one has already been registered\n",
      "\u001b[2m\u001b[36m(TrainLightGCN pid=3602881)\u001b[0m /home/daviddavo/upm-tfm-notebooks/.direnv/python-3.9/lib/python3.9/site-packages/recommenders/models/deeprec/DataModel/ImplicitCF.py:73: FutureWarning: The frame.append method is deprecated and will be removed from pandas in a future version. Use pandas.concat instead.\n",
      "\u001b[2m\u001b[36m(TrainLightGCN pid=3602881)\u001b[0m   df = train if test is None else train.append(test)\n"
     ]
    },
    {
     "name": "stdout",
     "output_type": "stream",
     "text": [
      "\u001b[2m\u001b[36m(TrainLightGCN pid=3602881)\u001b[0m Already create adjacency matrix.\n",
      "\u001b[2m\u001b[36m(TrainLightGCN pid=3602881)\u001b[0m Already normalize adjacency matrix.\n",
      "\u001b[2m\u001b[36m(TrainLightGCN pid=3602881)\u001b[0m Using xavier initialization.\n"
     ]
    },
    {
     "name": "stderr",
     "output_type": "stream",
     "text": [
      "\u001b[2m\u001b[36m(TrainLightGCN pid=3602881)\u001b[0m Trainable.setup took 28.664 seconds. If your trainable is slow to initialize, consider setting reuse_actors=True to reduce actor creation overheads.\n",
      "\u001b[2m\u001b[36m(pid=3603022)\u001b[0m 2023-11-28 18:55:53.561468: E tensorflow/compiler/xla/stream_executor/cuda/cuda_dnn.cc:9342] Unable to register cuDNN factory: Attempting to register factory for plugin cuDNN when one has already been registered\n",
      "\u001b[2m\u001b[36m(pid=3603022)\u001b[0m 2023-11-28 18:55:53.561523: E tensorflow/compiler/xla/stream_executor/cuda/cuda_fft.cc:609] Unable to register cuFFT factory: Attempting to register factory for plugin cuFFT when one has already been registered\n",
      "\u001b[2m\u001b[36m(pid=3603022)\u001b[0m 2023-11-28 18:55:53.561544: E tensorflow/compiler/xla/stream_executor/cuda/cuda_blas.cc:1518] Unable to register cuBLAS factory: Attempting to register factory for plugin cuBLAS when one has already been registered\n",
      "\u001b[2m\u001b[36m(TrainLightGCN pid=3603022)\u001b[0m /home/daviddavo/upm-tfm-notebooks/.direnv/python-3.9/lib/python3.9/site-packages/recommenders/models/deeprec/DataModel/ImplicitCF.py:73: FutureWarning: The frame.append method is deprecated and will be removed from pandas in a future version. Use pandas.concat instead.\n",
      "\u001b[2m\u001b[36m(TrainLightGCN pid=3603022)\u001b[0m   df = train if test is None else train.append(test)\n"
     ]
    },
    {
     "name": "stdout",
     "output_type": "stream",
     "text": [
      "\u001b[2m\u001b[36m(TrainLightGCN pid=3603022)\u001b[0m Already create adjacency matrix.\n",
      "\u001b[2m\u001b[36m(TrainLightGCN pid=3603022)\u001b[0m Already normalize adjacency matrix.\n",
      "\u001b[2m\u001b[36m(TrainLightGCN pid=3603022)\u001b[0m Using xavier initialization.\n"
     ]
    },
    {
     "name": "stderr",
     "output_type": "stream",
     "text": [
      "\u001b[2m\u001b[36m(TrainLightGCN pid=3603022)\u001b[0m Trainable.setup took 17.597 seconds. If your trainable is slow to initialize, consider setting reuse_actors=True to reduce actor creation overheads.\n",
      "\u001b[2m\u001b[36m(pid=3603157)\u001b[0m 2023-11-28 18:56:33.089895: E tensorflow/compiler/xla/stream_executor/cuda/cuda_dnn.cc:9342] Unable to register cuDNN factory: Attempting to register factory for plugin cuDNN when one has already been registered\n",
      "\u001b[2m\u001b[36m(pid=3603157)\u001b[0m 2023-11-28 18:56:33.089947: E tensorflow/compiler/xla/stream_executor/cuda/cuda_fft.cc:609] Unable to register cuFFT factory: Attempting to register factory for plugin cuFFT when one has already been registered\n",
      "\u001b[2m\u001b[36m(pid=3603157)\u001b[0m 2023-11-28 18:56:33.089964: E tensorflow/compiler/xla/stream_executor/cuda/cuda_blas.cc:1518] Unable to register cuBLAS factory: Attempting to register factory for plugin cuBLAS when one has already been registered\n",
      "\u001b[2m\u001b[36m(TrainLightGCN pid=3603157)\u001b[0m /home/daviddavo/upm-tfm-notebooks/.direnv/python-3.9/lib/python3.9/site-packages/recommenders/models/deeprec/DataModel/ImplicitCF.py:73: FutureWarning: The frame.append method is deprecated and will be removed from pandas in a future version. Use pandas.concat instead.\n",
      "\u001b[2m\u001b[36m(TrainLightGCN pid=3603157)\u001b[0m   df = train if test is None else train.append(test)\n"
     ]
    },
    {
     "name": "stdout",
     "output_type": "stream",
     "text": [
      "\u001b[2m\u001b[36m(TrainLightGCN pid=3603157)\u001b[0m Already create adjacency matrix.\n",
      "\u001b[2m\u001b[36m(TrainLightGCN pid=3603157)\u001b[0m Already normalize adjacency matrix.\n",
      "\u001b[2m\u001b[36m(TrainLightGCN pid=3603157)\u001b[0m Using xavier initialization.\n"
     ]
    },
    {
     "name": "stderr",
     "output_type": "stream",
     "text": [
      "\u001b[2m\u001b[36m(TrainLightGCN pid=3602165)\u001b[0m Checkpoint successfully created at: Checkpoint(filesystem=local, path=/home/daviddavo/ray_results/LightGCN_dao=Decentraland,freq=1W,fold=9_2023-11-28T18:22:49.870078/TrainLightGCN_94c95f01_30_batch_size=9,conv_layers=1,embedding_dim=640,fold=9,l2=0.0021,learning_rate=0.9646_2023-11-28_18-49-23/checkpoint_000000)\n",
      "\u001b[2m\u001b[36m(TrainLightGCN pid=3603157)\u001b[0m Trainable.setup took 20.207 seconds. If your trainable is slow to initialize, consider setting reuse_actors=True to reduce actor creation overheads.\n",
      "\u001b[2m\u001b[36m(pid=3603297)\u001b[0m 2023-11-28 18:57:25.635740: E tensorflow/compiler/xla/stream_executor/cuda/cuda_dnn.cc:9342] Unable to register cuDNN factory: Attempting to register factory for plugin cuDNN when one has already been registered\n",
      "\u001b[2m\u001b[36m(pid=3603297)\u001b[0m 2023-11-28 18:57:25.635794: E tensorflow/compiler/xla/stream_executor/cuda/cuda_fft.cc:609] Unable to register cuFFT factory: Attempting to register factory for plugin cuFFT when one has already been registered\n",
      "\u001b[2m\u001b[36m(pid=3603297)\u001b[0m 2023-11-28 18:57:25.635811: E tensorflow/compiler/xla/stream_executor/cuda/cuda_blas.cc:1518] Unable to register cuBLAS factory: Attempting to register factory for plugin cuBLAS when one has already been registered\n",
      "\u001b[2m\u001b[36m(TrainLightGCN pid=3603297)\u001b[0m /home/daviddavo/upm-tfm-notebooks/.direnv/python-3.9/lib/python3.9/site-packages/recommenders/models/deeprec/DataModel/ImplicitCF.py:73: FutureWarning: The frame.append method is deprecated and will be removed from pandas in a future version. Use pandas.concat instead.\n",
      "\u001b[2m\u001b[36m(TrainLightGCN pid=3603297)\u001b[0m   df = train if test is None else train.append(test)\n"
     ]
    },
    {
     "name": "stdout",
     "output_type": "stream",
     "text": [
      "\u001b[2m\u001b[36m(TrainLightGCN pid=3603297)\u001b[0m Already create adjacency matrix.\n",
      "\u001b[2m\u001b[36m(TrainLightGCN pid=3603297)\u001b[0m Already normalize adjacency matrix.\n",
      "\u001b[2m\u001b[36m(TrainLightGCN pid=3603297)\u001b[0m Using xavier initialization.\n"
     ]
    },
    {
     "name": "stderr",
     "output_type": "stream",
     "text": [
      "\u001b[2m\u001b[36m(TrainLightGCN pid=3602302)\u001b[0m Checkpoint successfully created at: Checkpoint(filesystem=local, path=/home/daviddavo/ray_results/LightGCN_dao=Decentraland,freq=1W,fold=9_2023-11-28T18:22:49.870078/TrainLightGCN_307db45a_31_batch_size=8,conv_layers=2,embedding_dim=10,fold=9,l2=0.0004,learning_rate=0.0333_2023-11-28_18-50-39/checkpoint_000000)\n",
      "\u001b[2m\u001b[36m(TrainLightGCN pid=3603297)\u001b[0m Trainable.setup took 32.126 seconds. If your trainable is slow to initialize, consider setting reuse_actors=True to reduce actor creation overheads.\n",
      "\u001b[2m\u001b[36m(pid=3603441)\u001b[0m 2023-11-28 18:58:51.272519: E tensorflow/compiler/xla/stream_executor/cuda/cuda_dnn.cc:9342] Unable to register cuDNN factory: Attempting to register factory for plugin cuDNN when one has already been registered\n",
      "\u001b[2m\u001b[36m(pid=3603441)\u001b[0m 2023-11-28 18:58:51.272570: E tensorflow/compiler/xla/stream_executor/cuda/cuda_fft.cc:609] Unable to register cuFFT factory: Attempting to register factory for plugin cuFFT when one has already been registered\n",
      "\u001b[2m\u001b[36m(pid=3603441)\u001b[0m 2023-11-28 18:58:51.272591: E tensorflow/compiler/xla/stream_executor/cuda/cuda_blas.cc:1518] Unable to register cuBLAS factory: Attempting to register factory for plugin cuBLAS when one has already been registered\n",
      "\u001b[2m\u001b[36m(TrainLightGCN pid=3602442)\u001b[0m Checkpoint successfully created at: Checkpoint(filesystem=local, path=/home/daviddavo/ray_results/LightGCN_dao=Decentraland,freq=1W,fold=9_2023-11-28T18:22:49.870078/TrainLightGCN_5d0b13b7_32_batch_size=9,conv_layers=3,embedding_dim=130,fold=9,l2=0.0000,learning_rate=0.0030_2023-11-28_18-51-36/checkpoint_000000)\n",
      "\u001b[2m\u001b[36m(TrainLightGCN pid=3603441)\u001b[0m /home/daviddavo/upm-tfm-notebooks/.direnv/python-3.9/lib/python3.9/site-packages/recommenders/models/deeprec/DataModel/ImplicitCF.py:73: FutureWarning: The frame.append method is deprecated and will be removed from pandas in a future version. Use pandas.concat instead.\n",
      "\u001b[2m\u001b[36m(TrainLightGCN pid=3603441)\u001b[0m   df = train if test is None else train.append(test)\n",
      "\u001b[2m\u001b[36m(TrainLightGCN pid=3601188)\u001b[0m Checkpoint successfully created at: Checkpoint(filesystem=local, path=/home/daviddavo/ray_results/LightGCN_dao=Decentraland,freq=1W,fold=9_2023-11-28T18:22:49.870078/TrainLightGCN_80365caf_23_batch_size=6,conv_layers=5,embedding_dim=975,fold=9,l2=0.0000,learning_rate=0.0018_2023-11-28_18-42-21/checkpoint_000000)\n"
     ]
    },
    {
     "name": "stdout",
     "output_type": "stream",
     "text": [
      "\u001b[2m\u001b[36m(TrainLightGCN pid=3603441)\u001b[0m Already create adjacency matrix.\n",
      "\u001b[2m\u001b[36m(TrainLightGCN pid=3603441)\u001b[0m Already normalize adjacency matrix.\n",
      "\u001b[2m\u001b[36m(TrainLightGCN pid=3603441)\u001b[0m Using xavier initialization.\n"
     ]
    },
    {
     "name": "stderr",
     "output_type": "stream",
     "text": [
      "\u001b[2m\u001b[36m(TrainLightGCN pid=3603441)\u001b[0m Trainable.setup took 18.330 seconds. If your trainable is slow to initialize, consider setting reuse_actors=True to reduce actor creation overheads.\n",
      "\u001b[2m\u001b[36m(pid=3603591)\u001b[0m 2023-11-28 18:59:39.137112: E tensorflow/compiler/xla/stream_executor/cuda/cuda_dnn.cc:9342] Unable to register cuDNN factory: Attempting to register factory for plugin cuDNN when one has already been registered\n",
      "\u001b[2m\u001b[36m(pid=3603591)\u001b[0m 2023-11-28 18:59:39.137157: E tensorflow/compiler/xla/stream_executor/cuda/cuda_fft.cc:609] Unable to register cuFFT factory: Attempting to register factory for plugin cuFFT when one has already been registered\n",
      "\u001b[2m\u001b[36m(pid=3603591)\u001b[0m 2023-11-28 18:59:39.137175: E tensorflow/compiler/xla/stream_executor/cuda/cuda_blas.cc:1518] Unable to register cuBLAS factory: Attempting to register factory for plugin cuBLAS when one has already been registered\n",
      "\u001b[2m\u001b[36m(TrainLightGCN pid=3603591)\u001b[0m /home/daviddavo/upm-tfm-notebooks/.direnv/python-3.9/lib/python3.9/site-packages/recommenders/models/deeprec/DataModel/ImplicitCF.py:73: FutureWarning: The frame.append method is deprecated and will be removed from pandas in a future version. Use pandas.concat instead.\n",
      "\u001b[2m\u001b[36m(TrainLightGCN pid=3603591)\u001b[0m   df = train if test is None else train.append(test)\n"
     ]
    },
    {
     "name": "stdout",
     "output_type": "stream",
     "text": [
      "\u001b[2m\u001b[36m(TrainLightGCN pid=3603591)\u001b[0m Already create adjacency matrix.\n",
      "\u001b[2m\u001b[36m(TrainLightGCN pid=3603591)\u001b[0m Already normalize adjacency matrix.\n",
      "\u001b[2m\u001b[36m(TrainLightGCN pid=3603591)\u001b[0m Using xavier initialization.\n"
     ]
    },
    {
     "name": "stderr",
     "output_type": "stream",
     "text": [
      "\u001b[2m\u001b[36m(TrainLightGCN pid=3603591)\u001b[0m Trainable.setup took 52.313 seconds. If your trainable is slow to initialize, consider setting reuse_actors=True to reduce actor creation overheads.\n",
      "\u001b[2m\u001b[36m(pid=3603729)\u001b[0m 2023-11-28 19:00:50.964100: E tensorflow/compiler/xla/stream_executor/cuda/cuda_dnn.cc:9342] Unable to register cuDNN factory: Attempting to register factory for plugin cuDNN when one has already been registered\n",
      "\u001b[2m\u001b[36m(pid=3603729)\u001b[0m 2023-11-28 19:00:50.964153: E tensorflow/compiler/xla/stream_executor/cuda/cuda_fft.cc:609] Unable to register cuFFT factory: Attempting to register factory for plugin cuFFT when one has already been registered\n",
      "\u001b[2m\u001b[36m(pid=3603729)\u001b[0m 2023-11-28 19:00:50.964179: E tensorflow/compiler/xla/stream_executor/cuda/cuda_blas.cc:1518] Unable to register cuBLAS factory: Attempting to register factory for plugin cuBLAS when one has already been registered\n",
      "\u001b[2m\u001b[36m(TrainLightGCN pid=3602583)\u001b[0m Checkpoint successfully created at: Checkpoint(filesystem=local, path=/home/daviddavo/ray_results/LightGCN_dao=Decentraland,freq=1W,fold=9_2023-11-28T18:22:49.870078/TrainLightGCN_3ffe8d6d_33_batch_size=7,conv_layers=3,embedding_dim=50,fold=9,l2=0.0000,learning_rate=0.0167_2023-11-28_18-52-59/checkpoint_000000)\n",
      "\u001b[2m\u001b[36m(TrainLightGCN pid=3603729)\u001b[0m /home/daviddavo/upm-tfm-notebooks/.direnv/python-3.9/lib/python3.9/site-packages/recommenders/models/deeprec/DataModel/ImplicitCF.py:73: FutureWarning: The frame.append method is deprecated and will be removed from pandas in a future version. Use pandas.concat instead.\n",
      "\u001b[2m\u001b[36m(TrainLightGCN pid=3603729)\u001b[0m   df = train if test is None else train.append(test)\n"
     ]
    },
    {
     "name": "stdout",
     "output_type": "stream",
     "text": [
      "\u001b[2m\u001b[36m(TrainLightGCN pid=3603729)\u001b[0m Already create adjacency matrix.\n",
      "\u001b[2m\u001b[36m(TrainLightGCN pid=3603729)\u001b[0m Already normalize adjacency matrix.\n",
      "\u001b[2m\u001b[36m(TrainLightGCN pid=3603729)\u001b[0m Using xavier initialization.\n"
     ]
    },
    {
     "name": "stderr",
     "output_type": "stream",
     "text": [
      "\u001b[2m\u001b[36m(TrainLightGCN pid=3603729)\u001b[0m Trainable.setup took 33.625 seconds. If your trainable is slow to initialize, consider setting reuse_actors=True to reduce actor creation overheads.\n",
      "\u001b[2m\u001b[36m(pid=3603868)\u001b[0m 2023-11-28 19:02:01.824641: E tensorflow/compiler/xla/stream_executor/cuda/cuda_dnn.cc:9342] Unable to register cuDNN factory: Attempting to register factory for plugin cuDNN when one has already been registered\n",
      "\u001b[2m\u001b[36m(pid=3603868)\u001b[0m 2023-11-28 19:02:01.824698: E tensorflow/compiler/xla/stream_executor/cuda/cuda_fft.cc:609] Unable to register cuFFT factory: Attempting to register factory for plugin cuFFT when one has already been registered\n",
      "\u001b[2m\u001b[36m(pid=3603868)\u001b[0m 2023-11-28 19:02:01.824719: E tensorflow/compiler/xla/stream_executor/cuda/cuda_blas.cc:1518] Unable to register cuBLAS factory: Attempting to register factory for plugin cuBLAS when one has already been registered\n",
      "\u001b[2m\u001b[36m(TrainLightGCN pid=3602881)\u001b[0m Checkpoint successfully created at: Checkpoint(filesystem=local, path=/home/daviddavo/ray_results/LightGCN_dao=Decentraland,freq=1W,fold=9_2023-11-28T18:22:49.870078/TrainLightGCN_83cc9e4b_35_batch_size=7,conv_layers=5,embedding_dim=205,fold=9,l2=0.0003,learning_rate=0.1605_2023-11-28_18-55-01/checkpoint_000000)\n",
      "\u001b[2m\u001b[36m(TrainLightGCN pid=3603868)\u001b[0m /home/daviddavo/upm-tfm-notebooks/.direnv/python-3.9/lib/python3.9/site-packages/recommenders/models/deeprec/DataModel/ImplicitCF.py:73: FutureWarning: The frame.append method is deprecated and will be removed from pandas in a future version. Use pandas.concat instead.\n",
      "\u001b[2m\u001b[36m(TrainLightGCN pid=3603868)\u001b[0m   df = train if test is None else train.append(test)\n",
      "\u001b[2m\u001b[36m(TrainLightGCN pid=3603022)\u001b[0m Checkpoint successfully created at: Checkpoint(filesystem=local, path=/home/daviddavo/ray_results/LightGCN_dao=Decentraland,freq=1W,fold=9_2023-11-28T18:22:49.870078/TrainLightGCN_2364d5d4_36_batch_size=8,conv_layers=3,embedding_dim=5,fold=9,l2=0.0000,learning_rate=0.0422_2023-11-28_18-55-47/checkpoint_000000)\n"
     ]
    },
    {
     "name": "stdout",
     "output_type": "stream",
     "text": [
      "\u001b[2m\u001b[36m(TrainLightGCN pid=3603868)\u001b[0m Already create adjacency matrix.\n",
      "\u001b[2m\u001b[36m(TrainLightGCN pid=3603868)\u001b[0m Already normalize adjacency matrix.\n",
      "\u001b[2m\u001b[36m(TrainLightGCN pid=3603868)\u001b[0m Using xavier initialization.\n"
     ]
    },
    {
     "name": "stderr",
     "output_type": "stream",
     "text": [
      "\u001b[2m\u001b[36m(TrainLightGCN pid=3603868)\u001b[0m Trainable.setup took 18.228 seconds. If your trainable is slow to initialize, consider setting reuse_actors=True to reduce actor creation overheads.\n",
      "\u001b[2m\u001b[36m(pid=3604013)\u001b[0m 2023-11-28 19:02:59.121417: E tensorflow/compiler/xla/stream_executor/cuda/cuda_dnn.cc:9342] Unable to register cuDNN factory: Attempting to register factory for plugin cuDNN when one has already been registered\n",
      "\u001b[2m\u001b[36m(pid=3604013)\u001b[0m 2023-11-28 19:02:59.121479: E tensorflow/compiler/xla/stream_executor/cuda/cuda_fft.cc:609] Unable to register cuFFT factory: Attempting to register factory for plugin cuFFT when one has already been registered\n",
      "\u001b[2m\u001b[36m(pid=3604013)\u001b[0m 2023-11-28 19:02:59.121500: E tensorflow/compiler/xla/stream_executor/cuda/cuda_blas.cc:1518] Unable to register cuBLAS factory: Attempting to register factory for plugin cuBLAS when one has already been registered\n",
      "\u001b[2m\u001b[36m(TrainLightGCN pid=3604013)\u001b[0m /home/daviddavo/upm-tfm-notebooks/.direnv/python-3.9/lib/python3.9/site-packages/recommenders/models/deeprec/DataModel/ImplicitCF.py:73: FutureWarning: The frame.append method is deprecated and will be removed from pandas in a future version. Use pandas.concat instead.\n",
      "\u001b[2m\u001b[36m(TrainLightGCN pid=3604013)\u001b[0m   df = train if test is None else train.append(test)\n"
     ]
    },
    {
     "name": "stdout",
     "output_type": "stream",
     "text": [
      "\u001b[2m\u001b[36m(TrainLightGCN pid=3604013)\u001b[0m Already create adjacency matrix.\n",
      "\u001b[2m\u001b[36m(TrainLightGCN pid=3604013)\u001b[0m Already normalize adjacency matrix.\n",
      "\u001b[2m\u001b[36m(TrainLightGCN pid=3604013)\u001b[0m Using xavier initialization.\n"
     ]
    },
    {
     "name": "stderr",
     "output_type": "stream",
     "text": [
      "\u001b[2m\u001b[36m(TrainLightGCN pid=3604013)\u001b[0m Trainable.setup took 31.157 seconds. If your trainable is slow to initialize, consider setting reuse_actors=True to reduce actor creation overheads.\n",
      "\u001b[2m\u001b[36m(pid=3604148)\u001b[0m 2023-11-28 19:03:58.787085: E tensorflow/compiler/xla/stream_executor/cuda/cuda_dnn.cc:9342] Unable to register cuDNN factory: Attempting to register factory for plugin cuDNN when one has already been registered\n",
      "\u001b[2m\u001b[36m(pid=3604148)\u001b[0m 2023-11-28 19:03:58.787134: E tensorflow/compiler/xla/stream_executor/cuda/cuda_fft.cc:609] Unable to register cuFFT factory: Attempting to register factory for plugin cuFFT when one has already been registered\n",
      "\u001b[2m\u001b[36m(pid=3604148)\u001b[0m 2023-11-28 19:03:58.787151: E tensorflow/compiler/xla/stream_executor/cuda/cuda_blas.cc:1518] Unable to register cuBLAS factory: Attempting to register factory for plugin cuBLAS when one has already been registered\n",
      "\u001b[2m\u001b[36m(TrainLightGCN pid=3602735)\u001b[0m Checkpoint successfully created at: Checkpoint(filesystem=local, path=/home/daviddavo/ray_results/LightGCN_dao=Decentraland,freq=1W,fold=9_2023-11-28T18:22:49.870078/TrainLightGCN_188a7493_34_batch_size=6,conv_layers=2,embedding_dim=20,fold=9,l2=0.0000,learning_rate=0.0066_2023-11-28_18-54-04/checkpoint_000000)\n",
      "\u001b[2m\u001b[36m(TrainLightGCN pid=3603157)\u001b[0m Checkpoint successfully created at: Checkpoint(filesystem=local, path=/home/daviddavo/ray_results/LightGCN_dao=Decentraland,freq=1W,fold=9_2023-11-28T18:22:49.870078/TrainLightGCN_8fbec134_37_batch_size=7,conv_layers=1,embedding_dim=10,fold=9,l2=0.0000,learning_rate=0.0025_2023-11-28_18-56-23/checkpoint_000000)\n",
      "\u001b[2m\u001b[36m(TrainLightGCN pid=3604148)\u001b[0m /home/daviddavo/upm-tfm-notebooks/.direnv/python-3.9/lib/python3.9/site-packages/recommenders/models/deeprec/DataModel/ImplicitCF.py:73: FutureWarning: The frame.append method is deprecated and will be removed from pandas in a future version. Use pandas.concat instead.\n",
      "\u001b[2m\u001b[36m(TrainLightGCN pid=3604148)\u001b[0m   df = train if test is None else train.append(test)\n"
     ]
    },
    {
     "name": "stdout",
     "output_type": "stream",
     "text": [
      "\u001b[2m\u001b[36m(TrainLightGCN pid=3604148)\u001b[0m Already create adjacency matrix.\n",
      "\u001b[2m\u001b[36m(TrainLightGCN pid=3604148)\u001b[0m Already normalize adjacency matrix.\n",
      "\u001b[2m\u001b[36m(TrainLightGCN pid=3604148)\u001b[0m Using xavier initialization.\n"
     ]
    },
    {
     "name": "stderr",
     "output_type": "stream",
     "text": [
      "\u001b[2m\u001b[36m(TrainLightGCN pid=3604148)\u001b[0m Trainable.setup took 23.181 seconds. If your trainable is slow to initialize, consider setting reuse_actors=True to reduce actor creation overheads.\n",
      "\u001b[2m\u001b[36m(pid=3604296)\u001b[0m 2023-11-28 19:04:39.856596: E tensorflow/compiler/xla/stream_executor/cuda/cuda_dnn.cc:9342] Unable to register cuDNN factory: Attempting to register factory for plugin cuDNN when one has already been registered\n",
      "\u001b[2m\u001b[36m(pid=3604296)\u001b[0m 2023-11-28 19:04:39.856674: E tensorflow/compiler/xla/stream_executor/cuda/cuda_fft.cc:609] Unable to register cuFFT factory: Attempting to register factory for plugin cuFFT when one has already been registered\n",
      "\u001b[2m\u001b[36m(pid=3604296)\u001b[0m 2023-11-28 19:04:39.856692: E tensorflow/compiler/xla/stream_executor/cuda/cuda_blas.cc:1518] Unable to register cuBLAS factory: Attempting to register factory for plugin cuBLAS when one has already been registered\n",
      "\u001b[2m\u001b[36m(TrainLightGCN pid=3603297)\u001b[0m Checkpoint successfully created at: Checkpoint(filesystem=local, path=/home/daviddavo/ray_results/LightGCN_dao=Decentraland,freq=1W,fold=9_2023-11-28T18:22:49.870078/TrainLightGCN_8b619352_38_batch_size=9,conv_layers=3,embedding_dim=420,fold=9,l2=0.0007,learning_rate=0.0008_2023-11-28_18-57-07/checkpoint_000000)\n",
      "\u001b[2m\u001b[36m(TrainLightGCN pid=3604296)\u001b[0m /home/daviddavo/upm-tfm-notebooks/.direnv/python-3.9/lib/python3.9/site-packages/recommenders/models/deeprec/DataModel/ImplicitCF.py:73: FutureWarning: The frame.append method is deprecated and will be removed from pandas in a future version. Use pandas.concat instead.\n",
      "\u001b[2m\u001b[36m(TrainLightGCN pid=3604296)\u001b[0m   df = train if test is None else train.append(test)\n"
     ]
    },
    {
     "name": "stdout",
     "output_type": "stream",
     "text": [
      "\u001b[2m\u001b[36m(TrainLightGCN pid=3604296)\u001b[0m Already create adjacency matrix.\n",
      "\u001b[2m\u001b[36m(TrainLightGCN pid=3604296)\u001b[0m Already normalize adjacency matrix.\n",
      "\u001b[2m\u001b[36m(TrainLightGCN pid=3604296)\u001b[0m Using xavier initialization.\n"
     ]
    },
    {
     "name": "stderr",
     "output_type": "stream",
     "text": [
      "\u001b[2m\u001b[36m(TrainLightGCN pid=3604296)\u001b[0m Trainable.setup took 13.317 seconds. If your trainable is slow to initialize, consider setting reuse_actors=True to reduce actor creation overheads.\n",
      "\u001b[2m\u001b[36m(pid=3604438)\u001b[0m 2023-11-28 19:05:33.450611: E tensorflow/compiler/xla/stream_executor/cuda/cuda_dnn.cc:9342] Unable to register cuDNN factory: Attempting to register factory for plugin cuDNN when one has already been registered\n",
      "\u001b[2m\u001b[36m(pid=3604438)\u001b[0m 2023-11-28 19:05:33.450660: E tensorflow/compiler/xla/stream_executor/cuda/cuda_fft.cc:609] Unable to register cuFFT factory: Attempting to register factory for plugin cuFFT when one has already been registered\n",
      "\u001b[2m\u001b[36m(pid=3604438)\u001b[0m 2023-11-28 19:05:33.450676: E tensorflow/compiler/xla/stream_executor/cuda/cuda_blas.cc:1518] Unable to register cuBLAS factory: Attempting to register factory for plugin cuBLAS when one has already been registered\n",
      "\u001b[2m\u001b[36m(TrainLightGCN pid=3604438)\u001b[0m /home/daviddavo/upm-tfm-notebooks/.direnv/python-3.9/lib/python3.9/site-packages/recommenders/models/deeprec/DataModel/ImplicitCF.py:73: FutureWarning: The frame.append method is deprecated and will be removed from pandas in a future version. Use pandas.concat instead.\n",
      "\u001b[2m\u001b[36m(TrainLightGCN pid=3604438)\u001b[0m   df = train if test is None else train.append(test)\n"
     ]
    },
    {
     "name": "stdout",
     "output_type": "stream",
     "text": [
      "\u001b[2m\u001b[36m(TrainLightGCN pid=3604438)\u001b[0m Already create adjacency matrix.\n",
      "\u001b[2m\u001b[36m(TrainLightGCN pid=3604438)\u001b[0m Already normalize adjacency matrix.\n",
      "\u001b[2m\u001b[36m(TrainLightGCN pid=3604438)\u001b[0m Using xavier initialization.\n"
     ]
    },
    {
     "name": "stderr",
     "output_type": "stream",
     "text": [
      "\u001b[2m\u001b[36m(TrainLightGCN pid=3603591)\u001b[0m Checkpoint successfully created at: Checkpoint(filesystem=local, path=/home/daviddavo/ray_results/LightGCN_dao=Decentraland,freq=1W,fold=9_2023-11-28T18:22:49.870078/TrainLightGCN_b8e9022f_40_batch_size=8,conv_layers=3,embedding_dim=0,fold=9,l2=0.0100,learning_rate=0.0095_2023-11-28_18-59-35/checkpoint_000000)\n",
      "\u001b[2m\u001b[36m(TrainLightGCN pid=3604438)\u001b[0m Trainable.setup took 15.500 seconds. If your trainable is slow to initialize, consider setting reuse_actors=True to reduce actor creation overheads.\n",
      "\u001b[2m\u001b[36m(pid=3604580)\u001b[0m 2023-11-28 19:06:19.456628: E tensorflow/compiler/xla/stream_executor/cuda/cuda_dnn.cc:9342] Unable to register cuDNN factory: Attempting to register factory for plugin cuDNN when one has already been registered\n",
      "\u001b[2m\u001b[36m(pid=3604580)\u001b[0m 2023-11-28 19:06:19.456682: E tensorflow/compiler/xla/stream_executor/cuda/cuda_fft.cc:609] Unable to register cuFFT factory: Attempting to register factory for plugin cuFFT when one has already been registered\n",
      "\u001b[2m\u001b[36m(pid=3604580)\u001b[0m 2023-11-28 19:06:19.456701: E tensorflow/compiler/xla/stream_executor/cuda/cuda_blas.cc:1518] Unable to register cuBLAS factory: Attempting to register factory for plugin cuBLAS when one has already been registered\n",
      "\u001b[2m\u001b[36m(TrainLightGCN pid=3604580)\u001b[0m /home/daviddavo/upm-tfm-notebooks/.direnv/python-3.9/lib/python3.9/site-packages/recommenders/models/deeprec/DataModel/ImplicitCF.py:73: FutureWarning: The frame.append method is deprecated and will be removed from pandas in a future version. Use pandas.concat instead.\n",
      "\u001b[2m\u001b[36m(TrainLightGCN pid=3604580)\u001b[0m   df = train if test is None else train.append(test)\n"
     ]
    },
    {
     "name": "stdout",
     "output_type": "stream",
     "text": [
      "\u001b[2m\u001b[36m(TrainLightGCN pid=3604580)\u001b[0m Already create adjacency matrix.\n",
      "\u001b[2m\u001b[36m(TrainLightGCN pid=3604580)\u001b[0m Already normalize adjacency matrix.\n",
      "\u001b[2m\u001b[36m(TrainLightGCN pid=3604580)\u001b[0m Using xavier initialization.\n"
     ]
    },
    {
     "name": "stderr",
     "output_type": "stream",
     "text": [
      "\u001b[2m\u001b[36m(TrainLightGCN pid=3604580)\u001b[0m Trainable.setup took 29.188 seconds. If your trainable is slow to initialize, consider setting reuse_actors=True to reduce actor creation overheads.\n",
      "\u001b[2m\u001b[36m(pid=3604715)\u001b[0m 2023-11-28 19:07:12.272853: E tensorflow/compiler/xla/stream_executor/cuda/cuda_dnn.cc:9342] Unable to register cuDNN factory: Attempting to register factory for plugin cuDNN when one has already been registered\n",
      "\u001b[2m\u001b[36m(pid=3604715)\u001b[0m 2023-11-28 19:07:12.272901: E tensorflow/compiler/xla/stream_executor/cuda/cuda_fft.cc:609] Unable to register cuFFT factory: Attempting to register factory for plugin cuFFT when one has already been registered\n",
      "\u001b[2m\u001b[36m(pid=3604715)\u001b[0m 2023-11-28 19:07:12.272918: E tensorflow/compiler/xla/stream_executor/cuda/cuda_blas.cc:1518] Unable to register cuBLAS factory: Attempting to register factory for plugin cuBLAS when one has already been registered\n",
      "\u001b[2m\u001b[36m(TrainLightGCN pid=3604715)\u001b[0m /home/daviddavo/upm-tfm-notebooks/.direnv/python-3.9/lib/python3.9/site-packages/recommenders/models/deeprec/DataModel/ImplicitCF.py:73: FutureWarning: The frame.append method is deprecated and will be removed from pandas in a future version. Use pandas.concat instead.\n",
      "\u001b[2m\u001b[36m(TrainLightGCN pid=3604715)\u001b[0m   df = train if test is None else train.append(test)\n",
      "\u001b[2m\u001b[36m(TrainLightGCN pid=3603729)\u001b[0m Checkpoint successfully created at: Checkpoint(filesystem=local, path=/home/daviddavo/ray_results/LightGCN_dao=Decentraland,freq=1W,fold=9_2023-11-28T18:22:49.870078/TrainLightGCN_d4224d57_41_batch_size=7,conv_layers=1,embedding_dim=5,fold=9,l2=0.0000,learning_rate=0.0001_2023-11-28_19-00-33/checkpoint_000000)\n"
     ]
    },
    {
     "name": "stdout",
     "output_type": "stream",
     "text": [
      "\u001b[2m\u001b[36m(TrainLightGCN pid=3604715)\u001b[0m Already create adjacency matrix.\n",
      "\u001b[2m\u001b[36m(TrainLightGCN pid=3604715)\u001b[0m Already normalize adjacency matrix.\n",
      "\u001b[2m\u001b[36m(TrainLightGCN pid=3604715)\u001b[0m Using xavier initialization.\n"
     ]
    },
    {
     "name": "stderr",
     "output_type": "stream",
     "text": [
      "\u001b[2m\u001b[36m(TrainLightGCN pid=3604715)\u001b[0m Trainable.setup took 14.721 seconds. If your trainable is slow to initialize, consider setting reuse_actors=True to reduce actor creation overheads.\n",
      "\u001b[2m\u001b[36m(TrainLightGCN pid=3603441)\u001b[0m Checkpoint successfully created at: Checkpoint(filesystem=local, path=/home/daviddavo/ray_results/LightGCN_dao=Decentraland,freq=1W,fold=9_2023-11-28T18:22:49.870078/TrainLightGCN_319dc0e0_39_batch_size=6,conv_layers=2,embedding_dim=25,fold=9,l2=0.0021,learning_rate=0.0050_2023-11-28_18-58-29/checkpoint_000000)\n",
      "\u001b[2m\u001b[36m(pid=3604859)\u001b[0m 2023-11-28 19:08:09.736658: E tensorflow/compiler/xla/stream_executor/cuda/cuda_dnn.cc:9342] Unable to register cuDNN factory: Attempting to register factory for plugin cuDNN when one has already been registered\n",
      "\u001b[2m\u001b[36m(pid=3604859)\u001b[0m 2023-11-28 19:08:09.736789: E tensorflow/compiler/xla/stream_executor/cuda/cuda_fft.cc:609] Unable to register cuFFT factory: Attempting to register factory for plugin cuFFT when one has already been registered\n",
      "\u001b[2m\u001b[36m(pid=3604859)\u001b[0m 2023-11-28 19:08:09.736832: E tensorflow/compiler/xla/stream_executor/cuda/cuda_blas.cc:1518] Unable to register cuBLAS factory: Attempting to register factory for plugin cuBLAS when one has already been registered\n",
      "\u001b[2m\u001b[36m(TrainLightGCN pid=3604859)\u001b[0m /home/daviddavo/upm-tfm-notebooks/.direnv/python-3.9/lib/python3.9/site-packages/recommenders/models/deeprec/DataModel/ImplicitCF.py:73: FutureWarning: The frame.append method is deprecated and will be removed from pandas in a future version. Use pandas.concat instead.\n",
      "\u001b[2m\u001b[36m(TrainLightGCN pid=3604859)\u001b[0m   df = train if test is None else train.append(test)\n"
     ]
    },
    {
     "name": "stdout",
     "output_type": "stream",
     "text": [
      "\u001b[2m\u001b[36m(TrainLightGCN pid=3604859)\u001b[0m Already create adjacency matrix.\n",
      "\u001b[2m\u001b[36m(TrainLightGCN pid=3604859)\u001b[0m Already normalize adjacency matrix.\n",
      "\u001b[2m\u001b[36m(TrainLightGCN pid=3604859)\u001b[0m Using xavier initialization.\n"
     ]
    },
    {
     "name": "stderr",
     "output_type": "stream",
     "text": [
      "\u001b[2m\u001b[36m(TrainLightGCN pid=3604859)\u001b[0m Trainable.setup took 33.298 seconds. If your trainable is slow to initialize, consider setting reuse_actors=True to reduce actor creation overheads.\n",
      "\u001b[2m\u001b[36m(TrainLightGCN pid=3603868)\u001b[0m Checkpoint successfully created at: Checkpoint(filesystem=local, path=/home/daviddavo/ray_results/LightGCN_dao=Decentraland,freq=1W,fold=9_2023-11-28T18:22:49.870078/TrainLightGCN_33595408_42_batch_size=7,conv_layers=5,embedding_dim=135,fold=9,l2=0.0001,learning_rate=0.0184_2023-11-28_19-01-52/checkpoint_000000)\n",
      "\u001b[2m\u001b[36m(pid=3604996)\u001b[0m 2023-11-28 19:09:08.800555: E tensorflow/compiler/xla/stream_executor/cuda/cuda_dnn.cc:9342] Unable to register cuDNN factory: Attempting to register factory for plugin cuDNN when one has already been registered\n",
      "\u001b[2m\u001b[36m(pid=3604996)\u001b[0m 2023-11-28 19:09:08.800606: E tensorflow/compiler/xla/stream_executor/cuda/cuda_fft.cc:609] Unable to register cuFFT factory: Attempting to register factory for plugin cuFFT when one has already been registered\n",
      "\u001b[2m\u001b[36m(pid=3604996)\u001b[0m 2023-11-28 19:09:08.800627: E tensorflow/compiler/xla/stream_executor/cuda/cuda_blas.cc:1518] Unable to register cuBLAS factory: Attempting to register factory for plugin cuBLAS when one has already been registered\n",
      "\u001b[2m\u001b[36m(TrainLightGCN pid=3604996)\u001b[0m /home/daviddavo/upm-tfm-notebooks/.direnv/python-3.9/lib/python3.9/site-packages/recommenders/models/deeprec/DataModel/ImplicitCF.py:73: FutureWarning: The frame.append method is deprecated and will be removed from pandas in a future version. Use pandas.concat instead.\n",
      "\u001b[2m\u001b[36m(TrainLightGCN pid=3604996)\u001b[0m   df = train if test is None else train.append(test)\n"
     ]
    },
    {
     "name": "stdout",
     "output_type": "stream",
     "text": [
      "\u001b[2m\u001b[36m(TrainLightGCN pid=3604996)\u001b[0m Already create adjacency matrix.\n",
      "\u001b[2m\u001b[36m(TrainLightGCN pid=3604996)\u001b[0m Already normalize adjacency matrix.\n",
      "\u001b[2m\u001b[36m(TrainLightGCN pid=3604996)\u001b[0m Using xavier initialization.\n"
     ]
    },
    {
     "name": "stderr",
     "output_type": "stream",
     "text": [
      "\u001b[2m\u001b[36m(TrainLightGCN pid=3604996)\u001b[0m Trainable.setup took 27.367 seconds. If your trainable is slow to initialize, consider setting reuse_actors=True to reduce actor creation overheads.\n",
      "\u001b[2m\u001b[36m(pid=3605138)\u001b[0m 2023-11-28 19:09:57.861460: E tensorflow/compiler/xla/stream_executor/cuda/cuda_dnn.cc:9342] Unable to register cuDNN factory: Attempting to register factory for plugin cuDNN when one has already been registered\n",
      "\u001b[2m\u001b[36m(pid=3605138)\u001b[0m 2023-11-28 19:09:57.862643: E tensorflow/compiler/xla/stream_executor/cuda/cuda_fft.cc:609] Unable to register cuFFT factory: Attempting to register factory for plugin cuFFT when one has already been registered\n",
      "\u001b[2m\u001b[36m(pid=3605138)\u001b[0m 2023-11-28 19:09:57.862691: E tensorflow/compiler/xla/stream_executor/cuda/cuda_blas.cc:1518] Unable to register cuBLAS factory: Attempting to register factory for plugin cuBLAS when one has already been registered\n",
      "\u001b[2m\u001b[36m(TrainLightGCN pid=3604148)\u001b[0m Checkpoint successfully created at: Checkpoint(filesystem=local, path=/home/daviddavo/ray_results/LightGCN_dao=Decentraland,freq=1W,fold=9_2023-11-28T18:22:49.870078/TrainLightGCN_568a9907_44_batch_size=9,conv_layers=4,embedding_dim=290,fold=9,l2=0.0000,learning_rate=0.2980_2023-11-28_19-03-33/checkpoint_000000)\n",
      "\u001b[2m\u001b[36m(TrainLightGCN pid=3604013)\u001b[0m Checkpoint successfully created at: Checkpoint(filesystem=local, path=/home/daviddavo/ray_results/LightGCN_dao=Decentraland,freq=1W,fold=9_2023-11-28T18:22:49.870078/TrainLightGCN_69e3ce8d_43_batch_size=8,conv_layers=4,embedding_dim=55,fold=9,l2=0.0049,learning_rate=0.1358_2023-11-28_19-02-44/checkpoint_000000)\n",
      "\u001b[2m\u001b[36m(TrainLightGCN pid=3605138)\u001b[0m /home/daviddavo/upm-tfm-notebooks/.direnv/python-3.9/lib/python3.9/site-packages/recommenders/models/deeprec/DataModel/ImplicitCF.py:73: FutureWarning: The frame.append method is deprecated and will be removed from pandas in a future version. Use pandas.concat instead.\n",
      "\u001b[2m\u001b[36m(TrainLightGCN pid=3605138)\u001b[0m   df = train if test is None else train.append(test)\n"
     ]
    },
    {
     "name": "stdout",
     "output_type": "stream",
     "text": [
      "\u001b[2m\u001b[36m(TrainLightGCN pid=3605138)\u001b[0m Already create adjacency matrix.\n",
      "\u001b[2m\u001b[36m(TrainLightGCN pid=3605138)\u001b[0m Already normalize adjacency matrix.\n",
      "\u001b[2m\u001b[36m(TrainLightGCN pid=3605138)\u001b[0m Using xavier initialization.\n"
     ]
    },
    {
     "name": "stderr",
     "output_type": "stream",
     "text": [
      "\u001b[2m\u001b[36m(TrainLightGCN pid=3605138)\u001b[0m Trainable.setup took 33.319 seconds. If your trainable is slow to initialize, consider setting reuse_actors=True to reduce actor creation overheads.\n",
      "\u001b[2m\u001b[36m(TrainLightGCN pid=3604296)\u001b[0m Checkpoint successfully created at: Checkpoint(filesystem=local, path=/home/daviddavo/ray_results/LightGCN_dao=Decentraland,freq=1W,fold=9_2023-11-28T18:22:49.870078/TrainLightGCN_7a1714f5_45_batch_size=7,conv_layers=3,embedding_dim=75,fold=9,l2=0.0000,learning_rate=0.0507_2023-11-28_19-04-33/checkpoint_000000)\n",
      "\u001b[2m\u001b[36m(pid=3605285)\u001b[0m 2023-11-28 19:11:11.575091: E tensorflow/compiler/xla/stream_executor/cuda/cuda_dnn.cc:9342] Unable to register cuDNN factory: Attempting to register factory for plugin cuDNN when one has already been registered\n",
      "\u001b[2m\u001b[36m(pid=3605285)\u001b[0m 2023-11-28 19:11:11.575137: E tensorflow/compiler/xla/stream_executor/cuda/cuda_fft.cc:609] Unable to register cuFFT factory: Attempting to register factory for plugin cuFFT when one has already been registered\n",
      "\u001b[2m\u001b[36m(pid=3605285)\u001b[0m 2023-11-28 19:11:11.575154: E tensorflow/compiler/xla/stream_executor/cuda/cuda_blas.cc:1518] Unable to register cuBLAS factory: Attempting to register factory for plugin cuBLAS when one has already been registered\n",
      "\u001b[2m\u001b[36m(TrainLightGCN pid=3605285)\u001b[0m /home/daviddavo/upm-tfm-notebooks/.direnv/python-3.9/lib/python3.9/site-packages/recommenders/models/deeprec/DataModel/ImplicitCF.py:73: FutureWarning: The frame.append method is deprecated and will be removed from pandas in a future version. Use pandas.concat instead.\n",
      "\u001b[2m\u001b[36m(TrainLightGCN pid=3605285)\u001b[0m   df = train if test is None else train.append(test)\n"
     ]
    },
    {
     "name": "stdout",
     "output_type": "stream",
     "text": [
      "\u001b[2m\u001b[36m(TrainLightGCN pid=3605285)\u001b[0m Already create adjacency matrix.\n",
      "\u001b[2m\u001b[36m(TrainLightGCN pid=3605285)\u001b[0m Already normalize adjacency matrix.\n",
      "\u001b[2m\u001b[36m(TrainLightGCN pid=3605285)\u001b[0m Using xavier initialization.\n"
     ]
    },
    {
     "name": "stderr",
     "output_type": "stream",
     "text": [
      "\u001b[2m\u001b[36m(pid=3605423)\u001b[0m 2023-11-28 19:11:46.661130: E tensorflow/compiler/xla/stream_executor/cuda/cuda_dnn.cc:9342] Unable to register cuDNN factory: Attempting to register factory for plugin cuDNN when one has already been registered\n",
      "\u001b[2m\u001b[36m(pid=3605423)\u001b[0m 2023-11-28 19:11:46.661185: E tensorflow/compiler/xla/stream_executor/cuda/cuda_fft.cc:609] Unable to register cuFFT factory: Attempting to register factory for plugin cuFFT when one has already been registered\n",
      "\u001b[2m\u001b[36m(pid=3605423)\u001b[0m 2023-11-28 19:11:46.661211: E tensorflow/compiler/xla/stream_executor/cuda/cuda_blas.cc:1518] Unable to register cuBLAS factory: Attempting to register factory for plugin cuBLAS when one has already been registered\n",
      "\u001b[2m\u001b[36m(TrainLightGCN pid=3605423)\u001b[0m /home/daviddavo/upm-tfm-notebooks/.direnv/python-3.9/lib/python3.9/site-packages/recommenders/models/deeprec/DataModel/ImplicitCF.py:73: FutureWarning: The frame.append method is deprecated and will be removed from pandas in a future version. Use pandas.concat instead.\n",
      "\u001b[2m\u001b[36m(TrainLightGCN pid=3605423)\u001b[0m   df = train if test is None else train.append(test)\n"
     ]
    },
    {
     "name": "stdout",
     "output_type": "stream",
     "text": [
      "\u001b[2m\u001b[36m(TrainLightGCN pid=3605423)\u001b[0m Already create adjacency matrix.\n",
      "\u001b[2m\u001b[36m(TrainLightGCN pid=3605423)\u001b[0m Already normalize adjacency matrix.\n",
      "\u001b[2m\u001b[36m(TrainLightGCN pid=3605423)\u001b[0m Using xavier initialization.\n"
     ]
    },
    {
     "name": "stderr",
     "output_type": "stream",
     "text": [
      "\u001b[2m\u001b[36m(TrainLightGCN pid=3605423)\u001b[0m Trainable.setup took 16.727 seconds. If your trainable is slow to initialize, consider setting reuse_actors=True to reduce actor creation overheads.\n",
      "\u001b[2m\u001b[36m(pid=3605557)\u001b[0m 2023-11-28 19:12:33.198484: E tensorflow/compiler/xla/stream_executor/cuda/cuda_dnn.cc:9342] Unable to register cuDNN factory: Attempting to register factory for plugin cuDNN when one has already been registered\n",
      "\u001b[2m\u001b[36m(pid=3605557)\u001b[0m 2023-11-28 19:12:33.198532: E tensorflow/compiler/xla/stream_executor/cuda/cuda_fft.cc:609] Unable to register cuFFT factory: Attempting to register factory for plugin cuFFT when one has already been registered\n",
      "\u001b[2m\u001b[36m(pid=3605557)\u001b[0m 2023-11-28 19:12:33.198549: E tensorflow/compiler/xla/stream_executor/cuda/cuda_blas.cc:1518] Unable to register cuBLAS factory: Attempting to register factory for plugin cuBLAS when one has already been registered\n",
      "\u001b[2m\u001b[36m(TrainLightGCN pid=3605557)\u001b[0m /home/daviddavo/upm-tfm-notebooks/.direnv/python-3.9/lib/python3.9/site-packages/recommenders/models/deeprec/DataModel/ImplicitCF.py:73: FutureWarning: The frame.append method is deprecated and will be removed from pandas in a future version. Use pandas.concat instead.\n",
      "\u001b[2m\u001b[36m(TrainLightGCN pid=3605557)\u001b[0m   df = train if test is None else train.append(test)\n"
     ]
    },
    {
     "name": "stdout",
     "output_type": "stream",
     "text": [
      "\u001b[2m\u001b[36m(TrainLightGCN pid=3605557)\u001b[0m Already create adjacency matrix.\n",
      "\u001b[2m\u001b[36m(TrainLightGCN pid=3605557)\u001b[0m Already normalize adjacency matrix.\n",
      "\u001b[2m\u001b[36m(TrainLightGCN pid=3605557)\u001b[0m Using xavier initialization.\n"
     ]
    },
    {
     "name": "stderr",
     "output_type": "stream",
     "text": [
      "\u001b[2m\u001b[36m(TrainLightGCN pid=3605557)\u001b[0m Trainable.setup took 26.369 seconds. If your trainable is slow to initialize, consider setting reuse_actors=True to reduce actor creation overheads.\n",
      "\u001b[2m\u001b[36m(pid=3605693)\u001b[0m 2023-11-28 19:13:20.608829: E tensorflow/compiler/xla/stream_executor/cuda/cuda_dnn.cc:9342] Unable to register cuDNN factory: Attempting to register factory for plugin cuDNN when one has already been registered\n",
      "\u001b[2m\u001b[36m(pid=3605693)\u001b[0m 2023-11-28 19:13:20.608878: E tensorflow/compiler/xla/stream_executor/cuda/cuda_fft.cc:609] Unable to register cuFFT factory: Attempting to register factory for plugin cuFFT when one has already been registered\n",
      "\u001b[2m\u001b[36m(pid=3605693)\u001b[0m 2023-11-28 19:13:20.608899: E tensorflow/compiler/xla/stream_executor/cuda/cuda_blas.cc:1518] Unable to register cuBLAS factory: Attempting to register factory for plugin cuBLAS when one has already been registered\n",
      "\u001b[2m\u001b[36m(TrainLightGCN pid=3605693)\u001b[0m /home/daviddavo/upm-tfm-notebooks/.direnv/python-3.9/lib/python3.9/site-packages/recommenders/models/deeprec/DataModel/ImplicitCF.py:73: FutureWarning: The frame.append method is deprecated and will be removed from pandas in a future version. Use pandas.concat instead.\n",
      "\u001b[2m\u001b[36m(TrainLightGCN pid=3605693)\u001b[0m   df = train if test is None else train.append(test)\n"
     ]
    },
    {
     "name": "stdout",
     "output_type": "stream",
     "text": [
      "\u001b[2m\u001b[36m(TrainLightGCN pid=3605693)\u001b[0m Already create adjacency matrix.\n",
      "\u001b[2m\u001b[36m(TrainLightGCN pid=3605693)\u001b[0m Already normalize adjacency matrix.\n",
      "\u001b[2m\u001b[36m(TrainLightGCN pid=3605693)\u001b[0m Using xavier initialization.\n"
     ]
    },
    {
     "name": "stderr",
     "output_type": "stream",
     "text": [
      "\u001b[2m\u001b[36m(TrainLightGCN pid=3604438)\u001b[0m Checkpoint successfully created at: Checkpoint(filesystem=local, path=/home/daviddavo/ray_results/LightGCN_dao=Decentraland,freq=1W,fold=9_2023-11-28T18:22:49.870078/TrainLightGCN_05a7157e_46_batch_size=7,conv_layers=4,embedding_dim=5,fold=9,l2=0.0000,learning_rate=0.0002_2023-11-28_19-05-09/checkpoint_000000)\n",
      "\u001b[2m\u001b[36m(TrainLightGCN pid=3604715)\u001b[0m Checkpoint successfully created at: Checkpoint(filesystem=local, path=/home/daviddavo/ray_results/LightGCN_dao=Decentraland,freq=1W,fold=9_2023-11-28T18:22:49.870078/TrainLightGCN_7be39043_48_batch_size=9,conv_layers=2,embedding_dim=155,fold=9,l2=0.0000,learning_rate=0.0120_2023-11-28_19-06-57/checkpoint_000000)\n",
      "\u001b[2m\u001b[36m(TrainLightGCN pid=3605693)\u001b[0m Trainable.setup took 34.447 seconds. If your trainable is slow to initialize, consider setting reuse_actors=True to reduce actor creation overheads.\n",
      "\u001b[2m\u001b[36m(pid=3605838)\u001b[0m 2023-11-28 19:14:16.234609: E tensorflow/compiler/xla/stream_executor/cuda/cuda_dnn.cc:9342] Unable to register cuDNN factory: Attempting to register factory for plugin cuDNN when one has already been registered\n",
      "\u001b[2m\u001b[36m(pid=3605838)\u001b[0m 2023-11-28 19:14:16.234659: E tensorflow/compiler/xla/stream_executor/cuda/cuda_fft.cc:609] Unable to register cuFFT factory: Attempting to register factory for plugin cuFFT when one has already been registered\n",
      "\u001b[2m\u001b[36m(pid=3605838)\u001b[0m 2023-11-28 19:14:16.234679: E tensorflow/compiler/xla/stream_executor/cuda/cuda_blas.cc:1518] Unable to register cuBLAS factory: Attempting to register factory for plugin cuBLAS when one has already been registered\n",
      "\u001b[2m\u001b[36m(TrainLightGCN pid=3604580)\u001b[0m Checkpoint successfully created at: Checkpoint(filesystem=local, path=/home/daviddavo/ray_results/LightGCN_dao=Decentraland,freq=1W,fold=9_2023-11-28T18:22:49.870078/TrainLightGCN_35e6d606_47_batch_size=6,conv_layers=4,embedding_dim=605,fold=9,l2=0.0026,learning_rate=0.0008_2023-11-28_19-06-13/checkpoint_000000)\n",
      "\u001b[2m\u001b[36m(TrainLightGCN pid=3605838)\u001b[0m /home/daviddavo/upm-tfm-notebooks/.direnv/python-3.9/lib/python3.9/site-packages/recommenders/models/deeprec/DataModel/ImplicitCF.py:73: FutureWarning: The frame.append method is deprecated and will be removed from pandas in a future version. Use pandas.concat instead.\n",
      "\u001b[2m\u001b[36m(TrainLightGCN pid=3605838)\u001b[0m   df = train if test is None else train.append(test)\n",
      "\u001b[2m\u001b[36m(TrainLightGCN pid=3604859)\u001b[0m Checkpoint successfully created at: Checkpoint(filesystem=local, path=/home/daviddavo/ray_results/LightGCN_dao=Decentraland,freq=1W,fold=9_2023-11-28T18:22:49.870078/TrainLightGCN_e70b3b8e_49_batch_size=8,conv_layers=5,embedding_dim=35,fold=9,l2=0.0006,learning_rate=0.2976_2023-11-28_19-07-48/checkpoint_000000)\n"
     ]
    },
    {
     "name": "stdout",
     "output_type": "stream",
     "text": [
      "\u001b[2m\u001b[36m(TrainLightGCN pid=3605838)\u001b[0m Already create adjacency matrix.\n",
      "\u001b[2m\u001b[36m(TrainLightGCN pid=3605838)\u001b[0m Already normalize adjacency matrix.\n",
      "\u001b[2m\u001b[36m(TrainLightGCN pid=3605838)\u001b[0m Using xavier initialization.\n"
     ]
    },
    {
     "name": "stderr",
     "output_type": "stream",
     "text": [
      "\u001b[2m\u001b[36m(TrainLightGCN pid=3605838)\u001b[0m Trainable.setup took 33.152 seconds. If your trainable is slow to initialize, consider setting reuse_actors=True to reduce actor creation overheads.\n",
      "\u001b[2m\u001b[36m(pid=3605985)\u001b[0m 2023-11-28 19:15:04.151220: E tensorflow/compiler/xla/stream_executor/cuda/cuda_dnn.cc:9342] Unable to register cuDNN factory: Attempting to register factory for plugin cuDNN when one has already been registered\n",
      "\u001b[2m\u001b[36m(pid=3605985)\u001b[0m 2023-11-28 19:15:04.151272: E tensorflow/compiler/xla/stream_executor/cuda/cuda_fft.cc:609] Unable to register cuFFT factory: Attempting to register factory for plugin cuFFT when one has already been registered\n",
      "\u001b[2m\u001b[36m(pid=3605985)\u001b[0m 2023-11-28 19:15:04.151289: E tensorflow/compiler/xla/stream_executor/cuda/cuda_blas.cc:1518] Unable to register cuBLAS factory: Attempting to register factory for plugin cuBLAS when one has already been registered\n",
      "\u001b[2m\u001b[36m(TrainLightGCN pid=3605985)\u001b[0m /home/daviddavo/upm-tfm-notebooks/.direnv/python-3.9/lib/python3.9/site-packages/recommenders/models/deeprec/DataModel/ImplicitCF.py:73: FutureWarning: The frame.append method is deprecated and will be removed from pandas in a future version. Use pandas.concat instead.\n",
      "\u001b[2m\u001b[36m(TrainLightGCN pid=3605985)\u001b[0m   df = train if test is None else train.append(test)\n"
     ]
    },
    {
     "name": "stdout",
     "output_type": "stream",
     "text": [
      "\u001b[2m\u001b[36m(TrainLightGCN pid=3605985)\u001b[0m Already create adjacency matrix.\n",
      "\u001b[2m\u001b[36m(TrainLightGCN pid=3605985)\u001b[0m Already normalize adjacency matrix.\n",
      "\u001b[2m\u001b[36m(TrainLightGCN pid=3605985)\u001b[0m Using xavier initialization.\n"
     ]
    },
    {
     "name": "stderr",
     "output_type": "stream",
     "text": [
      "\u001b[2m\u001b[36m(TrainLightGCN pid=3605985)\u001b[0m Trainable.setup took 13.289 seconds. If your trainable is slow to initialize, consider setting reuse_actors=True to reduce actor creation overheads.\n",
      "\u001b[2m\u001b[36m(pid=3606120)\u001b[0m 2023-11-28 19:16:07.417986: E tensorflow/compiler/xla/stream_executor/cuda/cuda_dnn.cc:9342] Unable to register cuDNN factory: Attempting to register factory for plugin cuDNN when one has already been registered\n",
      "\u001b[2m\u001b[36m(pid=3606120)\u001b[0m 2023-11-28 19:16:07.418035: E tensorflow/compiler/xla/stream_executor/cuda/cuda_fft.cc:609] Unable to register cuFFT factory: Attempting to register factory for plugin cuFFT when one has already been registered\n",
      "\u001b[2m\u001b[36m(pid=3606120)\u001b[0m 2023-11-28 19:16:07.418052: E tensorflow/compiler/xla/stream_executor/cuda/cuda_blas.cc:1518] Unable to register cuBLAS factory: Attempting to register factory for plugin cuBLAS when one has already been registered\n",
      "\u001b[2m\u001b[36m(TrainLightGCN pid=3604996)\u001b[0m Checkpoint successfully created at: Checkpoint(filesystem=local, path=/home/daviddavo/ray_results/LightGCN_dao=Decentraland,freq=1W,fold=9_2023-11-28T18:22:49.870078/TrainLightGCN_60c3c071_50_batch_size=7,conv_layers=1,embedding_dim=95,fold=9,l2=0.0012,learning_rate=0.0019_2023-11-28_19-08-56/checkpoint_000000)\n",
      "\u001b[2m\u001b[36m(TrainLightGCN pid=3606120)\u001b[0m /home/daviddavo/upm-tfm-notebooks/.direnv/python-3.9/lib/python3.9/site-packages/recommenders/models/deeprec/DataModel/ImplicitCF.py:73: FutureWarning: The frame.append method is deprecated and will be removed from pandas in a future version. Use pandas.concat instead.\n",
      "\u001b[2m\u001b[36m(TrainLightGCN pid=3606120)\u001b[0m   df = train if test is None else train.append(test)\n"
     ]
    },
    {
     "name": "stdout",
     "output_type": "stream",
     "text": [
      "\u001b[2m\u001b[36m(TrainLightGCN pid=3606120)\u001b[0m Already create adjacency matrix.\n",
      "\u001b[2m\u001b[36m(TrainLightGCN pid=3606120)\u001b[0m Already normalize adjacency matrix.\n",
      "\u001b[2m\u001b[36m(TrainLightGCN pid=3606120)\u001b[0m Using xavier initialization.\n"
     ]
    },
    {
     "name": "stderr",
     "output_type": "stream",
     "text": [
      "\u001b[2m\u001b[36m(TrainLightGCN pid=3606120)\u001b[0m Trainable.setup took 33.286 seconds. If your trainable is slow to initialize, consider setting reuse_actors=True to reduce actor creation overheads.\n",
      "\u001b[2m\u001b[36m(TrainLightGCN pid=3605138)\u001b[0m Checkpoint successfully created at: Checkpoint(filesystem=local, path=/home/daviddavo/ray_results/LightGCN_dao=Decentraland,freq=1W,fold=9_2023-11-28T18:22:49.870078/TrainLightGCN_a1dc48aa_51_batch_size=7,conv_layers=3,embedding_dim=0,fold=9,l2=0.0000,learning_rate=0.0217_2023-11-28_19-09-44/checkpoint_000000)\n",
      "\u001b[2m\u001b[36m(pid=3606266)\u001b[0m 2023-11-28 19:17:08.504379: E tensorflow/compiler/xla/stream_executor/cuda/cuda_dnn.cc:9342] Unable to register cuDNN factory: Attempting to register factory for plugin cuDNN when one has already been registered\n",
      "\u001b[2m\u001b[36m(pid=3606266)\u001b[0m 2023-11-28 19:17:08.504439: E tensorflow/compiler/xla/stream_executor/cuda/cuda_fft.cc:609] Unable to register cuFFT factory: Attempting to register factory for plugin cuFFT when one has already been registered\n",
      "\u001b[2m\u001b[36m(pid=3606266)\u001b[0m 2023-11-28 19:17:08.504476: E tensorflow/compiler/xla/stream_executor/cuda/cuda_blas.cc:1518] Unable to register cuBLAS factory: Attempting to register factory for plugin cuBLAS when one has already been registered\n",
      "\u001b[2m\u001b[36m(TrainLightGCN pid=3606266)\u001b[0m /home/daviddavo/upm-tfm-notebooks/.direnv/python-3.9/lib/python3.9/site-packages/recommenders/models/deeprec/DataModel/ImplicitCF.py:73: FutureWarning: The frame.append method is deprecated and will be removed from pandas in a future version. Use pandas.concat instead.\n",
      "\u001b[2m\u001b[36m(TrainLightGCN pid=3606266)\u001b[0m   df = train if test is None else train.append(test)\n"
     ]
    },
    {
     "name": "stdout",
     "output_type": "stream",
     "text": [
      "\u001b[2m\u001b[36m(TrainLightGCN pid=3606266)\u001b[0m Already create adjacency matrix.\n",
      "\u001b[2m\u001b[36m(TrainLightGCN pid=3606266)\u001b[0m Already normalize adjacency matrix.\n",
      "\u001b[2m\u001b[36m(TrainLightGCN pid=3606266)\u001b[0m Using xavier initialization.\n"
     ]
    },
    {
     "name": "stderr",
     "output_type": "stream",
     "text": [
      "\u001b[2m\u001b[36m(TrainLightGCN pid=3605285)\u001b[0m Checkpoint successfully created at: Checkpoint(filesystem=local, path=/home/daviddavo/ray_results/LightGCN_dao=Decentraland,freq=1W,fold=9_2023-11-28T18:22:49.870078/TrainLightGCN_154df8d3_52_batch_size=6,conv_layers=4,embedding_dim=10,fold=9,l2=0.0001,learning_rate=0.0047_2023-11-28_19-10-54/checkpoint_000000)\n",
      "\u001b[2m\u001b[36m(TrainLightGCN pid=3606266)\u001b[0m Trainable.setup took 34.319 seconds. If your trainable is slow to initialize, consider setting reuse_actors=True to reduce actor creation overheads.\n",
      "\u001b[2m\u001b[36m(pid=3606411)\u001b[0m 2023-11-28 19:18:05.506717: E tensorflow/compiler/xla/stream_executor/cuda/cuda_dnn.cc:9342] Unable to register cuDNN factory: Attempting to register factory for plugin cuDNN when one has already been registered\n",
      "\u001b[2m\u001b[36m(pid=3606411)\u001b[0m 2023-11-28 19:18:05.506773: E tensorflow/compiler/xla/stream_executor/cuda/cuda_fft.cc:609] Unable to register cuFFT factory: Attempting to register factory for plugin cuFFT when one has already been registered\n",
      "\u001b[2m\u001b[36m(pid=3606411)\u001b[0m 2023-11-28 19:18:05.506797: E tensorflow/compiler/xla/stream_executor/cuda/cuda_blas.cc:1518] Unable to register cuBLAS factory: Attempting to register factory for plugin cuBLAS when one has already been registered\n",
      "\u001b[2m\u001b[36m(TrainLightGCN pid=3605423)\u001b[0m Checkpoint successfully created at: Checkpoint(filesystem=local, path=/home/daviddavo/ray_results/LightGCN_dao=Decentraland,freq=1W,fold=9_2023-11-28T18:22:49.870078/TrainLightGCN_f7fb5f32_53_batch_size=8,conv_layers=3,embedding_dim=70,fold=9,l2=0.0000,learning_rate=0.6845_2023-11-28_19-11-33/checkpoint_000000)\n",
      "\u001b[2m\u001b[36m(TrainLightGCN pid=3606411)\u001b[0m /home/daviddavo/upm-tfm-notebooks/.direnv/python-3.9/lib/python3.9/site-packages/recommenders/models/deeprec/DataModel/ImplicitCF.py:73: FutureWarning: The frame.append method is deprecated and will be removed from pandas in a future version. Use pandas.concat instead.\n",
      "\u001b[2m\u001b[36m(TrainLightGCN pid=3606411)\u001b[0m   df = train if test is None else train.append(test)\n"
     ]
    },
    {
     "name": "stdout",
     "output_type": "stream",
     "text": [
      "\u001b[2m\u001b[36m(TrainLightGCN pid=3606411)\u001b[0m Already create adjacency matrix.\n",
      "\u001b[2m\u001b[36m(TrainLightGCN pid=3606411)\u001b[0m Already normalize adjacency matrix.\n",
      "\u001b[2m\u001b[36m(TrainLightGCN pid=3606411)\u001b[0m Using xavier initialization.\n"
     ]
    },
    {
     "name": "stderr",
     "output_type": "stream",
     "text": [
      "\u001b[2m\u001b[36m(TrainLightGCN pid=3606411)\u001b[0m Trainable.setup took 23.944 seconds. If your trainable is slow to initialize, consider setting reuse_actors=True to reduce actor creation overheads.\n",
      "\u001b[2m\u001b[36m(pid=3606550)\u001b[0m 2023-11-28 19:19:07.553802: E tensorflow/compiler/xla/stream_executor/cuda/cuda_dnn.cc:9342] Unable to register cuDNN factory: Attempting to register factory for plugin cuDNN when one has already been registered\n",
      "\u001b[2m\u001b[36m(pid=3606550)\u001b[0m 2023-11-28 19:19:07.553855: E tensorflow/compiler/xla/stream_executor/cuda/cuda_fft.cc:609] Unable to register cuFFT factory: Attempting to register factory for plugin cuFFT when one has already been registered\n",
      "\u001b[2m\u001b[36m(pid=3606550)\u001b[0m 2023-11-28 19:19:07.553869: E tensorflow/compiler/xla/stream_executor/cuda/cuda_blas.cc:1518] Unable to register cuBLAS factory: Attempting to register factory for plugin cuBLAS when one has already been registered\n",
      "\u001b[2m\u001b[36m(TrainLightGCN pid=3605557)\u001b[0m Checkpoint successfully created at: Checkpoint(filesystem=local, path=/home/daviddavo/ray_results/LightGCN_dao=Decentraland,freq=1W,fold=9_2023-11-28T18:22:49.870078/TrainLightGCN_6655243c_54_batch_size=7,conv_layers=2,embedding_dim=60,fold=9,l2=0.0000,learning_rate=0.0451_2023-11-28_19-12-18/checkpoint_000000)\n",
      "\u001b[2m\u001b[36m(TrainLightGCN pid=3606550)\u001b[0m /home/daviddavo/upm-tfm-notebooks/.direnv/python-3.9/lib/python3.9/site-packages/recommenders/models/deeprec/DataModel/ImplicitCF.py:73: FutureWarning: The frame.append method is deprecated and will be removed from pandas in a future version. Use pandas.concat instead.\n",
      "\u001b[2m\u001b[36m(TrainLightGCN pid=3606550)\u001b[0m   df = train if test is None else train.append(test)\n"
     ]
    },
    {
     "name": "stdout",
     "output_type": "stream",
     "text": [
      "\u001b[2m\u001b[36m(TrainLightGCN pid=3606550)\u001b[0m Already create adjacency matrix.\n",
      "\u001b[2m\u001b[36m(TrainLightGCN pid=3606550)\u001b[0m Already normalize adjacency matrix.\n",
      "\u001b[2m\u001b[36m(TrainLightGCN pid=3606550)\u001b[0m Using xavier initialization.\n"
     ]
    },
    {
     "name": "stderr",
     "output_type": "stream",
     "text": [
      "\u001b[2m\u001b[36m(TrainLightGCN pid=3606550)\u001b[0m Trainable.setup took 38.432 seconds. If your trainable is slow to initialize, consider setting reuse_actors=True to reduce actor creation overheads.\n",
      "\u001b[2m\u001b[36m(pid=3606691)\u001b[0m 2023-11-28 19:19:58.057648: E tensorflow/compiler/xla/stream_executor/cuda/cuda_dnn.cc:9342] Unable to register cuDNN factory: Attempting to register factory for plugin cuDNN when one has already been registered\n",
      "\u001b[2m\u001b[36m(pid=3606691)\u001b[0m 2023-11-28 19:19:58.057695: E tensorflow/compiler/xla/stream_executor/cuda/cuda_fft.cc:609] Unable to register cuFFT factory: Attempting to register factory for plugin cuFFT when one has already been registered\n",
      "\u001b[2m\u001b[36m(pid=3606691)\u001b[0m 2023-11-28 19:19:58.057711: E tensorflow/compiler/xla/stream_executor/cuda/cuda_blas.cc:1518] Unable to register cuBLAS factory: Attempting to register factory for plugin cuBLAS when one has already been registered\n",
      "\u001b[2m\u001b[36m(TrainLightGCN pid=3606691)\u001b[0m /home/daviddavo/upm-tfm-notebooks/.direnv/python-3.9/lib/python3.9/site-packages/recommenders/models/deeprec/DataModel/ImplicitCF.py:73: FutureWarning: The frame.append method is deprecated and will be removed from pandas in a future version. Use pandas.concat instead.\n",
      "\u001b[2m\u001b[36m(TrainLightGCN pid=3606691)\u001b[0m   df = train if test is None else train.append(test)\n",
      "\u001b[2m\u001b[36m(TrainLightGCN pid=3605838)\u001b[0m Checkpoint successfully created at: Checkpoint(filesystem=local, path=/home/daviddavo/ray_results/LightGCN_dao=Decentraland,freq=1W,fold=9_2023-11-28T18:22:49.870078/TrainLightGCN_2eed4097_56_batch_size=8,conv_layers=3,embedding_dim=30,fold=9,l2=0.0000,learning_rate=0.0969_2023-11-28_19-14-04/checkpoint_000000)\n"
     ]
    },
    {
     "name": "stdout",
     "output_type": "stream",
     "text": [
      "\u001b[2m\u001b[36m(TrainLightGCN pid=3606691)\u001b[0m Already create adjacency matrix.\n",
      "\u001b[2m\u001b[36m(TrainLightGCN pid=3606691)\u001b[0m Already normalize adjacency matrix.\n",
      "\u001b[2m\u001b[36m(TrainLightGCN pid=3606691)\u001b[0m Using xavier initialization.\n"
     ]
    },
    {
     "name": "stderr",
     "output_type": "stream",
     "text": [
      "\u001b[2m\u001b[36m(TrainLightGCN pid=3606691)\u001b[0m Trainable.setup took 18.790 seconds. If your trainable is slow to initialize, consider setting reuse_actors=True to reduce actor creation overheads.\n",
      "\u001b[2m\u001b[36m(pid=3606830)\u001b[0m 2023-11-28 19:20:59.454982: E tensorflow/compiler/xla/stream_executor/cuda/cuda_dnn.cc:9342] Unable to register cuDNN factory: Attempting to register factory for plugin cuDNN when one has already been registered\n",
      "\u001b[2m\u001b[36m(pid=3606830)\u001b[0m 2023-11-28 19:20:59.455031: E tensorflow/compiler/xla/stream_executor/cuda/cuda_fft.cc:609] Unable to register cuFFT factory: Attempting to register factory for plugin cuFFT when one has already been registered\n",
      "\u001b[2m\u001b[36m(pid=3606830)\u001b[0m 2023-11-28 19:20:59.455049: E tensorflow/compiler/xla/stream_executor/cuda/cuda_blas.cc:1518] Unable to register cuBLAS factory: Attempting to register factory for plugin cuBLAS when one has already been registered\n",
      "\u001b[2m\u001b[36m(TrainLightGCN pid=3605985)\u001b[0m Checkpoint successfully created at: Checkpoint(filesystem=local, path=/home/daviddavo/ray_results/LightGCN_dao=Decentraland,freq=1W,fold=9_2023-11-28T18:22:49.870078/TrainLightGCN_088e79a3_57_batch_size=9,conv_layers=1,embedding_dim=5,fold=9,l2=0.0000,learning_rate=0.0494_2023-11-28_19-14-59/checkpoint_000000)\n",
      "\u001b[2m\u001b[36m(TrainLightGCN pid=3606830)\u001b[0m /home/daviddavo/upm-tfm-notebooks/.direnv/python-3.9/lib/python3.9/site-packages/recommenders/models/deeprec/DataModel/ImplicitCF.py:73: FutureWarning: The frame.append method is deprecated and will be removed from pandas in a future version. Use pandas.concat instead.\n",
      "\u001b[2m\u001b[36m(TrainLightGCN pid=3606830)\u001b[0m   df = train if test is None else train.append(test)\n",
      "\u001b[2m\u001b[36m(TrainLightGCN pid=3605693)\u001b[0m Checkpoint successfully created at: Checkpoint(filesystem=local, path=/home/daviddavo/ray_results/LightGCN_dao=Decentraland,freq=1W,fold=9_2023-11-28T18:22:49.870078/TrainLightGCN_fc30f32a_55_batch_size=6,conv_layers=2,embedding_dim=20,fold=9,l2=0.0003,learning_rate=0.0633_2023-11-28_19-13-03/checkpoint_000000)\n"
     ]
    },
    {
     "name": "stdout",
     "output_type": "stream",
     "text": [
      "\u001b[2m\u001b[36m(TrainLightGCN pid=3606830)\u001b[0m Already create adjacency matrix.\n",
      "\u001b[2m\u001b[36m(TrainLightGCN pid=3606830)\u001b[0m Already normalize adjacency matrix.\n",
      "\u001b[2m\u001b[36m(TrainLightGCN pid=3606830)\u001b[0m Using xavier initialization.\n"
     ]
    },
    {
     "name": "stderr",
     "output_type": "stream",
     "text": [
      "\u001b[2m\u001b[36m(TrainLightGCN pid=3606830)\u001b[0m Trainable.setup took 39.579 seconds. If your trainable is slow to initialize, consider setting reuse_actors=True to reduce actor creation overheads.\n",
      "\u001b[2m\u001b[36m(pid=3606980)\u001b[0m 2023-11-28 19:22:15.714268: E tensorflow/compiler/xla/stream_executor/cuda/cuda_dnn.cc:9342] Unable to register cuDNN factory: Attempting to register factory for plugin cuDNN when one has already been registered\n",
      "\u001b[2m\u001b[36m(pid=3606980)\u001b[0m 2023-11-28 19:22:15.714442: E tensorflow/compiler/xla/stream_executor/cuda/cuda_fft.cc:609] Unable to register cuFFT factory: Attempting to register factory for plugin cuFFT when one has already been registered\n",
      "\u001b[2m\u001b[36m(pid=3606980)\u001b[0m 2023-11-28 19:22:15.714462: E tensorflow/compiler/xla/stream_executor/cuda/cuda_blas.cc:1518] Unable to register cuBLAS factory: Attempting to register factory for plugin cuBLAS when one has already been registered\n",
      "\u001b[2m\u001b[36m(TrainLightGCN pid=3606980)\u001b[0m /home/daviddavo/upm-tfm-notebooks/.direnv/python-3.9/lib/python3.9/site-packages/recommenders/models/deeprec/DataModel/ImplicitCF.py:73: FutureWarning: The frame.append method is deprecated and will be removed from pandas in a future version. Use pandas.concat instead.\n",
      "\u001b[2m\u001b[36m(TrainLightGCN pid=3606980)\u001b[0m   df = train if test is None else train.append(test)\n"
     ]
    },
    {
     "name": "stdout",
     "output_type": "stream",
     "text": [
      "\u001b[2m\u001b[36m(TrainLightGCN pid=3606980)\u001b[0m Already create adjacency matrix.\n",
      "\u001b[2m\u001b[36m(TrainLightGCN pid=3606980)\u001b[0m Already normalize adjacency matrix.\n",
      "\u001b[2m\u001b[36m(TrainLightGCN pid=3606980)\u001b[0m Using xavier initialization.\n"
     ]
    },
    {
     "name": "stderr",
     "output_type": "stream",
     "text": [
      "\u001b[2m\u001b[36m(TrainLightGCN pid=3606980)\u001b[0m Trainable.setup took 12.115 seconds. If your trainable is slow to initialize, consider setting reuse_actors=True to reduce actor creation overheads.\n",
      "\u001b[2m\u001b[36m(TrainLightGCN pid=3606120)\u001b[0m Checkpoint successfully created at: Checkpoint(filesystem=local, path=/home/daviddavo/ray_results/LightGCN_dao=Decentraland,freq=1W,fold=9_2023-11-28T18:22:49.870078/TrainLightGCN_3c48f657_58_batch_size=7,conv_layers=2,embedding_dim=40,fold=9,l2=0.0000,learning_rate=0.1367_2023-11-28_19-15-46/checkpoint_000000)\n",
      "\u001b[2m\u001b[36m(pid=3607115)\u001b[0m 2023-11-28 19:22:56.486648: E tensorflow/compiler/xla/stream_executor/cuda/cuda_dnn.cc:9342] Unable to register cuDNN factory: Attempting to register factory for plugin cuDNN when one has already been registered\n",
      "\u001b[2m\u001b[36m(pid=3607115)\u001b[0m 2023-11-28 19:22:56.486722: E tensorflow/compiler/xla/stream_executor/cuda/cuda_fft.cc:609] Unable to register cuFFT factory: Attempting to register factory for plugin cuFFT when one has already been registered\n",
      "\u001b[2m\u001b[36m(pid=3607115)\u001b[0m 2023-11-28 19:22:56.486745: E tensorflow/compiler/xla/stream_executor/cuda/cuda_blas.cc:1518] Unable to register cuBLAS factory: Attempting to register factory for plugin cuBLAS when one has already been registered\n",
      "\u001b[2m\u001b[36m(TrainLightGCN pid=3607115)\u001b[0m /home/daviddavo/upm-tfm-notebooks/.direnv/python-3.9/lib/python3.9/site-packages/recommenders/models/deeprec/DataModel/ImplicitCF.py:73: FutureWarning: The frame.append method is deprecated and will be removed from pandas in a future version. Use pandas.concat instead.\n",
      "\u001b[2m\u001b[36m(TrainLightGCN pid=3607115)\u001b[0m   df = train if test is None else train.append(test)\n"
     ]
    },
    {
     "name": "stdout",
     "output_type": "stream",
     "text": [
      "\u001b[2m\u001b[36m(TrainLightGCN pid=3607115)\u001b[0m Already create adjacency matrix.\n",
      "\u001b[2m\u001b[36m(TrainLightGCN pid=3607115)\u001b[0m Already normalize adjacency matrix.\n",
      "\u001b[2m\u001b[36m(TrainLightGCN pid=3607115)\u001b[0m Using xavier initialization.\n"
     ]
    },
    {
     "name": "stderr",
     "output_type": "stream",
     "text": [
      "\u001b[2m\u001b[36m(TrainLightGCN pid=3607115)\u001b[0m Trainable.setup took 14.004 seconds. If your trainable is slow to initialize, consider setting reuse_actors=True to reduce actor creation overheads.\n",
      "\u001b[2m\u001b[36m(pid=3607259)\u001b[0m 2023-11-28 19:23:22.895722: E tensorflow/compiler/xla/stream_executor/cuda/cuda_dnn.cc:9342] Unable to register cuDNN factory: Attempting to register factory for plugin cuDNN when one has already been registered\n",
      "\u001b[2m\u001b[36m(pid=3607259)\u001b[0m 2023-11-28 19:23:22.895770: E tensorflow/compiler/xla/stream_executor/cuda/cuda_fft.cc:609] Unable to register cuFFT factory: Attempting to register factory for plugin cuFFT when one has already been registered\n",
      "\u001b[2m\u001b[36m(pid=3607259)\u001b[0m 2023-11-28 19:23:22.895790: E tensorflow/compiler/xla/stream_executor/cuda/cuda_blas.cc:1518] Unable to register cuBLAS factory: Attempting to register factory for plugin cuBLAS when one has already been registered\n",
      "\u001b[2m\u001b[36m(TrainLightGCN pid=3606266)\u001b[0m Checkpoint successfully created at: Checkpoint(filesystem=local, path=/home/daviddavo/ray_results/LightGCN_dao=Decentraland,freq=1W,fold=9_2023-11-28T18:22:49.870078/TrainLightGCN_ae392e60_59_batch_size=8,conv_layers=3,embedding_dim=0,fold=9,l2=0.0000,learning_rate=0.4861_2023-11-28_19-16-49/checkpoint_000000)\n",
      "\u001b[2m\u001b[36m(TrainLightGCN pid=3607259)\u001b[0m /home/daviddavo/upm-tfm-notebooks/.direnv/python-3.9/lib/python3.9/site-packages/recommenders/models/deeprec/DataModel/ImplicitCF.py:73: FutureWarning: The frame.append method is deprecated and will be removed from pandas in a future version. Use pandas.concat instead.\n",
      "\u001b[2m\u001b[36m(TrainLightGCN pid=3607259)\u001b[0m   df = train if test is None else train.append(test)\n"
     ]
    },
    {
     "name": "stdout",
     "output_type": "stream",
     "text": [
      "\u001b[2m\u001b[36m(TrainLightGCN pid=3607259)\u001b[0m Already create adjacency matrix.\n",
      "\u001b[2m\u001b[36m(TrainLightGCN pid=3607259)\u001b[0m Already normalize adjacency matrix.\n",
      "\u001b[2m\u001b[36m(TrainLightGCN pid=3607259)\u001b[0m Using xavier initialization.\n"
     ]
    },
    {
     "name": "stderr",
     "output_type": "stream",
     "text": [
      "\u001b[2m\u001b[36m(TrainLightGCN pid=3607259)\u001b[0m Trainable.setup took 16.609 seconds. If your trainable is slow to initialize, consider setting reuse_actors=True to reduce actor creation overheads.\n",
      "\u001b[2m\u001b[36m(pid=3607400)\u001b[0m 2023-11-28 19:23:54.546639: E tensorflow/compiler/xla/stream_executor/cuda/cuda_dnn.cc:9342] Unable to register cuDNN factory: Attempting to register factory for plugin cuDNN when one has already been registered\n",
      "\u001b[2m\u001b[36m(pid=3607400)\u001b[0m 2023-11-28 19:23:54.546689: E tensorflow/compiler/xla/stream_executor/cuda/cuda_fft.cc:609] Unable to register cuFFT factory: Attempting to register factory for plugin cuFFT when one has already been registered\n",
      "\u001b[2m\u001b[36m(pid=3607400)\u001b[0m 2023-11-28 19:23:54.546707: E tensorflow/compiler/xla/stream_executor/cuda/cuda_blas.cc:1518] Unable to register cuBLAS factory: Attempting to register factory for plugin cuBLAS when one has already been registered\n",
      "\u001b[2m\u001b[36m(TrainLightGCN pid=3607400)\u001b[0m /home/daviddavo/upm-tfm-notebooks/.direnv/python-3.9/lib/python3.9/site-packages/recommenders/models/deeprec/DataModel/ImplicitCF.py:73: FutureWarning: The frame.append method is deprecated and will be removed from pandas in a future version. Use pandas.concat instead.\n",
      "\u001b[2m\u001b[36m(TrainLightGCN pid=3607400)\u001b[0m   df = train if test is None else train.append(test)\n"
     ]
    },
    {
     "name": "stdout",
     "output_type": "stream",
     "text": [
      "\u001b[2m\u001b[36m(TrainLightGCN pid=3607400)\u001b[0m Already create adjacency matrix.\n",
      "\u001b[2m\u001b[36m(TrainLightGCN pid=3607400)\u001b[0m Already normalize adjacency matrix.\n",
      "\u001b[2m\u001b[36m(TrainLightGCN pid=3607400)\u001b[0m Using xavier initialization.\n"
     ]
    },
    {
     "name": "stderr",
     "output_type": "stream",
     "text": [
      "\u001b[2m\u001b[36m(TrainLightGCN pid=3607400)\u001b[0m Trainable.setup took 16.684 seconds. If your trainable is slow to initialize, consider setting reuse_actors=True to reduce actor creation overheads.\n",
      "\u001b[2m\u001b[36m(pid=3607536)\u001b[0m 2023-11-28 19:24:23.748359: E tensorflow/compiler/xla/stream_executor/cuda/cuda_dnn.cc:9342] Unable to register cuDNN factory: Attempting to register factory for plugin cuDNN when one has already been registered\n",
      "\u001b[2m\u001b[36m(pid=3607536)\u001b[0m 2023-11-28 19:24:23.748413: E tensorflow/compiler/xla/stream_executor/cuda/cuda_fft.cc:609] Unable to register cuFFT factory: Attempting to register factory for plugin cuFFT when one has already been registered\n",
      "\u001b[2m\u001b[36m(pid=3607536)\u001b[0m 2023-11-28 19:24:23.748435: E tensorflow/compiler/xla/stream_executor/cuda/cuda_blas.cc:1518] Unable to register cuBLAS factory: Attempting to register factory for plugin cuBLAS when one has already been registered\n",
      "\u001b[2m\u001b[36m(TrainLightGCN pid=3607536)\u001b[0m /home/daviddavo/upm-tfm-notebooks/.direnv/python-3.9/lib/python3.9/site-packages/recommenders/models/deeprec/DataModel/ImplicitCF.py:73: FutureWarning: The frame.append method is deprecated and will be removed from pandas in a future version. Use pandas.concat instead.\n",
      "\u001b[2m\u001b[36m(TrainLightGCN pid=3607536)\u001b[0m   df = train if test is None else train.append(test)\n"
     ]
    },
    {
     "name": "stdout",
     "output_type": "stream",
     "text": [
      "\u001b[2m\u001b[36m(TrainLightGCN pid=3607536)\u001b[0m Already create adjacency matrix.\n",
      "\u001b[2m\u001b[36m(TrainLightGCN pid=3607536)\u001b[0m Already normalize adjacency matrix.\n",
      "\u001b[2m\u001b[36m(TrainLightGCN pid=3607536)\u001b[0m Using xavier initialization.\n"
     ]
    },
    {
     "name": "stderr",
     "output_type": "stream",
     "text": [
      "\u001b[2m\u001b[36m(TrainLightGCN pid=3607536)\u001b[0m Trainable.setup took 16.891 seconds. If your trainable is slow to initialize, consider setting reuse_actors=True to reduce actor creation overheads.\n",
      "\u001b[2m\u001b[36m(TrainLightGCN pid=3606411)\u001b[0m Checkpoint successfully created at: Checkpoint(filesystem=local, path=/home/daviddavo/ray_results/LightGCN_dao=Decentraland,freq=1W,fold=9_2023-11-28T18:22:49.870078/TrainLightGCN_1e21f1c7_60_batch_size=7,conv_layers=2,embedding_dim=10,fold=9,l2=0.0000,learning_rate=0.2305_2023-11-28_19-17-58/checkpoint_000000)\n",
      "\u001b[2m\u001b[36m(pid=3607671)\u001b[0m 2023-11-28 19:25:17.207301: E tensorflow/compiler/xla/stream_executor/cuda/cuda_dnn.cc:9342] Unable to register cuDNN factory: Attempting to register factory for plugin cuDNN when one has already been registered\n",
      "\u001b[2m\u001b[36m(pid=3607671)\u001b[0m 2023-11-28 19:25:17.207350: E tensorflow/compiler/xla/stream_executor/cuda/cuda_fft.cc:609] Unable to register cuFFT factory: Attempting to register factory for plugin cuFFT when one has already been registered\n",
      "\u001b[2m\u001b[36m(pid=3607671)\u001b[0m 2023-11-28 19:25:17.207366: E tensorflow/compiler/xla/stream_executor/cuda/cuda_blas.cc:1518] Unable to register cuBLAS factory: Attempting to register factory for plugin cuBLAS when one has already been registered\n",
      "\u001b[2m\u001b[36m(TrainLightGCN pid=3607671)\u001b[0m /home/daviddavo/upm-tfm-notebooks/.direnv/python-3.9/lib/python3.9/site-packages/recommenders/models/deeprec/DataModel/ImplicitCF.py:73: FutureWarning: The frame.append method is deprecated and will be removed from pandas in a future version. Use pandas.concat instead.\n",
      "\u001b[2m\u001b[36m(TrainLightGCN pid=3607671)\u001b[0m   df = train if test is None else train.append(test)\n"
     ]
    },
    {
     "name": "stdout",
     "output_type": "stream",
     "text": [
      "\u001b[2m\u001b[36m(TrainLightGCN pid=3607671)\u001b[0m Already create adjacency matrix.\n",
      "\u001b[2m\u001b[36m(TrainLightGCN pid=3607671)\u001b[0m Already normalize adjacency matrix.\n",
      "\u001b[2m\u001b[36m(TrainLightGCN pid=3607671)\u001b[0m Using xavier initialization.\n"
     ]
    },
    {
     "name": "stderr",
     "output_type": "stream",
     "text": [
      "\u001b[2m\u001b[36m(pid=3607810)\u001b[0m 2023-11-28 19:25:34.494922: E tensorflow/compiler/xla/stream_executor/cuda/cuda_dnn.cc:9342] Unable to register cuDNN factory: Attempting to register factory for plugin cuDNN when one has already been registered\n",
      "\u001b[2m\u001b[36m(pid=3607810)\u001b[0m 2023-11-28 19:25:34.495086: E tensorflow/compiler/xla/stream_executor/cuda/cuda_fft.cc:609] Unable to register cuFFT factory: Attempting to register factory for plugin cuFFT when one has already been registered\n",
      "\u001b[2m\u001b[36m(pid=3607810)\u001b[0m 2023-11-28 19:25:34.495106: E tensorflow/compiler/xla/stream_executor/cuda/cuda_blas.cc:1518] Unable to register cuBLAS factory: Attempting to register factory for plugin cuBLAS when one has already been registered\n",
      "\u001b[2m\u001b[36m(TrainLightGCN pid=3606550)\u001b[0m Checkpoint successfully created at: Checkpoint(filesystem=local, path=/home/daviddavo/ray_results/LightGCN_dao=Decentraland,freq=1W,fold=9_2023-11-28T18:22:49.870078/TrainLightGCN_824be9ee_61_batch_size=6,conv_layers=1,embedding_dim=100,fold=9,l2=0.0000,learning_rate=0.0078_2023-11-28_19-18-47/checkpoint_000000)\n",
      "\u001b[2m\u001b[36m(TrainLightGCN pid=3607810)\u001b[0m /home/daviddavo/upm-tfm-notebooks/.direnv/python-3.9/lib/python3.9/site-packages/recommenders/models/deeprec/DataModel/ImplicitCF.py:73: FutureWarning: The frame.append method is deprecated and will be removed from pandas in a future version. Use pandas.concat instead.\n",
      "\u001b[2m\u001b[36m(TrainLightGCN pid=3607810)\u001b[0m   df = train if test is None else train.append(test)\n"
     ]
    },
    {
     "name": "stdout",
     "output_type": "stream",
     "text": [
      "\u001b[2m\u001b[36m(TrainLightGCN pid=3607810)\u001b[0m Already create adjacency matrix.\n",
      "\u001b[2m\u001b[36m(TrainLightGCN pid=3607810)\u001b[0m Already normalize adjacency matrix.\n",
      "\u001b[2m\u001b[36m(TrainLightGCN pid=3607810)\u001b[0m Using xavier initialization.\n"
     ]
    },
    {
     "name": "stderr",
     "output_type": "stream",
     "text": [
      "\u001b[2m\u001b[36m(TrainLightGCN pid=3607810)\u001b[0m Trainable.setup took 17.224 seconds. If your trainable is slow to initialize, consider setting reuse_actors=True to reduce actor creation overheads.\n",
      "\u001b[2m\u001b[36m(pid=3607951)\u001b[0m 2023-11-28 19:26:48.278992: E tensorflow/compiler/xla/stream_executor/cuda/cuda_dnn.cc:9342] Unable to register cuDNN factory: Attempting to register factory for plugin cuDNN when one has already been registered\n",
      "\u001b[2m\u001b[36m(pid=3607951)\u001b[0m 2023-11-28 19:26:48.279039: E tensorflow/compiler/xla/stream_executor/cuda/cuda_fft.cc:609] Unable to register cuFFT factory: Attempting to register factory for plugin cuFFT when one has already been registered\n",
      "\u001b[2m\u001b[36m(pid=3607951)\u001b[0m 2023-11-28 19:26:48.279055: E tensorflow/compiler/xla/stream_executor/cuda/cuda_blas.cc:1518] Unable to register cuBLAS factory: Attempting to register factory for plugin cuBLAS when one has already been registered\n",
      "\u001b[2m\u001b[36m(TrainLightGCN pid=3606691)\u001b[0m Checkpoint successfully created at: Checkpoint(filesystem=local, path=/home/daviddavo/ray_results/LightGCN_dao=Decentraland,freq=1W,fold=9_2023-11-28T18:22:49.870078/TrainLightGCN_1dd8bbb6_62_batch_size=9,conv_layers=3,embedding_dim=5,fold=9,l2=0.0000,learning_rate=0.0247_2023-11-28_19-19-55/checkpoint_000000)\n",
      "\u001b[2m\u001b[36m(TrainLightGCN pid=3607951)\u001b[0m /home/daviddavo/upm-tfm-notebooks/.direnv/python-3.9/lib/python3.9/site-packages/recommenders/models/deeprec/DataModel/ImplicitCF.py:73: FutureWarning: The frame.append method is deprecated and will be removed from pandas in a future version. Use pandas.concat instead.\n",
      "\u001b[2m\u001b[36m(TrainLightGCN pid=3607951)\u001b[0m   df = train if test is None else train.append(test)\n"
     ]
    },
    {
     "name": "stdout",
     "output_type": "stream",
     "text": [
      "\u001b[2m\u001b[36m(TrainLightGCN pid=3607951)\u001b[0m Already create adjacency matrix.\n",
      "\u001b[2m\u001b[36m(TrainLightGCN pid=3607951)\u001b[0m Already normalize adjacency matrix.\n",
      "\u001b[2m\u001b[36m(TrainLightGCN pid=3607951)\u001b[0m Using xavier initialization.\n"
     ]
    },
    {
     "name": "stderr",
     "output_type": "stream",
     "text": [
      "\u001b[2m\u001b[36m(TrainLightGCN pid=3607951)\u001b[0m Trainable.setup took 26.524 seconds. If your trainable is slow to initialize, consider setting reuse_actors=True to reduce actor creation overheads.\n",
      "\u001b[2m\u001b[36m(pid=3608097)\u001b[0m 2023-11-28 19:27:56.452832: E tensorflow/compiler/xla/stream_executor/cuda/cuda_dnn.cc:9342] Unable to register cuDNN factory: Attempting to register factory for plugin cuDNN when one has already been registered\n",
      "\u001b[2m\u001b[36m(pid=3608097)\u001b[0m 2023-11-28 19:27:56.452885: E tensorflow/compiler/xla/stream_executor/cuda/cuda_fft.cc:609] Unable to register cuFFT factory: Attempting to register factory for plugin cuFFT when one has already been registered\n",
      "\u001b[2m\u001b[36m(pid=3608097)\u001b[0m 2023-11-28 19:27:56.452907: E tensorflow/compiler/xla/stream_executor/cuda/cuda_blas.cc:1518] Unable to register cuBLAS factory: Attempting to register factory for plugin cuBLAS when one has already been registered\n",
      "\u001b[2m\u001b[36m(TrainLightGCN pid=3608097)\u001b[0m /home/daviddavo/upm-tfm-notebooks/.direnv/python-3.9/lib/python3.9/site-packages/recommenders/models/deeprec/DataModel/ImplicitCF.py:73: FutureWarning: The frame.append method is deprecated and will be removed from pandas in a future version. Use pandas.concat instead.\n",
      "\u001b[2m\u001b[36m(TrainLightGCN pid=3608097)\u001b[0m   df = train if test is None else train.append(test)\n",
      "\u001b[2m\u001b[36m(TrainLightGCN pid=3606980)\u001b[0m Checkpoint successfully created at: Checkpoint(filesystem=local, path=/home/daviddavo/ray_results/LightGCN_dao=Decentraland,freq=1W,fold=9_2023-11-28T18:22:49.870078/TrainLightGCN_44472955_64_batch_size=9,conv_layers=3,embedding_dim=185,fold=9,l2=0.0002,learning_rate=0.9458_2023-11-28_19-22-03/checkpoint_000000)\n"
     ]
    },
    {
     "name": "stdout",
     "output_type": "stream",
     "text": [
      "\u001b[2m\u001b[36m(TrainLightGCN pid=3608097)\u001b[0m Already create adjacency matrix.\n",
      "\u001b[2m\u001b[36m(TrainLightGCN pid=3608097)\u001b[0m Already normalize adjacency matrix.\n",
      "\u001b[2m\u001b[36m(TrainLightGCN pid=3608097)\u001b[0m Using xavier initialization.\n"
     ]
    },
    {
     "name": "stderr",
     "output_type": "stream",
     "text": [
      "\u001b[2m\u001b[36m(TrainLightGCN pid=3608097)\u001b[0m Trainable.setup took 10.857 seconds. If your trainable is slow to initialize, consider setting reuse_actors=True to reduce actor creation overheads.\n",
      "\u001b[2m\u001b[36m(pid=3608239)\u001b[0m 2023-11-28 19:28:40.412755: E tensorflow/compiler/xla/stream_executor/cuda/cuda_dnn.cc:9342] Unable to register cuDNN factory: Attempting to register factory for plugin cuDNN when one has already been registered\n",
      "\u001b[2m\u001b[36m(pid=3608239)\u001b[0m 2023-11-28 19:28:40.412805: E tensorflow/compiler/xla/stream_executor/cuda/cuda_fft.cc:609] Unable to register cuFFT factory: Attempting to register factory for plugin cuFFT when one has already been registered\n",
      "\u001b[2m\u001b[36m(pid=3608239)\u001b[0m 2023-11-28 19:28:40.412822: E tensorflow/compiler/xla/stream_executor/cuda/cuda_blas.cc:1518] Unable to register cuBLAS factory: Attempting to register factory for plugin cuBLAS when one has already been registered\n",
      "\u001b[2m\u001b[36m(TrainLightGCN pid=3608239)\u001b[0m /home/daviddavo/upm-tfm-notebooks/.direnv/python-3.9/lib/python3.9/site-packages/recommenders/models/deeprec/DataModel/ImplicitCF.py:73: FutureWarning: The frame.append method is deprecated and will be removed from pandas in a future version. Use pandas.concat instead.\n",
      "\u001b[2m\u001b[36m(TrainLightGCN pid=3608239)\u001b[0m   df = train if test is None else train.append(test)\n"
     ]
    },
    {
     "name": "stdout",
     "output_type": "stream",
     "text": [
      "\u001b[2m\u001b[36m(TrainLightGCN pid=3608239)\u001b[0m Already create adjacency matrix.\n",
      "\u001b[2m\u001b[36m(TrainLightGCN pid=3608239)\u001b[0m Already normalize adjacency matrix.\n",
      "\u001b[2m\u001b[36m(TrainLightGCN pid=3608239)\u001b[0m Using xavier initialization.\n"
     ]
    },
    {
     "name": "stderr",
     "output_type": "stream",
     "text": [
      "\u001b[2m\u001b[36m(TrainLightGCN pid=3608239)\u001b[0m Trainable.setup took 29.590 seconds. If your trainable is slow to initialize, consider setting reuse_actors=True to reduce actor creation overheads.\n",
      "\u001b[2m\u001b[36m(pid=3608374)\u001b[0m 2023-11-28 19:29:31.313090: E tensorflow/compiler/xla/stream_executor/cuda/cuda_dnn.cc:9342] Unable to register cuDNN factory: Attempting to register factory for plugin cuDNN when one has already been registered\n",
      "\u001b[2m\u001b[36m(pid=3608374)\u001b[0m 2023-11-28 19:29:31.313144: E tensorflow/compiler/xla/stream_executor/cuda/cuda_fft.cc:609] Unable to register cuFFT factory: Attempting to register factory for plugin cuFFT when one has already been registered\n",
      "\u001b[2m\u001b[36m(pid=3608374)\u001b[0m 2023-11-28 19:29:31.313162: E tensorflow/compiler/xla/stream_executor/cuda/cuda_blas.cc:1518] Unable to register cuBLAS factory: Attempting to register factory for plugin cuBLAS when one has already been registered\n",
      "\u001b[2m\u001b[36m(TrainLightGCN pid=3606830)\u001b[0m Checkpoint successfully created at: Checkpoint(filesystem=local, path=/home/daviddavo/ray_results/LightGCN_dao=Decentraland,freq=1W,fold=9_2023-11-28T18:22:49.870078/TrainLightGCN_355a6931_63_batch_size=7,conv_layers=2,embedding_dim=290,fold=9,l2=0.0001,learning_rate=0.0129_2023-11-28_19-20-51/checkpoint_000000)\n",
      "\u001b[2m\u001b[36m(TrainLightGCN pid=3608374)\u001b[0m /home/daviddavo/upm-tfm-notebooks/.direnv/python-3.9/lib/python3.9/site-packages/recommenders/models/deeprec/DataModel/ImplicitCF.py:73: FutureWarning: The frame.append method is deprecated and will be removed from pandas in a future version. Use pandas.concat instead.\n",
      "\u001b[2m\u001b[36m(TrainLightGCN pid=3608374)\u001b[0m   df = train if test is None else train.append(test)\n"
     ]
    },
    {
     "name": "stdout",
     "output_type": "stream",
     "text": [
      "\u001b[2m\u001b[36m(TrainLightGCN pid=3608374)\u001b[0m Already create adjacency matrix.\n",
      "\u001b[2m\u001b[36m(TrainLightGCN pid=3608374)\u001b[0m Already normalize adjacency matrix.\n",
      "\u001b[2m\u001b[36m(TrainLightGCN pid=3608374)\u001b[0m Using xavier initialization.\n"
     ]
    },
    {
     "name": "stderr",
     "output_type": "stream",
     "text": [
      "\u001b[2m\u001b[36m(TrainLightGCN pid=3608374)\u001b[0m Trainable.setup took 10.644 seconds. If your trainable is slow to initialize, consider setting reuse_actors=True to reduce actor creation overheads.\n",
      "\u001b[2m\u001b[36m(pid=3608516)\u001b[0m 2023-11-28 19:30:23.272708: E tensorflow/compiler/xla/stream_executor/cuda/cuda_dnn.cc:9342] Unable to register cuDNN factory: Attempting to register factory for plugin cuDNN when one has already been registered\n",
      "\u001b[2m\u001b[36m(pid=3608516)\u001b[0m 2023-11-28 19:30:23.272767: E tensorflow/compiler/xla/stream_executor/cuda/cuda_fft.cc:609] Unable to register cuFFT factory: Attempting to register factory for plugin cuFFT when one has already been registered\n",
      "\u001b[2m\u001b[36m(pid=3608516)\u001b[0m 2023-11-28 19:30:23.272791: E tensorflow/compiler/xla/stream_executor/cuda/cuda_blas.cc:1518] Unable to register cuBLAS factory: Attempting to register factory for plugin cuBLAS when one has already been registered\n",
      "\u001b[2m\u001b[36m(TrainLightGCN pid=3607259)\u001b[0m Checkpoint successfully created at: Checkpoint(filesystem=local, path=/home/daviddavo/ray_results/LightGCN_dao=Decentraland,freq=1W,fold=9_2023-11-28T18:22:49.870078/TrainLightGCN_07fdbde5_66_batch_size=7,conv_layers=5,embedding_dim=250,fold=9,l2=0.0000,learning_rate=0.0138_2023-11-28_19-23-20/checkpoint_000000)\n",
      "\u001b[2m\u001b[36m(TrainLightGCN pid=3608516)\u001b[0m /home/daviddavo/upm-tfm-notebooks/.direnv/python-3.9/lib/python3.9/site-packages/recommenders/models/deeprec/DataModel/ImplicitCF.py:73: FutureWarning: The frame.append method is deprecated and will be removed from pandas in a future version. Use pandas.concat instead.\n",
      "\u001b[2m\u001b[36m(TrainLightGCN pid=3608516)\u001b[0m   df = train if test is None else train.append(test)\n"
     ]
    },
    {
     "name": "stdout",
     "output_type": "stream",
     "text": [
      "\u001b[2m\u001b[36m(TrainLightGCN pid=3608516)\u001b[0m Already create adjacency matrix.\n",
      "\u001b[2m\u001b[36m(TrainLightGCN pid=3608516)\u001b[0m Already normalize adjacency matrix.\n",
      "\u001b[2m\u001b[36m(TrainLightGCN pid=3608516)\u001b[0m Using xavier initialization.\n"
     ]
    },
    {
     "name": "stderr",
     "output_type": "stream",
     "text": [
      "\u001b[2m\u001b[36m(TrainLightGCN pid=3608516)\u001b[0m Trainable.setup took 26.918 seconds. If your trainable is slow to initialize, consider setting reuse_actors=True to reduce actor creation overheads.\n",
      "\u001b[2m\u001b[36m(pid=3608654)\u001b[0m 2023-11-28 19:31:23.326150: E tensorflow/compiler/xla/stream_executor/cuda/cuda_dnn.cc:9342] Unable to register cuDNN factory: Attempting to register factory for plugin cuDNN when one has already been registered\n",
      "\u001b[2m\u001b[36m(pid=3608654)\u001b[0m 2023-11-28 19:31:23.326200: E tensorflow/compiler/xla/stream_executor/cuda/cuda_fft.cc:609] Unable to register cuFFT factory: Attempting to register factory for plugin cuFFT when one has already been registered\n",
      "\u001b[2m\u001b[36m(pid=3608654)\u001b[0m 2023-11-28 19:31:23.326218: E tensorflow/compiler/xla/stream_executor/cuda/cuda_blas.cc:1518] Unable to register cuBLAS factory: Attempting to register factory for plugin cuBLAS when one has already been registered\n",
      "\u001b[2m\u001b[36m(TrainLightGCN pid=3607400)\u001b[0m Checkpoint successfully created at: Checkpoint(filesystem=local, path=/home/daviddavo/ray_results/LightGCN_dao=Decentraland,freq=1W,fold=9_2023-11-28T18:22:49.870078/TrainLightGCN_a19a1b91_67_batch_size=7,conv_layers=4,embedding_dim=415,fold=9,l2=0.0000,learning_rate=0.0040_2023-11-28_19-23-51/checkpoint_000000)\n",
      "\u001b[2m\u001b[36m(TrainLightGCN pid=3608654)\u001b[0m /home/daviddavo/upm-tfm-notebooks/.direnv/python-3.9/lib/python3.9/site-packages/recommenders/models/deeprec/DataModel/ImplicitCF.py:73: FutureWarning: The frame.append method is deprecated and will be removed from pandas in a future version. Use pandas.concat instead.\n",
      "\u001b[2m\u001b[36m(TrainLightGCN pid=3608654)\u001b[0m   df = train if test is None else train.append(test)\n",
      "\u001b[2m\u001b[36m(TrainLightGCN pid=3607671)\u001b[0m Checkpoint successfully created at: Checkpoint(filesystem=local, path=/home/daviddavo/ray_results/LightGCN_dao=Decentraland,freq=1W,fold=9_2023-11-28T18:22:49.870078/TrainLightGCN_12632df7_69_batch_size=7,conv_layers=5,embedding_dim=80,fold=9,l2=0.0000,learning_rate=0.0930_2023-11-28_19-24-58/checkpoint_000000)\n"
     ]
    },
    {
     "name": "stdout",
     "output_type": "stream",
     "text": [
      "\u001b[2m\u001b[36m(TrainLightGCN pid=3608654)\u001b[0m Already create adjacency matrix.\n",
      "\u001b[2m\u001b[36m(TrainLightGCN pid=3608654)\u001b[0m Already normalize adjacency matrix.\n",
      "\u001b[2m\u001b[36m(TrainLightGCN pid=3608654)\u001b[0m Using xavier initialization.\n"
     ]
    },
    {
     "name": "stderr",
     "output_type": "stream",
     "text": [
      "\u001b[2m\u001b[36m(TrainLightGCN pid=3608654)\u001b[0m Trainable.setup took 21.444 seconds. If your trainable is slow to initialize, consider setting reuse_actors=True to reduce actor creation overheads.\n",
      "\u001b[2m\u001b[36m(pid=3608801)\u001b[0m 2023-11-28 19:32:30.112793: E tensorflow/compiler/xla/stream_executor/cuda/cuda_dnn.cc:9342] Unable to register cuDNN factory: Attempting to register factory for plugin cuDNN when one has already been registered\n",
      "\u001b[2m\u001b[36m(pid=3608801)\u001b[0m 2023-11-28 19:32:30.112857: E tensorflow/compiler/xla/stream_executor/cuda/cuda_fft.cc:609] Unable to register cuFFT factory: Attempting to register factory for plugin cuFFT when one has already been registered\n",
      "\u001b[2m\u001b[36m(pid=3608801)\u001b[0m 2023-11-28 19:32:30.112880: E tensorflow/compiler/xla/stream_executor/cuda/cuda_blas.cc:1518] Unable to register cuBLAS factory: Attempting to register factory for plugin cuBLAS when one has already been registered\n",
      "\u001b[2m\u001b[36m(TrainLightGCN pid=3607115)\u001b[0m Checkpoint successfully created at: Checkpoint(filesystem=local, path=/home/daviddavo/ray_results/LightGCN_dao=Decentraland,freq=1W,fold=9_2023-11-28T18:22:49.870078/TrainLightGCN_7eef334e_65_batch_size=6,conv_layers=1,embedding_dim=20,fold=9,l2=0.0000,learning_rate=0.0379_2023-11-28_19-22-38/checkpoint_000000)\n",
      "\u001b[2m\u001b[36m(TrainLightGCN pid=3608801)\u001b[0m /home/daviddavo/upm-tfm-notebooks/.direnv/python-3.9/lib/python3.9/site-packages/recommenders/models/deeprec/DataModel/ImplicitCF.py:73: FutureWarning: The frame.append method is deprecated and will be removed from pandas in a future version. Use pandas.concat instead.\n",
      "\u001b[2m\u001b[36m(TrainLightGCN pid=3608801)\u001b[0m   df = train if test is None else train.append(test)\n"
     ]
    },
    {
     "name": "stdout",
     "output_type": "stream",
     "text": [
      "\u001b[2m\u001b[36m(TrainLightGCN pid=3608801)\u001b[0m Already create adjacency matrix.\n",
      "\u001b[2m\u001b[36m(TrainLightGCN pid=3608801)\u001b[0m Already normalize adjacency matrix.\n",
      "\u001b[2m\u001b[36m(TrainLightGCN pid=3608801)\u001b[0m Using xavier initialization.\n"
     ]
    },
    {
     "name": "stderr",
     "output_type": "stream",
     "text": [
      "\u001b[2m\u001b[36m(TrainLightGCN pid=3608801)\u001b[0m Trainable.setup took 32.810 seconds. If your trainable is slow to initialize, consider setting reuse_actors=True to reduce actor creation overheads.\n",
      "\u001b[2m\u001b[36m(pid=3608941)\u001b[0m 2023-11-28 19:33:30.520708: E tensorflow/compiler/xla/stream_executor/cuda/cuda_dnn.cc:9342] Unable to register cuDNN factory: Attempting to register factory for plugin cuDNN when one has already been registered\n",
      "\u001b[2m\u001b[36m(pid=3608941)\u001b[0m 2023-11-28 19:33:30.520755: E tensorflow/compiler/xla/stream_executor/cuda/cuda_fft.cc:609] Unable to register cuFFT factory: Attempting to register factory for plugin cuFFT when one has already been registered\n",
      "\u001b[2m\u001b[36m(pid=3608941)\u001b[0m 2023-11-28 19:33:30.520774: E tensorflow/compiler/xla/stream_executor/cuda/cuda_blas.cc:1518] Unable to register cuBLAS factory: Attempting to register factory for plugin cuBLAS when one has already been registered\n",
      "\u001b[2m\u001b[36m(TrainLightGCN pid=3608941)\u001b[0m /home/daviddavo/upm-tfm-notebooks/.direnv/python-3.9/lib/python3.9/site-packages/recommenders/models/deeprec/DataModel/ImplicitCF.py:73: FutureWarning: The frame.append method is deprecated and will be removed from pandas in a future version. Use pandas.concat instead.\n",
      "\u001b[2m\u001b[36m(TrainLightGCN pid=3608941)\u001b[0m   df = train if test is None else train.append(test)\n",
      "\u001b[2m\u001b[36m(TrainLightGCN pid=3607810)\u001b[0m Checkpoint successfully created at: Checkpoint(filesystem=local, path=/home/daviddavo/ray_results/LightGCN_dao=Decentraland,freq=1W,fold=9_2023-11-28T18:22:49.870078/TrainLightGCN_06ab998d_70_batch_size=7,conv_layers=4,embedding_dim=905,fold=9,l2=0.0000,learning_rate=0.0074_2023-11-28_19-25-26/checkpoint_000000)\n"
     ]
    },
    {
     "name": "stdout",
     "output_type": "stream",
     "text": [
      "\u001b[2m\u001b[36m(TrainLightGCN pid=3608941)\u001b[0m Already create adjacency matrix.\n",
      "\u001b[2m\u001b[36m(TrainLightGCN pid=3608941)\u001b[0m Already normalize adjacency matrix.\n",
      "\u001b[2m\u001b[36m(TrainLightGCN pid=3608941)\u001b[0m Using xavier initialization.\n"
     ]
    },
    {
     "name": "stderr",
     "output_type": "stream",
     "text": [
      "\u001b[2m\u001b[36m(TrainLightGCN pid=3608941)\u001b[0m Trainable.setup took 30.031 seconds. If your trainable is slow to initialize, consider setting reuse_actors=True to reduce actor creation overheads.\n",
      "\u001b[2m\u001b[36m(TrainLightGCN pid=3607536)\u001b[0m Checkpoint successfully created at: Checkpoint(filesystem=local, path=/home/daviddavo/ray_results/LightGCN_dao=Decentraland,freq=1W,fold=9_2023-11-28T18:22:49.870078/TrainLightGCN_0f2eb8c1_68_batch_size=7,conv_layers=4,embedding_dim=545,fold=9,l2=0.0000,learning_rate=0.0025_2023-11-28_19-24-16/checkpoint_000000)\n",
      "\u001b[2m\u001b[36m(pid=3609081)\u001b[0m 2023-11-28 19:34:24.456042: E tensorflow/compiler/xla/stream_executor/cuda/cuda_dnn.cc:9342] Unable to register cuDNN factory: Attempting to register factory for plugin cuDNN when one has already been registered\n",
      "\u001b[2m\u001b[36m(pid=3609081)\u001b[0m 2023-11-28 19:34:24.456280: E tensorflow/compiler/xla/stream_executor/cuda/cuda_fft.cc:609] Unable to register cuFFT factory: Attempting to register factory for plugin cuFFT when one has already been registered\n",
      "\u001b[2m\u001b[36m(pid=3609081)\u001b[0m 2023-11-28 19:34:24.456311: E tensorflow/compiler/xla/stream_executor/cuda/cuda_blas.cc:1518] Unable to register cuBLAS factory: Attempting to register factory for plugin cuBLAS when one has already been registered\n",
      "\u001b[2m\u001b[36m(TrainLightGCN pid=3608239)\u001b[0m Checkpoint successfully created at: Checkpoint(filesystem=local, path=/home/daviddavo/ray_results/LightGCN_dao=Decentraland,freq=1W,fold=9_2023-11-28T18:22:49.870078/TrainLightGCN_856d9613_73_batch_size=8,conv_layers=4,embedding_dim=490,fold=9,l2=0.0000,learning_rate=0.0233_2023-11-28_19-28-30/checkpoint_000000)\n",
      "\u001b[2m\u001b[36m(TrainLightGCN pid=3607951)\u001b[0m Checkpoint successfully created at: Checkpoint(filesystem=local, path=/home/daviddavo/ray_results/LightGCN_dao=Decentraland,freq=1W,fold=9_2023-11-28T18:22:49.870078/TrainLightGCN_df2c710e_71_batch_size=6,conv_layers=3,embedding_dim=120,fold=9,l2=0.0075,learning_rate=0.0095_2023-11-28_19-26-26/checkpoint_000000)\n",
      "\u001b[2m\u001b[36m(TrainLightGCN pid=3609081)\u001b[0m /home/daviddavo/upm-tfm-notebooks/.direnv/python-3.9/lib/python3.9/site-packages/recommenders/models/deeprec/DataModel/ImplicitCF.py:73: FutureWarning: The frame.append method is deprecated and will be removed from pandas in a future version. Use pandas.concat instead.\n",
      "\u001b[2m\u001b[36m(TrainLightGCN pid=3609081)\u001b[0m   df = train if test is None else train.append(test)\n"
     ]
    },
    {
     "name": "stdout",
     "output_type": "stream",
     "text": [
      "\u001b[2m\u001b[36m(TrainLightGCN pid=3609081)\u001b[0m Already create adjacency matrix.\n",
      "\u001b[2m\u001b[36m(TrainLightGCN pid=3609081)\u001b[0m Already normalize adjacency matrix.\n",
      "\u001b[2m\u001b[36m(TrainLightGCN pid=3609081)\u001b[0m Using xavier initialization.\n"
     ]
    },
    {
     "name": "stderr",
     "output_type": "stream",
     "text": [
      "\u001b[2m\u001b[36m(TrainLightGCN pid=3609081)\u001b[0m Trainable.setup took 31.076 seconds. If your trainable is slow to initialize, consider setting reuse_actors=True to reduce actor creation overheads.\n",
      "\u001b[2m\u001b[36m(pid=3609236)\u001b[0m 2023-11-28 19:35:17.044950: E tensorflow/compiler/xla/stream_executor/cuda/cuda_dnn.cc:9342] Unable to register cuDNN factory: Attempting to register factory for plugin cuDNN when one has already been registered\n",
      "\u001b[2m\u001b[36m(pid=3609236)\u001b[0m 2023-11-28 19:35:17.044995: E tensorflow/compiler/xla/stream_executor/cuda/cuda_fft.cc:609] Unable to register cuFFT factory: Attempting to register factory for plugin cuFFT when one has already been registered\n",
      "\u001b[2m\u001b[36m(pid=3609236)\u001b[0m 2023-11-28 19:35:17.045011: E tensorflow/compiler/xla/stream_executor/cuda/cuda_blas.cc:1518] Unable to register cuBLAS factory: Attempting to register factory for plugin cuBLAS when one has already been registered\n",
      "\u001b[2m\u001b[36m(TrainLightGCN pid=3608097)\u001b[0m Checkpoint successfully created at: Checkpoint(filesystem=local, path=/home/daviddavo/ray_results/LightGCN_dao=Decentraland,freq=1W,fold=9_2023-11-28T18:22:49.870078/TrainLightGCN_fb33c42b_72_batch_size=7,conv_layers=3,embedding_dim=15,fold=9,l2=0.0000,learning_rate=0.0536_2023-11-28_19-27-43/checkpoint_000000)\n",
      "\u001b[2m\u001b[36m(TrainLightGCN pid=3609236)\u001b[0m /home/daviddavo/upm-tfm-notebooks/.direnv/python-3.9/lib/python3.9/site-packages/recommenders/models/deeprec/DataModel/ImplicitCF.py:73: FutureWarning: The frame.append method is deprecated and will be removed from pandas in a future version. Use pandas.concat instead.\n",
      "\u001b[2m\u001b[36m(TrainLightGCN pid=3609236)\u001b[0m   df = train if test is None else train.append(test)\n"
     ]
    },
    {
     "name": "stdout",
     "output_type": "stream",
     "text": [
      "\u001b[2m\u001b[36m(TrainLightGCN pid=3609236)\u001b[0m Already create adjacency matrix.\n",
      "\u001b[2m\u001b[36m(TrainLightGCN pid=3609236)\u001b[0m Already normalize adjacency matrix.\n",
      "\u001b[2m\u001b[36m(TrainLightGCN pid=3609236)\u001b[0m Using xavier initialization.\n"
     ]
    },
    {
     "name": "stderr",
     "output_type": "stream",
     "text": [
      "\u001b[2m\u001b[36m(TrainLightGCN pid=3609236)\u001b[0m Trainable.setup took 17.251 seconds. If your trainable is slow to initialize, consider setting reuse_actors=True to reduce actor creation overheads.\n",
      "\u001b[2m\u001b[36m(pid=3609378)\u001b[0m 2023-11-28 19:36:12.281071: E tensorflow/compiler/xla/stream_executor/cuda/cuda_dnn.cc:9342] Unable to register cuDNN factory: Attempting to register factory for plugin cuDNN when one has already been registered\n",
      "\u001b[2m\u001b[36m(pid=3609378)\u001b[0m 2023-11-28 19:36:12.281132: E tensorflow/compiler/xla/stream_executor/cuda/cuda_fft.cc:609] Unable to register cuFFT factory: Attempting to register factory for plugin cuFFT when one has already been registered\n",
      "\u001b[2m\u001b[36m(pid=3609378)\u001b[0m 2023-11-28 19:36:12.281154: E tensorflow/compiler/xla/stream_executor/cuda/cuda_blas.cc:1518] Unable to register cuBLAS factory: Attempting to register factory for plugin cuBLAS when one has already been registered\n",
      "\u001b[2m\u001b[36m(TrainLightGCN pid=3609378)\u001b[0m /home/daviddavo/upm-tfm-notebooks/.direnv/python-3.9/lib/python3.9/site-packages/recommenders/models/deeprec/DataModel/ImplicitCF.py:73: FutureWarning: The frame.append method is deprecated and will be removed from pandas in a future version. Use pandas.concat instead.\n",
      "\u001b[2m\u001b[36m(TrainLightGCN pid=3609378)\u001b[0m   df = train if test is None else train.append(test)\n"
     ]
    },
    {
     "name": "stdout",
     "output_type": "stream",
     "text": [
      "\u001b[2m\u001b[36m(TrainLightGCN pid=3609378)\u001b[0m Already create adjacency matrix.\n",
      "\u001b[2m\u001b[36m(TrainLightGCN pid=3609378)\u001b[0m Already normalize adjacency matrix.\n",
      "\u001b[2m\u001b[36m(TrainLightGCN pid=3609378)\u001b[0m Using xavier initialization.\n"
     ]
    },
    {
     "name": "stderr",
     "output_type": "stream",
     "text": [
      "\u001b[2m\u001b[36m(TrainLightGCN pid=3609378)\u001b[0m Trainable.setup took 22.395 seconds. If your trainable is slow to initialize, consider setting reuse_actors=True to reduce actor creation overheads.\n",
      "\u001b[2m\u001b[36m(pid=3609514)\u001b[0m 2023-11-28 19:36:41.024672: E tensorflow/compiler/xla/stream_executor/cuda/cuda_dnn.cc:9342] Unable to register cuDNN factory: Attempting to register factory for plugin cuDNN when one has already been registered\n",
      "\u001b[2m\u001b[36m(pid=3609514)\u001b[0m 2023-11-28 19:36:41.024721: E tensorflow/compiler/xla/stream_executor/cuda/cuda_fft.cc:609] Unable to register cuFFT factory: Attempting to register factory for plugin cuFFT when one has already been registered\n",
      "\u001b[2m\u001b[36m(pid=3609514)\u001b[0m 2023-11-28 19:36:41.024738: E tensorflow/compiler/xla/stream_executor/cuda/cuda_blas.cc:1518] Unable to register cuBLAS factory: Attempting to register factory for plugin cuBLAS when one has already been registered\n",
      "\u001b[2m\u001b[36m(TrainLightGCN pid=3609514)\u001b[0m /home/daviddavo/upm-tfm-notebooks/.direnv/python-3.9/lib/python3.9/site-packages/recommenders/models/deeprec/DataModel/ImplicitCF.py:73: FutureWarning: The frame.append method is deprecated and will be removed from pandas in a future version. Use pandas.concat instead.\n",
      "\u001b[2m\u001b[36m(TrainLightGCN pid=3609514)\u001b[0m   df = train if test is None else train.append(test)\n"
     ]
    },
    {
     "name": "stdout",
     "output_type": "stream",
     "text": [
      "\u001b[2m\u001b[36m(TrainLightGCN pid=3609514)\u001b[0m Already create adjacency matrix.\n",
      "\u001b[2m\u001b[36m(TrainLightGCN pid=3609514)\u001b[0m Already normalize adjacency matrix.\n",
      "\u001b[2m\u001b[36m(TrainLightGCN pid=3609514)\u001b[0m Using xavier initialization.\n"
     ]
    },
    {
     "name": "stderr",
     "output_type": "stream",
     "text": [
      "\u001b[2m\u001b[36m(TrainLightGCN pid=3609514)\u001b[0m Trainable.setup took 10.549 seconds. If your trainable is slow to initialize, consider setting reuse_actors=True to reduce actor creation overheads.\n",
      "\u001b[2m\u001b[36m(pid=3609650)\u001b[0m 2023-11-28 19:37:32.176259: E tensorflow/compiler/xla/stream_executor/cuda/cuda_dnn.cc:9342] Unable to register cuDNN factory: Attempting to register factory for plugin cuDNN when one has already been registered\n",
      "\u001b[2m\u001b[36m(pid=3609650)\u001b[0m 2023-11-28 19:37:32.176311: E tensorflow/compiler/xla/stream_executor/cuda/cuda_fft.cc:609] Unable to register cuFFT factory: Attempting to register factory for plugin cuFFT when one has already been registered\n",
      "\u001b[2m\u001b[36m(pid=3609650)\u001b[0m 2023-11-28 19:37:32.176329: E tensorflow/compiler/xla/stream_executor/cuda/cuda_blas.cc:1518] Unable to register cuBLAS factory: Attempting to register factory for plugin cuBLAS when one has already been registered\n",
      "\u001b[2m\u001b[36m(TrainLightGCN pid=3608516)\u001b[0m Checkpoint successfully created at: Checkpoint(filesystem=local, path=/home/daviddavo/ray_results/LightGCN_dao=Decentraland,freq=1W,fold=9_2023-11-28T18:22:49.870078/TrainLightGCN_65895979_75_batch_size=7,conv_layers=2,embedding_dim=170,fold=9,l2=0.0000,learning_rate=0.0002_2023-11-28_19-30-06/checkpoint_000000)\n",
      "\u001b[2m\u001b[36m(TrainLightGCN pid=3609650)\u001b[0m /home/daviddavo/upm-tfm-notebooks/.direnv/python-3.9/lib/python3.9/site-packages/recommenders/models/deeprec/DataModel/ImplicitCF.py:73: FutureWarning: The frame.append method is deprecated and will be removed from pandas in a future version. Use pandas.concat instead.\n",
      "\u001b[2m\u001b[36m(TrainLightGCN pid=3609650)\u001b[0m   df = train if test is None else train.append(test)\n"
     ]
    },
    {
     "name": "stdout",
     "output_type": "stream",
     "text": [
      "\u001b[2m\u001b[36m(TrainLightGCN pid=3609650)\u001b[0m Already create adjacency matrix.\n",
      "\u001b[2m\u001b[36m(TrainLightGCN pid=3609650)\u001b[0m Already normalize adjacency matrix.\n",
      "\u001b[2m\u001b[36m(TrainLightGCN pid=3609650)\u001b[0m Using xavier initialization.\n"
     ]
    },
    {
     "name": "stderr",
     "output_type": "stream",
     "text": [
      "\u001b[2m\u001b[36m(TrainLightGCN pid=3608654)\u001b[0m Checkpoint successfully created at: Checkpoint(filesystem=local, path=/home/daviddavo/ray_results/LightGCN_dao=Decentraland,freq=1W,fold=9_2023-11-28T18:22:49.870078/TrainLightGCN_a1a9116d_76_batch_size=6,conv_layers=5,embedding_dim=70,fold=9,l2=0.0000,learning_rate=0.0010_2023-11-28_19-31-10/checkpoint_000000)\n",
      "\u001b[2m\u001b[36m(TrainLightGCN pid=3609650)\u001b[0m Trainable.setup took 26.575 seconds. If your trainable is slow to initialize, consider setting reuse_actors=True to reduce actor creation overheads.\n",
      "\u001b[2m\u001b[36m(pid=3609796)\u001b[0m 2023-11-28 19:38:26.358404: E tensorflow/compiler/xla/stream_executor/cuda/cuda_dnn.cc:9342] Unable to register cuDNN factory: Attempting to register factory for plugin cuDNN when one has already been registered\n",
      "\u001b[2m\u001b[36m(pid=3609796)\u001b[0m 2023-11-28 19:38:26.358442: E tensorflow/compiler/xla/stream_executor/cuda/cuda_fft.cc:609] Unable to register cuFFT factory: Attempting to register factory for plugin cuFFT when one has already been registered\n",
      "\u001b[2m\u001b[36m(pid=3609796)\u001b[0m 2023-11-28 19:38:26.358455: E tensorflow/compiler/xla/stream_executor/cuda/cuda_blas.cc:1518] Unable to register cuBLAS factory: Attempting to register factory for plugin cuBLAS when one has already been registered\n",
      "IOPub message rate exceeded.\n",
      "The Jupyter server will temporarily stop sending output\n",
      "to the client in order to avoid crashing it.\n",
      "To change this limit, set the config variable\n",
      "`--ServerApp.iopub_msg_rate_limit`.\n",
      "\n",
      "Current values:\n",
      "ServerApp.iopub_msg_rate_limit=1000.0 (msgs/sec)\n",
      "ServerApp.rate_limit_window=3.0 (secs)\n",
      "\n"
     ]
    }
   ],
   "source": [
    "tuners = []\n",
    "results = []\n",
    "last_best_result = None\n",
    "for f in range(LAST_SPLITS):\n",
    "    best_prev_config = None\n",
    "    if last_best_result is not None:\n",
    "        best_prev_config = last_best_result.config.copy()\n",
    "        best_prev_config['fold'] += 1\n",
    "        best_prev_config = [best_prev_config]\n",
    "    \n",
    "    t = getTunerOnFold(f, best_prev_config)\n",
    "    tuners.append(t)\n",
    "\n",
    "    rg = t.fit()\n",
    "    results.append(rg)\n",
    "\n",
    "    # Assert that the prev config has been tried\n",
    "    if last_best_result is not None:\n",
    "        assert any( \n",
    "            all((r.config[k] == v for k, v in last_best_result.config.items() if k != 'fold'))\n",
    "            for r in rg if r.config\n",
    "        ), f\"The config has not been tested in fold {f}\"       \n",
    "    \n",
    "    last_best_result = rg.get_best_result()"
   ]
  }
 ],
 "metadata": {
  "kernelspec": {
   "display_name": "Python 3 (ipykernel)",
   "language": "python",
   "name": "python3"
  },
  "language_info": {
   "codemirror_mode": {
    "name": "ipython",
    "version": 3
   },
   "file_extension": ".py",
   "mimetype": "text/x-python",
   "name": "python",
   "nbconvert_exporter": "python",
   "pygments_lexer": "ipython3",
   "version": "3.9.18"
  },
  "widgets": {
   "application/vnd.jupyter.widget-state+json": {
    "state": {},
    "version_major": 2,
    "version_minor": 0
   }
  }
 },
 "nbformat": 4,
 "nbformat_minor": 5
}
