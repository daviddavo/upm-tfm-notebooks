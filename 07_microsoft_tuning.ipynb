{
 "cells": [
  {
   "cell_type": "code",
   "execution_count": 1,
   "id": "cf98a9e1-f3e0-4c0a-96c1-30f305901246",
   "metadata": {},
   "outputs": [
    {
     "name": "stdout",
     "output_type": "stream",
     "text": [
      "Python version 3.9.18 (main, Oct 24 2023, 09:18:18) \n",
      "[GCC 11.4.0]\n"
     ]
    },
    {
     "name": "stderr",
     "output_type": "stream",
     "text": [
      "2023-11-10 20:18:16.161792: E tensorflow/compiler/xla/stream_executor/cuda/cuda_dnn.cc:9342] Unable to register cuDNN factory: Attempting to register factory for plugin cuDNN when one has already been registered\n",
      "2023-11-10 20:18:16.166909: E tensorflow/compiler/xla/stream_executor/cuda/cuda_fft.cc:609] Unable to register cuFFT factory: Attempting to register factory for plugin cuFFT when one has already been registered\n",
      "2023-11-10 20:18:16.166940: E tensorflow/compiler/xla/stream_executor/cuda/cuda_blas.cc:1518] Unable to register cuBLAS factory: Attempting to register factory for plugin cuBLAS when one has already been registered\n"
     ]
    },
    {
     "name": "stdout",
     "output_type": "stream",
     "text": [
      "11.8 8\n"
     ]
    }
   ],
   "source": [
    "from typing import Dict, List, Tuple, Union, Any, Optional\n",
    "\n",
    "import os\n",
    "import sys\n",
    "print(\"Python version\", sys.version)\n",
    "\n",
    "# Ignore pandas warnings\n",
    "import warnings\n",
    "warnings.simplefilter(action='ignore', category=FutureWarning)\n",
    "\n",
    "from pathlib import Path\n",
    "\n",
    "import pandas as pd\n",
    "import numpy as np\n",
    "import tensorflow as tf\n",
    "\n",
    "import ray\n",
    "from ray import train, tune\n",
    "\n",
    "from src.datasets import daocensus\n",
    "\n",
    "%load_ext autoreload\n",
    "%autoreload 2\n",
    "\n",
    "tf.get_logger().setLevel('WARNING')\n",
    "\n",
    "tf.config.list_physical_devices(\"GPU\")\n",
    "sys_details = tf.sysconfig.get_build_info()\n",
    "cuda = sys_details.get(\"cuda_version\", -1)\n",
    "cudnn = sys_details.get(\"cudnn_version\", -1)\n",
    "print(cuda, cudnn)"
   ]
  },
  {
   "cell_type": "code",
   "execution_count": 2,
   "id": "798161a7-5414-4626-9dfb-6d71823bf4c7",
   "metadata": {},
   "outputs": [],
   "source": [
    "# Others config\n",
    "SEED: int = 57\n",
    "RAY_RESULTS_PATH: Path = Path('~/ray_results').expanduser()\n",
    "\n",
    "# Dataset splits config\n",
    "N_SPLITS: int = 10\n",
    "SKIP_SPLIT: int = 0\n",
    "\n",
    "# Training config\n",
    "MAX_EPOCHS: int = 200\n",
    "EPOCHS_PER_ITER: int = 5\n",
    "\n",
    "# Eval config\n",
    "TOP_K: int = 5\n",
    "METRICS: List[str] = [\"recall\", \"ndcg\", \"precision\", \"map\"]"
   ]
  },
  {
   "cell_type": "markdown",
   "id": "ab0ff2f2-bdaa-46eb-87d1-c4481734b8c0",
   "metadata": {},
   "source": [
    "# Load data"
   ]
  },
  {
   "cell_type": "code",
   "execution_count": 3,
   "id": "765a4892-6a85-40ab-a65d-c0d76b0569b2",
   "metadata": {},
   "outputs": [
    {
     "name": "stdout",
     "output_type": "stream",
     "text": [
      "<class 'pandas.core.frame.DataFrame'>\n",
      "RangeIndex: 116560 entries, 0 to 116559\n",
      "Data columns (total 10 columns):\n",
      " #   Column         Non-Null Count   Dtype         \n",
      "---  ------         --------------   -----         \n",
      " 0   platform       116560 non-null  object        \n",
      " 1   name           116560 non-null  object        \n",
      " 2   id             116560 non-null  object        \n",
      " 3   proposal       116560 non-null  category      \n",
      " 4   deployment     116560 non-null  object        \n",
      " 5   platform_vote  116560 non-null  object        \n",
      " 6   voter          116560 non-null  object        \n",
      " 7   date           116560 non-null  datetime64[ns]\n",
      " 8   choice         116560 non-null  object        \n",
      " 9   weight         116560 non-null  float64       \n",
      "dtypes: category(1), datetime64[ns](1), float64(1), object(7)\n",
      "memory usage: 8.3+ MB\n",
      "None\n",
      "<class 'pandas.core.frame.DataFrame'>\n",
      "Int64Index: 1942 entries, 0 to 1941\n",
      "Data columns (total 14 columns):\n",
      " #   Column               Non-Null Count  Dtype         \n",
      "---  ------               --------------  -----         \n",
      " 0   platform             1942 non-null   object        \n",
      " 1   name                 1942 non-null   object        \n",
      " 2   platform_deployment  1942 non-null   object        \n",
      " 3   id                   1942 non-null   category      \n",
      " 4   deployment           1942 non-null   object        \n",
      " 5   platform_proposal    1942 non-null   object        \n",
      " 6   author               1942 non-null   category      \n",
      " 7   date                 1942 non-null   datetime64[ns]\n",
      " 8   votes_count          1942 non-null   int64         \n",
      " 9   proposal_id          1942 non-null   object        \n",
      " 10  title                1942 non-null   object        \n",
      " 11  description          1942 non-null   object        \n",
      " 12  start                1942 non-null   datetime64[ns]\n",
      " 13  end                  1942 non-null   datetime64[ns]\n",
      "dtypes: category(2), datetime64[ns](3), int64(1), object(8)\n",
      "memory usage: 599.4+ KB\n",
      "None\n"
     ]
    }
   ],
   "source": [
    "dfptext = pd.read_csv('./snapshot_proposals.csv')[['proposal_id', 'title', 'description', 'start', 'end']]\n",
    "dfv, dfp = daocensus.get(\"./data/daos-census\", 'Decentraland', 'snapshot')\n",
    "dfv['voter'] = dfv['voter'].astype('str')\n",
    "dfp = dfp.merge(dfptext, how='left', left_on='platform_proposal', right_on='proposal_id')\n",
    "dfp[['start', 'end']] = dfp[['start', 'end']].astype('datetime64')\n",
    "print(dfv.info())\n",
    "print(dfp.info())"
   ]
  },
  {
   "cell_type": "markdown",
   "id": "df339c08-4f99-4933-886c-6ab774f09e63",
   "metadata": {},
   "source": [
    "## Transform data"
   ]
  },
  {
   "cell_type": "code",
   "execution_count": 4,
   "id": "4b003927-cfab-4f9a-91f8-1376f038f82e",
   "metadata": {},
   "outputs": [
    {
     "data": {
      "text/html": [
       "<div>\n",
       "<style scoped>\n",
       "    .dataframe tbody tr th:only-of-type {\n",
       "        vertical-align: middle;\n",
       "    }\n",
       "\n",
       "    .dataframe tbody tr th {\n",
       "        vertical-align: top;\n",
       "    }\n",
       "\n",
       "    .dataframe thead th {\n",
       "        text-align: right;\n",
       "    }\n",
       "</style>\n",
       "<table border=\"1\" class=\"dataframe\">\n",
       "  <thead>\n",
       "    <tr style=\"text-align: right;\">\n",
       "      <th></th>\n",
       "      <th>userID</th>\n",
       "      <th>itemID</th>\n",
       "      <th>timestamp</th>\n",
       "      <th>rating</th>\n",
       "    </tr>\n",
       "  </thead>\n",
       "  <tbody>\n",
       "    <tr>\n",
       "      <th>0</th>\n",
       "      <td>0xe7af1c70f8f089c4c3bd71999692c6c5a15d9e2a</td>\n",
       "      <td>b86aa059-3d31-5d41-a472-70962816f779</td>\n",
       "      <td>2021-12-17 12:28:01</td>\n",
       "      <td>1</td>\n",
       "    </tr>\n",
       "    <tr>\n",
       "      <th>1</th>\n",
       "      <td>0xc54a6c3778016b06cbd126ccc3b5bc06c5f666fb</td>\n",
       "      <td>b86aa059-3d31-5d41-a472-70962816f779</td>\n",
       "      <td>2021-12-17 02:16:23</td>\n",
       "      <td>1</td>\n",
       "    </tr>\n",
       "    <tr>\n",
       "      <th>2</th>\n",
       "      <td>0xd82d005e8f8d5385db40ba23884a5c967bb1e8af</td>\n",
       "      <td>b86aa059-3d31-5d41-a472-70962816f779</td>\n",
       "      <td>2021-12-17 00:38:22</td>\n",
       "      <td>1</td>\n",
       "    </tr>\n",
       "    <tr>\n",
       "      <th>3</th>\n",
       "      <td>0xf4c64db66ffb301985f5ecd85c8f3f9c02f2659d</td>\n",
       "      <td>b86aa059-3d31-5d41-a472-70962816f779</td>\n",
       "      <td>2021-12-16 18:47:08</td>\n",
       "      <td>1</td>\n",
       "    </tr>\n",
       "    <tr>\n",
       "      <th>4</th>\n",
       "      <td>0xd5e9ef1cedad0d135d543d286a2c190b16cbb89e</td>\n",
       "      <td>b86aa059-3d31-5d41-a472-70962816f779</td>\n",
       "      <td>2021-12-16 18:32:15</td>\n",
       "      <td>1</td>\n",
       "    </tr>\n",
       "  </tbody>\n",
       "</table>\n",
       "</div>"
      ],
      "text/plain": [
       "                                       userID  \\\n",
       "0  0xe7af1c70f8f089c4c3bd71999692c6c5a15d9e2a   \n",
       "1  0xc54a6c3778016b06cbd126ccc3b5bc06c5f666fb   \n",
       "2  0xd82d005e8f8d5385db40ba23884a5c967bb1e8af   \n",
       "3  0xf4c64db66ffb301985f5ecd85c8f3f9c02f2659d   \n",
       "4  0xd5e9ef1cedad0d135d543d286a2c190b16cbb89e   \n",
       "\n",
       "                                 itemID           timestamp  rating  \n",
       "0  b86aa059-3d31-5d41-a472-70962816f779 2021-12-17 12:28:01       1  \n",
       "1  b86aa059-3d31-5d41-a472-70962816f779 2021-12-17 02:16:23       1  \n",
       "2  b86aa059-3d31-5d41-a472-70962816f779 2021-12-17 00:38:22       1  \n",
       "3  b86aa059-3d31-5d41-a472-70962816f779 2021-12-16 18:47:08       1  \n",
       "4  b86aa059-3d31-5d41-a472-70962816f779 2021-12-16 18:32:15       1  "
      ]
     },
     "execution_count": 4,
     "metadata": {},
     "output_type": "execute_result"
    }
   ],
   "source": [
    "def to_microsoft(dfv):\n",
    "    df = dfv[['voter', 'proposal', 'date']].rename(columns={\n",
    "        'voter': 'userID',\n",
    "        'proposal': 'itemID',\n",
    "        'date': 'timestamp',\n",
    "    })\n",
    "    df['itemID'] = df['itemID'].astype('str')\n",
    "    df['rating'] = 1\n",
    "    return df\n",
    "\n",
    "df = to_microsoft(dfv)\n",
    "df.head()"
   ]
  },
  {
   "cell_type": "markdown",
   "id": "8faab8dc-8192-47b5-96df-7458bd890ffb",
   "metadata": {},
   "source": [
    "# Split data\n",
    "\n",
    "Each proposal remains open for a few days, our environment is different of a movies recommender system. For this reason, we will use a TimeSeriesSplit instead of a K-Fold to cross-validate the model.\n",
    "\n",
    "![](https://scikit-learn.org/stable/_images/sphx_glr_plot_cv_indices_013.png)\n",
    "\n",
    "El TimeSeriesSplit de scikit-learn no nos vale porque el número de elementos en cada split es el mismo, pero el tamaño del intervalo, no. Como queremos simular un comportamiento realista, haremos el split dividiendo por intervalos de igual longitud."
   ]
  },
  {
   "cell_type": "code",
   "execution_count": 5,
   "id": "3f661ac7-df23-49ad-9671-cfa65d4b44d6",
   "metadata": {},
   "outputs": [],
   "source": [
    "from recommenders.evaluation.python_evaluation import metrics as metrics_dict"
   ]
  },
  {
   "cell_type": "code",
   "execution_count": 6,
   "id": "445d9909-609a-4cf3-8e24-6fa36946a375",
   "metadata": {},
   "outputs": [
    {
     "name": "stdout",
     "output_type": "stream",
     "text": [
      "Split 0, train from: 2021-05-24 to 2021-08-04, test from: 2021-08-04 to 2021-08-10\n",
      "  len(train): 3453, len(test): 48\n",
      "  users(train): 581, users(test): 27\n",
      "\n",
      "  highest possible recall@5:\t0.9894\n",
      "  highest possible ndcg@5:\t1.0000\n",
      "  highest possible precision@5:\t0.3407\n",
      "  highest possible map@5:\t0.9894\n",
      "------------------------------\n",
      "Split 1, train from: 2021-08-04 to 2021-10-14, test from: 2021-10-15 to 2021-10-19\n",
      "  len(train): 6397, len(test): 132\n",
      "  users(train): 930, users(test): 121\n",
      "\n",
      "  highest possible recall@5:\t0.9976\n",
      "  highest possible ndcg@5:\t1.0000\n",
      "  highest possible precision@5:\t0.2149\n",
      "  highest possible map@5:\t0.9976\n",
      "------------------------------\n",
      "Split 2, train from: 2021-10-14 to 2021-12-25, test from: 2021-12-25 to 2021-12-31\n",
      "  len(train): 15187, len(test): 99\n",
      "  users(train): 2388, users(test): 47\n",
      "\n",
      "  highest possible recall@5:\t0.9721\n",
      "  highest possible ndcg@5:\t1.0000\n",
      "  highest possible precision@5:\t0.3660\n",
      "  highest possible map@5:\t0.9721\n",
      "------------------------------\n",
      "Split 3, train from: 2021-12-25 to 2022-03-06, test from: 2022-03-06 to 2022-03-16\n",
      "  len(train): 23389, len(test): 157\n",
      "  users(train): 3227, users(test): 79\n",
      "\n",
      "  highest possible recall@5:\t0.9859\n",
      "  highest possible ndcg@5:\t1.0000\n",
      "  highest possible precision@5:\t0.3722\n",
      "  highest possible map@5:\t0.9859\n",
      "------------------------------\n",
      "Split 4, train from: 2022-03-06 to 2022-05-17, test from: 2022-05-17 to 2022-05-30\n",
      "  len(train): 28957, len(test): 283\n",
      "  users(train): 3714, users(test): 103\n",
      "\n",
      "  highest possible recall@5:\t0.9470\n",
      "  highest possible ndcg@5:\t1.0000\n",
      "  highest possible precision@5:\t0.3592\n",
      "  highest possible map@5:\t0.9470\n",
      "------------------------------\n",
      "Split 5, train from: 2022-05-17 to 2022-07-27, test from: 2022-07-27 to 2022-08-10\n",
      "  len(train): 35766, len(test): 219\n",
      "  users(train): 4257, users(test): 103\n",
      "\n",
      "  highest possible recall@5:\t0.9715\n",
      "  highest possible ndcg@5:\t1.0000\n",
      "  highest possible precision@5:\t0.3767\n",
      "  highest possible map@5:\t0.9715\n",
      "------------------------------\n",
      "Split 6, train from: 2022-07-27 to 2022-10-07, test from: 2022-10-07 to 2022-10-19\n",
      "  len(train): 45343, len(test): 252\n",
      "  users(train): 4710, users(test): 88\n",
      "\n",
      "  highest possible recall@5:\t0.9547\n",
      "  highest possible ndcg@5:\t1.0000\n",
      "  highest possible precision@5:\t0.4932\n",
      "  highest possible map@5:\t0.9547\n",
      "------------------------------\n",
      "Split 7, train from: 2022-10-07 to 2022-12-17, test from: 2022-12-18 to 2022-12-30\n",
      "  len(train): 58917, len(test): 566\n",
      "  users(train): 5265, users(test): 172\n",
      "\n",
      "  highest possible recall@5:\t0.9235\n",
      "  highest possible ndcg@5:\t1.0000\n",
      "  highest possible precision@5:\t0.4977\n",
      "  highest possible map@5:\t0.9235\n",
      "------------------------------\n",
      "Split 8, train from: 2022-12-17 to 2023-02-27, test from: 2023-02-27 to 2023-03-12\n",
      "  len(train): 84884, len(test): 161\n",
      "  users(train): 6406, users(test): 120\n",
      "\n",
      "  highest possible recall@5:\t1.0000\n",
      "  highest possible ndcg@5:\t1.0000\n",
      "  highest possible precision@5:\t0.2683\n",
      "  highest possible map@5:\t1.0000\n",
      "------------------------------\n",
      "Split 9, train from: 2023-02-27 to 2023-05-10, test from: 2023-05-10 to 2023-05-22\n",
      "  len(train): 105988, len(test): 341\n",
      "  users(train): 6857, users(test): 125\n",
      "\n",
      "  highest possible recall@5:\t0.9616\n",
      "  highest possible ndcg@5:\t1.0000\n",
      "  highest possible precision@5:\t0.4720\n",
      "  highest possible map@5:\t0.9616\n",
      "------------------------------\n"
     ]
    }
   ],
   "source": [
    "from src.model_selection import timeIntervalSplit, timeIntervalSplitCurrent\n",
    "\n",
    "max_train_prev = df['timestamp'].min().date()\n",
    "folds = list(timeIntervalSplitCurrent(df, N_SPLITS, dfp, skip=SKIP_SPLIT, remove_not_in_train_col='userID'))\n",
    "for i, (dftrain, dftest) in enumerate(folds):\n",
    "    min_train = dftrain['timestamp'].min().date()\n",
    "    max_train = dftrain['timestamp'].max().date()\n",
    "    min_test  = dftest['timestamp'].min().date()\n",
    "    max_test  = dftest['timestamp'].max().date()\n",
    "    train_diff = (max_train-max_train_prev).days\n",
    "    test_diff = (max_test-min_test).days\n",
    "\n",
    "    train_users = len(set(dftrain['userID']))\n",
    "    test_users = len(set(dftest['userID']))\n",
    "    \n",
    "    print(f\"Split {i}, train from: {max_train_prev} to {max_train}, test from: {min_test} to {max_test}\")\n",
    "    print(f\"  len(train): {len(dftrain)}, len(test): {len(dftest)}\")\n",
    "    print(f\"  users(train): {train_users}, users(test): {test_users}\")\n",
    "\n",
    "    print()\n",
    "    dftest['prediction'] = 1\n",
    "    for m in METRICS:\n",
    "        f = metrics_dict[f'{m}_at_k']\n",
    "        print(f\"  highest possible {m}@{TOP_K}:\\t{f(dftest, dftest, k=TOP_K, relevancy_method='top_k'):.4f}\")\n",
    "\n",
    "    print(\"-\"*30)\n",
    "\n",
    "    max_train_prev = max_train"
   ]
  },
  {
   "cell_type": "markdown",
   "id": "5c881c43-d308-40ff-b6b4-d54458e1bc32",
   "metadata": {},
   "source": [
    "# Defining training"
   ]
  },
  {
   "cell_type": "code",
   "execution_count": 7,
   "id": "9a502e2d-3398-405f-9029-d3abc69033dc",
   "metadata": {},
   "outputs": [],
   "source": [
    "from recommenders.models.deeprec.models.graphrec.lightgcn import LightGCN\n",
    "\n",
    "class LightGCNCustom(LightGCN):\n",
    "    # Copied from LightGCN.fit but RETURNING the data and deleting unnecessary things\n",
    "    def __init__(self, *args, **kwargs):\n",
    "        super().__init__(*args, **kwargs)\n",
    "        self.epochs_done = 0\n",
    "    \n",
    "    def fit_epoch(self):\n",
    "        \"\"\"Fit the model on self.data.train. If eval_epoch is not -1, evaluate the model on `self.data.test`\n",
    "        every `eval_epoch` epoch to observe the training status.\n",
    "\n",
    "        \"\"\"\n",
    "        loss, mf_loss, emb_loss = 0.0, 0.0, 0.0\n",
    "        n_batch = self.data.train.shape[0] // self.batch_size + 1\n",
    "        for idx in range(n_batch):\n",
    "            users, pos_items, neg_items = self.data.train_loader(self.batch_size)\n",
    "            _, batch_loss, batch_mf_loss, batch_emb_loss = self.sess.run(\n",
    "                [self.opt, self.loss, self.mf_loss, self.emb_loss],\n",
    "                feed_dict={\n",
    "                    self.users: users,\n",
    "                    self.pos_items: pos_items,\n",
    "                    self.neg_items: neg_items,\n",
    "                },\n",
    "            )\n",
    "            loss += batch_loss / n_batch\n",
    "            mf_loss += batch_mf_loss / n_batch\n",
    "            emb_loss += batch_emb_loss / n_batch\n",
    "\n",
    "        if np.isnan(loss):\n",
    "            print(\"ERROR: loss is nan.\")\n",
    "            sys.exit()\n",
    "\n",
    "        self.epochs_done += 1\n",
    "\n",
    "        return loss, mf_loss, emb_loss"
   ]
  },
  {
   "cell_type": "code",
   "execution_count": 8,
   "id": "a5d010bf-3a9c-4931-9d02-6589b3164438",
   "metadata": {
    "scrolled": true
   },
   "outputs": [],
   "source": [
    "from recommenders.models.deeprec.deeprec_utils import prepare_hparams\n",
    "from recommenders.models.deeprec.DataModel.ImplicitCF import ImplicitCF\n",
    "\n",
    "class TrainLightGCN(tune.Trainable):\n",
    "    def setup(\n",
    "        self,\n",
    "        config: Dict[str, Any],\n",
    "        folds: List[Tuple[pd.DataFrame, pd.DataFrame]],\n",
    "    ):\n",
    "        self.config = config\n",
    "        config['batch_size'] = 2**config['batch_size']\n",
    "        self.fold = config['__trial_index__']\n",
    "\n",
    "        self.hparams = prepare_hparams(\n",
    "            model_type='lightgcn',\n",
    "            n_layers=config['conv_layers'],\n",
    "            batch_size=config['batch_size'],\n",
    "            embed_size=config['embedding_dim'],\n",
    "            epochs=EPOCHS_PER_ITER,\n",
    "            learning_rate=config['learning_rate'],\n",
    "            decay=config['l2'],\n",
    "            metrics=METRICS,\n",
    "            eval_epoch=-1,\n",
    "            top_k=TOP_K,\n",
    "            save_model=False,\n",
    "            MODEL_DIR='./data/model/lightgcn/',\n",
    "        )\n",
    "\n",
    "        self.dataloader = ImplicitCF(train=folds[self.fold][0], test=folds[self.fold][1], seed=SEED)\n",
    "        self.model = LightGCNCustom(self.hparams, self.dataloader, seed=SEED)\n",
    "\n",
    "    @property\n",
    "    def iteration(self):\n",
    "        return self.model.epochs_done\n",
    "\n",
    "    @property\n",
    "    def training_iteration(self):\n",
    "        return self.model.epochs_done\n",
    "\n",
    "    def step(self):\n",
    "        \"\"\"\n",
    "        As a rule of thumb, the execution time of step should be large enough to avoid overheads \n",
    "        (i.e. more than a few seconds), but short enough to report progress periodically \n",
    "        (i.e. at most a few minutes).\n",
    "        \"\"\"\n",
    "        assert EPOCHS_PER_ITER > 0\n",
    "        \n",
    "        for _ in range(EPOCHS_PER_ITER):\n",
    "            ret = self.model.fit_epoch()\n",
    "\n",
    "        return {\n",
    "            'iteration': self.iteration,\n",
    "            'loss': ret[0],\n",
    "            'mf_loss': ret[1],\n",
    "            'emb_loss': ret[2],\n",
    "            **{k:v for k,v in zip(self.model.metrics, self.model.run_eval())},\n",
    "        }\n",
    "\n",
    "    def save_checkpoint(self, checkpoint_dir):\n",
    "        checkpoint_path = os.path.join(checkpoint_dir, \"model\")\n",
    "        self.model.saver.save(\n",
    "            sess=self.model.sess,\n",
    "            save_path=checkpoint_path,\n",
    "        )\n",
    "        return checkpoint_dir\n",
    "\n",
    "    def load_checkpoint(self, checkpoint_path):\n",
    "        self.model.load(checkpoint_path)"
   ]
  },
  {
   "cell_type": "markdown",
   "id": "16a748c7-63e9-412b-9eb9-ee4df4f7e3d8",
   "metadata": {},
   "source": [
    "### Small test"
   ]
  },
  {
   "cell_type": "code",
   "execution_count": 9,
   "id": "e1bcddf1-c9bd-423f-80d7-972b3e8d3212",
   "metadata": {},
   "outputs": [
    {
     "name": "stdout",
     "output_type": "stream",
     "text": [
      "items: 1836 user: 6857\n",
      "Already create adjacency matrix.\n",
      "Already normalize adjacency matrix.\n",
      "Using xavier initialization.\n"
     ]
    }
   ],
   "source": [
    "hparams = prepare_hparams(\n",
    "    model_type='lightgcn',\n",
    "    n_layers=3,\n",
    "    batch_size=512,\n",
    "    embed_size=64,\n",
    "    epochs=10,\n",
    "    learning_rate=0.001,\n",
    "    decay=0.001,\n",
    "    metrics=[\"recall\", \"ndcg\", \"precision\", \"map\"],\n",
    "    eval_epoch=2,\n",
    "    top_k=TOP_K,\n",
    "    save_model=False,\n",
    "    MODEL_DIR='./data/model/lightgcn/',\n",
    ")\n",
    "dataloader = ImplicitCF(train=folds[-1][0], test=folds[-1][1], seed=SEED)\n",
    "print(\"items:\", dataloader.n_items, \"user:\", dataloader.n_users)\n",
    "model = LightGCNCustom(\n",
    "    hparams,\n",
    "    dataloader,\n",
    "    seed=SEED,\n",
    ")"
   ]
  },
  {
   "cell_type": "code",
   "execution_count": 10,
   "id": "bd79128d-1890-44ea-8400-b1804ea9767f",
   "metadata": {
    "scrolled": true
   },
   "outputs": [
    {
     "name": "stdout",
     "output_type": "stream",
     "text": [
      "Epoch 1 (train)3.9s: train loss = 0.60378 = (mf)0.60305 + (embed)0.00073\n",
      "Epoch 2 (train)1.9s + (eval)3.2s: train loss = 0.35138 = (mf)0.34746 + (embed)0.00392, recall = 0.00400, ndcg = 0.00394, precision = 0.00320, map = 0.00200\n",
      "Epoch 3 (train)3.3s: train loss = 0.25582 = (mf)0.24906 + (embed)0.00676\n",
      "Epoch 4 (train)2.9s + (eval)0.2s: train loss = 0.20802 = (mf)0.19926 + (embed)0.00876, recall = 0.00400, ndcg = 0.00394, precision = 0.00320, map = 0.00200\n",
      "Epoch 5 (train)2.3s: train loss = 0.18292 = (mf)0.17263 + (embed)0.01029\n",
      "Epoch 6 (train)1.0s + (eval)0.2s: train loss = 0.16253 = (mf)0.15102 + (embed)0.01151, recall = 0.00400, ndcg = 0.00394, precision = 0.00320, map = 0.00200\n",
      "Epoch 7 (train)3.2s: train loss = 0.14699 = (mf)0.13448 + (embed)0.01250\n",
      "Epoch 8 (train)3.2s + (eval)0.2s: train loss = 0.13641 = (mf)0.12309 + (embed)0.01332, recall = 0.00453, ndcg = 0.00730, precision = 0.00480, map = 0.00411\n",
      "Epoch 9 (train)3.0s: train loss = 0.12787 = (mf)0.11383 + (embed)0.01404\n",
      "Epoch 10 (train)3.1s + (eval)0.2s: train loss = 0.12017 = (mf)0.10554 + (embed)0.01464, recall = 0.00453, ndcg = 0.00796, precision = 0.00480, map = 0.00427\n"
     ]
    }
   ],
   "source": [
    "model.fit()"
   ]
  },
  {
   "cell_type": "markdown",
   "id": "16276fe4-d63d-4e7a-bcc8-38d8f5be299c",
   "metadata": {},
   "source": [
    "### Big experiment"
   ]
  },
  {
   "cell_type": "code",
   "execution_count": 11,
   "id": "a6cf4b2a-7028-439e-98c4-568e120b0a32",
   "metadata": {},
   "outputs": [
    {
     "data": {
      "text/plain": [
       "'lamarck'"
      ]
     },
     "execution_count": 11,
     "metadata": {},
     "output_type": "execute_result"
    }
   ],
   "source": [
    "os.uname().nodename"
   ]
  },
  {
   "cell_type": "code",
   "execution_count": 12,
   "id": "427c4b72-593a-41ff-9fd6-991e8e3a0445",
   "metadata": {},
   "outputs": [
    {
     "data": {
      "text/plain": [
       "PosixPath('/home/daviddavo/ray_results')"
      ]
     },
     "execution_count": 12,
     "metadata": {},
     "output_type": "execute_result"
    }
   ],
   "source": [
    "RAY_RESULTS_PATH"
   ]
  },
  {
   "cell_type": "code",
   "execution_count": 13,
   "id": "a5ad6f33-effe-4f48-850e-8044af3a88dc",
   "metadata": {},
   "outputs": [
    {
     "name": "stdout",
     "output_type": "stream",
     "text": [
      "No experiment found, creating new tuner\n"
     ]
    }
   ],
   "source": [
    "import ray\n",
    "from ray.tune.search.hyperopt import HyperOptSearch\n",
    "\n",
    "last_experiment = max(RAY_RESULTS_PATH.glob('TrainLightGCN_*'), key=lambda x: x.stat().st_ctime)\n",
    "# last_experiment = None\n",
    "\n",
    "### SET TRAINING RESOURCES\n",
    "if os.uname().nodename == 'lamarck':\n",
    "    # assert torch.cuda.is_available()\n",
    "    \n",
    "    NUM_SAMPLES = 100\n",
    "    # Every run takes approx half a gig of vram (no optimizations)\n",
    "    # The RTX 4090 has 24GB so we can run the model about 48 times\n",
    "    resources_per_trial={\n",
    "        'cpu': 1,\n",
    "        # GPU has 25GiB, and each run might take up to 2GiB (torch version was lighter)\n",
    "        # so each run might take up to 1/12th of the GPU\n",
    "        # I use 1/8th so I don't take all the resources in the machine\n",
    "        'gpu': 1/8,\n",
    "    }\n",
    "else:\n",
    "    NUM_SAMPLES = 1\n",
    "    resources_per_trial={\n",
    "        'cpu': 1,\n",
    "        # It takes about 1.5 GiB with full training data, but I put a bit more because\n",
    "        # this notebook also takes a bit of memory\n",
    "        'memory': 2e9,\n",
    "    }\n",
    "\n",
    "### RESTORE EXPERIMENT OR CREATE A NEW ONE\n",
    "if last_experiment and tune.Tuner.can_restore(last_experiment):\n",
    "    print(f\"Restoring last experiment: {last_experiment}\")\n",
    "    tuner = tune.Tuner.restore(\n",
    "        str(last_experiment),\n",
    "        trainable=tune.with_resources(\n",
    "            tune.with_parameters(TrainLightGCN, folds=folds),\n",
    "            resources_per_trial,\n",
    "        ),\n",
    "        restart_errored=True\n",
    "    )\n",
    "else:\n",
    "    print(\"No experiment found, creating new tuner\")\n",
    "    search_alg = HyperOptSearch()\n",
    "    search_alg = tune.search.Repeater(search_alg, N_SPLITS-SKIP_SPLIT)\n",
    "    \n",
    "    tuner = tune.Tuner(\n",
    "        tune.with_resources(\n",
    "            tune.with_parameters(TrainLightGCN, folds=folds),\n",
    "            resources_per_trial,\n",
    "        ),\n",
    "        run_config=train.RunConfig(\n",
    "            stop={'training_iteration': MAX_EPOCHS/EPOCHS_PER_ITER},\n",
    "            storage_path=RAY_RESULTS_PATH,\n",
    "        ),\n",
    "        param_space=dict(\n",
    "            # batch size between 2**4 (32) and 2**10 (1024)\n",
    "            batch_size=tune.randint(4,10),\n",
    "            embedding_dim=tune.qlograndint(10, 500, 5),\n",
    "            conv_layers=tune.randint(2,6),\n",
    "            learning_rate=tune.qloguniform(1e-4, 1, 1e-4),\n",
    "            l2=tune.loguniform(1e-7, 1e-1),\n",
    "        ),\n",
    "        tune_config=tune.TuneConfig(\n",
    "            search_alg=search_alg,\n",
    "            num_samples=(N_SPLITS-SKIP_SPLIT)*NUM_SAMPLES,\n",
    "            metric='loss',\n",
    "            mode='min',\n",
    "        )\n",
    "    )"
   ]
  },
  {
   "cell_type": "code",
   "execution_count": null,
   "id": "c968ecd5-d62c-4d57-846f-4bb7202a97c1",
   "metadata": {},
   "outputs": [
    {
     "data": {
      "text/html": [
       "<div class=\"tuneStatus\">\n",
       "  <div style=\"display: flex;flex-direction: row\">\n",
       "    <div style=\"display: flex;flex-direction: column;\">\n",
       "      <h3>Tune Status</h3>\n",
       "      <table>\n",
       "<tbody>\n",
       "<tr><td>Current time:</td><td>2023-11-11 08:58:25</td></tr>\n",
       "<tr><td>Running for: </td><td>12:38:17.98        </td></tr>\n",
       "<tr><td>Memory:      </td><td>22.0/125.6 GiB     </td></tr>\n",
       "</tbody>\n",
       "</table>\n",
       "    </div>\n",
       "    <div class=\"vDivider\"></div>\n",
       "    <div class=\"systemInfo\">\n",
       "      <h3>System Info</h3>\n",
       "      Using FIFO scheduling algorithm.<br>Logical resource usage: 8.0/24 CPUs, 1.0/1 GPUs (0.0/1.0 accelerator_type:G)\n",
       "    </div>\n",
       "    <div class=\"vDivider\"></div>\n",
       "<div class=\"messages\">\n",
       "  <h3>Messages</h3>\n",
       "  \n",
       "  ... 235 more trials not shown (235 TERMINATED)\n",
       "  \n",
       "</div>\n",
       "<style>\n",
       ".messages {\n",
       "  color: var(--jp-ui-font-color1);\n",
       "  display: flex;\n",
       "  flex-direction: column;\n",
       "  padding-left: 1em;\n",
       "  overflow-y: auto;\n",
       "}\n",
       ".messages h3 {\n",
       "  font-weight: bold;\n",
       "}\n",
       ".vDivider {\n",
       "  border-left-width: var(--jp-border-width);\n",
       "  border-left-color: var(--jp-border-color0);\n",
       "  border-left-style: solid;\n",
       "  margin: 0.5em 1em 0.5em 1em;\n",
       "}\n",
       "</style>\n",
       "\n",
       "  </div>\n",
       "  <div class=\"hDivider\"></div>\n",
       "  <div class=\"trialStatus\">\n",
       "    <h3>Trial Status</h3>\n",
       "    <table>\n",
       "<thead>\n",
       "<tr><th>Trial name            </th><th>status    </th><th>loc                  </th><th style=\"text-align: right;\">  __trial_index__</th><th style=\"text-align: right;\">  batch_size</th><th style=\"text-align: right;\">  conv_layers</th><th style=\"text-align: right;\">  embedding_dim</th><th style=\"text-align: right;\">         l2</th><th style=\"text-align: right;\">  learning_rate</th><th style=\"text-align: right;\">  iter</th><th style=\"text-align: right;\">  total time (s)</th><th style=\"text-align: right;\">  iteration</th><th style=\"text-align: right;\">        loss</th><th style=\"text-align: right;\">     mf_loss</th></tr>\n",
       "</thead>\n",
       "<tbody>\n",
       "<tr><td>TrainLightGCN_14a50a57</td><td>RUNNING   </td><td>147.96.81.131:1063955</td><td style=\"text-align: right;\">                2</td><td style=\"text-align: right;\">           6</td><td style=\"text-align: right;\">            2</td><td style=\"text-align: right;\">            490</td><td style=\"text-align: right;\">3.40219e-09</td><td style=\"text-align: right;\">         0.0014</td><td style=\"text-align: right;\">    30</td><td style=\"text-align: right;\">        307.891 </td><td style=\"text-align: right;\">        150</td><td style=\"text-align: right;\"> 0.000245423</td><td style=\"text-align: right;\"> 0.000245082</td></tr>\n",
       "<tr><td>TrainLightGCN_27ecfafd</td><td>RUNNING   </td><td>147.96.81.131:1053523</td><td style=\"text-align: right;\">                9</td><td style=\"text-align: right;\">           5</td><td style=\"text-align: right;\">            2</td><td style=\"text-align: right;\">             55</td><td style=\"text-align: right;\">1.39384e-09</td><td style=\"text-align: right;\">         0.0013</td><td style=\"text-align: right;\">    36</td><td style=\"text-align: right;\">       4617.88  </td><td style=\"text-align: right;\">        180</td><td style=\"text-align: right;\"> 0.00246303 </td><td style=\"text-align: right;\"> 0.00246286 </td></tr>\n",
       "<tr><td>TrainLightGCN_56e1a7eb</td><td>RUNNING   </td><td>147.96.81.131:1061849</td><td style=\"text-align: right;\">                7</td><td style=\"text-align: right;\">           6</td><td style=\"text-align: right;\">            2</td><td style=\"text-align: right;\">            155</td><td style=\"text-align: right;\">1.08639e-09</td><td style=\"text-align: right;\">         0.0009</td><td style=\"text-align: right;\">    27</td><td style=\"text-align: right;\">       1067.49  </td><td style=\"text-align: right;\">        135</td><td style=\"text-align: right;\"> 0.00175385 </td><td style=\"text-align: right;\"> 0.00175376 </td></tr>\n",
       "<tr><td>TrainLightGCN_8218e913</td><td>RUNNING   </td><td>147.96.81.131:1050495</td><td style=\"text-align: right;\">                9</td><td style=\"text-align: right;\">           4</td><td style=\"text-align: right;\">            4</td><td style=\"text-align: right;\">            160</td><td style=\"text-align: right;\">3.90107e-06</td><td style=\"text-align: right;\">         0.0808</td><td style=\"text-align: right;\">    37</td><td style=\"text-align: right;\">      10019.9   </td><td style=\"text-align: right;\">        185</td><td style=\"text-align: right;\"> 3.05099    </td><td style=\"text-align: right;\"> 2.40038    </td></tr>\n",
       "<tr><td>TrainLightGCN_94ecf1c1</td><td>RUNNING   </td><td>147.96.81.131:1062523</td><td style=\"text-align: right;\">                9</td><td style=\"text-align: right;\">           6</td><td style=\"text-align: right;\">            2</td><td style=\"text-align: right;\">            155</td><td style=\"text-align: right;\">1.08639e-09</td><td style=\"text-align: right;\">         0.0009</td><td style=\"text-align: right;\">    11</td><td style=\"text-align: right;\">        796.526 </td><td style=\"text-align: right;\">         55</td><td style=\"text-align: right;\"> 0.00468304 </td><td style=\"text-align: right;\"> 0.00468297 </td></tr>\n",
       "<tr><td>TrainLightGCN_9b70a6d2</td><td>RUNNING   </td><td>147.96.81.131:1064328</td><td style=\"text-align: right;\">                3</td><td style=\"text-align: right;\">           6</td><td style=\"text-align: right;\">            2</td><td style=\"text-align: right;\">            490</td><td style=\"text-align: right;\">3.40219e-09</td><td style=\"text-align: right;\">         0.0014</td><td style=\"text-align: right;\">     9</td><td style=\"text-align: right;\">        145.583 </td><td style=\"text-align: right;\">         45</td><td style=\"text-align: right;\"> 0.00294352 </td><td style=\"text-align: right;\"> 0.00294331 </td></tr>\n",
       "<tr><td>TrainLightGCN_e2cb71bf</td><td>RUNNING   </td><td>147.96.81.131:1058460</td><td style=\"text-align: right;\">                9</td><td style=\"text-align: right;\">           6</td><td style=\"text-align: right;\">            2</td><td style=\"text-align: right;\">            235</td><td style=\"text-align: right;\">7.47431e-09</td><td style=\"text-align: right;\">         0.0069</td><td style=\"text-align: right;\">    35</td><td style=\"text-align: right;\">       2431.45  </td><td style=\"text-align: right;\">        175</td><td style=\"text-align: right;\"> 0.010298   </td><td style=\"text-align: right;\"> 0.0102852  </td></tr>\n",
       "<tr><td>TrainLightGCN_f6582f05</td><td>RUNNING   </td><td>147.96.81.131:1062265</td><td style=\"text-align: right;\">                8</td><td style=\"text-align: right;\">           6</td><td style=\"text-align: right;\">            2</td><td style=\"text-align: right;\">            155</td><td style=\"text-align: right;\">1.08639e-09</td><td style=\"text-align: right;\">         0.0009</td><td style=\"text-align: right;\">    16</td><td style=\"text-align: right;\">        922.425 </td><td style=\"text-align: right;\">         80</td><td style=\"text-align: right;\"> 0.003539   </td><td style=\"text-align: right;\"> 0.00353892 </td></tr>\n",
       "<tr><td>TrainLightGCN_ab5f169f</td><td>PENDING   </td><td>                     </td><td style=\"text-align: right;\">                4</td><td style=\"text-align: right;\">           6</td><td style=\"text-align: right;\">            2</td><td style=\"text-align: right;\">            490</td><td style=\"text-align: right;\">3.40219e-09</td><td style=\"text-align: right;\">         0.0014</td><td style=\"text-align: right;\">      </td><td style=\"text-align: right;\">                </td><td style=\"text-align: right;\">           </td><td style=\"text-align: right;\">            </td><td style=\"text-align: right;\">            </td></tr>\n",
       "<tr><td>TrainLightGCN_004a85fb</td><td>TERMINATED</td><td>147.96.81.131:1036322</td><td style=\"text-align: right;\">                1</td><td style=\"text-align: right;\">           8</td><td style=\"text-align: right;\">            5</td><td style=\"text-align: right;\">            365</td><td style=\"text-align: right;\">1.78859e-06</td><td style=\"text-align: right;\">         0.013 </td><td style=\"text-align: right;\">    40</td><td style=\"text-align: right;\">         81.3152</td><td style=\"text-align: right;\">        200</td><td style=\"text-align: right;\"> 0.00118129 </td><td style=\"text-align: right;\"> 0.000505191</td></tr>\n",
       "<tr><td>TrainLightGCN_00ea17b7</td><td>TERMINATED</td><td>147.96.81.131:1011438</td><td style=\"text-align: right;\">                1</td><td style=\"text-align: right;\">           8</td><td style=\"text-align: right;\">            5</td><td style=\"text-align: right;\">             20</td><td style=\"text-align: right;\">0.000822335</td><td style=\"text-align: right;\">         0.0254</td><td style=\"text-align: right;\">    40</td><td style=\"text-align: right;\">         39.7365</td><td style=\"text-align: right;\">        200</td><td style=\"text-align: right;\"> 0.0488284  </td><td style=\"text-align: right;\"> 0.0172184  </td></tr>\n",
       "<tr><td>TrainLightGCN_0108da48</td><td>TERMINATED</td><td>147.96.81.131:1007252</td><td style=\"text-align: right;\">                0</td><td style=\"text-align: right;\">           4</td><td style=\"text-align: right;\">            4</td><td style=\"text-align: right;\">             65</td><td style=\"text-align: right;\">1.90247e-07</td><td style=\"text-align: right;\">         0.0003</td><td style=\"text-align: right;\">    40</td><td style=\"text-align: right;\">        395.472 </td><td style=\"text-align: right;\">        200</td><td style=\"text-align: right;\"> 0.0300326  </td><td style=\"text-align: right;\"> 0.0300236  </td></tr>\n",
       "<tr><td>TrainLightGCN_01f68083</td><td>TERMINATED</td><td>147.96.81.131:1021940</td><td style=\"text-align: right;\">                1</td><td style=\"text-align: right;\">           5</td><td style=\"text-align: right;\">            4</td><td style=\"text-align: right;\">             95</td><td style=\"text-align: right;\">3.10613e-07</td><td style=\"text-align: right;\">         0.0061</td><td style=\"text-align: right;\">    40</td><td style=\"text-align: right;\">        296.664 </td><td style=\"text-align: right;\">        200</td><td style=\"text-align: right;\"> 0.000276699</td><td style=\"text-align: right;\"> 0.000197604</td></tr>\n",
       "<tr><td>TrainLightGCN_0236ba2f</td><td>TERMINATED</td><td>147.96.81.131:1005533</td><td style=\"text-align: right;\">                2</td><td style=\"text-align: right;\">           7</td><td style=\"text-align: right;\">            3</td><td style=\"text-align: right;\">            320</td><td style=\"text-align: right;\">3.58165e-08</td><td style=\"text-align: right;\">         0.2834</td><td style=\"text-align: right;\">    40</td><td style=\"text-align: right;\">        179.762 </td><td style=\"text-align: right;\">        200</td><td style=\"text-align: right;\"> 1.99501    </td><td style=\"text-align: right;\"> 1.98011    </td></tr>\n",
       "<tr><td>TrainLightGCN_03050e65</td><td>TERMINATED</td><td>147.96.81.131:997590 </td><td style=\"text-align: right;\">                0</td><td style=\"text-align: right;\">           8</td><td style=\"text-align: right;\">            5</td><td style=\"text-align: right;\">            330</td><td style=\"text-align: right;\">0.000177379</td><td style=\"text-align: right;\">         0.9617</td><td style=\"text-align: right;\">    40</td><td style=\"text-align: right;\">         94.488 </td><td style=\"text-align: right;\">        200</td><td style=\"text-align: right;\">13.9812     </td><td style=\"text-align: right;\"> 2.80636    </td></tr>\n",
       "<tr><td>TrainLightGCN_03844ac5</td><td>TERMINATED</td><td>147.96.81.131:1003984</td><td style=\"text-align: right;\">                4</td><td style=\"text-align: right;\">           9</td><td style=\"text-align: right;\">            5</td><td style=\"text-align: right;\">            100</td><td style=\"text-align: right;\">0.066953   </td><td style=\"text-align: right;\">         0.0035</td><td style=\"text-align: right;\">    40</td><td style=\"text-align: right;\">        129.918 </td><td style=\"text-align: right;\">        200</td><td style=\"text-align: right;\"> 0.473262   </td><td style=\"text-align: right;\"> 0.30017    </td></tr>\n",
       "<tr><td>TrainLightGCN_039fb40a</td><td>TERMINATED</td><td>147.96.81.131:1015117</td><td style=\"text-align: right;\">                2</td><td style=\"text-align: right;\">           7</td><td style=\"text-align: right;\">            5</td><td style=\"text-align: right;\">             95</td><td style=\"text-align: right;\">2.27051e-08</td><td style=\"text-align: right;\">         0.0002</td><td style=\"text-align: right;\">    40</td><td style=\"text-align: right;\">        163.557 </td><td style=\"text-align: right;\">        200</td><td style=\"text-align: right;\"> 0.0588846  </td><td style=\"text-align: right;\"> 0.0588838  </td></tr>\n",
       "<tr><td>TrainLightGCN_03d47b0d</td><td>TERMINATED</td><td>147.96.81.131:1006106</td><td style=\"text-align: right;\">                5</td><td style=\"text-align: right;\">           7</td><td style=\"text-align: right;\">            3</td><td style=\"text-align: right;\">            320</td><td style=\"text-align: right;\">3.58165e-08</td><td style=\"text-align: right;\">         0.2834</td><td style=\"text-align: right;\">    40</td><td style=\"text-align: right;\">        525.094 </td><td style=\"text-align: right;\">        200</td><td style=\"text-align: right;\"> 5.45031    </td><td style=\"text-align: right;\"> 5.42092    </td></tr>\n",
       "<tr><td>TrainLightGCN_040c951e</td><td>TERMINATED</td><td>147.96.81.131:1015666</td><td style=\"text-align: right;\">                4</td><td style=\"text-align: right;\">           7</td><td style=\"text-align: right;\">            5</td><td style=\"text-align: right;\">             95</td><td style=\"text-align: right;\">2.27051e-08</td><td style=\"text-align: right;\">         0.0002</td><td style=\"text-align: right;\">    40</td><td style=\"text-align: right;\">        328.319 </td><td style=\"text-align: right;\">        200</td><td style=\"text-align: right;\"> 0.0472244  </td><td style=\"text-align: right;\"> 0.0472235  </td></tr>\n",
       "<tr><td>TrainLightGCN_05225ed3</td><td>TERMINATED</td><td>147.96.81.131:999522 </td><td style=\"text-align: right;\">                4</td><td style=\"text-align: right;\">           8</td><td style=\"text-align: right;\">            5</td><td style=\"text-align: right;\">            330</td><td style=\"text-align: right;\">0.000177379</td><td style=\"text-align: right;\">         0.9617</td><td style=\"text-align: right;\">    40</td><td style=\"text-align: right;\">        367.607 </td><td style=\"text-align: right;\">        200</td><td style=\"text-align: right;\">52.5788     </td><td style=\"text-align: right;\">14.2359     </td></tr>\n",
       "</tbody>\n",
       "</table>\n",
       "  </div>\n",
       "</div>\n",
       "<style>\n",
       ".tuneStatus {\n",
       "  color: var(--jp-ui-font-color1);\n",
       "}\n",
       ".tuneStatus .systemInfo {\n",
       "  display: flex;\n",
       "  flex-direction: column;\n",
       "}\n",
       ".tuneStatus td {\n",
       "  white-space: nowrap;\n",
       "}\n",
       ".tuneStatus .trialStatus {\n",
       "  display: flex;\n",
       "  flex-direction: column;\n",
       "}\n",
       ".tuneStatus h3 {\n",
       "  font-weight: bold;\n",
       "}\n",
       ".tuneStatus .hDivider {\n",
       "  border-bottom-width: var(--jp-border-width);\n",
       "  border-bottom-color: var(--jp-border-color0);\n",
       "  border-bottom-style: solid;\n",
       "}\n",
       ".tuneStatus .vDivider {\n",
       "  border-left-width: var(--jp-border-width);\n",
       "  border-left-color: var(--jp-border-color0);\n",
       "  border-left-style: solid;\n",
       "  margin: 0.5em 1em 0.5em 1em;\n",
       "}\n",
       "</style>\n"
      ],
      "text/plain": [
       "<IPython.core.display.HTML object>"
      ]
     },
     "metadata": {},
     "output_type": "display_data"
    },
    {
     "name": "stderr",
     "output_type": "stream",
     "text": [
      "\u001b[2m\u001b[36m(pid=997590)\u001b[0m 2023-11-10 20:20:39.496410: E tensorflow/compiler/xla/stream_executor/cuda/cuda_dnn.cc:9342] Unable to register cuDNN factory: Attempting to register factory for plugin cuDNN when one has already been registered\n",
      "\u001b[2m\u001b[36m(pid=997590)\u001b[0m 2023-11-10 20:20:39.496444: E tensorflow/compiler/xla/stream_executor/cuda/cuda_fft.cc:609] Unable to register cuFFT factory: Attempting to register factory for plugin cuFFT when one has already been registered\n",
      "\u001b[2m\u001b[36m(pid=997590)\u001b[0m 2023-11-10 20:20:39.496458: E tensorflow/compiler/xla/stream_executor/cuda/cuda_blas.cc:1518] Unable to register cuBLAS factory: Attempting to register factory for plugin cuBLAS when one has already been registered\n",
      "\u001b[2m\u001b[36m(TrainLightGCN pid=997590)\u001b[0m /home/daviddavo/upm-tfm-notebooks/.direnv/python-3.9/lib/python3.9/site-packages/recommenders/models/deeprec/DataModel/ImplicitCF.py:73: FutureWarning: The frame.append method is deprecated and will be removed from pandas in a future version. Use pandas.concat instead.\n",
      "\u001b[2m\u001b[36m(TrainLightGCN pid=997590)\u001b[0m   df = train if test is None else train.append(test)\n"
     ]
    },
    {
     "name": "stdout",
     "output_type": "stream",
     "text": [
      "\u001b[2m\u001b[36m(TrainLightGCN pid=997590)\u001b[0m Already create adjacency matrix.\n",
      "\u001b[2m\u001b[36m(TrainLightGCN pid=997590)\u001b[0m Already normalize adjacency matrix.\n",
      "\u001b[2m\u001b[36m(TrainLightGCN pid=997590)\u001b[0m Using xavier initialization.\n"
     ]
    },
    {
     "name": "stderr",
     "output_type": "stream",
     "text": [
      "\u001b[2m\u001b[36m(TrainLightGCN pid=997590)\u001b[0m Trainable.setup took 34.618 seconds. If your trainable is slow to initialize, consider setting reuse_actors=True to reduce actor creation overheads.\n",
      "\u001b[2m\u001b[36m(pid=998387)\u001b[0m 2023-11-10 20:21:59.025681: E tensorflow/compiler/xla/stream_executor/cuda/cuda_dnn.cc:9342] Unable to register cuDNN factory: Attempting to register factory for plugin cuDNN when one has already been registered\n",
      "\u001b[2m\u001b[36m(pid=998387)\u001b[0m 2023-11-10 20:21:59.025718: E tensorflow/compiler/xla/stream_executor/cuda/cuda_fft.cc:609] Unable to register cuFFT factory: Attempting to register factory for plugin cuFFT when one has already been registered\n",
      "\u001b[2m\u001b[36m(pid=998387)\u001b[0m 2023-11-10 20:21:59.025730: E tensorflow/compiler/xla/stream_executor/cuda/cuda_blas.cc:1518] Unable to register cuBLAS factory: Attempting to register factory for plugin cuBLAS when one has already been registered\n",
      "\u001b[2m\u001b[36m(TrainLightGCN pid=998387)\u001b[0m /home/daviddavo/upm-tfm-notebooks/.direnv/python-3.9/lib/python3.9/site-packages/recommenders/models/deeprec/DataModel/ImplicitCF.py:73: FutureWarning: The frame.append method is deprecated and will be removed from pandas in a future version. Use pandas.concat instead.\n",
      "\u001b[2m\u001b[36m(TrainLightGCN pid=998387)\u001b[0m   df = train if test is None else train.append(test)\n"
     ]
    },
    {
     "name": "stdout",
     "output_type": "stream",
     "text": [
      "\u001b[2m\u001b[36m(TrainLightGCN pid=998387)\u001b[0m Already create adjacency matrix.\n",
      "\u001b[2m\u001b[36m(TrainLightGCN pid=998387)\u001b[0m Already normalize adjacency matrix.\n",
      "\u001b[2m\u001b[36m(TrainLightGCN pid=998387)\u001b[0m Using xavier initialization.\n"
     ]
    },
    {
     "name": "stderr",
     "output_type": "stream",
     "text": [
      "\u001b[2m\u001b[36m(TrainLightGCN pid=998387)\u001b[0m Trainable.setup took 23.086 seconds. If your trainable is slow to initialize, consider setting reuse_actors=True to reduce actor creation overheads.\n",
      "\u001b[2m\u001b[36m(pid=999049)\u001b[0m 2023-11-10 20:23:08.530072: E tensorflow/compiler/xla/stream_executor/cuda/cuda_dnn.cc:9342] Unable to register cuDNN factory: Attempting to register factory for plugin cuDNN when one has already been registered\n",
      "\u001b[2m\u001b[36m(pid=999049)\u001b[0m 2023-11-10 20:23:08.530107: E tensorflow/compiler/xla/stream_executor/cuda/cuda_fft.cc:609] Unable to register cuFFT factory: Attempting to register factory for plugin cuFFT when one has already been registered\n",
      "\u001b[2m\u001b[36m(pid=999049)\u001b[0m 2023-11-10 20:23:08.530119: E tensorflow/compiler/xla/stream_executor/cuda/cuda_blas.cc:1518] Unable to register cuBLAS factory: Attempting to register factory for plugin cuBLAS when one has already been registered\n",
      "\u001b[2m\u001b[36m(TrainLightGCN pid=999049)\u001b[0m /home/daviddavo/upm-tfm-notebooks/.direnv/python-3.9/lib/python3.9/site-packages/recommenders/models/deeprec/DataModel/ImplicitCF.py:73: FutureWarning: The frame.append method is deprecated and will be removed from pandas in a future version. Use pandas.concat instead.\n",
      "\u001b[2m\u001b[36m(TrainLightGCN pid=999049)\u001b[0m   df = train if test is None else train.append(test)\n"
     ]
    },
    {
     "name": "stdout",
     "output_type": "stream",
     "text": [
      "\u001b[2m\u001b[36m(TrainLightGCN pid=999049)\u001b[0m Already create adjacency matrix.\n",
      "\u001b[2m\u001b[36m(TrainLightGCN pid=999049)\u001b[0m Already normalize adjacency matrix.\n",
      "\u001b[2m\u001b[36m(TrainLightGCN pid=999049)\u001b[0m Using xavier initialization.\n"
     ]
    },
    {
     "name": "stderr",
     "output_type": "stream",
     "text": [
      "\u001b[2m\u001b[36m(TrainLightGCN pid=997590)\u001b[0m Checkpoint successfully created at: Checkpoint(filesystem=local, path=/home/daviddavo/ray_results/TrainLightGCN_2023-11-10_20-19-58/TrainLightGCN_03050e65_1_trial_index=0,batch_size=8,conv_layers=5,embedding_dim=330,l2=0.0002,learning_rate=0.9617_2023-11-10_20-20-07/checkpoint_000000)\n",
      "\u001b[2m\u001b[36m(pid=999522)\u001b[0m 2023-11-10 20:23:14.120910: E tensorflow/compiler/xla/stream_executor/cuda/cuda_dnn.cc:9342] Unable to register cuDNN factory: Attempting to register factory for plugin cuDNN when one has already been registered\u001b[32m [repeated 2x across cluster] (Ray deduplicates logs by default. Set RAY_DEDUP_LOGS=0 to disable log deduplication, or see https://docs.ray.io/en/master/ray-observability/ray-logging.html#log-deduplication for more options.)\u001b[0m\n",
      "\u001b[2m\u001b[36m(pid=999522)\u001b[0m 2023-11-10 20:23:14.120945: E tensorflow/compiler/xla/stream_executor/cuda/cuda_fft.cc:609] Unable to register cuFFT factory: Attempting to register factory for plugin cuFFT when one has already been registered\u001b[32m [repeated 2x across cluster]\u001b[0m\n",
      "\u001b[2m\u001b[36m(pid=999522)\u001b[0m 2023-11-10 20:23:14.120958: E tensorflow/compiler/xla/stream_executor/cuda/cuda_blas.cc:1518] Unable to register cuBLAS factory: Attempting to register factory for plugin cuBLAS when one has already been registered\u001b[32m [repeated 2x across cluster]\u001b[0m\n",
      "\u001b[2m\u001b[36m(TrainLightGCN pid=999522)\u001b[0m /home/daviddavo/upm-tfm-notebooks/.direnv/python-3.9/lib/python3.9/site-packages/recommenders/models/deeprec/DataModel/ImplicitCF.py:73: FutureWarning: The frame.append method is deprecated and will be removed from pandas in a future version. Use pandas.concat instead.\u001b[32m [repeated 2x across cluster]\u001b[0m\n",
      "\u001b[2m\u001b[36m(TrainLightGCN pid=999522)\u001b[0m   df = train if test is None else train.append(test)\u001b[32m [repeated 2x across cluster]\u001b[0m\n"
     ]
    },
    {
     "name": "stdout",
     "output_type": "stream",
     "text": [
      "\u001b[2m\u001b[36m(TrainLightGCN pid=999522)\u001b[0m Already create adjacency matrix.\u001b[32m [repeated 2x across cluster]\u001b[0m\n",
      "\u001b[2m\u001b[36m(TrainLightGCN pid=999522)\u001b[0m Already normalize adjacency matrix.\u001b[32m [repeated 2x across cluster]\u001b[0m\n",
      "\u001b[2m\u001b[36m(TrainLightGCN pid=999522)\u001b[0m Using xavier initialization.\u001b[32m [repeated 2x across cluster]\u001b[0m\n"
     ]
    },
    {
     "name": "stderr",
     "output_type": "stream",
     "text": [
      "\u001b[2m\u001b[36m(pid=999803)\u001b[0m 2023-11-10 20:23:20.201116: E tensorflow/compiler/xla/stream_executor/cuda/cuda_dnn.cc:9342] Unable to register cuDNN factory: Attempting to register factory for plugin cuDNN when one has already been registered\u001b[32m [repeated 2x across cluster]\u001b[0m\n",
      "\u001b[2m\u001b[36m(pid=999803)\u001b[0m 2023-11-10 20:23:20.201152: E tensorflow/compiler/xla/stream_executor/cuda/cuda_fft.cc:609] Unable to register cuFFT factory: Attempting to register factory for plugin cuFFT when one has already been registered\u001b[32m [repeated 2x across cluster]\u001b[0m\n",
      "\u001b[2m\u001b[36m(pid=999803)\u001b[0m 2023-11-10 20:23:20.201165: E tensorflow/compiler/xla/stream_executor/cuda/cuda_blas.cc:1518] Unable to register cuBLAS factory: Attempting to register factory for plugin cuBLAS when one has already been registered\u001b[32m [repeated 2x across cluster]\u001b[0m\n",
      "\u001b[2m\u001b[36m(TrainLightGCN pid=999657)\u001b[0m /home/daviddavo/upm-tfm-notebooks/.direnv/python-3.9/lib/python3.9/site-packages/recommenders/models/deeprec/DataModel/ImplicitCF.py:73: FutureWarning: The frame.append method is deprecated and will be removed from pandas in a future version. Use pandas.concat instead.\n",
      "\u001b[2m\u001b[36m(TrainLightGCN pid=999657)\u001b[0m   df = train if test is None else train.append(test)\n",
      "\u001b[2m\u001b[36m(TrainLightGCN pid=999803)\u001b[0m /home/daviddavo/upm-tfm-notebooks/.direnv/python-3.9/lib/python3.9/site-packages/recommenders/models/deeprec/DataModel/ImplicitCF.py:73: FutureWarning: The frame.append method is deprecated and will be removed from pandas in a future version. Use pandas.concat instead.\n",
      "\u001b[2m\u001b[36m(TrainLightGCN pid=999803)\u001b[0m   df = train if test is None else train.append(test)\n"
     ]
    },
    {
     "name": "stdout",
     "output_type": "stream",
     "text": [
      "\u001b[2m\u001b[36m(TrainLightGCN pid=999803)\u001b[0m Already create adjacency matrix.\u001b[32m [repeated 2x across cluster]\u001b[0m\n",
      "\u001b[2m\u001b[36m(TrainLightGCN pid=999803)\u001b[0m Already normalize adjacency matrix.\u001b[32m [repeated 2x across cluster]\u001b[0m\n",
      "\u001b[2m\u001b[36m(TrainLightGCN pid=999803)\u001b[0m Using xavier initialization.\u001b[32m [repeated 2x across cluster]\u001b[0m\n"
     ]
    },
    {
     "name": "stderr",
     "output_type": "stream",
     "text": [
      "\u001b[2m\u001b[36m(TrainLightGCN pid=998387)\u001b[0m Checkpoint successfully created at: Checkpoint(filesystem=local, path=/home/daviddavo/ray_results/TrainLightGCN_2023-11-10_20-19-58/TrainLightGCN_dce7406e_2_trial_index=1,batch_size=8,conv_layers=5,embedding_dim=330,l2=0.0002,learning_rate=0.9617_2023-11-10_20-21-35/checkpoint_000000)\n",
      "\u001b[2m\u001b[36m(pid=999949)\u001b[0m 2023-11-10 20:23:23.515500: E tensorflow/compiler/xla/stream_executor/cuda/cuda_dnn.cc:9342] Unable to register cuDNN factory: Attempting to register factory for plugin cuDNN when one has already been registered\n",
      "\u001b[2m\u001b[36m(pid=999949)\u001b[0m 2023-11-10 20:23:23.515534: E tensorflow/compiler/xla/stream_executor/cuda/cuda_fft.cc:609] Unable to register cuFFT factory: Attempting to register factory for plugin cuFFT when one has already been registered\n",
      "\u001b[2m\u001b[36m(pid=999949)\u001b[0m 2023-11-10 20:23:23.515546: E tensorflow/compiler/xla/stream_executor/cuda/cuda_blas.cc:1518] Unable to register cuBLAS factory: Attempting to register factory for plugin cuBLAS when one has already been registered\n",
      "\u001b[2m\u001b[36m(pid=1000097)\u001b[0m 2023-11-10 20:23:27.056804: E tensorflow/compiler/xla/stream_executor/cuda/cuda_dnn.cc:9342] Unable to register cuDNN factory: Attempting to register factory for plugin cuDNN when one has already been registered\n",
      "\u001b[2m\u001b[36m(pid=1000097)\u001b[0m 2023-11-10 20:23:27.056839: E tensorflow/compiler/xla/stream_executor/cuda/cuda_fft.cc:609] Unable to register cuFFT factory: Attempting to register factory for plugin cuFFT when one has already been registered\n",
      "\u001b[2m\u001b[36m(pid=1000097)\u001b[0m 2023-11-10 20:23:27.056851: E tensorflow/compiler/xla/stream_executor/cuda/cuda_blas.cc:1518] Unable to register cuBLAS factory: Attempting to register factory for plugin cuBLAS when one has already been registered\n",
      "\u001b[2m\u001b[36m(TrainLightGCN pid=999949)\u001b[0m /home/daviddavo/upm-tfm-notebooks/.direnv/python-3.9/lib/python3.9/site-packages/recommenders/models/deeprec/DataModel/ImplicitCF.py:73: FutureWarning: The frame.append method is deprecated and will be removed from pandas in a future version. Use pandas.concat instead.\n",
      "\u001b[2m\u001b[36m(TrainLightGCN pid=999949)\u001b[0m   df = train if test is None else train.append(test)\n",
      "\u001b[2m\u001b[36m(TrainLightGCN pid=1000097)\u001b[0m /home/daviddavo/upm-tfm-notebooks/.direnv/python-3.9/lib/python3.9/site-packages/recommenders/models/deeprec/DataModel/ImplicitCF.py:73: FutureWarning: The frame.append method is deprecated and will be removed from pandas in a future version. Use pandas.concat instead.\n",
      "\u001b[2m\u001b[36m(TrainLightGCN pid=1000097)\u001b[0m   df = train if test is None else train.append(test)\n"
     ]
    },
    {
     "name": "stdout",
     "output_type": "stream",
     "text": [
      "\u001b[2m\u001b[36m(TrainLightGCN pid=1000097)\u001b[0m Already create adjacency matrix.\u001b[32m [repeated 2x across cluster]\u001b[0m\n",
      "\u001b[2m\u001b[36m(TrainLightGCN pid=999949)\u001b[0m Already normalize adjacency matrix.\n",
      "\u001b[2m\u001b[36m(TrainLightGCN pid=999949)\u001b[0m Using xavier initialization.\n",
      "\u001b[2m\u001b[36m(TrainLightGCN pid=1000097)\u001b[0m Already normalize adjacency matrix.\n",
      "\u001b[2m\u001b[36m(TrainLightGCN pid=1000097)\u001b[0m Using xavier initialization.\n"
     ]
    },
    {
     "name": "stderr",
     "output_type": "stream",
     "text": [
      "\u001b[2m\u001b[36m(TrainLightGCN pid=999049)\u001b[0m Checkpoint successfully created at: Checkpoint(filesystem=local, path=/home/daviddavo/ray_results/TrainLightGCN_2023-11-10_20-19-58/TrainLightGCN_d2919af5_3_trial_index=2,batch_size=8,conv_layers=5,embedding_dim=330,l2=0.0002,learning_rate=0.9617_2023-11-10_20-22-48/checkpoint_000000)\n",
      "\u001b[2m\u001b[36m(pid=1000250)\u001b[0m 2023-11-10 20:23:30.882035: E tensorflow/compiler/xla/stream_executor/cuda/cuda_dnn.cc:9342] Unable to register cuDNN factory: Attempting to register factory for plugin cuDNN when one has already been registered\n",
      "\u001b[2m\u001b[36m(pid=1000250)\u001b[0m 2023-11-10 20:23:30.882068: E tensorflow/compiler/xla/stream_executor/cuda/cuda_fft.cc:609] Unable to register cuFFT factory: Attempting to register factory for plugin cuFFT when one has already been registered\n",
      "\u001b[2m\u001b[36m(pid=1000250)\u001b[0m 2023-11-10 20:23:30.882079: E tensorflow/compiler/xla/stream_executor/cuda/cuda_blas.cc:1518] Unable to register cuBLAS factory: Attempting to register factory for plugin cuBLAS when one has already been registered\n",
      "\u001b[2m\u001b[36m(TrainLightGCN pid=1000250)\u001b[0m /home/daviddavo/upm-tfm-notebooks/.direnv/python-3.9/lib/python3.9/site-packages/recommenders/models/deeprec/DataModel/ImplicitCF.py:73: FutureWarning: The frame.append method is deprecated and will be removed from pandas in a future version. Use pandas.concat instead.\n",
      "\u001b[2m\u001b[36m(TrainLightGCN pid=1000250)\u001b[0m   df = train if test is None else train.append(test)\n",
      "\u001b[2m\u001b[36m(pid=1000731)\u001b[0m 2023-11-10 20:25:47.369394: E tensorflow/compiler/xla/stream_executor/cuda/cuda_dnn.cc:9342] Unable to register cuDNN factory: Attempting to register factory for plugin cuDNN when one has already been registered\n",
      "\u001b[2m\u001b[36m(pid=1000731)\u001b[0m 2023-11-10 20:25:47.369499: E tensorflow/compiler/xla/stream_executor/cuda/cuda_fft.cc:609] Unable to register cuFFT factory: Attempting to register factory for plugin cuFFT when one has already been registered\n",
      "\u001b[2m\u001b[36m(pid=1000731)\u001b[0m 2023-11-10 20:25:47.369513: E tensorflow/compiler/xla/stream_executor/cuda/cuda_blas.cc:1518] Unable to register cuBLAS factory: Attempting to register factory for plugin cuBLAS when one has already been registered\n",
      "\u001b[2m\u001b[36m(TrainLightGCN pid=1000731)\u001b[0m /home/daviddavo/upm-tfm-notebooks/.direnv/python-3.9/lib/python3.9/site-packages/recommenders/models/deeprec/DataModel/ImplicitCF.py:73: FutureWarning: The frame.append method is deprecated and will be removed from pandas in a future version. Use pandas.concat instead.\n",
      "\u001b[2m\u001b[36m(TrainLightGCN pid=1000731)\u001b[0m   df = train if test is None else train.append(test)\n"
     ]
    },
    {
     "name": "stdout",
     "output_type": "stream",
     "text": [
      "\u001b[2m\u001b[36m(TrainLightGCN pid=1000731)\u001b[0m Already create adjacency matrix.\u001b[32m [repeated 2x across cluster]\u001b[0m\n",
      "\u001b[2m\u001b[36m(TrainLightGCN pid=1000731)\u001b[0m Already normalize adjacency matrix.\u001b[32m [repeated 2x across cluster]\u001b[0m\n",
      "\u001b[2m\u001b[36m(TrainLightGCN pid=1000731)\u001b[0m Using xavier initialization.\u001b[32m [repeated 2x across cluster]\u001b[0m\n"
     ]
    },
    {
     "name": "stderr",
     "output_type": "stream",
     "text": [
      "\u001b[2m\u001b[36m(TrainLightGCN pid=1000731)\u001b[0m Checkpoint successfully created at: Checkpoint(filesystem=local, path=/home/daviddavo/ray_results/TrainLightGCN_2023-11-10_20-19-58/TrainLightGCN_12a9fe1b_11_trial_index=0,batch_size=8,conv_layers=5,embedding_dim=25,l2=0.0005,learning_rate=0.0348_2023-11-10_20-23-33/checkpoint_000000)\n",
      "\u001b[2m\u001b[36m(pid=1000959)\u001b[0m 2023-11-10 20:26:42.377421: E tensorflow/compiler/xla/stream_executor/cuda/cuda_dnn.cc:9342] Unable to register cuDNN factory: Attempting to register factory for plugin cuDNN when one has already been registered\n",
      "\u001b[2m\u001b[36m(pid=1000959)\u001b[0m 2023-11-10 20:26:42.377448: E tensorflow/compiler/xla/stream_executor/cuda/cuda_fft.cc:609] Unable to register cuFFT factory: Attempting to register factory for plugin cuFFT when one has already been registered\n",
      "\u001b[2m\u001b[36m(pid=1000959)\u001b[0m 2023-11-10 20:26:42.377460: E tensorflow/compiler/xla/stream_executor/cuda/cuda_blas.cc:1518] Unable to register cuBLAS factory: Attempting to register factory for plugin cuBLAS when one has already been registered\n",
      "\u001b[2m\u001b[36m(TrainLightGCN pid=1000959)\u001b[0m /home/daviddavo/upm-tfm-notebooks/.direnv/python-3.9/lib/python3.9/site-packages/recommenders/models/deeprec/DataModel/ImplicitCF.py:73: FutureWarning: The frame.append method is deprecated and will be removed from pandas in a future version. Use pandas.concat instead.\n",
      "\u001b[2m\u001b[36m(TrainLightGCN pid=1000959)\u001b[0m   df = train if test is None else train.append(test)\n"
     ]
    },
    {
     "name": "stdout",
     "output_type": "stream",
     "text": [
      "\u001b[2m\u001b[36m(TrainLightGCN pid=1000959)\u001b[0m Already create adjacency matrix.\n",
      "\u001b[2m\u001b[36m(TrainLightGCN pid=1000959)\u001b[0m Already normalize adjacency matrix.\n",
      "\u001b[2m\u001b[36m(TrainLightGCN pid=1000959)\u001b[0m Using xavier initialization.\n"
     ]
    },
    {
     "name": "stderr",
     "output_type": "stream",
     "text": [
      "\u001b[2m\u001b[36m(TrainLightGCN pid=999372)\u001b[0m Checkpoint successfully created at: Checkpoint(filesystem=local, path=/home/daviddavo/ray_results/TrainLightGCN_2023-11-10_20-19-58/TrainLightGCN_d6c928fa_4_trial_index=3,batch_size=8,conv_layers=5,embedding_dim=330,l2=0.0002,learning_rate=0.9617_2023-11-10_20-23-10/checkpoint_000000)\n",
      "\u001b[2m\u001b[36m(pid=1001224)\u001b[0m 2023-11-10 20:27:58.407516: E tensorflow/compiler/xla/stream_executor/cuda/cuda_dnn.cc:9342] Unable to register cuDNN factory: Attempting to register factory for plugin cuDNN when one has already been registered\n",
      "\u001b[2m\u001b[36m(pid=1001224)\u001b[0m 2023-11-10 20:27:58.407549: E tensorflow/compiler/xla/stream_executor/cuda/cuda_fft.cc:609] Unable to register cuFFT factory: Attempting to register factory for plugin cuFFT when one has already been registered\n",
      "\u001b[2m\u001b[36m(pid=1001224)\u001b[0m 2023-11-10 20:27:58.407562: E tensorflow/compiler/xla/stream_executor/cuda/cuda_blas.cc:1518] Unable to register cuBLAS factory: Attempting to register factory for plugin cuBLAS when one has already been registered\n",
      "\u001b[2m\u001b[36m(TrainLightGCN pid=1001224)\u001b[0m /home/daviddavo/upm-tfm-notebooks/.direnv/python-3.9/lib/python3.9/site-packages/recommenders/models/deeprec/DataModel/ImplicitCF.py:73: FutureWarning: The frame.append method is deprecated and will be removed from pandas in a future version. Use pandas.concat instead.\n",
      "\u001b[2m\u001b[36m(TrainLightGCN pid=1001224)\u001b[0m   df = train if test is None else train.append(test)\n"
     ]
    },
    {
     "name": "stdout",
     "output_type": "stream",
     "text": [
      "\u001b[2m\u001b[36m(TrainLightGCN pid=1001224)\u001b[0m Already create adjacency matrix.\n",
      "\u001b[2m\u001b[36m(TrainLightGCN pid=1001224)\u001b[0m Already normalize adjacency matrix.\n",
      "\u001b[2m\u001b[36m(TrainLightGCN pid=1001224)\u001b[0m Using xavier initialization.\n"
     ]
    },
    {
     "name": "stderr",
     "output_type": "stream",
     "text": [
      "\u001b[2m\u001b[36m(TrainLightGCN pid=1000959)\u001b[0m Checkpoint successfully created at: Checkpoint(filesystem=local, path=/home/daviddavo/ray_results/TrainLightGCN_2023-11-10_20-19-58/TrainLightGCN_aed336f7_12_trial_index=1,batch_size=8,conv_layers=5,embedding_dim=25,l2=0.0005,learning_rate=0.0348_2023-11-10_20-25-50/checkpoint_000000)\n",
      "\u001b[2m\u001b[36m(pid=1001393)\u001b[0m 2023-11-10 20:28:14.406816: E tensorflow/compiler/xla/stream_executor/cuda/cuda_dnn.cc:9342] Unable to register cuDNN factory: Attempting to register factory for plugin cuDNN when one has already been registered\n",
      "\u001b[2m\u001b[36m(pid=1001393)\u001b[0m 2023-11-10 20:28:14.406851: E tensorflow/compiler/xla/stream_executor/cuda/cuda_fft.cc:609] Unable to register cuFFT factory: Attempting to register factory for plugin cuFFT when one has already been registered\n",
      "\u001b[2m\u001b[36m(pid=1001393)\u001b[0m 2023-11-10 20:28:14.406863: E tensorflow/compiler/xla/stream_executor/cuda/cuda_blas.cc:1518] Unable to register cuBLAS factory: Attempting to register factory for plugin cuBLAS when one has already been registered\n",
      "\u001b[2m\u001b[36m(TrainLightGCN pid=1001393)\u001b[0m /home/daviddavo/upm-tfm-notebooks/.direnv/python-3.9/lib/python3.9/site-packages/recommenders/models/deeprec/DataModel/ImplicitCF.py:73: FutureWarning: The frame.append method is deprecated and will be removed from pandas in a future version. Use pandas.concat instead.\n",
      "\u001b[2m\u001b[36m(TrainLightGCN pid=1001393)\u001b[0m   df = train if test is None else train.append(test)\n"
     ]
    },
    {
     "name": "stdout",
     "output_type": "stream",
     "text": [
      "\u001b[2m\u001b[36m(TrainLightGCN pid=1001393)\u001b[0m Already create adjacency matrix.\n",
      "\u001b[2m\u001b[36m(TrainLightGCN pid=1001393)\u001b[0m Already normalize adjacency matrix.\n",
      "\u001b[2m\u001b[36m(TrainLightGCN pid=1001393)\u001b[0m Using xavier initialization.\n"
     ]
    },
    {
     "name": "stderr",
     "output_type": "stream",
     "text": [
      "\u001b[2m\u001b[36m(TrainLightGCN pid=999522)\u001b[0m Checkpoint successfully created at: Checkpoint(filesystem=local, path=/home/daviddavo/ray_results/TrainLightGCN_2023-11-10_20-19-58/TrainLightGCN_05225ed3_5_trial_index=4,batch_size=8,conv_layers=5,embedding_dim=330,l2=0.0002,learning_rate=0.9617_2023-11-10_20-23-13/checkpoint_000000)\n",
      "\u001b[2m\u001b[36m(pid=1001648)\u001b[0m 2023-11-10 20:29:25.401645: E tensorflow/compiler/xla/stream_executor/cuda/cuda_dnn.cc:9342] Unable to register cuDNN factory: Attempting to register factory for plugin cuDNN when one has already been registered\n",
      "\u001b[2m\u001b[36m(pid=1001648)\u001b[0m 2023-11-10 20:29:25.401680: E tensorflow/compiler/xla/stream_executor/cuda/cuda_fft.cc:609] Unable to register cuFFT factory: Attempting to register factory for plugin cuFFT when one has already been registered\n",
      "\u001b[2m\u001b[36m(pid=1001648)\u001b[0m 2023-11-10 20:29:25.401694: E tensorflow/compiler/xla/stream_executor/cuda/cuda_blas.cc:1518] Unable to register cuBLAS factory: Attempting to register factory for plugin cuBLAS when one has already been registered\n",
      "\u001b[2m\u001b[36m(TrainLightGCN pid=1001648)\u001b[0m /home/daviddavo/upm-tfm-notebooks/.direnv/python-3.9/lib/python3.9/site-packages/recommenders/models/deeprec/DataModel/ImplicitCF.py:73: FutureWarning: The frame.append method is deprecated and will be removed from pandas in a future version. Use pandas.concat instead.\n",
      "\u001b[2m\u001b[36m(TrainLightGCN pid=1001648)\u001b[0m   df = train if test is None else train.append(test)\n"
     ]
    },
    {
     "name": "stdout",
     "output_type": "stream",
     "text": [
      "\u001b[2m\u001b[36m(TrainLightGCN pid=1001648)\u001b[0m Already create adjacency matrix.\n",
      "\u001b[2m\u001b[36m(TrainLightGCN pid=1001648)\u001b[0m Already normalize adjacency matrix.\n",
      "\u001b[2m\u001b[36m(TrainLightGCN pid=1001648)\u001b[0m Using xavier initialization.\n"
     ]
    },
    {
     "name": "stderr",
     "output_type": "stream",
     "text": [
      "\u001b[2m\u001b[36m(TrainLightGCN pid=999657)\u001b[0m Checkpoint successfully created at: Checkpoint(filesystem=local, path=/home/daviddavo/ray_results/TrainLightGCN_2023-11-10_20-19-58/TrainLightGCN_83853793_6_trial_index=5,batch_size=8,conv_layers=5,embedding_dim=330,l2=0.0002,learning_rate=0.9617_2023-11-10_20-23-16/checkpoint_000000)\n",
      "\u001b[2m\u001b[36m(pid=1002025)\u001b[0m 2023-11-10 20:30:56.415124: E tensorflow/compiler/xla/stream_executor/cuda/cuda_dnn.cc:9342] Unable to register cuDNN factory: Attempting to register factory for plugin cuDNN when one has already been registered\n",
      "\u001b[2m\u001b[36m(pid=1002025)\u001b[0m 2023-11-10 20:30:56.415155: E tensorflow/compiler/xla/stream_executor/cuda/cuda_fft.cc:609] Unable to register cuFFT factory: Attempting to register factory for plugin cuFFT when one has already been registered\n",
      "\u001b[2m\u001b[36m(pid=1002025)\u001b[0m 2023-11-10 20:30:56.415167: E tensorflow/compiler/xla/stream_executor/cuda/cuda_blas.cc:1518] Unable to register cuBLAS factory: Attempting to register factory for plugin cuBLAS when one has already been registered\n",
      "\u001b[2m\u001b[36m(TrainLightGCN pid=1002025)\u001b[0m /home/daviddavo/upm-tfm-notebooks/.direnv/python-3.9/lib/python3.9/site-packages/recommenders/models/deeprec/DataModel/ImplicitCF.py:73: FutureWarning: The frame.append method is deprecated and will be removed from pandas in a future version. Use pandas.concat instead.\n",
      "\u001b[2m\u001b[36m(TrainLightGCN pid=1002025)\u001b[0m   df = train if test is None else train.append(test)\n"
     ]
    },
    {
     "name": "stdout",
     "output_type": "stream",
     "text": [
      "\u001b[2m\u001b[36m(TrainLightGCN pid=1002025)\u001b[0m Already create adjacency matrix.\n",
      "\u001b[2m\u001b[36m(TrainLightGCN pid=1002025)\u001b[0m Already normalize adjacency matrix.\n",
      "\u001b[2m\u001b[36m(TrainLightGCN pid=1002025)\u001b[0m Using xavier initialization.\n"
     ]
    },
    {
     "name": "stderr",
     "output_type": "stream",
     "text": [
      "\u001b[2m\u001b[36m(TrainLightGCN pid=1001224)\u001b[0m Checkpoint successfully created at: Checkpoint(filesystem=local, path=/home/daviddavo/ray_results/TrainLightGCN_2023-11-10_20-19-58/TrainLightGCN_5011241e_13_trial_index=2,batch_size=8,conv_layers=5,embedding_dim=25,l2=0.0005,learning_rate=0.0348_2023-11-10_20-26-45/checkpoint_000000)\n",
      "\u001b[2m\u001b[36m(pid=1002199)\u001b[0m 2023-11-10 20:31:14.434497: E tensorflow/compiler/xla/stream_executor/cuda/cuda_dnn.cc:9342] Unable to register cuDNN factory: Attempting to register factory for plugin cuDNN when one has already been registered\n",
      "\u001b[2m\u001b[36m(pid=1002199)\u001b[0m 2023-11-10 20:31:14.434530: E tensorflow/compiler/xla/stream_executor/cuda/cuda_fft.cc:609] Unable to register cuFFT factory: Attempting to register factory for plugin cuFFT when one has already been registered\n",
      "\u001b[2m\u001b[36m(pid=1002199)\u001b[0m 2023-11-10 20:31:14.434542: E tensorflow/compiler/xla/stream_executor/cuda/cuda_blas.cc:1518] Unable to register cuBLAS factory: Attempting to register factory for plugin cuBLAS when one has already been registered\n",
      "\u001b[2m\u001b[36m(TrainLightGCN pid=1002199)\u001b[0m /home/daviddavo/upm-tfm-notebooks/.direnv/python-3.9/lib/python3.9/site-packages/recommenders/models/deeprec/DataModel/ImplicitCF.py:73: FutureWarning: The frame.append method is deprecated and will be removed from pandas in a future version. Use pandas.concat instead.\n",
      "\u001b[2m\u001b[36m(TrainLightGCN pid=1002199)\u001b[0m   df = train if test is None else train.append(test)\n"
     ]
    },
    {
     "name": "stdout",
     "output_type": "stream",
     "text": [
      "\u001b[2m\u001b[36m(TrainLightGCN pid=1002199)\u001b[0m Already create adjacency matrix.\n",
      "\u001b[2m\u001b[36m(TrainLightGCN pid=1002199)\u001b[0m Already normalize adjacency matrix.\n",
      "\u001b[2m\u001b[36m(TrainLightGCN pid=1002199)\u001b[0m Using xavier initialization.\n"
     ]
    },
    {
     "name": "stderr",
     "output_type": "stream",
     "text": [
      "\u001b[2m\u001b[36m(TrainLightGCN pid=999803)\u001b[0m Checkpoint successfully created at: Checkpoint(filesystem=local, path=/home/daviddavo/ray_results/TrainLightGCN_2023-11-10_20-19-58/TrainLightGCN_bd8c3e65_7_trial_index=6,batch_size=8,conv_layers=5,embedding_dim=330,l2=0.0002,learning_rate=0.9617_2023-11-10_20-23-19/checkpoint_000000)\n",
      "\u001b[2m\u001b[36m(pid=1002496)\u001b[0m 2023-11-10 20:32:52.425022: E tensorflow/compiler/xla/stream_executor/cuda/cuda_dnn.cc:9342] Unable to register cuDNN factory: Attempting to register factory for plugin cuDNN when one has already been registered\n",
      "\u001b[2m\u001b[36m(pid=1002496)\u001b[0m 2023-11-10 20:32:52.425056: E tensorflow/compiler/xla/stream_executor/cuda/cuda_fft.cc:609] Unable to register cuFFT factory: Attempting to register factory for plugin cuFFT when one has already been registered\n",
      "\u001b[2m\u001b[36m(pid=1002496)\u001b[0m 2023-11-10 20:32:52.425068: E tensorflow/compiler/xla/stream_executor/cuda/cuda_blas.cc:1518] Unable to register cuBLAS factory: Attempting to register factory for plugin cuBLAS when one has already been registered\n",
      "\u001b[2m\u001b[36m(TrainLightGCN pid=1002496)\u001b[0m /home/daviddavo/upm-tfm-notebooks/.direnv/python-3.9/lib/python3.9/site-packages/recommenders/models/deeprec/DataModel/ImplicitCF.py:73: FutureWarning: The frame.append method is deprecated and will be removed from pandas in a future version. Use pandas.concat instead.\n",
      "\u001b[2m\u001b[36m(TrainLightGCN pid=1002496)\u001b[0m   df = train if test is None else train.append(test)\n"
     ]
    },
    {
     "name": "stdout",
     "output_type": "stream",
     "text": [
      "\u001b[2m\u001b[36m(TrainLightGCN pid=1002496)\u001b[0m Already create adjacency matrix.\n",
      "\u001b[2m\u001b[36m(TrainLightGCN pid=1002496)\u001b[0m Already normalize adjacency matrix.\n",
      "\u001b[2m\u001b[36m(TrainLightGCN pid=1002496)\u001b[0m Using xavier initialization.\n"
     ]
    },
    {
     "name": "stderr",
     "output_type": "stream",
     "text": [
      "\u001b[2m\u001b[36m(TrainLightGCN pid=1001393)\u001b[0m Checkpoint successfully created at: Checkpoint(filesystem=local, path=/home/daviddavo/ray_results/TrainLightGCN_2023-11-10_20-19-58/TrainLightGCN_fd0c8e7d_14_trial_index=3,batch_size=8,conv_layers=5,embedding_dim=25,l2=0.0005,learning_rate=0.0348_2023-11-10_20-28-01/checkpoint_000000)\n"
     ]
    },
    {
     "name": "stdout",
     "output_type": "stream",
     "text": [
      "\u001b[2m\u001b[36m(TrainLightGCN pid=1002615)\u001b[0m Already create adjacency matrix.\n"
     ]
    },
    {
     "name": "stderr",
     "output_type": "stream",
     "text": [
      "\u001b[2m\u001b[36m(pid=1002615)\u001b[0m 2023-11-10 20:32:56.128771: E tensorflow/compiler/xla/stream_executor/cuda/cuda_dnn.cc:9342] Unable to register cuDNN factory: Attempting to register factory for plugin cuDNN when one has already been registered\n",
      "\u001b[2m\u001b[36m(pid=1002615)\u001b[0m 2023-11-10 20:32:56.128804: E tensorflow/compiler/xla/stream_executor/cuda/cuda_fft.cc:609] Unable to register cuFFT factory: Attempting to register factory for plugin cuFFT when one has already been registered\n",
      "\u001b[2m\u001b[36m(pid=1002615)\u001b[0m 2023-11-10 20:32:56.128816: E tensorflow/compiler/xla/stream_executor/cuda/cuda_blas.cc:1518] Unable to register cuBLAS factory: Attempting to register factory for plugin cuBLAS when one has already been registered\n",
      "\u001b[2m\u001b[36m(TrainLightGCN pid=1002615)\u001b[0m /home/daviddavo/upm-tfm-notebooks/.direnv/python-3.9/lib/python3.9/site-packages/recommenders/models/deeprec/DataModel/ImplicitCF.py:73: FutureWarning: The frame.append method is deprecated and will be removed from pandas in a future version. Use pandas.concat instead.\n",
      "\u001b[2m\u001b[36m(TrainLightGCN pid=1002615)\u001b[0m   df = train if test is None else train.append(test)\n",
      "\u001b[2m\u001b[36m(TrainLightGCN pid=1001648)\u001b[0m Checkpoint successfully created at: Checkpoint(filesystem=local, path=/home/daviddavo/ray_results/TrainLightGCN_2023-11-10_20-19-58/TrainLightGCN_99fef1de_15_trial_index=4,batch_size=8,conv_layers=5,embedding_dim=25,l2=0.0005,learning_rate=0.0348_2023-11-10_20-28-17/checkpoint_000000)\n",
      "\u001b[2m\u001b[36m(pid=1002969)\u001b[0m 2023-11-10 20:34:51.412694: E tensorflow/compiler/xla/stream_executor/cuda/cuda_dnn.cc:9342] Unable to register cuDNN factory: Attempting to register factory for plugin cuDNN when one has already been registered\n",
      "\u001b[2m\u001b[36m(pid=1002969)\u001b[0m 2023-11-10 20:34:51.412729: E tensorflow/compiler/xla/stream_executor/cuda/cuda_fft.cc:609] Unable to register cuFFT factory: Attempting to register factory for plugin cuFFT when one has already been registered\n",
      "\u001b[2m\u001b[36m(pid=1002969)\u001b[0m 2023-11-10 20:34:51.412741: E tensorflow/compiler/xla/stream_executor/cuda/cuda_blas.cc:1518] Unable to register cuBLAS factory: Attempting to register factory for plugin cuBLAS when one has already been registered\n",
      "\u001b[2m\u001b[36m(TrainLightGCN pid=1002969)\u001b[0m /home/daviddavo/upm-tfm-notebooks/.direnv/python-3.9/lib/python3.9/site-packages/recommenders/models/deeprec/DataModel/ImplicitCF.py:73: FutureWarning: The frame.append method is deprecated and will be removed from pandas in a future version. Use pandas.concat instead.\n",
      "\u001b[2m\u001b[36m(TrainLightGCN pid=1002969)\u001b[0m   df = train if test is None else train.append(test)\n"
     ]
    },
    {
     "name": "stdout",
     "output_type": "stream",
     "text": [
      "\u001b[2m\u001b[36m(TrainLightGCN pid=1002615)\u001b[0m Already normalize adjacency matrix.\n",
      "\u001b[2m\u001b[36m(TrainLightGCN pid=1002615)\u001b[0m Using xavier initialization.\n",
      "\u001b[2m\u001b[36m(TrainLightGCN pid=1002969)\u001b[0m Already create adjacency matrix.\n",
      "\u001b[2m\u001b[36m(TrainLightGCN pid=1002969)\u001b[0m Already normalize adjacency matrix.\n",
      "\u001b[2m\u001b[36m(TrainLightGCN pid=1002969)\u001b[0m Using xavier initialization.\n"
     ]
    },
    {
     "name": "stderr",
     "output_type": "stream",
     "text": [
      "\u001b[2m\u001b[36m(TrainLightGCN pid=999949)\u001b[0m Checkpoint successfully created at: Checkpoint(filesystem=local, path=/home/daviddavo/ray_results/TrainLightGCN_2023-11-10_20-19-58/TrainLightGCN_fbb3b8ec_8_trial_index=7,batch_size=8,conv_layers=5,embedding_dim=330,l2=0.0002,learning_rate=0.9617_2023-11-10_20-23-22/checkpoint_000000)\n",
      "\u001b[2m\u001b[36m(pid=1003149)\u001b[0m 2023-11-10 20:35:17.487119: E tensorflow/compiler/xla/stream_executor/cuda/cuda_dnn.cc:9342] Unable to register cuDNN factory: Attempting to register factory for plugin cuDNN when one has already been registered\n",
      "\u001b[2m\u001b[36m(pid=1003149)\u001b[0m 2023-11-10 20:35:17.487156: E tensorflow/compiler/xla/stream_executor/cuda/cuda_fft.cc:609] Unable to register cuFFT factory: Attempting to register factory for plugin cuFFT when one has already been registered\n",
      "\u001b[2m\u001b[36m(pid=1003149)\u001b[0m 2023-11-10 20:35:17.487168: E tensorflow/compiler/xla/stream_executor/cuda/cuda_blas.cc:1518] Unable to register cuBLAS factory: Attempting to register factory for plugin cuBLAS when one has already been registered\n",
      "\u001b[2m\u001b[36m(TrainLightGCN pid=1003149)\u001b[0m /home/daviddavo/upm-tfm-notebooks/.direnv/python-3.9/lib/python3.9/site-packages/recommenders/models/deeprec/DataModel/ImplicitCF.py:73: FutureWarning: The frame.append method is deprecated and will be removed from pandas in a future version. Use pandas.concat instead.\n",
      "\u001b[2m\u001b[36m(TrainLightGCN pid=1003149)\u001b[0m   df = train if test is None else train.append(test)\n"
     ]
    },
    {
     "name": "stdout",
     "output_type": "stream",
     "text": [
      "\u001b[2m\u001b[36m(TrainLightGCN pid=1003149)\u001b[0m Already create adjacency matrix.\n",
      "\u001b[2m\u001b[36m(TrainLightGCN pid=1003149)\u001b[0m Already normalize adjacency matrix.\n",
      "\u001b[2m\u001b[36m(TrainLightGCN pid=1003149)\u001b[0m Using xavier initialization.\n"
     ]
    },
    {
     "name": "stderr",
     "output_type": "stream",
     "text": [
      "\u001b[2m\u001b[36m(TrainLightGCN pid=1003149)\u001b[0m Checkpoint successfully created at: Checkpoint(filesystem=local, path=/home/daviddavo/ray_results/TrainLightGCN_2023-11-10_20-19-58/TrainLightGCN_b2afd46a_21_trial_index=0,batch_size=9,conv_layers=5,embedding_dim=100,l2=0.0670,learning_rate=0.0035_2023-11-10_20-34-54/checkpoint_000000)\n",
      "\u001b[2m\u001b[36m(pid=1003328)\u001b[0m 2023-11-10 20:35:40.477412: E tensorflow/compiler/xla/stream_executor/cuda/cuda_dnn.cc:9342] Unable to register cuDNN factory: Attempting to register factory for plugin cuDNN when one has already been registered\n",
      "\u001b[2m\u001b[36m(pid=1003328)\u001b[0m 2023-11-10 20:35:40.477451: E tensorflow/compiler/xla/stream_executor/cuda/cuda_fft.cc:609] Unable to register cuFFT factory: Attempting to register factory for plugin cuFFT when one has already been registered\n",
      "\u001b[2m\u001b[36m(pid=1003328)\u001b[0m 2023-11-10 20:35:40.477462: E tensorflow/compiler/xla/stream_executor/cuda/cuda_blas.cc:1518] Unable to register cuBLAS factory: Attempting to register factory for plugin cuBLAS when one has already been registered\n",
      "\u001b[2m\u001b[36m(TrainLightGCN pid=1003328)\u001b[0m /home/daviddavo/upm-tfm-notebooks/.direnv/python-3.9/lib/python3.9/site-packages/recommenders/models/deeprec/DataModel/ImplicitCF.py:73: FutureWarning: The frame.append method is deprecated and will be removed from pandas in a future version. Use pandas.concat instead.\n",
      "\u001b[2m\u001b[36m(TrainLightGCN pid=1003328)\u001b[0m   df = train if test is None else train.append(test)\n"
     ]
    },
    {
     "name": "stdout",
     "output_type": "stream",
     "text": [
      "\u001b[2m\u001b[36m(TrainLightGCN pid=1003328)\u001b[0m Already normalize adjacency matrix.\n",
      "\u001b[2m\u001b[36m(TrainLightGCN pid=1003328)\u001b[0m Using xavier initialization.\n",
      "\u001b[2m\u001b[36m(TrainLightGCN pid=1003328)\u001b[0m Already create adjacency matrix.\n"
     ]
    },
    {
     "name": "stderr",
     "output_type": "stream",
     "text": [
      "\u001b[2m\u001b[36m(TrainLightGCN pid=1003328)\u001b[0m Checkpoint successfully created at: Checkpoint(filesystem=local, path=/home/daviddavo/ray_results/TrainLightGCN_2023-11-10_20-19-58/TrainLightGCN_b1d910d2_22_trial_index=1,batch_size=9,conv_layers=5,embedding_dim=100,l2=0.0670,learning_rate=0.0035_2023-11-10_20-35-19/checkpoint_000000)\n",
      "\u001b[2m\u001b[36m(pid=1003578)\u001b[0m 2023-11-10 20:36:16.498802: E tensorflow/compiler/xla/stream_executor/cuda/cuda_dnn.cc:9342] Unable to register cuDNN factory: Attempting to register factory for plugin cuDNN when one has already been registered\n",
      "\u001b[2m\u001b[36m(pid=1003578)\u001b[0m 2023-11-10 20:36:16.498836: E tensorflow/compiler/xla/stream_executor/cuda/cuda_fft.cc:609] Unable to register cuFFT factory: Attempting to register factory for plugin cuFFT when one has already been registered\n",
      "\u001b[2m\u001b[36m(pid=1003578)\u001b[0m 2023-11-10 20:36:16.498848: E tensorflow/compiler/xla/stream_executor/cuda/cuda_blas.cc:1518] Unable to register cuBLAS factory: Attempting to register factory for plugin cuBLAS when one has already been registered\n",
      "\u001b[2m\u001b[36m(TrainLightGCN pid=1003578)\u001b[0m /home/daviddavo/upm-tfm-notebooks/.direnv/python-3.9/lib/python3.9/site-packages/recommenders/models/deeprec/DataModel/ImplicitCF.py:73: FutureWarning: The frame.append method is deprecated and will be removed from pandas in a future version. Use pandas.concat instead.\n",
      "\u001b[2m\u001b[36m(TrainLightGCN pid=1003578)\u001b[0m   df = train if test is None else train.append(test)\n"
     ]
    },
    {
     "name": "stdout",
     "output_type": "stream",
     "text": [
      "\u001b[2m\u001b[36m(TrainLightGCN pid=1003578)\u001b[0m Already create adjacency matrix.\n",
      "\u001b[2m\u001b[36m(TrainLightGCN pid=1003578)\u001b[0m Already normalize adjacency matrix.\n",
      "\u001b[2m\u001b[36m(TrainLightGCN pid=1003578)\u001b[0m Using xavier initialization.\n"
     ]
    },
    {
     "name": "stderr",
     "output_type": "stream",
     "text": [
      "\u001b[2m\u001b[36m(TrainLightGCN pid=1002025)\u001b[0m Checkpoint successfully created at: Checkpoint(filesystem=local, path=/home/daviddavo/ray_results/TrainLightGCN_2023-11-10_20-19-58/TrainLightGCN_4cc52ddb_16_trial_index=5,batch_size=8,conv_layers=5,embedding_dim=25,l2=0.0005,learning_rate=0.0348_2023-11-10_20-29-28/checkpoint_000000)\n",
      "\u001b[2m\u001b[36m(pid=1003790)\u001b[0m 2023-11-10 20:37:00.438053: E tensorflow/compiler/xla/stream_executor/cuda/cuda_dnn.cc:9342] Unable to register cuDNN factory: Attempting to register factory for plugin cuDNN when one has already been registered\n",
      "\u001b[2m\u001b[36m(pid=1003790)\u001b[0m 2023-11-10 20:37:00.438088: E tensorflow/compiler/xla/stream_executor/cuda/cuda_fft.cc:609] Unable to register cuFFT factory: Attempting to register factory for plugin cuFFT when one has already been registered\n",
      "\u001b[2m\u001b[36m(pid=1003790)\u001b[0m 2023-11-10 20:37:00.438102: E tensorflow/compiler/xla/stream_executor/cuda/cuda_blas.cc:1518] Unable to register cuBLAS factory: Attempting to register factory for plugin cuBLAS when one has already been registered\n",
      "\u001b[2m\u001b[36m(TrainLightGCN pid=1003790)\u001b[0m /home/daviddavo/upm-tfm-notebooks/.direnv/python-3.9/lib/python3.9/site-packages/recommenders/models/deeprec/DataModel/ImplicitCF.py:73: FutureWarning: The frame.append method is deprecated and will be removed from pandas in a future version. Use pandas.concat instead.\n",
      "\u001b[2m\u001b[36m(TrainLightGCN pid=1003790)\u001b[0m   df = train if test is None else train.append(test)\n"
     ]
    },
    {
     "name": "stdout",
     "output_type": "stream",
     "text": [
      "\u001b[2m\u001b[36m(TrainLightGCN pid=1003790)\u001b[0m Already normalize adjacency matrix.\n",
      "\u001b[2m\u001b[36m(TrainLightGCN pid=1003790)\u001b[0m Using xavier initialization.\n",
      "\u001b[2m\u001b[36m(TrainLightGCN pid=1003790)\u001b[0m Already create adjacency matrix.\n"
     ]
    },
    {
     "name": "stderr",
     "output_type": "stream",
     "text": [
      "\u001b[2m\u001b[36m(TrainLightGCN pid=1003578)\u001b[0m Checkpoint successfully created at: Checkpoint(filesystem=local, path=/home/daviddavo/ray_results/TrainLightGCN_2023-11-10_20-19-58/TrainLightGCN_834532dc_23_trial_index=2,batch_size=9,conv_layers=5,embedding_dim=100,l2=0.0670,learning_rate=0.0035_2023-11-10_20-35-42/checkpoint_000000)\n",
      "\u001b[2m\u001b[36m(pid=1003984)\u001b[0m 2023-11-10 20:37:32.478325: E tensorflow/compiler/xla/stream_executor/cuda/cuda_dnn.cc:9342] Unable to register cuDNN factory: Attempting to register factory for plugin cuDNN when one has already been registered\n",
      "\u001b[2m\u001b[36m(pid=1003984)\u001b[0m 2023-11-10 20:37:32.478360: E tensorflow/compiler/xla/stream_executor/cuda/cuda_fft.cc:609] Unable to register cuFFT factory: Attempting to register factory for plugin cuFFT when one has already been registered\n",
      "\u001b[2m\u001b[36m(pid=1003984)\u001b[0m 2023-11-10 20:37:32.478373: E tensorflow/compiler/xla/stream_executor/cuda/cuda_blas.cc:1518] Unable to register cuBLAS factory: Attempting to register factory for plugin cuBLAS when one has already been registered\n",
      "\u001b[2m\u001b[36m(TrainLightGCN pid=1003984)\u001b[0m /home/daviddavo/upm-tfm-notebooks/.direnv/python-3.9/lib/python3.9/site-packages/recommenders/models/deeprec/DataModel/ImplicitCF.py:73: FutureWarning: The frame.append method is deprecated and will be removed from pandas in a future version. Use pandas.concat instead.\n",
      "\u001b[2m\u001b[36m(TrainLightGCN pid=1003984)\u001b[0m   df = train if test is None else train.append(test)\n"
     ]
    },
    {
     "name": "stdout",
     "output_type": "stream",
     "text": [
      "\u001b[2m\u001b[36m(TrainLightGCN pid=1003984)\u001b[0m Already create adjacency matrix.\n",
      "\u001b[2m\u001b[36m(TrainLightGCN pid=1003984)\u001b[0m Already normalize adjacency matrix.\n",
      "\u001b[2m\u001b[36m(TrainLightGCN pid=1003984)\u001b[0m Using xavier initialization.\n"
     ]
    },
    {
     "name": "stderr",
     "output_type": "stream",
     "text": [
      "\u001b[2m\u001b[36m(TrainLightGCN pid=1002199)\u001b[0m Checkpoint successfully created at: Checkpoint(filesystem=local, path=/home/daviddavo/ray_results/TrainLightGCN_2023-11-10_20-19-58/TrainLightGCN_3c9985b5_17_trial_index=6,batch_size=8,conv_layers=5,embedding_dim=25,l2=0.0005,learning_rate=0.0348_2023-11-10_20-30-59/checkpoint_000000)\n",
      "\u001b[2m\u001b[36m(pid=1004238)\u001b[0m 2023-11-10 20:38:43.476392: E tensorflow/compiler/xla/stream_executor/cuda/cuda_dnn.cc:9342] Unable to register cuDNN factory: Attempting to register factory for plugin cuDNN when one has already been registered\n",
      "\u001b[2m\u001b[36m(pid=1004238)\u001b[0m 2023-11-10 20:38:43.476435: E tensorflow/compiler/xla/stream_executor/cuda/cuda_fft.cc:609] Unable to register cuFFT factory: Attempting to register factory for plugin cuFFT when one has already been registered\n",
      "\u001b[2m\u001b[36m(pid=1004238)\u001b[0m 2023-11-10 20:38:43.476451: E tensorflow/compiler/xla/stream_executor/cuda/cuda_blas.cc:1518] Unable to register cuBLAS factory: Attempting to register factory for plugin cuBLAS when one has already been registered\n",
      "\u001b[2m\u001b[36m(TrainLightGCN pid=1004238)\u001b[0m /home/daviddavo/upm-tfm-notebooks/.direnv/python-3.9/lib/python3.9/site-packages/recommenders/models/deeprec/DataModel/ImplicitCF.py:73: FutureWarning: The frame.append method is deprecated and will be removed from pandas in a future version. Use pandas.concat instead.\n",
      "\u001b[2m\u001b[36m(TrainLightGCN pid=1004238)\u001b[0m   df = train if test is None else train.append(test)\n"
     ]
    },
    {
     "name": "stdout",
     "output_type": "stream",
     "text": [
      "\u001b[2m\u001b[36m(TrainLightGCN pid=1004238)\u001b[0m Already normalize adjacency matrix.\n",
      "\u001b[2m\u001b[36m(TrainLightGCN pid=1004238)\u001b[0m Using xavier initialization.\n",
      "\u001b[2m\u001b[36m(TrainLightGCN pid=1004238)\u001b[0m Already create adjacency matrix.\n"
     ]
    },
    {
     "name": "stderr",
     "output_type": "stream",
     "text": [
      "\u001b[2m\u001b[36m(TrainLightGCN pid=1003790)\u001b[0m Checkpoint successfully created at: Checkpoint(filesystem=local, path=/home/daviddavo/ray_results/TrainLightGCN_2023-11-10_20-19-58/TrainLightGCN_3d637671_24_trial_index=3,batch_size=9,conv_layers=5,embedding_dim=100,l2=0.0670,learning_rate=0.0035_2023-11-10_20-36-18/checkpoint_000000)\n",
      "\u001b[2m\u001b[36m(pid=1004397)\u001b[0m 2023-11-10 20:38:54.536316: E tensorflow/compiler/xla/stream_executor/cuda/cuda_dnn.cc:9342] Unable to register cuDNN factory: Attempting to register factory for plugin cuDNN when one has already been registered\n",
      "\u001b[2m\u001b[36m(pid=1004397)\u001b[0m 2023-11-10 20:38:54.536357: E tensorflow/compiler/xla/stream_executor/cuda/cuda_fft.cc:609] Unable to register cuFFT factory: Attempting to register factory for plugin cuFFT when one has already been registered\n",
      "\u001b[2m\u001b[36m(pid=1004397)\u001b[0m 2023-11-10 20:38:54.536369: E tensorflow/compiler/xla/stream_executor/cuda/cuda_blas.cc:1518] Unable to register cuBLAS factory: Attempting to register factory for plugin cuBLAS when one has already been registered\n",
      "\u001b[2m\u001b[36m(TrainLightGCN pid=1004397)\u001b[0m /home/daviddavo/upm-tfm-notebooks/.direnv/python-3.9/lib/python3.9/site-packages/recommenders/models/deeprec/DataModel/ImplicitCF.py:73: FutureWarning: The frame.append method is deprecated and will be removed from pandas in a future version. Use pandas.concat instead.\n",
      "\u001b[2m\u001b[36m(TrainLightGCN pid=1004397)\u001b[0m   df = train if test is None else train.append(test)\n"
     ]
    },
    {
     "name": "stdout",
     "output_type": "stream",
     "text": [
      "\u001b[2m\u001b[36m(TrainLightGCN pid=1004397)\u001b[0m Already create adjacency matrix.\n",
      "\u001b[2m\u001b[36m(TrainLightGCN pid=1004397)\u001b[0m Already normalize adjacency matrix.\n",
      "\u001b[2m\u001b[36m(TrainLightGCN pid=1004397)\u001b[0m Using xavier initialization.\n"
     ]
    },
    {
     "name": "stderr",
     "output_type": "stream",
     "text": [
      "\u001b[2m\u001b[36m(TrainLightGCN pid=1000097)\u001b[0m Checkpoint successfully created at: Checkpoint(filesystem=local, path=/home/daviddavo/ray_results/TrainLightGCN_2023-11-10_20-19-58/TrainLightGCN_6f7b3df6_9_trial_index=8,batch_size=8,conv_layers=5,embedding_dim=330,l2=0.0002,learning_rate=0.9617_2023-11-10_20-23-25/checkpoint_000000)\n",
      "\u001b[2m\u001b[36m(pid=1004574)\u001b[0m 2023-11-10 20:39:13.501693: E tensorflow/compiler/xla/stream_executor/cuda/cuda_dnn.cc:9342] Unable to register cuDNN factory: Attempting to register factory for plugin cuDNN when one has already been registered\n",
      "\u001b[2m\u001b[36m(pid=1004574)\u001b[0m 2023-11-10 20:39:13.501732: E tensorflow/compiler/xla/stream_executor/cuda/cuda_fft.cc:609] Unable to register cuFFT factory: Attempting to register factory for plugin cuFFT when one has already been registered\n",
      "\u001b[2m\u001b[36m(pid=1004574)\u001b[0m 2023-11-10 20:39:13.501743: E tensorflow/compiler/xla/stream_executor/cuda/cuda_blas.cc:1518] Unable to register cuBLAS factory: Attempting to register factory for plugin cuBLAS when one has already been registered\n",
      "\u001b[2m\u001b[36m(TrainLightGCN pid=1004574)\u001b[0m /home/daviddavo/upm-tfm-notebooks/.direnv/python-3.9/lib/python3.9/site-packages/recommenders/models/deeprec/DataModel/ImplicitCF.py:73: FutureWarning: The frame.append method is deprecated and will be removed from pandas in a future version. Use pandas.concat instead.\n",
      "\u001b[2m\u001b[36m(TrainLightGCN pid=1004574)\u001b[0m   df = train if test is None else train.append(test)\n"
     ]
    },
    {
     "name": "stdout",
     "output_type": "stream",
     "text": [
      "\u001b[2m\u001b[36m(TrainLightGCN pid=1004574)\u001b[0m Already normalize adjacency matrix.\n",
      "\u001b[2m\u001b[36m(TrainLightGCN pid=1004574)\u001b[0m Already create adjacency matrix.\n",
      "\u001b[2m\u001b[36m(TrainLightGCN pid=1004574)\u001b[0m Using xavier initialization.\n"
     ]
    },
    {
     "name": "stderr",
     "output_type": "stream",
     "text": [
      "\u001b[2m\u001b[36m(TrainLightGCN pid=1003984)\u001b[0m Checkpoint successfully created at: Checkpoint(filesystem=local, path=/home/daviddavo/ray_results/TrainLightGCN_2023-11-10_20-19-58/TrainLightGCN_03844ac5_25_trial_index=4,batch_size=9,conv_layers=5,embedding_dim=100,l2=0.0670,learning_rate=0.0035_2023-11-10_20-37-02/checkpoint_000000)\n",
      "\u001b[2m\u001b[36m(pid=1004764)\u001b[0m 2023-11-10 20:39:46.497915: E tensorflow/compiler/xla/stream_executor/cuda/cuda_dnn.cc:9342] Unable to register cuDNN factory: Attempting to register factory for plugin cuDNN when one has already been registered\n",
      "\u001b[2m\u001b[36m(pid=1004764)\u001b[0m 2023-11-10 20:39:46.498025: E tensorflow/compiler/xla/stream_executor/cuda/cuda_fft.cc:609] Unable to register cuFFT factory: Attempting to register factory for plugin cuFFT when one has already been registered\n",
      "\u001b[2m\u001b[36m(pid=1004764)\u001b[0m 2023-11-10 20:39:46.498039: E tensorflow/compiler/xla/stream_executor/cuda/cuda_blas.cc:1518] Unable to register cuBLAS factory: Attempting to register factory for plugin cuBLAS when one has already been registered\n",
      "\u001b[2m\u001b[36m(TrainLightGCN pid=1004764)\u001b[0m /home/daviddavo/upm-tfm-notebooks/.direnv/python-3.9/lib/python3.9/site-packages/recommenders/models/deeprec/DataModel/ImplicitCF.py:73: FutureWarning: The frame.append method is deprecated and will be removed from pandas in a future version. Use pandas.concat instead.\n",
      "\u001b[2m\u001b[36m(TrainLightGCN pid=1004764)\u001b[0m   df = train if test is None else train.append(test)\n"
     ]
    },
    {
     "name": "stdout",
     "output_type": "stream",
     "text": [
      "\u001b[2m\u001b[36m(TrainLightGCN pid=1004764)\u001b[0m Already create adjacency matrix.\n",
      "\u001b[2m\u001b[36m(TrainLightGCN pid=1004764)\u001b[0m Already normalize adjacency matrix.\n",
      "\u001b[2m\u001b[36m(TrainLightGCN pid=1004764)\u001b[0m Using xavier initialization.\n"
     ]
    },
    {
     "name": "stderr",
     "output_type": "stream",
     "text": [
      "\u001b[2m\u001b[36m(TrainLightGCN pid=1004238)\u001b[0m Checkpoint successfully created at: Checkpoint(filesystem=local, path=/home/daviddavo/ray_results/TrainLightGCN_2023-11-10_20-19-58/TrainLightGCN_a553b54a_26_trial_index=5,batch_size=9,conv_layers=5,embedding_dim=100,l2=0.0670,learning_rate=0.0035_2023-11-10_20-37-35/checkpoint_000000)\n",
      "\u001b[2m\u001b[36m(pid=1005048)\u001b[0m 2023-11-10 20:41:15.691779: E tensorflow/compiler/xla/stream_executor/cuda/cuda_dnn.cc:9342] Unable to register cuDNN factory: Attempting to register factory for plugin cuDNN when one has already been registered\n",
      "\u001b[2m\u001b[36m(pid=1005048)\u001b[0m 2023-11-10 20:41:15.691814: E tensorflow/compiler/xla/stream_executor/cuda/cuda_fft.cc:609] Unable to register cuFFT factory: Attempting to register factory for plugin cuFFT when one has already been registered\n",
      "\u001b[2m\u001b[36m(pid=1005048)\u001b[0m 2023-11-10 20:41:15.691827: E tensorflow/compiler/xla/stream_executor/cuda/cuda_blas.cc:1518] Unable to register cuBLAS factory: Attempting to register factory for plugin cuBLAS when one has already been registered\n",
      "\u001b[2m\u001b[36m(TrainLightGCN pid=1005048)\u001b[0m /home/daviddavo/upm-tfm-notebooks/.direnv/python-3.9/lib/python3.9/site-packages/recommenders/models/deeprec/DataModel/ImplicitCF.py:73: FutureWarning: The frame.append method is deprecated and will be removed from pandas in a future version. Use pandas.concat instead.\n",
      "\u001b[2m\u001b[36m(TrainLightGCN pid=1005048)\u001b[0m   df = train if test is None else train.append(test)\n"
     ]
    },
    {
     "name": "stdout",
     "output_type": "stream",
     "text": [
      "\u001b[2m\u001b[36m(TrainLightGCN pid=1005048)\u001b[0m Already create adjacency matrix.\n",
      "\u001b[2m\u001b[36m(TrainLightGCN pid=1005048)\u001b[0m Already normalize adjacency matrix.\n",
      "\u001b[2m\u001b[36m(TrainLightGCN pid=1005048)\u001b[0m Using xavier initialization.\n"
     ]
    },
    {
     "name": "stderr",
     "output_type": "stream",
     "text": [
      "\u001b[2m\u001b[36m(TrainLightGCN pid=1002496)\u001b[0m Checkpoint successfully created at: Checkpoint(filesystem=local, path=/home/daviddavo/ray_results/TrainLightGCN_2023-11-10_20-19-58/TrainLightGCN_828f838c_18_trial_index=7,batch_size=8,conv_layers=5,embedding_dim=25,l2=0.0005,learning_rate=0.0348_2023-11-10_20-31-17/checkpoint_000000)\n",
      "\u001b[2m\u001b[36m(pid=1005237)\u001b[0m 2023-11-10 20:41:44.505121: E tensorflow/compiler/xla/stream_executor/cuda/cuda_dnn.cc:9342] Unable to register cuDNN factory: Attempting to register factory for plugin cuDNN when one has already been registered\n",
      "\u001b[2m\u001b[36m(pid=1005237)\u001b[0m 2023-11-10 20:41:44.505159: E tensorflow/compiler/xla/stream_executor/cuda/cuda_fft.cc:609] Unable to register cuFFT factory: Attempting to register factory for plugin cuFFT when one has already been registered\n",
      "\u001b[2m\u001b[36m(pid=1005237)\u001b[0m 2023-11-10 20:41:44.505172: E tensorflow/compiler/xla/stream_executor/cuda/cuda_blas.cc:1518] Unable to register cuBLAS factory: Attempting to register factory for plugin cuBLAS when one has already been registered\n",
      "\u001b[2m\u001b[36m(TrainLightGCN pid=1005237)\u001b[0m /home/daviddavo/upm-tfm-notebooks/.direnv/python-3.9/lib/python3.9/site-packages/recommenders/models/deeprec/DataModel/ImplicitCF.py:73: FutureWarning: The frame.append method is deprecated and will be removed from pandas in a future version. Use pandas.concat instead.\n",
      "\u001b[2m\u001b[36m(TrainLightGCN pid=1005237)\u001b[0m   df = train if test is None else train.append(test)\n"
     ]
    },
    {
     "name": "stdout",
     "output_type": "stream",
     "text": [
      "\u001b[2m\u001b[36m(TrainLightGCN pid=1005237)\u001b[0m Already create adjacency matrix.\n",
      "\u001b[2m\u001b[36m(TrainLightGCN pid=1005237)\u001b[0m Already normalize adjacency matrix.\n",
      "\u001b[2m\u001b[36m(TrainLightGCN pid=1005237)\u001b[0m Using xavier initialization.\n"
     ]
    },
    {
     "name": "stderr",
     "output_type": "stream",
     "text": [
      "\u001b[2m\u001b[36m(TrainLightGCN pid=1004397)\u001b[0m Checkpoint successfully created at: Checkpoint(filesystem=local, path=/home/daviddavo/ray_results/TrainLightGCN_2023-11-10_20-19-58/TrainLightGCN_8e4d90ed_27_trial_index=6,batch_size=9,conv_layers=5,embedding_dim=100,l2=0.0670,learning_rate=0.0035_2023-11-10_20-38-46/checkpoint_000000)\n",
      "\u001b[2m\u001b[36m(TrainLightGCN pid=1000250)\u001b[0m Checkpoint successfully created at: Checkpoint(filesystem=local, path=/home/daviddavo/ray_results/TrainLightGCN_2023-11-10_20-19-58/TrainLightGCN_6d5bf548_10_trial_index=9,batch_size=8,conv_layers=5,embedding_dim=330,l2=0.0002,learning_rate=0.9617_2023-11-10_20-23-29/checkpoint_000000)\n",
      "\u001b[2m\u001b[36m(pid=1005416)\u001b[0m 2023-11-10 20:42:06.514979: E tensorflow/compiler/xla/stream_executor/cuda/cuda_dnn.cc:9342] Unable to register cuDNN factory: Attempting to register factory for plugin cuDNN when one has already been registered\n",
      "\u001b[2m\u001b[36m(pid=1005416)\u001b[0m 2023-11-10 20:42:06.515016: E tensorflow/compiler/xla/stream_executor/cuda/cuda_fft.cc:609] Unable to register cuFFT factory: Attempting to register factory for plugin cuFFT when one has already been registered\n",
      "\u001b[2m\u001b[36m(pid=1005416)\u001b[0m 2023-11-10 20:42:06.515033: E tensorflow/compiler/xla/stream_executor/cuda/cuda_blas.cc:1518] Unable to register cuBLAS factory: Attempting to register factory for plugin cuBLAS when one has already been registered\n",
      "\u001b[2m\u001b[36m(TrainLightGCN pid=1005416)\u001b[0m /home/daviddavo/upm-tfm-notebooks/.direnv/python-3.9/lib/python3.9/site-packages/recommenders/models/deeprec/DataModel/ImplicitCF.py:73: FutureWarning: The frame.append method is deprecated and will be removed from pandas in a future version. Use pandas.concat instead.\n",
      "\u001b[2m\u001b[36m(TrainLightGCN pid=1005416)\u001b[0m   df = train if test is None else train.append(test)\n"
     ]
    },
    {
     "name": "stdout",
     "output_type": "stream",
     "text": [
      "\u001b[2m\u001b[36m(TrainLightGCN pid=1005416)\u001b[0m Already normalize adjacency matrix.\n",
      "\u001b[2m\u001b[36m(TrainLightGCN pid=1005416)\u001b[0m Already create adjacency matrix.\n",
      "\u001b[2m\u001b[36m(TrainLightGCN pid=1005416)\u001b[0m Using xavier initialization.\n",
      "\u001b[2m\u001b[36m(TrainLightGCN pid=1005533)\u001b[0m Already create adjacency matrix.\n",
      "\u001b[2m\u001b[36m(TrainLightGCN pid=1005533)\u001b[0m Using xavier initialization.\n"
     ]
    },
    {
     "name": "stderr",
     "output_type": "stream",
     "text": [
      "\u001b[2m\u001b[36m(TrainLightGCN pid=1005237)\u001b[0m Checkpoint successfully created at: Checkpoint(filesystem=local, path=/home/daviddavo/ray_results/TrainLightGCN_2023-11-10_20-19-58/TrainLightGCN_a861f9c6_31_trial_index=0,batch_size=7,conv_layers=3,embedding_dim=320,l2=0.0000,learning_rate=0.2834_2023-11-10_20-41-18/checkpoint_000000)\n",
      "\u001b[2m\u001b[36m(pid=1005533)\u001b[0m 2023-11-10 20:42:09.721534: E tensorflow/compiler/xla/stream_executor/cuda/cuda_dnn.cc:9342] Unable to register cuDNN factory: Attempting to register factory for plugin cuDNN when one has already been registered\n",
      "\u001b[2m\u001b[36m(pid=1005533)\u001b[0m 2023-11-10 20:42:09.721573: E tensorflow/compiler/xla/stream_executor/cuda/cuda_fft.cc:609] Unable to register cuFFT factory: Attempting to register factory for plugin cuFFT when one has already been registered\n",
      "\u001b[2m\u001b[36m(pid=1005533)\u001b[0m 2023-11-10 20:42:09.721587: E tensorflow/compiler/xla/stream_executor/cuda/cuda_blas.cc:1518] Unable to register cuBLAS factory: Attempting to register factory for plugin cuBLAS when one has already been registered\n",
      "\u001b[2m\u001b[36m(TrainLightGCN pid=1005533)\u001b[0m /home/daviddavo/upm-tfm-notebooks/.direnv/python-3.9/lib/python3.9/site-packages/recommenders/models/deeprec/DataModel/ImplicitCF.py:73: FutureWarning: The frame.append method is deprecated and will be removed from pandas in a future version. Use pandas.concat instead.\n",
      "\u001b[2m\u001b[36m(TrainLightGCN pid=1005533)\u001b[0m   df = train if test is None else train.append(test)\n",
      "\u001b[2m\u001b[36m(pid=1005742)\u001b[0m 2023-11-10 20:42:31.571235: E tensorflow/compiler/xla/stream_executor/cuda/cuda_dnn.cc:9342] Unable to register cuDNN factory: Attempting to register factory for plugin cuDNN when one has already been registered\n",
      "\u001b[2m\u001b[36m(pid=1005742)\u001b[0m 2023-11-10 20:42:31.571272: E tensorflow/compiler/xla/stream_executor/cuda/cuda_fft.cc:609] Unable to register cuFFT factory: Attempting to register factory for plugin cuFFT when one has already been registered\n",
      "\u001b[2m\u001b[36m(pid=1005742)\u001b[0m 2023-11-10 20:42:31.571284: E tensorflow/compiler/xla/stream_executor/cuda/cuda_blas.cc:1518] Unable to register cuBLAS factory: Attempting to register factory for plugin cuBLAS when one has already been registered\n",
      "\u001b[2m\u001b[36m(TrainLightGCN pid=1005742)\u001b[0m /home/daviddavo/upm-tfm-notebooks/.direnv/python-3.9/lib/python3.9/site-packages/recommenders/models/deeprec/DataModel/ImplicitCF.py:73: FutureWarning: The frame.append method is deprecated and will be removed from pandas in a future version. Use pandas.concat instead.\n",
      "\u001b[2m\u001b[36m(TrainLightGCN pid=1005742)\u001b[0m   df = train if test is None else train.append(test)\n"
     ]
    },
    {
     "name": "stdout",
     "output_type": "stream",
     "text": [
      "\u001b[2m\u001b[36m(TrainLightGCN pid=1005742)\u001b[0m Already normalize adjacency matrix.\u001b[32m [repeated 2x across cluster]\u001b[0m\n",
      "\u001b[2m\u001b[36m(TrainLightGCN pid=1005742)\u001b[0m Already create adjacency matrix.\n",
      "\u001b[2m\u001b[36m(TrainLightGCN pid=1005742)\u001b[0m Using xavier initialization.\n"
     ]
    },
    {
     "name": "stderr",
     "output_type": "stream",
     "text": [
      "\u001b[2m\u001b[36m(TrainLightGCN pid=1004574)\u001b[0m Checkpoint successfully created at: Checkpoint(filesystem=local, path=/home/daviddavo/ray_results/TrainLightGCN_2023-11-10_20-19-58/TrainLightGCN_8cc50312_28_trial_index=7,batch_size=9,conv_layers=5,embedding_dim=100,l2=0.0670,learning_rate=0.0035_2023-11-10_20-38-57/checkpoint_000000)\n",
      "\u001b[2m\u001b[36m(pid=1005932)\u001b[0m 2023-11-10 20:43:00.775511: E tensorflow/compiler/xla/stream_executor/cuda/cuda_dnn.cc:9342] Unable to register cuDNN factory: Attempting to register factory for plugin cuDNN when one has already been registered\n",
      "\u001b[2m\u001b[36m(pid=1005932)\u001b[0m 2023-11-10 20:43:00.775549: E tensorflow/compiler/xla/stream_executor/cuda/cuda_fft.cc:609] Unable to register cuFFT factory: Attempting to register factory for plugin cuFFT when one has already been registered\n",
      "\u001b[2m\u001b[36m(pid=1005932)\u001b[0m 2023-11-10 20:43:00.775561: E tensorflow/compiler/xla/stream_executor/cuda/cuda_blas.cc:1518] Unable to register cuBLAS factory: Attempting to register factory for plugin cuBLAS when one has already been registered\n",
      "\u001b[2m\u001b[36m(TrainLightGCN pid=1005932)\u001b[0m /home/daviddavo/upm-tfm-notebooks/.direnv/python-3.9/lib/python3.9/site-packages/recommenders/models/deeprec/DataModel/ImplicitCF.py:73: FutureWarning: The frame.append method is deprecated and will be removed from pandas in a future version. Use pandas.concat instead.\n",
      "\u001b[2m\u001b[36m(TrainLightGCN pid=1005932)\u001b[0m   df = train if test is None else train.append(test)\n"
     ]
    },
    {
     "name": "stdout",
     "output_type": "stream",
     "text": [
      "\u001b[2m\u001b[36m(TrainLightGCN pid=1005932)\u001b[0m Already create adjacency matrix.\n",
      "\u001b[2m\u001b[36m(TrainLightGCN pid=1005932)\u001b[0m Using xavier initialization.\n",
      "\u001b[2m\u001b[36m(TrainLightGCN pid=1005932)\u001b[0m Already normalize adjacency matrix.\n"
     ]
    },
    {
     "name": "stderr",
     "output_type": "stream",
     "text": [
      "\u001b[2m\u001b[36m(TrainLightGCN pid=1005416)\u001b[0m Checkpoint successfully created at: Checkpoint(filesystem=local, path=/home/daviddavo/ray_results/TrainLightGCN_2023-11-10_20-19-58/TrainLightGCN_b8fb8b5d_32_trial_index=1,batch_size=7,conv_layers=3,embedding_dim=320,l2=0.0000,learning_rate=0.2834_2023-11-10_20-41-46/checkpoint_000000)\n",
      "\u001b[2m\u001b[36m(pid=1006106)\u001b[0m 2023-11-10 20:43:19.567701: E tensorflow/compiler/xla/stream_executor/cuda/cuda_dnn.cc:9342] Unable to register cuDNN factory: Attempting to register factory for plugin cuDNN when one has already been registered\n",
      "\u001b[2m\u001b[36m(pid=1006106)\u001b[0m 2023-11-10 20:43:19.567737: E tensorflow/compiler/xla/stream_executor/cuda/cuda_fft.cc:609] Unable to register cuFFT factory: Attempting to register factory for plugin cuFFT when one has already been registered\n",
      "\u001b[2m\u001b[36m(pid=1006106)\u001b[0m 2023-11-10 20:43:19.567749: E tensorflow/compiler/xla/stream_executor/cuda/cuda_blas.cc:1518] Unable to register cuBLAS factory: Attempting to register factory for plugin cuBLAS when one has already been registered\n",
      "\u001b[2m\u001b[36m(TrainLightGCN pid=1006106)\u001b[0m /home/daviddavo/upm-tfm-notebooks/.direnv/python-3.9/lib/python3.9/site-packages/recommenders/models/deeprec/DataModel/ImplicitCF.py:73: FutureWarning: The frame.append method is deprecated and will be removed from pandas in a future version. Use pandas.concat instead.\n",
      "\u001b[2m\u001b[36m(TrainLightGCN pid=1006106)\u001b[0m   df = train if test is None else train.append(test)\n"
     ]
    },
    {
     "name": "stdout",
     "output_type": "stream",
     "text": [
      "\u001b[2m\u001b[36m(TrainLightGCN pid=1006106)\u001b[0m Already normalize adjacency matrix.\n",
      "\u001b[2m\u001b[36m(TrainLightGCN pid=1006106)\u001b[0m Already create adjacency matrix.\n",
      "\u001b[2m\u001b[36m(TrainLightGCN pid=1006106)\u001b[0m Using xavier initialization.\n"
     ]
    },
    {
     "name": "stderr",
     "output_type": "stream",
     "text": [
      "\u001b[2m\u001b[36m(TrainLightGCN pid=1002615)\u001b[0m Checkpoint successfully created at: Checkpoint(filesystem=local, path=/home/daviddavo/ray_results/TrainLightGCN_2023-11-10_20-19-58/TrainLightGCN_5d242cbb_19_trial_index=8,batch_size=8,conv_layers=5,embedding_dim=25,l2=0.0005,learning_rate=0.0348_2023-11-10_20-32-55/checkpoint_000000)\n",
      "\u001b[2m\u001b[36m(pid=1006338)\u001b[0m 2023-11-10 20:44:19.526764: E tensorflow/compiler/xla/stream_executor/cuda/cuda_dnn.cc:9342] Unable to register cuDNN factory: Attempting to register factory for plugin cuDNN when one has already been registered\n",
      "\u001b[2m\u001b[36m(pid=1006338)\u001b[0m 2023-11-10 20:44:19.526808: E tensorflow/compiler/xla/stream_executor/cuda/cuda_fft.cc:609] Unable to register cuFFT factory: Attempting to register factory for plugin cuFFT when one has already been registered\n",
      "\u001b[2m\u001b[36m(pid=1006338)\u001b[0m 2023-11-10 20:44:19.526823: E tensorflow/compiler/xla/stream_executor/cuda/cuda_blas.cc:1518] Unable to register cuBLAS factory: Attempting to register factory for plugin cuBLAS when one has already been registered\n",
      "\u001b[2m\u001b[36m(TrainLightGCN pid=1006338)\u001b[0m /home/daviddavo/upm-tfm-notebooks/.direnv/python-3.9/lib/python3.9/site-packages/recommenders/models/deeprec/DataModel/ImplicitCF.py:73: FutureWarning: The frame.append method is deprecated and will be removed from pandas in a future version. Use pandas.concat instead.\n",
      "\u001b[2m\u001b[36m(TrainLightGCN pid=1006338)\u001b[0m   df = train if test is None else train.append(test)\n"
     ]
    },
    {
     "name": "stdout",
     "output_type": "stream",
     "text": [
      "\u001b[2m\u001b[36m(TrainLightGCN pid=1006338)\u001b[0m Already create adjacency matrix.\n",
      "\u001b[2m\u001b[36m(TrainLightGCN pid=1006338)\u001b[0m Already normalize adjacency matrix.\n",
      "\u001b[2m\u001b[36m(TrainLightGCN pid=1006338)\u001b[0m Using xavier initialization.\n"
     ]
    },
    {
     "name": "stderr",
     "output_type": "stream",
     "text": [
      "\u001b[2m\u001b[36m(TrainLightGCN pid=1004764)\u001b[0m Checkpoint successfully created at: Checkpoint(filesystem=local, path=/home/daviddavo/ray_results/TrainLightGCN_2023-11-10_20-19-58/TrainLightGCN_2105dbbc_29_trial_index=8,batch_size=9,conv_layers=5,embedding_dim=100,l2=0.0670,learning_rate=0.0035_2023-11-10_20-39-16/checkpoint_000000)\n",
      "\u001b[2m\u001b[36m(pid=1006541)\u001b[0m 2023-11-10 20:44:56.526762: E tensorflow/compiler/xla/stream_executor/cuda/cuda_dnn.cc:9342] Unable to register cuDNN factory: Attempting to register factory for plugin cuDNN when one has already been registered\n",
      "\u001b[2m\u001b[36m(pid=1006541)\u001b[0m 2023-11-10 20:44:56.526798: E tensorflow/compiler/xla/stream_executor/cuda/cuda_fft.cc:609] Unable to register cuFFT factory: Attempting to register factory for plugin cuFFT when one has already been registered\n",
      "\u001b[2m\u001b[36m(pid=1006541)\u001b[0m 2023-11-10 20:44:56.526812: E tensorflow/compiler/xla/stream_executor/cuda/cuda_blas.cc:1518] Unable to register cuBLAS factory: Attempting to register factory for plugin cuBLAS when one has already been registered\n",
      "\u001b[2m\u001b[36m(TrainLightGCN pid=1006541)\u001b[0m /home/daviddavo/upm-tfm-notebooks/.direnv/python-3.9/lib/python3.9/site-packages/recommenders/models/deeprec/DataModel/ImplicitCF.py:73: FutureWarning: The frame.append method is deprecated and will be removed from pandas in a future version. Use pandas.concat instead.\n",
      "\u001b[2m\u001b[36m(TrainLightGCN pid=1006541)\u001b[0m   df = train if test is None else train.append(test)\n"
     ]
    },
    {
     "name": "stdout",
     "output_type": "stream",
     "text": [
      "\u001b[2m\u001b[36m(TrainLightGCN pid=1006541)\u001b[0m Already create adjacency matrix.\n",
      "\u001b[2m\u001b[36m(TrainLightGCN pid=1006541)\u001b[0m Already normalize adjacency matrix.\n",
      "\u001b[2m\u001b[36m(TrainLightGCN pid=1006541)\u001b[0m Using xavier initialization.\n"
     ]
    },
    {
     "name": "stderr",
     "output_type": "stream",
     "text": [
      "\u001b[2m\u001b[36m(TrainLightGCN pid=1005533)\u001b[0m Checkpoint successfully created at: Checkpoint(filesystem=local, path=/home/daviddavo/ray_results/TrainLightGCN_2023-11-10_20-19-58/TrainLightGCN_0236ba2f_33_trial_index=2,batch_size=7,conv_layers=3,embedding_dim=320,l2=0.0000,learning_rate=0.2834_2023-11-10_20-42-08/checkpoint_000000)\n",
      "\u001b[2m\u001b[36m(pid=1006710)\u001b[0m 2023-11-10 20:45:13.489497: E tensorflow/compiler/xla/stream_executor/cuda/cuda_dnn.cc:9342] Unable to register cuDNN factory: Attempting to register factory for plugin cuDNN when one has already been registered\n",
      "\u001b[2m\u001b[36m(pid=1006710)\u001b[0m 2023-11-10 20:45:13.489534: E tensorflow/compiler/xla/stream_executor/cuda/cuda_fft.cc:609] Unable to register cuFFT factory: Attempting to register factory for plugin cuFFT when one has already been registered\n",
      "\u001b[2m\u001b[36m(pid=1006710)\u001b[0m 2023-11-10 20:45:13.489546: E tensorflow/compiler/xla/stream_executor/cuda/cuda_blas.cc:1518] Unable to register cuBLAS factory: Attempting to register factory for plugin cuBLAS when one has already been registered\n",
      "\u001b[2m\u001b[36m(TrainLightGCN pid=1006710)\u001b[0m /home/daviddavo/upm-tfm-notebooks/.direnv/python-3.9/lib/python3.9/site-packages/recommenders/models/deeprec/DataModel/ImplicitCF.py:73: FutureWarning: The frame.append method is deprecated and will be removed from pandas in a future version. Use pandas.concat instead.\n",
      "\u001b[2m\u001b[36m(TrainLightGCN pid=1006710)\u001b[0m   df = train if test is None else train.append(test)\n"
     ]
    },
    {
     "name": "stdout",
     "output_type": "stream",
     "text": [
      "\u001b[2m\u001b[36m(TrainLightGCN pid=1006710)\u001b[0m Already create adjacency matrix.\n",
      "\u001b[2m\u001b[36m(TrainLightGCN pid=1006710)\u001b[0m Already normalize adjacency matrix.\n",
      "\u001b[2m\u001b[36m(TrainLightGCN pid=1006710)\u001b[0m Using xavier initialization.\n"
     ]
    },
    {
     "name": "stderr",
     "output_type": "stream",
     "text": [
      "\u001b[2m\u001b[36m(TrainLightGCN pid=1005742)\u001b[0m Checkpoint successfully created at: Checkpoint(filesystem=local, path=/home/daviddavo/ray_results/TrainLightGCN_2023-11-10_20-19-58/TrainLightGCN_62943fd5_34_trial_index=3,batch_size=7,conv_layers=3,embedding_dim=320,l2=0.0000,learning_rate=0.2834_2023-11-10_20-42-11/checkpoint_000000)\n",
      "\u001b[2m\u001b[36m(pid=1007102)\u001b[0m 2023-11-10 20:47:51.596787: E tensorflow/compiler/xla/stream_executor/cuda/cuda_dnn.cc:9342] Unable to register cuDNN factory: Attempting to register factory for plugin cuDNN when one has already been registered\n",
      "\u001b[2m\u001b[36m(pid=1007102)\u001b[0m 2023-11-10 20:47:51.596821: E tensorflow/compiler/xla/stream_executor/cuda/cuda_fft.cc:609] Unable to register cuFFT factory: Attempting to register factory for plugin cuFFT when one has already been registered\n",
      "\u001b[2m\u001b[36m(pid=1007102)\u001b[0m 2023-11-10 20:47:51.596834: E tensorflow/compiler/xla/stream_executor/cuda/cuda_blas.cc:1518] Unable to register cuBLAS factory: Attempting to register factory for plugin cuBLAS when one has already been registered\n",
      "\u001b[2m\u001b[36m(TrainLightGCN pid=1007102)\u001b[0m /home/daviddavo/upm-tfm-notebooks/.direnv/python-3.9/lib/python3.9/site-packages/recommenders/models/deeprec/DataModel/ImplicitCF.py:73: FutureWarning: The frame.append method is deprecated and will be removed from pandas in a future version. Use pandas.concat instead.\n",
      "\u001b[2m\u001b[36m(TrainLightGCN pid=1007102)\u001b[0m   df = train if test is None else train.append(test)\n"
     ]
    },
    {
     "name": "stdout",
     "output_type": "stream",
     "text": [
      "\u001b[2m\u001b[36m(TrainLightGCN pid=1007102)\u001b[0m Already create adjacency matrix.\n",
      "\u001b[2m\u001b[36m(TrainLightGCN pid=1007102)\u001b[0m Already normalize adjacency matrix.\n",
      "\u001b[2m\u001b[36m(TrainLightGCN pid=1007102)\u001b[0m Using xavier initialization.\n"
     ]
    },
    {
     "name": "stderr",
     "output_type": "stream",
     "text": [
      "\u001b[2m\u001b[36m(TrainLightGCN pid=1005048)\u001b[0m Checkpoint successfully created at: Checkpoint(filesystem=local, path=/home/daviddavo/ray_results/TrainLightGCN_2023-11-10_20-19-58/TrainLightGCN_49056b2c_30_trial_index=9,batch_size=9,conv_layers=5,embedding_dim=100,l2=0.0670,learning_rate=0.0035_2023-11-10_20-39-49/checkpoint_000000)\n",
      "\u001b[2m\u001b[36m(pid=1007252)\u001b[0m 2023-11-10 20:47:57.495870: E tensorflow/compiler/xla/stream_executor/cuda/cuda_dnn.cc:9342] Unable to register cuDNN factory: Attempting to register factory for plugin cuDNN when one has already been registered\n",
      "\u001b[2m\u001b[36m(pid=1007252)\u001b[0m 2023-11-10 20:47:57.495908: E tensorflow/compiler/xla/stream_executor/cuda/cuda_fft.cc:609] Unable to register cuFFT factory: Attempting to register factory for plugin cuFFT when one has already been registered\n",
      "\u001b[2m\u001b[36m(pid=1007252)\u001b[0m 2023-11-10 20:47:57.495919: E tensorflow/compiler/xla/stream_executor/cuda/cuda_blas.cc:1518] Unable to register cuBLAS factory: Attempting to register factory for plugin cuBLAS when one has already been registered\n",
      "\u001b[2m\u001b[36m(TrainLightGCN pid=1007252)\u001b[0m /home/daviddavo/upm-tfm-notebooks/.direnv/python-3.9/lib/python3.9/site-packages/recommenders/models/deeprec/DataModel/ImplicitCF.py:73: FutureWarning: The frame.append method is deprecated and will be removed from pandas in a future version. Use pandas.concat instead.\n",
      "\u001b[2m\u001b[36m(TrainLightGCN pid=1007252)\u001b[0m   df = train if test is None else train.append(test)\n"
     ]
    },
    {
     "name": "stdout",
     "output_type": "stream",
     "text": [
      "\u001b[2m\u001b[36m(TrainLightGCN pid=1007252)\u001b[0m Already create adjacency matrix.\n",
      "\u001b[2m\u001b[36m(TrainLightGCN pid=1007252)\u001b[0m Already normalize adjacency matrix.\n",
      "\u001b[2m\u001b[36m(TrainLightGCN pid=1007252)\u001b[0m Using xavier initialization.\n"
     ]
    },
    {
     "name": "stderr",
     "output_type": "stream",
     "text": [
      "\u001b[2m\u001b[36m(TrainLightGCN pid=1002969)\u001b[0m Checkpoint successfully created at: Checkpoint(filesystem=local, path=/home/daviddavo/ray_results/TrainLightGCN_2023-11-10_20-19-58/TrainLightGCN_2215ef9c_20_trial_index=9,batch_size=8,conv_layers=5,embedding_dim=25,l2=0.0005,learning_rate=0.0348_2023-11-10_20-32-58/checkpoint_000000)\n",
      "\u001b[2m\u001b[36m(pid=1007448)\u001b[0m 2023-11-10 20:48:28.595172: E tensorflow/compiler/xla/stream_executor/cuda/cuda_dnn.cc:9342] Unable to register cuDNN factory: Attempting to register factory for plugin cuDNN when one has already been registered\n",
      "\u001b[2m\u001b[36m(pid=1007448)\u001b[0m 2023-11-10 20:48:28.595206: E tensorflow/compiler/xla/stream_executor/cuda/cuda_fft.cc:609] Unable to register cuFFT factory: Attempting to register factory for plugin cuFFT when one has already been registered\n",
      "\u001b[2m\u001b[36m(pid=1007448)\u001b[0m 2023-11-10 20:48:28.595219: E tensorflow/compiler/xla/stream_executor/cuda/cuda_blas.cc:1518] Unable to register cuBLAS factory: Attempting to register factory for plugin cuBLAS when one has already been registered\n",
      "\u001b[2m\u001b[36m(TrainLightGCN pid=1007448)\u001b[0m /home/daviddavo/upm-tfm-notebooks/.direnv/python-3.9/lib/python3.9/site-packages/recommenders/models/deeprec/DataModel/ImplicitCF.py:73: FutureWarning: The frame.append method is deprecated and will be removed from pandas in a future version. Use pandas.concat instead.\n",
      "\u001b[2m\u001b[36m(TrainLightGCN pid=1007448)\u001b[0m   df = train if test is None else train.append(test)\n"
     ]
    },
    {
     "name": "stdout",
     "output_type": "stream",
     "text": [
      "\u001b[2m\u001b[36m(TrainLightGCN pid=1007448)\u001b[0m Using xavier initialization.\n",
      "\u001b[2m\u001b[36m(TrainLightGCN pid=1007448)\u001b[0m Already create adjacency matrix.\n",
      "\u001b[2m\u001b[36m(TrainLightGCN pid=1007448)\u001b[0m Already normalize adjacency matrix.\n"
     ]
    },
    {
     "name": "stderr",
     "output_type": "stream",
     "text": [
      "\u001b[2m\u001b[36m(TrainLightGCN pid=1005932)\u001b[0m Checkpoint successfully created at: Checkpoint(filesystem=local, path=/home/daviddavo/ray_results/TrainLightGCN_2023-11-10_20-19-58/TrainLightGCN_104f81aa_35_trial_index=4,batch_size=7,conv_layers=3,embedding_dim=320,l2=0.0000,learning_rate=0.2834_2023-11-10_20-42-33/checkpoint_000000)\n",
      "\u001b[2m\u001b[36m(pid=1007730)\u001b[0m 2023-11-10 20:49:56.539504: E tensorflow/compiler/xla/stream_executor/cuda/cuda_dnn.cc:9342] Unable to register cuDNN factory: Attempting to register factory for plugin cuDNN when one has already been registered\n",
      "\u001b[2m\u001b[36m(pid=1007730)\u001b[0m 2023-11-10 20:49:56.539538: E tensorflow/compiler/xla/stream_executor/cuda/cuda_fft.cc:609] Unable to register cuFFT factory: Attempting to register factory for plugin cuFFT when one has already been registered\n",
      "\u001b[2m\u001b[36m(pid=1007730)\u001b[0m 2023-11-10 20:49:56.539551: E tensorflow/compiler/xla/stream_executor/cuda/cuda_blas.cc:1518] Unable to register cuBLAS factory: Attempting to register factory for plugin cuBLAS when one has already been registered\n",
      "\u001b[2m\u001b[36m(TrainLightGCN pid=1007730)\u001b[0m /home/daviddavo/upm-tfm-notebooks/.direnv/python-3.9/lib/python3.9/site-packages/recommenders/models/deeprec/DataModel/ImplicitCF.py:73: FutureWarning: The frame.append method is deprecated and will be removed from pandas in a future version. Use pandas.concat instead.\n",
      "\u001b[2m\u001b[36m(TrainLightGCN pid=1007730)\u001b[0m   df = train if test is None else train.append(test)\n"
     ]
    },
    {
     "name": "stdout",
     "output_type": "stream",
     "text": [
      "\u001b[2m\u001b[36m(TrainLightGCN pid=1007730)\u001b[0m Already create adjacency matrix.\n",
      "\u001b[2m\u001b[36m(TrainLightGCN pid=1007730)\u001b[0m Already normalize adjacency matrix.\n",
      "\u001b[2m\u001b[36m(TrainLightGCN pid=1007730)\u001b[0m Using xavier initialization.\n"
     ]
    },
    {
     "name": "stderr",
     "output_type": "stream",
     "text": [
      "\u001b[2m\u001b[36m(TrainLightGCN pid=1006106)\u001b[0m Checkpoint successfully created at: Checkpoint(filesystem=local, path=/home/daviddavo/ray_results/TrainLightGCN_2023-11-10_20-19-58/TrainLightGCN_03d47b0d_36_trial_index=5,batch_size=7,conv_layers=3,embedding_dim=320,l2=0.0000,learning_rate=0.2834_2023-11-10_20-43-03/checkpoint_000000)\n",
      "\u001b[2m\u001b[36m(pid=1008076)\u001b[0m 2023-11-10 20:52:08.537384: E tensorflow/compiler/xla/stream_executor/cuda/cuda_dnn.cc:9342] Unable to register cuDNN factory: Attempting to register factory for plugin cuDNN when one has already been registered\n",
      "\u001b[2m\u001b[36m(pid=1008076)\u001b[0m 2023-11-10 20:52:08.537420: E tensorflow/compiler/xla/stream_executor/cuda/cuda_fft.cc:609] Unable to register cuFFT factory: Attempting to register factory for plugin cuFFT when one has already been registered\n",
      "\u001b[2m\u001b[36m(pid=1008076)\u001b[0m 2023-11-10 20:52:08.537432: E tensorflow/compiler/xla/stream_executor/cuda/cuda_blas.cc:1518] Unable to register cuBLAS factory: Attempting to register factory for plugin cuBLAS when one has already been registered\n",
      "\u001b[2m\u001b[36m(TrainLightGCN pid=1008076)\u001b[0m /home/daviddavo/upm-tfm-notebooks/.direnv/python-3.9/lib/python3.9/site-packages/recommenders/models/deeprec/DataModel/ImplicitCF.py:73: FutureWarning: The frame.append method is deprecated and will be removed from pandas in a future version. Use pandas.concat instead.\n",
      "\u001b[2m\u001b[36m(TrainLightGCN pid=1008076)\u001b[0m   df = train if test is None else train.append(test)\n"
     ]
    },
    {
     "name": "stdout",
     "output_type": "stream",
     "text": [
      "\u001b[2m\u001b[36m(TrainLightGCN pid=1008076)\u001b[0m Already create adjacency matrix.\n",
      "\u001b[2m\u001b[36m(TrainLightGCN pid=1008076)\u001b[0m Already normalize adjacency matrix.\n",
      "\u001b[2m\u001b[36m(TrainLightGCN pid=1008076)\u001b[0m Using xavier initialization.\n"
     ]
    },
    {
     "name": "stderr",
     "output_type": "stream",
     "text": [
      "\u001b[2m\u001b[36m(TrainLightGCN pid=1007252)\u001b[0m Checkpoint successfully created at: Checkpoint(filesystem=local, path=/home/daviddavo/ray_results/TrainLightGCN_2023-11-10_20-19-58/TrainLightGCN_0108da48_41_trial_index=0,batch_size=4,conv_layers=4,embedding_dim=65,l2=0.0000,learning_rate=0.0003_2023-11-10_20-47-54/checkpoint_000000)\n",
      "\u001b[2m\u001b[36m(pid=1008529)\u001b[0m 2023-11-10 20:54:36.583909: E tensorflow/compiler/xla/stream_executor/cuda/cuda_dnn.cc:9342] Unable to register cuDNN factory: Attempting to register factory for plugin cuDNN when one has already been registered\n",
      "\u001b[2m\u001b[36m(pid=1008529)\u001b[0m 2023-11-10 20:54:36.583943: E tensorflow/compiler/xla/stream_executor/cuda/cuda_fft.cc:609] Unable to register cuFFT factory: Attempting to register factory for plugin cuFFT when one has already been registered\n",
      "\u001b[2m\u001b[36m(pid=1008529)\u001b[0m 2023-11-10 20:54:36.583957: E tensorflow/compiler/xla/stream_executor/cuda/cuda_blas.cc:1518] Unable to register cuBLAS factory: Attempting to register factory for plugin cuBLAS when one has already been registered\n",
      "\u001b[2m\u001b[36m(TrainLightGCN pid=1008529)\u001b[0m /home/daviddavo/upm-tfm-notebooks/.direnv/python-3.9/lib/python3.9/site-packages/recommenders/models/deeprec/DataModel/ImplicitCF.py:73: FutureWarning: The frame.append method is deprecated and will be removed from pandas in a future version. Use pandas.concat instead.\n",
      "\u001b[2m\u001b[36m(TrainLightGCN pid=1008529)\u001b[0m   df = train if test is None else train.append(test)\n"
     ]
    },
    {
     "name": "stdout",
     "output_type": "stream",
     "text": [
      "\u001b[2m\u001b[36m(TrainLightGCN pid=1008529)\u001b[0m Already create adjacency matrix.\n",
      "\u001b[2m\u001b[36m(TrainLightGCN pid=1008529)\u001b[0m Already normalize adjacency matrix.\n",
      "\u001b[2m\u001b[36m(TrainLightGCN pid=1008529)\u001b[0m Using xavier initialization.\n"
     ]
    },
    {
     "name": "stderr",
     "output_type": "stream",
     "text": [
      "\u001b[2m\u001b[36m(TrainLightGCN pid=1006338)\u001b[0m Checkpoint successfully created at: Checkpoint(filesystem=local, path=/home/daviddavo/ray_results/TrainLightGCN_2023-11-10_20-19-58/TrainLightGCN_3a03b484_37_trial_index=6,batch_size=7,conv_layers=3,embedding_dim=320,l2=0.0000,learning_rate=0.2834_2023-11-10_20-43-21/checkpoint_000000)\n",
      "\u001b[2m\u001b[36m(pid=1008762)\u001b[0m 2023-11-10 20:55:37.551922: E tensorflow/compiler/xla/stream_executor/cuda/cuda_dnn.cc:9342] Unable to register cuDNN factory: Attempting to register factory for plugin cuDNN when one has already been registered\n",
      "\u001b[2m\u001b[36m(pid=1008762)\u001b[0m 2023-11-10 20:55:37.551957: E tensorflow/compiler/xla/stream_executor/cuda/cuda_fft.cc:609] Unable to register cuFFT factory: Attempting to register factory for plugin cuFFT when one has already been registered\n",
      "\u001b[2m\u001b[36m(pid=1008762)\u001b[0m 2023-11-10 20:55:37.551969: E tensorflow/compiler/xla/stream_executor/cuda/cuda_blas.cc:1518] Unable to register cuBLAS factory: Attempting to register factory for plugin cuBLAS when one has already been registered\n",
      "\u001b[2m\u001b[36m(TrainLightGCN pid=1008762)\u001b[0m /home/daviddavo/upm-tfm-notebooks/.direnv/python-3.9/lib/python3.9/site-packages/recommenders/models/deeprec/DataModel/ImplicitCF.py:73: FutureWarning: The frame.append method is deprecated and will be removed from pandas in a future version. Use pandas.concat instead.\n",
      "\u001b[2m\u001b[36m(TrainLightGCN pid=1008762)\u001b[0m   df = train if test is None else train.append(test)\n"
     ]
    },
    {
     "name": "stdout",
     "output_type": "stream",
     "text": [
      "\u001b[2m\u001b[36m(TrainLightGCN pid=1008762)\u001b[0m Already create adjacency matrix.\n",
      "\u001b[2m\u001b[36m(TrainLightGCN pid=1008762)\u001b[0m Already normalize adjacency matrix.\n",
      "\u001b[2m\u001b[36m(TrainLightGCN pid=1008762)\u001b[0m Using xavier initialization.\n"
     ]
    },
    {
     "name": "stderr",
     "output_type": "stream",
     "text": [
      "\u001b[2m\u001b[36m(TrainLightGCN pid=1006541)\u001b[0m Checkpoint successfully created at: Checkpoint(filesystem=local, path=/home/daviddavo/ray_results/TrainLightGCN_2023-11-10_20-19-58/TrainLightGCN_ea8a257d_38_trial_index=7,batch_size=7,conv_layers=3,embedding_dim=320,l2=0.0000,learning_rate=0.2834_2023-11-10_20-44-21/checkpoint_000000)\n",
      "\u001b[2m\u001b[36m(pid=1009251)\u001b[0m 2023-11-10 20:59:28.828890: E tensorflow/compiler/xla/stream_executor/cuda/cuda_dnn.cc:9342] Unable to register cuDNN factory: Attempting to register factory for plugin cuDNN when one has already been registered\n",
      "\u001b[2m\u001b[36m(pid=1009251)\u001b[0m 2023-11-10 20:59:28.828927: E tensorflow/compiler/xla/stream_executor/cuda/cuda_fft.cc:609] Unable to register cuFFT factory: Attempting to register factory for plugin cuFFT when one has already been registered\n",
      "\u001b[2m\u001b[36m(pid=1009251)\u001b[0m 2023-11-10 20:59:28.828939: E tensorflow/compiler/xla/stream_executor/cuda/cuda_blas.cc:1518] Unable to register cuBLAS factory: Attempting to register factory for plugin cuBLAS when one has already been registered\n",
      "\u001b[2m\u001b[36m(TrainLightGCN pid=1009251)\u001b[0m /home/daviddavo/upm-tfm-notebooks/.direnv/python-3.9/lib/python3.9/site-packages/recommenders/models/deeprec/DataModel/ImplicitCF.py:73: FutureWarning: The frame.append method is deprecated and will be removed from pandas in a future version. Use pandas.concat instead.\n",
      "\u001b[2m\u001b[36m(TrainLightGCN pid=1009251)\u001b[0m   df = train if test is None else train.append(test)\n"
     ]
    },
    {
     "name": "stdout",
     "output_type": "stream",
     "text": [
      "\u001b[2m\u001b[36m(TrainLightGCN pid=1009251)\u001b[0m Already create adjacency matrix.\n",
      "\u001b[2m\u001b[36m(TrainLightGCN pid=1009251)\u001b[0m Already normalize adjacency matrix.\n",
      "\u001b[2m\u001b[36m(TrainLightGCN pid=1009251)\u001b[0m Using xavier initialization.\n"
     ]
    },
    {
     "name": "stderr",
     "output_type": "stream",
     "text": [
      "\u001b[2m\u001b[36m(TrainLightGCN pid=1007448)\u001b[0m Checkpoint successfully created at: Checkpoint(filesystem=local, path=/home/daviddavo/ray_results/TrainLightGCN_2023-11-10_20-19-58/TrainLightGCN_9d3e0998_42_trial_index=1,batch_size=4,conv_layers=4,embedding_dim=65,l2=0.0000,learning_rate=0.0003_2023-11-10_20-47-59/checkpoint_000000)\n",
      "\u001b[2m\u001b[36m(pid=1009464)\u001b[0m 2023-11-10 21:00:13.626509: E tensorflow/compiler/xla/stream_executor/cuda/cuda_dnn.cc:9342] Unable to register cuDNN factory: Attempting to register factory for plugin cuDNN when one has already been registered\n",
      "\u001b[2m\u001b[36m(pid=1009464)\u001b[0m 2023-11-10 21:00:13.626544: E tensorflow/compiler/xla/stream_executor/cuda/cuda_fft.cc:609] Unable to register cuFFT factory: Attempting to register factory for plugin cuFFT when one has already been registered\n",
      "\u001b[2m\u001b[36m(pid=1009464)\u001b[0m 2023-11-10 21:00:13.626556: E tensorflow/compiler/xla/stream_executor/cuda/cuda_blas.cc:1518] Unable to register cuBLAS factory: Attempting to register factory for plugin cuBLAS when one has already been registered\n",
      "\u001b[2m\u001b[36m(TrainLightGCN pid=1009464)\u001b[0m /home/daviddavo/upm-tfm-notebooks/.direnv/python-3.9/lib/python3.9/site-packages/recommenders/models/deeprec/DataModel/ImplicitCF.py:73: FutureWarning: The frame.append method is deprecated and will be removed from pandas in a future version. Use pandas.concat instead.\n",
      "\u001b[2m\u001b[36m(TrainLightGCN pid=1009464)\u001b[0m   df = train if test is None else train.append(test)\n"
     ]
    },
    {
     "name": "stdout",
     "output_type": "stream",
     "text": [
      "\u001b[2m\u001b[36m(TrainLightGCN pid=1009464)\u001b[0m Already create adjacency matrix.\n",
      "\u001b[2m\u001b[36m(TrainLightGCN pid=1009464)\u001b[0m Already normalize adjacency matrix.\n",
      "\u001b[2m\u001b[36m(TrainLightGCN pid=1009464)\u001b[0m Using xavier initialization.\n"
     ]
    },
    {
     "name": "stderr",
     "output_type": "stream",
     "text": [
      "\u001b[2m\u001b[36m(TrainLightGCN pid=1006710)\u001b[0m Checkpoint successfully created at: Checkpoint(filesystem=local, path=/home/daviddavo/ray_results/TrainLightGCN_2023-11-10_20-19-58/TrainLightGCN_5dec7058_39_trial_index=8,batch_size=7,conv_layers=3,embedding_dim=320,l2=0.0000,learning_rate=0.2834_2023-11-10_20-44-58/checkpoint_000000)\n",
      "\u001b[2m\u001b[36m(pid=1010095)\u001b[0m 2023-11-10 21:05:31.649595: E tensorflow/compiler/xla/stream_executor/cuda/cuda_dnn.cc:9342] Unable to register cuDNN factory: Attempting to register factory for plugin cuDNN when one has already been registered\n",
      "\u001b[2m\u001b[36m(pid=1010095)\u001b[0m 2023-11-10 21:05:31.649628: E tensorflow/compiler/xla/stream_executor/cuda/cuda_fft.cc:609] Unable to register cuFFT factory: Attempting to register factory for plugin cuFFT when one has already been registered\n",
      "\u001b[2m\u001b[36m(pid=1010095)\u001b[0m 2023-11-10 21:05:31.649641: E tensorflow/compiler/xla/stream_executor/cuda/cuda_blas.cc:1518] Unable to register cuBLAS factory: Attempting to register factory for plugin cuBLAS when one has already been registered\n",
      "\u001b[2m\u001b[36m(TrainLightGCN pid=1010095)\u001b[0m /home/daviddavo/upm-tfm-notebooks/.direnv/python-3.9/lib/python3.9/site-packages/recommenders/models/deeprec/DataModel/ImplicitCF.py:73: FutureWarning: The frame.append method is deprecated and will be removed from pandas in a future version. Use pandas.concat instead.\n",
      "\u001b[2m\u001b[36m(TrainLightGCN pid=1010095)\u001b[0m   df = train if test is None else train.append(test)\n"
     ]
    },
    {
     "name": "stdout",
     "output_type": "stream",
     "text": [
      "\u001b[2m\u001b[36m(TrainLightGCN pid=1010095)\u001b[0m Already create adjacency matrix.\n",
      "\u001b[2m\u001b[36m(TrainLightGCN pid=1010095)\u001b[0m Already normalize adjacency matrix.\n",
      "\u001b[2m\u001b[36m(TrainLightGCN pid=1010095)\u001b[0m Using xavier initialization.\n"
     ]
    },
    {
     "name": "stderr",
     "output_type": "stream",
     "text": [
      "\u001b[2m\u001b[36m(TrainLightGCN pid=1007102)\u001b[0m Checkpoint successfully created at: Checkpoint(filesystem=local, path=/home/daviddavo/ray_results/TrainLightGCN_2023-11-10_20-19-58/TrainLightGCN_209f18fc_40_trial_index=9,batch_size=7,conv_layers=3,embedding_dim=320,l2=0.0000,learning_rate=0.2834_2023-11-10_20-45-16/checkpoint_000000)\n",
      "\u001b[2m\u001b[36m(pid=1010842)\u001b[0m 2023-11-10 21:12:00.898128: E tensorflow/compiler/xla/stream_executor/cuda/cuda_dnn.cc:9342] Unable to register cuDNN factory: Attempting to register factory for plugin cuDNN when one has already been registered\n",
      "\u001b[2m\u001b[36m(pid=1010842)\u001b[0m 2023-11-10 21:12:00.898164: E tensorflow/compiler/xla/stream_executor/cuda/cuda_fft.cc:609] Unable to register cuFFT factory: Attempting to register factory for plugin cuFFT when one has already been registered\n",
      "\u001b[2m\u001b[36m(pid=1010842)\u001b[0m 2023-11-10 21:12:00.898175: E tensorflow/compiler/xla/stream_executor/cuda/cuda_blas.cc:1518] Unable to register cuBLAS factory: Attempting to register factory for plugin cuBLAS when one has already been registered\n",
      "\u001b[2m\u001b[36m(TrainLightGCN pid=1010842)\u001b[0m /home/daviddavo/upm-tfm-notebooks/.direnv/python-3.9/lib/python3.9/site-packages/recommenders/models/deeprec/DataModel/ImplicitCF.py:73: FutureWarning: The frame.append method is deprecated and will be removed from pandas in a future version. Use pandas.concat instead.\n",
      "\u001b[2m\u001b[36m(TrainLightGCN pid=1010842)\u001b[0m   df = train if test is None else train.append(test)\n"
     ]
    },
    {
     "name": "stdout",
     "output_type": "stream",
     "text": [
      "\u001b[2m\u001b[36m(TrainLightGCN pid=1010842)\u001b[0m Already create adjacency matrix.\n",
      "\u001b[2m\u001b[36m(TrainLightGCN pid=1010842)\u001b[0m Already normalize adjacency matrix.\n",
      "\u001b[2m\u001b[36m(TrainLightGCN pid=1010842)\u001b[0m Using xavier initialization.\n"
     ]
    },
    {
     "name": "stderr",
     "output_type": "stream",
     "text": [
      "\u001b[2m\u001b[36m(TrainLightGCN pid=1007730)\u001b[0m Checkpoint successfully created at: Checkpoint(filesystem=local, path=/home/daviddavo/ray_results/TrainLightGCN_2023-11-10_20-19-58/TrainLightGCN_4477e4ec_43_trial_index=2,batch_size=4,conv_layers=4,embedding_dim=65,l2=0.0000,learning_rate=0.0003_2023-11-10_20-48-30/checkpoint_000000)\n",
      "\u001b[2m\u001b[36m(pid=1011251)\u001b[0m 2023-11-10 21:14:50.690404: E tensorflow/compiler/xla/stream_executor/cuda/cuda_dnn.cc:9342] Unable to register cuDNN factory: Attempting to register factory for plugin cuDNN when one has already been registered\n",
      "\u001b[2m\u001b[36m(pid=1011251)\u001b[0m 2023-11-10 21:14:50.690438: E tensorflow/compiler/xla/stream_executor/cuda/cuda_fft.cc:609] Unable to register cuFFT factory: Attempting to register factory for plugin cuFFT when one has already been registered\n",
      "\u001b[2m\u001b[36m(pid=1011251)\u001b[0m 2023-11-10 21:14:50.690451: E tensorflow/compiler/xla/stream_executor/cuda/cuda_blas.cc:1518] Unable to register cuBLAS factory: Attempting to register factory for plugin cuBLAS when one has already been registered\n",
      "\u001b[2m\u001b[36m(TrainLightGCN pid=1011251)\u001b[0m /home/daviddavo/upm-tfm-notebooks/.direnv/python-3.9/lib/python3.9/site-packages/recommenders/models/deeprec/DataModel/ImplicitCF.py:73: FutureWarning: The frame.append method is deprecated and will be removed from pandas in a future version. Use pandas.concat instead.\n",
      "\u001b[2m\u001b[36m(TrainLightGCN pid=1011251)\u001b[0m   df = train if test is None else train.append(test)\n"
     ]
    },
    {
     "name": "stdout",
     "output_type": "stream",
     "text": [
      "\u001b[2m\u001b[36m(TrainLightGCN pid=1011251)\u001b[0m Already create adjacency matrix.\n",
      "\u001b[2m\u001b[36m(TrainLightGCN pid=1011251)\u001b[0m Already normalize adjacency matrix.\n",
      "\u001b[2m\u001b[36m(TrainLightGCN pid=1011251)\u001b[0m Using xavier initialization.\n"
     ]
    },
    {
     "name": "stderr",
     "output_type": "stream",
     "text": [
      "\u001b[2m\u001b[36m(TrainLightGCN pid=1011251)\u001b[0m Checkpoint successfully created at: Checkpoint(filesystem=local, path=/home/daviddavo/ray_results/TrainLightGCN_2023-11-10_20-19-58/TrainLightGCN_e91596fe_51_trial_index=0,batch_size=8,conv_layers=5,embedding_dim=20,l2=0.0008,learning_rate=0.0254_2023-11-10_21-12-03/checkpoint_000000)\n",
      "\u001b[2m\u001b[36m(pid=1011438)\u001b[0m 2023-11-10 21:15:17.725645: E tensorflow/compiler/xla/stream_executor/cuda/cuda_dnn.cc:9342] Unable to register cuDNN factory: Attempting to register factory for plugin cuDNN when one has already been registered\n",
      "\u001b[2m\u001b[36m(pid=1011438)\u001b[0m 2023-11-10 21:15:17.725675: E tensorflow/compiler/xla/stream_executor/cuda/cuda_fft.cc:609] Unable to register cuFFT factory: Attempting to register factory for plugin cuFFT when one has already been registered\n",
      "\u001b[2m\u001b[36m(pid=1011438)\u001b[0m 2023-11-10 21:15:17.725688: E tensorflow/compiler/xla/stream_executor/cuda/cuda_blas.cc:1518] Unable to register cuBLAS factory: Attempting to register factory for plugin cuBLAS when one has already been registered\n",
      "\u001b[2m\u001b[36m(TrainLightGCN pid=1011438)\u001b[0m /home/daviddavo/upm-tfm-notebooks/.direnv/python-3.9/lib/python3.9/site-packages/recommenders/models/deeprec/DataModel/ImplicitCF.py:73: FutureWarning: The frame.append method is deprecated and will be removed from pandas in a future version. Use pandas.concat instead.\n",
      "\u001b[2m\u001b[36m(TrainLightGCN pid=1011438)\u001b[0m   df = train if test is None else train.append(test)\n"
     ]
    },
    {
     "name": "stdout",
     "output_type": "stream",
     "text": [
      "\u001b[2m\u001b[36m(TrainLightGCN pid=1011438)\u001b[0m Already create adjacency matrix.\n",
      "\u001b[2m\u001b[36m(TrainLightGCN pid=1011438)\u001b[0m Already normalize adjacency matrix.\n",
      "\u001b[2m\u001b[36m(TrainLightGCN pid=1011438)\u001b[0m Using xavier initialization.\n"
     ]
    },
    {
     "name": "stderr",
     "output_type": "stream",
     "text": [
      "\u001b[2m\u001b[36m(TrainLightGCN pid=1011438)\u001b[0m Checkpoint successfully created at: Checkpoint(filesystem=local, path=/home/daviddavo/ray_results/TrainLightGCN_2023-11-10_20-19-58/TrainLightGCN_00ea17b7_52_trial_index=1,batch_size=8,conv_layers=5,embedding_dim=20,l2=0.0008,learning_rate=0.0254_2023-11-10_21-14-52/checkpoint_000000)\n",
      "\u001b[2m\u001b[36m(pid=1011650)\u001b[0m 2023-11-10 21:16:01.734843: E tensorflow/compiler/xla/stream_executor/cuda/cuda_dnn.cc:9342] Unable to register cuDNN factory: Attempting to register factory for plugin cuDNN when one has already been registered\n",
      "\u001b[2m\u001b[36m(pid=1011650)\u001b[0m 2023-11-10 21:16:01.734879: E tensorflow/compiler/xla/stream_executor/cuda/cuda_fft.cc:609] Unable to register cuFFT factory: Attempting to register factory for plugin cuFFT when one has already been registered\n",
      "\u001b[2m\u001b[36m(pid=1011650)\u001b[0m 2023-11-10 21:16:01.734898: E tensorflow/compiler/xla/stream_executor/cuda/cuda_blas.cc:1518] Unable to register cuBLAS factory: Attempting to register factory for plugin cuBLAS when one has already been registered\n",
      "\u001b[2m\u001b[36m(TrainLightGCN pid=1011650)\u001b[0m /home/daviddavo/upm-tfm-notebooks/.direnv/python-3.9/lib/python3.9/site-packages/recommenders/models/deeprec/DataModel/ImplicitCF.py:73: FutureWarning: The frame.append method is deprecated and will be removed from pandas in a future version. Use pandas.concat instead.\n",
      "\u001b[2m\u001b[36m(TrainLightGCN pid=1011650)\u001b[0m   df = train if test is None else train.append(test)\n"
     ]
    },
    {
     "name": "stdout",
     "output_type": "stream",
     "text": [
      "\u001b[2m\u001b[36m(TrainLightGCN pid=1011650)\u001b[0m Already create adjacency matrix.\n",
      "\u001b[2m\u001b[36m(TrainLightGCN pid=1011650)\u001b[0m Already normalize adjacency matrix.\n",
      "\u001b[2m\u001b[36m(TrainLightGCN pid=1011650)\u001b[0m Using xavier initialization.\n"
     ]
    },
    {
     "name": "stderr",
     "output_type": "stream",
     "text": [
      "\u001b[2m\u001b[36m(TrainLightGCN pid=1011650)\u001b[0m Checkpoint successfully created at: Checkpoint(filesystem=local, path=/home/daviddavo/ray_results/TrainLightGCN_2023-11-10_20-19-58/TrainLightGCN_0b6ab333_53_trial_index=2,batch_size=8,conv_layers=5,embedding_dim=20,l2=0.0008,learning_rate=0.0254_2023-11-10_21-15-19/checkpoint_000000)\n",
      "\u001b[2m\u001b[36m(pid=1011946)\u001b[0m 2023-11-10 21:17:39.743210: E tensorflow/compiler/xla/stream_executor/cuda/cuda_dnn.cc:9342] Unable to register cuDNN factory: Attempting to register factory for plugin cuDNN when one has already been registered\n",
      "\u001b[2m\u001b[36m(pid=1011946)\u001b[0m 2023-11-10 21:17:39.743244: E tensorflow/compiler/xla/stream_executor/cuda/cuda_fft.cc:609] Unable to register cuFFT factory: Attempting to register factory for plugin cuFFT when one has already been registered\n",
      "\u001b[2m\u001b[36m(pid=1011946)\u001b[0m 2023-11-10 21:17:39.743256: E tensorflow/compiler/xla/stream_executor/cuda/cuda_blas.cc:1518] Unable to register cuBLAS factory: Attempting to register factory for plugin cuBLAS when one has already been registered\n",
      "\u001b[2m\u001b[36m(TrainLightGCN pid=1011946)\u001b[0m /home/daviddavo/upm-tfm-notebooks/.direnv/python-3.9/lib/python3.9/site-packages/recommenders/models/deeprec/DataModel/ImplicitCF.py:73: FutureWarning: The frame.append method is deprecated and will be removed from pandas in a future version. Use pandas.concat instead.\n",
      "\u001b[2m\u001b[36m(TrainLightGCN pid=1011946)\u001b[0m   df = train if test is None else train.append(test)\n"
     ]
    },
    {
     "name": "stdout",
     "output_type": "stream",
     "text": [
      "\u001b[2m\u001b[36m(TrainLightGCN pid=1011946)\u001b[0m Already create adjacency matrix.\n",
      "\u001b[2m\u001b[36m(TrainLightGCN pid=1011946)\u001b[0m Already normalize adjacency matrix.\n",
      "\u001b[2m\u001b[36m(TrainLightGCN pid=1011946)\u001b[0m Using xavier initialization.\n"
     ]
    },
    {
     "name": "stderr",
     "output_type": "stream",
     "text": [
      "\u001b[2m\u001b[36m(TrainLightGCN pid=1011946)\u001b[0m Checkpoint successfully created at: Checkpoint(filesystem=local, path=/home/daviddavo/ray_results/TrainLightGCN_2023-11-10_20-19-58/TrainLightGCN_3b474fb3_54_trial_index=3,batch_size=8,conv_layers=5,embedding_dim=20,l2=0.0008,learning_rate=0.0254_2023-11-10_21-16-03/checkpoint_000000)\n",
      "\u001b[2m\u001b[36m(pid=1012311)\u001b[0m 2023-11-10 21:20:02.706493: E tensorflow/compiler/xla/stream_executor/cuda/cuda_dnn.cc:9342] Unable to register cuDNN factory: Attempting to register factory for plugin cuDNN when one has already been registered\n",
      "\u001b[2m\u001b[36m(pid=1012311)\u001b[0m 2023-11-10 21:20:02.706530: E tensorflow/compiler/xla/stream_executor/cuda/cuda_fft.cc:609] Unable to register cuFFT factory: Attempting to register factory for plugin cuFFT when one has already been registered\n",
      "\u001b[2m\u001b[36m(pid=1012311)\u001b[0m 2023-11-10 21:20:02.706541: E tensorflow/compiler/xla/stream_executor/cuda/cuda_blas.cc:1518] Unable to register cuBLAS factory: Attempting to register factory for plugin cuBLAS when one has already been registered\n"
     ]
    },
    {
     "name": "stdout",
     "output_type": "stream",
     "text": [
      "\u001b[2m\u001b[36m(TrainLightGCN pid=1012311)\u001b[0m Already create adjacency matrix.\n"
     ]
    },
    {
     "name": "stderr",
     "output_type": "stream",
     "text": [
      "\u001b[2m\u001b[36m(TrainLightGCN pid=1012311)\u001b[0m /home/daviddavo/upm-tfm-notebooks/.direnv/python-3.9/lib/python3.9/site-packages/recommenders/models/deeprec/DataModel/ImplicitCF.py:73: FutureWarning: The frame.append method is deprecated and will be removed from pandas in a future version. Use pandas.concat instead.\n",
      "\u001b[2m\u001b[36m(TrainLightGCN pid=1012311)\u001b[0m   df = train if test is None else train.append(test)\n"
     ]
    },
    {
     "name": "stdout",
     "output_type": "stream",
     "text": [
      "\u001b[2m\u001b[36m(TrainLightGCN pid=1012311)\u001b[0m Already normalize adjacency matrix.\n",
      "\u001b[2m\u001b[36m(TrainLightGCN pid=1012311)\u001b[0m Using xavier initialization.\n"
     ]
    },
    {
     "name": "stderr",
     "output_type": "stream",
     "text": [
      "\u001b[2m\u001b[36m(TrainLightGCN pid=1012311)\u001b[0m Checkpoint successfully created at: Checkpoint(filesystem=local, path=/home/daviddavo/ray_results/TrainLightGCN_2023-11-10_20-19-58/TrainLightGCN_a5fc1b4c_55_trial_index=4,batch_size=8,conv_layers=5,embedding_dim=20,l2=0.0008,learning_rate=0.0254_2023-11-10_21-17-41/checkpoint_000000)\n",
      "\u001b[2m\u001b[36m(pid=1012733)\u001b[0m 2023-11-10 21:23:01.940352: E tensorflow/compiler/xla/stream_executor/cuda/cuda_dnn.cc:9342] Unable to register cuDNN factory: Attempting to register factory for plugin cuDNN when one has already been registered\n",
      "\u001b[2m\u001b[36m(pid=1012733)\u001b[0m 2023-11-10 21:23:01.940393: E tensorflow/compiler/xla/stream_executor/cuda/cuda_fft.cc:609] Unable to register cuFFT factory: Attempting to register factory for plugin cuFFT when one has already been registered\n",
      "\u001b[2m\u001b[36m(pid=1012733)\u001b[0m 2023-11-10 21:23:01.940411: E tensorflow/compiler/xla/stream_executor/cuda/cuda_blas.cc:1518] Unable to register cuBLAS factory: Attempting to register factory for plugin cuBLAS when one has already been registered\n",
      "\u001b[2m\u001b[36m(TrainLightGCN pid=1012733)\u001b[0m /home/daviddavo/upm-tfm-notebooks/.direnv/python-3.9/lib/python3.9/site-packages/recommenders/models/deeprec/DataModel/ImplicitCF.py:73: FutureWarning: The frame.append method is deprecated and will be removed from pandas in a future version. Use pandas.concat instead.\n",
      "\u001b[2m\u001b[36m(TrainLightGCN pid=1012733)\u001b[0m   df = train if test is None else train.append(test)\n"
     ]
    },
    {
     "name": "stdout",
     "output_type": "stream",
     "text": [
      "\u001b[2m\u001b[36m(TrainLightGCN pid=1012733)\u001b[0m Already create adjacency matrix.\n",
      "\u001b[2m\u001b[36m(TrainLightGCN pid=1012733)\u001b[0m Already normalize adjacency matrix.\n",
      "\u001b[2m\u001b[36m(TrainLightGCN pid=1012733)\u001b[0m Using xavier initialization.\n"
     ]
    },
    {
     "name": "stderr",
     "output_type": "stream",
     "text": [
      "\u001b[2m\u001b[36m(TrainLightGCN pid=1012733)\u001b[0m Checkpoint successfully created at: Checkpoint(filesystem=local, path=/home/daviddavo/ray_results/TrainLightGCN_2023-11-10_20-19-58/TrainLightGCN_5b75065d_56_trial_index=5,batch_size=8,conv_layers=5,embedding_dim=20,l2=0.0008,learning_rate=0.0254_2023-11-10_21-20-05/checkpoint_000000)\n",
      "\u001b[2m\u001b[36m(pid=1013257)\u001b[0m 2023-11-10 21:26:41.801078: E tensorflow/compiler/xla/stream_executor/cuda/cuda_dnn.cc:9342] Unable to register cuDNN factory: Attempting to register factory for plugin cuDNN when one has already been registered\n",
      "\u001b[2m\u001b[36m(pid=1013257)\u001b[0m 2023-11-10 21:26:41.801114: E tensorflow/compiler/xla/stream_executor/cuda/cuda_fft.cc:609] Unable to register cuFFT factory: Attempting to register factory for plugin cuFFT when one has already been registered\n",
      "\u001b[2m\u001b[36m(pid=1013257)\u001b[0m 2023-11-10 21:26:41.801128: E tensorflow/compiler/xla/stream_executor/cuda/cuda_blas.cc:1518] Unable to register cuBLAS factory: Attempting to register factory for plugin cuBLAS when one has already been registered\n",
      "\u001b[2m\u001b[36m(TrainLightGCN pid=1013257)\u001b[0m /home/daviddavo/upm-tfm-notebooks/.direnv/python-3.9/lib/python3.9/site-packages/recommenders/models/deeprec/DataModel/ImplicitCF.py:73: FutureWarning: The frame.append method is deprecated and will be removed from pandas in a future version. Use pandas.concat instead.\n",
      "\u001b[2m\u001b[36m(TrainLightGCN pid=1013257)\u001b[0m   df = train if test is None else train.append(test)\n"
     ]
    },
    {
     "name": "stdout",
     "output_type": "stream",
     "text": [
      "\u001b[2m\u001b[36m(TrainLightGCN pid=1013257)\u001b[0m Already create adjacency matrix.\n",
      "\u001b[2m\u001b[36m(TrainLightGCN pid=1013257)\u001b[0m Already normalize adjacency matrix.\n",
      "\u001b[2m\u001b[36m(TrainLightGCN pid=1013257)\u001b[0m Using xavier initialization.\n"
     ]
    },
    {
     "name": "stderr",
     "output_type": "stream",
     "text": [
      "\u001b[2m\u001b[36m(TrainLightGCN pid=1008076)\u001b[0m Checkpoint successfully created at: Checkpoint(filesystem=local, path=/home/daviddavo/ray_results/TrainLightGCN_2023-11-10_20-19-58/TrainLightGCN_66b33028_44_trial_index=3,batch_size=4,conv_layers=4,embedding_dim=65,l2=0.0000,learning_rate=0.0003_2023-11-10_20-49-58/checkpoint_000000)\n",
      "\u001b[2m\u001b[36m(pid=1013426)\u001b[0m 2023-11-10 21:26:59.779023: E tensorflow/compiler/xla/stream_executor/cuda/cuda_dnn.cc:9342] Unable to register cuDNN factory: Attempting to register factory for plugin cuDNN when one has already been registered\n",
      "\u001b[2m\u001b[36m(pid=1013426)\u001b[0m 2023-11-10 21:26:59.779061: E tensorflow/compiler/xla/stream_executor/cuda/cuda_fft.cc:609] Unable to register cuFFT factory: Attempting to register factory for plugin cuFFT when one has already been registered\n",
      "\u001b[2m\u001b[36m(pid=1013426)\u001b[0m 2023-11-10 21:26:59.779072: E tensorflow/compiler/xla/stream_executor/cuda/cuda_blas.cc:1518] Unable to register cuBLAS factory: Attempting to register factory for plugin cuBLAS when one has already been registered\n",
      "\u001b[2m\u001b[36m(TrainLightGCN pid=1013426)\u001b[0m /home/daviddavo/upm-tfm-notebooks/.direnv/python-3.9/lib/python3.9/site-packages/recommenders/models/deeprec/DataModel/ImplicitCF.py:73: FutureWarning: The frame.append method is deprecated and will be removed from pandas in a future version. Use pandas.concat instead.\n",
      "\u001b[2m\u001b[36m(TrainLightGCN pid=1013426)\u001b[0m   df = train if test is None else train.append(test)\n"
     ]
    },
    {
     "name": "stdout",
     "output_type": "stream",
     "text": [
      "\u001b[2m\u001b[36m(TrainLightGCN pid=1013426)\u001b[0m Already normalize adjacency matrix.\n",
      "\u001b[2m\u001b[36m(TrainLightGCN pid=1013426)\u001b[0m Already create adjacency matrix.\n",
      "\u001b[2m\u001b[36m(TrainLightGCN pid=1013426)\u001b[0m Using xavier initialization.\n"
     ]
    },
    {
     "name": "stderr",
     "output_type": "stream",
     "text": [
      "\u001b[2m\u001b[36m(TrainLightGCN pid=1013257)\u001b[0m Checkpoint successfully created at: Checkpoint(filesystem=local, path=/home/daviddavo/ray_results/TrainLightGCN_2023-11-10_20-19-58/TrainLightGCN_ffdc4fd9_57_trial_index=6,batch_size=8,conv_layers=5,embedding_dim=20,l2=0.0008,learning_rate=0.0254_2023-11-10_21-23-04/checkpoint_000000)\n",
      "\u001b[2m\u001b[36m(pid=1013956)\u001b[0m 2023-11-10 21:31:08.984880: E tensorflow/compiler/xla/stream_executor/cuda/cuda_dnn.cc:9342] Unable to register cuDNN factory: Attempting to register factory for plugin cuDNN when one has already been registered\n",
      "\u001b[2m\u001b[36m(pid=1013956)\u001b[0m 2023-11-10 21:31:08.984918: E tensorflow/compiler/xla/stream_executor/cuda/cuda_fft.cc:609] Unable to register cuFFT factory: Attempting to register factory for plugin cuFFT when one has already been registered\n",
      "\u001b[2m\u001b[36m(pid=1013956)\u001b[0m 2023-11-10 21:31:08.984929: E tensorflow/compiler/xla/stream_executor/cuda/cuda_blas.cc:1518] Unable to register cuBLAS factory: Attempting to register factory for plugin cuBLAS when one has already been registered\n",
      "\u001b[2m\u001b[36m(TrainLightGCN pid=1013956)\u001b[0m /home/daviddavo/upm-tfm-notebooks/.direnv/python-3.9/lib/python3.9/site-packages/recommenders/models/deeprec/DataModel/ImplicitCF.py:73: FutureWarning: The frame.append method is deprecated and will be removed from pandas in a future version. Use pandas.concat instead.\n",
      "\u001b[2m\u001b[36m(TrainLightGCN pid=1013956)\u001b[0m   df = train if test is None else train.append(test)\n"
     ]
    },
    {
     "name": "stdout",
     "output_type": "stream",
     "text": [
      "\u001b[2m\u001b[36m(TrainLightGCN pid=1013956)\u001b[0m Already create adjacency matrix.\n",
      "\u001b[2m\u001b[36m(TrainLightGCN pid=1013956)\u001b[0m Already normalize adjacency matrix.\n",
      "\u001b[2m\u001b[36m(TrainLightGCN pid=1013956)\u001b[0m Using xavier initialization.\n"
     ]
    },
    {
     "name": "stderr",
     "output_type": "stream",
     "text": [
      "\u001b[2m\u001b[36m(TrainLightGCN pid=1013426)\u001b[0m Checkpoint successfully created at: Checkpoint(filesystem=local, path=/home/daviddavo/ray_results/TrainLightGCN_2023-11-10_20-19-58/TrainLightGCN_8269f64d_58_trial_index=7,batch_size=8,conv_layers=5,embedding_dim=20,l2=0.0008,learning_rate=0.0254_2023-11-10_21-26-44/checkpoint_000000)\n",
      "\u001b[2m\u001b[36m(pid=1014247)\u001b[0m 2023-11-10 21:32:45.148717: E tensorflow/compiler/xla/stream_executor/cuda/cuda_dnn.cc:9342] Unable to register cuDNN factory: Attempting to register factory for plugin cuDNN when one has already been registered\n",
      "\u001b[2m\u001b[36m(pid=1014247)\u001b[0m 2023-11-10 21:32:45.148763: E tensorflow/compiler/xla/stream_executor/cuda/cuda_fft.cc:609] Unable to register cuFFT factory: Attempting to register factory for plugin cuFFT when one has already been registered\n",
      "\u001b[2m\u001b[36m(pid=1014247)\u001b[0m 2023-11-10 21:32:45.148784: E tensorflow/compiler/xla/stream_executor/cuda/cuda_blas.cc:1518] Unable to register cuBLAS factory: Attempting to register factory for plugin cuBLAS when one has already been registered\n",
      "\u001b[2m\u001b[36m(TrainLightGCN pid=1014247)\u001b[0m /home/daviddavo/upm-tfm-notebooks/.direnv/python-3.9/lib/python3.9/site-packages/recommenders/models/deeprec/DataModel/ImplicitCF.py:73: FutureWarning: The frame.append method is deprecated and will be removed from pandas in a future version. Use pandas.concat instead.\n",
      "\u001b[2m\u001b[36m(TrainLightGCN pid=1014247)\u001b[0m   df = train if test is None else train.append(test)\n"
     ]
    },
    {
     "name": "stdout",
     "output_type": "stream",
     "text": [
      "\u001b[2m\u001b[36m(TrainLightGCN pid=1014247)\u001b[0m Already create adjacency matrix.\n",
      "\u001b[2m\u001b[36m(TrainLightGCN pid=1014247)\u001b[0m Already normalize adjacency matrix.\n",
      "\u001b[2m\u001b[36m(TrainLightGCN pid=1014247)\u001b[0m Using xavier initialization.\n"
     ]
    },
    {
     "name": "stderr",
     "output_type": "stream",
     "text": [
      "\u001b[2m\u001b[36m(TrainLightGCN pid=1008529)\u001b[0m Checkpoint successfully created at: Checkpoint(filesystem=local, path=/home/daviddavo/ray_results/TrainLightGCN_2023-11-10_20-19-58/TrainLightGCN_14622666_45_trial_index=4,batch_size=4,conv_layers=4,embedding_dim=65,l2=0.0000,learning_rate=0.0003_2023-11-10_20-52-10/checkpoint_000000)\n",
      "\u001b[2m\u001b[36m(pid=1014658)\u001b[0m 2023-11-10 21:35:38.842991: E tensorflow/compiler/xla/stream_executor/cuda/cuda_dnn.cc:9342] Unable to register cuDNN factory: Attempting to register factory for plugin cuDNN when one has already been registered\n",
      "\u001b[2m\u001b[36m(pid=1014658)\u001b[0m 2023-11-10 21:35:38.843025: E tensorflow/compiler/xla/stream_executor/cuda/cuda_fft.cc:609] Unable to register cuFFT factory: Attempting to register factory for plugin cuFFT when one has already been registered\n",
      "\u001b[2m\u001b[36m(pid=1014658)\u001b[0m 2023-11-10 21:35:38.843038: E tensorflow/compiler/xla/stream_executor/cuda/cuda_blas.cc:1518] Unable to register cuBLAS factory: Attempting to register factory for plugin cuBLAS when one has already been registered\n",
      "\u001b[2m\u001b[36m(TrainLightGCN pid=1014658)\u001b[0m /home/daviddavo/upm-tfm-notebooks/.direnv/python-3.9/lib/python3.9/site-packages/recommenders/models/deeprec/DataModel/ImplicitCF.py:73: FutureWarning: The frame.append method is deprecated and will be removed from pandas in a future version. Use pandas.concat instead.\n",
      "\u001b[2m\u001b[36m(TrainLightGCN pid=1014658)\u001b[0m   df = train if test is None else train.append(test)\n"
     ]
    },
    {
     "name": "stdout",
     "output_type": "stream",
     "text": [
      "\u001b[2m\u001b[36m(TrainLightGCN pid=1014658)\u001b[0m Already create adjacency matrix.\n",
      "\u001b[2m\u001b[36m(TrainLightGCN pid=1014658)\u001b[0m Already normalize adjacency matrix.\n",
      "\u001b[2m\u001b[36m(TrainLightGCN pid=1014658)\u001b[0m Using xavier initialization.\n"
     ]
    },
    {
     "name": "stderr",
     "output_type": "stream",
     "text": [
      "\u001b[2m\u001b[36m(TrainLightGCN pid=1014658)\u001b[0m Checkpoint successfully created at: Checkpoint(filesystem=local, path=/home/daviddavo/ray_results/TrainLightGCN_2023-11-10_20-19-58/TrainLightGCN_7fc00272_61_trial_index=0,batch_size=7,conv_layers=5,embedding_dim=95,l2=0.0000,learning_rate=0.0002_2023-11-10_21-32-48/checkpoint_000000)\n",
      "\u001b[2m\u001b[36m(pid=1014864)\u001b[0m 2023-11-10 21:36:20.837530: E tensorflow/compiler/xla/stream_executor/cuda/cuda_dnn.cc:9342] Unable to register cuDNN factory: Attempting to register factory for plugin cuDNN when one has already been registered\n",
      "\u001b[2m\u001b[36m(pid=1014864)\u001b[0m 2023-11-10 21:36:20.837566: E tensorflow/compiler/xla/stream_executor/cuda/cuda_fft.cc:609] Unable to register cuFFT factory: Attempting to register factory for plugin cuFFT when one has already been registered\n",
      "\u001b[2m\u001b[36m(pid=1014864)\u001b[0m 2023-11-10 21:36:20.837578: E tensorflow/compiler/xla/stream_executor/cuda/cuda_blas.cc:1518] Unable to register cuBLAS factory: Attempting to register factory for plugin cuBLAS when one has already been registered\n",
      "\u001b[2m\u001b[36m(TrainLightGCN pid=1014864)\u001b[0m /home/daviddavo/upm-tfm-notebooks/.direnv/python-3.9/lib/python3.9/site-packages/recommenders/models/deeprec/DataModel/ImplicitCF.py:73: FutureWarning: The frame.append method is deprecated and will be removed from pandas in a future version. Use pandas.concat instead.\n",
      "\u001b[2m\u001b[36m(TrainLightGCN pid=1014864)\u001b[0m   df = train if test is None else train.append(test)\n"
     ]
    },
    {
     "name": "stdout",
     "output_type": "stream",
     "text": [
      "\u001b[2m\u001b[36m(TrainLightGCN pid=1014864)\u001b[0m Already create adjacency matrix.\n",
      "\u001b[2m\u001b[36m(TrainLightGCN pid=1014864)\u001b[0m Already normalize adjacency matrix.\n",
      "\u001b[2m\u001b[36m(TrainLightGCN pid=1014864)\u001b[0m Using xavier initialization.\n"
     ]
    },
    {
     "name": "stderr",
     "output_type": "stream",
     "text": [
      "\u001b[2m\u001b[36m(TrainLightGCN pid=1014864)\u001b[0m Checkpoint successfully created at: Checkpoint(filesystem=local, path=/home/daviddavo/ray_results/TrainLightGCN_2023-11-10_20-19-58/TrainLightGCN_924aafa6_62_trial_index=1,batch_size=7,conv_layers=5,embedding_dim=95,l2=0.0000,learning_rate=0.0002_2023-11-10_21-35-40/checkpoint_000000)\n",
      "\u001b[2m\u001b[36m(pid=1015117)\u001b[0m 2023-11-10 21:37:32.824358: E tensorflow/compiler/xla/stream_executor/cuda/cuda_dnn.cc:9342] Unable to register cuDNN factory: Attempting to register factory for plugin cuDNN when one has already been registered\n",
      "\u001b[2m\u001b[36m(pid=1015117)\u001b[0m 2023-11-10 21:37:32.824394: E tensorflow/compiler/xla/stream_executor/cuda/cuda_fft.cc:609] Unable to register cuFFT factory: Attempting to register factory for plugin cuFFT when one has already been registered\n",
      "\u001b[2m\u001b[36m(pid=1015117)\u001b[0m 2023-11-10 21:37:32.824407: E tensorflow/compiler/xla/stream_executor/cuda/cuda_blas.cc:1518] Unable to register cuBLAS factory: Attempting to register factory for plugin cuBLAS when one has already been registered\n",
      "\u001b[2m\u001b[36m(TrainLightGCN pid=1015117)\u001b[0m /home/daviddavo/upm-tfm-notebooks/.direnv/python-3.9/lib/python3.9/site-packages/recommenders/models/deeprec/DataModel/ImplicitCF.py:73: FutureWarning: The frame.append method is deprecated and will be removed from pandas in a future version. Use pandas.concat instead.\n",
      "\u001b[2m\u001b[36m(TrainLightGCN pid=1015117)\u001b[0m   df = train if test is None else train.append(test)\n"
     ]
    },
    {
     "name": "stdout",
     "output_type": "stream",
     "text": [
      "\u001b[2m\u001b[36m(TrainLightGCN pid=1015117)\u001b[0m Already create adjacency matrix.\n",
      "\u001b[2m\u001b[36m(TrainLightGCN pid=1015117)\u001b[0m Already normalize adjacency matrix.\n",
      "\u001b[2m\u001b[36m(TrainLightGCN pid=1015117)\u001b[0m Using xavier initialization.\n"
     ]
    },
    {
     "name": "stderr",
     "output_type": "stream",
     "text": [
      "\u001b[2m\u001b[36m(TrainLightGCN pid=1013956)\u001b[0m Checkpoint successfully created at: Checkpoint(filesystem=local, path=/home/daviddavo/ray_results/TrainLightGCN_2023-11-10_20-19-58/TrainLightGCN_f428a08a_59_trial_index=8,batch_size=8,conv_layers=5,embedding_dim=20,l2=0.0008,learning_rate=0.0254_2023-11-10_21-27-02/checkpoint_000000)\n",
      "\u001b[2m\u001b[36m(pid=1015429)\u001b[0m 2023-11-10 21:39:18.804827: E tensorflow/compiler/xla/stream_executor/cuda/cuda_dnn.cc:9342] Unable to register cuDNN factory: Attempting to register factory for plugin cuDNN when one has already been registered\n",
      "\u001b[2m\u001b[36m(pid=1015429)\u001b[0m 2023-11-10 21:39:18.804870: E tensorflow/compiler/xla/stream_executor/cuda/cuda_fft.cc:609] Unable to register cuFFT factory: Attempting to register factory for plugin cuFFT when one has already been registered\n",
      "\u001b[2m\u001b[36m(pid=1015429)\u001b[0m 2023-11-10 21:39:18.804886: E tensorflow/compiler/xla/stream_executor/cuda/cuda_blas.cc:1518] Unable to register cuBLAS factory: Attempting to register factory for plugin cuBLAS when one has already been registered\n",
      "\u001b[2m\u001b[36m(TrainLightGCN pid=1015429)\u001b[0m /home/daviddavo/upm-tfm-notebooks/.direnv/python-3.9/lib/python3.9/site-packages/recommenders/models/deeprec/DataModel/ImplicitCF.py:73: FutureWarning: The frame.append method is deprecated and will be removed from pandas in a future version. Use pandas.concat instead.\n",
      "\u001b[2m\u001b[36m(TrainLightGCN pid=1015429)\u001b[0m   df = train if test is None else train.append(test)\n"
     ]
    },
    {
     "name": "stdout",
     "output_type": "stream",
     "text": [
      "\u001b[2m\u001b[36m(TrainLightGCN pid=1015429)\u001b[0m Using xavier initialization.\n",
      "\u001b[2m\u001b[36m(TrainLightGCN pid=1015429)\u001b[0m Already create adjacency matrix.\n",
      "\u001b[2m\u001b[36m(TrainLightGCN pid=1015429)\u001b[0m Already normalize adjacency matrix.\n"
     ]
    },
    {
     "name": "stderr",
     "output_type": "stream",
     "text": [
      "\u001b[2m\u001b[36m(TrainLightGCN pid=1015117)\u001b[0m Checkpoint successfully created at: Checkpoint(filesystem=local, path=/home/daviddavo/ray_results/TrainLightGCN_2023-11-10_20-19-58/TrainLightGCN_039fb40a_63_trial_index=2,batch_size=7,conv_layers=5,embedding_dim=95,l2=0.0000,learning_rate=0.0002_2023-11-10_21-36-22/checkpoint_000000)\n",
      "\u001b[2m\u001b[36m(pid=1015666)\u001b[0m 2023-11-10 21:40:19.817409: E tensorflow/compiler/xla/stream_executor/cuda/cuda_dnn.cc:9342] Unable to register cuDNN factory: Attempting to register factory for plugin cuDNN when one has already been registered\n",
      "\u001b[2m\u001b[36m(pid=1015666)\u001b[0m 2023-11-10 21:40:19.817444: E tensorflow/compiler/xla/stream_executor/cuda/cuda_fft.cc:609] Unable to register cuFFT factory: Attempting to register factory for plugin cuFFT when one has already been registered\n",
      "\u001b[2m\u001b[36m(pid=1015666)\u001b[0m 2023-11-10 21:40:19.817455: E tensorflow/compiler/xla/stream_executor/cuda/cuda_blas.cc:1518] Unable to register cuBLAS factory: Attempting to register factory for plugin cuBLAS when one has already been registered\n",
      "\u001b[2m\u001b[36m(TrainLightGCN pid=1015666)\u001b[0m /home/daviddavo/upm-tfm-notebooks/.direnv/python-3.9/lib/python3.9/site-packages/recommenders/models/deeprec/DataModel/ImplicitCF.py:73: FutureWarning: The frame.append method is deprecated and will be removed from pandas in a future version. Use pandas.concat instead.\n",
      "\u001b[2m\u001b[36m(TrainLightGCN pid=1015666)\u001b[0m   df = train if test is None else train.append(test)\n"
     ]
    },
    {
     "name": "stdout",
     "output_type": "stream",
     "text": [
      "\u001b[2m\u001b[36m(TrainLightGCN pid=1015666)\u001b[0m Already create adjacency matrix.\n",
      "\u001b[2m\u001b[36m(TrainLightGCN pid=1015666)\u001b[0m Already normalize adjacency matrix.\n",
      "\u001b[2m\u001b[36m(TrainLightGCN pid=1015666)\u001b[0m Using xavier initialization.\n"
     ]
    },
    {
     "name": "stderr",
     "output_type": "stream",
     "text": [
      "\u001b[2m\u001b[36m(TrainLightGCN pid=1014247)\u001b[0m Checkpoint successfully created at: Checkpoint(filesystem=local, path=/home/daviddavo/ray_results/TrainLightGCN_2023-11-10_20-19-58/TrainLightGCN_b4ea21f8_60_trial_index=9,batch_size=8,conv_layers=5,embedding_dim=20,l2=0.0008,learning_rate=0.0254_2023-11-10_21-31-11/checkpoint_000000)\n",
      "\u001b[2m\u001b[36m(pid=1016070)\u001b[0m 2023-11-10 21:43:08.958983: E tensorflow/compiler/xla/stream_executor/cuda/cuda_dnn.cc:9342] Unable to register cuDNN factory: Attempting to register factory for plugin cuDNN when one has already been registered\n",
      "\u001b[2m\u001b[36m(pid=1016070)\u001b[0m 2023-11-10 21:43:08.959015: E tensorflow/compiler/xla/stream_executor/cuda/cuda_fft.cc:609] Unable to register cuFFT factory: Attempting to register factory for plugin cuFFT when one has already been registered\n",
      "\u001b[2m\u001b[36m(pid=1016070)\u001b[0m 2023-11-10 21:43:08.959029: E tensorflow/compiler/xla/stream_executor/cuda/cuda_blas.cc:1518] Unable to register cuBLAS factory: Attempting to register factory for plugin cuBLAS when one has already been registered\n",
      "\u001b[2m\u001b[36m(TrainLightGCN pid=1016070)\u001b[0m /home/daviddavo/upm-tfm-notebooks/.direnv/python-3.9/lib/python3.9/site-packages/recommenders/models/deeprec/DataModel/ImplicitCF.py:73: FutureWarning: The frame.append method is deprecated and will be removed from pandas in a future version. Use pandas.concat instead.\n",
      "\u001b[2m\u001b[36m(TrainLightGCN pid=1016070)\u001b[0m   df = train if test is None else train.append(test)\n"
     ]
    },
    {
     "name": "stdout",
     "output_type": "stream",
     "text": [
      "\u001b[2m\u001b[36m(TrainLightGCN pid=1016070)\u001b[0m Already create adjacency matrix.\n",
      "\u001b[2m\u001b[36m(TrainLightGCN pid=1016070)\u001b[0m Already normalize adjacency matrix.\n",
      "\u001b[2m\u001b[36m(TrainLightGCN pid=1016070)\u001b[0m Using xavier initialization.\n"
     ]
    },
    {
     "name": "stderr",
     "output_type": "stream",
     "text": [
      "\u001b[2m\u001b[36m(TrainLightGCN pid=1015429)\u001b[0m Checkpoint successfully created at: Checkpoint(filesystem=local, path=/home/daviddavo/ray_results/TrainLightGCN_2023-11-10_20-19-58/TrainLightGCN_b23fc7f1_64_trial_index=3,batch_size=7,conv_layers=5,embedding_dim=95,l2=0.0000,learning_rate=0.0002_2023-11-10_21-37-34/checkpoint_000000)\n",
      "\u001b[2m\u001b[36m(pid=1016266)\u001b[0m 2023-11-10 21:43:41.846960: E tensorflow/compiler/xla/stream_executor/cuda/cuda_dnn.cc:9342] Unable to register cuDNN factory: Attempting to register factory for plugin cuDNN when one has already been registered\n",
      "\u001b[2m\u001b[36m(pid=1016266)\u001b[0m 2023-11-10 21:43:41.846998: E tensorflow/compiler/xla/stream_executor/cuda/cuda_fft.cc:609] Unable to register cuFFT factory: Attempting to register factory for plugin cuFFT when one has already been registered\n",
      "\u001b[2m\u001b[36m(pid=1016266)\u001b[0m 2023-11-10 21:43:41.847012: E tensorflow/compiler/xla/stream_executor/cuda/cuda_blas.cc:1518] Unable to register cuBLAS factory: Attempting to register factory for plugin cuBLAS when one has already been registered\n",
      "\u001b[2m\u001b[36m(TrainLightGCN pid=1016266)\u001b[0m /home/daviddavo/upm-tfm-notebooks/.direnv/python-3.9/lib/python3.9/site-packages/recommenders/models/deeprec/DataModel/ImplicitCF.py:73: FutureWarning: The frame.append method is deprecated and will be removed from pandas in a future version. Use pandas.concat instead.\n",
      "\u001b[2m\u001b[36m(TrainLightGCN pid=1016266)\u001b[0m   df = train if test is None else train.append(test)\n"
     ]
    },
    {
     "name": "stdout",
     "output_type": "stream",
     "text": [
      "\u001b[2m\u001b[36m(TrainLightGCN pid=1016266)\u001b[0m Already create adjacency matrix.\n",
      "\u001b[2m\u001b[36m(TrainLightGCN pid=1016266)\u001b[0m Already normalize adjacency matrix.\n",
      "\u001b[2m\u001b[36m(TrainLightGCN pid=1016266)\u001b[0m Using xavier initialization.\n"
     ]
    },
    {
     "name": "stderr",
     "output_type": "stream",
     "text": [
      "\u001b[2m\u001b[36m(TrainLightGCN pid=1008762)\u001b[0m Checkpoint successfully created at: Checkpoint(filesystem=local, path=/home/daviddavo/ray_results/TrainLightGCN_2023-11-10_20-19-58/TrainLightGCN_27bdf3a6_46_trial_index=5,batch_size=4,conv_layers=4,embedding_dim=65,l2=0.0000,learning_rate=0.0003_2023-11-10_20-54-38/checkpoint_000000)\n",
      "\u001b[2m\u001b[36m(pid=1016588)\u001b[0m 2023-11-10 21:45:37.973787: E tensorflow/compiler/xla/stream_executor/cuda/cuda_dnn.cc:9342] Unable to register cuDNN factory: Attempting to register factory for plugin cuDNN when one has already been registered\n",
      "\u001b[2m\u001b[36m(pid=1016588)\u001b[0m 2023-11-10 21:45:37.973819: E tensorflow/compiler/xla/stream_executor/cuda/cuda_fft.cc:609] Unable to register cuFFT factory: Attempting to register factory for plugin cuFFT when one has already been registered\n",
      "\u001b[2m\u001b[36m(pid=1016588)\u001b[0m 2023-11-10 21:45:37.973831: E tensorflow/compiler/xla/stream_executor/cuda/cuda_blas.cc:1518] Unable to register cuBLAS factory: Attempting to register factory for plugin cuBLAS when one has already been registered\n",
      "\u001b[2m\u001b[36m(TrainLightGCN pid=1016588)\u001b[0m /home/daviddavo/upm-tfm-notebooks/.direnv/python-3.9/lib/python3.9/site-packages/recommenders/models/deeprec/DataModel/ImplicitCF.py:73: FutureWarning: The frame.append method is deprecated and will be removed from pandas in a future version. Use pandas.concat instead.\n",
      "\u001b[2m\u001b[36m(TrainLightGCN pid=1016588)\u001b[0m   df = train if test is None else train.append(test)\n"
     ]
    },
    {
     "name": "stdout",
     "output_type": "stream",
     "text": [
      "\u001b[2m\u001b[36m(TrainLightGCN pid=1016588)\u001b[0m Already create adjacency matrix.\n",
      "\u001b[2m\u001b[36m(TrainLightGCN pid=1016588)\u001b[0m Already normalize adjacency matrix.\n",
      "\u001b[2m\u001b[36m(TrainLightGCN pid=1016588)\u001b[0m Using xavier initialization.\n"
     ]
    },
    {
     "name": "stderr",
     "output_type": "stream",
     "text": [
      "\u001b[2m\u001b[36m(TrainLightGCN pid=1015666)\u001b[0m Checkpoint successfully created at: Checkpoint(filesystem=local, path=/home/daviddavo/ray_results/TrainLightGCN_2023-11-10_20-19-58/TrainLightGCN_040c951e_65_trial_index=4,batch_size=7,conv_layers=5,embedding_dim=95,l2=0.0000,learning_rate=0.0002_2023-11-10_21-39-20/checkpoint_000000)\n",
      "\u001b[2m\u001b[36m(pid=1016754)\u001b[0m 2023-11-10 21:45:52.043409: E tensorflow/compiler/xla/stream_executor/cuda/cuda_dnn.cc:9342] Unable to register cuDNN factory: Attempting to register factory for plugin cuDNN when one has already been registered\n",
      "\u001b[2m\u001b[36m(pid=1016754)\u001b[0m 2023-11-10 21:45:52.043442: E tensorflow/compiler/xla/stream_executor/cuda/cuda_fft.cc:609] Unable to register cuFFT factory: Attempting to register factory for plugin cuFFT when one has already been registered\n",
      "\u001b[2m\u001b[36m(pid=1016754)\u001b[0m 2023-11-10 21:45:52.043455: E tensorflow/compiler/xla/stream_executor/cuda/cuda_blas.cc:1518] Unable to register cuBLAS factory: Attempting to register factory for plugin cuBLAS when one has already been registered\n",
      "\u001b[2m\u001b[36m(TrainLightGCN pid=1016754)\u001b[0m /home/daviddavo/upm-tfm-notebooks/.direnv/python-3.9/lib/python3.9/site-packages/recommenders/models/deeprec/DataModel/ImplicitCF.py:73: FutureWarning: The frame.append method is deprecated and will be removed from pandas in a future version. Use pandas.concat instead.\n",
      "\u001b[2m\u001b[36m(TrainLightGCN pid=1016754)\u001b[0m   df = train if test is None else train.append(test)\n"
     ]
    },
    {
     "name": "stdout",
     "output_type": "stream",
     "text": [
      "\u001b[2m\u001b[36m(TrainLightGCN pid=1016754)\u001b[0m Already create adjacency matrix.\n",
      "\u001b[2m\u001b[36m(TrainLightGCN pid=1016754)\u001b[0m Already normalize adjacency matrix.\n",
      "\u001b[2m\u001b[36m(TrainLightGCN pid=1016754)\u001b[0m Using xavier initialization.\n"
     ]
    },
    {
     "name": "stderr",
     "output_type": "stream",
     "text": [
      "\u001b[2m\u001b[36m(TrainLightGCN pid=1016070)\u001b[0m Checkpoint successfully created at: Checkpoint(filesystem=local, path=/home/daviddavo/ray_results/TrainLightGCN_2023-11-10_20-19-58/TrainLightGCN_a9fd9b95_66_trial_index=5,batch_size=7,conv_layers=5,embedding_dim=95,l2=0.0000,learning_rate=0.0002_2023-11-10_21-40-21/checkpoint_000000)\n",
      "\u001b[2m\u001b[36m(pid=1017339)\u001b[0m 2023-11-10 21:50:35.842415: E tensorflow/compiler/xla/stream_executor/cuda/cuda_dnn.cc:9342] Unable to register cuDNN factory: Attempting to register factory for plugin cuDNN when one has already been registered\n",
      "\u001b[2m\u001b[36m(pid=1017339)\u001b[0m 2023-11-10 21:50:35.842448: E tensorflow/compiler/xla/stream_executor/cuda/cuda_fft.cc:609] Unable to register cuFFT factory: Attempting to register factory for plugin cuFFT when one has already been registered\n",
      "\u001b[2m\u001b[36m(pid=1017339)\u001b[0m 2023-11-10 21:50:35.842461: E tensorflow/compiler/xla/stream_executor/cuda/cuda_blas.cc:1518] Unable to register cuBLAS factory: Attempting to register factory for plugin cuBLAS when one has already been registered\n",
      "\u001b[2m\u001b[36m(TrainLightGCN pid=1017339)\u001b[0m /home/daviddavo/upm-tfm-notebooks/.direnv/python-3.9/lib/python3.9/site-packages/recommenders/models/deeprec/DataModel/ImplicitCF.py:73: FutureWarning: The frame.append method is deprecated and will be removed from pandas in a future version. Use pandas.concat instead.\n",
      "\u001b[2m\u001b[36m(TrainLightGCN pid=1017339)\u001b[0m   df = train if test is None else train.append(test)\n"
     ]
    },
    {
     "name": "stdout",
     "output_type": "stream",
     "text": [
      "\u001b[2m\u001b[36m(TrainLightGCN pid=1017339)\u001b[0m Already create adjacency matrix.\n",
      "\u001b[2m\u001b[36m(TrainLightGCN pid=1017339)\u001b[0m Already normalize adjacency matrix.\n",
      "\u001b[2m\u001b[36m(TrainLightGCN pid=1017339)\u001b[0m Using xavier initialization.\n"
     ]
    },
    {
     "name": "stderr",
     "output_type": "stream",
     "text": [
      "\u001b[2m\u001b[36m(TrainLightGCN pid=1016266)\u001b[0m Checkpoint successfully created at: Checkpoint(filesystem=local, path=/home/daviddavo/ray_results/TrainLightGCN_2023-11-10_20-19-58/TrainLightGCN_c9b16d4a_67_trial_index=6,batch_size=7,conv_layers=5,embedding_dim=95,l2=0.0000,learning_rate=0.0002_2023-11-10_21-43-11/checkpoint_000000)\n",
      "\u001b[2m\u001b[36m(pid=1017751)\u001b[0m 2023-11-10 21:53:27.838923: E tensorflow/compiler/xla/stream_executor/cuda/cuda_dnn.cc:9342] Unable to register cuDNN factory: Attempting to register factory for plugin cuDNN when one has already been registered\n",
      "\u001b[2m\u001b[36m(pid=1017751)\u001b[0m 2023-11-10 21:53:27.838955: E tensorflow/compiler/xla/stream_executor/cuda/cuda_fft.cc:609] Unable to register cuFFT factory: Attempting to register factory for plugin cuFFT when one has already been registered\n",
      "\u001b[2m\u001b[36m(pid=1017751)\u001b[0m 2023-11-10 21:53:27.838968: E tensorflow/compiler/xla/stream_executor/cuda/cuda_blas.cc:1518] Unable to register cuBLAS factory: Attempting to register factory for plugin cuBLAS when one has already been registered\n",
      "\u001b[2m\u001b[36m(TrainLightGCN pid=1017751)\u001b[0m /home/daviddavo/upm-tfm-notebooks/.direnv/python-3.9/lib/python3.9/site-packages/recommenders/models/deeprec/DataModel/ImplicitCF.py:73: FutureWarning: The frame.append method is deprecated and will be removed from pandas in a future version. Use pandas.concat instead.\n",
      "\u001b[2m\u001b[36m(TrainLightGCN pid=1017751)\u001b[0m   df = train if test is None else train.append(test)\n"
     ]
    },
    {
     "name": "stdout",
     "output_type": "stream",
     "text": [
      "\u001b[2m\u001b[36m(TrainLightGCN pid=1017751)\u001b[0m Already create adjacency matrix.\n",
      "\u001b[2m\u001b[36m(TrainLightGCN pid=1017751)\u001b[0m Already normalize adjacency matrix.\n",
      "\u001b[2m\u001b[36m(TrainLightGCN pid=1017751)\u001b[0m Using xavier initialization.\n"
     ]
    },
    {
     "name": "stderr",
     "output_type": "stream",
     "text": [
      "\u001b[2m\u001b[36m(TrainLightGCN pid=1017751)\u001b[0m Checkpoint successfully created at: Checkpoint(filesystem=local, path=/home/daviddavo/ray_results/TrainLightGCN_2023-11-10_20-19-58/TrainLightGCN_56c5b560_71_trial_index=0,batch_size=6,conv_layers=4,embedding_dim=85,l2=0.0660,learning_rate=0.0028_2023-11-10_21-50-38/checkpoint_000000)\n",
      "\u001b[2m\u001b[36m(pid=1018037)\u001b[0m 2023-11-10 21:55:01.070193: E tensorflow/compiler/xla/stream_executor/cuda/cuda_dnn.cc:9342] Unable to register cuDNN factory: Attempting to register factory for plugin cuDNN when one has already been registered\n",
      "\u001b[2m\u001b[36m(pid=1018037)\u001b[0m 2023-11-10 21:55:01.070230: E tensorflow/compiler/xla/stream_executor/cuda/cuda_fft.cc:609] Unable to register cuFFT factory: Attempting to register factory for plugin cuFFT when one has already been registered\n",
      "\u001b[2m\u001b[36m(pid=1018037)\u001b[0m 2023-11-10 21:55:01.070241: E tensorflow/compiler/xla/stream_executor/cuda/cuda_blas.cc:1518] Unable to register cuBLAS factory: Attempting to register factory for plugin cuBLAS when one has already been registered\n",
      "\u001b[2m\u001b[36m(TrainLightGCN pid=1018037)\u001b[0m /home/daviddavo/upm-tfm-notebooks/.direnv/python-3.9/lib/python3.9/site-packages/recommenders/models/deeprec/DataModel/ImplicitCF.py:73: FutureWarning: The frame.append method is deprecated and will be removed from pandas in a future version. Use pandas.concat instead.\n",
      "\u001b[2m\u001b[36m(TrainLightGCN pid=1018037)\u001b[0m   df = train if test is None else train.append(test)\n"
     ]
    },
    {
     "name": "stdout",
     "output_type": "stream",
     "text": [
      "\u001b[2m\u001b[36m(TrainLightGCN pid=1018037)\u001b[0m Using xavier initialization.\n",
      "\u001b[2m\u001b[36m(TrainLightGCN pid=1018037)\u001b[0m Already create adjacency matrix.\n",
      "\u001b[2m\u001b[36m(TrainLightGCN pid=1018037)\u001b[0m Already normalize adjacency matrix.\n"
     ]
    },
    {
     "name": "stderr",
     "output_type": "stream",
     "text": [
      "\u001b[2m\u001b[36m(TrainLightGCN pid=1018037)\u001b[0m Checkpoint successfully created at: Checkpoint(filesystem=local, path=/home/daviddavo/ray_results/TrainLightGCN_2023-11-10_20-19-58/TrainLightGCN_069e503b_72_trial_index=1,batch_size=6,conv_layers=4,embedding_dim=85,l2=0.0660,learning_rate=0.0028_2023-11-10_21-53-29/checkpoint_000000)\n",
      "\u001b[2m\u001b[36m(pid=1018445)\u001b[0m 2023-11-10 21:57:49.933242: E tensorflow/compiler/xla/stream_executor/cuda/cuda_dnn.cc:9342] Unable to register cuDNN factory: Attempting to register factory for plugin cuDNN when one has already been registered\n",
      "\u001b[2m\u001b[36m(pid=1018445)\u001b[0m 2023-11-10 21:57:49.933283: E tensorflow/compiler/xla/stream_executor/cuda/cuda_fft.cc:609] Unable to register cuFFT factory: Attempting to register factory for plugin cuFFT when one has already been registered\n",
      "\u001b[2m\u001b[36m(pid=1018445)\u001b[0m 2023-11-10 21:57:49.933295: E tensorflow/compiler/xla/stream_executor/cuda/cuda_blas.cc:1518] Unable to register cuBLAS factory: Attempting to register factory for plugin cuBLAS when one has already been registered\n",
      "\u001b[2m\u001b[36m(TrainLightGCN pid=1018445)\u001b[0m /home/daviddavo/upm-tfm-notebooks/.direnv/python-3.9/lib/python3.9/site-packages/recommenders/models/deeprec/DataModel/ImplicitCF.py:73: FutureWarning: The frame.append method is deprecated and will be removed from pandas in a future version. Use pandas.concat instead.\n",
      "\u001b[2m\u001b[36m(TrainLightGCN pid=1018445)\u001b[0m   df = train if test is None else train.append(test)\n"
     ]
    },
    {
     "name": "stdout",
     "output_type": "stream",
     "text": [
      "\u001b[2m\u001b[36m(TrainLightGCN pid=1018445)\u001b[0m Already create adjacency matrix.\n",
      "\u001b[2m\u001b[36m(TrainLightGCN pid=1018445)\u001b[0m Already normalize adjacency matrix.\n",
      "\u001b[2m\u001b[36m(TrainLightGCN pid=1018445)\u001b[0m Using xavier initialization.\n"
     ]
    },
    {
     "name": "stderr",
     "output_type": "stream",
     "text": [
      "\u001b[2m\u001b[36m(TrainLightGCN pid=1016588)\u001b[0m Checkpoint successfully created at: Checkpoint(filesystem=local, path=/home/daviddavo/ray_results/TrainLightGCN_2023-11-10_20-19-58/TrainLightGCN_6b87517e_68_trial_index=7,batch_size=7,conv_layers=5,embedding_dim=95,l2=0.0000,learning_rate=0.0002_2023-11-10_21-43-44/checkpoint_000000)\n",
      "\u001b[2m\u001b[36m(pid=1018655)\u001b[0m 2023-11-10 21:58:33.958888: E tensorflow/compiler/xla/stream_executor/cuda/cuda_dnn.cc:9342] Unable to register cuDNN factory: Attempting to register factory for plugin cuDNN when one has already been registered\n",
      "\u001b[2m\u001b[36m(pid=1018655)\u001b[0m 2023-11-10 21:58:33.958923: E tensorflow/compiler/xla/stream_executor/cuda/cuda_fft.cc:609] Unable to register cuFFT factory: Attempting to register factory for plugin cuFFT when one has already been registered\n",
      "\u001b[2m\u001b[36m(pid=1018655)\u001b[0m 2023-11-10 21:58:33.958935: E tensorflow/compiler/xla/stream_executor/cuda/cuda_blas.cc:1518] Unable to register cuBLAS factory: Attempting to register factory for plugin cuBLAS when one has already been registered\n",
      "\u001b[2m\u001b[36m(TrainLightGCN pid=1018655)\u001b[0m /home/daviddavo/upm-tfm-notebooks/.direnv/python-3.9/lib/python3.9/site-packages/recommenders/models/deeprec/DataModel/ImplicitCF.py:73: FutureWarning: The frame.append method is deprecated and will be removed from pandas in a future version. Use pandas.concat instead.\n",
      "\u001b[2m\u001b[36m(TrainLightGCN pid=1018655)\u001b[0m   df = train if test is None else train.append(test)\n"
     ]
    },
    {
     "name": "stdout",
     "output_type": "stream",
     "text": [
      "\u001b[2m\u001b[36m(TrainLightGCN pid=1018655)\u001b[0m Using xavier initialization.\n",
      "\u001b[2m\u001b[36m(TrainLightGCN pid=1018655)\u001b[0m Already create adjacency matrix.\n",
      "\u001b[2m\u001b[36m(TrainLightGCN pid=1018655)\u001b[0m Already normalize adjacency matrix.\n"
     ]
    },
    {
     "name": "stderr",
     "output_type": "stream",
     "text": [
      "\u001b[2m\u001b[36m(TrainLightGCN pid=1018445)\u001b[0m Checkpoint successfully created at: Checkpoint(filesystem=local, path=/home/daviddavo/ray_results/TrainLightGCN_2023-11-10_20-19-58/TrainLightGCN_47e7410a_73_trial_index=2,batch_size=6,conv_layers=4,embedding_dim=85,l2=0.0660,learning_rate=0.0028_2023-11-10_21-55-03/checkpoint_000000)\n",
      "\u001b[2m\u001b[36m(pid=1019316)\u001b[0m 2023-11-10 22:04:10.024690: E tensorflow/compiler/xla/stream_executor/cuda/cuda_dnn.cc:9342] Unable to register cuDNN factory: Attempting to register factory for plugin cuDNN when one has already been registered\n",
      "\u001b[2m\u001b[36m(pid=1019316)\u001b[0m 2023-11-10 22:04:10.024722: E tensorflow/compiler/xla/stream_executor/cuda/cuda_fft.cc:609] Unable to register cuFFT factory: Attempting to register factory for plugin cuFFT when one has already been registered\n",
      "\u001b[2m\u001b[36m(pid=1019316)\u001b[0m 2023-11-10 22:04:10.024734: E tensorflow/compiler/xla/stream_executor/cuda/cuda_blas.cc:1518] Unable to register cuBLAS factory: Attempting to register factory for plugin cuBLAS when one has already been registered\n",
      "\u001b[2m\u001b[36m(TrainLightGCN pid=1019316)\u001b[0m /home/daviddavo/upm-tfm-notebooks/.direnv/python-3.9/lib/python3.9/site-packages/recommenders/models/deeprec/DataModel/ImplicitCF.py:73: FutureWarning: The frame.append method is deprecated and will be removed from pandas in a future version. Use pandas.concat instead.\n",
      "\u001b[2m\u001b[36m(TrainLightGCN pid=1019316)\u001b[0m   df = train if test is None else train.append(test)\n"
     ]
    },
    {
     "name": "stdout",
     "output_type": "stream",
     "text": [
      "\u001b[2m\u001b[36m(TrainLightGCN pid=1019316)\u001b[0m Already create adjacency matrix.\n",
      "\u001b[2m\u001b[36m(TrainLightGCN pid=1019316)\u001b[0m Already normalize adjacency matrix.\n",
      "\u001b[2m\u001b[36m(TrainLightGCN pid=1019316)\u001b[0m Using xavier initialization.\n"
     ]
    },
    {
     "name": "stderr",
     "output_type": "stream",
     "text": [
      "\u001b[2m\u001b[36m(TrainLightGCN pid=1016754)\u001b[0m Checkpoint successfully created at: Checkpoint(filesystem=local, path=/home/daviddavo/ray_results/TrainLightGCN_2023-11-10_20-19-58/TrainLightGCN_60709be4_69_trial_index=8,batch_size=7,conv_layers=5,embedding_dim=95,l2=0.0000,learning_rate=0.0002_2023-11-10_21-45-40/checkpoint_000000)\n",
      "\u001b[2m\u001b[36m(pid=1019482)\u001b[0m 2023-11-10 22:04:23.952751: E tensorflow/compiler/xla/stream_executor/cuda/cuda_dnn.cc:9342] Unable to register cuDNN factory: Attempting to register factory for plugin cuDNN when one has already been registered\n",
      "\u001b[2m\u001b[36m(pid=1019482)\u001b[0m 2023-11-10 22:04:23.952783: E tensorflow/compiler/xla/stream_executor/cuda/cuda_fft.cc:609] Unable to register cuFFT factory: Attempting to register factory for plugin cuFFT when one has already been registered\n",
      "\u001b[2m\u001b[36m(pid=1019482)\u001b[0m 2023-11-10 22:04:23.952795: E tensorflow/compiler/xla/stream_executor/cuda/cuda_blas.cc:1518] Unable to register cuBLAS factory: Attempting to register factory for plugin cuBLAS when one has already been registered\n",
      "\u001b[2m\u001b[36m(TrainLightGCN pid=1019482)\u001b[0m /home/daviddavo/upm-tfm-notebooks/.direnv/python-3.9/lib/python3.9/site-packages/recommenders/models/deeprec/DataModel/ImplicitCF.py:73: FutureWarning: The frame.append method is deprecated and will be removed from pandas in a future version. Use pandas.concat instead.\n",
      "\u001b[2m\u001b[36m(TrainLightGCN pid=1019482)\u001b[0m   df = train if test is None else train.append(test)\n"
     ]
    },
    {
     "name": "stdout",
     "output_type": "stream",
     "text": [
      "\u001b[2m\u001b[36m(TrainLightGCN pid=1019482)\u001b[0m Using xavier initialization.\n",
      "\u001b[2m\u001b[36m(TrainLightGCN pid=1019482)\u001b[0m Already create adjacency matrix.\n",
      "\u001b[2m\u001b[36m(TrainLightGCN pid=1019482)\u001b[0m Already normalize adjacency matrix.\n"
     ]
    },
    {
     "name": "stderr",
     "output_type": "stream",
     "text": [
      "\u001b[2m\u001b[36m(TrainLightGCN pid=1009251)\u001b[0m Checkpoint successfully created at: Checkpoint(filesystem=local, path=/home/daviddavo/ray_results/TrainLightGCN_2023-11-10_20-19-58/TrainLightGCN_06eb0327_47_trial_index=6,batch_size=4,conv_layers=4,embedding_dim=65,l2=0.0000,learning_rate=0.0003_2023-11-10_20-55-40/checkpoint_000000)\n",
      "\u001b[2m\u001b[36m(pid=1019699)\u001b[0m 2023-11-10 22:05:11.000622: E tensorflow/compiler/xla/stream_executor/cuda/cuda_dnn.cc:9342] Unable to register cuDNN factory: Attempting to register factory for plugin cuDNN when one has already been registered\n",
      "\u001b[2m\u001b[36m(pid=1019699)\u001b[0m 2023-11-10 22:05:11.000656: E tensorflow/compiler/xla/stream_executor/cuda/cuda_fft.cc:609] Unable to register cuFFT factory: Attempting to register factory for plugin cuFFT when one has already been registered\n",
      "\u001b[2m\u001b[36m(pid=1019699)\u001b[0m 2023-11-10 22:05:11.000669: E tensorflow/compiler/xla/stream_executor/cuda/cuda_blas.cc:1518] Unable to register cuBLAS factory: Attempting to register factory for plugin cuBLAS when one has already been registered\n",
      "\u001b[2m\u001b[36m(TrainLightGCN pid=1019699)\u001b[0m /home/daviddavo/upm-tfm-notebooks/.direnv/python-3.9/lib/python3.9/site-packages/recommenders/models/deeprec/DataModel/ImplicitCF.py:73: FutureWarning: The frame.append method is deprecated and will be removed from pandas in a future version. Use pandas.concat instead.\n",
      "\u001b[2m\u001b[36m(TrainLightGCN pid=1019699)\u001b[0m   df = train if test is None else train.append(test)\n"
     ]
    },
    {
     "name": "stdout",
     "output_type": "stream",
     "text": [
      "\u001b[2m\u001b[36m(TrainLightGCN pid=1019699)\u001b[0m Already create adjacency matrix.\n",
      "\u001b[2m\u001b[36m(TrainLightGCN pid=1019699)\u001b[0m Already normalize adjacency matrix.\n",
      "\u001b[2m\u001b[36m(TrainLightGCN pid=1019699)\u001b[0m Using xavier initialization.\n"
     ]
    },
    {
     "name": "stderr",
     "output_type": "stream",
     "text": [
      "\u001b[2m\u001b[36m(TrainLightGCN pid=1018655)\u001b[0m Checkpoint successfully created at: Checkpoint(filesystem=local, path=/home/daviddavo/ray_results/TrainLightGCN_2023-11-10_20-19-58/TrainLightGCN_91c45574_74_trial_index=3,batch_size=6,conv_layers=4,embedding_dim=85,l2=0.0660,learning_rate=0.0028_2023-11-10_21-57-52/checkpoint_000000)\n",
      "\u001b[2m\u001b[36m(pid=1020111)\u001b[0m 2023-11-10 22:08:02.017125: E tensorflow/compiler/xla/stream_executor/cuda/cuda_dnn.cc:9342] Unable to register cuDNN factory: Attempting to register factory for plugin cuDNN when one has already been registered\n",
      "\u001b[2m\u001b[36m(pid=1020111)\u001b[0m 2023-11-10 22:08:02.017157: E tensorflow/compiler/xla/stream_executor/cuda/cuda_fft.cc:609] Unable to register cuFFT factory: Attempting to register factory for plugin cuFFT when one has already been registered\n",
      "\u001b[2m\u001b[36m(pid=1020111)\u001b[0m 2023-11-10 22:08:02.017169: E tensorflow/compiler/xla/stream_executor/cuda/cuda_blas.cc:1518] Unable to register cuBLAS factory: Attempting to register factory for plugin cuBLAS when one has already been registered\n",
      "\u001b[2m\u001b[36m(TrainLightGCN pid=1020111)\u001b[0m /home/daviddavo/upm-tfm-notebooks/.direnv/python-3.9/lib/python3.9/site-packages/recommenders/models/deeprec/DataModel/ImplicitCF.py:73: FutureWarning: The frame.append method is deprecated and will be removed from pandas in a future version. Use pandas.concat instead.\n",
      "\u001b[2m\u001b[36m(TrainLightGCN pid=1020111)\u001b[0m   df = train if test is None else train.append(test)\n"
     ]
    },
    {
     "name": "stdout",
     "output_type": "stream",
     "text": [
      "\u001b[2m\u001b[36m(TrainLightGCN pid=1020111)\u001b[0m Already create adjacency matrix.\n",
      "\u001b[2m\u001b[36m(TrainLightGCN pid=1020111)\u001b[0m Already normalize adjacency matrix.\n",
      "\u001b[2m\u001b[36m(TrainLightGCN pid=1020111)\u001b[0m Using xavier initialization.\n"
     ]
    },
    {
     "name": "stderr",
     "output_type": "stream",
     "text": [
      "\u001b[2m\u001b[36m(TrainLightGCN pid=1017339)\u001b[0m Checkpoint successfully created at: Checkpoint(filesystem=local, path=/home/daviddavo/ray_results/TrainLightGCN_2023-11-10_20-19-58/TrainLightGCN_7b88e6a1_70_trial_index=9,batch_size=7,conv_layers=5,embedding_dim=95,l2=0.0000,learning_rate=0.0002_2023-11-10_21-45-54/checkpoint_000000)\n",
      "\u001b[2m\u001b[36m(pid=1020752)\u001b[0m 2023-11-10 22:13:23.082837: E tensorflow/compiler/xla/stream_executor/cuda/cuda_dnn.cc:9342] Unable to register cuDNN factory: Attempting to register factory for plugin cuDNN when one has already been registered\n",
      "\u001b[2m\u001b[36m(pid=1020752)\u001b[0m 2023-11-10 22:13:23.082935: E tensorflow/compiler/xla/stream_executor/cuda/cuda_fft.cc:609] Unable to register cuFFT factory: Attempting to register factory for plugin cuFFT when one has already been registered\n",
      "\u001b[2m\u001b[36m(pid=1020752)\u001b[0m 2023-11-10 22:13:23.082949: E tensorflow/compiler/xla/stream_executor/cuda/cuda_blas.cc:1518] Unable to register cuBLAS factory: Attempting to register factory for plugin cuBLAS when one has already been registered\n",
      "\u001b[2m\u001b[36m(TrainLightGCN pid=1020752)\u001b[0m /home/daviddavo/upm-tfm-notebooks/.direnv/python-3.9/lib/python3.9/site-packages/recommenders/models/deeprec/DataModel/ImplicitCF.py:73: FutureWarning: The frame.append method is deprecated and will be removed from pandas in a future version. Use pandas.concat instead.\n",
      "\u001b[2m\u001b[36m(TrainLightGCN pid=1020752)\u001b[0m   df = train if test is None else train.append(test)\n"
     ]
    },
    {
     "name": "stdout",
     "output_type": "stream",
     "text": [
      "\u001b[2m\u001b[36m(TrainLightGCN pid=1020752)\u001b[0m Already create adjacency matrix.\n",
      "\u001b[2m\u001b[36m(TrainLightGCN pid=1020752)\u001b[0m Already normalize adjacency matrix.\n",
      "\u001b[2m\u001b[36m(TrainLightGCN pid=1020752)\u001b[0m Using xavier initialization.\n"
     ]
    },
    {
     "name": "stderr",
     "output_type": "stream",
     "text": [
      "\u001b[2m\u001b[36m(TrainLightGCN pid=1019316)\u001b[0m Checkpoint successfully created at: Checkpoint(filesystem=local, path=/home/daviddavo/ray_results/TrainLightGCN_2023-11-10_20-19-58/TrainLightGCN_1975c18e_75_trial_index=4,batch_size=6,conv_layers=4,embedding_dim=85,l2=0.0660,learning_rate=0.0028_2023-11-10_21-58-36/checkpoint_000000)\n",
      "\u001b[2m\u001b[36m(pid=1021104)\u001b[0m 2023-11-10 22:15:40.119595: E tensorflow/compiler/xla/stream_executor/cuda/cuda_dnn.cc:9342] Unable to register cuDNN factory: Attempting to register factory for plugin cuDNN when one has already been registered\n",
      "\u001b[2m\u001b[36m(pid=1021104)\u001b[0m 2023-11-10 22:15:40.119630: E tensorflow/compiler/xla/stream_executor/cuda/cuda_fft.cc:609] Unable to register cuFFT factory: Attempting to register factory for plugin cuFFT when one has already been registered\n",
      "\u001b[2m\u001b[36m(pid=1021104)\u001b[0m 2023-11-10 22:15:40.119643: E tensorflow/compiler/xla/stream_executor/cuda/cuda_blas.cc:1518] Unable to register cuBLAS factory: Attempting to register factory for plugin cuBLAS when one has already been registered\n",
      "\u001b[2m\u001b[36m(TrainLightGCN pid=1021104)\u001b[0m /home/daviddavo/upm-tfm-notebooks/.direnv/python-3.9/lib/python3.9/site-packages/recommenders/models/deeprec/DataModel/ImplicitCF.py:73: FutureWarning: The frame.append method is deprecated and will be removed from pandas in a future version. Use pandas.concat instead.\n",
      "\u001b[2m\u001b[36m(TrainLightGCN pid=1021104)\u001b[0m   df = train if test is None else train.append(test)\n"
     ]
    },
    {
     "name": "stdout",
     "output_type": "stream",
     "text": [
      "\u001b[2m\u001b[36m(TrainLightGCN pid=1021104)\u001b[0m Already normalize adjacency matrix.\n",
      "\u001b[2m\u001b[36m(TrainLightGCN pid=1021104)\u001b[0m Already create adjacency matrix.\n",
      "\u001b[2m\u001b[36m(TrainLightGCN pid=1021104)\u001b[0m Using xavier initialization.\n"
     ]
    },
    {
     "name": "stderr",
     "output_type": "stream",
     "text": [
      "\u001b[2m\u001b[36m(TrainLightGCN pid=1019482)\u001b[0m Checkpoint successfully created at: Checkpoint(filesystem=local, path=/home/daviddavo/ray_results/TrainLightGCN_2023-11-10_20-19-58/TrainLightGCN_c3ae9a20_76_trial_index=5,batch_size=6,conv_layers=4,embedding_dim=85,l2=0.0660,learning_rate=0.0028_2023-11-10_22-04-12/checkpoint_000000)\n",
      "\u001b[2m\u001b[36m(pid=1021538)\u001b[0m 2023-11-10 22:18:42.007974: E tensorflow/compiler/xla/stream_executor/cuda/cuda_dnn.cc:9342] Unable to register cuDNN factory: Attempting to register factory for plugin cuDNN when one has already been registered\n",
      "\u001b[2m\u001b[36m(pid=1021538)\u001b[0m 2023-11-10 22:18:42.008010: E tensorflow/compiler/xla/stream_executor/cuda/cuda_fft.cc:609] Unable to register cuFFT factory: Attempting to register factory for plugin cuFFT when one has already been registered\n",
      "\u001b[2m\u001b[36m(pid=1021538)\u001b[0m 2023-11-10 22:18:42.008024: E tensorflow/compiler/xla/stream_executor/cuda/cuda_blas.cc:1518] Unable to register cuBLAS factory: Attempting to register factory for plugin cuBLAS when one has already been registered\n",
      "\u001b[2m\u001b[36m(TrainLightGCN pid=1021538)\u001b[0m /home/daviddavo/upm-tfm-notebooks/.direnv/python-3.9/lib/python3.9/site-packages/recommenders/models/deeprec/DataModel/ImplicitCF.py:73: FutureWarning: The frame.append method is deprecated and will be removed from pandas in a future version. Use pandas.concat instead.\n",
      "\u001b[2m\u001b[36m(TrainLightGCN pid=1021538)\u001b[0m   df = train if test is None else train.append(test)\n"
     ]
    },
    {
     "name": "stdout",
     "output_type": "stream",
     "text": [
      "\u001b[2m\u001b[36m(TrainLightGCN pid=1021538)\u001b[0m Already create adjacency matrix.\n",
      "\u001b[2m\u001b[36m(TrainLightGCN pid=1021538)\u001b[0m Already normalize adjacency matrix.\n",
      "\u001b[2m\u001b[36m(TrainLightGCN pid=1021538)\u001b[0m Using xavier initialization.\n"
     ]
    },
    {
     "name": "stderr",
     "output_type": "stream",
     "text": [
      "\u001b[2m\u001b[36m(TrainLightGCN pid=1021538)\u001b[0m Checkpoint successfully created at: Checkpoint(filesystem=local, path=/home/daviddavo/ray_results/TrainLightGCN_2023-11-10_20-19-58/TrainLightGCN_ccca9ee3_81_trial_index=0,batch_size=5,conv_layers=4,embedding_dim=95,l2=0.0000,learning_rate=0.0061_2023-11-10_22-15-42/checkpoint_000000)\n",
      "\u001b[2m\u001b[36m(pid=1021940)\u001b[0m 2023-11-10 22:21:31.040795: E tensorflow/compiler/xla/stream_executor/cuda/cuda_dnn.cc:9342] Unable to register cuDNN factory: Attempting to register factory for plugin cuDNN when one has already been registered\n",
      "\u001b[2m\u001b[36m(pid=1021940)\u001b[0m 2023-11-10 22:21:31.040831: E tensorflow/compiler/xla/stream_executor/cuda/cuda_fft.cc:609] Unable to register cuFFT factory: Attempting to register factory for plugin cuFFT when one has already been registered\n",
      "\u001b[2m\u001b[36m(pid=1021940)\u001b[0m 2023-11-10 22:21:31.040843: E tensorflow/compiler/xla/stream_executor/cuda/cuda_blas.cc:1518] Unable to register cuBLAS factory: Attempting to register factory for plugin cuBLAS when one has already been registered\n",
      "\u001b[2m\u001b[36m(TrainLightGCN pid=1021940)\u001b[0m /home/daviddavo/upm-tfm-notebooks/.direnv/python-3.9/lib/python3.9/site-packages/recommenders/models/deeprec/DataModel/ImplicitCF.py:73: FutureWarning: The frame.append method is deprecated and will be removed from pandas in a future version. Use pandas.concat instead.\n",
      "\u001b[2m\u001b[36m(TrainLightGCN pid=1021940)\u001b[0m   df = train if test is None else train.append(test)\n"
     ]
    },
    {
     "name": "stdout",
     "output_type": "stream",
     "text": [
      "\u001b[2m\u001b[36m(TrainLightGCN pid=1021940)\u001b[0m Already normalize adjacency matrix.\n",
      "\u001b[2m\u001b[36m(TrainLightGCN pid=1021940)\u001b[0m Using xavier initialization.\n",
      "\u001b[2m\u001b[36m(TrainLightGCN pid=1021940)\u001b[0m Already create adjacency matrix.\n"
     ]
    },
    {
     "name": "stderr",
     "output_type": "stream",
     "text": [
      "\u001b[2m\u001b[36m(TrainLightGCN pid=1019699)\u001b[0m Checkpoint successfully created at: Checkpoint(filesystem=local, path=/home/daviddavo/ray_results/TrainLightGCN_2023-11-10_20-19-58/TrainLightGCN_673bdcbe_77_trial_index=6,batch_size=6,conv_layers=4,embedding_dim=85,l2=0.0660,learning_rate=0.0028_2023-11-10_22-04-26/checkpoint_000000)\n",
      "\u001b[2m\u001b[36m(pid=1022247)\u001b[0m 2023-11-10 22:23:16.137125: E tensorflow/compiler/xla/stream_executor/cuda/cuda_dnn.cc:9342] Unable to register cuDNN factory: Attempting to register factory for plugin cuDNN when one has already been registered\n",
      "\u001b[2m\u001b[36m(pid=1022247)\u001b[0m 2023-11-10 22:23:16.137161: E tensorflow/compiler/xla/stream_executor/cuda/cuda_fft.cc:609] Unable to register cuFFT factory: Attempting to register factory for plugin cuFFT when one has already been registered\n",
      "\u001b[2m\u001b[36m(pid=1022247)\u001b[0m 2023-11-10 22:23:16.137172: E tensorflow/compiler/xla/stream_executor/cuda/cuda_blas.cc:1518] Unable to register cuBLAS factory: Attempting to register factory for plugin cuBLAS when one has already been registered\n",
      "\u001b[2m\u001b[36m(TrainLightGCN pid=1022247)\u001b[0m /home/daviddavo/upm-tfm-notebooks/.direnv/python-3.9/lib/python3.9/site-packages/recommenders/models/deeprec/DataModel/ImplicitCF.py:73: FutureWarning: The frame.append method is deprecated and will be removed from pandas in a future version. Use pandas.concat instead.\n",
      "\u001b[2m\u001b[36m(TrainLightGCN pid=1022247)\u001b[0m   df = train if test is None else train.append(test)\n"
     ]
    },
    {
     "name": "stdout",
     "output_type": "stream",
     "text": [
      "\u001b[2m\u001b[36m(TrainLightGCN pid=1022247)\u001b[0m Already create adjacency matrix.\n",
      "\u001b[2m\u001b[36m(TrainLightGCN pid=1022247)\u001b[0m Already normalize adjacency matrix.\n",
      "\u001b[2m\u001b[36m(TrainLightGCN pid=1022247)\u001b[0m Using xavier initialization.\n"
     ]
    },
    {
     "name": "stderr",
     "output_type": "stream",
     "text": [
      "\u001b[2m\u001b[36m(TrainLightGCN pid=1009464)\u001b[0m Checkpoint successfully created at: Checkpoint(filesystem=local, path=/home/daviddavo/ray_results/TrainLightGCN_2023-11-10_20-19-58/TrainLightGCN_e314e285_48_trial_index=7,batch_size=4,conv_layers=4,embedding_dim=65,l2=0.0000,learning_rate=0.0003_2023-11-10_20-59-31/checkpoint_000000)\n",
      "\u001b[2m\u001b[36m(pid=1022687)\u001b[0m 2023-11-10 22:26:29.212213: E tensorflow/compiler/xla/stream_executor/cuda/cuda_dnn.cc:9342] Unable to register cuDNN factory: Attempting to register factory for plugin cuDNN when one has already been registered\n",
      "\u001b[2m\u001b[36m(pid=1022687)\u001b[0m 2023-11-10 22:26:29.212248: E tensorflow/compiler/xla/stream_executor/cuda/cuda_fft.cc:609] Unable to register cuFFT factory: Attempting to register factory for plugin cuFFT when one has already been registered\n",
      "\u001b[2m\u001b[36m(pid=1022687)\u001b[0m 2023-11-10 22:26:29.212260: E tensorflow/compiler/xla/stream_executor/cuda/cuda_blas.cc:1518] Unable to register cuBLAS factory: Attempting to register factory for plugin cuBLAS when one has already been registered\n",
      "\u001b[2m\u001b[36m(TrainLightGCN pid=1021940)\u001b[0m Checkpoint successfully created at: Checkpoint(filesystem=local, path=/home/daviddavo/ray_results/TrainLightGCN_2023-11-10_20-19-58/TrainLightGCN_01f68083_82_trial_index=1,batch_size=5,conv_layers=4,embedding_dim=95,l2=0.0000,learning_rate=0.0061_2023-11-10_22-18-44/checkpoint_000000)\n",
      "\u001b[2m\u001b[36m(TrainLightGCN pid=1022687)\u001b[0m /home/daviddavo/upm-tfm-notebooks/.direnv/python-3.9/lib/python3.9/site-packages/recommenders/models/deeprec/DataModel/ImplicitCF.py:73: FutureWarning: The frame.append method is deprecated and will be removed from pandas in a future version. Use pandas.concat instead.\n",
      "\u001b[2m\u001b[36m(TrainLightGCN pid=1022687)\u001b[0m   df = train if test is None else train.append(test)\n"
     ]
    },
    {
     "name": "stdout",
     "output_type": "stream",
     "text": [
      "\u001b[2m\u001b[36m(TrainLightGCN pid=1022687)\u001b[0m Already normalize adjacency matrix.\n",
      "\u001b[2m\u001b[36m(TrainLightGCN pid=1022687)\u001b[0m Already create adjacency matrix.\n",
      "\u001b[2m\u001b[36m(TrainLightGCN pid=1022687)\u001b[0m Using xavier initialization.\n",
      "\u001b[2m\u001b[36m(TrainLightGCN pid=1022808)\u001b[0m Already create adjacency matrix.\n",
      "\u001b[2m\u001b[36m(TrainLightGCN pid=1022808)\u001b[0m Using xavier initialization.\n"
     ]
    },
    {
     "name": "stderr",
     "output_type": "stream",
     "text": [
      "\u001b[2m\u001b[36m(pid=1022808)\u001b[0m 2023-11-10 22:26:32.473583: E tensorflow/compiler/xla/stream_executor/cuda/cuda_dnn.cc:9342] Unable to register cuDNN factory: Attempting to register factory for plugin cuDNN when one has already been registered\n",
      "\u001b[2m\u001b[36m(pid=1022808)\u001b[0m 2023-11-10 22:26:32.473619: E tensorflow/compiler/xla/stream_executor/cuda/cuda_fft.cc:609] Unable to register cuFFT factory: Attempting to register factory for plugin cuFFT when one has already been registered\n",
      "\u001b[2m\u001b[36m(pid=1022808)\u001b[0m 2023-11-10 22:26:32.473632: E tensorflow/compiler/xla/stream_executor/cuda/cuda_blas.cc:1518] Unable to register cuBLAS factory: Attempting to register factory for plugin cuBLAS when one has already been registered\n",
      "\u001b[2m\u001b[36m(TrainLightGCN pid=1020111)\u001b[0m Checkpoint successfully created at: Checkpoint(filesystem=local, path=/home/daviddavo/ray_results/TrainLightGCN_2023-11-10_20-19-58/TrainLightGCN_6c43fc1c_78_trial_index=7,batch_size=6,conv_layers=4,embedding_dim=85,l2=0.0660,learning_rate=0.0028_2023-11-10_22-05-13/checkpoint_000000)\n",
      "\u001b[2m\u001b[36m(TrainLightGCN pid=1022808)\u001b[0m /home/daviddavo/upm-tfm-notebooks/.direnv/python-3.9/lib/python3.9/site-packages/recommenders/models/deeprec/DataModel/ImplicitCF.py:73: FutureWarning: The frame.append method is deprecated and will be removed from pandas in a future version. Use pandas.concat instead.\n",
      "\u001b[2m\u001b[36m(TrainLightGCN pid=1022808)\u001b[0m   df = train if test is None else train.append(test)\n",
      "\u001b[2m\u001b[36m(pid=1023460)\u001b[0m 2023-11-10 22:31:41.122692: E tensorflow/compiler/xla/stream_executor/cuda/cuda_dnn.cc:9342] Unable to register cuDNN factory: Attempting to register factory for plugin cuDNN when one has already been registered\n",
      "\u001b[2m\u001b[36m(pid=1023460)\u001b[0m 2023-11-10 22:31:41.122727: E tensorflow/compiler/xla/stream_executor/cuda/cuda_fft.cc:609] Unable to register cuFFT factory: Attempting to register factory for plugin cuFFT when one has already been registered\n",
      "\u001b[2m\u001b[36m(pid=1023460)\u001b[0m 2023-11-10 22:31:41.122740: E tensorflow/compiler/xla/stream_executor/cuda/cuda_blas.cc:1518] Unable to register cuBLAS factory: Attempting to register factory for plugin cuBLAS when one has already been registered\n",
      "\u001b[2m\u001b[36m(TrainLightGCN pid=1023460)\u001b[0m /home/daviddavo/upm-tfm-notebooks/.direnv/python-3.9/lib/python3.9/site-packages/recommenders/models/deeprec/DataModel/ImplicitCF.py:73: FutureWarning: The frame.append method is deprecated and will be removed from pandas in a future version. Use pandas.concat instead.\n",
      "\u001b[2m\u001b[36m(TrainLightGCN pid=1023460)\u001b[0m   df = train if test is None else train.append(test)\n"
     ]
    },
    {
     "name": "stdout",
     "output_type": "stream",
     "text": [
      "\u001b[2m\u001b[36m(TrainLightGCN pid=1023460)\u001b[0m Already normalize adjacency matrix.\u001b[32m [repeated 2x across cluster]\u001b[0m\n",
      "\u001b[2m\u001b[36m(TrainLightGCN pid=1023460)\u001b[0m Already create adjacency matrix.\n",
      "\u001b[2m\u001b[36m(TrainLightGCN pid=1023460)\u001b[0m Using xavier initialization.\n"
     ]
    },
    {
     "name": "stderr",
     "output_type": "stream",
     "text": [
      "\u001b[2m\u001b[36m(TrainLightGCN pid=1022247)\u001b[0m Checkpoint successfully created at: Checkpoint(filesystem=local, path=/home/daviddavo/ray_results/TrainLightGCN_2023-11-10_20-19-58/TrainLightGCN_6b222ad0_83_trial_index=2,batch_size=5,conv_layers=4,embedding_dim=95,l2=0.0000,learning_rate=0.0061_2023-11-10_22-21-33/checkpoint_000000)\n",
      "\u001b[2m\u001b[36m(pid=1023911)\u001b[0m 2023-11-10 22:34:58.183116: E tensorflow/compiler/xla/stream_executor/cuda/cuda_dnn.cc:9342] Unable to register cuDNN factory: Attempting to register factory for plugin cuDNN when one has already been registered\n",
      "\u001b[2m\u001b[36m(pid=1023911)\u001b[0m 2023-11-10 22:34:58.183153: E tensorflow/compiler/xla/stream_executor/cuda/cuda_fft.cc:609] Unable to register cuFFT factory: Attempting to register factory for plugin cuFFT when one has already been registered\n",
      "\u001b[2m\u001b[36m(pid=1023911)\u001b[0m 2023-11-10 22:34:58.183166: E tensorflow/compiler/xla/stream_executor/cuda/cuda_blas.cc:1518] Unable to register cuBLAS factory: Attempting to register factory for plugin cuBLAS when one has already been registered\n",
      "\u001b[2m\u001b[36m(TrainLightGCN pid=1023911)\u001b[0m /home/daviddavo/upm-tfm-notebooks/.direnv/python-3.9/lib/python3.9/site-packages/recommenders/models/deeprec/DataModel/ImplicitCF.py:73: FutureWarning: The frame.append method is deprecated and will be removed from pandas in a future version. Use pandas.concat instead.\n",
      "\u001b[2m\u001b[36m(TrainLightGCN pid=1023911)\u001b[0m   df = train if test is None else train.append(test)\n"
     ]
    },
    {
     "name": "stdout",
     "output_type": "stream",
     "text": [
      "\u001b[2m\u001b[36m(TrainLightGCN pid=1023911)\u001b[0m Already create adjacency matrix.\n",
      "\u001b[2m\u001b[36m(TrainLightGCN pid=1023911)\u001b[0m Already normalize adjacency matrix.\n",
      "\u001b[2m\u001b[36m(TrainLightGCN pid=1023911)\u001b[0m Using xavier initialization.\n"
     ]
    },
    {
     "name": "stderr",
     "output_type": "stream",
     "text": [
      "\u001b[2m\u001b[36m(TrainLightGCN pid=1022687)\u001b[0m Checkpoint successfully created at: Checkpoint(filesystem=local, path=/home/daviddavo/ray_results/TrainLightGCN_2023-11-10_20-19-58/TrainLightGCN_ae86f257_84_trial_index=3,batch_size=5,conv_layers=4,embedding_dim=95,l2=0.0000,learning_rate=0.0061_2023-11-10_22-23-18/checkpoint_000000)\n",
      "\u001b[2m\u001b[36m(pid=1024950)\u001b[0m 2023-11-10 22:44:38.261188: E tensorflow/compiler/xla/stream_executor/cuda/cuda_dnn.cc:9342] Unable to register cuDNN factory: Attempting to register factory for plugin cuDNN when one has already been registered\n",
      "\u001b[2m\u001b[36m(pid=1024950)\u001b[0m 2023-11-10 22:44:38.261221: E tensorflow/compiler/xla/stream_executor/cuda/cuda_fft.cc:609] Unable to register cuFFT factory: Attempting to register factory for plugin cuFFT when one has already been registered\n",
      "\u001b[2m\u001b[36m(pid=1024950)\u001b[0m 2023-11-10 22:44:38.261232: E tensorflow/compiler/xla/stream_executor/cuda/cuda_blas.cc:1518] Unable to register cuBLAS factory: Attempting to register factory for plugin cuBLAS when one has already been registered\n",
      "\u001b[2m\u001b[36m(TrainLightGCN pid=1024950)\u001b[0m /home/daviddavo/upm-tfm-notebooks/.direnv/python-3.9/lib/python3.9/site-packages/recommenders/models/deeprec/DataModel/ImplicitCF.py:73: FutureWarning: The frame.append method is deprecated and will be removed from pandas in a future version. Use pandas.concat instead.\n",
      "\u001b[2m\u001b[36m(TrainLightGCN pid=1024950)\u001b[0m   df = train if test is None else train.append(test)\n"
     ]
    },
    {
     "name": "stdout",
     "output_type": "stream",
     "text": [
      "\u001b[2m\u001b[36m(TrainLightGCN pid=1024950)\u001b[0m Already create adjacency matrix.\n",
      "\u001b[2m\u001b[36m(TrainLightGCN pid=1024950)\u001b[0m Already normalize adjacency matrix.\n",
      "\u001b[2m\u001b[36m(TrainLightGCN pid=1024950)\u001b[0m Using xavier initialization.\n"
     ]
    },
    {
     "name": "stderr",
     "output_type": "stream",
     "text": [
      "\u001b[2m\u001b[36m(TrainLightGCN pid=1020752)\u001b[0m Checkpoint successfully created at: Checkpoint(filesystem=local, path=/home/daviddavo/ray_results/TrainLightGCN_2023-11-10_20-19-58/TrainLightGCN_be909ed1_79_trial_index=8,batch_size=6,conv_layers=4,embedding_dim=85,l2=0.0660,learning_rate=0.0028_2023-11-10_22-08-04/checkpoint_000000)\n",
      "\u001b[2m\u001b[36m(pid=1025351)\u001b[0m 2023-11-10 22:47:23.291012: E tensorflow/compiler/xla/stream_executor/cuda/cuda_dnn.cc:9342] Unable to register cuDNN factory: Attempting to register factory for plugin cuDNN when one has already been registered\n",
      "\u001b[2m\u001b[36m(pid=1025351)\u001b[0m 2023-11-10 22:47:23.291123: E tensorflow/compiler/xla/stream_executor/cuda/cuda_fft.cc:609] Unable to register cuFFT factory: Attempting to register factory for plugin cuFFT when one has already been registered\n",
      "\u001b[2m\u001b[36m(pid=1025351)\u001b[0m 2023-11-10 22:47:23.291138: E tensorflow/compiler/xla/stream_executor/cuda/cuda_blas.cc:1518] Unable to register cuBLAS factory: Attempting to register factory for plugin cuBLAS when one has already been registered\n",
      "\u001b[2m\u001b[36m(TrainLightGCN pid=1025351)\u001b[0m /home/daviddavo/upm-tfm-notebooks/.direnv/python-3.9/lib/python3.9/site-packages/recommenders/models/deeprec/DataModel/ImplicitCF.py:73: FutureWarning: The frame.append method is deprecated and will be removed from pandas in a future version. Use pandas.concat instead.\n",
      "\u001b[2m\u001b[36m(TrainLightGCN pid=1025351)\u001b[0m   df = train if test is None else train.append(test)\n"
     ]
    },
    {
     "name": "stdout",
     "output_type": "stream",
     "text": [
      "\u001b[2m\u001b[36m(TrainLightGCN pid=1025351)\u001b[0m Already create adjacency matrix.\n",
      "\u001b[2m\u001b[36m(TrainLightGCN pid=1025351)\u001b[0m Already normalize adjacency matrix.\n",
      "\u001b[2m\u001b[36m(TrainLightGCN pid=1025351)\u001b[0m Using xavier initialization.\n"
     ]
    },
    {
     "name": "stderr",
     "output_type": "stream",
     "text": [
      "\u001b[2m\u001b[36m(TrainLightGCN pid=1022808)\u001b[0m Checkpoint successfully created at: Checkpoint(filesystem=local, path=/home/daviddavo/ray_results/TrainLightGCN_2023-11-10_20-19-58/TrainLightGCN_7ffabe27_85_trial_index=4,batch_size=5,conv_layers=4,embedding_dim=95,l2=0.0000,learning_rate=0.0061_2023-11-10_22-26-31/checkpoint_000000)\n",
      "\u001b[2m\u001b[36m(pid=1025673)\u001b[0m 2023-11-10 22:49:19.561853: E tensorflow/compiler/xla/stream_executor/cuda/cuda_dnn.cc:9342] Unable to register cuDNN factory: Attempting to register factory for plugin cuDNN when one has already been registered\n",
      "\u001b[2m\u001b[36m(pid=1025673)\u001b[0m 2023-11-10 22:49:19.561903: E tensorflow/compiler/xla/stream_executor/cuda/cuda_fft.cc:609] Unable to register cuFFT factory: Attempting to register factory for plugin cuFFT when one has already been registered\n",
      "\u001b[2m\u001b[36m(pid=1025673)\u001b[0m 2023-11-10 22:49:19.561927: E tensorflow/compiler/xla/stream_executor/cuda/cuda_blas.cc:1518] Unable to register cuBLAS factory: Attempting to register factory for plugin cuBLAS when one has already been registered\n",
      "\u001b[2m\u001b[36m(TrainLightGCN pid=1025673)\u001b[0m /home/daviddavo/upm-tfm-notebooks/.direnv/python-3.9/lib/python3.9/site-packages/recommenders/models/deeprec/DataModel/ImplicitCF.py:73: FutureWarning: The frame.append method is deprecated and will be removed from pandas in a future version. Use pandas.concat instead.\n",
      "\u001b[2m\u001b[36m(TrainLightGCN pid=1025673)\u001b[0m   df = train if test is None else train.append(test)\n"
     ]
    },
    {
     "name": "stdout",
     "output_type": "stream",
     "text": [
      "\u001b[2m\u001b[36m(TrainLightGCN pid=1025673)\u001b[0m Already create adjacency matrix.\n",
      "\u001b[2m\u001b[36m(TrainLightGCN pid=1025673)\u001b[0m Already normalize adjacency matrix.\n",
      "\u001b[2m\u001b[36m(TrainLightGCN pid=1025673)\u001b[0m Using xavier initialization.\n"
     ]
    },
    {
     "name": "stderr",
     "output_type": "stream",
     "text": [
      "\u001b[2m\u001b[36m(TrainLightGCN pid=1021104)\u001b[0m Checkpoint successfully created at: Checkpoint(filesystem=local, path=/home/daviddavo/ray_results/TrainLightGCN_2023-11-10_20-19-58/TrainLightGCN_f189b116_80_trial_index=9,batch_size=6,conv_layers=4,embedding_dim=85,l2=0.0660,learning_rate=0.0028_2023-11-10_22-13-25/checkpoint_000000)\n",
      "\u001b[2m\u001b[36m(pid=1026742)\u001b[0m 2023-11-10 22:59:18.410438: E tensorflow/compiler/xla/stream_executor/cuda/cuda_dnn.cc:9342] Unable to register cuDNN factory: Attempting to register factory for plugin cuDNN when one has already been registered\n",
      "\u001b[2m\u001b[36m(pid=1026742)\u001b[0m 2023-11-10 22:59:18.410476: E tensorflow/compiler/xla/stream_executor/cuda/cuda_fft.cc:609] Unable to register cuFFT factory: Attempting to register factory for plugin cuFFT when one has already been registered\n",
      "\u001b[2m\u001b[36m(pid=1026742)\u001b[0m 2023-11-10 22:59:18.410488: E tensorflow/compiler/xla/stream_executor/cuda/cuda_blas.cc:1518] Unable to register cuBLAS factory: Attempting to register factory for plugin cuBLAS when one has already been registered\n",
      "\u001b[2m\u001b[36m(TrainLightGCN pid=1026742)\u001b[0m /home/daviddavo/upm-tfm-notebooks/.direnv/python-3.9/lib/python3.9/site-packages/recommenders/models/deeprec/DataModel/ImplicitCF.py:73: FutureWarning: The frame.append method is deprecated and will be removed from pandas in a future version. Use pandas.concat instead.\n",
      "\u001b[2m\u001b[36m(TrainLightGCN pid=1026742)\u001b[0m   df = train if test is None else train.append(test)\n"
     ]
    },
    {
     "name": "stdout",
     "output_type": "stream",
     "text": [
      "\u001b[2m\u001b[36m(TrainLightGCN pid=1026742)\u001b[0m Already create adjacency matrix.\n",
      "\u001b[2m\u001b[36m(TrainLightGCN pid=1026742)\u001b[0m Already normalize adjacency matrix.\n",
      "\u001b[2m\u001b[36m(TrainLightGCN pid=1026742)\u001b[0m Using xavier initialization.\n"
     ]
    },
    {
     "name": "stderr",
     "output_type": "stream",
     "text": [
      "\u001b[2m\u001b[36m(TrainLightGCN pid=1023460)\u001b[0m Checkpoint successfully created at: Checkpoint(filesystem=local, path=/home/daviddavo/ray_results/TrainLightGCN_2023-11-10_20-19-58/TrainLightGCN_7eb645e3_86_trial_index=5,batch_size=5,conv_layers=4,embedding_dim=95,l2=0.0000,learning_rate=0.0061_2023-11-10_22-26-34/checkpoint_000000)\n",
      "\u001b[2m\u001b[36m(pid=1027033)\u001b[0m 2023-11-10 23:00:52.378990: E tensorflow/compiler/xla/stream_executor/cuda/cuda_dnn.cc:9342] Unable to register cuDNN factory: Attempting to register factory for plugin cuDNN when one has already been registered\n",
      "\u001b[2m\u001b[36m(pid=1027033)\u001b[0m 2023-11-10 23:00:52.379027: E tensorflow/compiler/xla/stream_executor/cuda/cuda_fft.cc:609] Unable to register cuFFT factory: Attempting to register factory for plugin cuFFT when one has already been registered\n",
      "\u001b[2m\u001b[36m(pid=1027033)\u001b[0m 2023-11-10 23:00:52.379038: E tensorflow/compiler/xla/stream_executor/cuda/cuda_blas.cc:1518] Unable to register cuBLAS factory: Attempting to register factory for plugin cuBLAS when one has already been registered\n",
      "\u001b[2m\u001b[36m(TrainLightGCN pid=1027033)\u001b[0m /home/daviddavo/upm-tfm-notebooks/.direnv/python-3.9/lib/python3.9/site-packages/recommenders/models/deeprec/DataModel/ImplicitCF.py:73: FutureWarning: The frame.append method is deprecated and will be removed from pandas in a future version. Use pandas.concat instead.\n",
      "\u001b[2m\u001b[36m(TrainLightGCN pid=1027033)\u001b[0m   df = train if test is None else train.append(test)\n"
     ]
    },
    {
     "name": "stdout",
     "output_type": "stream",
     "text": [
      "\u001b[2m\u001b[36m(TrainLightGCN pid=1027033)\u001b[0m Using xavier initialization.\n",
      "\u001b[2m\u001b[36m(TrainLightGCN pid=1027033)\u001b[0m Already create adjacency matrix.\n",
      "\u001b[2m\u001b[36m(TrainLightGCN pid=1027033)\u001b[0m Already normalize adjacency matrix.\n"
     ]
    },
    {
     "name": "stderr",
     "output_type": "stream",
     "text": [
      "\u001b[2m\u001b[36m(TrainLightGCN pid=1026742)\u001b[0m Checkpoint successfully created at: Checkpoint(filesystem=local, path=/home/daviddavo/ray_results/TrainLightGCN_2023-11-10_20-19-58/TrainLightGCN_d236556b_91_trial_index=0,batch_size=5,conv_layers=5,embedding_dim=425,l2=0.0002,learning_rate=0.0021_2023-11-10_22-49-22/checkpoint_000000)\n",
      "\u001b[2m\u001b[36m(pid=1027309)\u001b[0m 2023-11-10 23:02:16.490625: E tensorflow/compiler/xla/stream_executor/cuda/cuda_dnn.cc:9342] Unable to register cuDNN factory: Attempting to register factory for plugin cuDNN when one has already been registered\n",
      "\u001b[2m\u001b[36m(pid=1027309)\u001b[0m 2023-11-10 23:02:16.490659: E tensorflow/compiler/xla/stream_executor/cuda/cuda_fft.cc:609] Unable to register cuFFT factory: Attempting to register factory for plugin cuFFT when one has already been registered\n",
      "\u001b[2m\u001b[36m(pid=1027309)\u001b[0m 2023-11-10 23:02:16.490671: E tensorflow/compiler/xla/stream_executor/cuda/cuda_blas.cc:1518] Unable to register cuBLAS factory: Attempting to register factory for plugin cuBLAS when one has already been registered\n",
      "\u001b[2m\u001b[36m(TrainLightGCN pid=1027309)\u001b[0m /home/daviddavo/upm-tfm-notebooks/.direnv/python-3.9/lib/python3.9/site-packages/recommenders/models/deeprec/DataModel/ImplicitCF.py:73: FutureWarning: The frame.append method is deprecated and will be removed from pandas in a future version. Use pandas.concat instead.\n",
      "\u001b[2m\u001b[36m(TrainLightGCN pid=1027309)\u001b[0m   df = train if test is None else train.append(test)\n"
     ]
    },
    {
     "name": "stdout",
     "output_type": "stream",
     "text": [
      "\u001b[2m\u001b[36m(TrainLightGCN pid=1027309)\u001b[0m Already create adjacency matrix.\n",
      "\u001b[2m\u001b[36m(TrainLightGCN pid=1027309)\u001b[0m Already normalize adjacency matrix.\n",
      "\u001b[2m\u001b[36m(TrainLightGCN pid=1027309)\u001b[0m Using xavier initialization.\n"
     ]
    },
    {
     "name": "stderr",
     "output_type": "stream",
     "text": [
      "\u001b[2m\u001b[36m(TrainLightGCN pid=1027033)\u001b[0m Checkpoint successfully created at: Checkpoint(filesystem=local, path=/home/daviddavo/ray_results/TrainLightGCN_2023-11-10_20-19-58/TrainLightGCN_22194807_92_trial_index=1,batch_size=5,conv_layers=5,embedding_dim=425,l2=0.0002,learning_rate=0.0021_2023-11-10_22-59-20/checkpoint_000000)\n",
      "\u001b[2m\u001b[36m(pid=1027839)\u001b[0m 2023-11-10 23:06:28.473700: E tensorflow/compiler/xla/stream_executor/cuda/cuda_dnn.cc:9342] Unable to register cuDNN factory: Attempting to register factory for plugin cuDNN when one has already been registered\n",
      "\u001b[2m\u001b[36m(pid=1027839)\u001b[0m 2023-11-10 23:06:28.473736: E tensorflow/compiler/xla/stream_executor/cuda/cuda_fft.cc:609] Unable to register cuFFT factory: Attempting to register factory for plugin cuFFT when one has already been registered\n",
      "\u001b[2m\u001b[36m(pid=1027839)\u001b[0m 2023-11-10 23:06:28.473747: E tensorflow/compiler/xla/stream_executor/cuda/cuda_blas.cc:1518] Unable to register cuBLAS factory: Attempting to register factory for plugin cuBLAS when one has already been registered\n",
      "\u001b[2m\u001b[36m(TrainLightGCN pid=1027839)\u001b[0m /home/daviddavo/upm-tfm-notebooks/.direnv/python-3.9/lib/python3.9/site-packages/recommenders/models/deeprec/DataModel/ImplicitCF.py:73: FutureWarning: The frame.append method is deprecated and will be removed from pandas in a future version. Use pandas.concat instead.\n",
      "\u001b[2m\u001b[36m(TrainLightGCN pid=1027839)\u001b[0m   df = train if test is None else train.append(test)\n"
     ]
    },
    {
     "name": "stdout",
     "output_type": "stream",
     "text": [
      "\u001b[2m\u001b[36m(TrainLightGCN pid=1027839)\u001b[0m Using xavier initialization.\n",
      "\u001b[2m\u001b[36m(TrainLightGCN pid=1027839)\u001b[0m Already create adjacency matrix.\n",
      "\u001b[2m\u001b[36m(TrainLightGCN pid=1027839)\u001b[0m Already normalize adjacency matrix.\n"
     ]
    },
    {
     "name": "stderr",
     "output_type": "stream",
     "text": [
      "\u001b[2m\u001b[36m(TrainLightGCN pid=1023911)\u001b[0m Checkpoint successfully created at: Checkpoint(filesystem=local, path=/home/daviddavo/ray_results/TrainLightGCN_2023-11-10_20-19-58/TrainLightGCN_e00c401a_87_trial_index=6,batch_size=5,conv_layers=4,embedding_dim=95,l2=0.0000,learning_rate=0.0061_2023-11-10_22-31-43/checkpoint_000000)\n",
      "\u001b[2m\u001b[36m(pid=1028627)\u001b[0m 2023-11-10 23:13:23.548482: E tensorflow/compiler/xla/stream_executor/cuda/cuda_dnn.cc:9342] Unable to register cuDNN factory: Attempting to register factory for plugin cuDNN when one has already been registered\n",
      "\u001b[2m\u001b[36m(pid=1028627)\u001b[0m 2023-11-10 23:13:23.548517: E tensorflow/compiler/xla/stream_executor/cuda/cuda_fft.cc:609] Unable to register cuFFT factory: Attempting to register factory for plugin cuFFT when one has already been registered\n",
      "\u001b[2m\u001b[36m(pid=1028627)\u001b[0m 2023-11-10 23:13:23.548531: E tensorflow/compiler/xla/stream_executor/cuda/cuda_blas.cc:1518] Unable to register cuBLAS factory: Attempting to register factory for plugin cuBLAS when one has already been registered\n",
      "\u001b[2m\u001b[36m(TrainLightGCN pid=1028627)\u001b[0m /home/daviddavo/upm-tfm-notebooks/.direnv/python-3.9/lib/python3.9/site-packages/recommenders/models/deeprec/DataModel/ImplicitCF.py:73: FutureWarning: The frame.append method is deprecated and will be removed from pandas in a future version. Use pandas.concat instead.\n",
      "\u001b[2m\u001b[36m(TrainLightGCN pid=1028627)\u001b[0m   df = train if test is None else train.append(test)\n"
     ]
    },
    {
     "name": "stdout",
     "output_type": "stream",
     "text": [
      "\u001b[2m\u001b[36m(TrainLightGCN pid=1028627)\u001b[0m Already create adjacency matrix.\n",
      "\u001b[2m\u001b[36m(TrainLightGCN pid=1028627)\u001b[0m Already normalize adjacency matrix.\n",
      "\u001b[2m\u001b[36m(TrainLightGCN pid=1028627)\u001b[0m Using xavier initialization.\n"
     ]
    },
    {
     "name": "stderr",
     "output_type": "stream",
     "text": [
      "\u001b[2m\u001b[36m(TrainLightGCN pid=1010095)\u001b[0m Checkpoint successfully created at: Checkpoint(filesystem=local, path=/home/daviddavo/ray_results/TrainLightGCN_2023-11-10_20-19-58/TrainLightGCN_61f31df1_49_trial_index=8,batch_size=4,conv_layers=4,embedding_dim=65,l2=0.0000,learning_rate=0.0003_2023-11-10_21-00-16/checkpoint_000000)\n",
      "\u001b[2m\u001b[36m(pid=1028778)\u001b[0m 2023-11-10 23:13:32.478476: E tensorflow/compiler/xla/stream_executor/cuda/cuda_dnn.cc:9342] Unable to register cuDNN factory: Attempting to register factory for plugin cuDNN when one has already been registered\n",
      "\u001b[2m\u001b[36m(pid=1028778)\u001b[0m 2023-11-10 23:13:32.478511: E tensorflow/compiler/xla/stream_executor/cuda/cuda_fft.cc:609] Unable to register cuFFT factory: Attempting to register factory for plugin cuFFT when one has already been registered\n",
      "\u001b[2m\u001b[36m(pid=1028778)\u001b[0m 2023-11-10 23:13:32.478525: E tensorflow/compiler/xla/stream_executor/cuda/cuda_blas.cc:1518] Unable to register cuBLAS factory: Attempting to register factory for plugin cuBLAS when one has already been registered\n",
      "\u001b[2m\u001b[36m(TrainLightGCN pid=1028778)\u001b[0m /home/daviddavo/upm-tfm-notebooks/.direnv/python-3.9/lib/python3.9/site-packages/recommenders/models/deeprec/DataModel/ImplicitCF.py:73: FutureWarning: The frame.append method is deprecated and will be removed from pandas in a future version. Use pandas.concat instead.\n",
      "\u001b[2m\u001b[36m(TrainLightGCN pid=1028778)\u001b[0m   df = train if test is None else train.append(test)\n"
     ]
    },
    {
     "name": "stdout",
     "output_type": "stream",
     "text": [
      "\u001b[2m\u001b[36m(TrainLightGCN pid=1028778)\u001b[0m Already create adjacency matrix.\n",
      "\u001b[2m\u001b[36m(TrainLightGCN pid=1028778)\u001b[0m Already normalize adjacency matrix.\n",
      "\u001b[2m\u001b[36m(TrainLightGCN pid=1028778)\u001b[0m Using xavier initialization.\n"
     ]
    },
    {
     "name": "stderr",
     "output_type": "stream",
     "text": [
      "\u001b[2m\u001b[36m(TrainLightGCN pid=1027309)\u001b[0m Checkpoint successfully created at: Checkpoint(filesystem=local, path=/home/daviddavo/ray_results/TrainLightGCN_2023-11-10_20-19-58/TrainLightGCN_aac8ba2a_93_trial_index=2,batch_size=5,conv_layers=5,embedding_dim=425,l2=0.0002,learning_rate=0.0021_2023-11-10_23-00-54/checkpoint_000000)\n",
      "\u001b[2m\u001b[36m(pid=1029256)\u001b[0m 2023-11-10 23:17:03.551830: E tensorflow/compiler/xla/stream_executor/cuda/cuda_dnn.cc:9342] Unable to register cuDNN factory: Attempting to register factory for plugin cuDNN when one has already been registered\n",
      "\u001b[2m\u001b[36m(pid=1029256)\u001b[0m 2023-11-10 23:17:03.551866: E tensorflow/compiler/xla/stream_executor/cuda/cuda_fft.cc:609] Unable to register cuFFT factory: Attempting to register factory for plugin cuFFT when one has already been registered\n",
      "\u001b[2m\u001b[36m(pid=1029256)\u001b[0m 2023-11-10 23:17:03.551877: E tensorflow/compiler/xla/stream_executor/cuda/cuda_blas.cc:1518] Unable to register cuBLAS factory: Attempting to register factory for plugin cuBLAS when one has already been registered\n",
      "\u001b[2m\u001b[36m(TrainLightGCN pid=1029256)\u001b[0m /home/daviddavo/upm-tfm-notebooks/.direnv/python-3.9/lib/python3.9/site-packages/recommenders/models/deeprec/DataModel/ImplicitCF.py:73: FutureWarning: The frame.append method is deprecated and will be removed from pandas in a future version. Use pandas.concat instead.\n",
      "\u001b[2m\u001b[36m(TrainLightGCN pid=1029256)\u001b[0m   df = train if test is None else train.append(test)\n"
     ]
    },
    {
     "name": "stdout",
     "output_type": "stream",
     "text": [
      "\u001b[2m\u001b[36m(TrainLightGCN pid=1029256)\u001b[0m Already create adjacency matrix.\n",
      "\u001b[2m\u001b[36m(TrainLightGCN pid=1029256)\u001b[0m Already normalize adjacency matrix.\n",
      "\u001b[2m\u001b[36m(TrainLightGCN pid=1029256)\u001b[0m Using xavier initialization.\n"
     ]
    },
    {
     "name": "stderr",
     "output_type": "stream",
     "text": [
      "\u001b[2m\u001b[36m(TrainLightGCN pid=1027839)\u001b[0m Checkpoint successfully created at: Checkpoint(filesystem=local, path=/home/daviddavo/ray_results/TrainLightGCN_2023-11-10_20-19-58/TrainLightGCN_d285ffbb_94_trial_index=3,batch_size=5,conv_layers=5,embedding_dim=425,l2=0.0002,learning_rate=0.0021_2023-11-10_23-02-18/checkpoint_000000)\n",
      "\u001b[2m\u001b[36m(pid=1031110)\u001b[0m 2023-11-10 23:34:24.842015: E tensorflow/compiler/xla/stream_executor/cuda/cuda_dnn.cc:9342] Unable to register cuDNN factory: Attempting to register factory for plugin cuDNN when one has already been registered\n",
      "\u001b[2m\u001b[36m(pid=1031110)\u001b[0m 2023-11-10 23:34:24.842050: E tensorflow/compiler/xla/stream_executor/cuda/cuda_fft.cc:609] Unable to register cuFFT factory: Attempting to register factory for plugin cuFFT when one has already been registered\n",
      "\u001b[2m\u001b[36m(pid=1031110)\u001b[0m 2023-11-10 23:34:24.842061: E tensorflow/compiler/xla/stream_executor/cuda/cuda_blas.cc:1518] Unable to register cuBLAS factory: Attempting to register factory for plugin cuBLAS when one has already been registered\n",
      "\u001b[2m\u001b[36m(TrainLightGCN pid=1031110)\u001b[0m /home/daviddavo/upm-tfm-notebooks/.direnv/python-3.9/lib/python3.9/site-packages/recommenders/models/deeprec/DataModel/ImplicitCF.py:73: FutureWarning: The frame.append method is deprecated and will be removed from pandas in a future version. Use pandas.concat instead.\n",
      "\u001b[2m\u001b[36m(TrainLightGCN pid=1031110)\u001b[0m   df = train if test is None else train.append(test)\n"
     ]
    },
    {
     "name": "stdout",
     "output_type": "stream",
     "text": [
      "\u001b[2m\u001b[36m(TrainLightGCN pid=1031110)\u001b[0m Already normalize adjacency matrix.\n",
      "\u001b[2m\u001b[36m(TrainLightGCN pid=1031110)\u001b[0m Already create adjacency matrix.\n",
      "\u001b[2m\u001b[36m(TrainLightGCN pid=1031110)\u001b[0m Using xavier initialization.\n"
     ]
    },
    {
     "name": "stderr",
     "output_type": "stream",
     "text": [
      "\u001b[2m\u001b[36m(TrainLightGCN pid=1024950)\u001b[0m Checkpoint successfully created at: Checkpoint(filesystem=local, path=/home/daviddavo/ray_results/TrainLightGCN_2023-11-10_20-19-58/TrainLightGCN_88fc9ed5_88_trial_index=7,batch_size=5,conv_layers=4,embedding_dim=95,l2=0.0000,learning_rate=0.0061_2023-11-10_22-35-00/checkpoint_000000)\n",
      "\u001b[2m\u001b[36m(pid=1032636)\u001b[0m 2023-11-10 23:49:14.829727: E tensorflow/compiler/xla/stream_executor/cuda/cuda_dnn.cc:9342] Unable to register cuDNN factory: Attempting to register factory for plugin cuDNN when one has already been registered\n",
      "\u001b[2m\u001b[36m(pid=1032636)\u001b[0m 2023-11-10 23:49:14.829761: E tensorflow/compiler/xla/stream_executor/cuda/cuda_fft.cc:609] Unable to register cuFFT factory: Attempting to register factory for plugin cuFFT when one has already been registered\n",
      "\u001b[2m\u001b[36m(pid=1032636)\u001b[0m 2023-11-10 23:49:14.829774: E tensorflow/compiler/xla/stream_executor/cuda/cuda_blas.cc:1518] Unable to register cuBLAS factory: Attempting to register factory for plugin cuBLAS when one has already been registered\n",
      "\u001b[2m\u001b[36m(TrainLightGCN pid=1032636)\u001b[0m /home/daviddavo/upm-tfm-notebooks/.direnv/python-3.9/lib/python3.9/site-packages/recommenders/models/deeprec/DataModel/ImplicitCF.py:73: FutureWarning: The frame.append method is deprecated and will be removed from pandas in a future version. Use pandas.concat instead.\n",
      "\u001b[2m\u001b[36m(TrainLightGCN pid=1032636)\u001b[0m   df = train if test is None else train.append(test)\n"
     ]
    },
    {
     "name": "stdout",
     "output_type": "stream",
     "text": [
      "\u001b[2m\u001b[36m(TrainLightGCN pid=1032636)\u001b[0m Already create adjacency matrix.\n",
      "\u001b[2m\u001b[36m(TrainLightGCN pid=1032636)\u001b[0m Using xavier initialization.\n",
      "\u001b[2m\u001b[36m(TrainLightGCN pid=1032636)\u001b[0m Already normalize adjacency matrix.\n"
     ]
    },
    {
     "name": "stderr",
     "output_type": "stream",
     "text": [
      "\u001b[2m\u001b[36m(TrainLightGCN pid=1028627)\u001b[0m Checkpoint successfully created at: Checkpoint(filesystem=local, path=/home/daviddavo/ray_results/TrainLightGCN_2023-11-10_20-19-58/TrainLightGCN_c6c083cc_95_trial_index=4,batch_size=5,conv_layers=5,embedding_dim=425,l2=0.0002,learning_rate=0.0021_2023-11-10_23-06-30/checkpoint_000000)\n",
      "\u001b[2m\u001b[36m(pid=1033369)\u001b[0m 2023-11-10 23:54:47.863695: E tensorflow/compiler/xla/stream_executor/cuda/cuda_dnn.cc:9342] Unable to register cuDNN factory: Attempting to register factory for plugin cuDNN when one has already been registered\n",
      "\u001b[2m\u001b[36m(pid=1033369)\u001b[0m 2023-11-10 23:54:47.863730: E tensorflow/compiler/xla/stream_executor/cuda/cuda_fft.cc:609] Unable to register cuFFT factory: Attempting to register factory for plugin cuFFT when one has already been registered\n",
      "\u001b[2m\u001b[36m(pid=1033369)\u001b[0m 2023-11-10 23:54:47.863745: E tensorflow/compiler/xla/stream_executor/cuda/cuda_blas.cc:1518] Unable to register cuBLAS factory: Attempting to register factory for plugin cuBLAS when one has already been registered\n",
      "\u001b[2m\u001b[36m(TrainLightGCN pid=1033369)\u001b[0m /home/daviddavo/upm-tfm-notebooks/.direnv/python-3.9/lib/python3.9/site-packages/recommenders/models/deeprec/DataModel/ImplicitCF.py:73: FutureWarning: The frame.append method is deprecated and will be removed from pandas in a future version. Use pandas.concat instead.\n",
      "\u001b[2m\u001b[36m(TrainLightGCN pid=1033369)\u001b[0m   df = train if test is None else train.append(test)\n"
     ]
    },
    {
     "name": "stdout",
     "output_type": "stream",
     "text": [
      "\u001b[2m\u001b[36m(TrainLightGCN pid=1033369)\u001b[0m Already create adjacency matrix.\n",
      "\u001b[2m\u001b[36m(TrainLightGCN pid=1033369)\u001b[0m Already normalize adjacency matrix.\n",
      "\u001b[2m\u001b[36m(TrainLightGCN pid=1033369)\u001b[0m Using xavier initialization.\n"
     ]
    },
    {
     "name": "stderr",
     "output_type": "stream",
     "text": [
      "\u001b[2m\u001b[36m(TrainLightGCN pid=1028778)\u001b[0m Checkpoint successfully created at: Checkpoint(filesystem=local, path=/home/daviddavo/ray_results/TrainLightGCN_2023-11-10_20-19-58/TrainLightGCN_6dc840a0_96_trial_index=5,batch_size=5,conv_layers=5,embedding_dim=425,l2=0.0002,learning_rate=0.0021_2023-11-10_23-13-25/checkpoint_000000)\n",
      "\u001b[2m\u001b[36m(pid=1034733)\u001b[0m 2023-11-11 00:09:07.971539: E tensorflow/compiler/xla/stream_executor/cuda/cuda_dnn.cc:9342] Unable to register cuDNN factory: Attempting to register factory for plugin cuDNN when one has already been registered\n",
      "\u001b[2m\u001b[36m(pid=1034733)\u001b[0m 2023-11-11 00:09:07.971573: E tensorflow/compiler/xla/stream_executor/cuda/cuda_fft.cc:609] Unable to register cuFFT factory: Attempting to register factory for plugin cuFFT when one has already been registered\n",
      "\u001b[2m\u001b[36m(pid=1034733)\u001b[0m 2023-11-11 00:09:07.971584: E tensorflow/compiler/xla/stream_executor/cuda/cuda_blas.cc:1518] Unable to register cuBLAS factory: Attempting to register factory for plugin cuBLAS when one has already been registered\n",
      "\u001b[2m\u001b[36m(TrainLightGCN pid=1034733)\u001b[0m /home/daviddavo/upm-tfm-notebooks/.direnv/python-3.9/lib/python3.9/site-packages/recommenders/models/deeprec/DataModel/ImplicitCF.py:73: FutureWarning: The frame.append method is deprecated and will be removed from pandas in a future version. Use pandas.concat instead.\n",
      "\u001b[2m\u001b[36m(TrainLightGCN pid=1034733)\u001b[0m   df = train if test is None else train.append(test)\n"
     ]
    },
    {
     "name": "stdout",
     "output_type": "stream",
     "text": [
      "\u001b[2m\u001b[36m(TrainLightGCN pid=1034733)\u001b[0m Already create adjacency matrix.\n",
      "\u001b[2m\u001b[36m(TrainLightGCN pid=1034733)\u001b[0m Already normalize adjacency matrix.\n",
      "\u001b[2m\u001b[36m(TrainLightGCN pid=1034733)\u001b[0m Using xavier initialization.\n"
     ]
    },
    {
     "name": "stderr",
     "output_type": "stream",
     "text": [
      "\u001b[2m\u001b[36m(TrainLightGCN pid=1034733)\u001b[0m Checkpoint successfully created at: Checkpoint(filesystem=local, path=/home/daviddavo/ray_results/TrainLightGCN_2023-11-10_20-19-58/TrainLightGCN_cae9ce17_101_trial_index=0,batch_size=8,conv_layers=4,embedding_dim=30,l2=0.0272,learning_rate=0.0112_2023-11-10_23-54-51/checkpoint_000000)\n",
      "\u001b[2m\u001b[36m(pid=1034878)\u001b[0m 2023-11-11 00:10:06.971398: E tensorflow/compiler/xla/stream_executor/cuda/cuda_dnn.cc:9342] Unable to register cuDNN factory: Attempting to register factory for plugin cuDNN when one has already been registered\n",
      "\u001b[2m\u001b[36m(pid=1034878)\u001b[0m 2023-11-11 00:10:06.971433: E tensorflow/compiler/xla/stream_executor/cuda/cuda_fft.cc:609] Unable to register cuFFT factory: Attempting to register factory for plugin cuFFT when one has already been registered\n",
      "\u001b[2m\u001b[36m(pid=1034878)\u001b[0m 2023-11-11 00:10:06.971445: E tensorflow/compiler/xla/stream_executor/cuda/cuda_blas.cc:1518] Unable to register cuBLAS factory: Attempting to register factory for plugin cuBLAS when one has already been registered\n",
      "\u001b[2m\u001b[36m(TrainLightGCN pid=1034878)\u001b[0m /home/daviddavo/upm-tfm-notebooks/.direnv/python-3.9/lib/python3.9/site-packages/recommenders/models/deeprec/DataModel/ImplicitCF.py:73: FutureWarning: The frame.append method is deprecated and will be removed from pandas in a future version. Use pandas.concat instead.\n",
      "\u001b[2m\u001b[36m(TrainLightGCN pid=1034878)\u001b[0m   df = train if test is None else train.append(test)\n"
     ]
    },
    {
     "name": "stdout",
     "output_type": "stream",
     "text": [
      "\u001b[2m\u001b[36m(TrainLightGCN pid=1034878)\u001b[0m Already normalize adjacency matrix.\n",
      "\u001b[2m\u001b[36m(TrainLightGCN pid=1034878)\u001b[0m Using xavier initialization.\n",
      "\u001b[2m\u001b[36m(TrainLightGCN pid=1034878)\u001b[0m Already create adjacency matrix.\n"
     ]
    },
    {
     "name": "stderr",
     "output_type": "stream",
     "text": [
      "\u001b[2m\u001b[36m(TrainLightGCN pid=1034878)\u001b[0m Checkpoint successfully created at: Checkpoint(filesystem=local, path=/home/daviddavo/ray_results/TrainLightGCN_2023-11-10_20-19-58/TrainLightGCN_b191ee4d_102_trial_index=1,batch_size=8,conv_layers=4,embedding_dim=30,l2=0.0272,learning_rate=0.0112_2023-11-11_00-09-10/checkpoint_000000)\n",
      "\u001b[2m\u001b[36m(pid=1035022)\u001b[0m 2023-11-11 00:11:47.032122: E tensorflow/compiler/xla/stream_executor/cuda/cuda_dnn.cc:9342] Unable to register cuDNN factory: Attempting to register factory for plugin cuDNN when one has already been registered\n",
      "\u001b[2m\u001b[36m(pid=1035022)\u001b[0m 2023-11-11 00:11:47.032233: E tensorflow/compiler/xla/stream_executor/cuda/cuda_fft.cc:609] Unable to register cuFFT factory: Attempting to register factory for plugin cuFFT when one has already been registered\n",
      "\u001b[2m\u001b[36m(pid=1035022)\u001b[0m 2023-11-11 00:11:47.032248: E tensorflow/compiler/xla/stream_executor/cuda/cuda_blas.cc:1518] Unable to register cuBLAS factory: Attempting to register factory for plugin cuBLAS when one has already been registered\n",
      "\u001b[2m\u001b[36m(TrainLightGCN pid=1035022)\u001b[0m /home/daviddavo/upm-tfm-notebooks/.direnv/python-3.9/lib/python3.9/site-packages/recommenders/models/deeprec/DataModel/ImplicitCF.py:73: FutureWarning: The frame.append method is deprecated and will be removed from pandas in a future version. Use pandas.concat instead.\n",
      "\u001b[2m\u001b[36m(TrainLightGCN pid=1035022)\u001b[0m   df = train if test is None else train.append(test)\n"
     ]
    },
    {
     "name": "stdout",
     "output_type": "stream",
     "text": [
      "\u001b[2m\u001b[36m(TrainLightGCN pid=1035022)\u001b[0m Already create adjacency matrix.\n",
      "\u001b[2m\u001b[36m(TrainLightGCN pid=1035022)\u001b[0m Already normalize adjacency matrix.\n",
      "\u001b[2m\u001b[36m(TrainLightGCN pid=1035022)\u001b[0m Using xavier initialization.\n"
     ]
    },
    {
     "name": "stderr",
     "output_type": "stream",
     "text": [
      "\u001b[2m\u001b[36m(TrainLightGCN pid=1035022)\u001b[0m Checkpoint successfully created at: Checkpoint(filesystem=local, path=/home/daviddavo/ray_results/TrainLightGCN_2023-11-10_20-19-58/TrainLightGCN_3b349517_103_trial_index=2,batch_size=8,conv_layers=4,embedding_dim=30,l2=0.0272,learning_rate=0.0112_2023-11-11_00-10-09/checkpoint_000000)\n",
      "\u001b[2m\u001b[36m(pid=1035168)\u001b[0m 2023-11-11 00:15:35.060144: E tensorflow/compiler/xla/stream_executor/cuda/cuda_dnn.cc:9342] Unable to register cuDNN factory: Attempting to register factory for plugin cuDNN when one has already been registered\n",
      "\u001b[2m\u001b[36m(pid=1035168)\u001b[0m 2023-11-11 00:15:35.060179: E tensorflow/compiler/xla/stream_executor/cuda/cuda_fft.cc:609] Unable to register cuFFT factory: Attempting to register factory for plugin cuFFT when one has already been registered\n",
      "\u001b[2m\u001b[36m(pid=1035168)\u001b[0m 2023-11-11 00:15:35.060193: E tensorflow/compiler/xla/stream_executor/cuda/cuda_blas.cc:1518] Unable to register cuBLAS factory: Attempting to register factory for plugin cuBLAS when one has already been registered\n",
      "\u001b[2m\u001b[36m(TrainLightGCN pid=1035168)\u001b[0m /home/daviddavo/upm-tfm-notebooks/.direnv/python-3.9/lib/python3.9/site-packages/recommenders/models/deeprec/DataModel/ImplicitCF.py:73: FutureWarning: The frame.append method is deprecated and will be removed from pandas in a future version. Use pandas.concat instead.\n",
      "\u001b[2m\u001b[36m(TrainLightGCN pid=1035168)\u001b[0m   df = train if test is None else train.append(test)\n"
     ]
    },
    {
     "name": "stdout",
     "output_type": "stream",
     "text": [
      "\u001b[2m\u001b[36m(TrainLightGCN pid=1035168)\u001b[0m Already normalize adjacency matrix.\n",
      "\u001b[2m\u001b[36m(TrainLightGCN pid=1035168)\u001b[0m Using xavier initialization.\n",
      "\u001b[2m\u001b[36m(TrainLightGCN pid=1035168)\u001b[0m Already create adjacency matrix.\n"
     ]
    },
    {
     "name": "stderr",
     "output_type": "stream",
     "text": [
      "\u001b[2m\u001b[36m(TrainLightGCN pid=1035168)\u001b[0m Checkpoint successfully created at: Checkpoint(filesystem=local, path=/home/daviddavo/ray_results/TrainLightGCN_2023-11-10_20-19-58/TrainLightGCN_ac4362f0_104_trial_index=3,batch_size=8,conv_layers=4,embedding_dim=30,l2=0.0272,learning_rate=0.0112_2023-11-11_00-11-49/checkpoint_000000)\n",
      "\u001b[2m\u001b[36m(pid=1035316)\u001b[0m 2023-11-11 00:21:22.102583: E tensorflow/compiler/xla/stream_executor/cuda/cuda_dnn.cc:9342] Unable to register cuDNN factory: Attempting to register factory for plugin cuDNN when one has already been registered\n",
      "\u001b[2m\u001b[36m(pid=1035316)\u001b[0m 2023-11-11 00:21:22.102615: E tensorflow/compiler/xla/stream_executor/cuda/cuda_fft.cc:609] Unable to register cuFFT factory: Attempting to register factory for plugin cuFFT when one has already been registered\n",
      "\u001b[2m\u001b[36m(pid=1035316)\u001b[0m 2023-11-11 00:21:22.102626: E tensorflow/compiler/xla/stream_executor/cuda/cuda_blas.cc:1518] Unable to register cuBLAS factory: Attempting to register factory for plugin cuBLAS when one has already been registered\n",
      "\u001b[2m\u001b[36m(TrainLightGCN pid=1035316)\u001b[0m /home/daviddavo/upm-tfm-notebooks/.direnv/python-3.9/lib/python3.9/site-packages/recommenders/models/deeprec/DataModel/ImplicitCF.py:73: FutureWarning: The frame.append method is deprecated and will be removed from pandas in a future version. Use pandas.concat instead.\n",
      "\u001b[2m\u001b[36m(TrainLightGCN pid=1035316)\u001b[0m   df = train if test is None else train.append(test)\n"
     ]
    },
    {
     "name": "stdout",
     "output_type": "stream",
     "text": [
      "\u001b[2m\u001b[36m(TrainLightGCN pid=1035316)\u001b[0m Already create adjacency matrix.\n",
      "\u001b[2m\u001b[36m(TrainLightGCN pid=1035316)\u001b[0m Already normalize adjacency matrix.\n",
      "\u001b[2m\u001b[36m(TrainLightGCN pid=1035316)\u001b[0m Using xavier initialization.\n"
     ]
    },
    {
     "name": "stderr",
     "output_type": "stream",
     "text": [
      "\u001b[2m\u001b[36m(TrainLightGCN pid=1035316)\u001b[0m Checkpoint successfully created at: Checkpoint(filesystem=local, path=/home/daviddavo/ray_results/TrainLightGCN_2023-11-10_20-19-58/TrainLightGCN_9aff2237_105_trial_index=4,batch_size=8,conv_layers=4,embedding_dim=30,l2=0.0272,learning_rate=0.0112_2023-11-11_00-15-37/checkpoint_000000)\n",
      "\u001b[2m\u001b[36m(pid=1035462)\u001b[0m 2023-11-11 00:28:32.178932: E tensorflow/compiler/xla/stream_executor/cuda/cuda_dnn.cc:9342] Unable to register cuDNN factory: Attempting to register factory for plugin cuDNN when one has already been registered\n",
      "\u001b[2m\u001b[36m(pid=1035462)\u001b[0m 2023-11-11 00:28:32.178965: E tensorflow/compiler/xla/stream_executor/cuda/cuda_fft.cc:609] Unable to register cuFFT factory: Attempting to register factory for plugin cuFFT when one has already been registered\n",
      "\u001b[2m\u001b[36m(pid=1035462)\u001b[0m 2023-11-11 00:28:32.178977: E tensorflow/compiler/xla/stream_executor/cuda/cuda_blas.cc:1518] Unable to register cuBLAS factory: Attempting to register factory for plugin cuBLAS when one has already been registered\n",
      "\u001b[2m\u001b[36m(TrainLightGCN pid=1035462)\u001b[0m /home/daviddavo/upm-tfm-notebooks/.direnv/python-3.9/lib/python3.9/site-packages/recommenders/models/deeprec/DataModel/ImplicitCF.py:73: FutureWarning: The frame.append method is deprecated and will be removed from pandas in a future version. Use pandas.concat instead.\n",
      "\u001b[2m\u001b[36m(TrainLightGCN pid=1035462)\u001b[0m   df = train if test is None else train.append(test)\n"
     ]
    },
    {
     "name": "stdout",
     "output_type": "stream",
     "text": [
      "\u001b[2m\u001b[36m(TrainLightGCN pid=1035462)\u001b[0m Already normalize adjacency matrix.\n",
      "\u001b[2m\u001b[36m(TrainLightGCN pid=1035462)\u001b[0m Already create adjacency matrix.\n",
      "\u001b[2m\u001b[36m(TrainLightGCN pid=1035462)\u001b[0m Using xavier initialization.\n"
     ]
    },
    {
     "name": "stderr",
     "output_type": "stream",
     "text": [
      "\u001b[2m\u001b[36m(TrainLightGCN pid=1029256)\u001b[0m Checkpoint successfully created at: Checkpoint(filesystem=local, path=/home/daviddavo/ray_results/TrainLightGCN_2023-11-10_20-19-58/TrainLightGCN_964aaa72_97_trial_index=6,batch_size=5,conv_layers=5,embedding_dim=425,l2=0.0002,learning_rate=0.0021_2023-11-10_23-13-35/checkpoint_000000)\n",
      "\u001b[2m\u001b[36m(pid=1035605)\u001b[0m 2023-11-11 00:32:42.220119: E tensorflow/compiler/xla/stream_executor/cuda/cuda_dnn.cc:9342] Unable to register cuDNN factory: Attempting to register factory for plugin cuDNN when one has already been registered\n",
      "\u001b[2m\u001b[36m(pid=1035605)\u001b[0m 2023-11-11 00:32:42.220152: E tensorflow/compiler/xla/stream_executor/cuda/cuda_fft.cc:609] Unable to register cuFFT factory: Attempting to register factory for plugin cuFFT when one has already been registered\n",
      "\u001b[2m\u001b[36m(pid=1035605)\u001b[0m 2023-11-11 00:32:42.220165: E tensorflow/compiler/xla/stream_executor/cuda/cuda_blas.cc:1518] Unable to register cuBLAS factory: Attempting to register factory for plugin cuBLAS when one has already been registered\n",
      "\u001b[2m\u001b[36m(TrainLightGCN pid=1035605)\u001b[0m /home/daviddavo/upm-tfm-notebooks/.direnv/python-3.9/lib/python3.9/site-packages/recommenders/models/deeprec/DataModel/ImplicitCF.py:73: FutureWarning: The frame.append method is deprecated and will be removed from pandas in a future version. Use pandas.concat instead.\n",
      "\u001b[2m\u001b[36m(TrainLightGCN pid=1035605)\u001b[0m   df = train if test is None else train.append(test)\n"
     ]
    },
    {
     "name": "stdout",
     "output_type": "stream",
     "text": [
      "\u001b[2m\u001b[36m(TrainLightGCN pid=1035605)\u001b[0m Already create adjacency matrix.\n",
      "\u001b[2m\u001b[36m(TrainLightGCN pid=1035605)\u001b[0m Already normalize adjacency matrix.\n",
      "\u001b[2m\u001b[36m(TrainLightGCN pid=1035605)\u001b[0m Using xavier initialization.\n"
     ]
    },
    {
     "name": "stderr",
     "output_type": "stream",
     "text": [
      "\u001b[2m\u001b[36m(TrainLightGCN pid=1010842)\u001b[0m Checkpoint successfully created at: Checkpoint(filesystem=local, path=/home/daviddavo/ray_results/TrainLightGCN_2023-11-10_20-19-58/TrainLightGCN_8fba858e_50_trial_index=9,batch_size=4,conv_layers=4,embedding_dim=65,l2=0.0000,learning_rate=0.0003_2023-11-10_21-05-34/checkpoint_000000)\n",
      "\u001b[2m\u001b[36m(pid=1035750)\u001b[0m 2023-11-11 00:35:31.249155: E tensorflow/compiler/xla/stream_executor/cuda/cuda_dnn.cc:9342] Unable to register cuDNN factory: Attempting to register factory for plugin cuDNN when one has already been registered\n",
      "\u001b[2m\u001b[36m(pid=1035750)\u001b[0m 2023-11-11 00:35:31.249189: E tensorflow/compiler/xla/stream_executor/cuda/cuda_fft.cc:609] Unable to register cuFFT factory: Attempting to register factory for plugin cuFFT when one has already been registered\n",
      "\u001b[2m\u001b[36m(pid=1035750)\u001b[0m 2023-11-11 00:35:31.249201: E tensorflow/compiler/xla/stream_executor/cuda/cuda_blas.cc:1518] Unable to register cuBLAS factory: Attempting to register factory for plugin cuBLAS when one has already been registered\n",
      "\u001b[2m\u001b[36m(TrainLightGCN pid=1035750)\u001b[0m /home/daviddavo/upm-tfm-notebooks/.direnv/python-3.9/lib/python3.9/site-packages/recommenders/models/deeprec/DataModel/ImplicitCF.py:73: FutureWarning: The frame.append method is deprecated and will be removed from pandas in a future version. Use pandas.concat instead.\n",
      "\u001b[2m\u001b[36m(TrainLightGCN pid=1035750)\u001b[0m   df = train if test is None else train.append(test)\n"
     ]
    },
    {
     "name": "stdout",
     "output_type": "stream",
     "text": [
      "\u001b[2m\u001b[36m(TrainLightGCN pid=1035750)\u001b[0m Already normalize adjacency matrix.\n",
      "\u001b[2m\u001b[36m(TrainLightGCN pid=1035750)\u001b[0m Using xavier initialization.\n",
      "\u001b[2m\u001b[36m(TrainLightGCN pid=1035750)\u001b[0m Already create adjacency matrix.\n"
     ]
    },
    {
     "name": "stderr",
     "output_type": "stream",
     "text": [
      "\u001b[2m\u001b[36m(TrainLightGCN pid=1035462)\u001b[0m Checkpoint successfully created at: Checkpoint(filesystem=local, path=/home/daviddavo/ray_results/TrainLightGCN_2023-11-10_20-19-58/TrainLightGCN_4f2cce01_106_trial_index=5,batch_size=8,conv_layers=4,embedding_dim=30,l2=0.0272,learning_rate=0.0112_2023-11-11_00-21-25/checkpoint_000000)\n",
      "\u001b[2m\u001b[36m(pid=1035893)\u001b[0m 2023-11-11 00:36:42.245237: E tensorflow/compiler/xla/stream_executor/cuda/cuda_dnn.cc:9342] Unable to register cuDNN factory: Attempting to register factory for plugin cuDNN when one has already been registered\n",
      "\u001b[2m\u001b[36m(pid=1035893)\u001b[0m 2023-11-11 00:36:42.245277: E tensorflow/compiler/xla/stream_executor/cuda/cuda_fft.cc:609] Unable to register cuFFT factory: Attempting to register factory for plugin cuFFT when one has already been registered\n",
      "\u001b[2m\u001b[36m(pid=1035893)\u001b[0m 2023-11-11 00:36:42.245290: E tensorflow/compiler/xla/stream_executor/cuda/cuda_blas.cc:1518] Unable to register cuBLAS factory: Attempting to register factory for plugin cuBLAS when one has already been registered\n",
      "\u001b[2m\u001b[36m(TrainLightGCN pid=1035893)\u001b[0m /home/daviddavo/upm-tfm-notebooks/.direnv/python-3.9/lib/python3.9/site-packages/recommenders/models/deeprec/DataModel/ImplicitCF.py:73: FutureWarning: The frame.append method is deprecated and will be removed from pandas in a future version. Use pandas.concat instead.\n",
      "\u001b[2m\u001b[36m(TrainLightGCN pid=1035893)\u001b[0m   df = train if test is None else train.append(test)\n"
     ]
    },
    {
     "name": "stdout",
     "output_type": "stream",
     "text": [
      "\u001b[2m\u001b[36m(TrainLightGCN pid=1035893)\u001b[0m Already create adjacency matrix.\n",
      "\u001b[2m\u001b[36m(TrainLightGCN pid=1035893)\u001b[0m Already normalize adjacency matrix.\n",
      "\u001b[2m\u001b[36m(TrainLightGCN pid=1035893)\u001b[0m Using xavier initialization.\n"
     ]
    },
    {
     "name": "stderr",
     "output_type": "stream",
     "text": [
      "\u001b[2m\u001b[36m(TrainLightGCN pid=1035605)\u001b[0m Checkpoint successfully created at: Checkpoint(filesystem=local, path=/home/daviddavo/ray_results/TrainLightGCN_2023-11-10_20-19-58/TrainLightGCN_156566f8_107_trial_index=6,batch_size=8,conv_layers=4,embedding_dim=30,l2=0.0272,learning_rate=0.0112_2023-11-11_00-28-35/checkpoint_000000)\n",
      "\u001b[2m\u001b[36m(pid=1036038)\u001b[0m 2023-11-11 00:42:14.302900: E tensorflow/compiler/xla/stream_executor/cuda/cuda_dnn.cc:9342] Unable to register cuDNN factory: Attempting to register factory for plugin cuDNN when one has already been registered\n",
      "\u001b[2m\u001b[36m(pid=1036038)\u001b[0m 2023-11-11 00:42:14.302934: E tensorflow/compiler/xla/stream_executor/cuda/cuda_fft.cc:609] Unable to register cuFFT factory: Attempting to register factory for plugin cuFFT when one has already been registered\n",
      "\u001b[2m\u001b[36m(pid=1036038)\u001b[0m 2023-11-11 00:42:14.302945: E tensorflow/compiler/xla/stream_executor/cuda/cuda_blas.cc:1518] Unable to register cuBLAS factory: Attempting to register factory for plugin cuBLAS when one has already been registered\n",
      "\u001b[2m\u001b[36m(TrainLightGCN pid=1036038)\u001b[0m /home/daviddavo/upm-tfm-notebooks/.direnv/python-3.9/lib/python3.9/site-packages/recommenders/models/deeprec/DataModel/ImplicitCF.py:73: FutureWarning: The frame.append method is deprecated and will be removed from pandas in a future version. Use pandas.concat instead.\n",
      "\u001b[2m\u001b[36m(TrainLightGCN pid=1036038)\u001b[0m   df = train if test is None else train.append(test)\n"
     ]
    },
    {
     "name": "stdout",
     "output_type": "stream",
     "text": [
      "\u001b[2m\u001b[36m(TrainLightGCN pid=1036038)\u001b[0m Already create adjacency matrix.\n",
      "\u001b[2m\u001b[36m(TrainLightGCN pid=1036038)\u001b[0m Already normalize adjacency matrix.\n",
      "\u001b[2m\u001b[36m(TrainLightGCN pid=1036038)\u001b[0m Using xavier initialization.\n"
     ]
    },
    {
     "name": "stderr",
     "output_type": "stream",
     "text": [
      "\u001b[2m\u001b[36m(TrainLightGCN pid=1025351)\u001b[0m Checkpoint successfully created at: Checkpoint(filesystem=local, path=/home/daviddavo/ray_results/TrainLightGCN_2023-11-10_20-19-58/TrainLightGCN_4871ce55_89_trial_index=8,batch_size=5,conv_layers=4,embedding_dim=95,l2=0.0000,learning_rate=0.0061_2023-11-10_22-44-40/checkpoint_000000)\n",
      "\u001b[2m\u001b[36m(pid=1036181)\u001b[0m 2023-11-11 00:43:03.305876: E tensorflow/compiler/xla/stream_executor/cuda/cuda_dnn.cc:9342] Unable to register cuDNN factory: Attempting to register factory for plugin cuDNN when one has already been registered\n",
      "\u001b[2m\u001b[36m(pid=1036181)\u001b[0m 2023-11-11 00:43:03.305910: E tensorflow/compiler/xla/stream_executor/cuda/cuda_fft.cc:609] Unable to register cuFFT factory: Attempting to register factory for plugin cuFFT when one has already been registered\n",
      "\u001b[2m\u001b[36m(pid=1036181)\u001b[0m 2023-11-11 00:43:03.305923: E tensorflow/compiler/xla/stream_executor/cuda/cuda_blas.cc:1518] Unable to register cuBLAS factory: Attempting to register factory for plugin cuBLAS when one has already been registered\n",
      "\u001b[2m\u001b[36m(TrainLightGCN pid=1036181)\u001b[0m /home/daviddavo/upm-tfm-notebooks/.direnv/python-3.9/lib/python3.9/site-packages/recommenders/models/deeprec/DataModel/ImplicitCF.py:73: FutureWarning: The frame.append method is deprecated and will be removed from pandas in a future version. Use pandas.concat instead.\n",
      "\u001b[2m\u001b[36m(TrainLightGCN pid=1036181)\u001b[0m   df = train if test is None else train.append(test)\n"
     ]
    },
    {
     "name": "stdout",
     "output_type": "stream",
     "text": [
      "\u001b[2m\u001b[36m(TrainLightGCN pid=1036181)\u001b[0m Already create adjacency matrix.\n",
      "\u001b[2m\u001b[36m(TrainLightGCN pid=1036181)\u001b[0m Already normalize adjacency matrix.\n",
      "\u001b[2m\u001b[36m(TrainLightGCN pid=1036181)\u001b[0m Using xavier initialization.\n"
     ]
    },
    {
     "name": "stderr",
     "output_type": "stream",
     "text": [
      "\u001b[2m\u001b[36m(TrainLightGCN pid=1036181)\u001b[0m Checkpoint successfully created at: Checkpoint(filesystem=local, path=/home/daviddavo/ray_results/TrainLightGCN_2023-11-10_20-19-58/TrainLightGCN_098948c4_111_trial_index=0,batch_size=8,conv_layers=5,embedding_dim=365,l2=0.0000,learning_rate=0.0130_2023-11-11_00-42-17/checkpoint_000000)\n",
      "\u001b[2m\u001b[36m(pid=1036322)\u001b[0m 2023-11-11 00:43:54.429819: E tensorflow/compiler/xla/stream_executor/cuda/cuda_dnn.cc:9342] Unable to register cuDNN factory: Attempting to register factory for plugin cuDNN when one has already been registered\n",
      "\u001b[2m\u001b[36m(pid=1036322)\u001b[0m 2023-11-11 00:43:54.429851: E tensorflow/compiler/xla/stream_executor/cuda/cuda_fft.cc:609] Unable to register cuFFT factory: Attempting to register factory for plugin cuFFT when one has already been registered\n",
      "\u001b[2m\u001b[36m(pid=1036322)\u001b[0m 2023-11-11 00:43:54.429864: E tensorflow/compiler/xla/stream_executor/cuda/cuda_blas.cc:1518] Unable to register cuBLAS factory: Attempting to register factory for plugin cuBLAS when one has already been registered\n",
      "\u001b[2m\u001b[36m(TrainLightGCN pid=1036322)\u001b[0m /home/daviddavo/upm-tfm-notebooks/.direnv/python-3.9/lib/python3.9/site-packages/recommenders/models/deeprec/DataModel/ImplicitCF.py:73: FutureWarning: The frame.append method is deprecated and will be removed from pandas in a future version. Use pandas.concat instead.\n",
      "\u001b[2m\u001b[36m(TrainLightGCN pid=1036322)\u001b[0m   df = train if test is None else train.append(test)\n"
     ]
    },
    {
     "name": "stdout",
     "output_type": "stream",
     "text": [
      "\u001b[2m\u001b[36m(TrainLightGCN pid=1036322)\u001b[0m Already normalize adjacency matrix.\n",
      "\u001b[2m\u001b[36m(TrainLightGCN pid=1036322)\u001b[0m Using xavier initialization.\n",
      "\u001b[2m\u001b[36m(TrainLightGCN pid=1036322)\u001b[0m Already create adjacency matrix.\n"
     ]
    },
    {
     "name": "stderr",
     "output_type": "stream",
     "text": [
      "\u001b[2m\u001b[36m(TrainLightGCN pid=1036322)\u001b[0m Checkpoint successfully created at: Checkpoint(filesystem=local, path=/home/daviddavo/ray_results/TrainLightGCN_2023-11-10_20-19-58/TrainLightGCN_004a85fb_112_trial_index=1,batch_size=8,conv_layers=5,embedding_dim=365,l2=0.0000,learning_rate=0.0130_2023-11-11_00-43-05/checkpoint_000000)\n",
      "\u001b[2m\u001b[36m(pid=1036467)\u001b[0m 2023-11-11 00:45:20.337854: E tensorflow/compiler/xla/stream_executor/cuda/cuda_dnn.cc:9342] Unable to register cuDNN factory: Attempting to register factory for plugin cuDNN when one has already been registered\n",
      "\u001b[2m\u001b[36m(pid=1036467)\u001b[0m 2023-11-11 00:45:20.337891: E tensorflow/compiler/xla/stream_executor/cuda/cuda_fft.cc:609] Unable to register cuFFT factory: Attempting to register factory for plugin cuFFT when one has already been registered\n",
      "\u001b[2m\u001b[36m(pid=1036467)\u001b[0m 2023-11-11 00:45:20.337902: E tensorflow/compiler/xla/stream_executor/cuda/cuda_blas.cc:1518] Unable to register cuBLAS factory: Attempting to register factory for plugin cuBLAS when one has already been registered\n",
      "\u001b[2m\u001b[36m(TrainLightGCN pid=1036467)\u001b[0m /home/daviddavo/upm-tfm-notebooks/.direnv/python-3.9/lib/python3.9/site-packages/recommenders/models/deeprec/DataModel/ImplicitCF.py:73: FutureWarning: The frame.append method is deprecated and will be removed from pandas in a future version. Use pandas.concat instead.\n",
      "\u001b[2m\u001b[36m(TrainLightGCN pid=1036467)\u001b[0m   df = train if test is None else train.append(test)\n"
     ]
    },
    {
     "name": "stdout",
     "output_type": "stream",
     "text": [
      "\u001b[2m\u001b[36m(TrainLightGCN pid=1036467)\u001b[0m Already create adjacency matrix.\n",
      "\u001b[2m\u001b[36m(TrainLightGCN pid=1036467)\u001b[0m Already normalize adjacency matrix.\n",
      "\u001b[2m\u001b[36m(TrainLightGCN pid=1036467)\u001b[0m Using xavier initialization.\n"
     ]
    },
    {
     "name": "stderr",
     "output_type": "stream",
     "text": [
      "\u001b[2m\u001b[36m(TrainLightGCN pid=1035750)\u001b[0m Checkpoint successfully created at: Checkpoint(filesystem=local, path=/home/daviddavo/ray_results/TrainLightGCN_2023-11-10_20-19-58/TrainLightGCN_95d0166e_108_trial_index=7,batch_size=8,conv_layers=4,embedding_dim=30,l2=0.0272,learning_rate=0.0112_2023-11-11_00-32-45/checkpoint_000000)\n",
      "\u001b[2m\u001b[36m(pid=1036612)\u001b[0m 2023-11-11 00:47:48.356921: E tensorflow/compiler/xla/stream_executor/cuda/cuda_dnn.cc:9342] Unable to register cuDNN factory: Attempting to register factory for plugin cuDNN when one has already been registered\n",
      "\u001b[2m\u001b[36m(pid=1036612)\u001b[0m 2023-11-11 00:47:48.356952: E tensorflow/compiler/xla/stream_executor/cuda/cuda_fft.cc:609] Unable to register cuFFT factory: Attempting to register factory for plugin cuFFT when one has already been registered\n",
      "\u001b[2m\u001b[36m(pid=1036612)\u001b[0m 2023-11-11 00:47:48.356964: E tensorflow/compiler/xla/stream_executor/cuda/cuda_blas.cc:1518] Unable to register cuBLAS factory: Attempting to register factory for plugin cuBLAS when one has already been registered\n",
      "\u001b[2m\u001b[36m(TrainLightGCN pid=1036612)\u001b[0m /home/daviddavo/upm-tfm-notebooks/.direnv/python-3.9/lib/python3.9/site-packages/recommenders/models/deeprec/DataModel/ImplicitCF.py:73: FutureWarning: The frame.append method is deprecated and will be removed from pandas in a future version. Use pandas.concat instead.\n",
      "\u001b[2m\u001b[36m(TrainLightGCN pid=1036612)\u001b[0m   df = train if test is None else train.append(test)\n"
     ]
    },
    {
     "name": "stdout",
     "output_type": "stream",
     "text": [
      "\u001b[2m\u001b[36m(TrainLightGCN pid=1036612)\u001b[0m Already normalize adjacency matrix.\n",
      "\u001b[2m\u001b[36m(TrainLightGCN pid=1036612)\u001b[0m Using xavier initialization.\n",
      "\u001b[2m\u001b[36m(TrainLightGCN pid=1036612)\u001b[0m Already create adjacency matrix.\n"
     ]
    },
    {
     "name": "stderr",
     "output_type": "stream",
     "text": [
      "\u001b[2m\u001b[36m(TrainLightGCN pid=1036467)\u001b[0m Checkpoint successfully created at: Checkpoint(filesystem=local, path=/home/daviddavo/ray_results/TrainLightGCN_2023-11-10_20-19-58/TrainLightGCN_979b9ecb_113_trial_index=2,batch_size=8,conv_layers=5,embedding_dim=365,l2=0.0000,learning_rate=0.0130_2023-11-11_00-43-56/checkpoint_000000)\n",
      "\u001b[2m\u001b[36m(pid=1036754)\u001b[0m 2023-11-11 00:48:40.347502: E tensorflow/compiler/xla/stream_executor/cuda/cuda_dnn.cc:9342] Unable to register cuDNN factory: Attempting to register factory for plugin cuDNN when one has already been registered\n",
      "\u001b[2m\u001b[36m(pid=1036754)\u001b[0m 2023-11-11 00:48:40.347539: E tensorflow/compiler/xla/stream_executor/cuda/cuda_fft.cc:609] Unable to register cuFFT factory: Attempting to register factory for plugin cuFFT when one has already been registered\n",
      "\u001b[2m\u001b[36m(pid=1036754)\u001b[0m 2023-11-11 00:48:40.347550: E tensorflow/compiler/xla/stream_executor/cuda/cuda_blas.cc:1518] Unable to register cuBLAS factory: Attempting to register factory for plugin cuBLAS when one has already been registered\n",
      "\u001b[2m\u001b[36m(TrainLightGCN pid=1036754)\u001b[0m /home/daviddavo/upm-tfm-notebooks/.direnv/python-3.9/lib/python3.9/site-packages/recommenders/models/deeprec/DataModel/ImplicitCF.py:73: FutureWarning: The frame.append method is deprecated and will be removed from pandas in a future version. Use pandas.concat instead.\n",
      "\u001b[2m\u001b[36m(TrainLightGCN pid=1036754)\u001b[0m   df = train if test is None else train.append(test)\n"
     ]
    },
    {
     "name": "stdout",
     "output_type": "stream",
     "text": [
      "\u001b[2m\u001b[36m(TrainLightGCN pid=1036754)\u001b[0m Already create adjacency matrix.\n",
      "\u001b[2m\u001b[36m(TrainLightGCN pid=1036754)\u001b[0m Already normalize adjacency matrix.\n",
      "\u001b[2m\u001b[36m(TrainLightGCN pid=1036754)\u001b[0m Using xavier initialization.\n"
     ]
    },
    {
     "name": "stderr",
     "output_type": "stream",
     "text": [
      "\u001b[2m\u001b[36m(TrainLightGCN pid=1036612)\u001b[0m Checkpoint successfully created at: Checkpoint(filesystem=local, path=/home/daviddavo/ray_results/TrainLightGCN_2023-11-10_20-19-58/TrainLightGCN_549aefa7_114_trial_index=3,batch_size=8,conv_layers=5,embedding_dim=365,l2=0.0000,learning_rate=0.0130_2023-11-11_00-45-22/checkpoint_000000)\n",
      "\u001b[2m\u001b[36m(pid=1036900)\u001b[0m 2023-11-11 00:53:12.379658: E tensorflow/compiler/xla/stream_executor/cuda/cuda_dnn.cc:9342] Unable to register cuDNN factory: Attempting to register factory for plugin cuDNN when one has already been registered\n",
      "\u001b[2m\u001b[36m(pid=1036900)\u001b[0m 2023-11-11 00:53:12.379693: E tensorflow/compiler/xla/stream_executor/cuda/cuda_fft.cc:609] Unable to register cuFFT factory: Attempting to register factory for plugin cuFFT when one has already been registered\n",
      "\u001b[2m\u001b[36m(pid=1036900)\u001b[0m 2023-11-11 00:53:12.379705: E tensorflow/compiler/xla/stream_executor/cuda/cuda_blas.cc:1518] Unable to register cuBLAS factory: Attempting to register factory for plugin cuBLAS when one has already been registered\n",
      "\u001b[2m\u001b[36m(TrainLightGCN pid=1036900)\u001b[0m /home/daviddavo/upm-tfm-notebooks/.direnv/python-3.9/lib/python3.9/site-packages/recommenders/models/deeprec/DataModel/ImplicitCF.py:73: FutureWarning: The frame.append method is deprecated and will be removed from pandas in a future version. Use pandas.concat instead.\n",
      "\u001b[2m\u001b[36m(TrainLightGCN pid=1036900)\u001b[0m   df = train if test is None else train.append(test)\n"
     ]
    },
    {
     "name": "stdout",
     "output_type": "stream",
     "text": [
      "\u001b[2m\u001b[36m(TrainLightGCN pid=1036900)\u001b[0m Already normalize adjacency matrix.\n",
      "\u001b[2m\u001b[36m(TrainLightGCN pid=1036900)\u001b[0m Using xavier initialization.\n",
      "\u001b[2m\u001b[36m(TrainLightGCN pid=1036900)\u001b[0m Already create adjacency matrix.\n"
     ]
    },
    {
     "name": "stderr",
     "output_type": "stream",
     "text": [
      "\u001b[2m\u001b[36m(TrainLightGCN pid=1035893)\u001b[0m Checkpoint successfully created at: Checkpoint(filesystem=local, path=/home/daviddavo/ray_results/TrainLightGCN_2023-11-10_20-19-58/TrainLightGCN_bebb8e45_109_trial_index=8,batch_size=8,conv_layers=4,embedding_dim=30,l2=0.0272,learning_rate=0.0112_2023-11-11_00-35-34/checkpoint_000000)\n",
      "\u001b[2m\u001b[36m(pid=1037044)\u001b[0m 2023-11-11 00:54:51.402364: E tensorflow/compiler/xla/stream_executor/cuda/cuda_dnn.cc:9342] Unable to register cuDNN factory: Attempting to register factory for plugin cuDNN when one has already been registered\n",
      "\u001b[2m\u001b[36m(pid=1037044)\u001b[0m 2023-11-11 00:54:51.402397: E tensorflow/compiler/xla/stream_executor/cuda/cuda_fft.cc:609] Unable to register cuFFT factory: Attempting to register factory for plugin cuFFT when one has already been registered\n",
      "\u001b[2m\u001b[36m(pid=1037044)\u001b[0m 2023-11-11 00:54:51.402410: E tensorflow/compiler/xla/stream_executor/cuda/cuda_blas.cc:1518] Unable to register cuBLAS factory: Attempting to register factory for plugin cuBLAS when one has already been registered\n",
      "\u001b[2m\u001b[36m(TrainLightGCN pid=1037044)\u001b[0m /home/daviddavo/upm-tfm-notebooks/.direnv/python-3.9/lib/python3.9/site-packages/recommenders/models/deeprec/DataModel/ImplicitCF.py:73: FutureWarning: The frame.append method is deprecated and will be removed from pandas in a future version. Use pandas.concat instead.\n",
      "\u001b[2m\u001b[36m(TrainLightGCN pid=1037044)\u001b[0m   df = train if test is None else train.append(test)\n"
     ]
    },
    {
     "name": "stdout",
     "output_type": "stream",
     "text": [
      "\u001b[2m\u001b[36m(TrainLightGCN pid=1037044)\u001b[0m Already create adjacency matrix.\n",
      "\u001b[2m\u001b[36m(TrainLightGCN pid=1037044)\u001b[0m Already normalize adjacency matrix.\n",
      "\u001b[2m\u001b[36m(TrainLightGCN pid=1037044)\u001b[0m Using xavier initialization.\n"
     ]
    },
    {
     "name": "stderr",
     "output_type": "stream",
     "text": [
      "\u001b[2m\u001b[36m(TrainLightGCN pid=1036754)\u001b[0m Checkpoint successfully created at: Checkpoint(filesystem=local, path=/home/daviddavo/ray_results/TrainLightGCN_2023-11-10_20-19-58/TrainLightGCN_b53d193d_115_trial_index=4,batch_size=8,conv_layers=5,embedding_dim=365,l2=0.0000,learning_rate=0.0130_2023-11-11_00-47-51/checkpoint_000000)\n",
      "\u001b[2m\u001b[36m(pid=1037189)\u001b[0m 2023-11-11 00:55:27.415378: E tensorflow/compiler/xla/stream_executor/cuda/cuda_dnn.cc:9342] Unable to register cuDNN factory: Attempting to register factory for plugin cuDNN when one has already been registered\n",
      "\u001b[2m\u001b[36m(pid=1037189)\u001b[0m 2023-11-11 00:55:27.415407: E tensorflow/compiler/xla/stream_executor/cuda/cuda_fft.cc:609] Unable to register cuFFT factory: Attempting to register factory for plugin cuFFT when one has already been registered\n",
      "\u001b[2m\u001b[36m(pid=1037189)\u001b[0m 2023-11-11 00:55:27.415419: E tensorflow/compiler/xla/stream_executor/cuda/cuda_blas.cc:1518] Unable to register cuBLAS factory: Attempting to register factory for plugin cuBLAS when one has already been registered\n",
      "\u001b[2m\u001b[36m(TrainLightGCN pid=1037189)\u001b[0m /home/daviddavo/upm-tfm-notebooks/.direnv/python-3.9/lib/python3.9/site-packages/recommenders/models/deeprec/DataModel/ImplicitCF.py:73: FutureWarning: The frame.append method is deprecated and will be removed from pandas in a future version. Use pandas.concat instead.\n",
      "\u001b[2m\u001b[36m(TrainLightGCN pid=1037189)\u001b[0m   df = train if test is None else train.append(test)\n"
     ]
    },
    {
     "name": "stdout",
     "output_type": "stream",
     "text": [
      "\u001b[2m\u001b[36m(TrainLightGCN pid=1037189)\u001b[0m Already normalize adjacency matrix.\n",
      "\u001b[2m\u001b[36m(TrainLightGCN pid=1037189)\u001b[0m Using xavier initialization.\n",
      "\u001b[2m\u001b[36m(TrainLightGCN pid=1037189)\u001b[0m Already create adjacency matrix.\n"
     ]
    },
    {
     "name": "stderr",
     "output_type": "stream",
     "text": [
      "\u001b[2m\u001b[36m(TrainLightGCN pid=1036900)\u001b[0m Checkpoint successfully created at: Checkpoint(filesystem=local, path=/home/daviddavo/ray_results/TrainLightGCN_2023-11-10_20-19-58/TrainLightGCN_d78ae53e_116_trial_index=5,batch_size=8,conv_layers=5,embedding_dim=365,l2=0.0000,learning_rate=0.0130_2023-11-11_00-48-43/checkpoint_000000)\n",
      "\u001b[2m\u001b[36m(pid=1037333)\u001b[0m 2023-11-11 01:02:37.448031: E tensorflow/compiler/xla/stream_executor/cuda/cuda_dnn.cc:9342] Unable to register cuDNN factory: Attempting to register factory for plugin cuDNN when one has already been registered\n",
      "\u001b[2m\u001b[36m(pid=1037333)\u001b[0m 2023-11-11 01:02:37.448065: E tensorflow/compiler/xla/stream_executor/cuda/cuda_fft.cc:609] Unable to register cuFFT factory: Attempting to register factory for plugin cuFFT when one has already been registered\n",
      "\u001b[2m\u001b[36m(pid=1037333)\u001b[0m 2023-11-11 01:02:37.448078: E tensorflow/compiler/xla/stream_executor/cuda/cuda_blas.cc:1518] Unable to register cuBLAS factory: Attempting to register factory for plugin cuBLAS when one has already been registered\n",
      "\u001b[2m\u001b[36m(TrainLightGCN pid=1037333)\u001b[0m /home/daviddavo/upm-tfm-notebooks/.direnv/python-3.9/lib/python3.9/site-packages/recommenders/models/deeprec/DataModel/ImplicitCF.py:73: FutureWarning: The frame.append method is deprecated and will be removed from pandas in a future version. Use pandas.concat instead.\n",
      "\u001b[2m\u001b[36m(TrainLightGCN pid=1037333)\u001b[0m   df = train if test is None else train.append(test)\n"
     ]
    },
    {
     "name": "stdout",
     "output_type": "stream",
     "text": [
      "\u001b[2m\u001b[36m(TrainLightGCN pid=1037333)\u001b[0m Already create adjacency matrix.\n",
      "\u001b[2m\u001b[36m(TrainLightGCN pid=1037333)\u001b[0m Already normalize adjacency matrix.\n",
      "\u001b[2m\u001b[36m(TrainLightGCN pid=1037333)\u001b[0m Using xavier initialization.\n"
     ]
    },
    {
     "name": "stderr",
     "output_type": "stream",
     "text": [
      "\u001b[2m\u001b[36m(TrainLightGCN pid=1037044)\u001b[0m Checkpoint successfully created at: Checkpoint(filesystem=local, path=/home/daviddavo/ray_results/TrainLightGCN_2023-11-10_20-19-58/TrainLightGCN_dba4d514_117_trial_index=6,batch_size=8,conv_layers=5,embedding_dim=365,l2=0.0000,learning_rate=0.0130_2023-11-11_00-53-15/checkpoint_000000)\n",
      "\u001b[2m\u001b[36m(pid=1037478)\u001b[0m 2023-11-11 01:07:28.481869: E tensorflow/compiler/xla/stream_executor/cuda/cuda_dnn.cc:9342] Unable to register cuDNN factory: Attempting to register factory for plugin cuDNN when one has already been registered\n",
      "\u001b[2m\u001b[36m(pid=1037478)\u001b[0m 2023-11-11 01:07:28.481899: E tensorflow/compiler/xla/stream_executor/cuda/cuda_fft.cc:609] Unable to register cuFFT factory: Attempting to register factory for plugin cuFFT when one has already been registered\n",
      "\u001b[2m\u001b[36m(pid=1037478)\u001b[0m 2023-11-11 01:07:28.481911: E tensorflow/compiler/xla/stream_executor/cuda/cuda_blas.cc:1518] Unable to register cuBLAS factory: Attempting to register factory for plugin cuBLAS when one has already been registered\n",
      "\u001b[2m\u001b[36m(TrainLightGCN pid=1037478)\u001b[0m /home/daviddavo/upm-tfm-notebooks/.direnv/python-3.9/lib/python3.9/site-packages/recommenders/models/deeprec/DataModel/ImplicitCF.py:73: FutureWarning: The frame.append method is deprecated and will be removed from pandas in a future version. Use pandas.concat instead.\n",
      "\u001b[2m\u001b[36m(TrainLightGCN pid=1037478)\u001b[0m   df = train if test is None else train.append(test)\n"
     ]
    },
    {
     "name": "stdout",
     "output_type": "stream",
     "text": [
      "\u001b[2m\u001b[36m(TrainLightGCN pid=1037478)\u001b[0m Already create adjacency matrix.\n",
      "\u001b[2m\u001b[36m(TrainLightGCN pid=1037478)\u001b[0m Already normalize adjacency matrix.\n",
      "\u001b[2m\u001b[36m(TrainLightGCN pid=1037478)\u001b[0m Using xavier initialization.\n"
     ]
    },
    {
     "name": "stderr",
     "output_type": "stream",
     "text": [
      "\u001b[2m\u001b[36m(TrainLightGCN pid=1036038)\u001b[0m Checkpoint successfully created at: Checkpoint(filesystem=local, path=/home/daviddavo/ray_results/TrainLightGCN_2023-11-10_20-19-58/TrainLightGCN_8b837773_110_trial_index=9,batch_size=8,conv_layers=4,embedding_dim=30,l2=0.0272,learning_rate=0.0112_2023-11-11_00-36-45/checkpoint_000000)\n",
      "\u001b[2m\u001b[36m(pid=1037622)\u001b[0m 2023-11-11 01:08:06.511305: E tensorflow/compiler/xla/stream_executor/cuda/cuda_dnn.cc:9342] Unable to register cuDNN factory: Attempting to register factory for plugin cuDNN when one has already been registered\n",
      "\u001b[2m\u001b[36m(pid=1037622)\u001b[0m 2023-11-11 01:08:06.511339: E tensorflow/compiler/xla/stream_executor/cuda/cuda_fft.cc:609] Unable to register cuFFT factory: Attempting to register factory for plugin cuFFT when one has already been registered\n",
      "\u001b[2m\u001b[36m(pid=1037622)\u001b[0m 2023-11-11 01:08:06.511351: E tensorflow/compiler/xla/stream_executor/cuda/cuda_blas.cc:1518] Unable to register cuBLAS factory: Attempting to register factory for plugin cuBLAS when one has already been registered\n",
      "\u001b[2m\u001b[36m(TrainLightGCN pid=1037622)\u001b[0m /home/daviddavo/upm-tfm-notebooks/.direnv/python-3.9/lib/python3.9/site-packages/recommenders/models/deeprec/DataModel/ImplicitCF.py:73: FutureWarning: The frame.append method is deprecated and will be removed from pandas in a future version. Use pandas.concat instead.\n",
      "\u001b[2m\u001b[36m(TrainLightGCN pid=1037622)\u001b[0m   df = train if test is None else train.append(test)\n"
     ]
    },
    {
     "name": "stdout",
     "output_type": "stream",
     "text": [
      "\u001b[2m\u001b[36m(TrainLightGCN pid=1037622)\u001b[0m Already create adjacency matrix.\n",
      "\u001b[2m\u001b[36m(TrainLightGCN pid=1037622)\u001b[0m Already normalize adjacency matrix.\n",
      "\u001b[2m\u001b[36m(TrainLightGCN pid=1037622)\u001b[0m Using xavier initialization.\n"
     ]
    },
    {
     "name": "stderr",
     "output_type": "stream",
     "text": [
      "\u001b[2m\u001b[36m(TrainLightGCN pid=1037189)\u001b[0m Checkpoint successfully created at: Checkpoint(filesystem=local, path=/home/daviddavo/ray_results/TrainLightGCN_2023-11-10_20-19-58/TrainLightGCN_2ee3b203_118_trial_index=7,batch_size=8,conv_layers=5,embedding_dim=365,l2=0.0000,learning_rate=0.0130_2023-11-11_00-54-54/checkpoint_000000)\n",
      "\u001b[2m\u001b[36m(pid=1037765)\u001b[0m 2023-11-11 01:12:23.539131: E tensorflow/compiler/xla/stream_executor/cuda/cuda_dnn.cc:9342] Unable to register cuDNN factory: Attempting to register factory for plugin cuDNN when one has already been registered\n",
      "\u001b[2m\u001b[36m(pid=1037765)\u001b[0m 2023-11-11 01:12:23.539165: E tensorflow/compiler/xla/stream_executor/cuda/cuda_fft.cc:609] Unable to register cuFFT factory: Attempting to register factory for plugin cuFFT when one has already been registered\n",
      "\u001b[2m\u001b[36m(pid=1037765)\u001b[0m 2023-11-11 01:12:23.539177: E tensorflow/compiler/xla/stream_executor/cuda/cuda_blas.cc:1518] Unable to register cuBLAS factory: Attempting to register factory for plugin cuBLAS when one has already been registered\n",
      "\u001b[2m\u001b[36m(TrainLightGCN pid=1037765)\u001b[0m /home/daviddavo/upm-tfm-notebooks/.direnv/python-3.9/lib/python3.9/site-packages/recommenders/models/deeprec/DataModel/ImplicitCF.py:73: FutureWarning: The frame.append method is deprecated and will be removed from pandas in a future version. Use pandas.concat instead.\n",
      "\u001b[2m\u001b[36m(TrainLightGCN pid=1037765)\u001b[0m   df = train if test is None else train.append(test)\n"
     ]
    },
    {
     "name": "stdout",
     "output_type": "stream",
     "text": [
      "\u001b[2m\u001b[36m(TrainLightGCN pid=1037765)\u001b[0m Already normalize adjacency matrix.\n",
      "\u001b[2m\u001b[36m(TrainLightGCN pid=1037765)\u001b[0m Using xavier initialization.\n",
      "\u001b[2m\u001b[36m(TrainLightGCN pid=1037765)\u001b[0m Already create adjacency matrix.\n"
     ]
    },
    {
     "name": "stderr",
     "output_type": "stream",
     "text": [
      "\u001b[2m\u001b[36m(TrainLightGCN pid=1037622)\u001b[0m Checkpoint successfully created at: Checkpoint(filesystem=local, path=/home/daviddavo/ray_results/TrainLightGCN_2023-11-10_20-19-58/TrainLightGCN_1415c9e8_121_trial_index=0,batch_size=5,conv_layers=3,embedding_dim=10,l2=0.0000,learning_rate=0.0003_2023-11-11_01-07-32/checkpoint_000000)\n",
      "\u001b[2m\u001b[36m(pid=1037908)\u001b[0m 2023-11-11 01:16:12.560184: E tensorflow/compiler/xla/stream_executor/cuda/cuda_dnn.cc:9342] Unable to register cuDNN factory: Attempting to register factory for plugin cuDNN when one has already been registered\n",
      "\u001b[2m\u001b[36m(pid=1037908)\u001b[0m 2023-11-11 01:16:12.560322: E tensorflow/compiler/xla/stream_executor/cuda/cuda_fft.cc:609] Unable to register cuFFT factory: Attempting to register factory for plugin cuFFT when one has already been registered\n",
      "\u001b[2m\u001b[36m(pid=1037908)\u001b[0m 2023-11-11 01:16:12.560336: E tensorflow/compiler/xla/stream_executor/cuda/cuda_blas.cc:1518] Unable to register cuBLAS factory: Attempting to register factory for plugin cuBLAS when one has already been registered\n",
      "\u001b[2m\u001b[36m(TrainLightGCN pid=1037908)\u001b[0m /home/daviddavo/upm-tfm-notebooks/.direnv/python-3.9/lib/python3.9/site-packages/recommenders/models/deeprec/DataModel/ImplicitCF.py:73: FutureWarning: The frame.append method is deprecated and will be removed from pandas in a future version. Use pandas.concat instead.\n",
      "\u001b[2m\u001b[36m(TrainLightGCN pid=1037908)\u001b[0m   df = train if test is None else train.append(test)\n"
     ]
    },
    {
     "name": "stdout",
     "output_type": "stream",
     "text": [
      "\u001b[2m\u001b[36m(TrainLightGCN pid=1037908)\u001b[0m Already create adjacency matrix.\n",
      "\u001b[2m\u001b[36m(TrainLightGCN pid=1037908)\u001b[0m Already normalize adjacency matrix.\n",
      "\u001b[2m\u001b[36m(TrainLightGCN pid=1037908)\u001b[0m Using xavier initialization.\n"
     ]
    },
    {
     "name": "stderr",
     "output_type": "stream",
     "text": [
      "\u001b[2m\u001b[36m(TrainLightGCN pid=1031110)\u001b[0m Checkpoint successfully created at: Checkpoint(filesystem=local, path=/home/daviddavo/ray_results/TrainLightGCN_2023-11-10_20-19-58/TrainLightGCN_066992ee_98_trial_index=7,batch_size=5,conv_layers=5,embedding_dim=425,l2=0.0002,learning_rate=0.0021_2023-11-10_23-17-06/checkpoint_000000)\n",
      "\u001b[2m\u001b[36m(pid=1038074)\u001b[0m 2023-11-11 01:24:31.637882: E tensorflow/compiler/xla/stream_executor/cuda/cuda_dnn.cc:9342] Unable to register cuDNN factory: Attempting to register factory for plugin cuDNN when one has already been registered\n",
      "\u001b[2m\u001b[36m(pid=1038074)\u001b[0m 2023-11-11 01:24:31.637916: E tensorflow/compiler/xla/stream_executor/cuda/cuda_fft.cc:609] Unable to register cuFFT factory: Attempting to register factory for plugin cuFFT when one has already been registered\n",
      "\u001b[2m\u001b[36m(pid=1038074)\u001b[0m 2023-11-11 01:24:31.637927: E tensorflow/compiler/xla/stream_executor/cuda/cuda_blas.cc:1518] Unable to register cuBLAS factory: Attempting to register factory for plugin cuBLAS when one has already been registered\n",
      "\u001b[2m\u001b[36m(TrainLightGCN pid=1038074)\u001b[0m /home/daviddavo/upm-tfm-notebooks/.direnv/python-3.9/lib/python3.9/site-packages/recommenders/models/deeprec/DataModel/ImplicitCF.py:73: FutureWarning: The frame.append method is deprecated and will be removed from pandas in a future version. Use pandas.concat instead.\n",
      "\u001b[2m\u001b[36m(TrainLightGCN pid=1038074)\u001b[0m   df = train if test is None else train.append(test)\n"
     ]
    },
    {
     "name": "stdout",
     "output_type": "stream",
     "text": [
      "\u001b[2m\u001b[36m(TrainLightGCN pid=1038074)\u001b[0m Already normalize adjacency matrix.\n",
      "\u001b[2m\u001b[36m(TrainLightGCN pid=1038074)\u001b[0m Already create adjacency matrix.\n",
      "\u001b[2m\u001b[36m(TrainLightGCN pid=1038074)\u001b[0m Using xavier initialization.\n"
     ]
    },
    {
     "name": "stderr",
     "output_type": "stream",
     "text": [
      "\u001b[2m\u001b[36m(TrainLightGCN pid=1037765)\u001b[0m Checkpoint successfully created at: Checkpoint(filesystem=local, path=/home/daviddavo/ray_results/TrainLightGCN_2023-11-10_20-19-58/TrainLightGCN_125d02c2_122_trial_index=1,batch_size=5,conv_layers=3,embedding_dim=10,l2=0.0000,learning_rate=0.0003_2023-11-11_01-08-09/checkpoint_000000)\n",
      "\u001b[2m\u001b[36m(pid=1038218)\u001b[0m 2023-11-11 01:26:33.705594: E tensorflow/compiler/xla/stream_executor/cuda/cuda_dnn.cc:9342] Unable to register cuDNN factory: Attempting to register factory for plugin cuDNN when one has already been registered\n",
      "\u001b[2m\u001b[36m(pid=1038218)\u001b[0m 2023-11-11 01:26:33.705628: E tensorflow/compiler/xla/stream_executor/cuda/cuda_fft.cc:609] Unable to register cuFFT factory: Attempting to register factory for plugin cuFFT when one has already been registered\n",
      "\u001b[2m\u001b[36m(pid=1038218)\u001b[0m 2023-11-11 01:26:33.705639: E tensorflow/compiler/xla/stream_executor/cuda/cuda_blas.cc:1518] Unable to register cuBLAS factory: Attempting to register factory for plugin cuBLAS when one has already been registered\n",
      "\u001b[2m\u001b[36m(TrainLightGCN pid=1038218)\u001b[0m /home/daviddavo/upm-tfm-notebooks/.direnv/python-3.9/lib/python3.9/site-packages/recommenders/models/deeprec/DataModel/ImplicitCF.py:73: FutureWarning: The frame.append method is deprecated and will be removed from pandas in a future version. Use pandas.concat instead.\n",
      "\u001b[2m\u001b[36m(TrainLightGCN pid=1038218)\u001b[0m   df = train if test is None else train.append(test)\n"
     ]
    },
    {
     "name": "stdout",
     "output_type": "stream",
     "text": [
      "\u001b[2m\u001b[36m(TrainLightGCN pid=1038218)\u001b[0m Already create adjacency matrix.\n",
      "\u001b[2m\u001b[36m(TrainLightGCN pid=1038218)\u001b[0m Using xavier initialization.\n",
      "\u001b[2m\u001b[36m(TrainLightGCN pid=1038218)\u001b[0m Already normalize adjacency matrix.\n"
     ]
    },
    {
     "name": "stderr",
     "output_type": "stream",
     "text": [
      "\u001b[2m\u001b[36m(TrainLightGCN pid=1037333)\u001b[0m Checkpoint successfully created at: Checkpoint(filesystem=local, path=/home/daviddavo/ray_results/TrainLightGCN_2023-11-10_20-19-58/TrainLightGCN_226b5010_119_trial_index=8,batch_size=8,conv_layers=5,embedding_dim=365,l2=0.0000,learning_rate=0.0130_2023-11-11_00-55-30/checkpoint_000000)\n",
      "\u001b[2m\u001b[36m(pid=1038361)\u001b[0m 2023-11-11 01:26:47.678232: E tensorflow/compiler/xla/stream_executor/cuda/cuda_dnn.cc:9342] Unable to register cuDNN factory: Attempting to register factory for plugin cuDNN when one has already been registered\n",
      "\u001b[2m\u001b[36m(pid=1038361)\u001b[0m 2023-11-11 01:26:47.678267: E tensorflow/compiler/xla/stream_executor/cuda/cuda_fft.cc:609] Unable to register cuFFT factory: Attempting to register factory for plugin cuFFT when one has already been registered\n",
      "\u001b[2m\u001b[36m(pid=1038361)\u001b[0m 2023-11-11 01:26:47.678279: E tensorflow/compiler/xla/stream_executor/cuda/cuda_blas.cc:1518] Unable to register cuBLAS factory: Attempting to register factory for plugin cuBLAS when one has already been registered\n",
      "\u001b[2m\u001b[36m(TrainLightGCN pid=1038361)\u001b[0m /home/daviddavo/upm-tfm-notebooks/.direnv/python-3.9/lib/python3.9/site-packages/recommenders/models/deeprec/DataModel/ImplicitCF.py:73: FutureWarning: The frame.append method is deprecated and will be removed from pandas in a future version. Use pandas.concat instead.\n",
      "\u001b[2m\u001b[36m(TrainLightGCN pid=1038361)\u001b[0m   df = train if test is None else train.append(test)\n"
     ]
    },
    {
     "name": "stdout",
     "output_type": "stream",
     "text": [
      "\u001b[2m\u001b[36m(TrainLightGCN pid=1038361)\u001b[0m Already normalize adjacency matrix.\n",
      "\u001b[2m\u001b[36m(TrainLightGCN pid=1038361)\u001b[0m Already create adjacency matrix.\n",
      "\u001b[2m\u001b[36m(TrainLightGCN pid=1038361)\u001b[0m Using xavier initialization.\n"
     ]
    },
    {
     "name": "stderr",
     "output_type": "stream",
     "text": [
      "\u001b[2m\u001b[36m(TrainLightGCN pid=1025673)\u001b[0m Checkpoint successfully created at: Checkpoint(filesystem=local, path=/home/daviddavo/ray_results/TrainLightGCN_2023-11-10_20-19-58/TrainLightGCN_e57ad939_90_trial_index=9,batch_size=5,conv_layers=4,embedding_dim=95,l2=0.0000,learning_rate=0.0061_2023-11-10_22-47-25/checkpoint_000000)\n",
      "\u001b[2m\u001b[36m(pid=1038508)\u001b[0m 2023-11-11 01:30:01.696770: E tensorflow/compiler/xla/stream_executor/cuda/cuda_dnn.cc:9342] Unable to register cuDNN factory: Attempting to register factory for plugin cuDNN when one has already been registered\n",
      "\u001b[2m\u001b[36m(pid=1038508)\u001b[0m 2023-11-11 01:30:01.696806: E tensorflow/compiler/xla/stream_executor/cuda/cuda_fft.cc:609] Unable to register cuFFT factory: Attempting to register factory for plugin cuFFT when one has already been registered\n",
      "\u001b[2m\u001b[36m(pid=1038508)\u001b[0m 2023-11-11 01:30:01.696818: E tensorflow/compiler/xla/stream_executor/cuda/cuda_blas.cc:1518] Unable to register cuBLAS factory: Attempting to register factory for plugin cuBLAS when one has already been registered\n",
      "\u001b[2m\u001b[36m(TrainLightGCN pid=1038508)\u001b[0m /home/daviddavo/upm-tfm-notebooks/.direnv/python-3.9/lib/python3.9/site-packages/recommenders/models/deeprec/DataModel/ImplicitCF.py:73: FutureWarning: The frame.append method is deprecated and will be removed from pandas in a future version. Use pandas.concat instead.\n",
      "\u001b[2m\u001b[36m(TrainLightGCN pid=1038508)\u001b[0m   df = train if test is None else train.append(test)\n"
     ]
    },
    {
     "name": "stdout",
     "output_type": "stream",
     "text": [
      "\u001b[2m\u001b[36m(TrainLightGCN pid=1038508)\u001b[0m Already create adjacency matrix.\n",
      "\u001b[2m\u001b[36m(TrainLightGCN pid=1038508)\u001b[0m Using xavier initialization.\n",
      "\u001b[2m\u001b[36m(TrainLightGCN pid=1038508)\u001b[0m Already normalize adjacency matrix.\n"
     ]
    },
    {
     "name": "stderr",
     "output_type": "stream",
     "text": [
      "\u001b[2m\u001b[36m(TrainLightGCN pid=1037478)\u001b[0m Checkpoint successfully created at: Checkpoint(filesystem=local, path=/home/daviddavo/ray_results/TrainLightGCN_2023-11-10_20-19-58/TrainLightGCN_eb343fc0_120_trial_index=9,batch_size=8,conv_layers=5,embedding_dim=365,l2=0.0000,learning_rate=0.0130_2023-11-11_01-02-40/checkpoint_000000)\n",
      "\u001b[2m\u001b[36m(pid=1038651)\u001b[0m 2023-11-11 01:37:20.781450: E tensorflow/compiler/xla/stream_executor/cuda/cuda_dnn.cc:9342] Unable to register cuDNN factory: Attempting to register factory for plugin cuDNN when one has already been registered\n",
      "\u001b[2m\u001b[36m(pid=1038651)\u001b[0m 2023-11-11 01:37:20.781482: E tensorflow/compiler/xla/stream_executor/cuda/cuda_fft.cc:609] Unable to register cuFFT factory: Attempting to register factory for plugin cuFFT when one has already been registered\n",
      "\u001b[2m\u001b[36m(pid=1038651)\u001b[0m 2023-11-11 01:37:20.781493: E tensorflow/compiler/xla/stream_executor/cuda/cuda_blas.cc:1518] Unable to register cuBLAS factory: Attempting to register factory for plugin cuBLAS when one has already been registered\n",
      "\u001b[2m\u001b[36m(TrainLightGCN pid=1038651)\u001b[0m /home/daviddavo/upm-tfm-notebooks/.direnv/python-3.9/lib/python3.9/site-packages/recommenders/models/deeprec/DataModel/ImplicitCF.py:73: FutureWarning: The frame.append method is deprecated and will be removed from pandas in a future version. Use pandas.concat instead.\n",
      "\u001b[2m\u001b[36m(TrainLightGCN pid=1038651)\u001b[0m   df = train if test is None else train.append(test)\n"
     ]
    },
    {
     "name": "stdout",
     "output_type": "stream",
     "text": [
      "\u001b[2m\u001b[36m(TrainLightGCN pid=1038651)\u001b[0m Already normalize adjacency matrix.\n",
      "\u001b[2m\u001b[36m(TrainLightGCN pid=1038651)\u001b[0m Already create adjacency matrix.\n",
      "\u001b[2m\u001b[36m(TrainLightGCN pid=1038651)\u001b[0m Using xavier initialization.\n"
     ]
    },
    {
     "name": "stderr",
     "output_type": "stream",
     "text": [
      "\u001b[2m\u001b[36m(TrainLightGCN pid=1037908)\u001b[0m Checkpoint successfully created at: Checkpoint(filesystem=local, path=/home/daviddavo/ray_results/TrainLightGCN_2023-11-10_20-19-58/TrainLightGCN_6d89b145_123_trial_index=2,batch_size=5,conv_layers=3,embedding_dim=10,l2=0.0000,learning_rate=0.0003_2023-11-11_01-12-26/checkpoint_000000)\n",
      "\u001b[2m\u001b[36m(pid=1038799)\u001b[0m 2023-11-11 01:41:12.820637: E tensorflow/compiler/xla/stream_executor/cuda/cuda_dnn.cc:9342] Unable to register cuDNN factory: Attempting to register factory for plugin cuDNN when one has already been registered\n",
      "\u001b[2m\u001b[36m(pid=1038799)\u001b[0m 2023-11-11 01:41:12.820667: E tensorflow/compiler/xla/stream_executor/cuda/cuda_fft.cc:609] Unable to register cuFFT factory: Attempting to register factory for plugin cuFFT when one has already been registered\n",
      "\u001b[2m\u001b[36m(pid=1038799)\u001b[0m 2023-11-11 01:41:12.820679: E tensorflow/compiler/xla/stream_executor/cuda/cuda_blas.cc:1518] Unable to register cuBLAS factory: Attempting to register factory for plugin cuBLAS when one has already been registered\n",
      "\u001b[2m\u001b[36m(TrainLightGCN pid=1038799)\u001b[0m /home/daviddavo/upm-tfm-notebooks/.direnv/python-3.9/lib/python3.9/site-packages/recommenders/models/deeprec/DataModel/ImplicitCF.py:73: FutureWarning: The frame.append method is deprecated and will be removed from pandas in a future version. Use pandas.concat instead.\n",
      "\u001b[2m\u001b[36m(TrainLightGCN pid=1038799)\u001b[0m   df = train if test is None else train.append(test)\n"
     ]
    },
    {
     "name": "stdout",
     "output_type": "stream",
     "text": [
      "\u001b[2m\u001b[36m(TrainLightGCN pid=1038799)\u001b[0m Already create adjacency matrix.\n",
      "\u001b[2m\u001b[36m(TrainLightGCN pid=1038799)\u001b[0m Already normalize adjacency matrix.\n",
      "\u001b[2m\u001b[36m(TrainLightGCN pid=1038799)\u001b[0m Using xavier initialization.\n"
     ]
    },
    {
     "name": "stderr",
     "output_type": "stream",
     "text": [
      "\u001b[2m\u001b[36m(TrainLightGCN pid=1038074)\u001b[0m Checkpoint successfully created at: Checkpoint(filesystem=local, path=/home/daviddavo/ray_results/TrainLightGCN_2023-11-10_20-19-58/TrainLightGCN_a3e2d7fc_124_trial_index=3,batch_size=5,conv_layers=3,embedding_dim=10,l2=0.0000,learning_rate=0.0003_2023-11-11_01-16-15/checkpoint_000000)\n",
      "\u001b[2m\u001b[36m(pid=1038946)\u001b[0m 2023-11-11 01:54:56.963427: E tensorflow/compiler/xla/stream_executor/cuda/cuda_dnn.cc:9342] Unable to register cuDNN factory: Attempting to register factory for plugin cuDNN when one has already been registered\n",
      "\u001b[2m\u001b[36m(pid=1038946)\u001b[0m 2023-11-11 01:54:56.963460: E tensorflow/compiler/xla/stream_executor/cuda/cuda_fft.cc:609] Unable to register cuFFT factory: Attempting to register factory for plugin cuFFT when one has already been registered\n",
      "\u001b[2m\u001b[36m(pid=1038946)\u001b[0m 2023-11-11 01:54:56.963472: E tensorflow/compiler/xla/stream_executor/cuda/cuda_blas.cc:1518] Unable to register cuBLAS factory: Attempting to register factory for plugin cuBLAS when one has already been registered\n",
      "\u001b[2m\u001b[36m(TrainLightGCN pid=1038946)\u001b[0m /home/daviddavo/upm-tfm-notebooks/.direnv/python-3.9/lib/python3.9/site-packages/recommenders/models/deeprec/DataModel/ImplicitCF.py:73: FutureWarning: The frame.append method is deprecated and will be removed from pandas in a future version. Use pandas.concat instead.\n",
      "\u001b[2m\u001b[36m(TrainLightGCN pid=1038946)\u001b[0m   df = train if test is None else train.append(test)\n"
     ]
    },
    {
     "name": "stdout",
     "output_type": "stream",
     "text": [
      "\u001b[2m\u001b[36m(TrainLightGCN pid=1038946)\u001b[0m Already create adjacency matrix.\n",
      "\u001b[2m\u001b[36m(TrainLightGCN pid=1038946)\u001b[0m Already normalize adjacency matrix.\n",
      "\u001b[2m\u001b[36m(TrainLightGCN pid=1038946)\u001b[0m Using xavier initialization.\n"
     ]
    },
    {
     "name": "stderr",
     "output_type": "stream",
     "text": [
      "\u001b[2m\u001b[36m(TrainLightGCN pid=1038218)\u001b[0m Checkpoint successfully created at: Checkpoint(filesystem=local, path=/home/daviddavo/ray_results/TrainLightGCN_2023-11-10_20-19-58/TrainLightGCN_f493a612_125_trial_index=4,batch_size=5,conv_layers=3,embedding_dim=10,l2=0.0000,learning_rate=0.0003_2023-11-11_01-24-34/checkpoint_000000)\n",
      "\u001b[2m\u001b[36m(pid=1039092)\u001b[0m 2023-11-11 02:02:55.065411: E tensorflow/compiler/xla/stream_executor/cuda/cuda_dnn.cc:9342] Unable to register cuDNN factory: Attempting to register factory for plugin cuDNN when one has already been registered\n",
      "\u001b[2m\u001b[36m(pid=1039092)\u001b[0m 2023-11-11 02:02:55.065445: E tensorflow/compiler/xla/stream_executor/cuda/cuda_fft.cc:609] Unable to register cuFFT factory: Attempting to register factory for plugin cuFFT when one has already been registered\n",
      "\u001b[2m\u001b[36m(pid=1039092)\u001b[0m 2023-11-11 02:02:55.065458: E tensorflow/compiler/xla/stream_executor/cuda/cuda_blas.cc:1518] Unable to register cuBLAS factory: Attempting to register factory for plugin cuBLAS when one has already been registered\n",
      "\u001b[2m\u001b[36m(TrainLightGCN pid=1039092)\u001b[0m /home/daviddavo/upm-tfm-notebooks/.direnv/python-3.9/lib/python3.9/site-packages/recommenders/models/deeprec/DataModel/ImplicitCF.py:73: FutureWarning: The frame.append method is deprecated and will be removed from pandas in a future version. Use pandas.concat instead.\n",
      "\u001b[2m\u001b[36m(TrainLightGCN pid=1039092)\u001b[0m   df = train if test is None else train.append(test)\n"
     ]
    },
    {
     "name": "stdout",
     "output_type": "stream",
     "text": [
      "\u001b[2m\u001b[36m(TrainLightGCN pid=1039092)\u001b[0m Already create adjacency matrix.\n",
      "\u001b[2m\u001b[36m(TrainLightGCN pid=1039092)\u001b[0m Already normalize adjacency matrix.\n",
      "\u001b[2m\u001b[36m(TrainLightGCN pid=1039092)\u001b[0m Using xavier initialization.\n"
     ]
    },
    {
     "name": "stderr",
     "output_type": "stream",
     "text": [
      "\u001b[2m\u001b[36m(TrainLightGCN pid=1039092)\u001b[0m Checkpoint successfully created at: Checkpoint(filesystem=local, path=/home/daviddavo/ray_results/TrainLightGCN_2023-11-10_20-19-58/TrainLightGCN_91f222a4_131_trial_index=0,batch_size=8,conv_layers=3,embedding_dim=15,l2=0.0000,learning_rate=0.0001_2023-11-11_01-54-59/checkpoint_000000)\n",
      "\u001b[2m\u001b[36m(pid=1039233)\u001b[0m 2023-11-11 02:03:35.085629: E tensorflow/compiler/xla/stream_executor/cuda/cuda_dnn.cc:9342] Unable to register cuDNN factory: Attempting to register factory for plugin cuDNN when one has already been registered\n",
      "\u001b[2m\u001b[36m(pid=1039233)\u001b[0m 2023-11-11 02:03:35.085665: E tensorflow/compiler/xla/stream_executor/cuda/cuda_fft.cc:609] Unable to register cuFFT factory: Attempting to register factory for plugin cuFFT when one has already been registered\n",
      "\u001b[2m\u001b[36m(pid=1039233)\u001b[0m 2023-11-11 02:03:35.085677: E tensorflow/compiler/xla/stream_executor/cuda/cuda_blas.cc:1518] Unable to register cuBLAS factory: Attempting to register factory for plugin cuBLAS when one has already been registered\n",
      "\u001b[2m\u001b[36m(TrainLightGCN pid=1039233)\u001b[0m /home/daviddavo/upm-tfm-notebooks/.direnv/python-3.9/lib/python3.9/site-packages/recommenders/models/deeprec/DataModel/ImplicitCF.py:73: FutureWarning: The frame.append method is deprecated and will be removed from pandas in a future version. Use pandas.concat instead.\n",
      "\u001b[2m\u001b[36m(TrainLightGCN pid=1039233)\u001b[0m   df = train if test is None else train.append(test)\n"
     ]
    },
    {
     "name": "stdout",
     "output_type": "stream",
     "text": [
      "\u001b[2m\u001b[36m(TrainLightGCN pid=1039233)\u001b[0m Already normalize adjacency matrix.\n",
      "\u001b[2m\u001b[36m(TrainLightGCN pid=1039233)\u001b[0m Using xavier initialization.\n",
      "\u001b[2m\u001b[36m(TrainLightGCN pid=1039233)\u001b[0m Already create adjacency matrix.\n"
     ]
    },
    {
     "name": "stderr",
     "output_type": "stream",
     "text": [
      "\u001b[2m\u001b[36m(TrainLightGCN pid=1039233)\u001b[0m Checkpoint successfully created at: Checkpoint(filesystem=local, path=/home/daviddavo/ray_results/TrainLightGCN_2023-11-10_20-19-58/TrainLightGCN_f3a5c2fe_132_trial_index=1,batch_size=8,conv_layers=3,embedding_dim=15,l2=0.0000,learning_rate=0.0001_2023-11-11_02-02-57/checkpoint_000000)\n",
      "\u001b[2m\u001b[36m(pid=1039375)\u001b[0m 2023-11-11 02:04:41.105495: E tensorflow/compiler/xla/stream_executor/cuda/cuda_dnn.cc:9342] Unable to register cuDNN factory: Attempting to register factory for plugin cuDNN when one has already been registered\n",
      "\u001b[2m\u001b[36m(pid=1039375)\u001b[0m 2023-11-11 02:04:41.105529: E tensorflow/compiler/xla/stream_executor/cuda/cuda_fft.cc:609] Unable to register cuFFT factory: Attempting to register factory for plugin cuFFT when one has already been registered\n",
      "\u001b[2m\u001b[36m(pid=1039375)\u001b[0m 2023-11-11 02:04:41.105542: E tensorflow/compiler/xla/stream_executor/cuda/cuda_blas.cc:1518] Unable to register cuBLAS factory: Attempting to register factory for plugin cuBLAS when one has already been registered\n",
      "\u001b[2m\u001b[36m(TrainLightGCN pid=1039375)\u001b[0m /home/daviddavo/upm-tfm-notebooks/.direnv/python-3.9/lib/python3.9/site-packages/recommenders/models/deeprec/DataModel/ImplicitCF.py:73: FutureWarning: The frame.append method is deprecated and will be removed from pandas in a future version. Use pandas.concat instead.\n",
      "\u001b[2m\u001b[36m(TrainLightGCN pid=1039375)\u001b[0m   df = train if test is None else train.append(test)\n"
     ]
    },
    {
     "name": "stdout",
     "output_type": "stream",
     "text": [
      "\u001b[2m\u001b[36m(TrainLightGCN pid=1039375)\u001b[0m Already create adjacency matrix.\n",
      "\u001b[2m\u001b[36m(TrainLightGCN pid=1039375)\u001b[0m Already normalize adjacency matrix.\n",
      "\u001b[2m\u001b[36m(TrainLightGCN pid=1039375)\u001b[0m Using xavier initialization.\n"
     ]
    },
    {
     "name": "stderr",
     "output_type": "stream",
     "text": [
      "\u001b[2m\u001b[36m(TrainLightGCN pid=1039375)\u001b[0m Checkpoint successfully created at: Checkpoint(filesystem=local, path=/home/daviddavo/ray_results/TrainLightGCN_2023-11-10_20-19-58/TrainLightGCN_8c00ccb7_133_trial_index=2,batch_size=8,conv_layers=3,embedding_dim=15,l2=0.0000,learning_rate=0.0001_2023-11-11_02-03-37/checkpoint_000000)\n",
      "\u001b[2m\u001b[36m(pid=1039519)\u001b[0m 2023-11-11 02:07:10.127715: E tensorflow/compiler/xla/stream_executor/cuda/cuda_dnn.cc:9342] Unable to register cuDNN factory: Attempting to register factory for plugin cuDNN when one has already been registered\n",
      "\u001b[2m\u001b[36m(pid=1039519)\u001b[0m 2023-11-11 02:07:10.127755: E tensorflow/compiler/xla/stream_executor/cuda/cuda_fft.cc:609] Unable to register cuFFT factory: Attempting to register factory for plugin cuFFT when one has already been registered\n",
      "\u001b[2m\u001b[36m(pid=1039519)\u001b[0m 2023-11-11 02:07:10.127768: E tensorflow/compiler/xla/stream_executor/cuda/cuda_blas.cc:1518] Unable to register cuBLAS factory: Attempting to register factory for plugin cuBLAS when one has already been registered\n",
      "\u001b[2m\u001b[36m(TrainLightGCN pid=1039519)\u001b[0m /home/daviddavo/upm-tfm-notebooks/.direnv/python-3.9/lib/python3.9/site-packages/recommenders/models/deeprec/DataModel/ImplicitCF.py:73: FutureWarning: The frame.append method is deprecated and will be removed from pandas in a future version. Use pandas.concat instead.\n",
      "\u001b[2m\u001b[36m(TrainLightGCN pid=1039519)\u001b[0m   df = train if test is None else train.append(test)\n"
     ]
    },
    {
     "name": "stdout",
     "output_type": "stream",
     "text": [
      "\u001b[2m\u001b[36m(TrainLightGCN pid=1039519)\u001b[0m Already normalize adjacency matrix.\n",
      "\u001b[2m\u001b[36m(TrainLightGCN pid=1039519)\u001b[0m Using xavier initialization.\n",
      "\u001b[2m\u001b[36m(TrainLightGCN pid=1039519)\u001b[0m Already create adjacency matrix.\n"
     ]
    },
    {
     "name": "stderr",
     "output_type": "stream",
     "text": [
      "\u001b[2m\u001b[36m(TrainLightGCN pid=1032636)\u001b[0m Checkpoint successfully created at: Checkpoint(filesystem=local, path=/home/daviddavo/ray_results/TrainLightGCN_2023-11-10_20-19-58/TrainLightGCN_8a9d1142_99_trial_index=8,batch_size=5,conv_layers=5,embedding_dim=425,l2=0.0002,learning_rate=0.0021_2023-11-10_23-34-27/checkpoint_000000)\n",
      "\u001b[2m\u001b[36m(pid=1039662)\u001b[0m 2023-11-11 02:09:53.161548: E tensorflow/compiler/xla/stream_executor/cuda/cuda_dnn.cc:9342] Unable to register cuDNN factory: Attempting to register factory for plugin cuDNN when one has already been registered\n",
      "\u001b[2m\u001b[36m(pid=1039662)\u001b[0m 2023-11-11 02:09:53.161585: E tensorflow/compiler/xla/stream_executor/cuda/cuda_fft.cc:609] Unable to register cuFFT factory: Attempting to register factory for plugin cuFFT when one has already been registered\n",
      "\u001b[2m\u001b[36m(pid=1039662)\u001b[0m 2023-11-11 02:09:53.161597: E tensorflow/compiler/xla/stream_executor/cuda/cuda_blas.cc:1518] Unable to register cuBLAS factory: Attempting to register factory for plugin cuBLAS when one has already been registered\n",
      "\u001b[2m\u001b[36m(TrainLightGCN pid=1039662)\u001b[0m /home/daviddavo/upm-tfm-notebooks/.direnv/python-3.9/lib/python3.9/site-packages/recommenders/models/deeprec/DataModel/ImplicitCF.py:73: FutureWarning: The frame.append method is deprecated and will be removed from pandas in a future version. Use pandas.concat instead.\n",
      "\u001b[2m\u001b[36m(TrainLightGCN pid=1039662)\u001b[0m   df = train if test is None else train.append(test)\n"
     ]
    },
    {
     "name": "stdout",
     "output_type": "stream",
     "text": [
      "\u001b[2m\u001b[36m(TrainLightGCN pid=1039662)\u001b[0m Already create adjacency matrix.\n",
      "\u001b[2m\u001b[36m(TrainLightGCN pid=1039662)\u001b[0m Already normalize adjacency matrix.\n",
      "\u001b[2m\u001b[36m(TrainLightGCN pid=1039662)\u001b[0m Using xavier initialization.\n"
     ]
    },
    {
     "name": "stderr",
     "output_type": "stream",
     "text": [
      "\u001b[2m\u001b[36m(TrainLightGCN pid=1039519)\u001b[0m Checkpoint successfully created at: Checkpoint(filesystem=local, path=/home/daviddavo/ray_results/TrainLightGCN_2023-11-10_20-19-58/TrainLightGCN_4add460a_134_trial_index=3,batch_size=8,conv_layers=3,embedding_dim=15,l2=0.0000,learning_rate=0.0001_2023-11-11_02-04-43/checkpoint_000000)\n",
      "\u001b[2m\u001b[36m(pid=1039806)\u001b[0m 2023-11-11 02:10:38.168307: E tensorflow/compiler/xla/stream_executor/cuda/cuda_dnn.cc:9342] Unable to register cuDNN factory: Attempting to register factory for plugin cuDNN when one has already been registered\n",
      "\u001b[2m\u001b[36m(pid=1039806)\u001b[0m 2023-11-11 02:10:38.168411: E tensorflow/compiler/xla/stream_executor/cuda/cuda_fft.cc:609] Unable to register cuFFT factory: Attempting to register factory for plugin cuFFT when one has already been registered\n",
      "\u001b[2m\u001b[36m(pid=1039806)\u001b[0m 2023-11-11 02:10:38.168425: E tensorflow/compiler/xla/stream_executor/cuda/cuda_blas.cc:1518] Unable to register cuBLAS factory: Attempting to register factory for plugin cuBLAS when one has already been registered\n",
      "\u001b[2m\u001b[36m(TrainLightGCN pid=1039806)\u001b[0m /home/daviddavo/upm-tfm-notebooks/.direnv/python-3.9/lib/python3.9/site-packages/recommenders/models/deeprec/DataModel/ImplicitCF.py:73: FutureWarning: The frame.append method is deprecated and will be removed from pandas in a future version. Use pandas.concat instead.\n",
      "\u001b[2m\u001b[36m(TrainLightGCN pid=1039806)\u001b[0m   df = train if test is None else train.append(test)\n"
     ]
    },
    {
     "name": "stdout",
     "output_type": "stream",
     "text": [
      "\u001b[2m\u001b[36m(TrainLightGCN pid=1039806)\u001b[0m Already create adjacency matrix.\n",
      "\u001b[2m\u001b[36m(TrainLightGCN pid=1039806)\u001b[0m Already normalize adjacency matrix.\n",
      "\u001b[2m\u001b[36m(TrainLightGCN pid=1039806)\u001b[0m Using xavier initialization.\n"
     ]
    },
    {
     "name": "stderr",
     "output_type": "stream",
     "text": [
      "\u001b[2m\u001b[36m(TrainLightGCN pid=1038361)\u001b[0m Checkpoint successfully created at: Checkpoint(filesystem=local, path=/home/daviddavo/ray_results/TrainLightGCN_2023-11-10_20-19-58/TrainLightGCN_eacb4404_126_trial_index=5,batch_size=5,conv_layers=3,embedding_dim=10,l2=0.0000,learning_rate=0.0003_2023-11-11_01-26-36/checkpoint_000000)\n",
      "\u001b[2m\u001b[36m(pid=1039949)\u001b[0m 2023-11-11 02:10:50.182975: E tensorflow/compiler/xla/stream_executor/cuda/cuda_dnn.cc:9342] Unable to register cuDNN factory: Attempting to register factory for plugin cuDNN when one has already been registered\n",
      "\u001b[2m\u001b[36m(pid=1039949)\u001b[0m 2023-11-11 02:10:50.183011: E tensorflow/compiler/xla/stream_executor/cuda/cuda_fft.cc:609] Unable to register cuFFT factory: Attempting to register factory for plugin cuFFT when one has already been registered\n",
      "\u001b[2m\u001b[36m(pid=1039949)\u001b[0m 2023-11-11 02:10:50.183024: E tensorflow/compiler/xla/stream_executor/cuda/cuda_blas.cc:1518] Unable to register cuBLAS factory: Attempting to register factory for plugin cuBLAS when one has already been registered\n",
      "\u001b[2m\u001b[36m(TrainLightGCN pid=1039949)\u001b[0m /home/daviddavo/upm-tfm-notebooks/.direnv/python-3.9/lib/python3.9/site-packages/recommenders/models/deeprec/DataModel/ImplicitCF.py:73: FutureWarning: The frame.append method is deprecated and will be removed from pandas in a future version. Use pandas.concat instead.\n",
      "\u001b[2m\u001b[36m(TrainLightGCN pid=1039949)\u001b[0m   df = train if test is None else train.append(test)\n"
     ]
    },
    {
     "name": "stdout",
     "output_type": "stream",
     "text": [
      "\u001b[2m\u001b[36m(TrainLightGCN pid=1039949)\u001b[0m Already create adjacency matrix.\n",
      "\u001b[2m\u001b[36m(TrainLightGCN pid=1039949)\u001b[0m Already normalize adjacency matrix.\n",
      "\u001b[2m\u001b[36m(TrainLightGCN pid=1039949)\u001b[0m Using xavier initialization.\n"
     ]
    },
    {
     "name": "stderr",
     "output_type": "stream",
     "text": [
      "\u001b[2m\u001b[36m(TrainLightGCN pid=1039662)\u001b[0m Checkpoint successfully created at: Checkpoint(filesystem=local, path=/home/daviddavo/ray_results/TrainLightGCN_2023-11-10_20-19-58/TrainLightGCN_af4c4c5a_135_trial_index=4,batch_size=8,conv_layers=3,embedding_dim=15,l2=0.0000,learning_rate=0.0001_2023-11-11_02-07-12/checkpoint_000000)\n",
      "\u001b[2m\u001b[36m(pid=1040093)\u001b[0m 2023-11-11 02:13:03.237147: E tensorflow/compiler/xla/stream_executor/cuda/cuda_dnn.cc:9342] Unable to register cuDNN factory: Attempting to register factory for plugin cuDNN when one has already been registered\n",
      "\u001b[2m\u001b[36m(pid=1040093)\u001b[0m 2023-11-11 02:13:03.237183: E tensorflow/compiler/xla/stream_executor/cuda/cuda_fft.cc:609] Unable to register cuFFT factory: Attempting to register factory for plugin cuFFT when one has already been registered\n",
      "\u001b[2m\u001b[36m(pid=1040093)\u001b[0m 2023-11-11 02:13:03.237196: E tensorflow/compiler/xla/stream_executor/cuda/cuda_blas.cc:1518] Unable to register cuBLAS factory: Attempting to register factory for plugin cuBLAS when one has already been registered\n",
      "\u001b[2m\u001b[36m(TrainLightGCN pid=1040093)\u001b[0m /home/daviddavo/upm-tfm-notebooks/.direnv/python-3.9/lib/python3.9/site-packages/recommenders/models/deeprec/DataModel/ImplicitCF.py:73: FutureWarning: The frame.append method is deprecated and will be removed from pandas in a future version. Use pandas.concat instead.\n",
      "\u001b[2m\u001b[36m(TrainLightGCN pid=1040093)\u001b[0m   df = train if test is None else train.append(test)\n"
     ]
    },
    {
     "name": "stdout",
     "output_type": "stream",
     "text": [
      "\u001b[2m\u001b[36m(TrainLightGCN pid=1040093)\u001b[0m Already create adjacency matrix.\n",
      "\u001b[2m\u001b[36m(TrainLightGCN pid=1040093)\u001b[0m Already normalize adjacency matrix.\n",
      "\u001b[2m\u001b[36m(TrainLightGCN pid=1040093)\u001b[0m Using xavier initialization.\n"
     ]
    },
    {
     "name": "stderr",
     "output_type": "stream",
     "text": [
      "\u001b[2m\u001b[36m(TrainLightGCN pid=1039806)\u001b[0m Checkpoint successfully created at: Checkpoint(filesystem=local, path=/home/daviddavo/ray_results/TrainLightGCN_2023-11-10_20-19-58/TrainLightGCN_b1a08611_136_trial_index=5,batch_size=8,conv_layers=3,embedding_dim=15,l2=0.0000,learning_rate=0.0001_2023-11-11_02-09-55/checkpoint_000000)\n",
      "\u001b[2m\u001b[36m(pid=1040238)\u001b[0m 2023-11-11 02:14:43.216448: E tensorflow/compiler/xla/stream_executor/cuda/cuda_dnn.cc:9342] Unable to register cuDNN factory: Attempting to register factory for plugin cuDNN when one has already been registered\n",
      "\u001b[2m\u001b[36m(pid=1040238)\u001b[0m 2023-11-11 02:14:43.216485: E tensorflow/compiler/xla/stream_executor/cuda/cuda_fft.cc:609] Unable to register cuFFT factory: Attempting to register factory for plugin cuFFT when one has already been registered\n",
      "\u001b[2m\u001b[36m(pid=1040238)\u001b[0m 2023-11-11 02:14:43.216497: E tensorflow/compiler/xla/stream_executor/cuda/cuda_blas.cc:1518] Unable to register cuBLAS factory: Attempting to register factory for plugin cuBLAS when one has already been registered\n",
      "\u001b[2m\u001b[36m(TrainLightGCN pid=1040238)\u001b[0m /home/daviddavo/upm-tfm-notebooks/.direnv/python-3.9/lib/python3.9/site-packages/recommenders/models/deeprec/DataModel/ImplicitCF.py:73: FutureWarning: The frame.append method is deprecated and will be removed from pandas in a future version. Use pandas.concat instead.\n",
      "\u001b[2m\u001b[36m(TrainLightGCN pid=1040238)\u001b[0m   df = train if test is None else train.append(test)\n"
     ]
    },
    {
     "name": "stdout",
     "output_type": "stream",
     "text": [
      "\u001b[2m\u001b[36m(TrainLightGCN pid=1040238)\u001b[0m Already create adjacency matrix.\n",
      "\u001b[2m\u001b[36m(TrainLightGCN pid=1040238)\u001b[0m Already normalize adjacency matrix.\n",
      "\u001b[2m\u001b[36m(TrainLightGCN pid=1040238)\u001b[0m Using xavier initialization.\n"
     ]
    },
    {
     "name": "stderr",
     "output_type": "stream",
     "text": [
      "\u001b[2m\u001b[36m(TrainLightGCN pid=1039949)\u001b[0m Checkpoint successfully created at: Checkpoint(filesystem=local, path=/home/daviddavo/ray_results/TrainLightGCN_2023-11-10_20-19-58/TrainLightGCN_77b99e90_137_trial_index=6,batch_size=8,conv_layers=3,embedding_dim=15,l2=0.0000,learning_rate=0.0001_2023-11-11_02-10-40/checkpoint_000000)\n",
      "\u001b[2m\u001b[36m(pid=1040381)\u001b[0m 2023-11-11 02:16:05.226422: E tensorflow/compiler/xla/stream_executor/cuda/cuda_dnn.cc:9342] Unable to register cuDNN factory: Attempting to register factory for plugin cuDNN when one has already been registered\n",
      "\u001b[2m\u001b[36m(pid=1040381)\u001b[0m 2023-11-11 02:16:05.226457: E tensorflow/compiler/xla/stream_executor/cuda/cuda_fft.cc:609] Unable to register cuFFT factory: Attempting to register factory for plugin cuFFT when one has already been registered\n",
      "\u001b[2m\u001b[36m(pid=1040381)\u001b[0m 2023-11-11 02:16:05.226468: E tensorflow/compiler/xla/stream_executor/cuda/cuda_blas.cc:1518] Unable to register cuBLAS factory: Attempting to register factory for plugin cuBLAS when one has already been registered\n",
      "\u001b[2m\u001b[36m(TrainLightGCN pid=1040381)\u001b[0m /home/daviddavo/upm-tfm-notebooks/.direnv/python-3.9/lib/python3.9/site-packages/recommenders/models/deeprec/DataModel/ImplicitCF.py:73: FutureWarning: The frame.append method is deprecated and will be removed from pandas in a future version. Use pandas.concat instead.\n",
      "\u001b[2m\u001b[36m(TrainLightGCN pid=1040381)\u001b[0m   df = train if test is None else train.append(test)\n"
     ]
    },
    {
     "name": "stdout",
     "output_type": "stream",
     "text": [
      "\u001b[2m\u001b[36m(TrainLightGCN pid=1040381)\u001b[0m Already create adjacency matrix.\n",
      "\u001b[2m\u001b[36m(TrainLightGCN pid=1040381)\u001b[0m Already normalize adjacency matrix.\n",
      "\u001b[2m\u001b[36m(TrainLightGCN pid=1040381)\u001b[0m Using xavier initialization.\n"
     ]
    },
    {
     "name": "stderr",
     "output_type": "stream",
     "text": [
      "\u001b[2m\u001b[36m(TrainLightGCN pid=1038508)\u001b[0m Checkpoint successfully created at: Checkpoint(filesystem=local, path=/home/daviddavo/ray_results/TrainLightGCN_2023-11-10_20-19-58/TrainLightGCN_7371c8e6_127_trial_index=6,batch_size=5,conv_layers=3,embedding_dim=10,l2=0.0000,learning_rate=0.0003_2023-11-11_01-26-50/checkpoint_000000)\n",
      "\u001b[2m\u001b[36m(pid=1040529)\u001b[0m 2023-11-11 02:19:04.349282: E tensorflow/compiler/xla/stream_executor/cuda/cuda_dnn.cc:9342] Unable to register cuDNN factory: Attempting to register factory for plugin cuDNN when one has already been registered\n",
      "\u001b[2m\u001b[36m(pid=1040529)\u001b[0m 2023-11-11 02:19:04.349319: E tensorflow/compiler/xla/stream_executor/cuda/cuda_fft.cc:609] Unable to register cuFFT factory: Attempting to register factory for plugin cuFFT when one has already been registered\n",
      "\u001b[2m\u001b[36m(pid=1040529)\u001b[0m 2023-11-11 02:19:04.349333: E tensorflow/compiler/xla/stream_executor/cuda/cuda_blas.cc:1518] Unable to register cuBLAS factory: Attempting to register factory for plugin cuBLAS when one has already been registered\n",
      "\u001b[2m\u001b[36m(TrainLightGCN pid=1040529)\u001b[0m /home/daviddavo/upm-tfm-notebooks/.direnv/python-3.9/lib/python3.9/site-packages/recommenders/models/deeprec/DataModel/ImplicitCF.py:73: FutureWarning: The frame.append method is deprecated and will be removed from pandas in a future version. Use pandas.concat instead.\n",
      "\u001b[2m\u001b[36m(TrainLightGCN pid=1040529)\u001b[0m   df = train if test is None else train.append(test)\n"
     ]
    },
    {
     "name": "stdout",
     "output_type": "stream",
     "text": [
      "\u001b[2m\u001b[36m(TrainLightGCN pid=1040529)\u001b[0m Already create adjacency matrix.\n",
      "\u001b[2m\u001b[36m(TrainLightGCN pid=1040529)\u001b[0m Already normalize adjacency matrix.\n",
      "\u001b[2m\u001b[36m(TrainLightGCN pid=1040529)\u001b[0m Using xavier initialization.\n"
     ]
    },
    {
     "name": "stderr",
     "output_type": "stream",
     "text": [
      "\u001b[2m\u001b[36m(TrainLightGCN pid=1040093)\u001b[0m Checkpoint successfully created at: Checkpoint(filesystem=local, path=/home/daviddavo/ray_results/TrainLightGCN_2023-11-10_20-19-58/TrainLightGCN_6a448281_138_trial_index=7,batch_size=8,conv_layers=3,embedding_dim=15,l2=0.0000,learning_rate=0.0001_2023-11-11_02-10-52/checkpoint_000000)\n",
      "\u001b[2m\u001b[36m(pid=1040673)\u001b[0m 2023-11-11 02:19:23.281181: E tensorflow/compiler/xla/stream_executor/cuda/cuda_dnn.cc:9342] Unable to register cuDNN factory: Attempting to register factory for plugin cuDNN when one has already been registered\n",
      "\u001b[2m\u001b[36m(pid=1040673)\u001b[0m 2023-11-11 02:19:23.281213: E tensorflow/compiler/xla/stream_executor/cuda/cuda_fft.cc:609] Unable to register cuFFT factory: Attempting to register factory for plugin cuFFT when one has already been registered\n",
      "\u001b[2m\u001b[36m(pid=1040673)\u001b[0m 2023-11-11 02:19:23.281226: E tensorflow/compiler/xla/stream_executor/cuda/cuda_blas.cc:1518] Unable to register cuBLAS factory: Attempting to register factory for plugin cuBLAS when one has already been registered\n",
      "\u001b[2m\u001b[36m(TrainLightGCN pid=1040673)\u001b[0m /home/daviddavo/upm-tfm-notebooks/.direnv/python-3.9/lib/python3.9/site-packages/recommenders/models/deeprec/DataModel/ImplicitCF.py:73: FutureWarning: The frame.append method is deprecated and will be removed from pandas in a future version. Use pandas.concat instead.\n",
      "\u001b[2m\u001b[36m(TrainLightGCN pid=1040673)\u001b[0m   df = train if test is None else train.append(test)\n"
     ]
    },
    {
     "name": "stdout",
     "output_type": "stream",
     "text": [
      "\u001b[2m\u001b[36m(TrainLightGCN pid=1040673)\u001b[0m Already normalize adjacency matrix.\n",
      "\u001b[2m\u001b[36m(TrainLightGCN pid=1040673)\u001b[0m Already create adjacency matrix.\n",
      "\u001b[2m\u001b[36m(TrainLightGCN pid=1040673)\u001b[0m Using xavier initialization.\n"
     ]
    },
    {
     "name": "stderr",
     "output_type": "stream",
     "text": [
      "\u001b[2m\u001b[36m(TrainLightGCN pid=1040529)\u001b[0m Checkpoint successfully created at: Checkpoint(filesystem=local, path=/home/daviddavo/ray_results/TrainLightGCN_2023-11-10_20-19-58/TrainLightGCN_97240d8c_141_trial_index=0,batch_size=5,conv_layers=5,embedding_dim=45,l2=0.0359,learning_rate=0.0002_2023-11-11_02-16-07/checkpoint_000000)\n",
      "\u001b[2m\u001b[36m(pid=1040815)\u001b[0m 2023-11-11 02:21:51.268663: E tensorflow/compiler/xla/stream_executor/cuda/cuda_dnn.cc:9342] Unable to register cuDNN factory: Attempting to register factory for plugin cuDNN when one has already been registered\n",
      "\u001b[2m\u001b[36m(pid=1040815)\u001b[0m 2023-11-11 02:21:51.268699: E tensorflow/compiler/xla/stream_executor/cuda/cuda_fft.cc:609] Unable to register cuFFT factory: Attempting to register factory for plugin cuFFT when one has already been registered\n",
      "\u001b[2m\u001b[36m(pid=1040815)\u001b[0m 2023-11-11 02:21:51.268711: E tensorflow/compiler/xla/stream_executor/cuda/cuda_blas.cc:1518] Unable to register cuBLAS factory: Attempting to register factory for plugin cuBLAS when one has already been registered\n",
      "\u001b[2m\u001b[36m(TrainLightGCN pid=1040815)\u001b[0m /home/daviddavo/upm-tfm-notebooks/.direnv/python-3.9/lib/python3.9/site-packages/recommenders/models/deeprec/DataModel/ImplicitCF.py:73: FutureWarning: The frame.append method is deprecated and will be removed from pandas in a future version. Use pandas.concat instead.\n",
      "\u001b[2m\u001b[36m(TrainLightGCN pid=1040815)\u001b[0m   df = train if test is None else train.append(test)\n"
     ]
    },
    {
     "name": "stdout",
     "output_type": "stream",
     "text": [
      "\u001b[2m\u001b[36m(TrainLightGCN pid=1040815)\u001b[0m Already create adjacency matrix.\n",
      "\u001b[2m\u001b[36m(TrainLightGCN pid=1040815)\u001b[0m Using xavier initialization.\n",
      "\u001b[2m\u001b[36m(TrainLightGCN pid=1040815)\u001b[0m Already normalize adjacency matrix.\n"
     ]
    },
    {
     "name": "stderr",
     "output_type": "stream",
     "text": [
      "\u001b[2m\u001b[36m(TrainLightGCN pid=1040673)\u001b[0m Checkpoint successfully created at: Checkpoint(filesystem=local, path=/home/daviddavo/ray_results/TrainLightGCN_2023-11-10_20-19-58/TrainLightGCN_e9a3828e_142_trial_index=1,batch_size=5,conv_layers=5,embedding_dim=45,l2=0.0359,learning_rate=0.0002_2023-11-11_02-19-06/checkpoint_000000)\n",
      "\u001b[2m\u001b[36m(pid=1040959)\u001b[0m 2023-11-11 02:24:17.335639: E tensorflow/compiler/xla/stream_executor/cuda/cuda_dnn.cc:9342] Unable to register cuDNN factory: Attempting to register factory for plugin cuDNN when one has already been registered\n",
      "\u001b[2m\u001b[36m(pid=1040959)\u001b[0m 2023-11-11 02:24:17.335672: E tensorflow/compiler/xla/stream_executor/cuda/cuda_fft.cc:609] Unable to register cuFFT factory: Attempting to register factory for plugin cuFFT when one has already been registered\n",
      "\u001b[2m\u001b[36m(pid=1040959)\u001b[0m 2023-11-11 02:24:17.335686: E tensorflow/compiler/xla/stream_executor/cuda/cuda_blas.cc:1518] Unable to register cuBLAS factory: Attempting to register factory for plugin cuBLAS when one has already been registered\n",
      "\u001b[2m\u001b[36m(TrainLightGCN pid=1040959)\u001b[0m /home/daviddavo/upm-tfm-notebooks/.direnv/python-3.9/lib/python3.9/site-packages/recommenders/models/deeprec/DataModel/ImplicitCF.py:73: FutureWarning: The frame.append method is deprecated and will be removed from pandas in a future version. Use pandas.concat instead.\n",
      "\u001b[2m\u001b[36m(TrainLightGCN pid=1040959)\u001b[0m   df = train if test is None else train.append(test)\n"
     ]
    },
    {
     "name": "stdout",
     "output_type": "stream",
     "text": [
      "\u001b[2m\u001b[36m(TrainLightGCN pid=1040959)\u001b[0m Already create adjacency matrix.\n",
      "\u001b[2m\u001b[36m(TrainLightGCN pid=1040959)\u001b[0m Already normalize adjacency matrix.\n",
      "\u001b[2m\u001b[36m(TrainLightGCN pid=1040959)\u001b[0m Using xavier initialization.\n"
     ]
    },
    {
     "name": "stderr",
     "output_type": "stream",
     "text": [
      "\u001b[2m\u001b[36m(TrainLightGCN pid=1040238)\u001b[0m Checkpoint successfully created at: Checkpoint(filesystem=local, path=/home/daviddavo/ray_results/TrainLightGCN_2023-11-10_20-19-58/TrainLightGCN_c0c6476e_139_trial_index=8,batch_size=8,conv_layers=3,embedding_dim=15,l2=0.0000,learning_rate=0.0001_2023-11-11_02-13-05/checkpoint_000000)\n"
     ]
    },
    {
     "name": "stdout",
     "output_type": "stream",
     "text": [
      "\u001b[2m\u001b[36m(TrainLightGCN pid=1041073)\u001b[0m Already create adjacency matrix.\n"
     ]
    },
    {
     "name": "stderr",
     "output_type": "stream",
     "text": [
      "\u001b[2m\u001b[36m(pid=1041073)\u001b[0m 2023-11-11 02:24:20.707017: E tensorflow/compiler/xla/stream_executor/cuda/cuda_dnn.cc:9342] Unable to register cuDNN factory: Attempting to register factory for plugin cuDNN when one has already been registered\n",
      "\u001b[2m\u001b[36m(pid=1041073)\u001b[0m 2023-11-11 02:24:20.707052: E tensorflow/compiler/xla/stream_executor/cuda/cuda_fft.cc:609] Unable to register cuFFT factory: Attempting to register factory for plugin cuFFT when one has already been registered\n",
      "\u001b[2m\u001b[36m(pid=1041073)\u001b[0m 2023-11-11 02:24:20.707065: E tensorflow/compiler/xla/stream_executor/cuda/cuda_blas.cc:1518] Unable to register cuBLAS factory: Attempting to register factory for plugin cuBLAS when one has already been registered\n",
      "\u001b[2m\u001b[36m(TrainLightGCN pid=1041073)\u001b[0m /home/daviddavo/upm-tfm-notebooks/.direnv/python-3.9/lib/python3.9/site-packages/recommenders/models/deeprec/DataModel/ImplicitCF.py:73: FutureWarning: The frame.append method is deprecated and will be removed from pandas in a future version. Use pandas.concat instead.\n",
      "\u001b[2m\u001b[36m(TrainLightGCN pid=1041073)\u001b[0m   df = train if test is None else train.append(test)\n",
      "\u001b[2m\u001b[36m(TrainLightGCN pid=1040381)\u001b[0m Checkpoint successfully created at: Checkpoint(filesystem=local, path=/home/daviddavo/ray_results/TrainLightGCN_2023-11-10_20-19-58/TrainLightGCN_5908dd5a_140_trial_index=9,batch_size=8,conv_layers=3,embedding_dim=15,l2=0.0000,learning_rate=0.0001_2023-11-11_02-14-45/checkpoint_000000)\n",
      "\u001b[2m\u001b[36m(pid=1041245)\u001b[0m 2023-11-11 02:28:38.364467: E tensorflow/compiler/xla/stream_executor/cuda/cuda_dnn.cc:9342] Unable to register cuDNN factory: Attempting to register factory for plugin cuDNN when one has already been registered\n",
      "\u001b[2m\u001b[36m(pid=1041245)\u001b[0m 2023-11-11 02:28:38.364504: E tensorflow/compiler/xla/stream_executor/cuda/cuda_fft.cc:609] Unable to register cuFFT factory: Attempting to register factory for plugin cuFFT when one has already been registered\n",
      "\u001b[2m\u001b[36m(pid=1041245)\u001b[0m 2023-11-11 02:28:38.364522: E tensorflow/compiler/xla/stream_executor/cuda/cuda_blas.cc:1518] Unable to register cuBLAS factory: Attempting to register factory for plugin cuBLAS when one has already been registered\n",
      "\u001b[2m\u001b[36m(TrainLightGCN pid=1041245)\u001b[0m /home/daviddavo/upm-tfm-notebooks/.direnv/python-3.9/lib/python3.9/site-packages/recommenders/models/deeprec/DataModel/ImplicitCF.py:73: FutureWarning: The frame.append method is deprecated and will be removed from pandas in a future version. Use pandas.concat instead.\n",
      "\u001b[2m\u001b[36m(TrainLightGCN pid=1041245)\u001b[0m   df = train if test is None else train.append(test)\n"
     ]
    },
    {
     "name": "stdout",
     "output_type": "stream",
     "text": [
      "\u001b[2m\u001b[36m(TrainLightGCN pid=1041245)\u001b[0m Already normalize adjacency matrix.\u001b[32m [repeated 2x across cluster]\u001b[0m\n",
      "\u001b[2m\u001b[36m(TrainLightGCN pid=1041245)\u001b[0m Using xavier initialization.\u001b[32m [repeated 2x across cluster]\u001b[0m\n",
      "\u001b[2m\u001b[36m(TrainLightGCN pid=1041245)\u001b[0m Already create adjacency matrix.\n"
     ]
    },
    {
     "name": "stderr",
     "output_type": "stream",
     "text": [
      "\u001b[2m\u001b[36m(TrainLightGCN pid=1038651)\u001b[0m Checkpoint successfully created at: Checkpoint(filesystem=local, path=/home/daviddavo/ray_results/TrainLightGCN_2023-11-10_20-19-58/TrainLightGCN_86a56e2e_128_trial_index=7,batch_size=5,conv_layers=3,embedding_dim=10,l2=0.0000,learning_rate=0.0003_2023-11-11_01-30-04/checkpoint_000000)\n",
      "\u001b[2m\u001b[36m(pid=1041390)\u001b[0m 2023-11-11 02:32:13.383340: E tensorflow/compiler/xla/stream_executor/cuda/cuda_dnn.cc:9342] Unable to register cuDNN factory: Attempting to register factory for plugin cuDNN when one has already been registered\n",
      "\u001b[2m\u001b[36m(pid=1041390)\u001b[0m 2023-11-11 02:32:13.383378: E tensorflow/compiler/xla/stream_executor/cuda/cuda_fft.cc:609] Unable to register cuFFT factory: Attempting to register factory for plugin cuFFT when one has already been registered\n",
      "\u001b[2m\u001b[36m(pid=1041390)\u001b[0m 2023-11-11 02:32:13.383390: E tensorflow/compiler/xla/stream_executor/cuda/cuda_blas.cc:1518] Unable to register cuBLAS factory: Attempting to register factory for plugin cuBLAS when one has already been registered\n",
      "\u001b[2m\u001b[36m(TrainLightGCN pid=1041390)\u001b[0m /home/daviddavo/upm-tfm-notebooks/.direnv/python-3.9/lib/python3.9/site-packages/recommenders/models/deeprec/DataModel/ImplicitCF.py:73: FutureWarning: The frame.append method is deprecated and will be removed from pandas in a future version. Use pandas.concat instead.\n",
      "\u001b[2m\u001b[36m(TrainLightGCN pid=1041390)\u001b[0m   df = train if test is None else train.append(test)\n"
     ]
    },
    {
     "name": "stdout",
     "output_type": "stream",
     "text": [
      "\u001b[2m\u001b[36m(TrainLightGCN pid=1041390)\u001b[0m Already create adjacency matrix.\n",
      "\u001b[2m\u001b[36m(TrainLightGCN pid=1041390)\u001b[0m Already normalize adjacency matrix.\n",
      "\u001b[2m\u001b[36m(TrainLightGCN pid=1041390)\u001b[0m Using xavier initialization.\n"
     ]
    },
    {
     "name": "stderr",
     "output_type": "stream",
     "text": [
      "\u001b[2m\u001b[36m(TrainLightGCN pid=1040815)\u001b[0m Checkpoint successfully created at: Checkpoint(filesystem=local, path=/home/daviddavo/ray_results/TrainLightGCN_2023-11-10_20-19-58/TrainLightGCN_50910303_143_trial_index=2,batch_size=5,conv_layers=5,embedding_dim=45,l2=0.0359,learning_rate=0.0002_2023-11-11_02-19-25/checkpoint_000000)\n",
      "\u001b[2m\u001b[36m(pid=1041535)\u001b[0m 2023-11-11 02:34:17.441291: E tensorflow/compiler/xla/stream_executor/cuda/cuda_dnn.cc:9342] Unable to register cuDNN factory: Attempting to register factory for plugin cuDNN when one has already been registered\n",
      "\u001b[2m\u001b[36m(pid=1041535)\u001b[0m 2023-11-11 02:34:17.441327: E tensorflow/compiler/xla/stream_executor/cuda/cuda_fft.cc:609] Unable to register cuFFT factory: Attempting to register factory for plugin cuFFT when one has already been registered\n",
      "\u001b[2m\u001b[36m(pid=1041535)\u001b[0m 2023-11-11 02:34:17.441339: E tensorflow/compiler/xla/stream_executor/cuda/cuda_blas.cc:1518] Unable to register cuBLAS factory: Attempting to register factory for plugin cuBLAS when one has already been registered\n",
      "\u001b[2m\u001b[36m(TrainLightGCN pid=1041535)\u001b[0m /home/daviddavo/upm-tfm-notebooks/.direnv/python-3.9/lib/python3.9/site-packages/recommenders/models/deeprec/DataModel/ImplicitCF.py:73: FutureWarning: The frame.append method is deprecated and will be removed from pandas in a future version. Use pandas.concat instead.\n",
      "\u001b[2m\u001b[36m(TrainLightGCN pid=1041535)\u001b[0m   df = train if test is None else train.append(test)\n"
     ]
    },
    {
     "name": "stdout",
     "output_type": "stream",
     "text": [
      "\u001b[2m\u001b[36m(TrainLightGCN pid=1041535)\u001b[0m Already create adjacency matrix.\n",
      "\u001b[2m\u001b[36m(TrainLightGCN pid=1041535)\u001b[0m Already normalize adjacency matrix.\n",
      "\u001b[2m\u001b[36m(TrainLightGCN pid=1041535)\u001b[0m Using xavier initialization.\n"
     ]
    },
    {
     "name": "stderr",
     "output_type": "stream",
     "text": [
      "\u001b[2m\u001b[36m(TrainLightGCN pid=1040959)\u001b[0m Checkpoint successfully created at: Checkpoint(filesystem=local, path=/home/daviddavo/ray_results/TrainLightGCN_2023-11-10_20-19-58/TrainLightGCN_e317a442_144_trial_index=3,batch_size=5,conv_layers=5,embedding_dim=45,l2=0.0359,learning_rate=0.0002_2023-11-11_02-21-53/checkpoint_000000)\n",
      "\u001b[2m\u001b[36m(pid=1041681)\u001b[0m 2023-11-11 02:43:33.553819: E tensorflow/compiler/xla/stream_executor/cuda/cuda_dnn.cc:9342] Unable to register cuDNN factory: Attempting to register factory for plugin cuDNN when one has already been registered\n",
      "\u001b[2m\u001b[36m(pid=1041681)\u001b[0m 2023-11-11 02:43:33.553853: E tensorflow/compiler/xla/stream_executor/cuda/cuda_fft.cc:609] Unable to register cuFFT factory: Attempting to register factory for plugin cuFFT when one has already been registered\n",
      "\u001b[2m\u001b[36m(pid=1041681)\u001b[0m 2023-11-11 02:43:33.553865: E tensorflow/compiler/xla/stream_executor/cuda/cuda_blas.cc:1518] Unable to register cuBLAS factory: Attempting to register factory for plugin cuBLAS when one has already been registered\n",
      "\u001b[2m\u001b[36m(TrainLightGCN pid=1041681)\u001b[0m /home/daviddavo/upm-tfm-notebooks/.direnv/python-3.9/lib/python3.9/site-packages/recommenders/models/deeprec/DataModel/ImplicitCF.py:73: FutureWarning: The frame.append method is deprecated and will be removed from pandas in a future version. Use pandas.concat instead.\n",
      "\u001b[2m\u001b[36m(TrainLightGCN pid=1041681)\u001b[0m   df = train if test is None else train.append(test)\n"
     ]
    },
    {
     "name": "stdout",
     "output_type": "stream",
     "text": [
      "\u001b[2m\u001b[36m(TrainLightGCN pid=1041681)\u001b[0m Already create adjacency matrix.\n",
      "\u001b[2m\u001b[36m(TrainLightGCN pid=1041681)\u001b[0m Already normalize adjacency matrix.\n",
      "\u001b[2m\u001b[36m(TrainLightGCN pid=1041681)\u001b[0m Using xavier initialization.\n"
     ]
    },
    {
     "name": "stderr",
     "output_type": "stream",
     "text": [
      "\u001b[2m\u001b[36m(TrainLightGCN pid=1041073)\u001b[0m Checkpoint successfully created at: Checkpoint(filesystem=local, path=/home/daviddavo/ray_results/TrainLightGCN_2023-11-10_20-19-58/TrainLightGCN_0a55e03e_145_trial_index=4,batch_size=5,conv_layers=5,embedding_dim=45,l2=0.0359,learning_rate=0.0002_2023-11-11_02-24-19/checkpoint_000000)\n",
      "\u001b[2m\u001b[36m(pid=1041825)\u001b[0m 2023-11-11 02:49:18.591965: E tensorflow/compiler/xla/stream_executor/cuda/cuda_dnn.cc:9342] Unable to register cuDNN factory: Attempting to register factory for plugin cuDNN when one has already been registered\n",
      "\u001b[2m\u001b[36m(pid=1041825)\u001b[0m 2023-11-11 02:49:18.591994: E tensorflow/compiler/xla/stream_executor/cuda/cuda_fft.cc:609] Unable to register cuFFT factory: Attempting to register factory for plugin cuFFT when one has already been registered\n",
      "\u001b[2m\u001b[36m(pid=1041825)\u001b[0m 2023-11-11 02:49:18.592005: E tensorflow/compiler/xla/stream_executor/cuda/cuda_blas.cc:1518] Unable to register cuBLAS factory: Attempting to register factory for plugin cuBLAS when one has already been registered\n",
      "\u001b[2m\u001b[36m(TrainLightGCN pid=1041825)\u001b[0m /home/daviddavo/upm-tfm-notebooks/.direnv/python-3.9/lib/python3.9/site-packages/recommenders/models/deeprec/DataModel/ImplicitCF.py:73: FutureWarning: The frame.append method is deprecated and will be removed from pandas in a future version. Use pandas.concat instead.\n",
      "\u001b[2m\u001b[36m(TrainLightGCN pid=1041825)\u001b[0m   df = train if test is None else train.append(test)\n"
     ]
    },
    {
     "name": "stdout",
     "output_type": "stream",
     "text": [
      "\u001b[2m\u001b[36m(TrainLightGCN pid=1041825)\u001b[0m Already create adjacency matrix.\n",
      "\u001b[2m\u001b[36m(TrainLightGCN pid=1041825)\u001b[0m Already normalize adjacency matrix.\n",
      "\u001b[2m\u001b[36m(TrainLightGCN pid=1041825)\u001b[0m Using xavier initialization.\n"
     ]
    },
    {
     "name": "stderr",
     "output_type": "stream",
     "text": [
      "\u001b[2m\u001b[36m(TrainLightGCN pid=1038799)\u001b[0m Checkpoint successfully created at: Checkpoint(filesystem=local, path=/home/daviddavo/ray_results/TrainLightGCN_2023-11-10_20-19-58/TrainLightGCN_7614d5a8_129_trial_index=8,batch_size=5,conv_layers=3,embedding_dim=10,l2=0.0000,learning_rate=0.0003_2023-11-11_01-37-23/checkpoint_000000)\n",
      "\u001b[2m\u001b[36m(pid=1041972)\u001b[0m 2023-11-11 02:59:00.655880: E tensorflow/compiler/xla/stream_executor/cuda/cuda_dnn.cc:9342] Unable to register cuDNN factory: Attempting to register factory for plugin cuDNN when one has already been registered\n",
      "\u001b[2m\u001b[36m(pid=1041972)\u001b[0m 2023-11-11 02:59:00.655912: E tensorflow/compiler/xla/stream_executor/cuda/cuda_fft.cc:609] Unable to register cuFFT factory: Attempting to register factory for plugin cuFFT when one has already been registered\n",
      "\u001b[2m\u001b[36m(pid=1041972)\u001b[0m 2023-11-11 02:59:00.655924: E tensorflow/compiler/xla/stream_executor/cuda/cuda_blas.cc:1518] Unable to register cuBLAS factory: Attempting to register factory for plugin cuBLAS when one has already been registered\n",
      "\u001b[2m\u001b[36m(TrainLightGCN pid=1041972)\u001b[0m /home/daviddavo/upm-tfm-notebooks/.direnv/python-3.9/lib/python3.9/site-packages/recommenders/models/deeprec/DataModel/ImplicitCF.py:73: FutureWarning: The frame.append method is deprecated and will be removed from pandas in a future version. Use pandas.concat instead.\n",
      "\u001b[2m\u001b[36m(TrainLightGCN pid=1041972)\u001b[0m   df = train if test is None else train.append(test)\n"
     ]
    },
    {
     "name": "stdout",
     "output_type": "stream",
     "text": [
      "\u001b[2m\u001b[36m(TrainLightGCN pid=1041972)\u001b[0m Already create adjacency matrix.\n",
      "\u001b[2m\u001b[36m(TrainLightGCN pid=1041972)\u001b[0m Already normalize adjacency matrix.\n",
      "\u001b[2m\u001b[36m(TrainLightGCN pid=1041972)\u001b[0m Using xavier initialization.\n"
     ]
    },
    {
     "name": "stderr",
     "output_type": "stream",
     "text": [
      "\u001b[2m\u001b[36m(TrainLightGCN pid=1041972)\u001b[0m Checkpoint successfully created at: Checkpoint(filesystem=local, path=/home/daviddavo/ray_results/TrainLightGCN_2023-11-10_20-19-58/TrainLightGCN_ed19efab_151_trial_index=0,batch_size=9,conv_layers=3,embedding_dim=230,l2=0.0006,learning_rate=0.0007_2023-11-11_02-49-21/checkpoint_000000)\n",
      "\u001b[2m\u001b[36m(pid=1042115)\u001b[0m 2023-11-11 02:59:21.660868: E tensorflow/compiler/xla/stream_executor/cuda/cuda_dnn.cc:9342] Unable to register cuDNN factory: Attempting to register factory for plugin cuDNN when one has already been registered\n",
      "\u001b[2m\u001b[36m(pid=1042115)\u001b[0m 2023-11-11 02:59:21.660903: E tensorflow/compiler/xla/stream_executor/cuda/cuda_fft.cc:609] Unable to register cuFFT factory: Attempting to register factory for plugin cuFFT when one has already been registered\n",
      "\u001b[2m\u001b[36m(pid=1042115)\u001b[0m 2023-11-11 02:59:21.660914: E tensorflow/compiler/xla/stream_executor/cuda/cuda_blas.cc:1518] Unable to register cuBLAS factory: Attempting to register factory for plugin cuBLAS when one has already been registered\n",
      "\u001b[2m\u001b[36m(TrainLightGCN pid=1042115)\u001b[0m /home/daviddavo/upm-tfm-notebooks/.direnv/python-3.9/lib/python3.9/site-packages/recommenders/models/deeprec/DataModel/ImplicitCF.py:73: FutureWarning: The frame.append method is deprecated and will be removed from pandas in a future version. Use pandas.concat instead.\n",
      "\u001b[2m\u001b[36m(TrainLightGCN pid=1042115)\u001b[0m   df = train if test is None else train.append(test)\n"
     ]
    },
    {
     "name": "stdout",
     "output_type": "stream",
     "text": [
      "\u001b[2m\u001b[36m(TrainLightGCN pid=1042115)\u001b[0m Already normalize adjacency matrix.\n",
      "\u001b[2m\u001b[36m(TrainLightGCN pid=1042115)\u001b[0m Using xavier initialization.\n",
      "\u001b[2m\u001b[36m(TrainLightGCN pid=1042115)\u001b[0m Already create adjacency matrix.\n"
     ]
    },
    {
     "name": "stderr",
     "output_type": "stream",
     "text": [
      "\u001b[2m\u001b[36m(TrainLightGCN pid=1042115)\u001b[0m Checkpoint successfully created at: Checkpoint(filesystem=local, path=/home/daviddavo/ray_results/TrainLightGCN_2023-11-10_20-19-58/TrainLightGCN_b6ec4b4d_152_trial_index=1,batch_size=9,conv_layers=3,embedding_dim=230,l2=0.0006,learning_rate=0.0007_2023-11-11_02-59-02/checkpoint_000000)\n",
      "\u001b[2m\u001b[36m(pid=1042259)\u001b[0m 2023-11-11 02:59:55.660006: E tensorflow/compiler/xla/stream_executor/cuda/cuda_dnn.cc:9342] Unable to register cuDNN factory: Attempting to register factory for plugin cuDNN when one has already been registered\n",
      "\u001b[2m\u001b[36m(pid=1042259)\u001b[0m 2023-11-11 02:59:55.660042: E tensorflow/compiler/xla/stream_executor/cuda/cuda_fft.cc:609] Unable to register cuFFT factory: Attempting to register factory for plugin cuFFT when one has already been registered\n",
      "\u001b[2m\u001b[36m(pid=1042259)\u001b[0m 2023-11-11 02:59:55.660055: E tensorflow/compiler/xla/stream_executor/cuda/cuda_blas.cc:1518] Unable to register cuBLAS factory: Attempting to register factory for plugin cuBLAS when one has already been registered\n",
      "\u001b[2m\u001b[36m(TrainLightGCN pid=1042259)\u001b[0m /home/daviddavo/upm-tfm-notebooks/.direnv/python-3.9/lib/python3.9/site-packages/recommenders/models/deeprec/DataModel/ImplicitCF.py:73: FutureWarning: The frame.append method is deprecated and will be removed from pandas in a future version. Use pandas.concat instead.\n",
      "\u001b[2m\u001b[36m(TrainLightGCN pid=1042259)\u001b[0m   df = train if test is None else train.append(test)\n"
     ]
    },
    {
     "name": "stdout",
     "output_type": "stream",
     "text": [
      "\u001b[2m\u001b[36m(TrainLightGCN pid=1042259)\u001b[0m Already create adjacency matrix.\n",
      "\u001b[2m\u001b[36m(TrainLightGCN pid=1042259)\u001b[0m Already normalize adjacency matrix.\n",
      "\u001b[2m\u001b[36m(TrainLightGCN pid=1042259)\u001b[0m Using xavier initialization.\n"
     ]
    },
    {
     "name": "stderr",
     "output_type": "stream",
     "text": [
      "\u001b[2m\u001b[36m(TrainLightGCN pid=1041245)\u001b[0m Checkpoint successfully created at: Checkpoint(filesystem=local, path=/home/daviddavo/ray_results/TrainLightGCN_2023-11-10_20-19-58/TrainLightGCN_e408e735_146_trial_index=5,batch_size=5,conv_layers=5,embedding_dim=45,l2=0.0359,learning_rate=0.0002_2023-11-11_02-24-22/checkpoint_000000)\n",
      "\u001b[2m\u001b[36m(pid=1042402)\u001b[0m 2023-11-11 03:00:51.865665: E tensorflow/compiler/xla/stream_executor/cuda/cuda_dnn.cc:9342] Unable to register cuDNN factory: Attempting to register factory for plugin cuDNN when one has already been registered\n",
      "\u001b[2m\u001b[36m(pid=1042402)\u001b[0m 2023-11-11 03:00:51.865712: E tensorflow/compiler/xla/stream_executor/cuda/cuda_fft.cc:609] Unable to register cuFFT factory: Attempting to register factory for plugin cuFFT when one has already been registered\n",
      "\u001b[2m\u001b[36m(pid=1042402)\u001b[0m 2023-11-11 03:00:51.865733: E tensorflow/compiler/xla/stream_executor/cuda/cuda_blas.cc:1518] Unable to register cuBLAS factory: Attempting to register factory for plugin cuBLAS when one has already been registered\n",
      "\u001b[2m\u001b[36m(TrainLightGCN pid=1042402)\u001b[0m /home/daviddavo/upm-tfm-notebooks/.direnv/python-3.9/lib/python3.9/site-packages/recommenders/models/deeprec/DataModel/ImplicitCF.py:73: FutureWarning: The frame.append method is deprecated and will be removed from pandas in a future version. Use pandas.concat instead.\n",
      "\u001b[2m\u001b[36m(TrainLightGCN pid=1042402)\u001b[0m   df = train if test is None else train.append(test)\n"
     ]
    },
    {
     "name": "stdout",
     "output_type": "stream",
     "text": [
      "\u001b[2m\u001b[36m(TrainLightGCN pid=1042402)\u001b[0m Already normalize adjacency matrix.\n",
      "\u001b[2m\u001b[36m(TrainLightGCN pid=1042402)\u001b[0m Using xavier initialization.\n",
      "\u001b[2m\u001b[36m(TrainLightGCN pid=1042402)\u001b[0m Already create adjacency matrix.\n"
     ]
    },
    {
     "name": "stderr",
     "output_type": "stream",
     "text": [
      "\u001b[2m\u001b[36m(TrainLightGCN pid=1042259)\u001b[0m Checkpoint successfully created at: Checkpoint(filesystem=local, path=/home/daviddavo/ray_results/TrainLightGCN_2023-11-10_20-19-58/TrainLightGCN_cfae1bea_153_trial_index=2,batch_size=9,conv_layers=3,embedding_dim=230,l2=0.0006,learning_rate=0.0007_2023-11-11_02-59-23/checkpoint_000000)\n",
      "\u001b[2m\u001b[36m(pid=1042545)\u001b[0m 2023-11-11 03:01:05.686514: E tensorflow/compiler/xla/stream_executor/cuda/cuda_dnn.cc:9342] Unable to register cuDNN factory: Attempting to register factory for plugin cuDNN when one has already been registered\n",
      "\u001b[2m\u001b[36m(pid=1042545)\u001b[0m 2023-11-11 03:01:05.686549: E tensorflow/compiler/xla/stream_executor/cuda/cuda_fft.cc:609] Unable to register cuFFT factory: Attempting to register factory for plugin cuFFT when one has already been registered\n",
      "\u001b[2m\u001b[36m(pid=1042545)\u001b[0m 2023-11-11 03:01:05.686561: E tensorflow/compiler/xla/stream_executor/cuda/cuda_blas.cc:1518] Unable to register cuBLAS factory: Attempting to register factory for plugin cuBLAS when one has already been registered\n",
      "\u001b[2m\u001b[36m(TrainLightGCN pid=1042545)\u001b[0m /home/daviddavo/upm-tfm-notebooks/.direnv/python-3.9/lib/python3.9/site-packages/recommenders/models/deeprec/DataModel/ImplicitCF.py:73: FutureWarning: The frame.append method is deprecated and will be removed from pandas in a future version. Use pandas.concat instead.\n",
      "\u001b[2m\u001b[36m(TrainLightGCN pid=1042545)\u001b[0m   df = train if test is None else train.append(test)\n"
     ]
    },
    {
     "name": "stdout",
     "output_type": "stream",
     "text": [
      "\u001b[2m\u001b[36m(TrainLightGCN pid=1042545)\u001b[0m Already create adjacency matrix.\n",
      "\u001b[2m\u001b[36m(TrainLightGCN pid=1042545)\u001b[0m Already normalize adjacency matrix.\n",
      "\u001b[2m\u001b[36m(TrainLightGCN pid=1042545)\u001b[0m Using xavier initialization.\n"
     ]
    },
    {
     "name": "stderr",
     "output_type": "stream",
     "text": [
      "\u001b[2m\u001b[36m(TrainLightGCN pid=1042402)\u001b[0m Checkpoint successfully created at: Checkpoint(filesystem=local, path=/home/daviddavo/ray_results/TrainLightGCN_2023-11-10_20-19-58/TrainLightGCN_0a87c5d2_154_trial_index=3,batch_size=9,conv_layers=3,embedding_dim=230,l2=0.0006,learning_rate=0.0007_2023-11-11_02-59-57/checkpoint_000000)\n",
      "\u001b[2m\u001b[36m(pid=1042688)\u001b[0m 2023-11-11 03:02:37.676359: E tensorflow/compiler/xla/stream_executor/cuda/cuda_dnn.cc:9342] Unable to register cuDNN factory: Attempting to register factory for plugin cuDNN when one has already been registered\n",
      "\u001b[2m\u001b[36m(pid=1042688)\u001b[0m 2023-11-11 03:02:37.676401: E tensorflow/compiler/xla/stream_executor/cuda/cuda_fft.cc:609] Unable to register cuFFT factory: Attempting to register factory for plugin cuFFT when one has already been registered\n",
      "\u001b[2m\u001b[36m(pid=1042688)\u001b[0m 2023-11-11 03:02:37.676415: E tensorflow/compiler/xla/stream_executor/cuda/cuda_blas.cc:1518] Unable to register cuBLAS factory: Attempting to register factory for plugin cuBLAS when one has already been registered\n",
      "\u001b[2m\u001b[36m(TrainLightGCN pid=1042688)\u001b[0m /home/daviddavo/upm-tfm-notebooks/.direnv/python-3.9/lib/python3.9/site-packages/recommenders/models/deeprec/DataModel/ImplicitCF.py:73: FutureWarning: The frame.append method is deprecated and will be removed from pandas in a future version. Use pandas.concat instead.\n",
      "\u001b[2m\u001b[36m(TrainLightGCN pid=1042688)\u001b[0m   df = train if test is None else train.append(test)\n"
     ]
    },
    {
     "name": "stdout",
     "output_type": "stream",
     "text": [
      "\u001b[2m\u001b[36m(TrainLightGCN pid=1042688)\u001b[0m Already normalize adjacency matrix.\n",
      "\u001b[2m\u001b[36m(TrainLightGCN pid=1042688)\u001b[0m Using xavier initialization.\n",
      "\u001b[2m\u001b[36m(TrainLightGCN pid=1042688)\u001b[0m Already create adjacency matrix.\n"
     ]
    },
    {
     "name": "stderr",
     "output_type": "stream",
     "text": [
      "\u001b[2m\u001b[36m(TrainLightGCN pid=1042545)\u001b[0m Checkpoint successfully created at: Checkpoint(filesystem=local, path=/home/daviddavo/ray_results/TrainLightGCN_2023-11-10_20-19-58/TrainLightGCN_17c6ae75_155_trial_index=4,batch_size=9,conv_layers=3,embedding_dim=230,l2=0.0006,learning_rate=0.0007_2023-11-11_03-00-54/checkpoint_000000)\n",
      "\u001b[2m\u001b[36m(pid=1042830)\u001b[0m 2023-11-11 03:03:15.696478: E tensorflow/compiler/xla/stream_executor/cuda/cuda_dnn.cc:9342] Unable to register cuDNN factory: Attempting to register factory for plugin cuDNN when one has already been registered\n",
      "\u001b[2m\u001b[36m(pid=1042830)\u001b[0m 2023-11-11 03:03:15.696514: E tensorflow/compiler/xla/stream_executor/cuda/cuda_fft.cc:609] Unable to register cuFFT factory: Attempting to register factory for plugin cuFFT when one has already been registered\n",
      "\u001b[2m\u001b[36m(pid=1042830)\u001b[0m 2023-11-11 03:03:15.696527: E tensorflow/compiler/xla/stream_executor/cuda/cuda_blas.cc:1518] Unable to register cuBLAS factory: Attempting to register factory for plugin cuBLAS when one has already been registered\n",
      "\u001b[2m\u001b[36m(TrainLightGCN pid=1042830)\u001b[0m /home/daviddavo/upm-tfm-notebooks/.direnv/python-3.9/lib/python3.9/site-packages/recommenders/models/deeprec/DataModel/ImplicitCF.py:73: FutureWarning: The frame.append method is deprecated and will be removed from pandas in a future version. Use pandas.concat instead.\n",
      "\u001b[2m\u001b[36m(TrainLightGCN pid=1042830)\u001b[0m   df = train if test is None else train.append(test)\n"
     ]
    },
    {
     "name": "stdout",
     "output_type": "stream",
     "text": [
      "\u001b[2m\u001b[36m(TrainLightGCN pid=1042830)\u001b[0m Already create adjacency matrix.\n",
      "\u001b[2m\u001b[36m(TrainLightGCN pid=1042830)\u001b[0m Already normalize adjacency matrix.\n",
      "\u001b[2m\u001b[36m(TrainLightGCN pid=1042830)\u001b[0m Using xavier initialization.\n"
     ]
    },
    {
     "name": "stderr",
     "output_type": "stream",
     "text": [
      "\u001b[2m\u001b[36m(TrainLightGCN pid=1042688)\u001b[0m Checkpoint successfully created at: Checkpoint(filesystem=local, path=/home/daviddavo/ray_results/TrainLightGCN_2023-11-10_20-19-58/TrainLightGCN_86289ceb_156_trial_index=5,batch_size=9,conv_layers=3,embedding_dim=230,l2=0.0006,learning_rate=0.0007_2023-11-11_03-01-08/checkpoint_000000)\n",
      "\u001b[2m\u001b[36m(pid=1042973)\u001b[0m 2023-11-11 03:05:21.677498: E tensorflow/compiler/xla/stream_executor/cuda/cuda_dnn.cc:9342] Unable to register cuDNN factory: Attempting to register factory for plugin cuDNN when one has already been registered\n",
      "\u001b[2m\u001b[36m(pid=1042973)\u001b[0m 2023-11-11 03:05:21.677541: E tensorflow/compiler/xla/stream_executor/cuda/cuda_fft.cc:609] Unable to register cuFFT factory: Attempting to register factory for plugin cuFFT when one has already been registered\n",
      "\u001b[2m\u001b[36m(pid=1042973)\u001b[0m 2023-11-11 03:05:21.677557: E tensorflow/compiler/xla/stream_executor/cuda/cuda_blas.cc:1518] Unable to register cuBLAS factory: Attempting to register factory for plugin cuBLAS when one has already been registered\n",
      "\u001b[2m\u001b[36m(TrainLightGCN pid=1042973)\u001b[0m /home/daviddavo/upm-tfm-notebooks/.direnv/python-3.9/lib/python3.9/site-packages/recommenders/models/deeprec/DataModel/ImplicitCF.py:73: FutureWarning: The frame.append method is deprecated and will be removed from pandas in a future version. Use pandas.concat instead.\n",
      "\u001b[2m\u001b[36m(TrainLightGCN pid=1042973)\u001b[0m   df = train if test is None else train.append(test)\n"
     ]
    },
    {
     "name": "stdout",
     "output_type": "stream",
     "text": [
      "\u001b[2m\u001b[36m(TrainLightGCN pid=1042973)\u001b[0m Already create adjacency matrix.\n",
      "\u001b[2m\u001b[36m(TrainLightGCN pid=1042973)\u001b[0m Already normalize adjacency matrix.\n",
      "\u001b[2m\u001b[36m(TrainLightGCN pid=1042973)\u001b[0m Using xavier initialization.\n"
     ]
    },
    {
     "name": "stderr",
     "output_type": "stream",
     "text": [
      "\u001b[2m\u001b[36m(TrainLightGCN pid=1042830)\u001b[0m Checkpoint successfully created at: Checkpoint(filesystem=local, path=/home/daviddavo/ray_results/TrainLightGCN_2023-11-10_20-19-58/TrainLightGCN_9b1f928f_157_trial_index=6,batch_size=9,conv_layers=3,embedding_dim=230,l2=0.0006,learning_rate=0.0007_2023-11-11_03-02-40/checkpoint_000000)\n",
      "\u001b[2m\u001b[36m(pid=1043117)\u001b[0m 2023-11-11 03:06:42.723017: E tensorflow/compiler/xla/stream_executor/cuda/cuda_dnn.cc:9342] Unable to register cuDNN factory: Attempting to register factory for plugin cuDNN when one has already been registered\n",
      "\u001b[2m\u001b[36m(pid=1043117)\u001b[0m 2023-11-11 03:06:42.723054: E tensorflow/compiler/xla/stream_executor/cuda/cuda_fft.cc:609] Unable to register cuFFT factory: Attempting to register factory for plugin cuFFT when one has already been registered\n",
      "\u001b[2m\u001b[36m(pid=1043117)\u001b[0m 2023-11-11 03:06:42.723065: E tensorflow/compiler/xla/stream_executor/cuda/cuda_blas.cc:1518] Unable to register cuBLAS factory: Attempting to register factory for plugin cuBLAS when one has already been registered\n",
      "\u001b[2m\u001b[36m(TrainLightGCN pid=1043117)\u001b[0m /home/daviddavo/upm-tfm-notebooks/.direnv/python-3.9/lib/python3.9/site-packages/recommenders/models/deeprec/DataModel/ImplicitCF.py:73: FutureWarning: The frame.append method is deprecated and will be removed from pandas in a future version. Use pandas.concat instead.\n",
      "\u001b[2m\u001b[36m(TrainLightGCN pid=1043117)\u001b[0m   df = train if test is None else train.append(test)\n"
     ]
    },
    {
     "name": "stdout",
     "output_type": "stream",
     "text": [
      "\u001b[2m\u001b[36m(TrainLightGCN pid=1043117)\u001b[0m Already create adjacency matrix.\n",
      "\u001b[2m\u001b[36m(TrainLightGCN pid=1043117)\u001b[0m Already normalize adjacency matrix.\n",
      "\u001b[2m\u001b[36m(TrainLightGCN pid=1043117)\u001b[0m Using xavier initialization.\n"
     ]
    },
    {
     "name": "stderr",
     "output_type": "stream",
     "text": [
      "\u001b[2m\u001b[36m(TrainLightGCN pid=1042973)\u001b[0m Checkpoint successfully created at: Checkpoint(filesystem=local, path=/home/daviddavo/ray_results/TrainLightGCN_2023-11-10_20-19-58/TrainLightGCN_5de3eb55_158_trial_index=7,batch_size=9,conv_layers=3,embedding_dim=230,l2=0.0006,learning_rate=0.0007_2023-11-11_03-03-18/checkpoint_000000)\n",
      "\u001b[2m\u001b[36m(pid=1043265)\u001b[0m 2023-11-11 03:10:04.830127: E tensorflow/compiler/xla/stream_executor/cuda/cuda_dnn.cc:9342] Unable to register cuDNN factory: Attempting to register factory for plugin cuDNN when one has already been registered\n",
      "\u001b[2m\u001b[36m(pid=1043265)\u001b[0m 2023-11-11 03:10:04.830172: E tensorflow/compiler/xla/stream_executor/cuda/cuda_fft.cc:609] Unable to register cuFFT factory: Attempting to register factory for plugin cuFFT when one has already been registered\n",
      "\u001b[2m\u001b[36m(pid=1043265)\u001b[0m 2023-11-11 03:10:04.830188: E tensorflow/compiler/xla/stream_executor/cuda/cuda_blas.cc:1518] Unable to register cuBLAS factory: Attempting to register factory for plugin cuBLAS when one has already been registered\n",
      "\u001b[2m\u001b[36m(TrainLightGCN pid=1043265)\u001b[0m /home/daviddavo/upm-tfm-notebooks/.direnv/python-3.9/lib/python3.9/site-packages/recommenders/models/deeprec/DataModel/ImplicitCF.py:73: FutureWarning: The frame.append method is deprecated and will be removed from pandas in a future version. Use pandas.concat instead.\n",
      "\u001b[2m\u001b[36m(TrainLightGCN pid=1043265)\u001b[0m   df = train if test is None else train.append(test)\n"
     ]
    },
    {
     "name": "stdout",
     "output_type": "stream",
     "text": [
      "\u001b[2m\u001b[36m(TrainLightGCN pid=1043265)\u001b[0m Already create adjacency matrix.\n",
      "\u001b[2m\u001b[36m(TrainLightGCN pid=1043265)\u001b[0m Already normalize adjacency matrix.\n",
      "\u001b[2m\u001b[36m(TrainLightGCN pid=1043265)\u001b[0m Using xavier initialization.\n"
     ]
    },
    {
     "name": "stderr",
     "output_type": "stream",
     "text": [
      "\u001b[2m\u001b[36m(TrainLightGCN pid=1041390)\u001b[0m Checkpoint successfully created at: Checkpoint(filesystem=local, path=/home/daviddavo/ray_results/TrainLightGCN_2023-11-10_20-19-58/TrainLightGCN_8e062b77_147_trial_index=6,batch_size=5,conv_layers=5,embedding_dim=45,l2=0.0359,learning_rate=0.0002_2023-11-11_02-28-40/checkpoint_000000)\n",
      "\u001b[2m\u001b[36m(pid=1043409)\u001b[0m 2023-11-11 03:12:50.736216: E tensorflow/compiler/xla/stream_executor/cuda/cuda_dnn.cc:9342] Unable to register cuDNN factory: Attempting to register factory for plugin cuDNN when one has already been registered\n",
      "\u001b[2m\u001b[36m(pid=1043409)\u001b[0m 2023-11-11 03:12:50.736259: E tensorflow/compiler/xla/stream_executor/cuda/cuda_fft.cc:609] Unable to register cuFFT factory: Attempting to register factory for plugin cuFFT when one has already been registered\n",
      "\u001b[2m\u001b[36m(pid=1043409)\u001b[0m 2023-11-11 03:12:50.736278: E tensorflow/compiler/xla/stream_executor/cuda/cuda_blas.cc:1518] Unable to register cuBLAS factory: Attempting to register factory for plugin cuBLAS when one has already been registered\n",
      "\u001b[2m\u001b[36m(TrainLightGCN pid=1043409)\u001b[0m /home/daviddavo/upm-tfm-notebooks/.direnv/python-3.9/lib/python3.9/site-packages/recommenders/models/deeprec/DataModel/ImplicitCF.py:73: FutureWarning: The frame.append method is deprecated and will be removed from pandas in a future version. Use pandas.concat instead.\n",
      "\u001b[2m\u001b[36m(TrainLightGCN pid=1043409)\u001b[0m   df = train if test is None else train.append(test)\n"
     ]
    },
    {
     "name": "stdout",
     "output_type": "stream",
     "text": [
      "\u001b[2m\u001b[36m(TrainLightGCN pid=1043409)\u001b[0m Already create adjacency matrix.\n",
      "\u001b[2m\u001b[36m(TrainLightGCN pid=1043409)\u001b[0m Already normalize adjacency matrix.\n",
      "\u001b[2m\u001b[36m(TrainLightGCN pid=1043409)\u001b[0m Using xavier initialization.\n"
     ]
    },
    {
     "name": "stderr",
     "output_type": "stream",
     "text": [
      "\u001b[2m\u001b[36m(TrainLightGCN pid=1043117)\u001b[0m Checkpoint successfully created at: Checkpoint(filesystem=local, path=/home/daviddavo/ray_results/TrainLightGCN_2023-11-10_20-19-58/TrainLightGCN_97914a1a_159_trial_index=8,batch_size=9,conv_layers=3,embedding_dim=230,l2=0.0006,learning_rate=0.0007_2023-11-11_03-05-24/checkpoint_000000)\n",
      "\u001b[2m\u001b[36m(pid=1043551)\u001b[0m 2023-11-11 03:13:31.757115: E tensorflow/compiler/xla/stream_executor/cuda/cuda_dnn.cc:9342] Unable to register cuDNN factory: Attempting to register factory for plugin cuDNN when one has already been registered\n",
      "\u001b[2m\u001b[36m(pid=1043551)\u001b[0m 2023-11-11 03:13:31.757150: E tensorflow/compiler/xla/stream_executor/cuda/cuda_fft.cc:609] Unable to register cuFFT factory: Attempting to register factory for plugin cuFFT when one has already been registered\n",
      "\u001b[2m\u001b[36m(pid=1043551)\u001b[0m 2023-11-11 03:13:31.757161: E tensorflow/compiler/xla/stream_executor/cuda/cuda_blas.cc:1518] Unable to register cuBLAS factory: Attempting to register factory for plugin cuBLAS when one has already been registered\n",
      "\u001b[2m\u001b[36m(TrainLightGCN pid=1043551)\u001b[0m /home/daviddavo/upm-tfm-notebooks/.direnv/python-3.9/lib/python3.9/site-packages/recommenders/models/deeprec/DataModel/ImplicitCF.py:73: FutureWarning: The frame.append method is deprecated and will be removed from pandas in a future version. Use pandas.concat instead.\n",
      "\u001b[2m\u001b[36m(TrainLightGCN pid=1043551)\u001b[0m   df = train if test is None else train.append(test)\n"
     ]
    },
    {
     "name": "stdout",
     "output_type": "stream",
     "text": [
      "\u001b[2m\u001b[36m(TrainLightGCN pid=1043551)\u001b[0m Already normalize adjacency matrix.\n",
      "\u001b[2m\u001b[36m(TrainLightGCN pid=1043551)\u001b[0m Using xavier initialization.\n",
      "\u001b[2m\u001b[36m(TrainLightGCN pid=1043551)\u001b[0m Already create adjacency matrix.\n"
     ]
    },
    {
     "name": "stderr",
     "output_type": "stream",
     "text": [
      "\u001b[2m\u001b[36m(TrainLightGCN pid=1043409)\u001b[0m Checkpoint successfully created at: Checkpoint(filesystem=local, path=/home/daviddavo/ray_results/TrainLightGCN_2023-11-10_20-19-58/TrainLightGCN_409c47d2_161_trial_index=0,batch_size=6,conv_layers=5,embedding_dim=20,l2=0.0000,learning_rate=0.0005_2023-11-11_03-10-07/checkpoint_000000)\n",
      "\u001b[2m\u001b[36m(pid=1043696)\u001b[0m 2023-11-11 03:14:39.764466: E tensorflow/compiler/xla/stream_executor/cuda/cuda_dnn.cc:9342] Unable to register cuDNN factory: Attempting to register factory for plugin cuDNN when one has already been registered\n",
      "\u001b[2m\u001b[36m(pid=1043696)\u001b[0m 2023-11-11 03:14:39.764502: E tensorflow/compiler/xla/stream_executor/cuda/cuda_fft.cc:609] Unable to register cuFFT factory: Attempting to register factory for plugin cuFFT when one has already been registered\n",
      "\u001b[2m\u001b[36m(pid=1043696)\u001b[0m 2023-11-11 03:14:39.764515: E tensorflow/compiler/xla/stream_executor/cuda/cuda_blas.cc:1518] Unable to register cuBLAS factory: Attempting to register factory for plugin cuBLAS when one has already been registered\n",
      "\u001b[2m\u001b[36m(TrainLightGCN pid=1043696)\u001b[0m /home/daviddavo/upm-tfm-notebooks/.direnv/python-3.9/lib/python3.9/site-packages/recommenders/models/deeprec/DataModel/ImplicitCF.py:73: FutureWarning: The frame.append method is deprecated and will be removed from pandas in a future version. Use pandas.concat instead.\n",
      "\u001b[2m\u001b[36m(TrainLightGCN pid=1043696)\u001b[0m   df = train if test is None else train.append(test)\n"
     ]
    },
    {
     "name": "stdout",
     "output_type": "stream",
     "text": [
      "\u001b[2m\u001b[36m(TrainLightGCN pid=1043696)\u001b[0m Already create adjacency matrix.\n",
      "\u001b[2m\u001b[36m(TrainLightGCN pid=1043696)\u001b[0m Already normalize adjacency matrix.\n",
      "\u001b[2m\u001b[36m(TrainLightGCN pid=1043696)\u001b[0m Using xavier initialization.\n"
     ]
    },
    {
     "name": "stderr",
     "output_type": "stream",
     "text": [
      "\u001b[2m\u001b[36m(TrainLightGCN pid=1033369)\u001b[0m Checkpoint successfully created at: Checkpoint(filesystem=local, path=/home/daviddavo/ray_results/TrainLightGCN_2023-11-10_20-19-58/TrainLightGCN_1aaf0c8a_100_trial_index=9,batch_size=5,conv_layers=5,embedding_dim=425,l2=0.0002,learning_rate=0.0021_2023-11-10_23-49-17/checkpoint_000000)\n",
      "\u001b[2m\u001b[36m(pid=1043840)\u001b[0m 2023-11-11 03:15:53.813498: E tensorflow/compiler/xla/stream_executor/cuda/cuda_dnn.cc:9342] Unable to register cuDNN factory: Attempting to register factory for plugin cuDNN when one has already been registered\n",
      "\u001b[2m\u001b[36m(pid=1043840)\u001b[0m 2023-11-11 03:15:53.813533: E tensorflow/compiler/xla/stream_executor/cuda/cuda_fft.cc:609] Unable to register cuFFT factory: Attempting to register factory for plugin cuFFT when one has already been registered\n",
      "\u001b[2m\u001b[36m(pid=1043840)\u001b[0m 2023-11-11 03:15:53.813546: E tensorflow/compiler/xla/stream_executor/cuda/cuda_blas.cc:1518] Unable to register cuBLAS factory: Attempting to register factory for plugin cuBLAS when one has already been registered\n",
      "\u001b[2m\u001b[36m(TrainLightGCN pid=1043840)\u001b[0m /home/daviddavo/upm-tfm-notebooks/.direnv/python-3.9/lib/python3.9/site-packages/recommenders/models/deeprec/DataModel/ImplicitCF.py:73: FutureWarning: The frame.append method is deprecated and will be removed from pandas in a future version. Use pandas.concat instead.\n",
      "\u001b[2m\u001b[36m(TrainLightGCN pid=1043840)\u001b[0m   df = train if test is None else train.append(test)\n"
     ]
    },
    {
     "name": "stdout",
     "output_type": "stream",
     "text": [
      "\u001b[2m\u001b[36m(TrainLightGCN pid=1043840)\u001b[0m Already create adjacency matrix.\n",
      "\u001b[2m\u001b[36m(TrainLightGCN pid=1043840)\u001b[0m Already normalize adjacency matrix.\n",
      "\u001b[2m\u001b[36m(TrainLightGCN pid=1043840)\u001b[0m Using xavier initialization.\n"
     ]
    },
    {
     "name": "stderr",
     "output_type": "stream",
     "text": [
      "\u001b[2m\u001b[36m(TrainLightGCN pid=1043551)\u001b[0m Checkpoint successfully created at: Checkpoint(filesystem=local, path=/home/daviddavo/ray_results/TrainLightGCN_2023-11-10_20-19-58/TrainLightGCN_597b7d85_162_trial_index=1,batch_size=6,conv_layers=5,embedding_dim=20,l2=0.0000,learning_rate=0.0005_2023-11-11_03-12-52/checkpoint_000000)\n",
      "\u001b[2m\u001b[36m(pid=1043984)\u001b[0m 2023-11-11 03:16:29.832150: E tensorflow/compiler/xla/stream_executor/cuda/cuda_dnn.cc:9342] Unable to register cuDNN factory: Attempting to register factory for plugin cuDNN when one has already been registered\n",
      "\u001b[2m\u001b[36m(pid=1043984)\u001b[0m 2023-11-11 03:16:29.832186: E tensorflow/compiler/xla/stream_executor/cuda/cuda_fft.cc:609] Unable to register cuFFT factory: Attempting to register factory for plugin cuFFT when one has already been registered\n",
      "\u001b[2m\u001b[36m(pid=1043984)\u001b[0m 2023-11-11 03:16:29.832198: E tensorflow/compiler/xla/stream_executor/cuda/cuda_blas.cc:1518] Unable to register cuBLAS factory: Attempting to register factory for plugin cuBLAS when one has already been registered\n",
      "\u001b[2m\u001b[36m(TrainLightGCN pid=1043984)\u001b[0m /home/daviddavo/upm-tfm-notebooks/.direnv/python-3.9/lib/python3.9/site-packages/recommenders/models/deeprec/DataModel/ImplicitCF.py:73: FutureWarning: The frame.append method is deprecated and will be removed from pandas in a future version. Use pandas.concat instead.\n",
      "\u001b[2m\u001b[36m(TrainLightGCN pid=1043984)\u001b[0m   df = train if test is None else train.append(test)\n"
     ]
    },
    {
     "name": "stdout",
     "output_type": "stream",
     "text": [
      "\u001b[2m\u001b[36m(TrainLightGCN pid=1043984)\u001b[0m Already create adjacency matrix.\n",
      "\u001b[2m\u001b[36m(TrainLightGCN pid=1043984)\u001b[0m Already normalize adjacency matrix.\n",
      "\u001b[2m\u001b[36m(TrainLightGCN pid=1043984)\u001b[0m Using xavier initialization.\n"
     ]
    },
    {
     "name": "stderr",
     "output_type": "stream",
     "text": [
      "\u001b[2m\u001b[36m(TrainLightGCN pid=1043265)\u001b[0m Checkpoint successfully created at: Checkpoint(filesystem=local, path=/home/daviddavo/ray_results/TrainLightGCN_2023-11-10_20-19-58/TrainLightGCN_dc554920_160_trial_index=9,batch_size=9,conv_layers=3,embedding_dim=230,l2=0.0006,learning_rate=0.0007_2023-11-11_03-06-45/checkpoint_000000)\n",
      "\u001b[2m\u001b[36m(pid=1044133)\u001b[0m 2023-11-11 03:17:53.868757: E tensorflow/compiler/xla/stream_executor/cuda/cuda_dnn.cc:9342] Unable to register cuDNN factory: Attempting to register factory for plugin cuDNN when one has already been registered\n",
      "\u001b[2m\u001b[36m(pid=1044133)\u001b[0m 2023-11-11 03:17:53.868793: E tensorflow/compiler/xla/stream_executor/cuda/cuda_fft.cc:609] Unable to register cuFFT factory: Attempting to register factory for plugin cuFFT when one has already been registered\n",
      "\u001b[2m\u001b[36m(pid=1044133)\u001b[0m 2023-11-11 03:17:53.868804: E tensorflow/compiler/xla/stream_executor/cuda/cuda_blas.cc:1518] Unable to register cuBLAS factory: Attempting to register factory for plugin cuBLAS when one has already been registered\n",
      "\u001b[2m\u001b[36m(TrainLightGCN pid=1044133)\u001b[0m /home/daviddavo/upm-tfm-notebooks/.direnv/python-3.9/lib/python3.9/site-packages/recommenders/models/deeprec/DataModel/ImplicitCF.py:73: FutureWarning: The frame.append method is deprecated and will be removed from pandas in a future version. Use pandas.concat instead.\n",
      "\u001b[2m\u001b[36m(TrainLightGCN pid=1044133)\u001b[0m   df = train if test is None else train.append(test)\n"
     ]
    },
    {
     "name": "stdout",
     "output_type": "stream",
     "text": [
      "\u001b[2m\u001b[36m(TrainLightGCN pid=1044133)\u001b[0m Already normalize adjacency matrix.\n",
      "\u001b[2m\u001b[36m(TrainLightGCN pid=1044133)\u001b[0m Using xavier initialization.\n",
      "\u001b[2m\u001b[36m(TrainLightGCN pid=1044133)\u001b[0m Already create adjacency matrix.\n"
     ]
    },
    {
     "name": "stderr",
     "output_type": "stream",
     "text": [
      "\u001b[2m\u001b[36m(TrainLightGCN pid=1043696)\u001b[0m Checkpoint successfully created at: Checkpoint(filesystem=local, path=/home/daviddavo/ray_results/TrainLightGCN_2023-11-10_20-19-58/TrainLightGCN_b1a6b043_163_trial_index=2,batch_size=6,conv_layers=5,embedding_dim=20,l2=0.0000,learning_rate=0.0005_2023-11-11_03-13-33/checkpoint_000000)\n",
      "\u001b[2m\u001b[36m(pid=1044276)\u001b[0m 2023-11-11 03:20:04.902460: E tensorflow/compiler/xla/stream_executor/cuda/cuda_dnn.cc:9342] Unable to register cuDNN factory: Attempting to register factory for plugin cuDNN when one has already been registered\n",
      "\u001b[2m\u001b[36m(pid=1044276)\u001b[0m 2023-11-11 03:20:04.902493: E tensorflow/compiler/xla/stream_executor/cuda/cuda_fft.cc:609] Unable to register cuFFT factory: Attempting to register factory for plugin cuFFT when one has already been registered\n",
      "\u001b[2m\u001b[36m(pid=1044276)\u001b[0m 2023-11-11 03:20:04.902505: E tensorflow/compiler/xla/stream_executor/cuda/cuda_blas.cc:1518] Unable to register cuBLAS factory: Attempting to register factory for plugin cuBLAS when one has already been registered\n",
      "\u001b[2m\u001b[36m(TrainLightGCN pid=1044276)\u001b[0m /home/daviddavo/upm-tfm-notebooks/.direnv/python-3.9/lib/python3.9/site-packages/recommenders/models/deeprec/DataModel/ImplicitCF.py:73: FutureWarning: The frame.append method is deprecated and will be removed from pandas in a future version. Use pandas.concat instead.\n",
      "\u001b[2m\u001b[36m(TrainLightGCN pid=1044276)\u001b[0m   df = train if test is None else train.append(test)\n"
     ]
    },
    {
     "name": "stdout",
     "output_type": "stream",
     "text": [
      "\u001b[2m\u001b[36m(TrainLightGCN pid=1044276)\u001b[0m Already create adjacency matrix.\n",
      "\u001b[2m\u001b[36m(TrainLightGCN pid=1044276)\u001b[0m Already normalize adjacency matrix.\n",
      "\u001b[2m\u001b[36m(TrainLightGCN pid=1044276)\u001b[0m Using xavier initialization.\n"
     ]
    },
    {
     "name": "stderr",
     "output_type": "stream",
     "text": [
      "\u001b[2m\u001b[36m(TrainLightGCN pid=1043840)\u001b[0m Checkpoint successfully created at: Checkpoint(filesystem=local, path=/home/daviddavo/ray_results/TrainLightGCN_2023-11-10_20-19-58/TrainLightGCN_90d3956d_164_trial_index=3,batch_size=6,conv_layers=5,embedding_dim=20,l2=0.0000,learning_rate=0.0005_2023-11-11_03-14-42/checkpoint_000000)\n",
      "\u001b[2m\u001b[36m(pid=1044421)\u001b[0m 2023-11-11 03:23:28.939875: E tensorflow/compiler/xla/stream_executor/cuda/cuda_dnn.cc:9342] Unable to register cuDNN factory: Attempting to register factory for plugin cuDNN when one has already been registered\n",
      "\u001b[2m\u001b[36m(pid=1044421)\u001b[0m 2023-11-11 03:23:28.939911: E tensorflow/compiler/xla/stream_executor/cuda/cuda_fft.cc:609] Unable to register cuFFT factory: Attempting to register factory for plugin cuFFT when one has already been registered\n",
      "\u001b[2m\u001b[36m(pid=1044421)\u001b[0m 2023-11-11 03:23:28.939922: E tensorflow/compiler/xla/stream_executor/cuda/cuda_blas.cc:1518] Unable to register cuBLAS factory: Attempting to register factory for plugin cuBLAS when one has already been registered\n",
      "\u001b[2m\u001b[36m(TrainLightGCN pid=1044421)\u001b[0m /home/daviddavo/upm-tfm-notebooks/.direnv/python-3.9/lib/python3.9/site-packages/recommenders/models/deeprec/DataModel/ImplicitCF.py:73: FutureWarning: The frame.append method is deprecated and will be removed from pandas in a future version. Use pandas.concat instead.\n",
      "\u001b[2m\u001b[36m(TrainLightGCN pid=1044421)\u001b[0m   df = train if test is None else train.append(test)\n"
     ]
    },
    {
     "name": "stdout",
     "output_type": "stream",
     "text": [
      "\u001b[2m\u001b[36m(TrainLightGCN pid=1044421)\u001b[0m Already create adjacency matrix.\n",
      "\u001b[2m\u001b[36m(TrainLightGCN pid=1044421)\u001b[0m Already normalize adjacency matrix.\n",
      "\u001b[2m\u001b[36m(TrainLightGCN pid=1044421)\u001b[0m Using xavier initialization.\n"
     ]
    },
    {
     "name": "stderr",
     "output_type": "stream",
     "text": [
      "\u001b[2m\u001b[36m(TrainLightGCN pid=1041535)\u001b[0m Checkpoint successfully created at: Checkpoint(filesystem=local, path=/home/daviddavo/ray_results/TrainLightGCN_2023-11-10_20-19-58/TrainLightGCN_3f3e9edb_148_trial_index=7,batch_size=5,conv_layers=5,embedding_dim=45,l2=0.0359,learning_rate=0.0002_2023-11-11_02-32-15/checkpoint_000000)\n",
      "\u001b[2m\u001b[36m(pid=1044569)\u001b[0m 2023-11-11 03:24:37.958360: E tensorflow/compiler/xla/stream_executor/cuda/cuda_dnn.cc:9342] Unable to register cuDNN factory: Attempting to register factory for plugin cuDNN when one has already been registered\n",
      "\u001b[2m\u001b[36m(pid=1044569)\u001b[0m 2023-11-11 03:24:37.958396: E tensorflow/compiler/xla/stream_executor/cuda/cuda_fft.cc:609] Unable to register cuFFT factory: Attempting to register factory for plugin cuFFT when one has already been registered\n",
      "\u001b[2m\u001b[36m(pid=1044569)\u001b[0m 2023-11-11 03:24:37.958409: E tensorflow/compiler/xla/stream_executor/cuda/cuda_blas.cc:1518] Unable to register cuBLAS factory: Attempting to register factory for plugin cuBLAS when one has already been registered\n",
      "\u001b[2m\u001b[36m(TrainLightGCN pid=1044569)\u001b[0m /home/daviddavo/upm-tfm-notebooks/.direnv/python-3.9/lib/python3.9/site-packages/recommenders/models/deeprec/DataModel/ImplicitCF.py:73: FutureWarning: The frame.append method is deprecated and will be removed from pandas in a future version. Use pandas.concat instead.\n",
      "\u001b[2m\u001b[36m(TrainLightGCN pid=1044569)\u001b[0m   df = train if test is None else train.append(test)\n"
     ]
    },
    {
     "name": "stdout",
     "output_type": "stream",
     "text": [
      "\u001b[2m\u001b[36m(TrainLightGCN pid=1044569)\u001b[0m Already create adjacency matrix.\n",
      "\u001b[2m\u001b[36m(TrainLightGCN pid=1044569)\u001b[0m Already normalize adjacency matrix.\n",
      "\u001b[2m\u001b[36m(TrainLightGCN pid=1044569)\u001b[0m Using xavier initialization.\n"
     ]
    },
    {
     "name": "stderr",
     "output_type": "stream",
     "text": [
      "\u001b[2m\u001b[36m(TrainLightGCN pid=1038946)\u001b[0m Checkpoint successfully created at: Checkpoint(filesystem=local, path=/home/daviddavo/ray_results/TrainLightGCN_2023-11-10_20-19-58/TrainLightGCN_a7bda49b_130_trial_index=9,batch_size=5,conv_layers=3,embedding_dim=10,l2=0.0000,learning_rate=0.0003_2023-11-11_01-41-15/checkpoint_000000)\n",
      "\u001b[2m\u001b[36m(pid=1044707)\u001b[0m 2023-11-11 03:24:43.066789: E tensorflow/compiler/xla/stream_executor/cuda/cuda_dnn.cc:9342] Unable to register cuDNN factory: Attempting to register factory for plugin cuDNN when one has already been registered\n",
      "\u001b[2m\u001b[36m(pid=1044707)\u001b[0m 2023-11-11 03:24:43.066823: E tensorflow/compiler/xla/stream_executor/cuda/cuda_fft.cc:609] Unable to register cuFFT factory: Attempting to register factory for plugin cuFFT when one has already been registered\n",
      "\u001b[2m\u001b[36m(pid=1044707)\u001b[0m 2023-11-11 03:24:43.066835: E tensorflow/compiler/xla/stream_executor/cuda/cuda_blas.cc:1518] Unable to register cuBLAS factory: Attempting to register factory for plugin cuBLAS when one has already been registered\n",
      "\u001b[2m\u001b[36m(TrainLightGCN pid=1044707)\u001b[0m /home/daviddavo/upm-tfm-notebooks/.direnv/python-3.9/lib/python3.9/site-packages/recommenders/models/deeprec/DataModel/ImplicitCF.py:73: FutureWarning: The frame.append method is deprecated and will be removed from pandas in a future version. Use pandas.concat instead.\n",
      "\u001b[2m\u001b[36m(TrainLightGCN pid=1044707)\u001b[0m   df = train if test is None else train.append(test)\n"
     ]
    },
    {
     "name": "stdout",
     "output_type": "stream",
     "text": [
      "\u001b[2m\u001b[36m(TrainLightGCN pid=1044707)\u001b[0m Already normalize adjacency matrix.\n",
      "\u001b[2m\u001b[36m(TrainLightGCN pid=1044707)\u001b[0m Using xavier initialization.\n",
      "\u001b[2m\u001b[36m(TrainLightGCN pid=1044707)\u001b[0m Already create adjacency matrix.\n"
     ]
    },
    {
     "name": "stderr",
     "output_type": "stream",
     "text": [
      "\u001b[2m\u001b[36m(TrainLightGCN pid=1043984)\u001b[0m Checkpoint successfully created at: Checkpoint(filesystem=local, path=/home/daviddavo/ray_results/TrainLightGCN_2023-11-10_20-19-58/TrainLightGCN_598e037b_165_trial_index=4,batch_size=6,conv_layers=5,embedding_dim=20,l2=0.0000,learning_rate=0.0005_2023-11-11_03-15-56/checkpoint_000000)\n",
      "\u001b[2m\u001b[36m(pid=1044868)\u001b[0m 2023-11-11 03:25:39.927753: E tensorflow/compiler/xla/stream_executor/cuda/cuda_dnn.cc:9342] Unable to register cuDNN factory: Attempting to register factory for plugin cuDNN when one has already been registered\n",
      "\u001b[2m\u001b[36m(pid=1044868)\u001b[0m 2023-11-11 03:25:39.927788: E tensorflow/compiler/xla/stream_executor/cuda/cuda_fft.cc:609] Unable to register cuFFT factory: Attempting to register factory for plugin cuFFT when one has already been registered\n",
      "\u001b[2m\u001b[36m(pid=1044868)\u001b[0m 2023-11-11 03:25:39.927799: E tensorflow/compiler/xla/stream_executor/cuda/cuda_blas.cc:1518] Unable to register cuBLAS factory: Attempting to register factory for plugin cuBLAS when one has already been registered\n",
      "\u001b[2m\u001b[36m(TrainLightGCN pid=1044868)\u001b[0m /home/daviddavo/upm-tfm-notebooks/.direnv/python-3.9/lib/python3.9/site-packages/recommenders/models/deeprec/DataModel/ImplicitCF.py:73: FutureWarning: The frame.append method is deprecated and will be removed from pandas in a future version. Use pandas.concat instead.\n",
      "\u001b[2m\u001b[36m(TrainLightGCN pid=1044868)\u001b[0m   df = train if test is None else train.append(test)\n"
     ]
    },
    {
     "name": "stdout",
     "output_type": "stream",
     "text": [
      "\u001b[2m\u001b[36m(TrainLightGCN pid=1044868)\u001b[0m Already create adjacency matrix.\n",
      "\u001b[2m\u001b[36m(TrainLightGCN pid=1044868)\u001b[0m Already normalize adjacency matrix.\n",
      "\u001b[2m\u001b[36m(TrainLightGCN pid=1044868)\u001b[0m Using xavier initialization.\n"
     ]
    },
    {
     "name": "stderr",
     "output_type": "stream",
     "text": [
      "\u001b[2m\u001b[36m(TrainLightGCN pid=1044133)\u001b[0m Checkpoint successfully created at: Checkpoint(filesystem=local, path=/home/daviddavo/ray_results/TrainLightGCN_2023-11-10_20-19-58/TrainLightGCN_ce7d14bf_166_trial_index=5,batch_size=6,conv_layers=5,embedding_dim=20,l2=0.0000,learning_rate=0.0005_2023-11-11_03-16-32/checkpoint_000000)\n",
      "\u001b[2m\u001b[36m(pid=1045011)\u001b[0m 2023-11-11 03:29:10.984715: E tensorflow/compiler/xla/stream_executor/cuda/cuda_dnn.cc:9342] Unable to register cuDNN factory: Attempting to register factory for plugin cuDNN when one has already been registered\n",
      "\u001b[2m\u001b[36m(pid=1045011)\u001b[0m 2023-11-11 03:29:10.984752: E tensorflow/compiler/xla/stream_executor/cuda/cuda_fft.cc:609] Unable to register cuFFT factory: Attempting to register factory for plugin cuFFT when one has already been registered\n",
      "\u001b[2m\u001b[36m(pid=1045011)\u001b[0m 2023-11-11 03:29:10.984764: E tensorflow/compiler/xla/stream_executor/cuda/cuda_blas.cc:1518] Unable to register cuBLAS factory: Attempting to register factory for plugin cuBLAS when one has already been registered\n",
      "\u001b[2m\u001b[36m(TrainLightGCN pid=1045011)\u001b[0m /home/daviddavo/upm-tfm-notebooks/.direnv/python-3.9/lib/python3.9/site-packages/recommenders/models/deeprec/DataModel/ImplicitCF.py:73: FutureWarning: The frame.append method is deprecated and will be removed from pandas in a future version. Use pandas.concat instead.\n",
      "\u001b[2m\u001b[36m(TrainLightGCN pid=1045011)\u001b[0m   df = train if test is None else train.append(test)\n"
     ]
    },
    {
     "name": "stdout",
     "output_type": "stream",
     "text": [
      "\u001b[2m\u001b[36m(TrainLightGCN pid=1045011)\u001b[0m Already normalize adjacency matrix.\n",
      "\u001b[2m\u001b[36m(TrainLightGCN pid=1045011)\u001b[0m Using xavier initialization.\n",
      "\u001b[2m\u001b[36m(TrainLightGCN pid=1045011)\u001b[0m Already create adjacency matrix.\n"
     ]
    },
    {
     "name": "stderr",
     "output_type": "stream",
     "text": [
      "\u001b[2m\u001b[36m(TrainLightGCN pid=1044868)\u001b[0m Checkpoint successfully created at: Checkpoint(filesystem=local, path=/home/daviddavo/ray_results/TrainLightGCN_2023-11-10_20-19-58/TrainLightGCN_ab831f9e_171_trial_index=0,batch_size=4,conv_layers=4,embedding_dim=160,l2=0.0000,learning_rate=0.0056_2023-11-11_03-24-45/checkpoint_000000)\n",
      "\u001b[2m\u001b[36m(pid=1045155)\u001b[0m 2023-11-11 03:29:55.081867: E tensorflow/compiler/xla/stream_executor/cuda/cuda_dnn.cc:9342] Unable to register cuDNN factory: Attempting to register factory for plugin cuDNN when one has already been registered\n",
      "\u001b[2m\u001b[36m(pid=1045155)\u001b[0m 2023-11-11 03:29:55.081899: E tensorflow/compiler/xla/stream_executor/cuda/cuda_fft.cc:609] Unable to register cuFFT factory: Attempting to register factory for plugin cuFFT when one has already been registered\n",
      "\u001b[2m\u001b[36m(pid=1045155)\u001b[0m 2023-11-11 03:29:55.081912: E tensorflow/compiler/xla/stream_executor/cuda/cuda_blas.cc:1518] Unable to register cuBLAS factory: Attempting to register factory for plugin cuBLAS when one has already been registered\n",
      "\u001b[2m\u001b[36m(TrainLightGCN pid=1045155)\u001b[0m /home/daviddavo/upm-tfm-notebooks/.direnv/python-3.9/lib/python3.9/site-packages/recommenders/models/deeprec/DataModel/ImplicitCF.py:73: FutureWarning: The frame.append method is deprecated and will be removed from pandas in a future version. Use pandas.concat instead.\n",
      "\u001b[2m\u001b[36m(TrainLightGCN pid=1045155)\u001b[0m   df = train if test is None else train.append(test)\n"
     ]
    },
    {
     "name": "stdout",
     "output_type": "stream",
     "text": [
      "\u001b[2m\u001b[36m(TrainLightGCN pid=1045155)\u001b[0m Already create adjacency matrix.\n",
      "\u001b[2m\u001b[36m(TrainLightGCN pid=1045155)\u001b[0m Already normalize adjacency matrix.\n",
      "\u001b[2m\u001b[36m(TrainLightGCN pid=1045155)\u001b[0m Using xavier initialization.\n"
     ]
    },
    {
     "name": "stderr",
     "output_type": "stream",
     "text": [
      "\u001b[2m\u001b[36m(TrainLightGCN pid=1044276)\u001b[0m Checkpoint successfully created at: Checkpoint(filesystem=local, path=/home/daviddavo/ray_results/TrainLightGCN_2023-11-10_20-19-58/TrainLightGCN_93b64303_167_trial_index=6,batch_size=6,conv_layers=5,embedding_dim=20,l2=0.0000,learning_rate=0.0005_2023-11-11_03-17-56/checkpoint_000000)\n",
      "\u001b[2m\u001b[36m(pid=1045299)\u001b[0m 2023-11-11 03:34:45.026294: E tensorflow/compiler/xla/stream_executor/cuda/cuda_dnn.cc:9342] Unable to register cuDNN factory: Attempting to register factory for plugin cuDNN when one has already been registered\n",
      "\u001b[2m\u001b[36m(pid=1045299)\u001b[0m 2023-11-11 03:34:45.026331: E tensorflow/compiler/xla/stream_executor/cuda/cuda_fft.cc:609] Unable to register cuFFT factory: Attempting to register factory for plugin cuFFT when one has already been registered\n",
      "\u001b[2m\u001b[36m(pid=1045299)\u001b[0m 2023-11-11 03:34:45.026344: E tensorflow/compiler/xla/stream_executor/cuda/cuda_blas.cc:1518] Unable to register cuBLAS factory: Attempting to register factory for plugin cuBLAS when one has already been registered\n",
      "\u001b[2m\u001b[36m(TrainLightGCN pid=1045299)\u001b[0m /home/daviddavo/upm-tfm-notebooks/.direnv/python-3.9/lib/python3.9/site-packages/recommenders/models/deeprec/DataModel/ImplicitCF.py:73: FutureWarning: The frame.append method is deprecated and will be removed from pandas in a future version. Use pandas.concat instead.\n",
      "\u001b[2m\u001b[36m(TrainLightGCN pid=1045299)\u001b[0m   df = train if test is None else train.append(test)\n"
     ]
    },
    {
     "name": "stdout",
     "output_type": "stream",
     "text": [
      "\u001b[2m\u001b[36m(TrainLightGCN pid=1045299)\u001b[0m Already normalize adjacency matrix.\n",
      "\u001b[2m\u001b[36m(TrainLightGCN pid=1045299)\u001b[0m Using xavier initialization.\n",
      "\u001b[2m\u001b[36m(TrainLightGCN pid=1045299)\u001b[0m Already create adjacency matrix.\n"
     ]
    },
    {
     "name": "stderr",
     "output_type": "stream",
     "text": [
      "\u001b[2m\u001b[36m(TrainLightGCN pid=1045011)\u001b[0m Checkpoint successfully created at: Checkpoint(filesystem=local, path=/home/daviddavo/ray_results/TrainLightGCN_2023-11-10_20-19-58/TrainLightGCN_79b593f8_172_trial_index=1,batch_size=4,conv_layers=4,embedding_dim=160,l2=0.0000,learning_rate=0.0056_2023-11-11_03-25-41/checkpoint_000000)\n",
      "\u001b[2m\u001b[36m(pid=1045441)\u001b[0m 2023-11-11 03:37:13.115746: E tensorflow/compiler/xla/stream_executor/cuda/cuda_dnn.cc:9342] Unable to register cuDNN factory: Attempting to register factory for plugin cuDNN when one has already been registered\n",
      "\u001b[2m\u001b[36m(pid=1045441)\u001b[0m 2023-11-11 03:37:13.115781: E tensorflow/compiler/xla/stream_executor/cuda/cuda_fft.cc:609] Unable to register cuFFT factory: Attempting to register factory for plugin cuFFT when one has already been registered\n",
      "\u001b[2m\u001b[36m(pid=1045441)\u001b[0m 2023-11-11 03:37:13.115792: E tensorflow/compiler/xla/stream_executor/cuda/cuda_blas.cc:1518] Unable to register cuBLAS factory: Attempting to register factory for plugin cuBLAS when one has already been registered\n",
      "\u001b[2m\u001b[36m(TrainLightGCN pid=1045441)\u001b[0m /home/daviddavo/upm-tfm-notebooks/.direnv/python-3.9/lib/python3.9/site-packages/recommenders/models/deeprec/DataModel/ImplicitCF.py:73: FutureWarning: The frame.append method is deprecated and will be removed from pandas in a future version. Use pandas.concat instead.\n",
      "\u001b[2m\u001b[36m(TrainLightGCN pid=1045441)\u001b[0m   df = train if test is None else train.append(test)\n"
     ]
    },
    {
     "name": "stdout",
     "output_type": "stream",
     "text": [
      "\u001b[2m\u001b[36m(TrainLightGCN pid=1045441)\u001b[0m Already create adjacency matrix.\n",
      "\u001b[2m\u001b[36m(TrainLightGCN pid=1045441)\u001b[0m Already normalize adjacency matrix.\n",
      "\u001b[2m\u001b[36m(TrainLightGCN pid=1045441)\u001b[0m Using xavier initialization.\n"
     ]
    },
    {
     "name": "stderr",
     "output_type": "stream",
     "text": [
      "IOPub message rate exceeded.\n",
      "The Jupyter server will temporarily stop sending output\n",
      "to the client in order to avoid crashing it.\n",
      "To change this limit, set the config variable\n",
      "`--ServerApp.iopub_msg_rate_limit`.\n",
      "\n",
      "Current values:\n",
      "ServerApp.iopub_msg_rate_limit=1000.0 (msgs/sec)\n",
      "ServerApp.rate_limit_window=3.0 (secs)\n",
      "\n",
      "\u001b[2m\u001b[36m(TrainLightGCN pid=1053813)\u001b[0m Checkpoint successfully created at: Checkpoint(filesystem=local, path=/home/daviddavo/ray_results/TrainLightGCN_2023-11-10_20-19-58/TrainLightGCN_85f2d0eb_232_trial_index=1,batch_size=6,conv_layers=2,embedding_dim=235,l2=0.0000,learning_rate=0.0069_2023-11-11_07-42-41/checkpoint_000000)\n",
      "\u001b[2m\u001b[36m(pid=1054693)\u001b[0m 2023-11-11 07:46:28.834042: E tensorflow/compiler/xla/stream_executor/cuda/cuda_dnn.cc:9342] Unable to register cuDNN factory: Attempting to register factory for plugin cuDNN when one has already been registered\n",
      "\u001b[2m\u001b[36m(pid=1054693)\u001b[0m 2023-11-11 07:46:28.834078: E tensorflow/compiler/xla/stream_executor/cuda/cuda_fft.cc:609] Unable to register cuFFT factory: Attempting to register factory for plugin cuFFT when one has already been registered\n",
      "\u001b[2m\u001b[36m(pid=1054693)\u001b[0m 2023-11-11 07:46:28.834091: E tensorflow/compiler/xla/stream_executor/cuda/cuda_blas.cc:1518] Unable to register cuBLAS factory: Attempting to register factory for plugin cuBLAS when one has already been registered\n",
      "\u001b[2m\u001b[36m(TrainLightGCN pid=1054693)\u001b[0m /home/daviddavo/upm-tfm-notebooks/.direnv/python-3.9/lib/python3.9/site-packages/recommenders/models/deeprec/DataModel/ImplicitCF.py:73: FutureWarning: The frame.append method is deprecated and will be removed from pandas in a future version. Use pandas.concat instead.\n",
      "\u001b[2m\u001b[36m(TrainLightGCN pid=1054693)\u001b[0m   df = train if test is None else train.append(test)\n"
     ]
    },
    {
     "name": "stdout",
     "output_type": "stream",
     "text": [
      "\u001b[2m\u001b[36m(TrainLightGCN pid=1054693)\u001b[0m Already create adjacency matrix.\n",
      "\u001b[2m\u001b[36m(TrainLightGCN pid=1054693)\u001b[0m Already normalize adjacency matrix.\n",
      "\u001b[2m\u001b[36m(TrainLightGCN pid=1054693)\u001b[0m Using xavier initialization.\n"
     ]
    },
    {
     "name": "stderr",
     "output_type": "stream",
     "text": [
      "\u001b[2m\u001b[36m(TrainLightGCN pid=1052946)\u001b[0m Checkpoint successfully created at: Checkpoint(filesystem=local, path=/home/daviddavo/ray_results/TrainLightGCN_2023-11-10_20-19-58/TrainLightGCN_c167a4d8_226_trial_index=5,batch_size=5,conv_layers=2,embedding_dim=55,l2=0.0000,learning_rate=0.0013_2023-11-11_07-15-51/checkpoint_000000)\n",
      "\u001b[2m\u001b[36m(pid=1055217)\u001b[0m 2023-11-11 07:50:43.907697: E tensorflow/compiler/xla/stream_executor/cuda/cuda_dnn.cc:9342] Unable to register cuDNN factory: Attempting to register factory for plugin cuDNN when one has already been registered\n",
      "\u001b[2m\u001b[36m(pid=1055217)\u001b[0m 2023-11-11 07:50:43.907732: E tensorflow/compiler/xla/stream_executor/cuda/cuda_fft.cc:609] Unable to register cuFFT factory: Attempting to register factory for plugin cuFFT when one has already been registered\n",
      "\u001b[2m\u001b[36m(pid=1055217)\u001b[0m 2023-11-11 07:50:43.907744: E tensorflow/compiler/xla/stream_executor/cuda/cuda_blas.cc:1518] Unable to register cuBLAS factory: Attempting to register factory for plugin cuBLAS when one has already been registered\n",
      "\u001b[2m\u001b[36m(TrainLightGCN pid=1055217)\u001b[0m /home/daviddavo/upm-tfm-notebooks/.direnv/python-3.9/lib/python3.9/site-packages/recommenders/models/deeprec/DataModel/ImplicitCF.py:73: FutureWarning: The frame.append method is deprecated and will be removed from pandas in a future version. Use pandas.concat instead.\n",
      "\u001b[2m\u001b[36m(TrainLightGCN pid=1055217)\u001b[0m   df = train if test is None else train.append(test)\n"
     ]
    },
    {
     "name": "stdout",
     "output_type": "stream",
     "text": [
      "\u001b[2m\u001b[36m(TrainLightGCN pid=1055217)\u001b[0m Already normalize adjacency matrix.\n",
      "\u001b[2m\u001b[36m(TrainLightGCN pid=1055217)\u001b[0m Using xavier initialization.\n",
      "\u001b[2m\u001b[36m(TrainLightGCN pid=1055217)\u001b[0m Already create adjacency matrix.\n"
     ]
    },
    {
     "name": "stderr",
     "output_type": "stream",
     "text": [
      "\u001b[2m\u001b[36m(TrainLightGCN pid=1054693)\u001b[0m Checkpoint successfully created at: Checkpoint(filesystem=local, path=/home/daviddavo/ray_results/TrainLightGCN_2023-11-10_20-19-58/TrainLightGCN_5d0dca50_233_trial_index=2,batch_size=6,conv_layers=2,embedding_dim=235,l2=0.0000,learning_rate=0.0069_2023-11-11_07-44-03/checkpoint_000000)\n",
      "\u001b[2m\u001b[36m(pid=1055491)\u001b[0m 2023-11-11 07:52:13.912911: E tensorflow/compiler/xla/stream_executor/cuda/cuda_dnn.cc:9342] Unable to register cuDNN factory: Attempting to register factory for plugin cuDNN when one has already been registered\n",
      "\u001b[2m\u001b[36m(pid=1055491)\u001b[0m 2023-11-11 07:52:13.912947: E tensorflow/compiler/xla/stream_executor/cuda/cuda_fft.cc:609] Unable to register cuFFT factory: Attempting to register factory for plugin cuFFT when one has already been registered\n",
      "\u001b[2m\u001b[36m(pid=1055491)\u001b[0m 2023-11-11 07:52:13.912958: E tensorflow/compiler/xla/stream_executor/cuda/cuda_blas.cc:1518] Unable to register cuBLAS factory: Attempting to register factory for plugin cuBLAS when one has already been registered\n",
      "\u001b[2m\u001b[36m(TrainLightGCN pid=1055491)\u001b[0m /home/daviddavo/upm-tfm-notebooks/.direnv/python-3.9/lib/python3.9/site-packages/recommenders/models/deeprec/DataModel/ImplicitCF.py:73: FutureWarning: The frame.append method is deprecated and will be removed from pandas in a future version. Use pandas.concat instead.\n",
      "\u001b[2m\u001b[36m(TrainLightGCN pid=1055491)\u001b[0m   df = train if test is None else train.append(test)\n"
     ]
    },
    {
     "name": "stdout",
     "output_type": "stream",
     "text": [
      "\u001b[2m\u001b[36m(TrainLightGCN pid=1055491)\u001b[0m Already create adjacency matrix.\n",
      "\u001b[2m\u001b[36m(TrainLightGCN pid=1055491)\u001b[0m Already normalize adjacency matrix.\n",
      "\u001b[2m\u001b[36m(TrainLightGCN pid=1055491)\u001b[0m Using xavier initialization.\n"
     ]
    },
    {
     "name": "stderr",
     "output_type": "stream",
     "text": [
      "\u001b[2m\u001b[36m(TrainLightGCN pid=1055217)\u001b[0m Checkpoint successfully created at: Checkpoint(filesystem=local, path=/home/daviddavo/ray_results/TrainLightGCN_2023-11-10_20-19-58/TrainLightGCN_6da795a9_234_trial_index=3,batch_size=6,conv_layers=2,embedding_dim=235,l2=0.0000,learning_rate=0.0069_2023-11-11_07-46-30/checkpoint_000000)\n",
      "\u001b[2m\u001b[36m(pid=1056286)\u001b[0m 2023-11-11 07:59:44.008730: E tensorflow/compiler/xla/stream_executor/cuda/cuda_dnn.cc:9342] Unable to register cuDNN factory: Attempting to register factory for plugin cuDNN when one has already been registered\n",
      "\u001b[2m\u001b[36m(pid=1056286)\u001b[0m 2023-11-11 07:59:44.008766: E tensorflow/compiler/xla/stream_executor/cuda/cuda_fft.cc:609] Unable to register cuFFT factory: Attempting to register factory for plugin cuFFT when one has already been registered\n",
      "\u001b[2m\u001b[36m(pid=1056286)\u001b[0m 2023-11-11 07:59:44.008779: E tensorflow/compiler/xla/stream_executor/cuda/cuda_blas.cc:1518] Unable to register cuBLAS factory: Attempting to register factory for plugin cuBLAS when one has already been registered\n",
      "\u001b[2m\u001b[36m(TrainLightGCN pid=1056286)\u001b[0m /home/daviddavo/upm-tfm-notebooks/.direnv/python-3.9/lib/python3.9/site-packages/recommenders/models/deeprec/DataModel/ImplicitCF.py:73: FutureWarning: The frame.append method is deprecated and will be removed from pandas in a future version. Use pandas.concat instead.\n",
      "\u001b[2m\u001b[36m(TrainLightGCN pid=1056286)\u001b[0m   df = train if test is None else train.append(test)\n"
     ]
    },
    {
     "name": "stdout",
     "output_type": "stream",
     "text": [
      "\u001b[2m\u001b[36m(TrainLightGCN pid=1056286)\u001b[0m Already create adjacency matrix.\n",
      "\u001b[2m\u001b[36m(TrainLightGCN pid=1056286)\u001b[0m Already normalize adjacency matrix.\n",
      "\u001b[2m\u001b[36m(TrainLightGCN pid=1056286)\u001b[0m Using xavier initialization.\n"
     ]
    },
    {
     "name": "stderr",
     "output_type": "stream",
     "text": [
      "\u001b[2m\u001b[36m(TrainLightGCN pid=1053089)\u001b[0m Checkpoint successfully created at: Checkpoint(filesystem=local, path=/home/daviddavo/ray_results/TrainLightGCN_2023-11-10_20-19-58/TrainLightGCN_dd780611_227_trial_index=6,batch_size=5,conv_layers=2,embedding_dim=55,l2=0.0000,learning_rate=0.0013_2023-11-11_07-23-53/checkpoint_000000)\n",
      "\u001b[2m\u001b[36m(pid=1056608)\u001b[0m 2023-11-11 08:01:47.004505: E tensorflow/compiler/xla/stream_executor/cuda/cuda_dnn.cc:9342] Unable to register cuDNN factory: Attempting to register factory for plugin cuDNN when one has already been registered\n",
      "\u001b[2m\u001b[36m(pid=1056608)\u001b[0m 2023-11-11 08:01:47.004543: E tensorflow/compiler/xla/stream_executor/cuda/cuda_fft.cc:609] Unable to register cuFFT factory: Attempting to register factory for plugin cuFFT when one has already been registered\n",
      "\u001b[2m\u001b[36m(pid=1056608)\u001b[0m 2023-11-11 08:01:47.004556: E tensorflow/compiler/xla/stream_executor/cuda/cuda_blas.cc:1518] Unable to register cuBLAS factory: Attempting to register factory for plugin cuBLAS when one has already been registered\n",
      "\u001b[2m\u001b[36m(TrainLightGCN pid=1056608)\u001b[0m /home/daviddavo/upm-tfm-notebooks/.direnv/python-3.9/lib/python3.9/site-packages/recommenders/models/deeprec/DataModel/ImplicitCF.py:73: FutureWarning: The frame.append method is deprecated and will be removed from pandas in a future version. Use pandas.concat instead.\n",
      "\u001b[2m\u001b[36m(TrainLightGCN pid=1056608)\u001b[0m   df = train if test is None else train.append(test)\n"
     ]
    },
    {
     "name": "stdout",
     "output_type": "stream",
     "text": [
      "\u001b[2m\u001b[36m(TrainLightGCN pid=1056608)\u001b[0m Already create adjacency matrix.\n",
      "\u001b[2m\u001b[36m(TrainLightGCN pid=1056608)\u001b[0m Already normalize adjacency matrix.\n",
      "\u001b[2m\u001b[36m(TrainLightGCN pid=1056608)\u001b[0m Using xavier initialization.\n"
     ]
    },
    {
     "name": "stderr",
     "output_type": "stream",
     "text": [
      "\u001b[2m\u001b[36m(TrainLightGCN pid=1055491)\u001b[0m Checkpoint successfully created at: Checkpoint(filesystem=local, path=/home/daviddavo/ray_results/TrainLightGCN_2023-11-10_20-19-58/TrainLightGCN_762b182e_235_trial_index=4,batch_size=6,conv_layers=2,embedding_dim=235,l2=0.0000,learning_rate=0.0069_2023-11-11_07-50-46/checkpoint_000000)\n",
      "\u001b[2m\u001b[36m(pid=1056904)\u001b[0m 2023-11-11 08:03:32.010166: E tensorflow/compiler/xla/stream_executor/cuda/cuda_dnn.cc:9342] Unable to register cuDNN factory: Attempting to register factory for plugin cuDNN when one has already been registered\n",
      "\u001b[2m\u001b[36m(pid=1056904)\u001b[0m 2023-11-11 08:03:32.010202: E tensorflow/compiler/xla/stream_executor/cuda/cuda_fft.cc:609] Unable to register cuFFT factory: Attempting to register factory for plugin cuFFT when one has already been registered\n",
      "\u001b[2m\u001b[36m(pid=1056904)\u001b[0m 2023-11-11 08:03:32.010213: E tensorflow/compiler/xla/stream_executor/cuda/cuda_blas.cc:1518] Unable to register cuBLAS factory: Attempting to register factory for plugin cuBLAS when one has already been registered\n",
      "\u001b[2m\u001b[36m(TrainLightGCN pid=1056904)\u001b[0m /home/daviddavo/upm-tfm-notebooks/.direnv/python-3.9/lib/python3.9/site-packages/recommenders/models/deeprec/DataModel/ImplicitCF.py:73: FutureWarning: The frame.append method is deprecated and will be removed from pandas in a future version. Use pandas.concat instead.\n",
      "\u001b[2m\u001b[36m(TrainLightGCN pid=1056904)\u001b[0m   df = train if test is None else train.append(test)\n"
     ]
    },
    {
     "name": "stdout",
     "output_type": "stream",
     "text": [
      "\u001b[2m\u001b[36m(TrainLightGCN pid=1056904)\u001b[0m Already create adjacency matrix.\n",
      "\u001b[2m\u001b[36m(TrainLightGCN pid=1056904)\u001b[0m Already normalize adjacency matrix.\n",
      "\u001b[2m\u001b[36m(TrainLightGCN pid=1056904)\u001b[0m Using xavier initialization.\n"
     ]
    },
    {
     "name": "stderr",
     "output_type": "stream",
     "text": [
      "\u001b[2m\u001b[36m(TrainLightGCN pid=1056286)\u001b[0m Checkpoint successfully created at: Checkpoint(filesystem=local, path=/home/daviddavo/ray_results/TrainLightGCN_2023-11-10_20-19-58/TrainLightGCN_6dc818c0_236_trial_index=5,batch_size=6,conv_layers=2,embedding_dim=235,l2=0.0000,learning_rate=0.0069_2023-11-11_07-52-16/checkpoint_000000)\n",
      "\u001b[2m\u001b[36m(pid=1058112)\u001b[0m 2023-11-11 08:14:32.211224: E tensorflow/compiler/xla/stream_executor/cuda/cuda_dnn.cc:9342] Unable to register cuDNN factory: Attempting to register factory for plugin cuDNN when one has already been registered\n",
      "\u001b[2m\u001b[36m(pid=1058112)\u001b[0m 2023-11-11 08:14:32.211335: E tensorflow/compiler/xla/stream_executor/cuda/cuda_fft.cc:609] Unable to register cuFFT factory: Attempting to register factory for plugin cuFFT when one has already been registered\n",
      "\u001b[2m\u001b[36m(pid=1058112)\u001b[0m 2023-11-11 08:14:32.211349: E tensorflow/compiler/xla/stream_executor/cuda/cuda_blas.cc:1518] Unable to register cuBLAS factory: Attempting to register factory for plugin cuBLAS when one has already been registered\n",
      "\u001b[2m\u001b[36m(TrainLightGCN pid=1058112)\u001b[0m /home/daviddavo/upm-tfm-notebooks/.direnv/python-3.9/lib/python3.9/site-packages/recommenders/models/deeprec/DataModel/ImplicitCF.py:73: FutureWarning: The frame.append method is deprecated and will be removed from pandas in a future version. Use pandas.concat instead.\n",
      "\u001b[2m\u001b[36m(TrainLightGCN pid=1058112)\u001b[0m   df = train if test is None else train.append(test)\n"
     ]
    },
    {
     "name": "stdout",
     "output_type": "stream",
     "text": [
      "\u001b[2m\u001b[36m(TrainLightGCN pid=1058112)\u001b[0m Already create adjacency matrix.\n",
      "\u001b[2m\u001b[36m(TrainLightGCN pid=1058112)\u001b[0m Already normalize adjacency matrix.\n",
      "\u001b[2m\u001b[36m(TrainLightGCN pid=1058112)\u001b[0m Using xavier initialization.\n"
     ]
    },
    {
     "name": "stderr",
     "output_type": "stream",
     "text": [
      "\u001b[2m\u001b[36m(TrainLightGCN pid=1050348)\u001b[0m Checkpoint successfully created at: Checkpoint(filesystem=local, path=/home/daviddavo/ray_results/TrainLightGCN_2023-11-10_20-19-58/TrainLightGCN_da09ab5f_209_trial_index=8,batch_size=4,conv_layers=4,embedding_dim=160,l2=0.0000,learning_rate=0.0808_2023-11-11_05-40-36/checkpoint_000000)\n",
      "\u001b[2m\u001b[36m(pid=1058460)\u001b[0m 2023-11-11 08:16:45.180705: E tensorflow/compiler/xla/stream_executor/cuda/cuda_dnn.cc:9342] Unable to register cuDNN factory: Attempting to register factory for plugin cuDNN when one has already been registered\n",
      "\u001b[2m\u001b[36m(pid=1058460)\u001b[0m 2023-11-11 08:16:45.180738: E tensorflow/compiler/xla/stream_executor/cuda/cuda_fft.cc:609] Unable to register cuFFT factory: Attempting to register factory for plugin cuFFT when one has already been registered\n",
      "\u001b[2m\u001b[36m(pid=1058460)\u001b[0m 2023-11-11 08:16:45.180750: E tensorflow/compiler/xla/stream_executor/cuda/cuda_blas.cc:1518] Unable to register cuBLAS factory: Attempting to register factory for plugin cuBLAS when one has already been registered\n",
      "\u001b[2m\u001b[36m(TrainLightGCN pid=1058460)\u001b[0m /home/daviddavo/upm-tfm-notebooks/.direnv/python-3.9/lib/python3.9/site-packages/recommenders/models/deeprec/DataModel/ImplicitCF.py:73: FutureWarning: The frame.append method is deprecated and will be removed from pandas in a future version. Use pandas.concat instead.\n",
      "\u001b[2m\u001b[36m(TrainLightGCN pid=1058460)\u001b[0m   df = train if test is None else train.append(test)\n"
     ]
    },
    {
     "name": "stdout",
     "output_type": "stream",
     "text": [
      "\u001b[2m\u001b[36m(TrainLightGCN pid=1058460)\u001b[0m Already create adjacency matrix.\n",
      "\u001b[2m\u001b[36m(TrainLightGCN pid=1058460)\u001b[0m Already normalize adjacency matrix.\n",
      "\u001b[2m\u001b[36m(TrainLightGCN pid=1058460)\u001b[0m Using xavier initialization.\n"
     ]
    },
    {
     "name": "stderr",
     "output_type": "stream",
     "text": [
      "\u001b[2m\u001b[36m(TrainLightGCN pid=1053232)\u001b[0m Checkpoint successfully created at: Checkpoint(filesystem=local, path=/home/daviddavo/ray_results/TrainLightGCN_2023-11-10_20-19-58/TrainLightGCN_d791ee45_228_trial_index=7,batch_size=5,conv_layers=2,embedding_dim=55,l2=0.0000,learning_rate=0.0013_2023-11-11_07-28-12/checkpoint_000000)\n",
      "\u001b[2m\u001b[36m(pid=1058795)\u001b[0m 2023-11-11 08:18:45.236656: E tensorflow/compiler/xla/stream_executor/cuda/cuda_dnn.cc:9342] Unable to register cuDNN factory: Attempting to register factory for plugin cuDNN when one has already been registered\n",
      "\u001b[2m\u001b[36m(pid=1058795)\u001b[0m 2023-11-11 08:18:45.236693: E tensorflow/compiler/xla/stream_executor/cuda/cuda_fft.cc:609] Unable to register cuFFT factory: Attempting to register factory for plugin cuFFT when one has already been registered\n",
      "\u001b[2m\u001b[36m(pid=1058795)\u001b[0m 2023-11-11 08:18:45.236705: E tensorflow/compiler/xla/stream_executor/cuda/cuda_blas.cc:1518] Unable to register cuBLAS factory: Attempting to register factory for plugin cuBLAS when one has already been registered\n",
      "\u001b[2m\u001b[36m(TrainLightGCN pid=1058795)\u001b[0m /home/daviddavo/upm-tfm-notebooks/.direnv/python-3.9/lib/python3.9/site-packages/recommenders/models/deeprec/DataModel/ImplicitCF.py:73: FutureWarning: The frame.append method is deprecated and will be removed from pandas in a future version. Use pandas.concat instead.\n",
      "\u001b[2m\u001b[36m(TrainLightGCN pid=1058795)\u001b[0m   df = train if test is None else train.append(test)\n"
     ]
    },
    {
     "name": "stdout",
     "output_type": "stream",
     "text": [
      "\u001b[2m\u001b[36m(TrainLightGCN pid=1058795)\u001b[0m Already create adjacency matrix.\n",
      "\u001b[2m\u001b[36m(TrainLightGCN pid=1058795)\u001b[0m Already normalize adjacency matrix.\n",
      "\u001b[2m\u001b[36m(TrainLightGCN pid=1058795)\u001b[0m Using xavier initialization.\n"
     ]
    },
    {
     "name": "stderr",
     "output_type": "stream",
     "text": [
      "\u001b[2m\u001b[36m(TrainLightGCN pid=1058795)\u001b[0m Checkpoint successfully created at: Checkpoint(filesystem=local, path=/home/daviddavo/ray_results/TrainLightGCN_2023-11-10_20-19-58/TrainLightGCN_c43cc680_241_trial_index=0,batch_size=6,conv_layers=2,embedding_dim=155,l2=0.0000,learning_rate=0.0009_2023-11-11_08-16-47/checkpoint_000000)\n",
      "\u001b[2m\u001b[36m(pid=1059086)\u001b[0m 2023-11-11 08:20:23.268142: E tensorflow/compiler/xla/stream_executor/cuda/cuda_dnn.cc:9342] Unable to register cuDNN factory: Attempting to register factory for plugin cuDNN when one has already been registered\n",
      "\u001b[2m\u001b[36m(pid=1059086)\u001b[0m 2023-11-11 08:20:23.268175: E tensorflow/compiler/xla/stream_executor/cuda/cuda_fft.cc:609] Unable to register cuFFT factory: Attempting to register factory for plugin cuFFT when one has already been registered\n",
      "\u001b[2m\u001b[36m(pid=1059086)\u001b[0m 2023-11-11 08:20:23.268188: E tensorflow/compiler/xla/stream_executor/cuda/cuda_blas.cc:1518] Unable to register cuBLAS factory: Attempting to register factory for plugin cuBLAS when one has already been registered\n",
      "\u001b[2m\u001b[36m(TrainLightGCN pid=1059086)\u001b[0m /home/daviddavo/upm-tfm-notebooks/.direnv/python-3.9/lib/python3.9/site-packages/recommenders/models/deeprec/DataModel/ImplicitCF.py:73: FutureWarning: The frame.append method is deprecated and will be removed from pandas in a future version. Use pandas.concat instead.\n",
      "\u001b[2m\u001b[36m(TrainLightGCN pid=1059086)\u001b[0m   df = train if test is None else train.append(test)\n"
     ]
    },
    {
     "name": "stdout",
     "output_type": "stream",
     "text": [
      "\u001b[2m\u001b[36m(TrainLightGCN pid=1059086)\u001b[0m Already normalize adjacency matrix.\n",
      "\u001b[2m\u001b[36m(TrainLightGCN pid=1059086)\u001b[0m Already create adjacency matrix.\n",
      "\u001b[2m\u001b[36m(TrainLightGCN pid=1059086)\u001b[0m Using xavier initialization.\n"
     ]
    },
    {
     "name": "stderr",
     "output_type": "stream",
     "text": [
      "\u001b[2m\u001b[36m(TrainLightGCN pid=1056608)\u001b[0m Checkpoint successfully created at: Checkpoint(filesystem=local, path=/home/daviddavo/ray_results/TrainLightGCN_2023-11-10_20-19-58/TrainLightGCN_3e2d1fbe_237_trial_index=6,batch_size=6,conv_layers=2,embedding_dim=235,l2=0.0000,learning_rate=0.0069_2023-11-11_07-59-46/checkpoint_000000)\n",
      "\u001b[2m\u001b[36m(pid=1059296)\u001b[0m 2023-11-11 08:21:06.184110: E tensorflow/compiler/xla/stream_executor/cuda/cuda_dnn.cc:9342] Unable to register cuDNN factory: Attempting to register factory for plugin cuDNN when one has already been registered\n",
      "\u001b[2m\u001b[36m(pid=1059296)\u001b[0m 2023-11-11 08:21:06.184146: E tensorflow/compiler/xla/stream_executor/cuda/cuda_fft.cc:609] Unable to register cuFFT factory: Attempting to register factory for plugin cuFFT when one has already been registered\n",
      "\u001b[2m\u001b[36m(pid=1059296)\u001b[0m 2023-11-11 08:21:06.184160: E tensorflow/compiler/xla/stream_executor/cuda/cuda_blas.cc:1518] Unable to register cuBLAS factory: Attempting to register factory for plugin cuBLAS when one has already been registered\n",
      "\u001b[2m\u001b[36m(TrainLightGCN pid=1059296)\u001b[0m /home/daviddavo/upm-tfm-notebooks/.direnv/python-3.9/lib/python3.9/site-packages/recommenders/models/deeprec/DataModel/ImplicitCF.py:73: FutureWarning: The frame.append method is deprecated and will be removed from pandas in a future version. Use pandas.concat instead.\n",
      "\u001b[2m\u001b[36m(TrainLightGCN pid=1059296)\u001b[0m   df = train if test is None else train.append(test)\n"
     ]
    },
    {
     "name": "stdout",
     "output_type": "stream",
     "text": [
      "\u001b[2m\u001b[36m(TrainLightGCN pid=1059296)\u001b[0m Already create adjacency matrix.\n",
      "\u001b[2m\u001b[36m(TrainLightGCN pid=1059296)\u001b[0m Using xavier initialization.\n",
      "\u001b[2m\u001b[36m(TrainLightGCN pid=1059296)\u001b[0m Already normalize adjacency matrix.\n"
     ]
    },
    {
     "name": "stderr",
     "output_type": "stream",
     "text": [
      "\u001b[2m\u001b[36m(TrainLightGCN pid=1059086)\u001b[0m Checkpoint successfully created at: Checkpoint(filesystem=local, path=/home/daviddavo/ray_results/TrainLightGCN_2023-11-10_20-19-58/TrainLightGCN_67e4d898_242_trial_index=1,batch_size=6,conv_layers=2,embedding_dim=155,l2=0.0000,learning_rate=0.0009_2023-11-11_08-18-47/checkpoint_000000)\n",
      "\u001b[2m\u001b[36m(pid=1059634)\u001b[0m 2023-11-11 08:23:13.302159: E tensorflow/compiler/xla/stream_executor/cuda/cuda_dnn.cc:9342] Unable to register cuDNN factory: Attempting to register factory for plugin cuDNN when one has already been registered\n",
      "\u001b[2m\u001b[36m(pid=1059634)\u001b[0m 2023-11-11 08:23:13.302276: E tensorflow/compiler/xla/stream_executor/cuda/cuda_fft.cc:609] Unable to register cuFFT factory: Attempting to register factory for plugin cuFFT when one has already been registered\n",
      "\u001b[2m\u001b[36m(pid=1059634)\u001b[0m 2023-11-11 08:23:13.302290: E tensorflow/compiler/xla/stream_executor/cuda/cuda_blas.cc:1518] Unable to register cuBLAS factory: Attempting to register factory for plugin cuBLAS when one has already been registered\n",
      "\u001b[2m\u001b[36m(TrainLightGCN pid=1059634)\u001b[0m /home/daviddavo/upm-tfm-notebooks/.direnv/python-3.9/lib/python3.9/site-packages/recommenders/models/deeprec/DataModel/ImplicitCF.py:73: FutureWarning: The frame.append method is deprecated and will be removed from pandas in a future version. Use pandas.concat instead.\n",
      "\u001b[2m\u001b[36m(TrainLightGCN pid=1059634)\u001b[0m   df = train if test is None else train.append(test)\n"
     ]
    },
    {
     "name": "stdout",
     "output_type": "stream",
     "text": [
      "\u001b[2m\u001b[36m(TrainLightGCN pid=1059634)\u001b[0m Already normalize adjacency matrix.\n",
      "\u001b[2m\u001b[36m(TrainLightGCN pid=1059634)\u001b[0m Already create adjacency matrix.\n",
      "\u001b[2m\u001b[36m(TrainLightGCN pid=1059634)\u001b[0m Using xavier initialization.\n"
     ]
    },
    {
     "name": "stderr",
     "output_type": "stream",
     "text": [
      "\u001b[2m\u001b[36m(TrainLightGCN pid=1059296)\u001b[0m Checkpoint successfully created at: Checkpoint(filesystem=local, path=/home/daviddavo/ray_results/TrainLightGCN_2023-11-10_20-19-58/TrainLightGCN_bd68824c_243_trial_index=2,batch_size=6,conv_layers=2,embedding_dim=155,l2=0.0000,learning_rate=0.0009_2023-11-11_08-20-25/checkpoint_000000)\n",
      "\u001b[2m\u001b[36m(pid=1060198)\u001b[0m 2023-11-11 08:27:44.264185: E tensorflow/compiler/xla/stream_executor/cuda/cuda_dnn.cc:9342] Unable to register cuDNN factory: Attempting to register factory for plugin cuDNN when one has already been registered\n",
      "\u001b[2m\u001b[36m(pid=1060198)\u001b[0m 2023-11-11 08:27:44.264225: E tensorflow/compiler/xla/stream_executor/cuda/cuda_fft.cc:609] Unable to register cuFFT factory: Attempting to register factory for plugin cuFFT when one has already been registered\n",
      "\u001b[2m\u001b[36m(pid=1060198)\u001b[0m 2023-11-11 08:27:44.264238: E tensorflow/compiler/xla/stream_executor/cuda/cuda_blas.cc:1518] Unable to register cuBLAS factory: Attempting to register factory for plugin cuBLAS when one has already been registered\n",
      "\u001b[2m\u001b[36m(TrainLightGCN pid=1060198)\u001b[0m /home/daviddavo/upm-tfm-notebooks/.direnv/python-3.9/lib/python3.9/site-packages/recommenders/models/deeprec/DataModel/ImplicitCF.py:73: FutureWarning: The frame.append method is deprecated and will be removed from pandas in a future version. Use pandas.concat instead.\n",
      "\u001b[2m\u001b[36m(TrainLightGCN pid=1060198)\u001b[0m   df = train if test is None else train.append(test)\n"
     ]
    },
    {
     "name": "stdout",
     "output_type": "stream",
     "text": [
      "\u001b[2m\u001b[36m(TrainLightGCN pid=1060198)\u001b[0m Already create adjacency matrix.\n",
      "\u001b[2m\u001b[36m(TrainLightGCN pid=1060198)\u001b[0m Using xavier initialization.\n",
      "\u001b[2m\u001b[36m(TrainLightGCN pid=1060198)\u001b[0m Already normalize adjacency matrix.\n"
     ]
    },
    {
     "name": "stderr",
     "output_type": "stream",
     "text": [
      "\u001b[2m\u001b[36m(TrainLightGCN pid=1056904)\u001b[0m Checkpoint successfully created at: Checkpoint(filesystem=local, path=/home/daviddavo/ray_results/TrainLightGCN_2023-11-10_20-19-58/TrainLightGCN_f28e0107_238_trial_index=7,batch_size=6,conv_layers=2,embedding_dim=235,l2=0.0000,learning_rate=0.0069_2023-11-11_08-01-49/checkpoint_000000)\n",
      "\u001b[2m\u001b[36m(pid=1060450)\u001b[0m 2023-11-11 08:28:52.321646: E tensorflow/compiler/xla/stream_executor/cuda/cuda_dnn.cc:9342] Unable to register cuDNN factory: Attempting to register factory for plugin cuDNN when one has already been registered\n",
      "\u001b[2m\u001b[36m(pid=1060450)\u001b[0m 2023-11-11 08:28:52.321766: E tensorflow/compiler/xla/stream_executor/cuda/cuda_fft.cc:609] Unable to register cuFFT factory: Attempting to register factory for plugin cuFFT when one has already been registered\n",
      "\u001b[2m\u001b[36m(pid=1060450)\u001b[0m 2023-11-11 08:28:52.321780: E tensorflow/compiler/xla/stream_executor/cuda/cuda_blas.cc:1518] Unable to register cuBLAS factory: Attempting to register factory for plugin cuBLAS when one has already been registered\n",
      "\u001b[2m\u001b[36m(TrainLightGCN pid=1060450)\u001b[0m /home/daviddavo/upm-tfm-notebooks/.direnv/python-3.9/lib/python3.9/site-packages/recommenders/models/deeprec/DataModel/ImplicitCF.py:73: FutureWarning: The frame.append method is deprecated and will be removed from pandas in a future version. Use pandas.concat instead.\n",
      "\u001b[2m\u001b[36m(TrainLightGCN pid=1060450)\u001b[0m   df = train if test is None else train.append(test)\n"
     ]
    },
    {
     "name": "stdout",
     "output_type": "stream",
     "text": [
      "\u001b[2m\u001b[36m(TrainLightGCN pid=1060450)\u001b[0m Already normalize adjacency matrix.\n",
      "\u001b[2m\u001b[36m(TrainLightGCN pid=1060450)\u001b[0m Already create adjacency matrix.\n",
      "\u001b[2m\u001b[36m(TrainLightGCN pid=1060450)\u001b[0m Using xavier initialization.\n"
     ]
    },
    {
     "name": "stderr",
     "output_type": "stream",
     "text": [
      "\u001b[2m\u001b[36m(TrainLightGCN pid=1059634)\u001b[0m Checkpoint successfully created at: Checkpoint(filesystem=local, path=/home/daviddavo/ray_results/TrainLightGCN_2023-11-10_20-19-58/TrainLightGCN_a4066f1f_244_trial_index=3,batch_size=6,conv_layers=2,embedding_dim=155,l2=0.0000,learning_rate=0.0009_2023-11-11_08-21-08/checkpoint_000000)\n",
      "\u001b[2m\u001b[36m(pid=1060997)\u001b[0m 2023-11-11 08:33:14.373306: E tensorflow/compiler/xla/stream_executor/cuda/cuda_dnn.cc:9342] Unable to register cuDNN factory: Attempting to register factory for plugin cuDNN when one has already been registered\n",
      "\u001b[2m\u001b[36m(pid=1060997)\u001b[0m 2023-11-11 08:33:14.373344: E tensorflow/compiler/xla/stream_executor/cuda/cuda_fft.cc:609] Unable to register cuFFT factory: Attempting to register factory for plugin cuFFT when one has already been registered\n",
      "\u001b[2m\u001b[36m(pid=1060997)\u001b[0m 2023-11-11 08:33:14.373356: E tensorflow/compiler/xla/stream_executor/cuda/cuda_blas.cc:1518] Unable to register cuBLAS factory: Attempting to register factory for plugin cuBLAS when one has already been registered\n",
      "\u001b[2m\u001b[36m(TrainLightGCN pid=1060997)\u001b[0m /home/daviddavo/upm-tfm-notebooks/.direnv/python-3.9/lib/python3.9/site-packages/recommenders/models/deeprec/DataModel/ImplicitCF.py:73: FutureWarning: The frame.append method is deprecated and will be removed from pandas in a future version. Use pandas.concat instead.\n",
      "\u001b[2m\u001b[36m(TrainLightGCN pid=1060997)\u001b[0m   df = train if test is None else train.append(test)\n"
     ]
    },
    {
     "name": "stdout",
     "output_type": "stream",
     "text": [
      "\u001b[2m\u001b[36m(TrainLightGCN pid=1060997)\u001b[0m Already create adjacency matrix.\n",
      "\u001b[2m\u001b[36m(TrainLightGCN pid=1060997)\u001b[0m Already normalize adjacency matrix.\n",
      "\u001b[2m\u001b[36m(TrainLightGCN pid=1060997)\u001b[0m Using xavier initialization.\n"
     ]
    },
    {
     "name": "stderr",
     "output_type": "stream",
     "text": [
      "\u001b[2m\u001b[36m(TrainLightGCN pid=1060198)\u001b[0m Checkpoint successfully created at: Checkpoint(filesystem=local, path=/home/daviddavo/ray_results/TrainLightGCN_2023-11-10_20-19-58/TrainLightGCN_cd9ce8f4_245_trial_index=4,batch_size=6,conv_layers=2,embedding_dim=155,l2=0.0000,learning_rate=0.0009_2023-11-11_08-23-15/checkpoint_000000)\n",
      "\u001b[2m\u001b[36m(pid=1061849)\u001b[0m 2023-11-11 08:40:02.486214: E tensorflow/compiler/xla/stream_executor/cuda/cuda_dnn.cc:9342] Unable to register cuDNN factory: Attempting to register factory for plugin cuDNN when one has already been registered\n",
      "\u001b[2m\u001b[36m(pid=1061849)\u001b[0m 2023-11-11 08:40:02.486248: E tensorflow/compiler/xla/stream_executor/cuda/cuda_fft.cc:609] Unable to register cuFFT factory: Attempting to register factory for plugin cuFFT when one has already been registered\n",
      "\u001b[2m\u001b[36m(pid=1061849)\u001b[0m 2023-11-11 08:40:02.486261: E tensorflow/compiler/xla/stream_executor/cuda/cuda_blas.cc:1518] Unable to register cuBLAS factory: Attempting to register factory for plugin cuBLAS when one has already been registered\n",
      "\u001b[2m\u001b[36m(TrainLightGCN pid=1061849)\u001b[0m /home/daviddavo/upm-tfm-notebooks/.direnv/python-3.9/lib/python3.9/site-packages/recommenders/models/deeprec/DataModel/ImplicitCF.py:73: FutureWarning: The frame.append method is deprecated and will be removed from pandas in a future version. Use pandas.concat instead.\n",
      "\u001b[2m\u001b[36m(TrainLightGCN pid=1061849)\u001b[0m   df = train if test is None else train.append(test)\n"
     ]
    },
    {
     "name": "stdout",
     "output_type": "stream",
     "text": [
      "\u001b[2m\u001b[36m(TrainLightGCN pid=1061849)\u001b[0m Already normalize adjacency matrix.\n",
      "\u001b[2m\u001b[36m(TrainLightGCN pid=1061849)\u001b[0m Using xavier initialization.\n",
      "\u001b[2m\u001b[36m(TrainLightGCN pid=1061849)\u001b[0m Already create adjacency matrix.\n"
     ]
    },
    {
     "name": "stderr",
     "output_type": "stream",
     "text": [
      "\u001b[2m\u001b[36m(TrainLightGCN pid=1053376)\u001b[0m Checkpoint successfully created at: Checkpoint(filesystem=local, path=/home/daviddavo/ray_results/TrainLightGCN_2023-11-10_20-19-58/TrainLightGCN_438ba577_229_trial_index=8,batch_size=5,conv_layers=2,embedding_dim=55,l2=0.0000,learning_rate=0.0013_2023-11-11_07-32-49/checkpoint_000000)\n",
      "\u001b[2m\u001b[36m(pid=1062265)\u001b[0m 2023-11-11 08:42:56.747144: E tensorflow/compiler/xla/stream_executor/cuda/cuda_dnn.cc:9342] Unable to register cuDNN factory: Attempting to register factory for plugin cuDNN when one has already been registered\n",
      "\u001b[2m\u001b[36m(pid=1062265)\u001b[0m 2023-11-11 08:42:56.747177: E tensorflow/compiler/xla/stream_executor/cuda/cuda_fft.cc:609] Unable to register cuFFT factory: Attempting to register factory for plugin cuFFT when one has already been registered\n",
      "\u001b[2m\u001b[36m(pid=1062265)\u001b[0m 2023-11-11 08:42:56.747190: E tensorflow/compiler/xla/stream_executor/cuda/cuda_blas.cc:1518] Unable to register cuBLAS factory: Attempting to register factory for plugin cuBLAS when one has already been registered\n",
      "\u001b[2m\u001b[36m(TrainLightGCN pid=1062265)\u001b[0m /home/daviddavo/upm-tfm-notebooks/.direnv/python-3.9/lib/python3.9/site-packages/recommenders/models/deeprec/DataModel/ImplicitCF.py:73: FutureWarning: The frame.append method is deprecated and will be removed from pandas in a future version. Use pandas.concat instead.\n",
      "\u001b[2m\u001b[36m(TrainLightGCN pid=1062265)\u001b[0m   df = train if test is None else train.append(test)\n"
     ]
    },
    {
     "name": "stdout",
     "output_type": "stream",
     "text": [
      "\u001b[2m\u001b[36m(TrainLightGCN pid=1062265)\u001b[0m Already create adjacency matrix.\n",
      "\u001b[2m\u001b[36m(TrainLightGCN pid=1062265)\u001b[0m Already normalize adjacency matrix.\n",
      "\u001b[2m\u001b[36m(TrainLightGCN pid=1062265)\u001b[0m Using xavier initialization.\n"
     ]
    },
    {
     "name": "stderr",
     "output_type": "stream",
     "text": [
      "\u001b[2m\u001b[36m(TrainLightGCN pid=1060450)\u001b[0m Checkpoint successfully created at: Checkpoint(filesystem=local, path=/home/daviddavo/ray_results/TrainLightGCN_2023-11-10_20-19-58/TrainLightGCN_fe1638bb_246_trial_index=5,batch_size=6,conv_layers=2,embedding_dim=155,l2=0.0000,learning_rate=0.0009_2023-11-11_08-27-46/checkpoint_000000)\n",
      "\u001b[2m\u001b[36m(pid=1062523)\u001b[0m 2023-11-11 08:44:11.471983: E tensorflow/compiler/xla/stream_executor/cuda/cuda_dnn.cc:9342] Unable to register cuDNN factory: Attempting to register factory for plugin cuDNN when one has already been registered\n",
      "\u001b[2m\u001b[36m(pid=1062523)\u001b[0m 2023-11-11 08:44:11.472019: E tensorflow/compiler/xla/stream_executor/cuda/cuda_fft.cc:609] Unable to register cuFFT factory: Attempting to register factory for plugin cuFFT when one has already been registered\n",
      "\u001b[2m\u001b[36m(pid=1062523)\u001b[0m 2023-11-11 08:44:11.472030: E tensorflow/compiler/xla/stream_executor/cuda/cuda_blas.cc:1518] Unable to register cuBLAS factory: Attempting to register factory for plugin cuBLAS when one has already been registered\n",
      "\u001b[2m\u001b[36m(TrainLightGCN pid=1062523)\u001b[0m /home/daviddavo/upm-tfm-notebooks/.direnv/python-3.9/lib/python3.9/site-packages/recommenders/models/deeprec/DataModel/ImplicitCF.py:73: FutureWarning: The frame.append method is deprecated and will be removed from pandas in a future version. Use pandas.concat instead.\n",
      "\u001b[2m\u001b[36m(TrainLightGCN pid=1062523)\u001b[0m   df = train if test is None else train.append(test)\n"
     ]
    },
    {
     "name": "stdout",
     "output_type": "stream",
     "text": [
      "\u001b[2m\u001b[36m(TrainLightGCN pid=1062523)\u001b[0m Already create adjacency matrix.\n",
      "\u001b[2m\u001b[36m(TrainLightGCN pid=1062523)\u001b[0m Already normalize adjacency matrix.\n",
      "\u001b[2m\u001b[36m(TrainLightGCN pid=1062523)\u001b[0m Using xavier initialization.\n"
     ]
    },
    {
     "name": "stderr",
     "output_type": "stream",
     "text": [
      "\u001b[2m\u001b[36m(TrainLightGCN pid=1058112)\u001b[0m Checkpoint successfully created at: Checkpoint(filesystem=local, path=/home/daviddavo/ray_results/TrainLightGCN_2023-11-10_20-19-58/TrainLightGCN_2d4a694a_239_trial_index=8,batch_size=6,conv_layers=2,embedding_dim=235,l2=0.0000,learning_rate=0.0069_2023-11-11_08-03-34/checkpoint_000000)\n",
      "\u001b[2m\u001b[36m(pid=1063501)\u001b[0m 2023-11-11 08:51:25.637576: E tensorflow/compiler/xla/stream_executor/cuda/cuda_dnn.cc:9342] Unable to register cuDNN factory: Attempting to register factory for plugin cuDNN when one has already been registered\n",
      "\u001b[2m\u001b[36m(pid=1063501)\u001b[0m 2023-11-11 08:51:25.637606: E tensorflow/compiler/xla/stream_executor/cuda/cuda_fft.cc:609] Unable to register cuFFT factory: Attempting to register factory for plugin cuFFT when one has already been registered\n",
      "\u001b[2m\u001b[36m(pid=1063501)\u001b[0m 2023-11-11 08:51:25.637618: E tensorflow/compiler/xla/stream_executor/cuda/cuda_blas.cc:1518] Unable to register cuBLAS factory: Attempting to register factory for plugin cuBLAS when one has already been registered\n",
      "\u001b[2m\u001b[36m(TrainLightGCN pid=1063501)\u001b[0m /home/daviddavo/upm-tfm-notebooks/.direnv/python-3.9/lib/python3.9/site-packages/recommenders/models/deeprec/DataModel/ImplicitCF.py:73: FutureWarning: The frame.append method is deprecated and will be removed from pandas in a future version. Use pandas.concat instead.\n",
      "\u001b[2m\u001b[36m(TrainLightGCN pid=1063501)\u001b[0m   df = train if test is None else train.append(test)\n"
     ]
    },
    {
     "name": "stdout",
     "output_type": "stream",
     "text": [
      "\u001b[2m\u001b[36m(TrainLightGCN pid=1063501)\u001b[0m Already create adjacency matrix.\n",
      "\u001b[2m\u001b[36m(TrainLightGCN pid=1063501)\u001b[0m Already normalize adjacency matrix.\n",
      "\u001b[2m\u001b[36m(TrainLightGCN pid=1063501)\u001b[0m Using xavier initialization.\n"
     ]
    },
    {
     "name": "stderr",
     "output_type": "stream",
     "text": [
      "\u001b[2m\u001b[36m(TrainLightGCN pid=1063501)\u001b[0m Checkpoint successfully created at: Checkpoint(filesystem=local, path=/home/daviddavo/ray_results/TrainLightGCN_2023-11-10_20-19-58/TrainLightGCN_c7f41307_251_trial_index=0,batch_size=6,conv_layers=2,embedding_dim=490,l2=0.0000,learning_rate=0.0014_2023-11-11_08-44-14/checkpoint_000000)\n",
      "\u001b[2m\u001b[36m(pid=1063793)\u001b[0m 2023-11-11 08:53:01.569296: E tensorflow/compiler/xla/stream_executor/cuda/cuda_dnn.cc:9342] Unable to register cuDNN factory: Attempting to register factory for plugin cuDNN when one has already been registered\n",
      "\u001b[2m\u001b[36m(pid=1063793)\u001b[0m 2023-11-11 08:53:01.569336: E tensorflow/compiler/xla/stream_executor/cuda/cuda_fft.cc:609] Unable to register cuFFT factory: Attempting to register factory for plugin cuFFT when one has already been registered\n",
      "\u001b[2m\u001b[36m(pid=1063793)\u001b[0m 2023-11-11 08:53:01.569351: E tensorflow/compiler/xla/stream_executor/cuda/cuda_blas.cc:1518] Unable to register cuBLAS factory: Attempting to register factory for plugin cuBLAS when one has already been registered\n",
      "\u001b[2m\u001b[36m(TrainLightGCN pid=1063793)\u001b[0m /home/daviddavo/upm-tfm-notebooks/.direnv/python-3.9/lib/python3.9/site-packages/recommenders/models/deeprec/DataModel/ImplicitCF.py:73: FutureWarning: The frame.append method is deprecated and will be removed from pandas in a future version. Use pandas.concat instead.\n",
      "\u001b[2m\u001b[36m(TrainLightGCN pid=1063793)\u001b[0m   df = train if test is None else train.append(test)\n"
     ]
    },
    {
     "name": "stdout",
     "output_type": "stream",
     "text": [
      "\u001b[2m\u001b[36m(TrainLightGCN pid=1063793)\u001b[0m Already normalize adjacency matrix.\n",
      "\u001b[2m\u001b[36m(TrainLightGCN pid=1063793)\u001b[0m Using xavier initialization.\n",
      "\u001b[2m\u001b[36m(TrainLightGCN pid=1063793)\u001b[0m Already create adjacency matrix.\n"
     ]
    },
    {
     "name": "stderr",
     "output_type": "stream",
     "text": [
      "\u001b[2m\u001b[36m(TrainLightGCN pid=1060997)\u001b[0m Checkpoint successfully created at: Checkpoint(filesystem=local, path=/home/daviddavo/ray_results/TrainLightGCN_2023-11-10_20-19-58/TrainLightGCN_f97751a8_247_trial_index=6,batch_size=6,conv_layers=2,embedding_dim=155,l2=0.0000,learning_rate=0.0009_2023-11-11_08-28-54/checkpoint_000000)\n",
      "\u001b[2m\u001b[36m(pid=1063955)\u001b[0m 2023-11-11 08:53:13.623532: E tensorflow/compiler/xla/stream_executor/cuda/cuda_dnn.cc:9342] Unable to register cuDNN factory: Attempting to register factory for plugin cuDNN when one has already been registered\n",
      "\u001b[2m\u001b[36m(pid=1063955)\u001b[0m 2023-11-11 08:53:13.623569: E tensorflow/compiler/xla/stream_executor/cuda/cuda_fft.cc:609] Unable to register cuFFT factory: Attempting to register factory for plugin cuFFT when one has already been registered\n",
      "\u001b[2m\u001b[36m(pid=1063955)\u001b[0m 2023-11-11 08:53:13.623582: E tensorflow/compiler/xla/stream_executor/cuda/cuda_blas.cc:1518] Unable to register cuBLAS factory: Attempting to register factory for plugin cuBLAS when one has already been registered\n",
      "\u001b[2m\u001b[36m(TrainLightGCN pid=1063955)\u001b[0m /home/daviddavo/upm-tfm-notebooks/.direnv/python-3.9/lib/python3.9/site-packages/recommenders/models/deeprec/DataModel/ImplicitCF.py:73: FutureWarning: The frame.append method is deprecated and will be removed from pandas in a future version. Use pandas.concat instead.\n",
      "\u001b[2m\u001b[36m(TrainLightGCN pid=1063955)\u001b[0m   df = train if test is None else train.append(test)\n"
     ]
    },
    {
     "name": "stdout",
     "output_type": "stream",
     "text": [
      "\u001b[2m\u001b[36m(TrainLightGCN pid=1063955)\u001b[0m Already create adjacency matrix.\n",
      "\u001b[2m\u001b[36m(TrainLightGCN pid=1063955)\u001b[0m Already normalize adjacency matrix.\n",
      "\u001b[2m\u001b[36m(TrainLightGCN pid=1063955)\u001b[0m Using xavier initialization.\n"
     ]
    },
    {
     "name": "stderr",
     "output_type": "stream",
     "text": [
      "\u001b[2m\u001b[36m(TrainLightGCN pid=1063793)\u001b[0m Checkpoint successfully created at: Checkpoint(filesystem=local, path=/home/daviddavo/ray_results/TrainLightGCN_2023-11-10_20-19-58/TrainLightGCN_8375f4ca_252_trial_index=1,batch_size=6,conv_layers=2,embedding_dim=490,l2=0.0000,learning_rate=0.0014_2023-11-11_08-51-27/checkpoint_000000)\n",
      "\u001b[2m\u001b[36m(pid=1064328)\u001b[0m 2023-11-11 08:55:54.652917: E tensorflow/compiler/xla/stream_executor/cuda/cuda_dnn.cc:9342] Unable to register cuDNN factory: Attempting to register factory for plugin cuDNN when one has already been registered\n",
      "\u001b[2m\u001b[36m(pid=1064328)\u001b[0m 2023-11-11 08:55:54.652952: E tensorflow/compiler/xla/stream_executor/cuda/cuda_fft.cc:609] Unable to register cuFFT factory: Attempting to register factory for plugin cuFFT when one has already been registered\n",
      "\u001b[2m\u001b[36m(pid=1064328)\u001b[0m 2023-11-11 08:55:54.652963: E tensorflow/compiler/xla/stream_executor/cuda/cuda_blas.cc:1518] Unable to register cuBLAS factory: Attempting to register factory for plugin cuBLAS when one has already been registered\n",
      "\u001b[2m\u001b[36m(TrainLightGCN pid=1064328)\u001b[0m /home/daviddavo/upm-tfm-notebooks/.direnv/python-3.9/lib/python3.9/site-packages/recommenders/models/deeprec/DataModel/ImplicitCF.py:73: FutureWarning: The frame.append method is deprecated and will be removed from pandas in a future version. Use pandas.concat instead.\n",
      "\u001b[2m\u001b[36m(TrainLightGCN pid=1064328)\u001b[0m   df = train if test is None else train.append(test)\n"
     ]
    },
    {
     "name": "stdout",
     "output_type": "stream",
     "text": [
      "\u001b[2m\u001b[36m(TrainLightGCN pid=1064328)\u001b[0m Already normalize adjacency matrix.\n",
      "\u001b[2m\u001b[36m(TrainLightGCN pid=1064328)\u001b[0m Using xavier initialization.\n",
      "\u001b[2m\u001b[36m(TrainLightGCN pid=1064328)\u001b[0m Already create adjacency matrix.\n"
     ]
    }
   ],
   "source": [
    "tuner.fit()"
   ]
  },
  {
   "cell_type": "code",
   "execution_count": null,
   "id": "2eb78823-fa7b-4857-8187-1a2e94e20012",
   "metadata": {},
   "outputs": [],
   "source": []
  }
 ],
 "metadata": {
  "kernelspec": {
   "display_name": "Python 3 (ipykernel)",
   "language": "python",
   "name": "python3"
  },
  "language_info": {
   "codemirror_mode": {
    "name": "ipython",
    "version": 3
   },
   "file_extension": ".py",
   "mimetype": "text/x-python",
   "name": "python",
   "nbconvert_exporter": "python",
   "pygments_lexer": "ipython3",
   "version": "3.9.18"
  },
  "widgets": {
   "application/vnd.jupyter.widget-state+json": {
    "state": {},
    "version_major": 2,
    "version_minor": 0
   }
  }
 },
 "nbformat": 4,
 "nbformat_minor": 5
}
