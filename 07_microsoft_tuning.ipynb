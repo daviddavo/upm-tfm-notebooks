{
 "cells": [
  {
   "cell_type": "code",
   "execution_count": 1,
   "id": "cf98a9e1-f3e0-4c0a-96c1-30f305901246",
   "metadata": {},
   "outputs": [
    {
     "name": "stdout",
     "output_type": "stream",
     "text": [
      "Python version 3.9.18 (main, Oct 24 2023, 09:18:18) \n",
      "[GCC 11.4.0]\n"
     ]
    },
    {
     "name": "stderr",
     "output_type": "stream",
     "text": [
      "2023-11-27 11:31:32.724675: E tensorflow/compiler/xla/stream_executor/cuda/cuda_dnn.cc:9342] Unable to register cuDNN factory: Attempting to register factory for plugin cuDNN when one has already been registered\n",
      "2023-11-27 11:31:32.724699: E tensorflow/compiler/xla/stream_executor/cuda/cuda_fft.cc:609] Unable to register cuFFT factory: Attempting to register factory for plugin cuFFT when one has already been registered\n",
      "2023-11-27 11:31:32.724709: E tensorflow/compiler/xla/stream_executor/cuda/cuda_blas.cc:1518] Unable to register cuBLAS factory: Attempting to register factory for plugin cuBLAS when one has already been registered\n"
     ]
    },
    {
     "name": "stdout",
     "output_type": "stream",
     "text": [
      "11.8 8\n",
      "Ray version: 2.7.1\n"
     ]
    }
   ],
   "source": [
    "from typing import Dict, List, Tuple, Union, Any, Optional\n",
    "\n",
    "import os\n",
    "import sys\n",
    "import time\n",
    "print(\"Python version\", sys.version)\n",
    "\n",
    "# Ignore pandas warnings\n",
    "import warnings\n",
    "warnings.simplefilter(action='ignore', category=FutureWarning)\n",
    "\n",
    "from pathlib import Path\n",
    "\n",
    "import pandas as pd\n",
    "import numpy as np\n",
    "import tensorflow as tf\n",
    "\n",
    "from tqdm.autonotebook import tqdm\n",
    "\n",
    "import ray\n",
    "from ray import train, tune\n",
    "\n",
    "from src.datasets import daocensus\n",
    "\n",
    "%load_ext autoreload\n",
    "%autoreload 2\n",
    "\n",
    "tf.get_logger().setLevel('WARNING')\n",
    "\n",
    "tf.config.list_physical_devices(\"GPU\")\n",
    "sys_details = tf.sysconfig.get_build_info()\n",
    "cuda = sys_details.get(\"cuda_version\", -1)\n",
    "cudnn = sys_details.get(\"cudnn_version\", -1)\n",
    "print(cuda, cudnn)\n",
    "print('Ray version:', ray.__version__)"
   ]
  },
  {
   "cell_type": "code",
   "execution_count": 2,
   "id": "798161a7-5414-4626-9dfb-6d71823bf4c7",
   "metadata": {},
   "outputs": [],
   "source": [
    "# Others config\n",
    "SEED: int = 57\n",
    "RAY_RESULTS_PATH: Path = Path('~/ray_results').expanduser()\n",
    "\n",
    "# Dataset config\n",
    "DAO_NAME = 'Decentraland'\n",
    "\n",
    "# Dataset splits config\n",
    "SPLIT_FREQ = '1W' # Split weekly\n",
    "LAST_SPLITS = 10 # Use just last 10 splits\n",
    "\n",
    "# Training config\n",
    "MAX_EPOCHS: int = 200\n",
    "EPOCHS_PER_ITER: int = 5\n",
    "SAMPLES_PER_SPLIT: int = 10\n",
    "\n",
    "# Eval config\n",
    "TOP_K: List[int] = [5, 10]\n",
    "METRICS: List[str] = [\"recall\", \"ndcg\", \"precision\", \"map\"]"
   ]
  },
  {
   "cell_type": "markdown",
   "id": "ab0ff2f2-bdaa-46eb-87d1-c4481734b8c0",
   "metadata": {},
   "source": [
    "# Load data"
   ]
  },
  {
   "cell_type": "code",
   "execution_count": 3,
   "id": "765a4892-6a85-40ab-a65d-c0d76b0569b2",
   "metadata": {},
   "outputs": [
    {
     "name": "stdout",
     "output_type": "stream",
     "text": [
      "<class 'pandas.core.frame.DataFrame'>\n",
      "RangeIndex: 116560 entries, 0 to 116559\n",
      "Data columns (total 10 columns):\n",
      " #   Column         Non-Null Count   Dtype         \n",
      "---  ------         --------------   -----         \n",
      " 0   platform       116560 non-null  object        \n",
      " 1   name           116560 non-null  object        \n",
      " 2   id             116560 non-null  object        \n",
      " 3   proposal       116560 non-null  category      \n",
      " 4   deployment     116560 non-null  object        \n",
      " 5   platform_vote  116560 non-null  object        \n",
      " 6   voter          116560 non-null  object        \n",
      " 7   date           116560 non-null  datetime64[ns]\n",
      " 8   choice         116560 non-null  object        \n",
      " 9   weight         116560 non-null  float64       \n",
      "dtypes: category(1), datetime64[ns](1), float64(1), object(7)\n",
      "memory usage: 8.3+ MB\n",
      "None\n",
      "<class 'pandas.core.frame.DataFrame'>\n",
      "Int64Index: 1942 entries, 0 to 1941\n",
      "Data columns (total 14 columns):\n",
      " #   Column               Non-Null Count  Dtype         \n",
      "---  ------               --------------  -----         \n",
      " 0   platform             1942 non-null   object        \n",
      " 1   name                 1942 non-null   object        \n",
      " 2   platform_deployment  1942 non-null   object        \n",
      " 3   id                   1942 non-null   category      \n",
      " 4   deployment           1942 non-null   object        \n",
      " 5   platform_proposal    1942 non-null   object        \n",
      " 6   author               1942 non-null   category      \n",
      " 7   date                 1942 non-null   datetime64[ns]\n",
      " 8   votes_count          1942 non-null   int64         \n",
      " 9   proposal_id          1942 non-null   object        \n",
      " 10  title                1942 non-null   object        \n",
      " 11  description          1942 non-null   object        \n",
      " 12  start                1942 non-null   datetime64[ns]\n",
      " 13  end                  1942 non-null   datetime64[ns]\n",
      "dtypes: category(2), datetime64[ns](3), int64(1), object(8)\n",
      "memory usage: 599.4+ KB\n",
      "None\n"
     ]
    }
   ],
   "source": [
    "dfptext = pd.read_csv('./snapshot_proposals.csv')[['proposal_id', 'title', 'description', 'start', 'end']]\n",
    "dfv, dfp = daocensus.get(\"./data/daos-census\", DAO_NAME, 'snapshot')\n",
    "dfv['voter'] = dfv['voter'].astype('str')\n",
    "dfp = dfp.merge(dfptext, how='left', left_on='platform_proposal', right_on='proposal_id')\n",
    "dfp[['start', 'end']] = dfp[['start', 'end']].astype('datetime64')\n",
    "print(dfv.info())\n",
    "print(dfp.info())"
   ]
  },
  {
   "cell_type": "markdown",
   "id": "df339c08-4f99-4933-886c-6ab774f09e63",
   "metadata": {},
   "source": [
    "## Transform data"
   ]
  },
  {
   "cell_type": "code",
   "execution_count": 4,
   "id": "4b003927-cfab-4f9a-91f8-1376f038f82e",
   "metadata": {},
   "outputs": [
    {
     "data": {
      "text/html": [
       "<div>\n",
       "<style scoped>\n",
       "    .dataframe tbody tr th:only-of-type {\n",
       "        vertical-align: middle;\n",
       "    }\n",
       "\n",
       "    .dataframe tbody tr th {\n",
       "        vertical-align: top;\n",
       "    }\n",
       "\n",
       "    .dataframe thead th {\n",
       "        text-align: right;\n",
       "    }\n",
       "</style>\n",
       "<table border=\"1\" class=\"dataframe\">\n",
       "  <thead>\n",
       "    <tr style=\"text-align: right;\">\n",
       "      <th></th>\n",
       "      <th>userID</th>\n",
       "      <th>itemID</th>\n",
       "      <th>timestamp</th>\n",
       "      <th>rating</th>\n",
       "    </tr>\n",
       "  </thead>\n",
       "  <tbody>\n",
       "    <tr>\n",
       "      <th>0</th>\n",
       "      <td>0xe7af1c70f8f089c4c3bd71999692c6c5a15d9e2a</td>\n",
       "      <td>b86aa059-3d31-5d41-a472-70962816f779</td>\n",
       "      <td>2021-12-17 12:28:01</td>\n",
       "      <td>1</td>\n",
       "    </tr>\n",
       "    <tr>\n",
       "      <th>1</th>\n",
       "      <td>0xc54a6c3778016b06cbd126ccc3b5bc06c5f666fb</td>\n",
       "      <td>b86aa059-3d31-5d41-a472-70962816f779</td>\n",
       "      <td>2021-12-17 02:16:23</td>\n",
       "      <td>1</td>\n",
       "    </tr>\n",
       "    <tr>\n",
       "      <th>2</th>\n",
       "      <td>0xd82d005e8f8d5385db40ba23884a5c967bb1e8af</td>\n",
       "      <td>b86aa059-3d31-5d41-a472-70962816f779</td>\n",
       "      <td>2021-12-17 00:38:22</td>\n",
       "      <td>1</td>\n",
       "    </tr>\n",
       "    <tr>\n",
       "      <th>3</th>\n",
       "      <td>0xf4c64db66ffb301985f5ecd85c8f3f9c02f2659d</td>\n",
       "      <td>b86aa059-3d31-5d41-a472-70962816f779</td>\n",
       "      <td>2021-12-16 18:47:08</td>\n",
       "      <td>1</td>\n",
       "    </tr>\n",
       "    <tr>\n",
       "      <th>4</th>\n",
       "      <td>0xd5e9ef1cedad0d135d543d286a2c190b16cbb89e</td>\n",
       "      <td>b86aa059-3d31-5d41-a472-70962816f779</td>\n",
       "      <td>2021-12-16 18:32:15</td>\n",
       "      <td>1</td>\n",
       "    </tr>\n",
       "  </tbody>\n",
       "</table>\n",
       "</div>"
      ],
      "text/plain": [
       "                                       userID  \\\n",
       "0  0xe7af1c70f8f089c4c3bd71999692c6c5a15d9e2a   \n",
       "1  0xc54a6c3778016b06cbd126ccc3b5bc06c5f666fb   \n",
       "2  0xd82d005e8f8d5385db40ba23884a5c967bb1e8af   \n",
       "3  0xf4c64db66ffb301985f5ecd85c8f3f9c02f2659d   \n",
       "4  0xd5e9ef1cedad0d135d543d286a2c190b16cbb89e   \n",
       "\n",
       "                                 itemID           timestamp  rating  \n",
       "0  b86aa059-3d31-5d41-a472-70962816f779 2021-12-17 12:28:01       1  \n",
       "1  b86aa059-3d31-5d41-a472-70962816f779 2021-12-17 02:16:23       1  \n",
       "2  b86aa059-3d31-5d41-a472-70962816f779 2021-12-17 00:38:22       1  \n",
       "3  b86aa059-3d31-5d41-a472-70962816f779 2021-12-16 18:47:08       1  \n",
       "4  b86aa059-3d31-5d41-a472-70962816f779 2021-12-16 18:32:15       1  "
      ]
     },
     "execution_count": 4,
     "metadata": {},
     "output_type": "execute_result"
    }
   ],
   "source": [
    "def to_microsoft(dfv):\n",
    "    df = dfv[['voter', 'proposal', 'date']].rename(columns={\n",
    "        'voter': 'userID',\n",
    "        'proposal': 'itemID',\n",
    "        'date': 'timestamp',\n",
    "    })\n",
    "    df['itemID'] = df['itemID'].astype('str')\n",
    "    df['rating'] = 1\n",
    "    return df\n",
    "\n",
    "df = to_microsoft(dfv)\n",
    "df.head()"
   ]
  },
  {
   "cell_type": "markdown",
   "id": "8faab8dc-8192-47b5-96df-7458bd890ffb",
   "metadata": {},
   "source": [
    "# Split data\n",
    "\n",
    "Each proposal remains open for a few days, our environment is different of a movies recommender system. For this reason, we will use a TimeSeriesSplit instead of a K-Fold to cross-validate the model.\n",
    "\n",
    "![](https://scikit-learn.org/stable/_images/sphx_glr_plot_cv_indices_013.png)\n",
    "\n",
    "El TimeSeriesSplit de scikit-learn no nos vale porque el número de elementos en cada split es el mismo, pero el tamaño del intervalo, no. Como queremos simular un comportamiento realista, haremos el split dividiendo por intervalos de igual longitud."
   ]
  },
  {
   "cell_type": "code",
   "execution_count": 5,
   "id": "3f661ac7-df23-49ad-9671-cfa65d4b44d6",
   "metadata": {},
   "outputs": [],
   "source": [
    "from recommenders.evaluation.python_evaluation import metrics as metrics_dict"
   ]
  },
  {
   "cell_type": "code",
   "execution_count": 6,
   "id": "445d9909-609a-4cf3-8e24-6fa36946a375",
   "metadata": {},
   "outputs": [
    {
     "name": "stdout",
     "output_type": "stream",
     "text": [
      "Split 0, train from: 2021-05-24 to 2021-08-04, test from: 2021-08-04 to 2021-08-10\n",
      "  t: 2021-08-04 00:57:07\n",
      "  len(train): 3453, len(test): 48\n",
      "  users(train): 581, users(test): 27\n",
      "\n",
      "  highest possible recall@5:\t0.9894\n",
      "  highest possible ndcg@5:\t1.0000\n",
      "  highest possible precision@5:\t0.3407\n",
      "  highest possible map@5:\t0.9894\n",
      "------------------------------\n",
      "Split 1, train from: 2021-05-24 to 2021-10-14, test from: 2021-10-15 to 2021-10-19\n",
      "  t: 2021-10-14 16:08:30\n",
      "  len(train): 6397, len(test): 132\n",
      "  users(train): 930, users(test): 121\n",
      "\n",
      "  highest possible recall@5:\t0.9976\n",
      "  highest possible ndcg@5:\t1.0000\n",
      "  highest possible precision@5:\t0.2149\n",
      "  highest possible map@5:\t0.9976\n",
      "------------------------------\n",
      "Split 2, train from: 2021-05-24 to 2021-12-25, test from: 2021-12-25 to 2021-12-31\n",
      "  t: 2021-12-25 02:40:07\n",
      "  len(train): 15187, len(test): 99\n",
      "  users(train): 2388, users(test): 47\n",
      "\n",
      "  highest possible recall@5:\t0.9721\n",
      "  highest possible ndcg@5:\t1.0000\n",
      "  highest possible precision@5:\t0.3660\n",
      "  highest possible map@5:\t0.9721\n",
      "------------------------------\n",
      "Split 3, train from: 2021-05-24 to 2022-03-06, test from: 2022-03-06 to 2022-03-16\n",
      "  t: 2022-03-06 19:14:35\n",
      "  len(train): 23389, len(test): 157\n",
      "  users(train): 3227, users(test): 79\n",
      "\n",
      "  highest possible recall@5:\t0.9859\n",
      "  highest possible ndcg@5:\t1.0000\n",
      "  highest possible precision@5:\t0.3722\n",
      "  highest possible map@5:\t0.9859\n",
      "------------------------------\n",
      "Split 4, train from: 2021-05-24 to 2022-05-17, test from: 2022-05-17 to 2022-05-30\n",
      "  t: 2022-05-17 08:44:54\n",
      "  len(train): 28957, len(test): 283\n",
      "  users(train): 3714, users(test): 103\n",
      "\n",
      "  highest possible recall@5:\t0.9470\n",
      "  highest possible ndcg@5:\t1.0000\n",
      "  highest possible precision@5:\t0.3592\n",
      "  highest possible map@5:\t0.9470\n",
      "------------------------------\n",
      "Split 5, train from: 2021-05-24 to 2022-07-27, test from: 2022-07-27 to 2022-08-10\n",
      "  t: 2022-07-27 20:58:07\n",
      "  len(train): 35766, len(test): 219\n",
      "  users(train): 4257, users(test): 103\n",
      "\n",
      "  highest possible recall@5:\t0.9715\n",
      "  highest possible ndcg@5:\t1.0000\n",
      "  highest possible precision@5:\t0.3767\n",
      "  highest possible map@5:\t0.9715\n",
      "------------------------------\n",
      "Split 6, train from: 2021-05-24 to 2022-10-07, test from: 2022-10-07 to 2022-10-19\n",
      "  t: 2022-10-07 11:03:04\n",
      "  len(train): 45343, len(test): 252\n",
      "  users(train): 4710, users(test): 88\n",
      "\n",
      "  highest possible recall@5:\t0.9547\n",
      "  highest possible ndcg@5:\t1.0000\n",
      "  highest possible precision@5:\t0.4932\n",
      "  highest possible map@5:\t0.9547\n",
      "------------------------------\n",
      "Split 7, train from: 2021-05-24 to 2022-12-17, test from: 2022-12-18 to 2022-12-30\n",
      "  t: 2022-12-17 23:43:43\n",
      "  len(train): 58917, len(test): 566\n",
      "  users(train): 5265, users(test): 172\n",
      "\n",
      "  highest possible recall@5:\t0.9235\n",
      "  highest possible ndcg@5:\t1.0000\n",
      "  highest possible precision@5:\t0.4977\n",
      "  highest possible map@5:\t0.9235\n",
      "------------------------------\n",
      "Split 8, train from: 2021-05-24 to 2023-02-27, test from: 2023-02-27 to 2023-03-12\n",
      "  t: 2023-02-27 12:25:31\n",
      "  len(train): 84884, len(test): 161\n",
      "  users(train): 6406, users(test): 120\n",
      "\n",
      "  highest possible recall@5:\t1.0000\n",
      "  highest possible ndcg@5:\t1.0000\n",
      "  highest possible precision@5:\t0.2683\n",
      "  highest possible map@5:\t1.0000\n",
      "------------------------------\n",
      "Split 9, train from: 2021-05-24 to 2023-05-10, test from: 2023-05-10 to 2023-05-22\n",
      "  t: 2023-05-10 01:45:19\n",
      "  len(train): 105988, len(test): 341\n",
      "  users(train): 6857, users(test): 125\n",
      "\n",
      "  highest possible recall@5:\t0.9616\n",
      "  highest possible ndcg@5:\t1.0000\n",
      "  highest possible precision@5:\t0.4720\n",
      "  highest possible map@5:\t0.9616\n",
      "------------------------------\n"
     ]
    }
   ],
   "source": [
    "from src.model_selection import timeFreqSplitCurrent, timeIntervalSplitCurrent\n",
    "\n",
    "# max_train_prev = df['timestamp'].min().date()\n",
    "N_SPLITS = 10; SKIP_SPLIT = 0\n",
    "folds = list(timeIntervalSplitCurrent(df, N_SPLITS, dfp, skip=SKIP_SPLIT, remove_not_in_train_col='userID', return_open=True))\n",
    "# folds = list(timeFreqSplitCurrent(df, SPLIT_FREQ, dfp, return_open=True, remove_not_in_train_col='userID'))[-LAST_SPLITS:]\n",
    "for i, (dftrain, dftest, t, open_proposals) in enumerate(folds):\n",
    "    min_train = dftrain['timestamp'].min().date()\n",
    "    max_train = dftrain['timestamp'].max().date()\n",
    "    min_test  = dftest['timestamp'].min().date()\n",
    "    max_test  = dftest['timestamp'].max().date()\n",
    "\n",
    "    train_users = len(set(dftrain['userID']))\n",
    "    test_users = len(set(dftest['userID']))\n",
    "    \n",
    "    print(f\"Split {i}, train from: {min_train} to {max_train}, test from: {min_test} to {max_test}\")\n",
    "    print(f\"  t: {t}\")\n",
    "    print(f\"  len(train): {len(dftrain)}, len(test): {len(dftest)}\")\n",
    "    print(f\"  users(train): {train_users}, users(test): {test_users}\")\n",
    "\n",
    "    print()\n",
    "    dftest['prediction'] = 1\n",
    "    for m in METRICS:\n",
    "        f = metrics_dict[f'{m}_at_k']\n",
    "        print(f\"  highest possible {m}@{TOP_K[0]}:\\t{f(dftest, dftest, k=TOP_K[0], relevancy_method='top_k'):.4f}\")\n",
    "\n",
    "    print(\"-\"*30)"
   ]
  },
  {
   "cell_type": "markdown",
   "id": "5c881c43-d308-40ff-b6b4-d54458e1bc32",
   "metadata": {},
   "source": [
    "# Defining training"
   ]
  },
  {
   "cell_type": "code",
   "execution_count": 7,
   "id": "9a502e2d-3398-405f-9029-d3abc69033dc",
   "metadata": {},
   "outputs": [],
   "source": [
    "from recommenders.models.deeprec.models.graphrec.lightgcn import LightGCN\n",
    "from recommenders.utils.python_utils import get_top_k_scored_items\n",
    "\n",
    "class LightGCNCustom(LightGCN):\n",
    "    # Copied from LightGCN.fit but RETURNING the data and deleting unnecessary things\n",
    "    def __init__(self, *args, **kwargs):\n",
    "        super().__init__(*args, **kwargs)\n",
    "        self.epochs_done = 0\n",
    "    \n",
    "    def fit_epoch(self):\n",
    "        \"\"\"Fit the model on self.data.train.\n",
    "        \"\"\"\n",
    "        loss, mf_loss, emb_loss = 0.0, 0.0, 0.0\n",
    "        n_batch = self.data.train.shape[0] // self.batch_size + 1\n",
    "        for idx in range(n_batch):\n",
    "            users, pos_items, neg_items = self.data.train_loader(self.batch_size)\n",
    "            _, batch_loss, batch_mf_loss, batch_emb_loss = self.sess.run(\n",
    "                [self.opt, self.loss, self.mf_loss, self.emb_loss],\n",
    "                feed_dict={\n",
    "                    self.users: users,\n",
    "                    self.pos_items: pos_items,\n",
    "                    self.neg_items: neg_items,\n",
    "                },\n",
    "            )\n",
    "            loss += batch_loss / n_batch\n",
    "            mf_loss += batch_mf_loss / n_batch\n",
    "            emb_loss += batch_emb_loss / n_batch\n",
    "\n",
    "        if np.isnan(loss):\n",
    "            print(\"ERROR: loss is nan.\")\n",
    "            sys.exit()\n",
    "\n",
    "        self.epochs_done += 1\n",
    "\n",
    "        return loss, mf_loss, emb_loss\n",
    "\n",
    "    def recommend_k_items(\n",
    "        self, test, top_k=10, sort_top_k=True, remove_seen=True, use_id=False, recommend_from=None,\n",
    "    ):\n",
    "        \"\"\"\n",
    "        Copy-pasted from LightGCN but adding the `recommend_from` argument\n",
    "        \"\"\"\n",
    "        data = self.data\n",
    "        if not use_id:\n",
    "            user_ids = np.array([data.user2id[x] for x in test[data.col_user].unique()])\n",
    "        else:\n",
    "            user_ids = np.array(test[data.col_user].unique())\n",
    "\n",
    "        test_scores = self.score(user_ids, remove_seen=remove_seen)\n",
    "\n",
    "        ### START NEW BEHAVIOUR\n",
    "        if recommend_from is not None:\n",
    "            from_idx = np.array([data.item2id[x] for x in set(recommend_from)])\n",
    "            msk = np.ones(test_scores.shape[1], bool)\n",
    "            msk[from_idx] = False\n",
    "\n",
    "            # Set the score of that proposal to zero for every user\n",
    "            test_scores[:, msk] = -np.inf\n",
    "        ### END NEW BEHAVIOUR\n",
    "\n",
    "        top_items, top_scores = get_top_k_scored_items(\n",
    "            scores=test_scores, top_k=top_k, sort_top_k=sort_top_k\n",
    "        )\n",
    "\n",
    "        df = pd.DataFrame(\n",
    "            {\n",
    "                data.col_user: np.repeat(\n",
    "                    test[data.col_user].drop_duplicates().values, top_items.shape[1]\n",
    "                ),\n",
    "                data.col_item: top_items.flatten()\n",
    "                if use_id\n",
    "                else [data.id2item[item] for item in top_items.flatten()],\n",
    "                data.col_prediction: top_scores.flatten(),\n",
    "            }\n",
    "        )\n",
    "\n",
    "        return df.replace(-np.inf, np.nan).dropna()"
   ]
  },
  {
   "cell_type": "markdown",
   "id": "923adb82-9733-4e21-a378-7263c5532353",
   "metadata": {},
   "source": [
    "## Small test of `LightGCNCustom`"
   ]
  },
  {
   "cell_type": "code",
   "execution_count": 8,
   "id": "41d1cf90-bd11-4a87-b0aa-bf0e25d559af",
   "metadata": {},
   "outputs": [],
   "source": [
    "from recommenders.models.deeprec.DataModel.ImplicitCF import ImplicitCF\n",
    "from recommenders.models.deeprec.deeprec_utils import prepare_hparams"
   ]
  },
  {
   "cell_type": "code",
   "execution_count": 9,
   "id": "0e57c58e-3091-4357-969a-c7bafedd29c1",
   "metadata": {},
   "outputs": [
    {
     "name": "stdout",
     "output_type": "stream",
     "text": [
      "items: 1836 user: 6857\n",
      "Already create adjacency matrix.\n",
      "Already normalize adjacency matrix.\n",
      "Using xavier initialization.\n"
     ]
    }
   ],
   "source": [
    "hparams = prepare_hparams(\n",
    "    model_type='lightgcn',\n",
    "    n_layers=3,\n",
    "    batch_size=512,\n",
    "    embed_size=64,\n",
    "    epochs=2,\n",
    "    learning_rate=0.001,\n",
    "    decay=0.001,\n",
    "    metrics=[\"recall\", \"ndcg\", \"precision\", \"map\"],\n",
    "    eval_epoch=2,\n",
    "    top_k=TOP_K[0],\n",
    "    save_model=False,\n",
    "    MODEL_DIR='./data/model/lightgcn/',\n",
    ")\n",
    "dataloader = ImplicitCF(train=folds[-1][0], test=folds[-1][1], seed=SEED)\n",
    "print(\"items:\", dataloader.n_items, \"user:\", dataloader.n_users)\n",
    "model = LightGCNCustom(data=dataloader, hparams=hparams)"
   ]
  },
  {
   "cell_type": "code",
   "execution_count": 10,
   "id": "3fe49e83-f291-4383-97c2-167a706ae717",
   "metadata": {},
   "outputs": [
    {
     "name": "stdout",
     "output_type": "stream",
     "text": [
      "Epoch 1 (train)0.7s: train loss = 0.59989 = (mf)0.59914 + (embed)0.00075\n",
      "Epoch 2 (train)0.5s + (eval)0.5s: train loss = 0.35067 = (mf)0.34676 + (embed)0.00391, recall = 0.00400, ndcg = 0.00394, precision = 0.00320, map = 0.00200\n"
     ]
    }
   ],
   "source": [
    "model.fit()"
   ]
  },
  {
   "cell_type": "code",
   "execution_count": 11,
   "id": "a12ab695-94f8-431e-8a7f-03bf17f2fa1e",
   "metadata": {},
   "outputs": [
    {
     "data": {
      "text/plain": [
       "[0.004, 0.00394083821985168, 0.0032, 0.002]"
      ]
     },
     "execution_count": 11,
     "metadata": {},
     "output_type": "execute_result"
    }
   ],
   "source": [
    "model.run_eval()"
   ]
  },
  {
   "cell_type": "code",
   "execution_count": 12,
   "id": "2b131c2d-6df2-4292-8f12-caaf409562ab",
   "metadata": {},
   "outputs": [
    {
     "data": {
      "text/html": [
       "<div>\n",
       "<style scoped>\n",
       "    .dataframe tbody tr th:only-of-type {\n",
       "        vertical-align: middle;\n",
       "    }\n",
       "\n",
       "    .dataframe tbody tr th {\n",
       "        vertical-align: top;\n",
       "    }\n",
       "\n",
       "    .dataframe thead th {\n",
       "        text-align: right;\n",
       "    }\n",
       "</style>\n",
       "<table border=\"1\" class=\"dataframe\">\n",
       "  <thead>\n",
       "    <tr style=\"text-align: right;\">\n",
       "      <th></th>\n",
       "      <th>userID</th>\n",
       "      <th>itemID</th>\n",
       "      <th>prediction</th>\n",
       "    </tr>\n",
       "  </thead>\n",
       "  <tbody>\n",
       "    <tr>\n",
       "      <th>0</th>\n",
       "      <td>293</td>\n",
       "      <td>1175</td>\n",
       "      <td>6.576969</td>\n",
       "    </tr>\n",
       "    <tr>\n",
       "      <th>1</th>\n",
       "      <td>293</td>\n",
       "      <td>1835</td>\n",
       "      <td>1.817568</td>\n",
       "    </tr>\n",
       "    <tr>\n",
       "      <th>2</th>\n",
       "      <td>293</td>\n",
       "      <td>0</td>\n",
       "      <td>-4.204648</td>\n",
       "    </tr>\n",
       "    <tr>\n",
       "      <th>3</th>\n",
       "      <td>466</td>\n",
       "      <td>1835</td>\n",
       "      <td>1.430669</td>\n",
       "    </tr>\n",
       "    <tr>\n",
       "      <th>4</th>\n",
       "      <td>466</td>\n",
       "      <td>0</td>\n",
       "      <td>-0.766504</td>\n",
       "    </tr>\n",
       "    <tr>\n",
       "      <th>...</th>\n",
       "      <td>...</td>\n",
       "      <td>...</td>\n",
       "      <td>...</td>\n",
       "    </tr>\n",
       "    <tr>\n",
       "      <th>369</th>\n",
       "      <td>245</td>\n",
       "      <td>1835</td>\n",
       "      <td>1.773020</td>\n",
       "    </tr>\n",
       "    <tr>\n",
       "      <th>370</th>\n",
       "      <td>245</td>\n",
       "      <td>0</td>\n",
       "      <td>-5.174218</td>\n",
       "    </tr>\n",
       "    <tr>\n",
       "      <th>372</th>\n",
       "      <td>578</td>\n",
       "      <td>1175</td>\n",
       "      <td>3.910652</td>\n",
       "    </tr>\n",
       "    <tr>\n",
       "      <th>373</th>\n",
       "      <td>578</td>\n",
       "      <td>1835</td>\n",
       "      <td>0.921735</td>\n",
       "    </tr>\n",
       "    <tr>\n",
       "      <th>374</th>\n",
       "      <td>578</td>\n",
       "      <td>0</td>\n",
       "      <td>-3.000608</td>\n",
       "    </tr>\n",
       "  </tbody>\n",
       "</table>\n",
       "<p>303 rows × 3 columns</p>\n",
       "</div>"
      ],
      "text/plain": [
       "     userID  itemID  prediction\n",
       "0       293    1175    6.576969\n",
       "1       293    1835    1.817568\n",
       "2       293       0   -4.204648\n",
       "3       466    1835    1.430669\n",
       "4       466       0   -0.766504\n",
       "..      ...     ...         ...\n",
       "369     245    1835    1.773020\n",
       "370     245       0   -5.174218\n",
       "372     578    1175    3.910652\n",
       "373     578    1835    0.921735\n",
       "374     578       0   -3.000608\n",
       "\n",
       "[303 rows x 3 columns]"
      ]
     },
     "execution_count": 12,
     "metadata": {},
     "output_type": "execute_result"
    }
   ],
   "source": [
    "model.recommend_k_items(dataloader.test, top_k=3, use_id=True, remove_seen=True, recommend_from={'b86aa059-3d31-5d41-a472-70962816f779', '56b4d333-4138-5aa3-9890-3502b9478079', 'd083109e-4819-54b9-a01c-67bd5a770f65' })"
   ]
  },
  {
   "cell_type": "markdown",
   "id": "d994a5dd-efe5-47bf-a8a1-803316d9fc75",
   "metadata": {},
   "source": [
    "# Defining trainer"
   ]
  },
  {
   "cell_type": "code",
   "execution_count": 13,
   "id": "a5d010bf-3a9c-4931-9d02-6589b3164438",
   "metadata": {
    "scrolled": true
   },
   "outputs": [],
   "source": [
    "from recommenders.evaluation.python_evaluation import map_at_k, ndcg_at_k, precision_at_k, recall_at_k\n",
    "\n",
    "class TrainLightGCN(tune.Trainable):\n",
    "    def setup(\n",
    "        self,\n",
    "        config: Dict[str, Any],\n",
    "        fold,\n",
    "        data,\n",
    "    ):\n",
    "        self.config = config\n",
    "        self.fold = fold\n",
    "        config['batch_size'] = 2**config['batch_size']\n",
    "\n",
    "        self.hparams = prepare_hparams(\n",
    "            model_type='lightgcn',\n",
    "            n_layers=config['conv_layers'],\n",
    "            batch_size=config['batch_size'],\n",
    "            embed_size=config['embedding_dim'],\n",
    "            epochs=EPOCHS_PER_ITER,\n",
    "            learning_rate=config['learning_rate'],\n",
    "            decay=config['l2'],\n",
    "            metrics=METRICS,\n",
    "            eval_epoch=-1,\n",
    "            top_k=TOP_K[0],\n",
    "            save_model=False,\n",
    "            MODEL_DIR='./data/model/lightgcn/',\n",
    "        )\n",
    "\n",
    "        train, test, self.t, self.open_proposals = data\n",
    "        self.dataloader = ImplicitCF(train=train, test=test, seed=SEED)\n",
    "        self.model = LightGCNCustom(self.hparams, self.dataloader, seed=SEED)\n",
    "        self.total_train = 0\n",
    "        self.total_eval = 0\n",
    "\n",
    "    @property\n",
    "    def iteration(self):\n",
    "        return self.model.epochs_done\n",
    "\n",
    "    @property\n",
    "    def training_iteration(self):\n",
    "        return self.model.epochs_done\n",
    "\n",
    "    def step(self):\n",
    "        \"\"\"\n",
    "        As a rule of thumb, the execution time of step should be large enough to avoid overheads \n",
    "        (i.e. more than a few seconds), but short enough to report progress periodically \n",
    "        (i.e. at most a few minutes).\n",
    "        \"\"\"\n",
    "        assert EPOCHS_PER_ITER > 0\n",
    "\n",
    "        train_start = time.time()\n",
    "        for _ in range(EPOCHS_PER_ITER):\n",
    "            ret = self.model.fit_epoch()\n",
    "        eval_start = train_end = time.time()\n",
    "\n",
    "        eval_dict = {'model_'+k:v for k,v in zip(self.model.metrics, self.model.run_eval())}\n",
    "        for k in TOP_K:\n",
    "            recs = self.model.recommend_k_items(\n",
    "                self.dataloader.test, \n",
    "                top_k=k,\n",
    "                use_id=True, \n",
    "                remove_seen=True, \n",
    "                recommend_from=self.open_proposals,\n",
    "            )\n",
    "            \n",
    "            eval_dict[f'precision@{k}'] = precision_at_k(self.dataloader.test, recs, k=k)\n",
    "            eval_dict[f'ndcg@{k}'] = ndcg_at_k(self.dataloader.test, recs, k=k)\n",
    "            eval_dict[f'recall@{k}'] = recall_at_k(self.dataloader.test, recs, k=k)\n",
    "            eval_dict[f'map@{k}'] = map_at_k(self.dataloader.test, recs, k=k)\n",
    "\n",
    "        eval_end = time.time()\n",
    "\n",
    "        self.total_train += train_end - train_start\n",
    "        self.total_eval += eval_end - eval_start\n",
    "        \n",
    "        return {\n",
    "            'iteration': self.iteration,\n",
    "            'loss': ret[0],\n",
    "            'mf_loss': ret[1],\n",
    "            'emb_loss': ret[2],\n",
    "            **eval_dict,\n",
    "            'time_train': train_end-train_start,\n",
    "            'time_test': eval_end-eval_start,\n",
    "            'time_total_train': self.total_train,\n",
    "            'time_total_test': self.total_eval,\n",
    "        }\n",
    "\n",
    "    def save_checkpoint(self, checkpoint_dir):\n",
    "        checkpoint_path = os.path.join(checkpoint_dir, \"model\")\n",
    "        self.model.saver.save(\n",
    "            sess=self.model.sess,\n",
    "            save_path=checkpoint_path,\n",
    "        )\n",
    "        return checkpoint_dir\n",
    "\n",
    "    def load_checkpoint(self, checkpoint_path):\n",
    "        self.model.load(checkpoint_path)"
   ]
  },
  {
   "cell_type": "markdown",
   "id": "16276fe4-d63d-4e7a-bcc8-38d8f5be299c",
   "metadata": {},
   "source": [
    "# Big experiment"
   ]
  },
  {
   "cell_type": "code",
   "execution_count": 14,
   "id": "a6cf4b2a-7028-439e-98c4-568e120b0a32",
   "metadata": {},
   "outputs": [
    {
     "data": {
      "text/plain": [
       "'lamarck'"
      ]
     },
     "execution_count": 14,
     "metadata": {},
     "output_type": "execute_result"
    }
   ],
   "source": [
    "os.uname().nodename"
   ]
  },
  {
   "cell_type": "code",
   "execution_count": 15,
   "id": "427c4b72-593a-41ff-9fd6-991e8e3a0445",
   "metadata": {},
   "outputs": [
    {
     "data": {
      "text/plain": [
       "PosixPath('/home/daviddavo/ray_results')"
      ]
     },
     "execution_count": 15,
     "metadata": {},
     "output_type": "execute_result"
    }
   ],
   "source": [
    "RAY_RESULTS_PATH"
   ]
  },
  {
   "cell_type": "code",
   "execution_count": 16,
   "id": "a5ad6f33-effe-4f48-850e-8044af3a88dc",
   "metadata": {},
   "outputs": [
    {
     "name": "stdout",
     "output_type": "stream",
     "text": [
      "No experiment found for fold 0, creating new tuner\n",
      "No experiment found for fold 1, creating new tuner\n",
      "No experiment found for fold 2, creating new tuner\n",
      "No experiment found for fold 3, creating new tuner\n",
      "No experiment found for fold 4, creating new tuner\n",
      "No experiment found for fold 5, creating new tuner\n",
      "No experiment found for fold 6, creating new tuner\n",
      "No experiment found for fold 7, creating new tuner\n",
      "No experiment found for fold 8, creating new tuner\n",
      "No experiment found for fold 9, creating new tuner\n"
     ]
    }
   ],
   "source": [
    "import ray\n",
    "from ray.tune.search.hyperopt import HyperOptSearch\n",
    "import datetime as dt\n",
    "\n",
    "def getTunerOnFold(f):\n",
    "    name = f'LightGCN_dao={DAO_NAME},fold={f}'\n",
    "    paths = list(RAY_RESULTS_PATH.glob(f'{name}_*'))\n",
    "    last_experiment = max(paths, key=lambda x: x.stat().st_ctime) if paths else None\n",
    "    \n",
    "    ### SET TRAINING RESOURCES\n",
    "    if os.uname().nodename == 'lamarck':\n",
    "        # assert torch.cuda.is_available()\n",
    "        \n",
    "        NUM_SAMPLES = SAMPLES_PER_SPLIT\n",
    "        # Every run takes approx half a gig of vram (no optimizations)\n",
    "        # The RTX 4090 has 24GB so we can run the model about 48 times\n",
    "        resources_per_trial={\n",
    "            'cpu': 1,\n",
    "            # GPU has 25GiB, and each run might take up to 2GiB (torch version was lighter)\n",
    "            # so each run might take up to 1/12th of the GPU\n",
    "            # I use 1/16th so I don't take all the resources in the machine\n",
    "            'gpu': 1/8,\n",
    "        }\n",
    "    else:\n",
    "        NUM_SAMPLES = 1\n",
    "        resources_per_trial={\n",
    "            'cpu': 1,\n",
    "            # It takes about 1.5 GiB with full training data, but I put a bit more because\n",
    "            # this notebook also takes a bit of memory\n",
    "            'memory': 2e9,\n",
    "        }\n",
    "\n",
    "    dftrain,dftest,t,open_proposals = folds[f]\n",
    "    param_space = dict(\n",
    "        batch_size=tune.randint(4,10),\n",
    "        embedding_dim=tune.qlograndint(1, 1000, 5),\n",
    "        conv_layers=tune.randint(1,6),\n",
    "        learning_rate=tune.qloguniform(1e-4, 1, 1e-4),\n",
    "        l2=tune.loguniform(1e-7, 1e-2),\n",
    "    )\n",
    "    \n",
    "    ### RESTORE EXPERIMENT OR CREATE A NEW ONE\n",
    "    if last_experiment and tune.Tuner.can_restore(last_experiment):\n",
    "        print(f\"Restoring last experiment: {last_experiment}\")\n",
    "        tuner = tune.Tuner.restore(\n",
    "            str(last_experiment),\n",
    "            trainable=tune.with_resources(\n",
    "                # tune.with_parameters(TrainLightGCN,  train=dftrain, test=dftest, open_proposals=open_proposals),\n",
    "                tune.with_parameters(TrainLightGCN,  fold=f, folds=folds),\n",
    "                resources_per_trial,\n",
    "            ),\n",
    "            restart_errored=True,\n",
    "            param_space=param_space,\n",
    "        )\n",
    "    else:\n",
    "        print(f\"No experiment found for fold {f}, creating new tuner\")\n",
    "        search_alg = None\n",
    "        search_alg = HyperOptSearch(\n",
    "            points_to_evaluate=[{\n",
    "                'batch_size': 8, # 2**8 = 256\n",
    "                'learning_rate': 10e-2,\n",
    "                'l2': 10e-6,\n",
    "                'embedding_dim': 100,\n",
    "                'conv_layers': 3,\n",
    "            }],\n",
    "            random_state_seed=SEED,\n",
    "        )\n",
    "        # search_alg = tune.search.Repeater(search_alg, N_SPLITS-SKIP_SPLIT)\n",
    "        \n",
    "        tuner = tune.Tuner(\n",
    "            tune.with_resources(\n",
    "                # tune.with_parameters(TrainLightGCN,  train=dftrain, test=dftest, open_proposals=open_proposals),\n",
    "                tune.with_parameters(TrainLightGCN, fold=f, data=folds[f]),\n",
    "                resources_per_trial,\n",
    "            ),\n",
    "            run_config=train.RunConfig(\n",
    "                stop={'training_iteration': MAX_EPOCHS/EPOCHS_PER_ITER, 'time_total_train': 600},\n",
    "                name=name + f'_{dt.datetime.now().isoformat()}',\n",
    "                storage_path=RAY_RESULTS_PATH,\n",
    "            ),\n",
    "            param_space=param_space,\n",
    "            tune_config=tune.TuneConfig(\n",
    "                search_alg=search_alg,\n",
    "                num_samples=NUM_SAMPLES,\n",
    "                metric='ndcg@10',\n",
    "                mode='max',\n",
    "            )\n",
    "        )\n",
    "\n",
    "    return tuner\n",
    "\n",
    "tuners = [ getTunerOnFold(f) for f in range(LAST_SPLITS) ]"
   ]
  },
  {
   "cell_type": "code",
   "execution_count": 17,
   "id": "c968ecd5-d62c-4d57-846f-4bb7202a97c1",
   "metadata": {},
   "outputs": [
    {
     "data": {
      "text/html": [
       "<div class=\"tuneStatus\">\n",
       "  <div style=\"display: flex;flex-direction: row\">\n",
       "    <div style=\"display: flex;flex-direction: column;\">\n",
       "      <h3>Tune Status</h3>\n",
       "      <table>\n",
       "<tbody>\n",
       "<tr><td>Current time:</td><td>2023-11-27 11:33:03</td></tr>\n",
       "<tr><td>Running for: </td><td>00:01:15.67        </td></tr>\n",
       "<tr><td>Memory:      </td><td>7.4/125.6 GiB      </td></tr>\n",
       "</tbody>\n",
       "</table>\n",
       "    </div>\n",
       "    <div class=\"vDivider\"></div>\n",
       "    <div class=\"systemInfo\">\n",
       "      <h3>System Info</h3>\n",
       "      Using FIFO scheduling algorithm.<br>Logical resource usage: 1.0/24 CPUs, 0.125/1 GPUs (0.0/1.0 accelerator_type:G)\n",
       "    </div>\n",
       "    \n",
       "  </div>\n",
       "  <div class=\"hDivider\"></div>\n",
       "  <div class=\"trialStatus\">\n",
       "    <h3>Trial Status</h3>\n",
       "    <table>\n",
       "<thead>\n",
       "<tr><th>Trial name            </th><th>status    </th><th>loc                  </th><th style=\"text-align: right;\">  batch_size</th><th style=\"text-align: right;\">  conv_layers</th><th style=\"text-align: right;\">  embedding_dim</th><th style=\"text-align: right;\">         l2</th><th style=\"text-align: right;\">  learning_rate</th><th style=\"text-align: right;\">  iter</th><th style=\"text-align: right;\">  total time (s)</th><th style=\"text-align: right;\">  iteration</th><th style=\"text-align: right;\">       loss</th><th style=\"text-align: right;\">    mf_loss</th></tr>\n",
       "</thead>\n",
       "<tbody>\n",
       "<tr><td>TrainLightGCN_0c8f33b3</td><td>TERMINATED</td><td>147.96.81.131:3228932</td><td style=\"text-align: right;\">           8</td><td style=\"text-align: right;\">            3</td><td style=\"text-align: right;\">            100</td><td style=\"text-align: right;\">1e-05      </td><td style=\"text-align: right;\">         0.1   </td><td style=\"text-align: right;\">    40</td><td style=\"text-align: right;\">         6.38276</td><td style=\"text-align: right;\">        200</td><td style=\"text-align: right;\">0.0421986  </td><td style=\"text-align: right;\">0.0187669  </td></tr>\n",
       "<tr><td>TrainLightGCN_eaf512e7</td><td>TERMINATED</td><td>147.96.81.131:3229124</td><td style=\"text-align: right;\">           7</td><td style=\"text-align: right;\">            5</td><td style=\"text-align: right;\">             30</td><td style=\"text-align: right;\">2.8606e-05 </td><td style=\"text-align: right;\">         0.2347</td><td style=\"text-align: right;\">    40</td><td style=\"text-align: right;\">        10.94   </td><td style=\"text-align: right;\">        200</td><td style=\"text-align: right;\">0.178844   </td><td style=\"text-align: right;\">0.0840955  </td></tr>\n",
       "<tr><td>TrainLightGCN_e0d2668a</td><td>TERMINATED</td><td>147.96.81.131:3229260</td><td style=\"text-align: right;\">           8</td><td style=\"text-align: right;\">            3</td><td style=\"text-align: right;\">              5</td><td style=\"text-align: right;\">5.24282e-05</td><td style=\"text-align: right;\">         0.22  </td><td style=\"text-align: right;\">    40</td><td style=\"text-align: right;\">         7.27317</td><td style=\"text-align: right;\">        200</td><td style=\"text-align: right;\">0.108728   </td><td style=\"text-align: right;\">0.104674   </td></tr>\n",
       "<tr><td>TrainLightGCN_2154c6f0</td><td>TERMINATED</td><td>147.96.81.131:3229393</td><td style=\"text-align: right;\">           6</td><td style=\"text-align: right;\">            4</td><td style=\"text-align: right;\">            300</td><td style=\"text-align: right;\">8.92312e-07</td><td style=\"text-align: right;\">         0.0065</td><td style=\"text-align: right;\">    40</td><td style=\"text-align: right;\">        28.1228 </td><td style=\"text-align: right;\">        200</td><td style=\"text-align: right;\">0.000303895</td><td style=\"text-align: right;\">8.61521e-05</td></tr>\n",
       "<tr><td>TrainLightGCN_712b1820</td><td>TERMINATED</td><td>147.96.81.131:3229590</td><td style=\"text-align: right;\">           5</td><td style=\"text-align: right;\">            3</td><td style=\"text-align: right;\">            215</td><td style=\"text-align: right;\">2.79193e-05</td><td style=\"text-align: right;\">         0.0005</td><td style=\"text-align: right;\">    40</td><td style=\"text-align: right;\">        48.4452 </td><td style=\"text-align: right;\">        200</td><td style=\"text-align: right;\">0.0106943  </td><td style=\"text-align: right;\">0.00893954 </td></tr>\n",
       "<tr><td>TrainLightGCN_ea8116f1</td><td>TERMINATED</td><td>147.96.81.131:3229724</td><td style=\"text-align: right;\">           5</td><td style=\"text-align: right;\">            4</td><td style=\"text-align: right;\">              5</td><td style=\"text-align: right;\">0.00397996 </td><td style=\"text-align: right;\">         0.0038</td><td style=\"text-align: right;\">    40</td><td style=\"text-align: right;\">        49.1856 </td><td style=\"text-align: right;\">        200</td><td style=\"text-align: right;\">0.172879   </td><td style=\"text-align: right;\">0.112907   </td></tr>\n",
       "<tr><td>TrainLightGCN_abfa9f33</td><td>TERMINATED</td><td>147.96.81.131:3229863</td><td style=\"text-align: right;\">           5</td><td style=\"text-align: right;\">            3</td><td style=\"text-align: right;\">              5</td><td style=\"text-align: right;\">0.0011209  </td><td style=\"text-align: right;\">         0.0002</td><td style=\"text-align: right;\">    40</td><td style=\"text-align: right;\">        50.0777 </td><td style=\"text-align: right;\">        200</td><td style=\"text-align: right;\">0.260389   </td><td style=\"text-align: right;\">0.25047    </td></tr>\n",
       "<tr><td>TrainLightGCN_9d7cec86</td><td>TERMINATED</td><td>147.96.81.131:3230001</td><td style=\"text-align: right;\">           7</td><td style=\"text-align: right;\">            4</td><td style=\"text-align: right;\">            405</td><td style=\"text-align: right;\">0.00406073 </td><td style=\"text-align: right;\">         0.0014</td><td style=\"text-align: right;\">    40</td><td style=\"text-align: right;\">        19.227  </td><td style=\"text-align: right;\">        200</td><td style=\"text-align: right;\">0.12467    </td><td style=\"text-align: right;\">0.0477474  </td></tr>\n",
       "<tr><td>TrainLightGCN_6d9d5af3</td><td>TERMINATED</td><td>147.96.81.131:3230190</td><td style=\"text-align: right;\">           5</td><td style=\"text-align: right;\">            1</td><td style=\"text-align: right;\">            205</td><td style=\"text-align: right;\">6.80694e-06</td><td style=\"text-align: right;\">         0.0085</td><td style=\"text-align: right;\">    40</td><td style=\"text-align: right;\">        51.058  </td><td style=\"text-align: right;\">        200</td><td style=\"text-align: right;\">0.00467396 </td><td style=\"text-align: right;\">0.00322871 </td></tr>\n",
       "<tr><td>TrainLightGCN_aa9755fb</td><td>TERMINATED</td><td>147.96.81.131:3230324</td><td style=\"text-align: right;\">           9</td><td style=\"text-align: right;\">            4</td><td style=\"text-align: right;\">            110</td><td style=\"text-align: right;\">0.000527247</td><td style=\"text-align: right;\">         0.0001</td><td style=\"text-align: right;\">    40</td><td style=\"text-align: right;\">        10.2457 </td><td style=\"text-align: right;\">        200</td><td style=\"text-align: right;\">0.386654   </td><td style=\"text-align: right;\">0.384152   </td></tr>\n",
       "</tbody>\n",
       "</table>\n",
       "  </div>\n",
       "</div>\n",
       "<style>\n",
       ".tuneStatus {\n",
       "  color: var(--jp-ui-font-color1);\n",
       "}\n",
       ".tuneStatus .systemInfo {\n",
       "  display: flex;\n",
       "  flex-direction: column;\n",
       "}\n",
       ".tuneStatus td {\n",
       "  white-space: nowrap;\n",
       "}\n",
       ".tuneStatus .trialStatus {\n",
       "  display: flex;\n",
       "  flex-direction: column;\n",
       "}\n",
       ".tuneStatus h3 {\n",
       "  font-weight: bold;\n",
       "}\n",
       ".tuneStatus .hDivider {\n",
       "  border-bottom-width: var(--jp-border-width);\n",
       "  border-bottom-color: var(--jp-border-color0);\n",
       "  border-bottom-style: solid;\n",
       "}\n",
       ".tuneStatus .vDivider {\n",
       "  border-left-width: var(--jp-border-width);\n",
       "  border-left-color: var(--jp-border-color0);\n",
       "  border-left-style: solid;\n",
       "  margin: 0.5em 1em 0.5em 1em;\n",
       "}\n",
       "</style>\n"
      ],
      "text/plain": [
       "<IPython.core.display.HTML object>"
      ]
     },
     "metadata": {},
     "output_type": "display_data"
    },
    {
     "name": "stderr",
     "output_type": "stream",
     "text": [
      "\u001b[2m\u001b[36m(pid=3228932)\u001b[0m 2023-11-27 11:31:49.255099: E tensorflow/compiler/xla/stream_executor/cuda/cuda_dnn.cc:9342] Unable to register cuDNN factory: Attempting to register factory for plugin cuDNN when one has already been registered\n",
      "\u001b[2m\u001b[36m(pid=3228932)\u001b[0m 2023-11-27 11:31:49.255125: E tensorflow/compiler/xla/stream_executor/cuda/cuda_fft.cc:609] Unable to register cuFFT factory: Attempting to register factory for plugin cuFFT when one has already been registered\n",
      "\u001b[2m\u001b[36m(pid=3228932)\u001b[0m 2023-11-27 11:31:49.255137: E tensorflow/compiler/xla/stream_executor/cuda/cuda_blas.cc:1518] Unable to register cuBLAS factory: Attempting to register factory for plugin cuBLAS when one has already been registered\n",
      "\u001b[2m\u001b[36m(TrainLightGCN pid=3228932)\u001b[0m /home/daviddavo/upm-tfm-notebooks/.direnv/python-3.9/lib/python3.9/site-packages/recommenders/models/deeprec/DataModel/ImplicitCF.py:73: FutureWarning: The frame.append method is deprecated and will be removed from pandas in a future version. Use pandas.concat instead.\n",
      "\u001b[2m\u001b[36m(TrainLightGCN pid=3228932)\u001b[0m   df = train if test is None else train.append(test)\n"
     ]
    },
    {
     "name": "stdout",
     "output_type": "stream",
     "text": [
      "\u001b[2m\u001b[36m(TrainLightGCN pid=3228932)\u001b[0m Already create adjacency matrix.\n",
      "\u001b[2m\u001b[36m(TrainLightGCN pid=3228932)\u001b[0m Already normalize adjacency matrix.\n",
      "\u001b[2m\u001b[36m(TrainLightGCN pid=3228932)\u001b[0m Using xavier initialization.\n"
     ]
    },
    {
     "name": "stderr",
     "output_type": "stream",
     "text": [
      "\u001b[2m\u001b[36m(pid=3229260)\u001b[0m 2023-11-27 11:31:54.368370: E tensorflow/compiler/xla/stream_executor/cuda/cuda_dnn.cc:9342] Unable to register cuDNN factory: Attempting to register factory for plugin cuDNN when one has already been registered\u001b[32m [repeated 2x across cluster] (Ray deduplicates logs by default. Set RAY_DEDUP_LOGS=0 to disable log deduplication, or see https://docs.ray.io/en/master/ray-observability/ray-logging.html#log-deduplication for more options.)\u001b[0m\n",
      "\u001b[2m\u001b[36m(pid=3229260)\u001b[0m 2023-11-27 11:31:54.368402: E tensorflow/compiler/xla/stream_executor/cuda/cuda_fft.cc:609] Unable to register cuFFT factory: Attempting to register factory for plugin cuFFT when one has already been registered\u001b[32m [repeated 2x across cluster]\u001b[0m\n",
      "\u001b[2m\u001b[36m(pid=3229260)\u001b[0m 2023-11-27 11:31:54.368414: E tensorflow/compiler/xla/stream_executor/cuda/cuda_blas.cc:1518] Unable to register cuBLAS factory: Attempting to register factory for plugin cuBLAS when one has already been registered\u001b[32m [repeated 2x across cluster]\u001b[0m\n",
      "\u001b[2m\u001b[36m(TrainLightGCN pid=3229260)\u001b[0m /home/daviddavo/upm-tfm-notebooks/.direnv/python-3.9/lib/python3.9/site-packages/recommenders/models/deeprec/DataModel/ImplicitCF.py:73: FutureWarning: The frame.append method is deprecated and will be removed from pandas in a future version. Use pandas.concat instead.\u001b[32m [repeated 2x across cluster]\u001b[0m\n",
      "\u001b[2m\u001b[36m(TrainLightGCN pid=3229260)\u001b[0m   df = train if test is None else train.append(test)\u001b[32m [repeated 2x across cluster]\u001b[0m\n"
     ]
    },
    {
     "name": "stdout",
     "output_type": "stream",
     "text": [
      "\u001b[2m\u001b[36m(TrainLightGCN pid=3229260)\u001b[0m Already create adjacency matrix.\u001b[32m [repeated 2x across cluster]\u001b[0m\n",
      "\u001b[2m\u001b[36m(TrainLightGCN pid=3229260)\u001b[0m Already normalize adjacency matrix.\u001b[32m [repeated 2x across cluster]\u001b[0m\n",
      "\u001b[2m\u001b[36m(TrainLightGCN pid=3229124)\u001b[0m Using xavier initialization.\n",
      "\u001b[2m\u001b[36m(TrainLightGCN pid=3229260)\u001b[0m Using xavier initialization.\n"
     ]
    },
    {
     "name": "stderr",
     "output_type": "stream",
     "text": [
      "\u001b[2m\u001b[36m(TrainLightGCN pid=3228932)\u001b[0m Checkpoint successfully created at: Checkpoint(filesystem=local, path=/home/daviddavo/ray_results/LightGCN_dao=Decentraland,fold=0_2023-11-27T11:31:45.345890/TrainLightGCN_0c8f33b3_1_batch_size=8,conv_layers=3,embedding_dim=100,l2=0.0000,learning_rate=0.1000_2023-11-27_11-31-48/checkpoint_000000)\n",
      "\u001b[2m\u001b[36m(pid=3229590)\u001b[0m 2023-11-27 11:31:59.708204: E tensorflow/compiler/xla/stream_executor/cuda/cuda_dnn.cc:9342] Unable to register cuDNN factory: Attempting to register factory for plugin cuDNN when one has already been registered\u001b[32m [repeated 2x across cluster]\u001b[0m\n",
      "\u001b[2m\u001b[36m(pid=3229590)\u001b[0m 2023-11-27 11:31:59.708240: E tensorflow/compiler/xla/stream_executor/cuda/cuda_fft.cc:609] Unable to register cuFFT factory: Attempting to register factory for plugin cuFFT when one has already been registered\u001b[32m [repeated 2x across cluster]\u001b[0m\n",
      "\u001b[2m\u001b[36m(pid=3229590)\u001b[0m 2023-11-27 11:31:59.708253: E tensorflow/compiler/xla/stream_executor/cuda/cuda_blas.cc:1518] Unable to register cuBLAS factory: Attempting to register factory for plugin cuBLAS when one has already been registered\u001b[32m [repeated 2x across cluster]\u001b[0m\n",
      "\u001b[2m\u001b[36m(TrainLightGCN pid=3229590)\u001b[0m /home/daviddavo/upm-tfm-notebooks/.direnv/python-3.9/lib/python3.9/site-packages/recommenders/models/deeprec/DataModel/ImplicitCF.py:73: FutureWarning: The frame.append method is deprecated and will be removed from pandas in a future version. Use pandas.concat instead.\u001b[32m [repeated 2x across cluster]\u001b[0m\n",
      "\u001b[2m\u001b[36m(TrainLightGCN pid=3229590)\u001b[0m   df = train if test is None else train.append(test)\u001b[32m [repeated 2x across cluster]\u001b[0m\n"
     ]
    },
    {
     "name": "stdout",
     "output_type": "stream",
     "text": [
      "\u001b[2m\u001b[36m(TrainLightGCN pid=3229590)\u001b[0m Already create adjacency matrix.\u001b[32m [repeated 2x across cluster]\u001b[0m\n",
      "\u001b[2m\u001b[36m(TrainLightGCN pid=3229590)\u001b[0m Already normalize adjacency matrix.\u001b[32m [repeated 2x across cluster]\u001b[0m\n",
      "\u001b[2m\u001b[36m(TrainLightGCN pid=3229393)\u001b[0m Using xavier initialization.\n",
      "\u001b[2m\u001b[36m(TrainLightGCN pid=3229590)\u001b[0m Using xavier initialization.\n"
     ]
    },
    {
     "name": "stderr",
     "output_type": "stream",
     "text": [
      "\u001b[2m\u001b[36m(TrainLightGCN pid=3229260)\u001b[0m Checkpoint successfully created at: Checkpoint(filesystem=local, path=/home/daviddavo/ray_results/LightGCN_dao=Decentraland,fold=0_2023-11-27T11:31:45.345890/TrainLightGCN_e0d2668a_3_batch_size=8,conv_layers=3,embedding_dim=5,l2=0.0001,learning_rate=0.2200_2023-11-27_11-31-53/checkpoint_000000)\n",
      "\u001b[2m\u001b[36m(pid=3229863)\u001b[0m 2023-11-27 11:32:05.181483: E tensorflow/compiler/xla/stream_executor/cuda/cuda_dnn.cc:9342] Unable to register cuDNN factory: Attempting to register factory for plugin cuDNN when one has already been registered\u001b[32m [repeated 2x across cluster]\u001b[0m\n",
      "\u001b[2m\u001b[36m(pid=3229863)\u001b[0m 2023-11-27 11:32:05.181513: E tensorflow/compiler/xla/stream_executor/cuda/cuda_fft.cc:609] Unable to register cuFFT factory: Attempting to register factory for plugin cuFFT when one has already been registered\u001b[32m [repeated 2x across cluster]\u001b[0m\n",
      "\u001b[2m\u001b[36m(pid=3229863)\u001b[0m 2023-11-27 11:32:05.181527: E tensorflow/compiler/xla/stream_executor/cuda/cuda_blas.cc:1518] Unable to register cuBLAS factory: Attempting to register factory for plugin cuBLAS when one has already been registered\u001b[32m [repeated 2x across cluster]\u001b[0m\n",
      "\u001b[2m\u001b[36m(TrainLightGCN pid=3229863)\u001b[0m /home/daviddavo/upm-tfm-notebooks/.direnv/python-3.9/lib/python3.9/site-packages/recommenders/models/deeprec/DataModel/ImplicitCF.py:73: FutureWarning: The frame.append method is deprecated and will be removed from pandas in a future version. Use pandas.concat instead.\u001b[32m [repeated 2x across cluster]\u001b[0m\n",
      "\u001b[2m\u001b[36m(TrainLightGCN pid=3229863)\u001b[0m   df = train if test is None else train.append(test)\u001b[32m [repeated 2x across cluster]\u001b[0m\n"
     ]
    },
    {
     "name": "stdout",
     "output_type": "stream",
     "text": [
      "\u001b[2m\u001b[36m(TrainLightGCN pid=3229863)\u001b[0m Already create adjacency matrix.\u001b[32m [repeated 2x across cluster]\u001b[0m\n",
      "\u001b[2m\u001b[36m(TrainLightGCN pid=3229863)\u001b[0m Already normalize adjacency matrix.\u001b[32m [repeated 2x across cluster]\u001b[0m\n",
      "\u001b[2m\u001b[36m(TrainLightGCN pid=3229863)\u001b[0m Using xavier initialization.\u001b[32m [repeated 2x across cluster]\u001b[0m\n"
     ]
    },
    {
     "name": "stderr",
     "output_type": "stream",
     "text": [
      "\u001b[2m\u001b[36m(TrainLightGCN pid=3229124)\u001b[0m Checkpoint successfully created at: Checkpoint(filesystem=local, path=/home/daviddavo/ray_results/LightGCN_dao=Decentraland,fold=0_2023-11-27T11:31:45.345890/TrainLightGCN_eaf512e7_2_batch_size=7,conv_layers=5,embedding_dim=30,l2=0.0000,learning_rate=0.2347_2023-11-27_11-31-50/checkpoint_000000)\n",
      "\u001b[2m\u001b[36m(pid=3230190)\u001b[0m 2023-11-27 11:32:10.844224: E tensorflow/compiler/xla/stream_executor/cuda/cuda_dnn.cc:9342] Unable to register cuDNN factory: Attempting to register factory for plugin cuDNN when one has already been registered\u001b[32m [repeated 2x across cluster]\u001b[0m\n",
      "\u001b[2m\u001b[36m(pid=3230190)\u001b[0m 2023-11-27 11:32:10.844262: E tensorflow/compiler/xla/stream_executor/cuda/cuda_fft.cc:609] Unable to register cuFFT factory: Attempting to register factory for plugin cuFFT when one has already been registered\u001b[32m [repeated 2x across cluster]\u001b[0m\n",
      "\u001b[2m\u001b[36m(pid=3230190)\u001b[0m 2023-11-27 11:32:10.844275: E tensorflow/compiler/xla/stream_executor/cuda/cuda_blas.cc:1518] Unable to register cuBLAS factory: Attempting to register factory for plugin cuBLAS when one has already been registered\u001b[32m [repeated 2x across cluster]\u001b[0m\n",
      "\u001b[2m\u001b[36m(TrainLightGCN pid=3230190)\u001b[0m /home/daviddavo/upm-tfm-notebooks/.direnv/python-3.9/lib/python3.9/site-packages/recommenders/models/deeprec/DataModel/ImplicitCF.py:73: FutureWarning: The frame.append method is deprecated and will be removed from pandas in a future version. Use pandas.concat instead.\u001b[32m [repeated 2x across cluster]\u001b[0m\n",
      "\u001b[2m\u001b[36m(TrainLightGCN pid=3230190)\u001b[0m   df = train if test is None else train.append(test)\u001b[32m [repeated 2x across cluster]\u001b[0m\n"
     ]
    },
    {
     "name": "stdout",
     "output_type": "stream",
     "text": [
      "\u001b[2m\u001b[36m(TrainLightGCN pid=3230190)\u001b[0m Already create adjacency matrix.\u001b[32m [repeated 2x across cluster]\u001b[0m\n",
      "\u001b[2m\u001b[36m(TrainLightGCN pid=3230190)\u001b[0m Already normalize adjacency matrix.\u001b[32m [repeated 2x across cluster]\u001b[0m\n",
      "\u001b[2m\u001b[36m(TrainLightGCN pid=3230190)\u001b[0m Using xavier initialization.\u001b[32m [repeated 2x across cluster]\u001b[0m\n"
     ]
    },
    {
     "name": "stderr",
     "output_type": "stream",
     "text": [
      "\u001b[2m\u001b[36m(TrainLightGCN pid=3230324)\u001b[0m Checkpoint successfully created at: Checkpoint(filesystem=local, path=/home/daviddavo/ray_results/LightGCN_dao=Decentraland,fold=0_2023-11-27T11:31:45.345890/TrainLightGCN_aa9755fb_10_batch_size=9,conv_layers=4,embedding_dim=110,l2=0.0005,learning_rate=0.0001_2023-11-27_11-32-12/checkpoint_000000)\n",
      "\u001b[2m\u001b[36m(pid=3230324)\u001b[0m 2023-11-27 11:32:13.841549: E tensorflow/compiler/xla/stream_executor/cuda/cuda_dnn.cc:9342] Unable to register cuDNN factory: Attempting to register factory for plugin cuDNN when one has already been registered\n",
      "\u001b[2m\u001b[36m(pid=3230324)\u001b[0m 2023-11-27 11:32:13.841584: E tensorflow/compiler/xla/stream_executor/cuda/cuda_fft.cc:609] Unable to register cuFFT factory: Attempting to register factory for plugin cuFFT when one has already been registered\n",
      "\u001b[2m\u001b[36m(pid=3230324)\u001b[0m 2023-11-27 11:32:13.841599: E tensorflow/compiler/xla/stream_executor/cuda/cuda_blas.cc:1518] Unable to register cuBLAS factory: Attempting to register factory for plugin cuBLAS when one has already been registered\n",
      "\u001b[2m\u001b[36m(TrainLightGCN pid=3230324)\u001b[0m /home/daviddavo/upm-tfm-notebooks/.direnv/python-3.9/lib/python3.9/site-packages/recommenders/models/deeprec/DataModel/ImplicitCF.py:73: FutureWarning: The frame.append method is deprecated and will be removed from pandas in a future version. Use pandas.concat instead.\n",
      "\u001b[2m\u001b[36m(TrainLightGCN pid=3230324)\u001b[0m   df = train if test is None else train.append(test)\n",
      "\u001b[2m\u001b[36m(TrainLightGCN pid=3229590)\u001b[0m Checkpoint successfully created at: Checkpoint(filesystem=local, path=/home/daviddavo/ray_results/LightGCN_dao=Decentraland,fold=0_2023-11-27T11:31:45.345890/TrainLightGCN_712b1820_5_batch_size=5,conv_layers=3,embedding_dim=215,l2=0.0000,learning_rate=0.0005_2023-11-27_11-31-58/checkpoint_000000)\u001b[32m [repeated 3x across cluster]\u001b[0m\n",
      "\u001b[2m\u001b[36m(TrainLightGCN pid=3229863)\u001b[0m Checkpoint successfully created at: Checkpoint(filesystem=local, path=/home/daviddavo/ray_results/LightGCN_dao=Decentraland,fold=0_2023-11-27T11:31:45.345890/TrainLightGCN_abfa9f33_7_batch_size=5,conv_layers=3,embedding_dim=5,l2=0.0011,learning_rate=0.0002_2023-11-27_11-32-04/checkpoint_000000)\u001b[32m [repeated 2x across cluster]\u001b[0m\n",
      "2023-11-27 11:33:03,849\tINFO tune.py:1143 -- Total run time: 75.69 seconds (75.67 seconds for the tuning loop).\n"
     ]
    },
    {
     "data": {
      "text/plain": [
       "ResultGrid<[\n",
       "  Result(\n",
       "    metrics={'iteration': 200, 'loss': 0.04219864987369095, 'mf_loss': 0.01876692866393819, 'emb_loss': 0.023431720877332345, 'model_recall': 0.0, 'model_ndcg': 0.0, 'model_precision': 0.0, 'model_map': 0.0, 'precision@5': 0.19259259259259262, 'ndcg@5': 0.32814707703587825, 'recall@5': 0.5288359788359789, 'map@5': 0.22530717225161667, 'precision@10': 0.17777777777777778, 'ndcg@10': 0.5042029036420986, 'recall@10': 1.0, 'map@10': 0.3384486016628873, 'time_train': 0.12309741973876953, 'time_test': 0.029708147048950195, 'time_total_train': 4.546944856643677, 'time_total_test': 1.835418939590454},\n",
       "    path='/home/daviddavo/ray_results/LightGCN_dao=Decentraland,fold=0_2023-11-27T11:31:45.345890/TrainLightGCN_0c8f33b3_1_batch_size=8,conv_layers=3,embedding_dim=100,l2=0.0000,learning_rate=0.1000_2023-11-27_11-31-48',\n",
       "    filesystem='local',\n",
       "    checkpoint=Checkpoint(filesystem=local, path=/home/daviddavo/ray_results/LightGCN_dao=Decentraland,fold=0_2023-11-27T11:31:45.345890/TrainLightGCN_0c8f33b3_1_batch_size=8,conv_layers=3,embedding_dim=100,l2=0.0000,learning_rate=0.1000_2023-11-27_11-31-48/checkpoint_000000)\n",
       "  ),\n",
       "  Result(\n",
       "    metrics={'iteration': 200, 'loss': 0.17884437933012293, 'mf_loss': 0.08409545952395418, 'emb_loss': 0.09474892141642395, 'model_recall': 0.0, 'model_ndcg': 0.0, 'model_precision': 0.0, 'model_map': 0.0, 'precision@5': 0.21481481481481488, 'ndcg@5': 0.42561344839323983, 'recall@5': 0.6442680776014109, 'map@5': 0.3225705467372134, 'precision@10': 0.17777777777777778, 'ndcg@10': 0.5643325257896966, 'recall@10': 1.0, 'map@10': 0.4152681195935164, 'time_train': 0.26905393600463867, 'time_test': 0.03163957595825195, 'time_total_train': 9.042356252670288, 'time_total_test': 1.8972408771514893},\n",
       "    path='/home/daviddavo/ray_results/LightGCN_dao=Decentraland,fold=0_2023-11-27T11:31:45.345890/TrainLightGCN_eaf512e7_2_batch_size=7,conv_layers=5,embedding_dim=30,l2=0.0000,learning_rate=0.2347_2023-11-27_11-31-50',\n",
       "    filesystem='local',\n",
       "    checkpoint=Checkpoint(filesystem=local, path=/home/daviddavo/ray_results/LightGCN_dao=Decentraland,fold=0_2023-11-27T11:31:45.345890/TrainLightGCN_eaf512e7_2_batch_size=7,conv_layers=5,embedding_dim=30,l2=0.0000,learning_rate=0.2347_2023-11-27_11-31-50/checkpoint_000000)\n",
       "  ),\n",
       "  Result(\n",
       "    metrics={'iteration': 200, 'loss': 0.10872796789876053, 'mf_loss': 0.10467413041208472, 'emb_loss': 0.004053836522091712, 'model_recall': 0.0, 'model_ndcg': 0.0, 'model_precision': 0.0, 'model_map': 0.0, 'precision@5': 0.22222222222222227, 'ndcg@5': 0.40506530611725017, 'recall@5': 0.6433862433862435, 'map@5': 0.2879144620811287, 'precision@10': 0.17777777777777778, 'ndcg@10': 0.5371947813675082, 'recall@10': 1.0, 'map@10': 0.376444318468128, 'time_train': 0.14366745948791504, 'time_test': 0.03092217445373535, 'time_total_train': 5.333167552947998, 'time_total_test': 1.9395596981048584},\n",
       "    path='/home/daviddavo/ray_results/LightGCN_dao=Decentraland,fold=0_2023-11-27T11:31:45.345890/TrainLightGCN_e0d2668a_3_batch_size=8,conv_layers=3,embedding_dim=5,l2=0.0001,learning_rate=0.2200_2023-11-27_11-31-53',\n",
       "    filesystem='local',\n",
       "    checkpoint=Checkpoint(filesystem=local, path=/home/daviddavo/ray_results/LightGCN_dao=Decentraland,fold=0_2023-11-27T11:31:45.345890/TrainLightGCN_e0d2668a_3_batch_size=8,conv_layers=3,embedding_dim=5,l2=0.0001,learning_rate=0.2200_2023-11-27_11-31-53/checkpoint_000000)\n",
       "  ),\n",
       "  Result(\n",
       "    metrics={'iteration': 200, 'loss': 0.0003038953048720336, 'mf_loss': 8.615207176868957e-05, 'emb_loss': 0.00021774323330545382, 'model_recall': 0.007407407407407408, 'model_ndcg': 0.0048594473152719165, 'model_precision': 0.007407407407407408, 'model_map': 0.0014814814814814814, 'precision@5': 0.20740740740740743, 'ndcg@5': 0.4029344737248908, 'recall@5': 0.6010582010582011, 'map@5': 0.3023148148148148, 'precision@10': 0.17777777777777778, 'ndcg@10': 0.5513417976033893, 'recall@10': 1.0, 'map@10': 0.39618816662467454, 'time_train': 0.8774492740631104, 'time_test': 0.07452178001403809, 'time_total_train': 25.799843788146973, 'time_total_test': 2.322430372238159},\n",
       "    path='/home/daviddavo/ray_results/LightGCN_dao=Decentraland,fold=0_2023-11-27T11:31:45.345890/TrainLightGCN_2154c6f0_4_batch_size=6,conv_layers=4,embedding_dim=300,l2=0.0000,learning_rate=0.0065_2023-11-27_11-31-55',\n",
       "    filesystem='local',\n",
       "    checkpoint=Checkpoint(filesystem=local, path=/home/daviddavo/ray_results/LightGCN_dao=Decentraland,fold=0_2023-11-27T11:31:45.345890/TrainLightGCN_2154c6f0_4_batch_size=6,conv_layers=4,embedding_dim=300,l2=0.0000,learning_rate=0.0065_2023-11-27_11-31-55/checkpoint_000000)\n",
       "  ),\n",
       "  Result(\n",
       "    metrics={'iteration': 200, 'loss': 0.010694339737744517, 'mf_loss': 0.008939538839007987, 'emb_loss': 0.001754800915174807, 'model_recall': 0.0, 'model_ndcg': 0.0, 'model_precision': 0.0, 'model_map': 0.0, 'precision@5': 0.2, 'ndcg@5': 0.37255465319231235, 'recall@5': 0.5701940035273368, 'map@5': 0.27531893004115227, 'precision@10': 0.17777777777777778, 'ndcg@10': 0.5350513677197538, 'recall@10': 1.0, 'map@10': 0.3763204417569497, 'time_train': 1.05784273147583, 'time_test': 0.03023386001586914, 'time_total_train': 46.388631105422974, 'time_total_test': 2.056140661239624},\n",
       "    path='/home/daviddavo/ray_results/LightGCN_dao=Decentraland,fold=0_2023-11-27T11:31:45.345890/TrainLightGCN_712b1820_5_batch_size=5,conv_layers=3,embedding_dim=215,l2=0.0000,learning_rate=0.0005_2023-11-27_11-31-58',\n",
       "    filesystem='local',\n",
       "    checkpoint=Checkpoint(filesystem=local, path=/home/daviddavo/ray_results/LightGCN_dao=Decentraland,fold=0_2023-11-27T11:31:45.345890/TrainLightGCN_712b1820_5_batch_size=5,conv_layers=3,embedding_dim=215,l2=0.0000,learning_rate=0.0005_2023-11-27_11-31-58/checkpoint_000000)\n",
       "  ),\n",
       "  Result(\n",
       "    metrics={'iteration': 200, 'loss': 0.17287927983259707, 'mf_loss': 0.11290697824140941, 'emb_loss': 0.05997230164292784, 'model_recall': 0.0, 'model_ndcg': 0.0, 'model_precision': 0.0, 'model_map': 0.0, 'precision@5': 0.2296296296296297, 'ndcg@5': 0.46624202421671235, 'recall@5': 0.7328924162257494, 'map@5': 0.34563051146384477, 'precision@10': 0.17777777777777778, 'ndcg@10': 0.5705033558753888, 'recall@10': 1.0, 'map@10': 0.4194815024775342, 'time_train': 1.0398228168487549, 'time_test': 0.029395580291748047, 'time_total_train': 47.11053490638733, 'time_total_test': 2.0745506286621094},\n",
       "    path='/home/daviddavo/ray_results/LightGCN_dao=Decentraland,fold=0_2023-11-27T11:31:45.345890/TrainLightGCN_ea8116f1_6_batch_size=5,conv_layers=4,embedding_dim=5,l2=0.0040,learning_rate=0.0038_2023-11-27_11-32-01',\n",
       "    filesystem='local',\n",
       "    checkpoint=Checkpoint(filesystem=local, path=/home/daviddavo/ray_results/LightGCN_dao=Decentraland,fold=0_2023-11-27T11:31:45.345890/TrainLightGCN_ea8116f1_6_batch_size=5,conv_layers=4,embedding_dim=5,l2=0.0040,learning_rate=0.0038_2023-11-27_11-32-01/checkpoint_000000)\n",
       "  ),\n",
       "  Result(\n",
       "    metrics={'iteration': 200, 'loss': 0.26038915256935147, 'mf_loss': 0.2504698264378089, 'emb_loss': 0.009919325338193662, 'model_recall': 0.0, 'model_ndcg': 0.0, 'model_precision': 0.0, 'model_map': 0.0, 'precision@5': 0.21481481481481485, 'ndcg@5': 0.40419746038833265, 'recall@5': 0.6208994708994708, 'map@5': 0.299047619047619, 'precision@10': 0.17777777777777778, 'ndcg@10': 0.5466267472459039, 'recall@10': 1.0, 'map@10': 0.3923199588477366, 'time_train': 1.1058118343353271, 'time_test': 0.029453277587890625, 'time_total_train': 47.87308859825134, 'time_total_test': 2.204089879989624},\n",
       "    path='/home/daviddavo/ray_results/LightGCN_dao=Decentraland,fold=0_2023-11-27T11:31:45.345890/TrainLightGCN_abfa9f33_7_batch_size=5,conv_layers=3,embedding_dim=5,l2=0.0011,learning_rate=0.0002_2023-11-27_11-32-04',\n",
       "    filesystem='local',\n",
       "    checkpoint=Checkpoint(filesystem=local, path=/home/daviddavo/ray_results/LightGCN_dao=Decentraland,fold=0_2023-11-27T11:31:45.345890/TrainLightGCN_abfa9f33_7_batch_size=5,conv_layers=3,embedding_dim=5,l2=0.0011,learning_rate=0.0002_2023-11-27_11-32-04/checkpoint_000000)\n",
       "  ),\n",
       "  Result(\n",
       "    metrics={'iteration': 200, 'loss': 0.12467030463395297, 'mf_loss': 0.04774741952617963, 'emb_loss': 0.07692288579764188, 'model_recall': 0.0, 'model_ndcg': 0.0, 'model_precision': 0.0, 'model_map': 0.0, 'precision@5': 0.20000000000000004, 'ndcg@5': 0.36755751557321803, 'recall@5': 0.6059964726631393, 'map@5': 0.25493827160493826, 'precision@10': 0.17777777777777778, 'ndcg@10': 0.5200757214339474, 'recall@10': 1.0, 'map@10': 0.35330897791215254, 'time_train': 0.3504371643066406, 'time_test': 0.06227898597717285, 'time_total_train': 16.75420045852661, 'time_total_test': 2.4722471237182617},\n",
       "    path='/home/daviddavo/ray_results/LightGCN_dao=Decentraland,fold=0_2023-11-27T11:31:45.345890/TrainLightGCN_9d7cec86_8_batch_size=7,conv_layers=4,embedding_dim=405,l2=0.0041,learning_rate=0.0014_2023-11-27_11-32-06',\n",
       "    filesystem='local',\n",
       "    checkpoint=Checkpoint(filesystem=local, path=/home/daviddavo/ray_results/LightGCN_dao=Decentraland,fold=0_2023-11-27T11:31:45.345890/TrainLightGCN_9d7cec86_8_batch_size=7,conv_layers=4,embedding_dim=405,l2=0.0041,learning_rate=0.0014_2023-11-27_11-32-06/checkpoint_000000)\n",
       "  ),\n",
       "  Result(\n",
       "    metrics={'iteration': 200, 'loss': 0.004673955246323236, 'mf_loss': 0.0032287098188338646, 'emb_loss': 0.0014452454536998032, 'model_recall': 0.06084656084656084, 'model_ndcg': 0.0361538407044273, 'model_precision': 0.022222222222222227, 'model_map': 0.020282186948853614, 'precision@5': 0.20740740740740746, 'ndcg@5': 0.4108553812973921, 'recall@5': 0.6152557319223986, 'map@5': 0.30811287477954147, 'precision@10': 0.17777777777777778, 'ndcg@10': 0.5569448505502458, 'recall@10': 1.0, 'map@10': 0.4022948685647098, 'time_train': 0.9869863986968994, 'time_test': 0.03226590156555176, 'time_total_train': 48.676645040512085, 'time_total_test': 2.3809621334075928},\n",
       "    path='/home/daviddavo/ray_results/LightGCN_dao=Decentraland,fold=0_2023-11-27T11:31:45.345890/TrainLightGCN_6d9d5af3_9_batch_size=5,conv_layers=1,embedding_dim=205,l2=0.0000,learning_rate=0.0085_2023-11-27_11-32-09',\n",
       "    filesystem='local',\n",
       "    checkpoint=Checkpoint(filesystem=local, path=/home/daviddavo/ray_results/LightGCN_dao=Decentraland,fold=0_2023-11-27T11:31:45.345890/TrainLightGCN_6d9d5af3_9_batch_size=5,conv_layers=1,embedding_dim=205,l2=0.0000,learning_rate=0.0085_2023-11-27_11-32-09/checkpoint_000000)\n",
       "  ),\n",
       "  Result(\n",
       "    metrics={'iteration': 200, 'loss': 0.38665415559496197, 'mf_loss': 0.3841515183448792, 'emb_loss': 0.0025026360194065744, 'model_recall': 0.0, 'model_ndcg': 0.0, 'model_precision': 0.0, 'model_map': 0.0, 'precision@5': 0.12592592592592597, 'ndcg@5': 0.189746387655046, 'recall@5': 0.2695767195767195, 'map@5': 0.12993827160493826, 'precision@10': 0.17777777777777778, 'ndcg@10': 0.4452905551825759, 'recall@10': 1.0, 'map@10': 0.2686712648022172, 'time_train': 0.14296960830688477, 'time_test': 0.07714676856994629, 'time_total_train': 7.0205912590026855, 'time_total_test': 3.224543333053589},\n",
       "    path='/home/daviddavo/ray_results/LightGCN_dao=Decentraland,fold=0_2023-11-27T11:31:45.345890/TrainLightGCN_aa9755fb_10_batch_size=9,conv_layers=4,embedding_dim=110,l2=0.0005,learning_rate=0.0001_2023-11-27_11-32-12',\n",
       "    filesystem='local',\n",
       "    checkpoint=Checkpoint(filesystem=local, path=/home/daviddavo/ray_results/LightGCN_dao=Decentraland,fold=0_2023-11-27T11:31:45.345890/TrainLightGCN_aa9755fb_10_batch_size=9,conv_layers=4,embedding_dim=110,l2=0.0005,learning_rate=0.0001_2023-11-27_11-32-12/checkpoint_000000)\n",
       "  )\n",
       "]>"
      ]
     },
     "execution_count": 17,
     "metadata": {},
     "output_type": "execute_result"
    },
    {
     "name": "stderr",
     "output_type": "stream",
     "text": [
      "\u001b[2m\u001b[36m(TrainLightGCN pid=3230190)\u001b[0m Checkpoint successfully created at: Checkpoint(filesystem=local, path=/home/daviddavo/ray_results/LightGCN_dao=Decentraland,fold=0_2023-11-27T11:31:45.345890/TrainLightGCN_6d9d5af3_9_batch_size=5,conv_layers=1,embedding_dim=205,l2=0.0000,learning_rate=0.0085_2023-11-27_11-32-09/checkpoint_000000)\n"
     ]
    }
   ],
   "source": [
    "tuners[0].fit()"
   ]
  },
  {
   "cell_type": "code",
   "execution_count": 18,
   "id": "be6e3251-8411-4942-a881-b3c080dc66a2",
   "metadata": {},
   "outputs": [
    {
     "data": {
      "text/html": [
       "<div class=\"tuneStatus\">\n",
       "  <div style=\"display: flex;flex-direction: row\">\n",
       "    <div style=\"display: flex;flex-direction: column;\">\n",
       "      <h3>Tune Status</h3>\n",
       "      <table>\n",
       "<tbody>\n",
       "<tr><td>Current time:</td><td>2023-11-27 11:35:08</td></tr>\n",
       "<tr><td>Running for: </td><td>00:02:04.27        </td></tr>\n",
       "<tr><td>Memory:      </td><td>7.4/125.6 GiB      </td></tr>\n",
       "</tbody>\n",
       "</table>\n",
       "    </div>\n",
       "    <div class=\"vDivider\"></div>\n",
       "    <div class=\"systemInfo\">\n",
       "      <h3>System Info</h3>\n",
       "      Using FIFO scheduling algorithm.<br>Logical resource usage: 1.0/24 CPUs, 0.125/1 GPUs (0.0/1.0 accelerator_type:G)\n",
       "    </div>\n",
       "    \n",
       "  </div>\n",
       "  <div class=\"hDivider\"></div>\n",
       "  <div class=\"trialStatus\">\n",
       "    <h3>Trial Status</h3>\n",
       "    <table>\n",
       "<thead>\n",
       "<tr><th>Trial name            </th><th>status    </th><th>loc                  </th><th style=\"text-align: right;\">  batch_size</th><th style=\"text-align: right;\">  conv_layers</th><th style=\"text-align: right;\">  embedding_dim</th><th style=\"text-align: right;\">         l2</th><th style=\"text-align: right;\">  learning_rate</th><th style=\"text-align: right;\">  iter</th><th style=\"text-align: right;\">  total time (s)</th><th style=\"text-align: right;\">  iteration</th><th style=\"text-align: right;\">       loss</th><th style=\"text-align: right;\">    mf_loss</th></tr>\n",
       "</thead>\n",
       "<tbody>\n",
       "<tr><td>TrainLightGCN_b4d5ffd3</td><td>TERMINATED</td><td>147.96.81.131:3230663</td><td style=\"text-align: right;\">           8</td><td style=\"text-align: right;\">            3</td><td style=\"text-align: right;\">            100</td><td style=\"text-align: right;\">1e-05      </td><td style=\"text-align: right;\">         0.1   </td><td style=\"text-align: right;\">    40</td><td style=\"text-align: right;\">         11.4349</td><td style=\"text-align: right;\">        200</td><td style=\"text-align: right;\">0.154042   </td><td style=\"text-align: right;\">0.117106   </td></tr>\n",
       "<tr><td>TrainLightGCN_4c591499</td><td>TERMINATED</td><td>147.96.81.131:3230770</td><td style=\"text-align: right;\">           7</td><td style=\"text-align: right;\">            5</td><td style=\"text-align: right;\">             30</td><td style=\"text-align: right;\">2.8606e-05 </td><td style=\"text-align: right;\">         0.2347</td><td style=\"text-align: right;\">    40</td><td style=\"text-align: right;\">         27.5396</td><td style=\"text-align: right;\">        200</td><td style=\"text-align: right;\">0.267354   </td><td style=\"text-align: right;\">0.12911    </td></tr>\n",
       "<tr><td>TrainLightGCN_1c5aa8d2</td><td>TERMINATED</td><td>147.96.81.131:3230900</td><td style=\"text-align: right;\">           8</td><td style=\"text-align: right;\">            3</td><td style=\"text-align: right;\">              5</td><td style=\"text-align: right;\">5.24282e-05</td><td style=\"text-align: right;\">         0.22  </td><td style=\"text-align: right;\">    40</td><td style=\"text-align: right;\">         15.6308</td><td style=\"text-align: right;\">        200</td><td style=\"text-align: right;\">0.0976949  </td><td style=\"text-align: right;\">0.0929654  </td></tr>\n",
       "<tr><td>TrainLightGCN_2cacb1ad</td><td>TERMINATED</td><td>147.96.81.131:3231032</td><td style=\"text-align: right;\">           6</td><td style=\"text-align: right;\">            4</td><td style=\"text-align: right;\">            300</td><td style=\"text-align: right;\">8.92312e-07</td><td style=\"text-align: right;\">         0.0065</td><td style=\"text-align: right;\">    40</td><td style=\"text-align: right;\">         62.3174</td><td style=\"text-align: right;\">        200</td><td style=\"text-align: right;\">0.000994242</td><td style=\"text-align: right;\">0.000709648</td></tr>\n",
       "<tr><td>TrainLightGCN_3152e061</td><td>TERMINATED</td><td>147.96.81.131:3231165</td><td style=\"text-align: right;\">           5</td><td style=\"text-align: right;\">            3</td><td style=\"text-align: right;\">            215</td><td style=\"text-align: right;\">2.79193e-05</td><td style=\"text-align: right;\">         0.0005</td><td style=\"text-align: right;\">    40</td><td style=\"text-align: right;\">        101.871 </td><td style=\"text-align: right;\">        200</td><td style=\"text-align: right;\">0.00608602 </td><td style=\"text-align: right;\">0.00425104 </td></tr>\n",
       "<tr><td>TrainLightGCN_76c7f30d</td><td>TERMINATED</td><td>147.96.81.131:3231299</td><td style=\"text-align: right;\">           5</td><td style=\"text-align: right;\">            4</td><td style=\"text-align: right;\">              5</td><td style=\"text-align: right;\">0.00397996 </td><td style=\"text-align: right;\">         0.0038</td><td style=\"text-align: right;\">    40</td><td style=\"text-align: right;\">        101.209 </td><td style=\"text-align: right;\">        200</td><td style=\"text-align: right;\">0.143354   </td><td style=\"text-align: right;\">0.0900171  </td></tr>\n",
       "<tr><td>TrainLightGCN_11266433</td><td>TERMINATED</td><td>147.96.81.131:3231439</td><td style=\"text-align: right;\">           5</td><td style=\"text-align: right;\">            3</td><td style=\"text-align: right;\">              5</td><td style=\"text-align: right;\">0.0011209  </td><td style=\"text-align: right;\">         0.0002</td><td style=\"text-align: right;\">    40</td><td style=\"text-align: right;\">        102.977 </td><td style=\"text-align: right;\">        200</td><td style=\"text-align: right;\">0.199206   </td><td style=\"text-align: right;\">0.188503   </td></tr>\n",
       "<tr><td>TrainLightGCN_1b8392ce</td><td>TERMINATED</td><td>147.96.81.131:3231569</td><td style=\"text-align: right;\">           7</td><td style=\"text-align: right;\">            4</td><td style=\"text-align: right;\">            405</td><td style=\"text-align: right;\">0.00406073 </td><td style=\"text-align: right;\">         0.0014</td><td style=\"text-align: right;\">    40</td><td style=\"text-align: right;\">         40.702 </td><td style=\"text-align: right;\">        200</td><td style=\"text-align: right;\">0.106335   </td><td style=\"text-align: right;\">0.0394764  </td></tr>\n",
       "<tr><td>TrainLightGCN_443a692a</td><td>TERMINATED</td><td>147.96.81.131:3231702</td><td style=\"text-align: right;\">           5</td><td style=\"text-align: right;\">            1</td><td style=\"text-align: right;\">            205</td><td style=\"text-align: right;\">6.80694e-06</td><td style=\"text-align: right;\">         0.0085</td><td style=\"text-align: right;\">    40</td><td style=\"text-align: right;\">         99.0603</td><td style=\"text-align: right;\">        200</td><td style=\"text-align: right;\">0.00687999 </td><td style=\"text-align: right;\">0.00483418 </td></tr>\n",
       "<tr><td>TrainLightGCN_14cef882</td><td>TERMINATED</td><td>147.96.81.131:3231843</td><td style=\"text-align: right;\">           9</td><td style=\"text-align: right;\">            4</td><td style=\"text-align: right;\">            110</td><td style=\"text-align: right;\">0.000527247</td><td style=\"text-align: right;\">         0.0001</td><td style=\"text-align: right;\">    40</td><td style=\"text-align: right;\">         18.2314</td><td style=\"text-align: right;\">        200</td><td style=\"text-align: right;\">0.240458   </td><td style=\"text-align: right;\">0.236538   </td></tr>\n",
       "</tbody>\n",
       "</table>\n",
       "  </div>\n",
       "</div>\n",
       "<style>\n",
       ".tuneStatus {\n",
       "  color: var(--jp-ui-font-color1);\n",
       "}\n",
       ".tuneStatus .systemInfo {\n",
       "  display: flex;\n",
       "  flex-direction: column;\n",
       "}\n",
       ".tuneStatus td {\n",
       "  white-space: nowrap;\n",
       "}\n",
       ".tuneStatus .trialStatus {\n",
       "  display: flex;\n",
       "  flex-direction: column;\n",
       "}\n",
       ".tuneStatus h3 {\n",
       "  font-weight: bold;\n",
       "}\n",
       ".tuneStatus .hDivider {\n",
       "  border-bottom-width: var(--jp-border-width);\n",
       "  border-bottom-color: var(--jp-border-color0);\n",
       "  border-bottom-style: solid;\n",
       "}\n",
       ".tuneStatus .vDivider {\n",
       "  border-left-width: var(--jp-border-width);\n",
       "  border-left-color: var(--jp-border-color0);\n",
       "  border-left-style: solid;\n",
       "  margin: 0.5em 1em 0.5em 1em;\n",
       "}\n",
       "</style>\n"
      ],
      "text/plain": [
       "<IPython.core.display.HTML object>"
      ]
     },
     "metadata": {},
     "output_type": "display_data"
    },
    {
     "name": "stderr",
     "output_type": "stream",
     "text": [
      "\u001b[2m\u001b[36m(pid=3230663)\u001b[0m 2023-11-27 11:33:04.890277: E tensorflow/compiler/xla/stream_executor/cuda/cuda_dnn.cc:9342] Unable to register cuDNN factory: Attempting to register factory for plugin cuDNN when one has already been registered\n",
      "\u001b[2m\u001b[36m(pid=3230663)\u001b[0m 2023-11-27 11:33:04.890308: E tensorflow/compiler/xla/stream_executor/cuda/cuda_fft.cc:609] Unable to register cuFFT factory: Attempting to register factory for plugin cuFFT when one has already been registered\n",
      "\u001b[2m\u001b[36m(pid=3230663)\u001b[0m 2023-11-27 11:33:04.890321: E tensorflow/compiler/xla/stream_executor/cuda/cuda_blas.cc:1518] Unable to register cuBLAS factory: Attempting to register factory for plugin cuBLAS when one has already been registered\n",
      "\u001b[2m\u001b[36m(TrainLightGCN pid=3230663)\u001b[0m /home/daviddavo/upm-tfm-notebooks/.direnv/python-3.9/lib/python3.9/site-packages/recommenders/models/deeprec/DataModel/ImplicitCF.py:73: FutureWarning: The frame.append method is deprecated and will be removed from pandas in a future version. Use pandas.concat instead.\n",
      "\u001b[2m\u001b[36m(TrainLightGCN pid=3230663)\u001b[0m   df = train if test is None else train.append(test)\n"
     ]
    },
    {
     "name": "stdout",
     "output_type": "stream",
     "text": [
      "\u001b[2m\u001b[36m(TrainLightGCN pid=3230663)\u001b[0m Already create adjacency matrix.\n",
      "\u001b[2m\u001b[36m(TrainLightGCN pid=3230663)\u001b[0m Already normalize adjacency matrix.\n",
      "\u001b[2m\u001b[36m(TrainLightGCN pid=3230663)\u001b[0m Using xavier initialization.\n"
     ]
    },
    {
     "name": "stderr",
     "output_type": "stream",
     "text": [
      "\u001b[2m\u001b[36m(pid=3230900)\u001b[0m 2023-11-27 11:33:10.003333: E tensorflow/compiler/xla/stream_executor/cuda/cuda_dnn.cc:9342] Unable to register cuDNN factory: Attempting to register factory for plugin cuDNN when one has already been registered\u001b[32m [repeated 2x across cluster]\u001b[0m\n",
      "\u001b[2m\u001b[36m(pid=3230900)\u001b[0m 2023-11-27 11:33:10.003365: E tensorflow/compiler/xla/stream_executor/cuda/cuda_fft.cc:609] Unable to register cuFFT factory: Attempting to register factory for plugin cuFFT when one has already been registered\u001b[32m [repeated 2x across cluster]\u001b[0m\n",
      "\u001b[2m\u001b[36m(pid=3230900)\u001b[0m 2023-11-27 11:33:10.003377: E tensorflow/compiler/xla/stream_executor/cuda/cuda_blas.cc:1518] Unable to register cuBLAS factory: Attempting to register factory for plugin cuBLAS when one has already been registered\u001b[32m [repeated 2x across cluster]\u001b[0m\n",
      "\u001b[2m\u001b[36m(TrainLightGCN pid=3230900)\u001b[0m /home/daviddavo/upm-tfm-notebooks/.direnv/python-3.9/lib/python3.9/site-packages/recommenders/models/deeprec/DataModel/ImplicitCF.py:73: FutureWarning: The frame.append method is deprecated and will be removed from pandas in a future version. Use pandas.concat instead.\u001b[32m [repeated 2x across cluster]\u001b[0m\n",
      "\u001b[2m\u001b[36m(TrainLightGCN pid=3230900)\u001b[0m   df = train if test is None else train.append(test)\u001b[32m [repeated 2x across cluster]\u001b[0m\n"
     ]
    },
    {
     "name": "stdout",
     "output_type": "stream",
     "text": [
      "\u001b[2m\u001b[36m(TrainLightGCN pid=3230900)\u001b[0m Already create adjacency matrix.\u001b[32m [repeated 2x across cluster]\u001b[0m\n",
      "\u001b[2m\u001b[36m(TrainLightGCN pid=3230900)\u001b[0m Already normalize adjacency matrix.\u001b[32m [repeated 2x across cluster]\u001b[0m\n",
      "\u001b[2m\u001b[36m(TrainLightGCN pid=3230900)\u001b[0m Using xavier initialization.\u001b[32m [repeated 2x across cluster]\u001b[0m\n"
     ]
    },
    {
     "name": "stderr",
     "output_type": "stream",
     "text": [
      "\u001b[2m\u001b[36m(pid=3231165)\u001b[0m 2023-11-27 11:33:15.350001: E tensorflow/compiler/xla/stream_executor/cuda/cuda_dnn.cc:9342] Unable to register cuDNN factory: Attempting to register factory for plugin cuDNN when one has already been registered\u001b[32m [repeated 2x across cluster]\u001b[0m\n",
      "\u001b[2m\u001b[36m(pid=3231165)\u001b[0m 2023-11-27 11:33:15.350036: E tensorflow/compiler/xla/stream_executor/cuda/cuda_fft.cc:609] Unable to register cuFFT factory: Attempting to register factory for plugin cuFFT when one has already been registered\u001b[32m [repeated 2x across cluster]\u001b[0m\n",
      "\u001b[2m\u001b[36m(pid=3231165)\u001b[0m 2023-11-27 11:33:15.350051: E tensorflow/compiler/xla/stream_executor/cuda/cuda_blas.cc:1518] Unable to register cuBLAS factory: Attempting to register factory for plugin cuBLAS when one has already been registered\u001b[32m [repeated 2x across cluster]\u001b[0m\n",
      "\u001b[2m\u001b[36m(TrainLightGCN pid=3231165)\u001b[0m /home/daviddavo/upm-tfm-notebooks/.direnv/python-3.9/lib/python3.9/site-packages/recommenders/models/deeprec/DataModel/ImplicitCF.py:73: FutureWarning: The frame.append method is deprecated and will be removed from pandas in a future version. Use pandas.concat instead.\u001b[32m [repeated 2x across cluster]\u001b[0m\n",
      "\u001b[2m\u001b[36m(TrainLightGCN pid=3231165)\u001b[0m   df = train if test is None else train.append(test)\u001b[32m [repeated 2x across cluster]\u001b[0m\n"
     ]
    },
    {
     "name": "stdout",
     "output_type": "stream",
     "text": [
      "\u001b[2m\u001b[36m(TrainLightGCN pid=3231165)\u001b[0m Already create adjacency matrix.\u001b[32m [repeated 2x across cluster]\u001b[0m\n",
      "\u001b[2m\u001b[36m(TrainLightGCN pid=3231165)\u001b[0m Already normalize adjacency matrix.\u001b[32m [repeated 2x across cluster]\u001b[0m\n",
      "\u001b[2m\u001b[36m(TrainLightGCN pid=3231165)\u001b[0m Using xavier initialization.\u001b[32m [repeated 2x across cluster]\u001b[0m\n"
     ]
    },
    {
     "name": "stderr",
     "output_type": "stream",
     "text": [
      "\u001b[2m\u001b[36m(TrainLightGCN pid=3230663)\u001b[0m Checkpoint successfully created at: Checkpoint(filesystem=local, path=/home/daviddavo/ray_results/LightGCN_dao=Decentraland,fold=1_2023-11-27T11:31:45.350771/TrainLightGCN_b4d5ffd3_1_batch_size=8,conv_layers=3,embedding_dim=100,l2=0.0000,learning_rate=0.1000_2023-11-27_11-33-03/checkpoint_000000)\n",
      "\u001b[2m\u001b[36m(pid=3231439)\u001b[0m 2023-11-27 11:33:21.028755: E tensorflow/compiler/xla/stream_executor/cuda/cuda_dnn.cc:9342] Unable to register cuDNN factory: Attempting to register factory for plugin cuDNN when one has already been registered\u001b[32m [repeated 2x across cluster]\u001b[0m\n",
      "\u001b[2m\u001b[36m(pid=3231439)\u001b[0m 2023-11-27 11:33:21.028790: E tensorflow/compiler/xla/stream_executor/cuda/cuda_fft.cc:609] Unable to register cuFFT factory: Attempting to register factory for plugin cuFFT when one has already been registered\u001b[32m [repeated 2x across cluster]\u001b[0m\n",
      "\u001b[2m\u001b[36m(pid=3231439)\u001b[0m 2023-11-27 11:33:21.028803: E tensorflow/compiler/xla/stream_executor/cuda/cuda_blas.cc:1518] Unable to register cuBLAS factory: Attempting to register factory for plugin cuBLAS when one has already been registered\u001b[32m [repeated 2x across cluster]\u001b[0m\n",
      "\u001b[2m\u001b[36m(TrainLightGCN pid=3231439)\u001b[0m /home/daviddavo/upm-tfm-notebooks/.direnv/python-3.9/lib/python3.9/site-packages/recommenders/models/deeprec/DataModel/ImplicitCF.py:73: FutureWarning: The frame.append method is deprecated and will be removed from pandas in a future version. Use pandas.concat instead.\u001b[32m [repeated 2x across cluster]\u001b[0m\n",
      "\u001b[2m\u001b[36m(TrainLightGCN pid=3231439)\u001b[0m   df = train if test is None else train.append(test)\u001b[32m [repeated 2x across cluster]\u001b[0m\n"
     ]
    },
    {
     "name": "stdout",
     "output_type": "stream",
     "text": [
      "\u001b[2m\u001b[36m(TrainLightGCN pid=3231439)\u001b[0m Already create adjacency matrix.\u001b[32m [repeated 2x across cluster]\u001b[0m\n",
      "\u001b[2m\u001b[36m(TrainLightGCN pid=3231439)\u001b[0m Already normalize adjacency matrix.\u001b[32m [repeated 2x across cluster]\u001b[0m\n",
      "\u001b[2m\u001b[36m(TrainLightGCN pid=3231439)\u001b[0m Using xavier initialization.\u001b[32m [repeated 2x across cluster]\u001b[0m\n"
     ]
    },
    {
     "name": "stderr",
     "output_type": "stream",
     "text": [
      "\u001b[2m\u001b[36m(pid=3231702)\u001b[0m 2023-11-27 11:33:27.024618: E tensorflow/compiler/xla/stream_executor/cuda/cuda_dnn.cc:9342] Unable to register cuDNN factory: Attempting to register factory for plugin cuDNN when one has already been registered\u001b[32m [repeated 2x across cluster]\u001b[0m\n",
      "\u001b[2m\u001b[36m(pid=3231702)\u001b[0m 2023-11-27 11:33:27.024656: E tensorflow/compiler/xla/stream_executor/cuda/cuda_fft.cc:609] Unable to register cuFFT factory: Attempting to register factory for plugin cuFFT when one has already been registered\u001b[32m [repeated 2x across cluster]\u001b[0m\n",
      "\u001b[2m\u001b[36m(pid=3231702)\u001b[0m 2023-11-27 11:33:27.024667: E tensorflow/compiler/xla/stream_executor/cuda/cuda_blas.cc:1518] Unable to register cuBLAS factory: Attempting to register factory for plugin cuBLAS when one has already been registered\u001b[32m [repeated 2x across cluster]\u001b[0m\n",
      "\u001b[2m\u001b[36m(TrainLightGCN pid=3230900)\u001b[0m Checkpoint successfully created at: Checkpoint(filesystem=local, path=/home/daviddavo/ray_results/LightGCN_dao=Decentraland,fold=1_2023-11-27T11:31:45.350771/TrainLightGCN_1c5aa8d2_3_batch_size=8,conv_layers=3,embedding_dim=5,l2=0.0001,learning_rate=0.2200_2023-11-27_11-33-08/checkpoint_000000)\n",
      "\u001b[2m\u001b[36m(TrainLightGCN pid=3231569)\u001b[0m /home/daviddavo/upm-tfm-notebooks/.direnv/python-3.9/lib/python3.9/site-packages/recommenders/models/deeprec/DataModel/ImplicitCF.py:73: FutureWarning: The frame.append method is deprecated and will be removed from pandas in a future version. Use pandas.concat instead.\n",
      "\u001b[2m\u001b[36m(TrainLightGCN pid=3231569)\u001b[0m   df = train if test is None else train.append(test)\n",
      "\u001b[2m\u001b[36m(TrainLightGCN pid=3231702)\u001b[0m /home/daviddavo/upm-tfm-notebooks/.direnv/python-3.9/lib/python3.9/site-packages/recommenders/models/deeprec/DataModel/ImplicitCF.py:73: FutureWarning: The frame.append method is deprecated and will be removed from pandas in a future version. Use pandas.concat instead.\n",
      "\u001b[2m\u001b[36m(TrainLightGCN pid=3231702)\u001b[0m   df = train if test is None else train.append(test)\n"
     ]
    },
    {
     "name": "stdout",
     "output_type": "stream",
     "text": [
      "\u001b[2m\u001b[36m(TrainLightGCN pid=3231702)\u001b[0m Already create adjacency matrix.\u001b[32m [repeated 2x across cluster]\u001b[0m\n",
      "\u001b[2m\u001b[36m(TrainLightGCN pid=3231702)\u001b[0m Already normalize adjacency matrix.\u001b[32m [repeated 2x across cluster]\u001b[0m\n",
      "\u001b[2m\u001b[36m(TrainLightGCN pid=3231702)\u001b[0m Using xavier initialization.\u001b[32m [repeated 2x across cluster]\u001b[0m\n"
     ]
    },
    {
     "name": "stderr",
     "output_type": "stream",
     "text": [
      "\u001b[2m\u001b[36m(pid=3231843)\u001b[0m 2023-11-27 11:33:30.141335: E tensorflow/compiler/xla/stream_executor/cuda/cuda_dnn.cc:9342] Unable to register cuDNN factory: Attempting to register factory for plugin cuDNN when one has already been registered\n",
      "\u001b[2m\u001b[36m(pid=3231843)\u001b[0m 2023-11-27 11:33:30.141371: E tensorflow/compiler/xla/stream_executor/cuda/cuda_fft.cc:609] Unable to register cuFFT factory: Attempting to register factory for plugin cuFFT when one has already been registered\n",
      "\u001b[2m\u001b[36m(pid=3231843)\u001b[0m 2023-11-27 11:33:30.141384: E tensorflow/compiler/xla/stream_executor/cuda/cuda_blas.cc:1518] Unable to register cuBLAS factory: Attempting to register factory for plugin cuBLAS when one has already been registered\n",
      "\u001b[2m\u001b[36m(TrainLightGCN pid=3230770)\u001b[0m Checkpoint successfully created at: Checkpoint(filesystem=local, path=/home/daviddavo/ray_results/LightGCN_dao=Decentraland,fold=1_2023-11-27T11:31:45.350771/TrainLightGCN_4c591499_2_batch_size=7,conv_layers=5,embedding_dim=30,l2=0.0000,learning_rate=0.2347_2023-11-27_11-33-06/checkpoint_000000)\n",
      "\u001b[2m\u001b[36m(TrainLightGCN pid=3231843)\u001b[0m /home/daviddavo/upm-tfm-notebooks/.direnv/python-3.9/lib/python3.9/site-packages/recommenders/models/deeprec/DataModel/ImplicitCF.py:73: FutureWarning: The frame.append method is deprecated and will be removed from pandas in a future version. Use pandas.concat instead.\n",
      "\u001b[2m\u001b[36m(TrainLightGCN pid=3231843)\u001b[0m   df = train if test is None else train.append(test)\n",
      "\u001b[2m\u001b[36m(TrainLightGCN pid=3231843)\u001b[0m Checkpoint successfully created at: Checkpoint(filesystem=local, path=/home/daviddavo/ray_results/LightGCN_dao=Decentraland,fold=1_2023-11-27T11:31:45.350771/TrainLightGCN_14cef882_10_batch_size=9,conv_layers=4,embedding_dim=110,l2=0.0005,learning_rate=0.0001_2023-11-27_11-33-28/checkpoint_000000)\n",
      "\u001b[2m\u001b[36m(TrainLightGCN pid=3231569)\u001b[0m Checkpoint successfully created at: Checkpoint(filesystem=local, path=/home/daviddavo/ray_results/LightGCN_dao=Decentraland,fold=1_2023-11-27T11:31:45.350771/TrainLightGCN_1b8392ce_8_batch_size=7,conv_layers=4,embedding_dim=405,l2=0.0041,learning_rate=0.0014_2023-11-27_11-33-22/checkpoint_000000)\n",
      "\u001b[2m\u001b[36m(TrainLightGCN pid=3231032)\u001b[0m Checkpoint successfully created at: Checkpoint(filesystem=local, path=/home/daviddavo/ray_results/LightGCN_dao=Decentraland,fold=1_2023-11-27T11:31:45.350771/TrainLightGCN_2cacb1ad_4_batch_size=6,conv_layers=4,embedding_dim=300,l2=0.0000,learning_rate=0.0065_2023-11-27_11-33-11/checkpoint_000000)\n",
      "\u001b[2m\u001b[36m(TrainLightGCN pid=3231165)\u001b[0m Checkpoint successfully created at: Checkpoint(filesystem=local, path=/home/daviddavo/ray_results/LightGCN_dao=Decentraland,fold=1_2023-11-27T11:31:45.350771/TrainLightGCN_3152e061_5_batch_size=5,conv_layers=3,embedding_dim=215,l2=0.0000,learning_rate=0.0005_2023-11-27_11-33-14/checkpoint_000000)\n",
      "\u001b[2m\u001b[36m(TrainLightGCN pid=3231299)\u001b[0m Checkpoint successfully created at: Checkpoint(filesystem=local, path=/home/daviddavo/ray_results/LightGCN_dao=Decentraland,fold=1_2023-11-27T11:31:45.350771/TrainLightGCN_76c7f30d_6_batch_size=5,conv_layers=4,embedding_dim=5,l2=0.0040,learning_rate=0.0038_2023-11-27_11-33-17/checkpoint_000000)\n",
      "2023-11-27 11:35:08,178\tINFO tune.py:1143 -- Total run time: 124.28 seconds (124.25 seconds for the tuning loop).\n"
     ]
    },
    {
     "data": {
      "text/plain": [
       "ResultGrid<[\n",
       "  Result(\n",
       "    metrics={'iteration': 200, 'loss': 0.1540416529774666, 'mf_loss': 0.11710555890473452, 'emb_loss': 0.03693609341979027, 'model_recall': 0.8099173553719008, 'model_ndcg': 0.40266699365531883, 'model_precision': 0.16198347107438016, 'model_map': 0.2672176308539945, 'precision@5': 0.18842975206611567, 'ndcg@5': 0.5667554888817862, 'recall@5': 0.903482880755608, 'map@5': 0.44366883116883127, 'precision@10': 0.10247933884297519, 'ndcg@10': 0.5831849356243723, 'recall@10': 0.95543093270366, 'map@10': 0.45190869736324285, 'time_train': 0.339479923248291, 'time_test': 0.08572196960449219, 'time_total_train': 9.175868511199951, 'time_total_test': 2.2585694789886475},\n",
       "    path='/home/daviddavo/ray_results/LightGCN_dao=Decentraland,fold=1_2023-11-27T11:31:45.350771/TrainLightGCN_b4d5ffd3_1_batch_size=8,conv_layers=3,embedding_dim=100,l2=0.0000,learning_rate=0.1000_2023-11-27_11-33-03',\n",
       "    filesystem='local',\n",
       "    checkpoint=Checkpoint(filesystem=local, path=/home/daviddavo/ray_results/LightGCN_dao=Decentraland,fold=1_2023-11-27T11:31:45.350771/TrainLightGCN_b4d5ffd3_1_batch_size=8,conv_layers=3,embedding_dim=100,l2=0.0000,learning_rate=0.1000_2023-11-27_11-33-03/checkpoint_000000)\n",
       "  ),\n",
       "  Result(\n",
       "    metrics={'iteration': 200, 'loss': 0.26735391497612004, 'mf_loss': 0.1291098942022506, 'emb_loss': 0.13824402034282685, 'model_recall': 0.028925619834710745, 'model_ndcg': 0.014153117697950274, 'model_precision': 0.006611570247933885, 'model_map': 0.008884297520661156, 'precision@5': 0.047933884297520664, 'ndcg@5': 0.12196054735823236, 'recall@5': 0.173258559622196, 'map@5': 0.09991145218417943, 'precision@10': 0.10661157024793387, 'ndcg@10': 0.38745654113404243, 'recall@10': 0.9752066115702479, 'map@10': 0.21622580161541197, 'time_train': 1.120642900466919, 'time_test': 0.06682753562927246, 'time_total_train': 24.93497085571289, 'time_total_test': 2.6041371822357178},\n",
       "    path='/home/daviddavo/ray_results/LightGCN_dao=Decentraland,fold=1_2023-11-27T11:31:45.350771/TrainLightGCN_4c591499_2_batch_size=7,conv_layers=5,embedding_dim=30,l2=0.0000,learning_rate=0.2347_2023-11-27_11-33-06',\n",
       "    filesystem='local',\n",
       "    checkpoint=Checkpoint(filesystem=local, path=/home/daviddavo/ray_results/LightGCN_dao=Decentraland,fold=1_2023-11-27T11:31:45.350771/TrainLightGCN_4c591499_2_batch_size=7,conv_layers=5,embedding_dim=30,l2=0.0000,learning_rate=0.2347_2023-11-27_11-33-06/checkpoint_000000)\n",
       "  ),\n",
       "  Result(\n",
       "    metrics={'iteration': 200, 'loss': 0.09769487395882606, 'mf_loss': 0.09296543240547181, 'emb_loss': 0.004729442093521357, 'model_recall': 0.0, 'model_ndcg': 0.0, 'model_precision': 0.0, 'model_map': 0.0, 'precision@5': 0.08595041322314048, 'ndcg@5': 0.22469034890693665, 'recall@5': 0.3857733175914994, 'map@5': 0.1670749704840614, 'precision@10': 0.10082644628099173, 'ndcg@10': 0.404094863024689, 'recall@10': 0.9318181818181818, 'map@10': 0.2444039185922303, 'time_train': 0.42097997665405273, 'time_test': 0.04480862617492676, 'time_total_train': 12.983648538589478, 'time_total_test': 2.64664888381958},\n",
       "    path='/home/daviddavo/ray_results/LightGCN_dao=Decentraland,fold=1_2023-11-27T11:31:45.350771/TrainLightGCN_1c5aa8d2_3_batch_size=8,conv_layers=3,embedding_dim=5,l2=0.0001,learning_rate=0.2200_2023-11-27_11-33-08',\n",
       "    filesystem='local',\n",
       "    checkpoint=Checkpoint(filesystem=local, path=/home/daviddavo/ray_results/LightGCN_dao=Decentraland,fold=1_2023-11-27T11:31:45.350771/TrainLightGCN_1c5aa8d2_3_batch_size=8,conv_layers=3,embedding_dim=5,l2=0.0001,learning_rate=0.2200_2023-11-27_11-33-08/checkpoint_000000)\n",
       "  ),\n",
       "  Result(\n",
       "    metrics={'iteration': 200, 'loss': 0.0009942420892184599, 'mf_loss': 0.0007096477366940236, 'emb_loss': 0.0002845943666761741, 'model_recall': 0.008264462809917356, 'model_ndcg': 0.005214295484061633, 'model_precision': 0.0016528925619834713, 'model_map': 0.004132231404958678, 'precision@5': 0.19669421487603303, 'ndcg@5': 0.4992214954588267, 'recall@5': 0.9489374262101534, 'map@5': 0.3452184179456907, 'precision@10': 0.10165289256198347, 'ndcg@10': 0.5036285226230328, 'recall@10': 0.9645808736717827, 'map@10': 0.3480043945953037, 'time_train': 1.2298681735992432, 'time_test': 0.049031734466552734, 'time_total_train': 59.20636463165283, 'time_total_test': 3.1105079650878906},\n",
       "    path='/home/daviddavo/ray_results/LightGCN_dao=Decentraland,fold=1_2023-11-27T11:31:45.350771/TrainLightGCN_2cacb1ad_4_batch_size=6,conv_layers=4,embedding_dim=300,l2=0.0000,learning_rate=0.0065_2023-11-27_11-33-11',\n",
       "    filesystem='local',\n",
       "    checkpoint=Checkpoint(filesystem=local, path=/home/daviddavo/ray_results/LightGCN_dao=Decentraland,fold=1_2023-11-27T11:31:45.350771/TrainLightGCN_2cacb1ad_4_batch_size=6,conv_layers=4,embedding_dim=300,l2=0.0000,learning_rate=0.0065_2023-11-27_11-33-11/checkpoint_000000)\n",
       "  ),\n",
       "  Result(\n",
       "    metrics={'iteration': 200, 'loss': 0.006086016689077953, 'mf_loss': 0.004251040045328408, 'emb_loss': 0.0018349766073515635, 'model_recall': 0.01652892561983471, 'model_ndcg': 0.007691541802259447, 'model_precision': 0.0033057851239669425, 'model_map': 0.004820936639118457, 'precision@5': 0.19834710743801653, 'ndcg@5': 0.7397907169252521, 'recall@5': 0.9397874852420308, 'map@5': 0.6642365210547029, 'precision@10': 0.1049586776859504, 'ndcg@10': 0.7487005926569347, 'recall@10': 0.9669421487603306, 'map@10': 0.6712613144431326, 'time_train': 2.043100118637085, 'time_test': 0.05506300926208496, 'time_total_train': 98.6404492855072, 'time_total_test': 3.22994065284729},\n",
       "    path='/home/daviddavo/ray_results/LightGCN_dao=Decentraland,fold=1_2023-11-27T11:31:45.350771/TrainLightGCN_3152e061_5_batch_size=5,conv_layers=3,embedding_dim=215,l2=0.0000,learning_rate=0.0005_2023-11-27_11-33-14',\n",
       "    filesystem='local',\n",
       "    checkpoint=Checkpoint(filesystem=local, path=/home/daviddavo/ray_results/LightGCN_dao=Decentraland,fold=1_2023-11-27T11:31:45.350771/TrainLightGCN_3152e061_5_batch_size=5,conv_layers=3,embedding_dim=215,l2=0.0000,learning_rate=0.0005_2023-11-27_11-33-14/checkpoint_000000)\n",
       "  ),\n",
       "  Result(\n",
       "    metrics={'iteration': 200, 'loss': 0.1433536450564861, 'mf_loss': 0.09001712670549744, 'emb_loss': 0.053336517829447976, 'model_recall': 0.0, 'model_ndcg': 0.0, 'model_precision': 0.0, 'model_map': 0.0, 'precision@5': 0.19999999999999998, 'ndcg@5': 0.5043583588606532, 'recall@5': 0.9397874852420308, 'map@5': 0.35418142463597, 'precision@10': 0.10578512396694215, 'ndcg@10': 0.5143265203028039, 'recall@10': 0.9710743801652892, 'map@10': 0.36120809205224785, 'time_train': 1.9718043804168701, 'time_test': 0.039975881576538086, 'time_total_train': 98.21420478820801, 'time_total_test': 2.9940285682678223},\n",
       "    path='/home/daviddavo/ray_results/LightGCN_dao=Decentraland,fold=1_2023-11-27T11:31:45.350771/TrainLightGCN_76c7f30d_6_batch_size=5,conv_layers=4,embedding_dim=5,l2=0.0040,learning_rate=0.0038_2023-11-27_11-33-17',\n",
       "    filesystem='local',\n",
       "    checkpoint=Checkpoint(filesystem=local, path=/home/daviddavo/ray_results/LightGCN_dao=Decentraland,fold=1_2023-11-27T11:31:45.350771/TrainLightGCN_76c7f30d_6_batch_size=5,conv_layers=4,embedding_dim=5,l2=0.0040,learning_rate=0.0038_2023-11-27_11-33-17/checkpoint_000000)\n",
       "  ),\n",
       "  Result(\n",
       "    metrics={'iteration': 200, 'loss': 0.19920575533062224, 'mf_loss': 0.18850328205153358, 'emb_loss': 0.010702473088167602, 'model_recall': 0.0, 'model_ndcg': 0.0, 'model_precision': 0.0, 'model_map': 0.0, 'precision@5': 0.19834710743801653, 'ndcg@5': 0.4057326201217288, 'recall@5': 0.9436245572609209, 'map@5': 0.23667847304210946, 'precision@10': 0.10330578512396695, 'ndcg@10': 0.41301408559720887, 'recall@10': 0.9645808736717827, 'map@10': 0.24159779614325072, 'time_train': 2.5427279472351074, 'time_test': 0.047751665115356445, 'time_total_train': 99.94681668281555, 'time_total_test': 3.0293400287628174},\n",
       "    path='/home/daviddavo/ray_results/LightGCN_dao=Decentraland,fold=1_2023-11-27T11:31:45.350771/TrainLightGCN_11266433_7_batch_size=5,conv_layers=3,embedding_dim=5,l2=0.0011,learning_rate=0.0002_2023-11-27_11-33-19',\n",
       "    filesystem='local',\n",
       "    checkpoint=Checkpoint(filesystem=local, path=/home/daviddavo/ray_results/LightGCN_dao=Decentraland,fold=1_2023-11-27T11:31:45.350771/TrainLightGCN_11266433_7_batch_size=5,conv_layers=3,embedding_dim=5,l2=0.0011,learning_rate=0.0002_2023-11-27_11-33-19/checkpoint_000000)\n",
       "  ),\n",
       "  Result(\n",
       "    metrics={'iteration': 200, 'loss': 0.10633511692285534, 'mf_loss': 0.039476435817778106, 'emb_loss': 0.06685868106782436, 'model_recall': 0.008264462809917356, 'model_ndcg': 0.0035593103973007695, 'model_precision': 0.0016528925619834713, 'model_map': 0.002066115702479339, 'precision@5': 0.2016528925619835, 'ndcg@5': 0.5083082022224349, 'recall@5': 0.9418536009445101, 'map@5': 0.35934671389216843, 'precision@10': 0.10578512396694215, 'ndcg@10': 0.5172485261204615, 'recall@10': 0.9710743801652892, 'map@10': 0.3658730158730159, 'time_train': 0.8054873943328857, 'time_test': 0.05943036079406738, 'time_total_train': 37.33308744430542, 'time_total_test': 3.36836314201355},\n",
       "    path='/home/daviddavo/ray_results/LightGCN_dao=Decentraland,fold=1_2023-11-27T11:31:45.350771/TrainLightGCN_1b8392ce_8_batch_size=7,conv_layers=4,embedding_dim=405,l2=0.0041,learning_rate=0.0014_2023-11-27_11-33-22',\n",
       "    filesystem='local',\n",
       "    checkpoint=Checkpoint(filesystem=local, path=/home/daviddavo/ray_results/LightGCN_dao=Decentraland,fold=1_2023-11-27T11:31:45.350771/TrainLightGCN_1b8392ce_8_batch_size=7,conv_layers=4,embedding_dim=405,l2=0.0041,learning_rate=0.0014_2023-11-27_11-33-22/checkpoint_000000)\n",
       "  ),\n",
       "  Result(\n",
       "    metrics={'iteration': 200, 'loss': 0.006879993180045858, 'mf_loss': 0.004834177482318403, 'emb_loss': 0.0020458156469976524, 'model_recall': 0.008264462809917356, 'model_ndcg': 0.0035593103973007695, 'model_precision': 0.0016528925619834713, 'model_map': 0.002066115702479339, 'precision@5': 0.1917355371900826, 'ndcg@5': 0.48093980318983126, 'recall@5': 0.8993506493506493, 'map@5': 0.33651121605667067, 'precision@10': 0.10578512396694215, 'ndcg@10': 0.5058738244100223, 'recall@10': 0.974025974025974, 'map@10': 0.3498004160341823, 'time_train': 1.390486717224121, 'time_test': 0.047280073165893555, 'time_total_train': 95.8281044960022, 'time_total_test': 3.231718063354492},\n",
       "    path='/home/daviddavo/ray_results/LightGCN_dao=Decentraland,fold=1_2023-11-27T11:31:45.350771/TrainLightGCN_443a692a_9_batch_size=5,conv_layers=1,embedding_dim=205,l2=0.0000,learning_rate=0.0085_2023-11-27_11-33-25',\n",
       "    filesystem='local',\n",
       "    checkpoint=Checkpoint(filesystem=local, path=/home/daviddavo/ray_results/LightGCN_dao=Decentraland,fold=1_2023-11-27T11:31:45.350771/TrainLightGCN_443a692a_9_batch_size=5,conv_layers=1,embedding_dim=205,l2=0.0000,learning_rate=0.0085_2023-11-27_11-33-25/checkpoint_000000)\n",
       "  ),\n",
       "  Result(\n",
       "    metrics={'iteration': 200, 'loss': 0.24045756573860463, 'mf_loss': 0.2365381671832158, 'emb_loss': 0.003919397247955203, 'model_recall': 0.0, 'model_ndcg': 0.0, 'model_precision': 0.0, 'model_map': 0.0, 'precision@5': 0.029752066115702486, 'ndcg@5': 0.07988924624084666, 'recall@5': 0.11481700118063753, 'map@5': 0.06538764266036994, 'precision@10': 0.02066115702479339, 'ndcg@10': 0.089789180370363, 'recall@10': 0.141086186540732, 'map@10': 0.07042784055771069, 'time_train': 0.3957998752593994, 'time_test': 0.07282447814941406, 'time_total_train': 14.8672513961792, 'time_total_test': 3.3636252880096436},\n",
       "    path='/home/daviddavo/ray_results/LightGCN_dao=Decentraland,fold=1_2023-11-27T11:31:45.350771/TrainLightGCN_14cef882_10_batch_size=9,conv_layers=4,embedding_dim=110,l2=0.0005,learning_rate=0.0001_2023-11-27_11-33-28',\n",
       "    filesystem='local',\n",
       "    checkpoint=Checkpoint(filesystem=local, path=/home/daviddavo/ray_results/LightGCN_dao=Decentraland,fold=1_2023-11-27T11:31:45.350771/TrainLightGCN_14cef882_10_batch_size=9,conv_layers=4,embedding_dim=110,l2=0.0005,learning_rate=0.0001_2023-11-27_11-33-28/checkpoint_000000)\n",
       "  )\n",
       "]>"
      ]
     },
     "execution_count": 18,
     "metadata": {},
     "output_type": "execute_result"
    }
   ],
   "source": [
    "tuners[1].fit()"
   ]
  },
  {
   "cell_type": "code",
   "execution_count": 19,
   "id": "115ddeaf-3776-493e-9d12-43ea6d60463b",
   "metadata": {},
   "outputs": [
    {
     "data": {
      "text/html": [
       "<div class=\"tuneStatus\">\n",
       "  <div style=\"display: flex;flex-direction: row\">\n",
       "    <div style=\"display: flex;flex-direction: column;\">\n",
       "      <h3>Tune Status</h3>\n",
       "      <table>\n",
       "<tbody>\n",
       "<tr><td>Current time:</td><td>2023-11-27 11:35:36</td></tr>\n",
       "<tr><td>Running for: </td><td>00:00:28.73        </td></tr>\n",
       "<tr><td>Memory:      </td><td>15.9/125.6 GiB     </td></tr>\n",
       "</tbody>\n",
       "</table>\n",
       "    </div>\n",
       "    <div class=\"vDivider\"></div>\n",
       "    <div class=\"systemInfo\">\n",
       "      <h3>System Info</h3>\n",
       "      Using FIFO scheduling algorithm.<br>Logical resource usage: 8.0/24 CPUs, 1.0/1 GPUs (0.0/1.0 accelerator_type:G)\n",
       "    </div>\n",
       "    \n",
       "  </div>\n",
       "  <div class=\"hDivider\"></div>\n",
       "  <div class=\"trialStatus\">\n",
       "    <h3>Trial Status</h3>\n",
       "    <table>\n",
       "<thead>\n",
       "<tr><th>Trial name            </th><th>status  </th><th>loc                  </th><th style=\"text-align: right;\">  batch_size</th><th style=\"text-align: right;\">  conv_layers</th><th style=\"text-align: right;\">  embedding_dim</th><th style=\"text-align: right;\">         l2</th><th style=\"text-align: right;\">  learning_rate</th><th style=\"text-align: right;\">  iter</th><th style=\"text-align: right;\">  total time (s)</th><th style=\"text-align: right;\">  iteration</th><th style=\"text-align: right;\">    loss</th><th style=\"text-align: right;\">  mf_loss</th></tr>\n",
       "</thead>\n",
       "<tbody>\n",
       "<tr><td>TrainLightGCN_aa592f54</td><td>RUNNING </td><td>147.96.81.131:3232073</td><td style=\"text-align: right;\">           8</td><td style=\"text-align: right;\">            3</td><td style=\"text-align: right;\">            100</td><td style=\"text-align: right;\">1e-05      </td><td style=\"text-align: right;\">         0.1   </td><td style=\"text-align: right;\">     3</td><td style=\"text-align: right;\">        25.5241 </td><td style=\"text-align: right;\">         15</td><td style=\"text-align: right;\">0.296893</td><td style=\"text-align: right;\"> 0.248759</td></tr>\n",
       "<tr><td>TrainLightGCN_4fd6baff</td><td>RUNNING </td><td>147.96.81.131:3232180</td><td style=\"text-align: right;\">           7</td><td style=\"text-align: right;\">            5</td><td style=\"text-align: right;\">             30</td><td style=\"text-align: right;\">2.8606e-05 </td><td style=\"text-align: right;\">         0.2347</td><td style=\"text-align: right;\">     1</td><td style=\"text-align: right;\">        14.8364 </td><td style=\"text-align: right;\">          5</td><td style=\"text-align: right;\">0.683147</td><td style=\"text-align: right;\"> 0.562744</td></tr>\n",
       "<tr><td>TrainLightGCN_4bd30b54</td><td>RUNNING </td><td>147.96.81.131:3232313</td><td style=\"text-align: right;\">           8</td><td style=\"text-align: right;\">            3</td><td style=\"text-align: right;\">              5</td><td style=\"text-align: right;\">5.24282e-05</td><td style=\"text-align: right;\">         0.22  </td><td style=\"text-align: right;\">     1</td><td style=\"text-align: right;\">         9.28025</td><td style=\"text-align: right;\">          5</td><td style=\"text-align: right;\">0.289777</td><td style=\"text-align: right;\"> 0.281659</td></tr>\n",
       "<tr><td>TrainLightGCN_7e5fbfe6</td><td>RUNNING </td><td>147.96.81.131:3232445</td><td style=\"text-align: right;\">           6</td><td style=\"text-align: right;\">            4</td><td style=\"text-align: right;\">            300</td><td style=\"text-align: right;\">8.92312e-07</td><td style=\"text-align: right;\">         0.0065</td><td style=\"text-align: right;\">      </td><td style=\"text-align: right;\">                </td><td style=\"text-align: right;\">           </td><td style=\"text-align: right;\">        </td><td style=\"text-align: right;\">         </td></tr>\n",
       "<tr><td>TrainLightGCN_b0b80685</td><td>RUNNING </td><td>147.96.81.131:3232576</td><td style=\"text-align: right;\">           5</td><td style=\"text-align: right;\">            3</td><td style=\"text-align: right;\">            215</td><td style=\"text-align: right;\">2.79193e-05</td><td style=\"text-align: right;\">         0.0005</td><td style=\"text-align: right;\">      </td><td style=\"text-align: right;\">                </td><td style=\"text-align: right;\">           </td><td style=\"text-align: right;\">        </td><td style=\"text-align: right;\">         </td></tr>\n",
       "<tr><td>TrainLightGCN_edfbbcd5</td><td>RUNNING </td><td>147.96.81.131:3232709</td><td style=\"text-align: right;\">           5</td><td style=\"text-align: right;\">            4</td><td style=\"text-align: right;\">              5</td><td style=\"text-align: right;\">0.00397996 </td><td style=\"text-align: right;\">         0.0038</td><td style=\"text-align: right;\">      </td><td style=\"text-align: right;\">                </td><td style=\"text-align: right;\">           </td><td style=\"text-align: right;\">        </td><td style=\"text-align: right;\">         </td></tr>\n",
       "<tr><td>TrainLightGCN_5b6c29b8</td><td>RUNNING </td><td>147.96.81.131:3232842</td><td style=\"text-align: right;\">           5</td><td style=\"text-align: right;\">            3</td><td style=\"text-align: right;\">              5</td><td style=\"text-align: right;\">0.0011209  </td><td style=\"text-align: right;\">         0.0002</td><td style=\"text-align: right;\">      </td><td style=\"text-align: right;\">                </td><td style=\"text-align: right;\">           </td><td style=\"text-align: right;\">        </td><td style=\"text-align: right;\">         </td></tr>\n",
       "<tr><td>TrainLightGCN_9ba719d7</td><td>RUNNING </td><td>147.96.81.131:3232976</td><td style=\"text-align: right;\">           7</td><td style=\"text-align: right;\">            4</td><td style=\"text-align: right;\">            405</td><td style=\"text-align: right;\">0.00406073 </td><td style=\"text-align: right;\">         0.0014</td><td style=\"text-align: right;\">      </td><td style=\"text-align: right;\">                </td><td style=\"text-align: right;\">           </td><td style=\"text-align: right;\">        </td><td style=\"text-align: right;\">         </td></tr>\n",
       "<tr><td>TrainLightGCN_5aa7ffb2</td><td>PENDING </td><td>                     </td><td style=\"text-align: right;\">           5</td><td style=\"text-align: right;\">            1</td><td style=\"text-align: right;\">            205</td><td style=\"text-align: right;\">6.80694e-06</td><td style=\"text-align: right;\">         0.0085</td><td style=\"text-align: right;\">      </td><td style=\"text-align: right;\">                </td><td style=\"text-align: right;\">           </td><td style=\"text-align: right;\">        </td><td style=\"text-align: right;\">         </td></tr>\n",
       "</tbody>\n",
       "</table>\n",
       "  </div>\n",
       "</div>\n",
       "<style>\n",
       ".tuneStatus {\n",
       "  color: var(--jp-ui-font-color1);\n",
       "}\n",
       ".tuneStatus .systemInfo {\n",
       "  display: flex;\n",
       "  flex-direction: column;\n",
       "}\n",
       ".tuneStatus td {\n",
       "  white-space: nowrap;\n",
       "}\n",
       ".tuneStatus .trialStatus {\n",
       "  display: flex;\n",
       "  flex-direction: column;\n",
       "}\n",
       ".tuneStatus h3 {\n",
       "  font-weight: bold;\n",
       "}\n",
       ".tuneStatus .hDivider {\n",
       "  border-bottom-width: var(--jp-border-width);\n",
       "  border-bottom-color: var(--jp-border-color0);\n",
       "  border-bottom-style: solid;\n",
       "}\n",
       ".tuneStatus .vDivider {\n",
       "  border-left-width: var(--jp-border-width);\n",
       "  border-left-color: var(--jp-border-color0);\n",
       "  border-left-style: solid;\n",
       "  margin: 0.5em 1em 0.5em 1em;\n",
       "}\n",
       "</style>\n"
      ],
      "text/plain": [
       "<IPython.core.display.HTML object>"
      ]
     },
     "metadata": {},
     "output_type": "display_data"
    },
    {
     "name": "stderr",
     "output_type": "stream",
     "text": [
      "\u001b[2m\u001b[36m(pid=3232073)\u001b[0m 2023-11-27 11:35:09.224570: E tensorflow/compiler/xla/stream_executor/cuda/cuda_dnn.cc:9342] Unable to register cuDNN factory: Attempting to register factory for plugin cuDNN when one has already been registered\n",
      "\u001b[2m\u001b[36m(pid=3232073)\u001b[0m 2023-11-27 11:35:09.224601: E tensorflow/compiler/xla/stream_executor/cuda/cuda_fft.cc:609] Unable to register cuFFT factory: Attempting to register factory for plugin cuFFT when one has already been registered\n",
      "\u001b[2m\u001b[36m(pid=3232073)\u001b[0m 2023-11-27 11:35:09.224615: E tensorflow/compiler/xla/stream_executor/cuda/cuda_blas.cc:1518] Unable to register cuBLAS factory: Attempting to register factory for plugin cuBLAS when one has already been registered\n",
      "\u001b[2m\u001b[36m(TrainLightGCN pid=3232073)\u001b[0m /home/daviddavo/upm-tfm-notebooks/.direnv/python-3.9/lib/python3.9/site-packages/recommenders/models/deeprec/DataModel/ImplicitCF.py:73: FutureWarning: The frame.append method is deprecated and will be removed from pandas in a future version. Use pandas.concat instead.\n",
      "\u001b[2m\u001b[36m(TrainLightGCN pid=3232073)\u001b[0m   df = train if test is None else train.append(test)\n"
     ]
    },
    {
     "name": "stdout",
     "output_type": "stream",
     "text": [
      "\u001b[2m\u001b[36m(TrainLightGCN pid=3232073)\u001b[0m Already create adjacency matrix.\n",
      "\u001b[2m\u001b[36m(TrainLightGCN pid=3232073)\u001b[0m Already normalize adjacency matrix.\n",
      "\u001b[2m\u001b[36m(TrainLightGCN pid=3232073)\u001b[0m Using xavier initialization.\n"
     ]
    },
    {
     "name": "stderr",
     "output_type": "stream",
     "text": [
      "\u001b[2m\u001b[36m(pid=3232313)\u001b[0m 2023-11-27 11:35:15.530804: E tensorflow/compiler/xla/stream_executor/cuda/cuda_dnn.cc:9342] Unable to register cuDNN factory: Attempting to register factory for plugin cuDNN when one has already been registered\u001b[32m [repeated 2x across cluster]\u001b[0m\n",
      "\u001b[2m\u001b[36m(pid=3232313)\u001b[0m 2023-11-27 11:35:15.530837: E tensorflow/compiler/xla/stream_executor/cuda/cuda_fft.cc:609] Unable to register cuFFT factory: Attempting to register factory for plugin cuFFT when one has already been registered\u001b[32m [repeated 2x across cluster]\u001b[0m\n",
      "\u001b[2m\u001b[36m(pid=3232313)\u001b[0m 2023-11-27 11:35:15.530849: E tensorflow/compiler/xla/stream_executor/cuda/cuda_blas.cc:1518] Unable to register cuBLAS factory: Attempting to register factory for plugin cuBLAS when one has already been registered\u001b[32m [repeated 2x across cluster]\u001b[0m\n",
      "\u001b[2m\u001b[36m(TrainLightGCN pid=3232180)\u001b[0m /home/daviddavo/upm-tfm-notebooks/.direnv/python-3.9/lib/python3.9/site-packages/recommenders/models/deeprec/DataModel/ImplicitCF.py:73: FutureWarning: The frame.append method is deprecated and will be removed from pandas in a future version. Use pandas.concat instead.\n",
      "\u001b[2m\u001b[36m(TrainLightGCN pid=3232180)\u001b[0m   df = train if test is None else train.append(test)\n",
      "\u001b[2m\u001b[36m(TrainLightGCN pid=3232313)\u001b[0m /home/daviddavo/upm-tfm-notebooks/.direnv/python-3.9/lib/python3.9/site-packages/recommenders/models/deeprec/DataModel/ImplicitCF.py:73: FutureWarning: The frame.append method is deprecated and will be removed from pandas in a future version. Use pandas.concat instead.\n",
      "\u001b[2m\u001b[36m(TrainLightGCN pid=3232313)\u001b[0m   df = train if test is None else train.append(test)\n"
     ]
    },
    {
     "name": "stdout",
     "output_type": "stream",
     "text": [
      "\u001b[2m\u001b[36m(TrainLightGCN pid=3232313)\u001b[0m Already create adjacency matrix.\u001b[32m [repeated 2x across cluster]\u001b[0m\n",
      "\u001b[2m\u001b[36m(TrainLightGCN pid=3232313)\u001b[0m Already normalize adjacency matrix.\u001b[32m [repeated 2x across cluster]\u001b[0m\n",
      "\u001b[2m\u001b[36m(TrainLightGCN pid=3232313)\u001b[0m Using xavier initialization.\u001b[32m [repeated 2x across cluster]\u001b[0m\n"
     ]
    },
    {
     "name": "stderr",
     "output_type": "stream",
     "text": [
      "\u001b[2m\u001b[36m(pid=3232576)\u001b[0m 2023-11-27 11:35:22.211792: E tensorflow/compiler/xla/stream_executor/cuda/cuda_dnn.cc:9342] Unable to register cuDNN factory: Attempting to register factory for plugin cuDNN when one has already been registered\u001b[32m [repeated 2x across cluster]\u001b[0m\n",
      "\u001b[2m\u001b[36m(pid=3232576)\u001b[0m 2023-11-27 11:35:22.211827: E tensorflow/compiler/xla/stream_executor/cuda/cuda_fft.cc:609] Unable to register cuFFT factory: Attempting to register factory for plugin cuFFT when one has already been registered\u001b[32m [repeated 2x across cluster]\u001b[0m\n",
      "\u001b[2m\u001b[36m(pid=3232576)\u001b[0m 2023-11-27 11:35:22.211839: E tensorflow/compiler/xla/stream_executor/cuda/cuda_blas.cc:1518] Unable to register cuBLAS factory: Attempting to register factory for plugin cuBLAS when one has already been registered\u001b[32m [repeated 2x across cluster]\u001b[0m\n",
      "\u001b[2m\u001b[36m(TrainLightGCN pid=3232445)\u001b[0m /home/daviddavo/upm-tfm-notebooks/.direnv/python-3.9/lib/python3.9/site-packages/recommenders/models/deeprec/DataModel/ImplicitCF.py:73: FutureWarning: The frame.append method is deprecated and will be removed from pandas in a future version. Use pandas.concat instead.\n",
      "\u001b[2m\u001b[36m(TrainLightGCN pid=3232445)\u001b[0m   df = train if test is None else train.append(test)\n",
      "\u001b[2m\u001b[36m(TrainLightGCN pid=3232576)\u001b[0m /home/daviddavo/upm-tfm-notebooks/.direnv/python-3.9/lib/python3.9/site-packages/recommenders/models/deeprec/DataModel/ImplicitCF.py:73: FutureWarning: The frame.append method is deprecated and will be removed from pandas in a future version. Use pandas.concat instead.\n",
      "\u001b[2m\u001b[36m(TrainLightGCN pid=3232576)\u001b[0m   df = train if test is None else train.append(test)\n"
     ]
    },
    {
     "name": "stdout",
     "output_type": "stream",
     "text": [
      "\u001b[2m\u001b[36m(TrainLightGCN pid=3232576)\u001b[0m Already create adjacency matrix.\u001b[32m [repeated 2x across cluster]\u001b[0m\n",
      "\u001b[2m\u001b[36m(TrainLightGCN pid=3232576)\u001b[0m Already normalize adjacency matrix.\u001b[32m [repeated 2x across cluster]\u001b[0m\n",
      "\u001b[2m\u001b[36m(TrainLightGCN pid=3232445)\u001b[0m Using xavier initialization.\n",
      "\u001b[2m\u001b[36m(TrainLightGCN pid=3232576)\u001b[0m Using xavier initialization.\n"
     ]
    },
    {
     "name": "stderr",
     "output_type": "stream",
     "text": [
      "\u001b[2m\u001b[36m(pid=3232842)\u001b[0m 2023-11-27 11:35:29.526511: E tensorflow/compiler/xla/stream_executor/cuda/cuda_dnn.cc:9342] Unable to register cuDNN factory: Attempting to register factory for plugin cuDNN when one has already been registered\u001b[32m [repeated 2x across cluster]\u001b[0m\n",
      "\u001b[2m\u001b[36m(pid=3232842)\u001b[0m 2023-11-27 11:35:29.526546: E tensorflow/compiler/xla/stream_executor/cuda/cuda_fft.cc:609] Unable to register cuFFT factory: Attempting to register factory for plugin cuFFT when one has already been registered\u001b[32m [repeated 2x across cluster]\u001b[0m\n",
      "\u001b[2m\u001b[36m(pid=3232842)\u001b[0m 2023-11-27 11:35:29.526559: E tensorflow/compiler/xla/stream_executor/cuda/cuda_blas.cc:1518] Unable to register cuBLAS factory: Attempting to register factory for plugin cuBLAS when one has already been registered\u001b[32m [repeated 2x across cluster]\u001b[0m\n",
      "\u001b[2m\u001b[36m(TrainLightGCN pid=3232709)\u001b[0m /home/daviddavo/upm-tfm-notebooks/.direnv/python-3.9/lib/python3.9/site-packages/recommenders/models/deeprec/DataModel/ImplicitCF.py:73: FutureWarning: The frame.append method is deprecated and will be removed from pandas in a future version. Use pandas.concat instead.\n",
      "\u001b[2m\u001b[36m(TrainLightGCN pid=3232709)\u001b[0m   df = train if test is None else train.append(test)\n",
      "\u001b[2m\u001b[36m(TrainLightGCN pid=3232842)\u001b[0m /home/daviddavo/upm-tfm-notebooks/.direnv/python-3.9/lib/python3.9/site-packages/recommenders/models/deeprec/DataModel/ImplicitCF.py:73: FutureWarning: The frame.append method is deprecated and will be removed from pandas in a future version. Use pandas.concat instead.\n",
      "\u001b[2m\u001b[36m(TrainLightGCN pid=3232842)\u001b[0m   df = train if test is None else train.append(test)\n"
     ]
    },
    {
     "name": "stdout",
     "output_type": "stream",
     "text": [
      "\u001b[2m\u001b[36m(TrainLightGCN pid=3232842)\u001b[0m Already create adjacency matrix.\u001b[32m [repeated 2x across cluster]\u001b[0m\n",
      "\u001b[2m\u001b[36m(TrainLightGCN pid=3232709)\u001b[0m Already normalize adjacency matrix.\n",
      "\u001b[2m\u001b[36m(TrainLightGCN pid=3232709)\u001b[0m Using xavier initialization.\n",
      "\u001b[2m\u001b[36m(TrainLightGCN pid=3232842)\u001b[0m Already normalize adjacency matrix.\n",
      "\u001b[2m\u001b[36m(TrainLightGCN pid=3232842)\u001b[0m Using xavier initialization.\n"
     ]
    },
    {
     "name": "stderr",
     "output_type": "stream",
     "text": [
      "2023-11-27 11:35:36,938\tWARNING tune.py:194 -- Stop signal received (e.g. via SIGINT/Ctrl+C), ending Ray Tune run. This will try to checkpoint the experiment state one last time. Press CTRL+C (or send SIGINT/SIGKILL/SIGTERM) to skip. \n",
      "2023-11-27 11:35:47,012\tINFO tune.py:1143 -- Total run time: 38.79 seconds (28.71 seconds for the tuning loop).\n",
      "2023-11-27 11:35:47,015\tWARNING tune.py:1158 -- Experiment has been interrupted, but the most recent state was saved.\n",
      "Resume experiment with: Tuner.restore(path=\"/home/daviddavo/ray_results/LightGCN_dao=Decentraland,fold=9_2023-11-27T11:31:45.417618\", trainable=...)\n",
      "2023-11-27 11:35:47,029\tWARNING experiment_analysis.py:205 -- Failed to fetch metrics for 1 trial(s):\n",
      "- TrainLightGCN_5aa7ffb2: FileNotFoundError('Could not fetch metrics for TrainLightGCN_5aa7ffb2: both result.json and progress.csv were not found at /home/daviddavo/ray_results/LightGCN_dao=Decentraland,fold=9_2023-11-27T11:31:45.417618/TrainLightGCN_5aa7ffb2_9_batch_size=5,conv_layers=1,embedding_dim=205,l2=0.0000,learning_rate=0.0085_2023-11-27_11-35-36')\n"
     ]
    },
    {
     "data": {
      "text/plain": [
       "ResultGrid<[\n",
       "  Result(\n",
       "    metrics={'iteration': 15, 'loss': 0.2968927699848113, 'mf_loss': 0.24875853340543255, 'emb_loss': 0.04813423667506998, 'model_recall': 0.05086666666666666, 'model_ndcg': 0.039404803619016916, 'model_precision': 0.033600000000000005, 'model_map': 0.021538888888888892, 'precision@5': 0.2368, 'ndcg@5': 0.3662519629136005, 'recall@5': 0.41640404040404044, 'map@5': 0.28596230880230883, 'precision@10': 0.1928000000000001, 'ndcg@10': 0.45274130243190497, 'recall@10': 0.6465419913419912, 'map@10': 0.351538647472457, 'time_train': 14.600561618804932, 'time_test': 0.08750391006469727, 'time_total_train': 24.69786787033081, 'time_total_test': 0.8261804580688477},\n",
       "    path='/home/daviddavo/ray_results/LightGCN_dao=Decentraland,fold=9_2023-11-27T11:31:45.417618/TrainLightGCN_aa592f54_1_batch_size=8,conv_layers=3,embedding_dim=100,l2=0.0000,learning_rate=0.1000_2023-11-27_11-35-08',\n",
       "    filesystem='local',\n",
       "    checkpoint=None\n",
       "  ),\n",
       "  Result(\n",
       "    metrics={'iteration': 5, 'loss': 0.6831469319410293, 'mf_loss': 0.5627435962542621, 'emb_loss': 0.12040333465119182, 'model_recall': 0.011399999999999999, 'model_ndcg': 0.014059012972366152, 'model_precision': 0.0144, 'model_map': 0.005357777777777778, 'precision@5': 0.21439999999999998, 'ndcg@5': 0.30227187652233406, 'recall@5': 0.3471783549783549, 'map@5': 0.22956085618085617, 'precision@10': 0.18000000000000008, 'ndcg@10': 0.4006023489188948, 'recall@10': 0.6211284271284271, 'map@10': 0.2954858010948488, 'time_train': 13.524588346481323, 'time_test': 1.3117547035217285, 'time_total_train': 13.524588346481323, 'time_total_test': 1.3117547035217285},\n",
       "    path='/home/daviddavo/ray_results/LightGCN_dao=Decentraland,fold=9_2023-11-27T11:31:45.417618/TrainLightGCN_4fd6baff_2_batch_size=7,conv_layers=5,embedding_dim=30,l2=0.0000,learning_rate=0.2347_2023-11-27_11-35-11',\n",
       "    filesystem='local',\n",
       "    checkpoint=None\n",
       "  ),\n",
       "  Result(\n",
       "    metrics={'iteration': 5, 'loss': 0.289776534649981, 'mf_loss': 0.281659315535462, 'emb_loss': 0.008117219173989026, 'model_recall': 0.010199999999999999, 'model_ndcg': 0.008142954981724732, 'model_precision': 0.008, 'model_map': 0.002844444444444444, 'precision@5': 0.2304, 'ndcg@5': 0.3471373049435679, 'recall@5': 0.4344040404040404, 'map@5': 0.26294969215969216, 'precision@10': 0.18560000000000004, 'ndcg@10': 0.4374513510840934, 'recall@10': 0.6825379509379509, 'map@10': 0.3260057350145446, 'time_train': 8.006643772125244, 'time_test': 1.2735912799835205, 'time_total_train': 8.006643772125244, 'time_total_test': 1.2735912799835205},\n",
       "    path='/home/daviddavo/ray_results/LightGCN_dao=Decentraland,fold=9_2023-11-27T11:31:45.417618/TrainLightGCN_4bd30b54_3_batch_size=8,conv_layers=3,embedding_dim=5,l2=0.0001,learning_rate=0.2200_2023-11-27_11-35-14',\n",
       "    filesystem='local',\n",
       "    checkpoint=None\n",
       "  ),\n",
       "  Result(\n",
       "    metrics={},\n",
       "    path='/home/daviddavo/ray_results/LightGCN_dao=Decentraland,fold=9_2023-11-27T11:31:45.417618/TrainLightGCN_7e5fbfe6_4_batch_size=6,conv_layers=4,embedding_dim=300,l2=0.0000,learning_rate=0.0065_2023-11-27_11-35-17',\n",
       "    filesystem='local',\n",
       "    checkpoint=None\n",
       "  ),\n",
       "  Result(\n",
       "    metrics={},\n",
       "    path='/home/daviddavo/ray_results/LightGCN_dao=Decentraland,fold=9_2023-11-27T11:31:45.417618/TrainLightGCN_b0b80685_5_batch_size=5,conv_layers=3,embedding_dim=215,l2=0.0000,learning_rate=0.0005_2023-11-27_11-35-21',\n",
       "    filesystem='local',\n",
       "    checkpoint=None\n",
       "  ),\n",
       "  Result(\n",
       "    metrics={},\n",
       "    path='/home/daviddavo/ray_results/LightGCN_dao=Decentraland,fold=9_2023-11-27T11:31:45.417618/TrainLightGCN_edfbbcd5_6_batch_size=5,conv_layers=4,embedding_dim=5,l2=0.0040,learning_rate=0.0038_2023-11-27_11-35-24',\n",
       "    filesystem='local',\n",
       "    checkpoint=None\n",
       "  ),\n",
       "  Result(\n",
       "    metrics={},\n",
       "    path='/home/daviddavo/ray_results/LightGCN_dao=Decentraland,fold=9_2023-11-27T11:31:45.417618/TrainLightGCN_5b6c29b8_7_batch_size=5,conv_layers=3,embedding_dim=5,l2=0.0011,learning_rate=0.0002_2023-11-27_11-35-28',\n",
       "    filesystem='local',\n",
       "    checkpoint=None\n",
       "  ),\n",
       "  Result(\n",
       "    metrics={},\n",
       "    path='/home/daviddavo/ray_results/LightGCN_dao=Decentraland,fold=9_2023-11-27T11:31:45.417618/TrainLightGCN_9ba719d7_8_batch_size=7,conv_layers=4,embedding_dim=405,l2=0.0041,learning_rate=0.0014_2023-11-27_11-35-32',\n",
       "    filesystem='local',\n",
       "    checkpoint=None\n",
       "  ),\n",
       "  Result(\n",
       "    metrics={},\n",
       "    path='/home/daviddavo/ray_results/LightGCN_dao=Decentraland,fold=9_2023-11-27T11:31:45.417618/TrainLightGCN_5aa7ffb2_9_batch_size=5,conv_layers=1,embedding_dim=205,l2=0.0000,learning_rate=0.0085_2023-11-27_11-35-36',\n",
       "    filesystem='local',\n",
       "    checkpoint=None\n",
       "  )\n",
       "]>"
      ]
     },
     "execution_count": 19,
     "metadata": {},
     "output_type": "execute_result"
    }
   ],
   "source": [
    "tuners[-1].fit()"
   ]
  },
  {
   "cell_type": "code",
   "execution_count": null,
   "id": "bf52bace-7b6f-4000-bf69-80db076154e9",
   "metadata": {},
   "outputs": [],
   "source": []
  }
 ],
 "metadata": {
  "kernelspec": {
   "display_name": "Python 3 (ipykernel)",
   "language": "python",
   "name": "python3"
  },
  "language_info": {
   "codemirror_mode": {
    "name": "ipython",
    "version": 3
   },
   "file_extension": ".py",
   "mimetype": "text/x-python",
   "name": "python",
   "nbconvert_exporter": "python",
   "pygments_lexer": "ipython3",
   "version": "3.9.18"
  },
  "widgets": {
   "application/vnd.jupyter.widget-state+json": {
    "state": {},
    "version_major": 2,
    "version_minor": 0
   }
  }
 },
 "nbformat": 4,
 "nbformat_minor": 5
}
