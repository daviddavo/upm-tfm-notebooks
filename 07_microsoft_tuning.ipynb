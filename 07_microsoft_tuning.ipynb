{
 "cells": [
  {
   "cell_type": "code",
   "execution_count": 1,
   "id": "cf98a9e1-f3e0-4c0a-96c1-30f305901246",
   "metadata": {
    "execution": {
     "iopub.execute_input": "2023-10-19T16:09:20.296586Z",
     "iopub.status.busy": "2023-10-19T16:09:20.296317Z",
     "iopub.status.idle": "2023-10-19T16:09:22.816343Z",
     "shell.execute_reply": "2023-10-19T16:09:22.815925Z",
     "shell.execute_reply.started": "2023-10-19T16:09:20.296562Z"
    }
   },
   "outputs": [],
   "source": [
    "from typing import Dict, List, Tuple, Union, Any, Optional\n",
    "\n",
    "import pandas as pd\n",
    "import numpy as np\n",
    "import os\n",
    "\n",
    "import ray\n",
    "from ray import train, tune\n",
    "\n",
    "from src.datasets import daocensus\n",
    "\n",
    "%load_ext autoreload\n",
    "%autoreload 2"
   ]
  },
  {
   "cell_type": "code",
   "execution_count": 2,
   "id": "798161a7-5414-4626-9dfb-6d71823bf4c7",
   "metadata": {
    "execution": {
     "iopub.execute_input": "2023-10-19T16:09:22.817398Z",
     "iopub.status.busy": "2023-10-19T16:09:22.817093Z",
     "iopub.status.idle": "2023-10-19T16:09:22.834035Z",
     "shell.execute_reply": "2023-10-19T16:09:22.833619Z",
     "shell.execute_reply.started": "2023-10-19T16:09:22.817377Z"
    }
   },
   "outputs": [],
   "source": [
    "SEED: int = 57\n",
    "\n",
    "# Dataset splits config\n",
    "N_SPLITS: int = 5\n",
    "SKIP_SPLIT: int = 1\n",
    "\n",
    "# Number of samples to check hyperparamters\n",
    "N_SAMPLES: int = 10\n",
    "\n",
    "# Training config\n",
    "MAX_EPOCHS: int = 15\n",
    "EPOCHS_PER_ITER: int = 5\n",
    "\n",
    "# Eval config\n",
    "TOP_K: int = 5"
   ]
  },
  {
   "cell_type": "markdown",
   "id": "ab0ff2f2-bdaa-46eb-87d1-c4481734b8c0",
   "metadata": {},
   "source": [
    "# Load data"
   ]
  },
  {
   "cell_type": "code",
   "execution_count": 3,
   "id": "765a4892-6a85-40ab-a65d-c0d76b0569b2",
   "metadata": {
    "execution": {
     "iopub.execute_input": "2023-10-19T16:09:22.834717Z",
     "iopub.status.busy": "2023-10-19T16:09:22.834580Z",
     "iopub.status.idle": "2023-10-19T16:09:32.840594Z",
     "shell.execute_reply": "2023-10-19T16:09:32.840197Z",
     "shell.execute_reply.started": "2023-10-19T16:09:22.834704Z"
    }
   },
   "outputs": [
    {
     "name": "stdout",
     "output_type": "stream",
     "text": [
      "<class 'pandas.core.frame.DataFrame'>\n",
      "RangeIndex: 116560 entries, 0 to 116559\n",
      "Data columns (total 10 columns):\n",
      " #   Column         Non-Null Count   Dtype         \n",
      "---  ------         --------------   -----         \n",
      " 0   platform       116560 non-null  object        \n",
      " 1   name           116560 non-null  object        \n",
      " 2   id             116560 non-null  object        \n",
      " 3   proposal       116560 non-null  category      \n",
      " 4   deployment     116560 non-null  object        \n",
      " 5   platform_vote  116560 non-null  object        \n",
      " 6   voter          116560 non-null  category      \n",
      " 7   date           116560 non-null  datetime64[ns]\n",
      " 8   choice         116560 non-null  object        \n",
      " 9   weight         116560 non-null  float64       \n",
      "dtypes: category(2), datetime64[ns](1), float64(1), object(6)\n",
      "memory usage: 7.9+ MB\n",
      "None\n",
      "<class 'pandas.core.frame.DataFrame'>\n",
      "RangeIndex: 1962 entries, 0 to 1961\n",
      "Data columns (total 8 columns):\n",
      " #   Column             Non-Null Count  Dtype         \n",
      "---  ------             --------------  -----         \n",
      " 0   platform           1962 non-null   object        \n",
      " 1   name               1962 non-null   object        \n",
      " 2   id                 1962 non-null   category      \n",
      " 3   deployment         1962 non-null   object        \n",
      " 4   platform_proposal  1962 non-null   object        \n",
      " 5   author             1962 non-null   category      \n",
      " 6   date               1962 non-null   datetime64[ns]\n",
      " 7   votes_count        1962 non-null   int64         \n",
      "dtypes: category(2), datetime64[ns](1), int64(1), object(4)\n",
      "memory usage: 494.5+ KB\n",
      "None\n"
     ]
    }
   ],
   "source": [
    "dfv, dfp = daocensus.get(\"./data/daos-census\", 'Decentraland', 'snapshot')\n",
    "print(dfv.info())\n",
    "print(dfp.info())"
   ]
  },
  {
   "cell_type": "markdown",
   "id": "df339c08-4f99-4933-886c-6ab774f09e63",
   "metadata": {},
   "source": [
    "## Transform data"
   ]
  },
  {
   "cell_type": "code",
   "execution_count": 4,
   "id": "4b003927-cfab-4f9a-91f8-1376f038f82e",
   "metadata": {
    "execution": {
     "iopub.execute_input": "2023-10-19T16:09:32.841817Z",
     "iopub.status.busy": "2023-10-19T16:09:32.841623Z",
     "iopub.status.idle": "2023-10-19T16:09:32.894344Z",
     "shell.execute_reply": "2023-10-19T16:09:32.893957Z",
     "shell.execute_reply.started": "2023-10-19T16:09:32.841802Z"
    }
   },
   "outputs": [
    {
     "data": {
      "text/html": [
       "<div>\n",
       "<style scoped>\n",
       "    .dataframe tbody tr th:only-of-type {\n",
       "        vertical-align: middle;\n",
       "    }\n",
       "\n",
       "    .dataframe tbody tr th {\n",
       "        vertical-align: top;\n",
       "    }\n",
       "\n",
       "    .dataframe thead th {\n",
       "        text-align: right;\n",
       "    }\n",
       "</style>\n",
       "<table border=\"1\" class=\"dataframe\">\n",
       "  <thead>\n",
       "    <tr style=\"text-align: right;\">\n",
       "      <th></th>\n",
       "      <th>userID</th>\n",
       "      <th>itemID</th>\n",
       "      <th>timestamp</th>\n",
       "      <th>rating</th>\n",
       "    </tr>\n",
       "  </thead>\n",
       "  <tbody>\n",
       "    <tr>\n",
       "      <th>0</th>\n",
       "      <td>0xe7af1c70f8f089c4c3bd71999692c6c5a15d9e2a</td>\n",
       "      <td>b86aa059-3d31-5d41-a472-70962816f779</td>\n",
       "      <td>2021-12-17 12:28:01</td>\n",
       "      <td>1</td>\n",
       "    </tr>\n",
       "    <tr>\n",
       "      <th>1</th>\n",
       "      <td>0xc54a6c3778016b06cbd126ccc3b5bc06c5f666fb</td>\n",
       "      <td>b86aa059-3d31-5d41-a472-70962816f779</td>\n",
       "      <td>2021-12-17 02:16:23</td>\n",
       "      <td>1</td>\n",
       "    </tr>\n",
       "    <tr>\n",
       "      <th>2</th>\n",
       "      <td>0xd82d005e8f8d5385db40ba23884a5c967bb1e8af</td>\n",
       "      <td>b86aa059-3d31-5d41-a472-70962816f779</td>\n",
       "      <td>2021-12-17 00:38:22</td>\n",
       "      <td>1</td>\n",
       "    </tr>\n",
       "    <tr>\n",
       "      <th>3</th>\n",
       "      <td>0xf4c64db66ffb301985f5ecd85c8f3f9c02f2659d</td>\n",
       "      <td>b86aa059-3d31-5d41-a472-70962816f779</td>\n",
       "      <td>2021-12-16 18:47:08</td>\n",
       "      <td>1</td>\n",
       "    </tr>\n",
       "    <tr>\n",
       "      <th>4</th>\n",
       "      <td>0xd5e9ef1cedad0d135d543d286a2c190b16cbb89e</td>\n",
       "      <td>b86aa059-3d31-5d41-a472-70962816f779</td>\n",
       "      <td>2021-12-16 18:32:15</td>\n",
       "      <td>1</td>\n",
       "    </tr>\n",
       "  </tbody>\n",
       "</table>\n",
       "</div>"
      ],
      "text/plain": [
       "                                       userID  \\\n",
       "0  0xe7af1c70f8f089c4c3bd71999692c6c5a15d9e2a   \n",
       "1  0xc54a6c3778016b06cbd126ccc3b5bc06c5f666fb   \n",
       "2  0xd82d005e8f8d5385db40ba23884a5c967bb1e8af   \n",
       "3  0xf4c64db66ffb301985f5ecd85c8f3f9c02f2659d   \n",
       "4  0xd5e9ef1cedad0d135d543d286a2c190b16cbb89e   \n",
       "\n",
       "                                 itemID           timestamp  rating  \n",
       "0  b86aa059-3d31-5d41-a472-70962816f779 2021-12-17 12:28:01       1  \n",
       "1  b86aa059-3d31-5d41-a472-70962816f779 2021-12-17 02:16:23       1  \n",
       "2  b86aa059-3d31-5d41-a472-70962816f779 2021-12-17 00:38:22       1  \n",
       "3  b86aa059-3d31-5d41-a472-70962816f779 2021-12-16 18:47:08       1  \n",
       "4  b86aa059-3d31-5d41-a472-70962816f779 2021-12-16 18:32:15       1  "
      ]
     },
     "execution_count": 4,
     "metadata": {},
     "output_type": "execute_result"
    }
   ],
   "source": [
    "def to_microsoft(dfv):\n",
    "    df = dfv[['voter', 'proposal', 'date']].rename(columns={\n",
    "        'voter': 'userID',\n",
    "        'proposal': 'itemID',\n",
    "        'date': 'timestamp',\n",
    "    })\n",
    "    df['itemID'] = df['itemID'].astype('str')\n",
    "    df['rating'] = 1\n",
    "    return df\n",
    "\n",
    "df = to_microsoft(dfv)\n",
    "df.head()"
   ]
  },
  {
   "cell_type": "markdown",
   "id": "8faab8dc-8192-47b5-96df-7458bd890ffb",
   "metadata": {},
   "source": [
    "# Split data\n",
    "\n",
    "Each proposal remains open for a few days, our environment is different of a movies recommender system. For this reason, we will use a TimeSeriesSplit instead of a K-Fold to cross-validate the model.\n",
    "\n",
    "![](https://scikit-learn.org/stable/_images/sphx_glr_plot_cv_indices_013.png)\n",
    "\n",
    "El TimeSeriesSplit de scikit-learn no nos vale porque el número de elementos en cada split es el mismo, pero el tamaño del intervalo, no. Como queremos simular un comportamiento realista, haremos el split dividiendo por intervalos de igual longitud."
   ]
  },
  {
   "cell_type": "code",
   "execution_count": 5,
   "id": "445d9909-609a-4cf3-8e24-6fa36946a375",
   "metadata": {
    "execution": {
     "iopub.execute_input": "2023-10-19T16:09:32.895002Z",
     "iopub.status.busy": "2023-10-19T16:09:32.894852Z",
     "iopub.status.idle": "2023-10-19T16:09:32.952486Z",
     "shell.execute_reply": "2023-10-19T16:09:32.952081Z",
     "shell.execute_reply.started": "2023-10-19T16:09:32.894988Z"
    }
   },
   "outputs": [
    {
     "name": "stdout",
     "output_type": "stream",
     "text": [
      "Split 0, train from: 2021-05-24 to 2022-02-10, test from: 2022-02-11 to 2022-06-22\n",
      "  len(train): 21485, len(test): 7268\n",
      "  users(train): 3040, users(test): 807\n",
      "Split 1, train from: 2022-02-10 to 2022-06-22, test from: 2022-06-22 to 2022-10-31\n",
      "  len(train): 32472, len(test): 8780\n",
      "  users(train): 4031, users(test): 850\n",
      "Split 2, train from: 2022-06-22 to 2022-10-31, test from: 2022-10-31 to 2023-03-11\n",
      "  len(train): 49437, len(test): 15135\n",
      "  users(train): 4870, users(test): 1089\n",
      "Split 3, train from: 2022-10-31 to 2023-03-11, test from: 2023-03-11 to 2023-07-20\n",
      "  len(train): 89511, len(test): 20209\n",
      "  users(train): 6490, users(test): 1179\n"
     ]
    }
   ],
   "source": [
    "def timeIntervalSplit(df: pd.DataFrame, splits: int, timestamp_col: str = 'timestamp', skip: int = 0, remove_not_in_train: str = None):\n",
    "    total_time_diff = df[timestamp_col].max() - df[timestamp_col].min()\n",
    "    k_time_diff = total_time_diff / (splits+1)\n",
    "\n",
    "    acc_time = df[timestamp_col].min() + (1+skip)*k_time_diff\n",
    "    for i in range(splits - skip):\n",
    "        end_time = acc_time + k_time_diff\n",
    "        \n",
    "        train = df[df[timestamp_col] <= acc_time]\n",
    "        test = df[ (acc_time < df[timestamp_col]) & (df[timestamp_col] < end_time) ]\n",
    "\n",
    "        if remove_not_in_train is not None:\n",
    "            msk = test[remove_not_in_train].isin(set(train[remove_not_in_train]))\n",
    "            test = test[msk]\n",
    "        \n",
    "        acc_time = end_time\n",
    "        yield train, test\n",
    "\n",
    "max_train_prev = df['timestamp'].min().date()\n",
    "folds = list(timeIntervalSplit(df, N_SPLITS, skip=SKIP_SPLIT, remove_not_in_train='userID'))\n",
    "for i, (dftrain, dftest) in enumerate(folds):\n",
    "    min_train = dftrain['timestamp'].min().date()\n",
    "    max_train = dftrain['timestamp'].max().date()\n",
    "    min_test  = dftest['timestamp'].min().date()\n",
    "    max_test  = dftest['timestamp'].max().date()\n",
    "    train_diff = (max_train-max_train_prev).days\n",
    "    test_diff = (max_test-min_test).days\n",
    "\n",
    "    train_users = len(set(dftrain['userID']))\n",
    "    test_users = len(set(dftest['userID']))\n",
    "    \n",
    "    print(f\"Split {i}, train from: {max_train_prev} to {max_train}, test from: {min_test} to {max_test}\")\n",
    "    print(f\"  len(train): {len(dftrain)}, len(test): {len(dftest)}\")\n",
    "    print(f\"  users(train): {train_users}, users(test): {test_users}\")\n",
    "\n",
    "    max_train_prev = max_train"
   ]
  },
  {
   "cell_type": "markdown",
   "id": "5c881c43-d308-40ff-b6b4-d54458e1bc32",
   "metadata": {},
   "source": [
    "# Defining training"
   ]
  },
  {
   "cell_type": "code",
   "execution_count": 6,
   "id": "9a502e2d-3398-405f-9029-d3abc69033dc",
   "metadata": {
    "execution": {
     "iopub.execute_input": "2023-10-19T16:09:32.953191Z",
     "iopub.status.busy": "2023-10-19T16:09:32.953025Z",
     "iopub.status.idle": "2023-10-19T16:09:34.663101Z",
     "shell.execute_reply": "2023-10-19T16:09:34.662549Z",
     "shell.execute_reply.started": "2023-10-19T16:09:32.953178Z"
    }
   },
   "outputs": [
    {
     "name": "stderr",
     "output_type": "stream",
     "text": [
      "2023-10-19 18:09:33.090914: I tensorflow/core/util/port.cc:111] oneDNN custom operations are on. You may see slightly different numerical results due to floating-point round-off errors from different computation orders. To turn them off, set the environment variable `TF_ENABLE_ONEDNN_OPTS=0`.\n",
      "2023-10-19 18:09:33.092418: I tensorflow/tsl/cuda/cudart_stub.cc:28] Could not find cuda drivers on your machine, GPU will not be used.\n",
      "2023-10-19 18:09:33.114446: E tensorflow/compiler/xla/stream_executor/cuda/cuda_dnn.cc:9342] Unable to register cuDNN factory: Attempting to register factory for plugin cuDNN when one has already been registered\n",
      "2023-10-19 18:09:33.114472: E tensorflow/compiler/xla/stream_executor/cuda/cuda_fft.cc:609] Unable to register cuFFT factory: Attempting to register factory for plugin cuFFT when one has already been registered\n",
      "2023-10-19 18:09:33.114493: E tensorflow/compiler/xla/stream_executor/cuda/cuda_blas.cc:1518] Unable to register cuBLAS factory: Attempting to register factory for plugin cuBLAS when one has already been registered\n",
      "2023-10-19 18:09:33.119850: I tensorflow/core/platform/cpu_feature_guard.cc:182] This TensorFlow binary is optimized to use available CPU instructions in performance-critical operations.\n",
      "To enable the following instructions: AVX2 AVX512F AVX512_VNNI FMA, in other operations, rebuild TensorFlow with the appropriate compiler flags.\n",
      "2023-10-19 18:09:33.851563: W tensorflow/compiler/tf2tensorrt/utils/py_utils.cc:38] TF-TRT Warning: Could not find TensorRT\n"
     ]
    }
   ],
   "source": [
    "from recommenders.models.deeprec.models.graphrec.lightgcn import LightGCN\n",
    "\n",
    "class LightGCNCustom(LightGCN):\n",
    "    # Copied from LightGCN.fit but RETURNING the data and deleting unnecessary things\n",
    "    def __init__(self, *args, **kwargs):\n",
    "        super().__init__(*args, **kwargs)\n",
    "        self.epochs_done = 0\n",
    "    \n",
    "    def fit_epoch(self):\n",
    "        \"\"\"Fit the model on self.data.train. If eval_epoch is not -1, evaluate the model on `self.data.test`\n",
    "        every `eval_epoch` epoch to observe the training status.\n",
    "\n",
    "        \"\"\"\n",
    "        loss, mf_loss, emb_loss = 0.0, 0.0, 0.0\n",
    "        n_batch = self.data.train.shape[0] // self.batch_size + 1\n",
    "        for idx in range(n_batch):\n",
    "            users, pos_items, neg_items = self.data.train_loader(self.batch_size)\n",
    "            _, batch_loss, batch_mf_loss, batch_emb_loss = self.sess.run(\n",
    "                [self.opt, self.loss, self.mf_loss, self.emb_loss],\n",
    "                feed_dict={\n",
    "                    self.users: users,\n",
    "                    self.pos_items: pos_items,\n",
    "                    self.neg_items: neg_items,\n",
    "                },\n",
    "            )\n",
    "            loss += batch_loss / n_batch\n",
    "            mf_loss += batch_mf_loss / n_batch\n",
    "            emb_loss += batch_emb_loss / n_batch\n",
    "\n",
    "        if np.isnan(loss):\n",
    "            print(\"ERROR: loss is nan.\")\n",
    "            sys.exit()\n",
    "\n",
    "        self.epochs_done += 1\n",
    "\n",
    "        return loss, mf_loss, emb_loss"
   ]
  },
  {
   "cell_type": "code",
   "execution_count": 7,
   "id": "a5d010bf-3a9c-4931-9d02-6589b3164438",
   "metadata": {
    "execution": {
     "iopub.execute_input": "2023-10-19T16:09:34.663867Z",
     "iopub.status.busy": "2023-10-19T16:09:34.663728Z",
     "iopub.status.idle": "2023-10-19T16:09:34.710094Z",
     "shell.execute_reply": "2023-10-19T16:09:34.709679Z",
     "shell.execute_reply.started": "2023-10-19T16:09:34.663852Z"
    },
    "scrolled": true
   },
   "outputs": [],
   "source": [
    "from recommenders.models.deeprec.deeprec_utils import prepare_hparams\n",
    "from recommenders.models.deeprec.DataModel.ImplicitCF import ImplicitCF\n",
    "\n",
    "class TrainLightGCN(tune.Trainable):\n",
    "    def setup(\n",
    "        self,\n",
    "        config: Dict[str, Any],\n",
    "        folds: List[Tuple[pd.DataFrame, pd.DataFrame]],\n",
    "    ):\n",
    "        self.config = config\n",
    "        config['batch_size'] = 2**config['batch_size']\n",
    "        self.fold = config['__trial_index__']\n",
    "\n",
    "        self.hparams = prepare_hparams(\n",
    "            model_type='lightgcn',\n",
    "            n_layers=config['conv_layers'],\n",
    "            batch_size=config['batch_size'],\n",
    "            embed_size=config['embedding_dim'],\n",
    "            epochs=EPOCHS_PER_ITER,\n",
    "            learning_rate=config['learning_rate'],\n",
    "            decay=config['l2'],\n",
    "            metrics=[\"recall\", \"ndcg\", \"precision\", \"map\"],\n",
    "            eval_epoch=-1,\n",
    "            top_k=TOP_K,\n",
    "            save_model=False,\n",
    "            MODEL_DIR='./data/model/lightgcn/',\n",
    "        )\n",
    "\n",
    "        self.dataloader = ImplicitCF(train=folds[self.fold][0], test=folds[self.fold][1], seed=SEED)\n",
    "        self.model = LightGCNCustom(self.hparams, self.dataloader, seed=SEED)\n",
    "\n",
    "    @property\n",
    "    def iteration(self):\n",
    "        return self.model.epochs_done\n",
    "\n",
    "    @property\n",
    "    def training_iteration(self):\n",
    "        return self.model.epochs_done\n",
    "\n",
    "    def step(self):\n",
    "        \"\"\"\n",
    "        As a rule of thumb, the execution time of step should be large enough to avoid overheads \n",
    "        (i.e. more than a few seconds), but short enough to report progress periodically \n",
    "        (i.e. at most a few minutes).\n",
    "        \"\"\"\n",
    "        assert EPOCHS_PER_ITER > 0\n",
    "        \n",
    "        for _ in range(EPOCHS_PER_ITER):\n",
    "            ret = self.model.fit_epoch()\n",
    "\n",
    "        return {\n",
    "            'iteration': self.iteration,\n",
    "            'loss': ret[0],\n",
    "            'mf_loss': ret[1],\n",
    "            'emb_loss': ret[2],\n",
    "            **{k:v for k,v in zip(self.model.metrics, self.model.run_eval())},\n",
    "        }\n",
    "\n",
    "    def save_checkpoint(self, checkpoint_dir):\n",
    "        checkpoint_path = os.path.join(checkpoint_dir, \"model\")\n",
    "        self.model.saver.save(\n",
    "            sess=self.model.sess,\n",
    "            save_path=checkpoint_path,\n",
    "        )\n",
    "        return checkpoint_dir\n",
    "\n",
    "    def load_checkpoint(self, checkpoint_path):\n",
    "        self.model.load(checkpoint_path)"
   ]
  },
  {
   "cell_type": "code",
   "execution_count": 8,
   "id": "d2467b19-5572-4167-b577-3af9f471479d",
   "metadata": {
    "execution": {
     "iopub.execute_input": "2023-10-19T16:09:34.710770Z",
     "iopub.status.busy": "2023-10-19T16:09:34.710592Z",
     "iopub.status.idle": "2023-10-19T16:09:34.740351Z",
     "shell.execute_reply": "2023-10-19T16:09:34.739982Z",
     "shell.execute_reply.started": "2023-10-19T16:09:34.710756Z"
    }
   },
   "outputs": [
    {
     "data": {
      "text/plain": [
       "(89511, 20209)"
      ]
     },
     "execution_count": 8,
     "metadata": {},
     "output_type": "execute_result"
    }
   ],
   "source": [
    "len(folds[-1][0]), len(folds[-1][1])"
   ]
  },
  {
   "cell_type": "code",
   "execution_count": 9,
   "id": "e1bcddf1-c9bd-423f-80d7-972b3e8d3212",
   "metadata": {
    "execution": {
     "iopub.execute_input": "2023-10-19T16:09:34.741261Z",
     "iopub.status.busy": "2023-10-19T16:09:34.741040Z",
     "iopub.status.idle": "2023-10-19T16:09:35.861587Z",
     "shell.execute_reply": "2023-10-19T16:09:35.860985Z",
     "shell.execute_reply.started": "2023-10-19T16:09:34.741239Z"
    }
   },
   "outputs": [
    {
     "name": "stderr",
     "output_type": "stream",
     "text": [
      "/home/davo/Documents/MUIA/upm-tfm-notebooks/.direnv/python-3.9/lib/python3.9/site-packages/recommenders/models/deeprec/DataModel/ImplicitCF.py:73: FutureWarning: The frame.append method is deprecated and will be removed from pandas in a future version. Use pandas.concat instead.\n",
      "  df = train if test is None else train.append(test)\n"
     ]
    },
    {
     "name": "stdout",
     "output_type": "stream",
     "text": [
      "items: 1942 user: 6490\n",
      "Already create adjacency matrix.\n",
      "Already normalize adjacency matrix.\n",
      "Using xavier initialization.\n"
     ]
    },
    {
     "name": "stderr",
     "output_type": "stream",
     "text": [
      "2023-10-19 18:09:35.839858: I tensorflow/compiler/mlir/mlir_graph_optimization_pass.cc:382] MLIR V1 optimization pass is not enabled\n"
     ]
    }
   ],
   "source": [
    "hparams = prepare_hparams(\n",
    "    model_type='lightgcn',\n",
    "    n_layers=3,\n",
    "    batch_size=512,\n",
    "    embed_size=64,\n",
    "    epochs=3,\n",
    "    learning_rate=0.001,\n",
    "    decay=0.001,\n",
    "    metrics=[\"recall\", \"ndcg\", \"precision\", \"map\"],\n",
    "    eval_epoch=2,\n",
    "    top_k=TOP_K,\n",
    "    save_model=False,\n",
    "    MODEL_DIR='./data/model/lightgcn/',\n",
    ")\n",
    "dataloader = ImplicitCF(train=folds[-1][0], test=folds[-1][1], seed=SEED)\n",
    "print(\"items:\", dataloader.n_items, \"user:\", dataloader.n_users)\n",
    "model = LightGCNCustom(\n",
    "    hparams,\n",
    "    dataloader,\n",
    "    seed=SEED,\n",
    ")"
   ]
  },
  {
   "cell_type": "code",
   "execution_count": 10,
   "id": "bd79128d-1890-44ea-8400-b1804ea9767f",
   "metadata": {
    "execution": {
     "iopub.execute_input": "2023-10-19T16:09:35.863083Z",
     "iopub.status.busy": "2023-10-19T16:09:35.862761Z",
     "iopub.status.idle": "2023-10-19T16:09:46.084580Z",
     "shell.execute_reply": "2023-10-19T16:09:46.083861Z",
     "shell.execute_reply.started": "2023-10-19T16:09:35.863066Z"
    }
   },
   "outputs": [
    {
     "name": "stdout",
     "output_type": "stream",
     "text": [
      "Epoch 1 (train)3.2s: train loss = 0.62072 = (mf)0.62018 + (embed)0.00053\n",
      "Epoch 2 (train)3.0s + (eval)0.2s: train loss = 0.37196 = (mf)0.36881 + (embed)0.00315, recall = 0.00011, ndcg = 0.00052, precision = 0.00068, map = 0.00003\n",
      "Epoch 3 (train)3.8s: train loss = 0.25453 = (mf)0.24863 + (embed)0.00590\n"
     ]
    }
   ],
   "source": [
    "model.fit()"
   ]
  },
  {
   "cell_type": "code",
   "execution_count": null,
   "id": "a5ad6f33-effe-4f48-850e-8044af3a88dc",
   "metadata": {
    "execution": {
     "iopub.execute_input": "2023-10-19T16:09:46.085853Z",
     "iopub.status.busy": "2023-10-19T16:09:46.085582Z"
    }
   },
   "outputs": [
    {
     "data": {
      "text/html": [
       "<div class=\"tuneStatus\">\n",
       "  <div style=\"display: flex;flex-direction: row\">\n",
       "    <div style=\"display: flex;flex-direction: column;\">\n",
       "      <h3>Tune Status</h3>\n",
       "      <table>\n",
       "<tbody>\n",
       "<tr><td>Current time:</td><td>2023-10-19 18:31:13</td></tr>\n",
       "<tr><td>Running for: </td><td>00:21:23.53        </td></tr>\n",
       "<tr><td>Memory:      </td><td>13.5/15.3 GiB      </td></tr>\n",
       "</tbody>\n",
       "</table>\n",
       "    </div>\n",
       "    <div class=\"vDivider\"></div>\n",
       "    <div class=\"systemInfo\">\n",
       "      <h3>System Info</h3>\n",
       "      Using FIFO scheduling algorithm.<br>Logical resource usage: 4.0/8 CPUs, 0/0 GPUs\n",
       "    </div>\n",
       "    <div class=\"vDivider\"></div>\n",
       "<div class=\"messages\">\n",
       "  <h3>Messages</h3>\n",
       "  \n",
       "  \n",
       "  Number of errored trials: 1<br><table>\n",
       "<thead>\n",
       "<tr><th>Trial name            </th><th style=\"text-align: right;\">  # failures</th><th>error file                                                                                                                                                                                              </th></tr>\n",
       "</thead>\n",
       "<tbody>\n",
       "<tr><td>TrainLightGCN_167299ac</td><td style=\"text-align: right;\">           1</td><td>/home/davo/ray_results/TrainLightGCN_2023-10-19_18-09-46/TrainLightGCN_167299ac_5_trial_index=4,batch_size=6,conv_layers=2,embedding_dim=50,l2=0.0012,learning_rate=0.0877_2023-10-19_18-11-34/error.txt</td></tr>\n",
       "</tbody>\n",
       "</table>\n",
       "</div>\n",
       "<style>\n",
       ".messages {\n",
       "  color: var(--jp-ui-font-color1);\n",
       "  display: flex;\n",
       "  flex-direction: column;\n",
       "  padding-left: 1em;\n",
       "  overflow-y: auto;\n",
       "}\n",
       ".messages h3 {\n",
       "  font-weight: bold;\n",
       "}\n",
       ".vDivider {\n",
       "  border-left-width: var(--jp-border-width);\n",
       "  border-left-color: var(--jp-border-color0);\n",
       "  border-left-style: solid;\n",
       "  margin: 0.5em 1em 0.5em 1em;\n",
       "}\n",
       "</style>\n",
       "\n",
       "  </div>\n",
       "  <div class=\"hDivider\"></div>\n",
       "  <div class=\"trialStatus\">\n",
       "    <h3>Trial Status</h3>\n",
       "    <table>\n",
       "<thead>\n",
       "<tr><th>Trial name            </th><th>status    </th><th>loc                 </th><th style=\"text-align: right;\">  __trial_index__</th><th style=\"text-align: right;\">  batch_size</th><th style=\"text-align: right;\">  conv_layers</th><th style=\"text-align: right;\">  embedding_dim</th><th style=\"text-align: right;\">         l2</th><th style=\"text-align: right;\">  learning_rate</th><th style=\"text-align: right;\">  iter</th><th style=\"text-align: right;\">  total time (s)</th><th style=\"text-align: right;\">  iteration</th><th style=\"text-align: right;\">    loss</th><th style=\"text-align: right;\">  mf_loss</th></tr>\n",
       "</thead>\n",
       "<tbody>\n",
       "<tr><td>TrainLightGCN_d77400b4</td><td>RUNNING   </td><td>147.96.25.138:525162</td><td style=\"text-align: right;\">                2</td><td style=\"text-align: right;\">           5</td><td style=\"text-align: right;\">            3</td><td style=\"text-align: right;\">             90</td><td style=\"text-align: right;\">0.000224256</td><td style=\"text-align: right;\">        1e-05  </td><td style=\"text-align: right;\">     2</td><td style=\"text-align: right;\">        489.057 </td><td style=\"text-align: right;\">         10</td><td style=\"text-align: right;\">0.679903</td><td style=\"text-align: right;\"> 0.67985 </td></tr>\n",
       "<tr><td>TrainLightGCN_8b340b7a</td><td>RUNNING   </td><td>147.96.25.138:525477</td><td style=\"text-align: right;\">                3</td><td style=\"text-align: right;\">           5</td><td style=\"text-align: right;\">            3</td><td style=\"text-align: right;\">             90</td><td style=\"text-align: right;\">0.000224256</td><td style=\"text-align: right;\">        1e-05  </td><td style=\"text-align: right;\">      </td><td style=\"text-align: right;\">                </td><td style=\"text-align: right;\">           </td><td style=\"text-align: right;\">        </td><td style=\"text-align: right;\">         </td></tr>\n",
       "<tr><td>TrainLightGCN_c1c3d069</td><td>PENDING   </td><td>                    </td><td style=\"text-align: right;\">                4</td><td style=\"text-align: right;\">           5</td><td style=\"text-align: right;\">            3</td><td style=\"text-align: right;\">             90</td><td style=\"text-align: right;\">0.000224256</td><td style=\"text-align: right;\">        1e-05  </td><td style=\"text-align: right;\">      </td><td style=\"text-align: right;\">                </td><td style=\"text-align: right;\">           </td><td style=\"text-align: right;\">        </td><td style=\"text-align: right;\">         </td></tr>\n",
       "<tr><td>TrainLightGCN_b887b41c</td><td>TERMINATED</td><td>147.96.25.138:523873</td><td style=\"text-align: right;\">                0</td><td style=\"text-align: right;\">           6</td><td style=\"text-align: right;\">            2</td><td style=\"text-align: right;\">             50</td><td style=\"text-align: right;\">0.00121384 </td><td style=\"text-align: right;\">        0.08772</td><td style=\"text-align: right;\">     3</td><td style=\"text-align: right;\">         43.6344</td><td style=\"text-align: right;\">         15</td><td style=\"text-align: right;\">0.428304</td><td style=\"text-align: right;\"> 0.131344</td></tr>\n",
       "<tr><td>TrainLightGCN_4da34b60</td><td>TERMINATED</td><td>147.96.25.138:523935</td><td style=\"text-align: right;\">                1</td><td style=\"text-align: right;\">           6</td><td style=\"text-align: right;\">            2</td><td style=\"text-align: right;\">             50</td><td style=\"text-align: right;\">0.00121384 </td><td style=\"text-align: right;\">        0.08772</td><td style=\"text-align: right;\">     3</td><td style=\"text-align: right;\">         87.4525</td><td style=\"text-align: right;\">         15</td><td style=\"text-align: right;\">0.513906</td><td style=\"text-align: right;\"> 0.144161</td></tr>\n",
       "<tr><td>TrainLightGCN_9f8694fc</td><td>TERMINATED</td><td>147.96.25.138:524264</td><td style=\"text-align: right;\">                2</td><td style=\"text-align: right;\">           6</td><td style=\"text-align: right;\">            2</td><td style=\"text-align: right;\">             50</td><td style=\"text-align: right;\">0.00121384 </td><td style=\"text-align: right;\">        0.08772</td><td style=\"text-align: right;\">     3</td><td style=\"text-align: right;\">        168.535 </td><td style=\"text-align: right;\">         15</td><td style=\"text-align: right;\">0.578789</td><td style=\"text-align: right;\"> 0.167185</td></tr>\n",
       "<tr><td>TrainLightGCN_1631ec7e</td><td>TERMINATED</td><td>147.96.25.138:524360</td><td style=\"text-align: right;\">                3</td><td style=\"text-align: right;\">           6</td><td style=\"text-align: right;\">            2</td><td style=\"text-align: right;\">             50</td><td style=\"text-align: right;\">0.00121384 </td><td style=\"text-align: right;\">        0.08772</td><td style=\"text-align: right;\">     3</td><td style=\"text-align: right;\">        453.478 </td><td style=\"text-align: right;\">         15</td><td style=\"text-align: right;\">0.615839</td><td style=\"text-align: right;\"> 0.18426 </td></tr>\n",
       "<tr><td>TrainLightGCN_567e5c01</td><td>TERMINATED</td><td>147.96.25.138:524660</td><td style=\"text-align: right;\">                0</td><td style=\"text-align: right;\">           5</td><td style=\"text-align: right;\">            3</td><td style=\"text-align: right;\">             90</td><td style=\"text-align: right;\">0.000224256</td><td style=\"text-align: right;\">        1e-05  </td><td style=\"text-align: right;\">     3</td><td style=\"text-align: right;\">        155.308 </td><td style=\"text-align: right;\">         15</td><td style=\"text-align: right;\">0.677105</td><td style=\"text-align: right;\"> 0.677041</td></tr>\n",
       "<tr><td>TrainLightGCN_f00ee419</td><td>TERMINATED</td><td>147.96.25.138:524859</td><td style=\"text-align: right;\">                1</td><td style=\"text-align: right;\">           5</td><td style=\"text-align: right;\">            3</td><td style=\"text-align: right;\">             90</td><td style=\"text-align: right;\">0.000224256</td><td style=\"text-align: right;\">        1e-05  </td><td style=\"text-align: right;\">     3</td><td style=\"text-align: right;\">        354.418 </td><td style=\"text-align: right;\">         15</td><td style=\"text-align: right;\">0.672138</td><td style=\"text-align: right;\"> 0.67207 </td></tr>\n",
       "<tr><td>TrainLightGCN_167299ac</td><td>ERROR     </td><td>                    </td><td style=\"text-align: right;\">                4</td><td style=\"text-align: right;\">           6</td><td style=\"text-align: right;\">            2</td><td style=\"text-align: right;\">             50</td><td style=\"text-align: right;\">0.00121384 </td><td style=\"text-align: right;\">        0.08772</td><td style=\"text-align: right;\">      </td><td style=\"text-align: right;\">                </td><td style=\"text-align: right;\">           </td><td style=\"text-align: right;\">        </td><td style=\"text-align: right;\">         </td></tr>\n",
       "</tbody>\n",
       "</table>\n",
       "  </div>\n",
       "</div>\n",
       "<style>\n",
       ".tuneStatus {\n",
       "  color: var(--jp-ui-font-color1);\n",
       "}\n",
       ".tuneStatus .systemInfo {\n",
       "  display: flex;\n",
       "  flex-direction: column;\n",
       "}\n",
       ".tuneStatus td {\n",
       "  white-space: nowrap;\n",
       "}\n",
       ".tuneStatus .trialStatus {\n",
       "  display: flex;\n",
       "  flex-direction: column;\n",
       "}\n",
       ".tuneStatus h3 {\n",
       "  font-weight: bold;\n",
       "}\n",
       ".tuneStatus .hDivider {\n",
       "  border-bottom-width: var(--jp-border-width);\n",
       "  border-bottom-color: var(--jp-border-color0);\n",
       "  border-bottom-style: solid;\n",
       "}\n",
       ".tuneStatus .vDivider {\n",
       "  border-left-width: var(--jp-border-width);\n",
       "  border-left-color: var(--jp-border-color0);\n",
       "  border-left-style: solid;\n",
       "  margin: 0.5em 1em 0.5em 1em;\n",
       "}\n",
       "</style>\n"
      ],
      "text/plain": [
       "<IPython.core.display.HTML object>"
      ]
     },
     "metadata": {},
     "output_type": "display_data"
    },
    {
     "name": "stderr",
     "output_type": "stream",
     "text": [
      "\u001b[2m\u001b[36m(pid=523873)\u001b[0m 2023-10-19 18:09:51.819780: I tensorflow/core/util/port.cc:111] oneDNN custom operations are on. You may see slightly different numerical results due to floating-point round-off errors from different computation orders. To turn them off, set the environment variable `TF_ENABLE_ONEDNN_OPTS=0`.\n",
      "\u001b[2m\u001b[36m(pid=523873)\u001b[0m 2023-10-19 18:09:51.822034: I tensorflow/tsl/cuda/cudart_stub.cc:28] Could not find cuda drivers on your machine, GPU will not be used.\n",
      "\u001b[2m\u001b[36m(pid=523873)\u001b[0m 2023-10-19 18:09:51.848179: E tensorflow/compiler/xla/stream_executor/cuda/cuda_dnn.cc:9342] Unable to register cuDNN factory: Attempting to register factory for plugin cuDNN when one has already been registered\n",
      "\u001b[2m\u001b[36m(pid=523873)\u001b[0m 2023-10-19 18:09:51.848212: E tensorflow/compiler/xla/stream_executor/cuda/cuda_fft.cc:609] Unable to register cuFFT factory: Attempting to register factory for plugin cuFFT when one has already been registered\n",
      "\u001b[2m\u001b[36m(pid=523873)\u001b[0m 2023-10-19 18:09:51.848234: E tensorflow/compiler/xla/stream_executor/cuda/cuda_blas.cc:1518] Unable to register cuBLAS factory: Attempting to register factory for plugin cuBLAS when one has already been registered\n",
      "\u001b[2m\u001b[36m(pid=523873)\u001b[0m 2023-10-19 18:09:51.853390: I tensorflow/tsl/cuda/cudart_stub.cc:28] Could not find cuda drivers on your machine, GPU will not be used.\n",
      "\u001b[2m\u001b[36m(pid=523873)\u001b[0m 2023-10-19 18:09:51.853553: I tensorflow/core/platform/cpu_feature_guard.cc:182] This TensorFlow binary is optimized to use available CPU instructions in performance-critical operations.\n",
      "\u001b[2m\u001b[36m(pid=523873)\u001b[0m To enable the following instructions: AVX2 AVX512F AVX512_VNNI FMA, in other operations, rebuild TensorFlow with the appropriate compiler flags.\n",
      "\u001b[2m\u001b[36m(pid=523873)\u001b[0m 2023-10-19 18:09:52.458740: W tensorflow/compiler/tf2tensorrt/utils/py_utils.cc:38] TF-TRT Warning: Could not find TensorRT\n",
      "\u001b[2m\u001b[36m(TrainLightGCN pid=523873)\u001b[0m /home/davo/Documents/MUIA/upm-tfm-notebooks/.direnv/python-3.9/lib/python3.9/site-packages/recommenders/models/deeprec/DataModel/ImplicitCF.py:73: FutureWarning: The frame.append method is deprecated and will be removed from pandas in a future version. Use pandas.concat instead.\n",
      "\u001b[2m\u001b[36m(TrainLightGCN pid=523873)\u001b[0m   df = train if test is None else train.append(test)\n"
     ]
    },
    {
     "name": "stdout",
     "output_type": "stream",
     "text": [
      "\u001b[2m\u001b[36m(TrainLightGCN pid=523873)\u001b[0m Already create adjacency matrix.\n",
      "\u001b[2m\u001b[36m(TrainLightGCN pid=523873)\u001b[0m Already normalize adjacency matrix.\n",
      "\u001b[2m\u001b[36m(TrainLightGCN pid=523873)\u001b[0m Using xavier initialization.\n"
     ]
    },
    {
     "name": "stderr",
     "output_type": "stream",
     "text": [
      "\u001b[2m\u001b[36m(TrainLightGCN pid=523873)\u001b[0m 2023-10-19 18:09:53.630715: I tensorflow/compiler/mlir/mlir_graph_optimization_pass.cc:382] MLIR V1 optimization pass is not enabled\n",
      "\u001b[2m\u001b[36m(pid=523935)\u001b[0m 2023-10-19 18:09:55.918813: I tensorflow/core/util/port.cc:111] oneDNN custom operations are on. You may see slightly different numerical results due to floating-point round-off errors from different computation orders. To turn them off, set the environment variable `TF_ENABLE_ONEDNN_OPTS=0`.\n",
      "\u001b[2m\u001b[36m(pid=523935)\u001b[0m 2023-10-19 18:09:55.970066: I tensorflow/tsl/cuda/cudart_stub.cc:28] Could not find cuda drivers on your machine, GPU will not be used.\u001b[32m [repeated 2x across cluster] (Ray deduplicates logs by default. Set RAY_DEDUP_LOGS=0 to disable log deduplication, or see https://docs.ray.io/en/master/ray-observability/ray-logging.html#log-deduplication for more options.)\u001b[0m\n",
      "\u001b[2m\u001b[36m(pid=523935)\u001b[0m 2023-10-19 18:09:55.962725: E tensorflow/compiler/xla/stream_executor/cuda/cuda_dnn.cc:9342] Unable to register cuDNN factory: Attempting to register factory for plugin cuDNN when one has already been registered\n",
      "\u001b[2m\u001b[36m(pid=523935)\u001b[0m 2023-10-19 18:09:55.962759: E tensorflow/compiler/xla/stream_executor/cuda/cuda_fft.cc:609] Unable to register cuFFT factory: Attempting to register factory for plugin cuFFT when one has already been registered\n",
      "\u001b[2m\u001b[36m(pid=523935)\u001b[0m 2023-10-19 18:09:55.962786: E tensorflow/compiler/xla/stream_executor/cuda/cuda_blas.cc:1518] Unable to register cuBLAS factory: Attempting to register factory for plugin cuBLAS when one has already been registered\n",
      "\u001b[2m\u001b[36m(pid=523935)\u001b[0m 2023-10-19 18:09:55.970256: I tensorflow/core/platform/cpu_feature_guard.cc:182] This TensorFlow binary is optimized to use available CPU instructions in performance-critical operations.\n",
      "\u001b[2m\u001b[36m(pid=523935)\u001b[0m To enable the following instructions: AVX2 AVX512F AVX512_VNNI FMA, in other operations, rebuild TensorFlow with the appropriate compiler flags.\n",
      "\u001b[2m\u001b[36m(pid=523935)\u001b[0m 2023-10-19 18:09:56.977340: W tensorflow/compiler/tf2tensorrt/utils/py_utils.cc:38] TF-TRT Warning: Could not find TensorRT\n"
     ]
    },
    {
     "name": "stdout",
     "output_type": "stream",
     "text": [
      "\u001b[2m\u001b[36m(TrainLightGCN pid=523935)\u001b[0m Already create adjacency matrix.\n",
      "\u001b[2m\u001b[36m(TrainLightGCN pid=523935)\u001b[0m Already normalize adjacency matrix.\n",
      "\u001b[2m\u001b[36m(TrainLightGCN pid=523935)\u001b[0m Using xavier initialization.\n"
     ]
    },
    {
     "name": "stderr",
     "output_type": "stream",
     "text": [
      "\u001b[2m\u001b[36m(TrainLightGCN pid=523935)\u001b[0m /home/davo/Documents/MUIA/upm-tfm-notebooks/.direnv/python-3.9/lib/python3.9/site-packages/recommenders/models/deeprec/DataModel/ImplicitCF.py:73: FutureWarning: The frame.append method is deprecated and will be removed from pandas in a future version. Use pandas.concat instead.\n",
      "\u001b[2m\u001b[36m(TrainLightGCN pid=523935)\u001b[0m   df = train if test is None else train.append(test)\n",
      "\u001b[2m\u001b[36m(TrainLightGCN pid=523935)\u001b[0m 2023-10-19 18:09:59.001593: I tensorflow/compiler/mlir/mlir_graph_optimization_pass.cc:382] MLIR V1 optimization pass is not enabled\n",
      "\u001b[2m\u001b[36m(TrainLightGCN pid=523873)\u001b[0m Checkpoint successfully created at: Checkpoint(filesystem=local, path=/home/davo/ray_results/TrainLightGCN_2023-10-19_18-09-46/TrainLightGCN_b887b41c_1_trial_index=0,batch_size=6,conv_layers=2,embedding_dim=50,l2=0.0012,learning_rate=0.0877_2023-10-19_18-09-50/checkpoint_000000)\n",
      "\u001b[2m\u001b[36m(pid=524264)\u001b[0m 2023-10-19 18:10:41.167689: I tensorflow/core/util/port.cc:111] oneDNN custom operations are on. You may see slightly different numerical results due to floating-point round-off errors from different computation orders. To turn them off, set the environment variable `TF_ENABLE_ONEDNN_OPTS=0`.\n",
      "\u001b[2m\u001b[36m(pid=524264)\u001b[0m 2023-10-19 18:10:41.170527: I tensorflow/tsl/cuda/cudart_stub.cc:28] Could not find cuda drivers on your machine, GPU will not be used.\n",
      "\u001b[2m\u001b[36m(pid=524264)\u001b[0m 2023-10-19 18:10:41.216877: E tensorflow/compiler/xla/stream_executor/cuda/cuda_dnn.cc:9342] Unable to register cuDNN factory: Attempting to register factory for plugin cuDNN when one has already been registered\n",
      "\u001b[2m\u001b[36m(pid=524264)\u001b[0m 2023-10-19 18:10:41.216913: E tensorflow/compiler/xla/stream_executor/cuda/cuda_fft.cc:609] Unable to register cuFFT factory: Attempting to register factory for plugin cuFFT when one has already been registered\n",
      "\u001b[2m\u001b[36m(pid=524264)\u001b[0m 2023-10-19 18:10:41.216941: E tensorflow/compiler/xla/stream_executor/cuda/cuda_blas.cc:1518] Unable to register cuBLAS factory: Attempting to register factory for plugin cuBLAS when one has already been registered\n",
      "\u001b[2m\u001b[36m(pid=524264)\u001b[0m 2023-10-19 18:10:41.225325: I tensorflow/tsl/cuda/cudart_stub.cc:28] Could not find cuda drivers on your machine, GPU will not be used.\n",
      "\u001b[2m\u001b[36m(pid=524264)\u001b[0m 2023-10-19 18:10:41.225628: I tensorflow/core/platform/cpu_feature_guard.cc:182] This TensorFlow binary is optimized to use available CPU instructions in performance-critical operations.\n",
      "\u001b[2m\u001b[36m(pid=524264)\u001b[0m To enable the following instructions: AVX2 AVX512F AVX512_VNNI FMA, in other operations, rebuild TensorFlow with the appropriate compiler flags.\n",
      "\u001b[2m\u001b[36m(pid=524264)\u001b[0m 2023-10-19 18:10:42.631557: W tensorflow/compiler/tf2tensorrt/utils/py_utils.cc:38] TF-TRT Warning: Could not find TensorRT\n",
      "\u001b[2m\u001b[36m(TrainLightGCN pid=524264)\u001b[0m /home/davo/Documents/MUIA/upm-tfm-notebooks/.direnv/python-3.9/lib/python3.9/site-packages/recommenders/models/deeprec/DataModel/ImplicitCF.py:73: FutureWarning: The frame.append method is deprecated and will be removed from pandas in a future version. Use pandas.concat instead.\n",
      "\u001b[2m\u001b[36m(TrainLightGCN pid=524264)\u001b[0m   df = train if test is None else train.append(test)\n"
     ]
    },
    {
     "name": "stdout",
     "output_type": "stream",
     "text": [
      "\u001b[2m\u001b[36m(TrainLightGCN pid=524264)\u001b[0m Already create adjacency matrix.\n",
      "\u001b[2m\u001b[36m(TrainLightGCN pid=524264)\u001b[0m Already normalize adjacency matrix.\n",
      "\u001b[2m\u001b[36m(TrainLightGCN pid=524264)\u001b[0m Using xavier initialization.\n"
     ]
    },
    {
     "name": "stderr",
     "output_type": "stream",
     "text": [
      "\u001b[2m\u001b[36m(TrainLightGCN pid=524264)\u001b[0m 2023-10-19 18:10:45.204113: I tensorflow/compiler/mlir/mlir_graph_optimization_pass.cc:382] MLIR V1 optimization pass is not enabled\n",
      "\u001b[2m\u001b[36m(TrainLightGCN pid=523935)\u001b[0m Checkpoint successfully created at: Checkpoint(filesystem=local, path=/home/davo/ray_results/TrainLightGCN_2023-10-19_18-09-46/TrainLightGCN_4da34b60_2_trial_index=1,batch_size=6,conv_layers=2,embedding_dim=50,l2=0.0012,learning_rate=0.0877_2023-10-19_18-09-53/checkpoint_000000)\n",
      "\u001b[2m\u001b[36m(pid=524360)\u001b[0m 2023-10-19 18:11:30.401243: I tensorflow/core/util/port.cc:111] oneDNN custom operations are on. You may see slightly different numerical results due to floating-point round-off errors from different computation orders. To turn them off, set the environment variable `TF_ENABLE_ONEDNN_OPTS=0`.\n",
      "\u001b[2m\u001b[36m(pid=524360)\u001b[0m 2023-10-19 18:11:30.404357: I tensorflow/tsl/cuda/cudart_stub.cc:28] Could not find cuda drivers on your machine, GPU will not be used.\n",
      "\u001b[2m\u001b[36m(pid=524360)\u001b[0m 2023-10-19 18:11:30.449727: E tensorflow/compiler/xla/stream_executor/cuda/cuda_dnn.cc:9342] Unable to register cuDNN factory: Attempting to register factory for plugin cuDNN when one has already been registered\n",
      "\u001b[2m\u001b[36m(pid=524360)\u001b[0m 2023-10-19 18:11:30.449771: E tensorflow/compiler/xla/stream_executor/cuda/cuda_fft.cc:609] Unable to register cuFFT factory: Attempting to register factory for plugin cuFFT when one has already been registered\n",
      "\u001b[2m\u001b[36m(pid=524360)\u001b[0m 2023-10-19 18:11:30.449808: E tensorflow/compiler/xla/stream_executor/cuda/cuda_blas.cc:1518] Unable to register cuBLAS factory: Attempting to register factory for plugin cuBLAS when one has already been registered\n",
      "\u001b[2m\u001b[36m(pid=524360)\u001b[0m 2023-10-19 18:11:30.458018: I tensorflow/tsl/cuda/cudart_stub.cc:28] Could not find cuda drivers on your machine, GPU will not be used.\n",
      "\u001b[2m\u001b[36m(pid=524360)\u001b[0m 2023-10-19 18:11:30.458265: I tensorflow/core/platform/cpu_feature_guard.cc:182] This TensorFlow binary is optimized to use available CPU instructions in performance-critical operations.\n",
      "\u001b[2m\u001b[36m(pid=524360)\u001b[0m To enable the following instructions: AVX2 AVX512F AVX512_VNNI FMA, in other operations, rebuild TensorFlow with the appropriate compiler flags.\n",
      "\u001b[2m\u001b[36m(pid=524360)\u001b[0m 2023-10-19 18:11:31.623391: W tensorflow/compiler/tf2tensorrt/utils/py_utils.cc:38] TF-TRT Warning: Could not find TensorRT\n",
      "\u001b[2m\u001b[36m(TrainLightGCN pid=524360)\u001b[0m /home/davo/Documents/MUIA/upm-tfm-notebooks/.direnv/python-3.9/lib/python3.9/site-packages/recommenders/models/deeprec/DataModel/ImplicitCF.py:73: FutureWarning: The frame.append method is deprecated and will be removed from pandas in a future version. Use pandas.concat instead.\n",
      "\u001b[2m\u001b[36m(TrainLightGCN pid=524360)\u001b[0m   df = train if test is None else train.append(test)\n"
     ]
    },
    {
     "name": "stdout",
     "output_type": "stream",
     "text": [
      "\u001b[2m\u001b[36m(TrainLightGCN pid=524360)\u001b[0m Already create adjacency matrix.\n",
      "\u001b[2m\u001b[36m(TrainLightGCN pid=524360)\u001b[0m Already normalize adjacency matrix.\n",
      "\u001b[2m\u001b[36m(TrainLightGCN pid=524360)\u001b[0m Using xavier initialization.\n"
     ]
    },
    {
     "name": "stderr",
     "output_type": "stream",
     "text": [
      "\u001b[2m\u001b[36m(TrainLightGCN pid=524360)\u001b[0m 2023-10-19 18:11:34.720742: I tensorflow/compiler/mlir/mlir_graph_optimization_pass.cc:382] MLIR V1 optimization pass is not enabled\n",
      "\u001b[2m\u001b[36m(TrainLightGCN pid=524264)\u001b[0m Checkpoint successfully created at: Checkpoint(filesystem=local, path=/home/davo/ray_results/TrainLightGCN_2023-10-19_18-09-46/TrainLightGCN_9f8694fc_3_trial_index=2,batch_size=6,conv_layers=2,embedding_dim=50,l2=0.0012,learning_rate=0.0877_2023-10-19_18-09-59/checkpoint_000000)\n",
      "\u001b[2m\u001b[36m(pid=524620)\u001b[0m 2023-10-19 18:13:37.307207: I tensorflow/core/util/port.cc:111] oneDNN custom operations are on. You may see slightly different numerical results due to floating-point round-off errors from different computation orders. To turn them off, set the environment variable `TF_ENABLE_ONEDNN_OPTS=0`.\n",
      "\u001b[2m\u001b[36m(pid=524620)\u001b[0m 2023-10-19 18:13:37.309500: I tensorflow/tsl/cuda/cudart_stub.cc:28] Could not find cuda drivers on your machine, GPU will not be used.\n",
      "\u001b[2m\u001b[36m(pid=524620)\u001b[0m 2023-10-19 18:13:37.348945: E tensorflow/compiler/xla/stream_executor/cuda/cuda_dnn.cc:9342] Unable to register cuDNN factory: Attempting to register factory for plugin cuDNN when one has already been registered\n",
      "\u001b[2m\u001b[36m(pid=524620)\u001b[0m 2023-10-19 18:13:37.348984: E tensorflow/compiler/xla/stream_executor/cuda/cuda_fft.cc:609] Unable to register cuFFT factory: Attempting to register factory for plugin cuFFT when one has already been registered\n",
      "\u001b[2m\u001b[36m(pid=524620)\u001b[0m 2023-10-19 18:13:37.349010: E tensorflow/compiler/xla/stream_executor/cuda/cuda_blas.cc:1518] Unable to register cuBLAS factory: Attempting to register factory for plugin cuBLAS when one has already been registered\n",
      "\u001b[2m\u001b[36m(pid=524620)\u001b[0m 2023-10-19 18:13:37.357225: I tensorflow/tsl/cuda/cudart_stub.cc:28] Could not find cuda drivers on your machine, GPU will not be used.\n",
      "\u001b[2m\u001b[36m(pid=524620)\u001b[0m 2023-10-19 18:13:37.358022: I tensorflow/core/platform/cpu_feature_guard.cc:182] This TensorFlow binary is optimized to use available CPU instructions in performance-critical operations.\n",
      "\u001b[2m\u001b[36m(pid=524620)\u001b[0m To enable the following instructions: AVX2 AVX512F AVX512_VNNI FMA, in other operations, rebuild TensorFlow with the appropriate compiler flags.\n",
      "\u001b[2m\u001b[36m(pid=524620)\u001b[0m 2023-10-19 18:13:38.646358: W tensorflow/compiler/tf2tensorrt/utils/py_utils.cc:38] TF-TRT Warning: Could not find TensorRT\n",
      "2023-10-19 18:13:40,111\tERROR tune_controller.py:1502 -- Trial task failed for trial TrainLightGCN_167299ac\n",
      "Traceback (most recent call last):\n",
      "  File \"/home/davo/Documents/MUIA/upm-tfm-notebooks/.direnv/python-3.9/lib/python3.9/site-packages/ray/air/execution/_internal/event_manager.py\", line 110, in resolve_future\n",
      "    result = ray.get(future)\n",
      "  File \"/home/davo/Documents/MUIA/upm-tfm-notebooks/.direnv/python-3.9/lib/python3.9/site-packages/ray/_private/auto_init_hook.py\", line 24, in auto_init_wrapper\n",
      "    return fn(*args, **kwargs)\n",
      "  File \"/home/davo/Documents/MUIA/upm-tfm-notebooks/.direnv/python-3.9/lib/python3.9/site-packages/ray/_private/client_mode_hook.py\", line 103, in wrapper\n",
      "    return func(*args, **kwargs)\n",
      "  File \"/home/davo/Documents/MUIA/upm-tfm-notebooks/.direnv/python-3.9/lib/python3.9/site-packages/ray/_private/worker.py\", line 2549, in get\n",
      "    raise value\n",
      "ray.exceptions.RayActorError: The actor died because of an error raised in its creation task, \u001b[36mray::ResourceTrainable.__init__()\u001b[39m (pid=524620, ip=147.96.25.138, actor_id=979cc8689d699c7b2c0f828b01000000, repr=<ray.tune.trainable.util.TrainLightGCN object at 0x7ff6ec55d040>)\n",
      "  File \"/home/davo/Documents/MUIA/upm-tfm-notebooks/.direnv/python-3.9/lib/python3.9/site-packages/ray/tune/trainable/trainable.py\", line 185, in __init__\n",
      "    self.setup(copy.deepcopy(self.config))\n",
      "  File \"/home/davo/Documents/MUIA/upm-tfm-notebooks/.direnv/python-3.9/lib/python3.9/site-packages/ray/tune/trainable/util.py\", line 305, in setup\n",
      "    super(_Inner, self).setup(config, **setup_kwargs)\n",
      "  File \"/tmp/ipykernel_523432/1132017155.py\", line 29, in setup\n",
      "IndexError: list index out of range\n",
      "\u001b[2m\u001b[36m(TrainLightGCN pid=524620)\u001b[0m Exception raised in creation task: The actor died because of an error raised in its creation task, \u001b[36mray::ResourceTrainable.__init__()\u001b[39m (pid=524620, ip=147.96.25.138, actor_id=979cc8689d699c7b2c0f828b01000000, repr=<ray.tune.trainable.util.TrainLightGCN object at 0x7ff6ec55d040>)\n",
      "\u001b[2m\u001b[36m(TrainLightGCN pid=524620)\u001b[0m   File \"/home/davo/Documents/MUIA/upm-tfm-notebooks/.direnv/python-3.9/lib/python3.9/site-packages/ray/tune/trainable/trainable.py\", line 185, in __init__\n",
      "\u001b[2m\u001b[36m(TrainLightGCN pid=524620)\u001b[0m     self.setup(copy.deepcopy(self.config))\n",
      "\u001b[2m\u001b[36m(TrainLightGCN pid=524620)\u001b[0m   File \"/home/davo/Documents/MUIA/upm-tfm-notebooks/.direnv/python-3.9/lib/python3.9/site-packages/ray/tune/trainable/util.py\", line 305, in setup\n",
      "\u001b[2m\u001b[36m(TrainLightGCN pid=524620)\u001b[0m     super(_Inner, self).setup(config, **setup_kwargs)\n",
      "\u001b[2m\u001b[36m(TrainLightGCN pid=524620)\u001b[0m   File \"/tmp/ipykernel_523432/1132017155.py\", line 29, in setup\n",
      "\u001b[2m\u001b[36m(TrainLightGCN pid=524620)\u001b[0m IndexError: list index out of range\n",
      "\u001b[2m\u001b[36m(pid=524660)\u001b[0m 2023-10-19 18:13:42.599009: I tensorflow/core/util/port.cc:111] oneDNN custom operations are on. You may see slightly different numerical results due to floating-point round-off errors from different computation orders. To turn them off, set the environment variable `TF_ENABLE_ONEDNN_OPTS=0`.\n",
      "\u001b[2m\u001b[36m(pid=524660)\u001b[0m 2023-10-19 18:13:42.601856: I tensorflow/tsl/cuda/cudart_stub.cc:28] Could not find cuda drivers on your machine, GPU will not be used.\n",
      "\u001b[2m\u001b[36m(pid=524660)\u001b[0m 2023-10-19 18:13:42.645155: E tensorflow/compiler/xla/stream_executor/cuda/cuda_dnn.cc:9342] Unable to register cuDNN factory: Attempting to register factory for plugin cuDNN when one has already been registered\n",
      "\u001b[2m\u001b[36m(pid=524660)\u001b[0m 2023-10-19 18:13:42.645198: E tensorflow/compiler/xla/stream_executor/cuda/cuda_fft.cc:609] Unable to register cuFFT factory: Attempting to register factory for plugin cuFFT when one has already been registered\n",
      "\u001b[2m\u001b[36m(pid=524660)\u001b[0m 2023-10-19 18:13:42.645237: E tensorflow/compiler/xla/stream_executor/cuda/cuda_blas.cc:1518] Unable to register cuBLAS factory: Attempting to register factory for plugin cuBLAS when one has already been registered\n",
      "\u001b[2m\u001b[36m(pid=524660)\u001b[0m 2023-10-19 18:13:42.653374: I tensorflow/tsl/cuda/cudart_stub.cc:28] Could not find cuda drivers on your machine, GPU will not be used.\n",
      "\u001b[2m\u001b[36m(pid=524660)\u001b[0m 2023-10-19 18:13:42.653558: I tensorflow/core/platform/cpu_feature_guard.cc:182] This TensorFlow binary is optimized to use available CPU instructions in performance-critical operations.\n",
      "\u001b[2m\u001b[36m(pid=524660)\u001b[0m To enable the following instructions: AVX2 AVX512F AVX512_VNNI FMA, in other operations, rebuild TensorFlow with the appropriate compiler flags.\n",
      "\u001b[2m\u001b[36m(pid=524660)\u001b[0m 2023-10-19 18:13:43.651342: W tensorflow/compiler/tf2tensorrt/utils/py_utils.cc:38] TF-TRT Warning: Could not find TensorRT\n",
      "\u001b[2m\u001b[36m(TrainLightGCN pid=524660)\u001b[0m /home/davo/Documents/MUIA/upm-tfm-notebooks/.direnv/python-3.9/lib/python3.9/site-packages/recommenders/models/deeprec/DataModel/ImplicitCF.py:73: FutureWarning: The frame.append method is deprecated and will be removed from pandas in a future version. Use pandas.concat instead.\n",
      "\u001b[2m\u001b[36m(TrainLightGCN pid=524660)\u001b[0m   df = train if test is None else train.append(test)\n"
     ]
    },
    {
     "name": "stdout",
     "output_type": "stream",
     "text": [
      "\u001b[2m\u001b[36m(TrainLightGCN pid=524660)\u001b[0m Already create adjacency matrix.\n",
      "\u001b[2m\u001b[36m(TrainLightGCN pid=524660)\u001b[0m Already normalize adjacency matrix.\n",
      "\u001b[2m\u001b[36m(TrainLightGCN pid=524660)\u001b[0m Using xavier initialization.\n"
     ]
    },
    {
     "name": "stderr",
     "output_type": "stream",
     "text": [
      "\u001b[2m\u001b[36m(TrainLightGCN pid=524660)\u001b[0m 2023-10-19 18:13:45.473457: I tensorflow/compiler/mlir/mlir_graph_optimization_pass.cc:382] MLIR V1 optimization pass is not enabled\n",
      "\u001b[2m\u001b[36m(TrainLightGCN pid=524660)\u001b[0m Checkpoint successfully created at: Checkpoint(filesystem=local, path=/home/davo/ray_results/TrainLightGCN_2023-10-19_18-09-46/TrainLightGCN_567e5c01_6_trial_index=0,batch_size=5,conv_layers=3,embedding_dim=90,l2=0.0002,learning_rate=0.0000_2023-10-19_18-13-40/checkpoint_000000)\n",
      "\u001b[2m\u001b[36m(pid=524859)\u001b[0m 2023-10-19 18:16:23.885322: I tensorflow/core/util/port.cc:111] oneDNN custom operations are on. You may see slightly different numerical results due to floating-point round-off errors from different computation orders. To turn them off, set the environment variable `TF_ENABLE_ONEDNN_OPTS=0`.\n",
      "\u001b[2m\u001b[36m(pid=524859)\u001b[0m 2023-10-19 18:16:23.887746: I tensorflow/tsl/cuda/cudart_stub.cc:28] Could not find cuda drivers on your machine, GPU will not be used.\n",
      "\u001b[2m\u001b[36m(pid=524859)\u001b[0m 2023-10-19 18:16:23.926276: E tensorflow/compiler/xla/stream_executor/cuda/cuda_dnn.cc:9342] Unable to register cuDNN factory: Attempting to register factory for plugin cuDNN when one has already been registered\n",
      "\u001b[2m\u001b[36m(pid=524859)\u001b[0m 2023-10-19 18:16:23.926319: E tensorflow/compiler/xla/stream_executor/cuda/cuda_fft.cc:609] Unable to register cuFFT factory: Attempting to register factory for plugin cuFFT when one has already been registered\n",
      "\u001b[2m\u001b[36m(pid=524859)\u001b[0m 2023-10-19 18:16:23.926347: E tensorflow/compiler/xla/stream_executor/cuda/cuda_blas.cc:1518] Unable to register cuBLAS factory: Attempting to register factory for plugin cuBLAS when one has already been registered\n",
      "\u001b[2m\u001b[36m(pid=524859)\u001b[0m 2023-10-19 18:16:23.933822: I tensorflow/tsl/cuda/cudart_stub.cc:28] Could not find cuda drivers on your machine, GPU will not be used.\n",
      "\u001b[2m\u001b[36m(pid=524859)\u001b[0m 2023-10-19 18:16:23.934122: I tensorflow/core/platform/cpu_feature_guard.cc:182] This TensorFlow binary is optimized to use available CPU instructions in performance-critical operations.\n",
      "\u001b[2m\u001b[36m(pid=524859)\u001b[0m To enable the following instructions: AVX2 AVX512F AVX512_VNNI FMA, in other operations, rebuild TensorFlow with the appropriate compiler flags.\n",
      "\u001b[2m\u001b[36m(pid=524859)\u001b[0m 2023-10-19 18:16:24.885170: W tensorflow/compiler/tf2tensorrt/utils/py_utils.cc:38] TF-TRT Warning: Could not find TensorRT\n",
      "\u001b[2m\u001b[36m(TrainLightGCN pid=524859)\u001b[0m /home/davo/Documents/MUIA/upm-tfm-notebooks/.direnv/python-3.9/lib/python3.9/site-packages/recommenders/models/deeprec/DataModel/ImplicitCF.py:73: FutureWarning: The frame.append method is deprecated and will be removed from pandas in a future version. Use pandas.concat instead.\n",
      "\u001b[2m\u001b[36m(TrainLightGCN pid=524859)\u001b[0m   df = train if test is None else train.append(test)\n"
     ]
    },
    {
     "name": "stdout",
     "output_type": "stream",
     "text": [
      "\u001b[2m\u001b[36m(TrainLightGCN pid=524859)\u001b[0m Already normalize adjacency matrix.\n",
      "\u001b[2m\u001b[36m(TrainLightGCN pid=524859)\u001b[0m Already create adjacency matrix.\n",
      "\u001b[2m\u001b[36m(TrainLightGCN pid=524859)\u001b[0m Using xavier initialization.\n"
     ]
    },
    {
     "name": "stderr",
     "output_type": "stream",
     "text": [
      "\u001b[2m\u001b[36m(TrainLightGCN pid=524859)\u001b[0m 2023-10-19 18:16:26.786180: I tensorflow/compiler/mlir/mlir_graph_optimization_pass.cc:382] MLIR V1 optimization pass is not enabled\n",
      "\u001b[2m\u001b[36m(TrainLightGCN pid=524360)\u001b[0m Checkpoint successfully created at: Checkpoint(filesystem=local, path=/home/davo/ray_results/TrainLightGCN_2023-10-19_18-09-46/TrainLightGCN_1631ec7e_4_trial_index=3,batch_size=6,conv_layers=2,embedding_dim=50,l2=0.0012,learning_rate=0.0877_2023-10-19_18-10-45/checkpoint_000000)\n",
      "\u001b[2m\u001b[36m(pid=525162)\u001b[0m 2023-10-19 18:19:11.971165: I tensorflow/core/util/port.cc:111] oneDNN custom operations are on. You may see slightly different numerical results due to floating-point round-off errors from different computation orders. To turn them off, set the environment variable `TF_ENABLE_ONEDNN_OPTS=0`.\n",
      "\u001b[2m\u001b[36m(pid=525162)\u001b[0m 2023-10-19 18:19:11.974118: I tensorflow/tsl/cuda/cudart_stub.cc:28] Could not find cuda drivers on your machine, GPU will not be used.\n",
      "\u001b[2m\u001b[36m(pid=525162)\u001b[0m 2023-10-19 18:19:12.017269: E tensorflow/compiler/xla/stream_executor/cuda/cuda_dnn.cc:9342] Unable to register cuDNN factory: Attempting to register factory for plugin cuDNN when one has already been registered\n",
      "\u001b[2m\u001b[36m(pid=525162)\u001b[0m 2023-10-19 18:19:12.017318: E tensorflow/compiler/xla/stream_executor/cuda/cuda_fft.cc:609] Unable to register cuFFT factory: Attempting to register factory for plugin cuFFT when one has already been registered\n",
      "\u001b[2m\u001b[36m(pid=525162)\u001b[0m 2023-10-19 18:19:12.017345: E tensorflow/compiler/xla/stream_executor/cuda/cuda_blas.cc:1518] Unable to register cuBLAS factory: Attempting to register factory for plugin cuBLAS when one has already been registered\n",
      "\u001b[2m\u001b[36m(pid=525162)\u001b[0m 2023-10-19 18:19:12.026177: I tensorflow/tsl/cuda/cudart_stub.cc:28] Could not find cuda drivers on your machine, GPU will not be used.\n",
      "\u001b[2m\u001b[36m(pid=525162)\u001b[0m 2023-10-19 18:19:12.026384: I tensorflow/core/platform/cpu_feature_guard.cc:182] This TensorFlow binary is optimized to use available CPU instructions in performance-critical operations.\n",
      "\u001b[2m\u001b[36m(pid=525162)\u001b[0m To enable the following instructions: AVX2 AVX512F AVX512_VNNI FMA, in other operations, rebuild TensorFlow with the appropriate compiler flags.\n",
      "\u001b[2m\u001b[36m(pid=525162)\u001b[0m 2023-10-19 18:19:13.474007: W tensorflow/compiler/tf2tensorrt/utils/py_utils.cc:38] TF-TRT Warning: Could not find TensorRT\n",
      "\u001b[2m\u001b[36m(TrainLightGCN pid=525162)\u001b[0m /home/davo/Documents/MUIA/upm-tfm-notebooks/.direnv/python-3.9/lib/python3.9/site-packages/recommenders/models/deeprec/DataModel/ImplicitCF.py:73: FutureWarning: The frame.append method is deprecated and will be removed from pandas in a future version. Use pandas.concat instead.\n",
      "\u001b[2m\u001b[36m(TrainLightGCN pid=525162)\u001b[0m   df = train if test is None else train.append(test)\n"
     ]
    },
    {
     "name": "stdout",
     "output_type": "stream",
     "text": [
      "\u001b[2m\u001b[36m(TrainLightGCN pid=525162)\u001b[0m Already create adjacency matrix.\n",
      "\u001b[2m\u001b[36m(TrainLightGCN pid=525162)\u001b[0m Already normalize adjacency matrix.\n",
      "\u001b[2m\u001b[36m(TrainLightGCN pid=525162)\u001b[0m Using xavier initialization.\n"
     ]
    },
    {
     "name": "stderr",
     "output_type": "stream",
     "text": [
      "\u001b[2m\u001b[36m(TrainLightGCN pid=525162)\u001b[0m 2023-10-19 18:19:16.260014: I tensorflow/compiler/mlir/mlir_graph_optimization_pass.cc:382] MLIR V1 optimization pass is not enabled\n",
      "\u001b[2m\u001b[36m(TrainLightGCN pid=524859)\u001b[0m Checkpoint successfully created at: Checkpoint(filesystem=local, path=/home/davo/ray_results/TrainLightGCN_2023-10-19_18-09-46/TrainLightGCN_f00ee419_7_trial_index=1,batch_size=5,conv_layers=3,embedding_dim=90,l2=0.0002,learning_rate=0.0000_2023-10-19_18-13-45/checkpoint_000000)\n",
      "\u001b[2m\u001b[36m(pid=525477)\u001b[0m 2023-10-19 18:22:24.891528: I tensorflow/core/util/port.cc:111] oneDNN custom operations are on. You may see slightly different numerical results due to floating-point round-off errors from different computation orders. To turn them off, set the environment variable `TF_ENABLE_ONEDNN_OPTS=0`.\n",
      "\u001b[2m\u001b[36m(pid=525477)\u001b[0m 2023-10-19 18:22:24.914396: I tensorflow/tsl/cuda/cudart_stub.cc:28] Could not find cuda drivers on your machine, GPU will not be used.\n",
      "\u001b[2m\u001b[36m(pid=525477)\u001b[0m 2023-10-19 18:22:25.054011: E tensorflow/compiler/xla/stream_executor/cuda/cuda_dnn.cc:9342] Unable to register cuDNN factory: Attempting to register factory for plugin cuDNN when one has already been registered\n",
      "\u001b[2m\u001b[36m(pid=525477)\u001b[0m 2023-10-19 18:22:25.054058: E tensorflow/compiler/xla/stream_executor/cuda/cuda_fft.cc:609] Unable to register cuFFT factory: Attempting to register factory for plugin cuFFT when one has already been registered\n",
      "\u001b[2m\u001b[36m(pid=525477)\u001b[0m 2023-10-19 18:22:25.054091: E tensorflow/compiler/xla/stream_executor/cuda/cuda_blas.cc:1518] Unable to register cuBLAS factory: Attempting to register factory for plugin cuBLAS when one has already been registered\n",
      "\u001b[2m\u001b[36m(pid=525477)\u001b[0m 2023-10-19 18:22:25.107226: I tensorflow/tsl/cuda/cudart_stub.cc:28] Could not find cuda drivers on your machine, GPU will not be used.\n",
      "\u001b[2m\u001b[36m(pid=525477)\u001b[0m 2023-10-19 18:22:25.107575: I tensorflow/core/platform/cpu_feature_guard.cc:182] This TensorFlow binary is optimized to use available CPU instructions in performance-critical operations.\n",
      "\u001b[2m\u001b[36m(pid=525477)\u001b[0m To enable the following instructions: AVX2 AVX512F AVX512_VNNI FMA, in other operations, rebuild TensorFlow with the appropriate compiler flags.\n",
      "\u001b[2m\u001b[36m(pid=525477)\u001b[0m 2023-10-19 18:22:26.633549: W tensorflow/compiler/tf2tensorrt/utils/py_utils.cc:38] TF-TRT Warning: Could not find TensorRT\n",
      "\u001b[2m\u001b[36m(TrainLightGCN pid=525477)\u001b[0m /home/davo/Documents/MUIA/upm-tfm-notebooks/.direnv/python-3.9/lib/python3.9/site-packages/recommenders/models/deeprec/DataModel/ImplicitCF.py:73: FutureWarning: The frame.append method is deprecated and will be removed from pandas in a future version. Use pandas.concat instead.\n",
      "\u001b[2m\u001b[36m(TrainLightGCN pid=525477)\u001b[0m   df = train if test is None else train.append(test)\n"
     ]
    },
    {
     "name": "stdout",
     "output_type": "stream",
     "text": [
      "\u001b[2m\u001b[36m(TrainLightGCN pid=525477)\u001b[0m Already create adjacency matrix.\n",
      "\u001b[2m\u001b[36m(TrainLightGCN pid=525477)\u001b[0m Already normalize adjacency matrix.\n",
      "\u001b[2m\u001b[36m(TrainLightGCN pid=525477)\u001b[0m Using xavier initialization.\n"
     ]
    },
    {
     "name": "stderr",
     "output_type": "stream",
     "text": [
      "\u001b[2m\u001b[36m(TrainLightGCN pid=525477)\u001b[0m 2023-10-19 18:22:30.483738: I tensorflow/compiler/mlir/mlir_graph_optimization_pass.cc:382] MLIR V1 optimization pass is not enabled\n"
     ]
    }
   ],
   "source": [
    "import ray\n",
    "from ray.tune.search.hyperopt import HyperOptSearch\n",
    "\n",
    "search_alg = HyperOptSearch()\n",
    "search_alg = tune.search.Repeater(search_alg, N_SPLITS)\n",
    "\n",
    "if os.uname().nodename == 'lamarck':\n",
    "    assert torch.cuda.is_available()\n",
    "    \n",
    "    NUM_SAMPLES = 250\n",
    "    # Every run takes approx half a gig of vram (no optimizations)\n",
    "    # The RTX 4090 has 24GB so we can run the model about 48 times\n",
    "    resources_per_trial={\n",
    "        'cpu': 1,\n",
    "        'gpu': 1/32,\n",
    "    }\n",
    "else:\n",
    "    NUM_SAMPLES = 10\n",
    "    resources_per_trial={\n",
    "        'cpu': 2,\n",
    "        'memory': 2e9,\n",
    "    }\n",
    "\n",
    "tuner = tune.Tuner(\n",
    "    tune.with_resources(\n",
    "        tune.with_parameters(TrainLightGCN, folds=folds),\n",
    "        resources_per_trial,\n",
    "    ),\n",
    "    run_config=train.RunConfig(\n",
    "        stop={'training_iteration': MAX_EPOCHS/EPOCHS_PER_ITER}\n",
    "    ),\n",
    "    param_space=dict(\n",
    "        # batch size between 2**4 (32) and 2**10 (1024)\n",
    "        batch_size=tune.randint(4,10),\n",
    "        embedding_dim=tune.qlograndint(10, 500, 5),\n",
    "        conv_layers=tune.randint(2,6),\n",
    "        learning_rate=tune.qloguniform(1e-5, 1, 1e-5),\n",
    "        l2=tune.loguniform(1e-9, 1e-1),\n",
    "    ),\n",
    "    tune_config=tune.TuneConfig(\n",
    "        search_alg=search_alg,\n",
    "        num_samples=(N_SPLITS-SKIP_SPLIT)*N_SAMPLES,\n",
    "        metric='loss',\n",
    "        mode='min',\n",
    "    )\n",
    ")\n",
    "tuner.fit()"
   ]
  },
  {
   "cell_type": "code",
   "execution_count": null,
   "id": "51108d93-8429-457e-8b23-271a069c9542",
   "metadata": {},
   "outputs": [],
   "source": []
  }
 ],
 "metadata": {
  "kernelspec": {
   "display_name": "Python 3 (ipykernel)",
   "language": "python",
   "name": "python3"
  },
  "language_info": {
   "codemirror_mode": {
    "name": "ipython",
    "version": 3
   },
   "file_extension": ".py",
   "mimetype": "text/x-python",
   "name": "python",
   "nbconvert_exporter": "python",
   "pygments_lexer": "ipython3",
   "version": "3.9.18"
  },
  "widgets": {
   "application/vnd.jupyter.widget-state+json": {
    "state": {},
    "version_major": 2,
    "version_minor": 0
   }
  }
 },
 "nbformat": 4,
 "nbformat_minor": 5
}
