{
 "cells": [
  {
   "cell_type": "code",
   "execution_count": 1,
   "id": "37544896-060f-436a-9846-dd80347e2263",
   "metadata": {},
   "outputs": [],
   "source": [
    "import datetime as dt\n",
    "import itertools as it\n",
    "\n",
    "import pandas as pd\n",
    "import numpy as np\n",
    "\n",
    "from pathlib import Path\n",
    "\n",
    "import lenskit\n",
    "\n",
    "from src import paths\n",
    "from src.datasets import daocensus_text\n",
    "from src.model_selection import timeFreqSplitCurrent\n",
    "from src.utils import Timer"
   ]
  },
  {
   "cell_type": "code",
   "execution_count": 2,
   "id": "8cc1c020-6dce-438b-b65f-f02c7400d59a",
   "metadata": {},
   "outputs": [],
   "source": [
    "# TODO: Deleteme\n",
    "import warnings\n",
    "warnings.simplefilter(action='ignore', category=FutureWarning)"
   ]
  },
  {
   "cell_type": "markdown",
   "id": "0dfcf890-3a4c-4c9b-99a0-59de27e2830a",
   "metadata": {},
   "source": [
    "## Parameters"
   ]
  },
  {
   "cell_type": "code",
   "execution_count": 3,
   "id": "7994e1c4-bb09-4676-bf69-7d7ad677d82e",
   "metadata": {},
   "outputs": [],
   "source": [
    "ORG_NAME = 'Decentraland'\n",
    "ORG_PLATFORM: str = 'snapshot'\n",
    "USE_ORG_NAMES: bool = True\n",
    "\n",
    "# Evaluation\n",
    "K_RECOMMENDATIONS: list[int] = [1,3,5,10]\n",
    "SPLITS_FREQ: str = 'W-THU' # split weekly\n",
    "SPLITS_NORMALIZE = True # Wether or not to move everything to 00:00\n",
    "LAST_SPLITS = 10 # Use just last 10 splits\n",
    "CUTOFF_DATE_STR: str = '2023-07-29'\n",
    "\n",
    "MDF_FILE: str = None"
   ]
  },
  {
   "cell_type": "code",
   "execution_count": 4,
   "id": "a7d049ad-b6aa-4041-bbcd-e640a13d612f",
   "metadata": {},
   "outputs": [
    {
     "name": "stdout",
     "output_type": "stream",
     "text": [
      "CUTOFF_DATE 2023-07-29 00:00:00 <class 'datetime.datetime'>\n",
      "data/pln/mdf_Decentraland_W-THU_normalize-cutoff_date=2023-07-29 00:00:00.pkl\n"
     ]
    }
   ],
   "source": [
    "CUTOFF_DATE = dt.datetime.fromisoformat(CUTOFF_DATE_STR) if CUTOFF_DATE_STR else None\n",
    "\n",
    "print('CUTOFF_DATE', CUTOFF_DATE, type(CUTOFF_DATE))\n",
    "# Metrics Dataframe\n",
    "MDF_FILE = Path(MDF_FILE) if MDF_FILE else paths.pln_mdf(ORG_NAME, SPLITS_FREQ, SPLITS_NORMALIZE, cutoff_date=CUTOFF_DATE)\n",
    "print(MDF_FILE)"
   ]
  },
  {
   "cell_type": "markdown",
   "id": "c0fddc4b-b141-49be-b5ce-1b3d93fe6584",
   "metadata": {},
   "source": [
    "## Getting the dataset"
   ]
  },
  {
   "cell_type": "code",
   "execution_count": 5,
   "id": "eb88acbc-464f-451b-a800-f746c6c6f5b3",
   "metadata": {},
   "outputs": [
    {
     "name": "stdout",
     "output_type": "stream",
     "text": [
      "Decentraland snapshot True 2023-07-29 00:00:00\n",
      "Warning, removing 116560 votes without proposal\n",
      "<class 'pandas.core.frame.DataFrame'>\n",
      "RangeIndex: 116560 entries, 0 to 116559\n",
      "Data columns (total 10 columns):\n",
      " #   Column         Non-Null Count   Dtype         \n",
      "---  ------         --------------   -----         \n",
      " 0   platform       116560 non-null  object        \n",
      " 1   name           116560 non-null  object        \n",
      " 2   id             116560 non-null  object        \n",
      " 3   proposal       116560 non-null  object        \n",
      " 4   deployment     116560 non-null  object        \n",
      " 5   platform_vote  116560 non-null  object        \n",
      " 6   voter          116560 non-null  object        \n",
      " 7   date           116560 non-null  datetime64[us]\n",
      " 8   choice         116560 non-null  object        \n",
      " 9   weight         116560 non-null  float64       \n",
      "dtypes: datetime64[us](1), float64(1), object(8)\n",
      "memory usage: 8.9+ MB\n",
      "None\n",
      "<class 'pandas.core.frame.DataFrame'>\n",
      "Index: 1942 entries, 5301d20a-7943-500f-b69c-50944cf6b919 to 5c62cef0-2102-5dcf-8083-41a045bb0f68\n",
      "Data columns (total 12 columns):\n",
      " #   Column               Non-Null Count  Dtype         \n",
      "---  ------               --------------  -----         \n",
      " 0   platform             1942 non-null   object        \n",
      " 1   name                 1942 non-null   object        \n",
      " 2   platform_deployment  1942 non-null   object        \n",
      " 3   deployment           1942 non-null   object        \n",
      " 4   platform_proposal    1942 non-null   object        \n",
      " 5   author               1942 non-null   category      \n",
      " 6   date                 1942 non-null   datetime64[us]\n",
      " 7   title                1942 non-null   object        \n",
      " 8   description          1942 non-null   object        \n",
      " 9   start                1942 non-null   datetime64[us]\n",
      " 10  end                  1942 non-null   datetime64[us]\n",
      " 11  votes_count          1942 non-null   int64         \n",
      "dtypes: category(1), datetime64[us](3), int64(1), object(7)\n",
      "memory usage: 184.0+ KB\n",
      "None\n"
     ]
    }
   ],
   "source": [
    "print(ORG_NAME, ORG_PLATFORM, USE_ORG_NAMES, CUTOFF_DATE)\n",
    "dfv, dfp = daocensus_text.get(\"./data/daos-census-text\", ORG_NAME, ORG_PLATFORM, use_org_names=USE_ORG_NAMES, cutoff_date=CUTOFF_DATE)\n",
    "dfv[['voter', 'proposal']] = dfv[['voter', 'proposal']].astype(str)\n",
    "dfp[['id']] = dfp[['id']].astype(str)\n",
    "dfp = dfp.set_index('id')\n",
    "print(dfv.info())\n",
    "print(dfp.info())"
   ]
  },
  {
   "cell_type": "code",
   "execution_count": 6,
   "id": "36e89ca5-a229-4b3e-806f-f4136d2b04b9",
   "metadata": {},
   "outputs": [],
   "source": [
    "def to_lenskit(dfv):\n",
    "    df = dfv[['voter', 'proposal', 'date']].rename(columns={\n",
    "        'voter': 'user',\n",
    "        'proposal': 'item',\n",
    "        'date': 'timestamp',\n",
    "    })\n",
    "    df['user'] = df['user'].astype('str')\n",
    "    df['item'] = df['item'].astype('str')\n",
    "    df['rating'] = 1\n",
    "    \n",
    "    return df"
   ]
  },
  {
   "cell_type": "markdown",
   "id": "c1e08c6d-a4b5-4602-bf7e-6f671d05e987",
   "metadata": {},
   "source": [
    "## Using Item-based KNN"
   ]
  },
  {
   "cell_type": "code",
   "execution_count": 7,
   "id": "b000efad-3f0a-49db-bc6c-6e2ee31219a3",
   "metadata": {},
   "outputs": [],
   "source": [
    "from lenskit.algorithms import item_knn\n",
    "from recommenders.evaluation.python_evaluation import map_at_k, ndcg_at_k, precision_at_k, recall_at_k, r_precision_at_k"
   ]
  },
  {
   "cell_type": "code",
   "execution_count": 8,
   "id": "c5d44082-3928-4b34-b00d-09c807eb6ad8",
   "metadata": {},
   "outputs": [],
   "source": [
    "df = to_lenskit(dfv)\n",
    "all_folds = list(timeFreqSplitCurrent(\n",
    "    df, SPLITS_FREQ, dfp.reset_index(), return_open=True, remove_not_in_train_col='user',\n",
    "    item_col='item',\n",
    "    user_col='user',\n",
    "))\n",
    "folds = all_folds[-LAST_SPLITS:]"
   ]
  },
  {
   "cell_type": "code",
   "execution_count": 9,
   "id": "dfbbd1b8-5e5f-487e-8176-13bfe03ff397",
   "metadata": {},
   "outputs": [],
   "source": [
    "metrics_f = { \n",
    "    'precision':precision_at_k, \n",
    "    'ndcg': ndcg_at_k, \n",
    "    'map': map_at_k, \n",
    "    'recall': recall_at_k,\n",
    "    'r-precision': r_precision_at_k,\n",
    "}"
   ]
  },
  {
   "cell_type": "code",
   "execution_count": 10,
   "id": "500fa864-5867-4263-815a-73c6198b8c95",
   "metadata": {},
   "outputs": [
    {
     "name": "stdout",
     "output_type": "stream",
     "text": [
      "nunique train: 1838\n",
      "open props: 18\n",
      "open props in train: 18\n",
      "nunique test: 18\n",
      "open props in test: 18\n"
     ]
    },
    {
     "data": {
      "text/plain": [
       "True"
      ]
     },
     "execution_count": 10,
     "metadata": {},
     "output_type": "execute_result"
    }
   ],
   "source": [
    "print('nunique train:', folds[0].train['item'].nunique())\n",
    "print('open props:', len(folds[0].open_proposals))\n",
    "print('open props in train:', len(np.intersect1d(folds[0].open_proposals, folds[0].train['item'].unique())))\n",
    "print('nunique test:', folds[0].test['item'].nunique())\n",
    "print('open props in test:', len(np.intersect1d(folds[0].open_proposals, folds[0].test['item'].unique())))\n",
    "'360848f6-b447-5540-ba76-a035cff69734' in folds[0].train['item'].unique()"
   ]
  },
  {
   "cell_type": "code",
   "execution_count": 11,
   "id": "58cc20c4-bfd9-4e46-a25b-8e2c9d0db877",
   "metadata": {},
   "outputs": [
    {
     "data": {
      "text/html": [
       "<div>\n",
       "<style scoped>\n",
       "    .dataframe tbody tr th:only-of-type {\n",
       "        vertical-align: middle;\n",
       "    }\n",
       "\n",
       "    .dataframe tbody tr th {\n",
       "        vertical-align: top;\n",
       "    }\n",
       "\n",
       "    .dataframe thead th {\n",
       "        text-align: right;\n",
       "    }\n",
       "</style>\n",
       "<table border=\"1\" class=\"dataframe\">\n",
       "  <thead>\n",
       "    <tr style=\"text-align: right;\">\n",
       "      <th></th>\n",
       "      <th>user</th>\n",
       "      <th>item</th>\n",
       "      <th>timestamp</th>\n",
       "      <th>rating</th>\n",
       "    </tr>\n",
       "  </thead>\n",
       "  <tbody>\n",
       "    <tr>\n",
       "      <th>107380</th>\n",
       "      <td>0xc375b0a133f49dbf3c6418895d6d024be2d8f84a</td>\n",
       "      <td>360848f6-b447-5540-ba76-a035cff69734</td>\n",
       "      <td>2023-05-10 22:50:35</td>\n",
       "      <td>1</td>\n",
       "    </tr>\n",
       "    <tr>\n",
       "      <th>107383</th>\n",
       "      <td>0x6a43fcce7dec946dc463d4e3cefe436c651f2466</td>\n",
       "      <td>360848f6-b447-5540-ba76-a035cff69734</td>\n",
       "      <td>2023-05-10 17:26:35</td>\n",
       "      <td>1</td>\n",
       "    </tr>\n",
       "    <tr>\n",
       "      <th>107390</th>\n",
       "      <td>0x8660c0133a9705ab8ab370c3b4e63b60381bf4b3</td>\n",
       "      <td>360848f6-b447-5540-ba76-a035cff69734</td>\n",
       "      <td>2023-05-10 10:39:54</td>\n",
       "      <td>1</td>\n",
       "    </tr>\n",
       "    <tr>\n",
       "      <th>107406</th>\n",
       "      <td>0xdd9a5ca4710fe4b08672fabc2d5774e0926a4afb</td>\n",
       "      <td>360848f6-b447-5540-ba76-a035cff69734</td>\n",
       "      <td>2023-05-09 18:17:01</td>\n",
       "      <td>1</td>\n",
       "    </tr>\n",
       "    <tr>\n",
       "      <th>107410</th>\n",
       "      <td>0x70753f5847071ec1c96cb9ebed2b2dbe2846da3a</td>\n",
       "      <td>360848f6-b447-5540-ba76-a035cff69734</td>\n",
       "      <td>2023-05-09 16:25:40</td>\n",
       "      <td>1</td>\n",
       "    </tr>\n",
       "    <tr>\n",
       "      <th>...</th>\n",
       "      <td>...</td>\n",
       "      <td>...</td>\n",
       "      <td>...</td>\n",
       "      <td>...</td>\n",
       "    </tr>\n",
       "    <tr>\n",
       "      <th>107529</th>\n",
       "      <td>0x4e9f5aa62c28f40bd772fbf7826a0595ec2dbad0</td>\n",
       "      <td>360848f6-b447-5540-ba76-a035cff69734</td>\n",
       "      <td>2023-05-03 03:37:30</td>\n",
       "      <td>1</td>\n",
       "    </tr>\n",
       "    <tr>\n",
       "      <th>107530</th>\n",
       "      <td>0xfec447014eb1b96279d7fef62ea3f8848f99d09d</td>\n",
       "      <td>360848f6-b447-5540-ba76-a035cff69734</td>\n",
       "      <td>2023-05-03 03:30:57</td>\n",
       "      <td>1</td>\n",
       "    </tr>\n",
       "    <tr>\n",
       "      <th>107531</th>\n",
       "      <td>0xed0e0cb94f60f72ec94bef848f5df4cbd365af1d</td>\n",
       "      <td>360848f6-b447-5540-ba76-a035cff69734</td>\n",
       "      <td>2023-05-03 02:29:10</td>\n",
       "      <td>1</td>\n",
       "    </tr>\n",
       "    <tr>\n",
       "      <th>107532</th>\n",
       "      <td>0x88f659b4b6d5614b991c6404b34f821e10390ec0</td>\n",
       "      <td>360848f6-b447-5540-ba76-a035cff69734</td>\n",
       "      <td>2023-05-03 00:14:08</td>\n",
       "      <td>1</td>\n",
       "    </tr>\n",
       "    <tr>\n",
       "      <th>107533</th>\n",
       "      <td>0xc5f705ca8f70acc5f3d3db9636558102f528a475</td>\n",
       "      <td>360848f6-b447-5540-ba76-a035cff69734</td>\n",
       "      <td>2023-05-03 00:01:23</td>\n",
       "      <td>1</td>\n",
       "    </tr>\n",
       "  </tbody>\n",
       "</table>\n",
       "<p>91 rows × 4 columns</p>\n",
       "</div>"
      ],
      "text/plain": [
       "                                              user  \\\n",
       "107380  0xc375b0a133f49dbf3c6418895d6d024be2d8f84a   \n",
       "107383  0x6a43fcce7dec946dc463d4e3cefe436c651f2466   \n",
       "107390  0x8660c0133a9705ab8ab370c3b4e63b60381bf4b3   \n",
       "107406  0xdd9a5ca4710fe4b08672fabc2d5774e0926a4afb   \n",
       "107410  0x70753f5847071ec1c96cb9ebed2b2dbe2846da3a   \n",
       "...                                            ...   \n",
       "107529  0x4e9f5aa62c28f40bd772fbf7826a0595ec2dbad0   \n",
       "107530  0xfec447014eb1b96279d7fef62ea3f8848f99d09d   \n",
       "107531  0xed0e0cb94f60f72ec94bef848f5df4cbd365af1d   \n",
       "107532  0x88f659b4b6d5614b991c6404b34f821e10390ec0   \n",
       "107533  0xc5f705ca8f70acc5f3d3db9636558102f528a475   \n",
       "\n",
       "                                        item           timestamp  rating  \n",
       "107380  360848f6-b447-5540-ba76-a035cff69734 2023-05-10 22:50:35       1  \n",
       "107383  360848f6-b447-5540-ba76-a035cff69734 2023-05-10 17:26:35       1  \n",
       "107390  360848f6-b447-5540-ba76-a035cff69734 2023-05-10 10:39:54       1  \n",
       "107406  360848f6-b447-5540-ba76-a035cff69734 2023-05-09 18:17:01       1  \n",
       "107410  360848f6-b447-5540-ba76-a035cff69734 2023-05-09 16:25:40       1  \n",
       "...                                      ...                 ...     ...  \n",
       "107529  360848f6-b447-5540-ba76-a035cff69734 2023-05-03 03:37:30       1  \n",
       "107530  360848f6-b447-5540-ba76-a035cff69734 2023-05-03 03:30:57       1  \n",
       "107531  360848f6-b447-5540-ba76-a035cff69734 2023-05-03 02:29:10       1  \n",
       "107532  360848f6-b447-5540-ba76-a035cff69734 2023-05-03 00:14:08       1  \n",
       "107533  360848f6-b447-5540-ba76-a035cff69734 2023-05-03 00:01:23       1  \n",
       "\n",
       "[91 rows x 4 columns]"
      ]
     },
     "execution_count": 11,
     "metadata": {},
     "output_type": "execute_result"
    }
   ],
   "source": [
    "folds[0].train[folds[0].train['item'] == '360848f6-b447-5540-ba76-a035cff69734']"
   ]
  },
  {
   "cell_type": "code",
   "execution_count": 12,
   "id": "98560d2a-43a1-4b20-9800-850bcb693d78",
   "metadata": {},
   "outputs": [
    {
     "name": "stderr",
     "output_type": "stream",
     "text": [
      "/home/daviddavo/upm-tfm-notebooks/.direnv/python-3.9/lib/python3.9/site-packages/numba/np/ufunc/parallel.py:371: NumbaWarning: \u001b[1mThe TBB threading layer requires TBB version 2021 update 6 or later i.e., TBB_INTERFACE_VERSION >= 12060. Found TBB_INTERFACE_VERSION = 12050. The TBB threading layer is disabled.\u001b[0m\n",
      "  warnings.warn(problem)\n",
      "Numba is using threading layer omp - consider TBB\n",
      "found 1 potential runtime problems - see https://boi.st/lkpy-perf\n",
      "/home/daviddavo/upm-tfm-notebooks/.direnv/python-3.9/lib/python3.9/site-packages/lenskit/algorithms/item_knn.py:119: NumbaTypeSafetyWarning: \u001b[1m\u001b[1m\u001b[1munsafe cast from uint64 to int64. Precision may be lost.\u001b[0m\u001b[0m\u001b[0m\n",
      "  b = blocks[bi]\n"
     ]
    },
    {
     "data": {
      "text/plain": [
       "{'time': 5.886575273936614,\n",
       " 'min_recs': 1,\n",
       " 'avg_recs': 9.795918367346939,\n",
       " 'precision@1': 0.41836734693877553,\n",
       " 'precision@3': 0.3537414965986395,\n",
       " 'precision@5': 0.2816326530612245,\n",
       " 'precision@10': 0.2010204081632653,\n",
       " 'ndcg@1': 0.2949640287769784,\n",
       " 'ndcg@3': 0.3355170230723114,\n",
       " 'ndcg@5': 0.36015071902018586,\n",
       " 'ndcg@10': 0.4009555318439043,\n",
       " 'map@1': 0.41836734693877553,\n",
       " 'map@3': 0.4433106575963719,\n",
       " 'map@5': 0.4638265306122449,\n",
       " 'map@10': 0.49638325369830466,\n",
       " 'recall@1': 0.19142371234207967,\n",
       " 'recall@3': 0.45538143828960154,\n",
       " 'recall@5': 0.558357628765792,\n",
       " 'recall@10': 0.7184766763848396,\n",
       " 'r-precision@1': 0.4575493612078977,\n",
       " 'r-precision@3': 0.7181839402427638,\n",
       " 'r-precision@5': 0.7572776280323449,\n",
       " 'r-precision@10': 0.7934411500449234}"
      ]
     },
     "execution_count": 12,
     "metadata": {},
     "output_type": "execute_result"
    }
   ],
   "source": [
    "def testHParamsItemKNN(fold, k: int, window_size=None):\n",
    "    # Get and filter train data\n",
    "    f = folds[fold]\n",
    "    train = f.train\n",
    "    \n",
    "    if window_size:\n",
    "        offset = pd.tseries.frequencies.to_offset(window_size)\n",
    "        train = train[train['timestamp'] > (f.end - offset)]\n",
    "\n",
    "    # Create algorithm\n",
    "    algo = item_knn.ItemItem(\n",
    "        feedback='implicit', # VERY IMPORTANT\n",
    "        min_sim=0,\n",
    "        # min_nbrs=0,\n",
    "        nnbrs=k,  # the maximum number of neighbors for scoring each item (None for unlimited)\n",
    "    )\n",
    "    with Timer() as t:\n",
    "        algo.fit(train)\n",
    "\n",
    "    # TODO: For each user, make the recommendations\n",
    "    # and then generate a microsoft-like dataframe\n",
    "    users = set(f.test['user'].unique()).intersection(train['user'].unique())\n",
    "    voted_props = train.groupby('user')['item'].unique()\n",
    "    def _recu(u):\n",
    "        # Remove proposals the user voted in\n",
    "        ps = np.setdiff1d(f.open_proposals, voted_props.loc[u])\n",
    "        # TODO: WHY DOES IT RETURN SO MANY NAs?\n",
    "        x = (algo\n",
    "            .predict_for_user(u, ps)\n",
    "            .rename('prediction')\n",
    "            .reset_index()\n",
    "            # .dropna()\n",
    "            .fillna(0.00)\n",
    "            .assign(user=u)[['user', 'item', 'prediction']]\n",
    "        )\n",
    "        return x\n",
    "\n",
    "    recs = pd.concat(map(_recu, users))\n",
    "    # display(recs[recs['user'] == '0x58787bf10665b2f0f7cd995e762df0f46a7601d0'])\n",
    "\n",
    "    metrics = { \n",
    "        'time': t.time, \n",
    "        # 'open_proposals': len(f.open_proposals),\n",
    "        # 'train_open_proposals': len(np.intersect1d(f.open_proposals, train['item'].unique())),\n",
    "        'min_recs': recs.groupby('user').size().min(),\n",
    "        'avg_recs': recs.groupby('user').size().mean(),\n",
    "    }\n",
    "    for (m, e), k_recs in it.product(metrics_f.items(), K_RECOMMENDATIONS):\n",
    "        metrics[f'{m}@{k_recs}'] = e(f.test, recs, k=k_recs, col_user='user', col_item='item')\n",
    "\n",
    "    return metrics\n",
    "    \n",
    "testHParamsItemKNN(0, 5, '14d')"
   ]
  }
 ],
 "metadata": {
  "kernelspec": {
   "display_name": "Python 3 (ipykernel)",
   "language": "python",
   "name": "python3"
  },
  "language_info": {
   "codemirror_mode": {
    "name": "ipython",
    "version": 3
   },
   "file_extension": ".py",
   "mimetype": "text/x-python",
   "name": "python",
   "nbconvert_exporter": "python",
   "pygments_lexer": "ipython3",
   "version": "3.9.18"
  },
  "widgets": {
   "application/vnd.jupyter.widget-state+json": {
    "state": {},
    "version_major": 2,
    "version_minor": 0
   }
  }
 },
 "nbformat": 4,
 "nbformat_minor": 5
}
