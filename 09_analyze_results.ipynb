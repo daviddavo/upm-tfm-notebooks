{
 "cells": [
  {
   "cell_type": "code",
   "execution_count": 1,
   "id": "100ba106-869e-4809-b126-a4cd709a37ca",
   "metadata": {},
   "outputs": [],
   "source": [
    "from pathlib import Path\n",
    "\n",
    "import pandas as pd\n",
    "\n",
    "import plotly.express as px\n",
    "import matplotlib.pyplot as plt\n",
    "import seaborn as sns\n",
    "\n",
    "from ray import tune\n",
    "from ray.air import Checkpoint, session"
   ]
  },
  {
   "cell_type": "code",
   "execution_count": 2,
   "id": "79f24d23-0268-47f1-a099-09d669f95bdc",
   "metadata": {},
   "outputs": [],
   "source": [
    "ray_results_path = Path(\"~/ray_results\").expanduser()\n",
    "assert ray_results_path.is_dir()"
   ]
  },
  {
   "cell_type": "code",
   "execution_count": 3,
   "id": "fefea4a7-6daf-4c0f-8380-c3d75b037214",
   "metadata": {},
   "outputs": [
    {
     "name": "stdout",
     "output_type": "stream",
     "text": [
      "Loading results from /home/daviddavo/ray_results/TrainLightGCN_2023-11-12_20-13-31...\n"
     ]
    },
    {
     "data": {
      "text/plain": [
       "Result(\n",
       "  metrics={'iteration': 200, 'loss': 0.00014836744854359753, 'mf_loss': 6.732341853421531e-05, 'emb_loss': 8.104402721593421e-05, 'model_recall': 0.0, 'model_ndcg': 0.0, 'model_precision': 0.0, 'model_map': 0.0, 'precision@5': 0.23703703703703707, 'ndcg@5': 0.43461596321466217, 'recall@5': 0.698941798941799, 'map@5': 0.3104232804232804, 'precision@10': 0.17777777777777778, 'ndcg@10': 0.5525028669252282, 'recall@10': 1.0, 'map@10': 0.39474342823549163},\n",
       "  path='/home/daviddavo/ray_results/TrainLightGCN_2023-11-12_20-13-31/TrainLightGCN_253195d4_641_trial_index=0,batch_size=8,conv_layers=2,embedding_dim=90,l2=0.0000,learning_rate=0.0228_2023-11-13_18-40-36',\n",
       "  filesystem='local',\n",
       "  checkpoint=Checkpoint(filesystem=local, path=/home/daviddavo/ray_results/TrainLightGCN_2023-11-12_20-13-31/TrainLightGCN_253195d4_641_trial_index=0,batch_size=8,conv_layers=2,embedding_dim=90,l2=0.0000,learning_rate=0.0228_2023-11-13_18-40-36/checkpoint_000000)\n",
       ")"
      ]
     },
     "execution_count": 3,
     "metadata": {},
     "output_type": "execute_result"
    }
   ],
   "source": [
    "last_experiment = max(ray_results_path.glob('TrainLightGCN_*'), key=lambda x: x.stat().st_ctime)\n",
    "print(f\"Loading results from {last_experiment}...\")\n",
    "assert last_experiment.is_dir()\n",
    "\n",
    "class TrainLightGCN:\n",
    "    def __init__(self):\n",
    "        raise NotImplementedError\n",
    "\n",
    "# TODO: Create an experiment grid or whatever is called\n",
    "tuner = tune.Tuner.restore(str(last_experiment), TrainLightGCN)\n",
    "rg = tuner.get_results()\n",
    "rg.get_best_result()"
   ]
  },
  {
   "cell_type": "code",
   "execution_count": 5,
   "id": "49551b13-91e9-4c5a-b72a-590e353686af",
   "metadata": {},
   "outputs": [
    {
     "name": "stdout",
     "output_type": "stream",
     "text": [
      "Index(['iteration', 'loss', 'mf_loss', 'emb_loss', 'model_recall',\n",
      "       'model_ndcg', 'model_precision', 'model_map', 'precision@5', 'ndcg@5',\n",
      "       'recall@5', 'map@5', 'precision@10', 'ndcg@10', 'recall@10', 'map@10',\n",
      "       'done', 'training_iteration', 'trial_id', 'time_this_iter_s',\n",
      "       'time_total_s', 'checkpoint_dir_name', 'config/batch_size',\n",
      "       'config/embedding_dim', 'config/conv_layers', 'config/learning_rate',\n",
      "       'config/l2', 'config/__trial_index__'],\n",
      "      dtype='object')\n"
     ]
    },
    {
     "data": {
      "text/html": [
       "<div>\n",
       "<style scoped>\n",
       "    .dataframe tbody tr th:only-of-type {\n",
       "        vertical-align: middle;\n",
       "    }\n",
       "\n",
       "    .dataframe tbody tr th {\n",
       "        vertical-align: top;\n",
       "    }\n",
       "\n",
       "    .dataframe thead th {\n",
       "        text-align: right;\n",
       "    }\n",
       "</style>\n",
       "<table border=\"1\" class=\"dataframe\">\n",
       "  <thead>\n",
       "    <tr style=\"text-align: right;\">\n",
       "      <th></th>\n",
       "      <th>iteration</th>\n",
       "      <th>loss</th>\n",
       "      <th>mf_loss</th>\n",
       "      <th>emb_loss</th>\n",
       "      <th>model_recall</th>\n",
       "      <th>model_ndcg</th>\n",
       "      <th>model_precision</th>\n",
       "      <th>model_map</th>\n",
       "      <th>precision@5</th>\n",
       "      <th>ndcg@5</th>\n",
       "      <th>...</th>\n",
       "      <th>trial_id</th>\n",
       "      <th>time_this_iter_s</th>\n",
       "      <th>time_total_s</th>\n",
       "      <th>checkpoint_dir_name</th>\n",
       "      <th>config/batch_size</th>\n",
       "      <th>config/embedding_dim</th>\n",
       "      <th>config/conv_layers</th>\n",
       "      <th>config/learning_rate</th>\n",
       "      <th>config/l2</th>\n",
       "      <th>config/__trial_index__</th>\n",
       "    </tr>\n",
       "  </thead>\n",
       "  <tbody>\n",
       "    <tr>\n",
       "      <th>13</th>\n",
       "      <td>160</td>\n",
       "      <td>0.032010</td>\n",
       "      <td>0.018312</td>\n",
       "      <td>0.013698</td>\n",
       "      <td>0.031267</td>\n",
       "      <td>0.033223</td>\n",
       "      <td>0.0224</td>\n",
       "      <td>0.019976</td>\n",
       "      <td>0.2880</td>\n",
       "      <td>0.492967</td>\n",
       "      <td>...</td>\n",
       "      <td>622d4b6a</td>\n",
       "      <td>8.220458</td>\n",
       "      <td>283.030658</td>\n",
       "      <td>None</td>\n",
       "      <td>512</td>\n",
       "      <td>230</td>\n",
       "      <td>3</td>\n",
       "      <td>0.0288</td>\n",
       "      <td>5.024596e-06</td>\n",
       "      <td>9</td>\n",
       "    </tr>\n",
       "    <tr>\n",
       "      <th>326</th>\n",
       "      <td>200</td>\n",
       "      <td>174.247947</td>\n",
       "      <td>4.333292</td>\n",
       "      <td>169.914655</td>\n",
       "      <td>0.080498</td>\n",
       "      <td>0.064582</td>\n",
       "      <td>0.0464</td>\n",
       "      <td>0.035119</td>\n",
       "      <td>0.2896</td>\n",
       "      <td>0.539725</td>\n",
       "      <td>...</td>\n",
       "      <td>eeb37533</td>\n",
       "      <td>369.332575</td>\n",
       "      <td>11370.628423</td>\n",
       "      <td>None</td>\n",
       "      <td>16</td>\n",
       "      <td>170</td>\n",
       "      <td>3</td>\n",
       "      <td>0.7374</td>\n",
       "      <td>2.033083e-02</td>\n",
       "      <td>9</td>\n",
       "    </tr>\n",
       "    <tr>\n",
       "      <th>151</th>\n",
       "      <td>135</td>\n",
       "      <td>0.530390</td>\n",
       "      <td>0.515522</td>\n",
       "      <td>0.014868</td>\n",
       "      <td>0.044533</td>\n",
       "      <td>0.038790</td>\n",
       "      <td>0.0336</td>\n",
       "      <td>0.022162</td>\n",
       "      <td>0.2896</td>\n",
       "      <td>0.433809</td>\n",
       "      <td>...</td>\n",
       "      <td>cfbbdf50</td>\n",
       "      <td>125.967606</td>\n",
       "      <td>4018.716840</td>\n",
       "      <td>None</td>\n",
       "      <td>32</td>\n",
       "      <td>200</td>\n",
       "      <td>2</td>\n",
       "      <td>0.0281</td>\n",
       "      <td>4.210334e-07</td>\n",
       "      <td>9</td>\n",
       "    </tr>\n",
       "    <tr>\n",
       "      <th>868</th>\n",
       "      <td>35</td>\n",
       "      <td>0.018794</td>\n",
       "      <td>0.015916</td>\n",
       "      <td>0.002878</td>\n",
       "      <td>0.033200</td>\n",
       "      <td>0.030150</td>\n",
       "      <td>0.0240</td>\n",
       "      <td>0.017856</td>\n",
       "      <td>0.2912</td>\n",
       "      <td>0.458743</td>\n",
       "      <td>...</td>\n",
       "      <td>dd17f608</td>\n",
       "      <td>313.998007</td>\n",
       "      <td>2242.291270</td>\n",
       "      <td>None</td>\n",
       "      <td>16</td>\n",
       "      <td>250</td>\n",
       "      <td>3</td>\n",
       "      <td>0.0063</td>\n",
       "      <td>3.680730e-06</td>\n",
       "      <td>9</td>\n",
       "    </tr>\n",
       "    <tr>\n",
       "      <th>792</th>\n",
       "      <td>20</td>\n",
       "      <td>3.796053</td>\n",
       "      <td>0.559920</td>\n",
       "      <td>3.236134</td>\n",
       "      <td>0.023000</td>\n",
       "      <td>0.014481</td>\n",
       "      <td>0.0096</td>\n",
       "      <td>0.007667</td>\n",
       "      <td>0.3040</td>\n",
       "      <td>0.496307</td>\n",
       "      <td>...</td>\n",
       "      <td>5de42a1b</td>\n",
       "      <td>17.905702</td>\n",
       "      <td>72.966309</td>\n",
       "      <td>None</td>\n",
       "      <td>256</td>\n",
       "      <td>185</td>\n",
       "      <td>4</td>\n",
       "      <td>0.2935</td>\n",
       "      <td>7.669483e-04</td>\n",
       "      <td>9</td>\n",
       "    </tr>\n",
       "  </tbody>\n",
       "</table>\n",
       "<p>5 rows × 28 columns</p>\n",
       "</div>"
      ],
      "text/plain": [
       "     iteration        loss   mf_loss    emb_loss  model_recall  model_ndcg  \\\n",
       "13         160    0.032010  0.018312    0.013698      0.031267    0.033223   \n",
       "326        200  174.247947  4.333292  169.914655      0.080498    0.064582   \n",
       "151        135    0.530390  0.515522    0.014868      0.044533    0.038790   \n",
       "868         35    0.018794  0.015916    0.002878      0.033200    0.030150   \n",
       "792         20    3.796053  0.559920    3.236134      0.023000    0.014481   \n",
       "\n",
       "     model_precision  model_map  precision@5    ndcg@5  ...  trial_id  \\\n",
       "13            0.0224   0.019976       0.2880  0.492967  ...  622d4b6a   \n",
       "326           0.0464   0.035119       0.2896  0.539725  ...  eeb37533   \n",
       "151           0.0336   0.022162       0.2896  0.433809  ...  cfbbdf50   \n",
       "868           0.0240   0.017856       0.2912  0.458743  ...  dd17f608   \n",
       "792           0.0096   0.007667       0.3040  0.496307  ...  5de42a1b   \n",
       "\n",
       "     time_this_iter_s  time_total_s  checkpoint_dir_name  config/batch_size  \\\n",
       "13           8.220458    283.030658                 None                512   \n",
       "326        369.332575  11370.628423                 None                 16   \n",
       "151        125.967606   4018.716840                 None                 32   \n",
       "868        313.998007   2242.291270                 None                 16   \n",
       "792         17.905702     72.966309                 None                256   \n",
       "\n",
       "     config/embedding_dim  config/conv_layers  config/learning_rate  \\\n",
       "13                    230                   3                0.0288   \n",
       "326                   170                   3                0.7374   \n",
       "151                   200                   2                0.0281   \n",
       "868                   250                   3                0.0063   \n",
       "792                   185                   4                0.2935   \n",
       "\n",
       "        config/l2  config/__trial_index__  \n",
       "13   5.024596e-06                       9  \n",
       "326  2.033083e-02                       9  \n",
       "151  4.210334e-07                       9  \n",
       "868  3.680730e-06                       9  \n",
       "792  7.669483e-04                       9  \n",
       "\n",
       "[5 rows x 28 columns]"
      ]
     },
     "execution_count": 5,
     "metadata": {},
     "output_type": "execute_result"
    }
   ],
   "source": [
    "# Read dataframe and drop some unneeded columns\n",
    "rdf = rg.get_dataframe('precision@5', 'max').drop(columns=['timestamp', 'node_ip', 'pid', 'hostname', 'time_since_restore', 'iterations_since_restore', 'logdir'])\n",
    "rdf = rdf.drop(columns=['date'])\n",
    "# rdf = rdf[rdf['done']]\n",
    "print(rdf.columns)\n",
    "\n",
    "for c in ['config/batch_size']: #, 'config/embedding_dim']:\n",
    "    rdf[c] = 2**rdf[c]\n",
    "\n",
    "rdf[(rdf['config/__trial_index__'] >= 3) & (rdf['iteration'] > 10)].sort_values('precision@5').tail()"
   ]
  },
  {
   "cell_type": "code",
   "execution_count": 26,
   "id": "74d30f9c-9ed4-4070-a84d-e4af4d15c7fa",
   "metadata": {},
   "outputs": [
    {
     "name": "stdout",
     "output_type": "stream",
     "text": [
      "['config/batch_size', 'config/embedding_dim', 'config/conv_layers', 'config/learning_rate', 'config/l2']\n",
      "100 configurations tested\n"
     ]
    },
    {
     "data": {
      "text/html": [
       "<div>\n",
       "<style scoped>\n",
       "    .dataframe tbody tr th:only-of-type {\n",
       "        vertical-align: middle;\n",
       "    }\n",
       "\n",
       "    .dataframe tbody tr th {\n",
       "        vertical-align: top;\n",
       "    }\n",
       "\n",
       "    .dataframe thead th {\n",
       "        text-align: right;\n",
       "    }\n",
       "</style>\n",
       "<table border=\"1\" class=\"dataframe\">\n",
       "  <thead>\n",
       "    <tr style=\"text-align: right;\">\n",
       "      <th></th>\n",
       "      <th></th>\n",
       "      <th></th>\n",
       "      <th></th>\n",
       "      <th></th>\n",
       "      <th>iteration</th>\n",
       "      <th>loss</th>\n",
       "      <th>mf_loss</th>\n",
       "      <th>emb_loss</th>\n",
       "      <th>model_recall</th>\n",
       "      <th>model_ndcg</th>\n",
       "      <th>model_precision</th>\n",
       "      <th>model_map</th>\n",
       "      <th>precision@5</th>\n",
       "      <th>ndcg@5</th>\n",
       "      <th>...</th>\n",
       "      <th>map@5</th>\n",
       "      <th>precision@10</th>\n",
       "      <th>ndcg@10</th>\n",
       "      <th>recall@10</th>\n",
       "      <th>map@10</th>\n",
       "      <th>done</th>\n",
       "      <th>training_iteration</th>\n",
       "      <th>time_this_iter_s</th>\n",
       "      <th>time_total_s</th>\n",
       "      <th>config/__trial_index__</th>\n",
       "    </tr>\n",
       "    <tr>\n",
       "      <th>config/batch_size</th>\n",
       "      <th>config/embedding_dim</th>\n",
       "      <th>config/conv_layers</th>\n",
       "      <th>config/learning_rate</th>\n",
       "      <th>config/l2</th>\n",
       "      <th></th>\n",
       "      <th></th>\n",
       "      <th></th>\n",
       "      <th></th>\n",
       "      <th></th>\n",
       "      <th></th>\n",
       "      <th></th>\n",
       "      <th></th>\n",
       "      <th></th>\n",
       "      <th></th>\n",
       "      <th></th>\n",
       "      <th></th>\n",
       "      <th></th>\n",
       "      <th></th>\n",
       "      <th></th>\n",
       "      <th></th>\n",
       "      <th></th>\n",
       "      <th></th>\n",
       "      <th></th>\n",
       "      <th></th>\n",
       "      <th></th>\n",
       "    </tr>\n",
       "  </thead>\n",
       "  <tbody>\n",
       "    <tr>\n",
       "      <th>64</th>\n",
       "      <th>25</th>\n",
       "      <th>2</th>\n",
       "      <th>0.5494</th>\n",
       "      <th>1.053371e-04</th>\n",
       "      <td>103.0</td>\n",
       "      <td>15.501050</td>\n",
       "      <td>11.443753</td>\n",
       "      <td>4.057297</td>\n",
       "      <td>0.053721</td>\n",
       "      <td>0.041908</td>\n",
       "      <td>0.017754</td>\n",
       "      <td>0.031716</td>\n",
       "      <td>0.217644</td>\n",
       "      <td>0.466080</td>\n",
       "      <td>...</td>\n",
       "      <td>0.371129</td>\n",
       "      <td>0.158368</td>\n",
       "      <td>0.532969</td>\n",
       "      <td>0.796792</td>\n",
       "      <td>0.418970</td>\n",
       "      <td>0.1</td>\n",
       "      <td>20.6</td>\n",
       "      <td>42.668438</td>\n",
       "      <td>600.076368</td>\n",
       "      <td>4.5</td>\n",
       "    </tr>\n",
       "    <tr>\n",
       "      <th>256</th>\n",
       "      <th>70</th>\n",
       "      <th>2</th>\n",
       "      <th>0.8648</th>\n",
       "      <th>5.780786e-06</th>\n",
       "      <td>100.5</td>\n",
       "      <td>20.064360</td>\n",
       "      <td>17.548191</td>\n",
       "      <td>2.516168</td>\n",
       "      <td>0.053564</td>\n",
       "      <td>0.044221</td>\n",
       "      <td>0.019757</td>\n",
       "      <td>0.034755</td>\n",
       "      <td>0.217931</td>\n",
       "      <td>0.464409</td>\n",
       "      <td>...</td>\n",
       "      <td>0.372854</td>\n",
       "      <td>0.157847</td>\n",
       "      <td>0.523515</td>\n",
       "      <td>0.759649</td>\n",
       "      <td>0.418480</td>\n",
       "      <td>0.0</td>\n",
       "      <td>20.1</td>\n",
       "      <td>12.380074</td>\n",
       "      <td>228.271992</td>\n",
       "      <td>4.5</td>\n",
       "    </tr>\n",
       "    <tr>\n",
       "      <th>128</th>\n",
       "      <th>110</th>\n",
       "      <th>5</th>\n",
       "      <th>0.0342</th>\n",
       "      <th>2.394405e-07</th>\n",
       "      <td>79.0</td>\n",
       "      <td>0.022029</td>\n",
       "      <td>0.021577</td>\n",
       "      <td>0.000452</td>\n",
       "      <td>0.055802</td>\n",
       "      <td>0.043796</td>\n",
       "      <td>0.020199</td>\n",
       "      <td>0.032401</td>\n",
       "      <td>0.219543</td>\n",
       "      <td>0.455284</td>\n",
       "      <td>...</td>\n",
       "      <td>0.360323</td>\n",
       "      <td>0.159524</td>\n",
       "      <td>0.521515</td>\n",
       "      <td>0.788169</td>\n",
       "      <td>0.407833</td>\n",
       "      <td>0.0</td>\n",
       "      <td>15.8</td>\n",
       "      <td>19.337504</td>\n",
       "      <td>312.603685</td>\n",
       "      <td>4.5</td>\n",
       "    </tr>\n",
       "    <tr>\n",
       "      <th>16</th>\n",
       "      <th>170</th>\n",
       "      <th>3</th>\n",
       "      <th>0.7374</th>\n",
       "      <th>2.033083e-02</th>\n",
       "      <td>87.0</td>\n",
       "      <td>114.858768</td>\n",
       "      <td>4.012912</td>\n",
       "      <td>110.845856</td>\n",
       "      <td>0.122459</td>\n",
       "      <td>0.082822</td>\n",
       "      <td>0.030913</td>\n",
       "      <td>0.063586</td>\n",
       "      <td>0.220991</td>\n",
       "      <td>0.506173</td>\n",
       "      <td>...</td>\n",
       "      <td>0.423117</td>\n",
       "      <td>0.158393</td>\n",
       "      <td>0.568715</td>\n",
       "      <td>0.784535</td>\n",
       "      <td>0.468574</td>\n",
       "      <td>0.1</td>\n",
       "      <td>17.4</td>\n",
       "      <td>125.818708</td>\n",
       "      <td>2080.066273</td>\n",
       "      <td>4.5</td>\n",
       "    </tr>\n",
       "    <tr>\n",
       "      <th>32</th>\n",
       "      <th>20</th>\n",
       "      <th>4</th>\n",
       "      <th>0.0478</th>\n",
       "      <th>3.119548e-04</th>\n",
       "      <td>77.0</td>\n",
       "      <td>0.071505</td>\n",
       "      <td>0.040358</td>\n",
       "      <td>0.031148</td>\n",
       "      <td>0.050365</td>\n",
       "      <td>0.043356</td>\n",
       "      <td>0.018182</td>\n",
       "      <td>0.035143</td>\n",
       "      <td>0.221452</td>\n",
       "      <td>0.498841</td>\n",
       "      <td>...</td>\n",
       "      <td>0.413985</td>\n",
       "      <td>0.157435</td>\n",
       "      <td>0.558401</td>\n",
       "      <td>0.781118</td>\n",
       "      <td>0.458990</td>\n",
       "      <td>0.0</td>\n",
       "      <td>15.4</td>\n",
       "      <td>57.234503</td>\n",
       "      <td>902.697869</td>\n",
       "      <td>4.5</td>\n",
       "    </tr>\n",
       "  </tbody>\n",
       "</table>\n",
       "<p>5 rows × 21 columns</p>\n",
       "</div>"
      ],
      "text/plain": [
       "                                                                                             iteration  \\\n",
       "config/batch_size config/embedding_dim config/conv_layers config/learning_rate config/l2                 \n",
       "64                25                   2                  0.5494               1.053371e-04      103.0   \n",
       "256               70                   2                  0.8648               5.780786e-06      100.5   \n",
       "128               110                  5                  0.0342               2.394405e-07       79.0   \n",
       "16                170                  3                  0.7374               2.033083e-02       87.0   \n",
       "32                20                   4                  0.0478               3.119548e-04       77.0   \n",
       "\n",
       "                                                                                                   loss  \\\n",
       "config/batch_size config/embedding_dim config/conv_layers config/learning_rate config/l2                  \n",
       "64                25                   2                  0.5494               1.053371e-04   15.501050   \n",
       "256               70                   2                  0.8648               5.780786e-06   20.064360   \n",
       "128               110                  5                  0.0342               2.394405e-07    0.022029   \n",
       "16                170                  3                  0.7374               2.033083e-02  114.858768   \n",
       "32                20                   4                  0.0478               3.119548e-04    0.071505   \n",
       "\n",
       "                                                                                               mf_loss  \\\n",
       "config/batch_size config/embedding_dim config/conv_layers config/learning_rate config/l2                 \n",
       "64                25                   2                  0.5494               1.053371e-04  11.443753   \n",
       "256               70                   2                  0.8648               5.780786e-06  17.548191   \n",
       "128               110                  5                  0.0342               2.394405e-07   0.021577   \n",
       "16                170                  3                  0.7374               2.033083e-02   4.012912   \n",
       "32                20                   4                  0.0478               3.119548e-04   0.040358   \n",
       "\n",
       "                                                                                               emb_loss  \\\n",
       "config/batch_size config/embedding_dim config/conv_layers config/learning_rate config/l2                  \n",
       "64                25                   2                  0.5494               1.053371e-04    4.057297   \n",
       "256               70                   2                  0.8648               5.780786e-06    2.516168   \n",
       "128               110                  5                  0.0342               2.394405e-07    0.000452   \n",
       "16                170                  3                  0.7374               2.033083e-02  110.845856   \n",
       "32                20                   4                  0.0478               3.119548e-04    0.031148   \n",
       "\n",
       "                                                                                             model_recall  \\\n",
       "config/batch_size config/embedding_dim config/conv_layers config/learning_rate config/l2                    \n",
       "64                25                   2                  0.5494               1.053371e-04      0.053721   \n",
       "256               70                   2                  0.8648               5.780786e-06      0.053564   \n",
       "128               110                  5                  0.0342               2.394405e-07      0.055802   \n",
       "16                170                  3                  0.7374               2.033083e-02      0.122459   \n",
       "32                20                   4                  0.0478               3.119548e-04      0.050365   \n",
       "\n",
       "                                                                                             model_ndcg  \\\n",
       "config/batch_size config/embedding_dim config/conv_layers config/learning_rate config/l2                  \n",
       "64                25                   2                  0.5494               1.053371e-04    0.041908   \n",
       "256               70                   2                  0.8648               5.780786e-06    0.044221   \n",
       "128               110                  5                  0.0342               2.394405e-07    0.043796   \n",
       "16                170                  3                  0.7374               2.033083e-02    0.082822   \n",
       "32                20                   4                  0.0478               3.119548e-04    0.043356   \n",
       "\n",
       "                                                                                             model_precision  \\\n",
       "config/batch_size config/embedding_dim config/conv_layers config/learning_rate config/l2                       \n",
       "64                25                   2                  0.5494               1.053371e-04         0.017754   \n",
       "256               70                   2                  0.8648               5.780786e-06         0.019757   \n",
       "128               110                  5                  0.0342               2.394405e-07         0.020199   \n",
       "16                170                  3                  0.7374               2.033083e-02         0.030913   \n",
       "32                20                   4                  0.0478               3.119548e-04         0.018182   \n",
       "\n",
       "                                                                                             model_map  \\\n",
       "config/batch_size config/embedding_dim config/conv_layers config/learning_rate config/l2                 \n",
       "64                25                   2                  0.5494               1.053371e-04   0.031716   \n",
       "256               70                   2                  0.8648               5.780786e-06   0.034755   \n",
       "128               110                  5                  0.0342               2.394405e-07   0.032401   \n",
       "16                170                  3                  0.7374               2.033083e-02   0.063586   \n",
       "32                20                   4                  0.0478               3.119548e-04   0.035143   \n",
       "\n",
       "                                                                                             precision@5  \\\n",
       "config/batch_size config/embedding_dim config/conv_layers config/learning_rate config/l2                   \n",
       "64                25                   2                  0.5494               1.053371e-04     0.217644   \n",
       "256               70                   2                  0.8648               5.780786e-06     0.217931   \n",
       "128               110                  5                  0.0342               2.394405e-07     0.219543   \n",
       "16                170                  3                  0.7374               2.033083e-02     0.220991   \n",
       "32                20                   4                  0.0478               3.119548e-04     0.221452   \n",
       "\n",
       "                                                                                               ndcg@5  \\\n",
       "config/batch_size config/embedding_dim config/conv_layers config/learning_rate config/l2                \n",
       "64                25                   2                  0.5494               1.053371e-04  0.466080   \n",
       "256               70                   2                  0.8648               5.780786e-06  0.464409   \n",
       "128               110                  5                  0.0342               2.394405e-07  0.455284   \n",
       "16                170                  3                  0.7374               2.033083e-02  0.506173   \n",
       "32                20                   4                  0.0478               3.119548e-04  0.498841   \n",
       "\n",
       "                                                                                             ...  \\\n",
       "config/batch_size config/embedding_dim config/conv_layers config/learning_rate config/l2     ...   \n",
       "64                25                   2                  0.5494               1.053371e-04  ...   \n",
       "256               70                   2                  0.8648               5.780786e-06  ...   \n",
       "128               110                  5                  0.0342               2.394405e-07  ...   \n",
       "16                170                  3                  0.7374               2.033083e-02  ...   \n",
       "32                20                   4                  0.0478               3.119548e-04  ...   \n",
       "\n",
       "                                                                                                map@5  \\\n",
       "config/batch_size config/embedding_dim config/conv_layers config/learning_rate config/l2                \n",
       "64                25                   2                  0.5494               1.053371e-04  0.371129   \n",
       "256               70                   2                  0.8648               5.780786e-06  0.372854   \n",
       "128               110                  5                  0.0342               2.394405e-07  0.360323   \n",
       "16                170                  3                  0.7374               2.033083e-02  0.423117   \n",
       "32                20                   4                  0.0478               3.119548e-04  0.413985   \n",
       "\n",
       "                                                                                             precision@10  \\\n",
       "config/batch_size config/embedding_dim config/conv_layers config/learning_rate config/l2                    \n",
       "64                25                   2                  0.5494               1.053371e-04      0.158368   \n",
       "256               70                   2                  0.8648               5.780786e-06      0.157847   \n",
       "128               110                  5                  0.0342               2.394405e-07      0.159524   \n",
       "16                170                  3                  0.7374               2.033083e-02      0.158393   \n",
       "32                20                   4                  0.0478               3.119548e-04      0.157435   \n",
       "\n",
       "                                                                                              ndcg@10  \\\n",
       "config/batch_size config/embedding_dim config/conv_layers config/learning_rate config/l2                \n",
       "64                25                   2                  0.5494               1.053371e-04  0.532969   \n",
       "256               70                   2                  0.8648               5.780786e-06  0.523515   \n",
       "128               110                  5                  0.0342               2.394405e-07  0.521515   \n",
       "16                170                  3                  0.7374               2.033083e-02  0.568715   \n",
       "32                20                   4                  0.0478               3.119548e-04  0.558401   \n",
       "\n",
       "                                                                                             recall@10  \\\n",
       "config/batch_size config/embedding_dim config/conv_layers config/learning_rate config/l2                 \n",
       "64                25                   2                  0.5494               1.053371e-04   0.796792   \n",
       "256               70                   2                  0.8648               5.780786e-06   0.759649   \n",
       "128               110                  5                  0.0342               2.394405e-07   0.788169   \n",
       "16                170                  3                  0.7374               2.033083e-02   0.784535   \n",
       "32                20                   4                  0.0478               3.119548e-04   0.781118   \n",
       "\n",
       "                                                                                               map@10  \\\n",
       "config/batch_size config/embedding_dim config/conv_layers config/learning_rate config/l2                \n",
       "64                25                   2                  0.5494               1.053371e-04  0.418970   \n",
       "256               70                   2                  0.8648               5.780786e-06  0.418480   \n",
       "128               110                  5                  0.0342               2.394405e-07  0.407833   \n",
       "16                170                  3                  0.7374               2.033083e-02  0.468574   \n",
       "32                20                   4                  0.0478               3.119548e-04  0.458990   \n",
       "\n",
       "                                                                                             done  \\\n",
       "config/batch_size config/embedding_dim config/conv_layers config/learning_rate config/l2            \n",
       "64                25                   2                  0.5494               1.053371e-04   0.1   \n",
       "256               70                   2                  0.8648               5.780786e-06   0.0   \n",
       "128               110                  5                  0.0342               2.394405e-07   0.0   \n",
       "16                170                  3                  0.7374               2.033083e-02   0.1   \n",
       "32                20                   4                  0.0478               3.119548e-04   0.0   \n",
       "\n",
       "                                                                                             training_iteration  \\\n",
       "config/batch_size config/embedding_dim config/conv_layers config/learning_rate config/l2                          \n",
       "64                25                   2                  0.5494               1.053371e-04                20.6   \n",
       "256               70                   2                  0.8648               5.780786e-06                20.1   \n",
       "128               110                  5                  0.0342               2.394405e-07                15.8   \n",
       "16                170                  3                  0.7374               2.033083e-02                17.4   \n",
       "32                20                   4                  0.0478               3.119548e-04                15.4   \n",
       "\n",
       "                                                                                             time_this_iter_s  \\\n",
       "config/batch_size config/embedding_dim config/conv_layers config/learning_rate config/l2                        \n",
       "64                25                   2                  0.5494               1.053371e-04         42.668438   \n",
       "256               70                   2                  0.8648               5.780786e-06         12.380074   \n",
       "128               110                  5                  0.0342               2.394405e-07         19.337504   \n",
       "16                170                  3                  0.7374               2.033083e-02        125.818708   \n",
       "32                20                   4                  0.0478               3.119548e-04         57.234503   \n",
       "\n",
       "                                                                                             time_total_s  \\\n",
       "config/batch_size config/embedding_dim config/conv_layers config/learning_rate config/l2                    \n",
       "64                25                   2                  0.5494               1.053371e-04    600.076368   \n",
       "256               70                   2                  0.8648               5.780786e-06    228.271992   \n",
       "128               110                  5                  0.0342               2.394405e-07    312.603685   \n",
       "16                170                  3                  0.7374               2.033083e-02   2080.066273   \n",
       "32                20                   4                  0.0478               3.119548e-04    902.697869   \n",
       "\n",
       "                                                                                             config/__trial_index__  \n",
       "config/batch_size config/embedding_dim config/conv_layers config/learning_rate config/l2                             \n",
       "64                25                   2                  0.5494               1.053371e-04                     4.5  \n",
       "256               70                   2                  0.8648               5.780786e-06                     4.5  \n",
       "128               110                  5                  0.0342               2.394405e-07                     4.5  \n",
       "16                170                  3                  0.7374               2.033083e-02                     4.5  \n",
       "32                20                   4                  0.0478               3.119548e-04                     4.5  \n",
       "\n",
       "[5 rows x 21 columns]"
      ]
     },
     "execution_count": 26,
     "metadata": {},
     "output_type": "execute_result"
    }
   ],
   "source": [
    "config_cols = [ c for c in rdf.columns if c.startswith('config/') and c not in ['config/__trial_index__', 'config/fold'] ]\n",
    "print(config_cols)\n",
    "print(len(rdf.groupby(config_cols)), 'configurations tested')\n",
    "\n",
    "rdf.groupby(config_cols).mean(numeric_only=True).sort_values('precision@5').tail()"
   ]
  },
  {
   "cell_type": "code",
   "execution_count": 27,
   "id": "3ab1f1a1-9730-4b2d-a455-17c22fbbbf53",
   "metadata": {},
   "outputs": [
    {
     "data": {
      "text/plain": [
       "precision@5     0.145534\n",
       "ndcg@5          0.294985\n",
       "map@5           0.233064\n",
       "precision@10    0.136072\n",
       "ndcg@10         0.396818\n",
       "map@10          0.290771\n",
       "precision@15    0.113898\n",
       "ndcg@15         0.439916\n",
       "map@15          0.311207\n",
       "dtype: float64"
      ]
     },
     "execution_count": 27,
     "metadata": {},
     "output_type": "execute_result"
    }
   ],
   "source": [
    "ORG_NAME = 'Decentraland'\n",
    "N_SPLITS = 10\n",
    "\n",
    "bdf = pd.read_csv(f'./data/baseline/mp-{ORG_NAME}-{N_SPLITS}.csv')\n",
    "bdf.mean()"
   ]
  },
  {
   "cell_type": "markdown",
   "id": "7b6658b4-e472-4556-9587-746f6f6402a7",
   "metadata": {},
   "source": [
    "## Doing some graphs"
   ]
  },
  {
   "cell_type": "code",
   "execution_count": 28,
   "id": "2855e1f5-f85d-4c27-b648-1c9a89234d35",
   "metadata": {},
   "outputs": [
    {
     "data": {
      "text/html": [
       "<div>\n",
       "<style scoped>\n",
       "    .dataframe tbody tr th:only-of-type {\n",
       "        vertical-align: middle;\n",
       "    }\n",
       "\n",
       "    .dataframe tbody tr th {\n",
       "        vertical-align: top;\n",
       "    }\n",
       "\n",
       "    .dataframe thead th {\n",
       "        text-align: right;\n",
       "    }\n",
       "</style>\n",
       "<table border=\"1\" class=\"dataframe\">\n",
       "  <thead>\n",
       "    <tr style=\"text-align: right;\">\n",
       "      <th></th>\n",
       "      <th>config/batch_size</th>\n",
       "      <th>config/embedding_dim</th>\n",
       "      <th>config/conv_layers</th>\n",
       "      <th>config/learning_rate</th>\n",
       "      <th>config/l2</th>\n",
       "      <th>iteration</th>\n",
       "      <th>loss</th>\n",
       "      <th>mf_loss</th>\n",
       "      <th>emb_loss</th>\n",
       "      <th>model_recall</th>\n",
       "      <th>...</th>\n",
       "      <th>map@5</th>\n",
       "      <th>precision@10</th>\n",
       "      <th>ndcg@10</th>\n",
       "      <th>recall@10</th>\n",
       "      <th>map@10</th>\n",
       "      <th>done</th>\n",
       "      <th>training_iteration</th>\n",
       "      <th>time_this_iter_s</th>\n",
       "      <th>time_total_s</th>\n",
       "      <th>config/__trial_index__</th>\n",
       "    </tr>\n",
       "  </thead>\n",
       "  <tbody>\n",
       "    <tr>\n",
       "      <th>16</th>\n",
       "      <td>64</td>\n",
       "      <td>45</td>\n",
       "      <td>5</td>\n",
       "      <td>0.0042</td>\n",
       "      <td>2.161320e-06</td>\n",
       "      <td>78.0</td>\n",
       "      <td>0.026623</td>\n",
       "      <td>0.026373</td>\n",
       "      <td>0.000250</td>\n",
       "      <td>0.056142</td>\n",
       "      <td>...</td>\n",
       "      <td>0.322995</td>\n",
       "      <td>0.151793</td>\n",
       "      <td>0.484230</td>\n",
       "      <td>0.763380</td>\n",
       "      <td>0.369064</td>\n",
       "      <td>0.0</td>\n",
       "      <td>15.6</td>\n",
       "      <td>19.706151</td>\n",
       "      <td>271.962060</td>\n",
       "      <td>4.5</td>\n",
       "    </tr>\n",
       "    <tr>\n",
       "      <th>25</th>\n",
       "      <td>128</td>\n",
       "      <td>15</td>\n",
       "      <td>2</td>\n",
       "      <td>0.0230</td>\n",
       "      <td>4.958395e-04</td>\n",
       "      <td>42.5</td>\n",
       "      <td>0.042749</td>\n",
       "      <td>0.028910</td>\n",
       "      <td>0.013839</td>\n",
       "      <td>0.060607</td>\n",
       "      <td>...</td>\n",
       "      <td>0.337762</td>\n",
       "      <td>0.157677</td>\n",
       "      <td>0.501223</td>\n",
       "      <td>0.780560</td>\n",
       "      <td>0.384812</td>\n",
       "      <td>0.0</td>\n",
       "      <td>8.5</td>\n",
       "      <td>15.721868</td>\n",
       "      <td>125.034292</td>\n",
       "      <td>4.5</td>\n",
       "    </tr>\n",
       "    <tr>\n",
       "      <th>26</th>\n",
       "      <td>128</td>\n",
       "      <td>30</td>\n",
       "      <td>2</td>\n",
       "      <td>0.0009</td>\n",
       "      <td>1.005683e-07</td>\n",
       "      <td>66.0</td>\n",
       "      <td>0.077868</td>\n",
       "      <td>0.077866</td>\n",
       "      <td>0.000002</td>\n",
       "      <td>0.068446</td>\n",
       "      <td>...</td>\n",
       "      <td>0.339513</td>\n",
       "      <td>0.149497</td>\n",
       "      <td>0.493191</td>\n",
       "      <td>0.752764</td>\n",
       "      <td>0.383279</td>\n",
       "      <td>0.0</td>\n",
       "      <td>13.2</td>\n",
       "      <td>12.914887</td>\n",
       "      <td>105.509755</td>\n",
       "      <td>4.5</td>\n",
       "    </tr>\n",
       "    <tr>\n",
       "      <th>27</th>\n",
       "      <td>128</td>\n",
       "      <td>30</td>\n",
       "      <td>5</td>\n",
       "      <td>0.0007</td>\n",
       "      <td>2.270477e-05</td>\n",
       "      <td>90.5</td>\n",
       "      <td>0.118972</td>\n",
       "      <td>0.118172</td>\n",
       "      <td>0.000800</td>\n",
       "      <td>0.059054</td>\n",
       "      <td>...</td>\n",
       "      <td>0.324971</td>\n",
       "      <td>0.149902</td>\n",
       "      <td>0.486035</td>\n",
       "      <td>0.760159</td>\n",
       "      <td>0.372652</td>\n",
       "      <td>0.0</td>\n",
       "      <td>18.1</td>\n",
       "      <td>14.449138</td>\n",
       "      <td>268.202310</td>\n",
       "      <td>4.5</td>\n",
       "    </tr>\n",
       "    <tr>\n",
       "      <th>28</th>\n",
       "      <td>128</td>\n",
       "      <td>45</td>\n",
       "      <td>5</td>\n",
       "      <td>0.1018</td>\n",
       "      <td>1.993786e-06</td>\n",
       "      <td>60.5</td>\n",
       "      <td>0.121317</td>\n",
       "      <td>0.114681</td>\n",
       "      <td>0.006636</td>\n",
       "      <td>0.057286</td>\n",
       "      <td>...</td>\n",
       "      <td>0.345503</td>\n",
       "      <td>0.158058</td>\n",
       "      <td>0.508978</td>\n",
       "      <td>0.774322</td>\n",
       "      <td>0.394074</td>\n",
       "      <td>0.0</td>\n",
       "      <td>12.1</td>\n",
       "      <td>17.533824</td>\n",
       "      <td>151.419615</td>\n",
       "      <td>4.5</td>\n",
       "    </tr>\n",
       "    <tr>\n",
       "      <th>...</th>\n",
       "      <td>...</td>\n",
       "      <td>...</td>\n",
       "      <td>...</td>\n",
       "      <td>...</td>\n",
       "      <td>...</td>\n",
       "      <td>...</td>\n",
       "      <td>...</td>\n",
       "      <td>...</td>\n",
       "      <td>...</td>\n",
       "      <td>...</td>\n",
       "      <td>...</td>\n",
       "      <td>...</td>\n",
       "      <td>...</td>\n",
       "      <td>...</td>\n",
       "      <td>...</td>\n",
       "      <td>...</td>\n",
       "      <td>...</td>\n",
       "      <td>...</td>\n",
       "      <td>...</td>\n",
       "      <td>...</td>\n",
       "      <td>...</td>\n",
       "    </tr>\n",
       "    <tr>\n",
       "      <th>95</th>\n",
       "      <td>512</td>\n",
       "      <td>235</td>\n",
       "      <td>4</td>\n",
       "      <td>0.0008</td>\n",
       "      <td>1.011825e-07</td>\n",
       "      <td>87.0</td>\n",
       "      <td>0.054179</td>\n",
       "      <td>0.054175</td>\n",
       "      <td>0.000005</td>\n",
       "      <td>0.054049</td>\n",
       "      <td>...</td>\n",
       "      <td>0.307929</td>\n",
       "      <td>0.151505</td>\n",
       "      <td>0.478260</td>\n",
       "      <td>0.769161</td>\n",
       "      <td>0.360090</td>\n",
       "      <td>0.0</td>\n",
       "      <td>17.4</td>\n",
       "      <td>6.407934</td>\n",
       "      <td>117.429246</td>\n",
       "      <td>4.5</td>\n",
       "    </tr>\n",
       "    <tr>\n",
       "      <th>96</th>\n",
       "      <td>512</td>\n",
       "      <td>295</td>\n",
       "      <td>5</td>\n",
       "      <td>0.0016</td>\n",
       "      <td>1.087433e-05</td>\n",
       "      <td>93.5</td>\n",
       "      <td>0.042765</td>\n",
       "      <td>0.041918</td>\n",
       "      <td>0.000847</td>\n",
       "      <td>0.064154</td>\n",
       "      <td>...</td>\n",
       "      <td>0.324626</td>\n",
       "      <td>0.151332</td>\n",
       "      <td>0.487326</td>\n",
       "      <td>0.761300</td>\n",
       "      <td>0.373195</td>\n",
       "      <td>0.0</td>\n",
       "      <td>18.7</td>\n",
       "      <td>4.483949</td>\n",
       "      <td>84.677541</td>\n",
       "      <td>4.5</td>\n",
       "    </tr>\n",
       "    <tr>\n",
       "      <th>97</th>\n",
       "      <td>512</td>\n",
       "      <td>330</td>\n",
       "      <td>5</td>\n",
       "      <td>0.0452</td>\n",
       "      <td>3.567444e-06</td>\n",
       "      <td>61.0</td>\n",
       "      <td>0.035812</td>\n",
       "      <td>0.027806</td>\n",
       "      <td>0.008006</td>\n",
       "      <td>0.064690</td>\n",
       "      <td>...</td>\n",
       "      <td>0.360584</td>\n",
       "      <td>0.159005</td>\n",
       "      <td>0.525003</td>\n",
       "      <td>0.783343</td>\n",
       "      <td>0.413355</td>\n",
       "      <td>0.0</td>\n",
       "      <td>12.2</td>\n",
       "      <td>4.704469</td>\n",
       "      <td>62.152302</td>\n",
       "      <td>4.5</td>\n",
       "    </tr>\n",
       "    <tr>\n",
       "      <th>98</th>\n",
       "      <td>512</td>\n",
       "      <td>390</td>\n",
       "      <td>4</td>\n",
       "      <td>0.2041</td>\n",
       "      <td>1.297832e-06</td>\n",
       "      <td>91.0</td>\n",
       "      <td>0.978324</td>\n",
       "      <td>0.872614</td>\n",
       "      <td>0.105710</td>\n",
       "      <td>0.068206</td>\n",
       "      <td>...</td>\n",
       "      <td>0.348867</td>\n",
       "      <td>0.159263</td>\n",
       "      <td>0.512752</td>\n",
       "      <td>0.774931</td>\n",
       "      <td>0.400702</td>\n",
       "      <td>0.0</td>\n",
       "      <td>18.2</td>\n",
       "      <td>8.163514</td>\n",
       "      <td>131.989066</td>\n",
       "      <td>4.5</td>\n",
       "    </tr>\n",
       "    <tr>\n",
       "      <th>99</th>\n",
       "      <td>512</td>\n",
       "      <td>445</td>\n",
       "      <td>4</td>\n",
       "      <td>0.0127</td>\n",
       "      <td>2.135075e-05</td>\n",
       "      <td>89.0</td>\n",
       "      <td>0.009766</td>\n",
       "      <td>0.006157</td>\n",
       "      <td>0.003610</td>\n",
       "      <td>0.075085</td>\n",
       "      <td>...</td>\n",
       "      <td>0.329457</td>\n",
       "      <td>0.158541</td>\n",
       "      <td>0.497294</td>\n",
       "      <td>0.779616</td>\n",
       "      <td>0.380717</td>\n",
       "      <td>0.0</td>\n",
       "      <td>17.8</td>\n",
       "      <td>5.884522</td>\n",
       "      <td>101.296345</td>\n",
       "      <td>4.5</td>\n",
       "    </tr>\n",
       "  </tbody>\n",
       "</table>\n",
       "<p>70 rows × 26 columns</p>\n",
       "</div>"
      ],
      "text/plain": [
       "    config/batch_size  config/embedding_dim  config/conv_layers  \\\n",
       "16                 64                    45                   5   \n",
       "25                128                    15                   2   \n",
       "26                128                    30                   2   \n",
       "27                128                    30                   5   \n",
       "28                128                    45                   5   \n",
       "..                ...                   ...                 ...   \n",
       "95                512                   235                   4   \n",
       "96                512                   295                   5   \n",
       "97                512                   330                   5   \n",
       "98                512                   390                   4   \n",
       "99                512                   445                   4   \n",
       "\n",
       "    config/learning_rate     config/l2  iteration      loss   mf_loss  \\\n",
       "16                0.0042  2.161320e-06       78.0  0.026623  0.026373   \n",
       "25                0.0230  4.958395e-04       42.5  0.042749  0.028910   \n",
       "26                0.0009  1.005683e-07       66.0  0.077868  0.077866   \n",
       "27                0.0007  2.270477e-05       90.5  0.118972  0.118172   \n",
       "28                0.1018  1.993786e-06       60.5  0.121317  0.114681   \n",
       "..                   ...           ...        ...       ...       ...   \n",
       "95                0.0008  1.011825e-07       87.0  0.054179  0.054175   \n",
       "96                0.0016  1.087433e-05       93.5  0.042765  0.041918   \n",
       "97                0.0452  3.567444e-06       61.0  0.035812  0.027806   \n",
       "98                0.2041  1.297832e-06       91.0  0.978324  0.872614   \n",
       "99                0.0127  2.135075e-05       89.0  0.009766  0.006157   \n",
       "\n",
       "    emb_loss  model_recall  ...     map@5  precision@10   ndcg@10  recall@10  \\\n",
       "16  0.000250      0.056142  ...  0.322995      0.151793  0.484230   0.763380   \n",
       "25  0.013839      0.060607  ...  0.337762      0.157677  0.501223   0.780560   \n",
       "26  0.000002      0.068446  ...  0.339513      0.149497  0.493191   0.752764   \n",
       "27  0.000800      0.059054  ...  0.324971      0.149902  0.486035   0.760159   \n",
       "28  0.006636      0.057286  ...  0.345503      0.158058  0.508978   0.774322   \n",
       "..       ...           ...  ...       ...           ...       ...        ...   \n",
       "95  0.000005      0.054049  ...  0.307929      0.151505  0.478260   0.769161   \n",
       "96  0.000847      0.064154  ...  0.324626      0.151332  0.487326   0.761300   \n",
       "97  0.008006      0.064690  ...  0.360584      0.159005  0.525003   0.783343   \n",
       "98  0.105710      0.068206  ...  0.348867      0.159263  0.512752   0.774931   \n",
       "99  0.003610      0.075085  ...  0.329457      0.158541  0.497294   0.779616   \n",
       "\n",
       "      map@10  done  training_iteration  time_this_iter_s  time_total_s  \\\n",
       "16  0.369064   0.0                15.6         19.706151    271.962060   \n",
       "25  0.384812   0.0                 8.5         15.721868    125.034292   \n",
       "26  0.383279   0.0                13.2         12.914887    105.509755   \n",
       "27  0.372652   0.0                18.1         14.449138    268.202310   \n",
       "28  0.394074   0.0                12.1         17.533824    151.419615   \n",
       "..       ...   ...                 ...               ...           ...   \n",
       "95  0.360090   0.0                17.4          6.407934    117.429246   \n",
       "96  0.373195   0.0                18.7          4.483949     84.677541   \n",
       "97  0.413355   0.0                12.2          4.704469     62.152302   \n",
       "98  0.400702   0.0                18.2          8.163514    131.989066   \n",
       "99  0.380717   0.0                17.8          5.884522    101.296345   \n",
       "\n",
       "    config/__trial_index__  \n",
       "16                     4.5  \n",
       "25                     4.5  \n",
       "26                     4.5  \n",
       "27                     4.5  \n",
       "28                     4.5  \n",
       "..                     ...  \n",
       "95                     4.5  \n",
       "96                     4.5  \n",
       "97                     4.5  \n",
       "98                     4.5  \n",
       "99                     4.5  \n",
       "\n",
       "[70 rows x 26 columns]"
      ]
     },
     "execution_count": 28,
     "metadata": {},
     "output_type": "execute_result"
    }
   ],
   "source": [
    "configs = rdf.groupby(config_cols).mean(numeric_only=True).reset_index()\n",
    "configs = configs[configs['time_total_s'] < 300]\n",
    "configs"
   ]
  },
  {
   "cell_type": "code",
   "execution_count": 29,
   "id": "81c3e6c9-bc36-4b22-ba9f-628aa6e9aef8",
   "metadata": {},
   "outputs": [
    {
     "data": {
      "application/vnd.plotly.v1+json": {
       "config": {
        "plotlyServerURL": "https://plot.ly"
       },
       "data": [
        {
         "customdata": [
          [
           64,
           45,
           5,
           0.004200000000000001,
           2.1613204122089845e-06,
           4.5
          ],
          [
           128,
           15,
           2,
           0.023,
           0.0004958394884641383,
           4.5
          ],
          [
           128,
           30,
           2,
           0.0009000000000000001,
           1.0056830016762625e-07,
           4.5
          ],
          [
           128,
           30,
           5,
           0.0007,
           2.2704769686288572e-05,
           4.5
          ],
          [
           128,
           45,
           5,
           0.1018,
           1.9937858308765054e-06,
           4.5
          ],
          [
           128,
           50,
           2,
           0.4485,
           1.024331203584845e-06,
           4.5
          ],
          [
           128,
           55,
           4,
           0.0018000000000000002,
           0.0024836755820777327,
           4.5
          ],
          [
           128,
           55,
           4,
           0.0182,
           4.5479445599415516e-05,
           4.5
          ],
          [
           128,
           60,
           5,
           0.0048000000000000004,
           1.1187054084869846e-06,
           4.5
          ],
          [
           128,
           80,
           5,
           0.0117,
           2.7369511387779763e-06,
           4.5
          ],
          [
           128,
           105,
           4,
           0.0076,
           1.0986581429585105e-06,
           4.5
          ],
          [
           128,
           110,
           4,
           0.00030000000000000003,
           2.3810549912086145e-07,
           4.5
          ],
          [
           128,
           120,
           4,
           0.0071,
           2.788963724749698e-06,
           4.5
          ],
          [
           128,
           120,
           5,
           0.0078000000000000005,
           2.641513798100569e-06,
           4.5
          ],
          [
           128,
           155,
           5,
           0.0094,
           0.00856017432340718,
           4.5
          ],
          [
           128,
           305,
           2,
           0.00030000000000000003,
           0.0008723735529130286,
           4.5
          ],
          [
           256,
           10,
           3,
           0.0162,
           6.65809721688154e-07,
           4.5
          ],
          [
           256,
           20,
           4,
           0.015700000000000002,
           2.2945566670254886e-06,
           4.5
          ],
          [
           256,
           35,
           3,
           0.0082,
           3.212646019152726e-07,
           4.5
          ],
          [
           256,
           50,
           3,
           0.0015,
           3.05802781969641e-07,
           4.5
          ],
          [
           256,
           60,
           3,
           0.0005,
           0.002653290519657931,
           4.5
          ],
          [
           256,
           65,
           4,
           0.0011,
           2.4494793950931056e-07,
           4.5
          ],
          [
           256,
           65,
           4,
           0.2348,
           3.897098569226913e-07,
           4.5
          ],
          [
           256,
           70,
           2,
           0.8648,
           5.780785779478988e-06,
           4.5
          ],
          [
           256,
           75,
           4,
           0.0151,
           9.902405514817943e-07,
           4.5
          ],
          [
           256,
           85,
           5,
           0.0487,
           1.7730865071615923e-07,
           4.5
          ],
          [
           256,
           90,
           2,
           0.0228,
           6.209927310680918e-07,
           4.5
          ],
          [
           256,
           100,
           3,
           0.002,
           5.532487065437734e-07,
           4.5
          ],
          [
           256,
           100,
           3,
           0.059500000000000004,
           1.7637586963063063e-07,
           4.5
          ],
          [
           256,
           130,
           2,
           0.0402,
           7.995871889973782e-06,
           4.5
          ],
          [
           256,
           135,
           5,
           0.0027,
           0.0099454513216083,
           4.5
          ],
          [
           256,
           140,
           5,
           0.0019,
           5.510817708660089e-07,
           4.5
          ],
          [
           256,
           145,
           2,
           0.21380000000000002,
           3.3817893318133894e-05,
           4.5
          ],
          [
           256,
           180,
           3,
           0.0268,
           0.0007449838184064481,
           4.5
          ],
          [
           256,
           185,
           4,
           0.29350000000000004,
           0.0007669483028656624,
           4.5
          ],
          [
           256,
           205,
           3,
           0.0008,
           0.08113050126719068,
           4.5
          ],
          [
           256,
           220,
           5,
           0.00030000000000000003,
           8.64148091924209e-06,
           4.5
          ],
          [
           256,
           265,
           3,
           0.0002,
           6.0651326730439754e-05,
           4.5
          ],
          [
           256,
           305,
           5,
           0.0071,
           6.801131366802533e-07,
           4.5
          ],
          [
           256,
           330,
           4,
           0.0015,
           8.116462958116682e-06,
           4.5
          ],
          [
           256,
           345,
           3,
           0.12390000000000001,
           0.03856568206783616,
           4.5
          ],
          [
           256,
           365,
           5,
           0.0094,
           7.068702078372234e-07,
           4.5
          ],
          [
           256,
           405,
           3,
           0.0002,
           1.6638274551068143e-06,
           4.5
          ],
          [
           256,
           490,
           3,
           0.0009000000000000001,
           0.00010288808585497417,
           4.5
          ],
          [
           512,
           15,
           2,
           0.0012000000000000001,
           0.00038548344774854825,
           4.5
          ],
          [
           512,
           15,
           2,
           0.15710000000000002,
           3.101613253683204e-05,
           4.5
          ],
          [
           512,
           20,
           3,
           0.0123,
           1.9735315349506511e-07,
           4.5
          ],
          [
           512,
           25,
           2,
           0.0002,
           1.6164199114949978e-05,
           4.5
          ],
          [
           512,
           25,
           3,
           0.006200000000000001,
           0.007049988220590354,
           4.5
          ],
          [
           512,
           30,
           2,
           0.0001,
           1.0000894875703919e-07,
           4.5
          ],
          [
           512,
           35,
           3,
           0.0031000000000000003,
           3.8558880157874023e-07,
           4.5
          ],
          [
           512,
           35,
           5,
           0.022600000000000002,
           1.7551292977194922e-05,
           4.5
          ],
          [
           512,
           50,
           2,
           0.1477,
           1.2398497685882573e-05,
           4.5
          ],
          [
           512,
           55,
           5,
           0.0022,
           0.0014216255279615887,
           4.5
          ],
          [
           512,
           60,
           3,
           0.0048000000000000004,
           4.0897494180264463e-07,
           4.5
          ],
          [
           512,
           85,
           4,
           0.0055000000000000005,
           1.2233133868734304e-07,
           4.5
          ],
          [
           512,
           90,
           2,
           0.010100000000000001,
           2.544416770903678e-07,
           4.5
          ],
          [
           512,
           90,
           3,
           0.0054,
           1.546732933856899e-07,
           4.5
          ],
          [
           512,
           95,
           4,
           0.0001,
           5.6093920479595575e-06,
           4.5
          ],
          [
           512,
           105,
           3,
           0.059500000000000004,
           1.020353693513211e-06,
           4.5
          ],
          [
           512,
           135,
           3,
           0.0047,
           3.955316066007324e-06,
           4.5
          ],
          [
           512,
           160,
           4,
           0.0012000000000000001,
           0.00019436057272901317,
           4.5
          ],
          [
           512,
           175,
           3,
           0.0179,
           1.9416888085439993e-06,
           4.5
          ],
          [
           512,
           175,
           4,
           0.0031000000000000003,
           2.9733044670329035e-07,
           4.5
          ],
          [
           512,
           230,
           3,
           0.028800000000000003,
           5.024596024539211e-06,
           4.5
          ],
          [
           512,
           235,
           4,
           0.0008,
           1.0118246059612026e-07,
           4.5
          ],
          [
           512,
           295,
           5,
           0.0016,
           1.0874329935654726e-05,
           4.5
          ],
          [
           512,
           330,
           5,
           0.045200000000000004,
           3.567444410754839e-06,
           4.5
          ],
          [
           512,
           390,
           4,
           0.2041,
           1.297832004167623e-06,
           4.5
          ],
          [
           512,
           445,
           4,
           0.012700000000000001,
           2.1350748097666975e-05,
           4.5
          ]
         ],
         "hovertemplate": "ndcg@5=%{x}<br>time_total_s=%{y}<br>config/batch_size=%{customdata[0]}<br>config/embedding_dim=%{customdata[1]}<br>config/conv_layers=%{customdata[2]}<br>config/learning_rate=%{customdata[3]}<br>config/l2=%{customdata[4]}<br>config/__trial_index__=%{customdata[5]}<extra></extra>",
         "legendgroup": "",
         "marker": {
          "color": "#636efa",
          "symbol": "circle"
         },
         "mode": "markers",
         "name": "",
         "orientation": "v",
         "showlegend": false,
         "type": "scatter",
         "x": [
          0.4188216023232104,
          0.4356857026617619,
          0.43149436308710704,
          0.41749596441854575,
          0.44352156053987163,
          0.43775076071299657,
          0.4271909139174081,
          0.42629560914424747,
          0.43256761085099854,
          0.4270727848927911,
          0.439908724041972,
          0.4130975582003248,
          0.45250776799278425,
          0.43883266028945445,
          0.4099269926173747,
          0.4262800285254268,
          0.44055951564561885,
          0.47709791778777433,
          0.4227333617857476,
          0.4233485742434059,
          0.425131244621405,
          0.43486315002287756,
          0.4328216582348617,
          0.46440923633074493,
          0.43246548519619654,
          0.4479196540185015,
          0.4769106326107351,
          0.43590205281505084,
          0.45357125656645547,
          0.44719245056811835,
          0.40945945046575805,
          0.4368423637034976,
          0.4747966007527668,
          0.4660847209072926,
          0.438111317629602,
          0.3758134291253649,
          0.41393147446443024,
          0.42409431049923674,
          0.437962705941395,
          0.420837824063004,
          0.4174714908160535,
          0.42913818891919486,
          0.4288092757577117,
          0.4438491419685189,
          0.4061407319841461,
          0.4522740843074562,
          0.424598161026168,
          0.37145745687092924,
          0.4076680391088541,
          0.4290761826763442,
          0.4383834648921769,
          0.42035917950765517,
          0.4385435033865229,
          0.4018439238388732,
          0.43560237266802265,
          0.4335746537180082,
          0.44645713116403163,
          0.43771116655295694,
          0.4000029278759397,
          0.4443901996054865,
          0.4267565419237112,
          0.4092455633380278,
          0.4239076965903338,
          0.4036400316157385,
          0.43835242305396926,
          0.39918332926787514,
          0.41735791476042233,
          0.45198271379706706,
          0.44085316920631135,
          0.4265849474668736
         ],
         "xaxis": "x",
         "y": [
          271.962060379982,
          125.0342918395996,
          105.5097553730011,
          268.2023098945618,
          151.41961467266083,
          250.72452490329744,
          186.491650390625,
          172.88959722518922,
          228.20559709072114,
          153.5956600189209,
          296.99800062179565,
          217.3913862466812,
          177.7456702709198,
          97.15777189731598,
          173.0506056547165,
          178.1435451030731,
          60.35430860519409,
          62.73812170028687,
          75.3754358291626,
          84.8815714597702,
          68.03535516262055,
          103.37366390228271,
          107.50288517475128,
          228.2719917535782,
          104.43093681335449,
          121.58992486000061,
          63.43377389907837,
          74.54672605991364,
          115.92958693504333,
          78.68030996322632,
          55.73853878974914,
          94.11718561649323,
          86.37981064319611,
          143.30415108203889,
          56.32182614803314,
          185.481538271904,
          180.48781883716583,
          227.80910277366638,
          99.27201852798461,
          129.93883454799652,
          92.58168094158172,
          203.890775680542,
          220.85682528018953,
          209.60073506832123,
          94.57258675098419,
          54.57824273109436,
          54.652803206443785,
          44.473711371421814,
          41.38807692527771,
          22.298501873016356,
          52.63688726425171,
          60.98837811946869,
          73.83399529457093,
          79.417600274086,
          121.10738978385925,
          52.53236169815064,
          35.095181345939636,
          33.26891438961029,
          45.01634366512299,
          83.42734794616699,
          99.91174328327179,
          81.6276721715927,
          30.687976455688478,
          73.0976452589035,
          61.67933259010315,
          117.42924599647522,
          84.67754085063935,
          62.15230190753937,
          131.98906619548796,
          101.29634513854981
         ],
         "yaxis": "y"
        }
       ],
       "layout": {
        "autosize": true,
        "legend": {
         "tracegroupgap": 0
        },
        "margin": {
         "t": 60
        },
        "template": {
         "data": {
          "bar": [
           {
            "error_x": {
             "color": "#2a3f5f"
            },
            "error_y": {
             "color": "#2a3f5f"
            },
            "marker": {
             "line": {
              "color": "#E5ECF6",
              "width": 0.5
             },
             "pattern": {
              "fillmode": "overlay",
              "size": 10,
              "solidity": 0.2
             }
            },
            "type": "bar"
           }
          ],
          "barpolar": [
           {
            "marker": {
             "line": {
              "color": "#E5ECF6",
              "width": 0.5
             },
             "pattern": {
              "fillmode": "overlay",
              "size": 10,
              "solidity": 0.2
             }
            },
            "type": "barpolar"
           }
          ],
          "carpet": [
           {
            "aaxis": {
             "endlinecolor": "#2a3f5f",
             "gridcolor": "white",
             "linecolor": "white",
             "minorgridcolor": "white",
             "startlinecolor": "#2a3f5f"
            },
            "baxis": {
             "endlinecolor": "#2a3f5f",
             "gridcolor": "white",
             "linecolor": "white",
             "minorgridcolor": "white",
             "startlinecolor": "#2a3f5f"
            },
            "type": "carpet"
           }
          ],
          "choropleth": [
           {
            "colorbar": {
             "outlinewidth": 0,
             "ticks": ""
            },
            "type": "choropleth"
           }
          ],
          "contour": [
           {
            "colorbar": {
             "outlinewidth": 0,
             "ticks": ""
            },
            "colorscale": [
             [
              0,
              "#0d0887"
             ],
             [
              0.1111111111111111,
              "#46039f"
             ],
             [
              0.2222222222222222,
              "#7201a8"
             ],
             [
              0.3333333333333333,
              "#9c179e"
             ],
             [
              0.4444444444444444,
              "#bd3786"
             ],
             [
              0.5555555555555556,
              "#d8576b"
             ],
             [
              0.6666666666666666,
              "#ed7953"
             ],
             [
              0.7777777777777778,
              "#fb9f3a"
             ],
             [
              0.8888888888888888,
              "#fdca26"
             ],
             [
              1,
              "#f0f921"
             ]
            ],
            "type": "contour"
           }
          ],
          "contourcarpet": [
           {
            "colorbar": {
             "outlinewidth": 0,
             "ticks": ""
            },
            "type": "contourcarpet"
           }
          ],
          "heatmap": [
           {
            "colorbar": {
             "outlinewidth": 0,
             "ticks": ""
            },
            "colorscale": [
             [
              0,
              "#0d0887"
             ],
             [
              0.1111111111111111,
              "#46039f"
             ],
             [
              0.2222222222222222,
              "#7201a8"
             ],
             [
              0.3333333333333333,
              "#9c179e"
             ],
             [
              0.4444444444444444,
              "#bd3786"
             ],
             [
              0.5555555555555556,
              "#d8576b"
             ],
             [
              0.6666666666666666,
              "#ed7953"
             ],
             [
              0.7777777777777778,
              "#fb9f3a"
             ],
             [
              0.8888888888888888,
              "#fdca26"
             ],
             [
              1,
              "#f0f921"
             ]
            ],
            "type": "heatmap"
           }
          ],
          "heatmapgl": [
           {
            "colorbar": {
             "outlinewidth": 0,
             "ticks": ""
            },
            "colorscale": [
             [
              0,
              "#0d0887"
             ],
             [
              0.1111111111111111,
              "#46039f"
             ],
             [
              0.2222222222222222,
              "#7201a8"
             ],
             [
              0.3333333333333333,
              "#9c179e"
             ],
             [
              0.4444444444444444,
              "#bd3786"
             ],
             [
              0.5555555555555556,
              "#d8576b"
             ],
             [
              0.6666666666666666,
              "#ed7953"
             ],
             [
              0.7777777777777778,
              "#fb9f3a"
             ],
             [
              0.8888888888888888,
              "#fdca26"
             ],
             [
              1,
              "#f0f921"
             ]
            ],
            "type": "heatmapgl"
           }
          ],
          "histogram": [
           {
            "marker": {
             "pattern": {
              "fillmode": "overlay",
              "size": 10,
              "solidity": 0.2
             }
            },
            "type": "histogram"
           }
          ],
          "histogram2d": [
           {
            "colorbar": {
             "outlinewidth": 0,
             "ticks": ""
            },
            "colorscale": [
             [
              0,
              "#0d0887"
             ],
             [
              0.1111111111111111,
              "#46039f"
             ],
             [
              0.2222222222222222,
              "#7201a8"
             ],
             [
              0.3333333333333333,
              "#9c179e"
             ],
             [
              0.4444444444444444,
              "#bd3786"
             ],
             [
              0.5555555555555556,
              "#d8576b"
             ],
             [
              0.6666666666666666,
              "#ed7953"
             ],
             [
              0.7777777777777778,
              "#fb9f3a"
             ],
             [
              0.8888888888888888,
              "#fdca26"
             ],
             [
              1,
              "#f0f921"
             ]
            ],
            "type": "histogram2d"
           }
          ],
          "histogram2dcontour": [
           {
            "colorbar": {
             "outlinewidth": 0,
             "ticks": ""
            },
            "colorscale": [
             [
              0,
              "#0d0887"
             ],
             [
              0.1111111111111111,
              "#46039f"
             ],
             [
              0.2222222222222222,
              "#7201a8"
             ],
             [
              0.3333333333333333,
              "#9c179e"
             ],
             [
              0.4444444444444444,
              "#bd3786"
             ],
             [
              0.5555555555555556,
              "#d8576b"
             ],
             [
              0.6666666666666666,
              "#ed7953"
             ],
             [
              0.7777777777777778,
              "#fb9f3a"
             ],
             [
              0.8888888888888888,
              "#fdca26"
             ],
             [
              1,
              "#f0f921"
             ]
            ],
            "type": "histogram2dcontour"
           }
          ],
          "mesh3d": [
           {
            "colorbar": {
             "outlinewidth": 0,
             "ticks": ""
            },
            "type": "mesh3d"
           }
          ],
          "parcoords": [
           {
            "line": {
             "colorbar": {
              "outlinewidth": 0,
              "ticks": ""
             }
            },
            "type": "parcoords"
           }
          ],
          "pie": [
           {
            "automargin": true,
            "type": "pie"
           }
          ],
          "scatter": [
           {
            "fillpattern": {
             "fillmode": "overlay",
             "size": 10,
             "solidity": 0.2
            },
            "type": "scatter"
           }
          ],
          "scatter3d": [
           {
            "line": {
             "colorbar": {
              "outlinewidth": 0,
              "ticks": ""
             }
            },
            "marker": {
             "colorbar": {
              "outlinewidth": 0,
              "ticks": ""
             }
            },
            "type": "scatter3d"
           }
          ],
          "scattercarpet": [
           {
            "marker": {
             "colorbar": {
              "outlinewidth": 0,
              "ticks": ""
             }
            },
            "type": "scattercarpet"
           }
          ],
          "scattergeo": [
           {
            "marker": {
             "colorbar": {
              "outlinewidth": 0,
              "ticks": ""
             }
            },
            "type": "scattergeo"
           }
          ],
          "scattergl": [
           {
            "marker": {
             "colorbar": {
              "outlinewidth": 0,
              "ticks": ""
             }
            },
            "type": "scattergl"
           }
          ],
          "scattermapbox": [
           {
            "marker": {
             "colorbar": {
              "outlinewidth": 0,
              "ticks": ""
             }
            },
            "type": "scattermapbox"
           }
          ],
          "scatterpolar": [
           {
            "marker": {
             "colorbar": {
              "outlinewidth": 0,
              "ticks": ""
             }
            },
            "type": "scatterpolar"
           }
          ],
          "scatterpolargl": [
           {
            "marker": {
             "colorbar": {
              "outlinewidth": 0,
              "ticks": ""
             }
            },
            "type": "scatterpolargl"
           }
          ],
          "scatterternary": [
           {
            "marker": {
             "colorbar": {
              "outlinewidth": 0,
              "ticks": ""
             }
            },
            "type": "scatterternary"
           }
          ],
          "surface": [
           {
            "colorbar": {
             "outlinewidth": 0,
             "ticks": ""
            },
            "colorscale": [
             [
              0,
              "#0d0887"
             ],
             [
              0.1111111111111111,
              "#46039f"
             ],
             [
              0.2222222222222222,
              "#7201a8"
             ],
             [
              0.3333333333333333,
              "#9c179e"
             ],
             [
              0.4444444444444444,
              "#bd3786"
             ],
             [
              0.5555555555555556,
              "#d8576b"
             ],
             [
              0.6666666666666666,
              "#ed7953"
             ],
             [
              0.7777777777777778,
              "#fb9f3a"
             ],
             [
              0.8888888888888888,
              "#fdca26"
             ],
             [
              1,
              "#f0f921"
             ]
            ],
            "type": "surface"
           }
          ],
          "table": [
           {
            "cells": {
             "fill": {
              "color": "#EBF0F8"
             },
             "line": {
              "color": "white"
             }
            },
            "header": {
             "fill": {
              "color": "#C8D4E3"
             },
             "line": {
              "color": "white"
             }
            },
            "type": "table"
           }
          ]
         },
         "layout": {
          "annotationdefaults": {
           "arrowcolor": "#2a3f5f",
           "arrowhead": 0,
           "arrowwidth": 1
          },
          "autotypenumbers": "strict",
          "coloraxis": {
           "colorbar": {
            "outlinewidth": 0,
            "ticks": ""
           }
          },
          "colorscale": {
           "diverging": [
            [
             0,
             "#8e0152"
            ],
            [
             0.1,
             "#c51b7d"
            ],
            [
             0.2,
             "#de77ae"
            ],
            [
             0.3,
             "#f1b6da"
            ],
            [
             0.4,
             "#fde0ef"
            ],
            [
             0.5,
             "#f7f7f7"
            ],
            [
             0.6,
             "#e6f5d0"
            ],
            [
             0.7,
             "#b8e186"
            ],
            [
             0.8,
             "#7fbc41"
            ],
            [
             0.9,
             "#4d9221"
            ],
            [
             1,
             "#276419"
            ]
           ],
           "sequential": [
            [
             0,
             "#0d0887"
            ],
            [
             0.1111111111111111,
             "#46039f"
            ],
            [
             0.2222222222222222,
             "#7201a8"
            ],
            [
             0.3333333333333333,
             "#9c179e"
            ],
            [
             0.4444444444444444,
             "#bd3786"
            ],
            [
             0.5555555555555556,
             "#d8576b"
            ],
            [
             0.6666666666666666,
             "#ed7953"
            ],
            [
             0.7777777777777778,
             "#fb9f3a"
            ],
            [
             0.8888888888888888,
             "#fdca26"
            ],
            [
             1,
             "#f0f921"
            ]
           ],
           "sequentialminus": [
            [
             0,
             "#0d0887"
            ],
            [
             0.1111111111111111,
             "#46039f"
            ],
            [
             0.2222222222222222,
             "#7201a8"
            ],
            [
             0.3333333333333333,
             "#9c179e"
            ],
            [
             0.4444444444444444,
             "#bd3786"
            ],
            [
             0.5555555555555556,
             "#d8576b"
            ],
            [
             0.6666666666666666,
             "#ed7953"
            ],
            [
             0.7777777777777778,
             "#fb9f3a"
            ],
            [
             0.8888888888888888,
             "#fdca26"
            ],
            [
             1,
             "#f0f921"
            ]
           ]
          },
          "colorway": [
           "#636efa",
           "#EF553B",
           "#00cc96",
           "#ab63fa",
           "#FFA15A",
           "#19d3f3",
           "#FF6692",
           "#B6E880",
           "#FF97FF",
           "#FECB52"
          ],
          "font": {
           "color": "#2a3f5f"
          },
          "geo": {
           "bgcolor": "white",
           "lakecolor": "white",
           "landcolor": "#E5ECF6",
           "showlakes": true,
           "showland": true,
           "subunitcolor": "white"
          },
          "hoverlabel": {
           "align": "left"
          },
          "hovermode": "closest",
          "mapbox": {
           "style": "light"
          },
          "paper_bgcolor": "white",
          "plot_bgcolor": "#E5ECF6",
          "polar": {
           "angularaxis": {
            "gridcolor": "white",
            "linecolor": "white",
            "ticks": ""
           },
           "bgcolor": "#E5ECF6",
           "radialaxis": {
            "gridcolor": "white",
            "linecolor": "white",
            "ticks": ""
           }
          },
          "scene": {
           "xaxis": {
            "backgroundcolor": "#E5ECF6",
            "gridcolor": "white",
            "gridwidth": 2,
            "linecolor": "white",
            "showbackground": true,
            "ticks": "",
            "zerolinecolor": "white"
           },
           "yaxis": {
            "backgroundcolor": "#E5ECF6",
            "gridcolor": "white",
            "gridwidth": 2,
            "linecolor": "white",
            "showbackground": true,
            "ticks": "",
            "zerolinecolor": "white"
           },
           "zaxis": {
            "backgroundcolor": "#E5ECF6",
            "gridcolor": "white",
            "gridwidth": 2,
            "linecolor": "white",
            "showbackground": true,
            "ticks": "",
            "zerolinecolor": "white"
           }
          },
          "shapedefaults": {
           "line": {
            "color": "#2a3f5f"
           }
          },
          "ternary": {
           "aaxis": {
            "gridcolor": "white",
            "linecolor": "white",
            "ticks": ""
           },
           "baxis": {
            "gridcolor": "white",
            "linecolor": "white",
            "ticks": ""
           },
           "bgcolor": "#E5ECF6",
           "caxis": {
            "gridcolor": "white",
            "linecolor": "white",
            "ticks": ""
           }
          },
          "title": {
           "x": 0.05
          },
          "xaxis": {
           "automargin": true,
           "gridcolor": "white",
           "linecolor": "white",
           "ticks": "",
           "title": {
            "standoff": 15
           },
           "zerolinecolor": "white",
           "zerolinewidth": 2
          },
          "yaxis": {
           "automargin": true,
           "gridcolor": "white",
           "linecolor": "white",
           "ticks": "",
           "title": {
            "standoff": 15
           },
           "zerolinecolor": "white",
           "zerolinewidth": 2
          }
         }
        },
        "xaxis": {
         "anchor": "y",
         "autorange": true,
         "domain": [
          0,
          1
         ],
         "range": [
          0.36521281161400093,
          0.48334256304470263
         ],
         "title": {
          "text": "ndcg@5"
         },
         "type": "linear"
        },
        "yaxis": {
         "anchor": "x",
         "autorange": true,
         "domain": [
          0,
          1
         ],
         "range": [
          1.0291181116279304,
          318.2673843831841
         ],
         "title": {
          "text": "time_total_s"
         },
         "type": "linear"
        }
       }
      },
      "image/png": "[encoded data removed]",
      "text/html": [
       "<div>                            <div id=\"2c247b8e-d1c0-4325-96e9-e16c0f707db8\" class=\"plotly-graph-div\" style=\"height:525px; width:100%;\"></div>            <script type=\"text/javascript\">                require([\"plotly\"], function(Plotly) {                    window.PLOTLYENV=window.PLOTLYENV || {};                                    if (document.getElementById(\"2c247b8e-d1c0-4325-96e9-e16c0f707db8\")) {                    Plotly.newPlot(                        \"2c247b8e-d1c0-4325-96e9-e16c0f707db8\",                        [{\"customdata\":[[64.0,45.0,5.0,0.004200000000000001,2.1613204122089845e-06,4.5],[128.0,15.0,2.0,0.023,0.0004958394884641383,4.5],[128.0,30.0,2.0,0.0009000000000000001,1.0056830016762625e-07,4.5],[128.0,30.0,5.0,0.0007,2.2704769686288572e-05,4.5],[128.0,45.0,5.0,0.1018,1.9937858308765054e-06,4.5],[128.0,50.0,2.0,0.4485,1.024331203584845e-06,4.5],[128.0,55.0,4.0,0.0018000000000000002,0.0024836755820777327,4.5],[128.0,55.0,4.0,0.0182,4.5479445599415516e-05,4.5],[128.0,60.0,5.0,0.0048000000000000004,1.1187054084869846e-06,4.5],[128.0,80.0,5.0,0.0117,2.7369511387779763e-06,4.5],[128.0,105.0,4.0,0.0076,1.0986581429585105e-06,4.5],[128.0,110.0,4.0,0.00030000000000000003,2.3810549912086145e-07,4.5],[128.0,120.0,4.0,0.0071,2.788963724749698e-06,4.5],[128.0,120.0,5.0,0.0078000000000000005,2.641513798100569e-06,4.5],[128.0,155.0,5.0,0.0094,0.00856017432340718,4.5],[128.0,305.0,2.0,0.00030000000000000003,0.0008723735529130286,4.5],[256.0,10.0,3.0,0.0162,6.65809721688154e-07,4.5],[256.0,20.0,4.0,0.015700000000000002,2.2945566670254886e-06,4.5],[256.0,35.0,3.0,0.0082,3.212646019152726e-07,4.5],[256.0,50.0,3.0,0.0015,3.05802781969641e-07,4.5],[256.0,60.0,3.0,0.0005,0.002653290519657931,4.5],[256.0,65.0,4.0,0.0011,2.4494793950931056e-07,4.5],[256.0,65.0,4.0,0.2348,3.897098569226913e-07,4.5],[256.0,70.0,2.0,0.8648,5.780785779478988e-06,4.5],[256.0,75.0,4.0,0.0151,9.902405514817943e-07,4.5],[256.0,85.0,5.0,0.0487,1.7730865071615923e-07,4.5],[256.0,90.0,2.0,0.0228,6.209927310680918e-07,4.5],[256.0,100.0,3.0,0.002,5.532487065437734e-07,4.5],[256.0,100.0,3.0,0.059500000000000004,1.7637586963063063e-07,4.5],[256.0,130.0,2.0,0.0402,7.995871889973782e-06,4.5],[256.0,135.0,5.0,0.0027,0.0099454513216083,4.5],[256.0,140.0,5.0,0.0019,5.510817708660089e-07,4.5],[256.0,145.0,2.0,0.21380000000000002,3.3817893318133894e-05,4.5],[256.0,180.0,3.0,0.0268,0.0007449838184064481,4.5],[256.0,185.0,4.0,0.29350000000000004,0.0007669483028656624,4.5],[256.0,205.0,3.0,0.0008,0.08113050126719068,4.5],[256.0,220.0,5.0,0.00030000000000000003,8.64148091924209e-06,4.5],[256.0,265.0,3.0,0.0002,6.0651326730439754e-05,4.5],[256.0,305.0,5.0,0.0071,6.801131366802533e-07,4.5],[256.0,330.0,4.0,0.0015,8.116462958116682e-06,4.5],[256.0,345.0,3.0,0.12390000000000001,0.03856568206783616,4.5],[256.0,365.0,5.0,0.0094,7.068702078372234e-07,4.5],[256.0,405.0,3.0,0.0002,1.6638274551068143e-06,4.5],[256.0,490.0,3.0,0.0009000000000000001,0.00010288808585497417,4.5],[512.0,15.0,2.0,0.0012000000000000001,0.00038548344774854825,4.5],[512.0,15.0,2.0,0.15710000000000002,3.101613253683204e-05,4.5],[512.0,20.0,3.0,0.0123,1.9735315349506511e-07,4.5],[512.0,25.0,2.0,0.0002,1.6164199114949978e-05,4.5],[512.0,25.0,3.0,0.006200000000000001,0.007049988220590354,4.5],[512.0,30.0,2.0,0.0001,1.0000894875703919e-07,4.5],[512.0,35.0,3.0,0.0031000000000000003,3.8558880157874023e-07,4.5],[512.0,35.0,5.0,0.022600000000000002,1.7551292977194922e-05,4.5],[512.0,50.0,2.0,0.1477,1.2398497685882573e-05,4.5],[512.0,55.0,5.0,0.0022,0.0014216255279615887,4.5],[512.0,60.0,3.0,0.0048000000000000004,4.0897494180264463e-07,4.5],[512.0,85.0,4.0,0.0055000000000000005,1.2233133868734304e-07,4.5],[512.0,90.0,2.0,0.010100000000000001,2.544416770903678e-07,4.5],[512.0,90.0,3.0,0.0054,1.546732933856899e-07,4.5],[512.0,95.0,4.0,0.0001,5.6093920479595575e-06,4.5],[512.0,105.0,3.0,0.059500000000000004,1.020353693513211e-06,4.5],[512.0,135.0,3.0,0.0047,3.955316066007324e-06,4.5],[512.0,160.0,4.0,0.0012000000000000001,0.00019436057272901317,4.5],[512.0,175.0,3.0,0.0179,1.9416888085439993e-06,4.5],[512.0,175.0,4.0,0.0031000000000000003,2.9733044670329035e-07,4.5],[512.0,230.0,3.0,0.028800000000000003,5.024596024539211e-06,4.5],[512.0,235.0,4.0,0.0008,1.0118246059612026e-07,4.5],[512.0,295.0,5.0,0.0016,1.0874329935654726e-05,4.5],[512.0,330.0,5.0,0.045200000000000004,3.567444410754839e-06,4.5],[512.0,390.0,4.0,0.2041,1.297832004167623e-06,4.5],[512.0,445.0,4.0,0.012700000000000001,2.1350748097666975e-05,4.5]],\"hovertemplate\":\"ndcg@5=%{x}\\u003cbr\\u003etime_total_s=%{y}\\u003cbr\\u003econfig\\u002fbatch_size=%{customdata[0]}\\u003cbr\\u003econfig\\u002fembedding_dim=%{customdata[1]}\\u003cbr\\u003econfig\\u002fconv_layers=%{customdata[2]}\\u003cbr\\u003econfig\\u002flearning_rate=%{customdata[3]}\\u003cbr\\u003econfig\\u002fl2=%{customdata[4]}\\u003cbr\\u003econfig\\u002f__trial_index__=%{customdata[5]}\\u003cextra\\u003e\\u003c\\u002fextra\\u003e\",\"legendgroup\":\"\",\"marker\":{\"color\":\"#636efa\",\"symbol\":\"circle\"},\"mode\":\"markers\",\"name\":\"\",\"orientation\":\"v\",\"showlegend\":false,\"x\":[0.4188216023232104,0.4356857026617619,0.43149436308710704,0.41749596441854575,0.44352156053987163,0.43775076071299657,0.4271909139174081,0.42629560914424747,0.43256761085099854,0.4270727848927911,0.439908724041972,0.4130975582003248,0.45250776799278425,0.43883266028945445,0.4099269926173747,0.4262800285254268,0.44055951564561885,0.47709791778777433,0.4227333617857476,0.4233485742434059,0.425131244621405,0.43486315002287756,0.4328216582348617,0.46440923633074493,0.43246548519619654,0.4479196540185015,0.4769106326107351,0.43590205281505084,0.45357125656645547,0.44719245056811835,0.40945945046575805,0.4368423637034976,0.4747966007527668,0.4660847209072926,0.438111317629602,0.3758134291253649,0.41393147446443024,0.42409431049923674,0.437962705941395,0.420837824063004,0.4174714908160535,0.42913818891919486,0.4288092757577117,0.4438491419685189,0.4061407319841461,0.4522740843074562,0.424598161026168,0.37145745687092924,0.4076680391088541,0.4290761826763442,0.4383834648921769,0.42035917950765517,0.4385435033865229,0.4018439238388732,0.43560237266802265,0.4335746537180082,0.44645713116403163,0.43771116655295694,0.4000029278759397,0.4443901996054865,0.4267565419237112,0.4092455633380278,0.4239076965903338,0.4036400316157385,0.43835242305396926,0.39918332926787514,0.41735791476042233,0.45198271379706706,0.44085316920631135,0.4265849474668736],\"xaxis\":\"x\",\"y\":[271.962060379982,125.0342918395996,105.5097553730011,268.2023098945618,151.41961467266083,250.72452490329744,186.491650390625,172.88959722518922,228.20559709072114,153.5956600189209,296.99800062179565,217.3913862466812,177.7456702709198,97.15777189731598,173.0506056547165,178.1435451030731,60.35430860519409,62.73812170028687,75.3754358291626,84.8815714597702,68.03535516262055,103.37366390228271,107.50288517475128,228.2719917535782,104.43093681335449,121.58992486000061,63.43377389907837,74.54672605991364,115.92958693504333,78.68030996322632,55.73853878974914,94.11718561649323,86.37981064319611,143.30415108203889,56.32182614803314,185.481538271904,180.48781883716583,227.80910277366638,99.27201852798461,129.93883454799652,92.58168094158172,203.890775680542,220.85682528018953,209.60073506832123,94.57258675098419,54.57824273109436,54.652803206443785,44.473711371421814,41.38807692527771,22.298501873016356,52.63688726425171,60.98837811946869,73.83399529457093,79.417600274086,121.10738978385925,52.53236169815064,35.095181345939636,33.26891438961029,45.01634366512299,83.42734794616699,99.91174328327179,81.6276721715927,30.687976455688478,73.0976452589035,61.67933259010315,117.42924599647522,84.67754085063935,62.15230190753937,131.98906619548796,101.29634513854981],\"yaxis\":\"y\",\"type\":\"scatter\"}],                        {\"template\":{\"data\":{\"histogram2dcontour\":[{\"type\":\"histogram2dcontour\",\"colorbar\":{\"outlinewidth\":0,\"ticks\":\"\"},\"colorscale\":[[0.0,\"#0d0887\"],[0.1111111111111111,\"#46039f\"],[0.2222222222222222,\"#7201a8\"],[0.3333333333333333,\"#9c179e\"],[0.4444444444444444,\"#bd3786\"],[0.5555555555555556,\"#d8576b\"],[0.6666666666666666,\"#ed7953\"],[0.7777777777777778,\"#fb9f3a\"],[0.8888888888888888,\"#fdca26\"],[1.0,\"#f0f921\"]]}],\"choropleth\":[{\"type\":\"choropleth\",\"colorbar\":{\"outlinewidth\":0,\"ticks\":\"\"}}],\"histogram2d\":[{\"type\":\"histogram2d\",\"colorbar\":{\"outlinewidth\":0,\"ticks\":\"\"},\"colorscale\":[[0.0,\"#0d0887\"],[0.1111111111111111,\"#46039f\"],[0.2222222222222222,\"#7201a8\"],[0.3333333333333333,\"#9c179e\"],[0.4444444444444444,\"#bd3786\"],[0.5555555555555556,\"#d8576b\"],[0.6666666666666666,\"#ed7953\"],[0.7777777777777778,\"#fb9f3a\"],[0.8888888888888888,\"#fdca26\"],[1.0,\"#f0f921\"]]}],\"heatmap\":[{\"type\":\"heatmap\",\"colorbar\":{\"outlinewidth\":0,\"ticks\":\"\"},\"colorscale\":[[0.0,\"#0d0887\"],[0.1111111111111111,\"#46039f\"],[0.2222222222222222,\"#7201a8\"],[0.3333333333333333,\"#9c179e\"],[0.4444444444444444,\"#bd3786\"],[0.5555555555555556,\"#d8576b\"],[0.6666666666666666,\"#ed7953\"],[0.7777777777777778,\"#fb9f3a\"],[0.8888888888888888,\"#fdca26\"],[1.0,\"#f0f921\"]]}],\"heatmapgl\":[{\"type\":\"heatmapgl\",\"colorbar\":{\"outlinewidth\":0,\"ticks\":\"\"},\"colorscale\":[[0.0,\"#0d0887\"],[0.1111111111111111,\"#46039f\"],[0.2222222222222222,\"#7201a8\"],[0.3333333333333333,\"#9c179e\"],[0.4444444444444444,\"#bd3786\"],[0.5555555555555556,\"#d8576b\"],[0.6666666666666666,\"#ed7953\"],[0.7777777777777778,\"#fb9f3a\"],[0.8888888888888888,\"#fdca26\"],[1.0,\"#f0f921\"]]}],\"contourcarpet\":[{\"type\":\"contourcarpet\",\"colorbar\":{\"outlinewidth\":0,\"ticks\":\"\"}}],\"contour\":[{\"type\":\"contour\",\"colorbar\":{\"outlinewidth\":0,\"ticks\":\"\"},\"colorscale\":[[0.0,\"#0d0887\"],[0.1111111111111111,\"#46039f\"],[0.2222222222222222,\"#7201a8\"],[0.3333333333333333,\"#9c179e\"],[0.4444444444444444,\"#bd3786\"],[0.5555555555555556,\"#d8576b\"],[0.6666666666666666,\"#ed7953\"],[0.7777777777777778,\"#fb9f3a\"],[0.8888888888888888,\"#fdca26\"],[1.0,\"#f0f921\"]]}],\"surface\":[{\"type\":\"surface\",\"colorbar\":{\"outlinewidth\":0,\"ticks\":\"\"},\"colorscale\":[[0.0,\"#0d0887\"],[0.1111111111111111,\"#46039f\"],[0.2222222222222222,\"#7201a8\"],[0.3333333333333333,\"#9c179e\"],[0.4444444444444444,\"#bd3786\"],[0.5555555555555556,\"#d8576b\"],[0.6666666666666666,\"#ed7953\"],[0.7777777777777778,\"#fb9f3a\"],[0.8888888888888888,\"#fdca26\"],[1.0,\"#f0f921\"]]}],\"mesh3d\":[{\"type\":\"mesh3d\",\"colorbar\":{\"outlinewidth\":0,\"ticks\":\"\"}}],\"scatter\":[{\"fillpattern\":{\"fillmode\":\"overlay\",\"size\":10,\"solidity\":0.2},\"type\":\"scatter\"}],\"parcoords\":[{\"type\":\"parcoords\",\"line\":{\"colorbar\":{\"outlinewidth\":0,\"ticks\":\"\"}}}],\"scatterpolargl\":[{\"type\":\"scatterpolargl\",\"marker\":{\"colorbar\":{\"outlinewidth\":0,\"ticks\":\"\"}}}],\"bar\":[{\"error_x\":{\"color\":\"#2a3f5f\"},\"error_y\":{\"color\":\"#2a3f5f\"},\"marker\":{\"line\":{\"color\":\"#E5ECF6\",\"width\":0.5},\"pattern\":{\"fillmode\":\"overlay\",\"size\":10,\"solidity\":0.2}},\"type\":\"bar\"}],\"scattergeo\":[{\"type\":\"scattergeo\",\"marker\":{\"colorbar\":{\"outlinewidth\":0,\"ticks\":\"\"}}}],\"scatterpolar\":[{\"type\":\"scatterpolar\",\"marker\":{\"colorbar\":{\"outlinewidth\":0,\"ticks\":\"\"}}}],\"histogram\":[{\"marker\":{\"pattern\":{\"fillmode\":\"overlay\",\"size\":10,\"solidity\":0.2}},\"type\":\"histogram\"}],\"scattergl\":[{\"type\":\"scattergl\",\"marker\":{\"colorbar\":{\"outlinewidth\":0,\"ticks\":\"\"}}}],\"scatter3d\":[{\"type\":\"scatter3d\",\"line\":{\"colorbar\":{\"outlinewidth\":0,\"ticks\":\"\"}},\"marker\":{\"colorbar\":{\"outlinewidth\":0,\"ticks\":\"\"}}}],\"scattermapbox\":[{\"type\":\"scattermapbox\",\"marker\":{\"colorbar\":{\"outlinewidth\":0,\"ticks\":\"\"}}}],\"scatterternary\":[{\"type\":\"scatterternary\",\"marker\":{\"colorbar\":{\"outlinewidth\":0,\"ticks\":\"\"}}}],\"scattercarpet\":[{\"type\":\"scattercarpet\",\"marker\":{\"colorbar\":{\"outlinewidth\":0,\"ticks\":\"\"}}}],\"carpet\":[{\"aaxis\":{\"endlinecolor\":\"#2a3f5f\",\"gridcolor\":\"white\",\"linecolor\":\"white\",\"minorgridcolor\":\"white\",\"startlinecolor\":\"#2a3f5f\"},\"baxis\":{\"endlinecolor\":\"#2a3f5f\",\"gridcolor\":\"white\",\"linecolor\":\"white\",\"minorgridcolor\":\"white\",\"startlinecolor\":\"#2a3f5f\"},\"type\":\"carpet\"}],\"table\":[{\"cells\":{\"fill\":{\"color\":\"#EBF0F8\"},\"line\":{\"color\":\"white\"}},\"header\":{\"fill\":{\"color\":\"#C8D4E3\"},\"line\":{\"color\":\"white\"}},\"type\":\"table\"}],\"barpolar\":[{\"marker\":{\"line\":{\"color\":\"#E5ECF6\",\"width\":0.5},\"pattern\":{\"fillmode\":\"overlay\",\"size\":10,\"solidity\":0.2}},\"type\":\"barpolar\"}],\"pie\":[{\"automargin\":true,\"type\":\"pie\"}]},\"layout\":{\"autotypenumbers\":\"strict\",\"colorway\":[\"#636efa\",\"#EF553B\",\"#00cc96\",\"#ab63fa\",\"#FFA15A\",\"#19d3f3\",\"#FF6692\",\"#B6E880\",\"#FF97FF\",\"#FECB52\"],\"font\":{\"color\":\"#2a3f5f\"},\"hovermode\":\"closest\",\"hoverlabel\":{\"align\":\"left\"},\"paper_bgcolor\":\"white\",\"plot_bgcolor\":\"#E5ECF6\",\"polar\":{\"bgcolor\":\"#E5ECF6\",\"angularaxis\":{\"gridcolor\":\"white\",\"linecolor\":\"white\",\"ticks\":\"\"},\"radialaxis\":{\"gridcolor\":\"white\",\"linecolor\":\"white\",\"ticks\":\"\"}},\"ternary\":{\"bgcolor\":\"#E5ECF6\",\"aaxis\":{\"gridcolor\":\"white\",\"linecolor\":\"white\",\"ticks\":\"\"},\"baxis\":{\"gridcolor\":\"white\",\"linecolor\":\"white\",\"ticks\":\"\"},\"caxis\":{\"gridcolor\":\"white\",\"linecolor\":\"white\",\"ticks\":\"\"}},\"coloraxis\":{\"colorbar\":{\"outlinewidth\":0,\"ticks\":\"\"}},\"colorscale\":{\"sequential\":[[0.0,\"#0d0887\"],[0.1111111111111111,\"#46039f\"],[0.2222222222222222,\"#7201a8\"],[0.3333333333333333,\"#9c179e\"],[0.4444444444444444,\"#bd3786\"],[0.5555555555555556,\"#d8576b\"],[0.6666666666666666,\"#ed7953\"],[0.7777777777777778,\"#fb9f3a\"],[0.8888888888888888,\"#fdca26\"],[1.0,\"#f0f921\"]],\"sequentialminus\":[[0.0,\"#0d0887\"],[0.1111111111111111,\"#46039f\"],[0.2222222222222222,\"#7201a8\"],[0.3333333333333333,\"#9c179e\"],[0.4444444444444444,\"#bd3786\"],[0.5555555555555556,\"#d8576b\"],[0.6666666666666666,\"#ed7953\"],[0.7777777777777778,\"#fb9f3a\"],[0.8888888888888888,\"#fdca26\"],[1.0,\"#f0f921\"]],\"diverging\":[[0,\"#8e0152\"],[0.1,\"#c51b7d\"],[0.2,\"#de77ae\"],[0.3,\"#f1b6da\"],[0.4,\"#fde0ef\"],[0.5,\"#f7f7f7\"],[0.6,\"#e6f5d0\"],[0.7,\"#b8e186\"],[0.8,\"#7fbc41\"],[0.9,\"#4d9221\"],[1,\"#276419\"]]},\"xaxis\":{\"gridcolor\":\"white\",\"linecolor\":\"white\",\"ticks\":\"\",\"title\":{\"standoff\":15},\"zerolinecolor\":\"white\",\"automargin\":true,\"zerolinewidth\":2},\"yaxis\":{\"gridcolor\":\"white\",\"linecolor\":\"white\",\"ticks\":\"\",\"title\":{\"standoff\":15},\"zerolinecolor\":\"white\",\"automargin\":true,\"zerolinewidth\":2},\"scene\":{\"xaxis\":{\"backgroundcolor\":\"#E5ECF6\",\"gridcolor\":\"white\",\"linecolor\":\"white\",\"showbackground\":true,\"ticks\":\"\",\"zerolinecolor\":\"white\",\"gridwidth\":2},\"yaxis\":{\"backgroundcolor\":\"#E5ECF6\",\"gridcolor\":\"white\",\"linecolor\":\"white\",\"showbackground\":true,\"ticks\":\"\",\"zerolinecolor\":\"white\",\"gridwidth\":2},\"zaxis\":{\"backgroundcolor\":\"#E5ECF6\",\"gridcolor\":\"white\",\"linecolor\":\"white\",\"showbackground\":true,\"ticks\":\"\",\"zerolinecolor\":\"white\",\"gridwidth\":2}},\"shapedefaults\":{\"line\":{\"color\":\"#2a3f5f\"}},\"annotationdefaults\":{\"arrowcolor\":\"#2a3f5f\",\"arrowhead\":0,\"arrowwidth\":1},\"geo\":{\"bgcolor\":\"white\",\"landcolor\":\"#E5ECF6\",\"subunitcolor\":\"white\",\"showland\":true,\"showlakes\":true,\"lakecolor\":\"white\"},\"title\":{\"x\":0.05},\"mapbox\":{\"style\":\"light\"}}},\"xaxis\":{\"anchor\":\"y\",\"domain\":[0.0,1.0],\"title\":{\"text\":\"ndcg@5\"}},\"yaxis\":{\"anchor\":\"x\",\"domain\":[0.0,1.0],\"title\":{\"text\":\"time_total_s\"}},\"legend\":{\"tracegroupgap\":0},\"margin\":{\"t\":60}},                        {\"responsive\": true}                    ).then(function(){\n",
       "                            \n",
       "var gd = document.getElementById('2c247b8e-d1c0-4325-96e9-e16c0f707db8');\n",
       "var x = new MutationObserver(function (mutations, observer) {{\n",
       "        var display = window.getComputedStyle(gd).display;\n",
       "        if (!display || display === 'none') {{\n",
       "            console.log([gd, 'removed!']);\n",
       "            Plotly.purge(gd);\n",
       "            observer.disconnect();\n",
       "        }}\n",
       "}});\n",
       "\n",
       "// Listen for the removal of the full notebook cells\n",
       "var notebookContainer = gd.closest('#notebook-container');\n",
       "if (notebookContainer) {{\n",
       "    x.observe(notebookContainer, {childList: true});\n",
       "}}\n",
       "\n",
       "// Listen for the clearing of the current output cell\n",
       "var outputEl = gd.closest('.output');\n",
       "if (outputEl) {{\n",
       "    x.observe(outputEl, {childList: true});\n",
       "}}\n",
       "\n",
       "                        })                };                });            </script>        </div>"
      ]
     },
     "metadata": {},
     "output_type": "display_data"
    }
   ],
   "source": [
    "config_cols = [ c for c in configs.columns if c.startswith('config/') ]\n",
    "px.scatter(configs, x='ndcg@5', y='time_total_s', hover_data=config_cols)"
   ]
  },
  {
   "cell_type": "code",
   "execution_count": 30,
   "id": "4fcbfcbf-3778-4b6e-8b26-69f39b701266",
   "metadata": {},
   "outputs": [
    {
     "data": {
      "text/plain": [
       "<Axes: xlabel='config/conv_layers', ylabel='ndcg@5'>"
      ]
     },
     "execution_count": 30,
     "metadata": {},
     "output_type": "execute_result"
    },
    {
     "data": {
      "image/png": "[encoded data removed]",
      "text/plain": [
       "<Figure size 640x480 with 1 Axes>"
      ]
     },
     "metadata": {},
     "output_type": "display_data"
    }
   ],
   "source": [
    "sns.swarmplot(configs, x='config/conv_layers', y='ndcg@5', hue='time_total_s', palette='flare')"
   ]
  },
  {
   "cell_type": "code",
   "execution_count": 31,
   "id": "ef57def0-df6b-430c-818f-867b3b8a726f",
   "metadata": {},
   "outputs": [
    {
     "data": {
      "text/plain": [
       "<Axes: xlabel='config/batch_size', ylabel='ndcg@5'>"
      ]
     },
     "execution_count": 31,
     "metadata": {},
     "output_type": "execute_result"
    },
    {
     "data": {
      "image/png": "[encoded data removed]",
      "text/plain": [
       "<Figure size 640x480 with 1 Axes>"
      ]
     },
     "metadata": {},
     "output_type": "display_data"
    }
   ],
   "source": [
    "sns.swarmplot(configs, x='config/batch_size', y='ndcg@5', hue='time_total_s', palette='flare')\n",
    "# plt.xscale('log', base=2)"
   ]
  },
  {
   "cell_type": "code",
   "execution_count": 32,
   "id": "6ee264ea-7d50-407f-94ea-da6ffe8b1757",
   "metadata": {},
   "outputs": [
    {
     "data": {
      "text/plain": [
       "<Axes: xlabel='config/batch_size', ylabel='time_total_s'>"
      ]
     },
     "execution_count": 32,
     "metadata": {},
     "output_type": "execute_result"
    },
    {
     "data": {
      "image/png": "[encoded data removed]",
      "text/plain": [
       "<Figure size 640x480 with 1 Axes>"
      ]
     },
     "metadata": {},
     "output_type": "display_data"
    }
   ],
   "source": [
    "sns.violinplot(configs, x='config/batch_size', y='time_total_s', inner='point')"
   ]
  },
  {
   "cell_type": "code",
   "execution_count": 45,
   "id": "3b1744b5-3d7c-401c-8908-79d4076d0f7a",
   "metadata": {},
   "outputs": [
    {
     "data": {
      "image/png": "[encoded data removed]",
      "text/plain": [
       "<Figure size 640x480 with 1 Axes>"
      ]
     },
     "metadata": {},
     "output_type": "display_data"
    }
   ],
   "source": [
    "sns.scatterplot(configs, x='config/learning_rate', y='ndcg@5', hue='time_total_s', palette='flare')\n",
    "plt.xscale('log')"
   ]
  },
  {
   "cell_type": "code",
   "execution_count": 46,
   "id": "4166514f-b9ee-45d6-ab53-a91fd2fa2933",
   "metadata": {},
   "outputs": [
    {
     "data": {
      "image/png": "[encoded data removed]",
      "text/plain": [
       "<Figure size 640x480 with 1 Axes>"
      ]
     },
     "metadata": {},
     "output_type": "display_data"
    }
   ],
   "source": [
    "sns.scatterplot(configs, x='config/l2', y='ndcg@5', hue='time_total_s', palette='flare')\n",
    "plt.xscale('log')"
   ]
  },
  {
   "cell_type": "code",
   "execution_count": 48,
   "id": "302c9d8a-0f9d-4b0d-bd57-a2e604400879",
   "metadata": {},
   "outputs": [
    {
     "data": {
      "text/plain": [
       "<Axes: xlabel='config/embedding_dim', ylabel='ndcg@5'>"
      ]
     },
     "execution_count": 48,
     "metadata": {},
     "output_type": "execute_result"
    },
    {
     "data": {
      "image/png": "[encoded data removed]",
      "text/plain": [
       "<Figure size 640x480 with 1 Axes>"
      ]
     },
     "metadata": {},
     "output_type": "display_data"
    }
   ],
   "source": [
    "sns.scatterplot(configs, x='config/embedding_dim', y='ndcg@5', hue='time_total_s', palette='flare')"
   ]
  }
 ],
 "metadata": {
  "kernelspec": {
   "display_name": "Python 3 (ipykernel)",
   "language": "python",
   "name": "python3"
  },
  "language_info": {
   "codemirror_mode": {
    "name": "ipython",
    "version": 3
   },
   "file_extension": ".py",
   "mimetype": "text/x-python",
   "name": "python",
   "nbconvert_exporter": "python",
   "pygments_lexer": "ipython3",
   "version": "3.9.18"
  },
  "widgets": {
   "application/vnd.jupyter.widget-state+json": {
    "state": {},
    "version_major": 2,
    "version_minor": 0
   }
  }
 },
 "nbformat": 4,
 "nbformat_minor": 5
}
