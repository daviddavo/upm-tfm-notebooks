{
 "cells": [
  {
   "cell_type": "code",
   "execution_count": 1,
   "id": "100ba106-869e-4809-b126-a4cd709a37ca",
   "metadata": {
    "execution": {
     "iopub.execute_input": "2023-10-19T16:31:38.581820Z",
     "iopub.status.busy": "2023-10-19T16:31:38.581473Z",
     "iopub.status.idle": "2023-10-19T16:31:40.230130Z",
     "shell.execute_reply": "2023-10-19T16:31:40.228362Z",
     "shell.execute_reply.started": "2023-10-19T16:31:38.581785Z"
    }
   },
   "outputs": [],
   "source": [
    "from pathlib import Path\n",
    "\n",
    "from ray import tune\n",
    "from ray.air import Checkpoint, session"
   ]
  },
  {
   "cell_type": "code",
   "execution_count": 2,
   "id": "79f24d23-0268-47f1-a099-09d669f95bdc",
   "metadata": {
    "execution": {
     "iopub.execute_input": "2023-10-19T16:31:40.235224Z",
     "iopub.status.busy": "2023-10-19T16:31:40.234610Z",
     "iopub.status.idle": "2023-10-19T16:31:40.238582Z",
     "shell.execute_reply": "2023-10-19T16:31:40.237951Z",
     "shell.execute_reply.started": "2023-10-19T16:31:40.235192Z"
    }
   },
   "outputs": [],
   "source": [
    "ray_results_path = Path(\"~/ray_results\").expanduser()\n",
    "assert ray_results_path.is_dir()"
   ]
  },
  {
   "cell_type": "code",
   "execution_count": 3,
   "id": "fefea4a7-6daf-4c0f-8380-c3d75b037214",
   "metadata": {
    "execution": {
     "iopub.execute_input": "2023-10-19T16:31:40.240039Z",
     "iopub.status.busy": "2023-10-19T16:31:40.239699Z",
     "iopub.status.idle": "2023-10-19T16:31:40.958670Z",
     "shell.execute_reply": "2023-10-19T16:31:40.957791Z",
     "shell.execute_reply.started": "2023-10-19T16:31:40.240011Z"
    }
   },
   "outputs": [
    {
     "name": "stdout",
     "output_type": "stream",
     "text": [
      "Loading results from /home/davo/ray_results/TrainLightGCN_2023-10-19_18-09-46...\n"
     ]
    },
    {
     "name": "stderr",
     "output_type": "stream",
     "text": [
      "2023-10-19 18:31:40,947\tWARNING experiment_analysis.py:205 -- Failed to fetch metrics for 2 trial(s):\n",
      "- TrainLightGCN_167299ac: FileNotFoundError('Could not fetch metrics for TrainLightGCN_167299ac: both result.json and progress.csv were not found at /home/davo/ray_results/TrainLightGCN_2023-10-19_18-09-46/TrainLightGCN_167299ac_5_trial_index=4,batch_size=6,conv_layers=2,embedding_dim=50,l2=0.0012,learning_rate=0.0877_2023-10-19_18-11-34')\n",
      "- TrainLightGCN_c1c3d069: FileNotFoundError('Could not fetch metrics for TrainLightGCN_c1c3d069: both result.json and progress.csv were not found at /home/davo/ray_results/TrainLightGCN_2023-10-19_18-09-46/TrainLightGCN_c1c3d069_10_trial_index=4,batch_size=5,conv_layers=3,embedding_dim=90,l2=0.0002,learning_rate=0.0000_2023-10-19_18-22-30')\n"
     ]
    },
    {
     "data": {
      "text/plain": [
       "Result(\n",
       "  metrics={'iteration': 15, 'loss': 0.42830423354392955, 'mf_loss': 0.13134396769086132, 'emb_loss': 0.2969602659522071, 'recall': 0.0003135093809087667, 'ndcg': 0.0005061691510128748, 'precision': 0.0007434944237918217, 'map': 7.155300027451312e-05},\n",
       "  path='/home/davo/ray_results/TrainLightGCN_2023-10-19_18-09-46/TrainLightGCN_b887b41c_1_trial_index=0,batch_size=6,conv_layers=2,embedding_dim=50,l2=0.0012,learning_rate=0.0877_2023-10-19_18-09-50',\n",
       "  filesystem='local',\n",
       "  checkpoint=Checkpoint(filesystem=local, path=/home/davo/ray_results/TrainLightGCN_2023-10-19_18-09-46/TrainLightGCN_b887b41c_1_trial_index=0,batch_size=6,conv_layers=2,embedding_dim=50,l2=0.0012,learning_rate=0.0877_2023-10-19_18-09-50/checkpoint_000000)\n",
       ")"
      ]
     },
     "execution_count": 3,
     "metadata": {},
     "output_type": "execute_result"
    }
   ],
   "source": [
    "last_experiment = max(ray_results_path.glob('TrainLightGCN_*'), key=lambda x: x.stat().st_ctime)\n",
    "print(f\"Loading results from {last_experiment}...\")\n",
    "assert last_experiment.is_dir()\n",
    "\n",
    "class TrainLightGCN:\n",
    "    def __init__(self):\n",
    "        raise NotImplementedError\n",
    "\n",
    "# TODO: Create an experiment grid or whatever is called\n",
    "tuner = tune.Tuner.restore(str(last_experiment), TrainLightGCN)\n",
    "rg = tuner.get_results()\n",
    "rg.get_best_result()"
   ]
  },
  {
   "cell_type": "code",
   "execution_count": 4,
   "id": "49551b13-91e9-4c5a-b72a-590e353686af",
   "metadata": {
    "execution": {
     "iopub.execute_input": "2023-10-19T16:31:40.960881Z",
     "iopub.status.busy": "2023-10-19T16:31:40.960005Z",
     "iopub.status.idle": "2023-10-19T16:31:41.005704Z",
     "shell.execute_reply": "2023-10-19T16:31:41.004109Z",
     "shell.execute_reply.started": "2023-10-19T16:31:40.960765Z"
    }
   },
   "outputs": [
    {
     "name": "stdout",
     "output_type": "stream",
     "text": [
      "Index(['iteration', 'loss', 'mf_loss', 'emb_loss', 'recall', 'ndcg',\n",
      "       'precision', 'map', 'done', 'training_iteration', 'trial_id',\n",
      "       'time_this_iter_s', 'time_total_s', 'checkpoint_dir_name',\n",
      "       'config/batch_size', 'config/embedding_dim', 'config/conv_layers',\n",
      "       'config/learning_rate', 'config/l2', 'config/__trial_index__'],\n",
      "      dtype='object')\n"
     ]
    },
    {
     "data": {
      "text/html": [
       "<div>\n",
       "<style scoped>\n",
       "    .dataframe tbody tr th:only-of-type {\n",
       "        vertical-align: middle;\n",
       "    }\n",
       "\n",
       "    .dataframe tbody tr th {\n",
       "        vertical-align: top;\n",
       "    }\n",
       "\n",
       "    .dataframe thead th {\n",
       "        text-align: right;\n",
       "    }\n",
       "</style>\n",
       "<table border=\"1\" class=\"dataframe\">\n",
       "  <thead>\n",
       "    <tr style=\"text-align: right;\">\n",
       "      <th></th>\n",
       "      <th>iteration</th>\n",
       "      <th>loss</th>\n",
       "      <th>mf_loss</th>\n",
       "      <th>emb_loss</th>\n",
       "      <th>recall</th>\n",
       "      <th>ndcg</th>\n",
       "      <th>precision</th>\n",
       "      <th>map</th>\n",
       "      <th>done</th>\n",
       "      <th>training_iteration</th>\n",
       "      <th>trial_id</th>\n",
       "      <th>time_this_iter_s</th>\n",
       "      <th>time_total_s</th>\n",
       "      <th>checkpoint_dir_name</th>\n",
       "      <th>config/batch_size</th>\n",
       "      <th>config/embedding_dim</th>\n",
       "      <th>config/conv_layers</th>\n",
       "      <th>config/learning_rate</th>\n",
       "      <th>config/l2</th>\n",
       "      <th>config/__trial_index__</th>\n",
       "    </tr>\n",
       "  </thead>\n",
       "  <tbody>\n",
       "    <tr>\n",
       "      <th>0</th>\n",
       "      <td>15</td>\n",
       "      <td>0.428304</td>\n",
       "      <td>0.131344</td>\n",
       "      <td>0.296960</td>\n",
       "      <td>0.000314</td>\n",
       "      <td>0.000506</td>\n",
       "      <td>0.000743</td>\n",
       "      <td>0.000072</td>\n",
       "      <td>True</td>\n",
       "      <td>3</td>\n",
       "      <td>b887b41c</td>\n",
       "      <td>15.633864</td>\n",
       "      <td>43.634389</td>\n",
       "      <td>None</td>\n",
       "      <td>64</td>\n",
       "      <td>50</td>\n",
       "      <td>2</td>\n",
       "      <td>0.08772</td>\n",
       "      <td>0.001214</td>\n",
       "      <td>0</td>\n",
       "    </tr>\n",
       "    <tr>\n",
       "      <th>1</th>\n",
       "      <td>15</td>\n",
       "      <td>0.513906</td>\n",
       "      <td>0.144161</td>\n",
       "      <td>0.369744</td>\n",
       "      <td>0.000012</td>\n",
       "      <td>0.000252</td>\n",
       "      <td>0.000235</td>\n",
       "      <td>0.000006</td>\n",
       "      <td>True</td>\n",
       "      <td>3</td>\n",
       "      <td>4da34b60</td>\n",
       "      <td>31.033888</td>\n",
       "      <td>87.452540</td>\n",
       "      <td>None</td>\n",
       "      <td>64</td>\n",
       "      <td>50</td>\n",
       "      <td>2</td>\n",
       "      <td>0.08772</td>\n",
       "      <td>0.001214</td>\n",
       "      <td>1</td>\n",
       "    </tr>\n",
       "    <tr>\n",
       "      <th>2</th>\n",
       "      <td>15</td>\n",
       "      <td>0.578789</td>\n",
       "      <td>0.167185</td>\n",
       "      <td>0.411604</td>\n",
       "      <td>0.000285</td>\n",
       "      <td>0.000664</td>\n",
       "      <td>0.000551</td>\n",
       "      <td>0.000163</td>\n",
       "      <td>True</td>\n",
       "      <td>3</td>\n",
       "      <td>9f8694fc</td>\n",
       "      <td>56.320822</td>\n",
       "      <td>168.535029</td>\n",
       "      <td>None</td>\n",
       "      <td>64</td>\n",
       "      <td>50</td>\n",
       "      <td>2</td>\n",
       "      <td>0.08772</td>\n",
       "      <td>0.001214</td>\n",
       "      <td>2</td>\n",
       "    </tr>\n",
       "    <tr>\n",
       "      <th>3</th>\n",
       "      <td>15</td>\n",
       "      <td>0.615839</td>\n",
       "      <td>0.184260</td>\n",
       "      <td>0.431579</td>\n",
       "      <td>0.000156</td>\n",
       "      <td>0.001154</td>\n",
       "      <td>0.001187</td>\n",
       "      <td>0.000055</td>\n",
       "      <td>True</td>\n",
       "      <td>3</td>\n",
       "      <td>1631ec7e</td>\n",
       "      <td>156.874376</td>\n",
       "      <td>453.477913</td>\n",
       "      <td>None</td>\n",
       "      <td>64</td>\n",
       "      <td>50</td>\n",
       "      <td>2</td>\n",
       "      <td>0.08772</td>\n",
       "      <td>0.001214</td>\n",
       "      <td>3</td>\n",
       "    </tr>\n",
       "    <tr>\n",
       "      <th>5</th>\n",
       "      <td>15</td>\n",
       "      <td>0.672138</td>\n",
       "      <td>0.672070</td>\n",
       "      <td>0.000068</td>\n",
       "      <td>0.000000</td>\n",
       "      <td>0.000000</td>\n",
       "      <td>0.000000</td>\n",
       "      <td>0.000000</td>\n",
       "      <td>True</td>\n",
       "      <td>3</td>\n",
       "      <td>f00ee419</td>\n",
       "      <td>130.761698</td>\n",
       "      <td>354.418221</td>\n",
       "      <td>None</td>\n",
       "      <td>32</td>\n",
       "      <td>90</td>\n",
       "      <td>3</td>\n",
       "      <td>0.00001</td>\n",
       "      <td>0.000224</td>\n",
       "      <td>1</td>\n",
       "    </tr>\n",
       "  </tbody>\n",
       "</table>\n",
       "</div>"
      ],
      "text/plain": [
       "   iteration      loss   mf_loss  emb_loss    recall      ndcg  precision  \\\n",
       "0         15  0.428304  0.131344  0.296960  0.000314  0.000506   0.000743   \n",
       "1         15  0.513906  0.144161  0.369744  0.000012  0.000252   0.000235   \n",
       "2         15  0.578789  0.167185  0.411604  0.000285  0.000664   0.000551   \n",
       "3         15  0.615839  0.184260  0.431579  0.000156  0.001154   0.001187   \n",
       "5         15  0.672138  0.672070  0.000068  0.000000  0.000000   0.000000   \n",
       "\n",
       "        map  done  training_iteration  trial_id  time_this_iter_s  \\\n",
       "0  0.000072  True                   3  b887b41c         15.633864   \n",
       "1  0.000006  True                   3  4da34b60         31.033888   \n",
       "2  0.000163  True                   3  9f8694fc         56.320822   \n",
       "3  0.000055  True                   3  1631ec7e        156.874376   \n",
       "5  0.000000  True                   3  f00ee419        130.761698   \n",
       "\n",
       "   time_total_s checkpoint_dir_name  config/batch_size  config/embedding_dim  \\\n",
       "0     43.634389                None                 64                    50   \n",
       "1     87.452540                None                 64                    50   \n",
       "2    168.535029                None                 64                    50   \n",
       "3    453.477913                None                 64                    50   \n",
       "5    354.418221                None                 32                    90   \n",
       "\n",
       "   config/conv_layers  config/learning_rate  config/l2  config/__trial_index__  \n",
       "0                   2               0.08772   0.001214                       0  \n",
       "1                   2               0.08772   0.001214                       1  \n",
       "2                   2               0.08772   0.001214                       2  \n",
       "3                   2               0.08772   0.001214                       3  \n",
       "5                   3               0.00001   0.000224                       1  "
      ]
     },
     "execution_count": 4,
     "metadata": {},
     "output_type": "execute_result"
    }
   ],
   "source": [
    "# Read dataframe and drop some unneeded columns\n",
    "rdf = rg.get_dataframe('ncdg', 'max').drop(columns=['timestamp', 'node_ip', 'pid', 'hostname', 'time_since_restore', 'iterations_since_restore', 'logdir'])\n",
    "rdf = rdf.drop(columns=['date'])\n",
    "# rdf = rdf[rdf['done']]\n",
    "print(rdf.columns)\n",
    "\n",
    "for c in ['config/batch_size']: #, 'config/embedding_dim']:\n",
    "    rdf[c] = 2**rdf[c]\n",
    "\n",
    "rdf.sort_values('loss').head(5)"
   ]
  }
 ],
 "metadata": {
  "kernelspec": {
   "display_name": "Python 3 (ipykernel)",
   "language": "python",
   "name": "python3"
  },
  "language_info": {
   "codemirror_mode": {
    "name": "ipython",
    "version": 3
   },
   "file_extension": ".py",
   "mimetype": "text/x-python",
   "name": "python",
   "nbconvert_exporter": "python",
   "pygments_lexer": "ipython3",
   "version": "3.9.18"
  },
  "widgets": {
   "application/vnd.jupyter.widget-state+json": {
    "state": {},
    "version_major": 2,
    "version_minor": 0
   }
  }
 },
 "nbformat": 4,
 "nbformat_minor": 5
}
