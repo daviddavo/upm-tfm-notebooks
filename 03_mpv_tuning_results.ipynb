{
 "cells": [
  {
   "cell_type": "code",
   "execution_count": 1,
   "id": "ad8ba0eb-f442-4507-8155-d693d0eec309",
   "metadata": {
    "execution": {
     "iopub.execute_input": "2023-08-16T18:36:54.790389Z",
     "iopub.status.busy": "2023-08-16T18:36:54.788999Z",
     "iopub.status.idle": "2023-08-16T18:36:56.196647Z",
     "shell.execute_reply": "2023-08-16T18:36:56.195953Z",
     "shell.execute_reply.started": "2023-08-16T18:36:54.790298Z"
    }
   },
   "outputs": [],
   "source": [
    "from pathlib import Path\n",
    "\n",
    "from ray import tune\n",
    "from ray.air import Checkpoint, session"
   ]
  },
  {
   "cell_type": "code",
   "execution_count": 2,
   "id": "868ad4b4-7c92-4f26-ad15-cf83e0a139c5",
   "metadata": {
    "execution": {
     "iopub.execute_input": "2023-08-16T18:36:56.199335Z",
     "iopub.status.busy": "2023-08-16T18:36:56.198441Z",
     "iopub.status.idle": "2023-08-16T18:36:57.488321Z",
     "shell.execute_reply": "2023-08-16T18:36:57.484457Z",
     "shell.execute_reply.started": "2023-08-16T18:36:56.199283Z"
    }
   },
   "outputs": [
    {
     "name": "stdout",
     "output_type": "stream",
     "text": [
      "Loading results from /home/davo/ray_results/_aux_train_daostack_2023-08-16_20-34-00...\n"
     ]
    },
    {
     "name": "stderr",
     "output_type": "stream",
     "text": [
      "2023-08-16 20:36:57,453\tINFO experiment_analysis.py:972 -- No trial data passed in during `ExperimentAnalysis` initialization -- you are most likely loading the experiment after it has completed.\n",
      "Loading trial data from the experiment checkpoint file. This may result in loading some stale information, since checkpointing is periodic.\n",
      "2023-08-16 20:36:57,466\tWARNING experiment_analysis.py:916 -- Failed to read the results for 1 trials:\n",
      "- /home/davo/ray_results/_aux_train_daostack_2023-08-16_20-34-00/_aux_train_daostack_59dd3f68_3_trial_index=2,batch_size=6,conv_layers=3,embedding_dim=230,l2=0.0000,learning_rate=0.0001,max_epoch_2023-08-16_20-34-15\n"
     ]
    },
    {
     "data": {
      "text/plain": [
       "Result(\n",
       "  metrics={'loss': 0.43998135564844854, 'rprec train': 0.3339490592479706, 'rprec test': 0.3339490592479706, 'p@5 train': 0.42499998211860657, 'p@5 test': 0.42499998211860657, 'r@5 train': 0.08189654350280762, 'r@5 test': 0.08189654350280762, 'should_checkpoint': True, 'done': False, 'trial_id': 'e7978e0d', 'experiment_tag': '1_trial_index=0,batch_size=6,conv_layers=3,embedding_dim=230,l2=0.0000,learning_rate=0.0001,max_epochs=50'},\n",
       "  path='/home/davo/ray_results/_aux_train_daostack_2023-08-16_20-34-00/_aux_train_daostack_e7978e0d_1_trial_index=0,batch_size=6,conv_layers=3,embedding_dim=230,l2=0.0000,learning_rate=0.0001,max_epoch_2023-08-16_20-34-04',\n",
       "  checkpoint=Checkpoint(local_path=/home/davo/ray_results/_aux_train_daostack_2023-08-16_20-34-00/_aux_train_daostack_e7978e0d_1_trial_index=0,batch_size=6,conv_layers=3,embedding_dim=230,l2=0.0000,learning_rate=0.0001,max_epoch_2023-08-16_20-34-04/checkpoint_000010)\n",
       ")"
      ]
     },
     "execution_count": 2,
     "metadata": {},
     "output_type": "execute_result"
    }
   ],
   "source": [
    "ray_results = Path(\"~/ray_results\").expanduser()\n",
    "assert ray_results.is_dir()\n",
    "last_experiment = max(ray_results.glob('_aux_train_daostack_*'), key=lambda x: x.stat().st_ctime)\n",
    "print(f\"Loading results from {last_experiment}...\")\n",
    "assert last_experiment.is_dir()\n",
    "\n",
    "def _aux_train_daostack(*args, **kwargs):\n",
    "    raise NotImplementedError\n",
    "\n",
    "# TODO: Create an experiment grid or whatever is called\n",
    "tuner = tune.Tuner.restore(str(last_experiment), _aux_train_daostack)\n",
    "rg = tuner.get_results()\n",
    "rg.get_best_result()"
   ]
  },
  {
   "cell_type": "code",
   "execution_count": 3,
   "id": "47cbeaf2-c8ff-4afa-b1bc-887d58143984",
   "metadata": {
    "execution": {
     "iopub.execute_input": "2023-08-16T18:36:57.489593Z",
     "iopub.status.busy": "2023-08-16T18:36:57.489331Z",
     "iopub.status.idle": "2023-08-16T18:36:57.560132Z",
     "shell.execute_reply": "2023-08-16T18:36:57.558224Z",
     "shell.execute_reply.started": "2023-08-16T18:36:57.489570Z"
    }
   },
   "outputs": [
    {
     "name": "stderr",
     "output_type": "stream",
     "text": [
      "2023-08-16 20:36:57,494\tWARNING experiment_analysis.py:694 -- Failed to read the config for 1 trials:\n",
      "- /home/davo/ray_results/_aux_train_daostack_2023-08-16_20-34-00/_aux_train_daostack_59dd3f68_3_trial_index=2,batch_size=6,conv_layers=3,embedding_dim=230,l2=0.0000,learning_rate=0.0001,max_epoch_2023-08-16_20-34-15\n"
     ]
    },
    {
     "name": "stdout",
     "output_type": "stream",
     "text": [
      "Index(['loss', 'rprec train', 'rprec test', 'p@5 train', 'p@5 test',\n",
      "       'r@5 train', 'r@5 test', 'time_this_iter_s', 'should_checkpoint',\n",
      "       'done', 'training_iteration', 'trial_id', 'time_total_s',\n",
      "       'config/__trial_index__', 'config/batch_size', 'config/conv_layers',\n",
      "       'config/embedding_dim', 'config/l2', 'config/learning_rate',\n",
      "       'config/max_epochs'],\n",
      "      dtype='object')\n"
     ]
    },
    {
     "data": {
      "text/html": [
       "<div>\n",
       "<style scoped>\n",
       "    .dataframe tbody tr th:only-of-type {\n",
       "        vertical-align: middle;\n",
       "    }\n",
       "\n",
       "    .dataframe tbody tr th {\n",
       "        vertical-align: top;\n",
       "    }\n",
       "\n",
       "    .dataframe thead th {\n",
       "        text-align: right;\n",
       "    }\n",
       "</style>\n",
       "<table border=\"1\" class=\"dataframe\">\n",
       "  <thead>\n",
       "    <tr style=\"text-align: right;\">\n",
       "      <th></th>\n",
       "      <th>loss</th>\n",
       "      <th>rprec train</th>\n",
       "      <th>rprec test</th>\n",
       "      <th>p@5 train</th>\n",
       "      <th>p@5 test</th>\n",
       "      <th>r@5 train</th>\n",
       "      <th>r@5 test</th>\n",
       "      <th>time_this_iter_s</th>\n",
       "      <th>should_checkpoint</th>\n",
       "      <th>done</th>\n",
       "      <th>training_iteration</th>\n",
       "      <th>trial_id</th>\n",
       "      <th>time_total_s</th>\n",
       "      <th>config/__trial_index__</th>\n",
       "      <th>config/batch_size</th>\n",
       "      <th>config/conv_layers</th>\n",
       "      <th>config/embedding_dim</th>\n",
       "      <th>config/l2</th>\n",
       "      <th>config/learning_rate</th>\n",
       "      <th>config/max_epochs</th>\n",
       "    </tr>\n",
       "  </thead>\n",
       "  <tbody>\n",
       "    <tr>\n",
       "      <th>0</th>\n",
       "      <td>0.691052</td>\n",
       "      <td>0.722094</td>\n",
       "      <td>0.722094</td>\n",
       "      <td>0.951923</td>\n",
       "      <td>0.951923</td>\n",
       "      <td>0.264030</td>\n",
       "      <td>0.264030</td>\n",
       "      <td>14.996376</td>\n",
       "      <td>True</td>\n",
       "      <td>False</td>\n",
       "      <td>1</td>\n",
       "      <td>e7978e0d</td>\n",
       "      <td>14.996376</td>\n",
       "      <td>0</td>\n",
       "      <td>64</td>\n",
       "      <td>3</td>\n",
       "      <td>230</td>\n",
       "      <td>0.000003</td>\n",
       "      <td>0.00013</td>\n",
       "      <td>50</td>\n",
       "    </tr>\n",
       "    <tr>\n",
       "      <th>1</th>\n",
       "      <td>0.691081</td>\n",
       "      <td>0.709765</td>\n",
       "      <td>0.709765</td>\n",
       "      <td>0.955769</td>\n",
       "      <td>0.955769</td>\n",
       "      <td>0.264074</td>\n",
       "      <td>0.264074</td>\n",
       "      <td>15.669194</td>\n",
       "      <td>True</td>\n",
       "      <td>False</td>\n",
       "      <td>1</td>\n",
       "      <td>f8f3af67</td>\n",
       "      <td>15.669194</td>\n",
       "      <td>1</td>\n",
       "      <td>64</td>\n",
       "      <td>3</td>\n",
       "      <td>230</td>\n",
       "      <td>0.000003</td>\n",
       "      <td>0.00013</td>\n",
       "      <td>50</td>\n",
       "    </tr>\n",
       "  </tbody>\n",
       "</table>\n",
       "</div>"
      ],
      "text/plain": [
       "       loss  rprec train  rprec test  p@5 train  p@5 test  r@5 train  \\\n",
       "0  0.691052     0.722094    0.722094   0.951923  0.951923   0.264030   \n",
       "1  0.691081     0.709765    0.709765   0.955769  0.955769   0.264074   \n",
       "\n",
       "   r@5 test  time_this_iter_s  should_checkpoint   done  training_iteration  \\\n",
       "0  0.264030         14.996376               True  False                   1   \n",
       "1  0.264074         15.669194               True  False                   1   \n",
       "\n",
       "   trial_id  time_total_s  config/__trial_index__  config/batch_size  \\\n",
       "0  e7978e0d     14.996376                       0                 64   \n",
       "1  f8f3af67     15.669194                       1                 64   \n",
       "\n",
       "   config/conv_layers  config/embedding_dim  config/l2  config/learning_rate  \\\n",
       "0                   3                   230   0.000003               0.00013   \n",
       "1                   3                   230   0.000003               0.00013   \n",
       "\n",
       "   config/max_epochs  \n",
       "0                 50  \n",
       "1                 50  "
      ]
     },
     "execution_count": 3,
     "metadata": {},
     "output_type": "execute_result"
    }
   ],
   "source": [
    "# Read dataframe and drop some unneeded columns\n",
    "rdf = rg.get_dataframe('p@5 test', 'max').drop(columns=['timestamp', 'node_ip', 'pid', 'hostname', 'time_since_restore', 'iterations_since_restore', 'logdir'])\n",
    "rdf = rdf.drop(columns=['date'])\n",
    "# rdf = rdf[rdf['done']]\n",
    "print(rdf.columns)\n",
    "\n",
    "for c in ['config/batch_size']: #, 'config/embedding_dim']:\n",
    "    rdf[c] = 2**rdf[c]\n",
    "\n",
    "rdf.sort_values('loss').head(5)"
   ]
  },
  {
   "cell_type": "code",
   "execution_count": 4,
   "id": "8852a2e8-82c4-40a3-8ffb-a4b6baaffcb1",
   "metadata": {
    "execution": {
     "iopub.execute_input": "2023-08-16T18:36:57.566507Z",
     "iopub.status.busy": "2023-08-16T18:36:57.563831Z",
     "iopub.status.idle": "2023-08-16T18:36:57.642278Z",
     "shell.execute_reply": "2023-08-16T18:36:57.639657Z",
     "shell.execute_reply.started": "2023-08-16T18:36:57.566422Z"
    }
   },
   "outputs": [
    {
     "name": "stdout",
     "output_type": "stream",
     "text": [
      "1 configurations were tested\n"
     ]
    },
    {
     "data": {
      "text/html": [
       "<div>\n",
       "<style scoped>\n",
       "    .dataframe tbody tr th:only-of-type {\n",
       "        vertical-align: middle;\n",
       "    }\n",
       "\n",
       "    .dataframe tbody tr th {\n",
       "        vertical-align: top;\n",
       "    }\n",
       "\n",
       "    .dataframe thead th {\n",
       "        text-align: right;\n",
       "    }\n",
       "</style>\n",
       "<table border=\"1\" class=\"dataframe\">\n",
       "  <thead>\n",
       "    <tr style=\"text-align: right;\">\n",
       "      <th></th>\n",
       "      <th>config/batch_size</th>\n",
       "      <th>config/conv_layers</th>\n",
       "      <th>config/embedding_dim</th>\n",
       "      <th>config/l2</th>\n",
       "      <th>config/learning_rate</th>\n",
       "      <th>loss</th>\n",
       "      <th>rprec train</th>\n",
       "      <th>rprec test</th>\n",
       "      <th>p@5 train</th>\n",
       "      <th>p@5 test</th>\n",
       "      <th>r@5 train</th>\n",
       "      <th>r@5 test</th>\n",
       "      <th>time_this_iter_s</th>\n",
       "      <th>training_iteration</th>\n",
       "      <th>time_total_s</th>\n",
       "    </tr>\n",
       "  </thead>\n",
       "  <tbody>\n",
       "    <tr>\n",
       "      <th>0</th>\n",
       "      <td>64</td>\n",
       "      <td>3</td>\n",
       "      <td>230</td>\n",
       "      <td>0.000003</td>\n",
       "      <td>0.00013</td>\n",
       "      <td>0.691066</td>\n",
       "      <td>0.71593</td>\n",
       "      <td>0.71593</td>\n",
       "      <td>0.953846</td>\n",
       "      <td>0.953846</td>\n",
       "      <td>0.264052</td>\n",
       "      <td>0.264052</td>\n",
       "      <td>15.332785</td>\n",
       "      <td>1.0</td>\n",
       "      <td>15.332785</td>\n",
       "    </tr>\n",
       "  </tbody>\n",
       "</table>\n",
       "</div>"
      ],
      "text/plain": [
       "   config/batch_size  config/conv_layers  config/embedding_dim  config/l2  \\\n",
       "0                 64                   3                   230   0.000003   \n",
       "\n",
       "   config/learning_rate      loss  rprec train  rprec test  p@5 train  \\\n",
       "0               0.00013  0.691066      0.71593     0.71593   0.953846   \n",
       "\n",
       "   p@5 test  r@5 train  r@5 test  time_this_iter_s  training_iteration  \\\n",
       "0  0.953846   0.264052  0.264052         15.332785                 1.0   \n",
       "\n",
       "   time_total_s  \n",
       "0     15.332785  "
      ]
     },
     "execution_count": 4,
     "metadata": {},
     "output_type": "execute_result"
    }
   ],
   "source": [
    "# Group by config (except trial index) and do the mean\n",
    "non_config_columns = ['config/__trial_index__', 'config/max_epochs']\n",
    "cfg_columns = [c for c in rdf.columns if c.startswith('config/') and c not in non_config_columns]\n",
    "non_results_cols = ['should_checkpoint', 'done', 'config/__trial_index__'] + non_config_columns\n",
    "rdfgb = rdf.drop(columns=non_results_cols).groupby(cfg_columns).mean(numeric_only=True).reset_index()\n",
    "print(len(rdfgb), \"configurations were tested\")\n",
    "rdfgb.sort_values('p@5 test', ascending=False).tail(30)"
   ]
  }
 ],
 "metadata": {
  "kernelspec": {
   "display_name": "Python 3 (ipykernel)",
   "language": "python",
   "name": "python3"
  },
  "language_info": {
   "codemirror_mode": {
    "name": "ipython",
    "version": 3
   },
   "file_extension": ".py",
   "mimetype": "text/x-python",
   "name": "python",
   "nbconvert_exporter": "python",
   "pygments_lexer": "ipython3",
   "version": "3.11.3"
  },
  "widgets": {
   "application/vnd.jupyter.widget-state+json": {
    "state": {},
    "version_major": 2,
    "version_minor": 0
   }
  }
 },
 "nbformat": 4,
 "nbformat_minor": 5
}
