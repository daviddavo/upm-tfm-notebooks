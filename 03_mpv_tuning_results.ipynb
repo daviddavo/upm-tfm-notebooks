{
 "cells": [
  {
   "cell_type": "code",
   "execution_count": 1,
   "id": "ad8ba0eb-f442-4507-8155-d693d0eec309",
   "metadata": {
    "execution": {
     "iopub.execute_input": "2023-08-16T11:36:27.245409Z",
     "iopub.status.busy": "2023-08-16T11:36:27.244704Z",
     "iopub.status.idle": "2023-08-16T11:36:28.641722Z",
     "shell.execute_reply": "2023-08-16T11:36:28.640975Z",
     "shell.execute_reply.started": "2023-08-16T11:36:27.245331Z"
    }
   },
   "outputs": [],
   "source": [
    "from pathlib import Path\n",
    "\n",
    "from ray import tune\n",
    "from ray.air import Checkpoint, session"
   ]
  },
  {
   "cell_type": "code",
   "execution_count": 2,
   "id": "868ad4b4-7c92-4f26-ad15-cf83e0a139c5",
   "metadata": {
    "execution": {
     "iopub.execute_input": "2023-08-16T11:36:28.644068Z",
     "iopub.status.busy": "2023-08-16T11:36:28.643430Z",
     "iopub.status.idle": "2023-08-16T11:36:29.369596Z",
     "shell.execute_reply": "2023-08-16T11:36:29.368789Z",
     "shell.execute_reply.started": "2023-08-16T11:36:28.644031Z"
    }
   },
   "outputs": [
    {
     "name": "stdout",
     "output_type": "stream",
     "text": [
      "Loading results from /home/davo/ray_results/_aux_train_daostack_2023-08-16_13-31-22...\n"
     ]
    },
    {
     "name": "stderr",
     "output_type": "stream",
     "text": [
      "2023-08-16 13:36:29,337\tINFO experiment_analysis.py:972 -- No trial data passed in during `ExperimentAnalysis` initialization -- you are most likely loading the experiment after it has completed.\n",
      "Loading trial data from the experiment checkpoint file. This may result in loading some stale information, since checkpointing is periodic.\n",
      "2023-08-16 13:36:29,356\tWARNING experiment_analysis.py:916 -- Failed to read the results for 1 trials:\n",
      "- /home/davo/ray_results/_aux_train_daostack_2023-08-16_13-31-22/_aux_train_daostack_f4570c1d_4_trial_index=3,batch_size=4,conv_layers=4,embedding_dim=175,l2=0.0001,learning_rate=0.0041,max_epoch_2023-08-16_13-31-31\n"
     ]
    },
    {
     "data": {
      "text/plain": [
       "Result(\n",
       "  metrics={'loss': 0.18073842377233348, 'rprec train': 0.5126403570175171, 'rprec test': 0.5126403570175171, 'p@5 train': 0.6750000715255737, 'p@5 test': 0.6750000715255737, 'r@5 train': 0.11846227943897247, 'r@5 test': 0.11846227943897247, 'should_checkpoint': True, 'done': False, 'trial_id': '6624f00d', 'experiment_tag': '2_trial_index=1,batch_size=4,conv_layers=4,embedding_dim=175,l2=0.0001,learning_rate=0.0041,max_epochs=50'},\n",
       "  path='/home/davo/ray_results/_aux_train_daostack_2023-08-16_13-31-22/_aux_train_daostack_6624f00d_2_trial_index=1,batch_size=4,conv_layers=4,embedding_dim=175,l2=0.0001,learning_rate=0.0041,max_epoch_2023-08-16_13-31-24',\n",
       "  checkpoint=Checkpoint(local_path=/home/davo/ray_results/_aux_train_daostack_2023-08-16_13-31-22/_aux_train_daostack_6624f00d_2_trial_index=1,batch_size=4,conv_layers=4,embedding_dim=175,l2=0.0001,learning_rate=0.0041,max_epoch_2023-08-16_13-31-24/checkpoint_000011)\n",
       ")"
      ]
     },
     "execution_count": 2,
     "metadata": {},
     "output_type": "execute_result"
    }
   ],
   "source": [
    "ray_results = Path(\"~/ray_results\").expanduser()\n",
    "assert ray_results.is_dir()\n",
    "last_experiment = max(ray_results.glob('_aux_train_daostack_*'), key=lambda x: x.stat().st_ctime)\n",
    "print(f\"Loading results from {last_experiment}...\")\n",
    "assert last_experiment.is_dir()\n",
    "\n",
    "def _aux_train_daostack(*args, **kwargs):\n",
    "    raise NotImplementedError\n",
    "\n",
    "# TODO: Create an experiment grid or whatever is called\n",
    "tuner = tune.Tuner.restore(str(last_experiment), _aux_train_daostack)\n",
    "rg = tuner.get_results()\n",
    "rg.get_best_result()"
   ]
  },
  {
   "cell_type": "code",
   "execution_count": 3,
   "id": "47cbeaf2-c8ff-4afa-b1bc-887d58143984",
   "metadata": {
    "execution": {
     "iopub.execute_input": "2023-08-16T11:36:29.371589Z",
     "iopub.status.busy": "2023-08-16T11:36:29.370995Z",
     "iopub.status.idle": "2023-08-16T11:36:29.421642Z",
     "shell.execute_reply": "2023-08-16T11:36:29.420967Z",
     "shell.execute_reply.started": "2023-08-16T11:36:29.371549Z"
    }
   },
   "outputs": [
    {
     "name": "stderr",
     "output_type": "stream",
     "text": [
      "2023-08-16 13:36:29,382\tWARNING experiment_analysis.py:694 -- Failed to read the config for 1 trials:\n",
      "- /home/davo/ray_results/_aux_train_daostack_2023-08-16_13-31-22/_aux_train_daostack_f4570c1d_4_trial_index=3,batch_size=4,conv_layers=4,embedding_dim=175,l2=0.0001,learning_rate=0.0041,max_epoch_2023-08-16_13-31-31\n"
     ]
    },
    {
     "name": "stdout",
     "output_type": "stream",
     "text": [
      "Index(['loss', 'rprec train', 'rprec test', 'p@5 train', 'p@5 test',\n",
      "       'r@5 train', 'r@5 test', 'time_this_iter_s', 'should_checkpoint',\n",
      "       'done', 'training_iteration', 'trial_id', 'time_total_s',\n",
      "       'config/__trial_index__', 'config/batch_size', 'config/conv_layers',\n",
      "       'config/embedding_dim', 'config/l2', 'config/learning_rate',\n",
      "       'config/max_epochs'],\n",
      "      dtype='object')\n"
     ]
    },
    {
     "data": {
      "text/html": [
       "<div>\n",
       "<style scoped>\n",
       "    .dataframe tbody tr th:only-of-type {\n",
       "        vertical-align: middle;\n",
       "    }\n",
       "\n",
       "    .dataframe tbody tr th {\n",
       "        vertical-align: top;\n",
       "    }\n",
       "\n",
       "    .dataframe thead th {\n",
       "        text-align: right;\n",
       "    }\n",
       "</style>\n",
       "<table border=\"1\" class=\"dataframe\">\n",
       "  <thead>\n",
       "    <tr style=\"text-align: right;\">\n",
       "      <th></th>\n",
       "      <th>loss</th>\n",
       "      <th>rprec train</th>\n",
       "      <th>rprec test</th>\n",
       "      <th>p@5 train</th>\n",
       "      <th>p@5 test</th>\n",
       "      <th>r@5 train</th>\n",
       "      <th>r@5 test</th>\n",
       "      <th>time_this_iter_s</th>\n",
       "      <th>should_checkpoint</th>\n",
       "      <th>done</th>\n",
       "      <th>training_iteration</th>\n",
       "      <th>trial_id</th>\n",
       "      <th>time_total_s</th>\n",
       "      <th>config/__trial_index__</th>\n",
       "      <th>config/batch_size</th>\n",
       "      <th>config/conv_layers</th>\n",
       "      <th>config/embedding_dim</th>\n",
       "      <th>config/l2</th>\n",
       "      <th>config/learning_rate</th>\n",
       "      <th>config/max_epochs</th>\n",
       "    </tr>\n",
       "  </thead>\n",
       "  <tbody>\n",
       "    <tr>\n",
       "      <th>2</th>\n",
       "      <td>0.183580</td>\n",
       "      <td>0.506565</td>\n",
       "      <td>0.506565</td>\n",
       "      <td>0.667308</td>\n",
       "      <td>0.667308</td>\n",
       "      <td>0.117797</td>\n",
       "      <td>0.117797</td>\n",
       "      <td>24.184288</td>\n",
       "      <td>True</td>\n",
       "      <td>False</td>\n",
       "      <td>12</td>\n",
       "      <td>f3d1f5ed</td>\n",
       "      <td>286.050801</td>\n",
       "      <td>0</td>\n",
       "      <td>16</td>\n",
       "      <td>4</td>\n",
       "      <td>175</td>\n",
       "      <td>0.000064</td>\n",
       "      <td>0.00409</td>\n",
       "      <td>50</td>\n",
       "    </tr>\n",
       "    <tr>\n",
       "      <th>1</th>\n",
       "      <td>0.193042</td>\n",
       "      <td>0.516550</td>\n",
       "      <td>0.516550</td>\n",
       "      <td>0.686538</td>\n",
       "      <td>0.686538</td>\n",
       "      <td>0.137289</td>\n",
       "      <td>0.137289</td>\n",
       "      <td>24.220886</td>\n",
       "      <td>True</td>\n",
       "      <td>False</td>\n",
       "      <td>11</td>\n",
       "      <td>6624f00d</td>\n",
       "      <td>265.497123</td>\n",
       "      <td>1</td>\n",
       "      <td>16</td>\n",
       "      <td>4</td>\n",
       "      <td>175</td>\n",
       "      <td>0.000064</td>\n",
       "      <td>0.00409</td>\n",
       "      <td>50</td>\n",
       "    </tr>\n",
       "    <tr>\n",
       "      <th>0</th>\n",
       "      <td>0.194881</td>\n",
       "      <td>0.488606</td>\n",
       "      <td>0.488606</td>\n",
       "      <td>0.650000</td>\n",
       "      <td>0.650000</td>\n",
       "      <td>0.113907</td>\n",
       "      <td>0.113907</td>\n",
       "      <td>24.326813</td>\n",
       "      <td>True</td>\n",
       "      <td>False</td>\n",
       "      <td>10</td>\n",
       "      <td>30ac4776</td>\n",
       "      <td>244.658790</td>\n",
       "      <td>2</td>\n",
       "      <td>16</td>\n",
       "      <td>4</td>\n",
       "      <td>175</td>\n",
       "      <td>0.000064</td>\n",
       "      <td>0.00409</td>\n",
       "      <td>50</td>\n",
       "    </tr>\n",
       "  </tbody>\n",
       "</table>\n",
       "</div>"
      ],
      "text/plain": [
       "       loss  rprec train  rprec test  p@5 train  p@5 test  r@5 train  \\\n",
       "2  0.183580     0.506565    0.506565   0.667308  0.667308   0.117797   \n",
       "1  0.193042     0.516550    0.516550   0.686538  0.686538   0.137289   \n",
       "0  0.194881     0.488606    0.488606   0.650000  0.650000   0.113907   \n",
       "\n",
       "   r@5 test  time_this_iter_s  should_checkpoint   done  training_iteration  \\\n",
       "2  0.117797         24.184288               True  False                  12   \n",
       "1  0.137289         24.220886               True  False                  11   \n",
       "0  0.113907         24.326813               True  False                  10   \n",
       "\n",
       "   trial_id  time_total_s  config/__trial_index__  config/batch_size  \\\n",
       "2  f3d1f5ed    286.050801                       0                 16   \n",
       "1  6624f00d    265.497123                       1                 16   \n",
       "0  30ac4776    244.658790                       2                 16   \n",
       "\n",
       "   config/conv_layers  config/embedding_dim  config/l2  config/learning_rate  \\\n",
       "2                   4                   175   0.000064               0.00409   \n",
       "1                   4                   175   0.000064               0.00409   \n",
       "0                   4                   175   0.000064               0.00409   \n",
       "\n",
       "   config/max_epochs  \n",
       "2                 50  \n",
       "1                 50  \n",
       "0                 50  "
      ]
     },
     "execution_count": 3,
     "metadata": {},
     "output_type": "execute_result"
    }
   ],
   "source": [
    "# Read dataframe and drop some unneeded columns\n",
    "rdf = rg.get_dataframe('p@5 test', 'max').drop(columns=['timestamp', 'node_ip', 'pid', 'hostname', 'time_since_restore', 'iterations_since_restore', 'logdir'])\n",
    "rdf = rdf.drop(columns=['date'])\n",
    "# rdf = rdf[rdf['done']]\n",
    "print(rdf.columns)\n",
    "\n",
    "for c in ['config/batch_size']: #, 'config/embedding_dim']:\n",
    "    rdf[c] = 2**rdf[c]\n",
    "\n",
    "rdf.sort_values('loss').head(5)"
   ]
  },
  {
   "cell_type": "code",
   "execution_count": 4,
   "id": "8852a2e8-82c4-40a3-8ffb-a4b6baaffcb1",
   "metadata": {
    "execution": {
     "iopub.execute_input": "2023-08-16T11:36:29.423400Z",
     "iopub.status.busy": "2023-08-16T11:36:29.422712Z",
     "iopub.status.idle": "2023-08-16T11:36:29.461842Z",
     "shell.execute_reply": "2023-08-16T11:36:29.460853Z",
     "shell.execute_reply.started": "2023-08-16T11:36:29.423342Z"
    }
   },
   "outputs": [
    {
     "name": "stdout",
     "output_type": "stream",
     "text": [
      "1 configurations were tested\n"
     ]
    },
    {
     "data": {
      "text/html": [
       "<div>\n",
       "<style scoped>\n",
       "    .dataframe tbody tr th:only-of-type {\n",
       "        vertical-align: middle;\n",
       "    }\n",
       "\n",
       "    .dataframe tbody tr th {\n",
       "        vertical-align: top;\n",
       "    }\n",
       "\n",
       "    .dataframe thead th {\n",
       "        text-align: right;\n",
       "    }\n",
       "</style>\n",
       "<table border=\"1\" class=\"dataframe\">\n",
       "  <thead>\n",
       "    <tr style=\"text-align: right;\">\n",
       "      <th></th>\n",
       "      <th>config/batch_size</th>\n",
       "      <th>config/conv_layers</th>\n",
       "      <th>config/embedding_dim</th>\n",
       "      <th>config/l2</th>\n",
       "      <th>config/learning_rate</th>\n",
       "      <th>loss</th>\n",
       "      <th>rprec train</th>\n",
       "      <th>rprec test</th>\n",
       "      <th>p@5 train</th>\n",
       "      <th>p@5 test</th>\n",
       "      <th>r@5 train</th>\n",
       "      <th>r@5 test</th>\n",
       "      <th>time_this_iter_s</th>\n",
       "      <th>training_iteration</th>\n",
       "      <th>time_total_s</th>\n",
       "    </tr>\n",
       "  </thead>\n",
       "  <tbody>\n",
       "    <tr>\n",
       "      <th>0</th>\n",
       "      <td>16</td>\n",
       "      <td>4</td>\n",
       "      <td>175</td>\n",
       "      <td>0.000064</td>\n",
       "      <td>0.00409</td>\n",
       "      <td>0.190501</td>\n",
       "      <td>0.503907</td>\n",
       "      <td>0.503907</td>\n",
       "      <td>0.667949</td>\n",
       "      <td>0.667949</td>\n",
       "      <td>0.122998</td>\n",
       "      <td>0.122998</td>\n",
       "      <td>24.243996</td>\n",
       "      <td>11.0</td>\n",
       "      <td>265.402238</td>\n",
       "    </tr>\n",
       "  </tbody>\n",
       "</table>\n",
       "</div>"
      ],
      "text/plain": [
       "   config/batch_size  config/conv_layers  config/embedding_dim  config/l2  \\\n",
       "0                 16                   4                   175   0.000064   \n",
       "\n",
       "   config/learning_rate      loss  rprec train  rprec test  p@5 train  \\\n",
       "0               0.00409  0.190501     0.503907    0.503907   0.667949   \n",
       "\n",
       "   p@5 test  r@5 train  r@5 test  time_this_iter_s  training_iteration  \\\n",
       "0  0.667949   0.122998  0.122998         24.243996                11.0   \n",
       "\n",
       "   time_total_s  \n",
       "0    265.402238  "
      ]
     },
     "execution_count": 4,
     "metadata": {},
     "output_type": "execute_result"
    }
   ],
   "source": [
    "# Group by config (except trial index) and do the mean\n",
    "non_config_columns = ['config/__trial_index__', 'config/max_epochs']\n",
    "cfg_columns = [c for c in rdf.columns if c.startswith('config/') and c not in non_config_columns]\n",
    "non_results_cols = ['should_checkpoint', 'done', 'config/__trial_index__'] + non_config_columns\n",
    "rdfgb = rdf.drop(columns=non_results_cols).groupby(cfg_columns).mean(numeric_only=True).reset_index()\n",
    "print(len(rdfgb), \"configurations were tested\")\n",
    "rdfgb.sort_values('p@5 test', ascending=False).tail(30)"
   ]
  }
 ],
 "metadata": {
  "kernelspec": {
   "display_name": "Python 3 (ipykernel)",
   "language": "python",
   "name": "python3"
  },
  "language_info": {
   "codemirror_mode": {
    "name": "ipython",
    "version": 3
   },
   "file_extension": ".py",
   "mimetype": "text/x-python",
   "name": "python",
   "nbconvert_exporter": "python",
   "pygments_lexer": "ipython3",
   "version": "3.11.3"
  },
  "widgets": {
   "application/vnd.jupyter.widget-state+json": {
    "state": {},
    "version_major": 2,
    "version_minor": 0
   }
  }
 },
 "nbformat": 4,
 "nbformat_minor": 5
}
