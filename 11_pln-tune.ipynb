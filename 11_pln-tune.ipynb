{
 "cells": [
  {
   "cell_type": "code",
   "execution_count": 316,
   "id": "752ee701-9042-4672-b875-fcb1f1ff83a2",
   "metadata": {},
   "outputs": [
    {
     "name": "stdout",
     "output_type": "stream",
     "text": [
      "The autoreload extension is already loaded. To reload it, use:\n",
      "  %reload_ext autoreload\n"
     ]
    }
   ],
   "source": [
    "from typing import Dict, List, Tuple, Union, Any, Optional\n",
    "\n",
    "from functools import partial\n",
    "import itertools as it\n",
    "\n",
    "import pandas as pd\n",
    "import numpy as np\n",
    "import datetime as dt\n",
    "import os, sys\n",
    "\n",
    "from pathlib import Path\n",
    "\n",
    "import torch\n",
    "import ray\n",
    "from ray import train, tune\n",
    "\n",
    "import matplotlib.pyplot as plt\n",
    "import seaborn as sns\n",
    "import plotly.express as px\n",
    "\n",
    "from tqdm import tqdm\n",
    "from wrapt_timeout_decorator import timeout\n",
    "\n",
    "from src.datasets import daocensus_text\n",
    "from src.utils import Timer\n",
    "from src.utils import notebooks as nbutils\n",
    "from src import paths\n",
    "\n",
    "%load_ext autoreload\n",
    "%autoreload 2"
   ]
  },
  {
   "cell_type": "markdown",
   "id": "b04b58f5-59bd-4000-9e19-6cb20ea8afb3",
   "metadata": {},
   "source": [
    "### Parameters"
   ]
  },
  {
   "cell_type": "code",
   "execution_count": 317,
   "id": "ee507d49-c555-43ca-97dc-e0f627737421",
   "metadata": {},
   "outputs": [],
   "source": [
    "JOBLIB_CACHE_DIR = './.cache/11_pln-tune'\n",
    "\n",
    "TRANSFORMER_MODEL = \"all-mpnet-base-v2\"\n",
    "ORG_NAME = 'Decentraland'\n",
    "\n",
    "# Evaluation\n",
    "# N_SPLITS: int = 10\n",
    "# SKIP_SPLIT: int = 0\n",
    "K_RECOMMENDATIONS: List[int] = [5, 10]\n",
    "SPLITS_FREQ: str = 'W-THU' # split weekly\n",
    "SPLITS_NORMALIZE = True # Wether or not to move everything to 00:00\n",
    "LAST_SPLITS = 10 # Use just last 10 splits\n",
    "\n",
    "# Metrics Dataframe\n",
    "MDF_FILE = paths.pln_mdf(ORG_NAME, SPLITS_FREQ, SPLITS_NORMALIZE)\n",
    "GRAPHS_METRIC = 'map@10'\n",
    "\n",
    "# k for K Nearest Neighbors\n",
    "# KNN_K: int = 1"
   ]
  },
  {
   "cell_type": "code",
   "execution_count": 318,
   "id": "dff49c62-41a3-4b70-b486-55cbafede303",
   "metadata": {
    "scrolled": true
   },
   "outputs": [
    {
     "name": "stdout",
     "output_type": "stream",
     "text": [
      "Warning, removing 116560 votes without proposal\n",
      "<class 'pandas.core.frame.DataFrame'>\n",
      "Int64Index: 116560 entries, 0 to 116559\n",
      "Data columns (total 10 columns):\n",
      " #   Column         Non-Null Count   Dtype         \n",
      "---  ------         --------------   -----         \n",
      " 0   platform       116560 non-null  object        \n",
      " 1   name           116560 non-null  object        \n",
      " 2   id             116560 non-null  object        \n",
      " 3   proposal       116560 non-null  object        \n",
      " 4   deployment     116560 non-null  object        \n",
      " 5   platform_vote  116560 non-null  object        \n",
      " 6   voter          116560 non-null  object        \n",
      " 7   date           116560 non-null  datetime64[ns]\n",
      " 8   choice         116560 non-null  object        \n",
      " 9   weight         116560 non-null  float64       \n",
      "dtypes: datetime64[ns](1), float64(1), object(8)\n",
      "memory usage: 9.8+ MB\n",
      "None\n",
      "<class 'pandas.core.frame.DataFrame'>\n",
      "Index: 1943 entries, 0f4784fc-022a-5047-8bfe-e16ac3bd0984 to 629184e6-f8b2-5270-b358-252369d7599d\n",
      "Data columns (total 12 columns):\n",
      " #   Column               Non-Null Count  Dtype         \n",
      "---  ------               --------------  -----         \n",
      " 0   platform             1943 non-null   object        \n",
      " 1   name                 1943 non-null   object        \n",
      " 2   platform_deployment  1943 non-null   object        \n",
      " 3   deployment           1943 non-null   object        \n",
      " 4   platform_proposal    1943 non-null   object        \n",
      " 5   author               1943 non-null   category      \n",
      " 6   date                 1943 non-null   datetime64[ns]\n",
      " 7   votes_count          1943 non-null   int64         \n",
      " 8   title                1943 non-null   object        \n",
      " 9   description          1943 non-null   object        \n",
      " 10  start                1943 non-null   datetime64[ns]\n",
      " 11  end                  1943 non-null   datetime64[ns]\n",
      "dtypes: category(1), datetime64[ns](3), int64(1), object(7)\n",
      "memory usage: 184.1+ KB\n",
      "None\n"
     ]
    }
   ],
   "source": [
    "# dfptext = pd.read_csv('./snapshot_proposals.csv')[['proposal_id', 'title', 'description', 'start', 'end']]\n",
    "# dfv, dfp = daocensus.get(\"./data/daos-census\", ORG_NAME, 'snapshot')\n",
    "# dfv['voter'] = dfv['voter'].astype('str')\n",
    "# dfp = dfp.merge(dfptext, how='left', left_on='platform_proposal', right_on='proposal_id')\n",
    "# dfp[['start', 'end']] = dfp[['start', 'end']].astype('datetime64')\n",
    "\n",
    "dfv, dfp = daocensus_text.get(\"./data/daos-census-text\", ORG_NAME, 'snapshot')\n",
    "dfv[['voter', 'proposal']] = dfv[['voter', 'proposal']].astype(str)\n",
    "dfp[['id']] = dfp[['id']].astype(str)\n",
    "dfp = dfp.set_index('id')\n",
    "print(dfv.info())\n",
    "print(dfp.info())"
   ]
  },
  {
   "cell_type": "markdown",
   "id": "5e116e4b-6cae-4893-83fc-3b9cd8000541",
   "metadata": {},
   "source": [
    "## Getting the embeddings of each proposal"
   ]
  },
  {
   "cell_type": "code",
   "execution_count": 319,
   "id": "61d7c966-0ef9-41e2-8837-6782146c60ab",
   "metadata": {},
   "outputs": [],
   "source": [
    "from sentence_transformers import SentenceTransformer\n",
    "import pickle"
   ]
  },
  {
   "cell_type": "markdown",
   "id": "1af0ad5b-aad9-4174-9bc6-bac6db7bab4e",
   "metadata": {},
   "source": [
    "str(model)\n",
    "```\n",
    "SentenceTransformer(\n",
    "  (0): Transformer({'max_seq_length': 384, 'do_lower_case': False}) with Transformer model: MPNetModel \n",
    "  (1): Pooling({'word_embedding_dimension': 768, 'pooling_mode_cls_token': False, 'pooling_mode_mean_tokens': True, 'pooling_mode_max_tokens': False, 'pooling_mode_mean_sqrt_len_tokens': False})\n",
    "  (2): Normalize()\n",
    ")\n",
    "```\n",
    "\n",
    "hash(str(model)) = 1078797550815066609"
   ]
  },
  {
   "cell_type": "code",
   "execution_count": 320,
   "id": "9151cda0-227b-416a-9a82-142732826a8e",
   "metadata": {},
   "outputs": [],
   "source": [
    "model = SentenceTransformer(TRANSFORMER_MODEL)"
   ]
  },
  {
   "cell_type": "code",
   "execution_count": 321,
   "id": "90a41adb-bcac-4813-b039-a0db2490cfb3",
   "metadata": {},
   "outputs": [
    {
     "name": "stdout",
     "output_type": "stream",
     "text": [
      "SentenceTransformer(\n",
      "  (0): Transformer({'max_seq_length': 384, 'do_lower_case': False}) with Transformer model: MPNetModel \n",
      "  (1): Pooling({'word_embedding_dimension': 768, 'pooling_mode_cls_token': False, 'pooling_mode_mean_tokens': True, 'pooling_mode_max_tokens': False, 'pooling_mode_mean_sqrt_len_tokens': False})\n",
      "  (2): Normalize()\n",
      ")\n",
      "All embeddings are already calculated\n"
     ]
    }
   ],
   "source": [
    "from src.models.nlp import get_embeddings_from_cache\n",
    "\n",
    "model = SentenceTransformer(TRANSFORMER_MODEL)\n",
    "print(model)\n",
    "embeddings = get_embeddings_from_cache(dfp, model)\n",
    "\n",
    "# We have to delete the model because it complains about forking\n",
    "del model\n",
    "# ids = embeddings.index"
   ]
  },
  {
   "cell_type": "code",
   "execution_count": 322,
   "id": "12f3a51c-97e2-4bb0-a3bb-c0f826b3c280",
   "metadata": {
    "scrolled": true
   },
   "outputs": [
    {
     "name": "stdout",
     "output_type": "stream",
     "text": [
      "(1943,) (768,)\n"
     ]
    },
    {
     "data": {
      "text/plain": [
       "id\n",
       "0f4784fc-022a-5047-8bfe-e16ac3bd0984    [0.00024967678, 0.0006414138, 0.0008391258, 0....\n",
       "1076afc9-898c-5e2c-b935-e4098697078e    [0.001466545, 0.00030541283, 0.00033589837, 0....\n",
       "0040ba5e-10b9-500d-820d-565469375c2a    [-0.0010839765, 0.00088614103, 0.0005159463, -...\n",
       "887be0e6-8878-5611-9f66-a5838dd89ee0    [0.0008752301, 0.0005821871, 0.00061497354, -0...\n",
       "b6ba1508-89f8-5f1b-8b52-209f21ab8f7e    [-0.0015600688, -4.7829955e-05, 0.00069438305,...\n",
       "                                                              ...                        \n",
       "4558ea33-ee07-5334-beac-707b923bb3f3    [0.0007028783, 0.00017008178, -4.044708e-05, 0...\n",
       "e7604960-a60b-556b-b677-5c91a78cd88f    [-0.0004782006, 3.6241845e-06, 0.0006607393, 0...\n",
       "b32ce381-23e2-538b-8ff9-33205b457c22    [0.0013822797, 0.0007584231, 0.00033487612, 0....\n",
       "974d8a2c-8955-529f-96ed-061fa500bf33    [0.0015055725, 0.00046790336, 0.00041753572, -...\n",
       "629184e6-f8b2-5270-b358-252369d7599d    [-0.00066695624, -0.00019068179, 0.0007338731,...\n",
       "Length: 1943, dtype: object"
      ]
     },
     "execution_count": 322,
     "metadata": {},
     "output_type": "execute_result"
    }
   ],
   "source": [
    "embeddings_sum = embeddings.sum(axis=0)\n",
    "print(embeddings.shape, embeddings_sum.shape)\n",
    "embeddings = embeddings.apply(lambda x: x / embeddings_sum)\n",
    "embeddings"
   ]
  },
  {
   "cell_type": "code",
   "execution_count": 323,
   "id": "df2eb91e-65e0-4b1d-a87c-fbfa4bc3eef1",
   "metadata": {},
   "outputs": [],
   "source": [
    "dfp['embeddings'] = embeddings"
   ]
  },
  {
   "cell_type": "markdown",
   "id": "d72c7ba3-ca13-4f06-86bb-5a565e170bb9",
   "metadata": {},
   "source": [
    "## Getting the embeddings of each user\n",
    "\n",
    "The embeddings of each user are the embeddings of each proposal the user has voted in"
   ]
  },
  {
   "cell_type": "code",
   "execution_count": 324,
   "id": "bdc45b70-8397-422d-89c5-814e629fcee6",
   "metadata": {},
   "outputs": [
    {
     "name": "stdout",
     "output_type": "stream",
     "text": [
      "dfp: (1943, 13) dfv: (116560, 10)\n"
     ]
    },
    {
     "data": {
      "text/plain": [
       "(116560,)"
      ]
     },
     "execution_count": 324,
     "metadata": {},
     "output_type": "execute_result"
    }
   ],
   "source": [
    "# dfp['nbidx'] = dfp.index\n",
    "# _dfv = dfv.merge(dfp[['id', 'nbidx']], how='left', left_on='proposal', right_on='id')\n",
    "# print('dfp:', dfp.shape, 'dfv:', dfv.shape, '_dfv:', _dfv.shape)\n",
    "# votes_embeddings = embeddings[_dfv['nbidx']]\n",
    "votes_embeddings = embeddings.loc[dfv['proposal']]\n",
    "print('dfp:', dfp.shape, 'dfv:', dfv.shape)\n",
    "votes_embeddings.shape"
   ]
  },
  {
   "cell_type": "code",
   "execution_count": 325,
   "id": "246bc838-f222-4813-bd0f-996b3ba1b165",
   "metadata": {},
   "outputs": [
    {
     "name": "stdout",
     "output_type": "stream",
     "text": [
      "[0.6 0.8]\n",
      "1.0\n",
      "1.4\n"
     ]
    }
   ],
   "source": [
    "x=np.array([3,4])\n",
    "x = x / np.linalg.norm(x)\n",
    "print(x)\n",
    "print(np.linalg.norm(x))\n",
    "print(x.sum())"
   ]
  },
  {
   "cell_type": "code",
   "execution_count": 326,
   "id": "bd59ea53-9ca7-4fa5-a11b-cea31f8cd14f",
   "metadata": {},
   "outputs": [
    {
     "data": {
      "text/plain": [
       "voter\n",
       "0x0019220ddabe5b8438a6be6ebca31ef01ca69965    [0.0010477987, 0.0015924382, 0.0017050041, 0.0...\n",
       "0x0023a0bf1cb20362f847dfc977d2c815f6ac8021    [0.009622099, 0.0034187052, 0.003367807, 0.006...\n",
       "0x0026dd985da16f70e9d9cf739b08c6cdf6a7f407    [0.0015011001, 0.0011227258, 0.00052121805, 0....\n",
       "0x0029ab135b5be72168bf80f140d60a9264dbd0c5    [0.0018051072, 0.0007161274, 0.0008733617, 0.0...\n",
       "0x003a3eb1a1d2ad3bea19ae06324727beeeec2e34    [0.0037666145, 0.002783243, 0.002651312, 0.002...\n",
       "                                                                    ...                        \n",
       "0xffd92144cafd599a5a93e4805ca4d8f0e666d623    [0.0037441235, 0.003186649, 0.00280605, 0.0035...\n",
       "0xffd9cd75445459184a4b89a0fbd1720ab2957738    [0.0027223164, 0.003114445, 0.00163464, 0.0030...\n",
       "0xffe6d9d29480d0673c4fc46da22d21e245c8e731    [0.0056425673, 0.003079375, 0.0010376757, 0.00...\n",
       "0xffed2f64c9f796d4258618a7a375ed816205821a    [-0.00048470704, 0.0008324865, 0.0009201956, 0...\n",
       "0xfff28923092a8294456206a6d0734514bebcbe67    [0.00086908834, 0.00060729566, 0.0008503493, 0...\n",
       "Length: 7268, dtype: object"
      ]
     },
     "execution_count": 326,
     "metadata": {},
     "output_type": "execute_result"
    }
   ],
   "source": [
    "# observed = True, because voter is categorical and might have no votes really\n",
    "voter_embeddings = dfv.groupby('voter', observed=True).apply(lambda x: votes_embeddings[x.index].sum(axis=0))\n",
    "voter_embeddings = voter_embeddings.apply(lambda x: x/np.linalg.norm(x))\n",
    "# msk = (np.linalg.norm(np.stack(voter_embeddings.to_numpy()), axis=1) > 0.9)\n",
    "voter_embeddings"
   ]
  },
  {
   "cell_type": "code",
   "execution_count": 327,
   "id": "8fbbb3da-7553-4252-b894-764ad52324f9",
   "metadata": {},
   "outputs": [
    {
     "data": {
      "text/plain": [
       "voter\n",
       "0x7dc3331bc545a41e566dfbbb3d8851bf4762486f      1\n",
       "0x7ae0a65d329bc202e83a360d9afc880063c12337      1\n",
       "0x7b07608c3e4ef235c7a5e15f02a7fa9552ce113f      1\n",
       "0x7b29be2f106712287024e6228e015d44cdfa0dec      1\n",
       "0x7b2ec1a291a0a4dd08d65ab34a62bda1cca618c6      1\n",
       "                                             ... \n",
       "0x613e052555ac74ff6af0fc64e40e8035c1e9dcf8    652\n",
       "0xd6eff8f07caf3443a1178407d3de4129149d6ef6    727\n",
       "0xb44ac514588be99870220d12120815bc3d349507    729\n",
       "0x521b0fef9cdcf250abaf8e7bc798cbe13fa98692    760\n",
       "0xc54a6c3778016b06cbd126ccc3b5bc06c5f666fb    885\n",
       "Length: 7268, dtype: int64"
      ]
     },
     "execution_count": 327,
     "metadata": {},
     "output_type": "execute_result"
    }
   ],
   "source": [
    "dfv.groupby('voter', observed=True).size().sort_values()"
   ]
  },
  {
   "cell_type": "markdown",
   "id": "5cc72b63-24eb-427a-832d-72dc606c3645",
   "metadata": {},
   "source": [
    "## Making recommendations with cosine similarity\n",
    "\n",
    "Because they are normalized, our ranking score can be just the dot product of a user and a proposal"
   ]
  },
  {
   "cell_type": "code",
   "execution_count": 328,
   "id": "3d059da7-6cdc-4e24-8640-656ef6014d7e",
   "metadata": {},
   "outputs": [
    {
     "data": {
      "text/plain": [
       "array([1623,  480, 1504, ..., 1045, 1092,  107])"
      ]
     },
     "execution_count": 328,
     "metadata": {},
     "output_type": "execute_result"
    }
   ],
   "source": [
    "user_emb = voter_embeddings['0x613e052555ac74ff6af0fc64e40e8035c1e9dcf8']\n",
    "embeddings_np = np.vstack(embeddings)\n",
    "scores = embeddings_np @ user_emb\n",
    "scores.argsort()"
   ]
  },
  {
   "cell_type": "code",
   "execution_count": 329,
   "id": "e2e2af5b-9011-480c-ae4d-cdc16db5ad51",
   "metadata": {},
   "outputs": [
    {
     "data": {
      "text/plain": [
       "[7, 8, 9]"
      ]
     },
     "execution_count": 329,
     "metadata": {},
     "output_type": "execute_result"
    }
   ],
   "source": [
    "list(range(10))[-3:]"
   ]
  },
  {
   "cell_type": "code",
   "execution_count": 330,
   "id": "16f39d80-3cf6-49fe-8267-acf4ee66df59",
   "metadata": {},
   "outputs": [],
   "source": [
    "def recommend_emb(emb, k, t = None):\n",
    "    \"\"\"\n",
    "    Args:\n",
    "        emb: The embedding of the item/user to recommend items to\n",
    "        k (int): The number of items to recommend\n",
    "        t (timestamp): Simulate that the recommendation is made at time `t`\n",
    "            i.e: Filter out already closed proposals or not yet open\n",
    "    \"\"\"\n",
    "    # 1D n_proposals\n",
    "    scores = embeddings_np @ emb\n",
    "\n",
    "    if t:\n",
    "        msk = (dfp['start'] < t) & (t < dfp['end'])\n",
    "        scores[msk] = -np.inf\n",
    "    \n",
    "    best = (-scores).argsort()\n",
    "\n",
    "    dfbest = dfp.iloc[best[:k]].copy()\n",
    "    dfbest['score'] = scores[best[:k]]\n",
    "    return dfbest"
   ]
  },
  {
   "cell_type": "code",
   "execution_count": 331,
   "id": "5ff70a8d-e9b6-48ee-b2e8-7ad81cbd6b70",
   "metadata": {},
   "outputs": [
    {
     "data": {
      "text/html": [
       "<div>\n",
       "<style scoped>\n",
       "    .dataframe tbody tr th:only-of-type {\n",
       "        vertical-align: middle;\n",
       "    }\n",
       "\n",
       "    .dataframe tbody tr th {\n",
       "        vertical-align: top;\n",
       "    }\n",
       "\n",
       "    .dataframe thead th {\n",
       "        text-align: right;\n",
       "    }\n",
       "</style>\n",
       "<table border=\"1\" class=\"dataframe\">\n",
       "  <thead>\n",
       "    <tr style=\"text-align: right;\">\n",
       "      <th></th>\n",
       "      <th>title</th>\n",
       "      <th>description</th>\n",
       "      <th>score</th>\n",
       "    </tr>\n",
       "    <tr>\n",
       "      <th>id</th>\n",
       "      <th></th>\n",
       "      <th></th>\n",
       "      <th></th>\n",
       "    </tr>\n",
       "  </thead>\n",
       "  <tbody>\n",
       "    <tr>\n",
       "      <th>475ef4ab-4320-5832-b12f-59222f3f41b5</th>\n",
       "      <td>Should Voter Power Delegation be activated in ...</td>\n",
       "      <td>&gt; by 0x9982b469910c2ee2ea566dcfcc250cdd3405639...</td>\n",
       "      <td>1.842545</td>\n",
       "    </tr>\n",
       "    <tr>\n",
       "      <th>52d72c94-bc54-5cc3-b201-c8789538df84</th>\n",
       "      <td>Should the DAO implement a mechanism to delega...</td>\n",
       "      <td>&gt; by 0x511a22cdd2c4ee8357bb02df2578037ffe8a4d8...</td>\n",
       "      <td>1.782764</td>\n",
       "    </tr>\n",
       "    <tr>\n",
       "      <th>11946f30-e09f-5638-be0a-82dff99d3112</th>\n",
       "      <td>Logarithmic VP conversion after a certain amou...</td>\n",
       "      <td>&gt; by 0x5985eb4a8e0e1f7bca9cc0d7ae81c2943fb205b...</td>\n",
       "      <td>1.776113</td>\n",
       "    </tr>\n",
       "    <tr>\n",
       "      <th>bc3ec30e-b7f7-5de5-aa8e-8acf9d430887</th>\n",
       "      <td>Should Voter Power delegation be activated in ...</td>\n",
       "      <td>&gt; by 0x3fb38cee8d0ba7dcf59403a8c397626dc9c7a13...</td>\n",
       "      <td>1.674607</td>\n",
       "    </tr>\n",
       "    <tr>\n",
       "      <th>d3340f4d-a402-5844-9460-8c9fbcca770c</th>\n",
       "      <td>Should VP keep assigned to the landowner in a ...</td>\n",
       "      <td>&gt; by 0x87956abc4078a0cc3b89b419928b857b8af826e...</td>\n",
       "      <td>1.664069</td>\n",
       "    </tr>\n",
       "  </tbody>\n",
       "</table>\n",
       "</div>"
      ],
      "text/plain": [
       "                                                                                  title  \\\n",
       "id                                                                                        \n",
       "475ef4ab-4320-5832-b12f-59222f3f41b5  Should Voter Power Delegation be activated in ...   \n",
       "52d72c94-bc54-5cc3-b201-c8789538df84  Should the DAO implement a mechanism to delega...   \n",
       "11946f30-e09f-5638-be0a-82dff99d3112  Logarithmic VP conversion after a certain amou...   \n",
       "bc3ec30e-b7f7-5de5-aa8e-8acf9d430887  Should Voter Power delegation be activated in ...   \n",
       "d3340f4d-a402-5844-9460-8c9fbcca770c  Should VP keep assigned to the landowner in a ...   \n",
       "\n",
       "                                                                            description  \\\n",
       "id                                                                                        \n",
       "475ef4ab-4320-5832-b12f-59222f3f41b5  > by 0x9982b469910c2ee2ea566dcfcc250cdd3405639...   \n",
       "52d72c94-bc54-5cc3-b201-c8789538df84  > by 0x511a22cdd2c4ee8357bb02df2578037ffe8a4d8...   \n",
       "11946f30-e09f-5638-be0a-82dff99d3112  > by 0x5985eb4a8e0e1f7bca9cc0d7ae81c2943fb205b...   \n",
       "bc3ec30e-b7f7-5de5-aa8e-8acf9d430887  > by 0x3fb38cee8d0ba7dcf59403a8c397626dc9c7a13...   \n",
       "d3340f4d-a402-5844-9460-8c9fbcca770c  > by 0x87956abc4078a0cc3b89b419928b857b8af826e...   \n",
       "\n",
       "                                         score  \n",
       "id                                              \n",
       "475ef4ab-4320-5832-b12f-59222f3f41b5  1.842545  \n",
       "52d72c94-bc54-5cc3-b201-c8789538df84  1.782764  \n",
       "11946f30-e09f-5638-be0a-82dff99d3112  1.776113  \n",
       "bc3ec30e-b7f7-5de5-aa8e-8acf9d430887  1.674607  \n",
       "d3340f4d-a402-5844-9460-8c9fbcca770c  1.664069  "
      ]
     },
     "execution_count": 331,
     "metadata": {},
     "output_type": "execute_result"
    }
   ],
   "source": [
    "def recommend_user(voter: str, k: int = 5, t: Optional[np.datetime64] = None):\n",
    "    # 1D emb_size\n",
    "    user_emb = voter_embeddings[voter]\n",
    "    return recommend_emb(user_emb, k, t)\n",
    "\n",
    "recommend_user('0x613e052555ac74ff6af0fc64e40e8035c1e9dcf8')[['title', 'description', 'score']]"
   ]
  },
  {
   "cell_type": "code",
   "execution_count": 332,
   "id": "a86a24bd-4037-4faa-bb72-131687bc9d34",
   "metadata": {},
   "outputs": [
    {
     "data": {
      "text/plain": [
       "platform                                                        snapshot\n",
       "name                                                        Decentraland\n",
       "platform_deployment                                     snapshot.dcl.eth\n",
       "deployment                          41fd8de5-f8e2-5023-86a3-825c49e9ad7f\n",
       "platform_proposal      0xdbe9b2df1d00c0d264bffb3f10f1332a82d8a8a70c12...\n",
       "author                        0xbb7b59afa3a0e5be143b8fe9c641f00c1ecb9d69\n",
       "date                                                 2023-02-14 16:19:06\n",
       "votes_count                                                          385\n",
       "title                  Should DAO proposals have a pre-defined 'Absta...\n",
       "description            > by 0x511a22cdd2c4ee8357bb02df2578037ffe8a4d8...\n",
       "start                                                2023-02-14 16:19:00\n",
       "end                                                  2023-02-28 16:19:00\n",
       "embeddings             [-0.00036658134, 0.00013961297, -0.00012315909...\n",
       "Name: 433b7e43-77b0-5ea1-bac3-0c3071363a56, dtype: object"
      ]
     },
     "metadata": {},
     "output_type": "display_data"
    },
    {
     "data": {
      "text/html": [
       "<div>\n",
       "<style scoped>\n",
       "    .dataframe tbody tr th:only-of-type {\n",
       "        vertical-align: middle;\n",
       "    }\n",
       "\n",
       "    .dataframe tbody tr th {\n",
       "        vertical-align: top;\n",
       "    }\n",
       "\n",
       "    .dataframe thead th {\n",
       "        text-align: right;\n",
       "    }\n",
       "</style>\n",
       "<table border=\"1\" class=\"dataframe\">\n",
       "  <thead>\n",
       "    <tr style=\"text-align: right;\">\n",
       "      <th></th>\n",
       "      <th>platform</th>\n",
       "      <th>name</th>\n",
       "      <th>platform_deployment</th>\n",
       "      <th>deployment</th>\n",
       "      <th>platform_proposal</th>\n",
       "      <th>author</th>\n",
       "      <th>date</th>\n",
       "      <th>votes_count</th>\n",
       "      <th>title</th>\n",
       "      <th>description</th>\n",
       "      <th>start</th>\n",
       "      <th>end</th>\n",
       "      <th>embeddings</th>\n",
       "      <th>score</th>\n",
       "    </tr>\n",
       "    <tr>\n",
       "      <th>id</th>\n",
       "      <th></th>\n",
       "      <th></th>\n",
       "      <th></th>\n",
       "      <th></th>\n",
       "      <th></th>\n",
       "      <th></th>\n",
       "      <th></th>\n",
       "      <th></th>\n",
       "      <th></th>\n",
       "      <th></th>\n",
       "      <th></th>\n",
       "      <th></th>\n",
       "      <th></th>\n",
       "      <th></th>\n",
       "    </tr>\n",
       "  </thead>\n",
       "  <tbody>\n",
       "    <tr>\n",
       "      <th>bc3ec30e-b7f7-5de5-aa8e-8acf9d430887</th>\n",
       "      <td>snapshot</td>\n",
       "      <td>Decentraland</td>\n",
       "      <td>snapshot.dcl.eth</td>\n",
       "      <td>41fd8de5-f8e2-5023-86a3-825c49e9ad7f</td>\n",
       "      <td>QmdBJnZuaEnt2gYahqKYRctvA4saDN3mjKxLTnKvrSPaUn</td>\n",
       "      <td>0x5e23d08324f017d5425e59a2782c9ae27ace0958</td>\n",
       "      <td>2021-05-26 00:04:49</td>\n",
       "      <td>96</td>\n",
       "      <td>Should Voter Power delegation be activated in ...</td>\n",
       "      <td>&gt; by 0x3fb38cee8d0ba7dcf59403a8c397626dc9c7a13...</td>\n",
       "      <td>2021-05-26 00:04:00</td>\n",
       "      <td>2021-06-02 00:04:00</td>\n",
       "      <td>[-0.0003346699, 0.00049384136, 6.674624e-05, -...</td>\n",
       "      <td>1.152099</td>\n",
       "    </tr>\n",
       "    <tr>\n",
       "      <th>571a60f9-3a00-5bca-8a2d-ae55131dfab2</th>\n",
       "      <td>snapshot</td>\n",
       "      <td>Decentraland</td>\n",
       "      <td>snapshot.dcl.eth</td>\n",
       "      <td>41fd8de5-f8e2-5023-86a3-825c49e9ad7f</td>\n",
       "      <td>0xffae5e552f74e34f3d9fb52bfbdeda55d1316be9f5d9...</td>\n",
       "      <td>0xbb7b59afa3a0e5be143b8fe9c641f00c1ecb9d69</td>\n",
       "      <td>2023-03-07 10:56:21</td>\n",
       "      <td>130</td>\n",
       "      <td>Should Grant Request Proposals require at leas...</td>\n",
       "      <td>&gt; by 0x0636211443e91468ee3657e1d7faede7059c484...</td>\n",
       "      <td>2023-03-07 10:56:00</td>\n",
       "      <td>2023-03-12 10:56:00</td>\n",
       "      <td>[0.0009157116, 0.00040869717, -8.947684e-06, 0...</td>\n",
       "      <td>1.135156</td>\n",
       "    </tr>\n",
       "    <tr>\n",
       "      <th>f9f72c2d-3b52-5613-bda1-9016182a156e</th>\n",
       "      <td>snapshot</td>\n",
       "      <td>Decentraland</td>\n",
       "      <td>snapshot.dcl.eth</td>\n",
       "      <td>41fd8de5-f8e2-5023-86a3-825c49e9ad7f</td>\n",
       "      <td>QmcMjpHApC2FJcGydAQKF5p86gueZ5jDaMYiPgr2Qfx43r</td>\n",
       "      <td>0x5e23d08324f017d5425e59a2782c9ae27ace0958</td>\n",
       "      <td>2021-06-02 22:48:00</td>\n",
       "      <td>38</td>\n",
       "      <td>A proposal for minimum VP participation thresh...</td>\n",
       "      <td>&gt; by 0x9982b469910c2ee2ea566dcfcc250cdd3405639...</td>\n",
       "      <td>2021-06-02 22:48:00</td>\n",
       "      <td>2021-06-09 22:48:00</td>\n",
       "      <td>[0.0003464241, 0.00028029148, 0.00018712915, -...</td>\n",
       "      <td>1.104726</td>\n",
       "    </tr>\n",
       "    <tr>\n",
       "      <th>52d72c94-bc54-5cc3-b201-c8789538df84</th>\n",
       "      <td>snapshot</td>\n",
       "      <td>Decentraland</td>\n",
       "      <td>snapshot.dcl.eth</td>\n",
       "      <td>41fd8de5-f8e2-5023-86a3-825c49e9ad7f</td>\n",
       "      <td>0x2ee03d9a8ee8afc10919d24f5d700c5f161691624aac...</td>\n",
       "      <td>0xbb7b59afa3a0e5be143b8fe9c641f00c1ecb9d69</td>\n",
       "      <td>2023-01-10 17:02:51</td>\n",
       "      <td>164</td>\n",
       "      <td>Should the DAO implement a mechanism to delega...</td>\n",
       "      <td>&gt; by 0x511a22cdd2c4ee8357bb02df2578037ffe8a4d8...</td>\n",
       "      <td>2023-01-10 17:02:00</td>\n",
       "      <td>2023-01-15 17:02:00</td>\n",
       "      <td>[0.0012971687, 0.00042636564, 0.000442586, -0....</td>\n",
       "      <td>1.069899</td>\n",
       "    </tr>\n",
       "    <tr>\n",
       "      <th>a0eab868-d07e-5ef9-97cb-9633382f07e9</th>\n",
       "      <td>snapshot</td>\n",
       "      <td>Decentraland</td>\n",
       "      <td>snapshot.dcl.eth</td>\n",
       "      <td>41fd8de5-f8e2-5023-86a3-825c49e9ad7f</td>\n",
       "      <td>QmeCP5vd6NguABv7mJQDv2pcFRnvRKnpVywALDCwvumJjj</td>\n",
       "      <td>0x5e23d08324f017d5425e59a2782c9ae27ace0958</td>\n",
       "      <td>2021-12-25 15:55:29</td>\n",
       "      <td>17</td>\n",
       "      <td>Do you think the application fee for a collect...</td>\n",
       "      <td>&gt; by 0xdd8e8b66613cb347cf2460f692894554836f76e...</td>\n",
       "      <td>2021-12-25 15:55:00</td>\n",
       "      <td>2022-01-01 15:55:00</td>\n",
       "      <td>[0.001745783, 0.00045877005, -0.00027697685, 6...</td>\n",
       "      <td>1.038014</td>\n",
       "    </tr>\n",
       "  </tbody>\n",
       "</table>\n",
       "</div>"
      ],
      "text/plain": [
       "                                      platform          name  \\\n",
       "id                                                             \n",
       "bc3ec30e-b7f7-5de5-aa8e-8acf9d430887  snapshot  Decentraland   \n",
       "571a60f9-3a00-5bca-8a2d-ae55131dfab2  snapshot  Decentraland   \n",
       "f9f72c2d-3b52-5613-bda1-9016182a156e  snapshot  Decentraland   \n",
       "52d72c94-bc54-5cc3-b201-c8789538df84  snapshot  Decentraland   \n",
       "a0eab868-d07e-5ef9-97cb-9633382f07e9  snapshot  Decentraland   \n",
       "\n",
       "                                     platform_deployment  \\\n",
       "id                                                         \n",
       "bc3ec30e-b7f7-5de5-aa8e-8acf9d430887    snapshot.dcl.eth   \n",
       "571a60f9-3a00-5bca-8a2d-ae55131dfab2    snapshot.dcl.eth   \n",
       "f9f72c2d-3b52-5613-bda1-9016182a156e    snapshot.dcl.eth   \n",
       "52d72c94-bc54-5cc3-b201-c8789538df84    snapshot.dcl.eth   \n",
       "a0eab868-d07e-5ef9-97cb-9633382f07e9    snapshot.dcl.eth   \n",
       "\n",
       "                                                                deployment  \\\n",
       "id                                                                           \n",
       "bc3ec30e-b7f7-5de5-aa8e-8acf9d430887  41fd8de5-f8e2-5023-86a3-825c49e9ad7f   \n",
       "571a60f9-3a00-5bca-8a2d-ae55131dfab2  41fd8de5-f8e2-5023-86a3-825c49e9ad7f   \n",
       "f9f72c2d-3b52-5613-bda1-9016182a156e  41fd8de5-f8e2-5023-86a3-825c49e9ad7f   \n",
       "52d72c94-bc54-5cc3-b201-c8789538df84  41fd8de5-f8e2-5023-86a3-825c49e9ad7f   \n",
       "a0eab868-d07e-5ef9-97cb-9633382f07e9  41fd8de5-f8e2-5023-86a3-825c49e9ad7f   \n",
       "\n",
       "                                                                      platform_proposal  \\\n",
       "id                                                                                        \n",
       "bc3ec30e-b7f7-5de5-aa8e-8acf9d430887     QmdBJnZuaEnt2gYahqKYRctvA4saDN3mjKxLTnKvrSPaUn   \n",
       "571a60f9-3a00-5bca-8a2d-ae55131dfab2  0xffae5e552f74e34f3d9fb52bfbdeda55d1316be9f5d9...   \n",
       "f9f72c2d-3b52-5613-bda1-9016182a156e     QmcMjpHApC2FJcGydAQKF5p86gueZ5jDaMYiPgr2Qfx43r   \n",
       "52d72c94-bc54-5cc3-b201-c8789538df84  0x2ee03d9a8ee8afc10919d24f5d700c5f161691624aac...   \n",
       "a0eab868-d07e-5ef9-97cb-9633382f07e9     QmeCP5vd6NguABv7mJQDv2pcFRnvRKnpVywALDCwvumJjj   \n",
       "\n",
       "                                                                          author  \\\n",
       "id                                                                                 \n",
       "bc3ec30e-b7f7-5de5-aa8e-8acf9d430887  0x5e23d08324f017d5425e59a2782c9ae27ace0958   \n",
       "571a60f9-3a00-5bca-8a2d-ae55131dfab2  0xbb7b59afa3a0e5be143b8fe9c641f00c1ecb9d69   \n",
       "f9f72c2d-3b52-5613-bda1-9016182a156e  0x5e23d08324f017d5425e59a2782c9ae27ace0958   \n",
       "52d72c94-bc54-5cc3-b201-c8789538df84  0xbb7b59afa3a0e5be143b8fe9c641f00c1ecb9d69   \n",
       "a0eab868-d07e-5ef9-97cb-9633382f07e9  0x5e23d08324f017d5425e59a2782c9ae27ace0958   \n",
       "\n",
       "                                                    date  votes_count  \\\n",
       "id                                                                      \n",
       "bc3ec30e-b7f7-5de5-aa8e-8acf9d430887 2021-05-26 00:04:49           96   \n",
       "571a60f9-3a00-5bca-8a2d-ae55131dfab2 2023-03-07 10:56:21          130   \n",
       "f9f72c2d-3b52-5613-bda1-9016182a156e 2021-06-02 22:48:00           38   \n",
       "52d72c94-bc54-5cc3-b201-c8789538df84 2023-01-10 17:02:51          164   \n",
       "a0eab868-d07e-5ef9-97cb-9633382f07e9 2021-12-25 15:55:29           17   \n",
       "\n",
       "                                                                                  title  \\\n",
       "id                                                                                        \n",
       "bc3ec30e-b7f7-5de5-aa8e-8acf9d430887  Should Voter Power delegation be activated in ...   \n",
       "571a60f9-3a00-5bca-8a2d-ae55131dfab2  Should Grant Request Proposals require at leas...   \n",
       "f9f72c2d-3b52-5613-bda1-9016182a156e  A proposal for minimum VP participation thresh...   \n",
       "52d72c94-bc54-5cc3-b201-c8789538df84  Should the DAO implement a mechanism to delega...   \n",
       "a0eab868-d07e-5ef9-97cb-9633382f07e9  Do you think the application fee for a collect...   \n",
       "\n",
       "                                                                            description  \\\n",
       "id                                                                                        \n",
       "bc3ec30e-b7f7-5de5-aa8e-8acf9d430887  > by 0x3fb38cee8d0ba7dcf59403a8c397626dc9c7a13...   \n",
       "571a60f9-3a00-5bca-8a2d-ae55131dfab2  > by 0x0636211443e91468ee3657e1d7faede7059c484...   \n",
       "f9f72c2d-3b52-5613-bda1-9016182a156e  > by 0x9982b469910c2ee2ea566dcfcc250cdd3405639...   \n",
       "52d72c94-bc54-5cc3-b201-c8789538df84  > by 0x511a22cdd2c4ee8357bb02df2578037ffe8a4d8...   \n",
       "a0eab868-d07e-5ef9-97cb-9633382f07e9  > by 0xdd8e8b66613cb347cf2460f692894554836f76e...   \n",
       "\n",
       "                                                   start                 end  \\\n",
       "id                                                                             \n",
       "bc3ec30e-b7f7-5de5-aa8e-8acf9d430887 2021-05-26 00:04:00 2021-06-02 00:04:00   \n",
       "571a60f9-3a00-5bca-8a2d-ae55131dfab2 2023-03-07 10:56:00 2023-03-12 10:56:00   \n",
       "f9f72c2d-3b52-5613-bda1-9016182a156e 2021-06-02 22:48:00 2021-06-09 22:48:00   \n",
       "52d72c94-bc54-5cc3-b201-c8789538df84 2023-01-10 17:02:00 2023-01-15 17:02:00   \n",
       "a0eab868-d07e-5ef9-97cb-9633382f07e9 2021-12-25 15:55:00 2022-01-01 15:55:00   \n",
       "\n",
       "                                                                             embeddings  \\\n",
       "id                                                                                        \n",
       "bc3ec30e-b7f7-5de5-aa8e-8acf9d430887  [-0.0003346699, 0.00049384136, 6.674624e-05, -...   \n",
       "571a60f9-3a00-5bca-8a2d-ae55131dfab2  [0.0009157116, 0.00040869717, -8.947684e-06, 0...   \n",
       "f9f72c2d-3b52-5613-bda1-9016182a156e  [0.0003464241, 0.00028029148, 0.00018712915, -...   \n",
       "52d72c94-bc54-5cc3-b201-c8789538df84  [0.0012971687, 0.00042636564, 0.000442586, -0....   \n",
       "a0eab868-d07e-5ef9-97cb-9633382f07e9  [0.001745783, 0.00045877005, -0.00027697685, 6...   \n",
       "\n",
       "                                         score  \n",
       "id                                              \n",
       "bc3ec30e-b7f7-5de5-aa8e-8acf9d430887  1.152099  \n",
       "571a60f9-3a00-5bca-8a2d-ae55131dfab2  1.135156  \n",
       "f9f72c2d-3b52-5613-bda1-9016182a156e  1.104726  \n",
       "52d72c94-bc54-5cc3-b201-c8789538df84  1.069899  \n",
       "a0eab868-d07e-5ef9-97cb-9633382f07e9  1.038014  "
      ]
     },
     "execution_count": 332,
     "metadata": {},
     "output_type": "execute_result"
    }
   ],
   "source": [
    "def recommend_proposal(proposal: str, k: int = 5, t: Optional[np.datetime64] = None):\n",
    "    # 1D emb_size\n",
    "    prop_emb = dfp['embeddings'][proposal]\n",
    "    return recommend_emb(prop_emb, k, t)\n",
    "\n",
    "display(dfp.loc['433b7e43-77b0-5ea1-bac3-0c3071363a56'])\n",
    "recommend_proposal('433b7e43-77b0-5ea1-bac3-0c3071363a56')"
   ]
  },
  {
   "cell_type": "markdown",
   "id": "b5862685-67df-4e5c-9add-9defd06d53f1",
   "metadata": {},
   "source": [
    "### Evaluation\n",
    "\n",
    "First, we will evaluate if the user recommendations are any good using common off-line metrics."
   ]
  },
  {
   "cell_type": "code",
   "execution_count": 333,
   "id": "5c226333-f098-4a39-ba65-7751b74cec9d",
   "metadata": {},
   "outputs": [],
   "source": [
    "assert not any(voter_embeddings.isna()), \"Hay embeddings NA\""
   ]
  },
  {
   "cell_type": "code",
   "execution_count": 334,
   "id": "865e00ac-ec88-4cfc-ad35-350c85a6b9a0",
   "metadata": {},
   "outputs": [
    {
     "data": {
      "text/plain": [
       "array([[ 0.0010478 ,  0.00159244,  0.001705  , ..., -0.00262108,\n",
       "         0.00302399,  0.00773245],\n",
       "       [ 0.0096221 ,  0.00341871,  0.00336781, ...,  0.00259694,\n",
       "        -0.00398165, -0.01983549],\n",
       "       [ 0.0015011 ,  0.00112273,  0.00052122, ...,  0.00062561,\n",
       "         0.00074369, -0.00352989],\n",
       "       ...,\n",
       "       [ 0.00564257,  0.00307938,  0.00103768, ...,  0.01294672,\n",
       "         0.00525271,  0.00549167],\n",
       "       [-0.00048471,  0.00083249,  0.0009202 , ...,  0.0044537 ,\n",
       "         0.00167882, -0.00284087],\n",
       "       [ 0.00086909,  0.0006073 ,  0.00085035, ..., -0.00171215,\n",
       "         0.00043571,  0.00923104]], dtype=float32)"
      ]
     },
     "execution_count": 334,
     "metadata": {},
     "output_type": "execute_result"
    }
   ],
   "source": [
    "np.vstack(voter_embeddings)"
   ]
  },
  {
   "cell_type": "code",
   "execution_count": 335,
   "id": "9f3fc102-2a0a-4acf-a198-75b0f7659d66",
   "metadata": {},
   "outputs": [],
   "source": [
    "def recommendNLPNaive(train: pd.DataFrame, users, proposals, k: int = 5, remove_training: bool = True, min_score: float = 0):  \n",
    "    # Create voter embeddings (filtering that they are in train)\n",
    "    # TODO: Add some kind of discount rate over time\n",
    "    # TODO: DELETEME\n",
    "    aux = dfv[dfv['voter'].isin(users) & dfv['proposal'].isin(train['itemID'])]\n",
    "    not_in_train = set(users).difference(dfv[dfv['proposal'].isin(train['itemID'])]['voter'])\n",
    "    # print('aux.shape:', aux.shape)\n",
    "    # print('not in train (in):', len(not_in_train))\n",
    "\n",
    "    voter_embeddings = aux.groupby('voter', observed=True).apply(lambda x: votes_embeddings[x.index].sum(axis=0))\n",
    "    voter_embeddings = voter_embeddings.apply(lambda x: x/np.linalg.norm(x))\n",
    "    # np_voter_embeddings = np.stack(voter_embeddings.to_numpy())\n",
    "    np_voter_embeddings = np.vstack(voter_embeddings)\n",
    "    \n",
    "    # Remove score from proposals not in `proposals`\n",
    "    msk = embeddings.index.isin(proposals)\n",
    "    tr_embeddings = np.vstack(embeddings).copy()\n",
    "    tr_embeddings[~msk] = 0\n",
    "    \n",
    "    scores = np_voter_embeddings @ tr_embeddings.T\n",
    "    \n",
    "    # Remove score from proposals already voted by user\n",
    "    if remove_training:\n",
    "        trainu = train[train['userID'].isin(users)]\n",
    "        itemID2idx = pd.Series(data=np.arange(len(dfp)), index=dfp.index.astype(str))\n",
    "        voterID2idx = pd.Series(data=np.arange(len(voter_embeddings)), index=voter_embeddings.index)\n",
    "        scores[voterID2idx[trainu['userID']], itemID2idx[trainu['itemID']]] = -np.inf\n",
    "        \n",
    "    best = (-scores).argsort(axis=1)\n",
    "    topk = best[:, :k]\n",
    "    \n",
    "    # create df with columns\n",
    "    # userID, itemID, prediction\n",
    "    uid = np.repeat(np.arange(np_voter_embeddings.shape[0]), k)\n",
    "    iid = topk.flatten()\n",
    "    \n",
    "    # transform int to id\n",
    "    df = pd.DataFrame({\n",
    "        'userID': voter_embeddings.index[uid],\n",
    "        'itemID': dfp.index[iid].astype(str),\n",
    "        # 'prediction': 1,\n",
    "        'prediction': scores[uid, iid],\n",
    "    })\n",
    "    return df[df['prediction'] > min_score].reset_index(drop=True)\n",
    "\n",
    "# train = train_filtered\n",
    "# users = test_filtered['userID'].unique()\n",
    "# proposals = test_filtered['itemID'].unique()\n",
    "# k = 3\n",
    "# remove_training = True"
   ]
  },
  {
   "cell_type": "code",
   "execution_count": 336,
   "id": "fd7f2239-b3fe-457c-b39b-ea3b725154a4",
   "metadata": {},
   "outputs": [],
   "source": [
    "from recommenders.evaluation.python_evaluation import map_at_k, ndcg_at_k, precision_at_k, recall_at_k\n",
    "from src.datasets import to_microsoft\n",
    "from src.model_selection import timeIntervalSplit, timeFreqSplitCurrent"
   ]
  },
  {
   "cell_type": "code",
   "execution_count": 337,
   "id": "8c04aae6-b520-4053-9bf3-79ea1a1c7e92",
   "metadata": {},
   "outputs": [],
   "source": [
    "def check_train_recs(df, filter_by_df, filter_by_cols):\n",
    "    return any(df.set_index(filter_by_cols).index.isin(\n",
    "        filter_by_df.set_index(filter_by_cols).index\n",
    "    ))"
   ]
  },
  {
   "cell_type": "markdown",
   "id": "7e3c8793-f0f5-43ad-9560-99d4483a3f3a",
   "metadata": {},
   "source": [
    "### Evaluation in multiple months"
   ]
  },
  {
   "cell_type": "code",
   "execution_count": 338,
   "id": "4ce14591-080b-41a3-8328-5f3b6812f840",
   "metadata": {},
   "outputs": [
    {
     "data": {
      "text/plain": [
       "{'time@5': 0.041011521592736244,\n",
       " 'precision@5': 0.32244897959183677,\n",
       " 'ndcg@5': 0.41754244844097116,\n",
       " 'map@5': 0.2336587905434786,\n",
       " 'time@10': 0.04062001034617424,\n",
       " 'precision@10': 0.2789115646258503,\n",
       " 'ndcg@10': 0.49648541948904495,\n",
       " 'map@10': 0.319728133386384}"
      ]
     },
     "execution_count": 338,
     "metadata": {},
     "output_type": "execute_result"
    }
   ],
   "source": [
    "df = to_microsoft(dfv)\n",
    "folds = list(timeFreqSplitCurrent(df, SPLITS_FREQ, dfp.reset_index(), return_open=True, remove_not_in_train_col='userID'))[-LAST_SPLITS:]\n",
    "metrics_f = { 'precision':precision_at_k, 'ndcg': ndcg_at_k, 'ndcg': ndcg_at_k, 'map': map_at_k, } # 'recall': recall_at_k, \n",
    "\n",
    "def testHParamsSimilarity(fold, window_size):\n",
    "    metrics = dict()\n",
    "\n",
    "    train, test, t, open_proposals = folds[fold]\n",
    "    offset = pd.tseries.frequencies.to_offset(window_size)\n",
    "\n",
    "    train_filtered = train[train['timestamp'] > (t - offset)]\n",
    "    not_in_train = set(test['userID']).difference(train['userID'])\n",
    "    # print('not in train:', len(not_in_train))\n",
    "    # print('not in train filtered:', len(not_in_train))\n",
    "    for k_recs in K_RECOMMENDATIONS:\n",
    "        with Timer() as t:\n",
    "            recs = recommendNLPNaive(train_filtered, test['userID'].unique(), open_proposals, k_recs)\n",
    "\n",
    "        metrics[f'time@{k_recs}'] = t.time\n",
    "        for m, f in metrics_f.items():\n",
    "            metrics[m+f'@{k_recs}'] = f(test, recs, k=k_recs)\n",
    "\n",
    "    return metrics\n",
    "\n",
    "testHParamsSimilarity(0, '14d')\n",
    "testHParamsSimilarity(1, '2W')"
   ]
  },
  {
   "cell_type": "code",
   "execution_count": 339,
   "id": "f34e5227-6183-4fc7-b71d-cc4d3c8314f9",
   "metadata": {},
   "outputs": [
    {
     "name": "stderr",
     "output_type": "stream",
     "text": [
      "100%|███████████████████████████████████████████████████| 70/70 [00:12<00:00,  5.56it/s]\n"
     ]
    },
    {
     "data": {
      "text/html": [
       "<div>\n",
       "<style scoped>\n",
       "    .dataframe tbody tr th:only-of-type {\n",
       "        vertical-align: middle;\n",
       "    }\n",
       "\n",
       "    .dataframe tbody tr th {\n",
       "        vertical-align: top;\n",
       "    }\n",
       "\n",
       "    .dataframe thead th {\n",
       "        text-align: right;\n",
       "    }\n",
       "</style>\n",
       "<table border=\"1\" class=\"dataframe\">\n",
       "  <thead>\n",
       "    <tr style=\"text-align: right;\">\n",
       "      <th></th>\n",
       "      <th></th>\n",
       "      <th>time@5</th>\n",
       "      <th>precision@5</th>\n",
       "      <th>ndcg@5</th>\n",
       "      <th>map@5</th>\n",
       "      <th>time@10</th>\n",
       "      <th>precision@10</th>\n",
       "      <th>ndcg@10</th>\n",
       "      <th>map@10</th>\n",
       "    </tr>\n",
       "    <tr>\n",
       "      <th>fold</th>\n",
       "      <th>window_size</th>\n",
       "      <th></th>\n",
       "      <th></th>\n",
       "      <th></th>\n",
       "      <th></th>\n",
       "      <th></th>\n",
       "      <th></th>\n",
       "      <th></th>\n",
       "      <th></th>\n",
       "    </tr>\n",
       "  </thead>\n",
       "  <tbody>\n",
       "    <tr>\n",
       "      <th rowspan=\"5\" valign=\"top\">0</th>\n",
       "      <th>7d</th>\n",
       "      <td>0.031708</td>\n",
       "      <td>0.307692</td>\n",
       "      <td>0.677264</td>\n",
       "      <td>0.575874</td>\n",
       "      <td>0.035641</td>\n",
       "      <td>0.216154</td>\n",
       "      <td>0.753695</td>\n",
       "      <td>0.645062</td>\n",
       "    </tr>\n",
       "    <tr>\n",
       "      <th>14d</th>\n",
       "      <td>0.038434</td>\n",
       "      <td>0.335385</td>\n",
       "      <td>0.711873</td>\n",
       "      <td>0.621285</td>\n",
       "      <td>0.038195</td>\n",
       "      <td>0.213846</td>\n",
       "      <td>0.750625</td>\n",
       "      <td>0.664721</td>\n",
       "    </tr>\n",
       "    <tr>\n",
       "      <th>30d</th>\n",
       "      <td>0.043364</td>\n",
       "      <td>0.316923</td>\n",
       "      <td>0.666032</td>\n",
       "      <td>0.578733</td>\n",
       "      <td>0.043750</td>\n",
       "      <td>0.209231</td>\n",
       "      <td>0.715713</td>\n",
       "      <td>0.625070</td>\n",
       "    </tr>\n",
       "    <tr>\n",
       "      <th>90d</th>\n",
       "      <td>0.052740</td>\n",
       "      <td>0.295385</td>\n",
       "      <td>0.641433</td>\n",
       "      <td>0.565650</td>\n",
       "      <td>0.055927</td>\n",
       "      <td>0.205385</td>\n",
       "      <td>0.706828</td>\n",
       "      <td>0.618423</td>\n",
       "    </tr>\n",
       "    <tr>\n",
       "      <th>180d</th>\n",
       "      <td>0.065671</td>\n",
       "      <td>0.287692</td>\n",
       "      <td>0.628058</td>\n",
       "      <td>0.548477</td>\n",
       "      <td>0.067019</td>\n",
       "      <td>0.200000</td>\n",
       "      <td>0.692730</td>\n",
       "      <td>0.598643</td>\n",
       "    </tr>\n",
       "    <tr>\n",
       "      <th>...</th>\n",
       "      <th>...</th>\n",
       "      <td>...</td>\n",
       "      <td>...</td>\n",
       "      <td>...</td>\n",
       "      <td>...</td>\n",
       "      <td>...</td>\n",
       "      <td>...</td>\n",
       "      <td>...</td>\n",
       "      <td>...</td>\n",
       "    </tr>\n",
       "    <tr>\n",
       "      <th rowspan=\"5\" valign=\"top\">9</th>\n",
       "      <th>30d</th>\n",
       "      <td>0.039124</td>\n",
       "      <td>0.273759</td>\n",
       "      <td>0.598138</td>\n",
       "      <td>0.475326</td>\n",
       "      <td>0.038931</td>\n",
       "      <td>0.185106</td>\n",
       "      <td>0.643413</td>\n",
       "      <td>0.516595</td>\n",
       "    </tr>\n",
       "    <tr>\n",
       "      <th>90d</th>\n",
       "      <td>0.045133</td>\n",
       "      <td>0.250000</td>\n",
       "      <td>0.519065</td>\n",
       "      <td>0.400859</td>\n",
       "      <td>0.047564</td>\n",
       "      <td>0.181429</td>\n",
       "      <td>0.583986</td>\n",
       "      <td>0.451085</td>\n",
       "    </tr>\n",
       "    <tr>\n",
       "      <th>180d</th>\n",
       "      <td>0.053525</td>\n",
       "      <td>0.221429</td>\n",
       "      <td>0.463694</td>\n",
       "      <td>0.351438</td>\n",
       "      <td>0.057664</td>\n",
       "      <td>0.167857</td>\n",
       "      <td>0.528678</td>\n",
       "      <td>0.399566</td>\n",
       "    </tr>\n",
       "    <tr>\n",
       "      <th>360d</th>\n",
       "      <td>0.069115</td>\n",
       "      <td>0.214184</td>\n",
       "      <td>0.443070</td>\n",
       "      <td>0.336515</td>\n",
       "      <td>0.071646</td>\n",
       "      <td>0.160993</td>\n",
       "      <td>0.502920</td>\n",
       "      <td>0.380409</td>\n",
       "    </tr>\n",
       "    <tr>\n",
       "      <th>10Y</th>\n",
       "      <td>0.081117</td>\n",
       "      <td>0.212766</td>\n",
       "      <td>0.416806</td>\n",
       "      <td>0.310212</td>\n",
       "      <td>0.084223</td>\n",
       "      <td>0.153191</td>\n",
       "      <td>0.470651</td>\n",
       "      <td>0.349726</td>\n",
       "    </tr>\n",
       "  </tbody>\n",
       "</table>\n",
       "<p>70 rows × 8 columns</p>\n",
       "</div>"
      ],
      "text/plain": [
       "                    time@5  precision@5    ndcg@5     map@5   time@10  \\\n",
       "fold window_size                                                        \n",
       "0    7d           0.031708     0.307692  0.677264  0.575874  0.035641   \n",
       "     14d          0.038434     0.335385  0.711873  0.621285  0.038195   \n",
       "     30d          0.043364     0.316923  0.666032  0.578733  0.043750   \n",
       "     90d          0.052740     0.295385  0.641433  0.565650  0.055927   \n",
       "     180d         0.065671     0.287692  0.628058  0.548477  0.067019   \n",
       "...                    ...          ...       ...       ...       ...   \n",
       "9    30d          0.039124     0.273759  0.598138  0.475326  0.038931   \n",
       "     90d          0.045133     0.250000  0.519065  0.400859  0.047564   \n",
       "     180d         0.053525     0.221429  0.463694  0.351438  0.057664   \n",
       "     360d         0.069115     0.214184  0.443070  0.336515  0.071646   \n",
       "     10Y          0.081117     0.212766  0.416806  0.310212  0.084223   \n",
       "\n",
       "                  precision@10   ndcg@10    map@10  \n",
       "fold window_size                                    \n",
       "0    7d               0.216154  0.753695  0.645062  \n",
       "     14d              0.213846  0.750625  0.664721  \n",
       "     30d              0.209231  0.715713  0.625070  \n",
       "     90d              0.205385  0.706828  0.618423  \n",
       "     180d             0.200000  0.692730  0.598643  \n",
       "...                        ...       ...       ...  \n",
       "9    30d              0.185106  0.643413  0.516595  \n",
       "     90d              0.181429  0.583986  0.451085  \n",
       "     180d             0.167857  0.528678  0.399566  \n",
       "     360d             0.160993  0.502920  0.380409  \n",
       "     10Y              0.153191  0.470651  0.349726  \n",
       "\n",
       "[70 rows x 8 columns]"
      ]
     },
     "execution_count": 339,
     "metadata": {},
     "output_type": "execute_result"
    }
   ],
   "source": [
    "from sklearn.model_selection import ParameterGrid\n",
    "\n",
    "param_grid = ParameterGrid({\n",
    "    'fold': range(len(folds)),\n",
    "    'window_size': ['7d', '14d', '30d', '90d', '180d', '360d', '10Y'],\n",
    "})\n",
    "\n",
    "results = list()\n",
    "for p in tqdm(param_grid):\n",
    "    results.append(testHParamsSimilarity(**p) | p)\n",
    "\n",
    "mdf = pd.DataFrame(results).set_index(['fold', 'window_size'])\n",
    "mdf"
   ]
  },
  {
   "cell_type": "code",
   "execution_count": 340,
   "id": "38b9271d-0f03-4b47-965f-8b17ec118018",
   "metadata": {},
   "outputs": [
    {
     "data": {
      "text/plain": [
       "<Axes: xlabel='fold', ylabel='precision@5'>"
      ]
     },
     "execution_count": 340,
     "metadata": {},
     "output_type": "execute_result"
    },
    {
     "data": {
      "image/png": "[encoded data removed]",
      "text/plain": [
       "<Figure size 640x480 with 1 Axes>"
      ]
     },
     "metadata": {},
     "output_type": "display_data"
    }
   ],
   "source": [
    "sns.lineplot(mdf, x='fold', y='precision@5', hue='window_size')"
   ]
  },
  {
   "cell_type": "code",
   "execution_count": 341,
   "id": "86cb4025-d48c-46e6-81d2-7cdb687a980a",
   "metadata": {},
   "outputs": [
    {
     "data": {
      "text/html": [
       "<div>\n",
       "<style scoped>\n",
       "    .dataframe tbody tr th:only-of-type {\n",
       "        vertical-align: middle;\n",
       "    }\n",
       "\n",
       "    .dataframe tbody tr th {\n",
       "        vertical-align: top;\n",
       "    }\n",
       "\n",
       "    .dataframe thead th {\n",
       "        text-align: right;\n",
       "    }\n",
       "</style>\n",
       "<table border=\"1\" class=\"dataframe\">\n",
       "  <thead>\n",
       "    <tr style=\"text-align: right;\">\n",
       "      <th></th>\n",
       "      <th>window_size</th>\n",
       "      <th>10Y</th>\n",
       "      <th>14d</th>\n",
       "      <th>180d</th>\n",
       "      <th>30d</th>\n",
       "      <th>360d</th>\n",
       "      <th>7d</th>\n",
       "      <th>90d</th>\n",
       "    </tr>\n",
       "  </thead>\n",
       "  <tbody>\n",
       "    <tr>\n",
       "      <th rowspan=\"8\" valign=\"top\">time@5</th>\n",
       "      <th>count</th>\n",
       "      <td>10.000000</td>\n",
       "      <td>10.000000</td>\n",
       "      <td>10.000000</td>\n",
       "      <td>10.000000</td>\n",
       "      <td>10.000000</td>\n",
       "      <td>10.000000</td>\n",
       "      <td>10.000000</td>\n",
       "    </tr>\n",
       "    <tr>\n",
       "      <th>mean</th>\n",
       "      <td>0.084628</td>\n",
       "      <td>0.035973</td>\n",
       "      <td>0.061285</td>\n",
       "      <td>0.039138</td>\n",
       "      <td>0.074060</td>\n",
       "      <td>0.031485</td>\n",
       "      <td>0.050029</td>\n",
       "    </tr>\n",
       "    <tr>\n",
       "      <th>std</th>\n",
       "      <td>0.005389</td>\n",
       "      <td>0.003399</td>\n",
       "      <td>0.004731</td>\n",
       "      <td>0.003420</td>\n",
       "      <td>0.004964</td>\n",
       "      <td>0.003132</td>\n",
       "      <td>0.003438</td>\n",
       "    </tr>\n",
       "    <tr>\n",
       "      <th>min</th>\n",
       "      <td>0.079787</td>\n",
       "      <td>0.031945</td>\n",
       "      <td>0.053525</td>\n",
       "      <td>0.034081</td>\n",
       "      <td>0.068030</td>\n",
       "      <td>0.028211</td>\n",
       "      <td>0.045133</td>\n",
       "    </tr>\n",
       "    <tr>\n",
       "      <th>25%</th>\n",
       "      <td>0.081119</td>\n",
       "      <td>0.033275</td>\n",
       "      <td>0.058452</td>\n",
       "      <td>0.036763</td>\n",
       "      <td>0.070867</td>\n",
       "      <td>0.029895</td>\n",
       "      <td>0.047468</td>\n",
       "    </tr>\n",
       "    <tr>\n",
       "      <th>50%</th>\n",
       "      <td>0.082800</td>\n",
       "      <td>0.035239</td>\n",
       "      <td>0.061733</td>\n",
       "      <td>0.038942</td>\n",
       "      <td>0.072763</td>\n",
       "      <td>0.030228</td>\n",
       "      <td>0.049766</td>\n",
       "    </tr>\n",
       "    <tr>\n",
       "      <th>75%</th>\n",
       "      <td>0.085909</td>\n",
       "      <td>0.038167</td>\n",
       "      <td>0.064309</td>\n",
       "      <td>0.042130</td>\n",
       "      <td>0.075908</td>\n",
       "      <td>0.032069</td>\n",
       "      <td>0.052612</td>\n",
       "    </tr>\n",
       "    <tr>\n",
       "      <th>max</th>\n",
       "      <td>0.097310</td>\n",
       "      <td>0.041590</td>\n",
       "      <td>0.068746</td>\n",
       "      <td>0.044156</td>\n",
       "      <td>0.083455</td>\n",
       "      <td>0.038605</td>\n",
       "      <td>0.054948</td>\n",
       "    </tr>\n",
       "    <tr>\n",
       "      <th rowspan=\"8\" valign=\"top\">precision@5</th>\n",
       "      <th>count</th>\n",
       "      <td>10.000000</td>\n",
       "      <td>10.000000</td>\n",
       "      <td>10.000000</td>\n",
       "      <td>10.000000</td>\n",
       "      <td>10.000000</td>\n",
       "      <td>10.000000</td>\n",
       "      <td>10.000000</td>\n",
       "    </tr>\n",
       "    <tr>\n",
       "      <th>mean</th>\n",
       "      <td>0.272474</td>\n",
       "      <td>0.322537</td>\n",
       "      <td>0.279530</td>\n",
       "      <td>0.309700</td>\n",
       "      <td>0.275726</td>\n",
       "      <td>0.294651</td>\n",
       "      <td>0.290939</td>\n",
       "    </tr>\n",
       "    <tr>\n",
       "      <th>std</th>\n",
       "      <td>0.032896</td>\n",
       "      <td>0.032423</td>\n",
       "      <td>0.036964</td>\n",
       "      <td>0.032006</td>\n",
       "      <td>0.036424</td>\n",
       "      <td>0.031122</td>\n",
       "      <td>0.039370</td>\n",
       "    </tr>\n",
       "    <tr>\n",
       "      <th>min</th>\n",
       "      <td>0.212766</td>\n",
       "      <td>0.270707</td>\n",
       "      <td>0.221429</td>\n",
       "      <td>0.262626</td>\n",
       "      <td>0.214184</td>\n",
       "      <td>0.251852</td>\n",
       "      <td>0.243434</td>\n",
       "    </tr>\n",
       "    <tr>\n",
       "      <th>25%</th>\n",
       "      <td>0.255375</td>\n",
       "      <td>0.302084</td>\n",
       "      <td>0.250498</td>\n",
       "      <td>0.282383</td>\n",
       "      <td>0.250908</td>\n",
       "      <td>0.265631</td>\n",
       "      <td>0.255478</td>\n",
       "    </tr>\n",
       "    <tr>\n",
       "      <th>50%</th>\n",
       "      <td>0.277939</td>\n",
       "      <td>0.335720</td>\n",
       "      <td>0.279031</td>\n",
       "      <td>0.315765</td>\n",
       "      <td>0.281313</td>\n",
       "      <td>0.303284</td>\n",
       "      <td>0.287142</td>\n",
       "    </tr>\n",
       "    <tr>\n",
       "      <th>75%</th>\n",
       "      <td>0.297038</td>\n",
       "      <td>0.341042</td>\n",
       "      <td>0.312607</td>\n",
       "      <td>0.335891</td>\n",
       "      <td>0.305986</td>\n",
       "      <td>0.309600</td>\n",
       "      <td>0.315833</td>\n",
       "    </tr>\n",
       "    <tr>\n",
       "      <th>max</th>\n",
       "      <td>0.312088</td>\n",
       "      <td>0.365217</td>\n",
       "      <td>0.330435</td>\n",
       "      <td>0.347727</td>\n",
       "      <td>0.321739</td>\n",
       "      <td>0.345652</td>\n",
       "      <td>0.354331</td>\n",
       "    </tr>\n",
       "    <tr>\n",
       "      <th rowspan=\"8\" valign=\"top\">ndcg@5</th>\n",
       "      <th>count</th>\n",
       "      <td>10.000000</td>\n",
       "      <td>10.000000</td>\n",
       "      <td>10.000000</td>\n",
       "      <td>10.000000</td>\n",
       "      <td>10.000000</td>\n",
       "      <td>10.000000</td>\n",
       "      <td>10.000000</td>\n",
       "    </tr>\n",
       "    <tr>\n",
       "      <th>mean</th>\n",
       "      <td>0.458658</td>\n",
       "      <td>0.599916</td>\n",
       "      <td>0.479677</td>\n",
       "      <td>0.556042</td>\n",
       "      <td>0.467848</td>\n",
       "      <td>0.552890</td>\n",
       "      <td>0.505833</td>\n",
       "    </tr>\n",
       "    <tr>\n",
       "      <th>std</th>\n",
       "      <td>0.097225</td>\n",
       "      <td>0.098421</td>\n",
       "      <td>0.103111</td>\n",
       "      <td>0.107094</td>\n",
       "      <td>0.100632</td>\n",
       "      <td>0.105694</td>\n",
       "      <td>0.115640</td>\n",
       "    </tr>\n",
       "    <tr>\n",
       "      <th>min</th>\n",
       "      <td>0.356672</td>\n",
       "      <td>0.448304</td>\n",
       "      <td>0.374584</td>\n",
       "      <td>0.415286</td>\n",
       "      <td>0.360972</td>\n",
       "      <td>0.396418</td>\n",
       "      <td>0.379921</td>\n",
       "    </tr>\n",
       "    <tr>\n",
       "      <th>25%</th>\n",
       "      <td>0.381409</td>\n",
       "      <td>0.545807</td>\n",
       "      <td>0.401976</td>\n",
       "      <td>0.484915</td>\n",
       "      <td>0.387111</td>\n",
       "      <td>0.485062</td>\n",
       "      <td>0.416980</td>\n",
       "    </tr>\n",
       "    <tr>\n",
       "      <th>50%</th>\n",
       "      <td>0.428062</td>\n",
       "      <td>0.584547</td>\n",
       "      <td>0.452945</td>\n",
       "      <td>0.508449</td>\n",
       "      <td>0.433835</td>\n",
       "      <td>0.534207</td>\n",
       "      <td>0.463176</td>\n",
       "    </tr>\n",
       "    <tr>\n",
       "      <th>75%</th>\n",
       "      <td>0.526499</td>\n",
       "      <td>0.665531</td>\n",
       "      <td>0.558443</td>\n",
       "      <td>0.649058</td>\n",
       "      <td>0.545273</td>\n",
       "      <td>0.627513</td>\n",
       "      <td>0.610841</td>\n",
       "    </tr>\n",
       "    <tr>\n",
       "      <th>max</th>\n",
       "      <td>0.614903</td>\n",
       "      <td>0.770386</td>\n",
       "      <td>0.644778</td>\n",
       "      <td>0.720778</td>\n",
       "      <td>0.625689</td>\n",
       "      <td>0.733543</td>\n",
       "      <td>0.680289</td>\n",
       "    </tr>\n",
       "    <tr>\n",
       "      <th rowspan=\"8\" valign=\"top\">map@5</th>\n",
       "      <th>count</th>\n",
       "      <td>10.000000</td>\n",
       "      <td>10.000000</td>\n",
       "      <td>10.000000</td>\n",
       "      <td>10.000000</td>\n",
       "      <td>10.000000</td>\n",
       "      <td>10.000000</td>\n",
       "      <td>10.000000</td>\n",
       "    </tr>\n",
       "    <tr>\n",
       "      <th>mean</th>\n",
       "      <td>0.347681</td>\n",
       "      <td>0.475615</td>\n",
       "      <td>0.365457</td>\n",
       "      <td>0.435068</td>\n",
       "      <td>0.356537</td>\n",
       "      <td>0.428717</td>\n",
       "      <td>0.390359</td>\n",
       "    </tr>\n",
       "    <tr>\n",
       "      <th>std</th>\n",
       "      <td>0.116367</td>\n",
       "      <td>0.125824</td>\n",
       "      <td>0.122311</td>\n",
       "      <td>0.129867</td>\n",
       "      <td>0.118954</td>\n",
       "      <td>0.127615</td>\n",
       "      <td>0.135237</td>\n",
       "    </tr>\n",
       "    <tr>\n",
       "      <th>min</th>\n",
       "      <td>0.195649</td>\n",
       "      <td>0.261915</td>\n",
       "      <td>0.208014</td>\n",
       "      <td>0.235082</td>\n",
       "      <td>0.200218</td>\n",
       "      <td>0.217913</td>\n",
       "      <td>0.211456</td>\n",
       "    </tr>\n",
       "    <tr>\n",
       "      <th>25%</th>\n",
       "      <td>0.276412</td>\n",
       "      <td>0.407905</td>\n",
       "      <td>0.282146</td>\n",
       "      <td>0.352086</td>\n",
       "      <td>0.283848</td>\n",
       "      <td>0.359595</td>\n",
       "      <td>0.298703</td>\n",
       "    </tr>\n",
       "    <tr>\n",
       "      <th>50%</th>\n",
       "      <td>0.314640</td>\n",
       "      <td>0.459160</td>\n",
       "      <td>0.331446</td>\n",
       "      <td>0.395252</td>\n",
       "      <td>0.320964</td>\n",
       "      <td>0.407526</td>\n",
       "      <td>0.337845</td>\n",
       "    </tr>\n",
       "    <tr>\n",
       "      <th>75%</th>\n",
       "      <td>0.423265</td>\n",
       "      <td>0.549955</td>\n",
       "      <td>0.451963</td>\n",
       "      <td>0.552881</td>\n",
       "      <td>0.438842</td>\n",
       "      <td>0.509346</td>\n",
       "      <td>0.515847</td>\n",
       "    </tr>\n",
       "    <tr>\n",
       "      <th>max</th>\n",
       "      <td>0.532992</td>\n",
       "      <td>0.690269</td>\n",
       "      <td>0.558769</td>\n",
       "      <td>0.633041</td>\n",
       "      <td>0.543986</td>\n",
       "      <td>0.646311</td>\n",
       "      <td>0.600309</td>\n",
       "    </tr>\n",
       "    <tr>\n",
       "      <th rowspan=\"8\" valign=\"top\">precision@10</th>\n",
       "      <th>count</th>\n",
       "      <td>10.000000</td>\n",
       "      <td>10.000000</td>\n",
       "      <td>10.000000</td>\n",
       "      <td>10.000000</td>\n",
       "      <td>10.000000</td>\n",
       "      <td>10.000000</td>\n",
       "      <td>10.000000</td>\n",
       "    </tr>\n",
       "    <tr>\n",
       "      <th>mean</th>\n",
       "      <td>0.195118</td>\n",
       "      <td>0.220855</td>\n",
       "      <td>0.201693</td>\n",
       "      <td>0.216568</td>\n",
       "      <td>0.198480</td>\n",
       "      <td>0.213071</td>\n",
       "      <td>0.206552</td>\n",
       "    </tr>\n",
       "    <tr>\n",
       "      <th>std</th>\n",
       "      <td>0.026843</td>\n",
       "      <td>0.028875</td>\n",
       "      <td>0.024860</td>\n",
       "      <td>0.025835</td>\n",
       "      <td>0.025320</td>\n",
       "      <td>0.028948</td>\n",
       "      <td>0.023866</td>\n",
       "    </tr>\n",
       "    <tr>\n",
       "      <th>min</th>\n",
       "      <td>0.153191</td>\n",
       "      <td>0.187857</td>\n",
       "      <td>0.164773</td>\n",
       "      <td>0.185106</td>\n",
       "      <td>0.159091</td>\n",
       "      <td>0.171296</td>\n",
       "      <td>0.173034</td>\n",
       "    </tr>\n",
       "    <tr>\n",
       "      <th>25%</th>\n",
       "      <td>0.183111</td>\n",
       "      <td>0.206440</td>\n",
       "      <td>0.187091</td>\n",
       "      <td>0.201630</td>\n",
       "      <td>0.185038</td>\n",
       "      <td>0.200197</td>\n",
       "      <td>0.189175</td>\n",
       "    </tr>\n",
       "    <tr>\n",
       "      <th>50%</th>\n",
       "      <td>0.197845</td>\n",
       "      <td>0.211271</td>\n",
       "      <td>0.202717</td>\n",
       "      <td>0.211702</td>\n",
       "      <td>0.202076</td>\n",
       "      <td>0.213512</td>\n",
       "      <td>0.204460</td>\n",
       "    </tr>\n",
       "    <tr>\n",
       "      <th>75%</th>\n",
       "      <td>0.206711</td>\n",
       "      <td>0.222368</td>\n",
       "      <td>0.214715</td>\n",
       "      <td>0.225600</td>\n",
       "      <td>0.211016</td>\n",
       "      <td>0.221534</td>\n",
       "      <td>0.221024</td>\n",
       "    </tr>\n",
       "    <tr>\n",
       "      <th>max</th>\n",
       "      <td>0.244898</td>\n",
       "      <td>0.291156</td>\n",
       "      <td>0.244218</td>\n",
       "      <td>0.275510</td>\n",
       "      <td>0.238776</td>\n",
       "      <td>0.269388</td>\n",
       "      <td>0.251020</td>\n",
       "    </tr>\n",
       "    <tr>\n",
       "      <th rowspan=\"8\" valign=\"top\">map@10</th>\n",
       "      <th>count</th>\n",
       "      <td>10.000000</td>\n",
       "      <td>10.000000</td>\n",
       "      <td>10.000000</td>\n",
       "      <td>10.000000</td>\n",
       "      <td>10.000000</td>\n",
       "      <td>10.000000</td>\n",
       "      <td>10.000000</td>\n",
       "    </tr>\n",
       "    <tr>\n",
       "      <th>mean</th>\n",
       "      <td>0.400634</td>\n",
       "      <td>0.529367</td>\n",
       "      <td>0.420295</td>\n",
       "      <td>0.491717</td>\n",
       "      <td>0.410567</td>\n",
       "      <td>0.487343</td>\n",
       "      <td>0.445276</td>\n",
       "    </tr>\n",
       "    <tr>\n",
       "      <th>std</th>\n",
       "      <td>0.113013</td>\n",
       "      <td>0.112951</td>\n",
       "      <td>0.120189</td>\n",
       "      <td>0.120381</td>\n",
       "      <td>0.117421</td>\n",
       "      <td>0.122262</td>\n",
       "      <td>0.132111</td>\n",
       "    </tr>\n",
       "    <tr>\n",
       "      <th>min</th>\n",
       "      <td>0.268910</td>\n",
       "      <td>0.353385</td>\n",
       "      <td>0.274256</td>\n",
       "      <td>0.318340</td>\n",
       "      <td>0.265625</td>\n",
       "      <td>0.300494</td>\n",
       "      <td>0.281548</td>\n",
       "    </tr>\n",
       "    <tr>\n",
       "      <th>25%</th>\n",
       "      <td>0.328330</td>\n",
       "      <td>0.457654</td>\n",
       "      <td>0.352846</td>\n",
       "      <td>0.411649</td>\n",
       "      <td>0.335887</td>\n",
       "      <td>0.415228</td>\n",
       "      <td>0.362643</td>\n",
       "    </tr>\n",
       "    <tr>\n",
       "      <th>50%</th>\n",
       "      <td>0.356569</td>\n",
       "      <td>0.512852</td>\n",
       "      <td>0.375021</td>\n",
       "      <td>0.452991</td>\n",
       "      <td>0.371118</td>\n",
       "      <td>0.470525</td>\n",
       "      <td>0.387794</td>\n",
       "    </tr>\n",
       "    <tr>\n",
       "      <th>75%</th>\n",
       "      <td>0.479161</td>\n",
       "      <td>0.595768</td>\n",
       "      <td>0.506796</td>\n",
       "      <td>0.597951</td>\n",
       "      <td>0.492893</td>\n",
       "      <td>0.555410</td>\n",
       "      <td>0.565775</td>\n",
       "    </tr>\n",
       "    <tr>\n",
       "      <th>max</th>\n",
       "      <td>0.582670</td>\n",
       "      <td>0.727703</td>\n",
       "      <td>0.613936</td>\n",
       "      <td>0.680481</td>\n",
       "      <td>0.595367</td>\n",
       "      <td>0.695928</td>\n",
       "      <td>0.654565</td>\n",
       "    </tr>\n",
       "  </tbody>\n",
       "</table>\n",
       "</div>"
      ],
      "text/plain": [
       "window_size               10Y        14d       180d        30d       360d  \\\n",
       "time@5       count  10.000000  10.000000  10.000000  10.000000  10.000000   \n",
       "             mean    0.084628   0.035973   0.061285   0.039138   0.074060   \n",
       "             std     0.005389   0.003399   0.004731   0.003420   0.004964   \n",
       "             min     0.079787   0.031945   0.053525   0.034081   0.068030   \n",
       "             25%     0.081119   0.033275   0.058452   0.036763   0.070867   \n",
       "             50%     0.082800   0.035239   0.061733   0.038942   0.072763   \n",
       "             75%     0.085909   0.038167   0.064309   0.042130   0.075908   \n",
       "             max     0.097310   0.041590   0.068746   0.044156   0.083455   \n",
       "precision@5  count  10.000000  10.000000  10.000000  10.000000  10.000000   \n",
       "             mean    0.272474   0.322537   0.279530   0.309700   0.275726   \n",
       "             std     0.032896   0.032423   0.036964   0.032006   0.036424   \n",
       "             min     0.212766   0.270707   0.221429   0.262626   0.214184   \n",
       "             25%     0.255375   0.302084   0.250498   0.282383   0.250908   \n",
       "             50%     0.277939   0.335720   0.279031   0.315765   0.281313   \n",
       "             75%     0.297038   0.341042   0.312607   0.335891   0.305986   \n",
       "             max     0.312088   0.365217   0.330435   0.347727   0.321739   \n",
       "ndcg@5       count  10.000000  10.000000  10.000000  10.000000  10.000000   \n",
       "             mean    0.458658   0.599916   0.479677   0.556042   0.467848   \n",
       "             std     0.097225   0.098421   0.103111   0.107094   0.100632   \n",
       "             min     0.356672   0.448304   0.374584   0.415286   0.360972   \n",
       "             25%     0.381409   0.545807   0.401976   0.484915   0.387111   \n",
       "             50%     0.428062   0.584547   0.452945   0.508449   0.433835   \n",
       "             75%     0.526499   0.665531   0.558443   0.649058   0.545273   \n",
       "             max     0.614903   0.770386   0.644778   0.720778   0.625689   \n",
       "map@5        count  10.000000  10.000000  10.000000  10.000000  10.000000   \n",
       "             mean    0.347681   0.475615   0.365457   0.435068   0.356537   \n",
       "             std     0.116367   0.125824   0.122311   0.129867   0.118954   \n",
       "             min     0.195649   0.261915   0.208014   0.235082   0.200218   \n",
       "             25%     0.276412   0.407905   0.282146   0.352086   0.283848   \n",
       "             50%     0.314640   0.459160   0.331446   0.395252   0.320964   \n",
       "             75%     0.423265   0.549955   0.451963   0.552881   0.438842   \n",
       "             max     0.532992   0.690269   0.558769   0.633041   0.543986   \n",
       "precision@10 count  10.000000  10.000000  10.000000  10.000000  10.000000   \n",
       "             mean    0.195118   0.220855   0.201693   0.216568   0.198480   \n",
       "             std     0.026843   0.028875   0.024860   0.025835   0.025320   \n",
       "             min     0.153191   0.187857   0.164773   0.185106   0.159091   \n",
       "             25%     0.183111   0.206440   0.187091   0.201630   0.185038   \n",
       "             50%     0.197845   0.211271   0.202717   0.211702   0.202076   \n",
       "             75%     0.206711   0.222368   0.214715   0.225600   0.211016   \n",
       "             max     0.244898   0.291156   0.244218   0.275510   0.238776   \n",
       "map@10       count  10.000000  10.000000  10.000000  10.000000  10.000000   \n",
       "             mean    0.400634   0.529367   0.420295   0.491717   0.410567   \n",
       "             std     0.113013   0.112951   0.120189   0.120381   0.117421   \n",
       "             min     0.268910   0.353385   0.274256   0.318340   0.265625   \n",
       "             25%     0.328330   0.457654   0.352846   0.411649   0.335887   \n",
       "             50%     0.356569   0.512852   0.375021   0.452991   0.371118   \n",
       "             75%     0.479161   0.595768   0.506796   0.597951   0.492893   \n",
       "             max     0.582670   0.727703   0.613936   0.680481   0.595367   \n",
       "\n",
       "window_size                7d        90d  \n",
       "time@5       count  10.000000  10.000000  \n",
       "             mean    0.031485   0.050029  \n",
       "             std     0.003132   0.003438  \n",
       "             min     0.028211   0.045133  \n",
       "             25%     0.029895   0.047468  \n",
       "             50%     0.030228   0.049766  \n",
       "             75%     0.032069   0.052612  \n",
       "             max     0.038605   0.054948  \n",
       "precision@5  count  10.000000  10.000000  \n",
       "             mean    0.294651   0.290939  \n",
       "             std     0.031122   0.039370  \n",
       "             min     0.251852   0.243434  \n",
       "             25%     0.265631   0.255478  \n",
       "             50%     0.303284   0.287142  \n",
       "             75%     0.309600   0.315833  \n",
       "             max     0.345652   0.354331  \n",
       "ndcg@5       count  10.000000  10.000000  \n",
       "             mean    0.552890   0.505833  \n",
       "             std     0.105694   0.115640  \n",
       "             min     0.396418   0.379921  \n",
       "             25%     0.485062   0.416980  \n",
       "             50%     0.534207   0.463176  \n",
       "             75%     0.627513   0.610841  \n",
       "             max     0.733543   0.680289  \n",
       "map@5        count  10.000000  10.000000  \n",
       "             mean    0.428717   0.390359  \n",
       "             std     0.127615   0.135237  \n",
       "             min     0.217913   0.211456  \n",
       "             25%     0.359595   0.298703  \n",
       "             50%     0.407526   0.337845  \n",
       "             75%     0.509346   0.515847  \n",
       "             max     0.646311   0.600309  \n",
       "precision@10 count  10.000000  10.000000  \n",
       "             mean    0.213071   0.206552  \n",
       "             std     0.028948   0.023866  \n",
       "             min     0.171296   0.173034  \n",
       "             25%     0.200197   0.189175  \n",
       "             50%     0.213512   0.204460  \n",
       "             75%     0.221534   0.221024  \n",
       "             max     0.269388   0.251020  \n",
       "map@10       count  10.000000  10.000000  \n",
       "             mean    0.487343   0.445276  \n",
       "             std     0.122262   0.132111  \n",
       "             min     0.300494   0.281548  \n",
       "             25%     0.415228   0.362643  \n",
       "             50%     0.470525   0.387794  \n",
       "             75%     0.555410   0.565775  \n",
       "             max     0.695928   0.654565  "
      ]
     },
     "execution_count": 341,
     "metadata": {},
     "output_type": "execute_result"
    }
   ],
   "source": [
    "mdf.groupby('window_size').describe().drop(columns=['time@10', 'ndcg@10']).T"
   ]
  },
  {
   "cell_type": "code",
   "execution_count": 342,
   "id": "543cb1db-ff4d-4e48-a062-c6183ae7450d",
   "metadata": {},
   "outputs": [
    {
     "data": {
      "text/html": [
       "<div>\n",
       "<style scoped>\n",
       "    .dataframe tbody tr th:only-of-type {\n",
       "        vertical-align: middle;\n",
       "    }\n",
       "\n",
       "    .dataframe tbody tr th {\n",
       "        vertical-align: top;\n",
       "    }\n",
       "\n",
       "    .dataframe thead th {\n",
       "        text-align: right;\n",
       "    }\n",
       "</style>\n",
       "<table border=\"1\" class=\"dataframe\">\n",
       "  <thead>\n",
       "    <tr style=\"text-align: right;\">\n",
       "      <th></th>\n",
       "      <th>precision@5</th>\n",
       "      <th>ndcg@5</th>\n",
       "      <th>map@5</th>\n",
       "      <th>precision@10</th>\n",
       "      <th>ndcg@10</th>\n",
       "      <th>map@10</th>\n",
       "      <th>precision@15</th>\n",
       "      <th>ndcg@15</th>\n",
       "      <th>map@15</th>\n",
       "      <th>fold</th>\n",
       "    </tr>\n",
       "  </thead>\n",
       "  <tbody>\n",
       "    <tr>\n",
       "      <th>count</th>\n",
       "      <td>10.000000</td>\n",
       "      <td>10.000000</td>\n",
       "      <td>10.000000</td>\n",
       "      <td>10.000000</td>\n",
       "      <td>10.000000</td>\n",
       "      <td>10.000000</td>\n",
       "      <td>10.000000</td>\n",
       "      <td>10.000000</td>\n",
       "      <td>10.000000</td>\n",
       "      <td>10.00000</td>\n",
       "    </tr>\n",
       "    <tr>\n",
       "      <th>mean</th>\n",
       "      <td>0.242239</td>\n",
       "      <td>0.359232</td>\n",
       "      <td>0.273718</td>\n",
       "      <td>0.203414</td>\n",
       "      <td>0.452635</td>\n",
       "      <td>0.347708</td>\n",
       "      <td>0.172498</td>\n",
       "      <td>0.511909</td>\n",
       "      <td>0.381484</td>\n",
       "      <td>4.50000</td>\n",
       "    </tr>\n",
       "    <tr>\n",
       "      <th>std</th>\n",
       "      <td>0.047466</td>\n",
       "      <td>0.068965</td>\n",
       "      <td>0.074055</td>\n",
       "      <td>0.036372</td>\n",
       "      <td>0.094494</td>\n",
       "      <td>0.085371</td>\n",
       "      <td>0.025276</td>\n",
       "      <td>0.078546</td>\n",
       "      <td>0.073792</td>\n",
       "      <td>3.02765</td>\n",
       "    </tr>\n",
       "    <tr>\n",
       "      <th>min</th>\n",
       "      <td>0.175887</td>\n",
       "      <td>0.261361</td>\n",
       "      <td>0.160324</td>\n",
       "      <td>0.154610</td>\n",
       "      <td>0.345760</td>\n",
       "      <td>0.237655</td>\n",
       "      <td>0.147826</td>\n",
       "      <td>0.391861</td>\n",
       "      <td>0.282710</td>\n",
       "      <td>0.00000</td>\n",
       "    </tr>\n",
       "    <tr>\n",
       "      <th>25%</th>\n",
       "      <td>0.204670</td>\n",
       "      <td>0.312815</td>\n",
       "      <td>0.208174</td>\n",
       "      <td>0.171720</td>\n",
       "      <td>0.374541</td>\n",
       "      <td>0.271677</td>\n",
       "      <td>0.151094</td>\n",
       "      <td>0.456366</td>\n",
       "      <td>0.315863</td>\n",
       "      <td>2.25000</td>\n",
       "    </tr>\n",
       "    <tr>\n",
       "      <th>50%</th>\n",
       "      <td>0.239654</td>\n",
       "      <td>0.362439</td>\n",
       "      <td>0.282355</td>\n",
       "      <td>0.201566</td>\n",
       "      <td>0.441804</td>\n",
       "      <td>0.346455</td>\n",
       "      <td>0.167426</td>\n",
       "      <td>0.508512</td>\n",
       "      <td>0.384349</td>\n",
       "      <td>4.50000</td>\n",
       "    </tr>\n",
       "    <tr>\n",
       "      <th>75%</th>\n",
       "      <td>0.274518</td>\n",
       "      <td>0.406027</td>\n",
       "      <td>0.340138</td>\n",
       "      <td>0.234006</td>\n",
       "      <td>0.515205</td>\n",
       "      <td>0.422546</td>\n",
       "      <td>0.183131</td>\n",
       "      <td>0.587780</td>\n",
       "      <td>0.448962</td>\n",
       "      <td>6.75000</td>\n",
       "    </tr>\n",
       "    <tr>\n",
       "      <th>max</th>\n",
       "      <td>0.316854</td>\n",
       "      <td>0.472241</td>\n",
       "      <td>0.360832</td>\n",
       "      <td>0.255056</td>\n",
       "      <td>0.600927</td>\n",
       "      <td>0.457227</td>\n",
       "      <td>0.222222</td>\n",
       "      <td>0.613269</td>\n",
       "      <td>0.474586</td>\n",
       "      <td>9.00000</td>\n",
       "    </tr>\n",
       "  </tbody>\n",
       "</table>\n",
       "</div>"
      ],
      "text/plain": [
       "       precision@5     ndcg@5      map@5  precision@10    ndcg@10     map@10  \\\n",
       "count    10.000000  10.000000  10.000000     10.000000  10.000000  10.000000   \n",
       "mean      0.242239   0.359232   0.273718      0.203414   0.452635   0.347708   \n",
       "std       0.047466   0.068965   0.074055      0.036372   0.094494   0.085371   \n",
       "min       0.175887   0.261361   0.160324      0.154610   0.345760   0.237655   \n",
       "25%       0.204670   0.312815   0.208174      0.171720   0.374541   0.271677   \n",
       "50%       0.239654   0.362439   0.282355      0.201566   0.441804   0.346455   \n",
       "75%       0.274518   0.406027   0.340138      0.234006   0.515205   0.422546   \n",
       "max       0.316854   0.472241   0.360832      0.255056   0.600927   0.457227   \n",
       "\n",
       "       precision@15    ndcg@15     map@15      fold  \n",
       "count     10.000000  10.000000  10.000000  10.00000  \n",
       "mean       0.172498   0.511909   0.381484   4.50000  \n",
       "std        0.025276   0.078546   0.073792   3.02765  \n",
       "min        0.147826   0.391861   0.282710   0.00000  \n",
       "25%        0.151094   0.456366   0.315863   2.25000  \n",
       "50%        0.167426   0.508512   0.384349   4.50000  \n",
       "75%        0.183131   0.587780   0.448962   6.75000  \n",
       "max        0.222222   0.613269   0.474586   9.00000  "
      ]
     },
     "execution_count": 342,
     "metadata": {},
     "output_type": "execute_result"
    }
   ],
   "source": [
    "from src import paths\n",
    "\n",
    "bdf = pd.read_csv(paths.baseline_mp_freq(ORG_NAME, SPLITS_FREQ, SPLITS_NORMALIZE))[-LAST_SPLITS:]\n",
    "bdf['fold'] = np.arange(10)\n",
    "bdf.describe()"
   ]
  },
  {
   "cell_type": "code",
   "execution_count": 343,
   "id": "0a32574f-7136-41ca-abfe-42577df5e064",
   "metadata": {},
   "outputs": [
    {
     "data": {
      "text/html": [
       "<div>\n",
       "<style scoped>\n",
       "    .dataframe tbody tr th:only-of-type {\n",
       "        vertical-align: middle;\n",
       "    }\n",
       "\n",
       "    .dataframe tbody tr th {\n",
       "        vertical-align: top;\n",
       "    }\n",
       "\n",
       "    .dataframe thead th {\n",
       "        text-align: right;\n",
       "    }\n",
       "</style>\n",
       "<table border=\"1\" class=\"dataframe\">\n",
       "  <thead>\n",
       "    <tr style=\"text-align: right;\">\n",
       "      <th></th>\n",
       "      <th>precision@5</th>\n",
       "      <th>ndcg@5</th>\n",
       "      <th>map@5</th>\n",
       "      <th>precision@10</th>\n",
       "      <th>ndcg@10</th>\n",
       "      <th>map@10</th>\n",
       "      <th>precision@15</th>\n",
       "      <th>ndcg@15</th>\n",
       "      <th>map@15</th>\n",
       "      <th>fold</th>\n",
       "    </tr>\n",
       "  </thead>\n",
       "  <tbody>\n",
       "    <tr>\n",
       "      <th>count</th>\n",
       "      <td>10.000000</td>\n",
       "      <td>10.0</td>\n",
       "      <td>10.000000</td>\n",
       "      <td>10.000000</td>\n",
       "      <td>10.0</td>\n",
       "      <td>10.000000</td>\n",
       "      <td>10.000000</td>\n",
       "      <td>10.0</td>\n",
       "      <td>10.000000</td>\n",
       "      <td>10.00000</td>\n",
       "    </tr>\n",
       "    <tr>\n",
       "      <th>mean</th>\n",
       "      <td>0.477679</td>\n",
       "      <td>1.0</td>\n",
       "      <td>0.947617</td>\n",
       "      <td>0.280511</td>\n",
       "      <td>1.0</td>\n",
       "      <td>0.989408</td>\n",
       "      <td>0.195757</td>\n",
       "      <td>1.0</td>\n",
       "      <td>0.998196</td>\n",
       "      <td>4.50000</td>\n",
       "    </tr>\n",
       "    <tr>\n",
       "      <th>std</th>\n",
       "      <td>0.057337</td>\n",
       "      <td>0.0</td>\n",
       "      <td>0.037965</td>\n",
       "      <td>0.053225</td>\n",
       "      <td>0.0</td>\n",
       "      <td>0.014943</td>\n",
       "      <td>0.045954</td>\n",
       "      <td>0.0</td>\n",
       "      <td>0.003290</td>\n",
       "      <td>3.02765</td>\n",
       "    </tr>\n",
       "    <tr>\n",
       "      <th>min</th>\n",
       "      <td>0.429231</td>\n",
       "      <td>1.0</td>\n",
       "      <td>0.855537</td>\n",
       "      <td>0.221739</td>\n",
       "      <td>1.0</td>\n",
       "      <td>0.954973</td>\n",
       "      <td>0.147826</td>\n",
       "      <td>1.0</td>\n",
       "      <td>0.991713</td>\n",
       "      <td>0.00000</td>\n",
       "    </tr>\n",
       "    <tr>\n",
       "      <th>25%</th>\n",
       "      <td>0.436919</td>\n",
       "      <td>1.0</td>\n",
       "      <td>0.946627</td>\n",
       "      <td>0.252551</td>\n",
       "      <td>1.0</td>\n",
       "      <td>0.987960</td>\n",
       "      <td>0.174627</td>\n",
       "      <td>1.0</td>\n",
       "      <td>0.999060</td>\n",
       "      <td>2.25000</td>\n",
       "    </tr>\n",
       "    <tr>\n",
       "      <th>50%</th>\n",
       "      <td>0.455723</td>\n",
       "      <td>1.0</td>\n",
       "      <td>0.958442</td>\n",
       "      <td>0.264085</td>\n",
       "      <td>1.0</td>\n",
       "      <td>0.996370</td>\n",
       "      <td>0.180812</td>\n",
       "      <td>1.0</td>\n",
       "      <td>0.999778</td>\n",
       "      <td>4.50000</td>\n",
       "    </tr>\n",
       "    <tr>\n",
       "      <th>75%</th>\n",
       "      <td>0.498877</td>\n",
       "      <td>1.0</td>\n",
       "      <td>0.963772</td>\n",
       "      <td>0.295833</td>\n",
       "      <td>1.0</td>\n",
       "      <td>0.998967</td>\n",
       "      <td>0.199394</td>\n",
       "      <td>1.0</td>\n",
       "      <td>1.000000</td>\n",
       "      <td>6.75000</td>\n",
       "    </tr>\n",
       "    <tr>\n",
       "      <th>max</th>\n",
       "      <td>0.597279</td>\n",
       "      <td>1.0</td>\n",
       "      <td>0.993271</td>\n",
       "      <td>0.414286</td>\n",
       "      <td>1.0</td>\n",
       "      <td>1.000000</td>\n",
       "      <td>0.313832</td>\n",
       "      <td>1.0</td>\n",
       "      <td>1.000000</td>\n",
       "      <td>9.00000</td>\n",
       "    </tr>\n",
       "  </tbody>\n",
       "</table>\n",
       "</div>"
      ],
      "text/plain": [
       "       precision@5  ndcg@5      map@5  precision@10  ndcg@10     map@10  \\\n",
       "count    10.000000    10.0  10.000000     10.000000     10.0  10.000000   \n",
       "mean      0.477679     1.0   0.947617      0.280511      1.0   0.989408   \n",
       "std       0.057337     0.0   0.037965      0.053225      0.0   0.014943   \n",
       "min       0.429231     1.0   0.855537      0.221739      1.0   0.954973   \n",
       "25%       0.436919     1.0   0.946627      0.252551      1.0   0.987960   \n",
       "50%       0.455723     1.0   0.958442      0.264085      1.0   0.996370   \n",
       "75%       0.498877     1.0   0.963772      0.295833      1.0   0.998967   \n",
       "max       0.597279     1.0   0.993271      0.414286      1.0   1.000000   \n",
       "\n",
       "       precision@15  ndcg@15     map@15      fold  \n",
       "count     10.000000     10.0  10.000000  10.00000  \n",
       "mean       0.195757      1.0   0.998196   4.50000  \n",
       "std        0.045954      0.0   0.003290   3.02765  \n",
       "min        0.147826      1.0   0.991713   0.00000  \n",
       "25%        0.174627      1.0   0.999060   2.25000  \n",
       "50%        0.180812      1.0   0.999778   4.50000  \n",
       "75%        0.199394      1.0   1.000000   6.75000  \n",
       "max        0.313832      1.0   1.000000   9.00000  "
      ]
     },
     "execution_count": 343,
     "metadata": {},
     "output_type": "execute_result"
    }
   ],
   "source": [
    "pdf = pd.read_csv(paths.perfect_mp_freq(ORG_NAME, SPLITS_FREQ, SPLITS_NORMALIZE))[-LAST_SPLITS:]\n",
    "pdf['fold'] = np.arange(10)\n",
    "pdf.describe()"
   ]
  },
  {
   "cell_type": "code",
   "execution_count": 344,
   "id": "e0ef9300-b367-4fac-abe1-60969a120c5d",
   "metadata": {},
   "outputs": [
    {
     "data": {
      "application/vnd.jupyter.widget-view+json": {
       "model_id": "8625ef88202d4f17b11bae5e1911c8d3",
       "version_major": 2,
       "version_minor": 0
      },
      "text/html": [
       "Cannot show widget. You probably want to rerun the code cell above (<i>Click in the code cell, and press Shift+Enter <kbd>⇧</kbd>+<kbd>↩</kbd></i>)."
      ],
      "text/plain": [
       "Cannot show ipywidgets in text"
      ]
     },
     "metadata": {},
     "output_type": "display_data"
    },
    {
     "data": {
      "image/png": "[encoded data removed]",
      "text/plain": [
       "<Figure size 640x480 with 1 Axes>"
      ]
     },
     "metadata": {},
     "output_type": "display_data"
    }
   ],
   "source": [
    "_METRICS = ['map@5', 'map@10']\n",
    "_METRIC = _METRICS[-1]\n",
    "\n",
    "ax = sns.lineplot(mdf, x='fold', y=_METRIC, hue='window_size')\n",
    "ax = sns.lineplot(bdf, x='fold', y=_METRIC, color='red', zorder=0)\n",
    "ax.lines[-1].set_linestyle('--')\n",
    "ax.text(9, 0.19, \"MP Baseline\", ha='right', color=ax.lines[-1].get_color())\n",
    "\n",
    "# ax = sns.lineplot(pdf, x='fold', y=_METRIC, color='blue')\n",
    "# ax.lines[-1].set_linestyle(':')\n",
    "\n",
    "ax.set_ylim((0,None));\n",
    "nbutils.download_matplotlib(ax.figure, f'11_cosine_results_results-lines_{SPLITS_FREQ}_normalize={SPLITS_NORMALIZE}.pdf')"
   ]
  },
  {
   "cell_type": "code",
   "execution_count": 345,
   "id": "1f025bcd-68df-43bc-9f60-9d8d017e1ecd",
   "metadata": {},
   "outputs": [
    {
     "name": "stdout",
     "output_type": "stream",
     "text": [
      "<class 'matplotlib.figure.Figure'>\n"
     ]
    },
    {
     "data": {
      "application/vnd.jupyter.widget-view+json": {
       "model_id": "af7503fedc9549a2b891214082ac0318",
       "version_major": 2,
       "version_minor": 0
      },
      "text/html": [
       "Cannot show widget. You probably want to rerun the code cell above (<i>Click in the code cell, and press Shift+Enter <kbd>⇧</kbd>+<kbd>↩</kbd></i>)."
      ],
      "text/plain": [
       "Cannot show ipywidgets in text"
      ]
     },
     "metadata": {},
     "output_type": "display_data"
    },
    {
     "data": {
      "image/png": "[encoded data removed]",
      "text/plain": [
       "<Figure size 640x480 with 2 Axes>"
      ]
     },
     "metadata": {},
     "output_type": "display_data"
    },
    {
     "data": {
      "text/plain": [
       "<Figure size 640x480 with 0 Axes>"
      ]
     },
     "metadata": {},
     "output_type": "display_data"
    }
   ],
   "source": [
    "# _METRIC = 'precision@5'\n",
    "\n",
    "topline = pdf[_METRIC].mean()\n",
    "\n",
    "_toplot = mdf[_METRICS].melt(value_vars=_METRICS, var_name='metric', ignore_index=False)\n",
    "\n",
    "sns.set_theme()\n",
    "ax = sns.barplot(_toplot, x='window_size', y='value', hue='metric')\n",
    "ax.set_xlabel(\"Window size\")\n",
    "\n",
    "baseline = bdf[_METRICS[0]].mean()\n",
    "ax.axhline(baseline, ls='--', color='blue', zorder=0)\n",
    "baseline = bdf[_METRICS[1]].mean()\n",
    "ax.axhline(baseline, ls='--', color='orange', zorder=0)\n",
    "# ax.text(0, baseline-0.005, \"map@5\", color='black', ha='left', va='top', fontsize='large')\n",
    "\n",
    "if not _METRIC.startswith('map@'):\n",
    "    ax.axhline(topline, ls=':', color='blue')\n",
    "    ax.text(0, topline-0.005, \"perfect\", color='blue', ha='left', va='top')\n",
    "\n",
    "ax2 = ax.twinx()\n",
    "time_color = 'green'\n",
    "sns.lineplot(mdf, x='window_size', y='time@10', color=time_color, ax=ax2, markers=True, dashes=(4,2), errorbar=None)\n",
    "ax2.set_ylabel('time (s)', color=time_color)\n",
    "ax2.tick_params(axis='y', color=time_color)\n",
    "ax2.spines['right'].set_color(time_color)\n",
    "[t.set_color(time_color) for t in ax2.yaxis.get_ticklabels()]\n",
    "ax2.grid(False)\n",
    "ax2.set_ylim((0,.10))\n",
    "\n",
    "ax.legend(loc=(0.02,.2))\n",
    "\n",
    "print(type(plt.figure()))\n",
    "nbutils.download_matplotlib(ax.figure, f'11_cosine_results_window-size_{SPLITS_FREQ}_normalize={SPLITS_NORMALIZE}.pdf')"
   ]
  },
  {
   "cell_type": "markdown",
   "id": "ab73b16c-92ad-4ba6-919c-6a118f60285e",
   "metadata": {},
   "source": [
    "# Second iteration: PLN with kNN"
   ]
  },
  {
   "cell_type": "code",
   "execution_count": 346,
   "id": "ab569662-ef47-4f50-b722-e280d1f4fae5",
   "metadata": {},
   "outputs": [],
   "source": [
    "from sklearn.neighbors import KNeighborsClassifier\n",
    "\n",
    "# itemID2idx = pd.Series(data=np.arange(len(dfp)), index=dfp.index.astype(str))\n",
    "# itemID2idx"
   ]
  },
  {
   "cell_type": "code",
   "execution_count": 347,
   "id": "bfa4f684-bb74-4e23-8092-9261702eb9f7",
   "metadata": {},
   "outputs": [],
   "source": [
    "def filter_proposals_in_train(train, user, proposals):\n",
    "    msk = train['userID'] == user\n",
    "    proposals_aready_voted_by_user = train[msk]['itemID'].unique()\n",
    "    return np.setdiff1d(proposals, proposals_aready_voted_by_user)"
   ]
  },
  {
   "cell_type": "code",
   "execution_count": 348,
   "id": "d9ebf3fd-c0e1-4cb7-b78d-2f00912729eb",
   "metadata": {},
   "outputs": [],
   "source": [
    "from joblib import Memory\n",
    "\n",
    "# memory = Memory(JOBLIB_CACHE_DIR, mmap_mode='c', verbose=0)\n",
    "\n",
    "# @memory.cache\n",
    "def recommendUserKNN(train: pd.DataFrame, user, proposals, top_k: Optional[int] = None, knn_k = 3, do_sampling: Optional[bool] = None, remove_train: bool = True, metric=None):\n",
    "    \"\"\"\n",
    "    Given the train data (proposals that might be voted or not by the user), recommend k proposals from proposals to the user\n",
    "    The train data is a DataFrame in microsoft's format\n",
    "    \n",
    "    do_sampling (bool) : default None\n",
    "        if True, makes sampling so the number of positive and negative samples is the same\n",
    "        if False, doesn't do it\n",
    "        if None (default), does it when k > 0, but doesn't do it with Nearest Neighbor\n",
    "    \"\"\"\n",
    "    # train['hasVoted'] = train['userID'] == user\n",
    "    hasVoted = train['userID'] == user\n",
    "\n",
    "    # Remove recommendations already in training\n",
    "    # (aka remove from proposals array)\n",
    "    if remove_train:\n",
    "        proposals = filter_proposals_in_train(train, user, proposals)\n",
    "\n",
    "    assert any(hasVoted), 'The user has not voted in any proposal'\n",
    "    if knn_k == 0:\n",
    "        do_sampling = False\n",
    "        knn_k = 1\n",
    "\n",
    "    if do_sampling or (do_sampling is None and knn_k > 0):\n",
    "        # num_samples = train['hasVoted'].value_counts().min() # [True]\n",
    "        num_samples = hasVoted.value_counts().min() # [True]\n",
    "        train = train.groupby(hasVoted).apply(lambda x: x.sample(num_samples)).reset_index(drop=True)\n",
    "        hasVoted = train['userID'] == user\n",
    "\n",
    "    # known_embeds = embeddings[itemID2idx[train['itemID']]]\n",
    "    known_embeds = np.vstack(embeddings.loc[train['itemID']])\n",
    "\n",
    "    assert knn_k >= 0\n",
    "    knn = KNeighborsClassifier(max(knn_k, 1), metric=metric if metric else 'minkowski')\n",
    "    knn.fit(known_embeds, hasVoted)# train['hasVoted'])\n",
    "\n",
    "    predict_embeds = np.vstack(embeddings.loc[proposals])\n",
    "    aux = knn.predict_proba(predict_embeds)\n",
    "    p = knn.predict_proba(predict_embeds)[:, 1] # Probabilidad de que sea True\n",
    "\n",
    "    if top_k:\n",
    "        best = (1-p).argsort()[:top_k]\n",
    "        p = p[best]\n",
    "        proposals = proposals[best]\n",
    "    \n",
    "    return pd.DataFrame({\n",
    "        'userID': user,\n",
    "        'itemID': proposals,\n",
    "        'prediction': 1,\n",
    "        'score': p,\n",
    "    })\n",
    "\n",
    "# u = '0xe44782afe398800d7190796018c4b865e32ff806'\n",
    "# proposals_voted_by_user = test_filtered[test_filtered['userID'] == u]\n",
    "# print(f'The user {u} voted in {len(proposals_voted_by_user)} proposals')\n",
    "# p = recommendUserKNN(train, u, test_filtered['itemID'].unique().copy(), 5, do_sampling=True)\n",
    "# p['correct'] = p['itemID'].isin(proposals_voted_by_user['itemID'])\n",
    "# p"
   ]
  },
  {
   "cell_type": "code",
   "execution_count": 349,
   "id": "c07019d1-2a05-4d0b-9602-48a75ebf8ce2",
   "metadata": {},
   "outputs": [],
   "source": [
    "from recommenders.datasets.pandas_df_utils import filter_by\n",
    "\n",
    "def recommendMostVoted(train: pd.DataFrame, user, proposals, top_k: Optional[int] = None, remove_train=True):\n",
    "    bestVotes = train[train['itemID'].isin(proposals)]['itemID'].value_counts()\n",
    "    df = pd.DataFrame({\n",
    "        'userID': user,\n",
    "        'itemID': bestVotes.index,\n",
    "        'prediction': 1,\n",
    "        'score': bestVotes,\n",
    "    })\n",
    "    if remove_train:\n",
    "        df = filter_by(df, train, ['userID', 'itemID'])\n",
    "    return df.head(top_k).reset_index(drop=True)\n",
    "\n",
    "# u = '0xe44782afe398800d7190796018c4b865e32ff806'\n",
    "# proposals_voted_by_user = test_filtered[test_filtered['userID'] == u]\n",
    "# print(f'The user {u} voted in {len(proposals_voted_by_user)} proposals')\n",
    "# recommendMostVoted(train_filtered.copy(), u, test_filtered['itemID'].unique(), 5)"
   ]
  },
  {
   "cell_type": "code",
   "execution_count": 350,
   "id": "608d6675-947d-4d7d-97d2-2fa3244c7829",
   "metadata": {},
   "outputs": [
    {
     "name": "stderr",
     "output_type": "stream",
     "text": [
      "                                                                                        \r"
     ]
    },
    {
     "data": {
      "text/html": [
       "<div>\n",
       "<style scoped>\n",
       "    .dataframe tbody tr th:only-of-type {\n",
       "        vertical-align: middle;\n",
       "    }\n",
       "\n",
       "    .dataframe tbody tr th {\n",
       "        vertical-align: top;\n",
       "    }\n",
       "\n",
       "    .dataframe thead th {\n",
       "        text-align: right;\n",
       "    }\n",
       "</style>\n",
       "<table border=\"1\" class=\"dataframe\">\n",
       "  <thead>\n",
       "    <tr style=\"text-align: right;\">\n",
       "      <th></th>\n",
       "      <th>userID</th>\n",
       "      <th>itemID</th>\n",
       "      <th>prediction</th>\n",
       "      <th>score</th>\n",
       "      <th>scoreType</th>\n",
       "    </tr>\n",
       "  </thead>\n",
       "  <tbody>\n",
       "    <tr>\n",
       "      <th>0</th>\n",
       "      <td>0x2ae9070b029d05d8e6516aec0475002c53595a9d</td>\n",
       "      <td>acb027f2-6bf3-546d-812f-f4d5ca13b308</td>\n",
       "      <td>1</td>\n",
       "      <td>1.0</td>\n",
       "      <td>knn</td>\n",
       "    </tr>\n",
       "    <tr>\n",
       "      <th>0</th>\n",
       "      <td>0x52f8d5518a05366989b3baad9c8e1129ca317fc7</td>\n",
       "      <td>acb027f2-6bf3-546d-812f-f4d5ca13b308</td>\n",
       "      <td>1</td>\n",
       "      <td>1.0</td>\n",
       "      <td>knn</td>\n",
       "    </tr>\n",
       "    <tr>\n",
       "      <th>0</th>\n",
       "      <td>0xa87d168717538e86d71ac48baccaeb84162de602</td>\n",
       "      <td>29c9f490-088f-5ee5-a211-c9228ef1576b</td>\n",
       "      <td>1</td>\n",
       "      <td>1.0</td>\n",
       "      <td>knn</td>\n",
       "    </tr>\n",
       "    <tr>\n",
       "      <th>0</th>\n",
       "      <td>0x9b3ae2dd9eaad174cf5700420d4861a5a73a2d2a</td>\n",
       "      <td>7d0f5566-025f-549f-b3c4-d25f9db69a77</td>\n",
       "      <td>1</td>\n",
       "      <td>1.0</td>\n",
       "      <td>knn</td>\n",
       "    </tr>\n",
       "    <tr>\n",
       "      <th>0</th>\n",
       "      <td>0x544a40955ba1c7e56e161a59e1319e3313c25251</td>\n",
       "      <td>7c34f3bf-850d-5ebc-af02-0ea664ac1837</td>\n",
       "      <td>1</td>\n",
       "      <td>1.0</td>\n",
       "      <td>knn</td>\n",
       "    </tr>\n",
       "    <tr>\n",
       "      <th>...</th>\n",
       "      <td>...</td>\n",
       "      <td>...</td>\n",
       "      <td>...</td>\n",
       "      <td>...</td>\n",
       "      <td>...</td>\n",
       "    </tr>\n",
       "    <tr>\n",
       "      <th>0</th>\n",
       "      <td>0x8d5237037a590a2db531f3cfb8f42605cf306f34</td>\n",
       "      <td>acb027f2-6bf3-546d-812f-f4d5ca13b308</td>\n",
       "      <td>1</td>\n",
       "      <td>1.0</td>\n",
       "      <td>knn</td>\n",
       "    </tr>\n",
       "    <tr>\n",
       "      <th>0</th>\n",
       "      <td>0x4534c46ea854c9a302d3dc95b2d3253ae6a28abc</td>\n",
       "      <td>29c9f490-088f-5ee5-a211-c9228ef1576b</td>\n",
       "      <td>1</td>\n",
       "      <td>1.0</td>\n",
       "      <td>knn</td>\n",
       "    </tr>\n",
       "    <tr>\n",
       "      <th>0</th>\n",
       "      <td>0x0d269541a5812e1362f47222035cef5dac5466f2</td>\n",
       "      <td>eb828224-cb1c-5177-9171-6d8754307939</td>\n",
       "      <td>1</td>\n",
       "      <td>1.0</td>\n",
       "      <td>knn</td>\n",
       "    </tr>\n",
       "    <tr>\n",
       "      <th>0</th>\n",
       "      <td>0xbc9fb2a60f43a3ac7babe3d41f11b04ec439dd42</td>\n",
       "      <td>29c9f490-088f-5ee5-a211-c9228ef1576b</td>\n",
       "      <td>1</td>\n",
       "      <td>1.0</td>\n",
       "      <td>knn</td>\n",
       "    </tr>\n",
       "    <tr>\n",
       "      <th>0</th>\n",
       "      <td>0x7bbea9c18cd0541acab8c19da2b11d0c03faef1c</td>\n",
       "      <td>7c34f3bf-850d-5ebc-af02-0ea664ac1837</td>\n",
       "      <td>1</td>\n",
       "      <td>1.0</td>\n",
       "      <td>knn</td>\n",
       "    </tr>\n",
       "  </tbody>\n",
       "</table>\n",
       "<p>130 rows × 5 columns</p>\n",
       "</div>"
      ],
      "text/plain": [
       "                                        userID  \\\n",
       "0   0x2ae9070b029d05d8e6516aec0475002c53595a9d   \n",
       "0   0x52f8d5518a05366989b3baad9c8e1129ca317fc7   \n",
       "0   0xa87d168717538e86d71ac48baccaeb84162de602   \n",
       "0   0x9b3ae2dd9eaad174cf5700420d4861a5a73a2d2a   \n",
       "0   0x544a40955ba1c7e56e161a59e1319e3313c25251   \n",
       "..                                         ...   \n",
       "0   0x8d5237037a590a2db531f3cfb8f42605cf306f34   \n",
       "0   0x4534c46ea854c9a302d3dc95b2d3253ae6a28abc   \n",
       "0   0x0d269541a5812e1362f47222035cef5dac5466f2   \n",
       "0   0xbc9fb2a60f43a3ac7babe3d41f11b04ec439dd42   \n",
       "0   0x7bbea9c18cd0541acab8c19da2b11d0c03faef1c   \n",
       "\n",
       "                                  itemID  prediction  score scoreType  \n",
       "0   acb027f2-6bf3-546d-812f-f4d5ca13b308           1    1.0       knn  \n",
       "0   acb027f2-6bf3-546d-812f-f4d5ca13b308           1    1.0       knn  \n",
       "0   29c9f490-088f-5ee5-a211-c9228ef1576b           1    1.0       knn  \n",
       "0   7d0f5566-025f-549f-b3c4-d25f9db69a77           1    1.0       knn  \n",
       "0   7c34f3bf-850d-5ebc-af02-0ea664ac1837           1    1.0       knn  \n",
       "..                                   ...         ...    ...       ...  \n",
       "0   acb027f2-6bf3-546d-812f-f4d5ca13b308           1    1.0       knn  \n",
       "0   29c9f490-088f-5ee5-a211-c9228ef1576b           1    1.0       knn  \n",
       "0   eb828224-cb1c-5177-9171-6d8754307939           1    1.0       knn  \n",
       "0   29c9f490-088f-5ee5-a211-c9228ef1576b           1    1.0       knn  \n",
       "0   7c34f3bf-850d-5ebc-af02-0ea664ac1837           1    1.0       knn  \n",
       "\n",
       "[130 rows x 5 columns]"
      ]
     },
     "execution_count": 350,
     "metadata": {},
     "output_type": "execute_result"
    }
   ],
   "source": [
    "# import multiprocessing as mp\n",
    "# from multiprocessing import Pool\n",
    "# from multiprocessing.pool import ThreadPool as Pool\n",
    "\n",
    "from joblib import Parallel, delayed\n",
    "\n",
    "def recommendUserKNNwithFallback(train, user, proposals, top_k = None, knn_k: int = 1, remove_train: bool = True, do_sampling = None, metric=None):\n",
    "    \"\"\" If the user has not voted in any proposal in `train`, we fall back to recommending\n",
    "    the most voted proposal in `proposals`\n",
    "    \"\"\"\n",
    "    if remove_train:\n",
    "        proposals = filter_proposals_in_train(train, user, proposals)\n",
    "    if (user == train['userID']).sum() >= max(knn_k, 1):\n",
    "        df = recommendUserKNN(train, user, proposals, top_k, knn_k, remove_train=False, do_sampling=do_sampling, metric=metric)\n",
    "        df['scoreType'] = 'knn'\n",
    "        return df\n",
    "    else:\n",
    "        df = recommendMostVoted(train, user, proposals, top_k, remove_train=False)\n",
    "        df['scoreType'] = 'mv'\n",
    "        return df\n",
    "\n",
    "def recommendNLPKNN(train: pd.DataFrame, users, proposals, top_k: int = 5, knn_k: int = 1, do_sampling=None, cpus=-1, chunksize=8, disable_tqdm=False, metric=None):\n",
    "    # Create voter embeddings\n",
    "    assert knn_k >= 0\n",
    "\n",
    "    # return pd.concat(tqdm((\n",
    "    #     recommendUserKNNwithFallback(train, u, proposals, top_k, knn_k, remove_train=False, do_sampling=do_sampling) for u in users\n",
    "    # ), desc='users', leave=False, total=len(users)))\n",
    "\n",
    "    p = partial(\n",
    "        recommendUserKNNwithFallback, \n",
    "        train, \n",
    "        proposals=proposals, \n",
    "        top_k=top_k,\n",
    "        knn_k=knn_k,\n",
    "        do_sampling=do_sampling,\n",
    "        metric=metric,\n",
    "    )\n",
    "\n",
    "    if cpus == 1:\n",
    "        # return pd.concat(tqdm(\n",
    "        return pd.concat(\n",
    "            map(p, users),\n",
    "            # total=len(users),\n",
    "            # desc='users',\n",
    "            # leave=False,\n",
    "            # disable=disable_tqdm,\n",
    "        )\n",
    "        # ))\n",
    "    else:\n",
    "        # with Pool(mp.cpu_count() // 4 if cpus==-1 else cpus) as pool:\n",
    "        #     return pd.concat(\n",
    "        #         tqdm(\n",
    "        #             pool.imap(p, users, chunksize=chunksize),\n",
    "        #             total=len(users),\n",
    "        #             desc='users',\n",
    "        #             leave=False,\n",
    "        #             disable=disable_tqdm,\n",
    "        #         )\n",
    "        #     )\n",
    "        return pd.concat(\n",
    "            Parallel()(delayed(p)(u) for u in tqdm(users, desc='users', leave=False, disable=disable_tqdm))\n",
    "        )\n",
    "\n",
    "recommendNLPKNN(folds[0][0], folds[0][1]['userID'].unique(), folds[0][1]['itemID'].unique(), top_k=1)"
   ]
  },
  {
   "cell_type": "code",
   "execution_count": 351,
   "id": "ee6a6c98-64c7-4411-9331-a3158de35e95",
   "metadata": {},
   "outputs": [],
   "source": [
    "# print(mp.cpu_count())"
   ]
  },
  {
   "cell_type": "markdown",
   "id": "51a937fc-dfc1-4b0a-b81c-c4c02ced2bb2",
   "metadata": {},
   "source": [
    "### Evaluation\n",
    "\n",
    "Usaremos el método del codo para ver cual de todos es mejor"
   ]
  },
  {
   "cell_type": "code",
   "execution_count": 352,
   "id": "f8d8de9b-20c3-4ad6-b5fc-12c9618acc35",
   "metadata": {},
   "outputs": [
    {
     "data": {
      "text/plain": [
       "{'time@5': 1.3251330871134996,\n",
       " 'knnUsage@5': 0.6631205673758865,\n",
       " 'precision@5': 0.23846153846153842,\n",
       " 'ndcg@5': 0.4757003808919945,\n",
       " 'map@5': 0.402456771860618,\n",
       " 'time@10': 1.3418115191161633,\n",
       " 'knnUsage@10': 0.623015873015873,\n",
       " 'precision@10': 0.1876923076923077,\n",
       " 'ndcg@10': 0.554653974923051,\n",
       " 'map@10': 0.46378135692146677}"
      ]
     },
     "execution_count": 352,
     "metadata": {},
     "output_type": "execute_result"
    }
   ],
   "source": [
    "df = to_microsoft(dfv)\n",
    "folds = list(timeFreqSplitCurrent(df, SPLITS_FREQ, dfp, remove_not_in_train_col='userID', return_open=True))[-LAST_SPLITS:]\n",
    "metrics_f = { 'precision':precision_at_k, 'ndcg': ndcg_at_k, 'ndcg': ndcg_at_k, 'map': map_at_k, } # 'recall': recall_at_k, \n",
    "\n",
    "def testHParamsKNN(fold, window_size, k, metric, cpus=-1, disable_tqdm=True):\n",
    "    metrics = dict()\n",
    "\n",
    "    train, test, t, open_proposals = folds[fold]\n",
    "    offset = pd.tseries.frequencies.to_offset(window_size)\n",
    "    train_filtered = train[train['timestamp'] > (t - offset)]\n",
    "\n",
    "    for k_recs in K_RECOMMENDATIONS:\n",
    "        with Timer() as t:\n",
    "            recs = recommendNLPKNN(train_filtered, test['userID'].unique(), open_proposals, k_recs, k, disable_tqdm=disable_tqdm, metric=metric, cpus=cpus)\n",
    "\n",
    "        metrics[f'time@{k_recs}'] = t.time\n",
    "        metrics[f'knnUsage@{k_recs}'] = (recs['scoreType'] == 'knn').mean()\n",
    "        for m, f in metrics_f.items():\n",
    "                metrics[m+f'@{k_recs}'] = f(test, recs, k=k_recs)\n",
    "\n",
    "    return metrics\n",
    "\n",
    "metrics = testHParamsKNN(0, '14d', 0, 'cosine')\n",
    "metrics"
   ]
  },
  {
   "cell_type": "code",
   "execution_count": 353,
   "id": "ed3a07f2-d693-460b-94ae-30fce335d33a",
   "metadata": {},
   "outputs": [
    {
     "data": {
      "text/html": [
       "<div>\n",
       "<style scoped>\n",
       "    .dataframe tbody tr th:only-of-type {\n",
       "        vertical-align: middle;\n",
       "    }\n",
       "\n",
       "    .dataframe tbody tr th {\n",
       "        vertical-align: top;\n",
       "    }\n",
       "\n",
       "    .dataframe thead th {\n",
       "        text-align: right;\n",
       "    }\n",
       "</style>\n",
       "<table border=\"1\" class=\"dataframe\">\n",
       "  <thead>\n",
       "    <tr style=\"text-align: right;\">\n",
       "      <th></th>\n",
       "      <th></th>\n",
       "      <th></th>\n",
       "      <th></th>\n",
       "      <th>time@5</th>\n",
       "      <th>knnUsage@5</th>\n",
       "      <th>precision@5</th>\n",
       "      <th>ndcg@5</th>\n",
       "      <th>map@5</th>\n",
       "      <th>time@10</th>\n",
       "      <th>knnUsage@10</th>\n",
       "      <th>precision@10</th>\n",
       "      <th>ndcg@10</th>\n",
       "      <th>map@10</th>\n",
       "    </tr>\n",
       "    <tr>\n",
       "      <th>fold</th>\n",
       "      <th>window_size</th>\n",
       "      <th>k</th>\n",
       "      <th>metric</th>\n",
       "      <th></th>\n",
       "      <th></th>\n",
       "      <th></th>\n",
       "      <th></th>\n",
       "      <th></th>\n",
       "      <th></th>\n",
       "      <th></th>\n",
       "      <th></th>\n",
       "      <th></th>\n",
       "      <th></th>\n",
       "    </tr>\n",
       "  </thead>\n",
       "  <tbody>\n",
       "    <tr>\n",
       "      <th rowspan=\"5\" valign=\"top\">0</th>\n",
       "      <th>7d</th>\n",
       "      <th>1</th>\n",
       "      <th>minkowski</th>\n",
       "      <td>0.715958</td>\n",
       "      <td>0.567901</td>\n",
       "      <td>0.198462</td>\n",
       "      <td>0.326336</td>\n",
       "      <td>0.225888</td>\n",
       "      <td>0.968648</td>\n",
       "      <td>0.550201</td>\n",
       "      <td>0.180000</td>\n",
       "      <td>0.392480</td>\n",
       "      <td>0.248820</td>\n",
       "    </tr>\n",
       "    <tr>\n",
       "      <th>14d</th>\n",
       "      <th>1</th>\n",
       "      <th>minkowski</th>\n",
       "      <td>1.424702</td>\n",
       "      <td>0.663121</td>\n",
       "      <td>0.246154</td>\n",
       "      <td>0.491852</td>\n",
       "      <td>0.414671</td>\n",
       "      <td>2.046966</td>\n",
       "      <td>0.623016</td>\n",
       "      <td>0.186923</td>\n",
       "      <td>0.557521</td>\n",
       "      <td>0.472632</td>\n",
       "    </tr>\n",
       "    <tr>\n",
       "      <th>30d</th>\n",
       "      <th>1</th>\n",
       "      <th>minkowski</th>\n",
       "      <td>3.456916</td>\n",
       "      <td>0.804965</td>\n",
       "      <td>0.256923</td>\n",
       "      <td>0.498050</td>\n",
       "      <td>0.417629</td>\n",
       "      <td>3.220958</td>\n",
       "      <td>0.781746</td>\n",
       "      <td>0.183077</td>\n",
       "      <td>0.543316</td>\n",
       "      <td>0.463583</td>\n",
       "    </tr>\n",
       "    <tr>\n",
       "      <th>90d</th>\n",
       "      <th>1</th>\n",
       "      <th>minkowski</th>\n",
       "      <td>4.620585</td>\n",
       "      <td>0.911348</td>\n",
       "      <td>0.258462</td>\n",
       "      <td>0.505591</td>\n",
       "      <td>0.429721</td>\n",
       "      <td>8.072220</td>\n",
       "      <td>0.900794</td>\n",
       "      <td>0.186154</td>\n",
       "      <td>0.557877</td>\n",
       "      <td>0.469521</td>\n",
       "    </tr>\n",
       "    <tr>\n",
       "      <th>180d</th>\n",
       "      <th>1</th>\n",
       "      <th>minkowski</th>\n",
       "      <td>10.963902</td>\n",
       "      <td>0.973404</td>\n",
       "      <td>0.255385</td>\n",
       "      <td>0.475403</td>\n",
       "      <td>0.395087</td>\n",
       "      <td>12.341484</td>\n",
       "      <td>0.970238</td>\n",
       "      <td>0.196923</td>\n",
       "      <td>0.578722</td>\n",
       "      <td>0.478153</td>\n",
       "    </tr>\n",
       "    <tr>\n",
       "      <th>...</th>\n",
       "      <th>...</th>\n",
       "      <th>...</th>\n",
       "      <th>...</th>\n",
       "      <td>...</td>\n",
       "      <td>...</td>\n",
       "      <td>...</td>\n",
       "      <td>...</td>\n",
       "      <td>...</td>\n",
       "      <td>...</td>\n",
       "      <td>...</td>\n",
       "      <td>...</td>\n",
       "      <td>...</td>\n",
       "      <td>...</td>\n",
       "    </tr>\n",
       "    <tr>\n",
       "      <th rowspan=\"5\" valign=\"top\">9</th>\n",
       "      <th>30d</th>\n",
       "      <th>50</th>\n",
       "      <th>cosine</th>\n",
       "      <td>1.445616</td>\n",
       "      <td>0.007246</td>\n",
       "      <td>0.177305</td>\n",
       "      <td>0.273249</td>\n",
       "      <td>0.182667</td>\n",
       "      <td>1.172531</td>\n",
       "      <td>0.003698</td>\n",
       "      <td>0.154610</td>\n",
       "      <td>0.351872</td>\n",
       "      <td>0.236713</td>\n",
       "    </tr>\n",
       "    <tr>\n",
       "      <th>90d</th>\n",
       "      <th>50</th>\n",
       "      <th>cosine</th>\n",
       "      <td>3.739648</td>\n",
       "      <td>0.094203</td>\n",
       "      <td>0.175887</td>\n",
       "      <td>0.270396</td>\n",
       "      <td>0.182533</td>\n",
       "      <td>2.820981</td>\n",
       "      <td>0.077663</td>\n",
       "      <td>0.154610</td>\n",
       "      <td>0.357878</td>\n",
       "      <td>0.242395</td>\n",
       "    </tr>\n",
       "    <tr>\n",
       "      <th>180d</th>\n",
       "      <th>50</th>\n",
       "      <th>cosine</th>\n",
       "      <td>5.272426</td>\n",
       "      <td>0.195652</td>\n",
       "      <td>0.180142</td>\n",
       "      <td>0.273944</td>\n",
       "      <td>0.179263</td>\n",
       "      <td>5.385674</td>\n",
       "      <td>0.179734</td>\n",
       "      <td>0.155319</td>\n",
       "      <td>0.352425</td>\n",
       "      <td>0.234697</td>\n",
       "    </tr>\n",
       "    <tr>\n",
       "      <th>360d</th>\n",
       "      <th>50</th>\n",
       "      <th>cosine</th>\n",
       "      <td>9.580760</td>\n",
       "      <td>0.311594</td>\n",
       "      <td>0.184397</td>\n",
       "      <td>0.287051</td>\n",
       "      <td>0.196764</td>\n",
       "      <td>4.809677</td>\n",
       "      <td>0.297337</td>\n",
       "      <td>0.156028</td>\n",
       "      <td>0.355482</td>\n",
       "      <td>0.236633</td>\n",
       "    </tr>\n",
       "    <tr>\n",
       "      <th>10Y</th>\n",
       "      <th>50</th>\n",
       "      <th>cosine</th>\n",
       "      <td>9.458922</td>\n",
       "      <td>0.362319</td>\n",
       "      <td>0.178723</td>\n",
       "      <td>0.265280</td>\n",
       "      <td>0.176319</td>\n",
       "      <td>3.453159</td>\n",
       "      <td>0.349112</td>\n",
       "      <td>0.153191</td>\n",
       "      <td>0.347670</td>\n",
       "      <td>0.229738</td>\n",
       "    </tr>\n",
       "  </tbody>\n",
       "</table>\n",
       "<p>1960 rows × 10 columns</p>\n",
       "</div>"
      ],
      "text/plain": [
       "                                  time@5  knnUsage@5  precision@5    ndcg@5  \\\n",
       "fold window_size k  metric                                                    \n",
       "0    7d          1  minkowski   0.715958    0.567901     0.198462  0.326336   \n",
       "     14d         1  minkowski   1.424702    0.663121     0.246154  0.491852   \n",
       "     30d         1  minkowski   3.456916    0.804965     0.256923  0.498050   \n",
       "     90d         1  minkowski   4.620585    0.911348     0.258462  0.505591   \n",
       "     180d        1  minkowski  10.963902    0.973404     0.255385  0.475403   \n",
       "...                                  ...         ...          ...       ...   \n",
       "9    30d         50 cosine      1.445616    0.007246     0.177305  0.273249   \n",
       "     90d         50 cosine      3.739648    0.094203     0.175887  0.270396   \n",
       "     180d        50 cosine      5.272426    0.195652     0.180142  0.273944   \n",
       "     360d        50 cosine      9.580760    0.311594     0.184397  0.287051   \n",
       "     10Y         50 cosine      9.458922    0.362319     0.178723  0.265280   \n",
       "\n",
       "                                  map@5    time@10  knnUsage@10  precision@10  \\\n",
       "fold window_size k  metric                                                      \n",
       "0    7d          1  minkowski  0.225888   0.968648     0.550201      0.180000   \n",
       "     14d         1  minkowski  0.414671   2.046966     0.623016      0.186923   \n",
       "     30d         1  minkowski  0.417629   3.220958     0.781746      0.183077   \n",
       "     90d         1  minkowski  0.429721   8.072220     0.900794      0.186154   \n",
       "     180d        1  minkowski  0.395087  12.341484     0.970238      0.196923   \n",
       "...                                 ...        ...          ...           ...   \n",
       "9    30d         50 cosine     0.182667   1.172531     0.003698      0.154610   \n",
       "     90d         50 cosine     0.182533   2.820981     0.077663      0.154610   \n",
       "     180d        50 cosine     0.179263   5.385674     0.179734      0.155319   \n",
       "     360d        50 cosine     0.196764   4.809677     0.297337      0.156028   \n",
       "     10Y         50 cosine     0.176319   3.453159     0.349112      0.153191   \n",
       "\n",
       "                                ndcg@10    map@10  \n",
       "fold window_size k  metric                         \n",
       "0    7d          1  minkowski  0.392480  0.248820  \n",
       "     14d         1  minkowski  0.557521  0.472632  \n",
       "     30d         1  minkowski  0.543316  0.463583  \n",
       "     90d         1  minkowski  0.557877  0.469521  \n",
       "     180d        1  minkowski  0.578722  0.478153  \n",
       "...                                 ...       ...  \n",
       "9    30d         50 cosine     0.351872  0.236713  \n",
       "     90d         50 cosine     0.357878  0.242395  \n",
       "     180d        50 cosine     0.352425  0.234697  \n",
       "     360d        50 cosine     0.355482  0.236633  \n",
       "     10Y         50 cosine     0.347670  0.229738  \n",
       "\n",
       "[1960 rows x 10 columns]"
      ]
     },
     "execution_count": 353,
     "metadata": {},
     "output_type": "execute_result"
    }
   ],
   "source": [
    "from sklearn.model_selection import ParameterGrid\n",
    "from tqdm.contrib.concurrent import thread_map as tqdm_map\n",
    "# from joblib import Memory\n",
    "\n",
    "# memory = Memory('.cache')\n",
    "\n",
    "param_grid = ParameterGrid({\n",
    "    'fold': range(len(folds)),\n",
    "    'window_size': ['7d', '14d', '30d', '90d', '180d', '360d', '10Y'],\n",
    "    'k': [1,2,3,4,5,6,7,8,9,10,15,20,30,50],\n",
    "    'metric': ['minkowski', 'cosine'],\n",
    "})\n",
    "\n",
    "# @memory.cache\n",
    "def retDict(p):\n",
    "    @timeout(60, use_signals=True, exception_message=f\"Timeout testing {p}\")\n",
    "    def aux(p):\n",
    "        return testHParamsKNN(cpus=1, **p) | p\n",
    "\n",
    "    return aux(p)\n",
    "\n",
    "# TODO: Open the pickle file and do only the ones missing\n",
    "\n",
    "if not MDF_FILE.exists():\n",
    "    results = tqdm_map(retDict, param_grid, chunksize=4, tqdm_class=tqdm, max_workers=8)\n",
    "    # results = map(retDict, tqdm(param_grid))\n",
    "    mdf = pd.DataFrame(results).set_index(['fold', 'window_size', 'k', 'metric'])\n",
    "    mdf.to_pickle(MDF_FILE)\n",
    "else:\n",
    "    mdf = pd.read_pickle(MDF_FILE)\n",
    "mdf"
   ]
  },
  {
   "cell_type": "code",
   "execution_count": 354,
   "id": "a6f13d61-dc45-46a0-a380-adca195e142b",
   "metadata": {},
   "outputs": [],
   "source": [
    "KNN_ANALYZE_METRIC = 'map@10'"
   ]
  },
  {
   "cell_type": "code",
   "execution_count": 355,
   "id": "956e0a09-3b14-49ad-b212-96d6737ce76d",
   "metadata": {},
   "outputs": [
    {
     "data": {
      "text/html": [
       "<div>\n",
       "<style scoped>\n",
       "    .dataframe tbody tr th:only-of-type {\n",
       "        vertical-align: middle;\n",
       "    }\n",
       "\n",
       "    .dataframe tbody tr th {\n",
       "        vertical-align: top;\n",
       "    }\n",
       "\n",
       "    .dataframe thead th {\n",
       "        text-align: right;\n",
       "    }\n",
       "</style>\n",
       "<table border=\"1\" class=\"dataframe\">\n",
       "  <thead>\n",
       "    <tr style=\"text-align: right;\">\n",
       "      <th></th>\n",
       "      <th></th>\n",
       "      <th></th>\n",
       "      <th>time@5</th>\n",
       "      <th>knnUsage@5</th>\n",
       "      <th>precision@5</th>\n",
       "      <th>ndcg@5</th>\n",
       "      <th>map@5</th>\n",
       "      <th>time@10</th>\n",
       "      <th>knnUsage@10</th>\n",
       "      <th>precision@10</th>\n",
       "      <th>ndcg@10</th>\n",
       "      <th>map@10</th>\n",
       "    </tr>\n",
       "    <tr>\n",
       "      <th>k</th>\n",
       "      <th>window_size</th>\n",
       "      <th>metric</th>\n",
       "      <th></th>\n",
       "      <th></th>\n",
       "      <th></th>\n",
       "      <th></th>\n",
       "      <th></th>\n",
       "      <th></th>\n",
       "      <th></th>\n",
       "      <th></th>\n",
       "      <th></th>\n",
       "      <th></th>\n",
       "    </tr>\n",
       "  </thead>\n",
       "  <tbody>\n",
       "    <tr>\n",
       "      <th rowspan=\"2\" valign=\"top\">50</th>\n",
       "      <th rowspan=\"2\" valign=\"top\">7d</th>\n",
       "      <th>minkowski</th>\n",
       "      <td>0.832838</td>\n",
       "      <td>0.000000</td>\n",
       "      <td>0.233291</td>\n",
       "      <td>0.329927</td>\n",
       "      <td>0.224220</td>\n",
       "      <td>0.883168</td>\n",
       "      <td>0.000000</td>\n",
       "      <td>0.209448</td>\n",
       "      <td>0.438816</td>\n",
       "      <td>0.309276</td>\n",
       "    </tr>\n",
       "    <tr>\n",
       "      <th>cosine</th>\n",
       "      <td>0.794549</td>\n",
       "      <td>0.000000</td>\n",
       "      <td>0.233291</td>\n",
       "      <td>0.329927</td>\n",
       "      <td>0.224220</td>\n",
       "      <td>0.790496</td>\n",
       "      <td>0.000000</td>\n",
       "      <td>0.209448</td>\n",
       "      <td>0.438816</td>\n",
       "      <td>0.309276</td>\n",
       "    </tr>\n",
       "    <tr>\n",
       "      <th rowspan=\"2\" valign=\"top\">30</th>\n",
       "      <th rowspan=\"2\" valign=\"top\">7d</th>\n",
       "      <th>cosine</th>\n",
       "      <td>0.688094</td>\n",
       "      <td>0.000000</td>\n",
       "      <td>0.233291</td>\n",
       "      <td>0.329927</td>\n",
       "      <td>0.224220</td>\n",
       "      <td>0.756951</td>\n",
       "      <td>0.000000</td>\n",
       "      <td>0.209448</td>\n",
       "      <td>0.438816</td>\n",
       "      <td>0.309276</td>\n",
       "    </tr>\n",
       "    <tr>\n",
       "      <th>minkowski</th>\n",
       "      <td>0.720276</td>\n",
       "      <td>0.000000</td>\n",
       "      <td>0.233291</td>\n",
       "      <td>0.329927</td>\n",
       "      <td>0.224220</td>\n",
       "      <td>0.771003</td>\n",
       "      <td>0.000000</td>\n",
       "      <td>0.209448</td>\n",
       "      <td>0.438816</td>\n",
       "      <td>0.309276</td>\n",
       "    </tr>\n",
       "    <tr>\n",
       "      <th>20</th>\n",
       "      <th>7d</th>\n",
       "      <th>cosine</th>\n",
       "      <td>0.606002</td>\n",
       "      <td>0.008163</td>\n",
       "      <td>0.234021</td>\n",
       "      <td>0.331377</td>\n",
       "      <td>0.225795</td>\n",
       "      <td>0.722835</td>\n",
       "      <td>0.004875</td>\n",
       "      <td>0.209448</td>\n",
       "      <td>0.439227</td>\n",
       "      <td>0.309779</td>\n",
       "    </tr>\n",
       "    <tr>\n",
       "      <th>...</th>\n",
       "      <th>...</th>\n",
       "      <th>...</th>\n",
       "      <td>...</td>\n",
       "      <td>...</td>\n",
       "      <td>...</td>\n",
       "      <td>...</td>\n",
       "      <td>...</td>\n",
       "      <td>...</td>\n",
       "      <td>...</td>\n",
       "      <td>...</td>\n",
       "      <td>...</td>\n",
       "      <td>...</td>\n",
       "    </tr>\n",
       "    <tr>\n",
       "      <th>4</th>\n",
       "      <th>360d</th>\n",
       "      <th>cosine</th>\n",
       "      <td>15.386094</td>\n",
       "      <td>0.918966</td>\n",
       "      <td>0.283625</td>\n",
       "      <td>0.448252</td>\n",
       "      <td>0.349655</td>\n",
       "      <td>15.639063</td>\n",
       "      <td>0.911556</td>\n",
       "      <td>0.223813</td>\n",
       "      <td>0.541021</td>\n",
       "      <td>0.429605</td>\n",
       "    </tr>\n",
       "    <tr>\n",
       "      <th>7</th>\n",
       "      <th>10Y</th>\n",
       "      <th>cosine</th>\n",
       "      <td>19.330522</td>\n",
       "      <td>0.885565</td>\n",
       "      <td>0.283815</td>\n",
       "      <td>0.441932</td>\n",
       "      <td>0.344261</td>\n",
       "      <td>19.315611</td>\n",
       "      <td>0.875625</td>\n",
       "      <td>0.227508</td>\n",
       "      <td>0.546584</td>\n",
       "      <td>0.430573</td>\n",
       "    </tr>\n",
       "    <tr>\n",
       "      <th>3</th>\n",
       "      <th>180d</th>\n",
       "      <th>minkowski</th>\n",
       "      <td>11.680035</td>\n",
       "      <td>0.899324</td>\n",
       "      <td>0.289848</td>\n",
       "      <td>0.453156</td>\n",
       "      <td>0.350972</td>\n",
       "      <td>11.341118</td>\n",
       "      <td>0.890887</td>\n",
       "      <td>0.226836</td>\n",
       "      <td>0.545214</td>\n",
       "      <td>0.430774</td>\n",
       "    </tr>\n",
       "    <tr>\n",
       "      <th rowspan=\"2\" valign=\"top\">1</th>\n",
       "      <th rowspan=\"2\" valign=\"top\">360d</th>\n",
       "      <th>minkowski</th>\n",
       "      <td>16.195437</td>\n",
       "      <td>0.988578</td>\n",
       "      <td>0.286553</td>\n",
       "      <td>0.454984</td>\n",
       "      <td>0.355785</td>\n",
       "      <td>15.612735</td>\n",
       "      <td>0.987828</td>\n",
       "      <td>0.226860</td>\n",
       "      <td>0.546750</td>\n",
       "      <td>0.433791</td>\n",
       "    </tr>\n",
       "    <tr>\n",
       "      <th>cosine</th>\n",
       "      <td>15.596746</td>\n",
       "      <td>0.988578</td>\n",
       "      <td>0.283320</td>\n",
       "      <td>0.448233</td>\n",
       "      <td>0.351168</td>\n",
       "      <td>15.725109</td>\n",
       "      <td>0.987828</td>\n",
       "      <td>0.227516</td>\n",
       "      <td>0.555119</td>\n",
       "      <td>0.439605</td>\n",
       "    </tr>\n",
       "  </tbody>\n",
       "</table>\n",
       "<p>196 rows × 10 columns</p>\n",
       "</div>"
      ],
      "text/plain": [
       "                             time@5  knnUsage@5  precision@5    ndcg@5  \\\n",
       "k  window_size metric                                                    \n",
       "50 7d          minkowski   0.832838    0.000000     0.233291  0.329927   \n",
       "               cosine      0.794549    0.000000     0.233291  0.329927   \n",
       "30 7d          cosine      0.688094    0.000000     0.233291  0.329927   \n",
       "               minkowski   0.720276    0.000000     0.233291  0.329927   \n",
       "20 7d          cosine      0.606002    0.008163     0.234021  0.331377   \n",
       "...                             ...         ...          ...       ...   \n",
       "4  360d        cosine     15.386094    0.918966     0.283625  0.448252   \n",
       "7  10Y         cosine     19.330522    0.885565     0.283815  0.441932   \n",
       "3  180d        minkowski  11.680035    0.899324     0.289848  0.453156   \n",
       "1  360d        minkowski  16.195437    0.988578     0.286553  0.454984   \n",
       "               cosine     15.596746    0.988578     0.283320  0.448233   \n",
       "\n",
       "                             map@5    time@10  knnUsage@10  precision@10  \\\n",
       "k  window_size metric                                                      \n",
       "50 7d          minkowski  0.224220   0.883168     0.000000      0.209448   \n",
       "               cosine     0.224220   0.790496     0.000000      0.209448   \n",
       "30 7d          cosine     0.224220   0.756951     0.000000      0.209448   \n",
       "               minkowski  0.224220   0.771003     0.000000      0.209448   \n",
       "20 7d          cosine     0.225795   0.722835     0.004875      0.209448   \n",
       "...                            ...        ...          ...           ...   \n",
       "4  360d        cosine     0.349655  15.639063     0.911556      0.223813   \n",
       "7  10Y         cosine     0.344261  19.315611     0.875625      0.227508   \n",
       "3  180d        minkowski  0.350972  11.341118     0.890887      0.226836   \n",
       "1  360d        minkowski  0.355785  15.612735     0.987828      0.226860   \n",
       "               cosine     0.351168  15.725109     0.987828      0.227516   \n",
       "\n",
       "                           ndcg@10    map@10  \n",
       "k  window_size metric                         \n",
       "50 7d          minkowski  0.438816  0.309276  \n",
       "               cosine     0.438816  0.309276  \n",
       "30 7d          cosine     0.438816  0.309276  \n",
       "               minkowski  0.438816  0.309276  \n",
       "20 7d          cosine     0.439227  0.309779  \n",
       "...                            ...       ...  \n",
       "4  360d        cosine     0.541021  0.429605  \n",
       "7  10Y         cosine     0.546584  0.430573  \n",
       "3  180d        minkowski  0.545214  0.430774  \n",
       "1  360d        minkowski  0.546750  0.433791  \n",
       "               cosine     0.555119  0.439605  \n",
       "\n",
       "[196 rows x 10 columns]"
      ]
     },
     "execution_count": 355,
     "metadata": {},
     "output_type": "execute_result"
    }
   ],
   "source": [
    "mdf_mean = mdf.groupby(['k', 'window_size', 'metric']).mean()\n",
    "mdf_mean.sort_values(KNN_ANALYZE_METRIC)"
   ]
  },
  {
   "cell_type": "markdown",
   "id": "dd8b95be-aa09-41e3-b912-1604551324ee",
   "metadata": {},
   "source": [
    "### Plotting"
   ]
  },
  {
   "cell_type": "code",
   "execution_count": 356,
   "id": "36a3e63c-2974-46bb-8834-c8123e05f233",
   "metadata": {},
   "outputs": [
    {
     "data": {
      "text/html": [
       "<div>\n",
       "<style scoped>\n",
       "    .dataframe tbody tr th:only-of-type {\n",
       "        vertical-align: middle;\n",
       "    }\n",
       "\n",
       "    .dataframe tbody tr th {\n",
       "        vertical-align: top;\n",
       "    }\n",
       "\n",
       "    .dataframe thead tr th {\n",
       "        text-align: left;\n",
       "    }\n",
       "\n",
       "    .dataframe thead tr:last-of-type th {\n",
       "        text-align: right;\n",
       "    }\n",
       "</style>\n",
       "<table border=\"1\" class=\"dataframe\">\n",
       "  <thead>\n",
       "    <tr>\n",
       "      <th></th>\n",
       "      <th></th>\n",
       "      <th></th>\n",
       "      <th colspan=\"2\" halign=\"left\">map@10</th>\n",
       "      <th colspan=\"2\" halign=\"left\">map@5</th>\n",
       "      <th colspan=\"2\" halign=\"left\">time@10</th>\n",
       "    </tr>\n",
       "    <tr>\n",
       "      <th></th>\n",
       "      <th></th>\n",
       "      <th></th>\n",
       "      <th>mean</th>\n",
       "      <th>std</th>\n",
       "      <th>mean</th>\n",
       "      <th>std</th>\n",
       "      <th>mean</th>\n",
       "      <th>std</th>\n",
       "    </tr>\n",
       "    <tr>\n",
       "      <th>window_size</th>\n",
       "      <th>k</th>\n",
       "      <th>metric</th>\n",
       "      <th></th>\n",
       "      <th></th>\n",
       "      <th></th>\n",
       "      <th></th>\n",
       "      <th></th>\n",
       "      <th></th>\n",
       "    </tr>\n",
       "  </thead>\n",
       "  <tbody>\n",
       "    <tr>\n",
       "      <th rowspan=\"2\" valign=\"top\">360d</th>\n",
       "      <th rowspan=\"2\" valign=\"top\">1</th>\n",
       "      <th>cosine</th>\n",
       "      <td>0.439605</td>\n",
       "      <td>0.107990</td>\n",
       "      <td>0.351168</td>\n",
       "      <td>0.098000</td>\n",
       "      <td>15.725109</td>\n",
       "      <td>3.136086</td>\n",
       "    </tr>\n",
       "    <tr>\n",
       "      <th>minkowski</th>\n",
       "      <td>0.433791</td>\n",
       "      <td>0.100085</td>\n",
       "      <td>0.355785</td>\n",
       "      <td>0.099384</td>\n",
       "      <td>15.612735</td>\n",
       "      <td>3.121070</td>\n",
       "    </tr>\n",
       "    <tr>\n",
       "      <th>180d</th>\n",
       "      <th>3</th>\n",
       "      <th>minkowski</th>\n",
       "      <td>0.430774</td>\n",
       "      <td>0.118749</td>\n",
       "      <td>0.350972</td>\n",
       "      <td>0.111552</td>\n",
       "      <td>11.341118</td>\n",
       "      <td>2.457023</td>\n",
       "    </tr>\n",
       "    <tr>\n",
       "      <th>10Y</th>\n",
       "      <th>7</th>\n",
       "      <th>cosine</th>\n",
       "      <td>0.430573</td>\n",
       "      <td>0.110461</td>\n",
       "      <td>0.344261</td>\n",
       "      <td>0.105013</td>\n",
       "      <td>19.315611</td>\n",
       "      <td>3.958432</td>\n",
       "    </tr>\n",
       "    <tr>\n",
       "      <th>360d</th>\n",
       "      <th>4</th>\n",
       "      <th>cosine</th>\n",
       "      <td>0.429605</td>\n",
       "      <td>0.110728</td>\n",
       "      <td>0.349655</td>\n",
       "      <td>0.097980</td>\n",
       "      <td>15.639063</td>\n",
       "      <td>3.545264</td>\n",
       "    </tr>\n",
       "    <tr>\n",
       "      <th>180d</th>\n",
       "      <th>4</th>\n",
       "      <th>cosine</th>\n",
       "      <td>0.428635</td>\n",
       "      <td>0.104092</td>\n",
       "      <td>0.352580</td>\n",
       "      <td>0.111217</td>\n",
       "      <td>11.686143</td>\n",
       "      <td>2.343084</td>\n",
       "    </tr>\n",
       "    <tr>\n",
       "      <th rowspan=\"2\" valign=\"top\">360d</th>\n",
       "      <th>5</th>\n",
       "      <th>cosine</th>\n",
       "      <td>0.427873</td>\n",
       "      <td>0.110003</td>\n",
       "      <td>0.339108</td>\n",
       "      <td>0.098762</td>\n",
       "      <td>15.175097</td>\n",
       "      <td>3.344888</td>\n",
       "    </tr>\n",
       "    <tr>\n",
       "      <th>2</th>\n",
       "      <th>cosine</th>\n",
       "      <td>0.427609</td>\n",
       "      <td>0.102956</td>\n",
       "      <td>0.356813</td>\n",
       "      <td>0.099350</td>\n",
       "      <td>15.964202</td>\n",
       "      <td>3.899830</td>\n",
       "    </tr>\n",
       "    <tr>\n",
       "      <th>10Y</th>\n",
       "      <th>1</th>\n",
       "      <th>minkowski</th>\n",
       "      <td>0.427529</td>\n",
       "      <td>0.096159</td>\n",
       "      <td>0.358962</td>\n",
       "      <td>0.094087</td>\n",
       "      <td>19.237392</td>\n",
       "      <td>4.520077</td>\n",
       "    </tr>\n",
       "    <tr>\n",
       "      <th>180d</th>\n",
       "      <th>2</th>\n",
       "      <th>minkowski</th>\n",
       "      <td>0.427216</td>\n",
       "      <td>0.103948</td>\n",
       "      <td>0.341427</td>\n",
       "      <td>0.104965</td>\n",
       "      <td>11.312012</td>\n",
       "      <td>2.552833</td>\n",
       "    </tr>\n",
       "  </tbody>\n",
       "</table>\n",
       "</div>"
      ],
      "text/plain": [
       "                           map@10               map@5              time@10  \\\n",
       "                             mean       std      mean       std       mean   \n",
       "window_size k metric                                                         \n",
       "360d        1 cosine     0.439605  0.107990  0.351168  0.098000  15.725109   \n",
       "              minkowski  0.433791  0.100085  0.355785  0.099384  15.612735   \n",
       "180d        3 minkowski  0.430774  0.118749  0.350972  0.111552  11.341118   \n",
       "10Y         7 cosine     0.430573  0.110461  0.344261  0.105013  19.315611   \n",
       "360d        4 cosine     0.429605  0.110728  0.349655  0.097980  15.639063   \n",
       "180d        4 cosine     0.428635  0.104092  0.352580  0.111217  11.686143   \n",
       "360d        5 cosine     0.427873  0.110003  0.339108  0.098762  15.175097   \n",
       "            2 cosine     0.427609  0.102956  0.356813  0.099350  15.964202   \n",
       "10Y         1 minkowski  0.427529  0.096159  0.358962  0.094087  19.237392   \n",
       "180d        2 minkowski  0.427216  0.103948  0.341427  0.104965  11.312012   \n",
       "\n",
       "                                   \n",
       "                              std  \n",
       "window_size k metric               \n",
       "360d        1 cosine     3.136086  \n",
       "              minkowski  3.121070  \n",
       "180d        3 minkowski  2.457023  \n",
       "10Y         7 cosine     3.958432  \n",
       "360d        4 cosine     3.545264  \n",
       "180d        4 cosine     2.343084  \n",
       "360d        5 cosine     3.344888  \n",
       "            2 cosine     3.899830  \n",
       "10Y         1 minkowski  4.520077  \n",
       "180d        2 minkowski  2.552833  "
      ]
     },
     "execution_count": 356,
     "metadata": {},
     "output_type": "execute_result"
    }
   ],
   "source": [
    "cols = [KNN_ANALYZE_METRIC, 'map@5', 'time@10']\n",
    "\n",
    "(mdf\n",
    " .groupby(['window_size', 'k', 'metric'])[cols]\n",
    " .describe()\n",
    " .sort_values((KNN_ANALYZE_METRIC, 'mean'), ascending=False)\n",
    " .loc[:, (slice(None), ['mean', 'std'])]\n",
    " .head(10)\n",
    ")"
   ]
  },
  {
   "cell_type": "code",
   "execution_count": 357,
   "id": "2c42b8eb-c657-4192-a2df-33fb7cd01c45",
   "metadata": {},
   "outputs": [
    {
     "data": {
      "application/vnd.jupyter.widget-view+json": {
       "model_id": "9c4af967b955414d8ffedf7c6ea9f28e",
       "version_major": 2,
       "version_minor": 0
      },
      "text/html": [
       "Cannot show widget. You probably want to rerun the code cell above (<i>Click in the code cell, and press Shift+Enter <kbd>⇧</kbd>+<kbd>↩</kbd></i>)."
      ],
      "text/plain": [
       "Cannot show ipywidgets in text"
      ]
     },
     "metadata": {},
     "output_type": "display_data"
    },
    {
     "data": {
      "image/png": "[encoded data removed]",
      "text/plain": [
       "<Figure size 640x480 with 1 Axes>"
      ]
     },
     "metadata": {},
     "output_type": "display_data"
    }
   ],
   "source": [
    "import matplotlib.ticker as mtick\n",
    "\n",
    "ax = (mdf.groupby('k')[['knnUsage@5', 'knnUsage@10']].mean()*100).plot(style='.-')\n",
    "ax.set_ylim((0, 100))\n",
    "ax.yaxis.set_major_formatter(mtick.PercentFormatter())\n",
    "nbutils.download_matplotlib(ax.figure, f'11_knn_usage_k_{SPLITS_FREQ}_normalize={SPLITS_NORMALIZE}.pdf')"
   ]
  },
  {
   "cell_type": "code",
   "execution_count": 358,
   "id": "3e873d3f-b953-4d62-978a-5159a9f5db32",
   "metadata": {},
   "outputs": [
    {
     "data": {
      "application/vnd.jupyter.widget-view+json": {
       "model_id": "5f6f3ad70c9e4797b20ed4b454e47c37",
       "version_major": 2,
       "version_minor": 0
      },
      "text/html": [
       "Cannot show widget. You probably want to rerun the code cell above (<i>Click in the code cell, and press Shift+Enter <kbd>⇧</kbd>+<kbd>↩</kbd></i>)."
      ],
      "text/plain": [
       "Cannot show ipywidgets in text"
      ]
     },
     "metadata": {},
     "output_type": "display_data"
    },
    {
     "data": {
      "image/png": "[encoded data removed]",
      "text/plain": [
       "<Figure size 640x480 with 1 Axes>"
      ]
     },
     "metadata": {},
     "output_type": "display_data"
    }
   ],
   "source": [
    "order = param_grid.param_grid[0]['window_size']\n",
    "_toplot = (mdf.groupby('window_size')[['knnUsage@5', 'knnUsage@10']].mean()*100).loc[order]\n",
    "\n",
    "ax = _toplot.plot(style='.-')\n",
    "ax.set_ylim((0, 100))\n",
    "ax.set_xlabel('Tamaño de ventana')\n",
    "ax.yaxis.set_major_formatter(mtick.PercentFormatter())\n",
    "nbutils.download_matplotlib(ax.figure, f'11_knn_usage_window_size_{SPLITS_FREQ}_normalize={SPLITS_NORMALIZE}.pdf')"
   ]
  },
  {
   "cell_type": "code",
   "execution_count": 359,
   "id": "ef45fdab-aab6-4c13-b974-5c543d41fcb3",
   "metadata": {},
   "outputs": [
    {
     "name": "stderr",
     "output_type": "stream",
     "text": [
      "/tmp/ipykernel_4063225/3185427442.py:2: FutureWarning:\n",
      "\n",
      "Units 'M', 'Y' and 'y' do not represent unambiguous timedelta values and will be removed in a future version.\n",
      "\n"
     ]
    },
    {
     "data": {
      "application/vnd.jupyter.widget-view+json": {
       "model_id": "278ae59520bd483aafd3f2569c2fc504",
       "version_major": 2,
       "version_minor": 0
      },
      "text/html": [
       "Cannot show widget. You probably want to rerun the code cell above (<i>Click in the code cell, and press Shift+Enter <kbd>⇧</kbd>+<kbd>↩</kbd></i>)."
      ],
      "text/plain": [
       "Cannot show ipywidgets in text"
      ]
     },
     "metadata": {},
     "output_type": "display_data"
    },
    {
     "data": {
      "application/vnd.plotly.v1+json": {
       "config": {
        "plotlyServerURL": "https://plot.ly"
       },
       "data": [
        {
         "customdata": [
          [
           1.7233504549600185
          ],
          [
           1.574660769570619
          ],
          [
           1.33102560993284
          ],
          [
           1.4248072526417672
          ],
          [
           1.3987202141433954
          ],
          [
           1.2264560706913472
          ],
          [
           1.2046916138380765
          ],
          [
           1.0274096178822218
          ],
          [
           1.0253960055299103
          ],
          [
           1.0573511805385352
          ],
          [
           0.8747601386159658
          ],
          [
           0.7228346177376807
          ],
          [
           0.7569508627988398
          ],
          [
           0.7904961953870953
          ]
         ],
         "hovertemplate": "window_size=7d<br>metric=cosine<br>k=%{x}<br>map@10=%{y}<br>time@10=%{customdata[0]}<extra></extra>",
         "legendgroup": "7d, cosine",
         "line": {
          "color": "#636efa",
          "dash": "solid"
         },
         "marker": {
          "symbol": "circle"
         },
         "mode": "lines+markers",
         "name": "7d, cosine",
         "orientation": "v",
         "showlegend": true,
         "type": "scatter",
         "x": [
          1,
          2,
          3,
          4,
          5,
          6,
          7,
          8,
          9,
          10,
          15,
          20,
          30,
          50
         ],
         "xaxis": "x",
         "y": [
          0.3304107387791609,
          0.32561196820182453,
          0.3275439319203723,
          0.3278049216349622,
          0.3270445484438798,
          0.3280946109518444,
          0.32967643293112425,
          0.329828377568396,
          0.3256791883403222,
          0.32632905472387086,
          0.3143163179069195,
          0.30977949213441525,
          0.30927595741691966,
          0.30927595741691966
         ],
         "yaxis": "y"
        },
        {
         "customdata": [
          [
           1.8281465074978769
          ],
          [
           1.4442206397652626
          ],
          [
           1.3483401994220912
          ],
          [
           1.3118771226145327
          ],
          [
           1.304921315331012
          ],
          [
           1.1186654021963478
          ],
          [
           1.2380588517524302
          ],
          [
           1.0595832409337163
          ],
          [
           1.2201411255635322
          ],
          [
           1.0336622580885888
          ],
          [
           0.7620903335511684
          ],
          [
           0.8263669408857822
          ],
          [
           0.7710032369941473
          ],
          [
           0.8831678208895027
          ]
         ],
         "hovertemplate": "window_size=7d<br>metric=minkowski<br>k=%{x}<br>map@10=%{y}<br>time@10=%{customdata[0]}<extra></extra>",
         "legendgroup": "7d, minkowski",
         "line": {
          "color": "#636efa",
          "dash": "dot"
         },
         "marker": {
          "symbol": "circle"
         },
         "mode": "lines+markers",
         "name": "7d, minkowski",
         "orientation": "v",
         "showlegend": true,
         "type": "scatter",
         "x": [
          1,
          2,
          3,
          4,
          5,
          6,
          7,
          8,
          9,
          10,
          15,
          20,
          30,
          50
         ],
         "xaxis": "x",
         "y": [
          0.3318170405723903,
          0.3263091676288245,
          0.333531626338213,
          0.32385686004801795,
          0.3294032265576263,
          0.3314533296338976,
          0.33117963974688724,
          0.3313699343198763,
          0.3258062900835621,
          0.3211183443925865,
          0.3144048184728453,
          0.3098307359837177,
          0.30927595741691966,
          0.30927595741691966
         ],
         "yaxis": "y"
        },
        {
         "customdata": [
          [
           2.1576637882739305
          ],
          [
           2.0773160740733148
          ],
          [
           2.102060118690133
          ],
          [
           1.9729571864008904
          ],
          [
           1.6406605479307472
          ],
          [
           1.7644430858083069
          ],
          [
           1.79559725234285
          ],
          [
           1.5145757003687321
          ],
          [
           1.6411527398973704
          ],
          [
           1.5136448808945715
          ],
          [
           1.4926979110576213
          ],
          [
           1.345590405818075
          ],
          [
           0.8532597901299596
          ],
          [
           0.8088277341797948
          ]
         ],
         "hovertemplate": "window_size=14d<br>metric=cosine<br>k=%{x}<br>map@10=%{y}<br>time@10=%{customdata[0]}<extra></extra>",
         "legendgroup": "14d, cosine",
         "line": {
          "color": "#EF553B",
          "dash": "solid"
         },
         "marker": {
          "symbol": "circle"
         },
         "mode": "lines+markers",
         "name": "14d, cosine",
         "orientation": "v",
         "showlegend": true,
         "type": "scatter",
         "x": [
          1,
          2,
          3,
          4,
          5,
          6,
          7,
          8,
          9,
          10,
          15,
          20,
          30,
          50
         ],
         "xaxis": "x",
         "y": [
          0.4096818484602438,
          0.4000189064320012,
          0.3913080900879605,
          0.3866282220543466,
          0.38335551389086187,
          0.3796865194015029,
          0.37768350130675776,
          0.3738598381372728,
          0.37259222282753546,
          0.3681101642909312,
          0.3605528496138765,
          0.34632729021108394,
          0.3360733706210091,
          0.33603093347459145
         ],
         "yaxis": "y"
        },
        {
         "customdata": [
          [
           2.347890132851899
          ],
          [
           2.097573500033468
          ],
          [
           1.844048313330859
          ],
          [
           1.7137277899309993
          ],
          [
           1.7561558150686323
          ],
          [
           1.7198288920335472
          ],
          [
           1.7264155155979097
          ],
          [
           1.6681214798241855
          ],
          [
           1.6955023300834
          ],
          [
           1.7127936497330665
          ],
          [
           1.3812549321912229
          ],
          [
           1.4398849490098655
          ],
          [
           0.9960252944380045
          ],
          [
           0.7685238079167902
          ]
         ],
         "hovertemplate": "window_size=14d<br>metric=minkowski<br>k=%{x}<br>map@10=%{y}<br>time@10=%{customdata[0]}<extra></extra>",
         "legendgroup": "14d, minkowski",
         "line": {
          "color": "#EF553B",
          "dash": "dot"
         },
         "marker": {
          "symbol": "circle"
         },
         "mode": "lines+markers",
         "name": "14d, minkowski",
         "orientation": "v",
         "showlegend": true,
         "type": "scatter",
         "x": [
          1,
          2,
          3,
          4,
          5,
          6,
          7,
          8,
          9,
          10,
          15,
          20,
          30,
          50
         ],
         "xaxis": "x",
         "y": [
          0.4089341773969798,
          0.4015849886802273,
          0.3902009228836546,
          0.3858351832023839,
          0.3871080137085259,
          0.3824707058748835,
          0.3803132720248499,
          0.37117609863879475,
          0.36984647577602453,
          0.3686486109310344,
          0.36419065042916293,
          0.3442313661730054,
          0.3363117358083539,
          0.33603093347459145
         ],
         "yaxis": "y"
        },
        {
         "customdata": [
          [
           3.555345114972442
          ],
          [
           3.1575817635282872
          ],
          [
           3.063257838971913
          ],
          [
           3.2219589069485663
          ],
          [
           3.0113318814896046
          ],
          [
           3.0213981261476874
          ],
          [
           2.8576831022277474
          ],
          [
           2.90124844443053
          ],
          [
           2.890320618171245
          ],
          [
           2.6724448326975105
          ],
          [
           2.813689655251801
          ],
          [
           2.5869003023020922
          ],
          [
           2.5821230290457606
          ],
          [
           1.6919264181517064
          ]
         ],
         "hovertemplate": "window_size=30d<br>metric=cosine<br>k=%{x}<br>map@10=%{y}<br>time@10=%{customdata[0]}<extra></extra>",
         "legendgroup": "30d, cosine",
         "line": {
          "color": "#00cc96",
          "dash": "solid"
         },
         "marker": {
          "symbol": "circle"
         },
         "mode": "lines+markers",
         "name": "30d, cosine",
         "orientation": "v",
         "showlegend": true,
         "type": "scatter",
         "x": [
          1,
          2,
          3,
          4,
          5,
          6,
          7,
          8,
          9,
          10,
          15,
          20,
          30,
          50
         ],
         "xaxis": "x",
         "y": [
          0.4228028191187172,
          0.4117299003665954,
          0.40241090886434633,
          0.40101821006581784,
          0.3971927322739273,
          0.39430452125097054,
          0.39327656387094645,
          0.39126634853593056,
          0.38581875853775166,
          0.39139435830371483,
          0.3779132643674674,
          0.37029929452743227,
          0.3635364941127429,
          0.3437010671802281
         ],
         "yaxis": "y"
        },
        {
         "customdata": [
          [
           3.4012560824863614
          ],
          [
           3.329757156595588
          ],
          [
           2.8518639845773577
          ],
          [
           2.992416557576507
          ],
          [
           3.2368504012003543
          ],
          [
           2.6075453443452714
          ],
          [
           2.9176663191057743
          ],
          [
           2.8385644980706273
          ],
          [
           2.63189842319116
          ],
          [
           2.709893052559346
          ],
          [
           2.4638870956376193
          ],
          [
           2.5001315367408097
          ],
          [
           2.440982384607196
          ],
          [
           1.4640399322845041
          ]
         ],
         "hovertemplate": "window_size=30d<br>metric=minkowski<br>k=%{x}<br>map@10=%{y}<br>time@10=%{customdata[0]}<extra></extra>",
         "legendgroup": "30d, minkowski",
         "line": {
          "color": "#00cc96",
          "dash": "dot"
         },
         "marker": {
          "symbol": "circle"
         },
         "mode": "lines+markers",
         "name": "30d, minkowski",
         "orientation": "v",
         "showlegend": true,
         "type": "scatter",
         "x": [
          1,
          2,
          3,
          4,
          5,
          6,
          7,
          8,
          9,
          10,
          15,
          20,
          30,
          50
         ],
         "xaxis": "x",
         "y": [
          0.41864322167371404,
          0.41466237978646764,
          0.40169234144952365,
          0.3997291203327996,
          0.3960674757072177,
          0.3934067123580717,
          0.3916596846328022,
          0.3904224955469414,
          0.38635773211892577,
          0.39013731618050346,
          0.3814486823532358,
          0.3718581101487775,
          0.3621919593607844,
          0.34480994190193737
         ],
         "yaxis": "y"
        },
        {
         "customdata": [
          [
           7.359145320765674
          ],
          [
           7.1847533449530605
          ],
          [
           6.704701404832304
          ],
          [
           6.785480307973922
          ],
          [
           7.308088969066739
          ],
          [
           7.060663179866969
          ],
          [
           6.9050516133196655
          ],
          [
           6.819227076135576
          ],
          [
           7.199353366158903
          ],
          [
           6.745343926455826
          ],
          [
           6.64638166250661
          ],
          [
           6.760197397135198
          ],
          [
           6.287543035298586
          ],
          [
           5.767987897992134
          ]
         ],
         "hovertemplate": "window_size=90d<br>metric=cosine<br>k=%{x}<br>map@10=%{y}<br>time@10=%{customdata[0]}<extra></extra>",
         "legendgroup": "90d, cosine",
         "line": {
          "color": "#ab63fa",
          "dash": "solid"
         },
         "marker": {
          "symbol": "circle"
         },
         "mode": "lines+markers",
         "name": "90d, cosine",
         "orientation": "v",
         "showlegend": true,
         "type": "scatter",
         "x": [
          1,
          2,
          3,
          4,
          5,
          6,
          7,
          8,
          9,
          10,
          15,
          20,
          30,
          50
         ],
         "xaxis": "x",
         "y": [
          0.4226973647642451,
          0.41563337858465677,
          0.408776076960139,
          0.4111134022670721,
          0.40838198449594626,
          0.40692028362038346,
          0.4071273189899863,
          0.40582481862506387,
          0.3994267856511697,
          0.4000147196441457,
          0.4000475750509521,
          0.39057799243072827,
          0.38237027191916306,
          0.3760256448035345
         ],
         "yaxis": "y"
        },
        {
         "customdata": [
          [
           7.0333845051936805
          ],
          [
           7.216507998947054
          ],
          [
           7.041688275989145
          ],
          [
           7.0071407072246075
          ],
          [
           6.986007203813642
          ],
          [
           6.91073179077357
          ],
          [
           6.765252381749451
          ],
          [
           6.896701627317816
          ],
          [
           6.6897087038494645
          ],
          [
           6.613957749307156
          ],
          [
           6.798837112635374
          ],
          [
           6.332691470254213
          ],
          [
           6.072243580128998
          ],
          [
           6.0462991607375445
          ]
         ],
         "hovertemplate": "window_size=90d<br>metric=minkowski<br>k=%{x}<br>map@10=%{y}<br>time@10=%{customdata[0]}<extra></extra>",
         "legendgroup": "90d, minkowski",
         "line": {
          "color": "#ab63fa",
          "dash": "dot"
         },
         "marker": {
          "symbol": "circle"
         },
         "mode": "lines+markers",
         "name": "90d, minkowski",
         "orientation": "v",
         "showlegend": true,
         "type": "scatter",
         "x": [
          1,
          2,
          3,
          4,
          5,
          6,
          7,
          8,
          9,
          10,
          15,
          20,
          30,
          50
         ],
         "xaxis": "x",
         "y": [
          0.42002776225781907,
          0.4115234723207462,
          0.4049349189615256,
          0.41189454181896074,
          0.4147604987179695,
          0.4139650650355161,
          0.4090160094649543,
          0.4031522557179089,
          0.39863068367708926,
          0.40548786364708694,
          0.3979781256576953,
          0.3863690483305603,
          0.3874048307353128,
          0.378862837743772
         ],
         "yaxis": "y"
        },
        {
         "customdata": [
          [
           12.295077595859766
          ],
          [
           11.665457840915769
          ],
          [
           11.988229922112078
          ],
          [
           11.686143076512963
          ],
          [
           11.882137871533633
          ],
          [
           11.817138542141766
          ],
          [
           12.044304011762142
          ],
          [
           11.689787620212883
          ],
          [
           10.98167039481923
          ],
          [
           11.487770171742886
          ],
          [
           11.456656578648836
          ],
          [
           11.2601293486543
          ],
          [
           10.981829223502427
          ],
          [
           9.336965312436224
          ]
         ],
         "hovertemplate": "window_size=180d<br>metric=cosine<br>k=%{x}<br>map@10=%{y}<br>time@10=%{customdata[0]}<extra></extra>",
         "legendgroup": "180d, cosine",
         "line": {
          "color": "#FFA15A",
          "dash": "solid"
         },
         "marker": {
          "symbol": "circle"
         },
         "mode": "lines+markers",
         "name": "180d, cosine",
         "orientation": "v",
         "showlegend": true,
         "type": "scatter",
         "x": [
          1,
          2,
          3,
          4,
          5,
          6,
          7,
          8,
          9,
          10,
          15,
          20,
          30,
          50
         ],
         "xaxis": "x",
         "y": [
          0.42357408674777053,
          0.4264521049073259,
          0.4247123700326571,
          0.4286346449580517,
          0.41570089235004487,
          0.4148473044351788,
          0.41379867220120614,
          0.41349845126959917,
          0.4133403594230022,
          0.4176994132316195,
          0.40672887067804153,
          0.4013379600063665,
          0.3985205680255496,
          0.38938127432347136
         ],
         "yaxis": "y"
        },
        {
         "customdata": [
          [
           11.866029802989214
          ],
          [
           11.312011643964798
          ],
          [
           11.341117989551275
          ],
          [
           11.195990147255362
          ],
          [
           11.715375982876868
          ],
          [
           11.265082259103655
          ],
          [
           11.48200811650604
          ],
          [
           11.525180432386696
          ],
          [
           11.5300790887326
          ],
          [
           11.41002843985334
          ],
          [
           11.115384170040489
          ],
          [
           11.224514396302402
          ],
          [
           11.44841874288395
          ],
          [
           9.947186074685305
          ]
         ],
         "hovertemplate": "window_size=180d<br>metric=minkowski<br>k=%{x}<br>map@10=%{y}<br>time@10=%{customdata[0]}<extra></extra>",
         "legendgroup": "180d, minkowski",
         "line": {
          "color": "#FFA15A",
          "dash": "dot"
         },
         "marker": {
          "symbol": "circle"
         },
         "mode": "lines+markers",
         "name": "180d, minkowski",
         "orientation": "v",
         "showlegend": true,
         "type": "scatter",
         "x": [
          1,
          2,
          3,
          4,
          5,
          6,
          7,
          8,
          9,
          10,
          15,
          20,
          30,
          50
         ],
         "xaxis": "x",
         "y": [
          0.4255092191972107,
          0.42721629397203253,
          0.4307744908144331,
          0.4221814438738979,
          0.41163393311431296,
          0.4095910011001528,
          0.41721604645907984,
          0.4064219397102489,
          0.4130041306521347,
          0.4187836496479461,
          0.40151854921491187,
          0.3936513649758205,
          0.3902500235691203,
          0.3811379962321877
         ],
         "yaxis": "y"
        },
        {
         "customdata": [
          [
           15.72510885251686
          ],
          [
           15.964202428143471
          ],
          [
           15.647385509498417
          ],
          [
           15.639062816370279
          ],
          [
           15.175097253825516
          ],
          [
           15.098714240454138
          ],
          [
           16.12874068170786
          ],
          [
           15.647757661156357
          ],
          [
           15.572972354479134
          ],
          [
           15.83481302158907
          ],
          [
           15.84200799781829
          ],
          [
           15.376274942141027
          ],
          [
           14.933221978042274
          ],
          [
           12.899231475684791
          ]
         ],
         "hovertemplate": "window_size=360d<br>metric=cosine<br>k=%{x}<br>map@10=%{y}<br>time@10=%{customdata[0]}<extra></extra>",
         "legendgroup": "360d, cosine",
         "line": {
          "color": "#19d3f3",
          "dash": "solid"
         },
         "marker": {
          "symbol": "circle"
         },
         "mode": "lines+markers",
         "name": "360d, cosine",
         "orientation": "v",
         "showlegend": true,
         "type": "scatter",
         "x": [
          1,
          2,
          3,
          4,
          5,
          6,
          7,
          8,
          9,
          10,
          15,
          20,
          30,
          50
         ],
         "xaxis": "x",
         "y": [
          0.4396052718968212,
          0.42760892737068507,
          0.4247394526028791,
          0.42960497764866357,
          0.4278730493692719,
          0.4133806108623821,
          0.4142199176068644,
          0.4177745733886506,
          0.41811924679673773,
          0.41255475958441956,
          0.4006817509091511,
          0.40189398736692006,
          0.39448122812600556,
          0.38622178414897673
         ],
         "yaxis": "y"
        },
        {
         "customdata": [
          [
           15.612735246308148
          ],
          [
           15.588515241909771
          ],
          [
           15.480630075465887
          ],
          [
           15.002710838243365
          ],
          [
           15.413226701598614
          ],
          [
           15.818580853100865
          ],
          [
           15.202020506653934
          ],
          [
           14.736064135748894
          ],
          [
           15.923345948476344
          ],
          [
           15.278353928774596
          ],
          [
           15.173974688816816
          ],
          [
           15.313694446533919
          ],
          [
           14.666505723632872
          ],
          [
           13.648301162011922
          ]
         ],
         "hovertemplate": "window_size=360d<br>metric=minkowski<br>k=%{x}<br>map@10=%{y}<br>time@10=%{customdata[0]}<extra></extra>",
         "legendgroup": "360d, minkowski",
         "line": {
          "color": "#19d3f3",
          "dash": "dot"
         },
         "marker": {
          "symbol": "circle"
         },
         "mode": "lines+markers",
         "name": "360d, minkowski",
         "orientation": "v",
         "showlegend": true,
         "type": "scatter",
         "x": [
          1,
          2,
          3,
          4,
          5,
          6,
          7,
          8,
          9,
          10,
          15,
          20,
          30,
          50
         ],
         "xaxis": "x",
         "y": [
          0.43379065714805964,
          0.4266662932418536,
          0.42264397159718775,
          0.41981120277155143,
          0.4182686171854619,
          0.42440148374366676,
          0.41604778141160537,
          0.42123492190595685,
          0.4173634183328933,
          0.4153319689678011,
          0.4031456339553756,
          0.3999732136636085,
          0.3935573924097616,
          0.3835912349689578
         ],
         "yaxis": "y"
        },
        {
         "customdata": [
          [
           19.27366974828765
          ],
          [
           19.391941125225276
          ],
          [
           18.710022129956634
          ],
          [
           18.92013941211626
          ],
          [
           18.69394581299275
          ],
          [
           19.374064256250858
          ],
          [
           19.315610900055617
          ],
          [
           19.127246677409858
          ],
          [
           19.07935947077349
          ],
          [
           19.082236454635858
          ],
          [
           19.176144756376743
          ],
          [
           18.5438281763345
          ],
          [
           17.79003828121349
          ],
          [
           14.773735238425434
          ]
         ],
         "hovertemplate": "window_size=10Y<br>metric=cosine<br>k=%{x}<br>map@10=%{y}<br>time@10=%{customdata[0]}<extra></extra>",
         "legendgroup": "10Y, cosine",
         "line": {
          "color": "#FF6692",
          "dash": "solid"
         },
         "marker": {
          "symbol": "circle"
         },
         "mode": "lines+markers",
         "name": "10Y, cosine",
         "orientation": "v",
         "showlegend": true,
         "type": "scatter",
         "x": [
          1,
          2,
          3,
          4,
          5,
          6,
          7,
          8,
          9,
          10,
          15,
          20,
          30,
          50
         ],
         "xaxis": "x",
         "y": [
          0.4266192122088185,
          0.4193540471466381,
          0.4256178476665795,
          0.42520573167240244,
          0.41824217404799785,
          0.41853917297577653,
          0.43057308137031425,
          0.4138651904584497,
          0.414184835970394,
          0.4095376099150029,
          0.40462493439131036,
          0.39798528466551664,
          0.38977682744202513,
          0.3827631935447697
         ],
         "yaxis": "y"
        },
        {
         "customdata": [
          [
           19.237391731794922
          ],
          [
           19.028719457238914
          ],
          [
           18.920537457522006
          ],
          [
           19.022103797923773
          ],
          [
           19.443807725142687
          ],
          [
           19.242975866701453
          ],
          [
           19.312943147681654
          ],
          [
           19.06009055711329
          ],
          [
           19.06473038941622
          ],
          [
           19.70684108203277
          ],
          [
           19.003410409670323
          ],
          [
           18.282424718048425
          ],
          [
           18.6009651186876
          ],
          [
           15.657533180620522
          ]
         ],
         "hovertemplate": "window_size=10Y<br>metric=minkowski<br>k=%{x}<br>map@10=%{y}<br>time@10=%{customdata[0]}<extra></extra>",
         "legendgroup": "10Y, minkowski",
         "line": {
          "color": "#FF6692",
          "dash": "dot"
         },
         "marker": {
          "symbol": "circle"
         },
         "mode": "lines+markers",
         "name": "10Y, minkowski",
         "orientation": "v",
         "showlegend": true,
         "type": "scatter",
         "x": [
          1,
          2,
          3,
          4,
          5,
          6,
          7,
          8,
          9,
          10,
          15,
          20,
          30,
          50
         ],
         "xaxis": "x",
         "y": [
          0.4275293791539928,
          0.4200826485053183,
          0.4192966081011639,
          0.419319556422033,
          0.4243565228004008,
          0.42042752586153054,
          0.42256392059727227,
          0.41629627792929125,
          0.4134087073539791,
          0.40926810053740426,
          0.40700787155946194,
          0.395689969143728,
          0.38977152334978554,
          0.3865510289690005
         ],
         "yaxis": "y"
        }
       ],
       "layout": {
        "autosize": true,
        "legend": {
         "title": {
          "text": "window_size, metric"
         },
         "tracegroupgap": 0
        },
        "margin": {
         "t": 60
        },
        "template": {
         "data": {
          "bar": [
           {
            "error_x": {
             "color": "#2a3f5f"
            },
            "error_y": {
             "color": "#2a3f5f"
            },
            "marker": {
             "line": {
              "color": "#E5ECF6",
              "width": 0.5
             },
             "pattern": {
              "fillmode": "overlay",
              "size": 10,
              "solidity": 0.2
             }
            },
            "type": "bar"
           }
          ],
          "barpolar": [
           {
            "marker": {
             "line": {
              "color": "#E5ECF6",
              "width": 0.5
             },
             "pattern": {
              "fillmode": "overlay",
              "size": 10,
              "solidity": 0.2
             }
            },
            "type": "barpolar"
           }
          ],
          "carpet": [
           {
            "aaxis": {
             "endlinecolor": "#2a3f5f",
             "gridcolor": "white",
             "linecolor": "white",
             "minorgridcolor": "white",
             "startlinecolor": "#2a3f5f"
            },
            "baxis": {
             "endlinecolor": "#2a3f5f",
             "gridcolor": "white",
             "linecolor": "white",
             "minorgridcolor": "white",
             "startlinecolor": "#2a3f5f"
            },
            "type": "carpet"
           }
          ],
          "choropleth": [
           {
            "colorbar": {
             "outlinewidth": 0,
             "ticks": ""
            },
            "type": "choropleth"
           }
          ],
          "contour": [
           {
            "colorbar": {
             "outlinewidth": 0,
             "ticks": ""
            },
            "colorscale": [
             [
              0,
              "#0d0887"
             ],
             [
              0.1111111111111111,
              "#46039f"
             ],
             [
              0.2222222222222222,
              "#7201a8"
             ],
             [
              0.3333333333333333,
              "#9c179e"
             ],
             [
              0.4444444444444444,
              "#bd3786"
             ],
             [
              0.5555555555555556,
              "#d8576b"
             ],
             [
              0.6666666666666666,
              "#ed7953"
             ],
             [
              0.7777777777777778,
              "#fb9f3a"
             ],
             [
              0.8888888888888888,
              "#fdca26"
             ],
             [
              1,
              "#f0f921"
             ]
            ],
            "type": "contour"
           }
          ],
          "contourcarpet": [
           {
            "colorbar": {
             "outlinewidth": 0,
             "ticks": ""
            },
            "type": "contourcarpet"
           }
          ],
          "heatmap": [
           {
            "colorbar": {
             "outlinewidth": 0,
             "ticks": ""
            },
            "colorscale": [
             [
              0,
              "#0d0887"
             ],
             [
              0.1111111111111111,
              "#46039f"
             ],
             [
              0.2222222222222222,
              "#7201a8"
             ],
             [
              0.3333333333333333,
              "#9c179e"
             ],
             [
              0.4444444444444444,
              "#bd3786"
             ],
             [
              0.5555555555555556,
              "#d8576b"
             ],
             [
              0.6666666666666666,
              "#ed7953"
             ],
             [
              0.7777777777777778,
              "#fb9f3a"
             ],
             [
              0.8888888888888888,
              "#fdca26"
             ],
             [
              1,
              "#f0f921"
             ]
            ],
            "type": "heatmap"
           }
          ],
          "heatmapgl": [
           {
            "colorbar": {
             "outlinewidth": 0,
             "ticks": ""
            },
            "colorscale": [
             [
              0,
              "#0d0887"
             ],
             [
              0.1111111111111111,
              "#46039f"
             ],
             [
              0.2222222222222222,
              "#7201a8"
             ],
             [
              0.3333333333333333,
              "#9c179e"
             ],
             [
              0.4444444444444444,
              "#bd3786"
             ],
             [
              0.5555555555555556,
              "#d8576b"
             ],
             [
              0.6666666666666666,
              "#ed7953"
             ],
             [
              0.7777777777777778,
              "#fb9f3a"
             ],
             [
              0.8888888888888888,
              "#fdca26"
             ],
             [
              1,
              "#f0f921"
             ]
            ],
            "type": "heatmapgl"
           }
          ],
          "histogram": [
           {
            "marker": {
             "pattern": {
              "fillmode": "overlay",
              "size": 10,
              "solidity": 0.2
             }
            },
            "type": "histogram"
           }
          ],
          "histogram2d": [
           {
            "colorbar": {
             "outlinewidth": 0,
             "ticks": ""
            },
            "colorscale": [
             [
              0,
              "#0d0887"
             ],
             [
              0.1111111111111111,
              "#46039f"
             ],
             [
              0.2222222222222222,
              "#7201a8"
             ],
             [
              0.3333333333333333,
              "#9c179e"
             ],
             [
              0.4444444444444444,
              "#bd3786"
             ],
             [
              0.5555555555555556,
              "#d8576b"
             ],
             [
              0.6666666666666666,
              "#ed7953"
             ],
             [
              0.7777777777777778,
              "#fb9f3a"
             ],
             [
              0.8888888888888888,
              "#fdca26"
             ],
             [
              1,
              "#f0f921"
             ]
            ],
            "type": "histogram2d"
           }
          ],
          "histogram2dcontour": [
           {
            "colorbar": {
             "outlinewidth": 0,
             "ticks": ""
            },
            "colorscale": [
             [
              0,
              "#0d0887"
             ],
             [
              0.1111111111111111,
              "#46039f"
             ],
             [
              0.2222222222222222,
              "#7201a8"
             ],
             [
              0.3333333333333333,
              "#9c179e"
             ],
             [
              0.4444444444444444,
              "#bd3786"
             ],
             [
              0.5555555555555556,
              "#d8576b"
             ],
             [
              0.6666666666666666,
              "#ed7953"
             ],
             [
              0.7777777777777778,
              "#fb9f3a"
             ],
             [
              0.8888888888888888,
              "#fdca26"
             ],
             [
              1,
              "#f0f921"
             ]
            ],
            "type": "histogram2dcontour"
           }
          ],
          "mesh3d": [
           {
            "colorbar": {
             "outlinewidth": 0,
             "ticks": ""
            },
            "type": "mesh3d"
           }
          ],
          "parcoords": [
           {
            "line": {
             "colorbar": {
              "outlinewidth": 0,
              "ticks": ""
             }
            },
            "type": "parcoords"
           }
          ],
          "pie": [
           {
            "automargin": true,
            "type": "pie"
           }
          ],
          "scatter": [
           {
            "fillpattern": {
             "fillmode": "overlay",
             "size": 10,
             "solidity": 0.2
            },
            "type": "scatter"
           }
          ],
          "scatter3d": [
           {
            "line": {
             "colorbar": {
              "outlinewidth": 0,
              "ticks": ""
             }
            },
            "marker": {
             "colorbar": {
              "outlinewidth": 0,
              "ticks": ""
             }
            },
            "type": "scatter3d"
           }
          ],
          "scattercarpet": [
           {
            "marker": {
             "colorbar": {
              "outlinewidth": 0,
              "ticks": ""
             }
            },
            "type": "scattercarpet"
           }
          ],
          "scattergeo": [
           {
            "marker": {
             "colorbar": {
              "outlinewidth": 0,
              "ticks": ""
             }
            },
            "type": "scattergeo"
           }
          ],
          "scattergl": [
           {
            "marker": {
             "colorbar": {
              "outlinewidth": 0,
              "ticks": ""
             }
            },
            "type": "scattergl"
           }
          ],
          "scattermapbox": [
           {
            "marker": {
             "colorbar": {
              "outlinewidth": 0,
              "ticks": ""
             }
            },
            "type": "scattermapbox"
           }
          ],
          "scatterpolar": [
           {
            "marker": {
             "colorbar": {
              "outlinewidth": 0,
              "ticks": ""
             }
            },
            "type": "scatterpolar"
           }
          ],
          "scatterpolargl": [
           {
            "marker": {
             "colorbar": {
              "outlinewidth": 0,
              "ticks": ""
             }
            },
            "type": "scatterpolargl"
           }
          ],
          "scatterternary": [
           {
            "marker": {
             "colorbar": {
              "outlinewidth": 0,
              "ticks": ""
             }
            },
            "type": "scatterternary"
           }
          ],
          "surface": [
           {
            "colorbar": {
             "outlinewidth": 0,
             "ticks": ""
            },
            "colorscale": [
             [
              0,
              "#0d0887"
             ],
             [
              0.1111111111111111,
              "#46039f"
             ],
             [
              0.2222222222222222,
              "#7201a8"
             ],
             [
              0.3333333333333333,
              "#9c179e"
             ],
             [
              0.4444444444444444,
              "#bd3786"
             ],
             [
              0.5555555555555556,
              "#d8576b"
             ],
             [
              0.6666666666666666,
              "#ed7953"
             ],
             [
              0.7777777777777778,
              "#fb9f3a"
             ],
             [
              0.8888888888888888,
              "#fdca26"
             ],
             [
              1,
              "#f0f921"
             ]
            ],
            "type": "surface"
           }
          ],
          "table": [
           {
            "cells": {
             "fill": {
              "color": "#EBF0F8"
             },
             "line": {
              "color": "white"
             }
            },
            "header": {
             "fill": {
              "color": "#C8D4E3"
             },
             "line": {
              "color": "white"
             }
            },
            "type": "table"
           }
          ]
         },
         "layout": {
          "annotationdefaults": {
           "arrowcolor": "#2a3f5f",
           "arrowhead": 0,
           "arrowwidth": 1
          },
          "autotypenumbers": "strict",
          "coloraxis": {
           "colorbar": {
            "outlinewidth": 0,
            "ticks": ""
           }
          },
          "colorscale": {
           "diverging": [
            [
             0,
             "#8e0152"
            ],
            [
             0.1,
             "#c51b7d"
            ],
            [
             0.2,
             "#de77ae"
            ],
            [
             0.3,
             "#f1b6da"
            ],
            [
             0.4,
             "#fde0ef"
            ],
            [
             0.5,
             "#f7f7f7"
            ],
            [
             0.6,
             "#e6f5d0"
            ],
            [
             0.7,
             "#b8e186"
            ],
            [
             0.8,
             "#7fbc41"
            ],
            [
             0.9,
             "#4d9221"
            ],
            [
             1,
             "#276419"
            ]
           ],
           "sequential": [
            [
             0,
             "#0d0887"
            ],
            [
             0.1111111111111111,
             "#46039f"
            ],
            [
             0.2222222222222222,
             "#7201a8"
            ],
            [
             0.3333333333333333,
             "#9c179e"
            ],
            [
             0.4444444444444444,
             "#bd3786"
            ],
            [
             0.5555555555555556,
             "#d8576b"
            ],
            [
             0.6666666666666666,
             "#ed7953"
            ],
            [
             0.7777777777777778,
             "#fb9f3a"
            ],
            [
             0.8888888888888888,
             "#fdca26"
            ],
            [
             1,
             "#f0f921"
            ]
           ],
           "sequentialminus": [
            [
             0,
             "#0d0887"
            ],
            [
             0.1111111111111111,
             "#46039f"
            ],
            [
             0.2222222222222222,
             "#7201a8"
            ],
            [
             0.3333333333333333,
             "#9c179e"
            ],
            [
             0.4444444444444444,
             "#bd3786"
            ],
            [
             0.5555555555555556,
             "#d8576b"
            ],
            [
             0.6666666666666666,
             "#ed7953"
            ],
            [
             0.7777777777777778,
             "#fb9f3a"
            ],
            [
             0.8888888888888888,
             "#fdca26"
            ],
            [
             1,
             "#f0f921"
            ]
           ]
          },
          "colorway": [
           "#636efa",
           "#EF553B",
           "#00cc96",
           "#ab63fa",
           "#FFA15A",
           "#19d3f3",
           "#FF6692",
           "#B6E880",
           "#FF97FF",
           "#FECB52"
          ],
          "font": {
           "color": "#2a3f5f"
          },
          "geo": {
           "bgcolor": "white",
           "lakecolor": "white",
           "landcolor": "#E5ECF6",
           "showlakes": true,
           "showland": true,
           "subunitcolor": "white"
          },
          "hoverlabel": {
           "align": "left"
          },
          "hovermode": "closest",
          "mapbox": {
           "style": "light"
          },
          "paper_bgcolor": "white",
          "plot_bgcolor": "#E5ECF6",
          "polar": {
           "angularaxis": {
            "gridcolor": "white",
            "linecolor": "white",
            "ticks": ""
           },
           "bgcolor": "#E5ECF6",
           "radialaxis": {
            "gridcolor": "white",
            "linecolor": "white",
            "ticks": ""
           }
          },
          "scene": {
           "xaxis": {
            "backgroundcolor": "#E5ECF6",
            "gridcolor": "white",
            "gridwidth": 2,
            "linecolor": "white",
            "showbackground": true,
            "ticks": "",
            "zerolinecolor": "white"
           },
           "yaxis": {
            "backgroundcolor": "#E5ECF6",
            "gridcolor": "white",
            "gridwidth": 2,
            "linecolor": "white",
            "showbackground": true,
            "ticks": "",
            "zerolinecolor": "white"
           },
           "zaxis": {
            "backgroundcolor": "#E5ECF6",
            "gridcolor": "white",
            "gridwidth": 2,
            "linecolor": "white",
            "showbackground": true,
            "ticks": "",
            "zerolinecolor": "white"
           }
          },
          "shapedefaults": {
           "line": {
            "color": "#2a3f5f"
           }
          },
          "ternary": {
           "aaxis": {
            "gridcolor": "white",
            "linecolor": "white",
            "ticks": ""
           },
           "baxis": {
            "gridcolor": "white",
            "linecolor": "white",
            "ticks": ""
           },
           "bgcolor": "#E5ECF6",
           "caxis": {
            "gridcolor": "white",
            "linecolor": "white",
            "ticks": ""
           }
          },
          "title": {
           "x": 0.05
          },
          "xaxis": {
           "automargin": true,
           "gridcolor": "white",
           "linecolor": "white",
           "ticks": "",
           "title": {
            "standoff": 15
           },
           "zerolinecolor": "white",
           "zerolinewidth": 2
          },
          "yaxis": {
           "automargin": true,
           "gridcolor": "white",
           "linecolor": "white",
           "ticks": "",
           "title": {
            "standoff": 15
           },
           "zerolinecolor": "white",
           "zerolinewidth": 2
          }
         }
        },
        "xaxis": {
         "anchor": "y",
         "autorange": true,
         "domain": [
          0,
          1
         ],
         "range": [
          -2.3900883218842,
          53.3900883218842
         ],
         "title": {
          "text": "k"
         },
         "type": "linear"
        },
        "yaxis": {
         "anchor": "x",
         "autorange": true,
         "domain": [
          0,
          1
         ],
         "range": [
          0.2991848425162449,
          0.44969638679749596
         ],
         "title": {
          "text": "map@10"
         },
         "type": "linear"
        }
       }
      },
      "image/png": "[encoded data removed]",
      "text/html": [
       "<div>                            <div id=\"894b1d82-9158-4f48-b5db-663ec5f3dd00\" class=\"plotly-graph-div\" style=\"height:525px; width:100%;\"></div>            <script type=\"text/javascript\">                require([\"plotly\"], function(Plotly) {                    window.PLOTLYENV=window.PLOTLYENV || {};                                    if (document.getElementById(\"894b1d82-9158-4f48-b5db-663ec5f3dd00\")) {                    Plotly.newPlot(                        \"894b1d82-9158-4f48-b5db-663ec5f3dd00\",                        [{\"customdata\":[[1.7233504549600185],[1.574660769570619],[1.33102560993284],[1.4248072526417672],[1.3987202141433954],[1.2264560706913472],[1.2046916138380765],[1.0274096178822218],[1.0253960055299103],[1.0573511805385352],[0.8747601386159658],[0.7228346177376807],[0.7569508627988398],[0.7904961953870953]],\"hovertemplate\":\"window_size=7d\\u003cbr\\u003emetric=cosine\\u003cbr\\u003ek=%{x}\\u003cbr\\u003emap@10=%{y}\\u003cbr\\u003etime@10=%{customdata[0]}\\u003cextra\\u003e\\u003c\\u002fextra\\u003e\",\"legendgroup\":\"7d, cosine\",\"line\":{\"color\":\"#636efa\",\"dash\":\"solid\"},\"marker\":{\"symbol\":\"circle\"},\"mode\":\"lines+markers\",\"name\":\"7d, cosine\",\"orientation\":\"v\",\"showlegend\":true,\"x\":[1,2,3,4,5,6,7,8,9,10,15,20,30,50],\"xaxis\":\"x\",\"y\":[0.3304107387791609,0.32561196820182453,0.3275439319203723,0.3278049216349622,0.3270445484438798,0.3280946109518444,0.32967643293112425,0.329828377568396,0.3256791883403222,0.32632905472387086,0.3143163179069195,0.30977949213441525,0.30927595741691966,0.30927595741691966],\"yaxis\":\"y\",\"type\":\"scatter\"},{\"customdata\":[[1.8281465074978769],[1.4442206397652626],[1.3483401994220912],[1.3118771226145327],[1.304921315331012],[1.1186654021963478],[1.2380588517524302],[1.0595832409337163],[1.2201411255635322],[1.0336622580885888],[0.7620903335511684],[0.8263669408857822],[0.7710032369941473],[0.8831678208895027]],\"hovertemplate\":\"window_size=7d\\u003cbr\\u003emetric=minkowski\\u003cbr\\u003ek=%{x}\\u003cbr\\u003emap@10=%{y}\\u003cbr\\u003etime@10=%{customdata[0]}\\u003cextra\\u003e\\u003c\\u002fextra\\u003e\",\"legendgroup\":\"7d, minkowski\",\"line\":{\"color\":\"#636efa\",\"dash\":\"dot\"},\"marker\":{\"symbol\":\"circle\"},\"mode\":\"lines+markers\",\"name\":\"7d, minkowski\",\"orientation\":\"v\",\"showlegend\":true,\"x\":[1,2,3,4,5,6,7,8,9,10,15,20,30,50],\"xaxis\":\"x\",\"y\":[0.3318170405723903,0.3263091676288245,0.333531626338213,0.32385686004801795,0.3294032265576263,0.3314533296338976,0.33117963974688724,0.3313699343198763,0.3258062900835621,0.3211183443925865,0.3144048184728453,0.3098307359837177,0.30927595741691966,0.30927595741691966],\"yaxis\":\"y\",\"type\":\"scatter\"},{\"customdata\":[[2.1576637882739305],[2.0773160740733148],[2.102060118690133],[1.9729571864008904],[1.6406605479307472],[1.7644430858083069],[1.79559725234285],[1.5145757003687321],[1.6411527398973704],[1.5136448808945715],[1.4926979110576213],[1.345590405818075],[0.8532597901299596],[0.8088277341797948]],\"hovertemplate\":\"window_size=14d\\u003cbr\\u003emetric=cosine\\u003cbr\\u003ek=%{x}\\u003cbr\\u003emap@10=%{y}\\u003cbr\\u003etime@10=%{customdata[0]}\\u003cextra\\u003e\\u003c\\u002fextra\\u003e\",\"legendgroup\":\"14d, cosine\",\"line\":{\"color\":\"#EF553B\",\"dash\":\"solid\"},\"marker\":{\"symbol\":\"circle\"},\"mode\":\"lines+markers\",\"name\":\"14d, cosine\",\"orientation\":\"v\",\"showlegend\":true,\"x\":[1,2,3,4,5,6,7,8,9,10,15,20,30,50],\"xaxis\":\"x\",\"y\":[0.4096818484602438,0.4000189064320012,0.3913080900879605,0.3866282220543466,0.38335551389086187,0.3796865194015029,0.37768350130675776,0.3738598381372728,0.37259222282753546,0.3681101642909312,0.3605528496138765,0.34632729021108394,0.3360733706210091,0.33603093347459145],\"yaxis\":\"y\",\"type\":\"scatter\"},{\"customdata\":[[2.347890132851899],[2.097573500033468],[1.844048313330859],[1.7137277899309993],[1.7561558150686323],[1.7198288920335472],[1.7264155155979097],[1.6681214798241855],[1.6955023300834],[1.7127936497330665],[1.3812549321912229],[1.4398849490098655],[0.9960252944380045],[0.7685238079167902]],\"hovertemplate\":\"window_size=14d\\u003cbr\\u003emetric=minkowski\\u003cbr\\u003ek=%{x}\\u003cbr\\u003emap@10=%{y}\\u003cbr\\u003etime@10=%{customdata[0]}\\u003cextra\\u003e\\u003c\\u002fextra\\u003e\",\"legendgroup\":\"14d, minkowski\",\"line\":{\"color\":\"#EF553B\",\"dash\":\"dot\"},\"marker\":{\"symbol\":\"circle\"},\"mode\":\"lines+markers\",\"name\":\"14d, minkowski\",\"orientation\":\"v\",\"showlegend\":true,\"x\":[1,2,3,4,5,6,7,8,9,10,15,20,30,50],\"xaxis\":\"x\",\"y\":[0.4089341773969798,0.4015849886802273,0.3902009228836546,0.3858351832023839,0.3871080137085259,0.3824707058748835,0.3803132720248499,0.37117609863879475,0.36984647577602453,0.3686486109310344,0.36419065042916293,0.3442313661730054,0.3363117358083539,0.33603093347459145],\"yaxis\":\"y\",\"type\":\"scatter\"},{\"customdata\":[[3.555345114972442],[3.1575817635282872],[3.063257838971913],[3.2219589069485663],[3.0113318814896046],[3.0213981261476874],[2.8576831022277474],[2.90124844443053],[2.890320618171245],[2.6724448326975105],[2.813689655251801],[2.5869003023020922],[2.5821230290457606],[1.6919264181517064]],\"hovertemplate\":\"window_size=30d\\u003cbr\\u003emetric=cosine\\u003cbr\\u003ek=%{x}\\u003cbr\\u003emap@10=%{y}\\u003cbr\\u003etime@10=%{customdata[0]}\\u003cextra\\u003e\\u003c\\u002fextra\\u003e\",\"legendgroup\":\"30d, cosine\",\"line\":{\"color\":\"#00cc96\",\"dash\":\"solid\"},\"marker\":{\"symbol\":\"circle\"},\"mode\":\"lines+markers\",\"name\":\"30d, cosine\",\"orientation\":\"v\",\"showlegend\":true,\"x\":[1,2,3,4,5,6,7,8,9,10,15,20,30,50],\"xaxis\":\"x\",\"y\":[0.4228028191187172,0.4117299003665954,0.40241090886434633,0.40101821006581784,0.3971927322739273,0.39430452125097054,0.39327656387094645,0.39126634853593056,0.38581875853775166,0.39139435830371483,0.3779132643674674,0.37029929452743227,0.3635364941127429,0.3437010671802281],\"yaxis\":\"y\",\"type\":\"scatter\"},{\"customdata\":[[3.4012560824863614],[3.329757156595588],[2.8518639845773577],[2.992416557576507],[3.2368504012003543],[2.6075453443452714],[2.9176663191057743],[2.8385644980706273],[2.63189842319116],[2.709893052559346],[2.4638870956376193],[2.5001315367408097],[2.440982384607196],[1.4640399322845041]],\"hovertemplate\":\"window_size=30d\\u003cbr\\u003emetric=minkowski\\u003cbr\\u003ek=%{x}\\u003cbr\\u003emap@10=%{y}\\u003cbr\\u003etime@10=%{customdata[0]}\\u003cextra\\u003e\\u003c\\u002fextra\\u003e\",\"legendgroup\":\"30d, minkowski\",\"line\":{\"color\":\"#00cc96\",\"dash\":\"dot\"},\"marker\":{\"symbol\":\"circle\"},\"mode\":\"lines+markers\",\"name\":\"30d, minkowski\",\"orientation\":\"v\",\"showlegend\":true,\"x\":[1,2,3,4,5,6,7,8,9,10,15,20,30,50],\"xaxis\":\"x\",\"y\":[0.41864322167371404,0.41466237978646764,0.40169234144952365,0.3997291203327996,0.3960674757072177,0.3934067123580717,0.3916596846328022,0.3904224955469414,0.38635773211892577,0.39013731618050346,0.3814486823532358,0.3718581101487775,0.3621919593607844,0.34480994190193737],\"yaxis\":\"y\",\"type\":\"scatter\"},{\"customdata\":[[7.359145320765674],[7.1847533449530605],[6.704701404832304],[6.785480307973922],[7.308088969066739],[7.060663179866969],[6.9050516133196655],[6.819227076135576],[7.199353366158903],[6.745343926455826],[6.64638166250661],[6.760197397135198],[6.287543035298586],[5.767987897992134]],\"hovertemplate\":\"window_size=90d\\u003cbr\\u003emetric=cosine\\u003cbr\\u003ek=%{x}\\u003cbr\\u003emap@10=%{y}\\u003cbr\\u003etime@10=%{customdata[0]}\\u003cextra\\u003e\\u003c\\u002fextra\\u003e\",\"legendgroup\":\"90d, cosine\",\"line\":{\"color\":\"#ab63fa\",\"dash\":\"solid\"},\"marker\":{\"symbol\":\"circle\"},\"mode\":\"lines+markers\",\"name\":\"90d, cosine\",\"orientation\":\"v\",\"showlegend\":true,\"x\":[1,2,3,4,5,6,7,8,9,10,15,20,30,50],\"xaxis\":\"x\",\"y\":[0.4226973647642451,0.41563337858465677,0.408776076960139,0.4111134022670721,0.40838198449594626,0.40692028362038346,0.4071273189899863,0.40582481862506387,0.3994267856511697,0.4000147196441457,0.4000475750509521,0.39057799243072827,0.38237027191916306,0.3760256448035345],\"yaxis\":\"y\",\"type\":\"scatter\"},{\"customdata\":[[7.0333845051936805],[7.216507998947054],[7.041688275989145],[7.0071407072246075],[6.986007203813642],[6.91073179077357],[6.765252381749451],[6.896701627317816],[6.6897087038494645],[6.613957749307156],[6.798837112635374],[6.332691470254213],[6.072243580128998],[6.0462991607375445]],\"hovertemplate\":\"window_size=90d\\u003cbr\\u003emetric=minkowski\\u003cbr\\u003ek=%{x}\\u003cbr\\u003emap@10=%{y}\\u003cbr\\u003etime@10=%{customdata[0]}\\u003cextra\\u003e\\u003c\\u002fextra\\u003e\",\"legendgroup\":\"90d, minkowski\",\"line\":{\"color\":\"#ab63fa\",\"dash\":\"dot\"},\"marker\":{\"symbol\":\"circle\"},\"mode\":\"lines+markers\",\"name\":\"90d, minkowski\",\"orientation\":\"v\",\"showlegend\":true,\"x\":[1,2,3,4,5,6,7,8,9,10,15,20,30,50],\"xaxis\":\"x\",\"y\":[0.42002776225781907,0.4115234723207462,0.4049349189615256,0.41189454181896074,0.4147604987179695,0.4139650650355161,0.4090160094649543,0.4031522557179089,0.39863068367708926,0.40548786364708694,0.3979781256576953,0.3863690483305603,0.3874048307353128,0.378862837743772],\"yaxis\":\"y\",\"type\":\"scatter\"},{\"customdata\":[[12.295077595859766],[11.665457840915769],[11.988229922112078],[11.686143076512963],[11.882137871533633],[11.817138542141766],[12.044304011762142],[11.689787620212883],[10.98167039481923],[11.487770171742886],[11.456656578648836],[11.2601293486543],[10.981829223502427],[9.336965312436224]],\"hovertemplate\":\"window_size=180d\\u003cbr\\u003emetric=cosine\\u003cbr\\u003ek=%{x}\\u003cbr\\u003emap@10=%{y}\\u003cbr\\u003etime@10=%{customdata[0]}\\u003cextra\\u003e\\u003c\\u002fextra\\u003e\",\"legendgroup\":\"180d, cosine\",\"line\":{\"color\":\"#FFA15A\",\"dash\":\"solid\"},\"marker\":{\"symbol\":\"circle\"},\"mode\":\"lines+markers\",\"name\":\"180d, cosine\",\"orientation\":\"v\",\"showlegend\":true,\"x\":[1,2,3,4,5,6,7,8,9,10,15,20,30,50],\"xaxis\":\"x\",\"y\":[0.42357408674777053,0.4264521049073259,0.4247123700326571,0.4286346449580517,0.41570089235004487,0.4148473044351788,0.41379867220120614,0.41349845126959917,0.4133403594230022,0.4176994132316195,0.40672887067804153,0.4013379600063665,0.3985205680255496,0.38938127432347136],\"yaxis\":\"y\",\"type\":\"scatter\"},{\"customdata\":[[11.866029802989214],[11.312011643964798],[11.341117989551275],[11.195990147255362],[11.715375982876868],[11.265082259103655],[11.48200811650604],[11.525180432386696],[11.5300790887326],[11.41002843985334],[11.115384170040489],[11.224514396302402],[11.44841874288395],[9.947186074685305]],\"hovertemplate\":\"window_size=180d\\u003cbr\\u003emetric=minkowski\\u003cbr\\u003ek=%{x}\\u003cbr\\u003emap@10=%{y}\\u003cbr\\u003etime@10=%{customdata[0]}\\u003cextra\\u003e\\u003c\\u002fextra\\u003e\",\"legendgroup\":\"180d, minkowski\",\"line\":{\"color\":\"#FFA15A\",\"dash\":\"dot\"},\"marker\":{\"symbol\":\"circle\"},\"mode\":\"lines+markers\",\"name\":\"180d, minkowski\",\"orientation\":\"v\",\"showlegend\":true,\"x\":[1,2,3,4,5,6,7,8,9,10,15,20,30,50],\"xaxis\":\"x\",\"y\":[0.4255092191972107,0.42721629397203253,0.4307744908144331,0.4221814438738979,0.41163393311431296,0.4095910011001528,0.41721604645907984,0.4064219397102489,0.4130041306521347,0.4187836496479461,0.40151854921491187,0.3936513649758205,0.3902500235691203,0.3811379962321877],\"yaxis\":\"y\",\"type\":\"scatter\"},{\"customdata\":[[15.72510885251686],[15.964202428143471],[15.647385509498417],[15.639062816370279],[15.175097253825516],[15.098714240454138],[16.12874068170786],[15.647757661156357],[15.572972354479134],[15.83481302158907],[15.84200799781829],[15.376274942141027],[14.933221978042274],[12.899231475684791]],\"hovertemplate\":\"window_size=360d\\u003cbr\\u003emetric=cosine\\u003cbr\\u003ek=%{x}\\u003cbr\\u003emap@10=%{y}\\u003cbr\\u003etime@10=%{customdata[0]}\\u003cextra\\u003e\\u003c\\u002fextra\\u003e\",\"legendgroup\":\"360d, cosine\",\"line\":{\"color\":\"#19d3f3\",\"dash\":\"solid\"},\"marker\":{\"symbol\":\"circle\"},\"mode\":\"lines+markers\",\"name\":\"360d, cosine\",\"orientation\":\"v\",\"showlegend\":true,\"x\":[1,2,3,4,5,6,7,8,9,10,15,20,30,50],\"xaxis\":\"x\",\"y\":[0.4396052718968212,0.42760892737068507,0.4247394526028791,0.42960497764866357,0.4278730493692719,0.4133806108623821,0.4142199176068644,0.4177745733886506,0.41811924679673773,0.41255475958441956,0.4006817509091511,0.40189398736692006,0.39448122812600556,0.38622178414897673],\"yaxis\":\"y\",\"type\":\"scatter\"},{\"customdata\":[[15.612735246308148],[15.588515241909771],[15.480630075465887],[15.002710838243365],[15.413226701598614],[15.818580853100865],[15.202020506653934],[14.736064135748894],[15.923345948476344],[15.278353928774596],[15.173974688816816],[15.313694446533919],[14.666505723632872],[13.648301162011922]],\"hovertemplate\":\"window_size=360d\\u003cbr\\u003emetric=minkowski\\u003cbr\\u003ek=%{x}\\u003cbr\\u003emap@10=%{y}\\u003cbr\\u003etime@10=%{customdata[0]}\\u003cextra\\u003e\\u003c\\u002fextra\\u003e\",\"legendgroup\":\"360d, minkowski\",\"line\":{\"color\":\"#19d3f3\",\"dash\":\"dot\"},\"marker\":{\"symbol\":\"circle\"},\"mode\":\"lines+markers\",\"name\":\"360d, minkowski\",\"orientation\":\"v\",\"showlegend\":true,\"x\":[1,2,3,4,5,6,7,8,9,10,15,20,30,50],\"xaxis\":\"x\",\"y\":[0.43379065714805964,0.4266662932418536,0.42264397159718775,0.41981120277155143,0.4182686171854619,0.42440148374366676,0.41604778141160537,0.42123492190595685,0.4173634183328933,0.4153319689678011,0.4031456339553756,0.3999732136636085,0.3935573924097616,0.3835912349689578],\"yaxis\":\"y\",\"type\":\"scatter\"},{\"customdata\":[[19.27366974828765],[19.391941125225276],[18.710022129956634],[18.92013941211626],[18.69394581299275],[19.374064256250858],[19.315610900055617],[19.127246677409858],[19.07935947077349],[19.082236454635858],[19.176144756376743],[18.5438281763345],[17.79003828121349],[14.773735238425434]],\"hovertemplate\":\"window_size=10Y\\u003cbr\\u003emetric=cosine\\u003cbr\\u003ek=%{x}\\u003cbr\\u003emap@10=%{y}\\u003cbr\\u003etime@10=%{customdata[0]}\\u003cextra\\u003e\\u003c\\u002fextra\\u003e\",\"legendgroup\":\"10Y, cosine\",\"line\":{\"color\":\"#FF6692\",\"dash\":\"solid\"},\"marker\":{\"symbol\":\"circle\"},\"mode\":\"lines+markers\",\"name\":\"10Y, cosine\",\"orientation\":\"v\",\"showlegend\":true,\"x\":[1,2,3,4,5,6,7,8,9,10,15,20,30,50],\"xaxis\":\"x\",\"y\":[0.4266192122088185,0.4193540471466381,0.4256178476665795,0.42520573167240244,0.41824217404799785,0.41853917297577653,0.43057308137031425,0.4138651904584497,0.414184835970394,0.4095376099150029,0.40462493439131036,0.39798528466551664,0.38977682744202513,0.3827631935447697],\"yaxis\":\"y\",\"type\":\"scatter\"},{\"customdata\":[[19.237391731794922],[19.028719457238914],[18.920537457522006],[19.022103797923773],[19.443807725142687],[19.242975866701453],[19.312943147681654],[19.06009055711329],[19.06473038941622],[19.70684108203277],[19.003410409670323],[18.282424718048425],[18.6009651186876],[15.657533180620522]],\"hovertemplate\":\"window_size=10Y\\u003cbr\\u003emetric=minkowski\\u003cbr\\u003ek=%{x}\\u003cbr\\u003emap@10=%{y}\\u003cbr\\u003etime@10=%{customdata[0]}\\u003cextra\\u003e\\u003c\\u002fextra\\u003e\",\"legendgroup\":\"10Y, minkowski\",\"line\":{\"color\":\"#FF6692\",\"dash\":\"dot\"},\"marker\":{\"symbol\":\"circle\"},\"mode\":\"lines+markers\",\"name\":\"10Y, minkowski\",\"orientation\":\"v\",\"showlegend\":true,\"x\":[1,2,3,4,5,6,7,8,9,10,15,20,30,50],\"xaxis\":\"x\",\"y\":[0.4275293791539928,0.4200826485053183,0.4192966081011639,0.419319556422033,0.4243565228004008,0.42042752586153054,0.42256392059727227,0.41629627792929125,0.4134087073539791,0.40926810053740426,0.40700787155946194,0.395689969143728,0.38977152334978554,0.3865510289690005],\"yaxis\":\"y\",\"type\":\"scatter\"}],                        {\"template\":{\"data\":{\"histogram2dcontour\":[{\"type\":\"histogram2dcontour\",\"colorbar\":{\"outlinewidth\":0,\"ticks\":\"\"},\"colorscale\":[[0.0,\"#0d0887\"],[0.1111111111111111,\"#46039f\"],[0.2222222222222222,\"#7201a8\"],[0.3333333333333333,\"#9c179e\"],[0.4444444444444444,\"#bd3786\"],[0.5555555555555556,\"#d8576b\"],[0.6666666666666666,\"#ed7953\"],[0.7777777777777778,\"#fb9f3a\"],[0.8888888888888888,\"#fdca26\"],[1.0,\"#f0f921\"]]}],\"choropleth\":[{\"type\":\"choropleth\",\"colorbar\":{\"outlinewidth\":0,\"ticks\":\"\"}}],\"histogram2d\":[{\"type\":\"histogram2d\",\"colorbar\":{\"outlinewidth\":0,\"ticks\":\"\"},\"colorscale\":[[0.0,\"#0d0887\"],[0.1111111111111111,\"#46039f\"],[0.2222222222222222,\"#7201a8\"],[0.3333333333333333,\"#9c179e\"],[0.4444444444444444,\"#bd3786\"],[0.5555555555555556,\"#d8576b\"],[0.6666666666666666,\"#ed7953\"],[0.7777777777777778,\"#fb9f3a\"],[0.8888888888888888,\"#fdca26\"],[1.0,\"#f0f921\"]]}],\"heatmap\":[{\"type\":\"heatmap\",\"colorbar\":{\"outlinewidth\":0,\"ticks\":\"\"},\"colorscale\":[[0.0,\"#0d0887\"],[0.1111111111111111,\"#46039f\"],[0.2222222222222222,\"#7201a8\"],[0.3333333333333333,\"#9c179e\"],[0.4444444444444444,\"#bd3786\"],[0.5555555555555556,\"#d8576b\"],[0.6666666666666666,\"#ed7953\"],[0.7777777777777778,\"#fb9f3a\"],[0.8888888888888888,\"#fdca26\"],[1.0,\"#f0f921\"]]}],\"heatmapgl\":[{\"type\":\"heatmapgl\",\"colorbar\":{\"outlinewidth\":0,\"ticks\":\"\"},\"colorscale\":[[0.0,\"#0d0887\"],[0.1111111111111111,\"#46039f\"],[0.2222222222222222,\"#7201a8\"],[0.3333333333333333,\"#9c179e\"],[0.4444444444444444,\"#bd3786\"],[0.5555555555555556,\"#d8576b\"],[0.6666666666666666,\"#ed7953\"],[0.7777777777777778,\"#fb9f3a\"],[0.8888888888888888,\"#fdca26\"],[1.0,\"#f0f921\"]]}],\"contourcarpet\":[{\"type\":\"contourcarpet\",\"colorbar\":{\"outlinewidth\":0,\"ticks\":\"\"}}],\"contour\":[{\"type\":\"contour\",\"colorbar\":{\"outlinewidth\":0,\"ticks\":\"\"},\"colorscale\":[[0.0,\"#0d0887\"],[0.1111111111111111,\"#46039f\"],[0.2222222222222222,\"#7201a8\"],[0.3333333333333333,\"#9c179e\"],[0.4444444444444444,\"#bd3786\"],[0.5555555555555556,\"#d8576b\"],[0.6666666666666666,\"#ed7953\"],[0.7777777777777778,\"#fb9f3a\"],[0.8888888888888888,\"#fdca26\"],[1.0,\"#f0f921\"]]}],\"surface\":[{\"type\":\"surface\",\"colorbar\":{\"outlinewidth\":0,\"ticks\":\"\"},\"colorscale\":[[0.0,\"#0d0887\"],[0.1111111111111111,\"#46039f\"],[0.2222222222222222,\"#7201a8\"],[0.3333333333333333,\"#9c179e\"],[0.4444444444444444,\"#bd3786\"],[0.5555555555555556,\"#d8576b\"],[0.6666666666666666,\"#ed7953\"],[0.7777777777777778,\"#fb9f3a\"],[0.8888888888888888,\"#fdca26\"],[1.0,\"#f0f921\"]]}],\"mesh3d\":[{\"type\":\"mesh3d\",\"colorbar\":{\"outlinewidth\":0,\"ticks\":\"\"}}],\"scatter\":[{\"fillpattern\":{\"fillmode\":\"overlay\",\"size\":10,\"solidity\":0.2},\"type\":\"scatter\"}],\"parcoords\":[{\"type\":\"parcoords\",\"line\":{\"colorbar\":{\"outlinewidth\":0,\"ticks\":\"\"}}}],\"scatterpolargl\":[{\"type\":\"scatterpolargl\",\"marker\":{\"colorbar\":{\"outlinewidth\":0,\"ticks\":\"\"}}}],\"bar\":[{\"error_x\":{\"color\":\"#2a3f5f\"},\"error_y\":{\"color\":\"#2a3f5f\"},\"marker\":{\"line\":{\"color\":\"#E5ECF6\",\"width\":0.5},\"pattern\":{\"fillmode\":\"overlay\",\"size\":10,\"solidity\":0.2}},\"type\":\"bar\"}],\"scattergeo\":[{\"type\":\"scattergeo\",\"marker\":{\"colorbar\":{\"outlinewidth\":0,\"ticks\":\"\"}}}],\"scatterpolar\":[{\"type\":\"scatterpolar\",\"marker\":{\"colorbar\":{\"outlinewidth\":0,\"ticks\":\"\"}}}],\"histogram\":[{\"marker\":{\"pattern\":{\"fillmode\":\"overlay\",\"size\":10,\"solidity\":0.2}},\"type\":\"histogram\"}],\"scattergl\":[{\"type\":\"scattergl\",\"marker\":{\"colorbar\":{\"outlinewidth\":0,\"ticks\":\"\"}}}],\"scatter3d\":[{\"type\":\"scatter3d\",\"line\":{\"colorbar\":{\"outlinewidth\":0,\"ticks\":\"\"}},\"marker\":{\"colorbar\":{\"outlinewidth\":0,\"ticks\":\"\"}}}],\"scattermapbox\":[{\"type\":\"scattermapbox\",\"marker\":{\"colorbar\":{\"outlinewidth\":0,\"ticks\":\"\"}}}],\"scatterternary\":[{\"type\":\"scatterternary\",\"marker\":{\"colorbar\":{\"outlinewidth\":0,\"ticks\":\"\"}}}],\"scattercarpet\":[{\"type\":\"scattercarpet\",\"marker\":{\"colorbar\":{\"outlinewidth\":0,\"ticks\":\"\"}}}],\"carpet\":[{\"aaxis\":{\"endlinecolor\":\"#2a3f5f\",\"gridcolor\":\"white\",\"linecolor\":\"white\",\"minorgridcolor\":\"white\",\"startlinecolor\":\"#2a3f5f\"},\"baxis\":{\"endlinecolor\":\"#2a3f5f\",\"gridcolor\":\"white\",\"linecolor\":\"white\",\"minorgridcolor\":\"white\",\"startlinecolor\":\"#2a3f5f\"},\"type\":\"carpet\"}],\"table\":[{\"cells\":{\"fill\":{\"color\":\"#EBF0F8\"},\"line\":{\"color\":\"white\"}},\"header\":{\"fill\":{\"color\":\"#C8D4E3\"},\"line\":{\"color\":\"white\"}},\"type\":\"table\"}],\"barpolar\":[{\"marker\":{\"line\":{\"color\":\"#E5ECF6\",\"width\":0.5},\"pattern\":{\"fillmode\":\"overlay\",\"size\":10,\"solidity\":0.2}},\"type\":\"barpolar\"}],\"pie\":[{\"automargin\":true,\"type\":\"pie\"}]},\"layout\":{\"autotypenumbers\":\"strict\",\"colorway\":[\"#636efa\",\"#EF553B\",\"#00cc96\",\"#ab63fa\",\"#FFA15A\",\"#19d3f3\",\"#FF6692\",\"#B6E880\",\"#FF97FF\",\"#FECB52\"],\"font\":{\"color\":\"#2a3f5f\"},\"hovermode\":\"closest\",\"hoverlabel\":{\"align\":\"left\"},\"paper_bgcolor\":\"white\",\"plot_bgcolor\":\"#E5ECF6\",\"polar\":{\"bgcolor\":\"#E5ECF6\",\"angularaxis\":{\"gridcolor\":\"white\",\"linecolor\":\"white\",\"ticks\":\"\"},\"radialaxis\":{\"gridcolor\":\"white\",\"linecolor\":\"white\",\"ticks\":\"\"}},\"ternary\":{\"bgcolor\":\"#E5ECF6\",\"aaxis\":{\"gridcolor\":\"white\",\"linecolor\":\"white\",\"ticks\":\"\"},\"baxis\":{\"gridcolor\":\"white\",\"linecolor\":\"white\",\"ticks\":\"\"},\"caxis\":{\"gridcolor\":\"white\",\"linecolor\":\"white\",\"ticks\":\"\"}},\"coloraxis\":{\"colorbar\":{\"outlinewidth\":0,\"ticks\":\"\"}},\"colorscale\":{\"sequential\":[[0.0,\"#0d0887\"],[0.1111111111111111,\"#46039f\"],[0.2222222222222222,\"#7201a8\"],[0.3333333333333333,\"#9c179e\"],[0.4444444444444444,\"#bd3786\"],[0.5555555555555556,\"#d8576b\"],[0.6666666666666666,\"#ed7953\"],[0.7777777777777778,\"#fb9f3a\"],[0.8888888888888888,\"#fdca26\"],[1.0,\"#f0f921\"]],\"sequentialminus\":[[0.0,\"#0d0887\"],[0.1111111111111111,\"#46039f\"],[0.2222222222222222,\"#7201a8\"],[0.3333333333333333,\"#9c179e\"],[0.4444444444444444,\"#bd3786\"],[0.5555555555555556,\"#d8576b\"],[0.6666666666666666,\"#ed7953\"],[0.7777777777777778,\"#fb9f3a\"],[0.8888888888888888,\"#fdca26\"],[1.0,\"#f0f921\"]],\"diverging\":[[0,\"#8e0152\"],[0.1,\"#c51b7d\"],[0.2,\"#de77ae\"],[0.3,\"#f1b6da\"],[0.4,\"#fde0ef\"],[0.5,\"#f7f7f7\"],[0.6,\"#e6f5d0\"],[0.7,\"#b8e186\"],[0.8,\"#7fbc41\"],[0.9,\"#4d9221\"],[1,\"#276419\"]]},\"xaxis\":{\"gridcolor\":\"white\",\"linecolor\":\"white\",\"ticks\":\"\",\"title\":{\"standoff\":15},\"zerolinecolor\":\"white\",\"automargin\":true,\"zerolinewidth\":2},\"yaxis\":{\"gridcolor\":\"white\",\"linecolor\":\"white\",\"ticks\":\"\",\"title\":{\"standoff\":15},\"zerolinecolor\":\"white\",\"automargin\":true,\"zerolinewidth\":2},\"scene\":{\"xaxis\":{\"backgroundcolor\":\"#E5ECF6\",\"gridcolor\":\"white\",\"linecolor\":\"white\",\"showbackground\":true,\"ticks\":\"\",\"zerolinecolor\":\"white\",\"gridwidth\":2},\"yaxis\":{\"backgroundcolor\":\"#E5ECF6\",\"gridcolor\":\"white\",\"linecolor\":\"white\",\"showbackground\":true,\"ticks\":\"\",\"zerolinecolor\":\"white\",\"gridwidth\":2},\"zaxis\":{\"backgroundcolor\":\"#E5ECF6\",\"gridcolor\":\"white\",\"linecolor\":\"white\",\"showbackground\":true,\"ticks\":\"\",\"zerolinecolor\":\"white\",\"gridwidth\":2}},\"shapedefaults\":{\"line\":{\"color\":\"#2a3f5f\"}},\"annotationdefaults\":{\"arrowcolor\":\"#2a3f5f\",\"arrowhead\":0,\"arrowwidth\":1},\"geo\":{\"bgcolor\":\"white\",\"landcolor\":\"#E5ECF6\",\"subunitcolor\":\"white\",\"showland\":true,\"showlakes\":true,\"lakecolor\":\"white\"},\"title\":{\"x\":0.05},\"mapbox\":{\"style\":\"light\"}}},\"xaxis\":{\"anchor\":\"y\",\"domain\":[0.0,1.0],\"title\":{\"text\":\"k\"}},\"yaxis\":{\"anchor\":\"x\",\"domain\":[0.0,1.0],\"title\":{\"text\":\"map@10\"}},\"legend\":{\"title\":{\"text\":\"window_size, metric\"},\"tracegroupgap\":0},\"margin\":{\"t\":60}},                        {\"responsive\": true}                    ).then(function(){\n",
       "                            \n",
       "var gd = document.getElementById('894b1d82-9158-4f48-b5db-663ec5f3dd00');\n",
       "var x = new MutationObserver(function (mutations, observer) {{\n",
       "        var display = window.getComputedStyle(gd).display;\n",
       "        if (!display || display === 'none') {{\n",
       "            console.log([gd, 'removed!']);\n",
       "            Plotly.purge(gd);\n",
       "            observer.disconnect();\n",
       "        }}\n",
       "}});\n",
       "\n",
       "// Listen for the removal of the full notebook cells\n",
       "var notebookContainer = gd.closest('#notebook-container');\n",
       "if (notebookContainer) {{\n",
       "    x.observe(notebookContainer, {childList: true});\n",
       "}}\n",
       "\n",
       "// Listen for the clearing of the current output cell\n",
       "var outputEl = gd.closest('.output');\n",
       "if (outputEl) {{\n",
       "    x.observe(outputEl, {childList: true});\n",
       "}}\n",
       "\n",
       "                        })                };                });            </script>        </div>"
      ]
     },
     "metadata": {},
     "output_type": "display_data"
    }
   ],
   "source": [
    "_toplot = mdf_mean.reset_index().copy()\n",
    "_toplot['days'] = pd.to_timedelta(_toplot['window_size']).dt.days\n",
    "_toplot = _toplot.sort_values(['k', 'days'])\n",
    "# _toplot['color'] = _toplot['window_size'] + ',' + _toplot['metric']\n",
    "\n",
    "fig = px.line(\n",
    "    _toplot, \n",
    "    x='k', \n",
    "    y=KNN_ANALYZE_METRIC, \n",
    "    color='window_size', \n",
    "    markers=True, \n",
    "    line_dash='metric', \n",
    "    hover_data='time@10',\n",
    "    # color_discrete_sequence=px.colors.sequential.Turbo,\n",
    ")\n",
    "display(nbutils.download_plotly(fig, f'11_knn_results_k-size_{SPLITS_FREQ}_normalize={SPLITS_NORMALIZE}.pdf'))\n",
    "fig"
   ]
  },
  {
   "cell_type": "code",
   "execution_count": 365,
   "id": "6eb46b1e-45b3-4b97-992d-a697d8dd5577",
   "metadata": {},
   "outputs": [
    {
     "data": {
      "application/vnd.jupyter.widget-view+json": {
       "model_id": "ecc2ffbb5d3e43c5a839f8ca7ec6bd18",
       "version_major": 2,
       "version_minor": 0
      },
      "text/html": [
       "Cannot show widget. You probably want to rerun the code cell above (<i>Click in the code cell, and press Shift+Enter <kbd>⇧</kbd>+<kbd>↩</kbd></i>)."
      ],
      "text/plain": [
       "Cannot show ipywidgets in text"
      ]
     },
     "metadata": {},
     "output_type": "display_data"
    },
    {
     "data": {
      "image/png": "[encoded data removed]",
      "text/plain": [
       "<Figure size 640x480 with 1 Axes>"
      ]
     },
     "metadata": {},
     "output_type": "display_data"
    }
   ],
   "source": [
    "baseline = baseline = bdf[KNN_ANALYZE_METRIC].mean()\n",
    "\n",
    "ax = sns.lineplot(_toplot, \n",
    "    x='k', \n",
    "    y=KNN_ANALYZE_METRIC, \n",
    "    hue='window_size', \n",
    "    # markers=True, \n",
    "    style='metric', \n",
    "    # hover_data='time@10',\n",
    ")\n",
    "ax.axhline(baseline, linestyle=':')\n",
    "ax.text(0, baseline, \"baseline\", \n",
    "        color=ax.lines[-1].get_color(),\n",
    "        ha='left', \n",
    "        va='bottom',\n",
    "        fontsize='large',\n",
    ")\n",
    "# ax.set_xlabel('log')\n",
    "# ax.set_ylim((0,0.7))\n",
    "nbutils.download_matplotlib(ax.figure, f'11_knn_results_all_{SPLITS_FREQ}_normalize={SPLITS_NORMALIZE}.pdf')"
   ]
  },
  {
   "cell_type": "code",
   "execution_count": 276,
   "id": "6a084409-d1da-4571-95b0-6f56074f64a6",
   "metadata": {},
   "outputs": [
    {
     "data": {
      "application/vnd.jupyter.widget-view+json": {
       "model_id": "82ba17904f714c2e93e39b3b36c11f6a",
       "version_major": 2,
       "version_minor": 0
      },
      "text/html": [
       "Cannot show widget. You probably want to rerun the code cell above (<i>Click in the code cell, and press Shift+Enter <kbd>⇧</kbd>+<kbd>↩</kbd></i>)."
      ],
      "text/plain": [
       "Cannot show ipywidgets in text"
      ]
     },
     "metadata": {},
     "output_type": "display_data"
    },
    {
     "data": {
      "image/png": "[encoded data removed]",
      "text/plain": [
       "<Figure size 640x480 with 1 Axes>"
      ]
     },
     "metadata": {},
     "output_type": "display_data"
    }
   ],
   "source": [
    "baseline = baseline = bdf[KNN_ANALYZE_METRIC].mean()\n",
    "\n",
    "ax = sns.lineplot(_toplot, \n",
    "    x='k', \n",
    "    y='time@10', \n",
    "    hue='window_size', \n",
    "    # markers=True, \n",
    "    style='metric', \n",
    "    # hover_data='time@10',\n",
    ")\n",
    "# ax.set_xscale('log')\n",
    "ax.set_ylabel('time (s)')\n",
    "nbutils.download_matplotlib(ax.figure, f'11_knn_results_time_{SPLITS_FREQ}_normalize={SPLITS_NORMALIZE}.pdf')"
   ]
  },
  {
   "cell_type": "code",
   "execution_count": 269,
   "id": "f8c52f73-77b3-4b92-a9d9-8aff8e271dec",
   "metadata": {},
   "outputs": [
    {
     "name": "stderr",
     "output_type": "stream",
     "text": [
      "/tmp/ipykernel_4063225/783071194.py:2: FutureWarning:\n",
      "\n",
      "Units 'M', 'Y' and 'y' do not represent unambiguous timedelta values and will be removed in a future version.\n",
      "\n"
     ]
    },
    {
     "data": {
      "application/vnd.plotly.v1+json": {
       "config": {
        "plotlyServerURL": "https://plot.ly"
       },
       "data": [
        {
         "alignmentgroup": "True",
         "customdata": [
          [
           1.152779328876308
          ],
          [
           1.6200319439904498
          ],
          [
           2.859086431024064
          ],
          [
           6.823851321604369
          ],
          [
           11.46952125077535
          ],
          [
           15.39175651524482
          ],
          [
           18.660855888575316
          ]
         ],
         "hovertemplate": "metric=cosine<br>window_size=%{x}<br>map@10=%{y}<br>time@10=%{customdata[0]}<extra></extra>",
         "legendgroup": "cosine",
         "marker": {
          "color": "#636efa",
          "pattern": {
           "shape": ""
          }
         },
         "name": "cosine",
         "offsetgroup": "cosine",
         "orientation": "v",
         "showlegend": true,
         "textposition": "auto",
         "type": "bar",
         "x": [
          "7d",
          "14d",
          "30d",
          "90d",
          "180d",
          "360d",
          "10Y"
         ],
         "xaxis": "x",
         "y": [
          0.3229051070264951,
          0.37299351934356967,
          0.3890475172411849,
          0.4024955441290847,
          0.4134447837564203,
          0.4149113955484592,
          0.41263493881971397
         ],
         "yaxis": "y"
        },
        {
         "alignmentgroup": "True",
         "customdata": [
          [
           1.1535889282489993
          ],
          [
           1.6334104572888464
          ],
          [
           2.741910912069891
          ],
          [
           6.743653733422979
          ],
          [
           11.312743377652286
          ],
          [
           15.204189964091139
          ],
          [
           18.827462474256755
          ]
         ],
         "hovertemplate": "metric=minkowski<br>window_size=%{x}<br>map@10=%{y}<br>time@10=%{customdata[0]}<extra></extra>",
         "legendgroup": "minkowski",
         "marker": {
          "color": "#EF553B",
          "pattern": {
           "shape": ""
          }
         },
         "name": "minkowski",
         "offsetgroup": "minkowski",
         "orientation": "v",
         "showlegend": true,
         "textposition": "auto",
         "type": "bar",
         "x": [
          "7d",
          "14d",
          "30d",
          "90d",
          "180d",
          "360d",
          "10Y"
         ],
         "xaxis": "x",
         "y": [
          0.3234737806151632,
          0.3733487953573194,
          0.38879194096797876,
          0.4031434224347798,
          0.4106350058952493,
          0.41398769937883867,
          0.41225497430602587
         ],
         "yaxis": "y"
        }
       ],
       "layout": {
        "autosize": true,
        "barmode": "group",
        "legend": {
         "title": {
          "text": "metric"
         },
         "tracegroupgap": 0
        },
        "margin": {
         "t": 60
        },
        "template": {
         "data": {
          "bar": [
           {
            "error_x": {
             "color": "#2a3f5f"
            },
            "error_y": {
             "color": "#2a3f5f"
            },
            "marker": {
             "line": {
              "color": "#E5ECF6",
              "width": 0.5
             },
             "pattern": {
              "fillmode": "overlay",
              "size": 10,
              "solidity": 0.2
             }
            },
            "type": "bar"
           }
          ],
          "barpolar": [
           {
            "marker": {
             "line": {
              "color": "#E5ECF6",
              "width": 0.5
             },
             "pattern": {
              "fillmode": "overlay",
              "size": 10,
              "solidity": 0.2
             }
            },
            "type": "barpolar"
           }
          ],
          "carpet": [
           {
            "aaxis": {
             "endlinecolor": "#2a3f5f",
             "gridcolor": "white",
             "linecolor": "white",
             "minorgridcolor": "white",
             "startlinecolor": "#2a3f5f"
            },
            "baxis": {
             "endlinecolor": "#2a3f5f",
             "gridcolor": "white",
             "linecolor": "white",
             "minorgridcolor": "white",
             "startlinecolor": "#2a3f5f"
            },
            "type": "carpet"
           }
          ],
          "choropleth": [
           {
            "colorbar": {
             "outlinewidth": 0,
             "ticks": ""
            },
            "type": "choropleth"
           }
          ],
          "contour": [
           {
            "colorbar": {
             "outlinewidth": 0,
             "ticks": ""
            },
            "colorscale": [
             [
              0,
              "#0d0887"
             ],
             [
              0.1111111111111111,
              "#46039f"
             ],
             [
              0.2222222222222222,
              "#7201a8"
             ],
             [
              0.3333333333333333,
              "#9c179e"
             ],
             [
              0.4444444444444444,
              "#bd3786"
             ],
             [
              0.5555555555555556,
              "#d8576b"
             ],
             [
              0.6666666666666666,
              "#ed7953"
             ],
             [
              0.7777777777777778,
              "#fb9f3a"
             ],
             [
              0.8888888888888888,
              "#fdca26"
             ],
             [
              1,
              "#f0f921"
             ]
            ],
            "type": "contour"
           }
          ],
          "contourcarpet": [
           {
            "colorbar": {
             "outlinewidth": 0,
             "ticks": ""
            },
            "type": "contourcarpet"
           }
          ],
          "heatmap": [
           {
            "colorbar": {
             "outlinewidth": 0,
             "ticks": ""
            },
            "colorscale": [
             [
              0,
              "#0d0887"
             ],
             [
              0.1111111111111111,
              "#46039f"
             ],
             [
              0.2222222222222222,
              "#7201a8"
             ],
             [
              0.3333333333333333,
              "#9c179e"
             ],
             [
              0.4444444444444444,
              "#bd3786"
             ],
             [
              0.5555555555555556,
              "#d8576b"
             ],
             [
              0.6666666666666666,
              "#ed7953"
             ],
             [
              0.7777777777777778,
              "#fb9f3a"
             ],
             [
              0.8888888888888888,
              "#fdca26"
             ],
             [
              1,
              "#f0f921"
             ]
            ],
            "type": "heatmap"
           }
          ],
          "heatmapgl": [
           {
            "colorbar": {
             "outlinewidth": 0,
             "ticks": ""
            },
            "colorscale": [
             [
              0,
              "#0d0887"
             ],
             [
              0.1111111111111111,
              "#46039f"
             ],
             [
              0.2222222222222222,
              "#7201a8"
             ],
             [
              0.3333333333333333,
              "#9c179e"
             ],
             [
              0.4444444444444444,
              "#bd3786"
             ],
             [
              0.5555555555555556,
              "#d8576b"
             ],
             [
              0.6666666666666666,
              "#ed7953"
             ],
             [
              0.7777777777777778,
              "#fb9f3a"
             ],
             [
              0.8888888888888888,
              "#fdca26"
             ],
             [
              1,
              "#f0f921"
             ]
            ],
            "type": "heatmapgl"
           }
          ],
          "histogram": [
           {
            "marker": {
             "pattern": {
              "fillmode": "overlay",
              "size": 10,
              "solidity": 0.2
             }
            },
            "type": "histogram"
           }
          ],
          "histogram2d": [
           {
            "colorbar": {
             "outlinewidth": 0,
             "ticks": ""
            },
            "colorscale": [
             [
              0,
              "#0d0887"
             ],
             [
              0.1111111111111111,
              "#46039f"
             ],
             [
              0.2222222222222222,
              "#7201a8"
             ],
             [
              0.3333333333333333,
              "#9c179e"
             ],
             [
              0.4444444444444444,
              "#bd3786"
             ],
             [
              0.5555555555555556,
              "#d8576b"
             ],
             [
              0.6666666666666666,
              "#ed7953"
             ],
             [
              0.7777777777777778,
              "#fb9f3a"
             ],
             [
              0.8888888888888888,
              "#fdca26"
             ],
             [
              1,
              "#f0f921"
             ]
            ],
            "type": "histogram2d"
           }
          ],
          "histogram2dcontour": [
           {
            "colorbar": {
             "outlinewidth": 0,
             "ticks": ""
            },
            "colorscale": [
             [
              0,
              "#0d0887"
             ],
             [
              0.1111111111111111,
              "#46039f"
             ],
             [
              0.2222222222222222,
              "#7201a8"
             ],
             [
              0.3333333333333333,
              "#9c179e"
             ],
             [
              0.4444444444444444,
              "#bd3786"
             ],
             [
              0.5555555555555556,
              "#d8576b"
             ],
             [
              0.6666666666666666,
              "#ed7953"
             ],
             [
              0.7777777777777778,
              "#fb9f3a"
             ],
             [
              0.8888888888888888,
              "#fdca26"
             ],
             [
              1,
              "#f0f921"
             ]
            ],
            "type": "histogram2dcontour"
           }
          ],
          "mesh3d": [
           {
            "colorbar": {
             "outlinewidth": 0,
             "ticks": ""
            },
            "type": "mesh3d"
           }
          ],
          "parcoords": [
           {
            "line": {
             "colorbar": {
              "outlinewidth": 0,
              "ticks": ""
             }
            },
            "type": "parcoords"
           }
          ],
          "pie": [
           {
            "automargin": true,
            "type": "pie"
           }
          ],
          "scatter": [
           {
            "fillpattern": {
             "fillmode": "overlay",
             "size": 10,
             "solidity": 0.2
            },
            "type": "scatter"
           }
          ],
          "scatter3d": [
           {
            "line": {
             "colorbar": {
              "outlinewidth": 0,
              "ticks": ""
             }
            },
            "marker": {
             "colorbar": {
              "outlinewidth": 0,
              "ticks": ""
             }
            },
            "type": "scatter3d"
           }
          ],
          "scattercarpet": [
           {
            "marker": {
             "colorbar": {
              "outlinewidth": 0,
              "ticks": ""
             }
            },
            "type": "scattercarpet"
           }
          ],
          "scattergeo": [
           {
            "marker": {
             "colorbar": {
              "outlinewidth": 0,
              "ticks": ""
             }
            },
            "type": "scattergeo"
           }
          ],
          "scattergl": [
           {
            "marker": {
             "colorbar": {
              "outlinewidth": 0,
              "ticks": ""
             }
            },
            "type": "scattergl"
           }
          ],
          "scattermapbox": [
           {
            "marker": {
             "colorbar": {
              "outlinewidth": 0,
              "ticks": ""
             }
            },
            "type": "scattermapbox"
           }
          ],
          "scatterpolar": [
           {
            "marker": {
             "colorbar": {
              "outlinewidth": 0,
              "ticks": ""
             }
            },
            "type": "scatterpolar"
           }
          ],
          "scatterpolargl": [
           {
            "marker": {
             "colorbar": {
              "outlinewidth": 0,
              "ticks": ""
             }
            },
            "type": "scatterpolargl"
           }
          ],
          "scatterternary": [
           {
            "marker": {
             "colorbar": {
              "outlinewidth": 0,
              "ticks": ""
             }
            },
            "type": "scatterternary"
           }
          ],
          "surface": [
           {
            "colorbar": {
             "outlinewidth": 0,
             "ticks": ""
            },
            "colorscale": [
             [
              0,
              "#0d0887"
             ],
             [
              0.1111111111111111,
              "#46039f"
             ],
             [
              0.2222222222222222,
              "#7201a8"
             ],
             [
              0.3333333333333333,
              "#9c179e"
             ],
             [
              0.4444444444444444,
              "#bd3786"
             ],
             [
              0.5555555555555556,
              "#d8576b"
             ],
             [
              0.6666666666666666,
              "#ed7953"
             ],
             [
              0.7777777777777778,
              "#fb9f3a"
             ],
             [
              0.8888888888888888,
              "#fdca26"
             ],
             [
              1,
              "#f0f921"
             ]
            ],
            "type": "surface"
           }
          ],
          "table": [
           {
            "cells": {
             "fill": {
              "color": "#EBF0F8"
             },
             "line": {
              "color": "white"
             }
            },
            "header": {
             "fill": {
              "color": "#C8D4E3"
             },
             "line": {
              "color": "white"
             }
            },
            "type": "table"
           }
          ]
         },
         "layout": {
          "annotationdefaults": {
           "arrowcolor": "#2a3f5f",
           "arrowhead": 0,
           "arrowwidth": 1
          },
          "autotypenumbers": "strict",
          "coloraxis": {
           "colorbar": {
            "outlinewidth": 0,
            "ticks": ""
           }
          },
          "colorscale": {
           "diverging": [
            [
             0,
             "#8e0152"
            ],
            [
             0.1,
             "#c51b7d"
            ],
            [
             0.2,
             "#de77ae"
            ],
            [
             0.3,
             "#f1b6da"
            ],
            [
             0.4,
             "#fde0ef"
            ],
            [
             0.5,
             "#f7f7f7"
            ],
            [
             0.6,
             "#e6f5d0"
            ],
            [
             0.7,
             "#b8e186"
            ],
            [
             0.8,
             "#7fbc41"
            ],
            [
             0.9,
             "#4d9221"
            ],
            [
             1,
             "#276419"
            ]
           ],
           "sequential": [
            [
             0,
             "#0d0887"
            ],
            [
             0.1111111111111111,
             "#46039f"
            ],
            [
             0.2222222222222222,
             "#7201a8"
            ],
            [
             0.3333333333333333,
             "#9c179e"
            ],
            [
             0.4444444444444444,
             "#bd3786"
            ],
            [
             0.5555555555555556,
             "#d8576b"
            ],
            [
             0.6666666666666666,
             "#ed7953"
            ],
            [
             0.7777777777777778,
             "#fb9f3a"
            ],
            [
             0.8888888888888888,
             "#fdca26"
            ],
            [
             1,
             "#f0f921"
            ]
           ],
           "sequentialminus": [
            [
             0,
             "#0d0887"
            ],
            [
             0.1111111111111111,
             "#46039f"
            ],
            [
             0.2222222222222222,
             "#7201a8"
            ],
            [
             0.3333333333333333,
             "#9c179e"
            ],
            [
             0.4444444444444444,
             "#bd3786"
            ],
            [
             0.5555555555555556,
             "#d8576b"
            ],
            [
             0.6666666666666666,
             "#ed7953"
            ],
            [
             0.7777777777777778,
             "#fb9f3a"
            ],
            [
             0.8888888888888888,
             "#fdca26"
            ],
            [
             1,
             "#f0f921"
            ]
           ]
          },
          "colorway": [
           "#636efa",
           "#EF553B",
           "#00cc96",
           "#ab63fa",
           "#FFA15A",
           "#19d3f3",
           "#FF6692",
           "#B6E880",
           "#FF97FF",
           "#FECB52"
          ],
          "font": {
           "color": "#2a3f5f"
          },
          "geo": {
           "bgcolor": "white",
           "lakecolor": "white",
           "landcolor": "#E5ECF6",
           "showlakes": true,
           "showland": true,
           "subunitcolor": "white"
          },
          "hoverlabel": {
           "align": "left"
          },
          "hovermode": "closest",
          "mapbox": {
           "style": "light"
          },
          "paper_bgcolor": "white",
          "plot_bgcolor": "#E5ECF6",
          "polar": {
           "angularaxis": {
            "gridcolor": "white",
            "linecolor": "white",
            "ticks": ""
           },
           "bgcolor": "#E5ECF6",
           "radialaxis": {
            "gridcolor": "white",
            "linecolor": "white",
            "ticks": ""
           }
          },
          "scene": {
           "xaxis": {
            "backgroundcolor": "#E5ECF6",
            "gridcolor": "white",
            "gridwidth": 2,
            "linecolor": "white",
            "showbackground": true,
            "ticks": "",
            "zerolinecolor": "white"
           },
           "yaxis": {
            "backgroundcolor": "#E5ECF6",
            "gridcolor": "white",
            "gridwidth": 2,
            "linecolor": "white",
            "showbackground": true,
            "ticks": "",
            "zerolinecolor": "white"
           },
           "zaxis": {
            "backgroundcolor": "#E5ECF6",
            "gridcolor": "white",
            "gridwidth": 2,
            "linecolor": "white",
            "showbackground": true,
            "ticks": "",
            "zerolinecolor": "white"
           }
          },
          "shapedefaults": {
           "line": {
            "color": "#2a3f5f"
           }
          },
          "ternary": {
           "aaxis": {
            "gridcolor": "white",
            "linecolor": "white",
            "ticks": ""
           },
           "baxis": {
            "gridcolor": "white",
            "linecolor": "white",
            "ticks": ""
           },
           "bgcolor": "#E5ECF6",
           "caxis": {
            "gridcolor": "white",
            "linecolor": "white",
            "ticks": ""
           }
          },
          "title": {
           "x": 0.05
          },
          "xaxis": {
           "automargin": true,
           "gridcolor": "white",
           "linecolor": "white",
           "ticks": "",
           "title": {
            "standoff": 15
           },
           "zerolinecolor": "white",
           "zerolinewidth": 2
          },
          "yaxis": {
           "automargin": true,
           "gridcolor": "white",
           "linecolor": "white",
           "ticks": "",
           "title": {
            "standoff": 15
           },
           "zerolinecolor": "white",
           "zerolinewidth": 2
          }
         }
        },
        "xaxis": {
         "anchor": "y",
         "autorange": true,
         "domain": [
          0,
          1
         ],
         "range": [
          -0.5,
          6.5
         ],
         "title": {
          "text": "window_size"
         },
         "type": "category"
        },
        "yaxis": {
         "anchor": "x",
         "autorange": true,
         "domain": [
          0,
          1
         ],
         "range": [
          0,
          0.4367488374194307
         ],
         "title": {
          "text": "map@10"
         },
         "type": "linear"
        }
       }
      },
      "image/png": "[encoded data removed]",
      "text/html": [
       "<div>                            <div id=\"a469fe2a-9525-4454-89c3-7a05e32d66ea\" class=\"plotly-graph-div\" style=\"height:525px; width:100%;\"></div>            <script type=\"text/javascript\">                require([\"plotly\"], function(Plotly) {                    window.PLOTLYENV=window.PLOTLYENV || {};                                    if (document.getElementById(\"a469fe2a-9525-4454-89c3-7a05e32d66ea\")) {                    Plotly.newPlot(                        \"a469fe2a-9525-4454-89c3-7a05e32d66ea\",                        [{\"alignmentgroup\":\"True\",\"customdata\":[[1.152779328876308],[1.6200319439904498],[2.859086431024064],[6.823851321604369],[11.46952125077535],[15.39175651524482],[18.660855888575316]],\"hovertemplate\":\"metric=cosine\\u003cbr\\u003ewindow_size=%{x}\\u003cbr\\u003emap@10=%{y}\\u003cbr\\u003etime@10=%{customdata[0]}\\u003cextra\\u003e\\u003c\\u002fextra\\u003e\",\"legendgroup\":\"cosine\",\"marker\":{\"color\":\"#636efa\",\"pattern\":{\"shape\":\"\"}},\"name\":\"cosine\",\"offsetgroup\":\"cosine\",\"orientation\":\"v\",\"showlegend\":true,\"textposition\":\"auto\",\"x\":[\"7d\",\"14d\",\"30d\",\"90d\",\"180d\",\"360d\",\"10Y\"],\"xaxis\":\"x\",\"y\":[0.3229051070264951,0.37299351934356967,0.3890475172411849,0.4024955441290847,0.4134447837564203,0.4149113955484592,0.41263493881971397],\"yaxis\":\"y\",\"type\":\"bar\"},{\"alignmentgroup\":\"True\",\"customdata\":[[1.1535889282489993],[1.6334104572888464],[2.741910912069891],[6.743653733422979],[11.312743377652286],[15.204189964091139],[18.827462474256755]],\"hovertemplate\":\"metric=minkowski\\u003cbr\\u003ewindow_size=%{x}\\u003cbr\\u003emap@10=%{y}\\u003cbr\\u003etime@10=%{customdata[0]}\\u003cextra\\u003e\\u003c\\u002fextra\\u003e\",\"legendgroup\":\"minkowski\",\"marker\":{\"color\":\"#EF553B\",\"pattern\":{\"shape\":\"\"}},\"name\":\"minkowski\",\"offsetgroup\":\"minkowski\",\"orientation\":\"v\",\"showlegend\":true,\"textposition\":\"auto\",\"x\":[\"7d\",\"14d\",\"30d\",\"90d\",\"180d\",\"360d\",\"10Y\"],\"xaxis\":\"x\",\"y\":[0.3234737806151632,0.3733487953573194,0.38879194096797876,0.4031434224347798,0.4106350058952493,0.41398769937883867,0.41225497430602587],\"yaxis\":\"y\",\"type\":\"bar\"}],                        {\"template\":{\"data\":{\"histogram2dcontour\":[{\"type\":\"histogram2dcontour\",\"colorbar\":{\"outlinewidth\":0,\"ticks\":\"\"},\"colorscale\":[[0.0,\"#0d0887\"],[0.1111111111111111,\"#46039f\"],[0.2222222222222222,\"#7201a8\"],[0.3333333333333333,\"#9c179e\"],[0.4444444444444444,\"#bd3786\"],[0.5555555555555556,\"#d8576b\"],[0.6666666666666666,\"#ed7953\"],[0.7777777777777778,\"#fb9f3a\"],[0.8888888888888888,\"#fdca26\"],[1.0,\"#f0f921\"]]}],\"choropleth\":[{\"type\":\"choropleth\",\"colorbar\":{\"outlinewidth\":0,\"ticks\":\"\"}}],\"histogram2d\":[{\"type\":\"histogram2d\",\"colorbar\":{\"outlinewidth\":0,\"ticks\":\"\"},\"colorscale\":[[0.0,\"#0d0887\"],[0.1111111111111111,\"#46039f\"],[0.2222222222222222,\"#7201a8\"],[0.3333333333333333,\"#9c179e\"],[0.4444444444444444,\"#bd3786\"],[0.5555555555555556,\"#d8576b\"],[0.6666666666666666,\"#ed7953\"],[0.7777777777777778,\"#fb9f3a\"],[0.8888888888888888,\"#fdca26\"],[1.0,\"#f0f921\"]]}],\"heatmap\":[{\"type\":\"heatmap\",\"colorbar\":{\"outlinewidth\":0,\"ticks\":\"\"},\"colorscale\":[[0.0,\"#0d0887\"],[0.1111111111111111,\"#46039f\"],[0.2222222222222222,\"#7201a8\"],[0.3333333333333333,\"#9c179e\"],[0.4444444444444444,\"#bd3786\"],[0.5555555555555556,\"#d8576b\"],[0.6666666666666666,\"#ed7953\"],[0.7777777777777778,\"#fb9f3a\"],[0.8888888888888888,\"#fdca26\"],[1.0,\"#f0f921\"]]}],\"heatmapgl\":[{\"type\":\"heatmapgl\",\"colorbar\":{\"outlinewidth\":0,\"ticks\":\"\"},\"colorscale\":[[0.0,\"#0d0887\"],[0.1111111111111111,\"#46039f\"],[0.2222222222222222,\"#7201a8\"],[0.3333333333333333,\"#9c179e\"],[0.4444444444444444,\"#bd3786\"],[0.5555555555555556,\"#d8576b\"],[0.6666666666666666,\"#ed7953\"],[0.7777777777777778,\"#fb9f3a\"],[0.8888888888888888,\"#fdca26\"],[1.0,\"#f0f921\"]]}],\"contourcarpet\":[{\"type\":\"contourcarpet\",\"colorbar\":{\"outlinewidth\":0,\"ticks\":\"\"}}],\"contour\":[{\"type\":\"contour\",\"colorbar\":{\"outlinewidth\":0,\"ticks\":\"\"},\"colorscale\":[[0.0,\"#0d0887\"],[0.1111111111111111,\"#46039f\"],[0.2222222222222222,\"#7201a8\"],[0.3333333333333333,\"#9c179e\"],[0.4444444444444444,\"#bd3786\"],[0.5555555555555556,\"#d8576b\"],[0.6666666666666666,\"#ed7953\"],[0.7777777777777778,\"#fb9f3a\"],[0.8888888888888888,\"#fdca26\"],[1.0,\"#f0f921\"]]}],\"surface\":[{\"type\":\"surface\",\"colorbar\":{\"outlinewidth\":0,\"ticks\":\"\"},\"colorscale\":[[0.0,\"#0d0887\"],[0.1111111111111111,\"#46039f\"],[0.2222222222222222,\"#7201a8\"],[0.3333333333333333,\"#9c179e\"],[0.4444444444444444,\"#bd3786\"],[0.5555555555555556,\"#d8576b\"],[0.6666666666666666,\"#ed7953\"],[0.7777777777777778,\"#fb9f3a\"],[0.8888888888888888,\"#fdca26\"],[1.0,\"#f0f921\"]]}],\"mesh3d\":[{\"type\":\"mesh3d\",\"colorbar\":{\"outlinewidth\":0,\"ticks\":\"\"}}],\"scatter\":[{\"fillpattern\":{\"fillmode\":\"overlay\",\"size\":10,\"solidity\":0.2},\"type\":\"scatter\"}],\"parcoords\":[{\"type\":\"parcoords\",\"line\":{\"colorbar\":{\"outlinewidth\":0,\"ticks\":\"\"}}}],\"scatterpolargl\":[{\"type\":\"scatterpolargl\",\"marker\":{\"colorbar\":{\"outlinewidth\":0,\"ticks\":\"\"}}}],\"bar\":[{\"error_x\":{\"color\":\"#2a3f5f\"},\"error_y\":{\"color\":\"#2a3f5f\"},\"marker\":{\"line\":{\"color\":\"#E5ECF6\",\"width\":0.5},\"pattern\":{\"fillmode\":\"overlay\",\"size\":10,\"solidity\":0.2}},\"type\":\"bar\"}],\"scattergeo\":[{\"type\":\"scattergeo\",\"marker\":{\"colorbar\":{\"outlinewidth\":0,\"ticks\":\"\"}}}],\"scatterpolar\":[{\"type\":\"scatterpolar\",\"marker\":{\"colorbar\":{\"outlinewidth\":0,\"ticks\":\"\"}}}],\"histogram\":[{\"marker\":{\"pattern\":{\"fillmode\":\"overlay\",\"size\":10,\"solidity\":0.2}},\"type\":\"histogram\"}],\"scattergl\":[{\"type\":\"scattergl\",\"marker\":{\"colorbar\":{\"outlinewidth\":0,\"ticks\":\"\"}}}],\"scatter3d\":[{\"type\":\"scatter3d\",\"line\":{\"colorbar\":{\"outlinewidth\":0,\"ticks\":\"\"}},\"marker\":{\"colorbar\":{\"outlinewidth\":0,\"ticks\":\"\"}}}],\"scattermapbox\":[{\"type\":\"scattermapbox\",\"marker\":{\"colorbar\":{\"outlinewidth\":0,\"ticks\":\"\"}}}],\"scatterternary\":[{\"type\":\"scatterternary\",\"marker\":{\"colorbar\":{\"outlinewidth\":0,\"ticks\":\"\"}}}],\"scattercarpet\":[{\"type\":\"scattercarpet\",\"marker\":{\"colorbar\":{\"outlinewidth\":0,\"ticks\":\"\"}}}],\"carpet\":[{\"aaxis\":{\"endlinecolor\":\"#2a3f5f\",\"gridcolor\":\"white\",\"linecolor\":\"white\",\"minorgridcolor\":\"white\",\"startlinecolor\":\"#2a3f5f\"},\"baxis\":{\"endlinecolor\":\"#2a3f5f\",\"gridcolor\":\"white\",\"linecolor\":\"white\",\"minorgridcolor\":\"white\",\"startlinecolor\":\"#2a3f5f\"},\"type\":\"carpet\"}],\"table\":[{\"cells\":{\"fill\":{\"color\":\"#EBF0F8\"},\"line\":{\"color\":\"white\"}},\"header\":{\"fill\":{\"color\":\"#C8D4E3\"},\"line\":{\"color\":\"white\"}},\"type\":\"table\"}],\"barpolar\":[{\"marker\":{\"line\":{\"color\":\"#E5ECF6\",\"width\":0.5},\"pattern\":{\"fillmode\":\"overlay\",\"size\":10,\"solidity\":0.2}},\"type\":\"barpolar\"}],\"pie\":[{\"automargin\":true,\"type\":\"pie\"}]},\"layout\":{\"autotypenumbers\":\"strict\",\"colorway\":[\"#636efa\",\"#EF553B\",\"#00cc96\",\"#ab63fa\",\"#FFA15A\",\"#19d3f3\",\"#FF6692\",\"#B6E880\",\"#FF97FF\",\"#FECB52\"],\"font\":{\"color\":\"#2a3f5f\"},\"hovermode\":\"closest\",\"hoverlabel\":{\"align\":\"left\"},\"paper_bgcolor\":\"white\",\"plot_bgcolor\":\"#E5ECF6\",\"polar\":{\"bgcolor\":\"#E5ECF6\",\"angularaxis\":{\"gridcolor\":\"white\",\"linecolor\":\"white\",\"ticks\":\"\"},\"radialaxis\":{\"gridcolor\":\"white\",\"linecolor\":\"white\",\"ticks\":\"\"}},\"ternary\":{\"bgcolor\":\"#E5ECF6\",\"aaxis\":{\"gridcolor\":\"white\",\"linecolor\":\"white\",\"ticks\":\"\"},\"baxis\":{\"gridcolor\":\"white\",\"linecolor\":\"white\",\"ticks\":\"\"},\"caxis\":{\"gridcolor\":\"white\",\"linecolor\":\"white\",\"ticks\":\"\"}},\"coloraxis\":{\"colorbar\":{\"outlinewidth\":0,\"ticks\":\"\"}},\"colorscale\":{\"sequential\":[[0.0,\"#0d0887\"],[0.1111111111111111,\"#46039f\"],[0.2222222222222222,\"#7201a8\"],[0.3333333333333333,\"#9c179e\"],[0.4444444444444444,\"#bd3786\"],[0.5555555555555556,\"#d8576b\"],[0.6666666666666666,\"#ed7953\"],[0.7777777777777778,\"#fb9f3a\"],[0.8888888888888888,\"#fdca26\"],[1.0,\"#f0f921\"]],\"sequentialminus\":[[0.0,\"#0d0887\"],[0.1111111111111111,\"#46039f\"],[0.2222222222222222,\"#7201a8\"],[0.3333333333333333,\"#9c179e\"],[0.4444444444444444,\"#bd3786\"],[0.5555555555555556,\"#d8576b\"],[0.6666666666666666,\"#ed7953\"],[0.7777777777777778,\"#fb9f3a\"],[0.8888888888888888,\"#fdca26\"],[1.0,\"#f0f921\"]],\"diverging\":[[0,\"#8e0152\"],[0.1,\"#c51b7d\"],[0.2,\"#de77ae\"],[0.3,\"#f1b6da\"],[0.4,\"#fde0ef\"],[0.5,\"#f7f7f7\"],[0.6,\"#e6f5d0\"],[0.7,\"#b8e186\"],[0.8,\"#7fbc41\"],[0.9,\"#4d9221\"],[1,\"#276419\"]]},\"xaxis\":{\"gridcolor\":\"white\",\"linecolor\":\"white\",\"ticks\":\"\",\"title\":{\"standoff\":15},\"zerolinecolor\":\"white\",\"automargin\":true,\"zerolinewidth\":2},\"yaxis\":{\"gridcolor\":\"white\",\"linecolor\":\"white\",\"ticks\":\"\",\"title\":{\"standoff\":15},\"zerolinecolor\":\"white\",\"automargin\":true,\"zerolinewidth\":2},\"scene\":{\"xaxis\":{\"backgroundcolor\":\"#E5ECF6\",\"gridcolor\":\"white\",\"linecolor\":\"white\",\"showbackground\":true,\"ticks\":\"\",\"zerolinecolor\":\"white\",\"gridwidth\":2},\"yaxis\":{\"backgroundcolor\":\"#E5ECF6\",\"gridcolor\":\"white\",\"linecolor\":\"white\",\"showbackground\":true,\"ticks\":\"\",\"zerolinecolor\":\"white\",\"gridwidth\":2},\"zaxis\":{\"backgroundcolor\":\"#E5ECF6\",\"gridcolor\":\"white\",\"linecolor\":\"white\",\"showbackground\":true,\"ticks\":\"\",\"zerolinecolor\":\"white\",\"gridwidth\":2}},\"shapedefaults\":{\"line\":{\"color\":\"#2a3f5f\"}},\"annotationdefaults\":{\"arrowcolor\":\"#2a3f5f\",\"arrowhead\":0,\"arrowwidth\":1},\"geo\":{\"bgcolor\":\"white\",\"landcolor\":\"#E5ECF6\",\"subunitcolor\":\"white\",\"showland\":true,\"showlakes\":true,\"lakecolor\":\"white\"},\"title\":{\"x\":0.05},\"mapbox\":{\"style\":\"light\"}}},\"xaxis\":{\"anchor\":\"y\",\"domain\":[0.0,1.0],\"title\":{\"text\":\"window_size\"}},\"yaxis\":{\"anchor\":\"x\",\"domain\":[0.0,1.0],\"title\":{\"text\":\"map@10\"}},\"legend\":{\"title\":{\"text\":\"metric\"},\"tracegroupgap\":0},\"margin\":{\"t\":60},\"barmode\":\"group\"},                        {\"responsive\": true}                    ).then(function(){\n",
       "                            \n",
       "var gd = document.getElementById('a469fe2a-9525-4454-89c3-7a05e32d66ea');\n",
       "var x = new MutationObserver(function (mutations, observer) {{\n",
       "        var display = window.getComputedStyle(gd).display;\n",
       "        if (!display || display === 'none') {{\n",
       "            console.log([gd, 'removed!']);\n",
       "            Plotly.purge(gd);\n",
       "            observer.disconnect();\n",
       "        }}\n",
       "}});\n",
       "\n",
       "// Listen for the removal of the full notebook cells\n",
       "var notebookContainer = gd.closest('#notebook-container');\n",
       "if (notebookContainer) {{\n",
       "    x.observe(notebookContainer, {childList: true});\n",
       "}}\n",
       "\n",
       "// Listen for the clearing of the current output cell\n",
       "var outputEl = gd.closest('.output');\n",
       "if (outputEl) {{\n",
       "    x.observe(outputEl, {childList: true});\n",
       "}}\n",
       "\n",
       "                        })                };                });            </script>        </div>"
      ]
     },
     "metadata": {},
     "output_type": "display_data"
    }
   ],
   "source": [
    "_toplot = mdf.groupby(['window_size', 'metric']).mean().reset_index()\n",
    "_toplot['days'] = pd.to_timedelta(_toplot['window_size']).dt.days\n",
    "_toplot = _toplot.sort_values('days')\n",
    "\n",
    "px.bar(\n",
    "    _toplot,\n",
    "    x='window_size',\n",
    "    y=KNN_ANALYZE_METRIC,\n",
    "    color='metric',\n",
    "    hover_data='time@10',\n",
    "    # pattern_shape='metric',\n",
    "    barmode='group',\n",
    ")"
   ]
  },
  {
   "cell_type": "code",
   "execution_count": null,
   "id": "26e3f798-ab63-4f52-9cda-ca735bd38757",
   "metadata": {},
   "outputs": [],
   "source": []
  }
 ],
 "metadata": {
  "kernelspec": {
   "display_name": "Python 3 (ipykernel)",
   "language": "python",
   "name": "python3"
  },
  "language_info": {
   "codemirror_mode": {
    "name": "ipython",
    "version": 3
   },
   "file_extension": ".py",
   "mimetype": "text/x-python",
   "name": "python",
   "nbconvert_exporter": "python",
   "pygments_lexer": "ipython3",
   "version": "3.9.18"
  },
  "widgets": {
   "application/vnd.jupyter.widget-state+json": {
    "state": {
     "03f5676fbafc483fae902f03e4081345": {
      "model_module": "jupyter-vuetify",
      "model_module_version": "^1.8.10",
      "model_name": "VuetifyTemplateModel",
      "state": {
       "_component_instances": [],
       "_jupyter_vue": "IPY_MODEL_8038606f1e9a48e8a1421575266088cd",
       "_model_module_version": "^1.8.10",
       "_view_module_version": "^1.8.10",
       "bytes": null,
       "children": [
        "IPY_MODEL_4d763025f1204910923082017597c11e"
       ],
       "components": null,
       "events": [],
       "filename": "11_knn_results_time_W-THU_normalize=True.pdf",
       "layout": "IPY_MODEL_d0e023b7981442a6a89b789d3e665d83",
       "mime_type": "application/octet-stream",
       "request_download": false,
       "template": "IPY_MODEL_480cacf799ab40cb8c9cedf390dfff48"
      }
     },
     "0abac3c86ca543008090d8c5ed9fb69a": {
      "model_module": "jupyter-vuetify",
      "model_module_version": "^1.8.5",
      "model_name": "IconModel",
      "state": {
       "_events": [],
       "_jupyter_vue": "IPY_MODEL_8038606f1e9a48e8a1421575266088cd",
       "attributes": {},
       "children": [
        "mdi-cloud-download-outline"
       ],
       "layout": null,
       "left": true,
       "size": null,
       "v_slots": []
      }
     },
     "0dcf8f46ad0847dd8a664f0f71ac38d3": {
      "model_module": "jupyter-vuetify",
      "model_module_version": "^1.8.5",
      "model_name": "IconModel",
      "state": {
       "_events": [],
       "_jupyter_vue": "IPY_MODEL_8038606f1e9a48e8a1421575266088cd",
       "attributes": {},
       "children": [
        "mdi-cloud-download-outline"
       ],
       "layout": null,
       "left": true,
       "size": null,
       "v_slots": []
      }
     },
     "0efbf20007714940a20420d1e57e9038": {
      "model_module": "@jupyter-widgets/base",
      "model_module_version": "2.0.0",
      "model_name": "LayoutModel",
      "state": {}
     },
     "103a1c56ed3245c4a10cd01b6cb7f112": {
      "model_module": "@jupyter-widgets/base",
      "model_module_version": "2.0.0",
      "model_name": "LayoutModel",
      "state": {}
     },
     "113b0863e18d44d193f323ccb93329de": {
      "model_module": "jupyter-vuetify",
      "model_module_version": "^1.8.10",
      "model_name": "HtmlModel",
      "state": {
       "_events": [],
       "_jupyter_vue": "IPY_MODEL_8038606f1e9a48e8a1421575266088cd",
       "_model_module_version": "^1.8.10",
       "_view_module_version": "^1.8.10",
       "attributes": {},
       "children": [
        "IPY_MODEL_f882bf71010445ed9eca2b0f04a9f6b1"
       ],
       "layout": null,
       "tag": "div",
       "v_slots": []
      }
     },
     "126ff7c4b6624c96b64988cd78d9ffea": {
      "model_module": "jupyter-vuetify",
      "model_module_version": "^1.8.5",
      "model_name": "IconModel",
      "state": {
       "_events": [],
       "_jupyter_vue": "IPY_MODEL_8038606f1e9a48e8a1421575266088cd",
       "attributes": {},
       "children": [
        "mdi-cloud-download-outline"
       ],
       "layout": null,
       "left": true,
       "size": null,
       "v_slots": []
      }
     },
     "19217fc3611942fb894bb6fb5733f5fb": {
      "model_module": "@jupyter-widgets/base",
      "model_module_version": "2.0.0",
      "model_name": "LayoutModel",
      "state": {}
     },
     "19e1589977df40bbbdcee3d521339146": {
      "model_module": "@jupyter-widgets/base",
      "model_module_version": "2.0.0",
      "model_name": "LayoutModel",
      "state": {}
     },
     "1f49c4e4a03140c1924ccf8e7e2bf36d": {
      "model_module": "@jupyter-widgets/base",
      "model_module_version": "2.0.0",
      "model_name": "LayoutModel",
      "state": {}
     },
     "26a01cff4352469f85598a09369fa636": {
      "model_module": "@jupyter-widgets/base",
      "model_module_version": "2.0.0",
      "model_name": "LayoutModel",
      "state": {}
     },
     "26ebf76d8f0d48e9b0364b199f0668b5": {
      "model_module": "jupyter-vuetify",
      "model_module_version": "^1.8.5",
      "model_name": "ColModel",
      "state": {
       "_events": [],
       "_jupyter_vue": "IPY_MODEL_8038606f1e9a48e8a1421575266088cd",
       "attributes": {},
       "children": [
        "IPY_MODEL_faa111dc4aa940d0beec2aecc7dbd279"
       ],
       "cols": 12,
       "layout": null,
       "lg": null,
       "md": null,
       "offset": null,
       "offset_lg": null,
       "offset_md": null,
       "offset_sm": null,
       "offset_xl": null,
       "order": null,
       "order_lg": null,
       "order_md": null,
       "order_sm": null,
       "order_xl": null,
       "sm": null,
       "v_slots": [],
       "xl": null
      }
     },
     "278ae59520bd483aafd3f2569c2fc504": {
      "model_module": "@jupyter-widgets/controls",
      "model_module_version": "2.0.0",
      "model_name": "VBoxModel",
      "state": {
       "_view_count": 2,
       "children": [
        "IPY_MODEL_310a04467441440cb1862b16ecdba2ee"
       ],
       "layout": "IPY_MODEL_8744ab202672493ca9e283a6a0c30481"
      }
     },
     "287a512b0f12450d82447b80cd49b5f1": {
      "model_module": "@jupyter-widgets/base",
      "model_module_version": "2.0.0",
      "model_name": "LayoutModel",
      "state": {}
     },
     "292d1b53bfac4c9d828c40ba2493682f": {
      "model_module": "jupyter-vuetify",
      "model_module_version": "^1.8.5",
      "model_name": "IconModel",
      "state": {
       "_events": [],
       "_jupyter_vue": "IPY_MODEL_8038606f1e9a48e8a1421575266088cd",
       "attributes": {},
       "children": [
        "mdi-cloud-download-outline"
       ],
       "layout": null,
       "left": true,
       "size": null,
       "v_slots": []
      }
     },
     "2d6eae48f6a34296bfef5bc2f1264740": {
      "model_module": "jupyter-vuetify",
      "model_module_version": "^1.8.10",
      "model_name": "VuetifyTemplateModel",
      "state": {
       "_component_instances": [],
       "_jupyter_vue": "IPY_MODEL_8038606f1e9a48e8a1421575266088cd",
       "_model_module_version": "^1.8.10",
       "_view_module_version": "^1.8.10",
       "bytes": null,
       "children": [
        "IPY_MODEL_91bf8d7559a741278cfd905a404c56b0"
       ],
       "components": null,
       "events": [],
       "filename": "11_knn_usage_k_W-THU_normalize=True.pdf",
       "layout": "IPY_MODEL_e8bcafe4077d4e09917cbad24b70a0fc",
       "mime_type": "application/octet-stream",
       "request_download": false,
       "template": "IPY_MODEL_480cacf799ab40cb8c9cedf390dfff48"
      }
     },
     "2fab990877db40b386ba02ae40fc7ea1": {
      "model_module": "jupyter-vuetify",
      "model_module_version": "^1.8.5",
      "model_name": "RowModel",
      "state": {
       "_events": [],
       "_jupyter_vue": "IPY_MODEL_8038606f1e9a48e8a1421575266088cd",
       "attributes": {},
       "children": [
        "IPY_MODEL_6ab564df8a124a7084b555bce0867316"
       ],
       "class_": "solara-content-main",
       "layout": null,
       "no_gutters": false,
       "v_slots": []
      }
     },
     "310a04467441440cb1862b16ecdba2ee": {
      "model_module": "jupyter-vuetify",
      "model_module_version": "^1.8.10",
      "model_name": "HtmlModel",
      "state": {
       "_events": [],
       "_jupyter_vue": "IPY_MODEL_8038606f1e9a48e8a1421575266088cd",
       "_model_module_version": "^1.8.10",
       "_view_module_version": "^1.8.10",
       "attributes": {},
       "children": [
        "IPY_MODEL_ec3d54f9ef864df0b2abe7416d4d5002"
       ],
       "layout": null,
       "tag": "div",
       "v_slots": []
      }
     },
     "3310bc0ad4ea4c52bacd647a301e3238": {
      "model_module": "jupyter-vuetify",
      "model_module_version": "^1.8.10",
      "model_name": "VuetifyTemplateModel",
      "state": {
       "_component_instances": [],
       "_jupyter_vue": "IPY_MODEL_8038606f1e9a48e8a1421575266088cd",
       "_model_module_version": "^1.8.10",
       "_view_module_version": "^1.8.10",
       "bytes": null,
       "children": [
        "IPY_MODEL_4d9002c2df884809827d67328a8ab290"
       ],
       "components": null,
       "events": [],
       "filename": "11_knn_usage_window_size_W-THU_normalize=True.pdf",
       "layout": "IPY_MODEL_ec818f61bd9f4426af13c68b3112937d",
       "mime_type": "application/octet-stream",
       "request_download": false,
       "template": "IPY_MODEL_480cacf799ab40cb8c9cedf390dfff48"
      }
     },
     "3529834464c34762889c898183f07f39": {
      "model_module": "jupyter-vuetify",
      "model_module_version": "^1.8.5",
      "model_name": "BtnModel",
      "state": {
       "_events": [
        "click"
       ],
       "_jupyter_vue": "IPY_MODEL_8038606f1e9a48e8a1421575266088cd",
       "attributes": {},
       "children": [
        "IPY_MODEL_4e3dc9d0700e42dc801d477847f3f6f6",
        "Download: 11_knn_results_k-size_W-THU_normalize=True.pdf"
       ],
       "class_": "",
       "disabled": false,
       "elevation": null,
       "height": null,
       "href": null,
       "layout": null,
       "loading": false,
       "max_height": null,
       "max_width": null,
       "min_height": null,
       "min_width": null,
       "outlined": false,
       "ripple": null,
       "style_": "",
       "text": false,
       "to": null,
       "v_slots": [],
       "width": null
      }
     },
     "38b187e1f1a34ed695ecab2ce942f17a": {
      "model_module": "jupyter-vuetify",
      "model_module_version": "^1.8.5",
      "model_name": "BtnModel",
      "state": {
       "_events": [
        "click"
       ],
       "_jupyter_vue": "IPY_MODEL_8038606f1e9a48e8a1421575266088cd",
       "attributes": {},
       "children": [
        "IPY_MODEL_5806e357fc4943c7adf969290a6e509b",
        "Download: 11_knn_usage_k_W-THU_normalize=True.pdf"
       ],
       "class_": "",
       "disabled": false,
       "elevation": null,
       "height": null,
       "href": null,
       "layout": null,
       "loading": false,
       "max_height": null,
       "max_width": null,
       "min_height": null,
       "min_width": null,
       "outlined": false,
       "ripple": null,
       "style_": "",
       "text": false,
       "to": null,
       "v_slots": [],
       "width": null
      }
     },
     "3f8cb186800a4fba82a4e62b1f3caf21": {
      "model_module": "@jupyter-widgets/controls",
      "model_module_version": "2.0.0",
      "model_name": "VBoxModel",
      "state": {
       "_view_count": 1,
       "children": [
        "IPY_MODEL_47ada244a1ab4e76af0ff2315613d73e"
       ],
       "layout": "IPY_MODEL_76b66dc1369742acae62fcb1a22a4b69"
      }
     },
     "415985d6ea7e46548ec648097bdcd335": {
      "model_module": "@jupyter-widgets/base",
      "model_module_version": "2.0.0",
      "model_name": "LayoutModel",
      "state": {}
     },
     "47ada244a1ab4e76af0ff2315613d73e": {
      "model_module": "jupyter-vuetify",
      "model_module_version": "^1.8.10",
      "model_name": "HtmlModel",
      "state": {
       "_events": [],
       "_jupyter_vue": "IPY_MODEL_8038606f1e9a48e8a1421575266088cd",
       "_model_module_version": "^1.8.10",
       "_view_module_version": "^1.8.10",
       "attributes": {},
       "children": [
        "IPY_MODEL_ce9888d7dc704d869a70672266e8bd22"
       ],
       "layout": null,
       "tag": "div",
       "v_slots": []
      }
     },
     "480cacf799ab40cb8c9cedf390dfff48": {
      "model_module": "jupyter-vue",
      "model_module_version": "^1.10.1",
      "model_name": "TemplateModel",
      "state": {
       "_model_module": "jupyter-vue",
       "_model_module_version": "^1.10.1",
       "_view_module": null,
       "_view_module_version": "",
       "template": "<template>\n    <div @click=\"request_download = true\" class=\"solara-file-download-container\">\n        <jupyter-widget v-for=\"child in children\" :key=\"child\" :widget=\"child\"></jupyter-widget>\n    </div>\n</template>\n\n<script>\nmodule.exports = {\n    watch: {\n        bytes(value) {\n            if (this.request_download) {\n                const a = document.createElement('a');\n                a.download = this.filename;\n                const blob = new Blob([this.bytes], { type: this.mime_type });\n                const blobUrl = window.URL.createObjectURL(blob);\n                a.href = blobUrl;\n                document.body.appendChild(a);\n                a.click();\n                document.body.removeChild(a);\n                setTimeout(() => {\n                    // Make sure we clean up\n                    window.URL.revokeObjectURL(blobUrl);\n                }, 1000);\n                this.request_download = false;\n            }\n        }\n    }\n}\n</script>\n\n<style id=\"solara-file-download\">\n.solara-file-download-container {\n    cursor: pointer;\n}\n</style>\n"
      }
     },
     "4acee66e590449df8981bf630bda61a3": {
      "model_module": "jupyter-vuetify",
      "model_module_version": "^1.8.5",
      "model_name": "IconModel",
      "state": {
       "_events": [],
       "_jupyter_vue": "IPY_MODEL_8038606f1e9a48e8a1421575266088cd",
       "attributes": {},
       "children": [
        "mdi-cloud-download-outline"
       ],
       "layout": null,
       "left": true,
       "size": null,
       "v_slots": []
      }
     },
     "4d763025f1204910923082017597c11e": {
      "model_module": "jupyter-vuetify",
      "model_module_version": "^1.8.5",
      "model_name": "BtnModel",
      "state": {
       "_events": [
        "click"
       ],
       "_jupyter_vue": "IPY_MODEL_8038606f1e9a48e8a1421575266088cd",
       "attributes": {},
       "children": [
        "IPY_MODEL_292d1b53bfac4c9d828c40ba2493682f",
        "Download: 11_knn_results_time_W-THU_normalize=True.pdf"
       ],
       "class_": "",
       "disabled": false,
       "elevation": null,
       "height": null,
       "href": null,
       "layout": null,
       "loading": false,
       "max_height": null,
       "max_width": null,
       "min_height": null,
       "min_width": null,
       "outlined": false,
       "ripple": null,
       "style_": "",
       "text": false,
       "to": null,
       "v_slots": [],
       "width": null
      }
     },
     "4d9002c2df884809827d67328a8ab290": {
      "model_module": "jupyter-vuetify",
      "model_module_version": "^1.8.5",
      "model_name": "BtnModel",
      "state": {
       "_events": [
        "click"
       ],
       "_jupyter_vue": "IPY_MODEL_8038606f1e9a48e8a1421575266088cd",
       "attributes": {},
       "children": [
        "IPY_MODEL_f0ee61f84a474c2eb19315d85747507c",
        "Download: 11_knn_usage_window_size_W-THU_normalize=True.pdf"
       ],
       "class_": "",
       "disabled": false,
       "elevation": null,
       "height": null,
       "href": null,
       "layout": null,
       "loading": false,
       "max_height": null,
       "max_width": null,
       "min_height": null,
       "min_width": null,
       "outlined": false,
       "ripple": null,
       "style_": "",
       "text": false,
       "to": null,
       "v_slots": [],
       "width": null
      }
     },
     "4e3dc9d0700e42dc801d477847f3f6f6": {
      "model_module": "jupyter-vuetify",
      "model_module_version": "^1.8.5",
      "model_name": "IconModel",
      "state": {
       "_events": [],
       "_jupyter_vue": "IPY_MODEL_8038606f1e9a48e8a1421575266088cd",
       "attributes": {},
       "children": [
        "mdi-cloud-download-outline"
       ],
       "layout": null,
       "left": true,
       "size": null,
       "v_slots": []
      }
     },
     "4f493e7f82024561b3b3ec93730ec370": {
      "model_module": "jupyter-vuetify",
      "model_module_version": "^1.8.10",
      "model_name": "VuetifyTemplateModel",
      "state": {
       "_component_instances": [],
       "_jupyter_vue": "IPY_MODEL_8038606f1e9a48e8a1421575266088cd",
       "_model_module_version": "^1.8.10",
       "_view_module_version": "^1.8.10",
       "bytes": null,
       "children": [
        "IPY_MODEL_ce3b8243cf7444f590afecf64cfb47e5"
       ],
       "components": null,
       "events": [],
       "filename": "11_knn_usage_window_size_W-THU_normalize=True.pdf",
       "layout": "IPY_MODEL_0efbf20007714940a20420d1e57e9038",
       "mime_type": "application/octet-stream",
       "request_download": false,
       "template": "IPY_MODEL_480cacf799ab40cb8c9cedf390dfff48"
      }
     },
     "55548f6c755248818968ec9363f32022": {
      "model_module": "jupyter-vuetify",
      "model_module_version": "^1.8.5",
      "model_name": "ColModel",
      "state": {
       "_events": [],
       "_jupyter_vue": "IPY_MODEL_8038606f1e9a48e8a1421575266088cd",
       "attributes": {},
       "children": [
        "IPY_MODEL_66b4506d8dcc4f9db646bf5fdf69a654"
       ],
       "cols": 12,
       "layout": null,
       "lg": null,
       "md": null,
       "offset": null,
       "offset_lg": null,
       "offset_md": null,
       "offset_sm": null,
       "offset_xl": null,
       "order": null,
       "order_lg": null,
       "order_md": null,
       "order_sm": null,
       "order_xl": null,
       "sm": null,
       "v_slots": [],
       "xl": null
      }
     },
     "579151371db843ac831524f84ad41a64": {
      "model_module": "jupyter-vuetify",
      "model_module_version": "^1.8.5",
      "model_name": "BtnModel",
      "state": {
       "_events": [
        "click"
       ],
       "_jupyter_vue": "IPY_MODEL_8038606f1e9a48e8a1421575266088cd",
       "attributes": {},
       "children": [
        "IPY_MODEL_d0180d6376b64033ab73a107afd5dbfd",
        "Download: 11_cosine_results_results-lines_W-THU_normalize=True.pdf"
       ],
       "class_": "",
       "disabled": false,
       "elevation": null,
       "height": null,
       "href": null,
       "layout": null,
       "loading": false,
       "max_height": null,
       "max_width": null,
       "min_height": null,
       "min_width": null,
       "outlined": false,
       "ripple": null,
       "style_": "",
       "text": false,
       "to": null,
       "v_slots": [],
       "width": null
      }
     },
     "5806e357fc4943c7adf969290a6e509b": {
      "model_module": "jupyter-vuetify",
      "model_module_version": "^1.8.5",
      "model_name": "IconModel",
      "state": {
       "_events": [],
       "_jupyter_vue": "IPY_MODEL_8038606f1e9a48e8a1421575266088cd",
       "attributes": {},
       "children": [
        "mdi-cloud-download-outline"
       ],
       "layout": null,
       "left": true,
       "size": null,
       "v_slots": []
      }
     },
     "5aa6914662dc4cc79d8470a79f619f7e": {
      "model_module": "jupyter-vuetify",
      "model_module_version": "^1.8.5",
      "model_name": "IconModel",
      "state": {
       "_events": [],
       "_jupyter_vue": "IPY_MODEL_8038606f1e9a48e8a1421575266088cd",
       "attributes": {},
       "children": [
        "mdi-cloud-download-outline"
       ],
       "layout": null,
       "left": true,
       "size": null,
       "v_slots": []
      }
     },
     "5ad9a35ba36842d482ed00ac580a6ba4": {
      "model_module": "jupyter-vuetify",
      "model_module_version": "^1.8.10",
      "model_name": "HtmlModel",
      "state": {
       "_events": [],
       "_jupyter_vue": "IPY_MODEL_8038606f1e9a48e8a1421575266088cd",
       "_model_module_version": "^1.8.10",
       "_view_module_version": "^1.8.10",
       "attributes": {},
       "children": [
        "IPY_MODEL_2fab990877db40b386ba02ae40fc7ea1"
       ],
       "layout": null,
       "tag": "div",
       "v_slots": []
      }
     },
     "5f0e7d1bd7b349e3b36b299362b5f76a": {
      "model_module": "jupyter-vuetify",
      "model_module_version": "^1.8.10",
      "model_name": "HtmlModel",
      "state": {
       "_events": [],
       "_jupyter_vue": "IPY_MODEL_8038606f1e9a48e8a1421575266088cd",
       "_model_module_version": "^1.8.10",
       "_view_module_version": "^1.8.10",
       "attributes": {},
       "children": [
        "IPY_MODEL_b485c128757f4e29872d7a06f0e7f389"
       ],
       "layout": null,
       "tag": "div",
       "v_slots": []
      }
     },
     "5f6f3ad70c9e4797b20ed4b454e47c37": {
      "model_module": "@jupyter-widgets/controls",
      "model_module_version": "2.0.0",
      "model_name": "VBoxModel",
      "state": {
       "_view_count": 2,
       "children": [
        "IPY_MODEL_aaeac86e41dc44699d64ba75f1b48b44"
       ],
       "layout": "IPY_MODEL_f68aeb85df6645fd8a744a89a1c15a04"
      }
     },
     "610bca9e5f8249f8b6b6f7cbdbd15114": {
      "model_module": "@jupyter-widgets/base",
      "model_module_version": "2.0.0",
      "model_name": "LayoutModel",
      "state": {}
     },
     "62b35283a7c6449cbbaf25b78ddf93c6": {
      "model_module": "jupyter-vuetify",
      "model_module_version": "^1.8.5",
      "model_name": "IconModel",
      "state": {
       "_events": [],
       "_jupyter_vue": "IPY_MODEL_8038606f1e9a48e8a1421575266088cd",
       "attributes": {},
       "children": [
        "mdi-cloud-download-outline"
       ],
       "layout": null,
       "left": true,
       "size": null,
       "v_slots": []
      }
     },
     "66b4506d8dcc4f9db646bf5fdf69a654": {
      "model_module": "jupyter-vuetify",
      "model_module_version": "^1.8.10",
      "model_name": "VuetifyTemplateModel",
      "state": {
       "_component_instances": [],
       "_jupyter_vue": "IPY_MODEL_8038606f1e9a48e8a1421575266088cd",
       "_model_module_version": "^1.8.10",
       "_view_module_version": "^1.8.10",
       "bytes": null,
       "children": [
        "IPY_MODEL_7ee6c031fdf84bc48c7fb844bc8b451a"
       ],
       "components": null,
       "events": [],
       "filename": "11_cosine_results_window-size_W-THU_normalize=True.pdf",
       "layout": "IPY_MODEL_e5ac0c3b9e4e48cf9ba6a207fc40b7c4",
       "mime_type": "application/octet-stream",
       "request_download": false,
       "template": "IPY_MODEL_480cacf799ab40cb8c9cedf390dfff48"
      }
     },
     "6ab564df8a124a7084b555bce0867316": {
      "model_module": "jupyter-vuetify",
      "model_module_version": "^1.8.5",
      "model_name": "ColModel",
      "state": {
       "_events": [],
       "_jupyter_vue": "IPY_MODEL_8038606f1e9a48e8a1421575266088cd",
       "attributes": {},
       "children": [
        "IPY_MODEL_2d6eae48f6a34296bfef5bc2f1264740"
       ],
       "cols": 12,
       "layout": null,
       "lg": null,
       "md": null,
       "offset": null,
       "offset_lg": null,
       "offset_md": null,
       "offset_sm": null,
       "offset_xl": null,
       "order": null,
       "order_lg": null,
       "order_md": null,
       "order_sm": null,
       "order_xl": null,
       "sm": null,
       "v_slots": [],
       "xl": null
      }
     },
     "6c16a989a73146e09a3f857616cbd064": {
      "model_module": "jupyter-vuetify",
      "model_module_version": "^1.8.5",
      "model_name": "BtnModel",
      "state": {
       "_events": [
        "click"
       ],
       "_jupyter_vue": "IPY_MODEL_8038606f1e9a48e8a1421575266088cd",
       "attributes": {},
       "children": [
        "IPY_MODEL_0abac3c86ca543008090d8c5ed9fb69a",
        "Download: 11_cosine_results_window-size_W-THU_normalize=True.pdf"
       ],
       "class_": "",
       "disabled": false,
       "elevation": null,
       "height": null,
       "href": null,
       "layout": null,
       "loading": false,
       "max_height": null,
       "max_width": null,
       "min_height": null,
       "min_width": null,
       "outlined": false,
       "ripple": null,
       "style_": "",
       "text": false,
       "to": null,
       "v_slots": [],
       "width": null
      }
     },
     "70a173ad35b14568842745628e2b8c3a": {
      "model_module": "@jupyter-widgets/controls",
      "model_module_version": "2.0.0",
      "model_name": "VBoxModel",
      "state": {
       "_view_count": 1,
       "children": [
        "IPY_MODEL_ace6b54fdd8d4f7abed88347c254a764"
       ],
       "layout": "IPY_MODEL_1f49c4e4a03140c1924ccf8e7e2bf36d"
      }
     },
     "71facf5c989040c49b201eaccce2d6a3": {
      "model_module": "jupyter-vuetify",
      "model_module_version": "^1.8.10",
      "model_name": "VuetifyTemplateModel",
      "state": {
       "_component_instances": [],
       "_jupyter_vue": "IPY_MODEL_8038606f1e9a48e8a1421575266088cd",
       "_model_module_version": "^1.8.10",
       "_view_module_version": "^1.8.10",
       "bytes": null,
       "children": [
        "IPY_MODEL_38b187e1f1a34ed695ecab2ce942f17a"
       ],
       "components": null,
       "events": [],
       "filename": "11_knn_usage_k_W-THU_normalize=True.pdf",
       "layout": "IPY_MODEL_d2aadd25d4d640bc9dcb8aa5bfa8810e",
       "mime_type": "application/octet-stream",
       "request_download": false,
       "template": "IPY_MODEL_480cacf799ab40cb8c9cedf390dfff48"
      }
     },
     "737082f793294e3c9ce48ecb77de0878": {
      "model_module": "jupyter-vuetify",
      "model_module_version": "^1.8.5",
      "model_name": "RowModel",
      "state": {
       "_events": [],
       "_jupyter_vue": "IPY_MODEL_8038606f1e9a48e8a1421575266088cd",
       "attributes": {},
       "children": [
        "IPY_MODEL_55548f6c755248818968ec9363f32022"
       ],
       "class_": "solara-content-main",
       "layout": null,
       "no_gutters": false,
       "v_slots": []
      }
     },
     "74b999817ebb44759d1949e55ef48fa7": {
      "model_module": "jupyter-vuetify",
      "model_module_version": "^1.8.10",
      "model_name": "ThemeColorsModel",
      "state": {
       "_model_module_version": "^1.8.10",
       "_theme_name": "dark",
       "_view_module": null,
       "_view_module_version": "^1.8.10",
       "accent": "#FF4081",
       "error": "#FF5252",
       "info": "#2196F3",
       "primary": "#2196F3",
       "secondary": "#424242",
       "success": "#4CAF50",
       "warning": "#FB8C00"
      }
     },
     "767ec6f228b146af8abc455ea11db413": {
      "model_module": "jupyter-vuetify",
      "model_module_version": "^1.8.10",
      "model_name": "VuetifyTemplateModel",
      "state": {
       "_component_instances": [],
       "_jupyter_vue": "IPY_MODEL_8038606f1e9a48e8a1421575266088cd",
       "_model_module_version": "^1.8.10",
       "_view_module_version": "^1.8.10",
       "bytes": null,
       "children": [
        "IPY_MODEL_a700a86bdac1400e85b47ce4d8179c53"
       ],
       "components": null,
       "events": [],
       "filename": "11_cosine_results_results-lines_W-THU_normalize=True.pdf",
       "layout": "IPY_MODEL_e248f4fe1121493695dc0c30a2d56687",
       "mime_type": "application/octet-stream",
       "request_download": false,
       "template": "IPY_MODEL_480cacf799ab40cb8c9cedf390dfff48"
      }
     },
     "76b66dc1369742acae62fcb1a22a4b69": {
      "model_module": "@jupyter-widgets/base",
      "model_module_version": "2.0.0",
      "model_name": "LayoutModel",
      "state": {}
     },
     "7cb7f7ddef694086ba4ba77d2a40f4bc": {
      "model_module": "jupyter-vuetify",
      "model_module_version": "^1.8.10",
      "model_name": "HtmlModel",
      "state": {
       "_events": [],
       "_jupyter_vue": "IPY_MODEL_8038606f1e9a48e8a1421575266088cd",
       "_model_module_version": "^1.8.10",
       "_view_module_version": "^1.8.10",
       "attributes": {},
       "children": [
        "IPY_MODEL_c9d93cf6b7b6475199567a9c3894325c"
       ],
       "layout": null,
       "tag": "div",
       "v_slots": []
      }
     },
     "7ee6c031fdf84bc48c7fb844bc8b451a": {
      "model_module": "jupyter-vuetify",
      "model_module_version": "^1.8.5",
      "model_name": "BtnModel",
      "state": {
       "_events": [
        "click"
       ],
       "_jupyter_vue": "IPY_MODEL_8038606f1e9a48e8a1421575266088cd",
       "attributes": {},
       "children": [
        "IPY_MODEL_0dcf8f46ad0847dd8a664f0f71ac38d3",
        "Download: 11_cosine_results_window-size_W-THU_normalize=True.pdf"
       ],
       "class_": "",
       "disabled": false,
       "elevation": null,
       "height": null,
       "href": null,
       "layout": null,
       "loading": false,
       "max_height": null,
       "max_width": null,
       "min_height": null,
       "min_width": null,
       "outlined": false,
       "ripple": null,
       "style_": "",
       "text": false,
       "to": null,
       "v_slots": [],
       "width": null
      }
     },
     "8038606f1e9a48e8a1421575266088cd": {
      "model_module": "jupyter-vue",
      "model_module_version": "^1.10.1",
      "model_name": "ForceLoadModel",
      "state": {
       "_model_module_version": "^1.10.1",
       "_view_module": null,
       "_view_module_version": "",
       "layout": "IPY_MODEL_103a1c56ed3245c4a10cd01b6cb7f112"
      }
     },
     "82ba17904f714c2e93e39b3b36c11f6a": {
      "model_module": "@jupyter-widgets/controls",
      "model_module_version": "2.0.0",
      "model_name": "VBoxModel",
      "state": {
       "_view_count": 2,
       "children": [
        "IPY_MODEL_113b0863e18d44d193f323ccb93329de"
       ],
       "layout": "IPY_MODEL_989c35d3297440dcb3820fccd9ef23d8"
      }
     },
     "8625ef88202d4f17b11bae5e1911c8d3": {
      "model_module": "@jupyter-widgets/controls",
      "model_module_version": "2.0.0",
      "model_name": "VBoxModel",
      "state": {
       "_view_count": 2,
       "children": [
        "IPY_MODEL_bec972e38477420fb2a2d9420e102416"
       ],
       "layout": "IPY_MODEL_a11c3913dc9b404da0d2a3f9b3eec41d"
      }
     },
     "86f11776a0734eceb48d78e7ac17bfde": {
      "model_module": "jupyter-vuetify",
      "model_module_version": "^1.8.5",
      "model_name": "RowModel",
      "state": {
       "_events": [],
       "_jupyter_vue": "IPY_MODEL_8038606f1e9a48e8a1421575266088cd",
       "attributes": {},
       "children": [
        "IPY_MODEL_c82ff107fa2e40b8802fc79e5c8aca98"
       ],
       "class_": "solara-content-main",
       "layout": null,
       "no_gutters": false,
       "v_slots": []
      }
     },
     "8744ab202672493ca9e283a6a0c30481": {
      "model_module": "@jupyter-widgets/base",
      "model_module_version": "2.0.0",
      "model_name": "LayoutModel",
      "state": {}
     },
     "88c6467202b64c31890d781ddaf7bb6e": {
      "model_module": "jupyter-vuetify",
      "model_module_version": "^1.8.10",
      "model_name": "VuetifyTemplateModel",
      "state": {
       "_component_instances": [],
       "_jupyter_vue": "IPY_MODEL_8038606f1e9a48e8a1421575266088cd",
       "_model_module_version": "^1.8.10",
       "_view_module_version": "^1.8.10",
       "bytes": null,
       "children": [
        "IPY_MODEL_6c16a989a73146e09a3f857616cbd064"
       ],
       "components": null,
       "events": [],
       "filename": "11_cosine_results_window-size_W-THU_normalize=True.pdf",
       "layout": "IPY_MODEL_610bca9e5f8249f8b6b6f7cbdbd15114",
       "mime_type": "application/octet-stream",
       "request_download": false,
       "template": "IPY_MODEL_480cacf799ab40cb8c9cedf390dfff48"
      }
     },
     "8e8cc61dff204ab59d496f17a9c7e57f": {
      "model_module": "@jupyter-widgets/controls",
      "model_module_version": "2.0.0",
      "model_name": "VBoxModel",
      "state": {
       "_view_count": 1,
       "children": [
        "IPY_MODEL_5f0e7d1bd7b349e3b36b299362b5f76a"
       ],
       "layout": "IPY_MODEL_287a512b0f12450d82447b80cd49b5f1"
      }
     },
     "91bf8d7559a741278cfd905a404c56b0": {
      "model_module": "jupyter-vuetify",
      "model_module_version": "^1.8.5",
      "model_name": "BtnModel",
      "state": {
       "_events": [
        "click"
       ],
       "_jupyter_vue": "IPY_MODEL_8038606f1e9a48e8a1421575266088cd",
       "attributes": {},
       "children": [
        "IPY_MODEL_62b35283a7c6449cbbaf25b78ddf93c6",
        "Download: 11_knn_usage_k_W-THU_normalize=True.pdf"
       ],
       "class_": "",
       "disabled": false,
       "elevation": null,
       "height": null,
       "href": null,
       "layout": null,
       "loading": false,
       "max_height": null,
       "max_width": null,
       "min_height": null,
       "min_width": null,
       "outlined": false,
       "ripple": null,
       "style_": "",
       "text": false,
       "to": null,
       "v_slots": [],
       "width": null
      }
     },
     "938481437192405eb4978c0869bac6da": {
      "model_module": "jupyter-vuetify",
      "model_module_version": "^1.8.5",
      "model_name": "ColModel",
      "state": {
       "_events": [],
       "_jupyter_vue": "IPY_MODEL_8038606f1e9a48e8a1421575266088cd",
       "attributes": {},
       "children": [
        "IPY_MODEL_71facf5c989040c49b201eaccce2d6a3"
       ],
       "cols": 12,
       "layout": null,
       "lg": null,
       "md": null,
       "offset": null,
       "offset_lg": null,
       "offset_md": null,
       "offset_sm": null,
       "offset_xl": null,
       "order": null,
       "order_lg": null,
       "order_md": null,
       "order_sm": null,
       "order_xl": null,
       "sm": null,
       "v_slots": [],
       "xl": null
      }
     },
     "98702dc12bc04726bce7abc779b9255c": {
      "model_module": "jupyter-vuetify",
      "model_module_version": "^1.8.10",
      "model_name": "HtmlModel",
      "state": {
       "_events": [],
       "_jupyter_vue": "IPY_MODEL_8038606f1e9a48e8a1421575266088cd",
       "_model_module_version": "^1.8.10",
       "_view_module_version": "^1.8.10",
       "attributes": {},
       "children": [
        "IPY_MODEL_737082f793294e3c9ce48ecb77de0878"
       ],
       "layout": null,
       "tag": "div",
       "v_slots": []
      }
     },
     "989c35d3297440dcb3820fccd9ef23d8": {
      "model_module": "@jupyter-widgets/base",
      "model_module_version": "2.0.0",
      "model_name": "LayoutModel",
      "state": {}
     },
     "99026865e4f44416983cc148df9c1a59": {
      "model_module": "jupyter-vuetify",
      "model_module_version": "^1.8.5",
      "model_name": "ColModel",
      "state": {
       "_events": [],
       "_jupyter_vue": "IPY_MODEL_8038606f1e9a48e8a1421575266088cd",
       "attributes": {},
       "children": [
        "IPY_MODEL_a030e45e9e514f2e97a515e02a8e1e5e"
       ],
       "cols": 12,
       "layout": null,
       "lg": null,
       "md": null,
       "offset": null,
       "offset_lg": null,
       "offset_md": null,
       "offset_sm": null,
       "offset_xl": null,
       "order": null,
       "order_lg": null,
       "order_md": null,
       "order_sm": null,
       "order_xl": null,
       "sm": null,
       "v_slots": [],
       "xl": null
      }
     },
     "997c5c5205e24e9f9306e7c6b4cafa69": {
      "model_module": "@jupyter-widgets/base",
      "model_module_version": "2.0.0",
      "model_name": "LayoutModel",
      "state": {}
     },
     "9c4af967b955414d8ffedf7c6ea9f28e": {
      "model_module": "@jupyter-widgets/controls",
      "model_module_version": "2.0.0",
      "model_name": "VBoxModel",
      "state": {
       "_view_count": 2,
       "children": [
        "IPY_MODEL_5ad9a35ba36842d482ed00ac580a6ba4"
       ],
       "layout": "IPY_MODEL_997c5c5205e24e9f9306e7c6b4cafa69"
      }
     },
     "9d4ade36bd3247a1a370edc8582b95b5": {
      "model_module": "@jupyter-widgets/base",
      "model_module_version": "2.0.0",
      "model_name": "LayoutModel",
      "state": {}
     },
     "9efd98b4cf0a423aaba9d02382ac8a83": {
      "model_module": "jupyter-vuetify",
      "model_module_version": "^1.8.5",
      "model_name": "ColModel",
      "state": {
       "_events": [],
       "_jupyter_vue": "IPY_MODEL_8038606f1e9a48e8a1421575266088cd",
       "attributes": {},
       "children": [
        "IPY_MODEL_3310bc0ad4ea4c52bacd647a301e3238"
       ],
       "cols": 12,
       "layout": null,
       "lg": null,
       "md": null,
       "offset": null,
       "offset_lg": null,
       "offset_md": null,
       "offset_sm": null,
       "offset_xl": null,
       "order": null,
       "order_lg": null,
       "order_md": null,
       "order_sm": null,
       "order_xl": null,
       "sm": null,
       "v_slots": [],
       "xl": null
      }
     },
     "a030e45e9e514f2e97a515e02a8e1e5e": {
      "model_module": "jupyter-vuetify",
      "model_module_version": "^1.8.10",
      "model_name": "VuetifyTemplateModel",
      "state": {
       "_component_instances": [],
       "_jupyter_vue": "IPY_MODEL_8038606f1e9a48e8a1421575266088cd",
       "_model_module_version": "^1.8.10",
       "_view_module_version": "^1.8.10",
       "bytes": null,
       "children": [
        "IPY_MODEL_3529834464c34762889c898183f07f39"
       ],
       "components": null,
       "events": [],
       "filename": "11_knn_results_k-size_W-THU_normalize=True.pdf",
       "layout": "IPY_MODEL_415985d6ea7e46548ec648097bdcd335",
       "mime_type": "application/octet-stream",
       "request_download": false,
       "template": "IPY_MODEL_480cacf799ab40cb8c9cedf390dfff48"
      }
     },
     "a11c3913dc9b404da0d2a3f9b3eec41d": {
      "model_module": "@jupyter-widgets/base",
      "model_module_version": "2.0.0",
      "model_name": "LayoutModel",
      "state": {}
     },
     "a700a86bdac1400e85b47ce4d8179c53": {
      "model_module": "jupyter-vuetify",
      "model_module_version": "^1.8.5",
      "model_name": "BtnModel",
      "state": {
       "_events": [
        "click"
       ],
       "_jupyter_vue": "IPY_MODEL_8038606f1e9a48e8a1421575266088cd",
       "attributes": {},
       "children": [
        "IPY_MODEL_126ff7c4b6624c96b64988cd78d9ffea",
        "Download: 11_cosine_results_results-lines_W-THU_normalize=True.pdf"
       ],
       "class_": "",
       "disabled": false,
       "elevation": null,
       "height": null,
       "href": null,
       "layout": null,
       "loading": false,
       "max_height": null,
       "max_width": null,
       "min_height": null,
       "min_width": null,
       "outlined": false,
       "ripple": null,
       "style_": "",
       "text": false,
       "to": null,
       "v_slots": [],
       "width": null
      }
     },
     "a7d7687b24f04211902e38a473148bf0": {
      "model_module": "jupyter-vuetify",
      "model_module_version": "^1.8.10",
      "model_name": "VuetifyTemplateModel",
      "state": {
       "_component_instances": [],
       "_jupyter_vue": "IPY_MODEL_8038606f1e9a48e8a1421575266088cd",
       "_model_module_version": "^1.8.10",
       "_view_module_version": "^1.8.10",
       "bytes": null,
       "children": [
        "IPY_MODEL_d9c4539828ce4f8c926731a3ea97b18e"
       ],
       "components": null,
       "events": [],
       "filename": "11_knn_results_k-size_W-THU_normalize=True.pdf",
       "layout": "IPY_MODEL_9d4ade36bd3247a1a370edc8582b95b5",
       "mime_type": "application/octet-stream",
       "request_download": false,
       "template": "IPY_MODEL_480cacf799ab40cb8c9cedf390dfff48"
      }
     },
     "a98329cde2d145b0b9a311ef7fb7eb26": {
      "model_module": "@jupyter-widgets/controls",
      "model_module_version": "2.0.0",
      "model_name": "VBoxModel",
      "state": {
       "_view_count": 1,
       "children": [
        "IPY_MODEL_7cb7f7ddef694086ba4ba77d2a40f4bc"
       ],
       "layout": "IPY_MODEL_c7ea88cc753042af96083d473451f791"
      }
     },
     "aaeac86e41dc44699d64ba75f1b48b44": {
      "model_module": "jupyter-vuetify",
      "model_module_version": "^1.8.10",
      "model_name": "HtmlModel",
      "state": {
       "_events": [],
       "_jupyter_vue": "IPY_MODEL_8038606f1e9a48e8a1421575266088cd",
       "_model_module_version": "^1.8.10",
       "_view_module_version": "^1.8.10",
       "attributes": {},
       "children": [
        "IPY_MODEL_dc6bbd2b9ffc46dc92eaaf7e81b890dc"
       ],
       "layout": null,
       "tag": "div",
       "v_slots": []
      }
     },
     "ace6b54fdd8d4f7abed88347c254a764": {
      "model_module": "jupyter-vuetify",
      "model_module_version": "^1.8.10",
      "model_name": "HtmlModel",
      "state": {
       "_events": [],
       "_jupyter_vue": "IPY_MODEL_8038606f1e9a48e8a1421575266088cd",
       "_model_module_version": "^1.8.10",
       "_view_module_version": "^1.8.10",
       "attributes": {},
       "children": [
        "IPY_MODEL_b3cf70975b2449e99008c3a4878c9805"
       ],
       "layout": null,
       "tag": "div",
       "v_slots": []
      }
     },
     "af7503fedc9549a2b891214082ac0318": {
      "model_module": "@jupyter-widgets/controls",
      "model_module_version": "2.0.0",
      "model_name": "VBoxModel",
      "state": {
       "_view_count": 2,
       "children": [
        "IPY_MODEL_98702dc12bc04726bce7abc779b9255c"
       ],
       "layout": "IPY_MODEL_19217fc3611942fb894bb6fb5733f5fb"
      }
     },
     "b0e41f024d174f5a8e49dc4301de6f8f": {
      "model_module": "jupyter-vuetify",
      "model_module_version": "^1.8.5",
      "model_name": "ColModel",
      "state": {
       "_events": [],
       "_jupyter_vue": "IPY_MODEL_8038606f1e9a48e8a1421575266088cd",
       "attributes": {},
       "children": [
        "IPY_MODEL_767ec6f228b146af8abc455ea11db413"
       ],
       "cols": 12,
       "layout": null,
       "lg": null,
       "md": null,
       "offset": null,
       "offset_lg": null,
       "offset_md": null,
       "offset_sm": null,
       "offset_xl": null,
       "order": null,
       "order_lg": null,
       "order_md": null,
       "order_sm": null,
       "order_xl": null,
       "sm": null,
       "v_slots": [],
       "xl": null
      }
     },
     "b0efb9e6b6644ce3ae6ef1227af82ed3": {
      "model_module": "jupyter-vuetify",
      "model_module_version": "^1.8.10",
      "model_name": "HtmlModel",
      "state": {
       "_events": [],
       "_jupyter_vue": "IPY_MODEL_8038606f1e9a48e8a1421575266088cd",
       "_model_module_version": "^1.8.10",
       "_view_module_version": "^1.8.10",
       "attributes": {},
       "children": [
        "IPY_MODEL_86f11776a0734eceb48d78e7ac17bfde"
       ],
       "layout": null,
       "tag": "div",
       "v_slots": []
      }
     },
     "b3cf70975b2449e99008c3a4878c9805": {
      "model_module": "jupyter-vuetify",
      "model_module_version": "^1.8.5",
      "model_name": "RowModel",
      "state": {
       "_events": [],
       "_jupyter_vue": "IPY_MODEL_8038606f1e9a48e8a1421575266088cd",
       "attributes": {},
       "children": [
        "IPY_MODEL_dc59cb4e01f34d2a84f31d8deb34746f"
       ],
       "class_": "solara-content-main",
       "layout": null,
       "no_gutters": false,
       "v_slots": []
      }
     },
     "b485c128757f4e29872d7a06f0e7f389": {
      "model_module": "jupyter-vuetify",
      "model_module_version": "^1.8.5",
      "model_name": "RowModel",
      "state": {
       "_events": [],
       "_jupyter_vue": "IPY_MODEL_8038606f1e9a48e8a1421575266088cd",
       "attributes": {},
       "children": [
        "IPY_MODEL_f1d3c6e959f546a7945aa400657c8e24"
       ],
       "class_": "solara-content-main",
       "layout": null,
       "no_gutters": false,
       "v_slots": []
      }
     },
     "b766e8c1a23046cbaac478af22fb7263": {
      "model_module": "jupyter-vuetify",
      "model_module_version": "^1.8.5",
      "model_name": "ColModel",
      "state": {
       "_events": [],
       "_jupyter_vue": "IPY_MODEL_8038606f1e9a48e8a1421575266088cd",
       "attributes": {},
       "children": [
        "IPY_MODEL_4f493e7f82024561b3b3ec93730ec370"
       ],
       "cols": 12,
       "layout": null,
       "lg": null,
       "md": null,
       "offset": null,
       "offset_lg": null,
       "offset_md": null,
       "offset_sm": null,
       "offset_xl": null,
       "order": null,
       "order_lg": null,
       "order_md": null,
       "order_sm": null,
       "order_xl": null,
       "sm": null,
       "v_slots": [],
       "xl": null
      }
     },
     "bacba41222ab42648e9abe64e5d88229": {
      "model_module": "jupyter-vuetify",
      "model_module_version": "^1.8.5",
      "model_name": "RowModel",
      "state": {
       "_events": [],
       "_jupyter_vue": "IPY_MODEL_8038606f1e9a48e8a1421575266088cd",
       "attributes": {},
       "children": [
        "IPY_MODEL_b0e41f024d174f5a8e49dc4301de6f8f"
       ],
       "class_": "solara-content-main",
       "layout": null,
       "no_gutters": false,
       "v_slots": []
      }
     },
     "bec972e38477420fb2a2d9420e102416": {
      "model_module": "jupyter-vuetify",
      "model_module_version": "^1.8.10",
      "model_name": "HtmlModel",
      "state": {
       "_events": [],
       "_jupyter_vue": "IPY_MODEL_8038606f1e9a48e8a1421575266088cd",
       "_model_module_version": "^1.8.10",
       "_view_module_version": "^1.8.10",
       "attributes": {},
       "children": [
        "IPY_MODEL_bacba41222ab42648e9abe64e5d88229"
       ],
       "layout": null,
       "tag": "div",
       "v_slots": []
      }
     },
     "c2a222746c3645cca056fe694b56b405": {
      "model_module": "jupyter-vuetify",
      "model_module_version": "^1.8.5",
      "model_name": "BtnModel",
      "state": {
       "_events": [
        "click"
       ],
       "_jupyter_vue": "IPY_MODEL_8038606f1e9a48e8a1421575266088cd",
       "attributes": {},
       "children": [
        "IPY_MODEL_5aa6914662dc4cc79d8470a79f619f7e",
        "Download: 11_knn_results_all_W-THU_normalize=True.pdf"
       ],
       "class_": "",
       "disabled": false,
       "elevation": null,
       "height": null,
       "href": null,
       "layout": null,
       "loading": false,
       "max_height": null,
       "max_width": null,
       "min_height": null,
       "min_width": null,
       "outlined": false,
       "ripple": null,
       "style_": "",
       "text": false,
       "to": null,
       "v_slots": [],
       "width": null
      }
     },
     "c5ded59cadd54424a3f173d4fd12e2ff": {
      "model_module": "jupyter-vuetify",
      "model_module_version": "^1.8.5",
      "model_name": "ColModel",
      "state": {
       "_events": [],
       "_jupyter_vue": "IPY_MODEL_8038606f1e9a48e8a1421575266088cd",
       "attributes": {},
       "children": [
        "IPY_MODEL_03f5676fbafc483fae902f03e4081345"
       ],
       "cols": 12,
       "layout": null,
       "lg": null,
       "md": null,
       "offset": null,
       "offset_lg": null,
       "offset_md": null,
       "offset_sm": null,
       "offset_xl": null,
       "order": null,
       "order_lg": null,
       "order_md": null,
       "order_sm": null,
       "order_xl": null,
       "sm": null,
       "v_slots": [],
       "xl": null
      }
     },
     "c7ea88cc753042af96083d473451f791": {
      "model_module": "@jupyter-widgets/base",
      "model_module_version": "2.0.0",
      "model_name": "LayoutModel",
      "state": {}
     },
     "c82ff107fa2e40b8802fc79e5c8aca98": {
      "model_module": "jupyter-vuetify",
      "model_module_version": "^1.8.5",
      "model_name": "ColModel",
      "state": {
       "_events": [],
       "_jupyter_vue": "IPY_MODEL_8038606f1e9a48e8a1421575266088cd",
       "attributes": {},
       "children": [
        "IPY_MODEL_88c6467202b64c31890d781ddaf7bb6e"
       ],
       "cols": 12,
       "layout": null,
       "lg": null,
       "md": null,
       "offset": null,
       "offset_lg": null,
       "offset_md": null,
       "offset_sm": null,
       "offset_xl": null,
       "order": null,
       "order_lg": null,
       "order_md": null,
       "order_sm": null,
       "order_xl": null,
       "sm": null,
       "v_slots": [],
       "xl": null
      }
     },
     "c9d93cf6b7b6475199567a9c3894325c": {
      "model_module": "jupyter-vuetify",
      "model_module_version": "^1.8.5",
      "model_name": "RowModel",
      "state": {
       "_events": [],
       "_jupyter_vue": "IPY_MODEL_8038606f1e9a48e8a1421575266088cd",
       "attributes": {},
       "children": [
        "IPY_MODEL_938481437192405eb4978c0869bac6da"
       ],
       "class_": "solara-content-main",
       "layout": null,
       "no_gutters": false,
       "v_slots": []
      }
     },
     "ce3b8243cf7444f590afecf64cfb47e5": {
      "model_module": "jupyter-vuetify",
      "model_module_version": "^1.8.5",
      "model_name": "BtnModel",
      "state": {
       "_events": [
        "click"
       ],
       "_jupyter_vue": "IPY_MODEL_8038606f1e9a48e8a1421575266088cd",
       "attributes": {},
       "children": [
        "IPY_MODEL_4acee66e590449df8981bf630bda61a3",
        "Download: 11_knn_usage_window_size_W-THU_normalize=True.pdf"
       ],
       "class_": "",
       "disabled": false,
       "elevation": null,
       "height": null,
       "href": null,
       "layout": null,
       "loading": false,
       "max_height": null,
       "max_width": null,
       "min_height": null,
       "min_width": null,
       "outlined": false,
       "ripple": null,
       "style_": "",
       "text": false,
       "to": null,
       "v_slots": [],
       "width": null
      }
     },
     "ce9888d7dc704d869a70672266e8bd22": {
      "model_module": "jupyter-vuetify",
      "model_module_version": "^1.8.5",
      "model_name": "RowModel",
      "state": {
       "_events": [],
       "_jupyter_vue": "IPY_MODEL_8038606f1e9a48e8a1421575266088cd",
       "attributes": {},
       "children": [
        "IPY_MODEL_b766e8c1a23046cbaac478af22fb7263"
       ],
       "class_": "solara-content-main",
       "layout": null,
       "no_gutters": false,
       "v_slots": []
      }
     },
     "d0180d6376b64033ab73a107afd5dbfd": {
      "model_module": "jupyter-vuetify",
      "model_module_version": "^1.8.5",
      "model_name": "IconModel",
      "state": {
       "_events": [],
       "_jupyter_vue": "IPY_MODEL_8038606f1e9a48e8a1421575266088cd",
       "attributes": {},
       "children": [
        "mdi-cloud-download-outline"
       ],
       "layout": null,
       "left": true,
       "size": null,
       "v_slots": []
      }
     },
     "d0e023b7981442a6a89b789d3e665d83": {
      "model_module": "@jupyter-widgets/base",
      "model_module_version": "2.0.0",
      "model_name": "LayoutModel",
      "state": {}
     },
     "d2aadd25d4d640bc9dcb8aa5bfa8810e": {
      "model_module": "@jupyter-widgets/base",
      "model_module_version": "2.0.0",
      "model_name": "LayoutModel",
      "state": {}
     },
     "d57580d8fa0349efbeb2efd3da6d8932": {
      "model_module": "@jupyter-widgets/controls",
      "model_module_version": "2.0.0",
      "model_name": "VBoxModel",
      "state": {
       "_view_count": 1,
       "children": [
        "IPY_MODEL_b0efb9e6b6644ce3ae6ef1227af82ed3"
       ],
       "layout": "IPY_MODEL_19e1589977df40bbbdcee3d521339146"
      }
     },
     "d9364cadb799405699084429f1ea076f": {
      "model_module": "jupyter-vuetify",
      "model_module_version": "^1.8.10",
      "model_name": "ThemeColorsModel",
      "state": {
       "_model_module_version": "^1.8.10",
       "_theme_name": "light",
       "_view_module": null,
       "_view_module_version": "^1.8.10",
       "accent": "#82B1FF",
       "error": "#FF5252",
       "info": "#2196F3",
       "primary": "#1976D2",
       "secondary": "#424242",
       "success": "#4CAF50",
       "warning": "#FB8C00"
      }
     },
     "d9c4539828ce4f8c926731a3ea97b18e": {
      "model_module": "jupyter-vuetify",
      "model_module_version": "^1.8.5",
      "model_name": "BtnModel",
      "state": {
       "_events": [
        "click"
       ],
       "_jupyter_vue": "IPY_MODEL_8038606f1e9a48e8a1421575266088cd",
       "attributes": {},
       "children": [
        "IPY_MODEL_f16f6174d42d40acb564ea318e83b782",
        "Download: 11_knn_results_k-size_W-THU_normalize=True.pdf"
       ],
       "class_": "",
       "disabled": false,
       "elevation": null,
       "height": null,
       "href": null,
       "layout": null,
       "loading": false,
       "max_height": null,
       "max_width": null,
       "min_height": null,
       "min_width": null,
       "outlined": false,
       "ripple": null,
       "style_": "",
       "text": false,
       "to": null,
       "v_slots": [],
       "width": null
      }
     },
     "dc59cb4e01f34d2a84f31d8deb34746f": {
      "model_module": "jupyter-vuetify",
      "model_module_version": "^1.8.5",
      "model_name": "ColModel",
      "state": {
       "_events": [],
       "_jupyter_vue": "IPY_MODEL_8038606f1e9a48e8a1421575266088cd",
       "attributes": {},
       "children": [
        "IPY_MODEL_ebc4aafb5af444eaaa8fe762fff6021c"
       ],
       "cols": 12,
       "layout": null,
       "lg": null,
       "md": null,
       "offset": null,
       "offset_lg": null,
       "offset_md": null,
       "offset_sm": null,
       "offset_xl": null,
       "order": null,
       "order_lg": null,
       "order_md": null,
       "order_sm": null,
       "order_xl": null,
       "sm": null,
       "v_slots": [],
       "xl": null
      }
     },
     "dc6bbd2b9ffc46dc92eaaf7e81b890dc": {
      "model_module": "jupyter-vuetify",
      "model_module_version": "^1.8.5",
      "model_name": "RowModel",
      "state": {
       "_events": [],
       "_jupyter_vue": "IPY_MODEL_8038606f1e9a48e8a1421575266088cd",
       "attributes": {},
       "children": [
        "IPY_MODEL_9efd98b4cf0a423aaba9d02382ac8a83"
       ],
       "class_": "solara-content-main",
       "layout": null,
       "no_gutters": false,
       "v_slots": []
      }
     },
     "e248f4fe1121493695dc0c30a2d56687": {
      "model_module": "@jupyter-widgets/base",
      "model_module_version": "2.0.0",
      "model_name": "LayoutModel",
      "state": {}
     },
     "e5ac0c3b9e4e48cf9ba6a207fc40b7c4": {
      "model_module": "@jupyter-widgets/base",
      "model_module_version": "2.0.0",
      "model_name": "LayoutModel",
      "state": {}
     },
     "e70eedd02ef3400ba6519992fc96a9de": {
      "model_module": "jupyter-vuetify",
      "model_module_version": "^1.8.10",
      "model_name": "ThemeModel",
      "state": {
       "_model_module_version": "^1.8.10",
       "_view_module": null,
       "_view_module_version": "^1.8.10"
      }
     },
     "e7393dfbd0ce41cfb5256635834dbbfa": {
      "model_module": "@jupyter-widgets/base",
      "model_module_version": "2.0.0",
      "model_name": "LayoutModel",
      "state": {}
     },
     "e8bcafe4077d4e09917cbad24b70a0fc": {
      "model_module": "@jupyter-widgets/base",
      "model_module_version": "2.0.0",
      "model_name": "LayoutModel",
      "state": {}
     },
     "ebc4aafb5af444eaaa8fe762fff6021c": {
      "model_module": "jupyter-vuetify",
      "model_module_version": "^1.8.10",
      "model_name": "VuetifyTemplateModel",
      "state": {
       "_component_instances": [],
       "_jupyter_vue": "IPY_MODEL_8038606f1e9a48e8a1421575266088cd",
       "_model_module_version": "^1.8.10",
       "_view_module_version": "^1.8.10",
       "bytes": null,
       "children": [
        "IPY_MODEL_579151371db843ac831524f84ad41a64"
       ],
       "components": null,
       "events": [],
       "filename": "11_cosine_results_results-lines_W-THU_normalize=True.pdf",
       "layout": "IPY_MODEL_26a01cff4352469f85598a09369fa636",
       "mime_type": "application/octet-stream",
       "request_download": false,
       "template": "IPY_MODEL_480cacf799ab40cb8c9cedf390dfff48"
      }
     },
     "ec3d54f9ef864df0b2abe7416d4d5002": {
      "model_module": "jupyter-vuetify",
      "model_module_version": "^1.8.5",
      "model_name": "RowModel",
      "state": {
       "_events": [],
       "_jupyter_vue": "IPY_MODEL_8038606f1e9a48e8a1421575266088cd",
       "attributes": {},
       "children": [
        "IPY_MODEL_99026865e4f44416983cc148df9c1a59"
       ],
       "class_": "solara-content-main",
       "layout": null,
       "no_gutters": false,
       "v_slots": []
      }
     },
     "ec818f61bd9f4426af13c68b3112937d": {
      "model_module": "@jupyter-widgets/base",
      "model_module_version": "2.0.0",
      "model_name": "LayoutModel",
      "state": {}
     },
     "ecc2ffbb5d3e43c5a839f8ca7ec6bd18": {
      "model_module": "@jupyter-widgets/controls",
      "model_module_version": "2.0.0",
      "model_name": "VBoxModel",
      "state": {
       "_view_count": 2,
       "children": [
        "IPY_MODEL_ed16af5cce124b7aab3ddf89305027ae"
       ],
       "layout": "IPY_MODEL_e7393dfbd0ce41cfb5256635834dbbfa"
      }
     },
     "ed16af5cce124b7aab3ddf89305027ae": {
      "model_module": "jupyter-vuetify",
      "model_module_version": "^1.8.10",
      "model_name": "HtmlModel",
      "state": {
       "_events": [],
       "_jupyter_vue": "IPY_MODEL_8038606f1e9a48e8a1421575266088cd",
       "_model_module_version": "^1.8.10",
       "_view_module_version": "^1.8.10",
       "attributes": {},
       "children": [
        "IPY_MODEL_f21824d90a8145fa82706ef37c0fc9f0"
       ],
       "layout": null,
       "tag": "div",
       "v_slots": []
      }
     },
     "f0ee61f84a474c2eb19315d85747507c": {
      "model_module": "jupyter-vuetify",
      "model_module_version": "^1.8.5",
      "model_name": "IconModel",
      "state": {
       "_events": [],
       "_jupyter_vue": "IPY_MODEL_8038606f1e9a48e8a1421575266088cd",
       "attributes": {},
       "children": [
        "mdi-cloud-download-outline"
       ],
       "layout": null,
       "left": true,
       "size": null,
       "v_slots": []
      }
     },
     "f16f6174d42d40acb564ea318e83b782": {
      "model_module": "jupyter-vuetify",
      "model_module_version": "^1.8.5",
      "model_name": "IconModel",
      "state": {
       "_events": [],
       "_jupyter_vue": "IPY_MODEL_8038606f1e9a48e8a1421575266088cd",
       "attributes": {},
       "children": [
        "mdi-cloud-download-outline"
       ],
       "layout": null,
       "left": true,
       "size": null,
       "v_slots": []
      }
     },
     "f1d3c6e959f546a7945aa400657c8e24": {
      "model_module": "jupyter-vuetify",
      "model_module_version": "^1.8.5",
      "model_name": "ColModel",
      "state": {
       "_events": [],
       "_jupyter_vue": "IPY_MODEL_8038606f1e9a48e8a1421575266088cd",
       "attributes": {},
       "children": [
        "IPY_MODEL_a7d7687b24f04211902e38a473148bf0"
       ],
       "cols": 12,
       "layout": null,
       "lg": null,
       "md": null,
       "offset": null,
       "offset_lg": null,
       "offset_md": null,
       "offset_sm": null,
       "offset_xl": null,
       "order": null,
       "order_lg": null,
       "order_md": null,
       "order_sm": null,
       "order_xl": null,
       "sm": null,
       "v_slots": [],
       "xl": null
      }
     },
     "f21824d90a8145fa82706ef37c0fc9f0": {
      "model_module": "jupyter-vuetify",
      "model_module_version": "^1.8.5",
      "model_name": "RowModel",
      "state": {
       "_events": [],
       "_jupyter_vue": "IPY_MODEL_8038606f1e9a48e8a1421575266088cd",
       "attributes": {},
       "children": [
        "IPY_MODEL_26ebf76d8f0d48e9b0364b199f0668b5"
       ],
       "class_": "solara-content-main",
       "layout": null,
       "no_gutters": false,
       "v_slots": []
      }
     },
     "f68aeb85df6645fd8a744a89a1c15a04": {
      "model_module": "@jupyter-widgets/base",
      "model_module_version": "2.0.0",
      "model_name": "LayoutModel",
      "state": {}
     },
     "f78a8dcc73f84492b29aaad516f0f59c": {
      "model_module": "@jupyter-widgets/base",
      "model_module_version": "2.0.0",
      "model_name": "LayoutModel",
      "state": {}
     },
     "f882bf71010445ed9eca2b0f04a9f6b1": {
      "model_module": "jupyter-vuetify",
      "model_module_version": "^1.8.5",
      "model_name": "RowModel",
      "state": {
       "_events": [],
       "_jupyter_vue": "IPY_MODEL_8038606f1e9a48e8a1421575266088cd",
       "attributes": {},
       "children": [
        "IPY_MODEL_c5ded59cadd54424a3f173d4fd12e2ff"
       ],
       "class_": "solara-content-main",
       "layout": null,
       "no_gutters": false,
       "v_slots": []
      }
     },
     "faa111dc4aa940d0beec2aecc7dbd279": {
      "model_module": "jupyter-vuetify",
      "model_module_version": "^1.8.10",
      "model_name": "VuetifyTemplateModel",
      "state": {
       "_component_instances": [],
       "_jupyter_vue": "IPY_MODEL_8038606f1e9a48e8a1421575266088cd",
       "_model_module_version": "^1.8.10",
       "_view_module_version": "^1.8.10",
       "bytes": null,
       "children": [
        "IPY_MODEL_c2a222746c3645cca056fe694b56b405"
       ],
       "components": null,
       "events": [],
       "filename": "11_knn_results_all_W-THU_normalize=True.pdf",
       "layout": "IPY_MODEL_f78a8dcc73f84492b29aaad516f0f59c",
       "mime_type": "application/octet-stream",
       "request_download": false,
       "template": "IPY_MODEL_480cacf799ab40cb8c9cedf390dfff48"
      }
     }
    },
    "version_major": 2,
    "version_minor": 0
   }
  }
 },
 "nbformat": 4,
 "nbformat_minor": 5
}
